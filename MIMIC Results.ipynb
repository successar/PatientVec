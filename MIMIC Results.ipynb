{
 "cells": [
  {
   "cell_type": "code",
   "execution_count": 1,
   "metadata": {},
   "outputs": [],
   "source": [
    "%load_ext autoreload\n",
    "%autoreload 2"
   ]
  },
  {
   "cell_type": "code",
   "execution_count": 2,
   "metadata": {},
   "outputs": [],
   "source": [
    "import numpy as np\n",
    "from common import *"
   ]
  },
  {
   "cell_type": "code",
   "execution_count": 24,
   "metadata": {},
   "outputs": [],
   "source": [
    "keys = ['roc_auc', 'pr_auc']"
   ]
  },
  {
   "cell_type": "code",
   "execution_count": 25,
   "metadata": {},
   "outputs": [],
   "source": [
    "def filter_results(pattern) :\n",
    "    return yr_df.filter(regex=pattern, axis=0)"
   ]
  },
  {
   "cell_type": "code",
   "execution_count": 75,
   "metadata": {},
   "outputs": [],
   "source": [
    "def get_index(model) :\n",
    "    return yr_df.loc[model]"
   ]
  },
  {
   "cell_type": "code",
   "execution_count": 66,
   "metadata": {},
   "outputs": [
    {
     "data": {
      "text/html": [
       "<table border=\"1\" class=\"dataframe\">\n",
       "  <thead>\n",
       "    <tr style=\"text-align: right;\">\n",
       "      <th></th>\n",
       "      <th>pr_auc</th>\n",
       "      <th>roc_auc</th>\n",
       "    </tr>\n",
       "  </thead>\n",
       "  <tbody>\n",
       "    <tr>\n",
       "      <th>LR+BOW+norm=None</th>\n",
       "      <td>0.678</td>\n",
       "      <td>0.820</td>\n",
       "    </tr>\n",
       "    <tr>\n",
       "      <th>LR+BOW+norm=None+Structured</th>\n",
       "      <td>0.695</td>\n",
       "      <td>0.836</td>\n",
       "    </tr>\n",
       "    <tr>\n",
       "      <th>LR+BOW+norm=l1</th>\n",
       "      <td>0.590</td>\n",
       "      <td>0.770</td>\n",
       "    </tr>\n",
       "    <tr>\n",
       "      <th>LR+BOW+norm=l1+Structured</th>\n",
       "      <td>0.620</td>\n",
       "      <td>0.832</td>\n",
       "    </tr>\n",
       "    <tr>\n",
       "      <th>LR+BOW+norm=l2</th>\n",
       "      <td>0.765</td>\n",
       "      <td>0.882</td>\n",
       "    </tr>\n",
       "    <tr>\n",
       "      <th>LR+BOW+norm=l2+Structured</th>\n",
       "      <td>0.783</td>\n",
       "      <td>0.897</td>\n",
       "    </tr>\n",
       "    <tr>\n",
       "      <th>LR+BinaryBOW+norm=None</th>\n",
       "      <td>0.678</td>\n",
       "      <td>0.820</td>\n",
       "    </tr>\n",
       "    <tr>\n",
       "      <th>LR+BinaryBOW+norm=None+Structured</th>\n",
       "      <td>0.695</td>\n",
       "      <td>0.836</td>\n",
       "    </tr>\n",
       "    <tr>\n",
       "      <th>LR+BinaryBOW+norm=l1</th>\n",
       "      <td>0.590</td>\n",
       "      <td>0.770</td>\n",
       "    </tr>\n",
       "    <tr>\n",
       "      <th>LR+BinaryBOW+norm=l1+Structured</th>\n",
       "      <td>0.620</td>\n",
       "      <td>0.832</td>\n",
       "    </tr>\n",
       "    <tr>\n",
       "      <th>LR+BinaryBOW+norm=l2</th>\n",
       "      <td>0.765</td>\n",
       "      <td>0.882</td>\n",
       "    </tr>\n",
       "    <tr>\n",
       "      <th>LR+BinaryBOW+norm=l2+Structured</th>\n",
       "      <td>0.783</td>\n",
       "      <td>0.897</td>\n",
       "    </tr>\n",
       "    <tr>\n",
       "      <th>LR+LDA+norm=None</th>\n",
       "      <td>0.325</td>\n",
       "      <td>0.500</td>\n",
       "    </tr>\n",
       "    <tr>\n",
       "      <th>LR+LDA+norm=None+Structured</th>\n",
       "      <td>0.646</td>\n",
       "      <td>0.753</td>\n",
       "    </tr>\n",
       "    <tr>\n",
       "      <th>LR+LDA+norm=l2</th>\n",
       "      <td>0.325</td>\n",
       "      <td>0.500</td>\n",
       "    </tr>\n",
       "    <tr>\n",
       "      <th>LR+LDA+norm=l2+Structured</th>\n",
       "      <td>0.646</td>\n",
       "      <td>0.753</td>\n",
       "    </tr>\n",
       "    <tr>\n",
       "      <th>LR+Structured</th>\n",
       "      <td>0.612</td>\n",
       "      <td>0.826</td>\n",
       "    </tr>\n",
       "    <tr>\n",
       "      <th>LR+TFIDF+norm=None</th>\n",
       "      <td>0.673</td>\n",
       "      <td>0.816</td>\n",
       "    </tr>\n",
       "    <tr>\n",
       "      <th>LR+TFIDF+norm=None+Structured</th>\n",
       "      <td>0.685</td>\n",
       "      <td>0.829</td>\n",
       "    </tr>\n",
       "    <tr>\n",
       "      <th>LR+TFIDF+norm=l1</th>\n",
       "      <td>0.582</td>\n",
       "      <td>0.777</td>\n",
       "    </tr>\n",
       "    <tr>\n",
       "      <th>LR+TFIDF+norm=l1+Structured</th>\n",
       "      <td>0.623</td>\n",
       "      <td>0.832</td>\n",
       "    </tr>\n",
       "    <tr>\n",
       "      <th>LR+TFIDF+norm=l2</th>\n",
       "      <td>0.768</td>\n",
       "      <td>0.884</td>\n",
       "    </tr>\n",
       "    <tr>\n",
       "      <th>LR+TFIDF+norm=l2+Structured</th>\n",
       "      <td>0.786</td>\n",
       "      <td>0.899</td>\n",
       "    </tr>\n",
       "  </tbody>\n",
       "</table>"
      ],
      "text/plain": [
       "<IPython.core.display.HTML object>"
      ]
     },
     "metadata": {},
     "output_type": "display_data"
    },
    {
     "data": {
      "text/html": [
       "<table border=\"1\" class=\"dataframe\">\n",
       "  <thead>\n",
       "    <tr style=\"text-align: right;\">\n",
       "      <th></th>\n",
       "      <th>pr_auc</th>\n",
       "      <th>roc_auc</th>\n",
       "    </tr>\n",
       "  </thead>\n",
       "  <tbody>\n",
       "    <tr>\n",
       "      <th>Average(hs=256)</th>\n",
       "      <td>0.695</td>\n",
       "      <td>0.866</td>\n",
       "    </tr>\n",
       "    <tr>\n",
       "      <th>Average(hs=256)+Structured</th>\n",
       "      <td>0.707</td>\n",
       "      <td>0.866</td>\n",
       "    </tr>\n",
       "    <tr>\n",
       "      <th>Average(hs=256)+Attention(additive)(hs=128)</th>\n",
       "      <td>0.747</td>\n",
       "      <td>0.880</td>\n",
       "    </tr>\n",
       "    <tr>\n",
       "      <th>Average(hs=256)+Attention(additive)(hs=128)+Structured</th>\n",
       "      <td>0.776</td>\n",
       "      <td>0.895</td>\n",
       "    </tr>\n",
       "    <tr>\n",
       "      <th>Average(hs=256)+Attention(additive)(all)(hs=128)</th>\n",
       "      <td>0.784</td>\n",
       "      <td>0.901</td>\n",
       "    </tr>\n",
       "    <tr>\n",
       "      <th>Average(hs=256)+Attention(additive)(all)(hs=128)+Structured</th>\n",
       "      <td>0.778</td>\n",
       "      <td>0.897</td>\n",
       "    </tr>\n",
       "  </tbody>\n",
       "</table>"
      ],
      "text/plain": [
       "<IPython.core.display.HTML object>"
      ]
     },
     "metadata": {},
     "output_type": "display_data"
    },
    {
     "data": {
      "text/html": [
       "<table border=\"1\" class=\"dataframe\">\n",
       "  <thead>\n",
       "    <tr style=\"text-align: right;\">\n",
       "      <th></th>\n",
       "      <th>pr_auc</th>\n",
       "      <th>roc_auc</th>\n",
       "    </tr>\n",
       "  </thead>\n",
       "  <tbody>\n",
       "    <tr>\n",
       "      <th>CNN(hs=64)(kernels=3,5,7,9)</th>\n",
       "      <td>0.742</td>\n",
       "      <td>0.875</td>\n",
       "    </tr>\n",
       "    <tr>\n",
       "      <th>CNN(hs=64)(kernels=3,5,7,9)+Structured</th>\n",
       "      <td>0.765</td>\n",
       "      <td>0.889</td>\n",
       "    </tr>\n",
       "    <tr>\n",
       "      <th>CNN(hs=64)(kernels=3,5,7,9)+Attention(additive)(hs=128)</th>\n",
       "      <td>0.758</td>\n",
       "      <td>0.882</td>\n",
       "    </tr>\n",
       "    <tr>\n",
       "      <th>CNN(hs=64)(kernels=3,5,7,9)+Attention(additive)(hs=128)+Structured</th>\n",
       "      <td>0.783</td>\n",
       "      <td>0.898</td>\n",
       "    </tr>\n",
       "    <tr>\n",
       "      <th>CNN(hs=64)(kernels=3,5,7,9)+Attention(additive)(all)(hs=128)</th>\n",
       "      <td>0.787</td>\n",
       "      <td>0.902</td>\n",
       "    </tr>\n",
       "    <tr>\n",
       "      <th>CNN(hs=64)(kernels=3,5,7,9)+Attention(additive)(all)(hs=128)+Structured</th>\n",
       "      <td>0.787</td>\n",
       "      <td>0.900</td>\n",
       "    </tr>\n",
       "  </tbody>\n",
       "</table>"
      ],
      "text/plain": [
       "<IPython.core.display.HTML object>"
      ]
     },
     "metadata": {},
     "output_type": "display_data"
    },
    {
     "data": {
      "text/html": [
       "<table border=\"1\" class=\"dataframe\">\n",
       "  <thead>\n",
       "    <tr style=\"text-align: right;\">\n",
       "      <th></th>\n",
       "      <th>pr_auc</th>\n",
       "      <th>roc_auc</th>\n",
       "    </tr>\n",
       "  </thead>\n",
       "  <tbody>\n",
       "    <tr>\n",
       "      <th>LSTM(hs=128)</th>\n",
       "      <td>0.766</td>\n",
       "      <td>0.880</td>\n",
       "    </tr>\n",
       "    <tr>\n",
       "      <th>LSTM(hs=128)+Structured</th>\n",
       "      <td>0.710</td>\n",
       "      <td>0.863</td>\n",
       "    </tr>\n",
       "    <tr>\n",
       "      <th>LSTM(hs=128)+Attention(additive)(hs=128)</th>\n",
       "      <td>0.767</td>\n",
       "      <td>0.887</td>\n",
       "    </tr>\n",
       "    <tr>\n",
       "      <th>LSTM(hs=128)+Attention(additive)(hs=128)+Structured</th>\n",
       "      <td>0.781</td>\n",
       "      <td>0.898</td>\n",
       "    </tr>\n",
       "    <tr>\n",
       "      <th>LSTM(hs=128)+Attention(additive)(all)(hs=128)</th>\n",
       "      <td>0.786</td>\n",
       "      <td>0.900</td>\n",
       "    </tr>\n",
       "    <tr>\n",
       "      <th>LSTM(hs=128)+Attention(additive)(all)(hs=128)+Structured</th>\n",
       "      <td>0.786</td>\n",
       "      <td>0.900</td>\n",
       "    </tr>\n",
       "  </tbody>\n",
       "</table>"
      ],
      "text/plain": [
       "<IPython.core.display.HTML object>"
      ]
     },
     "metadata": {},
     "output_type": "display_data"
    },
    {
     "data": {
      "text/html": [
       "<table border=\"1\" class=\"dataframe\">\n",
       "  <thead>\n",
       "    <tr style=\"text-align: right;\">\n",
       "      <th></th>\n",
       "      <th>pr_auc</th>\n",
       "      <th>roc_auc</th>\n",
       "    </tr>\n",
       "  </thead>\n",
       "  <tbody>\n",
       "    <tr>\n",
       "      <th>SRU(hs=128)</th>\n",
       "      <td>0.665</td>\n",
       "      <td>0.826</td>\n",
       "    </tr>\n",
       "    <tr>\n",
       "      <th>SRU(hs=128)+Structured</th>\n",
       "      <td>0.678</td>\n",
       "      <td>0.850</td>\n",
       "    </tr>\n",
       "    <tr>\n",
       "      <th>SRU(hs=128)+Attention(additive)(hs=128)+Structured</th>\n",
       "      <td>0.782</td>\n",
       "      <td>0.900</td>\n",
       "    </tr>\n",
       "  </tbody>\n",
       "</table>"
      ],
      "text/plain": [
       "<IPython.core.display.HTML object>"
      ]
     },
     "metadata": {},
     "output_type": "display_data"
    }
   ],
   "source": [
    "yr_df = []\n",
    "for model in ['baselines', 'Basic', 'Attention', 'Structured Attention', 'Hierarchical Attention'] :\n",
    "    name = os.path.join('outputs/Mortality_1yr', model)\n",
    "    if os.path.exists(name) :\n",
    "        dirs = os.listdir(name)\n",
    "        dfs = {}\n",
    "        for d in sorted(dirs) :\n",
    "            dirname = os.path.join(name, d)\n",
    "            model_name = get_latest_model(dirname)\n",
    "            if model_name is not None :\n",
    "                df = json.load(open(os.path.join(model_name, 'evaluate.json')))\n",
    "                dfs[d] = {k:v for k, v in df.items() if k in keys}\n",
    "\n",
    "        dfs = pd.DataFrame(dfs).transpose()\n",
    "        yr_df += [dfs]\n",
    "        \n",
    "yr_df = pd.concat(yr_df, axis=0).round(3)\n",
    "display(HTML(filter_results('LR+').to_html()))\n",
    "display(HTML(filter_results('Average+').to_html()))\n",
    "display(HTML(filter_results('CNN+').to_html()))\n",
    "display(HTML(filter_results('LSTM+').to_html()))\n",
    "display(HTML(filter_results('SRU+').to_html()))"
   ]
  },
  {
   "cell_type": "code",
   "execution_count": 80,
   "metadata": {},
   "outputs": [],
   "source": [
    "import matplotlib.pyplot as plt\n",
    "lr_roc = get_index('LR+BOW+norm=l2+Structured')['roc_auc']\n",
    "lstm_roc = get_index('LSTM(hs=128)+Structured')['roc_auc']\n",
    "attn_roc = get_index('LSTM(hs=128)+Attention(additive)(hs=128)+Structured')['roc_auc']"
   ]
  },
  {
   "cell_type": "code",
   "execution_count": 82,
   "metadata": {},
   "outputs": [
    {
     "data": {
      "text/plain": [
       "<matplotlib.axes._subplots.AxesSubplot at 0x7f5dff680a20>"
      ]
     },
     "execution_count": 82,
     "metadata": {},
     "output_type": "execute_result"
    },
    {
     "data": {
      "image/png": "[encoded data removed]",
      "text/plain": [
       "<Figure size 432x288 with 1 Axes>"
      ]
     },
     "metadata": {
      "needs_background": "light"
     },
     "output_type": "display_data"
    }
   ],
   "source": [
    "import seaborn as sns\n",
    "sns.barplot(x=['lr', 'lstm', 'attention'], y=[lr_roc, lstm_roc, attn_roc])"
   ]
  },
  {
   "cell_type": "code",
   "execution_count": null,
   "metadata": {},
   "outputs": [],
   "source": []
  }
 ],
 "metadata": {
  "kernelspec": {
   "display_name": "Python 3",
   "language": "python",
   "name": "python3"
  },
  "language_info": {
   "codemirror_mode": {
    "name": "ipython",
    "version": 3
   },
   "file_extension": ".py",
   "mimetype": "text/x-python",
   "name": "python",
   "nbconvert_exporter": "python",
   "pygments_lexer": "ipython3",
   "version": "3.6.7"
  }
 },
 "nbformat": 4,
 "nbformat_minor": 2
}
