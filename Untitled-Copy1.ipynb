{
 "cells": [
  {
   "cell_type": "code",
   "execution_count": null,
   "metadata": {},
   "outputs": [],
   "source": [
    "%run \"Discovery Experiments\"/run_models.py --dataset readmission --exp_types pretrained --data_dir='.' --output_dir='outputs/' --display"
   ]
  },
  {
   "cell_type": "code",
   "execution_count": null,
   "metadata": {},
   "outputs": [],
   "source": [
    "%run \"Discovery Experiments\"/n_times.py --data_dir='.' --output_dir='outputs' --display --n=500\n",
    "%run \"Discovery Experiments\"/n_times.py --data_dir='.' --output_dir='outputs' --display --n=1000\n",
    "%run \"Discovery Experiments\"/n_times.py --data_dir='.' --output_dir='outputs' --display --n=3000\n",
    "%run \"Discovery Experiments\"/n_times.py --data_dir='.' --output_dir='outputs' --display --n=5000\n",
    "%run \"Discovery Experiments\"/n_times.py --data_dir='.' --output_dir='outputs' --display --n=7000\n",
    "%run \"Discovery Experiments\"/n_times.py --data_dir='.' --output_dir='outputs' --display --n=9000"
   ]
  },
  {
   "cell_type": "code",
   "execution_count": null,
   "metadata": {},
   "outputs": [],
   "source": [
    "%run \"Discovery Experiments\"/Replicate.py --data_dir='.' --dataset readmission --alpha 0.3 --output_dir='outputs' --structured --exp_types vanilla --display"
   ]
  },
  {
   "cell_type": "code",
   "execution_count": null,
   "metadata": {},
   "outputs": [],
   "source": [
    "%run \"Discovery Experiments\"/Replicate.py --data_dir='.' --dataset mortality_30day --alpha 0.3 --output_dir='outputs' --structured --exp_types vanilla --display"
   ]
  },
  {
   "cell_type": "code",
   "execution_count": null,
   "metadata": {},
   "outputs": [],
   "source": [
    "%run \"Discovery Experiments\"/Replicate.py --data_dir='.' --dataset diagnosis --alpha 0.3 --output_dir='outputs' --structured --exp_types vanilla --display"
   ]
  },
  {
   "cell_type": "code",
   "execution_count": null,
   "metadata": {},
   "outputs": [],
   "source": [
    "%run \"Discovery Experiments\"/Replicate.py --data_dir='.' --dataset mortality_1yr --alpha 0.3 --output_dir='outputs' --structured --exp_types vanilla --display"
   ]
  },
  {
   "cell_type": "code",
   "execution_count": 1,
   "metadata": {},
   "outputs": [
    {
     "name": "stdout",
     "output_type": "stream",
     "text": [
      "Better speed can be achieved with apex installed from https://www.github.com/nvidia/apex.\n"
     ]
    },
    {
     "name": "stderr",
     "output_type": "stream",
     "text": [
      "INFO - 2019-03-25 16:38:46,512 - Reading Structured data ...\n",
      "INFO - 2019-03-25 16:38:46,784 - Reading Notes ...\n",
      "INFO - 2019-03-25 16:38:58,912 - Stratifying ...\n"
     ]
    },
    {
     "name": "stdout",
     "output_type": "stream",
     "text": [
      "Pos Percentage [0.19738451]\n"
     ]
    },
    {
     "name": "stderr",
     "output_type": "stream",
     "text": [
      "INFO - 2019-03-25 16:39:03,825 - Maximum Sentence Length 721825.000000 , 90 percentile length 18689.000000 ... \n",
      "INFO - 2019-03-25 16:39:18,187 - Truncated all ...\n",
      "INFO - 2019-03-25 16:39:18,230 - Idxs removed [1249]...\n"
     ]
    },
    {
     "name": "stdout",
     "output_type": "stream",
     "text": [
      "Pos Percentage [0.20937082]\n"
     ]
    },
    {
     "name": "stderr",
     "output_type": "stream",
     "text": [
      "INFO - 2019-03-25 16:39:19,421 - Maximum Sentence Length 588265.000000 , 90 percentile length 19174.000000 ... \n",
      "INFO - 2019-03-25 16:39:21,784 - Truncated all ...\n",
      "INFO - 2019-03-25 16:39:21,796 - Idxs removed []...\n",
      "INFO - 2019-03-25 16:39:21,865 - instantiating class <class 'PatientVec.models.Model.Model'> from params {'type': 'hierarchical_classifier_with_attention', 'embedder': {'type': 'token_embedder', 'vocab_size': 32246, 'embed_size': 200, 'embedding_file': './preprocess/Readmission/embedding_matrix.npy'}, 'decoder': {'num_layers': 2, 'hidden_dims': [128, 1], 'activations': ['tanh', 'linear']}, 'predictor': {'type': 'binary'}, 'structured': {'use_structured': False}, 'word_encoder': {'type': 'lstm', 'hidden_size': 128}, 'word_attention': {'similarity': {'type': 'additive', 'hidden_size': 128}}, 'sentence_encoder': {'type': 'lstm', 'hidden_size': 128}, 'sentence_attention': {'similarity': {'type': 'additive', 'hidden_size': 128}}} and extras {}\n",
      "INFO - 2019-03-25 16:39:21,866 - type = hierarchical_classifier_with_attention\n",
      "INFO - 2019-03-25 16:39:21,867 - instantiating class <class 'PatientVec.models.modules.Embedder.Embedder'> from params {'type': 'token_embedder', 'vocab_size': 32246, 'embed_size': 200, 'embedding_file': './preprocess/Readmission/embedding_matrix.npy'} and extras {}\n",
      "INFO - 2019-03-25 16:39:21,868 - embedder.type = token_embedder\n",
      "INFO - 2019-03-25 16:39:21,869 - instantiating class <class 'PatientVec.models.modules.Embedder.TokenEmbedder'> from params {'vocab_size': 32246, 'embed_size': 200, 'embedding_file': './preprocess/Readmission/embedding_matrix.npy'} and extras {}\n",
      "INFO - 2019-03-25 16:39:21,919 - embedder.vocab_size = 32246\n",
      "INFO - 2019-03-25 16:39:21,919 - embedder.embed_size = 200\n",
      "INFO - 2019-03-25 16:39:21,920 - embedder.embedding_file = ./preprocess/Readmission/embedding_matrix.npy\n",
      "INFO - 2019-03-25 16:39:21,938 - instantiating class <class 'PatientVec.models.modules.Encoder.Encoder'> from params {'type': 'lstm', 'hidden_size': 128} and extras {'input_size': 200}\n",
      "INFO - 2019-03-25 16:39:21,939 - word_encoder.type = lstm\n",
      "INFO - 2019-03-25 16:39:21,939 - instantiating class <class 'PatientVec.models.modules.Encoder.wrap_pytorch_rnn.<locals>.BiRNNEncoder'> from params {'hidden_size': 128} and extras {'input_size': 200}\n",
      "INFO - 2019-03-25 16:39:21,939 - word_encoder.hidden_size = 128\n",
      "INFO - 2019-03-25 16:39:21,942 - instantiating class <class 'PatientVec.models.modules.SelfAttention.SelfAttention'> from params {'similarity': {'type': 'additive', 'hidden_size': 128, 'tensor_1_dim': 256}} and extras {}\n",
      "INFO - 2019-03-25 16:39:21,942 - instantiating class <class 'PatientVec.models.modules.UniSimilarity.UniSimilarity'> from params {'type': 'additive', 'hidden_size': 128, 'tensor_1_dim': 256} and extras {}\n",
      "INFO - 2019-03-25 16:39:21,942 - word_attention.similarity.type = additive\n",
      "INFO - 2019-03-25 16:39:21,942 - instantiating class <class 'PatientVec.models.modules.UniSimilarity.UniAdditiveSimilarity'> from params {'hidden_size': 128, 'tensor_1_dim': 256} and extras {}\n",
      "INFO - 2019-03-25 16:39:21,943 - word_attention.similarity.tensor_1_dim = 256\n",
      "INFO - 2019-03-25 16:39:21,943 - word_attention.similarity.hidden_size = 128\n",
      "INFO - 2019-03-25 16:39:21,943 - word_attention.similarity.output_size = 1\n",
      "INFO - 2019-03-25 16:39:21,945 - word_attention.normaliser = softmax\n",
      "INFO - 2019-03-25 16:39:21,945 - instantiating class <class 'PatientVec.models.modules.Encoder.Encoder'> from params {'type': 'lstm', 'hidden_size': 128} and extras {'input_size': 256}\n",
      "INFO - 2019-03-25 16:39:21,945 - sentence_encoder.type = lstm\n",
      "INFO - 2019-03-25 16:39:21,945 - instantiating class <class 'PatientVec.models.modules.Encoder.wrap_pytorch_rnn.<locals>.BiRNNEncoder'> from params {'hidden_size': 128} and extras {'input_size': 256}\n",
      "INFO - 2019-03-25 16:39:21,946 - sentence_encoder.hidden_size = 128\n",
      "INFO - 2019-03-25 16:39:21,948 - instantiating class <class 'PatientVec.models.modules.SelfAttention.SelfAttention'> from params {'similarity': {'type': 'additive', 'hidden_size': 128, 'tensor_1_dim': 256}} and extras {}\n",
      "INFO - 2019-03-25 16:39:21,948 - instantiating class <class 'PatientVec.models.modules.UniSimilarity.UniSimilarity'> from params {'type': 'additive', 'hidden_size': 128, 'tensor_1_dim': 256} and extras {}\n",
      "INFO - 2019-03-25 16:39:21,948 - sentence_attention.similarity.type = additive\n",
      "INFO - 2019-03-25 16:39:21,949 - instantiating class <class 'PatientVec.models.modules.UniSimilarity.UniAdditiveSimilarity'> from params {'hidden_size': 128, 'tensor_1_dim': 256} and extras {}\n",
      "INFO - 2019-03-25 16:39:21,949 - sentence_attention.similarity.tensor_1_dim = 256\n",
      "INFO - 2019-03-25 16:39:21,949 - sentence_attention.similarity.hidden_size = 128\n",
      "INFO - 2019-03-25 16:39:21,949 - sentence_attention.similarity.output_size = 1\n",
      "INFO - 2019-03-25 16:39:21,950 - sentence_attention.normaliser = softmax\n",
      "INFO - 2019-03-25 16:39:21,951 - decoder.input_dim = 256\n",
      "INFO - 2019-03-25 16:39:21,951 - decoder.num_layers = 2\n",
      "INFO - 2019-03-25 16:39:21,951 - decoder.hidden_dims = [128, 1]\n",
      "INFO - 2019-03-25 16:39:21,951 - decoder.activations = ['tanh', 'linear']\n",
      "INFO - 2019-03-25 16:39:21,952 - decoder.dropout = 0.0\n",
      "INFO - 2019-03-25 16:39:21,953 - instantiating class <class 'PatientVec.models.modules.Predictor.Predictor'> from params {'type': 'binary'} and extras {}\n",
      "INFO - 2019-03-25 16:39:21,953 - predictor.type = binary\n",
      "INFO - 2019-03-25 16:39:21,953 - instantiating class <class 'PatientVec.models.modules.Predictor.Binary_Predictor'> from params {} and extras {}\n",
      "INFO - 2019-03-25 16:39:21,954 - predictor.replicate = False\n",
      "INFO - 2019-03-25 16:39:21,954 - predictor.alpha = 0.5\n"
     ]
    },
    {
     "name": "stdout",
     "output_type": "stream",
     "text": [
      "{'model': {'type': 'hierarchical_classifier_with_attention', 'embedder': {'type': 'token_embedder', 'vocab_size': 32246, 'embed_size': 200, 'embedding_file': './preprocess/Readmission/embedding_matrix.npy'}, 'decoder': {'num_layers': 2, 'hidden_dims': [128, 1], 'activations': ['tanh', 'linear']}, 'predictor': {'type': 'binary'}, 'structured': {'use_structured': False}, 'word_encoder': {'type': 'lstm', 'hidden_size': 128}, 'word_attention': {'similarity': {'type': 'additive', 'hidden_size': 128}}, 'sentence_encoder': {'type': 'lstm', 'hidden_size': 128}, 'sentence_attention': {'similarity': {'type': 'additive', 'hidden_size': 128}}}, 'training_config': {'type': 'Adam', 'groups': [('.*', {'lr': 0.0001, 'weight_decay': 1e-05})], 'common': {'bsize': 16, 'class_weight': True}}, 'exp_config': {'exp_name': 'Readmission/Hierarchical Attention/LSTM(hs=128)+Attention(additive)(hs=128)+LSTM(hs=128)+Attention(additive)(hs=128)', 'basepath': 'outputs'}}\n",
      "Setting Embedding\n"
     ]
    },
    {
     "data": {
      "application/vnd.jupyter.widget-view+json": {
       "model_id": "da2d4466344f4ceeb6b77952ee4f290c",
       "version_major": 2,
       "version_minor": 0
      },
      "text/plain": [
       "HBox(children=(IntProgress(value=0, max=10), HTML(value='')))"
      ]
     },
     "metadata": {},
     "output_type": "display_data"
    },
    {
     "data": {
      "application/vnd.jupyter.widget-view+json": {
       "model_id": "b277bfb0849f43689e0f1c9e4248c7e9",
       "version_major": 2,
       "version_minor": 0
      },
      "text/plain": [
       "HBox(children=(IntProgress(value=0, max=1840), HTML(value='')))"
      ]
     },
     "metadata": {},
     "output_type": "display_data"
    },
    {
     "data": {
      "application/vnd.jupyter.widget-view+json": {
       "model_id": "2510b9be2f074e99a80b821ed290598e",
       "version_major": 2,
       "version_minor": 0
      },
      "text/plain": [
       "HBox(children=(IntProgress(value=0, max=467), HTML(value='')))"
      ]
     },
     "metadata": {},
     "output_type": "display_data"
    },
    {
     "name": "stdout",
     "output_type": "stream",
     "text": [
      "\n"
     ]
    },
    {
     "name": "stderr",
     "output_type": "stream",
     "text": [
      "/home/sarthak/anaconda3/lib/python3.7/site-packages/sklearn/metrics/classification.py:1143: UndefinedMetricWarning: Precision and F-score are ill-defined and being set to 0.0 in labels with no predicted samples.\n",
      "  'precision', 'predicted', average, warn_for)\n"
     ]
    },
    {
     "ename": "ValueError",
     "evalue": "Input contains NaN, infinity or a value too large for dtype('float32').",
     "output_type": "error",
     "traceback": [
      "\u001b[0;31m---------------------------------------------------------------------------\u001b[0m",
      "\u001b[0;31mValueError\u001b[0m                                Traceback (most recent call last)",
      "\u001b[0;32m~/gil/PatientVec/Discovery Experiments/run_models.py\u001b[0m in \u001b[0;36m<module>\u001b[0;34m\u001b[0m\n\u001b[1;32m     16\u001b[0m \u001b[0mdata\u001b[0m \u001b[0;34m=\u001b[0m \u001b[0mdataloaders\u001b[0m\u001b[0;34m.\u001b[0m\u001b[0mdataloaders\u001b[0m\u001b[0;34m[\u001b[0m\u001b[0margs\u001b[0m\u001b[0;34m.\u001b[0m\u001b[0mdataset\u001b[0m\u001b[0;34m]\u001b[0m\u001b[0;34m(\u001b[0m\u001b[0margs\u001b[0m\u001b[0;34m)\u001b[0m\u001b[0;34m\u001b[0m\u001b[0;34m\u001b[0m\u001b[0m\n\u001b[1;32m     17\u001b[0m \u001b[0;32mfor\u001b[0m \u001b[0mexp_type\u001b[0m \u001b[0;32min\u001b[0m \u001b[0margs\u001b[0m\u001b[0;34m.\u001b[0m\u001b[0mexp_types\u001b[0m \u001b[0;34m:\u001b[0m\u001b[0;34m\u001b[0m\u001b[0;34m\u001b[0m\u001b[0m\n\u001b[0;32m---> 18\u001b[0;31m     \u001b[0mexperiment_types\u001b[0m\u001b[0;34m[\u001b[0m\u001b[0mexp_type\u001b[0m\u001b[0;34m]\u001b[0m\u001b[0;34m(\u001b[0m\u001b[0mdata\u001b[0m\u001b[0;34m,\u001b[0m \u001b[0margs\u001b[0m\u001b[0;34m)\u001b[0m\u001b[0;34m\u001b[0m\u001b[0;34m\u001b[0m\u001b[0m\n\u001b[0m",
      "\u001b[0;32m~/gil/PatientVec/Experiments/hyperparam_exps.py\u001b[0m in \u001b[0;36mhierarchical_experiments\u001b[0;34m(data, args)\u001b[0m\n\u001b[1;32m    121\u001b[0m \u001b[0;34m\u001b[0m\u001b[0m\n\u001b[1;32m    122\u001b[0m         \u001b[0mtrainer\u001b[0m \u001b[0;34m=\u001b[0m \u001b[0mTrainer\u001b[0m\u001b[0;34m(\u001b[0m\u001b[0mHierCT\u001b[0m\u001b[0;34m,\u001b[0m \u001b[0mconfig\u001b[0m\u001b[0;34m,\u001b[0m \u001b[0m_type\u001b[0m\u001b[0;34m=\u001b[0m\u001b[0mdata\u001b[0m\u001b[0;34m.\u001b[0m\u001b[0mmetrics_type\u001b[0m\u001b[0;34m,\u001b[0m \u001b[0mdisplay_metrics\u001b[0m\u001b[0;34m=\u001b[0m\u001b[0margs\u001b[0m\u001b[0;34m.\u001b[0m\u001b[0mdisplay\u001b[0m\u001b[0;34m)\u001b[0m\u001b[0;34m\u001b[0m\u001b[0;34m\u001b[0m\u001b[0m\n\u001b[0;32m--> 123\u001b[0;31m         \u001b[0mtrainer\u001b[0m\u001b[0;34m.\u001b[0m\u001b[0mtrain\u001b[0m\u001b[0;34m(\u001b[0m\u001b[0mtrain_data\u001b[0m\u001b[0;34m,\u001b[0m \u001b[0mdev_data\u001b[0m\u001b[0;34m,\u001b[0m \u001b[0mn_iters\u001b[0m\u001b[0;34m=\u001b[0m\u001b[0;36m10\u001b[0m\u001b[0;34m,\u001b[0m \u001b[0msave_on_metric\u001b[0m\u001b[0;34m=\u001b[0m\u001b[0mdata\u001b[0m\u001b[0;34m.\u001b[0m\u001b[0msave_on_metric\u001b[0m\u001b[0;34m)\u001b[0m\u001b[0;34m\u001b[0m\u001b[0;34m\u001b[0m\u001b[0m\n\u001b[0m\u001b[1;32m    124\u001b[0m \u001b[0;34m\u001b[0m\u001b[0m\n\u001b[1;32m    125\u001b[0m         \u001b[0mevaluator\u001b[0m \u001b[0;34m=\u001b[0m \u001b[0mEvaluator\u001b[0m\u001b[0;34m(\u001b[0m\u001b[0mHierCT\u001b[0m\u001b[0;34m,\u001b[0m \u001b[0mtrainer\u001b[0m\u001b[0;34m.\u001b[0m\u001b[0mmodel\u001b[0m\u001b[0;34m.\u001b[0m\u001b[0mdirname\u001b[0m\u001b[0;34m,\u001b[0m \u001b[0m_type\u001b[0m\u001b[0;34m=\u001b[0m\u001b[0mdata\u001b[0m\u001b[0;34m.\u001b[0m\u001b[0mmetrics_type\u001b[0m\u001b[0;34m,\u001b[0m \u001b[0mdisplay_metrics\u001b[0m\u001b[0;34m=\u001b[0m\u001b[0margs\u001b[0m\u001b[0;34m.\u001b[0m\u001b[0mdisplay\u001b[0m\u001b[0;34m)\u001b[0m\u001b[0;34m\u001b[0m\u001b[0;34m\u001b[0m\u001b[0m\n",
      "\u001b[0;32m~/gil/PatientVec/trainer.py\u001b[0m in \u001b[0;36mtrain\u001b[0;34m(self, train_data, test_data, n_iters, save_on_metric)\u001b[0m\n\u001b[1;32m     22\u001b[0m             \u001b[0moutputs\u001b[0m \u001b[0;34m=\u001b[0m \u001b[0mself\u001b[0m\u001b[0;34m.\u001b[0m\u001b[0mmodel\u001b[0m\u001b[0;34m.\u001b[0m\u001b[0mevaluate\u001b[0m\u001b[0;34m(\u001b[0m\u001b[0mtest_data\u001b[0m\u001b[0;34m)\u001b[0m\u001b[0;34m\u001b[0m\u001b[0;34m\u001b[0m\u001b[0m\n\u001b[1;32m     23\u001b[0m             \u001b[0mpredictions\u001b[0m \u001b[0;34m=\u001b[0m \u001b[0mnp\u001b[0m\u001b[0;34m.\u001b[0m\u001b[0marray\u001b[0m\u001b[0;34m(\u001b[0m\u001b[0moutputs\u001b[0m\u001b[0;34m[\u001b[0m\u001b[0;34m\"predictions\"\u001b[0m\u001b[0;34m]\u001b[0m\u001b[0;34m)\u001b[0m\u001b[0;34m\u001b[0m\u001b[0;34m\u001b[0m\u001b[0m\n\u001b[0;32m---> 24\u001b[0;31m             \u001b[0mtest_metrics\u001b[0m \u001b[0;34m=\u001b[0m \u001b[0mself\u001b[0m\u001b[0;34m.\u001b[0m\u001b[0mmetrics\u001b[0m\u001b[0;34m(\u001b[0m\u001b[0mtest_data\u001b[0m\u001b[0;34m.\u001b[0m\u001b[0my\u001b[0m\u001b[0;34m,\u001b[0m \u001b[0mpredictions\u001b[0m\u001b[0;34m)\u001b[0m\u001b[0;34m\u001b[0m\u001b[0;34m\u001b[0m\u001b[0m\n\u001b[0m\u001b[1;32m     25\u001b[0m             \u001b[0;32mif\u001b[0m \u001b[0mself\u001b[0m\u001b[0;34m.\u001b[0m\u001b[0mdisplay_metrics\u001b[0m \u001b[0;34m:\u001b[0m\u001b[0;34m\u001b[0m\u001b[0;34m\u001b[0m\u001b[0m\n\u001b[1;32m     26\u001b[0m                 \u001b[0mprint_metrics\u001b[0m\u001b[0;34m(\u001b[0m\u001b[0mtest_metrics\u001b[0m\u001b[0;34m)\u001b[0m\u001b[0;34m\u001b[0m\u001b[0;34m\u001b[0m\u001b[0m\n",
      "\u001b[0;32m~/gil/PatientVec/metrics.py\u001b[0m in \u001b[0;36mcalc_metrics_classification\u001b[0;34m(target, predictions)\u001b[0m\n\u001b[1;32m     16\u001b[0m     \u001b[0mrep\u001b[0m\u001b[0;34m.\u001b[0m\u001b[0mupdate\u001b[0m\u001b[0;34m(\u001b[0m\u001b[0;34m{\u001b[0m\u001b[0;34m'accuracy'\u001b[0m \u001b[0;34m:\u001b[0m \u001b[0maccuracy_score\u001b[0m\u001b[0;34m(\u001b[0m\u001b[0mtarget\u001b[0m\u001b[0;34m,\u001b[0m \u001b[0mpredict_classes\u001b[0m\u001b[0;34m)\u001b[0m\u001b[0;34m}\u001b[0m\u001b[0;34m)\u001b[0m\u001b[0;34m\u001b[0m\u001b[0;34m\u001b[0m\u001b[0m\n\u001b[1;32m     17\u001b[0m     \u001b[0;32mif\u001b[0m \u001b[0mpredictions\u001b[0m\u001b[0;34m.\u001b[0m\u001b[0mshape\u001b[0m\u001b[0;34m[\u001b[0m\u001b[0;34m-\u001b[0m\u001b[0;36m1\u001b[0m\u001b[0;34m]\u001b[0m \u001b[0;34m==\u001b[0m \u001b[0;36m2\u001b[0m \u001b[0;34m:\u001b[0m\u001b[0;34m\u001b[0m\u001b[0;34m\u001b[0m\u001b[0m\n\u001b[0;32m---> 18\u001b[0;31m         \u001b[0mrep\u001b[0m\u001b[0;34m.\u001b[0m\u001b[0mupdate\u001b[0m\u001b[0;34m(\u001b[0m\u001b[0;34m{\u001b[0m\u001b[0;34m'roc_auc'\u001b[0m \u001b[0;34m:\u001b[0m \u001b[0mroc_auc_score\u001b[0m\u001b[0;34m(\u001b[0m\u001b[0mtarget\u001b[0m\u001b[0;34m,\u001b[0m \u001b[0mpredictions\u001b[0m\u001b[0;34m[\u001b[0m\u001b[0;34m:\u001b[0m\u001b[0;34m,\u001b[0m \u001b[0;36m1\u001b[0m\u001b[0;34m]\u001b[0m\u001b[0;34m)\u001b[0m\u001b[0;34m}\u001b[0m\u001b[0;34m)\u001b[0m\u001b[0;34m\u001b[0m\u001b[0;34m\u001b[0m\u001b[0m\n\u001b[0m\u001b[1;32m     19\u001b[0m         \u001b[0mrep\u001b[0m\u001b[0;34m.\u001b[0m\u001b[0mupdate\u001b[0m\u001b[0;34m(\u001b[0m\u001b[0;34m{\u001b[0m\u001b[0;34m\"pr_auc\"\u001b[0m \u001b[0;34m:\u001b[0m \u001b[0maverage_precision_score\u001b[0m\u001b[0;34m(\u001b[0m\u001b[0mtarget\u001b[0m\u001b[0;34m,\u001b[0m \u001b[0mpredictions\u001b[0m\u001b[0;34m[\u001b[0m\u001b[0;34m:\u001b[0m\u001b[0;34m,\u001b[0m \u001b[0;36m1\u001b[0m\u001b[0;34m]\u001b[0m\u001b[0;34m)\u001b[0m\u001b[0;34m}\u001b[0m\u001b[0;34m)\u001b[0m\u001b[0;34m\u001b[0m\u001b[0;34m\u001b[0m\u001b[0m\n\u001b[1;32m     20\u001b[0m     \u001b[0;32mreturn\u001b[0m \u001b[0mrep\u001b[0m\u001b[0;34m\u001b[0m\u001b[0;34m\u001b[0m\u001b[0m\n",
      "\u001b[0;32m~/anaconda3/lib/python3.7/site-packages/sklearn/metrics/ranking.py\u001b[0m in \u001b[0;36mroc_auc_score\u001b[0;34m(y_true, y_score, average, sample_weight, max_fpr)\u001b[0m\n\u001b[1;32m    354\u001b[0m     return _average_binary_score(\n\u001b[1;32m    355\u001b[0m         \u001b[0m_binary_roc_auc_score\u001b[0m\u001b[0;34m,\u001b[0m \u001b[0my_true\u001b[0m\u001b[0;34m,\u001b[0m \u001b[0my_score\u001b[0m\u001b[0;34m,\u001b[0m \u001b[0maverage\u001b[0m\u001b[0;34m,\u001b[0m\u001b[0;34m\u001b[0m\u001b[0;34m\u001b[0m\u001b[0m\n\u001b[0;32m--> 356\u001b[0;31m         sample_weight=sample_weight)\n\u001b[0m\u001b[1;32m    357\u001b[0m \u001b[0;34m\u001b[0m\u001b[0m\n\u001b[1;32m    358\u001b[0m \u001b[0;34m\u001b[0m\u001b[0m\n",
      "\u001b[0;32m~/anaconda3/lib/python3.7/site-packages/sklearn/metrics/base.py\u001b[0m in \u001b[0;36m_average_binary_score\u001b[0;34m(binary_metric, y_true, y_score, average, sample_weight)\u001b[0m\n\u001b[1;32m     75\u001b[0m \u001b[0;34m\u001b[0m\u001b[0m\n\u001b[1;32m     76\u001b[0m     \u001b[0;32mif\u001b[0m \u001b[0my_type\u001b[0m \u001b[0;34m==\u001b[0m \u001b[0;34m\"binary\"\u001b[0m\u001b[0;34m:\u001b[0m\u001b[0;34m\u001b[0m\u001b[0;34m\u001b[0m\u001b[0m\n\u001b[0;32m---> 77\u001b[0;31m         \u001b[0;32mreturn\u001b[0m \u001b[0mbinary_metric\u001b[0m\u001b[0;34m(\u001b[0m\u001b[0my_true\u001b[0m\u001b[0;34m,\u001b[0m \u001b[0my_score\u001b[0m\u001b[0;34m,\u001b[0m \u001b[0msample_weight\u001b[0m\u001b[0;34m=\u001b[0m\u001b[0msample_weight\u001b[0m\u001b[0;34m)\u001b[0m\u001b[0;34m\u001b[0m\u001b[0;34m\u001b[0m\u001b[0m\n\u001b[0m\u001b[1;32m     78\u001b[0m \u001b[0;34m\u001b[0m\u001b[0m\n\u001b[1;32m     79\u001b[0m     \u001b[0mcheck_consistent_length\u001b[0m\u001b[0;34m(\u001b[0m\u001b[0my_true\u001b[0m\u001b[0;34m,\u001b[0m \u001b[0my_score\u001b[0m\u001b[0;34m,\u001b[0m \u001b[0msample_weight\u001b[0m\u001b[0;34m)\u001b[0m\u001b[0;34m\u001b[0m\u001b[0;34m\u001b[0m\u001b[0m\n",
      "\u001b[0;32m~/anaconda3/lib/python3.7/site-packages/sklearn/metrics/ranking.py\u001b[0m in \u001b[0;36m_binary_roc_auc_score\u001b[0;34m(y_true, y_score, sample_weight)\u001b[0m\n\u001b[1;32m    326\u001b[0m \u001b[0;34m\u001b[0m\u001b[0m\n\u001b[1;32m    327\u001b[0m         fpr, tpr, _ = roc_curve(y_true, y_score,\n\u001b[0;32m--> 328\u001b[0;31m                                 sample_weight=sample_weight)\n\u001b[0m\u001b[1;32m    329\u001b[0m         \u001b[0;32mif\u001b[0m \u001b[0mmax_fpr\u001b[0m \u001b[0;32mis\u001b[0m \u001b[0;32mNone\u001b[0m \u001b[0;32mor\u001b[0m \u001b[0mmax_fpr\u001b[0m \u001b[0;34m==\u001b[0m \u001b[0;36m1\u001b[0m\u001b[0;34m:\u001b[0m\u001b[0;34m\u001b[0m\u001b[0;34m\u001b[0m\u001b[0m\n\u001b[1;32m    330\u001b[0m             \u001b[0;32mreturn\u001b[0m \u001b[0mauc\u001b[0m\u001b[0;34m(\u001b[0m\u001b[0mfpr\u001b[0m\u001b[0;34m,\u001b[0m \u001b[0mtpr\u001b[0m\u001b[0;34m)\u001b[0m\u001b[0;34m\u001b[0m\u001b[0;34m\u001b[0m\u001b[0m\n",
      "\u001b[0;32m~/anaconda3/lib/python3.7/site-packages/sklearn/metrics/ranking.py\u001b[0m in \u001b[0;36mroc_curve\u001b[0;34m(y_true, y_score, pos_label, sample_weight, drop_intermediate)\u001b[0m\n\u001b[1;32m    616\u001b[0m     \"\"\"\n\u001b[1;32m    617\u001b[0m     fps, tps, thresholds = _binary_clf_curve(\n\u001b[0;32m--> 618\u001b[0;31m         y_true, y_score, pos_label=pos_label, sample_weight=sample_weight)\n\u001b[0m\u001b[1;32m    619\u001b[0m \u001b[0;34m\u001b[0m\u001b[0m\n\u001b[1;32m    620\u001b[0m     \u001b[0;31m# Attempt to drop thresholds corresponding to points in between and\u001b[0m\u001b[0;34m\u001b[0m\u001b[0;34m\u001b[0m\u001b[0;34m\u001b[0m\u001b[0m\n",
      "\u001b[0;32m~/anaconda3/lib/python3.7/site-packages/sklearn/metrics/ranking.py\u001b[0m in \u001b[0;36m_binary_clf_curve\u001b[0;34m(y_true, y_score, pos_label, sample_weight)\u001b[0m\n\u001b[1;32m    401\u001b[0m     \u001b[0my_score\u001b[0m \u001b[0;34m=\u001b[0m \u001b[0mcolumn_or_1d\u001b[0m\u001b[0;34m(\u001b[0m\u001b[0my_score\u001b[0m\u001b[0;34m)\u001b[0m\u001b[0;34m\u001b[0m\u001b[0;34m\u001b[0m\u001b[0m\n\u001b[1;32m    402\u001b[0m     \u001b[0massert_all_finite\u001b[0m\u001b[0;34m(\u001b[0m\u001b[0my_true\u001b[0m\u001b[0;34m)\u001b[0m\u001b[0;34m\u001b[0m\u001b[0;34m\u001b[0m\u001b[0m\n\u001b[0;32m--> 403\u001b[0;31m     \u001b[0massert_all_finite\u001b[0m\u001b[0;34m(\u001b[0m\u001b[0my_score\u001b[0m\u001b[0;34m)\u001b[0m\u001b[0;34m\u001b[0m\u001b[0;34m\u001b[0m\u001b[0m\n\u001b[0m\u001b[1;32m    404\u001b[0m \u001b[0;34m\u001b[0m\u001b[0m\n\u001b[1;32m    405\u001b[0m     \u001b[0;32mif\u001b[0m \u001b[0msample_weight\u001b[0m \u001b[0;32mis\u001b[0m \u001b[0;32mnot\u001b[0m \u001b[0;32mNone\u001b[0m\u001b[0;34m:\u001b[0m\u001b[0;34m\u001b[0m\u001b[0;34m\u001b[0m\u001b[0m\n",
      "\u001b[0;32m~/anaconda3/lib/python3.7/site-packages/sklearn/utils/validation.py\u001b[0m in \u001b[0;36massert_all_finite\u001b[0;34m(X, allow_nan)\u001b[0m\n\u001b[1;32m     66\u001b[0m     \u001b[0mallow_nan\u001b[0m \u001b[0;34m:\u001b[0m \u001b[0mbool\u001b[0m\u001b[0;34m\u001b[0m\u001b[0;34m\u001b[0m\u001b[0m\n\u001b[1;32m     67\u001b[0m     \"\"\"\n\u001b[0;32m---> 68\u001b[0;31m     \u001b[0m_assert_all_finite\u001b[0m\u001b[0;34m(\u001b[0m\u001b[0mX\u001b[0m\u001b[0;34m.\u001b[0m\u001b[0mdata\u001b[0m \u001b[0;32mif\u001b[0m \u001b[0msp\u001b[0m\u001b[0;34m.\u001b[0m\u001b[0missparse\u001b[0m\u001b[0;34m(\u001b[0m\u001b[0mX\u001b[0m\u001b[0;34m)\u001b[0m \u001b[0;32melse\u001b[0m \u001b[0mX\u001b[0m\u001b[0;34m,\u001b[0m \u001b[0mallow_nan\u001b[0m\u001b[0;34m)\u001b[0m\u001b[0;34m\u001b[0m\u001b[0;34m\u001b[0m\u001b[0m\n\u001b[0m\u001b[1;32m     69\u001b[0m \u001b[0;34m\u001b[0m\u001b[0m\n\u001b[1;32m     70\u001b[0m \u001b[0;34m\u001b[0m\u001b[0m\n",
      "\u001b[0;32m~/anaconda3/lib/python3.7/site-packages/sklearn/utils/validation.py\u001b[0m in \u001b[0;36m_assert_all_finite\u001b[0;34m(X, allow_nan)\u001b[0m\n\u001b[1;32m     54\u001b[0m                 not allow_nan and not np.isfinite(X).all()):\n\u001b[1;32m     55\u001b[0m             \u001b[0mtype_err\u001b[0m \u001b[0;34m=\u001b[0m \u001b[0;34m'infinity'\u001b[0m \u001b[0;32mif\u001b[0m \u001b[0mallow_nan\u001b[0m \u001b[0;32melse\u001b[0m \u001b[0;34m'NaN, infinity'\u001b[0m\u001b[0;34m\u001b[0m\u001b[0;34m\u001b[0m\u001b[0m\n\u001b[0;32m---> 56\u001b[0;31m             \u001b[0;32mraise\u001b[0m \u001b[0mValueError\u001b[0m\u001b[0;34m(\u001b[0m\u001b[0mmsg_err\u001b[0m\u001b[0;34m.\u001b[0m\u001b[0mformat\u001b[0m\u001b[0;34m(\u001b[0m\u001b[0mtype_err\u001b[0m\u001b[0;34m,\u001b[0m \u001b[0mX\u001b[0m\u001b[0;34m.\u001b[0m\u001b[0mdtype\u001b[0m\u001b[0;34m)\u001b[0m\u001b[0;34m)\u001b[0m\u001b[0;34m\u001b[0m\u001b[0;34m\u001b[0m\u001b[0m\n\u001b[0m\u001b[1;32m     57\u001b[0m \u001b[0;34m\u001b[0m\u001b[0m\n\u001b[1;32m     58\u001b[0m \u001b[0;34m\u001b[0m\u001b[0m\n",
      "\u001b[0;31mValueError\u001b[0m: Input contains NaN, infinity or a value too large for dtype('float32')."
     ]
    }
   ],
   "source": [
    "%run \"Discovery Experiments\"/run_models.py --dataset \"readmission\" --exp_types hierarchical \\\n",
    "    --data_dir='.' --output_dir='outputs' --display"
   ]
  },
  {
   "cell_type": "code",
   "execution_count": null,
   "metadata": {},
   "outputs": [],
   "source": [
    "%run \"Discovery Experiments\"/run_models.py --dataset \"mortality_1yr\" --exp_types hierarchical \\\n",
    "    --data_dir='.' --output_dir='outputs' --display"
   ]
  },
  {
   "cell_type": "code",
   "execution_count": null,
   "metadata": {},
   "outputs": [],
   "source": []
  }
 ],
 "metadata": {
  "kernelspec": {
   "display_name": "Python 3",
   "language": "python",
   "name": "python3"
  },
  "language_info": {
   "codemirror_mode": {
    "name": "ipython",
    "version": 3
   },
   "file_extension": ".py",
   "mimetype": "text/x-python",
   "name": "python",
   "nbconvert_exporter": "python",
   "pygments_lexer": "ipython3",
   "version": "3.7.2"
  }
 },
 "nbformat": 4,
 "nbformat_minor": 2
}
