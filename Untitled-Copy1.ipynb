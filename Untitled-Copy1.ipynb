{
 "cells": [
  {
   "cell_type": "code",
   "execution_count": null,
   "metadata": {},
   "outputs": [],
   "source": [
    "%run \"Discovery Experiments\"/run_models.py --dataset readmission --exp_types pretrained --data_dir='.' --output_dir='outputs/' --display"
   ]
  },
  {
   "cell_type": "code",
   "execution_count": null,
   "metadata": {},
   "outputs": [],
   "source": [
    "%run \"Discovery Experiments\"/n_times.py --data_dir='.' --output_dir='outputs' --display --n=500\n",
    "%run \"Discovery Experiments\"/n_times.py --data_dir='.' --output_dir='outputs' --display --n=1000\n",
    "%run \"Discovery Experiments\"/n_times.py --data_dir='.' --output_dir='outputs' --display --n=3000\n",
    "%run \"Discovery Experiments\"/n_times.py --data_dir='.' --output_dir='outputs' --display --n=5000\n",
    "%run \"Discovery Experiments\"/n_times.py --data_dir='.' --output_dir='outputs' --display --n=7000\n",
    "%run \"Discovery Experiments\"/n_times.py --data_dir='.' --output_dir='outputs' --display --n=9000"
   ]
  },
  {
   "cell_type": "code",
   "execution_count": null,
   "metadata": {},
   "outputs": [],
   "source": [
    "%run \"Discovery Experiments\"/Replicate.py --data_dir='.' --dataset readmission --alpha 0.3 --output_dir='outputs' --structured --exp_types vanilla --display"
   ]
  },
  {
   "cell_type": "code",
   "execution_count": null,
   "metadata": {},
   "outputs": [],
   "source": [
    "%run \"Discovery Experiments\"/Replicate.py --data_dir='.' --dataset mortality_30day --alpha 0.3 --output_dir='outputs' --structured --exp_types vanilla --display"
   ]
  },
  {
   "cell_type": "code",
   "execution_count": null,
   "metadata": {},
   "outputs": [],
   "source": [
    "%run \"Discovery Experiments\"/Replicate.py --data_dir='.' --dataset diagnosis --alpha 0.3 --output_dir='outputs' --structured --exp_types vanilla --display"
   ]
  },
  {
   "cell_type": "code",
   "execution_count": null,
   "metadata": {},
   "outputs": [],
   "source": [
    "%run \"Discovery Experiments\"/Replicate.py --data_dir='.' --dataset mortality_1yr --alpha 0.3 --output_dir='outputs' --structured --exp_types vanilla --display"
   ]
  },
  {
   "cell_type": "code",
   "execution_count": null,
   "metadata": {},
   "outputs": [],
   "source": [
    "%run \"Discovery Experiments\"/run_models.py --dataset \"readmission\" --exp_types hierarchical \\\n",
    "    --data_dir='.' --output_dir='outputs' --display --structured"
   ]
  },
  {
   "cell_type": "code",
   "execution_count": null,
   "metadata": {},
   "outputs": [],
   "source": [
    "%run \"Discovery Experiments\"/run_models.py --dataset \"mortality_1yr\" --exp_types hierarchical \\\n",
    "    --data_dir='.' --output_dir='outputs' --display"
   ]
  },
  {
   "cell_type": "code",
   "execution_count": null,
   "metadata": {},
   "outputs": [
    {
     "name": "stdout",
     "output_type": "stream",
     "text": [
      "Better speed can be achieved with apex installed from https://www.github.com/nvidia/apex.\n"
     ]
    },
    {
     "name": "stderr",
     "output_type": "stream",
     "text": [
      "INFO - 2019-03-25 19:57:20,551 - Reading Structured data ...\n",
      "INFO - 2019-03-25 19:57:20,685 - Reading Notes ...\n",
      "INFO - 2019-03-25 19:57:21,603 - Stratifying ...\n"
     ]
    },
    {
     "name": "stdout",
     "output_type": "stream",
     "text": [
      "Pos Percentage [0.10839746]\n"
     ]
    },
    {
     "name": "stderr",
     "output_type": "stream",
     "text": [
      "INFO - 2019-03-25 19:57:22,091 - Maximum Sentence Length 585530.000000 , 90 percentile length 22037.000000 ... \n",
      "INFO - 2019-03-25 19:57:22,927 - Truncated all ...\n",
      "INFO - 2019-03-25 19:57:22,931 - Idxs removed []...\n",
      "INFO - 2019-03-25 19:57:23,022 - Maximum Sentence Length 65362.000000 , 90 percentile length 18471.000000 ... \n",
      "INFO - 2019-03-25 19:57:23,153 - Truncated all ...\n",
      "INFO - 2019-03-25 19:57:23,154 - Idxs removed []...\n",
      "INFO - 2019-03-25 19:57:23,166 - instantiating class <class 'PatientVec.models.Model.Model'> from params {'type': 'hierarchical_classifier_with_attention', 'embedder': {'type': 'token_embedder', 'vocab_size': 19054, 'embed_size': 200, 'embedding_file': '../../../SurgeryData/PatientVec/preprocess/HipSurgery/1_yrs/embedding_matrix.npy'}, 'decoder': {'num_layers': 2, 'hidden_dims': [128, 1], 'activations': ['tanh', 'linear']}, 'predictor': {'type': 'binary'}, 'structured': {'use_structured': False}, 'word_encoder': {'type': 'lstm', 'hidden_size': 128}, 'word_attention': {'similarity': {'type': 'additive', 'hidden_size': 128}}, 'sentence_encoder': {'type': 'lstm', 'hidden_size': 128}, 'sentence_attention': {'similarity': {'type': 'additive', 'hidden_size': 128}}} and extras {}\n",
      "INFO - 2019-03-25 19:57:23,167 - type = hierarchical_classifier_with_attention\n",
      "INFO - 2019-03-25 19:57:23,167 - instantiating class <class 'PatientVec.models.modules.Embedder.Embedder'> from params {'type': 'token_embedder', 'vocab_size': 19054, 'embed_size': 200, 'embedding_file': '../../../SurgeryData/PatientVec/preprocess/HipSurgery/1_yrs/embedding_matrix.npy'} and extras {}\n",
      "INFO - 2019-03-25 19:57:23,168 - embedder.type = token_embedder\n",
      "INFO - 2019-03-25 19:57:23,168 - instantiating class <class 'PatientVec.models.modules.Embedder.TokenEmbedder'> from params {'vocab_size': 19054, 'embed_size': 200, 'embedding_file': '../../../SurgeryData/PatientVec/preprocess/HipSurgery/1_yrs/embedding_matrix.npy'} and extras {}\n"
     ]
    },
    {
     "name": "stdout",
     "output_type": "stream",
     "text": [
      "Pos Percentage [0.08990536]\n",
      "{'model': {'type': 'hierarchical_classifier_with_attention', 'embedder': {'type': 'token_embedder', 'vocab_size': 19054, 'embed_size': 200, 'embedding_file': '../../../SurgeryData/PatientVec/preprocess/HipSurgery/1_yrs/embedding_matrix.npy'}, 'decoder': {'num_layers': 2, 'hidden_dims': [128, 1], 'activations': ['tanh', 'linear']}, 'predictor': {'type': 'binary'}, 'structured': {'use_structured': False}, 'word_encoder': {'type': 'lstm', 'hidden_size': 128}, 'word_attention': {'similarity': {'type': 'additive', 'hidden_size': 128}}, 'sentence_encoder': {'type': 'lstm', 'hidden_size': 128}, 'sentence_attention': {'similarity': {'type': 'additive', 'hidden_size': 128}}}, 'training_config': {'type': 'Adam', 'groups': [('.*', {'lr': 0.001, 'weight_decay': 1e-05})], 'common': {'bsize': 8, 'class_weight': True}}, 'exp_config': {'exp_name': 'HipSurgery_1/Hierarchical Attention/LSTM(hs=128)+Attention(additive)(hs=128)+LSTM(hs=128)+Attention(additive)(hs=128)', 'basepath': 'outputs/'}}\n"
     ]
    },
    {
     "name": "stderr",
     "output_type": "stream",
     "text": [
      "INFO - 2019-03-25 19:57:23,229 - embedder.vocab_size = 19054\n",
      "INFO - 2019-03-25 19:57:23,229 - embedder.embed_size = 200\n",
      "INFO - 2019-03-25 19:57:23,229 - embedder.embedding_file = ../../../SurgeryData/PatientVec/preprocess/HipSurgery/1_yrs/embedding_matrix.npy\n",
      "INFO - 2019-03-25 19:57:23,238 - instantiating class <class 'PatientVec.models.modules.Encoder.Encoder'> from params {'type': 'lstm', 'hidden_size': 128} and extras {'input_size': 200}\n",
      "INFO - 2019-03-25 19:57:23,238 - word_encoder.type = lstm\n",
      "INFO - 2019-03-25 19:57:23,239 - instantiating class <class 'PatientVec.models.modules.Encoder.wrap_pytorch_rnn.<locals>.BiRNNEncoder'> from params {'hidden_size': 128} and extras {'input_size': 200}\n",
      "INFO - 2019-03-25 19:57:23,239 - word_encoder.hidden_size = 128\n",
      "INFO - 2019-03-25 19:57:23,241 - instantiating class <class 'PatientVec.models.modules.SelfAttention.SelfAttention'> from params {'similarity': {'type': 'additive', 'hidden_size': 128, 'tensor_1_dim': 256}} and extras {}\n",
      "INFO - 2019-03-25 19:57:23,241 - instantiating class <class 'PatientVec.models.modules.UniSimilarity.UniSimilarity'> from params {'type': 'additive', 'hidden_size': 128, 'tensor_1_dim': 256} and extras {}\n",
      "INFO - 2019-03-25 19:57:23,242 - word_attention.similarity.type = additive\n",
      "INFO - 2019-03-25 19:57:23,242 - instantiating class <class 'PatientVec.models.modules.UniSimilarity.UniAdditiveSimilarity'> from params {'hidden_size': 128, 'tensor_1_dim': 256} and extras {}\n",
      "INFO - 2019-03-25 19:57:23,242 - word_attention.similarity.tensor_1_dim = 256\n",
      "INFO - 2019-03-25 19:57:23,242 - word_attention.similarity.hidden_size = 128\n",
      "INFO - 2019-03-25 19:57:23,243 - word_attention.similarity.output_size = 1\n",
      "INFO - 2019-03-25 19:57:23,244 - word_attention.normaliser = softmax\n",
      "INFO - 2019-03-25 19:57:23,244 - instantiating class <class 'PatientVec.models.modules.Encoder.Encoder'> from params {'type': 'lstm', 'hidden_size': 128} and extras {'input_size': 256}\n",
      "INFO - 2019-03-25 19:57:23,245 - sentence_encoder.type = lstm\n",
      "INFO - 2019-03-25 19:57:23,245 - instantiating class <class 'PatientVec.models.modules.Encoder.wrap_pytorch_rnn.<locals>.BiRNNEncoder'> from params {'hidden_size': 128} and extras {'input_size': 256}\n",
      "INFO - 2019-03-25 19:57:23,245 - sentence_encoder.hidden_size = 128\n",
      "INFO - 2019-03-25 19:57:23,247 - instantiating class <class 'PatientVec.models.modules.SelfAttention.SelfAttention'> from params {'similarity': {'type': 'additive', 'hidden_size': 128, 'tensor_1_dim': 256}} and extras {}\n",
      "INFO - 2019-03-25 19:57:23,248 - instantiating class <class 'PatientVec.models.modules.UniSimilarity.UniSimilarity'> from params {'type': 'additive', 'hidden_size': 128, 'tensor_1_dim': 256} and extras {}\n",
      "INFO - 2019-03-25 19:57:23,248 - sentence_attention.similarity.type = additive\n",
      "INFO - 2019-03-25 19:57:23,248 - instantiating class <class 'PatientVec.models.modules.UniSimilarity.UniAdditiveSimilarity'> from params {'hidden_size': 128, 'tensor_1_dim': 256} and extras {}\n",
      "INFO - 2019-03-25 19:57:23,248 - sentence_attention.similarity.tensor_1_dim = 256\n",
      "INFO - 2019-03-25 19:57:23,249 - sentence_attention.similarity.hidden_size = 128\n",
      "INFO - 2019-03-25 19:57:23,249 - sentence_attention.similarity.output_size = 1\n",
      "INFO - 2019-03-25 19:57:23,250 - sentence_attention.normaliser = softmax\n",
      "INFO - 2019-03-25 19:57:23,250 - decoder.input_dim = 256\n",
      "INFO - 2019-03-25 19:57:23,251 - decoder.num_layers = 2\n",
      "INFO - 2019-03-25 19:57:23,251 - decoder.hidden_dims = [128, 1]\n",
      "INFO - 2019-03-25 19:57:23,251 - decoder.activations = ['tanh', 'linear']\n",
      "INFO - 2019-03-25 19:57:23,251 - decoder.dropout = 0.0\n",
      "INFO - 2019-03-25 19:57:23,253 - instantiating class <class 'PatientVec.models.modules.Predictor.Predictor'> from params {'type': 'binary'} and extras {}\n",
      "INFO - 2019-03-25 19:57:23,253 - predictor.type = binary\n",
      "INFO - 2019-03-25 19:57:23,253 - instantiating class <class 'PatientVec.models.modules.Predictor.Binary_Predictor'> from params {} and extras {}\n",
      "INFO - 2019-03-25 19:57:23,253 - predictor.replicate = False\n",
      "INFO - 2019-03-25 19:57:23,254 - predictor.alpha = 0.5\n"
     ]
    },
    {
     "name": "stdout",
     "output_type": "stream",
     "text": [
      "Setting Embedding\n"
     ]
    },
    {
     "data": {
      "application/vnd.jupyter.widget-view+json": {
       "model_id": "cbd8accbaee944c78dab16573031417b",
       "version_major": 2,
       "version_minor": 0
      },
      "text/plain": [
       "HBox(children=(IntProgress(value=0, max=10), HTML(value='')))"
      ]
     },
     "metadata": {},
     "output_type": "display_data"
    },
    {
     "data": {
      "application/vnd.jupyter.widget-view+json": {
       "model_id": "dae4d72cc2cf40a6b9e29ca3ed462c09",
       "version_major": 2,
       "version_minor": 0
      },
      "text/plain": [
       "HBox(children=(IntProgress(value=0, max=374), HTML(value='')))"
      ]
     },
     "metadata": {},
     "output_type": "display_data"
    },
    {
     "data": {
      "application/vnd.jupyter.widget-view+json": {
       "model_id": "9eaee142092c439aa8e1b61ad04c46a3",
       "version_major": 2,
       "version_minor": 0
      },
      "text/plain": [
       "HBox(children=(IntProgress(value=0, max=80), HTML(value='')))"
      ]
     },
     "metadata": {},
     "output_type": "display_data"
    },
    {
     "name": "stdout",
     "output_type": "stream",
     "text": [
      "{'accuracy': 0.8249211356466877, 'roc_auc': 0.7306546261668035, 'pr_auc': 0.35136023978880454}\n"
     ]
    },
    {
     "data": {
      "text/html": [
       "<div>\n",
       "<style scoped>\n",
       "    .dataframe tbody tr th:only-of-type {\n",
       "        vertical-align: middle;\n",
       "    }\n",
       "\n",
       "    .dataframe tbody tr th {\n",
       "        vertical-align: top;\n",
       "    }\n",
       "\n",
       "    .dataframe thead th {\n",
       "        text-align: right;\n",
       "    }\n",
       "</style>\n",
       "<table border=\"1\" class=\"dataframe\">\n",
       "  <thead>\n",
       "    <tr style=\"text-align: right;\">\n",
       "      <th></th>\n",
       "      <th>0.0</th>\n",
       "      <th>1.0</th>\n",
       "      <th>micro avg</th>\n",
       "      <th>macro avg</th>\n",
       "      <th>weighted avg</th>\n",
       "    </tr>\n",
       "  </thead>\n",
       "  <tbody>\n",
       "    <tr>\n",
       "      <th>f1-score</th>\n",
       "      <td>0.899</td>\n",
       "      <td>0.358</td>\n",
       "      <td>0.825</td>\n",
       "      <td>0.629</td>\n",
       "      <td>0.850</td>\n",
       "    </tr>\n",
       "    <tr>\n",
       "      <th>precision</th>\n",
       "      <td>0.950</td>\n",
       "      <td>0.267</td>\n",
       "      <td>0.825</td>\n",
       "      <td>0.609</td>\n",
       "      <td>0.888</td>\n",
       "    </tr>\n",
       "    <tr>\n",
       "      <th>recall</th>\n",
       "      <td>0.853</td>\n",
       "      <td>0.544</td>\n",
       "      <td>0.825</td>\n",
       "      <td>0.698</td>\n",
       "      <td>0.825</td>\n",
       "    </tr>\n",
       "    <tr>\n",
       "      <th>support</th>\n",
       "      <td>577.000</td>\n",
       "      <td>57.000</td>\n",
       "      <td>634.000</td>\n",
       "      <td>634.000</td>\n",
       "      <td>634.000</td>\n",
       "    </tr>\n",
       "  </tbody>\n",
       "</table>\n",
       "</div>"
      ],
      "text/plain": [
       "               0.0     1.0  micro avg  macro avg  weighted avg\n",
       "f1-score     0.899   0.358      0.825      0.629         0.850\n",
       "precision    0.950   0.267      0.825      0.609         0.888\n",
       "recall       0.853   0.544      0.825      0.698         0.825\n",
       "support    577.000  57.000    634.000    634.000       634.000"
      ]
     },
     "metadata": {},
     "output_type": "display_data"
    },
    {
     "name": "stdout",
     "output_type": "stream",
     "text": [
      "Model Saved on  roc_auc 0.7306546261668035\n"
     ]
    },
    {
     "data": {
      "application/vnd.jupyter.widget-view+json": {
       "model_id": "d65d8529782b46819427721a57f95e03",
       "version_major": 2,
       "version_minor": 0
      },
      "text/plain": [
       "HBox(children=(IntProgress(value=0, max=374), HTML(value='')))"
      ]
     },
     "metadata": {},
     "output_type": "display_data"
    }
   ],
   "source": [
    "%run \"Discovery Experiments\"/run_models.py --dataset \"hip_1yr\" --exp_types hierarchical \\\n",
    "    --data_dir='../../../SurgeryData/PatientVec/' --output_dir='outputs/' --display --bsize 8"
   ]
  },
  {
   "cell_type": "code",
   "execution_count": null,
   "metadata": {},
   "outputs": [],
   "source": [
    "%run \"Discovery Experiments\"/run_models.py --dataset \"knee_1yr\" --exp_types hierarchical \\\n",
    "    --data_dir='../../../SurgeryData/PatientVec/' --output_dir='outputs/' --display --bsize 8"
   ]
  },
  {
   "cell_type": "code",
   "execution_count": null,
   "metadata": {},
   "outputs": [],
   "source": []
  }
 ],
 "metadata": {
  "kernelspec": {
   "display_name": "Python 3",
   "language": "python",
   "name": "python3"
  },
  "language_info": {
   "codemirror_mode": {
    "name": "ipython",
    "version": 3
   },
   "file_extension": ".py",
   "mimetype": "text/x-python",
   "name": "python",
   "nbconvert_exporter": "python",
   "pygments_lexer": "ipython3",
   "version": "3.6.7"
  }
 },
 "nbformat": 4,
 "nbformat_minor": 2
}
