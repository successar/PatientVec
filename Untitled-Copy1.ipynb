{
 "cells": [
  {
   "cell_type": "code",
   "execution_count": null,
   "metadata": {},
   "outputs": [],
   "source": [
    "%run \"Discovery Experiments\"/run_models.py --dataset readmission --exp_types pretrained --data_dir='.' --output_dir='outputs/' --display"
   ]
  },
  {
   "cell_type": "code",
   "execution_count": null,
   "metadata": {},
   "outputs": [],
   "source": [
    "%run \"Discovery Experiments\"/n_times.py --data_dir='.' --output_dir='outputs' --display --n=500\n",
    "%run \"Discovery Experiments\"/n_times.py --data_dir='.' --output_dir='outputs' --display --n=1000\n",
    "%run \"Discovery Experiments\"/n_times.py --data_dir='.' --output_dir='outputs' --display --n=3000\n",
    "%run \"Discovery Experiments\"/n_times.py --data_dir='.' --output_dir='outputs' --display --n=5000\n",
    "%run \"Discovery Experiments\"/n_times.py --data_dir='.' --output_dir='outputs' --display --n=7000\n",
    "%run \"Discovery Experiments\"/n_times.py --data_dir='.' --output_dir='outputs' --display --n=9000"
   ]
  },
  {
   "cell_type": "code",
   "execution_count": 5,
   "metadata": {},
   "outputs": [
    {
     "name": "stderr",
     "output_type": "stream",
     "text": [
      "INFO - 2019-03-25 13:50:24,108 - Reading Structured data ...\n",
      "INFO - 2019-03-25 13:50:24,381 - Reading Notes ...\n",
      "INFO - 2019-03-25 13:50:36,618 - Stratifying ...\n"
     ]
    },
    {
     "name": "stdout",
     "output_type": "stream",
     "text": [
      "Pos Percentage [0.19738451]\n"
     ]
    },
    {
     "name": "stderr",
     "output_type": "stream",
     "text": [
      "INFO - 2019-03-25 13:50:41,925 - Maximum Sentence Length 721825.000000 , 90 percentile length 18689.000000 ... \n",
      "INFO - 2019-03-25 13:50:56,309 - Truncated all ...\n",
      "INFO - 2019-03-25 13:50:56,358 - Idxs removed [1249]...\n"
     ]
    },
    {
     "name": "stdout",
     "output_type": "stream",
     "text": [
      "Pos Percentage [0.20937082]\n"
     ]
    },
    {
     "name": "stderr",
     "output_type": "stream",
     "text": [
      "INFO - 2019-03-25 13:50:57,779 - Maximum Sentence Length 588265.000000 , 90 percentile length 19174.000000 ... \n",
      "INFO - 2019-03-25 13:51:00,029 - Truncated all ...\n",
      "INFO - 2019-03-25 13:51:00,042 - Idxs removed []...\n",
      "INFO - 2019-03-25 13:51:00,113 - instantiating class <class 'PatientVec.models.Model.Model'> from params {'type': 'seq_classifier', 'embedder': {'type': 'token_embedder', 'vocab_size': 32246, 'embed_size': 200, 'embedding_file': './preprocess/Readmission/embedding_matrix.npy'}, 'decoder': {'num_layers': 2, 'hidden_dims': [128, 1], 'activations': ['tanh', 'linear']}, 'predictor': {'type': 'binary', 'replicate': True, 'alpha': 0.3}, 'structured': {'use_structured': True, 'structured_dim': 142}, 'encoder': {'type': 'average', 'projection': True, 'hidden_size': 256, 'activation': 'relu'}} and extras {}\n",
      "INFO - 2019-03-25 13:51:00,113 - type = seq_classifier\n",
      "INFO - 2019-03-25 13:51:00,113 - instantiating class <class 'PatientVec.models.modules.Embedder.Embedder'> from params {'type': 'token_embedder', 'vocab_size': 32246, 'embed_size': 200, 'embedding_file': './preprocess/Readmission/embedding_matrix.npy'} and extras {}\n",
      "INFO - 2019-03-25 13:51:00,114 - embedder.type = token_embedder\n",
      "INFO - 2019-03-25 13:51:00,114 - instantiating class <class 'PatientVec.models.modules.Embedder.TokenEmbedder'> from params {'vocab_size': 32246, 'embed_size': 200, 'embedding_file': './preprocess/Readmission/embedding_matrix.npy'} and extras {}\n",
      "INFO - 2019-03-25 13:51:00,155 - embedder.vocab_size = 32246\n",
      "INFO - 2019-03-25 13:51:00,156 - embedder.embed_size = 200\n",
      "INFO - 2019-03-25 13:51:00,156 - embedder.embedding_file = ./preprocess/Readmission/embedding_matrix.npy\n",
      "INFO - 2019-03-25 13:51:00,176 - instantiating class <class 'PatientVec.models.modules.Encoder.Encoder'> from params {'type': 'average', 'projection': True, 'hidden_size': 256, 'activation': 'relu'} and extras {'input_size': 200}\n",
      "INFO - 2019-03-25 13:51:00,177 - encoder.type = average\n",
      "INFO - 2019-03-25 13:51:00,177 - instantiating class <class 'PatientVec.models.modules.Encoder.AverageEncoder'> from params {'projection': True, 'hidden_size': 256, 'activation': 'relu'} and extras {'input_size': 200}\n",
      "INFO - 2019-03-25 13:51:00,177 - encoder.projection = True\n",
      "INFO - 2019-03-25 13:51:00,177 - encoder.hidden_size = 256\n",
      "INFO - 2019-03-25 13:51:00,178 - encoder.activation = relu\n",
      "INFO - 2019-03-25 13:51:00,179 - decoder.input_dim = 398\n",
      "INFO - 2019-03-25 13:51:00,179 - decoder.num_layers = 2\n",
      "INFO - 2019-03-25 13:51:00,179 - decoder.hidden_dims = [128, 1]\n",
      "INFO - 2019-03-25 13:51:00,180 - decoder.activations = ['tanh', 'linear']\n",
      "INFO - 2019-03-25 13:51:00,180 - decoder.dropout = 0.0\n",
      "INFO - 2019-03-25 13:51:00,181 - instantiating class <class 'PatientVec.models.modules.Predictor.Predictor'> from params {'type': 'binary', 'replicate': True, 'alpha': 0.3} and extras {}\n",
      "INFO - 2019-03-25 13:51:00,181 - predictor.type = binary\n",
      "INFO - 2019-03-25 13:51:00,181 - instantiating class <class 'PatientVec.models.modules.Predictor.Binary_Predictor'> from params {'replicate': True, 'alpha': 0.3} and extras {}\n",
      "INFO - 2019-03-25 13:51:00,182 - predictor.replicate = True\n",
      "INFO - 2019-03-25 13:51:00,182 - predictor.alpha = 0.3\n"
     ]
    },
    {
     "name": "stdout",
     "output_type": "stream",
     "text": [
      "{'model': {'type': 'seq_classifier', 'embedder': {'type': 'token_embedder', 'vocab_size': 32246, 'embed_size': 200, 'embedding_file': './preprocess/Readmission/embedding_matrix.npy'}, 'decoder': {'num_layers': 2, 'hidden_dims': [128, 1], 'activations': ['tanh', 'linear']}, 'predictor': {'type': 'binary', 'replicate': True, 'alpha': 0.3}, 'structured': {'use_structured': True, 'structured_dim': 142}, 'encoder': {'type': 'average', 'projection': True, 'hidden_size': 256, 'activation': 'relu'}}, 'training_config': {'type': 'Adam', 'groups': [('.*', {'lr': 0.001, 'weight_decay': 1e-05})], 'common': {'bsize': 32, 'class_weight': True}}, 'exp_config': {'exp_name': 'Readmission/Basic/Average(hs=256)+Structured+replicate(alpha=+0.3)', 'basepath': 'outputs'}}\n",
      "Setting Embedding\n"
     ]
    },
    {
     "data": {
      "application/vnd.jupyter.widget-view+json": {
       "model_id": "584073c74ff24e67a46a75c58d3f133b",
       "version_major": 2,
       "version_minor": 0
      },
      "text/plain": [
       "HBox(children=(IntProgress(value=0, max=15), HTML(value='')))"
      ]
     },
     "metadata": {},
     "output_type": "display_data"
    },
    {
     "data": {
      "application/vnd.jupyter.widget-view+json": {
       "model_id": "89fea3d05d674e0eb39e88e78ded92a2",
       "version_major": 2,
       "version_minor": 0
      },
      "text/plain": [
       "HBox(children=(IntProgress(value=0, max=920), HTML(value='')))"
      ]
     },
     "metadata": {},
     "output_type": "display_data"
    },
    {
     "data": {
      "application/vnd.jupyter.widget-view+json": {
       "model_id": "51e4f09e38004d39878779e260645973",
       "version_major": 2,
       "version_minor": 0
      },
      "text/plain": [
       "HBox(children=(IntProgress(value=0, max=234), HTML(value='')))"
      ]
     },
     "metadata": {},
     "output_type": "display_data"
    },
    {
     "name": "stdout",
     "output_type": "stream",
     "text": [
      "{'accuracy': 0.6694779116465863, 'roc_auc': 0.6883397221430717, 'pr_auc': 0.39238195783191604}\n"
     ]
    },
    {
     "data": {
      "text/html": [
       "<div>\n",
       "<style scoped>\n",
       "    .dataframe tbody tr th:only-of-type {\n",
       "        vertical-align: middle;\n",
       "    }\n",
       "\n",
       "    .dataframe tbody tr th {\n",
       "        vertical-align: top;\n",
       "    }\n",
       "\n",
       "    .dataframe thead th {\n",
       "        text-align: right;\n",
       "    }\n",
       "</style>\n",
       "<table border=\"1\" class=\"dataframe\">\n",
       "  <thead>\n",
       "    <tr style=\"text-align: right;\">\n",
       "      <th></th>\n",
       "      <th>0</th>\n",
       "      <th>1</th>\n",
       "      <th>micro avg</th>\n",
       "      <th>macro avg</th>\n",
       "      <th>weighted avg</th>\n",
       "    </tr>\n",
       "  </thead>\n",
       "  <tbody>\n",
       "    <tr>\n",
       "      <th>f1-score</th>\n",
       "      <td>0.767</td>\n",
       "      <td>0.430</td>\n",
       "      <td>0.669</td>\n",
       "      <td>0.599</td>\n",
       "      <td>0.697</td>\n",
       "    </tr>\n",
       "    <tr>\n",
       "      <th>precision</th>\n",
       "      <td>0.866</td>\n",
       "      <td>0.337</td>\n",
       "      <td>0.669</td>\n",
       "      <td>0.601</td>\n",
       "      <td>0.755</td>\n",
       "    </tr>\n",
       "    <tr>\n",
       "      <th>recall</th>\n",
       "      <td>0.689</td>\n",
       "      <td>0.596</td>\n",
       "      <td>0.669</td>\n",
       "      <td>0.642</td>\n",
       "      <td>0.669</td>\n",
       "    </tr>\n",
       "    <tr>\n",
       "      <th>support</th>\n",
       "      <td>5906.000</td>\n",
       "      <td>1564.000</td>\n",
       "      <td>7470.000</td>\n",
       "      <td>7470.000</td>\n",
       "      <td>7470.000</td>\n",
       "    </tr>\n",
       "  </tbody>\n",
       "</table>\n",
       "</div>"
      ],
      "text/plain": [
       "                  0         1  micro avg  macro avg  weighted avg\n",
       "f1-score      0.767     0.430      0.669      0.599         0.697\n",
       "precision     0.866     0.337      0.669      0.601         0.755\n",
       "recall        0.689     0.596      0.669      0.642         0.669\n",
       "support    5906.000  1564.000   7470.000   7470.000      7470.000"
      ]
     },
     "metadata": {},
     "output_type": "display_data"
    },
    {
     "name": "stdout",
     "output_type": "stream",
     "text": [
      "Model Saved on  roc_auc 0.6883397221430717\n"
     ]
    },
    {
     "data": {
      "application/vnd.jupyter.widget-view+json": {
       "model_id": "5bec71684bf74fd398d60de2ecc2909b",
       "version_major": 2,
       "version_minor": 0
      },
      "text/plain": [
       "HBox(children=(IntProgress(value=0, max=920), HTML(value='')))"
      ]
     },
     "metadata": {},
     "output_type": "display_data"
    },
    {
     "data": {
      "application/vnd.jupyter.widget-view+json": {
       "model_id": "73104017941849b5a68df9ec43ac9a34",
       "version_major": 2,
       "version_minor": 0
      },
      "text/plain": [
       "HBox(children=(IntProgress(value=0, max=234), HTML(value='')))"
      ]
     },
     "metadata": {},
     "output_type": "display_data"
    },
    {
     "name": "stdout",
     "output_type": "stream",
     "text": [
      "{'accuracy': 0.6050870147255689, 'roc_auc': 0.713640079922191, 'pr_auc': 0.43075941983446764}\n"
     ]
    },
    {
     "data": {
      "text/html": [
       "<div>\n",
       "<style scoped>\n",
       "    .dataframe tbody tr th:only-of-type {\n",
       "        vertical-align: middle;\n",
       "    }\n",
       "\n",
       "    .dataframe tbody tr th {\n",
       "        vertical-align: top;\n",
       "    }\n",
       "\n",
       "    .dataframe thead th {\n",
       "        text-align: right;\n",
       "    }\n",
       "</style>\n",
       "<table border=\"1\" class=\"dataframe\">\n",
       "  <thead>\n",
       "    <tr style=\"text-align: right;\">\n",
       "      <th></th>\n",
       "      <th>0</th>\n",
       "      <th>1</th>\n",
       "      <th>micro avg</th>\n",
       "      <th>macro avg</th>\n",
       "      <th>weighted avg</th>\n",
       "    </tr>\n",
       "  </thead>\n",
       "  <tbody>\n",
       "    <tr>\n",
       "      <th>f1-score</th>\n",
       "      <td>0.697</td>\n",
       "      <td>0.432</td>\n",
       "      <td>0.605</td>\n",
       "      <td>0.565</td>\n",
       "      <td>0.642</td>\n",
       "    </tr>\n",
       "    <tr>\n",
       "      <th>precision</th>\n",
       "      <td>0.885</td>\n",
       "      <td>0.309</td>\n",
       "      <td>0.605</td>\n",
       "      <td>0.597</td>\n",
       "      <td>0.765</td>\n",
       "    </tr>\n",
       "    <tr>\n",
       "      <th>recall</th>\n",
       "      <td>0.575</td>\n",
       "      <td>0.718</td>\n",
       "      <td>0.605</td>\n",
       "      <td>0.647</td>\n",
       "      <td>0.605</td>\n",
       "    </tr>\n",
       "    <tr>\n",
       "      <th>support</th>\n",
       "      <td>5906.000</td>\n",
       "      <td>1564.000</td>\n",
       "      <td>7470.000</td>\n",
       "      <td>7470.000</td>\n",
       "      <td>7470.000</td>\n",
       "    </tr>\n",
       "  </tbody>\n",
       "</table>\n",
       "</div>"
      ],
      "text/plain": [
       "                  0         1  micro avg  macro avg  weighted avg\n",
       "f1-score      0.697     0.432      0.605      0.565         0.642\n",
       "precision     0.885     0.309      0.605      0.597         0.765\n",
       "recall        0.575     0.718      0.605      0.647         0.605\n",
       "support    5906.000  1564.000   7470.000   7470.000      7470.000"
      ]
     },
     "metadata": {},
     "output_type": "display_data"
    },
    {
     "name": "stdout",
     "output_type": "stream",
     "text": [
      "Model Saved on  roc_auc 0.713640079922191\n"
     ]
    },
    {
     "data": {
      "application/vnd.jupyter.widget-view+json": {
       "model_id": "556f0df2fa3d4b12b8044f489075e9de",
       "version_major": 2,
       "version_minor": 0
      },
      "text/plain": [
       "HBox(children=(IntProgress(value=0, max=920), HTML(value='')))"
      ]
     },
     "metadata": {},
     "output_type": "display_data"
    },
    {
     "data": {
      "application/vnd.jupyter.widget-view+json": {
       "model_id": "2d7e528ef14f4817b1017bb6b1ca7628",
       "version_major": 2,
       "version_minor": 0
      },
      "text/plain": [
       "HBox(children=(IntProgress(value=0, max=234), HTML(value='')))"
      ]
     },
     "metadata": {},
     "output_type": "display_data"
    },
    {
     "name": "stdout",
     "output_type": "stream",
     "text": [
      "{'accuracy': 0.6931726907630522, 'roc_auc': 0.7187887301742647, 'pr_auc': 0.44125950961239196}\n"
     ]
    },
    {
     "data": {
      "text/html": [
       "<div>\n",
       "<style scoped>\n",
       "    .dataframe tbody tr th:only-of-type {\n",
       "        vertical-align: middle;\n",
       "    }\n",
       "\n",
       "    .dataframe tbody tr th {\n",
       "        vertical-align: top;\n",
       "    }\n",
       "\n",
       "    .dataframe thead th {\n",
       "        text-align: right;\n",
       "    }\n",
       "</style>\n",
       "<table border=\"1\" class=\"dataframe\">\n",
       "  <thead>\n",
       "    <tr style=\"text-align: right;\">\n",
       "      <th></th>\n",
       "      <th>0</th>\n",
       "      <th>1</th>\n",
       "      <th>micro avg</th>\n",
       "      <th>macro avg</th>\n",
       "      <th>weighted avg</th>\n",
       "    </tr>\n",
       "  </thead>\n",
       "  <tbody>\n",
       "    <tr>\n",
       "      <th>f1-score</th>\n",
       "      <td>0.786</td>\n",
       "      <td>0.456</td>\n",
       "      <td>0.693</td>\n",
       "      <td>0.621</td>\n",
       "      <td>0.717</td>\n",
       "    </tr>\n",
       "    <tr>\n",
       "      <th>precision</th>\n",
       "      <td>0.875</td>\n",
       "      <td>0.363</td>\n",
       "      <td>0.693</td>\n",
       "      <td>0.619</td>\n",
       "      <td>0.768</td>\n",
       "    </tr>\n",
       "    <tr>\n",
       "      <th>recall</th>\n",
       "      <td>0.714</td>\n",
       "      <td>0.614</td>\n",
       "      <td>0.693</td>\n",
       "      <td>0.664</td>\n",
       "      <td>0.693</td>\n",
       "    </tr>\n",
       "    <tr>\n",
       "      <th>support</th>\n",
       "      <td>5906.000</td>\n",
       "      <td>1564.000</td>\n",
       "      <td>7470.000</td>\n",
       "      <td>7470.000</td>\n",
       "      <td>7470.000</td>\n",
       "    </tr>\n",
       "  </tbody>\n",
       "</table>\n",
       "</div>"
      ],
      "text/plain": [
       "                  0         1  micro avg  macro avg  weighted avg\n",
       "f1-score      0.786     0.456      0.693      0.621         0.717\n",
       "precision     0.875     0.363      0.693      0.619         0.768\n",
       "recall        0.714     0.614      0.693      0.664         0.693\n",
       "support    5906.000  1564.000   7470.000   7470.000      7470.000"
      ]
     },
     "metadata": {},
     "output_type": "display_data"
    },
    {
     "name": "stdout",
     "output_type": "stream",
     "text": [
      "Model Saved on  roc_auc 0.7187887301742647\n"
     ]
    },
    {
     "data": {
      "application/vnd.jupyter.widget-view+json": {
       "model_id": "4b4fcf7b71704555993051e6db45f2cd",
       "version_major": 2,
       "version_minor": 0
      },
      "text/plain": [
       "HBox(children=(IntProgress(value=0, max=920), HTML(value='')))"
      ]
     },
     "metadata": {},
     "output_type": "display_data"
    },
    {
     "data": {
      "application/vnd.jupyter.widget-view+json": {
       "model_id": "13bbd00696cd43dca2d1dbd18be54578",
       "version_major": 2,
       "version_minor": 0
      },
      "text/plain": [
       "HBox(children=(IntProgress(value=0, max=234), HTML(value='')))"
      ]
     },
     "metadata": {},
     "output_type": "display_data"
    },
    {
     "name": "stdout",
     "output_type": "stream",
     "text": [
      "{'accuracy': 0.6927710843373494, 'roc_auc': 0.7233795143523036, 'pr_auc': 0.44645667674307454}\n"
     ]
    },
    {
     "data": {
      "text/html": [
       "<div>\n",
       "<style scoped>\n",
       "    .dataframe tbody tr th:only-of-type {\n",
       "        vertical-align: middle;\n",
       "    }\n",
       "\n",
       "    .dataframe tbody tr th {\n",
       "        vertical-align: top;\n",
       "    }\n",
       "\n",
       "    .dataframe thead th {\n",
       "        text-align: right;\n",
       "    }\n",
       "</style>\n",
       "<table border=\"1\" class=\"dataframe\">\n",
       "  <thead>\n",
       "    <tr style=\"text-align: right;\">\n",
       "      <th></th>\n",
       "      <th>0</th>\n",
       "      <th>1</th>\n",
       "      <th>micro avg</th>\n",
       "      <th>macro avg</th>\n",
       "      <th>weighted avg</th>\n",
       "    </tr>\n",
       "  </thead>\n",
       "  <tbody>\n",
       "    <tr>\n",
       "      <th>f1-score</th>\n",
       "      <td>0.786</td>\n",
       "      <td>0.457</td>\n",
       "      <td>0.693</td>\n",
       "      <td>0.621</td>\n",
       "      <td>0.717</td>\n",
       "    </tr>\n",
       "    <tr>\n",
       "      <th>precision</th>\n",
       "      <td>0.876</td>\n",
       "      <td>0.363</td>\n",
       "      <td>0.693</td>\n",
       "      <td>0.619</td>\n",
       "      <td>0.768</td>\n",
       "    </tr>\n",
       "    <tr>\n",
       "      <th>recall</th>\n",
       "      <td>0.713</td>\n",
       "      <td>0.618</td>\n",
       "      <td>0.693</td>\n",
       "      <td>0.665</td>\n",
       "      <td>0.693</td>\n",
       "    </tr>\n",
       "    <tr>\n",
       "      <th>support</th>\n",
       "      <td>5906.000</td>\n",
       "      <td>1564.000</td>\n",
       "      <td>7470.000</td>\n",
       "      <td>7470.000</td>\n",
       "      <td>7470.000</td>\n",
       "    </tr>\n",
       "  </tbody>\n",
       "</table>\n",
       "</div>"
      ],
      "text/plain": [
       "                  0         1  micro avg  macro avg  weighted avg\n",
       "f1-score      0.786     0.457      0.693      0.621         0.717\n",
       "precision     0.876     0.363      0.693      0.619         0.768\n",
       "recall        0.713     0.618      0.693      0.665         0.693\n",
       "support    5906.000  1564.000   7470.000   7470.000      7470.000"
      ]
     },
     "metadata": {},
     "output_type": "display_data"
    },
    {
     "name": "stdout",
     "output_type": "stream",
     "text": [
      "Model Saved on  roc_auc 0.7233795143523036\n"
     ]
    },
    {
     "data": {
      "application/vnd.jupyter.widget-view+json": {
       "model_id": "d25724c73481498dbe86cc22a3cfea6e",
       "version_major": 2,
       "version_minor": 0
      },
      "text/plain": [
       "HBox(children=(IntProgress(value=0, max=920), HTML(value='')))"
      ]
     },
     "metadata": {},
     "output_type": "display_data"
    },
    {
     "data": {
      "application/vnd.jupyter.widget-view+json": {
       "model_id": "79e943474d8b4540a4b2acfafdb84f4a",
       "version_major": 2,
       "version_minor": 0
      },
      "text/plain": [
       "HBox(children=(IntProgress(value=0, max=234), HTML(value='')))"
      ]
     },
     "metadata": {},
     "output_type": "display_data"
    },
    {
     "name": "stdout",
     "output_type": "stream",
     "text": [
      "{'accuracy': 0.665863453815261, 'roc_auc': 0.723944579745943, 'pr_auc': 0.44451347079691683}\n"
     ]
    },
    {
     "data": {
      "text/html": [
       "<div>\n",
       "<style scoped>\n",
       "    .dataframe tbody tr th:only-of-type {\n",
       "        vertical-align: middle;\n",
       "    }\n",
       "\n",
       "    .dataframe tbody tr th {\n",
       "        vertical-align: top;\n",
       "    }\n",
       "\n",
       "    .dataframe thead th {\n",
       "        text-align: right;\n",
       "    }\n",
       "</style>\n",
       "<table border=\"1\" class=\"dataframe\">\n",
       "  <thead>\n",
       "    <tr style=\"text-align: right;\">\n",
       "      <th></th>\n",
       "      <th>0</th>\n",
       "      <th>1</th>\n",
       "      <th>micro avg</th>\n",
       "      <th>macro avg</th>\n",
       "      <th>weighted avg</th>\n",
       "    </tr>\n",
       "  </thead>\n",
       "  <tbody>\n",
       "    <tr>\n",
       "      <th>f1-score</th>\n",
       "      <td>0.760</td>\n",
       "      <td>0.449</td>\n",
       "      <td>0.666</td>\n",
       "      <td>0.605</td>\n",
       "      <td>0.695</td>\n",
       "    </tr>\n",
       "    <tr>\n",
       "      <th>precision</th>\n",
       "      <td>0.879</td>\n",
       "      <td>0.343</td>\n",
       "      <td>0.666</td>\n",
       "      <td>0.611</td>\n",
       "      <td>0.767</td>\n",
       "    </tr>\n",
       "    <tr>\n",
       "      <th>recall</th>\n",
       "      <td>0.670</td>\n",
       "      <td>0.652</td>\n",
       "      <td>0.666</td>\n",
       "      <td>0.661</td>\n",
       "      <td>0.666</td>\n",
       "    </tr>\n",
       "    <tr>\n",
       "      <th>support</th>\n",
       "      <td>5906.000</td>\n",
       "      <td>1564.000</td>\n",
       "      <td>7470.000</td>\n",
       "      <td>7470.000</td>\n",
       "      <td>7470.000</td>\n",
       "    </tr>\n",
       "  </tbody>\n",
       "</table>\n",
       "</div>"
      ],
      "text/plain": [
       "                  0         1  micro avg  macro avg  weighted avg\n",
       "f1-score      0.760     0.449      0.666      0.605         0.695\n",
       "precision     0.879     0.343      0.666      0.611         0.767\n",
       "recall        0.670     0.652      0.666      0.661         0.666\n",
       "support    5906.000  1564.000   7470.000   7470.000      7470.000"
      ]
     },
     "metadata": {},
     "output_type": "display_data"
    },
    {
     "name": "stdout",
     "output_type": "stream",
     "text": [
      "Model Saved on  roc_auc 0.723944579745943\n"
     ]
    },
    {
     "data": {
      "application/vnd.jupyter.widget-view+json": {
       "model_id": "7bbbf16de640408cbc4398340d281a17",
       "version_major": 2,
       "version_minor": 0
      },
      "text/plain": [
       "HBox(children=(IntProgress(value=0, max=920), HTML(value='')))"
      ]
     },
     "metadata": {},
     "output_type": "display_data"
    },
    {
     "data": {
      "application/vnd.jupyter.widget-view+json": {
       "model_id": "4418b90315d645bead7332cea528a2f0",
       "version_major": 2,
       "version_minor": 0
      },
      "text/plain": [
       "HBox(children=(IntProgress(value=0, max=234), HTML(value='')))"
      ]
     },
     "metadata": {},
     "output_type": "display_data"
    },
    {
     "name": "stdout",
     "output_type": "stream",
     "text": [
      "{'accuracy': 0.658768406961178, 'roc_auc': 0.7257980526977204, 'pr_auc': 0.45537886026346397}\n"
     ]
    },
    {
     "data": {
      "text/html": [
       "<div>\n",
       "<style scoped>\n",
       "    .dataframe tbody tr th:only-of-type {\n",
       "        vertical-align: middle;\n",
       "    }\n",
       "\n",
       "    .dataframe tbody tr th {\n",
       "        vertical-align: top;\n",
       "    }\n",
       "\n",
       "    .dataframe thead th {\n",
       "        text-align: right;\n",
       "    }\n",
       "</style>\n",
       "<table border=\"1\" class=\"dataframe\">\n",
       "  <thead>\n",
       "    <tr style=\"text-align: right;\">\n",
       "      <th></th>\n",
       "      <th>0</th>\n",
       "      <th>1</th>\n",
       "      <th>micro avg</th>\n",
       "      <th>macro avg</th>\n",
       "      <th>weighted avg</th>\n",
       "    </tr>\n",
       "  </thead>\n",
       "  <tbody>\n",
       "    <tr>\n",
       "      <th>f1-score</th>\n",
       "      <td>0.752</td>\n",
       "      <td>0.452</td>\n",
       "      <td>0.659</td>\n",
       "      <td>0.602</td>\n",
       "      <td>0.689</td>\n",
       "    </tr>\n",
       "    <tr>\n",
       "      <th>precision</th>\n",
       "      <td>0.883</td>\n",
       "      <td>0.340</td>\n",
       "      <td>0.659</td>\n",
       "      <td>0.612</td>\n",
       "      <td>0.769</td>\n",
       "    </tr>\n",
       "    <tr>\n",
       "      <th>recall</th>\n",
       "      <td>0.655</td>\n",
       "      <td>0.672</td>\n",
       "      <td>0.659</td>\n",
       "      <td>0.664</td>\n",
       "      <td>0.659</td>\n",
       "    </tr>\n",
       "    <tr>\n",
       "      <th>support</th>\n",
       "      <td>5906.000</td>\n",
       "      <td>1564.000</td>\n",
       "      <td>7470.000</td>\n",
       "      <td>7470.000</td>\n",
       "      <td>7470.000</td>\n",
       "    </tr>\n",
       "  </tbody>\n",
       "</table>\n",
       "</div>"
      ],
      "text/plain": [
       "                  0         1  micro avg  macro avg  weighted avg\n",
       "f1-score      0.752     0.452      0.659      0.602         0.689\n",
       "precision     0.883     0.340      0.659      0.612         0.769\n",
       "recall        0.655     0.672      0.659      0.664         0.659\n",
       "support    5906.000  1564.000   7470.000   7470.000      7470.000"
      ]
     },
     "metadata": {},
     "output_type": "display_data"
    },
    {
     "name": "stdout",
     "output_type": "stream",
     "text": [
      "Model Saved on  roc_auc 0.7257980526977204\n"
     ]
    },
    {
     "data": {
      "application/vnd.jupyter.widget-view+json": {
       "model_id": "db34a2aeeaad40648872eadbe7db1632",
       "version_major": 2,
       "version_minor": 0
      },
      "text/plain": [
       "HBox(children=(IntProgress(value=0, max=920), HTML(value='')))"
      ]
     },
     "metadata": {},
     "output_type": "display_data"
    },
    {
     "data": {
      "application/vnd.jupyter.widget-view+json": {
       "model_id": "8a102b969ef946a7b23dd4f0fac1eaa7",
       "version_major": 2,
       "version_minor": 0
      },
      "text/plain": [
       "HBox(children=(IntProgress(value=0, max=234), HTML(value='')))"
      ]
     },
     "metadata": {},
     "output_type": "display_data"
    },
    {
     "name": "stdout",
     "output_type": "stream",
     "text": [
      "{'accuracy': 0.6958500669344043, 'roc_auc': 0.7222628619904505, 'pr_auc': 0.4509299402664907}\n"
     ]
    },
    {
     "data": {
      "text/html": [
       "<div>\n",
       "<style scoped>\n",
       "    .dataframe tbody tr th:only-of-type {\n",
       "        vertical-align: middle;\n",
       "    }\n",
       "\n",
       "    .dataframe tbody tr th {\n",
       "        vertical-align: top;\n",
       "    }\n",
       "\n",
       "    .dataframe thead th {\n",
       "        text-align: right;\n",
       "    }\n",
       "</style>\n",
       "<table border=\"1\" class=\"dataframe\">\n",
       "  <thead>\n",
       "    <tr style=\"text-align: right;\">\n",
       "      <th></th>\n",
       "      <th>0</th>\n",
       "      <th>1</th>\n",
       "      <th>micro avg</th>\n",
       "      <th>macro avg</th>\n",
       "      <th>weighted avg</th>\n",
       "    </tr>\n",
       "  </thead>\n",
       "  <tbody>\n",
       "    <tr>\n",
       "      <th>f1-score</th>\n",
       "      <td>0.789</td>\n",
       "      <td>0.457</td>\n",
       "      <td>0.696</td>\n",
       "      <td>0.623</td>\n",
       "      <td>0.719</td>\n",
       "    </tr>\n",
       "    <tr>\n",
       "      <th>precision</th>\n",
       "      <td>0.875</td>\n",
       "      <td>0.365</td>\n",
       "      <td>0.696</td>\n",
       "      <td>0.620</td>\n",
       "      <td>0.768</td>\n",
       "    </tr>\n",
       "    <tr>\n",
       "      <th>recall</th>\n",
       "      <td>0.718</td>\n",
       "      <td>0.611</td>\n",
       "      <td>0.696</td>\n",
       "      <td>0.665</td>\n",
       "      <td>0.696</td>\n",
       "    </tr>\n",
       "    <tr>\n",
       "      <th>support</th>\n",
       "      <td>5906.000</td>\n",
       "      <td>1564.000</td>\n",
       "      <td>7470.000</td>\n",
       "      <td>7470.000</td>\n",
       "      <td>7470.000</td>\n",
       "    </tr>\n",
       "  </tbody>\n",
       "</table>\n",
       "</div>"
      ],
      "text/plain": [
       "                  0         1  micro avg  macro avg  weighted avg\n",
       "f1-score      0.789     0.457      0.696      0.623         0.719\n",
       "precision     0.875     0.365      0.696      0.620         0.768\n",
       "recall        0.718     0.611      0.696      0.665         0.696\n",
       "support    5906.000  1564.000   7470.000   7470.000      7470.000"
      ]
     },
     "metadata": {},
     "output_type": "display_data"
    },
    {
     "name": "stdout",
     "output_type": "stream",
     "text": [
      "Model not saved on  roc_auc 0.7222628619904505\n"
     ]
    },
    {
     "data": {
      "application/vnd.jupyter.widget-view+json": {
       "model_id": "f01582021d1a49aaaa93298af7108b90",
       "version_major": 2,
       "version_minor": 0
      },
      "text/plain": [
       "HBox(children=(IntProgress(value=0, max=920), HTML(value='')))"
      ]
     },
     "metadata": {},
     "output_type": "display_data"
    },
    {
     "data": {
      "application/vnd.jupyter.widget-view+json": {
       "model_id": "cb7ade3b0f9e4647a0cc898f9d806df2",
       "version_major": 2,
       "version_minor": 0
      },
      "text/plain": [
       "HBox(children=(IntProgress(value=0, max=234), HTML(value='')))"
      ]
     },
     "metadata": {},
     "output_type": "display_data"
    },
    {
     "name": "stdout",
     "output_type": "stream",
     "text": [
      "{'accuracy': 0.743908969210174, 'roc_auc': 0.7189805676831311, 'pr_auc': 0.44727131350691646}\n"
     ]
    },
    {
     "data": {
      "text/html": [
       "<div>\n",
       "<style scoped>\n",
       "    .dataframe tbody tr th:only-of-type {\n",
       "        vertical-align: middle;\n",
       "    }\n",
       "\n",
       "    .dataframe tbody tr th {\n",
       "        vertical-align: top;\n",
       "    }\n",
       "\n",
       "    .dataframe thead th {\n",
       "        text-align: right;\n",
       "    }\n",
       "</style>\n",
       "<table border=\"1\" class=\"dataframe\">\n",
       "  <thead>\n",
       "    <tr style=\"text-align: right;\">\n",
       "      <th></th>\n",
       "      <th>0</th>\n",
       "      <th>1</th>\n",
       "      <th>micro avg</th>\n",
       "      <th>macro avg</th>\n",
       "      <th>weighted avg</th>\n",
       "    </tr>\n",
       "  </thead>\n",
       "  <tbody>\n",
       "    <tr>\n",
       "      <th>f1-score</th>\n",
       "      <td>0.831</td>\n",
       "      <td>0.468</td>\n",
       "      <td>0.744</td>\n",
       "      <td>0.649</td>\n",
       "      <td>0.755</td>\n",
       "    </tr>\n",
       "    <tr>\n",
       "      <th>precision</th>\n",
       "      <td>0.867</td>\n",
       "      <td>0.414</td>\n",
       "      <td>0.744</td>\n",
       "      <td>0.640</td>\n",
       "      <td>0.772</td>\n",
       "    </tr>\n",
       "    <tr>\n",
       "      <th>recall</th>\n",
       "      <td>0.799</td>\n",
       "      <td>0.537</td>\n",
       "      <td>0.744</td>\n",
       "      <td>0.668</td>\n",
       "      <td>0.744</td>\n",
       "    </tr>\n",
       "    <tr>\n",
       "      <th>support</th>\n",
       "      <td>5906.000</td>\n",
       "      <td>1564.000</td>\n",
       "      <td>7470.000</td>\n",
       "      <td>7470.000</td>\n",
       "      <td>7470.000</td>\n",
       "    </tr>\n",
       "  </tbody>\n",
       "</table>\n",
       "</div>"
      ],
      "text/plain": [
       "                  0         1  micro avg  macro avg  weighted avg\n",
       "f1-score      0.831     0.468      0.744      0.649         0.755\n",
       "precision     0.867     0.414      0.744      0.640         0.772\n",
       "recall        0.799     0.537      0.744      0.668         0.744\n",
       "support    5906.000  1564.000   7470.000   7470.000      7470.000"
      ]
     },
     "metadata": {},
     "output_type": "display_data"
    },
    {
     "name": "stdout",
     "output_type": "stream",
     "text": [
      "Model not saved on  roc_auc 0.7189805676831311\n"
     ]
    },
    {
     "data": {
      "application/vnd.jupyter.widget-view+json": {
       "model_id": "246352ee7da94dcda7bc1dda94a90ce3",
       "version_major": 2,
       "version_minor": 0
      },
      "text/plain": [
       "HBox(children=(IntProgress(value=0, max=920), HTML(value='')))"
      ]
     },
     "metadata": {},
     "output_type": "display_data"
    },
    {
     "data": {
      "application/vnd.jupyter.widget-view+json": {
       "model_id": "71aff2aa156d4cd3b020e5058cfc3071",
       "version_major": 2,
       "version_minor": 0
      },
      "text/plain": [
       "HBox(children=(IntProgress(value=0, max=234), HTML(value='')))"
      ]
     },
     "metadata": {},
     "output_type": "display_data"
    },
    {
     "name": "stdout",
     "output_type": "stream",
     "text": [
      "{'accuracy': 0.7056224899598393, 'roc_auc': 0.7169284368144407, 'pr_auc': 0.4473050072285517}\n"
     ]
    },
    {
     "data": {
      "text/html": [
       "<div>\n",
       "<style scoped>\n",
       "    .dataframe tbody tr th:only-of-type {\n",
       "        vertical-align: middle;\n",
       "    }\n",
       "\n",
       "    .dataframe tbody tr th {\n",
       "        vertical-align: top;\n",
       "    }\n",
       "\n",
       "    .dataframe thead th {\n",
       "        text-align: right;\n",
       "    }\n",
       "</style>\n",
       "<table border=\"1\" class=\"dataframe\">\n",
       "  <thead>\n",
       "    <tr style=\"text-align: right;\">\n",
       "      <th></th>\n",
       "      <th>0</th>\n",
       "      <th>1</th>\n",
       "      <th>micro avg</th>\n",
       "      <th>macro avg</th>\n",
       "      <th>weighted avg</th>\n",
       "    </tr>\n",
       "  </thead>\n",
       "  <tbody>\n",
       "    <tr>\n",
       "      <th>f1-score</th>\n",
       "      <td>0.798</td>\n",
       "      <td>0.456</td>\n",
       "      <td>0.706</td>\n",
       "      <td>0.627</td>\n",
       "      <td>0.727</td>\n",
       "    </tr>\n",
       "    <tr>\n",
       "      <th>precision</th>\n",
       "      <td>0.871</td>\n",
       "      <td>0.372</td>\n",
       "      <td>0.706</td>\n",
       "      <td>0.622</td>\n",
       "      <td>0.767</td>\n",
       "    </tr>\n",
       "    <tr>\n",
       "      <th>recall</th>\n",
       "      <td>0.736</td>\n",
       "      <td>0.590</td>\n",
       "      <td>0.706</td>\n",
       "      <td>0.663</td>\n",
       "      <td>0.706</td>\n",
       "    </tr>\n",
       "    <tr>\n",
       "      <th>support</th>\n",
       "      <td>5906.000</td>\n",
       "      <td>1564.000</td>\n",
       "      <td>7470.000</td>\n",
       "      <td>7470.000</td>\n",
       "      <td>7470.000</td>\n",
       "    </tr>\n",
       "  </tbody>\n",
       "</table>\n",
       "</div>"
      ],
      "text/plain": [
       "                  0         1  micro avg  macro avg  weighted avg\n",
       "f1-score      0.798     0.456      0.706      0.627         0.727\n",
       "precision     0.871     0.372      0.706      0.622         0.767\n",
       "recall        0.736     0.590      0.706      0.663         0.706\n",
       "support    5906.000  1564.000   7470.000   7470.000      7470.000"
      ]
     },
     "metadata": {},
     "output_type": "display_data"
    },
    {
     "name": "stderr",
     "output_type": "stream",
     "text": [
      "INFO - 2019-03-25 14:05:43,882 - instantiating class <class 'PatientVec.models.Model.Model'> from params {'type': 'seq_classifier', 'embedder': {'type': 'token_embedder', 'vocab_size': 32246, 'embed_size': 200, 'embedding_file': './preprocess/Readmission/embedding_matrix.npy'}, 'decoder': {'num_layers': 2, 'hidden_dims': [128, 1], 'activations': ['tanh', 'linear']}, 'predictor': {'type': 'binary', 'replicate': True, 'alpha': 0.3}, 'structured': {'use_structured': True, 'structured_dim': 142}, 'encoder': {'type': 'average', 'projection': True, 'hidden_size': 256, 'activation': 'relu'}} and extras {}\n",
      "INFO - 2019-03-25 14:05:43,883 - type = seq_classifier\n",
      "INFO - 2019-03-25 14:05:43,883 - instantiating class <class 'PatientVec.models.modules.Embedder.Embedder'> from params {'type': 'token_embedder', 'vocab_size': 32246, 'embed_size': 200, 'embedding_file': './preprocess/Readmission/embedding_matrix.npy'} and extras {}\n",
      "INFO - 2019-03-25 14:05:43,883 - embedder.type = token_embedder\n",
      "INFO - 2019-03-25 14:05:43,884 - instantiating class <class 'PatientVec.models.modules.Embedder.TokenEmbedder'> from params {'vocab_size': 32246, 'embed_size': 200, 'embedding_file': './preprocess/Readmission/embedding_matrix.npy'} and extras {}\n",
      "INFO - 2019-03-25 14:05:43,884 - embedder.vocab_size = 32246\n",
      "INFO - 2019-03-25 14:05:43,884 - embedder.embed_size = 200\n",
      "INFO - 2019-03-25 14:05:43,885 - embedder.embedding_file = ./preprocess/Readmission/embedding_matrix.npy\n",
      "INFO - 2019-03-25 14:05:43,901 - instantiating class <class 'PatientVec.models.modules.Encoder.Encoder'> from params {'type': 'average', 'projection': True, 'hidden_size': 256, 'activation': 'relu'} and extras {'input_size': 200}\n",
      "INFO - 2019-03-25 14:05:43,902 - encoder.type = average\n",
      "INFO - 2019-03-25 14:05:43,902 - instantiating class <class 'PatientVec.models.modules.Encoder.AverageEncoder'> from params {'projection': True, 'hidden_size': 256, 'activation': 'relu'} and extras {'input_size': 200}\n",
      "INFO - 2019-03-25 14:05:43,902 - encoder.projection = True\n",
      "INFO - 2019-03-25 14:05:43,903 - encoder.hidden_size = 256\n",
      "INFO - 2019-03-25 14:05:43,903 - encoder.activation = relu\n",
      "INFO - 2019-03-25 14:05:43,904 - decoder.input_dim = 398\n",
      "INFO - 2019-03-25 14:05:43,904 - decoder.num_layers = 2\n",
      "INFO - 2019-03-25 14:05:43,905 - decoder.hidden_dims = [128, 1]\n",
      "INFO - 2019-03-25 14:05:43,905 - decoder.activations = ['tanh', 'linear']\n",
      "INFO - 2019-03-25 14:05:43,905 - decoder.dropout = 0.0\n",
      "INFO - 2019-03-25 14:05:43,906 - instantiating class <class 'PatientVec.models.modules.Predictor.Predictor'> from params {'type': 'binary', 'replicate': True, 'alpha': 0.3} and extras {}\n",
      "INFO - 2019-03-25 14:05:43,906 - predictor.type = binary\n",
      "INFO - 2019-03-25 14:05:43,906 - instantiating class <class 'PatientVec.models.modules.Predictor.Binary_Predictor'> from params {'replicate': True, 'alpha': 0.3} and extras {}\n",
      "INFO - 2019-03-25 14:05:43,907 - predictor.replicate = True\n",
      "INFO - 2019-03-25 14:05:43,907 - predictor.alpha = 0.3\n"
     ]
    },
    {
     "name": "stdout",
     "output_type": "stream",
     "text": [
      "Model not saved on  roc_auc 0.7169284368144407\n",
      "0.7257980526977204 deque([0.7222628619904505, 0.7189805676831311, 0.7169284368144407], maxlen=3)\n",
      "\n",
      "Setting Embedding\n"
     ]
    },
    {
     "data": {
      "application/vnd.jupyter.widget-view+json": {
       "model_id": "d59b9909d0f34177b7ce2711f034d6df",
       "version_major": 2,
       "version_minor": 0
      },
      "text/plain": [
       "HBox(children=(IntProgress(value=0, max=234), HTML(value='')))"
      ]
     },
     "metadata": {},
     "output_type": "display_data"
    },
    {
     "name": "stdout",
     "output_type": "stream",
     "text": [
      "\n",
      "{'accuracy': 0.658768406961178, 'roc_auc': 0.7257980526977204, 'pr_auc': 0.45537886026346397}\n"
     ]
    },
    {
     "data": {
      "text/html": [
       "<div>\n",
       "<style scoped>\n",
       "    .dataframe tbody tr th:only-of-type {\n",
       "        vertical-align: middle;\n",
       "    }\n",
       "\n",
       "    .dataframe tbody tr th {\n",
       "        vertical-align: top;\n",
       "    }\n",
       "\n",
       "    .dataframe thead th {\n",
       "        text-align: right;\n",
       "    }\n",
       "</style>\n",
       "<table border=\"1\" class=\"dataframe\">\n",
       "  <thead>\n",
       "    <tr style=\"text-align: right;\">\n",
       "      <th></th>\n",
       "      <th>0</th>\n",
       "      <th>1</th>\n",
       "      <th>micro avg</th>\n",
       "      <th>macro avg</th>\n",
       "      <th>weighted avg</th>\n",
       "    </tr>\n",
       "  </thead>\n",
       "  <tbody>\n",
       "    <tr>\n",
       "      <th>f1-score</th>\n",
       "      <td>0.752</td>\n",
       "      <td>0.452</td>\n",
       "      <td>0.659</td>\n",
       "      <td>0.602</td>\n",
       "      <td>0.689</td>\n",
       "    </tr>\n",
       "    <tr>\n",
       "      <th>precision</th>\n",
       "      <td>0.883</td>\n",
       "      <td>0.340</td>\n",
       "      <td>0.659</td>\n",
       "      <td>0.612</td>\n",
       "      <td>0.769</td>\n",
       "    </tr>\n",
       "    <tr>\n",
       "      <th>recall</th>\n",
       "      <td>0.655</td>\n",
       "      <td>0.672</td>\n",
       "      <td>0.659</td>\n",
       "      <td>0.664</td>\n",
       "      <td>0.659</td>\n",
       "    </tr>\n",
       "    <tr>\n",
       "      <th>support</th>\n",
       "      <td>5906.000</td>\n",
       "      <td>1564.000</td>\n",
       "      <td>7470.000</td>\n",
       "      <td>7470.000</td>\n",
       "      <td>7470.000</td>\n",
       "    </tr>\n",
       "  </tbody>\n",
       "</table>\n",
       "</div>"
      ],
      "text/plain": [
       "                  0         1  micro avg  macro avg  weighted avg\n",
       "f1-score      0.752     0.452      0.659      0.602         0.689\n",
       "precision     0.883     0.340      0.659      0.612         0.769\n",
       "recall        0.655     0.672      0.659      0.664         0.659\n",
       "support    5906.000  1564.000   7470.000   7470.000      7470.000"
      ]
     },
     "metadata": {},
     "output_type": "display_data"
    },
    {
     "name": "stderr",
     "output_type": "stream",
     "text": [
      "INFO - 2019-03-25 14:06:12,489 - instantiating class <class 'PatientVec.models.Model.Model'> from params {'type': 'seq_classifier', 'embedder': {'type': 'token_embedder', 'vocab_size': 32246, 'embed_size': 200, 'embedding_file': './preprocess/Readmission/embedding_matrix.npy'}, 'decoder': {'num_layers': 2, 'hidden_dims': [128, 1], 'activations': ['tanh', 'linear']}, 'predictor': {'type': 'binary', 'replicate': True, 'alpha': 0.3}, 'structured': {'use_structured': True, 'structured_dim': 142}, 'encoder': {'type': 'lstm', 'hidden_size': 128}} and extras {}\n",
      "INFO - 2019-03-25 14:06:12,490 - type = seq_classifier\n",
      "INFO - 2019-03-25 14:06:12,490 - instantiating class <class 'PatientVec.models.modules.Embedder.Embedder'> from params {'type': 'token_embedder', 'vocab_size': 32246, 'embed_size': 200, 'embedding_file': './preprocess/Readmission/embedding_matrix.npy'} and extras {}\n",
      "INFO - 2019-03-25 14:06:12,490 - embedder.type = token_embedder\n",
      "INFO - 2019-03-25 14:06:12,491 - instantiating class <class 'PatientVec.models.modules.Embedder.TokenEmbedder'> from params {'vocab_size': 32246, 'embed_size': 200, 'embedding_file': './preprocess/Readmission/embedding_matrix.npy'} and extras {}\n",
      "INFO - 2019-03-25 14:06:12,491 - embedder.vocab_size = 32246\n",
      "INFO - 2019-03-25 14:06:12,492 - embedder.embed_size = 200\n",
      "INFO - 2019-03-25 14:06:12,492 - embedder.embedding_file = ./preprocess/Readmission/embedding_matrix.npy\n",
      "INFO - 2019-03-25 14:06:12,509 - instantiating class <class 'PatientVec.models.modules.Encoder.Encoder'> from params {'type': 'lstm', 'hidden_size': 128} and extras {'input_size': 200}\n",
      "INFO - 2019-03-25 14:06:12,509 - encoder.type = lstm\n",
      "INFO - 2019-03-25 14:06:12,509 - instantiating class <class 'PatientVec.models.modules.Encoder.wrap_pytorch_rnn.<locals>.BiRNNEncoder'> from params {'hidden_size': 128} and extras {'input_size': 200}\n",
      "INFO - 2019-03-25 14:06:12,510 - encoder.hidden_size = 128\n",
      "INFO - 2019-03-25 14:06:12,512 - decoder.input_dim = 398\n",
      "INFO - 2019-03-25 14:06:12,512 - decoder.num_layers = 2\n",
      "INFO - 2019-03-25 14:06:12,512 - decoder.hidden_dims = [128, 1]\n",
      "INFO - 2019-03-25 14:06:12,513 - decoder.activations = ['tanh', 'linear']\n",
      "INFO - 2019-03-25 14:06:12,513 - decoder.dropout = 0.0\n",
      "INFO - 2019-03-25 14:06:12,514 - instantiating class <class 'PatientVec.models.modules.Predictor.Predictor'> from params {'type': 'binary', 'replicate': True, 'alpha': 0.3} and extras {}\n",
      "INFO - 2019-03-25 14:06:12,514 - predictor.type = binary\n",
      "INFO - 2019-03-25 14:06:12,514 - instantiating class <class 'PatientVec.models.modules.Predictor.Binary_Predictor'> from params {'replicate': True, 'alpha': 0.3} and extras {}\n",
      "INFO - 2019-03-25 14:06:12,515 - predictor.replicate = True\n",
      "INFO - 2019-03-25 14:06:12,515 - predictor.alpha = 0.3\n"
     ]
    },
    {
     "name": "stdout",
     "output_type": "stream",
     "text": [
      "============================================================================================================================================================================================================================================================================================================\n",
      "{'model': {'type': 'seq_classifier', 'embedder': {'type': 'token_embedder', 'vocab_size': 32246, 'embed_size': 200, 'embedding_file': './preprocess/Readmission/embedding_matrix.npy'}, 'decoder': {'num_layers': 2, 'hidden_dims': [128, 1], 'activations': ['tanh', 'linear']}, 'predictor': {'type': 'binary', 'replicate': True, 'alpha': 0.3}, 'structured': {'use_structured': True, 'structured_dim': 142}, 'encoder': {'type': 'lstm', 'hidden_size': 128}}, 'training_config': {'type': 'Adam', 'groups': [('.*', {'lr': 0.001, 'weight_decay': 1e-05})], 'common': {'bsize': 32, 'class_weight': True}}, 'exp_config': {'exp_name': 'Readmission/Basic/LSTM(hs=128)+Structured+replicate(alpha=+0.3)', 'basepath': 'outputs'}}\n",
      "Setting Embedding\n"
     ]
    },
    {
     "data": {
      "application/vnd.jupyter.widget-view+json": {
       "model_id": "3289a24467da4782ba1d421462c6ad8e",
       "version_major": 2,
       "version_minor": 0
      },
      "text/plain": [
       "HBox(children=(IntProgress(value=0, max=15), HTML(value='')))"
      ]
     },
     "metadata": {},
     "output_type": "display_data"
    },
    {
     "data": {
      "application/vnd.jupyter.widget-view+json": {
       "model_id": "717af4ef41ee46c4a170c8db1e52c216",
       "version_major": 2,
       "version_minor": 0
      },
      "text/plain": [
       "HBox(children=(IntProgress(value=0, max=920), HTML(value='')))"
      ]
     },
     "metadata": {},
     "output_type": "display_data"
    },
    {
     "data": {
      "application/vnd.jupyter.widget-view+json": {
       "model_id": "9c518bed252c4d49a21795b0030f6de5",
       "version_major": 2,
       "version_minor": 0
      },
      "text/plain": [
       "HBox(children=(IntProgress(value=0, max=234), HTML(value='')))"
      ]
     },
     "metadata": {},
     "output_type": "display_data"
    },
    {
     "name": "stdout",
     "output_type": "stream",
     "text": [
      "{'accuracy': 0.659437751004016, 'roc_auc': 0.6877125693841193, 'pr_auc': 0.38632472697087644}\n"
     ]
    },
    {
     "data": {
      "text/html": [
       "<div>\n",
       "<style scoped>\n",
       "    .dataframe tbody tr th:only-of-type {\n",
       "        vertical-align: middle;\n",
       "    }\n",
       "\n",
       "    .dataframe tbody tr th {\n",
       "        vertical-align: top;\n",
       "    }\n",
       "\n",
       "    .dataframe thead th {\n",
       "        text-align: right;\n",
       "    }\n",
       "</style>\n",
       "<table border=\"1\" class=\"dataframe\">\n",
       "  <thead>\n",
       "    <tr style=\"text-align: right;\">\n",
       "      <th></th>\n",
       "      <th>0</th>\n",
       "      <th>1</th>\n",
       "      <th>micro avg</th>\n",
       "      <th>macro avg</th>\n",
       "      <th>weighted avg</th>\n",
       "    </tr>\n",
       "  </thead>\n",
       "  <tbody>\n",
       "    <tr>\n",
       "      <th>f1-score</th>\n",
       "      <td>0.757</td>\n",
       "      <td>0.431</td>\n",
       "      <td>0.659</td>\n",
       "      <td>0.594</td>\n",
       "      <td>0.689</td>\n",
       "    </tr>\n",
       "    <tr>\n",
       "      <th>precision</th>\n",
       "      <td>0.869</td>\n",
       "      <td>0.332</td>\n",
       "      <td>0.659</td>\n",
       "      <td>0.600</td>\n",
       "      <td>0.756</td>\n",
       "    </tr>\n",
       "    <tr>\n",
       "      <th>recall</th>\n",
       "      <td>0.671</td>\n",
       "      <td>0.617</td>\n",
       "      <td>0.659</td>\n",
       "      <td>0.644</td>\n",
       "      <td>0.659</td>\n",
       "    </tr>\n",
       "    <tr>\n",
       "      <th>support</th>\n",
       "      <td>5906.000</td>\n",
       "      <td>1564.000</td>\n",
       "      <td>7470.000</td>\n",
       "      <td>7470.000</td>\n",
       "      <td>7470.000</td>\n",
       "    </tr>\n",
       "  </tbody>\n",
       "</table>\n",
       "</div>"
      ],
      "text/plain": [
       "                  0         1  micro avg  macro avg  weighted avg\n",
       "f1-score      0.757     0.431      0.659      0.594         0.689\n",
       "precision     0.869     0.332      0.659      0.600         0.756\n",
       "recall        0.671     0.617      0.659      0.644         0.659\n",
       "support    5906.000  1564.000   7470.000   7470.000      7470.000"
      ]
     },
     "metadata": {},
     "output_type": "display_data"
    },
    {
     "name": "stdout",
     "output_type": "stream",
     "text": [
      "Model Saved on  roc_auc 0.6877125693841193\n"
     ]
    },
    {
     "data": {
      "application/vnd.jupyter.widget-view+json": {
       "model_id": "98c96708d2344cb3962958b959a31475",
       "version_major": 2,
       "version_minor": 0
      },
      "text/plain": [
       "HBox(children=(IntProgress(value=0, max=920), HTML(value='')))"
      ]
     },
     "metadata": {},
     "output_type": "display_data"
    },
    {
     "data": {
      "application/vnd.jupyter.widget-view+json": {
       "model_id": "67d8a9fe02aa45dead1add9faa57f357",
       "version_major": 2,
       "version_minor": 0
      },
      "text/plain": [
       "HBox(children=(IntProgress(value=0, max=234), HTML(value='')))"
      ]
     },
     "metadata": {},
     "output_type": "display_data"
    },
    {
     "name": "stdout",
     "output_type": "stream",
     "text": [
      "{'accuracy': 0.6812583668005354, 'roc_auc': 0.6984794495692533, 'pr_auc': 0.40428435560043136}\n"
     ]
    },
    {
     "data": {
      "text/html": [
       "<div>\n",
       "<style scoped>\n",
       "    .dataframe tbody tr th:only-of-type {\n",
       "        vertical-align: middle;\n",
       "    }\n",
       "\n",
       "    .dataframe tbody tr th {\n",
       "        vertical-align: top;\n",
       "    }\n",
       "\n",
       "    .dataframe thead th {\n",
       "        text-align: right;\n",
       "    }\n",
       "</style>\n",
       "<table border=\"1\" class=\"dataframe\">\n",
       "  <thead>\n",
       "    <tr style=\"text-align: right;\">\n",
       "      <th></th>\n",
       "      <th>0</th>\n",
       "      <th>1</th>\n",
       "      <th>micro avg</th>\n",
       "      <th>macro avg</th>\n",
       "      <th>weighted avg</th>\n",
       "    </tr>\n",
       "  </thead>\n",
       "  <tbody>\n",
       "    <tr>\n",
       "      <th>f1-score</th>\n",
       "      <td>0.779</td>\n",
       "      <td>0.430</td>\n",
       "      <td>0.681</td>\n",
       "      <td>0.604</td>\n",
       "      <td>0.706</td>\n",
       "    </tr>\n",
       "    <tr>\n",
       "      <th>precision</th>\n",
       "      <td>0.863</td>\n",
       "      <td>0.344</td>\n",
       "      <td>0.681</td>\n",
       "      <td>0.603</td>\n",
       "      <td>0.754</td>\n",
       "    </tr>\n",
       "    <tr>\n",
       "      <th>recall</th>\n",
       "      <td>0.710</td>\n",
       "      <td>0.574</td>\n",
       "      <td>0.681</td>\n",
       "      <td>0.642</td>\n",
       "      <td>0.681</td>\n",
       "    </tr>\n",
       "    <tr>\n",
       "      <th>support</th>\n",
       "      <td>5906.000</td>\n",
       "      <td>1564.000</td>\n",
       "      <td>7470.000</td>\n",
       "      <td>7470.000</td>\n",
       "      <td>7470.000</td>\n",
       "    </tr>\n",
       "  </tbody>\n",
       "</table>\n",
       "</div>"
      ],
      "text/plain": [
       "                  0         1  micro avg  macro avg  weighted avg\n",
       "f1-score      0.779     0.430      0.681      0.604         0.706\n",
       "precision     0.863     0.344      0.681      0.603         0.754\n",
       "recall        0.710     0.574      0.681      0.642         0.681\n",
       "support    5906.000  1564.000   7470.000   7470.000      7470.000"
      ]
     },
     "metadata": {},
     "output_type": "display_data"
    },
    {
     "name": "stdout",
     "output_type": "stream",
     "text": [
      "Model Saved on  roc_auc 0.6984794495692533\n"
     ]
    },
    {
     "data": {
      "application/vnd.jupyter.widget-view+json": {
       "model_id": "54c7aaa8de444ccd831ead301b310e17",
       "version_major": 2,
       "version_minor": 0
      },
      "text/plain": [
       "HBox(children=(IntProgress(value=0, max=920), HTML(value='')))"
      ]
     },
     "metadata": {},
     "output_type": "display_data"
    },
    {
     "data": {
      "application/vnd.jupyter.widget-view+json": {
       "model_id": "cf85c290a8f144d5aa3c5ac7fe01cafe",
       "version_major": 2,
       "version_minor": 0
      },
      "text/plain": [
       "HBox(children=(IntProgress(value=0, max=234), HTML(value='')))"
      ]
     },
     "metadata": {},
     "output_type": "display_data"
    },
    {
     "name": "stdout",
     "output_type": "stream",
     "text": [
      "{'accuracy': 0.6376171352074966, 'roc_auc': 0.6900678294993258, 'pr_auc': 0.39601370669381497}\n"
     ]
    },
    {
     "data": {
      "text/html": [
       "<div>\n",
       "<style scoped>\n",
       "    .dataframe tbody tr th:only-of-type {\n",
       "        vertical-align: middle;\n",
       "    }\n",
       "\n",
       "    .dataframe tbody tr th {\n",
       "        vertical-align: top;\n",
       "    }\n",
       "\n",
       "    .dataframe thead th {\n",
       "        text-align: right;\n",
       "    }\n",
       "</style>\n",
       "<table border=\"1\" class=\"dataframe\">\n",
       "  <thead>\n",
       "    <tr style=\"text-align: right;\">\n",
       "      <th></th>\n",
       "      <th>0</th>\n",
       "      <th>1</th>\n",
       "      <th>micro avg</th>\n",
       "      <th>macro avg</th>\n",
       "      <th>weighted avg</th>\n",
       "    </tr>\n",
       "  </thead>\n",
       "  <tbody>\n",
       "    <tr>\n",
       "      <th>f1-score</th>\n",
       "      <td>0.736</td>\n",
       "      <td>0.421</td>\n",
       "      <td>0.638</td>\n",
       "      <td>0.579</td>\n",
       "      <td>0.670</td>\n",
       "    </tr>\n",
       "    <tr>\n",
       "      <th>precision</th>\n",
       "      <td>0.867</td>\n",
       "      <td>0.316</td>\n",
       "      <td>0.638</td>\n",
       "      <td>0.592</td>\n",
       "      <td>0.752</td>\n",
       "    </tr>\n",
       "    <tr>\n",
       "      <th>recall</th>\n",
       "      <td>0.640</td>\n",
       "      <td>0.630</td>\n",
       "      <td>0.638</td>\n",
       "      <td>0.635</td>\n",
       "      <td>0.638</td>\n",
       "    </tr>\n",
       "    <tr>\n",
       "      <th>support</th>\n",
       "      <td>5906.000</td>\n",
       "      <td>1564.000</td>\n",
       "      <td>7470.000</td>\n",
       "      <td>7470.000</td>\n",
       "      <td>7470.000</td>\n",
       "    </tr>\n",
       "  </tbody>\n",
       "</table>\n",
       "</div>"
      ],
      "text/plain": [
       "                  0         1  micro avg  macro avg  weighted avg\n",
       "f1-score      0.736     0.421      0.638      0.579         0.670\n",
       "precision     0.867     0.316      0.638      0.592         0.752\n",
       "recall        0.640     0.630      0.638      0.635         0.638\n",
       "support    5906.000  1564.000   7470.000   7470.000      7470.000"
      ]
     },
     "metadata": {},
     "output_type": "display_data"
    },
    {
     "name": "stdout",
     "output_type": "stream",
     "text": [
      "Model not saved on  roc_auc 0.6900678294993258\n"
     ]
    },
    {
     "data": {
      "application/vnd.jupyter.widget-view+json": {
       "model_id": "cefc8b9550d44b5c87ed4e4e145eba06",
       "version_major": 2,
       "version_minor": 0
      },
      "text/plain": [
       "HBox(children=(IntProgress(value=0, max=920), HTML(value='')))"
      ]
     },
     "metadata": {},
     "output_type": "display_data"
    },
    {
     "name": "stdout",
     "output_type": "stream",
     "text": [
      "\n"
     ]
    },
    {
     "ename": "KeyboardInterrupt",
     "evalue": "",
     "output_type": "error",
     "traceback": [
      "\u001b[0;31m---------------------------------------------------------------------------\u001b[0m",
      "\u001b[0;31mKeyboardInterrupt\u001b[0m                         Traceback (most recent call last)",
      "\u001b[0;32m~/gil/PatientVec/Discovery Experiments/Replicate.py\u001b[0m in \u001b[0;36m<module>\u001b[0;34m\u001b[0m\n\u001b[1;32m     19\u001b[0m \u001b[0mdata\u001b[0m \u001b[0;34m=\u001b[0m \u001b[0mdataloaders\u001b[0m\u001b[0;34m.\u001b[0m\u001b[0mdataloaders\u001b[0m\u001b[0;34m[\u001b[0m\u001b[0margs\u001b[0m\u001b[0;34m.\u001b[0m\u001b[0mdataset\u001b[0m\u001b[0;34m]\u001b[0m\u001b[0;34m(\u001b[0m\u001b[0margs\u001b[0m\u001b[0;34m)\u001b[0m\u001b[0;34m\u001b[0m\u001b[0;34m\u001b[0m\u001b[0m\n\u001b[1;32m     20\u001b[0m \u001b[0;32mfor\u001b[0m \u001b[0mexp_type\u001b[0m \u001b[0;32min\u001b[0m \u001b[0margs\u001b[0m\u001b[0;34m.\u001b[0m\u001b[0mexp_types\u001b[0m \u001b[0;34m:\u001b[0m\u001b[0;34m\u001b[0m\u001b[0;34m\u001b[0m\u001b[0m\n\u001b[0;32m---> 21\u001b[0;31m     \u001b[0mexperiment_types\u001b[0m\u001b[0;34m[\u001b[0m\u001b[0mexp_type\u001b[0m\u001b[0;34m]\u001b[0m\u001b[0;34m(\u001b[0m\u001b[0mdata\u001b[0m\u001b[0;34m,\u001b[0m \u001b[0margs\u001b[0m\u001b[0;34m)\u001b[0m\u001b[0;34m\u001b[0m\u001b[0;34m\u001b[0m\u001b[0m\n\u001b[0m",
      "\u001b[0;32m~/gil/PatientVec/Experiments/hyperparam_exps.py\u001b[0m in \u001b[0;36mvanilla_experiments\u001b[0;34m(data, args)\u001b[0m\n\u001b[1;32m     25\u001b[0m \u001b[0;34m\u001b[0m\u001b[0m\n\u001b[1;32m     26\u001b[0m         \u001b[0mn_iters\u001b[0m \u001b[0;34m=\u001b[0m \u001b[0mvars\u001b[0m\u001b[0;34m(\u001b[0m\u001b[0margs\u001b[0m\u001b[0;34m)\u001b[0m\u001b[0;34m.\u001b[0m\u001b[0mget\u001b[0m\u001b[0;34m(\u001b[0m\u001b[0;34m'n_iters'\u001b[0m\u001b[0;34m,\u001b[0m \u001b[0;36m10\u001b[0m\u001b[0;34m)\u001b[0m\u001b[0;34m\u001b[0m\u001b[0;34m\u001b[0m\u001b[0m\n\u001b[0;32m---> 27\u001b[0;31m         \u001b[0mtrainer\u001b[0m \u001b[0;34m=\u001b[0m \u001b[0mTrainer\u001b[0m\u001b[0;34m(\u001b[0m\u001b[0mBasicCT\u001b[0m\u001b[0;34m,\u001b[0m \u001b[0mconfig\u001b[0m\u001b[0;34m,\u001b[0m \u001b[0m_type\u001b[0m\u001b[0;34m=\u001b[0m\u001b[0mdata\u001b[0m\u001b[0;34m.\u001b[0m\u001b[0mmetrics_type\u001b[0m\u001b[0;34m,\u001b[0m \u001b[0mdisplay_metrics\u001b[0m\u001b[0;34m=\u001b[0m\u001b[0margs\u001b[0m\u001b[0;34m.\u001b[0m\u001b[0mdisplay\u001b[0m\u001b[0;34m)\u001b[0m\u001b[0;34m\u001b[0m\u001b[0;34m\u001b[0m\u001b[0m\n\u001b[0m\u001b[1;32m     28\u001b[0m         \u001b[0mtrainer\u001b[0m\u001b[0;34m.\u001b[0m\u001b[0mtrain\u001b[0m\u001b[0;34m(\u001b[0m\u001b[0mtrain_data\u001b[0m\u001b[0;34m,\u001b[0m \u001b[0mdev_data\u001b[0m\u001b[0;34m,\u001b[0m \u001b[0mn_iters\u001b[0m\u001b[0;34m=\u001b[0m\u001b[0mn_iters\u001b[0m\u001b[0;34m,\u001b[0m \u001b[0msave_on_metric\u001b[0m\u001b[0;34m=\u001b[0m\u001b[0mdata\u001b[0m\u001b[0;34m.\u001b[0m\u001b[0msave_on_metric\u001b[0m\u001b[0;34m)\u001b[0m\u001b[0;34m\u001b[0m\u001b[0;34m\u001b[0m\u001b[0m\n\u001b[1;32m     29\u001b[0m \u001b[0;34m\u001b[0m\u001b[0m\n",
      "\u001b[0;32m~/gil/PatientVec/trainer.py\u001b[0m in \u001b[0;36mtrain\u001b[0;34m(self, train_data, test_data, n_iters, save_on_metric)\u001b[0m\n\u001b[1;32m     18\u001b[0m         \u001b[0mlast_few_metrics\u001b[0m \u001b[0;34m=\u001b[0m \u001b[0mdeque\u001b[0m\u001b[0;34m(\u001b[0m\u001b[0mmaxlen\u001b[0m\u001b[0;34m=\u001b[0m\u001b[0;36m3\u001b[0m\u001b[0;34m)\u001b[0m\u001b[0;34m\u001b[0m\u001b[0;34m\u001b[0m\u001b[0m\n\u001b[1;32m     19\u001b[0m         \u001b[0;32mfor\u001b[0m \u001b[0m_\u001b[0m \u001b[0;32min\u001b[0m \u001b[0mtqdm_notebook\u001b[0m\u001b[0;34m(\u001b[0m\u001b[0mrange\u001b[0m\u001b[0;34m(\u001b[0m\u001b[0mn_iters\u001b[0m\u001b[0;34m)\u001b[0m\u001b[0;34m)\u001b[0m \u001b[0;34m:\u001b[0m\u001b[0;34m\u001b[0m\u001b[0;34m\u001b[0m\u001b[0m\n\u001b[0;32m---> 20\u001b[0;31m             \u001b[0mself\u001b[0m\u001b[0;34m.\u001b[0m\u001b[0mmodel\u001b[0m\u001b[0;34m.\u001b[0m\u001b[0mtrain\u001b[0m\u001b[0;34m(\u001b[0m\u001b[0mtrain_data\u001b[0m\u001b[0;34m)\u001b[0m\u001b[0;34m\u001b[0m\u001b[0;34m\u001b[0m\u001b[0m\n\u001b[0m\u001b[1;32m     21\u001b[0m \u001b[0;34m\u001b[0m\u001b[0m\n\u001b[1;32m     22\u001b[0m             \u001b[0moutputs\u001b[0m \u001b[0;34m=\u001b[0m \u001b[0mself\u001b[0m\u001b[0;34m.\u001b[0m\u001b[0mmodel\u001b[0m\u001b[0;34m.\u001b[0m\u001b[0mevaluate\u001b[0m\u001b[0;34m(\u001b[0m\u001b[0mtest_data\u001b[0m\u001b[0;34m)\u001b[0m\u001b[0;34m\u001b[0m\u001b[0;34m\u001b[0m\u001b[0m\n",
      "\u001b[0;32m~/gil/PatientVec/models/Vanilla.py\u001b[0m in \u001b[0;36mtrain\u001b[0;34m(self, train_data)\u001b[0m\n\u001b[1;32m     48\u001b[0m \u001b[0;34m\u001b[0m\u001b[0m\n\u001b[1;32m     49\u001b[0m             \u001b[0mself\u001b[0m\u001b[0;34m.\u001b[0m\u001b[0moptimizer\u001b[0m\u001b[0;34m.\u001b[0m\u001b[0mzero_grad\u001b[0m\u001b[0;34m(\u001b[0m\u001b[0;34m)\u001b[0m\u001b[0;34m\u001b[0m\u001b[0;34m\u001b[0m\u001b[0m\n\u001b[0;32m---> 50\u001b[0;31m             \u001b[0mloss\u001b[0m\u001b[0;34m.\u001b[0m\u001b[0mbackward\u001b[0m\u001b[0;34m(\u001b[0m\u001b[0;34m)\u001b[0m\u001b[0;34m\u001b[0m\u001b[0;34m\u001b[0m\u001b[0m\n\u001b[0m\u001b[1;32m     51\u001b[0m             \u001b[0mnn\u001b[0m\u001b[0;34m.\u001b[0m\u001b[0mutils\u001b[0m\u001b[0;34m.\u001b[0m\u001b[0mclip_grad_norm_\u001b[0m\u001b[0;34m(\u001b[0m\u001b[0mself\u001b[0m\u001b[0;34m.\u001b[0m\u001b[0mmodel\u001b[0m\u001b[0;34m.\u001b[0m\u001b[0mparameters\u001b[0m\u001b[0;34m(\u001b[0m\u001b[0;34m)\u001b[0m\u001b[0;34m,\u001b[0m \u001b[0;36m10\u001b[0m\u001b[0;34m)\u001b[0m\u001b[0;34m\u001b[0m\u001b[0;34m\u001b[0m\u001b[0m\n\u001b[1;32m     52\u001b[0m             \u001b[0mself\u001b[0m\u001b[0;34m.\u001b[0m\u001b[0moptimizer\u001b[0m\u001b[0;34m.\u001b[0m\u001b[0mstep\u001b[0m\u001b[0;34m(\u001b[0m\u001b[0;34m)\u001b[0m\u001b[0;34m\u001b[0m\u001b[0;34m\u001b[0m\u001b[0m\n",
      "\u001b[0;32m~/anaconda3/lib/python3.7/site-packages/torch/tensor.py\u001b[0m in \u001b[0;36mbackward\u001b[0;34m(self, gradient, retain_graph, create_graph)\u001b[0m\n\u001b[1;32m    104\u001b[0m                 \u001b[0mproducts\u001b[0m\u001b[0;34m.\u001b[0m \u001b[0mDefaults\u001b[0m \u001b[0mto\u001b[0m\u001b[0;31m \u001b[0m\u001b[0;31m`\u001b[0m\u001b[0;31m`\u001b[0m\u001b[0;32mFalse\u001b[0m\u001b[0;31m`\u001b[0m\u001b[0;31m`\u001b[0m\u001b[0;34m.\u001b[0m\u001b[0;34m\u001b[0m\u001b[0;34m\u001b[0m\u001b[0m\n\u001b[1;32m    105\u001b[0m         \"\"\"\n\u001b[0;32m--> 106\u001b[0;31m         \u001b[0mtorch\u001b[0m\u001b[0;34m.\u001b[0m\u001b[0mautograd\u001b[0m\u001b[0;34m.\u001b[0m\u001b[0mbackward\u001b[0m\u001b[0;34m(\u001b[0m\u001b[0mself\u001b[0m\u001b[0;34m,\u001b[0m \u001b[0mgradient\u001b[0m\u001b[0;34m,\u001b[0m \u001b[0mretain_graph\u001b[0m\u001b[0;34m,\u001b[0m \u001b[0mcreate_graph\u001b[0m\u001b[0;34m)\u001b[0m\u001b[0;34m\u001b[0m\u001b[0;34m\u001b[0m\u001b[0m\n\u001b[0m\u001b[1;32m    107\u001b[0m \u001b[0;34m\u001b[0m\u001b[0m\n\u001b[1;32m    108\u001b[0m     \u001b[0;32mdef\u001b[0m \u001b[0mregister_hook\u001b[0m\u001b[0;34m(\u001b[0m\u001b[0mself\u001b[0m\u001b[0;34m,\u001b[0m \u001b[0mhook\u001b[0m\u001b[0;34m)\u001b[0m\u001b[0;34m:\u001b[0m\u001b[0;34m\u001b[0m\u001b[0;34m\u001b[0m\u001b[0m\n",
      "\u001b[0;32m~/anaconda3/lib/python3.7/site-packages/torch/autograd/__init__.py\u001b[0m in \u001b[0;36mbackward\u001b[0;34m(tensors, grad_tensors, retain_graph, create_graph, grad_variables)\u001b[0m\n\u001b[1;32m     91\u001b[0m     Variable._execution_engine.run_backward(\n\u001b[1;32m     92\u001b[0m         \u001b[0mtensors\u001b[0m\u001b[0;34m,\u001b[0m \u001b[0mgrad_tensors\u001b[0m\u001b[0;34m,\u001b[0m \u001b[0mretain_graph\u001b[0m\u001b[0;34m,\u001b[0m \u001b[0mcreate_graph\u001b[0m\u001b[0;34m,\u001b[0m\u001b[0;34m\u001b[0m\u001b[0;34m\u001b[0m\u001b[0m\n\u001b[0;32m---> 93\u001b[0;31m         allow_unreachable=True)  # allow_unreachable flag\n\u001b[0m\u001b[1;32m     94\u001b[0m \u001b[0;34m\u001b[0m\u001b[0m\n\u001b[1;32m     95\u001b[0m \u001b[0;34m\u001b[0m\u001b[0m\n",
      "\u001b[0;31mKeyboardInterrupt\u001b[0m: "
     ]
    }
   ],
   "source": [
    "%run \"Discovery Experiments\"/Replicate.py --data_dir='.' --dataset readmission --alpha 0.3 --output_dir='outputs' --structured --exp_types vanilla --display"
   ]
  },
  {
   "cell_type": "code",
   "execution_count": null,
   "metadata": {},
   "outputs": [
    {
     "name": "stderr",
     "output_type": "stream",
     "text": [
      "INFO - 2019-03-25 14:30:36,451 - Reading Structured data ...\n",
      "INFO - 2019-03-25 14:30:36,518 - Reading Notes ...\n"
     ]
    }
   ],
   "source": [
    "%run \"Discovery Experiments\"/Replicate.py --data_dir='.' --dataset mortality_30day --alpha 0.3 --output_dir='outputs' --structured --exp_types vanilla --display"
   ]
  },
  {
   "cell_type": "code",
   "execution_count": null,
   "metadata": {},
   "outputs": [],
   "source": [
    "%run \"Discovery Experiments\"/Replicate.py --data_dir='.' --dataset diagnosis --alpha 0.3 --output_dir='outputs' --structured --exp_types vanilla --display"
   ]
  },
  {
   "cell_type": "code",
   "execution_count": null,
   "metadata": {},
   "outputs": [],
   "source": [
    "%run \"Discovery Experiments\"/Replicate.py --data_dir='.' --dataset mortality_1yr --alpha 0.3 --output_dir='outputs' --structured --exp_types vanilla --display"
   ]
  },
  {
   "cell_type": "code",
   "execution_count": null,
   "metadata": {},
   "outputs": [],
   "source": []
  }
 ],
 "metadata": {
  "kernelspec": {
   "display_name": "Python 3",
   "language": "python",
   "name": "python3"
  },
  "language_info": {
   "codemirror_mode": {
    "name": "ipython",
    "version": 3
   },
   "file_extension": ".py",
   "mimetype": "text/x-python",
   "name": "python",
   "nbconvert_exporter": "python",
   "pygments_lexer": "ipython3",
   "version": "3.7.2"
  }
 },
 "nbformat": 4,
 "nbformat_minor": 2
}
