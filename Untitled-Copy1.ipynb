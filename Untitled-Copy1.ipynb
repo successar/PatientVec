{
 "cells": [
  {
   "cell_type": "code",
   "execution_count": 1,
   "metadata": {},
   "outputs": [
    {
     "name": "stdout",
     "output_type": "stream",
     "text": [
      "Better speed can be achieved with apex installed from https://www.github.com/nvidia/apex.\n"
     ]
    },
    {
     "name": "stderr",
     "output_type": "stream",
     "text": [
      "INFO - 2019-03-23 14:32:23,763 - Reading Structured data ...\n",
      "INFO - 2019-03-23 14:32:24,037 - Reading Notes ...\n",
      "INFO - 2019-03-23 14:32:36,206 - Stratifying ...\n"
     ]
    },
    {
     "name": "stdout",
     "output_type": "stream",
     "text": [
      "Pos Percentage [0.19738451]\n"
     ]
    },
    {
     "name": "stderr",
     "output_type": "stream",
     "text": [
      "INFO - 2019-03-23 14:32:41,867 - Maximum Sentence Length 721825.000000 , 90 percentile length 18689.000000 ... \n",
      "INFO - 2019-03-23 14:32:56,478 - Truncated all ...\n",
      "INFO - 2019-03-23 14:32:56,528 - Idxs removed [1249]...\n"
     ]
    },
    {
     "name": "stdout",
     "output_type": "stream",
     "text": [
      "Pos Percentage [0.20937082]\n"
     ]
    },
    {
     "name": "stderr",
     "output_type": "stream",
     "text": [
      "INFO - 2019-03-23 14:32:58,015 - Maximum Sentence Length 588265.000000 , 90 percentile length 19174.000000 ... \n",
      "INFO - 2019-03-23 14:33:00,638 - Truncated all ...\n",
      "INFO - 2019-03-23 14:33:00,651 - Idxs removed []...\n",
      "INFO - 2019-03-23 14:33:00,724 - instantiating class <class 'PatientVec.models.Model.Model'> from params {'type': 'seq_classifier', 'embedder': {'type': 'token_embedder', 'vocab_size': 32246, 'embed_size': 200, 'embedding_file': './preprocess/Readmission/embedding_matrix.npy'}, 'decoder': {'num_layers': 2, 'hidden_dims': [128, 1], 'activations': ['tanh', 'linear']}, 'predictor': {'type': 'binary'}, 'structured': {'use_structured': True, 'structured_dim': 142}, 'encoder': {'type': 'lstm', 'hidden_size': 128}} and extras {}\n",
      "INFO - 2019-03-23 14:33:00,724 - type = seq_classifier\n",
      "INFO - 2019-03-23 14:33:00,725 - instantiating class <class 'PatientVec.models.modules.Embedder.Embedder'> from params {'type': 'token_embedder', 'vocab_size': 32246, 'embed_size': 200, 'embedding_file': './preprocess/Readmission/embedding_matrix.npy'} and extras {}\n",
      "INFO - 2019-03-23 14:33:00,726 - embedder.type = token_embedder\n",
      "INFO - 2019-03-23 14:33:00,727 - instantiating class <class 'PatientVec.models.modules.Embedder.TokenEmbedder'> from params {'vocab_size': 32246, 'embed_size': 200, 'embedding_file': './preprocess/Readmission/embedding_matrix.npy'} and extras {}\n",
      "INFO - 2019-03-23 14:33:00,777 - embedder.vocab_size = 32246\n",
      "INFO - 2019-03-23 14:33:00,777 - embedder.embed_size = 200\n",
      "INFO - 2019-03-23 14:33:00,778 - embedder.embedding_file = ./preprocess/Readmission/embedding_matrix.npy\n",
      "INFO - 2019-03-23 14:33:00,796 - instantiating class <class 'PatientVec.models.modules.Encoder.Encoder'> from params {'type': 'lstm', 'hidden_size': 128} and extras {'input_size': 200}\n",
      "INFO - 2019-03-23 14:33:00,797 - encoder.type = lstm\n",
      "INFO - 2019-03-23 14:33:00,797 - instantiating class <class 'PatientVec.models.modules.Encoder.wrap_pytorch_rnn.<locals>.BiRNNEncoder'> from params {'hidden_size': 128} and extras {'input_size': 200}\n",
      "INFO - 2019-03-23 14:33:00,797 - encoder.hidden_size = 128\n",
      "INFO - 2019-03-23 14:33:00,799 - decoder.input_dim = 398\n",
      "INFO - 2019-03-23 14:33:00,800 - decoder.num_layers = 2\n",
      "INFO - 2019-03-23 14:33:00,800 - decoder.hidden_dims = [128, 1]\n",
      "INFO - 2019-03-23 14:33:00,800 - decoder.activations = ['tanh', 'linear']\n",
      "INFO - 2019-03-23 14:33:00,800 - decoder.dropout = 0.0\n",
      "INFO - 2019-03-23 14:33:00,802 - instantiating class <class 'PatientVec.models.modules.Predictor.Predictor'> from params {'type': 'binary'} and extras {}\n",
      "INFO - 2019-03-23 14:33:00,802 - predictor.type = binary\n",
      "INFO - 2019-03-23 14:33:00,802 - instantiating class <class 'PatientVec.models.modules.Predictor.Binary_Predictor'> from params {} and extras {}\n",
      "INFO - 2019-03-23 14:33:00,802 - predictor.replicate = False\n",
      "INFO - 2019-03-23 14:33:00,803 - predictor.alpha = 0.5\n"
     ]
    },
    {
     "name": "stdout",
     "output_type": "stream",
     "text": [
      "{'model': {'type': 'seq_classifier', 'embedder': {'type': 'token_embedder', 'vocab_size': 32246, 'embed_size': 200, 'embedding_file': './preprocess/Readmission/embedding_matrix.npy'}, 'decoder': {'num_layers': 2, 'hidden_dims': [128, 1], 'activations': ['tanh', 'linear']}, 'predictor': {'type': 'binary'}, 'structured': {'use_structured': True, 'structured_dim': 142}, 'encoder': {'type': 'lstm', 'hidden_size': 128}}, 'training_config': {'type': 'Adam', 'groups': [('.*', {'lr': 0.001, 'weight_decay': 1e-05})], 'common': {'bsize': 32, 'class_weight': True}}, 'exp_config': {'exp_name': 'Readmission/Basic/LSTM(hs=128)+Structured+Pretrained', 'basepath': 'outputs/'}}\n",
      "Setting Embedding\n"
     ]
    },
    {
     "data": {
      "application/vnd.jupyter.widget-view+json": {
       "model_id": "7977b49871844811b63393dc0e4881f4",
       "version_major": 2,
       "version_minor": 0
      },
      "text/plain": [
       "HBox(children=(IntProgress(value=0, max=15), HTML(value='')))"
      ]
     },
     "metadata": {},
     "output_type": "display_data"
    },
    {
     "data": {
      "application/vnd.jupyter.widget-view+json": {
       "model_id": "cac42cb1f4bc4fdab62b4808e6390054",
       "version_major": 2,
       "version_minor": 0
      },
      "text/plain": [
       "HBox(children=(IntProgress(value=0, max=920), HTML(value='')))"
      ]
     },
     "metadata": {},
     "output_type": "display_data"
    },
    {
     "data": {
      "application/vnd.jupyter.widget-view+json": {
       "model_id": "4795b168b4de48b3bceaea2eb8c4565b",
       "version_major": 2,
       "version_minor": 0
      },
      "text/plain": [
       "HBox(children=(IntProgress(value=0, max=234), HTML(value='')))"
      ]
     },
     "metadata": {},
     "output_type": "display_data"
    },
    {
     "name": "stdout",
     "output_type": "stream",
     "text": [
      "{'accuracy': 0.7137884872824631, 'roc_auc': 0.7169444052301055, 'pr_auc': 0.4109537414350881}\n"
     ]
    },
    {
     "data": {
      "text/html": [
       "<div>\n",
       "<style scoped>\n",
       "    .dataframe tbody tr th:only-of-type {\n",
       "        vertical-align: middle;\n",
       "    }\n",
       "\n",
       "    .dataframe tbody tr th {\n",
       "        vertical-align: top;\n",
       "    }\n",
       "\n",
       "    .dataframe thead th {\n",
       "        text-align: right;\n",
       "    }\n",
       "</style>\n",
       "<table border=\"1\" class=\"dataframe\">\n",
       "  <thead>\n",
       "    <tr style=\"text-align: right;\">\n",
       "      <th></th>\n",
       "      <th>0</th>\n",
       "      <th>1</th>\n",
       "      <th>micro avg</th>\n",
       "      <th>macro avg</th>\n",
       "      <th>weighted avg</th>\n",
       "    </tr>\n",
       "  </thead>\n",
       "  <tbody>\n",
       "    <tr>\n",
       "      <th>f1-score</th>\n",
       "      <td>0.807</td>\n",
       "      <td>0.450</td>\n",
       "      <td>0.714</td>\n",
       "      <td>0.628</td>\n",
       "      <td>0.732</td>\n",
       "    </tr>\n",
       "    <tr>\n",
       "      <th>precision</th>\n",
       "      <td>0.866</td>\n",
       "      <td>0.376</td>\n",
       "      <td>0.714</td>\n",
       "      <td>0.621</td>\n",
       "      <td>0.763</td>\n",
       "    </tr>\n",
       "    <tr>\n",
       "      <th>recall</th>\n",
       "      <td>0.755</td>\n",
       "      <td>0.559</td>\n",
       "      <td>0.714</td>\n",
       "      <td>0.657</td>\n",
       "      <td>0.714</td>\n",
       "    </tr>\n",
       "    <tr>\n",
       "      <th>support</th>\n",
       "      <td>5906.000</td>\n",
       "      <td>1564.000</td>\n",
       "      <td>7470.000</td>\n",
       "      <td>7470.000</td>\n",
       "      <td>7470.000</td>\n",
       "    </tr>\n",
       "  </tbody>\n",
       "</table>\n",
       "</div>"
      ],
      "text/plain": [
       "                  0         1  micro avg  macro avg  weighted avg\n",
       "f1-score      0.807     0.450      0.714      0.628         0.732\n",
       "precision     0.866     0.376      0.714      0.621         0.763\n",
       "recall        0.755     0.559      0.714      0.657         0.714\n",
       "support    5906.000  1564.000   7470.000   7470.000      7470.000"
      ]
     },
     "metadata": {},
     "output_type": "display_data"
    },
    {
     "name": "stdout",
     "output_type": "stream",
     "text": [
      "Model Saved on  roc_auc 0.7169444052301055\n"
     ]
    },
    {
     "data": {
      "application/vnd.jupyter.widget-view+json": {
       "model_id": "f4f53766a3ac441780169fdd1e8bda7a",
       "version_major": 2,
       "version_minor": 0
      },
      "text/plain": [
       "HBox(children=(IntProgress(value=0, max=920), HTML(value='')))"
      ]
     },
     "metadata": {},
     "output_type": "display_data"
    },
    {
     "data": {
      "application/vnd.jupyter.widget-view+json": {
       "model_id": "bef6c406faff4975a6a9469cdccd2fef",
       "version_major": 2,
       "version_minor": 0
      },
      "text/plain": [
       "HBox(children=(IntProgress(value=0, max=234), HTML(value='')))"
      ]
     },
     "metadata": {},
     "output_type": "display_data"
    },
    {
     "name": "stdout",
     "output_type": "stream",
     "text": [
      "{'accuracy': 0.635475234270415, 'roc_auc': 0.7107969982409842, 'pr_auc': 0.404804922700334}\n"
     ]
    },
    {
     "data": {
      "text/html": [
       "<div>\n",
       "<style scoped>\n",
       "    .dataframe tbody tr th:only-of-type {\n",
       "        vertical-align: middle;\n",
       "    }\n",
       "\n",
       "    .dataframe tbody tr th {\n",
       "        vertical-align: top;\n",
       "    }\n",
       "\n",
       "    .dataframe thead th {\n",
       "        text-align: right;\n",
       "    }\n",
       "</style>\n",
       "<table border=\"1\" class=\"dataframe\">\n",
       "  <thead>\n",
       "    <tr style=\"text-align: right;\">\n",
       "      <th></th>\n",
       "      <th>0</th>\n",
       "      <th>1</th>\n",
       "      <th>micro avg</th>\n",
       "      <th>macro avg</th>\n",
       "      <th>weighted avg</th>\n",
       "    </tr>\n",
       "  </thead>\n",
       "  <tbody>\n",
       "    <tr>\n",
       "      <th>f1-score</th>\n",
       "      <td>0.730</td>\n",
       "      <td>0.439</td>\n",
       "      <td>0.635</td>\n",
       "      <td>0.585</td>\n",
       "      <td>0.669</td>\n",
       "    </tr>\n",
       "    <tr>\n",
       "      <th>precision</th>\n",
       "      <td>0.881</td>\n",
       "      <td>0.324</td>\n",
       "      <td>0.635</td>\n",
       "      <td>0.603</td>\n",
       "      <td>0.764</td>\n",
       "    </tr>\n",
       "    <tr>\n",
       "      <th>recall</th>\n",
       "      <td>0.623</td>\n",
       "      <td>0.682</td>\n",
       "      <td>0.635</td>\n",
       "      <td>0.653</td>\n",
       "      <td>0.635</td>\n",
       "    </tr>\n",
       "    <tr>\n",
       "      <th>support</th>\n",
       "      <td>5906.000</td>\n",
       "      <td>1564.000</td>\n",
       "      <td>7470.000</td>\n",
       "      <td>7470.000</td>\n",
       "      <td>7470.000</td>\n",
       "    </tr>\n",
       "  </tbody>\n",
       "</table>\n",
       "</div>"
      ],
      "text/plain": [
       "                  0         1  micro avg  macro avg  weighted avg\n",
       "f1-score      0.730     0.439      0.635      0.585         0.669\n",
       "precision     0.881     0.324      0.635      0.603         0.764\n",
       "recall        0.623     0.682      0.635      0.653         0.635\n",
       "support    5906.000  1564.000   7470.000   7470.000      7470.000"
      ]
     },
     "metadata": {},
     "output_type": "display_data"
    },
    {
     "name": "stdout",
     "output_type": "stream",
     "text": [
      "Model not saved on  roc_auc 0.7107969982409842\n"
     ]
    },
    {
     "data": {
      "application/vnd.jupyter.widget-view+json": {
       "model_id": "e08fb7a142324fd78409c3d216a6e08d",
       "version_major": 2,
       "version_minor": 0
      },
      "text/plain": [
       "HBox(children=(IntProgress(value=0, max=920), HTML(value='')))"
      ]
     },
     "metadata": {},
     "output_type": "display_data"
    },
    {
     "data": {
      "application/vnd.jupyter.widget-view+json": {
       "model_id": "5e31db4f9193412491f5e724d659059a",
       "version_major": 2,
       "version_minor": 0
      },
      "text/plain": [
       "HBox(children=(IntProgress(value=0, max=234), HTML(value='')))"
      ]
     },
     "metadata": {},
     "output_type": "display_data"
    },
    {
     "name": "stdout",
     "output_type": "stream",
     "text": [
      "{'accuracy': 0.6728246318607765, 'roc_auc': 0.690364950291134, 'pr_auc': 0.3821015978307293}\n"
     ]
    },
    {
     "data": {
      "text/html": [
       "<div>\n",
       "<style scoped>\n",
       "    .dataframe tbody tr th:only-of-type {\n",
       "        vertical-align: middle;\n",
       "    }\n",
       "\n",
       "    .dataframe tbody tr th {\n",
       "        vertical-align: top;\n",
       "    }\n",
       "\n",
       "    .dataframe thead th {\n",
       "        text-align: right;\n",
       "    }\n",
       "</style>\n",
       "<table border=\"1\" class=\"dataframe\">\n",
       "  <thead>\n",
       "    <tr style=\"text-align: right;\">\n",
       "      <th></th>\n",
       "      <th>0</th>\n",
       "      <th>1</th>\n",
       "      <th>micro avg</th>\n",
       "      <th>macro avg</th>\n",
       "      <th>weighted avg</th>\n",
       "    </tr>\n",
       "  </thead>\n",
       "  <tbody>\n",
       "    <tr>\n",
       "      <th>f1-score</th>\n",
       "      <td>0.772</td>\n",
       "      <td>0.420</td>\n",
       "      <td>0.673</td>\n",
       "      <td>0.596</td>\n",
       "      <td>0.698</td>\n",
       "    </tr>\n",
       "    <tr>\n",
       "      <th>precision</th>\n",
       "      <td>0.859</td>\n",
       "      <td>0.334</td>\n",
       "      <td>0.673</td>\n",
       "      <td>0.597</td>\n",
       "      <td>0.749</td>\n",
       "    </tr>\n",
       "    <tr>\n",
       "      <th>recall</th>\n",
       "      <td>0.701</td>\n",
       "      <td>0.566</td>\n",
       "      <td>0.673</td>\n",
       "      <td>0.634</td>\n",
       "      <td>0.673</td>\n",
       "    </tr>\n",
       "    <tr>\n",
       "      <th>support</th>\n",
       "      <td>5906.000</td>\n",
       "      <td>1564.000</td>\n",
       "      <td>7470.000</td>\n",
       "      <td>7470.000</td>\n",
       "      <td>7470.000</td>\n",
       "    </tr>\n",
       "  </tbody>\n",
       "</table>\n",
       "</div>"
      ],
      "text/plain": [
       "                  0         1  micro avg  macro avg  weighted avg\n",
       "f1-score      0.772     0.420      0.673      0.596         0.698\n",
       "precision     0.859     0.334      0.673      0.597         0.749\n",
       "recall        0.701     0.566      0.673      0.634         0.673\n",
       "support    5906.000  1564.000   7470.000   7470.000      7470.000"
      ]
     },
     "metadata": {},
     "output_type": "display_data"
    },
    {
     "name": "stdout",
     "output_type": "stream",
     "text": [
      "Model not saved on  roc_auc 0.690364950291134\n"
     ]
    },
    {
     "data": {
      "application/vnd.jupyter.widget-view+json": {
       "model_id": "004459a60a8745259fb57fec8800e3a7",
       "version_major": 2,
       "version_minor": 0
      },
      "text/plain": [
       "HBox(children=(IntProgress(value=0, max=920), HTML(value='')))"
      ]
     },
     "metadata": {},
     "output_type": "display_data"
    },
    {
     "data": {
      "application/vnd.jupyter.widget-view+json": {
       "model_id": "d994e7aafee845579f2b1d674fcf13f9",
       "version_major": 2,
       "version_minor": 0
      },
      "text/plain": [
       "HBox(children=(IntProgress(value=0, max=234), HTML(value='')))"
      ]
     },
     "metadata": {},
     "output_type": "display_data"
    },
    {
     "name": "stdout",
     "output_type": "stream",
     "text": [
      "{'accuracy': 0.6892904953145917, 'roc_auc': 0.6701275004915024, 'pr_auc': 0.3589975307667429}\n"
     ]
    },
    {
     "data": {
      "text/html": [
       "<div>\n",
       "<style scoped>\n",
       "    .dataframe tbody tr th:only-of-type {\n",
       "        vertical-align: middle;\n",
       "    }\n",
       "\n",
       "    .dataframe tbody tr th {\n",
       "        vertical-align: top;\n",
       "    }\n",
       "\n",
       "    .dataframe thead th {\n",
       "        text-align: right;\n",
       "    }\n",
       "</style>\n",
       "<table border=\"1\" class=\"dataframe\">\n",
       "  <thead>\n",
       "    <tr style=\"text-align: right;\">\n",
       "      <th></th>\n",
       "      <th>0</th>\n",
       "      <th>1</th>\n",
       "      <th>micro avg</th>\n",
       "      <th>macro avg</th>\n",
       "      <th>weighted avg</th>\n",
       "    </tr>\n",
       "  </thead>\n",
       "  <tbody>\n",
       "    <tr>\n",
       "      <th>f1-score</th>\n",
       "      <td>0.792</td>\n",
       "      <td>0.390</td>\n",
       "      <td>0.689</td>\n",
       "      <td>0.591</td>\n",
       "      <td>0.707</td>\n",
       "    </tr>\n",
       "    <tr>\n",
       "      <th>precision</th>\n",
       "      <td>0.843</td>\n",
       "      <td>0.331</td>\n",
       "      <td>0.689</td>\n",
       "      <td>0.587</td>\n",
       "      <td>0.736</td>\n",
       "    </tr>\n",
       "    <tr>\n",
       "      <th>recall</th>\n",
       "      <td>0.746</td>\n",
       "      <td>0.474</td>\n",
       "      <td>0.689</td>\n",
       "      <td>0.610</td>\n",
       "      <td>0.689</td>\n",
       "    </tr>\n",
       "    <tr>\n",
       "      <th>support</th>\n",
       "      <td>5906.000</td>\n",
       "      <td>1564.000</td>\n",
       "      <td>7470.000</td>\n",
       "      <td>7470.000</td>\n",
       "      <td>7470.000</td>\n",
       "    </tr>\n",
       "  </tbody>\n",
       "</table>\n",
       "</div>"
      ],
      "text/plain": [
       "                  0         1  micro avg  macro avg  weighted avg\n",
       "f1-score      0.792     0.390      0.689      0.591         0.707\n",
       "precision     0.843     0.331      0.689      0.587         0.736\n",
       "recall        0.746     0.474      0.689      0.610         0.689\n",
       "support    5906.000  1564.000   7470.000   7470.000      7470.000"
      ]
     },
     "metadata": {},
     "output_type": "display_data"
    },
    {
     "name": "stderr",
     "output_type": "stream",
     "text": [
      "INFO - 2019-03-23 14:59:15,717 - instantiating class <class 'PatientVec.models.Model.Model'> from params {'type': 'seq_classifier', 'embedder': {'type': 'token_embedder', 'vocab_size': 32246, 'embed_size': 200, 'embedding_file': './preprocess/Readmission/embedding_matrix.npy'}, 'decoder': {'num_layers': 2, 'hidden_dims': [128, 1], 'activations': ['tanh', 'linear']}, 'predictor': {'type': 'binary'}, 'structured': {'use_structured': True, 'structured_dim': 142}, 'encoder': {'type': 'lstm', 'hidden_size': 128}} and extras {}\n",
      "INFO - 2019-03-23 14:59:15,717 - type = seq_classifier\n",
      "INFO - 2019-03-23 14:59:15,718 - instantiating class <class 'PatientVec.models.modules.Embedder.Embedder'> from params {'type': 'token_embedder', 'vocab_size': 32246, 'embed_size': 200, 'embedding_file': './preprocess/Readmission/embedding_matrix.npy'} and extras {}\n",
      "INFO - 2019-03-23 14:59:15,718 - embedder.type = token_embedder\n",
      "INFO - 2019-03-23 14:59:15,718 - instantiating class <class 'PatientVec.models.modules.Embedder.TokenEmbedder'> from params {'vocab_size': 32246, 'embed_size': 200, 'embedding_file': './preprocess/Readmission/embedding_matrix.npy'} and extras {}\n",
      "INFO - 2019-03-23 14:59:15,718 - embedder.vocab_size = 32246\n",
      "INFO - 2019-03-23 14:59:15,719 - embedder.embed_size = 200\n",
      "INFO - 2019-03-23 14:59:15,719 - embedder.embedding_file = ./preprocess/Readmission/embedding_matrix.npy\n",
      "INFO - 2019-03-23 14:59:15,737 - instantiating class <class 'PatientVec.models.modules.Encoder.Encoder'> from params {'type': 'lstm', 'hidden_size': 128} and extras {'input_size': 200}\n",
      "INFO - 2019-03-23 14:59:15,738 - encoder.type = lstm\n",
      "INFO - 2019-03-23 14:59:15,738 - instantiating class <class 'PatientVec.models.modules.Encoder.wrap_pytorch_rnn.<locals>.BiRNNEncoder'> from params {'hidden_size': 128} and extras {'input_size': 200}\n",
      "INFO - 2019-03-23 14:59:15,738 - encoder.hidden_size = 128\n",
      "INFO - 2019-03-23 14:59:15,741 - decoder.input_dim = 398\n",
      "INFO - 2019-03-23 14:59:15,741 - decoder.num_layers = 2\n",
      "INFO - 2019-03-23 14:59:15,741 - decoder.hidden_dims = [128, 1]\n",
      "INFO - 2019-03-23 14:59:15,741 - decoder.activations = ['tanh', 'linear']\n",
      "INFO - 2019-03-23 14:59:15,742 - decoder.dropout = 0.0\n",
      "INFO - 2019-03-23 14:59:15,743 - instantiating class <class 'PatientVec.models.modules.Predictor.Predictor'> from params {'type': 'binary'} and extras {}\n",
      "INFO - 2019-03-23 14:59:15,743 - predictor.type = binary\n",
      "INFO - 2019-03-23 14:59:15,743 - instantiating class <class 'PatientVec.models.modules.Predictor.Binary_Predictor'> from params {} and extras {}\n",
      "INFO - 2019-03-23 14:59:15,743 - predictor.replicate = False\n",
      "INFO - 2019-03-23 14:59:15,744 - predictor.alpha = 0.5\n"
     ]
    },
    {
     "name": "stdout",
     "output_type": "stream",
     "text": [
      "Model not saved on  roc_auc 0.6701275004915024\n",
      "0.7169444052301055 deque([0.7107969982409842, 0.690364950291134, 0.6701275004915024], maxlen=3)\n",
      "\n",
      "Setting Embedding\n"
     ]
    },
    {
     "data": {
      "application/vnd.jupyter.widget-view+json": {
       "model_id": "d4eafd0cd27547f4afa66431f175de34",
       "version_major": 2,
       "version_minor": 0
      },
      "text/plain": [
       "HBox(children=(IntProgress(value=0, max=234), HTML(value='')))"
      ]
     },
     "metadata": {},
     "output_type": "display_data"
    },
    {
     "name": "stdout",
     "output_type": "stream",
     "text": [
      "\n",
      "{'accuracy': 0.7137884872824631, 'roc_auc': 0.7169444052301055, 'pr_auc': 0.4109537414350881}\n"
     ]
    },
    {
     "data": {
      "text/html": [
       "<div>\n",
       "<style scoped>\n",
       "    .dataframe tbody tr th:only-of-type {\n",
       "        vertical-align: middle;\n",
       "    }\n",
       "\n",
       "    .dataframe tbody tr th {\n",
       "        vertical-align: top;\n",
       "    }\n",
       "\n",
       "    .dataframe thead th {\n",
       "        text-align: right;\n",
       "    }\n",
       "</style>\n",
       "<table border=\"1\" class=\"dataframe\">\n",
       "  <thead>\n",
       "    <tr style=\"text-align: right;\">\n",
       "      <th></th>\n",
       "      <th>0</th>\n",
       "      <th>1</th>\n",
       "      <th>micro avg</th>\n",
       "      <th>macro avg</th>\n",
       "      <th>weighted avg</th>\n",
       "    </tr>\n",
       "  </thead>\n",
       "  <tbody>\n",
       "    <tr>\n",
       "      <th>f1-score</th>\n",
       "      <td>0.807</td>\n",
       "      <td>0.450</td>\n",
       "      <td>0.714</td>\n",
       "      <td>0.628</td>\n",
       "      <td>0.732</td>\n",
       "    </tr>\n",
       "    <tr>\n",
       "      <th>precision</th>\n",
       "      <td>0.866</td>\n",
       "      <td>0.376</td>\n",
       "      <td>0.714</td>\n",
       "      <td>0.621</td>\n",
       "      <td>0.763</td>\n",
       "    </tr>\n",
       "    <tr>\n",
       "      <th>recall</th>\n",
       "      <td>0.755</td>\n",
       "      <td>0.559</td>\n",
       "      <td>0.714</td>\n",
       "      <td>0.657</td>\n",
       "      <td>0.714</td>\n",
       "    </tr>\n",
       "    <tr>\n",
       "      <th>support</th>\n",
       "      <td>5906.000</td>\n",
       "      <td>1564.000</td>\n",
       "      <td>7470.000</td>\n",
       "      <td>7470.000</td>\n",
       "      <td>7470.000</td>\n",
       "    </tr>\n",
       "  </tbody>\n",
       "</table>\n",
       "</div>"
      ],
      "text/plain": [
       "                  0         1  micro avg  macro avg  weighted avg\n",
       "f1-score      0.807     0.450      0.714      0.628         0.732\n",
       "precision     0.866     0.376      0.714      0.621         0.763\n",
       "recall        0.755     0.559      0.714      0.657         0.714\n",
       "support    5906.000  1564.000   7470.000   7470.000      7470.000"
      ]
     },
     "metadata": {},
     "output_type": "display_data"
    },
    {
     "name": "stdout",
     "output_type": "stream",
     "text": [
      "============================================================================================================================================================================================================================================================================================================\n"
     ]
    }
   ],
   "source": [
    "%run \"Discovery Experiments\"/run_models.py --dataset readmission --exp_types pretrained --data_dir='.' --output_dir='outputs/' --display"
   ]
  },
  {
   "cell_type": "code",
   "execution_count": 2,
   "metadata": {},
   "outputs": [
    {
     "name": "stderr",
     "output_type": "stream",
     "text": [
      "INFO - 2019-03-23 15:13:27,992 - Reading Structured data ...\n",
      "INFO - 2019-03-23 15:13:28,895 - Reading Notes ...\n",
      "INFO - 2019-03-23 15:13:50,596 - Stratifying ...\n"
     ]
    },
    {
     "name": "stdout",
     "output_type": "stream",
     "text": [
      "Pos Percentage [0.15129873]\n"
     ]
    },
    {
     "name": "stderr",
     "output_type": "stream",
     "text": [
      "INFO - 2019-03-23 15:13:54,925 - Maximum Sentence Length 721825.000000 , 90 percentile length 18596.000000 ... \n",
      "INFO - 2019-03-23 15:14:02,282 - Truncated all ...\n",
      "INFO - 2019-03-23 15:14:02,325 - Idxs removed []...\n"
     ]
    },
    {
     "name": "stdout",
     "output_type": "stream",
     "text": [
      "Pos Percentage [0.14555348]\n"
     ]
    },
    {
     "name": "stderr",
     "output_type": "stream",
     "text": [
      "INFO - 2019-03-23 15:14:03,305 - Maximum Sentence Length 420764.000000 , 90 percentile length 17662.000000 ... \n",
      "INFO - 2019-03-23 15:14:05,163 - Truncated all ...\n",
      "INFO - 2019-03-23 15:14:05,175 - Idxs removed []...\n",
      "INFO - 2019-03-23 15:14:05,411 - instantiating class <class 'PatientVec.models.Model.Model'> from params {'type': 'seq_classifier', 'embedder': {'type': 'token_embedder', 'vocab_size': 29286, 'embed_size': 200, 'embedding_file': './preprocess/Mortality/embedding_matrix.npy'}, 'decoder': {'num_layers': 2, 'hidden_dims': [128, 1], 'activations': ['tanh', 'linear']}, 'predictor': {'type': 'binary'}, 'structured': {'use_structured': True, 'structured_dim': 50}, 'encoder': {'type': 'average', 'projection': True, 'hidden_size': 256, 'activation': 'relu'}} and extras {}\n",
      "INFO - 2019-03-23 15:14:05,411 - type = seq_classifier\n",
      "INFO - 2019-03-23 15:14:05,412 - instantiating class <class 'PatientVec.models.modules.Embedder.Embedder'> from params {'type': 'token_embedder', 'vocab_size': 29286, 'embed_size': 200, 'embedding_file': './preprocess/Mortality/embedding_matrix.npy'} and extras {}\n",
      "INFO - 2019-03-23 15:14:05,412 - embedder.type = token_embedder\n",
      "INFO - 2019-03-23 15:14:05,412 - instantiating class <class 'PatientVec.models.modules.Embedder.TokenEmbedder'> from params {'vocab_size': 29286, 'embed_size': 200, 'embedding_file': './preprocess/Mortality/embedding_matrix.npy'} and extras {}\n",
      "INFO - 2019-03-23 15:14:05,413 - embedder.vocab_size = 29286\n",
      "INFO - 2019-03-23 15:14:05,413 - embedder.embed_size = 200\n",
      "INFO - 2019-03-23 15:14:05,413 - embedder.embedding_file = ./preprocess/Mortality/embedding_matrix.npy\n",
      "INFO - 2019-03-23 15:14:05,432 - instantiating class <class 'PatientVec.models.modules.Encoder.Encoder'> from params {'type': 'average', 'projection': True, 'hidden_size': 256, 'activation': 'relu'} and extras {'input_size': 200}\n",
      "INFO - 2019-03-23 15:14:05,432 - encoder.type = average\n",
      "INFO - 2019-03-23 15:14:05,433 - instantiating class <class 'PatientVec.models.modules.Encoder.AverageEncoder'> from params {'projection': True, 'hidden_size': 256, 'activation': 'relu'} and extras {'input_size': 200}\n",
      "INFO - 2019-03-23 15:14:05,433 - encoder.projection = True\n",
      "INFO - 2019-03-23 15:14:05,433 - encoder.hidden_size = 256\n",
      "INFO - 2019-03-23 15:14:05,433 - encoder.activation = relu\n",
      "INFO - 2019-03-23 15:14:05,434 - decoder.input_dim = 306\n",
      "INFO - 2019-03-23 15:14:05,435 - decoder.num_layers = 2\n",
      "INFO - 2019-03-23 15:14:05,435 - decoder.hidden_dims = [128, 1]\n",
      "INFO - 2019-03-23 15:14:05,435 - decoder.activations = ['tanh', 'linear']\n",
      "INFO - 2019-03-23 15:14:05,435 - decoder.dropout = 0.0\n",
      "INFO - 2019-03-23 15:14:05,436 - instantiating class <class 'PatientVec.models.modules.Predictor.Predictor'> from params {'type': 'binary'} and extras {}\n",
      "INFO - 2019-03-23 15:14:05,437 - predictor.type = binary\n",
      "INFO - 2019-03-23 15:14:05,437 - instantiating class <class 'PatientVec.models.modules.Predictor.Binary_Predictor'> from params {} and extras {}\n",
      "INFO - 2019-03-23 15:14:05,437 - predictor.replicate = False\n",
      "INFO - 2019-03-23 15:14:05,437 - predictor.alpha = 0.5\n"
     ]
    },
    {
     "name": "stdout",
     "output_type": "stream",
     "text": [
      "{'model': {'type': 'seq_classifier', 'embedder': {'type': 'token_embedder', 'vocab_size': 29286, 'embed_size': 200, 'embedding_file': './preprocess/Mortality/embedding_matrix.npy'}, 'decoder': {'num_layers': 2, 'hidden_dims': [128, 1], 'activations': ['tanh', 'linear']}, 'predictor': {'type': 'binary'}, 'structured': {'use_structured': True, 'structured_dim': 50}, 'encoder': {'type': 'average', 'projection': True, 'hidden_size': 256, 'activation': 'relu'}}, 'training_config': {'type': 'Adam', 'groups': [('.*', {'lr': 0.001, 'weight_decay': 1e-05})], 'common': {'bsize': 32, 'class_weight': True}}, 'exp_config': {'exp_name': 'Mortality_30day/Basic/Average(hs=256)+Structured', 'basepath': 'outputs/ts_experiments/n=1000'}}\n",
      "Setting Embedding\n"
     ]
    },
    {
     "data": {
      "application/vnd.jupyter.widget-view+json": {
       "model_id": "5abad6a0254d4ddf9d12d44437071401",
       "version_major": 2,
       "version_minor": 0
      },
      "text/plain": [
       "HBox(children=(IntProgress(value=0, max=8), HTML(value='')))"
      ]
     },
     "metadata": {},
     "output_type": "display_data"
    },
    {
     "data": {
      "application/vnd.jupyter.widget-view+json": {
       "model_id": "e05bef03d6cf4b1aa805b46f69e1fe38",
       "version_major": 2,
       "version_minor": 0
      },
      "text/plain": [
       "HBox(children=(IntProgress(value=0, max=32), HTML(value='')))"
      ]
     },
     "metadata": {},
     "output_type": "display_data"
    },
    {
     "data": {
      "application/vnd.jupyter.widget-view+json": {
       "model_id": "7897c1bede614336b1fbf1686db8c81b",
       "version_major": 2,
       "version_minor": 0
      },
      "text/plain": [
       "HBox(children=(IntProgress(value=0, max=184), HTML(value='')))"
      ]
     },
     "metadata": {},
     "output_type": "display_data"
    },
    {
     "name": "stdout",
     "output_type": "stream",
     "text": [
      "{'accuracy': 0.7497024315592586, 'roc_auc': 0.7404762402938577, 'pr_auc': 0.31875906388715514}\n"
     ]
    },
    {
     "data": {
      "text/html": [
       "<div>\n",
       "<style scoped>\n",
       "    .dataframe tbody tr th:only-of-type {\n",
       "        vertical-align: middle;\n",
       "    }\n",
       "\n",
       "    .dataframe tbody tr th {\n",
       "        vertical-align: top;\n",
       "    }\n",
       "\n",
       "    .dataframe thead th {\n",
       "        text-align: right;\n",
       "    }\n",
       "</style>\n",
       "<table border=\"1\" class=\"dataframe\">\n",
       "  <thead>\n",
       "    <tr style=\"text-align: right;\">\n",
       "      <th></th>\n",
       "      <th>0</th>\n",
       "      <th>1</th>\n",
       "      <th>micro avg</th>\n",
       "      <th>macro avg</th>\n",
       "      <th>weighted avg</th>\n",
       "    </tr>\n",
       "  </thead>\n",
       "  <tbody>\n",
       "    <tr>\n",
       "      <th>f1-score</th>\n",
       "      <td>0.843</td>\n",
       "      <td>0.388</td>\n",
       "      <td>0.75</td>\n",
       "      <td>0.615</td>\n",
       "      <td>0.777</td>\n",
       "    </tr>\n",
       "    <tr>\n",
       "      <th>precision</th>\n",
       "      <td>0.910</td>\n",
       "      <td>0.301</td>\n",
       "      <td>0.75</td>\n",
       "      <td>0.606</td>\n",
       "      <td>0.822</td>\n",
       "    </tr>\n",
       "    <tr>\n",
       "      <th>recall</th>\n",
       "      <td>0.784</td>\n",
       "      <td>0.546</td>\n",
       "      <td>0.75</td>\n",
       "      <td>0.665</td>\n",
       "      <td>0.750</td>\n",
       "    </tr>\n",
       "    <tr>\n",
       "      <th>support</th>\n",
       "      <td>5025.000</td>\n",
       "      <td>856.000</td>\n",
       "      <td>5881.00</td>\n",
       "      <td>5881.000</td>\n",
       "      <td>5881.000</td>\n",
       "    </tr>\n",
       "  </tbody>\n",
       "</table>\n",
       "</div>"
      ],
      "text/plain": [
       "                  0        1  micro avg  macro avg  weighted avg\n",
       "f1-score      0.843    0.388       0.75      0.615         0.777\n",
       "precision     0.910    0.301       0.75      0.606         0.822\n",
       "recall        0.784    0.546       0.75      0.665         0.750\n",
       "support    5025.000  856.000    5881.00   5881.000      5881.000"
      ]
     },
     "metadata": {},
     "output_type": "display_data"
    },
    {
     "name": "stdout",
     "output_type": "stream",
     "text": [
      "Model Saved on  roc_auc 0.7404762402938577\n"
     ]
    },
    {
     "data": {
      "application/vnd.jupyter.widget-view+json": {
       "model_id": "fe9cf6b40ec845faa42fabaee43b9753",
       "version_major": 2,
       "version_minor": 0
      },
      "text/plain": [
       "HBox(children=(IntProgress(value=0, max=32), HTML(value='')))"
      ]
     },
     "metadata": {},
     "output_type": "display_data"
    },
    {
     "data": {
      "application/vnd.jupyter.widget-view+json": {
       "model_id": "cf225d06ded344daa2cc2fcd39e242eb",
       "version_major": 2,
       "version_minor": 0
      },
      "text/plain": [
       "HBox(children=(IntProgress(value=0, max=184), HTML(value='')))"
      ]
     },
     "metadata": {},
     "output_type": "display_data"
    },
    {
     "name": "stdout",
     "output_type": "stream",
     "text": [
      "{'accuracy': 0.7238564869920081, 'roc_auc': 0.7603081554842609, 'pr_auc': 0.33598851414796227}\n"
     ]
    },
    {
     "data": {
      "text/html": [
       "<div>\n",
       "<style scoped>\n",
       "    .dataframe tbody tr th:only-of-type {\n",
       "        vertical-align: middle;\n",
       "    }\n",
       "\n",
       "    .dataframe tbody tr th {\n",
       "        vertical-align: top;\n",
       "    }\n",
       "\n",
       "    .dataframe thead th {\n",
       "        text-align: right;\n",
       "    }\n",
       "</style>\n",
       "<table border=\"1\" class=\"dataframe\">\n",
       "  <thead>\n",
       "    <tr style=\"text-align: right;\">\n",
       "      <th></th>\n",
       "      <th>0</th>\n",
       "      <th>1</th>\n",
       "      <th>micro avg</th>\n",
       "      <th>macro avg</th>\n",
       "      <th>weighted avg</th>\n",
       "    </tr>\n",
       "  </thead>\n",
       "  <tbody>\n",
       "    <tr>\n",
       "      <th>f1-score</th>\n",
       "      <td>0.821</td>\n",
       "      <td>0.401</td>\n",
       "      <td>0.724</td>\n",
       "      <td>0.611</td>\n",
       "      <td>0.759</td>\n",
       "    </tr>\n",
       "    <tr>\n",
       "      <th>precision</th>\n",
       "      <td>0.922</td>\n",
       "      <td>0.293</td>\n",
       "      <td>0.724</td>\n",
       "      <td>0.608</td>\n",
       "      <td>0.831</td>\n",
       "    </tr>\n",
       "    <tr>\n",
       "      <th>recall</th>\n",
       "      <td>0.739</td>\n",
       "      <td>0.634</td>\n",
       "      <td>0.724</td>\n",
       "      <td>0.687</td>\n",
       "      <td>0.724</td>\n",
       "    </tr>\n",
       "    <tr>\n",
       "      <th>support</th>\n",
       "      <td>5025.000</td>\n",
       "      <td>856.000</td>\n",
       "      <td>5881.000</td>\n",
       "      <td>5881.000</td>\n",
       "      <td>5881.000</td>\n",
       "    </tr>\n",
       "  </tbody>\n",
       "</table>\n",
       "</div>"
      ],
      "text/plain": [
       "                  0        1  micro avg  macro avg  weighted avg\n",
       "f1-score      0.821    0.401      0.724      0.611         0.759\n",
       "precision     0.922    0.293      0.724      0.608         0.831\n",
       "recall        0.739    0.634      0.724      0.687         0.724\n",
       "support    5025.000  856.000   5881.000   5881.000      5881.000"
      ]
     },
     "metadata": {},
     "output_type": "display_data"
    },
    {
     "name": "stdout",
     "output_type": "stream",
     "text": [
      "Model Saved on  roc_auc 0.7603081554842609\n"
     ]
    },
    {
     "data": {
      "application/vnd.jupyter.widget-view+json": {
       "model_id": "b1293c11f7534786af3c83e29f3d0771",
       "version_major": 2,
       "version_minor": 0
      },
      "text/plain": [
       "HBox(children=(IntProgress(value=0, max=32), HTML(value='')))"
      ]
     },
     "metadata": {},
     "output_type": "display_data"
    },
    {
     "data": {
      "application/vnd.jupyter.widget-view+json": {
       "model_id": "160dee02bca14390aa16bfb4ced2550a",
       "version_major": 2,
       "version_minor": 0
      },
      "text/plain": [
       "HBox(children=(IntProgress(value=0, max=184), HTML(value='')))"
      ]
     },
     "metadata": {},
     "output_type": "display_data"
    },
    {
     "name": "stdout",
     "output_type": "stream",
     "text": [
      "{'accuracy': 0.6561809216119707, 'roc_auc': 0.7703180359882829, 'pr_auc': 0.35096310324387003}\n"
     ]
    },
    {
     "data": {
      "text/html": [
       "<div>\n",
       "<style scoped>\n",
       "    .dataframe tbody tr th:only-of-type {\n",
       "        vertical-align: middle;\n",
       "    }\n",
       "\n",
       "    .dataframe tbody tr th {\n",
       "        vertical-align: top;\n",
       "    }\n",
       "\n",
       "    .dataframe thead th {\n",
       "        text-align: right;\n",
       "    }\n",
       "</style>\n",
       "<table border=\"1\" class=\"dataframe\">\n",
       "  <thead>\n",
       "    <tr style=\"text-align: right;\">\n",
       "      <th></th>\n",
       "      <th>0</th>\n",
       "      <th>1</th>\n",
       "      <th>micro avg</th>\n",
       "      <th>macro avg</th>\n",
       "      <th>weighted avg</th>\n",
       "    </tr>\n",
       "  </thead>\n",
       "  <tbody>\n",
       "    <tr>\n",
       "      <th>f1-score</th>\n",
       "      <td>0.760</td>\n",
       "      <td>0.391</td>\n",
       "      <td>0.656</td>\n",
       "      <td>0.576</td>\n",
       "      <td>0.707</td>\n",
       "    </tr>\n",
       "    <tr>\n",
       "      <th>precision</th>\n",
       "      <td>0.939</td>\n",
       "      <td>0.263</td>\n",
       "      <td>0.656</td>\n",
       "      <td>0.601</td>\n",
       "      <td>0.841</td>\n",
       "    </tr>\n",
       "    <tr>\n",
       "      <th>recall</th>\n",
       "      <td>0.639</td>\n",
       "      <td>0.758</td>\n",
       "      <td>0.656</td>\n",
       "      <td>0.698</td>\n",
       "      <td>0.656</td>\n",
       "    </tr>\n",
       "    <tr>\n",
       "      <th>support</th>\n",
       "      <td>5025.000</td>\n",
       "      <td>856.000</td>\n",
       "      <td>5881.000</td>\n",
       "      <td>5881.000</td>\n",
       "      <td>5881.000</td>\n",
       "    </tr>\n",
       "  </tbody>\n",
       "</table>\n",
       "</div>"
      ],
      "text/plain": [
       "                  0        1  micro avg  macro avg  weighted avg\n",
       "f1-score      0.760    0.391      0.656      0.576         0.707\n",
       "precision     0.939    0.263      0.656      0.601         0.841\n",
       "recall        0.639    0.758      0.656      0.698         0.656\n",
       "support    5025.000  856.000   5881.000   5881.000      5881.000"
      ]
     },
     "metadata": {},
     "output_type": "display_data"
    },
    {
     "name": "stdout",
     "output_type": "stream",
     "text": [
      "Model Saved on  roc_auc 0.7703180359882829\n"
     ]
    },
    {
     "data": {
      "application/vnd.jupyter.widget-view+json": {
       "model_id": "7c3754c442ad4f7cb2de00b78e406c41",
       "version_major": 2,
       "version_minor": 0
      },
      "text/plain": [
       "HBox(children=(IntProgress(value=0, max=32), HTML(value='')))"
      ]
     },
     "metadata": {},
     "output_type": "display_data"
    },
    {
     "data": {
      "application/vnd.jupyter.widget-view+json": {
       "model_id": "574d135905ce418ab16a67e4baec6361",
       "version_major": 2,
       "version_minor": 0
      },
      "text/plain": [
       "HBox(children=(IntProgress(value=0, max=184), HTML(value='')))"
      ]
     },
     "metadata": {},
     "output_type": "display_data"
    },
    {
     "name": "stdout",
     "output_type": "stream",
     "text": [
      "{'accuracy': 0.725896956299949, 'roc_auc': 0.78423490026503, 'pr_auc': 0.3743592593982409}\n"
     ]
    },
    {
     "data": {
      "text/html": [
       "<div>\n",
       "<style scoped>\n",
       "    .dataframe tbody tr th:only-of-type {\n",
       "        vertical-align: middle;\n",
       "    }\n",
       "\n",
       "    .dataframe tbody tr th {\n",
       "        vertical-align: top;\n",
       "    }\n",
       "\n",
       "    .dataframe thead th {\n",
       "        text-align: right;\n",
       "    }\n",
       "</style>\n",
       "<table border=\"1\" class=\"dataframe\">\n",
       "  <thead>\n",
       "    <tr style=\"text-align: right;\">\n",
       "      <th></th>\n",
       "      <th>0</th>\n",
       "      <th>1</th>\n",
       "      <th>micro avg</th>\n",
       "      <th>macro avg</th>\n",
       "      <th>weighted avg</th>\n",
       "    </tr>\n",
       "  </thead>\n",
       "  <tbody>\n",
       "    <tr>\n",
       "      <th>f1-score</th>\n",
       "      <td>0.821</td>\n",
       "      <td>0.420</td>\n",
       "      <td>0.726</td>\n",
       "      <td>0.620</td>\n",
       "      <td>0.762</td>\n",
       "    </tr>\n",
       "    <tr>\n",
       "      <th>precision</th>\n",
       "      <td>0.931</td>\n",
       "      <td>0.303</td>\n",
       "      <td>0.726</td>\n",
       "      <td>0.617</td>\n",
       "      <td>0.840</td>\n",
       "    </tr>\n",
       "    <tr>\n",
       "      <th>recall</th>\n",
       "      <td>0.734</td>\n",
       "      <td>0.681</td>\n",
       "      <td>0.726</td>\n",
       "      <td>0.707</td>\n",
       "      <td>0.726</td>\n",
       "    </tr>\n",
       "    <tr>\n",
       "      <th>support</th>\n",
       "      <td>5025.000</td>\n",
       "      <td>856.000</td>\n",
       "      <td>5881.000</td>\n",
       "      <td>5881.000</td>\n",
       "      <td>5881.000</td>\n",
       "    </tr>\n",
       "  </tbody>\n",
       "</table>\n",
       "</div>"
      ],
      "text/plain": [
       "                  0        1  micro avg  macro avg  weighted avg\n",
       "f1-score      0.821    0.420      0.726      0.620         0.762\n",
       "precision     0.931    0.303      0.726      0.617         0.840\n",
       "recall        0.734    0.681      0.726      0.707         0.726\n",
       "support    5025.000  856.000   5881.000   5881.000      5881.000"
      ]
     },
     "metadata": {},
     "output_type": "display_data"
    },
    {
     "name": "stdout",
     "output_type": "stream",
     "text": [
      "Model Saved on  roc_auc 0.78423490026503\n"
     ]
    },
    {
     "data": {
      "application/vnd.jupyter.widget-view+json": {
       "model_id": "d0756e22de40454d84e24ae618e7613e",
       "version_major": 2,
       "version_minor": 0
      },
      "text/plain": [
       "HBox(children=(IntProgress(value=0, max=32), HTML(value='')))"
      ]
     },
     "metadata": {},
     "output_type": "display_data"
    },
    {
     "data": {
      "application/vnd.jupyter.widget-view+json": {
       "model_id": "55e8577cc6924f0cb8681babea316755",
       "version_major": 2,
       "version_minor": 0
      },
      "text/plain": [
       "HBox(children=(IntProgress(value=0, max=184), HTML(value='')))"
      ]
     },
     "metadata": {},
     "output_type": "display_data"
    },
    {
     "name": "stdout",
     "output_type": "stream",
     "text": [
      "{'accuracy': 0.7716374766196226, 'roc_auc': 0.8241953782489422, 'pr_auc': 0.4515665493899075}\n"
     ]
    },
    {
     "data": {
      "text/html": [
       "<div>\n",
       "<style scoped>\n",
       "    .dataframe tbody tr th:only-of-type {\n",
       "        vertical-align: middle;\n",
       "    }\n",
       "\n",
       "    .dataframe tbody tr th {\n",
       "        vertical-align: top;\n",
       "    }\n",
       "\n",
       "    .dataframe thead th {\n",
       "        text-align: right;\n",
       "    }\n",
       "</style>\n",
       "<table border=\"1\" class=\"dataframe\">\n",
       "  <thead>\n",
       "    <tr style=\"text-align: right;\">\n",
       "      <th></th>\n",
       "      <th>0</th>\n",
       "      <th>1</th>\n",
       "      <th>micro avg</th>\n",
       "      <th>macro avg</th>\n",
       "      <th>weighted avg</th>\n",
       "    </tr>\n",
       "  </thead>\n",
       "  <tbody>\n",
       "    <tr>\n",
       "      <th>f1-score</th>\n",
       "      <td>0.854</td>\n",
       "      <td>0.473</td>\n",
       "      <td>0.772</td>\n",
       "      <td>0.664</td>\n",
       "      <td>0.799</td>\n",
       "    </tr>\n",
       "    <tr>\n",
       "      <th>precision</th>\n",
       "      <td>0.940</td>\n",
       "      <td>0.356</td>\n",
       "      <td>0.772</td>\n",
       "      <td>0.648</td>\n",
       "      <td>0.855</td>\n",
       "    </tr>\n",
       "    <tr>\n",
       "      <th>recall</th>\n",
       "      <td>0.783</td>\n",
       "      <td>0.704</td>\n",
       "      <td>0.772</td>\n",
       "      <td>0.744</td>\n",
       "      <td>0.772</td>\n",
       "    </tr>\n",
       "    <tr>\n",
       "      <th>support</th>\n",
       "      <td>5025.000</td>\n",
       "      <td>856.000</td>\n",
       "      <td>5881.000</td>\n",
       "      <td>5881.000</td>\n",
       "      <td>5881.000</td>\n",
       "    </tr>\n",
       "  </tbody>\n",
       "</table>\n",
       "</div>"
      ],
      "text/plain": [
       "                  0        1  micro avg  macro avg  weighted avg\n",
       "f1-score      0.854    0.473      0.772      0.664         0.799\n",
       "precision     0.940    0.356      0.772      0.648         0.855\n",
       "recall        0.783    0.704      0.772      0.744         0.772\n",
       "support    5025.000  856.000   5881.000   5881.000      5881.000"
      ]
     },
     "metadata": {},
     "output_type": "display_data"
    },
    {
     "name": "stdout",
     "output_type": "stream",
     "text": [
      "Model Saved on  roc_auc 0.8241953782489422\n"
     ]
    },
    {
     "data": {
      "application/vnd.jupyter.widget-view+json": {
       "model_id": "a94984425fdc4388adf2cdbc24b6be0f",
       "version_major": 2,
       "version_minor": 0
      },
      "text/plain": [
       "HBox(children=(IntProgress(value=0, max=32), HTML(value='')))"
      ]
     },
     "metadata": {},
     "output_type": "display_data"
    },
    {
     "data": {
      "application/vnd.jupyter.widget-view+json": {
       "model_id": "55e8025022b743b8bd44db81ef7f358f",
       "version_major": 2,
       "version_minor": 0
      },
      "text/plain": [
       "HBox(children=(IntProgress(value=0, max=184), HTML(value='')))"
      ]
     },
     "metadata": {},
     "output_type": "display_data"
    },
    {
     "name": "stdout",
     "output_type": "stream",
     "text": [
      "{'accuracy': 0.6876381567760584, 'roc_auc': 0.8241909610824384, 'pr_auc': 0.45332527358504215}\n"
     ]
    },
    {
     "data": {
      "text/html": [
       "<div>\n",
       "<style scoped>\n",
       "    .dataframe tbody tr th:only-of-type {\n",
       "        vertical-align: middle;\n",
       "    }\n",
       "\n",
       "    .dataframe tbody tr th {\n",
       "        vertical-align: top;\n",
       "    }\n",
       "\n",
       "    .dataframe thead th {\n",
       "        text-align: right;\n",
       "    }\n",
       "</style>\n",
       "<table border=\"1\" class=\"dataframe\">\n",
       "  <thead>\n",
       "    <tr style=\"text-align: right;\">\n",
       "      <th></th>\n",
       "      <th>0</th>\n",
       "      <th>1</th>\n",
       "      <th>micro avg</th>\n",
       "      <th>macro avg</th>\n",
       "      <th>weighted avg</th>\n",
       "    </tr>\n",
       "  </thead>\n",
       "  <tbody>\n",
       "    <tr>\n",
       "      <th>f1-score</th>\n",
       "      <td>0.784</td>\n",
       "      <td>0.434</td>\n",
       "      <td>0.688</td>\n",
       "      <td>0.609</td>\n",
       "      <td>0.733</td>\n",
       "    </tr>\n",
       "    <tr>\n",
       "      <th>precision</th>\n",
       "      <td>0.956</td>\n",
       "      <td>0.295</td>\n",
       "      <td>0.688</td>\n",
       "      <td>0.626</td>\n",
       "      <td>0.860</td>\n",
       "    </tr>\n",
       "    <tr>\n",
       "      <th>recall</th>\n",
       "      <td>0.665</td>\n",
       "      <td>0.822</td>\n",
       "      <td>0.688</td>\n",
       "      <td>0.744</td>\n",
       "      <td>0.688</td>\n",
       "    </tr>\n",
       "    <tr>\n",
       "      <th>support</th>\n",
       "      <td>5025.000</td>\n",
       "      <td>856.000</td>\n",
       "      <td>5881.000</td>\n",
       "      <td>5881.000</td>\n",
       "      <td>5881.000</td>\n",
       "    </tr>\n",
       "  </tbody>\n",
       "</table>\n",
       "</div>"
      ],
      "text/plain": [
       "                  0        1  micro avg  macro avg  weighted avg\n",
       "f1-score      0.784    0.434      0.688      0.609         0.733\n",
       "precision     0.956    0.295      0.688      0.626         0.860\n",
       "recall        0.665    0.822      0.688      0.744         0.688\n",
       "support    5025.000  856.000   5881.000   5881.000      5881.000"
      ]
     },
     "metadata": {},
     "output_type": "display_data"
    },
    {
     "name": "stdout",
     "output_type": "stream",
     "text": [
      "Model not saved on  roc_auc 0.8241909610824384\n"
     ]
    },
    {
     "data": {
      "application/vnd.jupyter.widget-view+json": {
       "model_id": "f857b2374b084675b720821fa19957ed",
       "version_major": 2,
       "version_minor": 0
      },
      "text/plain": [
       "HBox(children=(IntProgress(value=0, max=32), HTML(value='')))"
      ]
     },
     "metadata": {},
     "output_type": "display_data"
    },
    {
     "data": {
      "application/vnd.jupyter.widget-view+json": {
       "model_id": "461f24a0becf4d20880a74ac5b35eff9",
       "version_major": 2,
       "version_minor": 0
      },
      "text/plain": [
       "HBox(children=(IntProgress(value=0, max=184), HTML(value='')))"
      ]
     },
     "metadata": {},
     "output_type": "display_data"
    },
    {
     "name": "stdout",
     "output_type": "stream",
     "text": [
      "{'accuracy': 0.8008842033667743, 'roc_auc': 0.8359513181754777, 'pr_auc': 0.48138147883559784}\n"
     ]
    },
    {
     "data": {
      "text/html": [
       "<div>\n",
       "<style scoped>\n",
       "    .dataframe tbody tr th:only-of-type {\n",
       "        vertical-align: middle;\n",
       "    }\n",
       "\n",
       "    .dataframe tbody tr th {\n",
       "        vertical-align: top;\n",
       "    }\n",
       "\n",
       "    .dataframe thead th {\n",
       "        text-align: right;\n",
       "    }\n",
       "</style>\n",
       "<table border=\"1\" class=\"dataframe\">\n",
       "  <thead>\n",
       "    <tr style=\"text-align: right;\">\n",
       "      <th></th>\n",
       "      <th>0</th>\n",
       "      <th>1</th>\n",
       "      <th>micro avg</th>\n",
       "      <th>macro avg</th>\n",
       "      <th>weighted avg</th>\n",
       "    </tr>\n",
       "  </thead>\n",
       "  <tbody>\n",
       "    <tr>\n",
       "      <th>f1-score</th>\n",
       "      <td>0.876</td>\n",
       "      <td>0.489</td>\n",
       "      <td>0.801</td>\n",
       "      <td>0.683</td>\n",
       "      <td>0.820</td>\n",
       "    </tr>\n",
       "    <tr>\n",
       "      <th>precision</th>\n",
       "      <td>0.934</td>\n",
       "      <td>0.390</td>\n",
       "      <td>0.801</td>\n",
       "      <td>0.662</td>\n",
       "      <td>0.855</td>\n",
       "    </tr>\n",
       "    <tr>\n",
       "      <th>recall</th>\n",
       "      <td>0.826</td>\n",
       "      <td>0.655</td>\n",
       "      <td>0.801</td>\n",
       "      <td>0.741</td>\n",
       "      <td>0.801</td>\n",
       "    </tr>\n",
       "    <tr>\n",
       "      <th>support</th>\n",
       "      <td>5025.000</td>\n",
       "      <td>856.000</td>\n",
       "      <td>5881.000</td>\n",
       "      <td>5881.000</td>\n",
       "      <td>5881.000</td>\n",
       "    </tr>\n",
       "  </tbody>\n",
       "</table>\n",
       "</div>"
      ],
      "text/plain": [
       "                  0        1  micro avg  macro avg  weighted avg\n",
       "f1-score      0.876    0.489      0.801      0.683         0.820\n",
       "precision     0.934    0.390      0.801      0.662         0.855\n",
       "recall        0.826    0.655      0.801      0.741         0.801\n",
       "support    5025.000  856.000   5881.000   5881.000      5881.000"
      ]
     },
     "metadata": {},
     "output_type": "display_data"
    },
    {
     "name": "stdout",
     "output_type": "stream",
     "text": [
      "Model Saved on  roc_auc 0.8359513181754777\n"
     ]
    },
    {
     "data": {
      "application/vnd.jupyter.widget-view+json": {
       "model_id": "638a5eae53044daa9b0c9d68f1b621bc",
       "version_major": 2,
       "version_minor": 0
      },
      "text/plain": [
       "HBox(children=(IntProgress(value=0, max=32), HTML(value='')))"
      ]
     },
     "metadata": {},
     "output_type": "display_data"
    },
    {
     "data": {
      "application/vnd.jupyter.widget-view+json": {
       "model_id": "a84e2af9b6434402a10ddf6c18403cca",
       "version_major": 2,
       "version_minor": 0
      },
      "text/plain": [
       "HBox(children=(IntProgress(value=0, max=184), HTML(value='')))"
      ]
     },
     "metadata": {},
     "output_type": "display_data"
    },
    {
     "name": "stdout",
     "output_type": "stream",
     "text": [
      "{'accuracy': 0.7979935385138582, 'roc_auc': 0.8396515088110847, 'pr_auc': 0.49126970229040673}\n"
     ]
    },
    {
     "data": {
      "text/html": [
       "<div>\n",
       "<style scoped>\n",
       "    .dataframe tbody tr th:only-of-type {\n",
       "        vertical-align: middle;\n",
       "    }\n",
       "\n",
       "    .dataframe tbody tr th {\n",
       "        vertical-align: top;\n",
       "    }\n",
       "\n",
       "    .dataframe thead th {\n",
       "        text-align: right;\n",
       "    }\n",
       "</style>\n",
       "<table border=\"1\" class=\"dataframe\">\n",
       "  <thead>\n",
       "    <tr style=\"text-align: right;\">\n",
       "      <th></th>\n",
       "      <th>0</th>\n",
       "      <th>1</th>\n",
       "      <th>micro avg</th>\n",
       "      <th>macro avg</th>\n",
       "      <th>weighted avg</th>\n",
       "    </tr>\n",
       "  </thead>\n",
       "  <tbody>\n",
       "    <tr>\n",
       "      <th>f1-score</th>\n",
       "      <td>0.874</td>\n",
       "      <td>0.494</td>\n",
       "      <td>0.798</td>\n",
       "      <td>0.684</td>\n",
       "      <td>0.819</td>\n",
       "    </tr>\n",
       "    <tr>\n",
       "      <th>precision</th>\n",
       "      <td>0.937</td>\n",
       "      <td>0.389</td>\n",
       "      <td>0.798</td>\n",
       "      <td>0.663</td>\n",
       "      <td>0.857</td>\n",
       "    </tr>\n",
       "    <tr>\n",
       "      <th>recall</th>\n",
       "      <td>0.819</td>\n",
       "      <td>0.678</td>\n",
       "      <td>0.798</td>\n",
       "      <td>0.748</td>\n",
       "      <td>0.798</td>\n",
       "    </tr>\n",
       "    <tr>\n",
       "      <th>support</th>\n",
       "      <td>5025.000</td>\n",
       "      <td>856.000</td>\n",
       "      <td>5881.000</td>\n",
       "      <td>5881.000</td>\n",
       "      <td>5881.000</td>\n",
       "    </tr>\n",
       "  </tbody>\n",
       "</table>\n",
       "</div>"
      ],
      "text/plain": [
       "                  0        1  micro avg  macro avg  weighted avg\n",
       "f1-score      0.874    0.494      0.798      0.684         0.819\n",
       "precision     0.937    0.389      0.798      0.663         0.857\n",
       "recall        0.819    0.678      0.798      0.748         0.798\n",
       "support    5025.000  856.000   5881.000   5881.000      5881.000"
      ]
     },
     "metadata": {},
     "output_type": "display_data"
    },
    {
     "name": "stdout",
     "output_type": "stream",
     "text": [
      "Model Saved on  roc_auc 0.8396515088110847\n"
     ]
    },
    {
     "name": "stderr",
     "output_type": "stream",
     "text": [
      "INFO - 2019-03-23 15:16:24,784 - instantiating class <class 'PatientVec.models.Model.Model'> from params {'type': 'seq_classifier', 'embedder': {'type': 'token_embedder', 'vocab_size': 29286, 'embed_size': 200, 'embedding_file': './preprocess/Mortality/embedding_matrix.npy'}, 'decoder': {'num_layers': 2, 'hidden_dims': [128, 1], 'activations': ['tanh', 'linear']}, 'predictor': {'type': 'binary'}, 'structured': {'use_structured': True, 'structured_dim': 50}, 'encoder': {'type': 'average', 'projection': True, 'hidden_size': 256, 'activation': 'relu'}} and extras {}\n",
      "INFO - 2019-03-23 15:16:24,785 - type = seq_classifier\n",
      "INFO - 2019-03-23 15:16:24,785 - instantiating class <class 'PatientVec.models.modules.Embedder.Embedder'> from params {'type': 'token_embedder', 'vocab_size': 29286, 'embed_size': 200, 'embedding_file': './preprocess/Mortality/embedding_matrix.npy'} and extras {}\n",
      "INFO - 2019-03-23 15:16:24,786 - embedder.type = token_embedder\n",
      "INFO - 2019-03-23 15:16:24,786 - instantiating class <class 'PatientVec.models.modules.Embedder.TokenEmbedder'> from params {'vocab_size': 29286, 'embed_size': 200, 'embedding_file': './preprocess/Mortality/embedding_matrix.npy'} and extras {}\n",
      "INFO - 2019-03-23 15:16:24,786 - embedder.vocab_size = 29286\n",
      "INFO - 2019-03-23 15:16:24,787 - embedder.embed_size = 200\n",
      "INFO - 2019-03-23 15:16:24,787 - embedder.embedding_file = ./preprocess/Mortality/embedding_matrix.npy\n",
      "INFO - 2019-03-23 15:16:24,804 - instantiating class <class 'PatientVec.models.modules.Encoder.Encoder'> from params {'type': 'average', 'projection': True, 'hidden_size': 256, 'activation': 'relu'} and extras {'input_size': 200}\n",
      "INFO - 2019-03-23 15:16:24,804 - encoder.type = average\n",
      "INFO - 2019-03-23 15:16:24,804 - instantiating class <class 'PatientVec.models.modules.Encoder.AverageEncoder'> from params {'projection': True, 'hidden_size': 256, 'activation': 'relu'} and extras {'input_size': 200}\n",
      "INFO - 2019-03-23 15:16:24,805 - encoder.projection = True\n",
      "INFO - 2019-03-23 15:16:24,805 - encoder.hidden_size = 256\n",
      "INFO - 2019-03-23 15:16:24,805 - encoder.activation = relu\n",
      "INFO - 2019-03-23 15:16:24,806 - decoder.input_dim = 306\n",
      "INFO - 2019-03-23 15:16:24,806 - decoder.num_layers = 2\n",
      "INFO - 2019-03-23 15:16:24,807 - decoder.hidden_dims = [128, 1]\n",
      "INFO - 2019-03-23 15:16:24,807 - decoder.activations = ['tanh', 'linear']\n",
      "INFO - 2019-03-23 15:16:24,807 - decoder.dropout = 0.0\n",
      "INFO - 2019-03-23 15:16:24,808 - instantiating class <class 'PatientVec.models.modules.Predictor.Predictor'> from params {'type': 'binary'} and extras {}\n",
      "INFO - 2019-03-23 15:16:24,808 - predictor.type = binary\n",
      "INFO - 2019-03-23 15:16:24,809 - instantiating class <class 'PatientVec.models.modules.Predictor.Binary_Predictor'> from params {} and extras {}\n",
      "INFO - 2019-03-23 15:16:24,809 - predictor.replicate = False\n",
      "INFO - 2019-03-23 15:16:24,809 - predictor.alpha = 0.5\n"
     ]
    },
    {
     "name": "stdout",
     "output_type": "stream",
     "text": [
      "\n",
      "Setting Embedding\n"
     ]
    },
    {
     "data": {
      "application/vnd.jupyter.widget-view+json": {
       "model_id": "236fb4897b1241d289bb1f02223dd594",
       "version_major": 2,
       "version_minor": 0
      },
      "text/plain": [
       "HBox(children=(IntProgress(value=0, max=184), HTML(value='')))"
      ]
     },
     "metadata": {},
     "output_type": "display_data"
    },
    {
     "name": "stdout",
     "output_type": "stream",
     "text": [
      "\n",
      "{'accuracy': 0.7979935385138582, 'roc_auc': 0.8396515088110847, 'pr_auc': 0.49126970229040673}\n"
     ]
    },
    {
     "data": {
      "text/html": [
       "<div>\n",
       "<style scoped>\n",
       "    .dataframe tbody tr th:only-of-type {\n",
       "        vertical-align: middle;\n",
       "    }\n",
       "\n",
       "    .dataframe tbody tr th {\n",
       "        vertical-align: top;\n",
       "    }\n",
       "\n",
       "    .dataframe thead th {\n",
       "        text-align: right;\n",
       "    }\n",
       "</style>\n",
       "<table border=\"1\" class=\"dataframe\">\n",
       "  <thead>\n",
       "    <tr style=\"text-align: right;\">\n",
       "      <th></th>\n",
       "      <th>0</th>\n",
       "      <th>1</th>\n",
       "      <th>micro avg</th>\n",
       "      <th>macro avg</th>\n",
       "      <th>weighted avg</th>\n",
       "    </tr>\n",
       "  </thead>\n",
       "  <tbody>\n",
       "    <tr>\n",
       "      <th>f1-score</th>\n",
       "      <td>0.874</td>\n",
       "      <td>0.494</td>\n",
       "      <td>0.798</td>\n",
       "      <td>0.684</td>\n",
       "      <td>0.819</td>\n",
       "    </tr>\n",
       "    <tr>\n",
       "      <th>precision</th>\n",
       "      <td>0.937</td>\n",
       "      <td>0.389</td>\n",
       "      <td>0.798</td>\n",
       "      <td>0.663</td>\n",
       "      <td>0.857</td>\n",
       "    </tr>\n",
       "    <tr>\n",
       "      <th>recall</th>\n",
       "      <td>0.819</td>\n",
       "      <td>0.678</td>\n",
       "      <td>0.798</td>\n",
       "      <td>0.748</td>\n",
       "      <td>0.798</td>\n",
       "    </tr>\n",
       "    <tr>\n",
       "      <th>support</th>\n",
       "      <td>5025.000</td>\n",
       "      <td>856.000</td>\n",
       "      <td>5881.000</td>\n",
       "      <td>5881.000</td>\n",
       "      <td>5881.000</td>\n",
       "    </tr>\n",
       "  </tbody>\n",
       "</table>\n",
       "</div>"
      ],
      "text/plain": [
       "                  0        1  micro avg  macro avg  weighted avg\n",
       "f1-score      0.874    0.494      0.798      0.684         0.819\n",
       "precision     0.937    0.389      0.798      0.663         0.857\n",
       "recall        0.819    0.678      0.798      0.748         0.798\n",
       "support    5025.000  856.000   5881.000   5881.000      5881.000"
      ]
     },
     "metadata": {},
     "output_type": "display_data"
    },
    {
     "name": "stderr",
     "output_type": "stream",
     "text": [
      "INFO - 2019-03-23 15:16:39,935 - instantiating class <class 'PatientVec.models.Model.Model'> from params {'type': 'seq_classifier', 'embedder': {'type': 'token_embedder', 'vocab_size': 29286, 'embed_size': 200, 'embedding_file': './preprocess/Mortality/embedding_matrix.npy'}, 'decoder': {'num_layers': 2, 'hidden_dims': [128, 1], 'activations': ['tanh', 'linear']}, 'predictor': {'type': 'binary'}, 'structured': {'use_structured': True, 'structured_dim': 50}, 'encoder': {'type': 'lstm', 'hidden_size': 128}} and extras {}\n",
      "INFO - 2019-03-23 15:16:39,935 - type = seq_classifier\n",
      "INFO - 2019-03-23 15:16:39,936 - instantiating class <class 'PatientVec.models.modules.Embedder.Embedder'> from params {'type': 'token_embedder', 'vocab_size': 29286, 'embed_size': 200, 'embedding_file': './preprocess/Mortality/embedding_matrix.npy'} and extras {}\n",
      "INFO - 2019-03-23 15:16:39,936 - embedder.type = token_embedder\n",
      "INFO - 2019-03-23 15:16:39,936 - instantiating class <class 'PatientVec.models.modules.Embedder.TokenEmbedder'> from params {'vocab_size': 29286, 'embed_size': 200, 'embedding_file': './preprocess/Mortality/embedding_matrix.npy'} and extras {}\n",
      "INFO - 2019-03-23 15:16:39,937 - embedder.vocab_size = 29286\n",
      "INFO - 2019-03-23 15:16:39,937 - embedder.embed_size = 200\n",
      "INFO - 2019-03-23 15:16:39,937 - embedder.embedding_file = ./preprocess/Mortality/embedding_matrix.npy\n",
      "INFO - 2019-03-23 15:16:39,953 - instantiating class <class 'PatientVec.models.modules.Encoder.Encoder'> from params {'type': 'lstm', 'hidden_size': 128} and extras {'input_size': 200}\n",
      "INFO - 2019-03-23 15:16:39,953 - encoder.type = lstm\n",
      "INFO - 2019-03-23 15:16:39,953 - instantiating class <class 'PatientVec.models.modules.Encoder.wrap_pytorch_rnn.<locals>.BiRNNEncoder'> from params {'hidden_size': 128} and extras {'input_size': 200}\n",
      "INFO - 2019-03-23 15:16:39,954 - encoder.hidden_size = 128\n",
      "INFO - 2019-03-23 15:16:39,956 - decoder.input_dim = 306\n",
      "INFO - 2019-03-23 15:16:39,956 - decoder.num_layers = 2\n",
      "INFO - 2019-03-23 15:16:39,957 - decoder.hidden_dims = [128, 1]\n",
      "INFO - 2019-03-23 15:16:39,957 - decoder.activations = ['tanh', 'linear']\n",
      "INFO - 2019-03-23 15:16:39,957 - decoder.dropout = 0.0\n",
      "INFO - 2019-03-23 15:16:39,958 - instantiating class <class 'PatientVec.models.modules.Predictor.Predictor'> from params {'type': 'binary'} and extras {}\n",
      "INFO - 2019-03-23 15:16:39,958 - predictor.type = binary\n",
      "INFO - 2019-03-23 15:16:39,959 - instantiating class <class 'PatientVec.models.modules.Predictor.Binary_Predictor'> from params {} and extras {}\n",
      "INFO - 2019-03-23 15:16:39,959 - predictor.replicate = False\n",
      "INFO - 2019-03-23 15:16:39,960 - predictor.alpha = 0.5\n"
     ]
    },
    {
     "name": "stdout",
     "output_type": "stream",
     "text": [
      "============================================================================================================================================================================================================================================================================================================\n",
      "{'model': {'type': 'seq_classifier', 'embedder': {'type': 'token_embedder', 'vocab_size': 29286, 'embed_size': 200, 'embedding_file': './preprocess/Mortality/embedding_matrix.npy'}, 'decoder': {'num_layers': 2, 'hidden_dims': [128, 1], 'activations': ['tanh', 'linear']}, 'predictor': {'type': 'binary'}, 'structured': {'use_structured': True, 'structured_dim': 50}, 'encoder': {'type': 'lstm', 'hidden_size': 128}}, 'training_config': {'type': 'Adam', 'groups': [('.*', {'lr': 0.001, 'weight_decay': 1e-05})], 'common': {'bsize': 32, 'class_weight': True}}, 'exp_config': {'exp_name': 'Mortality_30day/Basic/LSTM(hs=128)+Structured', 'basepath': 'outputs/ts_experiments/n=1000'}}\n",
      "Setting Embedding\n"
     ]
    },
    {
     "data": {
      "application/vnd.jupyter.widget-view+json": {
       "model_id": "6e7168574d2c43a49941d942556188cd",
       "version_major": 2,
       "version_minor": 0
      },
      "text/plain": [
       "HBox(children=(IntProgress(value=0, max=8), HTML(value='')))"
      ]
     },
     "metadata": {},
     "output_type": "display_data"
    },
    {
     "data": {
      "application/vnd.jupyter.widget-view+json": {
       "model_id": "b6602e5f9d4045059e7367b5a7a46723",
       "version_major": 2,
       "version_minor": 0
      },
      "text/plain": [
       "HBox(children=(IntProgress(value=0, max=32), HTML(value='')))"
      ]
     },
     "metadata": {},
     "output_type": "display_data"
    },
    {
     "data": {
      "application/vnd.jupyter.widget-view+json": {
       "model_id": "15bf6cf043c54be7a4ed500e7ba2ebb9",
       "version_major": 2,
       "version_minor": 0
      },
      "text/plain": [
       "HBox(children=(IntProgress(value=0, max=184), HTML(value='')))"
      ]
     },
     "metadata": {},
     "output_type": "display_data"
    },
    {
     "name": "stdout",
     "output_type": "stream",
     "text": [
      "{'accuracy': 0.2380547525930964, 'roc_auc': 0.7504484586413727, 'pr_auc': 0.3250699481965701}\n"
     ]
    },
    {
     "data": {
      "text/html": [
       "<div>\n",
       "<style scoped>\n",
       "    .dataframe tbody tr th:only-of-type {\n",
       "        vertical-align: middle;\n",
       "    }\n",
       "\n",
       "    .dataframe tbody tr th {\n",
       "        vertical-align: top;\n",
       "    }\n",
       "\n",
       "    .dataframe thead th {\n",
       "        text-align: right;\n",
       "    }\n",
       "</style>\n",
       "<table border=\"1\" class=\"dataframe\">\n",
       "  <thead>\n",
       "    <tr style=\"text-align: right;\">\n",
       "      <th></th>\n",
       "      <th>0</th>\n",
       "      <th>1</th>\n",
       "      <th>micro avg</th>\n",
       "      <th>macro avg</th>\n",
       "      <th>weighted avg</th>\n",
       "    </tr>\n",
       "  </thead>\n",
       "  <tbody>\n",
       "    <tr>\n",
       "      <th>f1-score</th>\n",
       "      <td>0.199</td>\n",
       "      <td>0.273</td>\n",
       "      <td>0.238</td>\n",
       "      <td>0.236</td>\n",
       "      <td>0.210</td>\n",
       "    </tr>\n",
       "    <tr>\n",
       "      <th>precision</th>\n",
       "      <td>0.976</td>\n",
       "      <td>0.159</td>\n",
       "      <td>0.238</td>\n",
       "      <td>0.567</td>\n",
       "      <td>0.857</td>\n",
       "    </tr>\n",
       "    <tr>\n",
       "      <th>recall</th>\n",
       "      <td>0.111</td>\n",
       "      <td>0.984</td>\n",
       "      <td>0.238</td>\n",
       "      <td>0.547</td>\n",
       "      <td>0.238</td>\n",
       "    </tr>\n",
       "    <tr>\n",
       "      <th>support</th>\n",
       "      <td>5025.000</td>\n",
       "      <td>856.000</td>\n",
       "      <td>5881.000</td>\n",
       "      <td>5881.000</td>\n",
       "      <td>5881.000</td>\n",
       "    </tr>\n",
       "  </tbody>\n",
       "</table>\n",
       "</div>"
      ],
      "text/plain": [
       "                  0        1  micro avg  macro avg  weighted avg\n",
       "f1-score      0.199    0.273      0.238      0.236         0.210\n",
       "precision     0.976    0.159      0.238      0.567         0.857\n",
       "recall        0.111    0.984      0.238      0.547         0.238\n",
       "support    5025.000  856.000   5881.000   5881.000      5881.000"
      ]
     },
     "metadata": {},
     "output_type": "display_data"
    },
    {
     "name": "stdout",
     "output_type": "stream",
     "text": [
      "Model Saved on  roc_auc 0.7504484586413727\n"
     ]
    },
    {
     "data": {
      "application/vnd.jupyter.widget-view+json": {
       "model_id": "7914e4de96544da69fba1c44354d0ac4",
       "version_major": 2,
       "version_minor": 0
      },
      "text/plain": [
       "HBox(children=(IntProgress(value=0, max=32), HTML(value='')))"
      ]
     },
     "metadata": {},
     "output_type": "display_data"
    },
    {
     "data": {
      "application/vnd.jupyter.widget-view+json": {
       "model_id": "1daecd70506c4c56b83d340740d89f55",
       "version_major": 2,
       "version_minor": 0
      },
      "text/plain": [
       "HBox(children=(IntProgress(value=0, max=184), HTML(value='')))"
      ]
     },
     "metadata": {},
     "output_type": "display_data"
    },
    {
     "name": "stdout",
     "output_type": "stream",
     "text": [
      "{'accuracy': 0.7597347389899677, 'roc_auc': 0.7583004370670013, 'pr_auc': 0.41720384765976865}\n"
     ]
    },
    {
     "data": {
      "text/html": [
       "<div>\n",
       "<style scoped>\n",
       "    .dataframe tbody tr th:only-of-type {\n",
       "        vertical-align: middle;\n",
       "    }\n",
       "\n",
       "    .dataframe tbody tr th {\n",
       "        vertical-align: top;\n",
       "    }\n",
       "\n",
       "    .dataframe thead th {\n",
       "        text-align: right;\n",
       "    }\n",
       "</style>\n",
       "<table border=\"1\" class=\"dataframe\">\n",
       "  <thead>\n",
       "    <tr style=\"text-align: right;\">\n",
       "      <th></th>\n",
       "      <th>0</th>\n",
       "      <th>1</th>\n",
       "      <th>micro avg</th>\n",
       "      <th>macro avg</th>\n",
       "      <th>weighted avg</th>\n",
       "    </tr>\n",
       "  </thead>\n",
       "  <tbody>\n",
       "    <tr>\n",
       "      <th>f1-score</th>\n",
       "      <td>0.849</td>\n",
       "      <td>0.408</td>\n",
       "      <td>0.76</td>\n",
       "      <td>0.629</td>\n",
       "      <td>0.785</td>\n",
       "    </tr>\n",
       "    <tr>\n",
       "      <th>precision</th>\n",
       "      <td>0.915</td>\n",
       "      <td>0.318</td>\n",
       "      <td>0.76</td>\n",
       "      <td>0.617</td>\n",
       "      <td>0.828</td>\n",
       "    </tr>\n",
       "    <tr>\n",
       "      <th>recall</th>\n",
       "      <td>0.792</td>\n",
       "      <td>0.569</td>\n",
       "      <td>0.76</td>\n",
       "      <td>0.681</td>\n",
       "      <td>0.760</td>\n",
       "    </tr>\n",
       "    <tr>\n",
       "      <th>support</th>\n",
       "      <td>5025.000</td>\n",
       "      <td>856.000</td>\n",
       "      <td>5881.00</td>\n",
       "      <td>5881.000</td>\n",
       "      <td>5881.000</td>\n",
       "    </tr>\n",
       "  </tbody>\n",
       "</table>\n",
       "</div>"
      ],
      "text/plain": [
       "                  0        1  micro avg  macro avg  weighted avg\n",
       "f1-score      0.849    0.408       0.76      0.629         0.785\n",
       "precision     0.915    0.318       0.76      0.617         0.828\n",
       "recall        0.792    0.569       0.76      0.681         0.760\n",
       "support    5025.000  856.000    5881.00   5881.000      5881.000"
      ]
     },
     "metadata": {},
     "output_type": "display_data"
    },
    {
     "name": "stdout",
     "output_type": "stream",
     "text": [
      "Model Saved on  roc_auc 0.7583004370670013\n"
     ]
    },
    {
     "data": {
      "application/vnd.jupyter.widget-view+json": {
       "model_id": "f42d464d1bab44559de280726cd5109b",
       "version_major": 2,
       "version_minor": 0
      },
      "text/plain": [
       "HBox(children=(IntProgress(value=0, max=32), HTML(value='')))"
      ]
     },
     "metadata": {},
     "output_type": "display_data"
    },
    {
     "data": {
      "application/vnd.jupyter.widget-view+json": {
       "model_id": "8c002ff3201e40b6bda1d3b742205296",
       "version_major": 2,
       "version_minor": 0
      },
      "text/plain": [
       "HBox(children=(IntProgress(value=0, max=184), HTML(value='')))"
      ]
     },
     "metadata": {},
     "output_type": "display_data"
    },
    {
     "name": "stdout",
     "output_type": "stream",
     "text": [
      "{'accuracy': 0.7794592756333957, 'roc_auc': 0.7815336867066537, 'pr_auc': 0.474274968691412}\n"
     ]
    },
    {
     "data": {
      "text/html": [
       "<div>\n",
       "<style scoped>\n",
       "    .dataframe tbody tr th:only-of-type {\n",
       "        vertical-align: middle;\n",
       "    }\n",
       "\n",
       "    .dataframe tbody tr th {\n",
       "        vertical-align: top;\n",
       "    }\n",
       "\n",
       "    .dataframe thead th {\n",
       "        text-align: right;\n",
       "    }\n",
       "</style>\n",
       "<table border=\"1\" class=\"dataframe\">\n",
       "  <thead>\n",
       "    <tr style=\"text-align: right;\">\n",
       "      <th></th>\n",
       "      <th>0</th>\n",
       "      <th>1</th>\n",
       "      <th>micro avg</th>\n",
       "      <th>macro avg</th>\n",
       "      <th>weighted avg</th>\n",
       "    </tr>\n",
       "  </thead>\n",
       "  <tbody>\n",
       "    <tr>\n",
       "      <th>f1-score</th>\n",
       "      <td>0.863</td>\n",
       "      <td>0.440</td>\n",
       "      <td>0.779</td>\n",
       "      <td>0.651</td>\n",
       "      <td>0.801</td>\n",
       "    </tr>\n",
       "    <tr>\n",
       "      <th>precision</th>\n",
       "      <td>0.922</td>\n",
       "      <td>0.349</td>\n",
       "      <td>0.779</td>\n",
       "      <td>0.635</td>\n",
       "      <td>0.838</td>\n",
       "    </tr>\n",
       "    <tr>\n",
       "      <th>recall</th>\n",
       "      <td>0.811</td>\n",
       "      <td>0.596</td>\n",
       "      <td>0.779</td>\n",
       "      <td>0.703</td>\n",
       "      <td>0.779</td>\n",
       "    </tr>\n",
       "    <tr>\n",
       "      <th>support</th>\n",
       "      <td>5025.000</td>\n",
       "      <td>856.000</td>\n",
       "      <td>5881.000</td>\n",
       "      <td>5881.000</td>\n",
       "      <td>5881.000</td>\n",
       "    </tr>\n",
       "  </tbody>\n",
       "</table>\n",
       "</div>"
      ],
      "text/plain": [
       "                  0        1  micro avg  macro avg  weighted avg\n",
       "f1-score      0.863    0.440      0.779      0.651         0.801\n",
       "precision     0.922    0.349      0.779      0.635         0.838\n",
       "recall        0.811    0.596      0.779      0.703         0.779\n",
       "support    5025.000  856.000   5881.000   5881.000      5881.000"
      ]
     },
     "metadata": {},
     "output_type": "display_data"
    },
    {
     "name": "stdout",
     "output_type": "stream",
     "text": [
      "Model Saved on  roc_auc 0.7815336867066537\n"
     ]
    },
    {
     "data": {
      "application/vnd.jupyter.widget-view+json": {
       "model_id": "090f42fdeb434c30a075f942b64a5865",
       "version_major": 2,
       "version_minor": 0
      },
      "text/plain": [
       "HBox(children=(IntProgress(value=0, max=32), HTML(value='')))"
      ]
     },
     "metadata": {},
     "output_type": "display_data"
    },
    {
     "data": {
      "application/vnd.jupyter.widget-view+json": {
       "model_id": "b57ff418b45540a1a2b714b9f37341b0",
       "version_major": 2,
       "version_minor": 0
      },
      "text/plain": [
       "HBox(children=(IntProgress(value=0, max=184), HTML(value='')))"
      ]
     },
     "metadata": {},
     "output_type": "display_data"
    },
    {
     "name": "stdout",
     "output_type": "stream",
     "text": [
      "{'accuracy': 0.851895936065295, 'roc_auc': 0.8046652252754917, 'pr_auc': 0.5009680503981004}\n"
     ]
    },
    {
     "data": {
      "text/html": [
       "<div>\n",
       "<style scoped>\n",
       "    .dataframe tbody tr th:only-of-type {\n",
       "        vertical-align: middle;\n",
       "    }\n",
       "\n",
       "    .dataframe tbody tr th {\n",
       "        vertical-align: top;\n",
       "    }\n",
       "\n",
       "    .dataframe thead th {\n",
       "        text-align: right;\n",
       "    }\n",
       "</style>\n",
       "<table border=\"1\" class=\"dataframe\">\n",
       "  <thead>\n",
       "    <tr style=\"text-align: right;\">\n",
       "      <th></th>\n",
       "      <th>0</th>\n",
       "      <th>1</th>\n",
       "      <th>micro avg</th>\n",
       "      <th>macro avg</th>\n",
       "      <th>weighted avg</th>\n",
       "    </tr>\n",
       "  </thead>\n",
       "  <tbody>\n",
       "    <tr>\n",
       "      <th>f1-score</th>\n",
       "      <td>0.914</td>\n",
       "      <td>0.473</td>\n",
       "      <td>0.852</td>\n",
       "      <td>0.693</td>\n",
       "      <td>0.850</td>\n",
       "    </tr>\n",
       "    <tr>\n",
       "      <th>precision</th>\n",
       "      <td>0.909</td>\n",
       "      <td>0.491</td>\n",
       "      <td>0.852</td>\n",
       "      <td>0.700</td>\n",
       "      <td>0.848</td>\n",
       "    </tr>\n",
       "    <tr>\n",
       "      <th>recall</th>\n",
       "      <td>0.919</td>\n",
       "      <td>0.457</td>\n",
       "      <td>0.852</td>\n",
       "      <td>0.688</td>\n",
       "      <td>0.852</td>\n",
       "    </tr>\n",
       "    <tr>\n",
       "      <th>support</th>\n",
       "      <td>5025.000</td>\n",
       "      <td>856.000</td>\n",
       "      <td>5881.000</td>\n",
       "      <td>5881.000</td>\n",
       "      <td>5881.000</td>\n",
       "    </tr>\n",
       "  </tbody>\n",
       "</table>\n",
       "</div>"
      ],
      "text/plain": [
       "                  0        1  micro avg  macro avg  weighted avg\n",
       "f1-score      0.914    0.473      0.852      0.693         0.850\n",
       "precision     0.909    0.491      0.852      0.700         0.848\n",
       "recall        0.919    0.457      0.852      0.688         0.852\n",
       "support    5025.000  856.000   5881.000   5881.000      5881.000"
      ]
     },
     "metadata": {},
     "output_type": "display_data"
    },
    {
     "name": "stdout",
     "output_type": "stream",
     "text": [
      "Model Saved on  roc_auc 0.8046652252754917\n"
     ]
    },
    {
     "data": {
      "application/vnd.jupyter.widget-view+json": {
       "model_id": "b0f3ee20c2c9428c8543e68a96a6075d",
       "version_major": 2,
       "version_minor": 0
      },
      "text/plain": [
       "HBox(children=(IntProgress(value=0, max=32), HTML(value='')))"
      ]
     },
     "metadata": {},
     "output_type": "display_data"
    },
    {
     "data": {
      "application/vnd.jupyter.widget-view+json": {
       "model_id": "3504224113634f37a38ef6df5f1f7965",
       "version_major": 2,
       "version_minor": 0
      },
      "text/plain": [
       "HBox(children=(IntProgress(value=0, max=184), HTML(value='')))"
      ]
     },
     "metadata": {},
     "output_type": "display_data"
    },
    {
     "name": "stdout",
     "output_type": "stream",
     "text": [
      "{'accuracy': 0.8013943206937596, 'roc_auc': 0.7738078300088342, 'pr_auc': 0.4626364112439044}\n"
     ]
    },
    {
     "data": {
      "text/html": [
       "<div>\n",
       "<style scoped>\n",
       "    .dataframe tbody tr th:only-of-type {\n",
       "        vertical-align: middle;\n",
       "    }\n",
       "\n",
       "    .dataframe tbody tr th {\n",
       "        vertical-align: top;\n",
       "    }\n",
       "\n",
       "    .dataframe thead th {\n",
       "        text-align: right;\n",
       "    }\n",
       "</style>\n",
       "<table border=\"1\" class=\"dataframe\">\n",
       "  <thead>\n",
       "    <tr style=\"text-align: right;\">\n",
       "      <th></th>\n",
       "      <th>0</th>\n",
       "      <th>1</th>\n",
       "      <th>micro avg</th>\n",
       "      <th>macro avg</th>\n",
       "      <th>weighted avg</th>\n",
       "    </tr>\n",
       "  </thead>\n",
       "  <tbody>\n",
       "    <tr>\n",
       "      <th>f1-score</th>\n",
       "      <td>0.879</td>\n",
       "      <td>0.443</td>\n",
       "      <td>0.801</td>\n",
       "      <td>0.661</td>\n",
       "      <td>0.816</td>\n",
       "    </tr>\n",
       "    <tr>\n",
       "      <th>precision</th>\n",
       "      <td>0.916</td>\n",
       "      <td>0.374</td>\n",
       "      <td>0.801</td>\n",
       "      <td>0.645</td>\n",
       "      <td>0.837</td>\n",
       "    </tr>\n",
       "    <tr>\n",
       "      <th>recall</th>\n",
       "      <td>0.846</td>\n",
       "      <td>0.542</td>\n",
       "      <td>0.801</td>\n",
       "      <td>0.694</td>\n",
       "      <td>0.801</td>\n",
       "    </tr>\n",
       "    <tr>\n",
       "      <th>support</th>\n",
       "      <td>5025.000</td>\n",
       "      <td>856.000</td>\n",
       "      <td>5881.000</td>\n",
       "      <td>5881.000</td>\n",
       "      <td>5881.000</td>\n",
       "    </tr>\n",
       "  </tbody>\n",
       "</table>\n",
       "</div>"
      ],
      "text/plain": [
       "                  0        1  micro avg  macro avg  weighted avg\n",
       "f1-score      0.879    0.443      0.801      0.661         0.816\n",
       "precision     0.916    0.374      0.801      0.645         0.837\n",
       "recall        0.846    0.542      0.801      0.694         0.801\n",
       "support    5025.000  856.000   5881.000   5881.000      5881.000"
      ]
     },
     "metadata": {},
     "output_type": "display_data"
    },
    {
     "name": "stdout",
     "output_type": "stream",
     "text": [
      "Model not saved on  roc_auc 0.7738078300088342\n"
     ]
    },
    {
     "data": {
      "application/vnd.jupyter.widget-view+json": {
       "model_id": "49e8e1cde14145f890c273a0578a189d",
       "version_major": 2,
       "version_minor": 0
      },
      "text/plain": [
       "HBox(children=(IntProgress(value=0, max=32), HTML(value='')))"
      ]
     },
     "metadata": {},
     "output_type": "display_data"
    },
    {
     "data": {
      "application/vnd.jupyter.widget-view+json": {
       "model_id": "c1ae7d63ce414a3988f3c538cf4ed186",
       "version_major": 2,
       "version_minor": 0
      },
      "text/plain": [
       "HBox(children=(IntProgress(value=0, max=184), HTML(value='')))"
      ]
     },
     "metadata": {},
     "output_type": "display_data"
    },
    {
     "name": "stdout",
     "output_type": "stream",
     "text": [
      "{'accuracy': 0.866859377656861, 'roc_auc': 0.7788438647882084, 'pr_auc': 0.49416556304218606}\n"
     ]
    },
    {
     "data": {
      "text/html": [
       "<div>\n",
       "<style scoped>\n",
       "    .dataframe tbody tr th:only-of-type {\n",
       "        vertical-align: middle;\n",
       "    }\n",
       "\n",
       "    .dataframe tbody tr th {\n",
       "        vertical-align: top;\n",
       "    }\n",
       "\n",
       "    .dataframe thead th {\n",
       "        text-align: right;\n",
       "    }\n",
       "</style>\n",
       "<table border=\"1\" class=\"dataframe\">\n",
       "  <thead>\n",
       "    <tr style=\"text-align: right;\">\n",
       "      <th></th>\n",
       "      <th>0</th>\n",
       "      <th>1</th>\n",
       "      <th>micro avg</th>\n",
       "      <th>macro avg</th>\n",
       "      <th>weighted avg</th>\n",
       "    </tr>\n",
       "  </thead>\n",
       "  <tbody>\n",
       "    <tr>\n",
       "      <th>f1-score</th>\n",
       "      <td>0.925</td>\n",
       "      <td>0.431</td>\n",
       "      <td>0.867</td>\n",
       "      <td>0.678</td>\n",
       "      <td>0.853</td>\n",
       "    </tr>\n",
       "    <tr>\n",
       "      <th>precision</th>\n",
       "      <td>0.896</td>\n",
       "      <td>0.570</td>\n",
       "      <td>0.867</td>\n",
       "      <td>0.733</td>\n",
       "      <td>0.848</td>\n",
       "    </tr>\n",
       "    <tr>\n",
       "      <th>recall</th>\n",
       "      <td>0.956</td>\n",
       "      <td>0.346</td>\n",
       "      <td>0.867</td>\n",
       "      <td>0.651</td>\n",
       "      <td>0.867</td>\n",
       "    </tr>\n",
       "    <tr>\n",
       "      <th>support</th>\n",
       "      <td>5025.000</td>\n",
       "      <td>856.000</td>\n",
       "      <td>5881.000</td>\n",
       "      <td>5881.000</td>\n",
       "      <td>5881.000</td>\n",
       "    </tr>\n",
       "  </tbody>\n",
       "</table>\n",
       "</div>"
      ],
      "text/plain": [
       "                  0        1  micro avg  macro avg  weighted avg\n",
       "f1-score      0.925    0.431      0.867      0.678         0.853\n",
       "precision     0.896    0.570      0.867      0.733         0.848\n",
       "recall        0.956    0.346      0.867      0.651         0.867\n",
       "support    5025.000  856.000   5881.000   5881.000      5881.000"
      ]
     },
     "metadata": {},
     "output_type": "display_data"
    },
    {
     "name": "stdout",
     "output_type": "stream",
     "text": [
      "Model not saved on  roc_auc 0.7788438647882084\n"
     ]
    },
    {
     "data": {
      "application/vnd.jupyter.widget-view+json": {
       "model_id": "7707f1a385a648e7bdf56b5ba0af58a1",
       "version_major": 2,
       "version_minor": 0
      },
      "text/plain": [
       "HBox(children=(IntProgress(value=0, max=32), HTML(value='')))"
      ]
     },
     "metadata": {},
     "output_type": "display_data"
    },
    {
     "data": {
      "application/vnd.jupyter.widget-view+json": {
       "model_id": "5b8243163351470ca104f43c59ad9be8",
       "version_major": 2,
       "version_minor": 0
      },
      "text/plain": [
       "HBox(children=(IntProgress(value=0, max=184), HTML(value='')))"
      ]
     },
     "metadata": {},
     "output_type": "display_data"
    },
    {
     "name": "stdout",
     "output_type": "stream",
     "text": [
      "{'accuracy': 0.8313212038768917, 'roc_auc': 0.7639454596177989, 'pr_auc': 0.47813743756946364}\n"
     ]
    },
    {
     "data": {
      "text/html": [
       "<div>\n",
       "<style scoped>\n",
       "    .dataframe tbody tr th:only-of-type {\n",
       "        vertical-align: middle;\n",
       "    }\n",
       "\n",
       "    .dataframe tbody tr th {\n",
       "        vertical-align: top;\n",
       "    }\n",
       "\n",
       "    .dataframe thead th {\n",
       "        text-align: right;\n",
       "    }\n",
       "</style>\n",
       "<table border=\"1\" class=\"dataframe\">\n",
       "  <thead>\n",
       "    <tr style=\"text-align: right;\">\n",
       "      <th></th>\n",
       "      <th>0</th>\n",
       "      <th>1</th>\n",
       "      <th>micro avg</th>\n",
       "      <th>macro avg</th>\n",
       "      <th>weighted avg</th>\n",
       "    </tr>\n",
       "  </thead>\n",
       "  <tbody>\n",
       "    <tr>\n",
       "      <th>f1-score</th>\n",
       "      <td>0.901</td>\n",
       "      <td>0.443</td>\n",
       "      <td>0.831</td>\n",
       "      <td>0.672</td>\n",
       "      <td>0.834</td>\n",
       "    </tr>\n",
       "    <tr>\n",
       "      <th>precision</th>\n",
       "      <td>0.907</td>\n",
       "      <td>0.427</td>\n",
       "      <td>0.831</td>\n",
       "      <td>0.667</td>\n",
       "      <td>0.837</td>\n",
       "    </tr>\n",
       "    <tr>\n",
       "      <th>recall</th>\n",
       "      <td>0.894</td>\n",
       "      <td>0.461</td>\n",
       "      <td>0.831</td>\n",
       "      <td>0.678</td>\n",
       "      <td>0.831</td>\n",
       "    </tr>\n",
       "    <tr>\n",
       "      <th>support</th>\n",
       "      <td>5025.000</td>\n",
       "      <td>856.000</td>\n",
       "      <td>5881.000</td>\n",
       "      <td>5881.000</td>\n",
       "      <td>5881.000</td>\n",
       "    </tr>\n",
       "  </tbody>\n",
       "</table>\n",
       "</div>"
      ],
      "text/plain": [
       "                  0        1  micro avg  macro avg  weighted avg\n",
       "f1-score      0.901    0.443      0.831      0.672         0.834\n",
       "precision     0.907    0.427      0.831      0.667         0.837\n",
       "recall        0.894    0.461      0.831      0.678         0.831\n",
       "support    5025.000  856.000   5881.000   5881.000      5881.000"
      ]
     },
     "metadata": {},
     "output_type": "display_data"
    },
    {
     "name": "stderr",
     "output_type": "stream",
     "text": [
      "INFO - 2019-03-23 15:27:46,223 - instantiating class <class 'PatientVec.models.Model.Model'> from params {'type': 'seq_classifier', 'embedder': {'type': 'token_embedder', 'vocab_size': 29286, 'embed_size': 200, 'embedding_file': './preprocess/Mortality/embedding_matrix.npy'}, 'decoder': {'num_layers': 2, 'hidden_dims': [128, 1], 'activations': ['tanh', 'linear']}, 'predictor': {'type': 'binary'}, 'structured': {'use_structured': True, 'structured_dim': 50}, 'encoder': {'type': 'lstm', 'hidden_size': 128}} and extras {}\n",
      "INFO - 2019-03-23 15:27:46,223 - type = seq_classifier\n",
      "INFO - 2019-03-23 15:27:46,224 - instantiating class <class 'PatientVec.models.modules.Embedder.Embedder'> from params {'type': 'token_embedder', 'vocab_size': 29286, 'embed_size': 200, 'embedding_file': './preprocess/Mortality/embedding_matrix.npy'} and extras {}\n",
      "INFO - 2019-03-23 15:27:46,224 - embedder.type = token_embedder\n",
      "INFO - 2019-03-23 15:27:46,225 - instantiating class <class 'PatientVec.models.modules.Embedder.TokenEmbedder'> from params {'vocab_size': 29286, 'embed_size': 200, 'embedding_file': './preprocess/Mortality/embedding_matrix.npy'} and extras {}\n",
      "INFO - 2019-03-23 15:27:46,225 - embedder.vocab_size = 29286\n",
      "INFO - 2019-03-23 15:27:46,225 - embedder.embed_size = 200\n",
      "INFO - 2019-03-23 15:27:46,225 - embedder.embedding_file = ./preprocess/Mortality/embedding_matrix.npy\n",
      "INFO - 2019-03-23 15:27:46,241 - instantiating class <class 'PatientVec.models.modules.Encoder.Encoder'> from params {'type': 'lstm', 'hidden_size': 128} and extras {'input_size': 200}\n",
      "INFO - 2019-03-23 15:27:46,242 - encoder.type = lstm\n",
      "INFO - 2019-03-23 15:27:46,242 - instantiating class <class 'PatientVec.models.modules.Encoder.wrap_pytorch_rnn.<locals>.BiRNNEncoder'> from params {'hidden_size': 128} and extras {'input_size': 200}\n",
      "INFO - 2019-03-23 15:27:46,243 - encoder.hidden_size = 128\n",
      "INFO - 2019-03-23 15:27:46,245 - decoder.input_dim = 306\n",
      "INFO - 2019-03-23 15:27:46,245 - decoder.num_layers = 2\n",
      "INFO - 2019-03-23 15:27:46,245 - decoder.hidden_dims = [128, 1]\n",
      "INFO - 2019-03-23 15:27:46,246 - decoder.activations = ['tanh', 'linear']\n",
      "INFO - 2019-03-23 15:27:46,246 - decoder.dropout = 0.0\n",
      "INFO - 2019-03-23 15:27:46,247 - instantiating class <class 'PatientVec.models.modules.Predictor.Predictor'> from params {'type': 'binary'} and extras {}\n",
      "INFO - 2019-03-23 15:27:46,247 - predictor.type = binary\n",
      "INFO - 2019-03-23 15:27:46,247 - instantiating class <class 'PatientVec.models.modules.Predictor.Binary_Predictor'> from params {} and extras {}\n",
      "INFO - 2019-03-23 15:27:46,248 - predictor.replicate = False\n",
      "INFO - 2019-03-23 15:27:46,248 - predictor.alpha = 0.5\n"
     ]
    },
    {
     "name": "stdout",
     "output_type": "stream",
     "text": [
      "Model not saved on  roc_auc 0.7639454596177989\n",
      "0.8046652252754917 deque([0.7738078300088342, 0.7788438647882084, 0.7639454596177989], maxlen=3)\n",
      "\n",
      "Setting Embedding\n"
     ]
    },
    {
     "data": {
      "application/vnd.jupyter.widget-view+json": {
       "model_id": "5e930736c8ef4d64954d34b05fc3294f",
       "version_major": 2,
       "version_minor": 0
      },
      "text/plain": [
       "HBox(children=(IntProgress(value=0, max=184), HTML(value='')))"
      ]
     },
     "metadata": {},
     "output_type": "display_data"
    },
    {
     "name": "stdout",
     "output_type": "stream",
     "text": [
      "\n",
      "{'accuracy': 0.851895936065295, 'roc_auc': 0.8046652252754917, 'pr_auc': 0.5009680503981004}\n"
     ]
    },
    {
     "data": {
      "text/html": [
       "<div>\n",
       "<style scoped>\n",
       "    .dataframe tbody tr th:only-of-type {\n",
       "        vertical-align: middle;\n",
       "    }\n",
       "\n",
       "    .dataframe tbody tr th {\n",
       "        vertical-align: top;\n",
       "    }\n",
       "\n",
       "    .dataframe thead th {\n",
       "        text-align: right;\n",
       "    }\n",
       "</style>\n",
       "<table border=\"1\" class=\"dataframe\">\n",
       "  <thead>\n",
       "    <tr style=\"text-align: right;\">\n",
       "      <th></th>\n",
       "      <th>0</th>\n",
       "      <th>1</th>\n",
       "      <th>micro avg</th>\n",
       "      <th>macro avg</th>\n",
       "      <th>weighted avg</th>\n",
       "    </tr>\n",
       "  </thead>\n",
       "  <tbody>\n",
       "    <tr>\n",
       "      <th>f1-score</th>\n",
       "      <td>0.914</td>\n",
       "      <td>0.473</td>\n",
       "      <td>0.852</td>\n",
       "      <td>0.693</td>\n",
       "      <td>0.850</td>\n",
       "    </tr>\n",
       "    <tr>\n",
       "      <th>precision</th>\n",
       "      <td>0.909</td>\n",
       "      <td>0.491</td>\n",
       "      <td>0.852</td>\n",
       "      <td>0.700</td>\n",
       "      <td>0.848</td>\n",
       "    </tr>\n",
       "    <tr>\n",
       "      <th>recall</th>\n",
       "      <td>0.919</td>\n",
       "      <td>0.457</td>\n",
       "      <td>0.852</td>\n",
       "      <td>0.688</td>\n",
       "      <td>0.852</td>\n",
       "    </tr>\n",
       "    <tr>\n",
       "      <th>support</th>\n",
       "      <td>5025.000</td>\n",
       "      <td>856.000</td>\n",
       "      <td>5881.000</td>\n",
       "      <td>5881.000</td>\n",
       "      <td>5881.000</td>\n",
       "    </tr>\n",
       "  </tbody>\n",
       "</table>\n",
       "</div>"
      ],
      "text/plain": [
       "                  0        1  micro avg  macro avg  weighted avg\n",
       "f1-score      0.914    0.473      0.852      0.693         0.850\n",
       "precision     0.909    0.491      0.852      0.700         0.848\n",
       "recall        0.919    0.457      0.852      0.688         0.852\n",
       "support    5025.000  856.000   5881.000   5881.000      5881.000"
      ]
     },
     "metadata": {},
     "output_type": "display_data"
    },
    {
     "name": "stderr",
     "output_type": "stream",
     "text": [
      "INFO - 2019-03-23 15:29:10,104 - instantiating class <class 'PatientVec.models.Model.Model'> from params {'type': 'seq_classifier_with_attention', 'embedder': {'type': 'token_embedder', 'vocab_size': 29286, 'embed_size': 200, 'embedding_file': './preprocess/Mortality/embedding_matrix.npy'}, 'decoder': {'num_layers': 2, 'hidden_dims': [128, 1], 'activations': ['tanh', 'linear']}, 'predictor': {'type': 'binary'}, 'structured': {'use_structured': True, 'structured_dim': 50}, 'encoder': {'type': 'lstm', 'hidden_size': 128}, 'attention': {'similarity': {'type': 'additive', 'hidden_size': 128}}} and extras {}\n",
      "INFO - 2019-03-23 15:29:10,104 - type = seq_classifier_with_attention\n",
      "INFO - 2019-03-23 15:29:10,104 - instantiating class <class 'PatientVec.models.modules.Embedder.Embedder'> from params {'type': 'token_embedder', 'vocab_size': 29286, 'embed_size': 200, 'embedding_file': './preprocess/Mortality/embedding_matrix.npy'} and extras {}\n",
      "INFO - 2019-03-23 15:29:10,105 - embedder.type = token_embedder\n",
      "INFO - 2019-03-23 15:29:10,105 - instantiating class <class 'PatientVec.models.modules.Embedder.TokenEmbedder'> from params {'vocab_size': 29286, 'embed_size': 200, 'embedding_file': './preprocess/Mortality/embedding_matrix.npy'} and extras {}\n",
      "INFO - 2019-03-23 15:29:10,105 - embedder.vocab_size = 29286\n",
      "INFO - 2019-03-23 15:29:10,106 - embedder.embed_size = 200\n",
      "INFO - 2019-03-23 15:29:10,106 - embedder.embedding_file = ./preprocess/Mortality/embedding_matrix.npy\n",
      "INFO - 2019-03-23 15:29:10,122 - instantiating class <class 'PatientVec.models.modules.Encoder.Encoder'> from params {'type': 'lstm', 'hidden_size': 128} and extras {'input_size': 200}\n",
      "INFO - 2019-03-23 15:29:10,123 - encoder.type = lstm\n",
      "INFO - 2019-03-23 15:29:10,123 - instantiating class <class 'PatientVec.models.modules.Encoder.wrap_pytorch_rnn.<locals>.BiRNNEncoder'> from params {'hidden_size': 128} and extras {'input_size': 200}\n",
      "INFO - 2019-03-23 15:29:10,123 - encoder.hidden_size = 128\n",
      "INFO - 2019-03-23 15:29:10,126 - instantiating class <class 'PatientVec.models.modules.SelfAttention.SelfAttention'> from params {'similarity': {'type': 'additive', 'hidden_size': 128, 'tensor_1_dim': 256}} and extras {}\n",
      "INFO - 2019-03-23 15:29:10,126 - instantiating class <class 'PatientVec.models.modules.UniSimilarity.UniSimilarity'> from params {'type': 'additive', 'hidden_size': 128, 'tensor_1_dim': 256} and extras {}\n",
      "INFO - 2019-03-23 15:29:10,126 - attention.similarity.type = additive\n",
      "INFO - 2019-03-23 15:29:10,126 - instantiating class <class 'PatientVec.models.modules.UniSimilarity.UniAdditiveSimilarity'> from params {'hidden_size': 128, 'tensor_1_dim': 256} and extras {}\n",
      "INFO - 2019-03-23 15:29:10,127 - attention.similarity.tensor_1_dim = 256\n",
      "INFO - 2019-03-23 15:29:10,127 - attention.similarity.hidden_size = 128\n",
      "INFO - 2019-03-23 15:29:10,127 - attention.similarity.output_size = 1\n",
      "INFO - 2019-03-23 15:29:10,128 - attention.normaliser = softmax\n",
      "INFO - 2019-03-23 15:29:10,128 - decoder.input_dim = 306\n",
      "INFO - 2019-03-23 15:29:10,128 - decoder.num_layers = 2\n",
      "INFO - 2019-03-23 15:29:10,128 - decoder.hidden_dims = [128, 1]\n",
      "INFO - 2019-03-23 15:29:10,129 - decoder.activations = ['tanh', 'linear']\n",
      "INFO - 2019-03-23 15:29:10,129 - decoder.dropout = 0.0\n",
      "INFO - 2019-03-23 15:29:10,131 - instantiating class <class 'PatientVec.models.modules.Predictor.Predictor'> from params {'type': 'binary'} and extras {}\n",
      "INFO - 2019-03-23 15:29:10,131 - predictor.type = binary\n",
      "INFO - 2019-03-23 15:29:10,131 - instantiating class <class 'PatientVec.models.modules.Predictor.Binary_Predictor'> from params {} and extras {}\n",
      "INFO - 2019-03-23 15:29:10,131 - predictor.replicate = False\n",
      "INFO - 2019-03-23 15:29:10,132 - predictor.alpha = 0.5\n"
     ]
    },
    {
     "name": "stdout",
     "output_type": "stream",
     "text": [
      "============================================================================================================================================================================================================================================================================================================\n",
      "{'model': {'type': 'seq_classifier_with_attention', 'embedder': {'type': 'token_embedder', 'vocab_size': 29286, 'embed_size': 200, 'embedding_file': './preprocess/Mortality/embedding_matrix.npy'}, 'decoder': {'num_layers': 2, 'hidden_dims': [128, 1], 'activations': ['tanh', 'linear']}, 'predictor': {'type': 'binary'}, 'structured': {'use_structured': True, 'structured_dim': 50}, 'encoder': {'type': 'lstm', 'hidden_size': 128}, 'attention': {'similarity': {'type': 'additive', 'hidden_size': 128}}}, 'training_config': {'type': 'Adam', 'groups': [('.*', {'lr': 0.001, 'weight_decay': 1e-05})], 'common': {'bsize': 32, 'class_weight': True}}, 'exp_config': {'exp_name': 'Mortality_30day/Attention/LSTM(hs=128)+Attention(additive)(hs=128)+Structured', 'basepath': 'outputs/ts_experiments/n=1000'}}\n",
      "Setting Embedding\n"
     ]
    },
    {
     "data": {
      "application/vnd.jupyter.widget-view+json": {
       "model_id": "07ddd7e7a8454647a22ce9b64a784648",
       "version_major": 2,
       "version_minor": 0
      },
      "text/plain": [
       "HBox(children=(IntProgress(value=0, max=8), HTML(value='')))"
      ]
     },
     "metadata": {},
     "output_type": "display_data"
    },
    {
     "data": {
      "application/vnd.jupyter.widget-view+json": {
       "model_id": "313668b94ea64481bfc4de546d3ee55c",
       "version_major": 2,
       "version_minor": 0
      },
      "text/plain": [
       "HBox(children=(IntProgress(value=0, max=32), HTML(value='')))"
      ]
     },
     "metadata": {},
     "output_type": "display_data"
    },
    {
     "data": {
      "application/vnd.jupyter.widget-view+json": {
       "model_id": "07a16e93cb0f4290adca289ab5a307f8",
       "version_major": 2,
       "version_minor": 0
      },
      "text/plain": [
       "HBox(children=(IntProgress(value=0, max=184), HTML(value='')))"
      ]
     },
     "metadata": {},
     "output_type": "display_data"
    },
    {
     "name": "stdout",
     "output_type": "stream",
     "text": [
      "{'accuracy': 0.340758374426118, 'roc_auc': 0.7512376203096666, 'pr_auc': 0.32612898393850487}\n"
     ]
    },
    {
     "data": {
      "text/html": [
       "<div>\n",
       "<style scoped>\n",
       "    .dataframe tbody tr th:only-of-type {\n",
       "        vertical-align: middle;\n",
       "    }\n",
       "\n",
       "    .dataframe tbody tr th {\n",
       "        vertical-align: top;\n",
       "    }\n",
       "\n",
       "    .dataframe thead th {\n",
       "        text-align: right;\n",
       "    }\n",
       "</style>\n",
       "<table border=\"1\" class=\"dataframe\">\n",
       "  <thead>\n",
       "    <tr style=\"text-align: right;\">\n",
       "      <th></th>\n",
       "      <th>0</th>\n",
       "      <th>1</th>\n",
       "      <th>micro avg</th>\n",
       "      <th>macro avg</th>\n",
       "      <th>weighted avg</th>\n",
       "    </tr>\n",
       "  </thead>\n",
       "  <tbody>\n",
       "    <tr>\n",
       "      <th>f1-score</th>\n",
       "      <td>0.378</td>\n",
       "      <td>0.299</td>\n",
       "      <td>0.341</td>\n",
       "      <td>0.338</td>\n",
       "      <td>0.366</td>\n",
       "    </tr>\n",
       "    <tr>\n",
       "      <th>precision</th>\n",
       "      <td>0.976</td>\n",
       "      <td>0.177</td>\n",
       "      <td>0.341</td>\n",
       "      <td>0.576</td>\n",
       "      <td>0.860</td>\n",
       "    </tr>\n",
       "    <tr>\n",
       "      <th>recall</th>\n",
       "      <td>0.234</td>\n",
       "      <td>0.966</td>\n",
       "      <td>0.341</td>\n",
       "      <td>0.600</td>\n",
       "      <td>0.341</td>\n",
       "    </tr>\n",
       "    <tr>\n",
       "      <th>support</th>\n",
       "      <td>5025.000</td>\n",
       "      <td>856.000</td>\n",
       "      <td>5881.000</td>\n",
       "      <td>5881.000</td>\n",
       "      <td>5881.000</td>\n",
       "    </tr>\n",
       "  </tbody>\n",
       "</table>\n",
       "</div>"
      ],
      "text/plain": [
       "                  0        1  micro avg  macro avg  weighted avg\n",
       "f1-score      0.378    0.299      0.341      0.338         0.366\n",
       "precision     0.976    0.177      0.341      0.576         0.860\n",
       "recall        0.234    0.966      0.341      0.600         0.341\n",
       "support    5025.000  856.000   5881.000   5881.000      5881.000"
      ]
     },
     "metadata": {},
     "output_type": "display_data"
    },
    {
     "name": "stdout",
     "output_type": "stream",
     "text": [
      "Model Saved on  roc_auc 0.7512376203096666\n"
     ]
    },
    {
     "data": {
      "application/vnd.jupyter.widget-view+json": {
       "model_id": "7513bc4000ca46c48deabd1cd9e64c73",
       "version_major": 2,
       "version_minor": 0
      },
      "text/plain": [
       "HBox(children=(IntProgress(value=0, max=32), HTML(value='')))"
      ]
     },
     "metadata": {},
     "output_type": "display_data"
    },
    {
     "data": {
      "application/vnd.jupyter.widget-view+json": {
       "model_id": "c2c0ad713cca490fa15694d6159e3b0b",
       "version_major": 2,
       "version_minor": 0
      },
      "text/plain": [
       "HBox(children=(IntProgress(value=0, max=184), HTML(value='')))"
      ]
     },
     "metadata": {},
     "output_type": "display_data"
    },
    {
     "name": "stdout",
     "output_type": "stream",
     "text": [
      "{'accuracy': 0.6793062404353001, 'roc_auc': 0.7781153810387316, 'pr_auc': 0.35597435585701714}\n"
     ]
    },
    {
     "data": {
      "text/html": [
       "<div>\n",
       "<style scoped>\n",
       "    .dataframe tbody tr th:only-of-type {\n",
       "        vertical-align: middle;\n",
       "    }\n",
       "\n",
       "    .dataframe tbody tr th {\n",
       "        vertical-align: top;\n",
       "    }\n",
       "\n",
       "    .dataframe thead th {\n",
       "        text-align: right;\n",
       "    }\n",
       "</style>\n",
       "<table border=\"1\" class=\"dataframe\">\n",
       "  <thead>\n",
       "    <tr style=\"text-align: right;\">\n",
       "      <th></th>\n",
       "      <th>0</th>\n",
       "      <th>1</th>\n",
       "      <th>micro avg</th>\n",
       "      <th>macro avg</th>\n",
       "      <th>weighted avg</th>\n",
       "    </tr>\n",
       "  </thead>\n",
       "  <tbody>\n",
       "    <tr>\n",
       "      <th>f1-score</th>\n",
       "      <td>0.780</td>\n",
       "      <td>0.405</td>\n",
       "      <td>0.679</td>\n",
       "      <td>0.593</td>\n",
       "      <td>0.726</td>\n",
       "    </tr>\n",
       "    <tr>\n",
       "      <th>precision</th>\n",
       "      <td>0.940</td>\n",
       "      <td>0.277</td>\n",
       "      <td>0.679</td>\n",
       "      <td>0.609</td>\n",
       "      <td>0.844</td>\n",
       "    </tr>\n",
       "    <tr>\n",
       "      <th>recall</th>\n",
       "      <td>0.667</td>\n",
       "      <td>0.750</td>\n",
       "      <td>0.679</td>\n",
       "      <td>0.709</td>\n",
       "      <td>0.679</td>\n",
       "    </tr>\n",
       "    <tr>\n",
       "      <th>support</th>\n",
       "      <td>5025.000</td>\n",
       "      <td>856.000</td>\n",
       "      <td>5881.000</td>\n",
       "      <td>5881.000</td>\n",
       "      <td>5881.000</td>\n",
       "    </tr>\n",
       "  </tbody>\n",
       "</table>\n",
       "</div>"
      ],
      "text/plain": [
       "                  0        1  micro avg  macro avg  weighted avg\n",
       "f1-score      0.780    0.405      0.679      0.593         0.726\n",
       "precision     0.940    0.277      0.679      0.609         0.844\n",
       "recall        0.667    0.750      0.679      0.709         0.679\n",
       "support    5025.000  856.000   5881.000   5881.000      5881.000"
      ]
     },
     "metadata": {},
     "output_type": "display_data"
    },
    {
     "name": "stdout",
     "output_type": "stream",
     "text": [
      "Model Saved on  roc_auc 0.7781153810387316\n"
     ]
    },
    {
     "data": {
      "application/vnd.jupyter.widget-view+json": {
       "model_id": "721ecf00e3f344e2b656a25cf3d9d8a5",
       "version_major": 2,
       "version_minor": 0
      },
      "text/plain": [
       "HBox(children=(IntProgress(value=0, max=32), HTML(value='')))"
      ]
     },
     "metadata": {},
     "output_type": "display_data"
    },
    {
     "data": {
      "application/vnd.jupyter.widget-view+json": {
       "model_id": "3e750059b7804c02b5a72b60e62877d7",
       "version_major": 2,
       "version_minor": 0
      },
      "text/plain": [
       "HBox(children=(IntProgress(value=0, max=184), HTML(value='')))"
      ]
     },
     "metadata": {},
     "output_type": "display_data"
    },
    {
     "name": "stdout",
     "output_type": "stream",
     "text": [
      "{'accuracy': 0.7928923652440061, 'roc_auc': 0.8539405774863997, 'pr_auc': 0.48732032015395155}\n"
     ]
    },
    {
     "data": {
      "text/html": [
       "<div>\n",
       "<style scoped>\n",
       "    .dataframe tbody tr th:only-of-type {\n",
       "        vertical-align: middle;\n",
       "    }\n",
       "\n",
       "    .dataframe tbody tr th {\n",
       "        vertical-align: top;\n",
       "    }\n",
       "\n",
       "    .dataframe thead th {\n",
       "        text-align: right;\n",
       "    }\n",
       "</style>\n",
       "<table border=\"1\" class=\"dataframe\">\n",
       "  <thead>\n",
       "    <tr style=\"text-align: right;\">\n",
       "      <th></th>\n",
       "      <th>0</th>\n",
       "      <th>1</th>\n",
       "      <th>micro avg</th>\n",
       "      <th>macro avg</th>\n",
       "      <th>weighted avg</th>\n",
       "    </tr>\n",
       "  </thead>\n",
       "  <tbody>\n",
       "    <tr>\n",
       "      <th>f1-score</th>\n",
       "      <td>0.869</td>\n",
       "      <td>0.512</td>\n",
       "      <td>0.793</td>\n",
       "      <td>0.690</td>\n",
       "      <td>0.817</td>\n",
       "    </tr>\n",
       "    <tr>\n",
       "      <th>precision</th>\n",
       "      <td>0.949</td>\n",
       "      <td>0.390</td>\n",
       "      <td>0.793</td>\n",
       "      <td>0.669</td>\n",
       "      <td>0.867</td>\n",
       "    </tr>\n",
       "    <tr>\n",
       "      <th>recall</th>\n",
       "      <td>0.801</td>\n",
       "      <td>0.746</td>\n",
       "      <td>0.793</td>\n",
       "      <td>0.774</td>\n",
       "      <td>0.793</td>\n",
       "    </tr>\n",
       "    <tr>\n",
       "      <th>support</th>\n",
       "      <td>5025.000</td>\n",
       "      <td>856.000</td>\n",
       "      <td>5881.000</td>\n",
       "      <td>5881.000</td>\n",
       "      <td>5881.000</td>\n",
       "    </tr>\n",
       "  </tbody>\n",
       "</table>\n",
       "</div>"
      ],
      "text/plain": [
       "                  0        1  micro avg  macro avg  weighted avg\n",
       "f1-score      0.869    0.512      0.793      0.690         0.817\n",
       "precision     0.949    0.390      0.793      0.669         0.867\n",
       "recall        0.801    0.746      0.793      0.774         0.793\n",
       "support    5025.000  856.000   5881.000   5881.000      5881.000"
      ]
     },
     "metadata": {},
     "output_type": "display_data"
    },
    {
     "name": "stdout",
     "output_type": "stream",
     "text": [
      "Model Saved on  roc_auc 0.8539405774863997\n"
     ]
    },
    {
     "data": {
      "application/vnd.jupyter.widget-view+json": {
       "model_id": "419af58ea4c0469f8a951cb21c761295",
       "version_major": 2,
       "version_minor": 0
      },
      "text/plain": [
       "HBox(children=(IntProgress(value=0, max=32), HTML(value='')))"
      ]
     },
     "metadata": {},
     "output_type": "display_data"
    },
    {
     "data": {
      "application/vnd.jupyter.widget-view+json": {
       "model_id": "69e1a9dbd8974d23835194e37079b4b0",
       "version_major": 2,
       "version_minor": 0
      },
      "text/plain": [
       "HBox(children=(IntProgress(value=0, max=184), HTML(value='')))"
      ]
     },
     "metadata": {},
     "output_type": "display_data"
    },
    {
     "name": "stdout",
     "output_type": "stream",
     "text": [
      "{'accuracy': 0.814997449413365, 'roc_auc': 0.8808899428093178, 'pr_auc': 0.6079368247328689}\n"
     ]
    },
    {
     "data": {
      "text/html": [
       "<div>\n",
       "<style scoped>\n",
       "    .dataframe tbody tr th:only-of-type {\n",
       "        vertical-align: middle;\n",
       "    }\n",
       "\n",
       "    .dataframe tbody tr th {\n",
       "        vertical-align: top;\n",
       "    }\n",
       "\n",
       "    .dataframe thead th {\n",
       "        text-align: right;\n",
       "    }\n",
       "</style>\n",
       "<table border=\"1\" class=\"dataframe\">\n",
       "  <thead>\n",
       "    <tr style=\"text-align: right;\">\n",
       "      <th></th>\n",
       "      <th>0</th>\n",
       "      <th>1</th>\n",
       "      <th>micro avg</th>\n",
       "      <th>macro avg</th>\n",
       "      <th>weighted avg</th>\n",
       "    </tr>\n",
       "  </thead>\n",
       "  <tbody>\n",
       "    <tr>\n",
       "      <th>f1-score</th>\n",
       "      <td>0.883</td>\n",
       "      <td>0.551</td>\n",
       "      <td>0.815</td>\n",
       "      <td>0.717</td>\n",
       "      <td>0.835</td>\n",
       "    </tr>\n",
       "    <tr>\n",
       "      <th>precision</th>\n",
       "      <td>0.956</td>\n",
       "      <td>0.426</td>\n",
       "      <td>0.815</td>\n",
       "      <td>0.691</td>\n",
       "      <td>0.879</td>\n",
       "    </tr>\n",
       "    <tr>\n",
       "      <th>recall</th>\n",
       "      <td>0.821</td>\n",
       "      <td>0.780</td>\n",
       "      <td>0.815</td>\n",
       "      <td>0.801</td>\n",
       "      <td>0.815</td>\n",
       "    </tr>\n",
       "    <tr>\n",
       "      <th>support</th>\n",
       "      <td>5025.000</td>\n",
       "      <td>856.000</td>\n",
       "      <td>5881.000</td>\n",
       "      <td>5881.000</td>\n",
       "      <td>5881.000</td>\n",
       "    </tr>\n",
       "  </tbody>\n",
       "</table>\n",
       "</div>"
      ],
      "text/plain": [
       "                  0        1  micro avg  macro avg  weighted avg\n",
       "f1-score      0.883    0.551      0.815      0.717         0.835\n",
       "precision     0.956    0.426      0.815      0.691         0.879\n",
       "recall        0.821    0.780      0.815      0.801         0.815\n",
       "support    5025.000  856.000   5881.000   5881.000      5881.000"
      ]
     },
     "metadata": {},
     "output_type": "display_data"
    },
    {
     "name": "stdout",
     "output_type": "stream",
     "text": [
      "Model Saved on  roc_auc 0.8808899428093178\n"
     ]
    },
    {
     "data": {
      "application/vnd.jupyter.widget-view+json": {
       "model_id": "8be506711d7a496195100a47f36ff6ca",
       "version_major": 2,
       "version_minor": 0
      },
      "text/plain": [
       "HBox(children=(IntProgress(value=0, max=32), HTML(value='')))"
      ]
     },
     "metadata": {},
     "output_type": "display_data"
    },
    {
     "data": {
      "application/vnd.jupyter.widget-view+json": {
       "model_id": "16d43fe15a44486ab87e898c3baf5188",
       "version_major": 2,
       "version_minor": 0
      },
      "text/plain": [
       "HBox(children=(IntProgress(value=0, max=184), HTML(value='')))"
      ]
     },
     "metadata": {},
     "output_type": "display_data"
    },
    {
     "name": "stdout",
     "output_type": "stream",
     "text": [
      "{'accuracy': 0.7122938275803434, 'roc_auc': 0.8992602408518157, 'pr_auc': 0.6562859770401434}\n"
     ]
    },
    {
     "data": {
      "text/html": [
       "<div>\n",
       "<style scoped>\n",
       "    .dataframe tbody tr th:only-of-type {\n",
       "        vertical-align: middle;\n",
       "    }\n",
       "\n",
       "    .dataframe tbody tr th {\n",
       "        vertical-align: top;\n",
       "    }\n",
       "\n",
       "    .dataframe thead th {\n",
       "        text-align: right;\n",
       "    }\n",
       "</style>\n",
       "<table border=\"1\" class=\"dataframe\">\n",
       "  <thead>\n",
       "    <tr style=\"text-align: right;\">\n",
       "      <th></th>\n",
       "      <th>0</th>\n",
       "      <th>1</th>\n",
       "      <th>micro avg</th>\n",
       "      <th>macro avg</th>\n",
       "      <th>weighted avg</th>\n",
       "    </tr>\n",
       "  </thead>\n",
       "  <tbody>\n",
       "    <tr>\n",
       "      <th>f1-score</th>\n",
       "      <td>0.801</td>\n",
       "      <td>0.483</td>\n",
       "      <td>0.712</td>\n",
       "      <td>0.642</td>\n",
       "      <td>0.754</td>\n",
       "    </tr>\n",
       "    <tr>\n",
       "      <th>precision</th>\n",
       "      <td>0.981</td>\n",
       "      <td>0.327</td>\n",
       "      <td>0.712</td>\n",
       "      <td>0.654</td>\n",
       "      <td>0.886</td>\n",
       "    </tr>\n",
       "    <tr>\n",
       "      <th>recall</th>\n",
       "      <td>0.677</td>\n",
       "      <td>0.922</td>\n",
       "      <td>0.712</td>\n",
       "      <td>0.799</td>\n",
       "      <td>0.712</td>\n",
       "    </tr>\n",
       "    <tr>\n",
       "      <th>support</th>\n",
       "      <td>5025.000</td>\n",
       "      <td>856.000</td>\n",
       "      <td>5881.000</td>\n",
       "      <td>5881.000</td>\n",
       "      <td>5881.000</td>\n",
       "    </tr>\n",
       "  </tbody>\n",
       "</table>\n",
       "</div>"
      ],
      "text/plain": [
       "                  0        1  micro avg  macro avg  weighted avg\n",
       "f1-score      0.801    0.483      0.712      0.642         0.754\n",
       "precision     0.981    0.327      0.712      0.654         0.886\n",
       "recall        0.677    0.922      0.712      0.799         0.712\n",
       "support    5025.000  856.000   5881.000   5881.000      5881.000"
      ]
     },
     "metadata": {},
     "output_type": "display_data"
    },
    {
     "name": "stdout",
     "output_type": "stream",
     "text": [
      "Model Saved on  roc_auc 0.8992602408518157\n"
     ]
    },
    {
     "data": {
      "application/vnd.jupyter.widget-view+json": {
       "model_id": "5a1dab8395534a04a35e5f08249cff78",
       "version_major": 2,
       "version_minor": 0
      },
      "text/plain": [
       "HBox(children=(IntProgress(value=0, max=32), HTML(value='')))"
      ]
     },
     "metadata": {},
     "output_type": "display_data"
    },
    {
     "data": {
      "application/vnd.jupyter.widget-view+json": {
       "model_id": "11fdd6bb18b2456192f966e91fb5cb95",
       "version_major": 2,
       "version_minor": 0
      },
      "text/plain": [
       "HBox(children=(IntProgress(value=0, max=184), HTML(value='')))"
      ]
     },
     "metadata": {},
     "output_type": "display_data"
    },
    {
     "name": "stdout",
     "output_type": "stream",
     "text": [
      "{'accuracy': 0.8399931984356402, 'roc_auc': 0.8974408332170921, 'pr_auc': 0.698410139648109}\n"
     ]
    },
    {
     "data": {
      "text/html": [
       "<div>\n",
       "<style scoped>\n",
       "    .dataframe tbody tr th:only-of-type {\n",
       "        vertical-align: middle;\n",
       "    }\n",
       "\n",
       "    .dataframe tbody tr th {\n",
       "        vertical-align: top;\n",
       "    }\n",
       "\n",
       "    .dataframe thead th {\n",
       "        text-align: right;\n",
       "    }\n",
       "</style>\n",
       "<table border=\"1\" class=\"dataframe\">\n",
       "  <thead>\n",
       "    <tr style=\"text-align: right;\">\n",
       "      <th></th>\n",
       "      <th>0</th>\n",
       "      <th>1</th>\n",
       "      <th>micro avg</th>\n",
       "      <th>macro avg</th>\n",
       "      <th>weighted avg</th>\n",
       "    </tr>\n",
       "  </thead>\n",
       "  <tbody>\n",
       "    <tr>\n",
       "      <th>f1-score</th>\n",
       "      <td>0.901</td>\n",
       "      <td>0.586</td>\n",
       "      <td>0.84</td>\n",
       "      <td>0.743</td>\n",
       "      <td>0.855</td>\n",
       "    </tr>\n",
       "    <tr>\n",
       "      <th>precision</th>\n",
       "      <td>0.957</td>\n",
       "      <td>0.470</td>\n",
       "      <td>0.84</td>\n",
       "      <td>0.714</td>\n",
       "      <td>0.886</td>\n",
       "    </tr>\n",
       "    <tr>\n",
       "      <th>recall</th>\n",
       "      <td>0.851</td>\n",
       "      <td>0.778</td>\n",
       "      <td>0.84</td>\n",
       "      <td>0.814</td>\n",
       "      <td>0.840</td>\n",
       "    </tr>\n",
       "    <tr>\n",
       "      <th>support</th>\n",
       "      <td>5025.000</td>\n",
       "      <td>856.000</td>\n",
       "      <td>5881.00</td>\n",
       "      <td>5881.000</td>\n",
       "      <td>5881.000</td>\n",
       "    </tr>\n",
       "  </tbody>\n",
       "</table>\n",
       "</div>"
      ],
      "text/plain": [
       "                  0        1  micro avg  macro avg  weighted avg\n",
       "f1-score      0.901    0.586       0.84      0.743         0.855\n",
       "precision     0.957    0.470       0.84      0.714         0.886\n",
       "recall        0.851    0.778       0.84      0.814         0.840\n",
       "support    5025.000  856.000    5881.00   5881.000      5881.000"
      ]
     },
     "metadata": {},
     "output_type": "display_data"
    },
    {
     "name": "stdout",
     "output_type": "stream",
     "text": [
      "Model not saved on  roc_auc 0.8974408332170921\n"
     ]
    },
    {
     "data": {
      "application/vnd.jupyter.widget-view+json": {
       "model_id": "951def1c31464a489edec4e323017f72",
       "version_major": 2,
       "version_minor": 0
      },
      "text/plain": [
       "HBox(children=(IntProgress(value=0, max=32), HTML(value='')))"
      ]
     },
     "metadata": {},
     "output_type": "display_data"
    },
    {
     "data": {
      "application/vnd.jupyter.widget-view+json": {
       "model_id": "4f83471e4af04aeaba21e730225df897",
       "version_major": 2,
       "version_minor": 0
      },
      "text/plain": [
       "HBox(children=(IntProgress(value=0, max=184), HTML(value='')))"
      ]
     },
     "metadata": {},
     "output_type": "display_data"
    },
    {
     "name": "stdout",
     "output_type": "stream",
     "text": [
      "{'accuracy': 0.9039279034177861, 'roc_auc': 0.9008243827591017, 'pr_auc': 0.7056655040122626}\n"
     ]
    },
    {
     "data": {
      "text/html": [
       "<div>\n",
       "<style scoped>\n",
       "    .dataframe tbody tr th:only-of-type {\n",
       "        vertical-align: middle;\n",
       "    }\n",
       "\n",
       "    .dataframe tbody tr th {\n",
       "        vertical-align: top;\n",
       "    }\n",
       "\n",
       "    .dataframe thead th {\n",
       "        text-align: right;\n",
       "    }\n",
       "</style>\n",
       "<table border=\"1\" class=\"dataframe\">\n",
       "  <thead>\n",
       "    <tr style=\"text-align: right;\">\n",
       "      <th></th>\n",
       "      <th>0</th>\n",
       "      <th>1</th>\n",
       "      <th>micro avg</th>\n",
       "      <th>macro avg</th>\n",
       "      <th>weighted avg</th>\n",
       "    </tr>\n",
       "  </thead>\n",
       "  <tbody>\n",
       "    <tr>\n",
       "      <th>f1-score</th>\n",
       "      <td>0.945</td>\n",
       "      <td>0.606</td>\n",
       "      <td>0.904</td>\n",
       "      <td>0.776</td>\n",
       "      <td>0.896</td>\n",
       "    </tr>\n",
       "    <tr>\n",
       "      <th>precision</th>\n",
       "      <td>0.921</td>\n",
       "      <td>0.751</td>\n",
       "      <td>0.904</td>\n",
       "      <td>0.836</td>\n",
       "      <td>0.896</td>\n",
       "    </tr>\n",
       "    <tr>\n",
       "      <th>recall</th>\n",
       "      <td>0.971</td>\n",
       "      <td>0.508</td>\n",
       "      <td>0.904</td>\n",
       "      <td>0.740</td>\n",
       "      <td>0.904</td>\n",
       "    </tr>\n",
       "    <tr>\n",
       "      <th>support</th>\n",
       "      <td>5025.000</td>\n",
       "      <td>856.000</td>\n",
       "      <td>5881.000</td>\n",
       "      <td>5881.000</td>\n",
       "      <td>5881.000</td>\n",
       "    </tr>\n",
       "  </tbody>\n",
       "</table>\n",
       "</div>"
      ],
      "text/plain": [
       "                  0        1  micro avg  macro avg  weighted avg\n",
       "f1-score      0.945    0.606      0.904      0.776         0.896\n",
       "precision     0.921    0.751      0.904      0.836         0.896\n",
       "recall        0.971    0.508      0.904      0.740         0.904\n",
       "support    5025.000  856.000   5881.000   5881.000      5881.000"
      ]
     },
     "metadata": {},
     "output_type": "display_data"
    },
    {
     "name": "stdout",
     "output_type": "stream",
     "text": [
      "Model Saved on  roc_auc 0.9008243827591017\n"
     ]
    },
    {
     "data": {
      "application/vnd.jupyter.widget-view+json": {
       "model_id": "2c6cf5ef6c5d4d5a9716c5728c0d49c1",
       "version_major": 2,
       "version_minor": 0
      },
      "text/plain": [
       "HBox(children=(IntProgress(value=0, max=32), HTML(value='')))"
      ]
     },
     "metadata": {},
     "output_type": "display_data"
    },
    {
     "data": {
      "application/vnd.jupyter.widget-view+json": {
       "model_id": "392071479cb64342bacf1e44694fe894",
       "version_major": 2,
       "version_minor": 0
      },
      "text/plain": [
       "HBox(children=(IntProgress(value=0, max=184), HTML(value='')))"
      ]
     },
     "metadata": {},
     "output_type": "display_data"
    },
    {
     "name": "stdout",
     "output_type": "stream",
     "text": [
      "{'accuracy': 0.8860737969733039, 'roc_auc': 0.8996354675222021, 'pr_auc': 0.7126693052646571}\n"
     ]
    },
    {
     "data": {
      "text/html": [
       "<div>\n",
       "<style scoped>\n",
       "    .dataframe tbody tr th:only-of-type {\n",
       "        vertical-align: middle;\n",
       "    }\n",
       "\n",
       "    .dataframe tbody tr th {\n",
       "        vertical-align: top;\n",
       "    }\n",
       "\n",
       "    .dataframe thead th {\n",
       "        text-align: right;\n",
       "    }\n",
       "</style>\n",
       "<table border=\"1\" class=\"dataframe\">\n",
       "  <thead>\n",
       "    <tr style=\"text-align: right;\">\n",
       "      <th></th>\n",
       "      <th>0</th>\n",
       "      <th>1</th>\n",
       "      <th>micro avg</th>\n",
       "      <th>macro avg</th>\n",
       "      <th>weighted avg</th>\n",
       "    </tr>\n",
       "  </thead>\n",
       "  <tbody>\n",
       "    <tr>\n",
       "      <th>f1-score</th>\n",
       "      <td>0.933</td>\n",
       "      <td>0.620</td>\n",
       "      <td>0.886</td>\n",
       "      <td>0.776</td>\n",
       "      <td>0.887</td>\n",
       "    </tr>\n",
       "    <tr>\n",
       "      <th>precision</th>\n",
       "      <td>0.938</td>\n",
       "      <td>0.603</td>\n",
       "      <td>0.886</td>\n",
       "      <td>0.770</td>\n",
       "      <td>0.889</td>\n",
       "    </tr>\n",
       "    <tr>\n",
       "      <th>recall</th>\n",
       "      <td>0.928</td>\n",
       "      <td>0.638</td>\n",
       "      <td>0.886</td>\n",
       "      <td>0.783</td>\n",
       "      <td>0.886</td>\n",
       "    </tr>\n",
       "    <tr>\n",
       "      <th>support</th>\n",
       "      <td>5025.000</td>\n",
       "      <td>856.000</td>\n",
       "      <td>5881.000</td>\n",
       "      <td>5881.000</td>\n",
       "      <td>5881.000</td>\n",
       "    </tr>\n",
       "  </tbody>\n",
       "</table>\n",
       "</div>"
      ],
      "text/plain": [
       "                  0        1  micro avg  macro avg  weighted avg\n",
       "f1-score      0.933    0.620      0.886      0.776         0.887\n",
       "precision     0.938    0.603      0.886      0.770         0.889\n",
       "recall        0.928    0.638      0.886      0.783         0.886\n",
       "support    5025.000  856.000   5881.000   5881.000      5881.000"
      ]
     },
     "metadata": {},
     "output_type": "display_data"
    },
    {
     "name": "stderr",
     "output_type": "stream",
     "text": [
      "INFO - 2019-03-23 15:42:19,383 - instantiating class <class 'PatientVec.models.Model.Model'> from params {'type': 'seq_classifier_with_attention', 'embedder': {'type': 'token_embedder', 'vocab_size': 29286, 'embed_size': 200, 'embedding_file': './preprocess/Mortality/embedding_matrix.npy'}, 'decoder': {'num_layers': 2, 'hidden_dims': [128, 1], 'activations': ['tanh', 'linear']}, 'predictor': {'type': 'binary'}, 'structured': {'use_structured': True, 'structured_dim': 50}, 'encoder': {'type': 'lstm', 'hidden_size': 128}, 'attention': {'similarity': {'type': 'additive', 'hidden_size': 128}}} and extras {}\n",
      "INFO - 2019-03-23 15:42:19,384 - type = seq_classifier_with_attention\n",
      "INFO - 2019-03-23 15:42:19,384 - instantiating class <class 'PatientVec.models.modules.Embedder.Embedder'> from params {'type': 'token_embedder', 'vocab_size': 29286, 'embed_size': 200, 'embedding_file': './preprocess/Mortality/embedding_matrix.npy'} and extras {}\n",
      "INFO - 2019-03-23 15:42:19,384 - embedder.type = token_embedder\n",
      "INFO - 2019-03-23 15:42:19,385 - instantiating class <class 'PatientVec.models.modules.Embedder.TokenEmbedder'> from params {'vocab_size': 29286, 'embed_size': 200, 'embedding_file': './preprocess/Mortality/embedding_matrix.npy'} and extras {}\n",
      "INFO - 2019-03-23 15:42:19,385 - embedder.vocab_size = 29286\n",
      "INFO - 2019-03-23 15:42:19,385 - embedder.embed_size = 200\n",
      "INFO - 2019-03-23 15:42:19,386 - embedder.embedding_file = ./preprocess/Mortality/embedding_matrix.npy\n",
      "INFO - 2019-03-23 15:42:19,403 - instantiating class <class 'PatientVec.models.modules.Encoder.Encoder'> from params {'type': 'lstm', 'hidden_size': 128} and extras {'input_size': 200}\n",
      "INFO - 2019-03-23 15:42:19,403 - encoder.type = lstm\n",
      "INFO - 2019-03-23 15:42:19,403 - instantiating class <class 'PatientVec.models.modules.Encoder.wrap_pytorch_rnn.<locals>.BiRNNEncoder'> from params {'hidden_size': 128} and extras {'input_size': 200}\n",
      "INFO - 2019-03-23 15:42:19,404 - encoder.hidden_size = 128\n",
      "INFO - 2019-03-23 15:42:19,406 - instantiating class <class 'PatientVec.models.modules.SelfAttention.SelfAttention'> from params {'similarity': {'type': 'additive', 'hidden_size': 128, 'tensor_1_dim': 256}} and extras {}\n",
      "INFO - 2019-03-23 15:42:19,406 - instantiating class <class 'PatientVec.models.modules.UniSimilarity.UniSimilarity'> from params {'type': 'additive', 'hidden_size': 128, 'tensor_1_dim': 256} and extras {}\n",
      "INFO - 2019-03-23 15:42:19,407 - attention.similarity.type = additive\n",
      "INFO - 2019-03-23 15:42:19,407 - instantiating class <class 'PatientVec.models.modules.UniSimilarity.UniAdditiveSimilarity'> from params {'hidden_size': 128, 'tensor_1_dim': 256} and extras {}\n",
      "INFO - 2019-03-23 15:42:19,407 - attention.similarity.tensor_1_dim = 256\n",
      "INFO - 2019-03-23 15:42:19,408 - attention.similarity.hidden_size = 128\n",
      "INFO - 2019-03-23 15:42:19,408 - attention.similarity.output_size = 1\n",
      "INFO - 2019-03-23 15:42:19,409 - attention.normaliser = softmax\n",
      "INFO - 2019-03-23 15:42:19,409 - decoder.input_dim = 306\n",
      "INFO - 2019-03-23 15:42:19,410 - decoder.num_layers = 2\n",
      "INFO - 2019-03-23 15:42:19,410 - decoder.hidden_dims = [128, 1]\n",
      "INFO - 2019-03-23 15:42:19,410 - decoder.activations = ['tanh', 'linear']\n",
      "INFO - 2019-03-23 15:42:19,410 - decoder.dropout = 0.0\n",
      "INFO - 2019-03-23 15:42:19,411 - instantiating class <class 'PatientVec.models.modules.Predictor.Predictor'> from params {'type': 'binary'} and extras {}\n",
      "INFO - 2019-03-23 15:42:19,412 - predictor.type = binary\n",
      "INFO - 2019-03-23 15:42:19,412 - instantiating class <class 'PatientVec.models.modules.Predictor.Binary_Predictor'> from params {} and extras {}\n",
      "INFO - 2019-03-23 15:42:19,412 - predictor.replicate = False\n",
      "INFO - 2019-03-23 15:42:19,413 - predictor.alpha = 0.5\n"
     ]
    },
    {
     "name": "stdout",
     "output_type": "stream",
     "text": [
      "Model not saved on  roc_auc 0.8996354675222021\n",
      "\n",
      "Setting Embedding\n"
     ]
    },
    {
     "data": {
      "application/vnd.jupyter.widget-view+json": {
       "model_id": "25ce666a551b449a878cad73608589b6",
       "version_major": 2,
       "version_minor": 0
      },
      "text/plain": [
       "HBox(children=(IntProgress(value=0, max=184), HTML(value='')))"
      ]
     },
     "metadata": {},
     "output_type": "display_data"
    },
    {
     "name": "stdout",
     "output_type": "stream",
     "text": [
      "\n",
      "{'accuracy': 0.9039279034177861, 'roc_auc': 0.9008243827591017, 'pr_auc': 0.7056655040122626}\n"
     ]
    },
    {
     "data": {
      "text/html": [
       "<div>\n",
       "<style scoped>\n",
       "    .dataframe tbody tr th:only-of-type {\n",
       "        vertical-align: middle;\n",
       "    }\n",
       "\n",
       "    .dataframe tbody tr th {\n",
       "        vertical-align: top;\n",
       "    }\n",
       "\n",
       "    .dataframe thead th {\n",
       "        text-align: right;\n",
       "    }\n",
       "</style>\n",
       "<table border=\"1\" class=\"dataframe\">\n",
       "  <thead>\n",
       "    <tr style=\"text-align: right;\">\n",
       "      <th></th>\n",
       "      <th>0</th>\n",
       "      <th>1</th>\n",
       "      <th>micro avg</th>\n",
       "      <th>macro avg</th>\n",
       "      <th>weighted avg</th>\n",
       "    </tr>\n",
       "  </thead>\n",
       "  <tbody>\n",
       "    <tr>\n",
       "      <th>f1-score</th>\n",
       "      <td>0.945</td>\n",
       "      <td>0.606</td>\n",
       "      <td>0.904</td>\n",
       "      <td>0.776</td>\n",
       "      <td>0.896</td>\n",
       "    </tr>\n",
       "    <tr>\n",
       "      <th>precision</th>\n",
       "      <td>0.921</td>\n",
       "      <td>0.751</td>\n",
       "      <td>0.904</td>\n",
       "      <td>0.836</td>\n",
       "      <td>0.896</td>\n",
       "    </tr>\n",
       "    <tr>\n",
       "      <th>recall</th>\n",
       "      <td>0.971</td>\n",
       "      <td>0.508</td>\n",
       "      <td>0.904</td>\n",
       "      <td>0.740</td>\n",
       "      <td>0.904</td>\n",
       "    </tr>\n",
       "    <tr>\n",
       "      <th>support</th>\n",
       "      <td>5025.000</td>\n",
       "      <td>856.000</td>\n",
       "      <td>5881.000</td>\n",
       "      <td>5881.000</td>\n",
       "      <td>5881.000</td>\n",
       "    </tr>\n",
       "  </tbody>\n",
       "</table>\n",
       "</div>"
      ],
      "text/plain": [
       "                  0        1  micro avg  macro avg  weighted avg\n",
       "f1-score      0.945    0.606      0.904      0.776         0.896\n",
       "precision     0.921    0.751      0.904      0.836         0.896\n",
       "recall        0.971    0.508      0.904      0.740         0.904\n",
       "support    5025.000  856.000   5881.000   5881.000      5881.000"
      ]
     },
     "metadata": {},
     "output_type": "display_data"
    },
    {
     "name": "stderr",
     "output_type": "stream",
     "text": [
      "INFO - 2019-03-23 15:43:45,917 - Reading Structured data ...\n"
     ]
    },
    {
     "name": "stdout",
     "output_type": "stream",
     "text": [
      "============================================================================================================================================================================================================================================================================================================\n"
     ]
    },
    {
     "name": "stderr",
     "output_type": "stream",
     "text": [
      "INFO - 2019-03-23 15:43:45,988 - Reading Notes ...\n",
      "INFO - 2019-03-23 15:43:56,167 - Stratifying ...\n"
     ]
    },
    {
     "name": "stdout",
     "output_type": "stream",
     "text": [
      "Pos Percentage [0.15129873]\n"
     ]
    },
    {
     "name": "stderr",
     "output_type": "stream",
     "text": [
      "INFO - 2019-03-23 15:44:00,190 - Maximum Sentence Length 721825.000000 , 90 percentile length 18596.000000 ... \n",
      "INFO - 2019-03-23 15:44:13,231 - Truncated all ...\n",
      "INFO - 2019-03-23 15:44:13,274 - Idxs removed []...\n"
     ]
    },
    {
     "name": "stdout",
     "output_type": "stream",
     "text": [
      "Pos Percentage [0.14555348]\n"
     ]
    },
    {
     "name": "stderr",
     "output_type": "stream",
     "text": [
      "INFO - 2019-03-23 15:44:14,300 - Maximum Sentence Length 420764.000000 , 90 percentile length 17662.000000 ... \n",
      "INFO - 2019-03-23 15:44:16,104 - Truncated all ...\n",
      "INFO - 2019-03-23 15:44:16,115 - Idxs removed []...\n",
      "INFO - 2019-03-23 15:44:16,359 - instantiating class <class 'PatientVec.models.Model.Model'> from params {'type': 'seq_classifier', 'embedder': {'type': 'token_embedder', 'vocab_size': 29286, 'embed_size': 200, 'embedding_file': './preprocess/Mortality/embedding_matrix.npy'}, 'decoder': {'num_layers': 2, 'hidden_dims': [128, 1], 'activations': ['tanh', 'linear']}, 'predictor': {'type': 'binary'}, 'structured': {'use_structured': True, 'structured_dim': 50}, 'encoder': {'type': 'average', 'projection': True, 'hidden_size': 256, 'activation': 'relu'}} and extras {}\n",
      "INFO - 2019-03-23 15:44:16,360 - type = seq_classifier\n",
      "INFO - 2019-03-23 15:44:16,361 - instantiating class <class 'PatientVec.models.modules.Embedder.Embedder'> from params {'type': 'token_embedder', 'vocab_size': 29286, 'embed_size': 200, 'embedding_file': './preprocess/Mortality/embedding_matrix.npy'} and extras {}\n",
      "INFO - 2019-03-23 15:44:16,361 - embedder.type = token_embedder\n",
      "INFO - 2019-03-23 15:44:16,361 - instantiating class <class 'PatientVec.models.modules.Embedder.TokenEmbedder'> from params {'vocab_size': 29286, 'embed_size': 200, 'embedding_file': './preprocess/Mortality/embedding_matrix.npy'} and extras {}\n",
      "INFO - 2019-03-23 15:44:16,362 - embedder.vocab_size = 29286\n",
      "INFO - 2019-03-23 15:44:16,362 - embedder.embed_size = 200\n",
      "INFO - 2019-03-23 15:44:16,362 - embedder.embedding_file = ./preprocess/Mortality/embedding_matrix.npy\n",
      "INFO - 2019-03-23 15:44:16,380 - instantiating class <class 'PatientVec.models.modules.Encoder.Encoder'> from params {'type': 'average', 'projection': True, 'hidden_size': 256, 'activation': 'relu'} and extras {'input_size': 200}\n",
      "INFO - 2019-03-23 15:44:16,380 - encoder.type = average\n",
      "INFO - 2019-03-23 15:44:16,380 - instantiating class <class 'PatientVec.models.modules.Encoder.AverageEncoder'> from params {'projection': True, 'hidden_size': 256, 'activation': 'relu'} and extras {'input_size': 200}\n",
      "INFO - 2019-03-23 15:44:16,381 - encoder.projection = True\n",
      "INFO - 2019-03-23 15:44:16,381 - encoder.hidden_size = 256\n",
      "INFO - 2019-03-23 15:44:16,381 - encoder.activation = relu\n",
      "INFO - 2019-03-23 15:44:16,382 - decoder.input_dim = 306\n",
      "INFO - 2019-03-23 15:44:16,383 - decoder.num_layers = 2\n",
      "INFO - 2019-03-23 15:44:16,383 - decoder.hidden_dims = [128, 1]\n",
      "INFO - 2019-03-23 15:44:16,383 - decoder.activations = ['tanh', 'linear']\n",
      "INFO - 2019-03-23 15:44:16,384 - decoder.dropout = 0.0\n",
      "INFO - 2019-03-23 15:44:16,384 - instantiating class <class 'PatientVec.models.modules.Predictor.Predictor'> from params {'type': 'binary'} and extras {}\n",
      "INFO - 2019-03-23 15:44:16,385 - predictor.type = binary\n",
      "INFO - 2019-03-23 15:44:16,385 - instantiating class <class 'PatientVec.models.modules.Predictor.Binary_Predictor'> from params {} and extras {}\n",
      "INFO - 2019-03-23 15:44:16,385 - predictor.replicate = False\n",
      "INFO - 2019-03-23 15:44:16,385 - predictor.alpha = 0.5\n"
     ]
    },
    {
     "name": "stdout",
     "output_type": "stream",
     "text": [
      "{'model': {'type': 'seq_classifier', 'embedder': {'type': 'token_embedder', 'vocab_size': 29286, 'embed_size': 200, 'embedding_file': './preprocess/Mortality/embedding_matrix.npy'}, 'decoder': {'num_layers': 2, 'hidden_dims': [128, 1], 'activations': ['tanh', 'linear']}, 'predictor': {'type': 'binary'}, 'structured': {'use_structured': True, 'structured_dim': 50}, 'encoder': {'type': 'average', 'projection': True, 'hidden_size': 256, 'activation': 'relu'}}, 'training_config': {'type': 'Adam', 'groups': [('.*', {'lr': 0.001, 'weight_decay': 1e-05})], 'common': {'bsize': 32, 'class_weight': True}}, 'exp_config': {'exp_name': 'Mortality_30day/Basic/Average(hs=256)+Structured', 'basepath': 'outputs/ts_experiments/n=3000'}}\n",
      "Setting Embedding\n"
     ]
    },
    {
     "data": {
      "application/vnd.jupyter.widget-view+json": {
       "model_id": "e6bac22222da42da81e5ac61e950f628",
       "version_major": 2,
       "version_minor": 0
      },
      "text/plain": [
       "HBox(children=(IntProgress(value=0, max=8), HTML(value='')))"
      ]
     },
     "metadata": {},
     "output_type": "display_data"
    },
    {
     "data": {
      "application/vnd.jupyter.widget-view+json": {
       "model_id": "b2c0cfc04c8843cba570b519ec8bdc2f",
       "version_major": 2,
       "version_minor": 0
      },
      "text/plain": [
       "HBox(children=(IntProgress(value=0, max=94), HTML(value='')))"
      ]
     },
     "metadata": {},
     "output_type": "display_data"
    },
    {
     "data": {
      "application/vnd.jupyter.widget-view+json": {
       "model_id": "71b9d83044444d36b494aff142f12b42",
       "version_major": 2,
       "version_minor": 0
      },
      "text/plain": [
       "HBox(children=(IntProgress(value=0, max=184), HTML(value='')))"
      ]
     },
     "metadata": {},
     "output_type": "display_data"
    },
    {
     "name": "stdout",
     "output_type": "stream",
     "text": [
      "{'accuracy': 0.627274273082809, 'roc_auc': 0.767059445761845, 'pr_auc': 0.3410743707850805}\n"
     ]
    },
    {
     "data": {
      "text/html": [
       "<div>\n",
       "<style scoped>\n",
       "    .dataframe tbody tr th:only-of-type {\n",
       "        vertical-align: middle;\n",
       "    }\n",
       "\n",
       "    .dataframe tbody tr th {\n",
       "        vertical-align: top;\n",
       "    }\n",
       "\n",
       "    .dataframe thead th {\n",
       "        text-align: right;\n",
       "    }\n",
       "</style>\n",
       "<table border=\"1\" class=\"dataframe\">\n",
       "  <thead>\n",
       "    <tr style=\"text-align: right;\">\n",
       "      <th></th>\n",
       "      <th>0</th>\n",
       "      <th>1</th>\n",
       "      <th>micro avg</th>\n",
       "      <th>macro avg</th>\n",
       "      <th>weighted avg</th>\n",
       "    </tr>\n",
       "  </thead>\n",
       "  <tbody>\n",
       "    <tr>\n",
       "      <th>f1-score</th>\n",
       "      <td>0.733</td>\n",
       "      <td>0.384</td>\n",
       "      <td>0.627</td>\n",
       "      <td>0.558</td>\n",
       "      <td>0.682</td>\n",
       "    </tr>\n",
       "    <tr>\n",
       "      <th>precision</th>\n",
       "      <td>0.946</td>\n",
       "      <td>0.253</td>\n",
       "      <td>0.627</td>\n",
       "      <td>0.599</td>\n",
       "      <td>0.845</td>\n",
       "    </tr>\n",
       "    <tr>\n",
       "      <th>recall</th>\n",
       "      <td>0.598</td>\n",
       "      <td>0.798</td>\n",
       "      <td>0.627</td>\n",
       "      <td>0.698</td>\n",
       "      <td>0.627</td>\n",
       "    </tr>\n",
       "    <tr>\n",
       "      <th>support</th>\n",
       "      <td>5025.000</td>\n",
       "      <td>856.000</td>\n",
       "      <td>5881.000</td>\n",
       "      <td>5881.000</td>\n",
       "      <td>5881.000</td>\n",
       "    </tr>\n",
       "  </tbody>\n",
       "</table>\n",
       "</div>"
      ],
      "text/plain": [
       "                  0        1  micro avg  macro avg  weighted avg\n",
       "f1-score      0.733    0.384      0.627      0.558         0.682\n",
       "precision     0.946    0.253      0.627      0.599         0.845\n",
       "recall        0.598    0.798      0.627      0.698         0.627\n",
       "support    5025.000  856.000   5881.000   5881.000      5881.000"
      ]
     },
     "metadata": {},
     "output_type": "display_data"
    },
    {
     "name": "stdout",
     "output_type": "stream",
     "text": [
      "Model Saved on  roc_auc 0.767059445761845\n"
     ]
    },
    {
     "data": {
      "application/vnd.jupyter.widget-view+json": {
       "model_id": "4cde2144a2e3419aa9a4e6e65be21f84",
       "version_major": 2,
       "version_minor": 0
      },
      "text/plain": [
       "HBox(children=(IntProgress(value=0, max=94), HTML(value='')))"
      ]
     },
     "metadata": {},
     "output_type": "display_data"
    },
    {
     "data": {
      "application/vnd.jupyter.widget-view+json": {
       "model_id": "cded073d19e24264b74e6621cea59b6a",
       "version_major": 2,
       "version_minor": 0
      },
      "text/plain": [
       "HBox(children=(IntProgress(value=0, max=184), HTML(value='')))"
      ]
     },
     "metadata": {},
     "output_type": "display_data"
    },
    {
     "name": "stdout",
     "output_type": "stream",
     "text": [
      "{'accuracy': 0.5402142492773337, 'roc_auc': 0.8180964337192542, 'pr_auc': 0.43375231277747944}\n"
     ]
    },
    {
     "data": {
      "text/html": [
       "<div>\n",
       "<style scoped>\n",
       "    .dataframe tbody tr th:only-of-type {\n",
       "        vertical-align: middle;\n",
       "    }\n",
       "\n",
       "    .dataframe tbody tr th {\n",
       "        vertical-align: top;\n",
       "    }\n",
       "\n",
       "    .dataframe thead th {\n",
       "        text-align: right;\n",
       "    }\n",
       "</style>\n",
       "<table border=\"1\" class=\"dataframe\">\n",
       "  <thead>\n",
       "    <tr style=\"text-align: right;\">\n",
       "      <th></th>\n",
       "      <th>0</th>\n",
       "      <th>1</th>\n",
       "      <th>micro avg</th>\n",
       "      <th>macro avg</th>\n",
       "      <th>weighted avg</th>\n",
       "    </tr>\n",
       "  </thead>\n",
       "  <tbody>\n",
       "    <tr>\n",
       "      <th>f1-score</th>\n",
       "      <td>0.638</td>\n",
       "      <td>0.371</td>\n",
       "      <td>0.54</td>\n",
       "      <td>0.504</td>\n",
       "      <td>0.599</td>\n",
       "    </tr>\n",
       "    <tr>\n",
       "      <th>precision</th>\n",
       "      <td>0.977</td>\n",
       "      <td>0.232</td>\n",
       "      <td>0.54</td>\n",
       "      <td>0.604</td>\n",
       "      <td>0.868</td>\n",
       "    </tr>\n",
       "    <tr>\n",
       "      <th>recall</th>\n",
       "      <td>0.473</td>\n",
       "      <td>0.933</td>\n",
       "      <td>0.54</td>\n",
       "      <td>0.703</td>\n",
       "      <td>0.540</td>\n",
       "    </tr>\n",
       "    <tr>\n",
       "      <th>support</th>\n",
       "      <td>5025.000</td>\n",
       "      <td>856.000</td>\n",
       "      <td>5881.00</td>\n",
       "      <td>5881.000</td>\n",
       "      <td>5881.000</td>\n",
       "    </tr>\n",
       "  </tbody>\n",
       "</table>\n",
       "</div>"
      ],
      "text/plain": [
       "                  0        1  micro avg  macro avg  weighted avg\n",
       "f1-score      0.638    0.371       0.54      0.504         0.599\n",
       "precision     0.977    0.232       0.54      0.604         0.868\n",
       "recall        0.473    0.933       0.54      0.703         0.540\n",
       "support    5025.000  856.000    5881.00   5881.000      5881.000"
      ]
     },
     "metadata": {},
     "output_type": "display_data"
    },
    {
     "name": "stdout",
     "output_type": "stream",
     "text": [
      "Model Saved on  roc_auc 0.8180964337192542\n"
     ]
    },
    {
     "data": {
      "application/vnd.jupyter.widget-view+json": {
       "model_id": "6b5da17286014a7d89773b2eb4da1ddd",
       "version_major": 2,
       "version_minor": 0
      },
      "text/plain": [
       "HBox(children=(IntProgress(value=0, max=94), HTML(value='')))"
      ]
     },
     "metadata": {},
     "output_type": "display_data"
    },
    {
     "data": {
      "application/vnd.jupyter.widget-view+json": {
       "model_id": "53f824dcfb374143805f14f10e8ea29c",
       "version_major": 2,
       "version_minor": 0
      },
      "text/plain": [
       "HBox(children=(IntProgress(value=0, max=184), HTML(value='')))"
      ]
     },
     "metadata": {},
     "output_type": "display_data"
    },
    {
     "name": "stdout",
     "output_type": "stream",
     "text": [
      "{'accuracy': 0.535623193334467, 'roc_auc': 0.8200053470962942, 'pr_auc': 0.455520346448908}\n"
     ]
    },
    {
     "data": {
      "text/html": [
       "<div>\n",
       "<style scoped>\n",
       "    .dataframe tbody tr th:only-of-type {\n",
       "        vertical-align: middle;\n",
       "    }\n",
       "\n",
       "    .dataframe tbody tr th {\n",
       "        vertical-align: top;\n",
       "    }\n",
       "\n",
       "    .dataframe thead th {\n",
       "        text-align: right;\n",
       "    }\n",
       "</style>\n",
       "<table border=\"1\" class=\"dataframe\">\n",
       "  <thead>\n",
       "    <tr style=\"text-align: right;\">\n",
       "      <th></th>\n",
       "      <th>0</th>\n",
       "      <th>1</th>\n",
       "      <th>micro avg</th>\n",
       "      <th>macro avg</th>\n",
       "      <th>weighted avg</th>\n",
       "    </tr>\n",
       "  </thead>\n",
       "  <tbody>\n",
       "    <tr>\n",
       "      <th>f1-score</th>\n",
       "      <td>0.633</td>\n",
       "      <td>0.368</td>\n",
       "      <td>0.536</td>\n",
       "      <td>0.500</td>\n",
       "      <td>0.594</td>\n",
       "    </tr>\n",
       "    <tr>\n",
       "      <th>precision</th>\n",
       "      <td>0.975</td>\n",
       "      <td>0.229</td>\n",
       "      <td>0.536</td>\n",
       "      <td>0.602</td>\n",
       "      <td>0.866</td>\n",
       "    </tr>\n",
       "    <tr>\n",
       "      <th>recall</th>\n",
       "      <td>0.469</td>\n",
       "      <td>0.929</td>\n",
       "      <td>0.536</td>\n",
       "      <td>0.699</td>\n",
       "      <td>0.536</td>\n",
       "    </tr>\n",
       "    <tr>\n",
       "      <th>support</th>\n",
       "      <td>5025.000</td>\n",
       "      <td>856.000</td>\n",
       "      <td>5881.000</td>\n",
       "      <td>5881.000</td>\n",
       "      <td>5881.000</td>\n",
       "    </tr>\n",
       "  </tbody>\n",
       "</table>\n",
       "</div>"
      ],
      "text/plain": [
       "                  0        1  micro avg  macro avg  weighted avg\n",
       "f1-score      0.633    0.368      0.536      0.500         0.594\n",
       "precision     0.975    0.229      0.536      0.602         0.866\n",
       "recall        0.469    0.929      0.536      0.699         0.536\n",
       "support    5025.000  856.000   5881.000   5881.000      5881.000"
      ]
     },
     "metadata": {},
     "output_type": "display_data"
    },
    {
     "name": "stdout",
     "output_type": "stream",
     "text": [
      "Model Saved on  roc_auc 0.8200053470962942\n"
     ]
    },
    {
     "data": {
      "application/vnd.jupyter.widget-view+json": {
       "model_id": "d3455d12103e4e12abb32614c0a44bd0",
       "version_major": 2,
       "version_minor": 0
      },
      "text/plain": [
       "HBox(children=(IntProgress(value=0, max=94), HTML(value='')))"
      ]
     },
     "metadata": {},
     "output_type": "display_data"
    },
    {
     "data": {
      "application/vnd.jupyter.widget-view+json": {
       "model_id": "c2de678692644f54afcc5e5f37d984ec",
       "version_major": 2,
       "version_minor": 0
      },
      "text/plain": [
       "HBox(children=(IntProgress(value=0, max=184), HTML(value='')))"
      ]
     },
     "metadata": {},
     "output_type": "display_data"
    },
    {
     "name": "stdout",
     "output_type": "stream",
     "text": [
      "{'accuracy': 0.5346029586804966, 'roc_auc': 0.8407358069465756, 'pr_auc': 0.5017077414888607}\n"
     ]
    },
    {
     "data": {
      "text/html": [
       "<div>\n",
       "<style scoped>\n",
       "    .dataframe tbody tr th:only-of-type {\n",
       "        vertical-align: middle;\n",
       "    }\n",
       "\n",
       "    .dataframe tbody tr th {\n",
       "        vertical-align: top;\n",
       "    }\n",
       "\n",
       "    .dataframe thead th {\n",
       "        text-align: right;\n",
       "    }\n",
       "</style>\n",
       "<table border=\"1\" class=\"dataframe\">\n",
       "  <thead>\n",
       "    <tr style=\"text-align: right;\">\n",
       "      <th></th>\n",
       "      <th>0</th>\n",
       "      <th>1</th>\n",
       "      <th>micro avg</th>\n",
       "      <th>macro avg</th>\n",
       "      <th>weighted avg</th>\n",
       "    </tr>\n",
       "  </thead>\n",
       "  <tbody>\n",
       "    <tr>\n",
       "      <th>f1-score</th>\n",
       "      <td>0.630</td>\n",
       "      <td>0.372</td>\n",
       "      <td>0.535</td>\n",
       "      <td>0.501</td>\n",
       "      <td>0.593</td>\n",
       "    </tr>\n",
       "    <tr>\n",
       "      <th>precision</th>\n",
       "      <td>0.981</td>\n",
       "      <td>0.232</td>\n",
       "      <td>0.535</td>\n",
       "      <td>0.606</td>\n",
       "      <td>0.872</td>\n",
       "    </tr>\n",
       "    <tr>\n",
       "      <th>recall</th>\n",
       "      <td>0.464</td>\n",
       "      <td>0.947</td>\n",
       "      <td>0.535</td>\n",
       "      <td>0.706</td>\n",
       "      <td>0.535</td>\n",
       "    </tr>\n",
       "    <tr>\n",
       "      <th>support</th>\n",
       "      <td>5025.000</td>\n",
       "      <td>856.000</td>\n",
       "      <td>5881.000</td>\n",
       "      <td>5881.000</td>\n",
       "      <td>5881.000</td>\n",
       "    </tr>\n",
       "  </tbody>\n",
       "</table>\n",
       "</div>"
      ],
      "text/plain": [
       "                  0        1  micro avg  macro avg  weighted avg\n",
       "f1-score      0.630    0.372      0.535      0.501         0.593\n",
       "precision     0.981    0.232      0.535      0.606         0.872\n",
       "recall        0.464    0.947      0.535      0.706         0.535\n",
       "support    5025.000  856.000   5881.000   5881.000      5881.000"
      ]
     },
     "metadata": {},
     "output_type": "display_data"
    },
    {
     "name": "stdout",
     "output_type": "stream",
     "text": [
      "Model Saved on  roc_auc 0.8407358069465756\n"
     ]
    },
    {
     "data": {
      "application/vnd.jupyter.widget-view+json": {
       "model_id": "e4a175fd4553497381e5c84bf9168d06",
       "version_major": 2,
       "version_minor": 0
      },
      "text/plain": [
       "HBox(children=(IntProgress(value=0, max=94), HTML(value='')))"
      ]
     },
     "metadata": {},
     "output_type": "display_data"
    },
    {
     "data": {
      "application/vnd.jupyter.widget-view+json": {
       "model_id": "47bb261715e8407d87d61fc240e844f2",
       "version_major": 2,
       "version_minor": 0
      },
      "text/plain": [
       "HBox(children=(IntProgress(value=0, max=184), HTML(value='')))"
      ]
     },
     "metadata": {},
     "output_type": "display_data"
    },
    {
     "name": "stdout",
     "output_type": "stream",
     "text": [
      "{'accuracy': 0.7165448053052202, 'roc_auc': 0.8242125819500628, 'pr_auc': 0.4937047689895124}\n"
     ]
    },
    {
     "data": {
      "text/html": [
       "<div>\n",
       "<style scoped>\n",
       "    .dataframe tbody tr th:only-of-type {\n",
       "        vertical-align: middle;\n",
       "    }\n",
       "\n",
       "    .dataframe tbody tr th {\n",
       "        vertical-align: top;\n",
       "    }\n",
       "\n",
       "    .dataframe thead th {\n",
       "        text-align: right;\n",
       "    }\n",
       "</style>\n",
       "<table border=\"1\" class=\"dataframe\">\n",
       "  <thead>\n",
       "    <tr style=\"text-align: right;\">\n",
       "      <th></th>\n",
       "      <th>0</th>\n",
       "      <th>1</th>\n",
       "      <th>micro avg</th>\n",
       "      <th>macro avg</th>\n",
       "      <th>weighted avg</th>\n",
       "    </tr>\n",
       "  </thead>\n",
       "  <tbody>\n",
       "    <tr>\n",
       "      <th>f1-score</th>\n",
       "      <td>0.809</td>\n",
       "      <td>0.450</td>\n",
       "      <td>0.717</td>\n",
       "      <td>0.630</td>\n",
       "      <td>0.757</td>\n",
       "    </tr>\n",
       "    <tr>\n",
       "      <th>precision</th>\n",
       "      <td>0.953</td>\n",
       "      <td>0.314</td>\n",
       "      <td>0.717</td>\n",
       "      <td>0.633</td>\n",
       "      <td>0.860</td>\n",
       "    </tr>\n",
       "    <tr>\n",
       "      <th>recall</th>\n",
       "      <td>0.703</td>\n",
       "      <td>0.797</td>\n",
       "      <td>0.717</td>\n",
       "      <td>0.750</td>\n",
       "      <td>0.717</td>\n",
       "    </tr>\n",
       "    <tr>\n",
       "      <th>support</th>\n",
       "      <td>5025.000</td>\n",
       "      <td>856.000</td>\n",
       "      <td>5881.000</td>\n",
       "      <td>5881.000</td>\n",
       "      <td>5881.000</td>\n",
       "    </tr>\n",
       "  </tbody>\n",
       "</table>\n",
       "</div>"
      ],
      "text/plain": [
       "                  0        1  micro avg  macro avg  weighted avg\n",
       "f1-score      0.809    0.450      0.717      0.630         0.757\n",
       "precision     0.953    0.314      0.717      0.633         0.860\n",
       "recall        0.703    0.797      0.717      0.750         0.717\n",
       "support    5025.000  856.000   5881.000   5881.000      5881.000"
      ]
     },
     "metadata": {},
     "output_type": "display_data"
    },
    {
     "name": "stdout",
     "output_type": "stream",
     "text": [
      "Model not saved on  roc_auc 0.8242125819500628\n"
     ]
    },
    {
     "data": {
      "application/vnd.jupyter.widget-view+json": {
       "model_id": "f01d8f59a531493ab3bb08b38ad410dd",
       "version_major": 2,
       "version_minor": 0
      },
      "text/plain": [
       "HBox(children=(IntProgress(value=0, max=94), HTML(value='')))"
      ]
     },
     "metadata": {},
     "output_type": "display_data"
    },
    {
     "data": {
      "application/vnd.jupyter.widget-view+json": {
       "model_id": "5800be6f68af4a6780c8723a8dc0c799",
       "version_major": 2,
       "version_minor": 0
      },
      "text/plain": [
       "HBox(children=(IntProgress(value=0, max=184), HTML(value='')))"
      ]
     },
     "metadata": {},
     "output_type": "display_data"
    },
    {
     "name": "stdout",
     "output_type": "stream",
     "text": [
      "{'accuracy': 0.7155245706512497, 'roc_auc': 0.8534491095922259, 'pr_auc': 0.5552201594334322}\n"
     ]
    },
    {
     "data": {
      "text/html": [
       "<div>\n",
       "<style scoped>\n",
       "    .dataframe tbody tr th:only-of-type {\n",
       "        vertical-align: middle;\n",
       "    }\n",
       "\n",
       "    .dataframe tbody tr th {\n",
       "        vertical-align: top;\n",
       "    }\n",
       "\n",
       "    .dataframe thead th {\n",
       "        text-align: right;\n",
       "    }\n",
       "</style>\n",
       "<table border=\"1\" class=\"dataframe\">\n",
       "  <thead>\n",
       "    <tr style=\"text-align: right;\">\n",
       "      <th></th>\n",
       "      <th>0</th>\n",
       "      <th>1</th>\n",
       "      <th>micro avg</th>\n",
       "      <th>macro avg</th>\n",
       "      <th>weighted avg</th>\n",
       "    </tr>\n",
       "  </thead>\n",
       "  <tbody>\n",
       "    <tr>\n",
       "      <th>f1-score</th>\n",
       "      <td>0.806</td>\n",
       "      <td>0.464</td>\n",
       "      <td>0.716</td>\n",
       "      <td>0.635</td>\n",
       "      <td>0.757</td>\n",
       "    </tr>\n",
       "    <tr>\n",
       "      <th>precision</th>\n",
       "      <td>0.963</td>\n",
       "      <td>0.320</td>\n",
       "      <td>0.716</td>\n",
       "      <td>0.642</td>\n",
       "      <td>0.870</td>\n",
       "    </tr>\n",
       "    <tr>\n",
       "      <th>recall</th>\n",
       "      <td>0.693</td>\n",
       "      <td>0.846</td>\n",
       "      <td>0.716</td>\n",
       "      <td>0.770</td>\n",
       "      <td>0.716</td>\n",
       "    </tr>\n",
       "    <tr>\n",
       "      <th>support</th>\n",
       "      <td>5025.000</td>\n",
       "      <td>856.000</td>\n",
       "      <td>5881.000</td>\n",
       "      <td>5881.000</td>\n",
       "      <td>5881.000</td>\n",
       "    </tr>\n",
       "  </tbody>\n",
       "</table>\n",
       "</div>"
      ],
      "text/plain": [
       "                  0        1  micro avg  macro avg  weighted avg\n",
       "f1-score      0.806    0.464      0.716      0.635         0.757\n",
       "precision     0.963    0.320      0.716      0.642         0.870\n",
       "recall        0.693    0.846      0.716      0.770         0.716\n",
       "support    5025.000  856.000   5881.000   5881.000      5881.000"
      ]
     },
     "metadata": {},
     "output_type": "display_data"
    },
    {
     "name": "stdout",
     "output_type": "stream",
     "text": [
      "Model Saved on  roc_auc 0.8534491095922259\n"
     ]
    },
    {
     "data": {
      "application/vnd.jupyter.widget-view+json": {
       "model_id": "8ee845a9524745d5ac08a80ba2cf92d9",
       "version_major": 2,
       "version_minor": 0
      },
      "text/plain": [
       "HBox(children=(IntProgress(value=0, max=94), HTML(value='')))"
      ]
     },
     "metadata": {},
     "output_type": "display_data"
    },
    {
     "data": {
      "application/vnd.jupyter.widget-view+json": {
       "model_id": "5cc7e72bdf20412faf1418f3cebef932",
       "version_major": 2,
       "version_minor": 0
      },
      "text/plain": [
       "HBox(children=(IntProgress(value=0, max=184), HTML(value='')))"
      ]
     },
     "metadata": {},
     "output_type": "display_data"
    },
    {
     "name": "stdout",
     "output_type": "stream",
     "text": [
      "{'accuracy': 0.5393640537323584, 'roc_auc': 0.8599170037662156, 'pr_auc': 0.5641410938467324}\n"
     ]
    },
    {
     "data": {
      "text/html": [
       "<div>\n",
       "<style scoped>\n",
       "    .dataframe tbody tr th:only-of-type {\n",
       "        vertical-align: middle;\n",
       "    }\n",
       "\n",
       "    .dataframe tbody tr th {\n",
       "        vertical-align: top;\n",
       "    }\n",
       "\n",
       "    .dataframe thead th {\n",
       "        text-align: right;\n",
       "    }\n",
       "</style>\n",
       "<table border=\"1\" class=\"dataframe\">\n",
       "  <thead>\n",
       "    <tr style=\"text-align: right;\">\n",
       "      <th></th>\n",
       "      <th>0</th>\n",
       "      <th>1</th>\n",
       "      <th>micro avg</th>\n",
       "      <th>macro avg</th>\n",
       "      <th>weighted avg</th>\n",
       "    </tr>\n",
       "  </thead>\n",
       "  <tbody>\n",
       "    <tr>\n",
       "      <th>f1-score</th>\n",
       "      <td>0.635</td>\n",
       "      <td>0.376</td>\n",
       "      <td>0.539</td>\n",
       "      <td>0.505</td>\n",
       "      <td>0.597</td>\n",
       "    </tr>\n",
       "    <tr>\n",
       "      <th>precision</th>\n",
       "      <td>0.983</td>\n",
       "      <td>0.234</td>\n",
       "      <td>0.539</td>\n",
       "      <td>0.608</td>\n",
       "      <td>0.874</td>\n",
       "    </tr>\n",
       "    <tr>\n",
       "      <th>recall</th>\n",
       "      <td>0.469</td>\n",
       "      <td>0.952</td>\n",
       "      <td>0.539</td>\n",
       "      <td>0.711</td>\n",
       "      <td>0.539</td>\n",
       "    </tr>\n",
       "    <tr>\n",
       "      <th>support</th>\n",
       "      <td>5025.000</td>\n",
       "      <td>856.000</td>\n",
       "      <td>5881.000</td>\n",
       "      <td>5881.000</td>\n",
       "      <td>5881.000</td>\n",
       "    </tr>\n",
       "  </tbody>\n",
       "</table>\n",
       "</div>"
      ],
      "text/plain": [
       "                  0        1  micro avg  macro avg  weighted avg\n",
       "f1-score      0.635    0.376      0.539      0.505         0.597\n",
       "precision     0.983    0.234      0.539      0.608         0.874\n",
       "recall        0.469    0.952      0.539      0.711         0.539\n",
       "support    5025.000  856.000   5881.000   5881.000      5881.000"
      ]
     },
     "metadata": {},
     "output_type": "display_data"
    },
    {
     "name": "stdout",
     "output_type": "stream",
     "text": [
      "Model Saved on  roc_auc 0.8599170037662156\n"
     ]
    },
    {
     "data": {
      "application/vnd.jupyter.widget-view+json": {
       "model_id": "45d66ff3f040484eb5bbfb5cf6ee74f8",
       "version_major": 2,
       "version_minor": 0
      },
      "text/plain": [
       "HBox(children=(IntProgress(value=0, max=94), HTML(value='')))"
      ]
     },
     "metadata": {},
     "output_type": "display_data"
    },
    {
     "data": {
      "application/vnd.jupyter.widget-view+json": {
       "model_id": "958d5b93c5c3466d91a2a4e0887a7c3b",
       "version_major": 2,
       "version_minor": 0
      },
      "text/plain": [
       "HBox(children=(IntProgress(value=0, max=184), HTML(value='')))"
      ]
     },
     "metadata": {},
     "output_type": "display_data"
    },
    {
     "name": "stdout",
     "output_type": "stream",
     "text": [
      "{'accuracy': 0.7641557558238394, 'roc_auc': 0.8471139628958014, 'pr_auc': 0.5514439933954006}\n"
     ]
    },
    {
     "data": {
      "text/html": [
       "<div>\n",
       "<style scoped>\n",
       "    .dataframe tbody tr th:only-of-type {\n",
       "        vertical-align: middle;\n",
       "    }\n",
       "\n",
       "    .dataframe tbody tr th {\n",
       "        vertical-align: top;\n",
       "    }\n",
       "\n",
       "    .dataframe thead th {\n",
       "        text-align: right;\n",
       "    }\n",
       "</style>\n",
       "<table border=\"1\" class=\"dataframe\">\n",
       "  <thead>\n",
       "    <tr style=\"text-align: right;\">\n",
       "      <th></th>\n",
       "      <th>0</th>\n",
       "      <th>1</th>\n",
       "      <th>micro avg</th>\n",
       "      <th>macro avg</th>\n",
       "      <th>weighted avg</th>\n",
       "    </tr>\n",
       "  </thead>\n",
       "  <tbody>\n",
       "    <tr>\n",
       "      <th>f1-score</th>\n",
       "      <td>0.847</td>\n",
       "      <td>0.490</td>\n",
       "      <td>0.764</td>\n",
       "      <td>0.668</td>\n",
       "      <td>0.795</td>\n",
       "    </tr>\n",
       "    <tr>\n",
       "      <th>precision</th>\n",
       "      <td>0.953</td>\n",
       "      <td>0.358</td>\n",
       "      <td>0.764</td>\n",
       "      <td>0.655</td>\n",
       "      <td>0.866</td>\n",
       "    </tr>\n",
       "    <tr>\n",
       "      <th>recall</th>\n",
       "      <td>0.762</td>\n",
       "      <td>0.779</td>\n",
       "      <td>0.764</td>\n",
       "      <td>0.770</td>\n",
       "      <td>0.764</td>\n",
       "    </tr>\n",
       "    <tr>\n",
       "      <th>support</th>\n",
       "      <td>5025.000</td>\n",
       "      <td>856.000</td>\n",
       "      <td>5881.000</td>\n",
       "      <td>5881.000</td>\n",
       "      <td>5881.000</td>\n",
       "    </tr>\n",
       "  </tbody>\n",
       "</table>\n",
       "</div>"
      ],
      "text/plain": [
       "                  0        1  micro avg  macro avg  weighted avg\n",
       "f1-score      0.847    0.490      0.764      0.668         0.795\n",
       "precision     0.953    0.358      0.764      0.655         0.866\n",
       "recall        0.762    0.779      0.764      0.770         0.764\n",
       "support    5025.000  856.000   5881.000   5881.000      5881.000"
      ]
     },
     "metadata": {},
     "output_type": "display_data"
    },
    {
     "name": "stderr",
     "output_type": "stream",
     "text": [
      "INFO - 2019-03-23 15:47:12,799 - instantiating class <class 'PatientVec.models.Model.Model'> from params {'type': 'seq_classifier', 'embedder': {'type': 'token_embedder', 'vocab_size': 29286, 'embed_size': 200, 'embedding_file': './preprocess/Mortality/embedding_matrix.npy'}, 'decoder': {'num_layers': 2, 'hidden_dims': [128, 1], 'activations': ['tanh', 'linear']}, 'predictor': {'type': 'binary'}, 'structured': {'use_structured': True, 'structured_dim': 50}, 'encoder': {'type': 'average', 'projection': True, 'hidden_size': 256, 'activation': 'relu'}} and extras {}\n",
      "INFO - 2019-03-23 15:47:12,799 - type = seq_classifier\n",
      "INFO - 2019-03-23 15:47:12,800 - instantiating class <class 'PatientVec.models.modules.Embedder.Embedder'> from params {'type': 'token_embedder', 'vocab_size': 29286, 'embed_size': 200, 'embedding_file': './preprocess/Mortality/embedding_matrix.npy'} and extras {}\n",
      "INFO - 2019-03-23 15:47:12,800 - embedder.type = token_embedder\n",
      "INFO - 2019-03-23 15:47:12,800 - instantiating class <class 'PatientVec.models.modules.Embedder.TokenEmbedder'> from params {'vocab_size': 29286, 'embed_size': 200, 'embedding_file': './preprocess/Mortality/embedding_matrix.npy'} and extras {}\n",
      "INFO - 2019-03-23 15:47:12,801 - embedder.vocab_size = 29286\n",
      "INFO - 2019-03-23 15:47:12,801 - embedder.embed_size = 200\n",
      "INFO - 2019-03-23 15:47:12,801 - embedder.embedding_file = ./preprocess/Mortality/embedding_matrix.npy\n",
      "INFO - 2019-03-23 15:47:12,818 - instantiating class <class 'PatientVec.models.modules.Encoder.Encoder'> from params {'type': 'average', 'projection': True, 'hidden_size': 256, 'activation': 'relu'} and extras {'input_size': 200}\n",
      "INFO - 2019-03-23 15:47:12,818 - encoder.type = average\n",
      "INFO - 2019-03-23 15:47:12,818 - instantiating class <class 'PatientVec.models.modules.Encoder.AverageEncoder'> from params {'projection': True, 'hidden_size': 256, 'activation': 'relu'} and extras {'input_size': 200}\n",
      "INFO - 2019-03-23 15:47:12,819 - encoder.projection = True\n",
      "INFO - 2019-03-23 15:47:12,819 - encoder.hidden_size = 256\n",
      "INFO - 2019-03-23 15:47:12,819 - encoder.activation = relu\n",
      "INFO - 2019-03-23 15:47:12,820 - decoder.input_dim = 306\n",
      "INFO - 2019-03-23 15:47:12,821 - decoder.num_layers = 2\n",
      "INFO - 2019-03-23 15:47:12,821 - decoder.hidden_dims = [128, 1]\n",
      "INFO - 2019-03-23 15:47:12,821 - decoder.activations = ['tanh', 'linear']\n",
      "INFO - 2019-03-23 15:47:12,821 - decoder.dropout = 0.0\n",
      "INFO - 2019-03-23 15:47:12,822 - instantiating class <class 'PatientVec.models.modules.Predictor.Predictor'> from params {'type': 'binary'} and extras {}\n",
      "INFO - 2019-03-23 15:47:12,822 - predictor.type = binary\n",
      "INFO - 2019-03-23 15:47:12,823 - instantiating class <class 'PatientVec.models.modules.Predictor.Binary_Predictor'> from params {} and extras {}\n",
      "INFO - 2019-03-23 15:47:12,823 - predictor.replicate = False\n",
      "INFO - 2019-03-23 15:47:12,823 - predictor.alpha = 0.5\n"
     ]
    },
    {
     "name": "stdout",
     "output_type": "stream",
     "text": [
      "Model not saved on  roc_auc 0.8471139628958014\n",
      "\n",
      "Setting Embedding\n"
     ]
    },
    {
     "data": {
      "application/vnd.jupyter.widget-view+json": {
       "model_id": "2401a77fcdfe4101b845fe601db9808b",
       "version_major": 2,
       "version_minor": 0
      },
      "text/plain": [
       "HBox(children=(IntProgress(value=0, max=184), HTML(value='')))"
      ]
     },
     "metadata": {},
     "output_type": "display_data"
    },
    {
     "name": "stdout",
     "output_type": "stream",
     "text": [
      "\n",
      "{'accuracy': 0.5393640537323584, 'roc_auc': 0.8599170037662156, 'pr_auc': 0.5641410938467324}\n"
     ]
    },
    {
     "data": {
      "text/html": [
       "<div>\n",
       "<style scoped>\n",
       "    .dataframe tbody tr th:only-of-type {\n",
       "        vertical-align: middle;\n",
       "    }\n",
       "\n",
       "    .dataframe tbody tr th {\n",
       "        vertical-align: top;\n",
       "    }\n",
       "\n",
       "    .dataframe thead th {\n",
       "        text-align: right;\n",
       "    }\n",
       "</style>\n",
       "<table border=\"1\" class=\"dataframe\">\n",
       "  <thead>\n",
       "    <tr style=\"text-align: right;\">\n",
       "      <th></th>\n",
       "      <th>0</th>\n",
       "      <th>1</th>\n",
       "      <th>micro avg</th>\n",
       "      <th>macro avg</th>\n",
       "      <th>weighted avg</th>\n",
       "    </tr>\n",
       "  </thead>\n",
       "  <tbody>\n",
       "    <tr>\n",
       "      <th>f1-score</th>\n",
       "      <td>0.635</td>\n",
       "      <td>0.376</td>\n",
       "      <td>0.539</td>\n",
       "      <td>0.505</td>\n",
       "      <td>0.597</td>\n",
       "    </tr>\n",
       "    <tr>\n",
       "      <th>precision</th>\n",
       "      <td>0.983</td>\n",
       "      <td>0.234</td>\n",
       "      <td>0.539</td>\n",
       "      <td>0.608</td>\n",
       "      <td>0.874</td>\n",
       "    </tr>\n",
       "    <tr>\n",
       "      <th>recall</th>\n",
       "      <td>0.469</td>\n",
       "      <td>0.952</td>\n",
       "      <td>0.539</td>\n",
       "      <td>0.711</td>\n",
       "      <td>0.539</td>\n",
       "    </tr>\n",
       "    <tr>\n",
       "      <th>support</th>\n",
       "      <td>5025.000</td>\n",
       "      <td>856.000</td>\n",
       "      <td>5881.000</td>\n",
       "      <td>5881.000</td>\n",
       "      <td>5881.000</td>\n",
       "    </tr>\n",
       "  </tbody>\n",
       "</table>\n",
       "</div>"
      ],
      "text/plain": [
       "                  0        1  micro avg  macro avg  weighted avg\n",
       "f1-score      0.635    0.376      0.539      0.505         0.597\n",
       "precision     0.983    0.234      0.539      0.608         0.874\n",
       "recall        0.469    0.952      0.539      0.711         0.539\n",
       "support    5025.000  856.000   5881.000   5881.000      5881.000"
      ]
     },
     "metadata": {},
     "output_type": "display_data"
    },
    {
     "name": "stderr",
     "output_type": "stream",
     "text": [
      "INFO - 2019-03-23 15:47:29,587 - instantiating class <class 'PatientVec.models.Model.Model'> from params {'type': 'seq_classifier', 'embedder': {'type': 'token_embedder', 'vocab_size': 29286, 'embed_size': 200, 'embedding_file': './preprocess/Mortality/embedding_matrix.npy'}, 'decoder': {'num_layers': 2, 'hidden_dims': [128, 1], 'activations': ['tanh', 'linear']}, 'predictor': {'type': 'binary'}, 'structured': {'use_structured': True, 'structured_dim': 50}, 'encoder': {'type': 'lstm', 'hidden_size': 128}} and extras {}\n",
      "INFO - 2019-03-23 15:47:29,588 - type = seq_classifier\n",
      "INFO - 2019-03-23 15:47:29,588 - instantiating class <class 'PatientVec.models.modules.Embedder.Embedder'> from params {'type': 'token_embedder', 'vocab_size': 29286, 'embed_size': 200, 'embedding_file': './preprocess/Mortality/embedding_matrix.npy'} and extras {}\n",
      "INFO - 2019-03-23 15:47:29,588 - embedder.type = token_embedder\n",
      "INFO - 2019-03-23 15:47:29,589 - instantiating class <class 'PatientVec.models.modules.Embedder.TokenEmbedder'> from params {'vocab_size': 29286, 'embed_size': 200, 'embedding_file': './preprocess/Mortality/embedding_matrix.npy'} and extras {}\n",
      "INFO - 2019-03-23 15:47:29,589 - embedder.vocab_size = 29286\n",
      "INFO - 2019-03-23 15:47:29,589 - embedder.embed_size = 200\n",
      "INFO - 2019-03-23 15:47:29,590 - embedder.embedding_file = ./preprocess/Mortality/embedding_matrix.npy\n",
      "INFO - 2019-03-23 15:47:29,606 - instantiating class <class 'PatientVec.models.modules.Encoder.Encoder'> from params {'type': 'lstm', 'hidden_size': 128} and extras {'input_size': 200}\n",
      "INFO - 2019-03-23 15:47:29,607 - encoder.type = lstm\n",
      "INFO - 2019-03-23 15:47:29,607 - instantiating class <class 'PatientVec.models.modules.Encoder.wrap_pytorch_rnn.<locals>.BiRNNEncoder'> from params {'hidden_size': 128} and extras {'input_size': 200}\n",
      "INFO - 2019-03-23 15:47:29,607 - encoder.hidden_size = 128\n",
      "INFO - 2019-03-23 15:47:29,611 - decoder.input_dim = 306\n",
      "INFO - 2019-03-23 15:47:29,611 - decoder.num_layers = 2\n",
      "INFO - 2019-03-23 15:47:29,611 - decoder.hidden_dims = [128, 1]\n",
      "INFO - 2019-03-23 15:47:29,612 - decoder.activations = ['tanh', 'linear']\n",
      "INFO - 2019-03-23 15:47:29,612 - decoder.dropout = 0.0\n",
      "INFO - 2019-03-23 15:47:29,613 - instantiating class <class 'PatientVec.models.modules.Predictor.Predictor'> from params {'type': 'binary'} and extras {}\n",
      "INFO - 2019-03-23 15:47:29,614 - predictor.type = binary\n",
      "INFO - 2019-03-23 15:47:29,614 - instantiating class <class 'PatientVec.models.modules.Predictor.Binary_Predictor'> from params {} and extras {}\n",
      "INFO - 2019-03-23 15:47:29,614 - predictor.replicate = False\n",
      "INFO - 2019-03-23 15:47:29,615 - predictor.alpha = 0.5\n"
     ]
    },
    {
     "name": "stdout",
     "output_type": "stream",
     "text": [
      "============================================================================================================================================================================================================================================================================================================\n",
      "{'model': {'type': 'seq_classifier', 'embedder': {'type': 'token_embedder', 'vocab_size': 29286, 'embed_size': 200, 'embedding_file': './preprocess/Mortality/embedding_matrix.npy'}, 'decoder': {'num_layers': 2, 'hidden_dims': [128, 1], 'activations': ['tanh', 'linear']}, 'predictor': {'type': 'binary'}, 'structured': {'use_structured': True, 'structured_dim': 50}, 'encoder': {'type': 'lstm', 'hidden_size': 128}}, 'training_config': {'type': 'Adam', 'groups': [('.*', {'lr': 0.001, 'weight_decay': 1e-05})], 'common': {'bsize': 32, 'class_weight': True}}, 'exp_config': {'exp_name': 'Mortality_30day/Basic/LSTM(hs=128)+Structured', 'basepath': 'outputs/ts_experiments/n=3000'}}\n",
      "Setting Embedding\n"
     ]
    },
    {
     "data": {
      "application/vnd.jupyter.widget-view+json": {
       "model_id": "849014e1dd7b4611a272b6cf153c3bc5",
       "version_major": 2,
       "version_minor": 0
      },
      "text/plain": [
       "HBox(children=(IntProgress(value=0, max=8), HTML(value='')))"
      ]
     },
     "metadata": {},
     "output_type": "display_data"
    },
    {
     "data": {
      "application/vnd.jupyter.widget-view+json": {
       "model_id": "e2b79e28e23b4e2f9e82b6ddb9ac8f2c",
       "version_major": 2,
       "version_minor": 0
      },
      "text/plain": [
       "HBox(children=(IntProgress(value=0, max=94), HTML(value='')))"
      ]
     },
     "metadata": {},
     "output_type": "display_data"
    },
    {
     "data": {
      "application/vnd.jupyter.widget-view+json": {
       "model_id": "e0e9aa501ee249a8b44d0fcb372c836f",
       "version_major": 2,
       "version_minor": 0
      },
      "text/plain": [
       "HBox(children=(IntProgress(value=0, max=184), HTML(value='')))"
      ]
     },
     "metadata": {},
     "output_type": "display_data"
    },
    {
     "name": "stdout",
     "output_type": "stream",
     "text": [
      "{'accuracy': 0.6551606869580003, 'roc_auc': 0.7757292974380433, 'pr_auc': 0.43508627881436085}\n"
     ]
    },
    {
     "data": {
      "text/html": [
       "<div>\n",
       "<style scoped>\n",
       "    .dataframe tbody tr th:only-of-type {\n",
       "        vertical-align: middle;\n",
       "    }\n",
       "\n",
       "    .dataframe tbody tr th {\n",
       "        vertical-align: top;\n",
       "    }\n",
       "\n",
       "    .dataframe thead th {\n",
       "        text-align: right;\n",
       "    }\n",
       "</style>\n",
       "<table border=\"1\" class=\"dataframe\">\n",
       "  <thead>\n",
       "    <tr style=\"text-align: right;\">\n",
       "      <th></th>\n",
       "      <th>0</th>\n",
       "      <th>1</th>\n",
       "      <th>micro avg</th>\n",
       "      <th>macro avg</th>\n",
       "      <th>weighted avg</th>\n",
       "    </tr>\n",
       "  </thead>\n",
       "  <tbody>\n",
       "    <tr>\n",
       "      <th>f1-score</th>\n",
       "      <td>0.761</td>\n",
       "      <td>0.383</td>\n",
       "      <td>0.655</td>\n",
       "      <td>0.572</td>\n",
       "      <td>0.706</td>\n",
       "    </tr>\n",
       "    <tr>\n",
       "      <th>precision</th>\n",
       "      <td>0.934</td>\n",
       "      <td>0.259</td>\n",
       "      <td>0.655</td>\n",
       "      <td>0.597</td>\n",
       "      <td>0.836</td>\n",
       "    </tr>\n",
       "    <tr>\n",
       "      <th>recall</th>\n",
       "      <td>0.641</td>\n",
       "      <td>0.736</td>\n",
       "      <td>0.655</td>\n",
       "      <td>0.689</td>\n",
       "      <td>0.655</td>\n",
       "    </tr>\n",
       "    <tr>\n",
       "      <th>support</th>\n",
       "      <td>5025.000</td>\n",
       "      <td>856.000</td>\n",
       "      <td>5881.000</td>\n",
       "      <td>5881.000</td>\n",
       "      <td>5881.000</td>\n",
       "    </tr>\n",
       "  </tbody>\n",
       "</table>\n",
       "</div>"
      ],
      "text/plain": [
       "                  0        1  micro avg  macro avg  weighted avg\n",
       "f1-score      0.761    0.383      0.655      0.572         0.706\n",
       "precision     0.934    0.259      0.655      0.597         0.836\n",
       "recall        0.641    0.736      0.655      0.689         0.655\n",
       "support    5025.000  856.000   5881.000   5881.000      5881.000"
      ]
     },
     "metadata": {},
     "output_type": "display_data"
    },
    {
     "name": "stdout",
     "output_type": "stream",
     "text": [
      "Model Saved on  roc_auc 0.7757292974380433\n"
     ]
    },
    {
     "data": {
      "application/vnd.jupyter.widget-view+json": {
       "model_id": "c9bde9cc879645ceadb7c8d23945a444",
       "version_major": 2,
       "version_minor": 0
      },
      "text/plain": [
       "HBox(children=(IntProgress(value=0, max=94), HTML(value='')))"
      ]
     },
     "metadata": {},
     "output_type": "display_data"
    },
    {
     "data": {
      "application/vnd.jupyter.widget-view+json": {
       "model_id": "f476f6f775444fc3b9147eac8c7d4b0e",
       "version_major": 2,
       "version_minor": 0
      },
      "text/plain": [
       "HBox(children=(IntProgress(value=0, max=184), HTML(value='')))"
      ]
     },
     "metadata": {},
     "output_type": "display_data"
    },
    {
     "name": "stdout",
     "output_type": "stream",
     "text": [
      "{'accuracy': 0.8013943206937596, 'roc_auc': 0.8438503742967407, 'pr_auc': 0.5472833436152261}\n"
     ]
    },
    {
     "data": {
      "text/html": [
       "<div>\n",
       "<style scoped>\n",
       "    .dataframe tbody tr th:only-of-type {\n",
       "        vertical-align: middle;\n",
       "    }\n",
       "\n",
       "    .dataframe tbody tr th {\n",
       "        vertical-align: top;\n",
       "    }\n",
       "\n",
       "    .dataframe thead th {\n",
       "        text-align: right;\n",
       "    }\n",
       "</style>\n",
       "<table border=\"1\" class=\"dataframe\">\n",
       "  <thead>\n",
       "    <tr style=\"text-align: right;\">\n",
       "      <th></th>\n",
       "      <th>0</th>\n",
       "      <th>1</th>\n",
       "      <th>micro avg</th>\n",
       "      <th>macro avg</th>\n",
       "      <th>weighted avg</th>\n",
       "    </tr>\n",
       "  </thead>\n",
       "  <tbody>\n",
       "    <tr>\n",
       "      <th>f1-score</th>\n",
       "      <td>0.876</td>\n",
       "      <td>0.505</td>\n",
       "      <td>0.801</td>\n",
       "      <td>0.690</td>\n",
       "      <td>0.822</td>\n",
       "    </tr>\n",
       "    <tr>\n",
       "      <th>precision</th>\n",
       "      <td>0.940</td>\n",
       "      <td>0.396</td>\n",
       "      <td>0.801</td>\n",
       "      <td>0.668</td>\n",
       "      <td>0.861</td>\n",
       "    </tr>\n",
       "    <tr>\n",
       "      <th>recall</th>\n",
       "      <td>0.820</td>\n",
       "      <td>0.695</td>\n",
       "      <td>0.801</td>\n",
       "      <td>0.757</td>\n",
       "      <td>0.801</td>\n",
       "    </tr>\n",
       "    <tr>\n",
       "      <th>support</th>\n",
       "      <td>5025.000</td>\n",
       "      <td>856.000</td>\n",
       "      <td>5881.000</td>\n",
       "      <td>5881.000</td>\n",
       "      <td>5881.000</td>\n",
       "    </tr>\n",
       "  </tbody>\n",
       "</table>\n",
       "</div>"
      ],
      "text/plain": [
       "                  0        1  micro avg  macro avg  weighted avg\n",
       "f1-score      0.876    0.505      0.801      0.690         0.822\n",
       "precision     0.940    0.396      0.801      0.668         0.861\n",
       "recall        0.820    0.695      0.801      0.757         0.801\n",
       "support    5025.000  856.000   5881.000   5881.000      5881.000"
      ]
     },
     "metadata": {},
     "output_type": "display_data"
    },
    {
     "name": "stdout",
     "output_type": "stream",
     "text": [
      "Model Saved on  roc_auc 0.8438503742967407\n"
     ]
    },
    {
     "data": {
      "application/vnd.jupyter.widget-view+json": {
       "model_id": "b137e19276c74a3c9b836fd5532f7d0b",
       "version_major": 2,
       "version_minor": 0
      },
      "text/plain": [
       "HBox(children=(IntProgress(value=0, max=94), HTML(value='')))"
      ]
     },
     "metadata": {},
     "output_type": "display_data"
    },
    {
     "data": {
      "application/vnd.jupyter.widget-view+json": {
       "model_id": "a26fbe63e02044c9bcb24bf9626e8551",
       "version_major": 2,
       "version_minor": 0
      },
      "text/plain": [
       "HBox(children=(IntProgress(value=0, max=184), HTML(value='')))"
      ]
     },
     "metadata": {},
     "output_type": "display_data"
    },
    {
     "name": "stdout",
     "output_type": "stream",
     "text": [
      "{'accuracy': 0.8428838632885564, 'roc_auc': 0.8447038173617891, 'pr_auc': 0.5971801580710802}\n"
     ]
    },
    {
     "data": {
      "text/html": [
       "<div>\n",
       "<style scoped>\n",
       "    .dataframe tbody tr th:only-of-type {\n",
       "        vertical-align: middle;\n",
       "    }\n",
       "\n",
       "    .dataframe tbody tr th {\n",
       "        vertical-align: top;\n",
       "    }\n",
       "\n",
       "    .dataframe thead th {\n",
       "        text-align: right;\n",
       "    }\n",
       "</style>\n",
       "<table border=\"1\" class=\"dataframe\">\n",
       "  <thead>\n",
       "    <tr style=\"text-align: right;\">\n",
       "      <th></th>\n",
       "      <th>0</th>\n",
       "      <th>1</th>\n",
       "      <th>micro avg</th>\n",
       "      <th>macro avg</th>\n",
       "      <th>weighted avg</th>\n",
       "    </tr>\n",
       "  </thead>\n",
       "  <tbody>\n",
       "    <tr>\n",
       "      <th>f1-score</th>\n",
       "      <td>0.906</td>\n",
       "      <td>0.525</td>\n",
       "      <td>0.843</td>\n",
       "      <td>0.716</td>\n",
       "      <td>0.850</td>\n",
       "    </tr>\n",
       "    <tr>\n",
       "      <th>precision</th>\n",
       "      <td>0.928</td>\n",
       "      <td>0.469</td>\n",
       "      <td>0.843</td>\n",
       "      <td>0.698</td>\n",
       "      <td>0.861</td>\n",
       "    </tr>\n",
       "    <tr>\n",
       "      <th>recall</th>\n",
       "      <td>0.885</td>\n",
       "      <td>0.597</td>\n",
       "      <td>0.843</td>\n",
       "      <td>0.741</td>\n",
       "      <td>0.843</td>\n",
       "    </tr>\n",
       "    <tr>\n",
       "      <th>support</th>\n",
       "      <td>5025.000</td>\n",
       "      <td>856.000</td>\n",
       "      <td>5881.000</td>\n",
       "      <td>5881.000</td>\n",
       "      <td>5881.000</td>\n",
       "    </tr>\n",
       "  </tbody>\n",
       "</table>\n",
       "</div>"
      ],
      "text/plain": [
       "                  0        1  micro avg  macro avg  weighted avg\n",
       "f1-score      0.906    0.525      0.843      0.716         0.850\n",
       "precision     0.928    0.469      0.843      0.698         0.861\n",
       "recall        0.885    0.597      0.843      0.741         0.843\n",
       "support    5025.000  856.000   5881.000   5881.000      5881.000"
      ]
     },
     "metadata": {},
     "output_type": "display_data"
    },
    {
     "name": "stdout",
     "output_type": "stream",
     "text": [
      "Model Saved on  roc_auc 0.8447038173617891\n"
     ]
    },
    {
     "data": {
      "application/vnd.jupyter.widget-view+json": {
       "model_id": "bce2b0be4b8a4060b524ef701a455fe3",
       "version_major": 2,
       "version_minor": 0
      },
      "text/plain": [
       "HBox(children=(IntProgress(value=0, max=94), HTML(value='')))"
      ]
     },
     "metadata": {},
     "output_type": "display_data"
    },
    {
     "data": {
      "application/vnd.jupyter.widget-view+json": {
       "model_id": "798761e1bfc0489fa1ba7fd345183055",
       "version_major": 2,
       "version_minor": 0
      },
      "text/plain": [
       "HBox(children=(IntProgress(value=0, max=184), HTML(value='')))"
      ]
     },
     "metadata": {},
     "output_type": "display_data"
    },
    {
     "name": "stdout",
     "output_type": "stream",
     "text": [
      "{'accuracy': 0.8391430028906649, 'roc_auc': 0.8255077416655043, 'pr_auc': 0.5509236866816398}\n"
     ]
    },
    {
     "data": {
      "text/html": [
       "<div>\n",
       "<style scoped>\n",
       "    .dataframe tbody tr th:only-of-type {\n",
       "        vertical-align: middle;\n",
       "    }\n",
       "\n",
       "    .dataframe tbody tr th {\n",
       "        vertical-align: top;\n",
       "    }\n",
       "\n",
       "    .dataframe thead th {\n",
       "        text-align: right;\n",
       "    }\n",
       "</style>\n",
       "<table border=\"1\" class=\"dataframe\">\n",
       "  <thead>\n",
       "    <tr style=\"text-align: right;\">\n",
       "      <th></th>\n",
       "      <th>0</th>\n",
       "      <th>1</th>\n",
       "      <th>micro avg</th>\n",
       "      <th>macro avg</th>\n",
       "      <th>weighted avg</th>\n",
       "    </tr>\n",
       "  </thead>\n",
       "  <tbody>\n",
       "    <tr>\n",
       "      <th>f1-score</th>\n",
       "      <td>0.904</td>\n",
       "      <td>0.514</td>\n",
       "      <td>0.839</td>\n",
       "      <td>0.709</td>\n",
       "      <td>0.847</td>\n",
       "    </tr>\n",
       "    <tr>\n",
       "      <th>precision</th>\n",
       "      <td>0.926</td>\n",
       "      <td>0.459</td>\n",
       "      <td>0.839</td>\n",
       "      <td>0.692</td>\n",
       "      <td>0.858</td>\n",
       "    </tr>\n",
       "    <tr>\n",
       "      <th>recall</th>\n",
       "      <td>0.882</td>\n",
       "      <td>0.585</td>\n",
       "      <td>0.839</td>\n",
       "      <td>0.734</td>\n",
       "      <td>0.839</td>\n",
       "    </tr>\n",
       "    <tr>\n",
       "      <th>support</th>\n",
       "      <td>5025.000</td>\n",
       "      <td>856.000</td>\n",
       "      <td>5881.000</td>\n",
       "      <td>5881.000</td>\n",
       "      <td>5881.000</td>\n",
       "    </tr>\n",
       "  </tbody>\n",
       "</table>\n",
       "</div>"
      ],
      "text/plain": [
       "                  0        1  micro avg  macro avg  weighted avg\n",
       "f1-score      0.904    0.514      0.839      0.709         0.847\n",
       "precision     0.926    0.459      0.839      0.692         0.858\n",
       "recall        0.882    0.585      0.839      0.734         0.839\n",
       "support    5025.000  856.000   5881.000   5881.000      5881.000"
      ]
     },
     "metadata": {},
     "output_type": "display_data"
    },
    {
     "name": "stdout",
     "output_type": "stream",
     "text": [
      "Model not saved on  roc_auc 0.8255077416655043\n"
     ]
    },
    {
     "data": {
      "application/vnd.jupyter.widget-view+json": {
       "model_id": "7a50955b9e8e45dbb2c70df5418bab88",
       "version_major": 2,
       "version_minor": 0
      },
      "text/plain": [
       "HBox(children=(IntProgress(value=0, max=94), HTML(value='')))"
      ]
     },
     "metadata": {},
     "output_type": "display_data"
    },
    {
     "data": {
      "application/vnd.jupyter.widget-view+json": {
       "model_id": "3cef7a53049147118d94965aff611a3a",
       "version_major": 2,
       "version_minor": 0
      },
      "text/plain": [
       "HBox(children=(IntProgress(value=0, max=184), HTML(value='')))"
      ]
     },
     "metadata": {},
     "output_type": "display_data"
    },
    {
     "name": "stdout",
     "output_type": "stream",
     "text": [
      "{'accuracy': 0.834721986056793, 'roc_auc': 0.8142052587529641, 'pr_auc': 0.5429742846343539}\n"
     ]
    },
    {
     "data": {
      "text/html": [
       "<div>\n",
       "<style scoped>\n",
       "    .dataframe tbody tr th:only-of-type {\n",
       "        vertical-align: middle;\n",
       "    }\n",
       "\n",
       "    .dataframe tbody tr th {\n",
       "        vertical-align: top;\n",
       "    }\n",
       "\n",
       "    .dataframe thead th {\n",
       "        text-align: right;\n",
       "    }\n",
       "</style>\n",
       "<table border=\"1\" class=\"dataframe\">\n",
       "  <thead>\n",
       "    <tr style=\"text-align: right;\">\n",
       "      <th></th>\n",
       "      <th>0</th>\n",
       "      <th>1</th>\n",
       "      <th>micro avg</th>\n",
       "      <th>macro avg</th>\n",
       "      <th>weighted avg</th>\n",
       "    </tr>\n",
       "  </thead>\n",
       "  <tbody>\n",
       "    <tr>\n",
       "      <th>f1-score</th>\n",
       "      <td>0.901</td>\n",
       "      <td>0.504</td>\n",
       "      <td>0.835</td>\n",
       "      <td>0.702</td>\n",
       "      <td>0.843</td>\n",
       "    </tr>\n",
       "    <tr>\n",
       "      <th>precision</th>\n",
       "      <td>0.924</td>\n",
       "      <td>0.447</td>\n",
       "      <td>0.835</td>\n",
       "      <td>0.686</td>\n",
       "      <td>0.855</td>\n",
       "    </tr>\n",
       "    <tr>\n",
       "      <th>recall</th>\n",
       "      <td>0.879</td>\n",
       "      <td>0.576</td>\n",
       "      <td>0.835</td>\n",
       "      <td>0.727</td>\n",
       "      <td>0.835</td>\n",
       "    </tr>\n",
       "    <tr>\n",
       "      <th>support</th>\n",
       "      <td>5025.000</td>\n",
       "      <td>856.000</td>\n",
       "      <td>5881.000</td>\n",
       "      <td>5881.000</td>\n",
       "      <td>5881.000</td>\n",
       "    </tr>\n",
       "  </tbody>\n",
       "</table>\n",
       "</div>"
      ],
      "text/plain": [
       "                  0        1  micro avg  macro avg  weighted avg\n",
       "f1-score      0.901    0.504      0.835      0.702         0.843\n",
       "precision     0.924    0.447      0.835      0.686         0.855\n",
       "recall        0.879    0.576      0.835      0.727         0.835\n",
       "support    5025.000  856.000   5881.000   5881.000      5881.000"
      ]
     },
     "metadata": {},
     "output_type": "display_data"
    },
    {
     "name": "stdout",
     "output_type": "stream",
     "text": [
      "Model not saved on  roc_auc 0.8142052587529641\n"
     ]
    },
    {
     "data": {
      "application/vnd.jupyter.widget-view+json": {
       "model_id": "5f428dad871e45e599b60794a5c7cd11",
       "version_major": 2,
       "version_minor": 0
      },
      "text/plain": [
       "HBox(children=(IntProgress(value=0, max=94), HTML(value='')))"
      ]
     },
     "metadata": {},
     "output_type": "display_data"
    },
    {
     "data": {
      "application/vnd.jupyter.widget-view+json": {
       "model_id": "aa56e3c9e98c4292ad6529f36bad35e9",
       "version_major": 2,
       "version_minor": 0
      },
      "text/plain": [
       "HBox(children=(IntProgress(value=0, max=184), HTML(value='')))"
      ]
     },
     "metadata": {},
     "output_type": "display_data"
    },
    {
     "name": "stdout",
     "output_type": "stream",
     "text": [
      "{'accuracy': 0.8372725726917191, 'roc_auc': 0.8043697400846236, 'pr_auc': 0.5254462713822532}\n"
     ]
    },
    {
     "data": {
      "text/html": [
       "<div>\n",
       "<style scoped>\n",
       "    .dataframe tbody tr th:only-of-type {\n",
       "        vertical-align: middle;\n",
       "    }\n",
       "\n",
       "    .dataframe tbody tr th {\n",
       "        vertical-align: top;\n",
       "    }\n",
       "\n",
       "    .dataframe thead th {\n",
       "        text-align: right;\n",
       "    }\n",
       "</style>\n",
       "<table border=\"1\" class=\"dataframe\">\n",
       "  <thead>\n",
       "    <tr style=\"text-align: right;\">\n",
       "      <th></th>\n",
       "      <th>0</th>\n",
       "      <th>1</th>\n",
       "      <th>micro avg</th>\n",
       "      <th>macro avg</th>\n",
       "      <th>weighted avg</th>\n",
       "    </tr>\n",
       "  </thead>\n",
       "  <tbody>\n",
       "    <tr>\n",
       "      <th>f1-score</th>\n",
       "      <td>0.903</td>\n",
       "      <td>0.496</td>\n",
       "      <td>0.837</td>\n",
       "      <td>0.699</td>\n",
       "      <td>0.844</td>\n",
       "    </tr>\n",
       "    <tr>\n",
       "      <th>precision</th>\n",
       "      <td>0.920</td>\n",
       "      <td>0.451</td>\n",
       "      <td>0.837</td>\n",
       "      <td>0.686</td>\n",
       "      <td>0.852</td>\n",
       "    </tr>\n",
       "    <tr>\n",
       "      <th>recall</th>\n",
       "      <td>0.886</td>\n",
       "      <td>0.549</td>\n",
       "      <td>0.837</td>\n",
       "      <td>0.718</td>\n",
       "      <td>0.837</td>\n",
       "    </tr>\n",
       "    <tr>\n",
       "      <th>support</th>\n",
       "      <td>5025.000</td>\n",
       "      <td>856.000</td>\n",
       "      <td>5881.000</td>\n",
       "      <td>5881.000</td>\n",
       "      <td>5881.000</td>\n",
       "    </tr>\n",
       "  </tbody>\n",
       "</table>\n",
       "</div>"
      ],
      "text/plain": [
       "                  0        1  micro avg  macro avg  weighted avg\n",
       "f1-score      0.903    0.496      0.837      0.699         0.844\n",
       "precision     0.920    0.451      0.837      0.686         0.852\n",
       "recall        0.886    0.549      0.837      0.718         0.837\n",
       "support    5025.000  856.000   5881.000   5881.000      5881.000"
      ]
     },
     "metadata": {},
     "output_type": "display_data"
    },
    {
     "name": "stderr",
     "output_type": "stream",
     "text": [
      "INFO - 2019-03-23 15:59:49,136 - instantiating class <class 'PatientVec.models.Model.Model'> from params {'type': 'seq_classifier', 'embedder': {'type': 'token_embedder', 'vocab_size': 29286, 'embed_size': 200, 'embedding_file': './preprocess/Mortality/embedding_matrix.npy'}, 'decoder': {'num_layers': 2, 'hidden_dims': [128, 1], 'activations': ['tanh', 'linear']}, 'predictor': {'type': 'binary'}, 'structured': {'use_structured': True, 'structured_dim': 50}, 'encoder': {'type': 'lstm', 'hidden_size': 128}} and extras {}\n",
      "INFO - 2019-03-23 15:59:49,136 - type = seq_classifier\n",
      "INFO - 2019-03-23 15:59:49,137 - instantiating class <class 'PatientVec.models.modules.Embedder.Embedder'> from params {'type': 'token_embedder', 'vocab_size': 29286, 'embed_size': 200, 'embedding_file': './preprocess/Mortality/embedding_matrix.npy'} and extras {}\n",
      "INFO - 2019-03-23 15:59:49,137 - embedder.type = token_embedder\n",
      "INFO - 2019-03-23 15:59:49,137 - instantiating class <class 'PatientVec.models.modules.Embedder.TokenEmbedder'> from params {'vocab_size': 29286, 'embed_size': 200, 'embedding_file': './preprocess/Mortality/embedding_matrix.npy'} and extras {}\n",
      "INFO - 2019-03-23 15:59:49,138 - embedder.vocab_size = 29286\n",
      "INFO - 2019-03-23 15:59:49,138 - embedder.embed_size = 200\n",
      "INFO - 2019-03-23 15:59:49,138 - embedder.embedding_file = ./preprocess/Mortality/embedding_matrix.npy\n",
      "INFO - 2019-03-23 15:59:49,156 - instantiating class <class 'PatientVec.models.modules.Encoder.Encoder'> from params {'type': 'lstm', 'hidden_size': 128} and extras {'input_size': 200}\n",
      "INFO - 2019-03-23 15:59:49,157 - encoder.type = lstm\n",
      "INFO - 2019-03-23 15:59:49,157 - instantiating class <class 'PatientVec.models.modules.Encoder.wrap_pytorch_rnn.<locals>.BiRNNEncoder'> from params {'hidden_size': 128} and extras {'input_size': 200}\n",
      "INFO - 2019-03-23 15:59:49,157 - encoder.hidden_size = 128\n",
      "INFO - 2019-03-23 15:59:49,159 - decoder.input_dim = 306\n",
      "INFO - 2019-03-23 15:59:49,160 - decoder.num_layers = 2\n",
      "INFO - 2019-03-23 15:59:49,160 - decoder.hidden_dims = [128, 1]\n",
      "INFO - 2019-03-23 15:59:49,160 - decoder.activations = ['tanh', 'linear']\n",
      "INFO - 2019-03-23 15:59:49,160 - decoder.dropout = 0.0\n",
      "INFO - 2019-03-23 15:59:49,161 - instantiating class <class 'PatientVec.models.modules.Predictor.Predictor'> from params {'type': 'binary'} and extras {}\n",
      "INFO - 2019-03-23 15:59:49,162 - predictor.type = binary\n",
      "INFO - 2019-03-23 15:59:49,162 - instantiating class <class 'PatientVec.models.modules.Predictor.Binary_Predictor'> from params {} and extras {}\n",
      "INFO - 2019-03-23 15:59:49,162 - predictor.replicate = False\n",
      "INFO - 2019-03-23 15:59:49,162 - predictor.alpha = 0.5\n"
     ]
    },
    {
     "name": "stdout",
     "output_type": "stream",
     "text": [
      "Model not saved on  roc_auc 0.8043697400846236\n",
      "0.8447038173617891 deque([0.8255077416655043, 0.8142052587529641, 0.8043697400846236], maxlen=3)\n",
      "\n",
      "Setting Embedding\n"
     ]
    },
    {
     "data": {
      "application/vnd.jupyter.widget-view+json": {
       "model_id": "9648d8e396544b3a85188c79aa87875b",
       "version_major": 2,
       "version_minor": 0
      },
      "text/plain": [
       "HBox(children=(IntProgress(value=0, max=184), HTML(value='')))"
      ]
     },
     "metadata": {},
     "output_type": "display_data"
    },
    {
     "name": "stdout",
     "output_type": "stream",
     "text": [
      "\n",
      "{'accuracy': 0.8428838632885564, 'roc_auc': 0.8447038173617891, 'pr_auc': 0.5971801580710802}\n"
     ]
    },
    {
     "data": {
      "text/html": [
       "<div>\n",
       "<style scoped>\n",
       "    .dataframe tbody tr th:only-of-type {\n",
       "        vertical-align: middle;\n",
       "    }\n",
       "\n",
       "    .dataframe tbody tr th {\n",
       "        vertical-align: top;\n",
       "    }\n",
       "\n",
       "    .dataframe thead th {\n",
       "        text-align: right;\n",
       "    }\n",
       "</style>\n",
       "<table border=\"1\" class=\"dataframe\">\n",
       "  <thead>\n",
       "    <tr style=\"text-align: right;\">\n",
       "      <th></th>\n",
       "      <th>0</th>\n",
       "      <th>1</th>\n",
       "      <th>micro avg</th>\n",
       "      <th>macro avg</th>\n",
       "      <th>weighted avg</th>\n",
       "    </tr>\n",
       "  </thead>\n",
       "  <tbody>\n",
       "    <tr>\n",
       "      <th>f1-score</th>\n",
       "      <td>0.906</td>\n",
       "      <td>0.525</td>\n",
       "      <td>0.843</td>\n",
       "      <td>0.716</td>\n",
       "      <td>0.850</td>\n",
       "    </tr>\n",
       "    <tr>\n",
       "      <th>precision</th>\n",
       "      <td>0.928</td>\n",
       "      <td>0.469</td>\n",
       "      <td>0.843</td>\n",
       "      <td>0.698</td>\n",
       "      <td>0.861</td>\n",
       "    </tr>\n",
       "    <tr>\n",
       "      <th>recall</th>\n",
       "      <td>0.885</td>\n",
       "      <td>0.597</td>\n",
       "      <td>0.843</td>\n",
       "      <td>0.741</td>\n",
       "      <td>0.843</td>\n",
       "    </tr>\n",
       "    <tr>\n",
       "      <th>support</th>\n",
       "      <td>5025.000</td>\n",
       "      <td>856.000</td>\n",
       "      <td>5881.000</td>\n",
       "      <td>5881.000</td>\n",
       "      <td>5881.000</td>\n",
       "    </tr>\n",
       "  </tbody>\n",
       "</table>\n",
       "</div>"
      ],
      "text/plain": [
       "                  0        1  micro avg  macro avg  weighted avg\n",
       "f1-score      0.906    0.525      0.843      0.716         0.850\n",
       "precision     0.928    0.469      0.843      0.698         0.861\n",
       "recall        0.885    0.597      0.843      0.741         0.843\n",
       "support    5025.000  856.000   5881.000   5881.000      5881.000"
      ]
     },
     "metadata": {},
     "output_type": "display_data"
    },
    {
     "name": "stderr",
     "output_type": "stream",
     "text": [
      "INFO - 2019-03-23 16:01:18,694 - instantiating class <class 'PatientVec.models.Model.Model'> from params {'type': 'seq_classifier_with_attention', 'embedder': {'type': 'token_embedder', 'vocab_size': 29286, 'embed_size': 200, 'embedding_file': './preprocess/Mortality/embedding_matrix.npy'}, 'decoder': {'num_layers': 2, 'hidden_dims': [128, 1], 'activations': ['tanh', 'linear']}, 'predictor': {'type': 'binary'}, 'structured': {'use_structured': True, 'structured_dim': 50}, 'encoder': {'type': 'lstm', 'hidden_size': 128}, 'attention': {'similarity': {'type': 'additive', 'hidden_size': 128}}} and extras {}\n",
      "INFO - 2019-03-23 16:01:18,695 - type = seq_classifier_with_attention\n",
      "INFO - 2019-03-23 16:01:18,695 - instantiating class <class 'PatientVec.models.modules.Embedder.Embedder'> from params {'type': 'token_embedder', 'vocab_size': 29286, 'embed_size': 200, 'embedding_file': './preprocess/Mortality/embedding_matrix.npy'} and extras {}\n",
      "INFO - 2019-03-23 16:01:18,695 - embedder.type = token_embedder\n",
      "INFO - 2019-03-23 16:01:18,696 - instantiating class <class 'PatientVec.models.modules.Embedder.TokenEmbedder'> from params {'vocab_size': 29286, 'embed_size': 200, 'embedding_file': './preprocess/Mortality/embedding_matrix.npy'} and extras {}\n",
      "INFO - 2019-03-23 16:01:18,696 - embedder.vocab_size = 29286\n",
      "INFO - 2019-03-23 16:01:18,696 - embedder.embed_size = 200\n",
      "INFO - 2019-03-23 16:01:18,696 - embedder.embedding_file = ./preprocess/Mortality/embedding_matrix.npy\n",
      "INFO - 2019-03-23 16:01:18,713 - instantiating class <class 'PatientVec.models.modules.Encoder.Encoder'> from params {'type': 'lstm', 'hidden_size': 128} and extras {'input_size': 200}\n",
      "INFO - 2019-03-23 16:01:18,714 - encoder.type = lstm\n",
      "INFO - 2019-03-23 16:01:18,714 - instantiating class <class 'PatientVec.models.modules.Encoder.wrap_pytorch_rnn.<locals>.BiRNNEncoder'> from params {'hidden_size': 128} and extras {'input_size': 200}\n",
      "INFO - 2019-03-23 16:01:18,715 - encoder.hidden_size = 128\n",
      "INFO - 2019-03-23 16:01:18,717 - instantiating class <class 'PatientVec.models.modules.SelfAttention.SelfAttention'> from params {'similarity': {'type': 'additive', 'hidden_size': 128, 'tensor_1_dim': 256}} and extras {}\n",
      "INFO - 2019-03-23 16:01:18,717 - instantiating class <class 'PatientVec.models.modules.UniSimilarity.UniSimilarity'> from params {'type': 'additive', 'hidden_size': 128, 'tensor_1_dim': 256} and extras {}\n",
      "INFO - 2019-03-23 16:01:18,718 - attention.similarity.type = additive\n",
      "INFO - 2019-03-23 16:01:18,718 - instantiating class <class 'PatientVec.models.modules.UniSimilarity.UniAdditiveSimilarity'> from params {'hidden_size': 128, 'tensor_1_dim': 256} and extras {}\n",
      "INFO - 2019-03-23 16:01:18,718 - attention.similarity.tensor_1_dim = 256\n",
      "INFO - 2019-03-23 16:01:18,719 - attention.similarity.hidden_size = 128\n",
      "INFO - 2019-03-23 16:01:18,719 - attention.similarity.output_size = 1\n",
      "INFO - 2019-03-23 16:01:18,720 - attention.normaliser = softmax\n",
      "INFO - 2019-03-23 16:01:18,720 - decoder.input_dim = 306\n",
      "INFO - 2019-03-23 16:01:18,721 - decoder.num_layers = 2\n",
      "INFO - 2019-03-23 16:01:18,721 - decoder.hidden_dims = [128, 1]\n",
      "INFO - 2019-03-23 16:01:18,721 - decoder.activations = ['tanh', 'linear']\n",
      "INFO - 2019-03-23 16:01:18,722 - decoder.dropout = 0.0\n",
      "INFO - 2019-03-23 16:01:18,723 - instantiating class <class 'PatientVec.models.modules.Predictor.Predictor'> from params {'type': 'binary'} and extras {}\n",
      "INFO - 2019-03-23 16:01:18,723 - predictor.type = binary\n",
      "INFO - 2019-03-23 16:01:18,723 - instantiating class <class 'PatientVec.models.modules.Predictor.Binary_Predictor'> from params {} and extras {}\n",
      "INFO - 2019-03-23 16:01:18,724 - predictor.replicate = False\n",
      "INFO - 2019-03-23 16:01:18,724 - predictor.alpha = 0.5\n"
     ]
    },
    {
     "name": "stdout",
     "output_type": "stream",
     "text": [
      "============================================================================================================================================================================================================================================================================================================\n",
      "{'model': {'type': 'seq_classifier_with_attention', 'embedder': {'type': 'token_embedder', 'vocab_size': 29286, 'embed_size': 200, 'embedding_file': './preprocess/Mortality/embedding_matrix.npy'}, 'decoder': {'num_layers': 2, 'hidden_dims': [128, 1], 'activations': ['tanh', 'linear']}, 'predictor': {'type': 'binary'}, 'structured': {'use_structured': True, 'structured_dim': 50}, 'encoder': {'type': 'lstm', 'hidden_size': 128}, 'attention': {'similarity': {'type': 'additive', 'hidden_size': 128}}}, 'training_config': {'type': 'Adam', 'groups': [('.*', {'lr': 0.001, 'weight_decay': 1e-05})], 'common': {'bsize': 32, 'class_weight': True}}, 'exp_config': {'exp_name': 'Mortality_30day/Attention/LSTM(hs=128)+Attention(additive)(hs=128)+Structured', 'basepath': 'outputs/ts_experiments/n=3000'}}\n",
      "Setting Embedding\n"
     ]
    },
    {
     "data": {
      "application/vnd.jupyter.widget-view+json": {
       "model_id": "72e554e1e1af49159d9dbd59e7abb0d9",
       "version_major": 2,
       "version_minor": 0
      },
      "text/plain": [
       "HBox(children=(IntProgress(value=0, max=8), HTML(value='')))"
      ]
     },
     "metadata": {},
     "output_type": "display_data"
    },
    {
     "data": {
      "application/vnd.jupyter.widget-view+json": {
       "model_id": "1c6c9089bf274774b9b495750a37e5df",
       "version_major": 2,
       "version_minor": 0
      },
      "text/plain": [
       "HBox(children=(IntProgress(value=0, max=94), HTML(value='')))"
      ]
     },
     "metadata": {},
     "output_type": "display_data"
    },
    {
     "data": {
      "application/vnd.jupyter.widget-view+json": {
       "model_id": "8a2ba55043b0468489a864157bfff265",
       "version_major": 2,
       "version_minor": 0
      },
      "text/plain": [
       "HBox(children=(IntProgress(value=0, max=184), HTML(value='')))"
      ]
     },
     "metadata": {},
     "output_type": "display_data"
    },
    {
     "name": "stdout",
     "output_type": "stream",
     "text": [
      "{'accuracy': 0.5735419146403673, 'roc_auc': 0.7828190821592971, 'pr_auc': 0.3610211502658895}\n"
     ]
    },
    {
     "data": {
      "text/html": [
       "<div>\n",
       "<style scoped>\n",
       "    .dataframe tbody tr th:only-of-type {\n",
       "        vertical-align: middle;\n",
       "    }\n",
       "\n",
       "    .dataframe tbody tr th {\n",
       "        vertical-align: top;\n",
       "    }\n",
       "\n",
       "    .dataframe thead th {\n",
       "        text-align: right;\n",
       "    }\n",
       "</style>\n",
       "<table border=\"1\" class=\"dataframe\">\n",
       "  <thead>\n",
       "    <tr style=\"text-align: right;\">\n",
       "      <th></th>\n",
       "      <th>0</th>\n",
       "      <th>1</th>\n",
       "      <th>micro avg</th>\n",
       "      <th>macro avg</th>\n",
       "      <th>weighted avg</th>\n",
       "    </tr>\n",
       "  </thead>\n",
       "  <tbody>\n",
       "    <tr>\n",
       "      <th>f1-score</th>\n",
       "      <td>0.676</td>\n",
       "      <td>0.375</td>\n",
       "      <td>0.574</td>\n",
       "      <td>0.526</td>\n",
       "      <td>0.633</td>\n",
       "    </tr>\n",
       "    <tr>\n",
       "      <th>precision</th>\n",
       "      <td>0.961</td>\n",
       "      <td>0.238</td>\n",
       "      <td>0.574</td>\n",
       "      <td>0.600</td>\n",
       "      <td>0.856</td>\n",
       "    </tr>\n",
       "    <tr>\n",
       "      <th>recall</th>\n",
       "      <td>0.522</td>\n",
       "      <td>0.877</td>\n",
       "      <td>0.574</td>\n",
       "      <td>0.700</td>\n",
       "      <td>0.574</td>\n",
       "    </tr>\n",
       "    <tr>\n",
       "      <th>support</th>\n",
       "      <td>5025.000</td>\n",
       "      <td>856.000</td>\n",
       "      <td>5881.000</td>\n",
       "      <td>5881.000</td>\n",
       "      <td>5881.000</td>\n",
       "    </tr>\n",
       "  </tbody>\n",
       "</table>\n",
       "</div>"
      ],
      "text/plain": [
       "                  0        1  micro avg  macro avg  weighted avg\n",
       "f1-score      0.676    0.375      0.574      0.526         0.633\n",
       "precision     0.961    0.238      0.574      0.600         0.856\n",
       "recall        0.522    0.877      0.574      0.700         0.574\n",
       "support    5025.000  856.000   5881.000   5881.000      5881.000"
      ]
     },
     "metadata": {},
     "output_type": "display_data"
    },
    {
     "name": "stdout",
     "output_type": "stream",
     "text": [
      "Model Saved on  roc_auc 0.7828190821592971\n"
     ]
    },
    {
     "data": {
      "application/vnd.jupyter.widget-view+json": {
       "model_id": "2010809416ff4cd8a36e8f61ee0f8bb0",
       "version_major": 2,
       "version_minor": 0
      },
      "text/plain": [
       "HBox(children=(IntProgress(value=0, max=94), HTML(value='')))"
      ]
     },
     "metadata": {},
     "output_type": "display_data"
    },
    {
     "data": {
      "application/vnd.jupyter.widget-view+json": {
       "model_id": "456037fbac644751836506832c5d9dac",
       "version_major": 2,
       "version_minor": 0
      },
      "text/plain": [
       "HBox(children=(IntProgress(value=0, max=184), HTML(value='')))"
      ]
     },
     "metadata": {},
     "output_type": "display_data"
    },
    {
     "name": "stdout",
     "output_type": "stream",
     "text": [
      "{'accuracy': 0.8784220370685257, 'roc_auc': 0.8798535360580276, 'pr_auc': 0.5692852322282391}\n"
     ]
    },
    {
     "data": {
      "text/html": [
       "<div>\n",
       "<style scoped>\n",
       "    .dataframe tbody tr th:only-of-type {\n",
       "        vertical-align: middle;\n",
       "    }\n",
       "\n",
       "    .dataframe tbody tr th {\n",
       "        vertical-align: top;\n",
       "    }\n",
       "\n",
       "    .dataframe thead th {\n",
       "        text-align: right;\n",
       "    }\n",
       "</style>\n",
       "<table border=\"1\" class=\"dataframe\">\n",
       "  <thead>\n",
       "    <tr style=\"text-align: right;\">\n",
       "      <th></th>\n",
       "      <th>0</th>\n",
       "      <th>1</th>\n",
       "      <th>micro avg</th>\n",
       "      <th>macro avg</th>\n",
       "      <th>weighted avg</th>\n",
       "    </tr>\n",
       "  </thead>\n",
       "  <tbody>\n",
       "    <tr>\n",
       "      <th>f1-score</th>\n",
       "      <td>0.930</td>\n",
       "      <td>0.520</td>\n",
       "      <td>0.878</td>\n",
       "      <td>0.725</td>\n",
       "      <td>0.871</td>\n",
       "    </tr>\n",
       "    <tr>\n",
       "      <th>precision</th>\n",
       "      <td>0.911</td>\n",
       "      <td>0.611</td>\n",
       "      <td>0.878</td>\n",
       "      <td>0.761</td>\n",
       "      <td>0.867</td>\n",
       "    </tr>\n",
       "    <tr>\n",
       "      <th>recall</th>\n",
       "      <td>0.951</td>\n",
       "      <td>0.452</td>\n",
       "      <td>0.878</td>\n",
       "      <td>0.702</td>\n",
       "      <td>0.878</td>\n",
       "    </tr>\n",
       "    <tr>\n",
       "      <th>support</th>\n",
       "      <td>5025.000</td>\n",
       "      <td>856.000</td>\n",
       "      <td>5881.000</td>\n",
       "      <td>5881.000</td>\n",
       "      <td>5881.000</td>\n",
       "    </tr>\n",
       "  </tbody>\n",
       "</table>\n",
       "</div>"
      ],
      "text/plain": [
       "                  0        1  micro avg  macro avg  weighted avg\n",
       "f1-score      0.930    0.520      0.878      0.725         0.871\n",
       "precision     0.911    0.611      0.878      0.761         0.867\n",
       "recall        0.951    0.452      0.878      0.702         0.878\n",
       "support    5025.000  856.000   5881.000   5881.000      5881.000"
      ]
     },
     "metadata": {},
     "output_type": "display_data"
    },
    {
     "name": "stdout",
     "output_type": "stream",
     "text": [
      "Model Saved on  roc_auc 0.8798535360580276\n"
     ]
    },
    {
     "data": {
      "application/vnd.jupyter.widget-view+json": {
       "model_id": "ee9a92998ac04a2d86ae90c4034d16b6",
       "version_major": 2,
       "version_minor": 0
      },
      "text/plain": [
       "HBox(children=(IntProgress(value=0, max=94), HTML(value='')))"
      ]
     },
     "metadata": {},
     "output_type": "display_data"
    },
    {
     "data": {
      "application/vnd.jupyter.widget-view+json": {
       "model_id": "80b2dcb7399643069b3f4b2d1497ed88",
       "version_major": 2,
       "version_minor": 0
      },
      "text/plain": [
       "HBox(children=(IntProgress(value=0, max=184), HTML(value='')))"
      ]
     },
     "metadata": {},
     "output_type": "display_data"
    },
    {
     "name": "stdout",
     "output_type": "stream",
     "text": [
      "{'accuracy': 0.804795102873661, 'roc_auc': 0.9147882084902589, 'pr_auc': 0.7259004361076241}\n"
     ]
    },
    {
     "data": {
      "text/html": [
       "<div>\n",
       "<style scoped>\n",
       "    .dataframe tbody tr th:only-of-type {\n",
       "        vertical-align: middle;\n",
       "    }\n",
       "\n",
       "    .dataframe tbody tr th {\n",
       "        vertical-align: top;\n",
       "    }\n",
       "\n",
       "    .dataframe thead th {\n",
       "        text-align: right;\n",
       "    }\n",
       "</style>\n",
       "<table border=\"1\" class=\"dataframe\">\n",
       "  <thead>\n",
       "    <tr style=\"text-align: right;\">\n",
       "      <th></th>\n",
       "      <th>0</th>\n",
       "      <th>1</th>\n",
       "      <th>micro avg</th>\n",
       "      <th>macro avg</th>\n",
       "      <th>weighted avg</th>\n",
       "    </tr>\n",
       "  </thead>\n",
       "  <tbody>\n",
       "    <tr>\n",
       "      <th>f1-score</th>\n",
       "      <td>0.874</td>\n",
       "      <td>0.562</td>\n",
       "      <td>0.805</td>\n",
       "      <td>0.718</td>\n",
       "      <td>0.829</td>\n",
       "    </tr>\n",
       "    <tr>\n",
       "      <th>precision</th>\n",
       "      <td>0.971</td>\n",
       "      <td>0.417</td>\n",
       "      <td>0.805</td>\n",
       "      <td>0.694</td>\n",
       "      <td>0.891</td>\n",
       "    </tr>\n",
       "    <tr>\n",
       "      <th>recall</th>\n",
       "      <td>0.795</td>\n",
       "      <td>0.862</td>\n",
       "      <td>0.805</td>\n",
       "      <td>0.829</td>\n",
       "      <td>0.805</td>\n",
       "    </tr>\n",
       "    <tr>\n",
       "      <th>support</th>\n",
       "      <td>5025.000</td>\n",
       "      <td>856.000</td>\n",
       "      <td>5881.000</td>\n",
       "      <td>5881.000</td>\n",
       "      <td>5881.000</td>\n",
       "    </tr>\n",
       "  </tbody>\n",
       "</table>\n",
       "</div>"
      ],
      "text/plain": [
       "                  0        1  micro avg  macro avg  weighted avg\n",
       "f1-score      0.874    0.562      0.805      0.718         0.829\n",
       "precision     0.971    0.417      0.805      0.694         0.891\n",
       "recall        0.795    0.862      0.805      0.829         0.805\n",
       "support    5025.000  856.000   5881.000   5881.000      5881.000"
      ]
     },
     "metadata": {},
     "output_type": "display_data"
    },
    {
     "name": "stdout",
     "output_type": "stream",
     "text": [
      "Model Saved on  roc_auc 0.9147882084902589\n"
     ]
    },
    {
     "data": {
      "application/vnd.jupyter.widget-view+json": {
       "model_id": "0f2a2b3885364336ae31fc2bb89f7d36",
       "version_major": 2,
       "version_minor": 0
      },
      "text/plain": [
       "HBox(children=(IntProgress(value=0, max=94), HTML(value='')))"
      ]
     },
     "metadata": {},
     "output_type": "display_data"
    },
    {
     "data": {
      "application/vnd.jupyter.widget-view+json": {
       "model_id": "720d8a7364804bf693fbb275083db940",
       "version_major": 2,
       "version_minor": 0
      },
      "text/plain": [
       "HBox(children=(IntProgress(value=0, max=184), HTML(value='')))"
      ]
     },
     "metadata": {},
     "output_type": "display_data"
    },
    {
     "name": "stdout",
     "output_type": "stream",
     "text": [
      "{'accuracy': 0.8515558578473049, 'roc_auc': 0.9224157251127539, 'pr_auc': 0.7528783191240891}\n"
     ]
    },
    {
     "data": {
      "text/html": [
       "<div>\n",
       "<style scoped>\n",
       "    .dataframe tbody tr th:only-of-type {\n",
       "        vertical-align: middle;\n",
       "    }\n",
       "\n",
       "    .dataframe tbody tr th {\n",
       "        vertical-align: top;\n",
       "    }\n",
       "\n",
       "    .dataframe thead th {\n",
       "        text-align: right;\n",
       "    }\n",
       "</style>\n",
       "<table border=\"1\" class=\"dataframe\">\n",
       "  <thead>\n",
       "    <tr style=\"text-align: right;\">\n",
       "      <th></th>\n",
       "      <th>0</th>\n",
       "      <th>1</th>\n",
       "      <th>micro avg</th>\n",
       "      <th>macro avg</th>\n",
       "      <th>weighted avg</th>\n",
       "    </tr>\n",
       "  </thead>\n",
       "  <tbody>\n",
       "    <tr>\n",
       "      <th>f1-score</th>\n",
       "      <td>0.908</td>\n",
       "      <td>0.617</td>\n",
       "      <td>0.852</td>\n",
       "      <td>0.762</td>\n",
       "      <td>0.866</td>\n",
       "    </tr>\n",
       "    <tr>\n",
       "      <th>precision</th>\n",
       "      <td>0.966</td>\n",
       "      <td>0.494</td>\n",
       "      <td>0.852</td>\n",
       "      <td>0.730</td>\n",
       "      <td>0.897</td>\n",
       "    </tr>\n",
       "    <tr>\n",
       "      <th>recall</th>\n",
       "      <td>0.857</td>\n",
       "      <td>0.821</td>\n",
       "      <td>0.852</td>\n",
       "      <td>0.839</td>\n",
       "      <td>0.852</td>\n",
       "    </tr>\n",
       "    <tr>\n",
       "      <th>support</th>\n",
       "      <td>5025.000</td>\n",
       "      <td>856.000</td>\n",
       "      <td>5881.000</td>\n",
       "      <td>5881.000</td>\n",
       "      <td>5881.000</td>\n",
       "    </tr>\n",
       "  </tbody>\n",
       "</table>\n",
       "</div>"
      ],
      "text/plain": [
       "                  0        1  micro avg  macro avg  weighted avg\n",
       "f1-score      0.908    0.617      0.852      0.762         0.866\n",
       "precision     0.966    0.494      0.852      0.730         0.897\n",
       "recall        0.857    0.821      0.852      0.839         0.852\n",
       "support    5025.000  856.000   5881.000   5881.000      5881.000"
      ]
     },
     "metadata": {},
     "output_type": "display_data"
    },
    {
     "name": "stdout",
     "output_type": "stream",
     "text": [
      "Model Saved on  roc_auc 0.9224157251127539\n"
     ]
    },
    {
     "data": {
      "application/vnd.jupyter.widget-view+json": {
       "model_id": "af00ff2431274d6aa21091927fea3551",
       "version_major": 2,
       "version_minor": 0
      },
      "text/plain": [
       "HBox(children=(IntProgress(value=0, max=94), HTML(value='')))"
      ]
     },
     "metadata": {},
     "output_type": "display_data"
    },
    {
     "data": {
      "application/vnd.jupyter.widget-view+json": {
       "model_id": "7a97b543535a4a98afea88c637bd286a",
       "version_major": 2,
       "version_minor": 0
      },
      "text/plain": [
       "HBox(children=(IntProgress(value=0, max=184), HTML(value='')))"
      ]
     },
     "metadata": {},
     "output_type": "display_data"
    },
    {
     "name": "stdout",
     "output_type": "stream",
     "text": [
      "{'accuracy': 0.8959360652950179, 'roc_auc': 0.9163108522806528, 'pr_auc': 0.7561005932074268}\n"
     ]
    },
    {
     "data": {
      "text/html": [
       "<div>\n",
       "<style scoped>\n",
       "    .dataframe tbody tr th:only-of-type {\n",
       "        vertical-align: middle;\n",
       "    }\n",
       "\n",
       "    .dataframe tbody tr th {\n",
       "        vertical-align: top;\n",
       "    }\n",
       "\n",
       "    .dataframe thead th {\n",
       "        text-align: right;\n",
       "    }\n",
       "</style>\n",
       "<table border=\"1\" class=\"dataframe\">\n",
       "  <thead>\n",
       "    <tr style=\"text-align: right;\">\n",
       "      <th></th>\n",
       "      <th>0</th>\n",
       "      <th>1</th>\n",
       "      <th>micro avg</th>\n",
       "      <th>macro avg</th>\n",
       "      <th>weighted avg</th>\n",
       "    </tr>\n",
       "  </thead>\n",
       "  <tbody>\n",
       "    <tr>\n",
       "      <th>f1-score</th>\n",
       "      <td>0.938</td>\n",
       "      <td>0.665</td>\n",
       "      <td>0.896</td>\n",
       "      <td>0.802</td>\n",
       "      <td>0.899</td>\n",
       "    </tr>\n",
       "    <tr>\n",
       "      <th>precision</th>\n",
       "      <td>0.949</td>\n",
       "      <td>0.626</td>\n",
       "      <td>0.896</td>\n",
       "      <td>0.787</td>\n",
       "      <td>0.902</td>\n",
       "    </tr>\n",
       "    <tr>\n",
       "      <th>recall</th>\n",
       "      <td>0.928</td>\n",
       "      <td>0.710</td>\n",
       "      <td>0.896</td>\n",
       "      <td>0.819</td>\n",
       "      <td>0.896</td>\n",
       "    </tr>\n",
       "    <tr>\n",
       "      <th>support</th>\n",
       "      <td>5025.000</td>\n",
       "      <td>856.000</td>\n",
       "      <td>5881.000</td>\n",
       "      <td>5881.000</td>\n",
       "      <td>5881.000</td>\n",
       "    </tr>\n",
       "  </tbody>\n",
       "</table>\n",
       "</div>"
      ],
      "text/plain": [
       "                  0        1  micro avg  macro avg  weighted avg\n",
       "f1-score      0.938    0.665      0.896      0.802         0.899\n",
       "precision     0.949    0.626      0.896      0.787         0.902\n",
       "recall        0.928    0.710      0.896      0.819         0.896\n",
       "support    5025.000  856.000   5881.000   5881.000      5881.000"
      ]
     },
     "metadata": {},
     "output_type": "display_data"
    },
    {
     "name": "stdout",
     "output_type": "stream",
     "text": [
      "Model not saved on  roc_auc 0.9163108522806528\n"
     ]
    },
    {
     "data": {
      "application/vnd.jupyter.widget-view+json": {
       "model_id": "664a600a8ba74269bc0fa791265cb567",
       "version_major": 2,
       "version_minor": 0
      },
      "text/plain": [
       "HBox(children=(IntProgress(value=0, max=94), HTML(value='')))"
      ]
     },
     "metadata": {},
     "output_type": "display_data"
    },
    {
     "data": {
      "application/vnd.jupyter.widget-view+json": {
       "model_id": "61c664bb9b094e4ea5cc0710ea4188b0",
       "version_major": 2,
       "version_minor": 0
      },
      "text/plain": [
       "HBox(children=(IntProgress(value=0, max=184), HTML(value='')))"
      ]
     },
     "metadata": {},
     "output_type": "display_data"
    },
    {
     "name": "stdout",
     "output_type": "stream",
     "text": [
      "{'accuracy': 0.9163407583744261, 'roc_auc': 0.9156751290277585, 'pr_auc': 0.7501293093640633}\n"
     ]
    },
    {
     "data": {
      "text/html": [
       "<div>\n",
       "<style scoped>\n",
       "    .dataframe tbody tr th:only-of-type {\n",
       "        vertical-align: middle;\n",
       "    }\n",
       "\n",
       "    .dataframe tbody tr th {\n",
       "        vertical-align: top;\n",
       "    }\n",
       "\n",
       "    .dataframe thead th {\n",
       "        text-align: right;\n",
       "    }\n",
       "</style>\n",
       "<table border=\"1\" class=\"dataframe\">\n",
       "  <thead>\n",
       "    <tr style=\"text-align: right;\">\n",
       "      <th></th>\n",
       "      <th>0</th>\n",
       "      <th>1</th>\n",
       "      <th>micro avg</th>\n",
       "      <th>macro avg</th>\n",
       "      <th>weighted avg</th>\n",
       "    </tr>\n",
       "  </thead>\n",
       "  <tbody>\n",
       "    <tr>\n",
       "      <th>f1-score</th>\n",
       "      <td>0.952</td>\n",
       "      <td>0.681</td>\n",
       "      <td>0.916</td>\n",
       "      <td>0.816</td>\n",
       "      <td>0.912</td>\n",
       "    </tr>\n",
       "    <tr>\n",
       "      <th>precision</th>\n",
       "      <td>0.936</td>\n",
       "      <td>0.765</td>\n",
       "      <td>0.916</td>\n",
       "      <td>0.851</td>\n",
       "      <td>0.911</td>\n",
       "    </tr>\n",
       "    <tr>\n",
       "      <th>recall</th>\n",
       "      <td>0.968</td>\n",
       "      <td>0.613</td>\n",
       "      <td>0.916</td>\n",
       "      <td>0.791</td>\n",
       "      <td>0.916</td>\n",
       "    </tr>\n",
       "    <tr>\n",
       "      <th>support</th>\n",
       "      <td>5025.000</td>\n",
       "      <td>856.000</td>\n",
       "      <td>5881.000</td>\n",
       "      <td>5881.000</td>\n",
       "      <td>5881.000</td>\n",
       "    </tr>\n",
       "  </tbody>\n",
       "</table>\n",
       "</div>"
      ],
      "text/plain": [
       "                  0        1  micro avg  macro avg  weighted avg\n",
       "f1-score      0.952    0.681      0.916      0.816         0.912\n",
       "precision     0.936    0.765      0.916      0.851         0.911\n",
       "recall        0.968    0.613      0.916      0.791         0.916\n",
       "support    5025.000  856.000   5881.000   5881.000      5881.000"
      ]
     },
     "metadata": {},
     "output_type": "display_data"
    },
    {
     "name": "stdout",
     "output_type": "stream",
     "text": [
      "Model not saved on  roc_auc 0.9156751290277585\n"
     ]
    },
    {
     "data": {
      "application/vnd.jupyter.widget-view+json": {
       "model_id": "8baad3d2990340cd9fb240b304d3afb6",
       "version_major": 2,
       "version_minor": 0
      },
      "text/plain": [
       "HBox(children=(IntProgress(value=0, max=94), HTML(value='')))"
      ]
     },
     "metadata": {},
     "output_type": "display_data"
    },
    {
     "data": {
      "application/vnd.jupyter.widget-view+json": {
       "model_id": "ba6a91c0978d42e7a4302a941b2522f9",
       "version_major": 2,
       "version_minor": 0
      },
      "text/plain": [
       "HBox(children=(IntProgress(value=0, max=184), HTML(value='')))"
      ]
     },
     "metadata": {},
     "output_type": "display_data"
    },
    {
     "name": "stdout",
     "output_type": "stream",
     "text": [
      "{'accuracy': 0.9051181771807516, 'roc_auc': 0.9103727856046869, 'pr_auc': 0.747155792293274}\n"
     ]
    },
    {
     "data": {
      "text/html": [
       "<div>\n",
       "<style scoped>\n",
       "    .dataframe tbody tr th:only-of-type {\n",
       "        vertical-align: middle;\n",
       "    }\n",
       "\n",
       "    .dataframe tbody tr th {\n",
       "        vertical-align: top;\n",
       "    }\n",
       "\n",
       "    .dataframe thead th {\n",
       "        text-align: right;\n",
       "    }\n",
       "</style>\n",
       "<table border=\"1\" class=\"dataframe\">\n",
       "  <thead>\n",
       "    <tr style=\"text-align: right;\">\n",
       "      <th></th>\n",
       "      <th>0</th>\n",
       "      <th>1</th>\n",
       "      <th>micro avg</th>\n",
       "      <th>macro avg</th>\n",
       "      <th>weighted avg</th>\n",
       "    </tr>\n",
       "  </thead>\n",
       "  <tbody>\n",
       "    <tr>\n",
       "      <th>f1-score</th>\n",
       "      <td>0.944</td>\n",
       "      <td>0.674</td>\n",
       "      <td>0.905</td>\n",
       "      <td>0.809</td>\n",
       "      <td>0.905</td>\n",
       "    </tr>\n",
       "    <tr>\n",
       "      <th>precision</th>\n",
       "      <td>0.944</td>\n",
       "      <td>0.674</td>\n",
       "      <td>0.905</td>\n",
       "      <td>0.809</td>\n",
       "      <td>0.905</td>\n",
       "    </tr>\n",
       "    <tr>\n",
       "      <th>recall</th>\n",
       "      <td>0.944</td>\n",
       "      <td>0.674</td>\n",
       "      <td>0.905</td>\n",
       "      <td>0.809</td>\n",
       "      <td>0.905</td>\n",
       "    </tr>\n",
       "    <tr>\n",
       "      <th>support</th>\n",
       "      <td>5025.000</td>\n",
       "      <td>856.000</td>\n",
       "      <td>5881.000</td>\n",
       "      <td>5881.000</td>\n",
       "      <td>5881.000</td>\n",
       "    </tr>\n",
       "  </tbody>\n",
       "</table>\n",
       "</div>"
      ],
      "text/plain": [
       "                  0        1  micro avg  macro avg  weighted avg\n",
       "f1-score      0.944    0.674      0.905      0.809         0.905\n",
       "precision     0.944    0.674      0.905      0.809         0.905\n",
       "recall        0.944    0.674      0.905      0.809         0.905\n",
       "support    5025.000  856.000   5881.000   5881.000      5881.000"
      ]
     },
     "metadata": {},
     "output_type": "display_data"
    },
    {
     "name": "stderr",
     "output_type": "stream",
     "text": [
      "INFO - 2019-03-23 16:16:38,787 - instantiating class <class 'PatientVec.models.Model.Model'> from params {'type': 'seq_classifier_with_attention', 'embedder': {'type': 'token_embedder', 'vocab_size': 29286, 'embed_size': 200, 'embedding_file': './preprocess/Mortality/embedding_matrix.npy'}, 'decoder': {'num_layers': 2, 'hidden_dims': [128, 1], 'activations': ['tanh', 'linear']}, 'predictor': {'type': 'binary'}, 'structured': {'use_structured': True, 'structured_dim': 50}, 'encoder': {'type': 'lstm', 'hidden_size': 128}, 'attention': {'similarity': {'type': 'additive', 'hidden_size': 128}}} and extras {}\n",
      "INFO - 2019-03-23 16:16:38,788 - type = seq_classifier_with_attention\n",
      "INFO - 2019-03-23 16:16:38,788 - instantiating class <class 'PatientVec.models.modules.Embedder.Embedder'> from params {'type': 'token_embedder', 'vocab_size': 29286, 'embed_size': 200, 'embedding_file': './preprocess/Mortality/embedding_matrix.npy'} and extras {}\n",
      "INFO - 2019-03-23 16:16:38,789 - embedder.type = token_embedder\n",
      "INFO - 2019-03-23 16:16:38,789 - instantiating class <class 'PatientVec.models.modules.Embedder.TokenEmbedder'> from params {'vocab_size': 29286, 'embed_size': 200, 'embedding_file': './preprocess/Mortality/embedding_matrix.npy'} and extras {}\n",
      "INFO - 2019-03-23 16:16:38,789 - embedder.vocab_size = 29286\n",
      "INFO - 2019-03-23 16:16:38,789 - embedder.embed_size = 200\n",
      "INFO - 2019-03-23 16:16:38,790 - embedder.embedding_file = ./preprocess/Mortality/embedding_matrix.npy\n",
      "INFO - 2019-03-23 16:16:38,807 - instantiating class <class 'PatientVec.models.modules.Encoder.Encoder'> from params {'type': 'lstm', 'hidden_size': 128} and extras {'input_size': 200}\n",
      "INFO - 2019-03-23 16:16:38,808 - encoder.type = lstm\n",
      "INFO - 2019-03-23 16:16:38,808 - instantiating class <class 'PatientVec.models.modules.Encoder.wrap_pytorch_rnn.<locals>.BiRNNEncoder'> from params {'hidden_size': 128} and extras {'input_size': 200}\n",
      "INFO - 2019-03-23 16:16:38,808 - encoder.hidden_size = 128\n",
      "INFO - 2019-03-23 16:16:38,811 - instantiating class <class 'PatientVec.models.modules.SelfAttention.SelfAttention'> from params {'similarity': {'type': 'additive', 'hidden_size': 128, 'tensor_1_dim': 256}} and extras {}\n",
      "INFO - 2019-03-23 16:16:38,811 - instantiating class <class 'PatientVec.models.modules.UniSimilarity.UniSimilarity'> from params {'type': 'additive', 'hidden_size': 128, 'tensor_1_dim': 256} and extras {}\n",
      "INFO - 2019-03-23 16:16:38,811 - attention.similarity.type = additive\n",
      "INFO - 2019-03-23 16:16:38,812 - instantiating class <class 'PatientVec.models.modules.UniSimilarity.UniAdditiveSimilarity'> from params {'hidden_size': 128, 'tensor_1_dim': 256} and extras {}\n",
      "INFO - 2019-03-23 16:16:38,812 - attention.similarity.tensor_1_dim = 256\n",
      "INFO - 2019-03-23 16:16:38,813 - attention.similarity.hidden_size = 128\n",
      "INFO - 2019-03-23 16:16:38,813 - attention.similarity.output_size = 1\n",
      "INFO - 2019-03-23 16:16:38,814 - attention.normaliser = softmax\n",
      "INFO - 2019-03-23 16:16:38,814 - decoder.input_dim = 306\n",
      "INFO - 2019-03-23 16:16:38,814 - decoder.num_layers = 2\n",
      "INFO - 2019-03-23 16:16:38,815 - decoder.hidden_dims = [128, 1]\n",
      "INFO - 2019-03-23 16:16:38,815 - decoder.activations = ['tanh', 'linear']\n",
      "INFO - 2019-03-23 16:16:38,816 - decoder.dropout = 0.0\n",
      "INFO - 2019-03-23 16:16:38,816 - instantiating class <class 'PatientVec.models.modules.Predictor.Predictor'> from params {'type': 'binary'} and extras {}\n",
      "INFO - 2019-03-23 16:16:38,817 - predictor.type = binary\n",
      "INFO - 2019-03-23 16:16:38,817 - instantiating class <class 'PatientVec.models.modules.Predictor.Binary_Predictor'> from params {} and extras {}\n",
      "INFO - 2019-03-23 16:16:38,817 - predictor.replicate = False\n",
      "INFO - 2019-03-23 16:16:38,818 - predictor.alpha = 0.5\n"
     ]
    },
    {
     "name": "stdout",
     "output_type": "stream",
     "text": [
      "Model not saved on  roc_auc 0.9103727856046869\n",
      "0.9224157251127539 deque([0.9163108522806528, 0.9156751290277585, 0.9103727856046869], maxlen=3)\n",
      "\n",
      "Setting Embedding\n"
     ]
    },
    {
     "data": {
      "application/vnd.jupyter.widget-view+json": {
       "model_id": "bb46a8110da649de971d4f822a1d0a43",
       "version_major": 2,
       "version_minor": 0
      },
      "text/plain": [
       "HBox(children=(IntProgress(value=0, max=184), HTML(value='')))"
      ]
     },
     "metadata": {},
     "output_type": "display_data"
    },
    {
     "name": "stdout",
     "output_type": "stream",
     "text": [
      "\n",
      "{'accuracy': 0.8515558578473049, 'roc_auc': 0.9224157251127539, 'pr_auc': 0.7528783191240891}\n"
     ]
    },
    {
     "data": {
      "text/html": [
       "<div>\n",
       "<style scoped>\n",
       "    .dataframe tbody tr th:only-of-type {\n",
       "        vertical-align: middle;\n",
       "    }\n",
       "\n",
       "    .dataframe tbody tr th {\n",
       "        vertical-align: top;\n",
       "    }\n",
       "\n",
       "    .dataframe thead th {\n",
       "        text-align: right;\n",
       "    }\n",
       "</style>\n",
       "<table border=\"1\" class=\"dataframe\">\n",
       "  <thead>\n",
       "    <tr style=\"text-align: right;\">\n",
       "      <th></th>\n",
       "      <th>0</th>\n",
       "      <th>1</th>\n",
       "      <th>micro avg</th>\n",
       "      <th>macro avg</th>\n",
       "      <th>weighted avg</th>\n",
       "    </tr>\n",
       "  </thead>\n",
       "  <tbody>\n",
       "    <tr>\n",
       "      <th>f1-score</th>\n",
       "      <td>0.908</td>\n",
       "      <td>0.617</td>\n",
       "      <td>0.852</td>\n",
       "      <td>0.762</td>\n",
       "      <td>0.866</td>\n",
       "    </tr>\n",
       "    <tr>\n",
       "      <th>precision</th>\n",
       "      <td>0.966</td>\n",
       "      <td>0.494</td>\n",
       "      <td>0.852</td>\n",
       "      <td>0.730</td>\n",
       "      <td>0.897</td>\n",
       "    </tr>\n",
       "    <tr>\n",
       "      <th>recall</th>\n",
       "      <td>0.857</td>\n",
       "      <td>0.821</td>\n",
       "      <td>0.852</td>\n",
       "      <td>0.839</td>\n",
       "      <td>0.852</td>\n",
       "    </tr>\n",
       "    <tr>\n",
       "      <th>support</th>\n",
       "      <td>5025.000</td>\n",
       "      <td>856.000</td>\n",
       "      <td>5881.000</td>\n",
       "      <td>5881.000</td>\n",
       "      <td>5881.000</td>\n",
       "    </tr>\n",
       "  </tbody>\n",
       "</table>\n",
       "</div>"
      ],
      "text/plain": [
       "                  0        1  micro avg  macro avg  weighted avg\n",
       "f1-score      0.908    0.617      0.852      0.762         0.866\n",
       "precision     0.966    0.494      0.852      0.730         0.897\n",
       "recall        0.857    0.821      0.852      0.839         0.852\n",
       "support    5025.000  856.000   5881.000   5881.000      5881.000"
      ]
     },
     "metadata": {},
     "output_type": "display_data"
    },
    {
     "name": "stdout",
     "output_type": "stream",
     "text": [
      "============================================================================================================================================================================================================================================================================================================\n"
     ]
    },
    {
     "name": "stderr",
     "output_type": "stream",
     "text": [
      "INFO - 2019-03-23 16:18:11,782 - Reading Structured data ...\n",
      "INFO - 2019-03-23 16:18:11,852 - Reading Notes ...\n",
      "INFO - 2019-03-23 16:18:21,977 - Stratifying ...\n"
     ]
    },
    {
     "name": "stdout",
     "output_type": "stream",
     "text": [
      "Pos Percentage [0.15129873]\n"
     ]
    },
    {
     "name": "stderr",
     "output_type": "stream",
     "text": [
      "INFO - 2019-03-23 16:18:25,974 - Maximum Sentence Length 721825.000000 , 90 percentile length 18596.000000 ... \n",
      "INFO - 2019-03-23 16:18:38,768 - Truncated all ...\n",
      "INFO - 2019-03-23 16:18:38,811 - Idxs removed []...\n"
     ]
    },
    {
     "name": "stdout",
     "output_type": "stream",
     "text": [
      "Pos Percentage [0.14555348]\n"
     ]
    },
    {
     "name": "stderr",
     "output_type": "stream",
     "text": [
      "INFO - 2019-03-23 16:18:39,788 - Maximum Sentence Length 420764.000000 , 90 percentile length 17662.000000 ... \n",
      "INFO - 2019-03-23 16:18:41,668 - Truncated all ...\n",
      "INFO - 2019-03-23 16:18:41,679 - Idxs removed []...\n",
      "INFO - 2019-03-23 16:18:41,909 - instantiating class <class 'PatientVec.models.Model.Model'> from params {'type': 'seq_classifier', 'embedder': {'type': 'token_embedder', 'vocab_size': 29286, 'embed_size': 200, 'embedding_file': './preprocess/Mortality/embedding_matrix.npy'}, 'decoder': {'num_layers': 2, 'hidden_dims': [128, 1], 'activations': ['tanh', 'linear']}, 'predictor': {'type': 'binary'}, 'structured': {'use_structured': True, 'structured_dim': 50}, 'encoder': {'type': 'average', 'projection': True, 'hidden_size': 256, 'activation': 'relu'}} and extras {}\n",
      "INFO - 2019-03-23 16:18:41,909 - type = seq_classifier\n",
      "INFO - 2019-03-23 16:18:41,909 - instantiating class <class 'PatientVec.models.modules.Embedder.Embedder'> from params {'type': 'token_embedder', 'vocab_size': 29286, 'embed_size': 200, 'embedding_file': './preprocess/Mortality/embedding_matrix.npy'} and extras {}\n",
      "INFO - 2019-03-23 16:18:41,910 - embedder.type = token_embedder\n",
      "INFO - 2019-03-23 16:18:41,910 - instantiating class <class 'PatientVec.models.modules.Embedder.TokenEmbedder'> from params {'vocab_size': 29286, 'embed_size': 200, 'embedding_file': './preprocess/Mortality/embedding_matrix.npy'} and extras {}\n",
      "INFO - 2019-03-23 16:18:41,911 - embedder.vocab_size = 29286\n",
      "INFO - 2019-03-23 16:18:41,911 - embedder.embed_size = 200\n",
      "INFO - 2019-03-23 16:18:41,911 - embedder.embedding_file = ./preprocess/Mortality/embedding_matrix.npy\n",
      "INFO - 2019-03-23 16:18:41,927 - instantiating class <class 'PatientVec.models.modules.Encoder.Encoder'> from params {'type': 'average', 'projection': True, 'hidden_size': 256, 'activation': 'relu'} and extras {'input_size': 200}\n",
      "INFO - 2019-03-23 16:18:41,928 - encoder.type = average\n",
      "INFO - 2019-03-23 16:18:41,928 - instantiating class <class 'PatientVec.models.modules.Encoder.AverageEncoder'> from params {'projection': True, 'hidden_size': 256, 'activation': 'relu'} and extras {'input_size': 200}\n",
      "INFO - 2019-03-23 16:18:41,929 - encoder.projection = True\n",
      "INFO - 2019-03-23 16:18:41,929 - encoder.hidden_size = 256\n",
      "INFO - 2019-03-23 16:18:41,929 - encoder.activation = relu\n",
      "INFO - 2019-03-23 16:18:41,930 - decoder.input_dim = 306\n",
      "INFO - 2019-03-23 16:18:41,931 - decoder.num_layers = 2\n",
      "INFO - 2019-03-23 16:18:41,931 - decoder.hidden_dims = [128, 1]\n",
      "INFO - 2019-03-23 16:18:41,931 - decoder.activations = ['tanh', 'linear']\n",
      "INFO - 2019-03-23 16:18:41,932 - decoder.dropout = 0.0\n",
      "INFO - 2019-03-23 16:18:41,933 - instantiating class <class 'PatientVec.models.modules.Predictor.Predictor'> from params {'type': 'binary'} and extras {}\n",
      "INFO - 2019-03-23 16:18:41,933 - predictor.type = binary\n",
      "INFO - 2019-03-23 16:18:41,933 - instantiating class <class 'PatientVec.models.modules.Predictor.Binary_Predictor'> from params {} and extras {}\n",
      "INFO - 2019-03-23 16:18:41,934 - predictor.replicate = False\n",
      "INFO - 2019-03-23 16:18:41,934 - predictor.alpha = 0.5\n"
     ]
    },
    {
     "name": "stdout",
     "output_type": "stream",
     "text": [
      "{'model': {'type': 'seq_classifier', 'embedder': {'type': 'token_embedder', 'vocab_size': 29286, 'embed_size': 200, 'embedding_file': './preprocess/Mortality/embedding_matrix.npy'}, 'decoder': {'num_layers': 2, 'hidden_dims': [128, 1], 'activations': ['tanh', 'linear']}, 'predictor': {'type': 'binary'}, 'structured': {'use_structured': True, 'structured_dim': 50}, 'encoder': {'type': 'average', 'projection': True, 'hidden_size': 256, 'activation': 'relu'}}, 'training_config': {'type': 'Adam', 'groups': [('.*', {'lr': 0.001, 'weight_decay': 1e-05})], 'common': {'bsize': 32, 'class_weight': True}}, 'exp_config': {'exp_name': 'Mortality_30day/Basic/Average(hs=256)+Structured', 'basepath': 'outputs/ts_experiments/n=5000'}}\n",
      "Setting Embedding\n"
     ]
    },
    {
     "data": {
      "application/vnd.jupyter.widget-view+json": {
       "model_id": "3dc146527aed42d1aaaf86c3b3220b38",
       "version_major": 2,
       "version_minor": 0
      },
      "text/plain": [
       "HBox(children=(IntProgress(value=0, max=8), HTML(value='')))"
      ]
     },
     "metadata": {},
     "output_type": "display_data"
    },
    {
     "data": {
      "application/vnd.jupyter.widget-view+json": {
       "model_id": "11fb3cf93bca454386b64d384af47d72",
       "version_major": 2,
       "version_minor": 0
      },
      "text/plain": [
       "HBox(children=(IntProgress(value=0, max=157), HTML(value='')))"
      ]
     },
     "metadata": {},
     "output_type": "display_data"
    },
    {
     "data": {
      "application/vnd.jupyter.widget-view+json": {
       "model_id": "b9a4737f57de4d4f957e3d8be33e29e9",
       "version_major": 2,
       "version_minor": 0
      },
      "text/plain": [
       "HBox(children=(IntProgress(value=0, max=184), HTML(value='')))"
      ]
     },
     "metadata": {},
     "output_type": "display_data"
    },
    {
     "name": "stdout",
     "output_type": "stream",
     "text": [
      "{'accuracy': 0.6874681176670634, 'roc_auc': 0.7939531315385688, 'pr_auc': 0.38737450712099}\n"
     ]
    },
    {
     "data": {
      "text/html": [
       "<div>\n",
       "<style scoped>\n",
       "    .dataframe tbody tr th:only-of-type {\n",
       "        vertical-align: middle;\n",
       "    }\n",
       "\n",
       "    .dataframe tbody tr th {\n",
       "        vertical-align: top;\n",
       "    }\n",
       "\n",
       "    .dataframe thead th {\n",
       "        text-align: right;\n",
       "    }\n",
       "</style>\n",
       "<table border=\"1\" class=\"dataframe\">\n",
       "  <thead>\n",
       "    <tr style=\"text-align: right;\">\n",
       "      <th></th>\n",
       "      <th>0</th>\n",
       "      <th>1</th>\n",
       "      <th>micro avg</th>\n",
       "      <th>macro avg</th>\n",
       "      <th>weighted avg</th>\n",
       "    </tr>\n",
       "  </thead>\n",
       "  <tbody>\n",
       "    <tr>\n",
       "      <th>f1-score</th>\n",
       "      <td>0.787</td>\n",
       "      <td>0.412</td>\n",
       "      <td>0.687</td>\n",
       "      <td>0.600</td>\n",
       "      <td>0.733</td>\n",
       "    </tr>\n",
       "    <tr>\n",
       "      <th>precision</th>\n",
       "      <td>0.941</td>\n",
       "      <td>0.284</td>\n",
       "      <td>0.687</td>\n",
       "      <td>0.612</td>\n",
       "      <td>0.846</td>\n",
       "    </tr>\n",
       "    <tr>\n",
       "      <th>recall</th>\n",
       "      <td>0.676</td>\n",
       "      <td>0.752</td>\n",
       "      <td>0.687</td>\n",
       "      <td>0.714</td>\n",
       "      <td>0.687</td>\n",
       "    </tr>\n",
       "    <tr>\n",
       "      <th>support</th>\n",
       "      <td>5025.000</td>\n",
       "      <td>856.000</td>\n",
       "      <td>5881.000</td>\n",
       "      <td>5881.000</td>\n",
       "      <td>5881.000</td>\n",
       "    </tr>\n",
       "  </tbody>\n",
       "</table>\n",
       "</div>"
      ],
      "text/plain": [
       "                  0        1  micro avg  macro avg  weighted avg\n",
       "f1-score      0.787    0.412      0.687      0.600         0.733\n",
       "precision     0.941    0.284      0.687      0.612         0.846\n",
       "recall        0.676    0.752      0.687      0.714         0.687\n",
       "support    5025.000  856.000   5881.000   5881.000      5881.000"
      ]
     },
     "metadata": {},
     "output_type": "display_data"
    },
    {
     "name": "stdout",
     "output_type": "stream",
     "text": [
      "Model Saved on  roc_auc 0.7939531315385688\n"
     ]
    },
    {
     "data": {
      "application/vnd.jupyter.widget-view+json": {
       "model_id": "827b2fa543774b89bae98b823f4560c4",
       "version_major": 2,
       "version_minor": 0
      },
      "text/plain": [
       "HBox(children=(IntProgress(value=0, max=157), HTML(value='')))"
      ]
     },
     "metadata": {},
     "output_type": "display_data"
    },
    {
     "data": {
      "application/vnd.jupyter.widget-view+json": {
       "model_id": "e45e15e91eaa4b38b937e36b5637aafb",
       "version_major": 2,
       "version_minor": 0
      },
      "text/plain": [
       "HBox(children=(IntProgress(value=0, max=184), HTML(value='')))"
      ]
     },
     "metadata": {},
     "output_type": "display_data"
    },
    {
     "name": "stdout",
     "output_type": "stream",
     "text": [
      "{'accuracy': 0.6087400102023466, 'roc_auc': 0.826529734505045, 'pr_auc': 0.46697422624182605}\n"
     ]
    },
    {
     "data": {
      "text/html": [
       "<div>\n",
       "<style scoped>\n",
       "    .dataframe tbody tr th:only-of-type {\n",
       "        vertical-align: middle;\n",
       "    }\n",
       "\n",
       "    .dataframe tbody tr th {\n",
       "        vertical-align: top;\n",
       "    }\n",
       "\n",
       "    .dataframe thead th {\n",
       "        text-align: right;\n",
       "    }\n",
       "</style>\n",
       "<table border=\"1\" class=\"dataframe\">\n",
       "  <thead>\n",
       "    <tr style=\"text-align: right;\">\n",
       "      <th></th>\n",
       "      <th>0</th>\n",
       "      <th>1</th>\n",
       "      <th>micro avg</th>\n",
       "      <th>macro avg</th>\n",
       "      <th>weighted avg</th>\n",
       "    </tr>\n",
       "  </thead>\n",
       "  <tbody>\n",
       "    <tr>\n",
       "      <th>f1-score</th>\n",
       "      <td>0.709</td>\n",
       "      <td>0.403</td>\n",
       "      <td>0.609</td>\n",
       "      <td>0.556</td>\n",
       "      <td>0.664</td>\n",
       "    </tr>\n",
       "    <tr>\n",
       "      <th>precision</th>\n",
       "      <td>0.972</td>\n",
       "      <td>0.259</td>\n",
       "      <td>0.609</td>\n",
       "      <td>0.616</td>\n",
       "      <td>0.868</td>\n",
       "    </tr>\n",
       "    <tr>\n",
       "      <th>recall</th>\n",
       "      <td>0.558</td>\n",
       "      <td>0.907</td>\n",
       "      <td>0.609</td>\n",
       "      <td>0.732</td>\n",
       "      <td>0.609</td>\n",
       "    </tr>\n",
       "    <tr>\n",
       "      <th>support</th>\n",
       "      <td>5025.000</td>\n",
       "      <td>856.000</td>\n",
       "      <td>5881.000</td>\n",
       "      <td>5881.000</td>\n",
       "      <td>5881.000</td>\n",
       "    </tr>\n",
       "  </tbody>\n",
       "</table>\n",
       "</div>"
      ],
      "text/plain": [
       "                  0        1  micro avg  macro avg  weighted avg\n",
       "f1-score      0.709    0.403      0.609      0.556         0.664\n",
       "precision     0.972    0.259      0.609      0.616         0.868\n",
       "recall        0.558    0.907      0.609      0.732         0.609\n",
       "support    5025.000  856.000   5881.000   5881.000      5881.000"
      ]
     },
     "metadata": {},
     "output_type": "display_data"
    },
    {
     "name": "stdout",
     "output_type": "stream",
     "text": [
      "Model Saved on  roc_auc 0.826529734505045\n"
     ]
    },
    {
     "data": {
      "application/vnd.jupyter.widget-view+json": {
       "model_id": "381dc0d0c98d4efc99f2a3417143b77a",
       "version_major": 2,
       "version_minor": 0
      },
      "text/plain": [
       "HBox(children=(IntProgress(value=0, max=157), HTML(value='')))"
      ]
     },
     "metadata": {},
     "output_type": "display_data"
    },
    {
     "data": {
      "application/vnd.jupyter.widget-view+json": {
       "model_id": "6932ed222f534325a2b1814c8aca56bc",
       "version_major": 2,
       "version_minor": 0
      },
      "text/plain": [
       "HBox(children=(IntProgress(value=0, max=184), HTML(value='')))"
      ]
     },
     "metadata": {},
     "output_type": "display_data"
    },
    {
     "name": "stdout",
     "output_type": "stream",
     "text": [
      "{'accuracy': 0.6233633735759224, 'roc_auc': 0.8365399637327382, 'pr_auc': 0.49795789240590216}\n"
     ]
    },
    {
     "data": {
      "text/html": [
       "<div>\n",
       "<style scoped>\n",
       "    .dataframe tbody tr th:only-of-type {\n",
       "        vertical-align: middle;\n",
       "    }\n",
       "\n",
       "    .dataframe tbody tr th {\n",
       "        vertical-align: top;\n",
       "    }\n",
       "\n",
       "    .dataframe thead th {\n",
       "        text-align: right;\n",
       "    }\n",
       "</style>\n",
       "<table border=\"1\" class=\"dataframe\">\n",
       "  <thead>\n",
       "    <tr style=\"text-align: right;\">\n",
       "      <th></th>\n",
       "      <th>0</th>\n",
       "      <th>1</th>\n",
       "      <th>micro avg</th>\n",
       "      <th>macro avg</th>\n",
       "      <th>weighted avg</th>\n",
       "    </tr>\n",
       "  </thead>\n",
       "  <tbody>\n",
       "    <tr>\n",
       "      <th>f1-score</th>\n",
       "      <td>0.723</td>\n",
       "      <td>0.411</td>\n",
       "      <td>0.623</td>\n",
       "      <td>0.567</td>\n",
       "      <td>0.678</td>\n",
       "    </tr>\n",
       "    <tr>\n",
       "      <th>precision</th>\n",
       "      <td>0.972</td>\n",
       "      <td>0.266</td>\n",
       "      <td>0.623</td>\n",
       "      <td>0.619</td>\n",
       "      <td>0.869</td>\n",
       "    </tr>\n",
       "    <tr>\n",
       "      <th>recall</th>\n",
       "      <td>0.576</td>\n",
       "      <td>0.903</td>\n",
       "      <td>0.623</td>\n",
       "      <td>0.739</td>\n",
       "      <td>0.623</td>\n",
       "    </tr>\n",
       "    <tr>\n",
       "      <th>support</th>\n",
       "      <td>5025.000</td>\n",
       "      <td>856.000</td>\n",
       "      <td>5881.000</td>\n",
       "      <td>5881.000</td>\n",
       "      <td>5881.000</td>\n",
       "    </tr>\n",
       "  </tbody>\n",
       "</table>\n",
       "</div>"
      ],
      "text/plain": [
       "                  0        1  micro avg  macro avg  weighted avg\n",
       "f1-score      0.723    0.411      0.623      0.567         0.678\n",
       "precision     0.972    0.266      0.623      0.619         0.869\n",
       "recall        0.576    0.903      0.623      0.739         0.623\n",
       "support    5025.000  856.000   5881.000   5881.000      5881.000"
      ]
     },
     "metadata": {},
     "output_type": "display_data"
    },
    {
     "name": "stdout",
     "output_type": "stream",
     "text": [
      "Model Saved on  roc_auc 0.8365399637327382\n"
     ]
    },
    {
     "data": {
      "application/vnd.jupyter.widget-view+json": {
       "model_id": "0d5b357e5ae74fb699de00cadf440d13",
       "version_major": 2,
       "version_minor": 0
      },
      "text/plain": [
       "HBox(children=(IntProgress(value=0, max=157), HTML(value='')))"
      ]
     },
     "metadata": {},
     "output_type": "display_data"
    },
    {
     "data": {
      "application/vnd.jupyter.widget-view+json": {
       "model_id": "f778a8cb78fd496187b082bbe5001f9b",
       "version_major": 2,
       "version_minor": 0
      },
      "text/plain": [
       "HBox(children=(IntProgress(value=0, max=184), HTML(value='')))"
      ]
     },
     "metadata": {},
     "output_type": "display_data"
    },
    {
     "name": "stdout",
     "output_type": "stream",
     "text": [
      "{'accuracy': 0.7243666043189934, 'roc_auc': 0.8504488073650439, 'pr_auc': 0.5455167562643084}\n"
     ]
    },
    {
     "data": {
      "text/html": [
       "<div>\n",
       "<style scoped>\n",
       "    .dataframe tbody tr th:only-of-type {\n",
       "        vertical-align: middle;\n",
       "    }\n",
       "\n",
       "    .dataframe tbody tr th {\n",
       "        vertical-align: top;\n",
       "    }\n",
       "\n",
       "    .dataframe thead th {\n",
       "        text-align: right;\n",
       "    }\n",
       "</style>\n",
       "<table border=\"1\" class=\"dataframe\">\n",
       "  <thead>\n",
       "    <tr style=\"text-align: right;\">\n",
       "      <th></th>\n",
       "      <th>0</th>\n",
       "      <th>1</th>\n",
       "      <th>micro avg</th>\n",
       "      <th>macro avg</th>\n",
       "      <th>weighted avg</th>\n",
       "    </tr>\n",
       "  </thead>\n",
       "  <tbody>\n",
       "    <tr>\n",
       "      <th>f1-score</th>\n",
       "      <td>0.814</td>\n",
       "      <td>0.471</td>\n",
       "      <td>0.724</td>\n",
       "      <td>0.642</td>\n",
       "      <td>0.764</td>\n",
       "    </tr>\n",
       "    <tr>\n",
       "      <th>precision</th>\n",
       "      <td>0.963</td>\n",
       "      <td>0.327</td>\n",
       "      <td>0.724</td>\n",
       "      <td>0.645</td>\n",
       "      <td>0.871</td>\n",
       "    </tr>\n",
       "    <tr>\n",
       "      <th>recall</th>\n",
       "      <td>0.704</td>\n",
       "      <td>0.842</td>\n",
       "      <td>0.724</td>\n",
       "      <td>0.773</td>\n",
       "      <td>0.724</td>\n",
       "    </tr>\n",
       "    <tr>\n",
       "      <th>support</th>\n",
       "      <td>5025.000</td>\n",
       "      <td>856.000</td>\n",
       "      <td>5881.000</td>\n",
       "      <td>5881.000</td>\n",
       "      <td>5881.000</td>\n",
       "    </tr>\n",
       "  </tbody>\n",
       "</table>\n",
       "</div>"
      ],
      "text/plain": [
       "                  0        1  micro avg  macro avg  weighted avg\n",
       "f1-score      0.814    0.471      0.724      0.642         0.764\n",
       "precision     0.963    0.327      0.724      0.645         0.871\n",
       "recall        0.704    0.842      0.724      0.773         0.724\n",
       "support    5025.000  856.000   5881.000   5881.000      5881.000"
      ]
     },
     "metadata": {},
     "output_type": "display_data"
    },
    {
     "name": "stdout",
     "output_type": "stream",
     "text": [
      "Model Saved on  roc_auc 0.8504488073650439\n"
     ]
    },
    {
     "data": {
      "application/vnd.jupyter.widget-view+json": {
       "model_id": "41dd966a323b4096a30cbacde9b39db2",
       "version_major": 2,
       "version_minor": 0
      },
      "text/plain": [
       "HBox(children=(IntProgress(value=0, max=157), HTML(value='')))"
      ]
     },
     "metadata": {},
     "output_type": "display_data"
    },
    {
     "data": {
      "application/vnd.jupyter.widget-view+json": {
       "model_id": "097cf56b6dde4b968e3802bb6fc73fc3",
       "version_major": 2,
       "version_minor": 0
      },
      "text/plain": [
       "HBox(children=(IntProgress(value=0, max=184), HTML(value='')))"
      ]
     },
     "metadata": {},
     "output_type": "display_data"
    },
    {
     "name": "stdout",
     "output_type": "stream",
     "text": [
      "{'accuracy': 0.807345689508587, 'roc_auc': 0.8525004649648952, 'pr_auc': 0.557480421688185}\n"
     ]
    },
    {
     "data": {
      "text/html": [
       "<div>\n",
       "<style scoped>\n",
       "    .dataframe tbody tr th:only-of-type {\n",
       "        vertical-align: middle;\n",
       "    }\n",
       "\n",
       "    .dataframe tbody tr th {\n",
       "        vertical-align: top;\n",
       "    }\n",
       "\n",
       "    .dataframe thead th {\n",
       "        text-align: right;\n",
       "    }\n",
       "</style>\n",
       "<table border=\"1\" class=\"dataframe\">\n",
       "  <thead>\n",
       "    <tr style=\"text-align: right;\">\n",
       "      <th></th>\n",
       "      <th>0</th>\n",
       "      <th>1</th>\n",
       "      <th>micro avg</th>\n",
       "      <th>macro avg</th>\n",
       "      <th>weighted avg</th>\n",
       "    </tr>\n",
       "  </thead>\n",
       "  <tbody>\n",
       "    <tr>\n",
       "      <th>f1-score</th>\n",
       "      <td>0.880</td>\n",
       "      <td>0.518</td>\n",
       "      <td>0.807</td>\n",
       "      <td>0.699</td>\n",
       "      <td>0.827</td>\n",
       "    </tr>\n",
       "    <tr>\n",
       "      <th>precision</th>\n",
       "      <td>0.944</td>\n",
       "      <td>0.407</td>\n",
       "      <td>0.807</td>\n",
       "      <td>0.676</td>\n",
       "      <td>0.866</td>\n",
       "    </tr>\n",
       "    <tr>\n",
       "      <th>recall</th>\n",
       "      <td>0.823</td>\n",
       "      <td>0.713</td>\n",
       "      <td>0.807</td>\n",
       "      <td>0.768</td>\n",
       "      <td>0.807</td>\n",
       "    </tr>\n",
       "    <tr>\n",
       "      <th>support</th>\n",
       "      <td>5025.000</td>\n",
       "      <td>856.000</td>\n",
       "      <td>5881.000</td>\n",
       "      <td>5881.000</td>\n",
       "      <td>5881.000</td>\n",
       "    </tr>\n",
       "  </tbody>\n",
       "</table>\n",
       "</div>"
      ],
      "text/plain": [
       "                  0        1  micro avg  macro avg  weighted avg\n",
       "f1-score      0.880    0.518      0.807      0.699         0.827\n",
       "precision     0.944    0.407      0.807      0.676         0.866\n",
       "recall        0.823    0.713      0.807      0.768         0.807\n",
       "support    5025.000  856.000   5881.000   5881.000      5881.000"
      ]
     },
     "metadata": {},
     "output_type": "display_data"
    },
    {
     "name": "stdout",
     "output_type": "stream",
     "text": [
      "Model Saved on  roc_auc 0.8525004649648952\n"
     ]
    },
    {
     "data": {
      "application/vnd.jupyter.widget-view+json": {
       "model_id": "7cb190aa2f004068bfe38da628ea72e2",
       "version_major": 2,
       "version_minor": 0
      },
      "text/plain": [
       "HBox(children=(IntProgress(value=0, max=157), HTML(value='')))"
      ]
     },
     "metadata": {},
     "output_type": "display_data"
    },
    {
     "data": {
      "application/vnd.jupyter.widget-view+json": {
       "model_id": "e9fcfca0e7f04c92b477a9298db0418c",
       "version_major": 2,
       "version_minor": 0
      },
      "text/plain": [
       "HBox(children=(IntProgress(value=0, max=184), HTML(value='')))"
      ]
     },
     "metadata": {},
     "output_type": "display_data"
    },
    {
     "name": "stdout",
     "output_type": "stream",
     "text": [
      "{'accuracy': 0.8121067845604489, 'roc_auc': 0.8520372436881017, 'pr_auc': 0.5691767766738002}\n"
     ]
    },
    {
     "data": {
      "text/html": [
       "<div>\n",
       "<style scoped>\n",
       "    .dataframe tbody tr th:only-of-type {\n",
       "        vertical-align: middle;\n",
       "    }\n",
       "\n",
       "    .dataframe tbody tr th {\n",
       "        vertical-align: top;\n",
       "    }\n",
       "\n",
       "    .dataframe thead th {\n",
       "        text-align: right;\n",
       "    }\n",
       "</style>\n",
       "<table border=\"1\" class=\"dataframe\">\n",
       "  <thead>\n",
       "    <tr style=\"text-align: right;\">\n",
       "      <th></th>\n",
       "      <th>0</th>\n",
       "      <th>1</th>\n",
       "      <th>micro avg</th>\n",
       "      <th>macro avg</th>\n",
       "      <th>weighted avg</th>\n",
       "    </tr>\n",
       "  </thead>\n",
       "  <tbody>\n",
       "    <tr>\n",
       "      <th>f1-score</th>\n",
       "      <td>0.883</td>\n",
       "      <td>0.524</td>\n",
       "      <td>0.812</td>\n",
       "      <td>0.704</td>\n",
       "      <td>0.831</td>\n",
       "    </tr>\n",
       "    <tr>\n",
       "      <th>precision</th>\n",
       "      <td>0.944</td>\n",
       "      <td>0.415</td>\n",
       "      <td>0.812</td>\n",
       "      <td>0.680</td>\n",
       "      <td>0.867</td>\n",
       "    </tr>\n",
       "    <tr>\n",
       "      <th>recall</th>\n",
       "      <td>0.829</td>\n",
       "      <td>0.711</td>\n",
       "      <td>0.812</td>\n",
       "      <td>0.770</td>\n",
       "      <td>0.812</td>\n",
       "    </tr>\n",
       "    <tr>\n",
       "      <th>support</th>\n",
       "      <td>5025.000</td>\n",
       "      <td>856.000</td>\n",
       "      <td>5881.000</td>\n",
       "      <td>5881.000</td>\n",
       "      <td>5881.000</td>\n",
       "    </tr>\n",
       "  </tbody>\n",
       "</table>\n",
       "</div>"
      ],
      "text/plain": [
       "                  0        1  micro avg  macro avg  weighted avg\n",
       "f1-score      0.883    0.524      0.812      0.704         0.831\n",
       "precision     0.944    0.415      0.812      0.680         0.867\n",
       "recall        0.829    0.711      0.812      0.770         0.812\n",
       "support    5025.000  856.000   5881.000   5881.000      5881.000"
      ]
     },
     "metadata": {},
     "output_type": "display_data"
    },
    {
     "name": "stdout",
     "output_type": "stream",
     "text": [
      "Model not saved on  roc_auc 0.8520372436881017\n"
     ]
    },
    {
     "data": {
      "application/vnd.jupyter.widget-view+json": {
       "model_id": "4581611cac324d16b44614545fd3ae8f",
       "version_major": 2,
       "version_minor": 0
      },
      "text/plain": [
       "HBox(children=(IntProgress(value=0, max=157), HTML(value='')))"
      ]
     },
     "metadata": {},
     "output_type": "display_data"
    },
    {
     "data": {
      "application/vnd.jupyter.widget-view+json": {
       "model_id": "d90ad77c2fbb41f0a6cbcc0c6db10b1d",
       "version_major": 2,
       "version_minor": 0
      },
      "text/plain": [
       "HBox(children=(IntProgress(value=0, max=184), HTML(value='')))"
      ]
     },
     "metadata": {},
     "output_type": "display_data"
    },
    {
     "name": "stdout",
     "output_type": "stream",
     "text": [
      "{'accuracy': 0.8626083999319843, 'roc_auc': 0.8660006044543637, 'pr_auc': 0.6006230037876171}\n"
     ]
    },
    {
     "data": {
      "text/html": [
       "<div>\n",
       "<style scoped>\n",
       "    .dataframe tbody tr th:only-of-type {\n",
       "        vertical-align: middle;\n",
       "    }\n",
       "\n",
       "    .dataframe tbody tr th {\n",
       "        vertical-align: top;\n",
       "    }\n",
       "\n",
       "    .dataframe thead th {\n",
       "        text-align: right;\n",
       "    }\n",
       "</style>\n",
       "<table border=\"1\" class=\"dataframe\">\n",
       "  <thead>\n",
       "    <tr style=\"text-align: right;\">\n",
       "      <th></th>\n",
       "      <th>0</th>\n",
       "      <th>1</th>\n",
       "      <th>micro avg</th>\n",
       "      <th>macro avg</th>\n",
       "      <th>weighted avg</th>\n",
       "    </tr>\n",
       "  </thead>\n",
       "  <tbody>\n",
       "    <tr>\n",
       "      <th>f1-score</th>\n",
       "      <td>0.919</td>\n",
       "      <td>0.558</td>\n",
       "      <td>0.863</td>\n",
       "      <td>0.738</td>\n",
       "      <td>0.866</td>\n",
       "    </tr>\n",
       "    <tr>\n",
       "      <th>precision</th>\n",
       "      <td>0.930</td>\n",
       "      <td>0.525</td>\n",
       "      <td>0.863</td>\n",
       "      <td>0.727</td>\n",
       "      <td>0.871</td>\n",
       "    </tr>\n",
       "    <tr>\n",
       "      <th>recall</th>\n",
       "      <td>0.908</td>\n",
       "      <td>0.596</td>\n",
       "      <td>0.863</td>\n",
       "      <td>0.752</td>\n",
       "      <td>0.863</td>\n",
       "    </tr>\n",
       "    <tr>\n",
       "      <th>support</th>\n",
       "      <td>5025.000</td>\n",
       "      <td>856.000</td>\n",
       "      <td>5881.000</td>\n",
       "      <td>5881.000</td>\n",
       "      <td>5881.000</td>\n",
       "    </tr>\n",
       "  </tbody>\n",
       "</table>\n",
       "</div>"
      ],
      "text/plain": [
       "                  0        1  micro avg  macro avg  weighted avg\n",
       "f1-score      0.919    0.558      0.863      0.738         0.866\n",
       "precision     0.930    0.525      0.863      0.727         0.871\n",
       "recall        0.908    0.596      0.863      0.752         0.863\n",
       "support    5025.000  856.000   5881.000   5881.000      5881.000"
      ]
     },
     "metadata": {},
     "output_type": "display_data"
    },
    {
     "name": "stdout",
     "output_type": "stream",
     "text": [
      "Model Saved on  roc_auc 0.8660006044543637\n"
     ]
    },
    {
     "data": {
      "application/vnd.jupyter.widget-view+json": {
       "model_id": "b1f2977b7a2846329326a6c83ade39e8",
       "version_major": 2,
       "version_minor": 0
      },
      "text/plain": [
       "HBox(children=(IntProgress(value=0, max=157), HTML(value='')))"
      ]
     },
     "metadata": {},
     "output_type": "display_data"
    },
    {
     "data": {
      "application/vnd.jupyter.widget-view+json": {
       "model_id": "83367b10c8e34b4391d84c4bac22e839",
       "version_major": 2,
       "version_minor": 0
      },
      "text/plain": [
       "HBox(children=(IntProgress(value=0, max=184), HTML(value='')))"
      ]
     },
     "metadata": {},
     "output_type": "display_data"
    },
    {
     "name": "stdout",
     "output_type": "stream",
     "text": [
      "{'accuracy': 0.8797823499404863, 'roc_auc': 0.8670932719579673, 'pr_auc': 0.6044458496922975}\n"
     ]
    },
    {
     "data": {
      "text/html": [
       "<div>\n",
       "<style scoped>\n",
       "    .dataframe tbody tr th:only-of-type {\n",
       "        vertical-align: middle;\n",
       "    }\n",
       "\n",
       "    .dataframe tbody tr th {\n",
       "        vertical-align: top;\n",
       "    }\n",
       "\n",
       "    .dataframe thead th {\n",
       "        text-align: right;\n",
       "    }\n",
       "</style>\n",
       "<table border=\"1\" class=\"dataframe\">\n",
       "  <thead>\n",
       "    <tr style=\"text-align: right;\">\n",
       "      <th></th>\n",
       "      <th>0</th>\n",
       "      <th>1</th>\n",
       "      <th>micro avg</th>\n",
       "      <th>macro avg</th>\n",
       "      <th>weighted avg</th>\n",
       "    </tr>\n",
       "  </thead>\n",
       "  <tbody>\n",
       "    <tr>\n",
       "      <th>f1-score</th>\n",
       "      <td>0.931</td>\n",
       "      <td>0.553</td>\n",
       "      <td>0.88</td>\n",
       "      <td>0.742</td>\n",
       "      <td>0.876</td>\n",
       "    </tr>\n",
       "    <tr>\n",
       "      <th>precision</th>\n",
       "      <td>0.919</td>\n",
       "      <td>0.602</td>\n",
       "      <td>0.88</td>\n",
       "      <td>0.761</td>\n",
       "      <td>0.873</td>\n",
       "    </tr>\n",
       "    <tr>\n",
       "      <th>recall</th>\n",
       "      <td>0.942</td>\n",
       "      <td>0.512</td>\n",
       "      <td>0.88</td>\n",
       "      <td>0.727</td>\n",
       "      <td>0.880</td>\n",
       "    </tr>\n",
       "    <tr>\n",
       "      <th>support</th>\n",
       "      <td>5025.000</td>\n",
       "      <td>856.000</td>\n",
       "      <td>5881.00</td>\n",
       "      <td>5881.000</td>\n",
       "      <td>5881.000</td>\n",
       "    </tr>\n",
       "  </tbody>\n",
       "</table>\n",
       "</div>"
      ],
      "text/plain": [
       "                  0        1  micro avg  macro avg  weighted avg\n",
       "f1-score      0.931    0.553       0.88      0.742         0.876\n",
       "precision     0.919    0.602       0.88      0.761         0.873\n",
       "recall        0.942    0.512       0.88      0.727         0.880\n",
       "support    5025.000  856.000    5881.00   5881.000      5881.000"
      ]
     },
     "metadata": {},
     "output_type": "display_data"
    },
    {
     "name": "stdout",
     "output_type": "stream",
     "text": [
      "Model Saved on  roc_auc 0.8670932719579673\n"
     ]
    },
    {
     "name": "stderr",
     "output_type": "stream",
     "text": [
      "INFO - 2019-03-23 16:22:12,419 - instantiating class <class 'PatientVec.models.Model.Model'> from params {'type': 'seq_classifier', 'embedder': {'type': 'token_embedder', 'vocab_size': 29286, 'embed_size': 200, 'embedding_file': './preprocess/Mortality/embedding_matrix.npy'}, 'decoder': {'num_layers': 2, 'hidden_dims': [128, 1], 'activations': ['tanh', 'linear']}, 'predictor': {'type': 'binary'}, 'structured': {'use_structured': True, 'structured_dim': 50}, 'encoder': {'type': 'average', 'projection': True, 'hidden_size': 256, 'activation': 'relu'}} and extras {}\n",
      "INFO - 2019-03-23 16:22:12,419 - type = seq_classifier\n",
      "INFO - 2019-03-23 16:22:12,420 - instantiating class <class 'PatientVec.models.modules.Embedder.Embedder'> from params {'type': 'token_embedder', 'vocab_size': 29286, 'embed_size': 200, 'embedding_file': './preprocess/Mortality/embedding_matrix.npy'} and extras {}\n",
      "INFO - 2019-03-23 16:22:12,421 - embedder.type = token_embedder\n",
      "INFO - 2019-03-23 16:22:12,421 - instantiating class <class 'PatientVec.models.modules.Embedder.TokenEmbedder'> from params {'vocab_size': 29286, 'embed_size': 200, 'embedding_file': './preprocess/Mortality/embedding_matrix.npy'} and extras {}\n",
      "INFO - 2019-03-23 16:22:12,422 - embedder.vocab_size = 29286\n",
      "INFO - 2019-03-23 16:22:12,422 - embedder.embed_size = 200\n",
      "INFO - 2019-03-23 16:22:12,423 - embedder.embedding_file = ./preprocess/Mortality/embedding_matrix.npy\n",
      "INFO - 2019-03-23 16:22:12,439 - instantiating class <class 'PatientVec.models.modules.Encoder.Encoder'> from params {'type': 'average', 'projection': True, 'hidden_size': 256, 'activation': 'relu'} and extras {'input_size': 200}\n",
      "INFO - 2019-03-23 16:22:12,440 - encoder.type = average\n",
      "INFO - 2019-03-23 16:22:12,440 - instantiating class <class 'PatientVec.models.modules.Encoder.AverageEncoder'> from params {'projection': True, 'hidden_size': 256, 'activation': 'relu'} and extras {'input_size': 200}\n",
      "INFO - 2019-03-23 16:22:12,440 - encoder.projection = True\n",
      "INFO - 2019-03-23 16:22:12,441 - encoder.hidden_size = 256\n",
      "INFO - 2019-03-23 16:22:12,441 - encoder.activation = relu\n",
      "INFO - 2019-03-23 16:22:12,442 - decoder.input_dim = 306\n",
      "INFO - 2019-03-23 16:22:12,442 - decoder.num_layers = 2\n",
      "INFO - 2019-03-23 16:22:12,443 - decoder.hidden_dims = [128, 1]\n",
      "INFO - 2019-03-23 16:22:12,443 - decoder.activations = ['tanh', 'linear']\n",
      "INFO - 2019-03-23 16:22:12,443 - decoder.dropout = 0.0\n",
      "INFO - 2019-03-23 16:22:12,444 - instantiating class <class 'PatientVec.models.modules.Predictor.Predictor'> from params {'type': 'binary'} and extras {}\n",
      "INFO - 2019-03-23 16:22:12,445 - predictor.type = binary\n",
      "INFO - 2019-03-23 16:22:12,445 - instantiating class <class 'PatientVec.models.modules.Predictor.Binary_Predictor'> from params {} and extras {}\n",
      "INFO - 2019-03-23 16:22:12,445 - predictor.replicate = False\n",
      "INFO - 2019-03-23 16:22:12,446 - predictor.alpha = 0.5\n"
     ]
    },
    {
     "name": "stdout",
     "output_type": "stream",
     "text": [
      "\n",
      "Setting Embedding\n"
     ]
    },
    {
     "data": {
      "application/vnd.jupyter.widget-view+json": {
       "model_id": "583779cf25804e27a99f2d2a159d1088",
       "version_major": 2,
       "version_minor": 0
      },
      "text/plain": [
       "HBox(children=(IntProgress(value=0, max=184), HTML(value='')))"
      ]
     },
     "metadata": {},
     "output_type": "display_data"
    },
    {
     "name": "stdout",
     "output_type": "stream",
     "text": [
      "\n",
      "{'accuracy': 0.8797823499404863, 'roc_auc': 0.8670932719579673, 'pr_auc': 0.6044458496922975}\n"
     ]
    },
    {
     "data": {
      "text/html": [
       "<div>\n",
       "<style scoped>\n",
       "    .dataframe tbody tr th:only-of-type {\n",
       "        vertical-align: middle;\n",
       "    }\n",
       "\n",
       "    .dataframe tbody tr th {\n",
       "        vertical-align: top;\n",
       "    }\n",
       "\n",
       "    .dataframe thead th {\n",
       "        text-align: right;\n",
       "    }\n",
       "</style>\n",
       "<table border=\"1\" class=\"dataframe\">\n",
       "  <thead>\n",
       "    <tr style=\"text-align: right;\">\n",
       "      <th></th>\n",
       "      <th>0</th>\n",
       "      <th>1</th>\n",
       "      <th>micro avg</th>\n",
       "      <th>macro avg</th>\n",
       "      <th>weighted avg</th>\n",
       "    </tr>\n",
       "  </thead>\n",
       "  <tbody>\n",
       "    <tr>\n",
       "      <th>f1-score</th>\n",
       "      <td>0.931</td>\n",
       "      <td>0.553</td>\n",
       "      <td>0.88</td>\n",
       "      <td>0.742</td>\n",
       "      <td>0.876</td>\n",
       "    </tr>\n",
       "    <tr>\n",
       "      <th>precision</th>\n",
       "      <td>0.919</td>\n",
       "      <td>0.602</td>\n",
       "      <td>0.88</td>\n",
       "      <td>0.761</td>\n",
       "      <td>0.873</td>\n",
       "    </tr>\n",
       "    <tr>\n",
       "      <th>recall</th>\n",
       "      <td>0.942</td>\n",
       "      <td>0.512</td>\n",
       "      <td>0.88</td>\n",
       "      <td>0.727</td>\n",
       "      <td>0.880</td>\n",
       "    </tr>\n",
       "    <tr>\n",
       "      <th>support</th>\n",
       "      <td>5025.000</td>\n",
       "      <td>856.000</td>\n",
       "      <td>5881.00</td>\n",
       "      <td>5881.000</td>\n",
       "      <td>5881.000</td>\n",
       "    </tr>\n",
       "  </tbody>\n",
       "</table>\n",
       "</div>"
      ],
      "text/plain": [
       "                  0        1  micro avg  macro avg  weighted avg\n",
       "f1-score      0.931    0.553       0.88      0.742         0.876\n",
       "precision     0.919    0.602       0.88      0.761         0.873\n",
       "recall        0.942    0.512       0.88      0.727         0.880\n",
       "support    5025.000  856.000    5881.00   5881.000      5881.000"
      ]
     },
     "metadata": {},
     "output_type": "display_data"
    },
    {
     "name": "stderr",
     "output_type": "stream",
     "text": [
      "INFO - 2019-03-23 16:22:29,939 - instantiating class <class 'PatientVec.models.Model.Model'> from params {'type': 'seq_classifier', 'embedder': {'type': 'token_embedder', 'vocab_size': 29286, 'embed_size': 200, 'embedding_file': './preprocess/Mortality/embedding_matrix.npy'}, 'decoder': {'num_layers': 2, 'hidden_dims': [128, 1], 'activations': ['tanh', 'linear']}, 'predictor': {'type': 'binary'}, 'structured': {'use_structured': True, 'structured_dim': 50}, 'encoder': {'type': 'lstm', 'hidden_size': 128}} and extras {}\n",
      "INFO - 2019-03-23 16:22:29,940 - type = seq_classifier\n",
      "INFO - 2019-03-23 16:22:29,940 - instantiating class <class 'PatientVec.models.modules.Embedder.Embedder'> from params {'type': 'token_embedder', 'vocab_size': 29286, 'embed_size': 200, 'embedding_file': './preprocess/Mortality/embedding_matrix.npy'} and extras {}\n",
      "INFO - 2019-03-23 16:22:29,940 - embedder.type = token_embedder\n",
      "INFO - 2019-03-23 16:22:29,941 - instantiating class <class 'PatientVec.models.modules.Embedder.TokenEmbedder'> from params {'vocab_size': 29286, 'embed_size': 200, 'embedding_file': './preprocess/Mortality/embedding_matrix.npy'} and extras {}\n",
      "INFO - 2019-03-23 16:22:29,941 - embedder.vocab_size = 29286\n",
      "INFO - 2019-03-23 16:22:29,941 - embedder.embed_size = 200\n",
      "INFO - 2019-03-23 16:22:29,941 - embedder.embedding_file = ./preprocess/Mortality/embedding_matrix.npy\n",
      "INFO - 2019-03-23 16:22:29,957 - instantiating class <class 'PatientVec.models.modules.Encoder.Encoder'> from params {'type': 'lstm', 'hidden_size': 128} and extras {'input_size': 200}\n",
      "INFO - 2019-03-23 16:22:29,958 - encoder.type = lstm\n",
      "INFO - 2019-03-23 16:22:29,958 - instantiating class <class 'PatientVec.models.modules.Encoder.wrap_pytorch_rnn.<locals>.BiRNNEncoder'> from params {'hidden_size': 128} and extras {'input_size': 200}\n",
      "INFO - 2019-03-23 16:22:29,958 - encoder.hidden_size = 128\n",
      "INFO - 2019-03-23 16:22:29,961 - decoder.input_dim = 306\n",
      "INFO - 2019-03-23 16:22:29,961 - decoder.num_layers = 2\n",
      "INFO - 2019-03-23 16:22:29,961 - decoder.hidden_dims = [128, 1]\n",
      "INFO - 2019-03-23 16:22:29,962 - decoder.activations = ['tanh', 'linear']\n",
      "INFO - 2019-03-23 16:22:29,962 - decoder.dropout = 0.0\n",
      "INFO - 2019-03-23 16:22:29,963 - instantiating class <class 'PatientVec.models.modules.Predictor.Predictor'> from params {'type': 'binary'} and extras {}\n",
      "INFO - 2019-03-23 16:22:29,963 - predictor.type = binary\n",
      "INFO - 2019-03-23 16:22:29,963 - instantiating class <class 'PatientVec.models.modules.Predictor.Binary_Predictor'> from params {} and extras {}\n",
      "INFO - 2019-03-23 16:22:29,964 - predictor.replicate = False\n",
      "INFO - 2019-03-23 16:22:29,964 - predictor.alpha = 0.5\n"
     ]
    },
    {
     "name": "stdout",
     "output_type": "stream",
     "text": [
      "============================================================================================================================================================================================================================================================================================================\n",
      "{'model': {'type': 'seq_classifier', 'embedder': {'type': 'token_embedder', 'vocab_size': 29286, 'embed_size': 200, 'embedding_file': './preprocess/Mortality/embedding_matrix.npy'}, 'decoder': {'num_layers': 2, 'hidden_dims': [128, 1], 'activations': ['tanh', 'linear']}, 'predictor': {'type': 'binary'}, 'structured': {'use_structured': True, 'structured_dim': 50}, 'encoder': {'type': 'lstm', 'hidden_size': 128}}, 'training_config': {'type': 'Adam', 'groups': [('.*', {'lr': 0.001, 'weight_decay': 1e-05})], 'common': {'bsize': 32, 'class_weight': True}}, 'exp_config': {'exp_name': 'Mortality_30day/Basic/LSTM(hs=128)+Structured', 'basepath': 'outputs/ts_experiments/n=5000'}}\n",
      "Setting Embedding\n"
     ]
    },
    {
     "data": {
      "application/vnd.jupyter.widget-view+json": {
       "model_id": "21e0739ca1664320aa2427487f12c809",
       "version_major": 2,
       "version_minor": 0
      },
      "text/plain": [
       "HBox(children=(IntProgress(value=0, max=8), HTML(value='')))"
      ]
     },
     "metadata": {},
     "output_type": "display_data"
    },
    {
     "data": {
      "application/vnd.jupyter.widget-view+json": {
       "model_id": "4ae0217381064475b2b10a74fb9cde0e",
       "version_major": 2,
       "version_minor": 0
      },
      "text/plain": [
       "HBox(children=(IntProgress(value=0, max=157), HTML(value='')))"
      ]
     },
     "metadata": {},
     "output_type": "display_data"
    },
    {
     "data": {
      "application/vnd.jupyter.widget-view+json": {
       "model_id": "c830ad3a06bc433f99fb86f6932eb3d3",
       "version_major": 2,
       "version_minor": 0
      },
      "text/plain": [
       "HBox(children=(IntProgress(value=0, max=184), HTML(value='')))"
      ]
     },
     "metadata": {},
     "output_type": "display_data"
    },
    {
     "name": "stdout",
     "output_type": "stream",
     "text": [
      "{'accuracy': 0.7228362523380377, 'roc_auc': 0.837814200027898, 'pr_auc': 0.5181866522338254}\n"
     ]
    },
    {
     "data": {
      "text/html": [
       "<div>\n",
       "<style scoped>\n",
       "    .dataframe tbody tr th:only-of-type {\n",
       "        vertical-align: middle;\n",
       "    }\n",
       "\n",
       "    .dataframe tbody tr th {\n",
       "        vertical-align: top;\n",
       "    }\n",
       "\n",
       "    .dataframe thead th {\n",
       "        text-align: right;\n",
       "    }\n",
       "</style>\n",
       "<table border=\"1\" class=\"dataframe\">\n",
       "  <thead>\n",
       "    <tr style=\"text-align: right;\">\n",
       "      <th></th>\n",
       "      <th>0</th>\n",
       "      <th>1</th>\n",
       "      <th>micro avg</th>\n",
       "      <th>macro avg</th>\n",
       "      <th>weighted avg</th>\n",
       "    </tr>\n",
       "  </thead>\n",
       "  <tbody>\n",
       "    <tr>\n",
       "      <th>f1-score</th>\n",
       "      <td>0.814</td>\n",
       "      <td>0.452</td>\n",
       "      <td>0.723</td>\n",
       "      <td>0.633</td>\n",
       "      <td>0.762</td>\n",
       "    </tr>\n",
       "    <tr>\n",
       "      <th>precision</th>\n",
       "      <td>0.951</td>\n",
       "      <td>0.317</td>\n",
       "      <td>0.723</td>\n",
       "      <td>0.634</td>\n",
       "      <td>0.859</td>\n",
       "    </tr>\n",
       "    <tr>\n",
       "      <th>recall</th>\n",
       "      <td>0.712</td>\n",
       "      <td>0.786</td>\n",
       "      <td>0.723</td>\n",
       "      <td>0.749</td>\n",
       "      <td>0.723</td>\n",
       "    </tr>\n",
       "    <tr>\n",
       "      <th>support</th>\n",
       "      <td>5025.000</td>\n",
       "      <td>856.000</td>\n",
       "      <td>5881.000</td>\n",
       "      <td>5881.000</td>\n",
       "      <td>5881.000</td>\n",
       "    </tr>\n",
       "  </tbody>\n",
       "</table>\n",
       "</div>"
      ],
      "text/plain": [
       "                  0        1  micro avg  macro avg  weighted avg\n",
       "f1-score      0.814    0.452      0.723      0.633         0.762\n",
       "precision     0.951    0.317      0.723      0.634         0.859\n",
       "recall        0.712    0.786      0.723      0.749         0.723\n",
       "support    5025.000  856.000   5881.000   5881.000      5881.000"
      ]
     },
     "metadata": {},
     "output_type": "display_data"
    },
    {
     "name": "stdout",
     "output_type": "stream",
     "text": [
      "Model Saved on  roc_auc 0.837814200027898\n"
     ]
    },
    {
     "data": {
      "application/vnd.jupyter.widget-view+json": {
       "model_id": "f6419160907245699534c1f6086df1f0",
       "version_major": 2,
       "version_minor": 0
      },
      "text/plain": [
       "HBox(children=(IntProgress(value=0, max=157), HTML(value='')))"
      ]
     },
     "metadata": {},
     "output_type": "display_data"
    },
    {
     "data": {
      "application/vnd.jupyter.widget-view+json": {
       "model_id": "85ba392b17a44d3190d7968aebd53931",
       "version_major": 2,
       "version_minor": 0
      },
      "text/plain": [
       "HBox(children=(IntProgress(value=0, max=184), HTML(value='')))"
      ]
     },
     "metadata": {},
     "output_type": "display_data"
    },
    {
     "name": "stdout",
     "output_type": "stream",
     "text": [
      "{'accuracy': 0.8801224281584764, 'roc_auc': 0.8578473287766772, 'pr_auc': 0.6045830234463171}\n"
     ]
    },
    {
     "data": {
      "text/html": [
       "<div>\n",
       "<style scoped>\n",
       "    .dataframe tbody tr th:only-of-type {\n",
       "        vertical-align: middle;\n",
       "    }\n",
       "\n",
       "    .dataframe tbody tr th {\n",
       "        vertical-align: top;\n",
       "    }\n",
       "\n",
       "    .dataframe thead th {\n",
       "        text-align: right;\n",
       "    }\n",
       "</style>\n",
       "<table border=\"1\" class=\"dataframe\">\n",
       "  <thead>\n",
       "    <tr style=\"text-align: right;\">\n",
       "      <th></th>\n",
       "      <th>0</th>\n",
       "      <th>1</th>\n",
       "      <th>micro avg</th>\n",
       "      <th>macro avg</th>\n",
       "      <th>weighted avg</th>\n",
       "    </tr>\n",
       "  </thead>\n",
       "  <tbody>\n",
       "    <tr>\n",
       "      <th>f1-score</th>\n",
       "      <td>0.932</td>\n",
       "      <td>0.513</td>\n",
       "      <td>0.88</td>\n",
       "      <td>0.723</td>\n",
       "      <td>0.871</td>\n",
       "    </tr>\n",
       "    <tr>\n",
       "      <th>precision</th>\n",
       "      <td>0.908</td>\n",
       "      <td>0.627</td>\n",
       "      <td>0.88</td>\n",
       "      <td>0.768</td>\n",
       "      <td>0.868</td>\n",
       "    </tr>\n",
       "    <tr>\n",
       "      <th>recall</th>\n",
       "      <td>0.956</td>\n",
       "      <td>0.435</td>\n",
       "      <td>0.88</td>\n",
       "      <td>0.695</td>\n",
       "      <td>0.880</td>\n",
       "    </tr>\n",
       "    <tr>\n",
       "      <th>support</th>\n",
       "      <td>5025.000</td>\n",
       "      <td>856.000</td>\n",
       "      <td>5881.00</td>\n",
       "      <td>5881.000</td>\n",
       "      <td>5881.000</td>\n",
       "    </tr>\n",
       "  </tbody>\n",
       "</table>\n",
       "</div>"
      ],
      "text/plain": [
       "                  0        1  micro avg  macro avg  weighted avg\n",
       "f1-score      0.932    0.513       0.88      0.723         0.871\n",
       "precision     0.908    0.627       0.88      0.768         0.868\n",
       "recall        0.956    0.435       0.88      0.695         0.880\n",
       "support    5025.000  856.000    5881.00   5881.000      5881.000"
      ]
     },
     "metadata": {},
     "output_type": "display_data"
    },
    {
     "name": "stdout",
     "output_type": "stream",
     "text": [
      "Model Saved on  roc_auc 0.8578473287766772\n"
     ]
    },
    {
     "data": {
      "application/vnd.jupyter.widget-view+json": {
       "model_id": "73d33195653e401fbfece24e59991e58",
       "version_major": 2,
       "version_minor": 0
      },
      "text/plain": [
       "HBox(children=(IntProgress(value=0, max=157), HTML(value='')))"
      ]
     },
     "metadata": {},
     "output_type": "display_data"
    },
    {
     "data": {
      "application/vnd.jupyter.widget-view+json": {
       "model_id": "7273c20b92cf4d17b21ba76d153416ab",
       "version_major": 2,
       "version_minor": 0
      },
      "text/plain": [
       "HBox(children=(IntProgress(value=0, max=184), HTML(value='')))"
      ]
     },
     "metadata": {},
     "output_type": "display_data"
    },
    {
     "name": "stdout",
     "output_type": "stream",
     "text": [
      "{'accuracy': 0.8552967182451964, 'roc_auc': 0.8502624726833126, 'pr_auc': 0.6195759702166285}\n"
     ]
    },
    {
     "data": {
      "text/html": [
       "<div>\n",
       "<style scoped>\n",
       "    .dataframe tbody tr th:only-of-type {\n",
       "        vertical-align: middle;\n",
       "    }\n",
       "\n",
       "    .dataframe tbody tr th {\n",
       "        vertical-align: top;\n",
       "    }\n",
       "\n",
       "    .dataframe thead th {\n",
       "        text-align: right;\n",
       "    }\n",
       "</style>\n",
       "<table border=\"1\" class=\"dataframe\">\n",
       "  <thead>\n",
       "    <tr style=\"text-align: right;\">\n",
       "      <th></th>\n",
       "      <th>0</th>\n",
       "      <th>1</th>\n",
       "      <th>micro avg</th>\n",
       "      <th>macro avg</th>\n",
       "      <th>weighted avg</th>\n",
       "    </tr>\n",
       "  </thead>\n",
       "  <tbody>\n",
       "    <tr>\n",
       "      <th>f1-score</th>\n",
       "      <td>0.914</td>\n",
       "      <td>0.542</td>\n",
       "      <td>0.855</td>\n",
       "      <td>0.728</td>\n",
       "      <td>0.860</td>\n",
       "    </tr>\n",
       "    <tr>\n",
       "      <th>precision</th>\n",
       "      <td>0.928</td>\n",
       "      <td>0.502</td>\n",
       "      <td>0.855</td>\n",
       "      <td>0.715</td>\n",
       "      <td>0.866</td>\n",
       "    </tr>\n",
       "    <tr>\n",
       "      <th>recall</th>\n",
       "      <td>0.901</td>\n",
       "      <td>0.589</td>\n",
       "      <td>0.855</td>\n",
       "      <td>0.745</td>\n",
       "      <td>0.855</td>\n",
       "    </tr>\n",
       "    <tr>\n",
       "      <th>support</th>\n",
       "      <td>5025.000</td>\n",
       "      <td>856.000</td>\n",
       "      <td>5881.000</td>\n",
       "      <td>5881.000</td>\n",
       "      <td>5881.000</td>\n",
       "    </tr>\n",
       "  </tbody>\n",
       "</table>\n",
       "</div>"
      ],
      "text/plain": [
       "                  0        1  micro avg  macro avg  weighted avg\n",
       "f1-score      0.914    0.542      0.855      0.728         0.860\n",
       "precision     0.928    0.502      0.855      0.715         0.866\n",
       "recall        0.901    0.589      0.855      0.745         0.855\n",
       "support    5025.000  856.000   5881.000   5881.000      5881.000"
      ]
     },
     "metadata": {},
     "output_type": "display_data"
    },
    {
     "name": "stdout",
     "output_type": "stream",
     "text": [
      "Model not saved on  roc_auc 0.8502624726833126\n"
     ]
    },
    {
     "data": {
      "application/vnd.jupyter.widget-view+json": {
       "model_id": "24de92bb70fa4ffc95a3345e70f9b3aa",
       "version_major": 2,
       "version_minor": 0
      },
      "text/plain": [
       "HBox(children=(IntProgress(value=0, max=157), HTML(value='')))"
      ]
     },
     "metadata": {},
     "output_type": "display_data"
    },
    {
     "data": {
      "application/vnd.jupyter.widget-view+json": {
       "model_id": "338afd607fe14919ac2a9e41f716fa6b",
       "version_major": 2,
       "version_minor": 0
      },
      "text/plain": [
       "HBox(children=(IntProgress(value=0, max=184), HTML(value='')))"
      ]
     },
     "metadata": {},
     "output_type": "display_data"
    },
    {
     "name": "stdout",
     "output_type": "stream",
     "text": [
      "{'accuracy': 0.8224791702091481, 'roc_auc': 0.8304363695540987, 'pr_auc': 0.5918496965960712}\n"
     ]
    },
    {
     "data": {
      "text/html": [
       "<div>\n",
       "<style scoped>\n",
       "    .dataframe tbody tr th:only-of-type {\n",
       "        vertical-align: middle;\n",
       "    }\n",
       "\n",
       "    .dataframe tbody tr th {\n",
       "        vertical-align: top;\n",
       "    }\n",
       "\n",
       "    .dataframe thead th {\n",
       "        text-align: right;\n",
       "    }\n",
       "</style>\n",
       "<table border=\"1\" class=\"dataframe\">\n",
       "  <thead>\n",
       "    <tr style=\"text-align: right;\">\n",
       "      <th></th>\n",
       "      <th>0</th>\n",
       "      <th>1</th>\n",
       "      <th>micro avg</th>\n",
       "      <th>macro avg</th>\n",
       "      <th>weighted avg</th>\n",
       "    </tr>\n",
       "  </thead>\n",
       "  <tbody>\n",
       "    <tr>\n",
       "      <th>f1-score</th>\n",
       "      <td>0.892</td>\n",
       "      <td>0.509</td>\n",
       "      <td>0.822</td>\n",
       "      <td>0.701</td>\n",
       "      <td>0.836</td>\n",
       "    </tr>\n",
       "    <tr>\n",
       "      <th>precision</th>\n",
       "      <td>0.932</td>\n",
       "      <td>0.426</td>\n",
       "      <td>0.822</td>\n",
       "      <td>0.679</td>\n",
       "      <td>0.858</td>\n",
       "    </tr>\n",
       "    <tr>\n",
       "      <th>recall</th>\n",
       "      <td>0.855</td>\n",
       "      <td>0.633</td>\n",
       "      <td>0.822</td>\n",
       "      <td>0.744</td>\n",
       "      <td>0.822</td>\n",
       "    </tr>\n",
       "    <tr>\n",
       "      <th>support</th>\n",
       "      <td>5025.000</td>\n",
       "      <td>856.000</td>\n",
       "      <td>5881.000</td>\n",
       "      <td>5881.000</td>\n",
       "      <td>5881.000</td>\n",
       "    </tr>\n",
       "  </tbody>\n",
       "</table>\n",
       "</div>"
      ],
      "text/plain": [
       "                  0        1  micro avg  macro avg  weighted avg\n",
       "f1-score      0.892    0.509      0.822      0.701         0.836\n",
       "precision     0.932    0.426      0.822      0.679         0.858\n",
       "recall        0.855    0.633      0.822      0.744         0.822\n",
       "support    5025.000  856.000   5881.000   5881.000      5881.000"
      ]
     },
     "metadata": {},
     "output_type": "display_data"
    },
    {
     "name": "stdout",
     "output_type": "stream",
     "text": [
      "Model not saved on  roc_auc 0.8304363695540987\n"
     ]
    },
    {
     "data": {
      "application/vnd.jupyter.widget-view+json": {
       "model_id": "78cbcef088d14d6aaa59a8fd74bde8d2",
       "version_major": 2,
       "version_minor": 0
      },
      "text/plain": [
       "HBox(children=(IntProgress(value=0, max=157), HTML(value='')))"
      ]
     },
     "metadata": {},
     "output_type": "display_data"
    },
    {
     "data": {
      "application/vnd.jupyter.widget-view+json": {
       "model_id": "b60501bcb8694d6a9bc1bde875c607fd",
       "version_major": 2,
       "version_minor": 0
      },
      "text/plain": [
       "HBox(children=(IntProgress(value=0, max=184), HTML(value='')))"
      ]
     },
     "metadata": {},
     "output_type": "display_data"
    },
    {
     "name": "stdout",
     "output_type": "stream",
     "text": [
      "{'accuracy': 0.8513858187383098, 'roc_auc': 0.8124640814618496, 'pr_auc': 0.583298126066964}\n"
     ]
    },
    {
     "data": {
      "text/html": [
       "<div>\n",
       "<style scoped>\n",
       "    .dataframe tbody tr th:only-of-type {\n",
       "        vertical-align: middle;\n",
       "    }\n",
       "\n",
       "    .dataframe tbody tr th {\n",
       "        vertical-align: top;\n",
       "    }\n",
       "\n",
       "    .dataframe thead th {\n",
       "        text-align: right;\n",
       "    }\n",
       "</style>\n",
       "<table border=\"1\" class=\"dataframe\">\n",
       "  <thead>\n",
       "    <tr style=\"text-align: right;\">\n",
       "      <th></th>\n",
       "      <th>0</th>\n",
       "      <th>1</th>\n",
       "      <th>micro avg</th>\n",
       "      <th>macro avg</th>\n",
       "      <th>weighted avg</th>\n",
       "    </tr>\n",
       "  </thead>\n",
       "  <tbody>\n",
       "    <tr>\n",
       "      <th>f1-score</th>\n",
       "      <td>0.912</td>\n",
       "      <td>0.519</td>\n",
       "      <td>0.851</td>\n",
       "      <td>0.716</td>\n",
       "      <td>0.855</td>\n",
       "    </tr>\n",
       "    <tr>\n",
       "      <th>precision</th>\n",
       "      <td>0.922</td>\n",
       "      <td>0.491</td>\n",
       "      <td>0.851</td>\n",
       "      <td>0.706</td>\n",
       "      <td>0.859</td>\n",
       "    </tr>\n",
       "    <tr>\n",
       "      <th>recall</th>\n",
       "      <td>0.902</td>\n",
       "      <td>0.551</td>\n",
       "      <td>0.851</td>\n",
       "      <td>0.727</td>\n",
       "      <td>0.851</td>\n",
       "    </tr>\n",
       "    <tr>\n",
       "      <th>support</th>\n",
       "      <td>5025.000</td>\n",
       "      <td>856.000</td>\n",
       "      <td>5881.000</td>\n",
       "      <td>5881.000</td>\n",
       "      <td>5881.000</td>\n",
       "    </tr>\n",
       "  </tbody>\n",
       "</table>\n",
       "</div>"
      ],
      "text/plain": [
       "                  0        1  micro avg  macro avg  weighted avg\n",
       "f1-score      0.912    0.519      0.851      0.716         0.855\n",
       "precision     0.922    0.491      0.851      0.706         0.859\n",
       "recall        0.902    0.551      0.851      0.727         0.851\n",
       "support    5025.000  856.000   5881.000   5881.000      5881.000"
      ]
     },
     "metadata": {},
     "output_type": "display_data"
    },
    {
     "name": "stderr",
     "output_type": "stream",
     "text": [
      "INFO - 2019-03-23 16:34:44,787 - instantiating class <class 'PatientVec.models.Model.Model'> from params {'type': 'seq_classifier', 'embedder': {'type': 'token_embedder', 'vocab_size': 29286, 'embed_size': 200, 'embedding_file': './preprocess/Mortality/embedding_matrix.npy'}, 'decoder': {'num_layers': 2, 'hidden_dims': [128, 1], 'activations': ['tanh', 'linear']}, 'predictor': {'type': 'binary'}, 'structured': {'use_structured': True, 'structured_dim': 50}, 'encoder': {'type': 'lstm', 'hidden_size': 128}} and extras {}\n",
      "INFO - 2019-03-23 16:34:44,787 - type = seq_classifier\n",
      "INFO - 2019-03-23 16:34:44,788 - instantiating class <class 'PatientVec.models.modules.Embedder.Embedder'> from params {'type': 'token_embedder', 'vocab_size': 29286, 'embed_size': 200, 'embedding_file': './preprocess/Mortality/embedding_matrix.npy'} and extras {}\n",
      "INFO - 2019-03-23 16:34:44,788 - embedder.type = token_embedder\n",
      "INFO - 2019-03-23 16:34:44,788 - instantiating class <class 'PatientVec.models.modules.Embedder.TokenEmbedder'> from params {'vocab_size': 29286, 'embed_size': 200, 'embedding_file': './preprocess/Mortality/embedding_matrix.npy'} and extras {}\n",
      "INFO - 2019-03-23 16:34:44,788 - embedder.vocab_size = 29286\n",
      "INFO - 2019-03-23 16:34:44,789 - embedder.embed_size = 200\n",
      "INFO - 2019-03-23 16:34:44,789 - embedder.embedding_file = ./preprocess/Mortality/embedding_matrix.npy\n",
      "INFO - 2019-03-23 16:34:44,806 - instantiating class <class 'PatientVec.models.modules.Encoder.Encoder'> from params {'type': 'lstm', 'hidden_size': 128} and extras {'input_size': 200}\n",
      "INFO - 2019-03-23 16:34:44,806 - encoder.type = lstm\n",
      "INFO - 2019-03-23 16:34:44,806 - instantiating class <class 'PatientVec.models.modules.Encoder.wrap_pytorch_rnn.<locals>.BiRNNEncoder'> from params {'hidden_size': 128} and extras {'input_size': 200}\n",
      "INFO - 2019-03-23 16:34:44,806 - encoder.hidden_size = 128\n",
      "INFO - 2019-03-23 16:34:44,809 - decoder.input_dim = 306\n",
      "INFO - 2019-03-23 16:34:44,809 - decoder.num_layers = 2\n",
      "INFO - 2019-03-23 16:34:44,809 - decoder.hidden_dims = [128, 1]\n",
      "INFO - 2019-03-23 16:34:44,810 - decoder.activations = ['tanh', 'linear']\n",
      "INFO - 2019-03-23 16:34:44,810 - decoder.dropout = 0.0\n",
      "INFO - 2019-03-23 16:34:44,811 - instantiating class <class 'PatientVec.models.modules.Predictor.Predictor'> from params {'type': 'binary'} and extras {}\n",
      "INFO - 2019-03-23 16:34:44,811 - predictor.type = binary\n",
      "INFO - 2019-03-23 16:34:44,811 - instantiating class <class 'PatientVec.models.modules.Predictor.Binary_Predictor'> from params {} and extras {}\n",
      "INFO - 2019-03-23 16:34:44,812 - predictor.replicate = False\n",
      "INFO - 2019-03-23 16:34:44,812 - predictor.alpha = 0.5\n"
     ]
    },
    {
     "name": "stdout",
     "output_type": "stream",
     "text": [
      "Model not saved on  roc_auc 0.8124640814618496\n",
      "0.8578473287766772 deque([0.8502624726833126, 0.8304363695540987, 0.8124640814618496], maxlen=3)\n",
      "\n",
      "Setting Embedding\n"
     ]
    },
    {
     "data": {
      "application/vnd.jupyter.widget-view+json": {
       "model_id": "90998e68a0824747bf9e20e42150e809",
       "version_major": 2,
       "version_minor": 0
      },
      "text/plain": [
       "HBox(children=(IntProgress(value=0, max=184), HTML(value='')))"
      ]
     },
     "metadata": {},
     "output_type": "display_data"
    },
    {
     "name": "stdout",
     "output_type": "stream",
     "text": [
      "\n",
      "{'accuracy': 0.8801224281584764, 'roc_auc': 0.8578473287766772, 'pr_auc': 0.6045830234463171}\n"
     ]
    },
    {
     "data": {
      "text/html": [
       "<div>\n",
       "<style scoped>\n",
       "    .dataframe tbody tr th:only-of-type {\n",
       "        vertical-align: middle;\n",
       "    }\n",
       "\n",
       "    .dataframe tbody tr th {\n",
       "        vertical-align: top;\n",
       "    }\n",
       "\n",
       "    .dataframe thead th {\n",
       "        text-align: right;\n",
       "    }\n",
       "</style>\n",
       "<table border=\"1\" class=\"dataframe\">\n",
       "  <thead>\n",
       "    <tr style=\"text-align: right;\">\n",
       "      <th></th>\n",
       "      <th>0</th>\n",
       "      <th>1</th>\n",
       "      <th>micro avg</th>\n",
       "      <th>macro avg</th>\n",
       "      <th>weighted avg</th>\n",
       "    </tr>\n",
       "  </thead>\n",
       "  <tbody>\n",
       "    <tr>\n",
       "      <th>f1-score</th>\n",
       "      <td>0.932</td>\n",
       "      <td>0.513</td>\n",
       "      <td>0.88</td>\n",
       "      <td>0.723</td>\n",
       "      <td>0.871</td>\n",
       "    </tr>\n",
       "    <tr>\n",
       "      <th>precision</th>\n",
       "      <td>0.908</td>\n",
       "      <td>0.627</td>\n",
       "      <td>0.88</td>\n",
       "      <td>0.768</td>\n",
       "      <td>0.868</td>\n",
       "    </tr>\n",
       "    <tr>\n",
       "      <th>recall</th>\n",
       "      <td>0.956</td>\n",
       "      <td>0.435</td>\n",
       "      <td>0.88</td>\n",
       "      <td>0.695</td>\n",
       "      <td>0.880</td>\n",
       "    </tr>\n",
       "    <tr>\n",
       "      <th>support</th>\n",
       "      <td>5025.000</td>\n",
       "      <td>856.000</td>\n",
       "      <td>5881.00</td>\n",
       "      <td>5881.000</td>\n",
       "      <td>5881.000</td>\n",
       "    </tr>\n",
       "  </tbody>\n",
       "</table>\n",
       "</div>"
      ],
      "text/plain": [
       "                  0        1  micro avg  macro avg  weighted avg\n",
       "f1-score      0.932    0.513       0.88      0.723         0.871\n",
       "precision     0.908    0.627       0.88      0.768         0.868\n",
       "recall        0.956    0.435       0.88      0.695         0.880\n",
       "support    5025.000  856.000    5881.00   5881.000      5881.000"
      ]
     },
     "metadata": {},
     "output_type": "display_data"
    },
    {
     "name": "stderr",
     "output_type": "stream",
     "text": [
      "INFO - 2019-03-23 16:36:15,113 - instantiating class <class 'PatientVec.models.Model.Model'> from params {'type': 'seq_classifier_with_attention', 'embedder': {'type': 'token_embedder', 'vocab_size': 29286, 'embed_size': 200, 'embedding_file': './preprocess/Mortality/embedding_matrix.npy'}, 'decoder': {'num_layers': 2, 'hidden_dims': [128, 1], 'activations': ['tanh', 'linear']}, 'predictor': {'type': 'binary'}, 'structured': {'use_structured': True, 'structured_dim': 50}, 'encoder': {'type': 'lstm', 'hidden_size': 128}, 'attention': {'similarity': {'type': 'additive', 'hidden_size': 128}}} and extras {}\n",
      "INFO - 2019-03-23 16:36:15,113 - type = seq_classifier_with_attention\n",
      "INFO - 2019-03-23 16:36:15,114 - instantiating class <class 'PatientVec.models.modules.Embedder.Embedder'> from params {'type': 'token_embedder', 'vocab_size': 29286, 'embed_size': 200, 'embedding_file': './preprocess/Mortality/embedding_matrix.npy'} and extras {}\n",
      "INFO - 2019-03-23 16:36:15,114 - embedder.type = token_embedder\n",
      "INFO - 2019-03-23 16:36:15,114 - instantiating class <class 'PatientVec.models.modules.Embedder.TokenEmbedder'> from params {'vocab_size': 29286, 'embed_size': 200, 'embedding_file': './preprocess/Mortality/embedding_matrix.npy'} and extras {}\n",
      "INFO - 2019-03-23 16:36:15,114 - embedder.vocab_size = 29286\n",
      "INFO - 2019-03-23 16:36:15,115 - embedder.embed_size = 200\n",
      "INFO - 2019-03-23 16:36:15,115 - embedder.embedding_file = ./preprocess/Mortality/embedding_matrix.npy\n",
      "INFO - 2019-03-23 16:36:15,131 - instantiating class <class 'PatientVec.models.modules.Encoder.Encoder'> from params {'type': 'lstm', 'hidden_size': 128} and extras {'input_size': 200}\n",
      "INFO - 2019-03-23 16:36:15,131 - encoder.type = lstm\n",
      "INFO - 2019-03-23 16:36:15,132 - instantiating class <class 'PatientVec.models.modules.Encoder.wrap_pytorch_rnn.<locals>.BiRNNEncoder'> from params {'hidden_size': 128} and extras {'input_size': 200}\n",
      "INFO - 2019-03-23 16:36:15,132 - encoder.hidden_size = 128\n",
      "INFO - 2019-03-23 16:36:15,134 - instantiating class <class 'PatientVec.models.modules.SelfAttention.SelfAttention'> from params {'similarity': {'type': 'additive', 'hidden_size': 128, 'tensor_1_dim': 256}} and extras {}\n",
      "INFO - 2019-03-23 16:36:15,134 - instantiating class <class 'PatientVec.models.modules.UniSimilarity.UniSimilarity'> from params {'type': 'additive', 'hidden_size': 128, 'tensor_1_dim': 256} and extras {}\n",
      "INFO - 2019-03-23 16:36:15,135 - attention.similarity.type = additive\n",
      "INFO - 2019-03-23 16:36:15,135 - instantiating class <class 'PatientVec.models.modules.UniSimilarity.UniAdditiveSimilarity'> from params {'hidden_size': 128, 'tensor_1_dim': 256} and extras {}\n",
      "INFO - 2019-03-23 16:36:15,135 - attention.similarity.tensor_1_dim = 256\n",
      "INFO - 2019-03-23 16:36:15,135 - attention.similarity.hidden_size = 128\n",
      "INFO - 2019-03-23 16:36:15,136 - attention.similarity.output_size = 1\n",
      "INFO - 2019-03-23 16:36:15,137 - attention.normaliser = softmax\n",
      "INFO - 2019-03-23 16:36:15,137 - decoder.input_dim = 306\n",
      "INFO - 2019-03-23 16:36:15,137 - decoder.num_layers = 2\n",
      "INFO - 2019-03-23 16:36:15,137 - decoder.hidden_dims = [128, 1]\n",
      "INFO - 2019-03-23 16:36:15,138 - decoder.activations = ['tanh', 'linear']\n",
      "INFO - 2019-03-23 16:36:15,138 - decoder.dropout = 0.0\n",
      "INFO - 2019-03-23 16:36:15,139 - instantiating class <class 'PatientVec.models.modules.Predictor.Predictor'> from params {'type': 'binary'} and extras {}\n",
      "INFO - 2019-03-23 16:36:15,140 - predictor.type = binary\n",
      "INFO - 2019-03-23 16:36:15,140 - instantiating class <class 'PatientVec.models.modules.Predictor.Binary_Predictor'> from params {} and extras {}\n",
      "INFO - 2019-03-23 16:36:15,140 - predictor.replicate = False\n",
      "INFO - 2019-03-23 16:36:15,140 - predictor.alpha = 0.5\n"
     ]
    },
    {
     "name": "stdout",
     "output_type": "stream",
     "text": [
      "============================================================================================================================================================================================================================================================================================================\n",
      "{'model': {'type': 'seq_classifier_with_attention', 'embedder': {'type': 'token_embedder', 'vocab_size': 29286, 'embed_size': 200, 'embedding_file': './preprocess/Mortality/embedding_matrix.npy'}, 'decoder': {'num_layers': 2, 'hidden_dims': [128, 1], 'activations': ['tanh', 'linear']}, 'predictor': {'type': 'binary'}, 'structured': {'use_structured': True, 'structured_dim': 50}, 'encoder': {'type': 'lstm', 'hidden_size': 128}, 'attention': {'similarity': {'type': 'additive', 'hidden_size': 128}}}, 'training_config': {'type': 'Adam', 'groups': [('.*', {'lr': 0.001, 'weight_decay': 1e-05})], 'common': {'bsize': 32, 'class_weight': True}}, 'exp_config': {'exp_name': 'Mortality_30day/Attention/LSTM(hs=128)+Attention(additive)(hs=128)+Structured', 'basepath': 'outputs/ts_experiments/n=5000'}}\n",
      "Setting Embedding\n"
     ]
    },
    {
     "data": {
      "application/vnd.jupyter.widget-view+json": {
       "model_id": "1f93457c17cd4ce1890da95a994992c2",
       "version_major": 2,
       "version_minor": 0
      },
      "text/plain": [
       "HBox(children=(IntProgress(value=0, max=8), HTML(value='')))"
      ]
     },
     "metadata": {},
     "output_type": "display_data"
    },
    {
     "data": {
      "application/vnd.jupyter.widget-view+json": {
       "model_id": "a860cd5902d545fda3717fd2f2d89d22",
       "version_major": 2,
       "version_minor": 0
      },
      "text/plain": [
       "HBox(children=(IntProgress(value=0, max=157), HTML(value='')))"
      ]
     },
     "metadata": {},
     "output_type": "display_data"
    },
    {
     "data": {
      "application/vnd.jupyter.widget-view+json": {
       "model_id": "1558119ec9614295a757b7edee94abf8",
       "version_major": 2,
       "version_minor": 0
      },
      "text/plain": [
       "HBox(children=(IntProgress(value=0, max=184), HTML(value='')))"
      ]
     },
     "metadata": {},
     "output_type": "display_data"
    },
    {
     "name": "stdout",
     "output_type": "stream",
     "text": [
      "{'accuracy': 0.7855806835572181, 'roc_auc': 0.8831447900683498, 'pr_auc': 0.5871757344700661}\n"
     ]
    },
    {
     "data": {
      "text/html": [
       "<div>\n",
       "<style scoped>\n",
       "    .dataframe tbody tr th:only-of-type {\n",
       "        vertical-align: middle;\n",
       "    }\n",
       "\n",
       "    .dataframe tbody tr th {\n",
       "        vertical-align: top;\n",
       "    }\n",
       "\n",
       "    .dataframe thead th {\n",
       "        text-align: right;\n",
       "    }\n",
       "</style>\n",
       "<table border=\"1\" class=\"dataframe\">\n",
       "  <thead>\n",
       "    <tr style=\"text-align: right;\">\n",
       "      <th></th>\n",
       "      <th>0</th>\n",
       "      <th>1</th>\n",
       "      <th>micro avg</th>\n",
       "      <th>macro avg</th>\n",
       "      <th>weighted avg</th>\n",
       "    </tr>\n",
       "  </thead>\n",
       "  <tbody>\n",
       "    <tr>\n",
       "      <th>f1-score</th>\n",
       "      <td>0.861</td>\n",
       "      <td>0.536</td>\n",
       "      <td>0.786</td>\n",
       "      <td>0.698</td>\n",
       "      <td>0.813</td>\n",
       "    </tr>\n",
       "    <tr>\n",
       "      <th>precision</th>\n",
       "      <td>0.968</td>\n",
       "      <td>0.391</td>\n",
       "      <td>0.786</td>\n",
       "      <td>0.680</td>\n",
       "      <td>0.884</td>\n",
       "    </tr>\n",
       "    <tr>\n",
       "      <th>recall</th>\n",
       "      <td>0.775</td>\n",
       "      <td>0.850</td>\n",
       "      <td>0.786</td>\n",
       "      <td>0.812</td>\n",
       "      <td>0.786</td>\n",
       "    </tr>\n",
       "    <tr>\n",
       "      <th>support</th>\n",
       "      <td>5025.000</td>\n",
       "      <td>856.000</td>\n",
       "      <td>5881.000</td>\n",
       "      <td>5881.000</td>\n",
       "      <td>5881.000</td>\n",
       "    </tr>\n",
       "  </tbody>\n",
       "</table>\n",
       "</div>"
      ],
      "text/plain": [
       "                  0        1  micro avg  macro avg  weighted avg\n",
       "f1-score      0.861    0.536      0.786      0.698         0.813\n",
       "precision     0.968    0.391      0.786      0.680         0.884\n",
       "recall        0.775    0.850      0.786      0.812         0.786\n",
       "support    5025.000  856.000   5881.000   5881.000      5881.000"
      ]
     },
     "metadata": {},
     "output_type": "display_data"
    },
    {
     "name": "stdout",
     "output_type": "stream",
     "text": [
      "Model Saved on  roc_auc 0.8831447900683498\n"
     ]
    },
    {
     "data": {
      "application/vnd.jupyter.widget-view+json": {
       "model_id": "794a240620d14d6ab3decffdc52b19e0",
       "version_major": 2,
       "version_minor": 0
      },
      "text/plain": [
       "HBox(children=(IntProgress(value=0, max=157), HTML(value='')))"
      ]
     },
     "metadata": {},
     "output_type": "display_data"
    },
    {
     "data": {
      "application/vnd.jupyter.widget-view+json": {
       "model_id": "4b9021df954e45fc8dbd33e2fd1b044d",
       "version_major": 2,
       "version_minor": 0
      },
      "text/plain": [
       "HBox(children=(IntProgress(value=0, max=184), HTML(value='')))"
      ]
     },
     "metadata": {},
     "output_type": "display_data"
    },
    {
     "name": "stdout",
     "output_type": "stream",
     "text": [
      "{'accuracy': 0.846794762795443, 'roc_auc': 0.907370856000372, 'pr_auc': 0.685160484504732}\n"
     ]
    },
    {
     "data": {
      "text/html": [
       "<div>\n",
       "<style scoped>\n",
       "    .dataframe tbody tr th:only-of-type {\n",
       "        vertical-align: middle;\n",
       "    }\n",
       "\n",
       "    .dataframe tbody tr th {\n",
       "        vertical-align: top;\n",
       "    }\n",
       "\n",
       "    .dataframe thead th {\n",
       "        text-align: right;\n",
       "    }\n",
       "</style>\n",
       "<table border=\"1\" class=\"dataframe\">\n",
       "  <thead>\n",
       "    <tr style=\"text-align: right;\">\n",
       "      <th></th>\n",
       "      <th>0</th>\n",
       "      <th>1</th>\n",
       "      <th>micro avg</th>\n",
       "      <th>macro avg</th>\n",
       "      <th>weighted avg</th>\n",
       "    </tr>\n",
       "  </thead>\n",
       "  <tbody>\n",
       "    <tr>\n",
       "      <th>f1-score</th>\n",
       "      <td>0.905</td>\n",
       "      <td>0.599</td>\n",
       "      <td>0.847</td>\n",
       "      <td>0.752</td>\n",
       "      <td>0.861</td>\n",
       "    </tr>\n",
       "    <tr>\n",
       "      <th>precision</th>\n",
       "      <td>0.959</td>\n",
       "      <td>0.484</td>\n",
       "      <td>0.847</td>\n",
       "      <td>0.722</td>\n",
       "      <td>0.890</td>\n",
       "    </tr>\n",
       "    <tr>\n",
       "      <th>recall</th>\n",
       "      <td>0.857</td>\n",
       "      <td>0.786</td>\n",
       "      <td>0.847</td>\n",
       "      <td>0.822</td>\n",
       "      <td>0.847</td>\n",
       "    </tr>\n",
       "    <tr>\n",
       "      <th>support</th>\n",
       "      <td>5025.000</td>\n",
       "      <td>856.000</td>\n",
       "      <td>5881.000</td>\n",
       "      <td>5881.000</td>\n",
       "      <td>5881.000</td>\n",
       "    </tr>\n",
       "  </tbody>\n",
       "</table>\n",
       "</div>"
      ],
      "text/plain": [
       "                  0        1  micro avg  macro avg  weighted avg\n",
       "f1-score      0.905    0.599      0.847      0.752         0.861\n",
       "precision     0.959    0.484      0.847      0.722         0.890\n",
       "recall        0.857    0.786      0.847      0.822         0.847\n",
       "support    5025.000  856.000   5881.000   5881.000      5881.000"
      ]
     },
     "metadata": {},
     "output_type": "display_data"
    },
    {
     "name": "stdout",
     "output_type": "stream",
     "text": [
      "Model Saved on  roc_auc 0.907370856000372\n"
     ]
    },
    {
     "data": {
      "application/vnd.jupyter.widget-view+json": {
       "model_id": "ec9bc46ce66d440f950e44d16a9a9aec",
       "version_major": 2,
       "version_minor": 0
      },
      "text/plain": [
       "HBox(children=(IntProgress(value=0, max=157), HTML(value='')))"
      ]
     },
     "metadata": {},
     "output_type": "display_data"
    },
    {
     "data": {
      "application/vnd.jupyter.widget-view+json": {
       "model_id": "a8d3a1206d58456aa692c96c3f52a425",
       "version_major": 2,
       "version_minor": 0
      },
      "text/plain": [
       "HBox(children=(IntProgress(value=0, max=184), HTML(value='')))"
      ]
     },
     "metadata": {},
     "output_type": "display_data"
    },
    {
     "name": "stdout",
     "output_type": "stream",
     "text": [
      "{'accuracy': 0.8224791702091481, 'roc_auc': 0.9206253777839773, 'pr_auc': 0.7483725826655557}\n"
     ]
    },
    {
     "data": {
      "text/html": [
       "<div>\n",
       "<style scoped>\n",
       "    .dataframe tbody tr th:only-of-type {\n",
       "        vertical-align: middle;\n",
       "    }\n",
       "\n",
       "    .dataframe tbody tr th {\n",
       "        vertical-align: top;\n",
       "    }\n",
       "\n",
       "    .dataframe thead th {\n",
       "        text-align: right;\n",
       "    }\n",
       "</style>\n",
       "<table border=\"1\" class=\"dataframe\">\n",
       "  <thead>\n",
       "    <tr style=\"text-align: right;\">\n",
       "      <th></th>\n",
       "      <th>0</th>\n",
       "      <th>1</th>\n",
       "      <th>micro avg</th>\n",
       "      <th>macro avg</th>\n",
       "      <th>weighted avg</th>\n",
       "    </tr>\n",
       "  </thead>\n",
       "  <tbody>\n",
       "    <tr>\n",
       "      <th>f1-score</th>\n",
       "      <td>0.887</td>\n",
       "      <td>0.586</td>\n",
       "      <td>0.822</td>\n",
       "      <td>0.737</td>\n",
       "      <td>0.843</td>\n",
       "    </tr>\n",
       "    <tr>\n",
       "      <th>precision</th>\n",
       "      <td>0.972</td>\n",
       "      <td>0.444</td>\n",
       "      <td>0.822</td>\n",
       "      <td>0.708</td>\n",
       "      <td>0.895</td>\n",
       "    </tr>\n",
       "    <tr>\n",
       "      <th>recall</th>\n",
       "      <td>0.816</td>\n",
       "      <td>0.863</td>\n",
       "      <td>0.822</td>\n",
       "      <td>0.839</td>\n",
       "      <td>0.822</td>\n",
       "    </tr>\n",
       "    <tr>\n",
       "      <th>support</th>\n",
       "      <td>5025.000</td>\n",
       "      <td>856.000</td>\n",
       "      <td>5881.000</td>\n",
       "      <td>5881.000</td>\n",
       "      <td>5881.000</td>\n",
       "    </tr>\n",
       "  </tbody>\n",
       "</table>\n",
       "</div>"
      ],
      "text/plain": [
       "                  0        1  micro avg  macro avg  weighted avg\n",
       "f1-score      0.887    0.586      0.822      0.737         0.843\n",
       "precision     0.972    0.444      0.822      0.708         0.895\n",
       "recall        0.816    0.863      0.822      0.839         0.822\n",
       "support    5025.000  856.000   5881.000   5881.000      5881.000"
      ]
     },
     "metadata": {},
     "output_type": "display_data"
    },
    {
     "name": "stdout",
     "output_type": "stream",
     "text": [
      "Model Saved on  roc_auc 0.9206253777839773\n"
     ]
    },
    {
     "data": {
      "application/vnd.jupyter.widget-view+json": {
       "model_id": "7717d8aa00424c2cb7b156a54282746d",
       "version_major": 2,
       "version_minor": 0
      },
      "text/plain": [
       "HBox(children=(IntProgress(value=0, max=157), HTML(value='')))"
      ]
     },
     "metadata": {},
     "output_type": "display_data"
    },
    {
     "data": {
      "application/vnd.jupyter.widget-view+json": {
       "model_id": "2c73b639190d4fabbd884e907a3196c0",
       "version_major": 2,
       "version_minor": 0
      },
      "text/plain": [
       "HBox(children=(IntProgress(value=0, max=184), HTML(value='')))"
      ]
     },
     "metadata": {},
     "output_type": "display_data"
    },
    {
     "name": "stdout",
     "output_type": "stream",
     "text": [
      "{'accuracy': 0.886243836082299, 'roc_auc': 0.9195285255963174, 'pr_auc': 0.7470424420048833}\n"
     ]
    },
    {
     "data": {
      "text/html": [
       "<div>\n",
       "<style scoped>\n",
       "    .dataframe tbody tr th:only-of-type {\n",
       "        vertical-align: middle;\n",
       "    }\n",
       "\n",
       "    .dataframe tbody tr th {\n",
       "        vertical-align: top;\n",
       "    }\n",
       "\n",
       "    .dataframe thead th {\n",
       "        text-align: right;\n",
       "    }\n",
       "</style>\n",
       "<table border=\"1\" class=\"dataframe\">\n",
       "  <thead>\n",
       "    <tr style=\"text-align: right;\">\n",
       "      <th></th>\n",
       "      <th>0</th>\n",
       "      <th>1</th>\n",
       "      <th>micro avg</th>\n",
       "      <th>macro avg</th>\n",
       "      <th>weighted avg</th>\n",
       "    </tr>\n",
       "  </thead>\n",
       "  <tbody>\n",
       "    <tr>\n",
       "      <th>f1-score</th>\n",
       "      <td>0.932</td>\n",
       "      <td>0.661</td>\n",
       "      <td>0.886</td>\n",
       "      <td>0.796</td>\n",
       "      <td>0.892</td>\n",
       "    </tr>\n",
       "    <tr>\n",
       "      <th>precision</th>\n",
       "      <td>0.957</td>\n",
       "      <td>0.584</td>\n",
       "      <td>0.886</td>\n",
       "      <td>0.770</td>\n",
       "      <td>0.903</td>\n",
       "    </tr>\n",
       "    <tr>\n",
       "      <th>recall</th>\n",
       "      <td>0.907</td>\n",
       "      <td>0.762</td>\n",
       "      <td>0.886</td>\n",
       "      <td>0.835</td>\n",
       "      <td>0.886</td>\n",
       "    </tr>\n",
       "    <tr>\n",
       "      <th>support</th>\n",
       "      <td>5025.000</td>\n",
       "      <td>856.000</td>\n",
       "      <td>5881.000</td>\n",
       "      <td>5881.000</td>\n",
       "      <td>5881.000</td>\n",
       "    </tr>\n",
       "  </tbody>\n",
       "</table>\n",
       "</div>"
      ],
      "text/plain": [
       "                  0        1  micro avg  macro avg  weighted avg\n",
       "f1-score      0.932    0.661      0.886      0.796         0.892\n",
       "precision     0.957    0.584      0.886      0.770         0.903\n",
       "recall        0.907    0.762      0.886      0.835         0.886\n",
       "support    5025.000  856.000   5881.000   5881.000      5881.000"
      ]
     },
     "metadata": {},
     "output_type": "display_data"
    },
    {
     "name": "stdout",
     "output_type": "stream",
     "text": [
      "Model not saved on  roc_auc 0.9195285255963174\n"
     ]
    },
    {
     "data": {
      "application/vnd.jupyter.widget-view+json": {
       "model_id": "a91ff1ea54374e5c96e52ecfea2d086c",
       "version_major": 2,
       "version_minor": 0
      },
      "text/plain": [
       "HBox(children=(IntProgress(value=0, max=157), HTML(value='')))"
      ]
     },
     "metadata": {},
     "output_type": "display_data"
    },
    {
     "data": {
      "application/vnd.jupyter.widget-view+json": {
       "model_id": "80237fff0a6d498c9f1c9699beb21664",
       "version_major": 2,
       "version_minor": 0
      },
      "text/plain": [
       "HBox(children=(IntProgress(value=0, max=184), HTML(value='')))"
      ]
     },
     "metadata": {},
     "output_type": "display_data"
    },
    {
     "name": "stdout",
     "output_type": "stream",
     "text": [
      "{'accuracy': 0.9102193504506036, 'roc_auc': 0.9138933835495421, 'pr_auc': 0.7335951911582996}\n"
     ]
    },
    {
     "data": {
      "text/html": [
       "<div>\n",
       "<style scoped>\n",
       "    .dataframe tbody tr th:only-of-type {\n",
       "        vertical-align: middle;\n",
       "    }\n",
       "\n",
       "    .dataframe tbody tr th {\n",
       "        vertical-align: top;\n",
       "    }\n",
       "\n",
       "    .dataframe thead th {\n",
       "        text-align: right;\n",
       "    }\n",
       "</style>\n",
       "<table border=\"1\" class=\"dataframe\">\n",
       "  <thead>\n",
       "    <tr style=\"text-align: right;\">\n",
       "      <th></th>\n",
       "      <th>0</th>\n",
       "      <th>1</th>\n",
       "      <th>micro avg</th>\n",
       "      <th>macro avg</th>\n",
       "      <th>weighted avg</th>\n",
       "    </tr>\n",
       "  </thead>\n",
       "  <tbody>\n",
       "    <tr>\n",
       "      <th>f1-score</th>\n",
       "      <td>0.949</td>\n",
       "      <td>0.648</td>\n",
       "      <td>0.91</td>\n",
       "      <td>0.798</td>\n",
       "      <td>0.905</td>\n",
       "    </tr>\n",
       "    <tr>\n",
       "      <th>precision</th>\n",
       "      <td>0.929</td>\n",
       "      <td>0.755</td>\n",
       "      <td>0.91</td>\n",
       "      <td>0.842</td>\n",
       "      <td>0.904</td>\n",
       "    </tr>\n",
       "    <tr>\n",
       "      <th>recall</th>\n",
       "      <td>0.969</td>\n",
       "      <td>0.568</td>\n",
       "      <td>0.91</td>\n",
       "      <td>0.768</td>\n",
       "      <td>0.910</td>\n",
       "    </tr>\n",
       "    <tr>\n",
       "      <th>support</th>\n",
       "      <td>5025.000</td>\n",
       "      <td>856.000</td>\n",
       "      <td>5881.00</td>\n",
       "      <td>5881.000</td>\n",
       "      <td>5881.000</td>\n",
       "    </tr>\n",
       "  </tbody>\n",
       "</table>\n",
       "</div>"
      ],
      "text/plain": [
       "                  0        1  micro avg  macro avg  weighted avg\n",
       "f1-score      0.949    0.648       0.91      0.798         0.905\n",
       "precision     0.929    0.755       0.91      0.842         0.904\n",
       "recall        0.969    0.568       0.91      0.768         0.910\n",
       "support    5025.000  856.000    5881.00   5881.000      5881.000"
      ]
     },
     "metadata": {},
     "output_type": "display_data"
    },
    {
     "name": "stdout",
     "output_type": "stream",
     "text": [
      "Model not saved on  roc_auc 0.9138933835495421\n"
     ]
    },
    {
     "data": {
      "application/vnd.jupyter.widget-view+json": {
       "model_id": "f076cf94de4d4ffe8b076b9106391155",
       "version_major": 2,
       "version_minor": 0
      },
      "text/plain": [
       "HBox(children=(IntProgress(value=0, max=157), HTML(value='')))"
      ]
     },
     "metadata": {},
     "output_type": "display_data"
    },
    {
     "data": {
      "application/vnd.jupyter.widget-view+json": {
       "model_id": "b96e7af85d4f4cd3ba597b20f54557b7",
       "version_major": 2,
       "version_minor": 0
      },
      "text/plain": [
       "HBox(children=(IntProgress(value=0, max=184), HTML(value='')))"
      ]
     },
     "metadata": {},
     "output_type": "display_data"
    },
    {
     "name": "stdout",
     "output_type": "stream",
     "text": [
      "{'accuracy': 0.7981635776228533, 'roc_auc': 0.9124017761658993, 'pr_auc': 0.7412486381243559}\n"
     ]
    },
    {
     "data": {
      "text/html": [
       "<div>\n",
       "<style scoped>\n",
       "    .dataframe tbody tr th:only-of-type {\n",
       "        vertical-align: middle;\n",
       "    }\n",
       "\n",
       "    .dataframe tbody tr th {\n",
       "        vertical-align: top;\n",
       "    }\n",
       "\n",
       "    .dataframe thead th {\n",
       "        text-align: right;\n",
       "    }\n",
       "</style>\n",
       "<table border=\"1\" class=\"dataframe\">\n",
       "  <thead>\n",
       "    <tr style=\"text-align: right;\">\n",
       "      <th></th>\n",
       "      <th>0</th>\n",
       "      <th>1</th>\n",
       "      <th>micro avg</th>\n",
       "      <th>macro avg</th>\n",
       "      <th>weighted avg</th>\n",
       "    </tr>\n",
       "  </thead>\n",
       "  <tbody>\n",
       "    <tr>\n",
       "      <th>f1-score</th>\n",
       "      <td>0.870</td>\n",
       "      <td>0.553</td>\n",
       "      <td>0.798</td>\n",
       "      <td>0.711</td>\n",
       "      <td>0.824</td>\n",
       "    </tr>\n",
       "    <tr>\n",
       "      <th>precision</th>\n",
       "      <td>0.970</td>\n",
       "      <td>0.408</td>\n",
       "      <td>0.798</td>\n",
       "      <td>0.689</td>\n",
       "      <td>0.888</td>\n",
       "    </tr>\n",
       "    <tr>\n",
       "      <th>recall</th>\n",
       "      <td>0.788</td>\n",
       "      <td>0.857</td>\n",
       "      <td>0.798</td>\n",
       "      <td>0.823</td>\n",
       "      <td>0.798</td>\n",
       "    </tr>\n",
       "    <tr>\n",
       "      <th>support</th>\n",
       "      <td>5025.000</td>\n",
       "      <td>856.000</td>\n",
       "      <td>5881.000</td>\n",
       "      <td>5881.000</td>\n",
       "      <td>5881.000</td>\n",
       "    </tr>\n",
       "  </tbody>\n",
       "</table>\n",
       "</div>"
      ],
      "text/plain": [
       "                  0        1  micro avg  macro avg  weighted avg\n",
       "f1-score      0.870    0.553      0.798      0.711         0.824\n",
       "precision     0.970    0.408      0.798      0.689         0.888\n",
       "recall        0.788    0.857      0.798      0.823         0.798\n",
       "support    5025.000  856.000   5881.000   5881.000      5881.000"
      ]
     },
     "metadata": {},
     "output_type": "display_data"
    },
    {
     "name": "stderr",
     "output_type": "stream",
     "text": [
      "INFO - 2019-03-23 16:52:06,842 - instantiating class <class 'PatientVec.models.Model.Model'> from params {'type': 'seq_classifier_with_attention', 'embedder': {'type': 'token_embedder', 'vocab_size': 29286, 'embed_size': 200, 'embedding_file': './preprocess/Mortality/embedding_matrix.npy'}, 'decoder': {'num_layers': 2, 'hidden_dims': [128, 1], 'activations': ['tanh', 'linear']}, 'predictor': {'type': 'binary'}, 'structured': {'use_structured': True, 'structured_dim': 50}, 'encoder': {'type': 'lstm', 'hidden_size': 128}, 'attention': {'similarity': {'type': 'additive', 'hidden_size': 128}}} and extras {}\n",
      "INFO - 2019-03-23 16:52:06,842 - type = seq_classifier_with_attention\n",
      "INFO - 2019-03-23 16:52:06,843 - instantiating class <class 'PatientVec.models.modules.Embedder.Embedder'> from params {'type': 'token_embedder', 'vocab_size': 29286, 'embed_size': 200, 'embedding_file': './preprocess/Mortality/embedding_matrix.npy'} and extras {}\n",
      "INFO - 2019-03-23 16:52:06,843 - embedder.type = token_embedder\n",
      "INFO - 2019-03-23 16:52:06,843 - instantiating class <class 'PatientVec.models.modules.Embedder.TokenEmbedder'> from params {'vocab_size': 29286, 'embed_size': 200, 'embedding_file': './preprocess/Mortality/embedding_matrix.npy'} and extras {}\n",
      "INFO - 2019-03-23 16:52:06,844 - embedder.vocab_size = 29286\n",
      "INFO - 2019-03-23 16:52:06,844 - embedder.embed_size = 200\n",
      "INFO - 2019-03-23 16:52:06,844 - embedder.embedding_file = ./preprocess/Mortality/embedding_matrix.npy\n",
      "INFO - 2019-03-23 16:52:06,860 - instantiating class <class 'PatientVec.models.modules.Encoder.Encoder'> from params {'type': 'lstm', 'hidden_size': 128} and extras {'input_size': 200}\n",
      "INFO - 2019-03-23 16:52:06,861 - encoder.type = lstm\n",
      "INFO - 2019-03-23 16:52:06,861 - instantiating class <class 'PatientVec.models.modules.Encoder.wrap_pytorch_rnn.<locals>.BiRNNEncoder'> from params {'hidden_size': 128} and extras {'input_size': 200}\n",
      "INFO - 2019-03-23 16:52:06,862 - encoder.hidden_size = 128\n",
      "INFO - 2019-03-23 16:52:06,864 - instantiating class <class 'PatientVec.models.modules.SelfAttention.SelfAttention'> from params {'similarity': {'type': 'additive', 'hidden_size': 128, 'tensor_1_dim': 256}} and extras {}\n",
      "INFO - 2019-03-23 16:52:06,864 - instantiating class <class 'PatientVec.models.modules.UniSimilarity.UniSimilarity'> from params {'type': 'additive', 'hidden_size': 128, 'tensor_1_dim': 256} and extras {}\n",
      "INFO - 2019-03-23 16:52:06,864 - attention.similarity.type = additive\n",
      "INFO - 2019-03-23 16:52:06,864 - instantiating class <class 'PatientVec.models.modules.UniSimilarity.UniAdditiveSimilarity'> from params {'hidden_size': 128, 'tensor_1_dim': 256} and extras {}\n",
      "INFO - 2019-03-23 16:52:06,865 - attention.similarity.tensor_1_dim = 256\n",
      "INFO - 2019-03-23 16:52:06,865 - attention.similarity.hidden_size = 128\n",
      "INFO - 2019-03-23 16:52:06,865 - attention.similarity.output_size = 1\n",
      "INFO - 2019-03-23 16:52:06,866 - attention.normaliser = softmax\n",
      "INFO - 2019-03-23 16:52:06,867 - decoder.input_dim = 306\n",
      "INFO - 2019-03-23 16:52:06,867 - decoder.num_layers = 2\n",
      "INFO - 2019-03-23 16:52:06,867 - decoder.hidden_dims = [128, 1]\n",
      "INFO - 2019-03-23 16:52:06,867 - decoder.activations = ['tanh', 'linear']\n",
      "INFO - 2019-03-23 16:52:06,868 - decoder.dropout = 0.0\n",
      "INFO - 2019-03-23 16:52:06,869 - instantiating class <class 'PatientVec.models.modules.Predictor.Predictor'> from params {'type': 'binary'} and extras {}\n",
      "INFO - 2019-03-23 16:52:06,869 - predictor.type = binary\n",
      "INFO - 2019-03-23 16:52:06,869 - instantiating class <class 'PatientVec.models.modules.Predictor.Binary_Predictor'> from params {} and extras {}\n",
      "INFO - 2019-03-23 16:52:06,869 - predictor.replicate = False\n",
      "INFO - 2019-03-23 16:52:06,870 - predictor.alpha = 0.5\n"
     ]
    },
    {
     "name": "stdout",
     "output_type": "stream",
     "text": [
      "Model not saved on  roc_auc 0.9124017761658993\n",
      "0.9206253777839773 deque([0.9195285255963174, 0.9138933835495421, 0.9124017761658993], maxlen=3)\n",
      "\n",
      "Setting Embedding\n"
     ]
    },
    {
     "data": {
      "application/vnd.jupyter.widget-view+json": {
       "model_id": "12abe74a300242f3a9d5c6d45476584e",
       "version_major": 2,
       "version_minor": 0
      },
      "text/plain": [
       "HBox(children=(IntProgress(value=0, max=184), HTML(value='')))"
      ]
     },
     "metadata": {},
     "output_type": "display_data"
    },
    {
     "name": "stdout",
     "output_type": "stream",
     "text": [
      "\n",
      "{'accuracy': 0.8224791702091481, 'roc_auc': 0.9206253777839773, 'pr_auc': 0.7483725826655557}\n"
     ]
    },
    {
     "data": {
      "text/html": [
       "<div>\n",
       "<style scoped>\n",
       "    .dataframe tbody tr th:only-of-type {\n",
       "        vertical-align: middle;\n",
       "    }\n",
       "\n",
       "    .dataframe tbody tr th {\n",
       "        vertical-align: top;\n",
       "    }\n",
       "\n",
       "    .dataframe thead th {\n",
       "        text-align: right;\n",
       "    }\n",
       "</style>\n",
       "<table border=\"1\" class=\"dataframe\">\n",
       "  <thead>\n",
       "    <tr style=\"text-align: right;\">\n",
       "      <th></th>\n",
       "      <th>0</th>\n",
       "      <th>1</th>\n",
       "      <th>micro avg</th>\n",
       "      <th>macro avg</th>\n",
       "      <th>weighted avg</th>\n",
       "    </tr>\n",
       "  </thead>\n",
       "  <tbody>\n",
       "    <tr>\n",
       "      <th>f1-score</th>\n",
       "      <td>0.887</td>\n",
       "      <td>0.586</td>\n",
       "      <td>0.822</td>\n",
       "      <td>0.737</td>\n",
       "      <td>0.843</td>\n",
       "    </tr>\n",
       "    <tr>\n",
       "      <th>precision</th>\n",
       "      <td>0.972</td>\n",
       "      <td>0.444</td>\n",
       "      <td>0.822</td>\n",
       "      <td>0.708</td>\n",
       "      <td>0.895</td>\n",
       "    </tr>\n",
       "    <tr>\n",
       "      <th>recall</th>\n",
       "      <td>0.816</td>\n",
       "      <td>0.863</td>\n",
       "      <td>0.822</td>\n",
       "      <td>0.839</td>\n",
       "      <td>0.822</td>\n",
       "    </tr>\n",
       "    <tr>\n",
       "      <th>support</th>\n",
       "      <td>5025.000</td>\n",
       "      <td>856.000</td>\n",
       "      <td>5881.000</td>\n",
       "      <td>5881.000</td>\n",
       "      <td>5881.000</td>\n",
       "    </tr>\n",
       "  </tbody>\n",
       "</table>\n",
       "</div>"
      ],
      "text/plain": [
       "                  0        1  micro avg  macro avg  weighted avg\n",
       "f1-score      0.887    0.586      0.822      0.737         0.843\n",
       "precision     0.972    0.444      0.822      0.708         0.895\n",
       "recall        0.816    0.863      0.822      0.839         0.822\n",
       "support    5025.000  856.000   5881.000   5881.000      5881.000"
      ]
     },
     "metadata": {},
     "output_type": "display_data"
    },
    {
     "name": "stdout",
     "output_type": "stream",
     "text": [
      "============================================================================================================================================================================================================================================================================================================\n"
     ]
    },
    {
     "name": "stderr",
     "output_type": "stream",
     "text": [
      "INFO - 2019-03-23 16:53:39,673 - Reading Structured data ...\n",
      "INFO - 2019-03-23 16:53:39,746 - Reading Notes ...\n",
      "INFO - 2019-03-23 16:53:49,702 - Stratifying ...\n"
     ]
    },
    {
     "name": "stdout",
     "output_type": "stream",
     "text": [
      "Pos Percentage [0.15129873]\n"
     ]
    },
    {
     "name": "stderr",
     "output_type": "stream",
     "text": [
      "INFO - 2019-03-23 16:53:53,383 - Maximum Sentence Length 721825.000000 , 90 percentile length 18596.000000 ... \n",
      "INFO - 2019-03-23 16:54:06,244 - Truncated all ...\n",
      "INFO - 2019-03-23 16:54:06,286 - Idxs removed []...\n"
     ]
    },
    {
     "name": "stdout",
     "output_type": "stream",
     "text": [
      "Pos Percentage [0.14555348]\n"
     ]
    },
    {
     "name": "stderr",
     "output_type": "stream",
     "text": [
      "INFO - 2019-03-23 16:54:07,377 - Maximum Sentence Length 420764.000000 , 90 percentile length 17662.000000 ... \n",
      "INFO - 2019-03-23 16:54:09,190 - Truncated all ...\n",
      "INFO - 2019-03-23 16:54:09,202 - Idxs removed []...\n",
      "INFO - 2019-03-23 16:54:09,423 - instantiating class <class 'PatientVec.models.Model.Model'> from params {'type': 'seq_classifier', 'embedder': {'type': 'token_embedder', 'vocab_size': 29286, 'embed_size': 200, 'embedding_file': './preprocess/Mortality/embedding_matrix.npy'}, 'decoder': {'num_layers': 2, 'hidden_dims': [128, 1], 'activations': ['tanh', 'linear']}, 'predictor': {'type': 'binary'}, 'structured': {'use_structured': True, 'structured_dim': 50}, 'encoder': {'type': 'average', 'projection': True, 'hidden_size': 256, 'activation': 'relu'}} and extras {}\n",
      "INFO - 2019-03-23 16:54:09,424 - type = seq_classifier\n",
      "INFO - 2019-03-23 16:54:09,424 - instantiating class <class 'PatientVec.models.modules.Embedder.Embedder'> from params {'type': 'token_embedder', 'vocab_size': 29286, 'embed_size': 200, 'embedding_file': './preprocess/Mortality/embedding_matrix.npy'} and extras {}\n",
      "INFO - 2019-03-23 16:54:09,424 - embedder.type = token_embedder\n",
      "INFO - 2019-03-23 16:54:09,425 - instantiating class <class 'PatientVec.models.modules.Embedder.TokenEmbedder'> from params {'vocab_size': 29286, 'embed_size': 200, 'embedding_file': './preprocess/Mortality/embedding_matrix.npy'} and extras {}\n",
      "INFO - 2019-03-23 16:54:09,425 - embedder.vocab_size = 29286\n",
      "INFO - 2019-03-23 16:54:09,425 - embedder.embed_size = 200\n",
      "INFO - 2019-03-23 16:54:09,425 - embedder.embedding_file = ./preprocess/Mortality/embedding_matrix.npy\n",
      "INFO - 2019-03-23 16:54:09,455 - instantiating class <class 'PatientVec.models.modules.Encoder.Encoder'> from params {'type': 'average', 'projection': True, 'hidden_size': 256, 'activation': 'relu'} and extras {'input_size': 200}\n",
      "INFO - 2019-03-23 16:54:09,456 - encoder.type = average\n",
      "INFO - 2019-03-23 16:54:09,456 - instantiating class <class 'PatientVec.models.modules.Encoder.AverageEncoder'> from params {'projection': True, 'hidden_size': 256, 'activation': 'relu'} and extras {'input_size': 200}\n",
      "INFO - 2019-03-23 16:54:09,456 - encoder.projection = True\n",
      "INFO - 2019-03-23 16:54:09,457 - encoder.hidden_size = 256\n",
      "INFO - 2019-03-23 16:54:09,457 - encoder.activation = relu\n",
      "INFO - 2019-03-23 16:54:09,458 - decoder.input_dim = 306\n",
      "INFO - 2019-03-23 16:54:09,458 - decoder.num_layers = 2\n",
      "INFO - 2019-03-23 16:54:09,458 - decoder.hidden_dims = [128, 1]\n",
      "INFO - 2019-03-23 16:54:09,458 - decoder.activations = ['tanh', 'linear']\n",
      "INFO - 2019-03-23 16:54:09,459 - decoder.dropout = 0.0\n",
      "INFO - 2019-03-23 16:54:09,460 - instantiating class <class 'PatientVec.models.modules.Predictor.Predictor'> from params {'type': 'binary'} and extras {}\n",
      "INFO - 2019-03-23 16:54:09,460 - predictor.type = binary\n",
      "INFO - 2019-03-23 16:54:09,461 - instantiating class <class 'PatientVec.models.modules.Predictor.Binary_Predictor'> from params {} and extras {}\n",
      "INFO - 2019-03-23 16:54:09,461 - predictor.replicate = False\n",
      "INFO - 2019-03-23 16:54:09,461 - predictor.alpha = 0.5\n"
     ]
    },
    {
     "name": "stdout",
     "output_type": "stream",
     "text": [
      "{'model': {'type': 'seq_classifier', 'embedder': {'type': 'token_embedder', 'vocab_size': 29286, 'embed_size': 200, 'embedding_file': './preprocess/Mortality/embedding_matrix.npy'}, 'decoder': {'num_layers': 2, 'hidden_dims': [128, 1], 'activations': ['tanh', 'linear']}, 'predictor': {'type': 'binary'}, 'structured': {'use_structured': True, 'structured_dim': 50}, 'encoder': {'type': 'average', 'projection': True, 'hidden_size': 256, 'activation': 'relu'}}, 'training_config': {'type': 'Adam', 'groups': [('.*', {'lr': 0.001, 'weight_decay': 1e-05})], 'common': {'bsize': 32, 'class_weight': True}}, 'exp_config': {'exp_name': 'Mortality_30day/Basic/Average(hs=256)+Structured', 'basepath': 'outputs/ts_experiments/n=7000'}}\n",
      "Setting Embedding\n"
     ]
    },
    {
     "data": {
      "application/vnd.jupyter.widget-view+json": {
       "model_id": "a1466583c5ae4694b9fba0a4da0b8fad",
       "version_major": 2,
       "version_minor": 0
      },
      "text/plain": [
       "HBox(children=(IntProgress(value=0, max=8), HTML(value='')))"
      ]
     },
     "metadata": {},
     "output_type": "display_data"
    },
    {
     "data": {
      "application/vnd.jupyter.widget-view+json": {
       "model_id": "9e71e2fb6d5a4dd7b46e2b955a8be673",
       "version_major": 2,
       "version_minor": 0
      },
      "text/plain": [
       "HBox(children=(IntProgress(value=0, max=219), HTML(value='')))"
      ]
     },
     "metadata": {},
     "output_type": "display_data"
    },
    {
     "data": {
      "application/vnd.jupyter.widget-view+json": {
       "model_id": "d2d4d8ae59af4e03a114dffd65d7727b",
       "version_major": 2,
       "version_minor": 0
      },
      "text/plain": [
       "HBox(children=(IntProgress(value=0, max=184), HTML(value='')))"
      ]
     },
     "metadata": {},
     "output_type": "display_data"
    },
    {
     "name": "stdout",
     "output_type": "stream",
     "text": [
      "{'accuracy': 0.5153885393640537, 'roc_auc': 0.8091924722183476, 'pr_auc': 0.4202895778153177}\n"
     ]
    },
    {
     "data": {
      "text/html": [
       "<div>\n",
       "<style scoped>\n",
       "    .dataframe tbody tr th:only-of-type {\n",
       "        vertical-align: middle;\n",
       "    }\n",
       "\n",
       "    .dataframe tbody tr th {\n",
       "        vertical-align: top;\n",
       "    }\n",
       "\n",
       "    .dataframe thead th {\n",
       "        text-align: right;\n",
       "    }\n",
       "</style>\n",
       "<table border=\"1\" class=\"dataframe\">\n",
       "  <thead>\n",
       "    <tr style=\"text-align: right;\">\n",
       "      <th></th>\n",
       "      <th>0</th>\n",
       "      <th>1</th>\n",
       "      <th>micro avg</th>\n",
       "      <th>macro avg</th>\n",
       "      <th>weighted avg</th>\n",
       "    </tr>\n",
       "  </thead>\n",
       "  <tbody>\n",
       "    <tr>\n",
       "      <th>f1-score</th>\n",
       "      <td>0.611</td>\n",
       "      <td>0.359</td>\n",
       "      <td>0.515</td>\n",
       "      <td>0.485</td>\n",
       "      <td>0.574</td>\n",
       "    </tr>\n",
       "    <tr>\n",
       "      <th>precision</th>\n",
       "      <td>0.974</td>\n",
       "      <td>0.222</td>\n",
       "      <td>0.515</td>\n",
       "      <td>0.598</td>\n",
       "      <td>0.865</td>\n",
       "    </tr>\n",
       "    <tr>\n",
       "      <th>recall</th>\n",
       "      <td>0.445</td>\n",
       "      <td>0.931</td>\n",
       "      <td>0.515</td>\n",
       "      <td>0.688</td>\n",
       "      <td>0.515</td>\n",
       "    </tr>\n",
       "    <tr>\n",
       "      <th>support</th>\n",
       "      <td>5025.000</td>\n",
       "      <td>856.000</td>\n",
       "      <td>5881.000</td>\n",
       "      <td>5881.000</td>\n",
       "      <td>5881.000</td>\n",
       "    </tr>\n",
       "  </tbody>\n",
       "</table>\n",
       "</div>"
      ],
      "text/plain": [
       "                  0        1  micro avg  macro avg  weighted avg\n",
       "f1-score      0.611    0.359      0.515      0.485         0.574\n",
       "precision     0.974    0.222      0.515      0.598         0.865\n",
       "recall        0.445    0.931      0.515      0.688         0.515\n",
       "support    5025.000  856.000   5881.000   5881.000      5881.000"
      ]
     },
     "metadata": {},
     "output_type": "display_data"
    },
    {
     "name": "stdout",
     "output_type": "stream",
     "text": [
      "Model Saved on  roc_auc 0.8091924722183476\n"
     ]
    },
    {
     "data": {
      "application/vnd.jupyter.widget-view+json": {
       "model_id": "efe8bb28515f45c6834aab8e427f683e",
       "version_major": 2,
       "version_minor": 0
      },
      "text/plain": [
       "HBox(children=(IntProgress(value=0, max=219), HTML(value='')))"
      ]
     },
     "metadata": {},
     "output_type": "display_data"
    },
    {
     "data": {
      "application/vnd.jupyter.widget-view+json": {
       "model_id": "b75612cf015d4815943a56ec0a6c412c",
       "version_major": 2,
       "version_minor": 0
      },
      "text/plain": [
       "HBox(children=(IntProgress(value=0, max=184), HTML(value='')))"
      ]
     },
     "metadata": {},
     "output_type": "display_data"
    },
    {
     "name": "stdout",
     "output_type": "stream",
     "text": [
      "{'accuracy': 0.545825539874171, 'roc_auc': 0.8484202817687264, 'pr_auc': 0.5263671155862037}\n"
     ]
    },
    {
     "data": {
      "text/html": [
       "<div>\n",
       "<style scoped>\n",
       "    .dataframe tbody tr th:only-of-type {\n",
       "        vertical-align: middle;\n",
       "    }\n",
       "\n",
       "    .dataframe tbody tr th {\n",
       "        vertical-align: top;\n",
       "    }\n",
       "\n",
       "    .dataframe thead th {\n",
       "        text-align: right;\n",
       "    }\n",
       "</style>\n",
       "<table border=\"1\" class=\"dataframe\">\n",
       "  <thead>\n",
       "    <tr style=\"text-align: right;\">\n",
       "      <th></th>\n",
       "      <th>0</th>\n",
       "      <th>1</th>\n",
       "      <th>micro avg</th>\n",
       "      <th>macro avg</th>\n",
       "      <th>weighted avg</th>\n",
       "    </tr>\n",
       "  </thead>\n",
       "  <tbody>\n",
       "    <tr>\n",
       "      <th>f1-score</th>\n",
       "      <td>0.643</td>\n",
       "      <td>0.377</td>\n",
       "      <td>0.546</td>\n",
       "      <td>0.510</td>\n",
       "      <td>0.604</td>\n",
       "    </tr>\n",
       "    <tr>\n",
       "      <th>precision</th>\n",
       "      <td>0.981</td>\n",
       "      <td>0.236</td>\n",
       "      <td>0.546</td>\n",
       "      <td>0.608</td>\n",
       "      <td>0.872</td>\n",
       "    </tr>\n",
       "    <tr>\n",
       "      <th>recall</th>\n",
       "      <td>0.478</td>\n",
       "      <td>0.945</td>\n",
       "      <td>0.546</td>\n",
       "      <td>0.711</td>\n",
       "      <td>0.546</td>\n",
       "    </tr>\n",
       "    <tr>\n",
       "      <th>support</th>\n",
       "      <td>5025.000</td>\n",
       "      <td>856.000</td>\n",
       "      <td>5881.000</td>\n",
       "      <td>5881.000</td>\n",
       "      <td>5881.000</td>\n",
       "    </tr>\n",
       "  </tbody>\n",
       "</table>\n",
       "</div>"
      ],
      "text/plain": [
       "                  0        1  micro avg  macro avg  weighted avg\n",
       "f1-score      0.643    0.377      0.546      0.510         0.604\n",
       "precision     0.981    0.236      0.546      0.608         0.872\n",
       "recall        0.478    0.945      0.546      0.711         0.546\n",
       "support    5025.000  856.000   5881.000   5881.000      5881.000"
      ]
     },
     "metadata": {},
     "output_type": "display_data"
    },
    {
     "name": "stdout",
     "output_type": "stream",
     "text": [
      "Model Saved on  roc_auc 0.8484202817687264\n"
     ]
    },
    {
     "data": {
      "application/vnd.jupyter.widget-view+json": {
       "model_id": "fb8140a72da5468db27e545b67d64a69",
       "version_major": 2,
       "version_minor": 0
      },
      "text/plain": [
       "HBox(children=(IntProgress(value=0, max=219), HTML(value='')))"
      ]
     },
     "metadata": {},
     "output_type": "display_data"
    },
    {
     "data": {
      "application/vnd.jupyter.widget-view+json": {
       "model_id": "1d95b8392d564ada96cbf8101e72583b",
       "version_major": 2,
       "version_minor": 0
      },
      "text/plain": [
       "HBox(children=(IntProgress(value=0, max=184), HTML(value='')))"
      ]
     },
     "metadata": {},
     "output_type": "display_data"
    },
    {
     "name": "stdout",
     "output_type": "stream",
     "text": [
      "{'accuracy': 0.5920761775208297, 'roc_auc': 0.8601908680894592, 'pr_auc': 0.5586840083649187}\n"
     ]
    },
    {
     "data": {
      "text/html": [
       "<div>\n",
       "<style scoped>\n",
       "    .dataframe tbody tr th:only-of-type {\n",
       "        vertical-align: middle;\n",
       "    }\n",
       "\n",
       "    .dataframe tbody tr th {\n",
       "        vertical-align: top;\n",
       "    }\n",
       "\n",
       "    .dataframe thead th {\n",
       "        text-align: right;\n",
       "    }\n",
       "</style>\n",
       "<table border=\"1\" class=\"dataframe\">\n",
       "  <thead>\n",
       "    <tr style=\"text-align: right;\">\n",
       "      <th></th>\n",
       "      <th>0</th>\n",
       "      <th>1</th>\n",
       "      <th>micro avg</th>\n",
       "      <th>macro avg</th>\n",
       "      <th>weighted avg</th>\n",
       "    </tr>\n",
       "  </thead>\n",
       "  <tbody>\n",
       "    <tr>\n",
       "      <th>f1-score</th>\n",
       "      <td>0.691</td>\n",
       "      <td>0.399</td>\n",
       "      <td>0.592</td>\n",
       "      <td>0.545</td>\n",
       "      <td>0.649</td>\n",
       "    </tr>\n",
       "    <tr>\n",
       "      <th>precision</th>\n",
       "      <td>0.979</td>\n",
       "      <td>0.254</td>\n",
       "      <td>0.592</td>\n",
       "      <td>0.617</td>\n",
       "      <td>0.873</td>\n",
       "    </tr>\n",
       "    <tr>\n",
       "      <th>recall</th>\n",
       "      <td>0.534</td>\n",
       "      <td>0.932</td>\n",
       "      <td>0.592</td>\n",
       "      <td>0.733</td>\n",
       "      <td>0.592</td>\n",
       "    </tr>\n",
       "    <tr>\n",
       "      <th>support</th>\n",
       "      <td>5025.000</td>\n",
       "      <td>856.000</td>\n",
       "      <td>5881.000</td>\n",
       "      <td>5881.000</td>\n",
       "      <td>5881.000</td>\n",
       "    </tr>\n",
       "  </tbody>\n",
       "</table>\n",
       "</div>"
      ],
      "text/plain": [
       "                  0        1  micro avg  macro avg  weighted avg\n",
       "f1-score      0.691    0.399      0.592      0.545         0.649\n",
       "precision     0.979    0.254      0.592      0.617         0.873\n",
       "recall        0.534    0.932      0.592      0.733         0.592\n",
       "support    5025.000  856.000   5881.000   5881.000      5881.000"
      ]
     },
     "metadata": {},
     "output_type": "display_data"
    },
    {
     "name": "stdout",
     "output_type": "stream",
     "text": [
      "Model Saved on  roc_auc 0.8601908680894592\n"
     ]
    },
    {
     "data": {
      "application/vnd.jupyter.widget-view+json": {
       "model_id": "dde341c7ee824400a476235bbf13a106",
       "version_major": 2,
       "version_minor": 0
      },
      "text/plain": [
       "HBox(children=(IntProgress(value=0, max=219), HTML(value='')))"
      ]
     },
     "metadata": {},
     "output_type": "display_data"
    },
    {
     "data": {
      "application/vnd.jupyter.widget-view+json": {
       "model_id": "51ee1a15130243d18cd93eebd0a3a6ef",
       "version_major": 2,
       "version_minor": 0
      },
      "text/plain": [
       "HBox(children=(IntProgress(value=0, max=184), HTML(value='')))"
      ]
     },
     "metadata": {},
     "output_type": "display_data"
    },
    {
     "name": "stdout",
     "output_type": "stream",
     "text": [
      "{'accuracy': 0.7019214419316443, 'roc_auc': 0.8555182033756452, 'pr_auc': 0.5713456081334195}\n"
     ]
    },
    {
     "data": {
      "text/html": [
       "<div>\n",
       "<style scoped>\n",
       "    .dataframe tbody tr th:only-of-type {\n",
       "        vertical-align: middle;\n",
       "    }\n",
       "\n",
       "    .dataframe tbody tr th {\n",
       "        vertical-align: top;\n",
       "    }\n",
       "\n",
       "    .dataframe thead th {\n",
       "        text-align: right;\n",
       "    }\n",
       "</style>\n",
       "<table border=\"1\" class=\"dataframe\">\n",
       "  <thead>\n",
       "    <tr style=\"text-align: right;\">\n",
       "      <th></th>\n",
       "      <th>0</th>\n",
       "      <th>1</th>\n",
       "      <th>micro avg</th>\n",
       "      <th>macro avg</th>\n",
       "      <th>weighted avg</th>\n",
       "    </tr>\n",
       "  </thead>\n",
       "  <tbody>\n",
       "    <tr>\n",
       "      <th>f1-score</th>\n",
       "      <td>0.794</td>\n",
       "      <td>0.458</td>\n",
       "      <td>0.702</td>\n",
       "      <td>0.626</td>\n",
       "      <td>0.745</td>\n",
       "    </tr>\n",
       "    <tr>\n",
       "      <th>precision</th>\n",
       "      <td>0.967</td>\n",
       "      <td>0.311</td>\n",
       "      <td>0.702</td>\n",
       "      <td>0.639</td>\n",
       "      <td>0.872</td>\n",
       "    </tr>\n",
       "    <tr>\n",
       "      <th>recall</th>\n",
       "      <td>0.674</td>\n",
       "      <td>0.866</td>\n",
       "      <td>0.702</td>\n",
       "      <td>0.770</td>\n",
       "      <td>0.702</td>\n",
       "    </tr>\n",
       "    <tr>\n",
       "      <th>support</th>\n",
       "      <td>5025.000</td>\n",
       "      <td>856.000</td>\n",
       "      <td>5881.000</td>\n",
       "      <td>5881.000</td>\n",
       "      <td>5881.000</td>\n",
       "    </tr>\n",
       "  </tbody>\n",
       "</table>\n",
       "</div>"
      ],
      "text/plain": [
       "                  0        1  micro avg  macro avg  weighted avg\n",
       "f1-score      0.794    0.458      0.702      0.626         0.745\n",
       "precision     0.967    0.311      0.702      0.639         0.872\n",
       "recall        0.674    0.866      0.702      0.770         0.702\n",
       "support    5025.000  856.000   5881.000   5881.000      5881.000"
      ]
     },
     "metadata": {},
     "output_type": "display_data"
    },
    {
     "name": "stdout",
     "output_type": "stream",
     "text": [
      "Model not saved on  roc_auc 0.8555182033756452\n"
     ]
    },
    {
     "data": {
      "application/vnd.jupyter.widget-view+json": {
       "model_id": "ee4c702c4dd94351a828b4a2a775061a",
       "version_major": 2,
       "version_minor": 0
      },
      "text/plain": [
       "HBox(children=(IntProgress(value=0, max=219), HTML(value='')))"
      ]
     },
     "metadata": {},
     "output_type": "display_data"
    },
    {
     "data": {
      "application/vnd.jupyter.widget-view+json": {
       "model_id": "d08171002de94596ac32bce83bcd1a87",
       "version_major": 2,
       "version_minor": 0
      },
      "text/plain": [
       "HBox(children=(IntProgress(value=0, max=184), HTML(value='')))"
      ]
     },
     "metadata": {},
     "output_type": "display_data"
    },
    {
     "name": "stdout",
     "output_type": "stream",
     "text": [
      "{'accuracy': 0.7522530181941847, 'roc_auc': 0.868208257776538, 'pr_auc': 0.6006355926753606}\n"
     ]
    },
    {
     "data": {
      "text/html": [
       "<div>\n",
       "<style scoped>\n",
       "    .dataframe tbody tr th:only-of-type {\n",
       "        vertical-align: middle;\n",
       "    }\n",
       "\n",
       "    .dataframe tbody tr th {\n",
       "        vertical-align: top;\n",
       "    }\n",
       "\n",
       "    .dataframe thead th {\n",
       "        text-align: right;\n",
       "    }\n",
       "</style>\n",
       "<table border=\"1\" class=\"dataframe\">\n",
       "  <thead>\n",
       "    <tr style=\"text-align: right;\">\n",
       "      <th></th>\n",
       "      <th>0</th>\n",
       "      <th>1</th>\n",
       "      <th>micro avg</th>\n",
       "      <th>macro avg</th>\n",
       "      <th>weighted avg</th>\n",
       "    </tr>\n",
       "  </thead>\n",
       "  <tbody>\n",
       "    <tr>\n",
       "      <th>f1-score</th>\n",
       "      <td>0.836</td>\n",
       "      <td>0.496</td>\n",
       "      <td>0.752</td>\n",
       "      <td>0.666</td>\n",
       "      <td>0.786</td>\n",
       "    </tr>\n",
       "    <tr>\n",
       "      <th>precision</th>\n",
       "      <td>0.964</td>\n",
       "      <td>0.352</td>\n",
       "      <td>0.752</td>\n",
       "      <td>0.658</td>\n",
       "      <td>0.875</td>\n",
       "    </tr>\n",
       "    <tr>\n",
       "      <th>recall</th>\n",
       "      <td>0.738</td>\n",
       "      <td>0.836</td>\n",
       "      <td>0.752</td>\n",
       "      <td>0.787</td>\n",
       "      <td>0.752</td>\n",
       "    </tr>\n",
       "    <tr>\n",
       "      <th>support</th>\n",
       "      <td>5025.000</td>\n",
       "      <td>856.000</td>\n",
       "      <td>5881.000</td>\n",
       "      <td>5881.000</td>\n",
       "      <td>5881.000</td>\n",
       "    </tr>\n",
       "  </tbody>\n",
       "</table>\n",
       "</div>"
      ],
      "text/plain": [
       "                  0        1  micro avg  macro avg  weighted avg\n",
       "f1-score      0.836    0.496      0.752      0.666         0.786\n",
       "precision     0.964    0.352      0.752      0.658         0.875\n",
       "recall        0.738    0.836      0.752      0.787         0.752\n",
       "support    5025.000  856.000   5881.000   5881.000      5881.000"
      ]
     },
     "metadata": {},
     "output_type": "display_data"
    },
    {
     "name": "stdout",
     "output_type": "stream",
     "text": [
      "Model Saved on  roc_auc 0.868208257776538\n"
     ]
    },
    {
     "data": {
      "application/vnd.jupyter.widget-view+json": {
       "model_id": "de3a851f02984183bfb50f8749408bca",
       "version_major": 2,
       "version_minor": 0
      },
      "text/plain": [
       "HBox(children=(IntProgress(value=0, max=219), HTML(value='')))"
      ]
     },
     "metadata": {},
     "output_type": "display_data"
    },
    {
     "data": {
      "application/vnd.jupyter.widget-view+json": {
       "model_id": "929e5e0495304b0fa04f1015357c3526",
       "version_major": 2,
       "version_minor": 0
      },
      "text/plain": [
       "HBox(children=(IntProgress(value=0, max=184), HTML(value='')))"
      ]
     },
     "metadata": {},
     "output_type": "display_data"
    },
    {
     "name": "stdout",
     "output_type": "stream",
     "text": [
      "{'accuracy': 0.8835232103383778, 'roc_auc': 0.8786288185242014, 'pr_auc': 0.6203527422296367}\n"
     ]
    },
    {
     "data": {
      "text/html": [
       "<div>\n",
       "<style scoped>\n",
       "    .dataframe tbody tr th:only-of-type {\n",
       "        vertical-align: middle;\n",
       "    }\n",
       "\n",
       "    .dataframe tbody tr th {\n",
       "        vertical-align: top;\n",
       "    }\n",
       "\n",
       "    .dataframe thead th {\n",
       "        text-align: right;\n",
       "    }\n",
       "</style>\n",
       "<table border=\"1\" class=\"dataframe\">\n",
       "  <thead>\n",
       "    <tr style=\"text-align: right;\">\n",
       "      <th></th>\n",
       "      <th>0</th>\n",
       "      <th>1</th>\n",
       "      <th>micro avg</th>\n",
       "      <th>macro avg</th>\n",
       "      <th>weighted avg</th>\n",
       "    </tr>\n",
       "  </thead>\n",
       "  <tbody>\n",
       "    <tr>\n",
       "      <th>f1-score</th>\n",
       "      <td>0.933</td>\n",
       "      <td>0.552</td>\n",
       "      <td>0.884</td>\n",
       "      <td>0.743</td>\n",
       "      <td>0.878</td>\n",
       "    </tr>\n",
       "    <tr>\n",
       "      <th>precision</th>\n",
       "      <td>0.917</td>\n",
       "      <td>0.627</td>\n",
       "      <td>0.884</td>\n",
       "      <td>0.772</td>\n",
       "      <td>0.875</td>\n",
       "    </tr>\n",
       "    <tr>\n",
       "      <th>recall</th>\n",
       "      <td>0.950</td>\n",
       "      <td>0.493</td>\n",
       "      <td>0.884</td>\n",
       "      <td>0.722</td>\n",
       "      <td>0.884</td>\n",
       "    </tr>\n",
       "    <tr>\n",
       "      <th>support</th>\n",
       "      <td>5025.000</td>\n",
       "      <td>856.000</td>\n",
       "      <td>5881.000</td>\n",
       "      <td>5881.000</td>\n",
       "      <td>5881.000</td>\n",
       "    </tr>\n",
       "  </tbody>\n",
       "</table>\n",
       "</div>"
      ],
      "text/plain": [
       "                  0        1  micro avg  macro avg  weighted avg\n",
       "f1-score      0.933    0.552      0.884      0.743         0.878\n",
       "precision     0.917    0.627      0.884      0.772         0.875\n",
       "recall        0.950    0.493      0.884      0.722         0.884\n",
       "support    5025.000  856.000   5881.000   5881.000      5881.000"
      ]
     },
     "metadata": {},
     "output_type": "display_data"
    },
    {
     "name": "stdout",
     "output_type": "stream",
     "text": [
      "Model Saved on  roc_auc 0.8786288185242014\n"
     ]
    },
    {
     "data": {
      "application/vnd.jupyter.widget-view+json": {
       "model_id": "df43ef493cda416982f29965093d2ca3",
       "version_major": 2,
       "version_minor": 0
      },
      "text/plain": [
       "HBox(children=(IntProgress(value=0, max=219), HTML(value='')))"
      ]
     },
     "metadata": {},
     "output_type": "display_data"
    },
    {
     "data": {
      "application/vnd.jupyter.widget-view+json": {
       "model_id": "f34f14d3fee249b590b322f587820172",
       "version_major": 2,
       "version_minor": 0
      },
      "text/plain": [
       "HBox(children=(IntProgress(value=0, max=184), HTML(value='')))"
      ]
     },
     "metadata": {},
     "output_type": "display_data"
    },
    {
     "name": "stdout",
     "output_type": "stream",
     "text": [
      "{'accuracy': 0.8541064444822309, 'roc_auc': 0.8720729297438043, 'pr_auc': 0.6214690237634213}\n"
     ]
    },
    {
     "data": {
      "text/html": [
       "<div>\n",
       "<style scoped>\n",
       "    .dataframe tbody tr th:only-of-type {\n",
       "        vertical-align: middle;\n",
       "    }\n",
       "\n",
       "    .dataframe tbody tr th {\n",
       "        vertical-align: top;\n",
       "    }\n",
       "\n",
       "    .dataframe thead th {\n",
       "        text-align: right;\n",
       "    }\n",
       "</style>\n",
       "<table border=\"1\" class=\"dataframe\">\n",
       "  <thead>\n",
       "    <tr style=\"text-align: right;\">\n",
       "      <th></th>\n",
       "      <th>0</th>\n",
       "      <th>1</th>\n",
       "      <th>micro avg</th>\n",
       "      <th>macro avg</th>\n",
       "      <th>weighted avg</th>\n",
       "    </tr>\n",
       "  </thead>\n",
       "  <tbody>\n",
       "    <tr>\n",
       "      <th>f1-score</th>\n",
       "      <td>0.912</td>\n",
       "      <td>0.563</td>\n",
       "      <td>0.854</td>\n",
       "      <td>0.738</td>\n",
       "      <td>0.862</td>\n",
       "    </tr>\n",
       "    <tr>\n",
       "      <th>precision</th>\n",
       "      <td>0.936</td>\n",
       "      <td>0.499</td>\n",
       "      <td>0.854</td>\n",
       "      <td>0.718</td>\n",
       "      <td>0.873</td>\n",
       "    </tr>\n",
       "    <tr>\n",
       "      <th>recall</th>\n",
       "      <td>0.890</td>\n",
       "      <td>0.645</td>\n",
       "      <td>0.854</td>\n",
       "      <td>0.767</td>\n",
       "      <td>0.854</td>\n",
       "    </tr>\n",
       "    <tr>\n",
       "      <th>support</th>\n",
       "      <td>5025.000</td>\n",
       "      <td>856.000</td>\n",
       "      <td>5881.000</td>\n",
       "      <td>5881.000</td>\n",
       "      <td>5881.000</td>\n",
       "    </tr>\n",
       "  </tbody>\n",
       "</table>\n",
       "</div>"
      ],
      "text/plain": [
       "                  0        1  micro avg  macro avg  weighted avg\n",
       "f1-score      0.912    0.563      0.854      0.738         0.862\n",
       "precision     0.936    0.499      0.854      0.718         0.873\n",
       "recall        0.890    0.645      0.854      0.767         0.854\n",
       "support    5025.000  856.000   5881.000   5881.000      5881.000"
      ]
     },
     "metadata": {},
     "output_type": "display_data"
    },
    {
     "name": "stdout",
     "output_type": "stream",
     "text": [
      "Model not saved on  roc_auc 0.8720729297438043\n"
     ]
    },
    {
     "data": {
      "application/vnd.jupyter.widget-view+json": {
       "model_id": "3e4381e327dd4cb2bedd61ef6d722294",
       "version_major": 2,
       "version_minor": 0
      },
      "text/plain": [
       "HBox(children=(IntProgress(value=0, max=219), HTML(value='')))"
      ]
     },
     "metadata": {},
     "output_type": "display_data"
    },
    {
     "data": {
      "application/vnd.jupyter.widget-view+json": {
       "model_id": "f57fa3d4a8224b65b16bfe2f9c011155",
       "version_major": 2,
       "version_minor": 0
      },
      "text/plain": [
       "HBox(children=(IntProgress(value=0, max=184), HTML(value='')))"
      ]
     },
     "metadata": {},
     "output_type": "display_data"
    },
    {
     "name": "stdout",
     "output_type": "stream",
     "text": [
      "{'accuracy': 0.8808025845944567, 'roc_auc': 0.8684960710466361, 'pr_auc': 0.6060165715331449}\n"
     ]
    },
    {
     "data": {
      "text/html": [
       "<div>\n",
       "<style scoped>\n",
       "    .dataframe tbody tr th:only-of-type {\n",
       "        vertical-align: middle;\n",
       "    }\n",
       "\n",
       "    .dataframe tbody tr th {\n",
       "        vertical-align: top;\n",
       "    }\n",
       "\n",
       "    .dataframe thead th {\n",
       "        text-align: right;\n",
       "    }\n",
       "</style>\n",
       "<table border=\"1\" class=\"dataframe\">\n",
       "  <thead>\n",
       "    <tr style=\"text-align: right;\">\n",
       "      <th></th>\n",
       "      <th>0</th>\n",
       "      <th>1</th>\n",
       "      <th>micro avg</th>\n",
       "      <th>macro avg</th>\n",
       "      <th>weighted avg</th>\n",
       "    </tr>\n",
       "  </thead>\n",
       "  <tbody>\n",
       "    <tr>\n",
       "      <th>f1-score</th>\n",
       "      <td>0.932</td>\n",
       "      <td>0.530</td>\n",
       "      <td>0.881</td>\n",
       "      <td>0.731</td>\n",
       "      <td>0.873</td>\n",
       "    </tr>\n",
       "    <tr>\n",
       "      <th>precision</th>\n",
       "      <td>0.912</td>\n",
       "      <td>0.622</td>\n",
       "      <td>0.881</td>\n",
       "      <td>0.767</td>\n",
       "      <td>0.870</td>\n",
       "    </tr>\n",
       "    <tr>\n",
       "      <th>recall</th>\n",
       "      <td>0.952</td>\n",
       "      <td>0.463</td>\n",
       "      <td>0.881</td>\n",
       "      <td>0.707</td>\n",
       "      <td>0.881</td>\n",
       "    </tr>\n",
       "    <tr>\n",
       "      <th>support</th>\n",
       "      <td>5025.000</td>\n",
       "      <td>856.000</td>\n",
       "      <td>5881.000</td>\n",
       "      <td>5881.000</td>\n",
       "      <td>5881.000</td>\n",
       "    </tr>\n",
       "  </tbody>\n",
       "</table>\n",
       "</div>"
      ],
      "text/plain": [
       "                  0        1  micro avg  macro avg  weighted avg\n",
       "f1-score      0.932    0.530      0.881      0.731         0.873\n",
       "precision     0.912    0.622      0.881      0.767         0.870\n",
       "recall        0.952    0.463      0.881      0.707         0.881\n",
       "support    5025.000  856.000   5881.000   5881.000      5881.000"
      ]
     },
     "metadata": {},
     "output_type": "display_data"
    },
    {
     "name": "stderr",
     "output_type": "stream",
     "text": [
      "INFO - 2019-03-23 16:58:10,442 - instantiating class <class 'PatientVec.models.Model.Model'> from params {'type': 'seq_classifier', 'embedder': {'type': 'token_embedder', 'vocab_size': 29286, 'embed_size': 200, 'embedding_file': './preprocess/Mortality/embedding_matrix.npy'}, 'decoder': {'num_layers': 2, 'hidden_dims': [128, 1], 'activations': ['tanh', 'linear']}, 'predictor': {'type': 'binary'}, 'structured': {'use_structured': True, 'structured_dim': 50}, 'encoder': {'type': 'average', 'projection': True, 'hidden_size': 256, 'activation': 'relu'}} and extras {}\n",
      "INFO - 2019-03-23 16:58:10,443 - type = seq_classifier\n",
      "INFO - 2019-03-23 16:58:10,443 - instantiating class <class 'PatientVec.models.modules.Embedder.Embedder'> from params {'type': 'token_embedder', 'vocab_size': 29286, 'embed_size': 200, 'embedding_file': './preprocess/Mortality/embedding_matrix.npy'} and extras {}\n",
      "INFO - 2019-03-23 16:58:10,443 - embedder.type = token_embedder\n",
      "INFO - 2019-03-23 16:58:10,444 - instantiating class <class 'PatientVec.models.modules.Embedder.TokenEmbedder'> from params {'vocab_size': 29286, 'embed_size': 200, 'embedding_file': './preprocess/Mortality/embedding_matrix.npy'} and extras {}\n",
      "INFO - 2019-03-23 16:58:10,444 - embedder.vocab_size = 29286\n",
      "INFO - 2019-03-23 16:58:10,445 - embedder.embed_size = 200\n",
      "INFO - 2019-03-23 16:58:10,445 - embedder.embedding_file = ./preprocess/Mortality/embedding_matrix.npy\n",
      "INFO - 2019-03-23 16:58:10,469 - instantiating class <class 'PatientVec.models.modules.Encoder.Encoder'> from params {'type': 'average', 'projection': True, 'hidden_size': 256, 'activation': 'relu'} and extras {'input_size': 200}\n",
      "INFO - 2019-03-23 16:58:10,470 - encoder.type = average\n",
      "INFO - 2019-03-23 16:58:10,470 - instantiating class <class 'PatientVec.models.modules.Encoder.AverageEncoder'> from params {'projection': True, 'hidden_size': 256, 'activation': 'relu'} and extras {'input_size': 200}\n",
      "INFO - 2019-03-23 16:58:10,470 - encoder.projection = True\n",
      "INFO - 2019-03-23 16:58:10,470 - encoder.hidden_size = 256\n",
      "INFO - 2019-03-23 16:58:10,471 - encoder.activation = relu\n",
      "INFO - 2019-03-23 16:58:10,472 - decoder.input_dim = 306\n",
      "INFO - 2019-03-23 16:58:10,472 - decoder.num_layers = 2\n",
      "INFO - 2019-03-23 16:58:10,472 - decoder.hidden_dims = [128, 1]\n",
      "INFO - 2019-03-23 16:58:10,472 - decoder.activations = ['tanh', 'linear']\n",
      "INFO - 2019-03-23 16:58:10,473 - decoder.dropout = 0.0\n",
      "INFO - 2019-03-23 16:58:10,474 - instantiating class <class 'PatientVec.models.modules.Predictor.Predictor'> from params {'type': 'binary'} and extras {}\n",
      "INFO - 2019-03-23 16:58:10,474 - predictor.type = binary\n",
      "INFO - 2019-03-23 16:58:10,474 - instantiating class <class 'PatientVec.models.modules.Predictor.Binary_Predictor'> from params {} and extras {}\n",
      "INFO - 2019-03-23 16:58:10,474 - predictor.replicate = False\n",
      "INFO - 2019-03-23 16:58:10,475 - predictor.alpha = 0.5\n"
     ]
    },
    {
     "name": "stdout",
     "output_type": "stream",
     "text": [
      "Model not saved on  roc_auc 0.8684960710466361\n",
      "\n",
      "Setting Embedding\n"
     ]
    },
    {
     "data": {
      "application/vnd.jupyter.widget-view+json": {
       "model_id": "2ac5a57c8d464071b7d39d538e2ef558",
       "version_major": 2,
       "version_minor": 0
      },
      "text/plain": [
       "HBox(children=(IntProgress(value=0, max=184), HTML(value='')))"
      ]
     },
     "metadata": {},
     "output_type": "display_data"
    },
    {
     "name": "stdout",
     "output_type": "stream",
     "text": [
      "\n",
      "{'accuracy': 0.8835232103383778, 'roc_auc': 0.8786288185242014, 'pr_auc': 0.6203527422296367}\n"
     ]
    },
    {
     "data": {
      "text/html": [
       "<div>\n",
       "<style scoped>\n",
       "    .dataframe tbody tr th:only-of-type {\n",
       "        vertical-align: middle;\n",
       "    }\n",
       "\n",
       "    .dataframe tbody tr th {\n",
       "        vertical-align: top;\n",
       "    }\n",
       "\n",
       "    .dataframe thead th {\n",
       "        text-align: right;\n",
       "    }\n",
       "</style>\n",
       "<table border=\"1\" class=\"dataframe\">\n",
       "  <thead>\n",
       "    <tr style=\"text-align: right;\">\n",
       "      <th></th>\n",
       "      <th>0</th>\n",
       "      <th>1</th>\n",
       "      <th>micro avg</th>\n",
       "      <th>macro avg</th>\n",
       "      <th>weighted avg</th>\n",
       "    </tr>\n",
       "  </thead>\n",
       "  <tbody>\n",
       "    <tr>\n",
       "      <th>f1-score</th>\n",
       "      <td>0.933</td>\n",
       "      <td>0.552</td>\n",
       "      <td>0.884</td>\n",
       "      <td>0.743</td>\n",
       "      <td>0.878</td>\n",
       "    </tr>\n",
       "    <tr>\n",
       "      <th>precision</th>\n",
       "      <td>0.917</td>\n",
       "      <td>0.627</td>\n",
       "      <td>0.884</td>\n",
       "      <td>0.772</td>\n",
       "      <td>0.875</td>\n",
       "    </tr>\n",
       "    <tr>\n",
       "      <th>recall</th>\n",
       "      <td>0.950</td>\n",
       "      <td>0.493</td>\n",
       "      <td>0.884</td>\n",
       "      <td>0.722</td>\n",
       "      <td>0.884</td>\n",
       "    </tr>\n",
       "    <tr>\n",
       "      <th>support</th>\n",
       "      <td>5025.000</td>\n",
       "      <td>856.000</td>\n",
       "      <td>5881.000</td>\n",
       "      <td>5881.000</td>\n",
       "      <td>5881.000</td>\n",
       "    </tr>\n",
       "  </tbody>\n",
       "</table>\n",
       "</div>"
      ],
      "text/plain": [
       "                  0        1  micro avg  macro avg  weighted avg\n",
       "f1-score      0.933    0.552      0.884      0.743         0.878\n",
       "precision     0.917    0.627      0.884      0.772         0.875\n",
       "recall        0.950    0.493      0.884      0.722         0.884\n",
       "support    5025.000  856.000   5881.000   5881.000      5881.000"
      ]
     },
     "metadata": {},
     "output_type": "display_data"
    },
    {
     "name": "stderr",
     "output_type": "stream",
     "text": [
      "INFO - 2019-03-23 16:58:27,518 - instantiating class <class 'PatientVec.models.Model.Model'> from params {'type': 'seq_classifier', 'embedder': {'type': 'token_embedder', 'vocab_size': 29286, 'embed_size': 200, 'embedding_file': './preprocess/Mortality/embedding_matrix.npy'}, 'decoder': {'num_layers': 2, 'hidden_dims': [128, 1], 'activations': ['tanh', 'linear']}, 'predictor': {'type': 'binary'}, 'structured': {'use_structured': True, 'structured_dim': 50}, 'encoder': {'type': 'lstm', 'hidden_size': 128}} and extras {}\n",
      "INFO - 2019-03-23 16:58:27,518 - type = seq_classifier\n",
      "INFO - 2019-03-23 16:58:27,518 - instantiating class <class 'PatientVec.models.modules.Embedder.Embedder'> from params {'type': 'token_embedder', 'vocab_size': 29286, 'embed_size': 200, 'embedding_file': './preprocess/Mortality/embedding_matrix.npy'} and extras {}\n",
      "INFO - 2019-03-23 16:58:27,519 - embedder.type = token_embedder\n",
      "INFO - 2019-03-23 16:58:27,519 - instantiating class <class 'PatientVec.models.modules.Embedder.TokenEmbedder'> from params {'vocab_size': 29286, 'embed_size': 200, 'embedding_file': './preprocess/Mortality/embedding_matrix.npy'} and extras {}\n",
      "INFO - 2019-03-23 16:58:27,520 - embedder.vocab_size = 29286\n",
      "INFO - 2019-03-23 16:58:27,520 - embedder.embed_size = 200\n",
      "INFO - 2019-03-23 16:58:27,520 - embedder.embedding_file = ./preprocess/Mortality/embedding_matrix.npy\n",
      "INFO - 2019-03-23 16:58:27,544 - instantiating class <class 'PatientVec.models.modules.Encoder.Encoder'> from params {'type': 'lstm', 'hidden_size': 128} and extras {'input_size': 200}\n",
      "INFO - 2019-03-23 16:58:27,545 - encoder.type = lstm\n",
      "INFO - 2019-03-23 16:58:27,545 - instantiating class <class 'PatientVec.models.modules.Encoder.wrap_pytorch_rnn.<locals>.BiRNNEncoder'> from params {'hidden_size': 128} and extras {'input_size': 200}\n",
      "INFO - 2019-03-23 16:58:27,545 - encoder.hidden_size = 128\n",
      "INFO - 2019-03-23 16:58:27,547 - decoder.input_dim = 306\n",
      "INFO - 2019-03-23 16:58:27,548 - decoder.num_layers = 2\n",
      "INFO - 2019-03-23 16:58:27,548 - decoder.hidden_dims = [128, 1]\n",
      "INFO - 2019-03-23 16:58:27,548 - decoder.activations = ['tanh', 'linear']\n",
      "INFO - 2019-03-23 16:58:27,549 - decoder.dropout = 0.0\n",
      "INFO - 2019-03-23 16:58:27,550 - instantiating class <class 'PatientVec.models.modules.Predictor.Predictor'> from params {'type': 'binary'} and extras {}\n",
      "INFO - 2019-03-23 16:58:27,550 - predictor.type = binary\n",
      "INFO - 2019-03-23 16:58:27,550 - instantiating class <class 'PatientVec.models.modules.Predictor.Binary_Predictor'> from params {} and extras {}\n",
      "INFO - 2019-03-23 16:58:27,551 - predictor.replicate = False\n",
      "INFO - 2019-03-23 16:58:27,551 - predictor.alpha = 0.5\n"
     ]
    },
    {
     "name": "stdout",
     "output_type": "stream",
     "text": [
      "============================================================================================================================================================================================================================================================================================================\n",
      "{'model': {'type': 'seq_classifier', 'embedder': {'type': 'token_embedder', 'vocab_size': 29286, 'embed_size': 200, 'embedding_file': './preprocess/Mortality/embedding_matrix.npy'}, 'decoder': {'num_layers': 2, 'hidden_dims': [128, 1], 'activations': ['tanh', 'linear']}, 'predictor': {'type': 'binary'}, 'structured': {'use_structured': True, 'structured_dim': 50}, 'encoder': {'type': 'lstm', 'hidden_size': 128}}, 'training_config': {'type': 'Adam', 'groups': [('.*', {'lr': 0.001, 'weight_decay': 1e-05})], 'common': {'bsize': 32, 'class_weight': True}}, 'exp_config': {'exp_name': 'Mortality_30day/Basic/LSTM(hs=128)+Structured', 'basepath': 'outputs/ts_experiments/n=7000'}}\n",
      "Setting Embedding\n"
     ]
    },
    {
     "data": {
      "application/vnd.jupyter.widget-view+json": {
       "model_id": "b80499f2ae9f4de9b14fa08e4f84eb0f",
       "version_major": 2,
       "version_minor": 0
      },
      "text/plain": [
       "HBox(children=(IntProgress(value=0, max=8), HTML(value='')))"
      ]
     },
     "metadata": {},
     "output_type": "display_data"
    },
    {
     "data": {
      "application/vnd.jupyter.widget-view+json": {
       "model_id": "86becbacc8694a5b9f8a265b75d365a1",
       "version_major": 2,
       "version_minor": 0
      },
      "text/plain": [
       "HBox(children=(IntProgress(value=0, max=219), HTML(value='')))"
      ]
     },
     "metadata": {},
     "output_type": "display_data"
    },
    {
     "data": {
      "application/vnd.jupyter.widget-view+json": {
       "model_id": "7250f3f7a5884f3eb6112739231cef7b",
       "version_major": 2,
       "version_minor": 0
      },
      "text/plain": [
       "HBox(children=(IntProgress(value=0, max=184), HTML(value='')))"
      ]
     },
     "metadata": {},
     "output_type": "display_data"
    },
    {
     "name": "stdout",
     "output_type": "stream",
     "text": [
      "{'accuracy': 0.7719775548376127, 'roc_auc': 0.8617603570930394, 'pr_auc': 0.5958370420163962}\n"
     ]
    },
    {
     "data": {
      "text/html": [
       "<div>\n",
       "<style scoped>\n",
       "    .dataframe tbody tr th:only-of-type {\n",
       "        vertical-align: middle;\n",
       "    }\n",
       "\n",
       "    .dataframe tbody tr th {\n",
       "        vertical-align: top;\n",
       "    }\n",
       "\n",
       "    .dataframe thead th {\n",
       "        text-align: right;\n",
       "    }\n",
       "</style>\n",
       "<table border=\"1\" class=\"dataframe\">\n",
       "  <thead>\n",
       "    <tr style=\"text-align: right;\">\n",
       "      <th></th>\n",
       "      <th>0</th>\n",
       "      <th>1</th>\n",
       "      <th>micro avg</th>\n",
       "      <th>macro avg</th>\n",
       "      <th>weighted avg</th>\n",
       "    </tr>\n",
       "  </thead>\n",
       "  <tbody>\n",
       "    <tr>\n",
       "      <th>f1-score</th>\n",
       "      <td>0.852</td>\n",
       "      <td>0.499</td>\n",
       "      <td>0.772</td>\n",
       "      <td>0.676</td>\n",
       "      <td>0.801</td>\n",
       "    </tr>\n",
       "    <tr>\n",
       "      <th>precision</th>\n",
       "      <td>0.954</td>\n",
       "      <td>0.367</td>\n",
       "      <td>0.772</td>\n",
       "      <td>0.660</td>\n",
       "      <td>0.868</td>\n",
       "    </tr>\n",
       "    <tr>\n",
       "      <th>recall</th>\n",
       "      <td>0.770</td>\n",
       "      <td>0.782</td>\n",
       "      <td>0.772</td>\n",
       "      <td>0.776</td>\n",
       "      <td>0.772</td>\n",
       "    </tr>\n",
       "    <tr>\n",
       "      <th>support</th>\n",
       "      <td>5025.000</td>\n",
       "      <td>856.000</td>\n",
       "      <td>5881.000</td>\n",
       "      <td>5881.000</td>\n",
       "      <td>5881.000</td>\n",
       "    </tr>\n",
       "  </tbody>\n",
       "</table>\n",
       "</div>"
      ],
      "text/plain": [
       "                  0        1  micro avg  macro avg  weighted avg\n",
       "f1-score      0.852    0.499      0.772      0.676         0.801\n",
       "precision     0.954    0.367      0.772      0.660         0.868\n",
       "recall        0.770    0.782      0.772      0.776         0.772\n",
       "support    5025.000  856.000   5881.000   5881.000      5881.000"
      ]
     },
     "metadata": {},
     "output_type": "display_data"
    },
    {
     "name": "stdout",
     "output_type": "stream",
     "text": [
      "Model Saved on  roc_auc 0.8617603570930394\n"
     ]
    },
    {
     "data": {
      "application/vnd.jupyter.widget-view+json": {
       "model_id": "6d5a6f6c7c514e4383ebf30bc036cc06",
       "version_major": 2,
       "version_minor": 0
      },
      "text/plain": [
       "HBox(children=(IntProgress(value=0, max=219), HTML(value='')))"
      ]
     },
     "metadata": {},
     "output_type": "display_data"
    },
    {
     "data": {
      "application/vnd.jupyter.widget-view+json": {
       "model_id": "9c95414a0aa746eea6ccc771adbb6461",
       "version_major": 2,
       "version_minor": 0
      },
      "text/plain": [
       "HBox(children=(IntProgress(value=0, max=184), HTML(value='')))"
      ]
     },
     "metadata": {},
     "output_type": "display_data"
    },
    {
     "name": "stdout",
     "output_type": "stream",
     "text": [
      "{'accuracy': 0.8622683217139943, 'roc_auc': 0.869664527828149, 'pr_auc': 0.6336732205995161}\n"
     ]
    },
    {
     "data": {
      "text/html": [
       "<div>\n",
       "<style scoped>\n",
       "    .dataframe tbody tr th:only-of-type {\n",
       "        vertical-align: middle;\n",
       "    }\n",
       "\n",
       "    .dataframe tbody tr th {\n",
       "        vertical-align: top;\n",
       "    }\n",
       "\n",
       "    .dataframe thead th {\n",
       "        text-align: right;\n",
       "    }\n",
       "</style>\n",
       "<table border=\"1\" class=\"dataframe\">\n",
       "  <thead>\n",
       "    <tr style=\"text-align: right;\">\n",
       "      <th></th>\n",
       "      <th>0</th>\n",
       "      <th>1</th>\n",
       "      <th>micro avg</th>\n",
       "      <th>macro avg</th>\n",
       "      <th>weighted avg</th>\n",
       "    </tr>\n",
       "  </thead>\n",
       "  <tbody>\n",
       "    <tr>\n",
       "      <th>f1-score</th>\n",
       "      <td>0.918</td>\n",
       "      <td>0.560</td>\n",
       "      <td>0.862</td>\n",
       "      <td>0.739</td>\n",
       "      <td>0.866</td>\n",
       "    </tr>\n",
       "    <tr>\n",
       "      <th>precision</th>\n",
       "      <td>0.930</td>\n",
       "      <td>0.523</td>\n",
       "      <td>0.862</td>\n",
       "      <td>0.727</td>\n",
       "      <td>0.871</td>\n",
       "    </tr>\n",
       "    <tr>\n",
       "      <th>recall</th>\n",
       "      <td>0.907</td>\n",
       "      <td>0.602</td>\n",
       "      <td>0.862</td>\n",
       "      <td>0.754</td>\n",
       "      <td>0.862</td>\n",
       "    </tr>\n",
       "    <tr>\n",
       "      <th>support</th>\n",
       "      <td>5025.000</td>\n",
       "      <td>856.000</td>\n",
       "      <td>5881.000</td>\n",
       "      <td>5881.000</td>\n",
       "      <td>5881.000</td>\n",
       "    </tr>\n",
       "  </tbody>\n",
       "</table>\n",
       "</div>"
      ],
      "text/plain": [
       "                  0        1  micro avg  macro avg  weighted avg\n",
       "f1-score      0.918    0.560      0.862      0.739         0.866\n",
       "precision     0.930    0.523      0.862      0.727         0.871\n",
       "recall        0.907    0.602      0.862      0.754         0.862\n",
       "support    5025.000  856.000   5881.000   5881.000      5881.000"
      ]
     },
     "metadata": {},
     "output_type": "display_data"
    },
    {
     "name": "stdout",
     "output_type": "stream",
     "text": [
      "Model Saved on  roc_auc 0.869664527828149\n"
     ]
    },
    {
     "data": {
      "application/vnd.jupyter.widget-view+json": {
       "model_id": "bf342964b6174b848c593bf4ea9b70ad",
       "version_major": 2,
       "version_minor": 0
      },
      "text/plain": [
       "HBox(children=(IntProgress(value=0, max=219), HTML(value='')))"
      ]
     },
     "metadata": {},
     "output_type": "display_data"
    },
    {
     "data": {
      "application/vnd.jupyter.widget-view+json": {
       "model_id": "312c8019846e43139bccc89ee7b0ed8a",
       "version_major": 2,
       "version_minor": 0
      },
      "text/plain": [
       "HBox(children=(IntProgress(value=0, max=184), HTML(value='')))"
      ]
     },
     "metadata": {},
     "output_type": "display_data"
    },
    {
     "name": "stdout",
     "output_type": "stream",
     "text": [
      "{'accuracy': 0.8389729637816697, 'roc_auc': 0.8623357511507882, 'pr_auc': 0.6216607095410107}\n"
     ]
    },
    {
     "data": {
      "text/html": [
       "<div>\n",
       "<style scoped>\n",
       "    .dataframe tbody tr th:only-of-type {\n",
       "        vertical-align: middle;\n",
       "    }\n",
       "\n",
       "    .dataframe tbody tr th {\n",
       "        vertical-align: top;\n",
       "    }\n",
       "\n",
       "    .dataframe thead th {\n",
       "        text-align: right;\n",
       "    }\n",
       "</style>\n",
       "<table border=\"1\" class=\"dataframe\">\n",
       "  <thead>\n",
       "    <tr style=\"text-align: right;\">\n",
       "      <th></th>\n",
       "      <th>0</th>\n",
       "      <th>1</th>\n",
       "      <th>micro avg</th>\n",
       "      <th>macro avg</th>\n",
       "      <th>weighted avg</th>\n",
       "    </tr>\n",
       "  </thead>\n",
       "  <tbody>\n",
       "    <tr>\n",
       "      <th>f1-score</th>\n",
       "      <td>0.902</td>\n",
       "      <td>0.545</td>\n",
       "      <td>0.839</td>\n",
       "      <td>0.724</td>\n",
       "      <td>0.850</td>\n",
       "    </tr>\n",
       "    <tr>\n",
       "      <th>precision</th>\n",
       "      <td>0.938</td>\n",
       "      <td>0.463</td>\n",
       "      <td>0.839</td>\n",
       "      <td>0.701</td>\n",
       "      <td>0.869</td>\n",
       "    </tr>\n",
       "    <tr>\n",
       "      <th>recall</th>\n",
       "      <td>0.869</td>\n",
       "      <td>0.664</td>\n",
       "      <td>0.839</td>\n",
       "      <td>0.766</td>\n",
       "      <td>0.839</td>\n",
       "    </tr>\n",
       "    <tr>\n",
       "      <th>support</th>\n",
       "      <td>5025.000</td>\n",
       "      <td>856.000</td>\n",
       "      <td>5881.000</td>\n",
       "      <td>5881.000</td>\n",
       "      <td>5881.000</td>\n",
       "    </tr>\n",
       "  </tbody>\n",
       "</table>\n",
       "</div>"
      ],
      "text/plain": [
       "                  0        1  micro avg  macro avg  weighted avg\n",
       "f1-score      0.902    0.545      0.839      0.724         0.850\n",
       "precision     0.938    0.463      0.839      0.701         0.869\n",
       "recall        0.869    0.664      0.839      0.766         0.839\n",
       "support    5025.000  856.000   5881.000   5881.000      5881.000"
      ]
     },
     "metadata": {},
     "output_type": "display_data"
    },
    {
     "name": "stdout",
     "output_type": "stream",
     "text": [
      "Model not saved on  roc_auc 0.8623357511507882\n"
     ]
    },
    {
     "data": {
      "application/vnd.jupyter.widget-view+json": {
       "model_id": "281b3ab33995469996959ad2d350e4a5",
       "version_major": 2,
       "version_minor": 0
      },
      "text/plain": [
       "HBox(children=(IntProgress(value=0, max=219), HTML(value='')))"
      ]
     },
     "metadata": {},
     "output_type": "display_data"
    },
    {
     "data": {
      "application/vnd.jupyter.widget-view+json": {
       "model_id": "0327bde65b9c4ef8a756e2ff1490bdfc",
       "version_major": 2,
       "version_minor": 0
      },
      "text/plain": [
       "HBox(children=(IntProgress(value=0, max=184), HTML(value='')))"
      ]
     },
     "metadata": {},
     "output_type": "display_data"
    },
    {
     "name": "stdout",
     "output_type": "stream",
     "text": [
      "{'accuracy': 0.8136371365414046, 'roc_auc': 0.8445171339563865, 'pr_auc': 0.6074363332251579}\n"
     ]
    },
    {
     "data": {
      "text/html": [
       "<div>\n",
       "<style scoped>\n",
       "    .dataframe tbody tr th:only-of-type {\n",
       "        vertical-align: middle;\n",
       "    }\n",
       "\n",
       "    .dataframe tbody tr th {\n",
       "        vertical-align: top;\n",
       "    }\n",
       "\n",
       "    .dataframe thead th {\n",
       "        text-align: right;\n",
       "    }\n",
       "</style>\n",
       "<table border=\"1\" class=\"dataframe\">\n",
       "  <thead>\n",
       "    <tr style=\"text-align: right;\">\n",
       "      <th></th>\n",
       "      <th>0</th>\n",
       "      <th>1</th>\n",
       "      <th>micro avg</th>\n",
       "      <th>macro avg</th>\n",
       "      <th>weighted avg</th>\n",
       "    </tr>\n",
       "  </thead>\n",
       "  <tbody>\n",
       "    <tr>\n",
       "      <th>f1-score</th>\n",
       "      <td>0.884</td>\n",
       "      <td>0.521</td>\n",
       "      <td>0.814</td>\n",
       "      <td>0.703</td>\n",
       "      <td>0.831</td>\n",
       "    </tr>\n",
       "    <tr>\n",
       "      <th>precision</th>\n",
       "      <td>0.942</td>\n",
       "      <td>0.416</td>\n",
       "      <td>0.814</td>\n",
       "      <td>0.679</td>\n",
       "      <td>0.865</td>\n",
       "    </tr>\n",
       "    <tr>\n",
       "      <th>recall</th>\n",
       "      <td>0.833</td>\n",
       "      <td>0.697</td>\n",
       "      <td>0.814</td>\n",
       "      <td>0.765</td>\n",
       "      <td>0.814</td>\n",
       "    </tr>\n",
       "    <tr>\n",
       "      <th>support</th>\n",
       "      <td>5025.000</td>\n",
       "      <td>856.000</td>\n",
       "      <td>5881.000</td>\n",
       "      <td>5881.000</td>\n",
       "      <td>5881.000</td>\n",
       "    </tr>\n",
       "  </tbody>\n",
       "</table>\n",
       "</div>"
      ],
      "text/plain": [
       "                  0        1  micro avg  macro avg  weighted avg\n",
       "f1-score      0.884    0.521      0.814      0.703         0.831\n",
       "precision     0.942    0.416      0.814      0.679         0.865\n",
       "recall        0.833    0.697      0.814      0.765         0.814\n",
       "support    5025.000  856.000   5881.000   5881.000      5881.000"
      ]
     },
     "metadata": {},
     "output_type": "display_data"
    },
    {
     "name": "stdout",
     "output_type": "stream",
     "text": [
      "Model not saved on  roc_auc 0.8445171339563865\n"
     ]
    },
    {
     "data": {
      "application/vnd.jupyter.widget-view+json": {
       "model_id": "d032f112b4f74dec87c30479663f6dc4",
       "version_major": 2,
       "version_minor": 0
      },
      "text/plain": [
       "HBox(children=(IntProgress(value=0, max=219), HTML(value='')))"
      ]
     },
     "metadata": {},
     "output_type": "display_data"
    },
    {
     "data": {
      "application/vnd.jupyter.widget-view+json": {
       "model_id": "ef72f4bf3ac341ccbf6cb41a96ef0570",
       "version_major": 2,
       "version_minor": 0
      },
      "text/plain": [
       "HBox(children=(IntProgress(value=0, max=184), HTML(value='')))"
      ]
     },
     "metadata": {},
     "output_type": "display_data"
    },
    {
     "name": "stdout",
     "output_type": "stream",
     "text": [
      "{'accuracy': 0.8602278524060534, 'roc_auc': 0.8280610963872227, 'pr_auc': 0.5728663415262947}\n"
     ]
    },
    {
     "data": {
      "text/html": [
       "<div>\n",
       "<style scoped>\n",
       "    .dataframe tbody tr th:only-of-type {\n",
       "        vertical-align: middle;\n",
       "    }\n",
       "\n",
       "    .dataframe tbody tr th {\n",
       "        vertical-align: top;\n",
       "    }\n",
       "\n",
       "    .dataframe thead th {\n",
       "        text-align: right;\n",
       "    }\n",
       "</style>\n",
       "<table border=\"1\" class=\"dataframe\">\n",
       "  <thead>\n",
       "    <tr style=\"text-align: right;\">\n",
       "      <th></th>\n",
       "      <th>0</th>\n",
       "      <th>1</th>\n",
       "      <th>micro avg</th>\n",
       "      <th>macro avg</th>\n",
       "      <th>weighted avg</th>\n",
       "    </tr>\n",
       "  </thead>\n",
       "  <tbody>\n",
       "    <tr>\n",
       "      <th>f1-score</th>\n",
       "      <td>0.917</td>\n",
       "      <td>0.545</td>\n",
       "      <td>0.86</td>\n",
       "      <td>0.731</td>\n",
       "      <td>0.863</td>\n",
       "    </tr>\n",
       "    <tr>\n",
       "      <th>precision</th>\n",
       "      <td>0.926</td>\n",
       "      <td>0.518</td>\n",
       "      <td>0.86</td>\n",
       "      <td>0.722</td>\n",
       "      <td>0.867</td>\n",
       "    </tr>\n",
       "    <tr>\n",
       "      <th>recall</th>\n",
       "      <td>0.909</td>\n",
       "      <td>0.575</td>\n",
       "      <td>0.86</td>\n",
       "      <td>0.742</td>\n",
       "      <td>0.860</td>\n",
       "    </tr>\n",
       "    <tr>\n",
       "      <th>support</th>\n",
       "      <td>5025.000</td>\n",
       "      <td>856.000</td>\n",
       "      <td>5881.00</td>\n",
       "      <td>5881.000</td>\n",
       "      <td>5881.000</td>\n",
       "    </tr>\n",
       "  </tbody>\n",
       "</table>\n",
       "</div>"
      ],
      "text/plain": [
       "                  0        1  micro avg  macro avg  weighted avg\n",
       "f1-score      0.917    0.545       0.86      0.731         0.863\n",
       "precision     0.926    0.518       0.86      0.722         0.867\n",
       "recall        0.909    0.575       0.86      0.742         0.860\n",
       "support    5025.000  856.000    5881.00   5881.000      5881.000"
      ]
     },
     "metadata": {},
     "output_type": "display_data"
    },
    {
     "name": "stderr",
     "output_type": "stream",
     "text": [
      "INFO - 2019-03-23 17:12:12,184 - instantiating class <class 'PatientVec.models.Model.Model'> from params {'type': 'seq_classifier', 'embedder': {'type': 'token_embedder', 'vocab_size': 29286, 'embed_size': 200, 'embedding_file': './preprocess/Mortality/embedding_matrix.npy'}, 'decoder': {'num_layers': 2, 'hidden_dims': [128, 1], 'activations': ['tanh', 'linear']}, 'predictor': {'type': 'binary'}, 'structured': {'use_structured': True, 'structured_dim': 50}, 'encoder': {'type': 'lstm', 'hidden_size': 128}} and extras {}\n",
      "INFO - 2019-03-23 17:12:12,185 - type = seq_classifier\n",
      "INFO - 2019-03-23 17:12:12,185 - instantiating class <class 'PatientVec.models.modules.Embedder.Embedder'> from params {'type': 'token_embedder', 'vocab_size': 29286, 'embed_size': 200, 'embedding_file': './preprocess/Mortality/embedding_matrix.npy'} and extras {}\n",
      "INFO - 2019-03-23 17:12:12,185 - embedder.type = token_embedder\n",
      "INFO - 2019-03-23 17:12:12,186 - instantiating class <class 'PatientVec.models.modules.Embedder.TokenEmbedder'> from params {'vocab_size': 29286, 'embed_size': 200, 'embedding_file': './preprocess/Mortality/embedding_matrix.npy'} and extras {}\n",
      "INFO - 2019-03-23 17:12:12,186 - embedder.vocab_size = 29286\n",
      "INFO - 2019-03-23 17:12:12,186 - embedder.embed_size = 200\n",
      "INFO - 2019-03-23 17:12:12,187 - embedder.embedding_file = ./preprocess/Mortality/embedding_matrix.npy\n",
      "INFO - 2019-03-23 17:12:12,212 - instantiating class <class 'PatientVec.models.modules.Encoder.Encoder'> from params {'type': 'lstm', 'hidden_size': 128} and extras {'input_size': 200}\n",
      "INFO - 2019-03-23 17:12:12,212 - encoder.type = lstm\n",
      "INFO - 2019-03-23 17:12:12,213 - instantiating class <class 'PatientVec.models.modules.Encoder.wrap_pytorch_rnn.<locals>.BiRNNEncoder'> from params {'hidden_size': 128} and extras {'input_size': 200}\n",
      "INFO - 2019-03-23 17:12:12,213 - encoder.hidden_size = 128\n",
      "INFO - 2019-03-23 17:12:12,216 - decoder.input_dim = 306\n",
      "INFO - 2019-03-23 17:12:12,217 - decoder.num_layers = 2\n",
      "INFO - 2019-03-23 17:12:12,217 - decoder.hidden_dims = [128, 1]\n",
      "INFO - 2019-03-23 17:12:12,217 - decoder.activations = ['tanh', 'linear']\n",
      "INFO - 2019-03-23 17:12:12,217 - decoder.dropout = 0.0\n",
      "INFO - 2019-03-23 17:12:12,219 - instantiating class <class 'PatientVec.models.modules.Predictor.Predictor'> from params {'type': 'binary'} and extras {}\n",
      "INFO - 2019-03-23 17:12:12,219 - predictor.type = binary\n",
      "INFO - 2019-03-23 17:12:12,219 - instantiating class <class 'PatientVec.models.modules.Predictor.Binary_Predictor'> from params {} and extras {}\n",
      "INFO - 2019-03-23 17:12:12,220 - predictor.replicate = False\n",
      "INFO - 2019-03-23 17:12:12,220 - predictor.alpha = 0.5\n"
     ]
    },
    {
     "name": "stdout",
     "output_type": "stream",
     "text": [
      "Model not saved on  roc_auc 0.8280610963872227\n",
      "0.869664527828149 deque([0.8623357511507882, 0.8445171339563865, 0.8280610963872227], maxlen=3)\n",
      "\n",
      "Setting Embedding\n"
     ]
    },
    {
     "data": {
      "application/vnd.jupyter.widget-view+json": {
       "model_id": "9ba8fcd92ae445cd8da3885cb2f6fec7",
       "version_major": 2,
       "version_minor": 0
      },
      "text/plain": [
       "HBox(children=(IntProgress(value=0, max=184), HTML(value='')))"
      ]
     },
     "metadata": {},
     "output_type": "display_data"
    },
    {
     "name": "stdout",
     "output_type": "stream",
     "text": [
      "\n",
      "{'accuracy': 0.8622683217139943, 'roc_auc': 0.869664527828149, 'pr_auc': 0.6336732205995161}\n"
     ]
    },
    {
     "data": {
      "text/html": [
       "<div>\n",
       "<style scoped>\n",
       "    .dataframe tbody tr th:only-of-type {\n",
       "        vertical-align: middle;\n",
       "    }\n",
       "\n",
       "    .dataframe tbody tr th {\n",
       "        vertical-align: top;\n",
       "    }\n",
       "\n",
       "    .dataframe thead th {\n",
       "        text-align: right;\n",
       "    }\n",
       "</style>\n",
       "<table border=\"1\" class=\"dataframe\">\n",
       "  <thead>\n",
       "    <tr style=\"text-align: right;\">\n",
       "      <th></th>\n",
       "      <th>0</th>\n",
       "      <th>1</th>\n",
       "      <th>micro avg</th>\n",
       "      <th>macro avg</th>\n",
       "      <th>weighted avg</th>\n",
       "    </tr>\n",
       "  </thead>\n",
       "  <tbody>\n",
       "    <tr>\n",
       "      <th>f1-score</th>\n",
       "      <td>0.918</td>\n",
       "      <td>0.560</td>\n",
       "      <td>0.862</td>\n",
       "      <td>0.739</td>\n",
       "      <td>0.866</td>\n",
       "    </tr>\n",
       "    <tr>\n",
       "      <th>precision</th>\n",
       "      <td>0.930</td>\n",
       "      <td>0.523</td>\n",
       "      <td>0.862</td>\n",
       "      <td>0.727</td>\n",
       "      <td>0.871</td>\n",
       "    </tr>\n",
       "    <tr>\n",
       "      <th>recall</th>\n",
       "      <td>0.907</td>\n",
       "      <td>0.602</td>\n",
       "      <td>0.862</td>\n",
       "      <td>0.754</td>\n",
       "      <td>0.862</td>\n",
       "    </tr>\n",
       "    <tr>\n",
       "      <th>support</th>\n",
       "      <td>5025.000</td>\n",
       "      <td>856.000</td>\n",
       "      <td>5881.000</td>\n",
       "      <td>5881.000</td>\n",
       "      <td>5881.000</td>\n",
       "    </tr>\n",
       "  </tbody>\n",
       "</table>\n",
       "</div>"
      ],
      "text/plain": [
       "                  0        1  micro avg  macro avg  weighted avg\n",
       "f1-score      0.918    0.560      0.862      0.739         0.866\n",
       "precision     0.930    0.523      0.862      0.727         0.871\n",
       "recall        0.907    0.602      0.862      0.754         0.862\n",
       "support    5025.000  856.000   5881.000   5881.000      5881.000"
      ]
     },
     "metadata": {},
     "output_type": "display_data"
    },
    {
     "name": "stderr",
     "output_type": "stream",
     "text": [
      "INFO - 2019-03-23 17:13:44,107 - instantiating class <class 'PatientVec.models.Model.Model'> from params {'type': 'seq_classifier_with_attention', 'embedder': {'type': 'token_embedder', 'vocab_size': 29286, 'embed_size': 200, 'embedding_file': './preprocess/Mortality/embedding_matrix.npy'}, 'decoder': {'num_layers': 2, 'hidden_dims': [128, 1], 'activations': ['tanh', 'linear']}, 'predictor': {'type': 'binary'}, 'structured': {'use_structured': True, 'structured_dim': 50}, 'encoder': {'type': 'lstm', 'hidden_size': 128}, 'attention': {'similarity': {'type': 'additive', 'hidden_size': 128}}} and extras {}\n",
      "INFO - 2019-03-23 17:13:44,107 - type = seq_classifier_with_attention\n",
      "INFO - 2019-03-23 17:13:44,108 - instantiating class <class 'PatientVec.models.modules.Embedder.Embedder'> from params {'type': 'token_embedder', 'vocab_size': 29286, 'embed_size': 200, 'embedding_file': './preprocess/Mortality/embedding_matrix.npy'} and extras {}\n",
      "INFO - 2019-03-23 17:13:44,108 - embedder.type = token_embedder\n",
      "INFO - 2019-03-23 17:13:44,108 - instantiating class <class 'PatientVec.models.modules.Embedder.TokenEmbedder'> from params {'vocab_size': 29286, 'embed_size': 200, 'embedding_file': './preprocess/Mortality/embedding_matrix.npy'} and extras {}\n",
      "INFO - 2019-03-23 17:13:44,108 - embedder.vocab_size = 29286\n",
      "INFO - 2019-03-23 17:13:44,109 - embedder.embed_size = 200\n",
      "INFO - 2019-03-23 17:13:44,110 - embedder.embedding_file = ./preprocess/Mortality/embedding_matrix.npy\n",
      "INFO - 2019-03-23 17:13:44,134 - instantiating class <class 'PatientVec.models.modules.Encoder.Encoder'> from params {'type': 'lstm', 'hidden_size': 128} and extras {'input_size': 200}\n",
      "INFO - 2019-03-23 17:13:44,135 - encoder.type = lstm\n",
      "INFO - 2019-03-23 17:13:44,135 - instantiating class <class 'PatientVec.models.modules.Encoder.wrap_pytorch_rnn.<locals>.BiRNNEncoder'> from params {'hidden_size': 128} and extras {'input_size': 200}\n",
      "INFO - 2019-03-23 17:13:44,135 - encoder.hidden_size = 128\n",
      "INFO - 2019-03-23 17:13:44,138 - instantiating class <class 'PatientVec.models.modules.SelfAttention.SelfAttention'> from params {'similarity': {'type': 'additive', 'hidden_size': 128, 'tensor_1_dim': 256}} and extras {}\n",
      "INFO - 2019-03-23 17:13:44,138 - instantiating class <class 'PatientVec.models.modules.UniSimilarity.UniSimilarity'> from params {'type': 'additive', 'hidden_size': 128, 'tensor_1_dim': 256} and extras {}\n",
      "INFO - 2019-03-23 17:13:44,138 - attention.similarity.type = additive\n",
      "INFO - 2019-03-23 17:13:44,139 - instantiating class <class 'PatientVec.models.modules.UniSimilarity.UniAdditiveSimilarity'> from params {'hidden_size': 128, 'tensor_1_dim': 256} and extras {}\n",
      "INFO - 2019-03-23 17:13:44,139 - attention.similarity.tensor_1_dim = 256\n",
      "INFO - 2019-03-23 17:13:44,139 - attention.similarity.hidden_size = 128\n",
      "INFO - 2019-03-23 17:13:44,139 - attention.similarity.output_size = 1\n",
      "INFO - 2019-03-23 17:13:44,140 - attention.normaliser = softmax\n",
      "INFO - 2019-03-23 17:13:44,141 - decoder.input_dim = 306\n",
      "INFO - 2019-03-23 17:13:44,141 - decoder.num_layers = 2\n",
      "INFO - 2019-03-23 17:13:44,141 - decoder.hidden_dims = [128, 1]\n",
      "INFO - 2019-03-23 17:13:44,141 - decoder.activations = ['tanh', 'linear']\n",
      "INFO - 2019-03-23 17:13:44,142 - decoder.dropout = 0.0\n",
      "INFO - 2019-03-23 17:13:44,143 - instantiating class <class 'PatientVec.models.modules.Predictor.Predictor'> from params {'type': 'binary'} and extras {}\n",
      "INFO - 2019-03-23 17:13:44,143 - predictor.type = binary\n",
      "INFO - 2019-03-23 17:13:44,143 - instantiating class <class 'PatientVec.models.modules.Predictor.Binary_Predictor'> from params {} and extras {}\n",
      "INFO - 2019-03-23 17:13:44,143 - predictor.replicate = False\n",
      "INFO - 2019-03-23 17:13:44,144 - predictor.alpha = 0.5\n"
     ]
    },
    {
     "name": "stdout",
     "output_type": "stream",
     "text": [
      "============================================================================================================================================================================================================================================================================================================\n",
      "{'model': {'type': 'seq_classifier_with_attention', 'embedder': {'type': 'token_embedder', 'vocab_size': 29286, 'embed_size': 200, 'embedding_file': './preprocess/Mortality/embedding_matrix.npy'}, 'decoder': {'num_layers': 2, 'hidden_dims': [128, 1], 'activations': ['tanh', 'linear']}, 'predictor': {'type': 'binary'}, 'structured': {'use_structured': True, 'structured_dim': 50}, 'encoder': {'type': 'lstm', 'hidden_size': 128}, 'attention': {'similarity': {'type': 'additive', 'hidden_size': 128}}}, 'training_config': {'type': 'Adam', 'groups': [('.*', {'lr': 0.001, 'weight_decay': 1e-05})], 'common': {'bsize': 32, 'class_weight': True}}, 'exp_config': {'exp_name': 'Mortality_30day/Attention/LSTM(hs=128)+Attention(additive)(hs=128)+Structured', 'basepath': 'outputs/ts_experiments/n=7000'}}\n",
      "Setting Embedding\n"
     ]
    },
    {
     "data": {
      "application/vnd.jupyter.widget-view+json": {
       "model_id": "9ca1213a10684cf29704f4940c9b27c4",
       "version_major": 2,
       "version_minor": 0
      },
      "text/plain": [
       "HBox(children=(IntProgress(value=0, max=8), HTML(value='')))"
      ]
     },
     "metadata": {},
     "output_type": "display_data"
    },
    {
     "data": {
      "application/vnd.jupyter.widget-view+json": {
       "model_id": "942cd2a3181642129b0922b21fc0d220",
       "version_major": 2,
       "version_minor": 0
      },
      "text/plain": [
       "HBox(children=(IntProgress(value=0, max=219), HTML(value='')))"
      ]
     },
     "metadata": {},
     "output_type": "display_data"
    },
    {
     "data": {
      "application/vnd.jupyter.widget-view+json": {
       "model_id": "91f87eb0377f4fe184ac1120293414fa",
       "version_major": 2,
       "version_minor": 0
      },
      "text/plain": [
       "HBox(children=(IntProgress(value=0, max=184), HTML(value='')))"
      ]
     },
     "metadata": {},
     "output_type": "display_data"
    },
    {
     "name": "stdout",
     "output_type": "stream",
     "text": [
      "{'accuracy': 0.8428838632885564, 'roc_auc': 0.9164592923234296, 'pr_auc': 0.7260871124874982}\n"
     ]
    },
    {
     "data": {
      "text/html": [
       "<div>\n",
       "<style scoped>\n",
       "    .dataframe tbody tr th:only-of-type {\n",
       "        vertical-align: middle;\n",
       "    }\n",
       "\n",
       "    .dataframe tbody tr th {\n",
       "        vertical-align: top;\n",
       "    }\n",
       "\n",
       "    .dataframe thead th {\n",
       "        text-align: right;\n",
       "    }\n",
       "</style>\n",
       "<table border=\"1\" class=\"dataframe\">\n",
       "  <thead>\n",
       "    <tr style=\"text-align: right;\">\n",
       "      <th></th>\n",
       "      <th>0</th>\n",
       "      <th>1</th>\n",
       "      <th>micro avg</th>\n",
       "      <th>macro avg</th>\n",
       "      <th>weighted avg</th>\n",
       "    </tr>\n",
       "  </thead>\n",
       "  <tbody>\n",
       "    <tr>\n",
       "      <th>f1-score</th>\n",
       "      <td>0.902</td>\n",
       "      <td>0.603</td>\n",
       "      <td>0.843</td>\n",
       "      <td>0.753</td>\n",
       "      <td>0.859</td>\n",
       "    </tr>\n",
       "    <tr>\n",
       "      <th>precision</th>\n",
       "      <td>0.965</td>\n",
       "      <td>0.477</td>\n",
       "      <td>0.843</td>\n",
       "      <td>0.721</td>\n",
       "      <td>0.894</td>\n",
       "    </tr>\n",
       "    <tr>\n",
       "      <th>recall</th>\n",
       "      <td>0.847</td>\n",
       "      <td>0.820</td>\n",
       "      <td>0.843</td>\n",
       "      <td>0.833</td>\n",
       "      <td>0.843</td>\n",
       "    </tr>\n",
       "    <tr>\n",
       "      <th>support</th>\n",
       "      <td>5025.000</td>\n",
       "      <td>856.000</td>\n",
       "      <td>5881.000</td>\n",
       "      <td>5881.000</td>\n",
       "      <td>5881.000</td>\n",
       "    </tr>\n",
       "  </tbody>\n",
       "</table>\n",
       "</div>"
      ],
      "text/plain": [
       "                  0        1  micro avg  macro avg  weighted avg\n",
       "f1-score      0.902    0.603      0.843      0.753         0.859\n",
       "precision     0.965    0.477      0.843      0.721         0.894\n",
       "recall        0.847    0.820      0.843      0.833         0.843\n",
       "support    5025.000  856.000   5881.000   5881.000      5881.000"
      ]
     },
     "metadata": {},
     "output_type": "display_data"
    },
    {
     "name": "stdout",
     "output_type": "stream",
     "text": [
      "Model Saved on  roc_auc 0.9164592923234296\n"
     ]
    },
    {
     "data": {
      "application/vnd.jupyter.widget-view+json": {
       "model_id": "18feec875fe147db946e43c9e0a8fe13",
       "version_major": 2,
       "version_minor": 0
      },
      "text/plain": [
       "HBox(children=(IntProgress(value=0, max=219), HTML(value='')))"
      ]
     },
     "metadata": {},
     "output_type": "display_data"
    },
    {
     "data": {
      "application/vnd.jupyter.widget-view+json": {
       "model_id": "32901f13514e4ae4ba8fcce1d188be1c",
       "version_major": 2,
       "version_minor": 0
      },
      "text/plain": [
       "HBox(children=(IntProgress(value=0, max=184), HTML(value='')))"
      ]
     },
     "metadata": {},
     "output_type": "display_data"
    },
    {
     "name": "stdout",
     "output_type": "stream",
     "text": [
      "{'accuracy': 0.7250467607549737, 'roc_auc': 0.9270248058771563, 'pr_auc': 0.7513658290002012}\n"
     ]
    },
    {
     "data": {
      "text/html": [
       "<div>\n",
       "<style scoped>\n",
       "    .dataframe tbody tr th:only-of-type {\n",
       "        vertical-align: middle;\n",
       "    }\n",
       "\n",
       "    .dataframe tbody tr th {\n",
       "        vertical-align: top;\n",
       "    }\n",
       "\n",
       "    .dataframe thead th {\n",
       "        text-align: right;\n",
       "    }\n",
       "</style>\n",
       "<table border=\"1\" class=\"dataframe\">\n",
       "  <thead>\n",
       "    <tr style=\"text-align: right;\">\n",
       "      <th></th>\n",
       "      <th>0</th>\n",
       "      <th>1</th>\n",
       "      <th>micro avg</th>\n",
       "      <th>macro avg</th>\n",
       "      <th>weighted avg</th>\n",
       "    </tr>\n",
       "  </thead>\n",
       "  <tbody>\n",
       "    <tr>\n",
       "      <th>f1-score</th>\n",
       "      <td>0.811</td>\n",
       "      <td>0.499</td>\n",
       "      <td>0.725</td>\n",
       "      <td>0.655</td>\n",
       "      <td>0.765</td>\n",
       "    </tr>\n",
       "    <tr>\n",
       "      <th>precision</th>\n",
       "      <td>0.986</td>\n",
       "      <td>0.340</td>\n",
       "      <td>0.725</td>\n",
       "      <td>0.663</td>\n",
       "      <td>0.892</td>\n",
       "    </tr>\n",
       "    <tr>\n",
       "      <th>recall</th>\n",
       "      <td>0.688</td>\n",
       "      <td>0.942</td>\n",
       "      <td>0.725</td>\n",
       "      <td>0.815</td>\n",
       "      <td>0.725</td>\n",
       "    </tr>\n",
       "    <tr>\n",
       "      <th>support</th>\n",
       "      <td>5025.000</td>\n",
       "      <td>856.000</td>\n",
       "      <td>5881.000</td>\n",
       "      <td>5881.000</td>\n",
       "      <td>5881.000</td>\n",
       "    </tr>\n",
       "  </tbody>\n",
       "</table>\n",
       "</div>"
      ],
      "text/plain": [
       "                  0        1  micro avg  macro avg  weighted avg\n",
       "f1-score      0.811    0.499      0.725      0.655         0.765\n",
       "precision     0.986    0.340      0.725      0.663         0.892\n",
       "recall        0.688    0.942      0.725      0.815         0.725\n",
       "support    5025.000  856.000   5881.000   5881.000      5881.000"
      ]
     },
     "metadata": {},
     "output_type": "display_data"
    },
    {
     "name": "stdout",
     "output_type": "stream",
     "text": [
      "Model Saved on  roc_auc 0.9270248058771563\n"
     ]
    },
    {
     "data": {
      "application/vnd.jupyter.widget-view+json": {
       "model_id": "8acf83219abc4f059626e6ea6448c491",
       "version_major": 2,
       "version_minor": 0
      },
      "text/plain": [
       "HBox(children=(IntProgress(value=0, max=219), HTML(value='')))"
      ]
     },
     "metadata": {},
     "output_type": "display_data"
    },
    {
     "data": {
      "application/vnd.jupyter.widget-view+json": {
       "model_id": "e3e8a2f8b88841488701c3c2536d3cc4",
       "version_major": 2,
       "version_minor": 0
      },
      "text/plain": [
       "HBox(children=(IntProgress(value=0, max=184), HTML(value='')))"
      ]
     },
     "metadata": {},
     "output_type": "display_data"
    },
    {
     "name": "stdout",
     "output_type": "stream",
     "text": [
      "{'accuracy': 0.9081788811426628, 'roc_auc': 0.9277430603989398, 'pr_auc': 0.7612100195562046}\n"
     ]
    },
    {
     "data": {
      "text/html": [
       "<div>\n",
       "<style scoped>\n",
       "    .dataframe tbody tr th:only-of-type {\n",
       "        vertical-align: middle;\n",
       "    }\n",
       "\n",
       "    .dataframe tbody tr th {\n",
       "        vertical-align: top;\n",
       "    }\n",
       "\n",
       "    .dataframe thead th {\n",
       "        text-align: right;\n",
       "    }\n",
       "</style>\n",
       "<table border=\"1\" class=\"dataframe\">\n",
       "  <thead>\n",
       "    <tr style=\"text-align: right;\">\n",
       "      <th></th>\n",
       "      <th>0</th>\n",
       "      <th>1</th>\n",
       "      <th>micro avg</th>\n",
       "      <th>macro avg</th>\n",
       "      <th>weighted avg</th>\n",
       "    </tr>\n",
       "  </thead>\n",
       "  <tbody>\n",
       "    <tr>\n",
       "      <th>f1-score</th>\n",
       "      <td>0.946</td>\n",
       "      <td>0.684</td>\n",
       "      <td>0.908</td>\n",
       "      <td>0.815</td>\n",
       "      <td>0.908</td>\n",
       "    </tr>\n",
       "    <tr>\n",
       "      <th>precision</th>\n",
       "      <td>0.946</td>\n",
       "      <td>0.685</td>\n",
       "      <td>0.908</td>\n",
       "      <td>0.816</td>\n",
       "      <td>0.908</td>\n",
       "    </tr>\n",
       "    <tr>\n",
       "      <th>recall</th>\n",
       "      <td>0.947</td>\n",
       "      <td>0.682</td>\n",
       "      <td>0.908</td>\n",
       "      <td>0.814</td>\n",
       "      <td>0.908</td>\n",
       "    </tr>\n",
       "    <tr>\n",
       "      <th>support</th>\n",
       "      <td>5025.000</td>\n",
       "      <td>856.000</td>\n",
       "      <td>5881.000</td>\n",
       "      <td>5881.000</td>\n",
       "      <td>5881.000</td>\n",
       "    </tr>\n",
       "  </tbody>\n",
       "</table>\n",
       "</div>"
      ],
      "text/plain": [
       "                  0        1  micro avg  macro avg  weighted avg\n",
       "f1-score      0.946    0.684      0.908      0.815         0.908\n",
       "precision     0.946    0.685      0.908      0.816         0.908\n",
       "recall        0.947    0.682      0.908      0.814         0.908\n",
       "support    5025.000  856.000   5881.000   5881.000      5881.000"
      ]
     },
     "metadata": {},
     "output_type": "display_data"
    },
    {
     "name": "stdout",
     "output_type": "stream",
     "text": [
      "Model Saved on  roc_auc 0.9277430603989398\n"
     ]
    },
    {
     "data": {
      "application/vnd.jupyter.widget-view+json": {
       "model_id": "8727c8baf5c044e796029f7c4df08367",
       "version_major": 2,
       "version_minor": 0
      },
      "text/plain": [
       "HBox(children=(IntProgress(value=0, max=219), HTML(value='')))"
      ]
     },
     "metadata": {},
     "output_type": "display_data"
    },
    {
     "data": {
      "application/vnd.jupyter.widget-view+json": {
       "model_id": "442ace2adfb7494d9253d8c16d5ceeb5",
       "version_major": 2,
       "version_minor": 0
      },
      "text/plain": [
       "HBox(children=(IntProgress(value=0, max=184), HTML(value='')))"
      ]
     },
     "metadata": {},
     "output_type": "display_data"
    },
    {
     "name": "stdout",
     "output_type": "stream",
     "text": [
      "{'accuracy': 0.7835402142492773, 'roc_auc': 0.9150713721114055, 'pr_auc': 0.7264693909748752}\n"
     ]
    },
    {
     "data": {
      "text/html": [
       "<div>\n",
       "<style scoped>\n",
       "    .dataframe tbody tr th:only-of-type {\n",
       "        vertical-align: middle;\n",
       "    }\n",
       "\n",
       "    .dataframe tbody tr th {\n",
       "        vertical-align: top;\n",
       "    }\n",
       "\n",
       "    .dataframe thead th {\n",
       "        text-align: right;\n",
       "    }\n",
       "</style>\n",
       "<table border=\"1\" class=\"dataframe\">\n",
       "  <thead>\n",
       "    <tr style=\"text-align: right;\">\n",
       "      <th></th>\n",
       "      <th>0</th>\n",
       "      <th>1</th>\n",
       "      <th>micro avg</th>\n",
       "      <th>macro avg</th>\n",
       "      <th>weighted avg</th>\n",
       "    </tr>\n",
       "  </thead>\n",
       "  <tbody>\n",
       "    <tr>\n",
       "      <th>f1-score</th>\n",
       "      <td>0.858</td>\n",
       "      <td>0.541</td>\n",
       "      <td>0.784</td>\n",
       "      <td>0.700</td>\n",
       "      <td>0.812</td>\n",
       "    </tr>\n",
       "    <tr>\n",
       "      <th>precision</th>\n",
       "      <td>0.973</td>\n",
       "      <td>0.391</td>\n",
       "      <td>0.784</td>\n",
       "      <td>0.682</td>\n",
       "      <td>0.889</td>\n",
       "    </tr>\n",
       "    <tr>\n",
       "      <th>recall</th>\n",
       "      <td>0.768</td>\n",
       "      <td>0.877</td>\n",
       "      <td>0.784</td>\n",
       "      <td>0.822</td>\n",
       "      <td>0.784</td>\n",
       "    </tr>\n",
       "    <tr>\n",
       "      <th>support</th>\n",
       "      <td>5025.000</td>\n",
       "      <td>856.000</td>\n",
       "      <td>5881.000</td>\n",
       "      <td>5881.000</td>\n",
       "      <td>5881.000</td>\n",
       "    </tr>\n",
       "  </tbody>\n",
       "</table>\n",
       "</div>"
      ],
      "text/plain": [
       "                  0        1  micro avg  macro avg  weighted avg\n",
       "f1-score      0.858    0.541      0.784      0.700         0.812\n",
       "precision     0.973    0.391      0.784      0.682         0.889\n",
       "recall        0.768    0.877      0.784      0.822         0.784\n",
       "support    5025.000  856.000   5881.000   5881.000      5881.000"
      ]
     },
     "metadata": {},
     "output_type": "display_data"
    },
    {
     "name": "stdout",
     "output_type": "stream",
     "text": [
      "Model not saved on  roc_auc 0.9150713721114055\n"
     ]
    },
    {
     "data": {
      "application/vnd.jupyter.widget-view+json": {
       "model_id": "7e1744acc0d04a27a3bbb5c9436bbad8",
       "version_major": 2,
       "version_minor": 0
      },
      "text/plain": [
       "HBox(children=(IntProgress(value=0, max=219), HTML(value='')))"
      ]
     },
     "metadata": {},
     "output_type": "display_data"
    },
    {
     "data": {
      "application/vnd.jupyter.widget-view+json": {
       "model_id": "a15163f268844fc8922c772eed8562d2",
       "version_major": 2,
       "version_minor": 0
      },
      "text/plain": [
       "HBox(children=(IntProgress(value=0, max=184), HTML(value='')))"
      ]
     },
     "metadata": {},
     "output_type": "display_data"
    },
    {
     "name": "stdout",
     "output_type": "stream",
     "text": [
      "{'accuracy': 0.836932494473729, 'roc_auc': 0.9149400195285257, 'pr_auc': 0.7156289761252871}\n"
     ]
    },
    {
     "data": {
      "text/html": [
       "<div>\n",
       "<style scoped>\n",
       "    .dataframe tbody tr th:only-of-type {\n",
       "        vertical-align: middle;\n",
       "    }\n",
       "\n",
       "    .dataframe tbody tr th {\n",
       "        vertical-align: top;\n",
       "    }\n",
       "\n",
       "    .dataframe thead th {\n",
       "        text-align: right;\n",
       "    }\n",
       "</style>\n",
       "<table border=\"1\" class=\"dataframe\">\n",
       "  <thead>\n",
       "    <tr style=\"text-align: right;\">\n",
       "      <th></th>\n",
       "      <th>0</th>\n",
       "      <th>1</th>\n",
       "      <th>micro avg</th>\n",
       "      <th>macro avg</th>\n",
       "      <th>weighted avg</th>\n",
       "    </tr>\n",
       "  </thead>\n",
       "  <tbody>\n",
       "    <tr>\n",
       "      <th>f1-score</th>\n",
       "      <td>0.898</td>\n",
       "      <td>0.599</td>\n",
       "      <td>0.837</td>\n",
       "      <td>0.748</td>\n",
       "      <td>0.854</td>\n",
       "    </tr>\n",
       "    <tr>\n",
       "      <th>precision</th>\n",
       "      <td>0.968</td>\n",
       "      <td>0.466</td>\n",
       "      <td>0.837</td>\n",
       "      <td>0.717</td>\n",
       "      <td>0.895</td>\n",
       "    </tr>\n",
       "    <tr>\n",
       "      <th>recall</th>\n",
       "      <td>0.837</td>\n",
       "      <td>0.838</td>\n",
       "      <td>0.837</td>\n",
       "      <td>0.837</td>\n",
       "      <td>0.837</td>\n",
       "    </tr>\n",
       "    <tr>\n",
       "      <th>support</th>\n",
       "      <td>5025.000</td>\n",
       "      <td>856.000</td>\n",
       "      <td>5881.000</td>\n",
       "      <td>5881.000</td>\n",
       "      <td>5881.000</td>\n",
       "    </tr>\n",
       "  </tbody>\n",
       "</table>\n",
       "</div>"
      ],
      "text/plain": [
       "                  0        1  micro avg  macro avg  weighted avg\n",
       "f1-score      0.898    0.599      0.837      0.748         0.854\n",
       "precision     0.968    0.466      0.837      0.717         0.895\n",
       "recall        0.837    0.838      0.837      0.837         0.837\n",
       "support    5025.000  856.000   5881.000   5881.000      5881.000"
      ]
     },
     "metadata": {},
     "output_type": "display_data"
    },
    {
     "name": "stdout",
     "output_type": "stream",
     "text": [
      "Model not saved on  roc_auc 0.9149400195285257\n"
     ]
    },
    {
     "data": {
      "application/vnd.jupyter.widget-view+json": {
       "model_id": "8f01dffdc0e5438684a5d7724366d618",
       "version_major": 2,
       "version_minor": 0
      },
      "text/plain": [
       "HBox(children=(IntProgress(value=0, max=219), HTML(value='')))"
      ]
     },
     "metadata": {},
     "output_type": "display_data"
    },
    {
     "data": {
      "application/vnd.jupyter.widget-view+json": {
       "model_id": "11fad3e23a3f4097886437932fc732a0",
       "version_major": 2,
       "version_minor": 0
      },
      "text/plain": [
       "HBox(children=(IntProgress(value=0, max=184), HTML(value='')))"
      ]
     },
     "metadata": {},
     "output_type": "display_data"
    },
    {
     "name": "stdout",
     "output_type": "stream",
     "text": [
      "{'accuracy': 0.9080088420336677, 'roc_auc': 0.9155435439624308, 'pr_auc': 0.7333269227852314}\n"
     ]
    },
    {
     "data": {
      "text/html": [
       "<div>\n",
       "<style scoped>\n",
       "    .dataframe tbody tr th:only-of-type {\n",
       "        vertical-align: middle;\n",
       "    }\n",
       "\n",
       "    .dataframe tbody tr th {\n",
       "        vertical-align: top;\n",
       "    }\n",
       "\n",
       "    .dataframe thead th {\n",
       "        text-align: right;\n",
       "    }\n",
       "</style>\n",
       "<table border=\"1\" class=\"dataframe\">\n",
       "  <thead>\n",
       "    <tr style=\"text-align: right;\">\n",
       "      <th></th>\n",
       "      <th>0</th>\n",
       "      <th>1</th>\n",
       "      <th>micro avg</th>\n",
       "      <th>macro avg</th>\n",
       "      <th>weighted avg</th>\n",
       "    </tr>\n",
       "  </thead>\n",
       "  <tbody>\n",
       "    <tr>\n",
       "      <th>f1-score</th>\n",
       "      <td>0.947</td>\n",
       "      <td>0.661</td>\n",
       "      <td>0.908</td>\n",
       "      <td>0.804</td>\n",
       "      <td>0.905</td>\n",
       "    </tr>\n",
       "    <tr>\n",
       "      <th>precision</th>\n",
       "      <td>0.936</td>\n",
       "      <td>0.713</td>\n",
       "      <td>0.908</td>\n",
       "      <td>0.825</td>\n",
       "      <td>0.904</td>\n",
       "    </tr>\n",
       "    <tr>\n",
       "      <th>recall</th>\n",
       "      <td>0.958</td>\n",
       "      <td>0.616</td>\n",
       "      <td>0.908</td>\n",
       "      <td>0.787</td>\n",
       "      <td>0.908</td>\n",
       "    </tr>\n",
       "    <tr>\n",
       "      <th>support</th>\n",
       "      <td>5025.000</td>\n",
       "      <td>856.000</td>\n",
       "      <td>5881.000</td>\n",
       "      <td>5881.000</td>\n",
       "      <td>5881.000</td>\n",
       "    </tr>\n",
       "  </tbody>\n",
       "</table>\n",
       "</div>"
      ],
      "text/plain": [
       "                  0        1  micro avg  macro avg  weighted avg\n",
       "f1-score      0.947    0.661      0.908      0.804         0.905\n",
       "precision     0.936    0.713      0.908      0.825         0.904\n",
       "recall        0.958    0.616      0.908      0.787         0.908\n",
       "support    5025.000  856.000   5881.000   5881.000      5881.000"
      ]
     },
     "metadata": {},
     "output_type": "display_data"
    },
    {
     "name": "stderr",
     "output_type": "stream",
     "text": [
      "INFO - 2019-03-23 17:31:54,204 - instantiating class <class 'PatientVec.models.Model.Model'> from params {'type': 'seq_classifier_with_attention', 'embedder': {'type': 'token_embedder', 'vocab_size': 29286, 'embed_size': 200, 'embedding_file': './preprocess/Mortality/embedding_matrix.npy'}, 'decoder': {'num_layers': 2, 'hidden_dims': [128, 1], 'activations': ['tanh', 'linear']}, 'predictor': {'type': 'binary'}, 'structured': {'use_structured': True, 'structured_dim': 50}, 'encoder': {'type': 'lstm', 'hidden_size': 128}, 'attention': {'similarity': {'type': 'additive', 'hidden_size': 128}}} and extras {}\n",
      "INFO - 2019-03-23 17:31:54,204 - type = seq_classifier_with_attention\n",
      "INFO - 2019-03-23 17:31:54,204 - instantiating class <class 'PatientVec.models.modules.Embedder.Embedder'> from params {'type': 'token_embedder', 'vocab_size': 29286, 'embed_size': 200, 'embedding_file': './preprocess/Mortality/embedding_matrix.npy'} and extras {}\n",
      "INFO - 2019-03-23 17:31:54,205 - embedder.type = token_embedder\n",
      "INFO - 2019-03-23 17:31:54,205 - instantiating class <class 'PatientVec.models.modules.Embedder.TokenEmbedder'> from params {'vocab_size': 29286, 'embed_size': 200, 'embedding_file': './preprocess/Mortality/embedding_matrix.npy'} and extras {}\n",
      "INFO - 2019-03-23 17:31:54,205 - embedder.vocab_size = 29286\n",
      "INFO - 2019-03-23 17:31:54,206 - embedder.embed_size = 200\n",
      "INFO - 2019-03-23 17:31:54,206 - embedder.embedding_file = ./preprocess/Mortality/embedding_matrix.npy\n",
      "INFO - 2019-03-23 17:31:54,231 - instantiating class <class 'PatientVec.models.modules.Encoder.Encoder'> from params {'type': 'lstm', 'hidden_size': 128} and extras {'input_size': 200}\n",
      "INFO - 2019-03-23 17:31:54,231 - encoder.type = lstm\n",
      "INFO - 2019-03-23 17:31:54,231 - instantiating class <class 'PatientVec.models.modules.Encoder.wrap_pytorch_rnn.<locals>.BiRNNEncoder'> from params {'hidden_size': 128} and extras {'input_size': 200}\n",
      "INFO - 2019-03-23 17:31:54,232 - encoder.hidden_size = 128\n",
      "INFO - 2019-03-23 17:31:54,234 - instantiating class <class 'PatientVec.models.modules.SelfAttention.SelfAttention'> from params {'similarity': {'type': 'additive', 'hidden_size': 128, 'tensor_1_dim': 256}} and extras {}\n",
      "INFO - 2019-03-23 17:31:54,234 - instantiating class <class 'PatientVec.models.modules.UniSimilarity.UniSimilarity'> from params {'type': 'additive', 'hidden_size': 128, 'tensor_1_dim': 256} and extras {}\n",
      "INFO - 2019-03-23 17:31:54,234 - attention.similarity.type = additive\n",
      "INFO - 2019-03-23 17:31:54,235 - instantiating class <class 'PatientVec.models.modules.UniSimilarity.UniAdditiveSimilarity'> from params {'hidden_size': 128, 'tensor_1_dim': 256} and extras {}\n",
      "INFO - 2019-03-23 17:31:54,235 - attention.similarity.tensor_1_dim = 256\n",
      "INFO - 2019-03-23 17:31:54,235 - attention.similarity.hidden_size = 128\n",
      "INFO - 2019-03-23 17:31:54,236 - attention.similarity.output_size = 1\n",
      "INFO - 2019-03-23 17:31:54,237 - attention.normaliser = softmax\n",
      "INFO - 2019-03-23 17:31:54,237 - decoder.input_dim = 306\n",
      "INFO - 2019-03-23 17:31:54,237 - decoder.num_layers = 2\n",
      "INFO - 2019-03-23 17:31:54,237 - decoder.hidden_dims = [128, 1]\n",
      "INFO - 2019-03-23 17:31:54,238 - decoder.activations = ['tanh', 'linear']\n",
      "INFO - 2019-03-23 17:31:54,238 - decoder.dropout = 0.0\n",
      "INFO - 2019-03-23 17:31:54,239 - instantiating class <class 'PatientVec.models.modules.Predictor.Predictor'> from params {'type': 'binary'} and extras {}\n",
      "INFO - 2019-03-23 17:31:54,239 - predictor.type = binary\n",
      "INFO - 2019-03-23 17:31:54,239 - instantiating class <class 'PatientVec.models.modules.Predictor.Binary_Predictor'> from params {} and extras {}\n",
      "INFO - 2019-03-23 17:31:54,240 - predictor.replicate = False\n",
      "INFO - 2019-03-23 17:31:54,240 - predictor.alpha = 0.5\n"
     ]
    },
    {
     "name": "stdout",
     "output_type": "stream",
     "text": [
      "Model not saved on  roc_auc 0.9155435439624308\n",
      "0.9277430603989398 deque([0.9150713721114055, 0.9149400195285257, 0.9155435439624308], maxlen=3)\n",
      "\n",
      "Setting Embedding\n"
     ]
    },
    {
     "data": {
      "application/vnd.jupyter.widget-view+json": {
       "model_id": "54d9fb2b20a042cfb3976280535962bb",
       "version_major": 2,
       "version_minor": 0
      },
      "text/plain": [
       "HBox(children=(IntProgress(value=0, max=184), HTML(value='')))"
      ]
     },
     "metadata": {},
     "output_type": "display_data"
    },
    {
     "name": "stdout",
     "output_type": "stream",
     "text": [
      "\n",
      "{'accuracy': 0.9081788811426628, 'roc_auc': 0.9277430603989398, 'pr_auc': 0.7612100195562046}\n"
     ]
    },
    {
     "data": {
      "text/html": [
       "<div>\n",
       "<style scoped>\n",
       "    .dataframe tbody tr th:only-of-type {\n",
       "        vertical-align: middle;\n",
       "    }\n",
       "\n",
       "    .dataframe tbody tr th {\n",
       "        vertical-align: top;\n",
       "    }\n",
       "\n",
       "    .dataframe thead th {\n",
       "        text-align: right;\n",
       "    }\n",
       "</style>\n",
       "<table border=\"1\" class=\"dataframe\">\n",
       "  <thead>\n",
       "    <tr style=\"text-align: right;\">\n",
       "      <th></th>\n",
       "      <th>0</th>\n",
       "      <th>1</th>\n",
       "      <th>micro avg</th>\n",
       "      <th>macro avg</th>\n",
       "      <th>weighted avg</th>\n",
       "    </tr>\n",
       "  </thead>\n",
       "  <tbody>\n",
       "    <tr>\n",
       "      <th>f1-score</th>\n",
       "      <td>0.946</td>\n",
       "      <td>0.684</td>\n",
       "      <td>0.908</td>\n",
       "      <td>0.815</td>\n",
       "      <td>0.908</td>\n",
       "    </tr>\n",
       "    <tr>\n",
       "      <th>precision</th>\n",
       "      <td>0.946</td>\n",
       "      <td>0.685</td>\n",
       "      <td>0.908</td>\n",
       "      <td>0.816</td>\n",
       "      <td>0.908</td>\n",
       "    </tr>\n",
       "    <tr>\n",
       "      <th>recall</th>\n",
       "      <td>0.947</td>\n",
       "      <td>0.682</td>\n",
       "      <td>0.908</td>\n",
       "      <td>0.814</td>\n",
       "      <td>0.908</td>\n",
       "    </tr>\n",
       "    <tr>\n",
       "      <th>support</th>\n",
       "      <td>5025.000</td>\n",
       "      <td>856.000</td>\n",
       "      <td>5881.000</td>\n",
       "      <td>5881.000</td>\n",
       "      <td>5881.000</td>\n",
       "    </tr>\n",
       "  </tbody>\n",
       "</table>\n",
       "</div>"
      ],
      "text/plain": [
       "                  0        1  micro avg  macro avg  weighted avg\n",
       "f1-score      0.946    0.684      0.908      0.815         0.908\n",
       "precision     0.946    0.685      0.908      0.816         0.908\n",
       "recall        0.947    0.682      0.908      0.814         0.908\n",
       "support    5025.000  856.000   5881.000   5881.000      5881.000"
      ]
     },
     "metadata": {},
     "output_type": "display_data"
    },
    {
     "name": "stdout",
     "output_type": "stream",
     "text": [
      "============================================================================================================================================================================================================================================================================================================\n"
     ]
    },
    {
     "name": "stderr",
     "output_type": "stream",
     "text": [
      "INFO - 2019-03-23 17:33:25,655 - Reading Structured data ...\n",
      "INFO - 2019-03-23 17:33:25,788 - Reading Notes ...\n",
      "INFO - 2019-03-23 17:33:36,222 - Stratifying ...\n"
     ]
    },
    {
     "name": "stdout",
     "output_type": "stream",
     "text": [
      "Pos Percentage [0.15129873]\n"
     ]
    },
    {
     "name": "stderr",
     "output_type": "stream",
     "text": [
      "INFO - 2019-03-23 17:33:40,461 - Maximum Sentence Length 721825.000000 , 90 percentile length 18596.000000 ... \n",
      "INFO - 2019-03-23 17:33:52,946 - Truncated all ...\n",
      "INFO - 2019-03-23 17:33:52,988 - Idxs removed []...\n"
     ]
    },
    {
     "name": "stdout",
     "output_type": "stream",
     "text": [
      "Pos Percentage [0.14555348]\n"
     ]
    },
    {
     "name": "stderr",
     "output_type": "stream",
     "text": [
      "INFO - 2019-03-23 17:33:54,004 - Maximum Sentence Length 420764.000000 , 90 percentile length 17662.000000 ... \n",
      "INFO - 2019-03-23 17:33:55,915 - Truncated all ...\n",
      "INFO - 2019-03-23 17:33:55,927 - Idxs removed []...\n",
      "INFO - 2019-03-23 17:33:56,112 - instantiating class <class 'PatientVec.models.Model.Model'> from params {'type': 'seq_classifier', 'embedder': {'type': 'token_embedder', 'vocab_size': 29286, 'embed_size': 200, 'embedding_file': './preprocess/Mortality/embedding_matrix.npy'}, 'decoder': {'num_layers': 2, 'hidden_dims': [128, 1], 'activations': ['tanh', 'linear']}, 'predictor': {'type': 'binary'}, 'structured': {'use_structured': True, 'structured_dim': 50}, 'encoder': {'type': 'average', 'projection': True, 'hidden_size': 256, 'activation': 'relu'}} and extras {}\n",
      "INFO - 2019-03-23 17:33:56,113 - type = seq_classifier\n",
      "INFO - 2019-03-23 17:33:56,114 - instantiating class <class 'PatientVec.models.modules.Embedder.Embedder'> from params {'type': 'token_embedder', 'vocab_size': 29286, 'embed_size': 200, 'embedding_file': './preprocess/Mortality/embedding_matrix.npy'} and extras {}\n",
      "INFO - 2019-03-23 17:33:56,116 - embedder.type = token_embedder\n",
      "INFO - 2019-03-23 17:33:56,119 - instantiating class <class 'PatientVec.models.modules.Embedder.TokenEmbedder'> from params {'vocab_size': 29286, 'embed_size': 200, 'embedding_file': './preprocess/Mortality/embedding_matrix.npy'} and extras {}\n",
      "INFO - 2019-03-23 17:33:56,120 - embedder.vocab_size = 29286\n",
      "INFO - 2019-03-23 17:33:56,121 - embedder.embed_size = 200\n",
      "INFO - 2019-03-23 17:33:56,122 - embedder.embedding_file = ./preprocess/Mortality/embedding_matrix.npy\n",
      "INFO - 2019-03-23 17:33:56,164 - instantiating class <class 'PatientVec.models.modules.Encoder.Encoder'> from params {'type': 'average', 'projection': True, 'hidden_size': 256, 'activation': 'relu'} and extras {'input_size': 200}\n",
      "INFO - 2019-03-23 17:33:56,164 - encoder.type = average\n",
      "INFO - 2019-03-23 17:33:56,165 - instantiating class <class 'PatientVec.models.modules.Encoder.AverageEncoder'> from params {'projection': True, 'hidden_size': 256, 'activation': 'relu'} and extras {'input_size': 200}\n",
      "INFO - 2019-03-23 17:33:56,165 - encoder.projection = True\n",
      "INFO - 2019-03-23 17:33:56,165 - encoder.hidden_size = 256\n",
      "INFO - 2019-03-23 17:33:56,166 - encoder.activation = relu\n",
      "INFO - 2019-03-23 17:33:56,167 - decoder.input_dim = 306\n",
      "INFO - 2019-03-23 17:33:56,167 - decoder.num_layers = 2\n",
      "INFO - 2019-03-23 17:33:56,167 - decoder.hidden_dims = [128, 1]\n",
      "INFO - 2019-03-23 17:33:56,168 - decoder.activations = ['tanh', 'linear']\n",
      "INFO - 2019-03-23 17:33:56,168 - decoder.dropout = 0.0\n",
      "INFO - 2019-03-23 17:33:56,169 - instantiating class <class 'PatientVec.models.modules.Predictor.Predictor'> from params {'type': 'binary'} and extras {}\n",
      "INFO - 2019-03-23 17:33:56,170 - predictor.type = binary\n",
      "INFO - 2019-03-23 17:33:56,170 - instantiating class <class 'PatientVec.models.modules.Predictor.Binary_Predictor'> from params {} and extras {}\n",
      "INFO - 2019-03-23 17:33:56,170 - predictor.replicate = False\n",
      "INFO - 2019-03-23 17:33:56,171 - predictor.alpha = 0.5\n"
     ]
    },
    {
     "name": "stdout",
     "output_type": "stream",
     "text": [
      "{'model': {'type': 'seq_classifier', 'embedder': {'type': 'token_embedder', 'vocab_size': 29286, 'embed_size': 200, 'embedding_file': './preprocess/Mortality/embedding_matrix.npy'}, 'decoder': {'num_layers': 2, 'hidden_dims': [128, 1], 'activations': ['tanh', 'linear']}, 'predictor': {'type': 'binary'}, 'structured': {'use_structured': True, 'structured_dim': 50}, 'encoder': {'type': 'average', 'projection': True, 'hidden_size': 256, 'activation': 'relu'}}, 'training_config': {'type': 'Adam', 'groups': [('.*', {'lr': 0.001, 'weight_decay': 1e-05})], 'common': {'bsize': 32, 'class_weight': True}}, 'exp_config': {'exp_name': 'Mortality_30day/Basic/Average(hs=256)+Structured', 'basepath': 'outputs/ts_experiments/n=9000'}}\n",
      "Setting Embedding\n"
     ]
    },
    {
     "data": {
      "application/vnd.jupyter.widget-view+json": {
       "model_id": "c9e85b0ba067455ea8ae32e929b73feb",
       "version_major": 2,
       "version_minor": 0
      },
      "text/plain": [
       "HBox(children=(IntProgress(value=0, max=8), HTML(value='')))"
      ]
     },
     "metadata": {},
     "output_type": "display_data"
    },
    {
     "data": {
      "application/vnd.jupyter.widget-view+json": {
       "model_id": "f539341ceaff4e289a55d918eab85bbc",
       "version_major": 2,
       "version_minor": 0
      },
      "text/plain": [
       "HBox(children=(IntProgress(value=0, max=282), HTML(value='')))"
      ]
     },
     "metadata": {},
     "output_type": "display_data"
    },
    {
     "data": {
      "application/vnd.jupyter.widget-view+json": {
       "model_id": "f460fff8fbe84f7981c744c062daafc5",
       "version_major": 2,
       "version_minor": 0
      },
      "text/plain": [
       "HBox(children=(IntProgress(value=0, max=184), HTML(value='')))"
      ]
     },
     "metadata": {},
     "output_type": "display_data"
    },
    {
     "name": "stdout",
     "output_type": "stream",
     "text": [
      "{'accuracy': 0.5767726577112736, 'roc_auc': 0.8468210350118566, 'pr_auc': 0.5117789625181824}\n"
     ]
    },
    {
     "data": {
      "text/html": [
       "<div>\n",
       "<style scoped>\n",
       "    .dataframe tbody tr th:only-of-type {\n",
       "        vertical-align: middle;\n",
       "    }\n",
       "\n",
       "    .dataframe tbody tr th {\n",
       "        vertical-align: top;\n",
       "    }\n",
       "\n",
       "    .dataframe thead th {\n",
       "        text-align: right;\n",
       "    }\n",
       "</style>\n",
       "<table border=\"1\" class=\"dataframe\">\n",
       "  <thead>\n",
       "    <tr style=\"text-align: right;\">\n",
       "      <th></th>\n",
       "      <th>0</th>\n",
       "      <th>1</th>\n",
       "      <th>micro avg</th>\n",
       "      <th>macro avg</th>\n",
       "      <th>weighted avg</th>\n",
       "    </tr>\n",
       "  </thead>\n",
       "  <tbody>\n",
       "    <tr>\n",
       "      <th>f1-score</th>\n",
       "      <td>0.675</td>\n",
       "      <td>0.393</td>\n",
       "      <td>0.577</td>\n",
       "      <td>0.534</td>\n",
       "      <td>0.634</td>\n",
       "    </tr>\n",
       "    <tr>\n",
       "      <th>precision</th>\n",
       "      <td>0.981</td>\n",
       "      <td>0.248</td>\n",
       "      <td>0.577</td>\n",
       "      <td>0.614</td>\n",
       "      <td>0.874</td>\n",
       "    </tr>\n",
       "    <tr>\n",
       "      <th>recall</th>\n",
       "      <td>0.515</td>\n",
       "      <td>0.940</td>\n",
       "      <td>0.577</td>\n",
       "      <td>0.728</td>\n",
       "      <td>0.577</td>\n",
       "    </tr>\n",
       "    <tr>\n",
       "      <th>support</th>\n",
       "      <td>5025.000</td>\n",
       "      <td>856.000</td>\n",
       "      <td>5881.000</td>\n",
       "      <td>5881.000</td>\n",
       "      <td>5881.000</td>\n",
       "    </tr>\n",
       "  </tbody>\n",
       "</table>\n",
       "</div>"
      ],
      "text/plain": [
       "                  0        1  micro avg  macro avg  weighted avg\n",
       "f1-score      0.675    0.393      0.577      0.534         0.634\n",
       "precision     0.981    0.248      0.577      0.614         0.874\n",
       "recall        0.515    0.940      0.577      0.728         0.577\n",
       "support    5025.000  856.000   5881.000   5881.000      5881.000"
      ]
     },
     "metadata": {},
     "output_type": "display_data"
    },
    {
     "name": "stdout",
     "output_type": "stream",
     "text": [
      "Model Saved on  roc_auc 0.8468210350118566\n"
     ]
    },
    {
     "data": {
      "application/vnd.jupyter.widget-view+json": {
       "model_id": "95af1b948e3b4224b46c34ccb778cf31",
       "version_major": 2,
       "version_minor": 0
      },
      "text/plain": [
       "HBox(children=(IntProgress(value=0, max=282), HTML(value='')))"
      ]
     },
     "metadata": {},
     "output_type": "display_data"
    },
    {
     "data": {
      "application/vnd.jupyter.widget-view+json": {
       "model_id": "e7441bcc31834c6b9e2daf6117ba0ab0",
       "version_major": 2,
       "version_minor": 0
      },
      "text/plain": [
       "HBox(children=(IntProgress(value=0, max=184), HTML(value='')))"
      ]
     },
     "metadata": {},
     "output_type": "display_data"
    },
    {
     "name": "stdout",
     "output_type": "stream",
     "text": [
      "{'accuracy': 0.6471688488352321, 'roc_auc': 0.8597202073743431, 'pr_auc': 0.5609104189265065}\n"
     ]
    },
    {
     "data": {
      "text/html": [
       "<div>\n",
       "<style scoped>\n",
       "    .dataframe tbody tr th:only-of-type {\n",
       "        vertical-align: middle;\n",
       "    }\n",
       "\n",
       "    .dataframe tbody tr th {\n",
       "        vertical-align: top;\n",
       "    }\n",
       "\n",
       "    .dataframe thead th {\n",
       "        text-align: right;\n",
       "    }\n",
       "</style>\n",
       "<table border=\"1\" class=\"dataframe\">\n",
       "  <thead>\n",
       "    <tr style=\"text-align: right;\">\n",
       "      <th></th>\n",
       "      <th>0</th>\n",
       "      <th>1</th>\n",
       "      <th>micro avg</th>\n",
       "      <th>macro avg</th>\n",
       "      <th>weighted avg</th>\n",
       "    </tr>\n",
       "  </thead>\n",
       "  <tbody>\n",
       "    <tr>\n",
       "      <th>f1-score</th>\n",
       "      <td>0.744</td>\n",
       "      <td>0.432</td>\n",
       "      <td>0.647</td>\n",
       "      <td>0.588</td>\n",
       "      <td>0.699</td>\n",
       "    </tr>\n",
       "    <tr>\n",
       "      <th>precision</th>\n",
       "      <td>0.978</td>\n",
       "      <td>0.282</td>\n",
       "      <td>0.647</td>\n",
       "      <td>0.630</td>\n",
       "      <td>0.877</td>\n",
       "    </tr>\n",
       "    <tr>\n",
       "      <th>recall</th>\n",
       "      <td>0.601</td>\n",
       "      <td>0.921</td>\n",
       "      <td>0.647</td>\n",
       "      <td>0.761</td>\n",
       "      <td>0.647</td>\n",
       "    </tr>\n",
       "    <tr>\n",
       "      <th>support</th>\n",
       "      <td>5025.000</td>\n",
       "      <td>856.000</td>\n",
       "      <td>5881.000</td>\n",
       "      <td>5881.000</td>\n",
       "      <td>5881.000</td>\n",
       "    </tr>\n",
       "  </tbody>\n",
       "</table>\n",
       "</div>"
      ],
      "text/plain": [
       "                  0        1  micro avg  macro avg  weighted avg\n",
       "f1-score      0.744    0.432      0.647      0.588         0.699\n",
       "precision     0.978    0.282      0.647      0.630         0.877\n",
       "recall        0.601    0.921      0.647      0.761         0.647\n",
       "support    5025.000  856.000   5881.000   5881.000      5881.000"
      ]
     },
     "metadata": {},
     "output_type": "display_data"
    },
    {
     "name": "stdout",
     "output_type": "stream",
     "text": [
      "Model Saved on  roc_auc 0.8597202073743431\n"
     ]
    },
    {
     "data": {
      "application/vnd.jupyter.widget-view+json": {
       "model_id": "8a5c055360c5400ca38440c6bea54c17",
       "version_major": 2,
       "version_minor": 0
      },
      "text/plain": [
       "HBox(children=(IntProgress(value=0, max=282), HTML(value='')))"
      ]
     },
     "metadata": {},
     "output_type": "display_data"
    },
    {
     "data": {
      "application/vnd.jupyter.widget-view+json": {
       "model_id": "f4ed0841495b44d6b6cd810ba16b0e3a",
       "version_major": 2,
       "version_minor": 0
      },
      "text/plain": [
       "HBox(children=(IntProgress(value=0, max=184), HTML(value='')))"
      ]
     },
     "metadata": {},
     "output_type": "display_data"
    },
    {
     "name": "stdout",
     "output_type": "stream",
     "text": [
      "{'accuracy': 0.7451113756163917, 'roc_auc': 0.8667103733668107, 'pr_auc': 0.5917192758244997}\n"
     ]
    },
    {
     "data": {
      "text/html": [
       "<div>\n",
       "<style scoped>\n",
       "    .dataframe tbody tr th:only-of-type {\n",
       "        vertical-align: middle;\n",
       "    }\n",
       "\n",
       "    .dataframe tbody tr th {\n",
       "        vertical-align: top;\n",
       "    }\n",
       "\n",
       "    .dataframe thead th {\n",
       "        text-align: right;\n",
       "    }\n",
       "</style>\n",
       "<table border=\"1\" class=\"dataframe\">\n",
       "  <thead>\n",
       "    <tr style=\"text-align: right;\">\n",
       "      <th></th>\n",
       "      <th>0</th>\n",
       "      <th>1</th>\n",
       "      <th>micro avg</th>\n",
       "      <th>macro avg</th>\n",
       "      <th>weighted avg</th>\n",
       "    </tr>\n",
       "  </thead>\n",
       "  <tbody>\n",
       "    <tr>\n",
       "      <th>f1-score</th>\n",
       "      <td>0.830</td>\n",
       "      <td>0.491</td>\n",
       "      <td>0.745</td>\n",
       "      <td>0.661</td>\n",
       "      <td>0.781</td>\n",
       "    </tr>\n",
       "    <tr>\n",
       "      <th>precision</th>\n",
       "      <td>0.965</td>\n",
       "      <td>0.346</td>\n",
       "      <td>0.745</td>\n",
       "      <td>0.656</td>\n",
       "      <td>0.875</td>\n",
       "    </tr>\n",
       "    <tr>\n",
       "      <th>recall</th>\n",
       "      <td>0.728</td>\n",
       "      <td>0.846</td>\n",
       "      <td>0.745</td>\n",
       "      <td>0.787</td>\n",
       "      <td>0.745</td>\n",
       "    </tr>\n",
       "    <tr>\n",
       "      <th>support</th>\n",
       "      <td>5025.000</td>\n",
       "      <td>856.000</td>\n",
       "      <td>5881.000</td>\n",
       "      <td>5881.000</td>\n",
       "      <td>5881.000</td>\n",
       "    </tr>\n",
       "  </tbody>\n",
       "</table>\n",
       "</div>"
      ],
      "text/plain": [
       "                  0        1  micro avg  macro avg  weighted avg\n",
       "f1-score      0.830    0.491      0.745      0.661         0.781\n",
       "precision     0.965    0.346      0.745      0.656         0.875\n",
       "recall        0.728    0.846      0.745      0.787         0.745\n",
       "support    5025.000  856.000   5881.000   5881.000      5881.000"
      ]
     },
     "metadata": {},
     "output_type": "display_data"
    },
    {
     "name": "stdout",
     "output_type": "stream",
     "text": [
      "Model Saved on  roc_auc 0.8667103733668107\n"
     ]
    },
    {
     "data": {
      "application/vnd.jupyter.widget-view+json": {
       "model_id": "58f22aa7c70744b38c7e9583a45a3d09",
       "version_major": 2,
       "version_minor": 0
      },
      "text/plain": [
       "HBox(children=(IntProgress(value=0, max=282), HTML(value='')))"
      ]
     },
     "metadata": {},
     "output_type": "display_data"
    },
    {
     "data": {
      "application/vnd.jupyter.widget-view+json": {
       "model_id": "c10b981ee9de4e9696669cd708998b35",
       "version_major": 2,
       "version_minor": 0
      },
      "text/plain": [
       "HBox(children=(IntProgress(value=0, max=184), HTML(value='')))"
      ]
     },
     "metadata": {},
     "output_type": "display_data"
    },
    {
     "name": "stdout",
     "output_type": "stream",
     "text": [
      "{'accuracy': 0.6723346369665023, 'roc_auc': 0.8776635514018692, 'pr_auc': 0.6220725065630036}\n"
     ]
    },
    {
     "data": {
      "text/html": [
       "<div>\n",
       "<style scoped>\n",
       "    .dataframe tbody tr th:only-of-type {\n",
       "        vertical-align: middle;\n",
       "    }\n",
       "\n",
       "    .dataframe tbody tr th {\n",
       "        vertical-align: top;\n",
       "    }\n",
       "\n",
       "    .dataframe thead th {\n",
       "        text-align: right;\n",
       "    }\n",
       "</style>\n",
       "<table border=\"1\" class=\"dataframe\">\n",
       "  <thead>\n",
       "    <tr style=\"text-align: right;\">\n",
       "      <th></th>\n",
       "      <th>0</th>\n",
       "      <th>1</th>\n",
       "      <th>micro avg</th>\n",
       "      <th>macro avg</th>\n",
       "      <th>weighted avg</th>\n",
       "    </tr>\n",
       "  </thead>\n",
       "  <tbody>\n",
       "    <tr>\n",
       "      <th>f1-score</th>\n",
       "      <td>0.767</td>\n",
       "      <td>0.450</td>\n",
       "      <td>0.672</td>\n",
       "      <td>0.608</td>\n",
       "      <td>0.721</td>\n",
       "    </tr>\n",
       "    <tr>\n",
       "      <th>precision</th>\n",
       "      <td>0.979</td>\n",
       "      <td>0.298</td>\n",
       "      <td>0.672</td>\n",
       "      <td>0.638</td>\n",
       "      <td>0.880</td>\n",
       "    </tr>\n",
       "    <tr>\n",
       "      <th>recall</th>\n",
       "      <td>0.630</td>\n",
       "      <td>0.919</td>\n",
       "      <td>0.672</td>\n",
       "      <td>0.775</td>\n",
       "      <td>0.672</td>\n",
       "    </tr>\n",
       "    <tr>\n",
       "      <th>support</th>\n",
       "      <td>5025.000</td>\n",
       "      <td>856.000</td>\n",
       "      <td>5881.000</td>\n",
       "      <td>5881.000</td>\n",
       "      <td>5881.000</td>\n",
       "    </tr>\n",
       "  </tbody>\n",
       "</table>\n",
       "</div>"
      ],
      "text/plain": [
       "                  0        1  micro avg  macro avg  weighted avg\n",
       "f1-score      0.767    0.450      0.672      0.608         0.721\n",
       "precision     0.979    0.298      0.672      0.638         0.880\n",
       "recall        0.630    0.919      0.672      0.775         0.672\n",
       "support    5025.000  856.000   5881.000   5881.000      5881.000"
      ]
     },
     "metadata": {},
     "output_type": "display_data"
    },
    {
     "name": "stdout",
     "output_type": "stream",
     "text": [
      "Model Saved on  roc_auc 0.8776635514018692\n"
     ]
    },
    {
     "data": {
      "application/vnd.jupyter.widget-view+json": {
       "model_id": "0833681dcd1f450e89a96e594a036b62",
       "version_major": 2,
       "version_minor": 0
      },
      "text/plain": [
       "HBox(children=(IntProgress(value=0, max=282), HTML(value='')))"
      ]
     },
     "metadata": {},
     "output_type": "display_data"
    },
    {
     "data": {
      "application/vnd.jupyter.widget-view+json": {
       "model_id": "a067c77e1de24b4586e854b5b7b08256",
       "version_major": 2,
       "version_minor": 0
      },
      "text/plain": [
       "HBox(children=(IntProgress(value=0, max=184), HTML(value='')))"
      ]
     },
     "metadata": {},
     "output_type": "display_data"
    },
    {
     "name": "stdout",
     "output_type": "stream",
     "text": [
      "{'accuracy': 0.8439040979425267, 'roc_auc': 0.8866380713256149, 'pr_auc': 0.6482495848196947}\n"
     ]
    },
    {
     "data": {
      "text/html": [
       "<div>\n",
       "<style scoped>\n",
       "    .dataframe tbody tr th:only-of-type {\n",
       "        vertical-align: middle;\n",
       "    }\n",
       "\n",
       "    .dataframe tbody tr th {\n",
       "        vertical-align: top;\n",
       "    }\n",
       "\n",
       "    .dataframe thead th {\n",
       "        text-align: right;\n",
       "    }\n",
       "</style>\n",
       "<table border=\"1\" class=\"dataframe\">\n",
       "  <thead>\n",
       "    <tr style=\"text-align: right;\">\n",
       "      <th></th>\n",
       "      <th>0</th>\n",
       "      <th>1</th>\n",
       "      <th>micro avg</th>\n",
       "      <th>macro avg</th>\n",
       "      <th>weighted avg</th>\n",
       "    </tr>\n",
       "  </thead>\n",
       "  <tbody>\n",
       "    <tr>\n",
       "      <th>f1-score</th>\n",
       "      <td>0.904</td>\n",
       "      <td>0.576</td>\n",
       "      <td>0.844</td>\n",
       "      <td>0.740</td>\n",
       "      <td>0.857</td>\n",
       "    </tr>\n",
       "    <tr>\n",
       "      <th>precision</th>\n",
       "      <td>0.949</td>\n",
       "      <td>0.476</td>\n",
       "      <td>0.844</td>\n",
       "      <td>0.713</td>\n",
       "      <td>0.880</td>\n",
       "    </tr>\n",
       "    <tr>\n",
       "      <th>recall</th>\n",
       "      <td>0.863</td>\n",
       "      <td>0.729</td>\n",
       "      <td>0.844</td>\n",
       "      <td>0.796</td>\n",
       "      <td>0.844</td>\n",
       "    </tr>\n",
       "    <tr>\n",
       "      <th>support</th>\n",
       "      <td>5025.000</td>\n",
       "      <td>856.000</td>\n",
       "      <td>5881.000</td>\n",
       "      <td>5881.000</td>\n",
       "      <td>5881.000</td>\n",
       "    </tr>\n",
       "  </tbody>\n",
       "</table>\n",
       "</div>"
      ],
      "text/plain": [
       "                  0        1  micro avg  macro avg  weighted avg\n",
       "f1-score      0.904    0.576      0.844      0.740         0.857\n",
       "precision     0.949    0.476      0.844      0.713         0.880\n",
       "recall        0.863    0.729      0.844      0.796         0.844\n",
       "support    5025.000  856.000   5881.000   5881.000      5881.000"
      ]
     },
     "metadata": {},
     "output_type": "display_data"
    },
    {
     "name": "stdout",
     "output_type": "stream",
     "text": [
      "Model Saved on  roc_auc 0.8866380713256149\n"
     ]
    },
    {
     "data": {
      "application/vnd.jupyter.widget-view+json": {
       "model_id": "3180236e272d4fcabb33030b1a9a05fd",
       "version_major": 2,
       "version_minor": 0
      },
      "text/plain": [
       "HBox(children=(IntProgress(value=0, max=282), HTML(value='')))"
      ]
     },
     "metadata": {},
     "output_type": "display_data"
    },
    {
     "data": {
      "application/vnd.jupyter.widget-view+json": {
       "model_id": "9cf208f7bcb44d2293142943508a7e9d",
       "version_major": 2,
       "version_minor": 0
      },
      "text/plain": [
       "HBox(children=(IntProgress(value=0, max=184), HTML(value='')))"
      ]
     },
     "metadata": {},
     "output_type": "display_data"
    },
    {
     "name": "stdout",
     "output_type": "stream",
     "text": [
      "{'accuracy': 0.8559768746811767, 'roc_auc': 0.879513995443344, 'pr_auc': 0.6412285213621541}\n"
     ]
    },
    {
     "data": {
      "text/html": [
       "<div>\n",
       "<style scoped>\n",
       "    .dataframe tbody tr th:only-of-type {\n",
       "        vertical-align: middle;\n",
       "    }\n",
       "\n",
       "    .dataframe tbody tr th {\n",
       "        vertical-align: top;\n",
       "    }\n",
       "\n",
       "    .dataframe thead th {\n",
       "        text-align: right;\n",
       "    }\n",
       "</style>\n",
       "<table border=\"1\" class=\"dataframe\">\n",
       "  <thead>\n",
       "    <tr style=\"text-align: right;\">\n",
       "      <th></th>\n",
       "      <th>0</th>\n",
       "      <th>1</th>\n",
       "      <th>micro avg</th>\n",
       "      <th>macro avg</th>\n",
       "      <th>weighted avg</th>\n",
       "    </tr>\n",
       "  </thead>\n",
       "  <tbody>\n",
       "    <tr>\n",
       "      <th>f1-score</th>\n",
       "      <td>0.913</td>\n",
       "      <td>0.580</td>\n",
       "      <td>0.856</td>\n",
       "      <td>0.746</td>\n",
       "      <td>0.865</td>\n",
       "    </tr>\n",
       "    <tr>\n",
       "      <th>precision</th>\n",
       "      <td>0.942</td>\n",
       "      <td>0.504</td>\n",
       "      <td>0.856</td>\n",
       "      <td>0.723</td>\n",
       "      <td>0.879</td>\n",
       "    </tr>\n",
       "    <tr>\n",
       "      <th>recall</th>\n",
       "      <td>0.886</td>\n",
       "      <td>0.682</td>\n",
       "      <td>0.856</td>\n",
       "      <td>0.784</td>\n",
       "      <td>0.856</td>\n",
       "    </tr>\n",
       "    <tr>\n",
       "      <th>support</th>\n",
       "      <td>5025.000</td>\n",
       "      <td>856.000</td>\n",
       "      <td>5881.000</td>\n",
       "      <td>5881.000</td>\n",
       "      <td>5881.000</td>\n",
       "    </tr>\n",
       "  </tbody>\n",
       "</table>\n",
       "</div>"
      ],
      "text/plain": [
       "                  0        1  micro avg  macro avg  weighted avg\n",
       "f1-score      0.913    0.580      0.856      0.746         0.865\n",
       "precision     0.942    0.504      0.856      0.723         0.879\n",
       "recall        0.886    0.682      0.856      0.784         0.856\n",
       "support    5025.000  856.000   5881.000   5881.000      5881.000"
      ]
     },
     "metadata": {},
     "output_type": "display_data"
    },
    {
     "name": "stdout",
     "output_type": "stream",
     "text": [
      "Model not saved on  roc_auc 0.879513995443344\n"
     ]
    },
    {
     "data": {
      "application/vnd.jupyter.widget-view+json": {
       "model_id": "2cb72cdb96f24936a7e0b26fc5bb1804",
       "version_major": 2,
       "version_minor": 0
      },
      "text/plain": [
       "HBox(children=(IntProgress(value=0, max=282), HTML(value='')))"
      ]
     },
     "metadata": {},
     "output_type": "display_data"
    },
    {
     "data": {
      "application/vnd.jupyter.widget-view+json": {
       "model_id": "7efc123aa09a455fa95bab856b71a698",
       "version_major": 2,
       "version_minor": 0
      },
      "text/plain": [
       "HBox(children=(IntProgress(value=0, max=184), HTML(value='')))"
      ]
     },
     "metadata": {},
     "output_type": "display_data"
    },
    {
     "name": "stdout",
     "output_type": "stream",
     "text": [
      "{'accuracy': 0.874001020234654, 'roc_auc': 0.8756828009485284, 'pr_auc': 0.6233151641540127}\n"
     ]
    },
    {
     "data": {
      "text/html": [
       "<div>\n",
       "<style scoped>\n",
       "    .dataframe tbody tr th:only-of-type {\n",
       "        vertical-align: middle;\n",
       "    }\n",
       "\n",
       "    .dataframe tbody tr th {\n",
       "        vertical-align: top;\n",
       "    }\n",
       "\n",
       "    .dataframe thead th {\n",
       "        text-align: right;\n",
       "    }\n",
       "</style>\n",
       "<table border=\"1\" class=\"dataframe\">\n",
       "  <thead>\n",
       "    <tr style=\"text-align: right;\">\n",
       "      <th></th>\n",
       "      <th>0</th>\n",
       "      <th>1</th>\n",
       "      <th>micro avg</th>\n",
       "      <th>macro avg</th>\n",
       "      <th>weighted avg</th>\n",
       "    </tr>\n",
       "  </thead>\n",
       "  <tbody>\n",
       "    <tr>\n",
       "      <th>f1-score</th>\n",
       "      <td>0.926</td>\n",
       "      <td>0.562</td>\n",
       "      <td>0.874</td>\n",
       "      <td>0.744</td>\n",
       "      <td>0.873</td>\n",
       "    </tr>\n",
       "    <tr>\n",
       "      <th>precision</th>\n",
       "      <td>0.924</td>\n",
       "      <td>0.569</td>\n",
       "      <td>0.874</td>\n",
       "      <td>0.747</td>\n",
       "      <td>0.873</td>\n",
       "    </tr>\n",
       "    <tr>\n",
       "      <th>recall</th>\n",
       "      <td>0.928</td>\n",
       "      <td>0.555</td>\n",
       "      <td>0.874</td>\n",
       "      <td>0.742</td>\n",
       "      <td>0.874</td>\n",
       "    </tr>\n",
       "    <tr>\n",
       "      <th>support</th>\n",
       "      <td>5025.000</td>\n",
       "      <td>856.000</td>\n",
       "      <td>5881.000</td>\n",
       "      <td>5881.000</td>\n",
       "      <td>5881.000</td>\n",
       "    </tr>\n",
       "  </tbody>\n",
       "</table>\n",
       "</div>"
      ],
      "text/plain": [
       "                  0        1  micro avg  macro avg  weighted avg\n",
       "f1-score      0.926    0.562      0.874      0.744         0.873\n",
       "precision     0.924    0.569      0.874      0.747         0.873\n",
       "recall        0.928    0.555      0.874      0.742         0.874\n",
       "support    5025.000  856.000   5881.000   5881.000      5881.000"
      ]
     },
     "metadata": {},
     "output_type": "display_data"
    },
    {
     "name": "stdout",
     "output_type": "stream",
     "text": [
      "Model not saved on  roc_auc 0.8756828009485284\n"
     ]
    },
    {
     "data": {
      "application/vnd.jupyter.widget-view+json": {
       "model_id": "6ab1624455024fb6bda7504fa4c2d5a0",
       "version_major": 2,
       "version_minor": 0
      },
      "text/plain": [
       "HBox(children=(IntProgress(value=0, max=282), HTML(value='')))"
      ]
     },
     "metadata": {},
     "output_type": "display_data"
    },
    {
     "data": {
      "application/vnd.jupyter.widget-view+json": {
       "model_id": "2964fbb9dc7c406ab9ec0640534bec23",
       "version_major": 2,
       "version_minor": 0
      },
      "text/plain": [
       "HBox(children=(IntProgress(value=0, max=184), HTML(value='')))"
      ]
     },
     "metadata": {},
     "output_type": "display_data"
    },
    {
     "name": "stdout",
     "output_type": "stream",
     "text": [
      "{'accuracy': 0.8886243836082299, 'roc_auc': 0.882128376807551, 'pr_auc': 0.634686747904903}\n"
     ]
    },
    {
     "data": {
      "text/html": [
       "<div>\n",
       "<style scoped>\n",
       "    .dataframe tbody tr th:only-of-type {\n",
       "        vertical-align: middle;\n",
       "    }\n",
       "\n",
       "    .dataframe tbody tr th {\n",
       "        vertical-align: top;\n",
       "    }\n",
       "\n",
       "    .dataframe thead th {\n",
       "        text-align: right;\n",
       "    }\n",
       "</style>\n",
       "<table border=\"1\" class=\"dataframe\">\n",
       "  <thead>\n",
       "    <tr style=\"text-align: right;\">\n",
       "      <th></th>\n",
       "      <th>0</th>\n",
       "      <th>1</th>\n",
       "      <th>micro avg</th>\n",
       "      <th>macro avg</th>\n",
       "      <th>weighted avg</th>\n",
       "    </tr>\n",
       "  </thead>\n",
       "  <tbody>\n",
       "    <tr>\n",
       "      <th>f1-score</th>\n",
       "      <td>0.937</td>\n",
       "      <td>0.544</td>\n",
       "      <td>0.889</td>\n",
       "      <td>0.740</td>\n",
       "      <td>0.879</td>\n",
       "    </tr>\n",
       "    <tr>\n",
       "      <th>precision</th>\n",
       "      <td>0.912</td>\n",
       "      <td>0.674</td>\n",
       "      <td>0.889</td>\n",
       "      <td>0.793</td>\n",
       "      <td>0.877</td>\n",
       "    </tr>\n",
       "    <tr>\n",
       "      <th>recall</th>\n",
       "      <td>0.962</td>\n",
       "      <td>0.456</td>\n",
       "      <td>0.889</td>\n",
       "      <td>0.709</td>\n",
       "      <td>0.889</td>\n",
       "    </tr>\n",
       "    <tr>\n",
       "      <th>support</th>\n",
       "      <td>5025.000</td>\n",
       "      <td>856.000</td>\n",
       "      <td>5881.000</td>\n",
       "      <td>5881.000</td>\n",
       "      <td>5881.000</td>\n",
       "    </tr>\n",
       "  </tbody>\n",
       "</table>\n",
       "</div>"
      ],
      "text/plain": [
       "                  0        1  micro avg  macro avg  weighted avg\n",
       "f1-score      0.937    0.544      0.889      0.740         0.879\n",
       "precision     0.912    0.674      0.889      0.793         0.877\n",
       "recall        0.962    0.456      0.889      0.709         0.889\n",
       "support    5025.000  856.000   5881.000   5881.000      5881.000"
      ]
     },
     "metadata": {},
     "output_type": "display_data"
    },
    {
     "name": "stderr",
     "output_type": "stream",
     "text": [
      "INFO - 2019-03-23 17:38:25,937 - instantiating class <class 'PatientVec.models.Model.Model'> from params {'type': 'seq_classifier', 'embedder': {'type': 'token_embedder', 'vocab_size': 29286, 'embed_size': 200, 'embedding_file': './preprocess/Mortality/embedding_matrix.npy'}, 'decoder': {'num_layers': 2, 'hidden_dims': [128, 1], 'activations': ['tanh', 'linear']}, 'predictor': {'type': 'binary'}, 'structured': {'use_structured': True, 'structured_dim': 50}, 'encoder': {'type': 'average', 'projection': True, 'hidden_size': 256, 'activation': 'relu'}} and extras {}\n",
      "INFO - 2019-03-23 17:38:25,937 - type = seq_classifier\n",
      "INFO - 2019-03-23 17:38:25,937 - instantiating class <class 'PatientVec.models.modules.Embedder.Embedder'> from params {'type': 'token_embedder', 'vocab_size': 29286, 'embed_size': 200, 'embedding_file': './preprocess/Mortality/embedding_matrix.npy'} and extras {}\n",
      "INFO - 2019-03-23 17:38:25,938 - embedder.type = token_embedder\n",
      "INFO - 2019-03-23 17:38:25,938 - instantiating class <class 'PatientVec.models.modules.Embedder.TokenEmbedder'> from params {'vocab_size': 29286, 'embed_size': 200, 'embedding_file': './preprocess/Mortality/embedding_matrix.npy'} and extras {}\n",
      "INFO - 2019-03-23 17:38:25,939 - embedder.vocab_size = 29286\n",
      "INFO - 2019-03-23 17:38:25,939 - embedder.embed_size = 200\n",
      "INFO - 2019-03-23 17:38:25,939 - embedder.embedding_file = ./preprocess/Mortality/embedding_matrix.npy\n",
      "INFO - 2019-03-23 17:38:25,969 - instantiating class <class 'PatientVec.models.modules.Encoder.Encoder'> from params {'type': 'average', 'projection': True, 'hidden_size': 256, 'activation': 'relu'} and extras {'input_size': 200}\n",
      "INFO - 2019-03-23 17:38:25,970 - encoder.type = average\n",
      "INFO - 2019-03-23 17:38:25,970 - instantiating class <class 'PatientVec.models.modules.Encoder.AverageEncoder'> from params {'projection': True, 'hidden_size': 256, 'activation': 'relu'} and extras {'input_size': 200}\n",
      "INFO - 2019-03-23 17:38:25,970 - encoder.projection = True\n",
      "INFO - 2019-03-23 17:38:25,971 - encoder.hidden_size = 256\n",
      "INFO - 2019-03-23 17:38:25,971 - encoder.activation = relu\n",
      "INFO - 2019-03-23 17:38:25,972 - decoder.input_dim = 306\n",
      "INFO - 2019-03-23 17:38:25,972 - decoder.num_layers = 2\n",
      "INFO - 2019-03-23 17:38:25,973 - decoder.hidden_dims = [128, 1]\n",
      "INFO - 2019-03-23 17:38:25,973 - decoder.activations = ['tanh', 'linear']\n",
      "INFO - 2019-03-23 17:38:25,973 - decoder.dropout = 0.0\n",
      "INFO - 2019-03-23 17:38:25,974 - instantiating class <class 'PatientVec.models.modules.Predictor.Predictor'> from params {'type': 'binary'} and extras {}\n",
      "INFO - 2019-03-23 17:38:25,974 - predictor.type = binary\n",
      "INFO - 2019-03-23 17:38:25,975 - instantiating class <class 'PatientVec.models.modules.Predictor.Binary_Predictor'> from params {} and extras {}\n",
      "INFO - 2019-03-23 17:38:25,975 - predictor.replicate = False\n",
      "INFO - 2019-03-23 17:38:25,976 - predictor.alpha = 0.5\n"
     ]
    },
    {
     "name": "stdout",
     "output_type": "stream",
     "text": [
      "Model not saved on  roc_auc 0.882128376807551\n",
      "0.8866380713256149 deque([0.879513995443344, 0.8756828009485284, 0.882128376807551], maxlen=3)\n",
      "\n",
      "Setting Embedding\n"
     ]
    },
    {
     "data": {
      "application/vnd.jupyter.widget-view+json": {
       "model_id": "9749c517a6c24b7783925259bf9629fd",
       "version_major": 2,
       "version_minor": 0
      },
      "text/plain": [
       "HBox(children=(IntProgress(value=0, max=184), HTML(value='')))"
      ]
     },
     "metadata": {},
     "output_type": "display_data"
    },
    {
     "name": "stdout",
     "output_type": "stream",
     "text": [
      "\n",
      "{'accuracy': 0.8439040979425267, 'roc_auc': 0.8866380713256149, 'pr_auc': 0.6482495848196947}\n"
     ]
    },
    {
     "data": {
      "text/html": [
       "<div>\n",
       "<style scoped>\n",
       "    .dataframe tbody tr th:only-of-type {\n",
       "        vertical-align: middle;\n",
       "    }\n",
       "\n",
       "    .dataframe tbody tr th {\n",
       "        vertical-align: top;\n",
       "    }\n",
       "\n",
       "    .dataframe thead th {\n",
       "        text-align: right;\n",
       "    }\n",
       "</style>\n",
       "<table border=\"1\" class=\"dataframe\">\n",
       "  <thead>\n",
       "    <tr style=\"text-align: right;\">\n",
       "      <th></th>\n",
       "      <th>0</th>\n",
       "      <th>1</th>\n",
       "      <th>micro avg</th>\n",
       "      <th>macro avg</th>\n",
       "      <th>weighted avg</th>\n",
       "    </tr>\n",
       "  </thead>\n",
       "  <tbody>\n",
       "    <tr>\n",
       "      <th>f1-score</th>\n",
       "      <td>0.904</td>\n",
       "      <td>0.576</td>\n",
       "      <td>0.844</td>\n",
       "      <td>0.740</td>\n",
       "      <td>0.857</td>\n",
       "    </tr>\n",
       "    <tr>\n",
       "      <th>precision</th>\n",
       "      <td>0.949</td>\n",
       "      <td>0.476</td>\n",
       "      <td>0.844</td>\n",
       "      <td>0.713</td>\n",
       "      <td>0.880</td>\n",
       "    </tr>\n",
       "    <tr>\n",
       "      <th>recall</th>\n",
       "      <td>0.863</td>\n",
       "      <td>0.729</td>\n",
       "      <td>0.844</td>\n",
       "      <td>0.796</td>\n",
       "      <td>0.844</td>\n",
       "    </tr>\n",
       "    <tr>\n",
       "      <th>support</th>\n",
       "      <td>5025.000</td>\n",
       "      <td>856.000</td>\n",
       "      <td>5881.000</td>\n",
       "      <td>5881.000</td>\n",
       "      <td>5881.000</td>\n",
       "    </tr>\n",
       "  </tbody>\n",
       "</table>\n",
       "</div>"
      ],
      "text/plain": [
       "                  0        1  micro avg  macro avg  weighted avg\n",
       "f1-score      0.904    0.576      0.844      0.740         0.857\n",
       "precision     0.949    0.476      0.844      0.713         0.880\n",
       "recall        0.863    0.729      0.844      0.796         0.844\n",
       "support    5025.000  856.000   5881.000   5881.000      5881.000"
      ]
     },
     "metadata": {},
     "output_type": "display_data"
    },
    {
     "name": "stderr",
     "output_type": "stream",
     "text": [
      "INFO - 2019-03-23 17:38:43,193 - instantiating class <class 'PatientVec.models.Model.Model'> from params {'type': 'seq_classifier', 'embedder': {'type': 'token_embedder', 'vocab_size': 29286, 'embed_size': 200, 'embedding_file': './preprocess/Mortality/embedding_matrix.npy'}, 'decoder': {'num_layers': 2, 'hidden_dims': [128, 1], 'activations': ['tanh', 'linear']}, 'predictor': {'type': 'binary'}, 'structured': {'use_structured': True, 'structured_dim': 50}, 'encoder': {'type': 'lstm', 'hidden_size': 128}} and extras {}\n",
      "INFO - 2019-03-23 17:38:43,193 - type = seq_classifier\n",
      "INFO - 2019-03-23 17:38:43,194 - instantiating class <class 'PatientVec.models.modules.Embedder.Embedder'> from params {'type': 'token_embedder', 'vocab_size': 29286, 'embed_size': 200, 'embedding_file': './preprocess/Mortality/embedding_matrix.npy'} and extras {}\n",
      "INFO - 2019-03-23 17:38:43,194 - embedder.type = token_embedder\n",
      "INFO - 2019-03-23 17:38:43,194 - instantiating class <class 'PatientVec.models.modules.Embedder.TokenEmbedder'> from params {'vocab_size': 29286, 'embed_size': 200, 'embedding_file': './preprocess/Mortality/embedding_matrix.npy'} and extras {}\n",
      "INFO - 2019-03-23 17:38:43,194 - embedder.vocab_size = 29286\n",
      "INFO - 2019-03-23 17:38:43,195 - embedder.embed_size = 200\n",
      "INFO - 2019-03-23 17:38:43,195 - embedder.embedding_file = ./preprocess/Mortality/embedding_matrix.npy\n",
      "INFO - 2019-03-23 17:38:43,223 - instantiating class <class 'PatientVec.models.modules.Encoder.Encoder'> from params {'type': 'lstm', 'hidden_size': 128} and extras {'input_size': 200}\n",
      "INFO - 2019-03-23 17:38:43,224 - encoder.type = lstm\n",
      "INFO - 2019-03-23 17:38:43,224 - instantiating class <class 'PatientVec.models.modules.Encoder.wrap_pytorch_rnn.<locals>.BiRNNEncoder'> from params {'hidden_size': 128} and extras {'input_size': 200}\n",
      "INFO - 2019-03-23 17:38:43,224 - encoder.hidden_size = 128\n",
      "INFO - 2019-03-23 17:38:43,227 - decoder.input_dim = 306\n",
      "INFO - 2019-03-23 17:38:43,227 - decoder.num_layers = 2\n",
      "INFO - 2019-03-23 17:38:43,227 - decoder.hidden_dims = [128, 1]\n",
      "INFO - 2019-03-23 17:38:43,227 - decoder.activations = ['tanh', 'linear']\n",
      "INFO - 2019-03-23 17:38:43,228 - decoder.dropout = 0.0\n",
      "INFO - 2019-03-23 17:38:43,229 - instantiating class <class 'PatientVec.models.modules.Predictor.Predictor'> from params {'type': 'binary'} and extras {}\n",
      "INFO - 2019-03-23 17:38:43,229 - predictor.type = binary\n",
      "INFO - 2019-03-23 17:38:43,229 - instantiating class <class 'PatientVec.models.modules.Predictor.Binary_Predictor'> from params {} and extras {}\n",
      "INFO - 2019-03-23 17:38:43,229 - predictor.replicate = False\n",
      "INFO - 2019-03-23 17:38:43,230 - predictor.alpha = 0.5\n"
     ]
    },
    {
     "name": "stdout",
     "output_type": "stream",
     "text": [
      "============================================================================================================================================================================================================================================================================================================\n",
      "{'model': {'type': 'seq_classifier', 'embedder': {'type': 'token_embedder', 'vocab_size': 29286, 'embed_size': 200, 'embedding_file': './preprocess/Mortality/embedding_matrix.npy'}, 'decoder': {'num_layers': 2, 'hidden_dims': [128, 1], 'activations': ['tanh', 'linear']}, 'predictor': {'type': 'binary'}, 'structured': {'use_structured': True, 'structured_dim': 50}, 'encoder': {'type': 'lstm', 'hidden_size': 128}}, 'training_config': {'type': 'Adam', 'groups': [('.*', {'lr': 0.001, 'weight_decay': 1e-05})], 'common': {'bsize': 32, 'class_weight': True}}, 'exp_config': {'exp_name': 'Mortality_30day/Basic/LSTM(hs=128)+Structured', 'basepath': 'outputs/ts_experiments/n=9000'}}\n",
      "Setting Embedding\n"
     ]
    },
    {
     "data": {
      "application/vnd.jupyter.widget-view+json": {
       "model_id": "41fe5576a4c24fa78c105d9902ea82c7",
       "version_major": 2,
       "version_minor": 0
      },
      "text/plain": [
       "HBox(children=(IntProgress(value=0, max=8), HTML(value='')))"
      ]
     },
     "metadata": {},
     "output_type": "display_data"
    },
    {
     "data": {
      "application/vnd.jupyter.widget-view+json": {
       "model_id": "46b4228e73ce4afcbc19c56bb714749c",
       "version_major": 2,
       "version_minor": 0
      },
      "text/plain": [
       "HBox(children=(IntProgress(value=0, max=282), HTML(value='')))"
      ]
     },
     "metadata": {},
     "output_type": "display_data"
    },
    {
     "data": {
      "application/vnd.jupyter.widget-view+json": {
       "model_id": "43e25586ed7640789943bc880b564913",
       "version_major": 2,
       "version_minor": 0
      },
      "text/plain": [
       "HBox(children=(IntProgress(value=0, max=184), HTML(value='')))"
      ]
     },
     "metadata": {},
     "output_type": "display_data"
    },
    {
     "name": "stdout",
     "output_type": "stream",
     "text": [
      "{'accuracy': 0.785240605339228, 'roc_auc': 0.8591816617845353, 'pr_auc': 0.5871226195822045}\n"
     ]
    },
    {
     "data": {
      "text/html": [
       "<div>\n",
       "<style scoped>\n",
       "    .dataframe tbody tr th:only-of-type {\n",
       "        vertical-align: middle;\n",
       "    }\n",
       "\n",
       "    .dataframe tbody tr th {\n",
       "        vertical-align: top;\n",
       "    }\n",
       "\n",
       "    .dataframe thead th {\n",
       "        text-align: right;\n",
       "    }\n",
       "</style>\n",
       "<table border=\"1\" class=\"dataframe\">\n",
       "  <thead>\n",
       "    <tr style=\"text-align: right;\">\n",
       "      <th></th>\n",
       "      <th>0</th>\n",
       "      <th>1</th>\n",
       "      <th>micro avg</th>\n",
       "      <th>macro avg</th>\n",
       "      <th>weighted avg</th>\n",
       "    </tr>\n",
       "  </thead>\n",
       "  <tbody>\n",
       "    <tr>\n",
       "      <th>f1-score</th>\n",
       "      <td>0.863</td>\n",
       "      <td>0.504</td>\n",
       "      <td>0.785</td>\n",
       "      <td>0.683</td>\n",
       "      <td>0.811</td>\n",
       "    </tr>\n",
       "    <tr>\n",
       "      <th>precision</th>\n",
       "      <td>0.949</td>\n",
       "      <td>0.380</td>\n",
       "      <td>0.785</td>\n",
       "      <td>0.664</td>\n",
       "      <td>0.866</td>\n",
       "    </tr>\n",
       "    <tr>\n",
       "      <th>recall</th>\n",
       "      <td>0.791</td>\n",
       "      <td>0.749</td>\n",
       "      <td>0.785</td>\n",
       "      <td>0.770</td>\n",
       "      <td>0.785</td>\n",
       "    </tr>\n",
       "    <tr>\n",
       "      <th>support</th>\n",
       "      <td>5025.000</td>\n",
       "      <td>856.000</td>\n",
       "      <td>5881.000</td>\n",
       "      <td>5881.000</td>\n",
       "      <td>5881.000</td>\n",
       "    </tr>\n",
       "  </tbody>\n",
       "</table>\n",
       "</div>"
      ],
      "text/plain": [
       "                  0        1  micro avg  macro avg  weighted avg\n",
       "f1-score      0.863    0.504      0.785      0.683         0.811\n",
       "precision     0.949    0.380      0.785      0.664         0.866\n",
       "recall        0.791    0.749      0.785      0.770         0.785\n",
       "support    5025.000  856.000   5881.000   5881.000      5881.000"
      ]
     },
     "metadata": {},
     "output_type": "display_data"
    },
    {
     "name": "stdout",
     "output_type": "stream",
     "text": [
      "Model Saved on  roc_auc 0.8591816617845353\n"
     ]
    },
    {
     "data": {
      "application/vnd.jupyter.widget-view+json": {
       "model_id": "efcf2b57ad6d495ba794eb7dc813f0d0",
       "version_major": 2,
       "version_minor": 0
      },
      "text/plain": [
       "HBox(children=(IntProgress(value=0, max=282), HTML(value='')))"
      ]
     },
     "metadata": {},
     "output_type": "display_data"
    },
    {
     "data": {
      "application/vnd.jupyter.widget-view+json": {
       "model_id": "b389e03efffa4ddf8b356911cab7df77",
       "version_major": 2,
       "version_minor": 0
      },
      "text/plain": [
       "HBox(children=(IntProgress(value=0, max=184), HTML(value='')))"
      ]
     },
     "metadata": {},
     "output_type": "display_data"
    },
    {
     "name": "stdout",
     "output_type": "stream",
     "text": [
      "{'accuracy': 0.824689678626084, 'roc_auc': 0.8674738457246478, 'pr_auc': 0.6228527705404948}\n"
     ]
    },
    {
     "data": {
      "text/html": [
       "<div>\n",
       "<style scoped>\n",
       "    .dataframe tbody tr th:only-of-type {\n",
       "        vertical-align: middle;\n",
       "    }\n",
       "\n",
       "    .dataframe tbody tr th {\n",
       "        vertical-align: top;\n",
       "    }\n",
       "\n",
       "    .dataframe thead th {\n",
       "        text-align: right;\n",
       "    }\n",
       "</style>\n",
       "<table border=\"1\" class=\"dataframe\">\n",
       "  <thead>\n",
       "    <tr style=\"text-align: right;\">\n",
       "      <th></th>\n",
       "      <th>0</th>\n",
       "      <th>1</th>\n",
       "      <th>micro avg</th>\n",
       "      <th>macro avg</th>\n",
       "      <th>weighted avg</th>\n",
       "    </tr>\n",
       "  </thead>\n",
       "  <tbody>\n",
       "    <tr>\n",
       "      <th>f1-score</th>\n",
       "      <td>0.892</td>\n",
       "      <td>0.541</td>\n",
       "      <td>0.825</td>\n",
       "      <td>0.716</td>\n",
       "      <td>0.841</td>\n",
       "    </tr>\n",
       "    <tr>\n",
       "      <th>precision</th>\n",
       "      <td>0.945</td>\n",
       "      <td>0.437</td>\n",
       "      <td>0.825</td>\n",
       "      <td>0.691</td>\n",
       "      <td>0.871</td>\n",
       "    </tr>\n",
       "    <tr>\n",
       "      <th>recall</th>\n",
       "      <td>0.844</td>\n",
       "      <td>0.710</td>\n",
       "      <td>0.825</td>\n",
       "      <td>0.777</td>\n",
       "      <td>0.825</td>\n",
       "    </tr>\n",
       "    <tr>\n",
       "      <th>support</th>\n",
       "      <td>5025.000</td>\n",
       "      <td>856.000</td>\n",
       "      <td>5881.000</td>\n",
       "      <td>5881.000</td>\n",
       "      <td>5881.000</td>\n",
       "    </tr>\n",
       "  </tbody>\n",
       "</table>\n",
       "</div>"
      ],
      "text/plain": [
       "                  0        1  micro avg  macro avg  weighted avg\n",
       "f1-score      0.892    0.541      0.825      0.716         0.841\n",
       "precision     0.945    0.437      0.825      0.691         0.871\n",
       "recall        0.844    0.710      0.825      0.777         0.825\n",
       "support    5025.000  856.000   5881.000   5881.000      5881.000"
      ]
     },
     "metadata": {},
     "output_type": "display_data"
    },
    {
     "name": "stdout",
     "output_type": "stream",
     "text": [
      "Model Saved on  roc_auc 0.8674738457246478\n"
     ]
    },
    {
     "data": {
      "application/vnd.jupyter.widget-view+json": {
       "model_id": "e88c23c6c4b441659dad74aad3db7da5",
       "version_major": 2,
       "version_minor": 0
      },
      "text/plain": [
       "HBox(children=(IntProgress(value=0, max=282), HTML(value='')))"
      ]
     },
     "metadata": {},
     "output_type": "display_data"
    },
    {
     "data": {
      "application/vnd.jupyter.widget-view+json": {
       "model_id": "e9974ca99be64a85b0bf9951886d09d5",
       "version_major": 2,
       "version_minor": 0
      },
      "text/plain": [
       "HBox(children=(IntProgress(value=0, max=184), HTML(value='')))"
      ]
     },
     "metadata": {},
     "output_type": "display_data"
    },
    {
     "name": "stdout",
     "output_type": "stream",
     "text": [
      "{'accuracy': 0.886413875191294, 'roc_auc': 0.8864041939833543, 'pr_auc': 0.6839018730713398}\n"
     ]
    },
    {
     "data": {
      "text/html": [
       "<div>\n",
       "<style scoped>\n",
       "    .dataframe tbody tr th:only-of-type {\n",
       "        vertical-align: middle;\n",
       "    }\n",
       "\n",
       "    .dataframe tbody tr th {\n",
       "        vertical-align: top;\n",
       "    }\n",
       "\n",
       "    .dataframe thead th {\n",
       "        text-align: right;\n",
       "    }\n",
       "</style>\n",
       "<table border=\"1\" class=\"dataframe\">\n",
       "  <thead>\n",
       "    <tr style=\"text-align: right;\">\n",
       "      <th></th>\n",
       "      <th>0</th>\n",
       "      <th>1</th>\n",
       "      <th>micro avg</th>\n",
       "      <th>macro avg</th>\n",
       "      <th>weighted avg</th>\n",
       "    </tr>\n",
       "  </thead>\n",
       "  <tbody>\n",
       "    <tr>\n",
       "      <th>f1-score</th>\n",
       "      <td>0.934</td>\n",
       "      <td>0.593</td>\n",
       "      <td>0.886</td>\n",
       "      <td>0.764</td>\n",
       "      <td>0.884</td>\n",
       "    </tr>\n",
       "    <tr>\n",
       "      <th>precision</th>\n",
       "      <td>0.928</td>\n",
       "      <td>0.620</td>\n",
       "      <td>0.886</td>\n",
       "      <td>0.774</td>\n",
       "      <td>0.883</td>\n",
       "    </tr>\n",
       "    <tr>\n",
       "      <th>recall</th>\n",
       "      <td>0.940</td>\n",
       "      <td>0.569</td>\n",
       "      <td>0.886</td>\n",
       "      <td>0.755</td>\n",
       "      <td>0.886</td>\n",
       "    </tr>\n",
       "    <tr>\n",
       "      <th>support</th>\n",
       "      <td>5025.000</td>\n",
       "      <td>856.000</td>\n",
       "      <td>5881.000</td>\n",
       "      <td>5881.000</td>\n",
       "      <td>5881.000</td>\n",
       "    </tr>\n",
       "  </tbody>\n",
       "</table>\n",
       "</div>"
      ],
      "text/plain": [
       "                  0        1  micro avg  macro avg  weighted avg\n",
       "f1-score      0.934    0.593      0.886      0.764         0.884\n",
       "precision     0.928    0.620      0.886      0.774         0.883\n",
       "recall        0.940    0.569      0.886      0.755         0.886\n",
       "support    5025.000  856.000   5881.000   5881.000      5881.000"
      ]
     },
     "metadata": {},
     "output_type": "display_data"
    },
    {
     "name": "stdout",
     "output_type": "stream",
     "text": [
      "Model Saved on  roc_auc 0.8864041939833543\n"
     ]
    },
    {
     "data": {
      "application/vnd.jupyter.widget-view+json": {
       "model_id": "4c1b7e6b25534cbda3333bd8e596229a",
       "version_major": 2,
       "version_minor": 0
      },
      "text/plain": [
       "HBox(children=(IntProgress(value=0, max=282), HTML(value='')))"
      ]
     },
     "metadata": {},
     "output_type": "display_data"
    },
    {
     "data": {
      "application/vnd.jupyter.widget-view+json": {
       "model_id": "c9304422c4e7461faf6238779f306780",
       "version_major": 2,
       "version_minor": 0
      },
      "text/plain": [
       "HBox(children=(IntProgress(value=0, max=184), HTML(value='')))"
      ]
     },
     "metadata": {},
     "output_type": "display_data"
    },
    {
     "name": "stdout",
     "output_type": "stream",
     "text": [
      "{'accuracy': 0.8547866009182112, 'roc_auc': 0.8631340958757614, 'pr_auc': 0.6571098183443332}\n"
     ]
    },
    {
     "data": {
      "text/html": [
       "<div>\n",
       "<style scoped>\n",
       "    .dataframe tbody tr th:only-of-type {\n",
       "        vertical-align: middle;\n",
       "    }\n",
       "\n",
       "    .dataframe tbody tr th {\n",
       "        vertical-align: top;\n",
       "    }\n",
       "\n",
       "    .dataframe thead th {\n",
       "        text-align: right;\n",
       "    }\n",
       "</style>\n",
       "<table border=\"1\" class=\"dataframe\">\n",
       "  <thead>\n",
       "    <tr style=\"text-align: right;\">\n",
       "      <th></th>\n",
       "      <th>0</th>\n",
       "      <th>1</th>\n",
       "      <th>micro avg</th>\n",
       "      <th>macro avg</th>\n",
       "      <th>weighted avg</th>\n",
       "    </tr>\n",
       "  </thead>\n",
       "  <tbody>\n",
       "    <tr>\n",
       "      <th>f1-score</th>\n",
       "      <td>0.913</td>\n",
       "      <td>0.567</td>\n",
       "      <td>0.855</td>\n",
       "      <td>0.740</td>\n",
       "      <td>0.862</td>\n",
       "    </tr>\n",
       "    <tr>\n",
       "      <th>precision</th>\n",
       "      <td>0.938</td>\n",
       "      <td>0.501</td>\n",
       "      <td>0.855</td>\n",
       "      <td>0.719</td>\n",
       "      <td>0.874</td>\n",
       "    </tr>\n",
       "    <tr>\n",
       "      <th>recall</th>\n",
       "      <td>0.889</td>\n",
       "      <td>0.653</td>\n",
       "      <td>0.855</td>\n",
       "      <td>0.771</td>\n",
       "      <td>0.855</td>\n",
       "    </tr>\n",
       "    <tr>\n",
       "      <th>support</th>\n",
       "      <td>5025.000</td>\n",
       "      <td>856.000</td>\n",
       "      <td>5881.000</td>\n",
       "      <td>5881.000</td>\n",
       "      <td>5881.000</td>\n",
       "    </tr>\n",
       "  </tbody>\n",
       "</table>\n",
       "</div>"
      ],
      "text/plain": [
       "                  0        1  micro avg  macro avg  weighted avg\n",
       "f1-score      0.913    0.567      0.855      0.740         0.862\n",
       "precision     0.938    0.501      0.855      0.719         0.874\n",
       "recall        0.889    0.653      0.855      0.771         0.855\n",
       "support    5025.000  856.000   5881.000   5881.000      5881.000"
      ]
     },
     "metadata": {},
     "output_type": "display_data"
    },
    {
     "name": "stdout",
     "output_type": "stream",
     "text": [
      "Model not saved on  roc_auc 0.8631340958757614\n"
     ]
    },
    {
     "data": {
      "application/vnd.jupyter.widget-view+json": {
       "model_id": "d34d2867491d469f8d6b87205210494e",
       "version_major": 2,
       "version_minor": 0
      },
      "text/plain": [
       "HBox(children=(IntProgress(value=0, max=282), HTML(value='')))"
      ]
     },
     "metadata": {},
     "output_type": "display_data"
    },
    {
     "data": {
      "application/vnd.jupyter.widget-view+json": {
       "model_id": "39bcef1dc69e49778de834459d9d3092",
       "version_major": 2,
       "version_minor": 0
      },
      "text/plain": [
       "HBox(children=(IntProgress(value=0, max=184), HTML(value='')))"
      ]
     },
     "metadata": {},
     "output_type": "display_data"
    },
    {
     "name": "stdout",
     "output_type": "stream",
     "text": [
      "{'accuracy': 0.8658391430028907, 'roc_auc': 0.8552816524852372, 'pr_auc': 0.6427569574320865}\n"
     ]
    },
    {
     "data": {
      "text/html": [
       "<div>\n",
       "<style scoped>\n",
       "    .dataframe tbody tr th:only-of-type {\n",
       "        vertical-align: middle;\n",
       "    }\n",
       "\n",
       "    .dataframe tbody tr th {\n",
       "        vertical-align: top;\n",
       "    }\n",
       "\n",
       "    .dataframe thead th {\n",
       "        text-align: right;\n",
       "    }\n",
       "</style>\n",
       "<table border=\"1\" class=\"dataframe\">\n",
       "  <thead>\n",
       "    <tr style=\"text-align: right;\">\n",
       "      <th></th>\n",
       "      <th>0</th>\n",
       "      <th>1</th>\n",
       "      <th>micro avg</th>\n",
       "      <th>macro avg</th>\n",
       "      <th>weighted avg</th>\n",
       "    </tr>\n",
       "  </thead>\n",
       "  <tbody>\n",
       "    <tr>\n",
       "      <th>f1-score</th>\n",
       "      <td>0.921</td>\n",
       "      <td>0.568</td>\n",
       "      <td>0.866</td>\n",
       "      <td>0.744</td>\n",
       "      <td>0.869</td>\n",
       "    </tr>\n",
       "    <tr>\n",
       "      <th>precision</th>\n",
       "      <td>0.931</td>\n",
       "      <td>0.535</td>\n",
       "      <td>0.866</td>\n",
       "      <td>0.733</td>\n",
       "      <td>0.874</td>\n",
       "    </tr>\n",
       "    <tr>\n",
       "      <th>recall</th>\n",
       "      <td>0.910</td>\n",
       "      <td>0.606</td>\n",
       "      <td>0.866</td>\n",
       "      <td>0.758</td>\n",
       "      <td>0.866</td>\n",
       "    </tr>\n",
       "    <tr>\n",
       "      <th>support</th>\n",
       "      <td>5025.000</td>\n",
       "      <td>856.000</td>\n",
       "      <td>5881.000</td>\n",
       "      <td>5881.000</td>\n",
       "      <td>5881.000</td>\n",
       "    </tr>\n",
       "  </tbody>\n",
       "</table>\n",
       "</div>"
      ],
      "text/plain": [
       "                  0        1  micro avg  macro avg  weighted avg\n",
       "f1-score      0.921    0.568      0.866      0.744         0.869\n",
       "precision     0.931    0.535      0.866      0.733         0.874\n",
       "recall        0.910    0.606      0.866      0.758         0.866\n",
       "support    5025.000  856.000   5881.000   5881.000      5881.000"
      ]
     },
     "metadata": {},
     "output_type": "display_data"
    },
    {
     "name": "stdout",
     "output_type": "stream",
     "text": [
      "Model not saved on  roc_auc 0.8552816524852372\n"
     ]
    },
    {
     "data": {
      "application/vnd.jupyter.widget-view+json": {
       "model_id": "fb3d603d903b42908b5ad275b0fd220e",
       "version_major": 2,
       "version_minor": 0
      },
      "text/plain": [
       "HBox(children=(IntProgress(value=0, max=282), HTML(value='')))"
      ]
     },
     "metadata": {},
     "output_type": "display_data"
    },
    {
     "data": {
      "application/vnd.jupyter.widget-view+json": {
       "model_id": "1a0e3820f61145e5b66e735485c0436f",
       "version_major": 2,
       "version_minor": 0
      },
      "text/plain": [
       "HBox(children=(IntProgress(value=0, max=184), HTML(value='')))"
      ]
     },
     "metadata": {},
     "output_type": "display_data"
    },
    {
     "name": "stdout",
     "output_type": "stream",
     "text": [
      "{'accuracy': 0.8522360142832851, 'roc_auc': 0.8397282280187846, 'pr_auc': 0.622558095653082}\n"
     ]
    },
    {
     "data": {
      "text/html": [
       "<div>\n",
       "<style scoped>\n",
       "    .dataframe tbody tr th:only-of-type {\n",
       "        vertical-align: middle;\n",
       "    }\n",
       "\n",
       "    .dataframe tbody tr th {\n",
       "        vertical-align: top;\n",
       "    }\n",
       "\n",
       "    .dataframe thead th {\n",
       "        text-align: right;\n",
       "    }\n",
       "</style>\n",
       "<table border=\"1\" class=\"dataframe\">\n",
       "  <thead>\n",
       "    <tr style=\"text-align: right;\">\n",
       "      <th></th>\n",
       "      <th>0</th>\n",
       "      <th>1</th>\n",
       "      <th>micro avg</th>\n",
       "      <th>macro avg</th>\n",
       "      <th>weighted avg</th>\n",
       "    </tr>\n",
       "  </thead>\n",
       "  <tbody>\n",
       "    <tr>\n",
       "      <th>f1-score</th>\n",
       "      <td>0.911</td>\n",
       "      <td>0.553</td>\n",
       "      <td>0.852</td>\n",
       "      <td>0.732</td>\n",
       "      <td>0.859</td>\n",
       "    </tr>\n",
       "    <tr>\n",
       "      <th>precision</th>\n",
       "      <td>0.933</td>\n",
       "      <td>0.494</td>\n",
       "      <td>0.852</td>\n",
       "      <td>0.714</td>\n",
       "      <td>0.869</td>\n",
       "    </tr>\n",
       "    <tr>\n",
       "      <th>recall</th>\n",
       "      <td>0.891</td>\n",
       "      <td>0.627</td>\n",
       "      <td>0.852</td>\n",
       "      <td>0.759</td>\n",
       "      <td>0.852</td>\n",
       "    </tr>\n",
       "    <tr>\n",
       "      <th>support</th>\n",
       "      <td>5025.000</td>\n",
       "      <td>856.000</td>\n",
       "      <td>5881.000</td>\n",
       "      <td>5881.000</td>\n",
       "      <td>5881.000</td>\n",
       "    </tr>\n",
       "  </tbody>\n",
       "</table>\n",
       "</div>"
      ],
      "text/plain": [
       "                  0        1  micro avg  macro avg  weighted avg\n",
       "f1-score      0.911    0.553      0.852      0.732         0.859\n",
       "precision     0.933    0.494      0.852      0.714         0.869\n",
       "recall        0.891    0.627      0.852      0.759         0.852\n",
       "support    5025.000  856.000   5881.000   5881.000      5881.000"
      ]
     },
     "metadata": {},
     "output_type": "display_data"
    },
    {
     "name": "stderr",
     "output_type": "stream",
     "text": [
      "INFO - 2019-03-23 17:58:14,087 - instantiating class <class 'PatientVec.models.Model.Model'> from params {'type': 'seq_classifier', 'embedder': {'type': 'token_embedder', 'vocab_size': 29286, 'embed_size': 200, 'embedding_file': './preprocess/Mortality/embedding_matrix.npy'}, 'decoder': {'num_layers': 2, 'hidden_dims': [128, 1], 'activations': ['tanh', 'linear']}, 'predictor': {'type': 'binary'}, 'structured': {'use_structured': True, 'structured_dim': 50}, 'encoder': {'type': 'lstm', 'hidden_size': 128}} and extras {}\n",
      "INFO - 2019-03-23 17:58:14,087 - type = seq_classifier\n",
      "INFO - 2019-03-23 17:58:14,087 - instantiating class <class 'PatientVec.models.modules.Embedder.Embedder'> from params {'type': 'token_embedder', 'vocab_size': 29286, 'embed_size': 200, 'embedding_file': './preprocess/Mortality/embedding_matrix.npy'} and extras {}\n",
      "INFO - 2019-03-23 17:58:14,088 - embedder.type = token_embedder\n",
      "INFO - 2019-03-23 17:58:14,089 - instantiating class <class 'PatientVec.models.modules.Embedder.TokenEmbedder'> from params {'vocab_size': 29286, 'embed_size': 200, 'embedding_file': './preprocess/Mortality/embedding_matrix.npy'} and extras {}\n",
      "INFO - 2019-03-23 17:58:14,089 - embedder.vocab_size = 29286\n",
      "INFO - 2019-03-23 17:58:14,089 - embedder.embed_size = 200\n",
      "INFO - 2019-03-23 17:58:14,089 - embedder.embedding_file = ./preprocess/Mortality/embedding_matrix.npy\n",
      "INFO - 2019-03-23 17:58:14,120 - instantiating class <class 'PatientVec.models.modules.Encoder.Encoder'> from params {'type': 'lstm', 'hidden_size': 128} and extras {'input_size': 200}\n",
      "INFO - 2019-03-23 17:58:14,120 - encoder.type = lstm\n",
      "INFO - 2019-03-23 17:58:14,121 - instantiating class <class 'PatientVec.models.modules.Encoder.wrap_pytorch_rnn.<locals>.BiRNNEncoder'> from params {'hidden_size': 128} and extras {'input_size': 200}\n",
      "INFO - 2019-03-23 17:58:14,121 - encoder.hidden_size = 128\n",
      "INFO - 2019-03-23 17:58:14,123 - decoder.input_dim = 306\n",
      "INFO - 2019-03-23 17:58:14,123 - decoder.num_layers = 2\n",
      "INFO - 2019-03-23 17:58:14,124 - decoder.hidden_dims = [128, 1]\n",
      "INFO - 2019-03-23 17:58:14,124 - decoder.activations = ['tanh', 'linear']\n",
      "INFO - 2019-03-23 17:58:14,124 - decoder.dropout = 0.0\n",
      "INFO - 2019-03-23 17:58:14,125 - instantiating class <class 'PatientVec.models.modules.Predictor.Predictor'> from params {'type': 'binary'} and extras {}\n",
      "INFO - 2019-03-23 17:58:14,125 - predictor.type = binary\n",
      "INFO - 2019-03-23 17:58:14,126 - instantiating class <class 'PatientVec.models.modules.Predictor.Binary_Predictor'> from params {} and extras {}\n",
      "INFO - 2019-03-23 17:58:14,126 - predictor.replicate = False\n",
      "INFO - 2019-03-23 17:58:14,126 - predictor.alpha = 0.5\n"
     ]
    },
    {
     "name": "stdout",
     "output_type": "stream",
     "text": [
      "Model not saved on  roc_auc 0.8397282280187846\n",
      "0.8864041939833543 deque([0.8631340958757614, 0.8552816524852372, 0.8397282280187846], maxlen=3)\n",
      "\n",
      "Setting Embedding\n"
     ]
    },
    {
     "data": {
      "application/vnd.jupyter.widget-view+json": {
       "model_id": "18a9adf1792944f2ac0796328c31b827",
       "version_major": 2,
       "version_minor": 0
      },
      "text/plain": [
       "HBox(children=(IntProgress(value=0, max=184), HTML(value='')))"
      ]
     },
     "metadata": {},
     "output_type": "display_data"
    },
    {
     "name": "stdout",
     "output_type": "stream",
     "text": [
      "\n",
      "{'accuracy': 0.886413875191294, 'roc_auc': 0.8864041939833543, 'pr_auc': 0.6839018730713398}\n"
     ]
    },
    {
     "data": {
      "text/html": [
       "<div>\n",
       "<style scoped>\n",
       "    .dataframe tbody tr th:only-of-type {\n",
       "        vertical-align: middle;\n",
       "    }\n",
       "\n",
       "    .dataframe tbody tr th {\n",
       "        vertical-align: top;\n",
       "    }\n",
       "\n",
       "    .dataframe thead th {\n",
       "        text-align: right;\n",
       "    }\n",
       "</style>\n",
       "<table border=\"1\" class=\"dataframe\">\n",
       "  <thead>\n",
       "    <tr style=\"text-align: right;\">\n",
       "      <th></th>\n",
       "      <th>0</th>\n",
       "      <th>1</th>\n",
       "      <th>micro avg</th>\n",
       "      <th>macro avg</th>\n",
       "      <th>weighted avg</th>\n",
       "    </tr>\n",
       "  </thead>\n",
       "  <tbody>\n",
       "    <tr>\n",
       "      <th>f1-score</th>\n",
       "      <td>0.934</td>\n",
       "      <td>0.593</td>\n",
       "      <td>0.886</td>\n",
       "      <td>0.764</td>\n",
       "      <td>0.884</td>\n",
       "    </tr>\n",
       "    <tr>\n",
       "      <th>precision</th>\n",
       "      <td>0.928</td>\n",
       "      <td>0.620</td>\n",
       "      <td>0.886</td>\n",
       "      <td>0.774</td>\n",
       "      <td>0.883</td>\n",
       "    </tr>\n",
       "    <tr>\n",
       "      <th>recall</th>\n",
       "      <td>0.940</td>\n",
       "      <td>0.569</td>\n",
       "      <td>0.886</td>\n",
       "      <td>0.755</td>\n",
       "      <td>0.886</td>\n",
       "    </tr>\n",
       "    <tr>\n",
       "      <th>support</th>\n",
       "      <td>5025.000</td>\n",
       "      <td>856.000</td>\n",
       "      <td>5881.000</td>\n",
       "      <td>5881.000</td>\n",
       "      <td>5881.000</td>\n",
       "    </tr>\n",
       "  </tbody>\n",
       "</table>\n",
       "</div>"
      ],
      "text/plain": [
       "                  0        1  micro avg  macro avg  weighted avg\n",
       "f1-score      0.934    0.593      0.886      0.764         0.884\n",
       "precision     0.928    0.620      0.886      0.774         0.883\n",
       "recall        0.940    0.569      0.886      0.755         0.886\n",
       "support    5025.000  856.000   5881.000   5881.000      5881.000"
      ]
     },
     "metadata": {},
     "output_type": "display_data"
    },
    {
     "name": "stderr",
     "output_type": "stream",
     "text": [
      "INFO - 2019-03-23 17:59:45,763 - instantiating class <class 'PatientVec.models.Model.Model'> from params {'type': 'seq_classifier_with_attention', 'embedder': {'type': 'token_embedder', 'vocab_size': 29286, 'embed_size': 200, 'embedding_file': './preprocess/Mortality/embedding_matrix.npy'}, 'decoder': {'num_layers': 2, 'hidden_dims': [128, 1], 'activations': ['tanh', 'linear']}, 'predictor': {'type': 'binary'}, 'structured': {'use_structured': True, 'structured_dim': 50}, 'encoder': {'type': 'lstm', 'hidden_size': 128}, 'attention': {'similarity': {'type': 'additive', 'hidden_size': 128}}} and extras {}\n",
      "INFO - 2019-03-23 17:59:45,763 - type = seq_classifier_with_attention\n",
      "INFO - 2019-03-23 17:59:45,763 - instantiating class <class 'PatientVec.models.modules.Embedder.Embedder'> from params {'type': 'token_embedder', 'vocab_size': 29286, 'embed_size': 200, 'embedding_file': './preprocess/Mortality/embedding_matrix.npy'} and extras {}\n",
      "INFO - 2019-03-23 17:59:45,764 - embedder.type = token_embedder\n",
      "INFO - 2019-03-23 17:59:45,764 - instantiating class <class 'PatientVec.models.modules.Embedder.TokenEmbedder'> from params {'vocab_size': 29286, 'embed_size': 200, 'embedding_file': './preprocess/Mortality/embedding_matrix.npy'} and extras {}\n",
      "INFO - 2019-03-23 17:59:45,764 - embedder.vocab_size = 29286\n",
      "INFO - 2019-03-23 17:59:45,765 - embedder.embed_size = 200\n",
      "INFO - 2019-03-23 17:59:45,765 - embedder.embedding_file = ./preprocess/Mortality/embedding_matrix.npy\n",
      "INFO - 2019-03-23 17:59:45,794 - instantiating class <class 'PatientVec.models.modules.Encoder.Encoder'> from params {'type': 'lstm', 'hidden_size': 128} and extras {'input_size': 200}\n",
      "INFO - 2019-03-23 17:59:45,795 - encoder.type = lstm\n",
      "INFO - 2019-03-23 17:59:45,795 - instantiating class <class 'PatientVec.models.modules.Encoder.wrap_pytorch_rnn.<locals>.BiRNNEncoder'> from params {'hidden_size': 128} and extras {'input_size': 200}\n",
      "INFO - 2019-03-23 17:59:45,796 - encoder.hidden_size = 128\n",
      "INFO - 2019-03-23 17:59:45,798 - instantiating class <class 'PatientVec.models.modules.SelfAttention.SelfAttention'> from params {'similarity': {'type': 'additive', 'hidden_size': 128, 'tensor_1_dim': 256}} and extras {}\n",
      "INFO - 2019-03-23 17:59:45,799 - instantiating class <class 'PatientVec.models.modules.UniSimilarity.UniSimilarity'> from params {'type': 'additive', 'hidden_size': 128, 'tensor_1_dim': 256} and extras {}\n",
      "INFO - 2019-03-23 17:59:45,799 - attention.similarity.type = additive\n",
      "INFO - 2019-03-23 17:59:45,799 - instantiating class <class 'PatientVec.models.modules.UniSimilarity.UniAdditiveSimilarity'> from params {'hidden_size': 128, 'tensor_1_dim': 256} and extras {}\n",
      "INFO - 2019-03-23 17:59:45,799 - attention.similarity.tensor_1_dim = 256\n",
      "INFO - 2019-03-23 17:59:45,800 - attention.similarity.hidden_size = 128\n",
      "INFO - 2019-03-23 17:59:45,800 - attention.similarity.output_size = 1\n",
      "INFO - 2019-03-23 17:59:45,801 - attention.normaliser = softmax\n",
      "INFO - 2019-03-23 17:59:45,801 - decoder.input_dim = 306\n",
      "INFO - 2019-03-23 17:59:45,801 - decoder.num_layers = 2\n",
      "INFO - 2019-03-23 17:59:45,802 - decoder.hidden_dims = [128, 1]\n",
      "INFO - 2019-03-23 17:59:45,802 - decoder.activations = ['tanh', 'linear']\n",
      "INFO - 2019-03-23 17:59:45,802 - decoder.dropout = 0.0\n",
      "INFO - 2019-03-23 17:59:45,803 - instantiating class <class 'PatientVec.models.modules.Predictor.Predictor'> from params {'type': 'binary'} and extras {}\n",
      "INFO - 2019-03-23 17:59:45,803 - predictor.type = binary\n",
      "INFO - 2019-03-23 17:59:45,804 - instantiating class <class 'PatientVec.models.modules.Predictor.Binary_Predictor'> from params {} and extras {}\n",
      "INFO - 2019-03-23 17:59:45,804 - predictor.replicate = False\n",
      "INFO - 2019-03-23 17:59:45,804 - predictor.alpha = 0.5\n"
     ]
    },
    {
     "name": "stdout",
     "output_type": "stream",
     "text": [
      "============================================================================================================================================================================================================================================================================================================\n",
      "{'model': {'type': 'seq_classifier_with_attention', 'embedder': {'type': 'token_embedder', 'vocab_size': 29286, 'embed_size': 200, 'embedding_file': './preprocess/Mortality/embedding_matrix.npy'}, 'decoder': {'num_layers': 2, 'hidden_dims': [128, 1], 'activations': ['tanh', 'linear']}, 'predictor': {'type': 'binary'}, 'structured': {'use_structured': True, 'structured_dim': 50}, 'encoder': {'type': 'lstm', 'hidden_size': 128}, 'attention': {'similarity': {'type': 'additive', 'hidden_size': 128}}}, 'training_config': {'type': 'Adam', 'groups': [('.*', {'lr': 0.001, 'weight_decay': 1e-05})], 'common': {'bsize': 32, 'class_weight': True}}, 'exp_config': {'exp_name': 'Mortality_30day/Attention/LSTM(hs=128)+Attention(additive)(hs=128)+Structured', 'basepath': 'outputs/ts_experiments/n=9000'}}\n",
      "Setting Embedding\n"
     ]
    },
    {
     "data": {
      "application/vnd.jupyter.widget-view+json": {
       "model_id": "bf893c8b1cb2414ba453bbe55a74729c",
       "version_major": 2,
       "version_minor": 0
      },
      "text/plain": [
       "HBox(children=(IntProgress(value=0, max=8), HTML(value='')))"
      ]
     },
     "metadata": {},
     "output_type": "display_data"
    },
    {
     "data": {
      "application/vnd.jupyter.widget-view+json": {
       "model_id": "0bf7c3a875bb442fb90d50f71ee0c147",
       "version_major": 2,
       "version_minor": 0
      },
      "text/plain": [
       "HBox(children=(IntProgress(value=0, max=282), HTML(value='')))"
      ]
     },
     "metadata": {},
     "output_type": "display_data"
    },
    {
     "data": {
      "application/vnd.jupyter.widget-view+json": {
       "model_id": "b5ef04d841a741dda2fc77a64604d631",
       "version_major": 2,
       "version_minor": 0
      },
      "text/plain": [
       "HBox(children=(IntProgress(value=0, max=184), HTML(value='')))"
      ]
     },
     "metadata": {},
     "output_type": "display_data"
    },
    {
     "name": "stdout",
     "output_type": "stream",
     "text": [
      "{'accuracy': 0.8292807345689509, 'roc_auc': 0.9202954851908682, 'pr_auc': 0.741329068385449}\n"
     ]
    },
    {
     "data": {
      "text/html": [
       "<div>\n",
       "<style scoped>\n",
       "    .dataframe tbody tr th:only-of-type {\n",
       "        vertical-align: middle;\n",
       "    }\n",
       "\n",
       "    .dataframe tbody tr th {\n",
       "        vertical-align: top;\n",
       "    }\n",
       "\n",
       "    .dataframe thead th {\n",
       "        text-align: right;\n",
       "    }\n",
       "</style>\n",
       "<table border=\"1\" class=\"dataframe\">\n",
       "  <thead>\n",
       "    <tr style=\"text-align: right;\">\n",
       "      <th></th>\n",
       "      <th>0</th>\n",
       "      <th>1</th>\n",
       "      <th>micro avg</th>\n",
       "      <th>macro avg</th>\n",
       "      <th>weighted avg</th>\n",
       "    </tr>\n",
       "  </thead>\n",
       "  <tbody>\n",
       "    <tr>\n",
       "      <th>f1-score</th>\n",
       "      <td>0.892</td>\n",
       "      <td>0.595</td>\n",
       "      <td>0.829</td>\n",
       "      <td>0.743</td>\n",
       "      <td>0.849</td>\n",
       "    </tr>\n",
       "    <tr>\n",
       "      <th>precision</th>\n",
       "      <td>0.972</td>\n",
       "      <td>0.454</td>\n",
       "      <td>0.829</td>\n",
       "      <td>0.713</td>\n",
       "      <td>0.897</td>\n",
       "    </tr>\n",
       "    <tr>\n",
       "      <th>recall</th>\n",
       "      <td>0.824</td>\n",
       "      <td>0.862</td>\n",
       "      <td>0.829</td>\n",
       "      <td>0.843</td>\n",
       "      <td>0.829</td>\n",
       "    </tr>\n",
       "    <tr>\n",
       "      <th>support</th>\n",
       "      <td>5025.000</td>\n",
       "      <td>856.000</td>\n",
       "      <td>5881.000</td>\n",
       "      <td>5881.000</td>\n",
       "      <td>5881.000</td>\n",
       "    </tr>\n",
       "  </tbody>\n",
       "</table>\n",
       "</div>"
      ],
      "text/plain": [
       "                  0        1  micro avg  macro avg  weighted avg\n",
       "f1-score      0.892    0.595      0.829      0.743         0.849\n",
       "precision     0.972    0.454      0.829      0.713         0.897\n",
       "recall        0.824    0.862      0.829      0.843         0.829\n",
       "support    5025.000  856.000   5881.000   5881.000      5881.000"
      ]
     },
     "metadata": {},
     "output_type": "display_data"
    },
    {
     "name": "stdout",
     "output_type": "stream",
     "text": [
      "Model Saved on  roc_auc 0.9202954851908682\n"
     ]
    },
    {
     "data": {
      "application/vnd.jupyter.widget-view+json": {
       "model_id": "ae42f1ab46994ba484f07de0c45c1122",
       "version_major": 2,
       "version_minor": 0
      },
      "text/plain": [
       "HBox(children=(IntProgress(value=0, max=282), HTML(value='')))"
      ]
     },
     "metadata": {},
     "output_type": "display_data"
    },
    {
     "data": {
      "application/vnd.jupyter.widget-view+json": {
       "model_id": "dfb97774a4594fc69ef4b2560e299ea5",
       "version_major": 2,
       "version_minor": 0
      },
      "text/plain": [
       "HBox(children=(IntProgress(value=0, max=184), HTML(value='')))"
      ]
     },
     "metadata": {},
     "output_type": "display_data"
    },
    {
     "name": "stdout",
     "output_type": "stream",
     "text": [
      "{'accuracy': 0.8998469648019044, 'roc_auc': 0.9229092853489562, 'pr_auc': 0.7396717121313758}\n"
     ]
    },
    {
     "data": {
      "text/html": [
       "<div>\n",
       "<style scoped>\n",
       "    .dataframe tbody tr th:only-of-type {\n",
       "        vertical-align: middle;\n",
       "    }\n",
       "\n",
       "    .dataframe tbody tr th {\n",
       "        vertical-align: top;\n",
       "    }\n",
       "\n",
       "    .dataframe thead th {\n",
       "        text-align: right;\n",
       "    }\n",
       "</style>\n",
       "<table border=\"1\" class=\"dataframe\">\n",
       "  <thead>\n",
       "    <tr style=\"text-align: right;\">\n",
       "      <th></th>\n",
       "      <th>0</th>\n",
       "      <th>1</th>\n",
       "      <th>micro avg</th>\n",
       "      <th>macro avg</th>\n",
       "      <th>weighted avg</th>\n",
       "    </tr>\n",
       "  </thead>\n",
       "  <tbody>\n",
       "    <tr>\n",
       "      <th>f1-score</th>\n",
       "      <td>0.941</td>\n",
       "      <td>0.666</td>\n",
       "      <td>0.9</td>\n",
       "      <td>0.804</td>\n",
       "      <td>0.901</td>\n",
       "    </tr>\n",
       "    <tr>\n",
       "      <th>precision</th>\n",
       "      <td>0.946</td>\n",
       "      <td>0.647</td>\n",
       "      <td>0.9</td>\n",
       "      <td>0.797</td>\n",
       "      <td>0.902</td>\n",
       "    </tr>\n",
       "    <tr>\n",
       "      <th>recall</th>\n",
       "      <td>0.936</td>\n",
       "      <td>0.686</td>\n",
       "      <td>0.9</td>\n",
       "      <td>0.811</td>\n",
       "      <td>0.900</td>\n",
       "    </tr>\n",
       "    <tr>\n",
       "      <th>support</th>\n",
       "      <td>5025.000</td>\n",
       "      <td>856.000</td>\n",
       "      <td>5881.0</td>\n",
       "      <td>5881.000</td>\n",
       "      <td>5881.000</td>\n",
       "    </tr>\n",
       "  </tbody>\n",
       "</table>\n",
       "</div>"
      ],
      "text/plain": [
       "                  0        1  micro avg  macro avg  weighted avg\n",
       "f1-score      0.941    0.666        0.9      0.804         0.901\n",
       "precision     0.946    0.647        0.9      0.797         0.902\n",
       "recall        0.936    0.686        0.9      0.811         0.900\n",
       "support    5025.000  856.000     5881.0   5881.000      5881.000"
      ]
     },
     "metadata": {},
     "output_type": "display_data"
    },
    {
     "name": "stdout",
     "output_type": "stream",
     "text": [
      "Model Saved on  roc_auc 0.9229092853489562\n"
     ]
    },
    {
     "data": {
      "application/vnd.jupyter.widget-view+json": {
       "model_id": "8f431b7771794cca8aaaac122435feaa",
       "version_major": 2,
       "version_minor": 0
      },
      "text/plain": [
       "HBox(children=(IntProgress(value=0, max=282), HTML(value='')))"
      ]
     },
     "metadata": {},
     "output_type": "display_data"
    },
    {
     "data": {
      "application/vnd.jupyter.widget-view+json": {
       "model_id": "940854e594a04057aea3ba60c3946aa7",
       "version_major": 2,
       "version_minor": 0
      },
      "text/plain": [
       "HBox(children=(IntProgress(value=0, max=184), HTML(value='')))"
      ]
     },
     "metadata": {},
     "output_type": "display_data"
    },
    {
     "name": "stdout",
     "output_type": "stream",
     "text": [
      "{'accuracy': 0.9166808365924163, 'roc_auc': 0.9318235923187799, 'pr_auc': 0.772335390128115}\n"
     ]
    },
    {
     "data": {
      "text/html": [
       "<div>\n",
       "<style scoped>\n",
       "    .dataframe tbody tr th:only-of-type {\n",
       "        vertical-align: middle;\n",
       "    }\n",
       "\n",
       "    .dataframe tbody tr th {\n",
       "        vertical-align: top;\n",
       "    }\n",
       "\n",
       "    .dataframe thead th {\n",
       "        text-align: right;\n",
       "    }\n",
       "</style>\n",
       "<table border=\"1\" class=\"dataframe\">\n",
       "  <thead>\n",
       "    <tr style=\"text-align: right;\">\n",
       "      <th></th>\n",
       "      <th>0</th>\n",
       "      <th>1</th>\n",
       "      <th>micro avg</th>\n",
       "      <th>macro avg</th>\n",
       "      <th>weighted avg</th>\n",
       "    </tr>\n",
       "  </thead>\n",
       "  <tbody>\n",
       "    <tr>\n",
       "      <th>f1-score</th>\n",
       "      <td>0.952</td>\n",
       "      <td>0.672</td>\n",
       "      <td>0.917</td>\n",
       "      <td>0.812</td>\n",
       "      <td>0.911</td>\n",
       "    </tr>\n",
       "    <tr>\n",
       "      <th>precision</th>\n",
       "      <td>0.932</td>\n",
       "      <td>0.787</td>\n",
       "      <td>0.917</td>\n",
       "      <td>0.860</td>\n",
       "      <td>0.911</td>\n",
       "    </tr>\n",
       "    <tr>\n",
       "      <th>recall</th>\n",
       "      <td>0.973</td>\n",
       "      <td>0.586</td>\n",
       "      <td>0.917</td>\n",
       "      <td>0.780</td>\n",
       "      <td>0.917</td>\n",
       "    </tr>\n",
       "    <tr>\n",
       "      <th>support</th>\n",
       "      <td>5025.000</td>\n",
       "      <td>856.000</td>\n",
       "      <td>5881.000</td>\n",
       "      <td>5881.000</td>\n",
       "      <td>5881.000</td>\n",
       "    </tr>\n",
       "  </tbody>\n",
       "</table>\n",
       "</div>"
      ],
      "text/plain": [
       "                  0        1  micro avg  macro avg  weighted avg\n",
       "f1-score      0.952    0.672      0.917      0.812         0.911\n",
       "precision     0.932    0.787      0.917      0.860         0.911\n",
       "recall        0.973    0.586      0.917      0.780         0.917\n",
       "support    5025.000  856.000   5881.000   5881.000      5881.000"
      ]
     },
     "metadata": {},
     "output_type": "display_data"
    },
    {
     "name": "stdout",
     "output_type": "stream",
     "text": [
      "Model Saved on  roc_auc 0.9318235923187799\n"
     ]
    },
    {
     "data": {
      "application/vnd.jupyter.widget-view+json": {
       "model_id": "a99d9d86883b4b8cbaaa1ab6b2412a92",
       "version_major": 2,
       "version_minor": 0
      },
      "text/plain": [
       "HBox(children=(IntProgress(value=0, max=282), HTML(value='')))"
      ]
     },
     "metadata": {},
     "output_type": "display_data"
    },
    {
     "data": {
      "application/vnd.jupyter.widget-view+json": {
       "model_id": "aa779a4d9bcf4abd86790fb2bcf5dd28",
       "version_major": 2,
       "version_minor": 0
      },
      "text/plain": [
       "HBox(children=(IntProgress(value=0, max=184), HTML(value='')))"
      ]
     },
     "metadata": {},
     "output_type": "display_data"
    },
    {
     "name": "stdout",
     "output_type": "stream",
     "text": [
      "{'accuracy': 0.8607379697330386, 'roc_auc': 0.9296852187659832, 'pr_auc': 0.7715132222058015}\n"
     ]
    },
    {
     "data": {
      "text/html": [
       "<div>\n",
       "<style scoped>\n",
       "    .dataframe tbody tr th:only-of-type {\n",
       "        vertical-align: middle;\n",
       "    }\n",
       "\n",
       "    .dataframe tbody tr th {\n",
       "        vertical-align: top;\n",
       "    }\n",
       "\n",
       "    .dataframe thead th {\n",
       "        text-align: right;\n",
       "    }\n",
       "</style>\n",
       "<table border=\"1\" class=\"dataframe\">\n",
       "  <thead>\n",
       "    <tr style=\"text-align: right;\">\n",
       "      <th></th>\n",
       "      <th>0</th>\n",
       "      <th>1</th>\n",
       "      <th>micro avg</th>\n",
       "      <th>macro avg</th>\n",
       "      <th>weighted avg</th>\n",
       "    </tr>\n",
       "  </thead>\n",
       "  <tbody>\n",
       "    <tr>\n",
       "      <th>f1-score</th>\n",
       "      <td>0.914</td>\n",
       "      <td>0.637</td>\n",
       "      <td>0.861</td>\n",
       "      <td>0.775</td>\n",
       "      <td>0.874</td>\n",
       "    </tr>\n",
       "    <tr>\n",
       "      <th>precision</th>\n",
       "      <td>0.969</td>\n",
       "      <td>0.513</td>\n",
       "      <td>0.861</td>\n",
       "      <td>0.741</td>\n",
       "      <td>0.903</td>\n",
       "    </tr>\n",
       "    <tr>\n",
       "      <th>recall</th>\n",
       "      <td>0.864</td>\n",
       "      <td>0.839</td>\n",
       "      <td>0.861</td>\n",
       "      <td>0.852</td>\n",
       "      <td>0.861</td>\n",
       "    </tr>\n",
       "    <tr>\n",
       "      <th>support</th>\n",
       "      <td>5025.000</td>\n",
       "      <td>856.000</td>\n",
       "      <td>5881.000</td>\n",
       "      <td>5881.000</td>\n",
       "      <td>5881.000</td>\n",
       "    </tr>\n",
       "  </tbody>\n",
       "</table>\n",
       "</div>"
      ],
      "text/plain": [
       "                  0        1  micro avg  macro avg  weighted avg\n",
       "f1-score      0.914    0.637      0.861      0.775         0.874\n",
       "precision     0.969    0.513      0.861      0.741         0.903\n",
       "recall        0.864    0.839      0.861      0.852         0.861\n",
       "support    5025.000  856.000   5881.000   5881.000      5881.000"
      ]
     },
     "metadata": {},
     "output_type": "display_data"
    },
    {
     "name": "stdout",
     "output_type": "stream",
     "text": [
      "Model not saved on  roc_auc 0.9296852187659832\n"
     ]
    },
    {
     "data": {
      "application/vnd.jupyter.widget-view+json": {
       "model_id": "f6f433558fd845728ed41c0b03978e29",
       "version_major": 2,
       "version_minor": 0
      },
      "text/plain": [
       "HBox(children=(IntProgress(value=0, max=282), HTML(value='')))"
      ]
     },
     "metadata": {},
     "output_type": "display_data"
    },
    {
     "data": {
      "application/vnd.jupyter.widget-view+json": {
       "model_id": "bd1149c1e55342c99ee8b436cd87356a",
       "version_major": 2,
       "version_minor": 0
      },
      "text/plain": [
       "HBox(children=(IntProgress(value=0, max=184), HTML(value='')))"
      ]
     },
     "metadata": {},
     "output_type": "display_data"
    },
    {
     "name": "stdout",
     "output_type": "stream",
     "text": [
      "{'accuracy': 0.8524060533922803, 'roc_auc': 0.9191662017017717, 'pr_auc': 0.7562538189895879}\n"
     ]
    },
    {
     "data": {
      "text/html": [
       "<div>\n",
       "<style scoped>\n",
       "    .dataframe tbody tr th:only-of-type {\n",
       "        vertical-align: middle;\n",
       "    }\n",
       "\n",
       "    .dataframe tbody tr th {\n",
       "        vertical-align: top;\n",
       "    }\n",
       "\n",
       "    .dataframe thead th {\n",
       "        text-align: right;\n",
       "    }\n",
       "</style>\n",
       "<table border=\"1\" class=\"dataframe\">\n",
       "  <thead>\n",
       "    <tr style=\"text-align: right;\">\n",
       "      <th></th>\n",
       "      <th>0</th>\n",
       "      <th>1</th>\n",
       "      <th>micro avg</th>\n",
       "      <th>macro avg</th>\n",
       "      <th>weighted avg</th>\n",
       "    </tr>\n",
       "  </thead>\n",
       "  <tbody>\n",
       "    <tr>\n",
       "      <th>f1-score</th>\n",
       "      <td>0.909</td>\n",
       "      <td>0.618</td>\n",
       "      <td>0.852</td>\n",
       "      <td>0.763</td>\n",
       "      <td>0.866</td>\n",
       "    </tr>\n",
       "    <tr>\n",
       "      <th>precision</th>\n",
       "      <td>0.965</td>\n",
       "      <td>0.496</td>\n",
       "      <td>0.852</td>\n",
       "      <td>0.731</td>\n",
       "      <td>0.897</td>\n",
       "    </tr>\n",
       "    <tr>\n",
       "      <th>recall</th>\n",
       "      <td>0.858</td>\n",
       "      <td>0.819</td>\n",
       "      <td>0.852</td>\n",
       "      <td>0.839</td>\n",
       "      <td>0.852</td>\n",
       "    </tr>\n",
       "    <tr>\n",
       "      <th>support</th>\n",
       "      <td>5025.000</td>\n",
       "      <td>856.000</td>\n",
       "      <td>5881.000</td>\n",
       "      <td>5881.000</td>\n",
       "      <td>5881.000</td>\n",
       "    </tr>\n",
       "  </tbody>\n",
       "</table>\n",
       "</div>"
      ],
      "text/plain": [
       "                  0        1  micro avg  macro avg  weighted avg\n",
       "f1-score      0.909    0.618      0.852      0.763         0.866\n",
       "precision     0.965    0.496      0.852      0.731         0.897\n",
       "recall        0.858    0.819      0.852      0.839         0.852\n",
       "support    5025.000  856.000   5881.000   5881.000      5881.000"
      ]
     },
     "metadata": {},
     "output_type": "display_data"
    },
    {
     "name": "stdout",
     "output_type": "stream",
     "text": [
      "Model not saved on  roc_auc 0.9191662017017717\n"
     ]
    },
    {
     "data": {
      "application/vnd.jupyter.widget-view+json": {
       "model_id": "880214e0cffc4d82aeaa3c681a42c8ce",
       "version_major": 2,
       "version_minor": 0
      },
      "text/plain": [
       "HBox(children=(IntProgress(value=0, max=282), HTML(value='')))"
      ]
     },
     "metadata": {},
     "output_type": "display_data"
    },
    {
     "data": {
      "application/vnd.jupyter.widget-view+json": {
       "model_id": "daca7e66522d48828d56d60b97a6cea6",
       "version_major": 2,
       "version_minor": 0
      },
      "text/plain": [
       "HBox(children=(IntProgress(value=0, max=184), HTML(value='')))"
      ]
     },
     "metadata": {},
     "output_type": "display_data"
    },
    {
     "name": "stdout",
     "output_type": "stream",
     "text": [
      "{'accuracy': 0.9119197415405543, 'roc_auc': 0.9193345189938159, 'pr_auc': 0.743522447618572}\n"
     ]
    },
    {
     "data": {
      "text/html": [
       "<div>\n",
       "<style scoped>\n",
       "    .dataframe tbody tr th:only-of-type {\n",
       "        vertical-align: middle;\n",
       "    }\n",
       "\n",
       "    .dataframe tbody tr th {\n",
       "        vertical-align: top;\n",
       "    }\n",
       "\n",
       "    .dataframe thead th {\n",
       "        text-align: right;\n",
       "    }\n",
       "</style>\n",
       "<table border=\"1\" class=\"dataframe\">\n",
       "  <thead>\n",
       "    <tr style=\"text-align: right;\">\n",
       "      <th></th>\n",
       "      <th>0</th>\n",
       "      <th>1</th>\n",
       "      <th>micro avg</th>\n",
       "      <th>macro avg</th>\n",
       "      <th>weighted avg</th>\n",
       "    </tr>\n",
       "  </thead>\n",
       "  <tbody>\n",
       "    <tr>\n",
       "      <th>f1-score</th>\n",
       "      <td>0.949</td>\n",
       "      <td>0.674</td>\n",
       "      <td>0.912</td>\n",
       "      <td>0.811</td>\n",
       "      <td>0.909</td>\n",
       "    </tr>\n",
       "    <tr>\n",
       "      <th>precision</th>\n",
       "      <td>0.938</td>\n",
       "      <td>0.731</td>\n",
       "      <td>0.912</td>\n",
       "      <td>0.834</td>\n",
       "      <td>0.908</td>\n",
       "    </tr>\n",
       "    <tr>\n",
       "      <th>recall</th>\n",
       "      <td>0.961</td>\n",
       "      <td>0.625</td>\n",
       "      <td>0.912</td>\n",
       "      <td>0.793</td>\n",
       "      <td>0.912</td>\n",
       "    </tr>\n",
       "    <tr>\n",
       "      <th>support</th>\n",
       "      <td>5025.000</td>\n",
       "      <td>856.000</td>\n",
       "      <td>5881.000</td>\n",
       "      <td>5881.000</td>\n",
       "      <td>5881.000</td>\n",
       "    </tr>\n",
       "  </tbody>\n",
       "</table>\n",
       "</div>"
      ],
      "text/plain": [
       "                  0        1  micro avg  macro avg  weighted avg\n",
       "f1-score      0.949    0.674      0.912      0.811         0.909\n",
       "precision     0.938    0.731      0.912      0.834         0.908\n",
       "recall        0.961    0.625      0.912      0.793         0.912\n",
       "support    5025.000  856.000   5881.000   5881.000      5881.000"
      ]
     },
     "metadata": {},
     "output_type": "display_data"
    },
    {
     "name": "stderr",
     "output_type": "stream",
     "text": [
      "INFO - 2019-03-23 18:21:00,438 - instantiating class <class 'PatientVec.models.Model.Model'> from params {'type': 'seq_classifier_with_attention', 'embedder': {'type': 'token_embedder', 'vocab_size': 29286, 'embed_size': 200, 'embedding_file': './preprocess/Mortality/embedding_matrix.npy'}, 'decoder': {'num_layers': 2, 'hidden_dims': [128, 1], 'activations': ['tanh', 'linear']}, 'predictor': {'type': 'binary'}, 'structured': {'use_structured': True, 'structured_dim': 50}, 'encoder': {'type': 'lstm', 'hidden_size': 128}, 'attention': {'similarity': {'type': 'additive', 'hidden_size': 128}}} and extras {}\n",
      "INFO - 2019-03-23 18:21:00,438 - type = seq_classifier_with_attention\n",
      "INFO - 2019-03-23 18:21:00,439 - instantiating class <class 'PatientVec.models.modules.Embedder.Embedder'> from params {'type': 'token_embedder', 'vocab_size': 29286, 'embed_size': 200, 'embedding_file': './preprocess/Mortality/embedding_matrix.npy'} and extras {}\n",
      "INFO - 2019-03-23 18:21:00,439 - embedder.type = token_embedder\n",
      "INFO - 2019-03-23 18:21:00,440 - instantiating class <class 'PatientVec.models.modules.Embedder.TokenEmbedder'> from params {'vocab_size': 29286, 'embed_size': 200, 'embedding_file': './preprocess/Mortality/embedding_matrix.npy'} and extras {}\n",
      "INFO - 2019-03-23 18:21:00,440 - embedder.vocab_size = 29286\n",
      "INFO - 2019-03-23 18:21:00,440 - embedder.embed_size = 200\n",
      "INFO - 2019-03-23 18:21:00,441 - embedder.embedding_file = ./preprocess/Mortality/embedding_matrix.npy\n",
      "INFO - 2019-03-23 18:21:00,470 - instantiating class <class 'PatientVec.models.modules.Encoder.Encoder'> from params {'type': 'lstm', 'hidden_size': 128} and extras {'input_size': 200}\n",
      "INFO - 2019-03-23 18:21:00,470 - encoder.type = lstm\n",
      "INFO - 2019-03-23 18:21:00,471 - instantiating class <class 'PatientVec.models.modules.Encoder.wrap_pytorch_rnn.<locals>.BiRNNEncoder'> from params {'hidden_size': 128} and extras {'input_size': 200}\n",
      "INFO - 2019-03-23 18:21:00,471 - encoder.hidden_size = 128\n",
      "INFO - 2019-03-23 18:21:00,473 - instantiating class <class 'PatientVec.models.modules.SelfAttention.SelfAttention'> from params {'similarity': {'type': 'additive', 'hidden_size': 128, 'tensor_1_dim': 256}} and extras {}\n",
      "INFO - 2019-03-23 18:21:00,473 - instantiating class <class 'PatientVec.models.modules.UniSimilarity.UniSimilarity'> from params {'type': 'additive', 'hidden_size': 128, 'tensor_1_dim': 256} and extras {}\n",
      "INFO - 2019-03-23 18:21:00,474 - attention.similarity.type = additive\n",
      "INFO - 2019-03-23 18:21:00,474 - instantiating class <class 'PatientVec.models.modules.UniSimilarity.UniAdditiveSimilarity'> from params {'hidden_size': 128, 'tensor_1_dim': 256} and extras {}\n",
      "INFO - 2019-03-23 18:21:00,474 - attention.similarity.tensor_1_dim = 256\n",
      "INFO - 2019-03-23 18:21:00,474 - attention.similarity.hidden_size = 128\n",
      "INFO - 2019-03-23 18:21:00,475 - attention.similarity.output_size = 1\n",
      "INFO - 2019-03-23 18:21:00,475 - attention.normaliser = softmax\n",
      "INFO - 2019-03-23 18:21:00,476 - decoder.input_dim = 306\n",
      "INFO - 2019-03-23 18:21:00,476 - decoder.num_layers = 2\n",
      "INFO - 2019-03-23 18:21:00,476 - decoder.hidden_dims = [128, 1]\n",
      "INFO - 2019-03-23 18:21:00,477 - decoder.activations = ['tanh', 'linear']\n",
      "INFO - 2019-03-23 18:21:00,477 - decoder.dropout = 0.0\n",
      "INFO - 2019-03-23 18:21:00,478 - instantiating class <class 'PatientVec.models.modules.Predictor.Predictor'> from params {'type': 'binary'} and extras {}\n",
      "INFO - 2019-03-23 18:21:00,479 - predictor.type = binary\n",
      "INFO - 2019-03-23 18:21:00,479 - instantiating class <class 'PatientVec.models.modules.Predictor.Binary_Predictor'> from params {} and extras {}\n",
      "INFO - 2019-03-23 18:21:00,479 - predictor.replicate = False\n",
      "INFO - 2019-03-23 18:21:00,479 - predictor.alpha = 0.5\n"
     ]
    },
    {
     "name": "stdout",
     "output_type": "stream",
     "text": [
      "Model not saved on  roc_auc 0.9193345189938159\n",
      "0.9318235923187799 deque([0.9296852187659832, 0.9191662017017717, 0.9193345189938159], maxlen=3)\n",
      "\n",
      "Setting Embedding\n"
     ]
    },
    {
     "data": {
      "application/vnd.jupyter.widget-view+json": {
       "model_id": "28413f4b9cc7465bb9ba4eade9ad539b",
       "version_major": 2,
       "version_minor": 0
      },
      "text/plain": [
       "HBox(children=(IntProgress(value=0, max=184), HTML(value='')))"
      ]
     },
     "metadata": {},
     "output_type": "display_data"
    },
    {
     "name": "stdout",
     "output_type": "stream",
     "text": [
      "\n",
      "{'accuracy': 0.9166808365924163, 'roc_auc': 0.9318235923187799, 'pr_auc': 0.772335390128115}\n"
     ]
    },
    {
     "data": {
      "text/html": [
       "<div>\n",
       "<style scoped>\n",
       "    .dataframe tbody tr th:only-of-type {\n",
       "        vertical-align: middle;\n",
       "    }\n",
       "\n",
       "    .dataframe tbody tr th {\n",
       "        vertical-align: top;\n",
       "    }\n",
       "\n",
       "    .dataframe thead th {\n",
       "        text-align: right;\n",
       "    }\n",
       "</style>\n",
       "<table border=\"1\" class=\"dataframe\">\n",
       "  <thead>\n",
       "    <tr style=\"text-align: right;\">\n",
       "      <th></th>\n",
       "      <th>0</th>\n",
       "      <th>1</th>\n",
       "      <th>micro avg</th>\n",
       "      <th>macro avg</th>\n",
       "      <th>weighted avg</th>\n",
       "    </tr>\n",
       "  </thead>\n",
       "  <tbody>\n",
       "    <tr>\n",
       "      <th>f1-score</th>\n",
       "      <td>0.952</td>\n",
       "      <td>0.672</td>\n",
       "      <td>0.917</td>\n",
       "      <td>0.812</td>\n",
       "      <td>0.911</td>\n",
       "    </tr>\n",
       "    <tr>\n",
       "      <th>precision</th>\n",
       "      <td>0.932</td>\n",
       "      <td>0.787</td>\n",
       "      <td>0.917</td>\n",
       "      <td>0.860</td>\n",
       "      <td>0.911</td>\n",
       "    </tr>\n",
       "    <tr>\n",
       "      <th>recall</th>\n",
       "      <td>0.973</td>\n",
       "      <td>0.586</td>\n",
       "      <td>0.917</td>\n",
       "      <td>0.780</td>\n",
       "      <td>0.917</td>\n",
       "    </tr>\n",
       "    <tr>\n",
       "      <th>support</th>\n",
       "      <td>5025.000</td>\n",
       "      <td>856.000</td>\n",
       "      <td>5881.000</td>\n",
       "      <td>5881.000</td>\n",
       "      <td>5881.000</td>\n",
       "    </tr>\n",
       "  </tbody>\n",
       "</table>\n",
       "</div>"
      ],
      "text/plain": [
       "                  0        1  micro avg  macro avg  weighted avg\n",
       "f1-score      0.952    0.672      0.917      0.812         0.911\n",
       "precision     0.932    0.787      0.917      0.860         0.911\n",
       "recall        0.973    0.586      0.917      0.780         0.917\n",
       "support    5025.000  856.000   5881.000   5881.000      5881.000"
      ]
     },
     "metadata": {},
     "output_type": "display_data"
    },
    {
     "name": "stdout",
     "output_type": "stream",
     "text": [
      "============================================================================================================================================================================================================================================================================================================\n"
     ]
    }
   ],
   "source": [
    "%run \"Discovery Experiments\"/n_times.py --data_dir='.' --output_dir='outputs' --display --n=500\n",
    "%run \"Discovery Experiments\"/n_times.py --data_dir='.' --output_dir='outputs' --display --n=1000\n",
    "%run \"Discovery Experiments\"/n_times.py --data_dir='.' --output_dir='outputs' --display --n=3000\n",
    "%run \"Discovery Experiments\"/n_times.py --data_dir='.' --output_dir='outputs' --display --n=5000\n",
    "%run \"Discovery Experiments\"/n_times.py --data_dir='.' --output_dir='outputs' --display --n=7000\n",
    "%run \"Discovery Experiments\"/n_times.py --data_dir='.' --output_dir='outputs' --display --n=9000"
   ]
  },
  {
   "cell_type": "code",
   "execution_count": null,
   "metadata": {},
   "outputs": [],
   "source": []
  }
 ],
 "metadata": {
  "kernelspec": {
   "display_name": "Python 3",
   "language": "python",
   "name": "python3"
  },
  "language_info": {
   "codemirror_mode": {
    "name": "ipython",
    "version": 3
   },
   "file_extension": ".py",
   "mimetype": "text/x-python",
   "name": "python",
   "nbconvert_exporter": "python",
   "pygments_lexer": "ipython3",
   "version": "3.7.2"
  }
 },
 "nbformat": 4,
 "nbformat_minor": 2
}
