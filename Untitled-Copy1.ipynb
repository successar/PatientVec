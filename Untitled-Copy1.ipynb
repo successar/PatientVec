{
 "cells": [
  {
   "cell_type": "code",
   "execution_count": null,
   "metadata": {},
   "outputs": [],
   "source": [
    "# %run \"Discovery Experiments\"/run_models.py --dataset readmission --data_dir=\".\" \\\n",
    "#     --exp_types sru --display --output_dir+ \"outputs/\" --structured"
   ]
  },
  {
   "cell_type": "code",
   "execution_count": null,
   "metadata": {},
   "outputs": [],
   "source": [
    "# %run \"Discovery Experiments\"/run_models.py --dataset readmission --data_dir=\".\" \\\n",
    "#     --exp_types sru --display --output_dir \"outputs/\""
   ]
  },
  {
   "cell_type": "code",
   "execution_count": null,
   "metadata": {},
   "outputs": [],
   "source": [
    "# %run \"Discovery Experiments\"/run_models.py --dataset mortality_30day --data_dir=\".\" \\\n",
    "#     --exp_types sru --display --output_dir \"outputs/\" --structured"
   ]
  },
  {
   "cell_type": "code",
   "execution_count": null,
   "metadata": {},
   "outputs": [],
   "source": [
    "%run \"Discovery Experiments\"/run_models.py --dataset mortality_30day --data_dir=\".\" \\\n",
    "    --exp_types sru --display --output_dir \"outputs/\""
   ]
  },
  {
   "cell_type": "code",
   "execution_count": null,
   "metadata": {},
   "outputs": [],
   "source": [
    "# %run \"Discovery Experiments\"/run_models.py --dataset diagnosis --data_dir=\".\" \\\n",
    "#     --exp_types sru --display --output_dir \"outputs/\" --structured"
   ]
  },
  {
   "cell_type": "code",
   "execution_count": null,
   "metadata": {},
   "outputs": [],
   "source": [
    "# %run \"Discovery Experiments\"/run_models.py --dataset diagnosis --data_dir=\".\" \\\n",
    "#     --exp_types sru --display --output_dir \"outputs/\""
   ]
  },
  {
   "cell_type": "code",
   "execution_count": null,
   "metadata": {},
   "outputs": [],
   "source": [
    "%run \"Discovery Experiments\"/run_models.py --dataset mortality_1yr --data_dir=\".\" \\\n",
    "    --exp_types sru --display --output_dir \"outputs/\" --structured"
   ]
  },
  {
   "cell_type": "code",
   "execution_count": null,
   "metadata": {},
   "outputs": [],
   "source": [
    "%run \"Discovery Experiments\"/run_models.py --dataset mortality_1yr --data_dir=\".\" \\\n",
    "    --exp_types sru --display --output_dir \"outputs/\""
   ]
  },
  {
   "cell_type": "code",
   "execution_count": null,
   "metadata": {},
   "outputs": [],
   "source": []
  }
 ],
 "metadata": {
  "kernelspec": {
   "display_name": "Python 3",
   "language": "python",
   "name": "python3"
  },
  "language_info": {
   "codemirror_mode": {
    "name": "ipython",
    "version": 3
   },
   "file_extension": ".py",
   "mimetype": "text/x-python",
   "name": "python",
   "nbconvert_exporter": "python",
   "pygments_lexer": "ipython3",
   "version": "3.6.7"
  }
 },
 "nbformat": 4,
 "nbformat_minor": 2
}
