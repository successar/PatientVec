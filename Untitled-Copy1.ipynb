{
 "cells": [
  {
   "cell_type": "code",
   "execution_count": null,
   "metadata": {},
   "outputs": [],
   "source": [
    "%run \"Discovery Experiments\"/run_models.py --dataset readmission --data_dir=\".\" \\\n",
    "    --exp_types sru --display --output_dir \"outputs/\" --structured"
   ]
  },
  {
   "cell_type": "code",
   "execution_count": null,
   "metadata": {},
   "outputs": [],
   "source": [
    "%run \"Discovery Experiments\"/run_models.py --dataset readmission --data_dir=\".\" \\\n",
    "    --exp_types sru --display --output_dir \"outputs/\""
   ]
  },
  {
   "cell_type": "code",
   "execution_count": null,
   "metadata": {},
   "outputs": [
    {
     "name": "stdout",
     "output_type": "stream",
     "text": [
      "Better speed can be achieved with apex installed from https://www.github.com/nvidia/apex.\n"
     ]
    },
    {
     "name": "stderr",
     "output_type": "stream",
     "text": [
      "INFO - 2019-03-21 22:05:49,396 - Reading Structured data ...\n",
      "INFO - 2019-03-21 22:05:49,431 - Reading Notes ...\n",
      "INFO - 2019-03-21 22:05:58,530 - Stratifying ...\n"
     ]
    },
    {
     "name": "stdout",
     "output_type": "stream",
     "text": [
      "Pos Percentage [0.15129873]\n"
     ]
    },
    {
     "name": "stderr",
     "output_type": "stream",
     "text": [
      "INFO - 2019-03-21 22:06:02,168 - Maximum Sentence Length 721825.000000 , 90 percentile length 18596.000000 ... \n",
      "INFO - 2019-03-21 22:06:10,231 - Truncated all ...\n",
      "INFO - 2019-03-21 22:06:10,273 - Idxs removed []...\n"
     ]
    },
    {
     "name": "stdout",
     "output_type": "stream",
     "text": [
      "Pos Percentage [0.14555348]\n"
     ]
    },
    {
     "name": "stderr",
     "output_type": "stream",
     "text": [
      "INFO - 2019-03-21 22:06:11,098 - Maximum Sentence Length 420764.000000 , 90 percentile length 17662.000000 ... \n",
      "INFO - 2019-03-21 22:06:12,633 - Truncated all ...\n",
      "INFO - 2019-03-21 22:06:12,644 - Idxs removed []...\n",
      "INFO - 2019-03-21 22:06:12,692 - instantiating class <class 'PatientVec.models.Model.Model'> from params {'type': 'hierarchical_classifier_with_attention', 'embedder': {'type': 'token_embedder', 'vocab_size': 29286, 'embed_size': 200, 'embedding_file': './preprocess/Mortality/embedding_matrix.npy'}, 'decoder': {'num_layers': 2, 'hidden_dims': [128, 1], 'activations': ['tanh', 'linear']}, 'predictor': {'type': 'binary'}, 'structured': {'use_structured': True, 'structured_dim': 50}, 'word_encoder': {'type': 'lstm', 'hidden_size': 128}, 'word_attention': {'similarity': {'type': 'additive', 'hidden_size': 128}}, 'sentence_encoder': {'type': 'lstm', 'hidden_size': 128}, 'sentence_attention': {'similarity': {'type': 'additive', 'hidden_size': 128}}} and extras {}\n",
      "INFO - 2019-03-21 22:06:12,692 - type = hierarchical_classifier_with_attention\n",
      "INFO - 2019-03-21 22:06:12,693 - instantiating class <class 'PatientVec.models.modules.Embedder.Embedder'> from params {'type': 'token_embedder', 'vocab_size': 29286, 'embed_size': 200, 'embedding_file': './preprocess/Mortality/embedding_matrix.npy'} and extras {}\n",
      "INFO - 2019-03-21 22:06:12,693 - embedder.type = token_embedder\n",
      "INFO - 2019-03-21 22:06:12,694 - instantiating class <class 'PatientVec.models.modules.Embedder.TokenEmbedder'> from params {'vocab_size': 29286, 'embed_size': 200, 'embedding_file': './preprocess/Mortality/embedding_matrix.npy'} and extras {}\n",
      "INFO - 2019-03-21 22:06:12,745 - embedder.vocab_size = 29286\n",
      "INFO - 2019-03-21 22:06:12,745 - embedder.embed_size = 200\n",
      "INFO - 2019-03-21 22:06:12,746 - embedder.embedding_file = ./preprocess/Mortality/embedding_matrix.npy\n",
      "INFO - 2019-03-21 22:06:12,761 - instantiating class <class 'PatientVec.models.modules.Encoder.Encoder'> from params {'type': 'lstm', 'hidden_size': 128} and extras {'input_size': 200}\n",
      "INFO - 2019-03-21 22:06:12,761 - word_encoder.type = lstm\n",
      "INFO - 2019-03-21 22:06:12,761 - instantiating class <class 'PatientVec.models.modules.Encoder.wrap_pytorch_rnn.<locals>.BiRNNEncoder'> from params {'hidden_size': 128} and extras {'input_size': 200}\n",
      "INFO - 2019-03-21 22:06:12,762 - word_encoder.hidden_size = 128\n",
      "INFO - 2019-03-21 22:06:12,764 - instantiating class <class 'PatientVec.models.modules.SelfAttention.SelfAttention'> from params {'similarity': {'type': 'additive', 'hidden_size': 128, 'tensor_1_dim': 256}} and extras {}\n",
      "INFO - 2019-03-21 22:06:12,764 - instantiating class <class 'PatientVec.models.modules.UniSimilarity.UniSimilarity'> from params {'type': 'additive', 'hidden_size': 128, 'tensor_1_dim': 256} and extras {}\n",
      "INFO - 2019-03-21 22:06:12,765 - word_attention.similarity.type = additive\n",
      "INFO - 2019-03-21 22:06:12,765 - instantiating class <class 'PatientVec.models.modules.UniSimilarity.UniAdditiveSimilarity'> from params {'hidden_size': 128, 'tensor_1_dim': 256} and extras {}\n",
      "INFO - 2019-03-21 22:06:12,765 - word_attention.similarity.tensor_1_dim = 256\n",
      "INFO - 2019-03-21 22:06:12,766 - word_attention.similarity.hidden_size = 128\n",
      "INFO - 2019-03-21 22:06:12,766 - word_attention.similarity.output_size = 1\n",
      "INFO - 2019-03-21 22:06:12,767 - word_attention.normaliser = softmax\n",
      "INFO - 2019-03-21 22:06:12,768 - instantiating class <class 'PatientVec.models.modules.Encoder.Encoder'> from params {'type': 'lstm', 'hidden_size': 128} and extras {'input_size': 256}\n",
      "INFO - 2019-03-21 22:06:12,768 - sentence_encoder.type = lstm\n",
      "INFO - 2019-03-21 22:06:12,768 - instantiating class <class 'PatientVec.models.modules.Encoder.wrap_pytorch_rnn.<locals>.BiRNNEncoder'> from params {'hidden_size': 128} and extras {'input_size': 256}\n",
      "INFO - 2019-03-21 22:06:12,769 - sentence_encoder.hidden_size = 128\n",
      "INFO - 2019-03-21 22:06:12,771 - instantiating class <class 'PatientVec.models.modules.SelfAttention.SelfAttention'> from params {'similarity': {'type': 'additive', 'hidden_size': 128, 'tensor_1_dim': 256}} and extras {}\n",
      "INFO - 2019-03-21 22:06:12,772 - instantiating class <class 'PatientVec.models.modules.UniSimilarity.UniSimilarity'> from params {'type': 'additive', 'hidden_size': 128, 'tensor_1_dim': 256} and extras {}\n",
      "INFO - 2019-03-21 22:06:12,772 - sentence_attention.similarity.type = additive\n",
      "INFO - 2019-03-21 22:06:12,772 - instantiating class <class 'PatientVec.models.modules.UniSimilarity.UniAdditiveSimilarity'> from params {'hidden_size': 128, 'tensor_1_dim': 256} and extras {}\n",
      "INFO - 2019-03-21 22:06:12,773 - sentence_attention.similarity.tensor_1_dim = 256\n",
      "INFO - 2019-03-21 22:06:12,773 - sentence_attention.similarity.hidden_size = 128\n",
      "INFO - 2019-03-21 22:06:12,773 - sentence_attention.similarity.output_size = 1\n",
      "INFO - 2019-03-21 22:06:12,775 - sentence_attention.normaliser = softmax\n",
      "INFO - 2019-03-21 22:06:12,775 - decoder.input_dim = 306\n",
      "INFO - 2019-03-21 22:06:12,775 - decoder.num_layers = 2\n",
      "INFO - 2019-03-21 22:06:12,776 - decoder.hidden_dims = [128, 1]\n",
      "INFO - 2019-03-21 22:06:12,776 - decoder.activations = ['tanh', 'linear']\n",
      "INFO - 2019-03-21 22:06:12,776 - decoder.dropout = 0.0\n",
      "INFO - 2019-03-21 22:06:12,778 - instantiating class <class 'PatientVec.models.modules.Predictor.Predictor'> from params {'type': 'binary'} and extras {}\n",
      "INFO - 2019-03-21 22:06:12,778 - predictor.type = binary\n",
      "INFO - 2019-03-21 22:06:12,778 - instantiating class <class 'PatientVec.models.modules.Predictor.Binary_Predictor'> from params {} and extras {}\n",
      "INFO - 2019-03-21 22:06:12,778 - predictor.replicate = False\n",
      "INFO - 2019-03-21 22:06:12,779 - predictor.alpha = 0.5\n"
     ]
    },
    {
     "name": "stdout",
     "output_type": "stream",
     "text": [
      "{'model': {'type': 'hierarchical_classifier_with_attention', 'embedder': {'type': 'token_embedder', 'vocab_size': 29286, 'embed_size': 200, 'embedding_file': './preprocess/Mortality/embedding_matrix.npy'}, 'decoder': {'num_layers': 2, 'hidden_dims': [128, 1], 'activations': ['tanh', 'linear']}, 'predictor': {'type': 'binary'}, 'structured': {'use_structured': True, 'structured_dim': 50}, 'word_encoder': {'type': 'lstm', 'hidden_size': 128}, 'word_attention': {'similarity': {'type': 'additive', 'hidden_size': 128}}, 'sentence_encoder': {'type': 'lstm', 'hidden_size': 128}, 'sentence_attention': {'similarity': {'type': 'additive', 'hidden_size': 128}}}, 'training_config': {'type': 'Adam', 'groups': [('.*', {'lr': 0.001, 'weight_decay': 1e-05})], 'common': {'bsize': 16, 'class_weight': True}}, 'exp_config': {'exp_name': 'Mortality_30day/Hierarchical Attention/LSTM(hs=128)+Attention(additive)(hs=128)+LSTM(hs=128)+Attention(additive)(hs=128)+Structured', 'basepath': 'outputs/'}}\n",
      "Setting Embedding\n"
     ]
    },
    {
     "data": {
      "application/vnd.jupyter.widget-view+json": {
       "model_id": "aea3a19b450e4c39b9cec8965ff4f111",
       "version_major": 2,
       "version_minor": 0
      },
      "text/plain": [
       "HBox(children=(IntProgress(value=0, max=10), HTML(value='')))"
      ]
     },
     "metadata": {},
     "output_type": "display_data"
    },
    {
     "data": {
      "application/vnd.jupyter.widget-view+json": {
       "model_id": "620acafbd122431f8901e6395620fb9a",
       "version_major": 2,
       "version_minor": 0
      },
      "text/plain": [
       "HBox(children=(IntProgress(value=0, max=1471), HTML(value='')))"
      ]
     },
     "metadata": {},
     "output_type": "display_data"
    }
   ],
   "source": [
    "%run \"Discovery Experiments\"/run_models.py --dataset mortality_30day --data_dir=\".\" \\\n",
    "    --exp_types hierarchical --display --output_dir \"outputs/\" --structured"
   ]
  },
  {
   "cell_type": "code",
   "execution_count": null,
   "metadata": {},
   "outputs": [],
   "source": [
    "%run \"Discovery Experiments\"/run_models.py --dataset mortality_30day --data_dir=\".\" \\\n",
    "    --exp_types sru --display --output_dir \"outputs/\""
   ]
  },
  {
   "cell_type": "code",
   "execution_count": null,
   "metadata": {},
   "outputs": [],
   "source": [
    "%run \"Discovery Experiments\"/run_models.py --dataset diagnosis --data_dir=\".\" \\\n",
    "    --exp_types sru --display --output_dir \"outputs/\" --structured"
   ]
  },
  {
   "cell_type": "code",
   "execution_count": null,
   "metadata": {},
   "outputs": [],
   "source": [
    "%run \"Discovery Experiments\"/run_models.py --dataset diagnosis --data_dir=\".\" \\\n",
    "    --exp_types sru --display --output_dir \"outputs/\""
   ]
  },
  {
   "cell_type": "code",
   "execution_count": null,
   "metadata": {},
   "outputs": [],
   "source": [
    "%run \"Discovery Experiments\"/run_models.py --dataset mortality_1yr --data_dir=\".\" \\\n",
    "    --exp_types sru --display --output_dir \"outputs/\" --structured"
   ]
  },
  {
   "cell_type": "code",
   "execution_count": null,
   "metadata": {},
   "outputs": [],
   "source": [
    "%run \"Discovery Experiments\"/run_models.py --dataset mortality_1yr --data_dir=\".\" \\\n",
    "    --exp_types sru --display --output_dir \"outputs/\""
   ]
  },
  {
   "cell_type": "code",
   "execution_count": null,
   "metadata": {},
   "outputs": [],
   "source": []
  }
 ],
 "metadata": {
  "kernelspec": {
   "display_name": "Python 3",
   "language": "python",
   "name": "python3"
  },
  "language_info": {
   "codemirror_mode": {
    "name": "ipython",
    "version": 3
   },
   "file_extension": ".py",
   "mimetype": "text/x-python",
   "name": "python",
   "nbconvert_exporter": "python",
   "pygments_lexer": "ipython3",
   "version": "3.6.7"
  }
 },
 "nbformat": 4,
 "nbformat_minor": 2
}
