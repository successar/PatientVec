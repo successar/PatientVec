{
 "cells": [
  {
   "cell_type": "code",
   "execution_count": null,
   "metadata": {},
   "outputs": [],
   "source": [
    "%run \"Discovery Experiments\"/run_models.py --dataset readmission --exp_types pretrained --data_dir='.' --output_dir='outputs/' --display"
   ]
  },
  {
   "cell_type": "code",
   "execution_count": null,
   "metadata": {},
   "outputs": [],
   "source": [
    "%run \"Discovery Experiments\"/n_times.py --data_dir='.' --output_dir='outputs' --display --n=500\n",
    "%run \"Discovery Experiments\"/n_times.py --data_dir='.' --output_dir='outputs' --display --n=1000\n",
    "%run \"Discovery Experiments\"/n_times.py --data_dir='.' --output_dir='outputs' --display --n=3000\n",
    "%run \"Discovery Experiments\"/n_times.py --data_dir='.' --output_dir='outputs' --display --n=5000\n",
    "%run \"Discovery Experiments\"/n_times.py --data_dir='.' --output_dir='outputs' --display --n=7000\n",
    "%run \"Discovery Experiments\"/n_times.py --data_dir='.' --output_dir='outputs' --display --n=9000"
   ]
  },
  {
   "cell_type": "code",
   "execution_count": null,
   "metadata": {},
   "outputs": [],
   "source": [
    "%run \"Discovery Experiments\"/Replicate.py --data_dir='.' --dataset readmission --alpha 0.3 \\ \n",
    "    --output_dir='outputs' --structured --exp_types vanilla --display"
   ]
  },
  {
   "cell_type": "code",
   "execution_count": null,
   "metadata": {},
   "outputs": [],
   "source": [
    "%run \"Discovery Experiments\"/Replicate.py --data_dir='.' --dataset mortality_30day --alpha 0.3 \\ \n",
    "    --output_dir='outputs' --structured --exp_types vanilla --display"
   ]
  },
  {
   "cell_type": "code",
   "execution_count": null,
   "metadata": {},
   "outputs": [],
   "source": [
    "%run \"Discovery Experiments\"/Replicate.py --data_dir='.' --dataset diagnosis --alpha 0.3 \\ \n",
    "    --output_dir='outputs' --structured --exp_types vanilla --display"
   ]
  },
  {
   "cell_type": "code",
   "execution_count": null,
   "metadata": {},
   "outputs": [],
   "source": [
    "%run \"Discovery Experiments\"/Replicate.py --data_dir='.' --dataset mortality_1yr --alpha 0.3 \\ \n",
    "    --output_dir='outputs' --structured --exp_types vanilla --display"
   ]
  },
  {
   "cell_type": "code",
   "execution_count": null,
   "metadata": {},
   "outputs": [],
   "source": [
    "%run \"Discovery Experiments\"/run_models.py --dataset \"readmission\" --exp_types hierarchical \\\n",
    "    --data_dir='.' --output_dir='outputs' --display --structured"
   ]
  },
  {
   "cell_type": "code",
   "execution_count": null,
   "metadata": {},
   "outputs": [],
   "source": [
    "%run \"Discovery Experiments\"/run_models.py --dataset \"mortality_1yr\" --exp_types hierarchical \\\n",
    "    --data_dir='.' --output_dir='outputs' --display"
   ]
  },
  {
   "cell_type": "code",
   "execution_count": null,
   "metadata": {},
   "outputs": [],
   "source": [
    "%run \"Discovery Experiments\"/run_models.py --dataset \"hip_1yr\" --exp_types hierarchical \\\n",
    "    --data_dir='../../../SurgeryData/PatientVec/' --output_dir='outputs/' --display --bsize 16"
   ]
  },
  {
   "cell_type": "code",
   "execution_count": null,
   "metadata": {},
   "outputs": [
    {
     "name": "stdout",
     "output_type": "stream",
     "text": [
      "Better speed can be achieved with apex installed from https://www.github.com/nvidia/apex.\n"
     ]
    },
    {
     "name": "stderr",
     "output_type": "stream",
     "text": [
      "INFO - 2019-03-26 13:03:59,465 - Reading Structured data ...\n",
      "INFO - 2019-03-26 13:03:59,625 - Reading Notes ...\n",
      "INFO - 2019-03-26 13:04:00,604 - Stratifying ...\n"
     ]
    },
    {
     "name": "stdout",
     "output_type": "stream",
     "text": [
      "Pos Percentage [0.10104053]\n"
     ]
    },
    {
     "name": "stderr",
     "output_type": "stream",
     "text": [
      "INFO - 2019-03-26 13:04:01,123 - Maximum Sentence Length 169921.000000 , 90 percentile length 19951.000000 ... \n",
      "INFO - 2019-03-26 13:04:01,961 - Truncated all ...\n",
      "INFO - 2019-03-26 13:04:01,964 - Idxs removed []...\n",
      "INFO - 2019-03-26 13:04:02,090 - Maximum Sentence Length 55858.000000 , 90 percentile length 19968.000000 ... \n"
     ]
    },
    {
     "name": "stdout",
     "output_type": "stream",
     "text": [
      "Pos Percentage [0.10237203]\n"
     ]
    },
    {
     "name": "stderr",
     "output_type": "stream",
     "text": [
      "INFO - 2019-03-26 13:04:02,271 - Truncated all ...\n",
      "INFO - 2019-03-26 13:04:02,273 - Idxs removed []...\n",
      "INFO - 2019-03-26 13:04:02,288 - instantiating class <class 'PatientVec.models.Model.Model'> from params {'type': 'hierarchical_classifier_with_attention', 'embedder': {'type': 'token_embedder', 'vocab_size': 18542, 'embed_size': 200, 'embedding_file': '../../../SurgeryData/PatientVec/preprocess/KneeSurgery/1_yrs/embedding_matrix.npy'}, 'decoder': {'num_layers': 2, 'hidden_dims': [128, 1], 'activations': ['tanh', 'linear']}, 'predictor': {'type': 'binary'}, 'structured': {'use_structured': False}, 'word_encoder': {'type': 'lstm', 'hidden_size': 128}, 'word_attention': {'similarity': {'type': 'additive', 'hidden_size': 128}}, 'sentence_encoder': {'type': 'lstm', 'hidden_size': 128}, 'sentence_attention': {'similarity': {'type': 'additive', 'hidden_size': 128}}} and extras {}\n",
      "INFO - 2019-03-26 13:04:02,288 - type = hierarchical_classifier_with_attention\n",
      "INFO - 2019-03-26 13:04:02,289 - instantiating class <class 'PatientVec.models.modules.Embedder.Embedder'> from params {'type': 'token_embedder', 'vocab_size': 18542, 'embed_size': 200, 'embedding_file': '../../../SurgeryData/PatientVec/preprocess/KneeSurgery/1_yrs/embedding_matrix.npy'} and extras {}\n",
      "INFO - 2019-03-26 13:04:02,289 - embedder.type = token_embedder\n",
      "INFO - 2019-03-26 13:04:02,290 - instantiating class <class 'PatientVec.models.modules.Embedder.TokenEmbedder'> from params {'vocab_size': 18542, 'embed_size': 200, 'embedding_file': '../../../SurgeryData/PatientVec/preprocess/KneeSurgery/1_yrs/embedding_matrix.npy'} and extras {}\n",
      "INFO - 2019-03-26 13:04:02,334 - embedder.vocab_size = 18542\n",
      "INFO - 2019-03-26 13:04:02,335 - embedder.embed_size = 200\n",
      "INFO - 2019-03-26 13:04:02,335 - embedder.embedding_file = ../../../SurgeryData/PatientVec/preprocess/KneeSurgery/1_yrs/embedding_matrix.npy\n",
      "INFO - 2019-03-26 13:04:02,344 - instantiating class <class 'PatientVec.models.modules.Encoder.Encoder'> from params {'type': 'lstm', 'hidden_size': 128} and extras {'input_size': 200}\n",
      "INFO - 2019-03-26 13:04:02,345 - word_encoder.type = lstm\n",
      "INFO - 2019-03-26 13:04:02,345 - instantiating class <class 'PatientVec.models.modules.Encoder.wrap_pytorch_rnn.<locals>.BiRNNEncoder'> from params {'hidden_size': 128} and extras {'input_size': 200}\n",
      "INFO - 2019-03-26 13:04:02,346 - word_encoder.hidden_size = 128\n",
      "INFO - 2019-03-26 13:04:02,348 - instantiating class <class 'PatientVec.models.modules.SelfAttention.SelfAttention'> from params {'similarity': {'type': 'additive', 'hidden_size': 128, 'tensor_1_dim': 256}} and extras {}\n",
      "INFO - 2019-03-26 13:04:02,348 - instantiating class <class 'PatientVec.models.modules.UniSimilarity.UniSimilarity'> from params {'type': 'additive', 'hidden_size': 128, 'tensor_1_dim': 256} and extras {}\n",
      "INFO - 2019-03-26 13:04:02,349 - word_attention.similarity.type = additive\n",
      "INFO - 2019-03-26 13:04:02,349 - instantiating class <class 'PatientVec.models.modules.UniSimilarity.UniAdditiveSimilarity'> from params {'hidden_size': 128, 'tensor_1_dim': 256} and extras {}\n",
      "INFO - 2019-03-26 13:04:02,351 - word_attention.similarity.tensor_1_dim = 256\n",
      "INFO - 2019-03-26 13:04:02,352 - word_attention.similarity.hidden_size = 128\n",
      "INFO - 2019-03-26 13:04:02,352 - word_attention.similarity.output_size = 1\n",
      "INFO - 2019-03-26 13:04:02,353 - word_attention.normaliser = softmax\n",
      "INFO - 2019-03-26 13:04:02,353 - instantiating class <class 'PatientVec.models.modules.Encoder.Encoder'> from params {'type': 'lstm', 'hidden_size': 128} and extras {'input_size': 256}\n",
      "INFO - 2019-03-26 13:04:02,354 - sentence_encoder.type = lstm\n",
      "INFO - 2019-03-26 13:04:02,354 - instantiating class <class 'PatientVec.models.modules.Encoder.wrap_pytorch_rnn.<locals>.BiRNNEncoder'> from params {'hidden_size': 128} and extras {'input_size': 256}\n",
      "INFO - 2019-03-26 13:04:02,355 - sentence_encoder.hidden_size = 128\n",
      "INFO - 2019-03-26 13:04:02,357 - instantiating class <class 'PatientVec.models.modules.SelfAttention.SelfAttention'> from params {'similarity': {'type': 'additive', 'hidden_size': 128, 'tensor_1_dim': 256}} and extras {}\n",
      "INFO - 2019-03-26 13:04:02,358 - instantiating class <class 'PatientVec.models.modules.UniSimilarity.UniSimilarity'> from params {'type': 'additive', 'hidden_size': 128, 'tensor_1_dim': 256} and extras {}\n",
      "INFO - 2019-03-26 13:04:02,358 - sentence_attention.similarity.type = additive\n",
      "INFO - 2019-03-26 13:04:02,358 - instantiating class <class 'PatientVec.models.modules.UniSimilarity.UniAdditiveSimilarity'> from params {'hidden_size': 128, 'tensor_1_dim': 256} and extras {}\n",
      "INFO - 2019-03-26 13:04:02,359 - sentence_attention.similarity.tensor_1_dim = 256\n",
      "INFO - 2019-03-26 13:04:02,359 - sentence_attention.similarity.hidden_size = 128\n",
      "INFO - 2019-03-26 13:04:02,360 - sentence_attention.similarity.output_size = 1\n",
      "INFO - 2019-03-26 13:04:02,360 - sentence_attention.normaliser = softmax\n",
      "INFO - 2019-03-26 13:04:02,361 - decoder.input_dim = 256\n",
      "INFO - 2019-03-26 13:04:02,361 - decoder.num_layers = 2\n",
      "INFO - 2019-03-26 13:04:02,361 - decoder.hidden_dims = [128, 1]\n",
      "INFO - 2019-03-26 13:04:02,362 - decoder.activations = ['tanh', 'linear']\n",
      "INFO - 2019-03-26 13:04:02,362 - decoder.dropout = 0.0\n",
      "INFO - 2019-03-26 13:04:02,363 - instantiating class <class 'PatientVec.models.modules.Predictor.Predictor'> from params {'type': 'binary'} and extras {}\n",
      "INFO - 2019-03-26 13:04:02,363 - predictor.type = binary\n",
      "INFO - 2019-03-26 13:04:02,364 - instantiating class <class 'PatientVec.models.modules.Predictor.Binary_Predictor'> from params {} and extras {}\n",
      "INFO - 2019-03-26 13:04:02,364 - predictor.replicate = False\n",
      "INFO - 2019-03-26 13:04:02,364 - predictor.alpha = 0.5\n"
     ]
    },
    {
     "name": "stdout",
     "output_type": "stream",
     "text": [
      "{'model': {'type': 'hierarchical_classifier_with_attention', 'embedder': {'type': 'token_embedder', 'vocab_size': 18542, 'embed_size': 200, 'embedding_file': '../../../SurgeryData/PatientVec/preprocess/KneeSurgery/1_yrs/embedding_matrix.npy'}, 'decoder': {'num_layers': 2, 'hidden_dims': [128, 1], 'activations': ['tanh', 'linear']}, 'predictor': {'type': 'binary'}, 'structured': {'use_structured': False}, 'word_encoder': {'type': 'lstm', 'hidden_size': 128}, 'word_attention': {'similarity': {'type': 'additive', 'hidden_size': 128}}, 'sentence_encoder': {'type': 'lstm', 'hidden_size': 128}, 'sentence_attention': {'similarity': {'type': 'additive', 'hidden_size': 128}}}, 'training_config': {'type': 'Adam', 'groups': [('.*', {'lr': 0.001, 'weight_decay': 1e-05})], 'common': {'bsize': 12, 'class_weight': True}}, 'exp_config': {'exp_name': 'KneeSurgery_1/Hierarchical Attention/LSTM(hs=128)+Attention(additive)(hs=128)+LSTM(hs=128)+Attention(additive)(hs=128)', 'basepath': 'outputs/'}}\n",
      "Setting Embedding\n"
     ]
    },
    {
     "data": {
      "application/vnd.jupyter.widget-view+json": {
       "model_id": "8d97bdd0fbdc485eb9455a9b5a00e527",
       "version_major": 2,
       "version_minor": 0
      },
      "text/plain": [
       "HBox(children=(IntProgress(value=0, max=10), HTML(value='')))"
      ]
     },
     "metadata": {},
     "output_type": "display_data"
    },
    {
     "data": {
      "application/vnd.jupyter.widget-view+json": {
       "model_id": "d587265718a44aad808314c325dc6ecc",
       "version_major": 2,
       "version_minor": 0
      },
      "text/plain": [
       "HBox(children=(IntProgress(value=0, max=305), HTML(value='')))"
      ]
     },
     "metadata": {},
     "output_type": "display_data"
    },
    {
     "data": {
      "application/vnd.jupyter.widget-view+json": {
       "model_id": "91cac8c3d4ec4dafa61fa7ee871d53ec",
       "version_major": 2,
       "version_minor": 0
      },
      "text/plain": [
       "HBox(children=(IntProgress(value=0, max=67), HTML(value='')))"
      ]
     },
     "metadata": {},
     "output_type": "display_data"
    },
    {
     "name": "stdout",
     "output_type": "stream",
     "text": [
      "{'accuracy': 0.8714107365792759, 'roc_auc': 0.7483802028562705, 'pr_auc': 0.23858451046447807}\n"
     ]
    },
    {
     "data": {
      "text/html": [
       "<div>\n",
       "<style scoped>\n",
       "    .dataframe tbody tr th:only-of-type {\n",
       "        vertical-align: middle;\n",
       "    }\n",
       "\n",
       "    .dataframe tbody tr th {\n",
       "        vertical-align: top;\n",
       "    }\n",
       "\n",
       "    .dataframe thead th {\n",
       "        text-align: right;\n",
       "    }\n",
       "</style>\n",
       "<table border=\"1\" class=\"dataframe\">\n",
       "  <thead>\n",
       "    <tr style=\"text-align: right;\">\n",
       "      <th></th>\n",
       "      <th>0.0</th>\n",
       "      <th>1.0</th>\n",
       "      <th>micro avg</th>\n",
       "      <th>macro avg</th>\n",
       "      <th>weighted avg</th>\n",
       "    </tr>\n",
       "  </thead>\n",
       "  <tbody>\n",
       "    <tr>\n",
       "      <th>f1-score</th>\n",
       "      <td>0.930</td>\n",
       "      <td>0.270</td>\n",
       "      <td>0.871</td>\n",
       "      <td>0.600</td>\n",
       "      <td>0.862</td>\n",
       "    </tr>\n",
       "    <tr>\n",
       "      <th>precision</th>\n",
       "      <td>0.915</td>\n",
       "      <td>0.322</td>\n",
       "      <td>0.871</td>\n",
       "      <td>0.619</td>\n",
       "      <td>0.854</td>\n",
       "    </tr>\n",
       "    <tr>\n",
       "      <th>recall</th>\n",
       "      <td>0.944</td>\n",
       "      <td>0.232</td>\n",
       "      <td>0.871</td>\n",
       "      <td>0.588</td>\n",
       "      <td>0.871</td>\n",
       "    </tr>\n",
       "    <tr>\n",
       "      <th>support</th>\n",
       "      <td>719.000</td>\n",
       "      <td>82.000</td>\n",
       "      <td>801.000</td>\n",
       "      <td>801.000</td>\n",
       "      <td>801.000</td>\n",
       "    </tr>\n",
       "  </tbody>\n",
       "</table>\n",
       "</div>"
      ],
      "text/plain": [
       "               0.0     1.0  micro avg  macro avg  weighted avg\n",
       "f1-score     0.930   0.270      0.871      0.600         0.862\n",
       "precision    0.915   0.322      0.871      0.619         0.854\n",
       "recall       0.944   0.232      0.871      0.588         0.871\n",
       "support    719.000  82.000    801.000    801.000       801.000"
      ]
     },
     "metadata": {},
     "output_type": "display_data"
    },
    {
     "name": "stdout",
     "output_type": "stream",
     "text": [
      "Model Saved on  roc_auc 0.7483802028562705\n"
     ]
    },
    {
     "data": {
      "application/vnd.jupyter.widget-view+json": {
       "model_id": "d854cdea8dfa476c9c1beb47e64ad1c4",
       "version_major": 2,
       "version_minor": 0
      },
      "text/plain": [
       "HBox(children=(IntProgress(value=0, max=305), HTML(value='')))"
      ]
     },
     "metadata": {},
     "output_type": "display_data"
    }
   ],
   "source": [
    "%run \"Discovery Experiments\"/run_models.py --dataset \"knee_1yr\" --exp_types hierarchical \\\n",
    "    --data_dir='../../../SurgeryData/PatientVec/' --output_dir='outputs/' --display --bsize 12"
   ]
  },
  {
   "cell_type": "code",
   "execution_count": null,
   "metadata": {},
   "outputs": [],
   "source": []
  }
 ],
 "metadata": {
  "kernelspec": {
   "display_name": "Python 3",
   "language": "python",
   "name": "python3"
  },
  "language_info": {
   "codemirror_mode": {
    "name": "ipython",
    "version": 3
   },
   "file_extension": ".py",
   "mimetype": "text/x-python",
   "name": "python",
   "nbconvert_exporter": "python",
   "pygments_lexer": "ipython3",
   "version": "3.6.7"
  }
 },
 "nbformat": 4,
 "nbformat_minor": 2
}
