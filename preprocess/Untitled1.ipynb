{
 "cells": [
  {
   "cell_type": "code",
   "execution_count": null,
   "metadata": {},
   "outputs": [],
   "source": [
    "import re\n",
    "import spacy\n",
    "\n",
    "nlp = spacy.load('en')\n",
    "nlp.max_length = 4000000"
   ]
  },
  {
   "cell_type": "code",
   "execution_count": null,
   "metadata": {},
   "outputs": [],
   "source": [
    "import pandas as pd\n",
    "i = 0\n",
    "for chunk in pd.read_csv('../../bigdata/MIMIC/NOTEEVENTS.csv', chunksize=50000) :\n",
    "    i += 1"
   ]
  },
  {
   "cell_type": "code",
   "execution_count": 1,
   "metadata": {},
   "outputs": [],
   "source": [
    "%load_ext autoreload\n",
    "%autoreload 2"
   ]
  },
  {
   "cell_type": "code",
   "execution_count": 2,
   "metadata": {},
   "outputs": [
    {
     "name": "stderr",
     "output_type": "stream",
     "text": [
      "/home/jainsarthak/anaconda3/lib/python3.7/site-packages/IPython/core/interactiveshell.py:3020: DtypeWarning: Columns (4,5) have mixed types. Specify dtype option on import or set low_memory=False.\n",
      "  interactivity=interactivity, compiler=compiler, result=result)\n"
     ]
    }
   ],
   "source": [
    "import pandas as pd\n",
    "df = pd.read_csv('../../bigdata/MIMIC/NOTEEVENTS.csv')\n",
    "\n",
    "texts = list(df['TEXT'])\n",
    "from tqdm import tqdm"
   ]
  },
  {
   "cell_type": "code",
   "execution_count": null,
   "metadata": {},
   "outputs": [],
   "source": [
    "len(df) // 40"
   ]
  },
  {
   "cell_type": "code",
   "execution_count": 10,
   "metadata": {},
   "outputs": [],
   "source": [
    "from cleaners import cleaner_whatinnote"
   ]
  },
  {
   "cell_type": "code",
   "execution_count": 15,
   "metadata": {},
   "outputs": [
    {
     "data": {
      "text/plain": [
       "'admission date : [**2160-8-4**] discharge date : [**2160-8-12**] date of birth : [**2099-6-29**] <ExpSBD> sex : m service : <ExpSBD> medicine allergies : <ExpSBD> morphine <ExpSBD> attending : [**first_name3_(lf)_3853**] chief complaint : \" diabetic ketoacidosis and cp . \" <ExpSBD> major surgical or invasive procedure : cardiac catheterization [**2160-8-7**] with stent placement in lad history of present illness : <ExpSBD> mr. [**known_lastname**] is a 61 - year - old insulin - dependent diabetic type <ExpSBD> i , with history of coronary artery disease , transferred from [**hospital1**] [**location_(un)_620**] by life flight for dka associated with chest pain . <ExpSBD> the patient describes a week of intermittent chest pain , associated with progressive lethargy and poor po intake . <ExpSBD> the patient \\' s wife called the patient on the phone today , and the patient was belligerent and altered . <ExpSBD> the patient checked his blood sugar and it was 500 . <ExpSBD> the patient was seen at [**hospital1**] [**location_(un)_620**] , and found to have a hr 40 , bp 70 s / 30 s . <ExpSBD> ekg showed peaked t waves . <ExpSBD> the patient was found to have a potassium of 8.0 . <ExpSBD> he was given 2 g of calcium gluconate , 10 units of iv insulin , 50 of bicarbonate , and an aspirin . <ExpSBD> the patient \\' s ekg changes normalized and the patient became hemodynamically more stable . <ExpSBD> he was life - flighted to [**hospital1_18**] for further management . <ExpSBD> in the [**hospital1_18**] ed , initial vitals were : 94 127 / 54 12 100 % 15 l non - rebreather . <ExpSBD> he denied chest pain , fevers , abdominal pain upon transfer . <ExpSBD> patient \\' s glucose remained 500 . <ExpSBD> he was given 20 units i.v . <ExpSBD> insulin , and the rate of his insulin drip was increased to 10 / hr . <ExpSBD> he was given 5 l_ivf . <ExpSBD> the patient \\' s potasium improved to 5 . <ExpSBD> however , his glucose remained critically high . <ExpSBD> the patient was seen by cardiology , who recommended a stat echo . . <ExpSBD> in the micu , initial vitals are : 99.3 80 98 / 53 11 100 % 2 lnc . <ExpSBD> the patient states that he continues to be fatigued . <ExpSBD> he endorses thirst and polyuria . <ExpSBD> he states that he has also had diarrhea for the past 2 days . <ExpSBD> over the past day , he has had a non - productive cough . <ExpSBD> he denies chest pain , fevers , dyspnea , abdominal pain . <ExpSBD> past medical history : 1 ) type <ExpSBD> 1 diabetes a. cardiac_risk_factors : : diabetes , dyslipidemia , hypertension <ExpSBD> b. <ExpSBD> cardiac_history : <ExpSBD> - percutaneous coronary <ExpSBD> interventions : pci to rca at [**hospital1_336**] in [**2152**] <ExpSBD> 2 ) cad s / p mi and [**last_name_(un)_2435**] in [**2152**] <ExpSBD> 3 ) sleep apnea 4 ) <ExpSBD> hiatal hernia s / p surgical repair , 5 <ExpSBD> ) depression 6 ) gerd <ExpSBD> 7 ) <ExpSBD> retinopathy 8 ) gastropathy 9 ) nephropathy ( baseline 1.6 ) 10 ) <ExpSBD> pvd s / <ExpSBD> p status bilateral infrapopliteal revascularization 11 ) <ExpSBD> critical pt lesion successfully treated with athrectomy and pta . <ExpSBD> 12 ) cognitive / memory issues since mi [**61**] ) obesity social history : - tobacco history : not a current smoker , quit smoking : in the [**2118**] <ExpSBD> - etoh <ExpSBD> : does not drink alcohol - illicit drugs : <ExpSBD> none - retired courier , married with one son . <ExpSBD> family history : father : previous mis physical exam : on admission : <ExpSBD> vs : 99.3 <ExpSBD> 80 98 / 53 11 100 % <ExpSBD> 2 lnc <ExpSBD> gen : alert , oriented x 3 <ExpSBD> ( knows president was on [**location_(un)_7453**] this weekend ) , slurred speech heent : perrl , eomi , mm dry , cervical lymphadenopathy r > l , no thyromegaly <ExpSBD> card : normal s 1 , s 2 , no murmurs , rubs or gallops resp : clear to auscultation bilaterally <ExpSBD> abd : obese , mildly distended , soft , non - tender ; + bs ext : dry , 1 + dp pulses skin : dry , spider angioma on face neuro : cn_ii - xii grossly intact ; alert , interactive . <ExpSBD> on discharge : <ExpSBD> * * * * * * * * vs : 98.3 <ExpSBD> 56 126 / 70 18 95 % ra <ExpSBD> gen : pleasant patient lying flat in bed in not acute distress heent : perrl , eomi , mmm , op without erythema or exudate , upper dentures appreicated . <ExpSBD> no thyromegaly <ExpSBD> card : rrr . <ExpSBD> normal s 1 , s 2 , no murmurs , rubs or gallops resp : crackles at the basese bilaterally . <ExpSBD> no wheezes . <ExpSBD> abd : <ExpSBD> overweight . mildly distended , <ExpSBD> soft , non - tender ; + bs ext : 1 + dp pulses . <ExpSBD> 1 + pitting edema bilaterally to the knee skin : dry , pealing skin of the le bilerally . <ExpSBD> neuro : cn_ii - xii grossly intact ; alert , interactive and answering questions appropriately . <ExpSBD> 5 / 5 strength through all muscle groups of the le bilaterally . <ExpSBD> pertinent results : <ExpSBD> on admission : . <ExpSBD> [**2160-8-4**] <ExpSBD> 03 : 30 pm_blood wbc - 11.1 * <ExpSBD> rbc - 3.28 * hgb - 10.6 * hct - 31.4 * mcv - 96 # mch - 32.2 * mchc - 33.6 rdw - 12.9 plt ct - 248 [**2160-8-4**] <ExpSBD> 03 : 30 pm_blood <ExpSBD> neuts - 92.6 <ExpSBD> * lymphs - 3.9 * monos - 3.0 eos - 0.2 baso - 0.3 [**2160-8-4**] 03 : 30 pm_blood_pt - 12.9 <ExpSBD> ptt - 25.7 inr ( pt ) - 1.1 <ExpSBD> [**2160-8-4**] 03 : 30 pm_blood_urean - 68 <ExpSBD> * creat - 2.6 * [**2160-8-4**] 08 : 49 pm_blood glucose - 807 * <ExpSBD> urean - 71 * creat - 2.9 <ExpSBD> * na - 139 k - 5.0 cl - 103 hco 3 - 23 angap - 18 [**2160-8-4**] 03 : 30 pm_blood ctropnt - 0.04 <ExpSBD> * [**2160-8-4**] 08 : 49 pm_blood_calcium - 8.8 <ExpSBD> phos - 2.1 * <ExpSBD> # mg - 2.8 <ExpSBD> * [**2160-8-4**] 03 : 38 pm_blood <ExpSBD> glucose - greater_th_lactate - 2.4 * na - 135 k - 5.3 <ExpSBD> cl - 100 calhco 3 - 15 * . <ExpSBD> ce_trend : <ExpSBD> [**2160-8-4**] 03 : 30 pm_blood ctropnt - 0.04 * [**2160-8-4**] 08 : 49 pm_blood_ck - mb - 9 ctropnt - 0.25 * [**2160-8-5**] 0.35 [**2160-8-5**] <ExpSBD> 21 : 16 0.42 [**2160-8-5**] 13 : 00 0.56 <ExpSBD> [**2160-8-5**] 06 : 27 0.61 [**2160-8-5**] 02 : 25 0.51 . <ExpSBD> on discharge : [**2160-8-12**] 06 : 20 am_blood_wbc - 9.5 <ExpSBD> rbc - 3.43 * hgb - 10.8 * hct - 31.1 * mcv - 91 <ExpSBD> mch - 31.5 mchc - 34.7 rdw - 13.2 plt ct - 359 <ExpSBD> [**2160-8-12**] 06 : 20 am_blood_glucose - 93 <ExpSBD> urean - 50 <ExpSBD> * creat - 2.1 * na - 137 k - 4.8 cl - 102 hco 3 - 28 angap - 12 [**2160-8-12**] 06 : 20 am_blood_calcium - 8.8 <ExpSBD> phos - 4.9 * mg - 2.3 . <ExpSBD> imaging : [**8-4**] <ExpSBD> tte : <ExpSBD> the left atrium is mildly dilated . <ExpSBD> there is mild symmetric left ventricular hypertrophy with normal cavity size . <ExpSBD> there is mild regional left ventricular systolic dysfunction with hypokinesis of the basal inferior wall . <ExpSBD> the remaining segments contract normally and global systolic function is preserved ( lvef = 60 % ) . <ExpSBD> right ventricular chamber size and free wall motion are normal . <ExpSBD> the aortic valve leaflets ( 3 ) appear structurally normal with good leaflet excursion and no aortic stenosis or aortic regurgitation . <ExpSBD> the mitral valve appears structurally normal with trivial mitral regurgitation . <ExpSBD> there is no mitral valve prolapse . <ExpSBD> the estimated pulmonary artery systolic pressure is normal . <ExpSBD> there is no pericardial effusion . <ExpSBD> impression : <ExpSBD> mild symmetric left ventricular hypertrophy with mild regional systolic dysfunction c / w cad . . [**8-5**] <ExpSBD> cxr : impression : ap chest compared to [**8-4**] : <ExpSBD> moderate pulmonary edema has developed in both lower lungs . <ExpSBD> moderate cardiomegaly is stable , but mediastinal and hilar vascular engorgement have worsened . <ExpSBD> pleural effusions are small if any . <ExpSBD> no pneumothorax . . <ExpSBD> [**2160-8-7**] cardiac_cath : <ExpSBD> severe 2 vessel cad with occluded rca proximally and 80 % mid lad hazy lesion . <ExpSBD> successful ptca and stenting of the mid lad with a 2.5 x 15 mm promus des , postdilated to 2.75 mm with excellent results . <ExpSBD> successful closure of the rcfa with a 6 f angioseal . <ExpSBD> dual anti - platelet treatment with plavix ( 600 mg po one - time , then 150 mg daily x 1 week , then 75 mg daily for a minimum of 1 year ) and asa 325 mg daily x 3 months , then 162 mg daily . <ExpSBD> global cv risk reduction strategies . . <ExpSBD> micro : <ExpSBD> urine cultures : no_growth_final blood cultures : [**8-4**] and [**8-5**] : <ExpSBD> no_growth_final [**8-8**] : <ExpSBD> pending <ExpSBD> brief hospital course : <ExpSBD> mr. [**known_lastname**] is a 61 - year - old insulin - dependent diabetic type <ExpSBD> i , with history of coronary artery disease , transferred from [**hospital1**] [**location_(un)_620**] for dka associated with chest pain . <ExpSBD> in summary , his dka and hyperkalemia were treated successfully in the micu . <ExpSBD> upon callout to the floor , he was found to have chest pain and unstable angina with possible nstemi . <ExpSBD> he was placed on a heparin gtt and then received cardiac cath , during which he received a drug - eluting stent in his mid - lad . <ExpSBD> his condition improved throughout the rest of admission . . <ExpSBD> active_issues : . <ExpSBD> # dka - patient transferred from osh with elevated glucose to 500 despite 20 units of iv insulin and 10 u / hr iv drip . <ExpSBD> anion gap on admission 17 . <ExpSBD> patient was bolused with insulin in the icu . <ExpSBD> his insulin drip was titrated up and his blood sugar values decreased . <ExpSBD> he was given ns boluses with potassium repletion and converted to 1 / 2 ns for rising sodium level . <ExpSBD> while in icu , anion gap closed , glucose remained between 150 - 200 and patient was weaned off drip to s.c. dosing . <ExpSBD> fingersticks checked q 1 hr ; electrolytes q 2 hrs and potassium repleted accordingly . <ExpSBD> etiology of dka likely due to insulin non - adherence in the setting of poor po intake , exacerbated by recent gastroenteritis . <ExpSBD> cxr with possible new lll opacity , u / <ExpSBD> a negative . <ExpSBD> ekg and echo similar to prior , though patient felt to have unstable angina per cardiology team ( see below ) . <ExpSBD> once the patient was stablized , he was seen by the [**last_name_(un)**] , who recommended a more stringent insulin regimen given his level of insulin resistance . <ExpSBD> [**last_name_(un)**] followed the patient through his hospital course . <ExpSBD> he is being discharged on a [**last_name_(un)**] 70 units after breakfast and sliding scale insulin with humalog at meals and before bedtime . <ExpSBD> * insulin regimen should be adjusted , possibly splitting up [**last_name_(un)**] dose , as does spike to glucoses in the 200 - 300 range in the afternoons . . <ExpSBD> # nstemi / <ExpSBD> cad - per report , patient had short episode of chest pain on admission associated with peaked t waves , and lateral lead st depressions . <ExpSBD> patient was given aspirin 325 mg po . <ExpSBD> cardiac enzymes cycled , and showed rise in trop to peak of 0.61 , with flat ck_mb . <ExpSBD> cardiology was [**name_(ni)_653**] , who initially felt ekg changes and troponin elevation likely due to demand ischemia in the setting of dka . <ExpSBD> echo with normal systolic function and old area of hypokinesis was consistent with past inferior mi . <ExpSBD> following transfer from icu to floor , patient had two further episodes of substernal cp , relieved with sl nitro x 1 . <ExpSBD> ecg unchanged , and <ExpSBD> cardiac enzymes continued to trend down . <ExpSBD> cardiology felt presentation concerning for unstable angina , and recommended initiation of heparin gtt and cardiac cath for further evaluation . <ExpSBD> he was continued on aspirin , plavix , statin , and beta blocker . <ExpSBD> lasix and lisinopril initially held in setting of volume depletion and hyperkalemia . <ExpSBD> patient went for cath on [**2160-8-7**] , which showed severe 2 vessel cad with occluded rca proximally and 80 % mid lad hazy lesion . <ExpSBD> a_des was placed in the mid - lad and patient was transferred to cardiology post - cath . <ExpSBD> loaded with plavix ( 600 mg po one - time , then 150 mg daily x 1 week , then 75 mg daily for a minimum of 1 year ) and asa 325 mg daily x 3 months , then 162 mg daily . <ExpSBD> he had no further cp throughout the remainder of admission . <ExpSBD> he was restarted on acei , and the patient will need to have follow - up labs within 1 week of discharge to monitor potassium and serum creatinine . . <ExpSBD> # hyperkalemia - patient admitted to osh with k + of 8.0 with peaked t waves . <ExpSBD> he was given 50 of bicarbonate and k + improved to 5 . <ExpSBD> peaked t waves resolved . <ExpSBD> k + repleted to keep between 3.3 and 5 while correcting dka . <ExpSBD> potassium remained stable for the remainder of admission . . <ExpSBD> # cognitive deficits : <ExpSBD> he has had episodes of dka in the past , and this episode appears to have been precipitated in part by lack of taking his lantus . <ExpSBD> his recent neuropsychology testing suggests that he may benefit from rehab or another structured living situation and will require help monitoring his glucose and administering medications . <ExpSBD> please refer to neuropsychology report from [**2160-7-31**] for further details . <ExpSBD> patient has follow - up with neuropsychology on [**2160-9-4**] . <ExpSBD> . <ExpSBD> # hypernatremia : <ExpSBD> in setting of free water loss from dka . <ExpSBD> he was given d 5 1 / 2 ns with insulin drip which was changed to d 5 w and encouraged free water intake . <ExpSBD> am of micu d <ExpSBD> / c to floor <ExpSBD> he had a 3.5 l free water defecit which was being actively corrected with <ExpSBD> d 5 w. this hypernatremia resolved on the floor . <ExpSBD> on day of discharge , the patient \\' s sodium was 137 . . <ExpSBD> # acute on chronic kidney injury - baseline creatinine from recent records 1.5 . <ExpSBD> elevated to 2.9 on admission . <ExpSBD> [**last_name_(un)**] likely prerenal secondary to fluid depletion , and was slowly trending down with fluid administration . <ExpSBD> patient received pre - cath hydration . <ExpSBD> patient \\' s serum creatinine 2.1 on day of discharge , stable . <ExpSBD> he was restarted on acei , and the patient will need to have follow - up labs within 1 week of discharge to monitor potassium and serum creatinine . . <ExpSBD> # gastroparesis - chronic as side effect of dm . <ExpSBD> continued on metoclopramide , pantoprazole . . <ExpSBD> # depression - chronic . <ExpSBD> continued bupropion , citalopram . <ExpSBD> held gabapentin on admission out of concern for mental status , though this was later restarted . <ExpSBD> . <ExpSBD> transitional issues : . <ExpSBD> - adhering to his insulin schedule and a diabetic diet should be readdressed with patient and he should be encouraged to have close follow up . <ExpSBD> insulin regimen may need adjustment to achieve better day time euglycemia . <ExpSBD> - bcx [**8-8**] pending . <ExpSBD> the following changes were made to the patient \\' s medications : new : <ExpSBD> - lisinopril : <ExpSBD> , then 162 mg daily - atorvastatin 80 mg by mouth daily - clotrimazole cream 1 application topically twice per day : apply to right and left inguinal folds for 3 weeks . . <ExpSBD> changed : <ExpSBD> - increased : plavix ( 150 mg daily x 1 week ( last day at this dose [**2160-8-14**] ) , then 75 mg daily for a minimum of 1 year ) . <ExpSBD> stopped : - simvastatin 40 mg medications on admission : bupropion_hcl [ budeprion_xl ] - 150 mg tablet extended release 24 hr - 3 tablet ( s ) by mouth once a day citalopram - 40 <ExpSBD> mg tablet - 1 tablet ( s ) by mouth <ExpSBD> once a day clindamycin_phosphate - 1 % <ExpSBD> swab - apply affected areas pimples twice a day <ExpSBD> clopidogrel - 75 mg tablet - 1 tablet ( s ) by mouth once a day furosemide - 20 mg tablet - 1 tablet ( s ) by mouth every other day ( to be titrated up and down by doc ) <ExpSBD> gabapentin - ( not taking as prescribed : taking 2 capsules bedtime ) - 400 mg capsule - 3 capsule ( s ) by mouth at bedtime hydrocortisone - 2.5 % cream - apply affected area twice a day 2 weeks on , 2 weeks off <ExpSBD> insulin_aspart [ novolog ] - 100 unit / ml_solution - inject as per outlined sliding scale per meal as needed for prn insulin [**year_(4_digits)**] [ lantus ] - 100 unit / ml_solution - 70 units once a day ketoconazole - ( not taking as prescribed ) - 2 % shampoo - wash scalp and face daily lisinopril - ( <ExpSBD> on hold from [**2160-3-5**] to unknown for hypotension ) - 2.5 mg tablet - 1 tablet ( s ) by mouth once a day <ExpSBD> metoclopramide - 10 mg tablet <ExpSBD> - 1 tablet ( s ) by mouth <ExpSBD> three times <ExpSBD> a day prn <ExpSBD> metoprolol_succinate - 50 mg tablet extended release 24 <ExpSBD> hr - 1 tablet ( s ) by mouth q.d . <ExpSBD> nitroglycerin - 0.3 mg tablet , sublingual - 1 tablet ( s ) sublingually prn ( as needed ) nystatin - ( not taking as prescribed ) - 100 , 000 <ExpSBD> unit / gram powder - apply to groin once daily pantoprazole - 40 mg tablet , delayed release ( e.c. ) - 1 tablet ( s ) by mouth once a day simvastatin - 40 mg tablet - one - half tablet ( s ) by mouth daily ( to lower cholesterol ) <ExpSBD> aspirin - ( not taking as prescribed ) - 325 mg <ExpSBD> tablet - 1 tablet ( s ) by mouth daily cholecalciferol ( vitamin_d 3 ) - <ExpSBD> ( not taking as prescribed ) - 1 , 000 unit capsule - 2 capsule ( s ) by mouth once daily discharge medications : <ExpSBD> bupropion hcl 150 mg tablet extended release 24 <ExpSBD> hr sig : <ExpSBD> three ( 3 ) tablet extended release 24 hr po once a day . <ExpSBD> citalopram 20 mg tablet sig : <ExpSBD> two ( 2 ) tablet po_daily ( daily ) . <ExpSBD> gabapentin 400 mg capsule sig : <ExpSBD> two ( 2 ) capsule po_hs ( at bedtime ) . <ExpSBD> gabapentin <ExpSBD> 400 mg capsule sig : one ( 1 ) capsule po_once daily at 4 pm . <ExpSBD> lisinopril <ExpSBD> 5 mg tablet sig : 0.5 tablet po_daily ( daily ) . <ExpSBD> metoclopramide 10 mg tablet sig : <ExpSBD> one ( 1 ) tablet po_tid ( 3 times a day ) as needed for nausea . <ExpSBD> metoprolol succinate <ExpSBD> 50 mg tablet extended release 24 hr sig : one ( 1 ) tablet extended release 24 <ExpSBD> hr po once a day : hold for sbp < 100 mm hg , hr < 60 . <ExpSBD> nitroglycerin 0.3 mg tablet , sublingual sig : one ( 1 ) tablet , sublingual sublingual prn ( as needed ) as needed for chest pain . <ExpSBD> pantoprazole 40 mg tablet , delayed release ( e.c. ) <ExpSBD> sig : <ExpSBD> one ( 1 ) tablet , delayed release ( e.c. ) po_q 24 h ( every 24 hours ) . <ExpSBD> atorvastatin <ExpSBD> 80 mg tablet sig : one ( 1 ) tablet po_daily ( daily ) . <ExpSBD> clotrimazole <ExpSBD> 1 % cream sig : <ExpSBD> one ( 1 ) appl topical [**hospital1**] ( 2 times a day ) : apply to right and left inguinal folds . . <ExpSBD> aspirin 325 mg tablet sig : <ExpSBD> one <ExpSBD> ( 1 ) tablet po_daily ( daily ) : <ExpSBD> take 325 mg per day for 3 months , then 162 mg per day . <ExpSBD> clopidogrel <ExpSBD> 75 mg tablet sig : two ( 2 ) tablet po_daily ( daily ) for 2 days : <ExpSBD> ( last day is [**2160-8-14**] ) . <ExpSBD> humalog 100 unit / ml_solution sig : <ExpSBD> sliding scale per sliding scale subcutaneous 4 x a day with meals : <ExpSBD> morning / noon / evening bg <ExpSBD> units 71 - 80 mg / dl 0 <ExpSBD> units 81 - 120 mg <ExpSBD> / dl 12 units / 10 units / 10 units <ExpSBD> 121 - 160 mg / dl 14 units / 12 units / 12 units <ExpSBD> 161 - 200 mg / dl 16 units / 14 units / <ExpSBD> 14 units <ExpSBD> 201 - 240 mg / dl 18 units / 16 units / 16 units 241 - 280 mg <ExpSBD> / dl 20 units / 18 units / 18 units 281 - 320 mg <ExpSBD> / dl 22 units / 20 units / 20 units 321 - 360 mg / dl 24 units / 22 units / 22 unit / 361 - 400 mg / dl <ExpSBD> 26 units / 24 units / 24 units <ExpSBD> > 400 [**name8_(md)**] md night_time bg <ExpSBD> units 0 - 70 mg <ExpSBD> / dl <ExpSBD> 0 units <ExpSBD> 71 - 80 mg / dl <ExpSBD> 0 units <ExpSBD> 81 - 120 mg / dl <ExpSBD> 0 units <ExpSBD> 121 - 160 mg / dl <ExpSBD> 0 units 161 - 200 mg / dl <ExpSBD> 0 units <ExpSBD> 201 - 240 mg / dl <ExpSBD> 2 units <ExpSBD> 241 - 280 mg / dl <ExpSBD> 4 units <ExpSBD> 281 - 320 mg / dl <ExpSBD> 6 units <ExpSBD> 321 - 360 mg - dl 8 units 361 - 400 mg / dl <ExpSBD> 10 units <ExpSBD> > 400 mg / dl [**name8_(md)_138**] md . <ExpSBD> outpatient lab work <ExpSBD> please check full serum chemistry panel ( na , k , hco 3 , bun , cr ) in 7 days from discharge , [**2160-8-19**] 16 . <ExpSBD> clopidogrel <ExpSBD> 75 mg tablet sig : one ( 1 ) tablet po once a day : once a day for 12 months : <ExpSBD> take 1 tablet daily after [**2160-8-14**] for at least 1 year . . <ExpSBD> insulin [**month/day/year**] 100 unit / ml_solution sig : seventy ( 70 ) <ExpSBD> units subcutaneous qam . <ExpSBD> furosemide 20 mg tablet sig : one ( 1 ) tablet po every other day <ExpSBD> : hold for sbp < 100 mmhg . <ExpSBD> discharge disposition : <ExpSBD> extended care facility : <ExpSBD> [**location_(un)_1036**] - [**location_(un)_620**] discharge diagnosis : primary diagnosis : diabetic ketoacidosis unstable angina secondary diagnoses : chronic kidney disease gastroparesis depression discharge condition : mental status : clear and coherent . <ExpSBD> level of consciousness : alert and interactive . <ExpSBD> activity status : ambulatory - requires assistance or aid ( walker or cane ) . <ExpSBD> discharge instructions : <ExpSBD> dear mr. [**known_lastname**] , it was a privilege to provide care for you here at the [**hospital_61**] hospital . <ExpSBD> you were transferred here from [**location_(un)_620**] for treatment of your diabetic ketoacidosis ( very high blood sugar ) . <ExpSBD> you were treated with insulin and fluids in the intensive care unit , and after your condition stabilized you were transferred to the regular medical floor . <ExpSBD> you had several episodes of chest pain , and you were given a cardiac catheterization . <ExpSBD> a stent was placed in one of your coronary arteries . <ExpSBD> your condition has stabilized and improved and you can be discharged to your extended care facility . <ExpSBD> the following changes were made to your medications : new : <ExpSBD> - lisinopril : <ExpSBD> , then 162 mg daily after 3 months - atorvastatin 80 mg by mouth daily - clotrimazole cream 1 application topically twice per day : <ExpSBD> apply to right and left inguinal folds for 3 weeks . . <ExpSBD> changed : <ExpSBD> - increased : plavix 150 mg daily until thursday [**2160-8-14**] , then 75 mg daily for a minimum of 1 year . <ExpSBD> stopped : - simvastatin 40 mg . <ExpSBD> please keep your follow - up appointments as scheduled below . . <ExpSBD> weigh yourself every morning , [**name8_(md)_138**] md if weight goes up more than 3 lbs . <ExpSBD> followup instructions : <ExpSBD> you have the following doctor appointments : . <ExpSBD> department : neurospychology <ExpSBD> when : thursday [**2160-9-4**] at 12 : 00 pm . <ExpSBD> department : <ExpSBD> dermatology <ExpSBD> when : tuesday <ExpSBD> [**2161-7-7**] at 1 pm <ExpSBD> with : [**first_name8_(namepattern2)**] [**last_name_(namepattern1)_3833**] , md [**telephone/fax_(1)_3965**] building : [**street_address(2)_7454**] ( [**location_(un)_620**] , ma ) ground <ExpSBD> campus : <ExpSBD> off campus <ExpSBD> best parking : parking on site . <ExpSBD> please arrange with your rehabilitation facility follow up with your primary care doctor , dr. [**first_name8_(namepattern2)**] [**last_name_(namepattern1)_3649**] , at [**telephone/fax_(1)_3070**] .'"
      ]
     },
     "execution_count": 15,
     "metadata": {},
     "output_type": "execute_result"
    }
   ],
   "source": [
    "cleaner_whatinnote(texts[1000])"
   ]
  },
  {
   "cell_type": "code",
   "execution_count": null,
   "metadata": {},
   "outputs": [],
   "source": [
    "for i in tqdm(range(len(texts))) :\n",
    "    texts[i] = cleaner_whatinnote(texts[i])"
   ]
  },
  {
   "cell_type": "code",
   "execution_count": null,
   "metadata": {},
   "outputs": [],
   "source": []
  }
 ],
 "metadata": {
  "kernelspec": {
   "display_name": "Python 3",
   "language": "python",
   "name": "python3"
  },
  "language_info": {
   "codemirror_mode": {
    "name": "ipython",
    "version": 3
   },
   "file_extension": ".py",
   "mimetype": "text/x-python",
   "name": "python",
   "nbconvert_exporter": "python",
   "pygments_lexer": "ipython3",
   "version": "3.7.2"
  }
 },
 "nbformat": 4,
 "nbformat_minor": 2
}
