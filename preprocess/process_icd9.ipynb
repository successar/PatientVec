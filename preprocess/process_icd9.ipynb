{
 "cells": [
  {
   "cell_type": "code",
   "execution_count": 2,
   "metadata": {},
   "outputs": [],
   "source": [
    "import pandas as pd\n",
    "import numpy as np"
   ]
  },
  {
   "cell_type": "code",
   "execution_count": 2,
   "metadata": {},
   "outputs": [],
   "source": [
    "patient_csv = pd.read_csv('common data/demographics.csv')"
   ]
  },
  {
   "cell_type": "code",
   "execution_count": 4,
   "metadata": {},
   "outputs": [],
   "source": [
    "icd9_df = pd.read_csv('common data/all_icd_codes.csv')\n",
    "icd9_df['icd9_codes'] = icd9_df['icd9_codes'].map(str)"
   ]
  },
  {
   "cell_type": "code",
   "execution_count": 5,
   "metadata": {},
   "outputs": [],
   "source": [
    "merged_icd9_df = icd9_df.merge(patient_csv, how='inner', left_on=['subject_id', 'hadm_id'], right_on=['subject_id', 'hadm_id'])"
   ]
  },
  {
   "cell_type": "code",
   "execution_count": 6,
   "metadata": {},
   "outputs": [],
   "source": [
    "code_descriptions = pd.read_csv('../../bigdata/MIMIC/D_ICD_DIAGNOSES.csv')\n",
    "def get_code_description(code) :\n",
    "    coded =  list(code_descriptions[code_descriptions['ICD9_CODE'] == code]['LONG_TITLE'])\n",
    "    if len(coded) == 0 :\n",
    "        return 'ERROR ERROR'\n",
    "    else :\n",
    "        return coded[0]"
   ]
  },
  {
   "cell_type": "code",
   "execution_count": 7,
   "metadata": {},
   "outputs": [],
   "source": [
    "def match_any(code_list, patterns) :\n",
    "    return any([any([x.startswith(p) for p in patterns]) for x in code_list])"
   ]
  },
  {
   "cell_type": "markdown",
   "metadata": {},
   "source": [
    "## Add Hypertension"
   ]
  },
  {
   "cell_type": "code",
   "execution_count": 8,
   "metadata": {},
   "outputs": [],
   "source": [
    "merged_icd9_df['hypertension'] = merged_icd9_df['icd9_codes'].apply(lambda s : int(match_any(s.split(';'), ['401', '402', '403', '404', '405'])))"
   ]
  },
  {
   "cell_type": "code",
   "execution_count": 9,
   "metadata": {},
   "outputs": [],
   "source": [
    "notes_df = pd.read_csv('common data/all_discharge_summaries_cleaned.csv.xz', compression='infer')"
   ]
  },
  {
   "cell_type": "code",
   "execution_count": 10,
   "metadata": {},
   "outputs": [],
   "source": [
    "notes_df = notes_df.sort_values(by='description', ascending=False).reset_index(drop=True)"
   ]
  },
  {
   "cell_type": "code",
   "execution_count": 11,
   "metadata": {},
   "outputs": [],
   "source": [
    "notes_df = notes_df.groupby(['subject_id', 'hadm_id'], as_index=False).agg({'text' : lambda s : \" \".join(s)})"
   ]
  },
  {
   "cell_type": "code",
   "execution_count": 12,
   "metadata": {},
   "outputs": [],
   "source": [
    "notes_merged_icd9 = merged_icd9_df.merge(notes_df, how='inner', left_on=['subject_id', 'hadm_id'], right_on=['subject_id', 'hadm_id'])"
   ]
  },
  {
   "cell_type": "code",
   "execution_count": 13,
   "metadata": {},
   "outputs": [],
   "source": [
    "notes_merged_icd9.to_csv('Hypertension/data_with_notes.csv.xz', compression='xz')"
   ]
  },
  {
   "cell_type": "code",
   "execution_count": 14,
   "metadata": {},
   "outputs": [],
   "source": [
    "notes_merged_icd9.drop(columns=['text']).to_csv('Hypertension/data_nonotes.csv')"
   ]
  },
  {
   "cell_type": "code",
   "execution_count": 3,
   "metadata": {},
   "outputs": [],
   "source": [
    "code_descriptions = pd.read_csv('../../bigdata/MIMIC/D_ICD_DIAGNOSES.csv')\n",
    "def get_code_description(code) :\n",
    "    coded =  list(code_descriptions[code_descriptions['ICD9_CODE'] == code]['LONG_TITLE'])\n",
    "    if len(coded) == 0 :\n",
    "        return 'ERROR ERROR'\n",
    "    else :\n",
    "        return coded[0]"
   ]
  },
  {
   "cell_type": "code",
   "execution_count": 54,
   "metadata": {},
   "outputs": [],
   "source": [
    "descs = list(code_descriptions['LONG_TITLE'])"
   ]
  },
  {
   "cell_type": "code",
   "execution_count": 55,
   "metadata": {},
   "outputs": [],
   "source": [
    "from cleaners import cleaner_mimic"
   ]
  },
  {
   "cell_type": "code",
   "execution_count": 56,
   "metadata": {},
   "outputs": [],
   "source": [
    "import re\n",
    "def cleaner(text) :\n",
    "    text = re.sub(r'([()\\[\\]])', r' \\1 ', text)\n",
    "    return cleaner_mimic(text)"
   ]
  },
  {
   "cell_type": "code",
   "execution_count": 57,
   "metadata": {},
   "outputs": [],
   "source": [
    "descs = [cleaner(x).split(' ') for x in descs]"
   ]
  },
  {
   "cell_type": "code",
   "execution_count": 58,
   "metadata": {},
   "outputs": [],
   "source": [
    "words = set([x for y in descs for x in y])"
   ]
  },
  {
   "cell_type": "code",
   "execution_count": 59,
   "metadata": {},
   "outputs": [],
   "source": [
    "from gensim.models import KeyedVectors\n",
    "model = KeyedVectors.load_word2vec_format('/media/jainsarthak/data/projects/bigdata/wikipedia-pubmed-and-PMC-w2v.bin', binary=True)"
   ]
  },
  {
   "cell_type": "code",
   "execution_count": 60,
   "metadata": {},
   "outputs": [],
   "source": [
    "in_pre = 0\n",
    "non = []\n",
    "for w in list(words) :\n",
    "    if w in model :\n",
    "        in_pre += 1\n",
    "    else :\n",
    "        non.append(w)"
   ]
  },
  {
   "cell_type": "code",
   "execution_count": null,
   "metadata": {},
   "outputs": [],
   "source": [
    "list(code_descriptions['ICD9_CODE'])"
   ]
  },
  {
   "cell_type": "code",
   "execution_count": null,
   "metadata": {},
   "outputs": [],
   "source": []
  }
 ],
 "metadata": {
  "kernelspec": {
   "display_name": "Python 3",
   "language": "python",
   "name": "python3"
  },
  "language_info": {
   "codemirror_mode": {
    "name": "ipython",
    "version": 3
   },
   "file_extension": ".py",
   "mimetype": "text/x-python",
   "name": "python",
   "nbconvert_exporter": "python",
   "pygments_lexer": "ipython3",
   "version": "3.7.2"
  }
 },
 "nbformat": 4,
 "nbformat_minor": 2
}
