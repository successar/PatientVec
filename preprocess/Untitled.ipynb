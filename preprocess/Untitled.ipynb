{
 "cells": [
  {
   "cell_type": "code",
   "execution_count": 1,
   "metadata": {},
   "outputs": [],
   "source": [
    "import pandas as pd"
   ]
  },
  {
   "cell_type": "code",
   "execution_count": 2,
   "metadata": {},
   "outputs": [
    {
     "name": "stderr",
     "output_type": "stream",
     "text": [
      "/home/jainsarthak/anaconda3/lib/python3.7/site-packages/IPython/core/interactiveshell.py:3020: DtypeWarning: Columns (4,5) have mixed types. Specify dtype option on import or set low_memory=False.\n",
      "  interactivity=interactivity, compiler=compiler, result=result)\n"
     ]
    }
   ],
   "source": [
    "df = pd.read_csv('../../bigdata/MIMIC/NOTEEVENTS.csv')"
   ]
  },
  {
   "cell_type": "code",
   "execution_count": 20,
   "metadata": {},
   "outputs": [],
   "source": [
    "import re"
   ]
  },
  {
   "cell_type": "code",
   "execution_count": 21,
   "metadata": {},
   "outputs": [],
   "source": [
    "p = re.compile(r'(\\[\\*\\*[^*]*\\*\\*\\])')"
   ]
  },
  {
   "cell_type": "code",
   "execution_count": 22,
   "metadata": {},
   "outputs": [],
   "source": [
    "texts = list(df['TEXT'])"
   ]
  },
  {
   "cell_type": "code",
   "execution_count": 23,
   "metadata": {},
   "outputs": [],
   "source": [
    "from tqdm import tqdm_notebook"
   ]
  },
  {
   "cell_type": "code",
   "execution_count": 24,
   "metadata": {},
   "outputs": [],
   "source": [
    "wardname = (re.compile(r'wardname', re.IGNORECASE), 'Ward')\n",
    "\n",
    "doctor =  (re.compile(r'doctor', re.IGNORECASE), 'Doctor')\n",
    "firstname = (re.compile(r'firstname|(First Name)', re.IGNORECASE), \"First\")\n",
    "lastname = (re.compile(r'lastname|(Last Name)', re.IGNORECASE), \"Last\")\n",
    "patient = (re.compile(r'patient', re.IGNORECASE), \"Patient\")\n",
    "stitle = (re.compile(r'\\(\\s*STitle\\s*\\)', re.IGNORECASE), \"STitle\")\n",
    "ptitle = (re.compile(r'\\(\\s*PTitle\\s*\\)', re.IGNORECASE), \"PTitle\")\n",
    "prefixes = (re.compile(r'\\(\\s*Prefixes\\s*\\)', re.IGNORECASE), \"Prefixes\")\n",
    "md = (re.compile(r'\\(\\s*MD\\s*\\)', re.IGNORECASE), \"MD\")\n",
    "pre = (re.compile(r'\\(\\s*PRE\\s*\\)', re.IGNORECASE), \"PRE\")\n",
    "\n",
    "name_patterns = [wardname, doctor, patient, firstname, lastname, stitle, ptitle, prefixes, md, pre]\n",
    "def process_name(name) :\n",
    "    s = ''\n",
    "    for reg, sub in name_patterns :\n",
    "        if reg.search(name) is not None :\n",
    "            s += 'MIMIC_' + sub + '_MIMIC '\n",
    "        \n",
    "    s += 'MIMIC_Name_MIMIC'\n",
    "    return s"
   ]
  },
  {
   "cell_type": "code",
   "execution_count": 25,
   "metadata": {},
   "outputs": [],
   "source": [
    "name = (re.compile(r'name', re.IGNORECASE), 'Name')\n",
    "date = (re.compile(r'\\[\\*\\*(\\d+-\\d+-\\d+)|(.*month.*)|(.*year.*)|(.*day.*)|(.*date.*)\\*\\*\\]', re.IGNORECASE), 'Date')\n",
    "clip = (re.compile(r'clip', re.IGNORECASE), 'Clip_Number')\n",
    "jobnum = (re.compile(r'job', re.IGNORECASE), 'Job_Number')\n",
    "telephone = (re.compile(r'telephone|fax', re.IGNORECASE), 'Telephone')\n",
    "location = (re.compile(r'location', re.IGNORECASE), 'Location')\n",
    "hospital = (re.compile(r'hospital', re.IGNORECASE), 'Hospital')\n",
    "numid = (re.compile(r'numeric', re.IGNORECASE), 'NumID')\n",
    "pager = (re.compile(r'pager', re.IGNORECASE), 'Pager')\n",
    "mdnumber = (re.compile(r'md number', re.IGNORECASE), 'MDNumber')\n",
    "medrec = (re.compile(r'medical record number', re.IGNORECASE), 'MedRecNum')\n",
    "email = (re.compile(r'e-mail', re.IGNORECASE), 'E-Mail')\n",
    "sernum = (re.compile(r'serial number', re.IGNORECASE), 'SerialNum')\n",
    "country = (re.compile(r'country', re.IGNORECASE), 'Country')\n",
    "state = (re.compile(r'state', re.IGNORECASE), 'State')\n",
    "street = (re.compile(r'street|apartment', re.IGNORECASE), 'Addr')\n",
    "ssn = (re.compile(r'social security', re.IGNORECASE), 'SSN')\n",
    "univ = (re.compile(r'university', re.IGNORECASE), 'Univ')\n",
    "company = (re.compile(r'company', re.IGNORECASE), 'Company')\n",
    "url = (re.compile(r'url', re.IGNORECASE), 'URL')\n",
    "ageover = (re.compile(r'age over', re.IGNORECASE), 'AgeOver90')\n",
    "ccontact = (re.compile(r'cc contact', re.IGNORECASE), 'CCContact')\n",
    "dictinfo = (re.compile(r'dictator', re.IGNORECASE), 'Dictator')\n",
    "unitnum = (re.compile(r'unit number', re.IGNORECASE), 'Unit')\n",
    "provider = (re.compile(r'provider', re.IGNORECASE), 'Provider')\n",
    "datebad = (re.compile(r'(January|February|March|April|May|June|July|August|September|October|November|December)', \n",
    "                      re.IGNORECASE), 'Date')\n",
    "\n",
    "measurement = (re.compile(r'(\\d+-\\d+)|(-?\\d+-?/\\d+)|(\\d+-)', re.IGNORECASE), 'Measurement')\n",
    "pobox = (re.compile(r'po box', re.IGNORECASE), 'POBox')\n",
    "attending = (re.compile(r'attending', re.IGNORECASE), 'Attending')\n",
    "num = (re.compile(r'\\[\\*\\*\\s*(\\d+)\\s*\\*\\*\\]', re.IGNORECASE), 'Numeric')\n",
    "ethnicity = (re.compile(r'ethnicity', re.IGNORECASE), 'Ethnicity')\n",
    "empty = (re.compile(r'\\[\\*\\*\\s*\\*\\*\\]', re.IGNORECASE), 'Empty')\n",
    "\n",
    "regexs = [date, clip, \n",
    "          jobnum, telephone, location, hospital, \n",
    "          numid, pager, mdnumber, medrec, \n",
    "          email, sernum, country, street, ssn, state,\n",
    "          univ, company, url, ageover, ccontact, dictinfo, \n",
    "          datebad, unitnum, provider, pobox, attending, ethnicity, measurement, num, empty]"
   ]
  },
  {
   "cell_type": "code",
   "execution_count": 26,
   "metadata": {},
   "outputs": [],
   "source": [
    "def process_deid(deid) :\n",
    "    if name[0].search(deid) is not None :\n",
    "        deid = process_name(deid)\n",
    "    else :\n",
    "        for reg, sub in regexs :\n",
    "            if reg.search(deid) is not None :\n",
    "                deid = sub\n",
    "                break\n",
    "        \n",
    "        deid = 'MIMIC_' + deid + '_MIMIC'\n",
    "    return deid"
   ]
  },
  {
   "cell_type": "code",
   "execution_count": 27,
   "metadata": {},
   "outputs": [
    {
     "data": {
      "application/vnd.jupyter.widget-view+json": {
       "model_id": "799a0c82b00b48f7b3dac080ff214211",
       "version_major": 2,
       "version_minor": 0
      },
      "text/plain": [
       "HBox(children=(IntProgress(value=0, max=2083180), HTML(value='')))"
      ]
     },
     "metadata": {},
     "output_type": "display_data"
    },
    {
     "name": "stdout",
     "output_type": "stream",
     "text": [
      "\n"
     ]
    }
   ],
   "source": [
    "deid = []\n",
    "for t in tqdm_notebook(texts) :\n",
    "    deid.append(p.sub(lambda m : process_deid(m.group(0)), t))"
   ]
  },
  {
   "cell_type": "code",
   "execution_count": 28,
   "metadata": {},
   "outputs": [
    {
     "data": {
      "application/vnd.jupyter.widget-view+json": {
       "model_id": "9f38370661774df6969e801b8ee767a3",
       "version_major": 2,
       "version_minor": 0
      },
      "text/plain": [
       "HBox(children=(IntProgress(value=0, max=2083180), HTML(value='')))"
      ]
     },
     "metadata": {},
     "output_type": "display_data"
    },
    {
     "name": "stdout",
     "output_type": "stream",
     "text": [
      "\n"
     ]
    }
   ],
   "source": [
    "for i in tqdm_notebook(range(len(deid))) :\n",
    "    deid[i] = re.sub(r'\\n+', '\\n', deid[i])"
   ]
  },
  {
   "cell_type": "code",
   "execution_count": 29,
   "metadata": {},
   "outputs": [
    {
     "data": {
      "application/vnd.jupyter.widget-view+json": {
       "model_id": "85782b51e3d74d1990bc8348b52caed4",
       "version_major": 2,
       "version_minor": 0
      },
      "text/plain": [
       "HBox(children=(IntProgress(value=0, max=2083180), HTML(value='')))"
      ]
     },
     "metadata": {},
     "output_type": "display_data"
    },
    {
     "name": "stdout",
     "output_type": "stream",
     "text": [
      "\n"
     ]
    }
   ],
   "source": [
    "for i in tqdm_notebook(range(len(deid))) :\n",
    "    deid[i] = re.sub(r'[ \\t]+', ' ', deid[i])"
   ]
  },
  {
   "cell_type": "code",
   "execution_count": 30,
   "metadata": {},
   "outputs": [],
   "source": [
    "total_deid = []\n",
    "q = re.compile(r'(MIMIC_.*?_MIMIC)')\n",
    "for t in deid :\n",
    "    total_deid += q.findall(t)"
   ]
  },
  {
   "cell_type": "code",
   "execution_count": 41,
   "metadata": {},
   "outputs": [],
   "source": [
    "total_deid = pd.Series(pd.Series(total_deid).unique())"
   ]
  },
  {
   "cell_type": "code",
   "execution_count": 42,
   "metadata": {},
   "outputs": [],
   "source": [
    "pd.Series(total_deid.unique()).to_csv(\"Deidentifiers_map.csv\", index=False)"
   ]
  },
  {
   "cell_type": "code",
   "execution_count": 69,
   "metadata": {},
   "outputs": [
    {
     "data": {
      "application/vnd.jupyter.widget-view+json": {
       "model_id": "bee90f7017d74ac4bd434b681711d9e1",
       "version_major": 2,
       "version_minor": 0
      },
      "text/plain": [
       "HBox(children=(IntProgress(value=0, max=2083180), HTML(value='')))"
      ]
     },
     "metadata": {},
     "output_type": "display_data"
    }
   ],
   "source": [
    "for i in tqdm_notebook(range(len(deid))) :\n",
    "    f = open('jaydata/Note_' + str(i) + '.txt', 'w')\n",
    "    f.write(deid[i])\n",
    "    f.close()"
   ]
  },
  {
   "cell_type": "code",
   "execution_count": 47,
   "metadata": {},
   "outputs": [
    {
     "data": {
      "application/vnd.jupyter.widget-view+json": {
       "model_id": "070e604719594804b76dd276ee7f5ae6",
       "version_major": 2,
       "version_minor": 0
      },
      "text/plain": [
       "HBox(children=(IntProgress(value=0, max=2083180), HTML(value='')))"
      ]
     },
     "metadata": {},
     "output_type": "display_data"
    }
   ],
   "source": [
    "import tarfile\n",
    "from io import BytesIO\n",
    "data = \"this is a UTF-8 string\"\n",
    "with tarfile.open(\"jaydata.tar.gz\", 'w:gz') as of:\n",
    "  # turn data into bytes, this might be the wrong way; decode might be more appropriate\n",
    "    for i in tqdm_notebook(range(len(deid))) :\n",
    "        writeable_data = deid[i].encode()\n",
    "        tarinfo = tarfile.TarInfo(name='jaydata/Note_' + str(i) + '.txt')\n",
    "        tarinfo.size = len(writeable_data)\n",
    "        of.addfile(tarinfo, BytesIO(writeable_data))"
   ]
  },
  {
   "cell_type": "code",
   "execution_count": null,
   "metadata": {},
   "outputs": [],
   "source": []
  }
 ],
 "metadata": {
  "kernelspec": {
   "display_name": "Python 3",
   "language": "python",
   "name": "python3"
  },
  "language_info": {
   "codemirror_mode": {
    "name": "ipython",
    "version": 3
   },
   "file_extension": ".py",
   "mimetype": "text/x-python",
   "name": "python",
   "nbconvert_exporter": "python",
   "pygments_lexer": "ipython3",
   "version": "3.7.2"
  }
 },
 "nbformat": 4,
 "nbformat_minor": 2
}
