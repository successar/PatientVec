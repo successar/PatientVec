{
 "cells": [
  {
   "cell_type": "code",
   "execution_count": 1,
   "metadata": {},
   "outputs": [],
   "source": [
    "import yaml"
   ]
  },
  {
   "cell_type": "code",
   "execution_count": 3,
   "metadata": {},
   "outputs": [],
   "source": [
    "map_icd = yaml.load(open('hcup_ccs_2015_definitions.yaml'))"
   ]
  },
  {
   "cell_type": "code",
   "execution_count": 51,
   "metadata": {},
   "outputs": [],
   "source": [
    "icd_to_hcup = {}\n",
    "hcup_to_id = {}\n",
    "idx = 0\n",
    "for k, v in map_icd.items() :\n",
    "    hcup_to_id[k] = idx\n",
    "    idx += 1\n",
    "    for c in v['codes'] :\n",
    "        icd_to_hcup[c] = hcup_to_id[k]"
   ]
  },
  {
   "cell_type": "code",
   "execution_count": 52,
   "metadata": {},
   "outputs": [
    {
     "data": {
      "text/plain": [
       "283"
      ]
     },
     "execution_count": 52,
     "metadata": {},
     "output_type": "execute_result"
    }
   ],
   "source": [
    "num_hcup = max(icd_to_hcup.values()) + 1\n",
    "num_hcup"
   ]
  },
  {
   "cell_type": "code",
   "execution_count": 93,
   "metadata": {},
   "outputs": [],
   "source": [
    "import pandas as pd\n",
    "df = pd.read_csv('all_icd_codes.csv')"
   ]
  },
  {
   "cell_type": "code",
   "execution_count": 94,
   "metadata": {},
   "outputs": [],
   "source": [
    "for k in headers :\n",
    "    df[k] = None"
   ]
  },
  {
   "cell_type": "code",
   "execution_count": 95,
   "metadata": {},
   "outputs": [],
   "source": [
    "def map_to_hcup(row) :\n",
    "    icd_list = row['icd9_codes']\n",
    "    hcup = [0]*num_hcup\n",
    "    if not pd.isna(icd_list) :\n",
    "        icd_list = icd_list.split(';')\n",
    "        for c in icd_list :\n",
    "            if c in icd_to_hcup :\n",
    "                hcup[icd_to_hcup[c]] = 1\n",
    "                \n",
    "    return pd.Series(hcup)"
   ]
  },
  {
   "cell_type": "code",
   "execution_count": 96,
   "metadata": {},
   "outputs": [],
   "source": [
    "headers = ['']*num_hcup\n",
    "for k, v in hcup_to_id.items() :\n",
    "    headers[v] = 'hcup_' + k"
   ]
  },
  {
   "cell_type": "code",
   "execution_count": 97,
   "metadata": {},
   "outputs": [],
   "source": [
    "df[headers] = df.apply(map_to_hcup, axis=1)"
   ]
  },
  {
   "cell_type": "code",
   "execution_count": 107,
   "metadata": {},
   "outputs": [],
   "source": [
    "df.drop(columns=['icd9_codes']).to_csv('all_icd_codes_hcup.csv', index=False)"
   ]
  },
  {
   "cell_type": "code",
   "execution_count": null,
   "metadata": {},
   "outputs": [],
   "source": []
  }
 ],
 "metadata": {
  "kernelspec": {
   "display_name": "Python 3",
   "language": "python",
   "name": "python3"
  },
  "language_info": {
   "codemirror_mode": {
    "name": "ipython",
    "version": 3
   },
   "file_extension": ".py",
   "mimetype": "text/x-python",
   "name": "python",
   "nbconvert_exporter": "python",
   "pygments_lexer": "ipython3",
   "version": "3.6.8"
  }
 },
 "nbformat": 4,
 "nbformat_minor": 2
}
