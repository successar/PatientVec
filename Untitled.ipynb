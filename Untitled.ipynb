{
 "cells": [
  {
   "cell_type": "code",
   "execution_count": 1,
   "metadata": {},
   "outputs": [
    {
     "name": "stdout",
     "output_type": "stream",
     "text": [
      "Better speed can be achieved with apex installed from https://www.github.com/nvidia/apex.\n"
     ]
    },
    {
     "name": "stderr",
     "output_type": "stream",
     "text": [
      "INFO - 2019-03-20 13:27:01,217 - Reading Structured data ...\n",
      "INFO - 2019-03-20 13:27:01,296 - Reading Notes ...\n",
      "INFO - 2019-03-20 13:27:18,773 - Stratifying ...\n"
     ]
    },
    {
     "name": "stdout",
     "output_type": "stream",
     "text": [
      "Pos Percentage [0.15129873]\n"
     ]
    },
    {
     "name": "stderr",
     "output_type": "stream",
     "text": [
      "INFO - 2019-03-20 13:27:25,637 - Maximum Sentence Length 721825.000000 , 90 percentile length 18596.000000 ... \n",
      "INFO - 2019-03-20 13:27:41,005 - Truncated all ...\n"
     ]
    },
    {
     "name": "stdout",
     "output_type": "stream",
     "text": [
      "Pos Percentage [0.14555348]\n"
     ]
    },
    {
     "name": "stderr",
     "output_type": "stream",
     "text": [
      "INFO - 2019-03-20 13:27:42,922 - Maximum Sentence Length 420764.000000 , 90 percentile length 17662.000000 ... \n",
      "INFO - 2019-03-20 13:27:45,598 - Truncated all ...\n",
      "INFO - 2019-03-20 13:27:45,689 - instantiating class <class 'PatientVec.models.Model.Model'> from params {'type': 'seq_classifier', 'embedder': {'type': 'token_embedder', 'vocab_size': 29286, 'embed_size': 200, 'embedding_file': './preprocess/Mortality/embedding_matrix.npy'}, 'decoder': {'num_layers': 2, 'hidden_dims': [128, 1], 'activations': ['tanh', 'linear']}, 'predictor': {'type': 'binary'}, 'structured': {'use_structured': True, 'structured_dim': 50}, 'encoder': {'type': 'average', 'projection': True, 'hidden_size': 256, 'activation': 'relu'}} and extras {}\n",
      "INFO - 2019-03-20 13:27:45,690 - type = seq_classifier\n",
      "INFO - 2019-03-20 13:27:45,691 - instantiating class <class 'PatientVec.models.modules.Embedder.Embedder'> from params {'type': 'token_embedder', 'vocab_size': 29286, 'embed_size': 200, 'embedding_file': './preprocess/Mortality/embedding_matrix.npy'} and extras {}\n",
      "INFO - 2019-03-20 13:27:45,692 - embedder.type = token_embedder\n",
      "INFO - 2019-03-20 13:27:45,693 - instantiating class <class 'PatientVec.models.modules.Embedder.TokenEmbedder'> from params {'vocab_size': 29286, 'embed_size': 200, 'embedding_file': './preprocess/Mortality/embedding_matrix.npy'} and extras {}\n",
      "INFO - 2019-03-20 13:27:45,777 - embedder.vocab_size = 29286\n",
      "INFO - 2019-03-20 13:27:45,777 - embedder.embed_size = 200\n",
      "INFO - 2019-03-20 13:27:45,778 - embedder.embedding_file = ./preprocess/Mortality/embedding_matrix.npy\n",
      "INFO - 2019-03-20 13:27:45,812 - instantiating class <class 'PatientVec.models.modules.Encoder.Encoder'> from params {'type': 'average', 'projection': True, 'hidden_size': 256, 'activation': 'relu'} and extras {'input_size': 200}\n",
      "INFO - 2019-03-20 13:27:45,813 - encoder.type = average\n",
      "INFO - 2019-03-20 13:27:45,813 - instantiating class <class 'PatientVec.models.modules.Encoder.AverageEncoder'> from params {'projection': True, 'hidden_size': 256, 'activation': 'relu'} and extras {'input_size': 200}\n",
      "INFO - 2019-03-20 13:27:45,815 - encoder.projection = True\n",
      "INFO - 2019-03-20 13:27:45,815 - encoder.hidden_size = 256\n",
      "INFO - 2019-03-20 13:27:45,816 - encoder.activation = relu\n",
      "INFO - 2019-03-20 13:27:45,818 - decoder.input_dim = 306\n",
      "INFO - 2019-03-20 13:27:45,818 - decoder.num_layers = 2\n",
      "INFO - 2019-03-20 13:27:45,819 - decoder.hidden_dims = [128, 1]\n",
      "INFO - 2019-03-20 13:27:45,819 - decoder.activations = ['tanh', 'linear']\n",
      "INFO - 2019-03-20 13:27:45,820 - decoder.dropout = 0.0\n",
      "INFO - 2019-03-20 13:27:45,822 - instantiating class <class 'PatientVec.models.modules.Predictor.Predictor'> from params {'type': 'binary'} and extras {}\n",
      "INFO - 2019-03-20 13:27:45,822 - predictor.type = binary\n",
      "INFO - 2019-03-20 13:27:45,823 - instantiating class <class 'PatientVec.models.modules.Predictor.Binary_Predictor'> from params {} and extras {}\n",
      "INFO - 2019-03-20 13:27:45,824 - predictor.replicate = False\n",
      "INFO - 2019-03-20 13:27:45,825 - predictor.alpha = 0.5\n"
     ]
    },
    {
     "name": "stdout",
     "output_type": "stream",
     "text": [
      "{'model': {'type': 'seq_classifier', 'embedder': {'type': 'token_embedder', 'vocab_size': 29286, 'embed_size': 200, 'embedding_file': './preprocess/Mortality/embedding_matrix.npy'}, 'decoder': {'num_layers': 2, 'hidden_dims': [128, 1], 'activations': ['tanh', 'linear']}, 'predictor': {'type': 'binary'}, 'structured': {'use_structured': True, 'structured_dim': 50}, 'encoder': {'type': 'average', 'projection': True, 'hidden_size': 256, 'activation': 'relu'}}, 'training_config': {'type': 'Adam', 'groups': [('.*', {'lr': 0.001, 'weight_decay': 1e-05})], 'common': {'bsize': 32, 'class_weight': True}}, 'exp_config': {'exp_name': 'Mortality_30day/Basic/Average(hs=256)+Structured', 'basepath': 'outputs/'}}\n",
      "Setting Embedding\n"
     ]
    },
    {
     "data": {
      "application/vnd.jupyter.widget-view+json": {
       "model_id": "6ab5aaa1bb414941a456c3f82f40f907",
       "version_major": 2,
       "version_minor": 0
      },
      "text/plain": [
       "HBox(children=(IntProgress(value=0, max=15), HTML(value='')))"
      ]
     },
     "metadata": {},
     "output_type": "display_data"
    },
    {
     "data": {
      "application/vnd.jupyter.widget-view+json": {
       "model_id": "cd655f626f7d4b2599aeeb2d74d09707",
       "version_major": 2,
       "version_minor": 0
      },
      "text/plain": [
       "HBox(children=(IntProgress(value=0, max=736), HTML(value='')))"
      ]
     },
     "metadata": {},
     "output_type": "display_data"
    },
    {
     "data": {
      "application/vnd.jupyter.widget-view+json": {
       "model_id": "4febb4c198904f23b543f1b35680c2e6",
       "version_major": 2,
       "version_minor": 0
      },
      "text/plain": [
       "HBox(children=(IntProgress(value=0, max=184), HTML(value='')))"
      ]
     },
     "metadata": {},
     "output_type": "display_data"
    },
    {
     "name": "stdout",
     "output_type": "stream",
     "text": [
      "{'accuracy': 0.407413705152185, 'roc_auc': 0.8797768168503277, 'pr_auc': 0.5930770946301632}\n"
     ]
    },
    {
     "data": {
      "text/html": [
       "<div>\n",
       "<style scoped>\n",
       "    .dataframe tbody tr th:only-of-type {\n",
       "        vertical-align: middle;\n",
       "    }\n",
       "\n",
       "    .dataframe tbody tr th {\n",
       "        vertical-align: top;\n",
       "    }\n",
       "\n",
       "    .dataframe thead th {\n",
       "        text-align: right;\n",
       "    }\n",
       "</style>\n",
       "<table border=\"1\" class=\"dataframe\">\n",
       "  <thead>\n",
       "    <tr style=\"text-align: right;\">\n",
       "      <th></th>\n",
       "      <th>0</th>\n",
       "      <th>1</th>\n",
       "      <th>micro avg</th>\n",
       "      <th>macro avg</th>\n",
       "      <th>weighted avg</th>\n",
       "    </tr>\n",
       "  </thead>\n",
       "  <tbody>\n",
       "    <tr>\n",
       "      <th>f1-score</th>\n",
       "      <td>0.471</td>\n",
       "      <td>0.326</td>\n",
       "      <td>0.407</td>\n",
       "      <td>0.399</td>\n",
       "      <td>0.450</td>\n",
       "    </tr>\n",
       "    <tr>\n",
       "      <th>precision</th>\n",
       "      <td>0.992</td>\n",
       "      <td>0.195</td>\n",
       "      <td>0.407</td>\n",
       "      <td>0.594</td>\n",
       "      <td>0.876</td>\n",
       "    </tr>\n",
       "    <tr>\n",
       "      <th>recall</th>\n",
       "      <td>0.309</td>\n",
       "      <td>0.985</td>\n",
       "      <td>0.407</td>\n",
       "      <td>0.647</td>\n",
       "      <td>0.407</td>\n",
       "    </tr>\n",
       "    <tr>\n",
       "      <th>support</th>\n",
       "      <td>5025.000</td>\n",
       "      <td>856.000</td>\n",
       "      <td>5881.000</td>\n",
       "      <td>5881.000</td>\n",
       "      <td>5881.000</td>\n",
       "    </tr>\n",
       "  </tbody>\n",
       "</table>\n",
       "</div>"
      ],
      "text/plain": [
       "                  0        1  micro avg  macro avg  weighted avg\n",
       "f1-score      0.471    0.326      0.407      0.399         0.450\n",
       "precision     0.992    0.195      0.407      0.594         0.876\n",
       "recall        0.309    0.985      0.407      0.647         0.407\n",
       "support    5025.000  856.000   5881.000   5881.000      5881.000"
      ]
     },
     "metadata": {},
     "output_type": "display_data"
    },
    {
     "name": "stdout",
     "output_type": "stream",
     "text": [
      "Model Saved on  roc_auc 0.8797768168503277\n"
     ]
    },
    {
     "data": {
      "application/vnd.jupyter.widget-view+json": {
       "model_id": "8692d8f78e064b5ea5494a5ff6bb8d89",
       "version_major": 2,
       "version_minor": 0
      },
      "text/plain": [
       "HBox(children=(IntProgress(value=0, max=736), HTML(value='')))"
      ]
     },
     "metadata": {},
     "output_type": "display_data"
    },
    {
     "data": {
      "application/vnd.jupyter.widget-view+json": {
       "model_id": "0c2706ac5a884e2290a8a02b372020a9",
       "version_major": 2,
       "version_minor": 0
      },
      "text/plain": [
       "HBox(children=(IntProgress(value=0, max=184), HTML(value='')))"
      ]
     },
     "metadata": {},
     "output_type": "display_data"
    },
    {
     "name": "stdout",
     "output_type": "stream",
     "text": [
      "{'accuracy': 0.6929093691549056, 'roc_auc': 0.8823172687962059, 'pr_auc': 0.6214384413896831}\n"
     ]
    },
    {
     "data": {
      "text/html": [
       "<div>\n",
       "<style scoped>\n",
       "    .dataframe tbody tr th:only-of-type {\n",
       "        vertical-align: middle;\n",
       "    }\n",
       "\n",
       "    .dataframe tbody tr th {\n",
       "        vertical-align: top;\n",
       "    }\n",
       "\n",
       "    .dataframe thead th {\n",
       "        text-align: right;\n",
       "    }\n",
       "</style>\n",
       "<table border=\"1\" class=\"dataframe\">\n",
       "  <thead>\n",
       "    <tr style=\"text-align: right;\">\n",
       "      <th></th>\n",
       "      <th>0</th>\n",
       "      <th>1</th>\n",
       "      <th>micro avg</th>\n",
       "      <th>macro avg</th>\n",
       "      <th>weighted avg</th>\n",
       "    </tr>\n",
       "  </thead>\n",
       "  <tbody>\n",
       "    <tr>\n",
       "      <th>f1-score</th>\n",
       "      <td>0.785</td>\n",
       "      <td>0.464</td>\n",
       "      <td>0.693</td>\n",
       "      <td>0.625</td>\n",
       "      <td>0.738</td>\n",
       "    </tr>\n",
       "    <tr>\n",
       "      <th>precision</th>\n",
       "      <td>0.978</td>\n",
       "      <td>0.311</td>\n",
       "      <td>0.693</td>\n",
       "      <td>0.645</td>\n",
       "      <td>0.881</td>\n",
       "    </tr>\n",
       "    <tr>\n",
       "      <th>recall</th>\n",
       "      <td>0.655</td>\n",
       "      <td>0.915</td>\n",
       "      <td>0.693</td>\n",
       "      <td>0.785</td>\n",
       "      <td>0.693</td>\n",
       "    </tr>\n",
       "    <tr>\n",
       "      <th>support</th>\n",
       "      <td>5025.000</td>\n",
       "      <td>856.000</td>\n",
       "      <td>5881.000</td>\n",
       "      <td>5881.000</td>\n",
       "      <td>5881.000</td>\n",
       "    </tr>\n",
       "  </tbody>\n",
       "</table>\n",
       "</div>"
      ],
      "text/plain": [
       "                  0        1  micro avg  macro avg  weighted avg\n",
       "f1-score      0.785    0.464      0.693      0.625         0.738\n",
       "precision     0.978    0.311      0.693      0.645         0.881\n",
       "recall        0.655    0.915      0.693      0.785         0.693\n",
       "support    5025.000  856.000   5881.000   5881.000      5881.000"
      ]
     },
     "metadata": {},
     "output_type": "display_data"
    },
    {
     "name": "stdout",
     "output_type": "stream",
     "text": [
      "Model Saved on  roc_auc 0.8823172687962059\n"
     ]
    },
    {
     "data": {
      "application/vnd.jupyter.widget-view+json": {
       "model_id": "0095e3a7394a480c9685b50cf53184ee",
       "version_major": 2,
       "version_minor": 0
      },
      "text/plain": [
       "HBox(children=(IntProgress(value=0, max=736), HTML(value='')))"
      ]
     },
     "metadata": {},
     "output_type": "display_data"
    },
    {
     "data": {
      "application/vnd.jupyter.widget-view+json": {
       "model_id": "83f1f2a5145c403585eea45bde8e34e2",
       "version_major": 2,
       "version_minor": 0
      },
      "text/plain": [
       "HBox(children=(IntProgress(value=0, max=184), HTML(value='')))"
      ]
     },
     "metadata": {},
     "output_type": "display_data"
    },
    {
     "name": "stdout",
     "output_type": "stream",
     "text": [
      "{'accuracy': 0.7488522360142833, 'roc_auc': 0.8892500116241224, 'pr_auc': 0.6477821029815394}\n"
     ]
    },
    {
     "data": {
      "text/html": [
       "<div>\n",
       "<style scoped>\n",
       "    .dataframe tbody tr th:only-of-type {\n",
       "        vertical-align: middle;\n",
       "    }\n",
       "\n",
       "    .dataframe tbody tr th {\n",
       "        vertical-align: top;\n",
       "    }\n",
       "\n",
       "    .dataframe thead th {\n",
       "        text-align: right;\n",
       "    }\n",
       "</style>\n",
       "<table border=\"1\" class=\"dataframe\">\n",
       "  <thead>\n",
       "    <tr style=\"text-align: right;\">\n",
       "      <th></th>\n",
       "      <th>0</th>\n",
       "      <th>1</th>\n",
       "      <th>micro avg</th>\n",
       "      <th>macro avg</th>\n",
       "      <th>weighted avg</th>\n",
       "    </tr>\n",
       "  </thead>\n",
       "  <tbody>\n",
       "    <tr>\n",
       "      <th>f1-score</th>\n",
       "      <td>0.832</td>\n",
       "      <td>0.504</td>\n",
       "      <td>0.749</td>\n",
       "      <td>0.668</td>\n",
       "      <td>0.784</td>\n",
       "    </tr>\n",
       "    <tr>\n",
       "      <th>precision</th>\n",
       "      <td>0.972</td>\n",
       "      <td>0.354</td>\n",
       "      <td>0.749</td>\n",
       "      <td>0.663</td>\n",
       "      <td>0.882</td>\n",
       "    </tr>\n",
       "    <tr>\n",
       "      <th>recall</th>\n",
       "      <td>0.727</td>\n",
       "      <td>0.876</td>\n",
       "      <td>0.749</td>\n",
       "      <td>0.802</td>\n",
       "      <td>0.749</td>\n",
       "    </tr>\n",
       "    <tr>\n",
       "      <th>support</th>\n",
       "      <td>5025.000</td>\n",
       "      <td>856.000</td>\n",
       "      <td>5881.000</td>\n",
       "      <td>5881.000</td>\n",
       "      <td>5881.000</td>\n",
       "    </tr>\n",
       "  </tbody>\n",
       "</table>\n",
       "</div>"
      ],
      "text/plain": [
       "                  0        1  micro avg  macro avg  weighted avg\n",
       "f1-score      0.832    0.504      0.749      0.668         0.784\n",
       "precision     0.972    0.354      0.749      0.663         0.882\n",
       "recall        0.727    0.876      0.749      0.802         0.749\n",
       "support    5025.000  856.000   5881.000   5881.000      5881.000"
      ]
     },
     "metadata": {},
     "output_type": "display_data"
    },
    {
     "name": "stdout",
     "output_type": "stream",
     "text": [
      "Model Saved on  roc_auc 0.8892500116241224\n"
     ]
    },
    {
     "data": {
      "application/vnd.jupyter.widget-view+json": {
       "model_id": "6c75d4c54fae4697beb35400b883bf95",
       "version_major": 2,
       "version_minor": 0
      },
      "text/plain": [
       "HBox(children=(IntProgress(value=0, max=736), HTML(value='')))"
      ]
     },
     "metadata": {},
     "output_type": "display_data"
    },
    {
     "data": {
      "application/vnd.jupyter.widget-view+json": {
       "model_id": "dfbc93555d4241599ae069275c9f55b7",
       "version_major": 2,
       "version_minor": 0
      },
      "text/plain": [
       "HBox(children=(IntProgress(value=0, max=184), HTML(value='')))"
      ]
     },
     "metadata": {},
     "output_type": "display_data"
    },
    {
     "name": "stdout",
     "output_type": "stream",
     "text": [
      "{'accuracy': 0.7182451963951709, 'roc_auc': 0.8907812572650765, 'pr_auc': 0.6483182022260281}\n"
     ]
    },
    {
     "data": {
      "text/html": [
       "<div>\n",
       "<style scoped>\n",
       "    .dataframe tbody tr th:only-of-type {\n",
       "        vertical-align: middle;\n",
       "    }\n",
       "\n",
       "    .dataframe tbody tr th {\n",
       "        vertical-align: top;\n",
       "    }\n",
       "\n",
       "    .dataframe thead th {\n",
       "        text-align: right;\n",
       "    }\n",
       "</style>\n",
       "<table border=\"1\" class=\"dataframe\">\n",
       "  <thead>\n",
       "    <tr style=\"text-align: right;\">\n",
       "      <th></th>\n",
       "      <th>0</th>\n",
       "      <th>1</th>\n",
       "      <th>micro avg</th>\n",
       "      <th>macro avg</th>\n",
       "      <th>weighted avg</th>\n",
       "    </tr>\n",
       "  </thead>\n",
       "  <tbody>\n",
       "    <tr>\n",
       "      <th>f1-score</th>\n",
       "      <td>0.806</td>\n",
       "      <td>0.485</td>\n",
       "      <td>0.718</td>\n",
       "      <td>0.646</td>\n",
       "      <td>0.759</td>\n",
       "    </tr>\n",
       "    <tr>\n",
       "      <th>precision</th>\n",
       "      <td>0.978</td>\n",
       "      <td>0.330</td>\n",
       "      <td>0.718</td>\n",
       "      <td>0.654</td>\n",
       "      <td>0.884</td>\n",
       "    </tr>\n",
       "    <tr>\n",
       "      <th>recall</th>\n",
       "      <td>0.685</td>\n",
       "      <td>0.911</td>\n",
       "      <td>0.718</td>\n",
       "      <td>0.798</td>\n",
       "      <td>0.718</td>\n",
       "    </tr>\n",
       "    <tr>\n",
       "      <th>support</th>\n",
       "      <td>5025.000</td>\n",
       "      <td>856.000</td>\n",
       "      <td>5881.000</td>\n",
       "      <td>5881.000</td>\n",
       "      <td>5881.000</td>\n",
       "    </tr>\n",
       "  </tbody>\n",
       "</table>\n",
       "</div>"
      ],
      "text/plain": [
       "                  0        1  micro avg  macro avg  weighted avg\n",
       "f1-score      0.806    0.485      0.718      0.646         0.759\n",
       "precision     0.978    0.330      0.718      0.654         0.884\n",
       "recall        0.685    0.911      0.718      0.798         0.718\n",
       "support    5025.000  856.000   5881.000   5881.000      5881.000"
      ]
     },
     "metadata": {},
     "output_type": "display_data"
    },
    {
     "name": "stdout",
     "output_type": "stream",
     "text": [
      "Model Saved on  roc_auc 0.8907812572650765\n"
     ]
    },
    {
     "data": {
      "application/vnd.jupyter.widget-view+json": {
       "model_id": "daec1a7a6481489eb4fd4fb423ddf253",
       "version_major": 2,
       "version_minor": 0
      },
      "text/plain": [
       "HBox(children=(IntProgress(value=0, max=736), HTML(value='')))"
      ]
     },
     "metadata": {},
     "output_type": "display_data"
    },
    {
     "data": {
      "application/vnd.jupyter.widget-view+json": {
       "model_id": "86638c2089464e35843fa5c41384cd3e",
       "version_major": 2,
       "version_minor": 0
      },
      "text/plain": [
       "HBox(children=(IntProgress(value=0, max=184), HTML(value='')))"
      ]
     },
     "metadata": {},
     "output_type": "display_data"
    },
    {
     "name": "stdout",
     "output_type": "stream",
     "text": [
      "{'accuracy': 0.8474749192314233, 'roc_auc': 0.8899995350351048, 'pr_auc': 0.6530645046465294}\n"
     ]
    },
    {
     "data": {
      "text/html": [
       "<div>\n",
       "<style scoped>\n",
       "    .dataframe tbody tr th:only-of-type {\n",
       "        vertical-align: middle;\n",
       "    }\n",
       "\n",
       "    .dataframe tbody tr th {\n",
       "        vertical-align: top;\n",
       "    }\n",
       "\n",
       "    .dataframe thead th {\n",
       "        text-align: right;\n",
       "    }\n",
       "</style>\n",
       "<table border=\"1\" class=\"dataframe\">\n",
       "  <thead>\n",
       "    <tr style=\"text-align: right;\">\n",
       "      <th></th>\n",
       "      <th>0</th>\n",
       "      <th>1</th>\n",
       "      <th>micro avg</th>\n",
       "      <th>macro avg</th>\n",
       "      <th>weighted avg</th>\n",
       "    </tr>\n",
       "  </thead>\n",
       "  <tbody>\n",
       "    <tr>\n",
       "      <th>f1-score</th>\n",
       "      <td>0.907</td>\n",
       "      <td>0.583</td>\n",
       "      <td>0.847</td>\n",
       "      <td>0.745</td>\n",
       "      <td>0.860</td>\n",
       "    </tr>\n",
       "    <tr>\n",
       "      <th>precision</th>\n",
       "      <td>0.950</td>\n",
       "      <td>0.484</td>\n",
       "      <td>0.847</td>\n",
       "      <td>0.717</td>\n",
       "      <td>0.882</td>\n",
       "    </tr>\n",
       "    <tr>\n",
       "      <th>recall</th>\n",
       "      <td>0.867</td>\n",
       "      <td>0.734</td>\n",
       "      <td>0.847</td>\n",
       "      <td>0.800</td>\n",
       "      <td>0.847</td>\n",
       "    </tr>\n",
       "    <tr>\n",
       "      <th>support</th>\n",
       "      <td>5025.000</td>\n",
       "      <td>856.000</td>\n",
       "      <td>5881.000</td>\n",
       "      <td>5881.000</td>\n",
       "      <td>5881.000</td>\n",
       "    </tr>\n",
       "  </tbody>\n",
       "</table>\n",
       "</div>"
      ],
      "text/plain": [
       "                  0        1  micro avg  macro avg  weighted avg\n",
       "f1-score      0.907    0.583      0.847      0.745         0.860\n",
       "precision     0.950    0.484      0.847      0.717         0.882\n",
       "recall        0.867    0.734      0.847      0.800         0.847\n",
       "support    5025.000  856.000   5881.000   5881.000      5881.000"
      ]
     },
     "metadata": {},
     "output_type": "display_data"
    },
    {
     "name": "stdout",
     "output_type": "stream",
     "text": [
      "Model not saved on  roc_auc 0.8899995350351048\n"
     ]
    },
    {
     "data": {
      "application/vnd.jupyter.widget-view+json": {
       "model_id": "46616338325a46b2a52b6d8221ee95b8",
       "version_major": 2,
       "version_minor": 0
      },
      "text/plain": [
       "HBox(children=(IntProgress(value=0, max=736), HTML(value='')))"
      ]
     },
     "metadata": {},
     "output_type": "display_data"
    },
    {
     "data": {
      "application/vnd.jupyter.widget-view+json": {
       "model_id": "bfb26ccdb9d14a29b9ec7dfd57f31df5",
       "version_major": 2,
       "version_minor": 0
      },
      "text/plain": [
       "HBox(children=(IntProgress(value=0, max=184), HTML(value='')))"
      ]
     },
     "metadata": {},
     "output_type": "display_data"
    },
    {
     "name": "stdout",
     "output_type": "stream",
     "text": [
      "{'accuracy': 0.8547866009182112, 'roc_auc': 0.8939737062351794, 'pr_auc': 0.6534858099016874}\n"
     ]
    },
    {
     "data": {
      "text/html": [
       "<div>\n",
       "<style scoped>\n",
       "    .dataframe tbody tr th:only-of-type {\n",
       "        vertical-align: middle;\n",
       "    }\n",
       "\n",
       "    .dataframe tbody tr th {\n",
       "        vertical-align: top;\n",
       "    }\n",
       "\n",
       "    .dataframe thead th {\n",
       "        text-align: right;\n",
       "    }\n",
       "</style>\n",
       "<table border=\"1\" class=\"dataframe\">\n",
       "  <thead>\n",
       "    <tr style=\"text-align: right;\">\n",
       "      <th></th>\n",
       "      <th>0</th>\n",
       "      <th>1</th>\n",
       "      <th>micro avg</th>\n",
       "      <th>macro avg</th>\n",
       "      <th>weighted avg</th>\n",
       "    </tr>\n",
       "  </thead>\n",
       "  <tbody>\n",
       "    <tr>\n",
       "      <th>f1-score</th>\n",
       "      <td>0.912</td>\n",
       "      <td>0.589</td>\n",
       "      <td>0.855</td>\n",
       "      <td>0.750</td>\n",
       "      <td>0.865</td>\n",
       "    </tr>\n",
       "    <tr>\n",
       "      <th>precision</th>\n",
       "      <td>0.948</td>\n",
       "      <td>0.501</td>\n",
       "      <td>0.855</td>\n",
       "      <td>0.724</td>\n",
       "      <td>0.883</td>\n",
       "    </tr>\n",
       "    <tr>\n",
       "      <th>recall</th>\n",
       "      <td>0.879</td>\n",
       "      <td>0.715</td>\n",
       "      <td>0.855</td>\n",
       "      <td>0.797</td>\n",
       "      <td>0.855</td>\n",
       "    </tr>\n",
       "    <tr>\n",
       "      <th>support</th>\n",
       "      <td>5025.000</td>\n",
       "      <td>856.000</td>\n",
       "      <td>5881.000</td>\n",
       "      <td>5881.000</td>\n",
       "      <td>5881.000</td>\n",
       "    </tr>\n",
       "  </tbody>\n",
       "</table>\n",
       "</div>"
      ],
      "text/plain": [
       "                  0        1  micro avg  macro avg  weighted avg\n",
       "f1-score      0.912    0.589      0.855      0.750         0.865\n",
       "precision     0.948    0.501      0.855      0.724         0.883\n",
       "recall        0.879    0.715      0.855      0.797         0.855\n",
       "support    5025.000  856.000   5881.000   5881.000      5881.000"
      ]
     },
     "metadata": {},
     "output_type": "display_data"
    },
    {
     "name": "stdout",
     "output_type": "stream",
     "text": [
      "Model Saved on  roc_auc 0.8939737062351794\n"
     ]
    },
    {
     "data": {
      "application/vnd.jupyter.widget-view+json": {
       "model_id": "82d6c04852d04d8c90ce72778e9d29d5",
       "version_major": 2,
       "version_minor": 0
      },
      "text/plain": [
       "HBox(children=(IntProgress(value=0, max=736), HTML(value='')))"
      ]
     },
     "metadata": {},
     "output_type": "display_data"
    },
    {
     "data": {
      "application/vnd.jupyter.widget-view+json": {
       "model_id": "65135068533c4664ba641eabe22a161f",
       "version_major": 2,
       "version_minor": 0
      },
      "text/plain": [
       "HBox(children=(IntProgress(value=0, max=184), HTML(value='')))"
      ]
     },
     "metadata": {},
     "output_type": "display_data"
    },
    {
     "name": "stdout",
     "output_type": "stream",
     "text": [
      "{'accuracy': 0.8217990137731678, 'roc_auc': 0.8948788766448132, 'pr_auc': 0.6579971491578335}\n"
     ]
    },
    {
     "data": {
      "text/html": [
       "<div>\n",
       "<style scoped>\n",
       "    .dataframe tbody tr th:only-of-type {\n",
       "        vertical-align: middle;\n",
       "    }\n",
       "\n",
       "    .dataframe tbody tr th {\n",
       "        vertical-align: top;\n",
       "    }\n",
       "\n",
       "    .dataframe thead th {\n",
       "        text-align: right;\n",
       "    }\n",
       "</style>\n",
       "<table border=\"1\" class=\"dataframe\">\n",
       "  <thead>\n",
       "    <tr style=\"text-align: right;\">\n",
       "      <th></th>\n",
       "      <th>0</th>\n",
       "      <th>1</th>\n",
       "      <th>micro avg</th>\n",
       "      <th>macro avg</th>\n",
       "      <th>weighted avg</th>\n",
       "    </tr>\n",
       "  </thead>\n",
       "  <tbody>\n",
       "    <tr>\n",
       "      <th>f1-score</th>\n",
       "      <td>0.888</td>\n",
       "      <td>0.568</td>\n",
       "      <td>0.822</td>\n",
       "      <td>0.728</td>\n",
       "      <td>0.841</td>\n",
       "    </tr>\n",
       "    <tr>\n",
       "      <th>precision</th>\n",
       "      <td>0.961</td>\n",
       "      <td>0.439</td>\n",
       "      <td>0.822</td>\n",
       "      <td>0.700</td>\n",
       "      <td>0.885</td>\n",
       "    </tr>\n",
       "    <tr>\n",
       "      <th>recall</th>\n",
       "      <td>0.825</td>\n",
       "      <td>0.804</td>\n",
       "      <td>0.822</td>\n",
       "      <td>0.814</td>\n",
       "      <td>0.822</td>\n",
       "    </tr>\n",
       "    <tr>\n",
       "      <th>support</th>\n",
       "      <td>5025.000</td>\n",
       "      <td>856.000</td>\n",
       "      <td>5881.000</td>\n",
       "      <td>5881.000</td>\n",
       "      <td>5881.000</td>\n",
       "    </tr>\n",
       "  </tbody>\n",
       "</table>\n",
       "</div>"
      ],
      "text/plain": [
       "                  0        1  micro avg  macro avg  weighted avg\n",
       "f1-score      0.888    0.568      0.822      0.728         0.841\n",
       "precision     0.961    0.439      0.822      0.700         0.885\n",
       "recall        0.825    0.804      0.822      0.814         0.822\n",
       "support    5025.000  856.000   5881.000   5881.000      5881.000"
      ]
     },
     "metadata": {},
     "output_type": "display_data"
    },
    {
     "name": "stdout",
     "output_type": "stream",
     "text": [
      "Model Saved on  roc_auc 0.8948788766448132\n"
     ]
    },
    {
     "data": {
      "application/vnd.jupyter.widget-view+json": {
       "model_id": "a9eee62a695d4a9fbc21dd2de3cb46e1",
       "version_major": 2,
       "version_minor": 0
      },
      "text/plain": [
       "HBox(children=(IntProgress(value=0, max=736), HTML(value='')))"
      ]
     },
     "metadata": {},
     "output_type": "display_data"
    },
    {
     "data": {
      "application/vnd.jupyter.widget-view+json": {
       "model_id": "e2f0dd7e76334fd9be50de068b02a927",
       "version_major": 2,
       "version_minor": 0
      },
      "text/plain": [
       "HBox(children=(IntProgress(value=0, max=184), HTML(value='')))"
      ]
     },
     "metadata": {},
     "output_type": "display_data"
    },
    {
     "name": "stdout",
     "output_type": "stream",
     "text": [
      "{'accuracy': 0.8554667573541914, 'roc_auc': 0.8843564885851117, 'pr_auc': 0.6523686755382253}\n"
     ]
    },
    {
     "data": {
      "text/html": [
       "<div>\n",
       "<style scoped>\n",
       "    .dataframe tbody tr th:only-of-type {\n",
       "        vertical-align: middle;\n",
       "    }\n",
       "\n",
       "    .dataframe tbody tr th {\n",
       "        vertical-align: top;\n",
       "    }\n",
       "\n",
       "    .dataframe thead th {\n",
       "        text-align: right;\n",
       "    }\n",
       "</style>\n",
       "<table border=\"1\" class=\"dataframe\">\n",
       "  <thead>\n",
       "    <tr style=\"text-align: right;\">\n",
       "      <th></th>\n",
       "      <th>0</th>\n",
       "      <th>1</th>\n",
       "      <th>micro avg</th>\n",
       "      <th>macro avg</th>\n",
       "      <th>weighted avg</th>\n",
       "    </tr>\n",
       "  </thead>\n",
       "  <tbody>\n",
       "    <tr>\n",
       "      <th>f1-score</th>\n",
       "      <td>0.912</td>\n",
       "      <td>0.590</td>\n",
       "      <td>0.855</td>\n",
       "      <td>0.751</td>\n",
       "      <td>0.865</td>\n",
       "    </tr>\n",
       "    <tr>\n",
       "      <th>precision</th>\n",
       "      <td>0.948</td>\n",
       "      <td>0.502</td>\n",
       "      <td>0.855</td>\n",
       "      <td>0.725</td>\n",
       "      <td>0.883</td>\n",
       "    </tr>\n",
       "    <tr>\n",
       "      <th>recall</th>\n",
       "      <td>0.879</td>\n",
       "      <td>0.715</td>\n",
       "      <td>0.855</td>\n",
       "      <td>0.797</td>\n",
       "      <td>0.855</td>\n",
       "    </tr>\n",
       "    <tr>\n",
       "      <th>support</th>\n",
       "      <td>5025.000</td>\n",
       "      <td>856.000</td>\n",
       "      <td>5881.000</td>\n",
       "      <td>5881.000</td>\n",
       "      <td>5881.000</td>\n",
       "    </tr>\n",
       "  </tbody>\n",
       "</table>\n",
       "</div>"
      ],
      "text/plain": [
       "                  0        1  micro avg  macro avg  weighted avg\n",
       "f1-score      0.912    0.590      0.855      0.751         0.865\n",
       "precision     0.948    0.502      0.855      0.725         0.883\n",
       "recall        0.879    0.715      0.855      0.797         0.855\n",
       "support    5025.000  856.000   5881.000   5881.000      5881.000"
      ]
     },
     "metadata": {},
     "output_type": "display_data"
    },
    {
     "name": "stdout",
     "output_type": "stream",
     "text": [
      "Model not saved on  roc_auc 0.8843564885851117\n"
     ]
    },
    {
     "data": {
      "application/vnd.jupyter.widget-view+json": {
       "model_id": "baa5afe746824619bc46c646db5852d4",
       "version_major": 2,
       "version_minor": 0
      },
      "text/plain": [
       "HBox(children=(IntProgress(value=0, max=736), HTML(value='')))"
      ]
     },
     "metadata": {},
     "output_type": "display_data"
    },
    {
     "data": {
      "application/vnd.jupyter.widget-view+json": {
       "model_id": "5256bb71420b4d0a8e620e74730d3f9a",
       "version_major": 2,
       "version_minor": 0
      },
      "text/plain": [
       "HBox(children=(IntProgress(value=0, max=184), HTML(value='')))"
      ]
     },
     "metadata": {},
     "output_type": "display_data"
    },
    {
     "name": "stdout",
     "output_type": "stream",
     "text": [
      "{'accuracy': 0.8760414895425948, 'roc_auc': 0.8886146370948993, 'pr_auc': 0.6490489130603202}\n"
     ]
    },
    {
     "data": {
      "text/html": [
       "<div>\n",
       "<style scoped>\n",
       "    .dataframe tbody tr th:only-of-type {\n",
       "        vertical-align: middle;\n",
       "    }\n",
       "\n",
       "    .dataframe tbody tr th {\n",
       "        vertical-align: top;\n",
       "    }\n",
       "\n",
       "    .dataframe thead th {\n",
       "        text-align: right;\n",
       "    }\n",
       "</style>\n",
       "<table border=\"1\" class=\"dataframe\">\n",
       "  <thead>\n",
       "    <tr style=\"text-align: right;\">\n",
       "      <th></th>\n",
       "      <th>0</th>\n",
       "      <th>1</th>\n",
       "      <th>micro avg</th>\n",
       "      <th>macro avg</th>\n",
       "      <th>weighted avg</th>\n",
       "    </tr>\n",
       "  </thead>\n",
       "  <tbody>\n",
       "    <tr>\n",
       "      <th>f1-score</th>\n",
       "      <td>0.927</td>\n",
       "      <td>0.603</td>\n",
       "      <td>0.876</td>\n",
       "      <td>0.765</td>\n",
       "      <td>0.879</td>\n",
       "    </tr>\n",
       "    <tr>\n",
       "      <th>precision</th>\n",
       "      <td>0.938</td>\n",
       "      <td>0.565</td>\n",
       "      <td>0.876</td>\n",
       "      <td>0.752</td>\n",
       "      <td>0.884</td>\n",
       "    </tr>\n",
       "    <tr>\n",
       "      <th>recall</th>\n",
       "      <td>0.915</td>\n",
       "      <td>0.647</td>\n",
       "      <td>0.876</td>\n",
       "      <td>0.781</td>\n",
       "      <td>0.876</td>\n",
       "    </tr>\n",
       "    <tr>\n",
       "      <th>support</th>\n",
       "      <td>5025.000</td>\n",
       "      <td>856.000</td>\n",
       "      <td>5881.000</td>\n",
       "      <td>5881.000</td>\n",
       "      <td>5881.000</td>\n",
       "    </tr>\n",
       "  </tbody>\n",
       "</table>\n",
       "</div>"
      ],
      "text/plain": [
       "                  0        1  micro avg  macro avg  weighted avg\n",
       "f1-score      0.927    0.603      0.876      0.765         0.879\n",
       "precision     0.938    0.565      0.876      0.752         0.884\n",
       "recall        0.915    0.647      0.876      0.781         0.876\n",
       "support    5025.000  856.000   5881.000   5881.000      5881.000"
      ]
     },
     "metadata": {},
     "output_type": "display_data"
    },
    {
     "name": "stdout",
     "output_type": "stream",
     "text": [
      "Model not saved on  roc_auc 0.8886146370948993\n"
     ]
    },
    {
     "data": {
      "application/vnd.jupyter.widget-view+json": {
       "model_id": "b5fda88d0fc54ddab73319d8ded14e54",
       "version_major": 2,
       "version_minor": 0
      },
      "text/plain": [
       "HBox(children=(IntProgress(value=0, max=736), HTML(value='')))"
      ]
     },
     "metadata": {},
     "output_type": "display_data"
    },
    {
     "data": {
      "application/vnd.jupyter.widget-view+json": {
       "model_id": "ab96f25de1e84581b009a498c1acb178",
       "version_major": 2,
       "version_minor": 0
      },
      "text/plain": [
       "HBox(children=(IntProgress(value=0, max=184), HTML(value='')))"
      ]
     },
     "metadata": {},
     "output_type": "display_data"
    },
    {
     "name": "stdout",
     "output_type": "stream",
     "text": [
      "{'accuracy': 0.861928243496004, 'roc_auc': 0.8866918910122286, 'pr_auc': 0.6458494696697998}\n"
     ]
    },
    {
     "data": {
      "text/html": [
       "<div>\n",
       "<style scoped>\n",
       "    .dataframe tbody tr th:only-of-type {\n",
       "        vertical-align: middle;\n",
       "    }\n",
       "\n",
       "    .dataframe tbody tr th {\n",
       "        vertical-align: top;\n",
       "    }\n",
       "\n",
       "    .dataframe thead th {\n",
       "        text-align: right;\n",
       "    }\n",
       "</style>\n",
       "<table border=\"1\" class=\"dataframe\">\n",
       "  <thead>\n",
       "    <tr style=\"text-align: right;\">\n",
       "      <th></th>\n",
       "      <th>0</th>\n",
       "      <th>1</th>\n",
       "      <th>micro avg</th>\n",
       "      <th>macro avg</th>\n",
       "      <th>weighted avg</th>\n",
       "    </tr>\n",
       "  </thead>\n",
       "  <tbody>\n",
       "    <tr>\n",
       "      <th>f1-score</th>\n",
       "      <td>0.917</td>\n",
       "      <td>0.593</td>\n",
       "      <td>0.862</td>\n",
       "      <td>0.755</td>\n",
       "      <td>0.870</td>\n",
       "    </tr>\n",
       "    <tr>\n",
       "      <th>precision</th>\n",
       "      <td>0.944</td>\n",
       "      <td>0.519</td>\n",
       "      <td>0.862</td>\n",
       "      <td>0.732</td>\n",
       "      <td>0.882</td>\n",
       "    </tr>\n",
       "    <tr>\n",
       "      <th>recall</th>\n",
       "      <td>0.891</td>\n",
       "      <td>0.690</td>\n",
       "      <td>0.862</td>\n",
       "      <td>0.791</td>\n",
       "      <td>0.862</td>\n",
       "    </tr>\n",
       "    <tr>\n",
       "      <th>support</th>\n",
       "      <td>5025.000</td>\n",
       "      <td>856.000</td>\n",
       "      <td>5881.000</td>\n",
       "      <td>5881.000</td>\n",
       "      <td>5881.000</td>\n",
       "    </tr>\n",
       "  </tbody>\n",
       "</table>\n",
       "</div>"
      ],
      "text/plain": [
       "                  0        1  micro avg  macro avg  weighted avg\n",
       "f1-score      0.917    0.593      0.862      0.755         0.870\n",
       "precision     0.944    0.519      0.862      0.732         0.882\n",
       "recall        0.891    0.690      0.862      0.791         0.862\n",
       "support    5025.000  856.000   5881.000   5881.000      5881.000"
      ]
     },
     "metadata": {},
     "output_type": "display_data"
    },
    {
     "name": "stdout",
     "output_type": "stream",
     "text": [
      "Model not saved on  roc_auc 0.8866918910122286\n"
     ]
    },
    {
     "data": {
      "application/vnd.jupyter.widget-view+json": {
       "model_id": "f54f0c59e1e24bec94f2707a92a9b5d0",
       "version_major": 2,
       "version_minor": 0
      },
      "text/plain": [
       "HBox(children=(IntProgress(value=0, max=736), HTML(value='')))"
      ]
     },
     "metadata": {},
     "output_type": "display_data"
    },
    {
     "data": {
      "application/vnd.jupyter.widget-view+json": {
       "model_id": "1bcccb1cb0974e4ab5846fea18c67320",
       "version_major": 2,
       "version_minor": 0
      },
      "text/plain": [
       "HBox(children=(IntProgress(value=0, max=184), HTML(value='')))"
      ]
     },
     "metadata": {},
     "output_type": "display_data"
    },
    {
     "name": "stdout",
     "output_type": "stream",
     "text": [
      "{'accuracy': 0.8634585954769597, 'roc_auc': 0.8820632817222299, 'pr_auc': 0.6482466262744645}\n"
     ]
    },
    {
     "data": {
      "text/html": [
       "<div>\n",
       "<style scoped>\n",
       "    .dataframe tbody tr th:only-of-type {\n",
       "        vertical-align: middle;\n",
       "    }\n",
       "\n",
       "    .dataframe tbody tr th {\n",
       "        vertical-align: top;\n",
       "    }\n",
       "\n",
       "    .dataframe thead th {\n",
       "        text-align: right;\n",
       "    }\n",
       "</style>\n",
       "<table border=\"1\" class=\"dataframe\">\n",
       "  <thead>\n",
       "    <tr style=\"text-align: right;\">\n",
       "      <th></th>\n",
       "      <th>0</th>\n",
       "      <th>1</th>\n",
       "      <th>micro avg</th>\n",
       "      <th>macro avg</th>\n",
       "      <th>weighted avg</th>\n",
       "    </tr>\n",
       "  </thead>\n",
       "  <tbody>\n",
       "    <tr>\n",
       "      <th>f1-score</th>\n",
       "      <td>0.918</td>\n",
       "      <td>0.593</td>\n",
       "      <td>0.863</td>\n",
       "      <td>0.756</td>\n",
       "      <td>0.871</td>\n",
       "    </tr>\n",
       "    <tr>\n",
       "      <th>precision</th>\n",
       "      <td>0.943</td>\n",
       "      <td>0.524</td>\n",
       "      <td>0.863</td>\n",
       "      <td>0.733</td>\n",
       "      <td>0.882</td>\n",
       "    </tr>\n",
       "    <tr>\n",
       "      <th>recall</th>\n",
       "      <td>0.894</td>\n",
       "      <td>0.685</td>\n",
       "      <td>0.863</td>\n",
       "      <td>0.789</td>\n",
       "      <td>0.863</td>\n",
       "    </tr>\n",
       "    <tr>\n",
       "      <th>support</th>\n",
       "      <td>5025.000</td>\n",
       "      <td>856.000</td>\n",
       "      <td>5881.000</td>\n",
       "      <td>5881.000</td>\n",
       "      <td>5881.000</td>\n",
       "    </tr>\n",
       "  </tbody>\n",
       "</table>\n",
       "</div>"
      ],
      "text/plain": [
       "                  0        1  micro avg  macro avg  weighted avg\n",
       "f1-score      0.918    0.593      0.863      0.756         0.871\n",
       "precision     0.943    0.524      0.863      0.733         0.882\n",
       "recall        0.894    0.685      0.863      0.789         0.863\n",
       "support    5025.000  856.000   5881.000   5881.000      5881.000"
      ]
     },
     "metadata": {},
     "output_type": "display_data"
    },
    {
     "name": "stdout",
     "output_type": "stream",
     "text": [
      "Model not saved on  roc_auc 0.8820632817222299\n"
     ]
    },
    {
     "data": {
      "application/vnd.jupyter.widget-view+json": {
       "model_id": "795e62daf967436a8379db00bf60cee9",
       "version_major": 2,
       "version_minor": 0
      },
      "text/plain": [
       "HBox(children=(IntProgress(value=0, max=736), HTML(value='')))"
      ]
     },
     "metadata": {},
     "output_type": "display_data"
    },
    {
     "data": {
      "application/vnd.jupyter.widget-view+json": {
       "model_id": "a871ffd78c68499d8cc50ab54b81a006",
       "version_major": 2,
       "version_minor": 0
      },
      "text/plain": [
       "HBox(children=(IntProgress(value=0, max=184), HTML(value='')))"
      ]
     },
     "metadata": {},
     "output_type": "display_data"
    },
    {
     "name": "stdout",
     "output_type": "stream",
     "text": [
      "{'accuracy': 0.8753613331066146, 'roc_auc': 0.8793239410424512, 'pr_auc': 0.6422650333500042}\n"
     ]
    },
    {
     "data": {
      "text/html": [
       "<div>\n",
       "<style scoped>\n",
       "    .dataframe tbody tr th:only-of-type {\n",
       "        vertical-align: middle;\n",
       "    }\n",
       "\n",
       "    .dataframe tbody tr th {\n",
       "        vertical-align: top;\n",
       "    }\n",
       "\n",
       "    .dataframe thead th {\n",
       "        text-align: right;\n",
       "    }\n",
       "</style>\n",
       "<table border=\"1\" class=\"dataframe\">\n",
       "  <thead>\n",
       "    <tr style=\"text-align: right;\">\n",
       "      <th></th>\n",
       "      <th>0</th>\n",
       "      <th>1</th>\n",
       "      <th>micro avg</th>\n",
       "      <th>macro avg</th>\n",
       "      <th>weighted avg</th>\n",
       "    </tr>\n",
       "  </thead>\n",
       "  <tbody>\n",
       "    <tr>\n",
       "      <th>f1-score</th>\n",
       "      <td>0.927</td>\n",
       "      <td>0.588</td>\n",
       "      <td>0.875</td>\n",
       "      <td>0.757</td>\n",
       "      <td>0.877</td>\n",
       "    </tr>\n",
       "    <tr>\n",
       "      <th>precision</th>\n",
       "      <td>0.933</td>\n",
       "      <td>0.566</td>\n",
       "      <td>0.875</td>\n",
       "      <td>0.750</td>\n",
       "      <td>0.880</td>\n",
       "    </tr>\n",
       "    <tr>\n",
       "      <th>recall</th>\n",
       "      <td>0.920</td>\n",
       "      <td>0.612</td>\n",
       "      <td>0.875</td>\n",
       "      <td>0.766</td>\n",
       "      <td>0.875</td>\n",
       "    </tr>\n",
       "    <tr>\n",
       "      <th>support</th>\n",
       "      <td>5025.000</td>\n",
       "      <td>856.000</td>\n",
       "      <td>5881.000</td>\n",
       "      <td>5881.000</td>\n",
       "      <td>5881.000</td>\n",
       "    </tr>\n",
       "  </tbody>\n",
       "</table>\n",
       "</div>"
      ],
      "text/plain": [
       "                  0        1  micro avg  macro avg  weighted avg\n",
       "f1-score      0.927    0.588      0.875      0.757         0.877\n",
       "precision     0.933    0.566      0.875      0.750         0.880\n",
       "recall        0.920    0.612      0.875      0.766         0.875\n",
       "support    5025.000  856.000   5881.000   5881.000      5881.000"
      ]
     },
     "metadata": {},
     "output_type": "display_data"
    },
    {
     "name": "stdout",
     "output_type": "stream",
     "text": [
      "Model not saved on  roc_auc 0.8793239410424512\n"
     ]
    },
    {
     "data": {
      "application/vnd.jupyter.widget-view+json": {
       "model_id": "915c4144c32942eea1a2052c7d09fa59",
       "version_major": 2,
       "version_minor": 0
      },
      "text/plain": [
       "HBox(children=(IntProgress(value=0, max=736), HTML(value='')))"
      ]
     },
     "metadata": {},
     "output_type": "display_data"
    },
    {
     "data": {
      "application/vnd.jupyter.widget-view+json": {
       "model_id": "f2ee612883fe40ae94cab512707de994",
       "version_major": 2,
       "version_minor": 0
      },
      "text/plain": [
       "HBox(children=(IntProgress(value=0, max=184), HTML(value='')))"
      ]
     },
     "metadata": {},
     "output_type": "display_data"
    },
    {
     "name": "stdout",
     "output_type": "stream",
     "text": [
      "{'accuracy': 0.8044550246556708, 'roc_auc': 0.8765450783465849, 'pr_auc': 0.6354602967613912}\n"
     ]
    },
    {
     "data": {
      "text/html": [
       "<div>\n",
       "<style scoped>\n",
       "    .dataframe tbody tr th:only-of-type {\n",
       "        vertical-align: middle;\n",
       "    }\n",
       "\n",
       "    .dataframe tbody tr th {\n",
       "        vertical-align: top;\n",
       "    }\n",
       "\n",
       "    .dataframe thead th {\n",
       "        text-align: right;\n",
       "    }\n",
       "</style>\n",
       "<table border=\"1\" class=\"dataframe\">\n",
       "  <thead>\n",
       "    <tr style=\"text-align: right;\">\n",
       "      <th></th>\n",
       "      <th>0</th>\n",
       "      <th>1</th>\n",
       "      <th>micro avg</th>\n",
       "      <th>macro avg</th>\n",
       "      <th>weighted avg</th>\n",
       "    </tr>\n",
       "  </thead>\n",
       "  <tbody>\n",
       "    <tr>\n",
       "      <th>f1-score</th>\n",
       "      <td>0.875</td>\n",
       "      <td>0.545</td>\n",
       "      <td>0.804</td>\n",
       "      <td>0.710</td>\n",
       "      <td>0.827</td>\n",
       "    </tr>\n",
       "    <tr>\n",
       "      <th>precision</th>\n",
       "      <td>0.960</td>\n",
       "      <td>0.412</td>\n",
       "      <td>0.804</td>\n",
       "      <td>0.686</td>\n",
       "      <td>0.881</td>\n",
       "    </tr>\n",
       "    <tr>\n",
       "      <th>recall</th>\n",
       "      <td>0.804</td>\n",
       "      <td>0.805</td>\n",
       "      <td>0.804</td>\n",
       "      <td>0.805</td>\n",
       "      <td>0.804</td>\n",
       "    </tr>\n",
       "    <tr>\n",
       "      <th>support</th>\n",
       "      <td>5025.000</td>\n",
       "      <td>856.000</td>\n",
       "      <td>5881.000</td>\n",
       "      <td>5881.000</td>\n",
       "      <td>5881.000</td>\n",
       "    </tr>\n",
       "  </tbody>\n",
       "</table>\n",
       "</div>"
      ],
      "text/plain": [
       "                  0        1  micro avg  macro avg  weighted avg\n",
       "f1-score      0.875    0.545      0.804      0.710         0.827\n",
       "precision     0.960    0.412      0.804      0.686         0.881\n",
       "recall        0.804    0.805      0.804      0.805         0.804\n",
       "support    5025.000  856.000   5881.000   5881.000      5881.000"
      ]
     },
     "metadata": {},
     "output_type": "display_data"
    },
    {
     "name": "stdout",
     "output_type": "stream",
     "text": [
      "Model not saved on  roc_auc 0.8765450783465849\n"
     ]
    },
    {
     "data": {
      "application/vnd.jupyter.widget-view+json": {
       "model_id": "0bfe77dd40b54d0c98a9877d80466f7a",
       "version_major": 2,
       "version_minor": 0
      },
      "text/plain": [
       "HBox(children=(IntProgress(value=0, max=736), HTML(value='')))"
      ]
     },
     "metadata": {},
     "output_type": "display_data"
    },
    {
     "data": {
      "application/vnd.jupyter.widget-view+json": {
       "model_id": "d2fe5eae3db942ef9680eb77a5d92c11",
       "version_major": 2,
       "version_minor": 0
      },
      "text/plain": [
       "HBox(children=(IntProgress(value=0, max=184), HTML(value='')))"
      ]
     },
     "metadata": {},
     "output_type": "display_data"
    },
    {
     "name": "stdout",
     "output_type": "stream",
     "text": [
      "{'accuracy': 0.8609080088420337, 'roc_auc': 0.888236620635142, 'pr_auc': 0.654400126577962}\n"
     ]
    },
    {
     "data": {
      "text/html": [
       "<div>\n",
       "<style scoped>\n",
       "    .dataframe tbody tr th:only-of-type {\n",
       "        vertical-align: middle;\n",
       "    }\n",
       "\n",
       "    .dataframe tbody tr th {\n",
       "        vertical-align: top;\n",
       "    }\n",
       "\n",
       "    .dataframe thead th {\n",
       "        text-align: right;\n",
       "    }\n",
       "</style>\n",
       "<table border=\"1\" class=\"dataframe\">\n",
       "  <thead>\n",
       "    <tr style=\"text-align: right;\">\n",
       "      <th></th>\n",
       "      <th>0</th>\n",
       "      <th>1</th>\n",
       "      <th>micro avg</th>\n",
       "      <th>macro avg</th>\n",
       "      <th>weighted avg</th>\n",
       "    </tr>\n",
       "  </thead>\n",
       "  <tbody>\n",
       "    <tr>\n",
       "      <th>f1-score</th>\n",
       "      <td>0.916</td>\n",
       "      <td>0.603</td>\n",
       "      <td>0.861</td>\n",
       "      <td>0.759</td>\n",
       "      <td>0.870</td>\n",
       "    </tr>\n",
       "    <tr>\n",
       "      <th>precision</th>\n",
       "      <td>0.950</td>\n",
       "      <td>0.516</td>\n",
       "      <td>0.861</td>\n",
       "      <td>0.733</td>\n",
       "      <td>0.886</td>\n",
       "    </tr>\n",
       "    <tr>\n",
       "      <th>recall</th>\n",
       "      <td>0.884</td>\n",
       "      <td>0.724</td>\n",
       "      <td>0.861</td>\n",
       "      <td>0.804</td>\n",
       "      <td>0.861</td>\n",
       "    </tr>\n",
       "    <tr>\n",
       "      <th>support</th>\n",
       "      <td>5025.000</td>\n",
       "      <td>856.000</td>\n",
       "      <td>5881.000</td>\n",
       "      <td>5881.000</td>\n",
       "      <td>5881.000</td>\n",
       "    </tr>\n",
       "  </tbody>\n",
       "</table>\n",
       "</div>"
      ],
      "text/plain": [
       "                  0        1  micro avg  macro avg  weighted avg\n",
       "f1-score      0.916    0.603      0.861      0.759         0.870\n",
       "precision     0.950    0.516      0.861      0.733         0.886\n",
       "recall        0.884    0.724      0.861      0.804         0.861\n",
       "support    5025.000  856.000   5881.000   5881.000      5881.000"
      ]
     },
     "metadata": {},
     "output_type": "display_data"
    },
    {
     "name": "stdout",
     "output_type": "stream",
     "text": [
      "Model not saved on  roc_auc 0.888236620635142\n"
     ]
    },
    {
     "data": {
      "application/vnd.jupyter.widget-view+json": {
       "model_id": "3f398c5e5fd642e1a07eb55e689841e5",
       "version_major": 2,
       "version_minor": 0
      },
      "text/plain": [
       "HBox(children=(IntProgress(value=0, max=736), HTML(value='')))"
      ]
     },
     "metadata": {},
     "output_type": "display_data"
    },
    {
     "data": {
      "application/vnd.jupyter.widget-view+json": {
       "model_id": "12feda8bb6c14f7dbd42bc7a1a0236c5",
       "version_major": 2,
       "version_minor": 0
      },
      "text/plain": [
       "HBox(children=(IntProgress(value=0, max=184), HTML(value='')))"
      ]
     },
     "metadata": {},
     "output_type": "display_data"
    },
    {
     "name": "stdout",
     "output_type": "stream",
     "text": [
      "{'accuracy': 0.8595476959700731, 'roc_auc': 0.868213139907937, 'pr_auc': 0.6180501595407231}\n"
     ]
    },
    {
     "data": {
      "text/html": [
       "<div>\n",
       "<style scoped>\n",
       "    .dataframe tbody tr th:only-of-type {\n",
       "        vertical-align: middle;\n",
       "    }\n",
       "\n",
       "    .dataframe tbody tr th {\n",
       "        vertical-align: top;\n",
       "    }\n",
       "\n",
       "    .dataframe thead th {\n",
       "        text-align: right;\n",
       "    }\n",
       "</style>\n",
       "<table border=\"1\" class=\"dataframe\">\n",
       "  <thead>\n",
       "    <tr style=\"text-align: right;\">\n",
       "      <th></th>\n",
       "      <th>0</th>\n",
       "      <th>1</th>\n",
       "      <th>micro avg</th>\n",
       "      <th>macro avg</th>\n",
       "      <th>weighted avg</th>\n",
       "    </tr>\n",
       "  </thead>\n",
       "  <tbody>\n",
       "    <tr>\n",
       "      <th>f1-score</th>\n",
       "      <td>0.916</td>\n",
       "      <td>0.577</td>\n",
       "      <td>0.86</td>\n",
       "      <td>0.746</td>\n",
       "      <td>0.866</td>\n",
       "    </tr>\n",
       "    <tr>\n",
       "      <th>precision</th>\n",
       "      <td>0.939</td>\n",
       "      <td>0.514</td>\n",
       "      <td>0.86</td>\n",
       "      <td>0.726</td>\n",
       "      <td>0.877</td>\n",
       "    </tr>\n",
       "    <tr>\n",
       "      <th>recall</th>\n",
       "      <td>0.894</td>\n",
       "      <td>0.658</td>\n",
       "      <td>0.86</td>\n",
       "      <td>0.776</td>\n",
       "      <td>0.860</td>\n",
       "    </tr>\n",
       "    <tr>\n",
       "      <th>support</th>\n",
       "      <td>5025.000</td>\n",
       "      <td>856.000</td>\n",
       "      <td>5881.00</td>\n",
       "      <td>5881.000</td>\n",
       "      <td>5881.000</td>\n",
       "    </tr>\n",
       "  </tbody>\n",
       "</table>\n",
       "</div>"
      ],
      "text/plain": [
       "                  0        1  micro avg  macro avg  weighted avg\n",
       "f1-score      0.916    0.577       0.86      0.746         0.866\n",
       "precision     0.939    0.514       0.86      0.726         0.877\n",
       "recall        0.894    0.658       0.86      0.776         0.860\n",
       "support    5025.000  856.000    5881.00   5881.000      5881.000"
      ]
     },
     "metadata": {},
     "output_type": "display_data"
    },
    {
     "name": "stderr",
     "output_type": "stream",
     "text": [
      "INFO - 2019-03-20 13:59:35,479 - instantiating class <class 'PatientVec.models.Model.Model'> from params {'type': 'seq_classifier', 'embedder': {'type': 'token_embedder', 'vocab_size': 29286, 'embed_size': 200, 'embedding_file': './preprocess/Mortality/embedding_matrix.npy'}, 'decoder': {'num_layers': 2, 'hidden_dims': [128, 1], 'activations': ['tanh', 'linear']}, 'predictor': {'type': 'binary'}, 'structured': {'use_structured': True, 'structured_dim': 50}, 'encoder': {'type': 'average', 'projection': True, 'hidden_size': 256, 'activation': 'relu'}} and extras {}\n",
      "INFO - 2019-03-20 13:59:35,480 - type = seq_classifier\n",
      "INFO - 2019-03-20 13:59:35,481 - instantiating class <class 'PatientVec.models.modules.Embedder.Embedder'> from params {'type': 'token_embedder', 'vocab_size': 29286, 'embed_size': 200, 'embedding_file': './preprocess/Mortality/embedding_matrix.npy'} and extras {}\n",
      "INFO - 2019-03-20 13:59:35,481 - embedder.type = token_embedder\n",
      "INFO - 2019-03-20 13:59:35,482 - instantiating class <class 'PatientVec.models.modules.Embedder.TokenEmbedder'> from params {'vocab_size': 29286, 'embed_size': 200, 'embedding_file': './preprocess/Mortality/embedding_matrix.npy'} and extras {}\n",
      "INFO - 2019-03-20 13:59:35,483 - embedder.vocab_size = 29286\n",
      "INFO - 2019-03-20 13:59:35,484 - embedder.embed_size = 200\n",
      "INFO - 2019-03-20 13:59:35,484 - embedder.embedding_file = ./preprocess/Mortality/embedding_matrix.npy\n",
      "INFO - 2019-03-20 13:59:35,524 - instantiating class <class 'PatientVec.models.modules.Encoder.Encoder'> from params {'type': 'average', 'projection': True, 'hidden_size': 256, 'activation': 'relu'} and extras {'input_size': 200}\n",
      "INFO - 2019-03-20 13:59:35,525 - encoder.type = average\n",
      "INFO - 2019-03-20 13:59:35,525 - instantiating class <class 'PatientVec.models.modules.Encoder.AverageEncoder'> from params {'projection': True, 'hidden_size': 256, 'activation': 'relu'} and extras {'input_size': 200}\n",
      "INFO - 2019-03-20 13:59:35,526 - encoder.projection = True\n",
      "INFO - 2019-03-20 13:59:35,527 - encoder.hidden_size = 256\n",
      "INFO - 2019-03-20 13:59:35,527 - encoder.activation = relu\n",
      "INFO - 2019-03-20 13:59:35,530 - decoder.input_dim = 306\n",
      "INFO - 2019-03-20 13:59:35,530 - decoder.num_layers = 2\n",
      "INFO - 2019-03-20 13:59:35,531 - decoder.hidden_dims = [128, 1]\n",
      "INFO - 2019-03-20 13:59:35,531 - decoder.activations = ['tanh', 'linear']\n",
      "INFO - 2019-03-20 13:59:35,532 - decoder.dropout = 0.0\n",
      "INFO - 2019-03-20 13:59:35,534 - instantiating class <class 'PatientVec.models.modules.Predictor.Predictor'> from params {'type': 'binary'} and extras {}\n",
      "INFO - 2019-03-20 13:59:35,535 - predictor.type = binary\n",
      "INFO - 2019-03-20 13:59:35,535 - instantiating class <class 'PatientVec.models.modules.Predictor.Binary_Predictor'> from params {} and extras {}\n",
      "INFO - 2019-03-20 13:59:35,536 - predictor.replicate = False\n",
      "INFO - 2019-03-20 13:59:35,537 - predictor.alpha = 0.5\n"
     ]
    },
    {
     "name": "stdout",
     "output_type": "stream",
     "text": [
      "Model not saved on  roc_auc 0.868213139907937\n",
      "\n",
      "Setting Embedding\n"
     ]
    },
    {
     "data": {
      "application/vnd.jupyter.widget-view+json": {
       "model_id": "35bb352ce2d54df8b3a53c5e46aa3d5b",
       "version_major": 2,
       "version_minor": 0
      },
      "text/plain": [
       "HBox(children=(IntProgress(value=0, max=184), HTML(value='')))"
      ]
     },
     "metadata": {},
     "output_type": "display_data"
    },
    {
     "name": "stdout",
     "output_type": "stream",
     "text": [
      "\n",
      "{'accuracy': 0.8217990137731678, 'roc_auc': 0.8948788766448132, 'pr_auc': 0.6579971491578335}\n"
     ]
    },
    {
     "data": {
      "text/html": [
       "<div>\n",
       "<style scoped>\n",
       "    .dataframe tbody tr th:only-of-type {\n",
       "        vertical-align: middle;\n",
       "    }\n",
       "\n",
       "    .dataframe tbody tr th {\n",
       "        vertical-align: top;\n",
       "    }\n",
       "\n",
       "    .dataframe thead th {\n",
       "        text-align: right;\n",
       "    }\n",
       "</style>\n",
       "<table border=\"1\" class=\"dataframe\">\n",
       "  <thead>\n",
       "    <tr style=\"text-align: right;\">\n",
       "      <th></th>\n",
       "      <th>0</th>\n",
       "      <th>1</th>\n",
       "      <th>micro avg</th>\n",
       "      <th>macro avg</th>\n",
       "      <th>weighted avg</th>\n",
       "    </tr>\n",
       "  </thead>\n",
       "  <tbody>\n",
       "    <tr>\n",
       "      <th>f1-score</th>\n",
       "      <td>0.888</td>\n",
       "      <td>0.568</td>\n",
       "      <td>0.822</td>\n",
       "      <td>0.728</td>\n",
       "      <td>0.841</td>\n",
       "    </tr>\n",
       "    <tr>\n",
       "      <th>precision</th>\n",
       "      <td>0.961</td>\n",
       "      <td>0.439</td>\n",
       "      <td>0.822</td>\n",
       "      <td>0.700</td>\n",
       "      <td>0.885</td>\n",
       "    </tr>\n",
       "    <tr>\n",
       "      <th>recall</th>\n",
       "      <td>0.825</td>\n",
       "      <td>0.804</td>\n",
       "      <td>0.822</td>\n",
       "      <td>0.814</td>\n",
       "      <td>0.822</td>\n",
       "    </tr>\n",
       "    <tr>\n",
       "      <th>support</th>\n",
       "      <td>5025.000</td>\n",
       "      <td>856.000</td>\n",
       "      <td>5881.000</td>\n",
       "      <td>5881.000</td>\n",
       "      <td>5881.000</td>\n",
       "    </tr>\n",
       "  </tbody>\n",
       "</table>\n",
       "</div>"
      ],
      "text/plain": [
       "                  0        1  micro avg  macro avg  weighted avg\n",
       "f1-score      0.888    0.568      0.822      0.728         0.841\n",
       "precision     0.961    0.439      0.822      0.700         0.885\n",
       "recall        0.825    0.804      0.822      0.814         0.822\n",
       "support    5025.000  856.000   5881.000   5881.000      5881.000"
      ]
     },
     "metadata": {},
     "output_type": "display_data"
    },
    {
     "name": "stderr",
     "output_type": "stream",
     "text": [
      "INFO - 2019-03-20 14:00:15,833 - instantiating class <class 'PatientVec.models.Model.Model'> from params {'type': 'seq_classifier', 'embedder': {'type': 'token_embedder', 'vocab_size': 29286, 'embed_size': 200, 'embedding_file': './preprocess/Mortality/embedding_matrix.npy'}, 'decoder': {'num_layers': 2, 'hidden_dims': [128, 1], 'activations': ['tanh', 'linear']}, 'predictor': {'type': 'binary'}, 'structured': {'use_structured': True, 'structured_dim': 50}, 'encoder': {'type': 'lstm', 'hidden_size': 128}} and extras {}\n",
      "INFO - 2019-03-20 14:00:15,834 - type = seq_classifier\n",
      "INFO - 2019-03-20 14:00:15,834 - instantiating class <class 'PatientVec.models.modules.Embedder.Embedder'> from params {'type': 'token_embedder', 'vocab_size': 29286, 'embed_size': 200, 'embedding_file': './preprocess/Mortality/embedding_matrix.npy'} and extras {}\n",
      "INFO - 2019-03-20 14:00:15,835 - embedder.type = token_embedder\n",
      "INFO - 2019-03-20 14:00:15,836 - instantiating class <class 'PatientVec.models.modules.Embedder.TokenEmbedder'> from params {'vocab_size': 29286, 'embed_size': 200, 'embedding_file': './preprocess/Mortality/embedding_matrix.npy'} and extras {}\n",
      "INFO - 2019-03-20 14:00:15,837 - embedder.vocab_size = 29286\n",
      "INFO - 2019-03-20 14:00:15,839 - embedder.embed_size = 200\n",
      "INFO - 2019-03-20 14:00:15,839 - embedder.embedding_file = ./preprocess/Mortality/embedding_matrix.npy\n",
      "INFO - 2019-03-20 14:00:15,868 - instantiating class <class 'PatientVec.models.modules.Encoder.Encoder'> from params {'type': 'lstm', 'hidden_size': 128} and extras {'input_size': 200}\n",
      "INFO - 2019-03-20 14:00:15,869 - encoder.type = lstm\n",
      "INFO - 2019-03-20 14:00:15,870 - instantiating class <class 'PatientVec.models.modules.Encoder.wrap_pytorch_rnn.<locals>.BiRNNEncoder'> from params {'hidden_size': 128} and extras {'input_size': 200}\n",
      "INFO - 2019-03-20 14:00:15,870 - encoder.hidden_size = 128\n",
      "INFO - 2019-03-20 14:00:15,877 - decoder.input_dim = 306\n",
      "INFO - 2019-03-20 14:00:15,877 - decoder.num_layers = 2\n",
      "INFO - 2019-03-20 14:00:15,878 - decoder.hidden_dims = [128, 1]\n",
      "INFO - 2019-03-20 14:00:15,878 - decoder.activations = ['tanh', 'linear']\n",
      "INFO - 2019-03-20 14:00:15,879 - decoder.dropout = 0.0\n",
      "INFO - 2019-03-20 14:00:15,882 - instantiating class <class 'PatientVec.models.modules.Predictor.Predictor'> from params {'type': 'binary'} and extras {}\n",
      "INFO - 2019-03-20 14:00:15,882 - predictor.type = binary\n",
      "INFO - 2019-03-20 14:00:15,883 - instantiating class <class 'PatientVec.models.modules.Predictor.Binary_Predictor'> from params {} and extras {}\n",
      "INFO - 2019-03-20 14:00:15,883 - predictor.replicate = False\n",
      "INFO - 2019-03-20 14:00:15,884 - predictor.alpha = 0.5\n"
     ]
    },
    {
     "name": "stdout",
     "output_type": "stream",
     "text": [
      "============================================================================================================================================================================================================================================================================================================\n",
      "{'model': {'type': 'seq_classifier', 'embedder': {'type': 'token_embedder', 'vocab_size': 29286, 'embed_size': 200, 'embedding_file': './preprocess/Mortality/embedding_matrix.npy'}, 'decoder': {'num_layers': 2, 'hidden_dims': [128, 1], 'activations': ['tanh', 'linear']}, 'predictor': {'type': 'binary'}, 'structured': {'use_structured': True, 'structured_dim': 50}, 'encoder': {'type': 'lstm', 'hidden_size': 128}}, 'training_config': {'type': 'Adam', 'groups': [('.*', {'lr': 0.001, 'weight_decay': 1e-05})], 'common': {'bsize': 32, 'class_weight': True}}, 'exp_config': {'exp_name': 'Mortality_30day/Basic/LSTM(hs=128)+Structured', 'basepath': 'outputs/'}}\n",
      "Setting Embedding\n"
     ]
    },
    {
     "data": {
      "application/vnd.jupyter.widget-view+json": {
       "model_id": "0df0561a4f06486685deb474daa03983",
       "version_major": 2,
       "version_minor": 0
      },
      "text/plain": [
       "HBox(children=(IntProgress(value=0, max=15), HTML(value='')))"
      ]
     },
     "metadata": {},
     "output_type": "display_data"
    },
    {
     "data": {
      "application/vnd.jupyter.widget-view+json": {
       "model_id": "cdf6447d302f434b98ab16c8b4ba155d",
       "version_major": 2,
       "version_minor": 0
      },
      "text/plain": [
       "HBox(children=(IntProgress(value=0, max=736), HTML(value='')))"
      ]
     },
     "metadata": {},
     "output_type": "display_data"
    },
    {
     "data": {
      "application/vnd.jupyter.widget-view+json": {
       "model_id": "5299aea6c33445e5a7c8200b23b0573b",
       "version_major": 2,
       "version_minor": 0
      },
      "text/plain": [
       "HBox(children=(IntProgress(value=0, max=184), HTML(value='')))"
      ]
     },
     "metadata": {},
     "output_type": "display_data"
    },
    {
     "name": "stdout",
     "output_type": "stream",
     "text": [
      "{'accuracy': 0.8505356231933344, 'roc_auc': 0.8895861812433161, 'pr_auc': 0.6853206526688475}\n"
     ]
    },
    {
     "data": {
      "text/html": [
       "<div>\n",
       "<style scoped>\n",
       "    .dataframe tbody tr th:only-of-type {\n",
       "        vertical-align: middle;\n",
       "    }\n",
       "\n",
       "    .dataframe tbody tr th {\n",
       "        vertical-align: top;\n",
       "    }\n",
       "\n",
       "    .dataframe thead th {\n",
       "        text-align: right;\n",
       "    }\n",
       "</style>\n",
       "<table border=\"1\" class=\"dataframe\">\n",
       "  <thead>\n",
       "    <tr style=\"text-align: right;\">\n",
       "      <th></th>\n",
       "      <th>0</th>\n",
       "      <th>1</th>\n",
       "      <th>micro avg</th>\n",
       "      <th>macro avg</th>\n",
       "      <th>weighted avg</th>\n",
       "    </tr>\n",
       "  </thead>\n",
       "  <tbody>\n",
       "    <tr>\n",
       "      <th>f1-score</th>\n",
       "      <td>0.909</td>\n",
       "      <td>0.579</td>\n",
       "      <td>0.851</td>\n",
       "      <td>0.744</td>\n",
       "      <td>0.861</td>\n",
       "    </tr>\n",
       "    <tr>\n",
       "      <th>precision</th>\n",
       "      <td>0.946</td>\n",
       "      <td>0.491</td>\n",
       "      <td>0.851</td>\n",
       "      <td>0.718</td>\n",
       "      <td>0.880</td>\n",
       "    </tr>\n",
       "    <tr>\n",
       "      <th>recall</th>\n",
       "      <td>0.875</td>\n",
       "      <td>0.707</td>\n",
       "      <td>0.851</td>\n",
       "      <td>0.791</td>\n",
       "      <td>0.851</td>\n",
       "    </tr>\n",
       "    <tr>\n",
       "      <th>support</th>\n",
       "      <td>5025.000</td>\n",
       "      <td>856.000</td>\n",
       "      <td>5881.000</td>\n",
       "      <td>5881.000</td>\n",
       "      <td>5881.000</td>\n",
       "    </tr>\n",
       "  </tbody>\n",
       "</table>\n",
       "</div>"
      ],
      "text/plain": [
       "                  0        1  micro avg  macro avg  weighted avg\n",
       "f1-score      0.909    0.579      0.851      0.744         0.861\n",
       "precision     0.946    0.491      0.851      0.718         0.880\n",
       "recall        0.875    0.707      0.851      0.791         0.851\n",
       "support    5025.000  856.000   5881.000   5881.000      5881.000"
      ]
     },
     "metadata": {},
     "output_type": "display_data"
    },
    {
     "name": "stdout",
     "output_type": "stream",
     "text": [
      "Model Saved on  roc_auc 0.8895861812433161\n"
     ]
    },
    {
     "data": {
      "application/vnd.jupyter.widget-view+json": {
       "model_id": "94c529ec626b47099900cc0ce1308b6c",
       "version_major": 2,
       "version_minor": 0
      },
      "text/plain": [
       "HBox(children=(IntProgress(value=0, max=736), HTML(value='')))"
      ]
     },
     "metadata": {},
     "output_type": "display_data"
    },
    {
     "data": {
      "application/vnd.jupyter.widget-view+json": {
       "model_id": "4afa2141ecb24333a34c93cff345c2bd",
       "version_major": 2,
       "version_minor": 0
      },
      "text/plain": [
       "HBox(children=(IntProgress(value=0, max=184), HTML(value='')))"
      ]
     },
     "metadata": {},
     "output_type": "display_data"
    },
    {
     "name": "stdout",
     "output_type": "stream",
     "text": [
      "{'accuracy': 0.876381567760585, 'roc_auc': 0.9297714697540337, 'pr_auc': 0.7863292639459716}\n"
     ]
    },
    {
     "data": {
      "text/html": [
       "<div>\n",
       "<style scoped>\n",
       "    .dataframe tbody tr th:only-of-type {\n",
       "        vertical-align: middle;\n",
       "    }\n",
       "\n",
       "    .dataframe tbody tr th {\n",
       "        vertical-align: top;\n",
       "    }\n",
       "\n",
       "    .dataframe thead th {\n",
       "        text-align: right;\n",
       "    }\n",
       "</style>\n",
       "<table border=\"1\" class=\"dataframe\">\n",
       "  <thead>\n",
       "    <tr style=\"text-align: right;\">\n",
       "      <th></th>\n",
       "      <th>0</th>\n",
       "      <th>1</th>\n",
       "      <th>micro avg</th>\n",
       "      <th>macro avg</th>\n",
       "      <th>weighted avg</th>\n",
       "    </tr>\n",
       "  </thead>\n",
       "  <tbody>\n",
       "    <tr>\n",
       "      <th>f1-score</th>\n",
       "      <td>0.924</td>\n",
       "      <td>0.660</td>\n",
       "      <td>0.876</td>\n",
       "      <td>0.792</td>\n",
       "      <td>0.886</td>\n",
       "    </tr>\n",
       "    <tr>\n",
       "      <th>precision</th>\n",
       "      <td>0.967</td>\n",
       "      <td>0.550</td>\n",
       "      <td>0.876</td>\n",
       "      <td>0.759</td>\n",
       "      <td>0.907</td>\n",
       "    </tr>\n",
       "    <tr>\n",
       "      <th>recall</th>\n",
       "      <td>0.885</td>\n",
       "      <td>0.825</td>\n",
       "      <td>0.876</td>\n",
       "      <td>0.855</td>\n",
       "      <td>0.876</td>\n",
       "    </tr>\n",
       "    <tr>\n",
       "      <th>support</th>\n",
       "      <td>5025.000</td>\n",
       "      <td>856.000</td>\n",
       "      <td>5881.000</td>\n",
       "      <td>5881.000</td>\n",
       "      <td>5881.000</td>\n",
       "    </tr>\n",
       "  </tbody>\n",
       "</table>\n",
       "</div>"
      ],
      "text/plain": [
       "                  0        1  micro avg  macro avg  weighted avg\n",
       "f1-score      0.924    0.660      0.876      0.792         0.886\n",
       "precision     0.967    0.550      0.876      0.759         0.907\n",
       "recall        0.885    0.825      0.876      0.855         0.876\n",
       "support    5025.000  856.000   5881.000   5881.000      5881.000"
      ]
     },
     "metadata": {},
     "output_type": "display_data"
    },
    {
     "name": "stdout",
     "output_type": "stream",
     "text": [
      "Model Saved on  roc_auc 0.9297714697540337\n"
     ]
    },
    {
     "data": {
      "application/vnd.jupyter.widget-view+json": {
       "model_id": "08e1827adb884627bcb353b2c1be767f",
       "version_major": 2,
       "version_minor": 0
      },
      "text/plain": [
       "HBox(children=(IntProgress(value=0, max=736), HTML(value='')))"
      ]
     },
     "metadata": {},
     "output_type": "display_data"
    },
    {
     "data": {
      "application/vnd.jupyter.widget-view+json": {
       "model_id": "81e5f411bfc54bcd8e1c0b037598f905",
       "version_major": 2,
       "version_minor": 0
      },
      "text/plain": [
       "HBox(children=(IntProgress(value=0, max=184), HTML(value='')))"
      ]
     },
     "metadata": {},
     "output_type": "display_data"
    },
    {
     "name": "stdout",
     "output_type": "stream",
     "text": [
      "{'accuracy': 0.8779119197415406, 'roc_auc': 0.9276544845864139, 'pr_auc': 0.7883839298246231}\n"
     ]
    },
    {
     "data": {
      "text/html": [
       "<div>\n",
       "<style scoped>\n",
       "    .dataframe tbody tr th:only-of-type {\n",
       "        vertical-align: middle;\n",
       "    }\n",
       "\n",
       "    .dataframe tbody tr th {\n",
       "        vertical-align: top;\n",
       "    }\n",
       "\n",
       "    .dataframe thead th {\n",
       "        text-align: right;\n",
       "    }\n",
       "</style>\n",
       "<table border=\"1\" class=\"dataframe\">\n",
       "  <thead>\n",
       "    <tr style=\"text-align: right;\">\n",
       "      <th></th>\n",
       "      <th>0</th>\n",
       "      <th>1</th>\n",
       "      <th>micro avg</th>\n",
       "      <th>macro avg</th>\n",
       "      <th>weighted avg</th>\n",
       "    </tr>\n",
       "  </thead>\n",
       "  <tbody>\n",
       "    <tr>\n",
       "      <th>f1-score</th>\n",
       "      <td>0.926</td>\n",
       "      <td>0.655</td>\n",
       "      <td>0.878</td>\n",
       "      <td>0.790</td>\n",
       "      <td>0.886</td>\n",
       "    </tr>\n",
       "    <tr>\n",
       "      <th>precision</th>\n",
       "      <td>0.963</td>\n",
       "      <td>0.556</td>\n",
       "      <td>0.878</td>\n",
       "      <td>0.759</td>\n",
       "      <td>0.903</td>\n",
       "    </tr>\n",
       "    <tr>\n",
       "      <th>recall</th>\n",
       "      <td>0.892</td>\n",
       "      <td>0.797</td>\n",
       "      <td>0.878</td>\n",
       "      <td>0.844</td>\n",
       "      <td>0.878</td>\n",
       "    </tr>\n",
       "    <tr>\n",
       "      <th>support</th>\n",
       "      <td>5025.000</td>\n",
       "      <td>856.000</td>\n",
       "      <td>5881.000</td>\n",
       "      <td>5881.000</td>\n",
       "      <td>5881.000</td>\n",
       "    </tr>\n",
       "  </tbody>\n",
       "</table>\n",
       "</div>"
      ],
      "text/plain": [
       "                  0        1  micro avg  macro avg  weighted avg\n",
       "f1-score      0.926    0.655      0.878      0.790         0.886\n",
       "precision     0.963    0.556      0.878      0.759         0.903\n",
       "recall        0.892    0.797      0.878      0.844         0.878\n",
       "support    5025.000  856.000   5881.000   5881.000      5881.000"
      ]
     },
     "metadata": {},
     "output_type": "display_data"
    },
    {
     "name": "stdout",
     "output_type": "stream",
     "text": [
      "Model not saved on  roc_auc 0.9276544845864139\n"
     ]
    },
    {
     "data": {
      "application/vnd.jupyter.widget-view+json": {
       "model_id": "49e8ed597191410b9d50e82dba9afc6f",
       "version_major": 2,
       "version_minor": 0
      },
      "text/plain": [
       "HBox(children=(IntProgress(value=0, max=736), HTML(value='')))"
      ]
     },
     "metadata": {},
     "output_type": "display_data"
    },
    {
     "data": {
      "application/vnd.jupyter.widget-view+json": {
       "model_id": "f8d148e5dc4341218bb049ef6ca23444",
       "version_major": 2,
       "version_minor": 0
      },
      "text/plain": [
       "HBox(children=(IntProgress(value=0, max=184), HTML(value='')))"
      ]
     },
     "metadata": {},
     "output_type": "display_data"
    },
    {
     "name": "stdout",
     "output_type": "stream",
     "text": [
      "{'accuracy': 0.8940656350960721, 'roc_auc': 0.9164860278049007, 'pr_auc': 0.7735482905418402}\n"
     ]
    },
    {
     "data": {
      "text/html": [
       "<div>\n",
       "<style scoped>\n",
       "    .dataframe tbody tr th:only-of-type {\n",
       "        vertical-align: middle;\n",
       "    }\n",
       "\n",
       "    .dataframe tbody tr th {\n",
       "        vertical-align: top;\n",
       "    }\n",
       "\n",
       "    .dataframe thead th {\n",
       "        text-align: right;\n",
       "    }\n",
       "</style>\n",
       "<table border=\"1\" class=\"dataframe\">\n",
       "  <thead>\n",
       "    <tr style=\"text-align: right;\">\n",
       "      <th></th>\n",
       "      <th>0</th>\n",
       "      <th>1</th>\n",
       "      <th>micro avg</th>\n",
       "      <th>macro avg</th>\n",
       "      <th>weighted avg</th>\n",
       "    </tr>\n",
       "  </thead>\n",
       "  <tbody>\n",
       "    <tr>\n",
       "      <th>f1-score</th>\n",
       "      <td>0.937</td>\n",
       "      <td>0.672</td>\n",
       "      <td>0.894</td>\n",
       "      <td>0.805</td>\n",
       "      <td>0.898</td>\n",
       "    </tr>\n",
       "    <tr>\n",
       "      <th>precision</th>\n",
       "      <td>0.955</td>\n",
       "      <td>0.611</td>\n",
       "      <td>0.894</td>\n",
       "      <td>0.783</td>\n",
       "      <td>0.905</td>\n",
       "    </tr>\n",
       "    <tr>\n",
       "      <th>recall</th>\n",
       "      <td>0.919</td>\n",
       "      <td>0.746</td>\n",
       "      <td>0.894</td>\n",
       "      <td>0.833</td>\n",
       "      <td>0.894</td>\n",
       "    </tr>\n",
       "    <tr>\n",
       "      <th>support</th>\n",
       "      <td>5025.000</td>\n",
       "      <td>856.000</td>\n",
       "      <td>5881.000</td>\n",
       "      <td>5881.000</td>\n",
       "      <td>5881.000</td>\n",
       "    </tr>\n",
       "  </tbody>\n",
       "</table>\n",
       "</div>"
      ],
      "text/plain": [
       "                  0        1  micro avg  macro avg  weighted avg\n",
       "f1-score      0.937    0.672      0.894      0.805         0.898\n",
       "precision     0.955    0.611      0.894      0.783         0.905\n",
       "recall        0.919    0.746      0.894      0.833         0.894\n",
       "support    5025.000  856.000   5881.000   5881.000      5881.000"
      ]
     },
     "metadata": {},
     "output_type": "display_data"
    },
    {
     "name": "stdout",
     "output_type": "stream",
     "text": [
      "Model not saved on  roc_auc 0.9164860278049007\n"
     ]
    },
    {
     "data": {
      "application/vnd.jupyter.widget-view+json": {
       "model_id": "1a5630b9d5a84de0b7948d74580bc579",
       "version_major": 2,
       "version_minor": 0
      },
      "text/plain": [
       "HBox(children=(IntProgress(value=0, max=736), HTML(value='')))"
      ]
     },
     "metadata": {},
     "output_type": "display_data"
    },
    {
     "data": {
      "application/vnd.jupyter.widget-view+json": {
       "model_id": "35504ba1dd82410b8bddb7a2fe46a921",
       "version_major": 2,
       "version_minor": 0
      },
      "text/plain": [
       "HBox(children=(IntProgress(value=0, max=184), HTML(value='')))"
      ]
     },
     "metadata": {},
     "output_type": "display_data"
    },
    {
     "name": "stdout",
     "output_type": "stream",
     "text": [
      "{'accuracy': 0.8966162217309981, 'roc_auc': 0.9153362858604175, 'pr_auc': 0.7758676409665637}\n"
     ]
    },
    {
     "data": {
      "text/html": [
       "<div>\n",
       "<style scoped>\n",
       "    .dataframe tbody tr th:only-of-type {\n",
       "        vertical-align: middle;\n",
       "    }\n",
       "\n",
       "    .dataframe tbody tr th {\n",
       "        vertical-align: top;\n",
       "    }\n",
       "\n",
       "    .dataframe thead th {\n",
       "        text-align: right;\n",
       "    }\n",
       "</style>\n",
       "<table border=\"1\" class=\"dataframe\">\n",
       "  <thead>\n",
       "    <tr style=\"text-align: right;\">\n",
       "      <th></th>\n",
       "      <th>0</th>\n",
       "      <th>1</th>\n",
       "      <th>micro avg</th>\n",
       "      <th>macro avg</th>\n",
       "      <th>weighted avg</th>\n",
       "    </tr>\n",
       "  </thead>\n",
       "  <tbody>\n",
       "    <tr>\n",
       "      <th>f1-score</th>\n",
       "      <td>0.938</td>\n",
       "      <td>0.678</td>\n",
       "      <td>0.897</td>\n",
       "      <td>0.808</td>\n",
       "      <td>0.901</td>\n",
       "    </tr>\n",
       "    <tr>\n",
       "      <th>precision</th>\n",
       "      <td>0.955</td>\n",
       "      <td>0.620</td>\n",
       "      <td>0.897</td>\n",
       "      <td>0.788</td>\n",
       "      <td>0.907</td>\n",
       "    </tr>\n",
       "    <tr>\n",
       "      <th>recall</th>\n",
       "      <td>0.922</td>\n",
       "      <td>0.748</td>\n",
       "      <td>0.897</td>\n",
       "      <td>0.835</td>\n",
       "      <td>0.897</td>\n",
       "    </tr>\n",
       "    <tr>\n",
       "      <th>support</th>\n",
       "      <td>5025.000</td>\n",
       "      <td>856.000</td>\n",
       "      <td>5881.000</td>\n",
       "      <td>5881.000</td>\n",
       "      <td>5881.000</td>\n",
       "    </tr>\n",
       "  </tbody>\n",
       "</table>\n",
       "</div>"
      ],
      "text/plain": [
       "                  0        1  micro avg  macro avg  weighted avg\n",
       "f1-score      0.938    0.678      0.897      0.808         0.901\n",
       "precision     0.955    0.620      0.897      0.788         0.907\n",
       "recall        0.922    0.748      0.897      0.835         0.897\n",
       "support    5025.000  856.000   5881.000   5881.000      5881.000"
      ]
     },
     "metadata": {},
     "output_type": "display_data"
    },
    {
     "name": "stdout",
     "output_type": "stream",
     "text": [
      "Model not saved on  roc_auc 0.9153362858604175\n"
     ]
    },
    {
     "data": {
      "application/vnd.jupyter.widget-view+json": {
       "model_id": "0223a2a7bb6b4c33bc828fad488ee806",
       "version_major": 2,
       "version_minor": 0
      },
      "text/plain": [
       "HBox(children=(IntProgress(value=0, max=736), HTML(value='')))"
      ]
     },
     "metadata": {},
     "output_type": "display_data"
    },
    {
     "data": {
      "application/vnd.jupyter.widget-view+json": {
       "model_id": "04b1298ac1e945ca8258fb3e099c4d66",
       "version_major": 2,
       "version_minor": 0
      },
      "text/plain": [
       "HBox(children=(IntProgress(value=0, max=184), HTML(value='')))"
      ]
     },
     "metadata": {},
     "output_type": "display_data"
    },
    {
     "name": "stdout",
     "output_type": "stream",
     "text": [
      "{'accuracy': 0.881312701921442, 'roc_auc': 0.9046616217975543, 'pr_auc': 0.7448447841081922}\n"
     ]
    },
    {
     "data": {
      "text/html": [
       "<div>\n",
       "<style scoped>\n",
       "    .dataframe tbody tr th:only-of-type {\n",
       "        vertical-align: middle;\n",
       "    }\n",
       "\n",
       "    .dataframe tbody tr th {\n",
       "        vertical-align: top;\n",
       "    }\n",
       "\n",
       "    .dataframe thead th {\n",
       "        text-align: right;\n",
       "    }\n",
       "</style>\n",
       "<table border=\"1\" class=\"dataframe\">\n",
       "  <thead>\n",
       "    <tr style=\"text-align: right;\">\n",
       "      <th></th>\n",
       "      <th>0</th>\n",
       "      <th>1</th>\n",
       "      <th>micro avg</th>\n",
       "      <th>macro avg</th>\n",
       "      <th>weighted avg</th>\n",
       "    </tr>\n",
       "  </thead>\n",
       "  <tbody>\n",
       "    <tr>\n",
       "      <th>f1-score</th>\n",
       "      <td>0.929</td>\n",
       "      <td>0.647</td>\n",
       "      <td>0.881</td>\n",
       "      <td>0.788</td>\n",
       "      <td>0.888</td>\n",
       "    </tr>\n",
       "    <tr>\n",
       "      <th>precision</th>\n",
       "      <td>0.955</td>\n",
       "      <td>0.570</td>\n",
       "      <td>0.881</td>\n",
       "      <td>0.763</td>\n",
       "      <td>0.899</td>\n",
       "    </tr>\n",
       "    <tr>\n",
       "      <th>recall</th>\n",
       "      <td>0.904</td>\n",
       "      <td>0.748</td>\n",
       "      <td>0.881</td>\n",
       "      <td>0.826</td>\n",
       "      <td>0.881</td>\n",
       "    </tr>\n",
       "    <tr>\n",
       "      <th>support</th>\n",
       "      <td>5025.000</td>\n",
       "      <td>856.000</td>\n",
       "      <td>5881.000</td>\n",
       "      <td>5881.000</td>\n",
       "      <td>5881.000</td>\n",
       "    </tr>\n",
       "  </tbody>\n",
       "</table>\n",
       "</div>"
      ],
      "text/plain": [
       "                  0        1  micro avg  macro avg  weighted avg\n",
       "f1-score      0.929    0.647      0.881      0.788         0.888\n",
       "precision     0.955    0.570      0.881      0.763         0.899\n",
       "recall        0.904    0.748      0.881      0.826         0.881\n",
       "support    5025.000  856.000   5881.000   5881.000      5881.000"
      ]
     },
     "metadata": {},
     "output_type": "display_data"
    },
    {
     "name": "stdout",
     "output_type": "stream",
     "text": [
      "Model not saved on  roc_auc 0.9046616217975543\n"
     ]
    },
    {
     "data": {
      "application/vnd.jupyter.widget-view+json": {
       "model_id": "e728a73ead5247dea5d12a28651413de",
       "version_major": 2,
       "version_minor": 0
      },
      "text/plain": [
       "HBox(children=(IntProgress(value=0, max=736), HTML(value='')))"
      ]
     },
     "metadata": {},
     "output_type": "display_data"
    },
    {
     "data": {
      "application/vnd.jupyter.widget-view+json": {
       "model_id": "92012c86d0834978beafbcfaa23b1eed",
       "version_major": 2,
       "version_minor": 0
      },
      "text/plain": [
       "HBox(children=(IntProgress(value=0, max=184), HTML(value='')))"
      ]
     },
     "metadata": {},
     "output_type": "display_data"
    },
    {
     "name": "stdout",
     "output_type": "stream",
     "text": [
      "{'accuracy': 0.8855636796463187, 'roc_auc': 0.9006946575533548, 'pr_auc': 0.7508547724657388}\n"
     ]
    },
    {
     "data": {
      "text/html": [
       "<div>\n",
       "<style scoped>\n",
       "    .dataframe tbody tr th:only-of-type {\n",
       "        vertical-align: middle;\n",
       "    }\n",
       "\n",
       "    .dataframe tbody tr th {\n",
       "        vertical-align: top;\n",
       "    }\n",
       "\n",
       "    .dataframe thead th {\n",
       "        text-align: right;\n",
       "    }\n",
       "</style>\n",
       "<table border=\"1\" class=\"dataframe\">\n",
       "  <thead>\n",
       "    <tr style=\"text-align: right;\">\n",
       "      <th></th>\n",
       "      <th>0</th>\n",
       "      <th>1</th>\n",
       "      <th>micro avg</th>\n",
       "      <th>macro avg</th>\n",
       "      <th>weighted avg</th>\n",
       "    </tr>\n",
       "  </thead>\n",
       "  <tbody>\n",
       "    <tr>\n",
       "      <th>f1-score</th>\n",
       "      <td>0.931</td>\n",
       "      <td>0.655</td>\n",
       "      <td>0.886</td>\n",
       "      <td>0.793</td>\n",
       "      <td>0.891</td>\n",
       "    </tr>\n",
       "    <tr>\n",
       "      <th>precision</th>\n",
       "      <td>0.954</td>\n",
       "      <td>0.584</td>\n",
       "      <td>0.886</td>\n",
       "      <td>0.769</td>\n",
       "      <td>0.901</td>\n",
       "    </tr>\n",
       "    <tr>\n",
       "      <th>recall</th>\n",
       "      <td>0.909</td>\n",
       "      <td>0.745</td>\n",
       "      <td>0.886</td>\n",
       "      <td>0.827</td>\n",
       "      <td>0.886</td>\n",
       "    </tr>\n",
       "    <tr>\n",
       "      <th>support</th>\n",
       "      <td>5025.000</td>\n",
       "      <td>856.000</td>\n",
       "      <td>5881.000</td>\n",
       "      <td>5881.000</td>\n",
       "      <td>5881.000</td>\n",
       "    </tr>\n",
       "  </tbody>\n",
       "</table>\n",
       "</div>"
      ],
      "text/plain": [
       "                  0        1  micro avg  macro avg  weighted avg\n",
       "f1-score      0.931    0.655      0.886      0.793         0.891\n",
       "precision     0.954    0.584      0.886      0.769         0.901\n",
       "recall        0.909    0.745      0.886      0.827         0.886\n",
       "support    5025.000  856.000   5881.000   5881.000      5881.000"
      ]
     },
     "metadata": {},
     "output_type": "display_data"
    },
    {
     "name": "stdout",
     "output_type": "stream",
     "text": [
      "Model not saved on  roc_auc 0.9006946575533548\n"
     ]
    },
    {
     "data": {
      "application/vnd.jupyter.widget-view+json": {
       "model_id": "84fee2868fd64b3cafb66ea12cf68a06",
       "version_major": 2,
       "version_minor": 0
      },
      "text/plain": [
       "HBox(children=(IntProgress(value=0, max=736), HTML(value='')))"
      ]
     },
     "metadata": {},
     "output_type": "display_data"
    },
    {
     "data": {
      "application/vnd.jupyter.widget-view+json": {
       "model_id": "e8bf80196fbf46e4a936835d1f5e2142",
       "version_major": 2,
       "version_minor": 0
      },
      "text/plain": [
       "HBox(children=(IntProgress(value=0, max=184), HTML(value='')))"
      ]
     },
     "metadata": {},
     "output_type": "display_data"
    },
    {
     "name": "stdout",
     "output_type": "stream",
     "text": [
      "{'accuracy': 0.9097092331236184, 'roc_auc': 0.8931002696796392, 'pr_auc': 0.7456972870419388}\n"
     ]
    },
    {
     "data": {
      "text/html": [
       "<div>\n",
       "<style scoped>\n",
       "    .dataframe tbody tr th:only-of-type {\n",
       "        vertical-align: middle;\n",
       "    }\n",
       "\n",
       "    .dataframe tbody tr th {\n",
       "        vertical-align: top;\n",
       "    }\n",
       "\n",
       "    .dataframe thead th {\n",
       "        text-align: right;\n",
       "    }\n",
       "</style>\n",
       "<table border=\"1\" class=\"dataframe\">\n",
       "  <thead>\n",
       "    <tr style=\"text-align: right;\">\n",
       "      <th></th>\n",
       "      <th>0</th>\n",
       "      <th>1</th>\n",
       "      <th>micro avg</th>\n",
       "      <th>macro avg</th>\n",
       "      <th>weighted avg</th>\n",
       "    </tr>\n",
       "  </thead>\n",
       "  <tbody>\n",
       "    <tr>\n",
       "      <th>f1-score</th>\n",
       "      <td>0.947</td>\n",
       "      <td>0.683</td>\n",
       "      <td>0.91</td>\n",
       "      <td>0.815</td>\n",
       "      <td>0.909</td>\n",
       "    </tr>\n",
       "    <tr>\n",
       "      <th>precision</th>\n",
       "      <td>0.944</td>\n",
       "      <td>0.699</td>\n",
       "      <td>0.91</td>\n",
       "      <td>0.821</td>\n",
       "      <td>0.908</td>\n",
       "    </tr>\n",
       "    <tr>\n",
       "      <th>recall</th>\n",
       "      <td>0.951</td>\n",
       "      <td>0.667</td>\n",
       "      <td>0.91</td>\n",
       "      <td>0.809</td>\n",
       "      <td>0.910</td>\n",
       "    </tr>\n",
       "    <tr>\n",
       "      <th>support</th>\n",
       "      <td>5025.000</td>\n",
       "      <td>856.000</td>\n",
       "      <td>5881.00</td>\n",
       "      <td>5881.000</td>\n",
       "      <td>5881.000</td>\n",
       "    </tr>\n",
       "  </tbody>\n",
       "</table>\n",
       "</div>"
      ],
      "text/plain": [
       "                  0        1  micro avg  macro avg  weighted avg\n",
       "f1-score      0.947    0.683       0.91      0.815         0.909\n",
       "precision     0.944    0.699       0.91      0.821         0.908\n",
       "recall        0.951    0.667       0.91      0.809         0.910\n",
       "support    5025.000  856.000    5881.00   5881.000      5881.000"
      ]
     },
     "metadata": {},
     "output_type": "display_data"
    },
    {
     "name": "stdout",
     "output_type": "stream",
     "text": [
      "Model not saved on  roc_auc 0.8931002696796392\n"
     ]
    },
    {
     "data": {
      "application/vnd.jupyter.widget-view+json": {
       "model_id": "46777aecb9e845d487a4e30d2baa6f01",
       "version_major": 2,
       "version_minor": 0
      },
      "text/plain": [
       "HBox(children=(IntProgress(value=0, max=736), HTML(value='')))"
      ]
     },
     "metadata": {},
     "output_type": "display_data"
    },
    {
     "data": {
      "application/vnd.jupyter.widget-view+json": {
       "model_id": "aa700ae8c6f643c2af9240e6907ddcc1",
       "version_major": 2,
       "version_minor": 0
      },
      "text/plain": [
       "HBox(children=(IntProgress(value=0, max=184), HTML(value='')))"
      ]
     },
     "metadata": {},
     "output_type": "display_data"
    },
    {
     "name": "stdout",
     "output_type": "stream",
     "text": [
      "{'accuracy': 0.90137731678286, 'roc_auc': 0.8963817594271632, 'pr_auc': 0.7452140975959006}\n"
     ]
    },
    {
     "data": {
      "text/html": [
       "<div>\n",
       "<style scoped>\n",
       "    .dataframe tbody tr th:only-of-type {\n",
       "        vertical-align: middle;\n",
       "    }\n",
       "\n",
       "    .dataframe tbody tr th {\n",
       "        vertical-align: top;\n",
       "    }\n",
       "\n",
       "    .dataframe thead th {\n",
       "        text-align: right;\n",
       "    }\n",
       "</style>\n",
       "<table border=\"1\" class=\"dataframe\">\n",
       "  <thead>\n",
       "    <tr style=\"text-align: right;\">\n",
       "      <th></th>\n",
       "      <th>0</th>\n",
       "      <th>1</th>\n",
       "      <th>micro avg</th>\n",
       "      <th>macro avg</th>\n",
       "      <th>weighted avg</th>\n",
       "    </tr>\n",
       "  </thead>\n",
       "  <tbody>\n",
       "    <tr>\n",
       "      <th>f1-score</th>\n",
       "      <td>0.942</td>\n",
       "      <td>0.676</td>\n",
       "      <td>0.901</td>\n",
       "      <td>0.809</td>\n",
       "      <td>0.903</td>\n",
       "    </tr>\n",
       "    <tr>\n",
       "      <th>precision</th>\n",
       "      <td>0.949</td>\n",
       "      <td>0.648</td>\n",
       "      <td>0.901</td>\n",
       "      <td>0.799</td>\n",
       "      <td>0.905</td>\n",
       "    </tr>\n",
       "    <tr>\n",
       "      <th>recall</th>\n",
       "      <td>0.935</td>\n",
       "      <td>0.706</td>\n",
       "      <td>0.901</td>\n",
       "      <td>0.820</td>\n",
       "      <td>0.901</td>\n",
       "    </tr>\n",
       "    <tr>\n",
       "      <th>support</th>\n",
       "      <td>5025.000</td>\n",
       "      <td>856.000</td>\n",
       "      <td>5881.000</td>\n",
       "      <td>5881.000</td>\n",
       "      <td>5881.000</td>\n",
       "    </tr>\n",
       "  </tbody>\n",
       "</table>\n",
       "</div>"
      ],
      "text/plain": [
       "                  0        1  micro avg  macro avg  weighted avg\n",
       "f1-score      0.942    0.676      0.901      0.809         0.903\n",
       "precision     0.949    0.648      0.901      0.799         0.905\n",
       "recall        0.935    0.706      0.901      0.820         0.901\n",
       "support    5025.000  856.000   5881.000   5881.000      5881.000"
      ]
     },
     "metadata": {},
     "output_type": "display_data"
    },
    {
     "name": "stdout",
     "output_type": "stream",
     "text": [
      "Model not saved on  roc_auc 0.8963817594271632\n"
     ]
    },
    {
     "data": {
      "application/vnd.jupyter.widget-view+json": {
       "model_id": "7df7060fa33c4a0b86b2d8e1fa868762",
       "version_major": 2,
       "version_minor": 0
      },
      "text/plain": [
       "HBox(children=(IntProgress(value=0, max=736), HTML(value='')))"
      ]
     },
     "metadata": {},
     "output_type": "display_data"
    },
    {
     "data": {
      "application/vnd.jupyter.widget-view+json": {
       "model_id": "8dc7a291365346fcbaa9d886f05cc619",
       "version_major": 2,
       "version_minor": 0
      },
      "text/plain": [
       "HBox(children=(IntProgress(value=0, max=184), HTML(value='')))"
      ]
     },
     "metadata": {},
     "output_type": "display_data"
    },
    {
     "name": "stdout",
     "output_type": "stream",
     "text": [
      "{'accuracy': 0.906138411834722, 'roc_auc': 0.898254754266053, 'pr_auc': 0.7455573385240256}\n"
     ]
    },
    {
     "data": {
      "text/html": [
       "<div>\n",
       "<style scoped>\n",
       "    .dataframe tbody tr th:only-of-type {\n",
       "        vertical-align: middle;\n",
       "    }\n",
       "\n",
       "    .dataframe tbody tr th {\n",
       "        vertical-align: top;\n",
       "    }\n",
       "\n",
       "    .dataframe thead th {\n",
       "        text-align: right;\n",
       "    }\n",
       "</style>\n",
       "<table border=\"1\" class=\"dataframe\">\n",
       "  <thead>\n",
       "    <tr style=\"text-align: right;\">\n",
       "      <th></th>\n",
       "      <th>0</th>\n",
       "      <th>1</th>\n",
       "      <th>micro avg</th>\n",
       "      <th>macro avg</th>\n",
       "      <th>weighted avg</th>\n",
       "    </tr>\n",
       "  </thead>\n",
       "  <tbody>\n",
       "    <tr>\n",
       "      <th>f1-score</th>\n",
       "      <td>0.945</td>\n",
       "      <td>0.688</td>\n",
       "      <td>0.906</td>\n",
       "      <td>0.816</td>\n",
       "      <td>0.907</td>\n",
       "    </tr>\n",
       "    <tr>\n",
       "      <th>precision</th>\n",
       "      <td>0.950</td>\n",
       "      <td>0.667</td>\n",
       "      <td>0.906</td>\n",
       "      <td>0.808</td>\n",
       "      <td>0.909</td>\n",
       "    </tr>\n",
       "    <tr>\n",
       "      <th>recall</th>\n",
       "      <td>0.940</td>\n",
       "      <td>0.710</td>\n",
       "      <td>0.906</td>\n",
       "      <td>0.825</td>\n",
       "      <td>0.906</td>\n",
       "    </tr>\n",
       "    <tr>\n",
       "      <th>support</th>\n",
       "      <td>5025.000</td>\n",
       "      <td>856.000</td>\n",
       "      <td>5881.000</td>\n",
       "      <td>5881.000</td>\n",
       "      <td>5881.000</td>\n",
       "    </tr>\n",
       "  </tbody>\n",
       "</table>\n",
       "</div>"
      ],
      "text/plain": [
       "                  0        1  micro avg  macro avg  weighted avg\n",
       "f1-score      0.945    0.688      0.906      0.816         0.907\n",
       "precision     0.950    0.667      0.906      0.808         0.909\n",
       "recall        0.940    0.710      0.906      0.825         0.906\n",
       "support    5025.000  856.000   5881.000   5881.000      5881.000"
      ]
     },
     "metadata": {},
     "output_type": "display_data"
    },
    {
     "name": "stdout",
     "output_type": "stream",
     "text": [
      "Model not saved on  roc_auc 0.898254754266053\n"
     ]
    },
    {
     "data": {
      "application/vnd.jupyter.widget-view+json": {
       "model_id": "e8a5301ac7c8417bab0c36950428f714",
       "version_major": 2,
       "version_minor": 0
      },
      "text/plain": [
       "HBox(children=(IntProgress(value=0, max=736), HTML(value='')))"
      ]
     },
     "metadata": {},
     "output_type": "display_data"
    },
    {
     "data": {
      "application/vnd.jupyter.widget-view+json": {
       "model_id": "c4b70025a000421e8c05b74e820d4f88",
       "version_major": 2,
       "version_minor": 0
      },
      "text/plain": [
       "HBox(children=(IntProgress(value=0, max=184), HTML(value='')))"
      ]
     },
     "metadata": {},
     "output_type": "display_data"
    },
    {
     "name": "stdout",
     "output_type": "stream",
     "text": [
      "{'accuracy': 0.8933854786600918, 'roc_auc': 0.8951816850327801, 'pr_auc': 0.7218502092250708}\n"
     ]
    },
    {
     "data": {
      "text/html": [
       "<div>\n",
       "<style scoped>\n",
       "    .dataframe tbody tr th:only-of-type {\n",
       "        vertical-align: middle;\n",
       "    }\n",
       "\n",
       "    .dataframe tbody tr th {\n",
       "        vertical-align: top;\n",
       "    }\n",
       "\n",
       "    .dataframe thead th {\n",
       "        text-align: right;\n",
       "    }\n",
       "</style>\n",
       "<table border=\"1\" class=\"dataframe\">\n",
       "  <thead>\n",
       "    <tr style=\"text-align: right;\">\n",
       "      <th></th>\n",
       "      <th>0</th>\n",
       "      <th>1</th>\n",
       "      <th>micro avg</th>\n",
       "      <th>macro avg</th>\n",
       "      <th>weighted avg</th>\n",
       "    </tr>\n",
       "  </thead>\n",
       "  <tbody>\n",
       "    <tr>\n",
       "      <th>f1-score</th>\n",
       "      <td>0.937</td>\n",
       "      <td>0.655</td>\n",
       "      <td>0.893</td>\n",
       "      <td>0.796</td>\n",
       "      <td>0.896</td>\n",
       "    </tr>\n",
       "    <tr>\n",
       "      <th>precision</th>\n",
       "      <td>0.947</td>\n",
       "      <td>0.619</td>\n",
       "      <td>0.893</td>\n",
       "      <td>0.783</td>\n",
       "      <td>0.899</td>\n",
       "    </tr>\n",
       "    <tr>\n",
       "      <th>recall</th>\n",
       "      <td>0.927</td>\n",
       "      <td>0.696</td>\n",
       "      <td>0.893</td>\n",
       "      <td>0.812</td>\n",
       "      <td>0.893</td>\n",
       "    </tr>\n",
       "    <tr>\n",
       "      <th>support</th>\n",
       "      <td>5025.000</td>\n",
       "      <td>856.000</td>\n",
       "      <td>5881.000</td>\n",
       "      <td>5881.000</td>\n",
       "      <td>5881.000</td>\n",
       "    </tr>\n",
       "  </tbody>\n",
       "</table>\n",
       "</div>"
      ],
      "text/plain": [
       "                  0        1  micro avg  macro avg  weighted avg\n",
       "f1-score      0.937    0.655      0.893      0.796         0.896\n",
       "precision     0.947    0.619      0.893      0.783         0.899\n",
       "recall        0.927    0.696      0.893      0.812         0.893\n",
       "support    5025.000  856.000   5881.000   5881.000      5881.000"
      ]
     },
     "metadata": {},
     "output_type": "display_data"
    },
    {
     "name": "stdout",
     "output_type": "stream",
     "text": [
      "Model not saved on  roc_auc 0.8951816850327801\n"
     ]
    },
    {
     "data": {
      "application/vnd.jupyter.widget-view+json": {
       "model_id": "cc282401b8714368a018a3a6c0edc6aa",
       "version_major": 2,
       "version_minor": 0
      },
      "text/plain": [
       "HBox(children=(IntProgress(value=0, max=736), HTML(value='')))"
      ]
     },
     "metadata": {},
     "output_type": "display_data"
    },
    {
     "data": {
      "application/vnd.jupyter.widget-view+json": {
       "model_id": "d32d2921439a4c41811f48978b286c81",
       "version_major": 2,
       "version_minor": 0
      },
      "text/plain": [
       "HBox(children=(IntProgress(value=0, max=184), HTML(value='')))"
      ]
     },
     "metadata": {},
     "output_type": "display_data"
    },
    {
     "name": "stdout",
     "output_type": "stream",
     "text": [
      "{'accuracy': 0.9047780989627614, 'roc_auc': 0.8960624447854187, 'pr_auc': 0.7108985416095297}\n"
     ]
    },
    {
     "data": {
      "text/html": [
       "<div>\n",
       "<style scoped>\n",
       "    .dataframe tbody tr th:only-of-type {\n",
       "        vertical-align: middle;\n",
       "    }\n",
       "\n",
       "    .dataframe tbody tr th {\n",
       "        vertical-align: top;\n",
       "    }\n",
       "\n",
       "    .dataframe thead th {\n",
       "        text-align: right;\n",
       "    }\n",
       "</style>\n",
       "<table border=\"1\" class=\"dataframe\">\n",
       "  <thead>\n",
       "    <tr style=\"text-align: right;\">\n",
       "      <th></th>\n",
       "      <th>0</th>\n",
       "      <th>1</th>\n",
       "      <th>micro avg</th>\n",
       "      <th>macro avg</th>\n",
       "      <th>weighted avg</th>\n",
       "    </tr>\n",
       "  </thead>\n",
       "  <tbody>\n",
       "    <tr>\n",
       "      <th>f1-score</th>\n",
       "      <td>0.944</td>\n",
       "      <td>0.669</td>\n",
       "      <td>0.905</td>\n",
       "      <td>0.807</td>\n",
       "      <td>0.904</td>\n",
       "    </tr>\n",
       "    <tr>\n",
       "      <th>precision</th>\n",
       "      <td>0.943</td>\n",
       "      <td>0.677</td>\n",
       "      <td>0.905</td>\n",
       "      <td>0.810</td>\n",
       "      <td>0.904</td>\n",
       "    </tr>\n",
       "    <tr>\n",
       "      <th>recall</th>\n",
       "      <td>0.946</td>\n",
       "      <td>0.661</td>\n",
       "      <td>0.905</td>\n",
       "      <td>0.804</td>\n",
       "      <td>0.905</td>\n",
       "    </tr>\n",
       "    <tr>\n",
       "      <th>support</th>\n",
       "      <td>5025.000</td>\n",
       "      <td>856.000</td>\n",
       "      <td>5881.000</td>\n",
       "      <td>5881.000</td>\n",
       "      <td>5881.000</td>\n",
       "    </tr>\n",
       "  </tbody>\n",
       "</table>\n",
       "</div>"
      ],
      "text/plain": [
       "                  0        1  micro avg  macro avg  weighted avg\n",
       "f1-score      0.944    0.669      0.905      0.807         0.904\n",
       "precision     0.943    0.677      0.905      0.810         0.904\n",
       "recall        0.946    0.661      0.905      0.804         0.905\n",
       "support    5025.000  856.000   5881.000   5881.000      5881.000"
      ]
     },
     "metadata": {},
     "output_type": "display_data"
    },
    {
     "name": "stdout",
     "output_type": "stream",
     "text": [
      "Model not saved on  roc_auc 0.8960624447854187\n"
     ]
    },
    {
     "data": {
      "application/vnd.jupyter.widget-view+json": {
       "model_id": "94a5751109a04e309b2e41894737cf22",
       "version_major": 2,
       "version_minor": 0
      },
      "text/plain": [
       "HBox(children=(IntProgress(value=0, max=736), HTML(value='')))"
      ]
     },
     "metadata": {},
     "output_type": "display_data"
    },
    {
     "data": {
      "application/vnd.jupyter.widget-view+json": {
       "model_id": "9ba3bf64ac164d3d8f8d4873570cf3f0",
       "version_major": 2,
       "version_minor": 0
      },
      "text/plain": [
       "HBox(children=(IntProgress(value=0, max=184), HTML(value='')))"
      ]
     },
     "metadata": {},
     "output_type": "display_data"
    },
    {
     "name": "stdout",
     "output_type": "stream",
     "text": [
      "{'accuracy': 0.8916850875701411, 'roc_auc': 0.9012569163528152, 'pr_auc': 0.7312675571041592}\n"
     ]
    },
    {
     "data": {
      "text/html": [
       "<div>\n",
       "<style scoped>\n",
       "    .dataframe tbody tr th:only-of-type {\n",
       "        vertical-align: middle;\n",
       "    }\n",
       "\n",
       "    .dataframe tbody tr th {\n",
       "        vertical-align: top;\n",
       "    }\n",
       "\n",
       "    .dataframe thead th {\n",
       "        text-align: right;\n",
       "    }\n",
       "</style>\n",
       "<table border=\"1\" class=\"dataframe\">\n",
       "  <thead>\n",
       "    <tr style=\"text-align: right;\">\n",
       "      <th></th>\n",
       "      <th>0</th>\n",
       "      <th>1</th>\n",
       "      <th>micro avg</th>\n",
       "      <th>macro avg</th>\n",
       "      <th>weighted avg</th>\n",
       "    </tr>\n",
       "  </thead>\n",
       "  <tbody>\n",
       "    <tr>\n",
       "      <th>f1-score</th>\n",
       "      <td>0.936</td>\n",
       "      <td>0.661</td>\n",
       "      <td>0.892</td>\n",
       "      <td>0.798</td>\n",
       "      <td>0.896</td>\n",
       "    </tr>\n",
       "    <tr>\n",
       "      <th>precision</th>\n",
       "      <td>0.952</td>\n",
       "      <td>0.607</td>\n",
       "      <td>0.892</td>\n",
       "      <td>0.779</td>\n",
       "      <td>0.902</td>\n",
       "    </tr>\n",
       "    <tr>\n",
       "      <th>recall</th>\n",
       "      <td>0.920</td>\n",
       "      <td>0.727</td>\n",
       "      <td>0.892</td>\n",
       "      <td>0.823</td>\n",
       "      <td>0.892</td>\n",
       "    </tr>\n",
       "    <tr>\n",
       "      <th>support</th>\n",
       "      <td>5025.000</td>\n",
       "      <td>856.000</td>\n",
       "      <td>5881.000</td>\n",
       "      <td>5881.000</td>\n",
       "      <td>5881.000</td>\n",
       "    </tr>\n",
       "  </tbody>\n",
       "</table>\n",
       "</div>"
      ],
      "text/plain": [
       "                  0        1  micro avg  macro avg  weighted avg\n",
       "f1-score      0.936    0.661      0.892      0.798         0.896\n",
       "precision     0.952    0.607      0.892      0.779         0.902\n",
       "recall        0.920    0.727      0.892      0.823         0.892\n",
       "support    5025.000  856.000   5881.000   5881.000      5881.000"
      ]
     },
     "metadata": {},
     "output_type": "display_data"
    },
    {
     "name": "stdout",
     "output_type": "stream",
     "text": [
      "Model not saved on  roc_auc 0.9012569163528152\n"
     ]
    },
    {
     "data": {
      "application/vnd.jupyter.widget-view+json": {
       "model_id": "8e0ff5ba286c47d8a2397dca42897956",
       "version_major": 2,
       "version_minor": 0
      },
      "text/plain": [
       "HBox(children=(IntProgress(value=0, max=736), HTML(value='')))"
      ]
     },
     "metadata": {},
     "output_type": "display_data"
    },
    {
     "data": {
      "application/vnd.jupyter.widget-view+json": {
       "model_id": "a07ad85236cb43f2a0715a9d23836da7",
       "version_major": 2,
       "version_minor": 0
      },
      "text/plain": [
       "HBox(children=(IntProgress(value=0, max=184), HTML(value='')))"
      ]
     },
     "metadata": {},
     "output_type": "display_data"
    },
    {
     "name": "stdout",
     "output_type": "stream",
     "text": [
      "{'accuracy': 0.8981465737119537, 'roc_auc': 0.8975224345561911, 'pr_auc': 0.735573723606824}\n"
     ]
    },
    {
     "data": {
      "text/html": [
       "<div>\n",
       "<style scoped>\n",
       "    .dataframe tbody tr th:only-of-type {\n",
       "        vertical-align: middle;\n",
       "    }\n",
       "\n",
       "    .dataframe tbody tr th {\n",
       "        vertical-align: top;\n",
       "    }\n",
       "\n",
       "    .dataframe thead th {\n",
       "        text-align: right;\n",
       "    }\n",
       "</style>\n",
       "<table border=\"1\" class=\"dataframe\">\n",
       "  <thead>\n",
       "    <tr style=\"text-align: right;\">\n",
       "      <th></th>\n",
       "      <th>0</th>\n",
       "      <th>1</th>\n",
       "      <th>micro avg</th>\n",
       "      <th>macro avg</th>\n",
       "      <th>weighted avg</th>\n",
       "    </tr>\n",
       "  </thead>\n",
       "  <tbody>\n",
       "    <tr>\n",
       "      <th>f1-score</th>\n",
       "      <td>0.940</td>\n",
       "      <td>0.666</td>\n",
       "      <td>0.898</td>\n",
       "      <td>0.803</td>\n",
       "      <td>0.900</td>\n",
       "    </tr>\n",
       "    <tr>\n",
       "      <th>precision</th>\n",
       "      <td>0.947</td>\n",
       "      <td>0.637</td>\n",
       "      <td>0.898</td>\n",
       "      <td>0.792</td>\n",
       "      <td>0.902</td>\n",
       "    </tr>\n",
       "    <tr>\n",
       "      <th>recall</th>\n",
       "      <td>0.933</td>\n",
       "      <td>0.696</td>\n",
       "      <td>0.898</td>\n",
       "      <td>0.814</td>\n",
       "      <td>0.898</td>\n",
       "    </tr>\n",
       "    <tr>\n",
       "      <th>support</th>\n",
       "      <td>5025.000</td>\n",
       "      <td>856.000</td>\n",
       "      <td>5881.000</td>\n",
       "      <td>5881.000</td>\n",
       "      <td>5881.000</td>\n",
       "    </tr>\n",
       "  </tbody>\n",
       "</table>\n",
       "</div>"
      ],
      "text/plain": [
       "                  0        1  micro avg  macro avg  weighted avg\n",
       "f1-score      0.940    0.666      0.898      0.803         0.900\n",
       "precision     0.947    0.637      0.898      0.792         0.902\n",
       "recall        0.933    0.696      0.898      0.814         0.898\n",
       "support    5025.000  856.000   5881.000   5881.000      5881.000"
      ]
     },
     "metadata": {},
     "output_type": "display_data"
    },
    {
     "name": "stdout",
     "output_type": "stream",
     "text": [
      "Model not saved on  roc_auc 0.8975224345561911\n"
     ]
    },
    {
     "data": {
      "application/vnd.jupyter.widget-view+json": {
       "model_id": "175513e2cc1f4c7aae4e7ca92ba7a773",
       "version_major": 2,
       "version_minor": 0
      },
      "text/plain": [
       "HBox(children=(IntProgress(value=0, max=736), HTML(value='')))"
      ]
     },
     "metadata": {},
     "output_type": "display_data"
    },
    {
     "data": {
      "application/vnd.jupyter.widget-view+json": {
       "model_id": "602a6710b38a49b5aa3facdad3e745b4",
       "version_major": 2,
       "version_minor": 0
      },
      "text/plain": [
       "HBox(children=(IntProgress(value=0, max=184), HTML(value='')))"
      ]
     },
     "metadata": {},
     "output_type": "display_data"
    },
    {
     "name": "stdout",
     "output_type": "stream",
     "text": [
      "{'accuracy': 0.8870940316272743, 'roc_auc': 0.9019592458269401, 'pr_auc': 0.7240389880746053}\n"
     ]
    },
    {
     "data": {
      "text/html": [
       "<div>\n",
       "<style scoped>\n",
       "    .dataframe tbody tr th:only-of-type {\n",
       "        vertical-align: middle;\n",
       "    }\n",
       "\n",
       "    .dataframe tbody tr th {\n",
       "        vertical-align: top;\n",
       "    }\n",
       "\n",
       "    .dataframe thead th {\n",
       "        text-align: right;\n",
       "    }\n",
       "</style>\n",
       "<table border=\"1\" class=\"dataframe\">\n",
       "  <thead>\n",
       "    <tr style=\"text-align: right;\">\n",
       "      <th></th>\n",
       "      <th>0</th>\n",
       "      <th>1</th>\n",
       "      <th>micro avg</th>\n",
       "      <th>macro avg</th>\n",
       "      <th>weighted avg</th>\n",
       "    </tr>\n",
       "  </thead>\n",
       "  <tbody>\n",
       "    <tr>\n",
       "      <th>f1-score</th>\n",
       "      <td>0.932</td>\n",
       "      <td>0.656</td>\n",
       "      <td>0.887</td>\n",
       "      <td>0.794</td>\n",
       "      <td>0.892</td>\n",
       "    </tr>\n",
       "    <tr>\n",
       "      <th>precision</th>\n",
       "      <td>0.954</td>\n",
       "      <td>0.589</td>\n",
       "      <td>0.887</td>\n",
       "      <td>0.771</td>\n",
       "      <td>0.901</td>\n",
       "    </tr>\n",
       "    <tr>\n",
       "      <th>recall</th>\n",
       "      <td>0.912</td>\n",
       "      <td>0.739</td>\n",
       "      <td>0.887</td>\n",
       "      <td>0.826</td>\n",
       "      <td>0.887</td>\n",
       "    </tr>\n",
       "    <tr>\n",
       "      <th>support</th>\n",
       "      <td>5025.000</td>\n",
       "      <td>856.000</td>\n",
       "      <td>5881.000</td>\n",
       "      <td>5881.000</td>\n",
       "      <td>5881.000</td>\n",
       "    </tr>\n",
       "  </tbody>\n",
       "</table>\n",
       "</div>"
      ],
      "text/plain": [
       "                  0        1  micro avg  macro avg  weighted avg\n",
       "f1-score      0.932    0.656      0.887      0.794         0.892\n",
       "precision     0.954    0.589      0.887      0.771         0.901\n",
       "recall        0.912    0.739      0.887      0.826         0.887\n",
       "support    5025.000  856.000   5881.000   5881.000      5881.000"
      ]
     },
     "metadata": {},
     "output_type": "display_data"
    },
    {
     "name": "stderr",
     "output_type": "stream",
     "text": [
      "INFO - 2019-03-20 16:20:57,336 - instantiating class <class 'PatientVec.models.Model.Model'> from params {'type': 'seq_classifier', 'embedder': {'type': 'token_embedder', 'vocab_size': 29286, 'embed_size': 200, 'embedding_file': './preprocess/Mortality/embedding_matrix.npy'}, 'decoder': {'num_layers': 2, 'hidden_dims': [128, 1], 'activations': ['tanh', 'linear']}, 'predictor': {'type': 'binary'}, 'structured': {'use_structured': True, 'structured_dim': 50}, 'encoder': {'type': 'lstm', 'hidden_size': 128}} and extras {}\n",
      "INFO - 2019-03-20 16:20:57,338 - type = seq_classifier\n",
      "INFO - 2019-03-20 16:20:57,339 - instantiating class <class 'PatientVec.models.modules.Embedder.Embedder'> from params {'type': 'token_embedder', 'vocab_size': 29286, 'embed_size': 200, 'embedding_file': './preprocess/Mortality/embedding_matrix.npy'} and extras {}\n",
      "INFO - 2019-03-20 16:20:57,340 - embedder.type = token_embedder\n",
      "INFO - 2019-03-20 16:20:57,341 - instantiating class <class 'PatientVec.models.modules.Embedder.TokenEmbedder'> from params {'vocab_size': 29286, 'embed_size': 200, 'embedding_file': './preprocess/Mortality/embedding_matrix.npy'} and extras {}\n",
      "INFO - 2019-03-20 16:20:57,341 - embedder.vocab_size = 29286\n",
      "INFO - 2019-03-20 16:20:57,342 - embedder.embed_size = 200\n",
      "INFO - 2019-03-20 16:20:57,343 - embedder.embedding_file = ./preprocess/Mortality/embedding_matrix.npy\n",
      "INFO - 2019-03-20 16:20:57,385 - instantiating class <class 'PatientVec.models.modules.Encoder.Encoder'> from params {'type': 'lstm', 'hidden_size': 128} and extras {'input_size': 200}\n",
      "INFO - 2019-03-20 16:20:57,386 - encoder.type = lstm\n",
      "INFO - 2019-03-20 16:20:57,386 - instantiating class <class 'PatientVec.models.modules.Encoder.wrap_pytorch_rnn.<locals>.BiRNNEncoder'> from params {'hidden_size': 128} and extras {'input_size': 200}\n",
      "INFO - 2019-03-20 16:20:57,387 - encoder.hidden_size = 128\n",
      "INFO - 2019-03-20 16:20:57,392 - decoder.input_dim = 306\n",
      "INFO - 2019-03-20 16:20:57,392 - decoder.num_layers = 2\n",
      "INFO - 2019-03-20 16:20:57,393 - decoder.hidden_dims = [128, 1]\n",
      "INFO - 2019-03-20 16:20:57,394 - decoder.activations = ['tanh', 'linear']\n",
      "INFO - 2019-03-20 16:20:57,394 - decoder.dropout = 0.0\n",
      "INFO - 2019-03-20 16:20:57,396 - instantiating class <class 'PatientVec.models.modules.Predictor.Predictor'> from params {'type': 'binary'} and extras {}\n",
      "INFO - 2019-03-20 16:20:57,397 - predictor.type = binary\n",
      "INFO - 2019-03-20 16:20:57,397 - instantiating class <class 'PatientVec.models.modules.Predictor.Binary_Predictor'> from params {} and extras {}\n",
      "INFO - 2019-03-20 16:20:57,398 - predictor.replicate = False\n",
      "INFO - 2019-03-20 16:20:57,399 - predictor.alpha = 0.5\n"
     ]
    },
    {
     "name": "stdout",
     "output_type": "stream",
     "text": [
      "Model not saved on  roc_auc 0.9019592458269401\n",
      "\n",
      "Setting Embedding\n"
     ]
    },
    {
     "data": {
      "application/vnd.jupyter.widget-view+json": {
       "model_id": "1293379de4094f73929e8c6ccfb03676",
       "version_major": 2,
       "version_minor": 0
      },
      "text/plain": [
       "HBox(children=(IntProgress(value=0, max=184), HTML(value='')))"
      ]
     },
     "metadata": {},
     "output_type": "display_data"
    },
    {
     "name": "stdout",
     "output_type": "stream",
     "text": [
      "\n",
      "{'accuracy': 0.876381567760585, 'roc_auc': 0.9297714697540337, 'pr_auc': 0.7863292639459716}\n"
     ]
    },
    {
     "data": {
      "text/html": [
       "<div>\n",
       "<style scoped>\n",
       "    .dataframe tbody tr th:only-of-type {\n",
       "        vertical-align: middle;\n",
       "    }\n",
       "\n",
       "    .dataframe tbody tr th {\n",
       "        vertical-align: top;\n",
       "    }\n",
       "\n",
       "    .dataframe thead th {\n",
       "        text-align: right;\n",
       "    }\n",
       "</style>\n",
       "<table border=\"1\" class=\"dataframe\">\n",
       "  <thead>\n",
       "    <tr style=\"text-align: right;\">\n",
       "      <th></th>\n",
       "      <th>0</th>\n",
       "      <th>1</th>\n",
       "      <th>micro avg</th>\n",
       "      <th>macro avg</th>\n",
       "      <th>weighted avg</th>\n",
       "    </tr>\n",
       "  </thead>\n",
       "  <tbody>\n",
       "    <tr>\n",
       "      <th>f1-score</th>\n",
       "      <td>0.924</td>\n",
       "      <td>0.660</td>\n",
       "      <td>0.876</td>\n",
       "      <td>0.792</td>\n",
       "      <td>0.886</td>\n",
       "    </tr>\n",
       "    <tr>\n",
       "      <th>precision</th>\n",
       "      <td>0.967</td>\n",
       "      <td>0.550</td>\n",
       "      <td>0.876</td>\n",
       "      <td>0.759</td>\n",
       "      <td>0.907</td>\n",
       "    </tr>\n",
       "    <tr>\n",
       "      <th>recall</th>\n",
       "      <td>0.885</td>\n",
       "      <td>0.825</td>\n",
       "      <td>0.876</td>\n",
       "      <td>0.855</td>\n",
       "      <td>0.876</td>\n",
       "    </tr>\n",
       "    <tr>\n",
       "      <th>support</th>\n",
       "      <td>5025.000</td>\n",
       "      <td>856.000</td>\n",
       "      <td>5881.000</td>\n",
       "      <td>5881.000</td>\n",
       "      <td>5881.000</td>\n",
       "    </tr>\n",
       "  </tbody>\n",
       "</table>\n",
       "</div>"
      ],
      "text/plain": [
       "                  0        1  micro avg  macro avg  weighted avg\n",
       "f1-score      0.924    0.660      0.876      0.792         0.886\n",
       "precision     0.967    0.550      0.876      0.759         0.907\n",
       "recall        0.885    0.825      0.876      0.855         0.876\n",
       "support    5025.000  856.000   5881.000   5881.000      5881.000"
      ]
     },
     "metadata": {},
     "output_type": "display_data"
    },
    {
     "name": "stderr",
     "output_type": "stream",
     "text": [
      "INFO - 2019-03-20 16:23:03,703 - instantiating class <class 'PatientVec.models.Model.Model'> from params {'type': 'seq_classifier', 'embedder': {'type': 'token_embedder', 'vocab_size': 29286, 'embed_size': 200, 'embedding_file': './preprocess/Mortality/embedding_matrix.npy'}, 'decoder': {'num_layers': 2, 'hidden_dims': [128, 1], 'activations': ['tanh', 'linear']}, 'predictor': {'type': 'binary'}, 'structured': {'use_structured': True, 'structured_dim': 50}, 'encoder': {'type': 'cnn', 'hidden_size': 64, 'kernel_sizes': [3, 5, 7, 9], 'activation': 'relu'}} and extras {}\n",
      "INFO - 2019-03-20 16:23:03,704 - type = seq_classifier\n",
      "INFO - 2019-03-20 16:23:03,705 - instantiating class <class 'PatientVec.models.modules.Embedder.Embedder'> from params {'type': 'token_embedder', 'vocab_size': 29286, 'embed_size': 200, 'embedding_file': './preprocess/Mortality/embedding_matrix.npy'} and extras {}\n",
      "INFO - 2019-03-20 16:23:03,707 - embedder.type = token_embedder\n",
      "INFO - 2019-03-20 16:23:03,707 - instantiating class <class 'PatientVec.models.modules.Embedder.TokenEmbedder'> from params {'vocab_size': 29286, 'embed_size': 200, 'embedding_file': './preprocess/Mortality/embedding_matrix.npy'} and extras {}\n",
      "INFO - 2019-03-20 16:23:03,708 - embedder.vocab_size = 29286\n",
      "INFO - 2019-03-20 16:23:03,709 - embedder.embed_size = 200\n",
      "INFO - 2019-03-20 16:23:03,710 - embedder.embedding_file = ./preprocess/Mortality/embedding_matrix.npy\n",
      "INFO - 2019-03-20 16:23:03,747 - instantiating class <class 'PatientVec.models.modules.Encoder.Encoder'> from params {'type': 'cnn', 'hidden_size': 64, 'kernel_sizes': [3, 5, 7, 9], 'activation': 'relu'} and extras {'input_size': 200}\n",
      "INFO - 2019-03-20 16:23:03,749 - encoder.type = cnn\n",
      "INFO - 2019-03-20 16:23:03,749 - instantiating class <class 'PatientVec.models.modules.Encoder.CNNEncoder'> from params {'hidden_size': 64, 'kernel_sizes': [3, 5, 7, 9], 'activation': 'relu'} and extras {'input_size': 200}\n",
      "INFO - 2019-03-20 16:23:03,750 - encoder.hidden_size = 64\n",
      "INFO - 2019-03-20 16:23:03,751 - encoder.kernel_sizes = [3, 5, 7, 9]\n",
      "INFO - 2019-03-20 16:23:03,751 - encoder.activation = relu\n",
      "INFO - 2019-03-20 16:23:03,757 - decoder.input_dim = 306\n",
      "INFO - 2019-03-20 16:23:03,758 - decoder.num_layers = 2\n",
      "INFO - 2019-03-20 16:23:03,758 - decoder.hidden_dims = [128, 1]\n",
      "INFO - 2019-03-20 16:23:03,759 - decoder.activations = ['tanh', 'linear']\n",
      "INFO - 2019-03-20 16:23:03,760 - decoder.dropout = 0.0\n",
      "INFO - 2019-03-20 16:23:03,762 - instantiating class <class 'PatientVec.models.modules.Predictor.Predictor'> from params {'type': 'binary'} and extras {}\n",
      "INFO - 2019-03-20 16:23:03,762 - predictor.type = binary\n",
      "INFO - 2019-03-20 16:23:03,763 - instantiating class <class 'PatientVec.models.modules.Predictor.Binary_Predictor'> from params {} and extras {}\n",
      "INFO - 2019-03-20 16:23:03,763 - predictor.replicate = False\n",
      "INFO - 2019-03-20 16:23:03,764 - predictor.alpha = 0.5\n"
     ]
    },
    {
     "name": "stdout",
     "output_type": "stream",
     "text": [
      "============================================================================================================================================================================================================================================================================================================\n",
      "{'model': {'type': 'seq_classifier', 'embedder': {'type': 'token_embedder', 'vocab_size': 29286, 'embed_size': 200, 'embedding_file': './preprocess/Mortality/embedding_matrix.npy'}, 'decoder': {'num_layers': 2, 'hidden_dims': [128, 1], 'activations': ['tanh', 'linear']}, 'predictor': {'type': 'binary'}, 'structured': {'use_structured': True, 'structured_dim': 50}, 'encoder': {'type': 'cnn', 'hidden_size': 64, 'kernel_sizes': [3, 5, 7, 9], 'activation': 'relu'}}, 'training_config': {'type': 'Adam', 'groups': [('.*', {'lr': 0.001, 'weight_decay': 1e-05})], 'common': {'bsize': 32, 'class_weight': True}}, 'exp_config': {'exp_name': 'Mortality_30day/Basic/CNN(hs=64)(kernels=3,5,7,9)+Structured', 'basepath': 'outputs/'}}\n",
      "Setting Embedding\n"
     ]
    },
    {
     "data": {
      "application/vnd.jupyter.widget-view+json": {
       "model_id": "313ace9382b6404da1879bcde9c34d61",
       "version_major": 2,
       "version_minor": 0
      },
      "text/plain": [
       "HBox(children=(IntProgress(value=0, max=15), HTML(value='')))"
      ]
     },
     "metadata": {},
     "output_type": "display_data"
    },
    {
     "data": {
      "application/vnd.jupyter.widget-view+json": {
       "model_id": "06b6a214a49b4f9982fa5f5c6c805b42",
       "version_major": 2,
       "version_minor": 0
      },
      "text/plain": [
       "HBox(children=(IntProgress(value=0, max=736), HTML(value='')))"
      ]
     },
     "metadata": {},
     "output_type": "display_data"
    },
    {
     "data": {
      "application/vnd.jupyter.widget-view+json": {
       "model_id": "90fdb708575a40e09a94a2385e89dc8e",
       "version_major": 2,
       "version_minor": 0
      },
      "text/plain": [
       "HBox(children=(IntProgress(value=0, max=184), HTML(value='')))"
      ]
     },
     "metadata": {},
     "output_type": "display_data"
    },
    {
     "name": "stdout",
     "output_type": "stream",
     "text": [
      "{'accuracy': 0.8105764325794933, 'roc_auc': 0.8679769377412005, 'pr_auc': 0.5865191258678388}\n"
     ]
    },
    {
     "data": {
      "text/html": [
       "<div>\n",
       "<style scoped>\n",
       "    .dataframe tbody tr th:only-of-type {\n",
       "        vertical-align: middle;\n",
       "    }\n",
       "\n",
       "    .dataframe tbody tr th {\n",
       "        vertical-align: top;\n",
       "    }\n",
       "\n",
       "    .dataframe thead th {\n",
       "        text-align: right;\n",
       "    }\n",
       "</style>\n",
       "<table border=\"1\" class=\"dataframe\">\n",
       "  <thead>\n",
       "    <tr style=\"text-align: right;\">\n",
       "      <th></th>\n",
       "      <th>0</th>\n",
       "      <th>1</th>\n",
       "      <th>micro avg</th>\n",
       "      <th>macro avg</th>\n",
       "      <th>weighted avg</th>\n",
       "    </tr>\n",
       "  </thead>\n",
       "  <tbody>\n",
       "    <tr>\n",
       "      <th>f1-score</th>\n",
       "      <td>0.881</td>\n",
       "      <td>0.531</td>\n",
       "      <td>0.811</td>\n",
       "      <td>0.706</td>\n",
       "      <td>0.830</td>\n",
       "    </tr>\n",
       "    <tr>\n",
       "      <th>precision</th>\n",
       "      <td>0.948</td>\n",
       "      <td>0.415</td>\n",
       "      <td>0.811</td>\n",
       "      <td>0.682</td>\n",
       "      <td>0.871</td>\n",
       "    </tr>\n",
       "    <tr>\n",
       "      <th>recall</th>\n",
       "      <td>0.823</td>\n",
       "      <td>0.737</td>\n",
       "      <td>0.811</td>\n",
       "      <td>0.780</td>\n",
       "      <td>0.811</td>\n",
       "    </tr>\n",
       "    <tr>\n",
       "      <th>support</th>\n",
       "      <td>5025.000</td>\n",
       "      <td>856.000</td>\n",
       "      <td>5881.000</td>\n",
       "      <td>5881.000</td>\n",
       "      <td>5881.000</td>\n",
       "    </tr>\n",
       "  </tbody>\n",
       "</table>\n",
       "</div>"
      ],
      "text/plain": [
       "                  0        1  micro avg  macro avg  weighted avg\n",
       "f1-score      0.881    0.531      0.811      0.706         0.830\n",
       "precision     0.948    0.415      0.811      0.682         0.871\n",
       "recall        0.823    0.737      0.811      0.780         0.811\n",
       "support    5025.000  856.000   5881.000   5881.000      5881.000"
      ]
     },
     "metadata": {},
     "output_type": "display_data"
    },
    {
     "name": "stdout",
     "output_type": "stream",
     "text": [
      "Model Saved on  roc_auc 0.8679769377412005\n"
     ]
    },
    {
     "data": {
      "application/vnd.jupyter.widget-view+json": {
       "model_id": "d211f10841d74db9800690c4a581af0d",
       "version_major": 2,
       "version_minor": 0
      },
      "text/plain": [
       "HBox(children=(IntProgress(value=0, max=736), HTML(value='')))"
      ]
     },
     "metadata": {},
     "output_type": "display_data"
    },
    {
     "data": {
      "application/vnd.jupyter.widget-view+json": {
       "model_id": "242102b8d43442898d8b43a946edf7df",
       "version_major": 2,
       "version_minor": 0
      },
      "text/plain": [
       "HBox(children=(IntProgress(value=0, max=184), HTML(value='')))"
      ]
     },
     "metadata": {},
     "output_type": "display_data"
    },
    {
     "name": "stdout",
     "output_type": "stream",
     "text": [
      "{'accuracy': 0.9090290766876381, 'roc_auc': 0.9254450876458826, 'pr_auc': 0.7632237818287352}\n"
     ]
    },
    {
     "data": {
      "text/html": [
       "<div>\n",
       "<style scoped>\n",
       "    .dataframe tbody tr th:only-of-type {\n",
       "        vertical-align: middle;\n",
       "    }\n",
       "\n",
       "    .dataframe tbody tr th {\n",
       "        vertical-align: top;\n",
       "    }\n",
       "\n",
       "    .dataframe thead th {\n",
       "        text-align: right;\n",
       "    }\n",
       "</style>\n",
       "<table border=\"1\" class=\"dataframe\">\n",
       "  <thead>\n",
       "    <tr style=\"text-align: right;\">\n",
       "      <th></th>\n",
       "      <th>0</th>\n",
       "      <th>1</th>\n",
       "      <th>micro avg</th>\n",
       "      <th>macro avg</th>\n",
       "      <th>weighted avg</th>\n",
       "    </tr>\n",
       "  </thead>\n",
       "  <tbody>\n",
       "    <tr>\n",
       "      <th>f1-score</th>\n",
       "      <td>0.947</td>\n",
       "      <td>0.696</td>\n",
       "      <td>0.909</td>\n",
       "      <td>0.821</td>\n",
       "      <td>0.910</td>\n",
       "    </tr>\n",
       "    <tr>\n",
       "      <th>precision</th>\n",
       "      <td>0.951</td>\n",
       "      <td>0.678</td>\n",
       "      <td>0.909</td>\n",
       "      <td>0.814</td>\n",
       "      <td>0.911</td>\n",
       "    </tr>\n",
       "    <tr>\n",
       "      <th>recall</th>\n",
       "      <td>0.942</td>\n",
       "      <td>0.714</td>\n",
       "      <td>0.909</td>\n",
       "      <td>0.828</td>\n",
       "      <td>0.909</td>\n",
       "    </tr>\n",
       "    <tr>\n",
       "      <th>support</th>\n",
       "      <td>5025.000</td>\n",
       "      <td>856.000</td>\n",
       "      <td>5881.000</td>\n",
       "      <td>5881.000</td>\n",
       "      <td>5881.000</td>\n",
       "    </tr>\n",
       "  </tbody>\n",
       "</table>\n",
       "</div>"
      ],
      "text/plain": [
       "                  0        1  micro avg  macro avg  weighted avg\n",
       "f1-score      0.947    0.696      0.909      0.821         0.910\n",
       "precision     0.951    0.678      0.909      0.814         0.911\n",
       "recall        0.942    0.714      0.909      0.828         0.909\n",
       "support    5025.000  856.000   5881.000   5881.000      5881.000"
      ]
     },
     "metadata": {},
     "output_type": "display_data"
    },
    {
     "name": "stdout",
     "output_type": "stream",
     "text": [
      "Model Saved on  roc_auc 0.9254450876458826\n"
     ]
    },
    {
     "data": {
      "application/vnd.jupyter.widget-view+json": {
       "model_id": "b252ada50cf54f1d83a6c2c1c3b62ce6",
       "version_major": 2,
       "version_minor": 0
      },
      "text/plain": [
       "HBox(children=(IntProgress(value=0, max=736), HTML(value='')))"
      ]
     },
     "metadata": {},
     "output_type": "display_data"
    },
    {
     "data": {
      "application/vnd.jupyter.widget-view+json": {
       "model_id": "fb0e44e43dca4cb99643d064db779196",
       "version_major": 2,
       "version_minor": 0
      },
      "text/plain": [
       "HBox(children=(IntProgress(value=0, max=184), HTML(value='')))"
      ]
     },
     "metadata": {},
     "output_type": "display_data"
    },
    {
     "name": "stdout",
     "output_type": "stream",
     "text": [
      "{'accuracy': 0.7655160686958, 'roc_auc': 0.9285069977216719, 'pr_auc': 0.7841129360691663}\n"
     ]
    },
    {
     "data": {
      "text/html": [
       "<div>\n",
       "<style scoped>\n",
       "    .dataframe tbody tr th:only-of-type {\n",
       "        vertical-align: middle;\n",
       "    }\n",
       "\n",
       "    .dataframe tbody tr th {\n",
       "        vertical-align: top;\n",
       "    }\n",
       "\n",
       "    .dataframe thead th {\n",
       "        text-align: right;\n",
       "    }\n",
       "</style>\n",
       "<table border=\"1\" class=\"dataframe\">\n",
       "  <thead>\n",
       "    <tr style=\"text-align: right;\">\n",
       "      <th></th>\n",
       "      <th>0</th>\n",
       "      <th>1</th>\n",
       "      <th>micro avg</th>\n",
       "      <th>macro avg</th>\n",
       "      <th>weighted avg</th>\n",
       "    </tr>\n",
       "  </thead>\n",
       "  <tbody>\n",
       "    <tr>\n",
       "      <th>f1-score</th>\n",
       "      <td>0.844</td>\n",
       "      <td>0.530</td>\n",
       "      <td>0.766</td>\n",
       "      <td>0.687</td>\n",
       "      <td>0.798</td>\n",
       "    </tr>\n",
       "    <tr>\n",
       "      <th>precision</th>\n",
       "      <td>0.979</td>\n",
       "      <td>0.374</td>\n",
       "      <td>0.766</td>\n",
       "      <td>0.677</td>\n",
       "      <td>0.891</td>\n",
       "    </tr>\n",
       "    <tr>\n",
       "      <th>recall</th>\n",
       "      <td>0.741</td>\n",
       "      <td>0.908</td>\n",
       "      <td>0.766</td>\n",
       "      <td>0.825</td>\n",
       "      <td>0.766</td>\n",
       "    </tr>\n",
       "    <tr>\n",
       "      <th>support</th>\n",
       "      <td>5025.000</td>\n",
       "      <td>856.000</td>\n",
       "      <td>5881.000</td>\n",
       "      <td>5881.000</td>\n",
       "      <td>5881.000</td>\n",
       "    </tr>\n",
       "  </tbody>\n",
       "</table>\n",
       "</div>"
      ],
      "text/plain": [
       "                  0        1  micro avg  macro avg  weighted avg\n",
       "f1-score      0.844    0.530      0.766      0.687         0.798\n",
       "precision     0.979    0.374      0.766      0.677         0.891\n",
       "recall        0.741    0.908      0.766      0.825         0.766\n",
       "support    5025.000  856.000   5881.000   5881.000      5881.000"
      ]
     },
     "metadata": {},
     "output_type": "display_data"
    },
    {
     "name": "stdout",
     "output_type": "stream",
     "text": [
      "Model Saved on  roc_auc 0.9285069977216719\n"
     ]
    },
    {
     "data": {
      "application/vnd.jupyter.widget-view+json": {
       "model_id": "4bc360f701794cb2b05769d9394f9812",
       "version_major": 2,
       "version_minor": 0
      },
      "text/plain": [
       "HBox(children=(IntProgress(value=0, max=736), HTML(value='')))"
      ]
     },
     "metadata": {},
     "output_type": "display_data"
    },
    {
     "data": {
      "application/vnd.jupyter.widget-view+json": {
       "model_id": "155f000a53884b318eca050e03807f9c",
       "version_major": 2,
       "version_minor": 0
      },
      "text/plain": [
       "HBox(children=(IntProgress(value=0, max=184), HTML(value='')))"
      ]
     },
     "metadata": {},
     "output_type": "display_data"
    },
    {
     "name": "stdout",
     "output_type": "stream",
     "text": [
      "{'accuracy': 0.8751912939976194, 'roc_auc': 0.9256290975031385, 'pr_auc': 0.7806480036042176}\n"
     ]
    },
    {
     "data": {
      "text/html": [
       "<div>\n",
       "<style scoped>\n",
       "    .dataframe tbody tr th:only-of-type {\n",
       "        vertical-align: middle;\n",
       "    }\n",
       "\n",
       "    .dataframe tbody tr th {\n",
       "        vertical-align: top;\n",
       "    }\n",
       "\n",
       "    .dataframe thead th {\n",
       "        text-align: right;\n",
       "    }\n",
       "</style>\n",
       "<table border=\"1\" class=\"dataframe\">\n",
       "  <thead>\n",
       "    <tr style=\"text-align: right;\">\n",
       "      <th></th>\n",
       "      <th>0</th>\n",
       "      <th>1</th>\n",
       "      <th>micro avg</th>\n",
       "      <th>macro avg</th>\n",
       "      <th>weighted avg</th>\n",
       "    </tr>\n",
       "  </thead>\n",
       "  <tbody>\n",
       "    <tr>\n",
       "      <th>f1-score</th>\n",
       "      <td>0.924</td>\n",
       "      <td>0.655</td>\n",
       "      <td>0.875</td>\n",
       "      <td>0.789</td>\n",
       "      <td>0.885</td>\n",
       "    </tr>\n",
       "    <tr>\n",
       "      <th>precision</th>\n",
       "      <td>0.965</td>\n",
       "      <td>0.548</td>\n",
       "      <td>0.875</td>\n",
       "      <td>0.757</td>\n",
       "      <td>0.905</td>\n",
       "    </tr>\n",
       "    <tr>\n",
       "      <th>recall</th>\n",
       "      <td>0.886</td>\n",
       "      <td>0.813</td>\n",
       "      <td>0.875</td>\n",
       "      <td>0.849</td>\n",
       "      <td>0.875</td>\n",
       "    </tr>\n",
       "    <tr>\n",
       "      <th>support</th>\n",
       "      <td>5025.000</td>\n",
       "      <td>856.000</td>\n",
       "      <td>5881.000</td>\n",
       "      <td>5881.000</td>\n",
       "      <td>5881.000</td>\n",
       "    </tr>\n",
       "  </tbody>\n",
       "</table>\n",
       "</div>"
      ],
      "text/plain": [
       "                  0        1  micro avg  macro avg  weighted avg\n",
       "f1-score      0.924    0.655      0.875      0.789         0.885\n",
       "precision     0.965    0.548      0.875      0.757         0.905\n",
       "recall        0.886    0.813      0.875      0.849         0.875\n",
       "support    5025.000  856.000   5881.000   5881.000      5881.000"
      ]
     },
     "metadata": {},
     "output_type": "display_data"
    },
    {
     "name": "stdout",
     "output_type": "stream",
     "text": [
      "Model not saved on  roc_auc 0.9256290975031385\n"
     ]
    },
    {
     "data": {
      "application/vnd.jupyter.widget-view+json": {
       "model_id": "8e774bf7f04e495f9a8709921875076e",
       "version_major": 2,
       "version_minor": 0
      },
      "text/plain": [
       "HBox(children=(IntProgress(value=0, max=736), HTML(value='')))"
      ]
     },
     "metadata": {},
     "output_type": "display_data"
    },
    {
     "data": {
      "application/vnd.jupyter.widget-view+json": {
       "model_id": "5c5a916d838f45abbf939905878ef4b3",
       "version_major": 2,
       "version_minor": 0
      },
      "text/plain": [
       "HBox(children=(IntProgress(value=0, max=184), HTML(value='')))"
      ]
     },
     "metadata": {},
     "output_type": "display_data"
    },
    {
     "name": "stdout",
     "output_type": "stream",
     "text": [
      "{'accuracy': 0.8354021424927733, 'roc_auc': 0.9209460873204073, 'pr_auc': 0.7595854420897512}\n"
     ]
    },
    {
     "data": {
      "text/html": [
       "<div>\n",
       "<style scoped>\n",
       "    .dataframe tbody tr th:only-of-type {\n",
       "        vertical-align: middle;\n",
       "    }\n",
       "\n",
       "    .dataframe tbody tr th {\n",
       "        vertical-align: top;\n",
       "    }\n",
       "\n",
       "    .dataframe thead th {\n",
       "        text-align: right;\n",
       "    }\n",
       "</style>\n",
       "<table border=\"1\" class=\"dataframe\">\n",
       "  <thead>\n",
       "    <tr style=\"text-align: right;\">\n",
       "      <th></th>\n",
       "      <th>0</th>\n",
       "      <th>1</th>\n",
       "      <th>micro avg</th>\n",
       "      <th>macro avg</th>\n",
       "      <th>weighted avg</th>\n",
       "    </tr>\n",
       "  </thead>\n",
       "  <tbody>\n",
       "    <tr>\n",
       "      <th>f1-score</th>\n",
       "      <td>0.896</td>\n",
       "      <td>0.603</td>\n",
       "      <td>0.835</td>\n",
       "      <td>0.750</td>\n",
       "      <td>0.854</td>\n",
       "    </tr>\n",
       "    <tr>\n",
       "      <th>precision</th>\n",
       "      <td>0.972</td>\n",
       "      <td>0.465</td>\n",
       "      <td>0.835</td>\n",
       "      <td>0.718</td>\n",
       "      <td>0.898</td>\n",
       "    </tr>\n",
       "    <tr>\n",
       "      <th>recall</th>\n",
       "      <td>0.831</td>\n",
       "      <td>0.859</td>\n",
       "      <td>0.835</td>\n",
       "      <td>0.845</td>\n",
       "      <td>0.835</td>\n",
       "    </tr>\n",
       "    <tr>\n",
       "      <th>support</th>\n",
       "      <td>5025.000</td>\n",
       "      <td>856.000</td>\n",
       "      <td>5881.000</td>\n",
       "      <td>5881.000</td>\n",
       "      <td>5881.000</td>\n",
       "    </tr>\n",
       "  </tbody>\n",
       "</table>\n",
       "</div>"
      ],
      "text/plain": [
       "                  0        1  micro avg  macro avg  weighted avg\n",
       "f1-score      0.896    0.603      0.835      0.750         0.854\n",
       "precision     0.972    0.465      0.835      0.718         0.898\n",
       "recall        0.831    0.859      0.835      0.845         0.835\n",
       "support    5025.000  856.000   5881.000   5881.000      5881.000"
      ]
     },
     "metadata": {},
     "output_type": "display_data"
    },
    {
     "name": "stdout",
     "output_type": "stream",
     "text": [
      "Model not saved on  roc_auc 0.9209460873204073\n"
     ]
    },
    {
     "data": {
      "application/vnd.jupyter.widget-view+json": {
       "model_id": "4ba8fa5af274436bb1a98956cfc4bd9e",
       "version_major": 2,
       "version_minor": 0
      },
      "text/plain": [
       "HBox(children=(IntProgress(value=0, max=736), HTML(value='')))"
      ]
     },
     "metadata": {},
     "output_type": "display_data"
    },
    {
     "data": {
      "application/vnd.jupyter.widget-view+json": {
       "model_id": "89b70d5481b6434687af5e05a57b3ff9",
       "version_major": 2,
       "version_minor": 0
      },
      "text/plain": [
       "HBox(children=(IntProgress(value=0, max=184), HTML(value='')))"
      ]
     },
     "metadata": {},
     "output_type": "display_data"
    },
    {
     "name": "stdout",
     "output_type": "stream",
     "text": [
      "{'accuracy': 0.8950858697500426, 'roc_auc': 0.9279064955595853, 'pr_auc': 0.7767332228778044}\n"
     ]
    },
    {
     "data": {
      "text/html": [
       "<div>\n",
       "<style scoped>\n",
       "    .dataframe tbody tr th:only-of-type {\n",
       "        vertical-align: middle;\n",
       "    }\n",
       "\n",
       "    .dataframe tbody tr th {\n",
       "        vertical-align: top;\n",
       "    }\n",
       "\n",
       "    .dataframe thead th {\n",
       "        text-align: right;\n",
       "    }\n",
       "</style>\n",
       "<table border=\"1\" class=\"dataframe\">\n",
       "  <thead>\n",
       "    <tr style=\"text-align: right;\">\n",
       "      <th></th>\n",
       "      <th>0</th>\n",
       "      <th>1</th>\n",
       "      <th>micro avg</th>\n",
       "      <th>macro avg</th>\n",
       "      <th>weighted avg</th>\n",
       "    </tr>\n",
       "  </thead>\n",
       "  <tbody>\n",
       "    <tr>\n",
       "      <th>f1-score</th>\n",
       "      <td>0.937</td>\n",
       "      <td>0.676</td>\n",
       "      <td>0.895</td>\n",
       "      <td>0.807</td>\n",
       "      <td>0.899</td>\n",
       "    </tr>\n",
       "    <tr>\n",
       "      <th>precision</th>\n",
       "      <td>0.956</td>\n",
       "      <td>0.614</td>\n",
       "      <td>0.895</td>\n",
       "      <td>0.785</td>\n",
       "      <td>0.906</td>\n",
       "    </tr>\n",
       "    <tr>\n",
       "      <th>recall</th>\n",
       "      <td>0.920</td>\n",
       "      <td>0.751</td>\n",
       "      <td>0.895</td>\n",
       "      <td>0.835</td>\n",
       "      <td>0.895</td>\n",
       "    </tr>\n",
       "    <tr>\n",
       "      <th>support</th>\n",
       "      <td>5025.000</td>\n",
       "      <td>856.000</td>\n",
       "      <td>5881.000</td>\n",
       "      <td>5881.000</td>\n",
       "      <td>5881.000</td>\n",
       "    </tr>\n",
       "  </tbody>\n",
       "</table>\n",
       "</div>"
      ],
      "text/plain": [
       "                  0        1  micro avg  macro avg  weighted avg\n",
       "f1-score      0.937    0.676      0.895      0.807         0.899\n",
       "precision     0.956    0.614      0.895      0.785         0.906\n",
       "recall        0.920    0.751      0.895      0.835         0.895\n",
       "support    5025.000  856.000   5881.000   5881.000      5881.000"
      ]
     },
     "metadata": {},
     "output_type": "display_data"
    },
    {
     "name": "stdout",
     "output_type": "stream",
     "text": [
      "Model not saved on  roc_auc 0.9279064955595853\n"
     ]
    },
    {
     "data": {
      "application/vnd.jupyter.widget-view+json": {
       "model_id": "cff5249ffcf04e0b9d6b45c5daa181bc",
       "version_major": 2,
       "version_minor": 0
      },
      "text/plain": [
       "HBox(children=(IntProgress(value=0, max=736), HTML(value='')))"
      ]
     },
     "metadata": {},
     "output_type": "display_data"
    },
    {
     "data": {
      "application/vnd.jupyter.widget-view+json": {
       "model_id": "d4844ae34a1b42b7885ca52dc1f16d62",
       "version_major": 2,
       "version_minor": 0
      },
      "text/plain": [
       "HBox(children=(IntProgress(value=0, max=184), HTML(value='')))"
      ]
     },
     "metadata": {},
     "output_type": "display_data"
    },
    {
     "name": "stdout",
     "output_type": "stream",
     "text": [
      "{'accuracy': 0.8920251657881313, 'roc_auc': 0.9228608127586369, 'pr_auc': 0.7711841902554227}\n"
     ]
    },
    {
     "data": {
      "text/html": [
       "<div>\n",
       "<style scoped>\n",
       "    .dataframe tbody tr th:only-of-type {\n",
       "        vertical-align: middle;\n",
       "    }\n",
       "\n",
       "    .dataframe tbody tr th {\n",
       "        vertical-align: top;\n",
       "    }\n",
       "\n",
       "    .dataframe thead th {\n",
       "        text-align: right;\n",
       "    }\n",
       "</style>\n",
       "<table border=\"1\" class=\"dataframe\">\n",
       "  <thead>\n",
       "    <tr style=\"text-align: right;\">\n",
       "      <th></th>\n",
       "      <th>0</th>\n",
       "      <th>1</th>\n",
       "      <th>micro avg</th>\n",
       "      <th>macro avg</th>\n",
       "      <th>weighted avg</th>\n",
       "    </tr>\n",
       "  </thead>\n",
       "  <tbody>\n",
       "    <tr>\n",
       "      <th>f1-score</th>\n",
       "      <td>0.935</td>\n",
       "      <td>0.675</td>\n",
       "      <td>0.892</td>\n",
       "      <td>0.805</td>\n",
       "      <td>0.897</td>\n",
       "    </tr>\n",
       "    <tr>\n",
       "      <th>precision</th>\n",
       "      <td>0.959</td>\n",
       "      <td>0.601</td>\n",
       "      <td>0.892</td>\n",
       "      <td>0.780</td>\n",
       "      <td>0.907</td>\n",
       "    </tr>\n",
       "    <tr>\n",
       "      <th>recall</th>\n",
       "      <td>0.913</td>\n",
       "      <td>0.770</td>\n",
       "      <td>0.892</td>\n",
       "      <td>0.841</td>\n",
       "      <td>0.892</td>\n",
       "    </tr>\n",
       "    <tr>\n",
       "      <th>support</th>\n",
       "      <td>5025.000</td>\n",
       "      <td>856.000</td>\n",
       "      <td>5881.000</td>\n",
       "      <td>5881.000</td>\n",
       "      <td>5881.000</td>\n",
       "    </tr>\n",
       "  </tbody>\n",
       "</table>\n",
       "</div>"
      ],
      "text/plain": [
       "                  0        1  micro avg  macro avg  weighted avg\n",
       "f1-score      0.935    0.675      0.892      0.805         0.897\n",
       "precision     0.959    0.601      0.892      0.780         0.907\n",
       "recall        0.913    0.770      0.892      0.841         0.892\n",
       "support    5025.000  856.000   5881.000   5881.000      5881.000"
      ]
     },
     "metadata": {},
     "output_type": "display_data"
    },
    {
     "name": "stdout",
     "output_type": "stream",
     "text": [
      "Model not saved on  roc_auc 0.9228608127586369\n"
     ]
    },
    {
     "data": {
      "application/vnd.jupyter.widget-view+json": {
       "model_id": "e4db4db7a65d400080079f725e596b07",
       "version_major": 2,
       "version_minor": 0
      },
      "text/plain": [
       "HBox(children=(IntProgress(value=0, max=736), HTML(value='')))"
      ]
     },
     "metadata": {},
     "output_type": "display_data"
    },
    {
     "data": {
      "application/vnd.jupyter.widget-view+json": {
       "model_id": "6d3a4834579f4d08b1b10143c0cdf658",
       "version_major": 2,
       "version_minor": 0
      },
      "text/plain": [
       "HBox(children=(IntProgress(value=0, max=184), HTML(value='')))"
      ]
     },
     "metadata": {},
     "output_type": "display_data"
    },
    {
     "name": "stdout",
     "output_type": "stream",
     "text": [
      "{'accuracy': 0.9023975514368304, 'roc_auc': 0.9209258613474683, 'pr_auc': 0.754731250952376}\n"
     ]
    },
    {
     "data": {
      "text/html": [
       "<div>\n",
       "<style scoped>\n",
       "    .dataframe tbody tr th:only-of-type {\n",
       "        vertical-align: middle;\n",
       "    }\n",
       "\n",
       "    .dataframe tbody tr th {\n",
       "        vertical-align: top;\n",
       "    }\n",
       "\n",
       "    .dataframe thead th {\n",
       "        text-align: right;\n",
       "    }\n",
       "</style>\n",
       "<table border=\"1\" class=\"dataframe\">\n",
       "  <thead>\n",
       "    <tr style=\"text-align: right;\">\n",
       "      <th></th>\n",
       "      <th>0</th>\n",
       "      <th>1</th>\n",
       "      <th>micro avg</th>\n",
       "      <th>macro avg</th>\n",
       "      <th>weighted avg</th>\n",
       "    </tr>\n",
       "  </thead>\n",
       "  <tbody>\n",
       "    <tr>\n",
       "      <th>f1-score</th>\n",
       "      <td>0.942</td>\n",
       "      <td>0.688</td>\n",
       "      <td>0.902</td>\n",
       "      <td>0.815</td>\n",
       "      <td>0.905</td>\n",
       "    </tr>\n",
       "    <tr>\n",
       "      <th>precision</th>\n",
       "      <td>0.955</td>\n",
       "      <td>0.643</td>\n",
       "      <td>0.902</td>\n",
       "      <td>0.799</td>\n",
       "      <td>0.909</td>\n",
       "    </tr>\n",
       "    <tr>\n",
       "      <th>recall</th>\n",
       "      <td>0.930</td>\n",
       "      <td>0.741</td>\n",
       "      <td>0.902</td>\n",
       "      <td>0.835</td>\n",
       "      <td>0.902</td>\n",
       "    </tr>\n",
       "    <tr>\n",
       "      <th>support</th>\n",
       "      <td>5025.000</td>\n",
       "      <td>856.000</td>\n",
       "      <td>5881.000</td>\n",
       "      <td>5881.000</td>\n",
       "      <td>5881.000</td>\n",
       "    </tr>\n",
       "  </tbody>\n",
       "</table>\n",
       "</div>"
      ],
      "text/plain": [
       "                  0        1  micro avg  macro avg  weighted avg\n",
       "f1-score      0.942    0.688      0.902      0.815         0.905\n",
       "precision     0.955    0.643      0.902      0.799         0.909\n",
       "recall        0.930    0.741      0.902      0.835         0.902\n",
       "support    5025.000  856.000   5881.000   5881.000      5881.000"
      ]
     },
     "metadata": {},
     "output_type": "display_data"
    },
    {
     "name": "stdout",
     "output_type": "stream",
     "text": [
      "Model not saved on  roc_auc 0.9209258613474683\n"
     ]
    },
    {
     "data": {
      "application/vnd.jupyter.widget-view+json": {
       "model_id": "92a0ebb3f2794773b5e603ed6af58de0",
       "version_major": 2,
       "version_minor": 0
      },
      "text/plain": [
       "HBox(children=(IntProgress(value=0, max=736), HTML(value='')))"
      ]
     },
     "metadata": {},
     "output_type": "display_data"
    },
    {
     "data": {
      "application/vnd.jupyter.widget-view+json": {
       "model_id": "cdb9fa6ee66a4391968f9e01f2b06e55",
       "version_major": 2,
       "version_minor": 0
      },
      "text/plain": [
       "HBox(children=(IntProgress(value=0, max=184), HTML(value='')))"
      ]
     },
     "metadata": {},
     "output_type": "display_data"
    },
    {
     "name": "stdout",
     "output_type": "stream",
     "text": [
      "{'accuracy': 0.9029076687638157, 'roc_auc': 0.9169076347235784, 'pr_auc': 0.7340615867286254}\n"
     ]
    },
    {
     "data": {
      "text/html": [
       "<div>\n",
       "<style scoped>\n",
       "    .dataframe tbody tr th:only-of-type {\n",
       "        vertical-align: middle;\n",
       "    }\n",
       "\n",
       "    .dataframe tbody tr th {\n",
       "        vertical-align: top;\n",
       "    }\n",
       "\n",
       "    .dataframe thead th {\n",
       "        text-align: right;\n",
       "    }\n",
       "</style>\n",
       "<table border=\"1\" class=\"dataframe\">\n",
       "  <thead>\n",
       "    <tr style=\"text-align: right;\">\n",
       "      <th></th>\n",
       "      <th>0</th>\n",
       "      <th>1</th>\n",
       "      <th>micro avg</th>\n",
       "      <th>macro avg</th>\n",
       "      <th>weighted avg</th>\n",
       "    </tr>\n",
       "  </thead>\n",
       "  <tbody>\n",
       "    <tr>\n",
       "      <th>f1-score</th>\n",
       "      <td>0.943</td>\n",
       "      <td>0.683</td>\n",
       "      <td>0.903</td>\n",
       "      <td>0.813</td>\n",
       "      <td>0.905</td>\n",
       "    </tr>\n",
       "    <tr>\n",
       "      <th>precision</th>\n",
       "      <td>0.951</td>\n",
       "      <td>0.651</td>\n",
       "      <td>0.903</td>\n",
       "      <td>0.801</td>\n",
       "      <td>0.907</td>\n",
       "    </tr>\n",
       "    <tr>\n",
       "      <th>recall</th>\n",
       "      <td>0.934</td>\n",
       "      <td>0.718</td>\n",
       "      <td>0.903</td>\n",
       "      <td>0.826</td>\n",
       "      <td>0.903</td>\n",
       "    </tr>\n",
       "    <tr>\n",
       "      <th>support</th>\n",
       "      <td>5025.000</td>\n",
       "      <td>856.000</td>\n",
       "      <td>5881.000</td>\n",
       "      <td>5881.000</td>\n",
       "      <td>5881.000</td>\n",
       "    </tr>\n",
       "  </tbody>\n",
       "</table>\n",
       "</div>"
      ],
      "text/plain": [
       "                  0        1  micro avg  macro avg  weighted avg\n",
       "f1-score      0.943    0.683      0.903      0.813         0.905\n",
       "precision     0.951    0.651      0.903      0.801         0.907\n",
       "recall        0.934    0.718      0.903      0.826         0.903\n",
       "support    5025.000  856.000   5881.000   5881.000      5881.000"
      ]
     },
     "metadata": {},
     "output_type": "display_data"
    },
    {
     "name": "stdout",
     "output_type": "stream",
     "text": [
      "Model not saved on  roc_auc 0.9169076347235784\n"
     ]
    },
    {
     "data": {
      "application/vnd.jupyter.widget-view+json": {
       "model_id": "d5d5d510c9af432594a366273b8683ac",
       "version_major": 2,
       "version_minor": 0
      },
      "text/plain": [
       "HBox(children=(IntProgress(value=0, max=736), HTML(value='')))"
      ]
     },
     "metadata": {},
     "output_type": "display_data"
    },
    {
     "data": {
      "application/vnd.jupyter.widget-view+json": {
       "model_id": "8fc9288491d04314873df03d06205cf4",
       "version_major": 2,
       "version_minor": 0
      },
      "text/plain": [
       "HBox(children=(IntProgress(value=0, max=184), HTML(value='')))"
      ]
     },
     "metadata": {},
     "output_type": "display_data"
    },
    {
     "name": "stdout",
     "output_type": "stream",
     "text": [
      "{'accuracy': 0.9056282945077367, 'roc_auc': 0.9203985911563678, 'pr_auc': 0.7508553200529053}\n"
     ]
    },
    {
     "data": {
      "text/html": [
       "<div>\n",
       "<style scoped>\n",
       "    .dataframe tbody tr th:only-of-type {\n",
       "        vertical-align: middle;\n",
       "    }\n",
       "\n",
       "    .dataframe tbody tr th {\n",
       "        vertical-align: top;\n",
       "    }\n",
       "\n",
       "    .dataframe thead th {\n",
       "        text-align: right;\n",
       "    }\n",
       "</style>\n",
       "<table border=\"1\" class=\"dataframe\">\n",
       "  <thead>\n",
       "    <tr style=\"text-align: right;\">\n",
       "      <th></th>\n",
       "      <th>0</th>\n",
       "      <th>1</th>\n",
       "      <th>micro avg</th>\n",
       "      <th>macro avg</th>\n",
       "      <th>weighted avg</th>\n",
       "    </tr>\n",
       "  </thead>\n",
       "  <tbody>\n",
       "    <tr>\n",
       "      <th>f1-score</th>\n",
       "      <td>0.944</td>\n",
       "      <td>0.688</td>\n",
       "      <td>0.906</td>\n",
       "      <td>0.816</td>\n",
       "      <td>0.907</td>\n",
       "    </tr>\n",
       "    <tr>\n",
       "      <th>precision</th>\n",
       "      <td>0.951</td>\n",
       "      <td>0.663</td>\n",
       "      <td>0.906</td>\n",
       "      <td>0.807</td>\n",
       "      <td>0.909</td>\n",
       "    </tr>\n",
       "    <tr>\n",
       "      <th>recall</th>\n",
       "      <td>0.938</td>\n",
       "      <td>0.714</td>\n",
       "      <td>0.906</td>\n",
       "      <td>0.826</td>\n",
       "      <td>0.906</td>\n",
       "    </tr>\n",
       "    <tr>\n",
       "      <th>support</th>\n",
       "      <td>5025.000</td>\n",
       "      <td>856.000</td>\n",
       "      <td>5881.000</td>\n",
       "      <td>5881.000</td>\n",
       "      <td>5881.000</td>\n",
       "    </tr>\n",
       "  </tbody>\n",
       "</table>\n",
       "</div>"
      ],
      "text/plain": [
       "                  0        1  micro avg  macro avg  weighted avg\n",
       "f1-score      0.944    0.688      0.906      0.816         0.907\n",
       "precision     0.951    0.663      0.906      0.807         0.909\n",
       "recall        0.938    0.714      0.906      0.826         0.906\n",
       "support    5025.000  856.000   5881.000   5881.000      5881.000"
      ]
     },
     "metadata": {},
     "output_type": "display_data"
    },
    {
     "name": "stdout",
     "output_type": "stream",
     "text": [
      "Model not saved on  roc_auc 0.9203985911563678\n"
     ]
    },
    {
     "data": {
      "application/vnd.jupyter.widget-view+json": {
       "model_id": "06909065346b4417a94da3d1b7bbea20",
       "version_major": 2,
       "version_minor": 0
      },
      "text/plain": [
       "HBox(children=(IntProgress(value=0, max=736), HTML(value='')))"
      ]
     },
     "metadata": {},
     "output_type": "display_data"
    },
    {
     "data": {
      "application/vnd.jupyter.widget-view+json": {
       "model_id": "25eac614f31c4294a9faac0fe1812349",
       "version_major": 2,
       "version_minor": 0
      },
      "text/plain": [
       "HBox(children=(IntProgress(value=0, max=184), HTML(value='')))"
      ]
     },
     "metadata": {},
     "output_type": "display_data"
    },
    {
     "name": "stdout",
     "output_type": "stream",
     "text": [
      "{'accuracy': 0.9001870430198946, 'roc_auc': 0.9144805179708931, 'pr_auc': 0.738756433386463}\n"
     ]
    },
    {
     "data": {
      "text/html": [
       "<div>\n",
       "<style scoped>\n",
       "    .dataframe tbody tr th:only-of-type {\n",
       "        vertical-align: middle;\n",
       "    }\n",
       "\n",
       "    .dataframe tbody tr th {\n",
       "        vertical-align: top;\n",
       "    }\n",
       "\n",
       "    .dataframe thead th {\n",
       "        text-align: right;\n",
       "    }\n",
       "</style>\n",
       "<table border=\"1\" class=\"dataframe\">\n",
       "  <thead>\n",
       "    <tr style=\"text-align: right;\">\n",
       "      <th></th>\n",
       "      <th>0</th>\n",
       "      <th>1</th>\n",
       "      <th>micro avg</th>\n",
       "      <th>macro avg</th>\n",
       "      <th>weighted avg</th>\n",
       "    </tr>\n",
       "  </thead>\n",
       "  <tbody>\n",
       "    <tr>\n",
       "      <th>f1-score</th>\n",
       "      <td>0.941</td>\n",
       "      <td>0.674</td>\n",
       "      <td>0.9</td>\n",
       "      <td>0.807</td>\n",
       "      <td>0.902</td>\n",
       "    </tr>\n",
       "    <tr>\n",
       "      <th>precision</th>\n",
       "      <td>0.949</td>\n",
       "      <td>0.643</td>\n",
       "      <td>0.9</td>\n",
       "      <td>0.796</td>\n",
       "      <td>0.905</td>\n",
       "    </tr>\n",
       "    <tr>\n",
       "      <th>recall</th>\n",
       "      <td>0.933</td>\n",
       "      <td>0.708</td>\n",
       "      <td>0.9</td>\n",
       "      <td>0.820</td>\n",
       "      <td>0.900</td>\n",
       "    </tr>\n",
       "    <tr>\n",
       "      <th>support</th>\n",
       "      <td>5025.000</td>\n",
       "      <td>856.000</td>\n",
       "      <td>5881.0</td>\n",
       "      <td>5881.000</td>\n",
       "      <td>5881.000</td>\n",
       "    </tr>\n",
       "  </tbody>\n",
       "</table>\n",
       "</div>"
      ],
      "text/plain": [
       "                  0        1  micro avg  macro avg  weighted avg\n",
       "f1-score      0.941    0.674        0.9      0.807         0.902\n",
       "precision     0.949    0.643        0.9      0.796         0.905\n",
       "recall        0.933    0.708        0.9      0.820         0.900\n",
       "support    5025.000  856.000     5881.0   5881.000      5881.000"
      ]
     },
     "metadata": {},
     "output_type": "display_data"
    },
    {
     "name": "stdout",
     "output_type": "stream",
     "text": [
      "Model not saved on  roc_auc 0.9144805179708931\n"
     ]
    },
    {
     "data": {
      "application/vnd.jupyter.widget-view+json": {
       "model_id": "512e3efd70404f748e98f719adc58810",
       "version_major": 2,
       "version_minor": 0
      },
      "text/plain": [
       "HBox(children=(IntProgress(value=0, max=736), HTML(value='')))"
      ]
     },
     "metadata": {},
     "output_type": "display_data"
    },
    {
     "data": {
      "application/vnd.jupyter.widget-view+json": {
       "model_id": "9d18fc5872f04469a684c1ab4f14cd77",
       "version_major": 2,
       "version_minor": 0
      },
      "text/plain": [
       "HBox(children=(IntProgress(value=0, max=184), HTML(value='')))"
      ]
     },
     "metadata": {},
     "output_type": "display_data"
    },
    {
     "name": "stdout",
     "output_type": "stream",
     "text": [
      "{'accuracy': 0.8942356742050671, 'roc_auc': 0.9149063095736272, 'pr_auc': 0.751984868316215}\n"
     ]
    },
    {
     "data": {
      "text/html": [
       "<div>\n",
       "<style scoped>\n",
       "    .dataframe tbody tr th:only-of-type {\n",
       "        vertical-align: middle;\n",
       "    }\n",
       "\n",
       "    .dataframe tbody tr th {\n",
       "        vertical-align: top;\n",
       "    }\n",
       "\n",
       "    .dataframe thead th {\n",
       "        text-align: right;\n",
       "    }\n",
       "</style>\n",
       "<table border=\"1\" class=\"dataframe\">\n",
       "  <thead>\n",
       "    <tr style=\"text-align: right;\">\n",
       "      <th></th>\n",
       "      <th>0</th>\n",
       "      <th>1</th>\n",
       "      <th>micro avg</th>\n",
       "      <th>macro avg</th>\n",
       "      <th>weighted avg</th>\n",
       "    </tr>\n",
       "  </thead>\n",
       "  <tbody>\n",
       "    <tr>\n",
       "      <th>f1-score</th>\n",
       "      <td>0.937</td>\n",
       "      <td>0.668</td>\n",
       "      <td>0.894</td>\n",
       "      <td>0.803</td>\n",
       "      <td>0.898</td>\n",
       "    </tr>\n",
       "    <tr>\n",
       "      <th>precision</th>\n",
       "      <td>0.953</td>\n",
       "      <td>0.615</td>\n",
       "      <td>0.894</td>\n",
       "      <td>0.784</td>\n",
       "      <td>0.904</td>\n",
       "    </tr>\n",
       "    <tr>\n",
       "      <th>recall</th>\n",
       "      <td>0.922</td>\n",
       "      <td>0.731</td>\n",
       "      <td>0.894</td>\n",
       "      <td>0.827</td>\n",
       "      <td>0.894</td>\n",
       "    </tr>\n",
       "    <tr>\n",
       "      <th>support</th>\n",
       "      <td>5025.000</td>\n",
       "      <td>856.000</td>\n",
       "      <td>5881.000</td>\n",
       "      <td>5881.000</td>\n",
       "      <td>5881.000</td>\n",
       "    </tr>\n",
       "  </tbody>\n",
       "</table>\n",
       "</div>"
      ],
      "text/plain": [
       "                  0        1  micro avg  macro avg  weighted avg\n",
       "f1-score      0.937    0.668      0.894      0.803         0.898\n",
       "precision     0.953    0.615      0.894      0.784         0.904\n",
       "recall        0.922    0.731      0.894      0.827         0.894\n",
       "support    5025.000  856.000   5881.000   5881.000      5881.000"
      ]
     },
     "metadata": {},
     "output_type": "display_data"
    },
    {
     "name": "stdout",
     "output_type": "stream",
     "text": [
      "Model not saved on  roc_auc 0.9149063095736272\n"
     ]
    },
    {
     "data": {
      "application/vnd.jupyter.widget-view+json": {
       "model_id": "d4f20d117a56469cb1c615e12121e087",
       "version_major": 2,
       "version_minor": 0
      },
      "text/plain": [
       "HBox(children=(IntProgress(value=0, max=736), HTML(value='')))"
      ]
     },
     "metadata": {},
     "output_type": "display_data"
    },
    {
     "data": {
      "application/vnd.jupyter.widget-view+json": {
       "model_id": "ad97c6282dfc49479ff089421a416894",
       "version_major": 2,
       "version_minor": 0
      },
      "text/plain": [
       "HBox(children=(IntProgress(value=0, max=184), HTML(value='')))"
      ]
     },
     "metadata": {},
     "output_type": "display_data"
    },
    {
     "name": "stdout",
     "output_type": "stream",
     "text": [
      "{'accuracy': 0.8673694949838463, 'roc_auc': 0.9145200399869811, 'pr_auc': 0.7313028907024957}\n"
     ]
    },
    {
     "data": {
      "text/html": [
       "<div>\n",
       "<style scoped>\n",
       "    .dataframe tbody tr th:only-of-type {\n",
       "        vertical-align: middle;\n",
       "    }\n",
       "\n",
       "    .dataframe tbody tr th {\n",
       "        vertical-align: top;\n",
       "    }\n",
       "\n",
       "    .dataframe thead th {\n",
       "        text-align: right;\n",
       "    }\n",
       "</style>\n",
       "<table border=\"1\" class=\"dataframe\">\n",
       "  <thead>\n",
       "    <tr style=\"text-align: right;\">\n",
       "      <th></th>\n",
       "      <th>0</th>\n",
       "      <th>1</th>\n",
       "      <th>micro avg</th>\n",
       "      <th>macro avg</th>\n",
       "      <th>weighted avg</th>\n",
       "    </tr>\n",
       "  </thead>\n",
       "  <tbody>\n",
       "    <tr>\n",
       "      <th>f1-score</th>\n",
       "      <td>0.919</td>\n",
       "      <td>0.635</td>\n",
       "      <td>0.867</td>\n",
       "      <td>0.777</td>\n",
       "      <td>0.878</td>\n",
       "    </tr>\n",
       "    <tr>\n",
       "      <th>precision</th>\n",
       "      <td>0.961</td>\n",
       "      <td>0.530</td>\n",
       "      <td>0.867</td>\n",
       "      <td>0.746</td>\n",
       "      <td>0.898</td>\n",
       "    </tr>\n",
       "    <tr>\n",
       "      <th>recall</th>\n",
       "      <td>0.880</td>\n",
       "      <td>0.792</td>\n",
       "      <td>0.867</td>\n",
       "      <td>0.836</td>\n",
       "      <td>0.867</td>\n",
       "    </tr>\n",
       "    <tr>\n",
       "      <th>support</th>\n",
       "      <td>5025.000</td>\n",
       "      <td>856.000</td>\n",
       "      <td>5881.000</td>\n",
       "      <td>5881.000</td>\n",
       "      <td>5881.000</td>\n",
       "    </tr>\n",
       "  </tbody>\n",
       "</table>\n",
       "</div>"
      ],
      "text/plain": [
       "                  0        1  micro avg  macro avg  weighted avg\n",
       "f1-score      0.919    0.635      0.867      0.777         0.878\n",
       "precision     0.961    0.530      0.867      0.746         0.898\n",
       "recall        0.880    0.792      0.867      0.836         0.867\n",
       "support    5025.000  856.000   5881.000   5881.000      5881.000"
      ]
     },
     "metadata": {},
     "output_type": "display_data"
    },
    {
     "name": "stdout",
     "output_type": "stream",
     "text": [
      "Model not saved on  roc_auc 0.9145200399869811\n"
     ]
    },
    {
     "data": {
      "application/vnd.jupyter.widget-view+json": {
       "model_id": "a666d64304db4c8db45256953e94cb03",
       "version_major": 2,
       "version_minor": 0
      },
      "text/plain": [
       "HBox(children=(IntProgress(value=0, max=736), HTML(value='')))"
      ]
     },
     "metadata": {},
     "output_type": "display_data"
    },
    {
     "data": {
      "application/vnd.jupyter.widget-view+json": {
       "model_id": "298342353335421db2a3a6625b451f9a",
       "version_major": 2,
       "version_minor": 0
      },
      "text/plain": [
       "HBox(children=(IntProgress(value=0, max=184), HTML(value='')))"
      ]
     },
     "metadata": {},
     "output_type": "display_data"
    },
    {
     "name": "stdout",
     "output_type": "stream",
     "text": [
      "{'accuracy': 0.91345009352151, 'roc_auc': 0.9108344957455712, 'pr_auc': 0.7479362036335354}\n"
     ]
    },
    {
     "data": {
      "text/html": [
       "<div>\n",
       "<style scoped>\n",
       "    .dataframe tbody tr th:only-of-type {\n",
       "        vertical-align: middle;\n",
       "    }\n",
       "\n",
       "    .dataframe tbody tr th {\n",
       "        vertical-align: top;\n",
       "    }\n",
       "\n",
       "    .dataframe thead th {\n",
       "        text-align: right;\n",
       "    }\n",
       "</style>\n",
       "<table border=\"1\" class=\"dataframe\">\n",
       "  <thead>\n",
       "    <tr style=\"text-align: right;\">\n",
       "      <th></th>\n",
       "      <th>0</th>\n",
       "      <th>1</th>\n",
       "      <th>micro avg</th>\n",
       "      <th>macro avg</th>\n",
       "      <th>weighted avg</th>\n",
       "    </tr>\n",
       "  </thead>\n",
       "  <tbody>\n",
       "    <tr>\n",
       "      <th>f1-score</th>\n",
       "      <td>0.950</td>\n",
       "      <td>0.660</td>\n",
       "      <td>0.913</td>\n",
       "      <td>0.805</td>\n",
       "      <td>0.908</td>\n",
       "    </tr>\n",
       "    <tr>\n",
       "      <th>precision</th>\n",
       "      <td>0.931</td>\n",
       "      <td>0.770</td>\n",
       "      <td>0.913</td>\n",
       "      <td>0.850</td>\n",
       "      <td>0.908</td>\n",
       "    </tr>\n",
       "    <tr>\n",
       "      <th>recall</th>\n",
       "      <td>0.971</td>\n",
       "      <td>0.578</td>\n",
       "      <td>0.913</td>\n",
       "      <td>0.774</td>\n",
       "      <td>0.913</td>\n",
       "    </tr>\n",
       "    <tr>\n",
       "      <th>support</th>\n",
       "      <td>5025.000</td>\n",
       "      <td>856.000</td>\n",
       "      <td>5881.000</td>\n",
       "      <td>5881.000</td>\n",
       "      <td>5881.000</td>\n",
       "    </tr>\n",
       "  </tbody>\n",
       "</table>\n",
       "</div>"
      ],
      "text/plain": [
       "                  0        1  micro avg  macro avg  weighted avg\n",
       "f1-score      0.950    0.660      0.913      0.805         0.908\n",
       "precision     0.931    0.770      0.913      0.850         0.908\n",
       "recall        0.971    0.578      0.913      0.774         0.913\n",
       "support    5025.000  856.000   5881.000   5881.000      5881.000"
      ]
     },
     "metadata": {},
     "output_type": "display_data"
    },
    {
     "name": "stdout",
     "output_type": "stream",
     "text": [
      "Model not saved on  roc_auc 0.9108344957455712\n"
     ]
    },
    {
     "data": {
      "application/vnd.jupyter.widget-view+json": {
       "model_id": "f6ef04a60bf9476fb605eb5099a3bad2",
       "version_major": 2,
       "version_minor": 0
      },
      "text/plain": [
       "HBox(children=(IntProgress(value=0, max=736), HTML(value='')))"
      ]
     },
     "metadata": {},
     "output_type": "display_data"
    },
    {
     "data": {
      "application/vnd.jupyter.widget-view+json": {
       "model_id": "a7ecb8b8cf85415ea63b65cf8f7d1cf2",
       "version_major": 2,
       "version_minor": 0
      },
      "text/plain": [
       "HBox(children=(IntProgress(value=0, max=184), HTML(value='')))"
      ]
     },
     "metadata": {},
     "output_type": "display_data"
    },
    {
     "name": "stdout",
     "output_type": "stream",
     "text": [
      "{'accuracy': 0.8952559088590376, 'roc_auc': 0.9094894685451249, 'pr_auc': 0.7224911940469433}\n"
     ]
    },
    {
     "data": {
      "text/html": [
       "<div>\n",
       "<style scoped>\n",
       "    .dataframe tbody tr th:only-of-type {\n",
       "        vertical-align: middle;\n",
       "    }\n",
       "\n",
       "    .dataframe tbody tr th {\n",
       "        vertical-align: top;\n",
       "    }\n",
       "\n",
       "    .dataframe thead th {\n",
       "        text-align: right;\n",
       "    }\n",
       "</style>\n",
       "<table border=\"1\" class=\"dataframe\">\n",
       "  <thead>\n",
       "    <tr style=\"text-align: right;\">\n",
       "      <th></th>\n",
       "      <th>0</th>\n",
       "      <th>1</th>\n",
       "      <th>micro avg</th>\n",
       "      <th>macro avg</th>\n",
       "      <th>weighted avg</th>\n",
       "    </tr>\n",
       "  </thead>\n",
       "  <tbody>\n",
       "    <tr>\n",
       "      <th>f1-score</th>\n",
       "      <td>0.938</td>\n",
       "      <td>0.651</td>\n",
       "      <td>0.895</td>\n",
       "      <td>0.795</td>\n",
       "      <td>0.897</td>\n",
       "    </tr>\n",
       "    <tr>\n",
       "      <th>precision</th>\n",
       "      <td>0.943</td>\n",
       "      <td>0.632</td>\n",
       "      <td>0.895</td>\n",
       "      <td>0.788</td>\n",
       "      <td>0.898</td>\n",
       "    </tr>\n",
       "    <tr>\n",
       "      <th>recall</th>\n",
       "      <td>0.934</td>\n",
       "      <td>0.671</td>\n",
       "      <td>0.895</td>\n",
       "      <td>0.802</td>\n",
       "      <td>0.895</td>\n",
       "    </tr>\n",
       "    <tr>\n",
       "      <th>support</th>\n",
       "      <td>5025.000</td>\n",
       "      <td>856.000</td>\n",
       "      <td>5881.000</td>\n",
       "      <td>5881.000</td>\n",
       "      <td>5881.000</td>\n",
       "    </tr>\n",
       "  </tbody>\n",
       "</table>\n",
       "</div>"
      ],
      "text/plain": [
       "                  0        1  micro avg  macro avg  weighted avg\n",
       "f1-score      0.938    0.651      0.895      0.795         0.897\n",
       "precision     0.943    0.632      0.895      0.788         0.898\n",
       "recall        0.934    0.671      0.895      0.802         0.895\n",
       "support    5025.000  856.000   5881.000   5881.000      5881.000"
      ]
     },
     "metadata": {},
     "output_type": "display_data"
    },
    {
     "name": "stderr",
     "output_type": "stream",
     "text": [
      "INFO - 2019-03-20 17:25:19,620 - instantiating class <class 'PatientVec.models.Model.Model'> from params {'type': 'seq_classifier', 'embedder': {'type': 'token_embedder', 'vocab_size': 29286, 'embed_size': 200, 'embedding_file': './preprocess/Mortality/embedding_matrix.npy'}, 'decoder': {'num_layers': 2, 'hidden_dims': [128, 1], 'activations': ['tanh', 'linear']}, 'predictor': {'type': 'binary'}, 'structured': {'use_structured': True, 'structured_dim': 50}, 'encoder': {'type': 'cnn', 'hidden_size': 64, 'kernel_sizes': [3, 5, 7, 9], 'activation': 'relu'}} and extras {}\n",
      "INFO - 2019-03-20 17:25:19,621 - type = seq_classifier\n",
      "INFO - 2019-03-20 17:25:19,622 - instantiating class <class 'PatientVec.models.modules.Embedder.Embedder'> from params {'type': 'token_embedder', 'vocab_size': 29286, 'embed_size': 200, 'embedding_file': './preprocess/Mortality/embedding_matrix.npy'} and extras {}\n",
      "INFO - 2019-03-20 17:25:19,623 - embedder.type = token_embedder\n",
      "INFO - 2019-03-20 17:25:19,624 - instantiating class <class 'PatientVec.models.modules.Embedder.TokenEmbedder'> from params {'vocab_size': 29286, 'embed_size': 200, 'embedding_file': './preprocess/Mortality/embedding_matrix.npy'} and extras {}\n",
      "INFO - 2019-03-20 17:25:19,624 - embedder.vocab_size = 29286\n",
      "INFO - 2019-03-20 17:25:19,625 - embedder.embed_size = 200\n",
      "INFO - 2019-03-20 17:25:19,626 - embedder.embedding_file = ./preprocess/Mortality/embedding_matrix.npy\n",
      "INFO - 2019-03-20 17:25:19,667 - instantiating class <class 'PatientVec.models.modules.Encoder.Encoder'> from params {'type': 'cnn', 'hidden_size': 64, 'kernel_sizes': [3, 5, 7, 9], 'activation': 'relu'} and extras {'input_size': 200}\n",
      "INFO - 2019-03-20 17:25:19,668 - encoder.type = cnn\n",
      "INFO - 2019-03-20 17:25:19,669 - instantiating class <class 'PatientVec.models.modules.Encoder.CNNEncoder'> from params {'hidden_size': 64, 'kernel_sizes': [3, 5, 7, 9], 'activation': 'relu'} and extras {'input_size': 200}\n",
      "INFO - 2019-03-20 17:25:19,669 - encoder.hidden_size = 64\n",
      "INFO - 2019-03-20 17:25:19,670 - encoder.kernel_sizes = [3, 5, 7, 9]\n",
      "INFO - 2019-03-20 17:25:19,671 - encoder.activation = relu\n",
      "INFO - 2019-03-20 17:25:19,675 - decoder.input_dim = 306\n",
      "INFO - 2019-03-20 17:25:19,676 - decoder.num_layers = 2\n",
      "INFO - 2019-03-20 17:25:19,676 - decoder.hidden_dims = [128, 1]\n",
      "INFO - 2019-03-20 17:25:19,677 - decoder.activations = ['tanh', 'linear']\n",
      "INFO - 2019-03-20 17:25:19,677 - decoder.dropout = 0.0\n",
      "INFO - 2019-03-20 17:25:19,680 - instantiating class <class 'PatientVec.models.modules.Predictor.Predictor'> from params {'type': 'binary'} and extras {}\n",
      "INFO - 2019-03-20 17:25:19,680 - predictor.type = binary\n",
      "INFO - 2019-03-20 17:25:19,681 - instantiating class <class 'PatientVec.models.modules.Predictor.Binary_Predictor'> from params {} and extras {}\n",
      "INFO - 2019-03-20 17:25:19,681 - predictor.replicate = False\n",
      "INFO - 2019-03-20 17:25:19,682 - predictor.alpha = 0.5\n"
     ]
    },
    {
     "name": "stdout",
     "output_type": "stream",
     "text": [
      "Model not saved on  roc_auc 0.9094894685451249\n",
      "\n",
      "Setting Embedding\n"
     ]
    },
    {
     "data": {
      "application/vnd.jupyter.widget-view+json": {
       "model_id": "cd87ad6320fe403baf1f6fbab7b77c46",
       "version_major": 2,
       "version_minor": 0
      },
      "text/plain": [
       "HBox(children=(IntProgress(value=0, max=184), HTML(value='')))"
      ]
     },
     "metadata": {},
     "output_type": "display_data"
    },
    {
     "name": "stdout",
     "output_type": "stream",
     "text": [
      "\n",
      "{'accuracy': 0.7655160686958, 'roc_auc': 0.9285069977216719, 'pr_auc': 0.7841129360691663}\n"
     ]
    },
    {
     "data": {
      "text/html": [
       "<div>\n",
       "<style scoped>\n",
       "    .dataframe tbody tr th:only-of-type {\n",
       "        vertical-align: middle;\n",
       "    }\n",
       "\n",
       "    .dataframe tbody tr th {\n",
       "        vertical-align: top;\n",
       "    }\n",
       "\n",
       "    .dataframe thead th {\n",
       "        text-align: right;\n",
       "    }\n",
       "</style>\n",
       "<table border=\"1\" class=\"dataframe\">\n",
       "  <thead>\n",
       "    <tr style=\"text-align: right;\">\n",
       "      <th></th>\n",
       "      <th>0</th>\n",
       "      <th>1</th>\n",
       "      <th>micro avg</th>\n",
       "      <th>macro avg</th>\n",
       "      <th>weighted avg</th>\n",
       "    </tr>\n",
       "  </thead>\n",
       "  <tbody>\n",
       "    <tr>\n",
       "      <th>f1-score</th>\n",
       "      <td>0.844</td>\n",
       "      <td>0.530</td>\n",
       "      <td>0.766</td>\n",
       "      <td>0.687</td>\n",
       "      <td>0.798</td>\n",
       "    </tr>\n",
       "    <tr>\n",
       "      <th>precision</th>\n",
       "      <td>0.979</td>\n",
       "      <td>0.374</td>\n",
       "      <td>0.766</td>\n",
       "      <td>0.677</td>\n",
       "      <td>0.891</td>\n",
       "    </tr>\n",
       "    <tr>\n",
       "      <th>recall</th>\n",
       "      <td>0.741</td>\n",
       "      <td>0.908</td>\n",
       "      <td>0.766</td>\n",
       "      <td>0.825</td>\n",
       "      <td>0.766</td>\n",
       "    </tr>\n",
       "    <tr>\n",
       "      <th>support</th>\n",
       "      <td>5025.000</td>\n",
       "      <td>856.000</td>\n",
       "      <td>5881.000</td>\n",
       "      <td>5881.000</td>\n",
       "      <td>5881.000</td>\n",
       "    </tr>\n",
       "  </tbody>\n",
       "</table>\n",
       "</div>"
      ],
      "text/plain": [
       "                  0        1  micro avg  macro avg  weighted avg\n",
       "f1-score      0.844    0.530      0.766      0.687         0.798\n",
       "precision     0.979    0.374      0.766      0.677         0.891\n",
       "recall        0.741    0.908      0.766      0.825         0.766\n",
       "support    5025.000  856.000   5881.000   5881.000      5881.000"
      ]
     },
     "metadata": {},
     "output_type": "display_data"
    },
    {
     "name": "stdout",
     "output_type": "stream",
     "text": [
      "============================================================================================================================================================================================================================================================================================================\n"
     ]
    }
   ],
   "source": [
    "%run \"Discovery Experiments\"/run_models.py --dataset mortality_30day --data_dir=\".\" \\\n",
    "    --exp_types vanilla --display --output_dir \"outputs/\" --structured"
   ]
  }
 ],
 "metadata": {
  "kernelspec": {
   "display_name": "Python 3",
   "language": "python",
   "name": "python3"
  },
  "language_info": {
   "codemirror_mode": {
    "name": "ipython",
    "version": 3
   },
   "file_extension": ".py",
   "mimetype": "text/x-python",
   "name": "python",
   "nbconvert_exporter": "python",
   "pygments_lexer": "ipython3",
   "version": "3.7.2"
  }
 },
 "nbformat": 4,
 "nbformat_minor": 2
}
