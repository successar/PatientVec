{
 "cells": [
  {
   "cell_type": "code",
   "execution_count": null,
   "metadata": {},
   "outputs": [],
   "source": [
    "# %run \"Discovery Experiments\"/confidence_interval.py --data_dir='.' --output_dir='outputs' --display"
   ]
  },
  {
   "cell_type": "code",
   "execution_count": null,
   "metadata": {},
   "outputs": [],
   "source": [
    "%run \"Discovery Experiments\"/basic_experiments.py --data_dir='.' --output_dir='outputs' --display --dataset='mortality_30day_hcup'"
   ]
  },
  {
   "cell_type": "code",
   "execution_count": null,
   "metadata": {},
   "outputs": [
    {
     "name": "stdout",
     "output_type": "stream",
     "text": [
      "Better speed can be achieved with apex installed from https://www.github.com/nvidia/apex.\n"
     ]
    },
    {
     "name": "stderr",
     "output_type": "stream",
     "text": [
      "INFO - 2019-03-26 13:57:34,114 - Reading Structured data ...\n",
      "INFO - 2019-03-26 13:57:34,273 - Reading Notes ...\n",
      "INFO - 2019-03-26 13:57:35,243 - Stratifying ...\n"
     ]
    },
    {
     "name": "stdout",
     "output_type": "stream",
     "text": [
      "Pos Percentage [0.10104053]\n"
     ]
    },
    {
     "name": "stderr",
     "output_type": "stream",
     "text": [
      "INFO - 2019-03-26 13:57:35,760 - Maximum Sentence Length 169921.000000 , 90 percentile length 19951.000000 ... \n",
      "INFO - 2019-03-26 13:57:36,583 - Truncated all ...\n",
      "INFO - 2019-03-26 13:57:36,587 - Idxs removed []...\n",
      "INFO - 2019-03-26 13:57:36,710 - Maximum Sentence Length 55858.000000 , 90 percentile length 19968.000000 ... \n",
      "INFO - 2019-03-26 13:57:36,887 - Truncated all ...\n"
     ]
    },
    {
     "name": "stdout",
     "output_type": "stream",
     "text": [
      "Pos Percentage [0.10237203]\n"
     ]
    },
    {
     "name": "stderr",
     "output_type": "stream",
     "text": [
      "INFO - 2019-03-26 13:57:36,889 - Idxs removed []...\n",
      "INFO - 2019-03-26 13:57:36,907 - instantiating class <class 'PatientVec.models.Model.Model'> from params {'type': 'seq_classifier', 'embedder': {'type': 'token_embedder', 'vocab_size': 18542, 'embed_size': 200, 'embedding_file': '../../../SurgeryData/PatientVec/preprocess/KneeSurgery/1_yrs/embedding_matrix.npy'}, 'decoder': {'num_layers': 2, 'hidden_dims': [128, 1], 'activations': ['tanh', 'linear']}, 'predictor': {'type': 'binary'}, 'structured': {'use_structured': False}, 'encoder': {'type': 'lstm', 'hidden_size': 128}} and extras {}\n",
      "INFO - 2019-03-26 13:57:36,908 - type = seq_classifier\n",
      "INFO - 2019-03-26 13:57:36,908 - instantiating class <class 'PatientVec.models.modules.Embedder.Embedder'> from params {'type': 'token_embedder', 'vocab_size': 18542, 'embed_size': 200, 'embedding_file': '../../../SurgeryData/PatientVec/preprocess/KneeSurgery/1_yrs/embedding_matrix.npy'} and extras {}\n",
      "INFO - 2019-03-26 13:57:36,909 - embedder.type = token_embedder\n",
      "INFO - 2019-03-26 13:57:36,909 - instantiating class <class 'PatientVec.models.modules.Embedder.TokenEmbedder'> from params {'vocab_size': 18542, 'embed_size': 200, 'embedding_file': '../../../SurgeryData/PatientVec/preprocess/KneeSurgery/1_yrs/embedding_matrix.npy'} and extras {}\n",
      "INFO - 2019-03-26 13:57:36,952 - embedder.vocab_size = 18542\n",
      "INFO - 2019-03-26 13:57:36,952 - embedder.embed_size = 200\n",
      "INFO - 2019-03-26 13:57:36,952 - embedder.embedding_file = ../../../SurgeryData/PatientVec/preprocess/KneeSurgery/1_yrs/embedding_matrix.npy\n",
      "INFO - 2019-03-26 13:57:36,961 - instantiating class <class 'PatientVec.models.modules.Encoder.Encoder'> from params {'type': 'lstm', 'hidden_size': 128} and extras {'input_size': 200}\n",
      "INFO - 2019-03-26 13:57:36,962 - encoder.type = lstm\n",
      "INFO - 2019-03-26 13:57:36,962 - instantiating class <class 'PatientVec.models.modules.Encoder.wrap_pytorch_rnn.<locals>.BiRNNEncoder'> from params {'hidden_size': 128} and extras {'input_size': 200}\n",
      "INFO - 2019-03-26 13:57:36,962 - encoder.hidden_size = 128\n",
      "INFO - 2019-03-26 13:57:36,966 - decoder.input_dim = 256\n",
      "INFO - 2019-03-26 13:57:36,966 - decoder.num_layers = 2\n",
      "INFO - 2019-03-26 13:57:36,966 - decoder.hidden_dims = [128, 1]\n",
      "INFO - 2019-03-26 13:57:36,967 - decoder.activations = ['tanh', 'linear']\n",
      "INFO - 2019-03-26 13:57:36,967 - decoder.dropout = 0.0\n",
      "INFO - 2019-03-26 13:57:36,970 - instantiating class <class 'PatientVec.models.modules.Predictor.Predictor'> from params {'type': 'binary'} and extras {}\n",
      "INFO - 2019-03-26 13:57:36,970 - predictor.type = binary\n",
      "INFO - 2019-03-26 13:57:36,971 - instantiating class <class 'PatientVec.models.modules.Predictor.Binary_Predictor'> from params {} and extras {}\n",
      "INFO - 2019-03-26 13:57:36,971 - predictor.replicate = False\n",
      "INFO - 2019-03-26 13:57:36,971 - predictor.alpha = 0.5\n"
     ]
    },
    {
     "name": "stdout",
     "output_type": "stream",
     "text": [
      "{'model': {'type': 'seq_classifier', 'embedder': {'type': 'token_embedder', 'vocab_size': 18542, 'embed_size': 200, 'embedding_file': '../../../SurgeryData/PatientVec/preprocess/KneeSurgery/1_yrs/embedding_matrix.npy'}, 'decoder': {'num_layers': 2, 'hidden_dims': [128, 1], 'activations': ['tanh', 'linear']}, 'predictor': {'type': 'binary'}, 'structured': {'use_structured': False}, 'encoder': {'type': 'lstm', 'hidden_size': 128}}, 'training_config': {'type': 'Adam', 'groups': [('.*', {'lr': 0.001, 'weight_decay': 1e-05})], 'common': {'bsize': 16, 'class_weight': True}}, 'exp_config': {'exp_name': 'KneeSurgery_1/Basic/LSTM(hs=128)', 'basepath': 'outputs/confidence'}}\n",
      "Setting Embedding\n"
     ]
    },
    {
     "data": {
      "application/vnd.jupyter.widget-view+json": {
       "model_id": "713bce52d7fa4f15941778c7c7e79816",
       "version_major": 2,
       "version_minor": 0
      },
      "text/plain": [
       "HBox(children=(IntProgress(value=0, max=8), HTML(value='')))"
      ]
     },
     "metadata": {},
     "output_type": "display_data"
    },
    {
     "data": {
      "application/vnd.jupyter.widget-view+json": {
       "model_id": "7442ec9d15774ee3922ef58a868a8291",
       "version_major": 2,
       "version_minor": 0
      },
      "text/plain": [
       "HBox(children=(IntProgress(value=0, max=229), HTML(value='')))"
      ]
     },
     "metadata": {},
     "output_type": "display_data"
    },
    {
     "data": {
      "application/vnd.jupyter.widget-view+json": {
       "model_id": "1a58648cc65044a38c240f16599be446",
       "version_major": 2,
       "version_minor": 0
      },
      "text/plain": [
       "HBox(children=(IntProgress(value=0, max=51), HTML(value='')))"
      ]
     },
     "metadata": {},
     "output_type": "display_data"
    },
    {
     "name": "stdout",
     "output_type": "stream",
     "text": [
      "{'accuracy': 0.6429463171036205, 'roc_auc': 0.5628413446860477, 'pr_auc': 0.12233879907594837}\n"
     ]
    },
    {
     "data": {
      "text/html": [
       "<div>\n",
       "<style scoped>\n",
       "    .dataframe tbody tr th:only-of-type {\n",
       "        vertical-align: middle;\n",
       "    }\n",
       "\n",
       "    .dataframe tbody tr th {\n",
       "        vertical-align: top;\n",
       "    }\n",
       "\n",
       "    .dataframe thead th {\n",
       "        text-align: right;\n",
       "    }\n",
       "</style>\n",
       "<table border=\"1\" class=\"dataframe\">\n",
       "  <thead>\n",
       "    <tr style=\"text-align: right;\">\n",
       "      <th></th>\n",
       "      <th>0.0</th>\n",
       "      <th>1.0</th>\n",
       "      <th>micro avg</th>\n",
       "      <th>macro avg</th>\n",
       "      <th>weighted avg</th>\n",
       "    </tr>\n",
       "  </thead>\n",
       "  <tbody>\n",
       "    <tr>\n",
       "      <th>f1-score</th>\n",
       "      <td>0.770</td>\n",
       "      <td>0.206</td>\n",
       "      <td>0.643</td>\n",
       "      <td>0.488</td>\n",
       "      <td>0.712</td>\n",
       "    </tr>\n",
       "    <tr>\n",
       "      <th>precision</th>\n",
       "      <td>0.914</td>\n",
       "      <td>0.133</td>\n",
       "      <td>0.643</td>\n",
       "      <td>0.524</td>\n",
       "      <td>0.834</td>\n",
       "    </tr>\n",
       "    <tr>\n",
       "      <th>recall</th>\n",
       "      <td>0.665</td>\n",
       "      <td>0.451</td>\n",
       "      <td>0.643</td>\n",
       "      <td>0.558</td>\n",
       "      <td>0.643</td>\n",
       "    </tr>\n",
       "    <tr>\n",
       "      <th>support</th>\n",
       "      <td>719.000</td>\n",
       "      <td>82.000</td>\n",
       "      <td>801.000</td>\n",
       "      <td>801.000</td>\n",
       "      <td>801.000</td>\n",
       "    </tr>\n",
       "  </tbody>\n",
       "</table>\n",
       "</div>"
      ],
      "text/plain": [
       "               0.0     1.0  micro avg  macro avg  weighted avg\n",
       "f1-score     0.770   0.206      0.643      0.488         0.712\n",
       "precision    0.914   0.133      0.643      0.524         0.834\n",
       "recall       0.665   0.451      0.643      0.558         0.643\n",
       "support    719.000  82.000    801.000    801.000       801.000"
      ]
     },
     "metadata": {},
     "output_type": "display_data"
    },
    {
     "name": "stdout",
     "output_type": "stream",
     "text": [
      "Model Saved on  roc_auc 0.5628413446860477\n"
     ]
    },
    {
     "data": {
      "application/vnd.jupyter.widget-view+json": {
       "model_id": "0154edfb49b24ee8986422ec14dea60b",
       "version_major": 2,
       "version_minor": 0
      },
      "text/plain": [
       "HBox(children=(IntProgress(value=0, max=229), HTML(value='')))"
      ]
     },
     "metadata": {},
     "output_type": "display_data"
    },
    {
     "data": {
      "application/vnd.jupyter.widget-view+json": {
       "model_id": "2f5a20b6a6e5467599782952a31d0117",
       "version_major": 2,
       "version_minor": 0
      },
      "text/plain": [
       "HBox(children=(IntProgress(value=0, max=51), HTML(value='')))"
      ]
     },
     "metadata": {},
     "output_type": "display_data"
    },
    {
     "name": "stdout",
     "output_type": "stream",
     "text": [
      "{'accuracy': 0.7253433208489388, 'roc_auc': 0.5765714576478171, 'pr_auc': 0.13502269607746664}\n"
     ]
    },
    {
     "data": {
      "text/html": [
       "<div>\n",
       "<style scoped>\n",
       "    .dataframe tbody tr th:only-of-type {\n",
       "        vertical-align: middle;\n",
       "    }\n",
       "\n",
       "    .dataframe tbody tr th {\n",
       "        vertical-align: top;\n",
       "    }\n",
       "\n",
       "    .dataframe thead th {\n",
       "        text-align: right;\n",
       "    }\n",
       "</style>\n",
       "<table border=\"1\" class=\"dataframe\">\n",
       "  <thead>\n",
       "    <tr style=\"text-align: right;\">\n",
       "      <th></th>\n",
       "      <th>0.0</th>\n",
       "      <th>1.0</th>\n",
       "      <th>micro avg</th>\n",
       "      <th>macro avg</th>\n",
       "      <th>weighted avg</th>\n",
       "    </tr>\n",
       "  </thead>\n",
       "  <tbody>\n",
       "    <tr>\n",
       "      <th>f1-score</th>\n",
       "      <td>0.834</td>\n",
       "      <td>0.203</td>\n",
       "      <td>0.725</td>\n",
       "      <td>0.518</td>\n",
       "      <td>0.769</td>\n",
       "    </tr>\n",
       "    <tr>\n",
       "      <th>precision</th>\n",
       "      <td>0.911</td>\n",
       "      <td>0.144</td>\n",
       "      <td>0.725</td>\n",
       "      <td>0.528</td>\n",
       "      <td>0.833</td>\n",
       "    </tr>\n",
       "    <tr>\n",
       "      <th>recall</th>\n",
       "      <td>0.769</td>\n",
       "      <td>0.341</td>\n",
       "      <td>0.725</td>\n",
       "      <td>0.555</td>\n",
       "      <td>0.725</td>\n",
       "    </tr>\n",
       "    <tr>\n",
       "      <th>support</th>\n",
       "      <td>719.000</td>\n",
       "      <td>82.000</td>\n",
       "      <td>801.000</td>\n",
       "      <td>801.000</td>\n",
       "      <td>801.000</td>\n",
       "    </tr>\n",
       "  </tbody>\n",
       "</table>\n",
       "</div>"
      ],
      "text/plain": [
       "               0.0     1.0  micro avg  macro avg  weighted avg\n",
       "f1-score     0.834   0.203      0.725      0.518         0.769\n",
       "precision    0.911   0.144      0.725      0.528         0.833\n",
       "recall       0.769   0.341      0.725      0.555         0.725\n",
       "support    719.000  82.000    801.000    801.000       801.000"
      ]
     },
     "metadata": {},
     "output_type": "display_data"
    },
    {
     "name": "stdout",
     "output_type": "stream",
     "text": [
      "Model Saved on  roc_auc 0.5765714576478171\n"
     ]
    },
    {
     "data": {
      "application/vnd.jupyter.widget-view+json": {
       "model_id": "1e84bcb8d5d04658806cd8aa194c61af",
       "version_major": 2,
       "version_minor": 0
      },
      "text/plain": [
       "HBox(children=(IntProgress(value=0, max=229), HTML(value='')))"
      ]
     },
     "metadata": {},
     "output_type": "display_data"
    },
    {
     "data": {
      "application/vnd.jupyter.widget-view+json": {
       "model_id": "a20d7f52460d4f0b8296f96f108ea231",
       "version_major": 2,
       "version_minor": 0
      },
      "text/plain": [
       "HBox(children=(IntProgress(value=0, max=51), HTML(value='')))"
      ]
     },
     "metadata": {},
     "output_type": "display_data"
    },
    {
     "name": "stdout",
     "output_type": "stream",
     "text": [
      "{'accuracy': 0.6454431960049938, 'roc_auc': 0.5876810610943384, 'pr_auc': 0.15355827829689597}\n"
     ]
    },
    {
     "data": {
      "text/html": [
       "<div>\n",
       "<style scoped>\n",
       "    .dataframe tbody tr th:only-of-type {\n",
       "        vertical-align: middle;\n",
       "    }\n",
       "\n",
       "    .dataframe tbody tr th {\n",
       "        vertical-align: top;\n",
       "    }\n",
       "\n",
       "    .dataframe thead th {\n",
       "        text-align: right;\n",
       "    }\n",
       "</style>\n",
       "<table border=\"1\" class=\"dataframe\">\n",
       "  <thead>\n",
       "    <tr style=\"text-align: right;\">\n",
       "      <th></th>\n",
       "      <th>0.0</th>\n",
       "      <th>1.0</th>\n",
       "      <th>micro avg</th>\n",
       "      <th>macro avg</th>\n",
       "      <th>weighted avg</th>\n",
       "    </tr>\n",
       "  </thead>\n",
       "  <tbody>\n",
       "    <tr>\n",
       "      <th>f1-score</th>\n",
       "      <td>0.772</td>\n",
       "      <td>0.202</td>\n",
       "      <td>0.645</td>\n",
       "      <td>0.487</td>\n",
       "      <td>0.714</td>\n",
       "    </tr>\n",
       "    <tr>\n",
       "      <th>precision</th>\n",
       "      <td>0.913</td>\n",
       "      <td>0.131</td>\n",
       "      <td>0.645</td>\n",
       "      <td>0.522</td>\n",
       "      <td>0.833</td>\n",
       "    </tr>\n",
       "    <tr>\n",
       "      <th>recall</th>\n",
       "      <td>0.669</td>\n",
       "      <td>0.439</td>\n",
       "      <td>0.645</td>\n",
       "      <td>0.554</td>\n",
       "      <td>0.645</td>\n",
       "    </tr>\n",
       "    <tr>\n",
       "      <th>support</th>\n",
       "      <td>719.000</td>\n",
       "      <td>82.000</td>\n",
       "      <td>801.000</td>\n",
       "      <td>801.000</td>\n",
       "      <td>801.000</td>\n",
       "    </tr>\n",
       "  </tbody>\n",
       "</table>\n",
       "</div>"
      ],
      "text/plain": [
       "               0.0     1.0  micro avg  macro avg  weighted avg\n",
       "f1-score     0.772   0.202      0.645      0.487         0.714\n",
       "precision    0.913   0.131      0.645      0.522         0.833\n",
       "recall       0.669   0.439      0.645      0.554         0.645\n",
       "support    719.000  82.000    801.000    801.000       801.000"
      ]
     },
     "metadata": {},
     "output_type": "display_data"
    },
    {
     "name": "stdout",
     "output_type": "stream",
     "text": [
      "Model Saved on  roc_auc 0.5876810610943384\n"
     ]
    },
    {
     "data": {
      "application/vnd.jupyter.widget-view+json": {
       "model_id": "5568e2bdcfc14d2798ba2f1a3f23d88e",
       "version_major": 2,
       "version_minor": 0
      },
      "text/plain": [
       "HBox(children=(IntProgress(value=0, max=229), HTML(value='')))"
      ]
     },
     "metadata": {},
     "output_type": "display_data"
    },
    {
     "data": {
      "application/vnd.jupyter.widget-view+json": {
       "model_id": "189579ea5caa449095df8812584e7dd7",
       "version_major": 2,
       "version_minor": 0
      },
      "text/plain": [
       "HBox(children=(IntProgress(value=0, max=51), HTML(value='')))"
      ]
     },
     "metadata": {},
     "output_type": "display_data"
    },
    {
     "name": "stdout",
     "output_type": "stream",
     "text": [
      "{'accuracy': 0.484394506866417, 'roc_auc': 0.5347789952169342, 'pr_auc': 0.12248758916962338}\n"
     ]
    },
    {
     "data": {
      "text/html": [
       "<div>\n",
       "<style scoped>\n",
       "    .dataframe tbody tr th:only-of-type {\n",
       "        vertical-align: middle;\n",
       "    }\n",
       "\n",
       "    .dataframe tbody tr th {\n",
       "        vertical-align: top;\n",
       "    }\n",
       "\n",
       "    .dataframe thead th {\n",
       "        text-align: right;\n",
       "    }\n",
       "</style>\n",
       "<table border=\"1\" class=\"dataframe\">\n",
       "  <thead>\n",
       "    <tr style=\"text-align: right;\">\n",
       "      <th></th>\n",
       "      <th>0.0</th>\n",
       "      <th>1.0</th>\n",
       "      <th>micro avg</th>\n",
       "      <th>macro avg</th>\n",
       "      <th>weighted avg</th>\n",
       "    </tr>\n",
       "  </thead>\n",
       "  <tbody>\n",
       "    <tr>\n",
       "      <th>f1-score</th>\n",
       "      <td>0.621</td>\n",
       "      <td>0.195</td>\n",
       "      <td>0.484</td>\n",
       "      <td>0.408</td>\n",
       "      <td>0.577</td>\n",
       "    </tr>\n",
       "    <tr>\n",
       "      <th>precision</th>\n",
       "      <td>0.914</td>\n",
       "      <td>0.116</td>\n",
       "      <td>0.484</td>\n",
       "      <td>0.515</td>\n",
       "      <td>0.832</td>\n",
       "    </tr>\n",
       "    <tr>\n",
       "      <th>recall</th>\n",
       "      <td>0.470</td>\n",
       "      <td>0.610</td>\n",
       "      <td>0.484</td>\n",
       "      <td>0.540</td>\n",
       "      <td>0.484</td>\n",
       "    </tr>\n",
       "    <tr>\n",
       "      <th>support</th>\n",
       "      <td>719.000</td>\n",
       "      <td>82.000</td>\n",
       "      <td>801.000</td>\n",
       "      <td>801.000</td>\n",
       "      <td>801.000</td>\n",
       "    </tr>\n",
       "  </tbody>\n",
       "</table>\n",
       "</div>"
      ],
      "text/plain": [
       "               0.0     1.0  micro avg  macro avg  weighted avg\n",
       "f1-score     0.621   0.195      0.484      0.408         0.577\n",
       "precision    0.914   0.116      0.484      0.515         0.832\n",
       "recall       0.470   0.610      0.484      0.540         0.484\n",
       "support    719.000  82.000    801.000    801.000       801.000"
      ]
     },
     "metadata": {},
     "output_type": "display_data"
    },
    {
     "name": "stdout",
     "output_type": "stream",
     "text": [
      "Model not saved on  roc_auc 0.5347789952169342\n"
     ]
    },
    {
     "data": {
      "application/vnd.jupyter.widget-view+json": {
       "model_id": "1b1029325cb54e28b059ba0e58029caa",
       "version_major": 2,
       "version_minor": 0
      },
      "text/plain": [
       "HBox(children=(IntProgress(value=0, max=229), HTML(value='')))"
      ]
     },
     "metadata": {},
     "output_type": "display_data"
    },
    {
     "data": {
      "application/vnd.jupyter.widget-view+json": {
       "model_id": "998b1c108aa54bf6970eae5bea85b119",
       "version_major": 2,
       "version_minor": 0
      },
      "text/plain": [
       "HBox(children=(IntProgress(value=0, max=51), HTML(value='')))"
      ]
     },
     "metadata": {},
     "output_type": "display_data"
    },
    {
     "name": "stdout",
     "output_type": "stream",
     "text": [
      "{'accuracy': 0.6666666666666666, 'roc_auc': 0.5723481122154753, 'pr_auc': 0.1610082241145822}\n"
     ]
    },
    {
     "data": {
      "text/html": [
       "<div>\n",
       "<style scoped>\n",
       "    .dataframe tbody tr th:only-of-type {\n",
       "        vertical-align: middle;\n",
       "    }\n",
       "\n",
       "    .dataframe tbody tr th {\n",
       "        vertical-align: top;\n",
       "    }\n",
       "\n",
       "    .dataframe thead th {\n",
       "        text-align: right;\n",
       "    }\n",
       "</style>\n",
       "<table border=\"1\" class=\"dataframe\">\n",
       "  <thead>\n",
       "    <tr style=\"text-align: right;\">\n",
       "      <th></th>\n",
       "      <th>0.0</th>\n",
       "      <th>1.0</th>\n",
       "      <th>micro avg</th>\n",
       "      <th>macro avg</th>\n",
       "      <th>weighted avg</th>\n",
       "    </tr>\n",
       "  </thead>\n",
       "  <tbody>\n",
       "    <tr>\n",
       "      <th>f1-score</th>\n",
       "      <td>0.789</td>\n",
       "      <td>0.203</td>\n",
       "      <td>0.667</td>\n",
       "      <td>0.496</td>\n",
       "      <td>0.729</td>\n",
       "    </tr>\n",
       "    <tr>\n",
       "      <th>precision</th>\n",
       "      <td>0.912</td>\n",
       "      <td>0.134</td>\n",
       "      <td>0.667</td>\n",
       "      <td>0.523</td>\n",
       "      <td>0.833</td>\n",
       "    </tr>\n",
       "    <tr>\n",
       "      <th>recall</th>\n",
       "      <td>0.695</td>\n",
       "      <td>0.415</td>\n",
       "      <td>0.667</td>\n",
       "      <td>0.555</td>\n",
       "      <td>0.667</td>\n",
       "    </tr>\n",
       "    <tr>\n",
       "      <th>support</th>\n",
       "      <td>719.000</td>\n",
       "      <td>82.000</td>\n",
       "      <td>801.000</td>\n",
       "      <td>801.000</td>\n",
       "      <td>801.000</td>\n",
       "    </tr>\n",
       "  </tbody>\n",
       "</table>\n",
       "</div>"
      ],
      "text/plain": [
       "               0.0     1.0  micro avg  macro avg  weighted avg\n",
       "f1-score     0.789   0.203      0.667      0.496         0.729\n",
       "precision    0.912   0.134      0.667      0.523         0.833\n",
       "recall       0.695   0.415      0.667      0.555         0.667\n",
       "support    719.000  82.000    801.000    801.000       801.000"
      ]
     },
     "metadata": {},
     "output_type": "display_data"
    },
    {
     "name": "stdout",
     "output_type": "stream",
     "text": [
      "Model not saved on  roc_auc 0.5723481122154753\n"
     ]
    },
    {
     "data": {
      "application/vnd.jupyter.widget-view+json": {
       "model_id": "5b67c745ae0d4e0ebfb6a18eef391c45",
       "version_major": 2,
       "version_minor": 0
      },
      "text/plain": [
       "HBox(children=(IntProgress(value=0, max=229), HTML(value='')))"
      ]
     },
     "metadata": {},
     "output_type": "display_data"
    },
    {
     "data": {
      "application/vnd.jupyter.widget-view+json": {
       "model_id": "38eac29a387e4615a90981a2f74efad0",
       "version_major": 2,
       "version_minor": 0
      },
      "text/plain": [
       "HBox(children=(IntProgress(value=0, max=51), HTML(value='')))"
      ]
     },
     "metadata": {},
     "output_type": "display_data"
    },
    {
     "name": "stdout",
     "output_type": "stream",
     "text": [
      "{'accuracy': 0.6891385767790262, 'roc_auc': 0.5905135859425353, 'pr_auc': 0.16473960846840485}\n"
     ]
    },
    {
     "data": {
      "text/html": [
       "<div>\n",
       "<style scoped>\n",
       "    .dataframe tbody tr th:only-of-type {\n",
       "        vertical-align: middle;\n",
       "    }\n",
       "\n",
       "    .dataframe tbody tr th {\n",
       "        vertical-align: top;\n",
       "    }\n",
       "\n",
       "    .dataframe thead th {\n",
       "        text-align: right;\n",
       "    }\n",
       "</style>\n",
       "<table border=\"1\" class=\"dataframe\">\n",
       "  <thead>\n",
       "    <tr style=\"text-align: right;\">\n",
       "      <th></th>\n",
       "      <th>0.0</th>\n",
       "      <th>1.0</th>\n",
       "      <th>micro avg</th>\n",
       "      <th>macro avg</th>\n",
       "      <th>weighted avg</th>\n",
       "    </tr>\n",
       "  </thead>\n",
       "  <tbody>\n",
       "    <tr>\n",
       "      <th>f1-score</th>\n",
       "      <td>0.809</td>\n",
       "      <td>0.173</td>\n",
       "      <td>0.689</td>\n",
       "      <td>0.491</td>\n",
       "      <td>0.744</td>\n",
       "    </tr>\n",
       "    <tr>\n",
       "      <th>precision</th>\n",
       "      <td>0.904</td>\n",
       "      <td>0.119</td>\n",
       "      <td>0.689</td>\n",
       "      <td>0.511</td>\n",
       "      <td>0.823</td>\n",
       "    </tr>\n",
       "    <tr>\n",
       "      <th>recall</th>\n",
       "      <td>0.732</td>\n",
       "      <td>0.317</td>\n",
       "      <td>0.689</td>\n",
       "      <td>0.524</td>\n",
       "      <td>0.689</td>\n",
       "    </tr>\n",
       "    <tr>\n",
       "      <th>support</th>\n",
       "      <td>719.000</td>\n",
       "      <td>82.000</td>\n",
       "      <td>801.000</td>\n",
       "      <td>801.000</td>\n",
       "      <td>801.000</td>\n",
       "    </tr>\n",
       "  </tbody>\n",
       "</table>\n",
       "</div>"
      ],
      "text/plain": [
       "               0.0     1.0  micro avg  macro avg  weighted avg\n",
       "f1-score     0.809   0.173      0.689      0.491         0.744\n",
       "precision    0.904   0.119      0.689      0.511         0.823\n",
       "recall       0.732   0.317      0.689      0.524         0.689\n",
       "support    719.000  82.000    801.000    801.000       801.000"
      ]
     },
     "metadata": {},
     "output_type": "display_data"
    },
    {
     "name": "stdout",
     "output_type": "stream",
     "text": [
      "Model Saved on  roc_auc 0.5905135859425353\n"
     ]
    },
    {
     "data": {
      "application/vnd.jupyter.widget-view+json": {
       "model_id": "73e815054d8e4c6aab6e58aba448246a",
       "version_major": 2,
       "version_minor": 0
      },
      "text/plain": [
       "HBox(children=(IntProgress(value=0, max=229), HTML(value='')))"
      ]
     },
     "metadata": {},
     "output_type": "display_data"
    },
    {
     "data": {
      "application/vnd.jupyter.widget-view+json": {
       "model_id": "f5f60e62f6eb4766b98d7c43cf9dd2e8",
       "version_major": 2,
       "version_minor": 0
      },
      "text/plain": [
       "HBox(children=(IntProgress(value=0, max=51), HTML(value='')))"
      ]
     },
     "metadata": {},
     "output_type": "display_data"
    },
    {
     "name": "stdout",
     "output_type": "stream",
     "text": [
      "{'accuracy': 0.7652933832709113, 'roc_auc': 0.6005122290444045, 'pr_auc': 0.172035634351246}\n"
     ]
    },
    {
     "data": {
      "text/html": [
       "<div>\n",
       "<style scoped>\n",
       "    .dataframe tbody tr th:only-of-type {\n",
       "        vertical-align: middle;\n",
       "    }\n",
       "\n",
       "    .dataframe tbody tr th {\n",
       "        vertical-align: top;\n",
       "    }\n",
       "\n",
       "    .dataframe thead th {\n",
       "        text-align: right;\n",
       "    }\n",
       "</style>\n",
       "<table border=\"1\" class=\"dataframe\">\n",
       "  <thead>\n",
       "    <tr style=\"text-align: right;\">\n",
       "      <th></th>\n",
       "      <th>0.0</th>\n",
       "      <th>1.0</th>\n",
       "      <th>micro avg</th>\n",
       "      <th>macro avg</th>\n",
       "      <th>weighted avg</th>\n",
       "    </tr>\n",
       "  </thead>\n",
       "  <tbody>\n",
       "    <tr>\n",
       "      <th>f1-score</th>\n",
       "      <td>0.863</td>\n",
       "      <td>0.197</td>\n",
       "      <td>0.765</td>\n",
       "      <td>0.530</td>\n",
       "      <td>0.794</td>\n",
       "    </tr>\n",
       "    <tr>\n",
       "      <th>precision</th>\n",
       "      <td>0.909</td>\n",
       "      <td>0.151</td>\n",
       "      <td>0.765</td>\n",
       "      <td>0.530</td>\n",
       "      <td>0.832</td>\n",
       "    </tr>\n",
       "    <tr>\n",
       "      <th>recall</th>\n",
       "      <td>0.821</td>\n",
       "      <td>0.280</td>\n",
       "      <td>0.765</td>\n",
       "      <td>0.551</td>\n",
       "      <td>0.765</td>\n",
       "    </tr>\n",
       "    <tr>\n",
       "      <th>support</th>\n",
       "      <td>719.000</td>\n",
       "      <td>82.000</td>\n",
       "      <td>801.000</td>\n",
       "      <td>801.000</td>\n",
       "      <td>801.000</td>\n",
       "    </tr>\n",
       "  </tbody>\n",
       "</table>\n",
       "</div>"
      ],
      "text/plain": [
       "               0.0     1.0  micro avg  macro avg  weighted avg\n",
       "f1-score     0.863   0.197      0.765      0.530         0.794\n",
       "precision    0.909   0.151      0.765      0.530         0.832\n",
       "recall       0.821   0.280      0.765      0.551         0.765\n",
       "support    719.000  82.000    801.000    801.000       801.000"
      ]
     },
     "metadata": {},
     "output_type": "display_data"
    },
    {
     "name": "stdout",
     "output_type": "stream",
     "text": [
      "Model Saved on  roc_auc 0.6005122290444045\n"
     ]
    },
    {
     "data": {
      "application/vnd.jupyter.widget-view+json": {
       "model_id": "dfb160ad202a47d6be00adda831b38fb",
       "version_major": 2,
       "version_minor": 0
      },
      "text/plain": [
       "HBox(children=(IntProgress(value=0, max=229), HTML(value='')))"
      ]
     },
     "metadata": {},
     "output_type": "display_data"
    },
    {
     "data": {
      "application/vnd.jupyter.widget-view+json": {
       "model_id": "d4b5fa0c9fb34c79b681527f0125ff7e",
       "version_major": 2,
       "version_minor": 0
      },
      "text/plain": [
       "HBox(children=(IntProgress(value=0, max=51), HTML(value='')))"
      ]
     },
     "metadata": {},
     "output_type": "display_data"
    },
    {
     "name": "stdout",
     "output_type": "stream",
     "text": [
      "{'accuracy': 0.6117353308364545, 'roc_auc': 0.6109349028121713, 'pr_auc': 0.17813300104698357}\n"
     ]
    },
    {
     "data": {
      "text/html": [
       "<div>\n",
       "<style scoped>\n",
       "    .dataframe tbody tr th:only-of-type {\n",
       "        vertical-align: middle;\n",
       "    }\n",
       "\n",
       "    .dataframe tbody tr th {\n",
       "        vertical-align: top;\n",
       "    }\n",
       "\n",
       "    .dataframe thead th {\n",
       "        text-align: right;\n",
       "    }\n",
       "</style>\n",
       "<table border=\"1\" class=\"dataframe\">\n",
       "  <thead>\n",
       "    <tr style=\"text-align: right;\">\n",
       "      <th></th>\n",
       "      <th>0.0</th>\n",
       "      <th>1.0</th>\n",
       "      <th>micro avg</th>\n",
       "      <th>macro avg</th>\n",
       "      <th>weighted avg</th>\n",
       "    </tr>\n",
       "  </thead>\n",
       "  <tbody>\n",
       "    <tr>\n",
       "      <th>f1-score</th>\n",
       "      <td>0.741</td>\n",
       "      <td>0.228</td>\n",
       "      <td>0.612</td>\n",
       "      <td>0.484</td>\n",
       "      <td>0.688</td>\n",
       "    </tr>\n",
       "    <tr>\n",
       "      <th>precision</th>\n",
       "      <td>0.925</td>\n",
       "      <td>0.143</td>\n",
       "      <td>0.612</td>\n",
       "      <td>0.534</td>\n",
       "      <td>0.845</td>\n",
       "    </tr>\n",
       "    <tr>\n",
       "      <th>recall</th>\n",
       "      <td>0.618</td>\n",
       "      <td>0.561</td>\n",
       "      <td>0.612</td>\n",
       "      <td>0.589</td>\n",
       "      <td>0.612</td>\n",
       "    </tr>\n",
       "    <tr>\n",
       "      <th>support</th>\n",
       "      <td>719.000</td>\n",
       "      <td>82.000</td>\n",
       "      <td>801.000</td>\n",
       "      <td>801.000</td>\n",
       "      <td>801.000</td>\n",
       "    </tr>\n",
       "  </tbody>\n",
       "</table>\n",
       "</div>"
      ],
      "text/plain": [
       "               0.0     1.0  micro avg  macro avg  weighted avg\n",
       "f1-score     0.741   0.228      0.612      0.484         0.688\n",
       "precision    0.925   0.143      0.612      0.534         0.845\n",
       "recall       0.618   0.561      0.612      0.589         0.612\n",
       "support    719.000  82.000    801.000    801.000       801.000"
      ]
     },
     "metadata": {},
     "output_type": "display_data"
    },
    {
     "name": "stderr",
     "output_type": "stream",
     "text": [
      "INFO - 2019-03-26 14:12:56,709 - instantiating class <class 'PatientVec.models.Model.Model'> from params {'type': 'seq_classifier', 'embedder': {'type': 'token_embedder', 'vocab_size': 18542, 'embed_size': 200, 'embedding_file': '../../../SurgeryData/PatientVec/preprocess/KneeSurgery/1_yrs/embedding_matrix.npy'}, 'decoder': {'num_layers': 2, 'hidden_dims': [128, 1], 'activations': ['tanh', 'linear']}, 'predictor': {'type': 'binary'}, 'structured': {'use_structured': False}, 'encoder': {'type': 'lstm', 'hidden_size': 128}} and extras {}\n",
      "INFO - 2019-03-26 14:12:56,710 - type = seq_classifier\n",
      "INFO - 2019-03-26 14:12:56,710 - instantiating class <class 'PatientVec.models.modules.Embedder.Embedder'> from params {'type': 'token_embedder', 'vocab_size': 18542, 'embed_size': 200, 'embedding_file': '../../../SurgeryData/PatientVec/preprocess/KneeSurgery/1_yrs/embedding_matrix.npy'} and extras {}\n",
      "INFO - 2019-03-26 14:12:56,710 - embedder.type = token_embedder\n",
      "INFO - 2019-03-26 14:12:56,710 - instantiating class <class 'PatientVec.models.modules.Embedder.TokenEmbedder'> from params {'vocab_size': 18542, 'embed_size': 200, 'embedding_file': '../../../SurgeryData/PatientVec/preprocess/KneeSurgery/1_yrs/embedding_matrix.npy'} and extras {}\n",
      "INFO - 2019-03-26 14:12:56,711 - embedder.vocab_size = 18542\n",
      "INFO - 2019-03-26 14:12:56,711 - embedder.embed_size = 200\n",
      "INFO - 2019-03-26 14:12:56,711 - embedder.embedding_file = ../../../SurgeryData/PatientVec/preprocess/KneeSurgery/1_yrs/embedding_matrix.npy\n",
      "INFO - 2019-03-26 14:12:56,719 - instantiating class <class 'PatientVec.models.modules.Encoder.Encoder'> from params {'type': 'lstm', 'hidden_size': 128} and extras {'input_size': 200}\n",
      "INFO - 2019-03-26 14:12:56,720 - encoder.type = lstm\n",
      "INFO - 2019-03-26 14:12:56,720 - instantiating class <class 'PatientVec.models.modules.Encoder.wrap_pytorch_rnn.<locals>.BiRNNEncoder'> from params {'hidden_size': 128} and extras {'input_size': 200}\n",
      "INFO - 2019-03-26 14:12:56,720 - encoder.hidden_size = 128\n",
      "INFO - 2019-03-26 14:12:56,722 - decoder.input_dim = 256\n",
      "INFO - 2019-03-26 14:12:56,723 - decoder.num_layers = 2\n",
      "INFO - 2019-03-26 14:12:56,723 - decoder.hidden_dims = [128, 1]\n",
      "INFO - 2019-03-26 14:12:56,723 - decoder.activations = ['tanh', 'linear']\n",
      "INFO - 2019-03-26 14:12:56,723 - decoder.dropout = 0.0\n",
      "INFO - 2019-03-26 14:12:56,724 - instantiating class <class 'PatientVec.models.modules.Predictor.Predictor'> from params {'type': 'binary'} and extras {}\n",
      "INFO - 2019-03-26 14:12:56,725 - predictor.type = binary\n",
      "INFO - 2019-03-26 14:12:56,725 - instantiating class <class 'PatientVec.models.modules.Predictor.Binary_Predictor'> from params {} and extras {}\n",
      "INFO - 2019-03-26 14:12:56,725 - predictor.replicate = False\n",
      "INFO - 2019-03-26 14:12:56,725 - predictor.alpha = 0.5\n"
     ]
    },
    {
     "name": "stdout",
     "output_type": "stream",
     "text": [
      "Model Saved on  roc_auc 0.6109349028121713\n",
      "\n",
      "Setting Embedding\n"
     ]
    },
    {
     "data": {
      "application/vnd.jupyter.widget-view+json": {
       "model_id": "bbc2653f2198404ea7dcc4c3da958765",
       "version_major": 2,
       "version_minor": 0
      },
      "text/plain": [
       "HBox(children=(IntProgress(value=0, max=51), HTML(value='')))"
      ]
     },
     "metadata": {},
     "output_type": "display_data"
    },
    {
     "name": "stdout",
     "output_type": "stream",
     "text": [
      "\n",
      "{'accuracy': 0.6117353308364545, 'roc_auc': 0.6109349028121713, 'pr_auc': 0.17813300104698357}\n"
     ]
    },
    {
     "data": {
      "text/html": [
       "<div>\n",
       "<style scoped>\n",
       "    .dataframe tbody tr th:only-of-type {\n",
       "        vertical-align: middle;\n",
       "    }\n",
       "\n",
       "    .dataframe tbody tr th {\n",
       "        vertical-align: top;\n",
       "    }\n",
       "\n",
       "    .dataframe thead th {\n",
       "        text-align: right;\n",
       "    }\n",
       "</style>\n",
       "<table border=\"1\" class=\"dataframe\">\n",
       "  <thead>\n",
       "    <tr style=\"text-align: right;\">\n",
       "      <th></th>\n",
       "      <th>0.0</th>\n",
       "      <th>1.0</th>\n",
       "      <th>micro avg</th>\n",
       "      <th>macro avg</th>\n",
       "      <th>weighted avg</th>\n",
       "    </tr>\n",
       "  </thead>\n",
       "  <tbody>\n",
       "    <tr>\n",
       "      <th>f1-score</th>\n",
       "      <td>0.741</td>\n",
       "      <td>0.228</td>\n",
       "      <td>0.612</td>\n",
       "      <td>0.484</td>\n",
       "      <td>0.688</td>\n",
       "    </tr>\n",
       "    <tr>\n",
       "      <th>precision</th>\n",
       "      <td>0.925</td>\n",
       "      <td>0.143</td>\n",
       "      <td>0.612</td>\n",
       "      <td>0.534</td>\n",
       "      <td>0.845</td>\n",
       "    </tr>\n",
       "    <tr>\n",
       "      <th>recall</th>\n",
       "      <td>0.618</td>\n",
       "      <td>0.561</td>\n",
       "      <td>0.612</td>\n",
       "      <td>0.589</td>\n",
       "      <td>0.612</td>\n",
       "    </tr>\n",
       "    <tr>\n",
       "      <th>support</th>\n",
       "      <td>719.000</td>\n",
       "      <td>82.000</td>\n",
       "      <td>801.000</td>\n",
       "      <td>801.000</td>\n",
       "      <td>801.000</td>\n",
       "    </tr>\n",
       "  </tbody>\n",
       "</table>\n",
       "</div>"
      ],
      "text/plain": [
       "               0.0     1.0  micro avg  macro avg  weighted avg\n",
       "f1-score     0.741   0.228      0.612      0.484         0.688\n",
       "precision    0.925   0.143      0.612      0.534         0.845\n",
       "recall       0.618   0.561      0.612      0.589         0.612\n",
       "support    719.000  82.000    801.000    801.000       801.000"
      ]
     },
     "metadata": {},
     "output_type": "display_data"
    },
    {
     "name": "stderr",
     "output_type": "stream",
     "text": [
      "INFO - 2019-03-26 14:13:11,674 - instantiating class <class 'PatientVec.models.Model.Model'> from params {'type': 'seq_classifier_with_attention', 'embedder': {'type': 'token_embedder', 'vocab_size': 18542, 'embed_size': 200, 'embedding_file': '../../../SurgeryData/PatientVec/preprocess/KneeSurgery/1_yrs/embedding_matrix.npy'}, 'decoder': {'num_layers': 2, 'hidden_dims': [128, 1], 'activations': ['tanh', 'linear']}, 'predictor': {'type': 'binary'}, 'structured': {'use_structured': False}, 'encoder': {'type': 'lstm', 'hidden_size': 128}, 'attention': {'similarity': {'type': 'additive', 'hidden_size': 128}}} and extras {}\n",
      "INFO - 2019-03-26 14:13:11,675 - type = seq_classifier_with_attention\n",
      "INFO - 2019-03-26 14:13:11,675 - instantiating class <class 'PatientVec.models.modules.Embedder.Embedder'> from params {'type': 'token_embedder', 'vocab_size': 18542, 'embed_size': 200, 'embedding_file': '../../../SurgeryData/PatientVec/preprocess/KneeSurgery/1_yrs/embedding_matrix.npy'} and extras {}\n",
      "INFO - 2019-03-26 14:13:11,675 - embedder.type = token_embedder\n",
      "INFO - 2019-03-26 14:13:11,675 - instantiating class <class 'PatientVec.models.modules.Embedder.TokenEmbedder'> from params {'vocab_size': 18542, 'embed_size': 200, 'embedding_file': '../../../SurgeryData/PatientVec/preprocess/KneeSurgery/1_yrs/embedding_matrix.npy'} and extras {}\n",
      "INFO - 2019-03-26 14:13:11,676 - embedder.vocab_size = 18542\n",
      "INFO - 2019-03-26 14:13:11,676 - embedder.embed_size = 200\n",
      "INFO - 2019-03-26 14:13:11,677 - embedder.embedding_file = ../../../SurgeryData/PatientVec/preprocess/KneeSurgery/1_yrs/embedding_matrix.npy\n",
      "INFO - 2019-03-26 14:13:11,685 - instantiating class <class 'PatientVec.models.modules.Encoder.Encoder'> from params {'type': 'lstm', 'hidden_size': 128} and extras {'input_size': 200}\n",
      "INFO - 2019-03-26 14:13:11,685 - encoder.type = lstm\n",
      "INFO - 2019-03-26 14:13:11,685 - instantiating class <class 'PatientVec.models.modules.Encoder.wrap_pytorch_rnn.<locals>.BiRNNEncoder'> from params {'hidden_size': 128} and extras {'input_size': 200}\n",
      "INFO - 2019-03-26 14:13:11,686 - encoder.hidden_size = 128\n",
      "INFO - 2019-03-26 14:13:11,688 - instantiating class <class 'PatientVec.models.modules.SelfAttention.SelfAttention'> from params {'similarity': {'type': 'additive', 'hidden_size': 128, 'tensor_1_dim': 256}} and extras {}\n",
      "INFO - 2019-03-26 14:13:11,689 - instantiating class <class 'PatientVec.models.modules.UniSimilarity.UniSimilarity'> from params {'type': 'additive', 'hidden_size': 128, 'tensor_1_dim': 256} and extras {}\n",
      "INFO - 2019-03-26 14:13:11,689 - attention.similarity.type = additive\n",
      "INFO - 2019-03-26 14:13:11,689 - instantiating class <class 'PatientVec.models.modules.UniSimilarity.UniAdditiveSimilarity'> from params {'hidden_size': 128, 'tensor_1_dim': 256} and extras {}\n",
      "INFO - 2019-03-26 14:13:11,690 - attention.similarity.tensor_1_dim = 256\n",
      "INFO - 2019-03-26 14:13:11,690 - attention.similarity.hidden_size = 128\n",
      "INFO - 2019-03-26 14:13:11,690 - attention.similarity.output_size = 1\n",
      "INFO - 2019-03-26 14:13:11,691 - attention.normaliser = softmax\n",
      "INFO - 2019-03-26 14:13:11,692 - decoder.input_dim = 256\n",
      "INFO - 2019-03-26 14:13:11,692 - decoder.num_layers = 2\n",
      "INFO - 2019-03-26 14:13:11,692 - decoder.hidden_dims = [128, 1]\n",
      "INFO - 2019-03-26 14:13:11,693 - decoder.activations = ['tanh', 'linear']\n",
      "INFO - 2019-03-26 14:13:11,693 - decoder.dropout = 0.0\n",
      "INFO - 2019-03-26 14:13:11,694 - instantiating class <class 'PatientVec.models.modules.Predictor.Predictor'> from params {'type': 'binary'} and extras {}\n",
      "INFO - 2019-03-26 14:13:11,694 - predictor.type = binary\n",
      "INFO - 2019-03-26 14:13:11,694 - instantiating class <class 'PatientVec.models.modules.Predictor.Binary_Predictor'> from params {} and extras {}\n",
      "INFO - 2019-03-26 14:13:11,695 - predictor.replicate = False\n",
      "INFO - 2019-03-26 14:13:11,695 - predictor.alpha = 0.5\n"
     ]
    },
    {
     "name": "stdout",
     "output_type": "stream",
     "text": [
      "============================================================================================================================================================================================================================================================================================================\n",
      "{'model': {'type': 'seq_classifier_with_attention', 'embedder': {'type': 'token_embedder', 'vocab_size': 18542, 'embed_size': 200, 'embedding_file': '../../../SurgeryData/PatientVec/preprocess/KneeSurgery/1_yrs/embedding_matrix.npy'}, 'decoder': {'num_layers': 2, 'hidden_dims': [128, 1], 'activations': ['tanh', 'linear']}, 'predictor': {'type': 'binary'}, 'structured': {'use_structured': False}, 'encoder': {'type': 'lstm', 'hidden_size': 128}, 'attention': {'similarity': {'type': 'additive', 'hidden_size': 128}}}, 'training_config': {'type': 'Adam', 'groups': [('.*', {'lr': 0.001, 'weight_decay': 1e-05})], 'common': {'bsize': 16, 'class_weight': True}}, 'exp_config': {'exp_name': 'KneeSurgery_1/Attention/LSTM(hs=128)+Attention(additive)(hs=128)', 'basepath': 'outputs/confidence'}}\n",
      "Setting Embedding\n"
     ]
    },
    {
     "data": {
      "application/vnd.jupyter.widget-view+json": {
       "model_id": "804e83200dbc47e491be188a6f179802",
       "version_major": 2,
       "version_minor": 0
      },
      "text/plain": [
       "HBox(children=(IntProgress(value=0, max=8), HTML(value='')))"
      ]
     },
     "metadata": {},
     "output_type": "display_data"
    },
    {
     "data": {
      "application/vnd.jupyter.widget-view+json": {
       "model_id": "d577466143104ab3843c5bf4d028be8b",
       "version_major": 2,
       "version_minor": 0
      },
      "text/plain": [
       "HBox(children=(IntProgress(value=0, max=229), HTML(value='')))"
      ]
     },
     "metadata": {},
     "output_type": "display_data"
    },
    {
     "data": {
      "application/vnd.jupyter.widget-view+json": {
       "model_id": "dc81876688584efc9bc7900444f21894",
       "version_major": 2,
       "version_minor": 0
      },
      "text/plain": [
       "HBox(children=(IntProgress(value=0, max=51), HTML(value='')))"
      ]
     },
     "metadata": {},
     "output_type": "display_data"
    },
    {
     "name": "stdout",
     "output_type": "stream",
     "text": [
      "{'accuracy': 0.20848938826466917, 'roc_auc': 0.8347806913395976, 'pr_auc': 0.3351852838857713}\n"
     ]
    },
    {
     "data": {
      "text/html": [
       "<div>\n",
       "<style scoped>\n",
       "    .dataframe tbody tr th:only-of-type {\n",
       "        vertical-align: middle;\n",
       "    }\n",
       "\n",
       "    .dataframe tbody tr th {\n",
       "        vertical-align: top;\n",
       "    }\n",
       "\n",
       "    .dataframe thead th {\n",
       "        text-align: right;\n",
       "    }\n",
       "</style>\n",
       "<table border=\"1\" class=\"dataframe\">\n",
       "  <thead>\n",
       "    <tr style=\"text-align: right;\">\n",
       "      <th></th>\n",
       "      <th>0.0</th>\n",
       "      <th>1.0</th>\n",
       "      <th>micro avg</th>\n",
       "      <th>macro avg</th>\n",
       "      <th>weighted avg</th>\n",
       "    </tr>\n",
       "  </thead>\n",
       "  <tbody>\n",
       "    <tr>\n",
       "      <th>f1-score</th>\n",
       "      <td>0.213</td>\n",
       "      <td>0.204</td>\n",
       "      <td>0.208</td>\n",
       "      <td>0.208</td>\n",
       "      <td>0.212</td>\n",
       "    </tr>\n",
       "    <tr>\n",
       "      <th>precision</th>\n",
       "      <td>0.989</td>\n",
       "      <td>0.113</td>\n",
       "      <td>0.208</td>\n",
       "      <td>0.551</td>\n",
       "      <td>0.899</td>\n",
       "    </tr>\n",
       "    <tr>\n",
       "      <th>recall</th>\n",
       "      <td>0.120</td>\n",
       "      <td>0.988</td>\n",
       "      <td>0.208</td>\n",
       "      <td>0.554</td>\n",
       "      <td>0.208</td>\n",
       "    </tr>\n",
       "    <tr>\n",
       "      <th>support</th>\n",
       "      <td>719.000</td>\n",
       "      <td>82.000</td>\n",
       "      <td>801.000</td>\n",
       "      <td>801.000</td>\n",
       "      <td>801.000</td>\n",
       "    </tr>\n",
       "  </tbody>\n",
       "</table>\n",
       "</div>"
      ],
      "text/plain": [
       "               0.0     1.0  micro avg  macro avg  weighted avg\n",
       "f1-score     0.213   0.204      0.208      0.208         0.212\n",
       "precision    0.989   0.113      0.208      0.551         0.899\n",
       "recall       0.120   0.988      0.208      0.554         0.208\n",
       "support    719.000  82.000    801.000    801.000       801.000"
      ]
     },
     "metadata": {},
     "output_type": "display_data"
    },
    {
     "name": "stdout",
     "output_type": "stream",
     "text": [
      "Model Saved on  roc_auc 0.8347806913395976\n"
     ]
    },
    {
     "data": {
      "application/vnd.jupyter.widget-view+json": {
       "model_id": "a24c378461d64643a6262ebf32afcf02",
       "version_major": 2,
       "version_minor": 0
      },
      "text/plain": [
       "HBox(children=(IntProgress(value=0, max=229), HTML(value='')))"
      ]
     },
     "metadata": {},
     "output_type": "display_data"
    },
    {
     "data": {
      "application/vnd.jupyter.widget-view+json": {
       "model_id": "2fdd5ac0af154db8a706d655f948a7c1",
       "version_major": 2,
       "version_minor": 0
      },
      "text/plain": [
       "HBox(children=(IntProgress(value=0, max=51), HTML(value='')))"
      ]
     },
     "metadata": {},
     "output_type": "display_data"
    },
    {
     "name": "stdout",
     "output_type": "stream",
     "text": [
      "{'accuracy': 0.8739076154806492, 'roc_auc': 0.880304623630381, 'pr_auc': 0.5397222389007424}\n"
     ]
    },
    {
     "data": {
      "text/html": [
       "<div>\n",
       "<style scoped>\n",
       "    .dataframe tbody tr th:only-of-type {\n",
       "        vertical-align: middle;\n",
       "    }\n",
       "\n",
       "    .dataframe tbody tr th {\n",
       "        vertical-align: top;\n",
       "    }\n",
       "\n",
       "    .dataframe thead th {\n",
       "        text-align: right;\n",
       "    }\n",
       "</style>\n",
       "<table border=\"1\" class=\"dataframe\">\n",
       "  <thead>\n",
       "    <tr style=\"text-align: right;\">\n",
       "      <th></th>\n",
       "      <th>0.0</th>\n",
       "      <th>1.0</th>\n",
       "      <th>micro avg</th>\n",
       "      <th>macro avg</th>\n",
       "      <th>weighted avg</th>\n",
       "    </tr>\n",
       "  </thead>\n",
       "  <tbody>\n",
       "    <tr>\n",
       "      <th>f1-score</th>\n",
       "      <td>0.927</td>\n",
       "      <td>0.547</td>\n",
       "      <td>0.874</td>\n",
       "      <td>0.737</td>\n",
       "      <td>0.888</td>\n",
       "    </tr>\n",
       "    <tr>\n",
       "      <th>precision</th>\n",
       "      <td>0.968</td>\n",
       "      <td>0.433</td>\n",
       "      <td>0.874</td>\n",
       "      <td>0.700</td>\n",
       "      <td>0.913</td>\n",
       "    </tr>\n",
       "    <tr>\n",
       "      <th>recall</th>\n",
       "      <td>0.889</td>\n",
       "      <td>0.744</td>\n",
       "      <td>0.874</td>\n",
       "      <td>0.816</td>\n",
       "      <td>0.874</td>\n",
       "    </tr>\n",
       "    <tr>\n",
       "      <th>support</th>\n",
       "      <td>719.000</td>\n",
       "      <td>82.000</td>\n",
       "      <td>801.000</td>\n",
       "      <td>801.000</td>\n",
       "      <td>801.000</td>\n",
       "    </tr>\n",
       "  </tbody>\n",
       "</table>\n",
       "</div>"
      ],
      "text/plain": [
       "               0.0     1.0  micro avg  macro avg  weighted avg\n",
       "f1-score     0.927   0.547      0.874      0.737         0.888\n",
       "precision    0.968   0.433      0.874      0.700         0.913\n",
       "recall       0.889   0.744      0.874      0.816         0.874\n",
       "support    719.000  82.000    801.000    801.000       801.000"
      ]
     },
     "metadata": {},
     "output_type": "display_data"
    },
    {
     "name": "stdout",
     "output_type": "stream",
     "text": [
      "Model Saved on  roc_auc 0.880304623630381\n"
     ]
    },
    {
     "data": {
      "application/vnd.jupyter.widget-view+json": {
       "model_id": "8a580e01ec0b454b98ed02c37a3d2f8e",
       "version_major": 2,
       "version_minor": 0
      },
      "text/plain": [
       "HBox(children=(IntProgress(value=0, max=229), HTML(value='')))"
      ]
     },
     "metadata": {},
     "output_type": "display_data"
    },
    {
     "data": {
      "application/vnd.jupyter.widget-view+json": {
       "model_id": "448d77e232a64c28b5c3124ff14138ba",
       "version_major": 2,
       "version_minor": 0
      },
      "text/plain": [
       "HBox(children=(IntProgress(value=0, max=51), HTML(value='')))"
      ]
     },
     "metadata": {},
     "output_type": "display_data"
    },
    {
     "name": "stdout",
     "output_type": "stream",
     "text": [
      "{'accuracy': 0.8576779026217228, 'roc_auc': 0.8913124597170867, 'pr_auc': 0.5626854245621586}\n"
     ]
    },
    {
     "data": {
      "text/html": [
       "<div>\n",
       "<style scoped>\n",
       "    .dataframe tbody tr th:only-of-type {\n",
       "        vertical-align: middle;\n",
       "    }\n",
       "\n",
       "    .dataframe tbody tr th {\n",
       "        vertical-align: top;\n",
       "    }\n",
       "\n",
       "    .dataframe thead th {\n",
       "        text-align: right;\n",
       "    }\n",
       "</style>\n",
       "<table border=\"1\" class=\"dataframe\">\n",
       "  <thead>\n",
       "    <tr style=\"text-align: right;\">\n",
       "      <th></th>\n",
       "      <th>0.0</th>\n",
       "      <th>1.0</th>\n",
       "      <th>micro avg</th>\n",
       "      <th>macro avg</th>\n",
       "      <th>weighted avg</th>\n",
       "    </tr>\n",
       "  </thead>\n",
       "  <tbody>\n",
       "    <tr>\n",
       "      <th>f1-score</th>\n",
       "      <td>0.916</td>\n",
       "      <td>0.529</td>\n",
       "      <td>0.858</td>\n",
       "      <td>0.723</td>\n",
       "      <td>0.877</td>\n",
       "    </tr>\n",
       "    <tr>\n",
       "      <th>precision</th>\n",
       "      <td>0.972</td>\n",
       "      <td>0.400</td>\n",
       "      <td>0.858</td>\n",
       "      <td>0.686</td>\n",
       "      <td>0.913</td>\n",
       "    </tr>\n",
       "    <tr>\n",
       "      <th>recall</th>\n",
       "      <td>0.866</td>\n",
       "      <td>0.780</td>\n",
       "      <td>0.858</td>\n",
       "      <td>0.823</td>\n",
       "      <td>0.858</td>\n",
       "    </tr>\n",
       "    <tr>\n",
       "      <th>support</th>\n",
       "      <td>719.000</td>\n",
       "      <td>82.000</td>\n",
       "      <td>801.000</td>\n",
       "      <td>801.000</td>\n",
       "      <td>801.000</td>\n",
       "    </tr>\n",
       "  </tbody>\n",
       "</table>\n",
       "</div>"
      ],
      "text/plain": [
       "               0.0     1.0  micro avg  macro avg  weighted avg\n",
       "f1-score     0.916   0.529      0.858      0.723         0.877\n",
       "precision    0.972   0.400      0.858      0.686         0.913\n",
       "recall       0.866   0.780      0.858      0.823         0.858\n",
       "support    719.000  82.000    801.000    801.000       801.000"
      ]
     },
     "metadata": {},
     "output_type": "display_data"
    },
    {
     "name": "stdout",
     "output_type": "stream",
     "text": [
      "Model Saved on  roc_auc 0.8913124597170867\n"
     ]
    },
    {
     "data": {
      "application/vnd.jupyter.widget-view+json": {
       "model_id": "30dd519a2d854be9bb703be24081e07c",
       "version_major": 2,
       "version_minor": 0
      },
      "text/plain": [
       "HBox(children=(IntProgress(value=0, max=229), HTML(value='')))"
      ]
     },
     "metadata": {},
     "output_type": "display_data"
    },
    {
     "data": {
      "application/vnd.jupyter.widget-view+json": {
       "model_id": "4f6ec10aa0f34bf8b51cb323e0af7d75",
       "version_major": 2,
       "version_minor": 0
      },
      "text/plain": [
       "HBox(children=(IntProgress(value=0, max=51), HTML(value='')))"
      ]
     },
     "metadata": {},
     "output_type": "display_data"
    },
    {
     "name": "stdout",
     "output_type": "stream",
     "text": [
      "{'accuracy': 0.8526841448189763, 'roc_auc': 0.8911089249974559, 'pr_auc': 0.5537413010609712}\n"
     ]
    },
    {
     "data": {
      "text/html": [
       "<div>\n",
       "<style scoped>\n",
       "    .dataframe tbody tr th:only-of-type {\n",
       "        vertical-align: middle;\n",
       "    }\n",
       "\n",
       "    .dataframe tbody tr th {\n",
       "        vertical-align: top;\n",
       "    }\n",
       "\n",
       "    .dataframe thead th {\n",
       "        text-align: right;\n",
       "    }\n",
       "</style>\n",
       "<table border=\"1\" class=\"dataframe\">\n",
       "  <thead>\n",
       "    <tr style=\"text-align: right;\">\n",
       "      <th></th>\n",
       "      <th>0.0</th>\n",
       "      <th>1.0</th>\n",
       "      <th>micro avg</th>\n",
       "      <th>macro avg</th>\n",
       "      <th>weighted avg</th>\n",
       "    </tr>\n",
       "  </thead>\n",
       "  <tbody>\n",
       "    <tr>\n",
       "      <th>f1-score</th>\n",
       "      <td>0.913</td>\n",
       "      <td>0.52</td>\n",
       "      <td>0.853</td>\n",
       "      <td>0.717</td>\n",
       "      <td>0.873</td>\n",
       "    </tr>\n",
       "    <tr>\n",
       "      <th>precision</th>\n",
       "      <td>0.972</td>\n",
       "      <td>0.39</td>\n",
       "      <td>0.853</td>\n",
       "      <td>0.681</td>\n",
       "      <td>0.912</td>\n",
       "    </tr>\n",
       "    <tr>\n",
       "      <th>recall</th>\n",
       "      <td>0.861</td>\n",
       "      <td>0.78</td>\n",
       "      <td>0.853</td>\n",
       "      <td>0.821</td>\n",
       "      <td>0.853</td>\n",
       "    </tr>\n",
       "    <tr>\n",
       "      <th>support</th>\n",
       "      <td>719.000</td>\n",
       "      <td>82.00</td>\n",
       "      <td>801.000</td>\n",
       "      <td>801.000</td>\n",
       "      <td>801.000</td>\n",
       "    </tr>\n",
       "  </tbody>\n",
       "</table>\n",
       "</div>"
      ],
      "text/plain": [
       "               0.0    1.0  micro avg  macro avg  weighted avg\n",
       "f1-score     0.913   0.52      0.853      0.717         0.873\n",
       "precision    0.972   0.39      0.853      0.681         0.912\n",
       "recall       0.861   0.78      0.853      0.821         0.853\n",
       "support    719.000  82.00    801.000    801.000       801.000"
      ]
     },
     "metadata": {},
     "output_type": "display_data"
    },
    {
     "name": "stdout",
     "output_type": "stream",
     "text": [
      "Model not saved on  roc_auc 0.8911089249974559\n"
     ]
    },
    {
     "data": {
      "application/vnd.jupyter.widget-view+json": {
       "model_id": "d5a66bc40829484294a4a43b4da9465d",
       "version_major": 2,
       "version_minor": 0
      },
      "text/plain": [
       "HBox(children=(IntProgress(value=0, max=229), HTML(value='')))"
      ]
     },
     "metadata": {},
     "output_type": "display_data"
    },
    {
     "data": {
      "application/vnd.jupyter.widget-view+json": {
       "model_id": "4d10d39324a6475ca88dcb185802ba6c",
       "version_major": 2,
       "version_minor": 0
      },
      "text/plain": [
       "HBox(children=(IntProgress(value=0, max=51), HTML(value='')))"
      ]
     },
     "metadata": {},
     "output_type": "display_data"
    },
    {
     "name": "stdout",
     "output_type": "stream",
     "text": [
      "{'accuracy': 0.7166042446941323, 'roc_auc': 0.870450150954917, 'pr_auc': 0.525652640127832}\n"
     ]
    },
    {
     "data": {
      "text/html": [
       "<div>\n",
       "<style scoped>\n",
       "    .dataframe tbody tr th:only-of-type {\n",
       "        vertical-align: middle;\n",
       "    }\n",
       "\n",
       "    .dataframe tbody tr th {\n",
       "        vertical-align: top;\n",
       "    }\n",
       "\n",
       "    .dataframe thead th {\n",
       "        text-align: right;\n",
       "    }\n",
       "</style>\n",
       "<table border=\"1\" class=\"dataframe\">\n",
       "  <thead>\n",
       "    <tr style=\"text-align: right;\">\n",
       "      <th></th>\n",
       "      <th>0.0</th>\n",
       "      <th>1.0</th>\n",
       "      <th>micro avg</th>\n",
       "      <th>macro avg</th>\n",
       "      <th>weighted avg</th>\n",
       "    </tr>\n",
       "  </thead>\n",
       "  <tbody>\n",
       "    <tr>\n",
       "      <th>f1-score</th>\n",
       "      <td>0.817</td>\n",
       "      <td>0.368</td>\n",
       "      <td>0.717</td>\n",
       "      <td>0.593</td>\n",
       "      <td>0.771</td>\n",
       "    </tr>\n",
       "    <tr>\n",
       "      <th>precision</th>\n",
       "      <td>0.969</td>\n",
       "      <td>0.238</td>\n",
       "      <td>0.717</td>\n",
       "      <td>0.604</td>\n",
       "      <td>0.895</td>\n",
       "    </tr>\n",
       "    <tr>\n",
       "      <th>recall</th>\n",
       "      <td>0.707</td>\n",
       "      <td>0.805</td>\n",
       "      <td>0.717</td>\n",
       "      <td>0.756</td>\n",
       "      <td>0.717</td>\n",
       "    </tr>\n",
       "    <tr>\n",
       "      <th>support</th>\n",
       "      <td>719.000</td>\n",
       "      <td>82.000</td>\n",
       "      <td>801.000</td>\n",
       "      <td>801.000</td>\n",
       "      <td>801.000</td>\n",
       "    </tr>\n",
       "  </tbody>\n",
       "</table>\n",
       "</div>"
      ],
      "text/plain": [
       "               0.0     1.0  micro avg  macro avg  weighted avg\n",
       "f1-score     0.817   0.368      0.717      0.593         0.771\n",
       "precision    0.969   0.238      0.717      0.604         0.895\n",
       "recall       0.707   0.805      0.717      0.756         0.717\n",
       "support    719.000  82.000    801.000    801.000       801.000"
      ]
     },
     "metadata": {},
     "output_type": "display_data"
    },
    {
     "name": "stdout",
     "output_type": "stream",
     "text": [
      "Model not saved on  roc_auc 0.870450150954917\n"
     ]
    },
    {
     "data": {
      "application/vnd.jupyter.widget-view+json": {
       "model_id": "81ed79209fc74799a659301a211b90de",
       "version_major": 2,
       "version_minor": 0
      },
      "text/plain": [
       "HBox(children=(IntProgress(value=0, max=229), HTML(value='')))"
      ]
     },
     "metadata": {},
     "output_type": "display_data"
    },
    {
     "data": {
      "application/vnd.jupyter.widget-view+json": {
       "model_id": "cb981223ad464fd6ba91fef3eff5a869",
       "version_major": 2,
       "version_minor": 0
      },
      "text/plain": [
       "HBox(children=(IntProgress(value=0, max=51), HTML(value='')))"
      ]
     },
     "metadata": {},
     "output_type": "display_data"
    },
    {
     "name": "stdout",
     "output_type": "stream",
     "text": [
      "{'accuracy': 0.8551810237203495, 'roc_auc': 0.8611893212117101, 'pr_auc': 0.5264476586146125}\n"
     ]
    },
    {
     "data": {
      "text/html": [
       "<div>\n",
       "<style scoped>\n",
       "    .dataframe tbody tr th:only-of-type {\n",
       "        vertical-align: middle;\n",
       "    }\n",
       "\n",
       "    .dataframe tbody tr th {\n",
       "        vertical-align: top;\n",
       "    }\n",
       "\n",
       "    .dataframe thead th {\n",
       "        text-align: right;\n",
       "    }\n",
       "</style>\n",
       "<table border=\"1\" class=\"dataframe\">\n",
       "  <thead>\n",
       "    <tr style=\"text-align: right;\">\n",
       "      <th></th>\n",
       "      <th>0.0</th>\n",
       "      <th>1.0</th>\n",
       "      <th>micro avg</th>\n",
       "      <th>macro avg</th>\n",
       "      <th>weighted avg</th>\n",
       "    </tr>\n",
       "  </thead>\n",
       "  <tbody>\n",
       "    <tr>\n",
       "      <th>f1-score</th>\n",
       "      <td>0.915</td>\n",
       "      <td>0.504</td>\n",
       "      <td>0.855</td>\n",
       "      <td>0.710</td>\n",
       "      <td>0.873</td>\n",
       "    </tr>\n",
       "    <tr>\n",
       "      <th>precision</th>\n",
       "      <td>0.965</td>\n",
       "      <td>0.388</td>\n",
       "      <td>0.855</td>\n",
       "      <td>0.676</td>\n",
       "      <td>0.906</td>\n",
       "    </tr>\n",
       "    <tr>\n",
       "      <th>recall</th>\n",
       "      <td>0.871</td>\n",
       "      <td>0.720</td>\n",
       "      <td>0.855</td>\n",
       "      <td>0.795</td>\n",
       "      <td>0.855</td>\n",
       "    </tr>\n",
       "    <tr>\n",
       "      <th>support</th>\n",
       "      <td>719.000</td>\n",
       "      <td>82.000</td>\n",
       "      <td>801.000</td>\n",
       "      <td>801.000</td>\n",
       "      <td>801.000</td>\n",
       "    </tr>\n",
       "  </tbody>\n",
       "</table>\n",
       "</div>"
      ],
      "text/plain": [
       "               0.0     1.0  micro avg  macro avg  weighted avg\n",
       "f1-score     0.915   0.504      0.855      0.710         0.873\n",
       "precision    0.965   0.388      0.855      0.676         0.906\n",
       "recall       0.871   0.720      0.855      0.795         0.855\n",
       "support    719.000  82.000    801.000    801.000       801.000"
      ]
     },
     "metadata": {},
     "output_type": "display_data"
    },
    {
     "name": "stderr",
     "output_type": "stream",
     "text": [
      "INFO - 2019-03-26 14:25:11,593 - instantiating class <class 'PatientVec.models.Model.Model'> from params {'type': 'seq_classifier_with_attention', 'embedder': {'type': 'token_embedder', 'vocab_size': 18542, 'embed_size': 200, 'embedding_file': '../../../SurgeryData/PatientVec/preprocess/KneeSurgery/1_yrs/embedding_matrix.npy'}, 'decoder': {'num_layers': 2, 'hidden_dims': [128, 1], 'activations': ['tanh', 'linear']}, 'predictor': {'type': 'binary'}, 'structured': {'use_structured': False}, 'encoder': {'type': 'lstm', 'hidden_size': 128}, 'attention': {'similarity': {'type': 'additive', 'hidden_size': 128}}} and extras {}\n",
      "INFO - 2019-03-26 14:25:11,593 - type = seq_classifier_with_attention\n",
      "INFO - 2019-03-26 14:25:11,594 - instantiating class <class 'PatientVec.models.modules.Embedder.Embedder'> from params {'type': 'token_embedder', 'vocab_size': 18542, 'embed_size': 200, 'embedding_file': '../../../SurgeryData/PatientVec/preprocess/KneeSurgery/1_yrs/embedding_matrix.npy'} and extras {}\n",
      "INFO - 2019-03-26 14:25:11,594 - embedder.type = token_embedder\n",
      "INFO - 2019-03-26 14:25:11,594 - instantiating class <class 'PatientVec.models.modules.Embedder.TokenEmbedder'> from params {'vocab_size': 18542, 'embed_size': 200, 'embedding_file': '../../../SurgeryData/PatientVec/preprocess/KneeSurgery/1_yrs/embedding_matrix.npy'} and extras {}\n",
      "INFO - 2019-03-26 14:25:11,594 - embedder.vocab_size = 18542\n",
      "INFO - 2019-03-26 14:25:11,595 - embedder.embed_size = 200\n",
      "INFO - 2019-03-26 14:25:11,595 - embedder.embedding_file = ../../../SurgeryData/PatientVec/preprocess/KneeSurgery/1_yrs/embedding_matrix.npy\n",
      "INFO - 2019-03-26 14:25:11,603 - instantiating class <class 'PatientVec.models.modules.Encoder.Encoder'> from params {'type': 'lstm', 'hidden_size': 128} and extras {'input_size': 200}\n",
      "INFO - 2019-03-26 14:25:11,603 - encoder.type = lstm\n",
      "INFO - 2019-03-26 14:25:11,603 - instantiating class <class 'PatientVec.models.modules.Encoder.wrap_pytorch_rnn.<locals>.BiRNNEncoder'> from params {'hidden_size': 128} and extras {'input_size': 200}\n",
      "INFO - 2019-03-26 14:25:11,604 - encoder.hidden_size = 128\n",
      "INFO - 2019-03-26 14:25:11,606 - instantiating class <class 'PatientVec.models.modules.SelfAttention.SelfAttention'> from params {'similarity': {'type': 'additive', 'hidden_size': 128, 'tensor_1_dim': 256}} and extras {}\n",
      "INFO - 2019-03-26 14:25:11,606 - instantiating class <class 'PatientVec.models.modules.UniSimilarity.UniSimilarity'> from params {'type': 'additive', 'hidden_size': 128, 'tensor_1_dim': 256} and extras {}\n",
      "INFO - 2019-03-26 14:25:11,607 - attention.similarity.type = additive\n",
      "INFO - 2019-03-26 14:25:11,607 - instantiating class <class 'PatientVec.models.modules.UniSimilarity.UniAdditiveSimilarity'> from params {'hidden_size': 128, 'tensor_1_dim': 256} and extras {}\n",
      "INFO - 2019-03-26 14:25:11,607 - attention.similarity.tensor_1_dim = 256\n",
      "INFO - 2019-03-26 14:25:11,607 - attention.similarity.hidden_size = 128\n",
      "INFO - 2019-03-26 14:25:11,608 - attention.similarity.output_size = 1\n",
      "INFO - 2019-03-26 14:25:11,609 - attention.normaliser = softmax\n",
      "INFO - 2019-03-26 14:25:11,609 - decoder.input_dim = 256\n",
      "INFO - 2019-03-26 14:25:11,610 - decoder.num_layers = 2\n",
      "INFO - 2019-03-26 14:25:11,610 - decoder.hidden_dims = [128, 1]\n",
      "INFO - 2019-03-26 14:25:11,610 - decoder.activations = ['tanh', 'linear']\n",
      "INFO - 2019-03-26 14:25:11,610 - decoder.dropout = 0.0\n",
      "INFO - 2019-03-26 14:25:11,611 - instantiating class <class 'PatientVec.models.modules.Predictor.Predictor'> from params {'type': 'binary'} and extras {}\n",
      "INFO - 2019-03-26 14:25:11,612 - predictor.type = binary\n",
      "INFO - 2019-03-26 14:25:11,612 - instantiating class <class 'PatientVec.models.modules.Predictor.Binary_Predictor'> from params {} and extras {}\n",
      "INFO - 2019-03-26 14:25:11,612 - predictor.replicate = False\n",
      "INFO - 2019-03-26 14:25:11,612 - predictor.alpha = 0.5\n"
     ]
    },
    {
     "name": "stdout",
     "output_type": "stream",
     "text": [
      "Model not saved on  roc_auc 0.8611893212117101\n",
      "0.8913124597170867 deque([0.8911089249974559, 0.870450150954917, 0.8611893212117101], maxlen=3)\n",
      "\n",
      "Setting Embedding\n"
     ]
    },
    {
     "data": {
      "application/vnd.jupyter.widget-view+json": {
       "model_id": "c6146811bd4d4fd08b3b120974400b5e",
       "version_major": 2,
       "version_minor": 0
      },
      "text/plain": [
       "HBox(children=(IntProgress(value=0, max=51), HTML(value='')))"
      ]
     },
     "metadata": {},
     "output_type": "display_data"
    },
    {
     "name": "stdout",
     "output_type": "stream",
     "text": [
      "\n",
      "{'accuracy': 0.8576779026217228, 'roc_auc': 0.8913124597170867, 'pr_auc': 0.5626854245621586}\n"
     ]
    },
    {
     "data": {
      "text/html": [
       "<div>\n",
       "<style scoped>\n",
       "    .dataframe tbody tr th:only-of-type {\n",
       "        vertical-align: middle;\n",
       "    }\n",
       "\n",
       "    .dataframe tbody tr th {\n",
       "        vertical-align: top;\n",
       "    }\n",
       "\n",
       "    .dataframe thead th {\n",
       "        text-align: right;\n",
       "    }\n",
       "</style>\n",
       "<table border=\"1\" class=\"dataframe\">\n",
       "  <thead>\n",
       "    <tr style=\"text-align: right;\">\n",
       "      <th></th>\n",
       "      <th>0.0</th>\n",
       "      <th>1.0</th>\n",
       "      <th>micro avg</th>\n",
       "      <th>macro avg</th>\n",
       "      <th>weighted avg</th>\n",
       "    </tr>\n",
       "  </thead>\n",
       "  <tbody>\n",
       "    <tr>\n",
       "      <th>f1-score</th>\n",
       "      <td>0.916</td>\n",
       "      <td>0.529</td>\n",
       "      <td>0.858</td>\n",
       "      <td>0.723</td>\n",
       "      <td>0.877</td>\n",
       "    </tr>\n",
       "    <tr>\n",
       "      <th>precision</th>\n",
       "      <td>0.972</td>\n",
       "      <td>0.400</td>\n",
       "      <td>0.858</td>\n",
       "      <td>0.686</td>\n",
       "      <td>0.913</td>\n",
       "    </tr>\n",
       "    <tr>\n",
       "      <th>recall</th>\n",
       "      <td>0.866</td>\n",
       "      <td>0.780</td>\n",
       "      <td>0.858</td>\n",
       "      <td>0.823</td>\n",
       "      <td>0.858</td>\n",
       "    </tr>\n",
       "    <tr>\n",
       "      <th>support</th>\n",
       "      <td>719.000</td>\n",
       "      <td>82.000</td>\n",
       "      <td>801.000</td>\n",
       "      <td>801.000</td>\n",
       "      <td>801.000</td>\n",
       "    </tr>\n",
       "  </tbody>\n",
       "</table>\n",
       "</div>"
      ],
      "text/plain": [
       "               0.0     1.0  micro avg  macro avg  weighted avg\n",
       "f1-score     0.916   0.529      0.858      0.723         0.877\n",
       "precision    0.972   0.400      0.858      0.686         0.913\n",
       "recall       0.866   0.780      0.858      0.823         0.858\n",
       "support    719.000  82.000    801.000    801.000       801.000"
      ]
     },
     "metadata": {},
     "output_type": "display_data"
    },
    {
     "name": "stderr",
     "output_type": "stream",
     "text": [
      "INFO - 2019-03-26 14:25:26,900 - instantiating class <class 'PatientVec.models.Model.Model'> from params {'type': 'seq_classifier', 'embedder': {'type': 'token_embedder', 'vocab_size': 18542, 'embed_size': 200, 'embedding_file': '../../../SurgeryData/PatientVec/preprocess/KneeSurgery/1_yrs/embedding_matrix.npy'}, 'decoder': {'num_layers': 2, 'hidden_dims': [128, 1], 'activations': ['tanh', 'linear']}, 'predictor': {'type': 'binary'}, 'structured': {'use_structured': False}, 'encoder': {'type': 'cnn', 'hidden_size': 64, 'kernel_sizes': [3, 5, 7, 9], 'activation': 'relu'}} and extras {}\n",
      "INFO - 2019-03-26 14:25:26,900 - type = seq_classifier\n",
      "INFO - 2019-03-26 14:25:26,901 - instantiating class <class 'PatientVec.models.modules.Embedder.Embedder'> from params {'type': 'token_embedder', 'vocab_size': 18542, 'embed_size': 200, 'embedding_file': '../../../SurgeryData/PatientVec/preprocess/KneeSurgery/1_yrs/embedding_matrix.npy'} and extras {}\n",
      "INFO - 2019-03-26 14:25:26,901 - embedder.type = token_embedder\n",
      "INFO - 2019-03-26 14:25:26,901 - instantiating class <class 'PatientVec.models.modules.Embedder.TokenEmbedder'> from params {'vocab_size': 18542, 'embed_size': 200, 'embedding_file': '../../../SurgeryData/PatientVec/preprocess/KneeSurgery/1_yrs/embedding_matrix.npy'} and extras {}\n",
      "INFO - 2019-03-26 14:25:26,902 - embedder.vocab_size = 18542\n",
      "INFO - 2019-03-26 14:25:26,902 - embedder.embed_size = 200\n",
      "INFO - 2019-03-26 14:25:26,902 - embedder.embedding_file = ../../../SurgeryData/PatientVec/preprocess/KneeSurgery/1_yrs/embedding_matrix.npy\n",
      "INFO - 2019-03-26 14:25:26,911 - instantiating class <class 'PatientVec.models.modules.Encoder.Encoder'> from params {'type': 'cnn', 'hidden_size': 64, 'kernel_sizes': [3, 5, 7, 9], 'activation': 'relu'} and extras {'input_size': 200}\n",
      "INFO - 2019-03-26 14:25:26,911 - encoder.type = cnn\n",
      "INFO - 2019-03-26 14:25:26,911 - instantiating class <class 'PatientVec.models.modules.Encoder.CNNEncoder'> from params {'hidden_size': 64, 'kernel_sizes': [3, 5, 7, 9], 'activation': 'relu'} and extras {'input_size': 200}\n",
      "INFO - 2019-03-26 14:25:26,912 - encoder.hidden_size = 64\n",
      "INFO - 2019-03-26 14:25:26,912 - encoder.kernel_sizes = [3, 5, 7, 9]\n",
      "INFO - 2019-03-26 14:25:26,912 - encoder.activation = relu\n",
      "INFO - 2019-03-26 14:25:26,915 - decoder.input_dim = 256\n",
      "INFO - 2019-03-26 14:25:26,916 - decoder.num_layers = 2\n",
      "INFO - 2019-03-26 14:25:26,916 - decoder.hidden_dims = [128, 1]\n",
      "INFO - 2019-03-26 14:25:26,916 - decoder.activations = ['tanh', 'linear']\n",
      "INFO - 2019-03-26 14:25:26,916 - decoder.dropout = 0.0\n",
      "INFO - 2019-03-26 14:25:26,918 - instantiating class <class 'PatientVec.models.modules.Predictor.Predictor'> from params {'type': 'binary'} and extras {}\n",
      "INFO - 2019-03-26 14:25:26,918 - predictor.type = binary\n",
      "INFO - 2019-03-26 14:25:26,918 - instantiating class <class 'PatientVec.models.modules.Predictor.Binary_Predictor'> from params {} and extras {}\n",
      "INFO - 2019-03-26 14:25:26,918 - predictor.replicate = False\n",
      "INFO - 2019-03-26 14:25:26,919 - predictor.alpha = 0.5\n"
     ]
    },
    {
     "name": "stdout",
     "output_type": "stream",
     "text": [
      "============================================================================================================================================================================================================================================================================================================\n",
      "{'model': {'type': 'seq_classifier', 'embedder': {'type': 'token_embedder', 'vocab_size': 18542, 'embed_size': 200, 'embedding_file': '../../../SurgeryData/PatientVec/preprocess/KneeSurgery/1_yrs/embedding_matrix.npy'}, 'decoder': {'num_layers': 2, 'hidden_dims': [128, 1], 'activations': ['tanh', 'linear']}, 'predictor': {'type': 'binary'}, 'structured': {'use_structured': False}, 'encoder': {'type': 'cnn', 'hidden_size': 64, 'kernel_sizes': [3, 5, 7, 9], 'activation': 'relu'}}, 'training_config': {'type': 'Adam', 'groups': [('.*', {'lr': 0.001, 'weight_decay': 1e-05})], 'common': {'bsize': 16, 'class_weight': True}}, 'exp_config': {'exp_name': 'KneeSurgery_1/Basic/CNN(hs=64)(kernels=3,5,7,9)', 'basepath': 'outputs/confidence'}}\n",
      "Setting Embedding\n"
     ]
    },
    {
     "data": {
      "application/vnd.jupyter.widget-view+json": {
       "model_id": "81cd0c82c3b14a4ca98343abc7a925fe",
       "version_major": 2,
       "version_minor": 0
      },
      "text/plain": [
       "HBox(children=(IntProgress(value=0, max=8), HTML(value='')))"
      ]
     },
     "metadata": {},
     "output_type": "display_data"
    },
    {
     "data": {
      "application/vnd.jupyter.widget-view+json": {
       "model_id": "f812a5547176496b95b09620bd62c6d8",
       "version_major": 2,
       "version_minor": 0
      },
      "text/plain": [
       "HBox(children=(IntProgress(value=0, max=229), HTML(value='')))"
      ]
     },
     "metadata": {},
     "output_type": "display_data"
    },
    {
     "data": {
      "application/vnd.jupyter.widget-view+json": {
       "model_id": "bdfce8e582284b588601209c7d54fa16",
       "version_major": 2,
       "version_minor": 0
      },
      "text/plain": [
       "HBox(children=(IntProgress(value=0, max=51), HTML(value='')))"
      ]
     },
     "metadata": {},
     "output_type": "display_data"
    },
    {
     "name": "stdout",
     "output_type": "stream",
     "text": [
      "{'accuracy': 0.898876404494382, 'roc_auc': 0.8708063367142713, 'pr_auc': 0.5705094830366726}\n"
     ]
    },
    {
     "data": {
      "text/html": [
       "<div>\n",
       "<style scoped>\n",
       "    .dataframe tbody tr th:only-of-type {\n",
       "        vertical-align: middle;\n",
       "    }\n",
       "\n",
       "    .dataframe tbody tr th {\n",
       "        vertical-align: top;\n",
       "    }\n",
       "\n",
       "    .dataframe thead th {\n",
       "        text-align: right;\n",
       "    }\n",
       "</style>\n",
       "<table border=\"1\" class=\"dataframe\">\n",
       "  <thead>\n",
       "    <tr style=\"text-align: right;\">\n",
       "      <th></th>\n",
       "      <th>0.0</th>\n",
       "      <th>1.0</th>\n",
       "      <th>micro avg</th>\n",
       "      <th>macro avg</th>\n",
       "      <th>weighted avg</th>\n",
       "    </tr>\n",
       "  </thead>\n",
       "  <tbody>\n",
       "    <tr>\n",
       "      <th>f1-score</th>\n",
       "      <td>0.942</td>\n",
       "      <td>0.597</td>\n",
       "      <td>0.899</td>\n",
       "      <td>0.770</td>\n",
       "      <td>0.907</td>\n",
       "    </tr>\n",
       "    <tr>\n",
       "      <th>precision</th>\n",
       "      <td>0.968</td>\n",
       "      <td>0.504</td>\n",
       "      <td>0.899</td>\n",
       "      <td>0.736</td>\n",
       "      <td>0.920</td>\n",
       "    </tr>\n",
       "    <tr>\n",
       "      <th>recall</th>\n",
       "      <td>0.918</td>\n",
       "      <td>0.732</td>\n",
       "      <td>0.899</td>\n",
       "      <td>0.825</td>\n",
       "      <td>0.899</td>\n",
       "    </tr>\n",
       "    <tr>\n",
       "      <th>support</th>\n",
       "      <td>719.000</td>\n",
       "      <td>82.000</td>\n",
       "      <td>801.000</td>\n",
       "      <td>801.000</td>\n",
       "      <td>801.000</td>\n",
       "    </tr>\n",
       "  </tbody>\n",
       "</table>\n",
       "</div>"
      ],
      "text/plain": [
       "               0.0     1.0  micro avg  macro avg  weighted avg\n",
       "f1-score     0.942   0.597      0.899      0.770         0.907\n",
       "precision    0.968   0.504      0.899      0.736         0.920\n",
       "recall       0.918   0.732      0.899      0.825         0.899\n",
       "support    719.000  82.000    801.000    801.000       801.000"
      ]
     },
     "metadata": {},
     "output_type": "display_data"
    },
    {
     "name": "stdout",
     "output_type": "stream",
     "text": [
      "Model Saved on  roc_auc 0.8708063367142713\n"
     ]
    },
    {
     "data": {
      "application/vnd.jupyter.widget-view+json": {
       "model_id": "7d6134941d48484ba1da55f4361222a7",
       "version_major": 2,
       "version_minor": 0
      },
      "text/plain": [
       "HBox(children=(IntProgress(value=0, max=229), HTML(value='')))"
      ]
     },
     "metadata": {},
     "output_type": "display_data"
    },
    {
     "data": {
      "application/vnd.jupyter.widget-view+json": {
       "model_id": "564727dd510f4e3c8aff52f3481dfd89",
       "version_major": 2,
       "version_minor": 0
      },
      "text/plain": [
       "HBox(children=(IntProgress(value=0, max=51), HTML(value='')))"
      ]
     },
     "metadata": {},
     "output_type": "display_data"
    },
    {
     "name": "stdout",
     "output_type": "stream",
     "text": [
      "{'accuracy': 0.8664169787765293, 'roc_auc': 0.8794396010719495, 'pr_auc': 0.5766191839422604}\n"
     ]
    },
    {
     "data": {
      "text/html": [
       "<div>\n",
       "<style scoped>\n",
       "    .dataframe tbody tr th:only-of-type {\n",
       "        vertical-align: middle;\n",
       "    }\n",
       "\n",
       "    .dataframe tbody tr th {\n",
       "        vertical-align: top;\n",
       "    }\n",
       "\n",
       "    .dataframe thead th {\n",
       "        text-align: right;\n",
       "    }\n",
       "</style>\n",
       "<table border=\"1\" class=\"dataframe\">\n",
       "  <thead>\n",
       "    <tr style=\"text-align: right;\">\n",
       "      <th></th>\n",
       "      <th>0.0</th>\n",
       "      <th>1.0</th>\n",
       "      <th>micro avg</th>\n",
       "      <th>macro avg</th>\n",
       "      <th>weighted avg</th>\n",
       "    </tr>\n",
       "  </thead>\n",
       "  <tbody>\n",
       "    <tr>\n",
       "      <th>f1-score</th>\n",
       "      <td>0.922</td>\n",
       "      <td>0.537</td>\n",
       "      <td>0.866</td>\n",
       "      <td>0.729</td>\n",
       "      <td>0.883</td>\n",
       "    </tr>\n",
       "    <tr>\n",
       "      <th>precision</th>\n",
       "      <td>0.969</td>\n",
       "      <td>0.416</td>\n",
       "      <td>0.866</td>\n",
       "      <td>0.693</td>\n",
       "      <td>0.913</td>\n",
       "    </tr>\n",
       "    <tr>\n",
       "      <th>recall</th>\n",
       "      <td>0.879</td>\n",
       "      <td>0.756</td>\n",
       "      <td>0.866</td>\n",
       "      <td>0.818</td>\n",
       "      <td>0.866</td>\n",
       "    </tr>\n",
       "    <tr>\n",
       "      <th>support</th>\n",
       "      <td>719.000</td>\n",
       "      <td>82.000</td>\n",
       "      <td>801.000</td>\n",
       "      <td>801.000</td>\n",
       "      <td>801.000</td>\n",
       "    </tr>\n",
       "  </tbody>\n",
       "</table>\n",
       "</div>"
      ],
      "text/plain": [
       "               0.0     1.0  micro avg  macro avg  weighted avg\n",
       "f1-score     0.922   0.537      0.866      0.729         0.883\n",
       "precision    0.969   0.416      0.866      0.693         0.913\n",
       "recall       0.879   0.756      0.866      0.818         0.866\n",
       "support    719.000  82.000    801.000    801.000       801.000"
      ]
     },
     "metadata": {},
     "output_type": "display_data"
    },
    {
     "name": "stdout",
     "output_type": "stream",
     "text": [
      "Model Saved on  roc_auc 0.8794396010719495\n"
     ]
    },
    {
     "data": {
      "application/vnd.jupyter.widget-view+json": {
       "model_id": "10753fb9e3c34c6a8025ef920dd963c8",
       "version_major": 2,
       "version_minor": 0
      },
      "text/plain": [
       "HBox(children=(IntProgress(value=0, max=229), HTML(value='')))"
      ]
     },
     "metadata": {},
     "output_type": "display_data"
    },
    {
     "data": {
      "application/vnd.jupyter.widget-view+json": {
       "model_id": "234627074ea34c9f9f19318e76282b96",
       "version_major": 2,
       "version_minor": 0
      },
      "text/plain": [
       "HBox(children=(IntProgress(value=0, max=51), HTML(value='')))"
      ]
     },
     "metadata": {},
     "output_type": "display_data"
    },
    {
     "name": "stdout",
     "output_type": "stream",
     "text": [
      "{'accuracy': 0.9101123595505618, 'roc_auc': 0.8771328742494657, 'pr_auc': 0.5644169662024939}\n"
     ]
    },
    {
     "data": {
      "text/html": [
       "<div>\n",
       "<style scoped>\n",
       "    .dataframe tbody tr th:only-of-type {\n",
       "        vertical-align: middle;\n",
       "    }\n",
       "\n",
       "    .dataframe tbody tr th {\n",
       "        vertical-align: top;\n",
       "    }\n",
       "\n",
       "    .dataframe thead th {\n",
       "        text-align: right;\n",
       "    }\n",
       "</style>\n",
       "<table border=\"1\" class=\"dataframe\">\n",
       "  <thead>\n",
       "    <tr style=\"text-align: right;\">\n",
       "      <th></th>\n",
       "      <th>0.0</th>\n",
       "      <th>1.0</th>\n",
       "      <th>micro avg</th>\n",
       "      <th>macro avg</th>\n",
       "      <th>weighted avg</th>\n",
       "    </tr>\n",
       "  </thead>\n",
       "  <tbody>\n",
       "    <tr>\n",
       "      <th>f1-score</th>\n",
       "      <td>0.949</td>\n",
       "      <td>0.613</td>\n",
       "      <td>0.91</td>\n",
       "      <td>0.781</td>\n",
       "      <td>0.915</td>\n",
       "    </tr>\n",
       "    <tr>\n",
       "      <th>precision</th>\n",
       "      <td>0.964</td>\n",
       "      <td>0.548</td>\n",
       "      <td>0.91</td>\n",
       "      <td>0.756</td>\n",
       "      <td>0.922</td>\n",
       "    </tr>\n",
       "    <tr>\n",
       "      <th>recall</th>\n",
       "      <td>0.935</td>\n",
       "      <td>0.695</td>\n",
       "      <td>0.91</td>\n",
       "      <td>0.815</td>\n",
       "      <td>0.910</td>\n",
       "    </tr>\n",
       "    <tr>\n",
       "      <th>support</th>\n",
       "      <td>719.000</td>\n",
       "      <td>82.000</td>\n",
       "      <td>801.00</td>\n",
       "      <td>801.000</td>\n",
       "      <td>801.000</td>\n",
       "    </tr>\n",
       "  </tbody>\n",
       "</table>\n",
       "</div>"
      ],
      "text/plain": [
       "               0.0     1.0  micro avg  macro avg  weighted avg\n",
       "f1-score     0.949   0.613       0.91      0.781         0.915\n",
       "precision    0.964   0.548       0.91      0.756         0.922\n",
       "recall       0.935   0.695       0.91      0.815         0.910\n",
       "support    719.000  82.000     801.00    801.000       801.000"
      ]
     },
     "metadata": {},
     "output_type": "display_data"
    },
    {
     "name": "stdout",
     "output_type": "stream",
     "text": [
      "Model not saved on  roc_auc 0.8771328742494657\n"
     ]
    },
    {
     "data": {
      "application/vnd.jupyter.widget-view+json": {
       "model_id": "d6dc08d3f92d4d3f979913d42d082fad",
       "version_major": 2,
       "version_minor": 0
      },
      "text/plain": [
       "HBox(children=(IntProgress(value=0, max=229), HTML(value='')))"
      ]
     },
     "metadata": {},
     "output_type": "display_data"
    },
    {
     "data": {
      "application/vnd.jupyter.widget-view+json": {
       "model_id": "b6a444611ab54a1b98e8342bc93aceae",
       "version_major": 2,
       "version_minor": 0
      },
      "text/plain": [
       "HBox(children=(IntProgress(value=0, max=51), HTML(value='')))"
      ]
     },
     "metadata": {},
     "output_type": "display_data"
    },
    {
     "name": "stdout",
     "output_type": "stream",
     "text": [
      "{'accuracy': 0.8589263420724095, 'roc_auc': 0.876861494623291, 'pr_auc': 0.5656784426987566}\n"
     ]
    },
    {
     "data": {
      "text/html": [
       "<div>\n",
       "<style scoped>\n",
       "    .dataframe tbody tr th:only-of-type {\n",
       "        vertical-align: middle;\n",
       "    }\n",
       "\n",
       "    .dataframe tbody tr th {\n",
       "        vertical-align: top;\n",
       "    }\n",
       "\n",
       "    .dataframe thead th {\n",
       "        text-align: right;\n",
       "    }\n",
       "</style>\n",
       "<table border=\"1\" class=\"dataframe\">\n",
       "  <thead>\n",
       "    <tr style=\"text-align: right;\">\n",
       "      <th></th>\n",
       "      <th>0.0</th>\n",
       "      <th>1.0</th>\n",
       "      <th>micro avg</th>\n",
       "      <th>macro avg</th>\n",
       "      <th>weighted avg</th>\n",
       "    </tr>\n",
       "  </thead>\n",
       "  <tbody>\n",
       "    <tr>\n",
       "      <th>f1-score</th>\n",
       "      <td>0.917</td>\n",
       "      <td>0.519</td>\n",
       "      <td>0.859</td>\n",
       "      <td>0.718</td>\n",
       "      <td>0.877</td>\n",
       "    </tr>\n",
       "    <tr>\n",
       "      <th>precision</th>\n",
       "      <td>0.968</td>\n",
       "      <td>0.399</td>\n",
       "      <td>0.859</td>\n",
       "      <td>0.683</td>\n",
       "      <td>0.909</td>\n",
       "    </tr>\n",
       "    <tr>\n",
       "      <th>recall</th>\n",
       "      <td>0.872</td>\n",
       "      <td>0.744</td>\n",
       "      <td>0.859</td>\n",
       "      <td>0.808</td>\n",
       "      <td>0.859</td>\n",
       "    </tr>\n",
       "    <tr>\n",
       "      <th>support</th>\n",
       "      <td>719.000</td>\n",
       "      <td>82.000</td>\n",
       "      <td>801.000</td>\n",
       "      <td>801.000</td>\n",
       "      <td>801.000</td>\n",
       "    </tr>\n",
       "  </tbody>\n",
       "</table>\n",
       "</div>"
      ],
      "text/plain": [
       "               0.0     1.0  micro avg  macro avg  weighted avg\n",
       "f1-score     0.917   0.519      0.859      0.718         0.877\n",
       "precision    0.968   0.399      0.859      0.683         0.909\n",
       "recall       0.872   0.744      0.859      0.808         0.859\n",
       "support    719.000  82.000    801.000    801.000       801.000"
      ]
     },
     "metadata": {},
     "output_type": "display_data"
    },
    {
     "name": "stdout",
     "output_type": "stream",
     "text": [
      "Model not saved on  roc_auc 0.876861494623291\n"
     ]
    },
    {
     "data": {
      "application/vnd.jupyter.widget-view+json": {
       "model_id": "0ff7ad4cb65f47ebbc3af630c1f51794",
       "version_major": 2,
       "version_minor": 0
      },
      "text/plain": [
       "HBox(children=(IntProgress(value=0, max=229), HTML(value='')))"
      ]
     },
     "metadata": {},
     "output_type": "display_data"
    },
    {
     "data": {
      "application/vnd.jupyter.widget-view+json": {
       "model_id": "3aaf72cf611d4abfa4eab7ade7fe20aa",
       "version_major": 2,
       "version_minor": 0
      },
      "text/plain": [
       "HBox(children=(IntProgress(value=0, max=51), HTML(value='')))"
      ]
     },
     "metadata": {},
     "output_type": "display_data"
    },
    {
     "name": "stdout",
     "output_type": "stream",
     "text": [
      "{'accuracy': 0.9101123595505618, 'roc_auc': 0.8736388615624682, 'pr_auc': 0.5897291165597703}\n"
     ]
    },
    {
     "data": {
      "text/html": [
       "<div>\n",
       "<style scoped>\n",
       "    .dataframe tbody tr th:only-of-type {\n",
       "        vertical-align: middle;\n",
       "    }\n",
       "\n",
       "    .dataframe tbody tr th {\n",
       "        vertical-align: top;\n",
       "    }\n",
       "\n",
       "    .dataframe thead th {\n",
       "        text-align: right;\n",
       "    }\n",
       "</style>\n",
       "<table border=\"1\" class=\"dataframe\">\n",
       "  <thead>\n",
       "    <tr style=\"text-align: right;\">\n",
       "      <th></th>\n",
       "      <th>0.0</th>\n",
       "      <th>1.0</th>\n",
       "      <th>micro avg</th>\n",
       "      <th>macro avg</th>\n",
       "      <th>weighted avg</th>\n",
       "    </tr>\n",
       "  </thead>\n",
       "  <tbody>\n",
       "    <tr>\n",
       "      <th>f1-score</th>\n",
       "      <td>0.949</td>\n",
       "      <td>0.613</td>\n",
       "      <td>0.91</td>\n",
       "      <td>0.781</td>\n",
       "      <td>0.915</td>\n",
       "    </tr>\n",
       "    <tr>\n",
       "      <th>precision</th>\n",
       "      <td>0.964</td>\n",
       "      <td>0.548</td>\n",
       "      <td>0.91</td>\n",
       "      <td>0.756</td>\n",
       "      <td>0.922</td>\n",
       "    </tr>\n",
       "    <tr>\n",
       "      <th>recall</th>\n",
       "      <td>0.935</td>\n",
       "      <td>0.695</td>\n",
       "      <td>0.91</td>\n",
       "      <td>0.815</td>\n",
       "      <td>0.910</td>\n",
       "    </tr>\n",
       "    <tr>\n",
       "      <th>support</th>\n",
       "      <td>719.000</td>\n",
       "      <td>82.000</td>\n",
       "      <td>801.00</td>\n",
       "      <td>801.000</td>\n",
       "      <td>801.000</td>\n",
       "    </tr>\n",
       "  </tbody>\n",
       "</table>\n",
       "</div>"
      ],
      "text/plain": [
       "               0.0     1.0  micro avg  macro avg  weighted avg\n",
       "f1-score     0.949   0.613       0.91      0.781         0.915\n",
       "precision    0.964   0.548       0.91      0.756         0.922\n",
       "recall       0.935   0.695       0.91      0.815         0.910\n",
       "support    719.000  82.000     801.00    801.000       801.000"
      ]
     },
     "metadata": {},
     "output_type": "display_data"
    },
    {
     "name": "stderr",
     "output_type": "stream",
     "text": [
      "INFO - 2019-03-26 14:27:48,013 - instantiating class <class 'PatientVec.models.Model.Model'> from params {'type': 'seq_classifier', 'embedder': {'type': 'token_embedder', 'vocab_size': 18542, 'embed_size': 200, 'embedding_file': '../../../SurgeryData/PatientVec/preprocess/KneeSurgery/1_yrs/embedding_matrix.npy'}, 'decoder': {'num_layers': 2, 'hidden_dims': [128, 1], 'activations': ['tanh', 'linear']}, 'predictor': {'type': 'binary'}, 'structured': {'use_structured': False}, 'encoder': {'type': 'cnn', 'hidden_size': 64, 'kernel_sizes': [3, 5, 7, 9], 'activation': 'relu'}} and extras {}\n",
      "INFO - 2019-03-26 14:27:48,013 - type = seq_classifier\n",
      "INFO - 2019-03-26 14:27:48,013 - instantiating class <class 'PatientVec.models.modules.Embedder.Embedder'> from params {'type': 'token_embedder', 'vocab_size': 18542, 'embed_size': 200, 'embedding_file': '../../../SurgeryData/PatientVec/preprocess/KneeSurgery/1_yrs/embedding_matrix.npy'} and extras {}\n",
      "INFO - 2019-03-26 14:27:48,014 - embedder.type = token_embedder\n",
      "INFO - 2019-03-26 14:27:48,014 - instantiating class <class 'PatientVec.models.modules.Embedder.TokenEmbedder'> from params {'vocab_size': 18542, 'embed_size': 200, 'embedding_file': '../../../SurgeryData/PatientVec/preprocess/KneeSurgery/1_yrs/embedding_matrix.npy'} and extras {}\n",
      "INFO - 2019-03-26 14:27:48,014 - embedder.vocab_size = 18542\n",
      "INFO - 2019-03-26 14:27:48,015 - embedder.embed_size = 200\n",
      "INFO - 2019-03-26 14:27:48,015 - embedder.embedding_file = ../../../SurgeryData/PatientVec/preprocess/KneeSurgery/1_yrs/embedding_matrix.npy\n",
      "INFO - 2019-03-26 14:27:48,023 - instantiating class <class 'PatientVec.models.modules.Encoder.Encoder'> from params {'type': 'cnn', 'hidden_size': 64, 'kernel_sizes': [3, 5, 7, 9], 'activation': 'relu'} and extras {'input_size': 200}\n",
      "INFO - 2019-03-26 14:27:48,023 - encoder.type = cnn\n",
      "INFO - 2019-03-26 14:27:48,024 - instantiating class <class 'PatientVec.models.modules.Encoder.CNNEncoder'> from params {'hidden_size': 64, 'kernel_sizes': [3, 5, 7, 9], 'activation': 'relu'} and extras {'input_size': 200}\n",
      "INFO - 2019-03-26 14:27:48,024 - encoder.hidden_size = 64\n",
      "INFO - 2019-03-26 14:27:48,024 - encoder.kernel_sizes = [3, 5, 7, 9]\n",
      "INFO - 2019-03-26 14:27:48,025 - encoder.activation = relu\n",
      "INFO - 2019-03-26 14:27:48,028 - decoder.input_dim = 256\n",
      "INFO - 2019-03-26 14:27:48,028 - decoder.num_layers = 2\n",
      "INFO - 2019-03-26 14:27:48,028 - decoder.hidden_dims = [128, 1]\n",
      "INFO - 2019-03-26 14:27:48,029 - decoder.activations = ['tanh', 'linear']\n",
      "INFO - 2019-03-26 14:27:48,029 - decoder.dropout = 0.0\n",
      "INFO - 2019-03-26 14:27:48,030 - instantiating class <class 'PatientVec.models.modules.Predictor.Predictor'> from params {'type': 'binary'} and extras {}\n",
      "INFO - 2019-03-26 14:27:48,030 - predictor.type = binary\n",
      "INFO - 2019-03-26 14:27:48,031 - instantiating class <class 'PatientVec.models.modules.Predictor.Binary_Predictor'> from params {} and extras {}\n",
      "INFO - 2019-03-26 14:27:48,031 - predictor.replicate = False\n",
      "INFO - 2019-03-26 14:27:48,031 - predictor.alpha = 0.5\n"
     ]
    },
    {
     "name": "stdout",
     "output_type": "stream",
     "text": [
      "Model not saved on  roc_auc 0.8736388615624682\n",
      "0.8794396010719495 deque([0.8771328742494657, 0.876861494623291, 0.8736388615624682], maxlen=3)\n",
      "\n",
      "Setting Embedding\n"
     ]
    },
    {
     "data": {
      "application/vnd.jupyter.widget-view+json": {
       "model_id": "8214ad84c18a4ef6b0d9cc9cf7c6b6fd",
       "version_major": 2,
       "version_minor": 0
      },
      "text/plain": [
       "HBox(children=(IntProgress(value=0, max=51), HTML(value='')))"
      ]
     },
     "metadata": {},
     "output_type": "display_data"
    },
    {
     "name": "stdout",
     "output_type": "stream",
     "text": [
      "\n",
      "{'accuracy': 0.8664169787765293, 'roc_auc': 0.8794396010719495, 'pr_auc': 0.5766191839422604}\n"
     ]
    },
    {
     "data": {
      "text/html": [
       "<div>\n",
       "<style scoped>\n",
       "    .dataframe tbody tr th:only-of-type {\n",
       "        vertical-align: middle;\n",
       "    }\n",
       "\n",
       "    .dataframe tbody tr th {\n",
       "        vertical-align: top;\n",
       "    }\n",
       "\n",
       "    .dataframe thead th {\n",
       "        text-align: right;\n",
       "    }\n",
       "</style>\n",
       "<table border=\"1\" class=\"dataframe\">\n",
       "  <thead>\n",
       "    <tr style=\"text-align: right;\">\n",
       "      <th></th>\n",
       "      <th>0.0</th>\n",
       "      <th>1.0</th>\n",
       "      <th>micro avg</th>\n",
       "      <th>macro avg</th>\n",
       "      <th>weighted avg</th>\n",
       "    </tr>\n",
       "  </thead>\n",
       "  <tbody>\n",
       "    <tr>\n",
       "      <th>f1-score</th>\n",
       "      <td>0.922</td>\n",
       "      <td>0.537</td>\n",
       "      <td>0.866</td>\n",
       "      <td>0.729</td>\n",
       "      <td>0.883</td>\n",
       "    </tr>\n",
       "    <tr>\n",
       "      <th>precision</th>\n",
       "      <td>0.969</td>\n",
       "      <td>0.416</td>\n",
       "      <td>0.866</td>\n",
       "      <td>0.693</td>\n",
       "      <td>0.913</td>\n",
       "    </tr>\n",
       "    <tr>\n",
       "      <th>recall</th>\n",
       "      <td>0.879</td>\n",
       "      <td>0.756</td>\n",
       "      <td>0.866</td>\n",
       "      <td>0.818</td>\n",
       "      <td>0.866</td>\n",
       "    </tr>\n",
       "    <tr>\n",
       "      <th>support</th>\n",
       "      <td>719.000</td>\n",
       "      <td>82.000</td>\n",
       "      <td>801.000</td>\n",
       "      <td>801.000</td>\n",
       "      <td>801.000</td>\n",
       "    </tr>\n",
       "  </tbody>\n",
       "</table>\n",
       "</div>"
      ],
      "text/plain": [
       "               0.0     1.0  micro avg  macro avg  weighted avg\n",
       "f1-score     0.922   0.537      0.866      0.729         0.883\n",
       "precision    0.969   0.416      0.866      0.693         0.913\n",
       "recall       0.879   0.756      0.866      0.818         0.866\n",
       "support    719.000  82.000    801.000    801.000       801.000"
      ]
     },
     "metadata": {},
     "output_type": "display_data"
    },
    {
     "name": "stderr",
     "output_type": "stream",
     "text": [
      "INFO - 2019-03-26 14:27:53,677 - instantiating class <class 'PatientVec.models.Model.Model'> from params {'type': 'seq_classifier_with_attention', 'embedder': {'type': 'token_embedder', 'vocab_size': 18542, 'embed_size': 200, 'embedding_file': '../../../SurgeryData/PatientVec/preprocess/KneeSurgery/1_yrs/embedding_matrix.npy'}, 'decoder': {'num_layers': 2, 'hidden_dims': [128, 1], 'activations': ['tanh', 'linear']}, 'predictor': {'type': 'binary'}, 'structured': {'use_structured': False}, 'encoder': {'type': 'cnn', 'hidden_size': 64, 'kernel_sizes': [3, 5, 7, 9], 'activation': 'relu'}, 'attention': {'similarity': {'type': 'additive', 'hidden_size': 128}}} and extras {}\n",
      "INFO - 2019-03-26 14:27:53,677 - type = seq_classifier_with_attention\n",
      "INFO - 2019-03-26 14:27:53,678 - instantiating class <class 'PatientVec.models.modules.Embedder.Embedder'> from params {'type': 'token_embedder', 'vocab_size': 18542, 'embed_size': 200, 'embedding_file': '../../../SurgeryData/PatientVec/preprocess/KneeSurgery/1_yrs/embedding_matrix.npy'} and extras {}\n",
      "INFO - 2019-03-26 14:27:53,678 - embedder.type = token_embedder\n",
      "INFO - 2019-03-26 14:27:53,679 - instantiating class <class 'PatientVec.models.modules.Embedder.TokenEmbedder'> from params {'vocab_size': 18542, 'embed_size': 200, 'embedding_file': '../../../SurgeryData/PatientVec/preprocess/KneeSurgery/1_yrs/embedding_matrix.npy'} and extras {}\n",
      "INFO - 2019-03-26 14:27:53,679 - embedder.vocab_size = 18542\n",
      "INFO - 2019-03-26 14:27:53,680 - embedder.embed_size = 200\n",
      "INFO - 2019-03-26 14:27:53,680 - embedder.embedding_file = ../../../SurgeryData/PatientVec/preprocess/KneeSurgery/1_yrs/embedding_matrix.npy\n",
      "INFO - 2019-03-26 14:27:53,689 - instantiating class <class 'PatientVec.models.modules.Encoder.Encoder'> from params {'type': 'cnn', 'hidden_size': 64, 'kernel_sizes': [3, 5, 7, 9], 'activation': 'relu'} and extras {'input_size': 200}\n",
      "INFO - 2019-03-26 14:27:53,689 - encoder.type = cnn\n",
      "INFO - 2019-03-26 14:27:53,690 - instantiating class <class 'PatientVec.models.modules.Encoder.CNNEncoder'> from params {'hidden_size': 64, 'kernel_sizes': [3, 5, 7, 9], 'activation': 'relu'} and extras {'input_size': 200}\n",
      "INFO - 2019-03-26 14:27:53,690 - encoder.hidden_size = 64\n",
      "INFO - 2019-03-26 14:27:53,690 - encoder.kernel_sizes = [3, 5, 7, 9]\n",
      "INFO - 2019-03-26 14:27:53,691 - encoder.activation = relu\n",
      "INFO - 2019-03-26 14:27:53,693 - instantiating class <class 'PatientVec.models.modules.SelfAttention.SelfAttention'> from params {'similarity': {'type': 'additive', 'hidden_size': 128, 'tensor_1_dim': 256}} and extras {}\n",
      "INFO - 2019-03-26 14:27:53,693 - instantiating class <class 'PatientVec.models.modules.UniSimilarity.UniSimilarity'> from params {'type': 'additive', 'hidden_size': 128, 'tensor_1_dim': 256} and extras {}\n",
      "INFO - 2019-03-26 14:27:53,694 - attention.similarity.type = additive\n",
      "INFO - 2019-03-26 14:27:53,694 - instantiating class <class 'PatientVec.models.modules.UniSimilarity.UniAdditiveSimilarity'> from params {'hidden_size': 128, 'tensor_1_dim': 256} and extras {}\n",
      "INFO - 2019-03-26 14:27:53,694 - attention.similarity.tensor_1_dim = 256\n",
      "INFO - 2019-03-26 14:27:53,694 - attention.similarity.hidden_size = 128\n",
      "INFO - 2019-03-26 14:27:53,695 - attention.similarity.output_size = 1\n",
      "INFO - 2019-03-26 14:27:53,696 - attention.normaliser = softmax\n",
      "INFO - 2019-03-26 14:27:53,696 - decoder.input_dim = 256\n",
      "INFO - 2019-03-26 14:27:53,697 - decoder.num_layers = 2\n",
      "INFO - 2019-03-26 14:27:53,697 - decoder.hidden_dims = [128, 1]\n",
      "INFO - 2019-03-26 14:27:53,697 - decoder.activations = ['tanh', 'linear']\n",
      "INFO - 2019-03-26 14:27:53,697 - decoder.dropout = 0.0\n",
      "INFO - 2019-03-26 14:27:53,699 - instantiating class <class 'PatientVec.models.modules.Predictor.Predictor'> from params {'type': 'binary'} and extras {}\n",
      "INFO - 2019-03-26 14:27:53,699 - predictor.type = binary\n",
      "INFO - 2019-03-26 14:27:53,699 - instantiating class <class 'PatientVec.models.modules.Predictor.Binary_Predictor'> from params {} and extras {}\n",
      "INFO - 2019-03-26 14:27:53,700 - predictor.replicate = False\n",
      "INFO - 2019-03-26 14:27:53,700 - predictor.alpha = 0.5\n"
     ]
    },
    {
     "name": "stdout",
     "output_type": "stream",
     "text": [
      "============================================================================================================================================================================================================================================================================================================\n",
      "{'model': {'type': 'seq_classifier_with_attention', 'embedder': {'type': 'token_embedder', 'vocab_size': 18542, 'embed_size': 200, 'embedding_file': '../../../SurgeryData/PatientVec/preprocess/KneeSurgery/1_yrs/embedding_matrix.npy'}, 'decoder': {'num_layers': 2, 'hidden_dims': [128, 1], 'activations': ['tanh', 'linear']}, 'predictor': {'type': 'binary'}, 'structured': {'use_structured': False}, 'encoder': {'type': 'cnn', 'hidden_size': 64, 'kernel_sizes': [3, 5, 7, 9], 'activation': 'relu'}, 'attention': {'similarity': {'type': 'additive', 'hidden_size': 128}}}, 'training_config': {'type': 'Adam', 'groups': [('.*', {'lr': 0.001, 'weight_decay': 1e-05})], 'common': {'bsize': 16, 'class_weight': True}}, 'exp_config': {'exp_name': 'KneeSurgery_1/Attention/CNN(hs=64)(kernels=3,5,7,9)+Attention(additive)(hs=128)', 'basepath': 'outputs/confidence'}}\n",
      "Setting Embedding\n"
     ]
    },
    {
     "data": {
      "application/vnd.jupyter.widget-view+json": {
       "model_id": "f97f8dcc5d514454b2c15428dc3a7ad5",
       "version_major": 2,
       "version_minor": 0
      },
      "text/plain": [
       "HBox(children=(IntProgress(value=0, max=8), HTML(value='')))"
      ]
     },
     "metadata": {},
     "output_type": "display_data"
    },
    {
     "data": {
      "application/vnd.jupyter.widget-view+json": {
       "model_id": "f6ec16356ccf49578fceebe9f1fa23d0",
       "version_major": 2,
       "version_minor": 0
      },
      "text/plain": [
       "HBox(children=(IntProgress(value=0, max=229), HTML(value='')))"
      ]
     },
     "metadata": {},
     "output_type": "display_data"
    },
    {
     "data": {
      "application/vnd.jupyter.widget-view+json": {
       "model_id": "5e2b07ab2c8e4db29fc69abdf419abc8",
       "version_major": 2,
       "version_minor": 0
      },
      "text/plain": [
       "HBox(children=(IntProgress(value=0, max=51), HTML(value='')))"
      ]
     },
     "metadata": {},
     "output_type": "display_data"
    },
    {
     "name": "stdout",
     "output_type": "stream",
     "text": [
      "{'accuracy': 0.8264669163545568, 'roc_auc': 0.8676176261067199, 'pr_auc': 0.4692745957855422}\n"
     ]
    },
    {
     "data": {
      "text/html": [
       "<div>\n",
       "<style scoped>\n",
       "    .dataframe tbody tr th:only-of-type {\n",
       "        vertical-align: middle;\n",
       "    }\n",
       "\n",
       "    .dataframe tbody tr th {\n",
       "        vertical-align: top;\n",
       "    }\n",
       "\n",
       "    .dataframe thead th {\n",
       "        text-align: right;\n",
       "    }\n",
       "</style>\n",
       "<table border=\"1\" class=\"dataframe\">\n",
       "  <thead>\n",
       "    <tr style=\"text-align: right;\">\n",
       "      <th></th>\n",
       "      <th>0.0</th>\n",
       "      <th>1.0</th>\n",
       "      <th>micro avg</th>\n",
       "      <th>macro avg</th>\n",
       "      <th>weighted avg</th>\n",
       "    </tr>\n",
       "  </thead>\n",
       "  <tbody>\n",
       "    <tr>\n",
       "      <th>f1-score</th>\n",
       "      <td>0.896</td>\n",
       "      <td>0.475</td>\n",
       "      <td>0.826</td>\n",
       "      <td>0.686</td>\n",
       "      <td>0.853</td>\n",
       "    </tr>\n",
       "    <tr>\n",
       "      <th>precision</th>\n",
       "      <td>0.969</td>\n",
       "      <td>0.344</td>\n",
       "      <td>0.826</td>\n",
       "      <td>0.657</td>\n",
       "      <td>0.905</td>\n",
       "    </tr>\n",
       "    <tr>\n",
       "      <th>recall</th>\n",
       "      <td>0.833</td>\n",
       "      <td>0.768</td>\n",
       "      <td>0.826</td>\n",
       "      <td>0.801</td>\n",
       "      <td>0.826</td>\n",
       "    </tr>\n",
       "    <tr>\n",
       "      <th>support</th>\n",
       "      <td>719.000</td>\n",
       "      <td>82.000</td>\n",
       "      <td>801.000</td>\n",
       "      <td>801.000</td>\n",
       "      <td>801.000</td>\n",
       "    </tr>\n",
       "  </tbody>\n",
       "</table>\n",
       "</div>"
      ],
      "text/plain": [
       "               0.0     1.0  micro avg  macro avg  weighted avg\n",
       "f1-score     0.896   0.475      0.826      0.686         0.853\n",
       "precision    0.969   0.344      0.826      0.657         0.905\n",
       "recall       0.833   0.768      0.826      0.801         0.826\n",
       "support    719.000  82.000    801.000    801.000       801.000"
      ]
     },
     "metadata": {},
     "output_type": "display_data"
    },
    {
     "name": "stdout",
     "output_type": "stream",
     "text": [
      "Model Saved on  roc_auc 0.8676176261067199\n"
     ]
    },
    {
     "data": {
      "application/vnd.jupyter.widget-view+json": {
       "model_id": "375027a4251e48619976158248bb1403",
       "version_major": 2,
       "version_minor": 0
      },
      "text/plain": [
       "HBox(children=(IntProgress(value=0, max=229), HTML(value='')))"
      ]
     },
     "metadata": {},
     "output_type": "display_data"
    },
    {
     "data": {
      "application/vnd.jupyter.widget-view+json": {
       "model_id": "d5ce6ce38a294c46bead572502923ea9",
       "version_major": 2,
       "version_minor": 0
      },
      "text/plain": [
       "HBox(children=(IntProgress(value=0, max=51), HTML(value='')))"
      ]
     },
     "metadata": {},
     "output_type": "display_data"
    },
    {
     "name": "stdout",
     "output_type": "stream",
     "text": [
      "{'accuracy': 0.766541822721598, 'roc_auc': 0.8776925947284507, 'pr_auc': 0.5547551805784398}\n"
     ]
    },
    {
     "data": {
      "text/html": [
       "<div>\n",
       "<style scoped>\n",
       "    .dataframe tbody tr th:only-of-type {\n",
       "        vertical-align: middle;\n",
       "    }\n",
       "\n",
       "    .dataframe tbody tr th {\n",
       "        vertical-align: top;\n",
       "    }\n",
       "\n",
       "    .dataframe thead th {\n",
       "        text-align: right;\n",
       "    }\n",
       "</style>\n",
       "<table border=\"1\" class=\"dataframe\">\n",
       "  <thead>\n",
       "    <tr style=\"text-align: right;\">\n",
       "      <th></th>\n",
       "      <th>0.0</th>\n",
       "      <th>1.0</th>\n",
       "      <th>micro avg</th>\n",
       "      <th>macro avg</th>\n",
       "      <th>weighted avg</th>\n",
       "    </tr>\n",
       "  </thead>\n",
       "  <tbody>\n",
       "    <tr>\n",
       "      <th>f1-score</th>\n",
       "      <td>0.854</td>\n",
       "      <td>0.421</td>\n",
       "      <td>0.767</td>\n",
       "      <td>0.637</td>\n",
       "      <td>0.809</td>\n",
       "    </tr>\n",
       "    <tr>\n",
       "      <th>precision</th>\n",
       "      <td>0.975</td>\n",
       "      <td>0.282</td>\n",
       "      <td>0.767</td>\n",
       "      <td>0.629</td>\n",
       "      <td>0.904</td>\n",
       "    </tr>\n",
       "    <tr>\n",
       "      <th>recall</th>\n",
       "      <td>0.759</td>\n",
       "      <td>0.829</td>\n",
       "      <td>0.767</td>\n",
       "      <td>0.794</td>\n",
       "      <td>0.767</td>\n",
       "    </tr>\n",
       "    <tr>\n",
       "      <th>support</th>\n",
       "      <td>719.000</td>\n",
       "      <td>82.000</td>\n",
       "      <td>801.000</td>\n",
       "      <td>801.000</td>\n",
       "      <td>801.000</td>\n",
       "    </tr>\n",
       "  </tbody>\n",
       "</table>\n",
       "</div>"
      ],
      "text/plain": [
       "               0.0     1.0  micro avg  macro avg  weighted avg\n",
       "f1-score     0.854   0.421      0.767      0.637         0.809\n",
       "precision    0.975   0.282      0.767      0.629         0.904\n",
       "recall       0.759   0.829      0.767      0.794         0.767\n",
       "support    719.000  82.000    801.000    801.000       801.000"
      ]
     },
     "metadata": {},
     "output_type": "display_data"
    },
    {
     "name": "stdout",
     "output_type": "stream",
     "text": [
      "Model Saved on  roc_auc 0.8776925947284507\n"
     ]
    },
    {
     "data": {
      "application/vnd.jupyter.widget-view+json": {
       "model_id": "2cf75a5d759546abbc51d2753d2bc0f2",
       "version_major": 2,
       "version_minor": 0
      },
      "text/plain": [
       "HBox(children=(IntProgress(value=0, max=229), HTML(value='')))"
      ]
     },
     "metadata": {},
     "output_type": "display_data"
    },
    {
     "data": {
      "application/vnd.jupyter.widget-view+json": {
       "model_id": "56c7d9953fb84191b918de2e10c4db84",
       "version_major": 2,
       "version_minor": 0
      },
      "text/plain": [
       "HBox(children=(IntProgress(value=0, max=51), HTML(value='')))"
      ]
     },
     "metadata": {},
     "output_type": "display_data"
    },
    {
     "name": "stdout",
     "output_type": "stream",
     "text": [
      "{'accuracy': 0.9076154806491885, 'roc_auc': 0.8849180772753484, 'pr_auc': 0.5438664168036659}\n"
     ]
    },
    {
     "data": {
      "text/html": [
       "<div>\n",
       "<style scoped>\n",
       "    .dataframe tbody tr th:only-of-type {\n",
       "        vertical-align: middle;\n",
       "    }\n",
       "\n",
       "    .dataframe tbody tr th {\n",
       "        vertical-align: top;\n",
       "    }\n",
       "\n",
       "    .dataframe thead th {\n",
       "        text-align: right;\n",
       "    }\n",
       "</style>\n",
       "<table border=\"1\" class=\"dataframe\">\n",
       "  <thead>\n",
       "    <tr style=\"text-align: right;\">\n",
       "      <th></th>\n",
       "      <th>0.0</th>\n",
       "      <th>1.0</th>\n",
       "      <th>micro avg</th>\n",
       "      <th>macro avg</th>\n",
       "      <th>weighted avg</th>\n",
       "    </tr>\n",
       "  </thead>\n",
       "  <tbody>\n",
       "    <tr>\n",
       "      <th>f1-score</th>\n",
       "      <td>0.948</td>\n",
       "      <td>0.606</td>\n",
       "      <td>0.908</td>\n",
       "      <td>0.777</td>\n",
       "      <td>0.913</td>\n",
       "    </tr>\n",
       "    <tr>\n",
       "      <th>precision</th>\n",
       "      <td>0.964</td>\n",
       "      <td>0.538</td>\n",
       "      <td>0.908</td>\n",
       "      <td>0.751</td>\n",
       "      <td>0.920</td>\n",
       "    </tr>\n",
       "    <tr>\n",
       "      <th>recall</th>\n",
       "      <td>0.932</td>\n",
       "      <td>0.695</td>\n",
       "      <td>0.908</td>\n",
       "      <td>0.813</td>\n",
       "      <td>0.908</td>\n",
       "    </tr>\n",
       "    <tr>\n",
       "      <th>support</th>\n",
       "      <td>719.000</td>\n",
       "      <td>82.000</td>\n",
       "      <td>801.000</td>\n",
       "      <td>801.000</td>\n",
       "      <td>801.000</td>\n",
       "    </tr>\n",
       "  </tbody>\n",
       "</table>\n",
       "</div>"
      ],
      "text/plain": [
       "               0.0     1.0  micro avg  macro avg  weighted avg\n",
       "f1-score     0.948   0.606      0.908      0.777         0.913\n",
       "precision    0.964   0.538      0.908      0.751         0.920\n",
       "recall       0.932   0.695      0.908      0.813         0.908\n",
       "support    719.000  82.000    801.000    801.000       801.000"
      ]
     },
     "metadata": {},
     "output_type": "display_data"
    },
    {
     "name": "stdout",
     "output_type": "stream",
     "text": [
      "Model Saved on  roc_auc 0.8849180772753484\n"
     ]
    },
    {
     "data": {
      "application/vnd.jupyter.widget-view+json": {
       "model_id": "54e7fd0b47e9490dad55b8c394ab6f62",
       "version_major": 2,
       "version_minor": 0
      },
      "text/plain": [
       "HBox(children=(IntProgress(value=0, max=229), HTML(value='')))"
      ]
     },
     "metadata": {},
     "output_type": "display_data"
    },
    {
     "data": {
      "application/vnd.jupyter.widget-view+json": {
       "model_id": "a4d3c2bfc9d345beacf2a299d72e1f70",
       "version_major": 2,
       "version_minor": 0
      },
      "text/plain": [
       "HBox(children=(IntProgress(value=0, max=51), HTML(value='')))"
      ]
     },
     "metadata": {},
     "output_type": "display_data"
    },
    {
     "name": "stdout",
     "output_type": "stream",
     "text": [
      "{'accuracy': 0.8863920099875156, 'roc_auc': 0.8760303945181315, 'pr_auc': 0.5692091071788756}\n"
     ]
    },
    {
     "data": {
      "text/html": [
       "<div>\n",
       "<style scoped>\n",
       "    .dataframe tbody tr th:only-of-type {\n",
       "        vertical-align: middle;\n",
       "    }\n",
       "\n",
       "    .dataframe tbody tr th {\n",
       "        vertical-align: top;\n",
       "    }\n",
       "\n",
       "    .dataframe thead th {\n",
       "        text-align: right;\n",
       "    }\n",
       "</style>\n",
       "<table border=\"1\" class=\"dataframe\">\n",
       "  <thead>\n",
       "    <tr style=\"text-align: right;\">\n",
       "      <th></th>\n",
       "      <th>0.0</th>\n",
       "      <th>1.0</th>\n",
       "      <th>micro avg</th>\n",
       "      <th>macro avg</th>\n",
       "      <th>weighted avg</th>\n",
       "    </tr>\n",
       "  </thead>\n",
       "  <tbody>\n",
       "    <tr>\n",
       "      <th>f1-score</th>\n",
       "      <td>0.935</td>\n",
       "      <td>0.569</td>\n",
       "      <td>0.886</td>\n",
       "      <td>0.752</td>\n",
       "      <td>0.897</td>\n",
       "    </tr>\n",
       "    <tr>\n",
       "      <th>precision</th>\n",
       "      <td>0.967</td>\n",
       "      <td>0.465</td>\n",
       "      <td>0.886</td>\n",
       "      <td>0.716</td>\n",
       "      <td>0.916</td>\n",
       "    </tr>\n",
       "    <tr>\n",
       "      <th>recall</th>\n",
       "      <td>0.904</td>\n",
       "      <td>0.732</td>\n",
       "      <td>0.886</td>\n",
       "      <td>0.818</td>\n",
       "      <td>0.886</td>\n",
       "    </tr>\n",
       "    <tr>\n",
       "      <th>support</th>\n",
       "      <td>719.000</td>\n",
       "      <td>82.000</td>\n",
       "      <td>801.000</td>\n",
       "      <td>801.000</td>\n",
       "      <td>801.000</td>\n",
       "    </tr>\n",
       "  </tbody>\n",
       "</table>\n",
       "</div>"
      ],
      "text/plain": [
       "               0.0     1.0  micro avg  macro avg  weighted avg\n",
       "f1-score     0.935   0.569      0.886      0.752         0.897\n",
       "precision    0.967   0.465      0.886      0.716         0.916\n",
       "recall       0.904   0.732      0.886      0.818         0.886\n",
       "support    719.000  82.000    801.000    801.000       801.000"
      ]
     },
     "metadata": {},
     "output_type": "display_data"
    },
    {
     "name": "stdout",
     "output_type": "stream",
     "text": [
      "Model not saved on  roc_auc 0.8760303945181315\n"
     ]
    },
    {
     "data": {
      "application/vnd.jupyter.widget-view+json": {
       "model_id": "11e59c4217c64294b5eff948927db6ec",
       "version_major": 2,
       "version_minor": 0
      },
      "text/plain": [
       "HBox(children=(IntProgress(value=0, max=229), HTML(value='')))"
      ]
     },
     "metadata": {},
     "output_type": "display_data"
    },
    {
     "data": {
      "application/vnd.jupyter.widget-view+json": {
       "model_id": "505e6b139e904b3291840ea6ee24a7ad",
       "version_major": 2,
       "version_minor": 0
      },
      "text/plain": [
       "HBox(children=(IntProgress(value=0, max=51), HTML(value='')))"
      ]
     },
     "metadata": {},
     "output_type": "display_data"
    },
    {
     "name": "stdout",
     "output_type": "stream",
     "text": [
      "{'accuracy': 0.9101123595505618, 'roc_auc': 0.8749957596933411, 'pr_auc': 0.5607510274830638}\n"
     ]
    },
    {
     "data": {
      "text/html": [
       "<div>\n",
       "<style scoped>\n",
       "    .dataframe tbody tr th:only-of-type {\n",
       "        vertical-align: middle;\n",
       "    }\n",
       "\n",
       "    .dataframe tbody tr th {\n",
       "        vertical-align: top;\n",
       "    }\n",
       "\n",
       "    .dataframe thead th {\n",
       "        text-align: right;\n",
       "    }\n",
       "</style>\n",
       "<table border=\"1\" class=\"dataframe\">\n",
       "  <thead>\n",
       "    <tr style=\"text-align: right;\">\n",
       "      <th></th>\n",
       "      <th>0.0</th>\n",
       "      <th>1.0</th>\n",
       "      <th>micro avg</th>\n",
       "      <th>macro avg</th>\n",
       "      <th>weighted avg</th>\n",
       "    </tr>\n",
       "  </thead>\n",
       "  <tbody>\n",
       "    <tr>\n",
       "      <th>f1-score</th>\n",
       "      <td>0.950</td>\n",
       "      <td>0.556</td>\n",
       "      <td>0.91</td>\n",
       "      <td>0.753</td>\n",
       "      <td>0.910</td>\n",
       "    </tr>\n",
       "    <tr>\n",
       "      <th>precision</th>\n",
       "      <td>0.949</td>\n",
       "      <td>0.562</td>\n",
       "      <td>0.91</td>\n",
       "      <td>0.756</td>\n",
       "      <td>0.909</td>\n",
       "    </tr>\n",
       "    <tr>\n",
       "      <th>recall</th>\n",
       "      <td>0.951</td>\n",
       "      <td>0.549</td>\n",
       "      <td>0.91</td>\n",
       "      <td>0.750</td>\n",
       "      <td>0.910</td>\n",
       "    </tr>\n",
       "    <tr>\n",
       "      <th>support</th>\n",
       "      <td>719.000</td>\n",
       "      <td>82.000</td>\n",
       "      <td>801.00</td>\n",
       "      <td>801.000</td>\n",
       "      <td>801.000</td>\n",
       "    </tr>\n",
       "  </tbody>\n",
       "</table>\n",
       "</div>"
      ],
      "text/plain": [
       "               0.0     1.0  micro avg  macro avg  weighted avg\n",
       "f1-score     0.950   0.556       0.91      0.753         0.910\n",
       "precision    0.949   0.562       0.91      0.756         0.909\n",
       "recall       0.951   0.549       0.91      0.750         0.910\n",
       "support    719.000  82.000     801.00    801.000       801.000"
      ]
     },
     "metadata": {},
     "output_type": "display_data"
    },
    {
     "name": "stdout",
     "output_type": "stream",
     "text": [
      "Model not saved on  roc_auc 0.8749957596933411\n"
     ]
    },
    {
     "data": {
      "application/vnd.jupyter.widget-view+json": {
       "model_id": "d98733c3c22e43cea6aad0781394c783",
       "version_major": 2,
       "version_minor": 0
      },
      "text/plain": [
       "HBox(children=(IntProgress(value=0, max=229), HTML(value='')))"
      ]
     },
     "metadata": {},
     "output_type": "display_data"
    },
    {
     "data": {
      "application/vnd.jupyter.widget-view+json": {
       "model_id": "046b1ae07aef40048a527378060770bc",
       "version_major": 2,
       "version_minor": 0
      },
      "text/plain": [
       "HBox(children=(IntProgress(value=0, max=51), HTML(value='')))"
      ]
     },
     "metadata": {},
     "output_type": "display_data"
    },
    {
     "name": "stdout",
     "output_type": "stream",
     "text": [
      "{'accuracy': 0.8564294631710362, 'roc_auc': 0.853438040639099, 'pr_auc': 0.5016695276389271}\n"
     ]
    },
    {
     "data": {
      "text/html": [
       "<div>\n",
       "<style scoped>\n",
       "    .dataframe tbody tr th:only-of-type {\n",
       "        vertical-align: middle;\n",
       "    }\n",
       "\n",
       "    .dataframe tbody tr th {\n",
       "        vertical-align: top;\n",
       "    }\n",
       "\n",
       "    .dataframe thead th {\n",
       "        text-align: right;\n",
       "    }\n",
       "</style>\n",
       "<table border=\"1\" class=\"dataframe\">\n",
       "  <thead>\n",
       "    <tr style=\"text-align: right;\">\n",
       "      <th></th>\n",
       "      <th>0.0</th>\n",
       "      <th>1.0</th>\n",
       "      <th>micro avg</th>\n",
       "      <th>macro avg</th>\n",
       "      <th>weighted avg</th>\n",
       "    </tr>\n",
       "  </thead>\n",
       "  <tbody>\n",
       "    <tr>\n",
       "      <th>f1-score</th>\n",
       "      <td>0.917</td>\n",
       "      <td>0.484</td>\n",
       "      <td>0.856</td>\n",
       "      <td>0.700</td>\n",
       "      <td>0.872</td>\n",
       "    </tr>\n",
       "    <tr>\n",
       "      <th>precision</th>\n",
       "      <td>0.958</td>\n",
       "      <td>0.383</td>\n",
       "      <td>0.856</td>\n",
       "      <td>0.670</td>\n",
       "      <td>0.899</td>\n",
       "    </tr>\n",
       "    <tr>\n",
       "      <th>recall</th>\n",
       "      <td>0.879</td>\n",
       "      <td>0.659</td>\n",
       "      <td>0.856</td>\n",
       "      <td>0.769</td>\n",
       "      <td>0.856</td>\n",
       "    </tr>\n",
       "    <tr>\n",
       "      <th>support</th>\n",
       "      <td>719.000</td>\n",
       "      <td>82.000</td>\n",
       "      <td>801.000</td>\n",
       "      <td>801.000</td>\n",
       "      <td>801.000</td>\n",
       "    </tr>\n",
       "  </tbody>\n",
       "</table>\n",
       "</div>"
      ],
      "text/plain": [
       "               0.0     1.0  micro avg  macro avg  weighted avg\n",
       "f1-score     0.917   0.484      0.856      0.700         0.872\n",
       "precision    0.958   0.383      0.856      0.670         0.899\n",
       "recall       0.879   0.659      0.856      0.769         0.856\n",
       "support    719.000  82.000    801.000    801.000       801.000"
      ]
     },
     "metadata": {},
     "output_type": "display_data"
    },
    {
     "name": "stderr",
     "output_type": "stream",
     "text": [
      "INFO - 2019-03-26 14:31:16,279 - instantiating class <class 'PatientVec.models.Model.Model'> from params {'type': 'seq_classifier_with_attention', 'embedder': {'type': 'token_embedder', 'vocab_size': 18542, 'embed_size': 200, 'embedding_file': '../../../SurgeryData/PatientVec/preprocess/KneeSurgery/1_yrs/embedding_matrix.npy'}, 'decoder': {'num_layers': 2, 'hidden_dims': [128, 1], 'activations': ['tanh', 'linear']}, 'predictor': {'type': 'binary'}, 'structured': {'use_structured': False}, 'encoder': {'type': 'cnn', 'hidden_size': 64, 'kernel_sizes': [3, 5, 7, 9], 'activation': 'relu'}, 'attention': {'similarity': {'type': 'additive', 'hidden_size': 128}}} and extras {}\n",
      "INFO - 2019-03-26 14:31:16,279 - type = seq_classifier_with_attention\n",
      "INFO - 2019-03-26 14:31:16,280 - instantiating class <class 'PatientVec.models.modules.Embedder.Embedder'> from params {'type': 'token_embedder', 'vocab_size': 18542, 'embed_size': 200, 'embedding_file': '../../../SurgeryData/PatientVec/preprocess/KneeSurgery/1_yrs/embedding_matrix.npy'} and extras {}\n",
      "INFO - 2019-03-26 14:31:16,280 - embedder.type = token_embedder\n",
      "INFO - 2019-03-26 14:31:16,280 - instantiating class <class 'PatientVec.models.modules.Embedder.TokenEmbedder'> from params {'vocab_size': 18542, 'embed_size': 200, 'embedding_file': '../../../SurgeryData/PatientVec/preprocess/KneeSurgery/1_yrs/embedding_matrix.npy'} and extras {}\n",
      "INFO - 2019-03-26 14:31:16,281 - embedder.vocab_size = 18542\n",
      "INFO - 2019-03-26 14:31:16,281 - embedder.embed_size = 200\n",
      "INFO - 2019-03-26 14:31:16,281 - embedder.embedding_file = ../../../SurgeryData/PatientVec/preprocess/KneeSurgery/1_yrs/embedding_matrix.npy\n",
      "INFO - 2019-03-26 14:31:16,289 - instantiating class <class 'PatientVec.models.modules.Encoder.Encoder'> from params {'type': 'cnn', 'hidden_size': 64, 'kernel_sizes': [3, 5, 7, 9], 'activation': 'relu'} and extras {'input_size': 200}\n",
      "INFO - 2019-03-26 14:31:16,289 - encoder.type = cnn\n",
      "INFO - 2019-03-26 14:31:16,290 - instantiating class <class 'PatientVec.models.modules.Encoder.CNNEncoder'> from params {'hidden_size': 64, 'kernel_sizes': [3, 5, 7, 9], 'activation': 'relu'} and extras {'input_size': 200}\n",
      "INFO - 2019-03-26 14:31:16,290 - encoder.hidden_size = 64\n",
      "INFO - 2019-03-26 14:31:16,290 - encoder.kernel_sizes = [3, 5, 7, 9]\n",
      "INFO - 2019-03-26 14:31:16,291 - encoder.activation = relu\n",
      "INFO - 2019-03-26 14:31:16,293 - instantiating class <class 'PatientVec.models.modules.SelfAttention.SelfAttention'> from params {'similarity': {'type': 'additive', 'hidden_size': 128, 'tensor_1_dim': 256}} and extras {}\n",
      "INFO - 2019-03-26 14:31:16,294 - instantiating class <class 'PatientVec.models.modules.UniSimilarity.UniSimilarity'> from params {'type': 'additive', 'hidden_size': 128, 'tensor_1_dim': 256} and extras {}\n",
      "INFO - 2019-03-26 14:31:16,294 - attention.similarity.type = additive\n",
      "INFO - 2019-03-26 14:31:16,294 - instantiating class <class 'PatientVec.models.modules.UniSimilarity.UniAdditiveSimilarity'> from params {'hidden_size': 128, 'tensor_1_dim': 256} and extras {}\n",
      "INFO - 2019-03-26 14:31:16,294 - attention.similarity.tensor_1_dim = 256\n",
      "INFO - 2019-03-26 14:31:16,295 - attention.similarity.hidden_size = 128\n",
      "INFO - 2019-03-26 14:31:16,295 - attention.similarity.output_size = 1\n",
      "INFO - 2019-03-26 14:31:16,296 - attention.normaliser = softmax\n",
      "INFO - 2019-03-26 14:31:16,296 - decoder.input_dim = 256\n",
      "INFO - 2019-03-26 14:31:16,297 - decoder.num_layers = 2\n",
      "INFO - 2019-03-26 14:31:16,297 - decoder.hidden_dims = [128, 1]\n",
      "INFO - 2019-03-26 14:31:16,297 - decoder.activations = ['tanh', 'linear']\n",
      "INFO - 2019-03-26 14:31:16,297 - decoder.dropout = 0.0\n",
      "INFO - 2019-03-26 14:31:16,299 - instantiating class <class 'PatientVec.models.modules.Predictor.Predictor'> from params {'type': 'binary'} and extras {}\n",
      "INFO - 2019-03-26 14:31:16,299 - predictor.type = binary\n",
      "INFO - 2019-03-26 14:31:16,299 - instantiating class <class 'PatientVec.models.modules.Predictor.Binary_Predictor'> from params {} and extras {}\n",
      "INFO - 2019-03-26 14:31:16,299 - predictor.replicate = False\n",
      "INFO - 2019-03-26 14:31:16,300 - predictor.alpha = 0.5\n"
     ]
    },
    {
     "name": "stdout",
     "output_type": "stream",
     "text": [
      "Model not saved on  roc_auc 0.853438040639099\n",
      "0.8849180772753484 deque([0.8760303945181315, 0.8749957596933411, 0.853438040639099], maxlen=3)\n",
      "\n",
      "Setting Embedding\n"
     ]
    },
    {
     "data": {
      "application/vnd.jupyter.widget-view+json": {
       "model_id": "f5fad2a8c01342788d2e5d7048840fe6",
       "version_major": 2,
       "version_minor": 0
      },
      "text/plain": [
       "HBox(children=(IntProgress(value=0, max=51), HTML(value='')))"
      ]
     },
     "metadata": {},
     "output_type": "display_data"
    },
    {
     "name": "stdout",
     "output_type": "stream",
     "text": [
      "\n",
      "{'accuracy': 0.9076154806491885, 'roc_auc': 0.8849180772753484, 'pr_auc': 0.5438664168036659}\n"
     ]
    },
    {
     "data": {
      "text/html": [
       "<div>\n",
       "<style scoped>\n",
       "    .dataframe tbody tr th:only-of-type {\n",
       "        vertical-align: middle;\n",
       "    }\n",
       "\n",
       "    .dataframe tbody tr th {\n",
       "        vertical-align: top;\n",
       "    }\n",
       "\n",
       "    .dataframe thead th {\n",
       "        text-align: right;\n",
       "    }\n",
       "</style>\n",
       "<table border=\"1\" class=\"dataframe\">\n",
       "  <thead>\n",
       "    <tr style=\"text-align: right;\">\n",
       "      <th></th>\n",
       "      <th>0.0</th>\n",
       "      <th>1.0</th>\n",
       "      <th>micro avg</th>\n",
       "      <th>macro avg</th>\n",
       "      <th>weighted avg</th>\n",
       "    </tr>\n",
       "  </thead>\n",
       "  <tbody>\n",
       "    <tr>\n",
       "      <th>f1-score</th>\n",
       "      <td>0.948</td>\n",
       "      <td>0.606</td>\n",
       "      <td>0.908</td>\n",
       "      <td>0.777</td>\n",
       "      <td>0.913</td>\n",
       "    </tr>\n",
       "    <tr>\n",
       "      <th>precision</th>\n",
       "      <td>0.964</td>\n",
       "      <td>0.538</td>\n",
       "      <td>0.908</td>\n",
       "      <td>0.751</td>\n",
       "      <td>0.920</td>\n",
       "    </tr>\n",
       "    <tr>\n",
       "      <th>recall</th>\n",
       "      <td>0.932</td>\n",
       "      <td>0.695</td>\n",
       "      <td>0.908</td>\n",
       "      <td>0.813</td>\n",
       "      <td>0.908</td>\n",
       "    </tr>\n",
       "    <tr>\n",
       "      <th>support</th>\n",
       "      <td>719.000</td>\n",
       "      <td>82.000</td>\n",
       "      <td>801.000</td>\n",
       "      <td>801.000</td>\n",
       "      <td>801.000</td>\n",
       "    </tr>\n",
       "  </tbody>\n",
       "</table>\n",
       "</div>"
      ],
      "text/plain": [
       "               0.0     1.0  micro avg  macro avg  weighted avg\n",
       "f1-score     0.948   0.606      0.908      0.777         0.913\n",
       "precision    0.964   0.538      0.908      0.751         0.920\n",
       "recall       0.932   0.695      0.908      0.813         0.908\n",
       "support    719.000  82.000    801.000    801.000       801.000"
      ]
     },
     "metadata": {},
     "output_type": "display_data"
    },
    {
     "name": "stderr",
     "output_type": "stream",
     "text": [
      "INFO - 2019-03-26 14:31:23,029 - Reading Structured data ...\n"
     ]
    },
    {
     "name": "stdout",
     "output_type": "stream",
     "text": [
      "============================================================================================================================================================================================================================================================================================================\n"
     ]
    },
    {
     "name": "stderr",
     "output_type": "stream",
     "text": [
      "INFO - 2019-03-26 14:31:23,191 - Reading Notes ...\n",
      "INFO - 2019-03-26 14:31:24,273 - Stratifying ...\n"
     ]
    },
    {
     "name": "stdout",
     "output_type": "stream",
     "text": [
      "Pos Percentage [0.10104053]\n"
     ]
    },
    {
     "name": "stderr",
     "output_type": "stream",
     "text": [
      "INFO - 2019-03-26 14:31:24,820 - Maximum Sentence Length 169921.000000 , 90 percentile length 19951.000000 ... \n",
      "INFO - 2019-03-26 14:31:25,587 - Truncated all ...\n",
      "INFO - 2019-03-26 14:31:25,591 - Idxs removed []...\n",
      "INFO - 2019-03-26 14:31:25,733 - Maximum Sentence Length 55858.000000 , 90 percentile length 19968.000000 ... \n"
     ]
    },
    {
     "name": "stdout",
     "output_type": "stream",
     "text": [
      "Pos Percentage [0.10237203]\n"
     ]
    },
    {
     "name": "stderr",
     "output_type": "stream",
     "text": [
      "INFO - 2019-03-26 14:31:25,872 - Truncated all ...\n",
      "INFO - 2019-03-26 14:31:25,874 - Idxs removed []...\n",
      "INFO - 2019-03-26 14:31:25,888 - instantiating class <class 'PatientVec.models.Model.Model'> from params {'type': 'seq_classifier', 'embedder': {'type': 'token_embedder', 'vocab_size': 18542, 'embed_size': 200, 'embedding_file': '../../../SurgeryData/PatientVec/preprocess/KneeSurgery/1_yrs/embedding_matrix.npy'}, 'decoder': {'num_layers': 2, 'hidden_dims': [128, 1], 'activations': ['tanh', 'linear']}, 'predictor': {'type': 'binary'}, 'structured': {'use_structured': False}, 'encoder': {'type': 'lstm', 'hidden_size': 128}} and extras {}\n",
      "INFO - 2019-03-26 14:31:25,889 - type = seq_classifier\n",
      "INFO - 2019-03-26 14:31:25,889 - instantiating class <class 'PatientVec.models.modules.Embedder.Embedder'> from params {'type': 'token_embedder', 'vocab_size': 18542, 'embed_size': 200, 'embedding_file': '../../../SurgeryData/PatientVec/preprocess/KneeSurgery/1_yrs/embedding_matrix.npy'} and extras {}\n",
      "INFO - 2019-03-26 14:31:25,890 - embedder.type = token_embedder\n",
      "INFO - 2019-03-26 14:31:25,890 - instantiating class <class 'PatientVec.models.modules.Embedder.TokenEmbedder'> from params {'vocab_size': 18542, 'embed_size': 200, 'embedding_file': '../../../SurgeryData/PatientVec/preprocess/KneeSurgery/1_yrs/embedding_matrix.npy'} and extras {}\n",
      "INFO - 2019-03-26 14:31:25,891 - embedder.vocab_size = 18542\n",
      "INFO - 2019-03-26 14:31:25,891 - embedder.embed_size = 200\n",
      "INFO - 2019-03-26 14:31:25,891 - embedder.embedding_file = ../../../SurgeryData/PatientVec/preprocess/KneeSurgery/1_yrs/embedding_matrix.npy\n",
      "INFO - 2019-03-26 14:31:25,900 - instantiating class <class 'PatientVec.models.modules.Encoder.Encoder'> from params {'type': 'lstm', 'hidden_size': 128} and extras {'input_size': 200}\n",
      "INFO - 2019-03-26 14:31:25,900 - encoder.type = lstm\n",
      "INFO - 2019-03-26 14:31:25,901 - instantiating class <class 'PatientVec.models.modules.Encoder.wrap_pytorch_rnn.<locals>.BiRNNEncoder'> from params {'hidden_size': 128} and extras {'input_size': 200}\n",
      "INFO - 2019-03-26 14:31:25,901 - encoder.hidden_size = 128\n",
      "INFO - 2019-03-26 14:31:25,904 - decoder.input_dim = 256\n",
      "INFO - 2019-03-26 14:31:25,904 - decoder.num_layers = 2\n",
      "INFO - 2019-03-26 14:31:25,904 - decoder.hidden_dims = [128, 1]\n",
      "INFO - 2019-03-26 14:31:25,904 - decoder.activations = ['tanh', 'linear']\n",
      "INFO - 2019-03-26 14:31:25,905 - decoder.dropout = 0.0\n",
      "INFO - 2019-03-26 14:31:25,906 - instantiating class <class 'PatientVec.models.modules.Predictor.Predictor'> from params {'type': 'binary'} and extras {}\n",
      "INFO - 2019-03-26 14:31:25,906 - predictor.type = binary\n",
      "INFO - 2019-03-26 14:31:25,906 - instantiating class <class 'PatientVec.models.modules.Predictor.Binary_Predictor'> from params {} and extras {}\n",
      "INFO - 2019-03-26 14:31:25,907 - predictor.replicate = False\n",
      "INFO - 2019-03-26 14:31:25,907 - predictor.alpha = 0.5\n"
     ]
    },
    {
     "name": "stdout",
     "output_type": "stream",
     "text": [
      "{'model': {'type': 'seq_classifier', 'embedder': {'type': 'token_embedder', 'vocab_size': 18542, 'embed_size': 200, 'embedding_file': '../../../SurgeryData/PatientVec/preprocess/KneeSurgery/1_yrs/embedding_matrix.npy'}, 'decoder': {'num_layers': 2, 'hidden_dims': [128, 1], 'activations': ['tanh', 'linear']}, 'predictor': {'type': 'binary'}, 'structured': {'use_structured': False}, 'encoder': {'type': 'lstm', 'hidden_size': 128}}, 'training_config': {'type': 'Adam', 'groups': [('.*', {'lr': 0.001, 'weight_decay': 1e-05})], 'common': {'bsize': 16, 'class_weight': True}}, 'exp_config': {'exp_name': 'KneeSurgery_1/Basic/LSTM(hs=128)', 'basepath': 'outputs/confidence'}}\n",
      "Setting Embedding\n"
     ]
    },
    {
     "data": {
      "application/vnd.jupyter.widget-view+json": {
       "model_id": "97bfe0b599454a5a8f5ffb05aa92bd61",
       "version_major": 2,
       "version_minor": 0
      },
      "text/plain": [
       "HBox(children=(IntProgress(value=0, max=8), HTML(value='')))"
      ]
     },
     "metadata": {},
     "output_type": "display_data"
    },
    {
     "data": {
      "application/vnd.jupyter.widget-view+json": {
       "model_id": "04b4b160a1004b4ea98f665df4ce2fe9",
       "version_major": 2,
       "version_minor": 0
      },
      "text/plain": [
       "HBox(children=(IntProgress(value=0, max=229), HTML(value='')))"
      ]
     },
     "metadata": {},
     "output_type": "display_data"
    },
    {
     "data": {
      "application/vnd.jupyter.widget-view+json": {
       "model_id": "deef8fefa8df41079eecb8855aaf68e9",
       "version_major": 2,
       "version_minor": 0
      },
      "text/plain": [
       "HBox(children=(IntProgress(value=0, max=51), HTML(value='')))"
      ]
     },
     "metadata": {},
     "output_type": "display_data"
    },
    {
     "name": "stdout",
     "output_type": "stream",
     "text": [
      "{'accuracy': 0.5543071161048689, 'roc_auc': 0.5545557854744054, 'pr_auc': 0.11828848449171761}\n"
     ]
    },
    {
     "data": {
      "text/html": [
       "<div>\n",
       "<style scoped>\n",
       "    .dataframe tbody tr th:only-of-type {\n",
       "        vertical-align: middle;\n",
       "    }\n",
       "\n",
       "    .dataframe tbody tr th {\n",
       "        vertical-align: top;\n",
       "    }\n",
       "\n",
       "    .dataframe thead th {\n",
       "        text-align: right;\n",
       "    }\n",
       "</style>\n",
       "<table border=\"1\" class=\"dataframe\">\n",
       "  <thead>\n",
       "    <tr style=\"text-align: right;\">\n",
       "      <th></th>\n",
       "      <th>0.0</th>\n",
       "      <th>1.0</th>\n",
       "      <th>micro avg</th>\n",
       "      <th>macro avg</th>\n",
       "      <th>weighted avg</th>\n",
       "    </tr>\n",
       "  </thead>\n",
       "  <tbody>\n",
       "    <tr>\n",
       "      <th>f1-score</th>\n",
       "      <td>0.693</td>\n",
       "      <td>0.187</td>\n",
       "      <td>0.554</td>\n",
       "      <td>0.440</td>\n",
       "      <td>0.641</td>\n",
       "    </tr>\n",
       "    <tr>\n",
       "      <th>precision</th>\n",
       "      <td>0.908</td>\n",
       "      <td>0.115</td>\n",
       "      <td>0.554</td>\n",
       "      <td>0.511</td>\n",
       "      <td>0.826</td>\n",
       "    </tr>\n",
       "    <tr>\n",
       "      <th>recall</th>\n",
       "      <td>0.561</td>\n",
       "      <td>0.500</td>\n",
       "      <td>0.554</td>\n",
       "      <td>0.530</td>\n",
       "      <td>0.554</td>\n",
       "    </tr>\n",
       "    <tr>\n",
       "      <th>support</th>\n",
       "      <td>719.000</td>\n",
       "      <td>82.000</td>\n",
       "      <td>801.000</td>\n",
       "      <td>801.000</td>\n",
       "      <td>801.000</td>\n",
       "    </tr>\n",
       "  </tbody>\n",
       "</table>\n",
       "</div>"
      ],
      "text/plain": [
       "               0.0     1.0  micro avg  macro avg  weighted avg\n",
       "f1-score     0.693   0.187      0.554      0.440         0.641\n",
       "precision    0.908   0.115      0.554      0.511         0.826\n",
       "recall       0.561   0.500      0.554      0.530         0.554\n",
       "support    719.000  82.000    801.000    801.000       801.000"
      ]
     },
     "metadata": {},
     "output_type": "display_data"
    },
    {
     "name": "stdout",
     "output_type": "stream",
     "text": [
      "Model Saved on  roc_auc 0.5545557854744054\n"
     ]
    },
    {
     "data": {
      "application/vnd.jupyter.widget-view+json": {
       "model_id": "659d44848581439983347a09b8a7f63e",
       "version_major": 2,
       "version_minor": 0
      },
      "text/plain": [
       "HBox(children=(IntProgress(value=0, max=229), HTML(value='')))"
      ]
     },
     "metadata": {},
     "output_type": "display_data"
    },
    {
     "data": {
      "application/vnd.jupyter.widget-view+json": {
       "model_id": "31a196c401f646a0bbee1d322f3564d4",
       "version_major": 2,
       "version_minor": 0
      },
      "text/plain": [
       "HBox(children=(IntProgress(value=0, max=51), HTML(value='')))"
      ]
     },
     "metadata": {},
     "output_type": "display_data"
    },
    {
     "name": "stdout",
     "output_type": "stream",
     "text": [
      "{'accuracy': 0.7852684144818977, 'roc_auc': 0.6261491231045829, 'pr_auc': 0.14880879699029023}\n"
     ]
    },
    {
     "data": {
      "text/html": [
       "<div>\n",
       "<style scoped>\n",
       "    .dataframe tbody tr th:only-of-type {\n",
       "        vertical-align: middle;\n",
       "    }\n",
       "\n",
       "    .dataframe tbody tr th {\n",
       "        vertical-align: top;\n",
       "    }\n",
       "\n",
       "    .dataframe thead th {\n",
       "        text-align: right;\n",
       "    }\n",
       "</style>\n",
       "<table border=\"1\" class=\"dataframe\">\n",
       "  <thead>\n",
       "    <tr style=\"text-align: right;\">\n",
       "      <th></th>\n",
       "      <th>0.0</th>\n",
       "      <th>1.0</th>\n",
       "      <th>micro avg</th>\n",
       "      <th>macro avg</th>\n",
       "      <th>weighted avg</th>\n",
       "    </tr>\n",
       "  </thead>\n",
       "  <tbody>\n",
       "    <tr>\n",
       "      <th>f1-score</th>\n",
       "      <td>0.876</td>\n",
       "      <td>0.211</td>\n",
       "      <td>0.785</td>\n",
       "      <td>0.543</td>\n",
       "      <td>0.808</td>\n",
       "    </tr>\n",
       "    <tr>\n",
       "      <th>precision</th>\n",
       "      <td>0.911</td>\n",
       "      <td>0.169</td>\n",
       "      <td>0.785</td>\n",
       "      <td>0.540</td>\n",
       "      <td>0.835</td>\n",
       "    </tr>\n",
       "    <tr>\n",
       "      <th>recall</th>\n",
       "      <td>0.843</td>\n",
       "      <td>0.280</td>\n",
       "      <td>0.785</td>\n",
       "      <td>0.562</td>\n",
       "      <td>0.785</td>\n",
       "    </tr>\n",
       "    <tr>\n",
       "      <th>support</th>\n",
       "      <td>719.000</td>\n",
       "      <td>82.000</td>\n",
       "      <td>801.000</td>\n",
       "      <td>801.000</td>\n",
       "      <td>801.000</td>\n",
       "    </tr>\n",
       "  </tbody>\n",
       "</table>\n",
       "</div>"
      ],
      "text/plain": [
       "               0.0     1.0  micro avg  macro avg  weighted avg\n",
       "f1-score     0.876   0.211      0.785      0.543         0.808\n",
       "precision    0.911   0.169      0.785      0.540         0.835\n",
       "recall       0.843   0.280      0.785      0.562         0.785\n",
       "support    719.000  82.000    801.000    801.000       801.000"
      ]
     },
     "metadata": {},
     "output_type": "display_data"
    },
    {
     "name": "stdout",
     "output_type": "stream",
     "text": [
      "Model Saved on  roc_auc 0.6261491231045829\n"
     ]
    },
    {
     "data": {
      "application/vnd.jupyter.widget-view+json": {
       "model_id": "f9f6403b9bb34e6b8be443f075d5f296",
       "version_major": 2,
       "version_minor": 0
      },
      "text/plain": [
       "HBox(children=(IntProgress(value=0, max=229), HTML(value='')))"
      ]
     },
     "metadata": {},
     "output_type": "display_data"
    },
    {
     "data": {
      "application/vnd.jupyter.widget-view+json": {
       "model_id": "351283a4726d41d6a5a30da7f9b6922b",
       "version_major": 2,
       "version_minor": 0
      },
      "text/plain": [
       "HBox(children=(IntProgress(value=0, max=51), HTML(value='')))"
      ]
     },
     "metadata": {},
     "output_type": "display_data"
    },
    {
     "name": "stdout",
     "output_type": "stream",
     "text": [
      "{'accuracy': 0.7915106117353309, 'roc_auc': 0.5604498117303844, 'pr_auc': 0.14694651516399837}\n"
     ]
    },
    {
     "data": {
      "text/html": [
       "<div>\n",
       "<style scoped>\n",
       "    .dataframe tbody tr th:only-of-type {\n",
       "        vertical-align: middle;\n",
       "    }\n",
       "\n",
       "    .dataframe tbody tr th {\n",
       "        vertical-align: top;\n",
       "    }\n",
       "\n",
       "    .dataframe thead th {\n",
       "        text-align: right;\n",
       "    }\n",
       "</style>\n",
       "<table border=\"1\" class=\"dataframe\">\n",
       "  <thead>\n",
       "    <tr style=\"text-align: right;\">\n",
       "      <th></th>\n",
       "      <th>0.0</th>\n",
       "      <th>1.0</th>\n",
       "      <th>micro avg</th>\n",
       "      <th>macro avg</th>\n",
       "      <th>weighted avg</th>\n",
       "    </tr>\n",
       "  </thead>\n",
       "  <tbody>\n",
       "    <tr>\n",
       "      <th>f1-score</th>\n",
       "      <td>0.881</td>\n",
       "      <td>0.152</td>\n",
       "      <td>0.792</td>\n",
       "      <td>0.517</td>\n",
       "      <td>0.807</td>\n",
       "    </tr>\n",
       "    <tr>\n",
       "      <th>precision</th>\n",
       "      <td>0.902</td>\n",
       "      <td>0.130</td>\n",
       "      <td>0.792</td>\n",
       "      <td>0.516</td>\n",
       "      <td>0.823</td>\n",
       "    </tr>\n",
       "    <tr>\n",
       "      <th>recall</th>\n",
       "      <td>0.861</td>\n",
       "      <td>0.183</td>\n",
       "      <td>0.792</td>\n",
       "      <td>0.522</td>\n",
       "      <td>0.792</td>\n",
       "    </tr>\n",
       "    <tr>\n",
       "      <th>support</th>\n",
       "      <td>719.000</td>\n",
       "      <td>82.000</td>\n",
       "      <td>801.000</td>\n",
       "      <td>801.000</td>\n",
       "      <td>801.000</td>\n",
       "    </tr>\n",
       "  </tbody>\n",
       "</table>\n",
       "</div>"
      ],
      "text/plain": [
       "               0.0     1.0  micro avg  macro avg  weighted avg\n",
       "f1-score     0.881   0.152      0.792      0.517         0.807\n",
       "precision    0.902   0.130      0.792      0.516         0.823\n",
       "recall       0.861   0.183      0.792      0.522         0.792\n",
       "support    719.000  82.000    801.000    801.000       801.000"
      ]
     },
     "metadata": {},
     "output_type": "display_data"
    },
    {
     "name": "stdout",
     "output_type": "stream",
     "text": [
      "Model not saved on  roc_auc 0.5604498117303844\n"
     ]
    },
    {
     "data": {
      "application/vnd.jupyter.widget-view+json": {
       "model_id": "1f39df7ad3fe400fb58a734de35c9703",
       "version_major": 2,
       "version_minor": 0
      },
      "text/plain": [
       "HBox(children=(IntProgress(value=0, max=229), HTML(value='')))"
      ]
     },
     "metadata": {},
     "output_type": "display_data"
    },
    {
     "data": {
      "application/vnd.jupyter.widget-view+json": {
       "model_id": "9b77ce1783f04bf8876b60d2d0ba6ca9",
       "version_major": 2,
       "version_minor": 0
      },
      "text/plain": [
       "HBox(children=(IntProgress(value=0, max=51), HTML(value='')))"
      ]
     },
     "metadata": {},
     "output_type": "display_data"
    },
    {
     "name": "stdout",
     "output_type": "stream",
     "text": [
      "{'accuracy': 0.5530586766541823, 'roc_auc': 0.579242850842973, 'pr_auc': 0.127858157511973}\n"
     ]
    },
    {
     "data": {
      "text/html": [
       "<div>\n",
       "<style scoped>\n",
       "    .dataframe tbody tr th:only-of-type {\n",
       "        vertical-align: middle;\n",
       "    }\n",
       "\n",
       "    .dataframe tbody tr th {\n",
       "        vertical-align: top;\n",
       "    }\n",
       "\n",
       "    .dataframe thead th {\n",
       "        text-align: right;\n",
       "    }\n",
       "</style>\n",
       "<table border=\"1\" class=\"dataframe\">\n",
       "  <thead>\n",
       "    <tr style=\"text-align: right;\">\n",
       "      <th></th>\n",
       "      <th>0.0</th>\n",
       "      <th>1.0</th>\n",
       "      <th>micro avg</th>\n",
       "      <th>macro avg</th>\n",
       "      <th>weighted avg</th>\n",
       "    </tr>\n",
       "  </thead>\n",
       "  <tbody>\n",
       "    <tr>\n",
       "      <th>f1-score</th>\n",
       "      <td>0.689</td>\n",
       "      <td>0.208</td>\n",
       "      <td>0.553</td>\n",
       "      <td>0.448</td>\n",
       "      <td>0.639</td>\n",
       "    </tr>\n",
       "    <tr>\n",
       "      <th>precision</th>\n",
       "      <td>0.919</td>\n",
       "      <td>0.127</td>\n",
       "      <td>0.553</td>\n",
       "      <td>0.523</td>\n",
       "      <td>0.838</td>\n",
       "    </tr>\n",
       "    <tr>\n",
       "      <th>recall</th>\n",
       "      <td>0.551</td>\n",
       "      <td>0.573</td>\n",
       "      <td>0.553</td>\n",
       "      <td>0.562</td>\n",
       "      <td>0.553</td>\n",
       "    </tr>\n",
       "    <tr>\n",
       "      <th>support</th>\n",
       "      <td>719.000</td>\n",
       "      <td>82.000</td>\n",
       "      <td>801.000</td>\n",
       "      <td>801.000</td>\n",
       "      <td>801.000</td>\n",
       "    </tr>\n",
       "  </tbody>\n",
       "</table>\n",
       "</div>"
      ],
      "text/plain": [
       "               0.0     1.0  micro avg  macro avg  weighted avg\n",
       "f1-score     0.689   0.208      0.553      0.448         0.639\n",
       "precision    0.919   0.127      0.553      0.523         0.838\n",
       "recall       0.551   0.573      0.553      0.562         0.553\n",
       "support    719.000  82.000    801.000    801.000       801.000"
      ]
     },
     "metadata": {},
     "output_type": "display_data"
    },
    {
     "name": "stdout",
     "output_type": "stream",
     "text": [
      "Model not saved on  roc_auc 0.579242850842973\n"
     ]
    },
    {
     "data": {
      "application/vnd.jupyter.widget-view+json": {
       "model_id": "3f78f5b6511a4a51bd4a6c8c9fc46b7e",
       "version_major": 2,
       "version_minor": 0
      },
      "text/plain": [
       "HBox(children=(IntProgress(value=0, max=229), HTML(value='')))"
      ]
     },
     "metadata": {},
     "output_type": "display_data"
    },
    {
     "data": {
      "application/vnd.jupyter.widget-view+json": {
       "model_id": "714476a8c7ac49a48de04df42fda7551",
       "version_major": 2,
       "version_minor": 0
      },
      "text/plain": [
       "HBox(children=(IntProgress(value=0, max=51), HTML(value='')))"
      ]
     },
     "metadata": {},
     "output_type": "display_data"
    },
    {
     "name": "stdout",
     "output_type": "stream",
     "text": [
      "{'accuracy': 0.8102372034956304, 'roc_auc': 0.5652922419349368, 'pr_auc': 0.13609221730577958}\n"
     ]
    },
    {
     "data": {
      "text/html": [
       "<div>\n",
       "<style scoped>\n",
       "    .dataframe tbody tr th:only-of-type {\n",
       "        vertical-align: middle;\n",
       "    }\n",
       "\n",
       "    .dataframe tbody tr th {\n",
       "        vertical-align: top;\n",
       "    }\n",
       "\n",
       "    .dataframe thead th {\n",
       "        text-align: right;\n",
       "    }\n",
       "</style>\n",
       "<table border=\"1\" class=\"dataframe\">\n",
       "  <thead>\n",
       "    <tr style=\"text-align: right;\">\n",
       "      <th></th>\n",
       "      <th>0.0</th>\n",
       "      <th>1.0</th>\n",
       "      <th>micro avg</th>\n",
       "      <th>macro avg</th>\n",
       "      <th>weighted avg</th>\n",
       "    </tr>\n",
       "  </thead>\n",
       "  <tbody>\n",
       "    <tr>\n",
       "      <th>f1-score</th>\n",
       "      <td>0.894</td>\n",
       "      <td>0.126</td>\n",
       "      <td>0.81</td>\n",
       "      <td>0.510</td>\n",
       "      <td>0.815</td>\n",
       "    </tr>\n",
       "    <tr>\n",
       "      <th>precision</th>\n",
       "      <td>0.900</td>\n",
       "      <td>0.120</td>\n",
       "      <td>0.81</td>\n",
       "      <td>0.510</td>\n",
       "      <td>0.820</td>\n",
       "    </tr>\n",
       "    <tr>\n",
       "      <th>recall</th>\n",
       "      <td>0.887</td>\n",
       "      <td>0.134</td>\n",
       "      <td>0.81</td>\n",
       "      <td>0.511</td>\n",
       "      <td>0.810</td>\n",
       "    </tr>\n",
       "    <tr>\n",
       "      <th>support</th>\n",
       "      <td>719.000</td>\n",
       "      <td>82.000</td>\n",
       "      <td>801.00</td>\n",
       "      <td>801.000</td>\n",
       "      <td>801.000</td>\n",
       "    </tr>\n",
       "  </tbody>\n",
       "</table>\n",
       "</div>"
      ],
      "text/plain": [
       "               0.0     1.0  micro avg  macro avg  weighted avg\n",
       "f1-score     0.894   0.126       0.81      0.510         0.815\n",
       "precision    0.900   0.120       0.81      0.510         0.820\n",
       "recall       0.887   0.134       0.81      0.511         0.810\n",
       "support    719.000  82.000     801.00    801.000       801.000"
      ]
     },
     "metadata": {},
     "output_type": "display_data"
    },
    {
     "name": "stderr",
     "output_type": "stream",
     "text": [
      "INFO - 2019-03-26 14:41:09,428 - instantiating class <class 'PatientVec.models.Model.Model'> from params {'type': 'seq_classifier', 'embedder': {'type': 'token_embedder', 'vocab_size': 18542, 'embed_size': 200, 'embedding_file': '../../../SurgeryData/PatientVec/preprocess/KneeSurgery/1_yrs/embedding_matrix.npy'}, 'decoder': {'num_layers': 2, 'hidden_dims': [128, 1], 'activations': ['tanh', 'linear']}, 'predictor': {'type': 'binary'}, 'structured': {'use_structured': False}, 'encoder': {'type': 'lstm', 'hidden_size': 128}} and extras {}\n",
      "INFO - 2019-03-26 14:41:09,429 - type = seq_classifier\n",
      "INFO - 2019-03-26 14:41:09,429 - instantiating class <class 'PatientVec.models.modules.Embedder.Embedder'> from params {'type': 'token_embedder', 'vocab_size': 18542, 'embed_size': 200, 'embedding_file': '../../../SurgeryData/PatientVec/preprocess/KneeSurgery/1_yrs/embedding_matrix.npy'} and extras {}\n",
      "INFO - 2019-03-26 14:41:09,429 - embedder.type = token_embedder\n",
      "INFO - 2019-03-26 14:41:09,429 - instantiating class <class 'PatientVec.models.modules.Embedder.TokenEmbedder'> from params {'vocab_size': 18542, 'embed_size': 200, 'embedding_file': '../../../SurgeryData/PatientVec/preprocess/KneeSurgery/1_yrs/embedding_matrix.npy'} and extras {}\n",
      "INFO - 2019-03-26 14:41:09,430 - embedder.vocab_size = 18542\n",
      "INFO - 2019-03-26 14:41:09,430 - embedder.embed_size = 200\n",
      "INFO - 2019-03-26 14:41:09,430 - embedder.embedding_file = ../../../SurgeryData/PatientVec/preprocess/KneeSurgery/1_yrs/embedding_matrix.npy\n",
      "INFO - 2019-03-26 14:41:09,438 - instantiating class <class 'PatientVec.models.modules.Encoder.Encoder'> from params {'type': 'lstm', 'hidden_size': 128} and extras {'input_size': 200}\n",
      "INFO - 2019-03-26 14:41:09,438 - encoder.type = lstm\n",
      "INFO - 2019-03-26 14:41:09,439 - instantiating class <class 'PatientVec.models.modules.Encoder.wrap_pytorch_rnn.<locals>.BiRNNEncoder'> from params {'hidden_size': 128} and extras {'input_size': 200}\n",
      "INFO - 2019-03-26 14:41:09,439 - encoder.hidden_size = 128\n",
      "INFO - 2019-03-26 14:41:09,441 - decoder.input_dim = 256\n",
      "INFO - 2019-03-26 14:41:09,441 - decoder.num_layers = 2\n",
      "INFO - 2019-03-26 14:41:09,442 - decoder.hidden_dims = [128, 1]\n",
      "INFO - 2019-03-26 14:41:09,442 - decoder.activations = ['tanh', 'linear']\n",
      "INFO - 2019-03-26 14:41:09,442 - decoder.dropout = 0.0\n",
      "INFO - 2019-03-26 14:41:09,443 - instantiating class <class 'PatientVec.models.modules.Predictor.Predictor'> from params {'type': 'binary'} and extras {}\n",
      "INFO - 2019-03-26 14:41:09,443 - predictor.type = binary\n",
      "INFO - 2019-03-26 14:41:09,444 - instantiating class <class 'PatientVec.models.modules.Predictor.Binary_Predictor'> from params {} and extras {}\n",
      "INFO - 2019-03-26 14:41:09,444 - predictor.replicate = False\n",
      "INFO - 2019-03-26 14:41:09,444 - predictor.alpha = 0.5\n"
     ]
    },
    {
     "name": "stdout",
     "output_type": "stream",
     "text": [
      "Model not saved on  roc_auc 0.5652922419349368\n",
      "0.6261491231045829 deque([0.5604498117303844, 0.579242850842973, 0.5652922419349368], maxlen=3)\n",
      "\n",
      "Setting Embedding\n"
     ]
    },
    {
     "data": {
      "application/vnd.jupyter.widget-view+json": {
       "model_id": "0e152d49ca10477cba5bf91049798da8",
       "version_major": 2,
       "version_minor": 0
      },
      "text/plain": [
       "HBox(children=(IntProgress(value=0, max=51), HTML(value='')))"
      ]
     },
     "metadata": {},
     "output_type": "display_data"
    },
    {
     "name": "stdout",
     "output_type": "stream",
     "text": [
      "\n",
      "{'accuracy': 0.7852684144818977, 'roc_auc': 0.6261491231045829, 'pr_auc': 0.14880879699029023}\n"
     ]
    },
    {
     "data": {
      "text/html": [
       "<div>\n",
       "<style scoped>\n",
       "    .dataframe tbody tr th:only-of-type {\n",
       "        vertical-align: middle;\n",
       "    }\n",
       "\n",
       "    .dataframe tbody tr th {\n",
       "        vertical-align: top;\n",
       "    }\n",
       "\n",
       "    .dataframe thead th {\n",
       "        text-align: right;\n",
       "    }\n",
       "</style>\n",
       "<table border=\"1\" class=\"dataframe\">\n",
       "  <thead>\n",
       "    <tr style=\"text-align: right;\">\n",
       "      <th></th>\n",
       "      <th>0.0</th>\n",
       "      <th>1.0</th>\n",
       "      <th>micro avg</th>\n",
       "      <th>macro avg</th>\n",
       "      <th>weighted avg</th>\n",
       "    </tr>\n",
       "  </thead>\n",
       "  <tbody>\n",
       "    <tr>\n",
       "      <th>f1-score</th>\n",
       "      <td>0.876</td>\n",
       "      <td>0.211</td>\n",
       "      <td>0.785</td>\n",
       "      <td>0.543</td>\n",
       "      <td>0.808</td>\n",
       "    </tr>\n",
       "    <tr>\n",
       "      <th>precision</th>\n",
       "      <td>0.911</td>\n",
       "      <td>0.169</td>\n",
       "      <td>0.785</td>\n",
       "      <td>0.540</td>\n",
       "      <td>0.835</td>\n",
       "    </tr>\n",
       "    <tr>\n",
       "      <th>recall</th>\n",
       "      <td>0.843</td>\n",
       "      <td>0.280</td>\n",
       "      <td>0.785</td>\n",
       "      <td>0.562</td>\n",
       "      <td>0.785</td>\n",
       "    </tr>\n",
       "    <tr>\n",
       "      <th>support</th>\n",
       "      <td>719.000</td>\n",
       "      <td>82.000</td>\n",
       "      <td>801.000</td>\n",
       "      <td>801.000</td>\n",
       "      <td>801.000</td>\n",
       "    </tr>\n",
       "  </tbody>\n",
       "</table>\n",
       "</div>"
      ],
      "text/plain": [
       "               0.0     1.0  micro avg  macro avg  weighted avg\n",
       "f1-score     0.876   0.211      0.785      0.543         0.808\n",
       "precision    0.911   0.169      0.785      0.540         0.835\n",
       "recall       0.843   0.280      0.785      0.562         0.785\n",
       "support    719.000  82.000    801.000    801.000       801.000"
      ]
     },
     "metadata": {},
     "output_type": "display_data"
    },
    {
     "name": "stderr",
     "output_type": "stream",
     "text": [
      "INFO - 2019-03-26 14:41:24,887 - instantiating class <class 'PatientVec.models.Model.Model'> from params {'type': 'seq_classifier_with_attention', 'embedder': {'type': 'token_embedder', 'vocab_size': 18542, 'embed_size': 200, 'embedding_file': '../../../SurgeryData/PatientVec/preprocess/KneeSurgery/1_yrs/embedding_matrix.npy'}, 'decoder': {'num_layers': 2, 'hidden_dims': [128, 1], 'activations': ['tanh', 'linear']}, 'predictor': {'type': 'binary'}, 'structured': {'use_structured': False}, 'encoder': {'type': 'lstm', 'hidden_size': 128}, 'attention': {'similarity': {'type': 'additive', 'hidden_size': 128}}} and extras {}\n",
      "INFO - 2019-03-26 14:41:24,887 - type = seq_classifier_with_attention\n",
      "INFO - 2019-03-26 14:41:24,887 - instantiating class <class 'PatientVec.models.modules.Embedder.Embedder'> from params {'type': 'token_embedder', 'vocab_size': 18542, 'embed_size': 200, 'embedding_file': '../../../SurgeryData/PatientVec/preprocess/KneeSurgery/1_yrs/embedding_matrix.npy'} and extras {}\n",
      "INFO - 2019-03-26 14:41:24,888 - embedder.type = token_embedder\n",
      "INFO - 2019-03-26 14:41:24,888 - instantiating class <class 'PatientVec.models.modules.Embedder.TokenEmbedder'> from params {'vocab_size': 18542, 'embed_size': 200, 'embedding_file': '../../../SurgeryData/PatientVec/preprocess/KneeSurgery/1_yrs/embedding_matrix.npy'} and extras {}\n",
      "INFO - 2019-03-26 14:41:24,889 - embedder.vocab_size = 18542\n",
      "INFO - 2019-03-26 14:41:24,889 - embedder.embed_size = 200\n",
      "INFO - 2019-03-26 14:41:24,889 - embedder.embedding_file = ../../../SurgeryData/PatientVec/preprocess/KneeSurgery/1_yrs/embedding_matrix.npy\n",
      "INFO - 2019-03-26 14:41:24,898 - instantiating class <class 'PatientVec.models.modules.Encoder.Encoder'> from params {'type': 'lstm', 'hidden_size': 128} and extras {'input_size': 200}\n",
      "INFO - 2019-03-26 14:41:24,899 - encoder.type = lstm\n",
      "INFO - 2019-03-26 14:41:24,899 - instantiating class <class 'PatientVec.models.modules.Encoder.wrap_pytorch_rnn.<locals>.BiRNNEncoder'> from params {'hidden_size': 128} and extras {'input_size': 200}\n",
      "INFO - 2019-03-26 14:41:24,899 - encoder.hidden_size = 128\n",
      "INFO - 2019-03-26 14:41:24,901 - instantiating class <class 'PatientVec.models.modules.SelfAttention.SelfAttention'> from params {'similarity': {'type': 'additive', 'hidden_size': 128, 'tensor_1_dim': 256}} and extras {}\n",
      "INFO - 2019-03-26 14:41:24,902 - instantiating class <class 'PatientVec.models.modules.UniSimilarity.UniSimilarity'> from params {'type': 'additive', 'hidden_size': 128, 'tensor_1_dim': 256} and extras {}\n",
      "INFO - 2019-03-26 14:41:24,902 - attention.similarity.type = additive\n",
      "INFO - 2019-03-26 14:41:24,902 - instantiating class <class 'PatientVec.models.modules.UniSimilarity.UniAdditiveSimilarity'> from params {'hidden_size': 128, 'tensor_1_dim': 256} and extras {}\n",
      "INFO - 2019-03-26 14:41:24,902 - attention.similarity.tensor_1_dim = 256\n",
      "INFO - 2019-03-26 14:41:24,903 - attention.similarity.hidden_size = 128\n",
      "INFO - 2019-03-26 14:41:24,903 - attention.similarity.output_size = 1\n",
      "INFO - 2019-03-26 14:41:24,905 - attention.normaliser = softmax\n",
      "INFO - 2019-03-26 14:41:24,905 - decoder.input_dim = 256\n",
      "INFO - 2019-03-26 14:41:24,905 - decoder.num_layers = 2\n",
      "INFO - 2019-03-26 14:41:24,905 - decoder.hidden_dims = [128, 1]\n",
      "INFO - 2019-03-26 14:41:24,906 - decoder.activations = ['tanh', 'linear']\n",
      "INFO - 2019-03-26 14:41:24,906 - decoder.dropout = 0.0\n",
      "INFO - 2019-03-26 14:41:24,907 - instantiating class <class 'PatientVec.models.modules.Predictor.Predictor'> from params {'type': 'binary'} and extras {}\n",
      "INFO - 2019-03-26 14:41:24,907 - predictor.type = binary\n",
      "INFO - 2019-03-26 14:41:24,908 - instantiating class <class 'PatientVec.models.modules.Predictor.Binary_Predictor'> from params {} and extras {}\n",
      "INFO - 2019-03-26 14:41:24,908 - predictor.replicate = False\n",
      "INFO - 2019-03-26 14:41:24,908 - predictor.alpha = 0.5\n"
     ]
    },
    {
     "name": "stdout",
     "output_type": "stream",
     "text": [
      "============================================================================================================================================================================================================================================================================================================\n",
      "{'model': {'type': 'seq_classifier_with_attention', 'embedder': {'type': 'token_embedder', 'vocab_size': 18542, 'embed_size': 200, 'embedding_file': '../../../SurgeryData/PatientVec/preprocess/KneeSurgery/1_yrs/embedding_matrix.npy'}, 'decoder': {'num_layers': 2, 'hidden_dims': [128, 1], 'activations': ['tanh', 'linear']}, 'predictor': {'type': 'binary'}, 'structured': {'use_structured': False}, 'encoder': {'type': 'lstm', 'hidden_size': 128}, 'attention': {'similarity': {'type': 'additive', 'hidden_size': 128}}}, 'training_config': {'type': 'Adam', 'groups': [('.*', {'lr': 0.001, 'weight_decay': 1e-05})], 'common': {'bsize': 16, 'class_weight': True}}, 'exp_config': {'exp_name': 'KneeSurgery_1/Attention/LSTM(hs=128)+Attention(additive)(hs=128)', 'basepath': 'outputs/confidence'}}\n",
      "Setting Embedding\n"
     ]
    },
    {
     "data": {
      "application/vnd.jupyter.widget-view+json": {
       "model_id": "cd03e65bd5214c96a88baa4902ae84a0",
       "version_major": 2,
       "version_minor": 0
      },
      "text/plain": [
       "HBox(children=(IntProgress(value=0, max=8), HTML(value='')))"
      ]
     },
     "metadata": {},
     "output_type": "display_data"
    },
    {
     "data": {
      "application/vnd.jupyter.widget-view+json": {
       "model_id": "d7d9074433a54f76b9078f3cb9c1246e",
       "version_major": 2,
       "version_minor": 0
      },
      "text/plain": [
       "HBox(children=(IntProgress(value=0, max=229), HTML(value='')))"
      ]
     },
     "metadata": {},
     "output_type": "display_data"
    }
   ],
   "source": [
    "for i in range(10) :\n",
    "    %run \"Discovery Experiments\"/confidence_interval.py --dataset='knee_1yr' --data_dir='../../../SurgeryData/PatientVec/' --output_dir='outputs/' --display"
   ]
  },
  {
   "cell_type": "code",
   "execution_count": null,
   "metadata": {},
   "outputs": [],
   "source": [
    "%run \"Discovery Experiments\"/run_models.py --dataset \"mortality_30day\" --exp_types pretrained --data_dir='.' \\\n",
    "    --output_dir='outputs/' --display"
   ]
  },
  {
   "cell_type": "code",
   "execution_count": null,
   "metadata": {},
   "outputs": [],
   "source": [
    "%run \"Discovery Experiments\"/run_models.py --dataset \"hip_1yr\" --exp_types vanilla \\\n",
    "    --data_dir='../../../SurgeryData/PatientVec/' --output_dir='outputs/' --display"
   ]
  },
  {
   "cell_type": "code",
   "execution_count": null,
   "metadata": {},
   "outputs": [],
   "source": [
    "%run \"Discovery Experiments\"/run_models.py --dataset \"hip_1yr\" --exp_types attention \\\n",
    "    --data_dir='../../../SurgeryData/PatientVec/' --output_dir='outputs/' --display"
   ]
  },
  {
   "cell_type": "code",
   "execution_count": null,
   "metadata": {},
   "outputs": [],
   "source": [
    "%run \"Discovery Experiments\"/run_models.py --dataset \"knee_1yr\" --exp_types vanilla \\\n",
    "    --data_dir='../../../SurgeryData/PatientVec/' --output_dir='outputs/' --display"
   ]
  },
  {
   "cell_type": "code",
   "execution_count": null,
   "metadata": {},
   "outputs": [],
   "source": [
    "%run \"Discovery Experiments\"/run_models.py --dataset \"knee_1yr\" --exp_types attention \\\n",
    "    --data_dir='../../../SurgeryData/PatientVec/' --output_dir='outputs/' --display"
   ]
  },
  {
   "cell_type": "code",
   "execution_count": null,
   "metadata": {},
   "outputs": [],
   "source": [
    "%run \"Discovery Experiments\"/run_models.py --dataset \"hip_1yr\" --exp_types lr \\\n",
    "    --data_dir='../../../SurgeryData/PatientVec/' --output_dir='outputs/' --display"
   ]
  },
  {
   "cell_type": "code",
   "execution_count": null,
   "metadata": {},
   "outputs": [],
   "source": [
    "%run \"Discovery Experiments\"/run_models.py --dataset \"knee_1yr\" --exp_types lr \\\n",
    "    --data_dir='../../../SurgeryData/PatientVec/' --output_dir='outputs/' --display"
   ]
  },
  {
   "cell_type": "code",
   "execution_count": null,
   "metadata": {},
   "outputs": [],
   "source": [
    "%run \"Discovery Experiments\"/run_models.py --dataset \"hip_1yr\" --exp_types hierarchical \\\n",
    "    --data_dir='../../../SurgeryData/PatientVec/' --output_dir='outputs/' --display"
   ]
  },
  {
   "cell_type": "code",
   "execution_count": null,
   "metadata": {},
   "outputs": [],
   "source": [
    "%run \"Discovery Experiments\"/run_models.py --dataset \"knee_1yr\" --exp_types hierarchical \\\n",
    "    --data_dir='../../../SurgeryData/PatientVec/' --output_dir='outputs/' --display"
   ]
  },
  {
   "cell_type": "code",
   "execution_count": null,
   "metadata": {},
   "outputs": [],
   "source": [
    "%run \"Discovery Experiments\"/run_models.py --dataset \"hip_1yr\" --exp_types basic_sru \\\n",
    "    --data_dir='../../../SurgeryData/PatientVec/' --output_dir='outputs/' --display"
   ]
  },
  {
   "cell_type": "code",
   "execution_count": null,
   "metadata": {},
   "outputs": [],
   "source": [
    "%run \"Discovery Experiments\"/run_models.py --dataset \"knee_1yr\" --exp_types basic_sru \\\n",
    "    --data_dir='../../../SurgeryData/PatientVec/' --output_dir='outputs/' --display"
   ]
  },
  {
   "cell_type": "code",
   "execution_count": null,
   "metadata": {},
   "outputs": [],
   "source": [
    "%run \"Discovery Experiments\"/run_models.py --dataset \"hip_1yr\" --exp_types lda \\\n",
    "    --data_dir='../../../SurgeryData/PatientVec/' --output_dir='outputs/' --display"
   ]
  },
  {
   "cell_type": "code",
   "execution_count": null,
   "metadata": {},
   "outputs": [],
   "source": [
    "%run \"Discovery Experiments\"/run_models.py --dataset \"knee_1yr\" --exp_types lda \\\n",
    "    --data_dir='../../../SurgeryData/PatientVec/' --output_dir='outputs/' --display"
   ]
  },
  {
   "cell_type": "code",
   "execution_count": null,
   "metadata": {},
   "outputs": [],
   "source": []
  }
 ],
 "metadata": {
  "kernelspec": {
   "display_name": "Python 3",
   "language": "python",
   "name": "python3"
  },
  "language_info": {
   "codemirror_mode": {
    "name": "ipython",
    "version": 3
   },
   "file_extension": ".py",
   "mimetype": "text/x-python",
   "name": "python",
   "nbconvert_exporter": "python",
   "pygments_lexer": "ipython3",
   "version": "3.6.7"
  }
 },
 "nbformat": 4,
 "nbformat_minor": 2
}
