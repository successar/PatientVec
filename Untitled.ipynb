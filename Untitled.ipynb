{
 "cells": [
  {
   "cell_type": "code",
   "execution_count": null,
   "metadata": {},
   "outputs": [],
   "source": [
    "# %run \"Discovery Experiments\"/confidence_interval.py --data_dir='.' --output_dir='outputs' --display"
   ]
  },
  {
   "cell_type": "code",
   "execution_count": null,
   "metadata": {},
   "outputs": [],
   "source": [
    "%run \"Discovery Experiments\"/basic_experiments.py --data_dir='.' --output_dir='outputs' --display --dataset='mortality_30day_hcup'"
   ]
  },
  {
   "cell_type": "code",
   "execution_count": null,
   "metadata": {},
   "outputs": [
    {
     "name": "stdout",
     "output_type": "stream",
     "text": [
      "Better speed can be achieved with apex installed from https://www.github.com/nvidia/apex.\n"
     ]
    },
    {
     "name": "stderr",
     "output_type": "stream",
     "text": [
      "INFO - 2019-03-26 13:57:34,114 - Reading Structured data ...\n",
      "INFO - 2019-03-26 13:57:34,273 - Reading Notes ...\n",
      "INFO - 2019-03-26 13:57:35,243 - Stratifying ...\n"
     ]
    },
    {
     "name": "stdout",
     "output_type": "stream",
     "text": [
      "Pos Percentage [0.10104053]\n"
     ]
    },
    {
     "name": "stderr",
     "output_type": "stream",
     "text": [
      "INFO - 2019-03-26 13:57:35,760 - Maximum Sentence Length 169921.000000 , 90 percentile length 19951.000000 ... \n",
      "INFO - 2019-03-26 13:57:36,583 - Truncated all ...\n",
      "INFO - 2019-03-26 13:57:36,587 - Idxs removed []...\n",
      "INFO - 2019-03-26 13:57:36,710 - Maximum Sentence Length 55858.000000 , 90 percentile length 19968.000000 ... \n",
      "INFO - 2019-03-26 13:57:36,887 - Truncated all ...\n"
     ]
    },
    {
     "name": "stdout",
     "output_type": "stream",
     "text": [
      "Pos Percentage [0.10237203]\n"
     ]
    },
    {
     "name": "stderr",
     "output_type": "stream",
     "text": [
      "INFO - 2019-03-26 13:57:36,889 - Idxs removed []...\n",
      "INFO - 2019-03-26 13:57:36,907 - instantiating class <class 'PatientVec.models.Model.Model'> from params {'type': 'seq_classifier', 'embedder': {'type': 'token_embedder', 'vocab_size': 18542, 'embed_size': 200, 'embedding_file': '../../../SurgeryData/PatientVec/preprocess/KneeSurgery/1_yrs/embedding_matrix.npy'}, 'decoder': {'num_layers': 2, 'hidden_dims': [128, 1], 'activations': ['tanh', 'linear']}, 'predictor': {'type': 'binary'}, 'structured': {'use_structured': False}, 'encoder': {'type': 'lstm', 'hidden_size': 128}} and extras {}\n",
      "INFO - 2019-03-26 13:57:36,908 - type = seq_classifier\n",
      "INFO - 2019-03-26 13:57:36,908 - instantiating class <class 'PatientVec.models.modules.Embedder.Embedder'> from params {'type': 'token_embedder', 'vocab_size': 18542, 'embed_size': 200, 'embedding_file': '../../../SurgeryData/PatientVec/preprocess/KneeSurgery/1_yrs/embedding_matrix.npy'} and extras {}\n",
      "INFO - 2019-03-26 13:57:36,909 - embedder.type = token_embedder\n",
      "INFO - 2019-03-26 13:57:36,909 - instantiating class <class 'PatientVec.models.modules.Embedder.TokenEmbedder'> from params {'vocab_size': 18542, 'embed_size': 200, 'embedding_file': '../../../SurgeryData/PatientVec/preprocess/KneeSurgery/1_yrs/embedding_matrix.npy'} and extras {}\n",
      "INFO - 2019-03-26 13:57:36,952 - embedder.vocab_size = 18542\n",
      "INFO - 2019-03-26 13:57:36,952 - embedder.embed_size = 200\n",
      "INFO - 2019-03-26 13:57:36,952 - embedder.embedding_file = ../../../SurgeryData/PatientVec/preprocess/KneeSurgery/1_yrs/embedding_matrix.npy\n",
      "INFO - 2019-03-26 13:57:36,961 - instantiating class <class 'PatientVec.models.modules.Encoder.Encoder'> from params {'type': 'lstm', 'hidden_size': 128} and extras {'input_size': 200}\n",
      "INFO - 2019-03-26 13:57:36,962 - encoder.type = lstm\n",
      "INFO - 2019-03-26 13:57:36,962 - instantiating class <class 'PatientVec.models.modules.Encoder.wrap_pytorch_rnn.<locals>.BiRNNEncoder'> from params {'hidden_size': 128} and extras {'input_size': 200}\n",
      "INFO - 2019-03-26 13:57:36,962 - encoder.hidden_size = 128\n",
      "INFO - 2019-03-26 13:57:36,966 - decoder.input_dim = 256\n",
      "INFO - 2019-03-26 13:57:36,966 - decoder.num_layers = 2\n",
      "INFO - 2019-03-26 13:57:36,966 - decoder.hidden_dims = [128, 1]\n",
      "INFO - 2019-03-26 13:57:36,967 - decoder.activations = ['tanh', 'linear']\n",
      "INFO - 2019-03-26 13:57:36,967 - decoder.dropout = 0.0\n",
      "INFO - 2019-03-26 13:57:36,970 - instantiating class <class 'PatientVec.models.modules.Predictor.Predictor'> from params {'type': 'binary'} and extras {}\n",
      "INFO - 2019-03-26 13:57:36,970 - predictor.type = binary\n",
      "INFO - 2019-03-26 13:57:36,971 - instantiating class <class 'PatientVec.models.modules.Predictor.Binary_Predictor'> from params {} and extras {}\n",
      "INFO - 2019-03-26 13:57:36,971 - predictor.replicate = False\n",
      "INFO - 2019-03-26 13:57:36,971 - predictor.alpha = 0.5\n"
     ]
    },
    {
     "name": "stdout",
     "output_type": "stream",
     "text": [
      "{'model': {'type': 'seq_classifier', 'embedder': {'type': 'token_embedder', 'vocab_size': 18542, 'embed_size': 200, 'embedding_file': '../../../SurgeryData/PatientVec/preprocess/KneeSurgery/1_yrs/embedding_matrix.npy'}, 'decoder': {'num_layers': 2, 'hidden_dims': [128, 1], 'activations': ['tanh', 'linear']}, 'predictor': {'type': 'binary'}, 'structured': {'use_structured': False}, 'encoder': {'type': 'lstm', 'hidden_size': 128}}, 'training_config': {'type': 'Adam', 'groups': [('.*', {'lr': 0.001, 'weight_decay': 1e-05})], 'common': {'bsize': 16, 'class_weight': True}}, 'exp_config': {'exp_name': 'KneeSurgery_1/Basic/LSTM(hs=128)', 'basepath': 'outputs/confidence'}}\n",
      "Setting Embedding\n"
     ]
    },
    {
     "data": {
      "application/vnd.jupyter.widget-view+json": {
       "model_id": "713bce52d7fa4f15941778c7c7e79816",
       "version_major": 2,
       "version_minor": 0
      },
      "text/plain": [
       "HBox(children=(IntProgress(value=0, max=8), HTML(value='')))"
      ]
     },
     "metadata": {},
     "output_type": "display_data"
    },
    {
     "data": {
      "application/vnd.jupyter.widget-view+json": {
       "model_id": "7442ec9d15774ee3922ef58a868a8291",
       "version_major": 2,
       "version_minor": 0
      },
      "text/plain": [
       "HBox(children=(IntProgress(value=0, max=229), HTML(value='')))"
      ]
     },
     "metadata": {},
     "output_type": "display_data"
    },
    {
     "data": {
      "application/vnd.jupyter.widget-view+json": {
       "model_id": "1a58648cc65044a38c240f16599be446",
       "version_major": 2,
       "version_minor": 0
      },
      "text/plain": [
       "HBox(children=(IntProgress(value=0, max=51), HTML(value='')))"
      ]
     },
     "metadata": {},
     "output_type": "display_data"
    },
    {
     "name": "stdout",
     "output_type": "stream",
     "text": [
      "{'accuracy': 0.6429463171036205, 'roc_auc': 0.5628413446860477, 'pr_auc': 0.12233879907594837}\n"
     ]
    },
    {
     "data": {
      "text/html": [
       "<div>\n",
       "<style scoped>\n",
       "    .dataframe tbody tr th:only-of-type {\n",
       "        vertical-align: middle;\n",
       "    }\n",
       "\n",
       "    .dataframe tbody tr th {\n",
       "        vertical-align: top;\n",
       "    }\n",
       "\n",
       "    .dataframe thead th {\n",
       "        text-align: right;\n",
       "    }\n",
       "</style>\n",
       "<table border=\"1\" class=\"dataframe\">\n",
       "  <thead>\n",
       "    <tr style=\"text-align: right;\">\n",
       "      <th></th>\n",
       "      <th>0.0</th>\n",
       "      <th>1.0</th>\n",
       "      <th>micro avg</th>\n",
       "      <th>macro avg</th>\n",
       "      <th>weighted avg</th>\n",
       "    </tr>\n",
       "  </thead>\n",
       "  <tbody>\n",
       "    <tr>\n",
       "      <th>f1-score</th>\n",
       "      <td>0.770</td>\n",
       "      <td>0.206</td>\n",
       "      <td>0.643</td>\n",
       "      <td>0.488</td>\n",
       "      <td>0.712</td>\n",
       "    </tr>\n",
       "    <tr>\n",
       "      <th>precision</th>\n",
       "      <td>0.914</td>\n",
       "      <td>0.133</td>\n",
       "      <td>0.643</td>\n",
       "      <td>0.524</td>\n",
       "      <td>0.834</td>\n",
       "    </tr>\n",
       "    <tr>\n",
       "      <th>recall</th>\n",
       "      <td>0.665</td>\n",
       "      <td>0.451</td>\n",
       "      <td>0.643</td>\n",
       "      <td>0.558</td>\n",
       "      <td>0.643</td>\n",
       "    </tr>\n",
       "    <tr>\n",
       "      <th>support</th>\n",
       "      <td>719.000</td>\n",
       "      <td>82.000</td>\n",
       "      <td>801.000</td>\n",
       "      <td>801.000</td>\n",
       "      <td>801.000</td>\n",
       "    </tr>\n",
       "  </tbody>\n",
       "</table>\n",
       "</div>"
      ],
      "text/plain": [
       "               0.0     1.0  micro avg  macro avg  weighted avg\n",
       "f1-score     0.770   0.206      0.643      0.488         0.712\n",
       "precision    0.914   0.133      0.643      0.524         0.834\n",
       "recall       0.665   0.451      0.643      0.558         0.643\n",
       "support    719.000  82.000    801.000    801.000       801.000"
      ]
     },
     "metadata": {},
     "output_type": "display_data"
    },
    {
     "name": "stdout",
     "output_type": "stream",
     "text": [
      "Model Saved on  roc_auc 0.5628413446860477\n"
     ]
    },
    {
     "data": {
      "application/vnd.jupyter.widget-view+json": {
       "model_id": "0154edfb49b24ee8986422ec14dea60b",
       "version_major": 2,
       "version_minor": 0
      },
      "text/plain": [
       "HBox(children=(IntProgress(value=0, max=229), HTML(value='')))"
      ]
     },
     "metadata": {},
     "output_type": "display_data"
    },
    {
     "data": {
      "application/vnd.jupyter.widget-view+json": {
       "model_id": "2f5a20b6a6e5467599782952a31d0117",
       "version_major": 2,
       "version_minor": 0
      },
      "text/plain": [
       "HBox(children=(IntProgress(value=0, max=51), HTML(value='')))"
      ]
     },
     "metadata": {},
     "output_type": "display_data"
    },
    {
     "name": "stdout",
     "output_type": "stream",
     "text": [
      "{'accuracy': 0.7253433208489388, 'roc_auc': 0.5765714576478171, 'pr_auc': 0.13502269607746664}\n"
     ]
    },
    {
     "data": {
      "text/html": [
       "<div>\n",
       "<style scoped>\n",
       "    .dataframe tbody tr th:only-of-type {\n",
       "        vertical-align: middle;\n",
       "    }\n",
       "\n",
       "    .dataframe tbody tr th {\n",
       "        vertical-align: top;\n",
       "    }\n",
       "\n",
       "    .dataframe thead th {\n",
       "        text-align: right;\n",
       "    }\n",
       "</style>\n",
       "<table border=\"1\" class=\"dataframe\">\n",
       "  <thead>\n",
       "    <tr style=\"text-align: right;\">\n",
       "      <th></th>\n",
       "      <th>0.0</th>\n",
       "      <th>1.0</th>\n",
       "      <th>micro avg</th>\n",
       "      <th>macro avg</th>\n",
       "      <th>weighted avg</th>\n",
       "    </tr>\n",
       "  </thead>\n",
       "  <tbody>\n",
       "    <tr>\n",
       "      <th>f1-score</th>\n",
       "      <td>0.834</td>\n",
       "      <td>0.203</td>\n",
       "      <td>0.725</td>\n",
       "      <td>0.518</td>\n",
       "      <td>0.769</td>\n",
       "    </tr>\n",
       "    <tr>\n",
       "      <th>precision</th>\n",
       "      <td>0.911</td>\n",
       "      <td>0.144</td>\n",
       "      <td>0.725</td>\n",
       "      <td>0.528</td>\n",
       "      <td>0.833</td>\n",
       "    </tr>\n",
       "    <tr>\n",
       "      <th>recall</th>\n",
       "      <td>0.769</td>\n",
       "      <td>0.341</td>\n",
       "      <td>0.725</td>\n",
       "      <td>0.555</td>\n",
       "      <td>0.725</td>\n",
       "    </tr>\n",
       "    <tr>\n",
       "      <th>support</th>\n",
       "      <td>719.000</td>\n",
       "      <td>82.000</td>\n",
       "      <td>801.000</td>\n",
       "      <td>801.000</td>\n",
       "      <td>801.000</td>\n",
       "    </tr>\n",
       "  </tbody>\n",
       "</table>\n",
       "</div>"
      ],
      "text/plain": [
       "               0.0     1.0  micro avg  macro avg  weighted avg\n",
       "f1-score     0.834   0.203      0.725      0.518         0.769\n",
       "precision    0.911   0.144      0.725      0.528         0.833\n",
       "recall       0.769   0.341      0.725      0.555         0.725\n",
       "support    719.000  82.000    801.000    801.000       801.000"
      ]
     },
     "metadata": {},
     "output_type": "display_data"
    },
    {
     "name": "stdout",
     "output_type": "stream",
     "text": [
      "Model Saved on  roc_auc 0.5765714576478171\n"
     ]
    },
    {
     "data": {
      "application/vnd.jupyter.widget-view+json": {
       "model_id": "1e84bcb8d5d04658806cd8aa194c61af",
       "version_major": 2,
       "version_minor": 0
      },
      "text/plain": [
       "HBox(children=(IntProgress(value=0, max=229), HTML(value='')))"
      ]
     },
     "metadata": {},
     "output_type": "display_data"
    },
    {
     "data": {
      "application/vnd.jupyter.widget-view+json": {
       "model_id": "a20d7f52460d4f0b8296f96f108ea231",
       "version_major": 2,
       "version_minor": 0
      },
      "text/plain": [
       "HBox(children=(IntProgress(value=0, max=51), HTML(value='')))"
      ]
     },
     "metadata": {},
     "output_type": "display_data"
    },
    {
     "name": "stdout",
     "output_type": "stream",
     "text": [
      "{'accuracy': 0.6454431960049938, 'roc_auc': 0.5876810610943384, 'pr_auc': 0.15355827829689597}\n"
     ]
    },
    {
     "data": {
      "text/html": [
       "<div>\n",
       "<style scoped>\n",
       "    .dataframe tbody tr th:only-of-type {\n",
       "        vertical-align: middle;\n",
       "    }\n",
       "\n",
       "    .dataframe tbody tr th {\n",
       "        vertical-align: top;\n",
       "    }\n",
       "\n",
       "    .dataframe thead th {\n",
       "        text-align: right;\n",
       "    }\n",
       "</style>\n",
       "<table border=\"1\" class=\"dataframe\">\n",
       "  <thead>\n",
       "    <tr style=\"text-align: right;\">\n",
       "      <th></th>\n",
       "      <th>0.0</th>\n",
       "      <th>1.0</th>\n",
       "      <th>micro avg</th>\n",
       "      <th>macro avg</th>\n",
       "      <th>weighted avg</th>\n",
       "    </tr>\n",
       "  </thead>\n",
       "  <tbody>\n",
       "    <tr>\n",
       "      <th>f1-score</th>\n",
       "      <td>0.772</td>\n",
       "      <td>0.202</td>\n",
       "      <td>0.645</td>\n",
       "      <td>0.487</td>\n",
       "      <td>0.714</td>\n",
       "    </tr>\n",
       "    <tr>\n",
       "      <th>precision</th>\n",
       "      <td>0.913</td>\n",
       "      <td>0.131</td>\n",
       "      <td>0.645</td>\n",
       "      <td>0.522</td>\n",
       "      <td>0.833</td>\n",
       "    </tr>\n",
       "    <tr>\n",
       "      <th>recall</th>\n",
       "      <td>0.669</td>\n",
       "      <td>0.439</td>\n",
       "      <td>0.645</td>\n",
       "      <td>0.554</td>\n",
       "      <td>0.645</td>\n",
       "    </tr>\n",
       "    <tr>\n",
       "      <th>support</th>\n",
       "      <td>719.000</td>\n",
       "      <td>82.000</td>\n",
       "      <td>801.000</td>\n",
       "      <td>801.000</td>\n",
       "      <td>801.000</td>\n",
       "    </tr>\n",
       "  </tbody>\n",
       "</table>\n",
       "</div>"
      ],
      "text/plain": [
       "               0.0     1.0  micro avg  macro avg  weighted avg\n",
       "f1-score     0.772   0.202      0.645      0.487         0.714\n",
       "precision    0.913   0.131      0.645      0.522         0.833\n",
       "recall       0.669   0.439      0.645      0.554         0.645\n",
       "support    719.000  82.000    801.000    801.000       801.000"
      ]
     },
     "metadata": {},
     "output_type": "display_data"
    },
    {
     "name": "stdout",
     "output_type": "stream",
     "text": [
      "Model Saved on  roc_auc 0.5876810610943384\n"
     ]
    },
    {
     "data": {
      "application/vnd.jupyter.widget-view+json": {
       "model_id": "5568e2bdcfc14d2798ba2f1a3f23d88e",
       "version_major": 2,
       "version_minor": 0
      },
      "text/plain": [
       "HBox(children=(IntProgress(value=0, max=229), HTML(value='')))"
      ]
     },
     "metadata": {},
     "output_type": "display_data"
    },
    {
     "data": {
      "application/vnd.jupyter.widget-view+json": {
       "model_id": "189579ea5caa449095df8812584e7dd7",
       "version_major": 2,
       "version_minor": 0
      },
      "text/plain": [
       "HBox(children=(IntProgress(value=0, max=51), HTML(value='')))"
      ]
     },
     "metadata": {},
     "output_type": "display_data"
    },
    {
     "name": "stdout",
     "output_type": "stream",
     "text": [
      "{'accuracy': 0.484394506866417, 'roc_auc': 0.5347789952169342, 'pr_auc': 0.12248758916962338}\n"
     ]
    },
    {
     "data": {
      "text/html": [
       "<div>\n",
       "<style scoped>\n",
       "    .dataframe tbody tr th:only-of-type {\n",
       "        vertical-align: middle;\n",
       "    }\n",
       "\n",
       "    .dataframe tbody tr th {\n",
       "        vertical-align: top;\n",
       "    }\n",
       "\n",
       "    .dataframe thead th {\n",
       "        text-align: right;\n",
       "    }\n",
       "</style>\n",
       "<table border=\"1\" class=\"dataframe\">\n",
       "  <thead>\n",
       "    <tr style=\"text-align: right;\">\n",
       "      <th></th>\n",
       "      <th>0.0</th>\n",
       "      <th>1.0</th>\n",
       "      <th>micro avg</th>\n",
       "      <th>macro avg</th>\n",
       "      <th>weighted avg</th>\n",
       "    </tr>\n",
       "  </thead>\n",
       "  <tbody>\n",
       "    <tr>\n",
       "      <th>f1-score</th>\n",
       "      <td>0.621</td>\n",
       "      <td>0.195</td>\n",
       "      <td>0.484</td>\n",
       "      <td>0.408</td>\n",
       "      <td>0.577</td>\n",
       "    </tr>\n",
       "    <tr>\n",
       "      <th>precision</th>\n",
       "      <td>0.914</td>\n",
       "      <td>0.116</td>\n",
       "      <td>0.484</td>\n",
       "      <td>0.515</td>\n",
       "      <td>0.832</td>\n",
       "    </tr>\n",
       "    <tr>\n",
       "      <th>recall</th>\n",
       "      <td>0.470</td>\n",
       "      <td>0.610</td>\n",
       "      <td>0.484</td>\n",
       "      <td>0.540</td>\n",
       "      <td>0.484</td>\n",
       "    </tr>\n",
       "    <tr>\n",
       "      <th>support</th>\n",
       "      <td>719.000</td>\n",
       "      <td>82.000</td>\n",
       "      <td>801.000</td>\n",
       "      <td>801.000</td>\n",
       "      <td>801.000</td>\n",
       "    </tr>\n",
       "  </tbody>\n",
       "</table>\n",
       "</div>"
      ],
      "text/plain": [
       "               0.0     1.0  micro avg  macro avg  weighted avg\n",
       "f1-score     0.621   0.195      0.484      0.408         0.577\n",
       "precision    0.914   0.116      0.484      0.515         0.832\n",
       "recall       0.470   0.610      0.484      0.540         0.484\n",
       "support    719.000  82.000    801.000    801.000       801.000"
      ]
     },
     "metadata": {},
     "output_type": "display_data"
    },
    {
     "name": "stdout",
     "output_type": "stream",
     "text": [
      "Model not saved on  roc_auc 0.5347789952169342\n"
     ]
    },
    {
     "data": {
      "application/vnd.jupyter.widget-view+json": {
       "model_id": "1b1029325cb54e28b059ba0e58029caa",
       "version_major": 2,
       "version_minor": 0
      },
      "text/plain": [
       "HBox(children=(IntProgress(value=0, max=229), HTML(value='')))"
      ]
     },
     "metadata": {},
     "output_type": "display_data"
    },
    {
     "data": {
      "application/vnd.jupyter.widget-view+json": {
       "model_id": "998b1c108aa54bf6970eae5bea85b119",
       "version_major": 2,
       "version_minor": 0
      },
      "text/plain": [
       "HBox(children=(IntProgress(value=0, max=51), HTML(value='')))"
      ]
     },
     "metadata": {},
     "output_type": "display_data"
    },
    {
     "name": "stdout",
     "output_type": "stream",
     "text": [
      "{'accuracy': 0.6666666666666666, 'roc_auc': 0.5723481122154753, 'pr_auc': 0.1610082241145822}\n"
     ]
    },
    {
     "data": {
      "text/html": [
       "<div>\n",
       "<style scoped>\n",
       "    .dataframe tbody tr th:only-of-type {\n",
       "        vertical-align: middle;\n",
       "    }\n",
       "\n",
       "    .dataframe tbody tr th {\n",
       "        vertical-align: top;\n",
       "    }\n",
       "\n",
       "    .dataframe thead th {\n",
       "        text-align: right;\n",
       "    }\n",
       "</style>\n",
       "<table border=\"1\" class=\"dataframe\">\n",
       "  <thead>\n",
       "    <tr style=\"text-align: right;\">\n",
       "      <th></th>\n",
       "      <th>0.0</th>\n",
       "      <th>1.0</th>\n",
       "      <th>micro avg</th>\n",
       "      <th>macro avg</th>\n",
       "      <th>weighted avg</th>\n",
       "    </tr>\n",
       "  </thead>\n",
       "  <tbody>\n",
       "    <tr>\n",
       "      <th>f1-score</th>\n",
       "      <td>0.789</td>\n",
       "      <td>0.203</td>\n",
       "      <td>0.667</td>\n",
       "      <td>0.496</td>\n",
       "      <td>0.729</td>\n",
       "    </tr>\n",
       "    <tr>\n",
       "      <th>precision</th>\n",
       "      <td>0.912</td>\n",
       "      <td>0.134</td>\n",
       "      <td>0.667</td>\n",
       "      <td>0.523</td>\n",
       "      <td>0.833</td>\n",
       "    </tr>\n",
       "    <tr>\n",
       "      <th>recall</th>\n",
       "      <td>0.695</td>\n",
       "      <td>0.415</td>\n",
       "      <td>0.667</td>\n",
       "      <td>0.555</td>\n",
       "      <td>0.667</td>\n",
       "    </tr>\n",
       "    <tr>\n",
       "      <th>support</th>\n",
       "      <td>719.000</td>\n",
       "      <td>82.000</td>\n",
       "      <td>801.000</td>\n",
       "      <td>801.000</td>\n",
       "      <td>801.000</td>\n",
       "    </tr>\n",
       "  </tbody>\n",
       "</table>\n",
       "</div>"
      ],
      "text/plain": [
       "               0.0     1.0  micro avg  macro avg  weighted avg\n",
       "f1-score     0.789   0.203      0.667      0.496         0.729\n",
       "precision    0.912   0.134      0.667      0.523         0.833\n",
       "recall       0.695   0.415      0.667      0.555         0.667\n",
       "support    719.000  82.000    801.000    801.000       801.000"
      ]
     },
     "metadata": {},
     "output_type": "display_data"
    },
    {
     "name": "stdout",
     "output_type": "stream",
     "text": [
      "Model not saved on  roc_auc 0.5723481122154753\n"
     ]
    },
    {
     "data": {
      "application/vnd.jupyter.widget-view+json": {
       "model_id": "5b67c745ae0d4e0ebfb6a18eef391c45",
       "version_major": 2,
       "version_minor": 0
      },
      "text/plain": [
       "HBox(children=(IntProgress(value=0, max=229), HTML(value='')))"
      ]
     },
     "metadata": {},
     "output_type": "display_data"
    },
    {
     "data": {
      "application/vnd.jupyter.widget-view+json": {
       "model_id": "38eac29a387e4615a90981a2f74efad0",
       "version_major": 2,
       "version_minor": 0
      },
      "text/plain": [
       "HBox(children=(IntProgress(value=0, max=51), HTML(value='')))"
      ]
     },
     "metadata": {},
     "output_type": "display_data"
    },
    {
     "name": "stdout",
     "output_type": "stream",
     "text": [
      "{'accuracy': 0.6891385767790262, 'roc_auc': 0.5905135859425353, 'pr_auc': 0.16473960846840485}\n"
     ]
    },
    {
     "data": {
      "text/html": [
       "<div>\n",
       "<style scoped>\n",
       "    .dataframe tbody tr th:only-of-type {\n",
       "        vertical-align: middle;\n",
       "    }\n",
       "\n",
       "    .dataframe tbody tr th {\n",
       "        vertical-align: top;\n",
       "    }\n",
       "\n",
       "    .dataframe thead th {\n",
       "        text-align: right;\n",
       "    }\n",
       "</style>\n",
       "<table border=\"1\" class=\"dataframe\">\n",
       "  <thead>\n",
       "    <tr style=\"text-align: right;\">\n",
       "      <th></th>\n",
       "      <th>0.0</th>\n",
       "      <th>1.0</th>\n",
       "      <th>micro avg</th>\n",
       "      <th>macro avg</th>\n",
       "      <th>weighted avg</th>\n",
       "    </tr>\n",
       "  </thead>\n",
       "  <tbody>\n",
       "    <tr>\n",
       "      <th>f1-score</th>\n",
       "      <td>0.809</td>\n",
       "      <td>0.173</td>\n",
       "      <td>0.689</td>\n",
       "      <td>0.491</td>\n",
       "      <td>0.744</td>\n",
       "    </tr>\n",
       "    <tr>\n",
       "      <th>precision</th>\n",
       "      <td>0.904</td>\n",
       "      <td>0.119</td>\n",
       "      <td>0.689</td>\n",
       "      <td>0.511</td>\n",
       "      <td>0.823</td>\n",
       "    </tr>\n",
       "    <tr>\n",
       "      <th>recall</th>\n",
       "      <td>0.732</td>\n",
       "      <td>0.317</td>\n",
       "      <td>0.689</td>\n",
       "      <td>0.524</td>\n",
       "      <td>0.689</td>\n",
       "    </tr>\n",
       "    <tr>\n",
       "      <th>support</th>\n",
       "      <td>719.000</td>\n",
       "      <td>82.000</td>\n",
       "      <td>801.000</td>\n",
       "      <td>801.000</td>\n",
       "      <td>801.000</td>\n",
       "    </tr>\n",
       "  </tbody>\n",
       "</table>\n",
       "</div>"
      ],
      "text/plain": [
       "               0.0     1.0  micro avg  macro avg  weighted avg\n",
       "f1-score     0.809   0.173      0.689      0.491         0.744\n",
       "precision    0.904   0.119      0.689      0.511         0.823\n",
       "recall       0.732   0.317      0.689      0.524         0.689\n",
       "support    719.000  82.000    801.000    801.000       801.000"
      ]
     },
     "metadata": {},
     "output_type": "display_data"
    },
    {
     "name": "stdout",
     "output_type": "stream",
     "text": [
      "Model Saved on  roc_auc 0.5905135859425353\n"
     ]
    },
    {
     "data": {
      "application/vnd.jupyter.widget-view+json": {
       "model_id": "73e815054d8e4c6aab6e58aba448246a",
       "version_major": 2,
       "version_minor": 0
      },
      "text/plain": [
       "HBox(children=(IntProgress(value=0, max=229), HTML(value='')))"
      ]
     },
     "metadata": {},
     "output_type": "display_data"
    },
    {
     "data": {
      "application/vnd.jupyter.widget-view+json": {
       "model_id": "f5f60e62f6eb4766b98d7c43cf9dd2e8",
       "version_major": 2,
       "version_minor": 0
      },
      "text/plain": [
       "HBox(children=(IntProgress(value=0, max=51), HTML(value='')))"
      ]
     },
     "metadata": {},
     "output_type": "display_data"
    },
    {
     "name": "stdout",
     "output_type": "stream",
     "text": [
      "{'accuracy': 0.7652933832709113, 'roc_auc': 0.6005122290444045, 'pr_auc': 0.172035634351246}\n"
     ]
    },
    {
     "data": {
      "text/html": [
       "<div>\n",
       "<style scoped>\n",
       "    .dataframe tbody tr th:only-of-type {\n",
       "        vertical-align: middle;\n",
       "    }\n",
       "\n",
       "    .dataframe tbody tr th {\n",
       "        vertical-align: top;\n",
       "    }\n",
       "\n",
       "    .dataframe thead th {\n",
       "        text-align: right;\n",
       "    }\n",
       "</style>\n",
       "<table border=\"1\" class=\"dataframe\">\n",
       "  <thead>\n",
       "    <tr style=\"text-align: right;\">\n",
       "      <th></th>\n",
       "      <th>0.0</th>\n",
       "      <th>1.0</th>\n",
       "      <th>micro avg</th>\n",
       "      <th>macro avg</th>\n",
       "      <th>weighted avg</th>\n",
       "    </tr>\n",
       "  </thead>\n",
       "  <tbody>\n",
       "    <tr>\n",
       "      <th>f1-score</th>\n",
       "      <td>0.863</td>\n",
       "      <td>0.197</td>\n",
       "      <td>0.765</td>\n",
       "      <td>0.530</td>\n",
       "      <td>0.794</td>\n",
       "    </tr>\n",
       "    <tr>\n",
       "      <th>precision</th>\n",
       "      <td>0.909</td>\n",
       "      <td>0.151</td>\n",
       "      <td>0.765</td>\n",
       "      <td>0.530</td>\n",
       "      <td>0.832</td>\n",
       "    </tr>\n",
       "    <tr>\n",
       "      <th>recall</th>\n",
       "      <td>0.821</td>\n",
       "      <td>0.280</td>\n",
       "      <td>0.765</td>\n",
       "      <td>0.551</td>\n",
       "      <td>0.765</td>\n",
       "    </tr>\n",
       "    <tr>\n",
       "      <th>support</th>\n",
       "      <td>719.000</td>\n",
       "      <td>82.000</td>\n",
       "      <td>801.000</td>\n",
       "      <td>801.000</td>\n",
       "      <td>801.000</td>\n",
       "    </tr>\n",
       "  </tbody>\n",
       "</table>\n",
       "</div>"
      ],
      "text/plain": [
       "               0.0     1.0  micro avg  macro avg  weighted avg\n",
       "f1-score     0.863   0.197      0.765      0.530         0.794\n",
       "precision    0.909   0.151      0.765      0.530         0.832\n",
       "recall       0.821   0.280      0.765      0.551         0.765\n",
       "support    719.000  82.000    801.000    801.000       801.000"
      ]
     },
     "metadata": {},
     "output_type": "display_data"
    },
    {
     "name": "stdout",
     "output_type": "stream",
     "text": [
      "Model Saved on  roc_auc 0.6005122290444045\n"
     ]
    },
    {
     "data": {
      "application/vnd.jupyter.widget-view+json": {
       "model_id": "dfb160ad202a47d6be00adda831b38fb",
       "version_major": 2,
       "version_minor": 0
      },
      "text/plain": [
       "HBox(children=(IntProgress(value=0, max=229), HTML(value='')))"
      ]
     },
     "metadata": {},
     "output_type": "display_data"
    },
    {
     "data": {
      "application/vnd.jupyter.widget-view+json": {
       "model_id": "d4b5fa0c9fb34c79b681527f0125ff7e",
       "version_major": 2,
       "version_minor": 0
      },
      "text/plain": [
       "HBox(children=(IntProgress(value=0, max=51), HTML(value='')))"
      ]
     },
     "metadata": {},
     "output_type": "display_data"
    },
    {
     "name": "stdout",
     "output_type": "stream",
     "text": [
      "{'accuracy': 0.6117353308364545, 'roc_auc': 0.6109349028121713, 'pr_auc': 0.17813300104698357}\n"
     ]
    },
    {
     "data": {
      "text/html": [
       "<div>\n",
       "<style scoped>\n",
       "    .dataframe tbody tr th:only-of-type {\n",
       "        vertical-align: middle;\n",
       "    }\n",
       "\n",
       "    .dataframe tbody tr th {\n",
       "        vertical-align: top;\n",
       "    }\n",
       "\n",
       "    .dataframe thead th {\n",
       "        text-align: right;\n",
       "    }\n",
       "</style>\n",
       "<table border=\"1\" class=\"dataframe\">\n",
       "  <thead>\n",
       "    <tr style=\"text-align: right;\">\n",
       "      <th></th>\n",
       "      <th>0.0</th>\n",
       "      <th>1.0</th>\n",
       "      <th>micro avg</th>\n",
       "      <th>macro avg</th>\n",
       "      <th>weighted avg</th>\n",
       "    </tr>\n",
       "  </thead>\n",
       "  <tbody>\n",
       "    <tr>\n",
       "      <th>f1-score</th>\n",
       "      <td>0.741</td>\n",
       "      <td>0.228</td>\n",
       "      <td>0.612</td>\n",
       "      <td>0.484</td>\n",
       "      <td>0.688</td>\n",
       "    </tr>\n",
       "    <tr>\n",
       "      <th>precision</th>\n",
       "      <td>0.925</td>\n",
       "      <td>0.143</td>\n",
       "      <td>0.612</td>\n",
       "      <td>0.534</td>\n",
       "      <td>0.845</td>\n",
       "    </tr>\n",
       "    <tr>\n",
       "      <th>recall</th>\n",
       "      <td>0.618</td>\n",
       "      <td>0.561</td>\n",
       "      <td>0.612</td>\n",
       "      <td>0.589</td>\n",
       "      <td>0.612</td>\n",
       "    </tr>\n",
       "    <tr>\n",
       "      <th>support</th>\n",
       "      <td>719.000</td>\n",
       "      <td>82.000</td>\n",
       "      <td>801.000</td>\n",
       "      <td>801.000</td>\n",
       "      <td>801.000</td>\n",
       "    </tr>\n",
       "  </tbody>\n",
       "</table>\n",
       "</div>"
      ],
      "text/plain": [
       "               0.0     1.0  micro avg  macro avg  weighted avg\n",
       "f1-score     0.741   0.228      0.612      0.484         0.688\n",
       "precision    0.925   0.143      0.612      0.534         0.845\n",
       "recall       0.618   0.561      0.612      0.589         0.612\n",
       "support    719.000  82.000    801.000    801.000       801.000"
      ]
     },
     "metadata": {},
     "output_type": "display_data"
    },
    {
     "name": "stderr",
     "output_type": "stream",
     "text": [
      "INFO - 2019-03-26 14:12:56,709 - instantiating class <class 'PatientVec.models.Model.Model'> from params {'type': 'seq_classifier', 'embedder': {'type': 'token_embedder', 'vocab_size': 18542, 'embed_size': 200, 'embedding_file': '../../../SurgeryData/PatientVec/preprocess/KneeSurgery/1_yrs/embedding_matrix.npy'}, 'decoder': {'num_layers': 2, 'hidden_dims': [128, 1], 'activations': ['tanh', 'linear']}, 'predictor': {'type': 'binary'}, 'structured': {'use_structured': False}, 'encoder': {'type': 'lstm', 'hidden_size': 128}} and extras {}\n",
      "INFO - 2019-03-26 14:12:56,710 - type = seq_classifier\n",
      "INFO - 2019-03-26 14:12:56,710 - instantiating class <class 'PatientVec.models.modules.Embedder.Embedder'> from params {'type': 'token_embedder', 'vocab_size': 18542, 'embed_size': 200, 'embedding_file': '../../../SurgeryData/PatientVec/preprocess/KneeSurgery/1_yrs/embedding_matrix.npy'} and extras {}\n",
      "INFO - 2019-03-26 14:12:56,710 - embedder.type = token_embedder\n",
      "INFO - 2019-03-26 14:12:56,710 - instantiating class <class 'PatientVec.models.modules.Embedder.TokenEmbedder'> from params {'vocab_size': 18542, 'embed_size': 200, 'embedding_file': '../../../SurgeryData/PatientVec/preprocess/KneeSurgery/1_yrs/embedding_matrix.npy'} and extras {}\n",
      "INFO - 2019-03-26 14:12:56,711 - embedder.vocab_size = 18542\n",
      "INFO - 2019-03-26 14:12:56,711 - embedder.embed_size = 200\n",
      "INFO - 2019-03-26 14:12:56,711 - embedder.embedding_file = ../../../SurgeryData/PatientVec/preprocess/KneeSurgery/1_yrs/embedding_matrix.npy\n",
      "INFO - 2019-03-26 14:12:56,719 - instantiating class <class 'PatientVec.models.modules.Encoder.Encoder'> from params {'type': 'lstm', 'hidden_size': 128} and extras {'input_size': 200}\n",
      "INFO - 2019-03-26 14:12:56,720 - encoder.type = lstm\n",
      "INFO - 2019-03-26 14:12:56,720 - instantiating class <class 'PatientVec.models.modules.Encoder.wrap_pytorch_rnn.<locals>.BiRNNEncoder'> from params {'hidden_size': 128} and extras {'input_size': 200}\n",
      "INFO - 2019-03-26 14:12:56,720 - encoder.hidden_size = 128\n",
      "INFO - 2019-03-26 14:12:56,722 - decoder.input_dim = 256\n",
      "INFO - 2019-03-26 14:12:56,723 - decoder.num_layers = 2\n",
      "INFO - 2019-03-26 14:12:56,723 - decoder.hidden_dims = [128, 1]\n",
      "INFO - 2019-03-26 14:12:56,723 - decoder.activations = ['tanh', 'linear']\n",
      "INFO - 2019-03-26 14:12:56,723 - decoder.dropout = 0.0\n",
      "INFO - 2019-03-26 14:12:56,724 - instantiating class <class 'PatientVec.models.modules.Predictor.Predictor'> from params {'type': 'binary'} and extras {}\n",
      "INFO - 2019-03-26 14:12:56,725 - predictor.type = binary\n",
      "INFO - 2019-03-26 14:12:56,725 - instantiating class <class 'PatientVec.models.modules.Predictor.Binary_Predictor'> from params {} and extras {}\n",
      "INFO - 2019-03-26 14:12:56,725 - predictor.replicate = False\n",
      "INFO - 2019-03-26 14:12:56,725 - predictor.alpha = 0.5\n"
     ]
    },
    {
     "name": "stdout",
     "output_type": "stream",
     "text": [
      "Model Saved on  roc_auc 0.6109349028121713\n",
      "\n",
      "Setting Embedding\n"
     ]
    },
    {
     "data": {
      "application/vnd.jupyter.widget-view+json": {
       "model_id": "bbc2653f2198404ea7dcc4c3da958765",
       "version_major": 2,
       "version_minor": 0
      },
      "text/plain": [
       "HBox(children=(IntProgress(value=0, max=51), HTML(value='')))"
      ]
     },
     "metadata": {},
     "output_type": "display_data"
    },
    {
     "name": "stdout",
     "output_type": "stream",
     "text": [
      "\n",
      "{'accuracy': 0.6117353308364545, 'roc_auc': 0.6109349028121713, 'pr_auc': 0.17813300104698357}\n"
     ]
    },
    {
     "data": {
      "text/html": [
       "<div>\n",
       "<style scoped>\n",
       "    .dataframe tbody tr th:only-of-type {\n",
       "        vertical-align: middle;\n",
       "    }\n",
       "\n",
       "    .dataframe tbody tr th {\n",
       "        vertical-align: top;\n",
       "    }\n",
       "\n",
       "    .dataframe thead th {\n",
       "        text-align: right;\n",
       "    }\n",
       "</style>\n",
       "<table border=\"1\" class=\"dataframe\">\n",
       "  <thead>\n",
       "    <tr style=\"text-align: right;\">\n",
       "      <th></th>\n",
       "      <th>0.0</th>\n",
       "      <th>1.0</th>\n",
       "      <th>micro avg</th>\n",
       "      <th>macro avg</th>\n",
       "      <th>weighted avg</th>\n",
       "    </tr>\n",
       "  </thead>\n",
       "  <tbody>\n",
       "    <tr>\n",
       "      <th>f1-score</th>\n",
       "      <td>0.741</td>\n",
       "      <td>0.228</td>\n",
       "      <td>0.612</td>\n",
       "      <td>0.484</td>\n",
       "      <td>0.688</td>\n",
       "    </tr>\n",
       "    <tr>\n",
       "      <th>precision</th>\n",
       "      <td>0.925</td>\n",
       "      <td>0.143</td>\n",
       "      <td>0.612</td>\n",
       "      <td>0.534</td>\n",
       "      <td>0.845</td>\n",
       "    </tr>\n",
       "    <tr>\n",
       "      <th>recall</th>\n",
       "      <td>0.618</td>\n",
       "      <td>0.561</td>\n",
       "      <td>0.612</td>\n",
       "      <td>0.589</td>\n",
       "      <td>0.612</td>\n",
       "    </tr>\n",
       "    <tr>\n",
       "      <th>support</th>\n",
       "      <td>719.000</td>\n",
       "      <td>82.000</td>\n",
       "      <td>801.000</td>\n",
       "      <td>801.000</td>\n",
       "      <td>801.000</td>\n",
       "    </tr>\n",
       "  </tbody>\n",
       "</table>\n",
       "</div>"
      ],
      "text/plain": [
       "               0.0     1.0  micro avg  macro avg  weighted avg\n",
       "f1-score     0.741   0.228      0.612      0.484         0.688\n",
       "precision    0.925   0.143      0.612      0.534         0.845\n",
       "recall       0.618   0.561      0.612      0.589         0.612\n",
       "support    719.000  82.000    801.000    801.000       801.000"
      ]
     },
     "metadata": {},
     "output_type": "display_data"
    },
    {
     "name": "stderr",
     "output_type": "stream",
     "text": [
      "INFO - 2019-03-26 14:13:11,674 - instantiating class <class 'PatientVec.models.Model.Model'> from params {'type': 'seq_classifier_with_attention', 'embedder': {'type': 'token_embedder', 'vocab_size': 18542, 'embed_size': 200, 'embedding_file': '../../../SurgeryData/PatientVec/preprocess/KneeSurgery/1_yrs/embedding_matrix.npy'}, 'decoder': {'num_layers': 2, 'hidden_dims': [128, 1], 'activations': ['tanh', 'linear']}, 'predictor': {'type': 'binary'}, 'structured': {'use_structured': False}, 'encoder': {'type': 'lstm', 'hidden_size': 128}, 'attention': {'similarity': {'type': 'additive', 'hidden_size': 128}}} and extras {}\n",
      "INFO - 2019-03-26 14:13:11,675 - type = seq_classifier_with_attention\n",
      "INFO - 2019-03-26 14:13:11,675 - instantiating class <class 'PatientVec.models.modules.Embedder.Embedder'> from params {'type': 'token_embedder', 'vocab_size': 18542, 'embed_size': 200, 'embedding_file': '../../../SurgeryData/PatientVec/preprocess/KneeSurgery/1_yrs/embedding_matrix.npy'} and extras {}\n",
      "INFO - 2019-03-26 14:13:11,675 - embedder.type = token_embedder\n",
      "INFO - 2019-03-26 14:13:11,675 - instantiating class <class 'PatientVec.models.modules.Embedder.TokenEmbedder'> from params {'vocab_size': 18542, 'embed_size': 200, 'embedding_file': '../../../SurgeryData/PatientVec/preprocess/KneeSurgery/1_yrs/embedding_matrix.npy'} and extras {}\n",
      "INFO - 2019-03-26 14:13:11,676 - embedder.vocab_size = 18542\n",
      "INFO - 2019-03-26 14:13:11,676 - embedder.embed_size = 200\n",
      "INFO - 2019-03-26 14:13:11,677 - embedder.embedding_file = ../../../SurgeryData/PatientVec/preprocess/KneeSurgery/1_yrs/embedding_matrix.npy\n",
      "INFO - 2019-03-26 14:13:11,685 - instantiating class <class 'PatientVec.models.modules.Encoder.Encoder'> from params {'type': 'lstm', 'hidden_size': 128} and extras {'input_size': 200}\n",
      "INFO - 2019-03-26 14:13:11,685 - encoder.type = lstm\n",
      "INFO - 2019-03-26 14:13:11,685 - instantiating class <class 'PatientVec.models.modules.Encoder.wrap_pytorch_rnn.<locals>.BiRNNEncoder'> from params {'hidden_size': 128} and extras {'input_size': 200}\n",
      "INFO - 2019-03-26 14:13:11,686 - encoder.hidden_size = 128\n",
      "INFO - 2019-03-26 14:13:11,688 - instantiating class <class 'PatientVec.models.modules.SelfAttention.SelfAttention'> from params {'similarity': {'type': 'additive', 'hidden_size': 128, 'tensor_1_dim': 256}} and extras {}\n",
      "INFO - 2019-03-26 14:13:11,689 - instantiating class <class 'PatientVec.models.modules.UniSimilarity.UniSimilarity'> from params {'type': 'additive', 'hidden_size': 128, 'tensor_1_dim': 256} and extras {}\n",
      "INFO - 2019-03-26 14:13:11,689 - attention.similarity.type = additive\n",
      "INFO - 2019-03-26 14:13:11,689 - instantiating class <class 'PatientVec.models.modules.UniSimilarity.UniAdditiveSimilarity'> from params {'hidden_size': 128, 'tensor_1_dim': 256} and extras {}\n",
      "INFO - 2019-03-26 14:13:11,690 - attention.similarity.tensor_1_dim = 256\n",
      "INFO - 2019-03-26 14:13:11,690 - attention.similarity.hidden_size = 128\n",
      "INFO - 2019-03-26 14:13:11,690 - attention.similarity.output_size = 1\n",
      "INFO - 2019-03-26 14:13:11,691 - attention.normaliser = softmax\n",
      "INFO - 2019-03-26 14:13:11,692 - decoder.input_dim = 256\n",
      "INFO - 2019-03-26 14:13:11,692 - decoder.num_layers = 2\n",
      "INFO - 2019-03-26 14:13:11,692 - decoder.hidden_dims = [128, 1]\n",
      "INFO - 2019-03-26 14:13:11,693 - decoder.activations = ['tanh', 'linear']\n",
      "INFO - 2019-03-26 14:13:11,693 - decoder.dropout = 0.0\n",
      "INFO - 2019-03-26 14:13:11,694 - instantiating class <class 'PatientVec.models.modules.Predictor.Predictor'> from params {'type': 'binary'} and extras {}\n",
      "INFO - 2019-03-26 14:13:11,694 - predictor.type = binary\n",
      "INFO - 2019-03-26 14:13:11,694 - instantiating class <class 'PatientVec.models.modules.Predictor.Binary_Predictor'> from params {} and extras {}\n",
      "INFO - 2019-03-26 14:13:11,695 - predictor.replicate = False\n",
      "INFO - 2019-03-26 14:13:11,695 - predictor.alpha = 0.5\n"
     ]
    },
    {
     "name": "stdout",
     "output_type": "stream",
     "text": [
      "============================================================================================================================================================================================================================================================================================================\n",
      "{'model': {'type': 'seq_classifier_with_attention', 'embedder': {'type': 'token_embedder', 'vocab_size': 18542, 'embed_size': 200, 'embedding_file': '../../../SurgeryData/PatientVec/preprocess/KneeSurgery/1_yrs/embedding_matrix.npy'}, 'decoder': {'num_layers': 2, 'hidden_dims': [128, 1], 'activations': ['tanh', 'linear']}, 'predictor': {'type': 'binary'}, 'structured': {'use_structured': False}, 'encoder': {'type': 'lstm', 'hidden_size': 128}, 'attention': {'similarity': {'type': 'additive', 'hidden_size': 128}}}, 'training_config': {'type': 'Adam', 'groups': [('.*', {'lr': 0.001, 'weight_decay': 1e-05})], 'common': {'bsize': 16, 'class_weight': True}}, 'exp_config': {'exp_name': 'KneeSurgery_1/Attention/LSTM(hs=128)+Attention(additive)(hs=128)', 'basepath': 'outputs/confidence'}}\n",
      "Setting Embedding\n"
     ]
    },
    {
     "data": {
      "application/vnd.jupyter.widget-view+json": {
       "model_id": "804e83200dbc47e491be188a6f179802",
       "version_major": 2,
       "version_minor": 0
      },
      "text/plain": [
       "HBox(children=(IntProgress(value=0, max=8), HTML(value='')))"
      ]
     },
     "metadata": {},
     "output_type": "display_data"
    },
    {
     "data": {
      "application/vnd.jupyter.widget-view+json": {
       "model_id": "d577466143104ab3843c5bf4d028be8b",
       "version_major": 2,
       "version_minor": 0
      },
      "text/plain": [
       "HBox(children=(IntProgress(value=0, max=229), HTML(value='')))"
      ]
     },
     "metadata": {},
     "output_type": "display_data"
    },
    {
     "data": {
      "application/vnd.jupyter.widget-view+json": {
       "model_id": "dc81876688584efc9bc7900444f21894",
       "version_major": 2,
       "version_minor": 0
      },
      "text/plain": [
       "HBox(children=(IntProgress(value=0, max=51), HTML(value='')))"
      ]
     },
     "metadata": {},
     "output_type": "display_data"
    },
    {
     "name": "stdout",
     "output_type": "stream",
     "text": [
      "{'accuracy': 0.20848938826466917, 'roc_auc': 0.8347806913395976, 'pr_auc': 0.3351852838857713}\n"
     ]
    },
    {
     "data": {
      "text/html": [
       "<div>\n",
       "<style scoped>\n",
       "    .dataframe tbody tr th:only-of-type {\n",
       "        vertical-align: middle;\n",
       "    }\n",
       "\n",
       "    .dataframe tbody tr th {\n",
       "        vertical-align: top;\n",
       "    }\n",
       "\n",
       "    .dataframe thead th {\n",
       "        text-align: right;\n",
       "    }\n",
       "</style>\n",
       "<table border=\"1\" class=\"dataframe\">\n",
       "  <thead>\n",
       "    <tr style=\"text-align: right;\">\n",
       "      <th></th>\n",
       "      <th>0.0</th>\n",
       "      <th>1.0</th>\n",
       "      <th>micro avg</th>\n",
       "      <th>macro avg</th>\n",
       "      <th>weighted avg</th>\n",
       "    </tr>\n",
       "  </thead>\n",
       "  <tbody>\n",
       "    <tr>\n",
       "      <th>f1-score</th>\n",
       "      <td>0.213</td>\n",
       "      <td>0.204</td>\n",
       "      <td>0.208</td>\n",
       "      <td>0.208</td>\n",
       "      <td>0.212</td>\n",
       "    </tr>\n",
       "    <tr>\n",
       "      <th>precision</th>\n",
       "      <td>0.989</td>\n",
       "      <td>0.113</td>\n",
       "      <td>0.208</td>\n",
       "      <td>0.551</td>\n",
       "      <td>0.899</td>\n",
       "    </tr>\n",
       "    <tr>\n",
       "      <th>recall</th>\n",
       "      <td>0.120</td>\n",
       "      <td>0.988</td>\n",
       "      <td>0.208</td>\n",
       "      <td>0.554</td>\n",
       "      <td>0.208</td>\n",
       "    </tr>\n",
       "    <tr>\n",
       "      <th>support</th>\n",
       "      <td>719.000</td>\n",
       "      <td>82.000</td>\n",
       "      <td>801.000</td>\n",
       "      <td>801.000</td>\n",
       "      <td>801.000</td>\n",
       "    </tr>\n",
       "  </tbody>\n",
       "</table>\n",
       "</div>"
      ],
      "text/plain": [
       "               0.0     1.0  micro avg  macro avg  weighted avg\n",
       "f1-score     0.213   0.204      0.208      0.208         0.212\n",
       "precision    0.989   0.113      0.208      0.551         0.899\n",
       "recall       0.120   0.988      0.208      0.554         0.208\n",
       "support    719.000  82.000    801.000    801.000       801.000"
      ]
     },
     "metadata": {},
     "output_type": "display_data"
    },
    {
     "name": "stdout",
     "output_type": "stream",
     "text": [
      "Model Saved on  roc_auc 0.8347806913395976\n"
     ]
    },
    {
     "data": {
      "application/vnd.jupyter.widget-view+json": {
       "model_id": "a24c378461d64643a6262ebf32afcf02",
       "version_major": 2,
       "version_minor": 0
      },
      "text/plain": [
       "HBox(children=(IntProgress(value=0, max=229), HTML(value='')))"
      ]
     },
     "metadata": {},
     "output_type": "display_data"
    },
    {
     "data": {
      "application/vnd.jupyter.widget-view+json": {
       "model_id": "2fdd5ac0af154db8a706d655f948a7c1",
       "version_major": 2,
       "version_minor": 0
      },
      "text/plain": [
       "HBox(children=(IntProgress(value=0, max=51), HTML(value='')))"
      ]
     },
     "metadata": {},
     "output_type": "display_data"
    },
    {
     "name": "stdout",
     "output_type": "stream",
     "text": [
      "{'accuracy': 0.8739076154806492, 'roc_auc': 0.880304623630381, 'pr_auc': 0.5397222389007424}\n"
     ]
    },
    {
     "data": {
      "text/html": [
       "<div>\n",
       "<style scoped>\n",
       "    .dataframe tbody tr th:only-of-type {\n",
       "        vertical-align: middle;\n",
       "    }\n",
       "\n",
       "    .dataframe tbody tr th {\n",
       "        vertical-align: top;\n",
       "    }\n",
       "\n",
       "    .dataframe thead th {\n",
       "        text-align: right;\n",
       "    }\n",
       "</style>\n",
       "<table border=\"1\" class=\"dataframe\">\n",
       "  <thead>\n",
       "    <tr style=\"text-align: right;\">\n",
       "      <th></th>\n",
       "      <th>0.0</th>\n",
       "      <th>1.0</th>\n",
       "      <th>micro avg</th>\n",
       "      <th>macro avg</th>\n",
       "      <th>weighted avg</th>\n",
       "    </tr>\n",
       "  </thead>\n",
       "  <tbody>\n",
       "    <tr>\n",
       "      <th>f1-score</th>\n",
       "      <td>0.927</td>\n",
       "      <td>0.547</td>\n",
       "      <td>0.874</td>\n",
       "      <td>0.737</td>\n",
       "      <td>0.888</td>\n",
       "    </tr>\n",
       "    <tr>\n",
       "      <th>precision</th>\n",
       "      <td>0.968</td>\n",
       "      <td>0.433</td>\n",
       "      <td>0.874</td>\n",
       "      <td>0.700</td>\n",
       "      <td>0.913</td>\n",
       "    </tr>\n",
       "    <tr>\n",
       "      <th>recall</th>\n",
       "      <td>0.889</td>\n",
       "      <td>0.744</td>\n",
       "      <td>0.874</td>\n",
       "      <td>0.816</td>\n",
       "      <td>0.874</td>\n",
       "    </tr>\n",
       "    <tr>\n",
       "      <th>support</th>\n",
       "      <td>719.000</td>\n",
       "      <td>82.000</td>\n",
       "      <td>801.000</td>\n",
       "      <td>801.000</td>\n",
       "      <td>801.000</td>\n",
       "    </tr>\n",
       "  </tbody>\n",
       "</table>\n",
       "</div>"
      ],
      "text/plain": [
       "               0.0     1.0  micro avg  macro avg  weighted avg\n",
       "f1-score     0.927   0.547      0.874      0.737         0.888\n",
       "precision    0.968   0.433      0.874      0.700         0.913\n",
       "recall       0.889   0.744      0.874      0.816         0.874\n",
       "support    719.000  82.000    801.000    801.000       801.000"
      ]
     },
     "metadata": {},
     "output_type": "display_data"
    },
    {
     "name": "stdout",
     "output_type": "stream",
     "text": [
      "Model Saved on  roc_auc 0.880304623630381\n"
     ]
    },
    {
     "data": {
      "application/vnd.jupyter.widget-view+json": {
       "model_id": "8a580e01ec0b454b98ed02c37a3d2f8e",
       "version_major": 2,
       "version_minor": 0
      },
      "text/plain": [
       "HBox(children=(IntProgress(value=0, max=229), HTML(value='')))"
      ]
     },
     "metadata": {},
     "output_type": "display_data"
    },
    {
     "data": {
      "application/vnd.jupyter.widget-view+json": {
       "model_id": "448d77e232a64c28b5c3124ff14138ba",
       "version_major": 2,
       "version_minor": 0
      },
      "text/plain": [
       "HBox(children=(IntProgress(value=0, max=51), HTML(value='')))"
      ]
     },
     "metadata": {},
     "output_type": "display_data"
    },
    {
     "name": "stdout",
     "output_type": "stream",
     "text": [
      "{'accuracy': 0.8576779026217228, 'roc_auc': 0.8913124597170867, 'pr_auc': 0.5626854245621586}\n"
     ]
    },
    {
     "data": {
      "text/html": [
       "<div>\n",
       "<style scoped>\n",
       "    .dataframe tbody tr th:only-of-type {\n",
       "        vertical-align: middle;\n",
       "    }\n",
       "\n",
       "    .dataframe tbody tr th {\n",
       "        vertical-align: top;\n",
       "    }\n",
       "\n",
       "    .dataframe thead th {\n",
       "        text-align: right;\n",
       "    }\n",
       "</style>\n",
       "<table border=\"1\" class=\"dataframe\">\n",
       "  <thead>\n",
       "    <tr style=\"text-align: right;\">\n",
       "      <th></th>\n",
       "      <th>0.0</th>\n",
       "      <th>1.0</th>\n",
       "      <th>micro avg</th>\n",
       "      <th>macro avg</th>\n",
       "      <th>weighted avg</th>\n",
       "    </tr>\n",
       "  </thead>\n",
       "  <tbody>\n",
       "    <tr>\n",
       "      <th>f1-score</th>\n",
       "      <td>0.916</td>\n",
       "      <td>0.529</td>\n",
       "      <td>0.858</td>\n",
       "      <td>0.723</td>\n",
       "      <td>0.877</td>\n",
       "    </tr>\n",
       "    <tr>\n",
       "      <th>precision</th>\n",
       "      <td>0.972</td>\n",
       "      <td>0.400</td>\n",
       "      <td>0.858</td>\n",
       "      <td>0.686</td>\n",
       "      <td>0.913</td>\n",
       "    </tr>\n",
       "    <tr>\n",
       "      <th>recall</th>\n",
       "      <td>0.866</td>\n",
       "      <td>0.780</td>\n",
       "      <td>0.858</td>\n",
       "      <td>0.823</td>\n",
       "      <td>0.858</td>\n",
       "    </tr>\n",
       "    <tr>\n",
       "      <th>support</th>\n",
       "      <td>719.000</td>\n",
       "      <td>82.000</td>\n",
       "      <td>801.000</td>\n",
       "      <td>801.000</td>\n",
       "      <td>801.000</td>\n",
       "    </tr>\n",
       "  </tbody>\n",
       "</table>\n",
       "</div>"
      ],
      "text/plain": [
       "               0.0     1.0  micro avg  macro avg  weighted avg\n",
       "f1-score     0.916   0.529      0.858      0.723         0.877\n",
       "precision    0.972   0.400      0.858      0.686         0.913\n",
       "recall       0.866   0.780      0.858      0.823         0.858\n",
       "support    719.000  82.000    801.000    801.000       801.000"
      ]
     },
     "metadata": {},
     "output_type": "display_data"
    },
    {
     "name": "stdout",
     "output_type": "stream",
     "text": [
      "Model Saved on  roc_auc 0.8913124597170867\n"
     ]
    },
    {
     "data": {
      "application/vnd.jupyter.widget-view+json": {
       "model_id": "30dd519a2d854be9bb703be24081e07c",
       "version_major": 2,
       "version_minor": 0
      },
      "text/plain": [
       "HBox(children=(IntProgress(value=0, max=229), HTML(value='')))"
      ]
     },
     "metadata": {},
     "output_type": "display_data"
    },
    {
     "data": {
      "application/vnd.jupyter.widget-view+json": {
       "model_id": "4f6ec10aa0f34bf8b51cb323e0af7d75",
       "version_major": 2,
       "version_minor": 0
      },
      "text/plain": [
       "HBox(children=(IntProgress(value=0, max=51), HTML(value='')))"
      ]
     },
     "metadata": {},
     "output_type": "display_data"
    },
    {
     "name": "stdout",
     "output_type": "stream",
     "text": [
      "{'accuracy': 0.8526841448189763, 'roc_auc': 0.8911089249974559, 'pr_auc': 0.5537413010609712}\n"
     ]
    },
    {
     "data": {
      "text/html": [
       "<div>\n",
       "<style scoped>\n",
       "    .dataframe tbody tr th:only-of-type {\n",
       "        vertical-align: middle;\n",
       "    }\n",
       "\n",
       "    .dataframe tbody tr th {\n",
       "        vertical-align: top;\n",
       "    }\n",
       "\n",
       "    .dataframe thead th {\n",
       "        text-align: right;\n",
       "    }\n",
       "</style>\n",
       "<table border=\"1\" class=\"dataframe\">\n",
       "  <thead>\n",
       "    <tr style=\"text-align: right;\">\n",
       "      <th></th>\n",
       "      <th>0.0</th>\n",
       "      <th>1.0</th>\n",
       "      <th>micro avg</th>\n",
       "      <th>macro avg</th>\n",
       "      <th>weighted avg</th>\n",
       "    </tr>\n",
       "  </thead>\n",
       "  <tbody>\n",
       "    <tr>\n",
       "      <th>f1-score</th>\n",
       "      <td>0.913</td>\n",
       "      <td>0.52</td>\n",
       "      <td>0.853</td>\n",
       "      <td>0.717</td>\n",
       "      <td>0.873</td>\n",
       "    </tr>\n",
       "    <tr>\n",
       "      <th>precision</th>\n",
       "      <td>0.972</td>\n",
       "      <td>0.39</td>\n",
       "      <td>0.853</td>\n",
       "      <td>0.681</td>\n",
       "      <td>0.912</td>\n",
       "    </tr>\n",
       "    <tr>\n",
       "      <th>recall</th>\n",
       "      <td>0.861</td>\n",
       "      <td>0.78</td>\n",
       "      <td>0.853</td>\n",
       "      <td>0.821</td>\n",
       "      <td>0.853</td>\n",
       "    </tr>\n",
       "    <tr>\n",
       "      <th>support</th>\n",
       "      <td>719.000</td>\n",
       "      <td>82.00</td>\n",
       "      <td>801.000</td>\n",
       "      <td>801.000</td>\n",
       "      <td>801.000</td>\n",
       "    </tr>\n",
       "  </tbody>\n",
       "</table>\n",
       "</div>"
      ],
      "text/plain": [
       "               0.0    1.0  micro avg  macro avg  weighted avg\n",
       "f1-score     0.913   0.52      0.853      0.717         0.873\n",
       "precision    0.972   0.39      0.853      0.681         0.912\n",
       "recall       0.861   0.78      0.853      0.821         0.853\n",
       "support    719.000  82.00    801.000    801.000       801.000"
      ]
     },
     "metadata": {},
     "output_type": "display_data"
    },
    {
     "name": "stdout",
     "output_type": "stream",
     "text": [
      "Model not saved on  roc_auc 0.8911089249974559\n"
     ]
    },
    {
     "data": {
      "application/vnd.jupyter.widget-view+json": {
       "model_id": "d5a66bc40829484294a4a43b4da9465d",
       "version_major": 2,
       "version_minor": 0
      },
      "text/plain": [
       "HBox(children=(IntProgress(value=0, max=229), HTML(value='')))"
      ]
     },
     "metadata": {},
     "output_type": "display_data"
    },
    {
     "data": {
      "application/vnd.jupyter.widget-view+json": {
       "model_id": "4d10d39324a6475ca88dcb185802ba6c",
       "version_major": 2,
       "version_minor": 0
      },
      "text/plain": [
       "HBox(children=(IntProgress(value=0, max=51), HTML(value='')))"
      ]
     },
     "metadata": {},
     "output_type": "display_data"
    },
    {
     "name": "stdout",
     "output_type": "stream",
     "text": [
      "{'accuracy': 0.7166042446941323, 'roc_auc': 0.870450150954917, 'pr_auc': 0.525652640127832}\n"
     ]
    },
    {
     "data": {
      "text/html": [
       "<div>\n",
       "<style scoped>\n",
       "    .dataframe tbody tr th:only-of-type {\n",
       "        vertical-align: middle;\n",
       "    }\n",
       "\n",
       "    .dataframe tbody tr th {\n",
       "        vertical-align: top;\n",
       "    }\n",
       "\n",
       "    .dataframe thead th {\n",
       "        text-align: right;\n",
       "    }\n",
       "</style>\n",
       "<table border=\"1\" class=\"dataframe\">\n",
       "  <thead>\n",
       "    <tr style=\"text-align: right;\">\n",
       "      <th></th>\n",
       "      <th>0.0</th>\n",
       "      <th>1.0</th>\n",
       "      <th>micro avg</th>\n",
       "      <th>macro avg</th>\n",
       "      <th>weighted avg</th>\n",
       "    </tr>\n",
       "  </thead>\n",
       "  <tbody>\n",
       "    <tr>\n",
       "      <th>f1-score</th>\n",
       "      <td>0.817</td>\n",
       "      <td>0.368</td>\n",
       "      <td>0.717</td>\n",
       "      <td>0.593</td>\n",
       "      <td>0.771</td>\n",
       "    </tr>\n",
       "    <tr>\n",
       "      <th>precision</th>\n",
       "      <td>0.969</td>\n",
       "      <td>0.238</td>\n",
       "      <td>0.717</td>\n",
       "      <td>0.604</td>\n",
       "      <td>0.895</td>\n",
       "    </tr>\n",
       "    <tr>\n",
       "      <th>recall</th>\n",
       "      <td>0.707</td>\n",
       "      <td>0.805</td>\n",
       "      <td>0.717</td>\n",
       "      <td>0.756</td>\n",
       "      <td>0.717</td>\n",
       "    </tr>\n",
       "    <tr>\n",
       "      <th>support</th>\n",
       "      <td>719.000</td>\n",
       "      <td>82.000</td>\n",
       "      <td>801.000</td>\n",
       "      <td>801.000</td>\n",
       "      <td>801.000</td>\n",
       "    </tr>\n",
       "  </tbody>\n",
       "</table>\n",
       "</div>"
      ],
      "text/plain": [
       "               0.0     1.0  micro avg  macro avg  weighted avg\n",
       "f1-score     0.817   0.368      0.717      0.593         0.771\n",
       "precision    0.969   0.238      0.717      0.604         0.895\n",
       "recall       0.707   0.805      0.717      0.756         0.717\n",
       "support    719.000  82.000    801.000    801.000       801.000"
      ]
     },
     "metadata": {},
     "output_type": "display_data"
    },
    {
     "name": "stdout",
     "output_type": "stream",
     "text": [
      "Model not saved on  roc_auc 0.870450150954917\n"
     ]
    },
    {
     "data": {
      "application/vnd.jupyter.widget-view+json": {
       "model_id": "81ed79209fc74799a659301a211b90de",
       "version_major": 2,
       "version_minor": 0
      },
      "text/plain": [
       "HBox(children=(IntProgress(value=0, max=229), HTML(value='')))"
      ]
     },
     "metadata": {},
     "output_type": "display_data"
    },
    {
     "data": {
      "application/vnd.jupyter.widget-view+json": {
       "model_id": "cb981223ad464fd6ba91fef3eff5a869",
       "version_major": 2,
       "version_minor": 0
      },
      "text/plain": [
       "HBox(children=(IntProgress(value=0, max=51), HTML(value='')))"
      ]
     },
     "metadata": {},
     "output_type": "display_data"
    },
    {
     "name": "stdout",
     "output_type": "stream",
     "text": [
      "{'accuracy': 0.8551810237203495, 'roc_auc': 0.8611893212117101, 'pr_auc': 0.5264476586146125}\n"
     ]
    },
    {
     "data": {
      "text/html": [
       "<div>\n",
       "<style scoped>\n",
       "    .dataframe tbody tr th:only-of-type {\n",
       "        vertical-align: middle;\n",
       "    }\n",
       "\n",
       "    .dataframe tbody tr th {\n",
       "        vertical-align: top;\n",
       "    }\n",
       "\n",
       "    .dataframe thead th {\n",
       "        text-align: right;\n",
       "    }\n",
       "</style>\n",
       "<table border=\"1\" class=\"dataframe\">\n",
       "  <thead>\n",
       "    <tr style=\"text-align: right;\">\n",
       "      <th></th>\n",
       "      <th>0.0</th>\n",
       "      <th>1.0</th>\n",
       "      <th>micro avg</th>\n",
       "      <th>macro avg</th>\n",
       "      <th>weighted avg</th>\n",
       "    </tr>\n",
       "  </thead>\n",
       "  <tbody>\n",
       "    <tr>\n",
       "      <th>f1-score</th>\n",
       "      <td>0.915</td>\n",
       "      <td>0.504</td>\n",
       "      <td>0.855</td>\n",
       "      <td>0.710</td>\n",
       "      <td>0.873</td>\n",
       "    </tr>\n",
       "    <tr>\n",
       "      <th>precision</th>\n",
       "      <td>0.965</td>\n",
       "      <td>0.388</td>\n",
       "      <td>0.855</td>\n",
       "      <td>0.676</td>\n",
       "      <td>0.906</td>\n",
       "    </tr>\n",
       "    <tr>\n",
       "      <th>recall</th>\n",
       "      <td>0.871</td>\n",
       "      <td>0.720</td>\n",
       "      <td>0.855</td>\n",
       "      <td>0.795</td>\n",
       "      <td>0.855</td>\n",
       "    </tr>\n",
       "    <tr>\n",
       "      <th>support</th>\n",
       "      <td>719.000</td>\n",
       "      <td>82.000</td>\n",
       "      <td>801.000</td>\n",
       "      <td>801.000</td>\n",
       "      <td>801.000</td>\n",
       "    </tr>\n",
       "  </tbody>\n",
       "</table>\n",
       "</div>"
      ],
      "text/plain": [
       "               0.0     1.0  micro avg  macro avg  weighted avg\n",
       "f1-score     0.915   0.504      0.855      0.710         0.873\n",
       "precision    0.965   0.388      0.855      0.676         0.906\n",
       "recall       0.871   0.720      0.855      0.795         0.855\n",
       "support    719.000  82.000    801.000    801.000       801.000"
      ]
     },
     "metadata": {},
     "output_type": "display_data"
    },
    {
     "name": "stderr",
     "output_type": "stream",
     "text": [
      "INFO - 2019-03-26 14:25:11,593 - instantiating class <class 'PatientVec.models.Model.Model'> from params {'type': 'seq_classifier_with_attention', 'embedder': {'type': 'token_embedder', 'vocab_size': 18542, 'embed_size': 200, 'embedding_file': '../../../SurgeryData/PatientVec/preprocess/KneeSurgery/1_yrs/embedding_matrix.npy'}, 'decoder': {'num_layers': 2, 'hidden_dims': [128, 1], 'activations': ['tanh', 'linear']}, 'predictor': {'type': 'binary'}, 'structured': {'use_structured': False}, 'encoder': {'type': 'lstm', 'hidden_size': 128}, 'attention': {'similarity': {'type': 'additive', 'hidden_size': 128}}} and extras {}\n",
      "INFO - 2019-03-26 14:25:11,593 - type = seq_classifier_with_attention\n",
      "INFO - 2019-03-26 14:25:11,594 - instantiating class <class 'PatientVec.models.modules.Embedder.Embedder'> from params {'type': 'token_embedder', 'vocab_size': 18542, 'embed_size': 200, 'embedding_file': '../../../SurgeryData/PatientVec/preprocess/KneeSurgery/1_yrs/embedding_matrix.npy'} and extras {}\n",
      "INFO - 2019-03-26 14:25:11,594 - embedder.type = token_embedder\n",
      "INFO - 2019-03-26 14:25:11,594 - instantiating class <class 'PatientVec.models.modules.Embedder.TokenEmbedder'> from params {'vocab_size': 18542, 'embed_size': 200, 'embedding_file': '../../../SurgeryData/PatientVec/preprocess/KneeSurgery/1_yrs/embedding_matrix.npy'} and extras {}\n",
      "INFO - 2019-03-26 14:25:11,594 - embedder.vocab_size = 18542\n",
      "INFO - 2019-03-26 14:25:11,595 - embedder.embed_size = 200\n",
      "INFO - 2019-03-26 14:25:11,595 - embedder.embedding_file = ../../../SurgeryData/PatientVec/preprocess/KneeSurgery/1_yrs/embedding_matrix.npy\n",
      "INFO - 2019-03-26 14:25:11,603 - instantiating class <class 'PatientVec.models.modules.Encoder.Encoder'> from params {'type': 'lstm', 'hidden_size': 128} and extras {'input_size': 200}\n",
      "INFO - 2019-03-26 14:25:11,603 - encoder.type = lstm\n",
      "INFO - 2019-03-26 14:25:11,603 - instantiating class <class 'PatientVec.models.modules.Encoder.wrap_pytorch_rnn.<locals>.BiRNNEncoder'> from params {'hidden_size': 128} and extras {'input_size': 200}\n",
      "INFO - 2019-03-26 14:25:11,604 - encoder.hidden_size = 128\n",
      "INFO - 2019-03-26 14:25:11,606 - instantiating class <class 'PatientVec.models.modules.SelfAttention.SelfAttention'> from params {'similarity': {'type': 'additive', 'hidden_size': 128, 'tensor_1_dim': 256}} and extras {}\n",
      "INFO - 2019-03-26 14:25:11,606 - instantiating class <class 'PatientVec.models.modules.UniSimilarity.UniSimilarity'> from params {'type': 'additive', 'hidden_size': 128, 'tensor_1_dim': 256} and extras {}\n",
      "INFO - 2019-03-26 14:25:11,607 - attention.similarity.type = additive\n",
      "INFO - 2019-03-26 14:25:11,607 - instantiating class <class 'PatientVec.models.modules.UniSimilarity.UniAdditiveSimilarity'> from params {'hidden_size': 128, 'tensor_1_dim': 256} and extras {}\n",
      "INFO - 2019-03-26 14:25:11,607 - attention.similarity.tensor_1_dim = 256\n",
      "INFO - 2019-03-26 14:25:11,607 - attention.similarity.hidden_size = 128\n",
      "INFO - 2019-03-26 14:25:11,608 - attention.similarity.output_size = 1\n",
      "INFO - 2019-03-26 14:25:11,609 - attention.normaliser = softmax\n",
      "INFO - 2019-03-26 14:25:11,609 - decoder.input_dim = 256\n",
      "INFO - 2019-03-26 14:25:11,610 - decoder.num_layers = 2\n",
      "INFO - 2019-03-26 14:25:11,610 - decoder.hidden_dims = [128, 1]\n",
      "INFO - 2019-03-26 14:25:11,610 - decoder.activations = ['tanh', 'linear']\n",
      "INFO - 2019-03-26 14:25:11,610 - decoder.dropout = 0.0\n",
      "INFO - 2019-03-26 14:25:11,611 - instantiating class <class 'PatientVec.models.modules.Predictor.Predictor'> from params {'type': 'binary'} and extras {}\n",
      "INFO - 2019-03-26 14:25:11,612 - predictor.type = binary\n",
      "INFO - 2019-03-26 14:25:11,612 - instantiating class <class 'PatientVec.models.modules.Predictor.Binary_Predictor'> from params {} and extras {}\n",
      "INFO - 2019-03-26 14:25:11,612 - predictor.replicate = False\n",
      "INFO - 2019-03-26 14:25:11,612 - predictor.alpha = 0.5\n"
     ]
    },
    {
     "name": "stdout",
     "output_type": "stream",
     "text": [
      "Model not saved on  roc_auc 0.8611893212117101\n",
      "0.8913124597170867 deque([0.8911089249974559, 0.870450150954917, 0.8611893212117101], maxlen=3)\n",
      "\n",
      "Setting Embedding\n"
     ]
    },
    {
     "data": {
      "application/vnd.jupyter.widget-view+json": {
       "model_id": "c6146811bd4d4fd08b3b120974400b5e",
       "version_major": 2,
       "version_minor": 0
      },
      "text/plain": [
       "HBox(children=(IntProgress(value=0, max=51), HTML(value='')))"
      ]
     },
     "metadata": {},
     "output_type": "display_data"
    },
    {
     "name": "stdout",
     "output_type": "stream",
     "text": [
      "\n",
      "{'accuracy': 0.8576779026217228, 'roc_auc': 0.8913124597170867, 'pr_auc': 0.5626854245621586}\n"
     ]
    },
    {
     "data": {
      "text/html": [
       "<div>\n",
       "<style scoped>\n",
       "    .dataframe tbody tr th:only-of-type {\n",
       "        vertical-align: middle;\n",
       "    }\n",
       "\n",
       "    .dataframe tbody tr th {\n",
       "        vertical-align: top;\n",
       "    }\n",
       "\n",
       "    .dataframe thead th {\n",
       "        text-align: right;\n",
       "    }\n",
       "</style>\n",
       "<table border=\"1\" class=\"dataframe\">\n",
       "  <thead>\n",
       "    <tr style=\"text-align: right;\">\n",
       "      <th></th>\n",
       "      <th>0.0</th>\n",
       "      <th>1.0</th>\n",
       "      <th>micro avg</th>\n",
       "      <th>macro avg</th>\n",
       "      <th>weighted avg</th>\n",
       "    </tr>\n",
       "  </thead>\n",
       "  <tbody>\n",
       "    <tr>\n",
       "      <th>f1-score</th>\n",
       "      <td>0.916</td>\n",
       "      <td>0.529</td>\n",
       "      <td>0.858</td>\n",
       "      <td>0.723</td>\n",
       "      <td>0.877</td>\n",
       "    </tr>\n",
       "    <tr>\n",
       "      <th>precision</th>\n",
       "      <td>0.972</td>\n",
       "      <td>0.400</td>\n",
       "      <td>0.858</td>\n",
       "      <td>0.686</td>\n",
       "      <td>0.913</td>\n",
       "    </tr>\n",
       "    <tr>\n",
       "      <th>recall</th>\n",
       "      <td>0.866</td>\n",
       "      <td>0.780</td>\n",
       "      <td>0.858</td>\n",
       "      <td>0.823</td>\n",
       "      <td>0.858</td>\n",
       "    </tr>\n",
       "    <tr>\n",
       "      <th>support</th>\n",
       "      <td>719.000</td>\n",
       "      <td>82.000</td>\n",
       "      <td>801.000</td>\n",
       "      <td>801.000</td>\n",
       "      <td>801.000</td>\n",
       "    </tr>\n",
       "  </tbody>\n",
       "</table>\n",
       "</div>"
      ],
      "text/plain": [
       "               0.0     1.0  micro avg  macro avg  weighted avg\n",
       "f1-score     0.916   0.529      0.858      0.723         0.877\n",
       "precision    0.972   0.400      0.858      0.686         0.913\n",
       "recall       0.866   0.780      0.858      0.823         0.858\n",
       "support    719.000  82.000    801.000    801.000       801.000"
      ]
     },
     "metadata": {},
     "output_type": "display_data"
    },
    {
     "name": "stderr",
     "output_type": "stream",
     "text": [
      "INFO - 2019-03-26 14:25:26,900 - instantiating class <class 'PatientVec.models.Model.Model'> from params {'type': 'seq_classifier', 'embedder': {'type': 'token_embedder', 'vocab_size': 18542, 'embed_size': 200, 'embedding_file': '../../../SurgeryData/PatientVec/preprocess/KneeSurgery/1_yrs/embedding_matrix.npy'}, 'decoder': {'num_layers': 2, 'hidden_dims': [128, 1], 'activations': ['tanh', 'linear']}, 'predictor': {'type': 'binary'}, 'structured': {'use_structured': False}, 'encoder': {'type': 'cnn', 'hidden_size': 64, 'kernel_sizes': [3, 5, 7, 9], 'activation': 'relu'}} and extras {}\n",
      "INFO - 2019-03-26 14:25:26,900 - type = seq_classifier\n",
      "INFO - 2019-03-26 14:25:26,901 - instantiating class <class 'PatientVec.models.modules.Embedder.Embedder'> from params {'type': 'token_embedder', 'vocab_size': 18542, 'embed_size': 200, 'embedding_file': '../../../SurgeryData/PatientVec/preprocess/KneeSurgery/1_yrs/embedding_matrix.npy'} and extras {}\n",
      "INFO - 2019-03-26 14:25:26,901 - embedder.type = token_embedder\n",
      "INFO - 2019-03-26 14:25:26,901 - instantiating class <class 'PatientVec.models.modules.Embedder.TokenEmbedder'> from params {'vocab_size': 18542, 'embed_size': 200, 'embedding_file': '../../../SurgeryData/PatientVec/preprocess/KneeSurgery/1_yrs/embedding_matrix.npy'} and extras {}\n",
      "INFO - 2019-03-26 14:25:26,902 - embedder.vocab_size = 18542\n",
      "INFO - 2019-03-26 14:25:26,902 - embedder.embed_size = 200\n",
      "INFO - 2019-03-26 14:25:26,902 - embedder.embedding_file = ../../../SurgeryData/PatientVec/preprocess/KneeSurgery/1_yrs/embedding_matrix.npy\n",
      "INFO - 2019-03-26 14:25:26,911 - instantiating class <class 'PatientVec.models.modules.Encoder.Encoder'> from params {'type': 'cnn', 'hidden_size': 64, 'kernel_sizes': [3, 5, 7, 9], 'activation': 'relu'} and extras {'input_size': 200}\n",
      "INFO - 2019-03-26 14:25:26,911 - encoder.type = cnn\n",
      "INFO - 2019-03-26 14:25:26,911 - instantiating class <class 'PatientVec.models.modules.Encoder.CNNEncoder'> from params {'hidden_size': 64, 'kernel_sizes': [3, 5, 7, 9], 'activation': 'relu'} and extras {'input_size': 200}\n",
      "INFO - 2019-03-26 14:25:26,912 - encoder.hidden_size = 64\n",
      "INFO - 2019-03-26 14:25:26,912 - encoder.kernel_sizes = [3, 5, 7, 9]\n",
      "INFO - 2019-03-26 14:25:26,912 - encoder.activation = relu\n",
      "INFO - 2019-03-26 14:25:26,915 - decoder.input_dim = 256\n",
      "INFO - 2019-03-26 14:25:26,916 - decoder.num_layers = 2\n",
      "INFO - 2019-03-26 14:25:26,916 - decoder.hidden_dims = [128, 1]\n",
      "INFO - 2019-03-26 14:25:26,916 - decoder.activations = ['tanh', 'linear']\n",
      "INFO - 2019-03-26 14:25:26,916 - decoder.dropout = 0.0\n",
      "INFO - 2019-03-26 14:25:26,918 - instantiating class <class 'PatientVec.models.modules.Predictor.Predictor'> from params {'type': 'binary'} and extras {}\n",
      "INFO - 2019-03-26 14:25:26,918 - predictor.type = binary\n",
      "INFO - 2019-03-26 14:25:26,918 - instantiating class <class 'PatientVec.models.modules.Predictor.Binary_Predictor'> from params {} and extras {}\n",
      "INFO - 2019-03-26 14:25:26,918 - predictor.replicate = False\n",
      "INFO - 2019-03-26 14:25:26,919 - predictor.alpha = 0.5\n"
     ]
    },
    {
     "name": "stdout",
     "output_type": "stream",
     "text": [
      "============================================================================================================================================================================================================================================================================================================\n",
      "{'model': {'type': 'seq_classifier', 'embedder': {'type': 'token_embedder', 'vocab_size': 18542, 'embed_size': 200, 'embedding_file': '../../../SurgeryData/PatientVec/preprocess/KneeSurgery/1_yrs/embedding_matrix.npy'}, 'decoder': {'num_layers': 2, 'hidden_dims': [128, 1], 'activations': ['tanh', 'linear']}, 'predictor': {'type': 'binary'}, 'structured': {'use_structured': False}, 'encoder': {'type': 'cnn', 'hidden_size': 64, 'kernel_sizes': [3, 5, 7, 9], 'activation': 'relu'}}, 'training_config': {'type': 'Adam', 'groups': [('.*', {'lr': 0.001, 'weight_decay': 1e-05})], 'common': {'bsize': 16, 'class_weight': True}}, 'exp_config': {'exp_name': 'KneeSurgery_1/Basic/CNN(hs=64)(kernels=3,5,7,9)', 'basepath': 'outputs/confidence'}}\n",
      "Setting Embedding\n"
     ]
    },
    {
     "data": {
      "application/vnd.jupyter.widget-view+json": {
       "model_id": "81cd0c82c3b14a4ca98343abc7a925fe",
       "version_major": 2,
       "version_minor": 0
      },
      "text/plain": [
       "HBox(children=(IntProgress(value=0, max=8), HTML(value='')))"
      ]
     },
     "metadata": {},
     "output_type": "display_data"
    },
    {
     "data": {
      "application/vnd.jupyter.widget-view+json": {
       "model_id": "f812a5547176496b95b09620bd62c6d8",
       "version_major": 2,
       "version_minor": 0
      },
      "text/plain": [
       "HBox(children=(IntProgress(value=0, max=229), HTML(value='')))"
      ]
     },
     "metadata": {},
     "output_type": "display_data"
    },
    {
     "data": {
      "application/vnd.jupyter.widget-view+json": {
       "model_id": "bdfce8e582284b588601209c7d54fa16",
       "version_major": 2,
       "version_minor": 0
      },
      "text/plain": [
       "HBox(children=(IntProgress(value=0, max=51), HTML(value='')))"
      ]
     },
     "metadata": {},
     "output_type": "display_data"
    },
    {
     "name": "stdout",
     "output_type": "stream",
     "text": [
      "{'accuracy': 0.898876404494382, 'roc_auc': 0.8708063367142713, 'pr_auc': 0.5705094830366726}\n"
     ]
    },
    {
     "data": {
      "text/html": [
       "<div>\n",
       "<style scoped>\n",
       "    .dataframe tbody tr th:only-of-type {\n",
       "        vertical-align: middle;\n",
       "    }\n",
       "\n",
       "    .dataframe tbody tr th {\n",
       "        vertical-align: top;\n",
       "    }\n",
       "\n",
       "    .dataframe thead th {\n",
       "        text-align: right;\n",
       "    }\n",
       "</style>\n",
       "<table border=\"1\" class=\"dataframe\">\n",
       "  <thead>\n",
       "    <tr style=\"text-align: right;\">\n",
       "      <th></th>\n",
       "      <th>0.0</th>\n",
       "      <th>1.0</th>\n",
       "      <th>micro avg</th>\n",
       "      <th>macro avg</th>\n",
       "      <th>weighted avg</th>\n",
       "    </tr>\n",
       "  </thead>\n",
       "  <tbody>\n",
       "    <tr>\n",
       "      <th>f1-score</th>\n",
       "      <td>0.942</td>\n",
       "      <td>0.597</td>\n",
       "      <td>0.899</td>\n",
       "      <td>0.770</td>\n",
       "      <td>0.907</td>\n",
       "    </tr>\n",
       "    <tr>\n",
       "      <th>precision</th>\n",
       "      <td>0.968</td>\n",
       "      <td>0.504</td>\n",
       "      <td>0.899</td>\n",
       "      <td>0.736</td>\n",
       "      <td>0.920</td>\n",
       "    </tr>\n",
       "    <tr>\n",
       "      <th>recall</th>\n",
       "      <td>0.918</td>\n",
       "      <td>0.732</td>\n",
       "      <td>0.899</td>\n",
       "      <td>0.825</td>\n",
       "      <td>0.899</td>\n",
       "    </tr>\n",
       "    <tr>\n",
       "      <th>support</th>\n",
       "      <td>719.000</td>\n",
       "      <td>82.000</td>\n",
       "      <td>801.000</td>\n",
       "      <td>801.000</td>\n",
       "      <td>801.000</td>\n",
       "    </tr>\n",
       "  </tbody>\n",
       "</table>\n",
       "</div>"
      ],
      "text/plain": [
       "               0.0     1.0  micro avg  macro avg  weighted avg\n",
       "f1-score     0.942   0.597      0.899      0.770         0.907\n",
       "precision    0.968   0.504      0.899      0.736         0.920\n",
       "recall       0.918   0.732      0.899      0.825         0.899\n",
       "support    719.000  82.000    801.000    801.000       801.000"
      ]
     },
     "metadata": {},
     "output_type": "display_data"
    },
    {
     "name": "stdout",
     "output_type": "stream",
     "text": [
      "Model Saved on  roc_auc 0.8708063367142713\n"
     ]
    },
    {
     "data": {
      "application/vnd.jupyter.widget-view+json": {
       "model_id": "7d6134941d48484ba1da55f4361222a7",
       "version_major": 2,
       "version_minor": 0
      },
      "text/plain": [
       "HBox(children=(IntProgress(value=0, max=229), HTML(value='')))"
      ]
     },
     "metadata": {},
     "output_type": "display_data"
    },
    {
     "data": {
      "application/vnd.jupyter.widget-view+json": {
       "model_id": "564727dd510f4e3c8aff52f3481dfd89",
       "version_major": 2,
       "version_minor": 0
      },
      "text/plain": [
       "HBox(children=(IntProgress(value=0, max=51), HTML(value='')))"
      ]
     },
     "metadata": {},
     "output_type": "display_data"
    },
    {
     "name": "stdout",
     "output_type": "stream",
     "text": [
      "{'accuracy': 0.8664169787765293, 'roc_auc': 0.8794396010719495, 'pr_auc': 0.5766191839422604}\n"
     ]
    },
    {
     "data": {
      "text/html": [
       "<div>\n",
       "<style scoped>\n",
       "    .dataframe tbody tr th:only-of-type {\n",
       "        vertical-align: middle;\n",
       "    }\n",
       "\n",
       "    .dataframe tbody tr th {\n",
       "        vertical-align: top;\n",
       "    }\n",
       "\n",
       "    .dataframe thead th {\n",
       "        text-align: right;\n",
       "    }\n",
       "</style>\n",
       "<table border=\"1\" class=\"dataframe\">\n",
       "  <thead>\n",
       "    <tr style=\"text-align: right;\">\n",
       "      <th></th>\n",
       "      <th>0.0</th>\n",
       "      <th>1.0</th>\n",
       "      <th>micro avg</th>\n",
       "      <th>macro avg</th>\n",
       "      <th>weighted avg</th>\n",
       "    </tr>\n",
       "  </thead>\n",
       "  <tbody>\n",
       "    <tr>\n",
       "      <th>f1-score</th>\n",
       "      <td>0.922</td>\n",
       "      <td>0.537</td>\n",
       "      <td>0.866</td>\n",
       "      <td>0.729</td>\n",
       "      <td>0.883</td>\n",
       "    </tr>\n",
       "    <tr>\n",
       "      <th>precision</th>\n",
       "      <td>0.969</td>\n",
       "      <td>0.416</td>\n",
       "      <td>0.866</td>\n",
       "      <td>0.693</td>\n",
       "      <td>0.913</td>\n",
       "    </tr>\n",
       "    <tr>\n",
       "      <th>recall</th>\n",
       "      <td>0.879</td>\n",
       "      <td>0.756</td>\n",
       "      <td>0.866</td>\n",
       "      <td>0.818</td>\n",
       "      <td>0.866</td>\n",
       "    </tr>\n",
       "    <tr>\n",
       "      <th>support</th>\n",
       "      <td>719.000</td>\n",
       "      <td>82.000</td>\n",
       "      <td>801.000</td>\n",
       "      <td>801.000</td>\n",
       "      <td>801.000</td>\n",
       "    </tr>\n",
       "  </tbody>\n",
       "</table>\n",
       "</div>"
      ],
      "text/plain": [
       "               0.0     1.0  micro avg  macro avg  weighted avg\n",
       "f1-score     0.922   0.537      0.866      0.729         0.883\n",
       "precision    0.969   0.416      0.866      0.693         0.913\n",
       "recall       0.879   0.756      0.866      0.818         0.866\n",
       "support    719.000  82.000    801.000    801.000       801.000"
      ]
     },
     "metadata": {},
     "output_type": "display_data"
    },
    {
     "name": "stdout",
     "output_type": "stream",
     "text": [
      "Model Saved on  roc_auc 0.8794396010719495\n"
     ]
    },
    {
     "data": {
      "application/vnd.jupyter.widget-view+json": {
       "model_id": "10753fb9e3c34c6a8025ef920dd963c8",
       "version_major": 2,
       "version_minor": 0
      },
      "text/plain": [
       "HBox(children=(IntProgress(value=0, max=229), HTML(value='')))"
      ]
     },
     "metadata": {},
     "output_type": "display_data"
    },
    {
     "data": {
      "application/vnd.jupyter.widget-view+json": {
       "model_id": "234627074ea34c9f9f19318e76282b96",
       "version_major": 2,
       "version_minor": 0
      },
      "text/plain": [
       "HBox(children=(IntProgress(value=0, max=51), HTML(value='')))"
      ]
     },
     "metadata": {},
     "output_type": "display_data"
    },
    {
     "name": "stdout",
     "output_type": "stream",
     "text": [
      "{'accuracy': 0.9101123595505618, 'roc_auc': 0.8771328742494657, 'pr_auc': 0.5644169662024939}\n"
     ]
    },
    {
     "data": {
      "text/html": [
       "<div>\n",
       "<style scoped>\n",
       "    .dataframe tbody tr th:only-of-type {\n",
       "        vertical-align: middle;\n",
       "    }\n",
       "\n",
       "    .dataframe tbody tr th {\n",
       "        vertical-align: top;\n",
       "    }\n",
       "\n",
       "    .dataframe thead th {\n",
       "        text-align: right;\n",
       "    }\n",
       "</style>\n",
       "<table border=\"1\" class=\"dataframe\">\n",
       "  <thead>\n",
       "    <tr style=\"text-align: right;\">\n",
       "      <th></th>\n",
       "      <th>0.0</th>\n",
       "      <th>1.0</th>\n",
       "      <th>micro avg</th>\n",
       "      <th>macro avg</th>\n",
       "      <th>weighted avg</th>\n",
       "    </tr>\n",
       "  </thead>\n",
       "  <tbody>\n",
       "    <tr>\n",
       "      <th>f1-score</th>\n",
       "      <td>0.949</td>\n",
       "      <td>0.613</td>\n",
       "      <td>0.91</td>\n",
       "      <td>0.781</td>\n",
       "      <td>0.915</td>\n",
       "    </tr>\n",
       "    <tr>\n",
       "      <th>precision</th>\n",
       "      <td>0.964</td>\n",
       "      <td>0.548</td>\n",
       "      <td>0.91</td>\n",
       "      <td>0.756</td>\n",
       "      <td>0.922</td>\n",
       "    </tr>\n",
       "    <tr>\n",
       "      <th>recall</th>\n",
       "      <td>0.935</td>\n",
       "      <td>0.695</td>\n",
       "      <td>0.91</td>\n",
       "      <td>0.815</td>\n",
       "      <td>0.910</td>\n",
       "    </tr>\n",
       "    <tr>\n",
       "      <th>support</th>\n",
       "      <td>719.000</td>\n",
       "      <td>82.000</td>\n",
       "      <td>801.00</td>\n",
       "      <td>801.000</td>\n",
       "      <td>801.000</td>\n",
       "    </tr>\n",
       "  </tbody>\n",
       "</table>\n",
       "</div>"
      ],
      "text/plain": [
       "               0.0     1.0  micro avg  macro avg  weighted avg\n",
       "f1-score     0.949   0.613       0.91      0.781         0.915\n",
       "precision    0.964   0.548       0.91      0.756         0.922\n",
       "recall       0.935   0.695       0.91      0.815         0.910\n",
       "support    719.000  82.000     801.00    801.000       801.000"
      ]
     },
     "metadata": {},
     "output_type": "display_data"
    },
    {
     "name": "stdout",
     "output_type": "stream",
     "text": [
      "Model not saved on  roc_auc 0.8771328742494657\n"
     ]
    },
    {
     "data": {
      "application/vnd.jupyter.widget-view+json": {
       "model_id": "d6dc08d3f92d4d3f979913d42d082fad",
       "version_major": 2,
       "version_minor": 0
      },
      "text/plain": [
       "HBox(children=(IntProgress(value=0, max=229), HTML(value='')))"
      ]
     },
     "metadata": {},
     "output_type": "display_data"
    },
    {
     "data": {
      "application/vnd.jupyter.widget-view+json": {
       "model_id": "b6a444611ab54a1b98e8342bc93aceae",
       "version_major": 2,
       "version_minor": 0
      },
      "text/plain": [
       "HBox(children=(IntProgress(value=0, max=51), HTML(value='')))"
      ]
     },
     "metadata": {},
     "output_type": "display_data"
    },
    {
     "name": "stdout",
     "output_type": "stream",
     "text": [
      "{'accuracy': 0.8589263420724095, 'roc_auc': 0.876861494623291, 'pr_auc': 0.5656784426987566}\n"
     ]
    },
    {
     "data": {
      "text/html": [
       "<div>\n",
       "<style scoped>\n",
       "    .dataframe tbody tr th:only-of-type {\n",
       "        vertical-align: middle;\n",
       "    }\n",
       "\n",
       "    .dataframe tbody tr th {\n",
       "        vertical-align: top;\n",
       "    }\n",
       "\n",
       "    .dataframe thead th {\n",
       "        text-align: right;\n",
       "    }\n",
       "</style>\n",
       "<table border=\"1\" class=\"dataframe\">\n",
       "  <thead>\n",
       "    <tr style=\"text-align: right;\">\n",
       "      <th></th>\n",
       "      <th>0.0</th>\n",
       "      <th>1.0</th>\n",
       "      <th>micro avg</th>\n",
       "      <th>macro avg</th>\n",
       "      <th>weighted avg</th>\n",
       "    </tr>\n",
       "  </thead>\n",
       "  <tbody>\n",
       "    <tr>\n",
       "      <th>f1-score</th>\n",
       "      <td>0.917</td>\n",
       "      <td>0.519</td>\n",
       "      <td>0.859</td>\n",
       "      <td>0.718</td>\n",
       "      <td>0.877</td>\n",
       "    </tr>\n",
       "    <tr>\n",
       "      <th>precision</th>\n",
       "      <td>0.968</td>\n",
       "      <td>0.399</td>\n",
       "      <td>0.859</td>\n",
       "      <td>0.683</td>\n",
       "      <td>0.909</td>\n",
       "    </tr>\n",
       "    <tr>\n",
       "      <th>recall</th>\n",
       "      <td>0.872</td>\n",
       "      <td>0.744</td>\n",
       "      <td>0.859</td>\n",
       "      <td>0.808</td>\n",
       "      <td>0.859</td>\n",
       "    </tr>\n",
       "    <tr>\n",
       "      <th>support</th>\n",
       "      <td>719.000</td>\n",
       "      <td>82.000</td>\n",
       "      <td>801.000</td>\n",
       "      <td>801.000</td>\n",
       "      <td>801.000</td>\n",
       "    </tr>\n",
       "  </tbody>\n",
       "</table>\n",
       "</div>"
      ],
      "text/plain": [
       "               0.0     1.0  micro avg  macro avg  weighted avg\n",
       "f1-score     0.917   0.519      0.859      0.718         0.877\n",
       "precision    0.968   0.399      0.859      0.683         0.909\n",
       "recall       0.872   0.744      0.859      0.808         0.859\n",
       "support    719.000  82.000    801.000    801.000       801.000"
      ]
     },
     "metadata": {},
     "output_type": "display_data"
    },
    {
     "name": "stdout",
     "output_type": "stream",
     "text": [
      "Model not saved on  roc_auc 0.876861494623291\n"
     ]
    },
    {
     "data": {
      "application/vnd.jupyter.widget-view+json": {
       "model_id": "0ff7ad4cb65f47ebbc3af630c1f51794",
       "version_major": 2,
       "version_minor": 0
      },
      "text/plain": [
       "HBox(children=(IntProgress(value=0, max=229), HTML(value='')))"
      ]
     },
     "metadata": {},
     "output_type": "display_data"
    },
    {
     "data": {
      "application/vnd.jupyter.widget-view+json": {
       "model_id": "3aaf72cf611d4abfa4eab7ade7fe20aa",
       "version_major": 2,
       "version_minor": 0
      },
      "text/plain": [
       "HBox(children=(IntProgress(value=0, max=51), HTML(value='')))"
      ]
     },
     "metadata": {},
     "output_type": "display_data"
    },
    {
     "name": "stdout",
     "output_type": "stream",
     "text": [
      "{'accuracy': 0.9101123595505618, 'roc_auc': 0.8736388615624682, 'pr_auc': 0.5897291165597703}\n"
     ]
    },
    {
     "data": {
      "text/html": [
       "<div>\n",
       "<style scoped>\n",
       "    .dataframe tbody tr th:only-of-type {\n",
       "        vertical-align: middle;\n",
       "    }\n",
       "\n",
       "    .dataframe tbody tr th {\n",
       "        vertical-align: top;\n",
       "    }\n",
       "\n",
       "    .dataframe thead th {\n",
       "        text-align: right;\n",
       "    }\n",
       "</style>\n",
       "<table border=\"1\" class=\"dataframe\">\n",
       "  <thead>\n",
       "    <tr style=\"text-align: right;\">\n",
       "      <th></th>\n",
       "      <th>0.0</th>\n",
       "      <th>1.0</th>\n",
       "      <th>micro avg</th>\n",
       "      <th>macro avg</th>\n",
       "      <th>weighted avg</th>\n",
       "    </tr>\n",
       "  </thead>\n",
       "  <tbody>\n",
       "    <tr>\n",
       "      <th>f1-score</th>\n",
       "      <td>0.949</td>\n",
       "      <td>0.613</td>\n",
       "      <td>0.91</td>\n",
       "      <td>0.781</td>\n",
       "      <td>0.915</td>\n",
       "    </tr>\n",
       "    <tr>\n",
       "      <th>precision</th>\n",
       "      <td>0.964</td>\n",
       "      <td>0.548</td>\n",
       "      <td>0.91</td>\n",
       "      <td>0.756</td>\n",
       "      <td>0.922</td>\n",
       "    </tr>\n",
       "    <tr>\n",
       "      <th>recall</th>\n",
       "      <td>0.935</td>\n",
       "      <td>0.695</td>\n",
       "      <td>0.91</td>\n",
       "      <td>0.815</td>\n",
       "      <td>0.910</td>\n",
       "    </tr>\n",
       "    <tr>\n",
       "      <th>support</th>\n",
       "      <td>719.000</td>\n",
       "      <td>82.000</td>\n",
       "      <td>801.00</td>\n",
       "      <td>801.000</td>\n",
       "      <td>801.000</td>\n",
       "    </tr>\n",
       "  </tbody>\n",
       "</table>\n",
       "</div>"
      ],
      "text/plain": [
       "               0.0     1.0  micro avg  macro avg  weighted avg\n",
       "f1-score     0.949   0.613       0.91      0.781         0.915\n",
       "precision    0.964   0.548       0.91      0.756         0.922\n",
       "recall       0.935   0.695       0.91      0.815         0.910\n",
       "support    719.000  82.000     801.00    801.000       801.000"
      ]
     },
     "metadata": {},
     "output_type": "display_data"
    },
    {
     "name": "stderr",
     "output_type": "stream",
     "text": [
      "INFO - 2019-03-26 14:27:48,013 - instantiating class <class 'PatientVec.models.Model.Model'> from params {'type': 'seq_classifier', 'embedder': {'type': 'token_embedder', 'vocab_size': 18542, 'embed_size': 200, 'embedding_file': '../../../SurgeryData/PatientVec/preprocess/KneeSurgery/1_yrs/embedding_matrix.npy'}, 'decoder': {'num_layers': 2, 'hidden_dims': [128, 1], 'activations': ['tanh', 'linear']}, 'predictor': {'type': 'binary'}, 'structured': {'use_structured': False}, 'encoder': {'type': 'cnn', 'hidden_size': 64, 'kernel_sizes': [3, 5, 7, 9], 'activation': 'relu'}} and extras {}\n",
      "INFO - 2019-03-26 14:27:48,013 - type = seq_classifier\n",
      "INFO - 2019-03-26 14:27:48,013 - instantiating class <class 'PatientVec.models.modules.Embedder.Embedder'> from params {'type': 'token_embedder', 'vocab_size': 18542, 'embed_size': 200, 'embedding_file': '../../../SurgeryData/PatientVec/preprocess/KneeSurgery/1_yrs/embedding_matrix.npy'} and extras {}\n",
      "INFO - 2019-03-26 14:27:48,014 - embedder.type = token_embedder\n",
      "INFO - 2019-03-26 14:27:48,014 - instantiating class <class 'PatientVec.models.modules.Embedder.TokenEmbedder'> from params {'vocab_size': 18542, 'embed_size': 200, 'embedding_file': '../../../SurgeryData/PatientVec/preprocess/KneeSurgery/1_yrs/embedding_matrix.npy'} and extras {}\n",
      "INFO - 2019-03-26 14:27:48,014 - embedder.vocab_size = 18542\n",
      "INFO - 2019-03-26 14:27:48,015 - embedder.embed_size = 200\n",
      "INFO - 2019-03-26 14:27:48,015 - embedder.embedding_file = ../../../SurgeryData/PatientVec/preprocess/KneeSurgery/1_yrs/embedding_matrix.npy\n",
      "INFO - 2019-03-26 14:27:48,023 - instantiating class <class 'PatientVec.models.modules.Encoder.Encoder'> from params {'type': 'cnn', 'hidden_size': 64, 'kernel_sizes': [3, 5, 7, 9], 'activation': 'relu'} and extras {'input_size': 200}\n",
      "INFO - 2019-03-26 14:27:48,023 - encoder.type = cnn\n",
      "INFO - 2019-03-26 14:27:48,024 - instantiating class <class 'PatientVec.models.modules.Encoder.CNNEncoder'> from params {'hidden_size': 64, 'kernel_sizes': [3, 5, 7, 9], 'activation': 'relu'} and extras {'input_size': 200}\n",
      "INFO - 2019-03-26 14:27:48,024 - encoder.hidden_size = 64\n",
      "INFO - 2019-03-26 14:27:48,024 - encoder.kernel_sizes = [3, 5, 7, 9]\n",
      "INFO - 2019-03-26 14:27:48,025 - encoder.activation = relu\n",
      "INFO - 2019-03-26 14:27:48,028 - decoder.input_dim = 256\n",
      "INFO - 2019-03-26 14:27:48,028 - decoder.num_layers = 2\n",
      "INFO - 2019-03-26 14:27:48,028 - decoder.hidden_dims = [128, 1]\n",
      "INFO - 2019-03-26 14:27:48,029 - decoder.activations = ['tanh', 'linear']\n",
      "INFO - 2019-03-26 14:27:48,029 - decoder.dropout = 0.0\n",
      "INFO - 2019-03-26 14:27:48,030 - instantiating class <class 'PatientVec.models.modules.Predictor.Predictor'> from params {'type': 'binary'} and extras {}\n",
      "INFO - 2019-03-26 14:27:48,030 - predictor.type = binary\n",
      "INFO - 2019-03-26 14:27:48,031 - instantiating class <class 'PatientVec.models.modules.Predictor.Binary_Predictor'> from params {} and extras {}\n",
      "INFO - 2019-03-26 14:27:48,031 - predictor.replicate = False\n",
      "INFO - 2019-03-26 14:27:48,031 - predictor.alpha = 0.5\n"
     ]
    },
    {
     "name": "stdout",
     "output_type": "stream",
     "text": [
      "Model not saved on  roc_auc 0.8736388615624682\n",
      "0.8794396010719495 deque([0.8771328742494657, 0.876861494623291, 0.8736388615624682], maxlen=3)\n",
      "\n",
      "Setting Embedding\n"
     ]
    },
    {
     "data": {
      "application/vnd.jupyter.widget-view+json": {
       "model_id": "8214ad84c18a4ef6b0d9cc9cf7c6b6fd",
       "version_major": 2,
       "version_minor": 0
      },
      "text/plain": [
       "HBox(children=(IntProgress(value=0, max=51), HTML(value='')))"
      ]
     },
     "metadata": {},
     "output_type": "display_data"
    },
    {
     "name": "stdout",
     "output_type": "stream",
     "text": [
      "\n",
      "{'accuracy': 0.8664169787765293, 'roc_auc': 0.8794396010719495, 'pr_auc': 0.5766191839422604}\n"
     ]
    },
    {
     "data": {
      "text/html": [
       "<div>\n",
       "<style scoped>\n",
       "    .dataframe tbody tr th:only-of-type {\n",
       "        vertical-align: middle;\n",
       "    }\n",
       "\n",
       "    .dataframe tbody tr th {\n",
       "        vertical-align: top;\n",
       "    }\n",
       "\n",
       "    .dataframe thead th {\n",
       "        text-align: right;\n",
       "    }\n",
       "</style>\n",
       "<table border=\"1\" class=\"dataframe\">\n",
       "  <thead>\n",
       "    <tr style=\"text-align: right;\">\n",
       "      <th></th>\n",
       "      <th>0.0</th>\n",
       "      <th>1.0</th>\n",
       "      <th>micro avg</th>\n",
       "      <th>macro avg</th>\n",
       "      <th>weighted avg</th>\n",
       "    </tr>\n",
       "  </thead>\n",
       "  <tbody>\n",
       "    <tr>\n",
       "      <th>f1-score</th>\n",
       "      <td>0.922</td>\n",
       "      <td>0.537</td>\n",
       "      <td>0.866</td>\n",
       "      <td>0.729</td>\n",
       "      <td>0.883</td>\n",
       "    </tr>\n",
       "    <tr>\n",
       "      <th>precision</th>\n",
       "      <td>0.969</td>\n",
       "      <td>0.416</td>\n",
       "      <td>0.866</td>\n",
       "      <td>0.693</td>\n",
       "      <td>0.913</td>\n",
       "    </tr>\n",
       "    <tr>\n",
       "      <th>recall</th>\n",
       "      <td>0.879</td>\n",
       "      <td>0.756</td>\n",
       "      <td>0.866</td>\n",
       "      <td>0.818</td>\n",
       "      <td>0.866</td>\n",
       "    </tr>\n",
       "    <tr>\n",
       "      <th>support</th>\n",
       "      <td>719.000</td>\n",
       "      <td>82.000</td>\n",
       "      <td>801.000</td>\n",
       "      <td>801.000</td>\n",
       "      <td>801.000</td>\n",
       "    </tr>\n",
       "  </tbody>\n",
       "</table>\n",
       "</div>"
      ],
      "text/plain": [
       "               0.0     1.0  micro avg  macro avg  weighted avg\n",
       "f1-score     0.922   0.537      0.866      0.729         0.883\n",
       "precision    0.969   0.416      0.866      0.693         0.913\n",
       "recall       0.879   0.756      0.866      0.818         0.866\n",
       "support    719.000  82.000    801.000    801.000       801.000"
      ]
     },
     "metadata": {},
     "output_type": "display_data"
    },
    {
     "name": "stderr",
     "output_type": "stream",
     "text": [
      "INFO - 2019-03-26 14:27:53,677 - instantiating class <class 'PatientVec.models.Model.Model'> from params {'type': 'seq_classifier_with_attention', 'embedder': {'type': 'token_embedder', 'vocab_size': 18542, 'embed_size': 200, 'embedding_file': '../../../SurgeryData/PatientVec/preprocess/KneeSurgery/1_yrs/embedding_matrix.npy'}, 'decoder': {'num_layers': 2, 'hidden_dims': [128, 1], 'activations': ['tanh', 'linear']}, 'predictor': {'type': 'binary'}, 'structured': {'use_structured': False}, 'encoder': {'type': 'cnn', 'hidden_size': 64, 'kernel_sizes': [3, 5, 7, 9], 'activation': 'relu'}, 'attention': {'similarity': {'type': 'additive', 'hidden_size': 128}}} and extras {}\n",
      "INFO - 2019-03-26 14:27:53,677 - type = seq_classifier_with_attention\n",
      "INFO - 2019-03-26 14:27:53,678 - instantiating class <class 'PatientVec.models.modules.Embedder.Embedder'> from params {'type': 'token_embedder', 'vocab_size': 18542, 'embed_size': 200, 'embedding_file': '../../../SurgeryData/PatientVec/preprocess/KneeSurgery/1_yrs/embedding_matrix.npy'} and extras {}\n",
      "INFO - 2019-03-26 14:27:53,678 - embedder.type = token_embedder\n",
      "INFO - 2019-03-26 14:27:53,679 - instantiating class <class 'PatientVec.models.modules.Embedder.TokenEmbedder'> from params {'vocab_size': 18542, 'embed_size': 200, 'embedding_file': '../../../SurgeryData/PatientVec/preprocess/KneeSurgery/1_yrs/embedding_matrix.npy'} and extras {}\n",
      "INFO - 2019-03-26 14:27:53,679 - embedder.vocab_size = 18542\n",
      "INFO - 2019-03-26 14:27:53,680 - embedder.embed_size = 200\n",
      "INFO - 2019-03-26 14:27:53,680 - embedder.embedding_file = ../../../SurgeryData/PatientVec/preprocess/KneeSurgery/1_yrs/embedding_matrix.npy\n",
      "INFO - 2019-03-26 14:27:53,689 - instantiating class <class 'PatientVec.models.modules.Encoder.Encoder'> from params {'type': 'cnn', 'hidden_size': 64, 'kernel_sizes': [3, 5, 7, 9], 'activation': 'relu'} and extras {'input_size': 200}\n",
      "INFO - 2019-03-26 14:27:53,689 - encoder.type = cnn\n",
      "INFO - 2019-03-26 14:27:53,690 - instantiating class <class 'PatientVec.models.modules.Encoder.CNNEncoder'> from params {'hidden_size': 64, 'kernel_sizes': [3, 5, 7, 9], 'activation': 'relu'} and extras {'input_size': 200}\n",
      "INFO - 2019-03-26 14:27:53,690 - encoder.hidden_size = 64\n",
      "INFO - 2019-03-26 14:27:53,690 - encoder.kernel_sizes = [3, 5, 7, 9]\n",
      "INFO - 2019-03-26 14:27:53,691 - encoder.activation = relu\n",
      "INFO - 2019-03-26 14:27:53,693 - instantiating class <class 'PatientVec.models.modules.SelfAttention.SelfAttention'> from params {'similarity': {'type': 'additive', 'hidden_size': 128, 'tensor_1_dim': 256}} and extras {}\n",
      "INFO - 2019-03-26 14:27:53,693 - instantiating class <class 'PatientVec.models.modules.UniSimilarity.UniSimilarity'> from params {'type': 'additive', 'hidden_size': 128, 'tensor_1_dim': 256} and extras {}\n",
      "INFO - 2019-03-26 14:27:53,694 - attention.similarity.type = additive\n",
      "INFO - 2019-03-26 14:27:53,694 - instantiating class <class 'PatientVec.models.modules.UniSimilarity.UniAdditiveSimilarity'> from params {'hidden_size': 128, 'tensor_1_dim': 256} and extras {}\n",
      "INFO - 2019-03-26 14:27:53,694 - attention.similarity.tensor_1_dim = 256\n",
      "INFO - 2019-03-26 14:27:53,694 - attention.similarity.hidden_size = 128\n",
      "INFO - 2019-03-26 14:27:53,695 - attention.similarity.output_size = 1\n",
      "INFO - 2019-03-26 14:27:53,696 - attention.normaliser = softmax\n",
      "INFO - 2019-03-26 14:27:53,696 - decoder.input_dim = 256\n",
      "INFO - 2019-03-26 14:27:53,697 - decoder.num_layers = 2\n",
      "INFO - 2019-03-26 14:27:53,697 - decoder.hidden_dims = [128, 1]\n",
      "INFO - 2019-03-26 14:27:53,697 - decoder.activations = ['tanh', 'linear']\n",
      "INFO - 2019-03-26 14:27:53,697 - decoder.dropout = 0.0\n",
      "INFO - 2019-03-26 14:27:53,699 - instantiating class <class 'PatientVec.models.modules.Predictor.Predictor'> from params {'type': 'binary'} and extras {}\n",
      "INFO - 2019-03-26 14:27:53,699 - predictor.type = binary\n",
      "INFO - 2019-03-26 14:27:53,699 - instantiating class <class 'PatientVec.models.modules.Predictor.Binary_Predictor'> from params {} and extras {}\n",
      "INFO - 2019-03-26 14:27:53,700 - predictor.replicate = False\n",
      "INFO - 2019-03-26 14:27:53,700 - predictor.alpha = 0.5\n"
     ]
    },
    {
     "name": "stdout",
     "output_type": "stream",
     "text": [
      "============================================================================================================================================================================================================================================================================================================\n",
      "{'model': {'type': 'seq_classifier_with_attention', 'embedder': {'type': 'token_embedder', 'vocab_size': 18542, 'embed_size': 200, 'embedding_file': '../../../SurgeryData/PatientVec/preprocess/KneeSurgery/1_yrs/embedding_matrix.npy'}, 'decoder': {'num_layers': 2, 'hidden_dims': [128, 1], 'activations': ['tanh', 'linear']}, 'predictor': {'type': 'binary'}, 'structured': {'use_structured': False}, 'encoder': {'type': 'cnn', 'hidden_size': 64, 'kernel_sizes': [3, 5, 7, 9], 'activation': 'relu'}, 'attention': {'similarity': {'type': 'additive', 'hidden_size': 128}}}, 'training_config': {'type': 'Adam', 'groups': [('.*', {'lr': 0.001, 'weight_decay': 1e-05})], 'common': {'bsize': 16, 'class_weight': True}}, 'exp_config': {'exp_name': 'KneeSurgery_1/Attention/CNN(hs=64)(kernels=3,5,7,9)+Attention(additive)(hs=128)', 'basepath': 'outputs/confidence'}}\n",
      "Setting Embedding\n"
     ]
    },
    {
     "data": {
      "application/vnd.jupyter.widget-view+json": {
       "model_id": "f97f8dcc5d514454b2c15428dc3a7ad5",
       "version_major": 2,
       "version_minor": 0
      },
      "text/plain": [
       "HBox(children=(IntProgress(value=0, max=8), HTML(value='')))"
      ]
     },
     "metadata": {},
     "output_type": "display_data"
    },
    {
     "data": {
      "application/vnd.jupyter.widget-view+json": {
       "model_id": "f6ec16356ccf49578fceebe9f1fa23d0",
       "version_major": 2,
       "version_minor": 0
      },
      "text/plain": [
       "HBox(children=(IntProgress(value=0, max=229), HTML(value='')))"
      ]
     },
     "metadata": {},
     "output_type": "display_data"
    },
    {
     "data": {
      "application/vnd.jupyter.widget-view+json": {
       "model_id": "5e2b07ab2c8e4db29fc69abdf419abc8",
       "version_major": 2,
       "version_minor": 0
      },
      "text/plain": [
       "HBox(children=(IntProgress(value=0, max=51), HTML(value='')))"
      ]
     },
     "metadata": {},
     "output_type": "display_data"
    },
    {
     "name": "stdout",
     "output_type": "stream",
     "text": [
      "{'accuracy': 0.8264669163545568, 'roc_auc': 0.8676176261067199, 'pr_auc': 0.4692745957855422}\n"
     ]
    },
    {
     "data": {
      "text/html": [
       "<div>\n",
       "<style scoped>\n",
       "    .dataframe tbody tr th:only-of-type {\n",
       "        vertical-align: middle;\n",
       "    }\n",
       "\n",
       "    .dataframe tbody tr th {\n",
       "        vertical-align: top;\n",
       "    }\n",
       "\n",
       "    .dataframe thead th {\n",
       "        text-align: right;\n",
       "    }\n",
       "</style>\n",
       "<table border=\"1\" class=\"dataframe\">\n",
       "  <thead>\n",
       "    <tr style=\"text-align: right;\">\n",
       "      <th></th>\n",
       "      <th>0.0</th>\n",
       "      <th>1.0</th>\n",
       "      <th>micro avg</th>\n",
       "      <th>macro avg</th>\n",
       "      <th>weighted avg</th>\n",
       "    </tr>\n",
       "  </thead>\n",
       "  <tbody>\n",
       "    <tr>\n",
       "      <th>f1-score</th>\n",
       "      <td>0.896</td>\n",
       "      <td>0.475</td>\n",
       "      <td>0.826</td>\n",
       "      <td>0.686</td>\n",
       "      <td>0.853</td>\n",
       "    </tr>\n",
       "    <tr>\n",
       "      <th>precision</th>\n",
       "      <td>0.969</td>\n",
       "      <td>0.344</td>\n",
       "      <td>0.826</td>\n",
       "      <td>0.657</td>\n",
       "      <td>0.905</td>\n",
       "    </tr>\n",
       "    <tr>\n",
       "      <th>recall</th>\n",
       "      <td>0.833</td>\n",
       "      <td>0.768</td>\n",
       "      <td>0.826</td>\n",
       "      <td>0.801</td>\n",
       "      <td>0.826</td>\n",
       "    </tr>\n",
       "    <tr>\n",
       "      <th>support</th>\n",
       "      <td>719.000</td>\n",
       "      <td>82.000</td>\n",
       "      <td>801.000</td>\n",
       "      <td>801.000</td>\n",
       "      <td>801.000</td>\n",
       "    </tr>\n",
       "  </tbody>\n",
       "</table>\n",
       "</div>"
      ],
      "text/plain": [
       "               0.0     1.0  micro avg  macro avg  weighted avg\n",
       "f1-score     0.896   0.475      0.826      0.686         0.853\n",
       "precision    0.969   0.344      0.826      0.657         0.905\n",
       "recall       0.833   0.768      0.826      0.801         0.826\n",
       "support    719.000  82.000    801.000    801.000       801.000"
      ]
     },
     "metadata": {},
     "output_type": "display_data"
    },
    {
     "name": "stdout",
     "output_type": "stream",
     "text": [
      "Model Saved on  roc_auc 0.8676176261067199\n"
     ]
    },
    {
     "data": {
      "application/vnd.jupyter.widget-view+json": {
       "model_id": "375027a4251e48619976158248bb1403",
       "version_major": 2,
       "version_minor": 0
      },
      "text/plain": [
       "HBox(children=(IntProgress(value=0, max=229), HTML(value='')))"
      ]
     },
     "metadata": {},
     "output_type": "display_data"
    },
    {
     "data": {
      "application/vnd.jupyter.widget-view+json": {
       "model_id": "d5ce6ce38a294c46bead572502923ea9",
       "version_major": 2,
       "version_minor": 0
      },
      "text/plain": [
       "HBox(children=(IntProgress(value=0, max=51), HTML(value='')))"
      ]
     },
     "metadata": {},
     "output_type": "display_data"
    },
    {
     "name": "stdout",
     "output_type": "stream",
     "text": [
      "{'accuracy': 0.766541822721598, 'roc_auc': 0.8776925947284507, 'pr_auc': 0.5547551805784398}\n"
     ]
    },
    {
     "data": {
      "text/html": [
       "<div>\n",
       "<style scoped>\n",
       "    .dataframe tbody tr th:only-of-type {\n",
       "        vertical-align: middle;\n",
       "    }\n",
       "\n",
       "    .dataframe tbody tr th {\n",
       "        vertical-align: top;\n",
       "    }\n",
       "\n",
       "    .dataframe thead th {\n",
       "        text-align: right;\n",
       "    }\n",
       "</style>\n",
       "<table border=\"1\" class=\"dataframe\">\n",
       "  <thead>\n",
       "    <tr style=\"text-align: right;\">\n",
       "      <th></th>\n",
       "      <th>0.0</th>\n",
       "      <th>1.0</th>\n",
       "      <th>micro avg</th>\n",
       "      <th>macro avg</th>\n",
       "      <th>weighted avg</th>\n",
       "    </tr>\n",
       "  </thead>\n",
       "  <tbody>\n",
       "    <tr>\n",
       "      <th>f1-score</th>\n",
       "      <td>0.854</td>\n",
       "      <td>0.421</td>\n",
       "      <td>0.767</td>\n",
       "      <td>0.637</td>\n",
       "      <td>0.809</td>\n",
       "    </tr>\n",
       "    <tr>\n",
       "      <th>precision</th>\n",
       "      <td>0.975</td>\n",
       "      <td>0.282</td>\n",
       "      <td>0.767</td>\n",
       "      <td>0.629</td>\n",
       "      <td>0.904</td>\n",
       "    </tr>\n",
       "    <tr>\n",
       "      <th>recall</th>\n",
       "      <td>0.759</td>\n",
       "      <td>0.829</td>\n",
       "      <td>0.767</td>\n",
       "      <td>0.794</td>\n",
       "      <td>0.767</td>\n",
       "    </tr>\n",
       "    <tr>\n",
       "      <th>support</th>\n",
       "      <td>719.000</td>\n",
       "      <td>82.000</td>\n",
       "      <td>801.000</td>\n",
       "      <td>801.000</td>\n",
       "      <td>801.000</td>\n",
       "    </tr>\n",
       "  </tbody>\n",
       "</table>\n",
       "</div>"
      ],
      "text/plain": [
       "               0.0     1.0  micro avg  macro avg  weighted avg\n",
       "f1-score     0.854   0.421      0.767      0.637         0.809\n",
       "precision    0.975   0.282      0.767      0.629         0.904\n",
       "recall       0.759   0.829      0.767      0.794         0.767\n",
       "support    719.000  82.000    801.000    801.000       801.000"
      ]
     },
     "metadata": {},
     "output_type": "display_data"
    },
    {
     "name": "stdout",
     "output_type": "stream",
     "text": [
      "Model Saved on  roc_auc 0.8776925947284507\n"
     ]
    },
    {
     "data": {
      "application/vnd.jupyter.widget-view+json": {
       "model_id": "2cf75a5d759546abbc51d2753d2bc0f2",
       "version_major": 2,
       "version_minor": 0
      },
      "text/plain": [
       "HBox(children=(IntProgress(value=0, max=229), HTML(value='')))"
      ]
     },
     "metadata": {},
     "output_type": "display_data"
    },
    {
     "data": {
      "application/vnd.jupyter.widget-view+json": {
       "model_id": "56c7d9953fb84191b918de2e10c4db84",
       "version_major": 2,
       "version_minor": 0
      },
      "text/plain": [
       "HBox(children=(IntProgress(value=0, max=51), HTML(value='')))"
      ]
     },
     "metadata": {},
     "output_type": "display_data"
    },
    {
     "name": "stdout",
     "output_type": "stream",
     "text": [
      "{'accuracy': 0.9076154806491885, 'roc_auc': 0.8849180772753484, 'pr_auc': 0.5438664168036659}\n"
     ]
    },
    {
     "data": {
      "text/html": [
       "<div>\n",
       "<style scoped>\n",
       "    .dataframe tbody tr th:only-of-type {\n",
       "        vertical-align: middle;\n",
       "    }\n",
       "\n",
       "    .dataframe tbody tr th {\n",
       "        vertical-align: top;\n",
       "    }\n",
       "\n",
       "    .dataframe thead th {\n",
       "        text-align: right;\n",
       "    }\n",
       "</style>\n",
       "<table border=\"1\" class=\"dataframe\">\n",
       "  <thead>\n",
       "    <tr style=\"text-align: right;\">\n",
       "      <th></th>\n",
       "      <th>0.0</th>\n",
       "      <th>1.0</th>\n",
       "      <th>micro avg</th>\n",
       "      <th>macro avg</th>\n",
       "      <th>weighted avg</th>\n",
       "    </tr>\n",
       "  </thead>\n",
       "  <tbody>\n",
       "    <tr>\n",
       "      <th>f1-score</th>\n",
       "      <td>0.948</td>\n",
       "      <td>0.606</td>\n",
       "      <td>0.908</td>\n",
       "      <td>0.777</td>\n",
       "      <td>0.913</td>\n",
       "    </tr>\n",
       "    <tr>\n",
       "      <th>precision</th>\n",
       "      <td>0.964</td>\n",
       "      <td>0.538</td>\n",
       "      <td>0.908</td>\n",
       "      <td>0.751</td>\n",
       "      <td>0.920</td>\n",
       "    </tr>\n",
       "    <tr>\n",
       "      <th>recall</th>\n",
       "      <td>0.932</td>\n",
       "      <td>0.695</td>\n",
       "      <td>0.908</td>\n",
       "      <td>0.813</td>\n",
       "      <td>0.908</td>\n",
       "    </tr>\n",
       "    <tr>\n",
       "      <th>support</th>\n",
       "      <td>719.000</td>\n",
       "      <td>82.000</td>\n",
       "      <td>801.000</td>\n",
       "      <td>801.000</td>\n",
       "      <td>801.000</td>\n",
       "    </tr>\n",
       "  </tbody>\n",
       "</table>\n",
       "</div>"
      ],
      "text/plain": [
       "               0.0     1.0  micro avg  macro avg  weighted avg\n",
       "f1-score     0.948   0.606      0.908      0.777         0.913\n",
       "precision    0.964   0.538      0.908      0.751         0.920\n",
       "recall       0.932   0.695      0.908      0.813         0.908\n",
       "support    719.000  82.000    801.000    801.000       801.000"
      ]
     },
     "metadata": {},
     "output_type": "display_data"
    },
    {
     "name": "stdout",
     "output_type": "stream",
     "text": [
      "Model Saved on  roc_auc 0.8849180772753484\n"
     ]
    },
    {
     "data": {
      "application/vnd.jupyter.widget-view+json": {
       "model_id": "54e7fd0b47e9490dad55b8c394ab6f62",
       "version_major": 2,
       "version_minor": 0
      },
      "text/plain": [
       "HBox(children=(IntProgress(value=0, max=229), HTML(value='')))"
      ]
     },
     "metadata": {},
     "output_type": "display_data"
    },
    {
     "data": {
      "application/vnd.jupyter.widget-view+json": {
       "model_id": "a4d3c2bfc9d345beacf2a299d72e1f70",
       "version_major": 2,
       "version_minor": 0
      },
      "text/plain": [
       "HBox(children=(IntProgress(value=0, max=51), HTML(value='')))"
      ]
     },
     "metadata": {},
     "output_type": "display_data"
    },
    {
     "name": "stdout",
     "output_type": "stream",
     "text": [
      "{'accuracy': 0.8863920099875156, 'roc_auc': 0.8760303945181315, 'pr_auc': 0.5692091071788756}\n"
     ]
    },
    {
     "data": {
      "text/html": [
       "<div>\n",
       "<style scoped>\n",
       "    .dataframe tbody tr th:only-of-type {\n",
       "        vertical-align: middle;\n",
       "    }\n",
       "\n",
       "    .dataframe tbody tr th {\n",
       "        vertical-align: top;\n",
       "    }\n",
       "\n",
       "    .dataframe thead th {\n",
       "        text-align: right;\n",
       "    }\n",
       "</style>\n",
       "<table border=\"1\" class=\"dataframe\">\n",
       "  <thead>\n",
       "    <tr style=\"text-align: right;\">\n",
       "      <th></th>\n",
       "      <th>0.0</th>\n",
       "      <th>1.0</th>\n",
       "      <th>micro avg</th>\n",
       "      <th>macro avg</th>\n",
       "      <th>weighted avg</th>\n",
       "    </tr>\n",
       "  </thead>\n",
       "  <tbody>\n",
       "    <tr>\n",
       "      <th>f1-score</th>\n",
       "      <td>0.935</td>\n",
       "      <td>0.569</td>\n",
       "      <td>0.886</td>\n",
       "      <td>0.752</td>\n",
       "      <td>0.897</td>\n",
       "    </tr>\n",
       "    <tr>\n",
       "      <th>precision</th>\n",
       "      <td>0.967</td>\n",
       "      <td>0.465</td>\n",
       "      <td>0.886</td>\n",
       "      <td>0.716</td>\n",
       "      <td>0.916</td>\n",
       "    </tr>\n",
       "    <tr>\n",
       "      <th>recall</th>\n",
       "      <td>0.904</td>\n",
       "      <td>0.732</td>\n",
       "      <td>0.886</td>\n",
       "      <td>0.818</td>\n",
       "      <td>0.886</td>\n",
       "    </tr>\n",
       "    <tr>\n",
       "      <th>support</th>\n",
       "      <td>719.000</td>\n",
       "      <td>82.000</td>\n",
       "      <td>801.000</td>\n",
       "      <td>801.000</td>\n",
       "      <td>801.000</td>\n",
       "    </tr>\n",
       "  </tbody>\n",
       "</table>\n",
       "</div>"
      ],
      "text/plain": [
       "               0.0     1.0  micro avg  macro avg  weighted avg\n",
       "f1-score     0.935   0.569      0.886      0.752         0.897\n",
       "precision    0.967   0.465      0.886      0.716         0.916\n",
       "recall       0.904   0.732      0.886      0.818         0.886\n",
       "support    719.000  82.000    801.000    801.000       801.000"
      ]
     },
     "metadata": {},
     "output_type": "display_data"
    },
    {
     "name": "stdout",
     "output_type": "stream",
     "text": [
      "Model not saved on  roc_auc 0.8760303945181315\n"
     ]
    },
    {
     "data": {
      "application/vnd.jupyter.widget-view+json": {
       "model_id": "11e59c4217c64294b5eff948927db6ec",
       "version_major": 2,
       "version_minor": 0
      },
      "text/plain": [
       "HBox(children=(IntProgress(value=0, max=229), HTML(value='')))"
      ]
     },
     "metadata": {},
     "output_type": "display_data"
    },
    {
     "data": {
      "application/vnd.jupyter.widget-view+json": {
       "model_id": "505e6b139e904b3291840ea6ee24a7ad",
       "version_major": 2,
       "version_minor": 0
      },
      "text/plain": [
       "HBox(children=(IntProgress(value=0, max=51), HTML(value='')))"
      ]
     },
     "metadata": {},
     "output_type": "display_data"
    },
    {
     "name": "stdout",
     "output_type": "stream",
     "text": [
      "{'accuracy': 0.9101123595505618, 'roc_auc': 0.8749957596933411, 'pr_auc': 0.5607510274830638}\n"
     ]
    },
    {
     "data": {
      "text/html": [
       "<div>\n",
       "<style scoped>\n",
       "    .dataframe tbody tr th:only-of-type {\n",
       "        vertical-align: middle;\n",
       "    }\n",
       "\n",
       "    .dataframe tbody tr th {\n",
       "        vertical-align: top;\n",
       "    }\n",
       "\n",
       "    .dataframe thead th {\n",
       "        text-align: right;\n",
       "    }\n",
       "</style>\n",
       "<table border=\"1\" class=\"dataframe\">\n",
       "  <thead>\n",
       "    <tr style=\"text-align: right;\">\n",
       "      <th></th>\n",
       "      <th>0.0</th>\n",
       "      <th>1.0</th>\n",
       "      <th>micro avg</th>\n",
       "      <th>macro avg</th>\n",
       "      <th>weighted avg</th>\n",
       "    </tr>\n",
       "  </thead>\n",
       "  <tbody>\n",
       "    <tr>\n",
       "      <th>f1-score</th>\n",
       "      <td>0.950</td>\n",
       "      <td>0.556</td>\n",
       "      <td>0.91</td>\n",
       "      <td>0.753</td>\n",
       "      <td>0.910</td>\n",
       "    </tr>\n",
       "    <tr>\n",
       "      <th>precision</th>\n",
       "      <td>0.949</td>\n",
       "      <td>0.562</td>\n",
       "      <td>0.91</td>\n",
       "      <td>0.756</td>\n",
       "      <td>0.909</td>\n",
       "    </tr>\n",
       "    <tr>\n",
       "      <th>recall</th>\n",
       "      <td>0.951</td>\n",
       "      <td>0.549</td>\n",
       "      <td>0.91</td>\n",
       "      <td>0.750</td>\n",
       "      <td>0.910</td>\n",
       "    </tr>\n",
       "    <tr>\n",
       "      <th>support</th>\n",
       "      <td>719.000</td>\n",
       "      <td>82.000</td>\n",
       "      <td>801.00</td>\n",
       "      <td>801.000</td>\n",
       "      <td>801.000</td>\n",
       "    </tr>\n",
       "  </tbody>\n",
       "</table>\n",
       "</div>"
      ],
      "text/plain": [
       "               0.0     1.0  micro avg  macro avg  weighted avg\n",
       "f1-score     0.950   0.556       0.91      0.753         0.910\n",
       "precision    0.949   0.562       0.91      0.756         0.909\n",
       "recall       0.951   0.549       0.91      0.750         0.910\n",
       "support    719.000  82.000     801.00    801.000       801.000"
      ]
     },
     "metadata": {},
     "output_type": "display_data"
    },
    {
     "name": "stdout",
     "output_type": "stream",
     "text": [
      "Model not saved on  roc_auc 0.8749957596933411\n"
     ]
    },
    {
     "data": {
      "application/vnd.jupyter.widget-view+json": {
       "model_id": "d98733c3c22e43cea6aad0781394c783",
       "version_major": 2,
       "version_minor": 0
      },
      "text/plain": [
       "HBox(children=(IntProgress(value=0, max=229), HTML(value='')))"
      ]
     },
     "metadata": {},
     "output_type": "display_data"
    },
    {
     "data": {
      "application/vnd.jupyter.widget-view+json": {
       "model_id": "046b1ae07aef40048a527378060770bc",
       "version_major": 2,
       "version_minor": 0
      },
      "text/plain": [
       "HBox(children=(IntProgress(value=0, max=51), HTML(value='')))"
      ]
     },
     "metadata": {},
     "output_type": "display_data"
    },
    {
     "name": "stdout",
     "output_type": "stream",
     "text": [
      "{'accuracy': 0.8564294631710362, 'roc_auc': 0.853438040639099, 'pr_auc': 0.5016695276389271}\n"
     ]
    },
    {
     "data": {
      "text/html": [
       "<div>\n",
       "<style scoped>\n",
       "    .dataframe tbody tr th:only-of-type {\n",
       "        vertical-align: middle;\n",
       "    }\n",
       "\n",
       "    .dataframe tbody tr th {\n",
       "        vertical-align: top;\n",
       "    }\n",
       "\n",
       "    .dataframe thead th {\n",
       "        text-align: right;\n",
       "    }\n",
       "</style>\n",
       "<table border=\"1\" class=\"dataframe\">\n",
       "  <thead>\n",
       "    <tr style=\"text-align: right;\">\n",
       "      <th></th>\n",
       "      <th>0.0</th>\n",
       "      <th>1.0</th>\n",
       "      <th>micro avg</th>\n",
       "      <th>macro avg</th>\n",
       "      <th>weighted avg</th>\n",
       "    </tr>\n",
       "  </thead>\n",
       "  <tbody>\n",
       "    <tr>\n",
       "      <th>f1-score</th>\n",
       "      <td>0.917</td>\n",
       "      <td>0.484</td>\n",
       "      <td>0.856</td>\n",
       "      <td>0.700</td>\n",
       "      <td>0.872</td>\n",
       "    </tr>\n",
       "    <tr>\n",
       "      <th>precision</th>\n",
       "      <td>0.958</td>\n",
       "      <td>0.383</td>\n",
       "      <td>0.856</td>\n",
       "      <td>0.670</td>\n",
       "      <td>0.899</td>\n",
       "    </tr>\n",
       "    <tr>\n",
       "      <th>recall</th>\n",
       "      <td>0.879</td>\n",
       "      <td>0.659</td>\n",
       "      <td>0.856</td>\n",
       "      <td>0.769</td>\n",
       "      <td>0.856</td>\n",
       "    </tr>\n",
       "    <tr>\n",
       "      <th>support</th>\n",
       "      <td>719.000</td>\n",
       "      <td>82.000</td>\n",
       "      <td>801.000</td>\n",
       "      <td>801.000</td>\n",
       "      <td>801.000</td>\n",
       "    </tr>\n",
       "  </tbody>\n",
       "</table>\n",
       "</div>"
      ],
      "text/plain": [
       "               0.0     1.0  micro avg  macro avg  weighted avg\n",
       "f1-score     0.917   0.484      0.856      0.700         0.872\n",
       "precision    0.958   0.383      0.856      0.670         0.899\n",
       "recall       0.879   0.659      0.856      0.769         0.856\n",
       "support    719.000  82.000    801.000    801.000       801.000"
      ]
     },
     "metadata": {},
     "output_type": "display_data"
    },
    {
     "name": "stderr",
     "output_type": "stream",
     "text": [
      "INFO - 2019-03-26 14:31:16,279 - instantiating class <class 'PatientVec.models.Model.Model'> from params {'type': 'seq_classifier_with_attention', 'embedder': {'type': 'token_embedder', 'vocab_size': 18542, 'embed_size': 200, 'embedding_file': '../../../SurgeryData/PatientVec/preprocess/KneeSurgery/1_yrs/embedding_matrix.npy'}, 'decoder': {'num_layers': 2, 'hidden_dims': [128, 1], 'activations': ['tanh', 'linear']}, 'predictor': {'type': 'binary'}, 'structured': {'use_structured': False}, 'encoder': {'type': 'cnn', 'hidden_size': 64, 'kernel_sizes': [3, 5, 7, 9], 'activation': 'relu'}, 'attention': {'similarity': {'type': 'additive', 'hidden_size': 128}}} and extras {}\n",
      "INFO - 2019-03-26 14:31:16,279 - type = seq_classifier_with_attention\n",
      "INFO - 2019-03-26 14:31:16,280 - instantiating class <class 'PatientVec.models.modules.Embedder.Embedder'> from params {'type': 'token_embedder', 'vocab_size': 18542, 'embed_size': 200, 'embedding_file': '../../../SurgeryData/PatientVec/preprocess/KneeSurgery/1_yrs/embedding_matrix.npy'} and extras {}\n",
      "INFO - 2019-03-26 14:31:16,280 - embedder.type = token_embedder\n",
      "INFO - 2019-03-26 14:31:16,280 - instantiating class <class 'PatientVec.models.modules.Embedder.TokenEmbedder'> from params {'vocab_size': 18542, 'embed_size': 200, 'embedding_file': '../../../SurgeryData/PatientVec/preprocess/KneeSurgery/1_yrs/embedding_matrix.npy'} and extras {}\n",
      "INFO - 2019-03-26 14:31:16,281 - embedder.vocab_size = 18542\n",
      "INFO - 2019-03-26 14:31:16,281 - embedder.embed_size = 200\n",
      "INFO - 2019-03-26 14:31:16,281 - embedder.embedding_file = ../../../SurgeryData/PatientVec/preprocess/KneeSurgery/1_yrs/embedding_matrix.npy\n",
      "INFO - 2019-03-26 14:31:16,289 - instantiating class <class 'PatientVec.models.modules.Encoder.Encoder'> from params {'type': 'cnn', 'hidden_size': 64, 'kernel_sizes': [3, 5, 7, 9], 'activation': 'relu'} and extras {'input_size': 200}\n",
      "INFO - 2019-03-26 14:31:16,289 - encoder.type = cnn\n",
      "INFO - 2019-03-26 14:31:16,290 - instantiating class <class 'PatientVec.models.modules.Encoder.CNNEncoder'> from params {'hidden_size': 64, 'kernel_sizes': [3, 5, 7, 9], 'activation': 'relu'} and extras {'input_size': 200}\n",
      "INFO - 2019-03-26 14:31:16,290 - encoder.hidden_size = 64\n",
      "INFO - 2019-03-26 14:31:16,290 - encoder.kernel_sizes = [3, 5, 7, 9]\n",
      "INFO - 2019-03-26 14:31:16,291 - encoder.activation = relu\n",
      "INFO - 2019-03-26 14:31:16,293 - instantiating class <class 'PatientVec.models.modules.SelfAttention.SelfAttention'> from params {'similarity': {'type': 'additive', 'hidden_size': 128, 'tensor_1_dim': 256}} and extras {}\n",
      "INFO - 2019-03-26 14:31:16,294 - instantiating class <class 'PatientVec.models.modules.UniSimilarity.UniSimilarity'> from params {'type': 'additive', 'hidden_size': 128, 'tensor_1_dim': 256} and extras {}\n",
      "INFO - 2019-03-26 14:31:16,294 - attention.similarity.type = additive\n",
      "INFO - 2019-03-26 14:31:16,294 - instantiating class <class 'PatientVec.models.modules.UniSimilarity.UniAdditiveSimilarity'> from params {'hidden_size': 128, 'tensor_1_dim': 256} and extras {}\n",
      "INFO - 2019-03-26 14:31:16,294 - attention.similarity.tensor_1_dim = 256\n",
      "INFO - 2019-03-26 14:31:16,295 - attention.similarity.hidden_size = 128\n",
      "INFO - 2019-03-26 14:31:16,295 - attention.similarity.output_size = 1\n",
      "INFO - 2019-03-26 14:31:16,296 - attention.normaliser = softmax\n",
      "INFO - 2019-03-26 14:31:16,296 - decoder.input_dim = 256\n",
      "INFO - 2019-03-26 14:31:16,297 - decoder.num_layers = 2\n",
      "INFO - 2019-03-26 14:31:16,297 - decoder.hidden_dims = [128, 1]\n",
      "INFO - 2019-03-26 14:31:16,297 - decoder.activations = ['tanh', 'linear']\n",
      "INFO - 2019-03-26 14:31:16,297 - decoder.dropout = 0.0\n",
      "INFO - 2019-03-26 14:31:16,299 - instantiating class <class 'PatientVec.models.modules.Predictor.Predictor'> from params {'type': 'binary'} and extras {}\n",
      "INFO - 2019-03-26 14:31:16,299 - predictor.type = binary\n",
      "INFO - 2019-03-26 14:31:16,299 - instantiating class <class 'PatientVec.models.modules.Predictor.Binary_Predictor'> from params {} and extras {}\n",
      "INFO - 2019-03-26 14:31:16,299 - predictor.replicate = False\n",
      "INFO - 2019-03-26 14:31:16,300 - predictor.alpha = 0.5\n"
     ]
    },
    {
     "name": "stdout",
     "output_type": "stream",
     "text": [
      "Model not saved on  roc_auc 0.853438040639099\n",
      "0.8849180772753484 deque([0.8760303945181315, 0.8749957596933411, 0.853438040639099], maxlen=3)\n",
      "\n",
      "Setting Embedding\n"
     ]
    },
    {
     "data": {
      "application/vnd.jupyter.widget-view+json": {
       "model_id": "f5fad2a8c01342788d2e5d7048840fe6",
       "version_major": 2,
       "version_minor": 0
      },
      "text/plain": [
       "HBox(children=(IntProgress(value=0, max=51), HTML(value='')))"
      ]
     },
     "metadata": {},
     "output_type": "display_data"
    },
    {
     "name": "stdout",
     "output_type": "stream",
     "text": [
      "\n",
      "{'accuracy': 0.9076154806491885, 'roc_auc': 0.8849180772753484, 'pr_auc': 0.5438664168036659}\n"
     ]
    },
    {
     "data": {
      "text/html": [
       "<div>\n",
       "<style scoped>\n",
       "    .dataframe tbody tr th:only-of-type {\n",
       "        vertical-align: middle;\n",
       "    }\n",
       "\n",
       "    .dataframe tbody tr th {\n",
       "        vertical-align: top;\n",
       "    }\n",
       "\n",
       "    .dataframe thead th {\n",
       "        text-align: right;\n",
       "    }\n",
       "</style>\n",
       "<table border=\"1\" class=\"dataframe\">\n",
       "  <thead>\n",
       "    <tr style=\"text-align: right;\">\n",
       "      <th></th>\n",
       "      <th>0.0</th>\n",
       "      <th>1.0</th>\n",
       "      <th>micro avg</th>\n",
       "      <th>macro avg</th>\n",
       "      <th>weighted avg</th>\n",
       "    </tr>\n",
       "  </thead>\n",
       "  <tbody>\n",
       "    <tr>\n",
       "      <th>f1-score</th>\n",
       "      <td>0.948</td>\n",
       "      <td>0.606</td>\n",
       "      <td>0.908</td>\n",
       "      <td>0.777</td>\n",
       "      <td>0.913</td>\n",
       "    </tr>\n",
       "    <tr>\n",
       "      <th>precision</th>\n",
       "      <td>0.964</td>\n",
       "      <td>0.538</td>\n",
       "      <td>0.908</td>\n",
       "      <td>0.751</td>\n",
       "      <td>0.920</td>\n",
       "    </tr>\n",
       "    <tr>\n",
       "      <th>recall</th>\n",
       "      <td>0.932</td>\n",
       "      <td>0.695</td>\n",
       "      <td>0.908</td>\n",
       "      <td>0.813</td>\n",
       "      <td>0.908</td>\n",
       "    </tr>\n",
       "    <tr>\n",
       "      <th>support</th>\n",
       "      <td>719.000</td>\n",
       "      <td>82.000</td>\n",
       "      <td>801.000</td>\n",
       "      <td>801.000</td>\n",
       "      <td>801.000</td>\n",
       "    </tr>\n",
       "  </tbody>\n",
       "</table>\n",
       "</div>"
      ],
      "text/plain": [
       "               0.0     1.0  micro avg  macro avg  weighted avg\n",
       "f1-score     0.948   0.606      0.908      0.777         0.913\n",
       "precision    0.964   0.538      0.908      0.751         0.920\n",
       "recall       0.932   0.695      0.908      0.813         0.908\n",
       "support    719.000  82.000    801.000    801.000       801.000"
      ]
     },
     "metadata": {},
     "output_type": "display_data"
    },
    {
     "name": "stderr",
     "output_type": "stream",
     "text": [
      "INFO - 2019-03-26 14:31:23,029 - Reading Structured data ...\n"
     ]
    },
    {
     "name": "stdout",
     "output_type": "stream",
     "text": [
      "============================================================================================================================================================================================================================================================================================================\n"
     ]
    },
    {
     "name": "stderr",
     "output_type": "stream",
     "text": [
      "INFO - 2019-03-26 14:31:23,191 - Reading Notes ...\n",
      "INFO - 2019-03-26 14:31:24,273 - Stratifying ...\n"
     ]
    },
    {
     "name": "stdout",
     "output_type": "stream",
     "text": [
      "Pos Percentage [0.10104053]\n"
     ]
    },
    {
     "name": "stderr",
     "output_type": "stream",
     "text": [
      "INFO - 2019-03-26 14:31:24,820 - Maximum Sentence Length 169921.000000 , 90 percentile length 19951.000000 ... \n",
      "INFO - 2019-03-26 14:31:25,587 - Truncated all ...\n",
      "INFO - 2019-03-26 14:31:25,591 - Idxs removed []...\n",
      "INFO - 2019-03-26 14:31:25,733 - Maximum Sentence Length 55858.000000 , 90 percentile length 19968.000000 ... \n"
     ]
    },
    {
     "name": "stdout",
     "output_type": "stream",
     "text": [
      "Pos Percentage [0.10237203]\n"
     ]
    },
    {
     "name": "stderr",
     "output_type": "stream",
     "text": [
      "INFO - 2019-03-26 14:31:25,872 - Truncated all ...\n",
      "INFO - 2019-03-26 14:31:25,874 - Idxs removed []...\n",
      "INFO - 2019-03-26 14:31:25,888 - instantiating class <class 'PatientVec.models.Model.Model'> from params {'type': 'seq_classifier', 'embedder': {'type': 'token_embedder', 'vocab_size': 18542, 'embed_size': 200, 'embedding_file': '../../../SurgeryData/PatientVec/preprocess/KneeSurgery/1_yrs/embedding_matrix.npy'}, 'decoder': {'num_layers': 2, 'hidden_dims': [128, 1], 'activations': ['tanh', 'linear']}, 'predictor': {'type': 'binary'}, 'structured': {'use_structured': False}, 'encoder': {'type': 'lstm', 'hidden_size': 128}} and extras {}\n",
      "INFO - 2019-03-26 14:31:25,889 - type = seq_classifier\n",
      "INFO - 2019-03-26 14:31:25,889 - instantiating class <class 'PatientVec.models.modules.Embedder.Embedder'> from params {'type': 'token_embedder', 'vocab_size': 18542, 'embed_size': 200, 'embedding_file': '../../../SurgeryData/PatientVec/preprocess/KneeSurgery/1_yrs/embedding_matrix.npy'} and extras {}\n",
      "INFO - 2019-03-26 14:31:25,890 - embedder.type = token_embedder\n",
      "INFO - 2019-03-26 14:31:25,890 - instantiating class <class 'PatientVec.models.modules.Embedder.TokenEmbedder'> from params {'vocab_size': 18542, 'embed_size': 200, 'embedding_file': '../../../SurgeryData/PatientVec/preprocess/KneeSurgery/1_yrs/embedding_matrix.npy'} and extras {}\n",
      "INFO - 2019-03-26 14:31:25,891 - embedder.vocab_size = 18542\n",
      "INFO - 2019-03-26 14:31:25,891 - embedder.embed_size = 200\n",
      "INFO - 2019-03-26 14:31:25,891 - embedder.embedding_file = ../../../SurgeryData/PatientVec/preprocess/KneeSurgery/1_yrs/embedding_matrix.npy\n",
      "INFO - 2019-03-26 14:31:25,900 - instantiating class <class 'PatientVec.models.modules.Encoder.Encoder'> from params {'type': 'lstm', 'hidden_size': 128} and extras {'input_size': 200}\n",
      "INFO - 2019-03-26 14:31:25,900 - encoder.type = lstm\n",
      "INFO - 2019-03-26 14:31:25,901 - instantiating class <class 'PatientVec.models.modules.Encoder.wrap_pytorch_rnn.<locals>.BiRNNEncoder'> from params {'hidden_size': 128} and extras {'input_size': 200}\n",
      "INFO - 2019-03-26 14:31:25,901 - encoder.hidden_size = 128\n",
      "INFO - 2019-03-26 14:31:25,904 - decoder.input_dim = 256\n",
      "INFO - 2019-03-26 14:31:25,904 - decoder.num_layers = 2\n",
      "INFO - 2019-03-26 14:31:25,904 - decoder.hidden_dims = [128, 1]\n",
      "INFO - 2019-03-26 14:31:25,904 - decoder.activations = ['tanh', 'linear']\n",
      "INFO - 2019-03-26 14:31:25,905 - decoder.dropout = 0.0\n",
      "INFO - 2019-03-26 14:31:25,906 - instantiating class <class 'PatientVec.models.modules.Predictor.Predictor'> from params {'type': 'binary'} and extras {}\n",
      "INFO - 2019-03-26 14:31:25,906 - predictor.type = binary\n",
      "INFO - 2019-03-26 14:31:25,906 - instantiating class <class 'PatientVec.models.modules.Predictor.Binary_Predictor'> from params {} and extras {}\n",
      "INFO - 2019-03-26 14:31:25,907 - predictor.replicate = False\n",
      "INFO - 2019-03-26 14:31:25,907 - predictor.alpha = 0.5\n"
     ]
    },
    {
     "name": "stdout",
     "output_type": "stream",
     "text": [
      "{'model': {'type': 'seq_classifier', 'embedder': {'type': 'token_embedder', 'vocab_size': 18542, 'embed_size': 200, 'embedding_file': '../../../SurgeryData/PatientVec/preprocess/KneeSurgery/1_yrs/embedding_matrix.npy'}, 'decoder': {'num_layers': 2, 'hidden_dims': [128, 1], 'activations': ['tanh', 'linear']}, 'predictor': {'type': 'binary'}, 'structured': {'use_structured': False}, 'encoder': {'type': 'lstm', 'hidden_size': 128}}, 'training_config': {'type': 'Adam', 'groups': [('.*', {'lr': 0.001, 'weight_decay': 1e-05})], 'common': {'bsize': 16, 'class_weight': True}}, 'exp_config': {'exp_name': 'KneeSurgery_1/Basic/LSTM(hs=128)', 'basepath': 'outputs/confidence'}}\n",
      "Setting Embedding\n"
     ]
    },
    {
     "data": {
      "application/vnd.jupyter.widget-view+json": {
       "model_id": "97bfe0b599454a5a8f5ffb05aa92bd61",
       "version_major": 2,
       "version_minor": 0
      },
      "text/plain": [
       "HBox(children=(IntProgress(value=0, max=8), HTML(value='')))"
      ]
     },
     "metadata": {},
     "output_type": "display_data"
    },
    {
     "data": {
      "application/vnd.jupyter.widget-view+json": {
       "model_id": "04b4b160a1004b4ea98f665df4ce2fe9",
       "version_major": 2,
       "version_minor": 0
      },
      "text/plain": [
       "HBox(children=(IntProgress(value=0, max=229), HTML(value='')))"
      ]
     },
     "metadata": {},
     "output_type": "display_data"
    },
    {
     "data": {
      "application/vnd.jupyter.widget-view+json": {
       "model_id": "deef8fefa8df41079eecb8855aaf68e9",
       "version_major": 2,
       "version_minor": 0
      },
      "text/plain": [
       "HBox(children=(IntProgress(value=0, max=51), HTML(value='')))"
      ]
     },
     "metadata": {},
     "output_type": "display_data"
    },
    {
     "name": "stdout",
     "output_type": "stream",
     "text": [
      "{'accuracy': 0.5543071161048689, 'roc_auc': 0.5545557854744054, 'pr_auc': 0.11828848449171761}\n"
     ]
    },
    {
     "data": {
      "text/html": [
       "<div>\n",
       "<style scoped>\n",
       "    .dataframe tbody tr th:only-of-type {\n",
       "        vertical-align: middle;\n",
       "    }\n",
       "\n",
       "    .dataframe tbody tr th {\n",
       "        vertical-align: top;\n",
       "    }\n",
       "\n",
       "    .dataframe thead th {\n",
       "        text-align: right;\n",
       "    }\n",
       "</style>\n",
       "<table border=\"1\" class=\"dataframe\">\n",
       "  <thead>\n",
       "    <tr style=\"text-align: right;\">\n",
       "      <th></th>\n",
       "      <th>0.0</th>\n",
       "      <th>1.0</th>\n",
       "      <th>micro avg</th>\n",
       "      <th>macro avg</th>\n",
       "      <th>weighted avg</th>\n",
       "    </tr>\n",
       "  </thead>\n",
       "  <tbody>\n",
       "    <tr>\n",
       "      <th>f1-score</th>\n",
       "      <td>0.693</td>\n",
       "      <td>0.187</td>\n",
       "      <td>0.554</td>\n",
       "      <td>0.440</td>\n",
       "      <td>0.641</td>\n",
       "    </tr>\n",
       "    <tr>\n",
       "      <th>precision</th>\n",
       "      <td>0.908</td>\n",
       "      <td>0.115</td>\n",
       "      <td>0.554</td>\n",
       "      <td>0.511</td>\n",
       "      <td>0.826</td>\n",
       "    </tr>\n",
       "    <tr>\n",
       "      <th>recall</th>\n",
       "      <td>0.561</td>\n",
       "      <td>0.500</td>\n",
       "      <td>0.554</td>\n",
       "      <td>0.530</td>\n",
       "      <td>0.554</td>\n",
       "    </tr>\n",
       "    <tr>\n",
       "      <th>support</th>\n",
       "      <td>719.000</td>\n",
       "      <td>82.000</td>\n",
       "      <td>801.000</td>\n",
       "      <td>801.000</td>\n",
       "      <td>801.000</td>\n",
       "    </tr>\n",
       "  </tbody>\n",
       "</table>\n",
       "</div>"
      ],
      "text/plain": [
       "               0.0     1.0  micro avg  macro avg  weighted avg\n",
       "f1-score     0.693   0.187      0.554      0.440         0.641\n",
       "precision    0.908   0.115      0.554      0.511         0.826\n",
       "recall       0.561   0.500      0.554      0.530         0.554\n",
       "support    719.000  82.000    801.000    801.000       801.000"
      ]
     },
     "metadata": {},
     "output_type": "display_data"
    },
    {
     "name": "stdout",
     "output_type": "stream",
     "text": [
      "Model Saved on  roc_auc 0.5545557854744054\n"
     ]
    },
    {
     "data": {
      "application/vnd.jupyter.widget-view+json": {
       "model_id": "659d44848581439983347a09b8a7f63e",
       "version_major": 2,
       "version_minor": 0
      },
      "text/plain": [
       "HBox(children=(IntProgress(value=0, max=229), HTML(value='')))"
      ]
     },
     "metadata": {},
     "output_type": "display_data"
    },
    {
     "data": {
      "application/vnd.jupyter.widget-view+json": {
       "model_id": "31a196c401f646a0bbee1d322f3564d4",
       "version_major": 2,
       "version_minor": 0
      },
      "text/plain": [
       "HBox(children=(IntProgress(value=0, max=51), HTML(value='')))"
      ]
     },
     "metadata": {},
     "output_type": "display_data"
    },
    {
     "name": "stdout",
     "output_type": "stream",
     "text": [
      "{'accuracy': 0.7852684144818977, 'roc_auc': 0.6261491231045829, 'pr_auc': 0.14880879699029023}\n"
     ]
    },
    {
     "data": {
      "text/html": [
       "<div>\n",
       "<style scoped>\n",
       "    .dataframe tbody tr th:only-of-type {\n",
       "        vertical-align: middle;\n",
       "    }\n",
       "\n",
       "    .dataframe tbody tr th {\n",
       "        vertical-align: top;\n",
       "    }\n",
       "\n",
       "    .dataframe thead th {\n",
       "        text-align: right;\n",
       "    }\n",
       "</style>\n",
       "<table border=\"1\" class=\"dataframe\">\n",
       "  <thead>\n",
       "    <tr style=\"text-align: right;\">\n",
       "      <th></th>\n",
       "      <th>0.0</th>\n",
       "      <th>1.0</th>\n",
       "      <th>micro avg</th>\n",
       "      <th>macro avg</th>\n",
       "      <th>weighted avg</th>\n",
       "    </tr>\n",
       "  </thead>\n",
       "  <tbody>\n",
       "    <tr>\n",
       "      <th>f1-score</th>\n",
       "      <td>0.876</td>\n",
       "      <td>0.211</td>\n",
       "      <td>0.785</td>\n",
       "      <td>0.543</td>\n",
       "      <td>0.808</td>\n",
       "    </tr>\n",
       "    <tr>\n",
       "      <th>precision</th>\n",
       "      <td>0.911</td>\n",
       "      <td>0.169</td>\n",
       "      <td>0.785</td>\n",
       "      <td>0.540</td>\n",
       "      <td>0.835</td>\n",
       "    </tr>\n",
       "    <tr>\n",
       "      <th>recall</th>\n",
       "      <td>0.843</td>\n",
       "      <td>0.280</td>\n",
       "      <td>0.785</td>\n",
       "      <td>0.562</td>\n",
       "      <td>0.785</td>\n",
       "    </tr>\n",
       "    <tr>\n",
       "      <th>support</th>\n",
       "      <td>719.000</td>\n",
       "      <td>82.000</td>\n",
       "      <td>801.000</td>\n",
       "      <td>801.000</td>\n",
       "      <td>801.000</td>\n",
       "    </tr>\n",
       "  </tbody>\n",
       "</table>\n",
       "</div>"
      ],
      "text/plain": [
       "               0.0     1.0  micro avg  macro avg  weighted avg\n",
       "f1-score     0.876   0.211      0.785      0.543         0.808\n",
       "precision    0.911   0.169      0.785      0.540         0.835\n",
       "recall       0.843   0.280      0.785      0.562         0.785\n",
       "support    719.000  82.000    801.000    801.000       801.000"
      ]
     },
     "metadata": {},
     "output_type": "display_data"
    },
    {
     "name": "stdout",
     "output_type": "stream",
     "text": [
      "Model Saved on  roc_auc 0.6261491231045829\n"
     ]
    },
    {
     "data": {
      "application/vnd.jupyter.widget-view+json": {
       "model_id": "f9f6403b9bb34e6b8be443f075d5f296",
       "version_major": 2,
       "version_minor": 0
      },
      "text/plain": [
       "HBox(children=(IntProgress(value=0, max=229), HTML(value='')))"
      ]
     },
     "metadata": {},
     "output_type": "display_data"
    },
    {
     "data": {
      "application/vnd.jupyter.widget-view+json": {
       "model_id": "351283a4726d41d6a5a30da7f9b6922b",
       "version_major": 2,
       "version_minor": 0
      },
      "text/plain": [
       "HBox(children=(IntProgress(value=0, max=51), HTML(value='')))"
      ]
     },
     "metadata": {},
     "output_type": "display_data"
    },
    {
     "name": "stdout",
     "output_type": "stream",
     "text": [
      "{'accuracy': 0.7915106117353309, 'roc_auc': 0.5604498117303844, 'pr_auc': 0.14694651516399837}\n"
     ]
    },
    {
     "data": {
      "text/html": [
       "<div>\n",
       "<style scoped>\n",
       "    .dataframe tbody tr th:only-of-type {\n",
       "        vertical-align: middle;\n",
       "    }\n",
       "\n",
       "    .dataframe tbody tr th {\n",
       "        vertical-align: top;\n",
       "    }\n",
       "\n",
       "    .dataframe thead th {\n",
       "        text-align: right;\n",
       "    }\n",
       "</style>\n",
       "<table border=\"1\" class=\"dataframe\">\n",
       "  <thead>\n",
       "    <tr style=\"text-align: right;\">\n",
       "      <th></th>\n",
       "      <th>0.0</th>\n",
       "      <th>1.0</th>\n",
       "      <th>micro avg</th>\n",
       "      <th>macro avg</th>\n",
       "      <th>weighted avg</th>\n",
       "    </tr>\n",
       "  </thead>\n",
       "  <tbody>\n",
       "    <tr>\n",
       "      <th>f1-score</th>\n",
       "      <td>0.881</td>\n",
       "      <td>0.152</td>\n",
       "      <td>0.792</td>\n",
       "      <td>0.517</td>\n",
       "      <td>0.807</td>\n",
       "    </tr>\n",
       "    <tr>\n",
       "      <th>precision</th>\n",
       "      <td>0.902</td>\n",
       "      <td>0.130</td>\n",
       "      <td>0.792</td>\n",
       "      <td>0.516</td>\n",
       "      <td>0.823</td>\n",
       "    </tr>\n",
       "    <tr>\n",
       "      <th>recall</th>\n",
       "      <td>0.861</td>\n",
       "      <td>0.183</td>\n",
       "      <td>0.792</td>\n",
       "      <td>0.522</td>\n",
       "      <td>0.792</td>\n",
       "    </tr>\n",
       "    <tr>\n",
       "      <th>support</th>\n",
       "      <td>719.000</td>\n",
       "      <td>82.000</td>\n",
       "      <td>801.000</td>\n",
       "      <td>801.000</td>\n",
       "      <td>801.000</td>\n",
       "    </tr>\n",
       "  </tbody>\n",
       "</table>\n",
       "</div>"
      ],
      "text/plain": [
       "               0.0     1.0  micro avg  macro avg  weighted avg\n",
       "f1-score     0.881   0.152      0.792      0.517         0.807\n",
       "precision    0.902   0.130      0.792      0.516         0.823\n",
       "recall       0.861   0.183      0.792      0.522         0.792\n",
       "support    719.000  82.000    801.000    801.000       801.000"
      ]
     },
     "metadata": {},
     "output_type": "display_data"
    },
    {
     "name": "stdout",
     "output_type": "stream",
     "text": [
      "Model not saved on  roc_auc 0.5604498117303844\n"
     ]
    },
    {
     "data": {
      "application/vnd.jupyter.widget-view+json": {
       "model_id": "1f39df7ad3fe400fb58a734de35c9703",
       "version_major": 2,
       "version_minor": 0
      },
      "text/plain": [
       "HBox(children=(IntProgress(value=0, max=229), HTML(value='')))"
      ]
     },
     "metadata": {},
     "output_type": "display_data"
    },
    {
     "data": {
      "application/vnd.jupyter.widget-view+json": {
       "model_id": "9b77ce1783f04bf8876b60d2d0ba6ca9",
       "version_major": 2,
       "version_minor": 0
      },
      "text/plain": [
       "HBox(children=(IntProgress(value=0, max=51), HTML(value='')))"
      ]
     },
     "metadata": {},
     "output_type": "display_data"
    },
    {
     "name": "stdout",
     "output_type": "stream",
     "text": [
      "{'accuracy': 0.5530586766541823, 'roc_auc': 0.579242850842973, 'pr_auc': 0.127858157511973}\n"
     ]
    },
    {
     "data": {
      "text/html": [
       "<div>\n",
       "<style scoped>\n",
       "    .dataframe tbody tr th:only-of-type {\n",
       "        vertical-align: middle;\n",
       "    }\n",
       "\n",
       "    .dataframe tbody tr th {\n",
       "        vertical-align: top;\n",
       "    }\n",
       "\n",
       "    .dataframe thead th {\n",
       "        text-align: right;\n",
       "    }\n",
       "</style>\n",
       "<table border=\"1\" class=\"dataframe\">\n",
       "  <thead>\n",
       "    <tr style=\"text-align: right;\">\n",
       "      <th></th>\n",
       "      <th>0.0</th>\n",
       "      <th>1.0</th>\n",
       "      <th>micro avg</th>\n",
       "      <th>macro avg</th>\n",
       "      <th>weighted avg</th>\n",
       "    </tr>\n",
       "  </thead>\n",
       "  <tbody>\n",
       "    <tr>\n",
       "      <th>f1-score</th>\n",
       "      <td>0.689</td>\n",
       "      <td>0.208</td>\n",
       "      <td>0.553</td>\n",
       "      <td>0.448</td>\n",
       "      <td>0.639</td>\n",
       "    </tr>\n",
       "    <tr>\n",
       "      <th>precision</th>\n",
       "      <td>0.919</td>\n",
       "      <td>0.127</td>\n",
       "      <td>0.553</td>\n",
       "      <td>0.523</td>\n",
       "      <td>0.838</td>\n",
       "    </tr>\n",
       "    <tr>\n",
       "      <th>recall</th>\n",
       "      <td>0.551</td>\n",
       "      <td>0.573</td>\n",
       "      <td>0.553</td>\n",
       "      <td>0.562</td>\n",
       "      <td>0.553</td>\n",
       "    </tr>\n",
       "    <tr>\n",
       "      <th>support</th>\n",
       "      <td>719.000</td>\n",
       "      <td>82.000</td>\n",
       "      <td>801.000</td>\n",
       "      <td>801.000</td>\n",
       "      <td>801.000</td>\n",
       "    </tr>\n",
       "  </tbody>\n",
       "</table>\n",
       "</div>"
      ],
      "text/plain": [
       "               0.0     1.0  micro avg  macro avg  weighted avg\n",
       "f1-score     0.689   0.208      0.553      0.448         0.639\n",
       "precision    0.919   0.127      0.553      0.523         0.838\n",
       "recall       0.551   0.573      0.553      0.562         0.553\n",
       "support    719.000  82.000    801.000    801.000       801.000"
      ]
     },
     "metadata": {},
     "output_type": "display_data"
    },
    {
     "name": "stdout",
     "output_type": "stream",
     "text": [
      "Model not saved on  roc_auc 0.579242850842973\n"
     ]
    },
    {
     "data": {
      "application/vnd.jupyter.widget-view+json": {
       "model_id": "3f78f5b6511a4a51bd4a6c8c9fc46b7e",
       "version_major": 2,
       "version_minor": 0
      },
      "text/plain": [
       "HBox(children=(IntProgress(value=0, max=229), HTML(value='')))"
      ]
     },
     "metadata": {},
     "output_type": "display_data"
    },
    {
     "data": {
      "application/vnd.jupyter.widget-view+json": {
       "model_id": "714476a8c7ac49a48de04df42fda7551",
       "version_major": 2,
       "version_minor": 0
      },
      "text/plain": [
       "HBox(children=(IntProgress(value=0, max=51), HTML(value='')))"
      ]
     },
     "metadata": {},
     "output_type": "display_data"
    },
    {
     "name": "stdout",
     "output_type": "stream",
     "text": [
      "{'accuracy': 0.8102372034956304, 'roc_auc': 0.5652922419349368, 'pr_auc': 0.13609221730577958}\n"
     ]
    },
    {
     "data": {
      "text/html": [
       "<div>\n",
       "<style scoped>\n",
       "    .dataframe tbody tr th:only-of-type {\n",
       "        vertical-align: middle;\n",
       "    }\n",
       "\n",
       "    .dataframe tbody tr th {\n",
       "        vertical-align: top;\n",
       "    }\n",
       "\n",
       "    .dataframe thead th {\n",
       "        text-align: right;\n",
       "    }\n",
       "</style>\n",
       "<table border=\"1\" class=\"dataframe\">\n",
       "  <thead>\n",
       "    <tr style=\"text-align: right;\">\n",
       "      <th></th>\n",
       "      <th>0.0</th>\n",
       "      <th>1.0</th>\n",
       "      <th>micro avg</th>\n",
       "      <th>macro avg</th>\n",
       "      <th>weighted avg</th>\n",
       "    </tr>\n",
       "  </thead>\n",
       "  <tbody>\n",
       "    <tr>\n",
       "      <th>f1-score</th>\n",
       "      <td>0.894</td>\n",
       "      <td>0.126</td>\n",
       "      <td>0.81</td>\n",
       "      <td>0.510</td>\n",
       "      <td>0.815</td>\n",
       "    </tr>\n",
       "    <tr>\n",
       "      <th>precision</th>\n",
       "      <td>0.900</td>\n",
       "      <td>0.120</td>\n",
       "      <td>0.81</td>\n",
       "      <td>0.510</td>\n",
       "      <td>0.820</td>\n",
       "    </tr>\n",
       "    <tr>\n",
       "      <th>recall</th>\n",
       "      <td>0.887</td>\n",
       "      <td>0.134</td>\n",
       "      <td>0.81</td>\n",
       "      <td>0.511</td>\n",
       "      <td>0.810</td>\n",
       "    </tr>\n",
       "    <tr>\n",
       "      <th>support</th>\n",
       "      <td>719.000</td>\n",
       "      <td>82.000</td>\n",
       "      <td>801.00</td>\n",
       "      <td>801.000</td>\n",
       "      <td>801.000</td>\n",
       "    </tr>\n",
       "  </tbody>\n",
       "</table>\n",
       "</div>"
      ],
      "text/plain": [
       "               0.0     1.0  micro avg  macro avg  weighted avg\n",
       "f1-score     0.894   0.126       0.81      0.510         0.815\n",
       "precision    0.900   0.120       0.81      0.510         0.820\n",
       "recall       0.887   0.134       0.81      0.511         0.810\n",
       "support    719.000  82.000     801.00    801.000       801.000"
      ]
     },
     "metadata": {},
     "output_type": "display_data"
    },
    {
     "name": "stderr",
     "output_type": "stream",
     "text": [
      "INFO - 2019-03-26 14:41:09,428 - instantiating class <class 'PatientVec.models.Model.Model'> from params {'type': 'seq_classifier', 'embedder': {'type': 'token_embedder', 'vocab_size': 18542, 'embed_size': 200, 'embedding_file': '../../../SurgeryData/PatientVec/preprocess/KneeSurgery/1_yrs/embedding_matrix.npy'}, 'decoder': {'num_layers': 2, 'hidden_dims': [128, 1], 'activations': ['tanh', 'linear']}, 'predictor': {'type': 'binary'}, 'structured': {'use_structured': False}, 'encoder': {'type': 'lstm', 'hidden_size': 128}} and extras {}\n",
      "INFO - 2019-03-26 14:41:09,429 - type = seq_classifier\n",
      "INFO - 2019-03-26 14:41:09,429 - instantiating class <class 'PatientVec.models.modules.Embedder.Embedder'> from params {'type': 'token_embedder', 'vocab_size': 18542, 'embed_size': 200, 'embedding_file': '../../../SurgeryData/PatientVec/preprocess/KneeSurgery/1_yrs/embedding_matrix.npy'} and extras {}\n",
      "INFO - 2019-03-26 14:41:09,429 - embedder.type = token_embedder\n",
      "INFO - 2019-03-26 14:41:09,429 - instantiating class <class 'PatientVec.models.modules.Embedder.TokenEmbedder'> from params {'vocab_size': 18542, 'embed_size': 200, 'embedding_file': '../../../SurgeryData/PatientVec/preprocess/KneeSurgery/1_yrs/embedding_matrix.npy'} and extras {}\n",
      "INFO - 2019-03-26 14:41:09,430 - embedder.vocab_size = 18542\n",
      "INFO - 2019-03-26 14:41:09,430 - embedder.embed_size = 200\n",
      "INFO - 2019-03-26 14:41:09,430 - embedder.embedding_file = ../../../SurgeryData/PatientVec/preprocess/KneeSurgery/1_yrs/embedding_matrix.npy\n",
      "INFO - 2019-03-26 14:41:09,438 - instantiating class <class 'PatientVec.models.modules.Encoder.Encoder'> from params {'type': 'lstm', 'hidden_size': 128} and extras {'input_size': 200}\n",
      "INFO - 2019-03-26 14:41:09,438 - encoder.type = lstm\n",
      "INFO - 2019-03-26 14:41:09,439 - instantiating class <class 'PatientVec.models.modules.Encoder.wrap_pytorch_rnn.<locals>.BiRNNEncoder'> from params {'hidden_size': 128} and extras {'input_size': 200}\n",
      "INFO - 2019-03-26 14:41:09,439 - encoder.hidden_size = 128\n",
      "INFO - 2019-03-26 14:41:09,441 - decoder.input_dim = 256\n",
      "INFO - 2019-03-26 14:41:09,441 - decoder.num_layers = 2\n",
      "INFO - 2019-03-26 14:41:09,442 - decoder.hidden_dims = [128, 1]\n",
      "INFO - 2019-03-26 14:41:09,442 - decoder.activations = ['tanh', 'linear']\n",
      "INFO - 2019-03-26 14:41:09,442 - decoder.dropout = 0.0\n",
      "INFO - 2019-03-26 14:41:09,443 - instantiating class <class 'PatientVec.models.modules.Predictor.Predictor'> from params {'type': 'binary'} and extras {}\n",
      "INFO - 2019-03-26 14:41:09,443 - predictor.type = binary\n",
      "INFO - 2019-03-26 14:41:09,444 - instantiating class <class 'PatientVec.models.modules.Predictor.Binary_Predictor'> from params {} and extras {}\n",
      "INFO - 2019-03-26 14:41:09,444 - predictor.replicate = False\n",
      "INFO - 2019-03-26 14:41:09,444 - predictor.alpha = 0.5\n"
     ]
    },
    {
     "name": "stdout",
     "output_type": "stream",
     "text": [
      "Model not saved on  roc_auc 0.5652922419349368\n",
      "0.6261491231045829 deque([0.5604498117303844, 0.579242850842973, 0.5652922419349368], maxlen=3)\n",
      "\n",
      "Setting Embedding\n"
     ]
    },
    {
     "data": {
      "application/vnd.jupyter.widget-view+json": {
       "model_id": "0e152d49ca10477cba5bf91049798da8",
       "version_major": 2,
       "version_minor": 0
      },
      "text/plain": [
       "HBox(children=(IntProgress(value=0, max=51), HTML(value='')))"
      ]
     },
     "metadata": {},
     "output_type": "display_data"
    },
    {
     "name": "stdout",
     "output_type": "stream",
     "text": [
      "\n",
      "{'accuracy': 0.7852684144818977, 'roc_auc': 0.6261491231045829, 'pr_auc': 0.14880879699029023}\n"
     ]
    },
    {
     "data": {
      "text/html": [
       "<div>\n",
       "<style scoped>\n",
       "    .dataframe tbody tr th:only-of-type {\n",
       "        vertical-align: middle;\n",
       "    }\n",
       "\n",
       "    .dataframe tbody tr th {\n",
       "        vertical-align: top;\n",
       "    }\n",
       "\n",
       "    .dataframe thead th {\n",
       "        text-align: right;\n",
       "    }\n",
       "</style>\n",
       "<table border=\"1\" class=\"dataframe\">\n",
       "  <thead>\n",
       "    <tr style=\"text-align: right;\">\n",
       "      <th></th>\n",
       "      <th>0.0</th>\n",
       "      <th>1.0</th>\n",
       "      <th>micro avg</th>\n",
       "      <th>macro avg</th>\n",
       "      <th>weighted avg</th>\n",
       "    </tr>\n",
       "  </thead>\n",
       "  <tbody>\n",
       "    <tr>\n",
       "      <th>f1-score</th>\n",
       "      <td>0.876</td>\n",
       "      <td>0.211</td>\n",
       "      <td>0.785</td>\n",
       "      <td>0.543</td>\n",
       "      <td>0.808</td>\n",
       "    </tr>\n",
       "    <tr>\n",
       "      <th>precision</th>\n",
       "      <td>0.911</td>\n",
       "      <td>0.169</td>\n",
       "      <td>0.785</td>\n",
       "      <td>0.540</td>\n",
       "      <td>0.835</td>\n",
       "    </tr>\n",
       "    <tr>\n",
       "      <th>recall</th>\n",
       "      <td>0.843</td>\n",
       "      <td>0.280</td>\n",
       "      <td>0.785</td>\n",
       "      <td>0.562</td>\n",
       "      <td>0.785</td>\n",
       "    </tr>\n",
       "    <tr>\n",
       "      <th>support</th>\n",
       "      <td>719.000</td>\n",
       "      <td>82.000</td>\n",
       "      <td>801.000</td>\n",
       "      <td>801.000</td>\n",
       "      <td>801.000</td>\n",
       "    </tr>\n",
       "  </tbody>\n",
       "</table>\n",
       "</div>"
      ],
      "text/plain": [
       "               0.0     1.0  micro avg  macro avg  weighted avg\n",
       "f1-score     0.876   0.211      0.785      0.543         0.808\n",
       "precision    0.911   0.169      0.785      0.540         0.835\n",
       "recall       0.843   0.280      0.785      0.562         0.785\n",
       "support    719.000  82.000    801.000    801.000       801.000"
      ]
     },
     "metadata": {},
     "output_type": "display_data"
    },
    {
     "name": "stderr",
     "output_type": "stream",
     "text": [
      "INFO - 2019-03-26 14:41:24,887 - instantiating class <class 'PatientVec.models.Model.Model'> from params {'type': 'seq_classifier_with_attention', 'embedder': {'type': 'token_embedder', 'vocab_size': 18542, 'embed_size': 200, 'embedding_file': '../../../SurgeryData/PatientVec/preprocess/KneeSurgery/1_yrs/embedding_matrix.npy'}, 'decoder': {'num_layers': 2, 'hidden_dims': [128, 1], 'activations': ['tanh', 'linear']}, 'predictor': {'type': 'binary'}, 'structured': {'use_structured': False}, 'encoder': {'type': 'lstm', 'hidden_size': 128}, 'attention': {'similarity': {'type': 'additive', 'hidden_size': 128}}} and extras {}\n",
      "INFO - 2019-03-26 14:41:24,887 - type = seq_classifier_with_attention\n",
      "INFO - 2019-03-26 14:41:24,887 - instantiating class <class 'PatientVec.models.modules.Embedder.Embedder'> from params {'type': 'token_embedder', 'vocab_size': 18542, 'embed_size': 200, 'embedding_file': '../../../SurgeryData/PatientVec/preprocess/KneeSurgery/1_yrs/embedding_matrix.npy'} and extras {}\n",
      "INFO - 2019-03-26 14:41:24,888 - embedder.type = token_embedder\n",
      "INFO - 2019-03-26 14:41:24,888 - instantiating class <class 'PatientVec.models.modules.Embedder.TokenEmbedder'> from params {'vocab_size': 18542, 'embed_size': 200, 'embedding_file': '../../../SurgeryData/PatientVec/preprocess/KneeSurgery/1_yrs/embedding_matrix.npy'} and extras {}\n",
      "INFO - 2019-03-26 14:41:24,889 - embedder.vocab_size = 18542\n",
      "INFO - 2019-03-26 14:41:24,889 - embedder.embed_size = 200\n",
      "INFO - 2019-03-26 14:41:24,889 - embedder.embedding_file = ../../../SurgeryData/PatientVec/preprocess/KneeSurgery/1_yrs/embedding_matrix.npy\n",
      "INFO - 2019-03-26 14:41:24,898 - instantiating class <class 'PatientVec.models.modules.Encoder.Encoder'> from params {'type': 'lstm', 'hidden_size': 128} and extras {'input_size': 200}\n",
      "INFO - 2019-03-26 14:41:24,899 - encoder.type = lstm\n",
      "INFO - 2019-03-26 14:41:24,899 - instantiating class <class 'PatientVec.models.modules.Encoder.wrap_pytorch_rnn.<locals>.BiRNNEncoder'> from params {'hidden_size': 128} and extras {'input_size': 200}\n",
      "INFO - 2019-03-26 14:41:24,899 - encoder.hidden_size = 128\n",
      "INFO - 2019-03-26 14:41:24,901 - instantiating class <class 'PatientVec.models.modules.SelfAttention.SelfAttention'> from params {'similarity': {'type': 'additive', 'hidden_size': 128, 'tensor_1_dim': 256}} and extras {}\n",
      "INFO - 2019-03-26 14:41:24,902 - instantiating class <class 'PatientVec.models.modules.UniSimilarity.UniSimilarity'> from params {'type': 'additive', 'hidden_size': 128, 'tensor_1_dim': 256} and extras {}\n",
      "INFO - 2019-03-26 14:41:24,902 - attention.similarity.type = additive\n",
      "INFO - 2019-03-26 14:41:24,902 - instantiating class <class 'PatientVec.models.modules.UniSimilarity.UniAdditiveSimilarity'> from params {'hidden_size': 128, 'tensor_1_dim': 256} and extras {}\n",
      "INFO - 2019-03-26 14:41:24,902 - attention.similarity.tensor_1_dim = 256\n",
      "INFO - 2019-03-26 14:41:24,903 - attention.similarity.hidden_size = 128\n",
      "INFO - 2019-03-26 14:41:24,903 - attention.similarity.output_size = 1\n",
      "INFO - 2019-03-26 14:41:24,905 - attention.normaliser = softmax\n",
      "INFO - 2019-03-26 14:41:24,905 - decoder.input_dim = 256\n",
      "INFO - 2019-03-26 14:41:24,905 - decoder.num_layers = 2\n",
      "INFO - 2019-03-26 14:41:24,905 - decoder.hidden_dims = [128, 1]\n",
      "INFO - 2019-03-26 14:41:24,906 - decoder.activations = ['tanh', 'linear']\n",
      "INFO - 2019-03-26 14:41:24,906 - decoder.dropout = 0.0\n",
      "INFO - 2019-03-26 14:41:24,907 - instantiating class <class 'PatientVec.models.modules.Predictor.Predictor'> from params {'type': 'binary'} and extras {}\n",
      "INFO - 2019-03-26 14:41:24,907 - predictor.type = binary\n",
      "INFO - 2019-03-26 14:41:24,908 - instantiating class <class 'PatientVec.models.modules.Predictor.Binary_Predictor'> from params {} and extras {}\n",
      "INFO - 2019-03-26 14:41:24,908 - predictor.replicate = False\n",
      "INFO - 2019-03-26 14:41:24,908 - predictor.alpha = 0.5\n"
     ]
    },
    {
     "name": "stdout",
     "output_type": "stream",
     "text": [
      "============================================================================================================================================================================================================================================================================================================\n",
      "{'model': {'type': 'seq_classifier_with_attention', 'embedder': {'type': 'token_embedder', 'vocab_size': 18542, 'embed_size': 200, 'embedding_file': '../../../SurgeryData/PatientVec/preprocess/KneeSurgery/1_yrs/embedding_matrix.npy'}, 'decoder': {'num_layers': 2, 'hidden_dims': [128, 1], 'activations': ['tanh', 'linear']}, 'predictor': {'type': 'binary'}, 'structured': {'use_structured': False}, 'encoder': {'type': 'lstm', 'hidden_size': 128}, 'attention': {'similarity': {'type': 'additive', 'hidden_size': 128}}}, 'training_config': {'type': 'Adam', 'groups': [('.*', {'lr': 0.001, 'weight_decay': 1e-05})], 'common': {'bsize': 16, 'class_weight': True}}, 'exp_config': {'exp_name': 'KneeSurgery_1/Attention/LSTM(hs=128)+Attention(additive)(hs=128)', 'basepath': 'outputs/confidence'}}\n",
      "Setting Embedding\n"
     ]
    },
    {
     "data": {
      "application/vnd.jupyter.widget-view+json": {
       "model_id": "cd03e65bd5214c96a88baa4902ae84a0",
       "version_major": 2,
       "version_minor": 0
      },
      "text/plain": [
       "HBox(children=(IntProgress(value=0, max=8), HTML(value='')))"
      ]
     },
     "metadata": {},
     "output_type": "display_data"
    },
    {
     "data": {
      "application/vnd.jupyter.widget-view+json": {
       "model_id": "d7d9074433a54f76b9078f3cb9c1246e",
       "version_major": 2,
       "version_minor": 0
      },
      "text/plain": [
       "HBox(children=(IntProgress(value=0, max=229), HTML(value='')))"
      ]
     },
     "metadata": {},
     "output_type": "display_data"
    },
    {
     "data": {
      "application/vnd.jupyter.widget-view+json": {
       "model_id": "ed8be0e6a5c445abbb87791d0671f999",
       "version_major": 2,
       "version_minor": 0
      },
      "text/plain": [
       "HBox(children=(IntProgress(value=0, max=51), HTML(value='')))"
      ]
     },
     "metadata": {},
     "output_type": "display_data"
    },
    {
     "name": "stdout",
     "output_type": "stream",
     "text": [
      "{'accuracy': 0.8352059925093633, 'roc_auc': 0.8507412056039894, 'pr_auc': 0.48735685040577703}\n"
     ]
    },
    {
     "data": {
      "text/html": [
       "<div>\n",
       "<style scoped>\n",
       "    .dataframe tbody tr th:only-of-type {\n",
       "        vertical-align: middle;\n",
       "    }\n",
       "\n",
       "    .dataframe tbody tr th {\n",
       "        vertical-align: top;\n",
       "    }\n",
       "\n",
       "    .dataframe thead th {\n",
       "        text-align: right;\n",
       "    }\n",
       "</style>\n",
       "<table border=\"1\" class=\"dataframe\">\n",
       "  <thead>\n",
       "    <tr style=\"text-align: right;\">\n",
       "      <th></th>\n",
       "      <th>0.0</th>\n",
       "      <th>1.0</th>\n",
       "      <th>micro avg</th>\n",
       "      <th>macro avg</th>\n",
       "      <th>weighted avg</th>\n",
       "    </tr>\n",
       "  </thead>\n",
       "  <tbody>\n",
       "    <tr>\n",
       "      <th>f1-score</th>\n",
       "      <td>0.902</td>\n",
       "      <td>0.484</td>\n",
       "      <td>0.835</td>\n",
       "      <td>0.693</td>\n",
       "      <td>0.859</td>\n",
       "    </tr>\n",
       "    <tr>\n",
       "      <th>precision</th>\n",
       "      <td>0.968</td>\n",
       "      <td>0.356</td>\n",
       "      <td>0.835</td>\n",
       "      <td>0.662</td>\n",
       "      <td>0.905</td>\n",
       "    </tr>\n",
       "    <tr>\n",
       "      <th>recall</th>\n",
       "      <td>0.844</td>\n",
       "      <td>0.756</td>\n",
       "      <td>0.835</td>\n",
       "      <td>0.800</td>\n",
       "      <td>0.835</td>\n",
       "    </tr>\n",
       "    <tr>\n",
       "      <th>support</th>\n",
       "      <td>719.000</td>\n",
       "      <td>82.000</td>\n",
       "      <td>801.000</td>\n",
       "      <td>801.000</td>\n",
       "      <td>801.000</td>\n",
       "    </tr>\n",
       "  </tbody>\n",
       "</table>\n",
       "</div>"
      ],
      "text/plain": [
       "               0.0     1.0  micro avg  macro avg  weighted avg\n",
       "f1-score     0.902   0.484      0.835      0.693         0.859\n",
       "precision    0.968   0.356      0.835      0.662         0.905\n",
       "recall       0.844   0.756      0.835      0.800         0.835\n",
       "support    719.000  82.000    801.000    801.000       801.000"
      ]
     },
     "metadata": {},
     "output_type": "display_data"
    },
    {
     "name": "stdout",
     "output_type": "stream",
     "text": [
      "Model Saved on  roc_auc 0.8507412056039894\n"
     ]
    },
    {
     "data": {
      "application/vnd.jupyter.widget-view+json": {
       "model_id": "5167cf0a259f4e76b39f3361942c52af",
       "version_major": 2,
       "version_minor": 0
      },
      "text/plain": [
       "HBox(children=(IntProgress(value=0, max=229), HTML(value='')))"
      ]
     },
     "metadata": {},
     "output_type": "display_data"
    },
    {
     "data": {
      "application/vnd.jupyter.widget-view+json": {
       "model_id": "921df0fefc78404fb09cd048835a0162",
       "version_major": 2,
       "version_minor": 0
      },
      "text/plain": [
       "HBox(children=(IntProgress(value=0, max=51), HTML(value='')))"
      ]
     },
     "metadata": {},
     "output_type": "display_data"
    },
    {
     "name": "stdout",
     "output_type": "stream",
     "text": [
      "{'accuracy': 0.8164794007490637, 'roc_auc': 0.8196851996336375, 'pr_auc': 0.49675881170529573}\n"
     ]
    },
    {
     "data": {
      "text/html": [
       "<div>\n",
       "<style scoped>\n",
       "    .dataframe tbody tr th:only-of-type {\n",
       "        vertical-align: middle;\n",
       "    }\n",
       "\n",
       "    .dataframe tbody tr th {\n",
       "        vertical-align: top;\n",
       "    }\n",
       "\n",
       "    .dataframe thead th {\n",
       "        text-align: right;\n",
       "    }\n",
       "</style>\n",
       "<table border=\"1\" class=\"dataframe\">\n",
       "  <thead>\n",
       "    <tr style=\"text-align: right;\">\n",
       "      <th></th>\n",
       "      <th>0.0</th>\n",
       "      <th>1.0</th>\n",
       "      <th>micro avg</th>\n",
       "      <th>macro avg</th>\n",
       "      <th>weighted avg</th>\n",
       "    </tr>\n",
       "  </thead>\n",
       "  <tbody>\n",
       "    <tr>\n",
       "      <th>f1-score</th>\n",
       "      <td>0.891</td>\n",
       "      <td>0.432</td>\n",
       "      <td>0.816</td>\n",
       "      <td>0.661</td>\n",
       "      <td>0.844</td>\n",
       "    </tr>\n",
       "    <tr>\n",
       "      <th>precision</th>\n",
       "      <td>0.958</td>\n",
       "      <td>0.316</td>\n",
       "      <td>0.816</td>\n",
       "      <td>0.637</td>\n",
       "      <td>0.893</td>\n",
       "    </tr>\n",
       "    <tr>\n",
       "      <th>recall</th>\n",
       "      <td>0.832</td>\n",
       "      <td>0.683</td>\n",
       "      <td>0.816</td>\n",
       "      <td>0.757</td>\n",
       "      <td>0.816</td>\n",
       "    </tr>\n",
       "    <tr>\n",
       "      <th>support</th>\n",
       "      <td>719.000</td>\n",
       "      <td>82.000</td>\n",
       "      <td>801.000</td>\n",
       "      <td>801.000</td>\n",
       "      <td>801.000</td>\n",
       "    </tr>\n",
       "  </tbody>\n",
       "</table>\n",
       "</div>"
      ],
      "text/plain": [
       "               0.0     1.0  micro avg  macro avg  weighted avg\n",
       "f1-score     0.891   0.432      0.816      0.661         0.844\n",
       "precision    0.958   0.316      0.816      0.637         0.893\n",
       "recall       0.832   0.683      0.816      0.757         0.816\n",
       "support    719.000  82.000    801.000    801.000       801.000"
      ]
     },
     "metadata": {},
     "output_type": "display_data"
    },
    {
     "name": "stdout",
     "output_type": "stream",
     "text": [
      "Model not saved on  roc_auc 0.8196851996336375\n"
     ]
    },
    {
     "data": {
      "application/vnd.jupyter.widget-view+json": {
       "model_id": "beda2f6dcddf488194bc04fb4f322921",
       "version_major": 2,
       "version_minor": 0
      },
      "text/plain": [
       "HBox(children=(IntProgress(value=0, max=229), HTML(value='')))"
      ]
     },
     "metadata": {},
     "output_type": "display_data"
    },
    {
     "data": {
      "application/vnd.jupyter.widget-view+json": {
       "model_id": "4e40dc8c50f04ec68ff5129418bb0195",
       "version_major": 2,
       "version_minor": 0
      },
      "text/plain": [
       "HBox(children=(IntProgress(value=0, max=51), HTML(value='')))"
      ]
     },
     "metadata": {},
     "output_type": "display_data"
    },
    {
     "name": "stdout",
     "output_type": "stream",
     "text": [
      "{'accuracy': 0.898876404494382, 'roc_auc': 0.867227517894094, 'pr_auc': 0.5380283044280639}\n"
     ]
    },
    {
     "data": {
      "text/html": [
       "<div>\n",
       "<style scoped>\n",
       "    .dataframe tbody tr th:only-of-type {\n",
       "        vertical-align: middle;\n",
       "    }\n",
       "\n",
       "    .dataframe tbody tr th {\n",
       "        vertical-align: top;\n",
       "    }\n",
       "\n",
       "    .dataframe thead th {\n",
       "        text-align: right;\n",
       "    }\n",
       "</style>\n",
       "<table border=\"1\" class=\"dataframe\">\n",
       "  <thead>\n",
       "    <tr style=\"text-align: right;\">\n",
       "      <th></th>\n",
       "      <th>0.0</th>\n",
       "      <th>1.0</th>\n",
       "      <th>micro avg</th>\n",
       "      <th>macro avg</th>\n",
       "      <th>weighted avg</th>\n",
       "    </tr>\n",
       "  </thead>\n",
       "  <tbody>\n",
       "    <tr>\n",
       "      <th>f1-score</th>\n",
       "      <td>0.942</td>\n",
       "      <td>0.589</td>\n",
       "      <td>0.899</td>\n",
       "      <td>0.766</td>\n",
       "      <td>0.906</td>\n",
       "    </tr>\n",
       "    <tr>\n",
       "      <th>precision</th>\n",
       "      <td>0.965</td>\n",
       "      <td>0.504</td>\n",
       "      <td>0.899</td>\n",
       "      <td>0.735</td>\n",
       "      <td>0.918</td>\n",
       "    </tr>\n",
       "    <tr>\n",
       "      <th>recall</th>\n",
       "      <td>0.921</td>\n",
       "      <td>0.707</td>\n",
       "      <td>0.899</td>\n",
       "      <td>0.814</td>\n",
       "      <td>0.899</td>\n",
       "    </tr>\n",
       "    <tr>\n",
       "      <th>support</th>\n",
       "      <td>719.000</td>\n",
       "      <td>82.000</td>\n",
       "      <td>801.000</td>\n",
       "      <td>801.000</td>\n",
       "      <td>801.000</td>\n",
       "    </tr>\n",
       "  </tbody>\n",
       "</table>\n",
       "</div>"
      ],
      "text/plain": [
       "               0.0     1.0  micro avg  macro avg  weighted avg\n",
       "f1-score     0.942   0.589      0.899      0.766         0.906\n",
       "precision    0.965   0.504      0.899      0.735         0.918\n",
       "recall       0.921   0.707      0.899      0.814         0.899\n",
       "support    719.000  82.000    801.000    801.000       801.000"
      ]
     },
     "metadata": {},
     "output_type": "display_data"
    },
    {
     "name": "stdout",
     "output_type": "stream",
     "text": [
      "Model Saved on  roc_auc 0.867227517894094\n"
     ]
    },
    {
     "data": {
      "application/vnd.jupyter.widget-view+json": {
       "model_id": "535fc229800045cc9479a9905d1ae404",
       "version_major": 2,
       "version_minor": 0
      },
      "text/plain": [
       "HBox(children=(IntProgress(value=0, max=229), HTML(value='')))"
      ]
     },
     "metadata": {},
     "output_type": "display_data"
    },
    {
     "data": {
      "application/vnd.jupyter.widget-view+json": {
       "model_id": "5c77f9a2272f42e19f288d9f2b4a8b04",
       "version_major": 2,
       "version_minor": 0
      },
      "text/plain": [
       "HBox(children=(IntProgress(value=0, max=51), HTML(value='')))"
      ]
     },
     "metadata": {},
     "output_type": "display_data"
    },
    {
     "name": "stdout",
     "output_type": "stream",
     "text": [
      "{'accuracy': 0.8726591760299626, 'roc_auc': 0.8697208182095728, 'pr_auc': 0.5713160521116583}\n"
     ]
    },
    {
     "data": {
      "text/html": [
       "<div>\n",
       "<style scoped>\n",
       "    .dataframe tbody tr th:only-of-type {\n",
       "        vertical-align: middle;\n",
       "    }\n",
       "\n",
       "    .dataframe tbody tr th {\n",
       "        vertical-align: top;\n",
       "    }\n",
       "\n",
       "    .dataframe thead th {\n",
       "        text-align: right;\n",
       "    }\n",
       "</style>\n",
       "<table border=\"1\" class=\"dataframe\">\n",
       "  <thead>\n",
       "    <tr style=\"text-align: right;\">\n",
       "      <th></th>\n",
       "      <th>0.0</th>\n",
       "      <th>1.0</th>\n",
       "      <th>micro avg</th>\n",
       "      <th>macro avg</th>\n",
       "      <th>weighted avg</th>\n",
       "    </tr>\n",
       "  </thead>\n",
       "  <tbody>\n",
       "    <tr>\n",
       "      <th>f1-score</th>\n",
       "      <td>0.926</td>\n",
       "      <td>0.528</td>\n",
       "      <td>0.873</td>\n",
       "      <td>0.727</td>\n",
       "      <td>0.886</td>\n",
       "    </tr>\n",
       "    <tr>\n",
       "      <th>precision</th>\n",
       "      <td>0.963</td>\n",
       "      <td>0.425</td>\n",
       "      <td>0.873</td>\n",
       "      <td>0.694</td>\n",
       "      <td>0.908</td>\n",
       "    </tr>\n",
       "    <tr>\n",
       "      <th>recall</th>\n",
       "      <td>0.893</td>\n",
       "      <td>0.695</td>\n",
       "      <td>0.873</td>\n",
       "      <td>0.794</td>\n",
       "      <td>0.873</td>\n",
       "    </tr>\n",
       "    <tr>\n",
       "      <th>support</th>\n",
       "      <td>719.000</td>\n",
       "      <td>82.000</td>\n",
       "      <td>801.000</td>\n",
       "      <td>801.000</td>\n",
       "      <td>801.000</td>\n",
       "    </tr>\n",
       "  </tbody>\n",
       "</table>\n",
       "</div>"
      ],
      "text/plain": [
       "               0.0     1.0  micro avg  macro avg  weighted avg\n",
       "f1-score     0.926   0.528      0.873      0.727         0.886\n",
       "precision    0.963   0.425      0.873      0.694         0.908\n",
       "recall       0.893   0.695      0.873      0.794         0.873\n",
       "support    719.000  82.000    801.000    801.000       801.000"
      ]
     },
     "metadata": {},
     "output_type": "display_data"
    },
    {
     "name": "stdout",
     "output_type": "stream",
     "text": [
      "Model Saved on  roc_auc 0.8697208182095728\n"
     ]
    },
    {
     "data": {
      "application/vnd.jupyter.widget-view+json": {
       "model_id": "9f485c81aa0e48b680f7f5cfa7342438",
       "version_major": 2,
       "version_minor": 0
      },
      "text/plain": [
       "HBox(children=(IntProgress(value=0, max=229), HTML(value='')))"
      ]
     },
     "metadata": {},
     "output_type": "display_data"
    },
    {
     "data": {
      "application/vnd.jupyter.widget-view+json": {
       "model_id": "d41521eeeb04454e91582cd1b970b71f",
       "version_major": 2,
       "version_minor": 0
      },
      "text/plain": [
       "HBox(children=(IntProgress(value=0, max=51), HTML(value='')))"
      ]
     },
     "metadata": {},
     "output_type": "display_data"
    },
    {
     "name": "stdout",
     "output_type": "stream",
     "text": [
      "{'accuracy': 0.9038701622971286, 'roc_auc': 0.8669391770412835, 'pr_auc': 0.5806273589209273}\n"
     ]
    },
    {
     "data": {
      "text/html": [
       "<div>\n",
       "<style scoped>\n",
       "    .dataframe tbody tr th:only-of-type {\n",
       "        vertical-align: middle;\n",
       "    }\n",
       "\n",
       "    .dataframe tbody tr th {\n",
       "        vertical-align: top;\n",
       "    }\n",
       "\n",
       "    .dataframe thead th {\n",
       "        text-align: right;\n",
       "    }\n",
       "</style>\n",
       "<table border=\"1\" class=\"dataframe\">\n",
       "  <thead>\n",
       "    <tr style=\"text-align: right;\">\n",
       "      <th></th>\n",
       "      <th>0.0</th>\n",
       "      <th>1.0</th>\n",
       "      <th>micro avg</th>\n",
       "      <th>macro avg</th>\n",
       "      <th>weighted avg</th>\n",
       "    </tr>\n",
       "  </thead>\n",
       "  <tbody>\n",
       "    <tr>\n",
       "      <th>f1-score</th>\n",
       "      <td>0.945</td>\n",
       "      <td>0.597</td>\n",
       "      <td>0.904</td>\n",
       "      <td>0.771</td>\n",
       "      <td>0.910</td>\n",
       "    </tr>\n",
       "    <tr>\n",
       "      <th>precision</th>\n",
       "      <td>0.964</td>\n",
       "      <td>0.523</td>\n",
       "      <td>0.904</td>\n",
       "      <td>0.743</td>\n",
       "      <td>0.919</td>\n",
       "    </tr>\n",
       "    <tr>\n",
       "      <th>recall</th>\n",
       "      <td>0.928</td>\n",
       "      <td>0.695</td>\n",
       "      <td>0.904</td>\n",
       "      <td>0.811</td>\n",
       "      <td>0.904</td>\n",
       "    </tr>\n",
       "    <tr>\n",
       "      <th>support</th>\n",
       "      <td>719.000</td>\n",
       "      <td>82.000</td>\n",
       "      <td>801.000</td>\n",
       "      <td>801.000</td>\n",
       "      <td>801.000</td>\n",
       "    </tr>\n",
       "  </tbody>\n",
       "</table>\n",
       "</div>"
      ],
      "text/plain": [
       "               0.0     1.0  micro avg  macro avg  weighted avg\n",
       "f1-score     0.945   0.597      0.904      0.771         0.910\n",
       "precision    0.964   0.523      0.904      0.743         0.919\n",
       "recall       0.928   0.695      0.904      0.811         0.904\n",
       "support    719.000  82.000    801.000    801.000       801.000"
      ]
     },
     "metadata": {},
     "output_type": "display_data"
    },
    {
     "name": "stdout",
     "output_type": "stream",
     "text": [
      "Model not saved on  roc_auc 0.8669391770412835\n"
     ]
    },
    {
     "data": {
      "application/vnd.jupyter.widget-view+json": {
       "model_id": "1ea30036f6b644cd8a0feef6143f7e5f",
       "version_major": 2,
       "version_minor": 0
      },
      "text/plain": [
       "HBox(children=(IntProgress(value=0, max=229), HTML(value='')))"
      ]
     },
     "metadata": {},
     "output_type": "display_data"
    },
    {
     "data": {
      "application/vnd.jupyter.widget-view+json": {
       "model_id": "82f65f1087934e66a67e64bc57457c53",
       "version_major": 2,
       "version_minor": 0
      },
      "text/plain": [
       "HBox(children=(IntProgress(value=0, max=51), HTML(value='')))"
      ]
     },
     "metadata": {},
     "output_type": "display_data"
    },
    {
     "name": "stdout",
     "output_type": "stream",
     "text": [
      "{'accuracy': 0.898876404494382, 'roc_auc': 0.8522507547745852, 'pr_auc': 0.5017415972848719}\n"
     ]
    },
    {
     "data": {
      "text/html": [
       "<div>\n",
       "<style scoped>\n",
       "    .dataframe tbody tr th:only-of-type {\n",
       "        vertical-align: middle;\n",
       "    }\n",
       "\n",
       "    .dataframe tbody tr th {\n",
       "        vertical-align: top;\n",
       "    }\n",
       "\n",
       "    .dataframe thead th {\n",
       "        text-align: right;\n",
       "    }\n",
       "</style>\n",
       "<table border=\"1\" class=\"dataframe\">\n",
       "  <thead>\n",
       "    <tr style=\"text-align: right;\">\n",
       "      <th></th>\n",
       "      <th>0.0</th>\n",
       "      <th>1.0</th>\n",
       "      <th>micro avg</th>\n",
       "      <th>macro avg</th>\n",
       "      <th>weighted avg</th>\n",
       "    </tr>\n",
       "  </thead>\n",
       "  <tbody>\n",
       "    <tr>\n",
       "      <th>f1-score</th>\n",
       "      <td>0.943</td>\n",
       "      <td>0.567</td>\n",
       "      <td>0.899</td>\n",
       "      <td>0.755</td>\n",
       "      <td>0.904</td>\n",
       "    </tr>\n",
       "    <tr>\n",
       "      <th>precision</th>\n",
       "      <td>0.958</td>\n",
       "      <td>0.505</td>\n",
       "      <td>0.899</td>\n",
       "      <td>0.732</td>\n",
       "      <td>0.912</td>\n",
       "    </tr>\n",
       "    <tr>\n",
       "      <th>recall</th>\n",
       "      <td>0.928</td>\n",
       "      <td>0.646</td>\n",
       "      <td>0.899</td>\n",
       "      <td>0.787</td>\n",
       "      <td>0.899</td>\n",
       "    </tr>\n",
       "    <tr>\n",
       "      <th>support</th>\n",
       "      <td>719.000</td>\n",
       "      <td>82.000</td>\n",
       "      <td>801.000</td>\n",
       "      <td>801.000</td>\n",
       "      <td>801.000</td>\n",
       "    </tr>\n",
       "  </tbody>\n",
       "</table>\n",
       "</div>"
      ],
      "text/plain": [
       "               0.0     1.0  micro avg  macro avg  weighted avg\n",
       "f1-score     0.943   0.567      0.899      0.755         0.904\n",
       "precision    0.958   0.505      0.899      0.732         0.912\n",
       "recall       0.928   0.646      0.899      0.787         0.899\n",
       "support    719.000  82.000    801.000    801.000       801.000"
      ]
     },
     "metadata": {},
     "output_type": "display_data"
    },
    {
     "name": "stdout",
     "output_type": "stream",
     "text": [
      "Model not saved on  roc_auc 0.8522507547745852\n"
     ]
    },
    {
     "data": {
      "application/vnd.jupyter.widget-view+json": {
       "model_id": "2cd283bf0484497f9a7cba6af2f1aecb",
       "version_major": 2,
       "version_minor": 0
      },
      "text/plain": [
       "HBox(children=(IntProgress(value=0, max=229), HTML(value='')))"
      ]
     },
     "metadata": {},
     "output_type": "display_data"
    },
    {
     "data": {
      "application/vnd.jupyter.widget-view+json": {
       "model_id": "48a38b55c142462291df5c7be5a6fd13",
       "version_major": 2,
       "version_minor": 0
      },
      "text/plain": [
       "HBox(children=(IntProgress(value=0, max=51), HTML(value='')))"
      ]
     },
     "metadata": {},
     "output_type": "display_data"
    },
    {
     "name": "stdout",
     "output_type": "stream",
     "text": [
      "{'accuracy': 0.8863920099875156, 'roc_auc': 0.8521489874147699, 'pr_auc': 0.5158347741331788}\n"
     ]
    },
    {
     "data": {
      "text/html": [
       "<div>\n",
       "<style scoped>\n",
       "    .dataframe tbody tr th:only-of-type {\n",
       "        vertical-align: middle;\n",
       "    }\n",
       "\n",
       "    .dataframe tbody tr th {\n",
       "        vertical-align: top;\n",
       "    }\n",
       "\n",
       "    .dataframe thead th {\n",
       "        text-align: right;\n",
       "    }\n",
       "</style>\n",
       "<table border=\"1\" class=\"dataframe\">\n",
       "  <thead>\n",
       "    <tr style=\"text-align: right;\">\n",
       "      <th></th>\n",
       "      <th>0.0</th>\n",
       "      <th>1.0</th>\n",
       "      <th>micro avg</th>\n",
       "      <th>macro avg</th>\n",
       "      <th>weighted avg</th>\n",
       "    </tr>\n",
       "  </thead>\n",
       "  <tbody>\n",
       "    <tr>\n",
       "      <th>f1-score</th>\n",
       "      <td>0.935</td>\n",
       "      <td>0.543</td>\n",
       "      <td>0.886</td>\n",
       "      <td>0.739</td>\n",
       "      <td>0.895</td>\n",
       "    </tr>\n",
       "    <tr>\n",
       "      <th>precision</th>\n",
       "      <td>0.959</td>\n",
       "      <td>0.462</td>\n",
       "      <td>0.886</td>\n",
       "      <td>0.710</td>\n",
       "      <td>0.908</td>\n",
       "    </tr>\n",
       "    <tr>\n",
       "      <th>recall</th>\n",
       "      <td>0.912</td>\n",
       "      <td>0.659</td>\n",
       "      <td>0.886</td>\n",
       "      <td>0.785</td>\n",
       "      <td>0.886</td>\n",
       "    </tr>\n",
       "    <tr>\n",
       "      <th>support</th>\n",
       "      <td>719.000</td>\n",
       "      <td>82.000</td>\n",
       "      <td>801.000</td>\n",
       "      <td>801.000</td>\n",
       "      <td>801.000</td>\n",
       "    </tr>\n",
       "  </tbody>\n",
       "</table>\n",
       "</div>"
      ],
      "text/plain": [
       "               0.0     1.0  micro avg  macro avg  weighted avg\n",
       "f1-score     0.935   0.543      0.886      0.739         0.895\n",
       "precision    0.959   0.462      0.886      0.710         0.908\n",
       "recall       0.912   0.659      0.886      0.785         0.886\n",
       "support    719.000  82.000    801.000    801.000       801.000"
      ]
     },
     "metadata": {},
     "output_type": "display_data"
    },
    {
     "name": "stderr",
     "output_type": "stream",
     "text": [
      "INFO - 2019-03-26 14:55:38,404 - instantiating class <class 'PatientVec.models.Model.Model'> from params {'type': 'seq_classifier_with_attention', 'embedder': {'type': 'token_embedder', 'vocab_size': 18542, 'embed_size': 200, 'embedding_file': '../../../SurgeryData/PatientVec/preprocess/KneeSurgery/1_yrs/embedding_matrix.npy'}, 'decoder': {'num_layers': 2, 'hidden_dims': [128, 1], 'activations': ['tanh', 'linear']}, 'predictor': {'type': 'binary'}, 'structured': {'use_structured': False}, 'encoder': {'type': 'lstm', 'hidden_size': 128}, 'attention': {'similarity': {'type': 'additive', 'hidden_size': 128}}} and extras {}\n",
      "INFO - 2019-03-26 14:55:38,405 - type = seq_classifier_with_attention\n",
      "INFO - 2019-03-26 14:55:38,405 - instantiating class <class 'PatientVec.models.modules.Embedder.Embedder'> from params {'type': 'token_embedder', 'vocab_size': 18542, 'embed_size': 200, 'embedding_file': '../../../SurgeryData/PatientVec/preprocess/KneeSurgery/1_yrs/embedding_matrix.npy'} and extras {}\n",
      "INFO - 2019-03-26 14:55:38,406 - embedder.type = token_embedder\n",
      "INFO - 2019-03-26 14:55:38,406 - instantiating class <class 'PatientVec.models.modules.Embedder.TokenEmbedder'> from params {'vocab_size': 18542, 'embed_size': 200, 'embedding_file': '../../../SurgeryData/PatientVec/preprocess/KneeSurgery/1_yrs/embedding_matrix.npy'} and extras {}\n",
      "INFO - 2019-03-26 14:55:38,406 - embedder.vocab_size = 18542\n",
      "INFO - 2019-03-26 14:55:38,407 - embedder.embed_size = 200\n",
      "INFO - 2019-03-26 14:55:38,407 - embedder.embedding_file = ../../../SurgeryData/PatientVec/preprocess/KneeSurgery/1_yrs/embedding_matrix.npy\n",
      "INFO - 2019-03-26 14:55:38,415 - instantiating class <class 'PatientVec.models.modules.Encoder.Encoder'> from params {'type': 'lstm', 'hidden_size': 128} and extras {'input_size': 200}\n",
      "INFO - 2019-03-26 14:55:38,416 - encoder.type = lstm\n",
      "INFO - 2019-03-26 14:55:38,416 - instantiating class <class 'PatientVec.models.modules.Encoder.wrap_pytorch_rnn.<locals>.BiRNNEncoder'> from params {'hidden_size': 128} and extras {'input_size': 200}\n",
      "INFO - 2019-03-26 14:55:38,416 - encoder.hidden_size = 128\n",
      "INFO - 2019-03-26 14:55:38,419 - instantiating class <class 'PatientVec.models.modules.SelfAttention.SelfAttention'> from params {'similarity': {'type': 'additive', 'hidden_size': 128, 'tensor_1_dim': 256}} and extras {}\n",
      "INFO - 2019-03-26 14:55:38,419 - instantiating class <class 'PatientVec.models.modules.UniSimilarity.UniSimilarity'> from params {'type': 'additive', 'hidden_size': 128, 'tensor_1_dim': 256} and extras {}\n",
      "INFO - 2019-03-26 14:55:38,420 - attention.similarity.type = additive\n",
      "INFO - 2019-03-26 14:55:38,420 - instantiating class <class 'PatientVec.models.modules.UniSimilarity.UniAdditiveSimilarity'> from params {'hidden_size': 128, 'tensor_1_dim': 256} and extras {}\n",
      "INFO - 2019-03-26 14:55:38,420 - attention.similarity.tensor_1_dim = 256\n",
      "INFO - 2019-03-26 14:55:38,421 - attention.similarity.hidden_size = 128\n",
      "INFO - 2019-03-26 14:55:38,421 - attention.similarity.output_size = 1\n",
      "INFO - 2019-03-26 14:55:38,422 - attention.normaliser = softmax\n",
      "INFO - 2019-03-26 14:55:38,423 - decoder.input_dim = 256\n",
      "INFO - 2019-03-26 14:55:38,423 - decoder.num_layers = 2\n",
      "INFO - 2019-03-26 14:55:38,423 - decoder.hidden_dims = [128, 1]\n",
      "INFO - 2019-03-26 14:55:38,424 - decoder.activations = ['tanh', 'linear']\n",
      "INFO - 2019-03-26 14:55:38,424 - decoder.dropout = 0.0\n",
      "INFO - 2019-03-26 14:55:38,425 - instantiating class <class 'PatientVec.models.modules.Predictor.Predictor'> from params {'type': 'binary'} and extras {}\n",
      "INFO - 2019-03-26 14:55:38,425 - predictor.type = binary\n",
      "INFO - 2019-03-26 14:55:38,426 - instantiating class <class 'PatientVec.models.modules.Predictor.Binary_Predictor'> from params {} and extras {}\n",
      "INFO - 2019-03-26 14:55:38,426 - predictor.replicate = False\n",
      "INFO - 2019-03-26 14:55:38,427 - predictor.alpha = 0.5\n"
     ]
    },
    {
     "name": "stdout",
     "output_type": "stream",
     "text": [
      "Model not saved on  roc_auc 0.8521489874147699\n",
      "0.8697208182095728 deque([0.8669391770412835, 0.8522507547745852, 0.8521489874147699], maxlen=3)\n",
      "\n",
      "Setting Embedding\n"
     ]
    },
    {
     "data": {
      "application/vnd.jupyter.widget-view+json": {
       "model_id": "b847725e93ca43bfa891dcf1c605f3cb",
       "version_major": 2,
       "version_minor": 0
      },
      "text/plain": [
       "HBox(children=(IntProgress(value=0, max=51), HTML(value='')))"
      ]
     },
     "metadata": {},
     "output_type": "display_data"
    },
    {
     "name": "stdout",
     "output_type": "stream",
     "text": [
      "\n",
      "{'accuracy': 0.8726591760299626, 'roc_auc': 0.8697208182095728, 'pr_auc': 0.5713160521116583}\n"
     ]
    },
    {
     "data": {
      "text/html": [
       "<div>\n",
       "<style scoped>\n",
       "    .dataframe tbody tr th:only-of-type {\n",
       "        vertical-align: middle;\n",
       "    }\n",
       "\n",
       "    .dataframe tbody tr th {\n",
       "        vertical-align: top;\n",
       "    }\n",
       "\n",
       "    .dataframe thead th {\n",
       "        text-align: right;\n",
       "    }\n",
       "</style>\n",
       "<table border=\"1\" class=\"dataframe\">\n",
       "  <thead>\n",
       "    <tr style=\"text-align: right;\">\n",
       "      <th></th>\n",
       "      <th>0.0</th>\n",
       "      <th>1.0</th>\n",
       "      <th>micro avg</th>\n",
       "      <th>macro avg</th>\n",
       "      <th>weighted avg</th>\n",
       "    </tr>\n",
       "  </thead>\n",
       "  <tbody>\n",
       "    <tr>\n",
       "      <th>f1-score</th>\n",
       "      <td>0.926</td>\n",
       "      <td>0.528</td>\n",
       "      <td>0.873</td>\n",
       "      <td>0.727</td>\n",
       "      <td>0.886</td>\n",
       "    </tr>\n",
       "    <tr>\n",
       "      <th>precision</th>\n",
       "      <td>0.963</td>\n",
       "      <td>0.425</td>\n",
       "      <td>0.873</td>\n",
       "      <td>0.694</td>\n",
       "      <td>0.908</td>\n",
       "    </tr>\n",
       "    <tr>\n",
       "      <th>recall</th>\n",
       "      <td>0.893</td>\n",
       "      <td>0.695</td>\n",
       "      <td>0.873</td>\n",
       "      <td>0.794</td>\n",
       "      <td>0.873</td>\n",
       "    </tr>\n",
       "    <tr>\n",
       "      <th>support</th>\n",
       "      <td>719.000</td>\n",
       "      <td>82.000</td>\n",
       "      <td>801.000</td>\n",
       "      <td>801.000</td>\n",
       "      <td>801.000</td>\n",
       "    </tr>\n",
       "  </tbody>\n",
       "</table>\n",
       "</div>"
      ],
      "text/plain": [
       "               0.0     1.0  micro avg  macro avg  weighted avg\n",
       "f1-score     0.926   0.528      0.873      0.727         0.886\n",
       "precision    0.963   0.425      0.873      0.694         0.908\n",
       "recall       0.893   0.695      0.873      0.794         0.873\n",
       "support    719.000  82.000    801.000    801.000       801.000"
      ]
     },
     "metadata": {},
     "output_type": "display_data"
    },
    {
     "name": "stderr",
     "output_type": "stream",
     "text": [
      "INFO - 2019-03-26 14:55:54,000 - instantiating class <class 'PatientVec.models.Model.Model'> from params {'type': 'seq_classifier', 'embedder': {'type': 'token_embedder', 'vocab_size': 18542, 'embed_size': 200, 'embedding_file': '../../../SurgeryData/PatientVec/preprocess/KneeSurgery/1_yrs/embedding_matrix.npy'}, 'decoder': {'num_layers': 2, 'hidden_dims': [128, 1], 'activations': ['tanh', 'linear']}, 'predictor': {'type': 'binary'}, 'structured': {'use_structured': False}, 'encoder': {'type': 'cnn', 'hidden_size': 64, 'kernel_sizes': [3, 5, 7, 9], 'activation': 'relu'}} and extras {}\n",
      "INFO - 2019-03-26 14:55:54,000 - type = seq_classifier\n",
      "INFO - 2019-03-26 14:55:54,001 - instantiating class <class 'PatientVec.models.modules.Embedder.Embedder'> from params {'type': 'token_embedder', 'vocab_size': 18542, 'embed_size': 200, 'embedding_file': '../../../SurgeryData/PatientVec/preprocess/KneeSurgery/1_yrs/embedding_matrix.npy'} and extras {}\n",
      "INFO - 2019-03-26 14:55:54,001 - embedder.type = token_embedder\n",
      "INFO - 2019-03-26 14:55:54,002 - instantiating class <class 'PatientVec.models.modules.Embedder.TokenEmbedder'> from params {'vocab_size': 18542, 'embed_size': 200, 'embedding_file': '../../../SurgeryData/PatientVec/preprocess/KneeSurgery/1_yrs/embedding_matrix.npy'} and extras {}\n",
      "INFO - 2019-03-26 14:55:54,002 - embedder.vocab_size = 18542\n",
      "INFO - 2019-03-26 14:55:54,003 - embedder.embed_size = 200\n",
      "INFO - 2019-03-26 14:55:54,003 - embedder.embedding_file = ../../../SurgeryData/PatientVec/preprocess/KneeSurgery/1_yrs/embedding_matrix.npy\n",
      "INFO - 2019-03-26 14:55:54,011 - instantiating class <class 'PatientVec.models.modules.Encoder.Encoder'> from params {'type': 'cnn', 'hidden_size': 64, 'kernel_sizes': [3, 5, 7, 9], 'activation': 'relu'} and extras {'input_size': 200}\n",
      "INFO - 2019-03-26 14:55:54,012 - encoder.type = cnn\n",
      "INFO - 2019-03-26 14:55:54,012 - instantiating class <class 'PatientVec.models.modules.Encoder.CNNEncoder'> from params {'hidden_size': 64, 'kernel_sizes': [3, 5, 7, 9], 'activation': 'relu'} and extras {'input_size': 200}\n",
      "INFO - 2019-03-26 14:55:54,012 - encoder.hidden_size = 64\n",
      "INFO - 2019-03-26 14:55:54,013 - encoder.kernel_sizes = [3, 5, 7, 9]\n",
      "INFO - 2019-03-26 14:55:54,013 - encoder.activation = relu\n",
      "INFO - 2019-03-26 14:55:54,016 - decoder.input_dim = 256\n",
      "INFO - 2019-03-26 14:55:54,016 - decoder.num_layers = 2\n",
      "INFO - 2019-03-26 14:55:54,017 - decoder.hidden_dims = [128, 1]\n",
      "INFO - 2019-03-26 14:55:54,017 - decoder.activations = ['tanh', 'linear']\n",
      "INFO - 2019-03-26 14:55:54,017 - decoder.dropout = 0.0\n",
      "INFO - 2019-03-26 14:55:54,019 - instantiating class <class 'PatientVec.models.modules.Predictor.Predictor'> from params {'type': 'binary'} and extras {}\n",
      "INFO - 2019-03-26 14:55:54,019 - predictor.type = binary\n",
      "INFO - 2019-03-26 14:55:54,019 - instantiating class <class 'PatientVec.models.modules.Predictor.Binary_Predictor'> from params {} and extras {}\n",
      "INFO - 2019-03-26 14:55:54,020 - predictor.replicate = False\n",
      "INFO - 2019-03-26 14:55:54,020 - predictor.alpha = 0.5\n"
     ]
    },
    {
     "name": "stdout",
     "output_type": "stream",
     "text": [
      "============================================================================================================================================================================================================================================================================================================\n",
      "{'model': {'type': 'seq_classifier', 'embedder': {'type': 'token_embedder', 'vocab_size': 18542, 'embed_size': 200, 'embedding_file': '../../../SurgeryData/PatientVec/preprocess/KneeSurgery/1_yrs/embedding_matrix.npy'}, 'decoder': {'num_layers': 2, 'hidden_dims': [128, 1], 'activations': ['tanh', 'linear']}, 'predictor': {'type': 'binary'}, 'structured': {'use_structured': False}, 'encoder': {'type': 'cnn', 'hidden_size': 64, 'kernel_sizes': [3, 5, 7, 9], 'activation': 'relu'}}, 'training_config': {'type': 'Adam', 'groups': [('.*', {'lr': 0.001, 'weight_decay': 1e-05})], 'common': {'bsize': 16, 'class_weight': True}}, 'exp_config': {'exp_name': 'KneeSurgery_1/Basic/CNN(hs=64)(kernels=3,5,7,9)', 'basepath': 'outputs/confidence'}}\n",
      "Setting Embedding\n"
     ]
    },
    {
     "data": {
      "application/vnd.jupyter.widget-view+json": {
       "model_id": "5ba4721343b44949bb00ae44d51d0b15",
       "version_major": 2,
       "version_minor": 0
      },
      "text/plain": [
       "HBox(children=(IntProgress(value=0, max=8), HTML(value='')))"
      ]
     },
     "metadata": {},
     "output_type": "display_data"
    },
    {
     "data": {
      "application/vnd.jupyter.widget-view+json": {
       "model_id": "5362a71f02eb4a65b88cfc4a09bcdb29",
       "version_major": 2,
       "version_minor": 0
      },
      "text/plain": [
       "HBox(children=(IntProgress(value=0, max=229), HTML(value='')))"
      ]
     },
     "metadata": {},
     "output_type": "display_data"
    },
    {
     "data": {
      "application/vnd.jupyter.widget-view+json": {
       "model_id": "643453fca3e34489be5d3abaf112ba7f",
       "version_major": 2,
       "version_minor": 0
      },
      "text/plain": [
       "HBox(children=(IntProgress(value=0, max=51), HTML(value='')))"
      ]
     },
     "metadata": {},
     "output_type": "display_data"
    },
    {
     "name": "stdout",
     "output_type": "stream",
     "text": [
      "{'accuracy': 0.8476903870162297, 'roc_auc': 0.8712642898334406, 'pr_auc': 0.5642135983208942}\n"
     ]
    },
    {
     "data": {
      "text/html": [
       "<div>\n",
       "<style scoped>\n",
       "    .dataframe tbody tr th:only-of-type {\n",
       "        vertical-align: middle;\n",
       "    }\n",
       "\n",
       "    .dataframe tbody tr th {\n",
       "        vertical-align: top;\n",
       "    }\n",
       "\n",
       "    .dataframe thead th {\n",
       "        text-align: right;\n",
       "    }\n",
       "</style>\n",
       "<table border=\"1\" class=\"dataframe\">\n",
       "  <thead>\n",
       "    <tr style=\"text-align: right;\">\n",
       "      <th></th>\n",
       "      <th>0.0</th>\n",
       "      <th>1.0</th>\n",
       "      <th>micro avg</th>\n",
       "      <th>macro avg</th>\n",
       "      <th>weighted avg</th>\n",
       "    </tr>\n",
       "  </thead>\n",
       "  <tbody>\n",
       "    <tr>\n",
       "      <th>f1-score</th>\n",
       "      <td>0.911</td>\n",
       "      <td>0.479</td>\n",
       "      <td>0.848</td>\n",
       "      <td>0.695</td>\n",
       "      <td>0.867</td>\n",
       "    </tr>\n",
       "    <tr>\n",
       "      <th>precision</th>\n",
       "      <td>0.960</td>\n",
       "      <td>0.368</td>\n",
       "      <td>0.848</td>\n",
       "      <td>0.664</td>\n",
       "      <td>0.899</td>\n",
       "    </tr>\n",
       "    <tr>\n",
       "      <th>recall</th>\n",
       "      <td>0.866</td>\n",
       "      <td>0.683</td>\n",
       "      <td>0.848</td>\n",
       "      <td>0.775</td>\n",
       "      <td>0.848</td>\n",
       "    </tr>\n",
       "    <tr>\n",
       "      <th>support</th>\n",
       "      <td>719.000</td>\n",
       "      <td>82.000</td>\n",
       "      <td>801.000</td>\n",
       "      <td>801.000</td>\n",
       "      <td>801.000</td>\n",
       "    </tr>\n",
       "  </tbody>\n",
       "</table>\n",
       "</div>"
      ],
      "text/plain": [
       "               0.0     1.0  micro avg  macro avg  weighted avg\n",
       "f1-score     0.911   0.479      0.848      0.695         0.867\n",
       "precision    0.960   0.368      0.848      0.664         0.899\n",
       "recall       0.866   0.683      0.848      0.775         0.848\n",
       "support    719.000  82.000    801.000    801.000       801.000"
      ]
     },
     "metadata": {},
     "output_type": "display_data"
    },
    {
     "name": "stdout",
     "output_type": "stream",
     "text": [
      "Model Saved on  roc_auc 0.8712642898334406\n"
     ]
    },
    {
     "data": {
      "application/vnd.jupyter.widget-view+json": {
       "model_id": "9fc971fbf1ef41fa88bd5b42bf18918d",
       "version_major": 2,
       "version_minor": 0
      },
      "text/plain": [
       "HBox(children=(IntProgress(value=0, max=229), HTML(value='')))"
      ]
     },
     "metadata": {},
     "output_type": "display_data"
    },
    {
     "data": {
      "application/vnd.jupyter.widget-view+json": {
       "model_id": "fc905bc5e95a439eb43a388d49e477b7",
       "version_major": 2,
       "version_minor": 0
      },
      "text/plain": [
       "HBox(children=(IntProgress(value=0, max=51), HTML(value='')))"
      ]
     },
     "metadata": {},
     "output_type": "display_data"
    },
    {
     "name": "stdout",
     "output_type": "stream",
     "text": [
      "{'accuracy': 0.898876404494382, 'roc_auc': 0.880118050137386, 'pr_auc': 0.5889620412545168}\n"
     ]
    },
    {
     "data": {
      "text/html": [
       "<div>\n",
       "<style scoped>\n",
       "    .dataframe tbody tr th:only-of-type {\n",
       "        vertical-align: middle;\n",
       "    }\n",
       "\n",
       "    .dataframe tbody tr th {\n",
       "        vertical-align: top;\n",
       "    }\n",
       "\n",
       "    .dataframe thead th {\n",
       "        text-align: right;\n",
       "    }\n",
       "</style>\n",
       "<table border=\"1\" class=\"dataframe\">\n",
       "  <thead>\n",
       "    <tr style=\"text-align: right;\">\n",
       "      <th></th>\n",
       "      <th>0.0</th>\n",
       "      <th>1.0</th>\n",
       "      <th>micro avg</th>\n",
       "      <th>macro avg</th>\n",
       "      <th>weighted avg</th>\n",
       "    </tr>\n",
       "  </thead>\n",
       "  <tbody>\n",
       "    <tr>\n",
       "      <th>f1-score</th>\n",
       "      <td>0.943</td>\n",
       "      <td>0.580</td>\n",
       "      <td>0.899</td>\n",
       "      <td>0.761</td>\n",
       "      <td>0.905</td>\n",
       "    </tr>\n",
       "    <tr>\n",
       "      <th>precision</th>\n",
       "      <td>0.962</td>\n",
       "      <td>0.505</td>\n",
       "      <td>0.899</td>\n",
       "      <td>0.733</td>\n",
       "      <td>0.915</td>\n",
       "    </tr>\n",
       "    <tr>\n",
       "      <th>recall</th>\n",
       "      <td>0.924</td>\n",
       "      <td>0.683</td>\n",
       "      <td>0.899</td>\n",
       "      <td>0.803</td>\n",
       "      <td>0.899</td>\n",
       "    </tr>\n",
       "    <tr>\n",
       "      <th>support</th>\n",
       "      <td>719.000</td>\n",
       "      <td>82.000</td>\n",
       "      <td>801.000</td>\n",
       "      <td>801.000</td>\n",
       "      <td>801.000</td>\n",
       "    </tr>\n",
       "  </tbody>\n",
       "</table>\n",
       "</div>"
      ],
      "text/plain": [
       "               0.0     1.0  micro avg  macro avg  weighted avg\n",
       "f1-score     0.943   0.580      0.899      0.761         0.905\n",
       "precision    0.962   0.505      0.899      0.733         0.915\n",
       "recall       0.924   0.683      0.899      0.803         0.899\n",
       "support    719.000  82.000    801.000    801.000       801.000"
      ]
     },
     "metadata": {},
     "output_type": "display_data"
    },
    {
     "name": "stdout",
     "output_type": "stream",
     "text": [
      "Model Saved on  roc_auc 0.880118050137386\n"
     ]
    },
    {
     "data": {
      "application/vnd.jupyter.widget-view+json": {
       "model_id": "3e476f6fe4d0462abd6d1150dc28bac1",
       "version_major": 2,
       "version_minor": 0
      },
      "text/plain": [
       "HBox(children=(IntProgress(value=0, max=229), HTML(value='')))"
      ]
     },
     "metadata": {},
     "output_type": "display_data"
    },
    {
     "data": {
      "application/vnd.jupyter.widget-view+json": {
       "model_id": "4d6d5f27bbfb4b92afe0c567cdc62b36",
       "version_major": 2,
       "version_minor": 0
      },
      "text/plain": [
       "HBox(children=(IntProgress(value=0, max=51), HTML(value='')))"
      ]
     },
     "metadata": {},
     "output_type": "display_data"
    },
    {
     "name": "stdout",
     "output_type": "stream",
     "text": [
      "{'accuracy': 0.8389513108614233, 'roc_auc': 0.8686861833847823, 'pr_auc': 0.6007569343513215}\n"
     ]
    },
    {
     "data": {
      "text/html": [
       "<div>\n",
       "<style scoped>\n",
       "    .dataframe tbody tr th:only-of-type {\n",
       "        vertical-align: middle;\n",
       "    }\n",
       "\n",
       "    .dataframe tbody tr th {\n",
       "        vertical-align: top;\n",
       "    }\n",
       "\n",
       "    .dataframe thead th {\n",
       "        text-align: right;\n",
       "    }\n",
       "</style>\n",
       "<table border=\"1\" class=\"dataframe\">\n",
       "  <thead>\n",
       "    <tr style=\"text-align: right;\">\n",
       "      <th></th>\n",
       "      <th>0.0</th>\n",
       "      <th>1.0</th>\n",
       "      <th>micro avg</th>\n",
       "      <th>macro avg</th>\n",
       "      <th>weighted avg</th>\n",
       "    </tr>\n",
       "  </thead>\n",
       "  <tbody>\n",
       "    <tr>\n",
       "      <th>f1-score</th>\n",
       "      <td>0.905</td>\n",
       "      <td>0.473</td>\n",
       "      <td>0.839</td>\n",
       "      <td>0.689</td>\n",
       "      <td>0.861</td>\n",
       "    </tr>\n",
       "    <tr>\n",
       "      <th>precision</th>\n",
       "      <td>0.962</td>\n",
       "      <td>0.356</td>\n",
       "      <td>0.839</td>\n",
       "      <td>0.659</td>\n",
       "      <td>0.900</td>\n",
       "    </tr>\n",
       "    <tr>\n",
       "      <th>recall</th>\n",
       "      <td>0.854</td>\n",
       "      <td>0.707</td>\n",
       "      <td>0.839</td>\n",
       "      <td>0.781</td>\n",
       "      <td>0.839</td>\n",
       "    </tr>\n",
       "    <tr>\n",
       "      <th>support</th>\n",
       "      <td>719.000</td>\n",
       "      <td>82.000</td>\n",
       "      <td>801.000</td>\n",
       "      <td>801.000</td>\n",
       "      <td>801.000</td>\n",
       "    </tr>\n",
       "  </tbody>\n",
       "</table>\n",
       "</div>"
      ],
      "text/plain": [
       "               0.0     1.0  micro avg  macro avg  weighted avg\n",
       "f1-score     0.905   0.473      0.839      0.689         0.861\n",
       "precision    0.962   0.356      0.839      0.659         0.900\n",
       "recall       0.854   0.707      0.839      0.781         0.839\n",
       "support    719.000  82.000    801.000    801.000       801.000"
      ]
     },
     "metadata": {},
     "output_type": "display_data"
    },
    {
     "name": "stdout",
     "output_type": "stream",
     "text": [
      "Model not saved on  roc_auc 0.8686861833847823\n"
     ]
    },
    {
     "data": {
      "application/vnd.jupyter.widget-view+json": {
       "model_id": "b50527f51434453493d5f46304bea7d7",
       "version_major": 2,
       "version_minor": 0
      },
      "text/plain": [
       "HBox(children=(IntProgress(value=0, max=229), HTML(value='')))"
      ]
     },
     "metadata": {},
     "output_type": "display_data"
    },
    {
     "data": {
      "application/vnd.jupyter.widget-view+json": {
       "model_id": "abf8d855ac864c49aee16b32b7c11fa6",
       "version_major": 2,
       "version_minor": 0
      },
      "text/plain": [
       "HBox(children=(IntProgress(value=0, max=51), HTML(value='')))"
      ]
     },
     "metadata": {},
     "output_type": "display_data"
    },
    {
     "name": "stdout",
     "output_type": "stream",
     "text": [
      "{'accuracy': 0.9250936329588015, 'roc_auc': 0.8786254621934259, 'pr_auc': 0.6067641401576855}\n"
     ]
    },
    {
     "data": {
      "text/html": [
       "<div>\n",
       "<style scoped>\n",
       "    .dataframe tbody tr th:only-of-type {\n",
       "        vertical-align: middle;\n",
       "    }\n",
       "\n",
       "    .dataframe tbody tr th {\n",
       "        vertical-align: top;\n",
       "    }\n",
       "\n",
       "    .dataframe thead th {\n",
       "        text-align: right;\n",
       "    }\n",
       "</style>\n",
       "<table border=\"1\" class=\"dataframe\">\n",
       "  <thead>\n",
       "    <tr style=\"text-align: right;\">\n",
       "      <th></th>\n",
       "      <th>0.0</th>\n",
       "      <th>1.0</th>\n",
       "      <th>micro avg</th>\n",
       "      <th>macro avg</th>\n",
       "      <th>weighted avg</th>\n",
       "    </tr>\n",
       "  </thead>\n",
       "  <tbody>\n",
       "    <tr>\n",
       "      <th>f1-score</th>\n",
       "      <td>0.958</td>\n",
       "      <td>0.630</td>\n",
       "      <td>0.925</td>\n",
       "      <td>0.794</td>\n",
       "      <td>0.925</td>\n",
       "    </tr>\n",
       "    <tr>\n",
       "      <th>precision</th>\n",
       "      <td>0.957</td>\n",
       "      <td>0.638</td>\n",
       "      <td>0.925</td>\n",
       "      <td>0.797</td>\n",
       "      <td>0.924</td>\n",
       "    </tr>\n",
       "    <tr>\n",
       "      <th>recall</th>\n",
       "      <td>0.960</td>\n",
       "      <td>0.622</td>\n",
       "      <td>0.925</td>\n",
       "      <td>0.791</td>\n",
       "      <td>0.925</td>\n",
       "    </tr>\n",
       "    <tr>\n",
       "      <th>support</th>\n",
       "      <td>719.000</td>\n",
       "      <td>82.000</td>\n",
       "      <td>801.000</td>\n",
       "      <td>801.000</td>\n",
       "      <td>801.000</td>\n",
       "    </tr>\n",
       "  </tbody>\n",
       "</table>\n",
       "</div>"
      ],
      "text/plain": [
       "               0.0     1.0  micro avg  macro avg  weighted avg\n",
       "f1-score     0.958   0.630      0.925      0.794         0.925\n",
       "precision    0.957   0.638      0.925      0.797         0.924\n",
       "recall       0.960   0.622      0.925      0.791         0.925\n",
       "support    719.000  82.000    801.000    801.000       801.000"
      ]
     },
     "metadata": {},
     "output_type": "display_data"
    },
    {
     "name": "stdout",
     "output_type": "stream",
     "text": [
      "Model not saved on  roc_auc 0.8786254621934259\n"
     ]
    },
    {
     "data": {
      "application/vnd.jupyter.widget-view+json": {
       "model_id": "22bf8e45259b41fcb20abf932b1267e5",
       "version_major": 2,
       "version_minor": 0
      },
      "text/plain": [
       "HBox(children=(IntProgress(value=0, max=229), HTML(value='')))"
      ]
     },
     "metadata": {},
     "output_type": "display_data"
    },
    {
     "data": {
      "application/vnd.jupyter.widget-view+json": {
       "model_id": "fc00c2d22b2a4cc79ffc4fb5151ca99a",
       "version_major": 2,
       "version_minor": 0
      },
      "text/plain": [
       "HBox(children=(IntProgress(value=0, max=51), HTML(value='')))"
      ]
     },
     "metadata": {},
     "output_type": "display_data"
    },
    {
     "name": "stdout",
     "output_type": "stream",
     "text": [
      "{'accuracy': 0.8302122347066168, 'roc_auc': 0.8393093388513857, 'pr_auc': 0.5971354469698541}\n"
     ]
    },
    {
     "data": {
      "text/html": [
       "<div>\n",
       "<style scoped>\n",
       "    .dataframe tbody tr th:only-of-type {\n",
       "        vertical-align: middle;\n",
       "    }\n",
       "\n",
       "    .dataframe tbody tr th {\n",
       "        vertical-align: top;\n",
       "    }\n",
       "\n",
       "    .dataframe thead th {\n",
       "        text-align: right;\n",
       "    }\n",
       "</style>\n",
       "<table border=\"1\" class=\"dataframe\">\n",
       "  <thead>\n",
       "    <tr style=\"text-align: right;\">\n",
       "      <th></th>\n",
       "      <th>0.0</th>\n",
       "      <th>1.0</th>\n",
       "      <th>micro avg</th>\n",
       "      <th>macro avg</th>\n",
       "      <th>weighted avg</th>\n",
       "    </tr>\n",
       "  </thead>\n",
       "  <tbody>\n",
       "    <tr>\n",
       "      <th>f1-score</th>\n",
       "      <td>0.899</td>\n",
       "      <td>0.460</td>\n",
       "      <td>0.83</td>\n",
       "      <td>0.680</td>\n",
       "      <td>0.854</td>\n",
       "    </tr>\n",
       "    <tr>\n",
       "      <th>precision</th>\n",
       "      <td>0.962</td>\n",
       "      <td>0.341</td>\n",
       "      <td>0.83</td>\n",
       "      <td>0.652</td>\n",
       "      <td>0.898</td>\n",
       "    </tr>\n",
       "    <tr>\n",
       "      <th>recall</th>\n",
       "      <td>0.844</td>\n",
       "      <td>0.707</td>\n",
       "      <td>0.83</td>\n",
       "      <td>0.776</td>\n",
       "      <td>0.830</td>\n",
       "    </tr>\n",
       "    <tr>\n",
       "      <th>support</th>\n",
       "      <td>719.000</td>\n",
       "      <td>82.000</td>\n",
       "      <td>801.00</td>\n",
       "      <td>801.000</td>\n",
       "      <td>801.000</td>\n",
       "    </tr>\n",
       "  </tbody>\n",
       "</table>\n",
       "</div>"
      ],
      "text/plain": [
       "               0.0     1.0  micro avg  macro avg  weighted avg\n",
       "f1-score     0.899   0.460       0.83      0.680         0.854\n",
       "precision    0.962   0.341       0.83      0.652         0.898\n",
       "recall       0.844   0.707       0.83      0.776         0.830\n",
       "support    719.000  82.000     801.00    801.000       801.000"
      ]
     },
     "metadata": {},
     "output_type": "display_data"
    },
    {
     "name": "stderr",
     "output_type": "stream",
     "text": [
      "INFO - 2019-03-26 14:58:18,199 - instantiating class <class 'PatientVec.models.Model.Model'> from params {'type': 'seq_classifier', 'embedder': {'type': 'token_embedder', 'vocab_size': 18542, 'embed_size': 200, 'embedding_file': '../../../SurgeryData/PatientVec/preprocess/KneeSurgery/1_yrs/embedding_matrix.npy'}, 'decoder': {'num_layers': 2, 'hidden_dims': [128, 1], 'activations': ['tanh', 'linear']}, 'predictor': {'type': 'binary'}, 'structured': {'use_structured': False}, 'encoder': {'type': 'cnn', 'hidden_size': 64, 'kernel_sizes': [3, 5, 7, 9], 'activation': 'relu'}} and extras {}\n",
      "INFO - 2019-03-26 14:58:18,200 - type = seq_classifier\n",
      "INFO - 2019-03-26 14:58:18,200 - instantiating class <class 'PatientVec.models.modules.Embedder.Embedder'> from params {'type': 'token_embedder', 'vocab_size': 18542, 'embed_size': 200, 'embedding_file': '../../../SurgeryData/PatientVec/preprocess/KneeSurgery/1_yrs/embedding_matrix.npy'} and extras {}\n",
      "INFO - 2019-03-26 14:58:18,200 - embedder.type = token_embedder\n",
      "INFO - 2019-03-26 14:58:18,201 - instantiating class <class 'PatientVec.models.modules.Embedder.TokenEmbedder'> from params {'vocab_size': 18542, 'embed_size': 200, 'embedding_file': '../../../SurgeryData/PatientVec/preprocess/KneeSurgery/1_yrs/embedding_matrix.npy'} and extras {}\n",
      "INFO - 2019-03-26 14:58:18,201 - embedder.vocab_size = 18542\n",
      "INFO - 2019-03-26 14:58:18,201 - embedder.embed_size = 200\n",
      "INFO - 2019-03-26 14:58:18,201 - embedder.embedding_file = ../../../SurgeryData/PatientVec/preprocess/KneeSurgery/1_yrs/embedding_matrix.npy\n",
      "INFO - 2019-03-26 14:58:18,209 - instantiating class <class 'PatientVec.models.modules.Encoder.Encoder'> from params {'type': 'cnn', 'hidden_size': 64, 'kernel_sizes': [3, 5, 7, 9], 'activation': 'relu'} and extras {'input_size': 200}\n",
      "INFO - 2019-03-26 14:58:18,210 - encoder.type = cnn\n",
      "INFO - 2019-03-26 14:58:18,210 - instantiating class <class 'PatientVec.models.modules.Encoder.CNNEncoder'> from params {'hidden_size': 64, 'kernel_sizes': [3, 5, 7, 9], 'activation': 'relu'} and extras {'input_size': 200}\n",
      "INFO - 2019-03-26 14:58:18,210 - encoder.hidden_size = 64\n",
      "INFO - 2019-03-26 14:58:18,211 - encoder.kernel_sizes = [3, 5, 7, 9]\n",
      "INFO - 2019-03-26 14:58:18,211 - encoder.activation = relu\n",
      "INFO - 2019-03-26 14:58:18,214 - decoder.input_dim = 256\n",
      "INFO - 2019-03-26 14:58:18,214 - decoder.num_layers = 2\n",
      "INFO - 2019-03-26 14:58:18,214 - decoder.hidden_dims = [128, 1]\n",
      "INFO - 2019-03-26 14:58:18,214 - decoder.activations = ['tanh', 'linear']\n",
      "INFO - 2019-03-26 14:58:18,215 - decoder.dropout = 0.0\n",
      "INFO - 2019-03-26 14:58:18,216 - instantiating class <class 'PatientVec.models.modules.Predictor.Predictor'> from params {'type': 'binary'} and extras {}\n",
      "INFO - 2019-03-26 14:58:18,216 - predictor.type = binary\n",
      "INFO - 2019-03-26 14:58:18,216 - instantiating class <class 'PatientVec.models.modules.Predictor.Binary_Predictor'> from params {} and extras {}\n",
      "INFO - 2019-03-26 14:58:18,217 - predictor.replicate = False\n",
      "INFO - 2019-03-26 14:58:18,217 - predictor.alpha = 0.5\n"
     ]
    },
    {
     "name": "stdout",
     "output_type": "stream",
     "text": [
      "Model not saved on  roc_auc 0.8393093388513857\n",
      "0.880118050137386 deque([0.8686861833847823, 0.8786254621934259, 0.8393093388513857], maxlen=3)\n",
      "\n",
      "Setting Embedding\n"
     ]
    },
    {
     "data": {
      "application/vnd.jupyter.widget-view+json": {
       "model_id": "321358596f83481a9f2b0cd1b06c3877",
       "version_major": 2,
       "version_minor": 0
      },
      "text/plain": [
       "HBox(children=(IntProgress(value=0, max=51), HTML(value='')))"
      ]
     },
     "metadata": {},
     "output_type": "display_data"
    },
    {
     "name": "stdout",
     "output_type": "stream",
     "text": [
      "\n",
      "{'accuracy': 0.898876404494382, 'roc_auc': 0.880118050137386, 'pr_auc': 0.5889620412545168}\n"
     ]
    },
    {
     "data": {
      "text/html": [
       "<div>\n",
       "<style scoped>\n",
       "    .dataframe tbody tr th:only-of-type {\n",
       "        vertical-align: middle;\n",
       "    }\n",
       "\n",
       "    .dataframe tbody tr th {\n",
       "        vertical-align: top;\n",
       "    }\n",
       "\n",
       "    .dataframe thead th {\n",
       "        text-align: right;\n",
       "    }\n",
       "</style>\n",
       "<table border=\"1\" class=\"dataframe\">\n",
       "  <thead>\n",
       "    <tr style=\"text-align: right;\">\n",
       "      <th></th>\n",
       "      <th>0.0</th>\n",
       "      <th>1.0</th>\n",
       "      <th>micro avg</th>\n",
       "      <th>macro avg</th>\n",
       "      <th>weighted avg</th>\n",
       "    </tr>\n",
       "  </thead>\n",
       "  <tbody>\n",
       "    <tr>\n",
       "      <th>f1-score</th>\n",
       "      <td>0.943</td>\n",
       "      <td>0.580</td>\n",
       "      <td>0.899</td>\n",
       "      <td>0.761</td>\n",
       "      <td>0.905</td>\n",
       "    </tr>\n",
       "    <tr>\n",
       "      <th>precision</th>\n",
       "      <td>0.962</td>\n",
       "      <td>0.505</td>\n",
       "      <td>0.899</td>\n",
       "      <td>0.733</td>\n",
       "      <td>0.915</td>\n",
       "    </tr>\n",
       "    <tr>\n",
       "      <th>recall</th>\n",
       "      <td>0.924</td>\n",
       "      <td>0.683</td>\n",
       "      <td>0.899</td>\n",
       "      <td>0.803</td>\n",
       "      <td>0.899</td>\n",
       "    </tr>\n",
       "    <tr>\n",
       "      <th>support</th>\n",
       "      <td>719.000</td>\n",
       "      <td>82.000</td>\n",
       "      <td>801.000</td>\n",
       "      <td>801.000</td>\n",
       "      <td>801.000</td>\n",
       "    </tr>\n",
       "  </tbody>\n",
       "</table>\n",
       "</div>"
      ],
      "text/plain": [
       "               0.0     1.0  micro avg  macro avg  weighted avg\n",
       "f1-score     0.943   0.580      0.899      0.761         0.905\n",
       "precision    0.962   0.505      0.899      0.733         0.915\n",
       "recall       0.924   0.683      0.899      0.803         0.899\n",
       "support    719.000  82.000    801.000    801.000       801.000"
      ]
     },
     "metadata": {},
     "output_type": "display_data"
    },
    {
     "name": "stderr",
     "output_type": "stream",
     "text": [
      "INFO - 2019-03-26 14:58:23,970 - instantiating class <class 'PatientVec.models.Model.Model'> from params {'type': 'seq_classifier_with_attention', 'embedder': {'type': 'token_embedder', 'vocab_size': 18542, 'embed_size': 200, 'embedding_file': '../../../SurgeryData/PatientVec/preprocess/KneeSurgery/1_yrs/embedding_matrix.npy'}, 'decoder': {'num_layers': 2, 'hidden_dims': [128, 1], 'activations': ['tanh', 'linear']}, 'predictor': {'type': 'binary'}, 'structured': {'use_structured': False}, 'encoder': {'type': 'cnn', 'hidden_size': 64, 'kernel_sizes': [3, 5, 7, 9], 'activation': 'relu'}, 'attention': {'similarity': {'type': 'additive', 'hidden_size': 128}}} and extras {}\n",
      "INFO - 2019-03-26 14:58:23,971 - type = seq_classifier_with_attention\n",
      "INFO - 2019-03-26 14:58:23,971 - instantiating class <class 'PatientVec.models.modules.Embedder.Embedder'> from params {'type': 'token_embedder', 'vocab_size': 18542, 'embed_size': 200, 'embedding_file': '../../../SurgeryData/PatientVec/preprocess/KneeSurgery/1_yrs/embedding_matrix.npy'} and extras {}\n",
      "INFO - 2019-03-26 14:58:23,971 - embedder.type = token_embedder\n",
      "INFO - 2019-03-26 14:58:23,972 - instantiating class <class 'PatientVec.models.modules.Embedder.TokenEmbedder'> from params {'vocab_size': 18542, 'embed_size': 200, 'embedding_file': '../../../SurgeryData/PatientVec/preprocess/KneeSurgery/1_yrs/embedding_matrix.npy'} and extras {}\n",
      "INFO - 2019-03-26 14:58:23,972 - embedder.vocab_size = 18542\n",
      "INFO - 2019-03-26 14:58:23,973 - embedder.embed_size = 200\n",
      "INFO - 2019-03-26 14:58:23,973 - embedder.embedding_file = ../../../SurgeryData/PatientVec/preprocess/KneeSurgery/1_yrs/embedding_matrix.npy\n",
      "INFO - 2019-03-26 14:58:23,981 - instantiating class <class 'PatientVec.models.modules.Encoder.Encoder'> from params {'type': 'cnn', 'hidden_size': 64, 'kernel_sizes': [3, 5, 7, 9], 'activation': 'relu'} and extras {'input_size': 200}\n",
      "INFO - 2019-03-26 14:58:23,981 - encoder.type = cnn\n",
      "INFO - 2019-03-26 14:58:23,981 - instantiating class <class 'PatientVec.models.modules.Encoder.CNNEncoder'> from params {'hidden_size': 64, 'kernel_sizes': [3, 5, 7, 9], 'activation': 'relu'} and extras {'input_size': 200}\n",
      "INFO - 2019-03-26 14:58:23,982 - encoder.hidden_size = 64\n",
      "INFO - 2019-03-26 14:58:23,982 - encoder.kernel_sizes = [3, 5, 7, 9]\n",
      "INFO - 2019-03-26 14:58:23,982 - encoder.activation = relu\n",
      "INFO - 2019-03-26 14:58:23,985 - instantiating class <class 'PatientVec.models.modules.SelfAttention.SelfAttention'> from params {'similarity': {'type': 'additive', 'hidden_size': 128, 'tensor_1_dim': 256}} and extras {}\n",
      "INFO - 2019-03-26 14:58:23,985 - instantiating class <class 'PatientVec.models.modules.UniSimilarity.UniSimilarity'> from params {'type': 'additive', 'hidden_size': 128, 'tensor_1_dim': 256} and extras {}\n",
      "INFO - 2019-03-26 14:58:23,986 - attention.similarity.type = additive\n",
      "INFO - 2019-03-26 14:58:23,986 - instantiating class <class 'PatientVec.models.modules.UniSimilarity.UniAdditiveSimilarity'> from params {'hidden_size': 128, 'tensor_1_dim': 256} and extras {}\n",
      "INFO - 2019-03-26 14:58:23,986 - attention.similarity.tensor_1_dim = 256\n",
      "INFO - 2019-03-26 14:58:23,986 - attention.similarity.hidden_size = 128\n",
      "INFO - 2019-03-26 14:58:23,987 - attention.similarity.output_size = 1\n",
      "INFO - 2019-03-26 14:58:23,988 - attention.normaliser = softmax\n",
      "INFO - 2019-03-26 14:58:23,988 - decoder.input_dim = 256\n",
      "INFO - 2019-03-26 14:58:23,989 - decoder.num_layers = 2\n",
      "INFO - 2019-03-26 14:58:23,989 - decoder.hidden_dims = [128, 1]\n",
      "INFO - 2019-03-26 14:58:23,989 - decoder.activations = ['tanh', 'linear']\n",
      "INFO - 2019-03-26 14:58:23,989 - decoder.dropout = 0.0\n",
      "INFO - 2019-03-26 14:58:23,991 - instantiating class <class 'PatientVec.models.modules.Predictor.Predictor'> from params {'type': 'binary'} and extras {}\n",
      "INFO - 2019-03-26 14:58:23,991 - predictor.type = binary\n",
      "INFO - 2019-03-26 14:58:23,991 - instantiating class <class 'PatientVec.models.modules.Predictor.Binary_Predictor'> from params {} and extras {}\n",
      "INFO - 2019-03-26 14:58:23,991 - predictor.replicate = False\n",
      "INFO - 2019-03-26 14:58:23,992 - predictor.alpha = 0.5\n"
     ]
    },
    {
     "name": "stdout",
     "output_type": "stream",
     "text": [
      "============================================================================================================================================================================================================================================================================================================\n",
      "{'model': {'type': 'seq_classifier_with_attention', 'embedder': {'type': 'token_embedder', 'vocab_size': 18542, 'embed_size': 200, 'embedding_file': '../../../SurgeryData/PatientVec/preprocess/KneeSurgery/1_yrs/embedding_matrix.npy'}, 'decoder': {'num_layers': 2, 'hidden_dims': [128, 1], 'activations': ['tanh', 'linear']}, 'predictor': {'type': 'binary'}, 'structured': {'use_structured': False}, 'encoder': {'type': 'cnn', 'hidden_size': 64, 'kernel_sizes': [3, 5, 7, 9], 'activation': 'relu'}, 'attention': {'similarity': {'type': 'additive', 'hidden_size': 128}}}, 'training_config': {'type': 'Adam', 'groups': [('.*', {'lr': 0.001, 'weight_decay': 1e-05})], 'common': {'bsize': 16, 'class_weight': True}}, 'exp_config': {'exp_name': 'KneeSurgery_1/Attention/CNN(hs=64)(kernels=3,5,7,9)+Attention(additive)(hs=128)', 'basepath': 'outputs/confidence'}}\n",
      "Setting Embedding\n"
     ]
    },
    {
     "data": {
      "application/vnd.jupyter.widget-view+json": {
       "model_id": "e9ab7a5df20043b08dc4325a8bed7b96",
       "version_major": 2,
       "version_minor": 0
      },
      "text/plain": [
       "HBox(children=(IntProgress(value=0, max=8), HTML(value='')))"
      ]
     },
     "metadata": {},
     "output_type": "display_data"
    },
    {
     "data": {
      "application/vnd.jupyter.widget-view+json": {
       "model_id": "8e72bf3e10714752b5ba8898c493214d",
       "version_major": 2,
       "version_minor": 0
      },
      "text/plain": [
       "HBox(children=(IntProgress(value=0, max=229), HTML(value='')))"
      ]
     },
     "metadata": {},
     "output_type": "display_data"
    },
    {
     "data": {
      "application/vnd.jupyter.widget-view+json": {
       "model_id": "36dbf909c7024216ad6d519ecfc6d600",
       "version_major": 2,
       "version_minor": 0
      },
      "text/plain": [
       "HBox(children=(IntProgress(value=0, max=51), HTML(value='')))"
      ]
     },
     "metadata": {},
     "output_type": "display_data"
    },
    {
     "name": "stdout",
     "output_type": "stream",
     "text": [
      "{'accuracy': 0.8377028714107366, 'roc_auc': 0.8121204925540215, 'pr_auc': 0.527603583463602}\n"
     ]
    },
    {
     "data": {
      "text/html": [
       "<div>\n",
       "<style scoped>\n",
       "    .dataframe tbody tr th:only-of-type {\n",
       "        vertical-align: middle;\n",
       "    }\n",
       "\n",
       "    .dataframe tbody tr th {\n",
       "        vertical-align: top;\n",
       "    }\n",
       "\n",
       "    .dataframe thead th {\n",
       "        text-align: right;\n",
       "    }\n",
       "</style>\n",
       "<table border=\"1\" class=\"dataframe\">\n",
       "  <thead>\n",
       "    <tr style=\"text-align: right;\">\n",
       "      <th></th>\n",
       "      <th>0.0</th>\n",
       "      <th>1.0</th>\n",
       "      <th>micro avg</th>\n",
       "      <th>macro avg</th>\n",
       "      <th>weighted avg</th>\n",
       "    </tr>\n",
       "  </thead>\n",
       "  <tbody>\n",
       "    <tr>\n",
       "      <th>f1-score</th>\n",
       "      <td>0.904</td>\n",
       "      <td>0.472</td>\n",
       "      <td>0.838</td>\n",
       "      <td>0.688</td>\n",
       "      <td>0.860</td>\n",
       "    </tr>\n",
       "    <tr>\n",
       "      <th>precision</th>\n",
       "      <td>0.962</td>\n",
       "      <td>0.354</td>\n",
       "      <td>0.838</td>\n",
       "      <td>0.658</td>\n",
       "      <td>0.900</td>\n",
       "    </tr>\n",
       "    <tr>\n",
       "      <th>recall</th>\n",
       "      <td>0.853</td>\n",
       "      <td>0.707</td>\n",
       "      <td>0.838</td>\n",
       "      <td>0.780</td>\n",
       "      <td>0.838</td>\n",
       "    </tr>\n",
       "    <tr>\n",
       "      <th>support</th>\n",
       "      <td>719.000</td>\n",
       "      <td>82.000</td>\n",
       "      <td>801.000</td>\n",
       "      <td>801.000</td>\n",
       "      <td>801.000</td>\n",
       "    </tr>\n",
       "  </tbody>\n",
       "</table>\n",
       "</div>"
      ],
      "text/plain": [
       "               0.0     1.0  micro avg  macro avg  weighted avg\n",
       "f1-score     0.904   0.472      0.838      0.688         0.860\n",
       "precision    0.962   0.354      0.838      0.658         0.900\n",
       "recall       0.853   0.707      0.838      0.780         0.838\n",
       "support    719.000  82.000    801.000    801.000       801.000"
      ]
     },
     "metadata": {},
     "output_type": "display_data"
    },
    {
     "name": "stdout",
     "output_type": "stream",
     "text": [
      "Model Saved on  roc_auc 0.8121204925540215\n"
     ]
    },
    {
     "data": {
      "application/vnd.jupyter.widget-view+json": {
       "model_id": "de10d1718a2b492db6f35409bbbe1802",
       "version_major": 2,
       "version_minor": 0
      },
      "text/plain": [
       "HBox(children=(IntProgress(value=0, max=229), HTML(value='')))"
      ]
     },
     "metadata": {},
     "output_type": "display_data"
    },
    {
     "data": {
      "application/vnd.jupyter.widget-view+json": {
       "model_id": "49d83d49bede472cbf2e90b8117917af",
       "version_major": 2,
       "version_minor": 0
      },
      "text/plain": [
       "HBox(children=(IntProgress(value=0, max=51), HTML(value='')))"
      ]
     },
     "metadata": {},
     "output_type": "display_data"
    },
    {
     "name": "stdout",
     "output_type": "stream",
     "text": [
      "{'accuracy': 0.6666666666666666, 'roc_auc': 0.7936327555208793, 'pr_auc': 0.4797105736999272}\n"
     ]
    },
    {
     "data": {
      "text/html": [
       "<div>\n",
       "<style scoped>\n",
       "    .dataframe tbody tr th:only-of-type {\n",
       "        vertical-align: middle;\n",
       "    }\n",
       "\n",
       "    .dataframe tbody tr th {\n",
       "        vertical-align: top;\n",
       "    }\n",
       "\n",
       "    .dataframe thead th {\n",
       "        text-align: right;\n",
       "    }\n",
       "</style>\n",
       "<table border=\"1\" class=\"dataframe\">\n",
       "  <thead>\n",
       "    <tr style=\"text-align: right;\">\n",
       "      <th></th>\n",
       "      <th>0.0</th>\n",
       "      <th>1.0</th>\n",
       "      <th>micro avg</th>\n",
       "      <th>macro avg</th>\n",
       "      <th>weighted avg</th>\n",
       "    </tr>\n",
       "  </thead>\n",
       "  <tbody>\n",
       "    <tr>\n",
       "      <th>f1-score</th>\n",
       "      <td>0.780</td>\n",
       "      <td>0.310</td>\n",
       "      <td>0.667</td>\n",
       "      <td>0.545</td>\n",
       "      <td>0.732</td>\n",
       "    </tr>\n",
       "    <tr>\n",
       "      <th>precision</th>\n",
       "      <td>0.956</td>\n",
       "      <td>0.197</td>\n",
       "      <td>0.667</td>\n",
       "      <td>0.576</td>\n",
       "      <td>0.878</td>\n",
       "    </tr>\n",
       "    <tr>\n",
       "      <th>recall</th>\n",
       "      <td>0.659</td>\n",
       "      <td>0.732</td>\n",
       "      <td>0.667</td>\n",
       "      <td>0.695</td>\n",
       "      <td>0.667</td>\n",
       "    </tr>\n",
       "    <tr>\n",
       "      <th>support</th>\n",
       "      <td>719.000</td>\n",
       "      <td>82.000</td>\n",
       "      <td>801.000</td>\n",
       "      <td>801.000</td>\n",
       "      <td>801.000</td>\n",
       "    </tr>\n",
       "  </tbody>\n",
       "</table>\n",
       "</div>"
      ],
      "text/plain": [
       "               0.0     1.0  micro avg  macro avg  weighted avg\n",
       "f1-score     0.780   0.310      0.667      0.545         0.732\n",
       "precision    0.956   0.197      0.667      0.576         0.878\n",
       "recall       0.659   0.732      0.667      0.695         0.667\n",
       "support    719.000  82.000    801.000    801.000       801.000"
      ]
     },
     "metadata": {},
     "output_type": "display_data"
    },
    {
     "name": "stdout",
     "output_type": "stream",
     "text": [
      "Model not saved on  roc_auc 0.7936327555208793\n"
     ]
    },
    {
     "data": {
      "application/vnd.jupyter.widget-view+json": {
       "model_id": "7254d6b5baa541198cb8738d77b8baee",
       "version_major": 2,
       "version_minor": 0
      },
      "text/plain": [
       "HBox(children=(IntProgress(value=0, max=229), HTML(value='')))"
      ]
     },
     "metadata": {},
     "output_type": "display_data"
    },
    {
     "data": {
      "application/vnd.jupyter.widget-view+json": {
       "model_id": "54106c6e8fde49838a89624631be4887",
       "version_major": 2,
       "version_minor": 0
      },
      "text/plain": [
       "HBox(children=(IntProgress(value=0, max=51), HTML(value='')))"
      ]
     },
     "metadata": {},
     "output_type": "display_data"
    },
    {
     "name": "stdout",
     "output_type": "stream",
     "text": [
      "{'accuracy': 0.9051186017478152, 'roc_auc': 0.859510159774755, 'pr_auc': 0.5552649489707828}\n"
     ]
    },
    {
     "data": {
      "text/html": [
       "<div>\n",
       "<style scoped>\n",
       "    .dataframe tbody tr th:only-of-type {\n",
       "        vertical-align: middle;\n",
       "    }\n",
       "\n",
       "    .dataframe tbody tr th {\n",
       "        vertical-align: top;\n",
       "    }\n",
       "\n",
       "    .dataframe thead th {\n",
       "        text-align: right;\n",
       "    }\n",
       "</style>\n",
       "<table border=\"1\" class=\"dataframe\">\n",
       "  <thead>\n",
       "    <tr style=\"text-align: right;\">\n",
       "      <th></th>\n",
       "      <th>0.0</th>\n",
       "      <th>1.0</th>\n",
       "      <th>micro avg</th>\n",
       "      <th>macro avg</th>\n",
       "      <th>weighted avg</th>\n",
       "    </tr>\n",
       "  </thead>\n",
       "  <tbody>\n",
       "    <tr>\n",
       "      <th>f1-score</th>\n",
       "      <td>0.946</td>\n",
       "      <td>0.591</td>\n",
       "      <td>0.905</td>\n",
       "      <td>0.769</td>\n",
       "      <td>0.910</td>\n",
       "    </tr>\n",
       "    <tr>\n",
       "      <th>precision</th>\n",
       "      <td>0.961</td>\n",
       "      <td>0.529</td>\n",
       "      <td>0.905</td>\n",
       "      <td>0.745</td>\n",
       "      <td>0.917</td>\n",
       "    </tr>\n",
       "    <tr>\n",
       "      <th>recall</th>\n",
       "      <td>0.932</td>\n",
       "      <td>0.671</td>\n",
       "      <td>0.905</td>\n",
       "      <td>0.801</td>\n",
       "      <td>0.905</td>\n",
       "    </tr>\n",
       "    <tr>\n",
       "      <th>support</th>\n",
       "      <td>719.000</td>\n",
       "      <td>82.000</td>\n",
       "      <td>801.000</td>\n",
       "      <td>801.000</td>\n",
       "      <td>801.000</td>\n",
       "    </tr>\n",
       "  </tbody>\n",
       "</table>\n",
       "</div>"
      ],
      "text/plain": [
       "               0.0     1.0  micro avg  macro avg  weighted avg\n",
       "f1-score     0.946   0.591      0.905      0.769         0.910\n",
       "precision    0.961   0.529      0.905      0.745         0.917\n",
       "recall       0.932   0.671      0.905      0.801         0.905\n",
       "support    719.000  82.000    801.000    801.000       801.000"
      ]
     },
     "metadata": {},
     "output_type": "display_data"
    },
    {
     "name": "stdout",
     "output_type": "stream",
     "text": [
      "Model Saved on  roc_auc 0.859510159774755\n"
     ]
    },
    {
     "data": {
      "application/vnd.jupyter.widget-view+json": {
       "model_id": "6017bd1b95274d7cb50d7bb603088e04",
       "version_major": 2,
       "version_minor": 0
      },
      "text/plain": [
       "HBox(children=(IntProgress(value=0, max=229), HTML(value='')))"
      ]
     },
     "metadata": {},
     "output_type": "display_data"
    },
    {
     "data": {
      "application/vnd.jupyter.widget-view+json": {
       "model_id": "08c7feb424f4472dbc0c6d54c964451c",
       "version_major": 2,
       "version_minor": 0
      },
      "text/plain": [
       "HBox(children=(IntProgress(value=0, max=51), HTML(value='')))"
      ]
     },
     "metadata": {},
     "output_type": "display_data"
    },
    {
     "name": "stdout",
     "output_type": "stream",
     "text": [
      "{'accuracy': 0.885143570536829, 'roc_auc': 0.8432782658841887, 'pr_auc': 0.5631991999926717}\n"
     ]
    },
    {
     "data": {
      "text/html": [
       "<div>\n",
       "<style scoped>\n",
       "    .dataframe tbody tr th:only-of-type {\n",
       "        vertical-align: middle;\n",
       "    }\n",
       "\n",
       "    .dataframe tbody tr th {\n",
       "        vertical-align: top;\n",
       "    }\n",
       "\n",
       "    .dataframe thead th {\n",
       "        text-align: right;\n",
       "    }\n",
       "</style>\n",
       "<table border=\"1\" class=\"dataframe\">\n",
       "  <thead>\n",
       "    <tr style=\"text-align: right;\">\n",
       "      <th></th>\n",
       "      <th>0.0</th>\n",
       "      <th>1.0</th>\n",
       "      <th>micro avg</th>\n",
       "      <th>macro avg</th>\n",
       "      <th>weighted avg</th>\n",
       "    </tr>\n",
       "  </thead>\n",
       "  <tbody>\n",
       "    <tr>\n",
       "      <th>f1-score</th>\n",
       "      <td>0.934</td>\n",
       "      <td>0.545</td>\n",
       "      <td>0.885</td>\n",
       "      <td>0.739</td>\n",
       "      <td>0.894</td>\n",
       "    </tr>\n",
       "    <tr>\n",
       "      <th>precision</th>\n",
       "      <td>0.960</td>\n",
       "      <td>0.458</td>\n",
       "      <td>0.885</td>\n",
       "      <td>0.709</td>\n",
       "      <td>0.909</td>\n",
       "    </tr>\n",
       "    <tr>\n",
       "      <th>recall</th>\n",
       "      <td>0.910</td>\n",
       "      <td>0.671</td>\n",
       "      <td>0.885</td>\n",
       "      <td>0.790</td>\n",
       "      <td>0.885</td>\n",
       "    </tr>\n",
       "    <tr>\n",
       "      <th>support</th>\n",
       "      <td>719.000</td>\n",
       "      <td>82.000</td>\n",
       "      <td>801.000</td>\n",
       "      <td>801.000</td>\n",
       "      <td>801.000</td>\n",
       "    </tr>\n",
       "  </tbody>\n",
       "</table>\n",
       "</div>"
      ],
      "text/plain": [
       "               0.0     1.0  micro avg  macro avg  weighted avg\n",
       "f1-score     0.934   0.545      0.885      0.739         0.894\n",
       "precision    0.960   0.458      0.885      0.709         0.909\n",
       "recall       0.910   0.671      0.885      0.790         0.885\n",
       "support    719.000  82.000    801.000    801.000       801.000"
      ]
     },
     "metadata": {},
     "output_type": "display_data"
    },
    {
     "name": "stdout",
     "output_type": "stream",
     "text": [
      "Model not saved on  roc_auc 0.8432782658841887\n"
     ]
    },
    {
     "data": {
      "application/vnd.jupyter.widget-view+json": {
       "model_id": "44b9bbe0728e4d17bf965e73b8b2ae36",
       "version_major": 2,
       "version_minor": 0
      },
      "text/plain": [
       "HBox(children=(IntProgress(value=0, max=229), HTML(value='')))"
      ]
     },
     "metadata": {},
     "output_type": "display_data"
    },
    {
     "data": {
      "application/vnd.jupyter.widget-view+json": {
       "model_id": "1976d5edd1e3459391f676759291ca65",
       "version_major": 2,
       "version_minor": 0
      },
      "text/plain": [
       "HBox(children=(IntProgress(value=0, max=51), HTML(value='')))"
      ]
     },
     "metadata": {},
     "output_type": "display_data"
    },
    {
     "name": "stdout",
     "output_type": "stream",
     "text": [
      "{'accuracy': 0.9076154806491885, 'roc_auc': 0.8583907188167847, 'pr_auc': 0.5768930126231022}\n"
     ]
    },
    {
     "data": {
      "text/html": [
       "<div>\n",
       "<style scoped>\n",
       "    .dataframe tbody tr th:only-of-type {\n",
       "        vertical-align: middle;\n",
       "    }\n",
       "\n",
       "    .dataframe tbody tr th {\n",
       "        vertical-align: top;\n",
       "    }\n",
       "\n",
       "    .dataframe thead th {\n",
       "        text-align: right;\n",
       "    }\n",
       "</style>\n",
       "<table border=\"1\" class=\"dataframe\">\n",
       "  <thead>\n",
       "    <tr style=\"text-align: right;\">\n",
       "      <th></th>\n",
       "      <th>0.0</th>\n",
       "      <th>1.0</th>\n",
       "      <th>micro avg</th>\n",
       "      <th>macro avg</th>\n",
       "      <th>weighted avg</th>\n",
       "    </tr>\n",
       "  </thead>\n",
       "  <tbody>\n",
       "    <tr>\n",
       "      <th>f1-score</th>\n",
       "      <td>0.948</td>\n",
       "      <td>0.593</td>\n",
       "      <td>0.908</td>\n",
       "      <td>0.771</td>\n",
       "      <td>0.912</td>\n",
       "    </tr>\n",
       "    <tr>\n",
       "      <th>precision</th>\n",
       "      <td>0.960</td>\n",
       "      <td>0.540</td>\n",
       "      <td>0.908</td>\n",
       "      <td>0.750</td>\n",
       "      <td>0.917</td>\n",
       "    </tr>\n",
       "    <tr>\n",
       "      <th>recall</th>\n",
       "      <td>0.936</td>\n",
       "      <td>0.659</td>\n",
       "      <td>0.908</td>\n",
       "      <td>0.797</td>\n",
       "      <td>0.908</td>\n",
       "    </tr>\n",
       "    <tr>\n",
       "      <th>support</th>\n",
       "      <td>719.000</td>\n",
       "      <td>82.000</td>\n",
       "      <td>801.000</td>\n",
       "      <td>801.000</td>\n",
       "      <td>801.000</td>\n",
       "    </tr>\n",
       "  </tbody>\n",
       "</table>\n",
       "</div>"
      ],
      "text/plain": [
       "               0.0     1.0  micro avg  macro avg  weighted avg\n",
       "f1-score     0.948   0.593      0.908      0.771         0.912\n",
       "precision    0.960   0.540      0.908      0.750         0.917\n",
       "recall       0.936   0.659      0.908      0.797         0.908\n",
       "support    719.000  82.000    801.000    801.000       801.000"
      ]
     },
     "metadata": {},
     "output_type": "display_data"
    },
    {
     "name": "stdout",
     "output_type": "stream",
     "text": [
      "Model not saved on  roc_auc 0.8583907188167847\n"
     ]
    },
    {
     "data": {
      "application/vnd.jupyter.widget-view+json": {
       "model_id": "5831d63a3af54547a988becd85b4699e",
       "version_major": 2,
       "version_minor": 0
      },
      "text/plain": [
       "HBox(children=(IntProgress(value=0, max=229), HTML(value='')))"
      ]
     },
     "metadata": {},
     "output_type": "display_data"
    },
    {
     "data": {
      "application/vnd.jupyter.widget-view+json": {
       "model_id": "115b4a255f7a4401a7e50ff2ca60765d",
       "version_major": 2,
       "version_minor": 0
      },
      "text/plain": [
       "HBox(children=(IntProgress(value=0, max=51), HTML(value='')))"
      ]
     },
     "metadata": {},
     "output_type": "display_data"
    },
    {
     "name": "stdout",
     "output_type": "stream",
     "text": [
      "{'accuracy': 0.8888888888888888, 'roc_auc': 0.8574239288985379, 'pr_auc': 0.5663831932873332}\n"
     ]
    },
    {
     "data": {
      "text/html": [
       "<div>\n",
       "<style scoped>\n",
       "    .dataframe tbody tr th:only-of-type {\n",
       "        vertical-align: middle;\n",
       "    }\n",
       "\n",
       "    .dataframe tbody tr th {\n",
       "        vertical-align: top;\n",
       "    }\n",
       "\n",
       "    .dataframe thead th {\n",
       "        text-align: right;\n",
       "    }\n",
       "</style>\n",
       "<table border=\"1\" class=\"dataframe\">\n",
       "  <thead>\n",
       "    <tr style=\"text-align: right;\">\n",
       "      <th></th>\n",
       "      <th>0.0</th>\n",
       "      <th>1.0</th>\n",
       "      <th>micro avg</th>\n",
       "      <th>macro avg</th>\n",
       "      <th>weighted avg</th>\n",
       "    </tr>\n",
       "  </thead>\n",
       "  <tbody>\n",
       "    <tr>\n",
       "      <th>f1-score</th>\n",
       "      <td>0.936</td>\n",
       "      <td>0.566</td>\n",
       "      <td>0.889</td>\n",
       "      <td>0.751</td>\n",
       "      <td>0.898</td>\n",
       "    </tr>\n",
       "    <tr>\n",
       "      <th>precision</th>\n",
       "      <td>0.965</td>\n",
       "      <td>0.472</td>\n",
       "      <td>0.889</td>\n",
       "      <td>0.718</td>\n",
       "      <td>0.914</td>\n",
       "    </tr>\n",
       "    <tr>\n",
       "      <th>recall</th>\n",
       "      <td>0.910</td>\n",
       "      <td>0.707</td>\n",
       "      <td>0.889</td>\n",
       "      <td>0.808</td>\n",
       "      <td>0.889</td>\n",
       "    </tr>\n",
       "    <tr>\n",
       "      <th>support</th>\n",
       "      <td>719.000</td>\n",
       "      <td>82.000</td>\n",
       "      <td>801.000</td>\n",
       "      <td>801.000</td>\n",
       "      <td>801.000</td>\n",
       "    </tr>\n",
       "  </tbody>\n",
       "</table>\n",
       "</div>"
      ],
      "text/plain": [
       "               0.0     1.0  micro avg  macro avg  weighted avg\n",
       "f1-score     0.936   0.566      0.889      0.751         0.898\n",
       "precision    0.965   0.472      0.889      0.718         0.914\n",
       "recall       0.910   0.707      0.889      0.808         0.889\n",
       "support    719.000  82.000    801.000    801.000       801.000"
      ]
     },
     "metadata": {},
     "output_type": "display_data"
    },
    {
     "name": "stderr",
     "output_type": "stream",
     "text": [
      "INFO - 2019-03-26 15:01:47,699 - instantiating class <class 'PatientVec.models.Model.Model'> from params {'type': 'seq_classifier_with_attention', 'embedder': {'type': 'token_embedder', 'vocab_size': 18542, 'embed_size': 200, 'embedding_file': '../../../SurgeryData/PatientVec/preprocess/KneeSurgery/1_yrs/embedding_matrix.npy'}, 'decoder': {'num_layers': 2, 'hidden_dims': [128, 1], 'activations': ['tanh', 'linear']}, 'predictor': {'type': 'binary'}, 'structured': {'use_structured': False}, 'encoder': {'type': 'cnn', 'hidden_size': 64, 'kernel_sizes': [3, 5, 7, 9], 'activation': 'relu'}, 'attention': {'similarity': {'type': 'additive', 'hidden_size': 128}}} and extras {}\n",
      "INFO - 2019-03-26 15:01:47,699 - type = seq_classifier_with_attention\n",
      "INFO - 2019-03-26 15:01:47,700 - instantiating class <class 'PatientVec.models.modules.Embedder.Embedder'> from params {'type': 'token_embedder', 'vocab_size': 18542, 'embed_size': 200, 'embedding_file': '../../../SurgeryData/PatientVec/preprocess/KneeSurgery/1_yrs/embedding_matrix.npy'} and extras {}\n",
      "INFO - 2019-03-26 15:01:47,700 - embedder.type = token_embedder\n",
      "INFO - 2019-03-26 15:01:47,700 - instantiating class <class 'PatientVec.models.modules.Embedder.TokenEmbedder'> from params {'vocab_size': 18542, 'embed_size': 200, 'embedding_file': '../../../SurgeryData/PatientVec/preprocess/KneeSurgery/1_yrs/embedding_matrix.npy'} and extras {}\n",
      "INFO - 2019-03-26 15:01:47,701 - embedder.vocab_size = 18542\n",
      "INFO - 2019-03-26 15:01:47,701 - embedder.embed_size = 200\n",
      "INFO - 2019-03-26 15:01:47,701 - embedder.embedding_file = ../../../SurgeryData/PatientVec/preprocess/KneeSurgery/1_yrs/embedding_matrix.npy\n",
      "INFO - 2019-03-26 15:01:47,709 - instantiating class <class 'PatientVec.models.modules.Encoder.Encoder'> from params {'type': 'cnn', 'hidden_size': 64, 'kernel_sizes': [3, 5, 7, 9], 'activation': 'relu'} and extras {'input_size': 200}\n",
      "INFO - 2019-03-26 15:01:47,710 - encoder.type = cnn\n",
      "INFO - 2019-03-26 15:01:47,710 - instantiating class <class 'PatientVec.models.modules.Encoder.CNNEncoder'> from params {'hidden_size': 64, 'kernel_sizes': [3, 5, 7, 9], 'activation': 'relu'} and extras {'input_size': 200}\n",
      "INFO - 2019-03-26 15:01:47,710 - encoder.hidden_size = 64\n",
      "INFO - 2019-03-26 15:01:47,710 - encoder.kernel_sizes = [3, 5, 7, 9]\n",
      "INFO - 2019-03-26 15:01:47,711 - encoder.activation = relu\n",
      "INFO - 2019-03-26 15:01:47,713 - instantiating class <class 'PatientVec.models.modules.SelfAttention.SelfAttention'> from params {'similarity': {'type': 'additive', 'hidden_size': 128, 'tensor_1_dim': 256}} and extras {}\n",
      "INFO - 2019-03-26 15:01:47,714 - instantiating class <class 'PatientVec.models.modules.UniSimilarity.UniSimilarity'> from params {'type': 'additive', 'hidden_size': 128, 'tensor_1_dim': 256} and extras {}\n",
      "INFO - 2019-03-26 15:01:47,714 - attention.similarity.type = additive\n",
      "INFO - 2019-03-26 15:01:47,714 - instantiating class <class 'PatientVec.models.modules.UniSimilarity.UniAdditiveSimilarity'> from params {'hidden_size': 128, 'tensor_1_dim': 256} and extras {}\n",
      "INFO - 2019-03-26 15:01:47,714 - attention.similarity.tensor_1_dim = 256\n",
      "INFO - 2019-03-26 15:01:47,715 - attention.similarity.hidden_size = 128\n",
      "INFO - 2019-03-26 15:01:47,715 - attention.similarity.output_size = 1\n",
      "INFO - 2019-03-26 15:01:47,716 - attention.normaliser = softmax\n",
      "INFO - 2019-03-26 15:01:47,716 - decoder.input_dim = 256\n",
      "INFO - 2019-03-26 15:01:47,717 - decoder.num_layers = 2\n",
      "INFO - 2019-03-26 15:01:47,717 - decoder.hidden_dims = [128, 1]\n",
      "INFO - 2019-03-26 15:01:47,717 - decoder.activations = ['tanh', 'linear']\n",
      "INFO - 2019-03-26 15:01:47,717 - decoder.dropout = 0.0\n",
      "INFO - 2019-03-26 15:01:47,719 - instantiating class <class 'PatientVec.models.modules.Predictor.Predictor'> from params {'type': 'binary'} and extras {}\n",
      "INFO - 2019-03-26 15:01:47,719 - predictor.type = binary\n",
      "INFO - 2019-03-26 15:01:47,719 - instantiating class <class 'PatientVec.models.modules.Predictor.Binary_Predictor'> from params {} and extras {}\n",
      "INFO - 2019-03-26 15:01:47,719 - predictor.replicate = False\n",
      "INFO - 2019-03-26 15:01:47,719 - predictor.alpha = 0.5\n"
     ]
    },
    {
     "name": "stdout",
     "output_type": "stream",
     "text": [
      "Model not saved on  roc_auc 0.8574239288985379\n",
      "0.859510159774755 deque([0.8432782658841887, 0.8583907188167847, 0.8574239288985379], maxlen=3)\n",
      "\n",
      "Setting Embedding\n"
     ]
    },
    {
     "data": {
      "application/vnd.jupyter.widget-view+json": {
       "model_id": "96aa75675b0e4e42a5d01d3e863b2c8f",
       "version_major": 2,
       "version_minor": 0
      },
      "text/plain": [
       "HBox(children=(IntProgress(value=0, max=51), HTML(value='')))"
      ]
     },
     "metadata": {},
     "output_type": "display_data"
    },
    {
     "name": "stdout",
     "output_type": "stream",
     "text": [
      "\n",
      "{'accuracy': 0.9051186017478152, 'roc_auc': 0.859510159774755, 'pr_auc': 0.5552649489707828}\n"
     ]
    },
    {
     "data": {
      "text/html": [
       "<div>\n",
       "<style scoped>\n",
       "    .dataframe tbody tr th:only-of-type {\n",
       "        vertical-align: middle;\n",
       "    }\n",
       "\n",
       "    .dataframe tbody tr th {\n",
       "        vertical-align: top;\n",
       "    }\n",
       "\n",
       "    .dataframe thead th {\n",
       "        text-align: right;\n",
       "    }\n",
       "</style>\n",
       "<table border=\"1\" class=\"dataframe\">\n",
       "  <thead>\n",
       "    <tr style=\"text-align: right;\">\n",
       "      <th></th>\n",
       "      <th>0.0</th>\n",
       "      <th>1.0</th>\n",
       "      <th>micro avg</th>\n",
       "      <th>macro avg</th>\n",
       "      <th>weighted avg</th>\n",
       "    </tr>\n",
       "  </thead>\n",
       "  <tbody>\n",
       "    <tr>\n",
       "      <th>f1-score</th>\n",
       "      <td>0.946</td>\n",
       "      <td>0.591</td>\n",
       "      <td>0.905</td>\n",
       "      <td>0.769</td>\n",
       "      <td>0.910</td>\n",
       "    </tr>\n",
       "    <tr>\n",
       "      <th>precision</th>\n",
       "      <td>0.961</td>\n",
       "      <td>0.529</td>\n",
       "      <td>0.905</td>\n",
       "      <td>0.745</td>\n",
       "      <td>0.917</td>\n",
       "    </tr>\n",
       "    <tr>\n",
       "      <th>recall</th>\n",
       "      <td>0.932</td>\n",
       "      <td>0.671</td>\n",
       "      <td>0.905</td>\n",
       "      <td>0.801</td>\n",
       "      <td>0.905</td>\n",
       "    </tr>\n",
       "    <tr>\n",
       "      <th>support</th>\n",
       "      <td>719.000</td>\n",
       "      <td>82.000</td>\n",
       "      <td>801.000</td>\n",
       "      <td>801.000</td>\n",
       "      <td>801.000</td>\n",
       "    </tr>\n",
       "  </tbody>\n",
       "</table>\n",
       "</div>"
      ],
      "text/plain": [
       "               0.0     1.0  micro avg  macro avg  weighted avg\n",
       "f1-score     0.946   0.591      0.905      0.769         0.910\n",
       "precision    0.961   0.529      0.905      0.745         0.917\n",
       "recall       0.932   0.671      0.905      0.801         0.905\n",
       "support    719.000  82.000    801.000    801.000       801.000"
      ]
     },
     "metadata": {},
     "output_type": "display_data"
    },
    {
     "name": "stderr",
     "output_type": "stream",
     "text": [
      "INFO - 2019-03-26 15:01:54,614 - Reading Structured data ...\n"
     ]
    },
    {
     "name": "stdout",
     "output_type": "stream",
     "text": [
      "============================================================================================================================================================================================================================================================================================================\n"
     ]
    },
    {
     "name": "stderr",
     "output_type": "stream",
     "text": [
      "INFO - 2019-03-26 15:01:54,776 - Reading Notes ...\n",
      "INFO - 2019-03-26 15:01:55,762 - Stratifying ...\n"
     ]
    },
    {
     "name": "stdout",
     "output_type": "stream",
     "text": [
      "Pos Percentage [0.10104053]\n"
     ]
    },
    {
     "name": "stderr",
     "output_type": "stream",
     "text": [
      "INFO - 2019-03-26 15:01:56,304 - Maximum Sentence Length 169921.000000 , 90 percentile length 19951.000000 ... \n",
      "INFO - 2019-03-26 15:01:57,010 - Truncated all ...\n",
      "INFO - 2019-03-26 15:01:57,014 - Idxs removed []...\n",
      "INFO - 2019-03-26 15:01:57,140 - Maximum Sentence Length 55858.000000 , 90 percentile length 19968.000000 ... \n"
     ]
    },
    {
     "name": "stdout",
     "output_type": "stream",
     "text": [
      "Pos Percentage [0.10237203]\n"
     ]
    },
    {
     "name": "stderr",
     "output_type": "stream",
     "text": [
      "INFO - 2019-03-26 15:01:57,769 - Truncated all ...\n",
      "INFO - 2019-03-26 15:01:57,771 - Idxs removed []...\n",
      "INFO - 2019-03-26 15:01:57,785 - instantiating class <class 'PatientVec.models.Model.Model'> from params {'type': 'seq_classifier', 'embedder': {'type': 'token_embedder', 'vocab_size': 18542, 'embed_size': 200, 'embedding_file': '../../../SurgeryData/PatientVec/preprocess/KneeSurgery/1_yrs/embedding_matrix.npy'}, 'decoder': {'num_layers': 2, 'hidden_dims': [128, 1], 'activations': ['tanh', 'linear']}, 'predictor': {'type': 'binary'}, 'structured': {'use_structured': False}, 'encoder': {'type': 'lstm', 'hidden_size': 128}} and extras {}\n",
      "INFO - 2019-03-26 15:01:57,785 - type = seq_classifier\n",
      "INFO - 2019-03-26 15:01:57,785 - instantiating class <class 'PatientVec.models.modules.Embedder.Embedder'> from params {'type': 'token_embedder', 'vocab_size': 18542, 'embed_size': 200, 'embedding_file': '../../../SurgeryData/PatientVec/preprocess/KneeSurgery/1_yrs/embedding_matrix.npy'} and extras {}\n",
      "INFO - 2019-03-26 15:01:57,786 - embedder.type = token_embedder\n",
      "INFO - 2019-03-26 15:01:57,787 - instantiating class <class 'PatientVec.models.modules.Embedder.TokenEmbedder'> from params {'vocab_size': 18542, 'embed_size': 200, 'embedding_file': '../../../SurgeryData/PatientVec/preprocess/KneeSurgery/1_yrs/embedding_matrix.npy'} and extras {}\n",
      "INFO - 2019-03-26 15:01:57,787 - embedder.vocab_size = 18542\n",
      "INFO - 2019-03-26 15:01:57,788 - embedder.embed_size = 200\n",
      "INFO - 2019-03-26 15:01:57,788 - embedder.embedding_file = ../../../SurgeryData/PatientVec/preprocess/KneeSurgery/1_yrs/embedding_matrix.npy\n",
      "INFO - 2019-03-26 15:01:57,803 - instantiating class <class 'PatientVec.models.modules.Encoder.Encoder'> from params {'type': 'lstm', 'hidden_size': 128} and extras {'input_size': 200}\n",
      "INFO - 2019-03-26 15:01:57,803 - encoder.type = lstm\n",
      "INFO - 2019-03-26 15:01:57,803 - instantiating class <class 'PatientVec.models.modules.Encoder.wrap_pytorch_rnn.<locals>.BiRNNEncoder'> from params {'hidden_size': 128} and extras {'input_size': 200}\n",
      "INFO - 2019-03-26 15:01:57,804 - encoder.hidden_size = 128\n",
      "INFO - 2019-03-26 15:01:57,806 - decoder.input_dim = 256\n",
      "INFO - 2019-03-26 15:01:57,806 - decoder.num_layers = 2\n",
      "INFO - 2019-03-26 15:01:57,806 - decoder.hidden_dims = [128, 1]\n",
      "INFO - 2019-03-26 15:01:57,807 - decoder.activations = ['tanh', 'linear']\n",
      "INFO - 2019-03-26 15:01:57,807 - decoder.dropout = 0.0\n",
      "INFO - 2019-03-26 15:01:57,808 - instantiating class <class 'PatientVec.models.modules.Predictor.Predictor'> from params {'type': 'binary'} and extras {}\n",
      "INFO - 2019-03-26 15:01:57,808 - predictor.type = binary\n",
      "INFO - 2019-03-26 15:01:57,809 - instantiating class <class 'PatientVec.models.modules.Predictor.Binary_Predictor'> from params {} and extras {}\n",
      "INFO - 2019-03-26 15:01:57,809 - predictor.replicate = False\n",
      "INFO - 2019-03-26 15:01:57,809 - predictor.alpha = 0.5\n"
     ]
    },
    {
     "name": "stdout",
     "output_type": "stream",
     "text": [
      "{'model': {'type': 'seq_classifier', 'embedder': {'type': 'token_embedder', 'vocab_size': 18542, 'embed_size': 200, 'embedding_file': '../../../SurgeryData/PatientVec/preprocess/KneeSurgery/1_yrs/embedding_matrix.npy'}, 'decoder': {'num_layers': 2, 'hidden_dims': [128, 1], 'activations': ['tanh', 'linear']}, 'predictor': {'type': 'binary'}, 'structured': {'use_structured': False}, 'encoder': {'type': 'lstm', 'hidden_size': 128}}, 'training_config': {'type': 'Adam', 'groups': [('.*', {'lr': 0.001, 'weight_decay': 1e-05})], 'common': {'bsize': 16, 'class_weight': True}}, 'exp_config': {'exp_name': 'KneeSurgery_1/Basic/LSTM(hs=128)', 'basepath': 'outputs/confidence'}}\n",
      "Setting Embedding\n"
     ]
    },
    {
     "data": {
      "application/vnd.jupyter.widget-view+json": {
       "model_id": "eda444b6e0cc465d83dadd6b9bfa8eb9",
       "version_major": 2,
       "version_minor": 0
      },
      "text/plain": [
       "HBox(children=(IntProgress(value=0, max=8), HTML(value='')))"
      ]
     },
     "metadata": {},
     "output_type": "display_data"
    },
    {
     "data": {
      "application/vnd.jupyter.widget-view+json": {
       "model_id": "c2763e1dc98b48b9affbf95f0e74ca72",
       "version_major": 2,
       "version_minor": 0
      },
      "text/plain": [
       "HBox(children=(IntProgress(value=0, max=229), HTML(value='')))"
      ]
     },
     "metadata": {},
     "output_type": "display_data"
    },
    {
     "data": {
      "application/vnd.jupyter.widget-view+json": {
       "model_id": "e8787d0a25b3450f805fc85040a20366",
       "version_major": 2,
       "version_minor": 0
      },
      "text/plain": [
       "HBox(children=(IntProgress(value=0, max=51), HTML(value='')))"
      ]
     },
     "metadata": {},
     "output_type": "display_data"
    },
    {
     "name": "stdout",
     "output_type": "stream",
     "text": [
      "{'accuracy': 0.7128589263420724, 'roc_auc': 0.530063774212151, 'pr_auc': 0.11355659128707354}\n"
     ]
    },
    {
     "data": {
      "text/html": [
       "<div>\n",
       "<style scoped>\n",
       "    .dataframe tbody tr th:only-of-type {\n",
       "        vertical-align: middle;\n",
       "    }\n",
       "\n",
       "    .dataframe tbody tr th {\n",
       "        vertical-align: top;\n",
       "    }\n",
       "\n",
       "    .dataframe thead th {\n",
       "        text-align: right;\n",
       "    }\n",
       "</style>\n",
       "<table border=\"1\" class=\"dataframe\">\n",
       "  <thead>\n",
       "    <tr style=\"text-align: right;\">\n",
       "      <th></th>\n",
       "      <th>0.0</th>\n",
       "      <th>1.0</th>\n",
       "      <th>micro avg</th>\n",
       "      <th>macro avg</th>\n",
       "      <th>weighted avg</th>\n",
       "    </tr>\n",
       "  </thead>\n",
       "  <tbody>\n",
       "    <tr>\n",
       "      <th>f1-score</th>\n",
       "      <td>0.827</td>\n",
       "      <td>0.167</td>\n",
       "      <td>0.713</td>\n",
       "      <td>0.497</td>\n",
       "      <td>0.759</td>\n",
       "    </tr>\n",
       "    <tr>\n",
       "      <th>precision</th>\n",
       "      <td>0.903</td>\n",
       "      <td>0.119</td>\n",
       "      <td>0.713</td>\n",
       "      <td>0.511</td>\n",
       "      <td>0.823</td>\n",
       "    </tr>\n",
       "    <tr>\n",
       "      <th>recall</th>\n",
       "      <td>0.762</td>\n",
       "      <td>0.280</td>\n",
       "      <td>0.713</td>\n",
       "      <td>0.521</td>\n",
       "      <td>0.713</td>\n",
       "    </tr>\n",
       "    <tr>\n",
       "      <th>support</th>\n",
       "      <td>719.000</td>\n",
       "      <td>82.000</td>\n",
       "      <td>801.000</td>\n",
       "      <td>801.000</td>\n",
       "      <td>801.000</td>\n",
       "    </tr>\n",
       "  </tbody>\n",
       "</table>\n",
       "</div>"
      ],
      "text/plain": [
       "               0.0     1.0  micro avg  macro avg  weighted avg\n",
       "f1-score     0.827   0.167      0.713      0.497         0.759\n",
       "precision    0.903   0.119      0.713      0.511         0.823\n",
       "recall       0.762   0.280      0.713      0.521         0.713\n",
       "support    719.000  82.000    801.000    801.000       801.000"
      ]
     },
     "metadata": {},
     "output_type": "display_data"
    },
    {
     "name": "stdout",
     "output_type": "stream",
     "text": [
      "Model Saved on  roc_auc 0.530063774212151\n"
     ]
    },
    {
     "data": {
      "application/vnd.jupyter.widget-view+json": {
       "model_id": "f635fc2ed51c4e569ba888800087f096",
       "version_major": 2,
       "version_minor": 0
      },
      "text/plain": [
       "HBox(children=(IntProgress(value=0, max=229), HTML(value='')))"
      ]
     },
     "metadata": {},
     "output_type": "display_data"
    },
    {
     "data": {
      "application/vnd.jupyter.widget-view+json": {
       "model_id": "860da9fc415b4751b22a2dbf845c5165",
       "version_major": 2,
       "version_minor": 0
      },
      "text/plain": [
       "HBox(children=(IntProgress(value=0, max=51), HTML(value='')))"
      ]
     },
     "metadata": {},
     "output_type": "display_data"
    },
    {
     "name": "stdout",
     "output_type": "stream",
     "text": [
      "{'accuracy': 0.8177278401997503, 'roc_auc': 0.6173632077071813, 'pr_auc': 0.1543200265385259}\n"
     ]
    },
    {
     "data": {
      "text/html": [
       "<div>\n",
       "<style scoped>\n",
       "    .dataframe tbody tr th:only-of-type {\n",
       "        vertical-align: middle;\n",
       "    }\n",
       "\n",
       "    .dataframe tbody tr th {\n",
       "        vertical-align: top;\n",
       "    }\n",
       "\n",
       "    .dataframe thead th {\n",
       "        text-align: right;\n",
       "    }\n",
       "</style>\n",
       "<table border=\"1\" class=\"dataframe\">\n",
       "  <thead>\n",
       "    <tr style=\"text-align: right;\">\n",
       "      <th></th>\n",
       "      <th>0.0</th>\n",
       "      <th>1.0</th>\n",
       "      <th>micro avg</th>\n",
       "      <th>macro avg</th>\n",
       "      <th>weighted avg</th>\n",
       "    </tr>\n",
       "  </thead>\n",
       "  <tbody>\n",
       "    <tr>\n",
       "      <th>f1-score</th>\n",
       "      <td>0.897</td>\n",
       "      <td>0.180</td>\n",
       "      <td>0.818</td>\n",
       "      <td>0.539</td>\n",
       "      <td>0.824</td>\n",
       "    </tr>\n",
       "    <tr>\n",
       "      <th>precision</th>\n",
       "      <td>0.906</td>\n",
       "      <td>0.167</td>\n",
       "      <td>0.818</td>\n",
       "      <td>0.537</td>\n",
       "      <td>0.831</td>\n",
       "    </tr>\n",
       "    <tr>\n",
       "      <th>recall</th>\n",
       "      <td>0.889</td>\n",
       "      <td>0.195</td>\n",
       "      <td>0.818</td>\n",
       "      <td>0.542</td>\n",
       "      <td>0.818</td>\n",
       "    </tr>\n",
       "    <tr>\n",
       "      <th>support</th>\n",
       "      <td>719.000</td>\n",
       "      <td>82.000</td>\n",
       "      <td>801.000</td>\n",
       "      <td>801.000</td>\n",
       "      <td>801.000</td>\n",
       "    </tr>\n",
       "  </tbody>\n",
       "</table>\n",
       "</div>"
      ],
      "text/plain": [
       "               0.0     1.0  micro avg  macro avg  weighted avg\n",
       "f1-score     0.897   0.180      0.818      0.539         0.824\n",
       "precision    0.906   0.167      0.818      0.537         0.831\n",
       "recall       0.889   0.195      0.818      0.542         0.818\n",
       "support    719.000  82.000    801.000    801.000       801.000"
      ]
     },
     "metadata": {},
     "output_type": "display_data"
    },
    {
     "name": "stdout",
     "output_type": "stream",
     "text": [
      "Model Saved on  roc_auc 0.6173632077071813\n"
     ]
    },
    {
     "data": {
      "application/vnd.jupyter.widget-view+json": {
       "model_id": "35c8bee059c441528fb9b0f0f50ae670",
       "version_major": 2,
       "version_minor": 0
      },
      "text/plain": [
       "HBox(children=(IntProgress(value=0, max=229), HTML(value='')))"
      ]
     },
     "metadata": {},
     "output_type": "display_data"
    },
    {
     "data": {
      "application/vnd.jupyter.widget-view+json": {
       "model_id": "74c479bedee943c998e58a3c30b5bd18",
       "version_major": 2,
       "version_minor": 0
      },
      "text/plain": [
       "HBox(children=(IntProgress(value=0, max=51), HTML(value='')))"
      ]
     },
     "metadata": {},
     "output_type": "display_data"
    },
    {
     "name": "stdout",
     "output_type": "stream",
     "text": [
      "{'accuracy': 0.6903870162297129, 'roc_auc': 0.6340021710370094, 'pr_auc': 0.1617782525100238}\n"
     ]
    },
    {
     "data": {
      "text/html": [
       "<div>\n",
       "<style scoped>\n",
       "    .dataframe tbody tr th:only-of-type {\n",
       "        vertical-align: middle;\n",
       "    }\n",
       "\n",
       "    .dataframe tbody tr th {\n",
       "        vertical-align: top;\n",
       "    }\n",
       "\n",
       "    .dataframe thead th {\n",
       "        text-align: right;\n",
       "    }\n",
       "</style>\n",
       "<table border=\"1\" class=\"dataframe\">\n",
       "  <thead>\n",
       "    <tr style=\"text-align: right;\">\n",
       "      <th></th>\n",
       "      <th>0.0</th>\n",
       "      <th>1.0</th>\n",
       "      <th>micro avg</th>\n",
       "      <th>macro avg</th>\n",
       "      <th>weighted avg</th>\n",
       "    </tr>\n",
       "  </thead>\n",
       "  <tbody>\n",
       "    <tr>\n",
       "      <th>f1-score</th>\n",
       "      <td>0.809</td>\n",
       "      <td>0.190</td>\n",
       "      <td>0.69</td>\n",
       "      <td>0.499</td>\n",
       "      <td>0.745</td>\n",
       "    </tr>\n",
       "    <tr>\n",
       "      <th>precision</th>\n",
       "      <td>0.908</td>\n",
       "      <td>0.129</td>\n",
       "      <td>0.69</td>\n",
       "      <td>0.519</td>\n",
       "      <td>0.828</td>\n",
       "    </tr>\n",
       "    <tr>\n",
       "      <th>recall</th>\n",
       "      <td>0.729</td>\n",
       "      <td>0.354</td>\n",
       "      <td>0.69</td>\n",
       "      <td>0.541</td>\n",
       "      <td>0.690</td>\n",
       "    </tr>\n",
       "    <tr>\n",
       "      <th>support</th>\n",
       "      <td>719.000</td>\n",
       "      <td>82.000</td>\n",
       "      <td>801.00</td>\n",
       "      <td>801.000</td>\n",
       "      <td>801.000</td>\n",
       "    </tr>\n",
       "  </tbody>\n",
       "</table>\n",
       "</div>"
      ],
      "text/plain": [
       "               0.0     1.0  micro avg  macro avg  weighted avg\n",
       "f1-score     0.809   0.190       0.69      0.499         0.745\n",
       "precision    0.908   0.129       0.69      0.519         0.828\n",
       "recall       0.729   0.354       0.69      0.541         0.690\n",
       "support    719.000  82.000     801.00    801.000       801.000"
      ]
     },
     "metadata": {},
     "output_type": "display_data"
    },
    {
     "name": "stdout",
     "output_type": "stream",
     "text": [
      "Model Saved on  roc_auc 0.6340021710370094\n"
     ]
    },
    {
     "data": {
      "application/vnd.jupyter.widget-view+json": {
       "model_id": "eb92103ae71741bc91c802deceb7ced1",
       "version_major": 2,
       "version_minor": 0
      },
      "text/plain": [
       "HBox(children=(IntProgress(value=0, max=229), HTML(value='')))"
      ]
     },
     "metadata": {},
     "output_type": "display_data"
    },
    {
     "data": {
      "application/vnd.jupyter.widget-view+json": {
       "model_id": "d18d9811c364493495e08a8fcbbd38af",
       "version_major": 2,
       "version_minor": 0
      },
      "text/plain": [
       "HBox(children=(IntProgress(value=0, max=51), HTML(value='')))"
      ]
     },
     "metadata": {},
     "output_type": "display_data"
    },
    {
     "name": "stdout",
     "output_type": "stream",
     "text": [
      "{'accuracy': 0.6953807740324595, 'roc_auc': 0.6352403405814309, 'pr_auc': 0.1842626715914943}\n"
     ]
    },
    {
     "data": {
      "text/html": [
       "<div>\n",
       "<style scoped>\n",
       "    .dataframe tbody tr th:only-of-type {\n",
       "        vertical-align: middle;\n",
       "    }\n",
       "\n",
       "    .dataframe tbody tr th {\n",
       "        vertical-align: top;\n",
       "    }\n",
       "\n",
       "    .dataframe thead th {\n",
       "        text-align: right;\n",
       "    }\n",
       "</style>\n",
       "<table border=\"1\" class=\"dataframe\">\n",
       "  <thead>\n",
       "    <tr style=\"text-align: right;\">\n",
       "      <th></th>\n",
       "      <th>0.0</th>\n",
       "      <th>1.0</th>\n",
       "      <th>micro avg</th>\n",
       "      <th>macro avg</th>\n",
       "      <th>weighted avg</th>\n",
       "    </tr>\n",
       "  </thead>\n",
       "  <tbody>\n",
       "    <tr>\n",
       "      <th>f1-score</th>\n",
       "      <td>0.811</td>\n",
       "      <td>0.218</td>\n",
       "      <td>0.695</td>\n",
       "      <td>0.514</td>\n",
       "      <td>0.750</td>\n",
       "    </tr>\n",
       "    <tr>\n",
       "      <th>precision</th>\n",
       "      <td>0.916</td>\n",
       "      <td>0.148</td>\n",
       "      <td>0.695</td>\n",
       "      <td>0.532</td>\n",
       "      <td>0.837</td>\n",
       "    </tr>\n",
       "    <tr>\n",
       "      <th>recall</th>\n",
       "      <td>0.727</td>\n",
       "      <td>0.415</td>\n",
       "      <td>0.695</td>\n",
       "      <td>0.571</td>\n",
       "      <td>0.695</td>\n",
       "    </tr>\n",
       "    <tr>\n",
       "      <th>support</th>\n",
       "      <td>719.000</td>\n",
       "      <td>82.000</td>\n",
       "      <td>801.000</td>\n",
       "      <td>801.000</td>\n",
       "      <td>801.000</td>\n",
       "    </tr>\n",
       "  </tbody>\n",
       "</table>\n",
       "</div>"
      ],
      "text/plain": [
       "               0.0     1.0  micro avg  macro avg  weighted avg\n",
       "f1-score     0.811   0.218      0.695      0.514         0.750\n",
       "precision    0.916   0.148      0.695      0.532         0.837\n",
       "recall       0.727   0.415      0.695      0.571         0.695\n",
       "support    719.000  82.000    801.000    801.000       801.000"
      ]
     },
     "metadata": {},
     "output_type": "display_data"
    },
    {
     "name": "stdout",
     "output_type": "stream",
     "text": [
      "Model Saved on  roc_auc 0.6352403405814309\n"
     ]
    },
    {
     "data": {
      "application/vnd.jupyter.widget-view+json": {
       "model_id": "d3606a29bbf64493a0d75bf4b7542e89",
       "version_major": 2,
       "version_minor": 0
      },
      "text/plain": [
       "HBox(children=(IntProgress(value=0, max=229), HTML(value='')))"
      ]
     },
     "metadata": {},
     "output_type": "display_data"
    },
    {
     "data": {
      "application/vnd.jupyter.widget-view+json": {
       "model_id": "56073819ca2b4de9b56d049d4717289b",
       "version_major": 2,
       "version_minor": 0
      },
      "text/plain": [
       "HBox(children=(IntProgress(value=0, max=51), HTML(value='')))"
      ]
     },
     "metadata": {},
     "output_type": "display_data"
    },
    {
     "name": "stdout",
     "output_type": "stream",
     "text": [
      "{'accuracy': 0.6491885143570537, 'roc_auc': 0.6188473150378235, 'pr_auc': 0.1893376537743377}\n"
     ]
    },
    {
     "data": {
      "text/html": [
       "<div>\n",
       "<style scoped>\n",
       "    .dataframe tbody tr th:only-of-type {\n",
       "        vertical-align: middle;\n",
       "    }\n",
       "\n",
       "    .dataframe tbody tr th {\n",
       "        vertical-align: top;\n",
       "    }\n",
       "\n",
       "    .dataframe thead th {\n",
       "        text-align: right;\n",
       "    }\n",
       "</style>\n",
       "<table border=\"1\" class=\"dataframe\">\n",
       "  <thead>\n",
       "    <tr style=\"text-align: right;\">\n",
       "      <th></th>\n",
       "      <th>0.0</th>\n",
       "      <th>1.0</th>\n",
       "      <th>micro avg</th>\n",
       "      <th>macro avg</th>\n",
       "      <th>weighted avg</th>\n",
       "    </tr>\n",
       "  </thead>\n",
       "  <tbody>\n",
       "    <tr>\n",
       "      <th>f1-score</th>\n",
       "      <td>0.773</td>\n",
       "      <td>0.226</td>\n",
       "      <td>0.649</td>\n",
       "      <td>0.500</td>\n",
       "      <td>0.717</td>\n",
       "    </tr>\n",
       "    <tr>\n",
       "      <th>precision</th>\n",
       "      <td>0.921</td>\n",
       "      <td>0.146</td>\n",
       "      <td>0.649</td>\n",
       "      <td>0.534</td>\n",
       "      <td>0.842</td>\n",
       "    </tr>\n",
       "    <tr>\n",
       "      <th>recall</th>\n",
       "      <td>0.666</td>\n",
       "      <td>0.500</td>\n",
       "      <td>0.649</td>\n",
       "      <td>0.583</td>\n",
       "      <td>0.649</td>\n",
       "    </tr>\n",
       "    <tr>\n",
       "      <th>support</th>\n",
       "      <td>719.000</td>\n",
       "      <td>82.000</td>\n",
       "      <td>801.000</td>\n",
       "      <td>801.000</td>\n",
       "      <td>801.000</td>\n",
       "    </tr>\n",
       "  </tbody>\n",
       "</table>\n",
       "</div>"
      ],
      "text/plain": [
       "               0.0     1.0  micro avg  macro avg  weighted avg\n",
       "f1-score     0.773   0.226      0.649      0.500         0.717\n",
       "precision    0.921   0.146      0.649      0.534         0.842\n",
       "recall       0.666   0.500      0.649      0.583         0.649\n",
       "support    719.000  82.000    801.000    801.000       801.000"
      ]
     },
     "metadata": {},
     "output_type": "display_data"
    },
    {
     "name": "stdout",
     "output_type": "stream",
     "text": [
      "Model not saved on  roc_auc 0.6188473150378235\n"
     ]
    },
    {
     "data": {
      "application/vnd.jupyter.widget-view+json": {
       "model_id": "ba7d059244784fd8a8171a36dc8d4af3",
       "version_major": 2,
       "version_minor": 0
      },
      "text/plain": [
       "HBox(children=(IntProgress(value=0, max=229), HTML(value='')))"
      ]
     },
     "metadata": {},
     "output_type": "display_data"
    },
    {
     "data": {
      "application/vnd.jupyter.widget-view+json": {
       "model_id": "a5abb5acfe98489fab741712676c3d39",
       "version_major": 2,
       "version_minor": 0
      },
      "text/plain": [
       "HBox(children=(IntProgress(value=0, max=51), HTML(value='')))"
      ]
     },
     "metadata": {},
     "output_type": "display_data"
    },
    {
     "name": "stdout",
     "output_type": "stream",
     "text": [
      "{'accuracy': 0.5780274656679151, 'roc_auc': 0.6160487126428983, 'pr_auc': 0.18616229823491023}\n"
     ]
    },
    {
     "data": {
      "text/html": [
       "<div>\n",
       "<style scoped>\n",
       "    .dataframe tbody tr th:only-of-type {\n",
       "        vertical-align: middle;\n",
       "    }\n",
       "\n",
       "    .dataframe tbody tr th {\n",
       "        vertical-align: top;\n",
       "    }\n",
       "\n",
       "    .dataframe thead th {\n",
       "        text-align: right;\n",
       "    }\n",
       "</style>\n",
       "<table border=\"1\" class=\"dataframe\">\n",
       "  <thead>\n",
       "    <tr style=\"text-align: right;\">\n",
       "      <th></th>\n",
       "      <th>0.0</th>\n",
       "      <th>1.0</th>\n",
       "      <th>micro avg</th>\n",
       "      <th>macro avg</th>\n",
       "      <th>weighted avg</th>\n",
       "    </tr>\n",
       "  </thead>\n",
       "  <tbody>\n",
       "    <tr>\n",
       "      <th>f1-score</th>\n",
       "      <td>0.710</td>\n",
       "      <td>0.225</td>\n",
       "      <td>0.578</td>\n",
       "      <td>0.467</td>\n",
       "      <td>0.660</td>\n",
       "    </tr>\n",
       "    <tr>\n",
       "      <th>precision</th>\n",
       "      <td>0.926</td>\n",
       "      <td>0.138</td>\n",
       "      <td>0.578</td>\n",
       "      <td>0.532</td>\n",
       "      <td>0.846</td>\n",
       "    </tr>\n",
       "    <tr>\n",
       "      <th>recall</th>\n",
       "      <td>0.576</td>\n",
       "      <td>0.598</td>\n",
       "      <td>0.578</td>\n",
       "      <td>0.587</td>\n",
       "      <td>0.578</td>\n",
       "    </tr>\n",
       "    <tr>\n",
       "      <th>support</th>\n",
       "      <td>719.000</td>\n",
       "      <td>82.000</td>\n",
       "      <td>801.000</td>\n",
       "      <td>801.000</td>\n",
       "      <td>801.000</td>\n",
       "    </tr>\n",
       "  </tbody>\n",
       "</table>\n",
       "</div>"
      ],
      "text/plain": [
       "               0.0     1.0  micro avg  macro avg  weighted avg\n",
       "f1-score     0.710   0.225      0.578      0.467         0.660\n",
       "precision    0.926   0.138      0.578      0.532         0.846\n",
       "recall       0.576   0.598      0.578      0.587         0.578\n",
       "support    719.000  82.000    801.000    801.000       801.000"
      ]
     },
     "metadata": {},
     "output_type": "display_data"
    },
    {
     "name": "stdout",
     "output_type": "stream",
     "text": [
      "Model not saved on  roc_auc 0.6160487126428983\n"
     ]
    },
    {
     "data": {
      "application/vnd.jupyter.widget-view+json": {
       "model_id": "15385fb1dc734429b5cb5bf7445fa2dd",
       "version_major": 2,
       "version_minor": 0
      },
      "text/plain": [
       "HBox(children=(IntProgress(value=0, max=229), HTML(value='')))"
      ]
     },
     "metadata": {},
     "output_type": "display_data"
    },
    {
     "data": {
      "application/vnd.jupyter.widget-view+json": {
       "model_id": "98ab67a05adb4a27abf2fc2ddef221db",
       "version_major": 2,
       "version_minor": 0
      },
      "text/plain": [
       "HBox(children=(IntProgress(value=0, max=51), HTML(value='')))"
      ]
     },
     "metadata": {},
     "output_type": "display_data"
    },
    {
     "name": "stdout",
     "output_type": "stream",
     "text": [
      "{'accuracy': 0.700374531835206, 'roc_auc': 0.625759014891957, 'pr_auc': 0.16993205649851553}\n"
     ]
    },
    {
     "data": {
      "text/html": [
       "<div>\n",
       "<style scoped>\n",
       "    .dataframe tbody tr th:only-of-type {\n",
       "        vertical-align: middle;\n",
       "    }\n",
       "\n",
       "    .dataframe tbody tr th {\n",
       "        vertical-align: top;\n",
       "    }\n",
       "\n",
       "    .dataframe thead th {\n",
       "        text-align: right;\n",
       "    }\n",
       "</style>\n",
       "<table border=\"1\" class=\"dataframe\">\n",
       "  <thead>\n",
       "    <tr style=\"text-align: right;\">\n",
       "      <th></th>\n",
       "      <th>0.0</th>\n",
       "      <th>1.0</th>\n",
       "      <th>micro avg</th>\n",
       "      <th>macro avg</th>\n",
       "      <th>weighted avg</th>\n",
       "    </tr>\n",
       "  </thead>\n",
       "  <tbody>\n",
       "    <tr>\n",
       "      <th>f1-score</th>\n",
       "      <td>0.814</td>\n",
       "      <td>0.226</td>\n",
       "      <td>0.7</td>\n",
       "      <td>0.520</td>\n",
       "      <td>0.754</td>\n",
       "    </tr>\n",
       "    <tr>\n",
       "      <th>precision</th>\n",
       "      <td>0.918</td>\n",
       "      <td>0.154</td>\n",
       "      <td>0.7</td>\n",
       "      <td>0.536</td>\n",
       "      <td>0.840</td>\n",
       "    </tr>\n",
       "    <tr>\n",
       "      <th>recall</th>\n",
       "      <td>0.732</td>\n",
       "      <td>0.427</td>\n",
       "      <td>0.7</td>\n",
       "      <td>0.579</td>\n",
       "      <td>0.700</td>\n",
       "    </tr>\n",
       "    <tr>\n",
       "      <th>support</th>\n",
       "      <td>719.000</td>\n",
       "      <td>82.000</td>\n",
       "      <td>801.0</td>\n",
       "      <td>801.000</td>\n",
       "      <td>801.000</td>\n",
       "    </tr>\n",
       "  </tbody>\n",
       "</table>\n",
       "</div>"
      ],
      "text/plain": [
       "               0.0     1.0  micro avg  macro avg  weighted avg\n",
       "f1-score     0.814   0.226        0.7      0.520         0.754\n",
       "precision    0.918   0.154        0.7      0.536         0.840\n",
       "recall       0.732   0.427        0.7      0.579         0.700\n",
       "support    719.000  82.000      801.0    801.000       801.000"
      ]
     },
     "metadata": {},
     "output_type": "display_data"
    },
    {
     "name": "stderr",
     "output_type": "stream",
     "text": [
      "INFO - 2019-03-26 15:15:34,058 - instantiating class <class 'PatientVec.models.Model.Model'> from params {'type': 'seq_classifier', 'embedder': {'type': 'token_embedder', 'vocab_size': 18542, 'embed_size': 200, 'embedding_file': '../../../SurgeryData/PatientVec/preprocess/KneeSurgery/1_yrs/embedding_matrix.npy'}, 'decoder': {'num_layers': 2, 'hidden_dims': [128, 1], 'activations': ['tanh', 'linear']}, 'predictor': {'type': 'binary'}, 'structured': {'use_structured': False}, 'encoder': {'type': 'lstm', 'hidden_size': 128}} and extras {}\n",
      "INFO - 2019-03-26 15:15:34,059 - type = seq_classifier\n",
      "INFO - 2019-03-26 15:15:34,059 - instantiating class <class 'PatientVec.models.modules.Embedder.Embedder'> from params {'type': 'token_embedder', 'vocab_size': 18542, 'embed_size': 200, 'embedding_file': '../../../SurgeryData/PatientVec/preprocess/KneeSurgery/1_yrs/embedding_matrix.npy'} and extras {}\n",
      "INFO - 2019-03-26 15:15:34,059 - embedder.type = token_embedder\n",
      "INFO - 2019-03-26 15:15:34,060 - instantiating class <class 'PatientVec.models.modules.Embedder.TokenEmbedder'> from params {'vocab_size': 18542, 'embed_size': 200, 'embedding_file': '../../../SurgeryData/PatientVec/preprocess/KneeSurgery/1_yrs/embedding_matrix.npy'} and extras {}\n",
      "INFO - 2019-03-26 15:15:34,060 - embedder.vocab_size = 18542\n",
      "INFO - 2019-03-26 15:15:34,060 - embedder.embed_size = 200\n",
      "INFO - 2019-03-26 15:15:34,061 - embedder.embedding_file = ../../../SurgeryData/PatientVec/preprocess/KneeSurgery/1_yrs/embedding_matrix.npy\n",
      "INFO - 2019-03-26 15:15:34,069 - instantiating class <class 'PatientVec.models.modules.Encoder.Encoder'> from params {'type': 'lstm', 'hidden_size': 128} and extras {'input_size': 200}\n",
      "INFO - 2019-03-26 15:15:34,069 - encoder.type = lstm\n",
      "INFO - 2019-03-26 15:15:34,069 - instantiating class <class 'PatientVec.models.modules.Encoder.wrap_pytorch_rnn.<locals>.BiRNNEncoder'> from params {'hidden_size': 128} and extras {'input_size': 200}\n",
      "INFO - 2019-03-26 15:15:34,070 - encoder.hidden_size = 128\n",
      "INFO - 2019-03-26 15:15:34,072 - decoder.input_dim = 256\n",
      "INFO - 2019-03-26 15:15:34,072 - decoder.num_layers = 2\n",
      "INFO - 2019-03-26 15:15:34,073 - decoder.hidden_dims = [128, 1]\n",
      "INFO - 2019-03-26 15:15:34,073 - decoder.activations = ['tanh', 'linear']\n",
      "INFO - 2019-03-26 15:15:34,073 - decoder.dropout = 0.0\n",
      "INFO - 2019-03-26 15:15:34,074 - instantiating class <class 'PatientVec.models.modules.Predictor.Predictor'> from params {'type': 'binary'} and extras {}\n",
      "INFO - 2019-03-26 15:15:34,075 - predictor.type = binary\n",
      "INFO - 2019-03-26 15:15:34,075 - instantiating class <class 'PatientVec.models.modules.Predictor.Binary_Predictor'> from params {} and extras {}\n",
      "INFO - 2019-03-26 15:15:34,075 - predictor.replicate = False\n",
      "INFO - 2019-03-26 15:15:34,075 - predictor.alpha = 0.5\n"
     ]
    },
    {
     "name": "stdout",
     "output_type": "stream",
     "text": [
      "Model not saved on  roc_auc 0.625759014891957\n",
      "0.6352403405814309 deque([0.6188473150378235, 0.6160487126428983, 0.625759014891957], maxlen=3)\n",
      "\n",
      "Setting Embedding\n"
     ]
    },
    {
     "data": {
      "application/vnd.jupyter.widget-view+json": {
       "model_id": "0a8041f485274242baba413311bfc2d9",
       "version_major": 2,
       "version_minor": 0
      },
      "text/plain": [
       "HBox(children=(IntProgress(value=0, max=51), HTML(value='')))"
      ]
     },
     "metadata": {},
     "output_type": "display_data"
    },
    {
     "name": "stdout",
     "output_type": "stream",
     "text": [
      "\n",
      "{'accuracy': 0.6953807740324595, 'roc_auc': 0.6352403405814309, 'pr_auc': 0.1842626715914943}\n"
     ]
    },
    {
     "data": {
      "text/html": [
       "<div>\n",
       "<style scoped>\n",
       "    .dataframe tbody tr th:only-of-type {\n",
       "        vertical-align: middle;\n",
       "    }\n",
       "\n",
       "    .dataframe tbody tr th {\n",
       "        vertical-align: top;\n",
       "    }\n",
       "\n",
       "    .dataframe thead th {\n",
       "        text-align: right;\n",
       "    }\n",
       "</style>\n",
       "<table border=\"1\" class=\"dataframe\">\n",
       "  <thead>\n",
       "    <tr style=\"text-align: right;\">\n",
       "      <th></th>\n",
       "      <th>0.0</th>\n",
       "      <th>1.0</th>\n",
       "      <th>micro avg</th>\n",
       "      <th>macro avg</th>\n",
       "      <th>weighted avg</th>\n",
       "    </tr>\n",
       "  </thead>\n",
       "  <tbody>\n",
       "    <tr>\n",
       "      <th>f1-score</th>\n",
       "      <td>0.811</td>\n",
       "      <td>0.218</td>\n",
       "      <td>0.695</td>\n",
       "      <td>0.514</td>\n",
       "      <td>0.750</td>\n",
       "    </tr>\n",
       "    <tr>\n",
       "      <th>precision</th>\n",
       "      <td>0.916</td>\n",
       "      <td>0.148</td>\n",
       "      <td>0.695</td>\n",
       "      <td>0.532</td>\n",
       "      <td>0.837</td>\n",
       "    </tr>\n",
       "    <tr>\n",
       "      <th>recall</th>\n",
       "      <td>0.727</td>\n",
       "      <td>0.415</td>\n",
       "      <td>0.695</td>\n",
       "      <td>0.571</td>\n",
       "      <td>0.695</td>\n",
       "    </tr>\n",
       "    <tr>\n",
       "      <th>support</th>\n",
       "      <td>719.000</td>\n",
       "      <td>82.000</td>\n",
       "      <td>801.000</td>\n",
       "      <td>801.000</td>\n",
       "      <td>801.000</td>\n",
       "    </tr>\n",
       "  </tbody>\n",
       "</table>\n",
       "</div>"
      ],
      "text/plain": [
       "               0.0     1.0  micro avg  macro avg  weighted avg\n",
       "f1-score     0.811   0.218      0.695      0.514         0.750\n",
       "precision    0.916   0.148      0.695      0.532         0.837\n",
       "recall       0.727   0.415      0.695      0.571         0.695\n",
       "support    719.000  82.000    801.000    801.000       801.000"
      ]
     },
     "metadata": {},
     "output_type": "display_data"
    },
    {
     "name": "stderr",
     "output_type": "stream",
     "text": [
      "INFO - 2019-03-26 15:15:49,500 - instantiating class <class 'PatientVec.models.Model.Model'> from params {'type': 'seq_classifier_with_attention', 'embedder': {'type': 'token_embedder', 'vocab_size': 18542, 'embed_size': 200, 'embedding_file': '../../../SurgeryData/PatientVec/preprocess/KneeSurgery/1_yrs/embedding_matrix.npy'}, 'decoder': {'num_layers': 2, 'hidden_dims': [128, 1], 'activations': ['tanh', 'linear']}, 'predictor': {'type': 'binary'}, 'structured': {'use_structured': False}, 'encoder': {'type': 'lstm', 'hidden_size': 128}, 'attention': {'similarity': {'type': 'additive', 'hidden_size': 128}}} and extras {}\n",
      "INFO - 2019-03-26 15:15:49,501 - type = seq_classifier_with_attention\n",
      "INFO - 2019-03-26 15:15:49,501 - instantiating class <class 'PatientVec.models.modules.Embedder.Embedder'> from params {'type': 'token_embedder', 'vocab_size': 18542, 'embed_size': 200, 'embedding_file': '../../../SurgeryData/PatientVec/preprocess/KneeSurgery/1_yrs/embedding_matrix.npy'} and extras {}\n",
      "INFO - 2019-03-26 15:15:49,502 - embedder.type = token_embedder\n",
      "INFO - 2019-03-26 15:15:49,502 - instantiating class <class 'PatientVec.models.modules.Embedder.TokenEmbedder'> from params {'vocab_size': 18542, 'embed_size': 200, 'embedding_file': '../../../SurgeryData/PatientVec/preprocess/KneeSurgery/1_yrs/embedding_matrix.npy'} and extras {}\n",
      "INFO - 2019-03-26 15:15:49,502 - embedder.vocab_size = 18542\n",
      "INFO - 2019-03-26 15:15:49,503 - embedder.embed_size = 200\n",
      "INFO - 2019-03-26 15:15:49,503 - embedder.embedding_file = ../../../SurgeryData/PatientVec/preprocess/KneeSurgery/1_yrs/embedding_matrix.npy\n",
      "INFO - 2019-03-26 15:15:49,511 - instantiating class <class 'PatientVec.models.modules.Encoder.Encoder'> from params {'type': 'lstm', 'hidden_size': 128} and extras {'input_size': 200}\n",
      "INFO - 2019-03-26 15:15:49,512 - encoder.type = lstm\n",
      "INFO - 2019-03-26 15:15:49,512 - instantiating class <class 'PatientVec.models.modules.Encoder.wrap_pytorch_rnn.<locals>.BiRNNEncoder'> from params {'hidden_size': 128} and extras {'input_size': 200}\n",
      "INFO - 2019-03-26 15:15:49,512 - encoder.hidden_size = 128\n",
      "INFO - 2019-03-26 15:15:49,515 - instantiating class <class 'PatientVec.models.modules.SelfAttention.SelfAttention'> from params {'similarity': {'type': 'additive', 'hidden_size': 128, 'tensor_1_dim': 256}} and extras {}\n",
      "INFO - 2019-03-26 15:15:49,515 - instantiating class <class 'PatientVec.models.modules.UniSimilarity.UniSimilarity'> from params {'type': 'additive', 'hidden_size': 128, 'tensor_1_dim': 256} and extras {}\n",
      "INFO - 2019-03-26 15:15:49,516 - attention.similarity.type = additive\n",
      "INFO - 2019-03-26 15:15:49,516 - instantiating class <class 'PatientVec.models.modules.UniSimilarity.UniAdditiveSimilarity'> from params {'hidden_size': 128, 'tensor_1_dim': 256} and extras {}\n",
      "INFO - 2019-03-26 15:15:49,516 - attention.similarity.tensor_1_dim = 256\n",
      "INFO - 2019-03-26 15:15:49,516 - attention.similarity.hidden_size = 128\n",
      "INFO - 2019-03-26 15:15:49,517 - attention.similarity.output_size = 1\n",
      "INFO - 2019-03-26 15:15:49,518 - attention.normaliser = softmax\n",
      "INFO - 2019-03-26 15:15:49,519 - decoder.input_dim = 256\n",
      "INFO - 2019-03-26 15:15:49,519 - decoder.num_layers = 2\n",
      "INFO - 2019-03-26 15:15:49,519 - decoder.hidden_dims = [128, 1]\n",
      "INFO - 2019-03-26 15:15:49,519 - decoder.activations = ['tanh', 'linear']\n",
      "INFO - 2019-03-26 15:15:49,520 - decoder.dropout = 0.0\n",
      "INFO - 2019-03-26 15:15:49,521 - instantiating class <class 'PatientVec.models.modules.Predictor.Predictor'> from params {'type': 'binary'} and extras {}\n",
      "INFO - 2019-03-26 15:15:49,521 - predictor.type = binary\n",
      "INFO - 2019-03-26 15:15:49,522 - instantiating class <class 'PatientVec.models.modules.Predictor.Binary_Predictor'> from params {} and extras {}\n",
      "INFO - 2019-03-26 15:15:49,522 - predictor.replicate = False\n",
      "INFO - 2019-03-26 15:15:49,522 - predictor.alpha = 0.5\n"
     ]
    },
    {
     "name": "stdout",
     "output_type": "stream",
     "text": [
      "============================================================================================================================================================================================================================================================================================================\n",
      "{'model': {'type': 'seq_classifier_with_attention', 'embedder': {'type': 'token_embedder', 'vocab_size': 18542, 'embed_size': 200, 'embedding_file': '../../../SurgeryData/PatientVec/preprocess/KneeSurgery/1_yrs/embedding_matrix.npy'}, 'decoder': {'num_layers': 2, 'hidden_dims': [128, 1], 'activations': ['tanh', 'linear']}, 'predictor': {'type': 'binary'}, 'structured': {'use_structured': False}, 'encoder': {'type': 'lstm', 'hidden_size': 128}, 'attention': {'similarity': {'type': 'additive', 'hidden_size': 128}}}, 'training_config': {'type': 'Adam', 'groups': [('.*', {'lr': 0.001, 'weight_decay': 1e-05})], 'common': {'bsize': 16, 'class_weight': True}}, 'exp_config': {'exp_name': 'KneeSurgery_1/Attention/LSTM(hs=128)+Attention(additive)(hs=128)', 'basepath': 'outputs/confidence'}}\n",
      "Setting Embedding\n"
     ]
    },
    {
     "data": {
      "application/vnd.jupyter.widget-view+json": {
       "model_id": "7432ff9328de4bd682aadd09209f35b5",
       "version_major": 2,
       "version_minor": 0
      },
      "text/plain": [
       "HBox(children=(IntProgress(value=0, max=8), HTML(value='')))"
      ]
     },
     "metadata": {},
     "output_type": "display_data"
    },
    {
     "data": {
      "application/vnd.jupyter.widget-view+json": {
       "model_id": "59e80c2417354192ac2ac8f99a2651c6",
       "version_major": 2,
       "version_minor": 0
      },
      "text/plain": [
       "HBox(children=(IntProgress(value=0, max=229), HTML(value='')))"
      ]
     },
     "metadata": {},
     "output_type": "display_data"
    },
    {
     "data": {
      "application/vnd.jupyter.widget-view+json": {
       "model_id": "c4205f102d0f4e5dab5ae6c3789b4240",
       "version_major": 2,
       "version_minor": 0
      },
      "text/plain": [
       "HBox(children=(IntProgress(value=0, max=51), HTML(value='')))"
      ]
     },
     "metadata": {},
     "output_type": "display_data"
    },
    {
     "name": "stdout",
     "output_type": "stream",
     "text": [
      "{'accuracy': 0.6479400749063671, 'roc_auc': 0.832626615556837, 'pr_auc': 0.5239651687543418}\n"
     ]
    },
    {
     "data": {
      "text/html": [
       "<div>\n",
       "<style scoped>\n",
       "    .dataframe tbody tr th:only-of-type {\n",
       "        vertical-align: middle;\n",
       "    }\n",
       "\n",
       "    .dataframe tbody tr th {\n",
       "        vertical-align: top;\n",
       "    }\n",
       "\n",
       "    .dataframe thead th {\n",
       "        text-align: right;\n",
       "    }\n",
       "</style>\n",
       "<table border=\"1\" class=\"dataframe\">\n",
       "  <thead>\n",
       "    <tr style=\"text-align: right;\">\n",
       "      <th></th>\n",
       "      <th>0.0</th>\n",
       "      <th>1.0</th>\n",
       "      <th>micro avg</th>\n",
       "      <th>macro avg</th>\n",
       "      <th>weighted avg</th>\n",
       "    </tr>\n",
       "  </thead>\n",
       "  <tbody>\n",
       "    <tr>\n",
       "      <th>f1-score</th>\n",
       "      <td>0.762</td>\n",
       "      <td>0.325</td>\n",
       "      <td>0.648</td>\n",
       "      <td>0.544</td>\n",
       "      <td>0.717</td>\n",
       "    </tr>\n",
       "    <tr>\n",
       "      <th>precision</th>\n",
       "      <td>0.970</td>\n",
       "      <td>0.202</td>\n",
       "      <td>0.648</td>\n",
       "      <td>0.586</td>\n",
       "      <td>0.891</td>\n",
       "    </tr>\n",
       "    <tr>\n",
       "      <th>recall</th>\n",
       "      <td>0.627</td>\n",
       "      <td>0.829</td>\n",
       "      <td>0.648</td>\n",
       "      <td>0.728</td>\n",
       "      <td>0.648</td>\n",
       "    </tr>\n",
       "    <tr>\n",
       "      <th>support</th>\n",
       "      <td>719.000</td>\n",
       "      <td>82.000</td>\n",
       "      <td>801.000</td>\n",
       "      <td>801.000</td>\n",
       "      <td>801.000</td>\n",
       "    </tr>\n",
       "  </tbody>\n",
       "</table>\n",
       "</div>"
      ],
      "text/plain": [
       "               0.0     1.0  micro avg  macro avg  weighted avg\n",
       "f1-score     0.762   0.325      0.648      0.544         0.717\n",
       "precision    0.970   0.202      0.648      0.586         0.891\n",
       "recall       0.627   0.829      0.648      0.728         0.648\n",
       "support    719.000  82.000    801.000    801.000       801.000"
      ]
     },
     "metadata": {},
     "output_type": "display_data"
    },
    {
     "name": "stdout",
     "output_type": "stream",
     "text": [
      "Model Saved on  roc_auc 0.832626615556837\n"
     ]
    },
    {
     "data": {
      "application/vnd.jupyter.widget-view+json": {
       "model_id": "ee4e52ce04f24d2fa2b3580dc30a0824",
       "version_major": 2,
       "version_minor": 0
      },
      "text/plain": [
       "HBox(children=(IntProgress(value=0, max=229), HTML(value='')))"
      ]
     },
     "metadata": {},
     "output_type": "display_data"
    },
    {
     "data": {
      "application/vnd.jupyter.widget-view+json": {
       "model_id": "111d85993ef64d29a870d3288eeb01fb",
       "version_major": 2,
       "version_minor": 0
      },
      "text/plain": [
       "HBox(children=(IntProgress(value=0, max=51), HTML(value='')))"
      ]
     },
     "metadata": {},
     "output_type": "display_data"
    },
    {
     "name": "stdout",
     "output_type": "stream",
     "text": [
      "{'accuracy': 0.8439450686641697, 'roc_auc': 0.8793887173920417, 'pr_auc': 0.5595774435386561}\n"
     ]
    },
    {
     "data": {
      "text/html": [
       "<div>\n",
       "<style scoped>\n",
       "    .dataframe tbody tr th:only-of-type {\n",
       "        vertical-align: middle;\n",
       "    }\n",
       "\n",
       "    .dataframe tbody tr th {\n",
       "        vertical-align: top;\n",
       "    }\n",
       "\n",
       "    .dataframe thead th {\n",
       "        text-align: right;\n",
       "    }\n",
       "</style>\n",
       "<table border=\"1\" class=\"dataframe\">\n",
       "  <thead>\n",
       "    <tr style=\"text-align: right;\">\n",
       "      <th></th>\n",
       "      <th>0.0</th>\n",
       "      <th>1.0</th>\n",
       "      <th>micro avg</th>\n",
       "      <th>macro avg</th>\n",
       "      <th>weighted avg</th>\n",
       "    </tr>\n",
       "  </thead>\n",
       "  <tbody>\n",
       "    <tr>\n",
       "      <th>f1-score</th>\n",
       "      <td>0.907</td>\n",
       "      <td>0.506</td>\n",
       "      <td>0.844</td>\n",
       "      <td>0.707</td>\n",
       "      <td>0.866</td>\n",
       "    </tr>\n",
       "    <tr>\n",
       "      <th>precision</th>\n",
       "      <td>0.971</td>\n",
       "      <td>0.374</td>\n",
       "      <td>0.844</td>\n",
       "      <td>0.673</td>\n",
       "      <td>0.910</td>\n",
       "    </tr>\n",
       "    <tr>\n",
       "      <th>recall</th>\n",
       "      <td>0.851</td>\n",
       "      <td>0.780</td>\n",
       "      <td>0.844</td>\n",
       "      <td>0.816</td>\n",
       "      <td>0.844</td>\n",
       "    </tr>\n",
       "    <tr>\n",
       "      <th>support</th>\n",
       "      <td>719.000</td>\n",
       "      <td>82.000</td>\n",
       "      <td>801.000</td>\n",
       "      <td>801.000</td>\n",
       "      <td>801.000</td>\n",
       "    </tr>\n",
       "  </tbody>\n",
       "</table>\n",
       "</div>"
      ],
      "text/plain": [
       "               0.0     1.0  micro avg  macro avg  weighted avg\n",
       "f1-score     0.907   0.506      0.844      0.707         0.866\n",
       "precision    0.971   0.374      0.844      0.673         0.910\n",
       "recall       0.851   0.780      0.844      0.816         0.844\n",
       "support    719.000  82.000    801.000    801.000       801.000"
      ]
     },
     "metadata": {},
     "output_type": "display_data"
    },
    {
     "name": "stdout",
     "output_type": "stream",
     "text": [
      "Model Saved on  roc_auc 0.8793887173920417\n"
     ]
    },
    {
     "data": {
      "application/vnd.jupyter.widget-view+json": {
       "model_id": "2d99da403e2748118b1f073da2913fc0",
       "version_major": 2,
       "version_minor": 0
      },
      "text/plain": [
       "HBox(children=(IntProgress(value=0, max=229), HTML(value='')))"
      ]
     },
     "metadata": {},
     "output_type": "display_data"
    },
    {
     "data": {
      "application/vnd.jupyter.widget-view+json": {
       "model_id": "bb5cff243476402fb81318d9a9820a1f",
       "version_major": 2,
       "version_minor": 0
      },
      "text/plain": [
       "HBox(children=(IntProgress(value=0, max=51), HTML(value='')))"
      ]
     },
     "metadata": {},
     "output_type": "display_data"
    },
    {
     "name": "stdout",
     "output_type": "stream",
     "text": [
      "{'accuracy': 0.8439450686641697, 'roc_auc': 0.8822042810136029, 'pr_auc': 0.5816555081699678}\n"
     ]
    },
    {
     "data": {
      "text/html": [
       "<div>\n",
       "<style scoped>\n",
       "    .dataframe tbody tr th:only-of-type {\n",
       "        vertical-align: middle;\n",
       "    }\n",
       "\n",
       "    .dataframe tbody tr th {\n",
       "        vertical-align: top;\n",
       "    }\n",
       "\n",
       "    .dataframe thead th {\n",
       "        text-align: right;\n",
       "    }\n",
       "</style>\n",
       "<table border=\"1\" class=\"dataframe\">\n",
       "  <thead>\n",
       "    <tr style=\"text-align: right;\">\n",
       "      <th></th>\n",
       "      <th>0.0</th>\n",
       "      <th>1.0</th>\n",
       "      <th>micro avg</th>\n",
       "      <th>macro avg</th>\n",
       "      <th>weighted avg</th>\n",
       "    </tr>\n",
       "  </thead>\n",
       "  <tbody>\n",
       "    <tr>\n",
       "      <th>f1-score</th>\n",
       "      <td>0.908</td>\n",
       "      <td>0.494</td>\n",
       "      <td>0.844</td>\n",
       "      <td>0.701</td>\n",
       "      <td>0.865</td>\n",
       "    </tr>\n",
       "    <tr>\n",
       "      <th>precision</th>\n",
       "      <td>0.967</td>\n",
       "      <td>0.370</td>\n",
       "      <td>0.844</td>\n",
       "      <td>0.668</td>\n",
       "      <td>0.906</td>\n",
       "    </tr>\n",
       "    <tr>\n",
       "      <th>recall</th>\n",
       "      <td>0.855</td>\n",
       "      <td>0.744</td>\n",
       "      <td>0.844</td>\n",
       "      <td>0.800</td>\n",
       "      <td>0.844</td>\n",
       "    </tr>\n",
       "    <tr>\n",
       "      <th>support</th>\n",
       "      <td>719.000</td>\n",
       "      <td>82.000</td>\n",
       "      <td>801.000</td>\n",
       "      <td>801.000</td>\n",
       "      <td>801.000</td>\n",
       "    </tr>\n",
       "  </tbody>\n",
       "</table>\n",
       "</div>"
      ],
      "text/plain": [
       "               0.0     1.0  micro avg  macro avg  weighted avg\n",
       "f1-score     0.908   0.494      0.844      0.701         0.865\n",
       "precision    0.967   0.370      0.844      0.668         0.906\n",
       "recall       0.855   0.744      0.844      0.800         0.844\n",
       "support    719.000  82.000    801.000    801.000       801.000"
      ]
     },
     "metadata": {},
     "output_type": "display_data"
    },
    {
     "name": "stdout",
     "output_type": "stream",
     "text": [
      "Model Saved on  roc_auc 0.8822042810136029\n"
     ]
    },
    {
     "data": {
      "application/vnd.jupyter.widget-view+json": {
       "model_id": "791604c8abbc43d59fae841550936855",
       "version_major": 2,
       "version_minor": 0
      },
      "text/plain": [
       "HBox(children=(IntProgress(value=0, max=229), HTML(value='')))"
      ]
     },
     "metadata": {},
     "output_type": "display_data"
    },
    {
     "data": {
      "application/vnd.jupyter.widget-view+json": {
       "model_id": "554493470b8541c8b51f17b7b0dff22b",
       "version_major": 2,
       "version_minor": 0
      },
      "text/plain": [
       "HBox(children=(IntProgress(value=0, max=51), HTML(value='')))"
      ]
     },
     "metadata": {},
     "output_type": "display_data"
    },
    {
     "name": "stdout",
     "output_type": "stream",
     "text": [
      "{'accuracy': 0.8626716604244694, 'roc_auc': 0.8837647138641066, 'pr_auc': 0.594735713015937}\n"
     ]
    },
    {
     "data": {
      "text/html": [
       "<div>\n",
       "<style scoped>\n",
       "    .dataframe tbody tr th:only-of-type {\n",
       "        vertical-align: middle;\n",
       "    }\n",
       "\n",
       "    .dataframe tbody tr th {\n",
       "        vertical-align: top;\n",
       "    }\n",
       "\n",
       "    .dataframe thead th {\n",
       "        text-align: right;\n",
       "    }\n",
       "</style>\n",
       "<table border=\"1\" class=\"dataframe\">\n",
       "  <thead>\n",
       "    <tr style=\"text-align: right;\">\n",
       "      <th></th>\n",
       "      <th>0.0</th>\n",
       "      <th>1.0</th>\n",
       "      <th>micro avg</th>\n",
       "      <th>macro avg</th>\n",
       "      <th>weighted avg</th>\n",
       "    </tr>\n",
       "  </thead>\n",
       "  <tbody>\n",
       "    <tr>\n",
       "      <th>f1-score</th>\n",
       "      <td>0.920</td>\n",
       "      <td>0.513</td>\n",
       "      <td>0.863</td>\n",
       "      <td>0.717</td>\n",
       "      <td>0.878</td>\n",
       "    </tr>\n",
       "    <tr>\n",
       "      <th>precision</th>\n",
       "      <td>0.963</td>\n",
       "      <td>0.403</td>\n",
       "      <td>0.863</td>\n",
       "      <td>0.683</td>\n",
       "      <td>0.906</td>\n",
       "    </tr>\n",
       "    <tr>\n",
       "      <th>recall</th>\n",
       "      <td>0.880</td>\n",
       "      <td>0.707</td>\n",
       "      <td>0.863</td>\n",
       "      <td>0.794</td>\n",
       "      <td>0.863</td>\n",
       "    </tr>\n",
       "    <tr>\n",
       "      <th>support</th>\n",
       "      <td>719.000</td>\n",
       "      <td>82.000</td>\n",
       "      <td>801.000</td>\n",
       "      <td>801.000</td>\n",
       "      <td>801.000</td>\n",
       "    </tr>\n",
       "  </tbody>\n",
       "</table>\n",
       "</div>"
      ],
      "text/plain": [
       "               0.0     1.0  micro avg  macro avg  weighted avg\n",
       "f1-score     0.920   0.513      0.863      0.717         0.878\n",
       "precision    0.963   0.403      0.863      0.683         0.906\n",
       "recall       0.880   0.707      0.863      0.794         0.863\n",
       "support    719.000  82.000    801.000    801.000       801.000"
      ]
     },
     "metadata": {},
     "output_type": "display_data"
    },
    {
     "name": "stdout",
     "output_type": "stream",
     "text": [
      "Model Saved on  roc_auc 0.8837647138641066\n"
     ]
    },
    {
     "data": {
      "application/vnd.jupyter.widget-view+json": {
       "model_id": "63e300bb2c8b454ca5c5b97c9a7dc41b",
       "version_major": 2,
       "version_minor": 0
      },
      "text/plain": [
       "HBox(children=(IntProgress(value=0, max=229), HTML(value='')))"
      ]
     },
     "metadata": {},
     "output_type": "display_data"
    },
    {
     "data": {
      "application/vnd.jupyter.widget-view+json": {
       "model_id": "eb295b53c38c47ad8f8e4e0358603bc3",
       "version_major": 2,
       "version_minor": 0
      },
      "text/plain": [
       "HBox(children=(IntProgress(value=0, max=51), HTML(value='')))"
      ]
     },
     "metadata": {},
     "output_type": "display_data"
    },
    {
     "name": "stdout",
     "output_type": "stream",
     "text": [
      "{'accuracy': 0.8489388264669163, 'roc_auc': 0.8775399436887276, 'pr_auc': 0.6015027686099844}\n"
     ]
    },
    {
     "data": {
      "text/html": [
       "<div>\n",
       "<style scoped>\n",
       "    .dataframe tbody tr th:only-of-type {\n",
       "        vertical-align: middle;\n",
       "    }\n",
       "\n",
       "    .dataframe tbody tr th {\n",
       "        vertical-align: top;\n",
       "    }\n",
       "\n",
       "    .dataframe thead th {\n",
       "        text-align: right;\n",
       "    }\n",
       "</style>\n",
       "<table border=\"1\" class=\"dataframe\">\n",
       "  <thead>\n",
       "    <tr style=\"text-align: right;\">\n",
       "      <th></th>\n",
       "      <th>0.0</th>\n",
       "      <th>1.0</th>\n",
       "      <th>micro avg</th>\n",
       "      <th>macro avg</th>\n",
       "      <th>weighted avg</th>\n",
       "    </tr>\n",
       "  </thead>\n",
       "  <tbody>\n",
       "    <tr>\n",
       "      <th>f1-score</th>\n",
       "      <td>0.911</td>\n",
       "      <td>0.502</td>\n",
       "      <td>0.849</td>\n",
       "      <td>0.707</td>\n",
       "      <td>0.869</td>\n",
       "    </tr>\n",
       "    <tr>\n",
       "      <th>precision</th>\n",
       "      <td>0.967</td>\n",
       "      <td>0.379</td>\n",
       "      <td>0.849</td>\n",
       "      <td>0.673</td>\n",
       "      <td>0.907</td>\n",
       "    </tr>\n",
       "    <tr>\n",
       "      <th>recall</th>\n",
       "      <td>0.861</td>\n",
       "      <td>0.744</td>\n",
       "      <td>0.849</td>\n",
       "      <td>0.802</td>\n",
       "      <td>0.849</td>\n",
       "    </tr>\n",
       "    <tr>\n",
       "      <th>support</th>\n",
       "      <td>719.000</td>\n",
       "      <td>82.000</td>\n",
       "      <td>801.000</td>\n",
       "      <td>801.000</td>\n",
       "      <td>801.000</td>\n",
       "    </tr>\n",
       "  </tbody>\n",
       "</table>\n",
       "</div>"
      ],
      "text/plain": [
       "               0.0     1.0  micro avg  macro avg  weighted avg\n",
       "f1-score     0.911   0.502      0.849      0.707         0.869\n",
       "precision    0.967   0.379      0.849      0.673         0.907\n",
       "recall       0.861   0.744      0.849      0.802         0.849\n",
       "support    719.000  82.000    801.000    801.000       801.000"
      ]
     },
     "metadata": {},
     "output_type": "display_data"
    },
    {
     "name": "stdout",
     "output_type": "stream",
     "text": [
      "Model not saved on  roc_auc 0.8775399436887276\n"
     ]
    },
    {
     "data": {
      "application/vnd.jupyter.widget-view+json": {
       "model_id": "0eef1cb1bdd2483f8e8b8075a4851c2f",
       "version_major": 2,
       "version_minor": 0
      },
      "text/plain": [
       "HBox(children=(IntProgress(value=0, max=229), HTML(value='')))"
      ]
     },
     "metadata": {},
     "output_type": "display_data"
    },
    {
     "data": {
      "application/vnd.jupyter.widget-view+json": {
       "model_id": "3254f9cc62084b3895339349084072bb",
       "version_major": 2,
       "version_minor": 0
      },
      "text/plain": [
       "HBox(children=(IntProgress(value=0, max=51), HTML(value='')))"
      ]
     },
     "metadata": {},
     "output_type": "display_data"
    },
    {
     "name": "stdout",
     "output_type": "stream",
     "text": [
      "{'accuracy': 0.8689138576779026, 'roc_auc': 0.8475185725431664, 'pr_auc': 0.5376453768746557}\n"
     ]
    },
    {
     "data": {
      "text/html": [
       "<div>\n",
       "<style scoped>\n",
       "    .dataframe tbody tr th:only-of-type {\n",
       "        vertical-align: middle;\n",
       "    }\n",
       "\n",
       "    .dataframe tbody tr th {\n",
       "        vertical-align: top;\n",
       "    }\n",
       "\n",
       "    .dataframe thead th {\n",
       "        text-align: right;\n",
       "    }\n",
       "</style>\n",
       "<table border=\"1\" class=\"dataframe\">\n",
       "  <thead>\n",
       "    <tr style=\"text-align: right;\">\n",
       "      <th></th>\n",
       "      <th>0.0</th>\n",
       "      <th>1.0</th>\n",
       "      <th>micro avg</th>\n",
       "      <th>macro avg</th>\n",
       "      <th>weighted avg</th>\n",
       "    </tr>\n",
       "  </thead>\n",
       "  <tbody>\n",
       "    <tr>\n",
       "      <th>f1-score</th>\n",
       "      <td>0.924</td>\n",
       "      <td>0.507</td>\n",
       "      <td>0.869</td>\n",
       "      <td>0.716</td>\n",
       "      <td>0.882</td>\n",
       "    </tr>\n",
       "    <tr>\n",
       "      <th>precision</th>\n",
       "      <td>0.958</td>\n",
       "      <td>0.412</td>\n",
       "      <td>0.869</td>\n",
       "      <td>0.685</td>\n",
       "      <td>0.902</td>\n",
       "    </tr>\n",
       "    <tr>\n",
       "      <th>recall</th>\n",
       "      <td>0.893</td>\n",
       "      <td>0.659</td>\n",
       "      <td>0.869</td>\n",
       "      <td>0.776</td>\n",
       "      <td>0.869</td>\n",
       "    </tr>\n",
       "    <tr>\n",
       "      <th>support</th>\n",
       "      <td>719.000</td>\n",
       "      <td>82.000</td>\n",
       "      <td>801.000</td>\n",
       "      <td>801.000</td>\n",
       "      <td>801.000</td>\n",
       "    </tr>\n",
       "  </tbody>\n",
       "</table>\n",
       "</div>"
      ],
      "text/plain": [
       "               0.0     1.0  micro avg  macro avg  weighted avg\n",
       "f1-score     0.924   0.507      0.869      0.716         0.882\n",
       "precision    0.958   0.412      0.869      0.685         0.902\n",
       "recall       0.893   0.659      0.869      0.776         0.869\n",
       "support    719.000  82.000    801.000    801.000       801.000"
      ]
     },
     "metadata": {},
     "output_type": "display_data"
    },
    {
     "name": "stdout",
     "output_type": "stream",
     "text": [
      "Model not saved on  roc_auc 0.8475185725431664\n"
     ]
    },
    {
     "data": {
      "application/vnd.jupyter.widget-view+json": {
       "model_id": "f07e72af27ab4d6caee9041b65404d78",
       "version_major": 2,
       "version_minor": 0
      },
      "text/plain": [
       "HBox(children=(IntProgress(value=0, max=229), HTML(value='')))"
      ]
     },
     "metadata": {},
     "output_type": "display_data"
    },
    {
     "data": {
      "application/vnd.jupyter.widget-view+json": {
       "model_id": "8968dbd695364c8881a4e7e1af7bbb17",
       "version_major": 2,
       "version_minor": 0
      },
      "text/plain": [
       "HBox(children=(IntProgress(value=0, max=51), HTML(value='')))"
      ]
     },
     "metadata": {},
     "output_type": "display_data"
    },
    {
     "name": "stdout",
     "output_type": "stream",
     "text": [
      "{'accuracy': 0.8813982521847691, 'roc_auc': 0.8497065707791988, 'pr_auc': 0.5256980879648693}\n"
     ]
    },
    {
     "data": {
      "text/html": [
       "<div>\n",
       "<style scoped>\n",
       "    .dataframe tbody tr th:only-of-type {\n",
       "        vertical-align: middle;\n",
       "    }\n",
       "\n",
       "    .dataframe tbody tr th {\n",
       "        vertical-align: top;\n",
       "    }\n",
       "\n",
       "    .dataframe thead th {\n",
       "        text-align: right;\n",
       "    }\n",
       "</style>\n",
       "<table border=\"1\" class=\"dataframe\">\n",
       "  <thead>\n",
       "    <tr style=\"text-align: right;\">\n",
       "      <th></th>\n",
       "      <th>0.0</th>\n",
       "      <th>1.0</th>\n",
       "      <th>micro avg</th>\n",
       "      <th>macro avg</th>\n",
       "      <th>weighted avg</th>\n",
       "    </tr>\n",
       "  </thead>\n",
       "  <tbody>\n",
       "    <tr>\n",
       "      <th>f1-score</th>\n",
       "      <td>0.932</td>\n",
       "      <td>0.532</td>\n",
       "      <td>0.881</td>\n",
       "      <td>0.732</td>\n",
       "      <td>0.891</td>\n",
       "    </tr>\n",
       "    <tr>\n",
       "      <th>precision</th>\n",
       "      <td>0.959</td>\n",
       "      <td>0.446</td>\n",
       "      <td>0.881</td>\n",
       "      <td>0.703</td>\n",
       "      <td>0.906</td>\n",
       "    </tr>\n",
       "    <tr>\n",
       "      <th>recall</th>\n",
       "      <td>0.907</td>\n",
       "      <td>0.659</td>\n",
       "      <td>0.881</td>\n",
       "      <td>0.783</td>\n",
       "      <td>0.881</td>\n",
       "    </tr>\n",
       "    <tr>\n",
       "      <th>support</th>\n",
       "      <td>719.000</td>\n",
       "      <td>82.000</td>\n",
       "      <td>801.000</td>\n",
       "      <td>801.000</td>\n",
       "      <td>801.000</td>\n",
       "    </tr>\n",
       "  </tbody>\n",
       "</table>\n",
       "</div>"
      ],
      "text/plain": [
       "               0.0     1.0  micro avg  macro avg  weighted avg\n",
       "f1-score     0.932   0.532      0.881      0.732         0.891\n",
       "precision    0.959   0.446      0.881      0.703         0.906\n",
       "recall       0.907   0.659      0.881      0.783         0.881\n",
       "support    719.000  82.000    801.000    801.000       801.000"
      ]
     },
     "metadata": {},
     "output_type": "display_data"
    },
    {
     "name": "stderr",
     "output_type": "stream",
     "text": [
      "INFO - 2019-03-26 15:30:09,330 - instantiating class <class 'PatientVec.models.Model.Model'> from params {'type': 'seq_classifier_with_attention', 'embedder': {'type': 'token_embedder', 'vocab_size': 18542, 'embed_size': 200, 'embedding_file': '../../../SurgeryData/PatientVec/preprocess/KneeSurgery/1_yrs/embedding_matrix.npy'}, 'decoder': {'num_layers': 2, 'hidden_dims': [128, 1], 'activations': ['tanh', 'linear']}, 'predictor': {'type': 'binary'}, 'structured': {'use_structured': False}, 'encoder': {'type': 'lstm', 'hidden_size': 128}, 'attention': {'similarity': {'type': 'additive', 'hidden_size': 128}}} and extras {}\n",
      "INFO - 2019-03-26 15:30:09,330 - type = seq_classifier_with_attention\n",
      "INFO - 2019-03-26 15:30:09,330 - instantiating class <class 'PatientVec.models.modules.Embedder.Embedder'> from params {'type': 'token_embedder', 'vocab_size': 18542, 'embed_size': 200, 'embedding_file': '../../../SurgeryData/PatientVec/preprocess/KneeSurgery/1_yrs/embedding_matrix.npy'} and extras {}\n",
      "INFO - 2019-03-26 15:30:09,331 - embedder.type = token_embedder\n",
      "INFO - 2019-03-26 15:30:09,331 - instantiating class <class 'PatientVec.models.modules.Embedder.TokenEmbedder'> from params {'vocab_size': 18542, 'embed_size': 200, 'embedding_file': '../../../SurgeryData/PatientVec/preprocess/KneeSurgery/1_yrs/embedding_matrix.npy'} and extras {}\n",
      "INFO - 2019-03-26 15:30:09,331 - embedder.vocab_size = 18542\n",
      "INFO - 2019-03-26 15:30:09,331 - embedder.embed_size = 200\n",
      "INFO - 2019-03-26 15:30:09,332 - embedder.embedding_file = ../../../SurgeryData/PatientVec/preprocess/KneeSurgery/1_yrs/embedding_matrix.npy\n",
      "INFO - 2019-03-26 15:30:09,340 - instantiating class <class 'PatientVec.models.modules.Encoder.Encoder'> from params {'type': 'lstm', 'hidden_size': 128} and extras {'input_size': 200}\n",
      "INFO - 2019-03-26 15:30:09,340 - encoder.type = lstm\n",
      "INFO - 2019-03-26 15:30:09,341 - instantiating class <class 'PatientVec.models.modules.Encoder.wrap_pytorch_rnn.<locals>.BiRNNEncoder'> from params {'hidden_size': 128} and extras {'input_size': 200}\n",
      "INFO - 2019-03-26 15:30:09,341 - encoder.hidden_size = 128\n",
      "INFO - 2019-03-26 15:30:09,344 - instantiating class <class 'PatientVec.models.modules.SelfAttention.SelfAttention'> from params {'similarity': {'type': 'additive', 'hidden_size': 128, 'tensor_1_dim': 256}} and extras {}\n",
      "INFO - 2019-03-26 15:30:09,344 - instantiating class <class 'PatientVec.models.modules.UniSimilarity.UniSimilarity'> from params {'type': 'additive', 'hidden_size': 128, 'tensor_1_dim': 256} and extras {}\n",
      "INFO - 2019-03-26 15:30:09,344 - attention.similarity.type = additive\n",
      "INFO - 2019-03-26 15:30:09,344 - instantiating class <class 'PatientVec.models.modules.UniSimilarity.UniAdditiveSimilarity'> from params {'hidden_size': 128, 'tensor_1_dim': 256} and extras {}\n",
      "INFO - 2019-03-26 15:30:09,345 - attention.similarity.tensor_1_dim = 256\n",
      "INFO - 2019-03-26 15:30:09,345 - attention.similarity.hidden_size = 128\n",
      "INFO - 2019-03-26 15:30:09,345 - attention.similarity.output_size = 1\n",
      "INFO - 2019-03-26 15:30:09,347 - attention.normaliser = softmax\n",
      "INFO - 2019-03-26 15:30:09,347 - decoder.input_dim = 256\n",
      "INFO - 2019-03-26 15:30:09,347 - decoder.num_layers = 2\n",
      "INFO - 2019-03-26 15:30:09,347 - decoder.hidden_dims = [128, 1]\n",
      "INFO - 2019-03-26 15:30:09,348 - decoder.activations = ['tanh', 'linear']\n",
      "INFO - 2019-03-26 15:30:09,348 - decoder.dropout = 0.0\n",
      "INFO - 2019-03-26 15:30:09,349 - instantiating class <class 'PatientVec.models.modules.Predictor.Predictor'> from params {'type': 'binary'} and extras {}\n",
      "INFO - 2019-03-26 15:30:09,349 - predictor.type = binary\n",
      "INFO - 2019-03-26 15:30:09,350 - instantiating class <class 'PatientVec.models.modules.Predictor.Binary_Predictor'> from params {} and extras {}\n",
      "INFO - 2019-03-26 15:30:09,350 - predictor.replicate = False\n",
      "INFO - 2019-03-26 15:30:09,350 - predictor.alpha = 0.5\n"
     ]
    },
    {
     "name": "stdout",
     "output_type": "stream",
     "text": [
      "Model not saved on  roc_auc 0.8497065707791988\n",
      "0.8837647138641066 deque([0.8775399436887276, 0.8475185725431664, 0.8497065707791988], maxlen=3)\n",
      "\n",
      "Setting Embedding\n"
     ]
    },
    {
     "data": {
      "application/vnd.jupyter.widget-view+json": {
       "model_id": "ba7acd39a1bf457db2bd938e54867de8",
       "version_major": 2,
       "version_minor": 0
      },
      "text/plain": [
       "HBox(children=(IntProgress(value=0, max=51), HTML(value='')))"
      ]
     },
     "metadata": {},
     "output_type": "display_data"
    },
    {
     "name": "stdout",
     "output_type": "stream",
     "text": [
      "\n",
      "{'accuracy': 0.8626716604244694, 'roc_auc': 0.8837647138641066, 'pr_auc': 0.594735713015937}\n"
     ]
    },
    {
     "data": {
      "text/html": [
       "<div>\n",
       "<style scoped>\n",
       "    .dataframe tbody tr th:only-of-type {\n",
       "        vertical-align: middle;\n",
       "    }\n",
       "\n",
       "    .dataframe tbody tr th {\n",
       "        vertical-align: top;\n",
       "    }\n",
       "\n",
       "    .dataframe thead th {\n",
       "        text-align: right;\n",
       "    }\n",
       "</style>\n",
       "<table border=\"1\" class=\"dataframe\">\n",
       "  <thead>\n",
       "    <tr style=\"text-align: right;\">\n",
       "      <th></th>\n",
       "      <th>0.0</th>\n",
       "      <th>1.0</th>\n",
       "      <th>micro avg</th>\n",
       "      <th>macro avg</th>\n",
       "      <th>weighted avg</th>\n",
       "    </tr>\n",
       "  </thead>\n",
       "  <tbody>\n",
       "    <tr>\n",
       "      <th>f1-score</th>\n",
       "      <td>0.920</td>\n",
       "      <td>0.513</td>\n",
       "      <td>0.863</td>\n",
       "      <td>0.717</td>\n",
       "      <td>0.878</td>\n",
       "    </tr>\n",
       "    <tr>\n",
       "      <th>precision</th>\n",
       "      <td>0.963</td>\n",
       "      <td>0.403</td>\n",
       "      <td>0.863</td>\n",
       "      <td>0.683</td>\n",
       "      <td>0.906</td>\n",
       "    </tr>\n",
       "    <tr>\n",
       "      <th>recall</th>\n",
       "      <td>0.880</td>\n",
       "      <td>0.707</td>\n",
       "      <td>0.863</td>\n",
       "      <td>0.794</td>\n",
       "      <td>0.863</td>\n",
       "    </tr>\n",
       "    <tr>\n",
       "      <th>support</th>\n",
       "      <td>719.000</td>\n",
       "      <td>82.000</td>\n",
       "      <td>801.000</td>\n",
       "      <td>801.000</td>\n",
       "      <td>801.000</td>\n",
       "    </tr>\n",
       "  </tbody>\n",
       "</table>\n",
       "</div>"
      ],
      "text/plain": [
       "               0.0     1.0  micro avg  macro avg  weighted avg\n",
       "f1-score     0.920   0.513      0.863      0.717         0.878\n",
       "precision    0.963   0.403      0.863      0.683         0.906\n",
       "recall       0.880   0.707      0.863      0.794         0.863\n",
       "support    719.000  82.000    801.000    801.000       801.000"
      ]
     },
     "metadata": {},
     "output_type": "display_data"
    },
    {
     "name": "stderr",
     "output_type": "stream",
     "text": [
      "INFO - 2019-03-26 15:30:25,271 - instantiating class <class 'PatientVec.models.Model.Model'> from params {'type': 'seq_classifier', 'embedder': {'type': 'token_embedder', 'vocab_size': 18542, 'embed_size': 200, 'embedding_file': '../../../SurgeryData/PatientVec/preprocess/KneeSurgery/1_yrs/embedding_matrix.npy'}, 'decoder': {'num_layers': 2, 'hidden_dims': [128, 1], 'activations': ['tanh', 'linear']}, 'predictor': {'type': 'binary'}, 'structured': {'use_structured': False}, 'encoder': {'type': 'cnn', 'hidden_size': 64, 'kernel_sizes': [3, 5, 7, 9], 'activation': 'relu'}} and extras {}\n",
      "INFO - 2019-03-26 15:30:25,272 - type = seq_classifier\n",
      "INFO - 2019-03-26 15:30:25,272 - instantiating class <class 'PatientVec.models.modules.Embedder.Embedder'> from params {'type': 'token_embedder', 'vocab_size': 18542, 'embed_size': 200, 'embedding_file': '../../../SurgeryData/PatientVec/preprocess/KneeSurgery/1_yrs/embedding_matrix.npy'} and extras {}\n",
      "INFO - 2019-03-26 15:30:25,273 - embedder.type = token_embedder\n",
      "INFO - 2019-03-26 15:30:25,273 - instantiating class <class 'PatientVec.models.modules.Embedder.TokenEmbedder'> from params {'vocab_size': 18542, 'embed_size': 200, 'embedding_file': '../../../SurgeryData/PatientVec/preprocess/KneeSurgery/1_yrs/embedding_matrix.npy'} and extras {}\n",
      "INFO - 2019-03-26 15:30:25,273 - embedder.vocab_size = 18542\n",
      "INFO - 2019-03-26 15:30:25,274 - embedder.embed_size = 200\n",
      "INFO - 2019-03-26 15:30:25,274 - embedder.embedding_file = ../../../SurgeryData/PatientVec/preprocess/KneeSurgery/1_yrs/embedding_matrix.npy\n",
      "INFO - 2019-03-26 15:30:25,282 - instantiating class <class 'PatientVec.models.modules.Encoder.Encoder'> from params {'type': 'cnn', 'hidden_size': 64, 'kernel_sizes': [3, 5, 7, 9], 'activation': 'relu'} and extras {'input_size': 200}\n",
      "INFO - 2019-03-26 15:30:25,283 - encoder.type = cnn\n",
      "INFO - 2019-03-26 15:30:25,283 - instantiating class <class 'PatientVec.models.modules.Encoder.CNNEncoder'> from params {'hidden_size': 64, 'kernel_sizes': [3, 5, 7, 9], 'activation': 'relu'} and extras {'input_size': 200}\n",
      "INFO - 2019-03-26 15:30:25,283 - encoder.hidden_size = 64\n",
      "INFO - 2019-03-26 15:30:25,284 - encoder.kernel_sizes = [3, 5, 7, 9]\n",
      "INFO - 2019-03-26 15:30:25,284 - encoder.activation = relu\n",
      "INFO - 2019-03-26 15:30:25,287 - decoder.input_dim = 256\n",
      "INFO - 2019-03-26 15:30:25,287 - decoder.num_layers = 2\n",
      "INFO - 2019-03-26 15:30:25,287 - decoder.hidden_dims = [128, 1]\n",
      "INFO - 2019-03-26 15:30:25,288 - decoder.activations = ['tanh', 'linear']\n",
      "INFO - 2019-03-26 15:30:25,288 - decoder.dropout = 0.0\n",
      "INFO - 2019-03-26 15:30:25,289 - instantiating class <class 'PatientVec.models.modules.Predictor.Predictor'> from params {'type': 'binary'} and extras {}\n",
      "INFO - 2019-03-26 15:30:25,289 - predictor.type = binary\n",
      "INFO - 2019-03-26 15:30:25,290 - instantiating class <class 'PatientVec.models.modules.Predictor.Binary_Predictor'> from params {} and extras {}\n",
      "INFO - 2019-03-26 15:30:25,290 - predictor.replicate = False\n",
      "INFO - 2019-03-26 15:30:25,290 - predictor.alpha = 0.5\n"
     ]
    },
    {
     "name": "stdout",
     "output_type": "stream",
     "text": [
      "============================================================================================================================================================================================================================================================================================================\n",
      "{'model': {'type': 'seq_classifier', 'embedder': {'type': 'token_embedder', 'vocab_size': 18542, 'embed_size': 200, 'embedding_file': '../../../SurgeryData/PatientVec/preprocess/KneeSurgery/1_yrs/embedding_matrix.npy'}, 'decoder': {'num_layers': 2, 'hidden_dims': [128, 1], 'activations': ['tanh', 'linear']}, 'predictor': {'type': 'binary'}, 'structured': {'use_structured': False}, 'encoder': {'type': 'cnn', 'hidden_size': 64, 'kernel_sizes': [3, 5, 7, 9], 'activation': 'relu'}}, 'training_config': {'type': 'Adam', 'groups': [('.*', {'lr': 0.001, 'weight_decay': 1e-05})], 'common': {'bsize': 16, 'class_weight': True}}, 'exp_config': {'exp_name': 'KneeSurgery_1/Basic/CNN(hs=64)(kernels=3,5,7,9)', 'basepath': 'outputs/confidence'}}\n",
      "Setting Embedding\n"
     ]
    },
    {
     "data": {
      "application/vnd.jupyter.widget-view+json": {
       "model_id": "16d31d79c03e4f3498619ed63d62c122",
       "version_major": 2,
       "version_minor": 0
      },
      "text/plain": [
       "HBox(children=(IntProgress(value=0, max=8), HTML(value='')))"
      ]
     },
     "metadata": {},
     "output_type": "display_data"
    },
    {
     "data": {
      "application/vnd.jupyter.widget-view+json": {
       "model_id": "c1b3b2fa4e8a47829381e08ae5a7fe52",
       "version_major": 2,
       "version_minor": 0
      },
      "text/plain": [
       "HBox(children=(IntProgress(value=0, max=229), HTML(value='')))"
      ]
     },
     "metadata": {},
     "output_type": "display_data"
    },
    {
     "data": {
      "application/vnd.jupyter.widget-view+json": {
       "model_id": "bfb7d0d2399349b58418416e4c9f38e7",
       "version_major": 2,
       "version_minor": 0
      },
      "text/plain": [
       "HBox(children=(IntProgress(value=0, max=51), HTML(value='')))"
      ]
     },
     "metadata": {},
     "output_type": "display_data"
    },
    {
     "name": "stdout",
     "output_type": "stream",
     "text": [
      "{'accuracy': 0.8489388264669163, 'roc_auc': 0.8651243257912413, 'pr_auc': 0.5310528987447934}\n"
     ]
    },
    {
     "data": {
      "text/html": [
       "<div>\n",
       "<style scoped>\n",
       "    .dataframe tbody tr th:only-of-type {\n",
       "        vertical-align: middle;\n",
       "    }\n",
       "\n",
       "    .dataframe tbody tr th {\n",
       "        vertical-align: top;\n",
       "    }\n",
       "\n",
       "    .dataframe thead th {\n",
       "        text-align: right;\n",
       "    }\n",
       "</style>\n",
       "<table border=\"1\" class=\"dataframe\">\n",
       "  <thead>\n",
       "    <tr style=\"text-align: right;\">\n",
       "      <th></th>\n",
       "      <th>0.0</th>\n",
       "      <th>1.0</th>\n",
       "      <th>micro avg</th>\n",
       "      <th>macro avg</th>\n",
       "      <th>weighted avg</th>\n",
       "    </tr>\n",
       "  </thead>\n",
       "  <tbody>\n",
       "    <tr>\n",
       "      <th>f1-score</th>\n",
       "      <td>0.911</td>\n",
       "      <td>0.489</td>\n",
       "      <td>0.849</td>\n",
       "      <td>0.700</td>\n",
       "      <td>0.868</td>\n",
       "    </tr>\n",
       "    <tr>\n",
       "      <th>precision</th>\n",
       "      <td>0.963</td>\n",
       "      <td>0.374</td>\n",
       "      <td>0.849</td>\n",
       "      <td>0.669</td>\n",
       "      <td>0.903</td>\n",
       "    </tr>\n",
       "    <tr>\n",
       "      <th>recall</th>\n",
       "      <td>0.865</td>\n",
       "      <td>0.707</td>\n",
       "      <td>0.849</td>\n",
       "      <td>0.786</td>\n",
       "      <td>0.849</td>\n",
       "    </tr>\n",
       "    <tr>\n",
       "      <th>support</th>\n",
       "      <td>719.000</td>\n",
       "      <td>82.000</td>\n",
       "      <td>801.000</td>\n",
       "      <td>801.000</td>\n",
       "      <td>801.000</td>\n",
       "    </tr>\n",
       "  </tbody>\n",
       "</table>\n",
       "</div>"
      ],
      "text/plain": [
       "               0.0     1.0  micro avg  macro avg  weighted avg\n",
       "f1-score     0.911   0.489      0.849      0.700         0.868\n",
       "precision    0.963   0.374      0.849      0.669         0.903\n",
       "recall       0.865   0.707      0.849      0.786         0.849\n",
       "support    719.000  82.000    801.000    801.000       801.000"
      ]
     },
     "metadata": {},
     "output_type": "display_data"
    },
    {
     "name": "stdout",
     "output_type": "stream",
     "text": [
      "Model Saved on  roc_auc 0.8651243257912413\n"
     ]
    },
    {
     "data": {
      "application/vnd.jupyter.widget-view+json": {
       "model_id": "44f860ce01d54226ba0a16664e302f3e",
       "version_major": 2,
       "version_minor": 0
      },
      "text/plain": [
       "HBox(children=(IntProgress(value=0, max=229), HTML(value='')))"
      ]
     },
     "metadata": {},
     "output_type": "display_data"
    },
    {
     "data": {
      "application/vnd.jupyter.widget-view+json": {
       "model_id": "28129df0edd94af3a21cab175e5f1fec",
       "version_major": 2,
       "version_minor": 0
      },
      "text/plain": [
       "HBox(children=(IntProgress(value=0, max=51), HTML(value='')))"
      ]
     },
     "metadata": {},
     "output_type": "display_data"
    },
    {
     "name": "stdout",
     "output_type": "stream",
     "text": [
      "{'accuracy': 0.9176029962546817, 'roc_auc': 0.864445876725805, 'pr_auc': 0.5503938012253741}\n"
     ]
    },
    {
     "data": {
      "text/html": [
       "<div>\n",
       "<style scoped>\n",
       "    .dataframe tbody tr th:only-of-type {\n",
       "        vertical-align: middle;\n",
       "    }\n",
       "\n",
       "    .dataframe tbody tr th {\n",
       "        vertical-align: top;\n",
       "    }\n",
       "\n",
       "    .dataframe thead th {\n",
       "        text-align: right;\n",
       "    }\n",
       "</style>\n",
       "<table border=\"1\" class=\"dataframe\">\n",
       "  <thead>\n",
       "    <tr style=\"text-align: right;\">\n",
       "      <th></th>\n",
       "      <th>0.0</th>\n",
       "      <th>1.0</th>\n",
       "      <th>micro avg</th>\n",
       "      <th>macro avg</th>\n",
       "      <th>weighted avg</th>\n",
       "    </tr>\n",
       "  </thead>\n",
       "  <tbody>\n",
       "    <tr>\n",
       "      <th>f1-score</th>\n",
       "      <td>0.954</td>\n",
       "      <td>0.593</td>\n",
       "      <td>0.918</td>\n",
       "      <td>0.773</td>\n",
       "      <td>0.917</td>\n",
       "    </tr>\n",
       "    <tr>\n",
       "      <th>precision</th>\n",
       "      <td>0.953</td>\n",
       "      <td>0.600</td>\n",
       "      <td>0.918</td>\n",
       "      <td>0.776</td>\n",
       "      <td>0.917</td>\n",
       "    </tr>\n",
       "    <tr>\n",
       "      <th>recall</th>\n",
       "      <td>0.955</td>\n",
       "      <td>0.585</td>\n",
       "      <td>0.918</td>\n",
       "      <td>0.770</td>\n",
       "      <td>0.918</td>\n",
       "    </tr>\n",
       "    <tr>\n",
       "      <th>support</th>\n",
       "      <td>719.000</td>\n",
       "      <td>82.000</td>\n",
       "      <td>801.000</td>\n",
       "      <td>801.000</td>\n",
       "      <td>801.000</td>\n",
       "    </tr>\n",
       "  </tbody>\n",
       "</table>\n",
       "</div>"
      ],
      "text/plain": [
       "               0.0     1.0  micro avg  macro avg  weighted avg\n",
       "f1-score     0.954   0.593      0.918      0.773         0.917\n",
       "precision    0.953   0.600      0.918      0.776         0.917\n",
       "recall       0.955   0.585      0.918      0.770         0.918\n",
       "support    719.000  82.000    801.000    801.000       801.000"
      ]
     },
     "metadata": {},
     "output_type": "display_data"
    },
    {
     "name": "stdout",
     "output_type": "stream",
     "text": [
      "Model not saved on  roc_auc 0.864445876725805\n"
     ]
    },
    {
     "data": {
      "application/vnd.jupyter.widget-view+json": {
       "model_id": "72887719dbc64b50b0f31a490c8fff0d",
       "version_major": 2,
       "version_minor": 0
      },
      "text/plain": [
       "HBox(children=(IntProgress(value=0, max=229), HTML(value='')))"
      ]
     },
     "metadata": {},
     "output_type": "display_data"
    },
    {
     "data": {
      "application/vnd.jupyter.widget-view+json": {
       "model_id": "d40af6b48c604d5c96720d0dd662cab8",
       "version_major": 2,
       "version_minor": 0
      },
      "text/plain": [
       "HBox(children=(IntProgress(value=0, max=51), HTML(value='')))"
      ]
     },
     "metadata": {},
     "output_type": "display_data"
    },
    {
     "name": "stdout",
     "output_type": "stream",
     "text": [
      "{'accuracy': 0.9026217228464419, 'roc_auc': 0.8533362732792835, 'pr_auc': 0.5644066498651016}\n"
     ]
    },
    {
     "data": {
      "text/html": [
       "<div>\n",
       "<style scoped>\n",
       "    .dataframe tbody tr th:only-of-type {\n",
       "        vertical-align: middle;\n",
       "    }\n",
       "\n",
       "    .dataframe tbody tr th {\n",
       "        vertical-align: top;\n",
       "    }\n",
       "\n",
       "    .dataframe thead th {\n",
       "        text-align: right;\n",
       "    }\n",
       "</style>\n",
       "<table border=\"1\" class=\"dataframe\">\n",
       "  <thead>\n",
       "    <tr style=\"text-align: right;\">\n",
       "      <th></th>\n",
       "      <th>0.0</th>\n",
       "      <th>1.0</th>\n",
       "      <th>micro avg</th>\n",
       "      <th>macro avg</th>\n",
       "      <th>weighted avg</th>\n",
       "    </tr>\n",
       "  </thead>\n",
       "  <tbody>\n",
       "    <tr>\n",
       "      <th>f1-score</th>\n",
       "      <td>0.945</td>\n",
       "      <td>0.585</td>\n",
       "      <td>0.903</td>\n",
       "      <td>0.765</td>\n",
       "      <td>0.908</td>\n",
       "    </tr>\n",
       "    <tr>\n",
       "      <th>precision</th>\n",
       "      <td>0.961</td>\n",
       "      <td>0.519</td>\n",
       "      <td>0.903</td>\n",
       "      <td>0.740</td>\n",
       "      <td>0.916</td>\n",
       "    </tr>\n",
       "    <tr>\n",
       "      <th>recall</th>\n",
       "      <td>0.929</td>\n",
       "      <td>0.671</td>\n",
       "      <td>0.903</td>\n",
       "      <td>0.800</td>\n",
       "      <td>0.903</td>\n",
       "    </tr>\n",
       "    <tr>\n",
       "      <th>support</th>\n",
       "      <td>719.000</td>\n",
       "      <td>82.000</td>\n",
       "      <td>801.000</td>\n",
       "      <td>801.000</td>\n",
       "      <td>801.000</td>\n",
       "    </tr>\n",
       "  </tbody>\n",
       "</table>\n",
       "</div>"
      ],
      "text/plain": [
       "               0.0     1.0  micro avg  macro avg  weighted avg\n",
       "f1-score     0.945   0.585      0.903      0.765         0.908\n",
       "precision    0.961   0.519      0.903      0.740         0.916\n",
       "recall       0.929   0.671      0.903      0.800         0.903\n",
       "support    719.000  82.000    801.000    801.000       801.000"
      ]
     },
     "metadata": {},
     "output_type": "display_data"
    },
    {
     "name": "stdout",
     "output_type": "stream",
     "text": [
      "Model not saved on  roc_auc 0.8533362732792835\n"
     ]
    },
    {
     "data": {
      "application/vnd.jupyter.widget-view+json": {
       "model_id": "87c75cb2da8543c2b1730d6ba03b4239",
       "version_major": 2,
       "version_minor": 0
      },
      "text/plain": [
       "HBox(children=(IntProgress(value=0, max=229), HTML(value='')))"
      ]
     },
     "metadata": {},
     "output_type": "display_data"
    },
    {
     "data": {
      "application/vnd.jupyter.widget-view+json": {
       "model_id": "b2c8c100d20e4da5bd0c0fd9e2739f18",
       "version_major": 2,
       "version_minor": 0
      },
      "text/plain": [
       "HBox(children=(IntProgress(value=0, max=51), HTML(value='')))"
      ]
     },
     "metadata": {},
     "output_type": "display_data"
    },
    {
     "name": "stdout",
     "output_type": "stream",
     "text": [
      "{'accuracy': 0.9113607990012484, 'roc_auc': 0.8681264629057973, 'pr_auc': 0.5549934636306254}\n"
     ]
    },
    {
     "data": {
      "text/html": [
       "<div>\n",
       "<style scoped>\n",
       "    .dataframe tbody tr th:only-of-type {\n",
       "        vertical-align: middle;\n",
       "    }\n",
       "\n",
       "    .dataframe tbody tr th {\n",
       "        vertical-align: top;\n",
       "    }\n",
       "\n",
       "    .dataframe thead th {\n",
       "        text-align: right;\n",
       "    }\n",
       "</style>\n",
       "<table border=\"1\" class=\"dataframe\">\n",
       "  <thead>\n",
       "    <tr style=\"text-align: right;\">\n",
       "      <th></th>\n",
       "      <th>0.0</th>\n",
       "      <th>1.0</th>\n",
       "      <th>micro avg</th>\n",
       "      <th>macro avg</th>\n",
       "      <th>weighted avg</th>\n",
       "    </tr>\n",
       "  </thead>\n",
       "  <tbody>\n",
       "    <tr>\n",
       "      <th>f1-score</th>\n",
       "      <td>0.950</td>\n",
       "      <td>0.599</td>\n",
       "      <td>0.911</td>\n",
       "      <td>0.775</td>\n",
       "      <td>0.914</td>\n",
       "    </tr>\n",
       "    <tr>\n",
       "      <th>precision</th>\n",
       "      <td>0.959</td>\n",
       "      <td>0.558</td>\n",
       "      <td>0.911</td>\n",
       "      <td>0.758</td>\n",
       "      <td>0.918</td>\n",
       "    </tr>\n",
       "    <tr>\n",
       "      <th>recall</th>\n",
       "      <td>0.942</td>\n",
       "      <td>0.646</td>\n",
       "      <td>0.911</td>\n",
       "      <td>0.794</td>\n",
       "      <td>0.911</td>\n",
       "    </tr>\n",
       "    <tr>\n",
       "      <th>support</th>\n",
       "      <td>719.000</td>\n",
       "      <td>82.000</td>\n",
       "      <td>801.000</td>\n",
       "      <td>801.000</td>\n",
       "      <td>801.000</td>\n",
       "    </tr>\n",
       "  </tbody>\n",
       "</table>\n",
       "</div>"
      ],
      "text/plain": [
       "               0.0     1.0  micro avg  macro avg  weighted avg\n",
       "f1-score     0.950   0.599      0.911      0.775         0.914\n",
       "precision    0.959   0.558      0.911      0.758         0.918\n",
       "recall       0.942   0.646      0.911      0.794         0.911\n",
       "support    719.000  82.000    801.000    801.000       801.000"
      ]
     },
     "metadata": {},
     "output_type": "display_data"
    },
    {
     "name": "stdout",
     "output_type": "stream",
     "text": [
      "Model Saved on  roc_auc 0.8681264629057973\n"
     ]
    },
    {
     "data": {
      "application/vnd.jupyter.widget-view+json": {
       "model_id": "a3637f7eb366495faed1a62e2e78b8e7",
       "version_major": 2,
       "version_minor": 0
      },
      "text/plain": [
       "HBox(children=(IntProgress(value=0, max=229), HTML(value='')))"
      ]
     },
     "metadata": {},
     "output_type": "display_data"
    },
    {
     "data": {
      "application/vnd.jupyter.widget-view+json": {
       "model_id": "bf282f0f936545e9addf8b9d7c2e19bd",
       "version_major": 2,
       "version_minor": 0
      },
      "text/plain": [
       "HBox(children=(IntProgress(value=0, max=51), HTML(value='')))"
      ]
     },
     "metadata": {},
     "output_type": "display_data"
    },
    {
     "name": "stdout",
     "output_type": "stream",
     "text": [
      "{'accuracy': 0.9063670411985019, 'roc_auc': 0.8704840734081888, 'pr_auc': 0.5637587054180653}\n"
     ]
    },
    {
     "data": {
      "text/html": [
       "<div>\n",
       "<style scoped>\n",
       "    .dataframe tbody tr th:only-of-type {\n",
       "        vertical-align: middle;\n",
       "    }\n",
       "\n",
       "    .dataframe tbody tr th {\n",
       "        vertical-align: top;\n",
       "    }\n",
       "\n",
       "    .dataframe thead th {\n",
       "        text-align: right;\n",
       "    }\n",
       "</style>\n",
       "<table border=\"1\" class=\"dataframe\">\n",
       "  <thead>\n",
       "    <tr style=\"text-align: right;\">\n",
       "      <th></th>\n",
       "      <th>0.0</th>\n",
       "      <th>1.0</th>\n",
       "      <th>micro avg</th>\n",
       "      <th>macro avg</th>\n",
       "      <th>weighted avg</th>\n",
       "    </tr>\n",
       "  </thead>\n",
       "  <tbody>\n",
       "    <tr>\n",
       "      <th>f1-score</th>\n",
       "      <td>0.947</td>\n",
       "      <td>0.581</td>\n",
       "      <td>0.906</td>\n",
       "      <td>0.764</td>\n",
       "      <td>0.910</td>\n",
       "    </tr>\n",
       "    <tr>\n",
       "      <th>precision</th>\n",
       "      <td>0.957</td>\n",
       "      <td>0.536</td>\n",
       "      <td>0.906</td>\n",
       "      <td>0.747</td>\n",
       "      <td>0.914</td>\n",
       "    </tr>\n",
       "    <tr>\n",
       "      <th>recall</th>\n",
       "      <td>0.937</td>\n",
       "      <td>0.634</td>\n",
       "      <td>0.906</td>\n",
       "      <td>0.786</td>\n",
       "      <td>0.906</td>\n",
       "    </tr>\n",
       "    <tr>\n",
       "      <th>support</th>\n",
       "      <td>719.000</td>\n",
       "      <td>82.000</td>\n",
       "      <td>801.000</td>\n",
       "      <td>801.000</td>\n",
       "      <td>801.000</td>\n",
       "    </tr>\n",
       "  </tbody>\n",
       "</table>\n",
       "</div>"
      ],
      "text/plain": [
       "               0.0     1.0  micro avg  macro avg  weighted avg\n",
       "f1-score     0.947   0.581      0.906      0.764         0.910\n",
       "precision    0.957   0.536      0.906      0.747         0.914\n",
       "recall       0.937   0.634      0.906      0.786         0.906\n",
       "support    719.000  82.000    801.000    801.000       801.000"
      ]
     },
     "metadata": {},
     "output_type": "display_data"
    },
    {
     "name": "stdout",
     "output_type": "stream",
     "text": [
      "Model Saved on  roc_auc 0.8704840734081888\n"
     ]
    },
    {
     "data": {
      "application/vnd.jupyter.widget-view+json": {
       "model_id": "63bb472fc02847fbbada9538d0c4172e",
       "version_major": 2,
       "version_minor": 0
      },
      "text/plain": [
       "HBox(children=(IntProgress(value=0, max=229), HTML(value='')))"
      ]
     },
     "metadata": {},
     "output_type": "display_data"
    },
    {
     "data": {
      "application/vnd.jupyter.widget-view+json": {
       "model_id": "cb034de592234526a9c4f39c491dab95",
       "version_major": 2,
       "version_minor": 0
      },
      "text/plain": [
       "HBox(children=(IntProgress(value=0, max=51), HTML(value='')))"
      ]
     },
     "metadata": {},
     "output_type": "display_data"
    },
    {
     "name": "stdout",
     "output_type": "stream",
     "text": [
      "{'accuracy': 0.916354556803995, 'roc_auc': 0.8663794565622985, 'pr_auc': 0.541269519472485}\n"
     ]
    },
    {
     "data": {
      "text/html": [
       "<div>\n",
       "<style scoped>\n",
       "    .dataframe tbody tr th:only-of-type {\n",
       "        vertical-align: middle;\n",
       "    }\n",
       "\n",
       "    .dataframe tbody tr th {\n",
       "        vertical-align: top;\n",
       "    }\n",
       "\n",
       "    .dataframe thead th {\n",
       "        text-align: right;\n",
       "    }\n",
       "</style>\n",
       "<table border=\"1\" class=\"dataframe\">\n",
       "  <thead>\n",
       "    <tr style=\"text-align: right;\">\n",
       "      <th></th>\n",
       "      <th>0.0</th>\n",
       "      <th>1.0</th>\n",
       "      <th>micro avg</th>\n",
       "      <th>macro avg</th>\n",
       "      <th>weighted avg</th>\n",
       "    </tr>\n",
       "  </thead>\n",
       "  <tbody>\n",
       "    <tr>\n",
       "      <th>f1-score</th>\n",
       "      <td>0.953</td>\n",
       "      <td>0.604</td>\n",
       "      <td>0.916</td>\n",
       "      <td>0.778</td>\n",
       "      <td>0.917</td>\n",
       "    </tr>\n",
       "    <tr>\n",
       "      <th>precision</th>\n",
       "      <td>0.957</td>\n",
       "      <td>0.586</td>\n",
       "      <td>0.916</td>\n",
       "      <td>0.771</td>\n",
       "      <td>0.919</td>\n",
       "    </tr>\n",
       "    <tr>\n",
       "      <th>recall</th>\n",
       "      <td>0.950</td>\n",
       "      <td>0.622</td>\n",
       "      <td>0.916</td>\n",
       "      <td>0.786</td>\n",
       "      <td>0.916</td>\n",
       "    </tr>\n",
       "    <tr>\n",
       "      <th>support</th>\n",
       "      <td>719.000</td>\n",
       "      <td>82.000</td>\n",
       "      <td>801.000</td>\n",
       "      <td>801.000</td>\n",
       "      <td>801.000</td>\n",
       "    </tr>\n",
       "  </tbody>\n",
       "</table>\n",
       "</div>"
      ],
      "text/plain": [
       "               0.0     1.0  micro avg  macro avg  weighted avg\n",
       "f1-score     0.953   0.604      0.916      0.778         0.917\n",
       "precision    0.957   0.586      0.916      0.771         0.919\n",
       "recall       0.950   0.622      0.916      0.786         0.916\n",
       "support    719.000  82.000    801.000    801.000       801.000"
      ]
     },
     "metadata": {},
     "output_type": "display_data"
    },
    {
     "name": "stdout",
     "output_type": "stream",
     "text": [
      "Model not saved on  roc_auc 0.8663794565622985\n"
     ]
    },
    {
     "data": {
      "application/vnd.jupyter.widget-view+json": {
       "model_id": "29b9c692935b4fca8cf17d1b94a034ee",
       "version_major": 2,
       "version_minor": 0
      },
      "text/plain": [
       "HBox(children=(IntProgress(value=0, max=229), HTML(value='')))"
      ]
     },
     "metadata": {},
     "output_type": "display_data"
    },
    {
     "data": {
      "application/vnd.jupyter.widget-view+json": {
       "model_id": "833509ff060d452e864ce600684ae64a",
       "version_major": 2,
       "version_minor": 0
      },
      "text/plain": [
       "HBox(children=(IntProgress(value=0, max=51), HTML(value='')))"
      ]
     },
     "metadata": {},
     "output_type": "display_data"
    },
    {
     "name": "stdout",
     "output_type": "stream",
     "text": [
      "{'accuracy': 0.9101123595505618, 'roc_auc': 0.8398181756504631, 'pr_auc': 0.546077736872771}\n"
     ]
    },
    {
     "data": {
      "text/html": [
       "<div>\n",
       "<style scoped>\n",
       "    .dataframe tbody tr th:only-of-type {\n",
       "        vertical-align: middle;\n",
       "    }\n",
       "\n",
       "    .dataframe tbody tr th {\n",
       "        vertical-align: top;\n",
       "    }\n",
       "\n",
       "    .dataframe thead th {\n",
       "        text-align: right;\n",
       "    }\n",
       "</style>\n",
       "<table border=\"1\" class=\"dataframe\">\n",
       "  <thead>\n",
       "    <tr style=\"text-align: right;\">\n",
       "      <th></th>\n",
       "      <th>0.0</th>\n",
       "      <th>1.0</th>\n",
       "      <th>micro avg</th>\n",
       "      <th>macro avg</th>\n",
       "      <th>weighted avg</th>\n",
       "    </tr>\n",
       "  </thead>\n",
       "  <tbody>\n",
       "    <tr>\n",
       "      <th>f1-score</th>\n",
       "      <td>0.950</td>\n",
       "      <td>0.581</td>\n",
       "      <td>0.91</td>\n",
       "      <td>0.766</td>\n",
       "      <td>0.912</td>\n",
       "    </tr>\n",
       "    <tr>\n",
       "      <th>precision</th>\n",
       "      <td>0.955</td>\n",
       "      <td>0.556</td>\n",
       "      <td>0.91</td>\n",
       "      <td>0.755</td>\n",
       "      <td>0.914</td>\n",
       "    </tr>\n",
       "    <tr>\n",
       "      <th>recall</th>\n",
       "      <td>0.944</td>\n",
       "      <td>0.610</td>\n",
       "      <td>0.91</td>\n",
       "      <td>0.777</td>\n",
       "      <td>0.910</td>\n",
       "    </tr>\n",
       "    <tr>\n",
       "      <th>support</th>\n",
       "      <td>719.000</td>\n",
       "      <td>82.000</td>\n",
       "      <td>801.00</td>\n",
       "      <td>801.000</td>\n",
       "      <td>801.000</td>\n",
       "    </tr>\n",
       "  </tbody>\n",
       "</table>\n",
       "</div>"
      ],
      "text/plain": [
       "               0.0     1.0  micro avg  macro avg  weighted avg\n",
       "f1-score     0.950   0.581       0.91      0.766         0.912\n",
       "precision    0.955   0.556       0.91      0.755         0.914\n",
       "recall       0.944   0.610       0.91      0.777         0.910\n",
       "support    719.000  82.000     801.00    801.000       801.000"
      ]
     },
     "metadata": {},
     "output_type": "display_data"
    },
    {
     "name": "stdout",
     "output_type": "stream",
     "text": [
      "Model not saved on  roc_auc 0.8398181756504631\n"
     ]
    },
    {
     "data": {
      "application/vnd.jupyter.widget-view+json": {
       "model_id": "b361c07a194a4351899f08d2b1f8fdff",
       "version_major": 2,
       "version_minor": 0
      },
      "text/plain": [
       "HBox(children=(IntProgress(value=0, max=229), HTML(value='')))"
      ]
     },
     "metadata": {},
     "output_type": "display_data"
    },
    {
     "data": {
      "application/vnd.jupyter.widget-view+json": {
       "model_id": "ef27211db44f461eb517c0a4b1bc8190",
       "version_major": 2,
       "version_minor": 0
      },
      "text/plain": [
       "HBox(children=(IntProgress(value=0, max=51), HTML(value='')))"
      ]
     },
     "metadata": {},
     "output_type": "display_data"
    },
    {
     "name": "stdout",
     "output_type": "stream",
     "text": [
      "{'accuracy': 0.9063670411985019, 'roc_auc': 0.8582211065504258, 'pr_auc': 0.5130938734387448}\n"
     ]
    },
    {
     "data": {
      "text/html": [
       "<div>\n",
       "<style scoped>\n",
       "    .dataframe tbody tr th:only-of-type {\n",
       "        vertical-align: middle;\n",
       "    }\n",
       "\n",
       "    .dataframe tbody tr th {\n",
       "        vertical-align: top;\n",
       "    }\n",
       "\n",
       "    .dataframe thead th {\n",
       "        text-align: right;\n",
       "    }\n",
       "</style>\n",
       "<table border=\"1\" class=\"dataframe\">\n",
       "  <thead>\n",
       "    <tr style=\"text-align: right;\">\n",
       "      <th></th>\n",
       "      <th>0.0</th>\n",
       "      <th>1.0</th>\n",
       "      <th>micro avg</th>\n",
       "      <th>macro avg</th>\n",
       "      <th>weighted avg</th>\n",
       "    </tr>\n",
       "  </thead>\n",
       "  <tbody>\n",
       "    <tr>\n",
       "      <th>f1-score</th>\n",
       "      <td>0.947</td>\n",
       "      <td>0.586</td>\n",
       "      <td>0.906</td>\n",
       "      <td>0.766</td>\n",
       "      <td>0.910</td>\n",
       "    </tr>\n",
       "    <tr>\n",
       "      <th>precision</th>\n",
       "      <td>0.959</td>\n",
       "      <td>0.535</td>\n",
       "      <td>0.906</td>\n",
       "      <td>0.747</td>\n",
       "      <td>0.915</td>\n",
       "    </tr>\n",
       "    <tr>\n",
       "      <th>recall</th>\n",
       "      <td>0.936</td>\n",
       "      <td>0.646</td>\n",
       "      <td>0.906</td>\n",
       "      <td>0.791</td>\n",
       "      <td>0.906</td>\n",
       "    </tr>\n",
       "    <tr>\n",
       "      <th>support</th>\n",
       "      <td>719.000</td>\n",
       "      <td>82.000</td>\n",
       "      <td>801.000</td>\n",
       "      <td>801.000</td>\n",
       "      <td>801.000</td>\n",
       "    </tr>\n",
       "  </tbody>\n",
       "</table>\n",
       "</div>"
      ],
      "text/plain": [
       "               0.0     1.0  micro avg  macro avg  weighted avg\n",
       "f1-score     0.947   0.586      0.906      0.766         0.910\n",
       "precision    0.959   0.535      0.906      0.747         0.915\n",
       "recall       0.936   0.646      0.906      0.791         0.906\n",
       "support    719.000  82.000    801.000    801.000       801.000"
      ]
     },
     "metadata": {},
     "output_type": "display_data"
    },
    {
     "name": "stderr",
     "output_type": "stream",
     "text": [
      "INFO - 2019-03-26 15:34:11,852 - instantiating class <class 'PatientVec.models.Model.Model'> from params {'type': 'seq_classifier', 'embedder': {'type': 'token_embedder', 'vocab_size': 18542, 'embed_size': 200, 'embedding_file': '../../../SurgeryData/PatientVec/preprocess/KneeSurgery/1_yrs/embedding_matrix.npy'}, 'decoder': {'num_layers': 2, 'hidden_dims': [128, 1], 'activations': ['tanh', 'linear']}, 'predictor': {'type': 'binary'}, 'structured': {'use_structured': False}, 'encoder': {'type': 'cnn', 'hidden_size': 64, 'kernel_sizes': [3, 5, 7, 9], 'activation': 'relu'}} and extras {}\n",
      "INFO - 2019-03-26 15:34:11,853 - type = seq_classifier\n",
      "INFO - 2019-03-26 15:34:11,853 - instantiating class <class 'PatientVec.models.modules.Embedder.Embedder'> from params {'type': 'token_embedder', 'vocab_size': 18542, 'embed_size': 200, 'embedding_file': '../../../SurgeryData/PatientVec/preprocess/KneeSurgery/1_yrs/embedding_matrix.npy'} and extras {}\n",
      "INFO - 2019-03-26 15:34:11,853 - embedder.type = token_embedder\n",
      "INFO - 2019-03-26 15:34:11,853 - instantiating class <class 'PatientVec.models.modules.Embedder.TokenEmbedder'> from params {'vocab_size': 18542, 'embed_size': 200, 'embedding_file': '../../../SurgeryData/PatientVec/preprocess/KneeSurgery/1_yrs/embedding_matrix.npy'} and extras {}\n",
      "INFO - 2019-03-26 15:34:11,854 - embedder.vocab_size = 18542\n",
      "INFO - 2019-03-26 15:34:11,854 - embedder.embed_size = 200\n",
      "INFO - 2019-03-26 15:34:11,854 - embedder.embedding_file = ../../../SurgeryData/PatientVec/preprocess/KneeSurgery/1_yrs/embedding_matrix.npy\n",
      "INFO - 2019-03-26 15:34:11,862 - instantiating class <class 'PatientVec.models.modules.Encoder.Encoder'> from params {'type': 'cnn', 'hidden_size': 64, 'kernel_sizes': [3, 5, 7, 9], 'activation': 'relu'} and extras {'input_size': 200}\n",
      "INFO - 2019-03-26 15:34:11,862 - encoder.type = cnn\n",
      "INFO - 2019-03-26 15:34:11,863 - instantiating class <class 'PatientVec.models.modules.Encoder.CNNEncoder'> from params {'hidden_size': 64, 'kernel_sizes': [3, 5, 7, 9], 'activation': 'relu'} and extras {'input_size': 200}\n",
      "INFO - 2019-03-26 15:34:11,863 - encoder.hidden_size = 64\n",
      "INFO - 2019-03-26 15:34:11,863 - encoder.kernel_sizes = [3, 5, 7, 9]\n",
      "INFO - 2019-03-26 15:34:11,863 - encoder.activation = relu\n",
      "INFO - 2019-03-26 15:34:11,866 - decoder.input_dim = 256\n",
      "INFO - 2019-03-26 15:34:11,866 - decoder.num_layers = 2\n",
      "INFO - 2019-03-26 15:34:11,867 - decoder.hidden_dims = [128, 1]\n",
      "INFO - 2019-03-26 15:34:11,867 - decoder.activations = ['tanh', 'linear']\n",
      "INFO - 2019-03-26 15:34:11,867 - decoder.dropout = 0.0\n",
      "INFO - 2019-03-26 15:34:11,868 - instantiating class <class 'PatientVec.models.modules.Predictor.Predictor'> from params {'type': 'binary'} and extras {}\n",
      "INFO - 2019-03-26 15:34:11,868 - predictor.type = binary\n",
      "INFO - 2019-03-26 15:34:11,869 - instantiating class <class 'PatientVec.models.modules.Predictor.Binary_Predictor'> from params {} and extras {}\n",
      "INFO - 2019-03-26 15:34:11,869 - predictor.replicate = False\n",
      "INFO - 2019-03-26 15:34:11,869 - predictor.alpha = 0.5\n"
     ]
    },
    {
     "name": "stdout",
     "output_type": "stream",
     "text": [
      "Model not saved on  roc_auc 0.8582211065504258\n",
      "0.8704840734081888 deque([0.8663794565622985, 0.8398181756504631, 0.8582211065504258], maxlen=3)\n",
      "\n",
      "Setting Embedding\n"
     ]
    },
    {
     "data": {
      "application/vnd.jupyter.widget-view+json": {
       "model_id": "2d1dff55a04a4cbd8d5c4578704b79e1",
       "version_major": 2,
       "version_minor": 0
      },
      "text/plain": [
       "HBox(children=(IntProgress(value=0, max=51), HTML(value='')))"
      ]
     },
     "metadata": {},
     "output_type": "display_data"
    },
    {
     "name": "stdout",
     "output_type": "stream",
     "text": [
      "\n",
      "{'accuracy': 0.9063670411985019, 'roc_auc': 0.8704840734081888, 'pr_auc': 0.5637587054180653}\n"
     ]
    },
    {
     "data": {
      "text/html": [
       "<div>\n",
       "<style scoped>\n",
       "    .dataframe tbody tr th:only-of-type {\n",
       "        vertical-align: middle;\n",
       "    }\n",
       "\n",
       "    .dataframe tbody tr th {\n",
       "        vertical-align: top;\n",
       "    }\n",
       "\n",
       "    .dataframe thead th {\n",
       "        text-align: right;\n",
       "    }\n",
       "</style>\n",
       "<table border=\"1\" class=\"dataframe\">\n",
       "  <thead>\n",
       "    <tr style=\"text-align: right;\">\n",
       "      <th></th>\n",
       "      <th>0.0</th>\n",
       "      <th>1.0</th>\n",
       "      <th>micro avg</th>\n",
       "      <th>macro avg</th>\n",
       "      <th>weighted avg</th>\n",
       "    </tr>\n",
       "  </thead>\n",
       "  <tbody>\n",
       "    <tr>\n",
       "      <th>f1-score</th>\n",
       "      <td>0.947</td>\n",
       "      <td>0.581</td>\n",
       "      <td>0.906</td>\n",
       "      <td>0.764</td>\n",
       "      <td>0.910</td>\n",
       "    </tr>\n",
       "    <tr>\n",
       "      <th>precision</th>\n",
       "      <td>0.957</td>\n",
       "      <td>0.536</td>\n",
       "      <td>0.906</td>\n",
       "      <td>0.747</td>\n",
       "      <td>0.914</td>\n",
       "    </tr>\n",
       "    <tr>\n",
       "      <th>recall</th>\n",
       "      <td>0.937</td>\n",
       "      <td>0.634</td>\n",
       "      <td>0.906</td>\n",
       "      <td>0.786</td>\n",
       "      <td>0.906</td>\n",
       "    </tr>\n",
       "    <tr>\n",
       "      <th>support</th>\n",
       "      <td>719.000</td>\n",
       "      <td>82.000</td>\n",
       "      <td>801.000</td>\n",
       "      <td>801.000</td>\n",
       "      <td>801.000</td>\n",
       "    </tr>\n",
       "  </tbody>\n",
       "</table>\n",
       "</div>"
      ],
      "text/plain": [
       "               0.0     1.0  micro avg  macro avg  weighted avg\n",
       "f1-score     0.947   0.581      0.906      0.764         0.910\n",
       "precision    0.957   0.536      0.906      0.747         0.914\n",
       "recall       0.937   0.634      0.906      0.786         0.906\n",
       "support    719.000  82.000    801.000    801.000       801.000"
      ]
     },
     "metadata": {},
     "output_type": "display_data"
    },
    {
     "name": "stderr",
     "output_type": "stream",
     "text": [
      "INFO - 2019-03-26 15:34:17,515 - instantiating class <class 'PatientVec.models.Model.Model'> from params {'type': 'seq_classifier_with_attention', 'embedder': {'type': 'token_embedder', 'vocab_size': 18542, 'embed_size': 200, 'embedding_file': '../../../SurgeryData/PatientVec/preprocess/KneeSurgery/1_yrs/embedding_matrix.npy'}, 'decoder': {'num_layers': 2, 'hidden_dims': [128, 1], 'activations': ['tanh', 'linear']}, 'predictor': {'type': 'binary'}, 'structured': {'use_structured': False}, 'encoder': {'type': 'cnn', 'hidden_size': 64, 'kernel_sizes': [3, 5, 7, 9], 'activation': 'relu'}, 'attention': {'similarity': {'type': 'additive', 'hidden_size': 128}}} and extras {}\n",
      "INFO - 2019-03-26 15:34:17,516 - type = seq_classifier_with_attention\n",
      "INFO - 2019-03-26 15:34:17,516 - instantiating class <class 'PatientVec.models.modules.Embedder.Embedder'> from params {'type': 'token_embedder', 'vocab_size': 18542, 'embed_size': 200, 'embedding_file': '../../../SurgeryData/PatientVec/preprocess/KneeSurgery/1_yrs/embedding_matrix.npy'} and extras {}\n",
      "INFO - 2019-03-26 15:34:17,516 - embedder.type = token_embedder\n",
      "INFO - 2019-03-26 15:34:17,517 - instantiating class <class 'PatientVec.models.modules.Embedder.TokenEmbedder'> from params {'vocab_size': 18542, 'embed_size': 200, 'embedding_file': '../../../SurgeryData/PatientVec/preprocess/KneeSurgery/1_yrs/embedding_matrix.npy'} and extras {}\n",
      "INFO - 2019-03-26 15:34:17,518 - embedder.vocab_size = 18542\n",
      "INFO - 2019-03-26 15:34:17,518 - embedder.embed_size = 200\n",
      "INFO - 2019-03-26 15:34:17,519 - embedder.embedding_file = ../../../SurgeryData/PatientVec/preprocess/KneeSurgery/1_yrs/embedding_matrix.npy\n",
      "INFO - 2019-03-26 15:34:17,527 - instantiating class <class 'PatientVec.models.modules.Encoder.Encoder'> from params {'type': 'cnn', 'hidden_size': 64, 'kernel_sizes': [3, 5, 7, 9], 'activation': 'relu'} and extras {'input_size': 200}\n",
      "INFO - 2019-03-26 15:34:17,527 - encoder.type = cnn\n",
      "INFO - 2019-03-26 15:34:17,527 - instantiating class <class 'PatientVec.models.modules.Encoder.CNNEncoder'> from params {'hidden_size': 64, 'kernel_sizes': [3, 5, 7, 9], 'activation': 'relu'} and extras {'input_size': 200}\n",
      "INFO - 2019-03-26 15:34:17,528 - encoder.hidden_size = 64\n",
      "INFO - 2019-03-26 15:34:17,528 - encoder.kernel_sizes = [3, 5, 7, 9]\n",
      "INFO - 2019-03-26 15:34:17,528 - encoder.activation = relu\n",
      "INFO - 2019-03-26 15:34:17,531 - instantiating class <class 'PatientVec.models.modules.SelfAttention.SelfAttention'> from params {'similarity': {'type': 'additive', 'hidden_size': 128, 'tensor_1_dim': 256}} and extras {}\n",
      "INFO - 2019-03-26 15:34:17,531 - instantiating class <class 'PatientVec.models.modules.UniSimilarity.UniSimilarity'> from params {'type': 'additive', 'hidden_size': 128, 'tensor_1_dim': 256} and extras {}\n",
      "INFO - 2019-03-26 15:34:17,532 - attention.similarity.type = additive\n",
      "INFO - 2019-03-26 15:34:17,532 - instantiating class <class 'PatientVec.models.modules.UniSimilarity.UniAdditiveSimilarity'> from params {'hidden_size': 128, 'tensor_1_dim': 256} and extras {}\n",
      "INFO - 2019-03-26 15:34:17,532 - attention.similarity.tensor_1_dim = 256\n",
      "INFO - 2019-03-26 15:34:17,533 - attention.similarity.hidden_size = 128\n",
      "INFO - 2019-03-26 15:34:17,533 - attention.similarity.output_size = 1\n",
      "INFO - 2019-03-26 15:34:17,534 - attention.normaliser = softmax\n",
      "INFO - 2019-03-26 15:34:17,535 - decoder.input_dim = 256\n",
      "INFO - 2019-03-26 15:34:17,535 - decoder.num_layers = 2\n",
      "INFO - 2019-03-26 15:34:17,535 - decoder.hidden_dims = [128, 1]\n",
      "INFO - 2019-03-26 15:34:17,535 - decoder.activations = ['tanh', 'linear']\n",
      "INFO - 2019-03-26 15:34:17,536 - decoder.dropout = 0.0\n",
      "INFO - 2019-03-26 15:34:17,537 - instantiating class <class 'PatientVec.models.modules.Predictor.Predictor'> from params {'type': 'binary'} and extras {}\n",
      "INFO - 2019-03-26 15:34:17,537 - predictor.type = binary\n",
      "INFO - 2019-03-26 15:34:17,537 - instantiating class <class 'PatientVec.models.modules.Predictor.Binary_Predictor'> from params {} and extras {}\n",
      "INFO - 2019-03-26 15:34:17,538 - predictor.replicate = False\n",
      "INFO - 2019-03-26 15:34:17,538 - predictor.alpha = 0.5\n"
     ]
    },
    {
     "name": "stdout",
     "output_type": "stream",
     "text": [
      "============================================================================================================================================================================================================================================================================================================\n",
      "{'model': {'type': 'seq_classifier_with_attention', 'embedder': {'type': 'token_embedder', 'vocab_size': 18542, 'embed_size': 200, 'embedding_file': '../../../SurgeryData/PatientVec/preprocess/KneeSurgery/1_yrs/embedding_matrix.npy'}, 'decoder': {'num_layers': 2, 'hidden_dims': [128, 1], 'activations': ['tanh', 'linear']}, 'predictor': {'type': 'binary'}, 'structured': {'use_structured': False}, 'encoder': {'type': 'cnn', 'hidden_size': 64, 'kernel_sizes': [3, 5, 7, 9], 'activation': 'relu'}, 'attention': {'similarity': {'type': 'additive', 'hidden_size': 128}}}, 'training_config': {'type': 'Adam', 'groups': [('.*', {'lr': 0.001, 'weight_decay': 1e-05})], 'common': {'bsize': 16, 'class_weight': True}}, 'exp_config': {'exp_name': 'KneeSurgery_1/Attention/CNN(hs=64)(kernels=3,5,7,9)+Attention(additive)(hs=128)', 'basepath': 'outputs/confidence'}}\n",
      "Setting Embedding\n"
     ]
    },
    {
     "data": {
      "application/vnd.jupyter.widget-view+json": {
       "model_id": "70fbaf7e64dd4cedbdc9ff30251ca3ae",
       "version_major": 2,
       "version_minor": 0
      },
      "text/plain": [
       "HBox(children=(IntProgress(value=0, max=8), HTML(value='')))"
      ]
     },
     "metadata": {},
     "output_type": "display_data"
    },
    {
     "data": {
      "application/vnd.jupyter.widget-view+json": {
       "model_id": "a72080e0cdcd4af9a0ea8a679eff4364",
       "version_major": 2,
       "version_minor": 0
      },
      "text/plain": [
       "HBox(children=(IntProgress(value=0, max=229), HTML(value='')))"
      ]
     },
     "metadata": {},
     "output_type": "display_data"
    },
    {
     "data": {
      "application/vnd.jupyter.widget-view+json": {
       "model_id": "59b9dff8a9094cee8f4b4e7ceb051fc0",
       "version_major": 2,
       "version_minor": 0
      },
      "text/plain": [
       "HBox(children=(IntProgress(value=0, max=51), HTML(value='')))"
      ]
     },
     "metadata": {},
     "output_type": "display_data"
    },
    {
     "name": "stdout",
     "output_type": "stream",
     "text": [
      "{'accuracy': 0.7865168539325843, 'roc_auc': 0.8492316564333933, 'pr_auc': 0.5433378279908849}\n"
     ]
    },
    {
     "data": {
      "text/html": [
       "<div>\n",
       "<style scoped>\n",
       "    .dataframe tbody tr th:only-of-type {\n",
       "        vertical-align: middle;\n",
       "    }\n",
       "\n",
       "    .dataframe tbody tr th {\n",
       "        vertical-align: top;\n",
       "    }\n",
       "\n",
       "    .dataframe thead th {\n",
       "        text-align: right;\n",
       "    }\n",
       "</style>\n",
       "<table border=\"1\" class=\"dataframe\">\n",
       "  <thead>\n",
       "    <tr style=\"text-align: right;\">\n",
       "      <th></th>\n",
       "      <th>0.0</th>\n",
       "      <th>1.0</th>\n",
       "      <th>micro avg</th>\n",
       "      <th>macro avg</th>\n",
       "      <th>weighted avg</th>\n",
       "    </tr>\n",
       "  </thead>\n",
       "  <tbody>\n",
       "    <tr>\n",
       "      <th>f1-score</th>\n",
       "      <td>0.869</td>\n",
       "      <td>0.428</td>\n",
       "      <td>0.787</td>\n",
       "      <td>0.648</td>\n",
       "      <td>0.824</td>\n",
       "    </tr>\n",
       "    <tr>\n",
       "      <th>precision</th>\n",
       "      <td>0.969</td>\n",
       "      <td>0.295</td>\n",
       "      <td>0.787</td>\n",
       "      <td>0.632</td>\n",
       "      <td>0.900</td>\n",
       "    </tr>\n",
       "    <tr>\n",
       "      <th>recall</th>\n",
       "      <td>0.787</td>\n",
       "      <td>0.780</td>\n",
       "      <td>0.787</td>\n",
       "      <td>0.784</td>\n",
       "      <td>0.787</td>\n",
       "    </tr>\n",
       "    <tr>\n",
       "      <th>support</th>\n",
       "      <td>719.000</td>\n",
       "      <td>82.000</td>\n",
       "      <td>801.000</td>\n",
       "      <td>801.000</td>\n",
       "      <td>801.000</td>\n",
       "    </tr>\n",
       "  </tbody>\n",
       "</table>\n",
       "</div>"
      ],
      "text/plain": [
       "               0.0     1.0  micro avg  macro avg  weighted avg\n",
       "f1-score     0.869   0.428      0.787      0.648         0.824\n",
       "precision    0.969   0.295      0.787      0.632         0.900\n",
       "recall       0.787   0.780      0.787      0.784         0.787\n",
       "support    719.000  82.000    801.000    801.000       801.000"
      ]
     },
     "metadata": {},
     "output_type": "display_data"
    },
    {
     "name": "stdout",
     "output_type": "stream",
     "text": [
      "Model Saved on  roc_auc 0.8492316564333933\n"
     ]
    },
    {
     "data": {
      "application/vnd.jupyter.widget-view+json": {
       "model_id": "b02ed881915d4a10b1eb2b86ddefd342",
       "version_major": 2,
       "version_minor": 0
      },
      "text/plain": [
       "HBox(children=(IntProgress(value=0, max=229), HTML(value='')))"
      ]
     },
     "metadata": {},
     "output_type": "display_data"
    },
    {
     "data": {
      "application/vnd.jupyter.widget-view+json": {
       "model_id": "77e927cd9946452c828871c015eb3d3f",
       "version_major": 2,
       "version_minor": 0
      },
      "text/plain": [
       "HBox(children=(IntProgress(value=0, max=51), HTML(value='')))"
      ]
     },
     "metadata": {},
     "output_type": "display_data"
    },
    {
     "name": "stdout",
     "output_type": "stream",
     "text": [
      "{'accuracy': 0.7715355805243446, 'roc_auc': 0.8630380949150243, 'pr_auc': 0.5470715082492198}\n"
     ]
    },
    {
     "data": {
      "text/html": [
       "<div>\n",
       "<style scoped>\n",
       "    .dataframe tbody tr th:only-of-type {\n",
       "        vertical-align: middle;\n",
       "    }\n",
       "\n",
       "    .dataframe tbody tr th {\n",
       "        vertical-align: top;\n",
       "    }\n",
       "\n",
       "    .dataframe thead th {\n",
       "        text-align: right;\n",
       "    }\n",
       "</style>\n",
       "<table border=\"1\" class=\"dataframe\">\n",
       "  <thead>\n",
       "    <tr style=\"text-align: right;\">\n",
       "      <th></th>\n",
       "      <th>0.0</th>\n",
       "      <th>1.0</th>\n",
       "      <th>micro avg</th>\n",
       "      <th>macro avg</th>\n",
       "      <th>weighted avg</th>\n",
       "    </tr>\n",
       "  </thead>\n",
       "  <tbody>\n",
       "    <tr>\n",
       "      <th>f1-score</th>\n",
       "      <td>0.857</td>\n",
       "      <td>0.426</td>\n",
       "      <td>0.772</td>\n",
       "      <td>0.642</td>\n",
       "      <td>0.813</td>\n",
       "    </tr>\n",
       "    <tr>\n",
       "      <th>precision</th>\n",
       "      <td>0.975</td>\n",
       "      <td>0.287</td>\n",
       "      <td>0.772</td>\n",
       "      <td>0.631</td>\n",
       "      <td>0.905</td>\n",
       "    </tr>\n",
       "    <tr>\n",
       "      <th>recall</th>\n",
       "      <td>0.765</td>\n",
       "      <td>0.829</td>\n",
       "      <td>0.772</td>\n",
       "      <td>0.797</td>\n",
       "      <td>0.772</td>\n",
       "    </tr>\n",
       "    <tr>\n",
       "      <th>support</th>\n",
       "      <td>719.000</td>\n",
       "      <td>82.000</td>\n",
       "      <td>801.000</td>\n",
       "      <td>801.000</td>\n",
       "      <td>801.000</td>\n",
       "    </tr>\n",
       "  </tbody>\n",
       "</table>\n",
       "</div>"
      ],
      "text/plain": [
       "               0.0     1.0  micro avg  macro avg  weighted avg\n",
       "f1-score     0.857   0.426      0.772      0.642         0.813\n",
       "precision    0.975   0.287      0.772      0.631         0.905\n",
       "recall       0.765   0.829      0.772      0.797         0.772\n",
       "support    719.000  82.000    801.000    801.000       801.000"
      ]
     },
     "metadata": {},
     "output_type": "display_data"
    },
    {
     "name": "stdout",
     "output_type": "stream",
     "text": [
      "Model Saved on  roc_auc 0.8630380949150243\n"
     ]
    },
    {
     "data": {
      "application/vnd.jupyter.widget-view+json": {
       "model_id": "7270383dc7324c0c91bf07795d1fb010",
       "version_major": 2,
       "version_minor": 0
      },
      "text/plain": [
       "HBox(children=(IntProgress(value=0, max=229), HTML(value='')))"
      ]
     },
     "metadata": {},
     "output_type": "display_data"
    },
    {
     "data": {
      "application/vnd.jupyter.widget-view+json": {
       "model_id": "b87332a361a041cbbc49955dfd76c1be",
       "version_major": 2,
       "version_minor": 0
      },
      "text/plain": [
       "HBox(children=(IntProgress(value=0, max=51), HTML(value='')))"
      ]
     },
     "metadata": {},
     "output_type": "display_data"
    },
    {
     "name": "stdout",
     "output_type": "stream",
     "text": [
      "{'accuracy': 0.8289637952559301, 'roc_auc': 0.8685335323450591, 'pr_auc': 0.5995184465690914}\n"
     ]
    },
    {
     "data": {
      "text/html": [
       "<div>\n",
       "<style scoped>\n",
       "    .dataframe tbody tr th:only-of-type {\n",
       "        vertical-align: middle;\n",
       "    }\n",
       "\n",
       "    .dataframe tbody tr th {\n",
       "        vertical-align: top;\n",
       "    }\n",
       "\n",
       "    .dataframe thead th {\n",
       "        text-align: right;\n",
       "    }\n",
       "</style>\n",
       "<table border=\"1\" class=\"dataframe\">\n",
       "  <thead>\n",
       "    <tr style=\"text-align: right;\">\n",
       "      <th></th>\n",
       "      <th>0.0</th>\n",
       "      <th>1.0</th>\n",
       "      <th>micro avg</th>\n",
       "      <th>macro avg</th>\n",
       "      <th>weighted avg</th>\n",
       "    </tr>\n",
       "  </thead>\n",
       "  <tbody>\n",
       "    <tr>\n",
       "      <th>f1-score</th>\n",
       "      <td>0.898</td>\n",
       "      <td>0.483</td>\n",
       "      <td>0.829</td>\n",
       "      <td>0.690</td>\n",
       "      <td>0.855</td>\n",
       "    </tr>\n",
       "    <tr>\n",
       "      <th>precision</th>\n",
       "      <td>0.971</td>\n",
       "      <td>0.350</td>\n",
       "      <td>0.829</td>\n",
       "      <td>0.660</td>\n",
       "      <td>0.907</td>\n",
       "    </tr>\n",
       "    <tr>\n",
       "      <th>recall</th>\n",
       "      <td>0.834</td>\n",
       "      <td>0.780</td>\n",
       "      <td>0.829</td>\n",
       "      <td>0.807</td>\n",
       "      <td>0.829</td>\n",
       "    </tr>\n",
       "    <tr>\n",
       "      <th>support</th>\n",
       "      <td>719.000</td>\n",
       "      <td>82.000</td>\n",
       "      <td>801.000</td>\n",
       "      <td>801.000</td>\n",
       "      <td>801.000</td>\n",
       "    </tr>\n",
       "  </tbody>\n",
       "</table>\n",
       "</div>"
      ],
      "text/plain": [
       "               0.0     1.0  micro avg  macro avg  weighted avg\n",
       "f1-score     0.898   0.483      0.829      0.690         0.855\n",
       "precision    0.971   0.350      0.829      0.660         0.907\n",
       "recall       0.834   0.780      0.829      0.807         0.829\n",
       "support    719.000  82.000    801.000    801.000       801.000"
      ]
     },
     "metadata": {},
     "output_type": "display_data"
    },
    {
     "name": "stdout",
     "output_type": "stream",
     "text": [
      "Model Saved on  roc_auc 0.8685335323450591\n"
     ]
    },
    {
     "data": {
      "application/vnd.jupyter.widget-view+json": {
       "model_id": "f5aebaa2a8214d0dbdc3c03ecc8b7e03",
       "version_major": 2,
       "version_minor": 0
      },
      "text/plain": [
       "HBox(children=(IntProgress(value=0, max=229), HTML(value='')))"
      ]
     },
     "metadata": {},
     "output_type": "display_data"
    },
    {
     "data": {
      "application/vnd.jupyter.widget-view+json": {
       "model_id": "cfda23b052174086bbefe0ead3178a6e",
       "version_major": 2,
       "version_minor": 0
      },
      "text/plain": [
       "HBox(children=(IntProgress(value=0, max=51), HTML(value='')))"
      ]
     },
     "metadata": {},
     "output_type": "display_data"
    },
    {
     "name": "stdout",
     "output_type": "stream",
     "text": [
      "{'accuracy': 0.8789013732833958, 'roc_auc': 0.8816615217612538, 'pr_auc': 0.6287855458032148}\n"
     ]
    },
    {
     "data": {
      "text/html": [
       "<div>\n",
       "<style scoped>\n",
       "    .dataframe tbody tr th:only-of-type {\n",
       "        vertical-align: middle;\n",
       "    }\n",
       "\n",
       "    .dataframe tbody tr th {\n",
       "        vertical-align: top;\n",
       "    }\n",
       "\n",
       "    .dataframe thead th {\n",
       "        text-align: right;\n",
       "    }\n",
       "</style>\n",
       "<table border=\"1\" class=\"dataframe\">\n",
       "  <thead>\n",
       "    <tr style=\"text-align: right;\">\n",
       "      <th></th>\n",
       "      <th>0.0</th>\n",
       "      <th>1.0</th>\n",
       "      <th>micro avg</th>\n",
       "      <th>macro avg</th>\n",
       "      <th>weighted avg</th>\n",
       "    </tr>\n",
       "  </thead>\n",
       "  <tbody>\n",
       "    <tr>\n",
       "      <th>f1-score</th>\n",
       "      <td>0.930</td>\n",
       "      <td>0.545</td>\n",
       "      <td>0.879</td>\n",
       "      <td>0.737</td>\n",
       "      <td>0.891</td>\n",
       "    </tr>\n",
       "    <tr>\n",
       "      <th>precision</th>\n",
       "      <td>0.964</td>\n",
       "      <td>0.443</td>\n",
       "      <td>0.879</td>\n",
       "      <td>0.703</td>\n",
       "      <td>0.911</td>\n",
       "    </tr>\n",
       "    <tr>\n",
       "      <th>recall</th>\n",
       "      <td>0.898</td>\n",
       "      <td>0.707</td>\n",
       "      <td>0.879</td>\n",
       "      <td>0.803</td>\n",
       "      <td>0.879</td>\n",
       "    </tr>\n",
       "    <tr>\n",
       "      <th>support</th>\n",
       "      <td>719.000</td>\n",
       "      <td>82.000</td>\n",
       "      <td>801.000</td>\n",
       "      <td>801.000</td>\n",
       "      <td>801.000</td>\n",
       "    </tr>\n",
       "  </tbody>\n",
       "</table>\n",
       "</div>"
      ],
      "text/plain": [
       "               0.0     1.0  micro avg  macro avg  weighted avg\n",
       "f1-score     0.930   0.545      0.879      0.737         0.891\n",
       "precision    0.964   0.443      0.879      0.703         0.911\n",
       "recall       0.898   0.707      0.879      0.803         0.879\n",
       "support    719.000  82.000    801.000    801.000       801.000"
      ]
     },
     "metadata": {},
     "output_type": "display_data"
    },
    {
     "name": "stdout",
     "output_type": "stream",
     "text": [
      "Model Saved on  roc_auc 0.8816615217612538\n"
     ]
    },
    {
     "data": {
      "application/vnd.jupyter.widget-view+json": {
       "model_id": "809ec4064ac946a9ba784d8c42c320c5",
       "version_major": 2,
       "version_minor": 0
      },
      "text/plain": [
       "HBox(children=(IntProgress(value=0, max=229), HTML(value='')))"
      ]
     },
     "metadata": {},
     "output_type": "display_data"
    },
    {
     "data": {
      "application/vnd.jupyter.widget-view+json": {
       "model_id": "52f6741257e04f31a21f301bf63f8ab1",
       "version_major": 2,
       "version_minor": 0
      },
      "text/plain": [
       "HBox(children=(IntProgress(value=0, max=51), HTML(value='')))"
      ]
     },
     "metadata": {},
     "output_type": "display_data"
    },
    {
     "name": "stdout",
     "output_type": "stream",
     "text": [
      "{'accuracy': 0.9038701622971286, 'roc_auc': 0.8792360663523187, 'pr_auc': 0.613325396924077}\n"
     ]
    },
    {
     "data": {
      "text/html": [
       "<div>\n",
       "<style scoped>\n",
       "    .dataframe tbody tr th:only-of-type {\n",
       "        vertical-align: middle;\n",
       "    }\n",
       "\n",
       "    .dataframe tbody tr th {\n",
       "        vertical-align: top;\n",
       "    }\n",
       "\n",
       "    .dataframe thead th {\n",
       "        text-align: right;\n",
       "    }\n",
       "</style>\n",
       "<table border=\"1\" class=\"dataframe\">\n",
       "  <thead>\n",
       "    <tr style=\"text-align: right;\">\n",
       "      <th></th>\n",
       "      <th>0.0</th>\n",
       "      <th>1.0</th>\n",
       "      <th>micro avg</th>\n",
       "      <th>macro avg</th>\n",
       "      <th>weighted avg</th>\n",
       "    </tr>\n",
       "  </thead>\n",
       "  <tbody>\n",
       "    <tr>\n",
       "      <th>f1-score</th>\n",
       "      <td>0.946</td>\n",
       "      <td>0.593</td>\n",
       "      <td>0.904</td>\n",
       "      <td>0.769</td>\n",
       "      <td>0.909</td>\n",
       "    </tr>\n",
       "    <tr>\n",
       "      <th>precision</th>\n",
       "      <td>0.963</td>\n",
       "      <td>0.523</td>\n",
       "      <td>0.904</td>\n",
       "      <td>0.743</td>\n",
       "      <td>0.918</td>\n",
       "    </tr>\n",
       "    <tr>\n",
       "      <th>recall</th>\n",
       "      <td>0.929</td>\n",
       "      <td>0.683</td>\n",
       "      <td>0.904</td>\n",
       "      <td>0.806</td>\n",
       "      <td>0.904</td>\n",
       "    </tr>\n",
       "    <tr>\n",
       "      <th>support</th>\n",
       "      <td>719.000</td>\n",
       "      <td>82.000</td>\n",
       "      <td>801.000</td>\n",
       "      <td>801.000</td>\n",
       "      <td>801.000</td>\n",
       "    </tr>\n",
       "  </tbody>\n",
       "</table>\n",
       "</div>"
      ],
      "text/plain": [
       "               0.0     1.0  micro avg  macro avg  weighted avg\n",
       "f1-score     0.946   0.593      0.904      0.769         0.909\n",
       "precision    0.963   0.523      0.904      0.743         0.918\n",
       "recall       0.929   0.683      0.904      0.806         0.904\n",
       "support    719.000  82.000    801.000    801.000       801.000"
      ]
     },
     "metadata": {},
     "output_type": "display_data"
    },
    {
     "name": "stdout",
     "output_type": "stream",
     "text": [
      "Model not saved on  roc_auc 0.8792360663523187\n"
     ]
    },
    {
     "data": {
      "application/vnd.jupyter.widget-view+json": {
       "model_id": "c3bf5f10f2b34f498f110a2d055519b0",
       "version_major": 2,
       "version_minor": 0
      },
      "text/plain": [
       "HBox(children=(IntProgress(value=0, max=229), HTML(value='')))"
      ]
     },
     "metadata": {},
     "output_type": "display_data"
    },
    {
     "data": {
      "application/vnd.jupyter.widget-view+json": {
       "model_id": "17d7d998e1d14c5cbc318d1e6935444c",
       "version_major": 2,
       "version_minor": 0
      },
      "text/plain": [
       "HBox(children=(IntProgress(value=0, max=51), HTML(value='')))"
      ]
     },
     "metadata": {},
     "output_type": "display_data"
    },
    {
     "name": "stdout",
     "output_type": "stream",
     "text": [
      "{'accuracy': 0.8564294631710362, 'roc_auc': 0.8564910614335628, 'pr_auc': 0.5813282256790457}\n"
     ]
    },
    {
     "data": {
      "text/html": [
       "<div>\n",
       "<style scoped>\n",
       "    .dataframe tbody tr th:only-of-type {\n",
       "        vertical-align: middle;\n",
       "    }\n",
       "\n",
       "    .dataframe tbody tr th {\n",
       "        vertical-align: top;\n",
       "    }\n",
       "\n",
       "    .dataframe thead th {\n",
       "        text-align: right;\n",
       "    }\n",
       "</style>\n",
       "<table border=\"1\" class=\"dataframe\">\n",
       "  <thead>\n",
       "    <tr style=\"text-align: right;\">\n",
       "      <th></th>\n",
       "      <th>0.0</th>\n",
       "      <th>1.0</th>\n",
       "      <th>micro avg</th>\n",
       "      <th>macro avg</th>\n",
       "      <th>weighted avg</th>\n",
       "    </tr>\n",
       "  </thead>\n",
       "  <tbody>\n",
       "    <tr>\n",
       "      <th>f1-score</th>\n",
       "      <td>0.916</td>\n",
       "      <td>0.502</td>\n",
       "      <td>0.856</td>\n",
       "      <td>0.709</td>\n",
       "      <td>0.874</td>\n",
       "    </tr>\n",
       "    <tr>\n",
       "      <th>precision</th>\n",
       "      <td>0.963</td>\n",
       "      <td>0.389</td>\n",
       "      <td>0.856</td>\n",
       "      <td>0.676</td>\n",
       "      <td>0.904</td>\n",
       "    </tr>\n",
       "    <tr>\n",
       "      <th>recall</th>\n",
       "      <td>0.873</td>\n",
       "      <td>0.707</td>\n",
       "      <td>0.856</td>\n",
       "      <td>0.790</td>\n",
       "      <td>0.856</td>\n",
       "    </tr>\n",
       "    <tr>\n",
       "      <th>support</th>\n",
       "      <td>719.000</td>\n",
       "      <td>82.000</td>\n",
       "      <td>801.000</td>\n",
       "      <td>801.000</td>\n",
       "      <td>801.000</td>\n",
       "    </tr>\n",
       "  </tbody>\n",
       "</table>\n",
       "</div>"
      ],
      "text/plain": [
       "               0.0     1.0  micro avg  macro avg  weighted avg\n",
       "f1-score     0.916   0.502      0.856      0.709         0.874\n",
       "precision    0.963   0.389      0.856      0.676         0.904\n",
       "recall       0.873   0.707      0.856      0.790         0.856\n",
       "support    719.000  82.000    801.000    801.000       801.000"
      ]
     },
     "metadata": {},
     "output_type": "display_data"
    },
    {
     "name": "stdout",
     "output_type": "stream",
     "text": [
      "Model not saved on  roc_auc 0.8564910614335628\n"
     ]
    },
    {
     "data": {
      "application/vnd.jupyter.widget-view+json": {
       "model_id": "16c06c269066474a8bdf92957810bccd",
       "version_major": 2,
       "version_minor": 0
      },
      "text/plain": [
       "HBox(children=(IntProgress(value=0, max=229), HTML(value='')))"
      ]
     },
     "metadata": {},
     "output_type": "display_data"
    },
    {
     "data": {
      "application/vnd.jupyter.widget-view+json": {
       "model_id": "aae5c17e9d6c45ff9d39641ab772143b",
       "version_major": 2,
       "version_minor": 0
      },
      "text/plain": [
       "HBox(children=(IntProgress(value=0, max=51), HTML(value='')))"
      ]
     },
     "metadata": {},
     "output_type": "display_data"
    },
    {
     "name": "stdout",
     "output_type": "stream",
     "text": [
      "{'accuracy': 0.9063670411985019, 'roc_auc': 0.8665490688286577, 'pr_auc': 0.563240067605739}\n"
     ]
    },
    {
     "data": {
      "text/html": [
       "<div>\n",
       "<style scoped>\n",
       "    .dataframe tbody tr th:only-of-type {\n",
       "        vertical-align: middle;\n",
       "    }\n",
       "\n",
       "    .dataframe tbody tr th {\n",
       "        vertical-align: top;\n",
       "    }\n",
       "\n",
       "    .dataframe thead th {\n",
       "        text-align: right;\n",
       "    }\n",
       "</style>\n",
       "<table border=\"1\" class=\"dataframe\">\n",
       "  <thead>\n",
       "    <tr style=\"text-align: right;\">\n",
       "      <th></th>\n",
       "      <th>0.0</th>\n",
       "      <th>1.0</th>\n",
       "      <th>micro avg</th>\n",
       "      <th>macro avg</th>\n",
       "      <th>weighted avg</th>\n",
       "    </tr>\n",
       "  </thead>\n",
       "  <tbody>\n",
       "    <tr>\n",
       "      <th>f1-score</th>\n",
       "      <td>0.947</td>\n",
       "      <td>0.595</td>\n",
       "      <td>0.906</td>\n",
       "      <td>0.771</td>\n",
       "      <td>0.911</td>\n",
       "    </tr>\n",
       "    <tr>\n",
       "      <th>precision</th>\n",
       "      <td>0.961</td>\n",
       "      <td>0.534</td>\n",
       "      <td>0.906</td>\n",
       "      <td>0.748</td>\n",
       "      <td>0.918</td>\n",
       "    </tr>\n",
       "    <tr>\n",
       "      <th>recall</th>\n",
       "      <td>0.933</td>\n",
       "      <td>0.671</td>\n",
       "      <td>0.906</td>\n",
       "      <td>0.802</td>\n",
       "      <td>0.906</td>\n",
       "    </tr>\n",
       "    <tr>\n",
       "      <th>support</th>\n",
       "      <td>719.000</td>\n",
       "      <td>82.000</td>\n",
       "      <td>801.000</td>\n",
       "      <td>801.000</td>\n",
       "      <td>801.000</td>\n",
       "    </tr>\n",
       "  </tbody>\n",
       "</table>\n",
       "</div>"
      ],
      "text/plain": [
       "               0.0     1.0  micro avg  macro avg  weighted avg\n",
       "f1-score     0.947   0.595      0.906      0.771         0.911\n",
       "precision    0.961   0.534      0.906      0.748         0.918\n",
       "recall       0.933   0.671      0.906      0.802         0.906\n",
       "support    719.000  82.000    801.000    801.000       801.000"
      ]
     },
     "metadata": {},
     "output_type": "display_data"
    },
    {
     "name": "stderr",
     "output_type": "stream",
     "text": [
      "INFO - 2019-03-26 15:38:12,088 - instantiating class <class 'PatientVec.models.Model.Model'> from params {'type': 'seq_classifier_with_attention', 'embedder': {'type': 'token_embedder', 'vocab_size': 18542, 'embed_size': 200, 'embedding_file': '../../../SurgeryData/PatientVec/preprocess/KneeSurgery/1_yrs/embedding_matrix.npy'}, 'decoder': {'num_layers': 2, 'hidden_dims': [128, 1], 'activations': ['tanh', 'linear']}, 'predictor': {'type': 'binary'}, 'structured': {'use_structured': False}, 'encoder': {'type': 'cnn', 'hidden_size': 64, 'kernel_sizes': [3, 5, 7, 9], 'activation': 'relu'}, 'attention': {'similarity': {'type': 'additive', 'hidden_size': 128}}} and extras {}\n",
      "INFO - 2019-03-26 15:38:12,088 - type = seq_classifier_with_attention\n",
      "INFO - 2019-03-26 15:38:12,089 - instantiating class <class 'PatientVec.models.modules.Embedder.Embedder'> from params {'type': 'token_embedder', 'vocab_size': 18542, 'embed_size': 200, 'embedding_file': '../../../SurgeryData/PatientVec/preprocess/KneeSurgery/1_yrs/embedding_matrix.npy'} and extras {}\n",
      "INFO - 2019-03-26 15:38:12,089 - embedder.type = token_embedder\n",
      "INFO - 2019-03-26 15:38:12,090 - instantiating class <class 'PatientVec.models.modules.Embedder.TokenEmbedder'> from params {'vocab_size': 18542, 'embed_size': 200, 'embedding_file': '../../../SurgeryData/PatientVec/preprocess/KneeSurgery/1_yrs/embedding_matrix.npy'} and extras {}\n",
      "INFO - 2019-03-26 15:38:12,090 - embedder.vocab_size = 18542\n",
      "INFO - 2019-03-26 15:38:12,091 - embedder.embed_size = 200\n",
      "INFO - 2019-03-26 15:38:12,091 - embedder.embedding_file = ../../../SurgeryData/PatientVec/preprocess/KneeSurgery/1_yrs/embedding_matrix.npy\n",
      "INFO - 2019-03-26 15:38:12,099 - instantiating class <class 'PatientVec.models.modules.Encoder.Encoder'> from params {'type': 'cnn', 'hidden_size': 64, 'kernel_sizes': [3, 5, 7, 9], 'activation': 'relu'} and extras {'input_size': 200}\n",
      "INFO - 2019-03-26 15:38:12,099 - encoder.type = cnn\n",
      "INFO - 2019-03-26 15:38:12,100 - instantiating class <class 'PatientVec.models.modules.Encoder.CNNEncoder'> from params {'hidden_size': 64, 'kernel_sizes': [3, 5, 7, 9], 'activation': 'relu'} and extras {'input_size': 200}\n",
      "INFO - 2019-03-26 15:38:12,100 - encoder.hidden_size = 64\n",
      "INFO - 2019-03-26 15:38:12,101 - encoder.kernel_sizes = [3, 5, 7, 9]\n",
      "INFO - 2019-03-26 15:38:12,101 - encoder.activation = relu\n",
      "INFO - 2019-03-26 15:38:12,104 - instantiating class <class 'PatientVec.models.modules.SelfAttention.SelfAttention'> from params {'similarity': {'type': 'additive', 'hidden_size': 128, 'tensor_1_dim': 256}} and extras {}\n",
      "INFO - 2019-03-26 15:38:12,104 - instantiating class <class 'PatientVec.models.modules.UniSimilarity.UniSimilarity'> from params {'type': 'additive', 'hidden_size': 128, 'tensor_1_dim': 256} and extras {}\n",
      "INFO - 2019-03-26 15:38:12,105 - attention.similarity.type = additive\n",
      "INFO - 2019-03-26 15:38:12,105 - instantiating class <class 'PatientVec.models.modules.UniSimilarity.UniAdditiveSimilarity'> from params {'hidden_size': 128, 'tensor_1_dim': 256} and extras {}\n",
      "INFO - 2019-03-26 15:38:12,106 - attention.similarity.tensor_1_dim = 256\n",
      "INFO - 2019-03-26 15:38:12,106 - attention.similarity.hidden_size = 128\n",
      "INFO - 2019-03-26 15:38:12,106 - attention.similarity.output_size = 1\n",
      "INFO - 2019-03-26 15:38:12,107 - attention.normaliser = softmax\n",
      "INFO - 2019-03-26 15:38:12,107 - decoder.input_dim = 256\n",
      "INFO - 2019-03-26 15:38:12,108 - decoder.num_layers = 2\n",
      "INFO - 2019-03-26 15:38:12,108 - decoder.hidden_dims = [128, 1]\n",
      "INFO - 2019-03-26 15:38:12,108 - decoder.activations = ['tanh', 'linear']\n",
      "INFO - 2019-03-26 15:38:12,109 - decoder.dropout = 0.0\n",
      "INFO - 2019-03-26 15:38:12,110 - instantiating class <class 'PatientVec.models.modules.Predictor.Predictor'> from params {'type': 'binary'} and extras {}\n",
      "INFO - 2019-03-26 15:38:12,110 - predictor.type = binary\n",
      "INFO - 2019-03-26 15:38:12,111 - instantiating class <class 'PatientVec.models.modules.Predictor.Binary_Predictor'> from params {} and extras {}\n",
      "INFO - 2019-03-26 15:38:12,111 - predictor.replicate = False\n",
      "INFO - 2019-03-26 15:38:12,111 - predictor.alpha = 0.5\n"
     ]
    },
    {
     "name": "stdout",
     "output_type": "stream",
     "text": [
      "Model not saved on  roc_auc 0.8665490688286577\n",
      "0.8816615217612538 deque([0.8792360663523187, 0.8564910614335628, 0.8665490688286577], maxlen=3)\n",
      "\n",
      "Setting Embedding\n"
     ]
    },
    {
     "data": {
      "application/vnd.jupyter.widget-view+json": {
       "model_id": "0f590f801e5c4103971d02674047d183",
       "version_major": 2,
       "version_minor": 0
      },
      "text/plain": [
       "HBox(children=(IntProgress(value=0, max=51), HTML(value='')))"
      ]
     },
     "metadata": {},
     "output_type": "display_data"
    },
    {
     "name": "stdout",
     "output_type": "stream",
     "text": [
      "\n",
      "{'accuracy': 0.8789013732833958, 'roc_auc': 0.8816615217612538, 'pr_auc': 0.6287855458032148}\n"
     ]
    },
    {
     "data": {
      "text/html": [
       "<div>\n",
       "<style scoped>\n",
       "    .dataframe tbody tr th:only-of-type {\n",
       "        vertical-align: middle;\n",
       "    }\n",
       "\n",
       "    .dataframe tbody tr th {\n",
       "        vertical-align: top;\n",
       "    }\n",
       "\n",
       "    .dataframe thead th {\n",
       "        text-align: right;\n",
       "    }\n",
       "</style>\n",
       "<table border=\"1\" class=\"dataframe\">\n",
       "  <thead>\n",
       "    <tr style=\"text-align: right;\">\n",
       "      <th></th>\n",
       "      <th>0.0</th>\n",
       "      <th>1.0</th>\n",
       "      <th>micro avg</th>\n",
       "      <th>macro avg</th>\n",
       "      <th>weighted avg</th>\n",
       "    </tr>\n",
       "  </thead>\n",
       "  <tbody>\n",
       "    <tr>\n",
       "      <th>f1-score</th>\n",
       "      <td>0.930</td>\n",
       "      <td>0.545</td>\n",
       "      <td>0.879</td>\n",
       "      <td>0.737</td>\n",
       "      <td>0.891</td>\n",
       "    </tr>\n",
       "    <tr>\n",
       "      <th>precision</th>\n",
       "      <td>0.964</td>\n",
       "      <td>0.443</td>\n",
       "      <td>0.879</td>\n",
       "      <td>0.703</td>\n",
       "      <td>0.911</td>\n",
       "    </tr>\n",
       "    <tr>\n",
       "      <th>recall</th>\n",
       "      <td>0.898</td>\n",
       "      <td>0.707</td>\n",
       "      <td>0.879</td>\n",
       "      <td>0.803</td>\n",
       "      <td>0.879</td>\n",
       "    </tr>\n",
       "    <tr>\n",
       "      <th>support</th>\n",
       "      <td>719.000</td>\n",
       "      <td>82.000</td>\n",
       "      <td>801.000</td>\n",
       "      <td>801.000</td>\n",
       "      <td>801.000</td>\n",
       "    </tr>\n",
       "  </tbody>\n",
       "</table>\n",
       "</div>"
      ],
      "text/plain": [
       "               0.0     1.0  micro avg  macro avg  weighted avg\n",
       "f1-score     0.930   0.545      0.879      0.737         0.891\n",
       "precision    0.964   0.443      0.879      0.703         0.911\n",
       "recall       0.898   0.707      0.879      0.803         0.879\n",
       "support    719.000  82.000    801.000    801.000       801.000"
      ]
     },
     "metadata": {},
     "output_type": "display_data"
    },
    {
     "name": "stderr",
     "output_type": "stream",
     "text": [
      "INFO - 2019-03-26 15:38:18,878 - Reading Structured data ...\n"
     ]
    },
    {
     "name": "stdout",
     "output_type": "stream",
     "text": [
      "============================================================================================================================================================================================================================================================================================================\n"
     ]
    },
    {
     "name": "stderr",
     "output_type": "stream",
     "text": [
      "INFO - 2019-03-26 15:38:19,037 - Reading Notes ...\n",
      "INFO - 2019-03-26 15:38:20,141 - Stratifying ...\n"
     ]
    },
    {
     "name": "stdout",
     "output_type": "stream",
     "text": [
      "Pos Percentage [0.10104053]\n"
     ]
    },
    {
     "name": "stderr",
     "output_type": "stream",
     "text": [
      "INFO - 2019-03-26 15:38:20,619 - Maximum Sentence Length 169921.000000 , 90 percentile length 19951.000000 ... \n",
      "INFO - 2019-03-26 15:38:21,433 - Truncated all ...\n",
      "INFO - 2019-03-26 15:38:21,437 - Idxs removed []...\n",
      "INFO - 2019-03-26 15:38:21,562 - Maximum Sentence Length 55858.000000 , 90 percentile length 19968.000000 ... \n"
     ]
    },
    {
     "name": "stdout",
     "output_type": "stream",
     "text": [
      "Pos Percentage [0.10237203]\n"
     ]
    },
    {
     "name": "stderr",
     "output_type": "stream",
     "text": [
      "INFO - 2019-03-26 15:38:21,739 - Truncated all ...\n",
      "INFO - 2019-03-26 15:38:21,740 - Idxs removed []...\n",
      "INFO - 2019-03-26 15:38:21,755 - instantiating class <class 'PatientVec.models.Model.Model'> from params {'type': 'seq_classifier', 'embedder': {'type': 'token_embedder', 'vocab_size': 18542, 'embed_size': 200, 'embedding_file': '../../../SurgeryData/PatientVec/preprocess/KneeSurgery/1_yrs/embedding_matrix.npy'}, 'decoder': {'num_layers': 2, 'hidden_dims': [128, 1], 'activations': ['tanh', 'linear']}, 'predictor': {'type': 'binary'}, 'structured': {'use_structured': False}, 'encoder': {'type': 'lstm', 'hidden_size': 128}} and extras {}\n",
      "INFO - 2019-03-26 15:38:21,755 - type = seq_classifier\n",
      "INFO - 2019-03-26 15:38:21,756 - instantiating class <class 'PatientVec.models.modules.Embedder.Embedder'> from params {'type': 'token_embedder', 'vocab_size': 18542, 'embed_size': 200, 'embedding_file': '../../../SurgeryData/PatientVec/preprocess/KneeSurgery/1_yrs/embedding_matrix.npy'} and extras {}\n",
      "INFO - 2019-03-26 15:38:21,756 - embedder.type = token_embedder\n",
      "INFO - 2019-03-26 15:38:21,757 - instantiating class <class 'PatientVec.models.modules.Embedder.TokenEmbedder'> from params {'vocab_size': 18542, 'embed_size': 200, 'embedding_file': '../../../SurgeryData/PatientVec/preprocess/KneeSurgery/1_yrs/embedding_matrix.npy'} and extras {}\n",
      "INFO - 2019-03-26 15:38:21,757 - embedder.vocab_size = 18542\n",
      "INFO - 2019-03-26 15:38:21,758 - embedder.embed_size = 200\n",
      "INFO - 2019-03-26 15:38:21,758 - embedder.embedding_file = ../../../SurgeryData/PatientVec/preprocess/KneeSurgery/1_yrs/embedding_matrix.npy\n",
      "INFO - 2019-03-26 15:38:21,767 - instantiating class <class 'PatientVec.models.modules.Encoder.Encoder'> from params {'type': 'lstm', 'hidden_size': 128} and extras {'input_size': 200}\n",
      "INFO - 2019-03-26 15:38:21,768 - encoder.type = lstm\n",
      "INFO - 2019-03-26 15:38:21,768 - instantiating class <class 'PatientVec.models.modules.Encoder.wrap_pytorch_rnn.<locals>.BiRNNEncoder'> from params {'hidden_size': 128} and extras {'input_size': 200}\n",
      "INFO - 2019-03-26 15:38:21,769 - encoder.hidden_size = 128\n",
      "INFO - 2019-03-26 15:38:21,771 - decoder.input_dim = 256\n",
      "INFO - 2019-03-26 15:38:21,772 - decoder.num_layers = 2\n",
      "INFO - 2019-03-26 15:38:21,772 - decoder.hidden_dims = [128, 1]\n",
      "INFO - 2019-03-26 15:38:21,773 - decoder.activations = ['tanh', 'linear']\n",
      "INFO - 2019-03-26 15:38:21,773 - decoder.dropout = 0.0\n",
      "INFO - 2019-03-26 15:38:21,774 - instantiating class <class 'PatientVec.models.modules.Predictor.Predictor'> from params {'type': 'binary'} and extras {}\n",
      "INFO - 2019-03-26 15:38:21,774 - predictor.type = binary\n",
      "INFO - 2019-03-26 15:38:21,775 - instantiating class <class 'PatientVec.models.modules.Predictor.Binary_Predictor'> from params {} and extras {}\n",
      "INFO - 2019-03-26 15:38:21,775 - predictor.replicate = False\n",
      "INFO - 2019-03-26 15:38:21,776 - predictor.alpha = 0.5\n"
     ]
    },
    {
     "name": "stdout",
     "output_type": "stream",
     "text": [
      "{'model': {'type': 'seq_classifier', 'embedder': {'type': 'token_embedder', 'vocab_size': 18542, 'embed_size': 200, 'embedding_file': '../../../SurgeryData/PatientVec/preprocess/KneeSurgery/1_yrs/embedding_matrix.npy'}, 'decoder': {'num_layers': 2, 'hidden_dims': [128, 1], 'activations': ['tanh', 'linear']}, 'predictor': {'type': 'binary'}, 'structured': {'use_structured': False}, 'encoder': {'type': 'lstm', 'hidden_size': 128}}, 'training_config': {'type': 'Adam', 'groups': [('.*', {'lr': 0.001, 'weight_decay': 1e-05})], 'common': {'bsize': 16, 'class_weight': True}}, 'exp_config': {'exp_name': 'KneeSurgery_1/Basic/LSTM(hs=128)', 'basepath': 'outputs/confidence'}}\n",
      "Setting Embedding\n"
     ]
    },
    {
     "data": {
      "application/vnd.jupyter.widget-view+json": {
       "model_id": "44b3f0761feb4762a1ca014a774760a5",
       "version_major": 2,
       "version_minor": 0
      },
      "text/plain": [
       "HBox(children=(IntProgress(value=0, max=8), HTML(value='')))"
      ]
     },
     "metadata": {},
     "output_type": "display_data"
    },
    {
     "data": {
      "application/vnd.jupyter.widget-view+json": {
       "model_id": "47163af94b5640cda184631c22e7d9cb",
       "version_major": 2,
       "version_minor": 0
      },
      "text/plain": [
       "HBox(children=(IntProgress(value=0, max=229), HTML(value='')))"
      ]
     },
     "metadata": {},
     "output_type": "display_data"
    },
    {
     "data": {
      "application/vnd.jupyter.widget-view+json": {
       "model_id": "8655090bfb2a4295ad458e21e5e235fa",
       "version_major": 2,
       "version_minor": 0
      },
      "text/plain": [
       "HBox(children=(IntProgress(value=0, max=51), HTML(value='')))"
      ]
     },
     "metadata": {},
     "output_type": "display_data"
    },
    {
     "name": "stdout",
     "output_type": "stream",
     "text": [
      "{'accuracy': 0.8489388264669163, 'roc_auc': 0.5564215204043557, 'pr_auc': 0.12102452085798068}\n"
     ]
    },
    {
     "data": {
      "text/html": [
       "<div>\n",
       "<style scoped>\n",
       "    .dataframe tbody tr th:only-of-type {\n",
       "        vertical-align: middle;\n",
       "    }\n",
       "\n",
       "    .dataframe tbody tr th {\n",
       "        vertical-align: top;\n",
       "    }\n",
       "\n",
       "    .dataframe thead th {\n",
       "        text-align: right;\n",
       "    }\n",
       "</style>\n",
       "<table border=\"1\" class=\"dataframe\">\n",
       "  <thead>\n",
       "    <tr style=\"text-align: right;\">\n",
       "      <th></th>\n",
       "      <th>0.0</th>\n",
       "      <th>1.0</th>\n",
       "      <th>micro avg</th>\n",
       "      <th>macro avg</th>\n",
       "      <th>weighted avg</th>\n",
       "    </tr>\n",
       "  </thead>\n",
       "  <tbody>\n",
       "    <tr>\n",
       "      <th>f1-score</th>\n",
       "      <td>0.918</td>\n",
       "      <td>0.104</td>\n",
       "      <td>0.849</td>\n",
       "      <td>0.511</td>\n",
       "      <td>0.834</td>\n",
       "    </tr>\n",
       "    <tr>\n",
       "      <th>precision</th>\n",
       "      <td>0.900</td>\n",
       "      <td>0.132</td>\n",
       "      <td>0.849</td>\n",
       "      <td>0.516</td>\n",
       "      <td>0.821</td>\n",
       "    </tr>\n",
       "    <tr>\n",
       "      <th>recall</th>\n",
       "      <td>0.936</td>\n",
       "      <td>0.085</td>\n",
       "      <td>0.849</td>\n",
       "      <td>0.511</td>\n",
       "      <td>0.849</td>\n",
       "    </tr>\n",
       "    <tr>\n",
       "      <th>support</th>\n",
       "      <td>719.000</td>\n",
       "      <td>82.000</td>\n",
       "      <td>801.000</td>\n",
       "      <td>801.000</td>\n",
       "      <td>801.000</td>\n",
       "    </tr>\n",
       "  </tbody>\n",
       "</table>\n",
       "</div>"
      ],
      "text/plain": [
       "               0.0     1.0  micro avg  macro avg  weighted avg\n",
       "f1-score     0.918   0.104      0.849      0.511         0.834\n",
       "precision    0.900   0.132      0.849      0.516         0.821\n",
       "recall       0.936   0.085      0.849      0.511         0.849\n",
       "support    719.000  82.000    801.000    801.000       801.000"
      ]
     },
     "metadata": {},
     "output_type": "display_data"
    },
    {
     "name": "stdout",
     "output_type": "stream",
     "text": [
      "Model Saved on  roc_auc 0.5564215204043557\n"
     ]
    },
    {
     "data": {
      "application/vnd.jupyter.widget-view+json": {
       "model_id": "ba9472f8b8c346b08e8221b5b70ea82c",
       "version_major": 2,
       "version_minor": 0
      },
      "text/plain": [
       "HBox(children=(IntProgress(value=0, max=229), HTML(value='')))"
      ]
     },
     "metadata": {},
     "output_type": "display_data"
    },
    {
     "data": {
      "application/vnd.jupyter.widget-view+json": {
       "model_id": "774af6fe0b204918a873863c7c5d4c64",
       "version_major": 2,
       "version_minor": 0
      },
      "text/plain": [
       "HBox(children=(IntProgress(value=0, max=51), HTML(value='')))"
      ]
     },
     "metadata": {},
     "output_type": "display_data"
    },
    {
     "name": "stdout",
     "output_type": "stream",
     "text": [
      "{'accuracy': 0.49563046192259674, 'roc_auc': 0.5508158350011872, 'pr_auc': 0.12989589152303915}\n"
     ]
    },
    {
     "data": {
      "text/html": [
       "<div>\n",
       "<style scoped>\n",
       "    .dataframe tbody tr th:only-of-type {\n",
       "        vertical-align: middle;\n",
       "    }\n",
       "\n",
       "    .dataframe tbody tr th {\n",
       "        vertical-align: top;\n",
       "    }\n",
       "\n",
       "    .dataframe thead th {\n",
       "        text-align: right;\n",
       "    }\n",
       "</style>\n",
       "<table border=\"1\" class=\"dataframe\">\n",
       "  <thead>\n",
       "    <tr style=\"text-align: right;\">\n",
       "      <th></th>\n",
       "      <th>0.0</th>\n",
       "      <th>1.0</th>\n",
       "      <th>micro avg</th>\n",
       "      <th>macro avg</th>\n",
       "      <th>weighted avg</th>\n",
       "    </tr>\n",
       "  </thead>\n",
       "  <tbody>\n",
       "    <tr>\n",
       "      <th>f1-score</th>\n",
       "      <td>0.636</td>\n",
       "      <td>0.179</td>\n",
       "      <td>0.496</td>\n",
       "      <td>0.407</td>\n",
       "      <td>0.589</td>\n",
       "    </tr>\n",
       "    <tr>\n",
       "      <th>precision</th>\n",
       "      <td>0.903</td>\n",
       "      <td>0.107</td>\n",
       "      <td>0.496</td>\n",
       "      <td>0.505</td>\n",
       "      <td>0.821</td>\n",
       "    </tr>\n",
       "    <tr>\n",
       "      <th>recall</th>\n",
       "      <td>0.491</td>\n",
       "      <td>0.537</td>\n",
       "      <td>0.496</td>\n",
       "      <td>0.514</td>\n",
       "      <td>0.496</td>\n",
       "    </tr>\n",
       "    <tr>\n",
       "      <th>support</th>\n",
       "      <td>719.000</td>\n",
       "      <td>82.000</td>\n",
       "      <td>801.000</td>\n",
       "      <td>801.000</td>\n",
       "      <td>801.000</td>\n",
       "    </tr>\n",
       "  </tbody>\n",
       "</table>\n",
       "</div>"
      ],
      "text/plain": [
       "               0.0     1.0  micro avg  macro avg  weighted avg\n",
       "f1-score     0.636   0.179      0.496      0.407         0.589\n",
       "precision    0.903   0.107      0.496      0.505         0.821\n",
       "recall       0.491   0.537      0.496      0.514         0.496\n",
       "support    719.000  82.000    801.000    801.000       801.000"
      ]
     },
     "metadata": {},
     "output_type": "display_data"
    },
    {
     "name": "stdout",
     "output_type": "stream",
     "text": [
      "Model not saved on  roc_auc 0.5508158350011872\n"
     ]
    },
    {
     "data": {
      "application/vnd.jupyter.widget-view+json": {
       "model_id": "87eec8e612d04b2c8961f87f0bc8019d",
       "version_major": 2,
       "version_minor": 0
      },
      "text/plain": [
       "HBox(children=(IntProgress(value=0, max=229), HTML(value='')))"
      ]
     },
     "metadata": {},
     "output_type": "display_data"
    },
    {
     "data": {
      "application/vnd.jupyter.widget-view+json": {
       "model_id": "ac9ed2ca66824285a17ccdc48231841c",
       "version_major": 2,
       "version_minor": 0
      },
      "text/plain": [
       "HBox(children=(IntProgress(value=0, max=51), HTML(value='')))"
      ]
     },
     "metadata": {},
     "output_type": "display_data"
    },
    {
     "name": "stdout",
     "output_type": "stream",
     "text": [
      "{'accuracy': 0.7590511860174781, 'roc_auc': 0.5558787611520065, 'pr_auc': 0.15739887117237608}\n"
     ]
    },
    {
     "data": {
      "text/html": [
       "<div>\n",
       "<style scoped>\n",
       "    .dataframe tbody tr th:only-of-type {\n",
       "        vertical-align: middle;\n",
       "    }\n",
       "\n",
       "    .dataframe tbody tr th {\n",
       "        vertical-align: top;\n",
       "    }\n",
       "\n",
       "    .dataframe thead th {\n",
       "        text-align: right;\n",
       "    }\n",
       "</style>\n",
       "<table border=\"1\" class=\"dataframe\">\n",
       "  <thead>\n",
       "    <tr style=\"text-align: right;\">\n",
       "      <th></th>\n",
       "      <th>0.0</th>\n",
       "      <th>1.0</th>\n",
       "      <th>micro avg</th>\n",
       "      <th>macro avg</th>\n",
       "      <th>weighted avg</th>\n",
       "    </tr>\n",
       "  </thead>\n",
       "  <tbody>\n",
       "    <tr>\n",
       "      <th>f1-score</th>\n",
       "      <td>0.858</td>\n",
       "      <td>0.192</td>\n",
       "      <td>0.759</td>\n",
       "      <td>0.525</td>\n",
       "      <td>0.790</td>\n",
       "    </tr>\n",
       "    <tr>\n",
       "      <th>precision</th>\n",
       "      <td>0.908</td>\n",
       "      <td>0.146</td>\n",
       "      <td>0.759</td>\n",
       "      <td>0.527</td>\n",
       "      <td>0.830</td>\n",
       "    </tr>\n",
       "    <tr>\n",
       "      <th>recall</th>\n",
       "      <td>0.814</td>\n",
       "      <td>0.280</td>\n",
       "      <td>0.759</td>\n",
       "      <td>0.547</td>\n",
       "      <td>0.759</td>\n",
       "    </tr>\n",
       "    <tr>\n",
       "      <th>support</th>\n",
       "      <td>719.000</td>\n",
       "      <td>82.000</td>\n",
       "      <td>801.000</td>\n",
       "      <td>801.000</td>\n",
       "      <td>801.000</td>\n",
       "    </tr>\n",
       "  </tbody>\n",
       "</table>\n",
       "</div>"
      ],
      "text/plain": [
       "               0.0     1.0  micro avg  macro avg  weighted avg\n",
       "f1-score     0.858   0.192      0.759      0.525         0.790\n",
       "precision    0.908   0.146      0.759      0.527         0.830\n",
       "recall       0.814   0.280      0.759      0.547         0.759\n",
       "support    719.000  82.000    801.000    801.000       801.000"
      ]
     },
     "metadata": {},
     "output_type": "display_data"
    },
    {
     "name": "stdout",
     "output_type": "stream",
     "text": [
      "Model not saved on  roc_auc 0.5558787611520065\n"
     ]
    },
    {
     "data": {
      "application/vnd.jupyter.widget-view+json": {
       "model_id": "2f116b7c55a546a1a1fec120cff60a3b",
       "version_major": 2,
       "version_minor": 0
      },
      "text/plain": [
       "HBox(children=(IntProgress(value=0, max=229), HTML(value='')))"
      ]
     },
     "metadata": {},
     "output_type": "display_data"
    },
    {
     "data": {
      "application/vnd.jupyter.widget-view+json": {
       "model_id": "8c59c006864a42dda2ae1584032a6e56",
       "version_major": 2,
       "version_minor": 0
      },
      "text/plain": [
       "HBox(children=(IntProgress(value=0, max=51), HTML(value='')))"
      ]
     },
     "metadata": {},
     "output_type": "display_data"
    },
    {
     "name": "stdout",
     "output_type": "stream",
     "text": [
      "{'accuracy': 0.7802746566791511, 'roc_auc': 0.5201075341768717, 'pr_auc': 0.13396202597529724}\n"
     ]
    },
    {
     "data": {
      "text/html": [
       "<div>\n",
       "<style scoped>\n",
       "    .dataframe tbody tr th:only-of-type {\n",
       "        vertical-align: middle;\n",
       "    }\n",
       "\n",
       "    .dataframe tbody tr th {\n",
       "        vertical-align: top;\n",
       "    }\n",
       "\n",
       "    .dataframe thead th {\n",
       "        text-align: right;\n",
       "    }\n",
       "</style>\n",
       "<table border=\"1\" class=\"dataframe\">\n",
       "  <thead>\n",
       "    <tr style=\"text-align: right;\">\n",
       "      <th></th>\n",
       "      <th>0.0</th>\n",
       "      <th>1.0</th>\n",
       "      <th>micro avg</th>\n",
       "      <th>macro avg</th>\n",
       "      <th>weighted avg</th>\n",
       "    </tr>\n",
       "  </thead>\n",
       "  <tbody>\n",
       "    <tr>\n",
       "      <th>f1-score</th>\n",
       "      <td>0.874</td>\n",
       "      <td>0.146</td>\n",
       "      <td>0.78</td>\n",
       "      <td>0.510</td>\n",
       "      <td>0.799</td>\n",
       "    </tr>\n",
       "    <tr>\n",
       "      <th>precision</th>\n",
       "      <td>0.901</td>\n",
       "      <td>0.121</td>\n",
       "      <td>0.78</td>\n",
       "      <td>0.511</td>\n",
       "      <td>0.821</td>\n",
       "    </tr>\n",
       "    <tr>\n",
       "      <th>recall</th>\n",
       "      <td>0.848</td>\n",
       "      <td>0.183</td>\n",
       "      <td>0.78</td>\n",
       "      <td>0.516</td>\n",
       "      <td>0.780</td>\n",
       "    </tr>\n",
       "    <tr>\n",
       "      <th>support</th>\n",
       "      <td>719.000</td>\n",
       "      <td>82.000</td>\n",
       "      <td>801.00</td>\n",
       "      <td>801.000</td>\n",
       "      <td>801.000</td>\n",
       "    </tr>\n",
       "  </tbody>\n",
       "</table>\n",
       "</div>"
      ],
      "text/plain": [
       "               0.0     1.0  micro avg  macro avg  weighted avg\n",
       "f1-score     0.874   0.146       0.78      0.510         0.799\n",
       "precision    0.901   0.121       0.78      0.511         0.821\n",
       "recall       0.848   0.183       0.78      0.516         0.780\n",
       "support    719.000  82.000     801.00    801.000       801.000"
      ]
     },
     "metadata": {},
     "output_type": "display_data"
    },
    {
     "name": "stderr",
     "output_type": "stream",
     "text": [
      "INFO - 2019-03-26 15:45:58,851 - instantiating class <class 'PatientVec.models.Model.Model'> from params {'type': 'seq_classifier', 'embedder': {'type': 'token_embedder', 'vocab_size': 18542, 'embed_size': 200, 'embedding_file': '../../../SurgeryData/PatientVec/preprocess/KneeSurgery/1_yrs/embedding_matrix.npy'}, 'decoder': {'num_layers': 2, 'hidden_dims': [128, 1], 'activations': ['tanh', 'linear']}, 'predictor': {'type': 'binary'}, 'structured': {'use_structured': False}, 'encoder': {'type': 'lstm', 'hidden_size': 128}} and extras {}\n",
      "INFO - 2019-03-26 15:45:58,851 - type = seq_classifier\n",
      "INFO - 2019-03-26 15:45:58,852 - instantiating class <class 'PatientVec.models.modules.Embedder.Embedder'> from params {'type': 'token_embedder', 'vocab_size': 18542, 'embed_size': 200, 'embedding_file': '../../../SurgeryData/PatientVec/preprocess/KneeSurgery/1_yrs/embedding_matrix.npy'} and extras {}\n",
      "INFO - 2019-03-26 15:45:58,852 - embedder.type = token_embedder\n",
      "INFO - 2019-03-26 15:45:58,853 - instantiating class <class 'PatientVec.models.modules.Embedder.TokenEmbedder'> from params {'vocab_size': 18542, 'embed_size': 200, 'embedding_file': '../../../SurgeryData/PatientVec/preprocess/KneeSurgery/1_yrs/embedding_matrix.npy'} and extras {}\n",
      "INFO - 2019-03-26 15:45:58,853 - embedder.vocab_size = 18542\n",
      "INFO - 2019-03-26 15:45:58,853 - embedder.embed_size = 200\n",
      "INFO - 2019-03-26 15:45:58,854 - embedder.embedding_file = ../../../SurgeryData/PatientVec/preprocess/KneeSurgery/1_yrs/embedding_matrix.npy\n",
      "INFO - 2019-03-26 15:45:58,862 - instantiating class <class 'PatientVec.models.modules.Encoder.Encoder'> from params {'type': 'lstm', 'hidden_size': 128} and extras {'input_size': 200}\n",
      "INFO - 2019-03-26 15:45:58,863 - encoder.type = lstm\n",
      "INFO - 2019-03-26 15:45:58,863 - instantiating class <class 'PatientVec.models.modules.Encoder.wrap_pytorch_rnn.<locals>.BiRNNEncoder'> from params {'hidden_size': 128} and extras {'input_size': 200}\n",
      "INFO - 2019-03-26 15:45:58,863 - encoder.hidden_size = 128\n",
      "INFO - 2019-03-26 15:45:58,866 - decoder.input_dim = 256\n",
      "INFO - 2019-03-26 15:45:58,866 - decoder.num_layers = 2\n",
      "INFO - 2019-03-26 15:45:58,867 - decoder.hidden_dims = [128, 1]\n",
      "INFO - 2019-03-26 15:45:58,867 - decoder.activations = ['tanh', 'linear']\n",
      "INFO - 2019-03-26 15:45:58,868 - decoder.dropout = 0.0\n",
      "INFO - 2019-03-26 15:45:58,868 - instantiating class <class 'PatientVec.models.modules.Predictor.Predictor'> from params {'type': 'binary'} and extras {}\n",
      "INFO - 2019-03-26 15:45:58,869 - predictor.type = binary\n",
      "INFO - 2019-03-26 15:45:58,869 - instantiating class <class 'PatientVec.models.modules.Predictor.Binary_Predictor'> from params {} and extras {}\n",
      "INFO - 2019-03-26 15:45:58,870 - predictor.replicate = False\n",
      "INFO - 2019-03-26 15:45:58,870 - predictor.alpha = 0.5\n"
     ]
    },
    {
     "name": "stdout",
     "output_type": "stream",
     "text": [
      "Model not saved on  roc_auc 0.5201075341768717\n",
      "0.5564215204043557 deque([0.5508158350011872, 0.5558787611520065, 0.5201075341768717], maxlen=3)\n",
      "\n",
      "Setting Embedding\n"
     ]
    },
    {
     "data": {
      "application/vnd.jupyter.widget-view+json": {
       "model_id": "6dc558a4ae2341f981c8f62403771499",
       "version_major": 2,
       "version_minor": 0
      },
      "text/plain": [
       "HBox(children=(IntProgress(value=0, max=51), HTML(value='')))"
      ]
     },
     "metadata": {},
     "output_type": "display_data"
    },
    {
     "name": "stdout",
     "output_type": "stream",
     "text": [
      "\n",
      "{'accuracy': 0.8489388264669163, 'roc_auc': 0.5564215204043557, 'pr_auc': 0.12102452085798068}\n"
     ]
    },
    {
     "data": {
      "text/html": [
       "<div>\n",
       "<style scoped>\n",
       "    .dataframe tbody tr th:only-of-type {\n",
       "        vertical-align: middle;\n",
       "    }\n",
       "\n",
       "    .dataframe tbody tr th {\n",
       "        vertical-align: top;\n",
       "    }\n",
       "\n",
       "    .dataframe thead th {\n",
       "        text-align: right;\n",
       "    }\n",
       "</style>\n",
       "<table border=\"1\" class=\"dataframe\">\n",
       "  <thead>\n",
       "    <tr style=\"text-align: right;\">\n",
       "      <th></th>\n",
       "      <th>0.0</th>\n",
       "      <th>1.0</th>\n",
       "      <th>micro avg</th>\n",
       "      <th>macro avg</th>\n",
       "      <th>weighted avg</th>\n",
       "    </tr>\n",
       "  </thead>\n",
       "  <tbody>\n",
       "    <tr>\n",
       "      <th>f1-score</th>\n",
       "      <td>0.918</td>\n",
       "      <td>0.104</td>\n",
       "      <td>0.849</td>\n",
       "      <td>0.511</td>\n",
       "      <td>0.834</td>\n",
       "    </tr>\n",
       "    <tr>\n",
       "      <th>precision</th>\n",
       "      <td>0.900</td>\n",
       "      <td>0.132</td>\n",
       "      <td>0.849</td>\n",
       "      <td>0.516</td>\n",
       "      <td>0.821</td>\n",
       "    </tr>\n",
       "    <tr>\n",
       "      <th>recall</th>\n",
       "      <td>0.936</td>\n",
       "      <td>0.085</td>\n",
       "      <td>0.849</td>\n",
       "      <td>0.511</td>\n",
       "      <td>0.849</td>\n",
       "    </tr>\n",
       "    <tr>\n",
       "      <th>support</th>\n",
       "      <td>719.000</td>\n",
       "      <td>82.000</td>\n",
       "      <td>801.000</td>\n",
       "      <td>801.000</td>\n",
       "      <td>801.000</td>\n",
       "    </tr>\n",
       "  </tbody>\n",
       "</table>\n",
       "</div>"
      ],
      "text/plain": [
       "               0.0     1.0  micro avg  macro avg  weighted avg\n",
       "f1-score     0.918   0.104      0.849      0.511         0.834\n",
       "precision    0.900   0.132      0.849      0.516         0.821\n",
       "recall       0.936   0.085      0.849      0.511         0.849\n",
       "support    719.000  82.000    801.000    801.000       801.000"
      ]
     },
     "metadata": {},
     "output_type": "display_data"
    },
    {
     "name": "stderr",
     "output_type": "stream",
     "text": [
      "INFO - 2019-03-26 15:46:14,210 - instantiating class <class 'PatientVec.models.Model.Model'> from params {'type': 'seq_classifier_with_attention', 'embedder': {'type': 'token_embedder', 'vocab_size': 18542, 'embed_size': 200, 'embedding_file': '../../../SurgeryData/PatientVec/preprocess/KneeSurgery/1_yrs/embedding_matrix.npy'}, 'decoder': {'num_layers': 2, 'hidden_dims': [128, 1], 'activations': ['tanh', 'linear']}, 'predictor': {'type': 'binary'}, 'structured': {'use_structured': False}, 'encoder': {'type': 'lstm', 'hidden_size': 128}, 'attention': {'similarity': {'type': 'additive', 'hidden_size': 128}}} and extras {}\n",
      "INFO - 2019-03-26 15:46:14,211 - type = seq_classifier_with_attention\n",
      "INFO - 2019-03-26 15:46:14,212 - instantiating class <class 'PatientVec.models.modules.Embedder.Embedder'> from params {'type': 'token_embedder', 'vocab_size': 18542, 'embed_size': 200, 'embedding_file': '../../../SurgeryData/PatientVec/preprocess/KneeSurgery/1_yrs/embedding_matrix.npy'} and extras {}\n",
      "INFO - 2019-03-26 15:46:14,212 - embedder.type = token_embedder\n",
      "INFO - 2019-03-26 15:46:14,213 - instantiating class <class 'PatientVec.models.modules.Embedder.TokenEmbedder'> from params {'vocab_size': 18542, 'embed_size': 200, 'embedding_file': '../../../SurgeryData/PatientVec/preprocess/KneeSurgery/1_yrs/embedding_matrix.npy'} and extras {}\n",
      "INFO - 2019-03-26 15:46:14,214 - embedder.vocab_size = 18542\n",
      "INFO - 2019-03-26 15:46:14,215 - embedder.embed_size = 200\n",
      "INFO - 2019-03-26 15:46:14,215 - embedder.embedding_file = ../../../SurgeryData/PatientVec/preprocess/KneeSurgery/1_yrs/embedding_matrix.npy\n",
      "INFO - 2019-03-26 15:46:14,225 - instantiating class <class 'PatientVec.models.modules.Encoder.Encoder'> from params {'type': 'lstm', 'hidden_size': 128} and extras {'input_size': 200}\n",
      "INFO - 2019-03-26 15:46:14,225 - encoder.type = lstm\n",
      "INFO - 2019-03-26 15:46:14,226 - instantiating class <class 'PatientVec.models.modules.Encoder.wrap_pytorch_rnn.<locals>.BiRNNEncoder'> from params {'hidden_size': 128} and extras {'input_size': 200}\n",
      "INFO - 2019-03-26 15:46:14,226 - encoder.hidden_size = 128\n",
      "INFO - 2019-03-26 15:46:14,228 - instantiating class <class 'PatientVec.models.modules.SelfAttention.SelfAttention'> from params {'similarity': {'type': 'additive', 'hidden_size': 128, 'tensor_1_dim': 256}} and extras {}\n",
      "INFO - 2019-03-26 15:46:14,229 - instantiating class <class 'PatientVec.models.modules.UniSimilarity.UniSimilarity'> from params {'type': 'additive', 'hidden_size': 128, 'tensor_1_dim': 256} and extras {}\n",
      "INFO - 2019-03-26 15:46:14,229 - attention.similarity.type = additive\n",
      "INFO - 2019-03-26 15:46:14,229 - instantiating class <class 'PatientVec.models.modules.UniSimilarity.UniAdditiveSimilarity'> from params {'hidden_size': 128, 'tensor_1_dim': 256} and extras {}\n",
      "INFO - 2019-03-26 15:46:14,230 - attention.similarity.tensor_1_dim = 256\n",
      "INFO - 2019-03-26 15:46:14,230 - attention.similarity.hidden_size = 128\n",
      "INFO - 2019-03-26 15:46:14,230 - attention.similarity.output_size = 1\n",
      "INFO - 2019-03-26 15:46:14,232 - attention.normaliser = softmax\n",
      "INFO - 2019-03-26 15:46:14,232 - decoder.input_dim = 256\n",
      "INFO - 2019-03-26 15:46:14,232 - decoder.num_layers = 2\n",
      "INFO - 2019-03-26 15:46:14,233 - decoder.hidden_dims = [128, 1]\n",
      "INFO - 2019-03-26 15:46:14,233 - decoder.activations = ['tanh', 'linear']\n",
      "INFO - 2019-03-26 15:46:14,233 - decoder.dropout = 0.0\n",
      "INFO - 2019-03-26 15:46:14,235 - instantiating class <class 'PatientVec.models.modules.Predictor.Predictor'> from params {'type': 'binary'} and extras {}\n",
      "INFO - 2019-03-26 15:46:14,235 - predictor.type = binary\n",
      "INFO - 2019-03-26 15:46:14,235 - instantiating class <class 'PatientVec.models.modules.Predictor.Binary_Predictor'> from params {} and extras {}\n",
      "INFO - 2019-03-26 15:46:14,236 - predictor.replicate = False\n",
      "INFO - 2019-03-26 15:46:14,236 - predictor.alpha = 0.5\n"
     ]
    },
    {
     "name": "stdout",
     "output_type": "stream",
     "text": [
      "============================================================================================================================================================================================================================================================================================================\n",
      "{'model': {'type': 'seq_classifier_with_attention', 'embedder': {'type': 'token_embedder', 'vocab_size': 18542, 'embed_size': 200, 'embedding_file': '../../../SurgeryData/PatientVec/preprocess/KneeSurgery/1_yrs/embedding_matrix.npy'}, 'decoder': {'num_layers': 2, 'hidden_dims': [128, 1], 'activations': ['tanh', 'linear']}, 'predictor': {'type': 'binary'}, 'structured': {'use_structured': False}, 'encoder': {'type': 'lstm', 'hidden_size': 128}, 'attention': {'similarity': {'type': 'additive', 'hidden_size': 128}}}, 'training_config': {'type': 'Adam', 'groups': [('.*', {'lr': 0.001, 'weight_decay': 1e-05})], 'common': {'bsize': 16, 'class_weight': True}}, 'exp_config': {'exp_name': 'KneeSurgery_1/Attention/LSTM(hs=128)+Attention(additive)(hs=128)', 'basepath': 'outputs/confidence'}}\n",
      "Setting Embedding\n"
     ]
    },
    {
     "data": {
      "application/vnd.jupyter.widget-view+json": {
       "model_id": "b7646e5abba94806a57fd8a15f3186dd",
       "version_major": 2,
       "version_minor": 0
      },
      "text/plain": [
       "HBox(children=(IntProgress(value=0, max=8), HTML(value='')))"
      ]
     },
     "metadata": {},
     "output_type": "display_data"
    },
    {
     "data": {
      "application/vnd.jupyter.widget-view+json": {
       "model_id": "5837fe67a75e486ebf34a821afeb33ec",
       "version_major": 2,
       "version_minor": 0
      },
      "text/plain": [
       "HBox(children=(IntProgress(value=0, max=229), HTML(value='')))"
      ]
     },
     "metadata": {},
     "output_type": "display_data"
    },
    {
     "data": {
      "application/vnd.jupyter.widget-view+json": {
       "model_id": "43e55c874f514a3fa5af9e3242c3e6ec",
       "version_major": 2,
       "version_minor": 0
      },
      "text/plain": [
       "HBox(children=(IntProgress(value=0, max=51), HTML(value='')))"
      ]
     },
     "metadata": {},
     "output_type": "display_data"
    },
    {
     "name": "stdout",
     "output_type": "stream",
     "text": [
      "{'accuracy': 0.7278401997503121, 'roc_auc': 0.7669697072492283, 'pr_auc': 0.2541239811449343}\n"
     ]
    },
    {
     "data": {
      "text/html": [
       "<div>\n",
       "<style scoped>\n",
       "    .dataframe tbody tr th:only-of-type {\n",
       "        vertical-align: middle;\n",
       "    }\n",
       "\n",
       "    .dataframe tbody tr th {\n",
       "        vertical-align: top;\n",
       "    }\n",
       "\n",
       "    .dataframe thead th {\n",
       "        text-align: right;\n",
       "    }\n",
       "</style>\n",
       "<table border=\"1\" class=\"dataframe\">\n",
       "  <thead>\n",
       "    <tr style=\"text-align: right;\">\n",
       "      <th></th>\n",
       "      <th>0.0</th>\n",
       "      <th>1.0</th>\n",
       "      <th>micro avg</th>\n",
       "      <th>macro avg</th>\n",
       "      <th>weighted avg</th>\n",
       "    </tr>\n",
       "  </thead>\n",
       "  <tbody>\n",
       "    <tr>\n",
       "      <th>f1-score</th>\n",
       "      <td>0.830</td>\n",
       "      <td>0.319</td>\n",
       "      <td>0.728</td>\n",
       "      <td>0.574</td>\n",
       "      <td>0.778</td>\n",
       "    </tr>\n",
       "    <tr>\n",
       "      <th>precision</th>\n",
       "      <td>0.945</td>\n",
       "      <td>0.214</td>\n",
       "      <td>0.728</td>\n",
       "      <td>0.580</td>\n",
       "      <td>0.870</td>\n",
       "    </tr>\n",
       "    <tr>\n",
       "      <th>recall</th>\n",
       "      <td>0.740</td>\n",
       "      <td>0.622</td>\n",
       "      <td>0.728</td>\n",
       "      <td>0.681</td>\n",
       "      <td>0.728</td>\n",
       "    </tr>\n",
       "    <tr>\n",
       "      <th>support</th>\n",
       "      <td>719.000</td>\n",
       "      <td>82.000</td>\n",
       "      <td>801.000</td>\n",
       "      <td>801.000</td>\n",
       "      <td>801.000</td>\n",
       "    </tr>\n",
       "  </tbody>\n",
       "</table>\n",
       "</div>"
      ],
      "text/plain": [
       "               0.0     1.0  micro avg  macro avg  weighted avg\n",
       "f1-score     0.830   0.319      0.728      0.574         0.778\n",
       "precision    0.945   0.214      0.728      0.580         0.870\n",
       "recall       0.740   0.622      0.728      0.681         0.728\n",
       "support    719.000  82.000    801.000    801.000       801.000"
      ]
     },
     "metadata": {},
     "output_type": "display_data"
    },
    {
     "name": "stdout",
     "output_type": "stream",
     "text": [
      "Model Saved on  roc_auc 0.7669697072492283\n"
     ]
    },
    {
     "data": {
      "application/vnd.jupyter.widget-view+json": {
       "model_id": "0a23f97ca8f2423f9b73255b44011e19",
       "version_major": 2,
       "version_minor": 0
      },
      "text/plain": [
       "HBox(children=(IntProgress(value=0, max=229), HTML(value='')))"
      ]
     },
     "metadata": {},
     "output_type": "display_data"
    },
    {
     "data": {
      "application/vnd.jupyter.widget-view+json": {
       "model_id": "33bb6bc4f7584c898f0793ffcf1e20c5",
       "version_major": 2,
       "version_minor": 0
      },
      "text/plain": [
       "HBox(children=(IntProgress(value=0, max=51), HTML(value='')))"
      ]
     },
     "metadata": {},
     "output_type": "display_data"
    },
    {
     "name": "stdout",
     "output_type": "stream",
     "text": [
      "{'accuracy': 0.8227215980024969, 'roc_auc': 0.8169714033718919, 'pr_auc': 0.507878998133524}\n"
     ]
    },
    {
     "data": {
      "text/html": [
       "<div>\n",
       "<style scoped>\n",
       "    .dataframe tbody tr th:only-of-type {\n",
       "        vertical-align: middle;\n",
       "    }\n",
       "\n",
       "    .dataframe tbody tr th {\n",
       "        vertical-align: top;\n",
       "    }\n",
       "\n",
       "    .dataframe thead th {\n",
       "        text-align: right;\n",
       "    }\n",
       "</style>\n",
       "<table border=\"1\" class=\"dataframe\">\n",
       "  <thead>\n",
       "    <tr style=\"text-align: right;\">\n",
       "      <th></th>\n",
       "      <th>0.0</th>\n",
       "      <th>1.0</th>\n",
       "      <th>micro avg</th>\n",
       "      <th>macro avg</th>\n",
       "      <th>weighted avg</th>\n",
       "    </tr>\n",
       "  </thead>\n",
       "  <tbody>\n",
       "    <tr>\n",
       "      <th>f1-score</th>\n",
       "      <td>0.895</td>\n",
       "      <td>0.437</td>\n",
       "      <td>0.823</td>\n",
       "      <td>0.666</td>\n",
       "      <td>0.848</td>\n",
       "    </tr>\n",
       "    <tr>\n",
       "      <th>precision</th>\n",
       "      <td>0.957</td>\n",
       "      <td>0.324</td>\n",
       "      <td>0.823</td>\n",
       "      <td>0.640</td>\n",
       "      <td>0.892</td>\n",
       "    </tr>\n",
       "    <tr>\n",
       "      <th>recall</th>\n",
       "      <td>0.840</td>\n",
       "      <td>0.671</td>\n",
       "      <td>0.823</td>\n",
       "      <td>0.755</td>\n",
       "      <td>0.823</td>\n",
       "    </tr>\n",
       "    <tr>\n",
       "      <th>support</th>\n",
       "      <td>719.000</td>\n",
       "      <td>82.000</td>\n",
       "      <td>801.000</td>\n",
       "      <td>801.000</td>\n",
       "      <td>801.000</td>\n",
       "    </tr>\n",
       "  </tbody>\n",
       "</table>\n",
       "</div>"
      ],
      "text/plain": [
       "               0.0     1.0  micro avg  macro avg  weighted avg\n",
       "f1-score     0.895   0.437      0.823      0.666         0.848\n",
       "precision    0.957   0.324      0.823      0.640         0.892\n",
       "recall       0.840   0.671      0.823      0.755         0.823\n",
       "support    719.000  82.000    801.000    801.000       801.000"
      ]
     },
     "metadata": {},
     "output_type": "display_data"
    },
    {
     "name": "stdout",
     "output_type": "stream",
     "text": [
      "Model Saved on  roc_auc 0.8169714033718919\n"
     ]
    },
    {
     "data": {
      "application/vnd.jupyter.widget-view+json": {
       "model_id": "85e7a2a783a841ab9f51119a7a95e1ee",
       "version_major": 2,
       "version_minor": 0
      },
      "text/plain": [
       "HBox(children=(IntProgress(value=0, max=229), HTML(value='')))"
      ]
     },
     "metadata": {},
     "output_type": "display_data"
    },
    {
     "data": {
      "application/vnd.jupyter.widget-view+json": {
       "model_id": "81706318b0e2404a8bdebfc4b346366f",
       "version_major": 2,
       "version_minor": 0
      },
      "text/plain": [
       "HBox(children=(IntProgress(value=0, max=51), HTML(value='')))"
      ]
     },
     "metadata": {},
     "output_type": "display_data"
    },
    {
     "name": "stdout",
     "output_type": "stream",
     "text": [
      "{'accuracy': 0.8926342072409488, 'roc_auc': 0.8564741002069269, 'pr_auc': 0.5619590440069148}\n"
     ]
    },
    {
     "data": {
      "text/html": [
       "<div>\n",
       "<style scoped>\n",
       "    .dataframe tbody tr th:only-of-type {\n",
       "        vertical-align: middle;\n",
       "    }\n",
       "\n",
       "    .dataframe tbody tr th {\n",
       "        vertical-align: top;\n",
       "    }\n",
       "\n",
       "    .dataframe thead th {\n",
       "        text-align: right;\n",
       "    }\n",
       "</style>\n",
       "<table border=\"1\" class=\"dataframe\">\n",
       "  <thead>\n",
       "    <tr style=\"text-align: right;\">\n",
       "      <th></th>\n",
       "      <th>0.0</th>\n",
       "      <th>1.0</th>\n",
       "      <th>micro avg</th>\n",
       "      <th>macro avg</th>\n",
       "      <th>weighted avg</th>\n",
       "    </tr>\n",
       "  </thead>\n",
       "  <tbody>\n",
       "    <tr>\n",
       "      <th>f1-score</th>\n",
       "      <td>0.939</td>\n",
       "      <td>0.570</td>\n",
       "      <td>0.893</td>\n",
       "      <td>0.754</td>\n",
       "      <td>0.901</td>\n",
       "    </tr>\n",
       "    <tr>\n",
       "      <th>precision</th>\n",
       "      <td>0.963</td>\n",
       "      <td>0.483</td>\n",
       "      <td>0.893</td>\n",
       "      <td>0.723</td>\n",
       "      <td>0.914</td>\n",
       "    </tr>\n",
       "    <tr>\n",
       "      <th>recall</th>\n",
       "      <td>0.915</td>\n",
       "      <td>0.695</td>\n",
       "      <td>0.893</td>\n",
       "      <td>0.805</td>\n",
       "      <td>0.893</td>\n",
       "    </tr>\n",
       "    <tr>\n",
       "      <th>support</th>\n",
       "      <td>719.000</td>\n",
       "      <td>82.000</td>\n",
       "      <td>801.000</td>\n",
       "      <td>801.000</td>\n",
       "      <td>801.000</td>\n",
       "    </tr>\n",
       "  </tbody>\n",
       "</table>\n",
       "</div>"
      ],
      "text/plain": [
       "               0.0     1.0  micro avg  macro avg  weighted avg\n",
       "f1-score     0.939   0.570      0.893      0.754         0.901\n",
       "precision    0.963   0.483      0.893      0.723         0.914\n",
       "recall       0.915   0.695      0.893      0.805         0.893\n",
       "support    719.000  82.000    801.000    801.000       801.000"
      ]
     },
     "metadata": {},
     "output_type": "display_data"
    },
    {
     "name": "stdout",
     "output_type": "stream",
     "text": [
      "Model Saved on  roc_auc 0.8564741002069269\n"
     ]
    },
    {
     "data": {
      "application/vnd.jupyter.widget-view+json": {
       "model_id": "eabf40c9ac944f12bfc481214fadb856",
       "version_major": 2,
       "version_minor": 0
      },
      "text/plain": [
       "HBox(children=(IntProgress(value=0, max=229), HTML(value='')))"
      ]
     },
     "metadata": {},
     "output_type": "display_data"
    },
    {
     "data": {
      "application/vnd.jupyter.widget-view+json": {
       "model_id": "3ae69f92fb024a11a6a64432963bed57",
       "version_major": 2,
       "version_minor": 0
      },
      "text/plain": [
       "HBox(children=(IntProgress(value=0, max=51), HTML(value='')))"
      ]
     },
     "metadata": {},
     "output_type": "display_data"
    },
    {
     "name": "stdout",
     "output_type": "stream",
     "text": [
      "{'accuracy': 0.8127340823970037, 'roc_auc': 0.8438719088164455, 'pr_auc': 0.5315666956078722}\n"
     ]
    },
    {
     "data": {
      "text/html": [
       "<div>\n",
       "<style scoped>\n",
       "    .dataframe tbody tr th:only-of-type {\n",
       "        vertical-align: middle;\n",
       "    }\n",
       "\n",
       "    .dataframe tbody tr th {\n",
       "        vertical-align: top;\n",
       "    }\n",
       "\n",
       "    .dataframe thead th {\n",
       "        text-align: right;\n",
       "    }\n",
       "</style>\n",
       "<table border=\"1\" class=\"dataframe\">\n",
       "  <thead>\n",
       "    <tr style=\"text-align: right;\">\n",
       "      <th></th>\n",
       "      <th>0.0</th>\n",
       "      <th>1.0</th>\n",
       "      <th>micro avg</th>\n",
       "      <th>macro avg</th>\n",
       "      <th>weighted avg</th>\n",
       "    </tr>\n",
       "  </thead>\n",
       "  <tbody>\n",
       "    <tr>\n",
       "      <th>f1-score</th>\n",
       "      <td>0.887</td>\n",
       "      <td>0.444</td>\n",
       "      <td>0.813</td>\n",
       "      <td>0.666</td>\n",
       "      <td>0.842</td>\n",
       "    </tr>\n",
       "    <tr>\n",
       "      <th>precision</th>\n",
       "      <td>0.964</td>\n",
       "      <td>0.319</td>\n",
       "      <td>0.813</td>\n",
       "      <td>0.642</td>\n",
       "      <td>0.898</td>\n",
       "    </tr>\n",
       "    <tr>\n",
       "      <th>recall</th>\n",
       "      <td>0.822</td>\n",
       "      <td>0.732</td>\n",
       "      <td>0.813</td>\n",
       "      <td>0.777</td>\n",
       "      <td>0.813</td>\n",
       "    </tr>\n",
       "    <tr>\n",
       "      <th>support</th>\n",
       "      <td>719.000</td>\n",
       "      <td>82.000</td>\n",
       "      <td>801.000</td>\n",
       "      <td>801.000</td>\n",
       "      <td>801.000</td>\n",
       "    </tr>\n",
       "  </tbody>\n",
       "</table>\n",
       "</div>"
      ],
      "text/plain": [
       "               0.0     1.0  micro avg  macro avg  weighted avg\n",
       "f1-score     0.887   0.444      0.813      0.666         0.842\n",
       "precision    0.964   0.319      0.813      0.642         0.898\n",
       "recall       0.822   0.732      0.813      0.777         0.813\n",
       "support    719.000  82.000    801.000    801.000       801.000"
      ]
     },
     "metadata": {},
     "output_type": "display_data"
    },
    {
     "name": "stdout",
     "output_type": "stream",
     "text": [
      "Model not saved on  roc_auc 0.8438719088164455\n"
     ]
    },
    {
     "data": {
      "application/vnd.jupyter.widget-view+json": {
       "model_id": "40da0384f1ee4838bd8b9bff97c86ede",
       "version_major": 2,
       "version_minor": 0
      },
      "text/plain": [
       "HBox(children=(IntProgress(value=0, max=229), HTML(value='')))"
      ]
     },
     "metadata": {},
     "output_type": "display_data"
    },
    {
     "data": {
      "application/vnd.jupyter.widget-view+json": {
       "model_id": "cccd07e0cf9a4348b08f09baafda04e4",
       "version_major": 2,
       "version_minor": 0
      },
      "text/plain": [
       "HBox(children=(IntProgress(value=0, max=51), HTML(value='')))"
      ]
     },
     "metadata": {},
     "output_type": "display_data"
    },
    {
     "name": "stdout",
     "output_type": "stream",
     "text": [
      "{'accuracy': 0.8177278401997503, 'roc_auc': 0.8527935140269345, 'pr_auc': 0.5242190969179777}\n"
     ]
    },
    {
     "data": {
      "text/html": [
       "<div>\n",
       "<style scoped>\n",
       "    .dataframe tbody tr th:only-of-type {\n",
       "        vertical-align: middle;\n",
       "    }\n",
       "\n",
       "    .dataframe tbody tr th {\n",
       "        vertical-align: top;\n",
       "    }\n",
       "\n",
       "    .dataframe thead th {\n",
       "        text-align: right;\n",
       "    }\n",
       "</style>\n",
       "<table border=\"1\" class=\"dataframe\">\n",
       "  <thead>\n",
       "    <tr style=\"text-align: right;\">\n",
       "      <th></th>\n",
       "      <th>0.0</th>\n",
       "      <th>1.0</th>\n",
       "      <th>micro avg</th>\n",
       "      <th>macro avg</th>\n",
       "      <th>weighted avg</th>\n",
       "    </tr>\n",
       "  </thead>\n",
       "  <tbody>\n",
       "    <tr>\n",
       "      <th>f1-score</th>\n",
       "      <td>0.890</td>\n",
       "      <td>0.459</td>\n",
       "      <td>0.818</td>\n",
       "      <td>0.675</td>\n",
       "      <td>0.846</td>\n",
       "    </tr>\n",
       "    <tr>\n",
       "      <th>precision</th>\n",
       "      <td>0.967</td>\n",
       "      <td>0.330</td>\n",
       "      <td>0.818</td>\n",
       "      <td>0.649</td>\n",
       "      <td>0.902</td>\n",
       "    </tr>\n",
       "    <tr>\n",
       "      <th>recall</th>\n",
       "      <td>0.825</td>\n",
       "      <td>0.756</td>\n",
       "      <td>0.818</td>\n",
       "      <td>0.790</td>\n",
       "      <td>0.818</td>\n",
       "    </tr>\n",
       "    <tr>\n",
       "      <th>support</th>\n",
       "      <td>719.000</td>\n",
       "      <td>82.000</td>\n",
       "      <td>801.000</td>\n",
       "      <td>801.000</td>\n",
       "      <td>801.000</td>\n",
       "    </tr>\n",
       "  </tbody>\n",
       "</table>\n",
       "</div>"
      ],
      "text/plain": [
       "               0.0     1.0  micro avg  macro avg  weighted avg\n",
       "f1-score     0.890   0.459      0.818      0.675         0.846\n",
       "precision    0.967   0.330      0.818      0.649         0.902\n",
       "recall       0.825   0.756      0.818      0.790         0.818\n",
       "support    719.000  82.000    801.000    801.000       801.000"
      ]
     },
     "metadata": {},
     "output_type": "display_data"
    },
    {
     "name": "stdout",
     "output_type": "stream",
     "text": [
      "Model not saved on  roc_auc 0.8527935140269345\n"
     ]
    },
    {
     "data": {
      "application/vnd.jupyter.widget-view+json": {
       "model_id": "3b0b0c05d66f4447857bb0d8c999277b",
       "version_major": 2,
       "version_minor": 0
      },
      "text/plain": [
       "HBox(children=(IntProgress(value=0, max=229), HTML(value='')))"
      ]
     },
     "metadata": {},
     "output_type": "display_data"
    },
    {
     "data": {
      "application/vnd.jupyter.widget-view+json": {
       "model_id": "7135b0bbe29741d19d75b066ab9f6032",
       "version_major": 2,
       "version_minor": 0
      },
      "text/plain": [
       "HBox(children=(IntProgress(value=0, max=51), HTML(value='')))"
      ]
     },
     "metadata": {},
     "output_type": "display_data"
    },
    {
     "name": "stdout",
     "output_type": "stream",
     "text": [
      "{'accuracy': 0.8826466916354557, 'roc_auc': 0.8676685097866278, 'pr_auc': 0.5634182477752129}\n"
     ]
    },
    {
     "data": {
      "text/html": [
       "<div>\n",
       "<style scoped>\n",
       "    .dataframe tbody tr th:only-of-type {\n",
       "        vertical-align: middle;\n",
       "    }\n",
       "\n",
       "    .dataframe tbody tr th {\n",
       "        vertical-align: top;\n",
       "    }\n",
       "\n",
       "    .dataframe thead th {\n",
       "        text-align: right;\n",
       "    }\n",
       "</style>\n",
       "<table border=\"1\" class=\"dataframe\">\n",
       "  <thead>\n",
       "    <tr style=\"text-align: right;\">\n",
       "      <th></th>\n",
       "      <th>0.0</th>\n",
       "      <th>1.0</th>\n",
       "      <th>micro avg</th>\n",
       "      <th>macro avg</th>\n",
       "      <th>weighted avg</th>\n",
       "    </tr>\n",
       "  </thead>\n",
       "  <tbody>\n",
       "    <tr>\n",
       "      <th>f1-score</th>\n",
       "      <td>0.933</td>\n",
       "      <td>0.544</td>\n",
       "      <td>0.883</td>\n",
       "      <td>0.738</td>\n",
       "      <td>0.893</td>\n",
       "    </tr>\n",
       "    <tr>\n",
       "      <th>precision</th>\n",
       "      <td>0.962</td>\n",
       "      <td>0.452</td>\n",
       "      <td>0.883</td>\n",
       "      <td>0.707</td>\n",
       "      <td>0.909</td>\n",
       "    </tr>\n",
       "    <tr>\n",
       "      <th>recall</th>\n",
       "      <td>0.905</td>\n",
       "      <td>0.683</td>\n",
       "      <td>0.883</td>\n",
       "      <td>0.794</td>\n",
       "      <td>0.883</td>\n",
       "    </tr>\n",
       "    <tr>\n",
       "      <th>support</th>\n",
       "      <td>719.000</td>\n",
       "      <td>82.000</td>\n",
       "      <td>801.000</td>\n",
       "      <td>801.000</td>\n",
       "      <td>801.000</td>\n",
       "    </tr>\n",
       "  </tbody>\n",
       "</table>\n",
       "</div>"
      ],
      "text/plain": [
       "               0.0     1.0  micro avg  macro avg  weighted avg\n",
       "f1-score     0.933   0.544      0.883      0.738         0.893\n",
       "precision    0.962   0.452      0.883      0.707         0.909\n",
       "recall       0.905   0.683      0.883      0.794         0.883\n",
       "support    719.000  82.000    801.000    801.000       801.000"
      ]
     },
     "metadata": {},
     "output_type": "display_data"
    },
    {
     "name": "stdout",
     "output_type": "stream",
     "text": [
      "Model Saved on  roc_auc 0.8676685097866278\n"
     ]
    },
    {
     "data": {
      "application/vnd.jupyter.widget-view+json": {
       "model_id": "c0f85fe2fdd342b781aa584f60e4aa08",
       "version_major": 2,
       "version_minor": 0
      },
      "text/plain": [
       "HBox(children=(IntProgress(value=0, max=229), HTML(value='')))"
      ]
     },
     "metadata": {},
     "output_type": "display_data"
    },
    {
     "data": {
      "application/vnd.jupyter.widget-view+json": {
       "model_id": "e14cff99a61a4d7a92d65941a2c271f2",
       "version_major": 2,
       "version_minor": 0
      },
      "text/plain": [
       "HBox(children=(IntProgress(value=0, max=51), HTML(value='')))"
      ]
     },
     "metadata": {},
     "output_type": "display_data"
    },
    {
     "name": "stdout",
     "output_type": "stream",
     "text": [
      "{'accuracy': 0.8726591760299626, 'roc_auc': 0.8551341633026901, 'pr_auc': 0.5570512672264121}\n"
     ]
    },
    {
     "data": {
      "text/html": [
       "<div>\n",
       "<style scoped>\n",
       "    .dataframe tbody tr th:only-of-type {\n",
       "        vertical-align: middle;\n",
       "    }\n",
       "\n",
       "    .dataframe tbody tr th {\n",
       "        vertical-align: top;\n",
       "    }\n",
       "\n",
       "    .dataframe thead th {\n",
       "        text-align: right;\n",
       "    }\n",
       "</style>\n",
       "<table border=\"1\" class=\"dataframe\">\n",
       "  <thead>\n",
       "    <tr style=\"text-align: right;\">\n",
       "      <th></th>\n",
       "      <th>0.0</th>\n",
       "      <th>1.0</th>\n",
       "      <th>micro avg</th>\n",
       "      <th>macro avg</th>\n",
       "      <th>weighted avg</th>\n",
       "    </tr>\n",
       "  </thead>\n",
       "  <tbody>\n",
       "    <tr>\n",
       "      <th>f1-score</th>\n",
       "      <td>0.927</td>\n",
       "      <td>0.523</td>\n",
       "      <td>0.873</td>\n",
       "      <td>0.725</td>\n",
       "      <td>0.885</td>\n",
       "    </tr>\n",
       "    <tr>\n",
       "      <th>precision</th>\n",
       "      <td>0.961</td>\n",
       "      <td>0.424</td>\n",
       "      <td>0.873</td>\n",
       "      <td>0.693</td>\n",
       "      <td>0.906</td>\n",
       "    </tr>\n",
       "    <tr>\n",
       "      <th>recall</th>\n",
       "      <td>0.894</td>\n",
       "      <td>0.683</td>\n",
       "      <td>0.873</td>\n",
       "      <td>0.789</td>\n",
       "      <td>0.873</td>\n",
       "    </tr>\n",
       "    <tr>\n",
       "      <th>support</th>\n",
       "      <td>719.000</td>\n",
       "      <td>82.000</td>\n",
       "      <td>801.000</td>\n",
       "      <td>801.000</td>\n",
       "      <td>801.000</td>\n",
       "    </tr>\n",
       "  </tbody>\n",
       "</table>\n",
       "</div>"
      ],
      "text/plain": [
       "               0.0     1.0  micro avg  macro avg  weighted avg\n",
       "f1-score     0.927   0.523      0.873      0.725         0.885\n",
       "precision    0.961   0.424      0.873      0.693         0.906\n",
       "recall       0.894   0.683      0.873      0.789         0.873\n",
       "support    719.000  82.000    801.000    801.000       801.000"
      ]
     },
     "metadata": {},
     "output_type": "display_data"
    },
    {
     "name": "stdout",
     "output_type": "stream",
     "text": [
      "Model not saved on  roc_auc 0.8551341633026901\n"
     ]
    },
    {
     "data": {
      "application/vnd.jupyter.widget-view+json": {
       "model_id": "12d1657de1504fe7965fe4c3bdff39cb",
       "version_major": 2,
       "version_minor": 0
      },
      "text/plain": [
       "HBox(children=(IntProgress(value=0, max=229), HTML(value='')))"
      ]
     },
     "metadata": {},
     "output_type": "display_data"
    },
    {
     "data": {
      "application/vnd.jupyter.widget-view+json": {
       "model_id": "5bc3ade055564369b24fef271837cf44",
       "version_major": 2,
       "version_minor": 0
      },
      "text/plain": [
       "HBox(children=(IntProgress(value=0, max=51), HTML(value='')))"
      ]
     },
     "metadata": {},
     "output_type": "display_data"
    },
    {
     "name": "stdout",
     "output_type": "stream",
     "text": [
      "{'accuracy': 0.8614232209737828, 'roc_auc': 0.8221276162692086, 'pr_auc': 0.4097984440331658}\n"
     ]
    },
    {
     "data": {
      "text/html": [
       "<div>\n",
       "<style scoped>\n",
       "    .dataframe tbody tr th:only-of-type {\n",
       "        vertical-align: middle;\n",
       "    }\n",
       "\n",
       "    .dataframe tbody tr th {\n",
       "        vertical-align: top;\n",
       "    }\n",
       "\n",
       "    .dataframe thead th {\n",
       "        text-align: right;\n",
       "    }\n",
       "</style>\n",
       "<table border=\"1\" class=\"dataframe\">\n",
       "  <thead>\n",
       "    <tr style=\"text-align: right;\">\n",
       "      <th></th>\n",
       "      <th>0.0</th>\n",
       "      <th>1.0</th>\n",
       "      <th>micro avg</th>\n",
       "      <th>macro avg</th>\n",
       "      <th>weighted avg</th>\n",
       "    </tr>\n",
       "  </thead>\n",
       "  <tbody>\n",
       "    <tr>\n",
       "      <th>f1-score</th>\n",
       "      <td>0.920</td>\n",
       "      <td>0.498</td>\n",
       "      <td>0.861</td>\n",
       "      <td>0.709</td>\n",
       "      <td>0.876</td>\n",
       "    </tr>\n",
       "    <tr>\n",
       "      <th>precision</th>\n",
       "      <td>0.959</td>\n",
       "      <td>0.396</td>\n",
       "      <td>0.861</td>\n",
       "      <td>0.677</td>\n",
       "      <td>0.902</td>\n",
       "    </tr>\n",
       "    <tr>\n",
       "      <th>recall</th>\n",
       "      <td>0.883</td>\n",
       "      <td>0.671</td>\n",
       "      <td>0.861</td>\n",
       "      <td>0.777</td>\n",
       "      <td>0.861</td>\n",
       "    </tr>\n",
       "    <tr>\n",
       "      <th>support</th>\n",
       "      <td>719.000</td>\n",
       "      <td>82.000</td>\n",
       "      <td>801.000</td>\n",
       "      <td>801.000</td>\n",
       "      <td>801.000</td>\n",
       "    </tr>\n",
       "  </tbody>\n",
       "</table>\n",
       "</div>"
      ],
      "text/plain": [
       "               0.0     1.0  micro avg  macro avg  weighted avg\n",
       "f1-score     0.920   0.498      0.861      0.709         0.876\n",
       "precision    0.959   0.396      0.861      0.677         0.902\n",
       "recall       0.883   0.671      0.861      0.777         0.861\n",
       "support    719.000  82.000    801.000    801.000       801.000"
      ]
     },
     "metadata": {},
     "output_type": "display_data"
    },
    {
     "name": "stderr",
     "output_type": "stream",
     "text": [
      "INFO - 2019-03-26 16:02:18,646 - instantiating class <class 'PatientVec.models.Model.Model'> from params {'type': 'seq_classifier_with_attention', 'embedder': {'type': 'token_embedder', 'vocab_size': 18542, 'embed_size': 200, 'embedding_file': '../../../SurgeryData/PatientVec/preprocess/KneeSurgery/1_yrs/embedding_matrix.npy'}, 'decoder': {'num_layers': 2, 'hidden_dims': [128, 1], 'activations': ['tanh', 'linear']}, 'predictor': {'type': 'binary'}, 'structured': {'use_structured': False}, 'encoder': {'type': 'lstm', 'hidden_size': 128}, 'attention': {'similarity': {'type': 'additive', 'hidden_size': 128}}} and extras {}\n",
      "INFO - 2019-03-26 16:02:18,647 - type = seq_classifier_with_attention\n",
      "INFO - 2019-03-26 16:02:18,647 - instantiating class <class 'PatientVec.models.modules.Embedder.Embedder'> from params {'type': 'token_embedder', 'vocab_size': 18542, 'embed_size': 200, 'embedding_file': '../../../SurgeryData/PatientVec/preprocess/KneeSurgery/1_yrs/embedding_matrix.npy'} and extras {}\n",
      "INFO - 2019-03-26 16:02:18,647 - embedder.type = token_embedder\n",
      "INFO - 2019-03-26 16:02:18,648 - instantiating class <class 'PatientVec.models.modules.Embedder.TokenEmbedder'> from params {'vocab_size': 18542, 'embed_size': 200, 'embedding_file': '../../../SurgeryData/PatientVec/preprocess/KneeSurgery/1_yrs/embedding_matrix.npy'} and extras {}\n",
      "INFO - 2019-03-26 16:02:18,648 - embedder.vocab_size = 18542\n",
      "INFO - 2019-03-26 16:02:18,648 - embedder.embed_size = 200\n",
      "INFO - 2019-03-26 16:02:18,649 - embedder.embedding_file = ../../../SurgeryData/PatientVec/preprocess/KneeSurgery/1_yrs/embedding_matrix.npy\n",
      "INFO - 2019-03-26 16:02:18,660 - instantiating class <class 'PatientVec.models.modules.Encoder.Encoder'> from params {'type': 'lstm', 'hidden_size': 128} and extras {'input_size': 200}\n",
      "INFO - 2019-03-26 16:02:18,660 - encoder.type = lstm\n",
      "INFO - 2019-03-26 16:02:18,660 - instantiating class <class 'PatientVec.models.modules.Encoder.wrap_pytorch_rnn.<locals>.BiRNNEncoder'> from params {'hidden_size': 128} and extras {'input_size': 200}\n",
      "INFO - 2019-03-26 16:02:18,661 - encoder.hidden_size = 128\n",
      "INFO - 2019-03-26 16:02:18,663 - instantiating class <class 'PatientVec.models.modules.SelfAttention.SelfAttention'> from params {'similarity': {'type': 'additive', 'hidden_size': 128, 'tensor_1_dim': 256}} and extras {}\n",
      "INFO - 2019-03-26 16:02:18,663 - instantiating class <class 'PatientVec.models.modules.UniSimilarity.UniSimilarity'> from params {'type': 'additive', 'hidden_size': 128, 'tensor_1_dim': 256} and extras {}\n",
      "INFO - 2019-03-26 16:02:18,663 - attention.similarity.type = additive\n",
      "INFO - 2019-03-26 16:02:18,664 - instantiating class <class 'PatientVec.models.modules.UniSimilarity.UniAdditiveSimilarity'> from params {'hidden_size': 128, 'tensor_1_dim': 256} and extras {}\n",
      "INFO - 2019-03-26 16:02:18,664 - attention.similarity.tensor_1_dim = 256\n",
      "INFO - 2019-03-26 16:02:18,664 - attention.similarity.hidden_size = 128\n",
      "INFO - 2019-03-26 16:02:18,664 - attention.similarity.output_size = 1\n",
      "INFO - 2019-03-26 16:02:18,666 - attention.normaliser = softmax\n",
      "INFO - 2019-03-26 16:02:18,666 - decoder.input_dim = 256\n",
      "INFO - 2019-03-26 16:02:18,666 - decoder.num_layers = 2\n",
      "INFO - 2019-03-26 16:02:18,667 - decoder.hidden_dims = [128, 1]\n",
      "INFO - 2019-03-26 16:02:18,667 - decoder.activations = ['tanh', 'linear']\n",
      "INFO - 2019-03-26 16:02:18,667 - decoder.dropout = 0.0\n",
      "INFO - 2019-03-26 16:02:18,668 - instantiating class <class 'PatientVec.models.modules.Predictor.Predictor'> from params {'type': 'binary'} and extras {}\n",
      "INFO - 2019-03-26 16:02:18,669 - predictor.type = binary\n",
      "INFO - 2019-03-26 16:02:18,669 - instantiating class <class 'PatientVec.models.modules.Predictor.Binary_Predictor'> from params {} and extras {}\n",
      "INFO - 2019-03-26 16:02:18,669 - predictor.replicate = False\n",
      "INFO - 2019-03-26 16:02:18,670 - predictor.alpha = 0.5\n"
     ]
    },
    {
     "name": "stdout",
     "output_type": "stream",
     "text": [
      "Model not saved on  roc_auc 0.8221276162692086\n",
      "\n",
      "Setting Embedding\n"
     ]
    },
    {
     "data": {
      "application/vnd.jupyter.widget-view+json": {
       "model_id": "782a2497bb7a412b9a51dd52e34de2b2",
       "version_major": 2,
       "version_minor": 0
      },
      "text/plain": [
       "HBox(children=(IntProgress(value=0, max=51), HTML(value='')))"
      ]
     },
     "metadata": {},
     "output_type": "display_data"
    },
    {
     "name": "stdout",
     "output_type": "stream",
     "text": [
      "\n",
      "{'accuracy': 0.8826466916354557, 'roc_auc': 0.8676685097866278, 'pr_auc': 0.5634182477752129}\n"
     ]
    },
    {
     "data": {
      "text/html": [
       "<div>\n",
       "<style scoped>\n",
       "    .dataframe tbody tr th:only-of-type {\n",
       "        vertical-align: middle;\n",
       "    }\n",
       "\n",
       "    .dataframe tbody tr th {\n",
       "        vertical-align: top;\n",
       "    }\n",
       "\n",
       "    .dataframe thead th {\n",
       "        text-align: right;\n",
       "    }\n",
       "</style>\n",
       "<table border=\"1\" class=\"dataframe\">\n",
       "  <thead>\n",
       "    <tr style=\"text-align: right;\">\n",
       "      <th></th>\n",
       "      <th>0.0</th>\n",
       "      <th>1.0</th>\n",
       "      <th>micro avg</th>\n",
       "      <th>macro avg</th>\n",
       "      <th>weighted avg</th>\n",
       "    </tr>\n",
       "  </thead>\n",
       "  <tbody>\n",
       "    <tr>\n",
       "      <th>f1-score</th>\n",
       "      <td>0.933</td>\n",
       "      <td>0.544</td>\n",
       "      <td>0.883</td>\n",
       "      <td>0.738</td>\n",
       "      <td>0.893</td>\n",
       "    </tr>\n",
       "    <tr>\n",
       "      <th>precision</th>\n",
       "      <td>0.962</td>\n",
       "      <td>0.452</td>\n",
       "      <td>0.883</td>\n",
       "      <td>0.707</td>\n",
       "      <td>0.909</td>\n",
       "    </tr>\n",
       "    <tr>\n",
       "      <th>recall</th>\n",
       "      <td>0.905</td>\n",
       "      <td>0.683</td>\n",
       "      <td>0.883</td>\n",
       "      <td>0.794</td>\n",
       "      <td>0.883</td>\n",
       "    </tr>\n",
       "    <tr>\n",
       "      <th>support</th>\n",
       "      <td>719.000</td>\n",
       "      <td>82.000</td>\n",
       "      <td>801.000</td>\n",
       "      <td>801.000</td>\n",
       "      <td>801.000</td>\n",
       "    </tr>\n",
       "  </tbody>\n",
       "</table>\n",
       "</div>"
      ],
      "text/plain": [
       "               0.0     1.0  micro avg  macro avg  weighted avg\n",
       "f1-score     0.933   0.544      0.883      0.738         0.893\n",
       "precision    0.962   0.452      0.883      0.707         0.909\n",
       "recall       0.905   0.683      0.883      0.794         0.883\n",
       "support    719.000  82.000    801.000    801.000       801.000"
      ]
     },
     "metadata": {},
     "output_type": "display_data"
    },
    {
     "name": "stderr",
     "output_type": "stream",
     "text": [
      "INFO - 2019-03-26 16:02:34,405 - instantiating class <class 'PatientVec.models.Model.Model'> from params {'type': 'seq_classifier', 'embedder': {'type': 'token_embedder', 'vocab_size': 18542, 'embed_size': 200, 'embedding_file': '../../../SurgeryData/PatientVec/preprocess/KneeSurgery/1_yrs/embedding_matrix.npy'}, 'decoder': {'num_layers': 2, 'hidden_dims': [128, 1], 'activations': ['tanh', 'linear']}, 'predictor': {'type': 'binary'}, 'structured': {'use_structured': False}, 'encoder': {'type': 'cnn', 'hidden_size': 64, 'kernel_sizes': [3, 5, 7, 9], 'activation': 'relu'}} and extras {}\n",
      "INFO - 2019-03-26 16:02:34,406 - type = seq_classifier\n",
      "INFO - 2019-03-26 16:02:34,406 - instantiating class <class 'PatientVec.models.modules.Embedder.Embedder'> from params {'type': 'token_embedder', 'vocab_size': 18542, 'embed_size': 200, 'embedding_file': '../../../SurgeryData/PatientVec/preprocess/KneeSurgery/1_yrs/embedding_matrix.npy'} and extras {}\n",
      "INFO - 2019-03-26 16:02:34,406 - embedder.type = token_embedder\n",
      "INFO - 2019-03-26 16:02:34,407 - instantiating class <class 'PatientVec.models.modules.Embedder.TokenEmbedder'> from params {'vocab_size': 18542, 'embed_size': 200, 'embedding_file': '../../../SurgeryData/PatientVec/preprocess/KneeSurgery/1_yrs/embedding_matrix.npy'} and extras {}\n",
      "INFO - 2019-03-26 16:02:34,407 - embedder.vocab_size = 18542\n",
      "INFO - 2019-03-26 16:02:34,407 - embedder.embed_size = 200\n",
      "INFO - 2019-03-26 16:02:34,408 - embedder.embedding_file = ../../../SurgeryData/PatientVec/preprocess/KneeSurgery/1_yrs/embedding_matrix.npy\n",
      "INFO - 2019-03-26 16:02:34,416 - instantiating class <class 'PatientVec.models.modules.Encoder.Encoder'> from params {'type': 'cnn', 'hidden_size': 64, 'kernel_sizes': [3, 5, 7, 9], 'activation': 'relu'} and extras {'input_size': 200}\n",
      "INFO - 2019-03-26 16:02:34,416 - encoder.type = cnn\n",
      "INFO - 2019-03-26 16:02:34,417 - instantiating class <class 'PatientVec.models.modules.Encoder.CNNEncoder'> from params {'hidden_size': 64, 'kernel_sizes': [3, 5, 7, 9], 'activation': 'relu'} and extras {'input_size': 200}\n",
      "INFO - 2019-03-26 16:02:34,417 - encoder.hidden_size = 64\n",
      "INFO - 2019-03-26 16:02:34,417 - encoder.kernel_sizes = [3, 5, 7, 9]\n",
      "INFO - 2019-03-26 16:02:34,418 - encoder.activation = relu\n",
      "INFO - 2019-03-26 16:02:34,420 - decoder.input_dim = 256\n",
      "INFO - 2019-03-26 16:02:34,421 - decoder.num_layers = 2\n",
      "INFO - 2019-03-26 16:02:34,421 - decoder.hidden_dims = [128, 1]\n",
      "INFO - 2019-03-26 16:02:34,421 - decoder.activations = ['tanh', 'linear']\n",
      "INFO - 2019-03-26 16:02:34,421 - decoder.dropout = 0.0\n",
      "INFO - 2019-03-26 16:02:34,423 - instantiating class <class 'PatientVec.models.modules.Predictor.Predictor'> from params {'type': 'binary'} and extras {}\n",
      "INFO - 2019-03-26 16:02:34,423 - predictor.type = binary\n",
      "INFO - 2019-03-26 16:02:34,423 - instantiating class <class 'PatientVec.models.modules.Predictor.Binary_Predictor'> from params {} and extras {}\n",
      "INFO - 2019-03-26 16:02:34,423 - predictor.replicate = False\n",
      "INFO - 2019-03-26 16:02:34,424 - predictor.alpha = 0.5\n"
     ]
    },
    {
     "name": "stdout",
     "output_type": "stream",
     "text": [
      "============================================================================================================================================================================================================================================================================================================\n",
      "{'model': {'type': 'seq_classifier', 'embedder': {'type': 'token_embedder', 'vocab_size': 18542, 'embed_size': 200, 'embedding_file': '../../../SurgeryData/PatientVec/preprocess/KneeSurgery/1_yrs/embedding_matrix.npy'}, 'decoder': {'num_layers': 2, 'hidden_dims': [128, 1], 'activations': ['tanh', 'linear']}, 'predictor': {'type': 'binary'}, 'structured': {'use_structured': False}, 'encoder': {'type': 'cnn', 'hidden_size': 64, 'kernel_sizes': [3, 5, 7, 9], 'activation': 'relu'}}, 'training_config': {'type': 'Adam', 'groups': [('.*', {'lr': 0.001, 'weight_decay': 1e-05})], 'common': {'bsize': 16, 'class_weight': True}}, 'exp_config': {'exp_name': 'KneeSurgery_1/Basic/CNN(hs=64)(kernels=3,5,7,9)', 'basepath': 'outputs/confidence'}}\n",
      "Setting Embedding\n"
     ]
    },
    {
     "data": {
      "application/vnd.jupyter.widget-view+json": {
       "model_id": "728cc5779c5147538f6dae705b7e128f",
       "version_major": 2,
       "version_minor": 0
      },
      "text/plain": [
       "HBox(children=(IntProgress(value=0, max=8), HTML(value='')))"
      ]
     },
     "metadata": {},
     "output_type": "display_data"
    },
    {
     "data": {
      "application/vnd.jupyter.widget-view+json": {
       "model_id": "ba61eebbae9f481b94863049dd8a7396",
       "version_major": 2,
       "version_minor": 0
      },
      "text/plain": [
       "HBox(children=(IntProgress(value=0, max=229), HTML(value='')))"
      ]
     },
     "metadata": {},
     "output_type": "display_data"
    },
    {
     "data": {
      "application/vnd.jupyter.widget-view+json": {
       "model_id": "f098da1ce9094c66a94a8ff0d5c98d7d",
       "version_major": 2,
       "version_minor": 0
      },
      "text/plain": [
       "HBox(children=(IntProgress(value=0, max=51), HTML(value='')))"
      ]
     },
     "metadata": {},
     "output_type": "display_data"
    },
    {
     "name": "stdout",
     "output_type": "stream",
     "text": [
      "{'accuracy': 0.9151061173533084, 'roc_auc': 0.8564741002069269, 'pr_auc': 0.5478969962405897}\n"
     ]
    },
    {
     "data": {
      "text/html": [
       "<div>\n",
       "<style scoped>\n",
       "    .dataframe tbody tr th:only-of-type {\n",
       "        vertical-align: middle;\n",
       "    }\n",
       "\n",
       "    .dataframe tbody tr th {\n",
       "        vertical-align: top;\n",
       "    }\n",
       "\n",
       "    .dataframe thead th {\n",
       "        text-align: right;\n",
       "    }\n",
       "</style>\n",
       "<table border=\"1\" class=\"dataframe\">\n",
       "  <thead>\n",
       "    <tr style=\"text-align: right;\">\n",
       "      <th></th>\n",
       "      <th>0.0</th>\n",
       "      <th>1.0</th>\n",
       "      <th>micro avg</th>\n",
       "      <th>macro avg</th>\n",
       "      <th>weighted avg</th>\n",
       "    </tr>\n",
       "  </thead>\n",
       "  <tbody>\n",
       "    <tr>\n",
       "      <th>f1-score</th>\n",
       "      <td>0.952</td>\n",
       "      <td>0.630</td>\n",
       "      <td>0.915</td>\n",
       "      <td>0.791</td>\n",
       "      <td>0.919</td>\n",
       "    </tr>\n",
       "    <tr>\n",
       "      <th>precision</th>\n",
       "      <td>0.966</td>\n",
       "      <td>0.569</td>\n",
       "      <td>0.915</td>\n",
       "      <td>0.767</td>\n",
       "      <td>0.925</td>\n",
       "    </tr>\n",
       "    <tr>\n",
       "      <th>recall</th>\n",
       "      <td>0.939</td>\n",
       "      <td>0.707</td>\n",
       "      <td>0.915</td>\n",
       "      <td>0.823</td>\n",
       "      <td>0.915</td>\n",
       "    </tr>\n",
       "    <tr>\n",
       "      <th>support</th>\n",
       "      <td>719.000</td>\n",
       "      <td>82.000</td>\n",
       "      <td>801.000</td>\n",
       "      <td>801.000</td>\n",
       "      <td>801.000</td>\n",
       "    </tr>\n",
       "  </tbody>\n",
       "</table>\n",
       "</div>"
      ],
      "text/plain": [
       "               0.0     1.0  micro avg  macro avg  weighted avg\n",
       "f1-score     0.952   0.630      0.915      0.791         0.919\n",
       "precision    0.966   0.569      0.915      0.767         0.925\n",
       "recall       0.939   0.707      0.915      0.823         0.915\n",
       "support    719.000  82.000    801.000    801.000       801.000"
      ]
     },
     "metadata": {},
     "output_type": "display_data"
    },
    {
     "name": "stdout",
     "output_type": "stream",
     "text": [
      "Model Saved on  roc_auc 0.8564741002069269\n"
     ]
    },
    {
     "data": {
      "application/vnd.jupyter.widget-view+json": {
       "model_id": "b7bb66810cdc4dc7b0bb809dfd0cd30f",
       "version_major": 2,
       "version_minor": 0
      },
      "text/plain": [
       "HBox(children=(IntProgress(value=0, max=229), HTML(value='')))"
      ]
     },
     "metadata": {},
     "output_type": "display_data"
    },
    {
     "data": {
      "application/vnd.jupyter.widget-view+json": {
       "model_id": "e2a45f17542645f2aed7a5296c0af9c0",
       "version_major": 2,
       "version_minor": 0
      },
      "text/plain": [
       "HBox(children=(IntProgress(value=0, max=51), HTML(value='')))"
      ]
     },
     "metadata": {},
     "output_type": "display_data"
    },
    {
     "name": "stdout",
     "output_type": "stream",
     "text": [
      "{'accuracy': 0.9051186017478152, 'roc_auc': 0.8643441093659894, 'pr_auc': 0.5596825416356133}\n"
     ]
    },
    {
     "data": {
      "text/html": [
       "<div>\n",
       "<style scoped>\n",
       "    .dataframe tbody tr th:only-of-type {\n",
       "        vertical-align: middle;\n",
       "    }\n",
       "\n",
       "    .dataframe tbody tr th {\n",
       "        vertical-align: top;\n",
       "    }\n",
       "\n",
       "    .dataframe thead th {\n",
       "        text-align: right;\n",
       "    }\n",
       "</style>\n",
       "<table border=\"1\" class=\"dataframe\">\n",
       "  <thead>\n",
       "    <tr style=\"text-align: right;\">\n",
       "      <th></th>\n",
       "      <th>0.0</th>\n",
       "      <th>1.0</th>\n",
       "      <th>micro avg</th>\n",
       "      <th>macro avg</th>\n",
       "      <th>weighted avg</th>\n",
       "    </tr>\n",
       "  </thead>\n",
       "  <tbody>\n",
       "    <tr>\n",
       "      <th>f1-score</th>\n",
       "      <td>0.946</td>\n",
       "      <td>0.591</td>\n",
       "      <td>0.905</td>\n",
       "      <td>0.769</td>\n",
       "      <td>0.910</td>\n",
       "    </tr>\n",
       "    <tr>\n",
       "      <th>precision</th>\n",
       "      <td>0.961</td>\n",
       "      <td>0.529</td>\n",
       "      <td>0.905</td>\n",
       "      <td>0.745</td>\n",
       "      <td>0.917</td>\n",
       "    </tr>\n",
       "    <tr>\n",
       "      <th>recall</th>\n",
       "      <td>0.932</td>\n",
       "      <td>0.671</td>\n",
       "      <td>0.905</td>\n",
       "      <td>0.801</td>\n",
       "      <td>0.905</td>\n",
       "    </tr>\n",
       "    <tr>\n",
       "      <th>support</th>\n",
       "      <td>719.000</td>\n",
       "      <td>82.000</td>\n",
       "      <td>801.000</td>\n",
       "      <td>801.000</td>\n",
       "      <td>801.000</td>\n",
       "    </tr>\n",
       "  </tbody>\n",
       "</table>\n",
       "</div>"
      ],
      "text/plain": [
       "               0.0     1.0  micro avg  macro avg  weighted avg\n",
       "f1-score     0.946   0.591      0.905      0.769         0.910\n",
       "precision    0.961   0.529      0.905      0.745         0.917\n",
       "recall       0.932   0.671      0.905      0.801         0.905\n",
       "support    719.000  82.000    801.000    801.000       801.000"
      ]
     },
     "metadata": {},
     "output_type": "display_data"
    },
    {
     "name": "stdout",
     "output_type": "stream",
     "text": [
      "Model Saved on  roc_auc 0.8643441093659894\n"
     ]
    },
    {
     "data": {
      "application/vnd.jupyter.widget-view+json": {
       "model_id": "a5b91dc9da48432ca5836febae512123",
       "version_major": 2,
       "version_minor": 0
      },
      "text/plain": [
       "HBox(children=(IntProgress(value=0, max=229), HTML(value='')))"
      ]
     },
     "metadata": {},
     "output_type": "display_data"
    },
    {
     "data": {
      "application/vnd.jupyter.widget-view+json": {
       "model_id": "aee298addc81482a8e5cb7bde7793f0c",
       "version_major": 2,
       "version_minor": 0
      },
      "text/plain": [
       "HBox(children=(IntProgress(value=0, max=51), HTML(value='')))"
      ]
     },
     "metadata": {},
     "output_type": "display_data"
    },
    {
     "name": "stdout",
     "output_type": "stream",
     "text": [
      "{'accuracy': 0.8377028714107366, 'roc_auc': 0.8717561654058822, 'pr_auc': 0.5489904969403882}\n"
     ]
    },
    {
     "data": {
      "text/html": [
       "<div>\n",
       "<style scoped>\n",
       "    .dataframe tbody tr th:only-of-type {\n",
       "        vertical-align: middle;\n",
       "    }\n",
       "\n",
       "    .dataframe tbody tr th {\n",
       "        vertical-align: top;\n",
       "    }\n",
       "\n",
       "    .dataframe thead th {\n",
       "        text-align: right;\n",
       "    }\n",
       "</style>\n",
       "<table border=\"1\" class=\"dataframe\">\n",
       "  <thead>\n",
       "    <tr style=\"text-align: right;\">\n",
       "      <th></th>\n",
       "      <th>0.0</th>\n",
       "      <th>1.0</th>\n",
       "      <th>micro avg</th>\n",
       "      <th>macro avg</th>\n",
       "      <th>weighted avg</th>\n",
       "    </tr>\n",
       "  </thead>\n",
       "  <tbody>\n",
       "    <tr>\n",
       "      <th>f1-score</th>\n",
       "      <td>0.904</td>\n",
       "      <td>0.488</td>\n",
       "      <td>0.838</td>\n",
       "      <td>0.696</td>\n",
       "      <td>0.861</td>\n",
       "    </tr>\n",
       "    <tr>\n",
       "      <th>precision</th>\n",
       "      <td>0.968</td>\n",
       "      <td>0.360</td>\n",
       "      <td>0.838</td>\n",
       "      <td>0.664</td>\n",
       "      <td>0.906</td>\n",
       "    </tr>\n",
       "    <tr>\n",
       "      <th>recall</th>\n",
       "      <td>0.847</td>\n",
       "      <td>0.756</td>\n",
       "      <td>0.838</td>\n",
       "      <td>0.802</td>\n",
       "      <td>0.838</td>\n",
       "    </tr>\n",
       "    <tr>\n",
       "      <th>support</th>\n",
       "      <td>719.000</td>\n",
       "      <td>82.000</td>\n",
       "      <td>801.000</td>\n",
       "      <td>801.000</td>\n",
       "      <td>801.000</td>\n",
       "    </tr>\n",
       "  </tbody>\n",
       "</table>\n",
       "</div>"
      ],
      "text/plain": [
       "               0.0     1.0  micro avg  macro avg  weighted avg\n",
       "f1-score     0.904   0.488      0.838      0.696         0.861\n",
       "precision    0.968   0.360      0.838      0.664         0.906\n",
       "recall       0.847   0.756      0.838      0.802         0.838\n",
       "support    719.000  82.000    801.000    801.000       801.000"
      ]
     },
     "metadata": {},
     "output_type": "display_data"
    },
    {
     "name": "stdout",
     "output_type": "stream",
     "text": [
      "Model Saved on  roc_auc 0.8717561654058822\n"
     ]
    },
    {
     "data": {
      "application/vnd.jupyter.widget-view+json": {
       "model_id": "bcaa59b021244a95ad664474b2385385",
       "version_major": 2,
       "version_minor": 0
      },
      "text/plain": [
       "HBox(children=(IntProgress(value=0, max=229), HTML(value='')))"
      ]
     },
     "metadata": {},
     "output_type": "display_data"
    },
    {
     "data": {
      "application/vnd.jupyter.widget-view+json": {
       "model_id": "69464afa10d1445aa7dc7b7014855c77",
       "version_major": 2,
       "version_minor": 0
      },
      "text/plain": [
       "HBox(children=(IntProgress(value=0, max=51), HTML(value='')))"
      ]
     },
     "metadata": {},
     "output_type": "display_data"
    },
    {
     "name": "stdout",
     "output_type": "stream",
     "text": [
      "{'accuracy': 0.8539325842696629, 'roc_auc': 0.8548118999966077, 'pr_auc': 0.6075555231498826}\n"
     ]
    },
    {
     "data": {
      "text/html": [
       "<div>\n",
       "<style scoped>\n",
       "    .dataframe tbody tr th:only-of-type {\n",
       "        vertical-align: middle;\n",
       "    }\n",
       "\n",
       "    .dataframe tbody tr th {\n",
       "        vertical-align: top;\n",
       "    }\n",
       "\n",
       "    .dataframe thead th {\n",
       "        text-align: right;\n",
       "    }\n",
       "</style>\n",
       "<table border=\"1\" class=\"dataframe\">\n",
       "  <thead>\n",
       "    <tr style=\"text-align: right;\">\n",
       "      <th></th>\n",
       "      <th>0.0</th>\n",
       "      <th>1.0</th>\n",
       "      <th>micro avg</th>\n",
       "      <th>macro avg</th>\n",
       "      <th>weighted avg</th>\n",
       "    </tr>\n",
       "  </thead>\n",
       "  <tbody>\n",
       "    <tr>\n",
       "      <th>f1-score</th>\n",
       "      <td>0.915</td>\n",
       "      <td>0.498</td>\n",
       "      <td>0.854</td>\n",
       "      <td>0.706</td>\n",
       "      <td>0.872</td>\n",
       "    </tr>\n",
       "    <tr>\n",
       "      <th>precision</th>\n",
       "      <td>0.963</td>\n",
       "      <td>0.384</td>\n",
       "      <td>0.854</td>\n",
       "      <td>0.674</td>\n",
       "      <td>0.904</td>\n",
       "    </tr>\n",
       "    <tr>\n",
       "      <th>recall</th>\n",
       "      <td>0.871</td>\n",
       "      <td>0.707</td>\n",
       "      <td>0.854</td>\n",
       "      <td>0.789</td>\n",
       "      <td>0.854</td>\n",
       "    </tr>\n",
       "    <tr>\n",
       "      <th>support</th>\n",
       "      <td>719.000</td>\n",
       "      <td>82.000</td>\n",
       "      <td>801.000</td>\n",
       "      <td>801.000</td>\n",
       "      <td>801.000</td>\n",
       "    </tr>\n",
       "  </tbody>\n",
       "</table>\n",
       "</div>"
      ],
      "text/plain": [
       "               0.0     1.0  micro avg  macro avg  weighted avg\n",
       "f1-score     0.915   0.498      0.854      0.706         0.872\n",
       "precision    0.963   0.384      0.854      0.674         0.904\n",
       "recall       0.871   0.707      0.854      0.789         0.854\n",
       "support    719.000  82.000    801.000    801.000       801.000"
      ]
     },
     "metadata": {},
     "output_type": "display_data"
    },
    {
     "name": "stdout",
     "output_type": "stream",
     "text": [
      "Model not saved on  roc_auc 0.8548118999966077\n"
     ]
    },
    {
     "data": {
      "application/vnd.jupyter.widget-view+json": {
       "model_id": "8d5280c5c12b4c8e8b5d7683ea2655d5",
       "version_major": 2,
       "version_minor": 0
      },
      "text/plain": [
       "HBox(children=(IntProgress(value=0, max=229), HTML(value='')))"
      ]
     },
     "metadata": {},
     "output_type": "display_data"
    },
    {
     "data": {
      "application/vnd.jupyter.widget-view+json": {
       "model_id": "6aee4946737e482e9099780fbb73ebd4",
       "version_major": 2,
       "version_minor": 0
      },
      "text/plain": [
       "HBox(children=(IntProgress(value=0, max=51), HTML(value='')))"
      ]
     },
     "metadata": {},
     "output_type": "display_data"
    },
    {
     "name": "stdout",
     "output_type": "stream",
     "text": [
      "{'accuracy': 0.8876404494382022, 'roc_auc': 0.8766749211302962, 'pr_auc': 0.5663591811739656}\n"
     ]
    },
    {
     "data": {
      "text/html": [
       "<div>\n",
       "<style scoped>\n",
       "    .dataframe tbody tr th:only-of-type {\n",
       "        vertical-align: middle;\n",
       "    }\n",
       "\n",
       "    .dataframe tbody tr th {\n",
       "        vertical-align: top;\n",
       "    }\n",
       "\n",
       "    .dataframe thead th {\n",
       "        text-align: right;\n",
       "    }\n",
       "</style>\n",
       "<table border=\"1\" class=\"dataframe\">\n",
       "  <thead>\n",
       "    <tr style=\"text-align: right;\">\n",
       "      <th></th>\n",
       "      <th>0.0</th>\n",
       "      <th>1.0</th>\n",
       "      <th>micro avg</th>\n",
       "      <th>macro avg</th>\n",
       "      <th>weighted avg</th>\n",
       "    </tr>\n",
       "  </thead>\n",
       "  <tbody>\n",
       "    <tr>\n",
       "      <th>f1-score</th>\n",
       "      <td>0.935</td>\n",
       "      <td>0.567</td>\n",
       "      <td>0.888</td>\n",
       "      <td>0.751</td>\n",
       "      <td>0.898</td>\n",
       "    </tr>\n",
       "    <tr>\n",
       "      <th>precision</th>\n",
       "      <td>0.966</td>\n",
       "      <td>0.468</td>\n",
       "      <td>0.888</td>\n",
       "      <td>0.717</td>\n",
       "      <td>0.915</td>\n",
       "    </tr>\n",
       "    <tr>\n",
       "      <th>recall</th>\n",
       "      <td>0.907</td>\n",
       "      <td>0.720</td>\n",
       "      <td>0.888</td>\n",
       "      <td>0.813</td>\n",
       "      <td>0.888</td>\n",
       "    </tr>\n",
       "    <tr>\n",
       "      <th>support</th>\n",
       "      <td>719.000</td>\n",
       "      <td>82.000</td>\n",
       "      <td>801.000</td>\n",
       "      <td>801.000</td>\n",
       "      <td>801.000</td>\n",
       "    </tr>\n",
       "  </tbody>\n",
       "</table>\n",
       "</div>"
      ],
      "text/plain": [
       "               0.0     1.0  micro avg  macro avg  weighted avg\n",
       "f1-score     0.935   0.567      0.888      0.751         0.898\n",
       "precision    0.966   0.468      0.888      0.717         0.915\n",
       "recall       0.907   0.720      0.888      0.813         0.888\n",
       "support    719.000  82.000    801.000    801.000       801.000"
      ]
     },
     "metadata": {},
     "output_type": "display_data"
    },
    {
     "name": "stdout",
     "output_type": "stream",
     "text": [
      "Model Saved on  roc_auc 0.8766749211302962\n"
     ]
    },
    {
     "data": {
      "application/vnd.jupyter.widget-view+json": {
       "model_id": "c940e585fec84f29ab7435ac335d7d2a",
       "version_major": 2,
       "version_minor": 0
      },
      "text/plain": [
       "HBox(children=(IntProgress(value=0, max=229), HTML(value='')))"
      ]
     },
     "metadata": {},
     "output_type": "display_data"
    },
    {
     "data": {
      "application/vnd.jupyter.widget-view+json": {
       "model_id": "51cec2ad03404d859f8e7ea2d00e79bc",
       "version_major": 2,
       "version_minor": 0
      },
      "text/plain": [
       "HBox(children=(IntProgress(value=0, max=51), HTML(value='')))"
      ]
     },
     "metadata": {},
     "output_type": "display_data"
    },
    {
     "name": "stdout",
     "output_type": "stream",
     "text": [
      "{'accuracy': 0.9188514357053683, 'roc_auc': 0.8858848671935955, 'pr_auc': 0.6051373888220578}\n"
     ]
    },
    {
     "data": {
      "text/html": [
       "<div>\n",
       "<style scoped>\n",
       "    .dataframe tbody tr th:only-of-type {\n",
       "        vertical-align: middle;\n",
       "    }\n",
       "\n",
       "    .dataframe tbody tr th {\n",
       "        vertical-align: top;\n",
       "    }\n",
       "\n",
       "    .dataframe thead th {\n",
       "        text-align: right;\n",
       "    }\n",
       "</style>\n",
       "<table border=\"1\" class=\"dataframe\">\n",
       "  <thead>\n",
       "    <tr style=\"text-align: right;\">\n",
       "      <th></th>\n",
       "      <th>0.0</th>\n",
       "      <th>1.0</th>\n",
       "      <th>micro avg</th>\n",
       "      <th>macro avg</th>\n",
       "      <th>weighted avg</th>\n",
       "    </tr>\n",
       "  </thead>\n",
       "  <tbody>\n",
       "    <tr>\n",
       "      <th>f1-score</th>\n",
       "      <td>0.955</td>\n",
       "      <td>0.591</td>\n",
       "      <td>0.919</td>\n",
       "      <td>0.773</td>\n",
       "      <td>0.918</td>\n",
       "    </tr>\n",
       "    <tr>\n",
       "      <th>precision</th>\n",
       "      <td>0.952</td>\n",
       "      <td>0.610</td>\n",
       "      <td>0.919</td>\n",
       "      <td>0.781</td>\n",
       "      <td>0.917</td>\n",
       "    </tr>\n",
       "    <tr>\n",
       "      <th>recall</th>\n",
       "      <td>0.958</td>\n",
       "      <td>0.573</td>\n",
       "      <td>0.919</td>\n",
       "      <td>0.766</td>\n",
       "      <td>0.919</td>\n",
       "    </tr>\n",
       "    <tr>\n",
       "      <th>support</th>\n",
       "      <td>719.000</td>\n",
       "      <td>82.000</td>\n",
       "      <td>801.000</td>\n",
       "      <td>801.000</td>\n",
       "      <td>801.000</td>\n",
       "    </tr>\n",
       "  </tbody>\n",
       "</table>\n",
       "</div>"
      ],
      "text/plain": [
       "               0.0     1.0  micro avg  macro avg  weighted avg\n",
       "f1-score     0.955   0.591      0.919      0.773         0.918\n",
       "precision    0.952   0.610      0.919      0.781         0.917\n",
       "recall       0.958   0.573      0.919      0.766         0.919\n",
       "support    719.000  82.000    801.000    801.000       801.000"
      ]
     },
     "metadata": {},
     "output_type": "display_data"
    },
    {
     "name": "stdout",
     "output_type": "stream",
     "text": [
      "Model Saved on  roc_auc 0.8858848671935955\n"
     ]
    },
    {
     "data": {
      "application/vnd.jupyter.widget-view+json": {
       "model_id": "4143426440a14e89808a26dda0aa2de4",
       "version_major": 2,
       "version_minor": 0
      },
      "text/plain": [
       "HBox(children=(IntProgress(value=0, max=229), HTML(value='')))"
      ]
     },
     "metadata": {},
     "output_type": "display_data"
    },
    {
     "data": {
      "application/vnd.jupyter.widget-view+json": {
       "model_id": "fac699bdecca4bdc8c87522042c7f1b7",
       "version_major": 2,
       "version_minor": 0
      },
      "text/plain": [
       "HBox(children=(IntProgress(value=0, max=51), HTML(value='')))"
      ]
     },
     "metadata": {},
     "output_type": "display_data"
    },
    {
     "name": "stdout",
     "output_type": "stream",
     "text": [
      "{'accuracy': 0.8926342072409488, 'roc_auc': 0.8568642084195528, 'pr_auc': 0.5753860724030692}\n"
     ]
    },
    {
     "data": {
      "text/html": [
       "<div>\n",
       "<style scoped>\n",
       "    .dataframe tbody tr th:only-of-type {\n",
       "        vertical-align: middle;\n",
       "    }\n",
       "\n",
       "    .dataframe tbody tr th {\n",
       "        vertical-align: top;\n",
       "    }\n",
       "\n",
       "    .dataframe thead th {\n",
       "        text-align: right;\n",
       "    }\n",
       "</style>\n",
       "<table border=\"1\" class=\"dataframe\">\n",
       "  <thead>\n",
       "    <tr style=\"text-align: right;\">\n",
       "      <th></th>\n",
       "      <th>0.0</th>\n",
       "      <th>1.0</th>\n",
       "      <th>micro avg</th>\n",
       "      <th>macro avg</th>\n",
       "      <th>weighted avg</th>\n",
       "    </tr>\n",
       "  </thead>\n",
       "  <tbody>\n",
       "    <tr>\n",
       "      <th>f1-score</th>\n",
       "      <td>0.939</td>\n",
       "      <td>0.538</td>\n",
       "      <td>0.893</td>\n",
       "      <td>0.738</td>\n",
       "      <td>0.898</td>\n",
       "    </tr>\n",
       "    <tr>\n",
       "      <th>precision</th>\n",
       "      <td>0.954</td>\n",
       "      <td>0.481</td>\n",
       "      <td>0.893</td>\n",
       "      <td>0.717</td>\n",
       "      <td>0.906</td>\n",
       "    </tr>\n",
       "    <tr>\n",
       "      <th>recall</th>\n",
       "      <td>0.925</td>\n",
       "      <td>0.610</td>\n",
       "      <td>0.893</td>\n",
       "      <td>0.767</td>\n",
       "      <td>0.893</td>\n",
       "    </tr>\n",
       "    <tr>\n",
       "      <th>support</th>\n",
       "      <td>719.000</td>\n",
       "      <td>82.000</td>\n",
       "      <td>801.000</td>\n",
       "      <td>801.000</td>\n",
       "      <td>801.000</td>\n",
       "    </tr>\n",
       "  </tbody>\n",
       "</table>\n",
       "</div>"
      ],
      "text/plain": [
       "               0.0     1.0  micro avg  macro avg  weighted avg\n",
       "f1-score     0.939   0.538      0.893      0.738         0.898\n",
       "precision    0.954   0.481      0.893      0.717         0.906\n",
       "recall       0.925   0.610      0.893      0.767         0.893\n",
       "support    719.000  82.000    801.000    801.000       801.000"
      ]
     },
     "metadata": {},
     "output_type": "display_data"
    },
    {
     "name": "stdout",
     "output_type": "stream",
     "text": [
      "Model not saved on  roc_auc 0.8568642084195528\n"
     ]
    },
    {
     "data": {
      "application/vnd.jupyter.widget-view+json": {
       "model_id": "88f977fa4c7b4b8c8b60b164be26952e",
       "version_major": 2,
       "version_minor": 0
      },
      "text/plain": [
       "HBox(children=(IntProgress(value=0, max=229), HTML(value='')))"
      ]
     },
     "metadata": {},
     "output_type": "display_data"
    },
    {
     "data": {
      "application/vnd.jupyter.widget-view+json": {
       "model_id": "4387a1717901478c8c7d84ae9fcd7773",
       "version_major": 2,
       "version_minor": 0
      },
      "text/plain": [
       "HBox(children=(IntProgress(value=0, max=51), HTML(value='')))"
      ]
     },
     "metadata": {},
     "output_type": "display_data"
    },
    {
     "name": "stdout",
     "output_type": "stream",
     "text": [
      "{'accuracy': 0.9101123595505618, 'roc_auc': 0.8596882526544319, 'pr_auc': 0.6103492329875618}\n"
     ]
    },
    {
     "data": {
      "text/html": [
       "<div>\n",
       "<style scoped>\n",
       "    .dataframe tbody tr th:only-of-type {\n",
       "        vertical-align: middle;\n",
       "    }\n",
       "\n",
       "    .dataframe tbody tr th {\n",
       "        vertical-align: top;\n",
       "    }\n",
       "\n",
       "    .dataframe thead th {\n",
       "        text-align: right;\n",
       "    }\n",
       "</style>\n",
       "<table border=\"1\" class=\"dataframe\">\n",
       "  <thead>\n",
       "    <tr style=\"text-align: right;\">\n",
       "      <th></th>\n",
       "      <th>0.0</th>\n",
       "      <th>1.0</th>\n",
       "      <th>micro avg</th>\n",
       "      <th>macro avg</th>\n",
       "      <th>weighted avg</th>\n",
       "    </tr>\n",
       "  </thead>\n",
       "  <tbody>\n",
       "    <tr>\n",
       "      <th>f1-score</th>\n",
       "      <td>0.950</td>\n",
       "      <td>0.576</td>\n",
       "      <td>0.91</td>\n",
       "      <td>0.763</td>\n",
       "      <td>0.912</td>\n",
       "    </tr>\n",
       "    <tr>\n",
       "      <th>precision</th>\n",
       "      <td>0.954</td>\n",
       "      <td>0.557</td>\n",
       "      <td>0.91</td>\n",
       "      <td>0.755</td>\n",
       "      <td>0.913</td>\n",
       "    </tr>\n",
       "    <tr>\n",
       "      <th>recall</th>\n",
       "      <td>0.946</td>\n",
       "      <td>0.598</td>\n",
       "      <td>0.91</td>\n",
       "      <td>0.772</td>\n",
       "      <td>0.910</td>\n",
       "    </tr>\n",
       "    <tr>\n",
       "      <th>support</th>\n",
       "      <td>719.000</td>\n",
       "      <td>82.000</td>\n",
       "      <td>801.00</td>\n",
       "      <td>801.000</td>\n",
       "      <td>801.000</td>\n",
       "    </tr>\n",
       "  </tbody>\n",
       "</table>\n",
       "</div>"
      ],
      "text/plain": [
       "               0.0     1.0  micro avg  macro avg  weighted avg\n",
       "f1-score     0.950   0.576       0.91      0.763         0.912\n",
       "precision    0.954   0.557       0.91      0.755         0.913\n",
       "recall       0.946   0.598       0.91      0.772         0.910\n",
       "support    719.000  82.000     801.00    801.000       801.000"
      ]
     },
     "metadata": {},
     "output_type": "display_data"
    },
    {
     "name": "stderr",
     "output_type": "stream",
     "text": [
      "INFO - 2019-03-26 16:06:17,553 - instantiating class <class 'PatientVec.models.Model.Model'> from params {'type': 'seq_classifier', 'embedder': {'type': 'token_embedder', 'vocab_size': 18542, 'embed_size': 200, 'embedding_file': '../../../SurgeryData/PatientVec/preprocess/KneeSurgery/1_yrs/embedding_matrix.npy'}, 'decoder': {'num_layers': 2, 'hidden_dims': [128, 1], 'activations': ['tanh', 'linear']}, 'predictor': {'type': 'binary'}, 'structured': {'use_structured': False}, 'encoder': {'type': 'cnn', 'hidden_size': 64, 'kernel_sizes': [3, 5, 7, 9], 'activation': 'relu'}} and extras {}\n",
      "INFO - 2019-03-26 16:06:17,553 - type = seq_classifier\n",
      "INFO - 2019-03-26 16:06:17,554 - instantiating class <class 'PatientVec.models.modules.Embedder.Embedder'> from params {'type': 'token_embedder', 'vocab_size': 18542, 'embed_size': 200, 'embedding_file': '../../../SurgeryData/PatientVec/preprocess/KneeSurgery/1_yrs/embedding_matrix.npy'} and extras {}\n",
      "INFO - 2019-03-26 16:06:17,554 - embedder.type = token_embedder\n",
      "INFO - 2019-03-26 16:06:17,554 - instantiating class <class 'PatientVec.models.modules.Embedder.TokenEmbedder'> from params {'vocab_size': 18542, 'embed_size': 200, 'embedding_file': '../../../SurgeryData/PatientVec/preprocess/KneeSurgery/1_yrs/embedding_matrix.npy'} and extras {}\n",
      "INFO - 2019-03-26 16:06:17,555 - embedder.vocab_size = 18542\n",
      "INFO - 2019-03-26 16:06:17,555 - embedder.embed_size = 200\n",
      "INFO - 2019-03-26 16:06:17,555 - embedder.embedding_file = ../../../SurgeryData/PatientVec/preprocess/KneeSurgery/1_yrs/embedding_matrix.npy\n",
      "INFO - 2019-03-26 16:06:17,563 - instantiating class <class 'PatientVec.models.modules.Encoder.Encoder'> from params {'type': 'cnn', 'hidden_size': 64, 'kernel_sizes': [3, 5, 7, 9], 'activation': 'relu'} and extras {'input_size': 200}\n",
      "INFO - 2019-03-26 16:06:17,564 - encoder.type = cnn\n",
      "INFO - 2019-03-26 16:06:17,564 - instantiating class <class 'PatientVec.models.modules.Encoder.CNNEncoder'> from params {'hidden_size': 64, 'kernel_sizes': [3, 5, 7, 9], 'activation': 'relu'} and extras {'input_size': 200}\n",
      "INFO - 2019-03-26 16:06:17,564 - encoder.hidden_size = 64\n",
      "INFO - 2019-03-26 16:06:17,565 - encoder.kernel_sizes = [3, 5, 7, 9]\n",
      "INFO - 2019-03-26 16:06:17,565 - encoder.activation = relu\n",
      "INFO - 2019-03-26 16:06:17,568 - decoder.input_dim = 256\n",
      "INFO - 2019-03-26 16:06:17,569 - decoder.num_layers = 2\n",
      "INFO - 2019-03-26 16:06:17,569 - decoder.hidden_dims = [128, 1]\n",
      "INFO - 2019-03-26 16:06:17,569 - decoder.activations = ['tanh', 'linear']\n",
      "INFO - 2019-03-26 16:06:17,569 - decoder.dropout = 0.0\n",
      "INFO - 2019-03-26 16:06:17,571 - instantiating class <class 'PatientVec.models.modules.Predictor.Predictor'> from params {'type': 'binary'} and extras {}\n",
      "INFO - 2019-03-26 16:06:17,571 - predictor.type = binary\n",
      "INFO - 2019-03-26 16:06:17,571 - instantiating class <class 'PatientVec.models.modules.Predictor.Binary_Predictor'> from params {} and extras {}\n",
      "INFO - 2019-03-26 16:06:17,572 - predictor.replicate = False\n",
      "INFO - 2019-03-26 16:06:17,572 - predictor.alpha = 0.5\n"
     ]
    },
    {
     "name": "stdout",
     "output_type": "stream",
     "text": [
      "Model not saved on  roc_auc 0.8596882526544319\n",
      "\n",
      "Setting Embedding\n"
     ]
    },
    {
     "data": {
      "application/vnd.jupyter.widget-view+json": {
       "model_id": "cccb5708e10e428d8df13244b9e395ab",
       "version_major": 2,
       "version_minor": 0
      },
      "text/plain": [
       "HBox(children=(IntProgress(value=0, max=51), HTML(value='')))"
      ]
     },
     "metadata": {},
     "output_type": "display_data"
    },
    {
     "name": "stdout",
     "output_type": "stream",
     "text": [
      "\n",
      "{'accuracy': 0.9188514357053683, 'roc_auc': 0.8858848671935955, 'pr_auc': 0.6051373888220578}\n"
     ]
    },
    {
     "data": {
      "text/html": [
       "<div>\n",
       "<style scoped>\n",
       "    .dataframe tbody tr th:only-of-type {\n",
       "        vertical-align: middle;\n",
       "    }\n",
       "\n",
       "    .dataframe tbody tr th {\n",
       "        vertical-align: top;\n",
       "    }\n",
       "\n",
       "    .dataframe thead th {\n",
       "        text-align: right;\n",
       "    }\n",
       "</style>\n",
       "<table border=\"1\" class=\"dataframe\">\n",
       "  <thead>\n",
       "    <tr style=\"text-align: right;\">\n",
       "      <th></th>\n",
       "      <th>0.0</th>\n",
       "      <th>1.0</th>\n",
       "      <th>micro avg</th>\n",
       "      <th>macro avg</th>\n",
       "      <th>weighted avg</th>\n",
       "    </tr>\n",
       "  </thead>\n",
       "  <tbody>\n",
       "    <tr>\n",
       "      <th>f1-score</th>\n",
       "      <td>0.955</td>\n",
       "      <td>0.591</td>\n",
       "      <td>0.919</td>\n",
       "      <td>0.773</td>\n",
       "      <td>0.918</td>\n",
       "    </tr>\n",
       "    <tr>\n",
       "      <th>precision</th>\n",
       "      <td>0.952</td>\n",
       "      <td>0.610</td>\n",
       "      <td>0.919</td>\n",
       "      <td>0.781</td>\n",
       "      <td>0.917</td>\n",
       "    </tr>\n",
       "    <tr>\n",
       "      <th>recall</th>\n",
       "      <td>0.958</td>\n",
       "      <td>0.573</td>\n",
       "      <td>0.919</td>\n",
       "      <td>0.766</td>\n",
       "      <td>0.919</td>\n",
       "    </tr>\n",
       "    <tr>\n",
       "      <th>support</th>\n",
       "      <td>719.000</td>\n",
       "      <td>82.000</td>\n",
       "      <td>801.000</td>\n",
       "      <td>801.000</td>\n",
       "      <td>801.000</td>\n",
       "    </tr>\n",
       "  </tbody>\n",
       "</table>\n",
       "</div>"
      ],
      "text/plain": [
       "               0.0     1.0  micro avg  macro avg  weighted avg\n",
       "f1-score     0.955   0.591      0.919      0.773         0.918\n",
       "precision    0.952   0.610      0.919      0.781         0.917\n",
       "recall       0.958   0.573      0.919      0.766         0.919\n",
       "support    719.000  82.000    801.000    801.000       801.000"
      ]
     },
     "metadata": {},
     "output_type": "display_data"
    },
    {
     "name": "stderr",
     "output_type": "stream",
     "text": [
      "INFO - 2019-03-26 16:06:23,324 - instantiating class <class 'PatientVec.models.Model.Model'> from params {'type': 'seq_classifier_with_attention', 'embedder': {'type': 'token_embedder', 'vocab_size': 18542, 'embed_size': 200, 'embedding_file': '../../../SurgeryData/PatientVec/preprocess/KneeSurgery/1_yrs/embedding_matrix.npy'}, 'decoder': {'num_layers': 2, 'hidden_dims': [128, 1], 'activations': ['tanh', 'linear']}, 'predictor': {'type': 'binary'}, 'structured': {'use_structured': False}, 'encoder': {'type': 'cnn', 'hidden_size': 64, 'kernel_sizes': [3, 5, 7, 9], 'activation': 'relu'}, 'attention': {'similarity': {'type': 'additive', 'hidden_size': 128}}} and extras {}\n",
      "INFO - 2019-03-26 16:06:23,324 - type = seq_classifier_with_attention\n",
      "INFO - 2019-03-26 16:06:23,325 - instantiating class <class 'PatientVec.models.modules.Embedder.Embedder'> from params {'type': 'token_embedder', 'vocab_size': 18542, 'embed_size': 200, 'embedding_file': '../../../SurgeryData/PatientVec/preprocess/KneeSurgery/1_yrs/embedding_matrix.npy'} and extras {}\n",
      "INFO - 2019-03-26 16:06:23,325 - embedder.type = token_embedder\n",
      "INFO - 2019-03-26 16:06:23,325 - instantiating class <class 'PatientVec.models.modules.Embedder.TokenEmbedder'> from params {'vocab_size': 18542, 'embed_size': 200, 'embedding_file': '../../../SurgeryData/PatientVec/preprocess/KneeSurgery/1_yrs/embedding_matrix.npy'} and extras {}\n",
      "INFO - 2019-03-26 16:06:23,326 - embedder.vocab_size = 18542\n",
      "INFO - 2019-03-26 16:06:23,326 - embedder.embed_size = 200\n",
      "INFO - 2019-03-26 16:06:23,327 - embedder.embedding_file = ../../../SurgeryData/PatientVec/preprocess/KneeSurgery/1_yrs/embedding_matrix.npy\n",
      "INFO - 2019-03-26 16:06:23,335 - instantiating class <class 'PatientVec.models.modules.Encoder.Encoder'> from params {'type': 'cnn', 'hidden_size': 64, 'kernel_sizes': [3, 5, 7, 9], 'activation': 'relu'} and extras {'input_size': 200}\n",
      "INFO - 2019-03-26 16:06:23,336 - encoder.type = cnn\n",
      "INFO - 2019-03-26 16:06:23,336 - instantiating class <class 'PatientVec.models.modules.Encoder.CNNEncoder'> from params {'hidden_size': 64, 'kernel_sizes': [3, 5, 7, 9], 'activation': 'relu'} and extras {'input_size': 200}\n",
      "INFO - 2019-03-26 16:06:23,336 - encoder.hidden_size = 64\n",
      "INFO - 2019-03-26 16:06:23,337 - encoder.kernel_sizes = [3, 5, 7, 9]\n",
      "INFO - 2019-03-26 16:06:23,337 - encoder.activation = relu\n",
      "INFO - 2019-03-26 16:06:23,340 - instantiating class <class 'PatientVec.models.modules.SelfAttention.SelfAttention'> from params {'similarity': {'type': 'additive', 'hidden_size': 128, 'tensor_1_dim': 256}} and extras {}\n",
      "INFO - 2019-03-26 16:06:23,341 - instantiating class <class 'PatientVec.models.modules.UniSimilarity.UniSimilarity'> from params {'type': 'additive', 'hidden_size': 128, 'tensor_1_dim': 256} and extras {}\n",
      "INFO - 2019-03-26 16:06:23,341 - attention.similarity.type = additive\n",
      "INFO - 2019-03-26 16:06:23,341 - instantiating class <class 'PatientVec.models.modules.UniSimilarity.UniAdditiveSimilarity'> from params {'hidden_size': 128, 'tensor_1_dim': 256} and extras {}\n",
      "INFO - 2019-03-26 16:06:23,342 - attention.similarity.tensor_1_dim = 256\n",
      "INFO - 2019-03-26 16:06:23,342 - attention.similarity.hidden_size = 128\n",
      "INFO - 2019-03-26 16:06:23,342 - attention.similarity.output_size = 1\n",
      "INFO - 2019-03-26 16:06:23,344 - attention.normaliser = softmax\n",
      "INFO - 2019-03-26 16:06:23,344 - decoder.input_dim = 256\n",
      "INFO - 2019-03-26 16:06:23,344 - decoder.num_layers = 2\n",
      "INFO - 2019-03-26 16:06:23,344 - decoder.hidden_dims = [128, 1]\n",
      "INFO - 2019-03-26 16:06:23,345 - decoder.activations = ['tanh', 'linear']\n",
      "INFO - 2019-03-26 16:06:23,345 - decoder.dropout = 0.0\n",
      "INFO - 2019-03-26 16:06:23,346 - instantiating class <class 'PatientVec.models.modules.Predictor.Predictor'> from params {'type': 'binary'} and extras {}\n",
      "INFO - 2019-03-26 16:06:23,347 - predictor.type = binary\n",
      "INFO - 2019-03-26 16:06:23,347 - instantiating class <class 'PatientVec.models.modules.Predictor.Binary_Predictor'> from params {} and extras {}\n",
      "INFO - 2019-03-26 16:06:23,347 - predictor.replicate = False\n",
      "INFO - 2019-03-26 16:06:23,348 - predictor.alpha = 0.5\n"
     ]
    },
    {
     "name": "stdout",
     "output_type": "stream",
     "text": [
      "============================================================================================================================================================================================================================================================================================================\n",
      "{'model': {'type': 'seq_classifier_with_attention', 'embedder': {'type': 'token_embedder', 'vocab_size': 18542, 'embed_size': 200, 'embedding_file': '../../../SurgeryData/PatientVec/preprocess/KneeSurgery/1_yrs/embedding_matrix.npy'}, 'decoder': {'num_layers': 2, 'hidden_dims': [128, 1], 'activations': ['tanh', 'linear']}, 'predictor': {'type': 'binary'}, 'structured': {'use_structured': False}, 'encoder': {'type': 'cnn', 'hidden_size': 64, 'kernel_sizes': [3, 5, 7, 9], 'activation': 'relu'}, 'attention': {'similarity': {'type': 'additive', 'hidden_size': 128}}}, 'training_config': {'type': 'Adam', 'groups': [('.*', {'lr': 0.001, 'weight_decay': 1e-05})], 'common': {'bsize': 16, 'class_weight': True}}, 'exp_config': {'exp_name': 'KneeSurgery_1/Attention/CNN(hs=64)(kernels=3,5,7,9)+Attention(additive)(hs=128)', 'basepath': 'outputs/confidence'}}\n",
      "Setting Embedding\n"
     ]
    },
    {
     "data": {
      "application/vnd.jupyter.widget-view+json": {
       "model_id": "b98cc2280c314395a3da6c376681e1d3",
       "version_major": 2,
       "version_minor": 0
      },
      "text/plain": [
       "HBox(children=(IntProgress(value=0, max=8), HTML(value='')))"
      ]
     },
     "metadata": {},
     "output_type": "display_data"
    },
    {
     "data": {
      "application/vnd.jupyter.widget-view+json": {
       "model_id": "c7aac6daf36f4238a0c230ea1f339b91",
       "version_major": 2,
       "version_minor": 0
      },
      "text/plain": [
       "HBox(children=(IntProgress(value=0, max=229), HTML(value='')))"
      ]
     },
     "metadata": {},
     "output_type": "display_data"
    },
    {
     "data": {
      "application/vnd.jupyter.widget-view+json": {
       "model_id": "e70c92f894d94fa7b2a7b77951b3d15b",
       "version_major": 2,
       "version_minor": 0
      },
      "text/plain": [
       "HBox(children=(IntProgress(value=0, max=51), HTML(value='')))"
      ]
     },
     "metadata": {},
     "output_type": "display_data"
    },
    {
     "name": "stdout",
     "output_type": "stream",
     "text": [
      "{'accuracy': 0.7677902621722846, 'roc_auc': 0.8548627836765154, 'pr_auc': 0.5229839732205648}\n"
     ]
    },
    {
     "data": {
      "text/html": [
       "<div>\n",
       "<style scoped>\n",
       "    .dataframe tbody tr th:only-of-type {\n",
       "        vertical-align: middle;\n",
       "    }\n",
       "\n",
       "    .dataframe tbody tr th {\n",
       "        vertical-align: top;\n",
       "    }\n",
       "\n",
       "    .dataframe thead th {\n",
       "        text-align: right;\n",
       "    }\n",
       "</style>\n",
       "<table border=\"1\" class=\"dataframe\">\n",
       "  <thead>\n",
       "    <tr style=\"text-align: right;\">\n",
       "      <th></th>\n",
       "      <th>0.0</th>\n",
       "      <th>1.0</th>\n",
       "      <th>micro avg</th>\n",
       "      <th>macro avg</th>\n",
       "      <th>weighted avg</th>\n",
       "    </tr>\n",
       "  </thead>\n",
       "  <tbody>\n",
       "    <tr>\n",
       "      <th>f1-score</th>\n",
       "      <td>0.855</td>\n",
       "      <td>0.411</td>\n",
       "      <td>0.768</td>\n",
       "      <td>0.633</td>\n",
       "      <td>0.810</td>\n",
       "    </tr>\n",
       "    <tr>\n",
       "      <th>precision</th>\n",
       "      <td>0.970</td>\n",
       "      <td>0.278</td>\n",
       "      <td>0.768</td>\n",
       "      <td>0.624</td>\n",
       "      <td>0.899</td>\n",
       "    </tr>\n",
       "    <tr>\n",
       "      <th>recall</th>\n",
       "      <td>0.765</td>\n",
       "      <td>0.793</td>\n",
       "      <td>0.768</td>\n",
       "      <td>0.779</td>\n",
       "      <td>0.768</td>\n",
       "    </tr>\n",
       "    <tr>\n",
       "      <th>support</th>\n",
       "      <td>719.000</td>\n",
       "      <td>82.000</td>\n",
       "      <td>801.000</td>\n",
       "      <td>801.000</td>\n",
       "      <td>801.000</td>\n",
       "    </tr>\n",
       "  </tbody>\n",
       "</table>\n",
       "</div>"
      ],
      "text/plain": [
       "               0.0     1.0  micro avg  macro avg  weighted avg\n",
       "f1-score     0.855   0.411      0.768      0.633         0.810\n",
       "precision    0.970   0.278      0.768      0.624         0.899\n",
       "recall       0.765   0.793      0.768      0.779         0.768\n",
       "support    719.000  82.000    801.000    801.000       801.000"
      ]
     },
     "metadata": {},
     "output_type": "display_data"
    },
    {
     "name": "stdout",
     "output_type": "stream",
     "text": [
      "Model Saved on  roc_auc 0.8548627836765154\n"
     ]
    },
    {
     "data": {
      "application/vnd.jupyter.widget-view+json": {
       "model_id": "74ce82a87ccd4b7b9d4fe84d6e350eb6",
       "version_major": 2,
       "version_minor": 0
      },
      "text/plain": [
       "HBox(children=(IntProgress(value=0, max=229), HTML(value='')))"
      ]
     },
     "metadata": {},
     "output_type": "display_data"
    },
    {
     "data": {
      "application/vnd.jupyter.widget-view+json": {
       "model_id": "084b9b763fb34d968fb7c4814ab463d5",
       "version_major": 2,
       "version_minor": 0
      },
      "text/plain": [
       "HBox(children=(IntProgress(value=0, max=51), HTML(value='')))"
      ]
     },
     "metadata": {},
     "output_type": "display_data"
    },
    {
     "name": "stdout",
     "output_type": "stream",
     "text": [
      "{'accuracy': 0.9038701622971286, 'roc_auc': 0.8654635503239594, 'pr_auc': 0.5343187273535589}\n"
     ]
    },
    {
     "data": {
      "text/html": [
       "<div>\n",
       "<style scoped>\n",
       "    .dataframe tbody tr th:only-of-type {\n",
       "        vertical-align: middle;\n",
       "    }\n",
       "\n",
       "    .dataframe tbody tr th {\n",
       "        vertical-align: top;\n",
       "    }\n",
       "\n",
       "    .dataframe thead th {\n",
       "        text-align: right;\n",
       "    }\n",
       "</style>\n",
       "<table border=\"1\" class=\"dataframe\">\n",
       "  <thead>\n",
       "    <tr style=\"text-align: right;\">\n",
       "      <th></th>\n",
       "      <th>0.0</th>\n",
       "      <th>1.0</th>\n",
       "      <th>micro avg</th>\n",
       "      <th>macro avg</th>\n",
       "      <th>weighted avg</th>\n",
       "    </tr>\n",
       "  </thead>\n",
       "  <tbody>\n",
       "    <tr>\n",
       "      <th>f1-score</th>\n",
       "      <td>0.945</td>\n",
       "      <td>0.601</td>\n",
       "      <td>0.904</td>\n",
       "      <td>0.773</td>\n",
       "      <td>0.910</td>\n",
       "    </tr>\n",
       "    <tr>\n",
       "      <th>precision</th>\n",
       "      <td>0.965</td>\n",
       "      <td>0.523</td>\n",
       "      <td>0.904</td>\n",
       "      <td>0.744</td>\n",
       "      <td>0.920</td>\n",
       "    </tr>\n",
       "    <tr>\n",
       "      <th>recall</th>\n",
       "      <td>0.926</td>\n",
       "      <td>0.707</td>\n",
       "      <td>0.904</td>\n",
       "      <td>0.817</td>\n",
       "      <td>0.904</td>\n",
       "    </tr>\n",
       "    <tr>\n",
       "      <th>support</th>\n",
       "      <td>719.000</td>\n",
       "      <td>82.000</td>\n",
       "      <td>801.000</td>\n",
       "      <td>801.000</td>\n",
       "      <td>801.000</td>\n",
       "    </tr>\n",
       "  </tbody>\n",
       "</table>\n",
       "</div>"
      ],
      "text/plain": [
       "               0.0     1.0  micro avg  macro avg  weighted avg\n",
       "f1-score     0.945   0.601      0.904      0.773         0.910\n",
       "precision    0.965   0.523      0.904      0.744         0.920\n",
       "recall       0.926   0.707      0.904      0.817         0.904\n",
       "support    719.000  82.000    801.000    801.000       801.000"
      ]
     },
     "metadata": {},
     "output_type": "display_data"
    },
    {
     "name": "stdout",
     "output_type": "stream",
     "text": [
      "Model Saved on  roc_auc 0.8654635503239594\n"
     ]
    },
    {
     "data": {
      "application/vnd.jupyter.widget-view+json": {
       "model_id": "a15f36d7b92b4052974d17e16283f4de",
       "version_major": 2,
       "version_minor": 0
      },
      "text/plain": [
       "HBox(children=(IntProgress(value=0, max=229), HTML(value='')))"
      ]
     },
     "metadata": {},
     "output_type": "display_data"
    },
    {
     "data": {
      "application/vnd.jupyter.widget-view+json": {
       "model_id": "4152211b2fde4a9d9c80d28ce2a417e6",
       "version_major": 2,
       "version_minor": 0
      },
      "text/plain": [
       "HBox(children=(IntProgress(value=0, max=51), HTML(value='')))"
      ]
     },
     "metadata": {},
     "output_type": "display_data"
    },
    {
     "name": "stdout",
     "output_type": "stream",
     "text": [
      "{'accuracy': 0.9176029962546817, 'roc_auc': 0.8614098171579769, 'pr_auc': 0.5472767660260572}\n"
     ]
    },
    {
     "data": {
      "text/html": [
       "<div>\n",
       "<style scoped>\n",
       "    .dataframe tbody tr th:only-of-type {\n",
       "        vertical-align: middle;\n",
       "    }\n",
       "\n",
       "    .dataframe tbody tr th {\n",
       "        vertical-align: top;\n",
       "    }\n",
       "\n",
       "    .dataframe thead th {\n",
       "        text-align: right;\n",
       "    }\n",
       "</style>\n",
       "<table border=\"1\" class=\"dataframe\">\n",
       "  <thead>\n",
       "    <tr style=\"text-align: right;\">\n",
       "      <th></th>\n",
       "      <th>0.0</th>\n",
       "      <th>1.0</th>\n",
       "      <th>micro avg</th>\n",
       "      <th>macro avg</th>\n",
       "      <th>weighted avg</th>\n",
       "    </tr>\n",
       "  </thead>\n",
       "  <tbody>\n",
       "    <tr>\n",
       "      <th>f1-score</th>\n",
       "      <td>0.954</td>\n",
       "      <td>0.629</td>\n",
       "      <td>0.918</td>\n",
       "      <td>0.791</td>\n",
       "      <td>0.920</td>\n",
       "    </tr>\n",
       "    <tr>\n",
       "      <th>precision</th>\n",
       "      <td>0.963</td>\n",
       "      <td>0.583</td>\n",
       "      <td>0.918</td>\n",
       "      <td>0.773</td>\n",
       "      <td>0.924</td>\n",
       "    </tr>\n",
       "    <tr>\n",
       "      <th>recall</th>\n",
       "      <td>0.944</td>\n",
       "      <td>0.683</td>\n",
       "      <td>0.918</td>\n",
       "      <td>0.814</td>\n",
       "      <td>0.918</td>\n",
       "    </tr>\n",
       "    <tr>\n",
       "      <th>support</th>\n",
       "      <td>719.000</td>\n",
       "      <td>82.000</td>\n",
       "      <td>801.000</td>\n",
       "      <td>801.000</td>\n",
       "      <td>801.000</td>\n",
       "    </tr>\n",
       "  </tbody>\n",
       "</table>\n",
       "</div>"
      ],
      "text/plain": [
       "               0.0     1.0  micro avg  macro avg  weighted avg\n",
       "f1-score     0.954   0.629      0.918      0.791         0.920\n",
       "precision    0.963   0.583      0.918      0.773         0.924\n",
       "recall       0.944   0.683      0.918      0.814         0.918\n",
       "support    719.000  82.000    801.000    801.000       801.000"
      ]
     },
     "metadata": {},
     "output_type": "display_data"
    },
    {
     "name": "stdout",
     "output_type": "stream",
     "text": [
      "Model not saved on  roc_auc 0.8614098171579769\n"
     ]
    },
    {
     "data": {
      "application/vnd.jupyter.widget-view+json": {
       "model_id": "69c9cc72372141a582bb7030c8aadcac",
       "version_major": 2,
       "version_minor": 0
      },
      "text/plain": [
       "HBox(children=(IntProgress(value=0, max=229), HTML(value='')))"
      ]
     },
     "metadata": {},
     "output_type": "display_data"
    },
    {
     "data": {
      "application/vnd.jupyter.widget-view+json": {
       "model_id": "a0ca6706fd444b73aa0199b6e3ab8034",
       "version_major": 2,
       "version_minor": 0
      },
      "text/plain": [
       "HBox(children=(IntProgress(value=0, max=51), HTML(value='')))"
      ]
     },
     "metadata": {},
     "output_type": "display_data"
    },
    {
     "name": "stdout",
     "output_type": "stream",
     "text": [
      "{'accuracy': 0.8002496878901373, 'roc_auc': 0.8495878421927474, 'pr_auc': 0.5432854354521623}\n"
     ]
    },
    {
     "data": {
      "text/html": [
       "<div>\n",
       "<style scoped>\n",
       "    .dataframe tbody tr th:only-of-type {\n",
       "        vertical-align: middle;\n",
       "    }\n",
       "\n",
       "    .dataframe tbody tr th {\n",
       "        vertical-align: top;\n",
       "    }\n",
       "\n",
       "    .dataframe thead th {\n",
       "        text-align: right;\n",
       "    }\n",
       "</style>\n",
       "<table border=\"1\" class=\"dataframe\">\n",
       "  <thead>\n",
       "    <tr style=\"text-align: right;\">\n",
       "      <th></th>\n",
       "      <th>0.0</th>\n",
       "      <th>1.0</th>\n",
       "      <th>micro avg</th>\n",
       "      <th>macro avg</th>\n",
       "      <th>weighted avg</th>\n",
       "    </tr>\n",
       "  </thead>\n",
       "  <tbody>\n",
       "    <tr>\n",
       "      <th>f1-score</th>\n",
       "      <td>0.878</td>\n",
       "      <td>0.441</td>\n",
       "      <td>0.8</td>\n",
       "      <td>0.659</td>\n",
       "      <td>0.834</td>\n",
       "    </tr>\n",
       "    <tr>\n",
       "      <th>precision</th>\n",
       "      <td>0.968</td>\n",
       "      <td>0.309</td>\n",
       "      <td>0.8</td>\n",
       "      <td>0.638</td>\n",
       "      <td>0.901</td>\n",
       "    </tr>\n",
       "    <tr>\n",
       "      <th>recall</th>\n",
       "      <td>0.804</td>\n",
       "      <td>0.768</td>\n",
       "      <td>0.8</td>\n",
       "      <td>0.786</td>\n",
       "      <td>0.800</td>\n",
       "    </tr>\n",
       "    <tr>\n",
       "      <th>support</th>\n",
       "      <td>719.000</td>\n",
       "      <td>82.000</td>\n",
       "      <td>801.0</td>\n",
       "      <td>801.000</td>\n",
       "      <td>801.000</td>\n",
       "    </tr>\n",
       "  </tbody>\n",
       "</table>\n",
       "</div>"
      ],
      "text/plain": [
       "               0.0     1.0  micro avg  macro avg  weighted avg\n",
       "f1-score     0.878   0.441        0.8      0.659         0.834\n",
       "precision    0.968   0.309        0.8      0.638         0.901\n",
       "recall       0.804   0.768        0.8      0.786         0.800\n",
       "support    719.000  82.000      801.0    801.000       801.000"
      ]
     },
     "metadata": {},
     "output_type": "display_data"
    },
    {
     "name": "stdout",
     "output_type": "stream",
     "text": [
      "Model not saved on  roc_auc 0.8495878421927474\n"
     ]
    },
    {
     "data": {
      "application/vnd.jupyter.widget-view+json": {
       "model_id": "0acbf56186f84efebfa9e4d94fbbff4a",
       "version_major": 2,
       "version_minor": 0
      },
      "text/plain": [
       "HBox(children=(IntProgress(value=0, max=229), HTML(value='')))"
      ]
     },
     "metadata": {},
     "output_type": "display_data"
    },
    {
     "data": {
      "application/vnd.jupyter.widget-view+json": {
       "model_id": "47718e7907df44b2936ed632f382826a",
       "version_major": 2,
       "version_minor": 0
      },
      "text/plain": [
       "HBox(children=(IntProgress(value=0, max=51), HTML(value='')))"
      ]
     },
     "metadata": {},
     "output_type": "display_data"
    },
    {
     "name": "stdout",
     "output_type": "stream",
     "text": [
      "{'accuracy': 0.8976279650436954, 'roc_auc': 0.8590013229756776, 'pr_auc': 0.5620854798639686}\n"
     ]
    },
    {
     "data": {
      "text/html": [
       "<div>\n",
       "<style scoped>\n",
       "    .dataframe tbody tr th:only-of-type {\n",
       "        vertical-align: middle;\n",
       "    }\n",
       "\n",
       "    .dataframe tbody tr th {\n",
       "        vertical-align: top;\n",
       "    }\n",
       "\n",
       "    .dataframe thead th {\n",
       "        text-align: right;\n",
       "    }\n",
       "</style>\n",
       "<table border=\"1\" class=\"dataframe\">\n",
       "  <thead>\n",
       "    <tr style=\"text-align: right;\">\n",
       "      <th></th>\n",
       "      <th>0.0</th>\n",
       "      <th>1.0</th>\n",
       "      <th>micro avg</th>\n",
       "      <th>macro avg</th>\n",
       "      <th>weighted avg</th>\n",
       "    </tr>\n",
       "  </thead>\n",
       "  <tbody>\n",
       "    <tr>\n",
       "      <th>f1-score</th>\n",
       "      <td>0.941</td>\n",
       "      <td>0.594</td>\n",
       "      <td>0.898</td>\n",
       "      <td>0.768</td>\n",
       "      <td>0.906</td>\n",
       "    </tr>\n",
       "    <tr>\n",
       "      <th>precision</th>\n",
       "      <td>0.968</td>\n",
       "      <td>0.500</td>\n",
       "      <td>0.898</td>\n",
       "      <td>0.734</td>\n",
       "      <td>0.920</td>\n",
       "    </tr>\n",
       "    <tr>\n",
       "      <th>recall</th>\n",
       "      <td>0.917</td>\n",
       "      <td>0.732</td>\n",
       "      <td>0.898</td>\n",
       "      <td>0.824</td>\n",
       "      <td>0.898</td>\n",
       "    </tr>\n",
       "    <tr>\n",
       "      <th>support</th>\n",
       "      <td>719.000</td>\n",
       "      <td>82.000</td>\n",
       "      <td>801.000</td>\n",
       "      <td>801.000</td>\n",
       "      <td>801.000</td>\n",
       "    </tr>\n",
       "  </tbody>\n",
       "</table>\n",
       "</div>"
      ],
      "text/plain": [
       "               0.0     1.0  micro avg  macro avg  weighted avg\n",
       "f1-score     0.941   0.594      0.898      0.768         0.906\n",
       "precision    0.968   0.500      0.898      0.734         0.920\n",
       "recall       0.917   0.732      0.898      0.824         0.898\n",
       "support    719.000  82.000    801.000    801.000       801.000"
      ]
     },
     "metadata": {},
     "output_type": "display_data"
    },
    {
     "name": "stderr",
     "output_type": "stream",
     "text": [
      "INFO - 2019-03-26 16:09:12,916 - instantiating class <class 'PatientVec.models.Model.Model'> from params {'type': 'seq_classifier_with_attention', 'embedder': {'type': 'token_embedder', 'vocab_size': 18542, 'embed_size': 200, 'embedding_file': '../../../SurgeryData/PatientVec/preprocess/KneeSurgery/1_yrs/embedding_matrix.npy'}, 'decoder': {'num_layers': 2, 'hidden_dims': [128, 1], 'activations': ['tanh', 'linear']}, 'predictor': {'type': 'binary'}, 'structured': {'use_structured': False}, 'encoder': {'type': 'cnn', 'hidden_size': 64, 'kernel_sizes': [3, 5, 7, 9], 'activation': 'relu'}, 'attention': {'similarity': {'type': 'additive', 'hidden_size': 128}}} and extras {}\n",
      "INFO - 2019-03-26 16:09:12,917 - type = seq_classifier_with_attention\n",
      "INFO - 2019-03-26 16:09:12,917 - instantiating class <class 'PatientVec.models.modules.Embedder.Embedder'> from params {'type': 'token_embedder', 'vocab_size': 18542, 'embed_size': 200, 'embedding_file': '../../../SurgeryData/PatientVec/preprocess/KneeSurgery/1_yrs/embedding_matrix.npy'} and extras {}\n",
      "INFO - 2019-03-26 16:09:12,917 - embedder.type = token_embedder\n",
      "INFO - 2019-03-26 16:09:12,918 - instantiating class <class 'PatientVec.models.modules.Embedder.TokenEmbedder'> from params {'vocab_size': 18542, 'embed_size': 200, 'embedding_file': '../../../SurgeryData/PatientVec/preprocess/KneeSurgery/1_yrs/embedding_matrix.npy'} and extras {}\n",
      "INFO - 2019-03-26 16:09:12,918 - embedder.vocab_size = 18542\n",
      "INFO - 2019-03-26 16:09:12,918 - embedder.embed_size = 200\n",
      "INFO - 2019-03-26 16:09:12,919 - embedder.embedding_file = ../../../SurgeryData/PatientVec/preprocess/KneeSurgery/1_yrs/embedding_matrix.npy\n",
      "INFO - 2019-03-26 16:09:12,927 - instantiating class <class 'PatientVec.models.modules.Encoder.Encoder'> from params {'type': 'cnn', 'hidden_size': 64, 'kernel_sizes': [3, 5, 7, 9], 'activation': 'relu'} and extras {'input_size': 200}\n",
      "INFO - 2019-03-26 16:09:12,927 - encoder.type = cnn\n",
      "INFO - 2019-03-26 16:09:12,928 - instantiating class <class 'PatientVec.models.modules.Encoder.CNNEncoder'> from params {'hidden_size': 64, 'kernel_sizes': [3, 5, 7, 9], 'activation': 'relu'} and extras {'input_size': 200}\n",
      "INFO - 2019-03-26 16:09:12,928 - encoder.hidden_size = 64\n",
      "INFO - 2019-03-26 16:09:12,928 - encoder.kernel_sizes = [3, 5, 7, 9]\n",
      "INFO - 2019-03-26 16:09:12,928 - encoder.activation = relu\n",
      "INFO - 2019-03-26 16:09:12,932 - instantiating class <class 'PatientVec.models.modules.SelfAttention.SelfAttention'> from params {'similarity': {'type': 'additive', 'hidden_size': 128, 'tensor_1_dim': 256}} and extras {}\n",
      "INFO - 2019-03-26 16:09:12,932 - instantiating class <class 'PatientVec.models.modules.UniSimilarity.UniSimilarity'> from params {'type': 'additive', 'hidden_size': 128, 'tensor_1_dim': 256} and extras {}\n",
      "INFO - 2019-03-26 16:09:12,932 - attention.similarity.type = additive\n",
      "INFO - 2019-03-26 16:09:12,932 - instantiating class <class 'PatientVec.models.modules.UniSimilarity.UniAdditiveSimilarity'> from params {'hidden_size': 128, 'tensor_1_dim': 256} and extras {}\n",
      "INFO - 2019-03-26 16:09:12,933 - attention.similarity.tensor_1_dim = 256\n",
      "INFO - 2019-03-26 16:09:12,933 - attention.similarity.hidden_size = 128\n",
      "INFO - 2019-03-26 16:09:12,933 - attention.similarity.output_size = 1\n",
      "INFO - 2019-03-26 16:09:12,934 - attention.normaliser = softmax\n",
      "INFO - 2019-03-26 16:09:12,935 - decoder.input_dim = 256\n",
      "INFO - 2019-03-26 16:09:12,935 - decoder.num_layers = 2\n",
      "INFO - 2019-03-26 16:09:12,935 - decoder.hidden_dims = [128, 1]\n",
      "INFO - 2019-03-26 16:09:12,935 - decoder.activations = ['tanh', 'linear']\n",
      "INFO - 2019-03-26 16:09:12,936 - decoder.dropout = 0.0\n",
      "INFO - 2019-03-26 16:09:12,937 - instantiating class <class 'PatientVec.models.modules.Predictor.Predictor'> from params {'type': 'binary'} and extras {}\n",
      "INFO - 2019-03-26 16:09:12,937 - predictor.type = binary\n",
      "INFO - 2019-03-26 16:09:12,937 - instantiating class <class 'PatientVec.models.modules.Predictor.Binary_Predictor'> from params {} and extras {}\n",
      "INFO - 2019-03-26 16:09:12,938 - predictor.replicate = False\n",
      "INFO - 2019-03-26 16:09:12,938 - predictor.alpha = 0.5\n"
     ]
    },
    {
     "name": "stdout",
     "output_type": "stream",
     "text": [
      "Model not saved on  roc_auc 0.8590013229756776\n",
      "0.8654635503239594 deque([0.8614098171579769, 0.8495878421927474, 0.8590013229756776], maxlen=3)\n",
      "\n",
      "Setting Embedding\n"
     ]
    },
    {
     "data": {
      "application/vnd.jupyter.widget-view+json": {
       "model_id": "e365baea5b064170a321dd14b230937f",
       "version_major": 2,
       "version_minor": 0
      },
      "text/plain": [
       "HBox(children=(IntProgress(value=0, max=51), HTML(value='')))"
      ]
     },
     "metadata": {},
     "output_type": "display_data"
    },
    {
     "name": "stdout",
     "output_type": "stream",
     "text": [
      "\n",
      "{'accuracy': 0.9038701622971286, 'roc_auc': 0.8654635503239594, 'pr_auc': 0.5343187273535589}\n"
     ]
    },
    {
     "data": {
      "text/html": [
       "<div>\n",
       "<style scoped>\n",
       "    .dataframe tbody tr th:only-of-type {\n",
       "        vertical-align: middle;\n",
       "    }\n",
       "\n",
       "    .dataframe tbody tr th {\n",
       "        vertical-align: top;\n",
       "    }\n",
       "\n",
       "    .dataframe thead th {\n",
       "        text-align: right;\n",
       "    }\n",
       "</style>\n",
       "<table border=\"1\" class=\"dataframe\">\n",
       "  <thead>\n",
       "    <tr style=\"text-align: right;\">\n",
       "      <th></th>\n",
       "      <th>0.0</th>\n",
       "      <th>1.0</th>\n",
       "      <th>micro avg</th>\n",
       "      <th>macro avg</th>\n",
       "      <th>weighted avg</th>\n",
       "    </tr>\n",
       "  </thead>\n",
       "  <tbody>\n",
       "    <tr>\n",
       "      <th>f1-score</th>\n",
       "      <td>0.945</td>\n",
       "      <td>0.601</td>\n",
       "      <td>0.904</td>\n",
       "      <td>0.773</td>\n",
       "      <td>0.910</td>\n",
       "    </tr>\n",
       "    <tr>\n",
       "      <th>precision</th>\n",
       "      <td>0.965</td>\n",
       "      <td>0.523</td>\n",
       "      <td>0.904</td>\n",
       "      <td>0.744</td>\n",
       "      <td>0.920</td>\n",
       "    </tr>\n",
       "    <tr>\n",
       "      <th>recall</th>\n",
       "      <td>0.926</td>\n",
       "      <td>0.707</td>\n",
       "      <td>0.904</td>\n",
       "      <td>0.817</td>\n",
       "      <td>0.904</td>\n",
       "    </tr>\n",
       "    <tr>\n",
       "      <th>support</th>\n",
       "      <td>719.000</td>\n",
       "      <td>82.000</td>\n",
       "      <td>801.000</td>\n",
       "      <td>801.000</td>\n",
       "      <td>801.000</td>\n",
       "    </tr>\n",
       "  </tbody>\n",
       "</table>\n",
       "</div>"
      ],
      "text/plain": [
       "               0.0     1.0  micro avg  macro avg  weighted avg\n",
       "f1-score     0.945   0.601      0.904      0.773         0.910\n",
       "precision    0.965   0.523      0.904      0.744         0.920\n",
       "recall       0.926   0.707      0.904      0.817         0.904\n",
       "support    719.000  82.000    801.000    801.000       801.000"
      ]
     },
     "metadata": {},
     "output_type": "display_data"
    },
    {
     "name": "stderr",
     "output_type": "stream",
     "text": [
      "INFO - 2019-03-26 16:09:19,801 - Reading Structured data ...\n"
     ]
    },
    {
     "name": "stdout",
     "output_type": "stream",
     "text": [
      "============================================================================================================================================================================================================================================================================================================\n"
     ]
    },
    {
     "name": "stderr",
     "output_type": "stream",
     "text": [
      "INFO - 2019-03-26 16:09:19,959 - Reading Notes ...\n",
      "INFO - 2019-03-26 16:09:20,771 - Stratifying ...\n"
     ]
    },
    {
     "name": "stdout",
     "output_type": "stream",
     "text": [
      "Pos Percentage [0.10104053]\n"
     ]
    },
    {
     "name": "stderr",
     "output_type": "stream",
     "text": [
      "INFO - 2019-03-26 16:09:21,244 - Maximum Sentence Length 169921.000000 , 90 percentile length 19951.000000 ... \n",
      "INFO - 2019-03-26 16:09:22,043 - Truncated all ...\n",
      "INFO - 2019-03-26 16:09:22,047 - Idxs removed []...\n",
      "INFO - 2019-03-26 16:09:22,178 - Maximum Sentence Length 55858.000000 , 90 percentile length 19968.000000 ... \n"
     ]
    },
    {
     "name": "stdout",
     "output_type": "stream",
     "text": [
      "Pos Percentage [0.10237203]\n"
     ]
    },
    {
     "name": "stderr",
     "output_type": "stream",
     "text": [
      "INFO - 2019-03-26 16:09:22,822 - Truncated all ...\n",
      "INFO - 2019-03-26 16:09:22,823 - Idxs removed []...\n",
      "INFO - 2019-03-26 16:09:22,838 - instantiating class <class 'PatientVec.models.Model.Model'> from params {'type': 'seq_classifier', 'embedder': {'type': 'token_embedder', 'vocab_size': 18542, 'embed_size': 200, 'embedding_file': '../../../SurgeryData/PatientVec/preprocess/KneeSurgery/1_yrs/embedding_matrix.npy'}, 'decoder': {'num_layers': 2, 'hidden_dims': [128, 1], 'activations': ['tanh', 'linear']}, 'predictor': {'type': 'binary'}, 'structured': {'use_structured': False}, 'encoder': {'type': 'lstm', 'hidden_size': 128}} and extras {}\n",
      "INFO - 2019-03-26 16:09:22,839 - type = seq_classifier\n",
      "INFO - 2019-03-26 16:09:22,839 - instantiating class <class 'PatientVec.models.modules.Embedder.Embedder'> from params {'type': 'token_embedder', 'vocab_size': 18542, 'embed_size': 200, 'embedding_file': '../../../SurgeryData/PatientVec/preprocess/KneeSurgery/1_yrs/embedding_matrix.npy'} and extras {}\n",
      "INFO - 2019-03-26 16:09:22,839 - embedder.type = token_embedder\n",
      "INFO - 2019-03-26 16:09:22,840 - instantiating class <class 'PatientVec.models.modules.Embedder.TokenEmbedder'> from params {'vocab_size': 18542, 'embed_size': 200, 'embedding_file': '../../../SurgeryData/PatientVec/preprocess/KneeSurgery/1_yrs/embedding_matrix.npy'} and extras {}\n",
      "INFO - 2019-03-26 16:09:22,840 - embedder.vocab_size = 18542\n",
      "INFO - 2019-03-26 16:09:22,840 - embedder.embed_size = 200\n",
      "INFO - 2019-03-26 16:09:22,840 - embedder.embedding_file = ../../../SurgeryData/PatientVec/preprocess/KneeSurgery/1_yrs/embedding_matrix.npy\n",
      "INFO - 2019-03-26 16:09:22,849 - instantiating class <class 'PatientVec.models.modules.Encoder.Encoder'> from params {'type': 'lstm', 'hidden_size': 128} and extras {'input_size': 200}\n",
      "INFO - 2019-03-26 16:09:22,849 - encoder.type = lstm\n",
      "INFO - 2019-03-26 16:09:22,849 - instantiating class <class 'PatientVec.models.modules.Encoder.wrap_pytorch_rnn.<locals>.BiRNNEncoder'> from params {'hidden_size': 128} and extras {'input_size': 200}\n",
      "INFO - 2019-03-26 16:09:22,850 - encoder.hidden_size = 128\n",
      "INFO - 2019-03-26 16:09:22,852 - decoder.input_dim = 256\n",
      "INFO - 2019-03-26 16:09:22,852 - decoder.num_layers = 2\n",
      "INFO - 2019-03-26 16:09:22,852 - decoder.hidden_dims = [128, 1]\n",
      "INFO - 2019-03-26 16:09:22,853 - decoder.activations = ['tanh', 'linear']\n",
      "INFO - 2019-03-26 16:09:22,853 - decoder.dropout = 0.0\n",
      "INFO - 2019-03-26 16:09:22,854 - instantiating class <class 'PatientVec.models.modules.Predictor.Predictor'> from params {'type': 'binary'} and extras {}\n",
      "INFO - 2019-03-26 16:09:22,854 - predictor.type = binary\n",
      "INFO - 2019-03-26 16:09:22,854 - instantiating class <class 'PatientVec.models.modules.Predictor.Binary_Predictor'> from params {} and extras {}\n",
      "INFO - 2019-03-26 16:09:22,855 - predictor.replicate = False\n",
      "INFO - 2019-03-26 16:09:22,855 - predictor.alpha = 0.5\n"
     ]
    },
    {
     "name": "stdout",
     "output_type": "stream",
     "text": [
      "{'model': {'type': 'seq_classifier', 'embedder': {'type': 'token_embedder', 'vocab_size': 18542, 'embed_size': 200, 'embedding_file': '../../../SurgeryData/PatientVec/preprocess/KneeSurgery/1_yrs/embedding_matrix.npy'}, 'decoder': {'num_layers': 2, 'hidden_dims': [128, 1], 'activations': ['tanh', 'linear']}, 'predictor': {'type': 'binary'}, 'structured': {'use_structured': False}, 'encoder': {'type': 'lstm', 'hidden_size': 128}}, 'training_config': {'type': 'Adam', 'groups': [('.*', {'lr': 0.001, 'weight_decay': 1e-05})], 'common': {'bsize': 16, 'class_weight': True}}, 'exp_config': {'exp_name': 'KneeSurgery_1/Basic/LSTM(hs=128)', 'basepath': 'outputs/confidence'}}\n",
      "Setting Embedding\n"
     ]
    },
    {
     "data": {
      "application/vnd.jupyter.widget-view+json": {
       "model_id": "2a4b11890ebc4739bf399e7b8b494ae9",
       "version_major": 2,
       "version_minor": 0
      },
      "text/plain": [
       "HBox(children=(IntProgress(value=0, max=8), HTML(value='')))"
      ]
     },
     "metadata": {},
     "output_type": "display_data"
    },
    {
     "data": {
      "application/vnd.jupyter.widget-view+json": {
       "model_id": "e855541c13924a0f88b1b1ef6a772601",
       "version_major": 2,
       "version_minor": 0
      },
      "text/plain": [
       "HBox(children=(IntProgress(value=0, max=229), HTML(value='')))"
      ]
     },
     "metadata": {},
     "output_type": "display_data"
    },
    {
     "data": {
      "application/vnd.jupyter.widget-view+json": {
       "model_id": "e1c76749758c400d9b4c5638deda88b7",
       "version_major": 2,
       "version_minor": 0
      },
      "text/plain": [
       "HBox(children=(IntProgress(value=0, max=51), HTML(value='')))"
      ]
     },
     "metadata": {},
     "output_type": "display_data"
    },
    {
     "name": "stdout",
     "output_type": "stream",
     "text": [
      "{'accuracy': 0.6379525593008739, 'roc_auc': 0.5623918721801962, 'pr_auc': 0.12910658490172544}\n"
     ]
    },
    {
     "data": {
      "text/html": [
       "<div>\n",
       "<style scoped>\n",
       "    .dataframe tbody tr th:only-of-type {\n",
       "        vertical-align: middle;\n",
       "    }\n",
       "\n",
       "    .dataframe tbody tr th {\n",
       "        vertical-align: top;\n",
       "    }\n",
       "\n",
       "    .dataframe thead th {\n",
       "        text-align: right;\n",
       "    }\n",
       "</style>\n",
       "<table border=\"1\" class=\"dataframe\">\n",
       "  <thead>\n",
       "    <tr style=\"text-align: right;\">\n",
       "      <th></th>\n",
       "      <th>0.0</th>\n",
       "      <th>1.0</th>\n",
       "      <th>micro avg</th>\n",
       "      <th>macro avg</th>\n",
       "      <th>weighted avg</th>\n",
       "    </tr>\n",
       "  </thead>\n",
       "  <tbody>\n",
       "    <tr>\n",
       "      <th>f1-score</th>\n",
       "      <td>0.765</td>\n",
       "      <td>0.212</td>\n",
       "      <td>0.638</td>\n",
       "      <td>0.488</td>\n",
       "      <td>0.708</td>\n",
       "    </tr>\n",
       "    <tr>\n",
       "      <th>precision</th>\n",
       "      <td>0.917</td>\n",
       "      <td>0.136</td>\n",
       "      <td>0.638</td>\n",
       "      <td>0.526</td>\n",
       "      <td>0.837</td>\n",
       "    </tr>\n",
       "    <tr>\n",
       "      <th>recall</th>\n",
       "      <td>0.656</td>\n",
       "      <td>0.476</td>\n",
       "      <td>0.638</td>\n",
       "      <td>0.566</td>\n",
       "      <td>0.638</td>\n",
       "    </tr>\n",
       "    <tr>\n",
       "      <th>support</th>\n",
       "      <td>719.000</td>\n",
       "      <td>82.000</td>\n",
       "      <td>801.000</td>\n",
       "      <td>801.000</td>\n",
       "      <td>801.000</td>\n",
       "    </tr>\n",
       "  </tbody>\n",
       "</table>\n",
       "</div>"
      ],
      "text/plain": [
       "               0.0     1.0  micro avg  macro avg  weighted avg\n",
       "f1-score     0.765   0.212      0.638      0.488         0.708\n",
       "precision    0.917   0.136      0.638      0.526         0.837\n",
       "recall       0.656   0.476      0.638      0.566         0.638\n",
       "support    719.000  82.000    801.000    801.000       801.000"
      ]
     },
     "metadata": {},
     "output_type": "display_data"
    },
    {
     "name": "stdout",
     "output_type": "stream",
     "text": [
      "Model Saved on  roc_auc 0.5623918721801962\n"
     ]
    },
    {
     "data": {
      "application/vnd.jupyter.widget-view+json": {
       "model_id": "107b08e600c545668caca28c7b45c249",
       "version_major": 2,
       "version_minor": 0
      },
      "text/plain": [
       "HBox(children=(IntProgress(value=0, max=229), HTML(value='')))"
      ]
     },
     "metadata": {},
     "output_type": "display_data"
    },
    {
     "data": {
      "application/vnd.jupyter.widget-view+json": {
       "model_id": "90b50e7aa9e440e78a67270101a3c48f",
       "version_major": 2,
       "version_minor": 0
      },
      "text/plain": [
       "HBox(children=(IntProgress(value=0, max=51), HTML(value='')))"
      ]
     },
     "metadata": {},
     "output_type": "display_data"
    },
    {
     "name": "stdout",
     "output_type": "stream",
     "text": [
      "{'accuracy': 0.616729088639201, 'roc_auc': 0.6557295023576105, 'pr_auc': 0.1685178623101755}\n"
     ]
    },
    {
     "data": {
      "text/html": [
       "<div>\n",
       "<style scoped>\n",
       "    .dataframe tbody tr th:only-of-type {\n",
       "        vertical-align: middle;\n",
       "    }\n",
       "\n",
       "    .dataframe tbody tr th {\n",
       "        vertical-align: top;\n",
       "    }\n",
       "\n",
       "    .dataframe thead th {\n",
       "        text-align: right;\n",
       "    }\n",
       "</style>\n",
       "<table border=\"1\" class=\"dataframe\">\n",
       "  <thead>\n",
       "    <tr style=\"text-align: right;\">\n",
       "      <th></th>\n",
       "      <th>0.0</th>\n",
       "      <th>1.0</th>\n",
       "      <th>micro avg</th>\n",
       "      <th>macro avg</th>\n",
       "      <th>weighted avg</th>\n",
       "    </tr>\n",
       "  </thead>\n",
       "  <tbody>\n",
       "    <tr>\n",
       "      <th>f1-score</th>\n",
       "      <td>0.745</td>\n",
       "      <td>0.231</td>\n",
       "      <td>0.617</td>\n",
       "      <td>0.488</td>\n",
       "      <td>0.692</td>\n",
       "    </tr>\n",
       "    <tr>\n",
       "      <th>precision</th>\n",
       "      <td>0.926</td>\n",
       "      <td>0.145</td>\n",
       "      <td>0.617</td>\n",
       "      <td>0.535</td>\n",
       "      <td>0.846</td>\n",
       "    </tr>\n",
       "    <tr>\n",
       "      <th>recall</th>\n",
       "      <td>0.623</td>\n",
       "      <td>0.561</td>\n",
       "      <td>0.617</td>\n",
       "      <td>0.592</td>\n",
       "      <td>0.617</td>\n",
       "    </tr>\n",
       "    <tr>\n",
       "      <th>support</th>\n",
       "      <td>719.000</td>\n",
       "      <td>82.000</td>\n",
       "      <td>801.000</td>\n",
       "      <td>801.000</td>\n",
       "      <td>801.000</td>\n",
       "    </tr>\n",
       "  </tbody>\n",
       "</table>\n",
       "</div>"
      ],
      "text/plain": [
       "               0.0     1.0  micro avg  macro avg  weighted avg\n",
       "f1-score     0.745   0.231      0.617      0.488         0.692\n",
       "precision    0.926   0.145      0.617      0.535         0.846\n",
       "recall       0.623   0.561      0.617      0.592         0.617\n",
       "support    719.000  82.000    801.000    801.000       801.000"
      ]
     },
     "metadata": {},
     "output_type": "display_data"
    },
    {
     "name": "stdout",
     "output_type": "stream",
     "text": [
      "Model Saved on  roc_auc 0.6557295023576105\n"
     ]
    },
    {
     "data": {
      "application/vnd.jupyter.widget-view+json": {
       "model_id": "6c785a39df6141269d29527644e5aba5",
       "version_major": 2,
       "version_minor": 0
      },
      "text/plain": [
       "HBox(children=(IntProgress(value=0, max=229), HTML(value='')))"
      ]
     },
     "metadata": {},
     "output_type": "display_data"
    },
    {
     "data": {
      "application/vnd.jupyter.widget-view+json": {
       "model_id": "042ba5dde8474e999ed711ea3984085a",
       "version_major": 2,
       "version_minor": 0
      },
      "text/plain": [
       "HBox(children=(IntProgress(value=0, max=51), HTML(value='')))"
      ]
     },
     "metadata": {},
     "output_type": "display_data"
    },
    {
     "name": "stdout",
     "output_type": "stream",
     "text": [
      "{'accuracy': 0.6529338327091136, 'roc_auc': 0.5195054106312968, 'pr_auc': 0.10889888596744089}\n"
     ]
    },
    {
     "data": {
      "text/html": [
       "<div>\n",
       "<style scoped>\n",
       "    .dataframe tbody tr th:only-of-type {\n",
       "        vertical-align: middle;\n",
       "    }\n",
       "\n",
       "    .dataframe tbody tr th {\n",
       "        vertical-align: top;\n",
       "    }\n",
       "\n",
       "    .dataframe thead th {\n",
       "        text-align: right;\n",
       "    }\n",
       "</style>\n",
       "<table border=\"1\" class=\"dataframe\">\n",
       "  <thead>\n",
       "    <tr style=\"text-align: right;\">\n",
       "      <th></th>\n",
       "      <th>0.0</th>\n",
       "      <th>1.0</th>\n",
       "      <th>micro avg</th>\n",
       "      <th>macro avg</th>\n",
       "      <th>weighted avg</th>\n",
       "    </tr>\n",
       "  </thead>\n",
       "  <tbody>\n",
       "    <tr>\n",
       "      <th>f1-score</th>\n",
       "      <td>0.782</td>\n",
       "      <td>0.152</td>\n",
       "      <td>0.653</td>\n",
       "      <td>0.467</td>\n",
       "      <td>0.717</td>\n",
       "    </tr>\n",
       "    <tr>\n",
       "      <th>precision</th>\n",
       "      <td>0.897</td>\n",
       "      <td>0.102</td>\n",
       "      <td>0.653</td>\n",
       "      <td>0.499</td>\n",
       "      <td>0.816</td>\n",
       "    </tr>\n",
       "    <tr>\n",
       "      <th>recall</th>\n",
       "      <td>0.693</td>\n",
       "      <td>0.305</td>\n",
       "      <td>0.653</td>\n",
       "      <td>0.499</td>\n",
       "      <td>0.653</td>\n",
       "    </tr>\n",
       "    <tr>\n",
       "      <th>support</th>\n",
       "      <td>719.000</td>\n",
       "      <td>82.000</td>\n",
       "      <td>801.000</td>\n",
       "      <td>801.000</td>\n",
       "      <td>801.000</td>\n",
       "    </tr>\n",
       "  </tbody>\n",
       "</table>\n",
       "</div>"
      ],
      "text/plain": [
       "               0.0     1.0  micro avg  macro avg  weighted avg\n",
       "f1-score     0.782   0.152      0.653      0.467         0.717\n",
       "precision    0.897   0.102      0.653      0.499         0.816\n",
       "recall       0.693   0.305      0.653      0.499         0.653\n",
       "support    719.000  82.000    801.000    801.000       801.000"
      ]
     },
     "metadata": {},
     "output_type": "display_data"
    },
    {
     "name": "stdout",
     "output_type": "stream",
     "text": [
      "Model not saved on  roc_auc 0.5195054106312968\n"
     ]
    },
    {
     "data": {
      "application/vnd.jupyter.widget-view+json": {
       "model_id": "45728714ec8a4036a3273ac3531e258b",
       "version_major": 2,
       "version_minor": 0
      },
      "text/plain": [
       "HBox(children=(IntProgress(value=0, max=229), HTML(value='')))"
      ]
     },
     "metadata": {},
     "output_type": "display_data"
    },
    {
     "data": {
      "application/vnd.jupyter.widget-view+json": {
       "model_id": "7fe7cfac97e0447586a0669303470109",
       "version_major": 2,
       "version_minor": 0
      },
      "text/plain": [
       "HBox(children=(IntProgress(value=0, max=51), HTML(value='')))"
      ]
     },
     "metadata": {},
     "output_type": "display_data"
    },
    {
     "name": "stdout",
     "output_type": "stream",
     "text": [
      "{'accuracy': 0.686641697877653, 'roc_auc': 0.5366023270802944, 'pr_auc': 0.13496099982849002}\n"
     ]
    },
    {
     "data": {
      "text/html": [
       "<div>\n",
       "<style scoped>\n",
       "    .dataframe tbody tr th:only-of-type {\n",
       "        vertical-align: middle;\n",
       "    }\n",
       "\n",
       "    .dataframe tbody tr th {\n",
       "        vertical-align: top;\n",
       "    }\n",
       "\n",
       "    .dataframe thead th {\n",
       "        text-align: right;\n",
       "    }\n",
       "</style>\n",
       "<table border=\"1\" class=\"dataframe\">\n",
       "  <thead>\n",
       "    <tr style=\"text-align: right;\">\n",
       "      <th></th>\n",
       "      <th>0.0</th>\n",
       "      <th>1.0</th>\n",
       "      <th>micro avg</th>\n",
       "      <th>macro avg</th>\n",
       "      <th>weighted avg</th>\n",
       "    </tr>\n",
       "  </thead>\n",
       "  <tbody>\n",
       "    <tr>\n",
       "      <th>f1-score</th>\n",
       "      <td>0.807</td>\n",
       "      <td>0.166</td>\n",
       "      <td>0.687</td>\n",
       "      <td>0.487</td>\n",
       "      <td>0.741</td>\n",
       "    </tr>\n",
       "    <tr>\n",
       "      <th>precision</th>\n",
       "      <td>0.902</td>\n",
       "      <td>0.114</td>\n",
       "      <td>0.687</td>\n",
       "      <td>0.508</td>\n",
       "      <td>0.821</td>\n",
       "    </tr>\n",
       "    <tr>\n",
       "      <th>recall</th>\n",
       "      <td>0.730</td>\n",
       "      <td>0.305</td>\n",
       "      <td>0.687</td>\n",
       "      <td>0.518</td>\n",
       "      <td>0.687</td>\n",
       "    </tr>\n",
       "    <tr>\n",
       "      <th>support</th>\n",
       "      <td>719.000</td>\n",
       "      <td>82.000</td>\n",
       "      <td>801.000</td>\n",
       "      <td>801.000</td>\n",
       "      <td>801.000</td>\n",
       "    </tr>\n",
       "  </tbody>\n",
       "</table>\n",
       "</div>"
      ],
      "text/plain": [
       "               0.0     1.0  micro avg  macro avg  weighted avg\n",
       "f1-score     0.807   0.166      0.687      0.487         0.741\n",
       "precision    0.902   0.114      0.687      0.508         0.821\n",
       "recall       0.730   0.305      0.687      0.518         0.687\n",
       "support    719.000  82.000    801.000    801.000       801.000"
      ]
     },
     "metadata": {},
     "output_type": "display_data"
    },
    {
     "name": "stdout",
     "output_type": "stream",
     "text": [
      "Model not saved on  roc_auc 0.5366023270802944\n"
     ]
    },
    {
     "data": {
      "application/vnd.jupyter.widget-view+json": {
       "model_id": "abc25e4c927a4561883e44cc49bf11c6",
       "version_major": 2,
       "version_minor": 0
      },
      "text/plain": [
       "HBox(children=(IntProgress(value=0, max=229), HTML(value='')))"
      ]
     },
     "metadata": {},
     "output_type": "display_data"
    },
    {
     "data": {
      "application/vnd.jupyter.widget-view+json": {
       "model_id": "e3b9bc4631c447ad89ecd0e3bb0eb8c1",
       "version_major": 2,
       "version_minor": 0
      },
      "text/plain": [
       "HBox(children=(IntProgress(value=0, max=51), HTML(value='')))"
      ]
     },
     "metadata": {},
     "output_type": "display_data"
    },
    {
     "name": "stdout",
     "output_type": "stream",
     "text": [
      "{'accuracy': 0.7578027465667915, 'roc_auc': 0.501501068557278, 'pr_auc': 0.11183217731044115}\n"
     ]
    },
    {
     "data": {
      "text/html": [
       "<div>\n",
       "<style scoped>\n",
       "    .dataframe tbody tr th:only-of-type {\n",
       "        vertical-align: middle;\n",
       "    }\n",
       "\n",
       "    .dataframe tbody tr th {\n",
       "        vertical-align: top;\n",
       "    }\n",
       "\n",
       "    .dataframe thead th {\n",
       "        text-align: right;\n",
       "    }\n",
       "</style>\n",
       "<table border=\"1\" class=\"dataframe\">\n",
       "  <thead>\n",
       "    <tr style=\"text-align: right;\">\n",
       "      <th></th>\n",
       "      <th>0.0</th>\n",
       "      <th>1.0</th>\n",
       "      <th>micro avg</th>\n",
       "      <th>macro avg</th>\n",
       "      <th>weighted avg</th>\n",
       "    </tr>\n",
       "  </thead>\n",
       "  <tbody>\n",
       "    <tr>\n",
       "      <th>f1-score</th>\n",
       "      <td>0.860</td>\n",
       "      <td>0.110</td>\n",
       "      <td>0.758</td>\n",
       "      <td>0.485</td>\n",
       "      <td>0.783</td>\n",
       "    </tr>\n",
       "    <tr>\n",
       "      <th>precision</th>\n",
       "      <td>0.895</td>\n",
       "      <td>0.088</td>\n",
       "      <td>0.758</td>\n",
       "      <td>0.491</td>\n",
       "      <td>0.812</td>\n",
       "    </tr>\n",
       "    <tr>\n",
       "      <th>recall</th>\n",
       "      <td>0.828</td>\n",
       "      <td>0.146</td>\n",
       "      <td>0.758</td>\n",
       "      <td>0.487</td>\n",
       "      <td>0.758</td>\n",
       "    </tr>\n",
       "    <tr>\n",
       "      <th>support</th>\n",
       "      <td>719.000</td>\n",
       "      <td>82.000</td>\n",
       "      <td>801.000</td>\n",
       "      <td>801.000</td>\n",
       "      <td>801.000</td>\n",
       "    </tr>\n",
       "  </tbody>\n",
       "</table>\n",
       "</div>"
      ],
      "text/plain": [
       "               0.0     1.0  micro avg  macro avg  weighted avg\n",
       "f1-score     0.860   0.110      0.758      0.485         0.783\n",
       "precision    0.895   0.088      0.758      0.491         0.812\n",
       "recall       0.828   0.146      0.758      0.487         0.758\n",
       "support    719.000  82.000    801.000    801.000       801.000"
      ]
     },
     "metadata": {},
     "output_type": "display_data"
    },
    {
     "name": "stderr",
     "output_type": "stream",
     "text": [
      "INFO - 2019-03-26 16:18:54,688 - instantiating class <class 'PatientVec.models.Model.Model'> from params {'type': 'seq_classifier', 'embedder': {'type': 'token_embedder', 'vocab_size': 18542, 'embed_size': 200, 'embedding_file': '../../../SurgeryData/PatientVec/preprocess/KneeSurgery/1_yrs/embedding_matrix.npy'}, 'decoder': {'num_layers': 2, 'hidden_dims': [128, 1], 'activations': ['tanh', 'linear']}, 'predictor': {'type': 'binary'}, 'structured': {'use_structured': False}, 'encoder': {'type': 'lstm', 'hidden_size': 128}} and extras {}\n",
      "INFO - 2019-03-26 16:18:54,688 - type = seq_classifier\n",
      "INFO - 2019-03-26 16:18:54,688 - instantiating class <class 'PatientVec.models.modules.Embedder.Embedder'> from params {'type': 'token_embedder', 'vocab_size': 18542, 'embed_size': 200, 'embedding_file': '../../../SurgeryData/PatientVec/preprocess/KneeSurgery/1_yrs/embedding_matrix.npy'} and extras {}\n",
      "INFO - 2019-03-26 16:18:54,689 - embedder.type = token_embedder\n",
      "INFO - 2019-03-26 16:18:54,689 - instantiating class <class 'PatientVec.models.modules.Embedder.TokenEmbedder'> from params {'vocab_size': 18542, 'embed_size': 200, 'embedding_file': '../../../SurgeryData/PatientVec/preprocess/KneeSurgery/1_yrs/embedding_matrix.npy'} and extras {}\n",
      "INFO - 2019-03-26 16:18:54,689 - embedder.vocab_size = 18542\n",
      "INFO - 2019-03-26 16:18:54,689 - embedder.embed_size = 200\n",
      "INFO - 2019-03-26 16:18:54,690 - embedder.embedding_file = ../../../SurgeryData/PatientVec/preprocess/KneeSurgery/1_yrs/embedding_matrix.npy\n",
      "INFO - 2019-03-26 16:18:54,698 - instantiating class <class 'PatientVec.models.modules.Encoder.Encoder'> from params {'type': 'lstm', 'hidden_size': 128} and extras {'input_size': 200}\n",
      "INFO - 2019-03-26 16:18:54,698 - encoder.type = lstm\n",
      "INFO - 2019-03-26 16:18:54,699 - instantiating class <class 'PatientVec.models.modules.Encoder.wrap_pytorch_rnn.<locals>.BiRNNEncoder'> from params {'hidden_size': 128} and extras {'input_size': 200}\n",
      "INFO - 2019-03-26 16:18:54,699 - encoder.hidden_size = 128\n",
      "INFO - 2019-03-26 16:18:54,701 - decoder.input_dim = 256\n",
      "INFO - 2019-03-26 16:18:54,702 - decoder.num_layers = 2\n",
      "INFO - 2019-03-26 16:18:54,702 - decoder.hidden_dims = [128, 1]\n",
      "INFO - 2019-03-26 16:18:54,702 - decoder.activations = ['tanh', 'linear']\n",
      "INFO - 2019-03-26 16:18:54,702 - decoder.dropout = 0.0\n",
      "INFO - 2019-03-26 16:18:54,703 - instantiating class <class 'PatientVec.models.modules.Predictor.Predictor'> from params {'type': 'binary'} and extras {}\n",
      "INFO - 2019-03-26 16:18:54,704 - predictor.type = binary\n",
      "INFO - 2019-03-26 16:18:54,704 - instantiating class <class 'PatientVec.models.modules.Predictor.Binary_Predictor'> from params {} and extras {}\n",
      "INFO - 2019-03-26 16:18:54,704 - predictor.replicate = False\n",
      "INFO - 2019-03-26 16:18:54,704 - predictor.alpha = 0.5\n"
     ]
    },
    {
     "name": "stdout",
     "output_type": "stream",
     "text": [
      "Model not saved on  roc_auc 0.501501068557278\n",
      "0.6557295023576105 deque([0.5195054106312968, 0.5366023270802944, 0.501501068557278], maxlen=3)\n",
      "\n",
      "Setting Embedding\n"
     ]
    },
    {
     "data": {
      "application/vnd.jupyter.widget-view+json": {
       "model_id": "8ecf628f159d4e15860f9d2975c1f5f2",
       "version_major": 2,
       "version_minor": 0
      },
      "text/plain": [
       "HBox(children=(IntProgress(value=0, max=51), HTML(value='')))"
      ]
     },
     "metadata": {},
     "output_type": "display_data"
    },
    {
     "name": "stdout",
     "output_type": "stream",
     "text": [
      "\n",
      "{'accuracy': 0.616729088639201, 'roc_auc': 0.6557295023576105, 'pr_auc': 0.1685178623101755}\n"
     ]
    },
    {
     "data": {
      "text/html": [
       "<div>\n",
       "<style scoped>\n",
       "    .dataframe tbody tr th:only-of-type {\n",
       "        vertical-align: middle;\n",
       "    }\n",
       "\n",
       "    .dataframe tbody tr th {\n",
       "        vertical-align: top;\n",
       "    }\n",
       "\n",
       "    .dataframe thead th {\n",
       "        text-align: right;\n",
       "    }\n",
       "</style>\n",
       "<table border=\"1\" class=\"dataframe\">\n",
       "  <thead>\n",
       "    <tr style=\"text-align: right;\">\n",
       "      <th></th>\n",
       "      <th>0.0</th>\n",
       "      <th>1.0</th>\n",
       "      <th>micro avg</th>\n",
       "      <th>macro avg</th>\n",
       "      <th>weighted avg</th>\n",
       "    </tr>\n",
       "  </thead>\n",
       "  <tbody>\n",
       "    <tr>\n",
       "      <th>f1-score</th>\n",
       "      <td>0.745</td>\n",
       "      <td>0.231</td>\n",
       "      <td>0.617</td>\n",
       "      <td>0.488</td>\n",
       "      <td>0.692</td>\n",
       "    </tr>\n",
       "    <tr>\n",
       "      <th>precision</th>\n",
       "      <td>0.926</td>\n",
       "      <td>0.145</td>\n",
       "      <td>0.617</td>\n",
       "      <td>0.535</td>\n",
       "      <td>0.846</td>\n",
       "    </tr>\n",
       "    <tr>\n",
       "      <th>recall</th>\n",
       "      <td>0.623</td>\n",
       "      <td>0.561</td>\n",
       "      <td>0.617</td>\n",
       "      <td>0.592</td>\n",
       "      <td>0.617</td>\n",
       "    </tr>\n",
       "    <tr>\n",
       "      <th>support</th>\n",
       "      <td>719.000</td>\n",
       "      <td>82.000</td>\n",
       "      <td>801.000</td>\n",
       "      <td>801.000</td>\n",
       "      <td>801.000</td>\n",
       "    </tr>\n",
       "  </tbody>\n",
       "</table>\n",
       "</div>"
      ],
      "text/plain": [
       "               0.0     1.0  micro avg  macro avg  weighted avg\n",
       "f1-score     0.745   0.231      0.617      0.488         0.692\n",
       "precision    0.926   0.145      0.617      0.535         0.846\n",
       "recall       0.623   0.561      0.617      0.592         0.617\n",
       "support    719.000  82.000    801.000    801.000       801.000"
      ]
     },
     "metadata": {},
     "output_type": "display_data"
    },
    {
     "name": "stderr",
     "output_type": "stream",
     "text": [
      "INFO - 2019-03-26 16:19:09,956 - instantiating class <class 'PatientVec.models.Model.Model'> from params {'type': 'seq_classifier_with_attention', 'embedder': {'type': 'token_embedder', 'vocab_size': 18542, 'embed_size': 200, 'embedding_file': '../../../SurgeryData/PatientVec/preprocess/KneeSurgery/1_yrs/embedding_matrix.npy'}, 'decoder': {'num_layers': 2, 'hidden_dims': [128, 1], 'activations': ['tanh', 'linear']}, 'predictor': {'type': 'binary'}, 'structured': {'use_structured': False}, 'encoder': {'type': 'lstm', 'hidden_size': 128}, 'attention': {'similarity': {'type': 'additive', 'hidden_size': 128}}} and extras {}\n",
      "INFO - 2019-03-26 16:19:09,957 - type = seq_classifier_with_attention\n",
      "INFO - 2019-03-26 16:19:09,957 - instantiating class <class 'PatientVec.models.modules.Embedder.Embedder'> from params {'type': 'token_embedder', 'vocab_size': 18542, 'embed_size': 200, 'embedding_file': '../../../SurgeryData/PatientVec/preprocess/KneeSurgery/1_yrs/embedding_matrix.npy'} and extras {}\n",
      "INFO - 2019-03-26 16:19:09,957 - embedder.type = token_embedder\n",
      "INFO - 2019-03-26 16:19:09,958 - instantiating class <class 'PatientVec.models.modules.Embedder.TokenEmbedder'> from params {'vocab_size': 18542, 'embed_size': 200, 'embedding_file': '../../../SurgeryData/PatientVec/preprocess/KneeSurgery/1_yrs/embedding_matrix.npy'} and extras {}\n",
      "INFO - 2019-03-26 16:19:09,958 - embedder.vocab_size = 18542\n",
      "INFO - 2019-03-26 16:19:09,959 - embedder.embed_size = 200\n",
      "INFO - 2019-03-26 16:19:09,959 - embedder.embedding_file = ../../../SurgeryData/PatientVec/preprocess/KneeSurgery/1_yrs/embedding_matrix.npy\n",
      "INFO - 2019-03-26 16:19:09,968 - instantiating class <class 'PatientVec.models.modules.Encoder.Encoder'> from params {'type': 'lstm', 'hidden_size': 128} and extras {'input_size': 200}\n",
      "INFO - 2019-03-26 16:19:09,968 - encoder.type = lstm\n",
      "INFO - 2019-03-26 16:19:09,968 - instantiating class <class 'PatientVec.models.modules.Encoder.wrap_pytorch_rnn.<locals>.BiRNNEncoder'> from params {'hidden_size': 128} and extras {'input_size': 200}\n",
      "INFO - 2019-03-26 16:19:09,969 - encoder.hidden_size = 128\n",
      "INFO - 2019-03-26 16:19:09,972 - instantiating class <class 'PatientVec.models.modules.SelfAttention.SelfAttention'> from params {'similarity': {'type': 'additive', 'hidden_size': 128, 'tensor_1_dim': 256}} and extras {}\n",
      "INFO - 2019-03-26 16:19:09,972 - instantiating class <class 'PatientVec.models.modules.UniSimilarity.UniSimilarity'> from params {'type': 'additive', 'hidden_size': 128, 'tensor_1_dim': 256} and extras {}\n",
      "INFO - 2019-03-26 16:19:09,972 - attention.similarity.type = additive\n",
      "INFO - 2019-03-26 16:19:09,972 - instantiating class <class 'PatientVec.models.modules.UniSimilarity.UniAdditiveSimilarity'> from params {'hidden_size': 128, 'tensor_1_dim': 256} and extras {}\n",
      "INFO - 2019-03-26 16:19:09,973 - attention.similarity.tensor_1_dim = 256\n",
      "INFO - 2019-03-26 16:19:09,973 - attention.similarity.hidden_size = 128\n",
      "INFO - 2019-03-26 16:19:09,973 - attention.similarity.output_size = 1\n",
      "INFO - 2019-03-26 16:19:09,975 - attention.normaliser = softmax\n",
      "INFO - 2019-03-26 16:19:09,975 - decoder.input_dim = 256\n",
      "INFO - 2019-03-26 16:19:09,975 - decoder.num_layers = 2\n",
      "INFO - 2019-03-26 16:19:09,976 - decoder.hidden_dims = [128, 1]\n",
      "INFO - 2019-03-26 16:19:09,976 - decoder.activations = ['tanh', 'linear']\n",
      "INFO - 2019-03-26 16:19:09,976 - decoder.dropout = 0.0\n",
      "INFO - 2019-03-26 16:19:09,978 - instantiating class <class 'PatientVec.models.modules.Predictor.Predictor'> from params {'type': 'binary'} and extras {}\n",
      "INFO - 2019-03-26 16:19:09,978 - predictor.type = binary\n",
      "INFO - 2019-03-26 16:19:09,978 - instantiating class <class 'PatientVec.models.modules.Predictor.Binary_Predictor'> from params {} and extras {}\n",
      "INFO - 2019-03-26 16:19:09,978 - predictor.replicate = False\n",
      "INFO - 2019-03-26 16:19:09,979 - predictor.alpha = 0.5\n"
     ]
    },
    {
     "name": "stdout",
     "output_type": "stream",
     "text": [
      "============================================================================================================================================================================================================================================================================================================\n",
      "{'model': {'type': 'seq_classifier_with_attention', 'embedder': {'type': 'token_embedder', 'vocab_size': 18542, 'embed_size': 200, 'embedding_file': '../../../SurgeryData/PatientVec/preprocess/KneeSurgery/1_yrs/embedding_matrix.npy'}, 'decoder': {'num_layers': 2, 'hidden_dims': [128, 1], 'activations': ['tanh', 'linear']}, 'predictor': {'type': 'binary'}, 'structured': {'use_structured': False}, 'encoder': {'type': 'lstm', 'hidden_size': 128}, 'attention': {'similarity': {'type': 'additive', 'hidden_size': 128}}}, 'training_config': {'type': 'Adam', 'groups': [('.*', {'lr': 0.001, 'weight_decay': 1e-05})], 'common': {'bsize': 16, 'class_weight': True}}, 'exp_config': {'exp_name': 'KneeSurgery_1/Attention/LSTM(hs=128)+Attention(additive)(hs=128)', 'basepath': 'outputs/confidence'}}\n",
      "Setting Embedding\n"
     ]
    },
    {
     "data": {
      "application/vnd.jupyter.widget-view+json": {
       "model_id": "fbab47b807a3434fa5ecc1b23784bc53",
       "version_major": 2,
       "version_minor": 0
      },
      "text/plain": [
       "HBox(children=(IntProgress(value=0, max=8), HTML(value='')))"
      ]
     },
     "metadata": {},
     "output_type": "display_data"
    },
    {
     "data": {
      "application/vnd.jupyter.widget-view+json": {
       "model_id": "079698f66a2a4bd9a730c04bc294171f",
       "version_major": 2,
       "version_minor": 0
      },
      "text/plain": [
       "HBox(children=(IntProgress(value=0, max=229), HTML(value='')))"
      ]
     },
     "metadata": {},
     "output_type": "display_data"
    },
    {
     "data": {
      "application/vnd.jupyter.widget-view+json": {
       "model_id": "816f8818a1a1448eb1a3b3dafedf4c6d",
       "version_major": 2,
       "version_minor": 0
      },
      "text/plain": [
       "HBox(children=(IntProgress(value=0, max=51), HTML(value='')))"
      ]
     },
     "metadata": {},
     "output_type": "display_data"
    },
    {
     "name": "stdout",
     "output_type": "stream",
     "text": [
      "{'accuracy': 0.8539325842696629, 'roc_auc': 0.8465178601716477, 'pr_auc': 0.3937596737765268}\n"
     ]
    },
    {
     "data": {
      "text/html": [
       "<div>\n",
       "<style scoped>\n",
       "    .dataframe tbody tr th:only-of-type {\n",
       "        vertical-align: middle;\n",
       "    }\n",
       "\n",
       "    .dataframe tbody tr th {\n",
       "        vertical-align: top;\n",
       "    }\n",
       "\n",
       "    .dataframe thead th {\n",
       "        text-align: right;\n",
       "    }\n",
       "</style>\n",
       "<table border=\"1\" class=\"dataframe\">\n",
       "  <thead>\n",
       "    <tr style=\"text-align: right;\">\n",
       "      <th></th>\n",
       "      <th>0.0</th>\n",
       "      <th>1.0</th>\n",
       "      <th>micro avg</th>\n",
       "      <th>macro avg</th>\n",
       "      <th>weighted avg</th>\n",
       "    </tr>\n",
       "  </thead>\n",
       "  <tbody>\n",
       "    <tr>\n",
       "      <th>f1-score</th>\n",
       "      <td>0.914</td>\n",
       "      <td>0.502</td>\n",
       "      <td>0.854</td>\n",
       "      <td>0.708</td>\n",
       "      <td>0.872</td>\n",
       "    </tr>\n",
       "    <tr>\n",
       "      <th>precision</th>\n",
       "      <td>0.965</td>\n",
       "      <td>0.386</td>\n",
       "      <td>0.854</td>\n",
       "      <td>0.675</td>\n",
       "      <td>0.905</td>\n",
       "    </tr>\n",
       "    <tr>\n",
       "      <th>recall</th>\n",
       "      <td>0.869</td>\n",
       "      <td>0.720</td>\n",
       "      <td>0.854</td>\n",
       "      <td>0.794</td>\n",
       "      <td>0.854</td>\n",
       "    </tr>\n",
       "    <tr>\n",
       "      <th>support</th>\n",
       "      <td>719.000</td>\n",
       "      <td>82.000</td>\n",
       "      <td>801.000</td>\n",
       "      <td>801.000</td>\n",
       "      <td>801.000</td>\n",
       "    </tr>\n",
       "  </tbody>\n",
       "</table>\n",
       "</div>"
      ],
      "text/plain": [
       "               0.0     1.0  micro avg  macro avg  weighted avg\n",
       "f1-score     0.914   0.502      0.854      0.708         0.872\n",
       "precision    0.965   0.386      0.854      0.675         0.905\n",
       "recall       0.869   0.720      0.854      0.794         0.854\n",
       "support    719.000  82.000    801.000    801.000       801.000"
      ]
     },
     "metadata": {},
     "output_type": "display_data"
    },
    {
     "name": "stdout",
     "output_type": "stream",
     "text": [
      "Model Saved on  roc_auc 0.8465178601716477\n"
     ]
    },
    {
     "data": {
      "application/vnd.jupyter.widget-view+json": {
       "model_id": "72914ddf00744cfe9c970260276b83b9",
       "version_major": 2,
       "version_minor": 0
      },
      "text/plain": [
       "HBox(children=(IntProgress(value=0, max=229), HTML(value='')))"
      ]
     },
     "metadata": {},
     "output_type": "display_data"
    },
    {
     "data": {
      "application/vnd.jupyter.widget-view+json": {
       "model_id": "566820e721874319a313eb5623471f9e",
       "version_major": 2,
       "version_minor": 0
      },
      "text/plain": [
       "HBox(children=(IntProgress(value=0, max=51), HTML(value='')))"
      ]
     },
     "metadata": {},
     "output_type": "display_data"
    },
    {
     "name": "stdout",
     "output_type": "stream",
     "text": [
      "{'accuracy': 0.8826466916354557, 'roc_auc': 0.8728247226839445, 'pr_auc': 0.5569217987068031}\n"
     ]
    },
    {
     "data": {
      "text/html": [
       "<div>\n",
       "<style scoped>\n",
       "    .dataframe tbody tr th:only-of-type {\n",
       "        vertical-align: middle;\n",
       "    }\n",
       "\n",
       "    .dataframe tbody tr th {\n",
       "        vertical-align: top;\n",
       "    }\n",
       "\n",
       "    .dataframe thead th {\n",
       "        text-align: right;\n",
       "    }\n",
       "</style>\n",
       "<table border=\"1\" class=\"dataframe\">\n",
       "  <thead>\n",
       "    <tr style=\"text-align: right;\">\n",
       "      <th></th>\n",
       "      <th>0.0</th>\n",
       "      <th>1.0</th>\n",
       "      <th>micro avg</th>\n",
       "      <th>macro avg</th>\n",
       "      <th>weighted avg</th>\n",
       "    </tr>\n",
       "  </thead>\n",
       "  <tbody>\n",
       "    <tr>\n",
       "      <th>f1-score</th>\n",
       "      <td>0.932</td>\n",
       "      <td>0.561</td>\n",
       "      <td>0.883</td>\n",
       "      <td>0.747</td>\n",
       "      <td>0.894</td>\n",
       "    </tr>\n",
       "    <tr>\n",
       "      <th>precision</th>\n",
       "      <td>0.967</td>\n",
       "      <td>0.455</td>\n",
       "      <td>0.883</td>\n",
       "      <td>0.711</td>\n",
       "      <td>0.915</td>\n",
       "    </tr>\n",
       "    <tr>\n",
       "      <th>recall</th>\n",
       "      <td>0.900</td>\n",
       "      <td>0.732</td>\n",
       "      <td>0.883</td>\n",
       "      <td>0.816</td>\n",
       "      <td>0.883</td>\n",
       "    </tr>\n",
       "    <tr>\n",
       "      <th>support</th>\n",
       "      <td>719.000</td>\n",
       "      <td>82.000</td>\n",
       "      <td>801.000</td>\n",
       "      <td>801.000</td>\n",
       "      <td>801.000</td>\n",
       "    </tr>\n",
       "  </tbody>\n",
       "</table>\n",
       "</div>"
      ],
      "text/plain": [
       "               0.0     1.0  micro avg  macro avg  weighted avg\n",
       "f1-score     0.932   0.561      0.883      0.747         0.894\n",
       "precision    0.967   0.455      0.883      0.711         0.915\n",
       "recall       0.900   0.732      0.883      0.816         0.883\n",
       "support    719.000  82.000    801.000    801.000       801.000"
      ]
     },
     "metadata": {},
     "output_type": "display_data"
    },
    {
     "name": "stdout",
     "output_type": "stream",
     "text": [
      "Model Saved on  roc_auc 0.8728247226839445\n"
     ]
    },
    {
     "data": {
      "application/vnd.jupyter.widget-view+json": {
       "model_id": "71d001b66ee241eb8ffe98c41b496b4c",
       "version_major": 2,
       "version_minor": 0
      },
      "text/plain": [
       "HBox(children=(IntProgress(value=0, max=229), HTML(value='')))"
      ]
     },
     "metadata": {},
     "output_type": "display_data"
    },
    {
     "data": {
      "application/vnd.jupyter.widget-view+json": {
       "model_id": "df9be15d2211499596902f1d8a1c22ed",
       "version_major": 2,
       "version_minor": 0
      },
      "text/plain": [
       "HBox(children=(IntProgress(value=0, max=51), HTML(value='')))"
      ]
     },
     "metadata": {},
     "output_type": "display_data"
    },
    {
     "name": "stdout",
     "output_type": "stream",
     "text": [
      "{'accuracy': 0.8439450686641697, 'roc_auc': 0.8753010617727874, 'pr_auc': 0.5675089577100679}\n"
     ]
    },
    {
     "data": {
      "text/html": [
       "<div>\n",
       "<style scoped>\n",
       "    .dataframe tbody tr th:only-of-type {\n",
       "        vertical-align: middle;\n",
       "    }\n",
       "\n",
       "    .dataframe tbody tr th {\n",
       "        vertical-align: top;\n",
       "    }\n",
       "\n",
       "    .dataframe thead th {\n",
       "        text-align: right;\n",
       "    }\n",
       "</style>\n",
       "<table border=\"1\" class=\"dataframe\">\n",
       "  <thead>\n",
       "    <tr style=\"text-align: right;\">\n",
       "      <th></th>\n",
       "      <th>0.0</th>\n",
       "      <th>1.0</th>\n",
       "      <th>micro avg</th>\n",
       "      <th>macro avg</th>\n",
       "      <th>weighted avg</th>\n",
       "    </tr>\n",
       "  </thead>\n",
       "  <tbody>\n",
       "    <tr>\n",
       "      <th>f1-score</th>\n",
       "      <td>0.907</td>\n",
       "      <td>0.514</td>\n",
       "      <td>0.844</td>\n",
       "      <td>0.710</td>\n",
       "      <td>0.867</td>\n",
       "    </tr>\n",
       "    <tr>\n",
       "      <th>precision</th>\n",
       "      <td>0.974</td>\n",
       "      <td>0.377</td>\n",
       "      <td>0.844</td>\n",
       "      <td>0.676</td>\n",
       "      <td>0.913</td>\n",
       "    </tr>\n",
       "    <tr>\n",
       "      <th>recall</th>\n",
       "      <td>0.848</td>\n",
       "      <td>0.805</td>\n",
       "      <td>0.844</td>\n",
       "      <td>0.827</td>\n",
       "      <td>0.844</td>\n",
       "    </tr>\n",
       "    <tr>\n",
       "      <th>support</th>\n",
       "      <td>719.000</td>\n",
       "      <td>82.000</td>\n",
       "      <td>801.000</td>\n",
       "      <td>801.000</td>\n",
       "      <td>801.000</td>\n",
       "    </tr>\n",
       "  </tbody>\n",
       "</table>\n",
       "</div>"
      ],
      "text/plain": [
       "               0.0     1.0  micro avg  macro avg  weighted avg\n",
       "f1-score     0.907   0.514      0.844      0.710         0.867\n",
       "precision    0.974   0.377      0.844      0.676         0.913\n",
       "recall       0.848   0.805      0.844      0.827         0.844\n",
       "support    719.000  82.000    801.000    801.000       801.000"
      ]
     },
     "metadata": {},
     "output_type": "display_data"
    },
    {
     "name": "stdout",
     "output_type": "stream",
     "text": [
      "Model Saved on  roc_auc 0.8753010617727874\n"
     ]
    },
    {
     "data": {
      "application/vnd.jupyter.widget-view+json": {
       "model_id": "b641db7342f74f7fbc61a3811e25e792",
       "version_major": 2,
       "version_minor": 0
      },
      "text/plain": [
       "HBox(children=(IntProgress(value=0, max=229), HTML(value='')))"
      ]
     },
     "metadata": {},
     "output_type": "display_data"
    },
    {
     "data": {
      "application/vnd.jupyter.widget-view+json": {
       "model_id": "000464abe2954c44b34d9e0b5f4414d8",
       "version_major": 2,
       "version_minor": 0
      },
      "text/plain": [
       "HBox(children=(IntProgress(value=0, max=51), HTML(value='')))"
      ]
     },
     "metadata": {},
     "output_type": "display_data"
    },
    {
     "name": "stdout",
     "output_type": "stream",
     "text": [
      "{'accuracy': 0.8639200998751561, 'roc_auc': 0.8647172563519794, 'pr_auc': 0.540915174061282}\n"
     ]
    },
    {
     "data": {
      "text/html": [
       "<div>\n",
       "<style scoped>\n",
       "    .dataframe tbody tr th:only-of-type {\n",
       "        vertical-align: middle;\n",
       "    }\n",
       "\n",
       "    .dataframe tbody tr th {\n",
       "        vertical-align: top;\n",
       "    }\n",
       "\n",
       "    .dataframe thead th {\n",
       "        text-align: right;\n",
       "    }\n",
       "</style>\n",
       "<table border=\"1\" class=\"dataframe\">\n",
       "  <thead>\n",
       "    <tr style=\"text-align: right;\">\n",
       "      <th></th>\n",
       "      <th>0.0</th>\n",
       "      <th>1.0</th>\n",
       "      <th>micro avg</th>\n",
       "      <th>macro avg</th>\n",
       "      <th>weighted avg</th>\n",
       "    </tr>\n",
       "  </thead>\n",
       "  <tbody>\n",
       "    <tr>\n",
       "      <th>f1-score</th>\n",
       "      <td>0.921</td>\n",
       "      <td>0.516</td>\n",
       "      <td>0.864</td>\n",
       "      <td>0.718</td>\n",
       "      <td>0.879</td>\n",
       "    </tr>\n",
       "    <tr>\n",
       "      <th>precision</th>\n",
       "      <td>0.964</td>\n",
       "      <td>0.406</td>\n",
       "      <td>0.864</td>\n",
       "      <td>0.685</td>\n",
       "      <td>0.906</td>\n",
       "    </tr>\n",
       "    <tr>\n",
       "      <th>recall</th>\n",
       "      <td>0.882</td>\n",
       "      <td>0.707</td>\n",
       "      <td>0.864</td>\n",
       "      <td>0.795</td>\n",
       "      <td>0.864</td>\n",
       "    </tr>\n",
       "    <tr>\n",
       "      <th>support</th>\n",
       "      <td>719.000</td>\n",
       "      <td>82.000</td>\n",
       "      <td>801.000</td>\n",
       "      <td>801.000</td>\n",
       "      <td>801.000</td>\n",
       "    </tr>\n",
       "  </tbody>\n",
       "</table>\n",
       "</div>"
      ],
      "text/plain": [
       "               0.0     1.0  micro avg  macro avg  weighted avg\n",
       "f1-score     0.921   0.516      0.864      0.718         0.879\n",
       "precision    0.964   0.406      0.864      0.685         0.906\n",
       "recall       0.882   0.707      0.864      0.795         0.864\n",
       "support    719.000  82.000    801.000    801.000       801.000"
      ]
     },
     "metadata": {},
     "output_type": "display_data"
    },
    {
     "name": "stdout",
     "output_type": "stream",
     "text": [
      "Model not saved on  roc_auc 0.8647172563519794\n"
     ]
    },
    {
     "data": {
      "application/vnd.jupyter.widget-view+json": {
       "model_id": "628e73220e484b7f8abb140eeb6cae32",
       "version_major": 2,
       "version_minor": 0
      },
      "text/plain": [
       "HBox(children=(IntProgress(value=0, max=229), HTML(value='')))"
      ]
     },
     "metadata": {},
     "output_type": "display_data"
    },
    {
     "data": {
      "application/vnd.jupyter.widget-view+json": {
       "model_id": "208af1cea0a04146b769f4aa92831dfd",
       "version_major": 2,
       "version_minor": 0
      },
      "text/plain": [
       "HBox(children=(IntProgress(value=0, max=51), HTML(value='')))"
      ]
     },
     "metadata": {},
     "output_type": "display_data"
    },
    {
     "name": "stdout",
     "output_type": "stream",
     "text": [
      "{'accuracy': 0.8214731585518102, 'roc_auc': 0.8648359849384306, 'pr_auc': 0.5651205520388093}\n"
     ]
    },
    {
     "data": {
      "text/html": [
       "<div>\n",
       "<style scoped>\n",
       "    .dataframe tbody tr th:only-of-type {\n",
       "        vertical-align: middle;\n",
       "    }\n",
       "\n",
       "    .dataframe tbody tr th {\n",
       "        vertical-align: top;\n",
       "    }\n",
       "\n",
       "    .dataframe thead th {\n",
       "        text-align: right;\n",
       "    }\n",
       "</style>\n",
       "<table border=\"1\" class=\"dataframe\">\n",
       "  <thead>\n",
       "    <tr style=\"text-align: right;\">\n",
       "      <th></th>\n",
       "      <th>0.0</th>\n",
       "      <th>1.0</th>\n",
       "      <th>micro avg</th>\n",
       "      <th>macro avg</th>\n",
       "      <th>weighted avg</th>\n",
       "    </tr>\n",
       "  </thead>\n",
       "  <tbody>\n",
       "    <tr>\n",
       "      <th>f1-score</th>\n",
       "      <td>0.893</td>\n",
       "      <td>0.468</td>\n",
       "      <td>0.821</td>\n",
       "      <td>0.681</td>\n",
       "      <td>0.849</td>\n",
       "    </tr>\n",
       "    <tr>\n",
       "      <th>precision</th>\n",
       "      <td>0.969</td>\n",
       "      <td>0.337</td>\n",
       "      <td>0.821</td>\n",
       "      <td>0.653</td>\n",
       "      <td>0.904</td>\n",
       "    </tr>\n",
       "    <tr>\n",
       "      <th>recall</th>\n",
       "      <td>0.828</td>\n",
       "      <td>0.768</td>\n",
       "      <td>0.821</td>\n",
       "      <td>0.798</td>\n",
       "      <td>0.821</td>\n",
       "    </tr>\n",
       "    <tr>\n",
       "      <th>support</th>\n",
       "      <td>719.000</td>\n",
       "      <td>82.000</td>\n",
       "      <td>801.000</td>\n",
       "      <td>801.000</td>\n",
       "      <td>801.000</td>\n",
       "    </tr>\n",
       "  </tbody>\n",
       "</table>\n",
       "</div>"
      ],
      "text/plain": [
       "               0.0     1.0  micro avg  macro avg  weighted avg\n",
       "f1-score     0.893   0.468      0.821      0.681         0.849\n",
       "precision    0.969   0.337      0.821      0.653         0.904\n",
       "recall       0.828   0.768      0.821      0.798         0.821\n",
       "support    719.000  82.000    801.000    801.000       801.000"
      ]
     },
     "metadata": {},
     "output_type": "display_data"
    },
    {
     "name": "stdout",
     "output_type": "stream",
     "text": [
      "Model not saved on  roc_auc 0.8648359849384306\n"
     ]
    },
    {
     "data": {
      "application/vnd.jupyter.widget-view+json": {
       "model_id": "af3c2ca1cda54e02ac2e8340342dc52a",
       "version_major": 2,
       "version_minor": 0
      },
      "text/plain": [
       "HBox(children=(IntProgress(value=0, max=229), HTML(value='')))"
      ]
     },
     "metadata": {},
     "output_type": "display_data"
    },
    {
     "data": {
      "application/vnd.jupyter.widget-view+json": {
       "model_id": "71f1d3b07d204d689508e14f29fd2910",
       "version_major": 2,
       "version_minor": 0
      },
      "text/plain": [
       "HBox(children=(IntProgress(value=0, max=51), HTML(value='')))"
      ]
     },
     "metadata": {},
     "output_type": "display_data"
    },
    {
     "name": "stdout",
     "output_type": "stream",
     "text": [
      "{'accuracy': 0.8664169787765293, 'roc_auc': 0.8548458224498797, 'pr_auc': 0.5623111881469548}\n"
     ]
    },
    {
     "data": {
      "text/html": [
       "<div>\n",
       "<style scoped>\n",
       "    .dataframe tbody tr th:only-of-type {\n",
       "        vertical-align: middle;\n",
       "    }\n",
       "\n",
       "    .dataframe tbody tr th {\n",
       "        vertical-align: top;\n",
       "    }\n",
       "\n",
       "    .dataframe thead th {\n",
       "        text-align: right;\n",
       "    }\n",
       "</style>\n",
       "<table border=\"1\" class=\"dataframe\">\n",
       "  <thead>\n",
       "    <tr style=\"text-align: right;\">\n",
       "      <th></th>\n",
       "      <th>0.0</th>\n",
       "      <th>1.0</th>\n",
       "      <th>micro avg</th>\n",
       "      <th>macro avg</th>\n",
       "      <th>weighted avg</th>\n",
       "    </tr>\n",
       "  </thead>\n",
       "  <tbody>\n",
       "    <tr>\n",
       "      <th>f1-score</th>\n",
       "      <td>0.922</td>\n",
       "      <td>0.524</td>\n",
       "      <td>0.866</td>\n",
       "      <td>0.723</td>\n",
       "      <td>0.882</td>\n",
       "    </tr>\n",
       "    <tr>\n",
       "      <th>precision</th>\n",
       "      <td>0.965</td>\n",
       "      <td>0.413</td>\n",
       "      <td>0.866</td>\n",
       "      <td>0.689</td>\n",
       "      <td>0.908</td>\n",
       "    </tr>\n",
       "    <tr>\n",
       "      <th>recall</th>\n",
       "      <td>0.883</td>\n",
       "      <td>0.720</td>\n",
       "      <td>0.866</td>\n",
       "      <td>0.801</td>\n",
       "      <td>0.866</td>\n",
       "    </tr>\n",
       "    <tr>\n",
       "      <th>support</th>\n",
       "      <td>719.000</td>\n",
       "      <td>82.000</td>\n",
       "      <td>801.000</td>\n",
       "      <td>801.000</td>\n",
       "      <td>801.000</td>\n",
       "    </tr>\n",
       "  </tbody>\n",
       "</table>\n",
       "</div>"
      ],
      "text/plain": [
       "               0.0     1.0  micro avg  macro avg  weighted avg\n",
       "f1-score     0.922   0.524      0.866      0.723         0.882\n",
       "precision    0.965   0.413      0.866      0.689         0.908\n",
       "recall       0.883   0.720      0.866      0.801         0.866\n",
       "support    719.000  82.000    801.000    801.000       801.000"
      ]
     },
     "metadata": {},
     "output_type": "display_data"
    },
    {
     "name": "stderr",
     "output_type": "stream",
     "text": [
      "INFO - 2019-03-26 16:31:20,720 - instantiating class <class 'PatientVec.models.Model.Model'> from params {'type': 'seq_classifier_with_attention', 'embedder': {'type': 'token_embedder', 'vocab_size': 18542, 'embed_size': 200, 'embedding_file': '../../../SurgeryData/PatientVec/preprocess/KneeSurgery/1_yrs/embedding_matrix.npy'}, 'decoder': {'num_layers': 2, 'hidden_dims': [128, 1], 'activations': ['tanh', 'linear']}, 'predictor': {'type': 'binary'}, 'structured': {'use_structured': False}, 'encoder': {'type': 'lstm', 'hidden_size': 128}, 'attention': {'similarity': {'type': 'additive', 'hidden_size': 128}}} and extras {}\n",
      "INFO - 2019-03-26 16:31:20,721 - type = seq_classifier_with_attention\n",
      "INFO - 2019-03-26 16:31:20,721 - instantiating class <class 'PatientVec.models.modules.Embedder.Embedder'> from params {'type': 'token_embedder', 'vocab_size': 18542, 'embed_size': 200, 'embedding_file': '../../../SurgeryData/PatientVec/preprocess/KneeSurgery/1_yrs/embedding_matrix.npy'} and extras {}\n",
      "INFO - 2019-03-26 16:31:20,722 - embedder.type = token_embedder\n",
      "INFO - 2019-03-26 16:31:20,722 - instantiating class <class 'PatientVec.models.modules.Embedder.TokenEmbedder'> from params {'vocab_size': 18542, 'embed_size': 200, 'embedding_file': '../../../SurgeryData/PatientVec/preprocess/KneeSurgery/1_yrs/embedding_matrix.npy'} and extras {}\n",
      "INFO - 2019-03-26 16:31:20,722 - embedder.vocab_size = 18542\n",
      "INFO - 2019-03-26 16:31:20,723 - embedder.embed_size = 200\n",
      "INFO - 2019-03-26 16:31:20,723 - embedder.embedding_file = ../../../SurgeryData/PatientVec/preprocess/KneeSurgery/1_yrs/embedding_matrix.npy\n",
      "INFO - 2019-03-26 16:31:20,732 - instantiating class <class 'PatientVec.models.modules.Encoder.Encoder'> from params {'type': 'lstm', 'hidden_size': 128} and extras {'input_size': 200}\n",
      "INFO - 2019-03-26 16:31:20,732 - encoder.type = lstm\n",
      "INFO - 2019-03-26 16:31:20,732 - instantiating class <class 'PatientVec.models.modules.Encoder.wrap_pytorch_rnn.<locals>.BiRNNEncoder'> from params {'hidden_size': 128} and extras {'input_size': 200}\n",
      "INFO - 2019-03-26 16:31:20,733 - encoder.hidden_size = 128\n",
      "INFO - 2019-03-26 16:31:20,735 - instantiating class <class 'PatientVec.models.modules.SelfAttention.SelfAttention'> from params {'similarity': {'type': 'additive', 'hidden_size': 128, 'tensor_1_dim': 256}} and extras {}\n",
      "INFO - 2019-03-26 16:31:20,735 - instantiating class <class 'PatientVec.models.modules.UniSimilarity.UniSimilarity'> from params {'type': 'additive', 'hidden_size': 128, 'tensor_1_dim': 256} and extras {}\n",
      "INFO - 2019-03-26 16:31:20,736 - attention.similarity.type = additive\n",
      "INFO - 2019-03-26 16:31:20,736 - instantiating class <class 'PatientVec.models.modules.UniSimilarity.UniAdditiveSimilarity'> from params {'hidden_size': 128, 'tensor_1_dim': 256} and extras {}\n",
      "INFO - 2019-03-26 16:31:20,737 - attention.similarity.tensor_1_dim = 256\n",
      "INFO - 2019-03-26 16:31:20,737 - attention.similarity.hidden_size = 128\n",
      "INFO - 2019-03-26 16:31:20,737 - attention.similarity.output_size = 1\n",
      "INFO - 2019-03-26 16:31:20,738 - attention.normaliser = softmax\n",
      "INFO - 2019-03-26 16:31:20,738 - decoder.input_dim = 256\n",
      "INFO - 2019-03-26 16:31:20,739 - decoder.num_layers = 2\n",
      "INFO - 2019-03-26 16:31:20,739 - decoder.hidden_dims = [128, 1]\n",
      "INFO - 2019-03-26 16:31:20,739 - decoder.activations = ['tanh', 'linear']\n",
      "INFO - 2019-03-26 16:31:20,740 - decoder.dropout = 0.0\n",
      "INFO - 2019-03-26 16:31:20,741 - instantiating class <class 'PatientVec.models.modules.Predictor.Predictor'> from params {'type': 'binary'} and extras {}\n",
      "INFO - 2019-03-26 16:31:20,741 - predictor.type = binary\n",
      "INFO - 2019-03-26 16:31:20,741 - instantiating class <class 'PatientVec.models.modules.Predictor.Binary_Predictor'> from params {} and extras {}\n",
      "INFO - 2019-03-26 16:31:20,742 - predictor.replicate = False\n",
      "INFO - 2019-03-26 16:31:20,742 - predictor.alpha = 0.5\n"
     ]
    },
    {
     "name": "stdout",
     "output_type": "stream",
     "text": [
      "Model not saved on  roc_auc 0.8548458224498797\n",
      "0.8753010617727874 deque([0.8647172563519794, 0.8648359849384306, 0.8548458224498797], maxlen=3)\n",
      "\n",
      "Setting Embedding\n"
     ]
    },
    {
     "data": {
      "application/vnd.jupyter.widget-view+json": {
       "model_id": "83efa02498df4fcf942326a4b6d90666",
       "version_major": 2,
       "version_minor": 0
      },
      "text/plain": [
       "HBox(children=(IntProgress(value=0, max=51), HTML(value='')))"
      ]
     },
     "metadata": {},
     "output_type": "display_data"
    },
    {
     "name": "stdout",
     "output_type": "stream",
     "text": [
      "\n",
      "{'accuracy': 0.8439450686641697, 'roc_auc': 0.8753010617727874, 'pr_auc': 0.5675089577100679}\n"
     ]
    },
    {
     "data": {
      "text/html": [
       "<div>\n",
       "<style scoped>\n",
       "    .dataframe tbody tr th:only-of-type {\n",
       "        vertical-align: middle;\n",
       "    }\n",
       "\n",
       "    .dataframe tbody tr th {\n",
       "        vertical-align: top;\n",
       "    }\n",
       "\n",
       "    .dataframe thead th {\n",
       "        text-align: right;\n",
       "    }\n",
       "</style>\n",
       "<table border=\"1\" class=\"dataframe\">\n",
       "  <thead>\n",
       "    <tr style=\"text-align: right;\">\n",
       "      <th></th>\n",
       "      <th>0.0</th>\n",
       "      <th>1.0</th>\n",
       "      <th>micro avg</th>\n",
       "      <th>macro avg</th>\n",
       "      <th>weighted avg</th>\n",
       "    </tr>\n",
       "  </thead>\n",
       "  <tbody>\n",
       "    <tr>\n",
       "      <th>f1-score</th>\n",
       "      <td>0.907</td>\n",
       "      <td>0.514</td>\n",
       "      <td>0.844</td>\n",
       "      <td>0.710</td>\n",
       "      <td>0.867</td>\n",
       "    </tr>\n",
       "    <tr>\n",
       "      <th>precision</th>\n",
       "      <td>0.974</td>\n",
       "      <td>0.377</td>\n",
       "      <td>0.844</td>\n",
       "      <td>0.676</td>\n",
       "      <td>0.913</td>\n",
       "    </tr>\n",
       "    <tr>\n",
       "      <th>recall</th>\n",
       "      <td>0.848</td>\n",
       "      <td>0.805</td>\n",
       "      <td>0.844</td>\n",
       "      <td>0.827</td>\n",
       "      <td>0.844</td>\n",
       "    </tr>\n",
       "    <tr>\n",
       "      <th>support</th>\n",
       "      <td>719.000</td>\n",
       "      <td>82.000</td>\n",
       "      <td>801.000</td>\n",
       "      <td>801.000</td>\n",
       "      <td>801.000</td>\n",
       "    </tr>\n",
       "  </tbody>\n",
       "</table>\n",
       "</div>"
      ],
      "text/plain": [
       "               0.0     1.0  micro avg  macro avg  weighted avg\n",
       "f1-score     0.907   0.514      0.844      0.710         0.867\n",
       "precision    0.974   0.377      0.844      0.676         0.913\n",
       "recall       0.848   0.805      0.844      0.827         0.844\n",
       "support    719.000  82.000    801.000    801.000       801.000"
      ]
     },
     "metadata": {},
     "output_type": "display_data"
    },
    {
     "name": "stderr",
     "output_type": "stream",
     "text": [
      "INFO - 2019-03-26 16:31:36,618 - instantiating class <class 'PatientVec.models.Model.Model'> from params {'type': 'seq_classifier', 'embedder': {'type': 'token_embedder', 'vocab_size': 18542, 'embed_size': 200, 'embedding_file': '../../../SurgeryData/PatientVec/preprocess/KneeSurgery/1_yrs/embedding_matrix.npy'}, 'decoder': {'num_layers': 2, 'hidden_dims': [128, 1], 'activations': ['tanh', 'linear']}, 'predictor': {'type': 'binary'}, 'structured': {'use_structured': False}, 'encoder': {'type': 'cnn', 'hidden_size': 64, 'kernel_sizes': [3, 5, 7, 9], 'activation': 'relu'}} and extras {}\n",
      "INFO - 2019-03-26 16:31:36,619 - type = seq_classifier\n",
      "INFO - 2019-03-26 16:31:36,619 - instantiating class <class 'PatientVec.models.modules.Embedder.Embedder'> from params {'type': 'token_embedder', 'vocab_size': 18542, 'embed_size': 200, 'embedding_file': '../../../SurgeryData/PatientVec/preprocess/KneeSurgery/1_yrs/embedding_matrix.npy'} and extras {}\n",
      "INFO - 2019-03-26 16:31:36,620 - embedder.type = token_embedder\n",
      "INFO - 2019-03-26 16:31:36,620 - instantiating class <class 'PatientVec.models.modules.Embedder.TokenEmbedder'> from params {'vocab_size': 18542, 'embed_size': 200, 'embedding_file': '../../../SurgeryData/PatientVec/preprocess/KneeSurgery/1_yrs/embedding_matrix.npy'} and extras {}\n",
      "INFO - 2019-03-26 16:31:36,620 - embedder.vocab_size = 18542\n",
      "INFO - 2019-03-26 16:31:36,621 - embedder.embed_size = 200\n",
      "INFO - 2019-03-26 16:31:36,621 - embedder.embedding_file = ../../../SurgeryData/PatientVec/preprocess/KneeSurgery/1_yrs/embedding_matrix.npy\n",
      "INFO - 2019-03-26 16:31:36,631 - instantiating class <class 'PatientVec.models.modules.Encoder.Encoder'> from params {'type': 'cnn', 'hidden_size': 64, 'kernel_sizes': [3, 5, 7, 9], 'activation': 'relu'} and extras {'input_size': 200}\n",
      "INFO - 2019-03-26 16:31:36,631 - encoder.type = cnn\n",
      "INFO - 2019-03-26 16:31:36,631 - instantiating class <class 'PatientVec.models.modules.Encoder.CNNEncoder'> from params {'hidden_size': 64, 'kernel_sizes': [3, 5, 7, 9], 'activation': 'relu'} and extras {'input_size': 200}\n",
      "INFO - 2019-03-26 16:31:36,632 - encoder.hidden_size = 64\n",
      "INFO - 2019-03-26 16:31:36,632 - encoder.kernel_sizes = [3, 5, 7, 9]\n",
      "INFO - 2019-03-26 16:31:36,632 - encoder.activation = relu\n",
      "INFO - 2019-03-26 16:31:36,636 - decoder.input_dim = 256\n",
      "INFO - 2019-03-26 16:31:36,637 - decoder.num_layers = 2\n",
      "INFO - 2019-03-26 16:31:36,637 - decoder.hidden_dims = [128, 1]\n",
      "INFO - 2019-03-26 16:31:36,637 - decoder.activations = ['tanh', 'linear']\n",
      "INFO - 2019-03-26 16:31:36,638 - decoder.dropout = 0.0\n",
      "INFO - 2019-03-26 16:31:36,639 - instantiating class <class 'PatientVec.models.modules.Predictor.Predictor'> from params {'type': 'binary'} and extras {}\n",
      "INFO - 2019-03-26 16:31:36,639 - predictor.type = binary\n",
      "INFO - 2019-03-26 16:31:36,640 - instantiating class <class 'PatientVec.models.modules.Predictor.Binary_Predictor'> from params {} and extras {}\n",
      "INFO - 2019-03-26 16:31:36,640 - predictor.replicate = False\n",
      "INFO - 2019-03-26 16:31:36,640 - predictor.alpha = 0.5\n"
     ]
    },
    {
     "name": "stdout",
     "output_type": "stream",
     "text": [
      "============================================================================================================================================================================================================================================================================================================\n",
      "{'model': {'type': 'seq_classifier', 'embedder': {'type': 'token_embedder', 'vocab_size': 18542, 'embed_size': 200, 'embedding_file': '../../../SurgeryData/PatientVec/preprocess/KneeSurgery/1_yrs/embedding_matrix.npy'}, 'decoder': {'num_layers': 2, 'hidden_dims': [128, 1], 'activations': ['tanh', 'linear']}, 'predictor': {'type': 'binary'}, 'structured': {'use_structured': False}, 'encoder': {'type': 'cnn', 'hidden_size': 64, 'kernel_sizes': [3, 5, 7, 9], 'activation': 'relu'}}, 'training_config': {'type': 'Adam', 'groups': [('.*', {'lr': 0.001, 'weight_decay': 1e-05})], 'common': {'bsize': 16, 'class_weight': True}}, 'exp_config': {'exp_name': 'KneeSurgery_1/Basic/CNN(hs=64)(kernels=3,5,7,9)', 'basepath': 'outputs/confidence'}}\n",
      "Setting Embedding\n"
     ]
    },
    {
     "data": {
      "application/vnd.jupyter.widget-view+json": {
       "model_id": "b865c367b0634ee49938caf4bc4e13b7",
       "version_major": 2,
       "version_minor": 0
      },
      "text/plain": [
       "HBox(children=(IntProgress(value=0, max=8), HTML(value='')))"
      ]
     },
     "metadata": {},
     "output_type": "display_data"
    },
    {
     "data": {
      "application/vnd.jupyter.widget-view+json": {
       "model_id": "96c473eb5ea6470e83384c1602736431",
       "version_major": 2,
       "version_minor": 0
      },
      "text/plain": [
       "HBox(children=(IntProgress(value=0, max=229), HTML(value='')))"
      ]
     },
     "metadata": {},
     "output_type": "display_data"
    },
    {
     "data": {
      "application/vnd.jupyter.widget-view+json": {
       "model_id": "871d5be265694bf6ac0ab1f721334309",
       "version_major": 2,
       "version_minor": 0
      },
      "text/plain": [
       "HBox(children=(IntProgress(value=0, max=51), HTML(value='')))"
      ]
     },
     "metadata": {},
     "output_type": "display_data"
    },
    {
     "name": "stdout",
     "output_type": "stream",
     "text": [
      "{'accuracy': 0.9063670411985019, 'roc_auc': 0.8699752366091116, 'pr_auc': 0.5502821430258041}\n"
     ]
    },
    {
     "data": {
      "text/html": [
       "<div>\n",
       "<style scoped>\n",
       "    .dataframe tbody tr th:only-of-type {\n",
       "        vertical-align: middle;\n",
       "    }\n",
       "\n",
       "    .dataframe tbody tr th {\n",
       "        vertical-align: top;\n",
       "    }\n",
       "\n",
       "    .dataframe thead th {\n",
       "        text-align: right;\n",
       "    }\n",
       "</style>\n",
       "<table border=\"1\" class=\"dataframe\">\n",
       "  <thead>\n",
       "    <tr style=\"text-align: right;\">\n",
       "      <th></th>\n",
       "      <th>0.0</th>\n",
       "      <th>1.0</th>\n",
       "      <th>micro avg</th>\n",
       "      <th>macro avg</th>\n",
       "      <th>weighted avg</th>\n",
       "    </tr>\n",
       "  </thead>\n",
       "  <tbody>\n",
       "    <tr>\n",
       "      <th>f1-score</th>\n",
       "      <td>0.947</td>\n",
       "      <td>0.607</td>\n",
       "      <td>0.906</td>\n",
       "      <td>0.777</td>\n",
       "      <td>0.912</td>\n",
       "    </tr>\n",
       "    <tr>\n",
       "      <th>precision</th>\n",
       "      <td>0.965</td>\n",
       "      <td>0.532</td>\n",
       "      <td>0.906</td>\n",
       "      <td>0.749</td>\n",
       "      <td>0.921</td>\n",
       "    </tr>\n",
       "    <tr>\n",
       "      <th>recall</th>\n",
       "      <td>0.929</td>\n",
       "      <td>0.707</td>\n",
       "      <td>0.906</td>\n",
       "      <td>0.818</td>\n",
       "      <td>0.906</td>\n",
       "    </tr>\n",
       "    <tr>\n",
       "      <th>support</th>\n",
       "      <td>719.000</td>\n",
       "      <td>82.000</td>\n",
       "      <td>801.000</td>\n",
       "      <td>801.000</td>\n",
       "      <td>801.000</td>\n",
       "    </tr>\n",
       "  </tbody>\n",
       "</table>\n",
       "</div>"
      ],
      "text/plain": [
       "               0.0     1.0  micro avg  macro avg  weighted avg\n",
       "f1-score     0.947   0.607      0.906      0.777         0.912\n",
       "precision    0.965   0.532      0.906      0.749         0.921\n",
       "recall       0.929   0.707      0.906      0.818         0.906\n",
       "support    719.000  82.000    801.000    801.000       801.000"
      ]
     },
     "metadata": {},
     "output_type": "display_data"
    },
    {
     "name": "stdout",
     "output_type": "stream",
     "text": [
      "Model Saved on  roc_auc 0.8699752366091116\n"
     ]
    },
    {
     "data": {
      "application/vnd.jupyter.widget-view+json": {
       "model_id": "d380066ba9434197b938299821808a0c",
       "version_major": 2,
       "version_minor": 0
      },
      "text/plain": [
       "HBox(children=(IntProgress(value=0, max=229), HTML(value='')))"
      ]
     },
     "metadata": {},
     "output_type": "display_data"
    },
    {
     "data": {
      "application/vnd.jupyter.widget-view+json": {
       "model_id": "cf8a4292deb24bb89929168e8652dd29",
       "version_major": 2,
       "version_minor": 0
      },
      "text/plain": [
       "HBox(children=(IntProgress(value=0, max=51), HTML(value='')))"
      ]
     },
     "metadata": {},
     "output_type": "display_data"
    },
    {
     "name": "stdout",
     "output_type": "stream",
     "text": [
      "{'accuracy': 0.898876404494382, 'roc_auc': 0.868754028291326, 'pr_auc': 0.5795852191681321}\n"
     ]
    },
    {
     "data": {
      "text/html": [
       "<div>\n",
       "<style scoped>\n",
       "    .dataframe tbody tr th:only-of-type {\n",
       "        vertical-align: middle;\n",
       "    }\n",
       "\n",
       "    .dataframe tbody tr th {\n",
       "        vertical-align: top;\n",
       "    }\n",
       "\n",
       "    .dataframe thead th {\n",
       "        text-align: right;\n",
       "    }\n",
       "</style>\n",
       "<table border=\"1\" class=\"dataframe\">\n",
       "  <thead>\n",
       "    <tr style=\"text-align: right;\">\n",
       "      <th></th>\n",
       "      <th>0.0</th>\n",
       "      <th>1.0</th>\n",
       "      <th>micro avg</th>\n",
       "      <th>macro avg</th>\n",
       "      <th>weighted avg</th>\n",
       "    </tr>\n",
       "  </thead>\n",
       "  <tbody>\n",
       "    <tr>\n",
       "      <th>f1-score</th>\n",
       "      <td>0.942</td>\n",
       "      <td>0.593</td>\n",
       "      <td>0.899</td>\n",
       "      <td>0.768</td>\n",
       "      <td>0.907</td>\n",
       "    </tr>\n",
       "    <tr>\n",
       "      <th>precision</th>\n",
       "      <td>0.966</td>\n",
       "      <td>0.504</td>\n",
       "      <td>0.899</td>\n",
       "      <td>0.735</td>\n",
       "      <td>0.919</td>\n",
       "    </tr>\n",
       "    <tr>\n",
       "      <th>recall</th>\n",
       "      <td>0.919</td>\n",
       "      <td>0.720</td>\n",
       "      <td>0.899</td>\n",
       "      <td>0.819</td>\n",
       "      <td>0.899</td>\n",
       "    </tr>\n",
       "    <tr>\n",
       "      <th>support</th>\n",
       "      <td>719.000</td>\n",
       "      <td>82.000</td>\n",
       "      <td>801.000</td>\n",
       "      <td>801.000</td>\n",
       "      <td>801.000</td>\n",
       "    </tr>\n",
       "  </tbody>\n",
       "</table>\n",
       "</div>"
      ],
      "text/plain": [
       "               0.0     1.0  micro avg  macro avg  weighted avg\n",
       "f1-score     0.942   0.593      0.899      0.768         0.907\n",
       "precision    0.966   0.504      0.899      0.735         0.919\n",
       "recall       0.919   0.720      0.899      0.819         0.899\n",
       "support    719.000  82.000    801.000    801.000       801.000"
      ]
     },
     "metadata": {},
     "output_type": "display_data"
    },
    {
     "name": "stdout",
     "output_type": "stream",
     "text": [
      "Model not saved on  roc_auc 0.868754028291326\n"
     ]
    },
    {
     "data": {
      "application/vnd.jupyter.widget-view+json": {
       "model_id": "1b43e74d70df4da0b5f9993e435a773e",
       "version_major": 2,
       "version_minor": 0
      },
      "text/plain": [
       "HBox(children=(IntProgress(value=0, max=229), HTML(value='')))"
      ]
     },
     "metadata": {},
     "output_type": "display_data"
    },
    {
     "data": {
      "application/vnd.jupyter.widget-view+json": {
       "model_id": "6c02766210c846f48a9203db2044fffe",
       "version_major": 2,
       "version_minor": 0
      },
      "text/plain": [
       "HBox(children=(IntProgress(value=0, max=51), HTML(value='')))"
      ]
     },
     "metadata": {},
     "output_type": "display_data"
    },
    {
     "name": "stdout",
     "output_type": "stream",
     "text": [
      "{'accuracy': 0.850187265917603, 'roc_auc': 0.8789816479527799, 'pr_auc': 0.5567561657576924}\n"
     ]
    },
    {
     "data": {
      "text/html": [
       "<div>\n",
       "<style scoped>\n",
       "    .dataframe tbody tr th:only-of-type {\n",
       "        vertical-align: middle;\n",
       "    }\n",
       "\n",
       "    .dataframe tbody tr th {\n",
       "        vertical-align: top;\n",
       "    }\n",
       "\n",
       "    .dataframe thead th {\n",
       "        text-align: right;\n",
       "    }\n",
       "</style>\n",
       "<table border=\"1\" class=\"dataframe\">\n",
       "  <thead>\n",
       "    <tr style=\"text-align: right;\">\n",
       "      <th></th>\n",
       "      <th>0.0</th>\n",
       "      <th>1.0</th>\n",
       "      <th>micro avg</th>\n",
       "      <th>macro avg</th>\n",
       "      <th>weighted avg</th>\n",
       "    </tr>\n",
       "  </thead>\n",
       "  <tbody>\n",
       "    <tr>\n",
       "      <th>f1-score</th>\n",
       "      <td>0.912</td>\n",
       "      <td>0.508</td>\n",
       "      <td>0.85</td>\n",
       "      <td>0.710</td>\n",
       "      <td>0.870</td>\n",
       "    </tr>\n",
       "    <tr>\n",
       "      <th>precision</th>\n",
       "      <td>0.969</td>\n",
       "      <td>0.383</td>\n",
       "      <td>0.85</td>\n",
       "      <td>0.676</td>\n",
       "      <td>0.909</td>\n",
       "    </tr>\n",
       "    <tr>\n",
       "      <th>recall</th>\n",
       "      <td>0.861</td>\n",
       "      <td>0.756</td>\n",
       "      <td>0.85</td>\n",
       "      <td>0.809</td>\n",
       "      <td>0.850</td>\n",
       "    </tr>\n",
       "    <tr>\n",
       "      <th>support</th>\n",
       "      <td>719.000</td>\n",
       "      <td>82.000</td>\n",
       "      <td>801.00</td>\n",
       "      <td>801.000</td>\n",
       "      <td>801.000</td>\n",
       "    </tr>\n",
       "  </tbody>\n",
       "</table>\n",
       "</div>"
      ],
      "text/plain": [
       "               0.0     1.0  micro avg  macro avg  weighted avg\n",
       "f1-score     0.912   0.508       0.85      0.710         0.870\n",
       "precision    0.969   0.383       0.85      0.676         0.909\n",
       "recall       0.861   0.756       0.85      0.809         0.850\n",
       "support    719.000  82.000     801.00    801.000       801.000"
      ]
     },
     "metadata": {},
     "output_type": "display_data"
    },
    {
     "name": "stdout",
     "output_type": "stream",
     "text": [
      "Model Saved on  roc_auc 0.8789816479527799\n"
     ]
    },
    {
     "data": {
      "application/vnd.jupyter.widget-view+json": {
       "model_id": "6cb42afe70cd4335976c993c95bfaafb",
       "version_major": 2,
       "version_minor": 0
      },
      "text/plain": [
       "HBox(children=(IntProgress(value=0, max=229), HTML(value='')))"
      ]
     },
     "metadata": {},
     "output_type": "display_data"
    },
    {
     "data": {
      "application/vnd.jupyter.widget-view+json": {
       "model_id": "cef6ee55a49649e4b4b505251780212e",
       "version_major": 2,
       "version_minor": 0
      },
      "text/plain": [
       "HBox(children=(IntProgress(value=0, max=51), HTML(value='')))"
      ]
     },
     "metadata": {},
     "output_type": "display_data"
    },
    {
     "name": "stdout",
     "output_type": "stream",
     "text": [
      "{'accuracy': 0.9038701622971286, 'roc_auc': 0.8533362732792835, 'pr_auc': 0.5469647116826403}\n"
     ]
    },
    {
     "data": {
      "text/html": [
       "<div>\n",
       "<style scoped>\n",
       "    .dataframe tbody tr th:only-of-type {\n",
       "        vertical-align: middle;\n",
       "    }\n",
       "\n",
       "    .dataframe tbody tr th {\n",
       "        vertical-align: top;\n",
       "    }\n",
       "\n",
       "    .dataframe thead th {\n",
       "        text-align: right;\n",
       "    }\n",
       "</style>\n",
       "<table border=\"1\" class=\"dataframe\">\n",
       "  <thead>\n",
       "    <tr style=\"text-align: right;\">\n",
       "      <th></th>\n",
       "      <th>0.0</th>\n",
       "      <th>1.0</th>\n",
       "      <th>micro avg</th>\n",
       "      <th>macro avg</th>\n",
       "      <th>weighted avg</th>\n",
       "    </tr>\n",
       "  </thead>\n",
       "  <tbody>\n",
       "    <tr>\n",
       "      <th>f1-score</th>\n",
       "      <td>0.945</td>\n",
       "      <td>0.597</td>\n",
       "      <td>0.904</td>\n",
       "      <td>0.771</td>\n",
       "      <td>0.910</td>\n",
       "    </tr>\n",
       "    <tr>\n",
       "      <th>precision</th>\n",
       "      <td>0.964</td>\n",
       "      <td>0.523</td>\n",
       "      <td>0.904</td>\n",
       "      <td>0.743</td>\n",
       "      <td>0.919</td>\n",
       "    </tr>\n",
       "    <tr>\n",
       "      <th>recall</th>\n",
       "      <td>0.928</td>\n",
       "      <td>0.695</td>\n",
       "      <td>0.904</td>\n",
       "      <td>0.811</td>\n",
       "      <td>0.904</td>\n",
       "    </tr>\n",
       "    <tr>\n",
       "      <th>support</th>\n",
       "      <td>719.000</td>\n",
       "      <td>82.000</td>\n",
       "      <td>801.000</td>\n",
       "      <td>801.000</td>\n",
       "      <td>801.000</td>\n",
       "    </tr>\n",
       "  </tbody>\n",
       "</table>\n",
       "</div>"
      ],
      "text/plain": [
       "               0.0     1.0  micro avg  macro avg  weighted avg\n",
       "f1-score     0.945   0.597      0.904      0.771         0.910\n",
       "precision    0.964   0.523      0.904      0.743         0.919\n",
       "recall       0.928   0.695      0.904      0.811         0.904\n",
       "support    719.000  82.000    801.000    801.000       801.000"
      ]
     },
     "metadata": {},
     "output_type": "display_data"
    },
    {
     "name": "stdout",
     "output_type": "stream",
     "text": [
      "Model not saved on  roc_auc 0.8533362732792835\n"
     ]
    },
    {
     "data": {
      "application/vnd.jupyter.widget-view+json": {
       "model_id": "84dfa0c39f424f6fafb105c9726dfea6",
       "version_major": 2,
       "version_minor": 0
      },
      "text/plain": [
       "HBox(children=(IntProgress(value=0, max=229), HTML(value='')))"
      ]
     },
     "metadata": {},
     "output_type": "display_data"
    },
    {
     "data": {
      "application/vnd.jupyter.widget-view+json": {
       "model_id": "12bfd63b4f904427a5e46ab09b913c6d",
       "version_major": 2,
       "version_minor": 0
      },
      "text/plain": [
       "HBox(children=(IntProgress(value=0, max=51), HTML(value='')))"
      ]
     },
     "metadata": {},
     "output_type": "display_data"
    },
    {
     "name": "stdout",
     "output_type": "stream",
     "text": [
      "{'accuracy': 0.8801498127340824, 'roc_auc': 0.8673801689338172, 'pr_auc': 0.6261173498894956}\n"
     ]
    },
    {
     "data": {
      "text/html": [
       "<div>\n",
       "<style scoped>\n",
       "    .dataframe tbody tr th:only-of-type {\n",
       "        vertical-align: middle;\n",
       "    }\n",
       "\n",
       "    .dataframe tbody tr th {\n",
       "        vertical-align: top;\n",
       "    }\n",
       "\n",
       "    .dataframe thead th {\n",
       "        text-align: right;\n",
       "    }\n",
       "</style>\n",
       "<table border=\"1\" class=\"dataframe\">\n",
       "  <thead>\n",
       "    <tr style=\"text-align: right;\">\n",
       "      <th></th>\n",
       "      <th>0.0</th>\n",
       "      <th>1.0</th>\n",
       "      <th>micro avg</th>\n",
       "      <th>macro avg</th>\n",
       "      <th>weighted avg</th>\n",
       "    </tr>\n",
       "  </thead>\n",
       "  <tbody>\n",
       "    <tr>\n",
       "      <th>f1-score</th>\n",
       "      <td>0.931</td>\n",
       "      <td>0.556</td>\n",
       "      <td>0.88</td>\n",
       "      <td>0.743</td>\n",
       "      <td>0.892</td>\n",
       "    </tr>\n",
       "    <tr>\n",
       "      <th>precision</th>\n",
       "      <td>0.967</td>\n",
       "      <td>0.448</td>\n",
       "      <td>0.88</td>\n",
       "      <td>0.707</td>\n",
       "      <td>0.914</td>\n",
       "    </tr>\n",
       "    <tr>\n",
       "      <th>recall</th>\n",
       "      <td>0.897</td>\n",
       "      <td>0.732</td>\n",
       "      <td>0.88</td>\n",
       "      <td>0.814</td>\n",
       "      <td>0.880</td>\n",
       "    </tr>\n",
       "    <tr>\n",
       "      <th>support</th>\n",
       "      <td>719.000</td>\n",
       "      <td>82.000</td>\n",
       "      <td>801.00</td>\n",
       "      <td>801.000</td>\n",
       "      <td>801.000</td>\n",
       "    </tr>\n",
       "  </tbody>\n",
       "</table>\n",
       "</div>"
      ],
      "text/plain": [
       "               0.0     1.0  micro avg  macro avg  weighted avg\n",
       "f1-score     0.931   0.556       0.88      0.743         0.892\n",
       "precision    0.967   0.448       0.88      0.707         0.914\n",
       "recall       0.897   0.732       0.88      0.814         0.880\n",
       "support    719.000  82.000     801.00    801.000       801.000"
      ]
     },
     "metadata": {},
     "output_type": "display_data"
    },
    {
     "name": "stdout",
     "output_type": "stream",
     "text": [
      "Model not saved on  roc_auc 0.8673801689338172\n"
     ]
    },
    {
     "data": {
      "application/vnd.jupyter.widget-view+json": {
       "model_id": "ca34b2e2f68a49059d5db01ab170506c",
       "version_major": 2,
       "version_minor": 0
      },
      "text/plain": [
       "HBox(children=(IntProgress(value=0, max=229), HTML(value='')))"
      ]
     },
     "metadata": {},
     "output_type": "display_data"
    },
    {
     "data": {
      "application/vnd.jupyter.widget-view+json": {
       "model_id": "913b538bc5684f7fab7abc18058b84d7",
       "version_major": 2,
       "version_minor": 0
      },
      "text/plain": [
       "HBox(children=(IntProgress(value=0, max=51), HTML(value='')))"
      ]
     },
     "metadata": {},
     "output_type": "display_data"
    },
    {
     "name": "stdout",
     "output_type": "stream",
     "text": [
      "{'accuracy': 0.8901373283395755, 'roc_auc': 0.8730961023101191, 'pr_auc': 0.6037086140010708}\n"
     ]
    },
    {
     "data": {
      "text/html": [
       "<div>\n",
       "<style scoped>\n",
       "    .dataframe tbody tr th:only-of-type {\n",
       "        vertical-align: middle;\n",
       "    }\n",
       "\n",
       "    .dataframe tbody tr th {\n",
       "        vertical-align: top;\n",
       "    }\n",
       "\n",
       "    .dataframe thead th {\n",
       "        text-align: right;\n",
       "    }\n",
       "</style>\n",
       "<table border=\"1\" class=\"dataframe\">\n",
       "  <thead>\n",
       "    <tr style=\"text-align: right;\">\n",
       "      <th></th>\n",
       "      <th>0.0</th>\n",
       "      <th>1.0</th>\n",
       "      <th>micro avg</th>\n",
       "      <th>macro avg</th>\n",
       "      <th>weighted avg</th>\n",
       "    </tr>\n",
       "  </thead>\n",
       "  <tbody>\n",
       "    <tr>\n",
       "      <th>f1-score</th>\n",
       "      <td>0.937</td>\n",
       "      <td>0.569</td>\n",
       "      <td>0.89</td>\n",
       "      <td>0.753</td>\n",
       "      <td>0.899</td>\n",
       "    </tr>\n",
       "    <tr>\n",
       "      <th>precision</th>\n",
       "      <td>0.965</td>\n",
       "      <td>0.475</td>\n",
       "      <td>0.89</td>\n",
       "      <td>0.720</td>\n",
       "      <td>0.915</td>\n",
       "    </tr>\n",
       "    <tr>\n",
       "      <th>recall</th>\n",
       "      <td>0.911</td>\n",
       "      <td>0.707</td>\n",
       "      <td>0.89</td>\n",
       "      <td>0.809</td>\n",
       "      <td>0.890</td>\n",
       "    </tr>\n",
       "    <tr>\n",
       "      <th>support</th>\n",
       "      <td>719.000</td>\n",
       "      <td>82.000</td>\n",
       "      <td>801.00</td>\n",
       "      <td>801.000</td>\n",
       "      <td>801.000</td>\n",
       "    </tr>\n",
       "  </tbody>\n",
       "</table>\n",
       "</div>"
      ],
      "text/plain": [
       "               0.0     1.0  micro avg  macro avg  weighted avg\n",
       "f1-score     0.937   0.569       0.89      0.753         0.899\n",
       "precision    0.965   0.475       0.89      0.720         0.915\n",
       "recall       0.911   0.707       0.89      0.809         0.890\n",
       "support    719.000  82.000     801.00    801.000       801.000"
      ]
     },
     "metadata": {},
     "output_type": "display_data"
    },
    {
     "name": "stderr",
     "output_type": "stream",
     "text": [
      "INFO - 2019-03-26 16:34:27,576 - instantiating class <class 'PatientVec.models.Model.Model'> from params {'type': 'seq_classifier', 'embedder': {'type': 'token_embedder', 'vocab_size': 18542, 'embed_size': 200, 'embedding_file': '../../../SurgeryData/PatientVec/preprocess/KneeSurgery/1_yrs/embedding_matrix.npy'}, 'decoder': {'num_layers': 2, 'hidden_dims': [128, 1], 'activations': ['tanh', 'linear']}, 'predictor': {'type': 'binary'}, 'structured': {'use_structured': False}, 'encoder': {'type': 'cnn', 'hidden_size': 64, 'kernel_sizes': [3, 5, 7, 9], 'activation': 'relu'}} and extras {}\n",
      "INFO - 2019-03-26 16:34:27,576 - type = seq_classifier\n",
      "INFO - 2019-03-26 16:34:27,577 - instantiating class <class 'PatientVec.models.modules.Embedder.Embedder'> from params {'type': 'token_embedder', 'vocab_size': 18542, 'embed_size': 200, 'embedding_file': '../../../SurgeryData/PatientVec/preprocess/KneeSurgery/1_yrs/embedding_matrix.npy'} and extras {}\n",
      "INFO - 2019-03-26 16:34:27,577 - embedder.type = token_embedder\n",
      "INFO - 2019-03-26 16:34:27,577 - instantiating class <class 'PatientVec.models.modules.Embedder.TokenEmbedder'> from params {'vocab_size': 18542, 'embed_size': 200, 'embedding_file': '../../../SurgeryData/PatientVec/preprocess/KneeSurgery/1_yrs/embedding_matrix.npy'} and extras {}\n",
      "INFO - 2019-03-26 16:34:27,578 - embedder.vocab_size = 18542\n",
      "INFO - 2019-03-26 16:34:27,578 - embedder.embed_size = 200\n",
      "INFO - 2019-03-26 16:34:27,578 - embedder.embedding_file = ../../../SurgeryData/PatientVec/preprocess/KneeSurgery/1_yrs/embedding_matrix.npy\n",
      "INFO - 2019-03-26 16:34:27,586 - instantiating class <class 'PatientVec.models.modules.Encoder.Encoder'> from params {'type': 'cnn', 'hidden_size': 64, 'kernel_sizes': [3, 5, 7, 9], 'activation': 'relu'} and extras {'input_size': 200}\n",
      "INFO - 2019-03-26 16:34:27,587 - encoder.type = cnn\n",
      "INFO - 2019-03-26 16:34:27,587 - instantiating class <class 'PatientVec.models.modules.Encoder.CNNEncoder'> from params {'hidden_size': 64, 'kernel_sizes': [3, 5, 7, 9], 'activation': 'relu'} and extras {'input_size': 200}\n",
      "INFO - 2019-03-26 16:34:27,587 - encoder.hidden_size = 64\n",
      "INFO - 2019-03-26 16:34:27,588 - encoder.kernel_sizes = [3, 5, 7, 9]\n",
      "INFO - 2019-03-26 16:34:27,588 - encoder.activation = relu\n",
      "INFO - 2019-03-26 16:34:27,591 - decoder.input_dim = 256\n",
      "INFO - 2019-03-26 16:34:27,591 - decoder.num_layers = 2\n",
      "INFO - 2019-03-26 16:34:27,591 - decoder.hidden_dims = [128, 1]\n",
      "INFO - 2019-03-26 16:34:27,592 - decoder.activations = ['tanh', 'linear']\n",
      "INFO - 2019-03-26 16:34:27,592 - decoder.dropout = 0.0\n",
      "INFO - 2019-03-26 16:34:27,593 - instantiating class <class 'PatientVec.models.modules.Predictor.Predictor'> from params {'type': 'binary'} and extras {}\n",
      "INFO - 2019-03-26 16:34:27,593 - predictor.type = binary\n",
      "INFO - 2019-03-26 16:34:27,593 - instantiating class <class 'PatientVec.models.modules.Predictor.Binary_Predictor'> from params {} and extras {}\n",
      "INFO - 2019-03-26 16:34:27,594 - predictor.replicate = False\n",
      "INFO - 2019-03-26 16:34:27,594 - predictor.alpha = 0.5\n"
     ]
    },
    {
     "name": "stdout",
     "output_type": "stream",
     "text": [
      "Model not saved on  roc_auc 0.8730961023101191\n",
      "0.8789816479527799 deque([0.8533362732792835, 0.8673801689338172, 0.8730961023101191], maxlen=3)\n",
      "\n",
      "Setting Embedding\n"
     ]
    },
    {
     "data": {
      "application/vnd.jupyter.widget-view+json": {
       "model_id": "9b921d7110104fae9c1eaeb6d79db4a5",
       "version_major": 2,
       "version_minor": 0
      },
      "text/plain": [
       "HBox(children=(IntProgress(value=0, max=51), HTML(value='')))"
      ]
     },
     "metadata": {},
     "output_type": "display_data"
    },
    {
     "name": "stdout",
     "output_type": "stream",
     "text": [
      "\n",
      "{'accuracy': 0.850187265917603, 'roc_auc': 0.8789816479527799, 'pr_auc': 0.5567561657576924}\n"
     ]
    },
    {
     "data": {
      "text/html": [
       "<div>\n",
       "<style scoped>\n",
       "    .dataframe tbody tr th:only-of-type {\n",
       "        vertical-align: middle;\n",
       "    }\n",
       "\n",
       "    .dataframe tbody tr th {\n",
       "        vertical-align: top;\n",
       "    }\n",
       "\n",
       "    .dataframe thead th {\n",
       "        text-align: right;\n",
       "    }\n",
       "</style>\n",
       "<table border=\"1\" class=\"dataframe\">\n",
       "  <thead>\n",
       "    <tr style=\"text-align: right;\">\n",
       "      <th></th>\n",
       "      <th>0.0</th>\n",
       "      <th>1.0</th>\n",
       "      <th>micro avg</th>\n",
       "      <th>macro avg</th>\n",
       "      <th>weighted avg</th>\n",
       "    </tr>\n",
       "  </thead>\n",
       "  <tbody>\n",
       "    <tr>\n",
       "      <th>f1-score</th>\n",
       "      <td>0.912</td>\n",
       "      <td>0.508</td>\n",
       "      <td>0.85</td>\n",
       "      <td>0.710</td>\n",
       "      <td>0.870</td>\n",
       "    </tr>\n",
       "    <tr>\n",
       "      <th>precision</th>\n",
       "      <td>0.969</td>\n",
       "      <td>0.383</td>\n",
       "      <td>0.85</td>\n",
       "      <td>0.676</td>\n",
       "      <td>0.909</td>\n",
       "    </tr>\n",
       "    <tr>\n",
       "      <th>recall</th>\n",
       "      <td>0.861</td>\n",
       "      <td>0.756</td>\n",
       "      <td>0.85</td>\n",
       "      <td>0.809</td>\n",
       "      <td>0.850</td>\n",
       "    </tr>\n",
       "    <tr>\n",
       "      <th>support</th>\n",
       "      <td>719.000</td>\n",
       "      <td>82.000</td>\n",
       "      <td>801.00</td>\n",
       "      <td>801.000</td>\n",
       "      <td>801.000</td>\n",
       "    </tr>\n",
       "  </tbody>\n",
       "</table>\n",
       "</div>"
      ],
      "text/plain": [
       "               0.0     1.0  micro avg  macro avg  weighted avg\n",
       "f1-score     0.912   0.508       0.85      0.710         0.870\n",
       "precision    0.969   0.383       0.85      0.676         0.909\n",
       "recall       0.861   0.756       0.85      0.809         0.850\n",
       "support    719.000  82.000     801.00    801.000       801.000"
      ]
     },
     "metadata": {},
     "output_type": "display_data"
    },
    {
     "name": "stderr",
     "output_type": "stream",
     "text": [
      "INFO - 2019-03-26 16:34:33,268 - instantiating class <class 'PatientVec.models.Model.Model'> from params {'type': 'seq_classifier_with_attention', 'embedder': {'type': 'token_embedder', 'vocab_size': 18542, 'embed_size': 200, 'embedding_file': '../../../SurgeryData/PatientVec/preprocess/KneeSurgery/1_yrs/embedding_matrix.npy'}, 'decoder': {'num_layers': 2, 'hidden_dims': [128, 1], 'activations': ['tanh', 'linear']}, 'predictor': {'type': 'binary'}, 'structured': {'use_structured': False}, 'encoder': {'type': 'cnn', 'hidden_size': 64, 'kernel_sizes': [3, 5, 7, 9], 'activation': 'relu'}, 'attention': {'similarity': {'type': 'additive', 'hidden_size': 128}}} and extras {}\n",
      "INFO - 2019-03-26 16:34:33,268 - type = seq_classifier_with_attention\n",
      "INFO - 2019-03-26 16:34:33,269 - instantiating class <class 'PatientVec.models.modules.Embedder.Embedder'> from params {'type': 'token_embedder', 'vocab_size': 18542, 'embed_size': 200, 'embedding_file': '../../../SurgeryData/PatientVec/preprocess/KneeSurgery/1_yrs/embedding_matrix.npy'} and extras {}\n",
      "INFO - 2019-03-26 16:34:33,269 - embedder.type = token_embedder\n",
      "INFO - 2019-03-26 16:34:33,269 - instantiating class <class 'PatientVec.models.modules.Embedder.TokenEmbedder'> from params {'vocab_size': 18542, 'embed_size': 200, 'embedding_file': '../../../SurgeryData/PatientVec/preprocess/KneeSurgery/1_yrs/embedding_matrix.npy'} and extras {}\n",
      "INFO - 2019-03-26 16:34:33,270 - embedder.vocab_size = 18542\n",
      "INFO - 2019-03-26 16:34:33,270 - embedder.embed_size = 200\n",
      "INFO - 2019-03-26 16:34:33,270 - embedder.embedding_file = ../../../SurgeryData/PatientVec/preprocess/KneeSurgery/1_yrs/embedding_matrix.npy\n",
      "INFO - 2019-03-26 16:34:33,279 - instantiating class <class 'PatientVec.models.modules.Encoder.Encoder'> from params {'type': 'cnn', 'hidden_size': 64, 'kernel_sizes': [3, 5, 7, 9], 'activation': 'relu'} and extras {'input_size': 200}\n",
      "INFO - 2019-03-26 16:34:33,279 - encoder.type = cnn\n",
      "INFO - 2019-03-26 16:34:33,279 - instantiating class <class 'PatientVec.models.modules.Encoder.CNNEncoder'> from params {'hidden_size': 64, 'kernel_sizes': [3, 5, 7, 9], 'activation': 'relu'} and extras {'input_size': 200}\n",
      "INFO - 2019-03-26 16:34:33,280 - encoder.hidden_size = 64\n",
      "INFO - 2019-03-26 16:34:33,280 - encoder.kernel_sizes = [3, 5, 7, 9]\n",
      "INFO - 2019-03-26 16:34:33,280 - encoder.activation = relu\n",
      "INFO - 2019-03-26 16:34:33,283 - instantiating class <class 'PatientVec.models.modules.SelfAttention.SelfAttention'> from params {'similarity': {'type': 'additive', 'hidden_size': 128, 'tensor_1_dim': 256}} and extras {}\n",
      "INFO - 2019-03-26 16:34:33,283 - instantiating class <class 'PatientVec.models.modules.UniSimilarity.UniSimilarity'> from params {'type': 'additive', 'hidden_size': 128, 'tensor_1_dim': 256} and extras {}\n",
      "INFO - 2019-03-26 16:34:33,283 - attention.similarity.type = additive\n",
      "INFO - 2019-03-26 16:34:33,284 - instantiating class <class 'PatientVec.models.modules.UniSimilarity.UniAdditiveSimilarity'> from params {'hidden_size': 128, 'tensor_1_dim': 256} and extras {}\n",
      "INFO - 2019-03-26 16:34:33,284 - attention.similarity.tensor_1_dim = 256\n",
      "INFO - 2019-03-26 16:34:33,284 - attention.similarity.hidden_size = 128\n",
      "INFO - 2019-03-26 16:34:33,284 - attention.similarity.output_size = 1\n",
      "INFO - 2019-03-26 16:34:33,285 - attention.normaliser = softmax\n",
      "INFO - 2019-03-26 16:34:33,286 - decoder.input_dim = 256\n",
      "INFO - 2019-03-26 16:34:33,286 - decoder.num_layers = 2\n",
      "INFO - 2019-03-26 16:34:33,286 - decoder.hidden_dims = [128, 1]\n",
      "INFO - 2019-03-26 16:34:33,287 - decoder.activations = ['tanh', 'linear']\n",
      "INFO - 2019-03-26 16:34:33,287 - decoder.dropout = 0.0\n",
      "INFO - 2019-03-26 16:34:33,288 - instantiating class <class 'PatientVec.models.modules.Predictor.Predictor'> from params {'type': 'binary'} and extras {}\n",
      "INFO - 2019-03-26 16:34:33,289 - predictor.type = binary\n",
      "INFO - 2019-03-26 16:34:33,289 - instantiating class <class 'PatientVec.models.modules.Predictor.Binary_Predictor'> from params {} and extras {}\n",
      "INFO - 2019-03-26 16:34:33,289 - predictor.replicate = False\n",
      "INFO - 2019-03-26 16:34:33,290 - predictor.alpha = 0.5\n"
     ]
    },
    {
     "name": "stdout",
     "output_type": "stream",
     "text": [
      "============================================================================================================================================================================================================================================================================================================\n",
      "{'model': {'type': 'seq_classifier_with_attention', 'embedder': {'type': 'token_embedder', 'vocab_size': 18542, 'embed_size': 200, 'embedding_file': '../../../SurgeryData/PatientVec/preprocess/KneeSurgery/1_yrs/embedding_matrix.npy'}, 'decoder': {'num_layers': 2, 'hidden_dims': [128, 1], 'activations': ['tanh', 'linear']}, 'predictor': {'type': 'binary'}, 'structured': {'use_structured': False}, 'encoder': {'type': 'cnn', 'hidden_size': 64, 'kernel_sizes': [3, 5, 7, 9], 'activation': 'relu'}, 'attention': {'similarity': {'type': 'additive', 'hidden_size': 128}}}, 'training_config': {'type': 'Adam', 'groups': [('.*', {'lr': 0.001, 'weight_decay': 1e-05})], 'common': {'bsize': 16, 'class_weight': True}}, 'exp_config': {'exp_name': 'KneeSurgery_1/Attention/CNN(hs=64)(kernels=3,5,7,9)+Attention(additive)(hs=128)', 'basepath': 'outputs/confidence'}}\n",
      "Setting Embedding\n"
     ]
    },
    {
     "data": {
      "application/vnd.jupyter.widget-view+json": {
       "model_id": "472ca2d13f004519b2aa259f521a53e5",
       "version_major": 2,
       "version_minor": 0
      },
      "text/plain": [
       "HBox(children=(IntProgress(value=0, max=8), HTML(value='')))"
      ]
     },
     "metadata": {},
     "output_type": "display_data"
    },
    {
     "data": {
      "application/vnd.jupyter.widget-view+json": {
       "model_id": "7590367ef1d94574b1f67dea5563f1ec",
       "version_major": 2,
       "version_minor": 0
      },
      "text/plain": [
       "HBox(children=(IntProgress(value=0, max=229), HTML(value='')))"
      ]
     },
     "metadata": {},
     "output_type": "display_data"
    },
    {
     "data": {
      "application/vnd.jupyter.widget-view+json": {
       "model_id": "572e2e13bc434ea8bfb2614a54693b7e",
       "version_major": 2,
       "version_minor": 0
      },
      "text/plain": [
       "HBox(children=(IntProgress(value=0, max=51), HTML(value='')))"
      ]
     },
     "metadata": {},
     "output_type": "display_data"
    },
    {
     "name": "stdout",
     "output_type": "stream",
     "text": [
      "{'accuracy': 0.8789013732833958, 'roc_auc': 0.8509108178703484, 'pr_auc': 0.5421756749862192}\n"
     ]
    },
    {
     "data": {
      "text/html": [
       "<div>\n",
       "<style scoped>\n",
       "    .dataframe tbody tr th:only-of-type {\n",
       "        vertical-align: middle;\n",
       "    }\n",
       "\n",
       "    .dataframe tbody tr th {\n",
       "        vertical-align: top;\n",
       "    }\n",
       "\n",
       "    .dataframe thead th {\n",
       "        text-align: right;\n",
       "    }\n",
       "</style>\n",
       "<table border=\"1\" class=\"dataframe\">\n",
       "  <thead>\n",
       "    <tr style=\"text-align: right;\">\n",
       "      <th></th>\n",
       "      <th>0.0</th>\n",
       "      <th>1.0</th>\n",
       "      <th>micro avg</th>\n",
       "      <th>macro avg</th>\n",
       "      <th>weighted avg</th>\n",
       "    </tr>\n",
       "  </thead>\n",
       "  <tbody>\n",
       "    <tr>\n",
       "      <th>f1-score</th>\n",
       "      <td>0.930</td>\n",
       "      <td>0.531</td>\n",
       "      <td>0.879</td>\n",
       "      <td>0.731</td>\n",
       "      <td>0.890</td>\n",
       "    </tr>\n",
       "    <tr>\n",
       "      <th>precision</th>\n",
       "      <td>0.960</td>\n",
       "      <td>0.440</td>\n",
       "      <td>0.879</td>\n",
       "      <td>0.700</td>\n",
       "      <td>0.907</td>\n",
       "    </tr>\n",
       "    <tr>\n",
       "      <th>recall</th>\n",
       "      <td>0.903</td>\n",
       "      <td>0.671</td>\n",
       "      <td>0.879</td>\n",
       "      <td>0.787</td>\n",
       "      <td>0.879</td>\n",
       "    </tr>\n",
       "    <tr>\n",
       "      <th>support</th>\n",
       "      <td>719.000</td>\n",
       "      <td>82.000</td>\n",
       "      <td>801.000</td>\n",
       "      <td>801.000</td>\n",
       "      <td>801.000</td>\n",
       "    </tr>\n",
       "  </tbody>\n",
       "</table>\n",
       "</div>"
      ],
      "text/plain": [
       "               0.0     1.0  micro avg  macro avg  weighted avg\n",
       "f1-score     0.930   0.531      0.879      0.731         0.890\n",
       "precision    0.960   0.440      0.879      0.700         0.907\n",
       "recall       0.903   0.671      0.879      0.787         0.879\n",
       "support    719.000  82.000    801.000    801.000       801.000"
      ]
     },
     "metadata": {},
     "output_type": "display_data"
    },
    {
     "name": "stdout",
     "output_type": "stream",
     "text": [
      "Model Saved on  roc_auc 0.8509108178703484\n"
     ]
    },
    {
     "data": {
      "application/vnd.jupyter.widget-view+json": {
       "model_id": "55a11533569a414c8177a3f1582eb503",
       "version_major": 2,
       "version_minor": 0
      },
      "text/plain": [
       "HBox(children=(IntProgress(value=0, max=229), HTML(value='')))"
      ]
     },
     "metadata": {},
     "output_type": "display_data"
    },
    {
     "data": {
      "application/vnd.jupyter.widget-view+json": {
       "model_id": "0116f6fee85b4555a84f5d0751ad734a",
       "version_major": 2,
       "version_minor": 0
      },
      "text/plain": [
       "HBox(children=(IntProgress(value=0, max=51), HTML(value='')))"
      ]
     },
     "metadata": {},
     "output_type": "display_data"
    },
    {
     "name": "stdout",
     "output_type": "stream",
     "text": [
      "{'accuracy': 0.8127340823970037, 'roc_auc': 0.8658366973099495, 'pr_auc': 0.5633750537217527}\n"
     ]
    },
    {
     "data": {
      "text/html": [
       "<div>\n",
       "<style scoped>\n",
       "    .dataframe tbody tr th:only-of-type {\n",
       "        vertical-align: middle;\n",
       "    }\n",
       "\n",
       "    .dataframe tbody tr th {\n",
       "        vertical-align: top;\n",
       "    }\n",
       "\n",
       "    .dataframe thead th {\n",
       "        text-align: right;\n",
       "    }\n",
       "</style>\n",
       "<table border=\"1\" class=\"dataframe\">\n",
       "  <thead>\n",
       "    <tr style=\"text-align: right;\">\n",
       "      <th></th>\n",
       "      <th>0.0</th>\n",
       "      <th>1.0</th>\n",
       "      <th>micro avg</th>\n",
       "      <th>macro avg</th>\n",
       "      <th>weighted avg</th>\n",
       "    </tr>\n",
       "  </thead>\n",
       "  <tbody>\n",
       "    <tr>\n",
       "      <th>f1-score</th>\n",
       "      <td>0.887</td>\n",
       "      <td>0.460</td>\n",
       "      <td>0.813</td>\n",
       "      <td>0.674</td>\n",
       "      <td>0.843</td>\n",
       "    </tr>\n",
       "    <tr>\n",
       "      <th>precision</th>\n",
       "      <td>0.970</td>\n",
       "      <td>0.327</td>\n",
       "      <td>0.813</td>\n",
       "      <td>0.648</td>\n",
       "      <td>0.904</td>\n",
       "    </tr>\n",
       "    <tr>\n",
       "      <th>recall</th>\n",
       "      <td>0.816</td>\n",
       "      <td>0.780</td>\n",
       "      <td>0.813</td>\n",
       "      <td>0.798</td>\n",
       "      <td>0.813</td>\n",
       "    </tr>\n",
       "    <tr>\n",
       "      <th>support</th>\n",
       "      <td>719.000</td>\n",
       "      <td>82.000</td>\n",
       "      <td>801.000</td>\n",
       "      <td>801.000</td>\n",
       "      <td>801.000</td>\n",
       "    </tr>\n",
       "  </tbody>\n",
       "</table>\n",
       "</div>"
      ],
      "text/plain": [
       "               0.0     1.0  micro avg  macro avg  weighted avg\n",
       "f1-score     0.887   0.460      0.813      0.674         0.843\n",
       "precision    0.970   0.327      0.813      0.648         0.904\n",
       "recall       0.816   0.780      0.813      0.798         0.813\n",
       "support    719.000  82.000    801.000    801.000       801.000"
      ]
     },
     "metadata": {},
     "output_type": "display_data"
    },
    {
     "name": "stdout",
     "output_type": "stream",
     "text": [
      "Model Saved on  roc_auc 0.8658366973099495\n"
     ]
    },
    {
     "data": {
      "application/vnd.jupyter.widget-view+json": {
       "model_id": "4aa52e28d187468a861cae4b836c3d15",
       "version_major": 2,
       "version_minor": 0
      },
      "text/plain": [
       "HBox(children=(IntProgress(value=0, max=229), HTML(value='')))"
      ]
     },
     "metadata": {},
     "output_type": "display_data"
    },
    {
     "data": {
      "application/vnd.jupyter.widget-view+json": {
       "model_id": "e2aea0d250c9417ca0ee807b66c7677b",
       "version_major": 2,
       "version_minor": 0
      },
      "text/plain": [
       "HBox(children=(IntProgress(value=0, max=51), HTML(value='')))"
      ]
     },
     "metadata": {},
     "output_type": "display_data"
    },
    {
     "name": "stdout",
     "output_type": "stream",
     "text": [
      "{'accuracy': 0.867665418227216, 'roc_auc': 0.8634790868075579, 'pr_auc': 0.5278942066669817}\n"
     ]
    },
    {
     "data": {
      "text/html": [
       "<div>\n",
       "<style scoped>\n",
       "    .dataframe tbody tr th:only-of-type {\n",
       "        vertical-align: middle;\n",
       "    }\n",
       "\n",
       "    .dataframe tbody tr th {\n",
       "        vertical-align: top;\n",
       "    }\n",
       "\n",
       "    .dataframe thead th {\n",
       "        text-align: right;\n",
       "    }\n",
       "</style>\n",
       "<table border=\"1\" class=\"dataframe\">\n",
       "  <thead>\n",
       "    <tr style=\"text-align: right;\">\n",
       "      <th></th>\n",
       "      <th>0.0</th>\n",
       "      <th>1.0</th>\n",
       "      <th>micro avg</th>\n",
       "      <th>macro avg</th>\n",
       "      <th>weighted avg</th>\n",
       "    </tr>\n",
       "  </thead>\n",
       "  <tbody>\n",
       "    <tr>\n",
       "      <th>f1-score</th>\n",
       "      <td>0.923</td>\n",
       "      <td>0.531</td>\n",
       "      <td>0.868</td>\n",
       "      <td>0.727</td>\n",
       "      <td>0.883</td>\n",
       "    </tr>\n",
       "    <tr>\n",
       "      <th>precision</th>\n",
       "      <td>0.967</td>\n",
       "      <td>0.417</td>\n",
       "      <td>0.868</td>\n",
       "      <td>0.692</td>\n",
       "      <td>0.910</td>\n",
       "    </tr>\n",
       "    <tr>\n",
       "      <th>recall</th>\n",
       "      <td>0.883</td>\n",
       "      <td>0.732</td>\n",
       "      <td>0.868</td>\n",
       "      <td>0.807</td>\n",
       "      <td>0.868</td>\n",
       "    </tr>\n",
       "    <tr>\n",
       "      <th>support</th>\n",
       "      <td>719.000</td>\n",
       "      <td>82.000</td>\n",
       "      <td>801.000</td>\n",
       "      <td>801.000</td>\n",
       "      <td>801.000</td>\n",
       "    </tr>\n",
       "  </tbody>\n",
       "</table>\n",
       "</div>"
      ],
      "text/plain": [
       "               0.0     1.0  micro avg  macro avg  weighted avg\n",
       "f1-score     0.923   0.531      0.868      0.727         0.883\n",
       "precision    0.967   0.417      0.868      0.692         0.910\n",
       "recall       0.883   0.732      0.868      0.807         0.868\n",
       "support    719.000  82.000    801.000    801.000       801.000"
      ]
     },
     "metadata": {},
     "output_type": "display_data"
    },
    {
     "name": "stdout",
     "output_type": "stream",
     "text": [
      "Model not saved on  roc_auc 0.8634790868075579\n"
     ]
    },
    {
     "data": {
      "application/vnd.jupyter.widget-view+json": {
       "model_id": "ea3e5387864d45d48a74528a6d29be83",
       "version_major": 2,
       "version_minor": 0
      },
      "text/plain": [
       "HBox(children=(IntProgress(value=0, max=229), HTML(value='')))"
      ]
     },
     "metadata": {},
     "output_type": "display_data"
    },
    {
     "data": {
      "application/vnd.jupyter.widget-view+json": {
       "model_id": "cabdeb0f118f45359109d5c8b6b606b0",
       "version_major": 2,
       "version_minor": 0
      },
      "text/plain": [
       "HBox(children=(IntProgress(value=0, max=51), HTML(value='')))"
      ]
     },
     "metadata": {},
     "output_type": "display_data"
    },
    {
     "name": "stdout",
     "output_type": "stream",
     "text": [
      "{'accuracy': 0.8913857677902621, 'roc_auc': 0.8639370399267274, 'pr_auc': 0.543390377335269}\n"
     ]
    },
    {
     "data": {
      "text/html": [
       "<div>\n",
       "<style scoped>\n",
       "    .dataframe tbody tr th:only-of-type {\n",
       "        vertical-align: middle;\n",
       "    }\n",
       "\n",
       "    .dataframe tbody tr th {\n",
       "        vertical-align: top;\n",
       "    }\n",
       "\n",
       "    .dataframe thead th {\n",
       "        text-align: right;\n",
       "    }\n",
       "</style>\n",
       "<table border=\"1\" class=\"dataframe\">\n",
       "  <thead>\n",
       "    <tr style=\"text-align: right;\">\n",
       "      <th></th>\n",
       "      <th>0.0</th>\n",
       "      <th>1.0</th>\n",
       "      <th>micro avg</th>\n",
       "      <th>macro avg</th>\n",
       "      <th>weighted avg</th>\n",
       "    </tr>\n",
       "  </thead>\n",
       "  <tbody>\n",
       "    <tr>\n",
       "      <th>f1-score</th>\n",
       "      <td>0.938</td>\n",
       "      <td>0.567</td>\n",
       "      <td>0.891</td>\n",
       "      <td>0.753</td>\n",
       "      <td>0.900</td>\n",
       "    </tr>\n",
       "    <tr>\n",
       "      <th>precision</th>\n",
       "      <td>0.963</td>\n",
       "      <td>0.479</td>\n",
       "      <td>0.891</td>\n",
       "      <td>0.721</td>\n",
       "      <td>0.914</td>\n",
       "    </tr>\n",
       "    <tr>\n",
       "      <th>recall</th>\n",
       "      <td>0.914</td>\n",
       "      <td>0.695</td>\n",
       "      <td>0.891</td>\n",
       "      <td>0.804</td>\n",
       "      <td>0.891</td>\n",
       "    </tr>\n",
       "    <tr>\n",
       "      <th>support</th>\n",
       "      <td>719.000</td>\n",
       "      <td>82.000</td>\n",
       "      <td>801.000</td>\n",
       "      <td>801.000</td>\n",
       "      <td>801.000</td>\n",
       "    </tr>\n",
       "  </tbody>\n",
       "</table>\n",
       "</div>"
      ],
      "text/plain": [
       "               0.0     1.0  micro avg  macro avg  weighted avg\n",
       "f1-score     0.938   0.567      0.891      0.753         0.900\n",
       "precision    0.963   0.479      0.891      0.721         0.914\n",
       "recall       0.914   0.695      0.891      0.804         0.891\n",
       "support    719.000  82.000    801.000    801.000       801.000"
      ]
     },
     "metadata": {},
     "output_type": "display_data"
    },
    {
     "name": "stdout",
     "output_type": "stream",
     "text": [
      "Model not saved on  roc_auc 0.8639370399267274\n"
     ]
    },
    {
     "data": {
      "application/vnd.jupyter.widget-view+json": {
       "model_id": "d994bb3497fb457b892152f69e8dfaf0",
       "version_major": 2,
       "version_minor": 0
      },
      "text/plain": [
       "HBox(children=(IntProgress(value=0, max=229), HTML(value='')))"
      ]
     },
     "metadata": {},
     "output_type": "display_data"
    },
    {
     "data": {
      "application/vnd.jupyter.widget-view+json": {
       "model_id": "52f5ee215d694f5fbe9e3a306e822018",
       "version_major": 2,
       "version_minor": 0
      },
      "text/plain": [
       "HBox(children=(IntProgress(value=0, max=51), HTML(value='')))"
      ]
     },
     "metadata": {},
     "output_type": "display_data"
    },
    {
     "name": "stdout",
     "output_type": "stream",
     "text": [
      "{'accuracy': 0.8876404494382022, 'roc_auc': 0.8771498354761016, 'pr_auc': 0.5205668793967738}\n"
     ]
    },
    {
     "data": {
      "text/html": [
       "<div>\n",
       "<style scoped>\n",
       "    .dataframe tbody tr th:only-of-type {\n",
       "        vertical-align: middle;\n",
       "    }\n",
       "\n",
       "    .dataframe tbody tr th {\n",
       "        vertical-align: top;\n",
       "    }\n",
       "\n",
       "    .dataframe thead th {\n",
       "        text-align: right;\n",
       "    }\n",
       "</style>\n",
       "<table border=\"1\" class=\"dataframe\">\n",
       "  <thead>\n",
       "    <tr style=\"text-align: right;\">\n",
       "      <th></th>\n",
       "      <th>0.0</th>\n",
       "      <th>1.0</th>\n",
       "      <th>micro avg</th>\n",
       "      <th>macro avg</th>\n",
       "      <th>weighted avg</th>\n",
       "    </tr>\n",
       "  </thead>\n",
       "  <tbody>\n",
       "    <tr>\n",
       "      <th>f1-score</th>\n",
       "      <td>0.936</td>\n",
       "      <td>0.563</td>\n",
       "      <td>0.888</td>\n",
       "      <td>0.749</td>\n",
       "      <td>0.897</td>\n",
       "    </tr>\n",
       "    <tr>\n",
       "      <th>precision</th>\n",
       "      <td>0.965</td>\n",
       "      <td>0.468</td>\n",
       "      <td>0.888</td>\n",
       "      <td>0.716</td>\n",
       "      <td>0.914</td>\n",
       "    </tr>\n",
       "    <tr>\n",
       "      <th>recall</th>\n",
       "      <td>0.908</td>\n",
       "      <td>0.707</td>\n",
       "      <td>0.888</td>\n",
       "      <td>0.808</td>\n",
       "      <td>0.888</td>\n",
       "    </tr>\n",
       "    <tr>\n",
       "      <th>support</th>\n",
       "      <td>719.000</td>\n",
       "      <td>82.000</td>\n",
       "      <td>801.000</td>\n",
       "      <td>801.000</td>\n",
       "      <td>801.000</td>\n",
       "    </tr>\n",
       "  </tbody>\n",
       "</table>\n",
       "</div>"
      ],
      "text/plain": [
       "               0.0     1.0  micro avg  macro avg  weighted avg\n",
       "f1-score     0.936   0.563      0.888      0.749         0.897\n",
       "precision    0.965   0.468      0.888      0.716         0.914\n",
       "recall       0.908   0.707      0.888      0.808         0.888\n",
       "support    719.000  82.000    801.000    801.000       801.000"
      ]
     },
     "metadata": {},
     "output_type": "display_data"
    },
    {
     "name": "stdout",
     "output_type": "stream",
     "text": [
      "Model Saved on  roc_auc 0.8771498354761016\n"
     ]
    },
    {
     "data": {
      "application/vnd.jupyter.widget-view+json": {
       "model_id": "0b5d0734d76c425aa5f4e373f22dd440",
       "version_major": 2,
       "version_minor": 0
      },
      "text/plain": [
       "HBox(children=(IntProgress(value=0, max=229), HTML(value='')))"
      ]
     },
     "metadata": {},
     "output_type": "display_data"
    },
    {
     "data": {
      "application/vnd.jupyter.widget-view+json": {
       "model_id": "97748fa26942416699dd1729a7a6b39c",
       "version_major": 2,
       "version_minor": 0
      },
      "text/plain": [
       "HBox(children=(IntProgress(value=0, max=51), HTML(value='')))"
      ]
     },
     "metadata": {},
     "output_type": "display_data"
    },
    {
     "name": "stdout",
     "output_type": "stream",
     "text": [
      "{'accuracy': 0.9063670411985019, 'roc_auc': 0.8641744970996303, 'pr_auc': 0.5220838830309341}\n"
     ]
    },
    {
     "data": {
      "text/html": [
       "<div>\n",
       "<style scoped>\n",
       "    .dataframe tbody tr th:only-of-type {\n",
       "        vertical-align: middle;\n",
       "    }\n",
       "\n",
       "    .dataframe tbody tr th {\n",
       "        vertical-align: top;\n",
       "    }\n",
       "\n",
       "    .dataframe thead th {\n",
       "        text-align: right;\n",
       "    }\n",
       "</style>\n",
       "<table border=\"1\" class=\"dataframe\">\n",
       "  <thead>\n",
       "    <tr style=\"text-align: right;\">\n",
       "      <th></th>\n",
       "      <th>0.0</th>\n",
       "      <th>1.0</th>\n",
       "      <th>micro avg</th>\n",
       "      <th>macro avg</th>\n",
       "      <th>weighted avg</th>\n",
       "    </tr>\n",
       "  </thead>\n",
       "  <tbody>\n",
       "    <tr>\n",
       "      <th>f1-score</th>\n",
       "      <td>0.947</td>\n",
       "      <td>0.607</td>\n",
       "      <td>0.906</td>\n",
       "      <td>0.777</td>\n",
       "      <td>0.912</td>\n",
       "    </tr>\n",
       "    <tr>\n",
       "      <th>precision</th>\n",
       "      <td>0.965</td>\n",
       "      <td>0.532</td>\n",
       "      <td>0.906</td>\n",
       "      <td>0.749</td>\n",
       "      <td>0.921</td>\n",
       "    </tr>\n",
       "    <tr>\n",
       "      <th>recall</th>\n",
       "      <td>0.929</td>\n",
       "      <td>0.707</td>\n",
       "      <td>0.906</td>\n",
       "      <td>0.818</td>\n",
       "      <td>0.906</td>\n",
       "    </tr>\n",
       "    <tr>\n",
       "      <th>support</th>\n",
       "      <td>719.000</td>\n",
       "      <td>82.000</td>\n",
       "      <td>801.000</td>\n",
       "      <td>801.000</td>\n",
       "      <td>801.000</td>\n",
       "    </tr>\n",
       "  </tbody>\n",
       "</table>\n",
       "</div>"
      ],
      "text/plain": [
       "               0.0     1.0  micro avg  macro avg  weighted avg\n",
       "f1-score     0.947   0.607      0.906      0.777         0.912\n",
       "precision    0.965   0.532      0.906      0.749         0.921\n",
       "recall       0.929   0.707      0.906      0.818         0.906\n",
       "support    719.000  82.000    801.000    801.000       801.000"
      ]
     },
     "metadata": {},
     "output_type": "display_data"
    },
    {
     "name": "stdout",
     "output_type": "stream",
     "text": [
      "Model not saved on  roc_auc 0.8641744970996303\n"
     ]
    },
    {
     "data": {
      "application/vnd.jupyter.widget-view+json": {
       "model_id": "4ad790d53d6a451a956a2c7fc6839597",
       "version_major": 2,
       "version_minor": 0
      },
      "text/plain": [
       "HBox(children=(IntProgress(value=0, max=229), HTML(value='')))"
      ]
     },
     "metadata": {},
     "output_type": "display_data"
    },
    {
     "data": {
      "application/vnd.jupyter.widget-view+json": {
       "model_id": "5ab64e9364274a888a2f823720f738e1",
       "version_major": 2,
       "version_minor": 0
      },
      "text/plain": [
       "HBox(children=(IntProgress(value=0, max=51), HTML(value='')))"
      ]
     },
     "metadata": {},
     "output_type": "display_data"
    },
    {
     "name": "stdout",
     "output_type": "stream",
     "text": [
      "{'accuracy': 0.9113607990012484, 'roc_auc': 0.8635469317141016, 'pr_auc': 0.5263794918957367}\n"
     ]
    },
    {
     "data": {
      "text/html": [
       "<div>\n",
       "<style scoped>\n",
       "    .dataframe tbody tr th:only-of-type {\n",
       "        vertical-align: middle;\n",
       "    }\n",
       "\n",
       "    .dataframe tbody tr th {\n",
       "        vertical-align: top;\n",
       "    }\n",
       "\n",
       "    .dataframe thead th {\n",
       "        text-align: right;\n",
       "    }\n",
       "</style>\n",
       "<table border=\"1\" class=\"dataframe\">\n",
       "  <thead>\n",
       "    <tr style=\"text-align: right;\">\n",
       "      <th></th>\n",
       "      <th>0.0</th>\n",
       "      <th>1.0</th>\n",
       "      <th>micro avg</th>\n",
       "      <th>macro avg</th>\n",
       "      <th>weighted avg</th>\n",
       "    </tr>\n",
       "  </thead>\n",
       "  <tbody>\n",
       "    <tr>\n",
       "      <th>f1-score</th>\n",
       "      <td>0.95</td>\n",
       "      <td>0.603</td>\n",
       "      <td>0.911</td>\n",
       "      <td>0.777</td>\n",
       "      <td>0.915</td>\n",
       "    </tr>\n",
       "    <tr>\n",
       "      <th>precision</th>\n",
       "      <td>0.96</td>\n",
       "      <td>0.557</td>\n",
       "      <td>0.911</td>\n",
       "      <td>0.758</td>\n",
       "      <td>0.919</td>\n",
       "    </tr>\n",
       "    <tr>\n",
       "      <th>recall</th>\n",
       "      <td>0.94</td>\n",
       "      <td>0.659</td>\n",
       "      <td>0.911</td>\n",
       "      <td>0.799</td>\n",
       "      <td>0.911</td>\n",
       "    </tr>\n",
       "    <tr>\n",
       "      <th>support</th>\n",
       "      <td>719.00</td>\n",
       "      <td>82.000</td>\n",
       "      <td>801.000</td>\n",
       "      <td>801.000</td>\n",
       "      <td>801.000</td>\n",
       "    </tr>\n",
       "  </tbody>\n",
       "</table>\n",
       "</div>"
      ],
      "text/plain": [
       "              0.0     1.0  micro avg  macro avg  weighted avg\n",
       "f1-score     0.95   0.603      0.911      0.777         0.915\n",
       "precision    0.96   0.557      0.911      0.758         0.919\n",
       "recall       0.94   0.659      0.911      0.799         0.911\n",
       "support    719.00  82.000    801.000    801.000       801.000"
      ]
     },
     "metadata": {},
     "output_type": "display_data"
    },
    {
     "name": "stdout",
     "output_type": "stream",
     "text": [
      "Model not saved on  roc_auc 0.8635469317141016\n"
     ]
    },
    {
     "data": {
      "application/vnd.jupyter.widget-view+json": {
       "model_id": "14a32e7b823e493b80e35f74de87e0d6",
       "version_major": 2,
       "version_minor": 0
      },
      "text/plain": [
       "HBox(children=(IntProgress(value=0, max=229), HTML(value='')))"
      ]
     },
     "metadata": {},
     "output_type": "display_data"
    },
    {
     "data": {
      "application/vnd.jupyter.widget-view+json": {
       "model_id": "ebf9c4752bdd4358ba4eafe70cc90f4d",
       "version_major": 2,
       "version_minor": 0
      },
      "text/plain": [
       "HBox(children=(IntProgress(value=0, max=51), HTML(value='')))"
      ]
     },
     "metadata": {},
     "output_type": "display_data"
    },
    {
     "name": "stdout",
     "output_type": "stream",
     "text": [
      "{'accuracy': 0.9225967540574282, 'roc_auc': 0.8716374368194308, 'pr_auc': 0.5738872824485499}\n"
     ]
    },
    {
     "data": {
      "text/html": [
       "<div>\n",
       "<style scoped>\n",
       "    .dataframe tbody tr th:only-of-type {\n",
       "        vertical-align: middle;\n",
       "    }\n",
       "\n",
       "    .dataframe tbody tr th {\n",
       "        vertical-align: top;\n",
       "    }\n",
       "\n",
       "    .dataframe thead th {\n",
       "        text-align: right;\n",
       "    }\n",
       "</style>\n",
       "<table border=\"1\" class=\"dataframe\">\n",
       "  <thead>\n",
       "    <tr style=\"text-align: right;\">\n",
       "      <th></th>\n",
       "      <th>0.0</th>\n",
       "      <th>1.0</th>\n",
       "      <th>micro avg</th>\n",
       "      <th>macro avg</th>\n",
       "      <th>weighted avg</th>\n",
       "    </tr>\n",
       "  </thead>\n",
       "  <tbody>\n",
       "    <tr>\n",
       "      <th>f1-score</th>\n",
       "      <td>0.957</td>\n",
       "      <td>0.635</td>\n",
       "      <td>0.923</td>\n",
       "      <td>0.796</td>\n",
       "      <td>0.924</td>\n",
       "    </tr>\n",
       "    <tr>\n",
       "      <th>precision</th>\n",
       "      <td>0.961</td>\n",
       "      <td>0.614</td>\n",
       "      <td>0.923</td>\n",
       "      <td>0.787</td>\n",
       "      <td>0.925</td>\n",
       "    </tr>\n",
       "    <tr>\n",
       "      <th>recall</th>\n",
       "      <td>0.953</td>\n",
       "      <td>0.659</td>\n",
       "      <td>0.923</td>\n",
       "      <td>0.806</td>\n",
       "      <td>0.923</td>\n",
       "    </tr>\n",
       "    <tr>\n",
       "      <th>support</th>\n",
       "      <td>719.000</td>\n",
       "      <td>82.000</td>\n",
       "      <td>801.000</td>\n",
       "      <td>801.000</td>\n",
       "      <td>801.000</td>\n",
       "    </tr>\n",
       "  </tbody>\n",
       "</table>\n",
       "</div>"
      ],
      "text/plain": [
       "               0.0     1.0  micro avg  macro avg  weighted avg\n",
       "f1-score     0.957   0.635      0.923      0.796         0.924\n",
       "precision    0.961   0.614      0.923      0.787         0.925\n",
       "recall       0.953   0.659      0.923      0.806         0.923\n",
       "support    719.000  82.000    801.000    801.000       801.000"
      ]
     },
     "metadata": {},
     "output_type": "display_data"
    },
    {
     "name": "stderr",
     "output_type": "stream",
     "text": [
      "INFO - 2019-03-26 16:39:02,283 - instantiating class <class 'PatientVec.models.Model.Model'> from params {'type': 'seq_classifier_with_attention', 'embedder': {'type': 'token_embedder', 'vocab_size': 18542, 'embed_size': 200, 'embedding_file': '../../../SurgeryData/PatientVec/preprocess/KneeSurgery/1_yrs/embedding_matrix.npy'}, 'decoder': {'num_layers': 2, 'hidden_dims': [128, 1], 'activations': ['tanh', 'linear']}, 'predictor': {'type': 'binary'}, 'structured': {'use_structured': False}, 'encoder': {'type': 'cnn', 'hidden_size': 64, 'kernel_sizes': [3, 5, 7, 9], 'activation': 'relu'}, 'attention': {'similarity': {'type': 'additive', 'hidden_size': 128}}} and extras {}\n",
      "INFO - 2019-03-26 16:39:02,283 - type = seq_classifier_with_attention\n",
      "INFO - 2019-03-26 16:39:02,283 - instantiating class <class 'PatientVec.models.modules.Embedder.Embedder'> from params {'type': 'token_embedder', 'vocab_size': 18542, 'embed_size': 200, 'embedding_file': '../../../SurgeryData/PatientVec/preprocess/KneeSurgery/1_yrs/embedding_matrix.npy'} and extras {}\n",
      "INFO - 2019-03-26 16:39:02,284 - embedder.type = token_embedder\n",
      "INFO - 2019-03-26 16:39:02,284 - instantiating class <class 'PatientVec.models.modules.Embedder.TokenEmbedder'> from params {'vocab_size': 18542, 'embed_size': 200, 'embedding_file': '../../../SurgeryData/PatientVec/preprocess/KneeSurgery/1_yrs/embedding_matrix.npy'} and extras {}\n",
      "INFO - 2019-03-26 16:39:02,284 - embedder.vocab_size = 18542\n",
      "INFO - 2019-03-26 16:39:02,284 - embedder.embed_size = 200\n",
      "INFO - 2019-03-26 16:39:02,285 - embedder.embedding_file = ../../../SurgeryData/PatientVec/preprocess/KneeSurgery/1_yrs/embedding_matrix.npy\n",
      "INFO - 2019-03-26 16:39:02,293 - instantiating class <class 'PatientVec.models.modules.Encoder.Encoder'> from params {'type': 'cnn', 'hidden_size': 64, 'kernel_sizes': [3, 5, 7, 9], 'activation': 'relu'} and extras {'input_size': 200}\n",
      "INFO - 2019-03-26 16:39:02,293 - encoder.type = cnn\n",
      "INFO - 2019-03-26 16:39:02,294 - instantiating class <class 'PatientVec.models.modules.Encoder.CNNEncoder'> from params {'hidden_size': 64, 'kernel_sizes': [3, 5, 7, 9], 'activation': 'relu'} and extras {'input_size': 200}\n",
      "INFO - 2019-03-26 16:39:02,294 - encoder.hidden_size = 64\n",
      "INFO - 2019-03-26 16:39:02,294 - encoder.kernel_sizes = [3, 5, 7, 9]\n",
      "INFO - 2019-03-26 16:39:02,294 - encoder.activation = relu\n",
      "INFO - 2019-03-26 16:39:02,297 - instantiating class <class 'PatientVec.models.modules.SelfAttention.SelfAttention'> from params {'similarity': {'type': 'additive', 'hidden_size': 128, 'tensor_1_dim': 256}} and extras {}\n",
      "INFO - 2019-03-26 16:39:02,297 - instantiating class <class 'PatientVec.models.modules.UniSimilarity.UniSimilarity'> from params {'type': 'additive', 'hidden_size': 128, 'tensor_1_dim': 256} and extras {}\n",
      "INFO - 2019-03-26 16:39:02,298 - attention.similarity.type = additive\n",
      "INFO - 2019-03-26 16:39:02,298 - instantiating class <class 'PatientVec.models.modules.UniSimilarity.UniAdditiveSimilarity'> from params {'hidden_size': 128, 'tensor_1_dim': 256} and extras {}\n",
      "INFO - 2019-03-26 16:39:02,298 - attention.similarity.tensor_1_dim = 256\n",
      "INFO - 2019-03-26 16:39:02,298 - attention.similarity.hidden_size = 128\n",
      "INFO - 2019-03-26 16:39:02,299 - attention.similarity.output_size = 1\n",
      "INFO - 2019-03-26 16:39:02,300 - attention.normaliser = softmax\n",
      "INFO - 2019-03-26 16:39:02,300 - decoder.input_dim = 256\n",
      "INFO - 2019-03-26 16:39:02,300 - decoder.num_layers = 2\n",
      "INFO - 2019-03-26 16:39:02,301 - decoder.hidden_dims = [128, 1]\n",
      "INFO - 2019-03-26 16:39:02,301 - decoder.activations = ['tanh', 'linear']\n",
      "INFO - 2019-03-26 16:39:02,301 - decoder.dropout = 0.0\n",
      "INFO - 2019-03-26 16:39:02,302 - instantiating class <class 'PatientVec.models.modules.Predictor.Predictor'> from params {'type': 'binary'} and extras {}\n",
      "INFO - 2019-03-26 16:39:02,303 - predictor.type = binary\n",
      "INFO - 2019-03-26 16:39:02,303 - instantiating class <class 'PatientVec.models.modules.Predictor.Binary_Predictor'> from params {} and extras {}\n",
      "INFO - 2019-03-26 16:39:02,303 - predictor.replicate = False\n",
      "INFO - 2019-03-26 16:39:02,303 - predictor.alpha = 0.5\n"
     ]
    },
    {
     "name": "stdout",
     "output_type": "stream",
     "text": [
      "Model not saved on  roc_auc 0.8716374368194308\n",
      "0.8771498354761016 deque([0.8641744970996303, 0.8635469317141016, 0.8716374368194308], maxlen=3)\n",
      "\n",
      "Setting Embedding\n"
     ]
    },
    {
     "data": {
      "application/vnd.jupyter.widget-view+json": {
       "model_id": "14775bad310f4b3dbb2a7e25f94485c5",
       "version_major": 2,
       "version_minor": 0
      },
      "text/plain": [
       "HBox(children=(IntProgress(value=0, max=51), HTML(value='')))"
      ]
     },
     "metadata": {},
     "output_type": "display_data"
    },
    {
     "name": "stdout",
     "output_type": "stream",
     "text": [
      "\n",
      "{'accuracy': 0.8876404494382022, 'roc_auc': 0.8771498354761016, 'pr_auc': 0.5205668793967738}\n"
     ]
    },
    {
     "data": {
      "text/html": [
       "<div>\n",
       "<style scoped>\n",
       "    .dataframe tbody tr th:only-of-type {\n",
       "        vertical-align: middle;\n",
       "    }\n",
       "\n",
       "    .dataframe tbody tr th {\n",
       "        vertical-align: top;\n",
       "    }\n",
       "\n",
       "    .dataframe thead th {\n",
       "        text-align: right;\n",
       "    }\n",
       "</style>\n",
       "<table border=\"1\" class=\"dataframe\">\n",
       "  <thead>\n",
       "    <tr style=\"text-align: right;\">\n",
       "      <th></th>\n",
       "      <th>0.0</th>\n",
       "      <th>1.0</th>\n",
       "      <th>micro avg</th>\n",
       "      <th>macro avg</th>\n",
       "      <th>weighted avg</th>\n",
       "    </tr>\n",
       "  </thead>\n",
       "  <tbody>\n",
       "    <tr>\n",
       "      <th>f1-score</th>\n",
       "      <td>0.936</td>\n",
       "      <td>0.563</td>\n",
       "      <td>0.888</td>\n",
       "      <td>0.749</td>\n",
       "      <td>0.897</td>\n",
       "    </tr>\n",
       "    <tr>\n",
       "      <th>precision</th>\n",
       "      <td>0.965</td>\n",
       "      <td>0.468</td>\n",
       "      <td>0.888</td>\n",
       "      <td>0.716</td>\n",
       "      <td>0.914</td>\n",
       "    </tr>\n",
       "    <tr>\n",
       "      <th>recall</th>\n",
       "      <td>0.908</td>\n",
       "      <td>0.707</td>\n",
       "      <td>0.888</td>\n",
       "      <td>0.808</td>\n",
       "      <td>0.888</td>\n",
       "    </tr>\n",
       "    <tr>\n",
       "      <th>support</th>\n",
       "      <td>719.000</td>\n",
       "      <td>82.000</td>\n",
       "      <td>801.000</td>\n",
       "      <td>801.000</td>\n",
       "      <td>801.000</td>\n",
       "    </tr>\n",
       "  </tbody>\n",
       "</table>\n",
       "</div>"
      ],
      "text/plain": [
       "               0.0     1.0  micro avg  macro avg  weighted avg\n",
       "f1-score     0.936   0.563      0.888      0.749         0.897\n",
       "precision    0.965   0.468      0.888      0.716         0.914\n",
       "recall       0.908   0.707      0.888      0.808         0.888\n",
       "support    719.000  82.000    801.000    801.000       801.000"
      ]
     },
     "metadata": {},
     "output_type": "display_data"
    },
    {
     "name": "stderr",
     "output_type": "stream",
     "text": [
      "INFO - 2019-03-26 16:39:09,018 - Reading Structured data ...\n"
     ]
    },
    {
     "name": "stdout",
     "output_type": "stream",
     "text": [
      "============================================================================================================================================================================================================================================================================================================\n"
     ]
    },
    {
     "name": "stderr",
     "output_type": "stream",
     "text": [
      "INFO - 2019-03-26 16:39:09,178 - Reading Notes ...\n",
      "INFO - 2019-03-26 16:39:09,982 - Stratifying ...\n"
     ]
    },
    {
     "name": "stdout",
     "output_type": "stream",
     "text": [
      "Pos Percentage [0.10104053]\n"
     ]
    },
    {
     "name": "stderr",
     "output_type": "stream",
     "text": [
      "INFO - 2019-03-26 16:39:10,459 - Maximum Sentence Length 169921.000000 , 90 percentile length 19951.000000 ... \n",
      "INFO - 2019-03-26 16:39:11,728 - Truncated all ...\n",
      "INFO - 2019-03-26 16:39:11,732 - Idxs removed []...\n",
      "INFO - 2019-03-26 16:39:11,861 - Maximum Sentence Length 55858.000000 , 90 percentile length 19968.000000 ... \n"
     ]
    },
    {
     "name": "stdout",
     "output_type": "stream",
     "text": [
      "Pos Percentage [0.10237203]\n"
     ]
    },
    {
     "name": "stderr",
     "output_type": "stream",
     "text": [
      "INFO - 2019-03-26 16:39:12,040 - Truncated all ...\n",
      "INFO - 2019-03-26 16:39:12,041 - Idxs removed []...\n",
      "INFO - 2019-03-26 16:39:12,057 - instantiating class <class 'PatientVec.models.Model.Model'> from params {'type': 'seq_classifier', 'embedder': {'type': 'token_embedder', 'vocab_size': 18542, 'embed_size': 200, 'embedding_file': '../../../SurgeryData/PatientVec/preprocess/KneeSurgery/1_yrs/embedding_matrix.npy'}, 'decoder': {'num_layers': 2, 'hidden_dims': [128, 1], 'activations': ['tanh', 'linear']}, 'predictor': {'type': 'binary'}, 'structured': {'use_structured': False}, 'encoder': {'type': 'lstm', 'hidden_size': 128}} and extras {}\n",
      "INFO - 2019-03-26 16:39:12,058 - type = seq_classifier\n",
      "INFO - 2019-03-26 16:39:12,059 - instantiating class <class 'PatientVec.models.modules.Embedder.Embedder'> from params {'type': 'token_embedder', 'vocab_size': 18542, 'embed_size': 200, 'embedding_file': '../../../SurgeryData/PatientVec/preprocess/KneeSurgery/1_yrs/embedding_matrix.npy'} and extras {}\n",
      "INFO - 2019-03-26 16:39:12,060 - embedder.type = token_embedder\n",
      "INFO - 2019-03-26 16:39:12,061 - instantiating class <class 'PatientVec.models.modules.Embedder.TokenEmbedder'> from params {'vocab_size': 18542, 'embed_size': 200, 'embedding_file': '../../../SurgeryData/PatientVec/preprocess/KneeSurgery/1_yrs/embedding_matrix.npy'} and extras {}\n",
      "INFO - 2019-03-26 16:39:12,061 - embedder.vocab_size = 18542\n",
      "INFO - 2019-03-26 16:39:12,062 - embedder.embed_size = 200\n",
      "INFO - 2019-03-26 16:39:12,063 - embedder.embedding_file = ../../../SurgeryData/PatientVec/preprocess/KneeSurgery/1_yrs/embedding_matrix.npy\n",
      "INFO - 2019-03-26 16:39:12,072 - instantiating class <class 'PatientVec.models.modules.Encoder.Encoder'> from params {'type': 'lstm', 'hidden_size': 128} and extras {'input_size': 200}\n",
      "INFO - 2019-03-26 16:39:12,072 - encoder.type = lstm\n",
      "INFO - 2019-03-26 16:39:12,072 - instantiating class <class 'PatientVec.models.modules.Encoder.wrap_pytorch_rnn.<locals>.BiRNNEncoder'> from params {'hidden_size': 128} and extras {'input_size': 200}\n",
      "INFO - 2019-03-26 16:39:12,073 - encoder.hidden_size = 128\n",
      "INFO - 2019-03-26 16:39:12,075 - decoder.input_dim = 256\n",
      "INFO - 2019-03-26 16:39:12,075 - decoder.num_layers = 2\n",
      "INFO - 2019-03-26 16:39:12,076 - decoder.hidden_dims = [128, 1]\n",
      "INFO - 2019-03-26 16:39:12,076 - decoder.activations = ['tanh', 'linear']\n",
      "INFO - 2019-03-26 16:39:12,076 - decoder.dropout = 0.0\n",
      "INFO - 2019-03-26 16:39:12,078 - instantiating class <class 'PatientVec.models.modules.Predictor.Predictor'> from params {'type': 'binary'} and extras {}\n",
      "INFO - 2019-03-26 16:39:12,078 - predictor.type = binary\n",
      "INFO - 2019-03-26 16:39:12,078 - instantiating class <class 'PatientVec.models.modules.Predictor.Binary_Predictor'> from params {} and extras {}\n",
      "INFO - 2019-03-26 16:39:12,078 - predictor.replicate = False\n",
      "INFO - 2019-03-26 16:39:12,079 - predictor.alpha = 0.5\n"
     ]
    },
    {
     "name": "stdout",
     "output_type": "stream",
     "text": [
      "{'model': {'type': 'seq_classifier', 'embedder': {'type': 'token_embedder', 'vocab_size': 18542, 'embed_size': 200, 'embedding_file': '../../../SurgeryData/PatientVec/preprocess/KneeSurgery/1_yrs/embedding_matrix.npy'}, 'decoder': {'num_layers': 2, 'hidden_dims': [128, 1], 'activations': ['tanh', 'linear']}, 'predictor': {'type': 'binary'}, 'structured': {'use_structured': False}, 'encoder': {'type': 'lstm', 'hidden_size': 128}}, 'training_config': {'type': 'Adam', 'groups': [('.*', {'lr': 0.001, 'weight_decay': 1e-05})], 'common': {'bsize': 16, 'class_weight': True}}, 'exp_config': {'exp_name': 'KneeSurgery_1/Basic/LSTM(hs=128)', 'basepath': 'outputs/confidence'}}\n",
      "Setting Embedding\n"
     ]
    },
    {
     "data": {
      "application/vnd.jupyter.widget-view+json": {
       "model_id": "8f05883e329046789fdef0cae35d5293",
       "version_major": 2,
       "version_minor": 0
      },
      "text/plain": [
       "HBox(children=(IntProgress(value=0, max=8), HTML(value='')))"
      ]
     },
     "metadata": {},
     "output_type": "display_data"
    },
    {
     "data": {
      "application/vnd.jupyter.widget-view+json": {
       "model_id": "47201f7457fc483281c922ef1d972af5",
       "version_major": 2,
       "version_minor": 0
      },
      "text/plain": [
       "HBox(children=(IntProgress(value=0, max=229), HTML(value='')))"
      ]
     },
     "metadata": {},
     "output_type": "display_data"
    },
    {
     "data": {
      "application/vnd.jupyter.widget-view+json": {
       "model_id": "b1fb3cfe00fb4bdfa1b89025f48439a8",
       "version_major": 2,
       "version_minor": 0
      },
      "text/plain": [
       "HBox(children=(IntProgress(value=0, max=51), HTML(value='')))"
      ]
     },
     "metadata": {},
     "output_type": "display_data"
    },
    {
     "name": "stdout",
     "output_type": "stream",
     "text": [
      "{'accuracy': 0.762796504369538, 'roc_auc': 0.5455154516774653, 'pr_auc': 0.11352564296819215}\n"
     ]
    },
    {
     "data": {
      "text/html": [
       "<div>\n",
       "<style scoped>\n",
       "    .dataframe tbody tr th:only-of-type {\n",
       "        vertical-align: middle;\n",
       "    }\n",
       "\n",
       "    .dataframe tbody tr th {\n",
       "        vertical-align: top;\n",
       "    }\n",
       "\n",
       "    .dataframe thead th {\n",
       "        text-align: right;\n",
       "    }\n",
       "</style>\n",
       "<table border=\"1\" class=\"dataframe\">\n",
       "  <thead>\n",
       "    <tr style=\"text-align: right;\">\n",
       "      <th></th>\n",
       "      <th>0.0</th>\n",
       "      <th>1.0</th>\n",
       "      <th>micro avg</th>\n",
       "      <th>macro avg</th>\n",
       "      <th>weighted avg</th>\n",
       "    </tr>\n",
       "  </thead>\n",
       "  <tbody>\n",
       "    <tr>\n",
       "      <th>f1-score</th>\n",
       "      <td>0.864</td>\n",
       "      <td>0.095</td>\n",
       "      <td>0.763</td>\n",
       "      <td>0.479</td>\n",
       "      <td>0.785</td>\n",
       "    </tr>\n",
       "    <tr>\n",
       "      <th>precision</th>\n",
       "      <td>0.893</td>\n",
       "      <td>0.078</td>\n",
       "      <td>0.763</td>\n",
       "      <td>0.486</td>\n",
       "      <td>0.810</td>\n",
       "    </tr>\n",
       "    <tr>\n",
       "      <th>recall</th>\n",
       "      <td>0.836</td>\n",
       "      <td>0.122</td>\n",
       "      <td>0.763</td>\n",
       "      <td>0.479</td>\n",
       "      <td>0.763</td>\n",
       "    </tr>\n",
       "    <tr>\n",
       "      <th>support</th>\n",
       "      <td>719.000</td>\n",
       "      <td>82.000</td>\n",
       "      <td>801.000</td>\n",
       "      <td>801.000</td>\n",
       "      <td>801.000</td>\n",
       "    </tr>\n",
       "  </tbody>\n",
       "</table>\n",
       "</div>"
      ],
      "text/plain": [
       "               0.0     1.0  micro avg  macro avg  weighted avg\n",
       "f1-score     0.864   0.095      0.763      0.479         0.785\n",
       "precision    0.893   0.078      0.763      0.486         0.810\n",
       "recall       0.836   0.122      0.763      0.479         0.763\n",
       "support    719.000  82.000    801.000    801.000       801.000"
      ]
     },
     "metadata": {},
     "output_type": "display_data"
    },
    {
     "name": "stdout",
     "output_type": "stream",
     "text": [
      "Model Saved on  roc_auc 0.5455154516774653\n"
     ]
    },
    {
     "data": {
      "application/vnd.jupyter.widget-view+json": {
       "model_id": "6f087814edc34c859bae3d741f58db28",
       "version_major": 2,
       "version_minor": 0
      },
      "text/plain": [
       "HBox(children=(IntProgress(value=0, max=229), HTML(value='')))"
      ]
     },
     "metadata": {},
     "output_type": "display_data"
    }
   ],
   "source": [
    "for i in range(10) :\n",
    "    %run \"Discovery Experiments\"/confidence_interval.py --dataset='knee_1yr' --data_dir='../../../SurgeryData/PatientVec/' --output_dir='outputs/' --display"
   ]
  },
  {
   "cell_type": "code",
   "execution_count": null,
   "metadata": {},
   "outputs": [],
   "source": [
    "for i in range(10) :\n",
    "    %run \"Discovery Experiments\"/confidence_interval.py --dataset='hip_1yr' --data_dir='../../../SurgeryData/PatientVec/' --output_dir='outputs/' --display"
   ]
  },
  {
   "cell_type": "code",
   "execution_count": null,
   "metadata": {},
   "outputs": [],
   "source": [
    "%run \"Discovery Experiments\"/run_models.py --dataset \"mortality_30day\" --exp_types pretrained --data_dir='.' \\\n",
    "    --output_dir='outputs/' --display"
   ]
  },
  {
   "cell_type": "code",
   "execution_count": null,
   "metadata": {},
   "outputs": [],
   "source": [
    "%run \"Discovery Experiments\"/run_models.py --dataset \"hip_1yr\" --exp_types vanilla \\\n",
    "    --data_dir='../../../SurgeryData/PatientVec/' --output_dir='outputs/' --display"
   ]
  },
  {
   "cell_type": "code",
   "execution_count": null,
   "metadata": {},
   "outputs": [],
   "source": [
    "%run \"Discovery Experiments\"/run_models.py --dataset \"hip_1yr\" --exp_types attention \\\n",
    "    --data_dir='../../../SurgeryData/PatientVec/' --output_dir='outputs/' --display"
   ]
  },
  {
   "cell_type": "code",
   "execution_count": null,
   "metadata": {},
   "outputs": [],
   "source": [
    "%run \"Discovery Experiments\"/run_models.py --dataset \"knee_1yr\" --exp_types vanilla \\\n",
    "    --data_dir='../../../SurgeryData/PatientVec/' --output_dir='outputs/' --display"
   ]
  },
  {
   "cell_type": "code",
   "execution_count": null,
   "metadata": {},
   "outputs": [],
   "source": [
    "%run \"Discovery Experiments\"/run_models.py --dataset \"knee_1yr\" --exp_types attention \\\n",
    "    --data_dir='../../../SurgeryData/PatientVec/' --output_dir='outputs/' --display"
   ]
  },
  {
   "cell_type": "code",
   "execution_count": null,
   "metadata": {},
   "outputs": [],
   "source": [
    "%run \"Discovery Experiments\"/run_models.py --dataset \"hip_1yr\" --exp_types lr \\\n",
    "    --data_dir='../../../SurgeryData/PatientVec/' --output_dir='outputs/' --display"
   ]
  },
  {
   "cell_type": "code",
   "execution_count": null,
   "metadata": {},
   "outputs": [],
   "source": [
    "%run \"Discovery Experiments\"/run_models.py --dataset \"knee_1yr\" --exp_types lr \\\n",
    "    --data_dir='../../../SurgeryData/PatientVec/' --output_dir='outputs/' --display"
   ]
  },
  {
   "cell_type": "code",
   "execution_count": null,
   "metadata": {},
   "outputs": [],
   "source": [
    "%run \"Discovery Experiments\"/run_models.py --dataset \"hip_1yr\" --exp_types hierarchical \\\n",
    "    --data_dir='../../../SurgeryData/PatientVec/' --output_dir='outputs/' --display"
   ]
  },
  {
   "cell_type": "code",
   "execution_count": null,
   "metadata": {},
   "outputs": [],
   "source": [
    "%run \"Discovery Experiments\"/run_models.py --dataset \"knee_1yr\" --exp_types hierarchical \\\n",
    "    --data_dir='../../../SurgeryData/PatientVec/' --output_dir='outputs/' --display"
   ]
  },
  {
   "cell_type": "code",
   "execution_count": null,
   "metadata": {},
   "outputs": [],
   "source": [
    "%run \"Discovery Experiments\"/run_models.py --dataset \"hip_1yr\" --exp_types basic_sru \\\n",
    "    --data_dir='../../../SurgeryData/PatientVec/' --output_dir='outputs/' --display"
   ]
  },
  {
   "cell_type": "code",
   "execution_count": null,
   "metadata": {},
   "outputs": [],
   "source": [
    "%run \"Discovery Experiments\"/run_models.py --dataset \"knee_1yr\" --exp_types basic_sru \\\n",
    "    --data_dir='../../../SurgeryData/PatientVec/' --output_dir='outputs/' --display"
   ]
  },
  {
   "cell_type": "code",
   "execution_count": null,
   "metadata": {},
   "outputs": [],
   "source": [
    "%run \"Discovery Experiments\"/run_models.py --dataset \"hip_1yr\" --exp_types lda \\\n",
    "    --data_dir='../../../SurgeryData/PatientVec/' --output_dir='outputs/' --display"
   ]
  },
  {
   "cell_type": "code",
   "execution_count": null,
   "metadata": {},
   "outputs": [],
   "source": [
    "%run \"Discovery Experiments\"/run_models.py --dataset \"knee_1yr\" --exp_types lda \\\n",
    "    --data_dir='../../../SurgeryData/PatientVec/' --output_dir='outputs/' --display"
   ]
  },
  {
   "cell_type": "code",
   "execution_count": null,
   "metadata": {},
   "outputs": [],
   "source": []
  }
 ],
 "metadata": {
  "kernelspec": {
   "display_name": "Python 3",
   "language": "python",
   "name": "python3"
  },
  "language_info": {
   "codemirror_mode": {
    "name": "ipython",
    "version": 3
   },
   "file_extension": ".py",
   "mimetype": "text/x-python",
   "name": "python",
   "nbconvert_exporter": "python",
   "pygments_lexer": "ipython3",
   "version": "3.6.7"
  }
 },
 "nbformat": 4,
 "nbformat_minor": 2
}
