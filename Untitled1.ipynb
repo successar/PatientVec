{
 "cells": [
  {
   "cell_type": "code",
   "execution_count": 1,
   "metadata": {},
   "outputs": [],
   "source": [
    "import os\n",
    "import json"
   ]
  },
  {
   "cell_type": "code",
   "execution_count": null,
   "metadata": {},
   "outputs": [],
   "source": [
    "dirname = \"Mortality\""
   ]
  },
  {
   "cell_type": "code",
   "execution_count": null,
   "metadata": {},
   "outputs": [],
   "source": [
    "group = lambda x : (x[:-14].split('+')[0], \" + \".join(x[:-14].split('+')[1:]))"
   ]
  },
  {
   "cell_type": "code",
   "execution_count": null,
   "metadata": {},
   "outputs": [],
   "source": [
    "def make_comparator(less_than):\n",
    "    def compare(x, y):\n",
    "        if less_than(x, y):\n",
    "            return -1\n",
    "        elif less_than(y, x):\n",
    "            return 1\n",
    "        else:\n",
    "            return 0\n",
    "    return compare"
   ]
  },
  {
   "cell_type": "code",
   "execution_count": null,
   "metadata": {},
   "outputs": [],
   "source": [
    "def cmp(x, y) :\n",
    "    gx, rx = group(x)\n",
    "    gy, ry = group(y)\n",
    "    if gx < gy : return -1\n",
    "    elif gy < gx : return 1\n",
    "    elif len(rx) < len(ry) : return -1\n",
    "    elif len(ry) < len(rx) : return 1\n",
    "    else : return 0"
   ]
  },
  {
   "cell_type": "code",
   "execution_count": null,
   "metadata": {},
   "outputs": [],
   "source": [
    "from functools import cmp_to_key"
   ]
  },
  {
   "cell_type": "code",
   "execution_count": null,
   "metadata": {},
   "outputs": [],
   "source": [
    "files = sorted([f for f in os.listdir('latex_evals/' + dirname) if f.endswith(\".json\")], key=cmp_to_key(cmp))"
   ]
  },
  {
   "cell_type": "code",
   "execution_count": null,
   "metadata": {},
   "outputs": [],
   "source": [
    "keys_to_use = [\n",
    "    \"micro avg/precision\",\n",
    "    \"micro avg/recall\",\n",
    "    \"micro avg/f1-score\",\n",
    "    \"macro avg/precision\",\n",
    "    \"macro avg/recall\",\n",
    "    \"macro avg/f1-score\",\n",
    "    \"accuracy\",\n",
    "    \"roc_auc\"\n",
    "]"
   ]
  },
  {
   "cell_type": "code",
   "execution_count": null,
   "metadata": {},
   "outputs": [],
   "source": [
    "import pandas as pd\n",
    "df = pd.DataFrame(columns=[\"Method\"] + keys_to_use)"
   ]
  },
  {
   "cell_type": "code",
   "execution_count": null,
   "metadata": {},
   "outputs": [],
   "source": [
    "for f in files :\n",
    "    data = json.load(open('latex_evals/' + dirname + '/' + f))\n",
    "    data = {x:data['results'][x] for x in keys_to_use}\n",
    "    data[\"Method\"] = f[:-14]\n",
    "    df = df.append(pd.DataFrame([data]))"
   ]
  },
  {
   "cell_type": "code",
   "execution_count": null,
   "metadata": {},
   "outputs": [],
   "source": [
    "filename = 'Text-encoding-EHR/results/'+dirname+'/results.csv'\n",
    "os.makedirs(os.path.dirname(filename))\n",
    "df.to_csv(filename, index=False)"
   ]
  },
  {
   "cell_type": "code",
   "execution_count": null,
   "metadata": {},
   "outputs": [],
   "source": []
  }
 ],
 "metadata": {
  "kernelspec": {
   "display_name": "Python 3",
   "language": "python",
   "name": "python3"
  },
  "language_info": {
   "codemirror_mode": {
    "name": "ipython",
    "version": 3
   },
   "file_extension": ".py",
   "mimetype": "text/x-python",
   "name": "python",
   "nbconvert_exporter": "python",
   "pygments_lexer": "ipython3",
   "version": "3.7.2"
  }
 },
 "nbformat": 4,
 "nbformat_minor": 2
}
