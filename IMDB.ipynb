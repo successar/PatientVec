{
 "cells": [
  {
   "cell_type": "code",
   "execution_count": 1,
   "metadata": {},
   "outputs": [],
   "source": [
    "%load_ext autoreload\n",
    "%autoreload 2"
   ]
  },
  {
   "cell_type": "code",
   "execution_count": 2,
   "metadata": {},
   "outputs": [],
   "source": [
    "from dataset import Dataset\n",
    "import numpy as np"
   ]
  },
  {
   "cell_type": "code",
   "execution_count": 3,
   "metadata": {},
   "outputs": [],
   "source": [
    "from common import push_latest_model"
   ]
  },
  {
   "cell_type": "code",
   "execution_count": 4,
   "metadata": {},
   "outputs": [
    {
     "name": "stderr",
     "output_type": "stream",
     "text": [
      "2019-01-30 16:33:29,344 - Reading Structured data ...\n",
      "2019-01-30 16:33:29,350 - Reading Notes ...\n",
      "2019-01-30 16:33:30,355 - Stratifying ...\n"
     ]
    }
   ],
   "source": [
    "data = Dataset(name='IMDB', dirname='preprocess/IMDB/', labelfield='sentiment')"
   ]
  },
  {
   "cell_type": "code",
   "execution_count": 5,
   "metadata": {},
   "outputs": [],
   "source": [
    "from trainer import Trainer, Evaluator"
   ]
  },
  {
   "cell_type": "code",
   "execution_count": 6,
   "metadata": {},
   "outputs": [
    {
     "name": "stdout",
     "output_type": "stream",
     "text": [
      "Better speed can be achieved with apex installed from https://www.github.com/nvidia/apex.\n"
     ]
    }
   ],
   "source": [
    "from models.Vanilla import ClassificationTrainer as BasicCT"
   ]
  },
  {
   "cell_type": "markdown",
   "metadata": {},
   "source": [
    "LSTM\n",
    "===="
   ]
  },
  {
   "cell_type": "code",
   "execution_count": 7,
   "metadata": {},
   "outputs": [
    {
     "name": "stdout",
     "output_type": "stream",
     "text": [
      "Pos Percentage 0.5\n",
      "Pos Percentage 0.5\n"
     ]
    }
   ],
   "source": [
    "train_data = data.get_data('train')\n",
    "dev_data = data.get_data('dev')"
   ]
  },
  {
   "cell_type": "code",
   "execution_count": null,
   "metadata": {},
   "outputs": [],
   "source": [
    "from configs import get_basic_model_config\n",
    "config = get_basic_model_config(data, data.name + '/LSTM')\n",
    "config['model']['type'] = 'seq_classifier'\n",
    "del config['model']['attention']\n",
    "\n",
    "trainer = Trainer(BasicCT, config)\n",
    "trainer.train(train_data, dev_data)\n",
    "\n",
    "evaluator = Evaluator(BasicCT, trainer.model.dirname)\n",
    "_ = outputs = evaluator.evaluate(dev_data, save_results=True)"
   ]
  },
  {
   "cell_type": "markdown",
   "metadata": {},
   "source": [
    "LSTM Attention\n",
    "=============="
   ]
  },
  {
   "cell_type": "code",
   "execution_count": null,
   "metadata": {},
   "outputs": [],
   "source": [
    "train_data = data.get_data('train')\n",
    "dev_data = data.get_data('dev')"
   ]
  },
  {
   "cell_type": "code",
   "execution_count": null,
   "metadata": {},
   "outputs": [],
   "source": [
    "from configs import get_basic_model_config\n",
    "config = get_basic_model_config(data, data.name + '/LSTM.attention.additive')\n",
    "config['model']['type'] = 'seq_classifier_with_attention'\n",
    "\n",
    "trainer = Trainer(BasicCT, config)\n",
    "trainer.train(train_data, dev_data)\n",
    "\n",
    "evaluator = Evaluator(BasicCT, trainer.model.dirname)\n",
    "_ = evaluator.evaluate(dev_data, save_results=True)"
   ]
  },
  {
   "cell_type": "markdown",
   "metadata": {},
   "source": [
    "CNN\n",
    "==="
   ]
  },
  {
   "cell_type": "code",
   "execution_count": null,
   "metadata": {},
   "outputs": [],
   "source": [
    "train_data = data.get_data('train')\n",
    "dev_data = data.get_data('dev')"
   ]
  },
  {
   "cell_type": "code",
   "execution_count": null,
   "metadata": {},
   "outputs": [],
   "source": [
    "from configs import get_basic_cnn_model_config\n",
    "config = get_basic_cnn_model_config(data, data.name + '/CNN')\n",
    "config['model']['type'] = 'seq_classifier'"
   ]
  },
  {
   "cell_type": "code",
   "execution_count": null,
   "metadata": {},
   "outputs": [],
   "source": [
    "del config['model']['attention']\n",
    "config"
   ]
  },
  {
   "cell_type": "code",
   "execution_count": null,
   "metadata": {},
   "outputs": [],
   "source": [
    "trainer = Trainer(BasicCT, config)\n",
    "trainer.train(train_data, dev_data)\n",
    "\n",
    "evaluator = Evaluator(BasicCT, trainer.model.dirname)\n",
    "_ = evaluator.evaluate(dev_data, save_results=True)"
   ]
  },
  {
   "cell_type": "code",
   "execution_count": null,
   "metadata": {},
   "outputs": [],
   "source": [
    "push_latest_model(dirname='outputs/classification/Readmission_readmission/CNN', model_name='Readmission/CNN')"
   ]
  },
  {
   "cell_type": "markdown",
   "metadata": {},
   "source": [
    "CNN Attention\n",
    "=============="
   ]
  },
  {
   "cell_type": "code",
   "execution_count": null,
   "metadata": {},
   "outputs": [],
   "source": [
    "train_data = data.get_data('train')\n",
    "dev_data = data.get_data('dev')"
   ]
  },
  {
   "cell_type": "code",
   "execution_count": null,
   "metadata": {},
   "outputs": [],
   "source": [
    "from configs import get_basic_cnn_model_config\n",
    "config = get_basic_cnn_model_config(data, data.name + '/CNN.attention.additive')\n",
    "config['model']['type'] = 'seq_classifier_with_attention'"
   ]
  },
  {
   "cell_type": "code",
   "execution_count": null,
   "metadata": {},
   "outputs": [],
   "source": [
    "trainer = Trainer(BasicCT, config)\n",
    "trainer.train(train_data, dev_data)\n",
    "\n",
    "evaluator = Evaluator(BasicCT, trainer.model.dirname)\n",
    "_ = evaluator.evaluate(dev_data, save_results=True)"
   ]
  },
  {
   "cell_type": "code",
   "execution_count": null,
   "metadata": {},
   "outputs": [],
   "source": [
    "push_latest_model(dirname='outputs/classification/Readmission_readmission/CNN.attention.additive/', model_name='Readmission/CNN+Attention')"
   ]
  },
  {
   "cell_type": "code",
   "execution_count": null,
   "metadata": {},
   "outputs": [],
   "source": [
    "def setup_conditional_experiment_CNN(encodings) :\n",
    "    try :\n",
    "        train_data = data.get_data('train', encodings=encodings)\n",
    "        dev_data = data.get_data('dev', encodings=encodings)\n",
    "        config = get_basic_cnn_model_config(data, data.name + '/CNN.attention.additive.' + '.'.join(encodings))\n",
    "        config['model']['type'] = 'seq_classifier_with_structured_attention'\n",
    "        config['model']['attention']['similarity']['tensor_2_dim'] = train_data.cond.shape[-1]\n",
    "        trainer = Trainer(StructuredCT, config)\n",
    "        trainer.train(train_data, dev_data)\n",
    "        \n",
    "        evaluator = Evaluator(StructuredCT, trainer.model.dirname)\n",
    "        _ = evaluator.evaluate(dev_data, save_results=True)\n",
    "    except :\n",
    "        print(\"Error\")\n",
    "        return"
   ]
  },
  {
   "cell_type": "code",
   "execution_count": null,
   "metadata": {},
   "outputs": [],
   "source": [
    "setup_conditional_experiment_CNN(['icd9_codes'])"
   ]
  },
  {
   "cell_type": "code",
   "execution_count": null,
   "metadata": {},
   "outputs": [],
   "source": [
    "setup_conditional_experiment_CNN(['gender', 'age', 'ethnicity_c'])"
   ]
  },
  {
   "cell_type": "markdown",
   "metadata": {},
   "source": [
    "Baselines\n",
    "=========="
   ]
  },
  {
   "cell_type": "code",
   "execution_count": null,
   "metadata": {},
   "outputs": [],
   "source": [
    "train_data = data.get_data('train')\n",
    "dev_data = data.get_data('dev')"
   ]
  },
  {
   "cell_type": "code",
   "execution_count": null,
   "metadata": {},
   "outputs": [],
   "source": [
    "from PatientVec.models.baselines.LR import LR, LDA"
   ]
  },
  {
   "cell_type": "code",
   "execution_count": null,
   "metadata": {},
   "outputs": [],
   "source": [
    "lr = LR({'vocab' : data.vocab, 'stop_words' : True, 'exp_name' : data.name})\n",
    "lr.train(train_data)\n",
    "lr.evaluate(dev_data, save_results=True)\n",
    "lr.get_features(n=20)"
   ]
  },
  {
   "cell_type": "code",
   "execution_count": null,
   "metadata": {},
   "outputs": [],
   "source": [
    "lr.get_features(n=40)"
   ]
  },
  {
   "cell_type": "code",
   "execution_count": null,
   "metadata": {},
   "outputs": [],
   "source": [
    "lda = LDA({'vocab' : data.vocab, 'stop_words' : True, 'exp_name' : data.name})\n",
    "lda.train(train_data)\n",
    "lda.evaluate(dev_data, save_results=True)\n",
    "print(lda.get_topics(n=10))\n",
    "topics = lda.get_topics(n=10)\n",
    "print([topics[i] for i in np.argsort(lda.lda_classifier.coef_[0])])"
   ]
  },
  {
   "cell_type": "code",
   "execution_count": null,
   "metadata": {},
   "outputs": [],
   "source": [
    "[topics[i] for i in np.argsort(lda.lda_classifier.coef_[0])]"
   ]
  },
  {
   "cell_type": "code",
   "execution_count": null,
   "metadata": {},
   "outputs": [],
   "source": [
    "push_latest_model(dirname='outputs/LDA/Readmission_readmission/', model_name=\"Readmission/LR+LDA(n=50)\")\n",
    "push_latest_model(dirname='outputs/LR/BOW/Readmission_readmission/', model_name=\"Readmission/LR+BoW\")\n",
    "push_latest_model(dirname='outputs/LR/TF/Readmission_readmission/', model_name=\"Readmission/LR+tf-idf\")"
   ]
  },
  {
   "cell_type": "markdown",
   "metadata": {},
   "source": [
    "Hierarchical\n",
    "============="
   ]
  },
  {
   "cell_type": "code",
   "execution_count": 8,
   "metadata": {},
   "outputs": [],
   "source": [
    "from configs import get_hierarchical_model_config\n",
    "config = get_hierarchical_model_config(data, exp_name=data.name + '/LSTM.attention.additive2')"
   ]
  },
  {
   "cell_type": "code",
   "execution_count": null,
   "metadata": {},
   "outputs": [],
   "source": [
    "# config['model']['word_encoder']['type'] = 'average'\n",
    "# config['model']['word_encoder']['projection'] = True\n",
    "# config['model']['word_encoder']['hidden_size'] = 256\n",
    "\n",
    "\n",
    "# config['model']['sentence_encoder']['type'] = 'average'\n",
    "# config['model']['sentence_encoder']['projection'] = True\n",
    "# config['model']['sentence_encoder']['hidden_size'] = 256\n",
    "# config"
   ]
  },
  {
   "cell_type": "code",
   "execution_count": 9,
   "metadata": {},
   "outputs": [],
   "source": [
    "from models.hierarchical import ClassificationTrainer as HierCT"
   ]
  },
  {
   "cell_type": "code",
   "execution_count": null,
   "metadata": {},
   "outputs": [],
   "source": [
    "trainer = Trainer(HierCT, config)"
   ]
  },
  {
   "cell_type": "code",
   "execution_count": null,
   "metadata": {},
   "outputs": [],
   "source": [
    "trainer.train(train_data, dev_data, n_iters=5)"
   ]
  },
  {
   "cell_type": "code",
   "execution_count": 10,
   "metadata": {},
   "outputs": [
    {
     "name": "stderr",
     "output_type": "stream",
     "text": [
      "2019-01-30 16:34:07,395 - instantiating class <class 'models.Model.Model'> from params {'type': 'hierarchical_classifier_with_attention', 'embedder': {'type': 'token_embedder', 'vocab_size': 15761, 'embed_size': 300, 'embedding_file': 'preprocess/IMDB//embedding_matrix.npy'}, 'word_encoder': {'type': 'lstm', 'hidden_size': 128}, 'word_attention': {'similarity': {'type': 'additive', 'hidden_size': 128}}, 'sentence_encoder': {'type': 'lstm', 'hidden_size': 128}, 'sentence_attention': {'similarity': {'type': 'additive', 'hidden_size': 128}}, 'decoder': {'num_layers': 2, 'hidden_dims': [128, 1], 'activations': ['tanh', 'linear']}, 'predictor': {'type': 'binary'}, 'structured': {'use_structured': False}} and extras {}\n",
      "2019-01-30 16:34:07,396 - type = hierarchical_classifier_with_attention\n",
      "2019-01-30 16:34:07,397 - instantiating class <class 'models.modules.Embedder.Embedder'> from params {'type': 'token_embedder', 'vocab_size': 15761, 'embed_size': 300, 'embedding_file': 'preprocess/IMDB//embedding_matrix.npy'} and extras {}\n",
      "2019-01-30 16:34:07,397 - embedder.type = token_embedder\n",
      "2019-01-30 16:34:07,398 - instantiating class <class 'models.modules.Embedder.TokenEmbedder'> from params {'vocab_size': 15761, 'embed_size': 300, 'embedding_file': 'preprocess/IMDB//embedding_matrix.npy'} and extras {}\n",
      "2019-01-30 16:34:07,398 - embedder.vocab_size = 15761\n",
      "2019-01-30 16:34:07,399 - embedder.embed_size = 300\n",
      "2019-01-30 16:34:07,399 - embedder.embedding_file = preprocess/IMDB//embedding_matrix.npy\n",
      "2019-01-30 16:34:07,448 - instantiating class <class 'models.modules.Encoder.Encoder'> from params {'type': 'lstm', 'hidden_size': 128} and extras {'input_size': 300}\n",
      "2019-01-30 16:34:07,449 - word_encoder.type = lstm\n",
      "2019-01-30 16:34:07,449 - instantiating class <class 'models.modules.Encoder.wrap_pytorch_rnn.<locals>.BiRNNEncoder'> from params {'hidden_size': 128} and extras {'input_size': 300}\n",
      "2019-01-30 16:34:07,450 - word_encoder.hidden_size = 128\n",
      "2019-01-30 16:34:07,456 - instantiating class <class 'models.modules.SelfAttention.SelfAttention'> from params {'similarity': {'type': 'additive', 'hidden_size': 128, 'tensor_1_dim': 256}} and extras {}\n",
      "2019-01-30 16:34:07,456 - instantiating class <class 'models.modules.UniSimilarity.UniSimilarity'> from params {'type': 'additive', 'hidden_size': 128, 'tensor_1_dim': 256} and extras {}\n",
      "2019-01-30 16:34:07,457 - word_attention.similarity.type = additive\n",
      "2019-01-30 16:34:07,457 - instantiating class <class 'models.modules.UniSimilarity.UniAdditiveSimilarity'> from params {'hidden_size': 128, 'tensor_1_dim': 256} and extras {}\n",
      "2019-01-30 16:34:07,458 - word_attention.similarity.tensor_1_dim = 256\n",
      "2019-01-30 16:34:07,458 - word_attention.similarity.hidden_size = 128\n",
      "2019-01-30 16:34:07,460 - instantiating class <class 'models.modules.Encoder.Encoder'> from params {'type': 'lstm', 'hidden_size': 128} and extras {'input_size': 256}\n",
      "2019-01-30 16:34:07,460 - sentence_encoder.type = lstm\n",
      "2019-01-30 16:34:07,461 - instantiating class <class 'models.modules.Encoder.wrap_pytorch_rnn.<locals>.BiRNNEncoder'> from params {'hidden_size': 128} and extras {'input_size': 256}\n",
      "2019-01-30 16:34:07,461 - sentence_encoder.hidden_size = 128\n",
      "2019-01-30 16:34:07,467 - instantiating class <class 'models.modules.SelfAttention.SelfAttention'> from params {'similarity': {'type': 'additive', 'hidden_size': 128, 'tensor_1_dim': 256}} and extras {}\n",
      "2019-01-30 16:34:07,467 - instantiating class <class 'models.modules.UniSimilarity.UniSimilarity'> from params {'type': 'additive', 'hidden_size': 128, 'tensor_1_dim': 256} and extras {}\n",
      "2019-01-30 16:34:07,468 - sentence_attention.similarity.type = additive\n",
      "2019-01-30 16:34:07,468 - instantiating class <class 'models.modules.UniSimilarity.UniAdditiveSimilarity'> from params {'hidden_size': 128, 'tensor_1_dim': 256} and extras {}\n",
      "2019-01-30 16:34:07,470 - sentence_attention.similarity.tensor_1_dim = 256\n",
      "2019-01-30 16:34:07,471 - sentence_attention.similarity.hidden_size = 128\n",
      "2019-01-30 16:34:07,473 - decoder.input_dim = 256\n",
      "2019-01-30 16:34:07,474 - decoder.num_layers = 2\n",
      "2019-01-30 16:34:07,474 - decoder.hidden_dims = [128, 1]\n",
      "2019-01-30 16:34:07,474 - decoder.activations = ['tanh', 'linear']\n",
      "2019-01-30 16:34:07,475 - decoder.dropout = 0.0\n",
      "2019-01-30 16:34:07,477 - instantiating class <class 'models.modules.Predictor.Predictor'> from params {'type': 'binary'} and extras {}\n",
      "2019-01-30 16:34:07,477 - predictor.type = binary\n",
      "2019-01-30 16:34:07,478 - instantiating class <class 'models.modules.Predictor.Binary_Predictor'> from params {} and extras {}\n"
     ]
    },
    {
     "name": "stdout",
     "output_type": "stream",
     "text": [
      "Setting Embedding\n"
     ]
    },
    {
     "data": {
      "application/vnd.jupyter.widget-view+json": {
       "model_id": "4d573cce5c724c0e8ae8638d74b364c4",
       "version_major": 2,
       "version_minor": 0
      },
      "text/plain": [
       "HBox(children=(IntProgress(value=0, max=125), HTML(value='')))"
      ]
     },
     "metadata": {},
     "output_type": "display_data"
    },
    {
     "name": "stdout",
     "output_type": "stream",
     "text": [
      "\n",
      "{'0/precision': 0.8825831702544031, '0/recall': 0.902, '0/f1-score': 0.8921859545004946, '0/support': 1000, '1/precision': 0.8997955010224948, '1/recall': 0.88, '1/f1-score': 0.8897876643073811, '1/support': 1000, 'micro avg/precision': 0.891, 'micro avg/recall': 0.891, 'micro avg/f1-score': 0.891, 'micro avg/support': 2000, 'macro avg/precision': 0.891189335638449, 'macro avg/recall': 0.891, 'macro avg/f1-score': 0.8909868094039379, 'macro avg/support': 2000, 'weighted avg/precision': 0.8911893356384489, 'weighted avg/recall': 0.891, 'weighted avg/f1-score': 0.8909868094039378, 'weighted avg/support': 2000, 'accuracy': 0.891, 'roc_auc': 0.959967, 'pr_auc': 0.9602403961350325}\n"
     ]
    }
   ],
   "source": [
    "evaluator = Evaluator(HierCT, \"outputs/hierarchical_classification/IMDB_sentiment/LSTM.attention.additive2/Wed_Jan_30_15:08:09_2019/\")\n",
    "outputs = evaluator.evaluate(dev_data, save_results=True)"
   ]
  },
  {
   "cell_type": "code",
   "execution_count": 11,
   "metadata": {},
   "outputs": [],
   "source": [
    "assert all([len(x) == len(y) for x, y in zip(outputs['word_attentions'], dev_data.X)])\n",
    "assert all([len(x) == len(y) for x, y in zip(outputs['sentence_attentions'], dev_data.X)])"
   ]
  },
  {
   "cell_type": "code",
   "execution_count": 12,
   "metadata": {},
   "outputs": [],
   "source": [
    "for x, y in zip(outputs['word_attentions'], dev_data.X) :\n",
    "    assert all([len(a) == len(b) for a, b in zip(x, y)])\n",
    "    assert all([a[0] == 0. for a in x])\n",
    "    assert all([a[-1] == 0. for a in x])"
   ]
  },
  {
   "cell_type": "code",
   "execution_count": 19,
   "metadata": {},
   "outputs": [],
   "source": [
    "from common import collapse_and_print_word_attn, print_sent_attn"
   ]
  },
  {
   "cell_type": "code",
   "execution_count": 20,
   "metadata": {},
   "outputs": [
    {
     "data": {
      "text/html": [
       "<span style=\"background-color:hsl(202,100%,100.0%);\">&lt;SOS&gt; </span><span style=\"background-color:hsl(202,100%,96.63138128817081%);\">very </span><span style=\"background-color:hsl(202,100%,96.28333747386932%);\">intelligent </span><span style=\"background-color:hsl(202,100%,95.29723189771175%);\">humor </span><span style=\"background-color:hsl(202,100%,97.54338059574366%);\">excellent </span><span style=\"background-color:hsl(202,100%,96.58167138695717%);\">performing </span><span style=\"background-color:hsl(202,100%,96.89998254179955%);\">i </span><span style=\"background-color:hsl(202,100%,96.68034389615059%);\">ca </span><span style=\"background-color:hsl(202,100%,96.80738151073456%);\">n't </span><span style=\"background-color:hsl(202,100%,97.21586983650923%);\">believe </span><span style=\"background-color:hsl(202,100%,96.97824288159609%);\">how </span><span style=\"background-color:hsl(202,100%,97.3959468305111%);\">people </span><span style=\"background-color:hsl(202,100%,96.93797156214714%);\">could </span><span style=\"background-color:hsl(202,100%,97.2644004970789%);\">think </span><span style=\"background-color:hsl(202,100%,97.53361362963915%);\">it </span><span style=\"background-color:hsl(202,100%,97.81112633645535%);\">deserves </span><span style=\"background-color:hsl(202,100%,99.19475801289082%);\">a </span><span style=\"background-color:hsl(202,100%,98.1780607253313%);\">qqq </span><span style=\"background-color:hsl(202,100%,98.76530524343252%);\">! </span><span style=\"background-color:hsl(202,100%,100.0%);\">&lt;EOS&gt; </span><span style=\"background-color:hsl(202,100%,100.0%);\">&lt;SOS&gt; </span><span style=\"background-color:hsl(202,100%,99.35082229785621%);\">i </span><span style=\"background-color:hsl(202,100%,99.32447066530585%);\">hope </span><span style=\"background-color:hsl(202,100%,99.19320102781057%);\">this </span><span style=\"background-color:hsl(202,100%,98.89707621186972%);\">movie </span><span style=\"background-color:hsl(202,100%,99.23558565787971%);\">will </span><span style=\"background-color:hsl(202,100%,99.13704628124833%);\">be </span><span style=\"background-color:hsl(202,100%,99.24940643832088%);\">shown </span><span style=\"background-color:hsl(202,100%,99.3035510648042%);\">everywhere </span><span style=\"background-color:hsl(202,100%,99.2317896336317%);\">so </span><span style=\"background-color:hsl(202,100%,99.50971244834363%);\">everyone </span><span style=\"background-color:hsl(202,100%,99.4835284538567%);\">can </span><span style=\"background-color:hsl(202,100%,99.55686377361417%);\">enjoy </span><span style=\"background-color:hsl(202,100%,99.5085883885622%);\">it </span><span style=\"background-color:hsl(202,100%,99.49469580315053%);\">if </span><span style=\"background-color:hsl(202,100%,99.54789620824158%);\">you </span><span style=\"background-color:hsl(202,100%,99.52906174585223%);\">ever </span><span style=\"background-color:hsl(202,100%,99.53511469066143%);\">have </span><span style=\"background-color:hsl(202,100%,99.5371294207871%);\">the </span><span style=\"background-color:hsl(202,100%,99.47750084102154%);\">opportunity </span><span style=\"background-color:hsl(202,100%,99.74823093507439%);\">, </span><span style=\"background-color:hsl(202,100%,99.24767310731113%);\">watch </span><span style=\"background-color:hsl(202,100%,99.23479785211384%);\">it </span><span style=\"background-color:hsl(202,100%,98.38401637971401%);\">... </span><span style=\"background-color:hsl(202,100%,98.52449214085937%);\">do </span><span style=\"background-color:hsl(202,100%,98.63719893619418%);\">n't </span><span style=\"background-color:hsl(202,100%,98.9263154566288%);\">miss </span><span style=\"background-color:hsl(202,100%,99.0786636248231%);\">it </span><span style=\"background-color:hsl(202,100%,99.1697913967073%);\">there </span><span style=\"background-color:hsl(202,100%,99.24390874803066%);\">is </span><span style=\"background-color:hsl(202,100%,99.7950896853581%);\">a </span><span style=\"background-color:hsl(202,100%,98.90854060649872%);\">part </span><span style=\"background-color:hsl(202,100%,98.99489497765899%);\">when </span><span style=\"background-color:hsl(202,100%,98.94683733582497%);\">the </span><span style=\"background-color:hsl(202,100%,98.79395421594381%);\">principal </span><span style=\"background-color:hsl(202,100%,98.04517347365618%);\">actors </span><span style=\"background-color:hsl(202,100%,98.49998019635677%);\">are </span><span style=\"background-color:hsl(202,100%,98.41384086757898%);\">driving </span><span style=\"background-color:hsl(202,100%,98.88033112511039%);\">and </span><span style=\"background-color:hsl(202,100%,98.84211160242558%);\">singing </span><span style=\"background-color:hsl(202,100%,99.95830647239927%);\">&lt;UNK&gt; </span><span style=\"background-color:hsl(202,100%,99.97106107475702%);\">&lt;UNK&gt; </span><span style=\"background-color:hsl(202,100%,99.85990974819288%);\">\" </span><span style=\"background-color:hsl(202,100%,99.83385393861681%);\">and </span><span style=\"background-color:hsl(202,100%,99.98013386648381%);\">&lt;UNK&gt; </span><span style=\"background-color:hsl(202,100%,99.98379356402438%);\">&lt;UNK&gt; </span><span style=\"background-color:hsl(202,100%,99.98307846690295%);\">&lt;UNK&gt; </span><span style=\"background-color:hsl(202,100%,99.92516677011736%);\">\" </span><span style=\"background-color:hsl(202,100%,99.94286543224007%);\">( </span><span style=\"background-color:hsl(202,100%,99.82744599692523%);\">an </span><span style=\"background-color:hsl(202,100%,99.97866686171619%);\">&lt;UNK&gt; </span><span style=\"background-color:hsl(202,100%,99.67137256171554%);\">song </span><span style=\"background-color:hsl(202,100%,99.6181990718469%);\">for </span><span style=\"background-color:hsl(202,100%,99.6231494937092%);\">kids </span><span style=\"background-color:hsl(202,100%,99.87951255170628%);\">( </span><span style=\"background-color:hsl(202,100%,99.55143644474447%);\">i </span><span style=\"background-color:hsl(202,100%,99.49175994843245%);\">think </span><span style=\"background-color:hsl(202,100%,98.77276523038745%);\">... </span><span style=\"background-color:hsl(202,100%,98.86238696053624%);\">it </span><span style=\"background-color:hsl(202,100%,98.80361231043935%);\">could </span><span style=\"background-color:hsl(202,100%,99.16765941306949%);\">also </span><span style=\"background-color:hsl(202,100%,99.12345437332988%);\">be </span><span style=\"background-color:hsl(202,100%,99.24419149756432%);\">south </span><span style=\"background-color:hsl(202,100%,99.19674415141344%);\">american </span><span style=\"background-color:hsl(202,100%,99.65462984982878%);\">, </span><span style=\"background-color:hsl(202,100%,98.94394604489207%);\">i </span><span style=\"background-color:hsl(202,100%,98.72697489336133%);\">'m </span><span style=\"background-color:hsl(202,100%,98.71722888201475%);\">not </span><span style=\"background-color:hsl(202,100%,99.16017046198249%);\">sure </span><span style=\"background-color:hsl(202,100%,99.3729904294014%);\">) </span><span style=\"background-color:hsl(202,100%,99.09491837024689%);\">) </span><span style=\"background-color:hsl(202,100%,99.65972602367401%);\">. </span><span style=\"background-color:hsl(202,100%,100.0%);\">&lt;EOS&gt; </span><span style=\"background-color:hsl(202,100%,100.0%);\">&lt;SOS&gt; </span><span style=\"background-color:hsl(202,100%,98.01783692091703%);\">this </span><span style=\"background-color:hsl(202,100%,98.19016717374325%);\">two </span><span style=\"background-color:hsl(202,100%,96.97423689067364%);\">songs </span><span style=\"background-color:hsl(202,100%,97.62201867997646%);\">that </span><span style=\"background-color:hsl(202,100%,97.90574181824923%);\">have </span><span style=\"background-color:hsl(202,100%,97.85002339631319%);\">the </span><span style=\"background-color:hsl(202,100%,97.42019958794117%);\">same </span><span style=\"background-color:hsl(202,100%,96.93911634385586%);\">melody </span><span style=\"background-color:hsl(202,100%,95.03483772277832%);\">... </span><span style=\"background-color:hsl(202,100%,95.37051133811474%);\">but </span><span style=\"background-color:hsl(202,100%,96.68389409780502%);\">people </span><span style=\"background-color:hsl(202,100%,97.36133608967066%);\">do </span><span style=\"background-color:hsl(202,100%,97.47502338141203%);\">n't </span><span style=\"background-color:hsl(202,100%,97.76710253208876%);\">usually </span><span style=\"background-color:hsl(202,100%,98.27372655272484%);\">realize </span><span style=\"background-color:hsl(202,100%,98.47547793760896%);\">that </span><span style=\"background-color:hsl(202,100%,97.57254961878061%);\">... </span><span style=\"background-color:hsl(202,100%,98.42552617192268%);\">it </span><span style=\"background-color:hsl(202,100%,99.32983643375337%);\">'s </span><span style=\"background-color:hsl(202,100%,98.06836061179638%);\">just </span><span style=\"background-color:hsl(202,100%,99.85179991926998%);\">&lt;UNK&gt; </span><span style=\"background-color:hsl(202,100%,99.3906743824482%);\">! </span><span style=\"background-color:hsl(202,100%,100.0%);\">&lt;EOS&gt; </span><span style=\"background-color:hsl(202,100%,100.0%);\">&lt;SOS&gt; </span><span style=\"background-color:hsl(202,100%,98.08434527367353%);\">i </span><span style=\"background-color:hsl(202,100%,97.16822188347578%);\">tried </span><span style=\"background-color:hsl(202,100%,99.2077887058258%);\">to </span><span style=\"background-color:hsl(202,100%,98.33954367786646%);\">write </span><span style=\"background-color:hsl(202,100%,97.91964441537857%);\">this </span><span style=\"background-color:hsl(202,100%,97.92591445147991%);\">in </span><span style=\"background-color:hsl(202,100%,98.37405625730753%);\">both </span><span style=\"background-color:hsl(202,100%,98.02887588739395%);\">spanish </span><span style=\"background-color:hsl(202,100%,98.52633709087968%);\">and </span><span style=\"background-color:hsl(202,100%,98.66790352389216%);\">english </span><span style=\"background-color:hsl(202,100%,99.43248578347266%);\">, </span><span style=\"background-color:hsl(202,100%,98.84916339069605%);\">because </span><span style=\"background-color:hsl(202,100%,99.2365793325007%);\">it </span><span style=\"background-color:hsl(202,100%,99.63108545634896%);\">'s </span><span style=\"background-color:hsl(202,100%,99.0400311537087%);\">an </span><span style=\"background-color:hsl(202,100%,99.93345586699434%);\">&lt;UNK&gt; </span><span style=\"background-color:hsl(202,100%,99.01483431458473%);\">movie </span><span style=\"background-color:hsl(202,100%,97.75976650416851%);\">... </span><span style=\"background-color:hsl(202,100%,97.71669078618288%);\">but </span><span style=\"background-color:hsl(202,100%,98.00716377794743%);\">the </span><span style=\"background-color:hsl(202,100%,98.46005588769913%);\">page </span><span style=\"background-color:hsl(202,100%,97.92626164853573%);\">would </span><span style=\"background-color:hsl(202,100%,98.01507815718651%);\">n't </span><span style=\"background-color:hsl(202,100%,97.99976330250502%);\">allow </span><span style=\"background-color:hsl(202,100%,97.8609774261713%);\">me </span><span style=\"background-color:hsl(202,100%,96.69105224311352%);\">:( </span><span style=\"background-color:hsl(202,100%,97.8700689971447%);\">hope </span><span style=\"background-color:hsl(202,100%,98.36404453963041%);\">you </span><span style=\"background-color:hsl(202,100%,98.57154674828053%);\">enjoy </span><span style=\"background-color:hsl(202,100%,98.29790163785219%);\">it </span><span style=\"background-color:hsl(202,100%,99.3802834302187%);\">! </span><span style=\"background-color:hsl(202,100%,99.69907777849585%);\">\" </span><span style=\"background-color:hsl(202,100%,100.0%);\">&lt;EOS&gt; </span>"
      ],
      "text/plain": [
       "<IPython.core.display.HTML object>"
      ]
     },
     "metadata": {},
     "output_type": "display_data"
    }
   ],
   "source": [
    "collapse_and_print_word_attn(data.vocab, dev_data.X[10], outputs['word_attentions'][10])"
   ]
  },
  {
   "cell_type": "code",
   "execution_count": 21,
   "metadata": {},
   "outputs": [
    {
     "data": {
      "text/html": [
       "<span style=\"background-color:hsl(202,100%,85.46128273010254%);\">&lt;SOS&gt; </span><span style=\"background-color:hsl(202,100%,85.46128273010254%);\">very </span><span style=\"background-color:hsl(202,100%,85.46128273010254%);\">intelligent </span><span style=\"background-color:hsl(202,100%,85.46128273010254%);\">humor </span><span style=\"background-color:hsl(202,100%,85.46128273010254%);\">excellent </span><span style=\"background-color:hsl(202,100%,85.46128273010254%);\">performing </span><span style=\"background-color:hsl(202,100%,85.46128273010254%);\">i </span><span style=\"background-color:hsl(202,100%,85.46128273010254%);\">ca </span><span style=\"background-color:hsl(202,100%,85.46128273010254%);\">n't </span><span style=\"background-color:hsl(202,100%,85.46128273010254%);\">believe </span><span style=\"background-color:hsl(202,100%,85.46128273010254%);\">how </span><span style=\"background-color:hsl(202,100%,85.46128273010254%);\">people </span><span style=\"background-color:hsl(202,100%,85.46128273010254%);\">could </span><span style=\"background-color:hsl(202,100%,85.46128273010254%);\">think </span><span style=\"background-color:hsl(202,100%,85.46128273010254%);\">it </span><span style=\"background-color:hsl(202,100%,85.46128273010254%);\">deserves </span><span style=\"background-color:hsl(202,100%,85.46128273010254%);\">a </span><span style=\"background-color:hsl(202,100%,85.46128273010254%);\">qqq </span><span style=\"background-color:hsl(202,100%,85.46128273010254%);\">! </span><span style=\"background-color:hsl(202,100%,85.46128273010254%);\">&lt;EOS&gt; </span><span style=\"background-color:hsl(202,100%,88.54832798242569%);\">&lt;SOS&gt; </span><span style=\"background-color:hsl(202,100%,88.54832798242569%);\">i </span><span style=\"background-color:hsl(202,100%,88.54832798242569%);\">hope </span><span style=\"background-color:hsl(202,100%,88.54832798242569%);\">this </span><span style=\"background-color:hsl(202,100%,88.54832798242569%);\">movie </span><span style=\"background-color:hsl(202,100%,88.54832798242569%);\">will </span><span style=\"background-color:hsl(202,100%,88.54832798242569%);\">be </span><span style=\"background-color:hsl(202,100%,88.54832798242569%);\">shown </span><span style=\"background-color:hsl(202,100%,88.54832798242569%);\">everywhere </span><span style=\"background-color:hsl(202,100%,88.54832798242569%);\">so </span><span style=\"background-color:hsl(202,100%,88.54832798242569%);\">everyone </span><span style=\"background-color:hsl(202,100%,88.54832798242569%);\">can </span><span style=\"background-color:hsl(202,100%,88.54832798242569%);\">enjoy </span><span style=\"background-color:hsl(202,100%,88.54832798242569%);\">it </span><span style=\"background-color:hsl(202,100%,88.54832798242569%);\">if </span><span style=\"background-color:hsl(202,100%,88.54832798242569%);\">you </span><span style=\"background-color:hsl(202,100%,88.54832798242569%);\">ever </span><span style=\"background-color:hsl(202,100%,88.54832798242569%);\">have </span><span style=\"background-color:hsl(202,100%,88.54832798242569%);\">the </span><span style=\"background-color:hsl(202,100%,88.54832798242569%);\">opportunity </span><span style=\"background-color:hsl(202,100%,88.54832798242569%);\">, </span><span style=\"background-color:hsl(202,100%,88.54832798242569%);\">watch </span><span style=\"background-color:hsl(202,100%,88.54832798242569%);\">it </span><span style=\"background-color:hsl(202,100%,88.54832798242569%);\">... </span><span style=\"background-color:hsl(202,100%,88.54832798242569%);\">do </span><span style=\"background-color:hsl(202,100%,88.54832798242569%);\">n't </span><span style=\"background-color:hsl(202,100%,88.54832798242569%);\">miss </span><span style=\"background-color:hsl(202,100%,88.54832798242569%);\">it </span><span style=\"background-color:hsl(202,100%,88.54832798242569%);\">there </span><span style=\"background-color:hsl(202,100%,88.54832798242569%);\">is </span><span style=\"background-color:hsl(202,100%,88.54832798242569%);\">a </span><span style=\"background-color:hsl(202,100%,88.54832798242569%);\">part </span><span style=\"background-color:hsl(202,100%,88.54832798242569%);\">when </span><span style=\"background-color:hsl(202,100%,88.54832798242569%);\">the </span><span style=\"background-color:hsl(202,100%,88.54832798242569%);\">principal </span><span style=\"background-color:hsl(202,100%,88.54832798242569%);\">actors </span><span style=\"background-color:hsl(202,100%,88.54832798242569%);\">are </span><span style=\"background-color:hsl(202,100%,88.54832798242569%);\">driving </span><span style=\"background-color:hsl(202,100%,88.54832798242569%);\">and </span><span style=\"background-color:hsl(202,100%,88.54832798242569%);\">singing </span><span style=\"background-color:hsl(202,100%,88.54832798242569%);\">&lt;UNK&gt; </span><span style=\"background-color:hsl(202,100%,88.54832798242569%);\">&lt;UNK&gt; </span><span style=\"background-color:hsl(202,100%,88.54832798242569%);\">\" </span><span style=\"background-color:hsl(202,100%,88.54832798242569%);\">and </span><span style=\"background-color:hsl(202,100%,88.54832798242569%);\">&lt;UNK&gt; </span><span style=\"background-color:hsl(202,100%,88.54832798242569%);\">&lt;UNK&gt; </span><span style=\"background-color:hsl(202,100%,88.54832798242569%);\">&lt;UNK&gt; </span><span style=\"background-color:hsl(202,100%,88.54832798242569%);\">\" </span><span style=\"background-color:hsl(202,100%,88.54832798242569%);\">( </span><span style=\"background-color:hsl(202,100%,88.54832798242569%);\">an </span><span style=\"background-color:hsl(202,100%,88.54832798242569%);\">&lt;UNK&gt; </span><span style=\"background-color:hsl(202,100%,88.54832798242569%);\">song </span><span style=\"background-color:hsl(202,100%,88.54832798242569%);\">for </span><span style=\"background-color:hsl(202,100%,88.54832798242569%);\">kids </span><span style=\"background-color:hsl(202,100%,88.54832798242569%);\">( </span><span style=\"background-color:hsl(202,100%,88.54832798242569%);\">i </span><span style=\"background-color:hsl(202,100%,88.54832798242569%);\">think </span><span style=\"background-color:hsl(202,100%,88.54832798242569%);\">... </span><span style=\"background-color:hsl(202,100%,88.54832798242569%);\">it </span><span style=\"background-color:hsl(202,100%,88.54832798242569%);\">could </span><span style=\"background-color:hsl(202,100%,88.54832798242569%);\">also </span><span style=\"background-color:hsl(202,100%,88.54832798242569%);\">be </span><span style=\"background-color:hsl(202,100%,88.54832798242569%);\">south </span><span style=\"background-color:hsl(202,100%,88.54832798242569%);\">american </span><span style=\"background-color:hsl(202,100%,88.54832798242569%);\">, </span><span style=\"background-color:hsl(202,100%,88.54832798242569%);\">i </span><span style=\"background-color:hsl(202,100%,88.54832798242569%);\">'m </span><span style=\"background-color:hsl(202,100%,88.54832798242569%);\">not </span><span style=\"background-color:hsl(202,100%,88.54832798242569%);\">sure </span><span style=\"background-color:hsl(202,100%,88.54832798242569%);\">) </span><span style=\"background-color:hsl(202,100%,88.54832798242569%);\">) </span><span style=\"background-color:hsl(202,100%,88.54832798242569%);\">. </span><span style=\"background-color:hsl(202,100%,88.54832798242569%);\">&lt;EOS&gt; </span><span style=\"background-color:hsl(202,100%,88.19089457392693%);\">&lt;SOS&gt; </span><span style=\"background-color:hsl(202,100%,88.19089457392693%);\">this </span><span style=\"background-color:hsl(202,100%,88.19089457392693%);\">two </span><span style=\"background-color:hsl(202,100%,88.19089457392693%);\">songs </span><span style=\"background-color:hsl(202,100%,88.19089457392693%);\">that </span><span style=\"background-color:hsl(202,100%,88.19089457392693%);\">have </span><span style=\"background-color:hsl(202,100%,88.19089457392693%);\">the </span><span style=\"background-color:hsl(202,100%,88.19089457392693%);\">same </span><span style=\"background-color:hsl(202,100%,88.19089457392693%);\">melody </span><span style=\"background-color:hsl(202,100%,88.19089457392693%);\">... </span><span style=\"background-color:hsl(202,100%,88.19089457392693%);\">but </span><span style=\"background-color:hsl(202,100%,88.19089457392693%);\">people </span><span style=\"background-color:hsl(202,100%,88.19089457392693%);\">do </span><span style=\"background-color:hsl(202,100%,88.19089457392693%);\">n't </span><span style=\"background-color:hsl(202,100%,88.19089457392693%);\">usually </span><span style=\"background-color:hsl(202,100%,88.19089457392693%);\">realize </span><span style=\"background-color:hsl(202,100%,88.19089457392693%);\">that </span><span style=\"background-color:hsl(202,100%,88.19089457392693%);\">... </span><span style=\"background-color:hsl(202,100%,88.19089457392693%);\">it </span><span style=\"background-color:hsl(202,100%,88.19089457392693%);\">'s </span><span style=\"background-color:hsl(202,100%,88.19089457392693%);\">just </span><span style=\"background-color:hsl(202,100%,88.19089457392693%);\">&lt;UNK&gt; </span><span style=\"background-color:hsl(202,100%,88.19089457392693%);\">! </span><span style=\"background-color:hsl(202,100%,88.19089457392693%);\">&lt;EOS&gt; </span><span style=\"background-color:hsl(202,100%,87.79949322342873%);\">&lt;SOS&gt; </span><span style=\"background-color:hsl(202,100%,87.79949322342873%);\">i </span><span style=\"background-color:hsl(202,100%,87.79949322342873%);\">tried </span><span style=\"background-color:hsl(202,100%,87.79949322342873%);\">to </span><span style=\"background-color:hsl(202,100%,87.79949322342873%);\">write </span><span style=\"background-color:hsl(202,100%,87.79949322342873%);\">this </span><span style=\"background-color:hsl(202,100%,87.79949322342873%);\">in </span><span style=\"background-color:hsl(202,100%,87.79949322342873%);\">both </span><span style=\"background-color:hsl(202,100%,87.79949322342873%);\">spanish </span><span style=\"background-color:hsl(202,100%,87.79949322342873%);\">and </span><span style=\"background-color:hsl(202,100%,87.79949322342873%);\">english </span><span style=\"background-color:hsl(202,100%,87.79949322342873%);\">, </span><span style=\"background-color:hsl(202,100%,87.79949322342873%);\">because </span><span style=\"background-color:hsl(202,100%,87.79949322342873%);\">it </span><span style=\"background-color:hsl(202,100%,87.79949322342873%);\">'s </span><span style=\"background-color:hsl(202,100%,87.79949322342873%);\">an </span><span style=\"background-color:hsl(202,100%,87.79949322342873%);\">&lt;UNK&gt; </span><span style=\"background-color:hsl(202,100%,87.79949322342873%);\">movie </span><span style=\"background-color:hsl(202,100%,87.79949322342873%);\">... </span><span style=\"background-color:hsl(202,100%,87.79949322342873%);\">but </span><span style=\"background-color:hsl(202,100%,87.79949322342873%);\">the </span><span style=\"background-color:hsl(202,100%,87.79949322342873%);\">page </span><span style=\"background-color:hsl(202,100%,87.79949322342873%);\">would </span><span style=\"background-color:hsl(202,100%,87.79949322342873%);\">n't </span><span style=\"background-color:hsl(202,100%,87.79949322342873%);\">allow </span><span style=\"background-color:hsl(202,100%,87.79949322342873%);\">me </span><span style=\"background-color:hsl(202,100%,87.79949322342873%);\">:( </span><span style=\"background-color:hsl(202,100%,87.79949322342873%);\">hope </span><span style=\"background-color:hsl(202,100%,87.79949322342873%);\">you </span><span style=\"background-color:hsl(202,100%,87.79949322342873%);\">enjoy </span><span style=\"background-color:hsl(202,100%,87.79949322342873%);\">it </span><span style=\"background-color:hsl(202,100%,87.79949322342873%);\">! </span><span style=\"background-color:hsl(202,100%,87.79949322342873%);\">\" </span><span style=\"background-color:hsl(202,100%,87.79949322342873%);\">&lt;EOS&gt; </span>"
      ],
      "text/plain": [
       "<IPython.core.display.HTML object>"
      ]
     },
     "metadata": {},
     "output_type": "display_data"
    }
   ],
   "source": [
    "print_sent_attn(data.vocab, dev_data.X[10], outputs['sentence_attentions'][10])"
   ]
  },
  {
   "cell_type": "code",
   "execution_count": null,
   "metadata": {},
   "outputs": [],
   "source": []
  },
  {
   "cell_type": "code",
   "execution_count": 22,
   "metadata": {},
   "outputs": [],
   "source": [
    "from scipy.stats import spearmanr, kendalltau"
   ]
  },
  {
   "cell_type": "code",
   "execution_count": 23,
   "metadata": {},
   "outputs": [
    {
     "name": "stderr",
     "output_type": "stream",
     "text": [
      "/home/jainsarthak/anaconda3/lib/python3.7/site-packages/scipy/stats/stats.py:3568: RuntimeWarning: invalid value encountered in double_scalars\n",
      "  size * (size - 1) * (size - 2))\n"
     ]
    }
   ],
   "source": [
    "corrs = [kendalltau(range(len(outputs['sentence_attentions'][i])), outputs['sentence_attentions'][i]) \n",
    "         for i in range(len(outputs['sentence_attentions']))]"
   ]
  },
  {
   "cell_type": "code",
   "execution_count": 24,
   "metadata": {},
   "outputs": [],
   "source": [
    "rho, leng = zip(*[(x[0], y) for x, y in zip(corrs, [len(z) for z in outputs['sentence_attentions']]) if x[0] == x[0]])"
   ]
  },
  {
   "cell_type": "code",
   "execution_count": 26,
   "metadata": {},
   "outputs": [],
   "source": [
    "import matplotlib.pyplot as plt"
   ]
  },
  {
   "cell_type": "code",
   "execution_count": 27,
   "metadata": {},
   "outputs": [
    {
     "data": {
      "text/plain": [
       "(array([205.,  63.,  82.,  54.,  93.,  66.,  66.,  58.,  63.,  46.,  45.,\n",
       "         53.,  34.,  27.,  35.,  50.,  59.,  38.,  61.,  50.,  80.,  56.,\n",
       "         62.,  67.,  60.,  98.,  61.,  84.,  53., 122.]),\n",
       " array([-1.        , -0.93333333, -0.86666667, -0.8       , -0.73333333,\n",
       "        -0.66666667, -0.6       , -0.53333333, -0.46666667, -0.4       ,\n",
       "        -0.33333333, -0.26666667, -0.2       , -0.13333333, -0.06666667,\n",
       "         0.        ,  0.06666667,  0.13333333,  0.2       ,  0.26666667,\n",
       "         0.33333333,  0.4       ,  0.46666667,  0.53333333,  0.6       ,\n",
       "         0.66666667,  0.73333333,  0.8       ,  0.86666667,  0.93333333,\n",
       "         1.        ]),\n",
       " <a list of 30 Patch objects>)"
      ]
     },
     "execution_count": 27,
     "metadata": {},
     "output_type": "execute_result"
    },
    {
     "data": {
      "image/png": "[encoded data removed]",
      "text/plain": [
       "<Figure size 432x288 with 1 Axes>"
      ]
     },
     "metadata": {
      "image/png": {
       "height": 250,
       "width": 377
      },
      "needs_background": "light"
     },
     "output_type": "display_data"
    }
   ],
   "source": [
    "plt.hist(rho, bins=30)"
   ]
  },
  {
   "cell_type": "code",
   "execution_count": 28,
   "metadata": {},
   "outputs": [],
   "source": [
    "pval, leng1 = zip(*[(x[1], y) for x, y in zip(corrs, [len(z) for z in outputs['sentence_attentions']]) if x[1] == x[1]])"
   ]
  },
  {
   "cell_type": "code",
   "execution_count": 29,
   "metadata": {},
   "outputs": [
    {
     "data": {
      "text/plain": [
       "<matplotlib.collections.PathCollection at 0x7f2242d0c550>"
      ]
     },
     "execution_count": 29,
     "metadata": {},
     "output_type": "execute_result"
    },
    {
     "data": {
      "image/png": "[encoded data removed]",
      "text/plain": [
       "<Figure size 432x288 with 1 Axes>"
      ]
     },
     "metadata": {
      "image/png": {
       "height": 250,
       "width": 370
      },
      "needs_background": "light"
     },
     "output_type": "display_data"
    }
   ],
   "source": [
    "plt.scatter(rho, leng, s=3)"
   ]
  },
  {
   "cell_type": "code",
   "execution_count": null,
   "metadata": {},
   "outputs": [],
   "source": []
  }
 ],
 "metadata": {
  "kernelspec": {
   "display_name": "Python 3",
   "language": "python",
   "name": "python3"
  },
  "language_info": {
   "codemirror_mode": {
    "name": "ipython",
    "version": 3
   },
   "file_extension": ".py",
   "mimetype": "text/x-python",
   "name": "python",
   "nbconvert_exporter": "python",
   "pygments_lexer": "ipython3",
   "version": "3.7.2"
  }
 },
 "nbformat": 4,
 "nbformat_minor": 2
}
