{
 "cells": [
  {
   "cell_type": "code",
   "execution_count": 1,
   "metadata": {},
   "outputs": [],
   "source": [
    "%load_ext autoreload\n",
    "%autoreload 2"
   ]
  },
  {
   "cell_type": "code",
   "execution_count": 2,
   "metadata": {},
   "outputs": [],
   "source": [
    "from dataset import Dataset\n",
    "import numpy as np"
   ]
  },
  {
   "cell_type": "code",
   "execution_count": 3,
   "metadata": {},
   "outputs": [],
   "source": [
    "import argparse\n",
    "parser = argparse.ArgumentParser(description='Run Diagnosis experiments')\n",
    "parser.add_argument(\"--data_dir\", type=str, required=True)\n",
    "parser.add_argument('--display', dest='display', action='store_true')\n",
    "parser.add_argument(\"--output_dir\", type=str)\n",
    "parser.add_argument(\"--mock\", dest='mock', action='store_true')\n",
    "\n",
    "args = parser.parse_args(['--data_dir=.', '--output_dir=outputs/', '--display'])"
   ]
  },
  {
   "cell_type": "code",
   "execution_count": 4,
   "metadata": {},
   "outputs": [
    {
     "name": "stderr",
     "output_type": "stream",
     "text": [
      "INFO - 2019-03-11 12:12:41,733 - Reading Structured data ...\n",
      "INFO - 2019-03-11 12:12:41,744 - Reading Notes ...\n",
      "INFO - 2019-03-11 12:12:42,592 - Stratifying ...\n",
      "WARNING - 2019-03-11 12:12:42,605 - No records for dev split\n"
     ]
    }
   ],
   "source": [
    "data = Dataset(name='imdb', dirname='preprocess/IMDB/')"
   ]
  },
  {
   "cell_type": "code",
   "execution_count": 5,
   "metadata": {},
   "outputs": [],
   "source": [
    "labellist = ['sentiment']\n",
    "data.generate_labels(labellist, len(labellist), 'binary')\n",
    "data.save_on_metric = 'roc_auc'\n",
    "data.metrics_type = 'classifier'"
   ]
  },
  {
   "cell_type": "code",
   "execution_count": 6,
   "metadata": {},
   "outputs": [
    {
     "name": "stderr",
     "output_type": "stream",
     "text": [
      "INFO - 2019-03-11 12:12:44,085 - Reading Structured data ...\n",
      "INFO - 2019-03-11 12:12:44,243 - Reading Notes ...\n",
      "INFO - 2019-03-11 12:13:02,674 - Stratifying ...\n"
     ]
    }
   ],
   "source": [
    "from dataloaders import readmission_dataset\n",
    "data = readmission_dataset(args)"
   ]
  },
  {
   "cell_type": "code",
   "execution_count": 7,
   "metadata": {},
   "outputs": [
    {
     "name": "stdout",
     "output_type": "stream",
     "text": [
      "Better speed can be achieved with apex installed from https://www.github.com/nvidia/apex.\n"
     ]
    }
   ],
   "source": [
    "from PatientVec.Experiments.hyperparam_exps import *"
   ]
  },
  {
   "cell_type": "code",
   "execution_count": 8,
   "metadata": {},
   "outputs": [
    {
     "name": "stdout",
     "output_type": "stream",
     "text": [
      "Pos Percentage [0.19738451]\n"
     ]
    },
    {
     "name": "stderr",
     "output_type": "stream",
     "text": [
      "INFO - 2019-03-11 12:13:13,951 - Maximum Sentence Length 721825.000000 , 90 percentile length 18689.000000 ... \n",
      "INFO - 2019-03-11 12:13:39,410 - Truncated all ...\n"
     ]
    },
    {
     "name": "stdout",
     "output_type": "stream",
     "text": [
      "Pos Percentage [0.19429882]\n"
     ]
    },
    {
     "name": "stderr",
     "output_type": "stream",
     "text": [
      "INFO - 2019-03-11 12:13:42,930 - Maximum Sentence Length 496156.000000 , 90 percentile length 18936.000000 ... \n",
      "INFO - 2019-03-11 12:13:47,277 - Truncated all ...\n"
     ]
    }
   ],
   "source": [
    "train_data, dev_data = get_basic_data(data, structured=True, truncate=90)"
   ]
  },
  {
   "cell_type": "code",
   "execution_count": 43,
   "metadata": {},
   "outputs": [
    {
     "data": {
      "application/vnd.jupyter.widget-view+json": {
       "model_id": "943b0ba1956b4b4c94aa83f3e2831977",
       "version_major": 2,
       "version_minor": 0
      },
      "text/plain": [
       "HBox(children=(IntProgress(value=0, max=29440), HTML(value='')))"
      ]
     },
     "metadata": {},
     "output_type": "display_data"
    },
    {
     "name": "stdout",
     "output_type": "stream",
     "text": [
      "\n",
      "Normalising using l2\n",
      "Fit BOW Classifier ...\n"
     ]
    },
    {
     "data": {
      "application/vnd.jupyter.widget-view+json": {
       "model_id": "b491dc2ab0ba4bc098b6f26bcf4434e5",
       "version_major": 2,
       "version_minor": 0
      },
      "text/plain": [
       "HBox(children=(IntProgress(value=0, max=9156), HTML(value='')))"
      ]
     },
     "metadata": {},
     "output_type": "display_data"
    },
    {
     "name": "stdout",
     "output_type": "stream",
     "text": [
      "\n",
      "Normalising using l2\n",
      "BOW\n",
      "{'accuracy': 0.7051114023591087, 'roc_auc': 0.7450634475093615, 'pr_auc': 0.44835366773317537}\n"
     ]
    },
    {
     "data": {
      "text/html": [
       "<div>\n",
       "<style scoped>\n",
       "    .dataframe tbody tr th:only-of-type {\n",
       "        vertical-align: middle;\n",
       "    }\n",
       "\n",
       "    .dataframe tbody tr th {\n",
       "        vertical-align: top;\n",
       "    }\n",
       "\n",
       "    .dataframe thead th {\n",
       "        text-align: right;\n",
       "    }\n",
       "</style>\n",
       "<table border=\"1\" class=\"dataframe\">\n",
       "  <thead>\n",
       "    <tr style=\"text-align: right;\">\n",
       "      <th></th>\n",
       "      <th>0</th>\n",
       "      <th>1</th>\n",
       "      <th>micro avg</th>\n",
       "      <th>macro avg</th>\n",
       "      <th>weighted avg</th>\n",
       "    </tr>\n",
       "  </thead>\n",
       "  <tbody>\n",
       "    <tr>\n",
       "      <th>f1-score</th>\n",
       "      <td>0.798</td>\n",
       "      <td>0.457</td>\n",
       "      <td>0.705</td>\n",
       "      <td>0.627</td>\n",
       "      <td>0.731</td>\n",
       "    </tr>\n",
       "    <tr>\n",
       "      <th>precision</th>\n",
       "      <td>0.892</td>\n",
       "      <td>0.356</td>\n",
       "      <td>0.705</td>\n",
       "      <td>0.624</td>\n",
       "      <td>0.788</td>\n",
       "    </tr>\n",
       "    <tr>\n",
       "      <th>recall</th>\n",
       "      <td>0.721</td>\n",
       "      <td>0.637</td>\n",
       "      <td>0.705</td>\n",
       "      <td>0.679</td>\n",
       "      <td>0.705</td>\n",
       "    </tr>\n",
       "    <tr>\n",
       "      <th>support</th>\n",
       "      <td>7377.000</td>\n",
       "      <td>1779.000</td>\n",
       "      <td>9156.000</td>\n",
       "      <td>9156.000</td>\n",
       "      <td>9156.000</td>\n",
       "    </tr>\n",
       "  </tbody>\n",
       "</table>\n",
       "</div>"
      ],
      "text/plain": [
       "                  0         1  micro avg  macro avg  weighted avg\n",
       "f1-score      0.798     0.457      0.705      0.627         0.731\n",
       "precision     0.892     0.356      0.705      0.624         0.788\n",
       "recall        0.721     0.637      0.705      0.679         0.705\n",
       "support    7377.000  1779.000   9156.000   9156.000      9156.000"
      ]
     },
     "metadata": {},
     "output_type": "display_data"
    }
   ],
   "source": [
    "config = {'vocab' : data.vocab, 'stop_words' : True, 'exp_name' : data.name, 'type' : data.metrics_type, 'norm' : 'l2'}\n",
    "lr = LR(config)\n",
    "lr.train(train_data)\n",
    "lr.evaluate(dev_data, save_results=True)"
   ]
  },
  {
   "cell_type": "code",
   "execution_count": 9,
   "metadata": {},
   "outputs": [
    {
     "data": {
      "application/vnd.jupyter.widget-view+json": {
       "model_id": "c2b326a745df4228b28bdd0a1dc3e885",
       "version_major": 2,
       "version_minor": 0
      },
      "text/plain": [
       "HBox(children=(IntProgress(value=0, max=29440), HTML(value='')))"
      ]
     },
     "metadata": {},
     "output_type": "display_data"
    },
    {
     "name": "stdout",
     "output_type": "stream",
     "text": [
      "\n"
     ]
    },
    {
     "data": {
      "application/vnd.jupyter.widget-view+json": {
       "model_id": "f56c1e39c0b14d5c8aae8f438e14b685",
       "version_major": 2,
       "version_minor": 0
      },
      "text/plain": [
       "HBox(children=(IntProgress(value=0, max=29440), HTML(value='')))"
      ]
     },
     "metadata": {},
     "output_type": "display_data"
    },
    {
     "name": "stdout",
     "output_type": "stream",
     "text": [
      "\n",
      "Normalising using l2\n"
     ]
    },
    {
     "data": {
      "application/vnd.jupyter.widget-view+json": {
       "model_id": "be42afe9cef64974a0ef8c428c4734b2",
       "version_major": 2,
       "version_minor": 0
      },
      "text/plain": [
       "HBox(children=(IntProgress(value=0, max=9156), HTML(value='')))"
      ]
     },
     "metadata": {},
     "output_type": "display_data"
    },
    {
     "name": "stdout",
     "output_type": "stream",
     "text": [
      "\n",
      "Normalising using l2\n"
     ]
    }
   ],
   "source": [
    "data.generate_bowder(train_data, stop_words=True, norm='l2')\n",
    "train_data.X = data.get_vec_encoding(train_data, _type='bow')\n",
    "dev_data.X = data.get_vec_encoding(dev_data, _type='bow')"
   ]
  },
  {
   "cell_type": "code",
   "execution_count": 23,
   "metadata": {},
   "outputs": [
    {
     "data": {
      "text/plain": [
       "{'model': {'type': 'vec_classifier',\n",
       "  'decoder': {'num_layers': 1,\n",
       "   'hidden_dims': [1],\n",
       "   'activations': ['linear'],\n",
       "   'dropout': 0.2,\n",
       "   'input_dim': 32101},\n",
       "  'predictor': {'type': 'binary'},\n",
       "  'structured': {'use_structured': True, 'structured_dim': 142},\n",
       "  'reg': {'type': 'l1', 'weight': 3.3967391304347826e-05}},\n",
       " 'training_config': {'type': 'Adam',\n",
       "  'groups': [('.*', {'lr': 0.01, 'weight_decay': 0.0})],\n",
       "  'common': {'bsize': 128, 'class_weight': True}},\n",
       " 'exp_config': {'exp_name': 'Readmission/baselines/Decoder()+Structured'}}"
      ]
     },
     "execution_count": 23,
     "metadata": {},
     "output_type": "execute_result"
    }
   ],
   "source": [
    "e = vector_configs[0]\n",
    "config = e(data, structured=True, args=args)\n",
    "config['model']['reg']['weight'] = 1.0 / train_data.X.shape[0]\n",
    "config['training_config']['groups'][0][1]['lr'] = 0.01\n",
    "config"
   ]
  },
  {
   "cell_type": "code",
   "execution_count": null,
   "metadata": {},
   "outputs": [
    {
     "name": "stderr",
     "output_type": "stream",
     "text": [
      "INFO - 2019-03-11 13:24:50,075 - instantiating class <class 'PatientVec.models.Model.Model'> from params {'type': 'vec_classifier', 'decoder': {'num_layers': 1, 'hidden_dims': [1], 'activations': ['linear'], 'dropout': 0.2, 'input_dim': 32101}, 'predictor': {'type': 'binary'}, 'structured': {'use_structured': True, 'structured_dim': 142}, 'reg': {'type': 'l1', 'weight': 3.3967391304347826e-05}} and extras {}\n",
      "INFO - 2019-03-11 13:24:50,075 - type = vec_classifier\n",
      "INFO - 2019-03-11 13:24:50,076 - decoder.input_dim = 32243\n",
      "INFO - 2019-03-11 13:24:50,076 - decoder.num_layers = 1\n",
      "INFO - 2019-03-11 13:24:50,077 - decoder.hidden_dims = [1]\n",
      "INFO - 2019-03-11 13:24:50,077 - decoder.activations = ['linear']\n",
      "INFO - 2019-03-11 13:24:50,078 - decoder.dropout = 0.2\n",
      "INFO - 2019-03-11 13:24:50,080 - instantiating class <class 'PatientVec.models.modules.Predictor.Predictor'> from params {'type': 'binary'} and extras {}\n",
      "INFO - 2019-03-11 13:24:50,081 - predictor.type = binary\n",
      "INFO - 2019-03-11 13:24:50,081 - instantiating class <class 'PatientVec.models.modules.Predictor.Binary_Predictor'> from params {} and extras {}\n",
      "INFO - 2019-03-11 13:24:50,082 - predictor.replicate = False\n",
      "INFO - 2019-03-11 13:24:50,082 - predictor.alpha = 0.5\n"
     ]
    },
    {
     "data": {
      "application/vnd.jupyter.widget-view+json": {
       "model_id": "96cd8effda2b490e8f29be3c42407910",
       "version_major": 2,
       "version_minor": 0
      },
      "text/plain": [
       "HBox(children=(IntProgress(value=0, max=20), HTML(value='')))"
      ]
     },
     "metadata": {},
     "output_type": "display_data"
    },
    {
     "data": {
      "application/vnd.jupyter.widget-view+json": {
       "model_id": "8fce57ede38b4da782395f00f78a1d2f",
       "version_major": 2,
       "version_minor": 0
      },
      "text/plain": [
       "HBox(children=(IntProgress(value=0, max=230), HTML(value='')))"
      ]
     },
     "metadata": {},
     "output_type": "display_data"
    },
    {
     "data": {
      "application/vnd.jupyter.widget-view+json": {
       "model_id": "aea8a224277844838fce1cf89d968273",
       "version_major": 2,
       "version_minor": 0
      },
      "text/plain": [
       "HBox(children=(IntProgress(value=0, max=72), HTML(value='')))"
      ]
     },
     "metadata": {},
     "output_type": "display_data"
    },
    {
     "name": "stdout",
     "output_type": "stream",
     "text": [
      "{'accuracy': 0.7100262123197904, 'roc_auc': 0.7417830040545783, 'pr_auc': 0.44136609535783433}\n"
     ]
    },
    {
     "data": {
      "text/html": [
       "<div>\n",
       "<style scoped>\n",
       "    .dataframe tbody tr th:only-of-type {\n",
       "        vertical-align: middle;\n",
       "    }\n",
       "\n",
       "    .dataframe tbody tr th {\n",
       "        vertical-align: top;\n",
       "    }\n",
       "\n",
       "    .dataframe thead th {\n",
       "        text-align: right;\n",
       "    }\n",
       "</style>\n",
       "<table border=\"1\" class=\"dataframe\">\n",
       "  <thead>\n",
       "    <tr style=\"text-align: right;\">\n",
       "      <th></th>\n",
       "      <th>0</th>\n",
       "      <th>1</th>\n",
       "      <th>micro avg</th>\n",
       "      <th>macro avg</th>\n",
       "      <th>weighted avg</th>\n",
       "    </tr>\n",
       "  </thead>\n",
       "  <tbody>\n",
       "    <tr>\n",
       "      <th>f1-score</th>\n",
       "      <td>0.802</td>\n",
       "      <td>0.457</td>\n",
       "      <td>0.71</td>\n",
       "      <td>0.630</td>\n",
       "      <td>0.735</td>\n",
       "    </tr>\n",
       "    <tr>\n",
       "      <th>precision</th>\n",
       "      <td>0.891</td>\n",
       "      <td>0.359</td>\n",
       "      <td>0.71</td>\n",
       "      <td>0.625</td>\n",
       "      <td>0.788</td>\n",
       "    </tr>\n",
       "    <tr>\n",
       "      <th>recall</th>\n",
       "      <td>0.730</td>\n",
       "      <td>0.629</td>\n",
       "      <td>0.71</td>\n",
       "      <td>0.679</td>\n",
       "      <td>0.710</td>\n",
       "    </tr>\n",
       "    <tr>\n",
       "      <th>support</th>\n",
       "      <td>7377.000</td>\n",
       "      <td>1779.000</td>\n",
       "      <td>9156.00</td>\n",
       "      <td>9156.000</td>\n",
       "      <td>9156.000</td>\n",
       "    </tr>\n",
       "  </tbody>\n",
       "</table>\n",
       "</div>"
      ],
      "text/plain": [
       "                  0         1  micro avg  macro avg  weighted avg\n",
       "f1-score      0.802     0.457       0.71      0.630         0.735\n",
       "precision     0.891     0.359       0.71      0.625         0.788\n",
       "recall        0.730     0.629       0.71      0.679         0.710\n",
       "support    7377.000  1779.000    9156.00   9156.000      9156.000"
      ]
     },
     "metadata": {},
     "output_type": "display_data"
    },
    {
     "name": "stdout",
     "output_type": "stream",
     "text": [
      "Model Saved on  roc_auc 0.7417830040545783\n"
     ]
    },
    {
     "data": {
      "application/vnd.jupyter.widget-view+json": {
       "model_id": "b5463928bfe841d2af85c70e17dd6be1",
       "version_major": 2,
       "version_minor": 0
      },
      "text/plain": [
       "HBox(children=(IntProgress(value=0, max=230), HTML(value='')))"
      ]
     },
     "metadata": {},
     "output_type": "display_data"
    },
    {
     "data": {
      "application/vnd.jupyter.widget-view+json": {
       "model_id": "93238466d34c439a8ac754a3c67b58dc",
       "version_major": 2,
       "version_minor": 0
      },
      "text/plain": [
       "HBox(children=(IntProgress(value=0, max=72), HTML(value='')))"
      ]
     },
     "metadata": {},
     "output_type": "display_data"
    },
    {
     "name": "stdout",
     "output_type": "stream",
     "text": [
      "{'accuracy': 0.6027741371778069, 'roc_auc': 0.7232763851427987, 'pr_auc': 0.39138930469570504}\n"
     ]
    },
    {
     "data": {
      "text/html": [
       "<div>\n",
       "<style scoped>\n",
       "    .dataframe tbody tr th:only-of-type {\n",
       "        vertical-align: middle;\n",
       "    }\n",
       "\n",
       "    .dataframe tbody tr th {\n",
       "        vertical-align: top;\n",
       "    }\n",
       "\n",
       "    .dataframe thead th {\n",
       "        text-align: right;\n",
       "    }\n",
       "</style>\n",
       "<table border=\"1\" class=\"dataframe\">\n",
       "  <thead>\n",
       "    <tr style=\"text-align: right;\">\n",
       "      <th></th>\n",
       "      <th>0</th>\n",
       "      <th>1</th>\n",
       "      <th>micro avg</th>\n",
       "      <th>macro avg</th>\n",
       "      <th>weighted avg</th>\n",
       "    </tr>\n",
       "  </thead>\n",
       "  <tbody>\n",
       "    <tr>\n",
       "      <th>f1-score</th>\n",
       "      <td>0.697</td>\n",
       "      <td>0.422</td>\n",
       "      <td>0.603</td>\n",
       "      <td>0.560</td>\n",
       "      <td>0.644</td>\n",
       "    </tr>\n",
       "    <tr>\n",
       "      <th>precision</th>\n",
       "      <td>0.902</td>\n",
       "      <td>0.294</td>\n",
       "      <td>0.603</td>\n",
       "      <td>0.598</td>\n",
       "      <td>0.784</td>\n",
       "    </tr>\n",
       "    <tr>\n",
       "      <th>recall</th>\n",
       "      <td>0.568</td>\n",
       "      <td>0.745</td>\n",
       "      <td>0.603</td>\n",
       "      <td>0.657</td>\n",
       "      <td>0.603</td>\n",
       "    </tr>\n",
       "    <tr>\n",
       "      <th>support</th>\n",
       "      <td>7377.000</td>\n",
       "      <td>1779.000</td>\n",
       "      <td>9156.000</td>\n",
       "      <td>9156.000</td>\n",
       "      <td>9156.000</td>\n",
       "    </tr>\n",
       "  </tbody>\n",
       "</table>\n",
       "</div>"
      ],
      "text/plain": [
       "                  0         1  micro avg  macro avg  weighted avg\n",
       "f1-score      0.697     0.422      0.603      0.560         0.644\n",
       "precision     0.902     0.294      0.603      0.598         0.784\n",
       "recall        0.568     0.745      0.603      0.657         0.603\n",
       "support    7377.000  1779.000   9156.000   9156.000      9156.000"
      ]
     },
     "metadata": {},
     "output_type": "display_data"
    },
    {
     "name": "stdout",
     "output_type": "stream",
     "text": [
      "Model not saved on  roc_auc 0.7232763851427987\n"
     ]
    },
    {
     "data": {
      "application/vnd.jupyter.widget-view+json": {
       "model_id": "5da52f40c4bf41cb973186f14e1e8e93",
       "version_major": 2,
       "version_minor": 0
      },
      "text/plain": [
       "HBox(children=(IntProgress(value=0, max=230), HTML(value='')))"
      ]
     },
     "metadata": {},
     "output_type": "display_data"
    },
    {
     "data": {
      "application/vnd.jupyter.widget-view+json": {
       "model_id": "f876171100fc48a68208d98eb829e5ac",
       "version_major": 2,
       "version_minor": 0
      },
      "text/plain": [
       "HBox(children=(IntProgress(value=0, max=72), HTML(value='')))"
      ]
     },
     "metadata": {},
     "output_type": "display_data"
    },
    {
     "name": "stdout",
     "output_type": "stream",
     "text": [
      "{'accuracy': 0.6620795107033639, 'roc_auc': 0.7559428248914577, 'pr_auc': 0.46312562451916295}\n"
     ]
    },
    {
     "data": {
      "text/html": [
       "<div>\n",
       "<style scoped>\n",
       "    .dataframe tbody tr th:only-of-type {\n",
       "        vertical-align: middle;\n",
       "    }\n",
       "\n",
       "    .dataframe tbody tr th {\n",
       "        vertical-align: top;\n",
       "    }\n",
       "\n",
       "    .dataframe thead th {\n",
       "        text-align: right;\n",
       "    }\n",
       "</style>\n",
       "<table border=\"1\" class=\"dataframe\">\n",
       "  <thead>\n",
       "    <tr style=\"text-align: right;\">\n",
       "      <th></th>\n",
       "      <th>0</th>\n",
       "      <th>1</th>\n",
       "      <th>micro avg</th>\n",
       "      <th>macro avg</th>\n",
       "      <th>weighted avg</th>\n",
       "    </tr>\n",
       "  </thead>\n",
       "  <tbody>\n",
       "    <tr>\n",
       "      <th>f1-score</th>\n",
       "      <td>0.756</td>\n",
       "      <td>0.453</td>\n",
       "      <td>0.662</td>\n",
       "      <td>0.604</td>\n",
       "      <td>0.697</td>\n",
       "    </tr>\n",
       "    <tr>\n",
       "      <th>precision</th>\n",
       "      <td>0.906</td>\n",
       "      <td>0.330</td>\n",
       "      <td>0.662</td>\n",
       "      <td>0.618</td>\n",
       "      <td>0.794</td>\n",
       "    </tr>\n",
       "    <tr>\n",
       "      <th>recall</th>\n",
       "      <td>0.648</td>\n",
       "      <td>0.720</td>\n",
       "      <td>0.662</td>\n",
       "      <td>0.684</td>\n",
       "      <td>0.662</td>\n",
       "    </tr>\n",
       "    <tr>\n",
       "      <th>support</th>\n",
       "      <td>7377.000</td>\n",
       "      <td>1779.000</td>\n",
       "      <td>9156.000</td>\n",
       "      <td>9156.000</td>\n",
       "      <td>9156.000</td>\n",
       "    </tr>\n",
       "  </tbody>\n",
       "</table>\n",
       "</div>"
      ],
      "text/plain": [
       "                  0         1  micro avg  macro avg  weighted avg\n",
       "f1-score      0.756     0.453      0.662      0.604         0.697\n",
       "precision     0.906     0.330      0.662      0.618         0.794\n",
       "recall        0.648     0.720      0.662      0.684         0.662\n",
       "support    7377.000  1779.000   9156.000   9156.000      9156.000"
      ]
     },
     "metadata": {},
     "output_type": "display_data"
    },
    {
     "name": "stdout",
     "output_type": "stream",
     "text": [
      "Model Saved on  roc_auc 0.7559428248914577\n"
     ]
    },
    {
     "data": {
      "application/vnd.jupyter.widget-view+json": {
       "model_id": "190d6fee169e4cbfb67152d2f9d51490",
       "version_major": 2,
       "version_minor": 0
      },
      "text/plain": [
       "HBox(children=(IntProgress(value=0, max=230), HTML(value='')))"
      ]
     },
     "metadata": {},
     "output_type": "display_data"
    },
    {
     "data": {
      "application/vnd.jupyter.widget-view+json": {
       "model_id": "f353407ad8ea45a7aa85c52fdd4c5a10",
       "version_major": 2,
       "version_minor": 0
      },
      "text/plain": [
       "HBox(children=(IntProgress(value=0, max=72), HTML(value='')))"
      ]
     },
     "metadata": {},
     "output_type": "display_data"
    },
    {
     "name": "stdout",
     "output_type": "stream",
     "text": [
      "{'accuracy': 0.7514198339886413, 'roc_auc': 0.7551252571400879, 'pr_auc': 0.4608712619872011}\n"
     ]
    },
    {
     "data": {
      "text/html": [
       "<div>\n",
       "<style scoped>\n",
       "    .dataframe tbody tr th:only-of-type {\n",
       "        vertical-align: middle;\n",
       "    }\n",
       "\n",
       "    .dataframe tbody tr th {\n",
       "        vertical-align: top;\n",
       "    }\n",
       "\n",
       "    .dataframe thead th {\n",
       "        text-align: right;\n",
       "    }\n",
       "</style>\n",
       "<table border=\"1\" class=\"dataframe\">\n",
       "  <thead>\n",
       "    <tr style=\"text-align: right;\">\n",
       "      <th></th>\n",
       "      <th>0</th>\n",
       "      <th>1</th>\n",
       "      <th>micro avg</th>\n",
       "      <th>macro avg</th>\n",
       "      <th>weighted avg</th>\n",
       "    </tr>\n",
       "  </thead>\n",
       "  <tbody>\n",
       "    <tr>\n",
       "      <th>f1-score</th>\n",
       "      <td>0.837</td>\n",
       "      <td>0.472</td>\n",
       "      <td>0.751</td>\n",
       "      <td>0.655</td>\n",
       "      <td>0.766</td>\n",
       "    </tr>\n",
       "    <tr>\n",
       "      <th>precision</th>\n",
       "      <td>0.885</td>\n",
       "      <td>0.402</td>\n",
       "      <td>0.751</td>\n",
       "      <td>0.643</td>\n",
       "      <td>0.791</td>\n",
       "    </tr>\n",
       "    <tr>\n",
       "      <th>recall</th>\n",
       "      <td>0.795</td>\n",
       "      <td>0.571</td>\n",
       "      <td>0.751</td>\n",
       "      <td>0.683</td>\n",
       "      <td>0.751</td>\n",
       "    </tr>\n",
       "    <tr>\n",
       "      <th>support</th>\n",
       "      <td>7377.000</td>\n",
       "      <td>1779.000</td>\n",
       "      <td>9156.000</td>\n",
       "      <td>9156.000</td>\n",
       "      <td>9156.000</td>\n",
       "    </tr>\n",
       "  </tbody>\n",
       "</table>\n",
       "</div>"
      ],
      "text/plain": [
       "                  0         1  micro avg  macro avg  weighted avg\n",
       "f1-score      0.837     0.472      0.751      0.655         0.766\n",
       "precision     0.885     0.402      0.751      0.643         0.791\n",
       "recall        0.795     0.571      0.751      0.683         0.751\n",
       "support    7377.000  1779.000   9156.000   9156.000      9156.000"
      ]
     },
     "metadata": {},
     "output_type": "display_data"
    },
    {
     "name": "stdout",
     "output_type": "stream",
     "text": [
      "Model not saved on  roc_auc 0.7551252571400879\n"
     ]
    },
    {
     "data": {
      "application/vnd.jupyter.widget-view+json": {
       "model_id": "5ba37900aecf49319d0c898c99a89dcf",
       "version_major": 2,
       "version_minor": 0
      },
      "text/plain": [
       "HBox(children=(IntProgress(value=0, max=230), HTML(value='')))"
      ]
     },
     "metadata": {},
     "output_type": "display_data"
    },
    {
     "data": {
      "application/vnd.jupyter.widget-view+json": {
       "model_id": "6e74a39459ce4f979d417536101e8d34",
       "version_major": 2,
       "version_minor": 0
      },
      "text/plain": [
       "HBox(children=(IntProgress(value=0, max=72), HTML(value='')))"
      ]
     },
     "metadata": {},
     "output_type": "display_data"
    },
    {
     "name": "stdout",
     "output_type": "stream",
     "text": [
      "{'accuracy': 0.7621231979030144, 'roc_auc': 0.7512013586429968, 'pr_auc': 0.4567734172095548}\n"
     ]
    },
    {
     "data": {
      "text/html": [
       "<div>\n",
       "<style scoped>\n",
       "    .dataframe tbody tr th:only-of-type {\n",
       "        vertical-align: middle;\n",
       "    }\n",
       "\n",
       "    .dataframe tbody tr th {\n",
       "        vertical-align: top;\n",
       "    }\n",
       "\n",
       "    .dataframe thead th {\n",
       "        text-align: right;\n",
       "    }\n",
       "</style>\n",
       "<table border=\"1\" class=\"dataframe\">\n",
       "  <thead>\n",
       "    <tr style=\"text-align: right;\">\n",
       "      <th></th>\n",
       "      <th>0</th>\n",
       "      <th>1</th>\n",
       "      <th>micro avg</th>\n",
       "      <th>macro avg</th>\n",
       "      <th>weighted avg</th>\n",
       "    </tr>\n",
       "  </thead>\n",
       "  <tbody>\n",
       "    <tr>\n",
       "      <th>f1-score</th>\n",
       "      <td>0.847</td>\n",
       "      <td>0.469</td>\n",
       "      <td>0.762</td>\n",
       "      <td>0.658</td>\n",
       "      <td>0.773</td>\n",
       "    </tr>\n",
       "    <tr>\n",
       "      <th>precision</th>\n",
       "      <td>0.880</td>\n",
       "      <td>0.414</td>\n",
       "      <td>0.762</td>\n",
       "      <td>0.647</td>\n",
       "      <td>0.790</td>\n",
       "    </tr>\n",
       "    <tr>\n",
       "      <th>recall</th>\n",
       "      <td>0.816</td>\n",
       "      <td>0.541</td>\n",
       "      <td>0.762</td>\n",
       "      <td>0.678</td>\n",
       "      <td>0.762</td>\n",
       "    </tr>\n",
       "    <tr>\n",
       "      <th>support</th>\n",
       "      <td>7377.000</td>\n",
       "      <td>1779.000</td>\n",
       "      <td>9156.000</td>\n",
       "      <td>9156.000</td>\n",
       "      <td>9156.000</td>\n",
       "    </tr>\n",
       "  </tbody>\n",
       "</table>\n",
       "</div>"
      ],
      "text/plain": [
       "                  0         1  micro avg  macro avg  weighted avg\n",
       "f1-score      0.847     0.469      0.762      0.658         0.773\n",
       "precision     0.880     0.414      0.762      0.647         0.790\n",
       "recall        0.816     0.541      0.762      0.678         0.762\n",
       "support    7377.000  1779.000   9156.000   9156.000      9156.000"
      ]
     },
     "metadata": {},
     "output_type": "display_data"
    },
    {
     "name": "stdout",
     "output_type": "stream",
     "text": [
      "Model not saved on  roc_auc 0.7512013586429968\n"
     ]
    },
    {
     "data": {
      "application/vnd.jupyter.widget-view+json": {
       "model_id": "1323c29c13984e579ce4f5b7b6b1fbab",
       "version_major": 2,
       "version_minor": 0
      },
      "text/plain": [
       "HBox(children=(IntProgress(value=0, max=230), HTML(value='')))"
      ]
     },
     "metadata": {},
     "output_type": "display_data"
    }
   ],
   "source": [
    "trainer = Trainer(VectorCT, config, _type=data.metrics_type, display_metrics=args.display)\n",
    "trainer.train(train_data, dev_data, save_on_metric=data.save_on_metric)"
   ]
  },
  {
   "cell_type": "code",
   "execution_count": 51,
   "metadata": {},
   "outputs": [
    {
     "name": "stderr",
     "output_type": "stream",
     "text": [
      "INFO - 2019-03-11 11:24:24,732 - instantiating class <class 'PatientVec.models.Model.Model'> from params {'type': 'vec_classifier', 'decoder': {'num_layers': 1, 'hidden_dims': [1], 'activations': ['linear'], 'input_dim': 32101}, 'predictor': {'type': 'binary'}, 'structured': {'use_structured': False}, 'reg': {'type': 'l1', 'weight': 3.3967391304347826e-05}} and extras {}\n",
      "INFO - 2019-03-11 11:24:24,733 - type = vec_classifier\n",
      "INFO - 2019-03-11 11:24:24,734 - decoder.input_dim = 32101\n",
      "INFO - 2019-03-11 11:24:24,735 - decoder.num_layers = 1\n",
      "INFO - 2019-03-11 11:24:24,735 - decoder.hidden_dims = [1]\n",
      "INFO - 2019-03-11 11:24:24,736 - decoder.activations = ['linear']\n",
      "INFO - 2019-03-11 11:24:24,737 - decoder.dropout = 0.0\n",
      "INFO - 2019-03-11 11:24:24,740 - instantiating class <class 'PatientVec.models.modules.Predictor.Predictor'> from params {'type': 'binary'} and extras {}\n",
      "INFO - 2019-03-11 11:24:24,741 - predictor.type = binary\n",
      "INFO - 2019-03-11 11:24:24,741 - instantiating class <class 'PatientVec.models.modules.Predictor.Binary_Predictor'> from params {} and extras {}\n",
      "INFO - 2019-03-11 11:24:24,742 - predictor.replicate = False\n",
      "INFO - 2019-03-11 11:24:24,743 - predictor.alpha = 0.5\n"
     ]
    },
    {
     "data": {
      "application/vnd.jupyter.widget-view+json": {
       "model_id": "1b79b8ab3a96445c8c8e6a0903909ac4",
       "version_major": 2,
       "version_minor": 0
      },
      "text/plain": [
       "HBox(children=(IntProgress(value=0, max=72), HTML(value='')))"
      ]
     },
     "metadata": {},
     "output_type": "display_data"
    },
    {
     "name": "stdout",
     "output_type": "stream",
     "text": [
      "\n",
      "{'accuracy': 0.7348186981214504, 'roc_auc': 0.7591904269556039, 'pr_auc': 0.45953859574644496}\n"
     ]
    },
    {
     "data": {
      "text/html": [
       "<div>\n",
       "<style scoped>\n",
       "    .dataframe tbody tr th:only-of-type {\n",
       "        vertical-align: middle;\n",
       "    }\n",
       "\n",
       "    .dataframe tbody tr th {\n",
       "        vertical-align: top;\n",
       "    }\n",
       "\n",
       "    .dataframe thead th {\n",
       "        text-align: right;\n",
       "    }\n",
       "</style>\n",
       "<table border=\"1\" class=\"dataframe\">\n",
       "  <thead>\n",
       "    <tr style=\"text-align: right;\">\n",
       "      <th></th>\n",
       "      <th>0</th>\n",
       "      <th>1</th>\n",
       "      <th>micro avg</th>\n",
       "      <th>macro avg</th>\n",
       "      <th>weighted avg</th>\n",
       "    </tr>\n",
       "  </thead>\n",
       "  <tbody>\n",
       "    <tr>\n",
       "      <th>f1-score</th>\n",
       "      <td>0.822</td>\n",
       "      <td>0.477</td>\n",
       "      <td>0.735</td>\n",
       "      <td>0.650</td>\n",
       "      <td>0.755</td>\n",
       "    </tr>\n",
       "    <tr>\n",
       "      <th>precision</th>\n",
       "      <td>0.893</td>\n",
       "      <td>0.387</td>\n",
       "      <td>0.735</td>\n",
       "      <td>0.640</td>\n",
       "      <td>0.795</td>\n",
       "    </tr>\n",
       "    <tr>\n",
       "      <th>recall</th>\n",
       "      <td>0.762</td>\n",
       "      <td>0.622</td>\n",
       "      <td>0.735</td>\n",
       "      <td>0.692</td>\n",
       "      <td>0.735</td>\n",
       "    </tr>\n",
       "    <tr>\n",
       "      <th>support</th>\n",
       "      <td>7377.000</td>\n",
       "      <td>1779.000</td>\n",
       "      <td>9156.000</td>\n",
       "      <td>9156.000</td>\n",
       "      <td>9156.000</td>\n",
       "    </tr>\n",
       "  </tbody>\n",
       "</table>\n",
       "</div>"
      ],
      "text/plain": [
       "                  0         1  micro avg  macro avg  weighted avg\n",
       "f1-score      0.822     0.477      0.735      0.650         0.755\n",
       "precision     0.893     0.387      0.735      0.640         0.795\n",
       "recall        0.762     0.622      0.735      0.692         0.735\n",
       "support    7377.000  1779.000   9156.000   9156.000      9156.000"
      ]
     },
     "metadata": {},
     "output_type": "display_data"
    }
   ],
   "source": [
    "evaluator = Evaluator(VectorCT, trainer.model.dirname, _type=data.metrics_type, display_metrics=args.display)\n",
    "_ = evaluator.evaluate(dev_data, save_results=True)"
   ]
  },
  {
   "cell_type": "code",
   "execution_count": 52,
   "metadata": {},
   "outputs": [
    {
     "name": "stdout",
     "output_type": "stream",
     "text": [
      "_linear_layers.0.weight Parameter containing:\n",
      "tensor([[ 0.0355, -0.0117,  0.0377,  ..., -0.0144, -0.0052,  0.0840]],\n",
      "       device='cuda:0', requires_grad=True)\n",
      "_linear_layers.0.bias Parameter containing:\n",
      "tensor([-0.0935], device='cuda:0', requires_grad=True)\n"
     ]
    }
   ],
   "source": [
    "for n, v in evaluator.model.model.decoder.named_parameters() :\n",
    "    print(n, v)"
   ]
  },
  {
   "cell_type": "code",
   "execution_count": 58,
   "metadata": {},
   "outputs": [],
   "source": [
    "weight = evaluator.model.model.decoder._linear_layers[0].weight[0].cpu().data.numpy()"
   ]
  },
  {
   "cell_type": "code",
   "execution_count": 64,
   "metadata": {},
   "outputs": [
    {
     "data": {
      "text/plain": [
       "(array([14013, 26702, 21342, 12435, 28088, 30974,  5651,  4740,  6966,\n",
       "        25746]),\n",
       " array([-3.524076 , -2.312232 , -2.2537048, -2.1441844, -2.109638 ,\n",
       "        -2.0832996, -2.069614 , -2.060762 , -1.9229028, -1.9027059],\n",
       "       dtype=float32))"
      ]
     },
     "execution_count": 64,
     "metadata": {},
     "output_type": "execute_result"
    }
   ],
   "source": [
    "idx = np.argsort(weight)[:10]\n",
    "idx, weight[idx]"
   ]
  },
  {
   "cell_type": "code",
   "execution_count": 65,
   "metadata": {},
   "outputs": [
    {
     "data": {
      "text/plain": [
       "array(['overdose', 'laceration', 'incisional', 'ace', 'lightened',\n",
       "       'ambulating', 'mvc', 'postoperative', 'oob', 'understanding'],\n",
       "      dtype='<U37')"
      ]
     },
     "execution_count": 65,
     "metadata": {},
     "output_type": "execute_result"
    }
   ],
   "source": [
    "np.array(data.bowder.words_to_keep)[idx]"
   ]
  },
  {
   "cell_type": "code",
   "execution_count": null,
   "metadata": {},
   "outputs": [],
   "source": [
    "train_data = data.filter_data_length(data.get_data('train', structured=False), 95)\n",
    "test_data = data.filter_data_length(data.get_data('test', structured=False), 95)"
   ]
  },
  {
   "cell_type": "code",
   "execution_count": null,
   "metadata": {},
   "outputs": [],
   "source": [
    "vc = [0] * data.vocab.vocab_size\n",
    "for i, v in data.vocab.idx2word.items() :\n",
    "    vc[i] = v"
   ]
  },
  {
   "cell_type": "code",
   "execution_count": null,
   "metadata": {},
   "outputs": [],
   "source": [
    "from PatientVec.Experiments.modifiable_config_exp import attention_configs\n",
    "avg_attn_config = attention_configs[0](data, structured=False, args=args)"
   ]
  },
  {
   "cell_type": "code",
   "execution_count": null,
   "metadata": {},
   "outputs": [],
   "source": [
    "avg_attn_config['model']['embedder']['type'] = 'elmo_embedder'\n",
    "del avg_attn_config['model']['embedder']['embedding_file']\n",
    "avg_attn_config['model']['embedder']['elmo_options'] = {\n",
    "    'options_file' : '../../elmo_2x2048_256_2048cnn_1xhighway_options.json',\n",
    "    'weight_file' : '../../elmo_2x2048_256_2048cnn_1xhighway_weights.hdf5',\n",
    "    'vocab_to_cache' : vc,\n",
    "    'scalar_mix_parameters' : [0.3, 0.3, 0.3]\n",
    "}"
   ]
  },
  {
   "cell_type": "code",
   "execution_count": null,
   "metadata": {},
   "outputs": [],
   "source": [
    "avg_attn_config['training_config']['common']['bsize'] = 64"
   ]
  },
  {
   "cell_type": "code",
   "execution_count": null,
   "metadata": {},
   "outputs": [],
   "source": [
    "from PatientVec.models.Vanilla import ClassificationTrainer as BasicCT\n",
    "from PatientVec.trainer import Trainer, Evaluator"
   ]
  },
  {
   "cell_type": "code",
   "execution_count": null,
   "metadata": {},
   "outputs": [],
   "source": [
    "import logging.config\n",
    "logging.config.dictConfig({\n",
    "    'version': 1,\n",
    "    'disable_existing_loggers': True\n",
    "})"
   ]
  },
  {
   "cell_type": "code",
   "execution_count": null,
   "metadata": {},
   "outputs": [],
   "source": [
    "trainer = Trainer(BasicCT, avg_attn_config, _type=data.metrics_type, display_metrics=args.display)\n",
    "trainer.train(train_data, test_data, save_on_metric=data.save_on_metric)"
   ]
  },
  {
   "cell_type": "code",
   "execution_count": null,
   "metadata": {},
   "outputs": [],
   "source": [
    "outputs = trainer.model.evaluate(test_data.mock(200))"
   ]
  },
  {
   "cell_type": "code",
   "execution_count": null,
   "metadata": {},
   "outputs": [],
   "source": [
    "for n, v in trainer.model.model.named_parameters() :\n",
    "    print(n, v)"
   ]
  },
  {
   "cell_type": "code",
   "execution_count": null,
   "metadata": {},
   "outputs": [],
   "source": []
  }
 ],
 "metadata": {
  "kernelspec": {
   "display_name": "Python 3",
   "language": "python",
   "name": "python3"
  },
  "language_info": {
   "codemirror_mode": {
    "name": "ipython",
    "version": 3
   },
   "file_extension": ".py",
   "mimetype": "text/x-python",
   "name": "python",
   "nbconvert_exporter": "python",
   "pygments_lexer": "ipython3",
   "version": "3.6.7"
  }
 },
 "nbformat": 4,
 "nbformat_minor": 2
}
