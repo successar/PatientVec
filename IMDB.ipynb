{
 "cells": [
  {
   "cell_type": "code",
   "execution_count": 1,
   "metadata": {},
   "outputs": [],
   "source": [
    "%load_ext autoreload\n",
    "%autoreload 2"
   ]
  },
  {
   "cell_type": "code",
   "execution_count": 2,
   "metadata": {},
   "outputs": [],
   "source": [
    "from dataset import Dataset\n",
    "import numpy as np"
   ]
  },
  {
   "cell_type": "code",
   "execution_count": 5,
   "metadata": {},
   "outputs": [],
   "source": [
    "import argparse\n",
    "parser = argparse.ArgumentParser(description='Run Diagnosis experiments')\n",
    "parser.add_argument(\"--data_dir\", type=str, required=True)\n",
    "parser.add_argument('--display', dest='display', action='store_true')\n",
    "parser.add_argument(\"--output_dir\", type=str)\n",
    "parser.add_argument(\"--mock\", dest='mock', action='store_true')\n",
    "\n",
    "args = parser.parse_known_args(['--data_dir=.', '--output_dir=outputs/', '--display', '--lr=1'])"
   ]
  },
  {
   "cell_type": "code",
   "execution_count": null,
   "metadata": {},
   "outputs": [],
   "source": [
    "data_imdb = Dataset(name='imdb', dirname='preprocess/IMDB/')"
   ]
  },
  {
   "cell_type": "code",
   "execution_count": null,
   "metadata": {},
   "outputs": [],
   "source": [
    "labellist = ['sentiment']\n",
    "data_imdb.generate_labels(labellist, len(labellist), 'binary')\n",
    "data_imdb.save_on_metric = 'roc_auc'\n",
    "data_imdb.metrics_type = 'classifier'"
   ]
  },
  {
   "cell_type": "code",
   "execution_count": null,
   "metadata": {},
   "outputs": [],
   "source": [
    "from dataloaders import readmission_dataset, diagnosis_dataset\n",
    "data_read = readmission_dataset(args)\n",
    "data_diag = diagnosis_dataset(args)"
   ]
  },
  {
   "cell_type": "code",
   "execution_count": null,
   "metadata": {},
   "outputs": [],
   "source": [
    "train_data_imdb, _ = get_basic_data(data_imdb, structured=False, truncate=100)\n",
    "train_data_read, _ = get_basic_data(data_read, structured=False, truncate=95)"
   ]
  },
  {
   "cell_type": "code",
   "execution_count": null,
   "metadata": {},
   "outputs": [],
   "source": [
    "train_data_diag, _ = get_basic_data(data_diag, structured=False, truncate=95)"
   ]
  },
  {
   "cell_type": "code",
   "execution_count": null,
   "metadata": {},
   "outputs": [],
   "source": [
    "data_imdb.generate_bowder(train_data_imdb, stop_words=True, norm=None)\n",
    "train_data_imdb.X = data_imdb.get_vec_encoding(train_data_imdb, _type='bow')"
   ]
  },
  {
   "cell_type": "code",
   "execution_count": null,
   "metadata": {},
   "outputs": [],
   "source": [
    "data_read.generate_bowder(train_data_read, stop_words=True, norm=None)\n",
    "train_data_read.X = data_read.get_vec_encoding(train_data_read, _type='bow')"
   ]
  },
  {
   "cell_type": "code",
   "execution_count": null,
   "metadata": {},
   "outputs": [],
   "source": [
    "data_diag.generate_bowder(train_data_diag, stop_words=True, norm=None)\n",
    "train_data_diag.X = data_diag.get_vec_encoding(train_data_diag, _type='bow')"
   ]
  },
  {
   "cell_type": "code",
   "execution_count": null,
   "metadata": {},
   "outputs": [],
   "source": [
    "import matplotlib.pyplot as plt\n",
    "import seaborn as sns\n",
    "sns.kdeplot(train_data_imdb.X.mean(0))\n",
    "sns.kdeplot(train_data_read.X.mean(0))\n",
    "sns.kdeplot(train_data_diag.X.mean(0))"
   ]
  },
  {
   "cell_type": "code",
   "execution_count": null,
   "metadata": {},
   "outputs": [],
   "source": [
    "from PatientVec.Experiments.hyperparam_exps import *"
   ]
  },
  {
   "cell_type": "code",
   "execution_count": null,
   "metadata": {},
   "outputs": [],
   "source": [
    "train_data_imdb, dev_data_imdb = get_basic_data(data_imdb, structured=False, truncate=90)"
   ]
  },
  {
   "cell_type": "code",
   "execution_count": null,
   "metadata": {},
   "outputs": [],
   "source": [
    "for l in range(1, 8) :\n",
    "    config = {'vocab' : data_imdb.vocab, 'stop_words' : True, 'exp_name' : data_imdb.name, 'type' : data_imdb.metrics_type, 'norm' : None}\n",
    "    lr = LR(config)\n",
    "    lr.train(train_data_imdb)\n",
    "    lr.evaluate(dev_data_imdb, save_results=True)"
   ]
  },
  {
   "cell_type": "code",
   "execution_count": null,
   "metadata": {},
   "outputs": [],
   "source": [
    "data.generate_bowder(train_data, stop_words=True, norm='l2')\n",
    "train_data.X = data.get_vec_encoding(train_data, _type='bow')\n",
    "dev_data.X = data.get_vec_encoding(dev_data, _type='bow')"
   ]
  },
  {
   "cell_type": "code",
   "execution_count": null,
   "metadata": {},
   "outputs": [],
   "source": [
    "e = vector_configs[0]\n",
    "config = e(data, structured=True, args=args)\n",
    "config['model']['reg']['weight'] = 1.0 / train_data.X.shape[0]\n",
    "config['training_config']['groups'][0][1]['lr'] = 0.01\n",
    "config"
   ]
  },
  {
   "cell_type": "code",
   "execution_count": null,
   "metadata": {},
   "outputs": [],
   "source": [
    "trainer = Trainer(VectorCT, config, _type=data.metrics_type, display_metrics=args.display)\n",
    "trainer.train(train_data, dev_data, save_on_metric=data.save_on_metric)"
   ]
  },
  {
   "cell_type": "code",
   "execution_count": null,
   "metadata": {},
   "outputs": [],
   "source": [
    "evaluator = Evaluator(VectorCT, trainer.model.dirname, _type=data.metrics_type, display_metrics=args.display)\n",
    "_ = evaluator.evaluate(dev_data, save_results=True)"
   ]
  },
  {
   "cell_type": "code",
   "execution_count": null,
   "metadata": {},
   "outputs": [],
   "source": [
    "for n, v in evaluator.model.model.decoder.named_parameters() :\n",
    "    print(n, v)"
   ]
  },
  {
   "cell_type": "code",
   "execution_count": null,
   "metadata": {},
   "outputs": [],
   "source": [
    "weight = evaluator.model.model.decoder._linear_layers[0].weight[0].cpu().data.numpy()"
   ]
  },
  {
   "cell_type": "code",
   "execution_count": null,
   "metadata": {},
   "outputs": [],
   "source": [
    "idx = np.argsort(weight)[:10]\n",
    "idx, weight[idx]"
   ]
  },
  {
   "cell_type": "code",
   "execution_count": null,
   "metadata": {},
   "outputs": [],
   "source": [
    "np.array(data.bowder.words_to_keep)[idx]"
   ]
  },
  {
   "cell_type": "code",
   "execution_count": null,
   "metadata": {},
   "outputs": [],
   "source": [
    "train_data = data.filter_data_length(data.get_data('train', structured=False), 95)\n",
    "test_data = data.filter_data_length(data.get_data('test', structured=False), 95)"
   ]
  },
  {
   "cell_type": "code",
   "execution_count": null,
   "metadata": {},
   "outputs": [],
   "source": [
    "vc = [0] * data.vocab.vocab_size\n",
    "for i, v in data.vocab.idx2word.items() :\n",
    "    vc[i] = v"
   ]
  },
  {
   "cell_type": "code",
   "execution_count": null,
   "metadata": {},
   "outputs": [],
   "source": [
    "from PatientVec.Experiments.modifiable_config_exp import attention_configs\n",
    "avg_attn_config = attention_configs[0](data, structured=False, args=args)"
   ]
  },
  {
   "cell_type": "code",
   "execution_count": null,
   "metadata": {},
   "outputs": [],
   "source": [
    "avg_attn_config['model']['embedder']['type'] = 'elmo_embedder'\n",
    "del avg_attn_config['model']['embedder']['embedding_file']\n",
    "avg_attn_config['model']['embedder']['elmo_options'] = {\n",
    "    'options_file' : '../../elmo_2x2048_256_2048cnn_1xhighway_options.json',\n",
    "    'weight_file' : '../../elmo_2x2048_256_2048cnn_1xhighway_weights.hdf5',\n",
    "    'vocab_to_cache' : vc,\n",
    "    'scalar_mix_parameters' : [0.3, 0.3, 0.3]\n",
    "}"
   ]
  },
  {
   "cell_type": "code",
   "execution_count": null,
   "metadata": {},
   "outputs": [],
   "source": [
    "avg_attn_config['training_config']['common']['bsize'] = 64"
   ]
  },
  {
   "cell_type": "code",
   "execution_count": null,
   "metadata": {},
   "outputs": [],
   "source": [
    "from PatientVec.models.Vanilla import ClassificationTrainer as BasicCT\n",
    "from PatientVec.trainer import Trainer, Evaluator"
   ]
  },
  {
   "cell_type": "code",
   "execution_count": null,
   "metadata": {},
   "outputs": [],
   "source": [
    "import logging.config\n",
    "logging.config.dictConfig({\n",
    "    'version': 1,\n",
    "    'disable_existing_loggers': True\n",
    "})"
   ]
  },
  {
   "cell_type": "code",
   "execution_count": null,
   "metadata": {},
   "outputs": [],
   "source": [
    "trainer = Trainer(BasicCT, avg_attn_config, _type=data.metrics_type, display_metrics=args.display)\n",
    "trainer.train(train_data, test_data, save_on_metric=data.save_on_metric)"
   ]
  },
  {
   "cell_type": "code",
   "execution_count": null,
   "metadata": {},
   "outputs": [],
   "source": [
    "outputs = trainer.model.evaluate(test_data.mock(200))"
   ]
  },
  {
   "cell_type": "code",
   "execution_count": null,
   "metadata": {},
   "outputs": [],
   "source": [
    "for n, v in trainer.model.model.named_parameters() :\n",
    "    print(n, v)"
   ]
  },
  {
   "cell_type": "code",
   "execution_count": null,
   "metadata": {},
   "outputs": [],
   "source": []
  }
 ],
 "metadata": {
  "kernelspec": {
   "display_name": "Python 3",
   "language": "python",
   "name": "python3"
  },
  "language_info": {
   "codemirror_mode": {
    "name": "ipython",
    "version": 3
   },
   "file_extension": ".py",
   "mimetype": "text/x-python",
   "name": "python",
   "nbconvert_exporter": "python",
   "pygments_lexer": "ipython3",
   "version": "3.6.7"
  }
 },
 "nbformat": 4,
 "nbformat_minor": 2
}
