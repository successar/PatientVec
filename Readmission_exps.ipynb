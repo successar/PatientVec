{
 "cells": [
  {
   "cell_type": "code",
   "execution_count": 1,
   "metadata": {},
   "outputs": [],
   "source": [
    "%load_ext autoreload\n",
    "%autoreload 2"
   ]
  },
  {
   "cell_type": "code",
   "execution_count": 4,
   "metadata": {},
   "outputs": [],
   "source": [
    "import numpy as np\n",
    "from common import *\n",
    "import argparse\n",
    "parser = argparse.ArgumentParser(description='Run Diagnosis experiments')\n",
    "parser.add_argument(\"--data_dir\", type=str, required=True)\n",
    "parser.add_argument('--display', dest='display', action='store_true')\n",
    "parser.add_argument(\"--output_dir\", type=str)\n",
    "parser.add_argument(\"--mock\", dest='mock', action='store_true')\n",
    "\n",
    "args = parser.parse_args(['--data_dir=.', '--output_dir=outputs/', '--display'])"
   ]
  },
  {
   "cell_type": "code",
   "execution_count": 5,
   "metadata": {},
   "outputs": [
    {
     "name": "stderr",
     "output_type": "stream",
     "text": [
      "INFO - 2019-02-17 13:48:54,295 - Reading Structured data ...\n",
      "INFO - 2019-02-17 13:48:54,476 - Reading Notes ...\n",
      "INFO - 2019-02-17 13:49:15,929 - Stratifying ...\n"
     ]
    }
   ],
   "source": [
    "from dataloaders import readmission_dataset\n",
    "data = readmission_dataset(args)"
   ]
  },
  {
   "cell_type": "code",
   "execution_count": 7,
   "metadata": {},
   "outputs": [
    {
     "name": "stdout",
     "output_type": "stream",
     "text": [
      "Better speed can be achieved with apex installed from https://www.github.com/nvidia/apex.\n",
      "Pos Percentage [0.19738451]\n"
     ]
    },
    {
     "name": "stderr",
     "output_type": "stream",
     "text": [
      "INFO - 2019-02-17 13:49:51,532 - Maximum Sentence Length 721825.000000 , 90 percentile length 18689.400000 ... \n",
      "INFO - 2019-02-17 13:49:51,547 - Pos Percentage of remaining data ... \n",
      "INFO - 2019-02-17 13:49:51,573 - [0.18685839]\n"
     ]
    },
    {
     "name": "stdout",
     "output_type": "stream",
     "text": [
      "Pos Percentage [0.20937082]\n"
     ]
    },
    {
     "name": "stderr",
     "output_type": "stream",
     "text": [
      "INFO - 2019-02-17 13:49:54,359 - Maximum Sentence Length 588265.000000 , 90 percentile length 19174.500000 ... \n",
      "INFO - 2019-02-17 13:49:54,364 - Pos Percentage of remaining data ... \n",
      "INFO - 2019-02-17 13:49:54,375 - [0.19723338]\n"
     ]
    }
   ],
   "source": [
    "from Experiments.training_exps import get_basic_data\n",
    "train_data, dev_data = get_basic_data(data, truncate=90)"
   ]
  },
  {
   "cell_type": "code",
   "execution_count": 27,
   "metadata": {},
   "outputs": [],
   "source": [
    "from Experiments.config_exp import CNN_with_attention"
   ]
  },
  {
   "cell_type": "code",
   "execution_count": 28,
   "metadata": {},
   "outputs": [],
   "source": [
    "config = CNN_with_attention(data, structured=True)"
   ]
  },
  {
   "cell_type": "code",
   "execution_count": 29,
   "metadata": {},
   "outputs": [],
   "source": [
    "config['model']['attention']['normaliser'] = 'sparsemax'"
   ]
  },
  {
   "cell_type": "code",
   "execution_count": 30,
   "metadata": {},
   "outputs": [],
   "source": [
    "config['exp_config']['exp_name'] = config['exp_config']['exp_name'].replace('Readmission', 'readmission_sparsemax_test')"
   ]
  },
  {
   "cell_type": "code",
   "execution_count": 31,
   "metadata": {},
   "outputs": [
    {
     "name": "stderr",
     "output_type": "stream",
     "text": [
      "INFO - 2019-02-17 15:37:00,377 - instantiating class <class 'PatientVec.models.Model.Model'> from params {'type': 'seq_classifier_with_attention', 'embedder': {'type': 'token_embedder', 'vocab_size': 32246, 'embed_size': 200, 'embedding_file': './preprocess/Readmission/embedding_matrix.npy'}, 'decoder': {'num_layers': 2, 'hidden_dims': [128, 1], 'activations': ['tanh', 'linear']}, 'predictor': {'type': 'binary'}, 'structured': {'use_structured': True, 'structured_dim': 142}, 'encoder': {'type': 'cnn', 'hidden_size': 64, 'kernel_sizes': [3, 5, 7, 9], 'activation': 'relu'}, 'attention': {'similarity': {'type': 'additive', 'hidden_size': 128}, 'normaliser': 'sparsemax'}} and extras {}\n",
      "INFO - 2019-02-17 15:37:00,378 - type = seq_classifier_with_attention\n",
      "INFO - 2019-02-17 15:37:00,380 - instantiating class <class 'PatientVec.models.modules.Embedder.Embedder'> from params {'type': 'token_embedder', 'vocab_size': 32246, 'embed_size': 200, 'embedding_file': './preprocess/Readmission/embedding_matrix.npy'} and extras {}\n",
      "INFO - 2019-02-17 15:37:00,381 - embedder.type = token_embedder\n",
      "INFO - 2019-02-17 15:37:00,385 - instantiating class <class 'PatientVec.models.modules.Embedder.TokenEmbedder'> from params {'vocab_size': 32246, 'embed_size': 200, 'embedding_file': './preprocess/Readmission/embedding_matrix.npy'} and extras {}\n",
      "INFO - 2019-02-17 15:37:00,389 - embedder.vocab_size = 32246\n",
      "INFO - 2019-02-17 15:37:00,390 - embedder.embed_size = 200\n",
      "INFO - 2019-02-17 15:37:00,391 - embedder.embedding_file = ./preprocess/Readmission/embedding_matrix.npy\n",
      "INFO - 2019-02-17 15:37:00,445 - instantiating class <class 'PatientVec.models.modules.Encoder.Encoder'> from params {'type': 'cnn', 'hidden_size': 64, 'kernel_sizes': [3, 5, 7, 9], 'activation': 'relu'} and extras {'input_size': 200}\n",
      "INFO - 2019-02-17 15:37:00,446 - encoder.type = cnn\n",
      "INFO - 2019-02-17 15:37:00,447 - instantiating class <class 'PatientVec.models.modules.Encoder.CNNEncoder'> from params {'hidden_size': 64, 'kernel_sizes': [3, 5, 7, 9], 'activation': 'relu'} and extras {'input_size': 200}\n",
      "INFO - 2019-02-17 15:37:00,448 - encoder.hidden_size = 64\n",
      "INFO - 2019-02-17 15:37:00,448 - encoder.kernel_sizes = [3, 5, 7, 9]\n",
      "INFO - 2019-02-17 15:37:00,449 - encoder.activation = relu\n",
      "INFO - 2019-02-17 15:37:00,455 - instantiating class <class 'PatientVec.models.modules.SelfAttention.SelfAttention'> from params {'similarity': {'type': 'additive', 'hidden_size': 128, 'tensor_1_dim': 256}, 'normaliser': 'sparsemax'} and extras {}\n",
      "INFO - 2019-02-17 15:37:00,456 - instantiating class <class 'PatientVec.models.modules.UniSimilarity.UniSimilarity'> from params {'type': 'additive', 'hidden_size': 128, 'tensor_1_dim': 256} and extras {}\n",
      "INFO - 2019-02-17 15:37:00,457 - attention.similarity.type = additive\n",
      "INFO - 2019-02-17 15:37:00,457 - instantiating class <class 'PatientVec.models.modules.UniSimilarity.UniAdditiveSimilarity'> from params {'hidden_size': 128, 'tensor_1_dim': 256} and extras {}\n",
      "INFO - 2019-02-17 15:37:00,458 - attention.similarity.tensor_1_dim = 256\n",
      "INFO - 2019-02-17 15:37:00,459 - attention.similarity.hidden_size = 128\n",
      "INFO - 2019-02-17 15:37:00,461 - attention.normaliser = sparsemax\n",
      "INFO - 2019-02-17 15:37:00,462 - decoder.input_dim = 398\n",
      "INFO - 2019-02-17 15:37:00,462 - decoder.num_layers = 2\n",
      "INFO - 2019-02-17 15:37:00,463 - decoder.hidden_dims = [128, 1]\n",
      "INFO - 2019-02-17 15:37:00,463 - decoder.activations = ['tanh', 'linear']\n",
      "INFO - 2019-02-17 15:37:00,464 - decoder.dropout = 0.0\n",
      "INFO - 2019-02-17 15:37:00,467 - instantiating class <class 'PatientVec.models.modules.Predictor.Predictor'> from params {'type': 'binary'} and extras {}\n",
      "INFO - 2019-02-17 15:37:00,467 - predictor.type = binary\n",
      "INFO - 2019-02-17 15:37:00,468 - instantiating class <class 'PatientVec.models.modules.Predictor.Binary_Predictor'> from params {} and extras {}\n"
     ]
    },
    {
     "name": "stdout",
     "output_type": "stream",
     "text": [
      "Setting Embedding\n"
     ]
    },
    {
     "data": {
      "application/vnd.jupyter.widget-view+json": {
       "model_id": "01b754ce11324a29b399b2de7d0e1ed2",
       "version_major": 2,
       "version_minor": 0
      },
      "text/plain": [
       "HBox(children=(IntProgress(value=0, max=10), HTML(value='')))"
      ]
     },
     "metadata": {},
     "output_type": "display_data"
    },
    {
     "data": {
      "application/vnd.jupyter.widget-view+json": {
       "model_id": "ee154a3274e64b88851d1f9af569564d",
       "version_major": 2,
       "version_minor": 0
      },
      "text/plain": [
       "HBox(children=(IntProgress(value=0, max=828), HTML(value='')))"
      ]
     },
     "metadata": {},
     "output_type": "display_data"
    },
    {
     "name": "stderr",
     "output_type": "stream",
     "text": [
      "/media/jainsarthak/data/projects/PatientVec/models/modules/sparsemax.py:54: UserWarning: torch.range is deprecated in favor of torch.arange and will be removed in 0.5. Note that arange generates values in [start; end), not [start; end].\n",
      "  range = torch.range(start=1, end=number_of_logits, device=device).view(1, -1)\n"
     ]
    },
    {
     "data": {
      "application/vnd.jupyter.widget-view+json": {
       "model_id": "e91dd4f44b1b4391b0c778f94df4d718",
       "version_major": 2,
       "version_minor": 0
      },
      "text/plain": [
       "HBox(children=(IntProgress(value=0, max=211), HTML(value='')))"
      ]
     },
     "metadata": {},
     "output_type": "display_data"
    },
    {
     "name": "stdout",
     "output_type": "stream",
     "text": [
      "{'accuracy': 0.6998363825673063, 'roc_auc': 0.7054027138142497, 'pr_auc': 0.3874697804909929}\n"
     ]
    },
    {
     "data": {
      "text/html": [
       "<div>\n",
       "<style scoped>\n",
       "    .dataframe tbody tr th:only-of-type {\n",
       "        vertical-align: middle;\n",
       "    }\n",
       "\n",
       "    .dataframe tbody tr th {\n",
       "        vertical-align: top;\n",
       "    }\n",
       "\n",
       "    .dataframe thead th {\n",
       "        text-align: right;\n",
       "    }\n",
       "</style>\n",
       "<table border=\"1\" class=\"dataframe\">\n",
       "  <thead>\n",
       "    <tr style=\"text-align: right;\">\n",
       "      <th></th>\n",
       "      <th>0</th>\n",
       "      <th>1</th>\n",
       "      <th>micro avg</th>\n",
       "      <th>macro avg</th>\n",
       "      <th>weighted avg</th>\n",
       "    </tr>\n",
       "  </thead>\n",
       "  <tbody>\n",
       "    <tr>\n",
       "      <th>f1-score</th>\n",
       "      <td>0.797</td>\n",
       "      <td>0.420</td>\n",
       "      <td>0.7</td>\n",
       "      <td>0.609</td>\n",
       "      <td>0.723</td>\n",
       "    </tr>\n",
       "    <tr>\n",
       "      <th>precision</th>\n",
       "      <td>0.870</td>\n",
       "      <td>0.340</td>\n",
       "      <td>0.7</td>\n",
       "      <td>0.605</td>\n",
       "      <td>0.765</td>\n",
       "    </tr>\n",
       "    <tr>\n",
       "      <th>recall</th>\n",
       "      <td>0.736</td>\n",
       "      <td>0.552</td>\n",
       "      <td>0.7</td>\n",
       "      <td>0.644</td>\n",
       "      <td>0.700</td>\n",
       "    </tr>\n",
       "    <tr>\n",
       "      <th>support</th>\n",
       "      <td>5397.000</td>\n",
       "      <td>1326.000</td>\n",
       "      <td>6723.0</td>\n",
       "      <td>6723.000</td>\n",
       "      <td>6723.000</td>\n",
       "    </tr>\n",
       "  </tbody>\n",
       "</table>\n",
       "</div>"
      ],
      "text/plain": [
       "                  0         1  micro avg  macro avg  weighted avg\n",
       "f1-score      0.797     0.420        0.7      0.609         0.723\n",
       "precision     0.870     0.340        0.7      0.605         0.765\n",
       "recall        0.736     0.552        0.7      0.644         0.700\n",
       "support    5397.000  1326.000     6723.0   6723.000      6723.000"
      ]
     },
     "metadata": {},
     "output_type": "display_data"
    },
    {
     "name": "stdout",
     "output_type": "stream",
     "text": [
      "Model not saved on  roc_auc 0.7054027138142497\n"
     ]
    },
    {
     "data": {
      "application/vnd.jupyter.widget-view+json": {
       "model_id": "545862acbca14947a08d032f6ab7725c",
       "version_major": 2,
       "version_minor": 0
      },
      "text/plain": [
       "HBox(children=(IntProgress(value=0, max=828), HTML(value='')))"
      ]
     },
     "metadata": {},
     "output_type": "display_data"
    },
    {
     "data": {
      "application/vnd.jupyter.widget-view+json": {
       "model_id": "b4a3922b714f4c15bbd16ae276d84f8d",
       "version_major": 2,
       "version_minor": 0
      },
      "text/plain": [
       "HBox(children=(IntProgress(value=0, max=211), HTML(value='')))"
      ]
     },
     "metadata": {},
     "output_type": "display_data"
    },
    {
     "name": "stdout",
     "output_type": "stream",
     "text": [
      "{'accuracy': 0.7245277405919976, 'roc_auc': 0.7137037894076118, 'pr_auc': 0.39618214950315167}\n"
     ]
    },
    {
     "data": {
      "text/html": [
       "<div>\n",
       "<style scoped>\n",
       "    .dataframe tbody tr th:only-of-type {\n",
       "        vertical-align: middle;\n",
       "    }\n",
       "\n",
       "    .dataframe tbody tr th {\n",
       "        vertical-align: top;\n",
       "    }\n",
       "\n",
       "    .dataframe thead th {\n",
       "        text-align: right;\n",
       "    }\n",
       "</style>\n",
       "<table border=\"1\" class=\"dataframe\">\n",
       "  <thead>\n",
       "    <tr style=\"text-align: right;\">\n",
       "      <th></th>\n",
       "      <th>0</th>\n",
       "      <th>1</th>\n",
       "      <th>micro avg</th>\n",
       "      <th>macro avg</th>\n",
       "      <th>weighted avg</th>\n",
       "    </tr>\n",
       "  </thead>\n",
       "  <tbody>\n",
       "    <tr>\n",
       "      <th>f1-score</th>\n",
       "      <td>0.819</td>\n",
       "      <td>0.424</td>\n",
       "      <td>0.725</td>\n",
       "      <td>0.622</td>\n",
       "      <td>0.741</td>\n",
       "    </tr>\n",
       "    <tr>\n",
       "      <th>precision</th>\n",
       "      <td>0.867</td>\n",
       "      <td>0.361</td>\n",
       "      <td>0.725</td>\n",
       "      <td>0.614</td>\n",
       "      <td>0.767</td>\n",
       "    </tr>\n",
       "    <tr>\n",
       "      <th>recall</th>\n",
       "      <td>0.776</td>\n",
       "      <td>0.515</td>\n",
       "      <td>0.725</td>\n",
       "      <td>0.646</td>\n",
       "      <td>0.725</td>\n",
       "    </tr>\n",
       "    <tr>\n",
       "      <th>support</th>\n",
       "      <td>5397.000</td>\n",
       "      <td>1326.000</td>\n",
       "      <td>6723.000</td>\n",
       "      <td>6723.000</td>\n",
       "      <td>6723.000</td>\n",
       "    </tr>\n",
       "  </tbody>\n",
       "</table>\n",
       "</div>"
      ],
      "text/plain": [
       "                  0         1  micro avg  macro avg  weighted avg\n",
       "f1-score      0.819     0.424      0.725      0.622         0.741\n",
       "precision     0.867     0.361      0.725      0.614         0.767\n",
       "recall        0.776     0.515      0.725      0.646         0.725\n",
       "support    5397.000  1326.000   6723.000   6723.000      6723.000"
      ]
     },
     "metadata": {},
     "output_type": "display_data"
    },
    {
     "name": "stdout",
     "output_type": "stream",
     "text": [
      "Model Saved on  roc_auc 0.7137037894076118\n"
     ]
    },
    {
     "data": {
      "application/vnd.jupyter.widget-view+json": {
       "model_id": "42341c9ec0e3464c984be17a40dd34cb",
       "version_major": 2,
       "version_minor": 0
      },
      "text/plain": [
       "HBox(children=(IntProgress(value=0, max=828), HTML(value='')))"
      ]
     },
     "metadata": {},
     "output_type": "display_data"
    },
    {
     "data": {
      "application/vnd.jupyter.widget-view+json": {
       "model_id": "022d899cc3844daab3d32b27fe609e3e",
       "version_major": 2,
       "version_minor": 0
      },
      "text/plain": [
       "HBox(children=(IntProgress(value=0, max=211), HTML(value='')))"
      ]
     },
     "metadata": {},
     "output_type": "display_data"
    },
    {
     "name": "stdout",
     "output_type": "stream",
     "text": [
      "{'accuracy': 0.6897218503644207, 'roc_auc': 0.7133610902207835, 'pr_auc': 0.4001876973535394}\n"
     ]
    },
    {
     "data": {
      "text/html": [
       "<div>\n",
       "<style scoped>\n",
       "    .dataframe tbody tr th:only-of-type {\n",
       "        vertical-align: middle;\n",
       "    }\n",
       "\n",
       "    .dataframe tbody tr th {\n",
       "        vertical-align: top;\n",
       "    }\n",
       "\n",
       "    .dataframe thead th {\n",
       "        text-align: right;\n",
       "    }\n",
       "</style>\n",
       "<table border=\"1\" class=\"dataframe\">\n",
       "  <thead>\n",
       "    <tr style=\"text-align: right;\">\n",
       "      <th></th>\n",
       "      <th>0</th>\n",
       "      <th>1</th>\n",
       "      <th>micro avg</th>\n",
       "      <th>macro avg</th>\n",
       "      <th>weighted avg</th>\n",
       "    </tr>\n",
       "  </thead>\n",
       "  <tbody>\n",
       "    <tr>\n",
       "      <th>f1-score</th>\n",
       "      <td>0.787</td>\n",
       "      <td>0.430</td>\n",
       "      <td>0.69</td>\n",
       "      <td>0.608</td>\n",
       "      <td>0.716</td>\n",
       "    </tr>\n",
       "    <tr>\n",
       "      <th>precision</th>\n",
       "      <td>0.877</td>\n",
       "      <td>0.337</td>\n",
       "      <td>0.69</td>\n",
       "      <td>0.607</td>\n",
       "      <td>0.771</td>\n",
       "    </tr>\n",
       "    <tr>\n",
       "      <th>recall</th>\n",
       "      <td>0.714</td>\n",
       "      <td>0.593</td>\n",
       "      <td>0.69</td>\n",
       "      <td>0.653</td>\n",
       "      <td>0.690</td>\n",
       "    </tr>\n",
       "    <tr>\n",
       "      <th>support</th>\n",
       "      <td>5397.000</td>\n",
       "      <td>1326.000</td>\n",
       "      <td>6723.00</td>\n",
       "      <td>6723.000</td>\n",
       "      <td>6723.000</td>\n",
       "    </tr>\n",
       "  </tbody>\n",
       "</table>\n",
       "</div>"
      ],
      "text/plain": [
       "                  0         1  micro avg  macro avg  weighted avg\n",
       "f1-score      0.787     0.430       0.69      0.608         0.716\n",
       "precision     0.877     0.337       0.69      0.607         0.771\n",
       "recall        0.714     0.593       0.69      0.653         0.690\n",
       "support    5397.000  1326.000    6723.00   6723.000      6723.000"
      ]
     },
     "metadata": {},
     "output_type": "display_data"
    },
    {
     "name": "stdout",
     "output_type": "stream",
     "text": [
      "Model not saved on  roc_auc 0.7133610902207835\n"
     ]
    },
    {
     "data": {
      "application/vnd.jupyter.widget-view+json": {
       "model_id": "66944efbd1e34930ba2028a956889215",
       "version_major": 2,
       "version_minor": 0
      },
      "text/plain": [
       "HBox(children=(IntProgress(value=0, max=828), HTML(value='')))"
      ]
     },
     "metadata": {},
     "output_type": "display_data"
    },
    {
     "data": {
      "application/vnd.jupyter.widget-view+json": {
       "model_id": "3ae1694fc86544f98727bfd65c939e0e",
       "version_major": 2,
       "version_minor": 0
      },
      "text/plain": [
       "HBox(children=(IntProgress(value=0, max=211), HTML(value='')))"
      ]
     },
     "metadata": {},
     "output_type": "display_data"
    },
    {
     "name": "stdout",
     "output_type": "stream",
     "text": [
      "{'accuracy': 0.6291834002677377, 'roc_auc': 0.7097021388621296, 'pr_auc': 0.3947136542194612}\n"
     ]
    },
    {
     "data": {
      "text/html": [
       "<div>\n",
       "<style scoped>\n",
       "    .dataframe tbody tr th:only-of-type {\n",
       "        vertical-align: middle;\n",
       "    }\n",
       "\n",
       "    .dataframe tbody tr th {\n",
       "        vertical-align: top;\n",
       "    }\n",
       "\n",
       "    .dataframe thead th {\n",
       "        text-align: right;\n",
       "    }\n",
       "</style>\n",
       "<table border=\"1\" class=\"dataframe\">\n",
       "  <thead>\n",
       "    <tr style=\"text-align: right;\">\n",
       "      <th></th>\n",
       "      <th>0</th>\n",
       "      <th>1</th>\n",
       "      <th>micro avg</th>\n",
       "      <th>macro avg</th>\n",
       "      <th>weighted avg</th>\n",
       "    </tr>\n",
       "  </thead>\n",
       "  <tbody>\n",
       "    <tr>\n",
       "      <th>f1-score</th>\n",
       "      <td>0.727</td>\n",
       "      <td>0.422</td>\n",
       "      <td>0.629</td>\n",
       "      <td>0.574</td>\n",
       "      <td>0.667</td>\n",
       "    </tr>\n",
       "    <tr>\n",
       "      <th>precision</th>\n",
       "      <td>0.888</td>\n",
       "      <td>0.305</td>\n",
       "      <td>0.629</td>\n",
       "      <td>0.596</td>\n",
       "      <td>0.773</td>\n",
       "    </tr>\n",
       "    <tr>\n",
       "      <th>recall</th>\n",
       "      <td>0.615</td>\n",
       "      <td>0.686</td>\n",
       "      <td>0.629</td>\n",
       "      <td>0.650</td>\n",
       "      <td>0.629</td>\n",
       "    </tr>\n",
       "    <tr>\n",
       "      <th>support</th>\n",
       "      <td>5397.000</td>\n",
       "      <td>1326.000</td>\n",
       "      <td>6723.000</td>\n",
       "      <td>6723.000</td>\n",
       "      <td>6723.000</td>\n",
       "    </tr>\n",
       "  </tbody>\n",
       "</table>\n",
       "</div>"
      ],
      "text/plain": [
       "                  0         1  micro avg  macro avg  weighted avg\n",
       "f1-score      0.727     0.422      0.629      0.574         0.667\n",
       "precision     0.888     0.305      0.629      0.596         0.773\n",
       "recall        0.615     0.686      0.629      0.650         0.629\n",
       "support    5397.000  1326.000   6723.000   6723.000      6723.000"
      ]
     },
     "metadata": {},
     "output_type": "display_data"
    },
    {
     "name": "stdout",
     "output_type": "stream",
     "text": [
      "Model not saved on  roc_auc 0.7097021388621296\n"
     ]
    },
    {
     "data": {
      "application/vnd.jupyter.widget-view+json": {
       "model_id": "1ca88a55eb06479d92eb0c9d0d77aa76",
       "version_major": 2,
       "version_minor": 0
      },
      "text/plain": [
       "HBox(children=(IntProgress(value=0, max=828), HTML(value='')))"
      ]
     },
     "metadata": {},
     "output_type": "display_data"
    },
    {
     "data": {
      "application/vnd.jupyter.widget-view+json": {
       "model_id": "22505c3eca524208913d8d27944bd8cc",
       "version_major": 2,
       "version_minor": 0
      },
      "text/plain": [
       "HBox(children=(IntProgress(value=0, max=211), HTML(value='')))"
      ]
     },
     "metadata": {},
     "output_type": "display_data"
    },
    {
     "name": "stdout",
     "output_type": "stream",
     "text": [
      "{'accuracy': 0.6452476572958501, 'roc_auc': 0.6903087883861516, 'pr_auc': 0.3679656325486285}\n"
     ]
    },
    {
     "data": {
      "text/html": [
       "<div>\n",
       "<style scoped>\n",
       "    .dataframe tbody tr th:only-of-type {\n",
       "        vertical-align: middle;\n",
       "    }\n",
       "\n",
       "    .dataframe tbody tr th {\n",
       "        vertical-align: top;\n",
       "    }\n",
       "\n",
       "    .dataframe thead th {\n",
       "        text-align: right;\n",
       "    }\n",
       "</style>\n",
       "<table border=\"1\" class=\"dataframe\">\n",
       "  <thead>\n",
       "    <tr style=\"text-align: right;\">\n",
       "      <th></th>\n",
       "      <th>0</th>\n",
       "      <th>1</th>\n",
       "      <th>micro avg</th>\n",
       "      <th>macro avg</th>\n",
       "      <th>weighted avg</th>\n",
       "    </tr>\n",
       "  </thead>\n",
       "  <tbody>\n",
       "    <tr>\n",
       "      <th>f1-score</th>\n",
       "      <td>0.747</td>\n",
       "      <td>0.406</td>\n",
       "      <td>0.645</td>\n",
       "      <td>0.576</td>\n",
       "      <td>0.680</td>\n",
       "    </tr>\n",
       "    <tr>\n",
       "      <th>precision</th>\n",
       "      <td>0.873</td>\n",
       "      <td>0.303</td>\n",
       "      <td>0.645</td>\n",
       "      <td>0.588</td>\n",
       "      <td>0.761</td>\n",
       "    </tr>\n",
       "    <tr>\n",
       "      <th>recall</th>\n",
       "      <td>0.653</td>\n",
       "      <td>0.614</td>\n",
       "      <td>0.645</td>\n",
       "      <td>0.633</td>\n",
       "      <td>0.645</td>\n",
       "    </tr>\n",
       "    <tr>\n",
       "      <th>support</th>\n",
       "      <td>5397.000</td>\n",
       "      <td>1326.000</td>\n",
       "      <td>6723.000</td>\n",
       "      <td>6723.000</td>\n",
       "      <td>6723.000</td>\n",
       "    </tr>\n",
       "  </tbody>\n",
       "</table>\n",
       "</div>"
      ],
      "text/plain": [
       "                  0         1  micro avg  macro avg  weighted avg\n",
       "f1-score      0.747     0.406      0.645      0.576         0.680\n",
       "precision     0.873     0.303      0.645      0.588         0.761\n",
       "recall        0.653     0.614      0.645      0.633         0.645\n",
       "support    5397.000  1326.000   6723.000   6723.000      6723.000"
      ]
     },
     "metadata": {},
     "output_type": "display_data"
    },
    {
     "name": "stdout",
     "output_type": "stream",
     "text": [
      "Model not saved on  roc_auc 0.6903087883861516\n"
     ]
    },
    {
     "data": {
      "application/vnd.jupyter.widget-view+json": {
       "model_id": "03c822aec4eb4de7807a48a5da6db831",
       "version_major": 2,
       "version_minor": 0
      },
      "text/plain": [
       "HBox(children=(IntProgress(value=0, max=828), HTML(value='')))"
      ]
     },
     "metadata": {},
     "output_type": "display_data"
    },
    {
     "name": "stdout",
     "output_type": "stream",
     "text": [
      "\n"
     ]
    },
    {
     "ename": "KeyboardInterrupt",
     "evalue": "",
     "output_type": "error",
     "traceback": [
      "\u001b[0;31m---------------------------------------------------------------------------\u001b[0m",
      "\u001b[0;31mKeyboardInterrupt\u001b[0m                         Traceback (most recent call last)",
      "\u001b[0;32m<ipython-input-31-a2a4bd73a107>\u001b[0m in \u001b[0;36m<module>\u001b[0;34m\u001b[0m\n\u001b[1;32m      2\u001b[0m \u001b[0;32mfrom\u001b[0m \u001b[0mtrainer\u001b[0m \u001b[0;32mimport\u001b[0m \u001b[0mTrainer\u001b[0m\u001b[0;34m,\u001b[0m \u001b[0mEvaluator\u001b[0m\u001b[0;34m\u001b[0m\u001b[0;34m\u001b[0m\u001b[0m\n\u001b[1;32m      3\u001b[0m \u001b[0mtrainer\u001b[0m \u001b[0;34m=\u001b[0m \u001b[0mTrainer\u001b[0m\u001b[0;34m(\u001b[0m\u001b[0mBasicCT\u001b[0m\u001b[0;34m,\u001b[0m \u001b[0mconfig\u001b[0m\u001b[0;34m,\u001b[0m \u001b[0m_type\u001b[0m\u001b[0;34m=\u001b[0m\u001b[0mdata\u001b[0m\u001b[0;34m.\u001b[0m\u001b[0mmetrics_type\u001b[0m\u001b[0;34m,\u001b[0m \u001b[0mdisplay_metrics\u001b[0m\u001b[0;34m=\u001b[0m\u001b[0;32mTrue\u001b[0m\u001b[0;34m)\u001b[0m\u001b[0;34m\u001b[0m\u001b[0;34m\u001b[0m\u001b[0m\n\u001b[0;32m----> 4\u001b[0;31m \u001b[0mtrainer\u001b[0m\u001b[0;34m.\u001b[0m\u001b[0mtrain\u001b[0m\u001b[0;34m(\u001b[0m\u001b[0mtrain_data\u001b[0m\u001b[0;34m,\u001b[0m \u001b[0mdev_data\u001b[0m\u001b[0;34m,\u001b[0m \u001b[0mn_iters\u001b[0m\u001b[0;34m=\u001b[0m\u001b[0;36m10\u001b[0m\u001b[0;34m,\u001b[0m \u001b[0msave_on_metric\u001b[0m\u001b[0;34m=\u001b[0m\u001b[0mdata\u001b[0m\u001b[0;34m.\u001b[0m\u001b[0msave_on_metric\u001b[0m\u001b[0;34m)\u001b[0m\u001b[0;34m\u001b[0m\u001b[0;34m\u001b[0m\u001b[0m\n\u001b[0m\u001b[1;32m      5\u001b[0m \u001b[0;34m\u001b[0m\u001b[0m\n\u001b[1;32m      6\u001b[0m \u001b[0mevaluator\u001b[0m \u001b[0;34m=\u001b[0m \u001b[0mEvaluator\u001b[0m\u001b[0;34m(\u001b[0m\u001b[0mBasicCT\u001b[0m\u001b[0;34m,\u001b[0m \u001b[0mtrainer\u001b[0m\u001b[0;34m.\u001b[0m\u001b[0mmodel\u001b[0m\u001b[0;34m.\u001b[0m\u001b[0mdirname\u001b[0m\u001b[0;34m,\u001b[0m \u001b[0m_type\u001b[0m\u001b[0;34m=\u001b[0m\u001b[0mdata\u001b[0m\u001b[0;34m.\u001b[0m\u001b[0mmetrics_type\u001b[0m\u001b[0;34m,\u001b[0m \u001b[0mdisplay_metrics\u001b[0m\u001b[0;34m=\u001b[0m\u001b[0;32mTrue\u001b[0m\u001b[0;34m)\u001b[0m\u001b[0;34m\u001b[0m\u001b[0;34m\u001b[0m\u001b[0m\n",
      "\u001b[0;32m/media/jainsarthak/data/projects/PatientVec/trainer.py\u001b[0m in \u001b[0;36mtrain\u001b[0;34m(self, train_data, test_data, n_iters, save_on_metric)\u001b[0m\n\u001b[1;32m     13\u001b[0m         \u001b[0mbest_metric\u001b[0m \u001b[0;34m=\u001b[0m \u001b[0;36m0.0\u001b[0m\u001b[0;34m\u001b[0m\u001b[0;34m\u001b[0m\u001b[0m\n\u001b[1;32m     14\u001b[0m         \u001b[0;32mfor\u001b[0m \u001b[0mi\u001b[0m \u001b[0;32min\u001b[0m \u001b[0mtqdm_notebook\u001b[0m\u001b[0;34m(\u001b[0m\u001b[0mrange\u001b[0m\u001b[0;34m(\u001b[0m\u001b[0mn_iters\u001b[0m\u001b[0;34m)\u001b[0m\u001b[0;34m)\u001b[0m \u001b[0;34m:\u001b[0m\u001b[0;34m\u001b[0m\u001b[0;34m\u001b[0m\u001b[0m\n\u001b[0;32m---> 15\u001b[0;31m             \u001b[0mself\u001b[0m\u001b[0;34m.\u001b[0m\u001b[0mmodel\u001b[0m\u001b[0;34m.\u001b[0m\u001b[0mtrain\u001b[0m\u001b[0;34m(\u001b[0m\u001b[0mtrain_data\u001b[0m\u001b[0;34m)\u001b[0m\u001b[0;34m\u001b[0m\u001b[0;34m\u001b[0m\u001b[0m\n\u001b[0m\u001b[1;32m     16\u001b[0m \u001b[0;34m\u001b[0m\u001b[0m\n\u001b[1;32m     17\u001b[0m             \u001b[0moutputs\u001b[0m \u001b[0;34m=\u001b[0m \u001b[0mself\u001b[0m\u001b[0;34m.\u001b[0m\u001b[0mmodel\u001b[0m\u001b[0;34m.\u001b[0m\u001b[0mevaluate\u001b[0m\u001b[0;34m(\u001b[0m\u001b[0mtest_data\u001b[0m\u001b[0;34m)\u001b[0m\u001b[0;34m\u001b[0m\u001b[0;34m\u001b[0m\u001b[0m\n",
      "\u001b[0;32m/media/jainsarthak/data/projects/PatientVec/models/Vanilla.py\u001b[0m in \u001b[0;36mtrain\u001b[0;34m(self, train_data)\u001b[0m\n\u001b[1;32m     42\u001b[0m             \u001b[0mbatch\u001b[0m\u001b[0;34m.\u001b[0m\u001b[0mweight\u001b[0m \u001b[0;34m=\u001b[0m \u001b[0mclass_weight\u001b[0m\u001b[0;34m\u001b[0m\u001b[0;34m\u001b[0m\u001b[0m\n\u001b[1;32m     43\u001b[0m \u001b[0;34m\u001b[0m\u001b[0m\n\u001b[0;32m---> 44\u001b[0;31m             \u001b[0mself\u001b[0m\u001b[0;34m.\u001b[0m\u001b[0mmodel\u001b[0m\u001b[0;34m(\u001b[0m\u001b[0mbatch\u001b[0m\u001b[0;34m)\u001b[0m\u001b[0;34m\u001b[0m\u001b[0;34m\u001b[0m\u001b[0m\n\u001b[0m\u001b[1;32m     45\u001b[0m             \u001b[0mloss\u001b[0m \u001b[0;34m=\u001b[0m \u001b[0mbatch\u001b[0m\u001b[0;34m.\u001b[0m\u001b[0moutputs\u001b[0m\u001b[0;34m[\u001b[0m\u001b[0;34m\"loss\"\u001b[0m\u001b[0;34m]\u001b[0m\u001b[0;34m\u001b[0m\u001b[0;34m\u001b[0m\u001b[0m\n\u001b[1;32m     46\u001b[0m \u001b[0;34m\u001b[0m\u001b[0m\n",
      "\u001b[0;32m~/anaconda3/lib/python3.7/site-packages/torch/nn/modules/module.py\u001b[0m in \u001b[0;36m__call__\u001b[0;34m(self, *input, **kwargs)\u001b[0m\n\u001b[1;32m    490\u001b[0m             \u001b[0mresult\u001b[0m \u001b[0;34m=\u001b[0m \u001b[0mself\u001b[0m\u001b[0;34m.\u001b[0m\u001b[0m_slow_forward\u001b[0m\u001b[0;34m(\u001b[0m\u001b[0;34m*\u001b[0m\u001b[0minput\u001b[0m\u001b[0;34m,\u001b[0m \u001b[0;34m**\u001b[0m\u001b[0mkwargs\u001b[0m\u001b[0;34m)\u001b[0m\u001b[0;34m\u001b[0m\u001b[0;34m\u001b[0m\u001b[0m\n\u001b[1;32m    491\u001b[0m         \u001b[0;32melse\u001b[0m\u001b[0;34m:\u001b[0m\u001b[0;34m\u001b[0m\u001b[0;34m\u001b[0m\u001b[0m\n\u001b[0;32m--> 492\u001b[0;31m             \u001b[0mresult\u001b[0m \u001b[0;34m=\u001b[0m \u001b[0mself\u001b[0m\u001b[0;34m.\u001b[0m\u001b[0mforward\u001b[0m\u001b[0;34m(\u001b[0m\u001b[0;34m*\u001b[0m\u001b[0minput\u001b[0m\u001b[0;34m,\u001b[0m \u001b[0;34m**\u001b[0m\u001b[0mkwargs\u001b[0m\u001b[0;34m)\u001b[0m\u001b[0;34m\u001b[0m\u001b[0;34m\u001b[0m\u001b[0m\n\u001b[0m\u001b[1;32m    493\u001b[0m         \u001b[0;32mfor\u001b[0m \u001b[0mhook\u001b[0m \u001b[0;32min\u001b[0m \u001b[0mself\u001b[0m\u001b[0;34m.\u001b[0m\u001b[0m_forward_hooks\u001b[0m\u001b[0;34m.\u001b[0m\u001b[0mvalues\u001b[0m\u001b[0;34m(\u001b[0m\u001b[0;34m)\u001b[0m\u001b[0;34m:\u001b[0m\u001b[0;34m\u001b[0m\u001b[0;34m\u001b[0m\u001b[0m\n\u001b[1;32m    494\u001b[0m             \u001b[0mhook_result\u001b[0m \u001b[0;34m=\u001b[0m \u001b[0mhook\u001b[0m\u001b[0;34m(\u001b[0m\u001b[0mself\u001b[0m\u001b[0;34m,\u001b[0m \u001b[0minput\u001b[0m\u001b[0;34m,\u001b[0m \u001b[0mresult\u001b[0m\u001b[0;34m)\u001b[0m\u001b[0;34m\u001b[0m\u001b[0;34m\u001b[0m\u001b[0m\n",
      "\u001b[0;32m/media/jainsarthak/data/projects/PatientVec/models/Classifier.py\u001b[0m in \u001b[0;36mforward\u001b[0;34m(self, batch)\u001b[0m\n\u001b[1;32m    135\u001b[0m         \u001b[0;32mif\u001b[0m \u001b[0mself\u001b[0m\u001b[0;34m.\u001b[0m\u001b[0mstructured\u001b[0m\u001b[0;34m[\u001b[0m\u001b[0;34m'use_structured'\u001b[0m\u001b[0;34m]\u001b[0m \u001b[0;34m:\u001b[0m\u001b[0;34m\u001b[0m\u001b[0;34m\u001b[0m\u001b[0m\n\u001b[1;32m    136\u001b[0m             \u001b[0mconditional\u001b[0m \u001b[0;34m=\u001b[0m \u001b[0mtorch\u001b[0m\u001b[0;34m.\u001b[0m\u001b[0mTensor\u001b[0m\u001b[0;34m(\u001b[0m\u001b[0mbatch\u001b[0m\u001b[0;34m.\u001b[0m\u001b[0mstructured_data\u001b[0m\u001b[0;34m)\u001b[0m\u001b[0;34m.\u001b[0m\u001b[0mcuda\u001b[0m\u001b[0;34m(\u001b[0m\u001b[0;34m)\u001b[0m\u001b[0;34m\u001b[0m\u001b[0;34m\u001b[0m\u001b[0m\n\u001b[0;32m--> 137\u001b[0;31m             \u001b[0mmix\u001b[0m \u001b[0;34m=\u001b[0m \u001b[0mtorch\u001b[0m\u001b[0;34m.\u001b[0m\u001b[0mcat\u001b[0m\u001b[0;34m(\u001b[0m\u001b[0;34m[\u001b[0m\u001b[0mmix\u001b[0m\u001b[0;34m,\u001b[0m \u001b[0mconditional\u001b[0m\u001b[0;34m]\u001b[0m\u001b[0;34m,\u001b[0m \u001b[0mdim\u001b[0m\u001b[0;34m=\u001b[0m\u001b[0;34m-\u001b[0m\u001b[0;36m1\u001b[0m\u001b[0;34m)\u001b[0m\u001b[0;34m\u001b[0m\u001b[0;34m\u001b[0m\u001b[0m\n\u001b[0m\u001b[1;32m    138\u001b[0m \u001b[0;34m\u001b[0m\u001b[0m\n\u001b[1;32m    139\u001b[0m         \u001b[0mpotential\u001b[0m \u001b[0;34m=\u001b[0m \u001b[0mself\u001b[0m\u001b[0;34m.\u001b[0m\u001b[0mdecoder\u001b[0m\u001b[0;34m(\u001b[0m\u001b[0mmix\u001b[0m\u001b[0;34m)\u001b[0m\u001b[0;34m\u001b[0m\u001b[0;34m\u001b[0m\u001b[0m\n",
      "\u001b[0;31mKeyboardInterrupt\u001b[0m: "
     ]
    }
   ],
   "source": [
    "from PatientVec.models.Vanilla import ClassificationTrainer as BasicCT\n",
    "from trainer import Trainer, Evaluator\n",
    "trainer = Trainer(BasicCT, config, _type=data.metrics_type, display_metrics=True)\n",
    "trainer.train(train_data, dev_data, n_iters=10, save_on_metric=data.save_on_metric)\n",
    "\n",
    "evaluator = Evaluator(BasicCT, trainer.model.dirname, _type=data.metrics_type, display_metrics=True)\n",
    "_ = evaluator.evaluate(dev_data, save_results=True)\n",
    "print('='*300)"
   ]
  },
  {
   "cell_type": "code",
   "execution_count": 32,
   "metadata": {},
   "outputs": [
    {
     "data": {
      "application/vnd.jupyter.widget-view+json": {
       "model_id": "871de0f78fa2462f90966bbe2d370713",
       "version_major": 2,
       "version_minor": 0
      },
      "text/plain": [
       "HBox(children=(IntProgress(value=0, max=211), HTML(value='')))"
      ]
     },
     "metadata": {},
     "output_type": "display_data"
    },
    {
     "name": "stdout",
     "output_type": "stream",
     "text": [
      "\n"
     ]
    }
   ],
   "source": [
    "outputs = trainer.model.evaluate(dev_data)"
   ]
  },
  {
   "cell_type": "code",
   "execution_count": 37,
   "metadata": {},
   "outputs": [
    {
     "data": {
      "text/html": [
       "<span style=\"background-color:hsl(202,100%,100.0%);\">&lt;SOS&gt; </span><span style=\"background-color:hsl(202,100%,100.0%);\">adm </span><span style=\"background-color:hsl(202,100%,100.0%);\">note </span><span style=\"background-color:hsl(202,100%,100.0%);\">2300 </span><span style=\"background-color:hsl(202,100%,100.0%);\">- </span><span style=\"background-color:hsl(202,100%,100.0%);\">0700 </span><span style=\"background-color:hsl(202,100%,100.0%);\">48 </span><span style=\"background-color:hsl(202,100%,100.0%);\">yo </span><span style=\"background-color:hsl(202,100%,100.0%);\">ma </span><span style=\"background-color:hsl(202,100%,100.0%);\">adm </span><span style=\"background-color:hsl(202,100%,100.0%);\">on </span><span style=\"background-color:hsl(202,100%,100.0%);\">for </span><span style=\"background-color:hsl(202,100%,100.0%);\">l </span><span style=\"background-color:hsl(202,100%,100.0%);\">hip </span><span style=\"background-color:hsl(202,100%,100.0%);\">replacement </span><span style=\"background-color:hsl(202,100%,100.0%);\">. </span><span style=\"background-color:hsl(202,100%,100.0%);\">2 </span><span style=\"background-color:hsl(202,100%,100.0%);\">nd </span><span style=\"background-color:hsl(202,100%,100.0%);\">l </span><span style=\"background-color:hsl(202,100%,100.0%);\">hip </span><span style=\"background-color:hsl(202,100%,100.0%);\">surgery </span><span style=\"background-color:hsl(202,100%,100.0%);\">, </span><span style=\"background-color:hsl(202,100%,100.0%);\">pt </span><span style=\"background-color:hsl(202,100%,100.0%);\">in </span><span style=\"background-color:hsl(202,100%,100.0%);\">or </span><span style=\"background-color:hsl(202,100%,100.0%);\">for </span><span style=\"background-color:hsl(202,100%,100.0%);\">5.5 </span><span style=\"background-color:hsl(202,100%,100.0%);\">hrs </span><span style=\"background-color:hsl(202,100%,100.0%);\">. </span><span style=\"background-color:hsl(202,100%,100.0%);\">thigh </span><span style=\"background-color:hsl(202,100%,100.0%);\">very </span><span style=\"background-color:hsl(202,100%,100.0%);\">edematous </span><span style=\"background-color:hsl(202,100%,100.0%);\">from </span><span style=\"background-color:hsl(202,100%,100.0%);\">complex </span><span style=\"background-color:hsl(202,100%,100.0%);\">surgery </span><span style=\"background-color:hsl(202,100%,100.0%);\">. </span><span style=\"background-color:hsl(202,100%,100.0%);\">hemovac </span><span style=\"background-color:hsl(202,100%,100.0%);\">drain </span><span style=\"background-color:hsl(202,100%,100.0%);\">in </span><span style=\"background-color:hsl(202,100%,100.0%);\">place </span><span style=\"background-color:hsl(202,100%,100.0%);\">, </span><span style=\"background-color:hsl(202,100%,100.0%);\">mot </span><span style=\"background-color:hsl(202,100%,100.0%);\">amt </span><span style=\"background-color:hsl(202,100%,100.0%);\">bloody </span><span style=\"background-color:hsl(202,100%,100.0%);\">dng </span><span style=\"background-color:hsl(202,100%,100.0%);\">. </span><span style=\"background-color:hsl(202,100%,100.0%);\">dsg </span><span style=\"background-color:hsl(202,100%,100.0%);\">d </span><span style=\"background-color:hsl(202,100%,100.0%);\">&amp; </span><span style=\"background-color:hsl(202,100%,100.0%);\">i. </span><span style=\"background-color:hsl(202,100%,100.0%);\">pmh </span><span style=\"background-color:hsl(202,100%,100.0%);\">includes </span><span style=\"background-color:hsl(202,100%,100.0%);\">degenerative </span><span style=\"background-color:hsl(202,100%,100.0%);\">joint </span><span style=\"background-color:hsl(202,100%,100.0%);\">dis </span><span style=\"background-color:hsl(202,100%,100.0%);\">, </span><span style=\"background-color:hsl(202,100%,100.0%);\">chronic </span><span style=\"background-color:hsl(202,100%,100.0%);\">afib </span><span style=\"background-color:hsl(202,100%,100.0%);\">on </span><span style=\"background-color:hsl(202,100%,100.0%);\">coumadin </span><span style=\"background-color:hsl(202,100%,100.0%);\">, </span><span style=\"background-color:hsl(202,100%,100.0%);\">htn </span><span style=\"background-color:hsl(202,100%,100.0%);\">, </span><span style=\"background-color:hsl(202,100%,100.0%);\">gout </span><span style=\"background-color:hsl(202,100%,100.0%);\">. </span><span style=\"background-color:hsl(202,100%,100.0%);\">pt </span><span style=\"background-color:hsl(202,100%,100.0%);\">has </span><span style=\"background-color:hsl(202,100%,100.0%);\">been </span><span style=\"background-color:hsl(202,100%,100.0%);\">disabled </span><span style=\"background-color:hsl(202,100%,100.0%);\">since </span><span style=\"background-color:hsl(202,100%,100.0%);\">due </span><span style=\"background-color:hsl(202,100%,100.0%);\">to </span><span style=\"background-color:hsl(202,100%,100.0%);\">l </span><span style=\"background-color:hsl(202,100%,100.0%);\">hip </span><span style=\"background-color:hsl(202,100%,100.0%);\">. </span><span style=\"background-color:hsl(202,100%,100.0%);\">pt </span><span style=\"background-color:hsl(202,100%,100.0%);\">usu </span><span style=\"background-color:hsl(202,100%,100.0%);\">takes </span><span style=\"background-color:hsl(202,100%,100.0%);\">lge </span><span style=\"background-color:hsl(202,100%,100.0%);\">amt </span><span style=\"background-color:hsl(202,100%,100.0%);\">percocet </span><span style=\"background-color:hsl(202,100%,100.0%);\">at </span><span style=\"background-color:hsl(202,100%,100.0%);\">home </span><span style=\"background-color:hsl(202,100%,100.0%);\">, </span><span style=\"background-color:hsl(202,100%,100.0%);\">~ </span><span style=\"background-color:hsl(202,100%,100.0%);\">300 </span><span style=\"background-color:hsl(202,100%,100.0%);\">mg </span><span style=\"background-color:hsl(202,100%,100.0%);\">/ </span><span style=\"background-color:hsl(202,100%,100.0%);\">day </span><span style=\"background-color:hsl(202,100%,100.0%);\">. </span><span style=\"background-color:hsl(202,100%,100.0%);\">was </span><span style=\"background-color:hsl(202,100%,100.0%);\">given </span><span style=\"background-color:hsl(202,100%,100.0%);\">38 </span><span style=\"background-color:hsl(202,100%,100.0%);\">mg </span><span style=\"background-color:hsl(202,100%,100.0%);\">dilaudid </span><span style=\"background-color:hsl(202,100%,100.0%);\">in </span><span style=\"background-color:hsl(202,100%,100.0%);\">or </span><span style=\"background-color:hsl(202,100%,100.0%);\">. </span><span style=\"background-color:hsl(202,100%,100.0%);\">ros </span><span style=\"background-color:hsl(202,100%,100.0%);\">: </span><span style=\"background-color:hsl(202,100%,100.0%);\">neuro </span><span style=\"background-color:hsl(202,100%,100.0%);\">: </span><span style=\"background-color:hsl(202,100%,100.0%);\">sedated </span><span style=\"background-color:hsl(202,100%,100.0%);\">on </span><span style=\"background-color:hsl(202,100%,100.0%);\">propofol </span><span style=\"background-color:hsl(202,100%,100.0%);\">, </span><span style=\"background-color:hsl(202,100%,100.0%);\">currently </span><span style=\"background-color:hsl(202,100%,100.0%);\">80 </span><span style=\"background-color:hsl(202,100%,100.0%);\">mcg </span><span style=\"background-color:hsl(202,100%,100.0%);\">/ </span><span style=\"background-color:hsl(202,100%,100.0%);\">kg </span><span style=\"background-color:hsl(202,100%,100.0%);\">/ </span><span style=\"background-color:hsl(202,100%,100.0%);\">min </span><span style=\"background-color:hsl(202,100%,100.0%);\">. </span><span style=\"background-color:hsl(202,100%,100.0%);\">responds </span><span style=\"background-color:hsl(202,100%,100.0%);\">to </span><span style=\"background-color:hsl(202,100%,100.0%);\">painful </span><span style=\"background-color:hsl(202,100%,100.0%);\">stimuli </span><span style=\"background-color:hsl(202,100%,100.0%);\">. </span><span style=\"background-color:hsl(202,100%,100.0%);\">shut </span><span style=\"background-color:hsl(202,100%,100.0%);\">propofol </span><span style=\"background-color:hsl(202,100%,100.0%);\">off </span><span style=\"background-color:hsl(202,100%,100.0%);\">at </span><span style=\"background-color:hsl(202,100%,100.0%);\">2300 </span><span style=\"background-color:hsl(202,100%,100.0%);\">, </span><span style=\"background-color:hsl(202,100%,100.0%);\">pt </span><span style=\"background-color:hsl(202,100%,100.0%);\">opened </span><span style=\"background-color:hsl(202,100%,100.0%);\">eyes </span><span style=\"background-color:hsl(202,100%,100.0%);\">spont </span><span style=\"background-color:hsl(202,100%,100.0%);\">, </span><span style=\"background-color:hsl(202,100%,100.0%);\">mae </span><span style=\"background-color:hsl(202,100%,100.0%);\">. </span><span style=\"background-color:hsl(202,100%,100.0%);\">perl </span><span style=\"background-color:hsl(202,100%,100.0%);\">at </span><span style=\"background-color:hsl(202,100%,100.0%);\">2 </span><span style=\"background-color:hsl(202,100%,100.0%);\">mm </span><span style=\"background-color:hsl(202,100%,100.0%);\">, </span><span style=\"background-color:hsl(202,100%,100.0%);\">bsk </span><span style=\"background-color:hsl(202,100%,100.0%);\">. </span><span style=\"background-color:hsl(202,100%,100.0%);\">med </span><span style=\"background-color:hsl(202,100%,100.0%);\">c </span><span style=\"background-color:hsl(202,100%,100.0%);\">dilaudid </span><span style=\"background-color:hsl(202,100%,100.0%);\">1 </span><span style=\"background-color:hsl(202,100%,100.0%);\">mg </span><span style=\"background-color:hsl(202,100%,100.0%);\">iv </span><span style=\"background-color:hsl(202,100%,100.0%);\">x </span><span style=\"background-color:hsl(202,100%,100.0%);\">2 </span><span style=\"background-color:hsl(202,100%,100.0%);\">for </span><span style=\"background-color:hsl(202,100%,100.0%);\">hr </span><span style=\"background-color:hsl(202,100%,100.0%);\">increase </span><span style=\"background-color:hsl(202,100%,100.0%);\">c </span><span style=\"background-color:hsl(202,100%,100.0%);\">good </span><span style=\"background-color:hsl(202,100%,100.0%);\">results </span><span style=\"background-color:hsl(202,100%,100.0%);\">. </span><span style=\"background-color:hsl(202,100%,100.0%);\">resp </span><span style=\"background-color:hsl(202,100%,100.0%);\">: </span><span style=\"background-color:hsl(202,100%,100.0%);\">pt </span><span style=\"background-color:hsl(202,100%,100.0%);\">rec </span><span style=\"background-color:hsl(202,100%,100.0%);\">on </span><span style=\"background-color:hsl(202,100%,100.0%);\">ac </span><span style=\"background-color:hsl(202,100%,100.0%);\">at </span><span style=\"background-color:hsl(202,100%,100.0%);\">100 </span><span style=\"background-color:hsl(202,100%,100.0%);\">% </span><span style=\"background-color:hsl(202,100%,100.0%);\">fio </span><span style=\"background-color:hsl(202,100%,100.0%);\">2 </span><span style=\"background-color:hsl(202,100%,100.0%);\">, </span><span style=\"background-color:hsl(202,100%,100.0%);\">700 </span><span style=\"background-color:hsl(202,100%,100.0%);\">x </span><span style=\"background-color:hsl(202,100%,100.0%);\">12 </span><span style=\"background-color:hsl(202,100%,100.0%);\">peep </span><span style=\"background-color:hsl(202,100%,100.0%);\">5 </span><span style=\"background-color:hsl(202,100%,100.0%);\">. </span><span style=\"background-color:hsl(202,100%,100.0%);\">vent </span><span style=\"background-color:hsl(202,100%,100.0%);\">changes </span><span style=\"background-color:hsl(202,100%,100.0%);\">to </span><span style=\"background-color:hsl(202,100%,100.0%);\">40 </span><span style=\"background-color:hsl(202,100%,100.0%);\">, </span><span style=\"background-color:hsl(202,100%,100.0%);\">then </span><span style=\"background-color:hsl(202,100%,100.0%);\">50 </span><span style=\"background-color:hsl(202,100%,100.0%);\">% </span><span style=\"background-color:hsl(202,100%,100.0%);\">fio </span><span style=\"background-color:hsl(202,100%,100.0%);\">2 </span><span style=\"background-color:hsl(202,100%,100.0%);\">, </span><span style=\"background-color:hsl(202,100%,100.0%);\">rate </span><span style=\"background-color:hsl(202,100%,100.0%);\">up </span><span style=\"background-color:hsl(202,100%,100.0%);\">to </span><span style=\"background-color:hsl(202,100%,100.0%);\">14 </span><span style=\"background-color:hsl(202,100%,100.0%);\">, </span><span style=\"background-color:hsl(202,100%,100.0%);\">and </span><span style=\"background-color:hsl(202,100%,100.0%);\">vt </span><span style=\"background-color:hsl(202,100%,100.0%);\">up </span><span style=\"background-color:hsl(202,100%,100.0%);\">to </span><span style=\"background-color:hsl(202,100%,100.0%);\">750 </span><span style=\"background-color:hsl(202,100%,100.0%);\">. </span><span style=\"background-color:hsl(202,100%,100.0%);\">pt </span><span style=\"background-color:hsl(202,100%,100.0%);\">not </span><span style=\"background-color:hsl(202,100%,100.0%);\">overbreathing </span><span style=\"background-color:hsl(202,100%,100.0%);\">vent </span><span style=\"background-color:hsl(202,100%,100.0%);\">. </span><span style=\"background-color:hsl(202,100%,100.0%);\">sats </span><span style=\"background-color:hsl(202,100%,100.0%);\">97 </span><span style=\"background-color:hsl(202,100%,100.0%);\">- </span><span style=\"background-color:hsl(202,100%,100.0%);\">98 </span><span style=\"background-color:hsl(202,100%,100.0%);\">, </span><span style=\"background-color:hsl(202,100%,100.0%);\">last </span><span style=\"background-color:hsl(202,100%,100.0%);\">abg </span><span style=\"background-color:hsl(202,100%,100.0%);\">7.37 </span><span style=\"background-color:hsl(202,100%,100.0%);\">/ </span><span style=\"background-color:hsl(202,100%,100.0%);\">45 </span><span style=\"background-color:hsl(202,100%,100.0%);\">/ </span><span style=\"background-color:hsl(202,100%,100.0%);\">104 </span><span style=\"background-color:hsl(202,100%,100.0%);\">/ </span><span style=\"background-color:hsl(202,100%,100.0%);\">27 </span><span style=\"background-color:hsl(202,100%,100.0%);\">/ </span><span style=\"background-color:hsl(202,100%,100.0%);\">0 </span><span style=\"background-color:hsl(202,100%,100.0%);\">. </span><span style=\"background-color:hsl(202,100%,100.0%);\">will </span><span style=\"background-color:hsl(202,100%,100.0%);\">take </span><span style=\"background-color:hsl(202,100%,100.0%);\">another </span><span style=\"background-color:hsl(202,100%,100.0%);\">c </span><span style=\"background-color:hsl(202,100%,100.0%);\">am </span><span style=\"background-color:hsl(202,100%,100.0%);\">labs </span><span style=\"background-color:hsl(202,100%,100.0%);\">. </span><span style=\"background-color:hsl(202,100%,100.0%);\">ls </span><span style=\"background-color:hsl(202,100%,100.0%);\">clear </span><span style=\"background-color:hsl(202,100%,100.0%);\">, </span><span style=\"background-color:hsl(202,100%,100.0%);\">dim </span><span style=\"background-color:hsl(202,100%,100.0%);\">on </span><span style=\"background-color:hsl(202,100%,100.0%);\">lll </span><span style=\"background-color:hsl(202,100%,100.0%);\">. </span><span style=\"background-color:hsl(202,100%,100.0%);\">sm </span><span style=\"background-color:hsl(202,100%,100.0%);\">amt </span><span style=\"background-color:hsl(202,100%,100.0%);\">white </span><span style=\"background-color:hsl(202,100%,100.0%);\">secretions </span><span style=\"background-color:hsl(202,100%,100.0%);\">, </span><span style=\"background-color:hsl(202,100%,100.0%);\">sx </span><span style=\"background-color:hsl(202,100%,100.0%);\">infreq </span><span style=\"background-color:hsl(202,100%,100.0%);\">. </span><span style=\"background-color:hsl(202,100%,100.0%);\">plan </span><span style=\"background-color:hsl(202,100%,100.0%);\">to </span><span style=\"background-color:hsl(202,100%,100.0%);\">extubate </span><span style=\"background-color:hsl(202,100%,100.0%);\">in </span><span style=\"background-color:hsl(202,100%,100.0%);\">am </span><span style=\"background-color:hsl(202,100%,100.0%);\">. </span><span style=\"background-color:hsl(202,100%,100.0%);\">cv </span><span style=\"background-color:hsl(202,100%,100.0%);\">: </span><span style=\"background-color:hsl(202,100%,100.0%);\">at </span><span style=\"background-color:hsl(202,100%,100.0%);\">2340 </span><span style=\"background-color:hsl(202,100%,100.0%);\">, </span><span style=\"background-color:hsl(202,100%,100.0%);\">sbp </span><span style=\"background-color:hsl(202,100%,100.0%);\">dropped </span><span style=\"background-color:hsl(202,100%,100.0%);\">to </span><span style=\"background-color:hsl(202,100%,100.0%);\">80 </span><span style=\"background-color:hsl(202,100%,100.0%);\">/ </span><span style=\"background-color:hsl(202,100%,100.0%);\">37 </span><span style=\"background-color:hsl(202,100%,100.0%);\">, </span><span style=\"background-color:hsl(202,100%,100.0%);\">required </span><span style=\"background-color:hsl(202,100%,100.0%);\">700 </span><span style=\"background-color:hsl(202,100%,100.0%);\">ml </span><span style=\"background-color:hsl(202,100%,100.0%);\">fld </span><span style=\"background-color:hsl(202,100%,100.0%);\">bolus </span><span style=\"background-color:hsl(202,100%,100.0%);\">to </span><span style=\"background-color:hsl(202,100%,100.0%);\">get </span><span style=\"background-color:hsl(202,100%,100.0%);\">up </span><span style=\"background-color:hsl(202,100%,100.0%);\">and </span><span style=\"background-color:hsl(202,100%,100.0%);\">sustain </span><span style=\"background-color:hsl(202,100%,100.0%);\">&gt; </span><span style=\"background-color:hsl(202,100%,100.0%);\">90 </span><span style=\"background-color:hsl(202,100%,100.0%);\">. </span><span style=\"background-color:hsl(202,100%,100.0%);\">sbp </span><span style=\"background-color:hsl(202,100%,100.0%);\">has </span><span style=\"background-color:hsl(202,100%,100.0%);\">remained </span><span style=\"background-color:hsl(202,100%,100.0%);\">&gt; </span><span style=\"background-color:hsl(202,100%,100.0%);\">100 </span><span style=\"background-color:hsl(202,100%,100.0%);\">since </span><span style=\"background-color:hsl(202,100%,100.0%);\">. </span><span style=\"background-color:hsl(202,100%,100.0%);\">received </span><span style=\"background-color:hsl(202,100%,100.0%);\">pt </span><span style=\"background-color:hsl(202,100%,100.0%);\">in </span><span style=\"background-color:hsl(202,100%,100.0%);\">nsr </span><span style=\"background-color:hsl(202,100%,100.0%);\">80 </span><span style=\"background-color:hsl(202,100%,100.0%);\">s </span><span style=\"background-color:hsl(202,100%,100.0%);\">- </span><span style=\"background-color:hsl(202,100%,100.0%);\">90 </span><span style=\"background-color:hsl(202,100%,100.0%);\">s </span><span style=\"background-color:hsl(202,100%,100.0%);\">, </span><span style=\"background-color:hsl(202,100%,100.0%);\">went </span><span style=\"background-color:hsl(202,100%,100.0%);\">to </span><span style=\"background-color:hsl(202,100%,100.0%);\">afib </span><span style=\"background-color:hsl(202,100%,100.0%);\">~ </span><span style=\"background-color:hsl(202,100%,100.0%);\">0200 </span><span style=\"background-color:hsl(202,100%,100.0%);\">, </span><span style=\"background-color:hsl(202,100%,100.0%);\">gave </span><span style=\"background-color:hsl(202,100%,100.0%);\">metoprolol </span><span style=\"background-color:hsl(202,100%,100.0%);\">5 </span><span style=\"background-color:hsl(202,100%,100.0%);\">mg </span><span style=\"background-color:hsl(202,100%,100.0%);\">iv </span><span style=\"background-color:hsl(202,100%,100.0%);\">and </span><span style=\"background-color:hsl(202,100%,100.0%);\">started </span><span style=\"background-color:hsl(202,100%,100.0%);\">magnesium </span><span style=\"background-color:hsl(202,100%,100.0%);\">repletion </span><span style=\"background-color:hsl(202,100%,100.0%);\">of </span><span style=\"background-color:hsl(202,100%,100.0%);\">3 </span><span style=\"background-color:hsl(202,100%,100.0%);\">gms </span><span style=\"background-color:hsl(202,100%,100.0%);\">. </span><span style=\"background-color:hsl(202,100%,100.0%);\">afib </span><span style=\"background-color:hsl(202,100%,100.0%);\">cont </span><span style=\"background-color:hsl(202,100%,100.0%);\">, </span><span style=\"background-color:hsl(202,100%,100.0%);\">rate </span><span style=\"background-color:hsl(202,100%,100.0%);\">in </span><span style=\"background-color:hsl(202,100%,100.0%);\">80 </span><span style=\"background-color:hsl(202,100%,100.0%);\">s </span><span style=\"background-color:hsl(202,100%,100.0%);\">. </span><span style=\"background-color:hsl(202,100%,100.0%);\">also </span><span style=\"background-color:hsl(202,100%,100.0%);\">repleted </span><span style=\"background-color:hsl(202,100%,100.0%);\">calcium </span><span style=\"background-color:hsl(202,100%,100.0%);\">and </span><span style=\"background-color:hsl(202,100%,100.0%);\">kcl </span><span style=\"background-color:hsl(202,100%,100.0%);\">. </span><span style=\"background-color:hsl(202,100%,100.0%);\">kcl </span><span style=\"background-color:hsl(202,100%,100.0%);\">still </span><span style=\"background-color:hsl(202,100%,100.0%);\">running </span><span style=\"background-color:hsl(202,100%,100.0%);\">while </span><span style=\"background-color:hsl(202,100%,100.0%);\">am </span><span style=\"background-color:hsl(202,100%,100.0%);\">labs </span><span style=\"background-color:hsl(202,100%,100.0%);\">drawn </span><span style=\"background-color:hsl(202,100%,100.0%);\">. </span><span style=\"background-color:hsl(202,100%,100.0%);\">hct </span><span style=\"background-color:hsl(202,100%,100.0%);\">stable </span><span style=\"background-color:hsl(202,100%,100.0%);\">at </span><span style=\"background-color:hsl(202,100%,100.0%);\">29.7 </span><span style=\"background-color:hsl(202,100%,100.0%);\">, </span><span style=\"background-color:hsl(202,100%,100.0%);\">wbc </span><span style=\"background-color:hsl(202,100%,100.0%);\">12.1 </span><span style=\"background-color:hsl(202,100%,100.0%);\">. </span><span style=\"background-color:hsl(202,100%,100.0%);\">pt </span><span style=\"background-color:hsl(202,100%,100.0%);\">receiving </span><span style=\"background-color:hsl(202,100%,100.0%);\">cefazolin </span><span style=\"background-color:hsl(202,100%,100.0%);\">and </span><span style=\"background-color:hsl(202,100%,100.0%);\">cephalexin </span><span style=\"background-color:hsl(202,100%,100.0%);\">. </span><span style=\"background-color:hsl(202,100%,100.0%);\">afebrile </span><span style=\"background-color:hsl(202,100%,100.0%);\">. </span><span style=\"background-color:hsl(202,100%,100.0%);\">gi </span><span style=\"background-color:hsl(202,100%,100.0%);\">: </span><span style=\"background-color:hsl(202,100%,100.0%);\">placed </span><span style=\"background-color:hsl(202,100%,100.0%);\">og </span><span style=\"background-color:hsl(202,100%,100.0%);\">tube </span><span style=\"background-color:hsl(202,100%,100.0%);\">and </span><span style=\"background-color:hsl(202,100%,100.0%);\">confirmed </span><span style=\"background-color:hsl(202,100%,100.0%);\">by </span><span style=\"background-color:hsl(202,100%,100.0%);\">cxr </span><span style=\"background-color:hsl(202,100%,100.0%);\">. </span><span style=\"background-color:hsl(202,100%,100.0%);\">receiving </span><span style=\"background-color:hsl(202,100%,100.0%);\">meds </span><span style=\"background-color:hsl(202,100%,100.0%);\">. </span><span style=\"background-color:hsl(202,100%,100.0%);\">hypoactive </span><span style=\"background-color:hsl(202,100%,100.0%);\">bs </span><span style=\"background-color:hsl(202,100%,100.0%);\">, </span><span style=\"background-color:hsl(202,100%,100.0%);\">abd </span><span style=\"background-color:hsl(202,100%,100.0%);\">obese </span><span style=\"background-color:hsl(202,100%,100.0%);\">, </span><span style=\"background-color:hsl(202,100%,100.0%);\">soft </span><span style=\"background-color:hsl(202,100%,100.0%);\">. </span><span style=\"background-color:hsl(202,100%,100.0%);\">no </span><span style=\"background-color:hsl(202,100%,100.0%);\">stool </span><span style=\"background-color:hsl(202,100%,100.0%);\">. </span><span style=\"background-color:hsl(202,100%,100.0%);\">gu </span><span style=\"background-color:hsl(202,100%,100.0%);\">: </span><span style=\"background-color:hsl(202,100%,100.0%);\">adequate </span><span style=\"background-color:hsl(202,100%,100.0%);\">u </span><span style=\"background-color:hsl(202,100%,100.0%);\">/ </span><span style=\"background-color:hsl(202,100%,100.0%);\">o </span><span style=\"background-color:hsl(202,100%,100.0%);\">&gt; </span><span style=\"background-color:hsl(202,100%,100.0%);\">100 </span><span style=\"background-color:hsl(202,100%,100.0%);\">mls </span><span style=\"background-color:hsl(202,100%,100.0%);\">/ </span><span style=\"background-color:hsl(202,100%,100.0%);\">hr </span><span style=\"background-color:hsl(202,100%,100.0%);\">, </span><span style=\"background-color:hsl(202,100%,100.0%);\">clear </span><span style=\"background-color:hsl(202,100%,100.0%);\">, </span><span style=\"background-color:hsl(202,100%,100.0%);\">yellow </span><span style=\"background-color:hsl(202,100%,100.0%);\">urine </span><span style=\"background-color:hsl(202,100%,100.0%);\">. </span><span style=\"background-color:hsl(202,100%,100.0%);\">pt </span><span style=\"background-color:hsl(202,100%,100.0%);\">positive </span><span style=\"background-color:hsl(202,100%,100.0%);\">3.5 </span><span style=\"background-color:hsl(202,100%,100.0%);\">l </span><span style=\"background-color:hsl(202,100%,100.0%);\">los </span><span style=\"background-color:hsl(202,100%,100.0%);\">. </span><span style=\"background-color:hsl(202,100%,100.0%);\">skin </span><span style=\"background-color:hsl(202,100%,100.0%);\">: </span><span style=\"background-color:hsl(202,100%,100.0%);\">l </span><span style=\"background-color:hsl(202,100%,100.0%);\">hip </span><span style=\"background-color:hsl(202,100%,100.0%);\">dsg </span><span style=\"background-color:hsl(202,100%,100.0%);\">d </span><span style=\"background-color:hsl(202,100%,100.0%);\">&amp; </span><span style=\"background-color:hsl(202,100%,100.0%);\">i. </span><span style=\"background-color:hsl(202,100%,100.0%);\">hemovac </span><span style=\"background-color:hsl(202,100%,100.0%);\">drain </span><span style=\"background-color:hsl(202,100%,100.0%);\">emptied </span><span style=\"background-color:hsl(202,100%,100.0%);\">at </span><span style=\"background-color:hsl(202,100%,100.0%);\">0300 </span><span style=\"background-color:hsl(202,100%,100.0%);\">for </span><span style=\"background-color:hsl(202,100%,100.0%);\">240 </span><span style=\"background-color:hsl(202,100%,100.0%);\">mls </span><span style=\"background-color:hsl(202,100%,100.0%);\">bloody </span><span style=\"background-color:hsl(202,100%,100.0%);\">fld </span><span style=\"background-color:hsl(202,100%,100.0%);\">. </span><span style=\"background-color:hsl(202,100%,100.0%);\">has </span><span style=\"background-color:hsl(202,100%,100.0%);\">1 </span><span style=\"background-color:hsl(202,100%,100.0%);\">cm </span><span style=\"background-color:hsl(202,100%,100.0%);\">skin </span><span style=\"background-color:hsl(202,100%,100.0%);\">tear </span><span style=\"background-color:hsl(202,100%,100.0%);\">, </span><span style=\"background-color:hsl(202,100%,100.0%);\">open </span><span style=\"background-color:hsl(202,100%,100.0%);\">to </span><span style=\"background-color:hsl(202,100%,100.0%);\">air </span><span style=\"background-color:hsl(202,100%,100.0%);\">. </span><span style=\"background-color:hsl(202,100%,100.0%);\">social </span><span style=\"background-color:hsl(202,100%,100.0%);\">: </span><span style=\"background-color:hsl(202,100%,100.0%);\">no </span><span style=\"background-color:hsl(202,100%,100.0%);\">phone </span><span style=\"background-color:hsl(202,100%,100.0%);\">calls </span><span style=\"background-color:hsl(202,100%,100.0%);\">. </span><span style=\"background-color:hsl(202,100%,100.0%);\">pt </span><span style=\"background-color:hsl(202,100%,100.0%);\">has </span><span style=\"background-color:hsl(202,100%,100.0%);\">2 </span><span style=\"background-color:hsl(202,100%,100.0%);\">siblings </span><span style=\"background-color:hsl(202,100%,100.0%);\">. </span><span style=\"background-color:hsl(202,100%,100.0%);\">plan </span><span style=\"background-color:hsl(202,100%,100.0%);\">: </span><span style=\"background-color:hsl(202,100%,100.0%);\">cont </span><span style=\"background-color:hsl(202,100%,100.0%);\">to </span><span style=\"background-color:hsl(202,100%,100.0%);\">sedate </span><span style=\"background-color:hsl(202,100%,100.0%);\">and </span><span style=\"background-color:hsl(202,100%,100.0%);\">medicate </span><span style=\"background-color:hsl(202,100%,100.0%);\">for </span><span style=\"background-color:hsl(202,100%,100.0%);\">pain </span><span style=\"background-color:hsl(202,100%,100.0%);\">per </span><span style=\"background-color:hsl(202,100%,100.0%);\">vs </span><span style=\"background-color:hsl(202,100%,100.0%);\">. </span><span style=\"background-color:hsl(202,100%,100.0%);\">wean </span><span style=\"background-color:hsl(202,100%,100.0%);\">vent </span><span style=\"background-color:hsl(202,100%,100.0%);\">as </span><span style=\"background-color:hsl(202,100%,100.0%);\">tol </span><span style=\"background-color:hsl(202,100%,100.0%);\">. </span><span style=\"background-color:hsl(202,100%,100.0%);\">per </span><span style=\"background-color:hsl(202,100%,100.0%);\">team </span><span style=\"background-color:hsl(202,100%,100.0%);\">. </span><span style=\"background-color:hsl(202,100%,100.0%);\">f </span><span style=\"background-color:hsl(202,100%,100.0%);\">/ </span><span style=\"background-color:hsl(202,100%,100.0%);\">u </span><span style=\"background-color:hsl(202,100%,100.0%);\">on </span><span style=\"background-color:hsl(202,100%,100.0%);\">am </span><span style=\"background-color:hsl(202,100%,100.0%);\">labs </span><span style=\"background-color:hsl(202,100%,100.0%);\">and </span><span style=\"background-color:hsl(202,100%,100.0%);\">abg </span><span style=\"background-color:hsl(202,100%,100.0%);\">. </span><span style=\"background-color:hsl(202,100%,100.0%);\">monitor </span><span style=\"background-color:hsl(202,100%,100.0%);\">hr </span><span style=\"background-color:hsl(202,100%,100.0%);\">and </span><span style=\"background-color:hsl(202,100%,100.0%);\">sbp </span><span style=\"background-color:hsl(202,100%,100.0%);\">. </span><span style=\"background-color:hsl(202,100%,100.0%);\">empty </span><span style=\"background-color:hsl(202,100%,100.0%);\">hemovac </span><span style=\"background-color:hsl(202,100%,100.0%);\">q </span><span style=\"background-color:hsl(202,100%,100.0%);\">4 </span><span style=\"background-color:hsl(202,100%,100.0%);\">hrs </span><span style=\"background-color:hsl(202,100%,100.0%);\">, </span><span style=\"background-color:hsl(202,100%,100.0%);\">report </span><span style=\"background-color:hsl(202,100%,100.0%);\">drainage </span><span style=\"background-color:hsl(202,100%,100.0%);\">&gt; </span><span style=\"background-color:hsl(202,100%,100.0%);\">400 </span><span style=\"background-color:hsl(202,100%,100.0%);\">. </span><span style=\"background-color:hsl(202,100%,100.0%);\">&lt;EOS&gt; </span><span style=\"background-color:hsl(202,100%,100.0%);\">&lt;SOS&gt; </span><span style=\"background-color:hsl(202,100%,100.0%);\">resp </span><span style=\"background-color:hsl(202,100%,100.0%);\">care </span><span style=\"background-color:hsl(202,100%,100.0%);\">: </span><span style=\"background-color:hsl(202,100%,100.0%);\">pt </span><span style=\"background-color:hsl(202,100%,100.0%);\">adm </span><span style=\"background-color:hsl(202,100%,100.0%);\">from </span><span style=\"background-color:hsl(202,100%,100.0%);\">or </span><span style=\"background-color:hsl(202,100%,100.0%);\">after </span><span style=\"background-color:hsl(202,100%,100.0%);\">hip </span><span style=\"background-color:hsl(202,100%,100.0%);\">replacement </span><span style=\"background-color:hsl(202,100%,100.0%);\">intubated </span><span style=\"background-color:hsl(202,100%,100.0%);\">with </span><span style=\"background-color:hsl(202,100%,100.0%);\"># </span><span style=\"background-color:hsl(202,100%,100.0%);\">7.5 </span><span style=\"background-color:hsl(202,100%,100.0%);\">ett </span><span style=\"background-color:hsl(202,100%,100.0%);\">secured </span><span style=\"background-color:hsl(202,100%,100.0%);\">@ </span><span style=\"background-color:hsl(202,100%,100.0%);\">21 </span><span style=\"background-color:hsl(202,100%,100.0%);\">, </span><span style=\"background-color:hsl(202,100%,100.0%);\">advanced </span><span style=\"background-color:hsl(202,100%,100.0%);\">per </span><span style=\"background-color:hsl(202,100%,100.0%);\">cxr </span><span style=\"background-color:hsl(202,100%,100.0%);\">&amp; </span><span style=\"background-color:hsl(202,100%,100.0%);\">resecured </span><span style=\"background-color:hsl(202,100%,100.0%);\">@ </span><span style=\"background-color:hsl(202,100%,100.0%);\">23 </span><span style=\"background-color:hsl(202,100%,100.0%);\">@ </span><span style=\"background-color:hsl(202,100%,100.0%);\">lip </span><span style=\"background-color:hsl(202,100%,100.0%);\">, </span><span style=\"background-color:hsl(202,100%,100.0%);\">placed </span><span style=\"background-color:hsl(202,100%,100.0%);\">on </span><span style=\"background-color:hsl(202,100%,100.0%);\">ventilatory </span><span style=\"background-color:hsl(202,100%,100.0%);\">support </span><span style=\"background-color:hsl(202,100%,100.0%);\">with </span><span style=\"background-color:hsl(202,100%,100.0%);\">a </span><span style=\"background-color:hsl(202,100%,100.0%);\">/ </span><span style=\"background-color:hsl(202,100%,100.0%);\">c </span><span style=\"background-color:hsl(202,100%,100.0%);\">, </span><span style=\"background-color:hsl(202,100%,100.0%);\">settings </span><span style=\"background-color:hsl(202,100%,100.0%);\">titrated </span><span style=\"background-color:hsl(202,100%,100.0%);\">to </span><span style=\"background-color:hsl(202,100%,100.0%);\">abg </span><span style=\"background-color:hsl(202,100%,100.0%);\">; </span><span style=\"background-color:hsl(202,100%,100.0%);\">bs </span><span style=\"background-color:hsl(202,100%,100.0%);\">diminished </span><span style=\"background-color:hsl(202,100%,100.0%);\">throughout </span><span style=\"background-color:hsl(202,100%,100.0%);\">, </span><span style=\"background-color:hsl(202,100%,100.0%);\">sxn </span><span style=\"background-color:hsl(202,100%,100.0%);\">thick </span><span style=\"background-color:hsl(202,100%,100.0%);\">white </span><span style=\"background-color:hsl(202,100%,100.0%);\">secretions </span><span style=\"background-color:hsl(202,100%,100.0%);\">, </span><span style=\"background-color:hsl(202,100%,100.0%);\">rsbi </span><span style=\"background-color:hsl(202,100%,100.0%);\">n </span><span style=\"background-color:hsl(202,100%,100.0%);\">/ </span><span style=\"background-color:hsl(202,100%,100.0%);\">a </span><span style=\"background-color:hsl(202,100%,100.0%);\">d </span><span style=\"background-color:hsl(202,100%,100.0%);\">/ </span><span style=\"background-color:hsl(202,100%,100.0%);\">t </span><span style=\"background-color:hsl(202,100%,100.0%);\">apnea </span><span style=\"background-color:hsl(202,100%,100.0%);\">, </span><span style=\"background-color:hsl(202,100%,100.0%);\">will </span><span style=\"background-color:hsl(202,100%,100.0%);\">wean </span><span style=\"background-color:hsl(202,100%,100.0%);\">when </span><span style=\"background-color:hsl(202,100%,100.0%);\">awake </span><span style=\"background-color:hsl(202,100%,100.0%);\">. </span><span style=\"background-color:hsl(202,100%,100.0%);\">&lt;EOS&gt; </span><span style=\"background-color:hsl(202,100%,100.0%);\">&lt;SOS&gt; </span><span style=\"background-color:hsl(202,100%,100.0%);\">micu_east_npn </span><span style=\"background-color:hsl(202,100%,100.0%);\">0700 </span><span style=\"background-color:hsl(202,100%,100.0%);\">- </span><span style=\"background-color:hsl(202,100%,100.0%);\">1500 </span><span style=\"background-color:hsl(202,100%,100.0%);\">please </span><span style=\"background-color:hsl(202,100%,100.0%);\">see </span><span style=\"background-color:hsl(202,100%,100.0%);\">flowsheet </span><span style=\"background-color:hsl(202,100%,100.0%);\">for </span><span style=\"background-color:hsl(202,100%,100.0%);\">further </span><span style=\"background-color:hsl(202,100%,100.0%);\">details </span><span style=\"background-color:hsl(202,100%,100.0%);\">.. </span><span style=\"background-color:hsl(202,100%,100.0%);\">extubated </span><span style=\"background-color:hsl(202,100%,100.0%);\">without </span><span style=\"background-color:hsl(202,100%,100.0%);\">incident </span><span style=\"background-color:hsl(202,100%,100.0%);\">. </span><span style=\"background-color:hsl(202,100%,100.0%);\">maintaining </span><span style=\"background-color:hsl(202,100%,100.0%);\">gd </span><span style=\"background-color:hsl(202,100%,100.0%);\">o </span><span style=\"background-color:hsl(202,100%,100.0%);\">2 </span><span style=\"background-color:hsl(202,100%,100.0%);\">sats </span><span style=\"background-color:hsl(202,100%,100.0%);\">in </span><span style=\"background-color:hsl(202,100%,100.0%);\">50 </span><span style=\"background-color:hsl(202,100%,100.0%);\">% </span><span style=\"background-color:hsl(202,100%,100.0%);\">ft </span><span style=\"background-color:hsl(202,100%,100.0%);\">. </span><span style=\"background-color:hsl(202,100%,100.0%);\">ra_o </span><span style=\"background-color:hsl(202,100%,100.0%);\">2 </span><span style=\"background-color:hsl(202,100%,100.0%);\">sats </span><span style=\"background-color:hsl(202,100%,100.0%);\">91 </span><span style=\"background-color:hsl(202,100%,100.0%);\">% </span><span style=\"background-color:hsl(202,100%,100.0%);\">. </span><span style=\"background-color:hsl(202,100%,100.0%);\">a </span><span style=\"background-color:hsl(202,100%,100.0%);\">&amp; </span><span style=\"background-color:hsl(202,100%,100.0%);\">o </span><span style=\"background-color:hsl(202,100%,100.0%);\">x </span><span style=\"background-color:hsl(202,100%,100.0%);\">3 </span><span style=\"background-color:hsl(202,100%,100.0%);\">. </span><span style=\"background-color:hsl(202,100%,100.0%);\">pain </span><span style=\"background-color:hsl(202,100%,100.0%);\">controll </span><span style=\"background-color:hsl(202,100%,100.0%);\">a </span><span style=\"background-color:hsl(202,100%,100.0%);\">major </span><span style=\"background-color:hsl(202,100%,100.0%);\">issue </span><span style=\"background-color:hsl(202,100%,100.0%);\">. </span><span style=\"background-color:hsl(202,100%,100.0%);\">currently </span><span style=\"background-color:hsl(202,100%,100.0%);\">on </span><span style=\"background-color:hsl(202,100%,100.0%);\">a </span><span style=\"background-color:hsl(202,100%,100.0%);\">ketamine </span><span style=\"background-color:hsl(202,100%,100.0%);\">gtt </span><span style=\"background-color:hsl(202,100%,100.0%);\">at </span><span style=\"background-color:hsl(202,100%,100.0%);\">12 </span><span style=\"background-color:hsl(202,100%,100.0%);\">mg </span><span style=\"background-color:hsl(202,100%,100.0%);\">/ </span><span style=\"background-color:hsl(202,100%,100.0%);\">hr </span><span style=\"background-color:hsl(202,100%,100.0%);\">. </span><span style=\"background-color:hsl(202,100%,100.0%);\">plan </span><span style=\"background-color:hsl(202,100%,100.0%);\">to </span><span style=\"background-color:hsl(202,100%,100.0%);\">start </span><span style=\"background-color:hsl(202,100%,100.0%);\">dilaudid </span><span style=\"background-color:hsl(202,100%,100.0%);\">pca </span><span style=\"background-color:hsl(202,100%,100.0%);\">as </span><span style=\"background-color:hsl(202,100%,100.0%);\">well </span><span style=\"background-color:hsl(202,100%,100.0%);\">when </span><span style=\"background-color:hsl(202,100%,100.0%);\">available </span><span style=\"background-color:hsl(202,100%,100.0%);\">. </span><span style=\"background-color:hsl(202,100%,100.0%);\">sleeping </span><span style=\"background-color:hsl(202,100%,100.0%);\">when </span><span style=\"background-color:hsl(202,100%,100.0%);\">undisturbed </span><span style=\"background-color:hsl(202,100%,100.0%);\">. </span><span style=\"background-color:hsl(202,100%,100.0%);\">baseline </span><span style=\"background-color:hsl(202,100%,100.0%);\">pain </span><span style=\"background-color:hsl(202,100%,100.0%);\">scale </span><span style=\"background-color:hsl(202,100%,100.0%);\">at </span><span style=\"background-color:hsl(202,100%,100.0%);\">home </span><span style=\"background-color:hsl(202,100%,100.0%);\">is </span><span style=\"background-color:hsl(202,100%,100.0%);\">a </span><span style=\"background-color:hsl(202,100%,100.0%);\">6 </span><span style=\"background-color:hsl(202,100%,100.0%);\">per </span><span style=\"background-color:hsl(202,100%,100.0%);\">pt </span><span style=\"background-color:hsl(202,100%,100.0%);\">which </span><span style=\"background-color:hsl(202,100%,100.0%);\">is </span><span style=\"background-color:hsl(202,100%,100.0%);\">\" </span><span style=\"background-color:hsl(202,100%,100.0%);\">tolerable </span><span style=\"background-color:hsl(202,100%,100.0%);\">\" </span><span style=\"background-color:hsl(202,100%,100.0%);\">. </span><span style=\"background-color:hsl(202,100%,100.0%);\">see </span><span style=\"background-color:hsl(202,100%,100.0%);\">pain </span><span style=\"background-color:hsl(202,100%,100.0%);\">team </span><span style=\"background-color:hsl(202,100%,100.0%);\">recs </span><span style=\"background-color:hsl(202,100%,100.0%);\">in </span><span style=\"background-color:hsl(202,100%,100.0%);\">chart </span><span style=\"background-color:hsl(202,100%,100.0%);\">. </span><span style=\"background-color:hsl(202,100%,100.0%);\">in </span><span style=\"background-color:hsl(202,100%,100.0%);\">af </span><span style=\"background-color:hsl(202,100%,100.0%);\">. </span><span style=\"background-color:hsl(202,100%,100.0%);\">post </span><span style=\"background-color:hsl(202,100%,100.0%);\">extubation </span><span style=\"background-color:hsl(202,100%,100.0%);\">his </span><span style=\"background-color:hsl(202,100%,100.0%);\">hr </span><span style=\"background-color:hsl(202,100%,100.0%);\">up </span><span style=\"background-color:hsl(202,100%,100.0%);\">to </span><span style=\"background-color:hsl(202,100%,100.0%);\">130 </span><span style=\"background-color:hsl(202,100%,100.0%);\">s </span><span style=\"background-color:hsl(202,100%,100.0%);\">. </span><span style=\"background-color:hsl(202,100%,100.0%);\">given </span><span style=\"background-color:hsl(202,100%,100.0%);\">metroprolol </span><span style=\"background-color:hsl(202,100%,100.0%);\">5 </span><span style=\"background-color:hsl(202,100%,100.0%);\">mg </span><span style=\"background-color:hsl(202,100%,100.0%);\">iv </span><span style=\"background-color:hsl(202,100%,100.0%);\">x </span><span style=\"background-color:hsl(202,100%,100.0%);\">2 </span><span style=\"background-color:hsl(202,100%,100.0%);\">and </span><span style=\"background-color:hsl(202,100%,100.0%);\">started </span><span style=\"background-color:hsl(202,100%,100.0%);\">on </span><span style=\"background-color:hsl(202,100%,100.0%);\">regular </span><span style=\"background-color:hsl(202,100%,100.0%);\">po </span><span style=\"background-color:hsl(202,100%,100.0%);\">dosage </span><span style=\"background-color:hsl(202,100%,100.0%);\">. </span><span style=\"background-color:hsl(202,100%,100.0%);\">current </span><span style=\"background-color:hsl(202,100%,100.0%);\">hr </span><span style=\"background-color:hsl(202,100%,100.0%);\">104 </span><span style=\"background-color:hsl(202,100%,100.0%);\">af </span><span style=\"background-color:hsl(202,100%,100.0%);\">w </span><span style=\"background-color:hsl(202,100%,100.0%);\">/ </span><span style=\"background-color:hsl(202,100%,100.0%);\">bp </span><span style=\"background-color:hsl(202,100%,100.0%);\">104 </span><span style=\"background-color:hsl(202,100%,100.0%);\">/ </span><span style=\"background-color:hsl(202,100%,100.0%);\">57 </span><span style=\"background-color:hsl(202,100%,100.0%);\">. </span><span style=\"background-color:hsl(202,100%,100.0%);\">adb </span><span style=\"background-color:hsl(202,100%,100.0%);\">/ </span><span style=\"background-color:hsl(202,100%,100.0%);\">hip </span><span style=\"background-color:hsl(202,100%,100.0%);\">dsd </span><span style=\"background-color:hsl(202,100%,100.0%);\">intact </span><span style=\"background-color:hsl(202,100%,100.0%);\">. </span><span style=\"background-color:hsl(202,100%,100.0%);\">hemovac </span><span style=\"background-color:hsl(202,100%,100.0%);\">drained </span><span style=\"background-color:hsl(202,100%,100.0%);\">100 </span><span style=\"background-color:hsl(202,100%,100.0%);\">cc </span><span style=\"background-color:hsl(202,100%,100.0%);\">this </span><span style=\"background-color:hsl(202,100%,100.0%);\">shift </span><span style=\"background-color:hsl(202,100%,100.0%);\">. </span><span style=\"background-color:hsl(202,100%,100.0%);\">tol </span><span style=\"background-color:hsl(202,100%,100.0%);\">po </span><span style=\"background-color:hsl(202,100%,100.0%);\">liqs </span><span style=\"background-color:hsl(202,100%,100.0%);\">. </span><span style=\"background-color:hsl(202,100%,100.0%);\">diet </span><span style=\"background-color:hsl(202,100%,100.0%);\">advanced </span><span style=\"background-color:hsl(202,100%,100.0%);\">but </span><span style=\"background-color:hsl(202,100%,100.0%);\">pt </span><span style=\"background-color:hsl(202,100%,100.0%);\">does </span><span style=\"background-color:hsl(202,100%,100.0%);\">not </span><span style=\"background-color:hsl(202,100%,100.0%);\">feel </span><span style=\"background-color:hsl(202,100%,100.0%);\">like </span><span style=\"background-color:hsl(202,100%,100.0%);\">eating </span><span style=\"background-color:hsl(202,100%,100.0%);\">at </span><span style=\"background-color:hsl(202,100%,100.0%);\">this </span><span style=\"background-color:hsl(202,100%,100.0%);\">time </span><span style=\"background-color:hsl(202,100%,100.0%);\">. </span><span style=\"background-color:hsl(202,100%,100.0%);\">wife </span><span style=\"background-color:hsl(202,100%,100.0%);\">called </span><span style=\"background-color:hsl(202,100%,100.0%);\">. </span><span style=\"background-color:hsl(202,100%,100.0%);\">visitors </span><span style=\"background-color:hsl(202,100%,100.0%);\">. </span><span style=\"background-color:hsl(202,100%,100.0%);\">&lt;EOS&gt; </span><span style=\"background-color:hsl(202,100%,100.0%);\">&lt;SOS&gt; </span><span style=\"background-color:hsl(202,100%,100.0%);\">micu_npn </span><span style=\"background-color:hsl(202,100%,100.0%);\">3 </span><span style=\"background-color:hsl(202,100%,100.0%);\">pm </span><span style=\"background-color:hsl(202,100%,100.0%);\">- </span><span style=\"background-color:hsl(202,100%,100.0%);\">7 </span><span style=\"background-color:hsl(202,100%,100.0%);\">pm </span><span style=\"background-color:hsl(202,100%,100.0%);\">: </span><span style=\"background-color:hsl(202,100%,100.0%);\">neuro </span><span style=\"background-color:hsl(202,100%,100.0%);\">: </span><span style=\"background-color:hsl(202,100%,100.0%);\">pt </span><span style=\"background-color:hsl(202,100%,100.0%);\">alert </span><span style=\"background-color:hsl(202,100%,100.0%);\">and </span><span style=\"background-color:hsl(202,100%,100.0%);\">oriented </span><span style=\"background-color:hsl(202,100%,100.0%);\">times </span><span style=\"background-color:hsl(202,100%,100.0%);\">three </span><span style=\"background-color:hsl(202,100%,100.0%);\">. </span><span style=\"background-color:hsl(202,100%,100.0%);\">turned </span><span style=\"background-color:hsl(202,100%,100.0%);\">side </span><span style=\"background-color:hsl(202,100%,100.0%);\">to </span><span style=\"background-color:hsl(202,100%,100.0%);\">side </span><span style=\"background-color:hsl(202,100%,100.0%);\">with </span><span style=\"background-color:hsl(202,100%,100.0%);\">four </span><span style=\"background-color:hsl(202,100%,100.0%);\">assist </span><span style=\"background-color:hsl(202,100%,100.0%);\">. </span><span style=\"background-color:hsl(202,100%,100.0%);\">pt </span><span style=\"background-color:hsl(202,100%,100.0%);\">in </span><span style=\"background-color:hsl(202,100%,100.0%);\">pain </span><span style=\"background-color:hsl(202,100%,100.0%);\">and </span><span style=\"background-color:hsl(202,100%,100.0%);\">calling </span><span style=\"background-color:hsl(202,100%,100.0%);\">out </span><span style=\"background-color:hsl(202,100%,100.0%);\">in </span><span style=\"background-color:hsl(202,100%,100.0%);\">pain </span><span style=\"background-color:hsl(202,100%,100.0%);\">at </span><span style=\"background-color:hsl(202,100%,100.0%);\">times </span><span style=\"background-color:hsl(202,100%,100.0%);\">. </span><span style=\"background-color:hsl(202,100%,100.0%);\">continues </span><span style=\"background-color:hsl(202,100%,100.0%);\">on </span><span style=\"background-color:hsl(202,100%,100.0%);\">ketamine </span><span style=\"background-color:hsl(202,100%,100.0%);\">infusion </span><span style=\"background-color:hsl(202,100%,100.0%);\">at </span><span style=\"background-color:hsl(202,100%,100.0%);\">12 </span><span style=\"background-color:hsl(202,100%,100.0%);\">mg </span><span style=\"background-color:hsl(202,100%,100.0%);\">/ </span><span style=\"background-color:hsl(202,100%,100.0%);\">hr </span><span style=\"background-color:hsl(202,100%,100.0%);\">and </span><span style=\"background-color:hsl(202,100%,100.0%);\">dilaudid </span><span style=\"background-color:hsl(202,100%,100.0%);\">pca </span><span style=\"background-color:hsl(202,100%,100.0%);\">. </span><span style=\"background-color:hsl(202,100%,100.0%);\">37 </span><span style=\"background-color:hsl(202,100%,100.0%);\">mg </span><span style=\"background-color:hsl(202,100%,100.0%);\">with </span><span style=\"background-color:hsl(202,100%,100.0%);\">6 </span><span style=\"background-color:hsl(202,100%,100.0%);\">min </span><span style=\"background-color:hsl(202,100%,100.0%);\">lockout </span><span style=\"background-color:hsl(202,100%,100.0%);\">time </span><span style=\"background-color:hsl(202,100%,100.0%);\">. </span><span style=\"background-color:hsl(202,100%,100.0%);\">max </span><span style=\"background-color:hsl(202,100%,100.0%);\">dose </span><span style=\"background-color:hsl(202,100%,100.0%);\">in </span><span style=\"background-color:hsl(202,100%,100.0%);\">one </span><span style=\"background-color:hsl(202,100%,100.0%);\">hour </span><span style=\"background-color:hsl(202,100%,100.0%);\">is </span><span style=\"background-color:hsl(202,100%,100.0%);\">3.7 </span><span style=\"background-color:hsl(202,100%,100.0%);\">mg </span><span style=\"background-color:hsl(202,100%,100.0%);\">. </span><span style=\"background-color:hsl(202,100%,100.0%);\">pt </span><span style=\"background-color:hsl(202,100%,100.0%);\">also </span><span style=\"background-color:hsl(202,100%,100.0%);\">receiving </span><span style=\"background-color:hsl(202,100%,100.0%);\">tylenol </span><span style=\"background-color:hsl(202,100%,100.0%);\">650 </span><span style=\"background-color:hsl(202,100%,100.0%);\">mg </span><span style=\"background-color:hsl(202,100%,100.0%);\">po_q </span><span style=\"background-color:hsl(202,100%,100.0%);\">6 </span><span style=\"background-color:hsl(202,100%,100.0%);\">hr </span><span style=\"background-color:hsl(202,100%,100.0%);\">for </span><span style=\"background-color:hsl(202,100%,100.0%);\">pain </span><span style=\"background-color:hsl(202,100%,100.0%);\">and </span><span style=\"background-color:hsl(202,100%,100.0%);\">baclofen </span><span style=\"background-color:hsl(202,100%,100.0%);\">for </span><span style=\"background-color:hsl(202,100%,100.0%);\">spasm </span><span style=\"background-color:hsl(202,100%,100.0%);\">. </span><span style=\"background-color:hsl(202,100%,100.0%);\">despite </span><span style=\"background-color:hsl(202,100%,100.0%);\">all </span><span style=\"background-color:hsl(202,100%,100.0%);\">this </span><span style=\"background-color:hsl(202,100%,100.0%);\">he </span><span style=\"background-color:hsl(202,100%,100.0%);\">has </span><span style=\"background-color:hsl(202,100%,100.0%);\">pain </span><span style=\"background-color:hsl(202,100%,100.0%);\">with </span><span style=\"background-color:hsl(202,100%,100.0%);\">any </span><span style=\"background-color:hsl(202,100%,100.0%);\">movement </span><span style=\"background-color:hsl(202,100%,100.0%);\">and </span><span style=\"background-color:hsl(202,100%,100.0%);\">some </span><span style=\"background-color:hsl(202,100%,100.0%);\">level </span><span style=\"background-color:hsl(202,100%,100.0%);\">of </span><span style=\"background-color:hsl(202,100%,100.0%);\">pain </span><span style=\"background-color:hsl(202,100%,100.0%);\">at </span><span style=\"background-color:hsl(202,100%,100.0%);\">rest </span><span style=\"background-color:hsl(202,100%,100.0%);\">. </span><span style=\"background-color:hsl(202,100%,100.0%);\">seen </span><span style=\"background-color:hsl(202,100%,100.0%);\">by </span><span style=\"background-color:hsl(202,100%,100.0%);\">pt </span><span style=\"background-color:hsl(202,100%,100.0%);\">who </span><span style=\"background-color:hsl(202,100%,100.0%);\">plan </span><span style=\"background-color:hsl(202,100%,100.0%);\">to </span><span style=\"background-color:hsl(202,100%,100.0%);\">start </span><span style=\"background-color:hsl(202,100%,100.0%);\">exercises </span><span style=\"background-color:hsl(202,100%,100.0%);\">tomorrow </span><span style=\"background-color:hsl(202,100%,100.0%);\">. </span><span style=\"background-color:hsl(202,100%,100.0%);\">cv </span><span style=\"background-color:hsl(202,100%,100.0%);\">: </span><span style=\"background-color:hsl(202,100%,100.0%);\">bp </span><span style=\"background-color:hsl(202,100%,100.0%);\">100 </span><span style=\"background-color:hsl(202,100%,100.0%);\">/ </span><span style=\"background-color:hsl(202,100%,100.0%);\">50 </span><span style=\"background-color:hsl(202,100%,100.0%);\">- </span><span style=\"background-color:hsl(202,100%,100.0%);\">11 </span><span style=\"background-color:hsl(202,100%,100.0%);\">/ </span><span style=\"background-color:hsl(202,100%,100.0%);\">60 </span><span style=\"background-color:hsl(202,100%,100.0%);\">. </span><span style=\"background-color:hsl(202,100%,100.0%);\">hr </span><span style=\"background-color:hsl(202,100%,100.0%);\">80 </span><span style=\"background-color:hsl(202,100%,100.0%);\">' </span><span style=\"background-color:hsl(202,100%,100.0%);\">s </span><span style=\"background-color:hsl(202,100%,100.0%);\">a </span><span style=\"background-color:hsl(202,100%,100.0%);\">- </span><span style=\"background-color:hsl(202,100%,100.0%);\">fib </span><span style=\"background-color:hsl(202,100%,100.0%);\">. </span><span style=\"background-color:hsl(202,100%,100.0%);\">pt </span><span style=\"background-color:hsl(202,100%,100.0%);\">to </span><span style=\"background-color:hsl(202,100%,100.0%);\">start </span><span style=\"background-color:hsl(202,100%,100.0%);\">coumadin </span><span style=\"background-color:hsl(202,100%,100.0%);\">tonight </span><span style=\"background-color:hsl(202,100%,100.0%);\">. </span><span style=\"background-color:hsl(202,100%,100.0%);\">hct </span><span style=\"background-color:hsl(202,100%,100.0%);\">28 </span><span style=\"background-color:hsl(202,100%,100.0%);\">today </span><span style=\"background-color:hsl(202,100%,100.0%);\">. </span><span style=\"background-color:hsl(202,100%,100.0%);\">not </span><span style=\"background-color:hsl(202,100%,100.0%);\">draining </span><span style=\"background-color:hsl(202,100%,100.0%);\">much </span><span style=\"background-color:hsl(202,100%,100.0%);\">from </span><span style=\"background-color:hsl(202,100%,100.0%);\">vac </span><span style=\"background-color:hsl(202,100%,100.0%);\">drain </span><span style=\"background-color:hsl(202,100%,100.0%);\">in </span><span style=\"background-color:hsl(202,100%,100.0%);\">incision </span><span style=\"background-color:hsl(202,100%,100.0%);\">so </span><span style=\"background-color:hsl(202,100%,100.0%);\">next </span><span style=\"background-color:hsl(202,100%,100.0%);\">hct </span><span style=\"background-color:hsl(202,100%,100.0%);\">due </span><span style=\"background-color:hsl(202,100%,100.0%);\">in </span><span style=\"background-color:hsl(202,100%,100.0%);\">am </span><span style=\"background-color:hsl(202,100%,100.0%);\">. </span><span style=\"background-color:hsl(202,100%,100.0%);\">resp </span><span style=\"background-color:hsl(202,100%,100.0%);\">: </span><span style=\"background-color:hsl(202,100%,100.0%);\">not </span><span style=\"background-color:hsl(202,100%,100.0%);\">wearing </span><span style=\"background-color:hsl(202,100%,100.0%);\">his </span><span style=\"background-color:hsl(202,100%,100.0%);\">o </span><span style=\"background-color:hsl(202,100%,100.0%);\">2 </span><span style=\"background-color:hsl(202,100%,100.0%);\">and </span><span style=\"background-color:hsl(202,100%,100.0%);\">rr </span><span style=\"background-color:hsl(202,100%,100.0%);\">14 </span><span style=\"background-color:hsl(202,100%,100.0%);\">- </span><span style=\"background-color:hsl(202,100%,100.0%);\">20 </span><span style=\"background-color:hsl(202,100%,100.0%);\">non </span><span style=\"background-color:hsl(202,100%,100.0%);\">- </span><span style=\"background-color:hsl(202,100%,100.0%);\">labored </span><span style=\"background-color:hsl(202,100%,100.0%);\">with </span><span style=\"background-color:hsl(202,100%,100.0%);\">sat </span><span style=\"background-color:hsl(202,100%,100.0%);\">98 </span><span style=\"background-color:hsl(202,100%,100.0%);\">% </span><span style=\"background-color:hsl(202,100%,100.0%);\">. </span><span style=\"background-color:hsl(202,100%,100.0%);\">lungs </span><span style=\"background-color:hsl(202,100%,100.0%);\">sounds </span><span style=\"background-color:hsl(202,100%,100.0%);\">deminished </span><span style=\"background-color:hsl(202,100%,100.0%);\">. </span><span style=\"background-color:hsl(202,100%,100.0%);\">gi </span><span style=\"background-color:hsl(202,100%,100.0%);\">: </span><span style=\"background-color:hsl(202,100%,100.0%);\">taking </span><span style=\"background-color:hsl(202,100%,100.0%);\">liquids </span><span style=\"background-color:hsl(202,100%,100.0%);\">without </span><span style=\"background-color:hsl(202,100%,100.0%);\">problems </span><span style=\"background-color:hsl(202,100%,100.0%);\">, </span><span style=\"background-color:hsl(202,100%,100.0%);\">not </span><span style=\"background-color:hsl(202,100%,100.0%);\">hungry </span><span style=\"background-color:hsl(202,100%,100.0%);\">for </span><span style=\"background-color:hsl(202,100%,100.0%);\">food </span><span style=\"background-color:hsl(202,100%,100.0%);\">yet </span><span style=\"background-color:hsl(202,100%,100.0%);\">. </span><span style=\"background-color:hsl(202,100%,100.0%);\">gu </span><span style=\"background-color:hsl(202,100%,100.0%);\">: </span><span style=\"background-color:hsl(202,100%,100.0%);\">uo </span><span style=\"background-color:hsl(202,100%,100.0%);\">is </span><span style=\"background-color:hsl(202,100%,100.0%);\">excellent </span><span style=\"background-color:hsl(202,100%,100.0%);\">via </span><span style=\"background-color:hsl(202,100%,100.0%);\">foley </span><span style=\"background-color:hsl(202,100%,100.0%);\">. </span><span style=\"background-color:hsl(202,100%,100.0%);\">id </span><span style=\"background-color:hsl(202,100%,100.0%);\">: </span><span style=\"background-color:hsl(202,100%,100.0%);\">spiked </span><span style=\"background-color:hsl(202,100%,100.0%);\">fever </span><span style=\"background-color:hsl(202,100%,100.0%);\">to </span><span style=\"background-color:hsl(202,100%,100.0%);\">101.7 </span><span style=\"background-color:hsl(202,100%,100.0%);\">at </span><span style=\"background-color:hsl(202,100%,100.0%);\">1600 </span><span style=\"background-color:hsl(202,100%,100.0%);\">. </span><span style=\"background-color:hsl(202,100%,100.0%);\">blood </span><span style=\"background-color:hsl(202,100%,100.0%);\">cultures </span><span style=\"background-color:hsl(202,100%,100.0%);\">and </span><span style=\"background-color:hsl(202,100%,100.0%);\">urine </span><span style=\"background-color:hsl(202,100%,100.0%);\">sent </span><span style=\"background-color:hsl(202,100%,100.0%);\">for </span><span style=\"background-color:hsl(202,100%,100.0%);\">culture </span><span style=\"background-color:hsl(202,100%,100.0%);\">. </span><span style=\"background-color:hsl(202,100%,100.0%);\">surgical </span><span style=\"background-color:hsl(202,100%,100.0%);\">service </span><span style=\"background-color:hsl(202,100%,100.0%);\">aware </span><span style=\"background-color:hsl(202,100%,100.0%);\">and </span><span style=\"background-color:hsl(202,100%,100.0%);\">are </span><span style=\"background-color:hsl(202,100%,100.0%);\">not </span><span style=\"background-color:hsl(202,100%,100.0%);\">&lt;UNK&gt; </span><span style=\"background-color:hsl(202,100%,100.0%);\">. </span><span style=\"background-color:hsl(202,100%,100.0%);\">left </span><span style=\"background-color:hsl(202,100%,100.0%);\">hip </span><span style=\"background-color:hsl(202,100%,100.0%);\">dressing </span><span style=\"background-color:hsl(202,100%,100.0%);\">is </span><span style=\"background-color:hsl(202,100%,100.0%);\">dry </span><span style=\"background-color:hsl(202,100%,100.0%);\">and </span><span style=\"background-color:hsl(202,100%,100.0%);\">intact </span><span style=\"background-color:hsl(202,100%,100.0%);\">. </span><span style=\"background-color:hsl(202,100%,100.0%);\">continues </span><span style=\"background-color:hsl(202,100%,100.0%);\">on </span><span style=\"background-color:hsl(202,100%,100.0%);\">po </span><span style=\"background-color:hsl(202,100%,100.0%);\">cefazolin </span><span style=\"background-color:hsl(202,100%,100.0%);\">500 </span><span style=\"background-color:hsl(202,100%,100.0%);\">mg </span><span style=\"background-color:hsl(202,100%,100.0%);\">qid </span><span style=\"background-color:hsl(202,100%,100.0%);\">as </span><span style=\"background-color:hsl(202,100%,100.0%);\">well </span><span style=\"background-color:hsl(202,100%,70.32480239868164%);\">as </span><span style=\"background-color:hsl(202,100%,100.0%);\">needs </span><span style=\"background-color:hsl(202,100%,100.0%);\">three </span><span style=\"background-color:hsl(202,100%,100.0%);\">more </span><span style=\"background-color:hsl(202,100%,100.0%);\">doses </span><span style=\"background-color:hsl(202,100%,100.0%);\">of </span><span style=\"background-color:hsl(202,100%,100.0%);\">iv </span><span style=\"background-color:hsl(202,100%,100.0%);\">cefazolin </span><span style=\"background-color:hsl(202,100%,100.0%);\">. </span><span style=\"background-color:hsl(202,100%,100.0%);\">plan </span><span style=\"background-color:hsl(202,100%,100.0%);\">: </span><span style=\"background-color:hsl(202,100%,100.0%);\">surgery </span><span style=\"background-color:hsl(202,100%,100.0%);\">has </span><span style=\"background-color:hsl(202,100%,100.0%);\">said </span><span style=\"background-color:hsl(202,100%,100.0%);\">pt </span><span style=\"background-color:hsl(202,100%,100.0%);\">can </span><span style=\"background-color:hsl(202,100%,100.0%);\">be </span><span style=\"background-color:hsl(202,100%,100.0%);\">called </span><span style=\"background-color:hsl(202,100%,100.0%);\">out </span><span style=\"background-color:hsl(202,100%,100.0%);\">to </span><span style=\"background-color:hsl(202,100%,100.0%);\">the </span><span style=\"background-color:hsl(202,100%,100.0%);\">floor </span><span style=\"background-color:hsl(202,100%,100.0%);\">. </span><span style=\"background-color:hsl(202,100%,100.0%);\">awaiting </span><span style=\"background-color:hsl(202,100%,100.0%);\">bed </span><span style=\"background-color:hsl(202,100%,100.0%);\">assignment </span><span style=\"background-color:hsl(202,100%,100.0%);\">at </span><span style=\"background-color:hsl(202,100%,100.0%);\">present </span><span style=\"background-color:hsl(202,100%,100.0%);\">. </span><span style=\"background-color:hsl(202,100%,100.0%);\">pt </span><span style=\"background-color:hsl(202,100%,100.0%);\">can </span><span style=\"background-color:hsl(202,100%,100.0%);\">be </span><span style=\"background-color:hsl(202,100%,100.0%);\">turned </span><span style=\"background-color:hsl(202,100%,100.0%);\">in </span><span style=\"background-color:hsl(202,100%,100.0%);\">bed </span><span style=\"background-color:hsl(202,100%,100.0%);\">with </span><span style=\"background-color:hsl(202,100%,100.0%);\">bed </span><span style=\"background-color:hsl(202,100%,100.0%);\">pillow </span><span style=\"background-color:hsl(202,100%,100.0%);\">placed </span><span style=\"background-color:hsl(202,100%,100.0%);\">between </span><span style=\"background-color:hsl(202,100%,100.0%);\">legs </span><span style=\"background-color:hsl(202,100%,100.0%);\">to </span><span style=\"background-color:hsl(202,100%,100.0%);\">keep </span><span style=\"background-color:hsl(202,100%,100.0%);\">them </span><span style=\"background-color:hsl(202,100%,100.0%);\">abducted </span><span style=\"background-color:hsl(202,100%,100.0%);\">. </span><span style=\"background-color:hsl(202,100%,100.0%);\">plan </span><span style=\"background-color:hsl(202,100%,100.0%);\">to </span><span style=\"background-color:hsl(202,100%,100.0%);\">consult </span><span style=\"background-color:hsl(202,100%,100.0%);\">pain </span><span style=\"background-color:hsl(202,100%,100.0%);\">service </span><span style=\"background-color:hsl(202,100%,100.0%);\">for </span><span style=\"background-color:hsl(202,100%,100.0%);\">problems </span><span style=\"background-color:hsl(202,100%,100.0%);\">associated </span><span style=\"background-color:hsl(202,100%,100.0%);\">with </span><span style=\"background-color:hsl(202,100%,100.0%);\">pain </span><span style=\"background-color:hsl(202,100%,100.0%);\">management </span><span style=\"background-color:hsl(202,100%,100.0%);\">. </span><span style=\"background-color:hsl(202,100%,100.0%);\">follow </span><span style=\"background-color:hsl(202,100%,100.0%);\">vital </span><span style=\"background-color:hsl(202,100%,100.0%);\">signs </span><span style=\"background-color:hsl(202,100%,100.0%);\">closely </span><span style=\"background-color:hsl(202,100%,100.0%);\">while </span><span style=\"background-color:hsl(202,100%,100.0%);\">on </span><span style=\"background-color:hsl(202,100%,100.0%);\">dialudid </span><span style=\"background-color:hsl(202,100%,100.0%);\">and </span><span style=\"background-color:hsl(202,100%,100.0%);\">ketamine </span><span style=\"background-color:hsl(202,100%,100.0%);\">infusions </span><span style=\"background-color:hsl(202,100%,100.0%);\">. </span><span style=\"background-color:hsl(202,100%,100.0%);\">&lt;EOS&gt; </span><span style=\"background-color:hsl(202,100%,100.0%);\">&lt;SOS&gt; </span><span style=\"background-color:hsl(202,100%,100.0%);\">npn </span><span style=\"background-color:hsl(202,100%,100.0%);\">1900 </span><span style=\"background-color:hsl(202,100%,100.0%);\">- </span><span style=\"background-color:hsl(202,100%,100.0%);\">0700 </span><span style=\"background-color:hsl(202,100%,100.0%);\">2 </span><span style=\"background-color:hsl(202,100%,100.0%);\">nd </span><span style=\"background-color:hsl(202,100%,100.0%);\">post </span><span style=\"background-color:hsl(202,100%,100.0%);\">op </span><span style=\"background-color:hsl(202,100%,100.0%);\">day </span><span style=\"background-color:hsl(202,100%,100.0%);\">for </span><span style=\"background-color:hsl(202,100%,100.0%);\">complex </span><span style=\"background-color:hsl(202,100%,100.0%);\">hip </span><span style=\"background-color:hsl(202,100%,100.0%);\">replacement </span><span style=\"background-color:hsl(202,100%,100.0%);\">surgery </span><span style=\"background-color:hsl(202,100%,100.0%);\">. </span><span style=\"background-color:hsl(202,100%,100.0%);\">pt </span><span style=\"background-color:hsl(202,100%,100.0%);\">is </span><span style=\"background-color:hsl(202,100%,100.0%);\">called </span><span style=\"background-color:hsl(202,100%,100.0%);\">out </span><span style=\"background-color:hsl(202,100%,100.0%);\">, </span><span style=\"background-color:hsl(202,100%,100.0%);\">waiting </span><span style=\"background-color:hsl(202,100%,100.0%);\">for </span><span style=\"background-color:hsl(202,100%,100.0%);\">bed </span><span style=\"background-color:hsl(202,100%,100.0%);\">. </span><span style=\"background-color:hsl(202,100%,100.0%);\">neuro </span><span style=\"background-color:hsl(202,100%,100.0%);\">: </span><span style=\"background-color:hsl(202,100%,100.0%);\">a </span><span style=\"background-color:hsl(202,100%,100.0%);\">&amp; </span><span style=\"background-color:hsl(202,100%,100.0%);\">o </span><span style=\"background-color:hsl(202,100%,100.0%);\">x </span><span style=\"background-color:hsl(202,100%,100.0%);\">3 </span><span style=\"background-color:hsl(202,100%,100.0%);\">. </span><span style=\"background-color:hsl(202,100%,100.0%);\">c </span><span style=\"background-color:hsl(202,100%,100.0%);\">/ </span><span style=\"background-color:hsl(202,100%,100.0%);\">o </span><span style=\"background-color:hsl(202,100%,100.0%);\">severe </span><span style=\"background-color:hsl(202,100%,100.0%);\">pain </span><span style=\"background-color:hsl(202,100%,100.0%);\">, </span><span style=\"background-color:hsl(202,100%,100.0%);\">as </span><span style=\"background-color:hsl(202,100%,100.0%);\">high </span><span style=\"background-color:hsl(202,100%,79.67519760131836%);\">as </span><span style=\"background-color:hsl(202,100%,100.0%);\">9 </span><span style=\"background-color:hsl(202,100%,100.0%);\">while </span><span style=\"background-color:hsl(202,100%,100.0%);\">receiving </span><span style=\"background-color:hsl(202,100%,100.0%);\">dilaudid </span><span style=\"background-color:hsl(202,100%,100.0%);\">pca </span><span style=\"background-color:hsl(202,100%,100.0%);\">at </span><span style=\"background-color:hsl(202,100%,100.0%);\">max </span><span style=\"background-color:hsl(202,100%,100.0%);\">of </span><span style=\"background-color:hsl(202,100%,100.0%);\">3.7 </span><span style=\"background-color:hsl(202,100%,100.0%);\">mg </span><span style=\"background-color:hsl(202,100%,100.0%);\">/ </span><span style=\"background-color:hsl(202,100%,100.0%);\">hr </span><span style=\"background-color:hsl(202,100%,100.0%);\">and </span><span style=\"background-color:hsl(202,100%,100.0%);\">ketamine </span><span style=\"background-color:hsl(202,100%,100.0%);\">pca </span><span style=\"background-color:hsl(202,100%,100.0%);\">cont </span><span style=\"background-color:hsl(202,100%,100.0%);\">infusion </span><span style=\"background-color:hsl(202,100%,100.0%);\">at </span><span style=\"background-color:hsl(202,100%,100.0%);\">1.7 </span><span style=\"background-color:hsl(202,100%,100.0%);\">mcg </span><span style=\"background-color:hsl(202,100%,100.0%);\">/ </span><span style=\"background-color:hsl(202,100%,100.0%);\">kg </span><span style=\"background-color:hsl(202,100%,100.0%);\">/ </span><span style=\"background-color:hsl(202,100%,100.0%);\">min </span><span style=\"background-color:hsl(202,100%,100.0%);\">. </span><span style=\"background-color:hsl(202,100%,100.0%);\">very </span><span style=\"background-color:hsl(202,100%,100.0%);\">difficult </span><span style=\"background-color:hsl(202,100%,100.0%);\">for </span><span style=\"background-color:hsl(202,100%,100.0%);\">pt </span><span style=\"background-color:hsl(202,100%,100.0%);\">to </span><span style=\"background-color:hsl(202,100%,100.0%);\">move </span><span style=\"background-color:hsl(202,100%,100.0%);\">, </span><span style=\"background-color:hsl(202,100%,100.0%);\">has </span><span style=\"background-color:hsl(202,100%,100.0%);\">been </span><span style=\"background-color:hsl(202,100%,100.0%);\">shifting </span><span style=\"background-color:hsl(202,100%,100.0%);\">himself </span><span style=\"background-color:hsl(202,100%,100.0%);\">to </span><span style=\"background-color:hsl(202,100%,100.0%);\">change </span><span style=\"background-color:hsl(202,100%,100.0%);\">position </span><span style=\"background-color:hsl(202,100%,100.0%);\">, </span><span style=\"background-color:hsl(202,100%,100.0%);\">prefers </span><span style=\"background-color:hsl(202,100%,100.0%);\">to </span><span style=\"background-color:hsl(202,100%,100.0%);\">move </span><span style=\"background-color:hsl(202,100%,100.0%);\">himself </span><span style=\"background-color:hsl(202,100%,100.0%);\">rather </span><span style=\"background-color:hsl(202,100%,100.0%);\">than </span><span style=\"background-color:hsl(202,100%,100.0%);\">us </span><span style=\"background-color:hsl(202,100%,100.0%);\">move </span><span style=\"background-color:hsl(202,100%,100.0%);\">him </span><span style=\"background-color:hsl(202,100%,100.0%);\">. </span><span style=\"background-color:hsl(202,100%,100.0%);\">was </span><span style=\"background-color:hsl(202,100%,100.0%);\">able </span><span style=\"background-color:hsl(202,100%,100.0%);\">to </span><span style=\"background-color:hsl(202,100%,100.0%);\">sleep </span><span style=\"background-color:hsl(202,100%,100.0%);\">off </span><span style=\"background-color:hsl(202,100%,100.0%);\">and </span><span style=\"background-color:hsl(202,100%,100.0%);\">on </span><span style=\"background-color:hsl(202,100%,100.0%);\">for </span><span style=\"background-color:hsl(202,100%,100.0%);\">few </span><span style=\"background-color:hsl(202,100%,100.0%);\">hrs </span><span style=\"background-color:hsl(202,100%,100.0%);\">. </span><span style=\"background-color:hsl(202,100%,100.0%);\">pillow </span><span style=\"background-color:hsl(202,100%,100.0%);\">between </span><span style=\"background-color:hsl(202,100%,100.0%);\">legs </span><span style=\"background-color:hsl(202,100%,100.0%);\">. </span><span style=\"background-color:hsl(202,100%,100.0%);\">pt </span><span style=\"background-color:hsl(202,100%,100.0%);\">will </span><span style=\"background-color:hsl(202,100%,100.0%);\">start </span><span style=\"background-color:hsl(202,100%,100.0%);\">exercises </span><span style=\"background-color:hsl(202,100%,100.0%);\">tomorrow </span><span style=\"background-color:hsl(202,100%,100.0%);\">. </span><span style=\"background-color:hsl(202,100%,100.0%);\">cv </span><span style=\"background-color:hsl(202,100%,100.0%);\">: </span><span style=\"background-color:hsl(202,100%,100.0%);\">hr </span><span style=\"background-color:hsl(202,100%,100.0%);\">94 </span><span style=\"background-color:hsl(202,100%,100.0%);\">- </span><span style=\"background-color:hsl(202,100%,100.0%);\">124 </span><span style=\"background-color:hsl(202,100%,100.0%);\">, </span><span style=\"background-color:hsl(202,100%,100.0%);\">a </span><span style=\"background-color:hsl(202,100%,100.0%);\">- </span><span style=\"background-color:hsl(202,100%,100.0%);\">fib </span><span style=\"background-color:hsl(202,100%,100.0%);\">. </span><span style=\"background-color:hsl(202,100%,100.0%);\">pt </span><span style=\"background-color:hsl(202,100%,100.0%);\">febrile </span><span style=\"background-color:hsl(202,100%,100.0%);\">all </span><span style=\"background-color:hsl(202,100%,100.0%);\">noc </span><span style=\"background-color:hsl(202,100%,100.0%);\">101 </span><span style=\"background-color:hsl(202,100%,100.0%);\">- </span><span style=\"background-color:hsl(202,100%,100.0%);\">101.7 </span><span style=\"background-color:hsl(202,100%,100.0%);\">, </span><span style=\"background-color:hsl(202,100%,100.0%);\">cx </span><span style=\"background-color:hsl(202,100%,100.0%);\">yest </span><span style=\"background-color:hsl(202,100%,100.0%);\">at </span><span style=\"background-color:hsl(202,100%,100.0%);\">1600 </span><span style=\"background-color:hsl(202,100%,100.0%);\">. </span><span style=\"background-color:hsl(202,100%,100.0%);\">sbp </span><span style=\"background-color:hsl(202,100%,100.0%);\">94 </span><span style=\"background-color:hsl(202,100%,100.0%);\">- </span><span style=\"background-color:hsl(202,100%,100.0%);\">124 </span><span style=\"background-color:hsl(202,100%,100.0%);\">. </span><span style=\"background-color:hsl(202,100%,100.0%);\">hct </span><span style=\"background-color:hsl(202,100%,100.0%);\">down </span><span style=\"background-color:hsl(202,100%,100.0%);\">to </span><span style=\"background-color:hsl(202,100%,100.0%);\">25.2 </span><span style=\"background-color:hsl(202,100%,100.0%);\">from </span><span style=\"background-color:hsl(202,100%,100.0%);\">28.4 </span><span style=\"background-color:hsl(202,100%,100.0%);\">. </span><span style=\"background-color:hsl(202,100%,100.0%);\">hemovac </span><span style=\"background-color:hsl(202,100%,100.0%);\">drained </span><span style=\"background-color:hsl(202,100%,100.0%);\">320 </span><span style=\"background-color:hsl(202,100%,100.0%);\">mls </span><span style=\"background-color:hsl(202,100%,100.0%);\">blood </span><span style=\"background-color:hsl(202,100%,100.0%);\">this </span><span style=\"background-color:hsl(202,100%,100.0%);\">shift </span><span style=\"background-color:hsl(202,100%,100.0%);\">. </span><span style=\"background-color:hsl(202,100%,100.0%);\">resp </span><span style=\"background-color:hsl(202,100%,100.0%);\">: </span><span style=\"background-color:hsl(202,100%,100.0%);\">ls </span><span style=\"background-color:hsl(202,100%,100.0%);\">clear </span><span style=\"background-color:hsl(202,100%,100.0%);\">, </span><span style=\"background-color:hsl(202,100%,100.0%);\">dim </span><span style=\"background-color:hsl(202,100%,100.0%);\">, </span><span style=\"background-color:hsl(202,100%,100.0%);\">occ </span><span style=\"background-color:hsl(202,100%,100.0%);\">coarse </span><span style=\"background-color:hsl(202,100%,100.0%);\">. </span><span style=\"background-color:hsl(202,100%,100.0%);\">sats </span><span style=\"background-color:hsl(202,100%,100.0%);\">mostly </span><span style=\"background-color:hsl(202,100%,100.0%);\">&gt; </span><span style=\"background-color:hsl(202,100%,100.0%);\">93 </span><span style=\"background-color:hsl(202,100%,100.0%);\">, </span><span style=\"background-color:hsl(202,100%,100.0%);\">but </span><span style=\"background-color:hsl(202,100%,100.0%);\">desatted </span><span style=\"background-color:hsl(202,100%,100.0%);\">to </span><span style=\"background-color:hsl(202,100%,100.0%);\">89 </span><span style=\"background-color:hsl(202,100%,100.0%);\">, </span><span style=\"background-color:hsl(202,100%,100.0%);\">placed </span><span style=\"background-color:hsl(202,100%,100.0%);\">back </span><span style=\"background-color:hsl(202,100%,100.0%);\">on </span><span style=\"background-color:hsl(202,100%,100.0%);\">o </span><span style=\"background-color:hsl(202,100%,100.0%);\">2 </span><span style=\"background-color:hsl(202,100%,100.0%);\">at </span><span style=\"background-color:hsl(202,100%,100.0%);\">2.5 </span><span style=\"background-color:hsl(202,100%,100.0%);\">l </span><span style=\"background-color:hsl(202,100%,100.0%);\">nc </span><span style=\"background-color:hsl(202,100%,100.0%);\">. </span><span style=\"background-color:hsl(202,100%,100.0%);\">pt </span><span style=\"background-color:hsl(202,100%,100.0%);\">pulled </span><span style=\"background-color:hsl(202,100%,100.0%);\">off </span><span style=\"background-color:hsl(202,100%,100.0%);\">later </span><span style=\"background-color:hsl(202,100%,100.0%);\">, </span><span style=\"background-color:hsl(202,100%,100.0%);\">sats </span><span style=\"background-color:hsl(202,100%,100.0%);\">remained </span><span style=\"background-color:hsl(202,100%,100.0%);\">up </span><span style=\"background-color:hsl(202,100%,100.0%);\">93 </span><span style=\"background-color:hsl(202,100%,100.0%);\">. </span><span style=\"background-color:hsl(202,100%,100.0%);\">encouraged </span><span style=\"background-color:hsl(202,100%,100.0%);\">c </span><span style=\"background-color:hsl(202,100%,100.0%);\">&amp; </span><span style=\"background-color:hsl(202,100%,100.0%);\">db </span><span style=\"background-color:hsl(202,100%,100.0%);\">, </span><span style=\"background-color:hsl(202,100%,100.0%);\">using </span><span style=\"background-color:hsl(202,100%,100.0%);\">incentive </span><span style=\"background-color:hsl(202,100%,100.0%);\">spir </span><span style=\"background-color:hsl(202,100%,100.0%);\">, </span><span style=\"background-color:hsl(202,100%,100.0%);\">but </span><span style=\"background-color:hsl(202,100%,100.0%);\">must </span><span style=\"background-color:hsl(202,100%,100.0%);\">be </span><span style=\"background-color:hsl(202,100%,100.0%);\">pushed </span><span style=\"background-color:hsl(202,100%,100.0%);\">due </span><span style=\"background-color:hsl(202,100%,100.0%);\">to </span><span style=\"background-color:hsl(202,100%,100.0%);\">pain </span><span style=\"background-color:hsl(202,100%,100.0%);\">. </span><span style=\"background-color:hsl(202,100%,100.0%);\">gi </span><span style=\"background-color:hsl(202,100%,100.0%);\">: </span><span style=\"background-color:hsl(202,100%,100.0%);\">drinking </span><span style=\"background-color:hsl(202,100%,100.0%);\">flds </span><span style=\"background-color:hsl(202,100%,100.0%);\">well </span><span style=\"background-color:hsl(202,100%,100.0%);\">. </span><span style=\"background-color:hsl(202,100%,100.0%);\">will </span><span style=\"background-color:hsl(202,100%,100.0%);\">order </span><span style=\"background-color:hsl(202,100%,100.0%);\">&lt;UNK&gt; </span><span style=\"background-color:hsl(202,100%,100.0%);\">tray </span><span style=\"background-color:hsl(202,100%,100.0%);\">. </span><span style=\"background-color:hsl(202,100%,100.0%);\">passed </span><span style=\"background-color:hsl(202,100%,100.0%);\">flatus </span><span style=\"background-color:hsl(202,100%,100.0%);\">, </span><span style=\"background-color:hsl(202,100%,100.0%);\">no </span><span style=\"background-color:hsl(202,100%,100.0%);\">stool </span><span style=\"background-color:hsl(202,100%,100.0%);\">. </span><span style=\"background-color:hsl(202,100%,100.0%);\">gu </span><span style=\"background-color:hsl(202,100%,100.0%);\">: </span><span style=\"background-color:hsl(202,100%,100.0%);\">adequate </span><span style=\"background-color:hsl(202,100%,100.0%);\">u </span><span style=\"background-color:hsl(202,100%,100.0%);\">/ </span><span style=\"background-color:hsl(202,100%,100.0%);\">o </span><span style=\"background-color:hsl(202,100%,100.0%);\">, </span><span style=\"background-color:hsl(202,100%,100.0%);\">clear </span><span style=\"background-color:hsl(202,100%,100.0%);\">, </span><span style=\"background-color:hsl(202,100%,100.0%);\">yellow </span><span style=\"background-color:hsl(202,100%,100.0%);\">urine </span><span style=\"background-color:hsl(202,100%,100.0%);\">. </span><span style=\"background-color:hsl(202,100%,100.0%);\">plan </span><span style=\"background-color:hsl(202,100%,100.0%);\">: </span><span style=\"background-color:hsl(202,100%,100.0%);\">out </span><span style=\"background-color:hsl(202,100%,100.0%);\">to </span><span style=\"background-color:hsl(202,100%,100.0%);\">floor </span><span style=\"background-color:hsl(202,100%,100.0%);\">. </span><span style=\"background-color:hsl(202,100%,100.0%);\">monitor </span><span style=\"background-color:hsl(202,100%,100.0%);\">temp </span><span style=\"background-color:hsl(202,100%,100.0%);\">, </span><span style=\"background-color:hsl(202,100%,100.0%);\">ls </span><span style=\"background-color:hsl(202,100%,100.0%);\">. </span><span style=\"background-color:hsl(202,100%,100.0%);\">c </span><span style=\"background-color:hsl(202,100%,100.0%);\">&amp; </span><span style=\"background-color:hsl(202,100%,100.0%);\">db </span><span style=\"background-color:hsl(202,100%,100.0%);\">. </span><span style=\"background-color:hsl(202,100%,100.0%);\">monitor </span><span style=\"background-color:hsl(202,100%,100.0%);\">pain </span><span style=\"background-color:hsl(202,100%,100.0%);\">response </span><span style=\"background-color:hsl(202,100%,100.0%);\">and </span><span style=\"background-color:hsl(202,100%,100.0%);\">vs </span><span style=\"background-color:hsl(202,100%,100.0%);\">, </span><span style=\"background-color:hsl(202,100%,100.0%);\">call </span><span style=\"background-color:hsl(202,100%,100.0%);\">pain </span><span style=\"background-color:hsl(202,100%,100.0%);\">management </span><span style=\"background-color:hsl(202,100%,100.0%);\">with </span><span style=\"background-color:hsl(202,100%,100.0%);\">problems </span><span style=\"background-color:hsl(202,100%,100.0%);\">. </span><span style=\"background-color:hsl(202,100%,100.0%);\">&lt;EOS&gt; </span>"
      ],
      "text/plain": [
       "<IPython.core.display.HTML object>"
      ]
     },
     "metadata": {},
     "output_type": "display_data"
    },
    {
     "data": {
      "text/plain": [
       "''"
      ]
     },
     "execution_count": 37,
     "metadata": {},
     "output_type": "execute_result"
    }
   ],
   "source": [
    "n = 1000\n",
    "print_attn(data.vocab.map_to_words([x for y in dev_data.X[n] for x in y]), outputs['attentions'][n])"
   ]
  },
  {
   "cell_type": "code",
   "execution_count": 36,
   "metadata": {},
   "outputs": [
    {
     "data": {
      "text/plain": [
       "array([0., 0., 0., ..., 0., 0., 0.], dtype=float32)"
      ]
     },
     "execution_count": 36,
     "metadata": {},
     "output_type": "execute_result"
    }
   ],
   "source": [
    "outputs['attentions'][n]"
   ]
  },
  {
   "cell_type": "code",
   "execution_count": null,
   "metadata": {},
   "outputs": [],
   "source": []
  }
 ],
 "metadata": {
  "kernelspec": {
   "display_name": "Python 3",
   "language": "python",
   "name": "python3"
  },
  "language_info": {
   "codemirror_mode": {
    "name": "ipython",
    "version": 3
   },
   "file_extension": ".py",
   "mimetype": "text/x-python",
   "name": "python",
   "nbconvert_exporter": "python",
   "pygments_lexer": "ipython3",
   "version": "3.7.2"
  }
 },
 "nbformat": 4,
 "nbformat_minor": 2
}
