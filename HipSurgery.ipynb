{
 "cells": [
  {
   "cell_type": "code",
   "execution_count": null,
   "metadata": {},
   "outputs": [],
   "source": [
    "for surgery in ['hip', 'knee'] :\n",
    "    for yr in ['1', '2', '3', '0.5', '0.25'] :\n",
    "        dataset = surgery + '_' + yr + 'yr'\n",
    "        %run \"Discovery Experiments\"/run_models.py --dataset {dataset} --data_dir=. --output_dir='outputs/' \\\n",
    "        --exp_types lr lda vanilla attention --structured --display --bsize 8 --n_iters=20"
   ]
  },
  {
   "cell_type": "code",
   "execution_count": null,
   "metadata": {},
   "outputs": [],
   "source": [
    "for surgery in ['hip', 'knee'] :\n",
    "    for yr in ['1', '2', '3', '0.5', '0.25'] :\n",
    "        dataset = surgery + '_' + yr\n",
    "        %run \"Discovery Experiments\"/run_models.py --dataset {dataset} --data_dir=. --output_dir='outputs/' \\\n",
    "        --exp_types vanilla attention --display --bsize 8 --n_iters=20"
   ]
  },
  {
   "cell_type": "code",
   "execution_count": null,
   "metadata": {},
   "outputs": [],
   "source": []
  }
 ],
 "metadata": {
  "kernelspec": {
   "display_name": "Python 3",
   "language": "python",
   "name": "python3"
  },
  "language_info": {
   "codemirror_mode": {
    "name": "ipython",
    "version": 3
   },
   "file_extension": ".py",
   "mimetype": "text/x-python",
   "name": "python",
   "nbconvert_exporter": "python",
   "pygments_lexer": "ipython3",
   "version": "3.7.1"
  }
 },
 "nbformat": 4,
 "nbformat_minor": 2
}
