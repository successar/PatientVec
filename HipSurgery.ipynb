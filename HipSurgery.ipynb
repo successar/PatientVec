{
 "cells": [
  {
   "cell_type": "code",
   "execution_count": null,
   "metadata": {},
   "outputs": [],
   "source": [
    "for surgery in ['hip', 'knee'] :\n",
    "    for yr in ['1', '2', '3', '0.5', '0.25'] :\n",
    "        dataset = surgery + '_' + yr + 'yr'\n",
    "        %run \"Discovery Experiments\"/run_models.py --dataset {dataset} --data_dir=. --output_dir='outputs/' \\\n",
    "        --exp_types lr lda vanilla attention --structured --display --bsize 8 --n_iters=20"
   ]
  },
  {
   "cell_type": "code",
   "execution_count": null,
   "metadata": {},
   "outputs": [],
   "source": [
    "for surgery in ['hip', 'knee'] :\n",
    "    for yr in ['1', '2', '3', '0.5', '0.25'] :\n",
    "        dataset = surgery + '_' + yr\n",
    "        %run \"Discovery Experiments\"/run_models.py --dataset {dataset} --data_dir=. --output_dir='outputs/' \\\n",
    "        --exp_types vanilla attention --display --bsize 8 --n_iters=20"
   ]
  },
  {
   "cell_type": "code",
   "execution_count": 21,
   "metadata": {},
   "outputs": [],
   "source": [
    "from dataloaders import dataloaders"
   ]
  },
  {
   "cell_type": "code",
   "execution_count": 56,
   "metadata": {},
   "outputs": [
    {
     "name": "stderr",
     "output_type": "stream",
     "text": [
      "INFO - 2019-04-13 14:54:29,180 - Reading Structured data ...\n",
      "INFO - 2019-04-13 14:54:29,936 - Reading Notes ...\n",
      "INFO - 2019-04-13 14:54:30,822 - Stratifying ...\n"
     ]
    }
   ],
   "source": [
    "import argparse\n",
    "parser = argparse.ArgumentParser(description='Run experiments on a dataset')\n",
    "parser.add_argument(\"--data_dir\", type=str, required=True)\n",
    "\n",
    "args, extras = parser.parse_known_args(['--data_dir=.'])\n",
    "args.extras = extras\n",
    "\n",
    "dataset = dataloaders['hip_1yr'](args)"
   ]
  },
  {
   "cell_type": "code",
   "execution_count": 57,
   "metadata": {},
   "outputs": [
    {
     "name": "stdout",
     "output_type": "stream",
     "text": [
      "Pos Percentage [0.09771659]\n"
     ]
    }
   ],
   "source": [
    "train_data = dataset.get_data('train', structured=False)"
   ]
  },
  {
   "cell_type": "code",
   "execution_count": null,
   "metadata": {},
   "outputs": [],
   "source": [
    "from Exp"
   ]
  },
  {
   "cell_type": "code",
   "execution_count": 36,
   "metadata": {},
   "outputs": [
    {
     "data": {
      "text/plain": [
       "array([[[0., 0.],\n",
       "        [0., 1.]],\n",
       "\n",
       "       [[0., 0.],\n",
       "        [0., 1.]],\n",
       "\n",
       "       [[0., 0.],\n",
       "        [1., 1.]],\n",
       "\n",
       "       ...,\n",
       "\n",
       "       [[0., 1.],\n",
       "        [0., 0.]],\n",
       "\n",
       "       [[0., 1.],\n",
       "        [0., 0.]],\n",
       "\n",
       "       [[0., 1.],\n",
       "        [0., 0.]]])"
      ]
     },
     "execution_count": 36,
     "metadata": {},
     "output_type": "execute_result"
    }
   ],
   "source": [
    "import numpy as np\n",
    "import torch\n",
    "target = np.array(train_data.y)\n",
    "np.array(train_data.y).reshape(-1, 2, 2)"
   ]
  },
  {
   "cell_type": "code",
   "execution_count": null,
   "metadata": {},
   "outputs": [],
   "source": []
  }
 ],
 "metadata": {
  "kernelspec": {
   "display_name": "Python 3",
   "language": "python",
   "name": "python3"
  },
  "language_info": {
   "codemirror_mode": {
    "name": "ipython",
    "version": 3
   },
   "file_extension": ".py",
   "mimetype": "text/x-python",
   "name": "python",
   "nbconvert_exporter": "python",
   "pygments_lexer": "ipython3",
   "version": "3.7.1"
  }
 },
 "nbformat": 4,
 "nbformat_minor": 2
}
