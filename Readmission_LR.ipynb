{
 "cells": [
  {
   "cell_type": "code",
   "execution_count": null,
   "metadata": {},
   "outputs": [],
   "source": [
    "import numpy as np\n",
    "import pandas as pd"
   ]
  },
  {
   "cell_type": "code",
   "execution_count": null,
   "metadata": {},
   "outputs": [],
   "source": [
    "df = pd.read_msgpack('preprocess/Readmission/Split_Notes_Texts_combined.msg')"
   ]
  },
  {
   "cell_type": "code",
   "execution_count": null,
   "metadata": {},
   "outputs": [],
   "source": [
    "df.head()"
   ]
  },
  {
   "cell_type": "code",
   "execution_count": null,
   "metadata": {},
   "outputs": [],
   "source": [
    "from sklearn.feature_extraction.text import CountVectorizer"
   ]
  },
  {
   "cell_type": "code",
   "execution_count": null,
   "metadata": {},
   "outputs": [],
   "source": [
    "import re\n",
    "from tqdm import tqdm_notebook\n",
    "\n",
    "pattern = re.compile(r'\\s\\W+\\s')\n",
    "texts = list(df['cseq'])\n",
    "for t in tqdm_notebook(range(len(texts))) :\n",
    "    texts[t] = re.sub(r'\\s+', ' ', pattern.sub(' ', texts[t]))"
   ]
  },
  {
   "cell_type": "code",
   "execution_count": null,
   "metadata": {},
   "outputs": [],
   "source": [
    "df['cseq'] = texts"
   ]
  },
  {
   "cell_type": "code",
   "execution_count": null,
   "metadata": {},
   "outputs": [],
   "source": [
    "tokenizer = lambda s : s.split(' ')\n",
    "vocab = CountVectorizer(max_features=25000, tokenizer=tokenizer, stop_words='english')\n",
    "vocab.fit(list(df[df['exp_split'] == 'train']['cseq']))"
   ]
  },
  {
   "cell_type": "code",
   "execution_count": null,
   "metadata": {},
   "outputs": [],
   "source": [
    "bow = {}\n",
    "for key in ['train', 'dev'] :\n",
    "    bow[key] = vocab.transform(list(df[df['exp_split'] == key]['cseq']))"
   ]
  },
  {
   "cell_type": "code",
   "execution_count": null,
   "metadata": {},
   "outputs": [],
   "source": [
    "label = {}\n",
    "for key in ['train', 'dev'] :\n",
    "    label[key] = list(df[df['exp_split'] == key]['y'])"
   ]
  },
  {
   "cell_type": "code",
   "execution_count": null,
   "metadata": {},
   "outputs": [],
   "source": [
    "from sklearn.linear_model import LogisticRegression\n",
    "from sklearn.svm import LinearSVC\n",
    "from sklearn.metrics import roc_auc_score"
   ]
  },
  {
   "cell_type": "code",
   "execution_count": null,
   "metadata": {},
   "outputs": [],
   "source": [
    "lr = LinearSVC(class_weight='balanced')\n",
    "lr.fit(bow['train'].toarray(), label['train'])\n",
    "predict = lr.predict_proba(bow['dev'].toarray())\n",
    "print(roc_auc_score(label['dev'], predict[:, 1]))"
   ]
  },
  {
   "cell_type": "code",
   "execution_count": null,
   "metadata": {},
   "outputs": [],
   "source": [
    "lr.predict(bow['dev'].toarray())"
   ]
  },
  {
   "cell_type": "code",
   "execution_count": null,
   "metadata": {},
   "outputs": [],
   "source": [
    "from sklearn.preprocessing import normalize\n",
    "normalised_bow = {}\n",
    "for key in ['train', 'dev'] :\n",
    "    normalised_bow[key] = normalize(bow[key], norm='l2', copy=True)"
   ]
  },
  {
   "cell_type": "code",
   "execution_count": null,
   "metadata": {},
   "outputs": [],
   "source": [
    "lr_norm = LogisticRegression(class_weight='balanced')\n",
    "lr_norm.fit(normalised_bow['train'].toarray(), label['train'])\n",
    "predict = lr_norm.predict_proba(normalised_bow['dev'].toarray())\n",
    "print(roc_auc_score(label['dev'], predict[:, 1]))"
   ]
  },
  {
   "cell_type": "code",
   "execution_count": null,
   "metadata": {},
   "outputs": [],
   "source": [
    "binary_bow = {}\n",
    "for key in ['train', 'dev'] :\n",
    "    binary_bow[key] = np.clip(bow[key].toarray(), 0, 1)"
   ]
  },
  {
   "cell_type": "code",
   "execution_count": null,
   "metadata": {},
   "outputs": [],
   "source": [
    "lr_bin = LogisticRegression(class_weight='balanced')\n",
    "lr_bin.fit(binary_bow['train'], label['train'])\n",
    "predict = lr_bin.predict_proba(binary_bow['dev'])\n",
    "print(roc_auc_score(label['dev'], predict[:, 1]))"
   ]
  },
  {
   "cell_type": "code",
   "execution_count": null,
   "metadata": {},
   "outputs": [],
   "source": [
    "bin_normalised_bow = {}\n",
    "for key in ['train', 'dev'] :\n",
    "    bin_normalised_bow[key] = normalize(binary_bow[key], norm='l2', copy=True)"
   ]
  },
  {
   "cell_type": "code",
   "execution_count": null,
   "metadata": {},
   "outputs": [],
   "source": [
    "lr_bin = LogisticRegression(class_weight='balanced')\n",
    "lr_bin.fit(bin_normalised_bow['train'], label['train'])\n",
    "predict = lr_bin.predict_proba(bin_normalised_bow['dev'])\n",
    "print(roc_auc_score(label['dev'], predict[:, 1]))"
   ]
  },
  {
   "cell_type": "code",
   "execution_count": null,
   "metadata": {},
   "outputs": [],
   "source": []
  }
 ],
 "metadata": {
  "kernelspec": {
   "display_name": "Python 3",
   "language": "python",
   "name": "python3"
  },
  "language_info": {
   "codemirror_mode": {
    "name": "ipython",
    "version": 3
   },
   "file_extension": ".py",
   "mimetype": "text/x-python",
   "name": "python",
   "nbconvert_exporter": "python",
   "pygments_lexer": "ipython3",
   "version": "3.7.2"
  }
 },
 "nbformat": 4,
 "nbformat_minor": 2
}
