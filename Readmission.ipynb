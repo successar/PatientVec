{
 "cells": [
  {
   "cell_type": "code",
   "execution_count": 1,
   "metadata": {},
   "outputs": [],
   "source": [
    "%load_ext autoreload\n",
    "%autoreload 2"
   ]
  },
  {
   "cell_type": "code",
   "execution_count": 2,
   "metadata": {},
   "outputs": [],
   "source": [
    "import numpy as np\n",
    "from common import *"
   ]
  },
  {
   "cell_type": "code",
   "execution_count": 3,
   "metadata": {},
   "outputs": [],
   "source": [
    "import argparse\n",
    "parser = argparse.ArgumentParser(description='Run Diagnosis experiments')\n",
    "parser.add_argument(\"--data_dir\", type=str, required=True)\n",
    "parser.add_argument('--display', dest='display', action='store_true')\n",
    "parser.add_argument(\"--output_dir\", type=str)\n",
    "parser.add_argument(\"--mock\", dest='mock', action='store_true')\n",
    "\n",
    "args = parser.parse_args(['--data_dir=.', '--output_dir=outputs/', '--display'])"
   ]
  },
  {
   "cell_type": "code",
   "execution_count": 4,
   "metadata": {},
   "outputs": [
    {
     "name": "stderr",
     "output_type": "stream",
     "text": [
      "INFO - 2019-02-25 14:48:12,086 - Reading Structured data ...\n",
      "INFO - 2019-02-25 14:48:12,532 - Reading Notes ...\n",
      "INFO - 2019-02-25 14:48:34,844 - Stratifying ...\n"
     ]
    }
   ],
   "source": [
    "from dataloaders import readmission_dataset\n",
    "data = readmission_dataset(args)"
   ]
  },
  {
   "cell_type": "code",
   "execution_count": 5,
   "metadata": {},
   "outputs": [
    {
     "name": "stdout",
     "output_type": "stream",
     "text": [
      "Better speed can be achieved with apex installed from https://www.github.com/nvidia/apex.\n"
     ]
    }
   ],
   "source": [
    "from PatientVec.Experiments.training_exps import get_basic_data"
   ]
  },
  {
   "cell_type": "code",
   "execution_count": 6,
   "metadata": {},
   "outputs": [
    {
     "name": "stdout",
     "output_type": "stream",
     "text": [
      "Pos Percentage [0.19738451]\n"
     ]
    },
    {
     "name": "stderr",
     "output_type": "stream",
     "text": [
      "INFO - 2019-02-25 14:48:52,352 - Maximum Sentence Length 721825.000000 , 90 percentile length 18689.400000 ... \n",
      "INFO - 2019-02-25 14:48:52,373 - Pos Percentage of remaining data ... \n",
      "INFO - 2019-02-25 14:48:52,456 - [0.18685839]\n"
     ]
    },
    {
     "name": "stdout",
     "output_type": "stream",
     "text": [
      "Pos Percentage [0.20937082]\n"
     ]
    },
    {
     "name": "stderr",
     "output_type": "stream",
     "text": [
      "INFO - 2019-02-25 14:48:55,467 - Maximum Sentence Length 588265.000000 , 90 percentile length 19174.500000 ... \n",
      "INFO - 2019-02-25 14:48:55,472 - Pos Percentage of remaining data ... \n",
      "INFO - 2019-02-25 14:48:55,479 - [0.19723338]\n"
     ]
    }
   ],
   "source": [
    "train_data, dev_data = get_basic_data(data, truncate=90)"
   ]
  },
  {
   "cell_type": "code",
   "execution_count": 50,
   "metadata": {},
   "outputs": [],
   "source": [
    "from PatientVec.Experiments.modifiable_config_exp import attention_configs"
   ]
  },
  {
   "cell_type": "code",
   "execution_count": 63,
   "metadata": {},
   "outputs": [
    {
     "data": {
      "text/plain": [
       "{'model': {'type': 'seq_classifier_with_attention',\n",
       "  'embedder': {'type': 'token_embedder',\n",
       "   'vocab_size': 32246,\n",
       "   'embed_size': 200,\n",
       "   'embedding_file': './preprocess/Readmission/embedding_matrix.npy'},\n",
       "  'decoder': {'num_layers': 2,\n",
       "   'hidden_dims': [128, 1],\n",
       "   'activations': ['tanh', 'linear']},\n",
       "  'predictor': {'type': 'binary'},\n",
       "  'structured': {'use_structured': True, 'structured_dim': 142},\n",
       "  'encoder': {'type': 'lstm', 'hidden_size': 128},\n",
       "  'attention': {'similarity': {'type': 'additive', 'hidden_size': 128}}},\n",
       " 'training_config': {'type': 'Adam',\n",
       "  'groups': [('.*', {'lr': 0.001, 'weight_decay': 1e-05})],\n",
       "  'common': {'bsize': 32, 'class_weight': False, 'balanced': True}},\n",
       " 'exp_config': {'exp_name': 'Readmission/Attention/LSTM(hs=128)+Attention(additive)(hs=128)+Structured+balanced'}}"
      ]
     },
     "execution_count": 63,
     "metadata": {},
     "output_type": "execute_result"
    }
   ],
   "source": [
    "config = attention_configs[1](data, structured=True, args=args)\n",
    "config['training_config']['common']['class_weight'] = False\n",
    "config['training_config']['common']['balanced'] = True\n",
    "config['exp_config']['exp_name'] += '+balanced'\n",
    "config"
   ]
  },
  {
   "cell_type": "code",
   "execution_count": 64,
   "metadata": {},
   "outputs": [],
   "source": [
    "from PatientVec.models.Vanilla import ClassificationTrainer as BasicCT\n",
    "from PatientVec.models.Hierarchical import ClassificationTrainer as HierCT\n",
    "from PatientVec.trainer import Trainer, Evaluator"
   ]
  },
  {
   "cell_type": "code",
   "execution_count": null,
   "metadata": {},
   "outputs": [
    {
     "name": "stdout",
     "output_type": "stream",
     "text": [
      "Pos Percentage [0.19738451]\n"
     ]
    },
    {
     "name": "stderr",
     "output_type": "stream",
     "text": [
      "INFO - 2019-02-25 15:38:04,241 - Maximum Sentence Length 721825.000000 , 90 percentile length 18689.400000 ... \n",
      "INFO - 2019-02-25 15:38:04,256 - Pos Percentage of remaining data ... \n",
      "INFO - 2019-02-25 15:38:04,274 - [0.18685839]\n"
     ]
    },
    {
     "name": "stdout",
     "output_type": "stream",
     "text": [
      "Pos Percentage [0.20937082]\n"
     ]
    },
    {
     "name": "stderr",
     "output_type": "stream",
     "text": [
      "INFO - 2019-02-25 15:38:07,245 - Maximum Sentence Length 588265.000000 , 90 percentile length 19174.500000 ... \n",
      "INFO - 2019-02-25 15:38:07,250 - Pos Percentage of remaining data ... \n",
      "INFO - 2019-02-25 15:38:07,256 - [0.19723338]\n",
      "INFO - 2019-02-25 15:38:07,393 - instantiating class <class 'PatientVec.models.Model.Model'> from params {'type': 'seq_classifier_with_attention', 'embedder': {'type': 'token_embedder', 'vocab_size': 32246, 'embed_size': 200, 'embedding_file': './preprocess/Readmission/embedding_matrix.npy'}, 'decoder': {'num_layers': 2, 'hidden_dims': [128, 1], 'activations': ['tanh', 'linear']}, 'predictor': {'type': 'binary'}, 'structured': {'use_structured': True, 'structured_dim': 142}, 'encoder': {'type': 'lstm', 'hidden_size': 128}, 'attention': {'similarity': {'type': 'additive', 'hidden_size': 128}}} and extras {}\n",
      "INFO - 2019-02-25 15:38:07,394 - type = seq_classifier_with_attention\n",
      "INFO - 2019-02-25 15:38:07,394 - instantiating class <class 'PatientVec.models.modules.Embedder.Embedder'> from params {'type': 'token_embedder', 'vocab_size': 32246, 'embed_size': 200, 'embedding_file': './preprocess/Readmission/embedding_matrix.npy'} and extras {}\n",
      "INFO - 2019-02-25 15:38:07,395 - embedder.type = token_embedder\n",
      "INFO - 2019-02-25 15:38:07,395 - instantiating class <class 'PatientVec.models.modules.Embedder.TokenEmbedder'> from params {'vocab_size': 32246, 'embed_size': 200, 'embedding_file': './preprocess/Readmission/embedding_matrix.npy'} and extras {}\n",
      "INFO - 2019-02-25 15:38:07,396 - embedder.vocab_size = 32246\n",
      "INFO - 2019-02-25 15:38:07,396 - embedder.embed_size = 200\n",
      "INFO - 2019-02-25 15:38:07,396 - embedder.embedding_file = ./preprocess/Readmission/embedding_matrix.npy\n",
      "INFO - 2019-02-25 15:38:07,427 - instantiating class <class 'PatientVec.models.modules.Encoder.Encoder'> from params {'type': 'lstm', 'hidden_size': 128} and extras {'input_size': 200}\n",
      "INFO - 2019-02-25 15:38:07,428 - encoder.type = lstm\n",
      "INFO - 2019-02-25 15:38:07,429 - instantiating class <class 'PatientVec.models.modules.Encoder.wrap_pytorch_rnn.<locals>.BiRNNEncoder'> from params {'hidden_size': 128} and extras {'input_size': 200}\n",
      "INFO - 2019-02-25 15:38:07,430 - encoder.hidden_size = 128\n",
      "INFO - 2019-02-25 15:38:07,442 - instantiating class <class 'PatientVec.models.modules.SelfAttention.SelfAttention'> from params {'similarity': {'type': 'additive', 'hidden_size': 128, 'tensor_1_dim': 256}} and extras {}\n",
      "INFO - 2019-02-25 15:38:07,443 - instantiating class <class 'PatientVec.models.modules.UniSimilarity.UniSimilarity'> from params {'type': 'additive', 'hidden_size': 128, 'tensor_1_dim': 256} and extras {}\n",
      "INFO - 2019-02-25 15:38:07,443 - attention.similarity.type = additive\n",
      "INFO - 2019-02-25 15:38:07,444 - instantiating class <class 'PatientVec.models.modules.UniSimilarity.UniAdditiveSimilarity'> from params {'hidden_size': 128, 'tensor_1_dim': 256} and extras {}\n",
      "INFO - 2019-02-25 15:38:07,444 - attention.similarity.tensor_1_dim = 256\n",
      "INFO - 2019-02-25 15:38:07,445 - attention.similarity.hidden_size = 128\n",
      "INFO - 2019-02-25 15:38:07,447 - attention.normaliser = softmax\n",
      "INFO - 2019-02-25 15:38:07,448 - decoder.input_dim = 398\n",
      "INFO - 2019-02-25 15:38:07,448 - decoder.num_layers = 2\n",
      "INFO - 2019-02-25 15:38:07,449 - decoder.hidden_dims = [128, 1]\n",
      "INFO - 2019-02-25 15:38:07,449 - decoder.activations = ['tanh', 'linear']\n",
      "INFO - 2019-02-25 15:38:07,450 - decoder.dropout = 0.0\n",
      "INFO - 2019-02-25 15:38:07,453 - instantiating class <class 'PatientVec.models.modules.Predictor.Predictor'> from params {'type': 'binary'} and extras {}\n",
      "INFO - 2019-02-25 15:38:07,453 - predictor.type = binary\n",
      "INFO - 2019-02-25 15:38:07,454 - instantiating class <class 'PatientVec.models.modules.Predictor.Binary_Predictor'> from params {} and extras {}\n",
      "INFO - 2019-02-25 15:38:07,454 - predictor.replicate = False\n",
      "INFO - 2019-02-25 15:38:07,455 - predictor.alpha = 0.5\n"
     ]
    },
    {
     "name": "stdout",
     "output_type": "stream",
     "text": [
      "Setting Embedding\n"
     ]
    },
    {
     "data": {
      "application/vnd.jupyter.widget-view+json": {
       "model_id": "06e4339ea3d247fd8bb00c928e67859a",
       "version_major": 2,
       "version_minor": 0
      },
      "text/plain": [
       "HBox(children=(IntProgress(value=0, max=20), HTML(value='')))"
      ]
     },
     "metadata": {},
     "output_type": "display_data"
    },
    {
     "data": {
      "application/vnd.jupyter.widget-view+json": {
       "model_id": "06bc62da542b475d9c41adee366533bc",
       "version_major": 2,
       "version_minor": 0
      },
      "text/plain": [
       "HBox(children=(IntProgress(value=0, max=828), HTML(value='')))"
      ]
     },
     "metadata": {},
     "output_type": "display_data"
    },
    {
     "data": {
      "application/vnd.jupyter.widget-view+json": {
       "model_id": "bab54afd85f247c49678a58c8c22e6c7",
       "version_major": 2,
       "version_minor": 0
      },
      "text/plain": [
       "HBox(children=(IntProgress(value=0, max=211), HTML(value='')))"
      ]
     },
     "metadata": {},
     "output_type": "display_data"
    },
    {
     "name": "stdout",
     "output_type": "stream",
     "text": [
      "{'accuracy': 0.6019634091923248, 'roc_auc': 0.75715259664676, 'pr_auc': 0.46584018987531617}\n"
     ]
    },
    {
     "data": {
      "text/html": [
       "<div>\n",
       "<style scoped>\n",
       "    .dataframe tbody tr th:only-of-type {\n",
       "        vertical-align: middle;\n",
       "    }\n",
       "\n",
       "    .dataframe tbody tr th {\n",
       "        vertical-align: top;\n",
       "    }\n",
       "\n",
       "    .dataframe thead th {\n",
       "        text-align: right;\n",
       "    }\n",
       "</style>\n",
       "<table border=\"1\" class=\"dataframe\">\n",
       "  <thead>\n",
       "    <tr style=\"text-align: right;\">\n",
       "      <th></th>\n",
       "      <th>0</th>\n",
       "      <th>1</th>\n",
       "      <th>micro avg</th>\n",
       "      <th>macro avg</th>\n",
       "      <th>weighted avg</th>\n",
       "    </tr>\n",
       "  </thead>\n",
       "  <tbody>\n",
       "    <tr>\n",
       "      <th>f1-score</th>\n",
       "      <td>0.690</td>\n",
       "      <td>0.445</td>\n",
       "      <td>0.602</td>\n",
       "      <td>0.567</td>\n",
       "      <td>0.641</td>\n",
       "    </tr>\n",
       "    <tr>\n",
       "      <th>precision</th>\n",
       "      <td>0.922</td>\n",
       "      <td>0.307</td>\n",
       "      <td>0.602</td>\n",
       "      <td>0.614</td>\n",
       "      <td>0.801</td>\n",
       "    </tr>\n",
       "    <tr>\n",
       "      <th>recall</th>\n",
       "      <td>0.551</td>\n",
       "      <td>0.810</td>\n",
       "      <td>0.602</td>\n",
       "      <td>0.680</td>\n",
       "      <td>0.602</td>\n",
       "    </tr>\n",
       "    <tr>\n",
       "      <th>support</th>\n",
       "      <td>5397.000</td>\n",
       "      <td>1326.000</td>\n",
       "      <td>6723.000</td>\n",
       "      <td>6723.000</td>\n",
       "      <td>6723.000</td>\n",
       "    </tr>\n",
       "  </tbody>\n",
       "</table>\n",
       "</div>"
      ],
      "text/plain": [
       "                  0         1  micro avg  macro avg  weighted avg\n",
       "f1-score      0.690     0.445      0.602      0.567         0.641\n",
       "precision     0.922     0.307      0.602      0.614         0.801\n",
       "recall        0.551     0.810      0.602      0.680         0.602\n",
       "support    5397.000  1326.000   6723.000   6723.000      6723.000"
      ]
     },
     "metadata": {},
     "output_type": "display_data"
    },
    {
     "name": "stdout",
     "output_type": "stream",
     "text": [
      "Model Saved on  roc_auc 0.75715259664676\n"
     ]
    },
    {
     "data": {
      "application/vnd.jupyter.widget-view+json": {
       "model_id": "cd35bdf345d7477ca1a5c452be7288ae",
       "version_major": 2,
       "version_minor": 0
      },
      "text/plain": [
       "HBox(children=(IntProgress(value=0, max=828), HTML(value='')))"
      ]
     },
     "metadata": {},
     "output_type": "display_data"
    },
    {
     "data": {
      "application/vnd.jupyter.widget-view+json": {
       "model_id": "81358e55f0bf440d9d27efc1ef92deb8",
       "version_major": 2,
       "version_minor": 0
      },
      "text/plain": [
       "HBox(children=(IntProgress(value=0, max=211), HTML(value='')))"
      ]
     },
     "metadata": {},
     "output_type": "display_data"
    }
   ],
   "source": [
    "train_data, dev_data = get_basic_data(data, truncate=90)\n",
    "trainer = Trainer(BasicCT, config, _type=data.metrics_type, display_metrics=args.display)\n",
    "trainer.train(train_data, dev_data, save_on_metric=data.save_on_metric)\n",
    "\n",
    "evaluator = Evaluator(BasicCT, trainer.model.dirname, _type=data.metrics_type, display_metrics=args.display)\n",
    "_ = evaluator.evaluate(dev_data, save_results=True)\n",
    "print('='*300)"
   ]
  },
  {
   "cell_type": "code",
   "execution_count": null,
   "metadata": {},
   "outputs": [],
   "source": [
    "data.generate_bowder(train_data, stop_words=True, norm=None)"
   ]
  },
  {
   "cell_type": "code",
   "execution_count": null,
   "metadata": {},
   "outputs": [],
   "source": [
    "train_data.X = data.get_vec_encoding(train_data, _type='tfidf')\n",
    "dev_data.X = data.get_vec_encoding(dev_data, _type='tfidf')"
   ]
  },
  {
   "cell_type": "code",
   "execution_count": null,
   "metadata": {},
   "outputs": [],
   "source": [
    "train_data.X = np.array(train_data.X.todense())\n",
    "dev_data.X = np.array(dev_data.X.todense())"
   ]
  },
  {
   "cell_type": "code",
   "execution_count": null,
   "metadata": {},
   "outputs": [],
   "source": [
    "from PatientVec.Experiments.configs import vector_experiment\n",
    "config = vector_experiment(data)\n",
    "config"
   ]
  },
  {
   "cell_type": "code",
   "execution_count": null,
   "metadata": {},
   "outputs": [],
   "source": [
    "from trainer import Trainer, Evaluator\n",
    "from models.Baseline import ClassificationTrainer as BaseCT"
   ]
  },
  {
   "cell_type": "code",
   "execution_count": null,
   "metadata": {},
   "outputs": [],
   "source": [
    "trainer = Trainer(BaseCT, config, _type=data.metrics_type, display_metrics=args.display)\n",
    "trainer.train(train_data, dev_data, save_on_metric=data.save_on_metric)\n",
    "\n",
    "evaluator = Evaluator(BaseCT, trainer.model.dirname, _type=data.metrics_type, display_metrics=args.display)\n",
    "_ = evaluator.evaluate(dev_data, save_results=True)\n",
    "print('='*300)"
   ]
  },
  {
   "cell_type": "code",
   "execution_count": null,
   "metadata": {},
   "outputs": [],
   "source": [
    "from PatientVec.models.baselines.LR import LR, LDA\n",
    "from PatientVec.Experiments.hyperparam_exps import get_basic_data\n",
    "\n",
    "train_data, dev_data = get_basic_data(data, truncate=100)\n",
    "lr = LR({'vocab' : data.vocab, 'stop_words' : True, 'exp_name' : data.name, 'type' : 'classifier', 'norm' : 'l2'})\n",
    "lr.train(train_data)\n",
    "lr.evaluate(dev_data, save_results=True)"
   ]
  },
  {
   "cell_type": "code",
   "execution_count": null,
   "metadata": {},
   "outputs": [],
   "source": [
    "lr.print_all_features(n=40)"
   ]
  },
  {
   "cell_type": "code",
   "execution_count": null,
   "metadata": {},
   "outputs": [],
   "source": [
    "words_tf = lr.get_features(classifier=lr.tf_idf_classifier, estimator=0, n=50)"
   ]
  },
  {
   "cell_type": "markdown",
   "metadata": {},
   "source": [
    "Attention Comparison\n",
    "===================="
   ]
  },
  {
   "cell_type": "code",
   "execution_count": null,
   "metadata": {},
   "outputs": [],
   "source": [
    "from PatientVec.models.Vanilla import ClassificationTrainer as BasicCT\n",
    "from PatientVec.models.Hierarchical import ClassificationTrainer as HierCT\n",
    "from PatientVec.trainer import Trainer, Evaluator\n",
    "from PatientVec.Experiments.modifiable_config_exp import vanilla_configs, attention_configs, hierarchical_configs, structured_configs"
   ]
  },
  {
   "cell_type": "code",
   "execution_count": null,
   "metadata": {},
   "outputs": [],
   "source": [
    "lstm_attention_config = attention_configs[2](data, structured=True, args=args)\n",
    "lstm_attn_eval = Evaluator(BasicCT, get_latest_model(os.path.join('outputs', lstm_attention_config['exp_config']['exp_name'])))\n",
    "dev_data = data.get_data('dev', structured=True)\n",
    "dev_data = data.filter_data_length(dev_data, truncate=90)\n",
    "lstm_outputs = lstm_attn_eval.evaluate(dev_data, save_results=False)\n",
    "del lstm_attn_eval"
   ]
  },
  {
   "cell_type": "code",
   "execution_count": null,
   "metadata": {},
   "outputs": [],
   "source": [
    "dev_data = data.get_data('dev', structured=True)\n",
    "dev_data = data.filter_data_length(dev_data, truncate=90)"
   ]
  },
  {
   "cell_type": "code",
   "execution_count": null,
   "metadata": {},
   "outputs": [],
   "source": [
    "from attention_comparison import get_common_attended_words\n",
    "X_1 = [dev_data.X[i] for i in range(len(dev_data.y)) if dev_data.y[i] == 1]\n",
    "attn_1 = [lstm_outputs['attentions'][i] for i in range(len(dev_data.y)) if dev_data.y[i] == 1]\n",
    "common_words = get_common_attended_words(X_1, attn_1, n=10)"
   ]
  },
  {
   "cell_type": "code",
   "execution_count": null,
   "metadata": {},
   "outputs": [],
   "source": [
    "words, freqs = list(zip(*common_words.most_common(50)))"
   ]
  },
  {
   "cell_type": "code",
   "execution_count": null,
   "metadata": {},
   "outputs": [],
   "source": [
    "words = data.vocab.map_to_words(words)"
   ]
  },
  {
   "cell_type": "code",
   "execution_count": null,
   "metadata": {},
   "outputs": [],
   "source": [
    "list(zip(words, freqs))"
   ]
  },
  {
   "cell_type": "code",
   "execution_count": null,
   "metadata": {},
   "outputs": [],
   "source": [
    "set(words) & set(words_tf), set(words) - set(words_tf), set(words_tf) - set(words)"
   ]
  },
  {
   "cell_type": "markdown",
   "metadata": {},
   "source": [
    "Saving Models\n",
    "=============="
   ]
  },
  {
   "cell_type": "code",
   "execution_count": null,
   "metadata": {},
   "outputs": [],
   "source": [
    "from common import generate_latex_tables\n",
    "keys_to_use = \n",
    "generate_latex_tables(data, keys_to_use)"
   ]
  }
 ],
 "metadata": {
  "kernelspec": {
   "display_name": "Python 3",
   "language": "python",
   "name": "python3"
  },
  "language_info": {
   "codemirror_mode": {
    "name": "ipython",
    "version": 3
   },
   "file_extension": ".py",
   "mimetype": "text/x-python",
   "name": "python",
   "nbconvert_exporter": "python",
   "pygments_lexer": "ipython3",
   "version": "3.7.2"
  }
 },
 "nbformat": 4,
 "nbformat_minor": 2
}
