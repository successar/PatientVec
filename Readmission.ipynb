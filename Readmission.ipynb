{
 "cells": [
  {
   "cell_type": "code",
   "execution_count": 1,
   "metadata": {},
   "outputs": [],
   "source": [
    "%load_ext autoreload\n",
    "%autoreload 2"
   ]
  },
  {
   "cell_type": "code",
   "execution_count": 3,
   "metadata": {},
   "outputs": [
    {
     "name": "stdout",
     "output_type": "stream",
     "text": [
      "Better speed can be achieved with apex installed from https://www.github.com/nvidia/apex.\n"
     ]
    }
   ],
   "source": [
    "import numpy as np\n",
    "from common import *\n",
    "from PatientVec.Experiments.hyperparam_exps import *"
   ]
  },
  {
   "cell_type": "code",
   "execution_count": 4,
   "metadata": {},
   "outputs": [],
   "source": [
    "import argparse\n",
    "parser = argparse.ArgumentParser(description='Run Diagnosis experiments')\n",
    "parser.add_argument(\"--data_dir\", type=str, required=True)\n",
    "parser.add_argument('--display', dest='display', action='store_true')\n",
    "parser.add_argument(\"--output_dir\", type=str)\n",
    "parser.add_argument(\"--mock\", dest='mock', action='store_true')\n",
    "\n",
    "args = parser.parse_args(['--data_dir=.', '--output_dir=outputs/', '--display'])"
   ]
  },
  {
   "cell_type": "code",
   "execution_count": null,
   "metadata": {},
   "outputs": [],
   "source": [
    "from dataloaders import readmission_dataset\n",
    "data = readmission_dataset(args)"
   ]
  },
  {
   "cell_type": "code",
   "execution_count": null,
   "metadata": {},
   "outputs": [],
   "source": [
    "train_data, dev_data = get_basic_data(data, structured=True, truncate=90)"
   ]
  },
  {
   "cell_type": "code",
   "execution_count": null,
   "metadata": {},
   "outputs": [],
   "source": [
    "results_auc = {}\n",
    "results_pr = {}"
   ]
  },
  {
   "cell_type": "code",
   "execution_count": null,
   "metadata": {},
   "outputs": [],
   "source": [
    "results_auc_l1 = {}\n",
    "results_pr_l1 = {}"
   ]
  },
  {
   "cell_type": "code",
   "execution_count": null,
   "metadata": {},
   "outputs": [],
   "source": [
    "for l in [1, 2, 3] :\n",
    "    config = {'vocab' : data.vocab, 'stop_words' : True, 'exp_name' : data.name, \n",
    "              'type' : data.metrics_type, 'norm' : 'l'+str(l), 'constant_mul' : 1.0}\n",
    "    lr = LR(config)\n",
    "    lr.train(train_data)\n",
    "    metrics = lr.evaluate(dev_data, save_results=True)"
   ]
  },
  {
   "cell_type": "code",
   "execution_count": null,
   "metadata": {},
   "outputs": [],
   "source": [
    "lr_models = {}\n",
    "for c in [1.0, 2.0, 5.0, 10.0, 50.0, 100.0, 500.0, 1000.0, 10000, 100000] :\n",
    "    config = {'vocab' : data.vocab, 'stop_words' : True, 'exp_name' : data.name, \n",
    "              'type' : data.metrics_type, 'norm' : 'l1', 'constant_mul' : c}\n",
    "    lr = LR(config)\n",
    "    lr.train(train_data)\n",
    "    metrics = lr.evaluate(dev_data, save_results=True)\n",
    "    results_auc_l1[c] = metrics['roc_auc']\n",
    "    results_pr_l1[c] = metrics['pr_auc']"
   ]
  },
  {
   "cell_type": "code",
   "execution_count": null,
   "metadata": {},
   "outputs": [],
   "source": [
    "logx = list(results_auc.keys())\n",
    "plt.plot(logx, list(results_auc.values()))"
   ]
  },
  {
   "cell_type": "code",
   "execution_count": null,
   "metadata": {},
   "outputs": [],
   "source": [
    "results_pr_l1"
   ]
  },
  {
   "cell_type": "code",
   "execution_count": null,
   "metadata": {},
   "outputs": [],
   "source": [
    "results_auc"
   ]
  },
  {
   "cell_type": "code",
   "execution_count": null,
   "metadata": {},
   "outputs": [],
   "source": [
    "l1_feat = lr_models[1].bow_classifier.estimators_[0].coef_[0]\n",
    "l2_feat = lr_models[2].bow_classifier.estimators_[0].coef_[0]\n",
    "l3_feat = lr_models[3].bow_classifier.estimators_[0].coef_[0]"
   ]
  },
  {
   "cell_type": "code",
   "execution_count": null,
   "metadata": {},
   "outputs": [],
   "source": [
    "import seaborn as sns\n",
    "sns.kdeplot(sorted(l1_feat))\n",
    "sns.kdeplot(sorted(l2_feat))\n",
    "sns.kdeplot(sorted(l3_feat))"
   ]
  },
  {
   "cell_type": "code",
   "execution_count": null,
   "metadata": {},
   "outputs": [],
   "source": [
    "train_data = data.filter_data_length(data.get_data('train', structured=True), 90)"
   ]
  },
  {
   "cell_type": "code",
   "execution_count": null,
   "metadata": {},
   "outputs": [],
   "source": [
    "args.data_dir = '../../../SurgeryData/PatientVec/'"
   ]
  },
  {
   "cell_type": "code",
   "execution_count": 5,
   "metadata": {},
   "outputs": [
    {
     "name": "stderr",
     "output_type": "stream",
     "text": [
      "INFO - 2019-03-19 15:01:40,567 - Reading Structured data ...\n",
      "INFO - 2019-03-19 15:01:40,698 - Reading Notes ...\n",
      "INFO - 2019-03-19 15:01:41,850 - Stratifying ...\n"
     ]
    }
   ],
   "source": [
    "from dataloaders import hip_dataset\n",
    "data = hip_dataset(args)"
   ]
  },
  {
   "cell_type": "code",
   "execution_count": 6,
   "metadata": {},
   "outputs": [
    {
     "name": "stdout",
     "output_type": "stream",
     "text": [
      "Pos Percentage [0.10839746]\n"
     ]
    },
    {
     "name": "stderr",
     "output_type": "stream",
     "text": [
      "INFO - 2019-03-19 15:01:42,516 - Maximum Sentence Length 610378.000000 , 90 percentile length 32225.000000 ... \n",
      "INFO - 2019-03-19 15:01:43,715 - Truncated all ...\n",
      "INFO - 2019-03-19 15:01:43,838 - Maximum Sentence Length 93892.000000 , 90 percentile length 27899.000000 ... \n"
     ]
    },
    {
     "name": "stdout",
     "output_type": "stream",
     "text": [
      "Pos Percentage [0.08990536]\n"
     ]
    },
    {
     "name": "stderr",
     "output_type": "stream",
     "text": [
      "INFO - 2019-03-19 15:01:44,435 - Truncated all ...\n"
     ]
    }
   ],
   "source": [
    "from PatientVec.Experiments.evaluate import get_evaluator\n",
    "train_data, dev_data = get_basic_data(data, structured=False, truncate=90)"
   ]
  },
  {
   "cell_type": "code",
   "execution_count": 26,
   "metadata": {},
   "outputs": [
    {
     "name": "stderr",
     "output_type": "stream",
     "text": [
      "INFO - 2019-03-19 15:06:05,099 - instantiating class <class 'PatientVec.models.Model.Model'> from params {'type': 'seq_classifier', 'embedder': {'type': 'token_embedder', 'vocab_size': 24738, 'embed_size': 200, 'embedding_file': './preprocess/HipSurgery/3_yrs/embedding_matrix.npy'}, 'decoder': {'num_layers': 2, 'hidden_dims': [128, 1], 'activations': ['tanh', 'linear']}, 'predictor': {'type': 'binary', 'replicate': True, 'alpha': 0.3}, 'structured': {'use_structured': False}, 'encoder': {'type': 'lstm', 'hidden_size': 128}} and extras {}\n",
      "INFO - 2019-03-19 15:06:05,099 - type = seq_classifier\n",
      "INFO - 2019-03-19 15:06:05,099 - instantiating class <class 'PatientVec.models.modules.Embedder.Embedder'> from params {'type': 'token_embedder', 'vocab_size': 24738, 'embed_size': 200, 'embedding_file': './preprocess/HipSurgery/3_yrs/embedding_matrix.npy'} and extras {}\n",
      "INFO - 2019-03-19 15:06:05,100 - embedder.type = token_embedder\n",
      "INFO - 2019-03-19 15:06:05,100 - instantiating class <class 'PatientVec.models.modules.Embedder.TokenEmbedder'> from params {'vocab_size': 24738, 'embed_size': 200, 'embedding_file': './preprocess/HipSurgery/3_yrs/embedding_matrix.npy'} and extras {}\n",
      "INFO - 2019-03-19 15:06:05,100 - embedder.vocab_size = 24738\n",
      "INFO - 2019-03-19 15:06:05,101 - embedder.embed_size = 200\n",
      "INFO - 2019-03-19 15:06:05,102 - embedder.embedding_file = ./preprocess/HipSurgery/3_yrs/embedding_matrix.npy\n",
      "INFO - 2019-03-19 15:06:05,112 - instantiating class <class 'PatientVec.models.modules.Encoder.Encoder'> from params {'type': 'lstm', 'hidden_size': 128} and extras {'input_size': 200}\n",
      "INFO - 2019-03-19 15:06:05,112 - encoder.type = lstm\n",
      "INFO - 2019-03-19 15:06:05,112 - instantiating class <class 'PatientVec.models.modules.Encoder.wrap_pytorch_rnn.<locals>.BiRNNEncoder'> from params {'hidden_size': 128} and extras {'input_size': 200}\n",
      "INFO - 2019-03-19 15:06:05,113 - encoder.hidden_size = 128\n",
      "INFO - 2019-03-19 15:06:05,115 - decoder.input_dim = 256\n",
      "INFO - 2019-03-19 15:06:05,115 - decoder.num_layers = 2\n",
      "INFO - 2019-03-19 15:06:05,116 - decoder.hidden_dims = [128, 1]\n",
      "INFO - 2019-03-19 15:06:05,116 - decoder.activations = ['tanh', 'linear']\n",
      "INFO - 2019-03-19 15:06:05,116 - decoder.dropout = 0.0\n",
      "INFO - 2019-03-19 15:06:05,117 - instantiating class <class 'PatientVec.models.modules.Predictor.Predictor'> from params {'type': 'binary', 'replicate': True, 'alpha': 0.3} and extras {}\n",
      "INFO - 2019-03-19 15:06:05,118 - predictor.type = binary\n",
      "INFO - 2019-03-19 15:06:05,118 - instantiating class <class 'PatientVec.models.modules.Predictor.Binary_Predictor'> from params {'replicate': True, 'alpha': 0.3} and extras {}\n",
      "INFO - 2019-03-19 15:06:05,118 - predictor.replicate = True\n",
      "INFO - 2019-03-19 15:06:05,118 - predictor.alpha = 0.3\n"
     ]
    },
    {
     "name": "stdout",
     "output_type": "stream",
     "text": [
      "Setting Embedding\n"
     ]
    },
    {
     "data": {
      "application/vnd.jupyter.widget-view+json": {
       "model_id": "4fe633264116453c9c5ae3facf79da4a",
       "version_major": 2,
       "version_minor": 0
      },
      "text/plain": [
       "HBox(children=(IntProgress(value=0, max=80), HTML(value='')))"
      ]
     },
     "metadata": {},
     "output_type": "display_data"
    },
    {
     "name": "stdout",
     "output_type": "stream",
     "text": [
      "\n",
      "{'accuracy': 0.750788643533123, 'roc_auc': 0.64967010246587, 'pr_auc': 0.16622182328777774}\n"
     ]
    },
    {
     "data": {
      "text/html": [
       "<div>\n",
       "<style scoped>\n",
       "    .dataframe tbody tr th:only-of-type {\n",
       "        vertical-align: middle;\n",
       "    }\n",
       "\n",
       "    .dataframe tbody tr th {\n",
       "        vertical-align: top;\n",
       "    }\n",
       "\n",
       "    .dataframe thead th {\n",
       "        text-align: right;\n",
       "    }\n",
       "</style>\n",
       "<table border=\"1\" class=\"dataframe\">\n",
       "  <thead>\n",
       "    <tr style=\"text-align: right;\">\n",
       "      <th></th>\n",
       "      <th>0.0</th>\n",
       "      <th>1.0</th>\n",
       "      <th>micro avg</th>\n",
       "      <th>macro avg</th>\n",
       "      <th>weighted avg</th>\n",
       "    </tr>\n",
       "  </thead>\n",
       "  <tbody>\n",
       "    <tr>\n",
       "      <th>f1-score</th>\n",
       "      <td>0.850</td>\n",
       "      <td>0.275</td>\n",
       "      <td>0.751</td>\n",
       "      <td>0.562</td>\n",
       "      <td>0.798</td>\n",
       "    </tr>\n",
       "    <tr>\n",
       "      <th>precision</th>\n",
       "      <td>0.943</td>\n",
       "      <td>0.186</td>\n",
       "      <td>0.751</td>\n",
       "      <td>0.565</td>\n",
       "      <td>0.875</td>\n",
       "    </tr>\n",
       "    <tr>\n",
       "      <th>recall</th>\n",
       "      <td>0.773</td>\n",
       "      <td>0.526</td>\n",
       "      <td>0.751</td>\n",
       "      <td>0.650</td>\n",
       "      <td>0.751</td>\n",
       "    </tr>\n",
       "    <tr>\n",
       "      <th>support</th>\n",
       "      <td>577.000</td>\n",
       "      <td>57.000</td>\n",
       "      <td>634.000</td>\n",
       "      <td>634.000</td>\n",
       "      <td>634.000</td>\n",
       "    </tr>\n",
       "  </tbody>\n",
       "</table>\n",
       "</div>"
      ],
      "text/plain": [
       "               0.0     1.0  micro avg  macro avg  weighted avg\n",
       "f1-score     0.850   0.275      0.751      0.562         0.798\n",
       "precision    0.943   0.186      0.751      0.565         0.875\n",
       "recall       0.773   0.526      0.751      0.650         0.751\n",
       "support    577.000  57.000    634.000    634.000       634.000"
      ]
     },
     "metadata": {},
     "output_type": "display_data"
    }
   ],
   "source": [
    "evaluator = get_evaluator(data, 'Basic/LSTM(hs=128)+Replicate')\n",
    "output = evaluator.evaluate(dev_data)"
   ]
  },
  {
   "cell_type": "code",
   "execution_count": 27,
   "metadata": {},
   "outputs": [
    {
     "data": {
      "application/vnd.jupyter.widget-view+json": {
       "model_id": "76f1153e21a24186b7c876c23acf5c2b",
       "version_major": 2,
       "version_minor": 0
      },
      "text/plain": [
       "HBox(children=(IntProgress(value=0, max=2989), HTML(value='')))"
      ]
     },
     "metadata": {},
     "output_type": "display_data"
    },
    {
     "name": "stdout",
     "output_type": "stream",
     "text": [
      "\n",
      "Normalising using l2\n",
      "Using Norm from linalg\n",
      "Multiplying by constant ,  1.0\n",
      "Fit BOW Classifier ...\n"
     ]
    },
    {
     "data": {
      "application/vnd.jupyter.widget-view+json": {
       "model_id": "0a3c5b89d24e4bf392aa79b09fee8ab2",
       "version_major": 2,
       "version_minor": 0
      },
      "text/plain": [
       "HBox(children=(IntProgress(value=0, max=634), HTML(value='')))"
      ]
     },
     "metadata": {},
     "output_type": "display_data"
    },
    {
     "name": "stdout",
     "output_type": "stream",
     "text": [
      "\n",
      "Normalising using l2\n",
      "Using Norm from linalg\n",
      "Multiplying by constant ,  1.0\n",
      "BOW\n",
      "{'accuracy': 0.8580441640378549, 'roc_auc': 0.8024871537596158, 'pr_auc': 0.3785741830938421}\n"
     ]
    },
    {
     "data": {
      "text/html": [
       "<div>\n",
       "<style scoped>\n",
       "    .dataframe tbody tr th:only-of-type {\n",
       "        vertical-align: middle;\n",
       "    }\n",
       "\n",
       "    .dataframe tbody tr th {\n",
       "        vertical-align: top;\n",
       "    }\n",
       "\n",
       "    .dataframe thead th {\n",
       "        text-align: right;\n",
       "    }\n",
       "</style>\n",
       "<table border=\"1\" class=\"dataframe\">\n",
       "  <thead>\n",
       "    <tr style=\"text-align: right;\">\n",
       "      <th></th>\n",
       "      <th>0.0</th>\n",
       "      <th>1.0</th>\n",
       "      <th>micro avg</th>\n",
       "      <th>macro avg</th>\n",
       "      <th>weighted avg</th>\n",
       "    </tr>\n",
       "  </thead>\n",
       "  <tbody>\n",
       "    <tr>\n",
       "      <th>f1-score</th>\n",
       "      <td>0.919</td>\n",
       "      <td>0.430</td>\n",
       "      <td>0.858</td>\n",
       "      <td>0.675</td>\n",
       "      <td>0.875</td>\n",
       "    </tr>\n",
       "    <tr>\n",
       "      <th>precision</th>\n",
       "      <td>0.957</td>\n",
       "      <td>0.337</td>\n",
       "      <td>0.858</td>\n",
       "      <td>0.647</td>\n",
       "      <td>0.901</td>\n",
       "    </tr>\n",
       "    <tr>\n",
       "      <th>recall</th>\n",
       "      <td>0.884</td>\n",
       "      <td>0.596</td>\n",
       "      <td>0.858</td>\n",
       "      <td>0.740</td>\n",
       "      <td>0.858</td>\n",
       "    </tr>\n",
       "    <tr>\n",
       "      <th>support</th>\n",
       "      <td>577.000</td>\n",
       "      <td>57.000</td>\n",
       "      <td>634.000</td>\n",
       "      <td>634.000</td>\n",
       "      <td>634.000</td>\n",
       "    </tr>\n",
       "  </tbody>\n",
       "</table>\n",
       "</div>"
      ],
      "text/plain": [
       "               0.0     1.0  micro avg  macro avg  weighted avg\n",
       "f1-score     0.919   0.430      0.858      0.675         0.875\n",
       "precision    0.957   0.337      0.858      0.647         0.901\n",
       "recall       0.884   0.596      0.858      0.740         0.858\n",
       "support    577.000  57.000    634.000    634.000       634.000"
      ]
     },
     "metadata": {},
     "output_type": "display_data"
    },
    {
     "data": {
      "application/vnd.jupyter.widget-view+json": {
       "model_id": "4fcb136442974c61a61e762a705d30c6",
       "version_major": 2,
       "version_minor": 0
      },
      "text/plain": [
       "HBox(children=(IntProgress(value=0, max=634), HTML(value='')))"
      ]
     },
     "metadata": {},
     "output_type": "display_data"
    },
    {
     "name": "stdout",
     "output_type": "stream",
     "text": [
      "\n",
      "Normalising using l2\n",
      "Using Norm from linalg\n",
      "Multiplying by constant ,  1.0\n"
     ]
    }
   ],
   "source": [
    "config = {'vocab' : data.vocab, 'stop_words' : True, 'exp_name' : data.name, \n",
    "          'type' : data.metrics_type, 'norm' : 'l2', 'constant_mul' : 1.0}\n",
    "lr = LR(config)\n",
    "lr.train(train_data)\n",
    "metrics = lr.evaluate(dev_data, save_results=True)\n",
    "pred = lr.predict(dev_data)"
   ]
  },
  {
   "cell_type": "code",
   "execution_count": 28,
   "metadata": {},
   "outputs": [],
   "source": [
    "lstm_y = output['predictions'][:, 0]\n",
    "lr_y = pred[:, 1]\n",
    "true_y = np.array(dev_data.y)[:, 0]"
   ]
  },
  {
   "cell_type": "code",
   "execution_count": 29,
   "metadata": {},
   "outputs": [
    {
     "data": {
      "text/plain": [
       "<matplotlib.collections.PathCollection at 0x7f5d841e8128>"
      ]
     },
     "execution_count": 29,
     "metadata": {},
     "output_type": "execute_result"
    },
    {
     "data": {
      "image/png": "[encoded data removed]",
      "text/plain": [
       "<Figure size 432x288 with 1 Axes>"
      ]
     },
     "metadata": {
      "needs_background": "light"
     },
     "output_type": "display_data"
    }
   ],
   "source": [
    "plt.scatter(lstm_y, lr_y, s=1, c=true_y)"
   ]
  },
  {
   "cell_type": "code",
   "execution_count": 30,
   "metadata": {},
   "outputs": [],
   "source": [
    "from sklearn.metrics import *"
   ]
  },
  {
   "cell_type": "code",
   "execution_count": 31,
   "metadata": {},
   "outputs": [],
   "source": [
    "bins = [0.0, 0.25, 0.5, 0.75]\n",
    "results = {}\n",
    "rocs = {}\n",
    "for b in bins :\n",
    "    idx = np.where(np.logical_and(lr_y >= b, lr_y < b+0.25))[0]\n",
    "    results[b] = {'lr' : lr_y[idx], 'lstm' : lstm_y[idx], 'true' : true_y[idx]}\n",
    "    rocs[b] = {'lr' : roc_auc_score(true_y[idx], lr_y[idx]), 'lstm' : roc_auc_score(true_y[idx], lstm_y[idx])}"
   ]
  },
  {
   "cell_type": "code",
   "execution_count": 32,
   "metadata": {},
   "outputs": [
    {
     "data": {
      "text/plain": [
       "{0.0: {'lr': 0.6882387706855791, 'lstm': 0.6462765957446809},\n",
       " 0.25: {'lr': 0.39125386996904027, 'lstm': 0.5957172342621259},\n",
       " 0.5: {'lr': 0.5872641509433962, 'lstm': 0.45754716981132076},\n",
       " 0.75: {'lr': 0.5, 'lstm': 0.625}}"
      ]
     },
     "execution_count": 32,
     "metadata": {},
     "output_type": "execute_result"
    }
   ],
   "source": [
    "rocs"
   ]
  },
  {
   "cell_type": "code",
   "execution_count": 33,
   "metadata": {},
   "outputs": [],
   "source": [
    "idx_end = np.where(np.logical_or(lr_y < 0.25, lr_y > 0.75))[0]\n",
    "idx_middle = np.where(np.logical_and(lr_y > 0.25, lr_y < 0.75))[0]"
   ]
  },
  {
   "cell_type": "code",
   "execution_count": 37,
   "metadata": {},
   "outputs": [
    {
     "data": {
      "text/plain": [
       "(0.8961852477477478, 0.7737894144144144)"
      ]
     },
     "execution_count": 37,
     "metadata": {},
     "output_type": "execute_result"
    }
   ],
   "source": [
    "roc_auc_score(true_y[idx_end], lr_y[idx_end]), roc_auc_score(true_y[idx_end], lstm_y[idx_end])"
   ]
  },
  {
   "cell_type": "code",
   "execution_count": 36,
   "metadata": {},
   "outputs": [
    {
     "data": {
      "text/plain": [
       "(0.6106438045939825, 0.5430281462309932)"
      ]
     },
     "execution_count": 36,
     "metadata": {},
     "output_type": "execute_result"
    }
   ],
   "source": [
    "roc_auc_score(true_y[idx_middle], lr_y[idx_middle]), roc_auc_score(true_y[idx_middle], lstm_y[idx_middle])"
   ]
  },
  {
   "cell_type": "markdown",
   "metadata": {},
   "source": [
    "Saving Models\n",
    "=============="
   ]
  },
  {
   "cell_type": "code",
   "execution_count": null,
   "metadata": {},
   "outputs": [],
   "source": [
    "from common import generate_latex_tables\n",
    "keys_to_use = ['roc_auc', 'pr_auc']\n",
    "generate_latex_tables(data, keys_to_use)"
   ]
  },
  {
   "cell_type": "code",
   "execution_count": null,
   "metadata": {},
   "outputs": [],
   "source": [
    "dirname = 'outputs/Readmission/Basic/'\n",
    "exps = os.listdir(dirname)\n",
    "for e in sorted(exps) :\n",
    "    if 'Structured' in e :\n",
    "        print(e)\n",
    "        print_results_from_model(get_latest_model(os.path.join(dirname, e)))"
   ]
  },
  {
   "cell_type": "code",
   "execution_count": null,
   "metadata": {},
   "outputs": [],
   "source": [
    "dirname = 'outputs/Diagnosis/Basic/'\n",
    "exps = os.listdir(dirname)\n",
    "for e in sorted(exps) :\n",
    "    if 'Structured' in e :\n",
    "        print(e)\n",
    "        print_results_from_model(get_latest_model(os.path.join(dirname, e)))"
   ]
  },
  {
   "cell_type": "code",
   "execution_count": null,
   "metadata": {},
   "outputs": [],
   "source": []
  }
 ],
 "metadata": {
  "kernelspec": {
   "display_name": "Python 3",
   "language": "python",
   "name": "python3"
  },
  "language_info": {
   "codemirror_mode": {
    "name": "ipython",
    "version": 3
   },
   "file_extension": ".py",
   "mimetype": "text/x-python",
   "name": "python",
   "nbconvert_exporter": "python",
   "pygments_lexer": "ipython3",
   "version": "3.6.7"
  }
 },
 "nbformat": 4,
 "nbformat_minor": 2
}
