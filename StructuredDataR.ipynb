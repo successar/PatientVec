{
 "cells": [
  {
   "cell_type": "code",
   "execution_count": 1,
   "metadata": {},
   "outputs": [],
   "source": [
    "library(RcppCNPy)"
   ]
  },
  {
   "cell_type": "code",
   "execution_count": 2,
   "metadata": {},
   "outputs": [],
   "source": [
    "X <- npyLoad(\"hip_1yr_structured.npy\")\n",
    "y <- npyLoad('hip_1yr_y.npy')"
   ]
  },
  {
   "cell_type": "code",
   "execution_count": 4,
   "metadata": {},
   "outputs": [
    {
     "data": {
      "text/plain": [
       "\n",
       "Call:  glm(formula = y ~ X[, 3763:(3763 + 8)], family = binomial(link = \"logit\"))\n",
       "\n",
       "Coefficients:\n",
       "          (Intercept)  X[, 3763:(3763 + 8)]1  X[, 3763:(3763 + 8)]2  \n",
       "              -2.1203                     NA                14.1215  \n",
       "X[, 3763:(3763 + 8)]3  X[, 3763:(3763 + 8)]4  X[, 3763:(3763 + 8)]5  \n",
       "              -3.3892                -0.6470                 0.7566  \n",
       "X[, 3763:(3763 + 8)]6  X[, 3763:(3763 + 8)]7  X[, 3763:(3763 + 8)]8  \n",
       "              -4.6006                 0.7013                -1.0466  \n",
       "X[, 3763:(3763 + 8)]9  \n",
       "              -0.5501  \n",
       "\n",
       "Degrees of Freedom: 2988 Total (i.e. Null);  2980 Residual\n",
       "Null Deviance:\t    2051 \n",
       "Residual Deviance: 2033 \tAIC: 2051"
      ]
     },
     "metadata": {},
     "output_type": "display_data"
    }
   ],
   "source": [
    "glm(y ~ X[, 3763:(3763+8)], family=binomial(link='logit'))"
   ]
  },
  {
   "cell_type": "code",
   "execution_count": 12,
   "metadata": {},
   "outputs": [
    {
     "data": {
      "text/html": [
       "4065"
      ],
      "text/latex": [
       "4065"
      ],
      "text/markdown": [
       "4065"
      ],
      "text/plain": [
       "[1] 4065"
      ]
     },
     "metadata": {},
     "output_type": "display_data"
    }
   ],
   "source": [
    "ncol(X)"
   ]
  },
  {
   "cell_type": "code",
   "execution_count": null,
   "metadata": {},
   "outputs": [],
   "source": []
  }
 ],
 "metadata": {
  "kernelspec": {
   "display_name": "R",
   "language": "R",
   "name": "ir"
  },
  "language_info": {
   "codemirror_mode": "r",
   "file_extension": ".r",
   "mimetype": "text/x-r-source",
   "name": "R",
   "pygments_lexer": "r",
   "version": "3.5.3"
  }
 },
 "nbformat": 4,
 "nbformat_minor": 2
}
