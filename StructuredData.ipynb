{
 "cells": [
  {
   "cell_type": "code",
   "execution_count": 1,
   "metadata": {},
   "outputs": [],
   "source": [
    "%load_ext autoreload\n",
    "%autoreload 2"
   ]
  },
  {
   "cell_type": "code",
   "execution_count": 2,
   "metadata": {},
   "outputs": [],
   "source": [
    "from dataloaders import dataloaders"
   ]
  },
  {
   "cell_type": "code",
   "execution_count": 11,
   "metadata": {},
   "outputs": [
    {
     "name": "stderr",
     "output_type": "stream",
     "text": [
      "INFO - 2019-04-05 16:21:13,574 - Reading Structured data ...\n",
      "INFO - 2019-04-05 16:21:13,931 - Reading Notes ...\n",
      "INFO - 2019-04-05 16:21:15,071 - Stratifying ...\n"
     ]
    }
   ],
   "source": [
    "dataset = dataloaders['hip_1yr'](None)\n",
    "dataset.set_structured_params(regexs=['Binarized'])"
   ]
  },
  {
   "cell_type": "code",
   "execution_count": 12,
   "metadata": {},
   "outputs": [],
   "source": [
    "import statsmodels.api as sm\n",
    "import statsmodels.formula.api as smf"
   ]
  },
  {
   "cell_type": "code",
   "execution_count": 13,
   "metadata": {},
   "outputs": [
    {
     "name": "stdout",
     "output_type": "stream",
     "text": [
      "Pos Percentage [0.10839746]\n",
      "Pos Percentage [0.08990536]\n",
      "Pos Percentage [0.07606973]\n"
     ]
    }
   ],
   "source": [
    "train_data, dev_data, test_data = dataset.get_data('train', structured=True), dataset.get_data('dev', structured=True), dataset.get_data('test', structured=True)"
   ]
  },
  {
   "cell_type": "code",
   "execution_count": 15,
   "metadata": {},
   "outputs": [
    {
     "data": {
      "text/plain": [
       "array([[0., 0., 0., ..., 1., 0., 0.],\n",
       "       [0., 0., 0., ..., 1., 0., 0.],\n",
       "       [0., 0., 0., ..., 1., 0., 0.],\n",
       "       ...,\n",
       "       [0., 0., 0., ..., 1., 0., 0.],\n",
       "       [0., 0., 0., ..., 1., 0., 0.],\n",
       "       [0., 0., 0., ..., 1., 0., 0.]], dtype=float32)"
      ]
     },
     "execution_count": 15,
     "metadata": {},
     "output_type": "execute_result"
    }
   ],
   "source": [
    "train_data.structured_data = train_data.structured_data.astype('float32')\n",
    "train_data.structured_data"
   ]
  },
  {
   "cell_type": "code",
   "execution_count": 24,
   "metadata": {},
   "outputs": [],
   "source": [
    "keepcols = train_data.structured_data.sum(0) != 0"
   ]
  },
  {
   "cell_type": "code",
   "execution_count": 27,
   "metadata": {},
   "outputs": [],
   "source": [
    "X = train_data.structured_data[:, keepcols]"
   ]
  },
  {
   "cell_type": "code",
   "execution_count": 32,
   "metadata": {},
   "outputs": [
    {
     "name": "stdout",
     "output_type": "stream",
     "text": [
      "Optimization terminated successfully.    (Exit mode 0)\n",
      "            Current function value: 0.6819327574656558\n",
      "            Iterations: 50\n",
      "            Function evaluations: 51\n",
      "            Gradient evaluations: 50\n",
      "QC check did not pass for 3 out of 5 parameters\n",
      "Try increasing solver accuracy or number of iterations, decreasing alpha, or switch solvers\n",
      "Could not trim params automatically due to failed QC check.  Trimming using trim_mode == 'size' will still work.\n",
      "                           Logit Regression Results                           \n",
      "==============================================================================\n",
      "Dep. Variable:                      y   No. Observations:                 2989\n",
      "Model:                          Logit   Df Residuals:                     2984\n",
      "Method:                           MLE   Df Model:                            4\n",
      "Date:                Fri, 05 Apr 2019   Pseudo R-squ.:                 -0.9868\n",
      "Time:                        16:47:19   Log-Likelihood:                -2037.9\n",
      "converged:                       True   LL-Null:                       -1025.7\n",
      "                                        LLR p-value:                     1.000\n",
      "==============================================================================\n",
      "                 coef    std err          z      P>|z|      [0.025      0.975]\n",
      "------------------------------------------------------------------------------\n",
      "x1          -142.5454    168.308     -0.847      0.397    -472.422     187.332\n",
      "x2           -64.9828    117.461     -0.553      0.580    -295.203     165.237\n",
      "x3           -32.4984     12.872     -2.525      0.012     -57.727      -7.269\n",
      "x4           -67.2785    130.175     -0.517      0.605    -322.418     187.861\n",
      "x5           -30.6271      8.115     -3.774      0.000     -46.532     -14.722\n",
      "==============================================================================\n"
     ]
    }
   ],
   "source": [
    "glm_binom = sm.Logit(train_data.y, X[:, 0:5])\n",
    "res = glm_binom.fit_regularized(alpha=0.001, L1_wt=0, disp=True)\n",
    "print(res.summary())"
   ]
  },
  {
   "cell_type": "code",
   "execution_count": null,
   "metadata": {},
   "outputs": [],
   "source": [
    "res.summary()"
   ]
  },
  {
   "cell_type": "code",
   "execution_count": null,
   "metadata": {},
   "outputs": [],
   "source": [
    "import numpy as np\n",
    "np.save('hip_1yr_structured.npy', train_data.structured_data)"
   ]
  },
  {
   "cell_type": "code",
   "execution_count": null,
   "metadata": {},
   "outputs": [],
   "source": [
    "np.save('hip_1yr_y.npy', np.array(train_data.y))"
   ]
  },
  {
   "cell_type": "code",
   "execution_count": null,
   "metadata": {},
   "outputs": [],
   "source": []
  }
 ],
 "metadata": {
  "kernelspec": {
   "display_name": "Python 3",
   "language": "python",
   "name": "python3"
  },
  "language_info": {
   "codemirror_mode": {
    "name": "ipython",
    "version": 3
   },
   "file_extension": ".py",
   "mimetype": "text/x-python",
   "name": "python",
   "nbconvert_exporter": "python",
   "pygments_lexer": "ipython3",
   "version": "3.7.1"
  }
 },
 "nbformat": 4,
 "nbformat_minor": 2
}
