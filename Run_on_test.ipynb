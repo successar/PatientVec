{
 "cells": [
  {
   "cell_type": "code",
   "execution_count": null,
   "metadata": {},
   "outputs": [
    {
     "name": "stdout",
     "output_type": "stream",
     "text": [
      "Better speed can be achieved with apex installed from https://www.github.com/nvidia/apex.\n"
     ]
    },
    {
     "name": "stderr",
     "output_type": "stream",
     "text": [
      "INFO - 2019-03-27 17:52:53,961 - Reading Structured data ...\n",
      "INFO - 2019-03-27 17:52:54,103 - Reading Notes ...\n",
      "INFO - 2019-03-27 17:53:03,107 - Stratifying ...\n"
     ]
    },
    {
     "name": "stdout",
     "output_type": "stream",
     "text": [
      "Pos Percentage [0.25239128]\n"
     ]
    },
    {
     "name": "stderr",
     "output_type": "stream",
     "text": [
      "INFO - 2019-03-27 17:53:06,703 - Maximum Sentence Length 721825.000000 , 90 percentile length 18596.000000 ... \n",
      "INFO - 2019-03-27 17:53:14,784 - Truncated all ...\n",
      "INFO - 2019-03-27 17:53:14,825 - Idxs removed []...\n"
     ]
    },
    {
     "name": "stdout",
     "output_type": "stream",
     "text": [
      "Pos Percentage [0.25692909]\n"
     ]
    },
    {
     "name": "stderr",
     "output_type": "stream",
     "text": [
      "INFO - 2019-03-27 17:53:15,657 - Maximum Sentence Length 420764.000000 , 90 percentile length 17662.000000 ... \n",
      "INFO - 2019-03-27 17:53:17,189 - Truncated all ...\n",
      "INFO - 2019-03-27 17:53:17,200 - Idxs removed []...\n"
     ]
    },
    {
     "name": "stdout",
     "output_type": "stream",
     "text": [
      "Pos Percentage [0.25656373]\n"
     ]
    },
    {
     "name": "stderr",
     "output_type": "stream",
     "text": [
      "INFO - 2019-03-27 17:53:18,133 - Maximum Sentence Length 707041.000000 , 90 percentile length 17669.000000 ... \n",
      "INFO - 2019-03-27 17:53:21,923 - Truncated all ...\n",
      "INFO - 2019-03-27 17:53:21,936 - Idxs removed []...\n",
      "INFO - 2019-03-27 17:53:21,996 - instantiating class <class 'PatientVec.models.Model.Model'> from params {'type': 'seq_classifier', 'embedder': {'type': 'token_embedder', 'vocab_size': 29286, 'embed_size': 200, 'embedding_file': './preprocess/Mortality/embedding_matrix.npy'}, 'decoder': {'num_layers': 2, 'hidden_dims': [128, 1], 'activations': ['tanh', 'linear']}, 'predictor': {'type': 'binary'}, 'structured': {'use_structured': True, 'structured_dim': 50}, 'encoder': {'type': 'average', 'projection': True, 'hidden_size': 256, 'activation': 'relu'}} and extras {}\n",
      "INFO - 2019-03-27 17:53:21,996 - type = seq_classifier\n",
      "INFO - 2019-03-27 17:53:21,997 - instantiating class <class 'PatientVec.models.modules.Embedder.Embedder'> from params {'type': 'token_embedder', 'vocab_size': 29286, 'embed_size': 200, 'embedding_file': './preprocess/Mortality/embedding_matrix.npy'} and extras {}\n",
      "INFO - 2019-03-27 17:53:21,997 - embedder.type = token_embedder\n",
      "INFO - 2019-03-27 17:53:21,997 - instantiating class <class 'PatientVec.models.modules.Embedder.TokenEmbedder'> from params {'vocab_size': 29286, 'embed_size': 200, 'embedding_file': './preprocess/Mortality/embedding_matrix.npy'} and extras {}\n",
      "INFO - 2019-03-27 17:53:22,063 - embedder.vocab_size = 29286\n",
      "INFO - 2019-03-27 17:53:22,064 - embedder.embed_size = 200\n",
      "INFO - 2019-03-27 17:53:22,064 - embedder.embedding_file = ./preprocess/Mortality/embedding_matrix.npy\n",
      "INFO - 2019-03-27 17:53:22,079 - instantiating class <class 'PatientVec.models.modules.Encoder.Encoder'> from params {'type': 'average', 'projection': True, 'hidden_size': 256, 'activation': 'relu'} and extras {'input_size': 200}\n",
      "INFO - 2019-03-27 17:53:22,080 - encoder.type = average\n",
      "INFO - 2019-03-27 17:53:22,080 - instantiating class <class 'PatientVec.models.modules.Encoder.AverageEncoder'> from params {'projection': True, 'hidden_size': 256, 'activation': 'relu'} and extras {'input_size': 200}\n",
      "INFO - 2019-03-27 17:53:22,081 - encoder.projection = True\n",
      "INFO - 2019-03-27 17:53:22,081 - encoder.hidden_size = 256\n",
      "INFO - 2019-03-27 17:53:22,082 - encoder.activation = relu\n",
      "INFO - 2019-03-27 17:53:22,083 - decoder.input_dim = 306\n",
      "INFO - 2019-03-27 17:53:22,083 - decoder.num_layers = 2\n",
      "INFO - 2019-03-27 17:53:22,083 - decoder.hidden_dims = [128, 1]\n",
      "INFO - 2019-03-27 17:53:22,084 - decoder.activations = ['tanh', 'linear']\n",
      "INFO - 2019-03-27 17:53:22,084 - decoder.dropout = 0.0\n",
      "INFO - 2019-03-27 17:53:22,085 - instantiating class <class 'PatientVec.models.modules.Predictor.Predictor'> from params {'type': 'binary'} and extras {}\n",
      "INFO - 2019-03-27 17:53:22,085 - predictor.type = binary\n",
      "INFO - 2019-03-27 17:53:22,086 - instantiating class <class 'PatientVec.models.modules.Predictor.Binary_Predictor'> from params {} and extras {}\n",
      "INFO - 2019-03-27 17:53:22,086 - predictor.replicate = False\n",
      "INFO - 2019-03-27 17:53:22,086 - predictor.alpha = 0.5\n"
     ]
    },
    {
     "name": "stdout",
     "output_type": "stream",
     "text": [
      "{'model': {'type': 'seq_classifier', 'embedder': {'type': 'token_embedder', 'vocab_size': 29286, 'embed_size': 200, 'embedding_file': './preprocess/Mortality/embedding_matrix.npy'}, 'decoder': {'num_layers': 2, 'hidden_dims': [128, 1], 'activations': ['tanh', 'linear']}, 'predictor': {'type': 'binary'}, 'structured': {'use_structured': True, 'structured_dim': 50}, 'encoder': {'type': 'average', 'projection': True, 'hidden_size': 256, 'activation': 'relu'}}, 'training_config': {'type': 'Adam', 'groups': [('.*', {'lr': 0.001, 'weight_decay': 1e-05})], 'common': {'bsize': 16, 'class_weight': True}}, 'exp_config': {'exp_name': 'Mortality_1yr/Basic/Average(hs=256)+Structured', 'basepath': 'outputs/'}}\n",
      "Setting Embedding\n"
     ]
    },
    {
     "name": "stderr",
     "output_type": "stream",
     "text": [
      "INFO - 2019-03-27 17:53:23,840 - instantiating class <class 'PatientVec.models.Model.Model'> from params {'type': 'seq_classifier', 'embedder': {'type': 'token_embedder', 'vocab_size': 29286, 'embed_size': 200, 'embedding_file': './preprocess/Mortality/embedding_matrix.npy'}, 'decoder': {'num_layers': 2, 'hidden_dims': [128, 1], 'activations': ['tanh', 'linear']}, 'predictor': {'type': 'binary'}, 'structured': {'use_structured': True, 'structured_dim': 50}, 'encoder': {'type': 'lstm', 'hidden_size': 128}} and extras {}\n",
      "INFO - 2019-03-27 17:53:23,841 - type = seq_classifier\n",
      "INFO - 2019-03-27 17:53:23,841 - instantiating class <class 'PatientVec.models.modules.Embedder.Embedder'> from params {'type': 'token_embedder', 'vocab_size': 29286, 'embed_size': 200, 'embedding_file': './preprocess/Mortality/embedding_matrix.npy'} and extras {}\n",
      "INFO - 2019-03-27 17:53:23,842 - embedder.type = token_embedder\n",
      "INFO - 2019-03-27 17:53:23,842 - instantiating class <class 'PatientVec.models.modules.Embedder.TokenEmbedder'> from params {'vocab_size': 29286, 'embed_size': 200, 'embedding_file': './preprocess/Mortality/embedding_matrix.npy'} and extras {}\n",
      "INFO - 2019-03-27 17:53:23,843 - embedder.vocab_size = 29286\n",
      "INFO - 2019-03-27 17:53:23,843 - embedder.embed_size = 200\n",
      "INFO - 2019-03-27 17:53:23,843 - embedder.embedding_file = ./preprocess/Mortality/embedding_matrix.npy\n",
      "INFO - 2019-03-27 17:53:23,858 - instantiating class <class 'PatientVec.models.modules.Encoder.Encoder'> from params {'type': 'lstm', 'hidden_size': 128} and extras {'input_size': 200}\n",
      "INFO - 2019-03-27 17:53:23,858 - encoder.type = lstm\n",
      "INFO - 2019-03-27 17:53:23,858 - instantiating class <class 'PatientVec.models.modules.Encoder.wrap_pytorch_rnn.<locals>.BiRNNEncoder'> from params {'hidden_size': 128} and extras {'input_size': 200}\n",
      "INFO - 2019-03-27 17:53:23,859 - encoder.hidden_size = 128\n",
      "INFO - 2019-03-27 17:53:23,861 - decoder.input_dim = 306\n",
      "INFO - 2019-03-27 17:53:23,861 - decoder.num_layers = 2\n",
      "INFO - 2019-03-27 17:53:23,861 - decoder.hidden_dims = [128, 1]\n",
      "INFO - 2019-03-27 17:53:23,862 - decoder.activations = ['tanh', 'linear']\n",
      "INFO - 2019-03-27 17:53:23,862 - decoder.dropout = 0.0\n",
      "INFO - 2019-03-27 17:53:23,863 - instantiating class <class 'PatientVec.models.modules.Predictor.Predictor'> from params {'type': 'binary'} and extras {}\n",
      "INFO - 2019-03-27 17:53:23,864 - predictor.type = binary\n",
      "INFO - 2019-03-27 17:53:23,864 - instantiating class <class 'PatientVec.models.modules.Predictor.Binary_Predictor'> from params {} and extras {}\n",
      "INFO - 2019-03-27 17:53:23,864 - predictor.replicate = False\n",
      "INFO - 2019-03-27 17:53:23,864 - predictor.alpha = 0.5\n"
     ]
    },
    {
     "name": "stdout",
     "output_type": "stream",
     "text": [
      "{'model': {'type': 'seq_classifier', 'embedder': {'type': 'token_embedder', 'vocab_size': 29286, 'embed_size': 200, 'embedding_file': './preprocess/Mortality/embedding_matrix.npy'}, 'decoder': {'num_layers': 2, 'hidden_dims': [128, 1], 'activations': ['tanh', 'linear']}, 'predictor': {'type': 'binary'}, 'structured': {'use_structured': True, 'structured_dim': 50}, 'encoder': {'type': 'lstm', 'hidden_size': 128}}, 'training_config': {'type': 'Adam', 'groups': [('.*', {'lr': 0.001, 'weight_decay': 1e-05})], 'common': {'bsize': 16, 'class_weight': True}}, 'exp_config': {'exp_name': 'Mortality_1yr/Basic/LSTM(hs=128)+Structured', 'basepath': 'outputs/'}}\n",
      "Setting Embedding\n"
     ]
    },
    {
     "name": "stderr",
     "output_type": "stream",
     "text": [
      "INFO - 2019-03-27 17:53:24,832 - instantiating class <class 'PatientVec.models.Model.Model'> from params {'type': 'seq_classifier', 'embedder': {'type': 'token_embedder', 'vocab_size': 29286, 'embed_size': 200, 'embedding_file': './preprocess/Mortality/embedding_matrix.npy'}, 'decoder': {'num_layers': 2, 'hidden_dims': [128, 1], 'activations': ['tanh', 'linear']}, 'predictor': {'type': 'binary'}, 'structured': {'use_structured': True, 'structured_dim': 50}, 'encoder': {'type': 'cnn', 'hidden_size': 64, 'kernel_sizes': [3, 5, 7, 9], 'activation': 'relu'}} and extras {}\n",
      "INFO - 2019-03-27 17:53:24,833 - type = seq_classifier\n",
      "INFO - 2019-03-27 17:53:24,834 - instantiating class <class 'PatientVec.models.modules.Embedder.Embedder'> from params {'type': 'token_embedder', 'vocab_size': 29286, 'embed_size': 200, 'embedding_file': './preprocess/Mortality/embedding_matrix.npy'} and extras {}\n",
      "INFO - 2019-03-27 17:53:24,835 - embedder.type = token_embedder\n",
      "INFO - 2019-03-27 17:53:24,837 - instantiating class <class 'PatientVec.models.modules.Embedder.TokenEmbedder'> from params {'vocab_size': 29286, 'embed_size': 200, 'embedding_file': './preprocess/Mortality/embedding_matrix.npy'} and extras {}\n",
      "INFO - 2019-03-27 17:53:24,838 - embedder.vocab_size = 29286\n",
      "INFO - 2019-03-27 17:53:24,839 - embedder.embed_size = 200\n",
      "INFO - 2019-03-27 17:53:24,839 - embedder.embedding_file = ./preprocess/Mortality/embedding_matrix.npy\n",
      "INFO - 2019-03-27 17:53:24,866 - instantiating class <class 'PatientVec.models.modules.Encoder.Encoder'> from params {'type': 'cnn', 'hidden_size': 64, 'kernel_sizes': [3, 5, 7, 9], 'activation': 'relu'} and extras {'input_size': 200}\n",
      "INFO - 2019-03-27 17:53:24,866 - encoder.type = cnn\n",
      "INFO - 2019-03-27 17:53:24,867 - instantiating class <class 'PatientVec.models.modules.Encoder.CNNEncoder'> from params {'hidden_size': 64, 'kernel_sizes': [3, 5, 7, 9], 'activation': 'relu'} and extras {'input_size': 200}\n",
      "INFO - 2019-03-27 17:53:24,867 - encoder.hidden_size = 64\n",
      "INFO - 2019-03-27 17:53:24,867 - encoder.kernel_sizes = [3, 5, 7, 9]\n",
      "INFO - 2019-03-27 17:53:24,868 - encoder.activation = relu\n",
      "INFO - 2019-03-27 17:53:24,872 - decoder.input_dim = 306\n",
      "INFO - 2019-03-27 17:53:24,872 - decoder.num_layers = 2\n",
      "INFO - 2019-03-27 17:53:24,872 - decoder.hidden_dims = [128, 1]\n",
      "INFO - 2019-03-27 17:53:24,872 - decoder.activations = ['tanh', 'linear']\n",
      "INFO - 2019-03-27 17:53:24,873 - decoder.dropout = 0.0\n",
      "INFO - 2019-03-27 17:53:24,874 - instantiating class <class 'PatientVec.models.modules.Predictor.Predictor'> from params {'type': 'binary'} and extras {}\n",
      "INFO - 2019-03-27 17:53:24,874 - predictor.type = binary\n",
      "INFO - 2019-03-27 17:53:24,875 - instantiating class <class 'PatientVec.models.modules.Predictor.Binary_Predictor'> from params {} and extras {}\n",
      "INFO - 2019-03-27 17:53:24,875 - predictor.replicate = False\n",
      "INFO - 2019-03-27 17:53:24,875 - predictor.alpha = 0.5\n"
     ]
    },
    {
     "name": "stdout",
     "output_type": "stream",
     "text": [
      "{'model': {'type': 'seq_classifier', 'embedder': {'type': 'token_embedder', 'vocab_size': 29286, 'embed_size': 200, 'embedding_file': './preprocess/Mortality/embedding_matrix.npy'}, 'decoder': {'num_layers': 2, 'hidden_dims': [128, 1], 'activations': ['tanh', 'linear']}, 'predictor': {'type': 'binary'}, 'structured': {'use_structured': True, 'structured_dim': 50}, 'encoder': {'type': 'cnn', 'hidden_size': 64, 'kernel_sizes': [3, 5, 7, 9], 'activation': 'relu'}}, 'training_config': {'type': 'Adam', 'groups': [('.*', {'lr': 0.001, 'weight_decay': 1e-05})], 'common': {'bsize': 16, 'class_weight': True}}, 'exp_config': {'exp_name': 'Mortality_1yr/Basic/CNN(hs=64)(kernels=3,5,7,9)+Structured', 'basepath': 'outputs/'}}\n",
      "Setting Embedding\n",
      "Pos Percentage [0.25239128]\n"
     ]
    },
    {
     "name": "stderr",
     "output_type": "stream",
     "text": [
      "INFO - 2019-03-27 17:53:29,825 - Maximum Sentence Length 721825.000000 , 90 percentile length 18596.000000 ... \n",
      "INFO - 2019-03-27 17:53:39,468 - Truncated all ...\n",
      "INFO - 2019-03-27 17:53:39,508 - Idxs removed []...\n"
     ]
    },
    {
     "name": "stdout",
     "output_type": "stream",
     "text": [
      "Pos Percentage [0.25692909]\n"
     ]
    },
    {
     "name": "stderr",
     "output_type": "stream",
     "text": [
      "INFO - 2019-03-27 17:53:40,486 - Maximum Sentence Length 420764.000000 , 90 percentile length 17662.000000 ... \n",
      "INFO - 2019-03-27 17:53:42,179 - Truncated all ...\n",
      "INFO - 2019-03-27 17:53:42,190 - Idxs removed []...\n"
     ]
    },
    {
     "name": "stdout",
     "output_type": "stream",
     "text": [
      "Pos Percentage [0.25656373]\n"
     ]
    },
    {
     "name": "stderr",
     "output_type": "stream",
     "text": [
      "INFO - 2019-03-27 17:53:43,298 - Maximum Sentence Length 707041.000000 , 90 percentile length 17669.000000 ... \n",
      "INFO - 2019-03-27 17:53:45,131 - Truncated all ...\n",
      "INFO - 2019-03-27 17:53:45,143 - Idxs removed []...\n",
      "INFO - 2019-03-27 17:53:45,202 - instantiating class <class 'PatientVec.models.Model.Model'> from params {'type': 'seq_classifier_with_attention', 'embedder': {'type': 'token_embedder', 'vocab_size': 29286, 'embed_size': 200, 'embedding_file': './preprocess/Mortality/embedding_matrix.npy'}, 'decoder': {'num_layers': 2, 'hidden_dims': [128, 1], 'activations': ['tanh', 'linear']}, 'predictor': {'type': 'binary'}, 'structured': {'use_structured': True, 'structured_dim': 50}, 'encoder': {'type': 'average', 'projection': True, 'hidden_size': 256, 'activation': 'relu'}, 'attention': {'similarity': {'type': 'additive', 'hidden_size': 128}}} and extras {}\n",
      "INFO - 2019-03-27 17:53:45,203 - type = seq_classifier_with_attention\n",
      "INFO - 2019-03-27 17:53:45,203 - instantiating class <class 'PatientVec.models.modules.Embedder.Embedder'> from params {'type': 'token_embedder', 'vocab_size': 29286, 'embed_size': 200, 'embedding_file': './preprocess/Mortality/embedding_matrix.npy'} and extras {}\n",
      "INFO - 2019-03-27 17:53:45,204 - embedder.type = token_embedder\n",
      "INFO - 2019-03-27 17:53:45,204 - instantiating class <class 'PatientVec.models.modules.Embedder.TokenEmbedder'> from params {'vocab_size': 29286, 'embed_size': 200, 'embedding_file': './preprocess/Mortality/embedding_matrix.npy'} and extras {}\n",
      "INFO - 2019-03-27 17:53:45,205 - embedder.vocab_size = 29286\n",
      "INFO - 2019-03-27 17:53:45,205 - embedder.embed_size = 200\n",
      "INFO - 2019-03-27 17:53:45,205 - embedder.embedding_file = ./preprocess/Mortality/embedding_matrix.npy\n",
      "INFO - 2019-03-27 17:53:45,220 - instantiating class <class 'PatientVec.models.modules.Encoder.Encoder'> from params {'type': 'average', 'projection': True, 'hidden_size': 256, 'activation': 'relu'} and extras {'input_size': 200}\n",
      "INFO - 2019-03-27 17:53:45,220 - encoder.type = average\n",
      "INFO - 2019-03-27 17:53:45,220 - instantiating class <class 'PatientVec.models.modules.Encoder.AverageEncoder'> from params {'projection': True, 'hidden_size': 256, 'activation': 'relu'} and extras {'input_size': 200}\n",
      "INFO - 2019-03-27 17:53:45,221 - encoder.projection = True\n",
      "INFO - 2019-03-27 17:53:45,221 - encoder.hidden_size = 256\n",
      "INFO - 2019-03-27 17:53:45,221 - encoder.activation = relu\n",
      "INFO - 2019-03-27 17:53:45,223 - instantiating class <class 'PatientVec.models.modules.SelfAttention.SelfAttention'> from params {'similarity': {'type': 'additive', 'hidden_size': 128, 'tensor_1_dim': 256}} and extras {}\n",
      "INFO - 2019-03-27 17:53:45,223 - instantiating class <class 'PatientVec.models.modules.UniSimilarity.UniSimilarity'> from params {'type': 'additive', 'hidden_size': 128, 'tensor_1_dim': 256} and extras {}\n",
      "INFO - 2019-03-27 17:53:45,223 - attention.similarity.type = additive\n",
      "INFO - 2019-03-27 17:53:45,224 - instantiating class <class 'PatientVec.models.modules.UniSimilarity.UniAdditiveSimilarity'> from params {'hidden_size': 128, 'tensor_1_dim': 256} and extras {}\n",
      "INFO - 2019-03-27 17:53:45,224 - attention.similarity.tensor_1_dim = 256\n",
      "INFO - 2019-03-27 17:53:45,224 - attention.similarity.hidden_size = 128\n",
      "INFO - 2019-03-27 17:53:45,224 - attention.similarity.output_size = 1\n",
      "INFO - 2019-03-27 17:53:45,226 - attention.normaliser = softmax\n",
      "INFO - 2019-03-27 17:53:45,226 - decoder.input_dim = 306\n",
      "INFO - 2019-03-27 17:53:45,227 - decoder.num_layers = 2\n",
      "INFO - 2019-03-27 17:53:45,227 - decoder.hidden_dims = [128, 1]\n",
      "INFO - 2019-03-27 17:53:45,227 - decoder.activations = ['tanh', 'linear']\n",
      "INFO - 2019-03-27 17:53:45,227 - decoder.dropout = 0.0\n",
      "INFO - 2019-03-27 17:53:45,228 - instantiating class <class 'PatientVec.models.modules.Predictor.Predictor'> from params {'type': 'binary'} and extras {}\n",
      "INFO - 2019-03-27 17:53:45,229 - predictor.type = binary\n",
      "INFO - 2019-03-27 17:53:45,229 - instantiating class <class 'PatientVec.models.modules.Predictor.Binary_Predictor'> from params {} and extras {}\n",
      "INFO - 2019-03-27 17:53:45,229 - predictor.replicate = False\n",
      "INFO - 2019-03-27 17:53:45,231 - predictor.alpha = 0.5\n",
      "INFO - 2019-03-27 17:53:45,249 - instantiating class <class 'PatientVec.models.Model.Model'> from params {'type': 'seq_classifier_with_attention', 'embedder': {'type': 'token_embedder', 'vocab_size': 29286, 'embed_size': 200, 'embedding_file': './preprocess/Mortality/embedding_matrix.npy'}, 'decoder': {'num_layers': 2, 'hidden_dims': [128, 1], 'activations': ['tanh', 'linear']}, 'predictor': {'type': 'binary'}, 'structured': {'use_structured': True, 'structured_dim': 50}, 'encoder': {'type': 'lstm', 'hidden_size': 128}, 'attention': {'similarity': {'type': 'additive', 'hidden_size': 128}}} and extras {}\n",
      "INFO - 2019-03-27 17:53:45,251 - type = seq_classifier_with_attention\n",
      "INFO - 2019-03-27 17:53:45,253 - instantiating class <class 'PatientVec.models.modules.Embedder.Embedder'> from params {'type': 'token_embedder', 'vocab_size': 29286, 'embed_size': 200, 'embedding_file': './preprocess/Mortality/embedding_matrix.npy'} and extras {}\n",
      "INFO - 2019-03-27 17:53:45,255 - embedder.type = token_embedder\n",
      "INFO - 2019-03-27 17:53:45,257 - instantiating class <class 'PatientVec.models.modules.Embedder.TokenEmbedder'> from params {'vocab_size': 29286, 'embed_size': 200, 'embedding_file': './preprocess/Mortality/embedding_matrix.npy'} and extras {}\n",
      "INFO - 2019-03-27 17:53:45,259 - embedder.vocab_size = 29286\n",
      "INFO - 2019-03-27 17:53:45,261 - embedder.embed_size = 200\n",
      "INFO - 2019-03-27 17:53:45,262 - embedder.embedding_file = ./preprocess/Mortality/embedding_matrix.npy\n",
      "INFO - 2019-03-27 17:53:45,302 - instantiating class <class 'PatientVec.models.modules.Encoder.Encoder'> from params {'type': 'lstm', 'hidden_size': 128} and extras {'input_size': 200}\n",
      "INFO - 2019-03-27 17:53:45,302 - encoder.type = lstm\n",
      "INFO - 2019-03-27 17:53:45,303 - instantiating class <class 'PatientVec.models.modules.Encoder.wrap_pytorch_rnn.<locals>.BiRNNEncoder'> from params {'hidden_size': 128} and extras {'input_size': 200}\n",
      "INFO - 2019-03-27 17:53:45,303 - encoder.hidden_size = 128\n",
      "INFO - 2019-03-27 17:53:45,307 - instantiating class <class 'PatientVec.models.modules.SelfAttention.SelfAttention'> from params {'similarity': {'type': 'additive', 'hidden_size': 128, 'tensor_1_dim': 256}} and extras {}\n",
      "INFO - 2019-03-27 17:53:45,308 - instantiating class <class 'PatientVec.models.modules.UniSimilarity.UniSimilarity'> from params {'type': 'additive', 'hidden_size': 128, 'tensor_1_dim': 256} and extras {}\n",
      "INFO - 2019-03-27 17:53:45,308 - attention.similarity.type = additive\n",
      "INFO - 2019-03-27 17:53:45,308 - instantiating class <class 'PatientVec.models.modules.UniSimilarity.UniAdditiveSimilarity'> from params {'hidden_size': 128, 'tensor_1_dim': 256} and extras {}\n",
      "INFO - 2019-03-27 17:53:45,309 - attention.similarity.tensor_1_dim = 256\n",
      "INFO - 2019-03-27 17:53:45,309 - attention.similarity.hidden_size = 128\n",
      "INFO - 2019-03-27 17:53:45,309 - attention.similarity.output_size = 1\n",
      "INFO - 2019-03-27 17:53:45,311 - attention.normaliser = softmax\n",
      "INFO - 2019-03-27 17:53:45,311 - decoder.input_dim = 306\n",
      "INFO - 2019-03-27 17:53:45,311 - decoder.num_layers = 2\n",
      "INFO - 2019-03-27 17:53:45,312 - decoder.hidden_dims = [128, 1]\n",
      "INFO - 2019-03-27 17:53:45,312 - decoder.activations = ['tanh', 'linear']\n",
      "INFO - 2019-03-27 17:53:45,312 - decoder.dropout = 0.0\n",
      "INFO - 2019-03-27 17:53:45,314 - instantiating class <class 'PatientVec.models.modules.Predictor.Predictor'> from params {'type': 'binary'} and extras {}\n",
      "INFO - 2019-03-27 17:53:45,314 - predictor.type = binary\n",
      "INFO - 2019-03-27 17:53:45,314 - instantiating class <class 'PatientVec.models.modules.Predictor.Binary_Predictor'> from params {} and extras {}\n",
      "INFO - 2019-03-27 17:53:45,315 - predictor.replicate = False\n",
      "INFO - 2019-03-27 17:53:45,315 - predictor.alpha = 0.5\n",
      "INFO - 2019-03-27 17:53:45,327 - instantiating class <class 'PatientVec.models.Model.Model'> from params {'type': 'seq_classifier_with_attention', 'embedder': {'type': 'token_embedder', 'vocab_size': 29286, 'embed_size': 200, 'embedding_file': './preprocess/Mortality/embedding_matrix.npy'}, 'decoder': {'num_layers': 2, 'hidden_dims': [128, 1], 'activations': ['tanh', 'linear']}, 'predictor': {'type': 'binary'}, 'structured': {'use_structured': True, 'structured_dim': 50}, 'encoder': {'type': 'cnn', 'hidden_size': 64, 'kernel_sizes': [3, 5, 7, 9], 'activation': 'relu'}, 'attention': {'similarity': {'type': 'additive', 'hidden_size': 128}}} and extras {}\n",
      "INFO - 2019-03-27 17:53:45,327 - type = seq_classifier_with_attention\n",
      "INFO - 2019-03-27 17:53:45,327 - instantiating class <class 'PatientVec.models.modules.Embedder.Embedder'> from params {'type': 'token_embedder', 'vocab_size': 29286, 'embed_size': 200, 'embedding_file': './preprocess/Mortality/embedding_matrix.npy'} and extras {}\n",
      "INFO - 2019-03-27 17:53:45,327 - embedder.type = token_embedder\n",
      "INFO - 2019-03-27 17:53:45,328 - instantiating class <class 'PatientVec.models.modules.Embedder.TokenEmbedder'> from params {'vocab_size': 29286, 'embed_size': 200, 'embedding_file': './preprocess/Mortality/embedding_matrix.npy'} and extras {}\n",
      "INFO - 2019-03-27 17:53:45,328 - embedder.vocab_size = 29286\n",
      "INFO - 2019-03-27 17:53:45,328 - embedder.embed_size = 200\n",
      "INFO - 2019-03-27 17:53:45,329 - embedder.embedding_file = ./preprocess/Mortality/embedding_matrix.npy\n",
      "INFO - 2019-03-27 17:53:45,343 - instantiating class <class 'PatientVec.models.modules.Encoder.Encoder'> from params {'type': 'cnn', 'hidden_size': 64, 'kernel_sizes': [3, 5, 7, 9], 'activation': 'relu'} and extras {'input_size': 200}\n",
      "INFO - 2019-03-27 17:53:45,343 - encoder.type = cnn\n",
      "INFO - 2019-03-27 17:53:45,343 - instantiating class <class 'PatientVec.models.modules.Encoder.CNNEncoder'> from params {'hidden_size': 64, 'kernel_sizes': [3, 5, 7, 9], 'activation': 'relu'} and extras {'input_size': 200}\n",
      "INFO - 2019-03-27 17:53:45,344 - encoder.hidden_size = 64\n",
      "INFO - 2019-03-27 17:53:45,344 - encoder.kernel_sizes = [3, 5, 7, 9]\n",
      "INFO - 2019-03-27 17:53:45,344 - encoder.activation = relu\n",
      "INFO - 2019-03-27 17:53:45,347 - instantiating class <class 'PatientVec.models.modules.SelfAttention.SelfAttention'> from params {'similarity': {'type': 'additive', 'hidden_size': 128, 'tensor_1_dim': 256}} and extras {}\n",
      "INFO - 2019-03-27 17:53:45,347 - instantiating class <class 'PatientVec.models.modules.UniSimilarity.UniSimilarity'> from params {'type': 'additive', 'hidden_size': 128, 'tensor_1_dim': 256} and extras {}\n",
      "INFO - 2019-03-27 17:53:45,347 - attention.similarity.type = additive\n",
      "INFO - 2019-03-27 17:53:45,348 - instantiating class <class 'PatientVec.models.modules.UniSimilarity.UniAdditiveSimilarity'> from params {'hidden_size': 128, 'tensor_1_dim': 256} and extras {}\n",
      "INFO - 2019-03-27 17:53:45,348 - attention.similarity.tensor_1_dim = 256\n",
      "INFO - 2019-03-27 17:53:45,348 - attention.similarity.hidden_size = 128\n",
      "INFO - 2019-03-27 17:53:45,348 - attention.similarity.output_size = 1\n",
      "INFO - 2019-03-27 17:53:45,350 - attention.normaliser = softmax\n",
      "INFO - 2019-03-27 17:53:45,350 - decoder.input_dim = 306\n",
      "INFO - 2019-03-27 17:53:45,350 - decoder.num_layers = 2\n",
      "INFO - 2019-03-27 17:53:45,350 - decoder.hidden_dims = [128, 1]\n",
      "INFO - 2019-03-27 17:53:45,351 - decoder.activations = ['tanh', 'linear']\n",
      "INFO - 2019-03-27 17:53:45,351 - decoder.dropout = 0.0\n",
      "INFO - 2019-03-27 17:53:45,352 - instantiating class <class 'PatientVec.models.modules.Predictor.Predictor'> from params {'type': 'binary'} and extras {}\n",
      "INFO - 2019-03-27 17:53:45,352 - predictor.type = binary\n",
      "INFO - 2019-03-27 17:53:45,353 - instantiating class <class 'PatientVec.models.modules.Predictor.Binary_Predictor'> from params {} and extras {}\n",
      "INFO - 2019-03-27 17:53:45,353 - predictor.replicate = False\n",
      "INFO - 2019-03-27 17:53:45,353 - predictor.alpha = 0.5\n"
     ]
    },
    {
     "name": "stdout",
     "output_type": "stream",
     "text": [
      "{'model': {'type': 'seq_classifier_with_attention', 'embedder': {'type': 'token_embedder', 'vocab_size': 29286, 'embed_size': 200, 'embedding_file': './preprocess/Mortality/embedding_matrix.npy'}, 'decoder': {'num_layers': 2, 'hidden_dims': [128, 1], 'activations': ['tanh', 'linear']}, 'predictor': {'type': 'binary'}, 'structured': {'use_structured': True, 'structured_dim': 50}, 'encoder': {'type': 'average', 'projection': True, 'hidden_size': 256, 'activation': 'relu'}, 'attention': {'similarity': {'type': 'additive', 'hidden_size': 128}}}, 'training_config': {'type': 'Adam', 'groups': [('.*', {'lr': 0.001, 'weight_decay': 1e-05})], 'common': {'bsize': 16, 'class_weight': True}}, 'exp_config': {'exp_name': 'Mortality_1yr/Attention/Average(hs=256)+Attention(additive)(hs=128)+Structured', 'basepath': 'outputs/'}}\n",
      "Setting Embedding\n",
      "{'model': {'type': 'seq_classifier_with_attention', 'embedder': {'type': 'token_embedder', 'vocab_size': 29286, 'embed_size': 200, 'embedding_file': './preprocess/Mortality/embedding_matrix.npy'}, 'decoder': {'num_layers': 2, 'hidden_dims': [128, 1], 'activations': ['tanh', 'linear']}, 'predictor': {'type': 'binary'}, 'structured': {'use_structured': True, 'structured_dim': 50}, 'encoder': {'type': 'lstm', 'hidden_size': 128}, 'attention': {'similarity': {'type': 'additive', 'hidden_size': 128}}}, 'training_config': {'type': 'Adam', 'groups': [('.*', {'lr': 0.001, 'weight_decay': 1e-05})], 'common': {'bsize': 16, 'class_weight': True}}, 'exp_config': {'exp_name': 'Mortality_1yr/Attention/LSTM(hs=128)+Attention(additive)(hs=128)+Structured', 'basepath': 'outputs/'}}\n",
      "Setting Embedding\n",
      "{'model': {'type': 'seq_classifier_with_attention', 'embedder': {'type': 'token_embedder', 'vocab_size': 29286, 'embed_size': 200, 'embedding_file': './preprocess/Mortality/embedding_matrix.npy'}, 'decoder': {'num_layers': 2, 'hidden_dims': [128, 1], 'activations': ['tanh', 'linear']}, 'predictor': {'type': 'binary'}, 'structured': {'use_structured': True, 'structured_dim': 50}, 'encoder': {'type': 'cnn', 'hidden_size': 64, 'kernel_sizes': [3, 5, 7, 9], 'activation': 'relu'}, 'attention': {'similarity': {'type': 'additive', 'hidden_size': 128}}}, 'training_config': {'type': 'Adam', 'groups': [('.*', {'lr': 0.001, 'weight_decay': 1e-05})], 'common': {'bsize': 16, 'class_weight': True}}, 'exp_config': {'exp_name': 'Mortality_1yr/Attention/CNN(hs=64)(kernels=3,5,7,9)+Attention(additive)(hs=128)+Structured', 'basepath': 'outputs/'}}\n",
      "Setting Embedding\n",
      "Pos Percentage [0.25239128]\n"
     ]
    },
    {
     "name": "stderr",
     "output_type": "stream",
     "text": [
      "INFO - 2019-03-27 17:53:50,223 - Maximum Sentence Length 721825.000000 , 90 percentile length 18596.000000 ... \n",
      "INFO - 2019-03-27 17:54:02,162 - Truncated all ...\n",
      "INFO - 2019-03-27 17:54:02,202 - Idxs removed []...\n"
     ]
    },
    {
     "name": "stdout",
     "output_type": "stream",
     "text": [
      "Pos Percentage [0.25692909]\n"
     ]
    },
    {
     "name": "stderr",
     "output_type": "stream",
     "text": [
      "INFO - 2019-03-27 17:54:03,256 - Maximum Sentence Length 420764.000000 , 90 percentile length 17662.000000 ... \n",
      "INFO - 2019-03-27 17:54:04,847 - Truncated all ...\n",
      "INFO - 2019-03-27 17:54:04,859 - Idxs removed []...\n"
     ]
    },
    {
     "name": "stdout",
     "output_type": "stream",
     "text": [
      "Pos Percentage [0.25656373]\n"
     ]
    },
    {
     "name": "stderr",
     "output_type": "stream",
     "text": [
      "INFO - 2019-03-27 17:54:05,851 - Maximum Sentence Length 707041.000000 , 90 percentile length 17669.000000 ... \n",
      "INFO - 2019-03-27 17:54:07,798 - Truncated all ...\n",
      "INFO - 2019-03-27 17:54:07,811 - Idxs removed []...\n",
      "INFO - 2019-03-27 17:54:07,871 - instantiating class <class 'PatientVec.models.Model.Model'> from params {'type': 'seq_classifier', 'embedder': {'type': 'token_embedder', 'vocab_size': 29286, 'embed_size': 200, 'embedding_file': './preprocess/Mortality/embedding_matrix.npy'}, 'decoder': {'num_layers': 2, 'hidden_dims': [128, 1], 'activations': ['tanh', 'linear']}, 'predictor': {'type': 'binary'}, 'structured': {'use_structured': True, 'structured_dim': 50}, 'encoder': {'type': 'sru', 'hidden_size': 128}} and extras {}\n",
      "INFO - 2019-03-27 17:54:07,871 - type = seq_classifier\n",
      "INFO - 2019-03-27 17:54:07,872 - instantiating class <class 'PatientVec.models.modules.Embedder.Embedder'> from params {'type': 'token_embedder', 'vocab_size': 29286, 'embed_size': 200, 'embedding_file': './preprocess/Mortality/embedding_matrix.npy'} and extras {}\n",
      "INFO - 2019-03-27 17:54:07,872 - embedder.type = token_embedder\n",
      "INFO - 2019-03-27 17:54:07,873 - instantiating class <class 'PatientVec.models.modules.Embedder.TokenEmbedder'> from params {'vocab_size': 29286, 'embed_size': 200, 'embedding_file': './preprocess/Mortality/embedding_matrix.npy'} and extras {}\n",
      "INFO - 2019-03-27 17:54:07,873 - embedder.vocab_size = 29286\n",
      "INFO - 2019-03-27 17:54:07,874 - embedder.embed_size = 200\n",
      "INFO - 2019-03-27 17:54:07,874 - embedder.embedding_file = ./preprocess/Mortality/embedding_matrix.npy\n",
      "INFO - 2019-03-27 17:54:07,889 - instantiating class <class 'PatientVec.models.modules.Encoder.Encoder'> from params {'type': 'sru', 'hidden_size': 128} and extras {'input_size': 200}\n",
      "INFO - 2019-03-27 17:54:07,890 - encoder.type = sru\n",
      "INFO - 2019-03-27 17:54:07,890 - instantiating class <class 'PatientVec.models.modules.Encoder.SRUEncoder'> from params {'hidden_size': 128} and extras {'input_size': 200}\n",
      "INFO - 2019-03-27 17:54:07,891 - encoder.hidden_size = 128\n",
      "INFO - 2019-03-27 17:54:07,894 - decoder.input_dim = 306\n",
      "INFO - 2019-03-27 17:54:07,895 - decoder.num_layers = 2\n",
      "INFO - 2019-03-27 17:54:07,895 - decoder.hidden_dims = [128, 1]\n",
      "INFO - 2019-03-27 17:54:07,895 - decoder.activations = ['tanh', 'linear']\n",
      "INFO - 2019-03-27 17:54:07,895 - decoder.dropout = 0.0\n",
      "INFO - 2019-03-27 17:54:07,897 - instantiating class <class 'PatientVec.models.modules.Predictor.Predictor'> from params {'type': 'binary'} and extras {}\n",
      "INFO - 2019-03-27 17:54:07,897 - predictor.type = binary\n",
      "INFO - 2019-03-27 17:54:07,897 - instantiating class <class 'PatientVec.models.modules.Predictor.Binary_Predictor'> from params {} and extras {}\n",
      "INFO - 2019-03-27 17:54:07,898 - predictor.replicate = False\n",
      "INFO - 2019-03-27 17:54:07,898 - predictor.alpha = 0.5\n",
      "INFO - 2019-03-27 17:54:07,911 - instantiating class <class 'PatientVec.models.Model.Model'> from params {'type': 'seq_classifier', 'embedder': {'type': 'token_embedder', 'vocab_size': 29286, 'embed_size': 200, 'embedding_file': './preprocess/Mortality/embedding_matrix.npy'}, 'decoder': {'num_layers': 2, 'hidden_dims': [128, 1], 'activations': ['tanh', 'linear']}, 'predictor': {'type': 'binary'}, 'structured': {'use_structured': True, 'structured_dim': 50}, 'encoder': {'type': 'sru', 'hidden_size': 128}} and extras {}\n",
      "INFO - 2019-03-27 17:54:07,911 - type = seq_classifier\n",
      "INFO - 2019-03-27 17:54:07,911 - instantiating class <class 'PatientVec.models.modules.Embedder.Embedder'> from params {'type': 'token_embedder', 'vocab_size': 29286, 'embed_size': 200, 'embedding_file': './preprocess/Mortality/embedding_matrix.npy'} and extras {}\n",
      "INFO - 2019-03-27 17:54:07,912 - embedder.type = token_embedder\n",
      "INFO - 2019-03-27 17:54:07,912 - instantiating class <class 'PatientVec.models.modules.Embedder.TokenEmbedder'> from params {'vocab_size': 29286, 'embed_size': 200, 'embedding_file': './preprocess/Mortality/embedding_matrix.npy'} and extras {}\n",
      "INFO - 2019-03-27 17:54:07,913 - embedder.vocab_size = 29286\n",
      "INFO - 2019-03-27 17:54:07,914 - embedder.embed_size = 200\n",
      "INFO - 2019-03-27 17:54:07,915 - embedder.embedding_file = ./preprocess/Mortality/embedding_matrix.npy\n",
      "INFO - 2019-03-27 17:54:07,929 - instantiating class <class 'PatientVec.models.modules.Encoder.Encoder'> from params {'type': 'sru', 'hidden_size': 128} and extras {'input_size': 200}\n",
      "INFO - 2019-03-27 17:54:07,929 - encoder.type = sru\n",
      "INFO - 2019-03-27 17:54:07,929 - instantiating class <class 'PatientVec.models.modules.Encoder.SRUEncoder'> from params {'hidden_size': 128} and extras {'input_size': 200}\n",
      "INFO - 2019-03-27 17:54:07,930 - encoder.hidden_size = 128\n",
      "INFO - 2019-03-27 17:54:07,932 - decoder.input_dim = 306\n",
      "INFO - 2019-03-27 17:54:07,933 - decoder.num_layers = 2\n",
      "INFO - 2019-03-27 17:54:07,933 - decoder.hidden_dims = [128, 1]\n",
      "INFO - 2019-03-27 17:54:07,933 - decoder.activations = ['tanh', 'linear']\n",
      "INFO - 2019-03-27 17:54:07,933 - decoder.dropout = 0.0\n",
      "INFO - 2019-03-27 17:54:07,934 - instantiating class <class 'PatientVec.models.modules.Predictor.Predictor'> from params {'type': 'binary'} and extras {}\n",
      "INFO - 2019-03-27 17:54:07,935 - predictor.type = binary\n",
      "INFO - 2019-03-27 17:54:07,935 - instantiating class <class 'PatientVec.models.modules.Predictor.Binary_Predictor'> from params {} and extras {}\n",
      "INFO - 2019-03-27 17:54:07,935 - predictor.replicate = False\n",
      "INFO - 2019-03-27 17:54:07,935 - predictor.alpha = 0.5\n"
     ]
    },
    {
     "name": "stdout",
     "output_type": "stream",
     "text": [
      "{'model': {'type': 'seq_classifier', 'embedder': {'type': 'token_embedder', 'vocab_size': 29286, 'embed_size': 200, 'embedding_file': './preprocess/Mortality/embedding_matrix.npy'}, 'decoder': {'num_layers': 2, 'hidden_dims': [128, 1], 'activations': ['tanh', 'linear']}, 'predictor': {'type': 'binary'}, 'structured': {'use_structured': True, 'structured_dim': 50}, 'encoder': {'type': 'sru', 'hidden_size': 128}}, 'training_config': {'type': 'Adam', 'groups': [('.*', {'lr': 0.001, 'weight_decay': 1e-05})], 'common': {'bsize': 16, 'class_weight': True}}, 'exp_config': {'exp_name': 'Mortality_1yr/Basic/SRU(hs=128)+Structured', 'basepath': 'outputs/'}}\n",
      "Setting Embedding\n",
      "Setting Embedding\n"
     ]
    },
    {
     "data": {
      "application/vnd.jupyter.widget-view+json": {
       "model_id": "e367f2d7c99541d68229bdf37301a2be",
       "version_major": 2,
       "version_minor": 0
      },
      "text/plain": [
       "HBox(children=(IntProgress(value=0, max=184), HTML(value='')))"
      ]
     },
     "metadata": {},
     "output_type": "display_data"
    },
    {
     "name": "stdout",
     "output_type": "stream",
     "text": [
      "\n",
      "{'accuracy': 0.7650059513688148, 'roc_auc': 0.8498460564555578, 'pr_auc': 0.6783627685436263}\n"
     ]
    },
    {
     "data": {
      "text/html": [
       "<div>\n",
       "<style scoped>\n",
       "    .dataframe tbody tr th:only-of-type {\n",
       "        vertical-align: middle;\n",
       "    }\n",
       "\n",
       "    .dataframe tbody tr th {\n",
       "        vertical-align: top;\n",
       "    }\n",
       "\n",
       "    .dataframe thead th {\n",
       "        text-align: right;\n",
       "    }\n",
       "</style>\n",
       "<table border=\"1\" class=\"dataframe\">\n",
       "  <thead>\n",
       "    <tr style=\"text-align: right;\">\n",
       "      <th></th>\n",
       "      <th>0</th>\n",
       "      <th>1</th>\n",
       "      <th>micro avg</th>\n",
       "      <th>macro avg</th>\n",
       "      <th>weighted avg</th>\n",
       "    </tr>\n",
       "  </thead>\n",
       "  <tbody>\n",
       "    <tr>\n",
       "      <th>f1-score</th>\n",
       "      <td>0.827</td>\n",
       "      <td>0.634</td>\n",
       "      <td>0.765</td>\n",
       "      <td>0.730</td>\n",
       "      <td>0.777</td>\n",
       "    </tr>\n",
       "    <tr>\n",
       "      <th>precision</th>\n",
       "      <td>0.913</td>\n",
       "      <td>0.529</td>\n",
       "      <td>0.765</td>\n",
       "      <td>0.721</td>\n",
       "      <td>0.814</td>\n",
       "    </tr>\n",
       "    <tr>\n",
       "      <th>recall</th>\n",
       "      <td>0.756</td>\n",
       "      <td>0.792</td>\n",
       "      <td>0.765</td>\n",
       "      <td>0.774</td>\n",
       "      <td>0.765</td>\n",
       "    </tr>\n",
       "    <tr>\n",
       "      <th>support</th>\n",
       "      <td>4370.000</td>\n",
       "      <td>1511.000</td>\n",
       "      <td>5881.000</td>\n",
       "      <td>5881.000</td>\n",
       "      <td>5881.000</td>\n",
       "    </tr>\n",
       "  </tbody>\n",
       "</table>\n",
       "</div>"
      ],
      "text/plain": [
       "                  0         1  micro avg  macro avg  weighted avg\n",
       "f1-score      0.827     0.634      0.765      0.730         0.777\n",
       "precision     0.913     0.529      0.765      0.721         0.814\n",
       "recall        0.756     0.792      0.765      0.774         0.765\n",
       "support    4370.000  1511.000   5881.000   5881.000      5881.000"
      ]
     },
     "metadata": {},
     "output_type": "display_data"
    },
    {
     "data": {
      "application/vnd.jupyter.widget-view+json": {
       "model_id": "e49a7ddd71c84e6d91a2dda9f50f4fef",
       "version_major": 2,
       "version_minor": 0
      },
      "text/plain": [
       "HBox(children=(IntProgress(value=0, max=230), HTML(value='')))"
      ]
     },
     "metadata": {},
     "output_type": "display_data"
    },
    {
     "name": "stdout",
     "output_type": "stream",
     "text": [
      "\n",
      "{'accuracy': 0.7628894028023399, 'roc_auc': 0.852255653687449, 'pr_auc': 0.679092682671449}\n"
     ]
    },
    {
     "data": {
      "text/html": [
       "<div>\n",
       "<style scoped>\n",
       "    .dataframe tbody tr th:only-of-type {\n",
       "        vertical-align: middle;\n",
       "    }\n",
       "\n",
       "    .dataframe tbody tr th {\n",
       "        vertical-align: top;\n",
       "    }\n",
       "\n",
       "    .dataframe thead th {\n",
       "        text-align: right;\n",
       "    }\n",
       "</style>\n",
       "<table border=\"1\" class=\"dataframe\">\n",
       "  <thead>\n",
       "    <tr style=\"text-align: right;\">\n",
       "      <th></th>\n",
       "      <th>0</th>\n",
       "      <th>1</th>\n",
       "      <th>micro avg</th>\n",
       "      <th>macro avg</th>\n",
       "      <th>weighted avg</th>\n",
       "    </tr>\n",
       "  </thead>\n",
       "  <tbody>\n",
       "    <tr>\n",
       "      <th>f1-score</th>\n",
       "      <td>0.825</td>\n",
       "      <td>0.632</td>\n",
       "      <td>0.763</td>\n",
       "      <td>0.728</td>\n",
       "      <td>0.776</td>\n",
       "    </tr>\n",
       "    <tr>\n",
       "      <th>precision</th>\n",
       "      <td>0.913</td>\n",
       "      <td>0.525</td>\n",
       "      <td>0.763</td>\n",
       "      <td>0.719</td>\n",
       "      <td>0.813</td>\n",
       "    </tr>\n",
       "    <tr>\n",
       "      <th>recall</th>\n",
       "      <td>0.753</td>\n",
       "      <td>0.792</td>\n",
       "      <td>0.763</td>\n",
       "      <td>0.772</td>\n",
       "      <td>0.763</td>\n",
       "    </tr>\n",
       "    <tr>\n",
       "      <th>support</th>\n",
       "      <td>5465.000</td>\n",
       "      <td>1886.000</td>\n",
       "      <td>7351.000</td>\n",
       "      <td>7351.000</td>\n",
       "      <td>7351.000</td>\n",
       "    </tr>\n",
       "  </tbody>\n",
       "</table>\n",
       "</div>"
      ],
      "text/plain": [
       "                  0         1  micro avg  macro avg  weighted avg\n",
       "f1-score      0.825     0.632      0.763      0.728         0.776\n",
       "precision     0.913     0.525      0.763      0.719         0.813\n",
       "recall        0.753     0.792      0.763      0.772         0.763\n",
       "support    5465.000  1886.000   7351.000   7351.000      7351.000"
      ]
     },
     "metadata": {},
     "output_type": "display_data"
    },
    {
     "name": "stderr",
     "output_type": "stream",
     "text": [
      "INFO - 2019-03-27 17:55:44,186 - instantiating class <class 'PatientVec.models.Model.Model'> from params {'type': 'seq_classifier_with_attention', 'embedder': {'type': 'token_embedder', 'vocab_size': 29286, 'embed_size': 200, 'embedding_file': './preprocess/Mortality/embedding_matrix.npy'}, 'decoder': {'num_layers': 2, 'hidden_dims': [128, 1], 'activations': ['tanh', 'linear']}, 'predictor': {'type': 'binary'}, 'structured': {'use_structured': True, 'structured_dim': 50}, 'encoder': {'type': 'sru', 'hidden_size': 128}, 'attention': {'similarity': {'type': 'additive', 'hidden_size': 128}}} and extras {}\n",
      "INFO - 2019-03-27 17:55:44,186 - type = seq_classifier_with_attention\n",
      "INFO - 2019-03-27 17:55:44,187 - instantiating class <class 'PatientVec.models.modules.Embedder.Embedder'> from params {'type': 'token_embedder', 'vocab_size': 29286, 'embed_size': 200, 'embedding_file': './preprocess/Mortality/embedding_matrix.npy'} and extras {}\n",
      "INFO - 2019-03-27 17:55:44,187 - embedder.type = token_embedder\n",
      "INFO - 2019-03-27 17:55:44,188 - instantiating class <class 'PatientVec.models.modules.Embedder.TokenEmbedder'> from params {'vocab_size': 29286, 'embed_size': 200, 'embedding_file': './preprocess/Mortality/embedding_matrix.npy'} and extras {}\n",
      "INFO - 2019-03-27 17:55:44,188 - embedder.vocab_size = 29286\n",
      "INFO - 2019-03-27 17:55:44,188 - embedder.embed_size = 200\n",
      "INFO - 2019-03-27 17:55:44,189 - embedder.embedding_file = ./preprocess/Mortality/embedding_matrix.npy\n",
      "INFO - 2019-03-27 17:55:44,203 - instantiating class <class 'PatientVec.models.modules.Encoder.Encoder'> from params {'type': 'sru', 'hidden_size': 128} and extras {'input_size': 200}\n",
      "INFO - 2019-03-27 17:55:44,204 - encoder.type = sru\n",
      "INFO - 2019-03-27 17:55:44,204 - instantiating class <class 'PatientVec.models.modules.Encoder.SRUEncoder'> from params {'hidden_size': 128} and extras {'input_size': 200}\n",
      "INFO - 2019-03-27 17:55:44,204 - encoder.hidden_size = 128\n",
      "INFO - 2019-03-27 17:55:44,207 - instantiating class <class 'PatientVec.models.modules.SelfAttention.SelfAttention'> from params {'similarity': {'type': 'additive', 'hidden_size': 128, 'tensor_1_dim': 256}} and extras {}\n",
      "INFO - 2019-03-27 17:55:44,208 - instantiating class <class 'PatientVec.models.modules.UniSimilarity.UniSimilarity'> from params {'type': 'additive', 'hidden_size': 128, 'tensor_1_dim': 256} and extras {}\n",
      "INFO - 2019-03-27 17:55:44,208 - attention.similarity.type = additive\n",
      "INFO - 2019-03-27 17:55:44,208 - instantiating class <class 'PatientVec.models.modules.UniSimilarity.UniAdditiveSimilarity'> from params {'hidden_size': 128, 'tensor_1_dim': 256} and extras {}\n",
      "INFO - 2019-03-27 17:55:44,209 - attention.similarity.tensor_1_dim = 256\n",
      "INFO - 2019-03-27 17:55:44,209 - attention.similarity.hidden_size = 128\n",
      "INFO - 2019-03-27 17:55:44,209 - attention.similarity.output_size = 1\n",
      "INFO - 2019-03-27 17:55:44,211 - attention.normaliser = softmax\n",
      "INFO - 2019-03-27 17:55:44,211 - decoder.input_dim = 306\n",
      "INFO - 2019-03-27 17:55:44,212 - decoder.num_layers = 2\n",
      "INFO - 2019-03-27 17:55:44,212 - decoder.hidden_dims = [128, 1]\n",
      "INFO - 2019-03-27 17:55:44,212 - decoder.activations = ['tanh', 'linear']\n",
      "INFO - 2019-03-27 17:55:44,212 - decoder.dropout = 0.0\n",
      "INFO - 2019-03-27 17:55:44,214 - instantiating class <class 'PatientVec.models.modules.Predictor.Predictor'> from params {'type': 'binary'} and extras {}\n",
      "INFO - 2019-03-27 17:55:44,214 - predictor.type = binary\n",
      "INFO - 2019-03-27 17:55:44,214 - instantiating class <class 'PatientVec.models.modules.Predictor.Binary_Predictor'> from params {} and extras {}\n",
      "INFO - 2019-03-27 17:55:44,215 - predictor.replicate = False\n",
      "INFO - 2019-03-27 17:55:44,215 - predictor.alpha = 0.5\n",
      "INFO - 2019-03-27 17:55:44,223 - instantiating class <class 'PatientVec.models.Model.Model'> from params {'type': 'seq_classifier_with_attention', 'embedder': {'type': 'token_embedder', 'vocab_size': 29286, 'embed_size': 200, 'embedding_file': './preprocess/Mortality/embedding_matrix.npy'}, 'decoder': {'num_layers': 2, 'hidden_dims': [128, 1], 'activations': ['tanh', 'linear']}, 'predictor': {'type': 'binary'}, 'structured': {'use_structured': True, 'structured_dim': 50}, 'encoder': {'type': 'sru', 'hidden_size': 128}, 'attention': {'similarity': {'type': 'additive', 'hidden_size': 128}}} and extras {}\n",
      "INFO - 2019-03-27 17:55:44,223 - type = seq_classifier_with_attention\n",
      "INFO - 2019-03-27 17:55:44,223 - instantiating class <class 'PatientVec.models.modules.Embedder.Embedder'> from params {'type': 'token_embedder', 'vocab_size': 29286, 'embed_size': 200, 'embedding_file': './preprocess/Mortality/embedding_matrix.npy'} and extras {}\n",
      "INFO - 2019-03-27 17:55:44,224 - embedder.type = token_embedder\n",
      "INFO - 2019-03-27 17:55:44,224 - instantiating class <class 'PatientVec.models.modules.Embedder.TokenEmbedder'> from params {'vocab_size': 29286, 'embed_size': 200, 'embedding_file': './preprocess/Mortality/embedding_matrix.npy'} and extras {}\n",
      "INFO - 2019-03-27 17:55:44,224 - embedder.vocab_size = 29286\n",
      "INFO - 2019-03-27 17:55:44,225 - embedder.embed_size = 200\n",
      "INFO - 2019-03-27 17:55:44,225 - embedder.embedding_file = ./preprocess/Mortality/embedding_matrix.npy\n",
      "INFO - 2019-03-27 17:55:44,239 - instantiating class <class 'PatientVec.models.modules.Encoder.Encoder'> from params {'type': 'sru', 'hidden_size': 128} and extras {'input_size': 200}\n",
      "INFO - 2019-03-27 17:55:44,240 - encoder.type = sru\n",
      "INFO - 2019-03-27 17:55:44,240 - instantiating class <class 'PatientVec.models.modules.Encoder.SRUEncoder'> from params {'hidden_size': 128} and extras {'input_size': 200}\n",
      "INFO - 2019-03-27 17:55:44,240 - encoder.hidden_size = 128\n",
      "INFO - 2019-03-27 17:55:44,243 - instantiating class <class 'PatientVec.models.modules.SelfAttention.SelfAttention'> from params {'similarity': {'type': 'additive', 'hidden_size': 128, 'tensor_1_dim': 256}} and extras {}\n",
      "INFO - 2019-03-27 17:55:44,244 - instantiating class <class 'PatientVec.models.modules.UniSimilarity.UniSimilarity'> from params {'type': 'additive', 'hidden_size': 128, 'tensor_1_dim': 256} and extras {}\n",
      "INFO - 2019-03-27 17:55:44,244 - attention.similarity.type = additive\n",
      "INFO - 2019-03-27 17:55:44,244 - instantiating class <class 'PatientVec.models.modules.UniSimilarity.UniAdditiveSimilarity'> from params {'hidden_size': 128, 'tensor_1_dim': 256} and extras {}\n",
      "INFO - 2019-03-27 17:55:44,245 - attention.similarity.tensor_1_dim = 256\n",
      "INFO - 2019-03-27 17:55:44,245 - attention.similarity.hidden_size = 128\n",
      "INFO - 2019-03-27 17:55:44,245 - attention.similarity.output_size = 1\n",
      "INFO - 2019-03-27 17:55:44,247 - attention.normaliser = softmax\n",
      "INFO - 2019-03-27 17:55:44,247 - decoder.input_dim = 306\n",
      "INFO - 2019-03-27 17:55:44,247 - decoder.num_layers = 2\n",
      "INFO - 2019-03-27 17:55:44,248 - decoder.hidden_dims = [128, 1]\n",
      "INFO - 2019-03-27 17:55:44,248 - decoder.activations = ['tanh', 'linear']\n",
      "INFO - 2019-03-27 17:55:44,248 - decoder.dropout = 0.0\n",
      "INFO - 2019-03-27 17:55:44,250 - instantiating class <class 'PatientVec.models.modules.Predictor.Predictor'> from params {'type': 'binary'} and extras {}\n",
      "INFO - 2019-03-27 17:55:44,250 - predictor.type = binary\n",
      "INFO - 2019-03-27 17:55:44,250 - instantiating class <class 'PatientVec.models.modules.Predictor.Binary_Predictor'> from params {} and extras {}\n",
      "INFO - 2019-03-27 17:55:44,250 - predictor.replicate = False\n",
      "INFO - 2019-03-27 17:55:44,251 - predictor.alpha = 0.5\n"
     ]
    },
    {
     "name": "stdout",
     "output_type": "stream",
     "text": [
      "============================================================================================================================================================================================================================================================================================================\n",
      "{'model': {'type': 'seq_classifier_with_attention', 'embedder': {'type': 'token_embedder', 'vocab_size': 29286, 'embed_size': 200, 'embedding_file': './preprocess/Mortality/embedding_matrix.npy'}, 'decoder': {'num_layers': 2, 'hidden_dims': [128, 1], 'activations': ['tanh', 'linear']}, 'predictor': {'type': 'binary'}, 'structured': {'use_structured': True, 'structured_dim': 50}, 'encoder': {'type': 'sru', 'hidden_size': 128}, 'attention': {'similarity': {'type': 'additive', 'hidden_size': 128}}}, 'training_config': {'type': 'Adam', 'groups': [('.*', {'lr': 0.001, 'weight_decay': 1e-05})], 'common': {'bsize': 16, 'class_weight': True}}, 'exp_config': {'exp_name': 'Mortality_1yr/Attention/SRU(hs=128)+Attention(additive)(hs=128)+Structured', 'basepath': 'outputs/'}}\n",
      "Setting Embedding\n",
      "Setting Embedding\n"
     ]
    },
    {
     "data": {
      "application/vnd.jupyter.widget-view+json": {
       "model_id": "dfd2bceff34b4044a18b24f90399936f",
       "version_major": 2,
       "version_minor": 0
      },
      "text/plain": [
       "HBox(children=(IntProgress(value=0, max=184), HTML(value='')))"
      ]
     },
     "metadata": {},
     "output_type": "display_data"
    },
    {
     "name": "stdout",
     "output_type": "stream",
     "text": [
      "\n",
      "{'accuracy': 0.8374426118007141, 'roc_auc': 0.8998900511428775, 'pr_auc': 0.7821669563844583}\n"
     ]
    },
    {
     "data": {
      "text/html": [
       "<div>\n",
       "<style scoped>\n",
       "    .dataframe tbody tr th:only-of-type {\n",
       "        vertical-align: middle;\n",
       "    }\n",
       "\n",
       "    .dataframe tbody tr th {\n",
       "        vertical-align: top;\n",
       "    }\n",
       "\n",
       "    .dataframe thead th {\n",
       "        text-align: right;\n",
       "    }\n",
       "</style>\n",
       "<table border=\"1\" class=\"dataframe\">\n",
       "  <thead>\n",
       "    <tr style=\"text-align: right;\">\n",
       "      <th></th>\n",
       "      <th>0</th>\n",
       "      <th>1</th>\n",
       "      <th>micro avg</th>\n",
       "      <th>macro avg</th>\n",
       "      <th>weighted avg</th>\n",
       "    </tr>\n",
       "  </thead>\n",
       "  <tbody>\n",
       "    <tr>\n",
       "      <th>f1-score</th>\n",
       "      <td>0.888</td>\n",
       "      <td>0.707</td>\n",
       "      <td>0.837</td>\n",
       "      <td>0.797</td>\n",
       "      <td>0.841</td>\n",
       "    </tr>\n",
       "    <tr>\n",
       "      <th>precision</th>\n",
       "      <td>0.914</td>\n",
       "      <td>0.658</td>\n",
       "      <td>0.837</td>\n",
       "      <td>0.786</td>\n",
       "      <td>0.848</td>\n",
       "    </tr>\n",
       "    <tr>\n",
       "      <th>recall</th>\n",
       "      <td>0.863</td>\n",
       "      <td>0.764</td>\n",
       "      <td>0.837</td>\n",
       "      <td>0.813</td>\n",
       "      <td>0.837</td>\n",
       "    </tr>\n",
       "    <tr>\n",
       "      <th>support</th>\n",
       "      <td>4370.000</td>\n",
       "      <td>1511.000</td>\n",
       "      <td>5881.000</td>\n",
       "      <td>5881.000</td>\n",
       "      <td>5881.000</td>\n",
       "    </tr>\n",
       "  </tbody>\n",
       "</table>\n",
       "</div>"
      ],
      "text/plain": [
       "                  0         1  micro avg  macro avg  weighted avg\n",
       "f1-score      0.888     0.707      0.837      0.797         0.841\n",
       "precision     0.914     0.658      0.837      0.786         0.848\n",
       "recall        0.863     0.764      0.837      0.813         0.837\n",
       "support    4370.000  1511.000   5881.000   5881.000      5881.000"
      ]
     },
     "metadata": {},
     "output_type": "display_data"
    },
    {
     "data": {
      "application/vnd.jupyter.widget-view+json": {
       "model_id": "2a06817271c446bbbe701b3ca65d6641",
       "version_major": 2,
       "version_minor": 0
      },
      "text/plain": [
       "HBox(children=(IntProgress(value=0, max=230), HTML(value='')))"
      ]
     },
     "metadata": {},
     "output_type": "display_data"
    },
    {
     "name": "stdout",
     "output_type": "stream",
     "text": [
      "\n",
      "{'accuracy': 0.8447830227179975, 'roc_auc': 0.9081668362926519, 'pr_auc': 0.7998277428055904}\n"
     ]
    },
    {
     "data": {
      "text/html": [
       "<div>\n",
       "<style scoped>\n",
       "    .dataframe tbody tr th:only-of-type {\n",
       "        vertical-align: middle;\n",
       "    }\n",
       "\n",
       "    .dataframe tbody tr th {\n",
       "        vertical-align: top;\n",
       "    }\n",
       "\n",
       "    .dataframe thead th {\n",
       "        text-align: right;\n",
       "    }\n",
       "</style>\n",
       "<table border=\"1\" class=\"dataframe\">\n",
       "  <thead>\n",
       "    <tr style=\"text-align: right;\">\n",
       "      <th></th>\n",
       "      <th>0</th>\n",
       "      <th>1</th>\n",
       "      <th>micro avg</th>\n",
       "      <th>macro avg</th>\n",
       "      <th>weighted avg</th>\n",
       "    </tr>\n",
       "  </thead>\n",
       "  <tbody>\n",
       "    <tr>\n",
       "      <th>f1-score</th>\n",
       "      <td>0.892</td>\n",
       "      <td>0.723</td>\n",
       "      <td>0.845</td>\n",
       "      <td>0.808</td>\n",
       "      <td>0.849</td>\n",
       "    </tr>\n",
       "    <tr>\n",
       "      <th>precision</th>\n",
       "      <td>0.923</td>\n",
       "      <td>0.667</td>\n",
       "      <td>0.845</td>\n",
       "      <td>0.795</td>\n",
       "      <td>0.857</td>\n",
       "    </tr>\n",
       "    <tr>\n",
       "      <th>recall</th>\n",
       "      <td>0.863</td>\n",
       "      <td>0.791</td>\n",
       "      <td>0.845</td>\n",
       "      <td>0.827</td>\n",
       "      <td>0.845</td>\n",
       "    </tr>\n",
       "    <tr>\n",
       "      <th>support</th>\n",
       "      <td>5465.000</td>\n",
       "      <td>1886.000</td>\n",
       "      <td>7351.000</td>\n",
       "      <td>7351.000</td>\n",
       "      <td>7351.000</td>\n",
       "    </tr>\n",
       "  </tbody>\n",
       "</table>\n",
       "</div>"
      ],
      "text/plain": [
       "                  0         1  micro avg  macro avg  weighted avg\n",
       "f1-score      0.892     0.723      0.845      0.808         0.849\n",
       "precision     0.923     0.667      0.845      0.795         0.857\n",
       "recall        0.863     0.791      0.845      0.827         0.845\n",
       "support    5465.000  1886.000   7351.000   7351.000      7351.000"
      ]
     },
     "metadata": {},
     "output_type": "display_data"
    },
    {
     "name": "stdout",
     "output_type": "stream",
     "text": [
      "============================================================================================================================================================================================================================================================================================================\n",
      "Pos Percentage [0.25239128]\n"
     ]
    },
    {
     "name": "stderr",
     "output_type": "stream",
     "text": [
      "INFO - 2019-03-27 17:57:34,589 - Maximum Sentence Length 721825.000000 , 90 percentile length 18596.000000 ... \n",
      "INFO - 2019-03-27 17:57:43,220 - Truncated all ...\n",
      "INFO - 2019-03-27 17:57:43,272 - Idxs removed []...\n"
     ]
    },
    {
     "name": "stdout",
     "output_type": "stream",
     "text": [
      "Pos Percentage [0.25692909]\n"
     ]
    },
    {
     "name": "stderr",
     "output_type": "stream",
     "text": [
      "INFO - 2019-03-27 17:57:44,287 - Maximum Sentence Length 420764.000000 , 90 percentile length 17662.000000 ... \n",
      "INFO - 2019-03-27 17:57:47,792 - Truncated all ...\n",
      "INFO - 2019-03-27 17:57:47,805 - Idxs removed []...\n"
     ]
    },
    {
     "name": "stdout",
     "output_type": "stream",
     "text": [
      "Pos Percentage [0.25656373]\n"
     ]
    },
    {
     "name": "stderr",
     "output_type": "stream",
     "text": [
      "INFO - 2019-03-27 17:57:48,941 - Maximum Sentence Length 707041.000000 , 90 percentile length 17669.000000 ... \n",
      "INFO - 2019-03-27 17:57:50,778 - Truncated all ...\n",
      "INFO - 2019-03-27 17:57:50,793 - Idxs removed []...\n",
      "INFO - 2019-03-27 17:57:50,853 - instantiating class <class 'PatientVec.models.Model.Model'> from params {'type': 'seq_classifier_with_structured_attention', 'embedder': {'type': 'token_embedder', 'vocab_size': 29286, 'embed_size': 200, 'embedding_file': './preprocess/Mortality/embedding_matrix.npy'}, 'decoder': {'num_layers': 2, 'hidden_dims': [128, 1], 'activations': ['tanh', 'linear']}, 'predictor': {'type': 'binary'}, 'structured': {'use_structured': True, 'structured_dim': 50}, 'encoder': {'type': 'average', 'projection': True, 'hidden_size': 256, 'activation': 'relu'}, 'attention': {'similarity': {'type': 'additive', 'hidden_size': 128, 'tensor_2_dim': 50}}} and extras {}\n",
      "INFO - 2019-03-27 17:57:50,854 - type = seq_classifier_with_structured_attention\n",
      "INFO - 2019-03-27 17:57:50,854 - instantiating class <class 'PatientVec.models.modules.Embedder.Embedder'> from params {'type': 'token_embedder', 'vocab_size': 29286, 'embed_size': 200, 'embedding_file': './preprocess/Mortality/embedding_matrix.npy'} and extras {}\n",
      "INFO - 2019-03-27 17:57:50,855 - embedder.type = token_embedder\n",
      "INFO - 2019-03-27 17:57:50,855 - instantiating class <class 'PatientVec.models.modules.Embedder.TokenEmbedder'> from params {'vocab_size': 29286, 'embed_size': 200, 'embedding_file': './preprocess/Mortality/embedding_matrix.npy'} and extras {}\n",
      "INFO - 2019-03-27 17:57:50,855 - embedder.vocab_size = 29286\n",
      "INFO - 2019-03-27 17:57:50,856 - embedder.embed_size = 200\n",
      "INFO - 2019-03-27 17:57:50,856 - embedder.embedding_file = ./preprocess/Mortality/embedding_matrix.npy\n",
      "INFO - 2019-03-27 17:57:50,872 - instantiating class <class 'PatientVec.models.modules.Encoder.Encoder'> from params {'type': 'average', 'projection': True, 'hidden_size': 256, 'activation': 'relu'} and extras {'input_size': 200}\n",
      "INFO - 2019-03-27 17:57:50,872 - encoder.type = average\n",
      "INFO - 2019-03-27 17:57:50,872 - instantiating class <class 'PatientVec.models.modules.Encoder.AverageEncoder'> from params {'projection': True, 'hidden_size': 256, 'activation': 'relu'} and extras {'input_size': 200}\n",
      "INFO - 2019-03-27 17:57:50,873 - encoder.projection = True\n",
      "INFO - 2019-03-27 17:57:50,873 - encoder.hidden_size = 256\n",
      "INFO - 2019-03-27 17:57:50,874 - encoder.activation = relu\n",
      "INFO - 2019-03-27 17:57:50,875 - instantiating class <class 'PatientVec.models.modules.Attention.Attention'> from params {'similarity': {'type': 'additive', 'hidden_size': 128, 'tensor_2_dim': 50, 'tensor_1_dim': 256}} and extras {}\n",
      "INFO - 2019-03-27 17:57:50,875 - instantiating class <class 'PatientVec.models.modules.BiSimilarity.BiSimilarity'> from params {'type': 'additive', 'hidden_size': 128, 'tensor_2_dim': 50, 'tensor_1_dim': 256} and extras {}\n",
      "INFO - 2019-03-27 17:57:50,875 - attention.similarity.type = additive\n",
      "INFO - 2019-03-27 17:57:50,876 - instantiating class <class 'PatientVec.models.modules.BiSimilarity.BiAdditiveSimilarity'> from params {'hidden_size': 128, 'tensor_2_dim': 50, 'tensor_1_dim': 256} and extras {}\n",
      "INFO - 2019-03-27 17:57:50,876 - attention.similarity.tensor_1_dim = 256\n",
      "INFO - 2019-03-27 17:57:50,876 - attention.similarity.tensor_2_dim = 50\n",
      "INFO - 2019-03-27 17:57:50,876 - attention.similarity.hidden_size = 128\n",
      "INFO - 2019-03-27 17:57:50,878 - attention.normaliser = softmax\n",
      "INFO - 2019-03-27 17:57:50,878 - decoder.input_dim = 306\n",
      "INFO - 2019-03-27 17:57:50,878 - decoder.num_layers = 2\n",
      "INFO - 2019-03-27 17:57:50,879 - decoder.hidden_dims = [128, 1]\n",
      "INFO - 2019-03-27 17:57:50,879 - decoder.activations = ['tanh', 'linear']\n",
      "INFO - 2019-03-27 17:57:50,879 - decoder.dropout = 0.0\n",
      "INFO - 2019-03-27 17:57:50,880 - instantiating class <class 'PatientVec.models.modules.Predictor.Predictor'> from params {'type': 'binary'} and extras {}\n",
      "INFO - 2019-03-27 17:57:50,881 - predictor.type = binary\n",
      "INFO - 2019-03-27 17:57:50,881 - instantiating class <class 'PatientVec.models.modules.Predictor.Binary_Predictor'> from params {} and extras {}\n",
      "INFO - 2019-03-27 17:57:50,882 - predictor.replicate = False\n",
      "INFO - 2019-03-27 17:57:50,882 - predictor.alpha = 0.5\n",
      "INFO - 2019-03-27 17:57:50,891 - instantiating class <class 'PatientVec.models.Model.Model'> from params {'type': 'seq_classifier_with_structured_attention', 'embedder': {'type': 'token_embedder', 'vocab_size': 29286, 'embed_size': 200, 'embedding_file': '/scratch/jain.sar/PatientVec/preprocess/Mortality/embedding_matrix.npy'}, 'decoder': {'num_layers': 2, 'hidden_dims': [128, 1], 'activations': ['tanh', 'linear']}, 'predictor': {'type': 'binary'}, 'structured': {'use_structured': True, 'structured_dim': 50}, 'encoder': {'type': 'average', 'projection': True, 'hidden_size': 256, 'activation': 'relu'}, 'attention': {'similarity': {'type': 'additive', 'hidden_size': 128, 'tensor_2_dim': 50}}} and extras {}\n",
      "INFO - 2019-03-27 17:57:50,891 - type = seq_classifier_with_structured_attention\n",
      "INFO - 2019-03-27 17:57:50,892 - instantiating class <class 'PatientVec.models.modules.Embedder.Embedder'> from params {'type': 'token_embedder', 'vocab_size': 29286, 'embed_size': 200, 'embedding_file': '/scratch/jain.sar/PatientVec/preprocess/Mortality/embedding_matrix.npy'} and extras {}\n",
      "INFO - 2019-03-27 17:57:50,892 - embedder.type = token_embedder\n",
      "INFO - 2019-03-27 17:57:50,892 - instantiating class <class 'PatientVec.models.modules.Embedder.TokenEmbedder'> from params {'vocab_size': 29286, 'embed_size': 200, 'embedding_file': '/scratch/jain.sar/PatientVec/preprocess/Mortality/embedding_matrix.npy'} and extras {}\n",
      "INFO - 2019-03-27 17:57:50,893 - embedder.vocab_size = 29286\n",
      "INFO - 2019-03-27 17:57:50,893 - embedder.embed_size = 200\n",
      "INFO - 2019-03-27 17:57:50,893 - embedder.embedding_file = /scratch/jain.sar/PatientVec/preprocess/Mortality/embedding_matrix.npy\n",
      "INFO - 2019-03-27 17:57:50,924 - instantiating class <class 'PatientVec.models.modules.Encoder.Encoder'> from params {'type': 'average', 'projection': True, 'hidden_size': 256, 'activation': 'relu'} and extras {'input_size': 200}\n",
      "INFO - 2019-03-27 17:57:50,924 - encoder.type = average\n",
      "INFO - 2019-03-27 17:57:50,925 - instantiating class <class 'PatientVec.models.modules.Encoder.AverageEncoder'> from params {'projection': True, 'hidden_size': 256, 'activation': 'relu'} and extras {'input_size': 200}\n",
      "INFO - 2019-03-27 17:57:50,925 - encoder.projection = True\n",
      "INFO - 2019-03-27 17:57:50,925 - encoder.hidden_size = 256\n",
      "INFO - 2019-03-27 17:57:50,926 - encoder.activation = relu\n",
      "INFO - 2019-03-27 17:57:50,926 - instantiating class <class 'PatientVec.models.modules.Attention.Attention'> from params {'similarity': {'type': 'additive', 'hidden_size': 128, 'tensor_2_dim': 50, 'tensor_1_dim': 256}} and extras {}\n",
      "INFO - 2019-03-27 17:57:50,927 - instantiating class <class 'PatientVec.models.modules.BiSimilarity.BiSimilarity'> from params {'type': 'additive', 'hidden_size': 128, 'tensor_2_dim': 50, 'tensor_1_dim': 256} and extras {}\n",
      "INFO - 2019-03-27 17:57:50,927 - attention.similarity.type = additive\n",
      "INFO - 2019-03-27 17:57:50,927 - instantiating class <class 'PatientVec.models.modules.BiSimilarity.BiAdditiveSimilarity'> from params {'hidden_size': 128, 'tensor_2_dim': 50, 'tensor_1_dim': 256} and extras {}\n",
      "INFO - 2019-03-27 17:57:50,928 - attention.similarity.tensor_1_dim = 256\n",
      "INFO - 2019-03-27 17:57:50,928 - attention.similarity.tensor_2_dim = 50\n",
      "INFO - 2019-03-27 17:57:50,928 - attention.similarity.hidden_size = 128\n",
      "INFO - 2019-03-27 17:57:50,929 - attention.normaliser = softmax\n",
      "INFO - 2019-03-27 17:57:50,930 - decoder.input_dim = 306\n",
      "INFO - 2019-03-27 17:57:50,930 - decoder.num_layers = 2\n",
      "INFO - 2019-03-27 17:57:50,931 - decoder.hidden_dims = [128, 1]\n",
      "INFO - 2019-03-27 17:57:50,931 - decoder.activations = ['tanh', 'linear']\n",
      "INFO - 2019-03-27 17:57:50,931 - decoder.dropout = 0.0\n",
      "INFO - 2019-03-27 17:57:50,932 - instantiating class <class 'PatientVec.models.modules.Predictor.Predictor'> from params {'type': 'binary'} and extras {}\n",
      "INFO - 2019-03-27 17:57:50,933 - predictor.type = binary\n",
      "INFO - 2019-03-27 17:57:50,933 - instantiating class <class 'PatientVec.models.modules.Predictor.Binary_Predictor'> from params {} and extras {}\n",
      "INFO - 2019-03-27 17:57:50,933 - predictor.replicate = False\n",
      "INFO - 2019-03-27 17:57:50,934 - predictor.alpha = 0.5\n"
     ]
    },
    {
     "name": "stdout",
     "output_type": "stream",
     "text": [
      "{'model': {'type': 'seq_classifier_with_structured_attention', 'embedder': {'type': 'token_embedder', 'vocab_size': 29286, 'embed_size': 200, 'embedding_file': './preprocess/Mortality/embedding_matrix.npy'}, 'decoder': {'num_layers': 2, 'hidden_dims': [128, 1], 'activations': ['tanh', 'linear']}, 'predictor': {'type': 'binary'}, 'structured': {'use_structured': True, 'structured_dim': 50}, 'encoder': {'type': 'average', 'projection': True, 'hidden_size': 256, 'activation': 'relu'}, 'attention': {'similarity': {'type': 'additive', 'hidden_size': 128, 'tensor_2_dim': 50}}}, 'training_config': {'type': 'Adam', 'groups': [('.*', {'lr': 0.001, 'weight_decay': 1e-05})], 'common': {'bsize': 32, 'class_weight': True}}, 'exp_config': {'exp_name': 'Mortality_1yr/Structured Attention/Average(hs=256)+Attention(additive)(all)(hs=128)+Structured', 'basepath': 'outputs/'}}\n",
      "Setting Embedding\n",
      "Error, Embedding file given but doesn't exists ... /scratch/jain.sar/PatientVec/preprocess/Mortality/embedding_matrix.npy\n"
     ]
    },
    {
     "data": {
      "application/vnd.jupyter.widget-view+json": {
       "model_id": "4886a54b38af4bebb3ac7ed762b29e44",
       "version_major": 2,
       "version_minor": 0
      },
      "text/plain": [
       "HBox(children=(IntProgress(value=0, max=184), HTML(value='')))"
      ]
     },
     "metadata": {},
     "output_type": "display_data"
    },
    {
     "name": "stdout",
     "output_type": "stream",
     "text": [
      "\n",
      "{'accuracy': 0.7796293147423907, 'roc_auc': 0.8969453602642408, 'pr_auc': 0.778289704754976}\n"
     ]
    },
    {
     "data": {
      "text/html": [
       "<div>\n",
       "<style scoped>\n",
       "    .dataframe tbody tr th:only-of-type {\n",
       "        vertical-align: middle;\n",
       "    }\n",
       "\n",
       "    .dataframe tbody tr th {\n",
       "        vertical-align: top;\n",
       "    }\n",
       "\n",
       "    .dataframe thead th {\n",
       "        text-align: right;\n",
       "    }\n",
       "</style>\n",
       "<table border=\"1\" class=\"dataframe\">\n",
       "  <thead>\n",
       "    <tr style=\"text-align: right;\">\n",
       "      <th></th>\n",
       "      <th>0</th>\n",
       "      <th>1</th>\n",
       "      <th>micro avg</th>\n",
       "      <th>macro avg</th>\n",
       "      <th>weighted avg</th>\n",
       "    </tr>\n",
       "  </thead>\n",
       "  <tbody>\n",
       "    <tr>\n",
       "      <th>f1-score</th>\n",
       "      <td>0.834</td>\n",
       "      <td>0.672</td>\n",
       "      <td>0.78</td>\n",
       "      <td>0.753</td>\n",
       "      <td>0.792</td>\n",
       "    </tr>\n",
       "    <tr>\n",
       "      <th>precision</th>\n",
       "      <td>0.946</td>\n",
       "      <td>0.544</td>\n",
       "      <td>0.78</td>\n",
       "      <td>0.745</td>\n",
       "      <td>0.843</td>\n",
       "    </tr>\n",
       "    <tr>\n",
       "      <th>recall</th>\n",
       "      <td>0.746</td>\n",
       "      <td>0.878</td>\n",
       "      <td>0.78</td>\n",
       "      <td>0.812</td>\n",
       "      <td>0.780</td>\n",
       "    </tr>\n",
       "    <tr>\n",
       "      <th>support</th>\n",
       "      <td>4370.000</td>\n",
       "      <td>1511.000</td>\n",
       "      <td>5881.00</td>\n",
       "      <td>5881.000</td>\n",
       "      <td>5881.000</td>\n",
       "    </tr>\n",
       "  </tbody>\n",
       "</table>\n",
       "</div>"
      ],
      "text/plain": [
       "                  0         1  micro avg  macro avg  weighted avg\n",
       "f1-score      0.834     0.672       0.78      0.753         0.792\n",
       "precision     0.946     0.544       0.78      0.745         0.843\n",
       "recall        0.746     0.878       0.78      0.812         0.780\n",
       "support    4370.000  1511.000    5881.00   5881.000      5881.000"
      ]
     },
     "metadata": {},
     "output_type": "display_data"
    },
    {
     "data": {
      "application/vnd.jupyter.widget-view+json": {
       "model_id": "7461a62444d94f2f9ff071aaa69f38c9",
       "version_major": 2,
       "version_minor": 0
      },
      "text/plain": [
       "HBox(children=(IntProgress(value=0, max=230), HTML(value='')))"
      ]
     },
     "metadata": {},
     "output_type": "display_data"
    },
    {
     "name": "stdout",
     "output_type": "stream",
     "text": [
      "\n",
      "{'accuracy': 0.7739083117943137, 'roc_auc': 0.9021867683969811, 'pr_auc': 0.7936510199958908}\n"
     ]
    },
    {
     "data": {
      "text/html": [
       "<div>\n",
       "<style scoped>\n",
       "    .dataframe tbody tr th:only-of-type {\n",
       "        vertical-align: middle;\n",
       "    }\n",
       "\n",
       "    .dataframe tbody tr th {\n",
       "        vertical-align: top;\n",
       "    }\n",
       "\n",
       "    .dataframe thead th {\n",
       "        text-align: right;\n",
       "    }\n",
       "</style>\n",
       "<table border=\"1\" class=\"dataframe\">\n",
       "  <thead>\n",
       "    <tr style=\"text-align: right;\">\n",
       "      <th></th>\n",
       "      <th>0</th>\n",
       "      <th>1</th>\n",
       "      <th>micro avg</th>\n",
       "      <th>macro avg</th>\n",
       "      <th>weighted avg</th>\n",
       "    </tr>\n",
       "  </thead>\n",
       "  <tbody>\n",
       "    <tr>\n",
       "      <th>f1-score</th>\n",
       "      <td>0.829</td>\n",
       "      <td>0.666</td>\n",
       "      <td>0.774</td>\n",
       "      <td>0.748</td>\n",
       "      <td>0.787</td>\n",
       "    </tr>\n",
       "    <tr>\n",
       "      <th>precision</th>\n",
       "      <td>0.946</td>\n",
       "      <td>0.536</td>\n",
       "      <td>0.774</td>\n",
       "      <td>0.741</td>\n",
       "      <td>0.841</td>\n",
       "    </tr>\n",
       "    <tr>\n",
       "      <th>recall</th>\n",
       "      <td>0.738</td>\n",
       "      <td>0.879</td>\n",
       "      <td>0.774</td>\n",
       "      <td>0.808</td>\n",
       "      <td>0.774</td>\n",
       "    </tr>\n",
       "    <tr>\n",
       "      <th>support</th>\n",
       "      <td>5465.000</td>\n",
       "      <td>1886.000</td>\n",
       "      <td>7351.000</td>\n",
       "      <td>7351.000</td>\n",
       "      <td>7351.000</td>\n",
       "    </tr>\n",
       "  </tbody>\n",
       "</table>\n",
       "</div>"
      ],
      "text/plain": [
       "                  0         1  micro avg  macro avg  weighted avg\n",
       "f1-score      0.829     0.666      0.774      0.748         0.787\n",
       "precision     0.946     0.536      0.774      0.741         0.841\n",
       "recall        0.738     0.879      0.774      0.808         0.774\n",
       "support    5465.000  1886.000   7351.000   7351.000      7351.000"
      ]
     },
     "metadata": {},
     "output_type": "display_data"
    },
    {
     "name": "stderr",
     "output_type": "stream",
     "text": [
      "INFO - 2019-03-27 17:58:38,294 - instantiating class <class 'PatientVec.models.Model.Model'> from params {'type': 'seq_classifier_with_structured_attention', 'embedder': {'type': 'token_embedder', 'vocab_size': 29286, 'embed_size': 200, 'embedding_file': './preprocess/Mortality/embedding_matrix.npy'}, 'decoder': {'num_layers': 2, 'hidden_dims': [128, 1], 'activations': ['tanh', 'linear']}, 'predictor': {'type': 'binary'}, 'structured': {'use_structured': True, 'structured_dim': 50}, 'encoder': {'type': 'lstm', 'hidden_size': 128}, 'attention': {'similarity': {'type': 'additive', 'hidden_size': 128, 'tensor_2_dim': 50}}} and extras {}\n",
      "INFO - 2019-03-27 17:58:38,294 - type = seq_classifier_with_structured_attention\n",
      "INFO - 2019-03-27 17:58:38,295 - instantiating class <class 'PatientVec.models.modules.Embedder.Embedder'> from params {'type': 'token_embedder', 'vocab_size': 29286, 'embed_size': 200, 'embedding_file': './preprocess/Mortality/embedding_matrix.npy'} and extras {}\n",
      "INFO - 2019-03-27 17:58:38,295 - embedder.type = token_embedder\n",
      "INFO - 2019-03-27 17:58:38,296 - instantiating class <class 'PatientVec.models.modules.Embedder.TokenEmbedder'> from params {'vocab_size': 29286, 'embed_size': 200, 'embedding_file': './preprocess/Mortality/embedding_matrix.npy'} and extras {}\n",
      "INFO - 2019-03-27 17:58:38,296 - embedder.vocab_size = 29286\n",
      "INFO - 2019-03-27 17:58:38,296 - embedder.embed_size = 200\n",
      "INFO - 2019-03-27 17:58:38,296 - embedder.embedding_file = ./preprocess/Mortality/embedding_matrix.npy\n",
      "INFO - 2019-03-27 17:58:38,311 - instantiating class <class 'PatientVec.models.modules.Encoder.Encoder'> from params {'type': 'lstm', 'hidden_size': 128} and extras {'input_size': 200}\n",
      "INFO - 2019-03-27 17:58:38,311 - encoder.type = lstm\n",
      "INFO - 2019-03-27 17:58:38,311 - instantiating class <class 'PatientVec.models.modules.Encoder.wrap_pytorch_rnn.<locals>.BiRNNEncoder'> from params {'hidden_size': 128} and extras {'input_size': 200}\n",
      "INFO - 2019-03-27 17:58:38,312 - encoder.hidden_size = 128\n",
      "INFO - 2019-03-27 17:58:38,314 - instantiating class <class 'PatientVec.models.modules.Attention.Attention'> from params {'similarity': {'type': 'additive', 'hidden_size': 128, 'tensor_2_dim': 50, 'tensor_1_dim': 256}} and extras {}\n",
      "INFO - 2019-03-27 17:58:38,315 - instantiating class <class 'PatientVec.models.modules.BiSimilarity.BiSimilarity'> from params {'type': 'additive', 'hidden_size': 128, 'tensor_2_dim': 50, 'tensor_1_dim': 256} and extras {}\n",
      "INFO - 2019-03-27 17:58:38,315 - attention.similarity.type = additive\n",
      "INFO - 2019-03-27 17:58:38,315 - instantiating class <class 'PatientVec.models.modules.BiSimilarity.BiAdditiveSimilarity'> from params {'hidden_size': 128, 'tensor_2_dim': 50, 'tensor_1_dim': 256} and extras {}\n",
      "INFO - 2019-03-27 17:58:38,316 - attention.similarity.tensor_1_dim = 256\n",
      "INFO - 2019-03-27 17:58:38,316 - attention.similarity.tensor_2_dim = 50\n",
      "INFO - 2019-03-27 17:58:38,316 - attention.similarity.hidden_size = 128\n",
      "INFO - 2019-03-27 17:58:38,318 - attention.normaliser = softmax\n",
      "INFO - 2019-03-27 17:58:38,318 - decoder.input_dim = 306\n",
      "INFO - 2019-03-27 17:58:38,318 - decoder.num_layers = 2\n",
      "INFO - 2019-03-27 17:58:38,319 - decoder.hidden_dims = [128, 1]\n",
      "INFO - 2019-03-27 17:58:38,319 - decoder.activations = ['tanh', 'linear']\n",
      "INFO - 2019-03-27 17:58:38,319 - decoder.dropout = 0.0\n",
      "INFO - 2019-03-27 17:58:38,320 - instantiating class <class 'PatientVec.models.modules.Predictor.Predictor'> from params {'type': 'binary'} and extras {}\n",
      "INFO - 2019-03-27 17:58:38,321 - predictor.type = binary\n",
      "INFO - 2019-03-27 17:58:38,321 - instantiating class <class 'PatientVec.models.modules.Predictor.Binary_Predictor'> from params {} and extras {}\n",
      "INFO - 2019-03-27 17:58:38,321 - predictor.replicate = False\n",
      "INFO - 2019-03-27 17:58:38,321 - predictor.alpha = 0.5\n",
      "INFO - 2019-03-27 17:58:38,330 - instantiating class <class 'PatientVec.models.Model.Model'> from params {'type': 'seq_classifier_with_structured_attention', 'embedder': {'type': 'token_embedder', 'vocab_size': 29286, 'embed_size': 200, 'embedding_file': '/scratch/jain.sar/PatientVec/preprocess/Mortality/embedding_matrix.npy'}, 'decoder': {'num_layers': 2, 'hidden_dims': [128, 1], 'activations': ['tanh', 'linear']}, 'predictor': {'type': 'binary'}, 'structured': {'use_structured': True, 'structured_dim': 50}, 'encoder': {'type': 'lstm', 'hidden_size': 128}, 'attention': {'similarity': {'type': 'additive', 'hidden_size': 128, 'tensor_2_dim': 50}}} and extras {}\n",
      "INFO - 2019-03-27 17:58:38,330 - type = seq_classifier_with_structured_attention\n",
      "INFO - 2019-03-27 17:58:38,330 - instantiating class <class 'PatientVec.models.modules.Embedder.Embedder'> from params {'type': 'token_embedder', 'vocab_size': 29286, 'embed_size': 200, 'embedding_file': '/scratch/jain.sar/PatientVec/preprocess/Mortality/embedding_matrix.npy'} and extras {}\n",
      "INFO - 2019-03-27 17:58:38,331 - embedder.type = token_embedder\n",
      "INFO - 2019-03-27 17:58:38,331 - instantiating class <class 'PatientVec.models.modules.Embedder.TokenEmbedder'> from params {'vocab_size': 29286, 'embed_size': 200, 'embedding_file': '/scratch/jain.sar/PatientVec/preprocess/Mortality/embedding_matrix.npy'} and extras {}\n",
      "INFO - 2019-03-27 17:58:38,331 - embedder.vocab_size = 29286\n",
      "INFO - 2019-03-27 17:58:38,332 - embedder.embed_size = 200\n",
      "INFO - 2019-03-27 17:58:38,332 - embedder.embedding_file = /scratch/jain.sar/PatientVec/preprocess/Mortality/embedding_matrix.npy\n",
      "INFO - 2019-03-27 17:58:38,360 - instantiating class <class 'PatientVec.models.modules.Encoder.Encoder'> from params {'type': 'lstm', 'hidden_size': 128} and extras {'input_size': 200}\n",
      "INFO - 2019-03-27 17:58:38,361 - encoder.type = lstm\n",
      "INFO - 2019-03-27 17:58:38,361 - instantiating class <class 'PatientVec.models.modules.Encoder.wrap_pytorch_rnn.<locals>.BiRNNEncoder'> from params {'hidden_size': 128} and extras {'input_size': 200}\n",
      "INFO - 2019-03-27 17:58:38,361 - encoder.hidden_size = 128\n",
      "INFO - 2019-03-27 17:58:38,363 - instantiating class <class 'PatientVec.models.modules.Attention.Attention'> from params {'similarity': {'type': 'additive', 'hidden_size': 128, 'tensor_2_dim': 50, 'tensor_1_dim': 256}} and extras {}\n",
      "INFO - 2019-03-27 17:58:38,364 - instantiating class <class 'PatientVec.models.modules.BiSimilarity.BiSimilarity'> from params {'type': 'additive', 'hidden_size': 128, 'tensor_2_dim': 50, 'tensor_1_dim': 256} and extras {}\n",
      "INFO - 2019-03-27 17:58:38,364 - attention.similarity.type = additive\n",
      "INFO - 2019-03-27 17:58:38,364 - instantiating class <class 'PatientVec.models.modules.BiSimilarity.BiAdditiveSimilarity'> from params {'hidden_size': 128, 'tensor_2_dim': 50, 'tensor_1_dim': 256} and extras {}\n",
      "INFO - 2019-03-27 17:58:38,365 - attention.similarity.tensor_1_dim = 256\n",
      "INFO - 2019-03-27 17:58:38,365 - attention.similarity.tensor_2_dim = 50\n",
      "INFO - 2019-03-27 17:58:38,365 - attention.similarity.hidden_size = 128\n",
      "INFO - 2019-03-27 17:58:38,366 - attention.normaliser = softmax\n",
      "INFO - 2019-03-27 17:58:38,367 - decoder.input_dim = 306\n",
      "INFO - 2019-03-27 17:58:38,367 - decoder.num_layers = 2\n",
      "INFO - 2019-03-27 17:58:38,367 - decoder.hidden_dims = [128, 1]\n",
      "INFO - 2019-03-27 17:58:38,367 - decoder.activations = ['tanh', 'linear']\n",
      "INFO - 2019-03-27 17:58:38,368 - decoder.dropout = 0.0\n",
      "INFO - 2019-03-27 17:58:38,369 - instantiating class <class 'PatientVec.models.modules.Predictor.Predictor'> from params {'type': 'binary'} and extras {}\n",
      "INFO - 2019-03-27 17:58:38,369 - predictor.type = binary\n",
      "INFO - 2019-03-27 17:58:38,369 - instantiating class <class 'PatientVec.models.modules.Predictor.Binary_Predictor'> from params {} and extras {}\n",
      "INFO - 2019-03-27 17:58:38,370 - predictor.replicate = False\n",
      "INFO - 2019-03-27 17:58:38,370 - predictor.alpha = 0.5\n"
     ]
    },
    {
     "name": "stdout",
     "output_type": "stream",
     "text": [
      "============================================================================================================================================================================================================================================================================================================\n",
      "{'model': {'type': 'seq_classifier_with_structured_attention', 'embedder': {'type': 'token_embedder', 'vocab_size': 29286, 'embed_size': 200, 'embedding_file': './preprocess/Mortality/embedding_matrix.npy'}, 'decoder': {'num_layers': 2, 'hidden_dims': [128, 1], 'activations': ['tanh', 'linear']}, 'predictor': {'type': 'binary'}, 'structured': {'use_structured': True, 'structured_dim': 50}, 'encoder': {'type': 'lstm', 'hidden_size': 128}, 'attention': {'similarity': {'type': 'additive', 'hidden_size': 128, 'tensor_2_dim': 50}}}, 'training_config': {'type': 'Adam', 'groups': [('.*', {'lr': 0.001, 'weight_decay': 1e-05})], 'common': {'bsize': 32, 'class_weight': True}}, 'exp_config': {'exp_name': 'Mortality_1yr/Structured Attention/LSTM(hs=128)+Attention(additive)(all)(hs=128)+Structured', 'basepath': 'outputs/'}}\n",
      "Setting Embedding\n",
      "Error, Embedding file given but doesn't exists ... /scratch/jain.sar/PatientVec/preprocess/Mortality/embedding_matrix.npy\n"
     ]
    },
    {
     "data": {
      "application/vnd.jupyter.widget-view+json": {
       "model_id": "52eb8842f0c843b19b8a7b00da55d275",
       "version_major": 2,
       "version_minor": 0
      },
      "text/plain": [
       "HBox(children=(IntProgress(value=0, max=184), HTML(value='')))"
      ]
     },
     "metadata": {},
     "output_type": "display_data"
    },
    {
     "name": "stdout",
     "output_type": "stream",
     "text": [
      "\n",
      "{'accuracy': 0.8326815167488523, 'roc_auc': 0.9004891664029004, 'pr_auc': 0.7858406412943651}\n"
     ]
    },
    {
     "data": {
      "text/html": [
       "<div>\n",
       "<style scoped>\n",
       "    .dataframe tbody tr th:only-of-type {\n",
       "        vertical-align: middle;\n",
       "    }\n",
       "\n",
       "    .dataframe tbody tr th {\n",
       "        vertical-align: top;\n",
       "    }\n",
       "\n",
       "    .dataframe thead th {\n",
       "        text-align: right;\n",
       "    }\n",
       "</style>\n",
       "<table border=\"1\" class=\"dataframe\">\n",
       "  <thead>\n",
       "    <tr style=\"text-align: right;\">\n",
       "      <th></th>\n",
       "      <th>0</th>\n",
       "      <th>1</th>\n",
       "      <th>micro avg</th>\n",
       "      <th>macro avg</th>\n",
       "      <th>weighted avg</th>\n",
       "    </tr>\n",
       "  </thead>\n",
       "  <tbody>\n",
       "    <tr>\n",
       "      <th>f1-score</th>\n",
       "      <td>0.883</td>\n",
       "      <td>0.706</td>\n",
       "      <td>0.833</td>\n",
       "      <td>0.795</td>\n",
       "      <td>0.838</td>\n",
       "    </tr>\n",
       "    <tr>\n",
       "      <th>precision</th>\n",
       "      <td>0.919</td>\n",
       "      <td>0.643</td>\n",
       "      <td>0.833</td>\n",
       "      <td>0.781</td>\n",
       "      <td>0.848</td>\n",
       "    </tr>\n",
       "    <tr>\n",
       "      <th>recall</th>\n",
       "      <td>0.850</td>\n",
       "      <td>0.783</td>\n",
       "      <td>0.833</td>\n",
       "      <td>0.816</td>\n",
       "      <td>0.833</td>\n",
       "    </tr>\n",
       "    <tr>\n",
       "      <th>support</th>\n",
       "      <td>4370.000</td>\n",
       "      <td>1511.000</td>\n",
       "      <td>5881.000</td>\n",
       "      <td>5881.000</td>\n",
       "      <td>5881.000</td>\n",
       "    </tr>\n",
       "  </tbody>\n",
       "</table>\n",
       "</div>"
      ],
      "text/plain": [
       "                  0         1  micro avg  macro avg  weighted avg\n",
       "f1-score      0.883     0.706      0.833      0.795         0.838\n",
       "precision     0.919     0.643      0.833      0.781         0.848\n",
       "recall        0.850     0.783      0.833      0.816         0.833\n",
       "support    4370.000  1511.000   5881.000   5881.000      5881.000"
      ]
     },
     "metadata": {},
     "output_type": "display_data"
    },
    {
     "data": {
      "application/vnd.jupyter.widget-view+json": {
       "model_id": "48eddd1c5fa746109708b4a4e895bfec",
       "version_major": 2,
       "version_minor": 0
      },
      "text/plain": [
       "HBox(children=(IntProgress(value=0, max=230), HTML(value='')))"
      ]
     },
     "metadata": {},
     "output_type": "display_data"
    },
    {
     "name": "stdout",
     "output_type": "stream",
     "text": [
      "\n",
      "{'accuracy': 0.8319956468507687, 'roc_auc': 0.9060502629768731, 'pr_auc': 0.7971639923880209}\n"
     ]
    },
    {
     "data": {
      "text/html": [
       "<div>\n",
       "<style scoped>\n",
       "    .dataframe tbody tr th:only-of-type {\n",
       "        vertical-align: middle;\n",
       "    }\n",
       "\n",
       "    .dataframe tbody tr th {\n",
       "        vertical-align: top;\n",
       "    }\n",
       "\n",
       "    .dataframe thead th {\n",
       "        text-align: right;\n",
       "    }\n",
       "</style>\n",
       "<table border=\"1\" class=\"dataframe\">\n",
       "  <thead>\n",
       "    <tr style=\"text-align: right;\">\n",
       "      <th></th>\n",
       "      <th>0</th>\n",
       "      <th>1</th>\n",
       "      <th>micro avg</th>\n",
       "      <th>macro avg</th>\n",
       "      <th>weighted avg</th>\n",
       "    </tr>\n",
       "  </thead>\n",
       "  <tbody>\n",
       "    <tr>\n",
       "      <th>f1-score</th>\n",
       "      <td>0.882</td>\n",
       "      <td>0.711</td>\n",
       "      <td>0.832</td>\n",
       "      <td>0.796</td>\n",
       "      <td>0.838</td>\n",
       "    </tr>\n",
       "    <tr>\n",
       "      <th>precision</th>\n",
       "      <td>0.926</td>\n",
       "      <td>0.636</td>\n",
       "      <td>0.832</td>\n",
       "      <td>0.781</td>\n",
       "      <td>0.852</td>\n",
       "    </tr>\n",
       "    <tr>\n",
       "      <th>recall</th>\n",
       "      <td>0.841</td>\n",
       "      <td>0.805</td>\n",
       "      <td>0.832</td>\n",
       "      <td>0.823</td>\n",
       "      <td>0.832</td>\n",
       "    </tr>\n",
       "    <tr>\n",
       "      <th>support</th>\n",
       "      <td>5465.000</td>\n",
       "      <td>1886.000</td>\n",
       "      <td>7351.000</td>\n",
       "      <td>7351.000</td>\n",
       "      <td>7351.000</td>\n",
       "    </tr>\n",
       "  </tbody>\n",
       "</table>\n",
       "</div>"
      ],
      "text/plain": [
       "                  0         1  micro avg  macro avg  weighted avg\n",
       "f1-score      0.882     0.711      0.832      0.796         0.838\n",
       "precision     0.926     0.636      0.832      0.781         0.852\n",
       "recall        0.841     0.805      0.832      0.823         0.832\n",
       "support    5465.000  1886.000   7351.000   7351.000      7351.000"
      ]
     },
     "metadata": {},
     "output_type": "display_data"
    },
    {
     "name": "stderr",
     "output_type": "stream",
     "text": [
      "INFO - 2019-03-27 18:01:21,092 - instantiating class <class 'PatientVec.models.Model.Model'> from params {'type': 'seq_classifier_with_structured_attention', 'embedder': {'type': 'token_embedder', 'vocab_size': 29286, 'embed_size': 200, 'embedding_file': './preprocess/Mortality/embedding_matrix.npy'}, 'decoder': {'num_layers': 2, 'hidden_dims': [128, 1], 'activations': ['tanh', 'linear']}, 'predictor': {'type': 'binary'}, 'structured': {'use_structured': True, 'structured_dim': 50}, 'encoder': {'type': 'cnn', 'hidden_size': 64, 'kernel_sizes': [3, 5, 7, 9], 'activation': 'relu'}, 'attention': {'similarity': {'type': 'additive', 'hidden_size': 128, 'tensor_2_dim': 50}}} and extras {}\n",
      "INFO - 2019-03-27 18:01:21,093 - type = seq_classifier_with_structured_attention\n",
      "INFO - 2019-03-27 18:01:21,093 - instantiating class <class 'PatientVec.models.modules.Embedder.Embedder'> from params {'type': 'token_embedder', 'vocab_size': 29286, 'embed_size': 200, 'embedding_file': './preprocess/Mortality/embedding_matrix.npy'} and extras {}\n",
      "INFO - 2019-03-27 18:01:21,094 - embedder.type = token_embedder\n",
      "INFO - 2019-03-27 18:01:21,094 - instantiating class <class 'PatientVec.models.modules.Embedder.TokenEmbedder'> from params {'vocab_size': 29286, 'embed_size': 200, 'embedding_file': './preprocess/Mortality/embedding_matrix.npy'} and extras {}\n",
      "INFO - 2019-03-27 18:01:21,095 - embedder.vocab_size = 29286\n",
      "INFO - 2019-03-27 18:01:21,095 - embedder.embed_size = 200\n",
      "INFO - 2019-03-27 18:01:21,096 - embedder.embedding_file = ./preprocess/Mortality/embedding_matrix.npy\n",
      "INFO - 2019-03-27 18:01:21,111 - instantiating class <class 'PatientVec.models.modules.Encoder.Encoder'> from params {'type': 'cnn', 'hidden_size': 64, 'kernel_sizes': [3, 5, 7, 9], 'activation': 'relu'} and extras {'input_size': 200}\n",
      "INFO - 2019-03-27 18:01:21,111 - encoder.type = cnn\n",
      "INFO - 2019-03-27 18:01:21,112 - instantiating class <class 'PatientVec.models.modules.Encoder.CNNEncoder'> from params {'hidden_size': 64, 'kernel_sizes': [3, 5, 7, 9], 'activation': 'relu'} and extras {'input_size': 200}\n",
      "INFO - 2019-03-27 18:01:21,112 - encoder.hidden_size = 64\n",
      "INFO - 2019-03-27 18:01:21,113 - encoder.kernel_sizes = [3, 5, 7, 9]\n",
      "INFO - 2019-03-27 18:01:21,113 - encoder.activation = relu\n",
      "INFO - 2019-03-27 18:01:21,117 - instantiating class <class 'PatientVec.models.modules.Attention.Attention'> from params {'similarity': {'type': 'additive', 'hidden_size': 128, 'tensor_2_dim': 50, 'tensor_1_dim': 256}} and extras {}\n",
      "INFO - 2019-03-27 18:01:21,118 - instantiating class <class 'PatientVec.models.modules.BiSimilarity.BiSimilarity'> from params {'type': 'additive', 'hidden_size': 128, 'tensor_2_dim': 50, 'tensor_1_dim': 256} and extras {}\n",
      "INFO - 2019-03-27 18:01:21,118 - attention.similarity.type = additive\n",
      "INFO - 2019-03-27 18:01:21,119 - instantiating class <class 'PatientVec.models.modules.BiSimilarity.BiAdditiveSimilarity'> from params {'hidden_size': 128, 'tensor_2_dim': 50, 'tensor_1_dim': 256} and extras {}\n",
      "INFO - 2019-03-27 18:01:21,119 - attention.similarity.tensor_1_dim = 256\n",
      "INFO - 2019-03-27 18:01:21,119 - attention.similarity.tensor_2_dim = 50\n",
      "INFO - 2019-03-27 18:01:21,120 - attention.similarity.hidden_size = 128\n",
      "INFO - 2019-03-27 18:01:21,121 - attention.normaliser = softmax\n",
      "INFO - 2019-03-27 18:01:21,122 - decoder.input_dim = 306\n",
      "INFO - 2019-03-27 18:01:21,122 - decoder.num_layers = 2\n",
      "INFO - 2019-03-27 18:01:21,122 - decoder.hidden_dims = [128, 1]\n",
      "INFO - 2019-03-27 18:01:21,123 - decoder.activations = ['tanh', 'linear']\n",
      "INFO - 2019-03-27 18:01:21,123 - decoder.dropout = 0.0\n",
      "INFO - 2019-03-27 18:01:21,125 - instantiating class <class 'PatientVec.models.modules.Predictor.Predictor'> from params {'type': 'binary'} and extras {}\n",
      "INFO - 2019-03-27 18:01:21,125 - predictor.type = binary\n",
      "INFO - 2019-03-27 18:01:21,125 - instantiating class <class 'PatientVec.models.modules.Predictor.Binary_Predictor'> from params {} and extras {}\n",
      "INFO - 2019-03-27 18:01:21,126 - predictor.replicate = False\n",
      "INFO - 2019-03-27 18:01:21,126 - predictor.alpha = 0.5\n",
      "INFO - 2019-03-27 18:01:21,136 - instantiating class <class 'PatientVec.models.Model.Model'> from params {'type': 'seq_classifier_with_structured_attention', 'embedder': {'type': 'token_embedder', 'vocab_size': 29286, 'embed_size': 200, 'embedding_file': '/scratch/jain.sar/PatientVec/preprocess/Mortality/embedding_matrix.npy'}, 'decoder': {'num_layers': 2, 'hidden_dims': [128, 1], 'activations': ['tanh', 'linear']}, 'predictor': {'type': 'binary'}, 'structured': {'use_structured': True, 'structured_dim': 50}, 'encoder': {'type': 'cnn', 'hidden_size': 64, 'kernel_sizes': [3, 5, 7, 9], 'activation': 'relu'}, 'attention': {'similarity': {'type': 'additive', 'hidden_size': 128, 'tensor_2_dim': 50}}} and extras {}\n",
      "INFO - 2019-03-27 18:01:21,136 - type = seq_classifier_with_structured_attention\n",
      "INFO - 2019-03-27 18:01:21,137 - instantiating class <class 'PatientVec.models.modules.Embedder.Embedder'> from params {'type': 'token_embedder', 'vocab_size': 29286, 'embed_size': 200, 'embedding_file': '/scratch/jain.sar/PatientVec/preprocess/Mortality/embedding_matrix.npy'} and extras {}\n",
      "INFO - 2019-03-27 18:01:21,137 - embedder.type = token_embedder\n",
      "INFO - 2019-03-27 18:01:21,138 - instantiating class <class 'PatientVec.models.modules.Embedder.TokenEmbedder'> from params {'vocab_size': 29286, 'embed_size': 200, 'embedding_file': '/scratch/jain.sar/PatientVec/preprocess/Mortality/embedding_matrix.npy'} and extras {}\n",
      "INFO - 2019-03-27 18:01:21,138 - embedder.vocab_size = 29286\n",
      "INFO - 2019-03-27 18:01:21,138 - embedder.embed_size = 200\n",
      "INFO - 2019-03-27 18:01:21,139 - embedder.embedding_file = /scratch/jain.sar/PatientVec/preprocess/Mortality/embedding_matrix.npy\n",
      "INFO - 2019-03-27 18:01:21,169 - instantiating class <class 'PatientVec.models.modules.Encoder.Encoder'> from params {'type': 'cnn', 'hidden_size': 64, 'kernel_sizes': [3, 5, 7, 9], 'activation': 'relu'} and extras {'input_size': 200}\n",
      "INFO - 2019-03-27 18:01:21,169 - encoder.type = cnn\n",
      "INFO - 2019-03-27 18:01:21,169 - instantiating class <class 'PatientVec.models.modules.Encoder.CNNEncoder'> from params {'hidden_size': 64, 'kernel_sizes': [3, 5, 7, 9], 'activation': 'relu'} and extras {'input_size': 200}\n",
      "INFO - 2019-03-27 18:01:21,170 - encoder.hidden_size = 64\n",
      "INFO - 2019-03-27 18:01:21,170 - encoder.kernel_sizes = [3, 5, 7, 9]\n",
      "INFO - 2019-03-27 18:01:21,170 - encoder.activation = relu\n",
      "INFO - 2019-03-27 18:01:21,174 - instantiating class <class 'PatientVec.models.modules.Attention.Attention'> from params {'similarity': {'type': 'additive', 'hidden_size': 128, 'tensor_2_dim': 50, 'tensor_1_dim': 256}} and extras {}\n",
      "INFO - 2019-03-27 18:01:21,175 - instantiating class <class 'PatientVec.models.modules.BiSimilarity.BiSimilarity'> from params {'type': 'additive', 'hidden_size': 128, 'tensor_2_dim': 50, 'tensor_1_dim': 256} and extras {}\n",
      "INFO - 2019-03-27 18:01:21,175 - attention.similarity.type = additive\n",
      "INFO - 2019-03-27 18:01:21,175 - instantiating class <class 'PatientVec.models.modules.BiSimilarity.BiAdditiveSimilarity'> from params {'hidden_size': 128, 'tensor_2_dim': 50, 'tensor_1_dim': 256} and extras {}\n",
      "INFO - 2019-03-27 18:01:21,176 - attention.similarity.tensor_1_dim = 256\n",
      "INFO - 2019-03-27 18:01:21,176 - attention.similarity.tensor_2_dim = 50\n",
      "INFO - 2019-03-27 18:01:21,176 - attention.similarity.hidden_size = 128\n",
      "INFO - 2019-03-27 18:01:21,178 - attention.normaliser = softmax\n",
      "INFO - 2019-03-27 18:01:21,179 - decoder.input_dim = 306\n",
      "INFO - 2019-03-27 18:01:21,179 - decoder.num_layers = 2\n",
      "INFO - 2019-03-27 18:01:21,179 - decoder.hidden_dims = [128, 1]\n",
      "INFO - 2019-03-27 18:01:21,179 - decoder.activations = ['tanh', 'linear']\n",
      "INFO - 2019-03-27 18:01:21,180 - decoder.dropout = 0.0\n",
      "INFO - 2019-03-27 18:01:21,181 - instantiating class <class 'PatientVec.models.modules.Predictor.Predictor'> from params {'type': 'binary'} and extras {}\n",
      "INFO - 2019-03-27 18:01:21,182 - predictor.type = binary\n",
      "INFO - 2019-03-27 18:01:21,182 - instantiating class <class 'PatientVec.models.modules.Predictor.Binary_Predictor'> from params {} and extras {}\n",
      "INFO - 2019-03-27 18:01:21,182 - predictor.replicate = False\n",
      "INFO - 2019-03-27 18:01:21,183 - predictor.alpha = 0.5\n"
     ]
    },
    {
     "name": "stdout",
     "output_type": "stream",
     "text": [
      "============================================================================================================================================================================================================================================================================================================\n",
      "{'model': {'type': 'seq_classifier_with_structured_attention', 'embedder': {'type': 'token_embedder', 'vocab_size': 29286, 'embed_size': 200, 'embedding_file': './preprocess/Mortality/embedding_matrix.npy'}, 'decoder': {'num_layers': 2, 'hidden_dims': [128, 1], 'activations': ['tanh', 'linear']}, 'predictor': {'type': 'binary'}, 'structured': {'use_structured': True, 'structured_dim': 50}, 'encoder': {'type': 'cnn', 'hidden_size': 64, 'kernel_sizes': [3, 5, 7, 9], 'activation': 'relu'}, 'attention': {'similarity': {'type': 'additive', 'hidden_size': 128, 'tensor_2_dim': 50}}}, 'training_config': {'type': 'Adam', 'groups': [('.*', {'lr': 0.001, 'weight_decay': 1e-05})], 'common': {'bsize': 32, 'class_weight': True}}, 'exp_config': {'exp_name': 'Mortality_1yr/Structured Attention/CNN(hs=64)(kernels=3,5,7,9)+Attention(additive)(all)(hs=128)+Structured', 'basepath': 'outputs/'}}\n",
      "Setting Embedding\n",
      "Error, Embedding file given but doesn't exists ... /scratch/jain.sar/PatientVec/preprocess/Mortality/embedding_matrix.npy\n"
     ]
    },
    {
     "data": {
      "application/vnd.jupyter.widget-view+json": {
       "model_id": "210200bff3d9401183064251c0b54809",
       "version_major": 2,
       "version_minor": 0
      },
      "text/plain": [
       "HBox(children=(IntProgress(value=0, max=184), HTML(value='')))"
      ]
     },
     "metadata": {},
     "output_type": "display_data"
    },
    {
     "name": "stdout",
     "output_type": "stream",
     "text": [
      "\n",
      "{'accuracy': 0.8253698350620643, 'roc_auc': 0.9000442975767332, 'pr_auc': 0.7865958283516334}\n"
     ]
    },
    {
     "data": {
      "text/html": [
       "<div>\n",
       "<style scoped>\n",
       "    .dataframe tbody tr th:only-of-type {\n",
       "        vertical-align: middle;\n",
       "    }\n",
       "\n",
       "    .dataframe tbody tr th {\n",
       "        vertical-align: top;\n",
       "    }\n",
       "\n",
       "    .dataframe thead th {\n",
       "        text-align: right;\n",
       "    }\n",
       "</style>\n",
       "<table border=\"1\" class=\"dataframe\">\n",
       "  <thead>\n",
       "    <tr style=\"text-align: right;\">\n",
       "      <th></th>\n",
       "      <th>0</th>\n",
       "      <th>1</th>\n",
       "      <th>micro avg</th>\n",
       "      <th>macro avg</th>\n",
       "      <th>weighted avg</th>\n",
       "    </tr>\n",
       "  </thead>\n",
       "  <tbody>\n",
       "    <tr>\n",
       "      <th>f1-score</th>\n",
       "      <td>0.877</td>\n",
       "      <td>0.702</td>\n",
       "      <td>0.825</td>\n",
       "      <td>0.789</td>\n",
       "      <td>0.832</td>\n",
       "    </tr>\n",
       "    <tr>\n",
       "      <th>precision</th>\n",
       "      <td>0.923</td>\n",
       "      <td>0.625</td>\n",
       "      <td>0.825</td>\n",
       "      <td>0.774</td>\n",
       "      <td>0.847</td>\n",
       "    </tr>\n",
       "    <tr>\n",
       "      <th>recall</th>\n",
       "      <td>0.834</td>\n",
       "      <td>0.800</td>\n",
       "      <td>0.825</td>\n",
       "      <td>0.817</td>\n",
       "      <td>0.825</td>\n",
       "    </tr>\n",
       "    <tr>\n",
       "      <th>support</th>\n",
       "      <td>4370.000</td>\n",
       "      <td>1511.000</td>\n",
       "      <td>5881.000</td>\n",
       "      <td>5881.000</td>\n",
       "      <td>5881.000</td>\n",
       "    </tr>\n",
       "  </tbody>\n",
       "</table>\n",
       "</div>"
      ],
      "text/plain": [
       "                  0         1  micro avg  macro avg  weighted avg\n",
       "f1-score      0.877     0.702      0.825      0.789         0.832\n",
       "precision     0.923     0.625      0.825      0.774         0.847\n",
       "recall        0.834     0.800      0.825      0.817         0.825\n",
       "support    4370.000  1511.000   5881.000   5881.000      5881.000"
      ]
     },
     "metadata": {},
     "output_type": "display_data"
    },
    {
     "data": {
      "application/vnd.jupyter.widget-view+json": {
       "model_id": "9b8ee11fa7334329b9eab91ab11d3f39",
       "version_major": 2,
       "version_minor": 0
      },
      "text/plain": [
       "HBox(children=(IntProgress(value=0, max=230), HTML(value='')))"
      ]
     },
     "metadata": {},
     "output_type": "display_data"
    },
    {
     "name": "stdout",
     "output_type": "stream",
     "text": [
      "\n",
      "{'accuracy': 0.8294109644946266, 'roc_auc': 0.9077444045254726, 'pr_auc': 0.8003417580681017}\n"
     ]
    },
    {
     "data": {
      "text/html": [
       "<div>\n",
       "<style scoped>\n",
       "    .dataframe tbody tr th:only-of-type {\n",
       "        vertical-align: middle;\n",
       "    }\n",
       "\n",
       "    .dataframe tbody tr th {\n",
       "        vertical-align: top;\n",
       "    }\n",
       "\n",
       "    .dataframe thead th {\n",
       "        text-align: right;\n",
       "    }\n",
       "</style>\n",
       "<table border=\"1\" class=\"dataframe\">\n",
       "  <thead>\n",
       "    <tr style=\"text-align: right;\">\n",
       "      <th></th>\n",
       "      <th>0</th>\n",
       "      <th>1</th>\n",
       "      <th>micro avg</th>\n",
       "      <th>macro avg</th>\n",
       "      <th>weighted avg</th>\n",
       "    </tr>\n",
       "  </thead>\n",
       "  <tbody>\n",
       "    <tr>\n",
       "      <th>f1-score</th>\n",
       "      <td>0.878</td>\n",
       "      <td>0.714</td>\n",
       "      <td>0.829</td>\n",
       "      <td>0.796</td>\n",
       "      <td>0.836</td>\n",
       "    </tr>\n",
       "    <tr>\n",
       "      <th>precision</th>\n",
       "      <td>0.934</td>\n",
       "      <td>0.626</td>\n",
       "      <td>0.829</td>\n",
       "      <td>0.780</td>\n",
       "      <td>0.855</td>\n",
       "    </tr>\n",
       "    <tr>\n",
       "      <th>recall</th>\n",
       "      <td>0.829</td>\n",
       "      <td>0.831</td>\n",
       "      <td>0.829</td>\n",
       "      <td>0.830</td>\n",
       "      <td>0.829</td>\n",
       "    </tr>\n",
       "    <tr>\n",
       "      <th>support</th>\n",
       "      <td>5465.000</td>\n",
       "      <td>1886.000</td>\n",
       "      <td>7351.000</td>\n",
       "      <td>7351.000</td>\n",
       "      <td>7351.000</td>\n",
       "    </tr>\n",
       "  </tbody>\n",
       "</table>\n",
       "</div>"
      ],
      "text/plain": [
       "                  0         1  micro avg  macro avg  weighted avg\n",
       "f1-score      0.878     0.714      0.829      0.796         0.836\n",
       "precision     0.934     0.626      0.829      0.780         0.855\n",
       "recall        0.829     0.831      0.829      0.830         0.829\n",
       "support    5465.000  1886.000   7351.000   7351.000      7351.000"
      ]
     },
     "metadata": {},
     "output_type": "display_data"
    },
    {
     "name": "stdout",
     "output_type": "stream",
     "text": [
      "============================================================================================================================================================================================================================================================================================================\n",
      "Pos Percentage [0.25239128]\n"
     ]
    },
    {
     "name": "stderr",
     "output_type": "stream",
     "text": [
      "INFO - 2019-03-27 18:03:05,447 - Maximum Sentence Length 721825.000000 , 90 percentile length 18596.000000 ... \n",
      "INFO - 2019-03-27 18:03:14,173 - Truncated all ...\n",
      "INFO - 2019-03-27 18:03:14,224 - Idxs removed []...\n"
     ]
    },
    {
     "name": "stdout",
     "output_type": "stream",
     "text": [
      "Pos Percentage [0.25692909]\n"
     ]
    },
    {
     "name": "stderr",
     "output_type": "stream",
     "text": [
      "INFO - 2019-03-27 18:03:15,214 - Maximum Sentence Length 420764.000000 , 90 percentile length 17662.000000 ... \n",
      "INFO - 2019-03-27 18:03:18,754 - Truncated all ...\n",
      "INFO - 2019-03-27 18:03:18,767 - Idxs removed []...\n"
     ]
    },
    {
     "name": "stdout",
     "output_type": "stream",
     "text": [
      "Pos Percentage [0.25656373]\n"
     ]
    },
    {
     "name": "stderr",
     "output_type": "stream",
     "text": [
      "INFO - 2019-03-27 18:03:19,858 - Maximum Sentence Length 707041.000000 , 90 percentile length 17669.000000 ... \n",
      "INFO - 2019-03-27 18:03:21,775 - Truncated all ...\n",
      "INFO - 2019-03-27 18:03:21,789 - Idxs removed []...\n",
      "INFO - 2019-03-27 18:03:21,850 - instantiating class <class 'PatientVec.models.Model.Model'> from params {'type': 'seq_classifier_with_structured_attention', 'embedder': {'type': 'token_embedder', 'vocab_size': 29286, 'embed_size': 200, 'embedding_file': './preprocess/Mortality/embedding_matrix.npy'}, 'decoder': {'num_layers': 2, 'hidden_dims': [128, 1], 'activations': ['tanh', 'linear']}, 'predictor': {'type': 'binary'}, 'structured': {'use_structured': True, 'structured_dim': 50}, 'encoder': {'type': 'sru', 'hidden_size': 128}, 'attention': {'similarity': {'type': 'additive', 'hidden_size': 128, 'tensor_2_dim': 50}}} and extras {}\n",
      "INFO - 2019-03-27 18:03:21,850 - type = seq_classifier_with_structured_attention\n",
      "INFO - 2019-03-27 18:03:21,851 - instantiating class <class 'PatientVec.models.modules.Embedder.Embedder'> from params {'type': 'token_embedder', 'vocab_size': 29286, 'embed_size': 200, 'embedding_file': './preprocess/Mortality/embedding_matrix.npy'} and extras {}\n",
      "INFO - 2019-03-27 18:03:21,851 - embedder.type = token_embedder\n",
      "INFO - 2019-03-27 18:03:21,852 - instantiating class <class 'PatientVec.models.modules.Embedder.TokenEmbedder'> from params {'vocab_size': 29286, 'embed_size': 200, 'embedding_file': './preprocess/Mortality/embedding_matrix.npy'} and extras {}\n",
      "INFO - 2019-03-27 18:03:21,852 - embedder.vocab_size = 29286\n",
      "INFO - 2019-03-27 18:03:21,853 - embedder.embed_size = 200\n",
      "INFO - 2019-03-27 18:03:21,853 - embedder.embedding_file = ./preprocess/Mortality/embedding_matrix.npy\n",
      "INFO - 2019-03-27 18:03:21,869 - instantiating class <class 'PatientVec.models.modules.Encoder.Encoder'> from params {'type': 'sru', 'hidden_size': 128} and extras {'input_size': 200}\n",
      "INFO - 2019-03-27 18:03:21,869 - encoder.type = sru\n",
      "INFO - 2019-03-27 18:03:21,869 - instantiating class <class 'PatientVec.models.modules.Encoder.SRUEncoder'> from params {'hidden_size': 128} and extras {'input_size': 200}\n",
      "INFO - 2019-03-27 18:03:21,870 - encoder.hidden_size = 128\n",
      "INFO - 2019-03-27 18:03:21,873 - instantiating class <class 'PatientVec.models.modules.Attention.Attention'> from params {'similarity': {'type': 'additive', 'hidden_size': 128, 'tensor_2_dim': 50, 'tensor_1_dim': 256}} and extras {}\n",
      "INFO - 2019-03-27 18:03:21,873 - instantiating class <class 'PatientVec.models.modules.BiSimilarity.BiSimilarity'> from params {'type': 'additive', 'hidden_size': 128, 'tensor_2_dim': 50, 'tensor_1_dim': 256} and extras {}\n",
      "INFO - 2019-03-27 18:03:21,873 - attention.similarity.type = additive\n",
      "INFO - 2019-03-27 18:03:21,874 - instantiating class <class 'PatientVec.models.modules.BiSimilarity.BiAdditiveSimilarity'> from params {'hidden_size': 128, 'tensor_2_dim': 50, 'tensor_1_dim': 256} and extras {}\n",
      "INFO - 2019-03-27 18:03:21,874 - attention.similarity.tensor_1_dim = 256\n",
      "INFO - 2019-03-27 18:03:21,874 - attention.similarity.tensor_2_dim = 50\n",
      "INFO - 2019-03-27 18:03:21,874 - attention.similarity.hidden_size = 128\n",
      "INFO - 2019-03-27 18:03:21,876 - attention.normaliser = softmax\n",
      "INFO - 2019-03-27 18:03:21,876 - decoder.input_dim = 306\n",
      "INFO - 2019-03-27 18:03:21,876 - decoder.num_layers = 2\n",
      "INFO - 2019-03-27 18:03:21,877 - decoder.hidden_dims = [128, 1]\n",
      "INFO - 2019-03-27 18:03:21,877 - decoder.activations = ['tanh', 'linear']\n",
      "INFO - 2019-03-27 18:03:21,877 - decoder.dropout = 0.0\n",
      "INFO - 2019-03-27 18:03:21,879 - instantiating class <class 'PatientVec.models.modules.Predictor.Predictor'> from params {'type': 'binary'} and extras {}\n",
      "INFO - 2019-03-27 18:03:21,879 - predictor.type = binary\n",
      "INFO - 2019-03-27 18:03:21,880 - instantiating class <class 'PatientVec.models.modules.Predictor.Binary_Predictor'> from params {} and extras {}\n",
      "INFO - 2019-03-27 18:03:21,880 - predictor.replicate = False\n",
      "INFO - 2019-03-27 18:03:21,881 - predictor.alpha = 0.5\n",
      "INFO - 2019-03-27 18:03:21,889 - instantiating class <class 'PatientVec.models.Model.Model'> from params {'type': 'seq_classifier_with_structured_attention', 'embedder': {'type': 'token_embedder', 'vocab_size': 29286, 'embed_size': 200, 'embedding_file': './preprocess/Mortality/embedding_matrix.npy'}, 'decoder': {'num_layers': 2, 'hidden_dims': [128, 1], 'activations': ['tanh', 'linear']}, 'predictor': {'type': 'binary'}, 'structured': {'use_structured': True, 'structured_dim': 50}, 'encoder': {'type': 'sru', 'hidden_size': 128}, 'attention': {'similarity': {'type': 'additive', 'hidden_size': 128, 'tensor_2_dim': 50}}} and extras {}\n",
      "INFO - 2019-03-27 18:03:21,890 - type = seq_classifier_with_structured_attention\n",
      "INFO - 2019-03-27 18:03:21,890 - instantiating class <class 'PatientVec.models.modules.Embedder.Embedder'> from params {'type': 'token_embedder', 'vocab_size': 29286, 'embed_size': 200, 'embedding_file': './preprocess/Mortality/embedding_matrix.npy'} and extras {}\n",
      "INFO - 2019-03-27 18:03:21,890 - embedder.type = token_embedder\n",
      "INFO - 2019-03-27 18:03:21,891 - instantiating class <class 'PatientVec.models.modules.Embedder.TokenEmbedder'> from params {'vocab_size': 29286, 'embed_size': 200, 'embedding_file': './preprocess/Mortality/embedding_matrix.npy'} and extras {}\n",
      "INFO - 2019-03-27 18:03:21,891 - embedder.vocab_size = 29286\n",
      "INFO - 2019-03-27 18:03:21,891 - embedder.embed_size = 200\n",
      "INFO - 2019-03-27 18:03:21,891 - embedder.embedding_file = ./preprocess/Mortality/embedding_matrix.npy\n",
      "INFO - 2019-03-27 18:03:21,905 - instantiating class <class 'PatientVec.models.modules.Encoder.Encoder'> from params {'type': 'sru', 'hidden_size': 128} and extras {'input_size': 200}\n",
      "INFO - 2019-03-27 18:03:21,906 - encoder.type = sru\n",
      "INFO - 2019-03-27 18:03:21,906 - instantiating class <class 'PatientVec.models.modules.Encoder.SRUEncoder'> from params {'hidden_size': 128} and extras {'input_size': 200}\n",
      "INFO - 2019-03-27 18:03:21,906 - encoder.hidden_size = 128\n",
      "INFO - 2019-03-27 18:03:21,909 - instantiating class <class 'PatientVec.models.modules.Attention.Attention'> from params {'similarity': {'type': 'additive', 'hidden_size': 128, 'tensor_2_dim': 50, 'tensor_1_dim': 256}} and extras {}\n",
      "INFO - 2019-03-27 18:03:21,909 - instantiating class <class 'PatientVec.models.modules.BiSimilarity.BiSimilarity'> from params {'type': 'additive', 'hidden_size': 128, 'tensor_2_dim': 50, 'tensor_1_dim': 256} and extras {}\n",
      "INFO - 2019-03-27 18:03:21,909 - attention.similarity.type = additive\n",
      "INFO - 2019-03-27 18:03:21,910 - instantiating class <class 'PatientVec.models.modules.BiSimilarity.BiAdditiveSimilarity'> from params {'hidden_size': 128, 'tensor_2_dim': 50, 'tensor_1_dim': 256} and extras {}\n",
      "INFO - 2019-03-27 18:03:21,910 - attention.similarity.tensor_1_dim = 256\n",
      "INFO - 2019-03-27 18:03:21,910 - attention.similarity.tensor_2_dim = 50\n",
      "INFO - 2019-03-27 18:03:21,910 - attention.similarity.hidden_size = 128\n",
      "INFO - 2019-03-27 18:03:21,912 - attention.normaliser = softmax\n",
      "INFO - 2019-03-27 18:03:21,912 - decoder.input_dim = 306\n",
      "INFO - 2019-03-27 18:03:21,912 - decoder.num_layers = 2\n",
      "INFO - 2019-03-27 18:03:21,913 - decoder.hidden_dims = [128, 1]\n",
      "INFO - 2019-03-27 18:03:21,913 - decoder.activations = ['tanh', 'linear']\n",
      "INFO - 2019-03-27 18:03:21,913 - decoder.dropout = 0.0\n",
      "INFO - 2019-03-27 18:03:21,914 - instantiating class <class 'PatientVec.models.modules.Predictor.Predictor'> from params {'type': 'binary'} and extras {}\n",
      "INFO - 2019-03-27 18:03:21,915 - predictor.type = binary\n",
      "INFO - 2019-03-27 18:03:21,915 - instantiating class <class 'PatientVec.models.modules.Predictor.Binary_Predictor'> from params {} and extras {}\n",
      "INFO - 2019-03-27 18:03:21,915 - predictor.replicate = False\n",
      "INFO - 2019-03-27 18:03:21,915 - predictor.alpha = 0.5\n"
     ]
    },
    {
     "name": "stdout",
     "output_type": "stream",
     "text": [
      "{'model': {'type': 'seq_classifier_with_structured_attention', 'embedder': {'type': 'token_embedder', 'vocab_size': 29286, 'embed_size': 200, 'embedding_file': './preprocess/Mortality/embedding_matrix.npy'}, 'decoder': {'num_layers': 2, 'hidden_dims': [128, 1], 'activations': ['tanh', 'linear']}, 'predictor': {'type': 'binary'}, 'structured': {'use_structured': True, 'structured_dim': 50}, 'encoder': {'type': 'sru', 'hidden_size': 128}, 'attention': {'similarity': {'type': 'additive', 'hidden_size': 128, 'tensor_2_dim': 50}}}, 'training_config': {'type': 'Adam', 'groups': [('.*', {'lr': 0.001, 'weight_decay': 1e-05})], 'common': {'bsize': 32, 'class_weight': True}}, 'exp_config': {'exp_name': 'Mortality_1yr/Structured Attention/SRU(hs=128)+Attention(additive)(all)(hs=128)+Structured', 'basepath': 'outputs/'}}\n",
      "Setting Embedding\n",
      "Setting Embedding\n"
     ]
    },
    {
     "data": {
      "application/vnd.jupyter.widget-view+json": {
       "model_id": "68e80f8d84fb480296ee9d0e1f269d7e",
       "version_major": 2,
       "version_minor": 0
      },
      "text/plain": [
       "HBox(children=(IntProgress(value=0, max=184), HTML(value='')))"
      ]
     },
     "metadata": {},
     "output_type": "display_data"
    },
    {
     "name": "stdout",
     "output_type": "stream",
     "text": [
      "\n",
      "{'accuracy': 0.8059853766366264, 'roc_auc': 0.8995464231031929, 'pr_auc': 0.7813442147853643}\n"
     ]
    },
    {
     "data": {
      "text/html": [
       "<div>\n",
       "<style scoped>\n",
       "    .dataframe tbody tr th:only-of-type {\n",
       "        vertical-align: middle;\n",
       "    }\n",
       "\n",
       "    .dataframe tbody tr th {\n",
       "        vertical-align: top;\n",
       "    }\n",
       "\n",
       "    .dataframe thead th {\n",
       "        text-align: right;\n",
       "    }\n",
       "</style>\n",
       "<table border=\"1\" class=\"dataframe\">\n",
       "  <thead>\n",
       "    <tr style=\"text-align: right;\">\n",
       "      <th></th>\n",
       "      <th>0</th>\n",
       "      <th>1</th>\n",
       "      <th>micro avg</th>\n",
       "      <th>macro avg</th>\n",
       "      <th>weighted avg</th>\n",
       "    </tr>\n",
       "  </thead>\n",
       "  <tbody>\n",
       "    <tr>\n",
       "      <th>f1-score</th>\n",
       "      <td>0.859</td>\n",
       "      <td>0.690</td>\n",
       "      <td>0.806</td>\n",
       "      <td>0.774</td>\n",
       "      <td>0.815</td>\n",
       "    </tr>\n",
       "    <tr>\n",
       "      <th>precision</th>\n",
       "      <td>0.934</td>\n",
       "      <td>0.585</td>\n",
       "      <td>0.806</td>\n",
       "      <td>0.760</td>\n",
       "      <td>0.845</td>\n",
       "    </tr>\n",
       "    <tr>\n",
       "      <th>recall</th>\n",
       "      <td>0.795</td>\n",
       "      <td>0.839</td>\n",
       "      <td>0.806</td>\n",
       "      <td>0.817</td>\n",
       "      <td>0.806</td>\n",
       "    </tr>\n",
       "    <tr>\n",
       "      <th>support</th>\n",
       "      <td>4370.000</td>\n",
       "      <td>1511.000</td>\n",
       "      <td>5881.000</td>\n",
       "      <td>5881.000</td>\n",
       "      <td>5881.000</td>\n",
       "    </tr>\n",
       "  </tbody>\n",
       "</table>\n",
       "</div>"
      ],
      "text/plain": [
       "                  0         1  micro avg  macro avg  weighted avg\n",
       "f1-score      0.859     0.690      0.806      0.774         0.815\n",
       "precision     0.934     0.585      0.806      0.760         0.845\n",
       "recall        0.795     0.839      0.806      0.817         0.806\n",
       "support    4370.000  1511.000   5881.000   5881.000      5881.000"
      ]
     },
     "metadata": {},
     "output_type": "display_data"
    },
    {
     "data": {
      "application/vnd.jupyter.widget-view+json": {
       "model_id": "c34de1ba9a3c41af8552e9dcf1597ec8",
       "version_major": 2,
       "version_minor": 0
      },
      "text/plain": [
       "HBox(children=(IntProgress(value=0, max=230), HTML(value='')))"
      ]
     },
     "metadata": {},
     "output_type": "display_data"
    },
    {
     "name": "stdout",
     "output_type": "stream",
     "text": [
      "\n",
      "{'accuracy': 0.8046524282410557, 'roc_auc': 0.9052293637618742, 'pr_auc': 0.7992959765040524}\n"
     ]
    },
    {
     "data": {
      "text/html": [
       "<div>\n",
       "<style scoped>\n",
       "    .dataframe tbody tr th:only-of-type {\n",
       "        vertical-align: middle;\n",
       "    }\n",
       "\n",
       "    .dataframe tbody tr th {\n",
       "        vertical-align: top;\n",
       "    }\n",
       "\n",
       "    .dataframe thead th {\n",
       "        text-align: right;\n",
       "    }\n",
       "</style>\n",
       "<table border=\"1\" class=\"dataframe\">\n",
       "  <thead>\n",
       "    <tr style=\"text-align: right;\">\n",
       "      <th></th>\n",
       "      <th>0</th>\n",
       "      <th>1</th>\n",
       "      <th>micro avg</th>\n",
       "      <th>macro avg</th>\n",
       "      <th>weighted avg</th>\n",
       "    </tr>\n",
       "  </thead>\n",
       "  <tbody>\n",
       "    <tr>\n",
       "      <th>f1-score</th>\n",
       "      <td>0.857</td>\n",
       "      <td>0.693</td>\n",
       "      <td>0.805</td>\n",
       "      <td>0.775</td>\n",
       "      <td>0.815</td>\n",
       "    </tr>\n",
       "    <tr>\n",
       "      <th>precision</th>\n",
       "      <td>0.941</td>\n",
       "      <td>0.581</td>\n",
       "      <td>0.805</td>\n",
       "      <td>0.761</td>\n",
       "      <td>0.849</td>\n",
       "    </tr>\n",
       "    <tr>\n",
       "      <th>recall</th>\n",
       "      <td>0.786</td>\n",
       "      <td>0.857</td>\n",
       "      <td>0.805</td>\n",
       "      <td>0.822</td>\n",
       "      <td>0.805</td>\n",
       "    </tr>\n",
       "    <tr>\n",
       "      <th>support</th>\n",
       "      <td>5465.000</td>\n",
       "      <td>1886.000</td>\n",
       "      <td>7351.000</td>\n",
       "      <td>7351.000</td>\n",
       "      <td>7351.000</td>\n",
       "    </tr>\n",
       "  </tbody>\n",
       "</table>\n",
       "</div>"
      ],
      "text/plain": [
       "                  0         1  micro avg  macro avg  weighted avg\n",
       "f1-score      0.857     0.693      0.805      0.775         0.815\n",
       "precision     0.941     0.581      0.805      0.761         0.849\n",
       "recall        0.786     0.857      0.805      0.822         0.805\n",
       "support    5465.000  1886.000   7351.000   7351.000      7351.000"
      ]
     },
     "metadata": {},
     "output_type": "display_data"
    },
    {
     "name": "stdout",
     "output_type": "stream",
     "text": [
      "============================================================================================================================================================================================================================================================================================================\n"
     ]
    },
    {
     "name": "stderr",
     "output_type": "stream",
     "text": [
      "INFO - 2019-03-27 18:05:13,734 - Reading Structured data ...\n",
      "INFO - 2019-03-27 18:05:13,790 - Reading Notes ...\n",
      "INFO - 2019-03-27 18:05:22,477 - Stratifying ...\n"
     ]
    },
    {
     "name": "stdout",
     "output_type": "stream",
     "text": [
      "Pos Percentage [0.25239128]\n"
     ]
    },
    {
     "name": "stderr",
     "output_type": "stream",
     "text": [
      "INFO - 2019-03-27 18:05:25,858 - Maximum Sentence Length 721825.000000 , 90 percentile length 18596.000000 ... \n",
      "INFO - 2019-03-27 18:05:35,087 - Truncated all ...\n",
      "INFO - 2019-03-27 18:05:35,120 - Idxs removed []...\n"
     ]
    },
    {
     "name": "stdout",
     "output_type": "stream",
     "text": [
      "Pos Percentage [0.25692909]\n"
     ]
    },
    {
     "name": "stderr",
     "output_type": "stream",
     "text": [
      "INFO - 2019-03-27 18:05:36,028 - Maximum Sentence Length 420764.000000 , 90 percentile length 17662.000000 ... \n",
      "INFO - 2019-03-27 18:05:37,433 - Truncated all ...\n",
      "INFO - 2019-03-27 18:05:37,442 - Idxs removed []...\n"
     ]
    },
    {
     "name": "stdout",
     "output_type": "stream",
     "text": [
      "Pos Percentage [0.25656373]\n"
     ]
    },
    {
     "name": "stderr",
     "output_type": "stream",
     "text": [
      "INFO - 2019-03-27 18:05:38,301 - Maximum Sentence Length 707041.000000 , 90 percentile length 17669.000000 ... \n",
      "INFO - 2019-03-27 18:05:43,288 - Truncated all ...\n",
      "INFO - 2019-03-27 18:05:43,298 - Idxs removed []...\n",
      "INFO - 2019-03-27 18:05:43,356 - instantiating class <class 'PatientVec.models.Model.Model'> from params {'type': 'seq_classifier', 'embedder': {'type': 'token_embedder', 'vocab_size': 29286, 'embed_size': 200, 'embedding_file': './preprocess/Mortality/embedding_matrix.npy'}, 'decoder': {'num_layers': 2, 'hidden_dims': [128, 1], 'activations': ['tanh', 'linear']}, 'predictor': {'type': 'binary'}, 'structured': {'use_structured': False}, 'encoder': {'type': 'average', 'projection': True, 'hidden_size': 256, 'activation': 'relu'}} and extras {}\n",
      "INFO - 2019-03-27 18:05:43,357 - type = seq_classifier\n",
      "INFO - 2019-03-27 18:05:43,357 - instantiating class <class 'PatientVec.models.modules.Embedder.Embedder'> from params {'type': 'token_embedder', 'vocab_size': 29286, 'embed_size': 200, 'embedding_file': './preprocess/Mortality/embedding_matrix.npy'} and extras {}\n",
      "INFO - 2019-03-27 18:05:43,358 - embedder.type = token_embedder\n",
      "INFO - 2019-03-27 18:05:43,358 - instantiating class <class 'PatientVec.models.modules.Embedder.TokenEmbedder'> from params {'vocab_size': 29286, 'embed_size': 200, 'embedding_file': './preprocess/Mortality/embedding_matrix.npy'} and extras {}\n",
      "INFO - 2019-03-27 18:05:43,359 - embedder.vocab_size = 29286\n",
      "INFO - 2019-03-27 18:05:43,359 - embedder.embed_size = 200\n",
      "INFO - 2019-03-27 18:05:43,360 - embedder.embedding_file = ./preprocess/Mortality/embedding_matrix.npy\n",
      "INFO - 2019-03-27 18:05:43,374 - instantiating class <class 'PatientVec.models.modules.Encoder.Encoder'> from params {'type': 'average', 'projection': True, 'hidden_size': 256, 'activation': 'relu'} and extras {'input_size': 200}\n",
      "INFO - 2019-03-27 18:05:43,375 - encoder.type = average\n",
      "INFO - 2019-03-27 18:05:43,375 - instantiating class <class 'PatientVec.models.modules.Encoder.AverageEncoder'> from params {'projection': True, 'hidden_size': 256, 'activation': 'relu'} and extras {'input_size': 200}\n",
      "INFO - 2019-03-27 18:05:43,375 - encoder.projection = True\n",
      "INFO - 2019-03-27 18:05:43,376 - encoder.hidden_size = 256\n",
      "INFO - 2019-03-27 18:05:43,376 - encoder.activation = relu\n",
      "INFO - 2019-03-27 18:05:43,377 - decoder.input_dim = 256\n",
      "INFO - 2019-03-27 18:05:43,378 - decoder.num_layers = 2\n",
      "INFO - 2019-03-27 18:05:43,378 - decoder.hidden_dims = [128, 1]\n",
      "INFO - 2019-03-27 18:05:43,378 - decoder.activations = ['tanh', 'linear']\n",
      "INFO - 2019-03-27 18:05:43,378 - decoder.dropout = 0.0\n",
      "INFO - 2019-03-27 18:05:43,380 - instantiating class <class 'PatientVec.models.modules.Predictor.Predictor'> from params {'type': 'binary'} and extras {}\n",
      "INFO - 2019-03-27 18:05:43,380 - predictor.type = binary\n",
      "INFO - 2019-03-27 18:05:43,380 - instantiating class <class 'PatientVec.models.modules.Predictor.Binary_Predictor'> from params {} and extras {}\n",
      "INFO - 2019-03-27 18:05:43,380 - predictor.replicate = False\n",
      "INFO - 2019-03-27 18:05:43,381 - predictor.alpha = 0.5\n",
      "INFO - 2019-03-27 18:05:43,402 - instantiating class <class 'PatientVec.models.Model.Model'> from params {'type': 'seq_classifier', 'embedder': {'type': 'token_embedder', 'vocab_size': 29286, 'embed_size': 200, 'embedding_file': './preprocess/Mortality/embedding_matrix.npy'}, 'decoder': {'num_layers': 2, 'hidden_dims': [128, 1], 'activations': ['tanh', 'linear']}, 'predictor': {'type': 'binary'}, 'structured': {'use_structured': False}, 'encoder': {'type': 'lstm', 'hidden_size': 128}} and extras {}\n",
      "INFO - 2019-03-27 18:05:43,402 - type = seq_classifier\n",
      "INFO - 2019-03-27 18:05:43,403 - instantiating class <class 'PatientVec.models.modules.Embedder.Embedder'> from params {'type': 'token_embedder', 'vocab_size': 29286, 'embed_size': 200, 'embedding_file': './preprocess/Mortality/embedding_matrix.npy'} and extras {}\n",
      "INFO - 2019-03-27 18:05:43,404 - embedder.type = token_embedder\n",
      "INFO - 2019-03-27 18:05:43,404 - instantiating class <class 'PatientVec.models.modules.Embedder.TokenEmbedder'> from params {'vocab_size': 29286, 'embed_size': 200, 'embedding_file': './preprocess/Mortality/embedding_matrix.npy'} and extras {}\n",
      "INFO - 2019-03-27 18:05:43,404 - embedder.vocab_size = 29286\n",
      "INFO - 2019-03-27 18:05:43,405 - embedder.embed_size = 200\n",
      "INFO - 2019-03-27 18:05:43,405 - embedder.embedding_file = ./preprocess/Mortality/embedding_matrix.npy\n",
      "INFO - 2019-03-27 18:05:43,419 - instantiating class <class 'PatientVec.models.modules.Encoder.Encoder'> from params {'type': 'lstm', 'hidden_size': 128} and extras {'input_size': 200}\n",
      "INFO - 2019-03-27 18:05:43,420 - encoder.type = lstm\n",
      "INFO - 2019-03-27 18:05:43,420 - instantiating class <class 'PatientVec.models.modules.Encoder.wrap_pytorch_rnn.<locals>.BiRNNEncoder'> from params {'hidden_size': 128} and extras {'input_size': 200}\n",
      "INFO - 2019-03-27 18:05:43,420 - encoder.hidden_size = 128\n",
      "INFO - 2019-03-27 18:05:43,423 - decoder.input_dim = 256\n",
      "INFO - 2019-03-27 18:05:43,423 - decoder.num_layers = 2\n",
      "INFO - 2019-03-27 18:05:43,423 - decoder.hidden_dims = [128, 1]\n",
      "INFO - 2019-03-27 18:05:43,423 - decoder.activations = ['tanh', 'linear']\n",
      "INFO - 2019-03-27 18:05:43,424 - decoder.dropout = 0.0\n",
      "INFO - 2019-03-27 18:05:43,425 - instantiating class <class 'PatientVec.models.modules.Predictor.Predictor'> from params {'type': 'binary'} and extras {}\n",
      "INFO - 2019-03-27 18:05:43,425 - predictor.type = binary\n",
      "INFO - 2019-03-27 18:05:43,425 - instantiating class <class 'PatientVec.models.modules.Predictor.Binary_Predictor'> from params {} and extras {}\n",
      "INFO - 2019-03-27 18:05:43,425 - predictor.replicate = False\n",
      "INFO - 2019-03-27 18:05:43,426 - predictor.alpha = 0.5\n",
      "INFO - 2019-03-27 18:05:43,440 - instantiating class <class 'PatientVec.models.Model.Model'> from params {'type': 'seq_classifier', 'embedder': {'type': 'token_embedder', 'vocab_size': 29286, 'embed_size': 200, 'embedding_file': './preprocess/Mortality/embedding_matrix.npy'}, 'decoder': {'num_layers': 2, 'hidden_dims': [128, 1], 'activations': ['tanh', 'linear']}, 'predictor': {'type': 'binary'}, 'structured': {'use_structured': False}, 'encoder': {'type': 'cnn', 'hidden_size': 64, 'kernel_sizes': [3, 5, 7, 9], 'activation': 'relu'}} and extras {}\n",
      "INFO - 2019-03-27 18:05:43,440 - type = seq_classifier\n",
      "INFO - 2019-03-27 18:05:43,441 - instantiating class <class 'PatientVec.models.modules.Embedder.Embedder'> from params {'type': 'token_embedder', 'vocab_size': 29286, 'embed_size': 200, 'embedding_file': './preprocess/Mortality/embedding_matrix.npy'} and extras {}\n",
      "INFO - 2019-03-27 18:05:43,441 - embedder.type = token_embedder\n",
      "INFO - 2019-03-27 18:05:43,441 - instantiating class <class 'PatientVec.models.modules.Embedder.TokenEmbedder'> from params {'vocab_size': 29286, 'embed_size': 200, 'embedding_file': './preprocess/Mortality/embedding_matrix.npy'} and extras {}\n",
      "INFO - 2019-03-27 18:05:43,441 - embedder.vocab_size = 29286\n",
      "INFO - 2019-03-27 18:05:43,442 - embedder.embed_size = 200\n",
      "INFO - 2019-03-27 18:05:43,442 - embedder.embedding_file = ./preprocess/Mortality/embedding_matrix.npy\n",
      "INFO - 2019-03-27 18:05:43,456 - instantiating class <class 'PatientVec.models.modules.Encoder.Encoder'> from params {'type': 'cnn', 'hidden_size': 64, 'kernel_sizes': [3, 5, 7, 9], 'activation': 'relu'} and extras {'input_size': 200}\n",
      "INFO - 2019-03-27 18:05:43,456 - encoder.type = cnn\n",
      "INFO - 2019-03-27 18:05:43,456 - instantiating class <class 'PatientVec.models.modules.Encoder.CNNEncoder'> from params {'hidden_size': 64, 'kernel_sizes': [3, 5, 7, 9], 'activation': 'relu'} and extras {'input_size': 200}\n",
      "INFO - 2019-03-27 18:05:43,457 - encoder.hidden_size = 64\n",
      "INFO - 2019-03-27 18:05:43,457 - encoder.kernel_sizes = [3, 5, 7, 9]\n",
      "INFO - 2019-03-27 18:05:43,457 - encoder.activation = relu\n",
      "INFO - 2019-03-27 18:05:43,460 - decoder.input_dim = 256\n",
      "INFO - 2019-03-27 18:05:43,460 - decoder.num_layers = 2\n",
      "INFO - 2019-03-27 18:05:43,460 - decoder.hidden_dims = [128, 1]\n",
      "INFO - 2019-03-27 18:05:43,461 - decoder.activations = ['tanh', 'linear']\n",
      "INFO - 2019-03-27 18:05:43,461 - decoder.dropout = 0.0\n",
      "INFO - 2019-03-27 18:05:43,462 - instantiating class <class 'PatientVec.models.modules.Predictor.Predictor'> from params {'type': 'binary'} and extras {}\n",
      "INFO - 2019-03-27 18:05:43,462 - predictor.type = binary\n",
      "INFO - 2019-03-27 18:05:43,463 - instantiating class <class 'PatientVec.models.modules.Predictor.Binary_Predictor'> from params {} and extras {}\n",
      "INFO - 2019-03-27 18:05:43,463 - predictor.replicate = False\n",
      "INFO - 2019-03-27 18:05:43,463 - predictor.alpha = 0.5\n"
     ]
    },
    {
     "name": "stdout",
     "output_type": "stream",
     "text": [
      "{'model': {'type': 'seq_classifier', 'embedder': {'type': 'token_embedder', 'vocab_size': 29286, 'embed_size': 200, 'embedding_file': './preprocess/Mortality/embedding_matrix.npy'}, 'decoder': {'num_layers': 2, 'hidden_dims': [128, 1], 'activations': ['tanh', 'linear']}, 'predictor': {'type': 'binary'}, 'structured': {'use_structured': False}, 'encoder': {'type': 'average', 'projection': True, 'hidden_size': 256, 'activation': 'relu'}}, 'training_config': {'type': 'Adam', 'groups': [('.*', {'lr': 0.001, 'weight_decay': 1e-05})], 'common': {'bsize': 16, 'class_weight': True}}, 'exp_config': {'exp_name': 'Mortality_1yr/Basic/Average(hs=256)', 'basepath': 'outputs/'}}\n",
      "Setting Embedding\n",
      "{'model': {'type': 'seq_classifier', 'embedder': {'type': 'token_embedder', 'vocab_size': 29286, 'embed_size': 200, 'embedding_file': './preprocess/Mortality/embedding_matrix.npy'}, 'decoder': {'num_layers': 2, 'hidden_dims': [128, 1], 'activations': ['tanh', 'linear']}, 'predictor': {'type': 'binary'}, 'structured': {'use_structured': False}, 'encoder': {'type': 'lstm', 'hidden_size': 128}}, 'training_config': {'type': 'Adam', 'groups': [('.*', {'lr': 0.001, 'weight_decay': 1e-05})], 'common': {'bsize': 16, 'class_weight': True}}, 'exp_config': {'exp_name': 'Mortality_1yr/Basic/LSTM(hs=128)', 'basepath': 'outputs/'}}\n",
      "Setting Embedding\n",
      "{'model': {'type': 'seq_classifier', 'embedder': {'type': 'token_embedder', 'vocab_size': 29286, 'embed_size': 200, 'embedding_file': './preprocess/Mortality/embedding_matrix.npy'}, 'decoder': {'num_layers': 2, 'hidden_dims': [128, 1], 'activations': ['tanh', 'linear']}, 'predictor': {'type': 'binary'}, 'structured': {'use_structured': False}, 'encoder': {'type': 'cnn', 'hidden_size': 64, 'kernel_sizes': [3, 5, 7, 9], 'activation': 'relu'}}, 'training_config': {'type': 'Adam', 'groups': [('.*', {'lr': 0.001, 'weight_decay': 1e-05})], 'common': {'bsize': 16, 'class_weight': True}}, 'exp_config': {'exp_name': 'Mortality_1yr/Basic/CNN(hs=64)(kernels=3,5,7,9)', 'basepath': 'outputs/'}}\n",
      "Setting Embedding\n",
      "Pos Percentage [0.25239128]\n"
     ]
    },
    {
     "name": "stderr",
     "output_type": "stream",
     "text": [
      "INFO - 2019-03-27 18:05:46,858 - Maximum Sentence Length 721825.000000 , 90 percentile length 18596.000000 ... \n",
      "INFO - 2019-03-27 18:05:52,752 - Truncated all ...\n",
      "INFO - 2019-03-27 18:05:52,783 - Idxs removed []...\n"
     ]
    },
    {
     "name": "stdout",
     "output_type": "stream",
     "text": [
      "Pos Percentage [0.25692909]\n"
     ]
    },
    {
     "name": "stderr",
     "output_type": "stream",
     "text": [
      "INFO - 2019-03-27 18:05:53,586 - Maximum Sentence Length 420764.000000 , 90 percentile length 17662.000000 ... \n",
      "INFO - 2019-03-27 18:05:55,117 - Truncated all ...\n",
      "INFO - 2019-03-27 18:05:55,126 - Idxs removed []...\n"
     ]
    },
    {
     "name": "stdout",
     "output_type": "stream",
     "text": [
      "Pos Percentage [0.25656373]\n"
     ]
    },
    {
     "name": "stderr",
     "output_type": "stream",
     "text": [
      "INFO - 2019-03-27 18:05:56,031 - Maximum Sentence Length 707041.000000 , 90 percentile length 17669.000000 ... \n",
      "INFO - 2019-03-27 18:06:00,957 - Truncated all ...\n",
      "INFO - 2019-03-27 18:06:00,967 - Idxs removed []...\n",
      "INFO - 2019-03-27 18:06:01,024 - instantiating class <class 'PatientVec.models.Model.Model'> from params {'type': 'seq_classifier_with_attention', 'embedder': {'type': 'token_embedder', 'vocab_size': 29286, 'embed_size': 200, 'embedding_file': './preprocess/Mortality/embedding_matrix.npy'}, 'decoder': {'num_layers': 2, 'hidden_dims': [128, 1], 'activations': ['tanh', 'linear']}, 'predictor': {'type': 'binary'}, 'structured': {'use_structured': False}, 'encoder': {'type': 'average', 'projection': True, 'hidden_size': 256, 'activation': 'relu'}, 'attention': {'similarity': {'type': 'additive', 'hidden_size': 128}}} and extras {}\n",
      "INFO - 2019-03-27 18:06:01,024 - type = seq_classifier_with_attention\n",
      "INFO - 2019-03-27 18:06:01,025 - instantiating class <class 'PatientVec.models.modules.Embedder.Embedder'> from params {'type': 'token_embedder', 'vocab_size': 29286, 'embed_size': 200, 'embedding_file': './preprocess/Mortality/embedding_matrix.npy'} and extras {}\n",
      "INFO - 2019-03-27 18:06:01,025 - embedder.type = token_embedder\n",
      "INFO - 2019-03-27 18:06:01,026 - instantiating class <class 'PatientVec.models.modules.Embedder.TokenEmbedder'> from params {'vocab_size': 29286, 'embed_size': 200, 'embedding_file': './preprocess/Mortality/embedding_matrix.npy'} and extras {}\n",
      "INFO - 2019-03-27 18:06:01,026 - embedder.vocab_size = 29286\n",
      "INFO - 2019-03-27 18:06:01,026 - embedder.embed_size = 200\n",
      "INFO - 2019-03-27 18:06:01,027 - embedder.embedding_file = ./preprocess/Mortality/embedding_matrix.npy\n",
      "INFO - 2019-03-27 18:06:01,040 - instantiating class <class 'PatientVec.models.modules.Encoder.Encoder'> from params {'type': 'average', 'projection': True, 'hidden_size': 256, 'activation': 'relu'} and extras {'input_size': 200}\n",
      "INFO - 2019-03-27 18:06:01,040 - encoder.type = average\n",
      "INFO - 2019-03-27 18:06:01,041 - instantiating class <class 'PatientVec.models.modules.Encoder.AverageEncoder'> from params {'projection': True, 'hidden_size': 256, 'activation': 'relu'} and extras {'input_size': 200}\n",
      "INFO - 2019-03-27 18:06:01,041 - encoder.projection = True\n",
      "INFO - 2019-03-27 18:06:01,041 - encoder.hidden_size = 256\n",
      "INFO - 2019-03-27 18:06:01,042 - encoder.activation = relu\n",
      "INFO - 2019-03-27 18:06:01,043 - instantiating class <class 'PatientVec.models.modules.SelfAttention.SelfAttention'> from params {'similarity': {'type': 'additive', 'hidden_size': 128, 'tensor_1_dim': 256}} and extras {}\n",
      "INFO - 2019-03-27 18:06:01,043 - instantiating class <class 'PatientVec.models.modules.UniSimilarity.UniSimilarity'> from params {'type': 'additive', 'hidden_size': 128, 'tensor_1_dim': 256} and extras {}\n",
      "INFO - 2019-03-27 18:06:01,044 - attention.similarity.type = additive\n",
      "INFO - 2019-03-27 18:06:01,044 - instantiating class <class 'PatientVec.models.modules.UniSimilarity.UniAdditiveSimilarity'> from params {'hidden_size': 128, 'tensor_1_dim': 256} and extras {}\n",
      "INFO - 2019-03-27 18:06:01,044 - attention.similarity.tensor_1_dim = 256\n",
      "INFO - 2019-03-27 18:06:01,045 - attention.similarity.hidden_size = 128\n",
      "INFO - 2019-03-27 18:06:01,045 - attention.similarity.output_size = 1\n",
      "INFO - 2019-03-27 18:06:01,046 - attention.normaliser = softmax\n",
      "INFO - 2019-03-27 18:06:01,046 - decoder.input_dim = 256\n",
      "INFO - 2019-03-27 18:06:01,047 - decoder.num_layers = 2\n",
      "INFO - 2019-03-27 18:06:01,047 - decoder.hidden_dims = [128, 1]\n",
      "INFO - 2019-03-27 18:06:01,047 - decoder.activations = ['tanh', 'linear']\n",
      "INFO - 2019-03-27 18:06:01,047 - decoder.dropout = 0.0\n",
      "INFO - 2019-03-27 18:06:01,049 - instantiating class <class 'PatientVec.models.modules.Predictor.Predictor'> from params {'type': 'binary'} and extras {}\n",
      "INFO - 2019-03-27 18:06:01,049 - predictor.type = binary\n",
      "INFO - 2019-03-27 18:06:01,049 - instantiating class <class 'PatientVec.models.modules.Predictor.Binary_Predictor'> from params {} and extras {}\n",
      "INFO - 2019-03-27 18:06:01,050 - predictor.replicate = False\n",
      "INFO - 2019-03-27 18:06:01,050 - predictor.alpha = 0.5\n",
      "INFO - 2019-03-27 18:06:01,066 - instantiating class <class 'PatientVec.models.Model.Model'> from params {'type': 'seq_classifier_with_attention', 'embedder': {'type': 'token_embedder', 'vocab_size': 29286, 'embed_size': 200, 'embedding_file': './preprocess/Mortality/embedding_matrix.npy'}, 'decoder': {'num_layers': 2, 'hidden_dims': [128, 1], 'activations': ['tanh', 'linear']}, 'predictor': {'type': 'binary'}, 'structured': {'use_structured': False}, 'encoder': {'type': 'lstm', 'hidden_size': 128}, 'attention': {'similarity': {'type': 'additive', 'hidden_size': 128}}} and extras {}\n",
      "INFO - 2019-03-27 18:06:01,066 - type = seq_classifier_with_attention\n",
      "INFO - 2019-03-27 18:06:01,067 - instantiating class <class 'PatientVec.models.modules.Embedder.Embedder'> from params {'type': 'token_embedder', 'vocab_size': 29286, 'embed_size': 200, 'embedding_file': './preprocess/Mortality/embedding_matrix.npy'} and extras {}\n",
      "INFO - 2019-03-27 18:06:01,067 - embedder.type = token_embedder\n",
      "INFO - 2019-03-27 18:06:01,067 - instantiating class <class 'PatientVec.models.modules.Embedder.TokenEmbedder'> from params {'vocab_size': 29286, 'embed_size': 200, 'embedding_file': './preprocess/Mortality/embedding_matrix.npy'} and extras {}\n",
      "INFO - 2019-03-27 18:06:01,067 - embedder.vocab_size = 29286\n",
      "INFO - 2019-03-27 18:06:01,068 - embedder.embed_size = 200\n",
      "INFO - 2019-03-27 18:06:01,068 - embedder.embedding_file = ./preprocess/Mortality/embedding_matrix.npy\n",
      "INFO - 2019-03-27 18:06:01,082 - instantiating class <class 'PatientVec.models.modules.Encoder.Encoder'> from params {'type': 'lstm', 'hidden_size': 128} and extras {'input_size': 200}\n",
      "INFO - 2019-03-27 18:06:01,082 - encoder.type = lstm\n",
      "INFO - 2019-03-27 18:06:01,082 - instantiating class <class 'PatientVec.models.modules.Encoder.wrap_pytorch_rnn.<locals>.BiRNNEncoder'> from params {'hidden_size': 128} and extras {'input_size': 200}\n",
      "INFO - 2019-03-27 18:06:01,082 - encoder.hidden_size = 128\n",
      "INFO - 2019-03-27 18:06:01,085 - instantiating class <class 'PatientVec.models.modules.SelfAttention.SelfAttention'> from params {'similarity': {'type': 'additive', 'hidden_size': 128, 'tensor_1_dim': 256}} and extras {}\n",
      "INFO - 2019-03-27 18:06:01,085 - instantiating class <class 'PatientVec.models.modules.UniSimilarity.UniSimilarity'> from params {'type': 'additive', 'hidden_size': 128, 'tensor_1_dim': 256} and extras {}\n",
      "INFO - 2019-03-27 18:06:01,085 - attention.similarity.type = additive\n",
      "INFO - 2019-03-27 18:06:01,086 - instantiating class <class 'PatientVec.models.modules.UniSimilarity.UniAdditiveSimilarity'> from params {'hidden_size': 128, 'tensor_1_dim': 256} and extras {}\n",
      "INFO - 2019-03-27 18:06:01,086 - attention.similarity.tensor_1_dim = 256\n",
      "INFO - 2019-03-27 18:06:01,086 - attention.similarity.hidden_size = 128\n",
      "INFO - 2019-03-27 18:06:01,087 - attention.similarity.output_size = 1\n",
      "INFO - 2019-03-27 18:06:01,088 - attention.normaliser = softmax\n",
      "INFO - 2019-03-27 18:06:01,088 - decoder.input_dim = 256\n",
      "INFO - 2019-03-27 18:06:01,088 - decoder.num_layers = 2\n",
      "INFO - 2019-03-27 18:06:01,089 - decoder.hidden_dims = [128, 1]\n",
      "INFO - 2019-03-27 18:06:01,089 - decoder.activations = ['tanh', 'linear']\n",
      "INFO - 2019-03-27 18:06:01,089 - decoder.dropout = 0.0\n",
      "INFO - 2019-03-27 18:06:01,090 - instantiating class <class 'PatientVec.models.modules.Predictor.Predictor'> from params {'type': 'binary'} and extras {}\n",
      "INFO - 2019-03-27 18:06:01,091 - predictor.type = binary\n",
      "INFO - 2019-03-27 18:06:01,091 - instantiating class <class 'PatientVec.models.modules.Predictor.Binary_Predictor'> from params {} and extras {}\n",
      "INFO - 2019-03-27 18:06:01,091 - predictor.replicate = False\n",
      "INFO - 2019-03-27 18:06:01,092 - predictor.alpha = 0.5\n",
      "INFO - 2019-03-27 18:06:01,119 - instantiating class <class 'PatientVec.models.Model.Model'> from params {'type': 'seq_classifier_with_attention', 'embedder': {'type': 'token_embedder', 'vocab_size': 29286, 'embed_size': 200, 'embedding_file': './preprocess/Mortality/embedding_matrix.npy'}, 'decoder': {'num_layers': 2, 'hidden_dims': [128, 1], 'activations': ['tanh', 'linear']}, 'predictor': {'type': 'binary'}, 'structured': {'use_structured': False}, 'encoder': {'type': 'cnn', 'hidden_size': 64, 'kernel_sizes': [3, 5, 7, 9], 'activation': 'relu'}, 'attention': {'similarity': {'type': 'additive', 'hidden_size': 128}}} and extras {}\n",
      "INFO - 2019-03-27 18:06:01,120 - type = seq_classifier_with_attention\n",
      "INFO - 2019-03-27 18:06:01,120 - instantiating class <class 'PatientVec.models.modules.Embedder.Embedder'> from params {'type': 'token_embedder', 'vocab_size': 29286, 'embed_size': 200, 'embedding_file': './preprocess/Mortality/embedding_matrix.npy'} and extras {}\n",
      "INFO - 2019-03-27 18:06:01,120 - embedder.type = token_embedder\n",
      "INFO - 2019-03-27 18:06:01,121 - instantiating class <class 'PatientVec.models.modules.Embedder.TokenEmbedder'> from params {'vocab_size': 29286, 'embed_size': 200, 'embedding_file': './preprocess/Mortality/embedding_matrix.npy'} and extras {}\n",
      "INFO - 2019-03-27 18:06:01,121 - embedder.vocab_size = 29286\n",
      "INFO - 2019-03-27 18:06:01,121 - embedder.embed_size = 200\n",
      "INFO - 2019-03-27 18:06:01,122 - embedder.embedding_file = ./preprocess/Mortality/embedding_matrix.npy\n",
      "INFO - 2019-03-27 18:06:01,136 - instantiating class <class 'PatientVec.models.modules.Encoder.Encoder'> from params {'type': 'cnn', 'hidden_size': 64, 'kernel_sizes': [3, 5, 7, 9], 'activation': 'relu'} and extras {'input_size': 200}\n",
      "INFO - 2019-03-27 18:06:01,136 - encoder.type = cnn\n",
      "INFO - 2019-03-27 18:06:01,136 - instantiating class <class 'PatientVec.models.modules.Encoder.CNNEncoder'> from params {'hidden_size': 64, 'kernel_sizes': [3, 5, 7, 9], 'activation': 'relu'} and extras {'input_size': 200}\n",
      "INFO - 2019-03-27 18:06:01,137 - encoder.hidden_size = 64\n",
      "INFO - 2019-03-27 18:06:01,137 - encoder.kernel_sizes = [3, 5, 7, 9]\n",
      "INFO - 2019-03-27 18:06:01,137 - encoder.activation = relu\n",
      "INFO - 2019-03-27 18:06:01,140 - instantiating class <class 'PatientVec.models.modules.SelfAttention.SelfAttention'> from params {'similarity': {'type': 'additive', 'hidden_size': 128, 'tensor_1_dim': 256}} and extras {}\n",
      "INFO - 2019-03-27 18:06:01,140 - instantiating class <class 'PatientVec.models.modules.UniSimilarity.UniSimilarity'> from params {'type': 'additive', 'hidden_size': 128, 'tensor_1_dim': 256} and extras {}\n",
      "INFO - 2019-03-27 18:06:01,141 - attention.similarity.type = additive\n",
      "INFO - 2019-03-27 18:06:01,141 - instantiating class <class 'PatientVec.models.modules.UniSimilarity.UniAdditiveSimilarity'> from params {'hidden_size': 128, 'tensor_1_dim': 256} and extras {}\n",
      "INFO - 2019-03-27 18:06:01,141 - attention.similarity.tensor_1_dim = 256\n",
      "INFO - 2019-03-27 18:06:01,141 - attention.similarity.hidden_size = 128\n",
      "INFO - 2019-03-27 18:06:01,142 - attention.similarity.output_size = 1\n",
      "INFO - 2019-03-27 18:06:01,143 - attention.normaliser = softmax\n",
      "INFO - 2019-03-27 18:06:01,143 - decoder.input_dim = 256\n",
      "INFO - 2019-03-27 18:06:01,143 - decoder.num_layers = 2\n",
      "INFO - 2019-03-27 18:06:01,143 - decoder.hidden_dims = [128, 1]\n",
      "INFO - 2019-03-27 18:06:01,144 - decoder.activations = ['tanh', 'linear']\n",
      "INFO - 2019-03-27 18:06:01,144 - decoder.dropout = 0.0\n",
      "INFO - 2019-03-27 18:06:01,145 - instantiating class <class 'PatientVec.models.modules.Predictor.Predictor'> from params {'type': 'binary'} and extras {}\n",
      "INFO - 2019-03-27 18:06:01,146 - predictor.type = binary\n",
      "INFO - 2019-03-27 18:06:01,146 - instantiating class <class 'PatientVec.models.modules.Predictor.Binary_Predictor'> from params {} and extras {}\n",
      "INFO - 2019-03-27 18:06:01,146 - predictor.replicate = False\n",
      "INFO - 2019-03-27 18:06:01,147 - predictor.alpha = 0.5\n"
     ]
    },
    {
     "name": "stdout",
     "output_type": "stream",
     "text": [
      "{'model': {'type': 'seq_classifier_with_attention', 'embedder': {'type': 'token_embedder', 'vocab_size': 29286, 'embed_size': 200, 'embedding_file': './preprocess/Mortality/embedding_matrix.npy'}, 'decoder': {'num_layers': 2, 'hidden_dims': [128, 1], 'activations': ['tanh', 'linear']}, 'predictor': {'type': 'binary'}, 'structured': {'use_structured': False}, 'encoder': {'type': 'average', 'projection': True, 'hidden_size': 256, 'activation': 'relu'}, 'attention': {'similarity': {'type': 'additive', 'hidden_size': 128}}}, 'training_config': {'type': 'Adam', 'groups': [('.*', {'lr': 0.001, 'weight_decay': 1e-05})], 'common': {'bsize': 16, 'class_weight': True}}, 'exp_config': {'exp_name': 'Mortality_1yr/Attention/Average(hs=256)+Attention(additive)(hs=128)', 'basepath': 'outputs/'}}\n",
      "Setting Embedding\n",
      "{'model': {'type': 'seq_classifier_with_attention', 'embedder': {'type': 'token_embedder', 'vocab_size': 29286, 'embed_size': 200, 'embedding_file': './preprocess/Mortality/embedding_matrix.npy'}, 'decoder': {'num_layers': 2, 'hidden_dims': [128, 1], 'activations': ['tanh', 'linear']}, 'predictor': {'type': 'binary'}, 'structured': {'use_structured': False}, 'encoder': {'type': 'lstm', 'hidden_size': 128}, 'attention': {'similarity': {'type': 'additive', 'hidden_size': 128}}}, 'training_config': {'type': 'Adam', 'groups': [('.*', {'lr': 0.001, 'weight_decay': 1e-05})], 'common': {'bsize': 16, 'class_weight': True}}, 'exp_config': {'exp_name': 'Mortality_1yr/Attention/LSTM(hs=128)+Attention(additive)(hs=128)', 'basepath': 'outputs/'}}\n",
      "Setting Embedding\n",
      "{'model': {'type': 'seq_classifier_with_attention', 'embedder': {'type': 'token_embedder', 'vocab_size': 29286, 'embed_size': 200, 'embedding_file': './preprocess/Mortality/embedding_matrix.npy'}, 'decoder': {'num_layers': 2, 'hidden_dims': [128, 1], 'activations': ['tanh', 'linear']}, 'predictor': {'type': 'binary'}, 'structured': {'use_structured': False}, 'encoder': {'type': 'cnn', 'hidden_size': 64, 'kernel_sizes': [3, 5, 7, 9], 'activation': 'relu'}, 'attention': {'similarity': {'type': 'additive', 'hidden_size': 128}}}, 'training_config': {'type': 'Adam', 'groups': [('.*', {'lr': 0.001, 'weight_decay': 1e-05})], 'common': {'bsize': 16, 'class_weight': True}}, 'exp_config': {'exp_name': 'Mortality_1yr/Attention/CNN(hs=64)(kernels=3,5,7,9)+Attention(additive)(hs=128)', 'basepath': 'outputs/'}}\n",
      "Setting Embedding\n",
      "Pos Percentage [0.25239128]\n"
     ]
    },
    {
     "name": "stderr",
     "output_type": "stream",
     "text": [
      "INFO - 2019-03-27 18:06:04,335 - Maximum Sentence Length 721825.000000 , 90 percentile length 18596.000000 ... \n",
      "INFO - 2019-03-27 18:06:10,485 - Truncated all ...\n",
      "INFO - 2019-03-27 18:06:10,517 - Idxs removed []...\n"
     ]
    },
    {
     "name": "stdout",
     "output_type": "stream",
     "text": [
      "Pos Percentage [0.25692909]\n"
     ]
    },
    {
     "name": "stderr",
     "output_type": "stream",
     "text": [
      "INFO - 2019-03-27 18:06:11,359 - Maximum Sentence Length 420764.000000 , 90 percentile length 17662.000000 ... \n",
      "INFO - 2019-03-27 18:06:12,846 - Truncated all ...\n",
      "INFO - 2019-03-27 18:06:12,855 - Idxs removed []...\n"
     ]
    },
    {
     "name": "stdout",
     "output_type": "stream",
     "text": [
      "Pos Percentage [0.25656373]\n"
     ]
    },
    {
     "name": "stderr",
     "output_type": "stream",
     "text": [
      "INFO - 2019-03-27 18:06:13,847 - Maximum Sentence Length 707041.000000 , 90 percentile length 17669.000000 ... \n",
      "INFO - 2019-03-27 18:06:18,705 - Truncated all ...\n",
      "INFO - 2019-03-27 18:06:18,715 - Idxs removed []...\n",
      "INFO - 2019-03-27 18:06:18,773 - instantiating class <class 'PatientVec.models.Model.Model'> from params {'type': 'seq_classifier', 'embedder': {'type': 'token_embedder', 'vocab_size': 29286, 'embed_size': 200, 'embedding_file': './preprocess/Mortality/embedding_matrix.npy'}, 'decoder': {'num_layers': 2, 'hidden_dims': [128, 1], 'activations': ['tanh', 'linear']}, 'predictor': {'type': 'binary'}, 'structured': {'use_structured': False}, 'encoder': {'type': 'sru', 'hidden_size': 128}} and extras {}\n",
      "INFO - 2019-03-27 18:06:18,774 - type = seq_classifier\n",
      "INFO - 2019-03-27 18:06:18,774 - instantiating class <class 'PatientVec.models.modules.Embedder.Embedder'> from params {'type': 'token_embedder', 'vocab_size': 29286, 'embed_size': 200, 'embedding_file': './preprocess/Mortality/embedding_matrix.npy'} and extras {}\n",
      "INFO - 2019-03-27 18:06:18,775 - embedder.type = token_embedder\n",
      "INFO - 2019-03-27 18:06:18,775 - instantiating class <class 'PatientVec.models.modules.Embedder.TokenEmbedder'> from params {'vocab_size': 29286, 'embed_size': 200, 'embedding_file': './preprocess/Mortality/embedding_matrix.npy'} and extras {}\n",
      "INFO - 2019-03-27 18:06:18,776 - embedder.vocab_size = 29286\n",
      "INFO - 2019-03-27 18:06:18,776 - embedder.embed_size = 200\n",
      "INFO - 2019-03-27 18:06:18,776 - embedder.embedding_file = ./preprocess/Mortality/embedding_matrix.npy\n",
      "INFO - 2019-03-27 18:06:18,791 - instantiating class <class 'PatientVec.models.modules.Encoder.Encoder'> from params {'type': 'sru', 'hidden_size': 128} and extras {'input_size': 200}\n",
      "INFO - 2019-03-27 18:06:18,792 - encoder.type = sru\n",
      "INFO - 2019-03-27 18:06:18,792 - instantiating class <class 'PatientVec.models.modules.Encoder.SRUEncoder'> from params {'hidden_size': 128} and extras {'input_size': 200}\n",
      "INFO - 2019-03-27 18:06:18,793 - encoder.hidden_size = 128\n",
      "INFO - 2019-03-27 18:06:18,796 - decoder.input_dim = 256\n",
      "INFO - 2019-03-27 18:06:18,797 - decoder.num_layers = 2\n",
      "INFO - 2019-03-27 18:06:18,797 - decoder.hidden_dims = [128, 1]\n",
      "INFO - 2019-03-27 18:06:18,797 - decoder.activations = ['tanh', 'linear']\n",
      "INFO - 2019-03-27 18:06:18,798 - decoder.dropout = 0.0\n",
      "INFO - 2019-03-27 18:06:18,799 - instantiating class <class 'PatientVec.models.modules.Predictor.Predictor'> from params {'type': 'binary'} and extras {}\n",
      "INFO - 2019-03-27 18:06:18,800 - predictor.type = binary\n",
      "INFO - 2019-03-27 18:06:18,800 - instantiating class <class 'PatientVec.models.modules.Predictor.Binary_Predictor'> from params {} and extras {}\n",
      "INFO - 2019-03-27 18:06:18,800 - predictor.replicate = False\n",
      "INFO - 2019-03-27 18:06:18,801 - predictor.alpha = 0.5\n",
      "INFO - 2019-03-27 18:06:18,811 - instantiating class <class 'PatientVec.models.Model.Model'> from params {'type': 'seq_classifier', 'embedder': {'type': 'token_embedder', 'vocab_size': 29286, 'embed_size': 200, 'embedding_file': './preprocess/Mortality/embedding_matrix.npy'}, 'decoder': {'num_layers': 2, 'hidden_dims': [128, 1], 'activations': ['tanh', 'linear']}, 'predictor': {'type': 'binary'}, 'structured': {'use_structured': False}, 'encoder': {'type': 'sru', 'hidden_size': 128}} and extras {}\n",
      "INFO - 2019-03-27 18:06:18,811 - type = seq_classifier\n",
      "INFO - 2019-03-27 18:06:18,811 - instantiating class <class 'PatientVec.models.modules.Embedder.Embedder'> from params {'type': 'token_embedder', 'vocab_size': 29286, 'embed_size': 200, 'embedding_file': './preprocess/Mortality/embedding_matrix.npy'} and extras {}\n",
      "INFO - 2019-03-27 18:06:18,812 - embedder.type = token_embedder\n",
      "INFO - 2019-03-27 18:06:18,813 - instantiating class <class 'PatientVec.models.modules.Embedder.TokenEmbedder'> from params {'vocab_size': 29286, 'embed_size': 200, 'embedding_file': './preprocess/Mortality/embedding_matrix.npy'} and extras {}\n",
      "INFO - 2019-03-27 18:06:18,814 - embedder.vocab_size = 29286\n",
      "INFO - 2019-03-27 18:06:18,814 - embedder.embed_size = 200\n",
      "INFO - 2019-03-27 18:06:18,815 - embedder.embedding_file = ./preprocess/Mortality/embedding_matrix.npy\n",
      "INFO - 2019-03-27 18:06:18,830 - instantiating class <class 'PatientVec.models.modules.Encoder.Encoder'> from params {'type': 'sru', 'hidden_size': 128} and extras {'input_size': 200}\n",
      "INFO - 2019-03-27 18:06:18,831 - encoder.type = sru\n",
      "INFO - 2019-03-27 18:06:18,831 - instantiating class <class 'PatientVec.models.modules.Encoder.SRUEncoder'> from params {'hidden_size': 128} and extras {'input_size': 200}\n",
      "INFO - 2019-03-27 18:06:18,831 - encoder.hidden_size = 128\n",
      "INFO - 2019-03-27 18:06:18,835 - decoder.input_dim = 256\n",
      "INFO - 2019-03-27 18:06:18,835 - decoder.num_layers = 2\n",
      "INFO - 2019-03-27 18:06:18,835 - decoder.hidden_dims = [128, 1]\n",
      "INFO - 2019-03-27 18:06:18,836 - decoder.activations = ['tanh', 'linear']\n",
      "INFO - 2019-03-27 18:06:18,836 - decoder.dropout = 0.0\n",
      "INFO - 2019-03-27 18:06:18,838 - instantiating class <class 'PatientVec.models.modules.Predictor.Predictor'> from params {'type': 'binary'} and extras {}\n",
      "INFO - 2019-03-27 18:06:18,838 - predictor.type = binary\n",
      "INFO - 2019-03-27 18:06:18,838 - instantiating class <class 'PatientVec.models.modules.Predictor.Binary_Predictor'> from params {} and extras {}\n",
      "INFO - 2019-03-27 18:06:18,839 - predictor.replicate = False\n",
      "INFO - 2019-03-27 18:06:18,839 - predictor.alpha = 0.5\n"
     ]
    },
    {
     "name": "stdout",
     "output_type": "stream",
     "text": [
      "{'model': {'type': 'seq_classifier', 'embedder': {'type': 'token_embedder', 'vocab_size': 29286, 'embed_size': 200, 'embedding_file': './preprocess/Mortality/embedding_matrix.npy'}, 'decoder': {'num_layers': 2, 'hidden_dims': [128, 1], 'activations': ['tanh', 'linear']}, 'predictor': {'type': 'binary'}, 'structured': {'use_structured': False}, 'encoder': {'type': 'sru', 'hidden_size': 128}}, 'training_config': {'type': 'Adam', 'groups': [('.*', {'lr': 0.001, 'weight_decay': 1e-05})], 'common': {'bsize': 16, 'class_weight': True}}, 'exp_config': {'exp_name': 'Mortality_1yr/Basic/SRU(hs=128)', 'basepath': 'outputs/'}}\n",
      "Setting Embedding\n",
      "Setting Embedding\n"
     ]
    },
    {
     "data": {
      "application/vnd.jupyter.widget-view+json": {
       "model_id": "6ea1270b52474a439d470b7eb02802b3",
       "version_major": 2,
       "version_minor": 0
      },
      "text/plain": [
       "HBox(children=(IntProgress(value=0, max=184), HTML(value='')))"
      ]
     },
     "metadata": {},
     "output_type": "display_data"
    },
    {
     "name": "stdout",
     "output_type": "stream",
     "text": [
      "\n",
      "{'accuracy': 0.7542934875021254, 'roc_auc': 0.8255310030031485, 'pr_auc': 0.6653569489064388}\n"
     ]
    },
    {
     "data": {
      "text/html": [
       "<div>\n",
       "<style scoped>\n",
       "    .dataframe tbody tr th:only-of-type {\n",
       "        vertical-align: middle;\n",
       "    }\n",
       "\n",
       "    .dataframe tbody tr th {\n",
       "        vertical-align: top;\n",
       "    }\n",
       "\n",
       "    .dataframe thead th {\n",
       "        text-align: right;\n",
       "    }\n",
       "</style>\n",
       "<table border=\"1\" class=\"dataframe\">\n",
       "  <thead>\n",
       "    <tr style=\"text-align: right;\">\n",
       "      <th></th>\n",
       "      <th>0</th>\n",
       "      <th>1</th>\n",
       "      <th>micro avg</th>\n",
       "      <th>macro avg</th>\n",
       "      <th>weighted avg</th>\n",
       "    </tr>\n",
       "  </thead>\n",
       "  <tbody>\n",
       "    <tr>\n",
       "      <th>f1-score</th>\n",
       "      <td>0.823</td>\n",
       "      <td>0.599</td>\n",
       "      <td>0.754</td>\n",
       "      <td>0.711</td>\n",
       "      <td>0.765</td>\n",
       "    </tr>\n",
       "    <tr>\n",
       "      <th>precision</th>\n",
       "      <td>0.886</td>\n",
       "      <td>0.516</td>\n",
       "      <td>0.754</td>\n",
       "      <td>0.701</td>\n",
       "      <td>0.791</td>\n",
       "    </tr>\n",
       "    <tr>\n",
       "      <th>recall</th>\n",
       "      <td>0.768</td>\n",
       "      <td>0.714</td>\n",
       "      <td>0.754</td>\n",
       "      <td>0.741</td>\n",
       "      <td>0.754</td>\n",
       "    </tr>\n",
       "    <tr>\n",
       "      <th>support</th>\n",
       "      <td>4370.000</td>\n",
       "      <td>1511.000</td>\n",
       "      <td>5881.000</td>\n",
       "      <td>5881.000</td>\n",
       "      <td>5881.000</td>\n",
       "    </tr>\n",
       "  </tbody>\n",
       "</table>\n",
       "</div>"
      ],
      "text/plain": [
       "                  0         1  micro avg  macro avg  weighted avg\n",
       "f1-score      0.823     0.599      0.754      0.711         0.765\n",
       "precision     0.886     0.516      0.754      0.701         0.791\n",
       "recall        0.768     0.714      0.754      0.741         0.754\n",
       "support    4370.000  1511.000   5881.000   5881.000      5881.000"
      ]
     },
     "metadata": {},
     "output_type": "display_data"
    },
    {
     "data": {
      "application/vnd.jupyter.widget-view+json": {
       "model_id": "67e93d1c8bf64f7e844b5f5565399ba1",
       "version_major": 2,
       "version_minor": 0
      },
      "text/plain": [
       "HBox(children=(IntProgress(value=0, max=230), HTML(value='')))"
      ]
     },
     "metadata": {},
     "output_type": "display_data"
    },
    {
     "name": "stdout",
     "output_type": "stream",
     "text": [
      "\n",
      "{'accuracy': 0.7717317371786152, 'roc_auc': 0.8428572260184592, 'pr_auc': 0.6939320560343881}\n"
     ]
    },
    {
     "data": {
      "text/html": [
       "<div>\n",
       "<style scoped>\n",
       "    .dataframe tbody tr th:only-of-type {\n",
       "        vertical-align: middle;\n",
       "    }\n",
       "\n",
       "    .dataframe tbody tr th {\n",
       "        vertical-align: top;\n",
       "    }\n",
       "\n",
       "    .dataframe thead th {\n",
       "        text-align: right;\n",
       "    }\n",
       "</style>\n",
       "<table border=\"1\" class=\"dataframe\">\n",
       "  <thead>\n",
       "    <tr style=\"text-align: right;\">\n",
       "      <th></th>\n",
       "      <th>0</th>\n",
       "      <th>1</th>\n",
       "      <th>micro avg</th>\n",
       "      <th>macro avg</th>\n",
       "      <th>weighted avg</th>\n",
       "    </tr>\n",
       "  </thead>\n",
       "  <tbody>\n",
       "    <tr>\n",
       "      <th>f1-score</th>\n",
       "      <td>0.835</td>\n",
       "      <td>0.630</td>\n",
       "      <td>0.772</td>\n",
       "      <td>0.732</td>\n",
       "      <td>0.782</td>\n",
       "    </tr>\n",
       "    <tr>\n",
       "      <th>precision</th>\n",
       "      <td>0.902</td>\n",
       "      <td>0.539</td>\n",
       "      <td>0.772</td>\n",
       "      <td>0.721</td>\n",
       "      <td>0.809</td>\n",
       "    </tr>\n",
       "    <tr>\n",
       "      <th>recall</th>\n",
       "      <td>0.777</td>\n",
       "      <td>0.756</td>\n",
       "      <td>0.772</td>\n",
       "      <td>0.767</td>\n",
       "      <td>0.772</td>\n",
       "    </tr>\n",
       "    <tr>\n",
       "      <th>support</th>\n",
       "      <td>5465.000</td>\n",
       "      <td>1886.000</td>\n",
       "      <td>7351.000</td>\n",
       "      <td>7351.000</td>\n",
       "      <td>7351.000</td>\n",
       "    </tr>\n",
       "  </tbody>\n",
       "</table>\n",
       "</div>"
      ],
      "text/plain": [
       "                  0         1  micro avg  macro avg  weighted avg\n",
       "f1-score      0.835     0.630      0.772      0.732         0.782\n",
       "precision     0.902     0.539      0.772      0.721         0.809\n",
       "recall        0.777     0.756      0.772      0.767         0.772\n",
       "support    5465.000  1886.000   7351.000   7351.000      7351.000"
      ]
     },
     "metadata": {},
     "output_type": "display_data"
    },
    {
     "name": "stderr",
     "output_type": "stream",
     "text": [
      "INFO - 2019-03-27 18:07:54,989 - instantiating class <class 'PatientVec.models.Model.Model'> from params {'type': 'seq_classifier_with_attention', 'embedder': {'type': 'token_embedder', 'vocab_size': 29286, 'embed_size': 200, 'embedding_file': './preprocess/Mortality/embedding_matrix.npy'}, 'decoder': {'num_layers': 2, 'hidden_dims': [128, 1], 'activations': ['tanh', 'linear']}, 'predictor': {'type': 'binary'}, 'structured': {'use_structured': False}, 'encoder': {'type': 'sru', 'hidden_size': 128}, 'attention': {'similarity': {'type': 'additive', 'hidden_size': 128}}} and extras {}\n",
      "INFO - 2019-03-27 18:07:54,990 - type = seq_classifier_with_attention\n",
      "INFO - 2019-03-27 18:07:54,990 - instantiating class <class 'PatientVec.models.modules.Embedder.Embedder'> from params {'type': 'token_embedder', 'vocab_size': 29286, 'embed_size': 200, 'embedding_file': './preprocess/Mortality/embedding_matrix.npy'} and extras {}\n",
      "INFO - 2019-03-27 18:07:54,991 - embedder.type = token_embedder\n",
      "INFO - 2019-03-27 18:07:54,991 - instantiating class <class 'PatientVec.models.modules.Embedder.TokenEmbedder'> from params {'vocab_size': 29286, 'embed_size': 200, 'embedding_file': './preprocess/Mortality/embedding_matrix.npy'} and extras {}\n",
      "INFO - 2019-03-27 18:07:54,992 - embedder.vocab_size = 29286\n",
      "INFO - 2019-03-27 18:07:54,992 - embedder.embed_size = 200\n",
      "INFO - 2019-03-27 18:07:54,993 - embedder.embedding_file = ./preprocess/Mortality/embedding_matrix.npy\n",
      "INFO - 2019-03-27 18:07:55,008 - instantiating class <class 'PatientVec.models.modules.Encoder.Encoder'> from params {'type': 'sru', 'hidden_size': 128} and extras {'input_size': 200}\n",
      "INFO - 2019-03-27 18:07:55,009 - encoder.type = sru\n",
      "INFO - 2019-03-27 18:07:55,009 - instantiating class <class 'PatientVec.models.modules.Encoder.SRUEncoder'> from params {'hidden_size': 128} and extras {'input_size': 200}\n",
      "INFO - 2019-03-27 18:07:55,009 - encoder.hidden_size = 128\n",
      "INFO - 2019-03-27 18:07:55,012 - instantiating class <class 'PatientVec.models.modules.SelfAttention.SelfAttention'> from params {'similarity': {'type': 'additive', 'hidden_size': 128, 'tensor_1_dim': 256}} and extras {}\n",
      "INFO - 2019-03-27 18:07:55,013 - instantiating class <class 'PatientVec.models.modules.UniSimilarity.UniSimilarity'> from params {'type': 'additive', 'hidden_size': 128, 'tensor_1_dim': 256} and extras {}\n",
      "INFO - 2019-03-27 18:07:55,013 - attention.similarity.type = additive\n",
      "INFO - 2019-03-27 18:07:55,013 - instantiating class <class 'PatientVec.models.modules.UniSimilarity.UniAdditiveSimilarity'> from params {'hidden_size': 128, 'tensor_1_dim': 256} and extras {}\n",
      "INFO - 2019-03-27 18:07:55,013 - attention.similarity.tensor_1_dim = 256\n",
      "INFO - 2019-03-27 18:07:55,014 - attention.similarity.hidden_size = 128\n",
      "INFO - 2019-03-27 18:07:55,014 - attention.similarity.output_size = 1\n",
      "INFO - 2019-03-27 18:07:55,016 - attention.normaliser = softmax\n",
      "INFO - 2019-03-27 18:07:55,016 - decoder.input_dim = 256\n",
      "INFO - 2019-03-27 18:07:55,016 - decoder.num_layers = 2\n",
      "INFO - 2019-03-27 18:07:55,017 - decoder.hidden_dims = [128, 1]\n",
      "INFO - 2019-03-27 18:07:55,017 - decoder.activations = ['tanh', 'linear']\n",
      "INFO - 2019-03-27 18:07:55,017 - decoder.dropout = 0.0\n",
      "INFO - 2019-03-27 18:07:55,019 - instantiating class <class 'PatientVec.models.modules.Predictor.Predictor'> from params {'type': 'binary'} and extras {}\n",
      "INFO - 2019-03-27 18:07:55,019 - predictor.type = binary\n",
      "INFO - 2019-03-27 18:07:55,019 - instantiating class <class 'PatientVec.models.modules.Predictor.Binary_Predictor'> from params {} and extras {}\n",
      "INFO - 2019-03-27 18:07:55,020 - predictor.replicate = False\n",
      "INFO - 2019-03-27 18:07:55,020 - predictor.alpha = 0.5\n",
      "INFO - 2019-03-27 18:07:55,028 - instantiating class <class 'PatientVec.models.Model.Model'> from params {'type': 'seq_classifier_with_attention', 'embedder': {'type': 'token_embedder', 'vocab_size': 29286, 'embed_size': 200, 'embedding_file': '/scratch/jain.sar/PatientVec/preprocess/Mortality/embedding_matrix.npy'}, 'decoder': {'num_layers': 2, 'hidden_dims': [128, 1], 'activations': ['tanh', 'linear']}, 'predictor': {'type': 'binary'}, 'structured': {'use_structured': False}, 'encoder': {'type': 'sru', 'hidden_size': 128}, 'attention': {'similarity': {'type': 'additive', 'hidden_size': 128}}} and extras {}\n",
      "INFO - 2019-03-27 18:07:55,028 - type = seq_classifier_with_attention\n",
      "INFO - 2019-03-27 18:07:55,029 - instantiating class <class 'PatientVec.models.modules.Embedder.Embedder'> from params {'type': 'token_embedder', 'vocab_size': 29286, 'embed_size': 200, 'embedding_file': '/scratch/jain.sar/PatientVec/preprocess/Mortality/embedding_matrix.npy'} and extras {}\n",
      "INFO - 2019-03-27 18:07:55,029 - embedder.type = token_embedder\n",
      "INFO - 2019-03-27 18:07:55,030 - instantiating class <class 'PatientVec.models.modules.Embedder.TokenEmbedder'> from params {'vocab_size': 29286, 'embed_size': 200, 'embedding_file': '/scratch/jain.sar/PatientVec/preprocess/Mortality/embedding_matrix.npy'} and extras {}\n",
      "INFO - 2019-03-27 18:07:55,030 - embedder.vocab_size = 29286\n",
      "INFO - 2019-03-27 18:07:55,030 - embedder.embed_size = 200\n",
      "INFO - 2019-03-27 18:07:55,030 - embedder.embedding_file = /scratch/jain.sar/PatientVec/preprocess/Mortality/embedding_matrix.npy\n",
      "INFO - 2019-03-27 18:07:55,060 - instantiating class <class 'PatientVec.models.modules.Encoder.Encoder'> from params {'type': 'sru', 'hidden_size': 128} and extras {'input_size': 200}\n",
      "INFO - 2019-03-27 18:07:55,060 - encoder.type = sru\n",
      "INFO - 2019-03-27 18:07:55,061 - instantiating class <class 'PatientVec.models.modules.Encoder.SRUEncoder'> from params {'hidden_size': 128} and extras {'input_size': 200}\n",
      "INFO - 2019-03-27 18:07:55,061 - encoder.hidden_size = 128\n",
      "INFO - 2019-03-27 18:07:55,063 - instantiating class <class 'PatientVec.models.modules.SelfAttention.SelfAttention'> from params {'similarity': {'type': 'additive', 'hidden_size': 128, 'tensor_1_dim': 256}} and extras {}\n",
      "INFO - 2019-03-27 18:07:55,064 - instantiating class <class 'PatientVec.models.modules.UniSimilarity.UniSimilarity'> from params {'type': 'additive', 'hidden_size': 128, 'tensor_1_dim': 256} and extras {}\n",
      "INFO - 2019-03-27 18:07:55,064 - attention.similarity.type = additive\n",
      "INFO - 2019-03-27 18:07:55,064 - instantiating class <class 'PatientVec.models.modules.UniSimilarity.UniAdditiveSimilarity'> from params {'hidden_size': 128, 'tensor_1_dim': 256} and extras {}\n",
      "INFO - 2019-03-27 18:07:55,065 - attention.similarity.tensor_1_dim = 256\n",
      "INFO - 2019-03-27 18:07:55,065 - attention.similarity.hidden_size = 128\n",
      "INFO - 2019-03-27 18:07:55,065 - attention.similarity.output_size = 1\n",
      "INFO - 2019-03-27 18:07:55,067 - attention.normaliser = softmax\n",
      "INFO - 2019-03-27 18:07:55,067 - decoder.input_dim = 256\n",
      "INFO - 2019-03-27 18:07:55,068 - decoder.num_layers = 2\n",
      "INFO - 2019-03-27 18:07:55,068 - decoder.hidden_dims = [128, 1]\n",
      "INFO - 2019-03-27 18:07:55,068 - decoder.activations = ['tanh', 'linear']\n",
      "INFO - 2019-03-27 18:07:55,069 - decoder.dropout = 0.0\n",
      "INFO - 2019-03-27 18:07:55,070 - instantiating class <class 'PatientVec.models.modules.Predictor.Predictor'> from params {'type': 'binary'} and extras {}\n",
      "INFO - 2019-03-27 18:07:55,070 - predictor.type = binary\n",
      "INFO - 2019-03-27 18:07:55,071 - instantiating class <class 'PatientVec.models.modules.Predictor.Binary_Predictor'> from params {} and extras {}\n",
      "INFO - 2019-03-27 18:07:55,071 - predictor.replicate = False\n",
      "INFO - 2019-03-27 18:07:55,071 - predictor.alpha = 0.5\n"
     ]
    },
    {
     "name": "stdout",
     "output_type": "stream",
     "text": [
      "============================================================================================================================================================================================================================================================================================================\n",
      "{'model': {'type': 'seq_classifier_with_attention', 'embedder': {'type': 'token_embedder', 'vocab_size': 29286, 'embed_size': 200, 'embedding_file': './preprocess/Mortality/embedding_matrix.npy'}, 'decoder': {'num_layers': 2, 'hidden_dims': [128, 1], 'activations': ['tanh', 'linear']}, 'predictor': {'type': 'binary'}, 'structured': {'use_structured': False}, 'encoder': {'type': 'sru', 'hidden_size': 128}, 'attention': {'similarity': {'type': 'additive', 'hidden_size': 128}}}, 'training_config': {'type': 'Adam', 'groups': [('.*', {'lr': 0.001, 'weight_decay': 1e-05})], 'common': {'bsize': 16, 'class_weight': True}}, 'exp_config': {'exp_name': 'Mortality_1yr/Attention/SRU(hs=128)+Attention(additive)(hs=128)', 'basepath': 'outputs/'}}\n",
      "Setting Embedding\n",
      "Error, Embedding file given but doesn't exists ... /scratch/jain.sar/PatientVec/preprocess/Mortality/embedding_matrix.npy\n"
     ]
    },
    {
     "data": {
      "application/vnd.jupyter.widget-view+json": {
       "model_id": "4c02edb68f6c4d99a794a0cd1b0ffcc4",
       "version_major": 2,
       "version_minor": 0
      },
      "text/plain": [
       "HBox(children=(IntProgress(value=0, max=184), HTML(value='')))"
      ]
     },
     "metadata": {},
     "output_type": "display_data"
    },
    {
     "name": "stdout",
     "output_type": "stream",
     "text": [
      "\n",
      "{'accuracy': 0.8459445672504676, 'roc_auc': 0.8908166958702542, 'pr_auc': 0.7804081799829445}\n"
     ]
    },
    {
     "data": {
      "text/html": [
       "<div>\n",
       "<style scoped>\n",
       "    .dataframe tbody tr th:only-of-type {\n",
       "        vertical-align: middle;\n",
       "    }\n",
       "\n",
       "    .dataframe tbody tr th {\n",
       "        vertical-align: top;\n",
       "    }\n",
       "\n",
       "    .dataframe thead th {\n",
       "        text-align: right;\n",
       "    }\n",
       "</style>\n",
       "<table border=\"1\" class=\"dataframe\">\n",
       "  <thead>\n",
       "    <tr style=\"text-align: right;\">\n",
       "      <th></th>\n",
       "      <th>0</th>\n",
       "      <th>1</th>\n",
       "      <th>micro avg</th>\n",
       "      <th>macro avg</th>\n",
       "      <th>weighted avg</th>\n",
       "    </tr>\n",
       "  </thead>\n",
       "  <tbody>\n",
       "    <tr>\n",
       "      <th>f1-score</th>\n",
       "      <td>0.898</td>\n",
       "      <td>0.683</td>\n",
       "      <td>0.846</td>\n",
       "      <td>0.791</td>\n",
       "      <td>0.843</td>\n",
       "    </tr>\n",
       "    <tr>\n",
       "      <th>precision</th>\n",
       "      <td>0.882</td>\n",
       "      <td>0.725</td>\n",
       "      <td>0.846</td>\n",
       "      <td>0.803</td>\n",
       "      <td>0.842</td>\n",
       "    </tr>\n",
       "    <tr>\n",
       "      <th>recall</th>\n",
       "      <td>0.915</td>\n",
       "      <td>0.645</td>\n",
       "      <td>0.846</td>\n",
       "      <td>0.780</td>\n",
       "      <td>0.846</td>\n",
       "    </tr>\n",
       "    <tr>\n",
       "      <th>support</th>\n",
       "      <td>4370.000</td>\n",
       "      <td>1511.000</td>\n",
       "      <td>5881.000</td>\n",
       "      <td>5881.000</td>\n",
       "      <td>5881.000</td>\n",
       "    </tr>\n",
       "  </tbody>\n",
       "</table>\n",
       "</div>"
      ],
      "text/plain": [
       "                  0         1  micro avg  macro avg  weighted avg\n",
       "f1-score      0.898     0.683      0.846      0.791         0.843\n",
       "precision     0.882     0.725      0.846      0.803         0.842\n",
       "recall        0.915     0.645      0.846      0.780         0.846\n",
       "support    4370.000  1511.000   5881.000   5881.000      5881.000"
      ]
     },
     "metadata": {},
     "output_type": "display_data"
    },
    {
     "data": {
      "application/vnd.jupyter.widget-view+json": {
       "model_id": "2fae301b417546349a92f1c685ea7747",
       "version_major": 2,
       "version_minor": 0
      },
      "text/plain": [
       "HBox(children=(IntProgress(value=0, max=230), HTML(value='')))"
      ]
     },
     "metadata": {},
     "output_type": "display_data"
    },
    {
     "name": "stdout",
     "output_type": "stream",
     "text": [
      "\n",
      "{'accuracy': 0.852945177526867, 'roc_auc': 0.8963455868299086, 'pr_auc': 0.7946583369215933}\n"
     ]
    },
    {
     "data": {
      "text/html": [
       "<div>\n",
       "<style scoped>\n",
       "    .dataframe tbody tr th:only-of-type {\n",
       "        vertical-align: middle;\n",
       "    }\n",
       "\n",
       "    .dataframe tbody tr th {\n",
       "        vertical-align: top;\n",
       "    }\n",
       "\n",
       "    .dataframe thead th {\n",
       "        text-align: right;\n",
       "    }\n",
       "</style>\n",
       "<table border=\"1\" class=\"dataframe\">\n",
       "  <thead>\n",
       "    <tr style=\"text-align: right;\">\n",
       "      <th></th>\n",
       "      <th>0</th>\n",
       "      <th>1</th>\n",
       "      <th>micro avg</th>\n",
       "      <th>macro avg</th>\n",
       "      <th>weighted avg</th>\n",
       "    </tr>\n",
       "  </thead>\n",
       "  <tbody>\n",
       "    <tr>\n",
       "      <th>f1-score</th>\n",
       "      <td>0.902</td>\n",
       "      <td>0.702</td>\n",
       "      <td>0.853</td>\n",
       "      <td>0.802</td>\n",
       "      <td>0.851</td>\n",
       "    </tr>\n",
       "    <tr>\n",
       "      <th>precision</th>\n",
       "      <td>0.891</td>\n",
       "      <td>0.731</td>\n",
       "      <td>0.853</td>\n",
       "      <td>0.811</td>\n",
       "      <td>0.850</td>\n",
       "    </tr>\n",
       "    <tr>\n",
       "      <th>recall</th>\n",
       "      <td>0.915</td>\n",
       "      <td>0.674</td>\n",
       "      <td>0.853</td>\n",
       "      <td>0.794</td>\n",
       "      <td>0.853</td>\n",
       "    </tr>\n",
       "    <tr>\n",
       "      <th>support</th>\n",
       "      <td>5465.000</td>\n",
       "      <td>1886.000</td>\n",
       "      <td>7351.000</td>\n",
       "      <td>7351.000</td>\n",
       "      <td>7351.000</td>\n",
       "    </tr>\n",
       "  </tbody>\n",
       "</table>\n",
       "</div>"
      ],
      "text/plain": [
       "                  0         1  micro avg  macro avg  weighted avg\n",
       "f1-score      0.902     0.702      0.853      0.802         0.851\n",
       "precision     0.891     0.731      0.853      0.811         0.850\n",
       "recall        0.915     0.674      0.853      0.794         0.853\n",
       "support    5465.000  1886.000   7351.000   7351.000      7351.000"
      ]
     },
     "metadata": {},
     "output_type": "display_data"
    },
    {
     "name": "stdout",
     "output_type": "stream",
     "text": [
      "============================================================================================================================================================================================================================================================================================================\n",
      "Pos Percentage [0.25239128]\n"
     ]
    },
    {
     "name": "stderr",
     "output_type": "stream",
     "text": [
      "INFO - 2019-03-27 18:09:48,114 - Maximum Sentence Length 721825.000000 , 90 percentile length 18596.000000 ... \n",
      "INFO - 2019-03-27 18:09:54,034 - Truncated all ...\n",
      "INFO - 2019-03-27 18:09:54,074 - Idxs removed []...\n"
     ]
    },
    {
     "name": "stdout",
     "output_type": "stream",
     "text": [
      "Pos Percentage [0.25692909]\n"
     ]
    },
    {
     "name": "stderr",
     "output_type": "stream",
     "text": [
      "INFO - 2019-03-27 18:09:54,935 - Maximum Sentence Length 420764.000000 , 90 percentile length 17662.000000 ... \n",
      "INFO - 2019-03-27 18:09:56,455 - Truncated all ...\n",
      "INFO - 2019-03-27 18:09:56,466 - Idxs removed []...\n"
     ]
    },
    {
     "name": "stdout",
     "output_type": "stream",
     "text": [
      "Pos Percentage [0.25656373]\n"
     ]
    },
    {
     "name": "stderr",
     "output_type": "stream",
     "text": [
      "INFO - 2019-03-27 18:09:57,431 - Maximum Sentence Length 707041.000000 , 90 percentile length 17669.000000 ... \n",
      "INFO - 2019-03-27 18:10:02,380 - Truncated all ...\n",
      "INFO - 2019-03-27 18:10:02,392 - Idxs removed []...\n",
      "INFO - 2019-03-27 18:10:02,450 - instantiating class <class 'PatientVec.models.Model.Model'> from params {'type': 'seq_classifier_with_structured_attention', 'embedder': {'type': 'token_embedder', 'vocab_size': 29286, 'embed_size': 200, 'embedding_file': './preprocess/Mortality/embedding_matrix.npy'}, 'decoder': {'num_layers': 2, 'hidden_dims': [128, 1], 'activations': ['tanh', 'linear']}, 'predictor': {'type': 'binary'}, 'structured': {'use_structured': False}, 'encoder': {'type': 'average', 'projection': True, 'hidden_size': 256, 'activation': 'relu'}, 'attention': {'similarity': {'type': 'additive', 'hidden_size': 128, 'tensor_2_dim': 50}}} and extras {}\n",
      "INFO - 2019-03-27 18:10:02,451 - type = seq_classifier_with_structured_attention\n",
      "INFO - 2019-03-27 18:10:02,451 - instantiating class <class 'PatientVec.models.modules.Embedder.Embedder'> from params {'type': 'token_embedder', 'vocab_size': 29286, 'embed_size': 200, 'embedding_file': './preprocess/Mortality/embedding_matrix.npy'} and extras {}\n",
      "INFO - 2019-03-27 18:10:02,452 - embedder.type = token_embedder\n",
      "INFO - 2019-03-27 18:10:02,452 - instantiating class <class 'PatientVec.models.modules.Embedder.TokenEmbedder'> from params {'vocab_size': 29286, 'embed_size': 200, 'embedding_file': './preprocess/Mortality/embedding_matrix.npy'} and extras {}\n",
      "INFO - 2019-03-27 18:10:02,452 - embedder.vocab_size = 29286\n",
      "INFO - 2019-03-27 18:10:02,453 - embedder.embed_size = 200\n",
      "INFO - 2019-03-27 18:10:02,453 - embedder.embedding_file = ./preprocess/Mortality/embedding_matrix.npy\n",
      "INFO - 2019-03-27 18:10:02,468 - instantiating class <class 'PatientVec.models.modules.Encoder.Encoder'> from params {'type': 'average', 'projection': True, 'hidden_size': 256, 'activation': 'relu'} and extras {'input_size': 200}\n",
      "INFO - 2019-03-27 18:10:02,468 - encoder.type = average\n",
      "INFO - 2019-03-27 18:10:02,469 - instantiating class <class 'PatientVec.models.modules.Encoder.AverageEncoder'> from params {'projection': True, 'hidden_size': 256, 'activation': 'relu'} and extras {'input_size': 200}\n",
      "INFO - 2019-03-27 18:10:02,469 - encoder.projection = True\n",
      "INFO - 2019-03-27 18:10:02,469 - encoder.hidden_size = 256\n",
      "INFO - 2019-03-27 18:10:02,470 - encoder.activation = relu\n",
      "INFO - 2019-03-27 18:10:02,471 - instantiating class <class 'PatientVec.models.modules.Attention.Attention'> from params {'similarity': {'type': 'additive', 'hidden_size': 128, 'tensor_2_dim': 50, 'tensor_1_dim': 256}} and extras {}\n",
      "INFO - 2019-03-27 18:10:02,471 - instantiating class <class 'PatientVec.models.modules.BiSimilarity.BiSimilarity'> from params {'type': 'additive', 'hidden_size': 128, 'tensor_2_dim': 50, 'tensor_1_dim': 256} and extras {}\n",
      "INFO - 2019-03-27 18:10:02,471 - attention.similarity.type = additive\n",
      "INFO - 2019-03-27 18:10:02,472 - instantiating class <class 'PatientVec.models.modules.BiSimilarity.BiAdditiveSimilarity'> from params {'hidden_size': 128, 'tensor_2_dim': 50, 'tensor_1_dim': 256} and extras {}\n",
      "INFO - 2019-03-27 18:10:02,472 - attention.similarity.tensor_1_dim = 256\n",
      "INFO - 2019-03-27 18:10:02,472 - attention.similarity.tensor_2_dim = 50\n",
      "INFO - 2019-03-27 18:10:02,473 - attention.similarity.hidden_size = 128\n",
      "INFO - 2019-03-27 18:10:02,474 - attention.normaliser = softmax\n",
      "INFO - 2019-03-27 18:10:02,474 - decoder.input_dim = 256\n",
      "INFO - 2019-03-27 18:10:02,475 - decoder.num_layers = 2\n",
      "INFO - 2019-03-27 18:10:02,475 - decoder.hidden_dims = [128, 1]\n",
      "INFO - 2019-03-27 18:10:02,475 - decoder.activations = ['tanh', 'linear']\n",
      "INFO - 2019-03-27 18:10:02,475 - decoder.dropout = 0.0\n",
      "INFO - 2019-03-27 18:10:02,477 - instantiating class <class 'PatientVec.models.modules.Predictor.Predictor'> from params {'type': 'binary'} and extras {}\n",
      "INFO - 2019-03-27 18:10:02,477 - predictor.type = binary\n",
      "INFO - 2019-03-27 18:10:02,478 - instantiating class <class 'PatientVec.models.modules.Predictor.Binary_Predictor'> from params {} and extras {}\n",
      "INFO - 2019-03-27 18:10:02,478 - predictor.replicate = False\n",
      "INFO - 2019-03-27 18:10:02,479 - predictor.alpha = 0.5\n",
      "INFO - 2019-03-27 18:10:02,485 - instantiating class <class 'PatientVec.models.Model.Model'> from params {'type': 'seq_classifier_with_structured_attention', 'embedder': {'type': 'token_embedder', 'vocab_size': 29286, 'embed_size': 200, 'embedding_file': '/scratch/jain.sar/PatientVec/preprocess/Mortality/embedding_matrix.npy'}, 'decoder': {'num_layers': 2, 'hidden_dims': [128, 1], 'activations': ['tanh', 'linear']}, 'predictor': {'type': 'binary'}, 'structured': {'use_structured': False}, 'encoder': {'type': 'average', 'projection': True, 'hidden_size': 256, 'activation': 'relu'}, 'attention': {'similarity': {'type': 'additive', 'hidden_size': 128, 'tensor_2_dim': 50}}} and extras {}\n",
      "INFO - 2019-03-27 18:10:02,486 - type = seq_classifier_with_structured_attention\n",
      "INFO - 2019-03-27 18:10:02,486 - instantiating class <class 'PatientVec.models.modules.Embedder.Embedder'> from params {'type': 'token_embedder', 'vocab_size': 29286, 'embed_size': 200, 'embedding_file': '/scratch/jain.sar/PatientVec/preprocess/Mortality/embedding_matrix.npy'} and extras {}\n",
      "INFO - 2019-03-27 18:10:02,486 - embedder.type = token_embedder\n",
      "INFO - 2019-03-27 18:10:02,487 - instantiating class <class 'PatientVec.models.modules.Embedder.TokenEmbedder'> from params {'vocab_size': 29286, 'embed_size': 200, 'embedding_file': '/scratch/jain.sar/PatientVec/preprocess/Mortality/embedding_matrix.npy'} and extras {}\n",
      "INFO - 2019-03-27 18:10:02,487 - embedder.vocab_size = 29286\n",
      "INFO - 2019-03-27 18:10:02,487 - embedder.embed_size = 200\n",
      "INFO - 2019-03-27 18:10:02,487 - embedder.embedding_file = /scratch/jain.sar/PatientVec/preprocess/Mortality/embedding_matrix.npy\n",
      "INFO - 2019-03-27 18:10:02,516 - instantiating class <class 'PatientVec.models.modules.Encoder.Encoder'> from params {'type': 'average', 'projection': True, 'hidden_size': 256, 'activation': 'relu'} and extras {'input_size': 200}\n",
      "INFO - 2019-03-27 18:10:02,516 - encoder.type = average\n",
      "INFO - 2019-03-27 18:10:02,517 - instantiating class <class 'PatientVec.models.modules.Encoder.AverageEncoder'> from params {'projection': True, 'hidden_size': 256, 'activation': 'relu'} and extras {'input_size': 200}\n",
      "INFO - 2019-03-27 18:10:02,517 - encoder.projection = True\n",
      "INFO - 2019-03-27 18:10:02,517 - encoder.hidden_size = 256\n",
      "INFO - 2019-03-27 18:10:02,518 - encoder.activation = relu\n",
      "INFO - 2019-03-27 18:10:02,518 - instantiating class <class 'PatientVec.models.modules.Attention.Attention'> from params {'similarity': {'type': 'additive', 'hidden_size': 128, 'tensor_2_dim': 50, 'tensor_1_dim': 256}} and extras {}\n",
      "INFO - 2019-03-27 18:10:02,519 - instantiating class <class 'PatientVec.models.modules.BiSimilarity.BiSimilarity'> from params {'type': 'additive', 'hidden_size': 128, 'tensor_2_dim': 50, 'tensor_1_dim': 256} and extras {}\n",
      "INFO - 2019-03-27 18:10:02,519 - attention.similarity.type = additive\n",
      "INFO - 2019-03-27 18:10:02,519 - instantiating class <class 'PatientVec.models.modules.BiSimilarity.BiAdditiveSimilarity'> from params {'hidden_size': 128, 'tensor_2_dim': 50, 'tensor_1_dim': 256} and extras {}\n",
      "INFO - 2019-03-27 18:10:02,520 - attention.similarity.tensor_1_dim = 256\n",
      "INFO - 2019-03-27 18:10:02,520 - attention.similarity.tensor_2_dim = 50\n",
      "INFO - 2019-03-27 18:10:02,520 - attention.similarity.hidden_size = 128\n",
      "INFO - 2019-03-27 18:10:02,521 - attention.normaliser = softmax\n",
      "INFO - 2019-03-27 18:10:02,521 - decoder.input_dim = 256\n",
      "INFO - 2019-03-27 18:10:02,522 - decoder.num_layers = 2\n",
      "INFO - 2019-03-27 18:10:02,522 - decoder.hidden_dims = [128, 1]\n",
      "INFO - 2019-03-27 18:10:02,522 - decoder.activations = ['tanh', 'linear']\n",
      "INFO - 2019-03-27 18:10:02,522 - decoder.dropout = 0.0\n",
      "INFO - 2019-03-27 18:10:02,523 - instantiating class <class 'PatientVec.models.modules.Predictor.Predictor'> from params {'type': 'binary'} and extras {}\n",
      "INFO - 2019-03-27 18:10:02,524 - predictor.type = binary\n",
      "INFO - 2019-03-27 18:10:02,524 - instantiating class <class 'PatientVec.models.modules.Predictor.Binary_Predictor'> from params {} and extras {}\n",
      "INFO - 2019-03-27 18:10:02,524 - predictor.replicate = False\n",
      "INFO - 2019-03-27 18:10:02,524 - predictor.alpha = 0.5\n"
     ]
    },
    {
     "name": "stdout",
     "output_type": "stream",
     "text": [
      "{'model': {'type': 'seq_classifier_with_structured_attention', 'embedder': {'type': 'token_embedder', 'vocab_size': 29286, 'embed_size': 200, 'embedding_file': './preprocess/Mortality/embedding_matrix.npy'}, 'decoder': {'num_layers': 2, 'hidden_dims': [128, 1], 'activations': ['tanh', 'linear']}, 'predictor': {'type': 'binary'}, 'structured': {'use_structured': False}, 'encoder': {'type': 'average', 'projection': True, 'hidden_size': 256, 'activation': 'relu'}, 'attention': {'similarity': {'type': 'additive', 'hidden_size': 128, 'tensor_2_dim': 50}}}, 'training_config': {'type': 'Adam', 'groups': [('.*', {'lr': 0.001, 'weight_decay': 1e-05})], 'common': {'bsize': 32, 'class_weight': True}}, 'exp_config': {'exp_name': 'Mortality_1yr/Structured Attention/Average(hs=256)+Attention(additive)(all)(hs=128)', 'basepath': 'outputs/'}}\n",
      "Setting Embedding\n",
      "Error, Embedding file given but doesn't exists ... /scratch/jain.sar/PatientVec/preprocess/Mortality/embedding_matrix.npy\n"
     ]
    },
    {
     "data": {
      "application/vnd.jupyter.widget-view+json": {
       "model_id": "878c393934014385b0e354c641c7ab46",
       "version_major": 2,
       "version_minor": 0
      },
      "text/plain": [
       "HBox(children=(IntProgress(value=0, max=184), HTML(value='')))"
      ]
     },
     "metadata": {},
     "output_type": "display_data"
    },
    {
     "name": "stdout",
     "output_type": "stream",
     "text": [
      "\n",
      "{'accuracy': 0.8355721816017684, 'roc_auc': 0.9013171146148686, 'pr_auc': 0.783952752555101}\n"
     ]
    },
    {
     "data": {
      "text/html": [
       "<div>\n",
       "<style scoped>\n",
       "    .dataframe tbody tr th:only-of-type {\n",
       "        vertical-align: middle;\n",
       "    }\n",
       "\n",
       "    .dataframe tbody tr th {\n",
       "        vertical-align: top;\n",
       "    }\n",
       "\n",
       "    .dataframe thead th {\n",
       "        text-align: right;\n",
       "    }\n",
       "</style>\n",
       "<table border=\"1\" class=\"dataframe\">\n",
       "  <thead>\n",
       "    <tr style=\"text-align: right;\">\n",
       "      <th></th>\n",
       "      <th>0</th>\n",
       "      <th>1</th>\n",
       "      <th>micro avg</th>\n",
       "      <th>macro avg</th>\n",
       "      <th>weighted avg</th>\n",
       "    </tr>\n",
       "  </thead>\n",
       "  <tbody>\n",
       "    <tr>\n",
       "      <th>f1-score</th>\n",
       "      <td>0.885</td>\n",
       "      <td>0.710</td>\n",
       "      <td>0.836</td>\n",
       "      <td>0.798</td>\n",
       "      <td>0.840</td>\n",
       "    </tr>\n",
       "    <tr>\n",
       "      <th>precision</th>\n",
       "      <td>0.919</td>\n",
       "      <td>0.649</td>\n",
       "      <td>0.836</td>\n",
       "      <td>0.784</td>\n",
       "      <td>0.850</td>\n",
       "    </tr>\n",
       "    <tr>\n",
       "      <th>recall</th>\n",
       "      <td>0.854</td>\n",
       "      <td>0.782</td>\n",
       "      <td>0.836</td>\n",
       "      <td>0.818</td>\n",
       "      <td>0.836</td>\n",
       "    </tr>\n",
       "    <tr>\n",
       "      <th>support</th>\n",
       "      <td>4370.000</td>\n",
       "      <td>1511.000</td>\n",
       "      <td>5881.000</td>\n",
       "      <td>5881.000</td>\n",
       "      <td>5881.000</td>\n",
       "    </tr>\n",
       "  </tbody>\n",
       "</table>\n",
       "</div>"
      ],
      "text/plain": [
       "                  0         1  micro avg  macro avg  weighted avg\n",
       "f1-score      0.885     0.710      0.836      0.798         0.840\n",
       "precision     0.919     0.649      0.836      0.784         0.850\n",
       "recall        0.854     0.782      0.836      0.818         0.836\n",
       "support    4370.000  1511.000   5881.000   5881.000      5881.000"
      ]
     },
     "metadata": {},
     "output_type": "display_data"
    },
    {
     "data": {
      "application/vnd.jupyter.widget-view+json": {
       "model_id": "2196691e29ed4876a06df09dc4b1ea4e",
       "version_major": 2,
       "version_minor": 0
      },
      "text/plain": [
       "HBox(children=(IntProgress(value=0, max=230), HTML(value='')))"
      ]
     },
     "metadata": {},
     "output_type": "display_data"
    },
    {
     "name": "stdout",
     "output_type": "stream",
     "text": [
      "\n",
      "{'accuracy': 0.8317235750238063, 'roc_auc': 0.9047847625737485, 'pr_auc': 0.7961155068449729}\n"
     ]
    },
    {
     "data": {
      "text/html": [
       "<div>\n",
       "<style scoped>\n",
       "    .dataframe tbody tr th:only-of-type {\n",
       "        vertical-align: middle;\n",
       "    }\n",
       "\n",
       "    .dataframe tbody tr th {\n",
       "        vertical-align: top;\n",
       "    }\n",
       "\n",
       "    .dataframe thead th {\n",
       "        text-align: right;\n",
       "    }\n",
       "</style>\n",
       "<table border=\"1\" class=\"dataframe\">\n",
       "  <thead>\n",
       "    <tr style=\"text-align: right;\">\n",
       "      <th></th>\n",
       "      <th>0</th>\n",
       "      <th>1</th>\n",
       "      <th>micro avg</th>\n",
       "      <th>macro avg</th>\n",
       "      <th>weighted avg</th>\n",
       "    </tr>\n",
       "  </thead>\n",
       "  <tbody>\n",
       "    <tr>\n",
       "      <th>f1-score</th>\n",
       "      <td>0.882</td>\n",
       "      <td>0.710</td>\n",
       "      <td>0.832</td>\n",
       "      <td>0.796</td>\n",
       "      <td>0.837</td>\n",
       "    </tr>\n",
       "    <tr>\n",
       "      <th>precision</th>\n",
       "      <td>0.925</td>\n",
       "      <td>0.637</td>\n",
       "      <td>0.832</td>\n",
       "      <td>0.781</td>\n",
       "      <td>0.851</td>\n",
       "    </tr>\n",
       "    <tr>\n",
       "      <th>recall</th>\n",
       "      <td>0.842</td>\n",
       "      <td>0.801</td>\n",
       "      <td>0.832</td>\n",
       "      <td>0.822</td>\n",
       "      <td>0.832</td>\n",
       "    </tr>\n",
       "    <tr>\n",
       "      <th>support</th>\n",
       "      <td>5465.000</td>\n",
       "      <td>1886.000</td>\n",
       "      <td>7351.000</td>\n",
       "      <td>7351.000</td>\n",
       "      <td>7351.000</td>\n",
       "    </tr>\n",
       "  </tbody>\n",
       "</table>\n",
       "</div>"
      ],
      "text/plain": [
       "                  0         1  micro avg  macro avg  weighted avg\n",
       "f1-score      0.882     0.710      0.832      0.796         0.837\n",
       "precision     0.925     0.637      0.832      0.781         0.851\n",
       "recall        0.842     0.801      0.832      0.822         0.832\n",
       "support    5465.000  1886.000   7351.000   7351.000      7351.000"
      ]
     },
     "metadata": {},
     "output_type": "display_data"
    },
    {
     "name": "stderr",
     "output_type": "stream",
     "text": [
      "INFO - 2019-03-27 18:10:50,657 - instantiating class <class 'PatientVec.models.Model.Model'> from params {'type': 'seq_classifier_with_structured_attention', 'embedder': {'type': 'token_embedder', 'vocab_size': 29286, 'embed_size': 200, 'embedding_file': './preprocess/Mortality/embedding_matrix.npy'}, 'decoder': {'num_layers': 2, 'hidden_dims': [128, 1], 'activations': ['tanh', 'linear']}, 'predictor': {'type': 'binary'}, 'structured': {'use_structured': False}, 'encoder': {'type': 'lstm', 'hidden_size': 128}, 'attention': {'similarity': {'type': 'additive', 'hidden_size': 128, 'tensor_2_dim': 50}}} and extras {}\n",
      "INFO - 2019-03-27 18:10:50,657 - type = seq_classifier_with_structured_attention\n",
      "INFO - 2019-03-27 18:10:50,657 - instantiating class <class 'PatientVec.models.modules.Embedder.Embedder'> from params {'type': 'token_embedder', 'vocab_size': 29286, 'embed_size': 200, 'embedding_file': './preprocess/Mortality/embedding_matrix.npy'} and extras {}\n",
      "INFO - 2019-03-27 18:10:50,658 - embedder.type = token_embedder\n",
      "INFO - 2019-03-27 18:10:50,658 - instantiating class <class 'PatientVec.models.modules.Embedder.TokenEmbedder'> from params {'vocab_size': 29286, 'embed_size': 200, 'embedding_file': './preprocess/Mortality/embedding_matrix.npy'} and extras {}\n",
      "INFO - 2019-03-27 18:10:50,658 - embedder.vocab_size = 29286\n",
      "INFO - 2019-03-27 18:10:50,659 - embedder.embed_size = 200\n",
      "INFO - 2019-03-27 18:10:50,659 - embedder.embedding_file = ./preprocess/Mortality/embedding_matrix.npy\n",
      "INFO - 2019-03-27 18:10:50,674 - instantiating class <class 'PatientVec.models.modules.Encoder.Encoder'> from params {'type': 'lstm', 'hidden_size': 128} and extras {'input_size': 200}\n",
      "INFO - 2019-03-27 18:10:50,674 - encoder.type = lstm\n",
      "INFO - 2019-03-27 18:10:50,674 - instantiating class <class 'PatientVec.models.modules.Encoder.wrap_pytorch_rnn.<locals>.BiRNNEncoder'> from params {'hidden_size': 128} and extras {'input_size': 200}\n",
      "INFO - 2019-03-27 18:10:50,675 - encoder.hidden_size = 128\n",
      "INFO - 2019-03-27 18:10:50,677 - instantiating class <class 'PatientVec.models.modules.Attention.Attention'> from params {'similarity': {'type': 'additive', 'hidden_size': 128, 'tensor_2_dim': 50, 'tensor_1_dim': 256}} and extras {}\n",
      "INFO - 2019-03-27 18:10:50,677 - instantiating class <class 'PatientVec.models.modules.BiSimilarity.BiSimilarity'> from params {'type': 'additive', 'hidden_size': 128, 'tensor_2_dim': 50, 'tensor_1_dim': 256} and extras {}\n",
      "INFO - 2019-03-27 18:10:50,677 - attention.similarity.type = additive\n",
      "INFO - 2019-03-27 18:10:50,678 - instantiating class <class 'PatientVec.models.modules.BiSimilarity.BiAdditiveSimilarity'> from params {'hidden_size': 128, 'tensor_2_dim': 50, 'tensor_1_dim': 256} and extras {}\n",
      "INFO - 2019-03-27 18:10:50,678 - attention.similarity.tensor_1_dim = 256\n",
      "INFO - 2019-03-27 18:10:50,678 - attention.similarity.tensor_2_dim = 50\n",
      "INFO - 2019-03-27 18:10:50,679 - attention.similarity.hidden_size = 128\n",
      "INFO - 2019-03-27 18:10:50,680 - attention.normaliser = softmax\n",
      "INFO - 2019-03-27 18:10:50,680 - decoder.input_dim = 256\n",
      "INFO - 2019-03-27 18:10:50,680 - decoder.num_layers = 2\n",
      "INFO - 2019-03-27 18:10:50,681 - decoder.hidden_dims = [128, 1]\n",
      "INFO - 2019-03-27 18:10:50,681 - decoder.activations = ['tanh', 'linear']\n",
      "INFO - 2019-03-27 18:10:50,681 - decoder.dropout = 0.0\n",
      "INFO - 2019-03-27 18:10:50,683 - instantiating class <class 'PatientVec.models.modules.Predictor.Predictor'> from params {'type': 'binary'} and extras {}\n",
      "INFO - 2019-03-27 18:10:50,683 - predictor.type = binary\n",
      "INFO - 2019-03-27 18:10:50,683 - instantiating class <class 'PatientVec.models.modules.Predictor.Binary_Predictor'> from params {} and extras {}\n",
      "INFO - 2019-03-27 18:10:50,683 - predictor.replicate = False\n",
      "INFO - 2019-03-27 18:10:50,684 - predictor.alpha = 0.5\n",
      "INFO - 2019-03-27 18:10:50,692 - instantiating class <class 'PatientVec.models.Model.Model'> from params {'type': 'seq_classifier_with_structured_attention', 'embedder': {'type': 'token_embedder', 'vocab_size': 29286, 'embed_size': 200, 'embedding_file': '/scratch/jain.sar/PatientVec/preprocess/Mortality/embedding_matrix.npy'}, 'decoder': {'num_layers': 2, 'hidden_dims': [128, 1], 'activations': ['tanh', 'linear']}, 'predictor': {'type': 'binary'}, 'structured': {'use_structured': False}, 'encoder': {'type': 'lstm', 'hidden_size': 128}, 'attention': {'similarity': {'type': 'additive', 'hidden_size': 128, 'tensor_2_dim': 50}}} and extras {}\n",
      "INFO - 2019-03-27 18:10:50,692 - type = seq_classifier_with_structured_attention\n",
      "INFO - 2019-03-27 18:10:50,692 - instantiating class <class 'PatientVec.models.modules.Embedder.Embedder'> from params {'type': 'token_embedder', 'vocab_size': 29286, 'embed_size': 200, 'embedding_file': '/scratch/jain.sar/PatientVec/preprocess/Mortality/embedding_matrix.npy'} and extras {}\n",
      "INFO - 2019-03-27 18:10:50,693 - embedder.type = token_embedder\n",
      "INFO - 2019-03-27 18:10:50,693 - instantiating class <class 'PatientVec.models.modules.Embedder.TokenEmbedder'> from params {'vocab_size': 29286, 'embed_size': 200, 'embedding_file': '/scratch/jain.sar/PatientVec/preprocess/Mortality/embedding_matrix.npy'} and extras {}\n",
      "INFO - 2019-03-27 18:10:50,693 - embedder.vocab_size = 29286\n",
      "INFO - 2019-03-27 18:10:50,694 - embedder.embed_size = 200\n",
      "INFO - 2019-03-27 18:10:50,694 - embedder.embedding_file = /scratch/jain.sar/PatientVec/preprocess/Mortality/embedding_matrix.npy\n",
      "INFO - 2019-03-27 18:10:50,722 - instantiating class <class 'PatientVec.models.modules.Encoder.Encoder'> from params {'type': 'lstm', 'hidden_size': 128} and extras {'input_size': 200}\n",
      "INFO - 2019-03-27 18:10:50,723 - encoder.type = lstm\n",
      "INFO - 2019-03-27 18:10:50,723 - instantiating class <class 'PatientVec.models.modules.Encoder.wrap_pytorch_rnn.<locals>.BiRNNEncoder'> from params {'hidden_size': 128} and extras {'input_size': 200}\n",
      "INFO - 2019-03-27 18:10:50,723 - encoder.hidden_size = 128\n",
      "INFO - 2019-03-27 18:10:50,725 - instantiating class <class 'PatientVec.models.modules.Attention.Attention'> from params {'similarity': {'type': 'additive', 'hidden_size': 128, 'tensor_2_dim': 50, 'tensor_1_dim': 256}} and extras {}\n",
      "INFO - 2019-03-27 18:10:50,726 - instantiating class <class 'PatientVec.models.modules.BiSimilarity.BiSimilarity'> from params {'type': 'additive', 'hidden_size': 128, 'tensor_2_dim': 50, 'tensor_1_dim': 256} and extras {}\n",
      "INFO - 2019-03-27 18:10:50,726 - attention.similarity.type = additive\n",
      "INFO - 2019-03-27 18:10:50,726 - instantiating class <class 'PatientVec.models.modules.BiSimilarity.BiAdditiveSimilarity'> from params {'hidden_size': 128, 'tensor_2_dim': 50, 'tensor_1_dim': 256} and extras {}\n",
      "INFO - 2019-03-27 18:10:50,727 - attention.similarity.tensor_1_dim = 256\n",
      "INFO - 2019-03-27 18:10:50,727 - attention.similarity.tensor_2_dim = 50\n",
      "INFO - 2019-03-27 18:10:50,727 - attention.similarity.hidden_size = 128\n",
      "INFO - 2019-03-27 18:10:50,729 - attention.normaliser = softmax\n",
      "INFO - 2019-03-27 18:10:50,729 - decoder.input_dim = 256\n",
      "INFO - 2019-03-27 18:10:50,729 - decoder.num_layers = 2\n",
      "INFO - 2019-03-27 18:10:50,729 - decoder.hidden_dims = [128, 1]\n",
      "INFO - 2019-03-27 18:10:50,730 - decoder.activations = ['tanh', 'linear']\n",
      "INFO - 2019-03-27 18:10:50,730 - decoder.dropout = 0.0\n",
      "INFO - 2019-03-27 18:10:50,731 - instantiating class <class 'PatientVec.models.modules.Predictor.Predictor'> from params {'type': 'binary'} and extras {}\n",
      "INFO - 2019-03-27 18:10:50,731 - predictor.type = binary\n",
      "INFO - 2019-03-27 18:10:50,732 - instantiating class <class 'PatientVec.models.modules.Predictor.Binary_Predictor'> from params {} and extras {}\n",
      "INFO - 2019-03-27 18:10:50,732 - predictor.replicate = False\n",
      "INFO - 2019-03-27 18:10:50,732 - predictor.alpha = 0.5\n"
     ]
    },
    {
     "name": "stdout",
     "output_type": "stream",
     "text": [
      "============================================================================================================================================================================================================================================================================================================\n",
      "{'model': {'type': 'seq_classifier_with_structured_attention', 'embedder': {'type': 'token_embedder', 'vocab_size': 29286, 'embed_size': 200, 'embedding_file': './preprocess/Mortality/embedding_matrix.npy'}, 'decoder': {'num_layers': 2, 'hidden_dims': [128, 1], 'activations': ['tanh', 'linear']}, 'predictor': {'type': 'binary'}, 'structured': {'use_structured': False}, 'encoder': {'type': 'lstm', 'hidden_size': 128}, 'attention': {'similarity': {'type': 'additive', 'hidden_size': 128, 'tensor_2_dim': 50}}}, 'training_config': {'type': 'Adam', 'groups': [('.*', {'lr': 0.001, 'weight_decay': 1e-05})], 'common': {'bsize': 32, 'class_weight': True}}, 'exp_config': {'exp_name': 'Mortality_1yr/Structured Attention/LSTM(hs=128)+Attention(additive)(all)(hs=128)', 'basepath': 'outputs/'}}\n",
      "Setting Embedding\n",
      "Error, Embedding file given but doesn't exists ... /scratch/jain.sar/PatientVec/preprocess/Mortality/embedding_matrix.npy\n"
     ]
    },
    {
     "data": {
      "application/vnd.jupyter.widget-view+json": {
       "model_id": "36b0b3bb14724358b6b207538ae7a100",
       "version_major": 2,
       "version_minor": 0
      },
      "text/plain": [
       "HBox(children=(IntProgress(value=0, max=184), HTML(value='')))"
      ]
     },
     "metadata": {},
     "output_type": "display_data"
    },
    {
     "name": "stdout",
     "output_type": "stream",
     "text": [
      "\n",
      "{'accuracy': 0.812446862778439, 'roc_auc': 0.9001793105328278, 'pr_auc': 0.7863618177343632}\n"
     ]
    },
    {
     "data": {
      "text/html": [
       "<div>\n",
       "<style scoped>\n",
       "    .dataframe tbody tr th:only-of-type {\n",
       "        vertical-align: middle;\n",
       "    }\n",
       "\n",
       "    .dataframe tbody tr th {\n",
       "        vertical-align: top;\n",
       "    }\n",
       "\n",
       "    .dataframe thead th {\n",
       "        text-align: right;\n",
       "    }\n",
       "</style>\n",
       "<table border=\"1\" class=\"dataframe\">\n",
       "  <thead>\n",
       "    <tr style=\"text-align: right;\">\n",
       "      <th></th>\n",
       "      <th>0</th>\n",
       "      <th>1</th>\n",
       "      <th>micro avg</th>\n",
       "      <th>macro avg</th>\n",
       "      <th>weighted avg</th>\n",
       "    </tr>\n",
       "  </thead>\n",
       "  <tbody>\n",
       "    <tr>\n",
       "      <th>f1-score</th>\n",
       "      <td>0.865</td>\n",
       "      <td>0.695</td>\n",
       "      <td>0.812</td>\n",
       "      <td>0.780</td>\n",
       "      <td>0.821</td>\n",
       "    </tr>\n",
       "    <tr>\n",
       "      <th>precision</th>\n",
       "      <td>0.933</td>\n",
       "      <td>0.597</td>\n",
       "      <td>0.812</td>\n",
       "      <td>0.765</td>\n",
       "      <td>0.847</td>\n",
       "    </tr>\n",
       "    <tr>\n",
       "      <th>recall</th>\n",
       "      <td>0.805</td>\n",
       "      <td>0.833</td>\n",
       "      <td>0.812</td>\n",
       "      <td>0.819</td>\n",
       "      <td>0.812</td>\n",
       "    </tr>\n",
       "    <tr>\n",
       "      <th>support</th>\n",
       "      <td>4370.000</td>\n",
       "      <td>1511.000</td>\n",
       "      <td>5881.000</td>\n",
       "      <td>5881.000</td>\n",
       "      <td>5881.000</td>\n",
       "    </tr>\n",
       "  </tbody>\n",
       "</table>\n",
       "</div>"
      ],
      "text/plain": [
       "                  0         1  micro avg  macro avg  weighted avg\n",
       "f1-score      0.865     0.695      0.812      0.780         0.821\n",
       "precision     0.933     0.597      0.812      0.765         0.847\n",
       "recall        0.805     0.833      0.812      0.819         0.812\n",
       "support    4370.000  1511.000   5881.000   5881.000      5881.000"
      ]
     },
     "metadata": {},
     "output_type": "display_data"
    },
    {
     "data": {
      "application/vnd.jupyter.widget-view+json": {
       "model_id": "3e20d0999c8747b4bb5dd0423975f4b9",
       "version_major": 2,
       "version_minor": 0
      },
      "text/plain": [
       "HBox(children=(IntProgress(value=0, max=230), HTML(value='')))"
      ]
     },
     "metadata": {},
     "output_type": "display_data"
    },
    {
     "name": "stdout",
     "output_type": "stream",
     "text": [
      "\n",
      "{'accuracy': 0.8087335056454904, 'roc_auc': 0.9071989979615775, 'pr_auc': 0.8000306308606058}\n"
     ]
    },
    {
     "data": {
      "text/html": [
       "<div>\n",
       "<style scoped>\n",
       "    .dataframe tbody tr th:only-of-type {\n",
       "        vertical-align: middle;\n",
       "    }\n",
       "\n",
       "    .dataframe tbody tr th {\n",
       "        vertical-align: top;\n",
       "    }\n",
       "\n",
       "    .dataframe thead th {\n",
       "        text-align: right;\n",
       "    }\n",
       "</style>\n",
       "<table border=\"1\" class=\"dataframe\">\n",
       "  <thead>\n",
       "    <tr style=\"text-align: right;\">\n",
       "      <th></th>\n",
       "      <th>0</th>\n",
       "      <th>1</th>\n",
       "      <th>micro avg</th>\n",
       "      <th>macro avg</th>\n",
       "      <th>weighted avg</th>\n",
       "    </tr>\n",
       "  </thead>\n",
       "  <tbody>\n",
       "    <tr>\n",
       "      <th>f1-score</th>\n",
       "      <td>0.861</td>\n",
       "      <td>0.695</td>\n",
       "      <td>0.809</td>\n",
       "      <td>0.778</td>\n",
       "      <td>0.818</td>\n",
       "    </tr>\n",
       "    <tr>\n",
       "      <th>precision</th>\n",
       "      <td>0.939</td>\n",
       "      <td>0.588</td>\n",
       "      <td>0.809</td>\n",
       "      <td>0.763</td>\n",
       "      <td>0.849</td>\n",
       "    </tr>\n",
       "    <tr>\n",
       "      <th>recall</th>\n",
       "      <td>0.795</td>\n",
       "      <td>0.849</td>\n",
       "      <td>0.809</td>\n",
       "      <td>0.822</td>\n",
       "      <td>0.809</td>\n",
       "    </tr>\n",
       "    <tr>\n",
       "      <th>support</th>\n",
       "      <td>5465.000</td>\n",
       "      <td>1886.000</td>\n",
       "      <td>7351.000</td>\n",
       "      <td>7351.000</td>\n",
       "      <td>7351.000</td>\n",
       "    </tr>\n",
       "  </tbody>\n",
       "</table>\n",
       "</div>"
      ],
      "text/plain": [
       "                  0         1  micro avg  macro avg  weighted avg\n",
       "f1-score      0.861     0.695      0.809      0.778         0.818\n",
       "precision     0.939     0.588      0.809      0.763         0.849\n",
       "recall        0.795     0.849      0.809      0.822         0.809\n",
       "support    5465.000  1886.000   7351.000   7351.000      7351.000"
      ]
     },
     "metadata": {},
     "output_type": "display_data"
    },
    {
     "name": "stderr",
     "output_type": "stream",
     "text": [
      "INFO - 2019-03-27 18:13:47,756 - instantiating class <class 'PatientVec.models.Model.Model'> from params {'type': 'seq_classifier_with_structured_attention', 'embedder': {'type': 'token_embedder', 'vocab_size': 29286, 'embed_size': 200, 'embedding_file': './preprocess/Mortality/embedding_matrix.npy'}, 'decoder': {'num_layers': 2, 'hidden_dims': [128, 1], 'activations': ['tanh', 'linear']}, 'predictor': {'type': 'binary'}, 'structured': {'use_structured': False}, 'encoder': {'type': 'cnn', 'hidden_size': 64, 'kernel_sizes': [3, 5, 7, 9], 'activation': 'relu'}, 'attention': {'similarity': {'type': 'additive', 'hidden_size': 128, 'tensor_2_dim': 50}}} and extras {}\n",
      "INFO - 2019-03-27 18:13:47,756 - type = seq_classifier_with_structured_attention\n",
      "INFO - 2019-03-27 18:13:47,757 - instantiating class <class 'PatientVec.models.modules.Embedder.Embedder'> from params {'type': 'token_embedder', 'vocab_size': 29286, 'embed_size': 200, 'embedding_file': './preprocess/Mortality/embedding_matrix.npy'} and extras {}\n",
      "INFO - 2019-03-27 18:13:47,757 - embedder.type = token_embedder\n",
      "INFO - 2019-03-27 18:13:47,758 - instantiating class <class 'PatientVec.models.modules.Embedder.TokenEmbedder'> from params {'vocab_size': 29286, 'embed_size': 200, 'embedding_file': './preprocess/Mortality/embedding_matrix.npy'} and extras {}\n",
      "INFO - 2019-03-27 18:13:47,758 - embedder.vocab_size = 29286\n",
      "INFO - 2019-03-27 18:13:47,759 - embedder.embed_size = 200\n",
      "INFO - 2019-03-27 18:13:47,759 - embedder.embedding_file = ./preprocess/Mortality/embedding_matrix.npy\n",
      "INFO - 2019-03-27 18:13:47,774 - instantiating class <class 'PatientVec.models.modules.Encoder.Encoder'> from params {'type': 'cnn', 'hidden_size': 64, 'kernel_sizes': [3, 5, 7, 9], 'activation': 'relu'} and extras {'input_size': 200}\n",
      "INFO - 2019-03-27 18:13:47,774 - encoder.type = cnn\n",
      "INFO - 2019-03-27 18:13:47,774 - instantiating class <class 'PatientVec.models.modules.Encoder.CNNEncoder'> from params {'hidden_size': 64, 'kernel_sizes': [3, 5, 7, 9], 'activation': 'relu'} and extras {'input_size': 200}\n",
      "INFO - 2019-03-27 18:13:47,775 - encoder.hidden_size = 64\n",
      "INFO - 2019-03-27 18:13:47,775 - encoder.kernel_sizes = [3, 5, 7, 9]\n",
      "INFO - 2019-03-27 18:13:47,775 - encoder.activation = relu\n",
      "INFO - 2019-03-27 18:13:47,778 - instantiating class <class 'PatientVec.models.modules.Attention.Attention'> from params {'similarity': {'type': 'additive', 'hidden_size': 128, 'tensor_2_dim': 50, 'tensor_1_dim': 256}} and extras {}\n",
      "INFO - 2019-03-27 18:13:47,778 - instantiating class <class 'PatientVec.models.modules.BiSimilarity.BiSimilarity'> from params {'type': 'additive', 'hidden_size': 128, 'tensor_2_dim': 50, 'tensor_1_dim': 256} and extras {}\n",
      "INFO - 2019-03-27 18:13:47,779 - attention.similarity.type = additive\n",
      "INFO - 2019-03-27 18:13:47,779 - instantiating class <class 'PatientVec.models.modules.BiSimilarity.BiAdditiveSimilarity'> from params {'hidden_size': 128, 'tensor_2_dim': 50, 'tensor_1_dim': 256} and extras {}\n",
      "INFO - 2019-03-27 18:13:47,779 - attention.similarity.tensor_1_dim = 256\n",
      "INFO - 2019-03-27 18:13:47,780 - attention.similarity.tensor_2_dim = 50\n",
      "INFO - 2019-03-27 18:13:47,780 - attention.similarity.hidden_size = 128\n",
      "INFO - 2019-03-27 18:13:47,782 - attention.normaliser = softmax\n",
      "INFO - 2019-03-27 18:13:47,782 - decoder.input_dim = 256\n",
      "INFO - 2019-03-27 18:13:47,782 - decoder.num_layers = 2\n",
      "INFO - 2019-03-27 18:13:47,782 - decoder.hidden_dims = [128, 1]\n",
      "INFO - 2019-03-27 18:13:47,783 - decoder.activations = ['tanh', 'linear']\n",
      "INFO - 2019-03-27 18:13:47,783 - decoder.dropout = 0.0\n",
      "INFO - 2019-03-27 18:13:47,784 - instantiating class <class 'PatientVec.models.modules.Predictor.Predictor'> from params {'type': 'binary'} and extras {}\n",
      "INFO - 2019-03-27 18:13:47,784 - predictor.type = binary\n",
      "INFO - 2019-03-27 18:13:47,785 - instantiating class <class 'PatientVec.models.modules.Predictor.Binary_Predictor'> from params {} and extras {}\n",
      "INFO - 2019-03-27 18:13:47,785 - predictor.replicate = False\n",
      "INFO - 2019-03-27 18:13:47,785 - predictor.alpha = 0.5\n",
      "INFO - 2019-03-27 18:13:47,793 - instantiating class <class 'PatientVec.models.Model.Model'> from params {'type': 'seq_classifier_with_structured_attention', 'embedder': {'type': 'token_embedder', 'vocab_size': 29286, 'embed_size': 200, 'embedding_file': '/scratch/jain.sar/PatientVec/preprocess/Mortality/embedding_matrix.npy'}, 'decoder': {'num_layers': 2, 'hidden_dims': [128, 1], 'activations': ['tanh', 'linear']}, 'predictor': {'type': 'binary'}, 'structured': {'use_structured': False}, 'encoder': {'type': 'cnn', 'hidden_size': 64, 'kernel_sizes': [3, 5, 7, 9], 'activation': 'relu'}, 'attention': {'similarity': {'type': 'additive', 'hidden_size': 128, 'tensor_2_dim': 50}}} and extras {}\n",
      "INFO - 2019-03-27 18:13:47,793 - type = seq_classifier_with_structured_attention\n",
      "INFO - 2019-03-27 18:13:47,794 - instantiating class <class 'PatientVec.models.modules.Embedder.Embedder'> from params {'type': 'token_embedder', 'vocab_size': 29286, 'embed_size': 200, 'embedding_file': '/scratch/jain.sar/PatientVec/preprocess/Mortality/embedding_matrix.npy'} and extras {}\n",
      "INFO - 2019-03-27 18:13:47,794 - embedder.type = token_embedder\n",
      "INFO - 2019-03-27 18:13:47,794 - instantiating class <class 'PatientVec.models.modules.Embedder.TokenEmbedder'> from params {'vocab_size': 29286, 'embed_size': 200, 'embedding_file': '/scratch/jain.sar/PatientVec/preprocess/Mortality/embedding_matrix.npy'} and extras {}\n",
      "INFO - 2019-03-27 18:13:47,795 - embedder.vocab_size = 29286\n",
      "INFO - 2019-03-27 18:13:47,795 - embedder.embed_size = 200\n",
      "INFO - 2019-03-27 18:13:47,795 - embedder.embedding_file = /scratch/jain.sar/PatientVec/preprocess/Mortality/embedding_matrix.npy\n",
      "INFO - 2019-03-27 18:13:47,824 - instantiating class <class 'PatientVec.models.modules.Encoder.Encoder'> from params {'type': 'cnn', 'hidden_size': 64, 'kernel_sizes': [3, 5, 7, 9], 'activation': 'relu'} and extras {'input_size': 200}\n",
      "INFO - 2019-03-27 18:13:47,824 - encoder.type = cnn\n",
      "INFO - 2019-03-27 18:13:47,824 - instantiating class <class 'PatientVec.models.modules.Encoder.CNNEncoder'> from params {'hidden_size': 64, 'kernel_sizes': [3, 5, 7, 9], 'activation': 'relu'} and extras {'input_size': 200}\n",
      "INFO - 2019-03-27 18:13:47,824 - encoder.hidden_size = 64\n",
      "INFO - 2019-03-27 18:13:47,825 - encoder.kernel_sizes = [3, 5, 7, 9]\n",
      "INFO - 2019-03-27 18:13:47,825 - encoder.activation = relu\n",
      "INFO - 2019-03-27 18:13:47,828 - instantiating class <class 'PatientVec.models.modules.Attention.Attention'> from params {'similarity': {'type': 'additive', 'hidden_size': 128, 'tensor_2_dim': 50, 'tensor_1_dim': 256}} and extras {}\n",
      "INFO - 2019-03-27 18:13:47,828 - instantiating class <class 'PatientVec.models.modules.BiSimilarity.BiSimilarity'> from params {'type': 'additive', 'hidden_size': 128, 'tensor_2_dim': 50, 'tensor_1_dim': 256} and extras {}\n",
      "INFO - 2019-03-27 18:13:47,828 - attention.similarity.type = additive\n",
      "INFO - 2019-03-27 18:13:47,828 - instantiating class <class 'PatientVec.models.modules.BiSimilarity.BiAdditiveSimilarity'> from params {'hidden_size': 128, 'tensor_2_dim': 50, 'tensor_1_dim': 256} and extras {}\n",
      "INFO - 2019-03-27 18:13:47,829 - attention.similarity.tensor_1_dim = 256\n",
      "INFO - 2019-03-27 18:13:47,829 - attention.similarity.tensor_2_dim = 50\n",
      "INFO - 2019-03-27 18:13:47,829 - attention.similarity.hidden_size = 128\n",
      "INFO - 2019-03-27 18:13:47,831 - attention.normaliser = softmax\n",
      "INFO - 2019-03-27 18:13:47,831 - decoder.input_dim = 256\n",
      "INFO - 2019-03-27 18:13:47,832 - decoder.num_layers = 2\n",
      "INFO - 2019-03-27 18:13:47,832 - decoder.hidden_dims = [128, 1]\n",
      "INFO - 2019-03-27 18:13:47,832 - decoder.activations = ['tanh', 'linear']\n",
      "INFO - 2019-03-27 18:13:47,832 - decoder.dropout = 0.0\n",
      "INFO - 2019-03-27 18:13:47,834 - instantiating class <class 'PatientVec.models.modules.Predictor.Predictor'> from params {'type': 'binary'} and extras {}\n",
      "INFO - 2019-03-27 18:13:47,834 - predictor.type = binary\n",
      "INFO - 2019-03-27 18:13:47,834 - instantiating class <class 'PatientVec.models.modules.Predictor.Binary_Predictor'> from params {} and extras {}\n",
      "INFO - 2019-03-27 18:13:47,834 - predictor.replicate = False\n",
      "INFO - 2019-03-27 18:13:47,835 - predictor.alpha = 0.5\n"
     ]
    },
    {
     "name": "stdout",
     "output_type": "stream",
     "text": [
      "============================================================================================================================================================================================================================================================================================================\n",
      "{'model': {'type': 'seq_classifier_with_structured_attention', 'embedder': {'type': 'token_embedder', 'vocab_size': 29286, 'embed_size': 200, 'embedding_file': './preprocess/Mortality/embedding_matrix.npy'}, 'decoder': {'num_layers': 2, 'hidden_dims': [128, 1], 'activations': ['tanh', 'linear']}, 'predictor': {'type': 'binary'}, 'structured': {'use_structured': False}, 'encoder': {'type': 'cnn', 'hidden_size': 64, 'kernel_sizes': [3, 5, 7, 9], 'activation': 'relu'}, 'attention': {'similarity': {'type': 'additive', 'hidden_size': 128, 'tensor_2_dim': 50}}}, 'training_config': {'type': 'Adam', 'groups': [('.*', {'lr': 0.001, 'weight_decay': 1e-05})], 'common': {'bsize': 32, 'class_weight': True}}, 'exp_config': {'exp_name': 'Mortality_1yr/Structured Attention/CNN(hs=64)(kernels=3,5,7,9)+Attention(additive)(all)(hs=128)', 'basepath': 'outputs/'}}\n",
      "Setting Embedding\n",
      "Error, Embedding file given but doesn't exists ... /scratch/jain.sar/PatientVec/preprocess/Mortality/embedding_matrix.npy\n"
     ]
    },
    {
     "data": {
      "application/vnd.jupyter.widget-view+json": {
       "model_id": "067676f2a8444b1ebb4f38aace8f54ae",
       "version_major": 2,
       "version_minor": 0
      },
      "text/plain": [
       "HBox(children=(IntProgress(value=0, max=184), HTML(value='')))"
      ]
     },
     "metadata": {},
     "output_type": "display_data"
    },
    {
     "name": "stdout",
     "output_type": "stream",
     "text": [
      "\n",
      "{'accuracy': 0.8059853766366264, 'roc_auc': 0.9021676280881469, 'pr_auc': 0.7873765356035999}\n"
     ]
    },
    {
     "data": {
      "text/html": [
       "<div>\n",
       "<style scoped>\n",
       "    .dataframe tbody tr th:only-of-type {\n",
       "        vertical-align: middle;\n",
       "    }\n",
       "\n",
       "    .dataframe tbody tr th {\n",
       "        vertical-align: top;\n",
       "    }\n",
       "\n",
       "    .dataframe thead th {\n",
       "        text-align: right;\n",
       "    }\n",
       "</style>\n",
       "<table border=\"1\" class=\"dataframe\">\n",
       "  <thead>\n",
       "    <tr style=\"text-align: right;\">\n",
       "      <th></th>\n",
       "      <th>0</th>\n",
       "      <th>1</th>\n",
       "      <th>micro avg</th>\n",
       "      <th>macro avg</th>\n",
       "      <th>weighted avg</th>\n",
       "    </tr>\n",
       "  </thead>\n",
       "  <tbody>\n",
       "    <tr>\n",
       "      <th>f1-score</th>\n",
       "      <td>0.858</td>\n",
       "      <td>0.692</td>\n",
       "      <td>0.806</td>\n",
       "      <td>0.775</td>\n",
       "      <td>0.816</td>\n",
       "    </tr>\n",
       "    <tr>\n",
       "      <th>precision</th>\n",
       "      <td>0.938</td>\n",
       "      <td>0.584</td>\n",
       "      <td>0.806</td>\n",
       "      <td>0.761</td>\n",
       "      <td>0.847</td>\n",
       "    </tr>\n",
       "    <tr>\n",
       "      <th>recall</th>\n",
       "      <td>0.791</td>\n",
       "      <td>0.848</td>\n",
       "      <td>0.806</td>\n",
       "      <td>0.820</td>\n",
       "      <td>0.806</td>\n",
       "    </tr>\n",
       "    <tr>\n",
       "      <th>support</th>\n",
       "      <td>4370.000</td>\n",
       "      <td>1511.000</td>\n",
       "      <td>5881.000</td>\n",
       "      <td>5881.000</td>\n",
       "      <td>5881.000</td>\n",
       "    </tr>\n",
       "  </tbody>\n",
       "</table>\n",
       "</div>"
      ],
      "text/plain": [
       "                  0         1  micro avg  macro avg  weighted avg\n",
       "f1-score      0.858     0.692      0.806      0.775         0.816\n",
       "precision     0.938     0.584      0.806      0.761         0.847\n",
       "recall        0.791     0.848      0.806      0.820         0.806\n",
       "support    4370.000  1511.000   5881.000   5881.000      5881.000"
      ]
     },
     "metadata": {},
     "output_type": "display_data"
    },
    {
     "data": {
      "application/vnd.jupyter.widget-view+json": {
       "model_id": "4691bc771bf440d3a483d92971bf7b27",
       "version_major": 2,
       "version_minor": 0
      },
      "text/plain": [
       "HBox(children=(IntProgress(value=0, max=230), HTML(value='')))"
      ]
     },
     "metadata": {},
     "output_type": "display_data"
    },
    {
     "name": "stdout",
     "output_type": "stream",
     "text": [
      "\n",
      "{'accuracy': 0.8011154944905455, 'roc_auc': 0.9075886849604007, 'pr_auc': 0.7988953145938589}\n"
     ]
    },
    {
     "data": {
      "text/html": [
       "<div>\n",
       "<style scoped>\n",
       "    .dataframe tbody tr th:only-of-type {\n",
       "        vertical-align: middle;\n",
       "    }\n",
       "\n",
       "    .dataframe tbody tr th {\n",
       "        vertical-align: top;\n",
       "    }\n",
       "\n",
       "    .dataframe thead th {\n",
       "        text-align: right;\n",
       "    }\n",
       "</style>\n",
       "<table border=\"1\" class=\"dataframe\">\n",
       "  <thead>\n",
       "    <tr style=\"text-align: right;\">\n",
       "      <th></th>\n",
       "      <th>0</th>\n",
       "      <th>1</th>\n",
       "      <th>micro avg</th>\n",
       "      <th>macro avg</th>\n",
       "      <th>weighted avg</th>\n",
       "    </tr>\n",
       "  </thead>\n",
       "  <tbody>\n",
       "    <tr>\n",
       "      <th>f1-score</th>\n",
       "      <td>0.853</td>\n",
       "      <td>0.691</td>\n",
       "      <td>0.801</td>\n",
       "      <td>0.772</td>\n",
       "      <td>0.812</td>\n",
       "    </tr>\n",
       "    <tr>\n",
       "      <th>precision</th>\n",
       "      <td>0.944</td>\n",
       "      <td>0.575</td>\n",
       "      <td>0.801</td>\n",
       "      <td>0.759</td>\n",
       "      <td>0.849</td>\n",
       "    </tr>\n",
       "    <tr>\n",
       "      <th>recall</th>\n",
       "      <td>0.779</td>\n",
       "      <td>0.866</td>\n",
       "      <td>0.801</td>\n",
       "      <td>0.822</td>\n",
       "      <td>0.801</td>\n",
       "    </tr>\n",
       "    <tr>\n",
       "      <th>support</th>\n",
       "      <td>5465.000</td>\n",
       "      <td>1886.000</td>\n",
       "      <td>7351.000</td>\n",
       "      <td>7351.000</td>\n",
       "      <td>7351.000</td>\n",
       "    </tr>\n",
       "  </tbody>\n",
       "</table>\n",
       "</div>"
      ],
      "text/plain": [
       "                  0         1  micro avg  macro avg  weighted avg\n",
       "f1-score      0.853     0.691      0.801      0.772         0.812\n",
       "precision     0.944     0.575      0.801      0.759         0.849\n",
       "recall        0.779     0.866      0.801      0.822         0.801\n",
       "support    5465.000  1886.000   7351.000   7351.000      7351.000"
      ]
     },
     "metadata": {},
     "output_type": "display_data"
    },
    {
     "name": "stdout",
     "output_type": "stream",
     "text": [
      "============================================================================================================================================================================================================================================================================================================\n",
      "Pos Percentage [0.25239128]\n"
     ]
    },
    {
     "name": "stderr",
     "output_type": "stream",
     "text": [
      "INFO - 2019-03-27 18:15:33,302 - Maximum Sentence Length 721825.000000 , 90 percentile length 18596.000000 ... \n",
      "INFO - 2019-03-27 18:15:39,272 - Truncated all ...\n",
      "INFO - 2019-03-27 18:15:39,312 - Idxs removed []...\n"
     ]
    },
    {
     "name": "stdout",
     "output_type": "stream",
     "text": [
      "Pos Percentage [0.25692909]\n"
     ]
    },
    {
     "name": "stderr",
     "output_type": "stream",
     "text": [
      "INFO - 2019-03-27 18:15:40,154 - Maximum Sentence Length 420764.000000 , 90 percentile length 17662.000000 ... \n",
      "INFO - 2019-03-27 18:15:41,686 - Truncated all ...\n",
      "INFO - 2019-03-27 18:15:41,697 - Idxs removed []...\n"
     ]
    },
    {
     "name": "stdout",
     "output_type": "stream",
     "text": [
      "Pos Percentage [0.25656373]\n"
     ]
    },
    {
     "name": "stderr",
     "output_type": "stream",
     "text": [
      "INFO - 2019-03-27 18:15:42,642 - Maximum Sentence Length 707041.000000 , 90 percentile length 17669.000000 ... \n",
      "INFO - 2019-03-27 18:15:47,602 - Truncated all ...\n",
      "INFO - 2019-03-27 18:15:47,614 - Idxs removed []...\n",
      "INFO - 2019-03-27 18:15:47,671 - instantiating class <class 'PatientVec.models.Model.Model'> from params {'type': 'seq_classifier_with_structured_attention', 'embedder': {'type': 'token_embedder', 'vocab_size': 29286, 'embed_size': 200, 'embedding_file': './preprocess/Mortality/embedding_matrix.npy'}, 'decoder': {'num_layers': 2, 'hidden_dims': [128, 1], 'activations': ['tanh', 'linear']}, 'predictor': {'type': 'binary'}, 'structured': {'use_structured': False}, 'encoder': {'type': 'sru', 'hidden_size': 128}, 'attention': {'similarity': {'type': 'additive', 'hidden_size': 128, 'tensor_2_dim': 50}}} and extras {}\n",
      "INFO - 2019-03-27 18:15:47,672 - type = seq_classifier_with_structured_attention\n",
      "INFO - 2019-03-27 18:15:47,672 - instantiating class <class 'PatientVec.models.modules.Embedder.Embedder'> from params {'type': 'token_embedder', 'vocab_size': 29286, 'embed_size': 200, 'embedding_file': './preprocess/Mortality/embedding_matrix.npy'} and extras {}\n",
      "INFO - 2019-03-27 18:15:47,673 - embedder.type = token_embedder\n",
      "INFO - 2019-03-27 18:15:47,673 - instantiating class <class 'PatientVec.models.modules.Embedder.TokenEmbedder'> from params {'vocab_size': 29286, 'embed_size': 200, 'embedding_file': './preprocess/Mortality/embedding_matrix.npy'} and extras {}\n",
      "INFO - 2019-03-27 18:15:47,673 - embedder.vocab_size = 29286\n",
      "INFO - 2019-03-27 18:15:47,674 - embedder.embed_size = 200\n",
      "INFO - 2019-03-27 18:15:47,674 - embedder.embedding_file = ./preprocess/Mortality/embedding_matrix.npy\n",
      "INFO - 2019-03-27 18:15:47,697 - instantiating class <class 'PatientVec.models.modules.Encoder.Encoder'> from params {'type': 'sru', 'hidden_size': 128} and extras {'input_size': 200}\n",
      "INFO - 2019-03-27 18:15:47,697 - encoder.type = sru\n",
      "INFO - 2019-03-27 18:15:47,697 - instantiating class <class 'PatientVec.models.modules.Encoder.SRUEncoder'> from params {'hidden_size': 128} and extras {'input_size': 200}\n",
      "INFO - 2019-03-27 18:15:47,698 - encoder.hidden_size = 128\n",
      "INFO - 2019-03-27 18:15:47,701 - instantiating class <class 'PatientVec.models.modules.Attention.Attention'> from params {'similarity': {'type': 'additive', 'hidden_size': 128, 'tensor_2_dim': 50, 'tensor_1_dim': 256}} and extras {}\n",
      "INFO - 2019-03-27 18:15:47,701 - instantiating class <class 'PatientVec.models.modules.BiSimilarity.BiSimilarity'> from params {'type': 'additive', 'hidden_size': 128, 'tensor_2_dim': 50, 'tensor_1_dim': 256} and extras {}\n",
      "INFO - 2019-03-27 18:15:47,702 - attention.similarity.type = additive\n",
      "INFO - 2019-03-27 18:15:47,702 - instantiating class <class 'PatientVec.models.modules.BiSimilarity.BiAdditiveSimilarity'> from params {'hidden_size': 128, 'tensor_2_dim': 50, 'tensor_1_dim': 256} and extras {}\n",
      "INFO - 2019-03-27 18:15:47,702 - attention.similarity.tensor_1_dim = 256\n",
      "INFO - 2019-03-27 18:15:47,702 - attention.similarity.tensor_2_dim = 50\n",
      "INFO - 2019-03-27 18:15:47,703 - attention.similarity.hidden_size = 128\n",
      "INFO - 2019-03-27 18:15:47,704 - attention.normaliser = softmax\n",
      "INFO - 2019-03-27 18:15:47,704 - decoder.input_dim = 256\n",
      "INFO - 2019-03-27 18:15:47,705 - decoder.num_layers = 2\n",
      "INFO - 2019-03-27 18:15:47,705 - decoder.hidden_dims = [128, 1]\n",
      "INFO - 2019-03-27 18:15:47,705 - decoder.activations = ['tanh', 'linear']\n",
      "INFO - 2019-03-27 18:15:47,705 - decoder.dropout = 0.0\n",
      "INFO - 2019-03-27 18:15:47,707 - instantiating class <class 'PatientVec.models.modules.Predictor.Predictor'> from params {'type': 'binary'} and extras {}\n",
      "INFO - 2019-03-27 18:15:47,707 - predictor.type = binary\n",
      "INFO - 2019-03-27 18:15:47,708 - instantiating class <class 'PatientVec.models.modules.Predictor.Binary_Predictor'> from params {} and extras {}\n",
      "INFO - 2019-03-27 18:15:47,709 - predictor.replicate = False\n",
      "INFO - 2019-03-27 18:15:47,709 - predictor.alpha = 0.5\n",
      "INFO - 2019-03-27 18:15:47,716 - instantiating class <class 'PatientVec.models.Model.Model'> from params {'type': 'seq_classifier_with_structured_attention', 'embedder': {'type': 'token_embedder', 'vocab_size': 29286, 'embed_size': 200, 'embedding_file': './preprocess/Mortality/embedding_matrix.npy'}, 'decoder': {'num_layers': 2, 'hidden_dims': [128, 1], 'activations': ['tanh', 'linear']}, 'predictor': {'type': 'binary'}, 'structured': {'use_structured': False}, 'encoder': {'type': 'sru', 'hidden_size': 128}, 'attention': {'similarity': {'type': 'additive', 'hidden_size': 128, 'tensor_2_dim': 50}}} and extras {}\n",
      "INFO - 2019-03-27 18:15:47,716 - type = seq_classifier_with_structured_attention\n",
      "INFO - 2019-03-27 18:15:47,716 - instantiating class <class 'PatientVec.models.modules.Embedder.Embedder'> from params {'type': 'token_embedder', 'vocab_size': 29286, 'embed_size': 200, 'embedding_file': './preprocess/Mortality/embedding_matrix.npy'} and extras {}\n",
      "INFO - 2019-03-27 18:15:47,717 - embedder.type = token_embedder\n",
      "INFO - 2019-03-27 18:15:47,717 - instantiating class <class 'PatientVec.models.modules.Embedder.TokenEmbedder'> from params {'vocab_size': 29286, 'embed_size': 200, 'embedding_file': './preprocess/Mortality/embedding_matrix.npy'} and extras {}\n",
      "INFO - 2019-03-27 18:15:47,717 - embedder.vocab_size = 29286\n",
      "INFO - 2019-03-27 18:15:47,718 - embedder.embed_size = 200\n",
      "INFO - 2019-03-27 18:15:47,718 - embedder.embedding_file = ./preprocess/Mortality/embedding_matrix.npy\n",
      "INFO - 2019-03-27 18:15:47,740 - instantiating class <class 'PatientVec.models.modules.Encoder.Encoder'> from params {'type': 'sru', 'hidden_size': 128} and extras {'input_size': 200}\n",
      "INFO - 2019-03-27 18:15:47,740 - encoder.type = sru\n",
      "INFO - 2019-03-27 18:15:47,740 - instantiating class <class 'PatientVec.models.modules.Encoder.SRUEncoder'> from params {'hidden_size': 128} and extras {'input_size': 200}\n",
      "INFO - 2019-03-27 18:15:47,741 - encoder.hidden_size = 128\n",
      "INFO - 2019-03-27 18:15:47,743 - instantiating class <class 'PatientVec.models.modules.Attention.Attention'> from params {'similarity': {'type': 'additive', 'hidden_size': 128, 'tensor_2_dim': 50, 'tensor_1_dim': 256}} and extras {}\n",
      "INFO - 2019-03-27 18:15:47,744 - instantiating class <class 'PatientVec.models.modules.BiSimilarity.BiSimilarity'> from params {'type': 'additive', 'hidden_size': 128, 'tensor_2_dim': 50, 'tensor_1_dim': 256} and extras {}\n",
      "INFO - 2019-03-27 18:15:47,744 - attention.similarity.type = additive\n",
      "INFO - 2019-03-27 18:15:47,744 - instantiating class <class 'PatientVec.models.modules.BiSimilarity.BiAdditiveSimilarity'> from params {'hidden_size': 128, 'tensor_2_dim': 50, 'tensor_1_dim': 256} and extras {}\n",
      "INFO - 2019-03-27 18:15:47,745 - attention.similarity.tensor_1_dim = 256\n",
      "INFO - 2019-03-27 18:15:47,745 - attention.similarity.tensor_2_dim = 50\n",
      "INFO - 2019-03-27 18:15:47,745 - attention.similarity.hidden_size = 128\n",
      "INFO - 2019-03-27 18:15:47,746 - attention.normaliser = softmax\n",
      "INFO - 2019-03-27 18:15:47,747 - decoder.input_dim = 256\n",
      "INFO - 2019-03-27 18:15:47,747 - decoder.num_layers = 2\n",
      "INFO - 2019-03-27 18:15:47,747 - decoder.hidden_dims = [128, 1]\n",
      "INFO - 2019-03-27 18:15:47,747 - decoder.activations = ['tanh', 'linear']\n",
      "INFO - 2019-03-27 18:15:47,748 - decoder.dropout = 0.0\n",
      "INFO - 2019-03-27 18:15:47,748 - instantiating class <class 'PatientVec.models.modules.Predictor.Predictor'> from params {'type': 'binary'} and extras {}\n",
      "INFO - 2019-03-27 18:15:47,749 - predictor.type = binary\n",
      "INFO - 2019-03-27 18:15:47,749 - instantiating class <class 'PatientVec.models.modules.Predictor.Binary_Predictor'> from params {} and extras {}\n",
      "INFO - 2019-03-27 18:15:47,749 - predictor.replicate = False\n",
      "INFO - 2019-03-27 18:15:47,750 - predictor.alpha = 0.5\n"
     ]
    },
    {
     "name": "stdout",
     "output_type": "stream",
     "text": [
      "{'model': {'type': 'seq_classifier_with_structured_attention', 'embedder': {'type': 'token_embedder', 'vocab_size': 29286, 'embed_size': 200, 'embedding_file': './preprocess/Mortality/embedding_matrix.npy'}, 'decoder': {'num_layers': 2, 'hidden_dims': [128, 1], 'activations': ['tanh', 'linear']}, 'predictor': {'type': 'binary'}, 'structured': {'use_structured': False}, 'encoder': {'type': 'sru', 'hidden_size': 128}, 'attention': {'similarity': {'type': 'additive', 'hidden_size': 128, 'tensor_2_dim': 50}}}, 'training_config': {'type': 'Adam', 'groups': [('.*', {'lr': 0.001, 'weight_decay': 1e-05})], 'common': {'bsize': 32, 'class_weight': True}}, 'exp_config': {'exp_name': 'Mortality_1yr/Structured Attention/SRU(hs=128)+Attention(additive)(all)(hs=128)', 'basepath': 'outputs/'}}\n",
      "Setting Embedding\n",
      "Setting Embedding\n"
     ]
    },
    {
     "data": {
      "application/vnd.jupyter.widget-view+json": {
       "model_id": "b045095b274b4c6ab86b3dca74988615",
       "version_major": 2,
       "version_minor": 0
      },
      "text/plain": [
       "HBox(children=(IntProgress(value=0, max=184), HTML(value='')))"
      ]
     },
     "metadata": {},
     "output_type": "display_data"
    },
    {
     "name": "stdout",
     "output_type": "stream",
     "text": [
      "\n",
      "{'accuracy': 0.7884713484101343, 'roc_auc': 0.9000808714734206, 'pr_auc': 0.7848031961875381}\n"
     ]
    },
    {
     "data": {
      "text/html": [
       "<div>\n",
       "<style scoped>\n",
       "    .dataframe tbody tr th:only-of-type {\n",
       "        vertical-align: middle;\n",
       "    }\n",
       "\n",
       "    .dataframe tbody tr th {\n",
       "        vertical-align: top;\n",
       "    }\n",
       "\n",
       "    .dataframe thead th {\n",
       "        text-align: right;\n",
       "    }\n",
       "</style>\n",
       "<table border=\"1\" class=\"dataframe\">\n",
       "  <thead>\n",
       "    <tr style=\"text-align: right;\">\n",
       "      <th></th>\n",
       "      <th>0</th>\n",
       "      <th>1</th>\n",
       "      <th>micro avg</th>\n",
       "      <th>macro avg</th>\n",
       "      <th>weighted avg</th>\n",
       "    </tr>\n",
       "  </thead>\n",
       "  <tbody>\n",
       "    <tr>\n",
       "      <th>f1-score</th>\n",
       "      <td>0.842</td>\n",
       "      <td>0.681</td>\n",
       "      <td>0.788</td>\n",
       "      <td>0.761</td>\n",
       "      <td>0.800</td>\n",
       "    </tr>\n",
       "    <tr>\n",
       "      <th>precision</th>\n",
       "      <td>0.948</td>\n",
       "      <td>0.556</td>\n",
       "      <td>0.788</td>\n",
       "      <td>0.752</td>\n",
       "      <td>0.847</td>\n",
       "    </tr>\n",
       "    <tr>\n",
       "      <th>recall</th>\n",
       "      <td>0.757</td>\n",
       "      <td>0.879</td>\n",
       "      <td>0.788</td>\n",
       "      <td>0.818</td>\n",
       "      <td>0.788</td>\n",
       "    </tr>\n",
       "    <tr>\n",
       "      <th>support</th>\n",
       "      <td>4370.000</td>\n",
       "      <td>1511.000</td>\n",
       "      <td>5881.000</td>\n",
       "      <td>5881.000</td>\n",
       "      <td>5881.000</td>\n",
       "    </tr>\n",
       "  </tbody>\n",
       "</table>\n",
       "</div>"
      ],
      "text/plain": [
       "                  0         1  micro avg  macro avg  weighted avg\n",
       "f1-score      0.842     0.681      0.788      0.761         0.800\n",
       "precision     0.948     0.556      0.788      0.752         0.847\n",
       "recall        0.757     0.879      0.788      0.818         0.788\n",
       "support    4370.000  1511.000   5881.000   5881.000      5881.000"
      ]
     },
     "metadata": {},
     "output_type": "display_data"
    },
    {
     "data": {
      "application/vnd.jupyter.widget-view+json": {
       "model_id": "931d16713a7948e5ba6c45c694319769",
       "version_major": 2,
       "version_minor": 0
      },
      "text/plain": [
       "HBox(children=(IntProgress(value=0, max=230), HTML(value='')))"
      ]
     },
     "metadata": {},
     "output_type": "display_data"
    },
    {
     "name": "stdout",
     "output_type": "stream",
     "text": [
      "\n",
      "{'accuracy': 0.7789416405931165, 'roc_auc': 0.9052141313807425, 'pr_auc': 0.7961202833288434}\n"
     ]
    },
    {
     "data": {
      "text/html": [
       "<div>\n",
       "<style scoped>\n",
       "    .dataframe tbody tr th:only-of-type {\n",
       "        vertical-align: middle;\n",
       "    }\n",
       "\n",
       "    .dataframe tbody tr th {\n",
       "        vertical-align: top;\n",
       "    }\n",
       "\n",
       "    .dataframe thead th {\n",
       "        text-align: right;\n",
       "    }\n",
       "</style>\n",
       "<table border=\"1\" class=\"dataframe\">\n",
       "  <thead>\n",
       "    <tr style=\"text-align: right;\">\n",
       "      <th></th>\n",
       "      <th>0</th>\n",
       "      <th>1</th>\n",
       "      <th>micro avg</th>\n",
       "      <th>macro avg</th>\n",
       "      <th>weighted avg</th>\n",
       "    </tr>\n",
       "  </thead>\n",
       "  <tbody>\n",
       "    <tr>\n",
       "      <th>f1-score</th>\n",
       "      <td>0.833</td>\n",
       "      <td>0.672</td>\n",
       "      <td>0.779</td>\n",
       "      <td>0.753</td>\n",
       "      <td>0.792</td>\n",
       "    </tr>\n",
       "    <tr>\n",
       "      <th>precision</th>\n",
       "      <td>0.948</td>\n",
       "      <td>0.543</td>\n",
       "      <td>0.779</td>\n",
       "      <td>0.745</td>\n",
       "      <td>0.844</td>\n",
       "    </tr>\n",
       "    <tr>\n",
       "      <th>recall</th>\n",
       "      <td>0.743</td>\n",
       "      <td>0.882</td>\n",
       "      <td>0.779</td>\n",
       "      <td>0.813</td>\n",
       "      <td>0.779</td>\n",
       "    </tr>\n",
       "    <tr>\n",
       "      <th>support</th>\n",
       "      <td>5465.000</td>\n",
       "      <td>1886.000</td>\n",
       "      <td>7351.000</td>\n",
       "      <td>7351.000</td>\n",
       "      <td>7351.000</td>\n",
       "    </tr>\n",
       "  </tbody>\n",
       "</table>\n",
       "</div>"
      ],
      "text/plain": [
       "                  0         1  micro avg  macro avg  weighted avg\n",
       "f1-score      0.833     0.672      0.779      0.753         0.792\n",
       "precision     0.948     0.543      0.779      0.745         0.844\n",
       "recall        0.743     0.882      0.779      0.813         0.779\n",
       "support    5465.000  1886.000   7351.000   7351.000      7351.000"
      ]
     },
     "metadata": {},
     "output_type": "display_data"
    },
    {
     "name": "stdout",
     "output_type": "stream",
     "text": [
      "============================================================================================================================================================================================================================================================================================================\n"
     ]
    },
    {
     "name": "stderr",
     "output_type": "stream",
     "text": [
      "INFO - 2019-03-27 18:17:39,320 - Reading Structured data ...\n",
      "INFO - 2019-03-27 18:17:39,404 - Reading Notes ...\n",
      "INFO - 2019-03-27 18:17:46,907 - Stratifying ...\n"
     ]
    },
    {
     "name": "stdout",
     "output_type": "stream",
     "text": [
      "Pos Percentage [0.25239128]\n"
     ]
    },
    {
     "name": "stderr",
     "output_type": "stream",
     "text": [
      "INFO - 2019-03-27 18:17:50,075 - Maximum Sentence Length 721825.000000 , 90 percentile length 18596.000000 ... \n",
      "INFO - 2019-03-27 18:17:59,343 - Truncated all ...\n",
      "INFO - 2019-03-27 18:17:59,383 - Idxs removed []...\n"
     ]
    },
    {
     "name": "stdout",
     "output_type": "stream",
     "text": [
      "Pos Percentage [0.25692909]\n"
     ]
    },
    {
     "name": "stderr",
     "output_type": "stream",
     "text": [
      "INFO - 2019-03-27 18:18:00,296 - Maximum Sentence Length 420764.000000 , 90 percentile length 17662.000000 ... \n",
      "INFO - 2019-03-27 18:18:01,761 - Truncated all ...\n",
      "INFO - 2019-03-27 18:18:01,772 - Idxs removed []...\n"
     ]
    },
    {
     "name": "stdout",
     "output_type": "stream",
     "text": [
      "Pos Percentage [0.25656373]\n"
     ]
    },
    {
     "name": "stderr",
     "output_type": "stream",
     "text": [
      "INFO - 2019-03-27 18:18:02,666 - Maximum Sentence Length 707041.000000 , 90 percentile length 17669.000000 ... \n",
      "INFO - 2019-03-27 18:18:04,575 - Truncated all ...\n",
      "INFO - 2019-03-27 18:18:04,588 - Idxs removed []...\n",
      "INFO - 2019-03-27 18:18:04,656 - instantiating class <class 'PatientVec.models.Model.Model'> from params {'type': 'hierarchical_classifier_with_attention', 'embedder': {'type': 'token_embedder', 'vocab_size': 29286, 'embed_size': 200, 'embedding_file': './preprocess/Mortality/embedding_matrix.npy'}, 'decoder': {'num_layers': 2, 'hidden_dims': [128, 1], 'activations': ['tanh', 'linear']}, 'predictor': {'type': 'binary'}, 'structured': {'use_structured': True, 'structured_dim': 50}, 'word_encoder': {'type': 'lstm', 'hidden_size': 128}, 'word_attention': {'similarity': {'type': 'additive', 'hidden_size': 128}}, 'sentence_encoder': {'type': 'lstm', 'hidden_size': 128}, 'sentence_attention': {'similarity': {'type': 'additive', 'hidden_size': 128}}} and extras {}\n",
      "INFO - 2019-03-27 18:18:04,657 - type = hierarchical_classifier_with_attention\n",
      "INFO - 2019-03-27 18:18:04,657 - instantiating class <class 'PatientVec.models.modules.Embedder.Embedder'> from params {'type': 'token_embedder', 'vocab_size': 29286, 'embed_size': 200, 'embedding_file': './preprocess/Mortality/embedding_matrix.npy'} and extras {}\n",
      "INFO - 2019-03-27 18:18:04,658 - embedder.type = token_embedder\n",
      "INFO - 2019-03-27 18:18:04,658 - instantiating class <class 'PatientVec.models.modules.Embedder.TokenEmbedder'> from params {'vocab_size': 29286, 'embed_size': 200, 'embedding_file': './preprocess/Mortality/embedding_matrix.npy'} and extras {}\n",
      "INFO - 2019-03-27 18:18:04,659 - embedder.vocab_size = 29286\n",
      "INFO - 2019-03-27 18:18:04,659 - embedder.embed_size = 200\n",
      "INFO - 2019-03-27 18:18:04,660 - embedder.embedding_file = ./preprocess/Mortality/embedding_matrix.npy\n",
      "INFO - 2019-03-27 18:18:04,683 - instantiating class <class 'PatientVec.models.modules.Encoder.Encoder'> from params {'type': 'lstm', 'hidden_size': 128} and extras {'input_size': 200}\n",
      "INFO - 2019-03-27 18:18:04,684 - word_encoder.type = lstm\n",
      "INFO - 2019-03-27 18:18:04,684 - instantiating class <class 'PatientVec.models.modules.Encoder.wrap_pytorch_rnn.<locals>.BiRNNEncoder'> from params {'hidden_size': 128} and extras {'input_size': 200}\n",
      "INFO - 2019-03-27 18:18:04,684 - word_encoder.hidden_size = 128\n",
      "INFO - 2019-03-27 18:18:04,687 - instantiating class <class 'PatientVec.models.modules.SelfAttention.SelfAttention'> from params {'similarity': {'type': 'additive', 'hidden_size': 128, 'tensor_1_dim': 256}} and extras {}\n",
      "INFO - 2019-03-27 18:18:04,687 - instantiating class <class 'PatientVec.models.modules.UniSimilarity.UniSimilarity'> from params {'type': 'additive', 'hidden_size': 128, 'tensor_1_dim': 256} and extras {}\n",
      "INFO - 2019-03-27 18:18:04,687 - word_attention.similarity.type = additive\n",
      "INFO - 2019-03-27 18:18:04,687 - instantiating class <class 'PatientVec.models.modules.UniSimilarity.UniAdditiveSimilarity'> from params {'hidden_size': 128, 'tensor_1_dim': 256} and extras {}\n",
      "INFO - 2019-03-27 18:18:04,688 - word_attention.similarity.tensor_1_dim = 256\n",
      "INFO - 2019-03-27 18:18:04,688 - word_attention.similarity.hidden_size = 128\n",
      "INFO - 2019-03-27 18:18:04,688 - word_attention.similarity.output_size = 1\n",
      "INFO - 2019-03-27 18:18:04,690 - word_attention.normaliser = softmax\n",
      "INFO - 2019-03-27 18:18:04,690 - instantiating class <class 'PatientVec.models.modules.Encoder.Encoder'> from params {'type': 'lstm', 'hidden_size': 128} and extras {'input_size': 256}\n",
      "INFO - 2019-03-27 18:18:04,690 - sentence_encoder.type = lstm\n",
      "INFO - 2019-03-27 18:18:04,691 - instantiating class <class 'PatientVec.models.modules.Encoder.wrap_pytorch_rnn.<locals>.BiRNNEncoder'> from params {'hidden_size': 128} and extras {'input_size': 256}\n",
      "INFO - 2019-03-27 18:18:04,691 - sentence_encoder.hidden_size = 128\n",
      "INFO - 2019-03-27 18:18:04,694 - instantiating class <class 'PatientVec.models.modules.SelfAttention.SelfAttention'> from params {'similarity': {'type': 'additive', 'hidden_size': 128, 'tensor_1_dim': 256}} and extras {}\n",
      "INFO - 2019-03-27 18:18:04,694 - instantiating class <class 'PatientVec.models.modules.UniSimilarity.UniSimilarity'> from params {'type': 'additive', 'hidden_size': 128, 'tensor_1_dim': 256} and extras {}\n",
      "INFO - 2019-03-27 18:18:04,694 - sentence_attention.similarity.type = additive\n",
      "INFO - 2019-03-27 18:18:04,694 - instantiating class <class 'PatientVec.models.modules.UniSimilarity.UniAdditiveSimilarity'> from params {'hidden_size': 128, 'tensor_1_dim': 256} and extras {}\n",
      "INFO - 2019-03-27 18:18:04,695 - sentence_attention.similarity.tensor_1_dim = 256\n",
      "INFO - 2019-03-27 18:18:04,695 - sentence_attention.similarity.hidden_size = 128\n",
      "INFO - 2019-03-27 18:18:04,695 - sentence_attention.similarity.output_size = 1\n",
      "INFO - 2019-03-27 18:18:04,697 - sentence_attention.normaliser = softmax\n",
      "INFO - 2019-03-27 18:18:04,698 - decoder.input_dim = 306\n",
      "INFO - 2019-03-27 18:18:04,698 - decoder.num_layers = 2\n",
      "INFO - 2019-03-27 18:18:04,698 - decoder.hidden_dims = [128, 1]\n",
      "INFO - 2019-03-27 18:18:04,699 - decoder.activations = ['tanh', 'linear']\n",
      "INFO - 2019-03-27 18:18:04,699 - decoder.dropout = 0.0\n",
      "INFO - 2019-03-27 18:18:04,701 - instantiating class <class 'PatientVec.models.modules.Predictor.Predictor'> from params {'type': 'binary'} and extras {}\n",
      "INFO - 2019-03-27 18:18:04,701 - predictor.type = binary\n",
      "INFO - 2019-03-27 18:18:04,701 - instantiating class <class 'PatientVec.models.modules.Predictor.Binary_Predictor'> from params {} and extras {}\n",
      "INFO - 2019-03-27 18:18:04,701 - predictor.replicate = False\n",
      "INFO - 2019-03-27 18:18:04,702 - predictor.alpha = 0.5\n"
     ]
    },
    {
     "name": "stdout",
     "output_type": "stream",
     "text": [
      "{'model': {'type': 'hierarchical_classifier_with_attention', 'embedder': {'type': 'token_embedder', 'vocab_size': 29286, 'embed_size': 200, 'embedding_file': './preprocess/Mortality/embedding_matrix.npy'}, 'decoder': {'num_layers': 2, 'hidden_dims': [128, 1], 'activations': ['tanh', 'linear']}, 'predictor': {'type': 'binary'}, 'structured': {'use_structured': True, 'structured_dim': 50}, 'word_encoder': {'type': 'lstm', 'hidden_size': 128}, 'word_attention': {'similarity': {'type': 'additive', 'hidden_size': 128}}, 'sentence_encoder': {'type': 'lstm', 'hidden_size': 128}, 'sentence_attention': {'similarity': {'type': 'additive', 'hidden_size': 128}}}, 'training_config': {'type': 'Adam', 'groups': [('.*', {'lr': 0.001, 'weight_decay': 1e-05})], 'common': {'bsize': 16, 'class_weight': True}}, 'exp_config': {'exp_name': 'Mortality_1yr/Hierarchical Attention/LSTM(hs=128)+Attention(additive)(hs=128)+LSTM(hs=128)+Attention(additive)(hs=128)+Structured', 'basepath': 'outputs/'}}\n",
      "Setting Embedding\n"
     ]
    },
    {
     "name": "stderr",
     "output_type": "stream",
     "text": [
      "INFO - 2019-03-27 18:18:05,474 - Reading Structured data ...\n",
      "INFO - 2019-03-27 18:18:05,535 - Reading Notes ...\n",
      "INFO - 2019-03-27 18:18:16,060 - Stratifying ...\n"
     ]
    },
    {
     "name": "stdout",
     "output_type": "stream",
     "text": [
      "Pos Percentage [0.25239128]\n"
     ]
    },
    {
     "name": "stderr",
     "output_type": "stream",
     "text": [
      "INFO - 2019-03-27 18:18:19,085 - Maximum Sentence Length 721825.000000 , 90 percentile length 18596.000000 ... \n",
      "INFO - 2019-03-27 18:18:28,448 - Truncated all ...\n",
      "INFO - 2019-03-27 18:18:28,480 - Idxs removed []...\n"
     ]
    },
    {
     "name": "stdout",
     "output_type": "stream",
     "text": [
      "Pos Percentage [0.25692909]\n"
     ]
    },
    {
     "name": "stderr",
     "output_type": "stream",
     "text": [
      "INFO - 2019-03-27 18:18:29,348 - Maximum Sentence Length 420764.000000 , 90 percentile length 17662.000000 ... \n",
      "INFO - 2019-03-27 18:18:30,816 - Truncated all ...\n",
      "INFO - 2019-03-27 18:18:30,825 - Idxs removed []...\n"
     ]
    },
    {
     "name": "stdout",
     "output_type": "stream",
     "text": [
      "Pos Percentage [0.25656373]\n"
     ]
    },
    {
     "name": "stderr",
     "output_type": "stream",
     "text": [
      "INFO - 2019-03-27 18:18:31,685 - Maximum Sentence Length 707041.000000 , 90 percentile length 17669.000000 ... \n",
      "INFO - 2019-03-27 18:18:33,587 - Truncated all ...\n",
      "INFO - 2019-03-27 18:18:33,597 - Idxs removed []...\n",
      "INFO - 2019-03-27 18:18:33,657 - instantiating class <class 'PatientVec.models.Model.Model'> from params {'type': 'hierarchical_classifier_with_attention', 'embedder': {'type': 'token_embedder', 'vocab_size': 29286, 'embed_size': 200, 'embedding_file': './preprocess/Mortality/embedding_matrix.npy'}, 'decoder': {'num_layers': 2, 'hidden_dims': [128, 1], 'activations': ['tanh', 'linear']}, 'predictor': {'type': 'binary'}, 'structured': {'use_structured': False}, 'word_encoder': {'type': 'lstm', 'hidden_size': 128}, 'word_attention': {'similarity': {'type': 'additive', 'hidden_size': 128}}, 'sentence_encoder': {'type': 'lstm', 'hidden_size': 128}, 'sentence_attention': {'similarity': {'type': 'additive', 'hidden_size': 128}}} and extras {}\n",
      "INFO - 2019-03-27 18:18:33,657 - type = hierarchical_classifier_with_attention\n",
      "INFO - 2019-03-27 18:18:33,658 - instantiating class <class 'PatientVec.models.modules.Embedder.Embedder'> from params {'type': 'token_embedder', 'vocab_size': 29286, 'embed_size': 200, 'embedding_file': './preprocess/Mortality/embedding_matrix.npy'} and extras {}\n",
      "INFO - 2019-03-27 18:18:33,658 - embedder.type = token_embedder\n",
      "INFO - 2019-03-27 18:18:33,658 - instantiating class <class 'PatientVec.models.modules.Embedder.TokenEmbedder'> from params {'vocab_size': 29286, 'embed_size': 200, 'embedding_file': './preprocess/Mortality/embedding_matrix.npy'} and extras {}\n",
      "INFO - 2019-03-27 18:18:33,659 - embedder.vocab_size = 29286\n",
      "INFO - 2019-03-27 18:18:33,659 - embedder.embed_size = 200\n",
      "INFO - 2019-03-27 18:18:33,660 - embedder.embedding_file = ./preprocess/Mortality/embedding_matrix.npy\n",
      "INFO - 2019-03-27 18:18:33,682 - instantiating class <class 'PatientVec.models.modules.Encoder.Encoder'> from params {'type': 'lstm', 'hidden_size': 128} and extras {'input_size': 200}\n",
      "INFO - 2019-03-27 18:18:33,682 - word_encoder.type = lstm\n",
      "INFO - 2019-03-27 18:18:33,683 - instantiating class <class 'PatientVec.models.modules.Encoder.wrap_pytorch_rnn.<locals>.BiRNNEncoder'> from params {'hidden_size': 128} and extras {'input_size': 200}\n",
      "INFO - 2019-03-27 18:18:33,683 - word_encoder.hidden_size = 128\n",
      "INFO - 2019-03-27 18:18:33,686 - instantiating class <class 'PatientVec.models.modules.SelfAttention.SelfAttention'> from params {'similarity': {'type': 'additive', 'hidden_size': 128, 'tensor_1_dim': 256}} and extras {}\n",
      "INFO - 2019-03-27 18:18:33,686 - instantiating class <class 'PatientVec.models.modules.UniSimilarity.UniSimilarity'> from params {'type': 'additive', 'hidden_size': 128, 'tensor_1_dim': 256} and extras {}\n",
      "INFO - 2019-03-27 18:18:33,686 - word_attention.similarity.type = additive\n",
      "INFO - 2019-03-27 18:18:33,686 - instantiating class <class 'PatientVec.models.modules.UniSimilarity.UniAdditiveSimilarity'> from params {'hidden_size': 128, 'tensor_1_dim': 256} and extras {}\n",
      "INFO - 2019-03-27 18:18:33,687 - word_attention.similarity.tensor_1_dim = 256\n",
      "INFO - 2019-03-27 18:18:33,687 - word_attention.similarity.hidden_size = 128\n",
      "INFO - 2019-03-27 18:18:33,687 - word_attention.similarity.output_size = 1\n",
      "INFO - 2019-03-27 18:18:33,689 - word_attention.normaliser = softmax\n",
      "INFO - 2019-03-27 18:18:33,689 - instantiating class <class 'PatientVec.models.modules.Encoder.Encoder'> from params {'type': 'lstm', 'hidden_size': 128} and extras {'input_size': 256}\n",
      "INFO - 2019-03-27 18:18:33,689 - sentence_encoder.type = lstm\n",
      "INFO - 2019-03-27 18:18:33,690 - instantiating class <class 'PatientVec.models.modules.Encoder.wrap_pytorch_rnn.<locals>.BiRNNEncoder'> from params {'hidden_size': 128} and extras {'input_size': 256}\n",
      "INFO - 2019-03-27 18:18:33,690 - sentence_encoder.hidden_size = 128\n",
      "INFO - 2019-03-27 18:18:33,693 - instantiating class <class 'PatientVec.models.modules.SelfAttention.SelfAttention'> from params {'similarity': {'type': 'additive', 'hidden_size': 128, 'tensor_1_dim': 256}} and extras {}\n",
      "INFO - 2019-03-27 18:18:33,693 - instantiating class <class 'PatientVec.models.modules.UniSimilarity.UniSimilarity'> from params {'type': 'additive', 'hidden_size': 128, 'tensor_1_dim': 256} and extras {}\n",
      "INFO - 2019-03-27 18:18:33,693 - sentence_attention.similarity.type = additive\n",
      "INFO - 2019-03-27 18:18:33,694 - instantiating class <class 'PatientVec.models.modules.UniSimilarity.UniAdditiveSimilarity'> from params {'hidden_size': 128, 'tensor_1_dim': 256} and extras {}\n",
      "INFO - 2019-03-27 18:18:33,694 - sentence_attention.similarity.tensor_1_dim = 256\n",
      "INFO - 2019-03-27 18:18:33,694 - sentence_attention.similarity.hidden_size = 128\n",
      "INFO - 2019-03-27 18:18:33,695 - sentence_attention.similarity.output_size = 1\n",
      "INFO - 2019-03-27 18:18:33,696 - sentence_attention.normaliser = softmax\n",
      "INFO - 2019-03-27 18:18:33,697 - decoder.input_dim = 256\n",
      "INFO - 2019-03-27 18:18:33,698 - decoder.num_layers = 2\n",
      "INFO - 2019-03-27 18:18:33,698 - decoder.hidden_dims = [128, 1]\n",
      "INFO - 2019-03-27 18:18:33,698 - decoder.activations = ['tanh', 'linear']\n",
      "INFO - 2019-03-27 18:18:33,698 - decoder.dropout = 0.0\n",
      "INFO - 2019-03-27 18:18:33,700 - instantiating class <class 'PatientVec.models.modules.Predictor.Predictor'> from params {'type': 'binary'} and extras {}\n",
      "INFO - 2019-03-27 18:18:33,700 - predictor.type = binary\n",
      "INFO - 2019-03-27 18:18:33,700 - instantiating class <class 'PatientVec.models.modules.Predictor.Binary_Predictor'> from params {} and extras {}\n",
      "INFO - 2019-03-27 18:18:33,700 - predictor.replicate = False\n",
      "INFO - 2019-03-27 18:18:33,701 - predictor.alpha = 0.5\n"
     ]
    },
    {
     "name": "stdout",
     "output_type": "stream",
     "text": [
      "{'model': {'type': 'hierarchical_classifier_with_attention', 'embedder': {'type': 'token_embedder', 'vocab_size': 29286, 'embed_size': 200, 'embedding_file': './preprocess/Mortality/embedding_matrix.npy'}, 'decoder': {'num_layers': 2, 'hidden_dims': [128, 1], 'activations': ['tanh', 'linear']}, 'predictor': {'type': 'binary'}, 'structured': {'use_structured': False}, 'word_encoder': {'type': 'lstm', 'hidden_size': 128}, 'word_attention': {'similarity': {'type': 'additive', 'hidden_size': 128}}, 'sentence_encoder': {'type': 'lstm', 'hidden_size': 128}, 'sentence_attention': {'similarity': {'type': 'additive', 'hidden_size': 128}}}, 'training_config': {'type': 'Adam', 'groups': [('.*', {'lr': 0.001, 'weight_decay': 1e-05})], 'common': {'bsize': 16, 'class_weight': True}}, 'exp_config': {'exp_name': 'Mortality_1yr/Hierarchical Attention/LSTM(hs=128)+Attention(additive)(hs=128)+LSTM(hs=128)+Attention(additive)(hs=128)', 'basepath': 'outputs/'}}\n",
      "Setting Embedding\n"
     ]
    },
    {
     "name": "stderr",
     "output_type": "stream",
     "text": [
      "INFO - 2019-03-27 18:18:34,578 - Reading Structured data ...\n",
      "INFO - 2019-03-27 18:18:34,640 - Reading Notes ...\n",
      "INFO - 2019-03-27 18:18:45,831 - Stratifying ...\n"
     ]
    },
    {
     "name": "stdout",
     "output_type": "stream",
     "text": [
      "Pos Percentage [0.15129873]\n"
     ]
    },
    {
     "name": "stderr",
     "output_type": "stream",
     "text": [
      "INFO - 2019-03-27 18:18:48,984 - Maximum Sentence Length 721825.000000 , 90 percentile length 18596.000000 ... \n",
      "INFO - 2019-03-27 18:18:55,209 - Truncated all ...\n",
      "INFO - 2019-03-27 18:18:55,250 - Idxs removed []...\n"
     ]
    },
    {
     "name": "stdout",
     "output_type": "stream",
     "text": [
      "Pos Percentage [0.14555348]\n"
     ]
    },
    {
     "name": "stderr",
     "output_type": "stream",
     "text": [
      "INFO - 2019-03-27 18:18:56,130 - Maximum Sentence Length 420764.000000 , 90 percentile length 17662.000000 ... \n",
      "INFO - 2019-03-27 18:19:00,680 - Truncated all ...\n",
      "INFO - 2019-03-27 18:19:00,691 - Idxs removed []...\n"
     ]
    },
    {
     "name": "stdout",
     "output_type": "stream",
     "text": [
      "Pos Percentage [0.15358455]\n"
     ]
    },
    {
     "name": "stderr",
     "output_type": "stream",
     "text": [
      "INFO - 2019-03-27 18:19:01,585 - Maximum Sentence Length 707041.000000 , 90 percentile length 17669.000000 ... \n",
      "INFO - 2019-03-27 18:19:03,503 - Truncated all ...\n",
      "INFO - 2019-03-27 18:19:03,515 - Idxs removed []...\n",
      "INFO - 2019-03-27 18:19:03,575 - instantiating class <class 'PatientVec.models.Model.Model'> from params {'type': 'seq_classifier', 'embedder': {'type': 'token_embedder', 'vocab_size': 29286, 'embed_size': 200, 'embedding_file': './preprocess/Mortality/embedding_matrix.npy'}, 'decoder': {'num_layers': 2, 'hidden_dims': [128, 1], 'activations': ['tanh', 'linear']}, 'predictor': {'type': 'binary'}, 'structured': {'use_structured': True, 'structured_dim': 50}, 'encoder': {'type': 'average', 'projection': True, 'hidden_size': 256, 'activation': 'relu'}} and extras {}\n",
      "INFO - 2019-03-27 18:19:03,575 - type = seq_classifier\n",
      "INFO - 2019-03-27 18:19:03,576 - instantiating class <class 'PatientVec.models.modules.Embedder.Embedder'> from params {'type': 'token_embedder', 'vocab_size': 29286, 'embed_size': 200, 'embedding_file': './preprocess/Mortality/embedding_matrix.npy'} and extras {}\n",
      "INFO - 2019-03-27 18:19:03,576 - embedder.type = token_embedder\n",
      "INFO - 2019-03-27 18:19:03,576 - instantiating class <class 'PatientVec.models.modules.Embedder.TokenEmbedder'> from params {'vocab_size': 29286, 'embed_size': 200, 'embedding_file': './preprocess/Mortality/embedding_matrix.npy'} and extras {}\n",
      "INFO - 2019-03-27 18:19:03,577 - embedder.vocab_size = 29286\n",
      "INFO - 2019-03-27 18:19:03,578 - embedder.embed_size = 200\n",
      "INFO - 2019-03-27 18:19:03,578 - embedder.embedding_file = ./preprocess/Mortality/embedding_matrix.npy\n",
      "INFO - 2019-03-27 18:19:03,600 - instantiating class <class 'PatientVec.models.modules.Encoder.Encoder'> from params {'type': 'average', 'projection': True, 'hidden_size': 256, 'activation': 'relu'} and extras {'input_size': 200}\n",
      "INFO - 2019-03-27 18:19:03,601 - encoder.type = average\n",
      "INFO - 2019-03-27 18:19:03,601 - instantiating class <class 'PatientVec.models.modules.Encoder.AverageEncoder'> from params {'projection': True, 'hidden_size': 256, 'activation': 'relu'} and extras {'input_size': 200}\n",
      "INFO - 2019-03-27 18:19:03,601 - encoder.projection = True\n",
      "INFO - 2019-03-27 18:19:03,602 - encoder.hidden_size = 256\n",
      "INFO - 2019-03-27 18:19:03,603 - encoder.activation = relu\n",
      "INFO - 2019-03-27 18:19:03,604 - decoder.input_dim = 306\n",
      "INFO - 2019-03-27 18:19:03,604 - decoder.num_layers = 2\n",
      "INFO - 2019-03-27 18:19:03,604 - decoder.hidden_dims = [128, 1]\n",
      "INFO - 2019-03-27 18:19:03,604 - decoder.activations = ['tanh', 'linear']\n",
      "INFO - 2019-03-27 18:19:03,605 - decoder.dropout = 0.0\n",
      "INFO - 2019-03-27 18:19:03,606 - instantiating class <class 'PatientVec.models.modules.Predictor.Predictor'> from params {'type': 'binary'} and extras {}\n",
      "INFO - 2019-03-27 18:19:03,606 - predictor.type = binary\n",
      "INFO - 2019-03-27 18:19:03,606 - instantiating class <class 'PatientVec.models.modules.Predictor.Binary_Predictor'> from params {} and extras {}\n",
      "INFO - 2019-03-27 18:19:03,607 - predictor.replicate = False\n",
      "INFO - 2019-03-27 18:19:03,607 - predictor.alpha = 0.5\n",
      "INFO - 2019-03-27 18:19:03,628 - instantiating class <class 'PatientVec.models.Model.Model'> from params {'type': 'seq_classifier', 'embedder': {'type': 'token_embedder', 'vocab_size': 29286, 'embed_size': 200, 'embedding_file': './preprocess/Mortality/embedding_matrix.npy'}, 'decoder': {'num_layers': 2, 'hidden_dims': [128, 1], 'activations': ['tanh', 'linear']}, 'predictor': {'type': 'binary'}, 'structured': {'use_structured': True, 'structured_dim': 50}, 'encoder': {'type': 'lstm', 'hidden_size': 128}} and extras {}\n",
      "INFO - 2019-03-27 18:19:03,628 - type = seq_classifier\n",
      "INFO - 2019-03-27 18:19:03,629 - instantiating class <class 'PatientVec.models.modules.Embedder.Embedder'> from params {'type': 'token_embedder', 'vocab_size': 29286, 'embed_size': 200, 'embedding_file': './preprocess/Mortality/embedding_matrix.npy'} and extras {}\n",
      "INFO - 2019-03-27 18:19:03,630 - embedder.type = token_embedder\n",
      "INFO - 2019-03-27 18:19:03,630 - instantiating class <class 'PatientVec.models.modules.Embedder.TokenEmbedder'> from params {'vocab_size': 29286, 'embed_size': 200, 'embedding_file': './preprocess/Mortality/embedding_matrix.npy'} and extras {}\n",
      "INFO - 2019-03-27 18:19:03,630 - embedder.vocab_size = 29286\n",
      "INFO - 2019-03-27 18:19:03,631 - embedder.embed_size = 200\n",
      "INFO - 2019-03-27 18:19:03,631 - embedder.embedding_file = ./preprocess/Mortality/embedding_matrix.npy\n",
      "INFO - 2019-03-27 18:19:03,652 - instantiating class <class 'PatientVec.models.modules.Encoder.Encoder'> from params {'type': 'lstm', 'hidden_size': 128} and extras {'input_size': 200}\n",
      "INFO - 2019-03-27 18:19:03,653 - encoder.type = lstm\n",
      "INFO - 2019-03-27 18:19:03,653 - instantiating class <class 'PatientVec.models.modules.Encoder.wrap_pytorch_rnn.<locals>.BiRNNEncoder'> from params {'hidden_size': 128} and extras {'input_size': 200}\n",
      "INFO - 2019-03-27 18:19:03,653 - encoder.hidden_size = 128\n",
      "INFO - 2019-03-27 18:19:03,656 - decoder.input_dim = 306\n",
      "INFO - 2019-03-27 18:19:03,656 - decoder.num_layers = 2\n",
      "INFO - 2019-03-27 18:19:03,656 - decoder.hidden_dims = [128, 1]\n",
      "INFO - 2019-03-27 18:19:03,657 - decoder.activations = ['tanh', 'linear']\n",
      "INFO - 2019-03-27 18:19:03,657 - decoder.dropout = 0.0\n",
      "INFO - 2019-03-27 18:19:03,658 - instantiating class <class 'PatientVec.models.modules.Predictor.Predictor'> from params {'type': 'binary'} and extras {}\n",
      "INFO - 2019-03-27 18:19:03,658 - predictor.type = binary\n",
      "INFO - 2019-03-27 18:19:03,659 - instantiating class <class 'PatientVec.models.modules.Predictor.Binary_Predictor'> from params {} and extras {}\n",
      "INFO - 2019-03-27 18:19:03,659 - predictor.replicate = False\n",
      "INFO - 2019-03-27 18:19:03,659 - predictor.alpha = 0.5\n",
      "INFO - 2019-03-27 18:19:03,676 - instantiating class <class 'PatientVec.models.Model.Model'> from params {'type': 'seq_classifier', 'embedder': {'type': 'token_embedder', 'vocab_size': 29286, 'embed_size': 200, 'embedding_file': './preprocess/Mortality/embedding_matrix.npy'}, 'decoder': {'num_layers': 2, 'hidden_dims': [128, 1], 'activations': ['tanh', 'linear']}, 'predictor': {'type': 'binary'}, 'structured': {'use_structured': True, 'structured_dim': 50}, 'encoder': {'type': 'cnn', 'hidden_size': 64, 'kernel_sizes': [3, 5, 7, 9], 'activation': 'relu'}} and extras {}\n",
      "INFO - 2019-03-27 18:19:03,676 - type = seq_classifier\n",
      "INFO - 2019-03-27 18:19:03,677 - instantiating class <class 'PatientVec.models.modules.Embedder.Embedder'> from params {'type': 'token_embedder', 'vocab_size': 29286, 'embed_size': 200, 'embedding_file': './preprocess/Mortality/embedding_matrix.npy'} and extras {}\n",
      "INFO - 2019-03-27 18:19:03,677 - embedder.type = token_embedder\n",
      "INFO - 2019-03-27 18:19:03,677 - instantiating class <class 'PatientVec.models.modules.Embedder.TokenEmbedder'> from params {'vocab_size': 29286, 'embed_size': 200, 'embedding_file': './preprocess/Mortality/embedding_matrix.npy'} and extras {}\n",
      "INFO - 2019-03-27 18:19:03,677 - embedder.vocab_size = 29286\n",
      "INFO - 2019-03-27 18:19:03,678 - embedder.embed_size = 200\n",
      "INFO - 2019-03-27 18:19:03,678 - embedder.embedding_file = ./preprocess/Mortality/embedding_matrix.npy\n",
      "INFO - 2019-03-27 18:19:03,700 - instantiating class <class 'PatientVec.models.modules.Encoder.Encoder'> from params {'type': 'cnn', 'hidden_size': 64, 'kernel_sizes': [3, 5, 7, 9], 'activation': 'relu'} and extras {'input_size': 200}\n",
      "INFO - 2019-03-27 18:19:03,700 - encoder.type = cnn\n",
      "INFO - 2019-03-27 18:19:03,700 - instantiating class <class 'PatientVec.models.modules.Encoder.CNNEncoder'> from params {'hidden_size': 64, 'kernel_sizes': [3, 5, 7, 9], 'activation': 'relu'} and extras {'input_size': 200}\n",
      "INFO - 2019-03-27 18:19:03,701 - encoder.hidden_size = 64\n",
      "INFO - 2019-03-27 18:19:03,701 - encoder.kernel_sizes = [3, 5, 7, 9]\n",
      "INFO - 2019-03-27 18:19:03,701 - encoder.activation = relu\n",
      "INFO - 2019-03-27 18:19:03,704 - decoder.input_dim = 306\n",
      "INFO - 2019-03-27 18:19:03,704 - decoder.num_layers = 2\n",
      "INFO - 2019-03-27 18:19:03,704 - decoder.hidden_dims = [128, 1]\n",
      "INFO - 2019-03-27 18:19:03,705 - decoder.activations = ['tanh', 'linear']\n",
      "INFO - 2019-03-27 18:19:03,705 - decoder.dropout = 0.0\n",
      "INFO - 2019-03-27 18:19:03,706 - instantiating class <class 'PatientVec.models.modules.Predictor.Predictor'> from params {'type': 'binary'} and extras {}\n",
      "INFO - 2019-03-27 18:19:03,706 - predictor.type = binary\n",
      "INFO - 2019-03-27 18:19:03,707 - instantiating class <class 'PatientVec.models.modules.Predictor.Binary_Predictor'> from params {} and extras {}\n",
      "INFO - 2019-03-27 18:19:03,707 - predictor.replicate = False\n",
      "INFO - 2019-03-27 18:19:03,707 - predictor.alpha = 0.5\n"
     ]
    },
    {
     "name": "stdout",
     "output_type": "stream",
     "text": [
      "{'model': {'type': 'seq_classifier', 'embedder': {'type': 'token_embedder', 'vocab_size': 29286, 'embed_size': 200, 'embedding_file': './preprocess/Mortality/embedding_matrix.npy'}, 'decoder': {'num_layers': 2, 'hidden_dims': [128, 1], 'activations': ['tanh', 'linear']}, 'predictor': {'type': 'binary'}, 'structured': {'use_structured': True, 'structured_dim': 50}, 'encoder': {'type': 'average', 'projection': True, 'hidden_size': 256, 'activation': 'relu'}}, 'training_config': {'type': 'Adam', 'groups': [('.*', {'lr': 0.001, 'weight_decay': 1e-05})], 'common': {'bsize': 16, 'class_weight': True}}, 'exp_config': {'exp_name': 'Mortality_30day/Basic/Average(hs=256)+Structured', 'basepath': 'outputs/'}}\n",
      "Setting Embedding\n",
      "{'model': {'type': 'seq_classifier', 'embedder': {'type': 'token_embedder', 'vocab_size': 29286, 'embed_size': 200, 'embedding_file': './preprocess/Mortality/embedding_matrix.npy'}, 'decoder': {'num_layers': 2, 'hidden_dims': [128, 1], 'activations': ['tanh', 'linear']}, 'predictor': {'type': 'binary'}, 'structured': {'use_structured': True, 'structured_dim': 50}, 'encoder': {'type': 'lstm', 'hidden_size': 128}}, 'training_config': {'type': 'Adam', 'groups': [('.*', {'lr': 0.001, 'weight_decay': 1e-05})], 'common': {'bsize': 16, 'class_weight': True}}, 'exp_config': {'exp_name': 'Mortality_30day/Basic/LSTM(hs=128)+Structured', 'basepath': 'outputs/'}}\n",
      "Setting Embedding\n",
      "{'model': {'type': 'seq_classifier', 'embedder': {'type': 'token_embedder', 'vocab_size': 29286, 'embed_size': 200, 'embedding_file': './preprocess/Mortality/embedding_matrix.npy'}, 'decoder': {'num_layers': 2, 'hidden_dims': [128, 1], 'activations': ['tanh', 'linear']}, 'predictor': {'type': 'binary'}, 'structured': {'use_structured': True, 'structured_dim': 50}, 'encoder': {'type': 'cnn', 'hidden_size': 64, 'kernel_sizes': [3, 5, 7, 9], 'activation': 'relu'}}, 'training_config': {'type': 'Adam', 'groups': [('.*', {'lr': 0.001, 'weight_decay': 1e-05})], 'common': {'bsize': 16, 'class_weight': True}}, 'exp_config': {'exp_name': 'Mortality_30day/Basic/CNN(hs=64)(kernels=3,5,7,9)+Structured', 'basepath': 'outputs/'}}\n",
      "Setting Embedding\n",
      "Pos Percentage [0.15129873]\n"
     ]
    },
    {
     "name": "stderr",
     "output_type": "stream",
     "text": [
      "INFO - 2019-03-27 18:19:07,199 - Maximum Sentence Length 721825.000000 , 90 percentile length 18596.000000 ... \n",
      "INFO - 2019-03-27 18:19:13,218 - Truncated all ...\n",
      "INFO - 2019-03-27 18:19:13,260 - Idxs removed []...\n"
     ]
    },
    {
     "name": "stdout",
     "output_type": "stream",
     "text": [
      "Pos Percentage [0.14555348]\n"
     ]
    },
    {
     "name": "stderr",
     "output_type": "stream",
     "text": [
      "INFO - 2019-03-27 18:19:14,088 - Maximum Sentence Length 420764.000000 , 90 percentile length 17662.000000 ... \n",
      "INFO - 2019-03-27 18:19:18,675 - Truncated all ...\n",
      "INFO - 2019-03-27 18:19:18,686 - Idxs removed []...\n"
     ]
    },
    {
     "name": "stdout",
     "output_type": "stream",
     "text": [
      "Pos Percentage [0.15358455]\n"
     ]
    },
    {
     "name": "stderr",
     "output_type": "stream",
     "text": [
      "INFO - 2019-03-27 18:19:19,615 - Maximum Sentence Length 707041.000000 , 90 percentile length 17669.000000 ... \n",
      "INFO - 2019-03-27 18:19:21,496 - Truncated all ...\n",
      "INFO - 2019-03-27 18:19:21,508 - Idxs removed []...\n",
      "INFO - 2019-03-27 18:19:21,566 - instantiating class <class 'PatientVec.models.Model.Model'> from params {'type': 'seq_classifier_with_attention', 'embedder': {'type': 'token_embedder', 'vocab_size': 29286, 'embed_size': 200, 'embedding_file': './preprocess/Mortality/embedding_matrix.npy'}, 'decoder': {'num_layers': 2, 'hidden_dims': [128, 1], 'activations': ['tanh', 'linear']}, 'predictor': {'type': 'binary'}, 'structured': {'use_structured': True, 'structured_dim': 50}, 'encoder': {'type': 'average', 'projection': True, 'hidden_size': 256, 'activation': 'relu'}, 'attention': {'similarity': {'type': 'additive', 'hidden_size': 128}}} and extras {}\n",
      "INFO - 2019-03-27 18:19:21,566 - type = seq_classifier_with_attention\n",
      "INFO - 2019-03-27 18:19:21,566 - instantiating class <class 'PatientVec.models.modules.Embedder.Embedder'> from params {'type': 'token_embedder', 'vocab_size': 29286, 'embed_size': 200, 'embedding_file': './preprocess/Mortality/embedding_matrix.npy'} and extras {}\n",
      "INFO - 2019-03-27 18:19:21,567 - embedder.type = token_embedder\n",
      "INFO - 2019-03-27 18:19:21,567 - instantiating class <class 'PatientVec.models.modules.Embedder.TokenEmbedder'> from params {'vocab_size': 29286, 'embed_size': 200, 'embedding_file': './preprocess/Mortality/embedding_matrix.npy'} and extras {}\n",
      "INFO - 2019-03-27 18:19:21,568 - embedder.vocab_size = 29286\n",
      "INFO - 2019-03-27 18:19:21,568 - embedder.embed_size = 200\n",
      "INFO - 2019-03-27 18:19:21,568 - embedder.embedding_file = ./preprocess/Mortality/embedding_matrix.npy\n",
      "INFO - 2019-03-27 18:19:21,590 - instantiating class <class 'PatientVec.models.modules.Encoder.Encoder'> from params {'type': 'average', 'projection': True, 'hidden_size': 256, 'activation': 'relu'} and extras {'input_size': 200}\n",
      "INFO - 2019-03-27 18:19:21,590 - encoder.type = average\n",
      "INFO - 2019-03-27 18:19:21,591 - instantiating class <class 'PatientVec.models.modules.Encoder.AverageEncoder'> from params {'projection': True, 'hidden_size': 256, 'activation': 'relu'} and extras {'input_size': 200}\n",
      "INFO - 2019-03-27 18:19:21,591 - encoder.projection = True\n",
      "INFO - 2019-03-27 18:19:21,591 - encoder.hidden_size = 256\n",
      "INFO - 2019-03-27 18:19:21,592 - encoder.activation = relu\n",
      "INFO - 2019-03-27 18:19:21,593 - instantiating class <class 'PatientVec.models.modules.SelfAttention.SelfAttention'> from params {'similarity': {'type': 'additive', 'hidden_size': 128, 'tensor_1_dim': 256}} and extras {}\n",
      "INFO - 2019-03-27 18:19:21,593 - instantiating class <class 'PatientVec.models.modules.UniSimilarity.UniSimilarity'> from params {'type': 'additive', 'hidden_size': 128, 'tensor_1_dim': 256} and extras {}\n",
      "INFO - 2019-03-27 18:19:21,594 - attention.similarity.type = additive\n",
      "INFO - 2019-03-27 18:19:21,594 - instantiating class <class 'PatientVec.models.modules.UniSimilarity.UniAdditiveSimilarity'> from params {'hidden_size': 128, 'tensor_1_dim': 256} and extras {}\n",
      "INFO - 2019-03-27 18:19:21,594 - attention.similarity.tensor_1_dim = 256\n",
      "INFO - 2019-03-27 18:19:21,595 - attention.similarity.hidden_size = 128\n",
      "INFO - 2019-03-27 18:19:21,595 - attention.similarity.output_size = 1\n",
      "INFO - 2019-03-27 18:19:21,596 - attention.normaliser = softmax\n",
      "INFO - 2019-03-27 18:19:21,596 - decoder.input_dim = 306\n",
      "INFO - 2019-03-27 18:19:21,596 - decoder.num_layers = 2\n",
      "INFO - 2019-03-27 18:19:21,597 - decoder.hidden_dims = [128, 1]\n",
      "INFO - 2019-03-27 18:19:21,597 - decoder.activations = ['tanh', 'linear']\n",
      "INFO - 2019-03-27 18:19:21,597 - decoder.dropout = 0.0\n",
      "INFO - 2019-03-27 18:19:21,599 - instantiating class <class 'PatientVec.models.modules.Predictor.Predictor'> from params {'type': 'binary'} and extras {}\n",
      "INFO - 2019-03-27 18:19:21,599 - predictor.type = binary\n",
      "INFO - 2019-03-27 18:19:21,599 - instantiating class <class 'PatientVec.models.modules.Predictor.Binary_Predictor'> from params {} and extras {}\n",
      "INFO - 2019-03-27 18:19:21,600 - predictor.replicate = False\n",
      "INFO - 2019-03-27 18:19:21,601 - predictor.alpha = 0.5\n",
      "INFO - 2019-03-27 18:19:21,617 - instantiating class <class 'PatientVec.models.Model.Model'> from params {'type': 'seq_classifier_with_attention', 'embedder': {'type': 'token_embedder', 'vocab_size': 29286, 'embed_size': 200, 'embedding_file': './preprocess/Mortality/embedding_matrix.npy'}, 'decoder': {'num_layers': 2, 'hidden_dims': [128, 1], 'activations': ['tanh', 'linear']}, 'predictor': {'type': 'binary'}, 'structured': {'use_structured': True, 'structured_dim': 50}, 'encoder': {'type': 'lstm', 'hidden_size': 128}, 'attention': {'similarity': {'type': 'additive', 'hidden_size': 128}}} and extras {}\n",
      "INFO - 2019-03-27 18:19:21,618 - type = seq_classifier_with_attention\n",
      "INFO - 2019-03-27 18:19:21,618 - instantiating class <class 'PatientVec.models.modules.Embedder.Embedder'> from params {'type': 'token_embedder', 'vocab_size': 29286, 'embed_size': 200, 'embedding_file': './preprocess/Mortality/embedding_matrix.npy'} and extras {}\n",
      "INFO - 2019-03-27 18:19:21,618 - embedder.type = token_embedder\n",
      "INFO - 2019-03-27 18:19:21,619 - instantiating class <class 'PatientVec.models.modules.Embedder.TokenEmbedder'> from params {'vocab_size': 29286, 'embed_size': 200, 'embedding_file': './preprocess/Mortality/embedding_matrix.npy'} and extras {}\n",
      "INFO - 2019-03-27 18:19:21,620 - embedder.vocab_size = 29286\n",
      "INFO - 2019-03-27 18:19:21,620 - embedder.embed_size = 200\n",
      "INFO - 2019-03-27 18:19:21,620 - embedder.embedding_file = ./preprocess/Mortality/embedding_matrix.npy\n",
      "INFO - 2019-03-27 18:19:21,641 - instantiating class <class 'PatientVec.models.modules.Encoder.Encoder'> from params {'type': 'lstm', 'hidden_size': 128} and extras {'input_size': 200}\n",
      "INFO - 2019-03-27 18:19:21,641 - encoder.type = lstm\n",
      "INFO - 2019-03-27 18:19:21,642 - instantiating class <class 'PatientVec.models.modules.Encoder.wrap_pytorch_rnn.<locals>.BiRNNEncoder'> from params {'hidden_size': 128} and extras {'input_size': 200}\n",
      "INFO - 2019-03-27 18:19:21,642 - encoder.hidden_size = 128\n",
      "INFO - 2019-03-27 18:19:21,645 - instantiating class <class 'PatientVec.models.modules.SelfAttention.SelfAttention'> from params {'similarity': {'type': 'additive', 'hidden_size': 128, 'tensor_1_dim': 256}} and extras {}\n",
      "INFO - 2019-03-27 18:19:21,645 - instantiating class <class 'PatientVec.models.modules.UniSimilarity.UniSimilarity'> from params {'type': 'additive', 'hidden_size': 128, 'tensor_1_dim': 256} and extras {}\n",
      "INFO - 2019-03-27 18:19:21,645 - attention.similarity.type = additive\n",
      "INFO - 2019-03-27 18:19:21,645 - instantiating class <class 'PatientVec.models.modules.UniSimilarity.UniAdditiveSimilarity'> from params {'hidden_size': 128, 'tensor_1_dim': 256} and extras {}\n",
      "INFO - 2019-03-27 18:19:21,646 - attention.similarity.tensor_1_dim = 256\n",
      "INFO - 2019-03-27 18:19:21,646 - attention.similarity.hidden_size = 128\n",
      "INFO - 2019-03-27 18:19:21,646 - attention.similarity.output_size = 1\n",
      "INFO - 2019-03-27 18:19:21,648 - attention.normaliser = softmax\n",
      "INFO - 2019-03-27 18:19:21,648 - decoder.input_dim = 306\n",
      "INFO - 2019-03-27 18:19:21,648 - decoder.num_layers = 2\n",
      "INFO - 2019-03-27 18:19:21,648 - decoder.hidden_dims = [128, 1]\n",
      "INFO - 2019-03-27 18:19:21,649 - decoder.activations = ['tanh', 'linear']\n",
      "INFO - 2019-03-27 18:19:21,649 - decoder.dropout = 0.0\n",
      "INFO - 2019-03-27 18:19:21,650 - instantiating class <class 'PatientVec.models.modules.Predictor.Predictor'> from params {'type': 'binary'} and extras {}\n",
      "INFO - 2019-03-27 18:19:21,650 - predictor.type = binary\n",
      "INFO - 2019-03-27 18:19:21,651 - instantiating class <class 'PatientVec.models.modules.Predictor.Binary_Predictor'> from params {} and extras {}\n",
      "INFO - 2019-03-27 18:19:21,651 - predictor.replicate = False\n",
      "INFO - 2019-03-27 18:19:21,651 - predictor.alpha = 0.5\n",
      "INFO - 2019-03-27 18:19:21,669 - instantiating class <class 'PatientVec.models.Model.Model'> from params {'type': 'seq_classifier_with_attention', 'embedder': {'type': 'token_embedder', 'vocab_size': 29286, 'embed_size': 200, 'embedding_file': './preprocess/Mortality/embedding_matrix.npy'}, 'decoder': {'num_layers': 2, 'hidden_dims': [128, 1], 'activations': ['tanh', 'linear']}, 'predictor': {'type': 'binary'}, 'structured': {'use_structured': True, 'structured_dim': 50}, 'encoder': {'type': 'cnn', 'hidden_size': 64, 'kernel_sizes': [3, 5, 7, 9], 'activation': 'relu'}, 'attention': {'similarity': {'type': 'additive', 'hidden_size': 128}}} and extras {}\n",
      "INFO - 2019-03-27 18:19:21,669 - type = seq_classifier_with_attention\n",
      "INFO - 2019-03-27 18:19:21,670 - instantiating class <class 'PatientVec.models.modules.Embedder.Embedder'> from params {'type': 'token_embedder', 'vocab_size': 29286, 'embed_size': 200, 'embedding_file': './preprocess/Mortality/embedding_matrix.npy'} and extras {}\n",
      "INFO - 2019-03-27 18:19:21,670 - embedder.type = token_embedder\n",
      "INFO - 2019-03-27 18:19:21,670 - instantiating class <class 'PatientVec.models.modules.Embedder.TokenEmbedder'> from params {'vocab_size': 29286, 'embed_size': 200, 'embedding_file': './preprocess/Mortality/embedding_matrix.npy'} and extras {}\n",
      "INFO - 2019-03-27 18:19:21,670 - embedder.vocab_size = 29286\n",
      "INFO - 2019-03-27 18:19:21,670 - embedder.embed_size = 200\n",
      "INFO - 2019-03-27 18:19:21,671 - embedder.embedding_file = ./preprocess/Mortality/embedding_matrix.npy\n",
      "INFO - 2019-03-27 18:19:21,693 - instantiating class <class 'PatientVec.models.modules.Encoder.Encoder'> from params {'type': 'cnn', 'hidden_size': 64, 'kernel_sizes': [3, 5, 7, 9], 'activation': 'relu'} and extras {'input_size': 200}\n",
      "INFO - 2019-03-27 18:19:21,693 - encoder.type = cnn\n",
      "INFO - 2019-03-27 18:19:21,693 - instantiating class <class 'PatientVec.models.modules.Encoder.CNNEncoder'> from params {'hidden_size': 64, 'kernel_sizes': [3, 5, 7, 9], 'activation': 'relu'} and extras {'input_size': 200}\n",
      "INFO - 2019-03-27 18:19:21,694 - encoder.hidden_size = 64\n",
      "INFO - 2019-03-27 18:19:21,694 - encoder.kernel_sizes = [3, 5, 7, 9]\n",
      "INFO - 2019-03-27 18:19:21,694 - encoder.activation = relu\n",
      "INFO - 2019-03-27 18:19:21,697 - instantiating class <class 'PatientVec.models.modules.SelfAttention.SelfAttention'> from params {'similarity': {'type': 'additive', 'hidden_size': 128, 'tensor_1_dim': 256}} and extras {}\n",
      "INFO - 2019-03-27 18:19:21,697 - instantiating class <class 'PatientVec.models.modules.UniSimilarity.UniSimilarity'> from params {'type': 'additive', 'hidden_size': 128, 'tensor_1_dim': 256} and extras {}\n",
      "INFO - 2019-03-27 18:19:21,697 - attention.similarity.type = additive\n",
      "INFO - 2019-03-27 18:19:21,698 - instantiating class <class 'PatientVec.models.modules.UniSimilarity.UniAdditiveSimilarity'> from params {'hidden_size': 128, 'tensor_1_dim': 256} and extras {}\n",
      "INFO - 2019-03-27 18:19:21,698 - attention.similarity.tensor_1_dim = 256\n",
      "INFO - 2019-03-27 18:19:21,698 - attention.similarity.hidden_size = 128\n",
      "INFO - 2019-03-27 18:19:21,698 - attention.similarity.output_size = 1\n",
      "INFO - 2019-03-27 18:19:21,700 - attention.normaliser = softmax\n",
      "INFO - 2019-03-27 18:19:21,700 - decoder.input_dim = 306\n",
      "INFO - 2019-03-27 18:19:21,700 - decoder.num_layers = 2\n",
      "INFO - 2019-03-27 18:19:21,700 - decoder.hidden_dims = [128, 1]\n",
      "INFO - 2019-03-27 18:19:21,701 - decoder.activations = ['tanh', 'linear']\n",
      "INFO - 2019-03-27 18:19:21,701 - decoder.dropout = 0.0\n",
      "INFO - 2019-03-27 18:19:21,702 - instantiating class <class 'PatientVec.models.modules.Predictor.Predictor'> from params {'type': 'binary'} and extras {}\n",
      "INFO - 2019-03-27 18:19:21,702 - predictor.type = binary\n",
      "INFO - 2019-03-27 18:19:21,703 - instantiating class <class 'PatientVec.models.modules.Predictor.Binary_Predictor'> from params {} and extras {}\n",
      "INFO - 2019-03-27 18:19:21,703 - predictor.replicate = False\n",
      "INFO - 2019-03-27 18:19:21,703 - predictor.alpha = 0.5\n"
     ]
    },
    {
     "name": "stdout",
     "output_type": "stream",
     "text": [
      "{'model': {'type': 'seq_classifier_with_attention', 'embedder': {'type': 'token_embedder', 'vocab_size': 29286, 'embed_size': 200, 'embedding_file': './preprocess/Mortality/embedding_matrix.npy'}, 'decoder': {'num_layers': 2, 'hidden_dims': [128, 1], 'activations': ['tanh', 'linear']}, 'predictor': {'type': 'binary'}, 'structured': {'use_structured': True, 'structured_dim': 50}, 'encoder': {'type': 'average', 'projection': True, 'hidden_size': 256, 'activation': 'relu'}, 'attention': {'similarity': {'type': 'additive', 'hidden_size': 128}}}, 'training_config': {'type': 'Adam', 'groups': [('.*', {'lr': 0.001, 'weight_decay': 1e-05})], 'common': {'bsize': 16, 'class_weight': True}}, 'exp_config': {'exp_name': 'Mortality_30day/Attention/Average(hs=256)+Attention(additive)(hs=128)+Structured', 'basepath': 'outputs/'}}\n",
      "Setting Embedding\n",
      "{'model': {'type': 'seq_classifier_with_attention', 'embedder': {'type': 'token_embedder', 'vocab_size': 29286, 'embed_size': 200, 'embedding_file': './preprocess/Mortality/embedding_matrix.npy'}, 'decoder': {'num_layers': 2, 'hidden_dims': [128, 1], 'activations': ['tanh', 'linear']}, 'predictor': {'type': 'binary'}, 'structured': {'use_structured': True, 'structured_dim': 50}, 'encoder': {'type': 'lstm', 'hidden_size': 128}, 'attention': {'similarity': {'type': 'additive', 'hidden_size': 128}}}, 'training_config': {'type': 'Adam', 'groups': [('.*', {'lr': 0.001, 'weight_decay': 1e-05})], 'common': {'bsize': 16, 'class_weight': True}}, 'exp_config': {'exp_name': 'Mortality_30day/Attention/LSTM(hs=128)+Attention(additive)(hs=128)+Structured', 'basepath': 'outputs/'}}\n",
      "Setting Embedding\n",
      "{'model': {'type': 'seq_classifier_with_attention', 'embedder': {'type': 'token_embedder', 'vocab_size': 29286, 'embed_size': 200, 'embedding_file': './preprocess/Mortality/embedding_matrix.npy'}, 'decoder': {'num_layers': 2, 'hidden_dims': [128, 1], 'activations': ['tanh', 'linear']}, 'predictor': {'type': 'binary'}, 'structured': {'use_structured': True, 'structured_dim': 50}, 'encoder': {'type': 'cnn', 'hidden_size': 64, 'kernel_sizes': [3, 5, 7, 9], 'activation': 'relu'}, 'attention': {'similarity': {'type': 'additive', 'hidden_size': 128}}}, 'training_config': {'type': 'Adam', 'groups': [('.*', {'lr': 0.001, 'weight_decay': 1e-05})], 'common': {'bsize': 16, 'class_weight': True}}, 'exp_config': {'exp_name': 'Mortality_30day/Attention/CNN(hs=64)(kernels=3,5,7,9)+Attention(additive)(hs=128)+Structured', 'basepath': 'outputs/'}}\n",
      "Setting Embedding\n",
      "Pos Percentage [0.15129873]\n"
     ]
    },
    {
     "name": "stderr",
     "output_type": "stream",
     "text": [
      "INFO - 2019-03-27 18:19:25,300 - Maximum Sentence Length 721825.000000 , 90 percentile length 18596.000000 ... \n",
      "INFO - 2019-03-27 18:19:31,187 - Truncated all ...\n",
      "INFO - 2019-03-27 18:19:31,229 - Idxs removed []...\n"
     ]
    },
    {
     "name": "stdout",
     "output_type": "stream",
     "text": [
      "Pos Percentage [0.14555348]\n"
     ]
    },
    {
     "name": "stderr",
     "output_type": "stream",
     "text": [
      "INFO - 2019-03-27 18:19:32,096 - Maximum Sentence Length 420764.000000 , 90 percentile length 17662.000000 ... \n",
      "INFO - 2019-03-27 18:19:36,638 - Truncated all ...\n",
      "INFO - 2019-03-27 18:19:36,649 - Idxs removed []...\n"
     ]
    },
    {
     "name": "stdout",
     "output_type": "stream",
     "text": [
      "Pos Percentage [0.15358455]\n"
     ]
    },
    {
     "name": "stderr",
     "output_type": "stream",
     "text": [
      "INFO - 2019-03-27 18:19:37,657 - Maximum Sentence Length 707041.000000 , 90 percentile length 17669.000000 ... \n",
      "INFO - 2019-03-27 18:19:39,445 - Truncated all ...\n",
      "INFO - 2019-03-27 18:19:39,458 - Idxs removed []...\n",
      "INFO - 2019-03-27 18:19:39,517 - instantiating class <class 'PatientVec.models.Model.Model'> from params {'type': 'seq_classifier', 'embedder': {'type': 'token_embedder', 'vocab_size': 29286, 'embed_size': 200, 'embedding_file': './preprocess/Mortality/embedding_matrix.npy'}, 'decoder': {'num_layers': 2, 'hidden_dims': [128, 1], 'activations': ['tanh', 'linear']}, 'predictor': {'type': 'binary'}, 'structured': {'use_structured': True, 'structured_dim': 50}, 'encoder': {'type': 'sru', 'hidden_size': 128}} and extras {}\n",
      "INFO - 2019-03-27 18:19:39,517 - type = seq_classifier\n",
      "INFO - 2019-03-27 18:19:39,517 - instantiating class <class 'PatientVec.models.modules.Embedder.Embedder'> from params {'type': 'token_embedder', 'vocab_size': 29286, 'embed_size': 200, 'embedding_file': './preprocess/Mortality/embedding_matrix.npy'} and extras {}\n",
      "INFO - 2019-03-27 18:19:39,518 - embedder.type = token_embedder\n",
      "INFO - 2019-03-27 18:19:39,518 - instantiating class <class 'PatientVec.models.modules.Embedder.TokenEmbedder'> from params {'vocab_size': 29286, 'embed_size': 200, 'embedding_file': './preprocess/Mortality/embedding_matrix.npy'} and extras {}\n",
      "INFO - 2019-03-27 18:19:39,518 - embedder.vocab_size = 29286\n",
      "INFO - 2019-03-27 18:19:39,519 - embedder.embed_size = 200\n",
      "INFO - 2019-03-27 18:19:39,519 - embedder.embedding_file = ./preprocess/Mortality/embedding_matrix.npy\n",
      "INFO - 2019-03-27 18:19:39,541 - instantiating class <class 'PatientVec.models.modules.Encoder.Encoder'> from params {'type': 'sru', 'hidden_size': 128} and extras {'input_size': 200}\n",
      "INFO - 2019-03-27 18:19:39,541 - encoder.type = sru\n",
      "INFO - 2019-03-27 18:19:39,542 - instantiating class <class 'PatientVec.models.modules.Encoder.SRUEncoder'> from params {'hidden_size': 128} and extras {'input_size': 200}\n",
      "INFO - 2019-03-27 18:19:39,542 - encoder.hidden_size = 128\n",
      "INFO - 2019-03-27 18:19:39,545 - decoder.input_dim = 306\n",
      "INFO - 2019-03-27 18:19:39,545 - decoder.num_layers = 2\n",
      "INFO - 2019-03-27 18:19:39,546 - decoder.hidden_dims = [128, 1]\n",
      "INFO - 2019-03-27 18:19:39,546 - decoder.activations = ['tanh', 'linear']\n",
      "INFO - 2019-03-27 18:19:39,546 - decoder.dropout = 0.0\n",
      "INFO - 2019-03-27 18:19:39,548 - instantiating class <class 'PatientVec.models.modules.Predictor.Predictor'> from params {'type': 'binary'} and extras {}\n",
      "INFO - 2019-03-27 18:19:39,548 - predictor.type = binary\n",
      "INFO - 2019-03-27 18:19:39,548 - instantiating class <class 'PatientVec.models.modules.Predictor.Binary_Predictor'> from params {} and extras {}\n",
      "INFO - 2019-03-27 18:19:39,549 - predictor.replicate = False\n",
      "INFO - 2019-03-27 18:19:39,549 - predictor.alpha = 0.5\n",
      "INFO - 2019-03-27 18:19:39,558 - instantiating class <class 'PatientVec.models.Model.Model'> from params {'type': 'seq_classifier', 'embedder': {'type': 'token_embedder', 'vocab_size': 29286, 'embed_size': 200, 'embedding_file': './preprocess/Mortality/embedding_matrix.npy'}, 'decoder': {'num_layers': 2, 'hidden_dims': [128, 1], 'activations': ['tanh', 'linear']}, 'predictor': {'type': 'binary'}, 'structured': {'use_structured': True, 'structured_dim': 50}, 'encoder': {'type': 'sru', 'hidden_size': 128}} and extras {}\n",
      "INFO - 2019-03-27 18:19:39,558 - type = seq_classifier\n",
      "INFO - 2019-03-27 18:19:39,559 - instantiating class <class 'PatientVec.models.modules.Embedder.Embedder'> from params {'type': 'token_embedder', 'vocab_size': 29286, 'embed_size': 200, 'embedding_file': './preprocess/Mortality/embedding_matrix.npy'} and extras {}\n",
      "INFO - 2019-03-27 18:19:39,559 - embedder.type = token_embedder\n",
      "INFO - 2019-03-27 18:19:39,559 - instantiating class <class 'PatientVec.models.modules.Embedder.TokenEmbedder'> from params {'vocab_size': 29286, 'embed_size': 200, 'embedding_file': './preprocess/Mortality/embedding_matrix.npy'} and extras {}\n",
      "INFO - 2019-03-27 18:19:39,561 - embedder.vocab_size = 29286\n",
      "INFO - 2019-03-27 18:19:39,561 - embedder.embed_size = 200\n",
      "INFO - 2019-03-27 18:19:39,561 - embedder.embedding_file = ./preprocess/Mortality/embedding_matrix.npy\n",
      "INFO - 2019-03-27 18:19:39,586 - instantiating class <class 'PatientVec.models.modules.Encoder.Encoder'> from params {'type': 'sru', 'hidden_size': 128} and extras {'input_size': 200}\n",
      "INFO - 2019-03-27 18:19:39,586 - encoder.type = sru\n",
      "INFO - 2019-03-27 18:19:39,586 - instantiating class <class 'PatientVec.models.modules.Encoder.SRUEncoder'> from params {'hidden_size': 128} and extras {'input_size': 200}\n",
      "INFO - 2019-03-27 18:19:39,587 - encoder.hidden_size = 128\n",
      "INFO - 2019-03-27 18:19:39,590 - decoder.input_dim = 306\n",
      "INFO - 2019-03-27 18:19:39,591 - decoder.num_layers = 2\n",
      "INFO - 2019-03-27 18:19:39,591 - decoder.hidden_dims = [128, 1]\n",
      "INFO - 2019-03-27 18:19:39,591 - decoder.activations = ['tanh', 'linear']\n",
      "INFO - 2019-03-27 18:19:39,591 - decoder.dropout = 0.0\n",
      "INFO - 2019-03-27 18:19:39,593 - instantiating class <class 'PatientVec.models.modules.Predictor.Predictor'> from params {'type': 'binary'} and extras {}\n",
      "INFO - 2019-03-27 18:19:39,593 - predictor.type = binary\n",
      "INFO - 2019-03-27 18:19:39,593 - instantiating class <class 'PatientVec.models.modules.Predictor.Binary_Predictor'> from params {} and extras {}\n",
      "INFO - 2019-03-27 18:19:39,594 - predictor.replicate = False\n",
      "INFO - 2019-03-27 18:19:39,594 - predictor.alpha = 0.5\n"
     ]
    },
    {
     "name": "stdout",
     "output_type": "stream",
     "text": [
      "{'model': {'type': 'seq_classifier', 'embedder': {'type': 'token_embedder', 'vocab_size': 29286, 'embed_size': 200, 'embedding_file': './preprocess/Mortality/embedding_matrix.npy'}, 'decoder': {'num_layers': 2, 'hidden_dims': [128, 1], 'activations': ['tanh', 'linear']}, 'predictor': {'type': 'binary'}, 'structured': {'use_structured': True, 'structured_dim': 50}, 'encoder': {'type': 'sru', 'hidden_size': 128}}, 'training_config': {'type': 'Adam', 'groups': [('.*', {'lr': 0.001, 'weight_decay': 1e-05})], 'common': {'bsize': 16, 'class_weight': True}}, 'exp_config': {'exp_name': 'Mortality_30day/Basic/SRU(hs=128)+Structured', 'basepath': 'outputs/'}}\n",
      "Setting Embedding\n",
      "Setting Embedding\n"
     ]
    },
    {
     "data": {
      "application/vnd.jupyter.widget-view+json": {
       "model_id": "0613f054854943b2a21daa8fdea25a34",
       "version_major": 2,
       "version_minor": 0
      },
      "text/plain": [
       "HBox(children=(IntProgress(value=0, max=184), HTML(value='')))"
      ]
     },
     "metadata": {},
     "output_type": "display_data"
    },
    {
     "name": "stdout",
     "output_type": "stream",
     "text": [
      "\n",
      "{'accuracy': 0.8450943717054923, 'roc_auc': 0.8714999767517552, 'pr_auc': 0.6140090220738689}\n"
     ]
    },
    {
     "data": {
      "text/html": [
       "<div>\n",
       "<style scoped>\n",
       "    .dataframe tbody tr th:only-of-type {\n",
       "        vertical-align: middle;\n",
       "    }\n",
       "\n",
       "    .dataframe tbody tr th {\n",
       "        vertical-align: top;\n",
       "    }\n",
       "\n",
       "    .dataframe thead th {\n",
       "        text-align: right;\n",
       "    }\n",
       "</style>\n",
       "<table border=\"1\" class=\"dataframe\">\n",
       "  <thead>\n",
       "    <tr style=\"text-align: right;\">\n",
       "      <th></th>\n",
       "      <th>0</th>\n",
       "      <th>1</th>\n",
       "      <th>micro avg</th>\n",
       "      <th>macro avg</th>\n",
       "      <th>weighted avg</th>\n",
       "    </tr>\n",
       "  </thead>\n",
       "  <tbody>\n",
       "    <tr>\n",
       "      <th>f1-score</th>\n",
       "      <td>0.907</td>\n",
       "      <td>0.544</td>\n",
       "      <td>0.845</td>\n",
       "      <td>0.725</td>\n",
       "      <td>0.854</td>\n",
       "    </tr>\n",
       "    <tr>\n",
       "      <th>precision</th>\n",
       "      <td>0.934</td>\n",
       "      <td>0.476</td>\n",
       "      <td>0.845</td>\n",
       "      <td>0.705</td>\n",
       "      <td>0.867</td>\n",
       "    </tr>\n",
       "    <tr>\n",
       "      <th>recall</th>\n",
       "      <td>0.881</td>\n",
       "      <td>0.634</td>\n",
       "      <td>0.845</td>\n",
       "      <td>0.758</td>\n",
       "      <td>0.845</td>\n",
       "    </tr>\n",
       "    <tr>\n",
       "      <th>support</th>\n",
       "      <td>5025.000</td>\n",
       "      <td>856.000</td>\n",
       "      <td>5881.000</td>\n",
       "      <td>5881.000</td>\n",
       "      <td>5881.000</td>\n",
       "    </tr>\n",
       "  </tbody>\n",
       "</table>\n",
       "</div>"
      ],
      "text/plain": [
       "                  0        1  micro avg  macro avg  weighted avg\n",
       "f1-score      0.907    0.544      0.845      0.725         0.854\n",
       "precision     0.934    0.476      0.845      0.705         0.867\n",
       "recall        0.881    0.634      0.845      0.758         0.845\n",
       "support    5025.000  856.000   5881.000   5881.000      5881.000"
      ]
     },
     "metadata": {},
     "output_type": "display_data"
    },
    {
     "data": {
      "application/vnd.jupyter.widget-view+json": {
       "model_id": "e5d93a137b124e3b854ab3e9c1b73fd9",
       "version_major": 2,
       "version_minor": 0
      },
      "text/plain": [
       "HBox(children=(IntProgress(value=0, max=230), HTML(value='')))"
      ]
     },
     "metadata": {},
     "output_type": "display_data"
    },
    {
     "name": "stdout",
     "output_type": "stream",
     "text": [
      "\n",
      "{'accuracy': 0.854577608488641, 'roc_auc': 0.8805186829556199, 'pr_auc': 0.6576728945829869}\n"
     ]
    },
    {
     "data": {
      "text/html": [
       "<div>\n",
       "<style scoped>\n",
       "    .dataframe tbody tr th:only-of-type {\n",
       "        vertical-align: middle;\n",
       "    }\n",
       "\n",
       "    .dataframe tbody tr th {\n",
       "        vertical-align: top;\n",
       "    }\n",
       "\n",
       "    .dataframe thead th {\n",
       "        text-align: right;\n",
       "    }\n",
       "</style>\n",
       "<table border=\"1\" class=\"dataframe\">\n",
       "  <thead>\n",
       "    <tr style=\"text-align: right;\">\n",
       "      <th></th>\n",
       "      <th>0</th>\n",
       "      <th>1</th>\n",
       "      <th>micro avg</th>\n",
       "      <th>macro avg</th>\n",
       "      <th>weighted avg</th>\n",
       "    </tr>\n",
       "  </thead>\n",
       "  <tbody>\n",
       "    <tr>\n",
       "      <th>f1-score</th>\n",
       "      <td>0.912</td>\n",
       "      <td>0.585</td>\n",
       "      <td>0.855</td>\n",
       "      <td>0.749</td>\n",
       "      <td>0.862</td>\n",
       "    </tr>\n",
       "    <tr>\n",
       "      <th>precision</th>\n",
       "      <td>0.937</td>\n",
       "      <td>0.521</td>\n",
       "      <td>0.855</td>\n",
       "      <td>0.729</td>\n",
       "      <td>0.873</td>\n",
       "    </tr>\n",
       "    <tr>\n",
       "      <th>recall</th>\n",
       "      <td>0.888</td>\n",
       "      <td>0.669</td>\n",
       "      <td>0.855</td>\n",
       "      <td>0.779</td>\n",
       "      <td>0.855</td>\n",
       "    </tr>\n",
       "    <tr>\n",
       "      <th>support</th>\n",
       "      <td>6222.000</td>\n",
       "      <td>1129.000</td>\n",
       "      <td>7351.000</td>\n",
       "      <td>7351.000</td>\n",
       "      <td>7351.000</td>\n",
       "    </tr>\n",
       "  </tbody>\n",
       "</table>\n",
       "</div>"
      ],
      "text/plain": [
       "                  0         1  micro avg  macro avg  weighted avg\n",
       "f1-score      0.912     0.585      0.855      0.749         0.862\n",
       "precision     0.937     0.521      0.855      0.729         0.873\n",
       "recall        0.888     0.669      0.855      0.779         0.855\n",
       "support    6222.000  1129.000   7351.000   7351.000      7351.000"
      ]
     },
     "metadata": {},
     "output_type": "display_data"
    },
    {
     "name": "stderr",
     "output_type": "stream",
     "text": [
      "INFO - 2019-03-27 18:21:17,572 - instantiating class <class 'PatientVec.models.Model.Model'> from params {'type': 'seq_classifier_with_attention', 'embedder': {'type': 'token_embedder', 'vocab_size': 29286, 'embed_size': 200, 'embedding_file': './preprocess/Mortality/embedding_matrix.npy'}, 'decoder': {'num_layers': 2, 'hidden_dims': [128, 1], 'activations': ['tanh', 'linear']}, 'predictor': {'type': 'binary'}, 'structured': {'use_structured': True, 'structured_dim': 50}, 'encoder': {'type': 'sru', 'hidden_size': 128}, 'attention': {'similarity': {'type': 'additive', 'hidden_size': 128}}} and extras {}\n",
      "INFO - 2019-03-27 18:21:17,572 - type = seq_classifier_with_attention\n",
      "INFO - 2019-03-27 18:21:17,573 - instantiating class <class 'PatientVec.models.modules.Embedder.Embedder'> from params {'type': 'token_embedder', 'vocab_size': 29286, 'embed_size': 200, 'embedding_file': './preprocess/Mortality/embedding_matrix.npy'} and extras {}\n",
      "INFO - 2019-03-27 18:21:17,573 - embedder.type = token_embedder\n",
      "INFO - 2019-03-27 18:21:17,574 - instantiating class <class 'PatientVec.models.modules.Embedder.TokenEmbedder'> from params {'vocab_size': 29286, 'embed_size': 200, 'embedding_file': './preprocess/Mortality/embedding_matrix.npy'} and extras {}\n",
      "INFO - 2019-03-27 18:21:17,574 - embedder.vocab_size = 29286\n",
      "INFO - 2019-03-27 18:21:17,575 - embedder.embed_size = 200\n",
      "INFO - 2019-03-27 18:21:17,575 - embedder.embedding_file = ./preprocess/Mortality/embedding_matrix.npy\n",
      "INFO - 2019-03-27 18:21:17,599 - instantiating class <class 'PatientVec.models.modules.Encoder.Encoder'> from params {'type': 'sru', 'hidden_size': 128} and extras {'input_size': 200}\n",
      "INFO - 2019-03-27 18:21:17,599 - encoder.type = sru\n",
      "INFO - 2019-03-27 18:21:17,600 - instantiating class <class 'PatientVec.models.modules.Encoder.SRUEncoder'> from params {'hidden_size': 128} and extras {'input_size': 200}\n",
      "INFO - 2019-03-27 18:21:17,600 - encoder.hidden_size = 128\n",
      "INFO - 2019-03-27 18:21:17,604 - instantiating class <class 'PatientVec.models.modules.SelfAttention.SelfAttention'> from params {'similarity': {'type': 'additive', 'hidden_size': 128, 'tensor_1_dim': 256}} and extras {}\n",
      "INFO - 2019-03-27 18:21:17,604 - instantiating class <class 'PatientVec.models.modules.UniSimilarity.UniSimilarity'> from params {'type': 'additive', 'hidden_size': 128, 'tensor_1_dim': 256} and extras {}\n",
      "INFO - 2019-03-27 18:21:17,604 - attention.similarity.type = additive\n",
      "INFO - 2019-03-27 18:21:17,605 - instantiating class <class 'PatientVec.models.modules.UniSimilarity.UniAdditiveSimilarity'> from params {'hidden_size': 128, 'tensor_1_dim': 256} and extras {}\n",
      "INFO - 2019-03-27 18:21:17,605 - attention.similarity.tensor_1_dim = 256\n",
      "INFO - 2019-03-27 18:21:17,605 - attention.similarity.hidden_size = 128\n",
      "INFO - 2019-03-27 18:21:17,606 - attention.similarity.output_size = 1\n",
      "INFO - 2019-03-27 18:21:17,607 - attention.normaliser = softmax\n",
      "INFO - 2019-03-27 18:21:17,607 - decoder.input_dim = 306\n",
      "INFO - 2019-03-27 18:21:17,607 - decoder.num_layers = 2\n",
      "INFO - 2019-03-27 18:21:17,608 - decoder.hidden_dims = [128, 1]\n",
      "INFO - 2019-03-27 18:21:17,608 - decoder.activations = ['tanh', 'linear']\n",
      "INFO - 2019-03-27 18:21:17,608 - decoder.dropout = 0.0\n",
      "INFO - 2019-03-27 18:21:17,609 - instantiating class <class 'PatientVec.models.modules.Predictor.Predictor'> from params {'type': 'binary'} and extras {}\n",
      "INFO - 2019-03-27 18:21:17,610 - predictor.type = binary\n",
      "INFO - 2019-03-27 18:21:17,610 - instantiating class <class 'PatientVec.models.modules.Predictor.Binary_Predictor'> from params {} and extras {}\n",
      "INFO - 2019-03-27 18:21:17,611 - predictor.replicate = False\n",
      "INFO - 2019-03-27 18:21:17,611 - predictor.alpha = 0.5\n",
      "INFO - 2019-03-27 18:21:17,621 - instantiating class <class 'PatientVec.models.Model.Model'> from params {'type': 'seq_classifier_with_attention', 'embedder': {'type': 'token_embedder', 'vocab_size': 29286, 'embed_size': 200, 'embedding_file': './preprocess/Mortality/embedding_matrix.npy'}, 'decoder': {'num_layers': 2, 'hidden_dims': [128, 1], 'activations': ['tanh', 'linear']}, 'predictor': {'type': 'binary'}, 'structured': {'use_structured': True, 'structured_dim': 50}, 'encoder': {'type': 'sru', 'hidden_size': 128}, 'attention': {'similarity': {'type': 'additive', 'hidden_size': 128}}} and extras {}\n",
      "INFO - 2019-03-27 18:21:17,622 - type = seq_classifier_with_attention\n",
      "INFO - 2019-03-27 18:21:17,622 - instantiating class <class 'PatientVec.models.modules.Embedder.Embedder'> from params {'type': 'token_embedder', 'vocab_size': 29286, 'embed_size': 200, 'embedding_file': './preprocess/Mortality/embedding_matrix.npy'} and extras {}\n",
      "INFO - 2019-03-27 18:21:17,622 - embedder.type = token_embedder\n",
      "INFO - 2019-03-27 18:21:17,623 - instantiating class <class 'PatientVec.models.modules.Embedder.TokenEmbedder'> from params {'vocab_size': 29286, 'embed_size': 200, 'embedding_file': './preprocess/Mortality/embedding_matrix.npy'} and extras {}\n",
      "INFO - 2019-03-27 18:21:17,623 - embedder.vocab_size = 29286\n",
      "INFO - 2019-03-27 18:21:17,624 - embedder.embed_size = 200\n",
      "INFO - 2019-03-27 18:21:17,624 - embedder.embedding_file = ./preprocess/Mortality/embedding_matrix.npy\n",
      "INFO - 2019-03-27 18:21:17,648 - instantiating class <class 'PatientVec.models.modules.Encoder.Encoder'> from params {'type': 'sru', 'hidden_size': 128} and extras {'input_size': 200}\n",
      "INFO - 2019-03-27 18:21:17,649 - encoder.type = sru\n",
      "INFO - 2019-03-27 18:21:17,649 - instantiating class <class 'PatientVec.models.modules.Encoder.SRUEncoder'> from params {'hidden_size': 128} and extras {'input_size': 200}\n",
      "INFO - 2019-03-27 18:21:17,650 - encoder.hidden_size = 128\n",
      "INFO - 2019-03-27 18:21:17,653 - instantiating class <class 'PatientVec.models.modules.SelfAttention.SelfAttention'> from params {'similarity': {'type': 'additive', 'hidden_size': 128, 'tensor_1_dim': 256}} and extras {}\n",
      "INFO - 2019-03-27 18:21:17,654 - instantiating class <class 'PatientVec.models.modules.UniSimilarity.UniSimilarity'> from params {'type': 'additive', 'hidden_size': 128, 'tensor_1_dim': 256} and extras {}\n",
      "INFO - 2019-03-27 18:21:17,654 - attention.similarity.type = additive\n",
      "INFO - 2019-03-27 18:21:17,654 - instantiating class <class 'PatientVec.models.modules.UniSimilarity.UniAdditiveSimilarity'> from params {'hidden_size': 128, 'tensor_1_dim': 256} and extras {}\n",
      "INFO - 2019-03-27 18:21:17,655 - attention.similarity.tensor_1_dim = 256\n",
      "INFO - 2019-03-27 18:21:17,655 - attention.similarity.hidden_size = 128\n",
      "INFO - 2019-03-27 18:21:17,655 - attention.similarity.output_size = 1\n",
      "INFO - 2019-03-27 18:21:17,656 - attention.normaliser = softmax\n",
      "INFO - 2019-03-27 18:21:17,657 - decoder.input_dim = 306\n",
      "INFO - 2019-03-27 18:21:17,657 - decoder.num_layers = 2\n",
      "INFO - 2019-03-27 18:21:17,657 - decoder.hidden_dims = [128, 1]\n",
      "INFO - 2019-03-27 18:21:17,658 - decoder.activations = ['tanh', 'linear']\n",
      "INFO - 2019-03-27 18:21:17,658 - decoder.dropout = 0.0\n",
      "INFO - 2019-03-27 18:21:17,659 - instantiating class <class 'PatientVec.models.modules.Predictor.Predictor'> from params {'type': 'binary'} and extras {}\n",
      "INFO - 2019-03-27 18:21:17,660 - predictor.type = binary\n",
      "INFO - 2019-03-27 18:21:17,660 - instantiating class <class 'PatientVec.models.modules.Predictor.Binary_Predictor'> from params {} and extras {}\n",
      "INFO - 2019-03-27 18:21:17,660 - predictor.replicate = False\n",
      "INFO - 2019-03-27 18:21:17,661 - predictor.alpha = 0.5\n"
     ]
    },
    {
     "name": "stdout",
     "output_type": "stream",
     "text": [
      "============================================================================================================================================================================================================================================================================================================\n",
      "{'model': {'type': 'seq_classifier_with_attention', 'embedder': {'type': 'token_embedder', 'vocab_size': 29286, 'embed_size': 200, 'embedding_file': './preprocess/Mortality/embedding_matrix.npy'}, 'decoder': {'num_layers': 2, 'hidden_dims': [128, 1], 'activations': ['tanh', 'linear']}, 'predictor': {'type': 'binary'}, 'structured': {'use_structured': True, 'structured_dim': 50}, 'encoder': {'type': 'sru', 'hidden_size': 128}, 'attention': {'similarity': {'type': 'additive', 'hidden_size': 128}}}, 'training_config': {'type': 'Adam', 'groups': [('.*', {'lr': 0.001, 'weight_decay': 1e-05})], 'common': {'bsize': 16, 'class_weight': True}}, 'exp_config': {'exp_name': 'Mortality_30day/Attention/SRU(hs=128)+Attention(additive)(hs=128)+Structured', 'basepath': 'outputs/'}}\n",
      "Setting Embedding\n",
      "Setting Embedding\n"
     ]
    },
    {
     "data": {
      "application/vnd.jupyter.widget-view+json": {
       "model_id": "d1900ed5439a41788f6c9c7413d7ce9d",
       "version_major": 2,
       "version_minor": 0
      },
      "text/plain": [
       "HBox(children=(IntProgress(value=0, max=184), HTML(value='')))"
      ]
     },
     "metadata": {},
     "output_type": "display_data"
    },
    {
     "name": "stdout",
     "output_type": "stream",
     "text": [
      "\n",
      "{'accuracy': 0.90103723856487, 'roc_auc': 0.9371164039615008, 'pr_auc': 0.7987269179744321}\n"
     ]
    },
    {
     "data": {
      "text/html": [
       "<div>\n",
       "<style scoped>\n",
       "    .dataframe tbody tr th:only-of-type {\n",
       "        vertical-align: middle;\n",
       "    }\n",
       "\n",
       "    .dataframe tbody tr th {\n",
       "        vertical-align: top;\n",
       "    }\n",
       "\n",
       "    .dataframe thead th {\n",
       "        text-align: right;\n",
       "    }\n",
       "</style>\n",
       "<table border=\"1\" class=\"dataframe\">\n",
       "  <thead>\n",
       "    <tr style=\"text-align: right;\">\n",
       "      <th></th>\n",
       "      <th>0</th>\n",
       "      <th>1</th>\n",
       "      <th>micro avg</th>\n",
       "      <th>macro avg</th>\n",
       "      <th>weighted avg</th>\n",
       "    </tr>\n",
       "  </thead>\n",
       "  <tbody>\n",
       "    <tr>\n",
       "      <th>f1-score</th>\n",
       "      <td>0.941</td>\n",
       "      <td>0.703</td>\n",
       "      <td>0.901</td>\n",
       "      <td>0.822</td>\n",
       "      <td>0.906</td>\n",
       "    </tr>\n",
       "    <tr>\n",
       "      <th>precision</th>\n",
       "      <td>0.965</td>\n",
       "      <td>0.624</td>\n",
       "      <td>0.901</td>\n",
       "      <td>0.795</td>\n",
       "      <td>0.915</td>\n",
       "    </tr>\n",
       "    <tr>\n",
       "      <th>recall</th>\n",
       "      <td>0.918</td>\n",
       "      <td>0.804</td>\n",
       "      <td>0.901</td>\n",
       "      <td>0.861</td>\n",
       "      <td>0.901</td>\n",
       "    </tr>\n",
       "    <tr>\n",
       "      <th>support</th>\n",
       "      <td>5025.000</td>\n",
       "      <td>856.000</td>\n",
       "      <td>5881.000</td>\n",
       "      <td>5881.000</td>\n",
       "      <td>5881.000</td>\n",
       "    </tr>\n",
       "  </tbody>\n",
       "</table>\n",
       "</div>"
      ],
      "text/plain": [
       "                  0        1  micro avg  macro avg  weighted avg\n",
       "f1-score      0.941    0.703      0.901      0.822         0.906\n",
       "precision     0.965    0.624      0.901      0.795         0.915\n",
       "recall        0.918    0.804      0.901      0.861         0.901\n",
       "support    5025.000  856.000   5881.000   5881.000      5881.000"
      ]
     },
     "metadata": {},
     "output_type": "display_data"
    },
    {
     "data": {
      "application/vnd.jupyter.widget-view+json": {
       "model_id": "09a53b223af644c6bd8def07d1e1b943",
       "version_major": 2,
       "version_minor": 0
      },
      "text/plain": [
       "HBox(children=(IntProgress(value=0, max=230), HTML(value='')))"
      ]
     },
     "metadata": {},
     "output_type": "display_data"
    },
    {
     "name": "stdout",
     "output_type": "stream",
     "text": [
      "\n",
      "{'accuracy': 0.9021901782070466, 'roc_auc': 0.9431710217665309, 'pr_auc': 0.8214453715607175}\n"
     ]
    },
    {
     "data": {
      "text/html": [
       "<div>\n",
       "<style scoped>\n",
       "    .dataframe tbody tr th:only-of-type {\n",
       "        vertical-align: middle;\n",
       "    }\n",
       "\n",
       "    .dataframe tbody tr th {\n",
       "        vertical-align: top;\n",
       "    }\n",
       "\n",
       "    .dataframe thead th {\n",
       "        text-align: right;\n",
       "    }\n",
       "</style>\n",
       "<table border=\"1\" class=\"dataframe\">\n",
       "  <thead>\n",
       "    <tr style=\"text-align: right;\">\n",
       "      <th></th>\n",
       "      <th>0</th>\n",
       "      <th>1</th>\n",
       "      <th>micro avg</th>\n",
       "      <th>macro avg</th>\n",
       "      <th>weighted avg</th>\n",
       "    </tr>\n",
       "  </thead>\n",
       "  <tbody>\n",
       "    <tr>\n",
       "      <th>f1-score</th>\n",
       "      <td>0.941</td>\n",
       "      <td>0.720</td>\n",
       "      <td>0.902</td>\n",
       "      <td>0.831</td>\n",
       "      <td>0.907</td>\n",
       "    </tr>\n",
       "    <tr>\n",
       "      <th>precision</th>\n",
       "      <td>0.966</td>\n",
       "      <td>0.642</td>\n",
       "      <td>0.902</td>\n",
       "      <td>0.804</td>\n",
       "      <td>0.916</td>\n",
       "    </tr>\n",
       "    <tr>\n",
       "      <th>recall</th>\n",
       "      <td>0.917</td>\n",
       "      <td>0.820</td>\n",
       "      <td>0.902</td>\n",
       "      <td>0.869</td>\n",
       "      <td>0.902</td>\n",
       "    </tr>\n",
       "    <tr>\n",
       "      <th>support</th>\n",
       "      <td>6222.000</td>\n",
       "      <td>1129.000</td>\n",
       "      <td>7351.000</td>\n",
       "      <td>7351.000</td>\n",
       "      <td>7351.000</td>\n",
       "    </tr>\n",
       "  </tbody>\n",
       "</table>\n",
       "</div>"
      ],
      "text/plain": [
       "                  0         1  micro avg  macro avg  weighted avg\n",
       "f1-score      0.941     0.720      0.902      0.831         0.907\n",
       "precision     0.966     0.642      0.902      0.804         0.916\n",
       "recall        0.917     0.820      0.902      0.869         0.902\n",
       "support    6222.000  1129.000   7351.000   7351.000      7351.000"
      ]
     },
     "metadata": {},
     "output_type": "display_data"
    },
    {
     "name": "stdout",
     "output_type": "stream",
     "text": [
      "============================================================================================================================================================================================================================================================================================================\n",
      "Pos Percentage [0.15129873]\n"
     ]
    },
    {
     "name": "stderr",
     "output_type": "stream",
     "text": [
      "INFO - 2019-03-27 18:23:11,377 - Maximum Sentence Length 721825.000000 , 90 percentile length 18596.000000 ... \n",
      "INFO - 2019-03-27 18:23:17,329 - Truncated all ...\n",
      "INFO - 2019-03-27 18:23:17,381 - Idxs removed []...\n"
     ]
    },
    {
     "name": "stdout",
     "output_type": "stream",
     "text": [
      "Pos Percentage [0.14555348]\n"
     ]
    },
    {
     "name": "stderr",
     "output_type": "stream",
     "text": [
      "INFO - 2019-03-27 18:23:18,252 - Maximum Sentence Length 420764.000000 , 90 percentile length 17662.000000 ... \n",
      "INFO - 2019-03-27 18:23:22,802 - Truncated all ...\n",
      "INFO - 2019-03-27 18:23:22,815 - Idxs removed []...\n"
     ]
    },
    {
     "name": "stdout",
     "output_type": "stream",
     "text": [
      "Pos Percentage [0.15358455]\n"
     ]
    },
    {
     "name": "stderr",
     "output_type": "stream",
     "text": [
      "INFO - 2019-03-27 18:23:23,800 - Maximum Sentence Length 707041.000000 , 90 percentile length 17669.000000 ... \n",
      "INFO - 2019-03-27 18:23:25,652 - Truncated all ...\n",
      "INFO - 2019-03-27 18:23:25,667 - Idxs removed []...\n",
      "INFO - 2019-03-27 18:23:25,725 - instantiating class <class 'PatientVec.models.Model.Model'> from params {'type': 'seq_classifier_with_structured_attention', 'embedder': {'type': 'token_embedder', 'vocab_size': 29286, 'embed_size': 200, 'embedding_file': './preprocess/Mortality/embedding_matrix.npy'}, 'decoder': {'num_layers': 2, 'hidden_dims': [128, 1], 'activations': ['tanh', 'linear']}, 'predictor': {'type': 'binary'}, 'structured': {'use_structured': True, 'structured_dim': 50}, 'encoder': {'type': 'average', 'projection': True, 'hidden_size': 256, 'activation': 'relu'}, 'attention': {'similarity': {'type': 'additive', 'hidden_size': 128, 'tensor_2_dim': 50}}} and extras {}\n",
      "INFO - 2019-03-27 18:23:25,725 - type = seq_classifier_with_structured_attention\n",
      "INFO - 2019-03-27 18:23:25,726 - instantiating class <class 'PatientVec.models.modules.Embedder.Embedder'> from params {'type': 'token_embedder', 'vocab_size': 29286, 'embed_size': 200, 'embedding_file': './preprocess/Mortality/embedding_matrix.npy'} and extras {}\n",
      "INFO - 2019-03-27 18:23:25,726 - embedder.type = token_embedder\n",
      "INFO - 2019-03-27 18:23:25,727 - instantiating class <class 'PatientVec.models.modules.Embedder.TokenEmbedder'> from params {'vocab_size': 29286, 'embed_size': 200, 'embedding_file': './preprocess/Mortality/embedding_matrix.npy'} and extras {}\n",
      "INFO - 2019-03-27 18:23:25,727 - embedder.vocab_size = 29286\n",
      "INFO - 2019-03-27 18:23:25,728 - embedder.embed_size = 200\n",
      "INFO - 2019-03-27 18:23:25,728 - embedder.embedding_file = ./preprocess/Mortality/embedding_matrix.npy\n",
      "INFO - 2019-03-27 18:23:25,751 - instantiating class <class 'PatientVec.models.modules.Encoder.Encoder'> from params {'type': 'average', 'projection': True, 'hidden_size': 256, 'activation': 'relu'} and extras {'input_size': 200}\n",
      "INFO - 2019-03-27 18:23:25,751 - encoder.type = average\n",
      "INFO - 2019-03-27 18:23:25,752 - instantiating class <class 'PatientVec.models.modules.Encoder.AverageEncoder'> from params {'projection': True, 'hidden_size': 256, 'activation': 'relu'} and extras {'input_size': 200}\n",
      "INFO - 2019-03-27 18:23:25,752 - encoder.projection = True\n",
      "INFO - 2019-03-27 18:23:25,753 - encoder.hidden_size = 256\n",
      "INFO - 2019-03-27 18:23:25,753 - encoder.activation = relu\n",
      "INFO - 2019-03-27 18:23:25,754 - instantiating class <class 'PatientVec.models.modules.Attention.Attention'> from params {'similarity': {'type': 'additive', 'hidden_size': 128, 'tensor_2_dim': 50, 'tensor_1_dim': 256}} and extras {}\n",
      "INFO - 2019-03-27 18:23:25,754 - instantiating class <class 'PatientVec.models.modules.BiSimilarity.BiSimilarity'> from params {'type': 'additive', 'hidden_size': 128, 'tensor_2_dim': 50, 'tensor_1_dim': 256} and extras {}\n",
      "INFO - 2019-03-27 18:23:25,755 - attention.similarity.type = additive\n",
      "INFO - 2019-03-27 18:23:25,755 - instantiating class <class 'PatientVec.models.modules.BiSimilarity.BiAdditiveSimilarity'> from params {'hidden_size': 128, 'tensor_2_dim': 50, 'tensor_1_dim': 256} and extras {}\n",
      "INFO - 2019-03-27 18:23:25,756 - attention.similarity.tensor_1_dim = 256\n",
      "INFO - 2019-03-27 18:23:25,756 - attention.similarity.tensor_2_dim = 50\n",
      "INFO - 2019-03-27 18:23:25,757 - attention.similarity.hidden_size = 128\n",
      "INFO - 2019-03-27 18:23:25,758 - attention.normaliser = softmax\n",
      "INFO - 2019-03-27 18:23:25,758 - decoder.input_dim = 306\n",
      "INFO - 2019-03-27 18:23:25,758 - decoder.num_layers = 2\n",
      "INFO - 2019-03-27 18:23:25,759 - decoder.hidden_dims = [128, 1]\n",
      "INFO - 2019-03-27 18:23:25,759 - decoder.activations = ['tanh', 'linear']\n",
      "INFO - 2019-03-27 18:23:25,760 - decoder.dropout = 0.0\n",
      "INFO - 2019-03-27 18:23:25,761 - instantiating class <class 'PatientVec.models.modules.Predictor.Predictor'> from params {'type': 'binary'} and extras {}\n",
      "INFO - 2019-03-27 18:23:25,761 - predictor.type = binary\n",
      "INFO - 2019-03-27 18:23:25,761 - instantiating class <class 'PatientVec.models.modules.Predictor.Binary_Predictor'> from params {} and extras {}\n",
      "INFO - 2019-03-27 18:23:25,762 - predictor.replicate = False\n",
      "INFO - 2019-03-27 18:23:25,774 - predictor.alpha = 0.5\n",
      "INFO - 2019-03-27 18:23:25,783 - instantiating class <class 'PatientVec.models.Model.Model'> from params {'type': 'seq_classifier_with_structured_attention', 'embedder': {'type': 'token_embedder', 'vocab_size': 29286, 'embed_size': 200, 'embedding_file': '/scratch/jain.sar/PatientVec/preprocess/Mortality/embedding_matrix.npy'}, 'decoder': {'num_layers': 2, 'hidden_dims': [128, 1], 'activations': ['tanh', 'linear']}, 'predictor': {'type': 'binary'}, 'structured': {'use_structured': True, 'structured_dim': 50}, 'encoder': {'type': 'average', 'projection': True, 'hidden_size': 256, 'activation': 'relu'}, 'attention': {'similarity': {'type': 'additive', 'hidden_size': 128, 'tensor_2_dim': 50}}} and extras {}\n",
      "INFO - 2019-03-27 18:23:25,784 - type = seq_classifier_with_structured_attention\n",
      "INFO - 2019-03-27 18:23:25,784 - instantiating class <class 'PatientVec.models.modules.Embedder.Embedder'> from params {'type': 'token_embedder', 'vocab_size': 29286, 'embed_size': 200, 'embedding_file': '/scratch/jain.sar/PatientVec/preprocess/Mortality/embedding_matrix.npy'} and extras {}\n",
      "INFO - 2019-03-27 18:23:25,784 - embedder.type = token_embedder\n",
      "INFO - 2019-03-27 18:23:25,785 - instantiating class <class 'PatientVec.models.modules.Embedder.TokenEmbedder'> from params {'vocab_size': 29286, 'embed_size': 200, 'embedding_file': '/scratch/jain.sar/PatientVec/preprocess/Mortality/embedding_matrix.npy'} and extras {}\n",
      "INFO - 2019-03-27 18:23:25,785 - embedder.vocab_size = 29286\n",
      "INFO - 2019-03-27 18:23:25,786 - embedder.embed_size = 200\n",
      "INFO - 2019-03-27 18:23:25,786 - embedder.embedding_file = /scratch/jain.sar/PatientVec/preprocess/Mortality/embedding_matrix.npy\n",
      "INFO - 2019-03-27 18:23:25,815 - instantiating class <class 'PatientVec.models.modules.Encoder.Encoder'> from params {'type': 'average', 'projection': True, 'hidden_size': 256, 'activation': 'relu'} and extras {'input_size': 200}\n",
      "INFO - 2019-03-27 18:23:25,815 - encoder.type = average\n",
      "INFO - 2019-03-27 18:23:25,815 - instantiating class <class 'PatientVec.models.modules.Encoder.AverageEncoder'> from params {'projection': True, 'hidden_size': 256, 'activation': 'relu'} and extras {'input_size': 200}\n",
      "INFO - 2019-03-27 18:23:25,816 - encoder.projection = True\n",
      "INFO - 2019-03-27 18:23:25,816 - encoder.hidden_size = 256\n",
      "INFO - 2019-03-27 18:23:25,816 - encoder.activation = relu\n",
      "INFO - 2019-03-27 18:23:25,817 - instantiating class <class 'PatientVec.models.modules.Attention.Attention'> from params {'similarity': {'type': 'additive', 'hidden_size': 128, 'tensor_2_dim': 50, 'tensor_1_dim': 256}} and extras {}\n",
      "INFO - 2019-03-27 18:23:25,817 - instantiating class <class 'PatientVec.models.modules.BiSimilarity.BiSimilarity'> from params {'type': 'additive', 'hidden_size': 128, 'tensor_2_dim': 50, 'tensor_1_dim': 256} and extras {}\n",
      "INFO - 2019-03-27 18:23:25,818 - attention.similarity.type = additive\n",
      "INFO - 2019-03-27 18:23:25,818 - instantiating class <class 'PatientVec.models.modules.BiSimilarity.BiAdditiveSimilarity'> from params {'hidden_size': 128, 'tensor_2_dim': 50, 'tensor_1_dim': 256} and extras {}\n",
      "INFO - 2019-03-27 18:23:25,819 - attention.similarity.tensor_1_dim = 256\n",
      "INFO - 2019-03-27 18:23:25,819 - attention.similarity.tensor_2_dim = 50\n",
      "INFO - 2019-03-27 18:23:25,819 - attention.similarity.hidden_size = 128\n",
      "INFO - 2019-03-27 18:23:25,820 - attention.normaliser = softmax\n",
      "INFO - 2019-03-27 18:23:25,821 - decoder.input_dim = 306\n",
      "INFO - 2019-03-27 18:23:25,821 - decoder.num_layers = 2\n",
      "INFO - 2019-03-27 18:23:25,822 - decoder.hidden_dims = [128, 1]\n",
      "INFO - 2019-03-27 18:23:25,822 - decoder.activations = ['tanh', 'linear']\n",
      "INFO - 2019-03-27 18:23:25,822 - decoder.dropout = 0.0\n",
      "INFO - 2019-03-27 18:23:25,823 - instantiating class <class 'PatientVec.models.modules.Predictor.Predictor'> from params {'type': 'binary'} and extras {}\n",
      "INFO - 2019-03-27 18:23:25,823 - predictor.type = binary\n",
      "INFO - 2019-03-27 18:23:25,824 - instantiating class <class 'PatientVec.models.modules.Predictor.Binary_Predictor'> from params {} and extras {}\n",
      "INFO - 2019-03-27 18:23:25,824 - predictor.replicate = False\n",
      "INFO - 2019-03-27 18:23:25,825 - predictor.alpha = 0.5\n"
     ]
    },
    {
     "name": "stdout",
     "output_type": "stream",
     "text": [
      "{'model': {'type': 'seq_classifier_with_structured_attention', 'embedder': {'type': 'token_embedder', 'vocab_size': 29286, 'embed_size': 200, 'embedding_file': './preprocess/Mortality/embedding_matrix.npy'}, 'decoder': {'num_layers': 2, 'hidden_dims': [128, 1], 'activations': ['tanh', 'linear']}, 'predictor': {'type': 'binary'}, 'structured': {'use_structured': True, 'structured_dim': 50}, 'encoder': {'type': 'average', 'projection': True, 'hidden_size': 256, 'activation': 'relu'}, 'attention': {'similarity': {'type': 'additive', 'hidden_size': 128, 'tensor_2_dim': 50}}}, 'training_config': {'type': 'Adam', 'groups': [('.*', {'lr': 0.001, 'weight_decay': 1e-05})], 'common': {'bsize': 32, 'class_weight': True}}, 'exp_config': {'exp_name': 'Mortality_30day/Structured Attention/Average(hs=256)+Attention(additive)(all)(hs=128)+Structured', 'basepath': 'outputs/'}}\n",
      "Setting Embedding\n",
      "Error, Embedding file given but doesn't exists ... /scratch/jain.sar/PatientVec/preprocess/Mortality/embedding_matrix.npy\n"
     ]
    },
    {
     "data": {
      "application/vnd.jupyter.widget-view+json": {
       "model_id": "4a6cd2dba13e4cae9f13f71369a417a9",
       "version_major": 2,
       "version_minor": 0
      },
      "text/plain": [
       "HBox(children=(IntProgress(value=0, max=184), HTML(value='')))"
      ]
     },
     "metadata": {},
     "output_type": "display_data"
    },
    {
     "name": "stdout",
     "output_type": "stream",
     "text": [
      "\n",
      "{'accuracy': 0.8675395340928413, 'roc_auc': 0.9372313665318268, 'pr_auc': 0.7920771593944508}\n"
     ]
    },
    {
     "data": {
      "text/html": [
       "<div>\n",
       "<style scoped>\n",
       "    .dataframe tbody tr th:only-of-type {\n",
       "        vertical-align: middle;\n",
       "    }\n",
       "\n",
       "    .dataframe tbody tr th {\n",
       "        vertical-align: top;\n",
       "    }\n",
       "\n",
       "    .dataframe thead th {\n",
       "        text-align: right;\n",
       "    }\n",
       "</style>\n",
       "<table border=\"1\" class=\"dataframe\">\n",
       "  <thead>\n",
       "    <tr style=\"text-align: right;\">\n",
       "      <th></th>\n",
       "      <th>0</th>\n",
       "      <th>1</th>\n",
       "      <th>micro avg</th>\n",
       "      <th>macro avg</th>\n",
       "      <th>weighted avg</th>\n",
       "    </tr>\n",
       "  </thead>\n",
       "  <tbody>\n",
       "    <tr>\n",
       "      <th>f1-score</th>\n",
       "      <td>0.918</td>\n",
       "      <td>0.653</td>\n",
       "      <td>0.868</td>\n",
       "      <td>0.786</td>\n",
       "      <td>0.880</td>\n",
       "    </tr>\n",
       "    <tr>\n",
       "      <th>precision</th>\n",
       "      <td>0.973</td>\n",
       "      <td>0.528</td>\n",
       "      <td>0.868</td>\n",
       "      <td>0.750</td>\n",
       "      <td>0.908</td>\n",
       "    </tr>\n",
       "    <tr>\n",
       "      <th>recall</th>\n",
       "      <td>0.869</td>\n",
       "      <td>0.857</td>\n",
       "      <td>0.868</td>\n",
       "      <td>0.863</td>\n",
       "      <td>0.868</td>\n",
       "    </tr>\n",
       "    <tr>\n",
       "      <th>support</th>\n",
       "      <td>5025.000</td>\n",
       "      <td>856.000</td>\n",
       "      <td>5881.000</td>\n",
       "      <td>5881.000</td>\n",
       "      <td>5881.000</td>\n",
       "    </tr>\n",
       "  </tbody>\n",
       "</table>\n",
       "</div>"
      ],
      "text/plain": [
       "                  0        1  micro avg  macro avg  weighted avg\n",
       "f1-score      0.918    0.653      0.868      0.786         0.880\n",
       "precision     0.973    0.528      0.868      0.750         0.908\n",
       "recall        0.869    0.857      0.868      0.863         0.868\n",
       "support    5025.000  856.000   5881.000   5881.000      5881.000"
      ]
     },
     "metadata": {},
     "output_type": "display_data"
    },
    {
     "data": {
      "application/vnd.jupyter.widget-view+json": {
       "model_id": "fd7739c44d03457b9c2d1bd3e908bd73",
       "version_major": 2,
       "version_minor": 0
      },
      "text/plain": [
       "HBox(children=(IntProgress(value=0, max=230), HTML(value='')))"
      ]
     },
     "metadata": {},
     "output_type": "display_data"
    },
    {
     "name": "stdout",
     "output_type": "stream",
     "text": [
      "\n",
      "{'accuracy': 0.8642361583458033, 'roc_auc': 0.9424837265635609, 'pr_auc': 0.8122964064310673}\n"
     ]
    },
    {
     "data": {
      "text/html": [
       "<div>\n",
       "<style scoped>\n",
       "    .dataframe tbody tr th:only-of-type {\n",
       "        vertical-align: middle;\n",
       "    }\n",
       "\n",
       "    .dataframe tbody tr th {\n",
       "        vertical-align: top;\n",
       "    }\n",
       "\n",
       "    .dataframe thead th {\n",
       "        text-align: right;\n",
       "    }\n",
       "</style>\n",
       "<table border=\"1\" class=\"dataframe\">\n",
       "  <thead>\n",
       "    <tr style=\"text-align: right;\">\n",
       "      <th></th>\n",
       "      <th>0</th>\n",
       "      <th>1</th>\n",
       "      <th>micro avg</th>\n",
       "      <th>macro avg</th>\n",
       "      <th>weighted avg</th>\n",
       "    </tr>\n",
       "  </thead>\n",
       "  <tbody>\n",
       "    <tr>\n",
       "      <th>f1-score</th>\n",
       "      <td>0.915</td>\n",
       "      <td>0.664</td>\n",
       "      <td>0.864</td>\n",
       "      <td>0.790</td>\n",
       "      <td>0.876</td>\n",
       "    </tr>\n",
       "    <tr>\n",
       "      <th>precision</th>\n",
       "      <td>0.974</td>\n",
       "      <td>0.536</td>\n",
       "      <td>0.864</td>\n",
       "      <td>0.755</td>\n",
       "      <td>0.907</td>\n",
       "    </tr>\n",
       "    <tr>\n",
       "      <th>recall</th>\n",
       "      <td>0.862</td>\n",
       "      <td>0.875</td>\n",
       "      <td>0.864</td>\n",
       "      <td>0.869</td>\n",
       "      <td>0.864</td>\n",
       "    </tr>\n",
       "    <tr>\n",
       "      <th>support</th>\n",
       "      <td>6222.000</td>\n",
       "      <td>1129.000</td>\n",
       "      <td>7351.000</td>\n",
       "      <td>7351.000</td>\n",
       "      <td>7351.000</td>\n",
       "    </tr>\n",
       "  </tbody>\n",
       "</table>\n",
       "</div>"
      ],
      "text/plain": [
       "                  0         1  micro avg  macro avg  weighted avg\n",
       "f1-score      0.915     0.664      0.864      0.790         0.876\n",
       "precision     0.974     0.536      0.864      0.755         0.907\n",
       "recall        0.862     0.875      0.864      0.869         0.864\n",
       "support    6222.000  1129.000   7351.000   7351.000      7351.000"
      ]
     },
     "metadata": {},
     "output_type": "display_data"
    },
    {
     "name": "stderr",
     "output_type": "stream",
     "text": [
      "INFO - 2019-03-27 18:24:14,362 - instantiating class <class 'PatientVec.models.Model.Model'> from params {'type': 'seq_classifier_with_structured_attention', 'embedder': {'type': 'token_embedder', 'vocab_size': 29286, 'embed_size': 200, 'embedding_file': './preprocess/Mortality/embedding_matrix.npy'}, 'decoder': {'num_layers': 2, 'hidden_dims': [128, 1], 'activations': ['tanh', 'linear']}, 'predictor': {'type': 'binary'}, 'structured': {'use_structured': True, 'structured_dim': 50}, 'encoder': {'type': 'lstm', 'hidden_size': 128}, 'attention': {'similarity': {'type': 'additive', 'hidden_size': 128, 'tensor_2_dim': 50}}} and extras {}\n",
      "INFO - 2019-03-27 18:24:14,362 - type = seq_classifier_with_structured_attention\n",
      "INFO - 2019-03-27 18:24:14,363 - instantiating class <class 'PatientVec.models.modules.Embedder.Embedder'> from params {'type': 'token_embedder', 'vocab_size': 29286, 'embed_size': 200, 'embedding_file': './preprocess/Mortality/embedding_matrix.npy'} and extras {}\n",
      "INFO - 2019-03-27 18:24:14,363 - embedder.type = token_embedder\n",
      "INFO - 2019-03-27 18:24:14,363 - instantiating class <class 'PatientVec.models.modules.Embedder.TokenEmbedder'> from params {'vocab_size': 29286, 'embed_size': 200, 'embedding_file': './preprocess/Mortality/embedding_matrix.npy'} and extras {}\n",
      "INFO - 2019-03-27 18:24:14,363 - embedder.vocab_size = 29286\n",
      "INFO - 2019-03-27 18:24:14,364 - embedder.embed_size = 200\n",
      "INFO - 2019-03-27 18:24:14,364 - embedder.embedding_file = ./preprocess/Mortality/embedding_matrix.npy\n",
      "INFO - 2019-03-27 18:24:14,386 - instantiating class <class 'PatientVec.models.modules.Encoder.Encoder'> from params {'type': 'lstm', 'hidden_size': 128} and extras {'input_size': 200}\n",
      "INFO - 2019-03-27 18:24:14,387 - encoder.type = lstm\n",
      "INFO - 2019-03-27 18:24:14,387 - instantiating class <class 'PatientVec.models.modules.Encoder.wrap_pytorch_rnn.<locals>.BiRNNEncoder'> from params {'hidden_size': 128} and extras {'input_size': 200}\n",
      "INFO - 2019-03-27 18:24:14,388 - encoder.hidden_size = 128\n",
      "INFO - 2019-03-27 18:24:14,390 - instantiating class <class 'PatientVec.models.modules.Attention.Attention'> from params {'similarity': {'type': 'additive', 'hidden_size': 128, 'tensor_2_dim': 50, 'tensor_1_dim': 256}} and extras {}\n",
      "INFO - 2019-03-27 18:24:14,390 - instantiating class <class 'PatientVec.models.modules.BiSimilarity.BiSimilarity'> from params {'type': 'additive', 'hidden_size': 128, 'tensor_2_dim': 50, 'tensor_1_dim': 256} and extras {}\n",
      "INFO - 2019-03-27 18:24:14,390 - attention.similarity.type = additive\n",
      "INFO - 2019-03-27 18:24:14,391 - instantiating class <class 'PatientVec.models.modules.BiSimilarity.BiAdditiveSimilarity'> from params {'hidden_size': 128, 'tensor_2_dim': 50, 'tensor_1_dim': 256} and extras {}\n",
      "INFO - 2019-03-27 18:24:14,391 - attention.similarity.tensor_1_dim = 256\n",
      "INFO - 2019-03-27 18:24:14,391 - attention.similarity.tensor_2_dim = 50\n",
      "INFO - 2019-03-27 18:24:14,391 - attention.similarity.hidden_size = 128\n",
      "INFO - 2019-03-27 18:24:14,393 - attention.normaliser = softmax\n",
      "INFO - 2019-03-27 18:24:14,393 - decoder.input_dim = 306\n",
      "INFO - 2019-03-27 18:24:14,394 - decoder.num_layers = 2\n",
      "INFO - 2019-03-27 18:24:14,394 - decoder.hidden_dims = [128, 1]\n",
      "INFO - 2019-03-27 18:24:14,394 - decoder.activations = ['tanh', 'linear']\n",
      "INFO - 2019-03-27 18:24:14,394 - decoder.dropout = 0.0\n",
      "INFO - 2019-03-27 18:24:14,396 - instantiating class <class 'PatientVec.models.modules.Predictor.Predictor'> from params {'type': 'binary'} and extras {}\n",
      "INFO - 2019-03-27 18:24:14,396 - predictor.type = binary\n",
      "INFO - 2019-03-27 18:24:14,396 - instantiating class <class 'PatientVec.models.modules.Predictor.Binary_Predictor'> from params {} and extras {}\n",
      "INFO - 2019-03-27 18:24:14,397 - predictor.replicate = False\n",
      "INFO - 2019-03-27 18:24:14,397 - predictor.alpha = 0.5\n",
      "INFO - 2019-03-27 18:24:14,406 - instantiating class <class 'PatientVec.models.Model.Model'> from params {'type': 'seq_classifier_with_structured_attention', 'embedder': {'type': 'token_embedder', 'vocab_size': 29286, 'embed_size': 200, 'embedding_file': '/scratch/jain.sar/PatientVec/preprocess/Mortality/embedding_matrix.npy'}, 'decoder': {'num_layers': 2, 'hidden_dims': [128, 1], 'activations': ['tanh', 'linear']}, 'predictor': {'type': 'binary'}, 'structured': {'use_structured': True, 'structured_dim': 50}, 'encoder': {'type': 'lstm', 'hidden_size': 128}, 'attention': {'similarity': {'type': 'additive', 'hidden_size': 128, 'tensor_2_dim': 50}}} and extras {}\n",
      "INFO - 2019-03-27 18:24:14,406 - type = seq_classifier_with_structured_attention\n",
      "INFO - 2019-03-27 18:24:14,407 - instantiating class <class 'PatientVec.models.modules.Embedder.Embedder'> from params {'type': 'token_embedder', 'vocab_size': 29286, 'embed_size': 200, 'embedding_file': '/scratch/jain.sar/PatientVec/preprocess/Mortality/embedding_matrix.npy'} and extras {}\n",
      "INFO - 2019-03-27 18:24:14,407 - embedder.type = token_embedder\n",
      "INFO - 2019-03-27 18:24:14,407 - instantiating class <class 'PatientVec.models.modules.Embedder.TokenEmbedder'> from params {'vocab_size': 29286, 'embed_size': 200, 'embedding_file': '/scratch/jain.sar/PatientVec/preprocess/Mortality/embedding_matrix.npy'} and extras {}\n",
      "INFO - 2019-03-27 18:24:14,408 - embedder.vocab_size = 29286\n",
      "INFO - 2019-03-27 18:24:14,408 - embedder.embed_size = 200\n",
      "INFO - 2019-03-27 18:24:14,408 - embedder.embedding_file = /scratch/jain.sar/PatientVec/preprocess/Mortality/embedding_matrix.npy\n",
      "INFO - 2019-03-27 18:24:14,438 - instantiating class <class 'PatientVec.models.modules.Encoder.Encoder'> from params {'type': 'lstm', 'hidden_size': 128} and extras {'input_size': 200}\n",
      "INFO - 2019-03-27 18:24:14,438 - encoder.type = lstm\n",
      "INFO - 2019-03-27 18:24:14,438 - instantiating class <class 'PatientVec.models.modules.Encoder.wrap_pytorch_rnn.<locals>.BiRNNEncoder'> from params {'hidden_size': 128} and extras {'input_size': 200}\n",
      "INFO - 2019-03-27 18:24:14,439 - encoder.hidden_size = 128\n",
      "INFO - 2019-03-27 18:24:14,441 - instantiating class <class 'PatientVec.models.modules.Attention.Attention'> from params {'similarity': {'type': 'additive', 'hidden_size': 128, 'tensor_2_dim': 50, 'tensor_1_dim': 256}} and extras {}\n",
      "INFO - 2019-03-27 18:24:14,441 - instantiating class <class 'PatientVec.models.modules.BiSimilarity.BiSimilarity'> from params {'type': 'additive', 'hidden_size': 128, 'tensor_2_dim': 50, 'tensor_1_dim': 256} and extras {}\n",
      "INFO - 2019-03-27 18:24:14,441 - attention.similarity.type = additive\n",
      "INFO - 2019-03-27 18:24:14,442 - instantiating class <class 'PatientVec.models.modules.BiSimilarity.BiAdditiveSimilarity'> from params {'hidden_size': 128, 'tensor_2_dim': 50, 'tensor_1_dim': 256} and extras {}\n",
      "INFO - 2019-03-27 18:24:14,442 - attention.similarity.tensor_1_dim = 256\n",
      "INFO - 2019-03-27 18:24:14,442 - attention.similarity.tensor_2_dim = 50\n",
      "INFO - 2019-03-27 18:24:14,442 - attention.similarity.hidden_size = 128\n",
      "INFO - 2019-03-27 18:24:14,444 - attention.normaliser = softmax\n",
      "INFO - 2019-03-27 18:24:14,444 - decoder.input_dim = 306\n",
      "INFO - 2019-03-27 18:24:14,444 - decoder.num_layers = 2\n",
      "INFO - 2019-03-27 18:24:14,444 - decoder.hidden_dims = [128, 1]\n",
      "INFO - 2019-03-27 18:24:14,445 - decoder.activations = ['tanh', 'linear']\n",
      "INFO - 2019-03-27 18:24:14,445 - decoder.dropout = 0.0\n",
      "INFO - 2019-03-27 18:24:14,446 - instantiating class <class 'PatientVec.models.modules.Predictor.Predictor'> from params {'type': 'binary'} and extras {}\n",
      "INFO - 2019-03-27 18:24:14,446 - predictor.type = binary\n",
      "INFO - 2019-03-27 18:24:14,447 - instantiating class <class 'PatientVec.models.modules.Predictor.Binary_Predictor'> from params {} and extras {}\n",
      "INFO - 2019-03-27 18:24:14,447 - predictor.replicate = False\n",
      "INFO - 2019-03-27 18:24:14,447 - predictor.alpha = 0.5\n"
     ]
    },
    {
     "name": "stdout",
     "output_type": "stream",
     "text": [
      "============================================================================================================================================================================================================================================================================================================\n",
      "{'model': {'type': 'seq_classifier_with_structured_attention', 'embedder': {'type': 'token_embedder', 'vocab_size': 29286, 'embed_size': 200, 'embedding_file': './preprocess/Mortality/embedding_matrix.npy'}, 'decoder': {'num_layers': 2, 'hidden_dims': [128, 1], 'activations': ['tanh', 'linear']}, 'predictor': {'type': 'binary'}, 'structured': {'use_structured': True, 'structured_dim': 50}, 'encoder': {'type': 'lstm', 'hidden_size': 128}, 'attention': {'similarity': {'type': 'additive', 'hidden_size': 128, 'tensor_2_dim': 50}}}, 'training_config': {'type': 'Adam', 'groups': [('.*', {'lr': 0.001, 'weight_decay': 1e-05})], 'common': {'bsize': 32, 'class_weight': True}}, 'exp_config': {'exp_name': 'Mortality_30day/Structured Attention/LSTM(hs=128)+Attention(additive)(all)(hs=128)+Structured', 'basepath': 'outputs/'}}\n",
      "Setting Embedding\n",
      "Error, Embedding file given but doesn't exists ... /scratch/jain.sar/PatientVec/preprocess/Mortality/embedding_matrix.npy\n"
     ]
    },
    {
     "data": {
      "application/vnd.jupyter.widget-view+json": {
       "model_id": "225f338774e94e3eb09e2cd5d6dfbdc9",
       "version_major": 2,
       "version_minor": 0
      },
      "text/plain": [
       "HBox(children=(IntProgress(value=0, max=184), HTML(value='')))"
      ]
     },
     "metadata": {},
     "output_type": "display_data"
    },
    {
     "name": "stdout",
     "output_type": "stream",
     "text": [
      "\n",
      "{'accuracy': 0.9022275123278354, 'roc_auc': 0.9393423071558097, 'pr_auc': 0.8011907507339048}\n"
     ]
    },
    {
     "data": {
      "text/html": [
       "<div>\n",
       "<style scoped>\n",
       "    .dataframe tbody tr th:only-of-type {\n",
       "        vertical-align: middle;\n",
       "    }\n",
       "\n",
       "    .dataframe tbody tr th {\n",
       "        vertical-align: top;\n",
       "    }\n",
       "\n",
       "    .dataframe thead th {\n",
       "        text-align: right;\n",
       "    }\n",
       "</style>\n",
       "<table border=\"1\" class=\"dataframe\">\n",
       "  <thead>\n",
       "    <tr style=\"text-align: right;\">\n",
       "      <th></th>\n",
       "      <th>0</th>\n",
       "      <th>1</th>\n",
       "      <th>micro avg</th>\n",
       "      <th>macro avg</th>\n",
       "      <th>weighted avg</th>\n",
       "    </tr>\n",
       "  </thead>\n",
       "  <tbody>\n",
       "    <tr>\n",
       "      <th>f1-score</th>\n",
       "      <td>0.942</td>\n",
       "      <td>0.701</td>\n",
       "      <td>0.902</td>\n",
       "      <td>0.821</td>\n",
       "      <td>0.907</td>\n",
       "    </tr>\n",
       "    <tr>\n",
       "      <th>precision</th>\n",
       "      <td>0.962</td>\n",
       "      <td>0.631</td>\n",
       "      <td>0.902</td>\n",
       "      <td>0.797</td>\n",
       "      <td>0.914</td>\n",
       "    </tr>\n",
       "    <tr>\n",
       "      <th>recall</th>\n",
       "      <td>0.922</td>\n",
       "      <td>0.789</td>\n",
       "      <td>0.902</td>\n",
       "      <td>0.855</td>\n",
       "      <td>0.902</td>\n",
       "    </tr>\n",
       "    <tr>\n",
       "      <th>support</th>\n",
       "      <td>5025.000</td>\n",
       "      <td>856.000</td>\n",
       "      <td>5881.000</td>\n",
       "      <td>5881.000</td>\n",
       "      <td>5881.000</td>\n",
       "    </tr>\n",
       "  </tbody>\n",
       "</table>\n",
       "</div>"
      ],
      "text/plain": [
       "                  0        1  micro avg  macro avg  weighted avg\n",
       "f1-score      0.942    0.701      0.902      0.821         0.907\n",
       "precision     0.962    0.631      0.902      0.797         0.914\n",
       "recall        0.922    0.789      0.902      0.855         0.902\n",
       "support    5025.000  856.000   5881.000   5881.000      5881.000"
      ]
     },
     "metadata": {},
     "output_type": "display_data"
    },
    {
     "data": {
      "application/vnd.jupyter.widget-view+json": {
       "model_id": "52992ca0753246eabee05b31a779ffe1",
       "version_major": 2,
       "version_minor": 0
      },
      "text/plain": [
       "HBox(children=(IntProgress(value=0, max=230), HTML(value='')))"
      ]
     },
     "metadata": {},
     "output_type": "display_data"
    },
    {
     "name": "stdout",
     "output_type": "stream",
     "text": [
      "\n",
      "{'accuracy': 0.9051829683036322, 'roc_auc': 0.9446919542330864, 'pr_auc': 0.8203625246695099}\n"
     ]
    },
    {
     "data": {
      "text/html": [
       "<div>\n",
       "<style scoped>\n",
       "    .dataframe tbody tr th:only-of-type {\n",
       "        vertical-align: middle;\n",
       "    }\n",
       "\n",
       "    .dataframe tbody tr th {\n",
       "        vertical-align: top;\n",
       "    }\n",
       "\n",
       "    .dataframe thead th {\n",
       "        text-align: right;\n",
       "    }\n",
       "</style>\n",
       "<table border=\"1\" class=\"dataframe\">\n",
       "  <thead>\n",
       "    <tr style=\"text-align: right;\">\n",
       "      <th></th>\n",
       "      <th>0</th>\n",
       "      <th>1</th>\n",
       "      <th>micro avg</th>\n",
       "      <th>macro avg</th>\n",
       "      <th>weighted avg</th>\n",
       "    </tr>\n",
       "  </thead>\n",
       "  <tbody>\n",
       "    <tr>\n",
       "      <th>f1-score</th>\n",
       "      <td>0.943</td>\n",
       "      <td>0.723</td>\n",
       "      <td>0.905</td>\n",
       "      <td>0.833</td>\n",
       "      <td>0.909</td>\n",
       "    </tr>\n",
       "    <tr>\n",
       "      <th>precision</th>\n",
       "      <td>0.963</td>\n",
       "      <td>0.656</td>\n",
       "      <td>0.905</td>\n",
       "      <td>0.810</td>\n",
       "      <td>0.916</td>\n",
       "    </tr>\n",
       "    <tr>\n",
       "      <th>recall</th>\n",
       "      <td>0.923</td>\n",
       "      <td>0.804</td>\n",
       "      <td>0.905</td>\n",
       "      <td>0.864</td>\n",
       "      <td>0.905</td>\n",
       "    </tr>\n",
       "    <tr>\n",
       "      <th>support</th>\n",
       "      <td>6222.000</td>\n",
       "      <td>1129.000</td>\n",
       "      <td>7351.000</td>\n",
       "      <td>7351.000</td>\n",
       "      <td>7351.000</td>\n",
       "    </tr>\n",
       "  </tbody>\n",
       "</table>\n",
       "</div>"
      ],
      "text/plain": [
       "                  0         1  micro avg  macro avg  weighted avg\n",
       "f1-score      0.943     0.723      0.905      0.833         0.909\n",
       "precision     0.963     0.656      0.905      0.810         0.916\n",
       "recall        0.923     0.804      0.905      0.864         0.905\n",
       "support    6222.000  1129.000   7351.000   7351.000      7351.000"
      ]
     },
     "metadata": {},
     "output_type": "display_data"
    },
    {
     "name": "stderr",
     "output_type": "stream",
     "text": [
      "INFO - 2019-03-27 18:27:15,861 - instantiating class <class 'PatientVec.models.Model.Model'> from params {'type': 'seq_classifier_with_structured_attention', 'embedder': {'type': 'token_embedder', 'vocab_size': 29286, 'embed_size': 200, 'embedding_file': './preprocess/Mortality/embedding_matrix.npy'}, 'decoder': {'num_layers': 2, 'hidden_dims': [128, 1], 'activations': ['tanh', 'linear']}, 'predictor': {'type': 'binary'}, 'structured': {'use_structured': True, 'structured_dim': 50}, 'encoder': {'type': 'cnn', 'hidden_size': 64, 'kernel_sizes': [3, 5, 7, 9], 'activation': 'relu'}, 'attention': {'similarity': {'type': 'additive', 'hidden_size': 128, 'tensor_2_dim': 50}}} and extras {}\n",
      "INFO - 2019-03-27 18:27:15,861 - type = seq_classifier_with_structured_attention\n",
      "INFO - 2019-03-27 18:27:15,862 - instantiating class <class 'PatientVec.models.modules.Embedder.Embedder'> from params {'type': 'token_embedder', 'vocab_size': 29286, 'embed_size': 200, 'embedding_file': './preprocess/Mortality/embedding_matrix.npy'} and extras {}\n",
      "INFO - 2019-03-27 18:27:15,862 - embedder.type = token_embedder\n",
      "INFO - 2019-03-27 18:27:15,862 - instantiating class <class 'PatientVec.models.modules.Embedder.TokenEmbedder'> from params {'vocab_size': 29286, 'embed_size': 200, 'embedding_file': './preprocess/Mortality/embedding_matrix.npy'} and extras {}\n",
      "INFO - 2019-03-27 18:27:15,863 - embedder.vocab_size = 29286\n",
      "INFO - 2019-03-27 18:27:15,863 - embedder.embed_size = 200\n",
      "INFO - 2019-03-27 18:27:15,863 - embedder.embedding_file = ./preprocess/Mortality/embedding_matrix.npy\n",
      "INFO - 2019-03-27 18:27:15,886 - instantiating class <class 'PatientVec.models.modules.Encoder.Encoder'> from params {'type': 'cnn', 'hidden_size': 64, 'kernel_sizes': [3, 5, 7, 9], 'activation': 'relu'} and extras {'input_size': 200}\n",
      "INFO - 2019-03-27 18:27:15,887 - encoder.type = cnn\n",
      "INFO - 2019-03-27 18:27:15,887 - instantiating class <class 'PatientVec.models.modules.Encoder.CNNEncoder'> from params {'hidden_size': 64, 'kernel_sizes': [3, 5, 7, 9], 'activation': 'relu'} and extras {'input_size': 200}\n",
      "INFO - 2019-03-27 18:27:15,887 - encoder.hidden_size = 64\n",
      "INFO - 2019-03-27 18:27:15,887 - encoder.kernel_sizes = [3, 5, 7, 9]\n",
      "INFO - 2019-03-27 18:27:15,888 - encoder.activation = relu\n",
      "INFO - 2019-03-27 18:27:15,891 - instantiating class <class 'PatientVec.models.modules.Attention.Attention'> from params {'similarity': {'type': 'additive', 'hidden_size': 128, 'tensor_2_dim': 50, 'tensor_1_dim': 256}} and extras {}\n",
      "INFO - 2019-03-27 18:27:15,891 - instantiating class <class 'PatientVec.models.modules.BiSimilarity.BiSimilarity'> from params {'type': 'additive', 'hidden_size': 128, 'tensor_2_dim': 50, 'tensor_1_dim': 256} and extras {}\n",
      "INFO - 2019-03-27 18:27:15,891 - attention.similarity.type = additive\n",
      "INFO - 2019-03-27 18:27:15,891 - instantiating class <class 'PatientVec.models.modules.BiSimilarity.BiAdditiveSimilarity'> from params {'hidden_size': 128, 'tensor_2_dim': 50, 'tensor_1_dim': 256} and extras {}\n",
      "INFO - 2019-03-27 18:27:15,892 - attention.similarity.tensor_1_dim = 256\n",
      "INFO - 2019-03-27 18:27:15,892 - attention.similarity.tensor_2_dim = 50\n",
      "INFO - 2019-03-27 18:27:15,892 - attention.similarity.hidden_size = 128\n",
      "INFO - 2019-03-27 18:27:15,894 - attention.normaliser = softmax\n",
      "INFO - 2019-03-27 18:27:15,894 - decoder.input_dim = 306\n",
      "INFO - 2019-03-27 18:27:15,894 - decoder.num_layers = 2\n",
      "INFO - 2019-03-27 18:27:15,895 - decoder.hidden_dims = [128, 1]\n",
      "INFO - 2019-03-27 18:27:15,895 - decoder.activations = ['tanh', 'linear']\n",
      "INFO - 2019-03-27 18:27:15,895 - decoder.dropout = 0.0\n",
      "INFO - 2019-03-27 18:27:15,896 - instantiating class <class 'PatientVec.models.modules.Predictor.Predictor'> from params {'type': 'binary'} and extras {}\n",
      "INFO - 2019-03-27 18:27:15,897 - predictor.type = binary\n",
      "INFO - 2019-03-27 18:27:15,897 - instantiating class <class 'PatientVec.models.modules.Predictor.Binary_Predictor'> from params {} and extras {}\n",
      "INFO - 2019-03-27 18:27:15,897 - predictor.replicate = False\n",
      "INFO - 2019-03-27 18:27:15,897 - predictor.alpha = 0.5\n",
      "INFO - 2019-03-27 18:27:15,907 - instantiating class <class 'PatientVec.models.Model.Model'> from params {'type': 'seq_classifier_with_structured_attention', 'embedder': {'type': 'token_embedder', 'vocab_size': 29286, 'embed_size': 200, 'embedding_file': '/scratch/jain.sar/PatientVec/preprocess/Mortality/embedding_matrix.npy'}, 'decoder': {'num_layers': 2, 'hidden_dims': [128, 1], 'activations': ['tanh', 'linear']}, 'predictor': {'type': 'binary'}, 'structured': {'use_structured': True, 'structured_dim': 50}, 'encoder': {'type': 'cnn', 'hidden_size': 64, 'kernel_sizes': [3, 5, 7, 9], 'activation': 'relu'}, 'attention': {'similarity': {'type': 'additive', 'hidden_size': 128, 'tensor_2_dim': 50}}} and extras {}\n",
      "INFO - 2019-03-27 18:27:15,907 - type = seq_classifier_with_structured_attention\n",
      "INFO - 2019-03-27 18:27:15,907 - instantiating class <class 'PatientVec.models.modules.Embedder.Embedder'> from params {'type': 'token_embedder', 'vocab_size': 29286, 'embed_size': 200, 'embedding_file': '/scratch/jain.sar/PatientVec/preprocess/Mortality/embedding_matrix.npy'} and extras {}\n",
      "INFO - 2019-03-27 18:27:15,908 - embedder.type = token_embedder\n",
      "INFO - 2019-03-27 18:27:15,908 - instantiating class <class 'PatientVec.models.modules.Embedder.TokenEmbedder'> from params {'vocab_size': 29286, 'embed_size': 200, 'embedding_file': '/scratch/jain.sar/PatientVec/preprocess/Mortality/embedding_matrix.npy'} and extras {}\n",
      "INFO - 2019-03-27 18:27:15,908 - embedder.vocab_size = 29286\n",
      "INFO - 2019-03-27 18:27:15,908 - embedder.embed_size = 200\n",
      "INFO - 2019-03-27 18:27:15,909 - embedder.embedding_file = /scratch/jain.sar/PatientVec/preprocess/Mortality/embedding_matrix.npy\n",
      "INFO - 2019-03-27 18:27:15,938 - instantiating class <class 'PatientVec.models.modules.Encoder.Encoder'> from params {'type': 'cnn', 'hidden_size': 64, 'kernel_sizes': [3, 5, 7, 9], 'activation': 'relu'} and extras {'input_size': 200}\n",
      "INFO - 2019-03-27 18:27:15,938 - encoder.type = cnn\n",
      "INFO - 2019-03-27 18:27:15,938 - instantiating class <class 'PatientVec.models.modules.Encoder.CNNEncoder'> from params {'hidden_size': 64, 'kernel_sizes': [3, 5, 7, 9], 'activation': 'relu'} and extras {'input_size': 200}\n",
      "INFO - 2019-03-27 18:27:15,939 - encoder.hidden_size = 64\n",
      "INFO - 2019-03-27 18:27:15,939 - encoder.kernel_sizes = [3, 5, 7, 9]\n",
      "INFO - 2019-03-27 18:27:15,939 - encoder.activation = relu\n",
      "INFO - 2019-03-27 18:27:15,942 - instantiating class <class 'PatientVec.models.modules.Attention.Attention'> from params {'similarity': {'type': 'additive', 'hidden_size': 128, 'tensor_2_dim': 50, 'tensor_1_dim': 256}} and extras {}\n",
      "INFO - 2019-03-27 18:27:15,942 - instantiating class <class 'PatientVec.models.modules.BiSimilarity.BiSimilarity'> from params {'type': 'additive', 'hidden_size': 128, 'tensor_2_dim': 50, 'tensor_1_dim': 256} and extras {}\n",
      "INFO - 2019-03-27 18:27:15,942 - attention.similarity.type = additive\n",
      "INFO - 2019-03-27 18:27:15,942 - instantiating class <class 'PatientVec.models.modules.BiSimilarity.BiAdditiveSimilarity'> from params {'hidden_size': 128, 'tensor_2_dim': 50, 'tensor_1_dim': 256} and extras {}\n",
      "INFO - 2019-03-27 18:27:15,943 - attention.similarity.tensor_1_dim = 256\n",
      "INFO - 2019-03-27 18:27:15,943 - attention.similarity.tensor_2_dim = 50\n",
      "INFO - 2019-03-27 18:27:15,943 - attention.similarity.hidden_size = 128\n",
      "INFO - 2019-03-27 18:27:15,945 - attention.normaliser = softmax\n",
      "INFO - 2019-03-27 18:27:15,945 - decoder.input_dim = 306\n",
      "INFO - 2019-03-27 18:27:15,945 - decoder.num_layers = 2\n",
      "INFO - 2019-03-27 18:27:15,946 - decoder.hidden_dims = [128, 1]\n",
      "INFO - 2019-03-27 18:27:15,946 - decoder.activations = ['tanh', 'linear']\n",
      "INFO - 2019-03-27 18:27:15,946 - decoder.dropout = 0.0\n",
      "INFO - 2019-03-27 18:27:15,947 - instantiating class <class 'PatientVec.models.modules.Predictor.Predictor'> from params {'type': 'binary'} and extras {}\n",
      "INFO - 2019-03-27 18:27:15,948 - predictor.type = binary\n",
      "INFO - 2019-03-27 18:27:15,948 - instantiating class <class 'PatientVec.models.modules.Predictor.Binary_Predictor'> from params {} and extras {}\n",
      "INFO - 2019-03-27 18:27:15,948 - predictor.replicate = False\n",
      "INFO - 2019-03-27 18:27:15,949 - predictor.alpha = 0.5\n"
     ]
    },
    {
     "name": "stdout",
     "output_type": "stream",
     "text": [
      "============================================================================================================================================================================================================================================================================================================\n",
      "{'model': {'type': 'seq_classifier_with_structured_attention', 'embedder': {'type': 'token_embedder', 'vocab_size': 29286, 'embed_size': 200, 'embedding_file': './preprocess/Mortality/embedding_matrix.npy'}, 'decoder': {'num_layers': 2, 'hidden_dims': [128, 1], 'activations': ['tanh', 'linear']}, 'predictor': {'type': 'binary'}, 'structured': {'use_structured': True, 'structured_dim': 50}, 'encoder': {'type': 'cnn', 'hidden_size': 64, 'kernel_sizes': [3, 5, 7, 9], 'activation': 'relu'}, 'attention': {'similarity': {'type': 'additive', 'hidden_size': 128, 'tensor_2_dim': 50}}}, 'training_config': {'type': 'Adam', 'groups': [('.*', {'lr': 0.001, 'weight_decay': 1e-05})], 'common': {'bsize': 32, 'class_weight': True}}, 'exp_config': {'exp_name': 'Mortality_30day/Structured Attention/CNN(hs=64)(kernels=3,5,7,9)+Attention(additive)(all)(hs=128)+Structured', 'basepath': 'outputs/'}}\n",
      "Setting Embedding\n",
      "Error, Embedding file given but doesn't exists ... /scratch/jain.sar/PatientVec/preprocess/Mortality/embedding_matrix.npy\n"
     ]
    },
    {
     "data": {
      "application/vnd.jupyter.widget-view+json": {
       "model_id": "410b016a6af8491ebd13b126130df21b",
       "version_major": 2,
       "version_minor": 0
      },
      "text/plain": [
       "HBox(children=(IntProgress(value=0, max=184), HTML(value='')))"
      ]
     },
     "metadata": {},
     "output_type": "display_data"
    },
    {
     "name": "stdout",
     "output_type": "stream",
     "text": [
      "\n",
      "{'accuracy': 0.7923822479170209, 'roc_auc': 0.9366171479053331, 'pr_auc': 0.7936547801980071}\n"
     ]
    },
    {
     "data": {
      "text/html": [
       "<div>\n",
       "<style scoped>\n",
       "    .dataframe tbody tr th:only-of-type {\n",
       "        vertical-align: middle;\n",
       "    }\n",
       "\n",
       "    .dataframe tbody tr th {\n",
       "        vertical-align: top;\n",
       "    }\n",
       "\n",
       "    .dataframe thead th {\n",
       "        text-align: right;\n",
       "    }\n",
       "</style>\n",
       "<table border=\"1\" class=\"dataframe\">\n",
       "  <thead>\n",
       "    <tr style=\"text-align: right;\">\n",
       "      <th></th>\n",
       "      <th>0</th>\n",
       "      <th>1</th>\n",
       "      <th>micro avg</th>\n",
       "      <th>macro avg</th>\n",
       "      <th>weighted avg</th>\n",
       "    </tr>\n",
       "  </thead>\n",
       "  <tbody>\n",
       "    <tr>\n",
       "      <th>f1-score</th>\n",
       "      <td>0.864</td>\n",
       "      <td>0.563</td>\n",
       "      <td>0.792</td>\n",
       "      <td>0.713</td>\n",
       "      <td>0.820</td>\n",
       "    </tr>\n",
       "    <tr>\n",
       "      <th>precision</th>\n",
       "      <td>0.982</td>\n",
       "      <td>0.406</td>\n",
       "      <td>0.792</td>\n",
       "      <td>0.694</td>\n",
       "      <td>0.898</td>\n",
       "    </tr>\n",
       "    <tr>\n",
       "      <th>recall</th>\n",
       "      <td>0.771</td>\n",
       "      <td>0.917</td>\n",
       "      <td>0.792</td>\n",
       "      <td>0.844</td>\n",
       "      <td>0.792</td>\n",
       "    </tr>\n",
       "    <tr>\n",
       "      <th>support</th>\n",
       "      <td>5025.000</td>\n",
       "      <td>856.000</td>\n",
       "      <td>5881.000</td>\n",
       "      <td>5881.000</td>\n",
       "      <td>5881.000</td>\n",
       "    </tr>\n",
       "  </tbody>\n",
       "</table>\n",
       "</div>"
      ],
      "text/plain": [
       "                  0        1  micro avg  macro avg  weighted avg\n",
       "f1-score      0.864    0.563      0.792      0.713         0.820\n",
       "precision     0.982    0.406      0.792      0.694         0.898\n",
       "recall        0.771    0.917      0.792      0.844         0.792\n",
       "support    5025.000  856.000   5881.000   5881.000      5881.000"
      ]
     },
     "metadata": {},
     "output_type": "display_data"
    },
    {
     "data": {
      "application/vnd.jupyter.widget-view+json": {
       "model_id": "7c4880b67eda4a78ad003d492f0efa6f",
       "version_major": 2,
       "version_minor": 0
      },
      "text/plain": [
       "HBox(children=(IntProgress(value=0, max=230), HTML(value='')))"
      ]
     },
     "metadata": {},
     "output_type": "display_data"
    },
    {
     "name": "stdout",
     "output_type": "stream",
     "text": [
      "\n",
      "{'accuracy': 0.8022037817983948, 'roc_auc': 0.9434312486992212, 'pr_auc': 0.8182308423346449}\n"
     ]
    },
    {
     "data": {
      "text/html": [
       "<div>\n",
       "<style scoped>\n",
       "    .dataframe tbody tr th:only-of-type {\n",
       "        vertical-align: middle;\n",
       "    }\n",
       "\n",
       "    .dataframe tbody tr th {\n",
       "        vertical-align: top;\n",
       "    }\n",
       "\n",
       "    .dataframe thead th {\n",
       "        text-align: right;\n",
       "    }\n",
       "</style>\n",
       "<table border=\"1\" class=\"dataframe\">\n",
       "  <thead>\n",
       "    <tr style=\"text-align: right;\">\n",
       "      <th></th>\n",
       "      <th>0</th>\n",
       "      <th>1</th>\n",
       "      <th>micro avg</th>\n",
       "      <th>macro avg</th>\n",
       "      <th>weighted avg</th>\n",
       "    </tr>\n",
       "  </thead>\n",
       "  <tbody>\n",
       "    <tr>\n",
       "      <th>f1-score</th>\n",
       "      <td>0.870</td>\n",
       "      <td>0.590</td>\n",
       "      <td>0.802</td>\n",
       "      <td>0.730</td>\n",
       "      <td>0.827</td>\n",
       "    </tr>\n",
       "    <tr>\n",
       "      <th>precision</th>\n",
       "      <td>0.983</td>\n",
       "      <td>0.433</td>\n",
       "      <td>0.802</td>\n",
       "      <td>0.708</td>\n",
       "      <td>0.899</td>\n",
       "    </tr>\n",
       "    <tr>\n",
       "      <th>recall</th>\n",
       "      <td>0.780</td>\n",
       "      <td>0.926</td>\n",
       "      <td>0.802</td>\n",
       "      <td>0.853</td>\n",
       "      <td>0.802</td>\n",
       "    </tr>\n",
       "    <tr>\n",
       "      <th>support</th>\n",
       "      <td>6222.000</td>\n",
       "      <td>1129.000</td>\n",
       "      <td>7351.000</td>\n",
       "      <td>7351.000</td>\n",
       "      <td>7351.000</td>\n",
       "    </tr>\n",
       "  </tbody>\n",
       "</table>\n",
       "</div>"
      ],
      "text/plain": [
       "                  0         1  micro avg  macro avg  weighted avg\n",
       "f1-score      0.870     0.590      0.802      0.730         0.827\n",
       "precision     0.983     0.433      0.802      0.708         0.899\n",
       "recall        0.780     0.926      0.802      0.853         0.802\n",
       "support    6222.000  1129.000   7351.000   7351.000      7351.000"
      ]
     },
     "metadata": {},
     "output_type": "display_data"
    },
    {
     "name": "stdout",
     "output_type": "stream",
     "text": [
      "============================================================================================================================================================================================================================================================================================================\n",
      "Pos Percentage [0.15129873]\n"
     ]
    },
    {
     "name": "stderr",
     "output_type": "stream",
     "text": [
      "INFO - 2019-03-27 18:29:02,282 - Maximum Sentence Length 721825.000000 , 90 percentile length 18596.000000 ... \n",
      "INFO - 2019-03-27 18:29:11,752 - Truncated all ...\n",
      "INFO - 2019-03-27 18:29:11,805 - Idxs removed []...\n"
     ]
    },
    {
     "name": "stdout",
     "output_type": "stream",
     "text": [
      "Pos Percentage [0.14555348]\n"
     ]
    },
    {
     "name": "stderr",
     "output_type": "stream",
     "text": [
      "INFO - 2019-03-27 18:29:12,686 - Maximum Sentence Length 420764.000000 , 90 percentile length 17662.000000 ... \n",
      "INFO - 2019-03-27 18:29:14,222 - Truncated all ...\n",
      "INFO - 2019-03-27 18:29:14,235 - Idxs removed []...\n"
     ]
    },
    {
     "name": "stdout",
     "output_type": "stream",
     "text": [
      "Pos Percentage [0.15358455]\n"
     ]
    },
    {
     "name": "stderr",
     "output_type": "stream",
     "text": [
      "INFO - 2019-03-27 18:29:15,197 - Maximum Sentence Length 707041.000000 , 90 percentile length 17669.000000 ... \n",
      "INFO - 2019-03-27 18:29:17,103 - Truncated all ...\n",
      "INFO - 2019-03-27 18:29:17,118 - Idxs removed []...\n",
      "INFO - 2019-03-27 18:29:17,176 - instantiating class <class 'PatientVec.models.Model.Model'> from params {'type': 'seq_classifier_with_structured_attention', 'embedder': {'type': 'token_embedder', 'vocab_size': 29286, 'embed_size': 200, 'embedding_file': './preprocess/Mortality/embedding_matrix.npy'}, 'decoder': {'num_layers': 2, 'hidden_dims': [128, 1], 'activations': ['tanh', 'linear']}, 'predictor': {'type': 'binary'}, 'structured': {'use_structured': True, 'structured_dim': 50}, 'encoder': {'type': 'sru', 'hidden_size': 128}, 'attention': {'similarity': {'type': 'additive', 'hidden_size': 128, 'tensor_2_dim': 50}}} and extras {}\n",
      "INFO - 2019-03-27 18:29:17,177 - type = seq_classifier_with_structured_attention\n",
      "INFO - 2019-03-27 18:29:17,177 - instantiating class <class 'PatientVec.models.modules.Embedder.Embedder'> from params {'type': 'token_embedder', 'vocab_size': 29286, 'embed_size': 200, 'embedding_file': './preprocess/Mortality/embedding_matrix.npy'} and extras {}\n",
      "INFO - 2019-03-27 18:29:17,178 - embedder.type = token_embedder\n",
      "INFO - 2019-03-27 18:29:17,178 - instantiating class <class 'PatientVec.models.modules.Embedder.TokenEmbedder'> from params {'vocab_size': 29286, 'embed_size': 200, 'embedding_file': './preprocess/Mortality/embedding_matrix.npy'} and extras {}\n",
      "INFO - 2019-03-27 18:29:17,178 - embedder.vocab_size = 29286\n",
      "INFO - 2019-03-27 18:29:17,179 - embedder.embed_size = 200\n",
      "INFO - 2019-03-27 18:29:17,179 - embedder.embedding_file = ./preprocess/Mortality/embedding_matrix.npy\n",
      "INFO - 2019-03-27 18:29:17,206 - instantiating class <class 'PatientVec.models.modules.Encoder.Encoder'> from params {'type': 'sru', 'hidden_size': 128} and extras {'input_size': 200}\n",
      "INFO - 2019-03-27 18:29:17,207 - encoder.type = sru\n",
      "INFO - 2019-03-27 18:29:17,207 - instantiating class <class 'PatientVec.models.modules.Encoder.SRUEncoder'> from params {'hidden_size': 128} and extras {'input_size': 200}\n",
      "INFO - 2019-03-27 18:29:17,208 - encoder.hidden_size = 128\n",
      "INFO - 2019-03-27 18:29:17,211 - instantiating class <class 'PatientVec.models.modules.Attention.Attention'> from params {'similarity': {'type': 'additive', 'hidden_size': 128, 'tensor_2_dim': 50, 'tensor_1_dim': 256}} and extras {}\n",
      "INFO - 2019-03-27 18:29:17,212 - instantiating class <class 'PatientVec.models.modules.BiSimilarity.BiSimilarity'> from params {'type': 'additive', 'hidden_size': 128, 'tensor_2_dim': 50, 'tensor_1_dim': 256} and extras {}\n",
      "INFO - 2019-03-27 18:29:17,212 - attention.similarity.type = additive\n",
      "INFO - 2019-03-27 18:29:17,213 - instantiating class <class 'PatientVec.models.modules.BiSimilarity.BiAdditiveSimilarity'> from params {'hidden_size': 128, 'tensor_2_dim': 50, 'tensor_1_dim': 256} and extras {}\n",
      "INFO - 2019-03-27 18:29:17,213 - attention.similarity.tensor_1_dim = 256\n",
      "INFO - 2019-03-27 18:29:17,213 - attention.similarity.tensor_2_dim = 50\n",
      "INFO - 2019-03-27 18:29:17,214 - attention.similarity.hidden_size = 128\n",
      "INFO - 2019-03-27 18:29:17,215 - attention.normaliser = softmax\n",
      "INFO - 2019-03-27 18:29:17,215 - decoder.input_dim = 306\n",
      "INFO - 2019-03-27 18:29:17,216 - decoder.num_layers = 2\n",
      "INFO - 2019-03-27 18:29:17,216 - decoder.hidden_dims = [128, 1]\n",
      "INFO - 2019-03-27 18:29:17,216 - decoder.activations = ['tanh', 'linear']\n",
      "INFO - 2019-03-27 18:29:17,217 - decoder.dropout = 0.0\n",
      "INFO - 2019-03-27 18:29:17,218 - instantiating class <class 'PatientVec.models.modules.Predictor.Predictor'> from params {'type': 'binary'} and extras {}\n",
      "INFO - 2019-03-27 18:29:17,218 - predictor.type = binary\n",
      "INFO - 2019-03-27 18:29:17,219 - instantiating class <class 'PatientVec.models.modules.Predictor.Binary_Predictor'> from params {} and extras {}\n",
      "INFO - 2019-03-27 18:29:17,220 - predictor.replicate = False\n",
      "INFO - 2019-03-27 18:29:17,220 - predictor.alpha = 0.5\n",
      "INFO - 2019-03-27 18:29:17,229 - instantiating class <class 'PatientVec.models.Model.Model'> from params {'type': 'seq_classifier_with_structured_attention', 'embedder': {'type': 'token_embedder', 'vocab_size': 29286, 'embed_size': 200, 'embedding_file': './preprocess/Mortality/embedding_matrix.npy'}, 'decoder': {'num_layers': 2, 'hidden_dims': [128, 1], 'activations': ['tanh', 'linear']}, 'predictor': {'type': 'binary'}, 'structured': {'use_structured': True, 'structured_dim': 50}, 'encoder': {'type': 'sru', 'hidden_size': 128}, 'attention': {'similarity': {'type': 'additive', 'hidden_size': 128, 'tensor_2_dim': 50}}} and extras {}\n",
      "INFO - 2019-03-27 18:29:17,230 - type = seq_classifier_with_structured_attention\n",
      "INFO - 2019-03-27 18:29:17,230 - instantiating class <class 'PatientVec.models.modules.Embedder.Embedder'> from params {'type': 'token_embedder', 'vocab_size': 29286, 'embed_size': 200, 'embedding_file': './preprocess/Mortality/embedding_matrix.npy'} and extras {}\n",
      "INFO - 2019-03-27 18:29:17,230 - embedder.type = token_embedder\n",
      "INFO - 2019-03-27 18:29:17,231 - instantiating class <class 'PatientVec.models.modules.Embedder.TokenEmbedder'> from params {'vocab_size': 29286, 'embed_size': 200, 'embedding_file': './preprocess/Mortality/embedding_matrix.npy'} and extras {}\n",
      "INFO - 2019-03-27 18:29:17,231 - embedder.vocab_size = 29286\n",
      "INFO - 2019-03-27 18:29:17,231 - embedder.embed_size = 200\n",
      "INFO - 2019-03-27 18:29:17,231 - embedder.embedding_file = ./preprocess/Mortality/embedding_matrix.npy\n",
      "INFO - 2019-03-27 18:29:17,253 - instantiating class <class 'PatientVec.models.modules.Encoder.Encoder'> from params {'type': 'sru', 'hidden_size': 128} and extras {'input_size': 200}\n",
      "INFO - 2019-03-27 18:29:17,254 - encoder.type = sru\n",
      "INFO - 2019-03-27 18:29:17,254 - instantiating class <class 'PatientVec.models.modules.Encoder.SRUEncoder'> from params {'hidden_size': 128} and extras {'input_size': 200}\n",
      "INFO - 2019-03-27 18:29:17,254 - encoder.hidden_size = 128\n",
      "INFO - 2019-03-27 18:29:17,257 - instantiating class <class 'PatientVec.models.modules.Attention.Attention'> from params {'similarity': {'type': 'additive', 'hidden_size': 128, 'tensor_2_dim': 50, 'tensor_1_dim': 256}} and extras {}\n",
      "INFO - 2019-03-27 18:29:17,257 - instantiating class <class 'PatientVec.models.modules.BiSimilarity.BiSimilarity'> from params {'type': 'additive', 'hidden_size': 128, 'tensor_2_dim': 50, 'tensor_1_dim': 256} and extras {}\n",
      "INFO - 2019-03-27 18:29:17,258 - attention.similarity.type = additive\n",
      "INFO - 2019-03-27 18:29:17,258 - instantiating class <class 'PatientVec.models.modules.BiSimilarity.BiAdditiveSimilarity'> from params {'hidden_size': 128, 'tensor_2_dim': 50, 'tensor_1_dim': 256} and extras {}\n",
      "INFO - 2019-03-27 18:29:17,258 - attention.similarity.tensor_1_dim = 256\n",
      "INFO - 2019-03-27 18:29:17,258 - attention.similarity.tensor_2_dim = 50\n",
      "INFO - 2019-03-27 18:29:17,259 - attention.similarity.hidden_size = 128\n",
      "INFO - 2019-03-27 18:29:17,260 - attention.normaliser = softmax\n",
      "INFO - 2019-03-27 18:29:17,260 - decoder.input_dim = 306\n",
      "INFO - 2019-03-27 18:29:17,260 - decoder.num_layers = 2\n",
      "INFO - 2019-03-27 18:29:17,261 - decoder.hidden_dims = [128, 1]\n",
      "INFO - 2019-03-27 18:29:17,261 - decoder.activations = ['tanh', 'linear']\n",
      "INFO - 2019-03-27 18:29:17,261 - decoder.dropout = 0.0\n",
      "INFO - 2019-03-27 18:29:17,262 - instantiating class <class 'PatientVec.models.modules.Predictor.Predictor'> from params {'type': 'binary'} and extras {}\n",
      "INFO - 2019-03-27 18:29:17,262 - predictor.type = binary\n",
      "INFO - 2019-03-27 18:29:17,263 - instantiating class <class 'PatientVec.models.modules.Predictor.Binary_Predictor'> from params {} and extras {}\n",
      "INFO - 2019-03-27 18:29:17,263 - predictor.replicate = False\n",
      "INFO - 2019-03-27 18:29:17,263 - predictor.alpha = 0.5\n"
     ]
    },
    {
     "name": "stdout",
     "output_type": "stream",
     "text": [
      "{'model': {'type': 'seq_classifier_with_structured_attention', 'embedder': {'type': 'token_embedder', 'vocab_size': 29286, 'embed_size': 200, 'embedding_file': './preprocess/Mortality/embedding_matrix.npy'}, 'decoder': {'num_layers': 2, 'hidden_dims': [128, 1], 'activations': ['tanh', 'linear']}, 'predictor': {'type': 'binary'}, 'structured': {'use_structured': True, 'structured_dim': 50}, 'encoder': {'type': 'sru', 'hidden_size': 128}, 'attention': {'similarity': {'type': 'additive', 'hidden_size': 128, 'tensor_2_dim': 50}}}, 'training_config': {'type': 'Adam', 'groups': [('.*', {'lr': 0.001, 'weight_decay': 1e-05})], 'common': {'bsize': 32, 'class_weight': True}}, 'exp_config': {'exp_name': 'Mortality_30day/Structured Attention/SRU(hs=128)+Attention(additive)(all)(hs=128)+Structured', 'basepath': 'outputs/'}}\n",
      "Setting Embedding\n",
      "Setting Embedding\n"
     ]
    },
    {
     "data": {
      "application/vnd.jupyter.widget-view+json": {
       "model_id": "1b5a9d8a3a7544a6a6787bcc0df4a996",
       "version_major": 2,
       "version_minor": 0
      },
      "text/plain": [
       "HBox(children=(IntProgress(value=0, max=184), HTML(value='')))"
      ]
     },
     "metadata": {},
     "output_type": "display_data"
    },
    {
     "name": "stdout",
     "output_type": "stream",
     "text": [
      "\n",
      "{'accuracy': 0.8978064954939636, 'roc_auc': 0.9359850281303761, 'pr_auc': 0.7963643688940497}\n"
     ]
    },
    {
     "data": {
      "text/html": [
       "<div>\n",
       "<style scoped>\n",
       "    .dataframe tbody tr th:only-of-type {\n",
       "        vertical-align: middle;\n",
       "    }\n",
       "\n",
       "    .dataframe tbody tr th {\n",
       "        vertical-align: top;\n",
       "    }\n",
       "\n",
       "    .dataframe thead th {\n",
       "        text-align: right;\n",
       "    }\n",
       "</style>\n",
       "<table border=\"1\" class=\"dataframe\">\n",
       "  <thead>\n",
       "    <tr style=\"text-align: right;\">\n",
       "      <th></th>\n",
       "      <th>0</th>\n",
       "      <th>1</th>\n",
       "      <th>micro avg</th>\n",
       "      <th>macro avg</th>\n",
       "      <th>weighted avg</th>\n",
       "    </tr>\n",
       "  </thead>\n",
       "  <tbody>\n",
       "    <tr>\n",
       "      <th>f1-score</th>\n",
       "      <td>0.939</td>\n",
       "      <td>0.693</td>\n",
       "      <td>0.898</td>\n",
       "      <td>0.816</td>\n",
       "      <td>0.903</td>\n",
       "    </tr>\n",
       "    <tr>\n",
       "      <th>precision</th>\n",
       "      <td>0.963</td>\n",
       "      <td>0.616</td>\n",
       "      <td>0.898</td>\n",
       "      <td>0.789</td>\n",
       "      <td>0.912</td>\n",
       "    </tr>\n",
       "    <tr>\n",
       "      <th>recall</th>\n",
       "      <td>0.916</td>\n",
       "      <td>0.791</td>\n",
       "      <td>0.898</td>\n",
       "      <td>0.853</td>\n",
       "      <td>0.898</td>\n",
       "    </tr>\n",
       "    <tr>\n",
       "      <th>support</th>\n",
       "      <td>5025.000</td>\n",
       "      <td>856.000</td>\n",
       "      <td>5881.000</td>\n",
       "      <td>5881.000</td>\n",
       "      <td>5881.000</td>\n",
       "    </tr>\n",
       "  </tbody>\n",
       "</table>\n",
       "</div>"
      ],
      "text/plain": [
       "                  0        1  micro avg  macro avg  weighted avg\n",
       "f1-score      0.939    0.693      0.898      0.816         0.903\n",
       "precision     0.963    0.616      0.898      0.789         0.912\n",
       "recall        0.916    0.791      0.898      0.853         0.898\n",
       "support    5025.000  856.000   5881.000   5881.000      5881.000"
      ]
     },
     "metadata": {},
     "output_type": "display_data"
    },
    {
     "data": {
      "application/vnd.jupyter.widget-view+json": {
       "model_id": "46597492960d417ab8f09aa4397174a5",
       "version_major": 2,
       "version_minor": 0
      },
      "text/plain": [
       "HBox(children=(IntProgress(value=0, max=230), HTML(value='')))"
      ]
     },
     "metadata": {},
     "output_type": "display_data"
    },
    {
     "name": "stdout",
     "output_type": "stream",
     "text": [
      "\n",
      "{'accuracy': 0.8981091008026119, 'roc_auc': 0.9428836048206326, 'pr_auc': 0.8211865259983896}\n"
     ]
    },
    {
     "data": {
      "text/html": [
       "<div>\n",
       "<style scoped>\n",
       "    .dataframe tbody tr th:only-of-type {\n",
       "        vertical-align: middle;\n",
       "    }\n",
       "\n",
       "    .dataframe tbody tr th {\n",
       "        vertical-align: top;\n",
       "    }\n",
       "\n",
       "    .dataframe thead th {\n",
       "        text-align: right;\n",
       "    }\n",
       "</style>\n",
       "<table border=\"1\" class=\"dataframe\">\n",
       "  <thead>\n",
       "    <tr style=\"text-align: right;\">\n",
       "      <th></th>\n",
       "      <th>0</th>\n",
       "      <th>1</th>\n",
       "      <th>micro avg</th>\n",
       "      <th>macro avg</th>\n",
       "      <th>weighted avg</th>\n",
       "    </tr>\n",
       "  </thead>\n",
       "  <tbody>\n",
       "    <tr>\n",
       "      <th>f1-score</th>\n",
       "      <td>0.938</td>\n",
       "      <td>0.712</td>\n",
       "      <td>0.898</td>\n",
       "      <td>0.825</td>\n",
       "      <td>0.903</td>\n",
       "    </tr>\n",
       "    <tr>\n",
       "      <th>precision</th>\n",
       "      <td>0.966</td>\n",
       "      <td>0.629</td>\n",
       "      <td>0.898</td>\n",
       "      <td>0.797</td>\n",
       "      <td>0.914</td>\n",
       "    </tr>\n",
       "    <tr>\n",
       "      <th>recall</th>\n",
       "      <td>0.912</td>\n",
       "      <td>0.821</td>\n",
       "      <td>0.898</td>\n",
       "      <td>0.867</td>\n",
       "      <td>0.898</td>\n",
       "    </tr>\n",
       "    <tr>\n",
       "      <th>support</th>\n",
       "      <td>6222.000</td>\n",
       "      <td>1129.000</td>\n",
       "      <td>7351.000</td>\n",
       "      <td>7351.000</td>\n",
       "      <td>7351.000</td>\n",
       "    </tr>\n",
       "  </tbody>\n",
       "</table>\n",
       "</div>"
      ],
      "text/plain": [
       "                  0         1  micro avg  macro avg  weighted avg\n",
       "f1-score      0.938     0.712      0.898      0.825         0.903\n",
       "precision     0.966     0.629      0.898      0.797         0.914\n",
       "recall        0.912     0.821      0.898      0.867         0.898\n",
       "support    6222.000  1129.000   7351.000   7351.000      7351.000"
      ]
     },
     "metadata": {},
     "output_type": "display_data"
    },
    {
     "name": "stdout",
     "output_type": "stream",
     "text": [
      "============================================================================================================================================================================================================================================================================================================\n"
     ]
    },
    {
     "name": "stderr",
     "output_type": "stream",
     "text": [
      "INFO - 2019-03-27 18:31:08,275 - Reading Structured data ...\n",
      "INFO - 2019-03-27 18:31:08,384 - Reading Notes ...\n",
      "INFO - 2019-03-27 18:31:17,931 - Stratifying ...\n"
     ]
    },
    {
     "name": "stdout",
     "output_type": "stream",
     "text": [
      "Pos Percentage [0.15129873]\n"
     ]
    },
    {
     "name": "stderr",
     "output_type": "stream",
     "text": [
      "INFO - 2019-03-27 18:31:20,956 - Maximum Sentence Length 721825.000000 , 90 percentile length 18596.000000 ... \n",
      "INFO - 2019-03-27 18:31:30,516 - Truncated all ...\n",
      "INFO - 2019-03-27 18:31:30,549 - Idxs removed []...\n"
     ]
    },
    {
     "name": "stdout",
     "output_type": "stream",
     "text": [
      "Pos Percentage [0.14555348]\n"
     ]
    },
    {
     "name": "stderr",
     "output_type": "stream",
     "text": [
      "INFO - 2019-03-27 18:31:31,415 - Maximum Sentence Length 420764.000000 , 90 percentile length 17662.000000 ... \n",
      "INFO - 2019-03-27 18:31:32,921 - Truncated all ...\n",
      "INFO - 2019-03-27 18:31:32,930 - Idxs removed []...\n"
     ]
    },
    {
     "name": "stdout",
     "output_type": "stream",
     "text": [
      "Pos Percentage [0.15358455]\n"
     ]
    },
    {
     "name": "stderr",
     "output_type": "stream",
     "text": [
      "INFO - 2019-03-27 18:31:33,947 - Maximum Sentence Length 707041.000000 , 90 percentile length 17669.000000 ... \n",
      "INFO - 2019-03-27 18:31:35,710 - Truncated all ...\n",
      "INFO - 2019-03-27 18:31:35,720 - Idxs removed []...\n",
      "INFO - 2019-03-27 18:31:35,780 - instantiating class <class 'PatientVec.models.Model.Model'> from params {'type': 'seq_classifier', 'embedder': {'type': 'token_embedder', 'vocab_size': 29286, 'embed_size': 200, 'embedding_file': './preprocess/Mortality/embedding_matrix.npy'}, 'decoder': {'num_layers': 2, 'hidden_dims': [128, 1], 'activations': ['tanh', 'linear']}, 'predictor': {'type': 'binary'}, 'structured': {'use_structured': False}, 'encoder': {'type': 'average', 'projection': True, 'hidden_size': 256, 'activation': 'relu'}} and extras {}\n",
      "INFO - 2019-03-27 18:31:35,781 - type = seq_classifier\n",
      "INFO - 2019-03-27 18:31:35,781 - instantiating class <class 'PatientVec.models.modules.Embedder.Embedder'> from params {'type': 'token_embedder', 'vocab_size': 29286, 'embed_size': 200, 'embedding_file': './preprocess/Mortality/embedding_matrix.npy'} and extras {}\n",
      "INFO - 2019-03-27 18:31:35,781 - embedder.type = token_embedder\n",
      "INFO - 2019-03-27 18:31:35,782 - instantiating class <class 'PatientVec.models.modules.Embedder.TokenEmbedder'> from params {'vocab_size': 29286, 'embed_size': 200, 'embedding_file': './preprocess/Mortality/embedding_matrix.npy'} and extras {}\n",
      "INFO - 2019-03-27 18:31:35,782 - embedder.vocab_size = 29286\n",
      "INFO - 2019-03-27 18:31:35,783 - embedder.embed_size = 200\n",
      "INFO - 2019-03-27 18:31:35,783 - embedder.embedding_file = ./preprocess/Mortality/embedding_matrix.npy\n",
      "INFO - 2019-03-27 18:31:35,798 - instantiating class <class 'PatientVec.models.modules.Encoder.Encoder'> from params {'type': 'average', 'projection': True, 'hidden_size': 256, 'activation': 'relu'} and extras {'input_size': 200}\n",
      "INFO - 2019-03-27 18:31:35,798 - encoder.type = average\n",
      "INFO - 2019-03-27 18:31:35,799 - instantiating class <class 'PatientVec.models.modules.Encoder.AverageEncoder'> from params {'projection': True, 'hidden_size': 256, 'activation': 'relu'} and extras {'input_size': 200}\n",
      "INFO - 2019-03-27 18:31:35,799 - encoder.projection = True\n",
      "INFO - 2019-03-27 18:31:35,800 - encoder.hidden_size = 256\n",
      "INFO - 2019-03-27 18:31:35,800 - encoder.activation = relu\n",
      "INFO - 2019-03-27 18:31:35,801 - decoder.input_dim = 256\n",
      "INFO - 2019-03-27 18:31:35,801 - decoder.num_layers = 2\n",
      "INFO - 2019-03-27 18:31:35,801 - decoder.hidden_dims = [128, 1]\n",
      "INFO - 2019-03-27 18:31:35,802 - decoder.activations = ['tanh', 'linear']\n",
      "INFO - 2019-03-27 18:31:35,802 - decoder.dropout = 0.0\n",
      "INFO - 2019-03-27 18:31:35,804 - instantiating class <class 'PatientVec.models.modules.Predictor.Predictor'> from params {'type': 'binary'} and extras {}\n",
      "INFO - 2019-03-27 18:31:35,804 - predictor.type = binary\n",
      "INFO - 2019-03-27 18:31:35,804 - instantiating class <class 'PatientVec.models.modules.Predictor.Binary_Predictor'> from params {} and extras {}\n",
      "INFO - 2019-03-27 18:31:35,804 - predictor.replicate = False\n",
      "INFO - 2019-03-27 18:31:35,805 - predictor.alpha = 0.5\n",
      "INFO - 2019-03-27 18:31:35,825 - instantiating class <class 'PatientVec.models.Model.Model'> from params {'type': 'seq_classifier', 'embedder': {'type': 'token_embedder', 'vocab_size': 29286, 'embed_size': 200, 'embedding_file': './preprocess/Mortality/embedding_matrix.npy'}, 'decoder': {'num_layers': 2, 'hidden_dims': [128, 1], 'activations': ['tanh', 'linear']}, 'predictor': {'type': 'binary'}, 'structured': {'use_structured': False}, 'encoder': {'type': 'lstm', 'hidden_size': 128}} and extras {}\n",
      "INFO - 2019-03-27 18:31:35,825 - type = seq_classifier\n",
      "INFO - 2019-03-27 18:31:35,825 - instantiating class <class 'PatientVec.models.modules.Embedder.Embedder'> from params {'type': 'token_embedder', 'vocab_size': 29286, 'embed_size': 200, 'embedding_file': './preprocess/Mortality/embedding_matrix.npy'} and extras {}\n",
      "INFO - 2019-03-27 18:31:35,826 - embedder.type = token_embedder\n",
      "INFO - 2019-03-27 18:31:35,827 - instantiating class <class 'PatientVec.models.modules.Embedder.TokenEmbedder'> from params {'vocab_size': 29286, 'embed_size': 200, 'embedding_file': './preprocess/Mortality/embedding_matrix.npy'} and extras {}\n",
      "INFO - 2019-03-27 18:31:35,827 - embedder.vocab_size = 29286\n",
      "INFO - 2019-03-27 18:31:35,828 - embedder.embed_size = 200\n",
      "INFO - 2019-03-27 18:31:35,828 - embedder.embedding_file = ./preprocess/Mortality/embedding_matrix.npy\n",
      "INFO - 2019-03-27 18:31:35,842 - instantiating class <class 'PatientVec.models.modules.Encoder.Encoder'> from params {'type': 'lstm', 'hidden_size': 128} and extras {'input_size': 200}\n",
      "INFO - 2019-03-27 18:31:35,843 - encoder.type = lstm\n",
      "INFO - 2019-03-27 18:31:35,843 - instantiating class <class 'PatientVec.models.modules.Encoder.wrap_pytorch_rnn.<locals>.BiRNNEncoder'> from params {'hidden_size': 128} and extras {'input_size': 200}\n",
      "INFO - 2019-03-27 18:31:35,843 - encoder.hidden_size = 128\n",
      "INFO - 2019-03-27 18:31:35,846 - decoder.input_dim = 256\n",
      "INFO - 2019-03-27 18:31:35,846 - decoder.num_layers = 2\n",
      "INFO - 2019-03-27 18:31:35,846 - decoder.hidden_dims = [128, 1]\n",
      "INFO - 2019-03-27 18:31:35,847 - decoder.activations = ['tanh', 'linear']\n",
      "INFO - 2019-03-27 18:31:35,847 - decoder.dropout = 0.0\n",
      "INFO - 2019-03-27 18:31:35,848 - instantiating class <class 'PatientVec.models.modules.Predictor.Predictor'> from params {'type': 'binary'} and extras {}\n",
      "INFO - 2019-03-27 18:31:35,848 - predictor.type = binary\n",
      "INFO - 2019-03-27 18:31:35,849 - instantiating class <class 'PatientVec.models.modules.Predictor.Binary_Predictor'> from params {} and extras {}\n",
      "INFO - 2019-03-27 18:31:35,849 - predictor.replicate = False\n",
      "INFO - 2019-03-27 18:31:35,849 - predictor.alpha = 0.5\n",
      "INFO - 2019-03-27 18:31:35,864 - instantiating class <class 'PatientVec.models.Model.Model'> from params {'type': 'seq_classifier', 'embedder': {'type': 'token_embedder', 'vocab_size': 29286, 'embed_size': 200, 'embedding_file': './preprocess/Mortality/embedding_matrix.npy'}, 'decoder': {'num_layers': 2, 'hidden_dims': [128, 1], 'activations': ['tanh', 'linear']}, 'predictor': {'type': 'binary'}, 'structured': {'use_structured': False}, 'encoder': {'type': 'cnn', 'hidden_size': 64, 'kernel_sizes': [3, 5, 7, 9], 'activation': 'relu'}} and extras {}\n",
      "INFO - 2019-03-27 18:31:35,864 - type = seq_classifier\n",
      "INFO - 2019-03-27 18:31:35,865 - instantiating class <class 'PatientVec.models.modules.Embedder.Embedder'> from params {'type': 'token_embedder', 'vocab_size': 29286, 'embed_size': 200, 'embedding_file': './preprocess/Mortality/embedding_matrix.npy'} and extras {}\n",
      "INFO - 2019-03-27 18:31:35,865 - embedder.type = token_embedder\n",
      "INFO - 2019-03-27 18:31:35,865 - instantiating class <class 'PatientVec.models.modules.Embedder.TokenEmbedder'> from params {'vocab_size': 29286, 'embed_size': 200, 'embedding_file': './preprocess/Mortality/embedding_matrix.npy'} and extras {}\n",
      "INFO - 2019-03-27 18:31:35,865 - embedder.vocab_size = 29286\n",
      "INFO - 2019-03-27 18:31:35,866 - embedder.embed_size = 200\n",
      "INFO - 2019-03-27 18:31:35,867 - embedder.embedding_file = ./preprocess/Mortality/embedding_matrix.npy\n",
      "INFO - 2019-03-27 18:31:35,880 - instantiating class <class 'PatientVec.models.modules.Encoder.Encoder'> from params {'type': 'cnn', 'hidden_size': 64, 'kernel_sizes': [3, 5, 7, 9], 'activation': 'relu'} and extras {'input_size': 200}\n",
      "INFO - 2019-03-27 18:31:35,881 - encoder.type = cnn\n",
      "INFO - 2019-03-27 18:31:35,881 - instantiating class <class 'PatientVec.models.modules.Encoder.CNNEncoder'> from params {'hidden_size': 64, 'kernel_sizes': [3, 5, 7, 9], 'activation': 'relu'} and extras {'input_size': 200}\n",
      "INFO - 2019-03-27 18:31:35,881 - encoder.hidden_size = 64\n",
      "INFO - 2019-03-27 18:31:35,882 - encoder.kernel_sizes = [3, 5, 7, 9]\n",
      "INFO - 2019-03-27 18:31:35,882 - encoder.activation = relu\n",
      "INFO - 2019-03-27 18:31:35,884 - decoder.input_dim = 256\n",
      "INFO - 2019-03-27 18:31:35,885 - decoder.num_layers = 2\n",
      "INFO - 2019-03-27 18:31:35,885 - decoder.hidden_dims = [128, 1]\n",
      "INFO - 2019-03-27 18:31:35,885 - decoder.activations = ['tanh', 'linear']\n",
      "INFO - 2019-03-27 18:31:35,885 - decoder.dropout = 0.0\n",
      "INFO - 2019-03-27 18:31:35,886 - instantiating class <class 'PatientVec.models.modules.Predictor.Predictor'> from params {'type': 'binary'} and extras {}\n",
      "INFO - 2019-03-27 18:31:35,887 - predictor.type = binary\n",
      "INFO - 2019-03-27 18:31:35,887 - instantiating class <class 'PatientVec.models.modules.Predictor.Binary_Predictor'> from params {} and extras {}\n",
      "INFO - 2019-03-27 18:31:35,887 - predictor.replicate = False\n",
      "INFO - 2019-03-27 18:31:35,887 - predictor.alpha = 0.5\n"
     ]
    },
    {
     "name": "stdout",
     "output_type": "stream",
     "text": [
      "{'model': {'type': 'seq_classifier', 'embedder': {'type': 'token_embedder', 'vocab_size': 29286, 'embed_size': 200, 'embedding_file': './preprocess/Mortality/embedding_matrix.npy'}, 'decoder': {'num_layers': 2, 'hidden_dims': [128, 1], 'activations': ['tanh', 'linear']}, 'predictor': {'type': 'binary'}, 'structured': {'use_structured': False}, 'encoder': {'type': 'average', 'projection': True, 'hidden_size': 256, 'activation': 'relu'}}, 'training_config': {'type': 'Adam', 'groups': [('.*', {'lr': 0.001, 'weight_decay': 1e-05})], 'common': {'bsize': 16, 'class_weight': True}}, 'exp_config': {'exp_name': 'Mortality_30day/Basic/Average(hs=256)', 'basepath': 'outputs/'}}\n",
      "Setting Embedding\n",
      "{'model': {'type': 'seq_classifier', 'embedder': {'type': 'token_embedder', 'vocab_size': 29286, 'embed_size': 200, 'embedding_file': './preprocess/Mortality/embedding_matrix.npy'}, 'decoder': {'num_layers': 2, 'hidden_dims': [128, 1], 'activations': ['tanh', 'linear']}, 'predictor': {'type': 'binary'}, 'structured': {'use_structured': False}, 'encoder': {'type': 'lstm', 'hidden_size': 128}}, 'training_config': {'type': 'Adam', 'groups': [('.*', {'lr': 0.001, 'weight_decay': 1e-05})], 'common': {'bsize': 16, 'class_weight': True}}, 'exp_config': {'exp_name': 'Mortality_30day/Basic/LSTM(hs=128)', 'basepath': 'outputs/'}}\n",
      "Setting Embedding\n",
      "{'model': {'type': 'seq_classifier', 'embedder': {'type': 'token_embedder', 'vocab_size': 29286, 'embed_size': 200, 'embedding_file': './preprocess/Mortality/embedding_matrix.npy'}, 'decoder': {'num_layers': 2, 'hidden_dims': [128, 1], 'activations': ['tanh', 'linear']}, 'predictor': {'type': 'binary'}, 'structured': {'use_structured': False}, 'encoder': {'type': 'cnn', 'hidden_size': 64, 'kernel_sizes': [3, 5, 7, 9], 'activation': 'relu'}}, 'training_config': {'type': 'Adam', 'groups': [('.*', {'lr': 0.001, 'weight_decay': 1e-05})], 'common': {'bsize': 16, 'class_weight': True}}, 'exp_config': {'exp_name': 'Mortality_30day/Basic/CNN(hs=64)(kernels=3,5,7,9)', 'basepath': 'outputs/'}}\n",
      "Setting Embedding\n",
      "Pos Percentage [0.15129873]\n"
     ]
    },
    {
     "name": "stderr",
     "output_type": "stream",
     "text": [
      "INFO - 2019-03-27 18:31:39,288 - Maximum Sentence Length 721825.000000 , 90 percentile length 18596.000000 ... \n",
      "INFO - 2019-03-27 18:31:48,670 - Truncated all ...\n",
      "INFO - 2019-03-27 18:31:48,703 - Idxs removed []...\n"
     ]
    },
    {
     "name": "stdout",
     "output_type": "stream",
     "text": [
      "Pos Percentage [0.14555348]\n"
     ]
    },
    {
     "name": "stderr",
     "output_type": "stream",
     "text": [
      "INFO - 2019-03-27 18:31:49,519 - Maximum Sentence Length 420764.000000 , 90 percentile length 17662.000000 ... \n",
      "INFO - 2019-03-27 18:31:51,073 - Truncated all ...\n",
      "INFO - 2019-03-27 18:31:51,082 - Idxs removed []...\n"
     ]
    },
    {
     "name": "stdout",
     "output_type": "stream",
     "text": [
      "Pos Percentage [0.15358455]\n"
     ]
    },
    {
     "name": "stderr",
     "output_type": "stream",
     "text": [
      "INFO - 2019-03-27 18:31:51,982 - Maximum Sentence Length 707041.000000 , 90 percentile length 17669.000000 ... \n",
      "INFO - 2019-03-27 18:31:53,895 - Truncated all ...\n",
      "INFO - 2019-03-27 18:31:53,906 - Idxs removed []...\n",
      "INFO - 2019-03-27 18:31:53,965 - instantiating class <class 'PatientVec.models.Model.Model'> from params {'type': 'seq_classifier_with_attention', 'embedder': {'type': 'token_embedder', 'vocab_size': 29286, 'embed_size': 200, 'embedding_file': './preprocess/Mortality/embedding_matrix.npy'}, 'decoder': {'num_layers': 2, 'hidden_dims': [128, 1], 'activations': ['tanh', 'linear']}, 'predictor': {'type': 'binary'}, 'structured': {'use_structured': False}, 'encoder': {'type': 'average', 'projection': True, 'hidden_size': 256, 'activation': 'relu'}, 'attention': {'similarity': {'type': 'additive', 'hidden_size': 128}}} and extras {}\n",
      "INFO - 2019-03-27 18:31:53,966 - type = seq_classifier_with_attention\n",
      "INFO - 2019-03-27 18:31:53,966 - instantiating class <class 'PatientVec.models.modules.Embedder.Embedder'> from params {'type': 'token_embedder', 'vocab_size': 29286, 'embed_size': 200, 'embedding_file': './preprocess/Mortality/embedding_matrix.npy'} and extras {}\n",
      "INFO - 2019-03-27 18:31:53,967 - embedder.type = token_embedder\n",
      "INFO - 2019-03-27 18:31:53,967 - instantiating class <class 'PatientVec.models.modules.Embedder.TokenEmbedder'> from params {'vocab_size': 29286, 'embed_size': 200, 'embedding_file': './preprocess/Mortality/embedding_matrix.npy'} and extras {}\n",
      "INFO - 2019-03-27 18:31:53,967 - embedder.vocab_size = 29286\n",
      "INFO - 2019-03-27 18:31:53,968 - embedder.embed_size = 200\n",
      "INFO - 2019-03-27 18:31:53,968 - embedder.embedding_file = ./preprocess/Mortality/embedding_matrix.npy\n",
      "INFO - 2019-03-27 18:31:53,982 - instantiating class <class 'PatientVec.models.modules.Encoder.Encoder'> from params {'type': 'average', 'projection': True, 'hidden_size': 256, 'activation': 'relu'} and extras {'input_size': 200}\n",
      "INFO - 2019-03-27 18:31:53,982 - encoder.type = average\n",
      "INFO - 2019-03-27 18:31:53,983 - instantiating class <class 'PatientVec.models.modules.Encoder.AverageEncoder'> from params {'projection': True, 'hidden_size': 256, 'activation': 'relu'} and extras {'input_size': 200}\n",
      "INFO - 2019-03-27 18:31:53,983 - encoder.projection = True\n",
      "INFO - 2019-03-27 18:31:53,983 - encoder.hidden_size = 256\n",
      "INFO - 2019-03-27 18:31:53,984 - encoder.activation = relu\n",
      "INFO - 2019-03-27 18:31:53,985 - instantiating class <class 'PatientVec.models.modules.SelfAttention.SelfAttention'> from params {'similarity': {'type': 'additive', 'hidden_size': 128, 'tensor_1_dim': 256}} and extras {}\n",
      "INFO - 2019-03-27 18:31:53,985 - instantiating class <class 'PatientVec.models.modules.UniSimilarity.UniSimilarity'> from params {'type': 'additive', 'hidden_size': 128, 'tensor_1_dim': 256} and extras {}\n",
      "INFO - 2019-03-27 18:31:53,985 - attention.similarity.type = additive\n",
      "INFO - 2019-03-27 18:31:53,986 - instantiating class <class 'PatientVec.models.modules.UniSimilarity.UniAdditiveSimilarity'> from params {'hidden_size': 128, 'tensor_1_dim': 256} and extras {}\n",
      "INFO - 2019-03-27 18:31:53,986 - attention.similarity.tensor_1_dim = 256\n",
      "INFO - 2019-03-27 18:31:53,986 - attention.similarity.hidden_size = 128\n",
      "INFO - 2019-03-27 18:31:53,986 - attention.similarity.output_size = 1\n",
      "INFO - 2019-03-27 18:31:53,988 - attention.normaliser = softmax\n",
      "INFO - 2019-03-27 18:31:53,988 - decoder.input_dim = 256\n",
      "INFO - 2019-03-27 18:31:53,988 - decoder.num_layers = 2\n",
      "INFO - 2019-03-27 18:31:53,989 - decoder.hidden_dims = [128, 1]\n",
      "INFO - 2019-03-27 18:31:53,989 - decoder.activations = ['tanh', 'linear']\n",
      "INFO - 2019-03-27 18:31:53,989 - decoder.dropout = 0.0\n",
      "INFO - 2019-03-27 18:31:53,990 - instantiating class <class 'PatientVec.models.modules.Predictor.Predictor'> from params {'type': 'binary'} and extras {}\n",
      "INFO - 2019-03-27 18:31:53,991 - predictor.type = binary\n",
      "INFO - 2019-03-27 18:31:53,991 - instantiating class <class 'PatientVec.models.modules.Predictor.Binary_Predictor'> from params {} and extras {}\n",
      "INFO - 2019-03-27 18:31:53,991 - predictor.replicate = False\n",
      "INFO - 2019-03-27 18:31:53,992 - predictor.alpha = 0.5\n",
      "INFO - 2019-03-27 18:31:54,005 - instantiating class <class 'PatientVec.models.Model.Model'> from params {'type': 'seq_classifier_with_attention', 'embedder': {'type': 'token_embedder', 'vocab_size': 29286, 'embed_size': 200, 'embedding_file': './preprocess/Mortality/embedding_matrix.npy'}, 'decoder': {'num_layers': 2, 'hidden_dims': [128, 1], 'activations': ['tanh', 'linear']}, 'predictor': {'type': 'binary'}, 'structured': {'use_structured': False}, 'encoder': {'type': 'lstm', 'hidden_size': 128}, 'attention': {'similarity': {'type': 'additive', 'hidden_size': 128}}} and extras {}\n",
      "INFO - 2019-03-27 18:31:54,005 - type = seq_classifier_with_attention\n",
      "INFO - 2019-03-27 18:31:54,006 - instantiating class <class 'PatientVec.models.modules.Embedder.Embedder'> from params {'type': 'token_embedder', 'vocab_size': 29286, 'embed_size': 200, 'embedding_file': './preprocess/Mortality/embedding_matrix.npy'} and extras {}\n",
      "INFO - 2019-03-27 18:31:54,006 - embedder.type = token_embedder\n",
      "INFO - 2019-03-27 18:31:54,006 - instantiating class <class 'PatientVec.models.modules.Embedder.TokenEmbedder'> from params {'vocab_size': 29286, 'embed_size': 200, 'embedding_file': './preprocess/Mortality/embedding_matrix.npy'} and extras {}\n",
      "INFO - 2019-03-27 18:31:54,007 - embedder.vocab_size = 29286\n",
      "INFO - 2019-03-27 18:31:54,007 - embedder.embed_size = 200\n",
      "INFO - 2019-03-27 18:31:54,007 - embedder.embedding_file = ./preprocess/Mortality/embedding_matrix.npy\n",
      "INFO - 2019-03-27 18:31:54,021 - instantiating class <class 'PatientVec.models.modules.Encoder.Encoder'> from params {'type': 'lstm', 'hidden_size': 128} and extras {'input_size': 200}\n",
      "INFO - 2019-03-27 18:31:54,021 - encoder.type = lstm\n",
      "INFO - 2019-03-27 18:31:54,021 - instantiating class <class 'PatientVec.models.modules.Encoder.wrap_pytorch_rnn.<locals>.BiRNNEncoder'> from params {'hidden_size': 128} and extras {'input_size': 200}\n",
      "INFO - 2019-03-27 18:31:54,022 - encoder.hidden_size = 128\n",
      "INFO - 2019-03-27 18:31:54,024 - instantiating class <class 'PatientVec.models.modules.SelfAttention.SelfAttention'> from params {'similarity': {'type': 'additive', 'hidden_size': 128, 'tensor_1_dim': 256}} and extras {}\n",
      "INFO - 2019-03-27 18:31:54,024 - instantiating class <class 'PatientVec.models.modules.UniSimilarity.UniSimilarity'> from params {'type': 'additive', 'hidden_size': 128, 'tensor_1_dim': 256} and extras {}\n",
      "INFO - 2019-03-27 18:31:54,024 - attention.similarity.type = additive\n",
      "INFO - 2019-03-27 18:31:54,025 - instantiating class <class 'PatientVec.models.modules.UniSimilarity.UniAdditiveSimilarity'> from params {'hidden_size': 128, 'tensor_1_dim': 256} and extras {}\n",
      "INFO - 2019-03-27 18:31:54,025 - attention.similarity.tensor_1_dim = 256\n",
      "INFO - 2019-03-27 18:31:54,025 - attention.similarity.hidden_size = 128\n",
      "INFO - 2019-03-27 18:31:54,026 - attention.similarity.output_size = 1\n",
      "INFO - 2019-03-27 18:31:54,027 - attention.normaliser = softmax\n",
      "INFO - 2019-03-27 18:31:54,027 - decoder.input_dim = 256\n",
      "INFO - 2019-03-27 18:31:54,027 - decoder.num_layers = 2\n",
      "INFO - 2019-03-27 18:31:54,028 - decoder.hidden_dims = [128, 1]\n",
      "INFO - 2019-03-27 18:31:54,028 - decoder.activations = ['tanh', 'linear']\n",
      "INFO - 2019-03-27 18:31:54,028 - decoder.dropout = 0.0\n",
      "INFO - 2019-03-27 18:31:54,029 - instantiating class <class 'PatientVec.models.modules.Predictor.Predictor'> from params {'type': 'binary'} and extras {}\n",
      "INFO - 2019-03-27 18:31:54,029 - predictor.type = binary\n",
      "INFO - 2019-03-27 18:31:54,030 - instantiating class <class 'PatientVec.models.modules.Predictor.Binary_Predictor'> from params {} and extras {}\n",
      "INFO - 2019-03-27 18:31:54,030 - predictor.replicate = False\n",
      "INFO - 2019-03-27 18:31:54,030 - predictor.alpha = 0.5\n",
      "INFO - 2019-03-27 18:31:54,044 - instantiating class <class 'PatientVec.models.Model.Model'> from params {'type': 'seq_classifier_with_attention', 'embedder': {'type': 'token_embedder', 'vocab_size': 29286, 'embed_size': 200, 'embedding_file': './preprocess/Mortality/embedding_matrix.npy'}, 'decoder': {'num_layers': 2, 'hidden_dims': [128, 1], 'activations': ['tanh', 'linear']}, 'predictor': {'type': 'binary'}, 'structured': {'use_structured': False}, 'encoder': {'type': 'cnn', 'hidden_size': 64, 'kernel_sizes': [3, 5, 7, 9], 'activation': 'relu'}, 'attention': {'similarity': {'type': 'additive', 'hidden_size': 128}}} and extras {}\n",
      "INFO - 2019-03-27 18:31:54,044 - type = seq_classifier_with_attention\n",
      "INFO - 2019-03-27 18:31:54,044 - instantiating class <class 'PatientVec.models.modules.Embedder.Embedder'> from params {'type': 'token_embedder', 'vocab_size': 29286, 'embed_size': 200, 'embedding_file': './preprocess/Mortality/embedding_matrix.npy'} and extras {}\n",
      "INFO - 2019-03-27 18:31:54,045 - embedder.type = token_embedder\n",
      "INFO - 2019-03-27 18:31:54,045 - instantiating class <class 'PatientVec.models.modules.Embedder.TokenEmbedder'> from params {'vocab_size': 29286, 'embed_size': 200, 'embedding_file': './preprocess/Mortality/embedding_matrix.npy'} and extras {}\n",
      "INFO - 2019-03-27 18:31:54,045 - embedder.vocab_size = 29286\n",
      "INFO - 2019-03-27 18:31:54,045 - embedder.embed_size = 200\n",
      "INFO - 2019-03-27 18:31:54,046 - embedder.embedding_file = ./preprocess/Mortality/embedding_matrix.npy\n",
      "INFO - 2019-03-27 18:31:54,059 - instantiating class <class 'PatientVec.models.modules.Encoder.Encoder'> from params {'type': 'cnn', 'hidden_size': 64, 'kernel_sizes': [3, 5, 7, 9], 'activation': 'relu'} and extras {'input_size': 200}\n",
      "INFO - 2019-03-27 18:31:54,060 - encoder.type = cnn\n",
      "INFO - 2019-03-27 18:31:54,060 - instantiating class <class 'PatientVec.models.modules.Encoder.CNNEncoder'> from params {'hidden_size': 64, 'kernel_sizes': [3, 5, 7, 9], 'activation': 'relu'} and extras {'input_size': 200}\n",
      "INFO - 2019-03-27 18:31:54,060 - encoder.hidden_size = 64\n",
      "INFO - 2019-03-27 18:31:54,061 - encoder.kernel_sizes = [3, 5, 7, 9]\n",
      "INFO - 2019-03-27 18:31:54,061 - encoder.activation = relu\n",
      "INFO - 2019-03-27 18:31:54,064 - instantiating class <class 'PatientVec.models.modules.SelfAttention.SelfAttention'> from params {'similarity': {'type': 'additive', 'hidden_size': 128, 'tensor_1_dim': 256}} and extras {}\n",
      "INFO - 2019-03-27 18:31:54,064 - instantiating class <class 'PatientVec.models.modules.UniSimilarity.UniSimilarity'> from params {'type': 'additive', 'hidden_size': 128, 'tensor_1_dim': 256} and extras {}\n",
      "INFO - 2019-03-27 18:31:54,064 - attention.similarity.type = additive\n",
      "INFO - 2019-03-27 18:31:54,064 - instantiating class <class 'PatientVec.models.modules.UniSimilarity.UniAdditiveSimilarity'> from params {'hidden_size': 128, 'tensor_1_dim': 256} and extras {}\n",
      "INFO - 2019-03-27 18:31:54,065 - attention.similarity.tensor_1_dim = 256\n",
      "INFO - 2019-03-27 18:31:54,065 - attention.similarity.hidden_size = 128\n",
      "INFO - 2019-03-27 18:31:54,065 - attention.similarity.output_size = 1\n",
      "INFO - 2019-03-27 18:31:54,067 - attention.normaliser = softmax\n",
      "INFO - 2019-03-27 18:31:54,067 - decoder.input_dim = 256\n",
      "INFO - 2019-03-27 18:31:54,067 - decoder.num_layers = 2\n",
      "INFO - 2019-03-27 18:31:54,067 - decoder.hidden_dims = [128, 1]\n",
      "INFO - 2019-03-27 18:31:54,068 - decoder.activations = ['tanh', 'linear']\n",
      "INFO - 2019-03-27 18:31:54,068 - decoder.dropout = 0.0\n",
      "INFO - 2019-03-27 18:31:54,069 - instantiating class <class 'PatientVec.models.modules.Predictor.Predictor'> from params {'type': 'binary'} and extras {}\n",
      "INFO - 2019-03-27 18:31:54,070 - predictor.type = binary\n",
      "INFO - 2019-03-27 18:31:54,070 - instantiating class <class 'PatientVec.models.modules.Predictor.Binary_Predictor'> from params {} and extras {}\n",
      "INFO - 2019-03-27 18:31:54,070 - predictor.replicate = False\n",
      "INFO - 2019-03-27 18:31:54,070 - predictor.alpha = 0.5\n"
     ]
    },
    {
     "name": "stdout",
     "output_type": "stream",
     "text": [
      "{'model': {'type': 'seq_classifier_with_attention', 'embedder': {'type': 'token_embedder', 'vocab_size': 29286, 'embed_size': 200, 'embedding_file': './preprocess/Mortality/embedding_matrix.npy'}, 'decoder': {'num_layers': 2, 'hidden_dims': [128, 1], 'activations': ['tanh', 'linear']}, 'predictor': {'type': 'binary'}, 'structured': {'use_structured': False}, 'encoder': {'type': 'average', 'projection': True, 'hidden_size': 256, 'activation': 'relu'}, 'attention': {'similarity': {'type': 'additive', 'hidden_size': 128}}}, 'training_config': {'type': 'Adam', 'groups': [('.*', {'lr': 0.001, 'weight_decay': 1e-05})], 'common': {'bsize': 16, 'class_weight': True}}, 'exp_config': {'exp_name': 'Mortality_30day/Attention/Average(hs=256)+Attention(additive)(hs=128)', 'basepath': 'outputs/'}}\n",
      "Setting Embedding\n",
      "{'model': {'type': 'seq_classifier_with_attention', 'embedder': {'type': 'token_embedder', 'vocab_size': 29286, 'embed_size': 200, 'embedding_file': './preprocess/Mortality/embedding_matrix.npy'}, 'decoder': {'num_layers': 2, 'hidden_dims': [128, 1], 'activations': ['tanh', 'linear']}, 'predictor': {'type': 'binary'}, 'structured': {'use_structured': False}, 'encoder': {'type': 'lstm', 'hidden_size': 128}, 'attention': {'similarity': {'type': 'additive', 'hidden_size': 128}}}, 'training_config': {'type': 'Adam', 'groups': [('.*', {'lr': 0.001, 'weight_decay': 1e-05})], 'common': {'bsize': 16, 'class_weight': True}}, 'exp_config': {'exp_name': 'Mortality_30day/Attention/LSTM(hs=128)+Attention(additive)(hs=128)', 'basepath': 'outputs/'}}\n",
      "Setting Embedding\n",
      "{'model': {'type': 'seq_classifier_with_attention', 'embedder': {'type': 'token_embedder', 'vocab_size': 29286, 'embed_size': 200, 'embedding_file': './preprocess/Mortality/embedding_matrix.npy'}, 'decoder': {'num_layers': 2, 'hidden_dims': [128, 1], 'activations': ['tanh', 'linear']}, 'predictor': {'type': 'binary'}, 'structured': {'use_structured': False}, 'encoder': {'type': 'cnn', 'hidden_size': 64, 'kernel_sizes': [3, 5, 7, 9], 'activation': 'relu'}, 'attention': {'similarity': {'type': 'additive', 'hidden_size': 128}}}, 'training_config': {'type': 'Adam', 'groups': [('.*', {'lr': 0.001, 'weight_decay': 1e-05})], 'common': {'bsize': 16, 'class_weight': True}}, 'exp_config': {'exp_name': 'Mortality_30day/Attention/CNN(hs=64)(kernels=3,5,7,9)+Attention(additive)(hs=128)', 'basepath': 'outputs/'}}\n",
      "Setting Embedding\n",
      "Pos Percentage [0.15129873]\n"
     ]
    },
    {
     "name": "stderr",
     "output_type": "stream",
     "text": [
      "INFO - 2019-03-27 18:31:57,570 - Maximum Sentence Length 721825.000000 , 90 percentile length 18596.000000 ... \n",
      "INFO - 2019-03-27 18:32:06,753 - Truncated all ...\n",
      "INFO - 2019-03-27 18:32:06,785 - Idxs removed []...\n"
     ]
    },
    {
     "name": "stdout",
     "output_type": "stream",
     "text": [
      "Pos Percentage [0.14555348]\n"
     ]
    },
    {
     "name": "stderr",
     "output_type": "stream",
     "text": [
      "INFO - 2019-03-27 18:32:07,643 - Maximum Sentence Length 420764.000000 , 90 percentile length 17662.000000 ... \n",
      "INFO - 2019-03-27 18:32:09,174 - Truncated all ...\n",
      "INFO - 2019-03-27 18:32:09,183 - Idxs removed []...\n"
     ]
    },
    {
     "name": "stdout",
     "output_type": "stream",
     "text": [
      "Pos Percentage [0.15358455]\n"
     ]
    },
    {
     "name": "stderr",
     "output_type": "stream",
     "text": [
      "INFO - 2019-03-27 18:32:10,146 - Maximum Sentence Length 707041.000000 , 90 percentile length 17669.000000 ... \n",
      "INFO - 2019-03-27 18:32:11,973 - Truncated all ...\n",
      "INFO - 2019-03-27 18:32:11,983 - Idxs removed []...\n",
      "INFO - 2019-03-27 18:32:12,043 - instantiating class <class 'PatientVec.models.Model.Model'> from params {'type': 'seq_classifier', 'embedder': {'type': 'token_embedder', 'vocab_size': 29286, 'embed_size': 200, 'embedding_file': './preprocess/Mortality/embedding_matrix.npy'}, 'decoder': {'num_layers': 2, 'hidden_dims': [128, 1], 'activations': ['tanh', 'linear']}, 'predictor': {'type': 'binary'}, 'structured': {'use_structured': False}, 'encoder': {'type': 'sru', 'hidden_size': 128}} and extras {}\n",
      "INFO - 2019-03-27 18:32:12,044 - type = seq_classifier\n",
      "INFO - 2019-03-27 18:32:12,044 - instantiating class <class 'PatientVec.models.modules.Embedder.Embedder'> from params {'type': 'token_embedder', 'vocab_size': 29286, 'embed_size': 200, 'embedding_file': './preprocess/Mortality/embedding_matrix.npy'} and extras {}\n",
      "INFO - 2019-03-27 18:32:12,045 - embedder.type = token_embedder\n",
      "INFO - 2019-03-27 18:32:12,045 - instantiating class <class 'PatientVec.models.modules.Embedder.TokenEmbedder'> from params {'vocab_size': 29286, 'embed_size': 200, 'embedding_file': './preprocess/Mortality/embedding_matrix.npy'} and extras {}\n",
      "INFO - 2019-03-27 18:32:12,046 - embedder.vocab_size = 29286\n",
      "INFO - 2019-03-27 18:32:12,046 - embedder.embed_size = 200\n",
      "INFO - 2019-03-27 18:32:12,046 - embedder.embedding_file = ./preprocess/Mortality/embedding_matrix.npy\n",
      "INFO - 2019-03-27 18:32:12,061 - instantiating class <class 'PatientVec.models.modules.Encoder.Encoder'> from params {'type': 'sru', 'hidden_size': 128} and extras {'input_size': 200}\n",
      "INFO - 2019-03-27 18:32:12,061 - encoder.type = sru\n",
      "INFO - 2019-03-27 18:32:12,061 - instantiating class <class 'PatientVec.models.modules.Encoder.SRUEncoder'> from params {'hidden_size': 128} and extras {'input_size': 200}\n",
      "INFO - 2019-03-27 18:32:12,062 - encoder.hidden_size = 128\n",
      "INFO - 2019-03-27 18:32:12,064 - decoder.input_dim = 256\n",
      "INFO - 2019-03-27 18:32:12,065 - decoder.num_layers = 2\n",
      "INFO - 2019-03-27 18:32:12,065 - decoder.hidden_dims = [128, 1]\n",
      "INFO - 2019-03-27 18:32:12,065 - decoder.activations = ['tanh', 'linear']\n",
      "INFO - 2019-03-27 18:32:12,065 - decoder.dropout = 0.0\n",
      "INFO - 2019-03-27 18:32:12,067 - instantiating class <class 'PatientVec.models.modules.Predictor.Predictor'> from params {'type': 'binary'} and extras {}\n",
      "INFO - 2019-03-27 18:32:12,067 - predictor.type = binary\n",
      "INFO - 2019-03-27 18:32:12,067 - instantiating class <class 'PatientVec.models.modules.Predictor.Binary_Predictor'> from params {} and extras {}\n",
      "INFO - 2019-03-27 18:32:12,068 - predictor.replicate = False\n",
      "INFO - 2019-03-27 18:32:12,068 - predictor.alpha = 0.5\n",
      "INFO - 2019-03-27 18:32:12,078 - instantiating class <class 'PatientVec.models.Model.Model'> from params {'type': 'seq_classifier', 'embedder': {'type': 'token_embedder', 'vocab_size': 29286, 'embed_size': 200, 'embedding_file': './preprocess/Mortality/embedding_matrix.npy'}, 'decoder': {'num_layers': 2, 'hidden_dims': [128, 1], 'activations': ['tanh', 'linear']}, 'predictor': {'type': 'binary'}, 'structured': {'use_structured': False}, 'encoder': {'type': 'sru', 'hidden_size': 128}} and extras {}\n",
      "INFO - 2019-03-27 18:32:12,078 - type = seq_classifier\n",
      "INFO - 2019-03-27 18:32:12,078 - instantiating class <class 'PatientVec.models.modules.Embedder.Embedder'> from params {'type': 'token_embedder', 'vocab_size': 29286, 'embed_size': 200, 'embedding_file': './preprocess/Mortality/embedding_matrix.npy'} and extras {}\n",
      "INFO - 2019-03-27 18:32:12,079 - embedder.type = token_embedder\n",
      "INFO - 2019-03-27 18:32:12,079 - instantiating class <class 'PatientVec.models.modules.Embedder.TokenEmbedder'> from params {'vocab_size': 29286, 'embed_size': 200, 'embedding_file': './preprocess/Mortality/embedding_matrix.npy'} and extras {}\n",
      "INFO - 2019-03-27 18:32:12,080 - embedder.vocab_size = 29286\n",
      "INFO - 2019-03-27 18:32:12,081 - embedder.embed_size = 200\n",
      "INFO - 2019-03-27 18:32:12,081 - embedder.embedding_file = ./preprocess/Mortality/embedding_matrix.npy\n",
      "INFO - 2019-03-27 18:32:12,096 - instantiating class <class 'PatientVec.models.modules.Encoder.Encoder'> from params {'type': 'sru', 'hidden_size': 128} and extras {'input_size': 200}\n",
      "INFO - 2019-03-27 18:32:12,097 - encoder.type = sru\n",
      "INFO - 2019-03-27 18:32:12,097 - instantiating class <class 'PatientVec.models.modules.Encoder.SRUEncoder'> from params {'hidden_size': 128} and extras {'input_size': 200}\n",
      "INFO - 2019-03-27 18:32:12,097 - encoder.hidden_size = 128\n",
      "INFO - 2019-03-27 18:32:12,101 - decoder.input_dim = 256\n",
      "INFO - 2019-03-27 18:32:12,102 - decoder.num_layers = 2\n",
      "INFO - 2019-03-27 18:32:12,102 - decoder.hidden_dims = [128, 1]\n",
      "INFO - 2019-03-27 18:32:12,102 - decoder.activations = ['tanh', 'linear']\n",
      "INFO - 2019-03-27 18:32:12,103 - decoder.dropout = 0.0\n",
      "INFO - 2019-03-27 18:32:12,104 - instantiating class <class 'PatientVec.models.modules.Predictor.Predictor'> from params {'type': 'binary'} and extras {}\n",
      "INFO - 2019-03-27 18:32:12,104 - predictor.type = binary\n",
      "INFO - 2019-03-27 18:32:12,104 - instantiating class <class 'PatientVec.models.modules.Predictor.Binary_Predictor'> from params {} and extras {}\n",
      "INFO - 2019-03-27 18:32:12,105 - predictor.replicate = False\n",
      "INFO - 2019-03-27 18:32:12,105 - predictor.alpha = 0.5\n"
     ]
    },
    {
     "name": "stdout",
     "output_type": "stream",
     "text": [
      "{'model': {'type': 'seq_classifier', 'embedder': {'type': 'token_embedder', 'vocab_size': 29286, 'embed_size': 200, 'embedding_file': './preprocess/Mortality/embedding_matrix.npy'}, 'decoder': {'num_layers': 2, 'hidden_dims': [128, 1], 'activations': ['tanh', 'linear']}, 'predictor': {'type': 'binary'}, 'structured': {'use_structured': False}, 'encoder': {'type': 'sru', 'hidden_size': 128}}, 'training_config': {'type': 'Adam', 'groups': [('.*', {'lr': 0.001, 'weight_decay': 1e-05})], 'common': {'bsize': 16, 'class_weight': True}}, 'exp_config': {'exp_name': 'Mortality_30day/Basic/SRU(hs=128)', 'basepath': 'outputs/'}}\n",
      "Setting Embedding\n",
      "Setting Embedding\n"
     ]
    },
    {
     "data": {
      "application/vnd.jupyter.widget-view+json": {
       "model_id": "52d849e2205943d083b032472bb95d9b",
       "version_major": 2,
       "version_minor": 0
      },
      "text/plain": [
       "HBox(children=(IntProgress(value=0, max=184), HTML(value='')))"
      ]
     },
     "metadata": {},
     "output_type": "display_data"
    },
    {
     "name": "stdout",
     "output_type": "stream",
     "text": [
      "\n",
      "{'accuracy': 0.8115966672334637, 'roc_auc': 0.8895113218951969, 'pr_auc': 0.6905374637654939}\n"
     ]
    },
    {
     "data": {
      "text/html": [
       "<div>\n",
       "<style scoped>\n",
       "    .dataframe tbody tr th:only-of-type {\n",
       "        vertical-align: middle;\n",
       "    }\n",
       "\n",
       "    .dataframe tbody tr th {\n",
       "        vertical-align: top;\n",
       "    }\n",
       "\n",
       "    .dataframe thead th {\n",
       "        text-align: right;\n",
       "    }\n",
       "</style>\n",
       "<table border=\"1\" class=\"dataframe\">\n",
       "  <thead>\n",
       "    <tr style=\"text-align: right;\">\n",
       "      <th></th>\n",
       "      <th>0</th>\n",
       "      <th>1</th>\n",
       "      <th>micro avg</th>\n",
       "      <th>macro avg</th>\n",
       "      <th>weighted avg</th>\n",
       "    </tr>\n",
       "  </thead>\n",
       "  <tbody>\n",
       "    <tr>\n",
       "      <th>f1-score</th>\n",
       "      <td>0.880</td>\n",
       "      <td>0.559</td>\n",
       "      <td>0.812</td>\n",
       "      <td>0.719</td>\n",
       "      <td>0.833</td>\n",
       "    </tr>\n",
       "    <tr>\n",
       "      <th>precision</th>\n",
       "      <td>0.963</td>\n",
       "      <td>0.424</td>\n",
       "      <td>0.812</td>\n",
       "      <td>0.694</td>\n",
       "      <td>0.885</td>\n",
       "    </tr>\n",
       "    <tr>\n",
       "      <th>recall</th>\n",
       "      <td>0.810</td>\n",
       "      <td>0.819</td>\n",
       "      <td>0.812</td>\n",
       "      <td>0.815</td>\n",
       "      <td>0.812</td>\n",
       "    </tr>\n",
       "    <tr>\n",
       "      <th>support</th>\n",
       "      <td>5025.000</td>\n",
       "      <td>856.000</td>\n",
       "      <td>5881.000</td>\n",
       "      <td>5881.000</td>\n",
       "      <td>5881.000</td>\n",
       "    </tr>\n",
       "  </tbody>\n",
       "</table>\n",
       "</div>"
      ],
      "text/plain": [
       "                  0        1  micro avg  macro avg  weighted avg\n",
       "f1-score      0.880    0.559      0.812      0.719         0.833\n",
       "precision     0.963    0.424      0.812      0.694         0.885\n",
       "recall        0.810    0.819      0.812      0.815         0.812\n",
       "support    5025.000  856.000   5881.000   5881.000      5881.000"
      ]
     },
     "metadata": {},
     "output_type": "display_data"
    },
    {
     "data": {
      "application/vnd.jupyter.widget-view+json": {
       "model_id": "7d7f2e3f650f4a7aa331923d685a67a3",
       "version_major": 2,
       "version_minor": 0
      },
      "text/plain": [
       "HBox(children=(IntProgress(value=0, max=230), HTML(value='')))"
      ]
     },
     "metadata": {},
     "output_type": "display_data"
    },
    {
     "name": "stdout",
     "output_type": "stream",
     "text": [
      "\n",
      "{'accuracy': 0.8096857570398586, 'roc_auc': 0.9004122347656918, 'pr_auc': 0.7216049555496227}\n"
     ]
    },
    {
     "data": {
      "text/html": [
       "<div>\n",
       "<style scoped>\n",
       "    .dataframe tbody tr th:only-of-type {\n",
       "        vertical-align: middle;\n",
       "    }\n",
       "\n",
       "    .dataframe tbody tr th {\n",
       "        vertical-align: top;\n",
       "    }\n",
       "\n",
       "    .dataframe thead th {\n",
       "        text-align: right;\n",
       "    }\n",
       "</style>\n",
       "<table border=\"1\" class=\"dataframe\">\n",
       "  <thead>\n",
       "    <tr style=\"text-align: right;\">\n",
       "      <th></th>\n",
       "      <th>0</th>\n",
       "      <th>1</th>\n",
       "      <th>micro avg</th>\n",
       "      <th>macro avg</th>\n",
       "      <th>weighted avg</th>\n",
       "    </tr>\n",
       "  </thead>\n",
       "  <tbody>\n",
       "    <tr>\n",
       "      <th>f1-score</th>\n",
       "      <td>0.878</td>\n",
       "      <td>0.573</td>\n",
       "      <td>0.81</td>\n",
       "      <td>0.725</td>\n",
       "      <td>0.831</td>\n",
       "    </tr>\n",
       "    <tr>\n",
       "      <th>precision</th>\n",
       "      <td>0.964</td>\n",
       "      <td>0.437</td>\n",
       "      <td>0.81</td>\n",
       "      <td>0.700</td>\n",
       "      <td>0.883</td>\n",
       "    </tr>\n",
       "    <tr>\n",
       "      <th>recall</th>\n",
       "      <td>0.806</td>\n",
       "      <td>0.833</td>\n",
       "      <td>0.81</td>\n",
       "      <td>0.819</td>\n",
       "      <td>0.810</td>\n",
       "    </tr>\n",
       "    <tr>\n",
       "      <th>support</th>\n",
       "      <td>6222.000</td>\n",
       "      <td>1129.000</td>\n",
       "      <td>7351.00</td>\n",
       "      <td>7351.000</td>\n",
       "      <td>7351.000</td>\n",
       "    </tr>\n",
       "  </tbody>\n",
       "</table>\n",
       "</div>"
      ],
      "text/plain": [
       "                  0         1  micro avg  macro avg  weighted avg\n",
       "f1-score      0.878     0.573       0.81      0.725         0.831\n",
       "precision     0.964     0.437       0.81      0.700         0.883\n",
       "recall        0.806     0.833       0.81      0.819         0.810\n",
       "support    6222.000  1129.000    7351.00   7351.000      7351.000"
      ]
     },
     "metadata": {},
     "output_type": "display_data"
    },
    {
     "name": "stderr",
     "output_type": "stream",
     "text": [
      "INFO - 2019-03-27 18:33:50,629 - instantiating class <class 'PatientVec.models.Model.Model'> from params {'type': 'seq_classifier_with_attention', 'embedder': {'type': 'token_embedder', 'vocab_size': 29286, 'embed_size': 200, 'embedding_file': './preprocess/Mortality/embedding_matrix.npy'}, 'decoder': {'num_layers': 2, 'hidden_dims': [128, 1], 'activations': ['tanh', 'linear']}, 'predictor': {'type': 'binary'}, 'structured': {'use_structured': False}, 'encoder': {'type': 'sru', 'hidden_size': 128}, 'attention': {'similarity': {'type': 'additive', 'hidden_size': 128}}} and extras {}\n",
      "INFO - 2019-03-27 18:33:50,630 - type = seq_classifier_with_attention\n",
      "INFO - 2019-03-27 18:33:50,630 - instantiating class <class 'PatientVec.models.modules.Embedder.Embedder'> from params {'type': 'token_embedder', 'vocab_size': 29286, 'embed_size': 200, 'embedding_file': './preprocess/Mortality/embedding_matrix.npy'} and extras {}\n",
      "INFO - 2019-03-27 18:33:50,630 - embedder.type = token_embedder\n",
      "INFO - 2019-03-27 18:33:50,631 - instantiating class <class 'PatientVec.models.modules.Embedder.TokenEmbedder'> from params {'vocab_size': 29286, 'embed_size': 200, 'embedding_file': './preprocess/Mortality/embedding_matrix.npy'} and extras {}\n",
      "INFO - 2019-03-27 18:33:50,631 - embedder.vocab_size = 29286\n",
      "INFO - 2019-03-27 18:33:50,631 - embedder.embed_size = 200\n",
      "INFO - 2019-03-27 18:33:50,632 - embedder.embedding_file = ./preprocess/Mortality/embedding_matrix.npy\n",
      "INFO - 2019-03-27 18:33:50,646 - instantiating class <class 'PatientVec.models.modules.Encoder.Encoder'> from params {'type': 'sru', 'hidden_size': 128} and extras {'input_size': 200}\n",
      "INFO - 2019-03-27 18:33:50,647 - encoder.type = sru\n",
      "INFO - 2019-03-27 18:33:50,647 - instantiating class <class 'PatientVec.models.modules.Encoder.SRUEncoder'> from params {'hidden_size': 128} and extras {'input_size': 200}\n",
      "INFO - 2019-03-27 18:33:50,647 - encoder.hidden_size = 128\n",
      "INFO - 2019-03-27 18:33:50,651 - instantiating class <class 'PatientVec.models.modules.SelfAttention.SelfAttention'> from params {'similarity': {'type': 'additive', 'hidden_size': 128, 'tensor_1_dim': 256}} and extras {}\n",
      "INFO - 2019-03-27 18:33:50,651 - instantiating class <class 'PatientVec.models.modules.UniSimilarity.UniSimilarity'> from params {'type': 'additive', 'hidden_size': 128, 'tensor_1_dim': 256} and extras {}\n",
      "INFO - 2019-03-27 18:33:50,651 - attention.similarity.type = additive\n",
      "INFO - 2019-03-27 18:33:50,651 - instantiating class <class 'PatientVec.models.modules.UniSimilarity.UniAdditiveSimilarity'> from params {'hidden_size': 128, 'tensor_1_dim': 256} and extras {}\n",
      "INFO - 2019-03-27 18:33:50,652 - attention.similarity.tensor_1_dim = 256\n",
      "INFO - 2019-03-27 18:33:50,652 - attention.similarity.hidden_size = 128\n",
      "INFO - 2019-03-27 18:33:50,652 - attention.similarity.output_size = 1\n",
      "INFO - 2019-03-27 18:33:50,654 - attention.normaliser = softmax\n",
      "INFO - 2019-03-27 18:33:50,654 - decoder.input_dim = 256\n",
      "INFO - 2019-03-27 18:33:50,655 - decoder.num_layers = 2\n",
      "INFO - 2019-03-27 18:33:50,655 - decoder.hidden_dims = [128, 1]\n",
      "INFO - 2019-03-27 18:33:50,655 - decoder.activations = ['tanh', 'linear']\n",
      "INFO - 2019-03-27 18:33:50,655 - decoder.dropout = 0.0\n",
      "INFO - 2019-03-27 18:33:50,657 - instantiating class <class 'PatientVec.models.modules.Predictor.Predictor'> from params {'type': 'binary'} and extras {}\n",
      "INFO - 2019-03-27 18:33:50,657 - predictor.type = binary\n",
      "INFO - 2019-03-27 18:33:50,658 - instantiating class <class 'PatientVec.models.modules.Predictor.Binary_Predictor'> from params {} and extras {}\n",
      "INFO - 2019-03-27 18:33:50,658 - predictor.replicate = False\n",
      "INFO - 2019-03-27 18:33:50,658 - predictor.alpha = 0.5\n",
      "INFO - 2019-03-27 18:33:50,666 - instantiating class <class 'PatientVec.models.Model.Model'> from params {'type': 'seq_classifier_with_attention', 'embedder': {'type': 'token_embedder', 'vocab_size': 29286, 'embed_size': 200, 'embedding_file': './preprocess/Mortality/embedding_matrix.npy'}, 'decoder': {'num_layers': 2, 'hidden_dims': [128, 1], 'activations': ['tanh', 'linear']}, 'predictor': {'type': 'binary'}, 'structured': {'use_structured': False}, 'encoder': {'type': 'sru', 'hidden_size': 128}, 'attention': {'similarity': {'type': 'additive', 'hidden_size': 128}}} and extras {}\n",
      "INFO - 2019-03-27 18:33:50,667 - type = seq_classifier_with_attention\n",
      "INFO - 2019-03-27 18:33:50,667 - instantiating class <class 'PatientVec.models.modules.Embedder.Embedder'> from params {'type': 'token_embedder', 'vocab_size': 29286, 'embed_size': 200, 'embedding_file': './preprocess/Mortality/embedding_matrix.npy'} and extras {}\n",
      "INFO - 2019-03-27 18:33:50,667 - embedder.type = token_embedder\n",
      "INFO - 2019-03-27 18:33:50,668 - instantiating class <class 'PatientVec.models.modules.Embedder.TokenEmbedder'> from params {'vocab_size': 29286, 'embed_size': 200, 'embedding_file': './preprocess/Mortality/embedding_matrix.npy'} and extras {}\n",
      "INFO - 2019-03-27 18:33:50,668 - embedder.vocab_size = 29286\n",
      "INFO - 2019-03-27 18:33:50,669 - embedder.embed_size = 200\n",
      "INFO - 2019-03-27 18:33:50,669 - embedder.embedding_file = ./preprocess/Mortality/embedding_matrix.npy\n",
      "INFO - 2019-03-27 18:33:50,683 - instantiating class <class 'PatientVec.models.modules.Encoder.Encoder'> from params {'type': 'sru', 'hidden_size': 128} and extras {'input_size': 200}\n",
      "INFO - 2019-03-27 18:33:50,684 - encoder.type = sru\n",
      "INFO - 2019-03-27 18:33:50,684 - instantiating class <class 'PatientVec.models.modules.Encoder.SRUEncoder'> from params {'hidden_size': 128} and extras {'input_size': 200}\n",
      "INFO - 2019-03-27 18:33:50,684 - encoder.hidden_size = 128\n",
      "INFO - 2019-03-27 18:33:50,688 - instantiating class <class 'PatientVec.models.modules.SelfAttention.SelfAttention'> from params {'similarity': {'type': 'additive', 'hidden_size': 128, 'tensor_1_dim': 256}} and extras {}\n",
      "INFO - 2019-03-27 18:33:50,689 - instantiating class <class 'PatientVec.models.modules.UniSimilarity.UniSimilarity'> from params {'type': 'additive', 'hidden_size': 128, 'tensor_1_dim': 256} and extras {}\n",
      "INFO - 2019-03-27 18:33:50,689 - attention.similarity.type = additive\n",
      "INFO - 2019-03-27 18:33:50,689 - instantiating class <class 'PatientVec.models.modules.UniSimilarity.UniAdditiveSimilarity'> from params {'hidden_size': 128, 'tensor_1_dim': 256} and extras {}\n",
      "INFO - 2019-03-27 18:33:50,690 - attention.similarity.tensor_1_dim = 256\n",
      "INFO - 2019-03-27 18:33:50,690 - attention.similarity.hidden_size = 128\n",
      "INFO - 2019-03-27 18:33:50,691 - attention.similarity.output_size = 1\n",
      "INFO - 2019-03-27 18:33:50,692 - attention.normaliser = softmax\n",
      "INFO - 2019-03-27 18:33:50,693 - decoder.input_dim = 256\n",
      "INFO - 2019-03-27 18:33:50,693 - decoder.num_layers = 2\n",
      "INFO - 2019-03-27 18:33:50,694 - decoder.hidden_dims = [128, 1]\n",
      "INFO - 2019-03-27 18:33:50,694 - decoder.activations = ['tanh', 'linear']\n",
      "INFO - 2019-03-27 18:33:50,694 - decoder.dropout = 0.0\n",
      "INFO - 2019-03-27 18:33:50,696 - instantiating class <class 'PatientVec.models.modules.Predictor.Predictor'> from params {'type': 'binary'} and extras {}\n",
      "INFO - 2019-03-27 18:33:50,696 - predictor.type = binary\n",
      "INFO - 2019-03-27 18:33:50,697 - instantiating class <class 'PatientVec.models.modules.Predictor.Binary_Predictor'> from params {} and extras {}\n",
      "INFO - 2019-03-27 18:33:50,697 - predictor.replicate = False\n",
      "INFO - 2019-03-27 18:33:50,697 - predictor.alpha = 0.5\n"
     ]
    },
    {
     "name": "stdout",
     "output_type": "stream",
     "text": [
      "============================================================================================================================================================================================================================================================================================================\n",
      "{'model': {'type': 'seq_classifier_with_attention', 'embedder': {'type': 'token_embedder', 'vocab_size': 29286, 'embed_size': 200, 'embedding_file': './preprocess/Mortality/embedding_matrix.npy'}, 'decoder': {'num_layers': 2, 'hidden_dims': [128, 1], 'activations': ['tanh', 'linear']}, 'predictor': {'type': 'binary'}, 'structured': {'use_structured': False}, 'encoder': {'type': 'sru', 'hidden_size': 128}, 'attention': {'similarity': {'type': 'additive', 'hidden_size': 128}}}, 'training_config': {'type': 'Adam', 'groups': [('.*', {'lr': 0.001, 'weight_decay': 1e-05})], 'common': {'bsize': 16, 'class_weight': True}}, 'exp_config': {'exp_name': 'Mortality_30day/Attention/SRU(hs=128)+Attention(additive)(hs=128)', 'basepath': 'outputs/'}}\n",
      "Setting Embedding\n",
      "Setting Embedding\n"
     ]
    },
    {
     "data": {
      "application/vnd.jupyter.widget-view+json": {
       "model_id": "90e5e67236ea4f71b17a612e8bc5bc7a",
       "version_major": 2,
       "version_minor": 0
      },
      "text/plain": [
       "HBox(children=(IntProgress(value=0, max=184), HTML(value='')))"
      ]
     },
     "metadata": {},
     "output_type": "display_data"
    },
    {
     "name": "stdout",
     "output_type": "stream",
     "text": [
      "\n",
      "{'accuracy': 0.8799523890494814, 'roc_auc': 0.9509959548054121, 'pr_auc': 0.8383187906897197}\n"
     ]
    },
    {
     "data": {
      "text/html": [
       "<div>\n",
       "<style scoped>\n",
       "    .dataframe tbody tr th:only-of-type {\n",
       "        vertical-align: middle;\n",
       "    }\n",
       "\n",
       "    .dataframe tbody tr th {\n",
       "        vertical-align: top;\n",
       "    }\n",
       "\n",
       "    .dataframe thead th {\n",
       "        text-align: right;\n",
       "    }\n",
       "</style>\n",
       "<table border=\"1\" class=\"dataframe\">\n",
       "  <thead>\n",
       "    <tr style=\"text-align: right;\">\n",
       "      <th></th>\n",
       "      <th>0</th>\n",
       "      <th>1</th>\n",
       "      <th>micro avg</th>\n",
       "      <th>macro avg</th>\n",
       "      <th>weighted avg</th>\n",
       "    </tr>\n",
       "  </thead>\n",
       "  <tbody>\n",
       "    <tr>\n",
       "      <th>f1-score</th>\n",
       "      <td>0.926</td>\n",
       "      <td>0.685</td>\n",
       "      <td>0.88</td>\n",
       "      <td>0.805</td>\n",
       "      <td>0.891</td>\n",
       "    </tr>\n",
       "    <tr>\n",
       "      <th>precision</th>\n",
       "      <td>0.980</td>\n",
       "      <td>0.554</td>\n",
       "      <td>0.88</td>\n",
       "      <td>0.767</td>\n",
       "      <td>0.918</td>\n",
       "    </tr>\n",
       "    <tr>\n",
       "      <th>recall</th>\n",
       "      <td>0.877</td>\n",
       "      <td>0.897</td>\n",
       "      <td>0.88</td>\n",
       "      <td>0.887</td>\n",
       "      <td>0.880</td>\n",
       "    </tr>\n",
       "    <tr>\n",
       "      <th>support</th>\n",
       "      <td>5025.000</td>\n",
       "      <td>856.000</td>\n",
       "      <td>5881.00</td>\n",
       "      <td>5881.000</td>\n",
       "      <td>5881.000</td>\n",
       "    </tr>\n",
       "  </tbody>\n",
       "</table>\n",
       "</div>"
      ],
      "text/plain": [
       "                  0        1  micro avg  macro avg  weighted avg\n",
       "f1-score      0.926    0.685       0.88      0.805         0.891\n",
       "precision     0.980    0.554       0.88      0.767         0.918\n",
       "recall        0.877    0.897       0.88      0.887         0.880\n",
       "support    5025.000  856.000    5881.00   5881.000      5881.000"
      ]
     },
     "metadata": {},
     "output_type": "display_data"
    },
    {
     "data": {
      "application/vnd.jupyter.widget-view+json": {
       "model_id": "09e916c06f9749a580d1f4398bee0a19",
       "version_major": 2,
       "version_minor": 0
      },
      "text/plain": [
       "HBox(children=(IntProgress(value=0, max=230), HTML(value='')))"
      ]
     },
     "metadata": {},
     "output_type": "display_data"
    },
    {
     "name": "stdout",
     "output_type": "stream",
     "text": [
      "\n",
      "{'accuracy': 0.8808325397905047, 'roc_auc': 0.9611362179802005, 'pr_auc': 0.8609973587779357}\n"
     ]
    },
    {
     "data": {
      "text/html": [
       "<div>\n",
       "<style scoped>\n",
       "    .dataframe tbody tr th:only-of-type {\n",
       "        vertical-align: middle;\n",
       "    }\n",
       "\n",
       "    .dataframe tbody tr th {\n",
       "        vertical-align: top;\n",
       "    }\n",
       "\n",
       "    .dataframe thead th {\n",
       "        text-align: right;\n",
       "    }\n",
       "</style>\n",
       "<table border=\"1\" class=\"dataframe\">\n",
       "  <thead>\n",
       "    <tr style=\"text-align: right;\">\n",
       "      <th></th>\n",
       "      <th>0</th>\n",
       "      <th>1</th>\n",
       "      <th>micro avg</th>\n",
       "      <th>macro avg</th>\n",
       "      <th>weighted avg</th>\n",
       "    </tr>\n",
       "  </thead>\n",
       "  <tbody>\n",
       "    <tr>\n",
       "      <th>f1-score</th>\n",
       "      <td>0.926</td>\n",
       "      <td>0.702</td>\n",
       "      <td>0.881</td>\n",
       "      <td>0.814</td>\n",
       "      <td>0.891</td>\n",
       "    </tr>\n",
       "    <tr>\n",
       "      <th>precision</th>\n",
       "      <td>0.982</td>\n",
       "      <td>0.570</td>\n",
       "      <td>0.881</td>\n",
       "      <td>0.776</td>\n",
       "      <td>0.919</td>\n",
       "    </tr>\n",
       "    <tr>\n",
       "      <th>recall</th>\n",
       "      <td>0.875</td>\n",
       "      <td>0.912</td>\n",
       "      <td>0.881</td>\n",
       "      <td>0.894</td>\n",
       "      <td>0.881</td>\n",
       "    </tr>\n",
       "    <tr>\n",
       "      <th>support</th>\n",
       "      <td>6222.000</td>\n",
       "      <td>1129.000</td>\n",
       "      <td>7351.000</td>\n",
       "      <td>7351.000</td>\n",
       "      <td>7351.000</td>\n",
       "    </tr>\n",
       "  </tbody>\n",
       "</table>\n",
       "</div>"
      ],
      "text/plain": [
       "                  0         1  micro avg  macro avg  weighted avg\n",
       "f1-score      0.926     0.702      0.881      0.814         0.891\n",
       "precision     0.982     0.570      0.881      0.776         0.919\n",
       "recall        0.875     0.912      0.881      0.894         0.881\n",
       "support    6222.000  1129.000   7351.000   7351.000      7351.000"
      ]
     },
     "metadata": {},
     "output_type": "display_data"
    },
    {
     "name": "stdout",
     "output_type": "stream",
     "text": [
      "============================================================================================================================================================================================================================================================================================================\n",
      "Pos Percentage [0.15129873]\n"
     ]
    },
    {
     "name": "stderr",
     "output_type": "stream",
     "text": [
      "INFO - 2019-03-27 18:35:43,538 - Maximum Sentence Length 721825.000000 , 90 percentile length 18596.000000 ... \n",
      "INFO - 2019-03-27 18:35:52,709 - Truncated all ...\n",
      "INFO - 2019-03-27 18:35:52,750 - Idxs removed []...\n"
     ]
    },
    {
     "name": "stdout",
     "output_type": "stream",
     "text": [
      "Pos Percentage [0.14555348]\n"
     ]
    },
    {
     "name": "stderr",
     "output_type": "stream",
     "text": [
      "INFO - 2019-03-27 18:35:53,594 - Maximum Sentence Length 420764.000000 , 90 percentile length 17662.000000 ... \n",
      "INFO - 2019-03-27 18:35:55,153 - Truncated all ...\n",
      "INFO - 2019-03-27 18:35:55,163 - Idxs removed []...\n"
     ]
    },
    {
     "name": "stdout",
     "output_type": "stream",
     "text": [
      "Pos Percentage [0.15358455]\n"
     ]
    },
    {
     "name": "stderr",
     "output_type": "stream",
     "text": [
      "INFO - 2019-03-27 18:35:56,109 - Maximum Sentence Length 707041.000000 , 90 percentile length 17669.000000 ... \n",
      "INFO - 2019-03-27 18:35:58,003 - Truncated all ...\n",
      "INFO - 2019-03-27 18:35:58,015 - Idxs removed []...\n",
      "INFO - 2019-03-27 18:35:58,090 - instantiating class <class 'PatientVec.models.Model.Model'> from params {'type': 'seq_classifier_with_structured_attention', 'embedder': {'type': 'token_embedder', 'vocab_size': 29286, 'embed_size': 200, 'embedding_file': './preprocess/Mortality/embedding_matrix.npy'}, 'decoder': {'num_layers': 2, 'hidden_dims': [128, 1], 'activations': ['tanh', 'linear']}, 'predictor': {'type': 'binary'}, 'structured': {'use_structured': False}, 'encoder': {'type': 'average', 'projection': True, 'hidden_size': 256, 'activation': 'relu'}, 'attention': {'similarity': {'type': 'additive', 'hidden_size': 128, 'tensor_2_dim': 50}}} and extras {}\n",
      "INFO - 2019-03-27 18:35:58,090 - type = seq_classifier_with_structured_attention\n",
      "INFO - 2019-03-27 18:35:58,091 - instantiating class <class 'PatientVec.models.modules.Embedder.Embedder'> from params {'type': 'token_embedder', 'vocab_size': 29286, 'embed_size': 200, 'embedding_file': './preprocess/Mortality/embedding_matrix.npy'} and extras {}\n",
      "INFO - 2019-03-27 18:35:58,091 - embedder.type = token_embedder\n",
      "INFO - 2019-03-27 18:35:58,091 - instantiating class <class 'PatientVec.models.modules.Embedder.TokenEmbedder'> from params {'vocab_size': 29286, 'embed_size': 200, 'embedding_file': './preprocess/Mortality/embedding_matrix.npy'} and extras {}\n",
      "INFO - 2019-03-27 18:35:58,092 - embedder.vocab_size = 29286\n",
      "INFO - 2019-03-27 18:35:58,092 - embedder.embed_size = 200\n",
      "INFO - 2019-03-27 18:35:58,092 - embedder.embedding_file = ./preprocess/Mortality/embedding_matrix.npy\n",
      "INFO - 2019-03-27 18:35:58,110 - instantiating class <class 'PatientVec.models.modules.Encoder.Encoder'> from params {'type': 'average', 'projection': True, 'hidden_size': 256, 'activation': 'relu'} and extras {'input_size': 200}\n",
      "INFO - 2019-03-27 18:35:58,110 - encoder.type = average\n",
      "INFO - 2019-03-27 18:35:58,111 - instantiating class <class 'PatientVec.models.modules.Encoder.AverageEncoder'> from params {'projection': True, 'hidden_size': 256, 'activation': 'relu'} and extras {'input_size': 200}\n",
      "INFO - 2019-03-27 18:35:58,111 - encoder.projection = True\n",
      "INFO - 2019-03-27 18:35:58,112 - encoder.hidden_size = 256\n",
      "INFO - 2019-03-27 18:35:58,112 - encoder.activation = relu\n",
      "INFO - 2019-03-27 18:35:58,113 - instantiating class <class 'PatientVec.models.modules.Attention.Attention'> from params {'similarity': {'type': 'additive', 'hidden_size': 128, 'tensor_2_dim': 50, 'tensor_1_dim': 256}} and extras {}\n",
      "INFO - 2019-03-27 18:35:58,114 - instantiating class <class 'PatientVec.models.modules.BiSimilarity.BiSimilarity'> from params {'type': 'additive', 'hidden_size': 128, 'tensor_2_dim': 50, 'tensor_1_dim': 256} and extras {}\n",
      "INFO - 2019-03-27 18:35:58,114 - attention.similarity.type = additive\n",
      "INFO - 2019-03-27 18:35:58,114 - instantiating class <class 'PatientVec.models.modules.BiSimilarity.BiAdditiveSimilarity'> from params {'hidden_size': 128, 'tensor_2_dim': 50, 'tensor_1_dim': 256} and extras {}\n",
      "INFO - 2019-03-27 18:35:58,115 - attention.similarity.tensor_1_dim = 256\n",
      "INFO - 2019-03-27 18:35:58,115 - attention.similarity.tensor_2_dim = 50\n",
      "INFO - 2019-03-27 18:35:58,115 - attention.similarity.hidden_size = 128\n",
      "INFO - 2019-03-27 18:35:58,117 - attention.normaliser = softmax\n",
      "INFO - 2019-03-27 18:35:58,117 - decoder.input_dim = 256\n",
      "INFO - 2019-03-27 18:35:58,118 - decoder.num_layers = 2\n",
      "INFO - 2019-03-27 18:35:58,118 - decoder.hidden_dims = [128, 1]\n",
      "INFO - 2019-03-27 18:35:58,118 - decoder.activations = ['tanh', 'linear']\n",
      "INFO - 2019-03-27 18:35:58,119 - decoder.dropout = 0.0\n",
      "INFO - 2019-03-27 18:35:58,120 - instantiating class <class 'PatientVec.models.modules.Predictor.Predictor'> from params {'type': 'binary'} and extras {}\n",
      "INFO - 2019-03-27 18:35:58,120 - predictor.type = binary\n",
      "INFO - 2019-03-27 18:35:58,121 - instantiating class <class 'PatientVec.models.modules.Predictor.Binary_Predictor'> from params {} and extras {}\n",
      "INFO - 2019-03-27 18:35:58,121 - predictor.replicate = False\n",
      "INFO - 2019-03-27 18:35:58,123 - predictor.alpha = 0.5\n",
      "INFO - 2019-03-27 18:35:58,133 - instantiating class <class 'PatientVec.models.Model.Model'> from params {'type': 'seq_classifier_with_structured_attention', 'embedder': {'type': 'token_embedder', 'vocab_size': 29286, 'embed_size': 200, 'embedding_file': '/scratch/jain.sar/PatientVec/preprocess/Mortality/embedding_matrix.npy'}, 'decoder': {'num_layers': 2, 'hidden_dims': [128, 1], 'activations': ['tanh', 'linear']}, 'predictor': {'type': 'binary'}, 'structured': {'use_structured': False}, 'encoder': {'type': 'average', 'projection': True, 'hidden_size': 256, 'activation': 'relu'}, 'attention': {'similarity': {'type': 'additive', 'hidden_size': 128, 'tensor_2_dim': 50}}} and extras {}\n",
      "INFO - 2019-03-27 18:35:58,133 - type = seq_classifier_with_structured_attention\n",
      "INFO - 2019-03-27 18:35:58,133 - instantiating class <class 'PatientVec.models.modules.Embedder.Embedder'> from params {'type': 'token_embedder', 'vocab_size': 29286, 'embed_size': 200, 'embedding_file': '/scratch/jain.sar/PatientVec/preprocess/Mortality/embedding_matrix.npy'} and extras {}\n",
      "INFO - 2019-03-27 18:35:58,134 - embedder.type = token_embedder\n",
      "INFO - 2019-03-27 18:35:58,134 - instantiating class <class 'PatientVec.models.modules.Embedder.TokenEmbedder'> from params {'vocab_size': 29286, 'embed_size': 200, 'embedding_file': '/scratch/jain.sar/PatientVec/preprocess/Mortality/embedding_matrix.npy'} and extras {}\n",
      "INFO - 2019-03-27 18:35:58,134 - embedder.vocab_size = 29286\n",
      "INFO - 2019-03-27 18:35:58,135 - embedder.embed_size = 200\n",
      "INFO - 2019-03-27 18:35:58,135 - embedder.embedding_file = /scratch/jain.sar/PatientVec/preprocess/Mortality/embedding_matrix.npy\n",
      "INFO - 2019-03-27 18:35:58,164 - instantiating class <class 'PatientVec.models.modules.Encoder.Encoder'> from params {'type': 'average', 'projection': True, 'hidden_size': 256, 'activation': 'relu'} and extras {'input_size': 200}\n",
      "INFO - 2019-03-27 18:35:58,165 - encoder.type = average\n",
      "INFO - 2019-03-27 18:35:58,165 - instantiating class <class 'PatientVec.models.modules.Encoder.AverageEncoder'> from params {'projection': True, 'hidden_size': 256, 'activation': 'relu'} and extras {'input_size': 200}\n",
      "INFO - 2019-03-27 18:35:58,165 - encoder.projection = True\n",
      "INFO - 2019-03-27 18:35:58,166 - encoder.hidden_size = 256\n",
      "INFO - 2019-03-27 18:35:58,166 - encoder.activation = relu\n",
      "INFO - 2019-03-27 18:35:58,167 - instantiating class <class 'PatientVec.models.modules.Attention.Attention'> from params {'similarity': {'type': 'additive', 'hidden_size': 128, 'tensor_2_dim': 50, 'tensor_1_dim': 256}} and extras {}\n",
      "INFO - 2019-03-27 18:35:58,167 - instantiating class <class 'PatientVec.models.modules.BiSimilarity.BiSimilarity'> from params {'type': 'additive', 'hidden_size': 128, 'tensor_2_dim': 50, 'tensor_1_dim': 256} and extras {}\n",
      "INFO - 2019-03-27 18:35:58,167 - attention.similarity.type = additive\n",
      "INFO - 2019-03-27 18:35:58,168 - instantiating class <class 'PatientVec.models.modules.BiSimilarity.BiAdditiveSimilarity'> from params {'hidden_size': 128, 'tensor_2_dim': 50, 'tensor_1_dim': 256} and extras {}\n",
      "INFO - 2019-03-27 18:35:58,168 - attention.similarity.tensor_1_dim = 256\n",
      "INFO - 2019-03-27 18:35:58,168 - attention.similarity.tensor_2_dim = 50\n",
      "INFO - 2019-03-27 18:35:58,169 - attention.similarity.hidden_size = 128\n",
      "INFO - 2019-03-27 18:35:58,170 - attention.normaliser = softmax\n",
      "INFO - 2019-03-27 18:35:58,171 - decoder.input_dim = 256\n",
      "INFO - 2019-03-27 18:35:58,171 - decoder.num_layers = 2\n",
      "INFO - 2019-03-27 18:35:58,171 - decoder.hidden_dims = [128, 1]\n",
      "INFO - 2019-03-27 18:35:58,171 - decoder.activations = ['tanh', 'linear']\n",
      "INFO - 2019-03-27 18:35:58,171 - decoder.dropout = 0.0\n",
      "INFO - 2019-03-27 18:35:58,173 - instantiating class <class 'PatientVec.models.modules.Predictor.Predictor'> from params {'type': 'binary'} and extras {}\n",
      "INFO - 2019-03-27 18:35:58,173 - predictor.type = binary\n",
      "INFO - 2019-03-27 18:35:58,173 - instantiating class <class 'PatientVec.models.modules.Predictor.Binary_Predictor'> from params {} and extras {}\n",
      "INFO - 2019-03-27 18:35:58,174 - predictor.replicate = False\n",
      "INFO - 2019-03-27 18:35:58,174 - predictor.alpha = 0.5\n"
     ]
    },
    {
     "name": "stdout",
     "output_type": "stream",
     "text": [
      "{'model': {'type': 'seq_classifier_with_structured_attention', 'embedder': {'type': 'token_embedder', 'vocab_size': 29286, 'embed_size': 200, 'embedding_file': './preprocess/Mortality/embedding_matrix.npy'}, 'decoder': {'num_layers': 2, 'hidden_dims': [128, 1], 'activations': ['tanh', 'linear']}, 'predictor': {'type': 'binary'}, 'structured': {'use_structured': False}, 'encoder': {'type': 'average', 'projection': True, 'hidden_size': 256, 'activation': 'relu'}, 'attention': {'similarity': {'type': 'additive', 'hidden_size': 128, 'tensor_2_dim': 50}}}, 'training_config': {'type': 'Adam', 'groups': [('.*', {'lr': 0.001, 'weight_decay': 1e-05})], 'common': {'bsize': 32, 'class_weight': True}}, 'exp_config': {'exp_name': 'Mortality_30day/Structured Attention/Average(hs=256)+Attention(additive)(all)(hs=128)', 'basepath': 'outputs/'}}\n",
      "Setting Embedding\n",
      "Error, Embedding file given but doesn't exists ... /scratch/jain.sar/PatientVec/preprocess/Mortality/embedding_matrix.npy\n"
     ]
    },
    {
     "data": {
      "application/vnd.jupyter.widget-view+json": {
       "model_id": "c641391c682e46fca845679d86070c5f",
       "version_major": 2,
       "version_minor": 0
      },
      "text/plain": [
       "HBox(children=(IntProgress(value=0, max=184), HTML(value='')))"
      ]
     },
     "metadata": {},
     "output_type": "display_data"
    },
    {
     "name": "stdout",
     "output_type": "stream",
     "text": [
      "\n",
      "{'accuracy': 0.7871110355381737, 'roc_auc': 0.9358168270795556, 'pr_auc': 0.7953821437867628}\n"
     ]
    },
    {
     "data": {
      "text/html": [
       "<div>\n",
       "<style scoped>\n",
       "    .dataframe tbody tr th:only-of-type {\n",
       "        vertical-align: middle;\n",
       "    }\n",
       "\n",
       "    .dataframe tbody tr th {\n",
       "        vertical-align: top;\n",
       "    }\n",
       "\n",
       "    .dataframe thead th {\n",
       "        text-align: right;\n",
       "    }\n",
       "</style>\n",
       "<table border=\"1\" class=\"dataframe\">\n",
       "  <thead>\n",
       "    <tr style=\"text-align: right;\">\n",
       "      <th></th>\n",
       "      <th>0</th>\n",
       "      <th>1</th>\n",
       "      <th>micro avg</th>\n",
       "      <th>macro avg</th>\n",
       "      <th>weighted avg</th>\n",
       "    </tr>\n",
       "  </thead>\n",
       "  <tbody>\n",
       "    <tr>\n",
       "      <th>f1-score</th>\n",
       "      <td>0.860</td>\n",
       "      <td>0.557</td>\n",
       "      <td>0.787</td>\n",
       "      <td>0.709</td>\n",
       "      <td>0.816</td>\n",
       "    </tr>\n",
       "    <tr>\n",
       "      <th>precision</th>\n",
       "      <td>0.983</td>\n",
       "      <td>0.400</td>\n",
       "      <td>0.787</td>\n",
       "      <td>0.691</td>\n",
       "      <td>0.898</td>\n",
       "    </tr>\n",
       "    <tr>\n",
       "      <th>recall</th>\n",
       "      <td>0.764</td>\n",
       "      <td>0.921</td>\n",
       "      <td>0.787</td>\n",
       "      <td>0.842</td>\n",
       "      <td>0.787</td>\n",
       "    </tr>\n",
       "    <tr>\n",
       "      <th>support</th>\n",
       "      <td>5025.000</td>\n",
       "      <td>856.000</td>\n",
       "      <td>5881.000</td>\n",
       "      <td>5881.000</td>\n",
       "      <td>5881.000</td>\n",
       "    </tr>\n",
       "  </tbody>\n",
       "</table>\n",
       "</div>"
      ],
      "text/plain": [
       "                  0        1  micro avg  macro avg  weighted avg\n",
       "f1-score      0.860    0.557      0.787      0.709         0.816\n",
       "precision     0.983    0.400      0.787      0.691         0.898\n",
       "recall        0.764    0.921      0.787      0.842         0.787\n",
       "support    5025.000  856.000   5881.000   5881.000      5881.000"
      ]
     },
     "metadata": {},
     "output_type": "display_data"
    },
    {
     "data": {
      "application/vnd.jupyter.widget-view+json": {
       "model_id": "bfe7abcf16024d969e786a5a89a4df7d",
       "version_major": 2,
       "version_minor": 0
      },
      "text/plain": [
       "HBox(children=(IntProgress(value=0, max=230), HTML(value='')))"
      ]
     },
     "metadata": {},
     "output_type": "display_data"
    },
    {
     "name": "stdout",
     "output_type": "stream",
     "text": [
      "\n",
      "{'accuracy': 0.7915929805468643, 'roc_auc': 0.9429549252217695, 'pr_auc': 0.8164304971627441}\n"
     ]
    },
    {
     "data": {
      "text/html": [
       "<div>\n",
       "<style scoped>\n",
       "    .dataframe tbody tr th:only-of-type {\n",
       "        vertical-align: middle;\n",
       "    }\n",
       "\n",
       "    .dataframe tbody tr th {\n",
       "        vertical-align: top;\n",
       "    }\n",
       "\n",
       "    .dataframe thead th {\n",
       "        text-align: right;\n",
       "    }\n",
       "</style>\n",
       "<table border=\"1\" class=\"dataframe\">\n",
       "  <thead>\n",
       "    <tr style=\"text-align: right;\">\n",
       "      <th></th>\n",
       "      <th>0</th>\n",
       "      <th>1</th>\n",
       "      <th>micro avg</th>\n",
       "      <th>macro avg</th>\n",
       "      <th>weighted avg</th>\n",
       "    </tr>\n",
       "  </thead>\n",
       "  <tbody>\n",
       "    <tr>\n",
       "      <th>f1-score</th>\n",
       "      <td>0.862</td>\n",
       "      <td>0.577</td>\n",
       "      <td>0.792</td>\n",
       "      <td>0.719</td>\n",
       "      <td>0.818</td>\n",
       "    </tr>\n",
       "    <tr>\n",
       "      <th>precision</th>\n",
       "      <td>0.983</td>\n",
       "      <td>0.419</td>\n",
       "      <td>0.792</td>\n",
       "      <td>0.701</td>\n",
       "      <td>0.896</td>\n",
       "    </tr>\n",
       "    <tr>\n",
       "      <th>recall</th>\n",
       "      <td>0.767</td>\n",
       "      <td>0.926</td>\n",
       "      <td>0.792</td>\n",
       "      <td>0.846</td>\n",
       "      <td>0.792</td>\n",
       "    </tr>\n",
       "    <tr>\n",
       "      <th>support</th>\n",
       "      <td>6222.000</td>\n",
       "      <td>1129.000</td>\n",
       "      <td>7351.000</td>\n",
       "      <td>7351.000</td>\n",
       "      <td>7351.000</td>\n",
       "    </tr>\n",
       "  </tbody>\n",
       "</table>\n",
       "</div>"
      ],
      "text/plain": [
       "                  0         1  micro avg  macro avg  weighted avg\n",
       "f1-score      0.862     0.577      0.792      0.719         0.818\n",
       "precision     0.983     0.419      0.792      0.701         0.896\n",
       "recall        0.767     0.926      0.792      0.846         0.792\n",
       "support    6222.000  1129.000   7351.000   7351.000      7351.000"
      ]
     },
     "metadata": {},
     "output_type": "display_data"
    },
    {
     "name": "stderr",
     "output_type": "stream",
     "text": [
      "INFO - 2019-03-27 18:36:46,597 - instantiating class <class 'PatientVec.models.Model.Model'> from params {'type': 'seq_classifier_with_structured_attention', 'embedder': {'type': 'token_embedder', 'vocab_size': 29286, 'embed_size': 200, 'embedding_file': './preprocess/Mortality/embedding_matrix.npy'}, 'decoder': {'num_layers': 2, 'hidden_dims': [128, 1], 'activations': ['tanh', 'linear']}, 'predictor': {'type': 'binary'}, 'structured': {'use_structured': False}, 'encoder': {'type': 'lstm', 'hidden_size': 128}, 'attention': {'similarity': {'type': 'additive', 'hidden_size': 128, 'tensor_2_dim': 50}}} and extras {}\n",
      "INFO - 2019-03-27 18:36:46,597 - type = seq_classifier_with_structured_attention\n",
      "INFO - 2019-03-27 18:36:46,597 - instantiating class <class 'PatientVec.models.modules.Embedder.Embedder'> from params {'type': 'token_embedder', 'vocab_size': 29286, 'embed_size': 200, 'embedding_file': './preprocess/Mortality/embedding_matrix.npy'} and extras {}\n",
      "INFO - 2019-03-27 18:36:46,598 - embedder.type = token_embedder\n",
      "INFO - 2019-03-27 18:36:46,598 - instantiating class <class 'PatientVec.models.modules.Embedder.TokenEmbedder'> from params {'vocab_size': 29286, 'embed_size': 200, 'embedding_file': './preprocess/Mortality/embedding_matrix.npy'} and extras {}\n",
      "INFO - 2019-03-27 18:36:46,599 - embedder.vocab_size = 29286\n",
      "INFO - 2019-03-27 18:36:46,599 - embedder.embed_size = 200\n",
      "INFO - 2019-03-27 18:36:46,599 - embedder.embedding_file = ./preprocess/Mortality/embedding_matrix.npy\n",
      "INFO - 2019-03-27 18:36:46,614 - instantiating class <class 'PatientVec.models.modules.Encoder.Encoder'> from params {'type': 'lstm', 'hidden_size': 128} and extras {'input_size': 200}\n",
      "INFO - 2019-03-27 18:36:46,614 - encoder.type = lstm\n",
      "INFO - 2019-03-27 18:36:46,615 - instantiating class <class 'PatientVec.models.modules.Encoder.wrap_pytorch_rnn.<locals>.BiRNNEncoder'> from params {'hidden_size': 128} and extras {'input_size': 200}\n",
      "INFO - 2019-03-27 18:36:46,615 - encoder.hidden_size = 128\n",
      "INFO - 2019-03-27 18:36:46,617 - instantiating class <class 'PatientVec.models.modules.Attention.Attention'> from params {'similarity': {'type': 'additive', 'hidden_size': 128, 'tensor_2_dim': 50, 'tensor_1_dim': 256}} and extras {}\n",
      "INFO - 2019-03-27 18:36:46,617 - instantiating class <class 'PatientVec.models.modules.BiSimilarity.BiSimilarity'> from params {'type': 'additive', 'hidden_size': 128, 'tensor_2_dim': 50, 'tensor_1_dim': 256} and extras {}\n",
      "INFO - 2019-03-27 18:36:46,618 - attention.similarity.type = additive\n",
      "INFO - 2019-03-27 18:36:46,618 - instantiating class <class 'PatientVec.models.modules.BiSimilarity.BiAdditiveSimilarity'> from params {'hidden_size': 128, 'tensor_2_dim': 50, 'tensor_1_dim': 256} and extras {}\n",
      "INFO - 2019-03-27 18:36:46,618 - attention.similarity.tensor_1_dim = 256\n",
      "INFO - 2019-03-27 18:36:46,619 - attention.similarity.tensor_2_dim = 50\n",
      "INFO - 2019-03-27 18:36:46,619 - attention.similarity.hidden_size = 128\n",
      "INFO - 2019-03-27 18:36:46,621 - attention.normaliser = softmax\n",
      "INFO - 2019-03-27 18:36:46,621 - decoder.input_dim = 256\n",
      "INFO - 2019-03-27 18:36:46,621 - decoder.num_layers = 2\n",
      "INFO - 2019-03-27 18:36:46,621 - decoder.hidden_dims = [128, 1]\n",
      "INFO - 2019-03-27 18:36:46,622 - decoder.activations = ['tanh', 'linear']\n",
      "INFO - 2019-03-27 18:36:46,622 - decoder.dropout = 0.0\n",
      "INFO - 2019-03-27 18:36:46,623 - instantiating class <class 'PatientVec.models.modules.Predictor.Predictor'> from params {'type': 'binary'} and extras {}\n",
      "INFO - 2019-03-27 18:36:46,623 - predictor.type = binary\n",
      "INFO - 2019-03-27 18:36:46,624 - instantiating class <class 'PatientVec.models.modules.Predictor.Binary_Predictor'> from params {} and extras {}\n",
      "INFO - 2019-03-27 18:36:46,624 - predictor.replicate = False\n",
      "INFO - 2019-03-27 18:36:46,624 - predictor.alpha = 0.5\n",
      "INFO - 2019-03-27 18:36:46,634 - instantiating class <class 'PatientVec.models.Model.Model'> from params {'type': 'seq_classifier_with_structured_attention', 'embedder': {'type': 'token_embedder', 'vocab_size': 29286, 'embed_size': 200, 'embedding_file': '/scratch/jain.sar/PatientVec/preprocess/Mortality/embedding_matrix.npy'}, 'decoder': {'num_layers': 2, 'hidden_dims': [128, 1], 'activations': ['tanh', 'linear']}, 'predictor': {'type': 'binary'}, 'structured': {'use_structured': False}, 'encoder': {'type': 'lstm', 'hidden_size': 128}, 'attention': {'similarity': {'type': 'additive', 'hidden_size': 128, 'tensor_2_dim': 50}}} and extras {}\n",
      "INFO - 2019-03-27 18:36:46,634 - type = seq_classifier_with_structured_attention\n",
      "INFO - 2019-03-27 18:36:46,635 - instantiating class <class 'PatientVec.models.modules.Embedder.Embedder'> from params {'type': 'token_embedder', 'vocab_size': 29286, 'embed_size': 200, 'embedding_file': '/scratch/jain.sar/PatientVec/preprocess/Mortality/embedding_matrix.npy'} and extras {}\n",
      "INFO - 2019-03-27 18:36:46,635 - embedder.type = token_embedder\n",
      "INFO - 2019-03-27 18:36:46,635 - instantiating class <class 'PatientVec.models.modules.Embedder.TokenEmbedder'> from params {'vocab_size': 29286, 'embed_size': 200, 'embedding_file': '/scratch/jain.sar/PatientVec/preprocess/Mortality/embedding_matrix.npy'} and extras {}\n",
      "INFO - 2019-03-27 18:36:46,635 - embedder.vocab_size = 29286\n",
      "INFO - 2019-03-27 18:36:46,636 - embedder.embed_size = 200\n",
      "INFO - 2019-03-27 18:36:46,636 - embedder.embedding_file = /scratch/jain.sar/PatientVec/preprocess/Mortality/embedding_matrix.npy\n",
      "INFO - 2019-03-27 18:36:46,664 - instantiating class <class 'PatientVec.models.modules.Encoder.Encoder'> from params {'type': 'lstm', 'hidden_size': 128} and extras {'input_size': 200}\n",
      "INFO - 2019-03-27 18:36:46,664 - encoder.type = lstm\n",
      "INFO - 2019-03-27 18:36:46,665 - instantiating class <class 'PatientVec.models.modules.Encoder.wrap_pytorch_rnn.<locals>.BiRNNEncoder'> from params {'hidden_size': 128} and extras {'input_size': 200}\n",
      "INFO - 2019-03-27 18:36:46,665 - encoder.hidden_size = 128\n",
      "INFO - 2019-03-27 18:36:46,668 - instantiating class <class 'PatientVec.models.modules.Attention.Attention'> from params {'similarity': {'type': 'additive', 'hidden_size': 128, 'tensor_2_dim': 50, 'tensor_1_dim': 256}} and extras {}\n",
      "INFO - 2019-03-27 18:36:46,668 - instantiating class <class 'PatientVec.models.modules.BiSimilarity.BiSimilarity'> from params {'type': 'additive', 'hidden_size': 128, 'tensor_2_dim': 50, 'tensor_1_dim': 256} and extras {}\n",
      "INFO - 2019-03-27 18:36:46,668 - attention.similarity.type = additive\n",
      "INFO - 2019-03-27 18:36:46,668 - instantiating class <class 'PatientVec.models.modules.BiSimilarity.BiAdditiveSimilarity'> from params {'hidden_size': 128, 'tensor_2_dim': 50, 'tensor_1_dim': 256} and extras {}\n",
      "INFO - 2019-03-27 18:36:46,669 - attention.similarity.tensor_1_dim = 256\n",
      "INFO - 2019-03-27 18:36:46,669 - attention.similarity.tensor_2_dim = 50\n",
      "INFO - 2019-03-27 18:36:46,669 - attention.similarity.hidden_size = 128\n",
      "INFO - 2019-03-27 18:36:46,671 - attention.normaliser = softmax\n",
      "INFO - 2019-03-27 18:36:46,671 - decoder.input_dim = 256\n",
      "INFO - 2019-03-27 18:36:46,671 - decoder.num_layers = 2\n",
      "INFO - 2019-03-27 18:36:46,671 - decoder.hidden_dims = [128, 1]\n",
      "INFO - 2019-03-27 18:36:46,672 - decoder.activations = ['tanh', 'linear']\n",
      "INFO - 2019-03-27 18:36:46,672 - decoder.dropout = 0.0\n",
      "INFO - 2019-03-27 18:36:46,673 - instantiating class <class 'PatientVec.models.modules.Predictor.Predictor'> from params {'type': 'binary'} and extras {}\n",
      "INFO - 2019-03-27 18:36:46,674 - predictor.type = binary\n",
      "INFO - 2019-03-27 18:36:46,674 - instantiating class <class 'PatientVec.models.modules.Predictor.Binary_Predictor'> from params {} and extras {}\n",
      "INFO - 2019-03-27 18:36:46,674 - predictor.replicate = False\n",
      "INFO - 2019-03-27 18:36:46,675 - predictor.alpha = 0.5\n"
     ]
    },
    {
     "name": "stdout",
     "output_type": "stream",
     "text": [
      "============================================================================================================================================================================================================================================================================================================\n",
      "{'model': {'type': 'seq_classifier_with_structured_attention', 'embedder': {'type': 'token_embedder', 'vocab_size': 29286, 'embed_size': 200, 'embedding_file': './preprocess/Mortality/embedding_matrix.npy'}, 'decoder': {'num_layers': 2, 'hidden_dims': [128, 1], 'activations': ['tanh', 'linear']}, 'predictor': {'type': 'binary'}, 'structured': {'use_structured': False}, 'encoder': {'type': 'lstm', 'hidden_size': 128}, 'attention': {'similarity': {'type': 'additive', 'hidden_size': 128, 'tensor_2_dim': 50}}}, 'training_config': {'type': 'Adam', 'groups': [('.*', {'lr': 0.001, 'weight_decay': 1e-05})], 'common': {'bsize': 32, 'class_weight': True}}, 'exp_config': {'exp_name': 'Mortality_30day/Structured Attention/LSTM(hs=128)+Attention(additive)(all)(hs=128)', 'basepath': 'outputs/'}}\n",
      "Setting Embedding\n",
      "Error, Embedding file given but doesn't exists ... /scratch/jain.sar/PatientVec/preprocess/Mortality/embedding_matrix.npy\n"
     ]
    },
    {
     "data": {
      "application/vnd.jupyter.widget-view+json": {
       "model_id": "deeb887a97b643f9a536d7af57a8ad6c",
       "version_major": 2,
       "version_minor": 0
      },
      "text/plain": [
       "HBox(children=(IntProgress(value=0, max=184), HTML(value='')))"
      ]
     },
     "metadata": {},
     "output_type": "display_data"
    },
    {
     "name": "stdout",
     "output_type": "stream",
     "text": [
      "\n",
      "{'accuracy': 0.8797823499404863, 'roc_auc': 0.938899428093179, 'pr_auc': 0.8043218365052551}\n"
     ]
    },
    {
     "data": {
      "text/html": [
       "<div>\n",
       "<style scoped>\n",
       "    .dataframe tbody tr th:only-of-type {\n",
       "        vertical-align: middle;\n",
       "    }\n",
       "\n",
       "    .dataframe tbody tr th {\n",
       "        vertical-align: top;\n",
       "    }\n",
       "\n",
       "    .dataframe thead th {\n",
       "        text-align: right;\n",
       "    }\n",
       "</style>\n",
       "<table border=\"1\" class=\"dataframe\">\n",
       "  <thead>\n",
       "    <tr style=\"text-align: right;\">\n",
       "      <th></th>\n",
       "      <th>0</th>\n",
       "      <th>1</th>\n",
       "      <th>micro avg</th>\n",
       "      <th>macro avg</th>\n",
       "      <th>weighted avg</th>\n",
       "    </tr>\n",
       "  </thead>\n",
       "  <tbody>\n",
       "    <tr>\n",
       "      <th>f1-score</th>\n",
       "      <td>0.926</td>\n",
       "      <td>0.672</td>\n",
       "      <td>0.88</td>\n",
       "      <td>0.799</td>\n",
       "      <td>0.889</td>\n",
       "    </tr>\n",
       "    <tr>\n",
       "      <th>precision</th>\n",
       "      <td>0.971</td>\n",
       "      <td>0.557</td>\n",
       "      <td>0.88</td>\n",
       "      <td>0.764</td>\n",
       "      <td>0.911</td>\n",
       "    </tr>\n",
       "    <tr>\n",
       "      <th>recall</th>\n",
       "      <td>0.886</td>\n",
       "      <td>0.846</td>\n",
       "      <td>0.88</td>\n",
       "      <td>0.866</td>\n",
       "      <td>0.880</td>\n",
       "    </tr>\n",
       "    <tr>\n",
       "      <th>support</th>\n",
       "      <td>5025.000</td>\n",
       "      <td>856.000</td>\n",
       "      <td>5881.00</td>\n",
       "      <td>5881.000</td>\n",
       "      <td>5881.000</td>\n",
       "    </tr>\n",
       "  </tbody>\n",
       "</table>\n",
       "</div>"
      ],
      "text/plain": [
       "                  0        1  micro avg  macro avg  weighted avg\n",
       "f1-score      0.926    0.672       0.88      0.799         0.889\n",
       "precision     0.971    0.557       0.88      0.764         0.911\n",
       "recall        0.886    0.846       0.88      0.866         0.880\n",
       "support    5025.000  856.000    5881.00   5881.000      5881.000"
      ]
     },
     "metadata": {},
     "output_type": "display_data"
    },
    {
     "data": {
      "application/vnd.jupyter.widget-view+json": {
       "model_id": "9c6e8a5ee86a4e7ab1db98dd0aeafc7e",
       "version_major": 2,
       "version_minor": 0
      },
      "text/plain": [
       "HBox(children=(IntProgress(value=0, max=230), HTML(value='')))"
      ]
     },
     "metadata": {},
     "output_type": "display_data"
    }
   ],
   "source": [
    "for dataset in ['mortality_1yr', 'mortality_30day', 'diagnosis'] :\n",
    "    %run \"Discovery Experiments\"/run_models.py --dataset {dataset} --exp_types vanilla attention basic_sru structured structured_sru \\\n",
    "        --data_dir='.' --output_dir='outputs/' --display --do_test --structured\n",
    "    %run \"Discovery Experiments\"/run_models.py --dataset {dataset} --exp_types vanilla attention basic_sru structured structured_sru \\\n",
    "        --data_dir='.' --output_dir='outputs/' --display --do_test\n",
    "    %run \"Discovery Experiments\"/run_models.py --dataset {dataset} --exp_types hierarchical \\\n",
    "        --data_dir='.' --output_dir='outputs/' --display --do_test --structured\n",
    "    %run \"Discovery Experiments\"/run_models.py --dataset {dataset} --exp_types hierarchical \\\n",
    "        --data_dir='.' --output_dir='outputs/' --display --do_test"
   ]
  },
  {
   "cell_type": "code",
   "execution_count": null,
   "metadata": {},
   "outputs": [],
   "source": [
    "for dataset in ['hip_1yr', 'knee_1yr'] :\n",
    "    %run \"Discovery Experiments\"/run_models.py --dataset {dataset} --exp_types vanilla attention basic_sru \\\n",
    "        --data_dir='../../SurgeryData/PatientVec' --output_dir='outputs/' --display --do_test\n",
    "    %run \"Discovery Experiments\"/run_models.py --dataset {dataset} --exp_types hierarchical \\\n",
    "        --data_dir='../../SurgeryData/PatientVec' --output_dir='outputs/' --display --do_test"
   ]
  },
  {
   "cell_type": "code",
   "execution_count": null,
   "metadata": {},
   "outputs": [],
   "source": []
  }
 ],
 "metadata": {
  "kernelspec": {
   "display_name": "Python 3",
   "language": "python",
   "name": "python3"
  },
  "language_info": {
   "codemirror_mode": {
    "name": "ipython",
    "version": 3
   },
   "file_extension": ".py",
   "mimetype": "text/x-python",
   "name": "python",
   "nbconvert_exporter": "python",
   "pygments_lexer": "ipython3",
   "version": "3.6.7"
  }
 },
 "nbformat": 4,
 "nbformat_minor": 2
}
