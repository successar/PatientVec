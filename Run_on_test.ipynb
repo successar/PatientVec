{
 "cells": [
  {
   "cell_type": "code",
   "execution_count": null,
   "metadata": {},
   "outputs": [
    {
     "name": "stderr",
     "output_type": "stream",
     "text": [
      "INFO - 2019-03-27 19:18:49,691 - Reading Structured data ...\n",
      "INFO - 2019-03-27 19:18:51,168 - Reading Notes ...\n",
      "INFO - 2019-03-27 19:19:13,327 - Stratifying ...\n"
     ]
    },
    {
     "name": "stdout",
     "output_type": "stream",
     "text": [
      "Pos Percentage [0.19738451]\n"
     ]
    },
    {
     "name": "stderr",
     "output_type": "stream",
     "text": [
      "INFO - 2019-03-27 19:19:17,860 - Maximum Sentence Length 721825.000000 , 90 percentile length 18689.000000 ... \n",
      "INFO - 2019-03-27 19:19:27,248 - Truncated all ...\n",
      "INFO - 2019-03-27 19:19:27,296 - Idxs removed [1249]...\n"
     ]
    },
    {
     "name": "stdout",
     "output_type": "stream",
     "text": [
      "Pos Percentage [0.20937082]\n"
     ]
    },
    {
     "name": "stderr",
     "output_type": "stream",
     "text": [
      "INFO - 2019-03-27 19:19:28,637 - Maximum Sentence Length 588265.000000 , 90 percentile length 19174.000000 ... \n",
      "INFO - 2019-03-27 19:19:33,026 - Truncated all ...\n",
      "INFO - 2019-03-27 19:19:33,039 - Idxs removed []...\n"
     ]
    },
    {
     "name": "stdout",
     "output_type": "stream",
     "text": [
      "Pos Percentage [0.19429882]\n"
     ]
    },
    {
     "name": "stderr",
     "output_type": "stream",
     "text": [
      "INFO - 2019-03-27 19:19:34,509 - Maximum Sentence Length 496156.000000 , 90 percentile length 18936.000000 ... \n",
      "INFO - 2019-03-27 19:19:36,807 - Truncated all ...\n",
      "INFO - 2019-03-27 19:19:36,822 - Idxs removed []...\n",
      "INFO - 2019-03-27 19:19:36,899 - instantiating class <class 'PatientVec.models.Model.Model'> from params {'type': 'seq_classifier', 'embedder': {'type': 'token_embedder', 'vocab_size': 32246, 'embed_size': 200, 'embedding_file': './preprocess/Readmission/embedding_matrix.npy'}, 'decoder': {'num_layers': 2, 'hidden_dims': [128, 1], 'activations': ['tanh', 'linear']}, 'predictor': {'type': 'binary'}, 'structured': {'use_structured': True, 'structured_dim': 142}, 'encoder': {'type': 'average', 'projection': True, 'hidden_size': 256, 'activation': 'relu'}} and extras {}\n",
      "INFO - 2019-03-27 19:19:36,899 - type = seq_classifier\n",
      "INFO - 2019-03-27 19:19:36,899 - instantiating class <class 'PatientVec.models.modules.Embedder.Embedder'> from params {'type': 'token_embedder', 'vocab_size': 32246, 'embed_size': 200, 'embedding_file': './preprocess/Readmission/embedding_matrix.npy'} and extras {}\n",
      "INFO - 2019-03-27 19:19:36,900 - embedder.type = token_embedder\n",
      "INFO - 2019-03-27 19:19:36,900 - instantiating class <class 'PatientVec.models.modules.Embedder.TokenEmbedder'> from params {'vocab_size': 32246, 'embed_size': 200, 'embedding_file': './preprocess/Readmission/embedding_matrix.npy'} and extras {}\n",
      "INFO - 2019-03-27 19:19:36,901 - embedder.vocab_size = 32246\n",
      "INFO - 2019-03-27 19:19:36,901 - embedder.embed_size = 200\n",
      "INFO - 2019-03-27 19:19:36,901 - embedder.embedding_file = ./preprocess/Readmission/embedding_matrix.npy\n",
      "INFO - 2019-03-27 19:19:36,917 - instantiating class <class 'PatientVec.models.modules.Encoder.Encoder'> from params {'type': 'average', 'projection': True, 'hidden_size': 256, 'activation': 'relu'} and extras {'input_size': 200}\n",
      "INFO - 2019-03-27 19:19:36,918 - encoder.type = average\n",
      "INFO - 2019-03-27 19:19:36,918 - instantiating class <class 'PatientVec.models.modules.Encoder.AverageEncoder'> from params {'projection': True, 'hidden_size': 256, 'activation': 'relu'} and extras {'input_size': 200}\n",
      "INFO - 2019-03-27 19:19:36,919 - encoder.projection = True\n",
      "INFO - 2019-03-27 19:19:36,919 - encoder.hidden_size = 256\n",
      "INFO - 2019-03-27 19:19:36,919 - encoder.activation = relu\n",
      "INFO - 2019-03-27 19:19:36,921 - decoder.input_dim = 398\n",
      "INFO - 2019-03-27 19:19:36,921 - decoder.num_layers = 2\n",
      "INFO - 2019-03-27 19:19:36,921 - decoder.hidden_dims = [128, 1]\n",
      "INFO - 2019-03-27 19:19:36,922 - decoder.activations = ['tanh', 'linear']\n",
      "INFO - 2019-03-27 19:19:36,922 - decoder.dropout = 0.0\n",
      "INFO - 2019-03-27 19:19:36,923 - instantiating class <class 'PatientVec.models.modules.Predictor.Predictor'> from params {'type': 'binary'} and extras {}\n",
      "INFO - 2019-03-27 19:19:36,924 - predictor.type = binary\n",
      "INFO - 2019-03-27 19:19:36,924 - instantiating class <class 'PatientVec.models.modules.Predictor.Binary_Predictor'> from params {} and extras {}\n",
      "INFO - 2019-03-27 19:19:36,924 - predictor.replicate = False\n",
      "INFO - 2019-03-27 19:19:36,925 - predictor.alpha = 0.5\n",
      "INFO - 2019-03-27 19:19:36,946 - instantiating class <class 'PatientVec.models.Model.Model'> from params {'type': 'seq_classifier', 'embedder': {'type': 'token_embedder', 'vocab_size': 32246, 'embed_size': 200, 'embedding_file': './preprocess/Readmission/embedding_matrix.npy'}, 'decoder': {'num_layers': 2, 'hidden_dims': [128, 1], 'activations': ['tanh', 'linear']}, 'predictor': {'type': 'binary'}, 'structured': {'use_structured': True, 'structured_dim': 142}, 'encoder': {'type': 'lstm', 'hidden_size': 128}} and extras {}\n",
      "INFO - 2019-03-27 19:19:36,947 - type = seq_classifier\n",
      "INFO - 2019-03-27 19:19:36,947 - instantiating class <class 'PatientVec.models.modules.Embedder.Embedder'> from params {'type': 'token_embedder', 'vocab_size': 32246, 'embed_size': 200, 'embedding_file': './preprocess/Readmission/embedding_matrix.npy'} and extras {}\n",
      "INFO - 2019-03-27 19:19:36,947 - embedder.type = token_embedder\n",
      "INFO - 2019-03-27 19:19:36,948 - instantiating class <class 'PatientVec.models.modules.Embedder.TokenEmbedder'> from params {'vocab_size': 32246, 'embed_size': 200, 'embedding_file': './preprocess/Readmission/embedding_matrix.npy'} and extras {}\n",
      "INFO - 2019-03-27 19:19:36,948 - embedder.vocab_size = 32246\n",
      "INFO - 2019-03-27 19:19:36,949 - embedder.embed_size = 200\n",
      "INFO - 2019-03-27 19:19:36,949 - embedder.embedding_file = ./preprocess/Readmission/embedding_matrix.npy\n",
      "INFO - 2019-03-27 19:19:36,964 - instantiating class <class 'PatientVec.models.modules.Encoder.Encoder'> from params {'type': 'lstm', 'hidden_size': 128} and extras {'input_size': 200}\n",
      "INFO - 2019-03-27 19:19:36,964 - encoder.type = lstm\n",
      "INFO - 2019-03-27 19:19:36,964 - instantiating class <class 'PatientVec.models.modules.Encoder.wrap_pytorch_rnn.<locals>.BiRNNEncoder'> from params {'hidden_size': 128} and extras {'input_size': 200}\n",
      "INFO - 2019-03-27 19:19:36,965 - encoder.hidden_size = 128\n",
      "INFO - 2019-03-27 19:19:36,967 - decoder.input_dim = 398\n",
      "INFO - 2019-03-27 19:19:36,967 - decoder.num_layers = 2\n",
      "INFO - 2019-03-27 19:19:36,968 - decoder.hidden_dims = [128, 1]\n",
      "INFO - 2019-03-27 19:19:36,968 - decoder.activations = ['tanh', 'linear']\n",
      "INFO - 2019-03-27 19:19:36,968 - decoder.dropout = 0.0\n",
      "INFO - 2019-03-27 19:19:36,969 - instantiating class <class 'PatientVec.models.modules.Predictor.Predictor'> from params {'type': 'binary'} and extras {}\n",
      "INFO - 2019-03-27 19:19:36,970 - predictor.type = binary\n",
      "INFO - 2019-03-27 19:19:36,970 - instantiating class <class 'PatientVec.models.modules.Predictor.Binary_Predictor'> from params {} and extras {}\n",
      "INFO - 2019-03-27 19:19:36,970 - predictor.replicate = False\n",
      "INFO - 2019-03-27 19:19:36,971 - predictor.alpha = 0.5\n",
      "INFO - 2019-03-27 19:19:36,987 - instantiating class <class 'PatientVec.models.Model.Model'> from params {'type': 'seq_classifier', 'embedder': {'type': 'token_embedder', 'vocab_size': 32246, 'embed_size': 200, 'embedding_file': './preprocess/Readmission/embedding_matrix.npy'}, 'decoder': {'num_layers': 2, 'hidden_dims': [128, 1], 'activations': ['tanh', 'linear']}, 'predictor': {'type': 'binary'}, 'structured': {'use_structured': True, 'structured_dim': 142}, 'encoder': {'type': 'cnn', 'hidden_size': 64, 'kernel_sizes': [3, 5, 7, 9], 'activation': 'relu'}} and extras {}\n",
      "INFO - 2019-03-27 19:19:36,988 - type = seq_classifier\n",
      "INFO - 2019-03-27 19:19:36,988 - instantiating class <class 'PatientVec.models.modules.Embedder.Embedder'> from params {'type': 'token_embedder', 'vocab_size': 32246, 'embed_size': 200, 'embedding_file': './preprocess/Readmission/embedding_matrix.npy'} and extras {}\n",
      "INFO - 2019-03-27 19:19:36,988 - embedder.type = token_embedder\n",
      "INFO - 2019-03-27 19:19:36,988 - instantiating class <class 'PatientVec.models.modules.Embedder.TokenEmbedder'> from params {'vocab_size': 32246, 'embed_size': 200, 'embedding_file': './preprocess/Readmission/embedding_matrix.npy'} and extras {}\n",
      "INFO - 2019-03-27 19:19:36,989 - embedder.vocab_size = 32246\n",
      "INFO - 2019-03-27 19:19:36,989 - embedder.embed_size = 200\n",
      "INFO - 2019-03-27 19:19:36,989 - embedder.embedding_file = ./preprocess/Readmission/embedding_matrix.npy\n",
      "INFO - 2019-03-27 19:19:37,004 - instantiating class <class 'PatientVec.models.modules.Encoder.Encoder'> from params {'type': 'cnn', 'hidden_size': 64, 'kernel_sizes': [3, 5, 7, 9], 'activation': 'relu'} and extras {'input_size': 200}\n",
      "INFO - 2019-03-27 19:19:37,004 - encoder.type = cnn\n",
      "INFO - 2019-03-27 19:19:37,005 - instantiating class <class 'PatientVec.models.modules.Encoder.CNNEncoder'> from params {'hidden_size': 64, 'kernel_sizes': [3, 5, 7, 9], 'activation': 'relu'} and extras {'input_size': 200}\n",
      "INFO - 2019-03-27 19:19:37,005 - encoder.hidden_size = 64\n",
      "INFO - 2019-03-27 19:19:37,005 - encoder.kernel_sizes = [3, 5, 7, 9]\n",
      "INFO - 2019-03-27 19:19:37,005 - encoder.activation = relu\n",
      "INFO - 2019-03-27 19:19:37,009 - decoder.input_dim = 398\n",
      "INFO - 2019-03-27 19:19:37,009 - decoder.num_layers = 2\n",
      "INFO - 2019-03-27 19:19:37,009 - decoder.hidden_dims = [128, 1]\n",
      "INFO - 2019-03-27 19:19:37,009 - decoder.activations = ['tanh', 'linear']\n",
      "INFO - 2019-03-27 19:19:37,010 - decoder.dropout = 0.0\n",
      "INFO - 2019-03-27 19:19:37,011 - instantiating class <class 'PatientVec.models.modules.Predictor.Predictor'> from params {'type': 'binary'} and extras {}\n",
      "INFO - 2019-03-27 19:19:37,011 - predictor.type = binary\n",
      "INFO - 2019-03-27 19:19:37,011 - instantiating class <class 'PatientVec.models.modules.Predictor.Binary_Predictor'> from params {} and extras {}\n",
      "INFO - 2019-03-27 19:19:37,012 - predictor.replicate = False\n",
      "INFO - 2019-03-27 19:19:37,012 - predictor.alpha = 0.5\n"
     ]
    },
    {
     "name": "stdout",
     "output_type": "stream",
     "text": [
      "{'model': {'type': 'seq_classifier', 'embedder': {'type': 'token_embedder', 'vocab_size': 32246, 'embed_size': 200, 'embedding_file': './preprocess/Readmission/embedding_matrix.npy'}, 'decoder': {'num_layers': 2, 'hidden_dims': [128, 1], 'activations': ['tanh', 'linear']}, 'predictor': {'type': 'binary'}, 'structured': {'use_structured': True, 'structured_dim': 142}, 'encoder': {'type': 'average', 'projection': True, 'hidden_size': 256, 'activation': 'relu'}}, 'training_config': {'type': 'Adam', 'groups': [('.*', {'lr': 0.001, 'weight_decay': 1e-05})], 'common': {'bsize': 16, 'class_weight': True}}, 'exp_config': {'exp_name': 'Readmission/Basic/Average(hs=256)+Structured', 'basepath': 'outputs/'}}\n",
      "Setting Embedding\n",
      "{'model': {'type': 'seq_classifier', 'embedder': {'type': 'token_embedder', 'vocab_size': 32246, 'embed_size': 200, 'embedding_file': './preprocess/Readmission/embedding_matrix.npy'}, 'decoder': {'num_layers': 2, 'hidden_dims': [128, 1], 'activations': ['tanh', 'linear']}, 'predictor': {'type': 'binary'}, 'structured': {'use_structured': True, 'structured_dim': 142}, 'encoder': {'type': 'lstm', 'hidden_size': 128}}, 'training_config': {'type': 'Adam', 'groups': [('.*', {'lr': 0.001, 'weight_decay': 1e-05})], 'common': {'bsize': 16, 'class_weight': True}}, 'exp_config': {'exp_name': 'Readmission/Basic/LSTM(hs=128)+Structured', 'basepath': 'outputs/'}}\n",
      "Setting Embedding\n",
      "{'model': {'type': 'seq_classifier', 'embedder': {'type': 'token_embedder', 'vocab_size': 32246, 'embed_size': 200, 'embedding_file': './preprocess/Readmission/embedding_matrix.npy'}, 'decoder': {'num_layers': 2, 'hidden_dims': [128, 1], 'activations': ['tanh', 'linear']}, 'predictor': {'type': 'binary'}, 'structured': {'use_structured': True, 'structured_dim': 142}, 'encoder': {'type': 'cnn', 'hidden_size': 64, 'kernel_sizes': [3, 5, 7, 9], 'activation': 'relu'}}, 'training_config': {'type': 'Adam', 'groups': [('.*', {'lr': 0.001, 'weight_decay': 1e-05})], 'common': {'bsize': 16, 'class_weight': True}}, 'exp_config': {'exp_name': 'Readmission/Basic/CNN(hs=64)(kernels=3,5,7,9)+Structured', 'basepath': 'outputs/'}}\n",
      "Setting Embedding\n",
      "Pos Percentage [0.19738451]\n"
     ]
    },
    {
     "name": "stderr",
     "output_type": "stream",
     "text": [
      "INFO - 2019-03-27 19:19:41,825 - Maximum Sentence Length 721825.000000 , 90 percentile length 18689.000000 ... \n",
      "INFO - 2019-03-27 19:19:51,308 - Truncated all ...\n",
      "INFO - 2019-03-27 19:19:51,356 - Idxs removed [1249]...\n"
     ]
    },
    {
     "name": "stdout",
     "output_type": "stream",
     "text": [
      "Pos Percentage [0.20937082]\n"
     ]
    },
    {
     "name": "stderr",
     "output_type": "stream",
     "text": [
      "INFO - 2019-03-27 19:19:52,704 - Maximum Sentence Length 588265.000000 , 90 percentile length 19174.000000 ... \n",
      "INFO - 2019-03-27 19:19:54,635 - Truncated all ...\n",
      "INFO - 2019-03-27 19:19:54,649 - Idxs removed []...\n"
     ]
    },
    {
     "name": "stdout",
     "output_type": "stream",
     "text": [
      "Pos Percentage [0.19429882]\n"
     ]
    },
    {
     "name": "stderr",
     "output_type": "stream",
     "text": [
      "INFO - 2019-03-27 19:19:56,119 - Maximum Sentence Length 496156.000000 , 90 percentile length 18936.000000 ... \n",
      "INFO - 2019-03-27 19:19:58,417 - Truncated all ...\n",
      "INFO - 2019-03-27 19:19:58,432 - Idxs removed []...\n",
      "INFO - 2019-03-27 19:19:58,507 - instantiating class <class 'PatientVec.models.Model.Model'> from params {'type': 'seq_classifier_with_attention', 'embedder': {'type': 'token_embedder', 'vocab_size': 32246, 'embed_size': 200, 'embedding_file': './preprocess/Readmission/embedding_matrix.npy'}, 'decoder': {'num_layers': 2, 'hidden_dims': [128, 1], 'activations': ['tanh', 'linear']}, 'predictor': {'type': 'binary'}, 'structured': {'use_structured': True, 'structured_dim': 142}, 'encoder': {'type': 'average', 'projection': True, 'hidden_size': 256, 'activation': 'relu'}, 'attention': {'similarity': {'type': 'additive', 'hidden_size': 128}}} and extras {}\n",
      "INFO - 2019-03-27 19:19:58,508 - type = seq_classifier_with_attention\n",
      "INFO - 2019-03-27 19:19:58,508 - instantiating class <class 'PatientVec.models.modules.Embedder.Embedder'> from params {'type': 'token_embedder', 'vocab_size': 32246, 'embed_size': 200, 'embedding_file': './preprocess/Readmission/embedding_matrix.npy'} and extras {}\n",
      "INFO - 2019-03-27 19:19:58,508 - embedder.type = token_embedder\n",
      "INFO - 2019-03-27 19:19:58,509 - instantiating class <class 'PatientVec.models.modules.Embedder.TokenEmbedder'> from params {'vocab_size': 32246, 'embed_size': 200, 'embedding_file': './preprocess/Readmission/embedding_matrix.npy'} and extras {}\n",
      "INFO - 2019-03-27 19:19:58,509 - embedder.vocab_size = 32246\n",
      "INFO - 2019-03-27 19:19:58,509 - embedder.embed_size = 200\n",
      "INFO - 2019-03-27 19:19:58,510 - embedder.embedding_file = ./preprocess/Readmission/embedding_matrix.npy\n",
      "INFO - 2019-03-27 19:19:58,525 - instantiating class <class 'PatientVec.models.modules.Encoder.Encoder'> from params {'type': 'average', 'projection': True, 'hidden_size': 256, 'activation': 'relu'} and extras {'input_size': 200}\n",
      "INFO - 2019-03-27 19:19:58,526 - encoder.type = average\n",
      "INFO - 2019-03-27 19:19:58,526 - instantiating class <class 'PatientVec.models.modules.Encoder.AverageEncoder'> from params {'projection': True, 'hidden_size': 256, 'activation': 'relu'} and extras {'input_size': 200}\n",
      "INFO - 2019-03-27 19:19:58,526 - encoder.projection = True\n",
      "INFO - 2019-03-27 19:19:58,527 - encoder.hidden_size = 256\n",
      "INFO - 2019-03-27 19:19:58,527 - encoder.activation = relu\n",
      "INFO - 2019-03-27 19:19:58,529 - instantiating class <class 'PatientVec.models.modules.SelfAttention.SelfAttention'> from params {'similarity': {'type': 'additive', 'hidden_size': 128, 'tensor_1_dim': 256}} and extras {}\n",
      "INFO - 2019-03-27 19:19:58,529 - instantiating class <class 'PatientVec.models.modules.UniSimilarity.UniSimilarity'> from params {'type': 'additive', 'hidden_size': 128, 'tensor_1_dim': 256} and extras {}\n",
      "INFO - 2019-03-27 19:19:58,529 - attention.similarity.type = additive\n",
      "INFO - 2019-03-27 19:19:58,530 - instantiating class <class 'PatientVec.models.modules.UniSimilarity.UniAdditiveSimilarity'> from params {'hidden_size': 128, 'tensor_1_dim': 256} and extras {}\n",
      "INFO - 2019-03-27 19:19:58,530 - attention.similarity.tensor_1_dim = 256\n",
      "INFO - 2019-03-27 19:19:58,530 - attention.similarity.hidden_size = 128\n",
      "INFO - 2019-03-27 19:19:58,531 - attention.similarity.output_size = 1\n",
      "INFO - 2019-03-27 19:19:58,532 - attention.normaliser = softmax\n",
      "INFO - 2019-03-27 19:19:58,533 - decoder.input_dim = 398\n",
      "INFO - 2019-03-27 19:19:58,533 - decoder.num_layers = 2\n",
      "INFO - 2019-03-27 19:19:58,533 - decoder.hidden_dims = [128, 1]\n",
      "INFO - 2019-03-27 19:19:58,534 - decoder.activations = ['tanh', 'linear']\n",
      "INFO - 2019-03-27 19:19:58,534 - decoder.dropout = 0.0\n",
      "INFO - 2019-03-27 19:19:58,536 - instantiating class <class 'PatientVec.models.modules.Predictor.Predictor'> from params {'type': 'binary'} and extras {}\n",
      "INFO - 2019-03-27 19:19:58,536 - predictor.type = binary\n",
      "INFO - 2019-03-27 19:19:58,536 - instantiating class <class 'PatientVec.models.modules.Predictor.Binary_Predictor'> from params {} and extras {}\n",
      "INFO - 2019-03-27 19:19:58,536 - predictor.replicate = False\n",
      "INFO - 2019-03-27 19:19:58,537 - predictor.alpha = 0.5\n",
      "INFO - 2019-03-27 19:19:58,562 - instantiating class <class 'PatientVec.models.Model.Model'> from params {'type': 'seq_classifier_with_attention', 'embedder': {'type': 'token_embedder', 'vocab_size': 32246, 'embed_size': 200, 'embedding_file': './preprocess/Readmission/embedding_matrix.npy'}, 'decoder': {'num_layers': 2, 'hidden_dims': [128, 1], 'activations': ['tanh', 'linear']}, 'predictor': {'type': 'binary'}, 'structured': {'use_structured': True, 'structured_dim': 142}, 'encoder': {'type': 'lstm', 'hidden_size': 128}, 'attention': {'similarity': {'type': 'additive', 'hidden_size': 128}}} and extras {}\n",
      "INFO - 2019-03-27 19:19:58,563 - type = seq_classifier_with_attention\n",
      "INFO - 2019-03-27 19:19:58,563 - instantiating class <class 'PatientVec.models.modules.Embedder.Embedder'> from params {'type': 'token_embedder', 'vocab_size': 32246, 'embed_size': 200, 'embedding_file': './preprocess/Readmission/embedding_matrix.npy'} and extras {}\n",
      "INFO - 2019-03-27 19:19:58,563 - embedder.type = token_embedder\n",
      "INFO - 2019-03-27 19:19:58,564 - instantiating class <class 'PatientVec.models.modules.Embedder.TokenEmbedder'> from params {'vocab_size': 32246, 'embed_size': 200, 'embedding_file': './preprocess/Readmission/embedding_matrix.npy'} and extras {}\n",
      "INFO - 2019-03-27 19:19:58,564 - embedder.vocab_size = 32246\n",
      "INFO - 2019-03-27 19:19:58,564 - embedder.embed_size = 200\n",
      "INFO - 2019-03-27 19:19:58,564 - embedder.embedding_file = ./preprocess/Readmission/embedding_matrix.npy\n",
      "INFO - 2019-03-27 19:19:58,579 - instantiating class <class 'PatientVec.models.modules.Encoder.Encoder'> from params {'type': 'lstm', 'hidden_size': 128} and extras {'input_size': 200}\n",
      "INFO - 2019-03-27 19:19:58,580 - encoder.type = lstm\n",
      "INFO - 2019-03-27 19:19:58,580 - instantiating class <class 'PatientVec.models.modules.Encoder.wrap_pytorch_rnn.<locals>.BiRNNEncoder'> from params {'hidden_size': 128} and extras {'input_size': 200}\n",
      "INFO - 2019-03-27 19:19:58,581 - encoder.hidden_size = 128\n",
      "INFO - 2019-03-27 19:19:58,583 - instantiating class <class 'PatientVec.models.modules.SelfAttention.SelfAttention'> from params {'similarity': {'type': 'additive', 'hidden_size': 128, 'tensor_1_dim': 256}} and extras {}\n",
      "INFO - 2019-03-27 19:19:58,584 - instantiating class <class 'PatientVec.models.modules.UniSimilarity.UniSimilarity'> from params {'type': 'additive', 'hidden_size': 128, 'tensor_1_dim': 256} and extras {}\n",
      "INFO - 2019-03-27 19:19:58,584 - attention.similarity.type = additive\n",
      "INFO - 2019-03-27 19:19:58,584 - instantiating class <class 'PatientVec.models.modules.UniSimilarity.UniAdditiveSimilarity'> from params {'hidden_size': 128, 'tensor_1_dim': 256} and extras {}\n",
      "INFO - 2019-03-27 19:19:58,584 - attention.similarity.tensor_1_dim = 256\n",
      "INFO - 2019-03-27 19:19:58,585 - attention.similarity.hidden_size = 128\n",
      "INFO - 2019-03-27 19:19:58,585 - attention.similarity.output_size = 1\n",
      "INFO - 2019-03-27 19:19:58,587 - attention.normaliser = softmax\n",
      "INFO - 2019-03-27 19:19:58,587 - decoder.input_dim = 398\n",
      "INFO - 2019-03-27 19:19:58,587 - decoder.num_layers = 2\n",
      "INFO - 2019-03-27 19:19:58,587 - decoder.hidden_dims = [128, 1]\n",
      "INFO - 2019-03-27 19:19:58,588 - decoder.activations = ['tanh', 'linear']\n",
      "INFO - 2019-03-27 19:19:58,588 - decoder.dropout = 0.0\n",
      "INFO - 2019-03-27 19:19:58,589 - instantiating class <class 'PatientVec.models.modules.Predictor.Predictor'> from params {'type': 'binary'} and extras {}\n",
      "INFO - 2019-03-27 19:19:58,590 - predictor.type = binary\n",
      "INFO - 2019-03-27 19:19:58,590 - instantiating class <class 'PatientVec.models.modules.Predictor.Binary_Predictor'> from params {} and extras {}\n",
      "INFO - 2019-03-27 19:19:58,590 - predictor.replicate = False\n",
      "INFO - 2019-03-27 19:19:58,591 - predictor.alpha = 0.5\n",
      "INFO - 2019-03-27 19:19:58,605 - instantiating class <class 'PatientVec.models.Model.Model'> from params {'type': 'seq_classifier_with_attention', 'embedder': {'type': 'token_embedder', 'vocab_size': 32246, 'embed_size': 200, 'embedding_file': './preprocess/Readmission/embedding_matrix.npy'}, 'decoder': {'num_layers': 2, 'hidden_dims': [128, 1], 'activations': ['tanh', 'linear']}, 'predictor': {'type': 'binary'}, 'structured': {'use_structured': True, 'structured_dim': 142}, 'encoder': {'type': 'cnn', 'hidden_size': 64, 'kernel_sizes': [3, 5, 7, 9], 'activation': 'relu'}, 'attention': {'similarity': {'type': 'additive', 'hidden_size': 128}}} and extras {}\n",
      "INFO - 2019-03-27 19:19:58,605 - type = seq_classifier_with_attention\n",
      "INFO - 2019-03-27 19:19:58,605 - instantiating class <class 'PatientVec.models.modules.Embedder.Embedder'> from params {'type': 'token_embedder', 'vocab_size': 32246, 'embed_size': 200, 'embedding_file': './preprocess/Readmission/embedding_matrix.npy'} and extras {}\n",
      "INFO - 2019-03-27 19:19:58,606 - embedder.type = token_embedder\n",
      "INFO - 2019-03-27 19:19:58,606 - instantiating class <class 'PatientVec.models.modules.Embedder.TokenEmbedder'> from params {'vocab_size': 32246, 'embed_size': 200, 'embedding_file': './preprocess/Readmission/embedding_matrix.npy'} and extras {}\n",
      "INFO - 2019-03-27 19:19:58,606 - embedder.vocab_size = 32246\n",
      "INFO - 2019-03-27 19:19:58,606 - embedder.embed_size = 200\n",
      "INFO - 2019-03-27 19:19:58,607 - embedder.embedding_file = ./preprocess/Readmission/embedding_matrix.npy\n",
      "INFO - 2019-03-27 19:19:58,622 - instantiating class <class 'PatientVec.models.modules.Encoder.Encoder'> from params {'type': 'cnn', 'hidden_size': 64, 'kernel_sizes': [3, 5, 7, 9], 'activation': 'relu'} and extras {'input_size': 200}\n",
      "INFO - 2019-03-27 19:19:58,622 - encoder.type = cnn\n",
      "INFO - 2019-03-27 19:19:58,622 - instantiating class <class 'PatientVec.models.modules.Encoder.CNNEncoder'> from params {'hidden_size': 64, 'kernel_sizes': [3, 5, 7, 9], 'activation': 'relu'} and extras {'input_size': 200}\n",
      "INFO - 2019-03-27 19:19:58,623 - encoder.hidden_size = 64\n",
      "INFO - 2019-03-27 19:19:58,623 - encoder.kernel_sizes = [3, 5, 7, 9]\n",
      "INFO - 2019-03-27 19:19:58,623 - encoder.activation = relu\n",
      "INFO - 2019-03-27 19:19:58,626 - instantiating class <class 'PatientVec.models.modules.SelfAttention.SelfAttention'> from params {'similarity': {'type': 'additive', 'hidden_size': 128, 'tensor_1_dim': 256}} and extras {}\n",
      "INFO - 2019-03-27 19:19:58,627 - instantiating class <class 'PatientVec.models.modules.UniSimilarity.UniSimilarity'> from params {'type': 'additive', 'hidden_size': 128, 'tensor_1_dim': 256} and extras {}\n",
      "INFO - 2019-03-27 19:19:58,627 - attention.similarity.type = additive\n",
      "INFO - 2019-03-27 19:19:58,627 - instantiating class <class 'PatientVec.models.modules.UniSimilarity.UniAdditiveSimilarity'> from params {'hidden_size': 128, 'tensor_1_dim': 256} and extras {}\n",
      "INFO - 2019-03-27 19:19:58,627 - attention.similarity.tensor_1_dim = 256\n",
      "INFO - 2019-03-27 19:19:58,628 - attention.similarity.hidden_size = 128\n",
      "INFO - 2019-03-27 19:19:58,628 - attention.similarity.output_size = 1\n",
      "INFO - 2019-03-27 19:19:58,629 - attention.normaliser = softmax\n",
      "INFO - 2019-03-27 19:19:58,630 - decoder.input_dim = 398\n",
      "INFO - 2019-03-27 19:19:58,630 - decoder.num_layers = 2\n",
      "INFO - 2019-03-27 19:19:58,630 - decoder.hidden_dims = [128, 1]\n",
      "INFO - 2019-03-27 19:19:58,631 - decoder.activations = ['tanh', 'linear']\n",
      "INFO - 2019-03-27 19:19:58,631 - decoder.dropout = 0.0\n",
      "INFO - 2019-03-27 19:19:58,632 - instantiating class <class 'PatientVec.models.modules.Predictor.Predictor'> from params {'type': 'binary'} and extras {}\n",
      "INFO - 2019-03-27 19:19:58,633 - predictor.type = binary\n",
      "INFO - 2019-03-27 19:19:58,633 - instantiating class <class 'PatientVec.models.modules.Predictor.Binary_Predictor'> from params {} and extras {}\n",
      "INFO - 2019-03-27 19:19:58,633 - predictor.replicate = False\n",
      "INFO - 2019-03-27 19:19:58,634 - predictor.alpha = 0.5\n"
     ]
    },
    {
     "name": "stdout",
     "output_type": "stream",
     "text": [
      "{'model': {'type': 'seq_classifier_with_attention', 'embedder': {'type': 'token_embedder', 'vocab_size': 32246, 'embed_size': 200, 'embedding_file': './preprocess/Readmission/embedding_matrix.npy'}, 'decoder': {'num_layers': 2, 'hidden_dims': [128, 1], 'activations': ['tanh', 'linear']}, 'predictor': {'type': 'binary'}, 'structured': {'use_structured': True, 'structured_dim': 142}, 'encoder': {'type': 'average', 'projection': True, 'hidden_size': 256, 'activation': 'relu'}, 'attention': {'similarity': {'type': 'additive', 'hidden_size': 128}}}, 'training_config': {'type': 'Adam', 'groups': [('.*', {'lr': 0.001, 'weight_decay': 1e-05})], 'common': {'bsize': 16, 'class_weight': True}}, 'exp_config': {'exp_name': 'Readmission/Attention/Average(hs=256)+Attention(additive)(hs=128)+Structured', 'basepath': 'outputs/'}}\n",
      "Setting Embedding\n",
      "{'model': {'type': 'seq_classifier_with_attention', 'embedder': {'type': 'token_embedder', 'vocab_size': 32246, 'embed_size': 200, 'embedding_file': './preprocess/Readmission/embedding_matrix.npy'}, 'decoder': {'num_layers': 2, 'hidden_dims': [128, 1], 'activations': ['tanh', 'linear']}, 'predictor': {'type': 'binary'}, 'structured': {'use_structured': True, 'structured_dim': 142}, 'encoder': {'type': 'lstm', 'hidden_size': 128}, 'attention': {'similarity': {'type': 'additive', 'hidden_size': 128}}}, 'training_config': {'type': 'Adam', 'groups': [('.*', {'lr': 0.001, 'weight_decay': 1e-05})], 'common': {'bsize': 16, 'class_weight': True}}, 'exp_config': {'exp_name': 'Readmission/Attention/LSTM(hs=128)+Attention(additive)(hs=128)+Structured', 'basepath': 'outputs/'}}\n",
      "Setting Embedding\n",
      "{'model': {'type': 'seq_classifier_with_attention', 'embedder': {'type': 'token_embedder', 'vocab_size': 32246, 'embed_size': 200, 'embedding_file': './preprocess/Readmission/embedding_matrix.npy'}, 'decoder': {'num_layers': 2, 'hidden_dims': [128, 1], 'activations': ['tanh', 'linear']}, 'predictor': {'type': 'binary'}, 'structured': {'use_structured': True, 'structured_dim': 142}, 'encoder': {'type': 'cnn', 'hidden_size': 64, 'kernel_sizes': [3, 5, 7, 9], 'activation': 'relu'}, 'attention': {'similarity': {'type': 'additive', 'hidden_size': 128}}}, 'training_config': {'type': 'Adam', 'groups': [('.*', {'lr': 0.001, 'weight_decay': 1e-05})], 'common': {'bsize': 16, 'class_weight': True}}, 'exp_config': {'exp_name': 'Readmission/Attention/CNN(hs=64)(kernels=3,5,7,9)+Attention(additive)(hs=128)+Structured', 'basepath': 'outputs/'}}\n",
      "Setting Embedding\n",
      "Pos Percentage [0.19738451]\n"
     ]
    },
    {
     "name": "stderr",
     "output_type": "stream",
     "text": [
      "INFO - 2019-03-27 19:20:05,237 - Maximum Sentence Length 721825.000000 , 90 percentile length 18689.000000 ... \n",
      "INFO - 2019-03-27 19:20:15,048 - Truncated all ...\n",
      "INFO - 2019-03-27 19:20:15,096 - Idxs removed [1249]...\n"
     ]
    },
    {
     "name": "stdout",
     "output_type": "stream",
     "text": [
      "Pos Percentage [0.20937082]\n"
     ]
    },
    {
     "name": "stderr",
     "output_type": "stream",
     "text": [
      "INFO - 2019-03-27 19:20:16,457 - Maximum Sentence Length 588265.000000 , 90 percentile length 19174.000000 ... \n",
      "INFO - 2019-03-27 19:20:18,369 - Truncated all ...\n",
      "INFO - 2019-03-27 19:20:18,383 - Idxs removed []...\n"
     ]
    },
    {
     "name": "stdout",
     "output_type": "stream",
     "text": [
      "Pos Percentage [0.19429882]\n"
     ]
    },
    {
     "name": "stderr",
     "output_type": "stream",
     "text": [
      "INFO - 2019-03-27 19:20:19,875 - Maximum Sentence Length 496156.000000 , 90 percentile length 18936.000000 ... \n",
      "INFO - 2019-03-27 19:20:22,159 - Truncated all ...\n",
      "INFO - 2019-03-27 19:20:22,174 - Idxs removed []...\n",
      "INFO - 2019-03-27 19:20:22,250 - instantiating class <class 'PatientVec.models.Model.Model'> from params {'type': 'seq_classifier', 'embedder': {'type': 'token_embedder', 'vocab_size': 32246, 'embed_size': 200, 'embedding_file': './preprocess/Readmission/embedding_matrix.npy'}, 'decoder': {'num_layers': 2, 'hidden_dims': [128, 1], 'activations': ['tanh', 'linear']}, 'predictor': {'type': 'binary'}, 'structured': {'use_structured': True, 'structured_dim': 142}, 'encoder': {'type': 'sru', 'hidden_size': 128}} and extras {}\n",
      "INFO - 2019-03-27 19:20:22,250 - type = seq_classifier\n",
      "INFO - 2019-03-27 19:20:22,250 - instantiating class <class 'PatientVec.models.modules.Embedder.Embedder'> from params {'type': 'token_embedder', 'vocab_size': 32246, 'embed_size': 200, 'embedding_file': './preprocess/Readmission/embedding_matrix.npy'} and extras {}\n",
      "INFO - 2019-03-27 19:20:22,251 - embedder.type = token_embedder\n",
      "INFO - 2019-03-27 19:20:22,251 - instantiating class <class 'PatientVec.models.modules.Embedder.TokenEmbedder'> from params {'vocab_size': 32246, 'embed_size': 200, 'embedding_file': './preprocess/Readmission/embedding_matrix.npy'} and extras {}\n",
      "INFO - 2019-03-27 19:20:22,252 - embedder.vocab_size = 32246\n",
      "INFO - 2019-03-27 19:20:22,252 - embedder.embed_size = 200\n",
      "INFO - 2019-03-27 19:20:22,252 - embedder.embedding_file = ./preprocess/Readmission/embedding_matrix.npy\n",
      "INFO - 2019-03-27 19:20:22,267 - instantiating class <class 'PatientVec.models.modules.Encoder.Encoder'> from params {'type': 'sru', 'hidden_size': 128} and extras {'input_size': 200}\n",
      "INFO - 2019-03-27 19:20:22,268 - encoder.type = sru\n",
      "INFO - 2019-03-27 19:20:22,268 - instantiating class <class 'PatientVec.models.modules.Encoder.SRUEncoder'> from params {'hidden_size': 128} and extras {'input_size': 200}\n",
      "INFO - 2019-03-27 19:20:22,269 - encoder.hidden_size = 128\n",
      "INFO - 2019-03-27 19:20:22,272 - decoder.input_dim = 398\n",
      "INFO - 2019-03-27 19:20:22,272 - decoder.num_layers = 2\n",
      "INFO - 2019-03-27 19:20:22,272 - decoder.hidden_dims = [128, 1]\n",
      "INFO - 2019-03-27 19:20:22,273 - decoder.activations = ['tanh', 'linear']\n",
      "INFO - 2019-03-27 19:20:22,273 - decoder.dropout = 0.0\n",
      "INFO - 2019-03-27 19:20:22,274 - instantiating class <class 'PatientVec.models.modules.Predictor.Predictor'> from params {'type': 'binary'} and extras {}\n",
      "INFO - 2019-03-27 19:20:22,275 - predictor.type = binary\n",
      "INFO - 2019-03-27 19:20:22,275 - instantiating class <class 'PatientVec.models.modules.Predictor.Binary_Predictor'> from params {} and extras {}\n",
      "INFO - 2019-03-27 19:20:22,275 - predictor.replicate = False\n",
      "INFO - 2019-03-27 19:20:22,276 - predictor.alpha = 0.5\n",
      "INFO - 2019-03-27 19:20:22,296 - instantiating class <class 'PatientVec.models.Model.Model'> from params {'type': 'seq_classifier_with_attention', 'embedder': {'type': 'token_embedder', 'vocab_size': 32246, 'embed_size': 200, 'embedding_file': './preprocess/Readmission/embedding_matrix.npy'}, 'decoder': {'num_layers': 2, 'hidden_dims': [128, 1], 'activations': ['tanh', 'linear']}, 'predictor': {'type': 'binary'}, 'structured': {'use_structured': True, 'structured_dim': 142}, 'encoder': {'type': 'sru', 'hidden_size': 128}, 'attention': {'similarity': {'type': 'additive', 'hidden_size': 128}}} and extras {}\n",
      "INFO - 2019-03-27 19:20:22,297 - type = seq_classifier_with_attention\n",
      "INFO - 2019-03-27 19:20:22,297 - instantiating class <class 'PatientVec.models.modules.Embedder.Embedder'> from params {'type': 'token_embedder', 'vocab_size': 32246, 'embed_size': 200, 'embedding_file': './preprocess/Readmission/embedding_matrix.npy'} and extras {}\n",
      "INFO - 2019-03-27 19:20:22,298 - embedder.type = token_embedder\n",
      "INFO - 2019-03-27 19:20:22,298 - instantiating class <class 'PatientVec.models.modules.Embedder.TokenEmbedder'> from params {'vocab_size': 32246, 'embed_size': 200, 'embedding_file': './preprocess/Readmission/embedding_matrix.npy'} and extras {}\n",
      "INFO - 2019-03-27 19:20:22,298 - embedder.vocab_size = 32246\n",
      "INFO - 2019-03-27 19:20:22,298 - embedder.embed_size = 200\n",
      "INFO - 2019-03-27 19:20:22,299 - embedder.embedding_file = ./preprocess/Readmission/embedding_matrix.npy\n",
      "INFO - 2019-03-27 19:20:22,313 - instantiating class <class 'PatientVec.models.modules.Encoder.Encoder'> from params {'type': 'sru', 'hidden_size': 128} and extras {'input_size': 200}\n",
      "INFO - 2019-03-27 19:20:22,314 - encoder.type = sru\n",
      "INFO - 2019-03-27 19:20:22,314 - instantiating class <class 'PatientVec.models.modules.Encoder.SRUEncoder'> from params {'hidden_size': 128} and extras {'input_size': 200}\n",
      "INFO - 2019-03-27 19:20:22,314 - encoder.hidden_size = 128\n",
      "INFO - 2019-03-27 19:20:22,317 - instantiating class <class 'PatientVec.models.modules.SelfAttention.SelfAttention'> from params {'similarity': {'type': 'additive', 'hidden_size': 128, 'tensor_1_dim': 256}} and extras {}\n",
      "INFO - 2019-03-27 19:20:22,318 - instantiating class <class 'PatientVec.models.modules.UniSimilarity.UniSimilarity'> from params {'type': 'additive', 'hidden_size': 128, 'tensor_1_dim': 256} and extras {}\n",
      "INFO - 2019-03-27 19:20:22,318 - attention.similarity.type = additive\n",
      "INFO - 2019-03-27 19:20:22,319 - instantiating class <class 'PatientVec.models.modules.UniSimilarity.UniAdditiveSimilarity'> from params {'hidden_size': 128, 'tensor_1_dim': 256} and extras {}\n",
      "INFO - 2019-03-27 19:20:22,319 - attention.similarity.tensor_1_dim = 256\n",
      "INFO - 2019-03-27 19:20:22,319 - attention.similarity.hidden_size = 128\n",
      "INFO - 2019-03-27 19:20:22,320 - attention.similarity.output_size = 1\n",
      "INFO - 2019-03-27 19:20:22,321 - attention.normaliser = softmax\n",
      "INFO - 2019-03-27 19:20:22,321 - decoder.input_dim = 398\n",
      "INFO - 2019-03-27 19:20:22,321 - decoder.num_layers = 2\n",
      "INFO - 2019-03-27 19:20:22,322 - decoder.hidden_dims = [128, 1]\n",
      "INFO - 2019-03-27 19:20:22,322 - decoder.activations = ['tanh', 'linear']\n",
      "INFO - 2019-03-27 19:20:22,322 - decoder.dropout = 0.0\n",
      "INFO - 2019-03-27 19:20:22,324 - instantiating class <class 'PatientVec.models.modules.Predictor.Predictor'> from params {'type': 'binary'} and extras {}\n",
      "INFO - 2019-03-27 19:20:22,324 - predictor.type = binary\n",
      "INFO - 2019-03-27 19:20:22,325 - instantiating class <class 'PatientVec.models.modules.Predictor.Binary_Predictor'> from params {} and extras {}\n",
      "INFO - 2019-03-27 19:20:22,325 - predictor.replicate = False\n",
      "INFO - 2019-03-27 19:20:22,325 - predictor.alpha = 0.5\n"
     ]
    },
    {
     "name": "stdout",
     "output_type": "stream",
     "text": [
      "{'model': {'type': 'seq_classifier', 'embedder': {'type': 'token_embedder', 'vocab_size': 32246, 'embed_size': 200, 'embedding_file': './preprocess/Readmission/embedding_matrix.npy'}, 'decoder': {'num_layers': 2, 'hidden_dims': [128, 1], 'activations': ['tanh', 'linear']}, 'predictor': {'type': 'binary'}, 'structured': {'use_structured': True, 'structured_dim': 142}, 'encoder': {'type': 'sru', 'hidden_size': 128}}, 'training_config': {'type': 'Adam', 'groups': [('.*', {'lr': 0.001, 'weight_decay': 1e-05})], 'common': {'bsize': 16, 'class_weight': True}}, 'exp_config': {'exp_name': 'Readmission/Basic/SRU(hs=128)+Structured', 'basepath': 'outputs/'}}\n",
      "Setting Embedding\n",
      "{'model': {'type': 'seq_classifier_with_attention', 'embedder': {'type': 'token_embedder', 'vocab_size': 32246, 'embed_size': 200, 'embedding_file': './preprocess/Readmission/embedding_matrix.npy'}, 'decoder': {'num_layers': 2, 'hidden_dims': [128, 1], 'activations': ['tanh', 'linear']}, 'predictor': {'type': 'binary'}, 'structured': {'use_structured': True, 'structured_dim': 142}, 'encoder': {'type': 'sru', 'hidden_size': 128}, 'attention': {'similarity': {'type': 'additive', 'hidden_size': 128}}}, 'training_config': {'type': 'Adam', 'groups': [('.*', {'lr': 0.001, 'weight_decay': 1e-05})], 'common': {'bsize': 16, 'class_weight': True}}, 'exp_config': {'exp_name': 'Readmission/Attention/SRU(hs=128)+Attention(additive)(hs=128)+Structured', 'basepath': 'outputs/'}}\n",
      "Setting Embedding\n",
      "Pos Percentage [0.19738451]\n"
     ]
    },
    {
     "name": "stderr",
     "output_type": "stream",
     "text": [
      "INFO - 2019-03-27 19:20:27,380 - Maximum Sentence Length 721825.000000 , 90 percentile length 18689.000000 ... \n",
      "INFO - 2019-03-27 19:20:39,706 - Truncated all ...\n",
      "INFO - 2019-03-27 19:20:39,764 - Idxs removed [1249]...\n"
     ]
    },
    {
     "name": "stdout",
     "output_type": "stream",
     "text": [
      "Pos Percentage [0.20937082]\n"
     ]
    },
    {
     "name": "stderr",
     "output_type": "stream",
     "text": [
      "INFO - 2019-03-27 19:20:41,297 - Maximum Sentence Length 588265.000000 , 90 percentile length 19174.000000 ... \n",
      "INFO - 2019-03-27 19:20:43,167 - Truncated all ...\n",
      "INFO - 2019-03-27 19:20:43,182 - Idxs removed []...\n"
     ]
    },
    {
     "name": "stdout",
     "output_type": "stream",
     "text": [
      "Pos Percentage [0.19429882]\n"
     ]
    },
    {
     "name": "stderr",
     "output_type": "stream",
     "text": [
      "INFO - 2019-03-27 19:20:44,874 - Maximum Sentence Length 496156.000000 , 90 percentile length 18936.000000 ... \n",
      "INFO - 2019-03-27 19:20:47,095 - Truncated all ...\n",
      "INFO - 2019-03-27 19:20:47,112 - Idxs removed []...\n",
      "INFO - 2019-03-27 19:20:47,189 - instantiating class <class 'PatientVec.models.Model.Model'> from params {'type': 'seq_classifier_with_structured_attention', 'embedder': {'type': 'token_embedder', 'vocab_size': 32246, 'embed_size': 200, 'embedding_file': './preprocess/Readmission/embedding_matrix.npy'}, 'decoder': {'num_layers': 2, 'hidden_dims': [128, 1], 'activations': ['tanh', 'linear']}, 'predictor': {'type': 'binary'}, 'structured': {'use_structured': True, 'structured_dim': 142}, 'encoder': {'type': 'average', 'projection': True, 'hidden_size': 256, 'activation': 'relu'}, 'attention': {'similarity': {'type': 'additive', 'hidden_size': 128, 'tensor_2_dim': 142}}} and extras {}\n",
      "INFO - 2019-03-27 19:20:47,189 - type = seq_classifier_with_structured_attention\n",
      "INFO - 2019-03-27 19:20:47,189 - instantiating class <class 'PatientVec.models.modules.Embedder.Embedder'> from params {'type': 'token_embedder', 'vocab_size': 32246, 'embed_size': 200, 'embedding_file': './preprocess/Readmission/embedding_matrix.npy'} and extras {}\n",
      "INFO - 2019-03-27 19:20:47,190 - embedder.type = token_embedder\n",
      "INFO - 2019-03-27 19:20:47,190 - instantiating class <class 'PatientVec.models.modules.Embedder.TokenEmbedder'> from params {'vocab_size': 32246, 'embed_size': 200, 'embedding_file': './preprocess/Readmission/embedding_matrix.npy'} and extras {}\n",
      "INFO - 2019-03-27 19:20:47,191 - embedder.vocab_size = 32246\n",
      "INFO - 2019-03-27 19:20:47,191 - embedder.embed_size = 200\n",
      "INFO - 2019-03-27 19:20:47,191 - embedder.embedding_file = ./preprocess/Readmission/embedding_matrix.npy\n",
      "INFO - 2019-03-27 19:20:47,207 - instantiating class <class 'PatientVec.models.modules.Encoder.Encoder'> from params {'type': 'average', 'projection': True, 'hidden_size': 256, 'activation': 'relu'} and extras {'input_size': 200}\n",
      "INFO - 2019-03-27 19:20:47,208 - encoder.type = average\n",
      "INFO - 2019-03-27 19:20:47,208 - instantiating class <class 'PatientVec.models.modules.Encoder.AverageEncoder'> from params {'projection': True, 'hidden_size': 256, 'activation': 'relu'} and extras {'input_size': 200}\n",
      "INFO - 2019-03-27 19:20:47,208 - encoder.projection = True\n",
      "INFO - 2019-03-27 19:20:47,209 - encoder.hidden_size = 256\n",
      "INFO - 2019-03-27 19:20:47,209 - encoder.activation = relu\n",
      "INFO - 2019-03-27 19:20:47,210 - instantiating class <class 'PatientVec.models.modules.Attention.Attention'> from params {'similarity': {'type': 'additive', 'hidden_size': 128, 'tensor_2_dim': 142, 'tensor_1_dim': 256}} and extras {}\n",
      "INFO - 2019-03-27 19:20:47,211 - instantiating class <class 'PatientVec.models.modules.BiSimilarity.BiSimilarity'> from params {'type': 'additive', 'hidden_size': 128, 'tensor_2_dim': 142, 'tensor_1_dim': 256} and extras {}\n",
      "INFO - 2019-03-27 19:20:47,211 - attention.similarity.type = additive\n",
      "INFO - 2019-03-27 19:20:47,211 - instantiating class <class 'PatientVec.models.modules.BiSimilarity.BiAdditiveSimilarity'> from params {'hidden_size': 128, 'tensor_2_dim': 142, 'tensor_1_dim': 256} and extras {}\n",
      "INFO - 2019-03-27 19:20:47,212 - attention.similarity.tensor_1_dim = 256\n",
      "INFO - 2019-03-27 19:20:47,212 - attention.similarity.tensor_2_dim = 142\n",
      "INFO - 2019-03-27 19:20:47,213 - attention.similarity.hidden_size = 128\n",
      "INFO - 2019-03-27 19:20:47,214 - attention.normaliser = softmax\n",
      "INFO - 2019-03-27 19:20:47,214 - decoder.input_dim = 398\n",
      "INFO - 2019-03-27 19:20:47,215 - decoder.num_layers = 2\n",
      "INFO - 2019-03-27 19:20:47,215 - decoder.hidden_dims = [128, 1]\n",
      "INFO - 2019-03-27 19:20:47,215 - decoder.activations = ['tanh', 'linear']\n",
      "INFO - 2019-03-27 19:20:47,216 - decoder.dropout = 0.0\n",
      "INFO - 2019-03-27 19:20:47,217 - instantiating class <class 'PatientVec.models.modules.Predictor.Predictor'> from params {'type': 'binary'} and extras {}\n",
      "INFO - 2019-03-27 19:20:47,217 - predictor.type = binary\n",
      "INFO - 2019-03-27 19:20:47,218 - instantiating class <class 'PatientVec.models.modules.Predictor.Binary_Predictor'> from params {} and extras {}\n",
      "INFO - 2019-03-27 19:20:47,218 - predictor.replicate = False\n",
      "INFO - 2019-03-27 19:20:47,219 - predictor.alpha = 0.5\n",
      "INFO - 2019-03-27 19:20:47,232 - instantiating class <class 'PatientVec.models.Model.Model'> from params {'type': 'seq_classifier_with_structured_attention', 'embedder': {'type': 'token_embedder', 'vocab_size': 32246, 'embed_size': 200, 'embedding_file': 'preprocess/Readmission//embedding_matrix.npy'}, 'decoder': {'num_layers': 2, 'hidden_dims': [128, 1], 'activations': ['tanh', 'linear']}, 'predictor': {'type': 'binary'}, 'structured': {'use_structured': True, 'structured_dim': 142}, 'encoder': {'type': 'average', 'projection': True, 'hidden_size': 256, 'activation': 'relu'}, 'attention': {'similarity': {'type': 'additive', 'hidden_size': 128, 'tensor_2_dim': 142}}} and extras {}\n",
      "INFO - 2019-03-27 19:20:47,232 - type = seq_classifier_with_structured_attention\n",
      "INFO - 2019-03-27 19:20:47,232 - instantiating class <class 'PatientVec.models.modules.Embedder.Embedder'> from params {'type': 'token_embedder', 'vocab_size': 32246, 'embed_size': 200, 'embedding_file': 'preprocess/Readmission//embedding_matrix.npy'} and extras {}\n",
      "INFO - 2019-03-27 19:20:47,233 - embedder.type = token_embedder\n",
      "INFO - 2019-03-27 19:20:47,233 - instantiating class <class 'PatientVec.models.modules.Embedder.TokenEmbedder'> from params {'vocab_size': 32246, 'embed_size': 200, 'embedding_file': 'preprocess/Readmission//embedding_matrix.npy'} and extras {}\n",
      "INFO - 2019-03-27 19:20:47,234 - embedder.vocab_size = 32246\n",
      "INFO - 2019-03-27 19:20:47,234 - embedder.embed_size = 200\n",
      "INFO - 2019-03-27 19:20:47,234 - embedder.embedding_file = preprocess/Readmission//embedding_matrix.npy\n",
      "INFO - 2019-03-27 19:20:47,249 - instantiating class <class 'PatientVec.models.modules.Encoder.Encoder'> from params {'type': 'average', 'projection': True, 'hidden_size': 256, 'activation': 'relu'} and extras {'input_size': 200}\n",
      "INFO - 2019-03-27 19:20:47,249 - encoder.type = average\n",
      "INFO - 2019-03-27 19:20:47,250 - instantiating class <class 'PatientVec.models.modules.Encoder.AverageEncoder'> from params {'projection': True, 'hidden_size': 256, 'activation': 'relu'} and extras {'input_size': 200}\n",
      "INFO - 2019-03-27 19:20:47,250 - encoder.projection = True\n",
      "INFO - 2019-03-27 19:20:47,250 - encoder.hidden_size = 256\n",
      "INFO - 2019-03-27 19:20:47,250 - encoder.activation = relu\n",
      "INFO - 2019-03-27 19:20:47,252 - instantiating class <class 'PatientVec.models.modules.Attention.Attention'> from params {'similarity': {'type': 'additive', 'hidden_size': 128, 'tensor_2_dim': 142, 'tensor_1_dim': 256}} and extras {}\n",
      "INFO - 2019-03-27 19:20:47,252 - instantiating class <class 'PatientVec.models.modules.BiSimilarity.BiSimilarity'> from params {'type': 'additive', 'hidden_size': 128, 'tensor_2_dim': 142, 'tensor_1_dim': 256} and extras {}\n",
      "INFO - 2019-03-27 19:20:47,253 - attention.similarity.type = additive\n",
      "INFO - 2019-03-27 19:20:47,253 - instantiating class <class 'PatientVec.models.modules.BiSimilarity.BiAdditiveSimilarity'> from params {'hidden_size': 128, 'tensor_2_dim': 142, 'tensor_1_dim': 256} and extras {}\n",
      "INFO - 2019-03-27 19:20:47,253 - attention.similarity.tensor_1_dim = 256\n",
      "INFO - 2019-03-27 19:20:47,253 - attention.similarity.tensor_2_dim = 142\n",
      "INFO - 2019-03-27 19:20:47,254 - attention.similarity.hidden_size = 128\n",
      "INFO - 2019-03-27 19:20:47,255 - attention.normaliser = softmax\n",
      "INFO - 2019-03-27 19:20:47,255 - decoder.input_dim = 398\n",
      "INFO - 2019-03-27 19:20:47,256 - decoder.num_layers = 2\n",
      "INFO - 2019-03-27 19:20:47,256 - decoder.hidden_dims = [128, 1]\n",
      "INFO - 2019-03-27 19:20:47,256 - decoder.activations = ['tanh', 'linear']\n",
      "INFO - 2019-03-27 19:20:47,257 - decoder.dropout = 0.0\n",
      "INFO - 2019-03-27 19:20:47,258 - instantiating class <class 'PatientVec.models.modules.Predictor.Predictor'> from params {'type': 'binary'} and extras {}\n",
      "INFO - 2019-03-27 19:20:47,258 - predictor.type = binary\n",
      "INFO - 2019-03-27 19:20:47,258 - instantiating class <class 'PatientVec.models.modules.Predictor.Binary_Predictor'> from params {} and extras {}\n",
      "INFO - 2019-03-27 19:20:47,259 - predictor.replicate = False\n",
      "INFO - 2019-03-27 19:20:47,259 - predictor.alpha = 0.5\n"
     ]
    },
    {
     "name": "stdout",
     "output_type": "stream",
     "text": [
      "{'model': {'type': 'seq_classifier_with_structured_attention', 'embedder': {'type': 'token_embedder', 'vocab_size': 32246, 'embed_size': 200, 'embedding_file': './preprocess/Readmission/embedding_matrix.npy'}, 'decoder': {'num_layers': 2, 'hidden_dims': [128, 1], 'activations': ['tanh', 'linear']}, 'predictor': {'type': 'binary'}, 'structured': {'use_structured': True, 'structured_dim': 142}, 'encoder': {'type': 'average', 'projection': True, 'hidden_size': 256, 'activation': 'relu'}, 'attention': {'similarity': {'type': 'additive', 'hidden_size': 128, 'tensor_2_dim': 142}}}, 'training_config': {'type': 'Adam', 'groups': [('.*', {'lr': 0.001, 'weight_decay': 1e-05})], 'common': {'bsize': 32, 'class_weight': True}}, 'exp_config': {'exp_name': 'Readmission/Structured Attention/Average(hs=256)+Attention(additive)(all)(hs=128)+Structured', 'basepath': 'outputs/'}}\n",
      "Setting Embedding\n",
      "Setting Embedding\n"
     ]
    },
    {
     "data": {
      "application/vnd.jupyter.widget-view+json": {
       "model_id": "b99d15cf84f64b638f71a6929ccd4945",
       "version_major": 2,
       "version_minor": 0
      },
      "text/plain": [
       "HBox(children=(IntProgress(value=0, max=234), HTML(value='')))"
      ]
     },
     "metadata": {},
     "output_type": "display_data"
    },
    {
     "name": "stdout",
     "output_type": "stream",
     "text": [
      "\n",
      "{'accuracy': 0.8105756358768407, 'roc_auc': 0.7474797509663327, 'pr_auc': 0.48339573967139227}\n"
     ]
    },
    {
     "data": {
      "text/html": [
       "<div>\n",
       "<style scoped>\n",
       "    .dataframe tbody tr th:only-of-type {\n",
       "        vertical-align: middle;\n",
       "    }\n",
       "\n",
       "    .dataframe tbody tr th {\n",
       "        vertical-align: top;\n",
       "    }\n",
       "\n",
       "    .dataframe thead th {\n",
       "        text-align: right;\n",
       "    }\n",
       "</style>\n",
       "<table border=\"1\" class=\"dataframe\">\n",
       "  <thead>\n",
       "    <tr style=\"text-align: right;\">\n",
       "      <th></th>\n",
       "      <th>0</th>\n",
       "      <th>1</th>\n",
       "      <th>micro avg</th>\n",
       "      <th>macro avg</th>\n",
       "      <th>weighted avg</th>\n",
       "    </tr>\n",
       "  </thead>\n",
       "  <tbody>\n",
       "    <tr>\n",
       "      <th>f1-score</th>\n",
       "      <td>0.891</td>\n",
       "      <td>0.291</td>\n",
       "      <td>0.811</td>\n",
       "      <td>0.591</td>\n",
       "      <td>0.765</td>\n",
       "    </tr>\n",
       "    <tr>\n",
       "      <th>precision</th>\n",
       "      <td>0.819</td>\n",
       "      <td>0.673</td>\n",
       "      <td>0.811</td>\n",
       "      <td>0.746</td>\n",
       "      <td>0.788</td>\n",
       "    </tr>\n",
       "    <tr>\n",
       "      <th>recall</th>\n",
       "      <td>0.976</td>\n",
       "      <td>0.185</td>\n",
       "      <td>0.811</td>\n",
       "      <td>0.581</td>\n",
       "      <td>0.811</td>\n",
       "    </tr>\n",
       "    <tr>\n",
       "      <th>support</th>\n",
       "      <td>5906.000</td>\n",
       "      <td>1564.000</td>\n",
       "      <td>7470.000</td>\n",
       "      <td>7470.000</td>\n",
       "      <td>7470.000</td>\n",
       "    </tr>\n",
       "  </tbody>\n",
       "</table>\n",
       "</div>"
      ],
      "text/plain": [
       "                  0         1  micro avg  macro avg  weighted avg\n",
       "f1-score      0.891     0.291      0.811      0.591         0.765\n",
       "precision     0.819     0.673      0.811      0.746         0.788\n",
       "recall        0.976     0.185      0.811      0.581         0.811\n",
       "support    5906.000  1564.000   7470.000   7470.000      7470.000"
      ]
     },
     "metadata": {},
     "output_type": "display_data"
    },
    {
     "data": {
      "application/vnd.jupyter.widget-view+json": {
       "model_id": "25224005ae29423e8b2323038562f258",
       "version_major": 2,
       "version_minor": 0
      },
      "text/plain": [
       "HBox(children=(IntProgress(value=0, max=287), HTML(value='')))"
      ]
     },
     "metadata": {},
     "output_type": "display_data"
    },
    {
     "name": "stdout",
     "output_type": "stream",
     "text": [
      "\n",
      "{'accuracy': 0.8218654434250765, 'roc_auc': 0.7417647165052677, 'pr_auc': 0.4562989592125558}\n"
     ]
    },
    {
     "data": {
      "text/html": [
       "<div>\n",
       "<style scoped>\n",
       "    .dataframe tbody tr th:only-of-type {\n",
       "        vertical-align: middle;\n",
       "    }\n",
       "\n",
       "    .dataframe tbody tr th {\n",
       "        vertical-align: top;\n",
       "    }\n",
       "\n",
       "    .dataframe thead th {\n",
       "        text-align: right;\n",
       "    }\n",
       "</style>\n",
       "<table border=\"1\" class=\"dataframe\">\n",
       "  <thead>\n",
       "    <tr style=\"text-align: right;\">\n",
       "      <th></th>\n",
       "      <th>0</th>\n",
       "      <th>1</th>\n",
       "      <th>micro avg</th>\n",
       "      <th>macro avg</th>\n",
       "      <th>weighted avg</th>\n",
       "    </tr>\n",
       "  </thead>\n",
       "  <tbody>\n",
       "    <tr>\n",
       "      <th>f1-score</th>\n",
       "      <td>0.899</td>\n",
       "      <td>0.270</td>\n",
       "      <td>0.822</td>\n",
       "      <td>0.584</td>\n",
       "      <td>0.776</td>\n",
       "    </tr>\n",
       "    <tr>\n",
       "      <th>precision</th>\n",
       "      <td>0.830</td>\n",
       "      <td>0.663</td>\n",
       "      <td>0.822</td>\n",
       "      <td>0.747</td>\n",
       "      <td>0.798</td>\n",
       "    </tr>\n",
       "    <tr>\n",
       "      <th>recall</th>\n",
       "      <td>0.979</td>\n",
       "      <td>0.169</td>\n",
       "      <td>0.822</td>\n",
       "      <td>0.574</td>\n",
       "      <td>0.822</td>\n",
       "    </tr>\n",
       "    <tr>\n",
       "      <th>support</th>\n",
       "      <td>7377.000</td>\n",
       "      <td>1779.000</td>\n",
       "      <td>9156.000</td>\n",
       "      <td>9156.000</td>\n",
       "      <td>9156.000</td>\n",
       "    </tr>\n",
       "  </tbody>\n",
       "</table>\n",
       "</div>"
      ],
      "text/plain": [
       "                  0         1  micro avg  macro avg  weighted avg\n",
       "f1-score      0.899     0.270      0.822      0.584         0.776\n",
       "precision     0.830     0.663      0.822      0.747         0.798\n",
       "recall        0.979     0.169      0.822      0.574         0.822\n",
       "support    7377.000  1779.000   9156.000   9156.000      9156.000"
      ]
     },
     "metadata": {},
     "output_type": "display_data"
    },
    {
     "name": "stderr",
     "output_type": "stream",
     "text": [
      "INFO - 2019-03-27 19:21:49,828 - instantiating class <class 'PatientVec.models.Model.Model'> from params {'type': 'seq_classifier_with_structured_attention', 'embedder': {'type': 'token_embedder', 'vocab_size': 32246, 'embed_size': 200, 'embedding_file': './preprocess/Readmission/embedding_matrix.npy'}, 'decoder': {'num_layers': 2, 'hidden_dims': [128, 1], 'activations': ['tanh', 'linear']}, 'predictor': {'type': 'binary'}, 'structured': {'use_structured': True, 'structured_dim': 142}, 'encoder': {'type': 'lstm', 'hidden_size': 128}, 'attention': {'similarity': {'type': 'additive', 'hidden_size': 128, 'tensor_2_dim': 142}}} and extras {}\n",
      "INFO - 2019-03-27 19:21:49,829 - type = seq_classifier_with_structured_attention\n",
      "INFO - 2019-03-27 19:21:49,829 - instantiating class <class 'PatientVec.models.modules.Embedder.Embedder'> from params {'type': 'token_embedder', 'vocab_size': 32246, 'embed_size': 200, 'embedding_file': './preprocess/Readmission/embedding_matrix.npy'} and extras {}\n",
      "INFO - 2019-03-27 19:21:49,829 - embedder.type = token_embedder\n",
      "INFO - 2019-03-27 19:21:49,830 - instantiating class <class 'PatientVec.models.modules.Embedder.TokenEmbedder'> from params {'vocab_size': 32246, 'embed_size': 200, 'embedding_file': './preprocess/Readmission/embedding_matrix.npy'} and extras {}\n",
      "INFO - 2019-03-27 19:21:49,830 - embedder.vocab_size = 32246\n",
      "INFO - 2019-03-27 19:21:49,830 - embedder.embed_size = 200\n",
      "INFO - 2019-03-27 19:21:49,830 - embedder.embedding_file = ./preprocess/Readmission/embedding_matrix.npy\n",
      "INFO - 2019-03-27 19:21:49,845 - instantiating class <class 'PatientVec.models.modules.Encoder.Encoder'> from params {'type': 'lstm', 'hidden_size': 128} and extras {'input_size': 200}\n",
      "INFO - 2019-03-27 19:21:49,846 - encoder.type = lstm\n",
      "INFO - 2019-03-27 19:21:49,846 - instantiating class <class 'PatientVec.models.modules.Encoder.wrap_pytorch_rnn.<locals>.BiRNNEncoder'> from params {'hidden_size': 128} and extras {'input_size': 200}\n",
      "INFO - 2019-03-27 19:21:49,846 - encoder.hidden_size = 128\n",
      "INFO - 2019-03-27 19:21:49,849 - instantiating class <class 'PatientVec.models.modules.Attention.Attention'> from params {'similarity': {'type': 'additive', 'hidden_size': 128, 'tensor_2_dim': 142, 'tensor_1_dim': 256}} and extras {}\n",
      "INFO - 2019-03-27 19:21:49,849 - instantiating class <class 'PatientVec.models.modules.BiSimilarity.BiSimilarity'> from params {'type': 'additive', 'hidden_size': 128, 'tensor_2_dim': 142, 'tensor_1_dim': 256} and extras {}\n",
      "INFO - 2019-03-27 19:21:49,850 - attention.similarity.type = additive\n",
      "INFO - 2019-03-27 19:21:49,850 - instantiating class <class 'PatientVec.models.modules.BiSimilarity.BiAdditiveSimilarity'> from params {'hidden_size': 128, 'tensor_2_dim': 142, 'tensor_1_dim': 256} and extras {}\n",
      "INFO - 2019-03-27 19:21:49,850 - attention.similarity.tensor_1_dim = 256\n",
      "INFO - 2019-03-27 19:21:49,850 - attention.similarity.tensor_2_dim = 142\n",
      "INFO - 2019-03-27 19:21:49,851 - attention.similarity.hidden_size = 128\n",
      "INFO - 2019-03-27 19:21:49,852 - attention.normaliser = softmax\n",
      "INFO - 2019-03-27 19:21:49,852 - decoder.input_dim = 398\n",
      "INFO - 2019-03-27 19:21:49,853 - decoder.num_layers = 2\n",
      "INFO - 2019-03-27 19:21:49,853 - decoder.hidden_dims = [128, 1]\n",
      "INFO - 2019-03-27 19:21:49,853 - decoder.activations = ['tanh', 'linear']\n",
      "INFO - 2019-03-27 19:21:49,853 - decoder.dropout = 0.0\n",
      "INFO - 2019-03-27 19:21:49,855 - instantiating class <class 'PatientVec.models.modules.Predictor.Predictor'> from params {'type': 'binary'} and extras {}\n",
      "INFO - 2019-03-27 19:21:49,855 - predictor.type = binary\n",
      "INFO - 2019-03-27 19:21:49,855 - instantiating class <class 'PatientVec.models.modules.Predictor.Binary_Predictor'> from params {} and extras {}\n",
      "INFO - 2019-03-27 19:21:49,856 - predictor.replicate = False\n",
      "INFO - 2019-03-27 19:21:49,856 - predictor.alpha = 0.5\n",
      "INFO - 2019-03-27 19:21:49,876 - instantiating class <class 'PatientVec.models.Model.Model'> from params {'type': 'seq_classifier_with_structured_attention', 'embedder': {'type': 'token_embedder', 'vocab_size': 32246, 'embed_size': 200, 'embedding_file': 'preprocess/Readmission//embedding_matrix.npy'}, 'decoder': {'num_layers': 2, 'hidden_dims': [128, 1], 'activations': ['tanh', 'linear']}, 'predictor': {'type': 'binary'}, 'structured': {'use_structured': True, 'structured_dim': 142}, 'encoder': {'type': 'lstm', 'hidden_size': 128}, 'attention': {'similarity': {'type': 'additive', 'hidden_size': 128, 'tensor_2_dim': 142}}} and extras {}\n",
      "INFO - 2019-03-27 19:21:49,876 - type = seq_classifier_with_structured_attention\n",
      "INFO - 2019-03-27 19:21:49,877 - instantiating class <class 'PatientVec.models.modules.Embedder.Embedder'> from params {'type': 'token_embedder', 'vocab_size': 32246, 'embed_size': 200, 'embedding_file': 'preprocess/Readmission//embedding_matrix.npy'} and extras {}\n",
      "INFO - 2019-03-27 19:21:49,877 - embedder.type = token_embedder\n",
      "INFO - 2019-03-27 19:21:49,877 - instantiating class <class 'PatientVec.models.modules.Embedder.TokenEmbedder'> from params {'vocab_size': 32246, 'embed_size': 200, 'embedding_file': 'preprocess/Readmission//embedding_matrix.npy'} and extras {}\n",
      "INFO - 2019-03-27 19:21:49,878 - embedder.vocab_size = 32246\n",
      "INFO - 2019-03-27 19:21:49,878 - embedder.embed_size = 200\n",
      "INFO - 2019-03-27 19:21:49,878 - embedder.embedding_file = preprocess/Readmission//embedding_matrix.npy\n",
      "INFO - 2019-03-27 19:21:49,893 - instantiating class <class 'PatientVec.models.modules.Encoder.Encoder'> from params {'type': 'lstm', 'hidden_size': 128} and extras {'input_size': 200}\n",
      "INFO - 2019-03-27 19:21:49,893 - encoder.type = lstm\n",
      "INFO - 2019-03-27 19:21:49,893 - instantiating class <class 'PatientVec.models.modules.Encoder.wrap_pytorch_rnn.<locals>.BiRNNEncoder'> from params {'hidden_size': 128} and extras {'input_size': 200}\n",
      "INFO - 2019-03-27 19:21:49,893 - encoder.hidden_size = 128\n",
      "INFO - 2019-03-27 19:21:49,896 - instantiating class <class 'PatientVec.models.modules.Attention.Attention'> from params {'similarity': {'type': 'additive', 'hidden_size': 128, 'tensor_2_dim': 142, 'tensor_1_dim': 256}} and extras {}\n",
      "INFO - 2019-03-27 19:21:49,896 - instantiating class <class 'PatientVec.models.modules.BiSimilarity.BiSimilarity'> from params {'type': 'additive', 'hidden_size': 128, 'tensor_2_dim': 142, 'tensor_1_dim': 256} and extras {}\n",
      "INFO - 2019-03-27 19:21:49,897 - attention.similarity.type = additive\n",
      "INFO - 2019-03-27 19:21:49,897 - instantiating class <class 'PatientVec.models.modules.BiSimilarity.BiAdditiveSimilarity'> from params {'hidden_size': 128, 'tensor_2_dim': 142, 'tensor_1_dim': 256} and extras {}\n",
      "INFO - 2019-03-27 19:21:49,897 - attention.similarity.tensor_1_dim = 256\n",
      "INFO - 2019-03-27 19:21:49,897 - attention.similarity.tensor_2_dim = 142\n",
      "INFO - 2019-03-27 19:21:49,898 - attention.similarity.hidden_size = 128\n",
      "INFO - 2019-03-27 19:21:49,899 - attention.normaliser = softmax\n",
      "INFO - 2019-03-27 19:21:49,899 - decoder.input_dim = 398\n",
      "INFO - 2019-03-27 19:21:49,900 - decoder.num_layers = 2\n",
      "INFO - 2019-03-27 19:21:49,900 - decoder.hidden_dims = [128, 1]\n",
      "INFO - 2019-03-27 19:21:49,900 - decoder.activations = ['tanh', 'linear']\n",
      "INFO - 2019-03-27 19:21:49,900 - decoder.dropout = 0.0\n",
      "INFO - 2019-03-27 19:21:49,902 - instantiating class <class 'PatientVec.models.modules.Predictor.Predictor'> from params {'type': 'binary'} and extras {}\n",
      "INFO - 2019-03-27 19:21:49,902 - predictor.type = binary\n",
      "INFO - 2019-03-27 19:21:49,902 - instantiating class <class 'PatientVec.models.modules.Predictor.Binary_Predictor'> from params {} and extras {}\n",
      "INFO - 2019-03-27 19:21:49,903 - predictor.replicate = False\n",
      "INFO - 2019-03-27 19:21:49,903 - predictor.alpha = 0.5\n"
     ]
    },
    {
     "name": "stdout",
     "output_type": "stream",
     "text": [
      "============================================================================================================================================================================================================================================================================================================\n",
      "{'model': {'type': 'seq_classifier_with_structured_attention', 'embedder': {'type': 'token_embedder', 'vocab_size': 32246, 'embed_size': 200, 'embedding_file': './preprocess/Readmission/embedding_matrix.npy'}, 'decoder': {'num_layers': 2, 'hidden_dims': [128, 1], 'activations': ['tanh', 'linear']}, 'predictor': {'type': 'binary'}, 'structured': {'use_structured': True, 'structured_dim': 142}, 'encoder': {'type': 'lstm', 'hidden_size': 128}, 'attention': {'similarity': {'type': 'additive', 'hidden_size': 128, 'tensor_2_dim': 142}}}, 'training_config': {'type': 'Adam', 'groups': [('.*', {'lr': 0.001, 'weight_decay': 1e-05})], 'common': {'bsize': 32, 'class_weight': True}}, 'exp_config': {'exp_name': 'Readmission/Structured Attention/LSTM(hs=128)+Attention(additive)(all)(hs=128)+Structured', 'basepath': 'outputs/'}}\n",
      "Setting Embedding\n",
      "Setting Embedding\n"
     ]
    },
    {
     "data": {
      "application/vnd.jupyter.widget-view+json": {
       "model_id": "57bbd2ed47344a01b08dab757d9da539",
       "version_major": 2,
       "version_minor": 0
      },
      "text/plain": [
       "HBox(children=(IntProgress(value=0, max=234), HTML(value='')))"
      ]
     },
     "metadata": {},
     "output_type": "display_data"
    },
    {
     "name": "stdout",
     "output_type": "stream",
     "text": [
      "\n",
      "{'accuracy': 0.8078982597054887, 'roc_auc': 0.7599746843774982, 'pr_auc': 0.4914011787632679}\n"
     ]
    },
    {
     "data": {
      "text/html": [
       "<div>\n",
       "<style scoped>\n",
       "    .dataframe tbody tr th:only-of-type {\n",
       "        vertical-align: middle;\n",
       "    }\n",
       "\n",
       "    .dataframe tbody tr th {\n",
       "        vertical-align: top;\n",
       "    }\n",
       "\n",
       "    .dataframe thead th {\n",
       "        text-align: right;\n",
       "    }\n",
       "</style>\n",
       "<table border=\"1\" class=\"dataframe\">\n",
       "  <thead>\n",
       "    <tr style=\"text-align: right;\">\n",
       "      <th></th>\n",
       "      <th>0</th>\n",
       "      <th>1</th>\n",
       "      <th>micro avg</th>\n",
       "      <th>macro avg</th>\n",
       "      <th>weighted avg</th>\n",
       "    </tr>\n",
       "  </thead>\n",
       "  <tbody>\n",
       "    <tr>\n",
       "      <th>f1-score</th>\n",
       "      <td>0.888</td>\n",
       "      <td>0.328</td>\n",
       "      <td>0.808</td>\n",
       "      <td>0.608</td>\n",
       "      <td>0.771</td>\n",
       "    </tr>\n",
       "    <tr>\n",
       "      <th>precision</th>\n",
       "      <td>0.824</td>\n",
       "      <td>0.613</td>\n",
       "      <td>0.808</td>\n",
       "      <td>0.718</td>\n",
       "      <td>0.780</td>\n",
       "    </tr>\n",
       "    <tr>\n",
       "      <th>recall</th>\n",
       "      <td>0.963</td>\n",
       "      <td>0.224</td>\n",
       "      <td>0.808</td>\n",
       "      <td>0.593</td>\n",
       "      <td>0.808</td>\n",
       "    </tr>\n",
       "    <tr>\n",
       "      <th>support</th>\n",
       "      <td>5906.000</td>\n",
       "      <td>1564.000</td>\n",
       "      <td>7470.000</td>\n",
       "      <td>7470.000</td>\n",
       "      <td>7470.000</td>\n",
       "    </tr>\n",
       "  </tbody>\n",
       "</table>\n",
       "</div>"
      ],
      "text/plain": [
       "                  0         1  micro avg  macro avg  weighted avg\n",
       "f1-score      0.888     0.328      0.808      0.608         0.771\n",
       "precision     0.824     0.613      0.808      0.718         0.780\n",
       "recall        0.963     0.224      0.808      0.593         0.808\n",
       "support    5906.000  1564.000   7470.000   7470.000      7470.000"
      ]
     },
     "metadata": {},
     "output_type": "display_data"
    },
    {
     "data": {
      "application/vnd.jupyter.widget-view+json": {
       "model_id": "fffa0e0759904a8ea577c9bb9e39b2d7",
       "version_major": 2,
       "version_minor": 0
      },
      "text/plain": [
       "HBox(children=(IntProgress(value=0, max=287), HTML(value='')))"
      ]
     },
     "metadata": {},
     "output_type": "display_data"
    },
    {
     "name": "stdout",
     "output_type": "stream",
     "text": [
      "\n",
      "{'accuracy': 0.8143294014853648, 'roc_auc': 0.7590404309521953, 'pr_auc': 0.45969453662219467}\n"
     ]
    },
    {
     "data": {
      "text/html": [
       "<div>\n",
       "<style scoped>\n",
       "    .dataframe tbody tr th:only-of-type {\n",
       "        vertical-align: middle;\n",
       "    }\n",
       "\n",
       "    .dataframe tbody tr th {\n",
       "        vertical-align: top;\n",
       "    }\n",
       "\n",
       "    .dataframe thead th {\n",
       "        text-align: right;\n",
       "    }\n",
       "</style>\n",
       "<table border=\"1\" class=\"dataframe\">\n",
       "  <thead>\n",
       "    <tr style=\"text-align: right;\">\n",
       "      <th></th>\n",
       "      <th>0</th>\n",
       "      <th>1</th>\n",
       "      <th>micro avg</th>\n",
       "      <th>macro avg</th>\n",
       "      <th>weighted avg</th>\n",
       "    </tr>\n",
       "  </thead>\n",
       "  <tbody>\n",
       "    <tr>\n",
       "      <th>f1-score</th>\n",
       "      <td>0.893</td>\n",
       "      <td>0.295</td>\n",
       "      <td>0.814</td>\n",
       "      <td>0.594</td>\n",
       "      <td>0.777</td>\n",
       "    </tr>\n",
       "    <tr>\n",
       "      <th>precision</th>\n",
       "      <td>0.833</td>\n",
       "      <td>0.563</td>\n",
       "      <td>0.814</td>\n",
       "      <td>0.698</td>\n",
       "      <td>0.780</td>\n",
       "    </tr>\n",
       "    <tr>\n",
       "      <th>recall</th>\n",
       "      <td>0.963</td>\n",
       "      <td>0.200</td>\n",
       "      <td>0.814</td>\n",
       "      <td>0.581</td>\n",
       "      <td>0.814</td>\n",
       "    </tr>\n",
       "    <tr>\n",
       "      <th>support</th>\n",
       "      <td>7377.000</td>\n",
       "      <td>1779.000</td>\n",
       "      <td>9156.000</td>\n",
       "      <td>9156.000</td>\n",
       "      <td>9156.000</td>\n",
       "    </tr>\n",
       "  </tbody>\n",
       "</table>\n",
       "</div>"
      ],
      "text/plain": [
       "                  0         1  micro avg  macro avg  weighted avg\n",
       "f1-score      0.893     0.295      0.814      0.594         0.777\n",
       "precision     0.833     0.563      0.814      0.698         0.780\n",
       "recall        0.963     0.200      0.814      0.581         0.814\n",
       "support    7377.000  1779.000   9156.000   9156.000      9156.000"
      ]
     },
     "metadata": {},
     "output_type": "display_data"
    },
    {
     "name": "stderr",
     "output_type": "stream",
     "text": [
      "INFO - 2019-03-27 19:25:47,743 - instantiating class <class 'PatientVec.models.Model.Model'> from params {'type': 'seq_classifier_with_structured_attention', 'embedder': {'type': 'token_embedder', 'vocab_size': 32246, 'embed_size': 200, 'embedding_file': './preprocess/Readmission/embedding_matrix.npy'}, 'decoder': {'num_layers': 2, 'hidden_dims': [128, 1], 'activations': ['tanh', 'linear']}, 'predictor': {'type': 'binary'}, 'structured': {'use_structured': True, 'structured_dim': 142}, 'encoder': {'type': 'cnn', 'hidden_size': 64, 'kernel_sizes': [3, 5, 7, 9], 'activation': 'relu'}, 'attention': {'similarity': {'type': 'additive', 'hidden_size': 128, 'tensor_2_dim': 142}}} and extras {}\n",
      "INFO - 2019-03-27 19:25:47,743 - type = seq_classifier_with_structured_attention\n",
      "INFO - 2019-03-27 19:25:47,744 - instantiating class <class 'PatientVec.models.modules.Embedder.Embedder'> from params {'type': 'token_embedder', 'vocab_size': 32246, 'embed_size': 200, 'embedding_file': './preprocess/Readmission/embedding_matrix.npy'} and extras {}\n",
      "INFO - 2019-03-27 19:25:47,744 - embedder.type = token_embedder\n",
      "INFO - 2019-03-27 19:25:47,745 - instantiating class <class 'PatientVec.models.modules.Embedder.TokenEmbedder'> from params {'vocab_size': 32246, 'embed_size': 200, 'embedding_file': './preprocess/Readmission/embedding_matrix.npy'} and extras {}\n",
      "INFO - 2019-03-27 19:25:47,745 - embedder.vocab_size = 32246\n",
      "INFO - 2019-03-27 19:25:47,745 - embedder.embed_size = 200\n",
      "INFO - 2019-03-27 19:25:47,746 - embedder.embedding_file = ./preprocess/Readmission/embedding_matrix.npy\n",
      "INFO - 2019-03-27 19:25:47,762 - instantiating class <class 'PatientVec.models.modules.Encoder.Encoder'> from params {'type': 'cnn', 'hidden_size': 64, 'kernel_sizes': [3, 5, 7, 9], 'activation': 'relu'} and extras {'input_size': 200}\n",
      "INFO - 2019-03-27 19:25:47,763 - encoder.type = cnn\n",
      "INFO - 2019-03-27 19:25:47,763 - instantiating class <class 'PatientVec.models.modules.Encoder.CNNEncoder'> from params {'hidden_size': 64, 'kernel_sizes': [3, 5, 7, 9], 'activation': 'relu'} and extras {'input_size': 200}\n",
      "INFO - 2019-03-27 19:25:47,764 - encoder.hidden_size = 64\n",
      "INFO - 2019-03-27 19:25:47,764 - encoder.kernel_sizes = [3, 5, 7, 9]\n",
      "INFO - 2019-03-27 19:25:47,765 - encoder.activation = relu\n",
      "INFO - 2019-03-27 19:25:47,768 - instantiating class <class 'PatientVec.models.modules.Attention.Attention'> from params {'similarity': {'type': 'additive', 'hidden_size': 128, 'tensor_2_dim': 142, 'tensor_1_dim': 256}} and extras {}\n",
      "INFO - 2019-03-27 19:25:47,768 - instantiating class <class 'PatientVec.models.modules.BiSimilarity.BiSimilarity'> from params {'type': 'additive', 'hidden_size': 128, 'tensor_2_dim': 142, 'tensor_1_dim': 256} and extras {}\n",
      "INFO - 2019-03-27 19:25:47,768 - attention.similarity.type = additive\n",
      "INFO - 2019-03-27 19:25:47,768 - instantiating class <class 'PatientVec.models.modules.BiSimilarity.BiAdditiveSimilarity'> from params {'hidden_size': 128, 'tensor_2_dim': 142, 'tensor_1_dim': 256} and extras {}\n",
      "INFO - 2019-03-27 19:25:47,769 - attention.similarity.tensor_1_dim = 256\n",
      "INFO - 2019-03-27 19:25:47,769 - attention.similarity.tensor_2_dim = 142\n",
      "INFO - 2019-03-27 19:25:47,769 - attention.similarity.hidden_size = 128\n",
      "INFO - 2019-03-27 19:25:47,771 - attention.normaliser = softmax\n",
      "INFO - 2019-03-27 19:25:47,772 - decoder.input_dim = 398\n",
      "INFO - 2019-03-27 19:25:47,772 - decoder.num_layers = 2\n",
      "INFO - 2019-03-27 19:25:47,772 - decoder.hidden_dims = [128, 1]\n",
      "INFO - 2019-03-27 19:25:47,772 - decoder.activations = ['tanh', 'linear']\n",
      "INFO - 2019-03-27 19:25:47,773 - decoder.dropout = 0.0\n",
      "INFO - 2019-03-27 19:25:47,774 - instantiating class <class 'PatientVec.models.modules.Predictor.Predictor'> from params {'type': 'binary'} and extras {}\n",
      "INFO - 2019-03-27 19:25:47,774 - predictor.type = binary\n",
      "INFO - 2019-03-27 19:25:47,775 - instantiating class <class 'PatientVec.models.modules.Predictor.Binary_Predictor'> from params {} and extras {}\n",
      "INFO - 2019-03-27 19:25:47,775 - predictor.replicate = False\n",
      "INFO - 2019-03-27 19:25:47,775 - predictor.alpha = 0.5\n",
      "INFO - 2019-03-27 19:25:47,798 - instantiating class <class 'PatientVec.models.Model.Model'> from params {'type': 'seq_classifier_with_structured_attention', 'embedder': {'type': 'token_embedder', 'vocab_size': 32246, 'embed_size': 200, 'embedding_file': 'preprocess/Readmission//embedding_matrix.npy'}, 'decoder': {'num_layers': 2, 'hidden_dims': [128, 1], 'activations': ['tanh', 'linear']}, 'predictor': {'type': 'binary'}, 'structured': {'use_structured': True, 'structured_dim': 142}, 'encoder': {'type': 'cnn', 'hidden_size': 64, 'kernel_sizes': [3, 5, 7, 9], 'activation': 'relu'}, 'attention': {'similarity': {'type': 'additive', 'hidden_size': 128, 'tensor_2_dim': 142}}} and extras {}\n",
      "INFO - 2019-03-27 19:25:47,799 - type = seq_classifier_with_structured_attention\n",
      "INFO - 2019-03-27 19:25:47,799 - instantiating class <class 'PatientVec.models.modules.Embedder.Embedder'> from params {'type': 'token_embedder', 'vocab_size': 32246, 'embed_size': 200, 'embedding_file': 'preprocess/Readmission//embedding_matrix.npy'} and extras {}\n",
      "INFO - 2019-03-27 19:25:47,799 - embedder.type = token_embedder\n",
      "INFO - 2019-03-27 19:25:47,799 - instantiating class <class 'PatientVec.models.modules.Embedder.TokenEmbedder'> from params {'vocab_size': 32246, 'embed_size': 200, 'embedding_file': 'preprocess/Readmission//embedding_matrix.npy'} and extras {}\n",
      "INFO - 2019-03-27 19:25:47,800 - embedder.vocab_size = 32246\n",
      "INFO - 2019-03-27 19:25:47,800 - embedder.embed_size = 200\n",
      "INFO - 2019-03-27 19:25:47,800 - embedder.embedding_file = preprocess/Readmission//embedding_matrix.npy\n",
      "INFO - 2019-03-27 19:25:47,815 - instantiating class <class 'PatientVec.models.modules.Encoder.Encoder'> from params {'type': 'cnn', 'hidden_size': 64, 'kernel_sizes': [3, 5, 7, 9], 'activation': 'relu'} and extras {'input_size': 200}\n",
      "INFO - 2019-03-27 19:25:47,815 - encoder.type = cnn\n",
      "INFO - 2019-03-27 19:25:47,815 - instantiating class <class 'PatientVec.models.modules.Encoder.CNNEncoder'> from params {'hidden_size': 64, 'kernel_sizes': [3, 5, 7, 9], 'activation': 'relu'} and extras {'input_size': 200}\n",
      "INFO - 2019-03-27 19:25:47,816 - encoder.hidden_size = 64\n",
      "INFO - 2019-03-27 19:25:47,816 - encoder.kernel_sizes = [3, 5, 7, 9]\n",
      "INFO - 2019-03-27 19:25:47,816 - encoder.activation = relu\n",
      "INFO - 2019-03-27 19:25:47,819 - instantiating class <class 'PatientVec.models.modules.Attention.Attention'> from params {'similarity': {'type': 'additive', 'hidden_size': 128, 'tensor_2_dim': 142, 'tensor_1_dim': 256}} and extras {}\n",
      "INFO - 2019-03-27 19:25:47,819 - instantiating class <class 'PatientVec.models.modules.BiSimilarity.BiSimilarity'> from params {'type': 'additive', 'hidden_size': 128, 'tensor_2_dim': 142, 'tensor_1_dim': 256} and extras {}\n",
      "INFO - 2019-03-27 19:25:47,819 - attention.similarity.type = additive\n",
      "INFO - 2019-03-27 19:25:47,820 - instantiating class <class 'PatientVec.models.modules.BiSimilarity.BiAdditiveSimilarity'> from params {'hidden_size': 128, 'tensor_2_dim': 142, 'tensor_1_dim': 256} and extras {}\n",
      "INFO - 2019-03-27 19:25:47,820 - attention.similarity.tensor_1_dim = 256\n",
      "INFO - 2019-03-27 19:25:47,820 - attention.similarity.tensor_2_dim = 142\n",
      "INFO - 2019-03-27 19:25:47,820 - attention.similarity.hidden_size = 128\n",
      "INFO - 2019-03-27 19:25:47,822 - attention.normaliser = softmax\n",
      "INFO - 2019-03-27 19:25:47,823 - decoder.input_dim = 398\n",
      "INFO - 2019-03-27 19:25:47,823 - decoder.num_layers = 2\n",
      "INFO - 2019-03-27 19:25:47,823 - decoder.hidden_dims = [128, 1]\n",
      "INFO - 2019-03-27 19:25:47,823 - decoder.activations = ['tanh', 'linear']\n",
      "INFO - 2019-03-27 19:25:47,823 - decoder.dropout = 0.0\n",
      "INFO - 2019-03-27 19:25:47,825 - instantiating class <class 'PatientVec.models.modules.Predictor.Predictor'> from params {'type': 'binary'} and extras {}\n",
      "INFO - 2019-03-27 19:25:47,825 - predictor.type = binary\n",
      "INFO - 2019-03-27 19:25:47,825 - instantiating class <class 'PatientVec.models.modules.Predictor.Binary_Predictor'> from params {} and extras {}\n",
      "INFO - 2019-03-27 19:25:47,825 - predictor.replicate = False\n",
      "INFO - 2019-03-27 19:25:47,826 - predictor.alpha = 0.5\n"
     ]
    },
    {
     "name": "stdout",
     "output_type": "stream",
     "text": [
      "============================================================================================================================================================================================================================================================================================================\n",
      "{'model': {'type': 'seq_classifier_with_structured_attention', 'embedder': {'type': 'token_embedder', 'vocab_size': 32246, 'embed_size': 200, 'embedding_file': './preprocess/Readmission/embedding_matrix.npy'}, 'decoder': {'num_layers': 2, 'hidden_dims': [128, 1], 'activations': ['tanh', 'linear']}, 'predictor': {'type': 'binary'}, 'structured': {'use_structured': True, 'structured_dim': 142}, 'encoder': {'type': 'cnn', 'hidden_size': 64, 'kernel_sizes': [3, 5, 7, 9], 'activation': 'relu'}, 'attention': {'similarity': {'type': 'additive', 'hidden_size': 128, 'tensor_2_dim': 142}}}, 'training_config': {'type': 'Adam', 'groups': [('.*', {'lr': 0.001, 'weight_decay': 1e-05})], 'common': {'bsize': 32, 'class_weight': True}}, 'exp_config': {'exp_name': 'Readmission/Structured Attention/CNN(hs=64)(kernels=3,5,7,9)+Attention(additive)(all)(hs=128)+Structured', 'basepath': 'outputs/'}}\n",
      "Setting Embedding\n",
      "Setting Embedding\n"
     ]
    },
    {
     "data": {
      "application/vnd.jupyter.widget-view+json": {
       "model_id": "15956e9fb7d149bdae80faee41ae886f",
       "version_major": 2,
       "version_minor": 0
      },
      "text/plain": [
       "HBox(children=(IntProgress(value=0, max=234), HTML(value='')))"
      ]
     },
     "metadata": {},
     "output_type": "display_data"
    },
    {
     "name": "stdout",
     "output_type": "stream",
     "text": [
      "\n",
      "{'accuracy': 0.8078982597054887, 'roc_auc': 0.7574006840327968, 'pr_auc': 0.4947706820870835}\n"
     ]
    },
    {
     "data": {
      "text/html": [
       "<div>\n",
       "<style scoped>\n",
       "    .dataframe tbody tr th:only-of-type {\n",
       "        vertical-align: middle;\n",
       "    }\n",
       "\n",
       "    .dataframe tbody tr th {\n",
       "        vertical-align: top;\n",
       "    }\n",
       "\n",
       "    .dataframe thead th {\n",
       "        text-align: right;\n",
       "    }\n",
       "</style>\n",
       "<table border=\"1\" class=\"dataframe\">\n",
       "  <thead>\n",
       "    <tr style=\"text-align: right;\">\n",
       "      <th></th>\n",
       "      <th>0</th>\n",
       "      <th>1</th>\n",
       "      <th>micro avg</th>\n",
       "      <th>macro avg</th>\n",
       "      <th>weighted avg</th>\n",
       "    </tr>\n",
       "  </thead>\n",
       "  <tbody>\n",
       "    <tr>\n",
       "      <th>f1-score</th>\n",
       "      <td>0.887</td>\n",
       "      <td>0.360</td>\n",
       "      <td>0.808</td>\n",
       "      <td>0.624</td>\n",
       "      <td>0.777</td>\n",
       "    </tr>\n",
       "    <tr>\n",
       "      <th>precision</th>\n",
       "      <td>0.829</td>\n",
       "      <td>0.595</td>\n",
       "      <td>0.808</td>\n",
       "      <td>0.712</td>\n",
       "      <td>0.780</td>\n",
       "    </tr>\n",
       "    <tr>\n",
       "      <th>recall</th>\n",
       "      <td>0.953</td>\n",
       "      <td>0.258</td>\n",
       "      <td>0.808</td>\n",
       "      <td>0.606</td>\n",
       "      <td>0.808</td>\n",
       "    </tr>\n",
       "    <tr>\n",
       "      <th>support</th>\n",
       "      <td>5906.000</td>\n",
       "      <td>1564.000</td>\n",
       "      <td>7470.000</td>\n",
       "      <td>7470.000</td>\n",
       "      <td>7470.000</td>\n",
       "    </tr>\n",
       "  </tbody>\n",
       "</table>\n",
       "</div>"
      ],
      "text/plain": [
       "                  0         1  micro avg  macro avg  weighted avg\n",
       "f1-score      0.887     0.360      0.808      0.624         0.777\n",
       "precision     0.829     0.595      0.808      0.712         0.780\n",
       "recall        0.953     0.258      0.808      0.606         0.808\n",
       "support    5906.000  1564.000   7470.000   7470.000      7470.000"
      ]
     },
     "metadata": {},
     "output_type": "display_data"
    },
    {
     "data": {
      "application/vnd.jupyter.widget-view+json": {
       "model_id": "09ecec508264434fbe8a27b8021c9143",
       "version_major": 2,
       "version_minor": 0
      },
      "text/plain": [
       "HBox(children=(IntProgress(value=0, max=287), HTML(value='')))"
      ]
     },
     "metadata": {},
     "output_type": "display_data"
    },
    {
     "name": "stdout",
     "output_type": "stream",
     "text": [
      "\n",
      "{'accuracy': 0.8192442114460463, 'roc_auc': 0.7568504207241213, 'pr_auc': 0.4707610354566091}\n"
     ]
    },
    {
     "data": {
      "text/html": [
       "<div>\n",
       "<style scoped>\n",
       "    .dataframe tbody tr th:only-of-type {\n",
       "        vertical-align: middle;\n",
       "    }\n",
       "\n",
       "    .dataframe tbody tr th {\n",
       "        vertical-align: top;\n",
       "    }\n",
       "\n",
       "    .dataframe thead th {\n",
       "        text-align: right;\n",
       "    }\n",
       "</style>\n",
       "<table border=\"1\" class=\"dataframe\">\n",
       "  <thead>\n",
       "    <tr style=\"text-align: right;\">\n",
       "      <th></th>\n",
       "      <th>0</th>\n",
       "      <th>1</th>\n",
       "      <th>micro avg</th>\n",
       "      <th>macro avg</th>\n",
       "      <th>weighted avg</th>\n",
       "    </tr>\n",
       "  </thead>\n",
       "  <tbody>\n",
       "    <tr>\n",
       "      <th>f1-score</th>\n",
       "      <td>0.895</td>\n",
       "      <td>0.339</td>\n",
       "      <td>0.819</td>\n",
       "      <td>0.617</td>\n",
       "      <td>0.787</td>\n",
       "    </tr>\n",
       "    <tr>\n",
       "      <th>precision</th>\n",
       "      <td>0.839</td>\n",
       "      <td>0.585</td>\n",
       "      <td>0.819</td>\n",
       "      <td>0.712</td>\n",
       "      <td>0.790</td>\n",
       "    </tr>\n",
       "    <tr>\n",
       "      <th>recall</th>\n",
       "      <td>0.959</td>\n",
       "      <td>0.239</td>\n",
       "      <td>0.819</td>\n",
       "      <td>0.599</td>\n",
       "      <td>0.819</td>\n",
       "    </tr>\n",
       "    <tr>\n",
       "      <th>support</th>\n",
       "      <td>7377.000</td>\n",
       "      <td>1779.000</td>\n",
       "      <td>9156.000</td>\n",
       "      <td>9156.000</td>\n",
       "      <td>9156.000</td>\n",
       "    </tr>\n",
       "  </tbody>\n",
       "</table>\n",
       "</div>"
      ],
      "text/plain": [
       "                  0         1  micro avg  macro avg  weighted avg\n",
       "f1-score      0.895     0.339      0.819      0.617         0.787\n",
       "precision     0.839     0.585      0.819      0.712         0.790\n",
       "recall        0.959     0.239      0.819      0.599         0.819\n",
       "support    7377.000  1779.000   9156.000   9156.000      9156.000"
      ]
     },
     "metadata": {},
     "output_type": "display_data"
    },
    {
     "name": "stdout",
     "output_type": "stream",
     "text": [
      "============================================================================================================================================================================================================================================================================================================\n",
      "Pos Percentage [0.19738451]\n"
     ]
    },
    {
     "name": "stderr",
     "output_type": "stream",
     "text": [
      "INFO - 2019-03-27 19:28:12,500 - Maximum Sentence Length 721825.000000 , 90 percentile length 18689.000000 ... \n",
      "INFO - 2019-03-27 19:28:24,475 - Truncated all ...\n",
      "INFO - 2019-03-27 19:28:24,537 - Idxs removed [1249]...\n"
     ]
    },
    {
     "name": "stdout",
     "output_type": "stream",
     "text": [
      "Pos Percentage [0.20937082]\n"
     ]
    },
    {
     "name": "stderr",
     "output_type": "stream",
     "text": [
      "INFO - 2019-03-27 19:28:26,043 - Maximum Sentence Length 588265.000000 , 90 percentile length 19174.000000 ... \n",
      "INFO - 2019-03-27 19:28:27,953 - Truncated all ...\n",
      "INFO - 2019-03-27 19:28:27,968 - Idxs removed []...\n"
     ]
    },
    {
     "name": "stdout",
     "output_type": "stream",
     "text": [
      "Pos Percentage [0.19429882]\n"
     ]
    },
    {
     "name": "stderr",
     "output_type": "stream",
     "text": [
      "INFO - 2019-03-27 19:28:29,618 - Maximum Sentence Length 496156.000000 , 90 percentile length 18936.000000 ... \n",
      "INFO - 2019-03-27 19:28:31,872 - Truncated all ...\n",
      "INFO - 2019-03-27 19:28:31,889 - Idxs removed []...\n",
      "INFO - 2019-03-27 19:28:31,965 - instantiating class <class 'PatientVec.models.Model.Model'> from params {'type': 'seq_classifier_with_structured_attention', 'embedder': {'type': 'token_embedder', 'vocab_size': 32246, 'embed_size': 200, 'embedding_file': './preprocess/Readmission/embedding_matrix.npy'}, 'decoder': {'num_layers': 2, 'hidden_dims': [128, 1], 'activations': ['tanh', 'linear']}, 'predictor': {'type': 'binary'}, 'structured': {'use_structured': True, 'structured_dim': 142}, 'encoder': {'type': 'sru', 'hidden_size': 128}, 'attention': {'similarity': {'type': 'additive', 'hidden_size': 128, 'tensor_2_dim': 142}}} and extras {}\n",
      "INFO - 2019-03-27 19:28:31,965 - type = seq_classifier_with_structured_attention\n",
      "INFO - 2019-03-27 19:28:31,965 - instantiating class <class 'PatientVec.models.modules.Embedder.Embedder'> from params {'type': 'token_embedder', 'vocab_size': 32246, 'embed_size': 200, 'embedding_file': './preprocess/Readmission/embedding_matrix.npy'} and extras {}\n",
      "INFO - 2019-03-27 19:28:31,966 - embedder.type = token_embedder\n",
      "INFO - 2019-03-27 19:28:31,966 - instantiating class <class 'PatientVec.models.modules.Embedder.TokenEmbedder'> from params {'vocab_size': 32246, 'embed_size': 200, 'embedding_file': './preprocess/Readmission/embedding_matrix.npy'} and extras {}\n",
      "INFO - 2019-03-27 19:28:31,967 - embedder.vocab_size = 32246\n",
      "INFO - 2019-03-27 19:28:31,967 - embedder.embed_size = 200\n",
      "INFO - 2019-03-27 19:28:31,967 - embedder.embedding_file = ./preprocess/Readmission/embedding_matrix.npy\n",
      "INFO - 2019-03-27 19:28:31,983 - instantiating class <class 'PatientVec.models.modules.Encoder.Encoder'> from params {'type': 'sru', 'hidden_size': 128} and extras {'input_size': 200}\n",
      "INFO - 2019-03-27 19:28:31,983 - encoder.type = sru\n",
      "INFO - 2019-03-27 19:28:31,983 - instantiating class <class 'PatientVec.models.modules.Encoder.SRUEncoder'> from params {'hidden_size': 128} and extras {'input_size': 200}\n",
      "INFO - 2019-03-27 19:28:31,984 - encoder.hidden_size = 128\n",
      "INFO - 2019-03-27 19:28:31,987 - instantiating class <class 'PatientVec.models.modules.Attention.Attention'> from params {'similarity': {'type': 'additive', 'hidden_size': 128, 'tensor_2_dim': 142, 'tensor_1_dim': 256}} and extras {}\n",
      "INFO - 2019-03-27 19:28:31,987 - instantiating class <class 'PatientVec.models.modules.BiSimilarity.BiSimilarity'> from params {'type': 'additive', 'hidden_size': 128, 'tensor_2_dim': 142, 'tensor_1_dim': 256} and extras {}\n",
      "INFO - 2019-03-27 19:28:31,987 - attention.similarity.type = additive\n",
      "INFO - 2019-03-27 19:28:31,988 - instantiating class <class 'PatientVec.models.modules.BiSimilarity.BiAdditiveSimilarity'> from params {'hidden_size': 128, 'tensor_2_dim': 142, 'tensor_1_dim': 256} and extras {}\n",
      "INFO - 2019-03-27 19:28:31,988 - attention.similarity.tensor_1_dim = 256\n",
      "INFO - 2019-03-27 19:28:31,988 - attention.similarity.tensor_2_dim = 142\n",
      "INFO - 2019-03-27 19:28:31,989 - attention.similarity.hidden_size = 128\n",
      "INFO - 2019-03-27 19:28:31,990 - attention.normaliser = softmax\n",
      "INFO - 2019-03-27 19:28:31,990 - decoder.input_dim = 398\n",
      "INFO - 2019-03-27 19:28:31,990 - decoder.num_layers = 2\n",
      "INFO - 2019-03-27 19:28:31,991 - decoder.hidden_dims = [128, 1]\n",
      "INFO - 2019-03-27 19:28:31,991 - decoder.activations = ['tanh', 'linear']\n",
      "INFO - 2019-03-27 19:28:31,991 - decoder.dropout = 0.0\n",
      "INFO - 2019-03-27 19:28:31,992 - instantiating class <class 'PatientVec.models.modules.Predictor.Predictor'> from params {'type': 'binary'} and extras {}\n",
      "INFO - 2019-03-27 19:28:31,992 - predictor.type = binary\n",
      "INFO - 2019-03-27 19:28:31,993 - instantiating class <class 'PatientVec.models.modules.Predictor.Binary_Predictor'> from params {} and extras {}\n",
      "INFO - 2019-03-27 19:28:31,994 - predictor.replicate = False\n",
      "INFO - 2019-03-27 19:28:31,994 - predictor.alpha = 0.5\n",
      "INFO - 2019-03-27 19:28:32,009 - instantiating class <class 'PatientVec.models.Model.Model'> from params {'type': 'seq_classifier_with_structured_attention', 'embedder': {'type': 'token_embedder', 'vocab_size': 32246, 'embed_size': 200, 'embedding_file': './preprocess/Readmission/embedding_matrix.npy'}, 'decoder': {'num_layers': 2, 'hidden_dims': [128, 1], 'activations': ['tanh', 'linear']}, 'predictor': {'type': 'binary'}, 'structured': {'use_structured': True, 'structured_dim': 142}, 'encoder': {'type': 'sru', 'hidden_size': 128}, 'attention': {'similarity': {'type': 'additive', 'hidden_size': 128, 'tensor_2_dim': 142}}} and extras {}\n",
      "INFO - 2019-03-27 19:28:32,009 - type = seq_classifier_with_structured_attention\n",
      "INFO - 2019-03-27 19:28:32,010 - instantiating class <class 'PatientVec.models.modules.Embedder.Embedder'> from params {'type': 'token_embedder', 'vocab_size': 32246, 'embed_size': 200, 'embedding_file': './preprocess/Readmission/embedding_matrix.npy'} and extras {}\n",
      "INFO - 2019-03-27 19:28:32,010 - embedder.type = token_embedder\n",
      "INFO - 2019-03-27 19:28:32,010 - instantiating class <class 'PatientVec.models.modules.Embedder.TokenEmbedder'> from params {'vocab_size': 32246, 'embed_size': 200, 'embedding_file': './preprocess/Readmission/embedding_matrix.npy'} and extras {}\n",
      "INFO - 2019-03-27 19:28:32,011 - embedder.vocab_size = 32246\n",
      "INFO - 2019-03-27 19:28:32,011 - embedder.embed_size = 200\n",
      "INFO - 2019-03-27 19:28:32,011 - embedder.embedding_file = ./preprocess/Readmission/embedding_matrix.npy\n",
      "INFO - 2019-03-27 19:28:32,025 - instantiating class <class 'PatientVec.models.modules.Encoder.Encoder'> from params {'type': 'sru', 'hidden_size': 128} and extras {'input_size': 200}\n",
      "INFO - 2019-03-27 19:28:32,026 - encoder.type = sru\n",
      "INFO - 2019-03-27 19:28:32,026 - instantiating class <class 'PatientVec.models.modules.Encoder.SRUEncoder'> from params {'hidden_size': 128} and extras {'input_size': 200}\n",
      "INFO - 2019-03-27 19:28:32,027 - encoder.hidden_size = 128\n",
      "INFO - 2019-03-27 19:28:32,029 - instantiating class <class 'PatientVec.models.modules.Attention.Attention'> from params {'similarity': {'type': 'additive', 'hidden_size': 128, 'tensor_2_dim': 142, 'tensor_1_dim': 256}} and extras {}\n",
      "INFO - 2019-03-27 19:28:32,030 - instantiating class <class 'PatientVec.models.modules.BiSimilarity.BiSimilarity'> from params {'type': 'additive', 'hidden_size': 128, 'tensor_2_dim': 142, 'tensor_1_dim': 256} and extras {}\n",
      "INFO - 2019-03-27 19:28:32,030 - attention.similarity.type = additive\n",
      "INFO - 2019-03-27 19:28:32,030 - instantiating class <class 'PatientVec.models.modules.BiSimilarity.BiAdditiveSimilarity'> from params {'hidden_size': 128, 'tensor_2_dim': 142, 'tensor_1_dim': 256} and extras {}\n",
      "INFO - 2019-03-27 19:28:32,030 - attention.similarity.tensor_1_dim = 256\n",
      "INFO - 2019-03-27 19:28:32,031 - attention.similarity.tensor_2_dim = 142\n",
      "INFO - 2019-03-27 19:28:32,031 - attention.similarity.hidden_size = 128\n",
      "INFO - 2019-03-27 19:28:32,032 - attention.normaliser = softmax\n",
      "INFO - 2019-03-27 19:28:32,032 - decoder.input_dim = 398\n",
      "INFO - 2019-03-27 19:28:32,033 - decoder.num_layers = 2\n",
      "INFO - 2019-03-27 19:28:32,033 - decoder.hidden_dims = [128, 1]\n",
      "INFO - 2019-03-27 19:28:32,033 - decoder.activations = ['tanh', 'linear']\n",
      "INFO - 2019-03-27 19:28:32,033 - decoder.dropout = 0.0\n",
      "INFO - 2019-03-27 19:28:32,034 - instantiating class <class 'PatientVec.models.modules.Predictor.Predictor'> from params {'type': 'binary'} and extras {}\n",
      "INFO - 2019-03-27 19:28:32,035 - predictor.type = binary\n",
      "INFO - 2019-03-27 19:28:32,035 - instantiating class <class 'PatientVec.models.modules.Predictor.Binary_Predictor'> from params {} and extras {}\n",
      "INFO - 2019-03-27 19:28:32,035 - predictor.replicate = False\n",
      "INFO - 2019-03-27 19:28:32,035 - predictor.alpha = 0.5\n"
     ]
    },
    {
     "name": "stdout",
     "output_type": "stream",
     "text": [
      "{'model': {'type': 'seq_classifier_with_structured_attention', 'embedder': {'type': 'token_embedder', 'vocab_size': 32246, 'embed_size': 200, 'embedding_file': './preprocess/Readmission/embedding_matrix.npy'}, 'decoder': {'num_layers': 2, 'hidden_dims': [128, 1], 'activations': ['tanh', 'linear']}, 'predictor': {'type': 'binary'}, 'structured': {'use_structured': True, 'structured_dim': 142}, 'encoder': {'type': 'sru', 'hidden_size': 128}, 'attention': {'similarity': {'type': 'additive', 'hidden_size': 128, 'tensor_2_dim': 142}}}, 'training_config': {'type': 'Adam', 'groups': [('.*', {'lr': 0.001, 'weight_decay': 1e-05})], 'common': {'bsize': 32, 'class_weight': True}}, 'exp_config': {'exp_name': 'Readmission/Structured Attention/SRU(hs=128)+Attention(additive)(all)(hs=128)+Structured', 'basepath': 'outputs/'}}\n",
      "Setting Embedding\n",
      "Setting Embedding\n"
     ]
    },
    {
     "data": {
      "application/vnd.jupyter.widget-view+json": {
       "model_id": "2cf48e530bcc4d748945d21389283727",
       "version_major": 2,
       "version_minor": 0
      },
      "text/plain": [
       "HBox(children=(IntProgress(value=0, max=234), HTML(value='')))"
      ]
     },
     "metadata": {},
     "output_type": "display_data"
    },
    {
     "name": "stdout",
     "output_type": "stream",
     "text": [
      "\n",
      "{'accuracy': 0.7139223560910308, 'roc_auc': 0.7636452547714709, 'pr_auc': 0.49295562077444316}\n"
     ]
    },
    {
     "data": {
      "text/html": [
       "<div>\n",
       "<style scoped>\n",
       "    .dataframe tbody tr th:only-of-type {\n",
       "        vertical-align: middle;\n",
       "    }\n",
       "\n",
       "    .dataframe tbody tr th {\n",
       "        vertical-align: top;\n",
       "    }\n",
       "\n",
       "    .dataframe thead th {\n",
       "        text-align: right;\n",
       "    }\n",
       "</style>\n",
       "<table border=\"1\" class=\"dataframe\">\n",
       "  <thead>\n",
       "    <tr style=\"text-align: right;\">\n",
       "      <th></th>\n",
       "      <th>0</th>\n",
       "      <th>1</th>\n",
       "      <th>micro avg</th>\n",
       "      <th>macro avg</th>\n",
       "      <th>weighted avg</th>\n",
       "    </tr>\n",
       "  </thead>\n",
       "  <tbody>\n",
       "    <tr>\n",
       "      <th>f1-score</th>\n",
       "      <td>0.801</td>\n",
       "      <td>0.493</td>\n",
       "      <td>0.714</td>\n",
       "      <td>0.647</td>\n",
       "      <td>0.736</td>\n",
       "    </tr>\n",
       "    <tr>\n",
       "      <th>precision</th>\n",
       "      <td>0.891</td>\n",
       "      <td>0.392</td>\n",
       "      <td>0.714</td>\n",
       "      <td>0.642</td>\n",
       "      <td>0.787</td>\n",
       "    </tr>\n",
       "    <tr>\n",
       "      <th>recall</th>\n",
       "      <td>0.727</td>\n",
       "      <td>0.665</td>\n",
       "      <td>0.714</td>\n",
       "      <td>0.696</td>\n",
       "      <td>0.714</td>\n",
       "    </tr>\n",
       "    <tr>\n",
       "      <th>support</th>\n",
       "      <td>5906.000</td>\n",
       "      <td>1564.000</td>\n",
       "      <td>7470.000</td>\n",
       "      <td>7470.000</td>\n",
       "      <td>7470.000</td>\n",
       "    </tr>\n",
       "  </tbody>\n",
       "</table>\n",
       "</div>"
      ],
      "text/plain": [
       "                  0         1  micro avg  macro avg  weighted avg\n",
       "f1-score      0.801     0.493      0.714      0.647         0.736\n",
       "precision     0.891     0.392      0.714      0.642         0.787\n",
       "recall        0.727     0.665      0.714      0.696         0.714\n",
       "support    5906.000  1564.000   7470.000   7470.000      7470.000"
      ]
     },
     "metadata": {},
     "output_type": "display_data"
    },
    {
     "data": {
      "application/vnd.jupyter.widget-view+json": {
       "model_id": "604d8fcb3b9c4e6f90f0e9f419147d87",
       "version_major": 2,
       "version_minor": 0
      },
      "text/plain": [
       "HBox(children=(IntProgress(value=0, max=287), HTML(value='')))"
      ]
     },
     "metadata": {},
     "output_type": "display_data"
    },
    {
     "name": "stdout",
     "output_type": "stream",
     "text": [
      "\n",
      "{'accuracy': 0.7159239842726082, 'roc_auc': 0.758869099474591, 'pr_auc': 0.4624248887073409}\n"
     ]
    },
    {
     "data": {
      "text/html": [
       "<div>\n",
       "<style scoped>\n",
       "    .dataframe tbody tr th:only-of-type {\n",
       "        vertical-align: middle;\n",
       "    }\n",
       "\n",
       "    .dataframe tbody tr th {\n",
       "        vertical-align: top;\n",
       "    }\n",
       "\n",
       "    .dataframe thead th {\n",
       "        text-align: right;\n",
       "    }\n",
       "</style>\n",
       "<table border=\"1\" class=\"dataframe\">\n",
       "  <thead>\n",
       "    <tr style=\"text-align: right;\">\n",
       "      <th></th>\n",
       "      <th>0</th>\n",
       "      <th>1</th>\n",
       "      <th>micro avg</th>\n",
       "      <th>macro avg</th>\n",
       "      <th>weighted avg</th>\n",
       "    </tr>\n",
       "  </thead>\n",
       "  <tbody>\n",
       "    <tr>\n",
       "      <th>f1-score</th>\n",
       "      <td>0.806</td>\n",
       "      <td>0.473</td>\n",
       "      <td>0.716</td>\n",
       "      <td>0.639</td>\n",
       "      <td>0.741</td>\n",
       "    </tr>\n",
       "    <tr>\n",
       "      <th>precision</th>\n",
       "      <td>0.898</td>\n",
       "      <td>0.370</td>\n",
       "      <td>0.716</td>\n",
       "      <td>0.634</td>\n",
       "      <td>0.795</td>\n",
       "    </tr>\n",
       "    <tr>\n",
       "      <th>recall</th>\n",
       "      <td>0.730</td>\n",
       "      <td>0.657</td>\n",
       "      <td>0.716</td>\n",
       "      <td>0.693</td>\n",
       "      <td>0.716</td>\n",
       "    </tr>\n",
       "    <tr>\n",
       "      <th>support</th>\n",
       "      <td>7377.000</td>\n",
       "      <td>1779.000</td>\n",
       "      <td>9156.000</td>\n",
       "      <td>9156.000</td>\n",
       "      <td>9156.000</td>\n",
       "    </tr>\n",
       "  </tbody>\n",
       "</table>\n",
       "</div>"
      ],
      "text/plain": [
       "                  0         1  micro avg  macro avg  weighted avg\n",
       "f1-score      0.806     0.473      0.716      0.639         0.741\n",
       "precision     0.898     0.370      0.716      0.634         0.795\n",
       "recall        0.730     0.657      0.716      0.693         0.716\n",
       "support    7377.000  1779.000   9156.000   9156.000      9156.000"
      ]
     },
     "metadata": {},
     "output_type": "display_data"
    },
    {
     "name": "stdout",
     "output_type": "stream",
     "text": [
      "============================================================================================================================================================================================================================================================================================================\n"
     ]
    },
    {
     "name": "stderr",
     "output_type": "stream",
     "text": [
      "INFO - 2019-03-27 19:31:03,764 - Reading Structured data ...\n",
      "INFO - 2019-03-27 19:31:03,923 - Reading Notes ...\n",
      "INFO - 2019-03-27 19:31:16,996 - Stratifying ...\n"
     ]
    },
    {
     "name": "stdout",
     "output_type": "stream",
     "text": [
      "Pos Percentage [0.19738451]\n"
     ]
    },
    {
     "name": "stderr",
     "output_type": "stream",
     "text": [
      "INFO - 2019-03-27 19:31:20,942 - Maximum Sentence Length 721825.000000 , 90 percentile length 18689.000000 ... \n",
      "INFO - 2019-03-27 19:31:32,119 - Truncated all ...\n",
      "INFO - 2019-03-27 19:31:32,156 - Idxs removed [1249]...\n"
     ]
    },
    {
     "name": "stdout",
     "output_type": "stream",
     "text": [
      "Pos Percentage [0.20937082]\n"
     ]
    },
    {
     "name": "stderr",
     "output_type": "stream",
     "text": [
      "INFO - 2019-03-27 19:31:33,168 - Maximum Sentence Length 588265.000000 , 90 percentile length 19174.000000 ... \n",
      "INFO - 2019-03-27 19:31:35,125 - Truncated all ...\n",
      "INFO - 2019-03-27 19:31:35,136 - Idxs removed []...\n"
     ]
    },
    {
     "name": "stdout",
     "output_type": "stream",
     "text": [
      "Pos Percentage [0.19429882]\n"
     ]
    },
    {
     "name": "stderr",
     "output_type": "stream",
     "text": [
      "INFO - 2019-03-27 19:31:36,235 - Maximum Sentence Length 496156.000000 , 90 percentile length 18936.000000 ... \n",
      "INFO - 2019-03-27 19:31:38,602 - Truncated all ...\n",
      "INFO - 2019-03-27 19:31:38,614 - Idxs removed []...\n",
      "INFO - 2019-03-27 19:31:38,685 - instantiating class <class 'PatientVec.models.Model.Model'> from params {'type': 'seq_classifier', 'embedder': {'type': 'token_embedder', 'vocab_size': 32246, 'embed_size': 200, 'embedding_file': './preprocess/Readmission/embedding_matrix.npy'}, 'decoder': {'num_layers': 2, 'hidden_dims': [128, 1], 'activations': ['tanh', 'linear']}, 'predictor': {'type': 'binary'}, 'structured': {'use_structured': False}, 'encoder': {'type': 'average', 'projection': True, 'hidden_size': 256, 'activation': 'relu'}} and extras {}\n",
      "INFO - 2019-03-27 19:31:38,685 - type = seq_classifier\n",
      "INFO - 2019-03-27 19:31:38,686 - instantiating class <class 'PatientVec.models.modules.Embedder.Embedder'> from params {'type': 'token_embedder', 'vocab_size': 32246, 'embed_size': 200, 'embedding_file': './preprocess/Readmission/embedding_matrix.npy'} and extras {}\n",
      "INFO - 2019-03-27 19:31:38,686 - embedder.type = token_embedder\n",
      "INFO - 2019-03-27 19:31:38,687 - instantiating class <class 'PatientVec.models.modules.Embedder.TokenEmbedder'> from params {'vocab_size': 32246, 'embed_size': 200, 'embedding_file': './preprocess/Readmission/embedding_matrix.npy'} and extras {}\n",
      "INFO - 2019-03-27 19:31:38,687 - embedder.vocab_size = 32246\n",
      "INFO - 2019-03-27 19:31:38,687 - embedder.embed_size = 200\n",
      "INFO - 2019-03-27 19:31:38,688 - embedder.embedding_file = ./preprocess/Readmission/embedding_matrix.npy\n",
      "INFO - 2019-03-27 19:31:38,703 - instantiating class <class 'PatientVec.models.modules.Encoder.Encoder'> from params {'type': 'average', 'projection': True, 'hidden_size': 256, 'activation': 'relu'} and extras {'input_size': 200}\n",
      "INFO - 2019-03-27 19:31:38,703 - encoder.type = average\n",
      "INFO - 2019-03-27 19:31:38,703 - instantiating class <class 'PatientVec.models.modules.Encoder.AverageEncoder'> from params {'projection': True, 'hidden_size': 256, 'activation': 'relu'} and extras {'input_size': 200}\n",
      "INFO - 2019-03-27 19:31:38,704 - encoder.projection = True\n",
      "INFO - 2019-03-27 19:31:38,704 - encoder.hidden_size = 256\n",
      "INFO - 2019-03-27 19:31:38,705 - encoder.activation = relu\n",
      "INFO - 2019-03-27 19:31:38,706 - decoder.input_dim = 256\n",
      "INFO - 2019-03-27 19:31:38,706 - decoder.num_layers = 2\n",
      "INFO - 2019-03-27 19:31:38,706 - decoder.hidden_dims = [128, 1]\n",
      "INFO - 2019-03-27 19:31:38,707 - decoder.activations = ['tanh', 'linear']\n",
      "INFO - 2019-03-27 19:31:38,707 - decoder.dropout = 0.0\n",
      "INFO - 2019-03-27 19:31:38,709 - instantiating class <class 'PatientVec.models.modules.Predictor.Predictor'> from params {'type': 'binary'} and extras {}\n",
      "INFO - 2019-03-27 19:31:38,709 - predictor.type = binary\n",
      "INFO - 2019-03-27 19:31:38,710 - instantiating class <class 'PatientVec.models.modules.Predictor.Binary_Predictor'> from params {} and extras {}\n",
      "INFO - 2019-03-27 19:31:38,710 - predictor.replicate = False\n",
      "INFO - 2019-03-27 19:31:38,710 - predictor.alpha = 0.5\n",
      "INFO - 2019-03-27 19:31:38,730 - instantiating class <class 'PatientVec.models.Model.Model'> from params {'type': 'seq_classifier', 'embedder': {'type': 'token_embedder', 'vocab_size': 32246, 'embed_size': 200, 'embedding_file': './preprocess/Readmission/embedding_matrix.npy'}, 'decoder': {'num_layers': 2, 'hidden_dims': [128, 1], 'activations': ['tanh', 'linear']}, 'predictor': {'type': 'binary'}, 'structured': {'use_structured': False}, 'encoder': {'type': 'lstm', 'hidden_size': 128}} and extras {}\n",
      "INFO - 2019-03-27 19:31:38,732 - type = seq_classifier\n",
      "INFO - 2019-03-27 19:31:38,733 - instantiating class <class 'PatientVec.models.modules.Embedder.Embedder'> from params {'type': 'token_embedder', 'vocab_size': 32246, 'embed_size': 200, 'embedding_file': './preprocess/Readmission/embedding_matrix.npy'} and extras {}\n",
      "INFO - 2019-03-27 19:31:38,735 - embedder.type = token_embedder\n",
      "INFO - 2019-03-27 19:31:38,738 - instantiating class <class 'PatientVec.models.modules.Embedder.TokenEmbedder'> from params {'vocab_size': 32246, 'embed_size': 200, 'embedding_file': './preprocess/Readmission/embedding_matrix.npy'} and extras {}\n",
      "INFO - 2019-03-27 19:31:38,739 - embedder.vocab_size = 32246\n",
      "INFO - 2019-03-27 19:31:38,739 - embedder.embed_size = 200\n",
      "INFO - 2019-03-27 19:31:38,739 - embedder.embedding_file = ./preprocess/Readmission/embedding_matrix.npy\n",
      "INFO - 2019-03-27 19:31:38,754 - instantiating class <class 'PatientVec.models.modules.Encoder.Encoder'> from params {'type': 'lstm', 'hidden_size': 128} and extras {'input_size': 200}\n",
      "INFO - 2019-03-27 19:31:38,754 - encoder.type = lstm\n",
      "INFO - 2019-03-27 19:31:38,755 - instantiating class <class 'PatientVec.models.modules.Encoder.wrap_pytorch_rnn.<locals>.BiRNNEncoder'> from params {'hidden_size': 128} and extras {'input_size': 200}\n",
      "INFO - 2019-03-27 19:31:38,755 - encoder.hidden_size = 128\n",
      "INFO - 2019-03-27 19:31:38,758 - decoder.input_dim = 256\n",
      "INFO - 2019-03-27 19:31:38,758 - decoder.num_layers = 2\n",
      "INFO - 2019-03-27 19:31:38,758 - decoder.hidden_dims = [128, 1]\n",
      "INFO - 2019-03-27 19:31:38,759 - decoder.activations = ['tanh', 'linear']\n",
      "INFO - 2019-03-27 19:31:38,759 - decoder.dropout = 0.0\n",
      "INFO - 2019-03-27 19:31:38,760 - instantiating class <class 'PatientVec.models.modules.Predictor.Predictor'> from params {'type': 'binary'} and extras {}\n",
      "INFO - 2019-03-27 19:31:38,761 - predictor.type = binary\n",
      "INFO - 2019-03-27 19:31:38,761 - instantiating class <class 'PatientVec.models.modules.Predictor.Binary_Predictor'> from params {} and extras {}\n",
      "INFO - 2019-03-27 19:31:38,761 - predictor.replicate = False\n",
      "INFO - 2019-03-27 19:31:38,762 - predictor.alpha = 0.5\n",
      "INFO - 2019-03-27 19:31:38,778 - instantiating class <class 'PatientVec.models.Model.Model'> from params {'type': 'seq_classifier', 'embedder': {'type': 'token_embedder', 'vocab_size': 32246, 'embed_size': 200, 'embedding_file': './preprocess/Readmission/embedding_matrix.npy'}, 'decoder': {'num_layers': 2, 'hidden_dims': [128, 1], 'activations': ['tanh', 'linear']}, 'predictor': {'type': 'binary'}, 'structured': {'use_structured': False}, 'encoder': {'type': 'cnn', 'hidden_size': 64, 'kernel_sizes': [3, 5, 7, 9], 'activation': 'relu'}} and extras {}\n",
      "INFO - 2019-03-27 19:31:38,778 - type = seq_classifier\n",
      "INFO - 2019-03-27 19:31:38,778 - instantiating class <class 'PatientVec.models.modules.Embedder.Embedder'> from params {'type': 'token_embedder', 'vocab_size': 32246, 'embed_size': 200, 'embedding_file': './preprocess/Readmission/embedding_matrix.npy'} and extras {}\n",
      "INFO - 2019-03-27 19:31:38,779 - embedder.type = token_embedder\n",
      "INFO - 2019-03-27 19:31:38,779 - instantiating class <class 'PatientVec.models.modules.Embedder.TokenEmbedder'> from params {'vocab_size': 32246, 'embed_size': 200, 'embedding_file': './preprocess/Readmission/embedding_matrix.npy'} and extras {}\n",
      "INFO - 2019-03-27 19:31:38,779 - embedder.vocab_size = 32246\n",
      "INFO - 2019-03-27 19:31:38,780 - embedder.embed_size = 200\n",
      "INFO - 2019-03-27 19:31:38,780 - embedder.embedding_file = ./preprocess/Readmission/embedding_matrix.npy\n",
      "INFO - 2019-03-27 19:31:38,795 - instantiating class <class 'PatientVec.models.modules.Encoder.Encoder'> from params {'type': 'cnn', 'hidden_size': 64, 'kernel_sizes': [3, 5, 7, 9], 'activation': 'relu'} and extras {'input_size': 200}\n",
      "INFO - 2019-03-27 19:31:38,795 - encoder.type = cnn\n",
      "INFO - 2019-03-27 19:31:38,796 - instantiating class <class 'PatientVec.models.modules.Encoder.CNNEncoder'> from params {'hidden_size': 64, 'kernel_sizes': [3, 5, 7, 9], 'activation': 'relu'} and extras {'input_size': 200}\n",
      "INFO - 2019-03-27 19:31:38,796 - encoder.hidden_size = 64\n",
      "INFO - 2019-03-27 19:31:38,796 - encoder.kernel_sizes = [3, 5, 7, 9]\n",
      "INFO - 2019-03-27 19:31:38,796 - encoder.activation = relu\n",
      "INFO - 2019-03-27 19:31:38,799 - decoder.input_dim = 256\n",
      "INFO - 2019-03-27 19:31:38,799 - decoder.num_layers = 2\n",
      "INFO - 2019-03-27 19:31:38,800 - decoder.hidden_dims = [128, 1]\n",
      "INFO - 2019-03-27 19:31:38,800 - decoder.activations = ['tanh', 'linear']\n",
      "INFO - 2019-03-27 19:31:38,800 - decoder.dropout = 0.0\n",
      "INFO - 2019-03-27 19:31:38,802 - instantiating class <class 'PatientVec.models.modules.Predictor.Predictor'> from params {'type': 'binary'} and extras {}\n",
      "INFO - 2019-03-27 19:31:38,802 - predictor.type = binary\n",
      "INFO - 2019-03-27 19:31:38,813 - instantiating class <class 'PatientVec.models.modules.Predictor.Binary_Predictor'> from params {} and extras {}\n",
      "INFO - 2019-03-27 19:31:38,813 - predictor.replicate = False\n",
      "INFO - 2019-03-27 19:31:38,814 - predictor.alpha = 0.5\n"
     ]
    },
    {
     "name": "stdout",
     "output_type": "stream",
     "text": [
      "{'model': {'type': 'seq_classifier', 'embedder': {'type': 'token_embedder', 'vocab_size': 32246, 'embed_size': 200, 'embedding_file': './preprocess/Readmission/embedding_matrix.npy'}, 'decoder': {'num_layers': 2, 'hidden_dims': [128, 1], 'activations': ['tanh', 'linear']}, 'predictor': {'type': 'binary'}, 'structured': {'use_structured': False}, 'encoder': {'type': 'average', 'projection': True, 'hidden_size': 256, 'activation': 'relu'}}, 'training_config': {'type': 'Adam', 'groups': [('.*', {'lr': 0.001, 'weight_decay': 1e-05})], 'common': {'bsize': 16, 'class_weight': True}}, 'exp_config': {'exp_name': 'Readmission/Basic/Average(hs=256)', 'basepath': 'outputs/'}}\n",
      "Setting Embedding\n",
      "{'model': {'type': 'seq_classifier', 'embedder': {'type': 'token_embedder', 'vocab_size': 32246, 'embed_size': 200, 'embedding_file': './preprocess/Readmission/embedding_matrix.npy'}, 'decoder': {'num_layers': 2, 'hidden_dims': [128, 1], 'activations': ['tanh', 'linear']}, 'predictor': {'type': 'binary'}, 'structured': {'use_structured': False}, 'encoder': {'type': 'lstm', 'hidden_size': 128}}, 'training_config': {'type': 'Adam', 'groups': [('.*', {'lr': 0.001, 'weight_decay': 1e-05})], 'common': {'bsize': 16, 'class_weight': True}}, 'exp_config': {'exp_name': 'Readmission/Basic/LSTM(hs=128)', 'basepath': 'outputs/'}}\n",
      "Setting Embedding\n",
      "{'model': {'type': 'seq_classifier', 'embedder': {'type': 'token_embedder', 'vocab_size': 32246, 'embed_size': 200, 'embedding_file': './preprocess/Readmission/embedding_matrix.npy'}, 'decoder': {'num_layers': 2, 'hidden_dims': [128, 1], 'activations': ['tanh', 'linear']}, 'predictor': {'type': 'binary'}, 'structured': {'use_structured': False}, 'encoder': {'type': 'cnn', 'hidden_size': 64, 'kernel_sizes': [3, 5, 7, 9], 'activation': 'relu'}}, 'training_config': {'type': 'Adam', 'groups': [('.*', {'lr': 0.001, 'weight_decay': 1e-05})], 'common': {'bsize': 16, 'class_weight': True}}, 'exp_config': {'exp_name': 'Readmission/Basic/CNN(hs=64)(kernels=3,5,7,9)', 'basepath': 'outputs/'}}\n",
      "Setting Embedding\n",
      "Pos Percentage [0.19738451]\n"
     ]
    },
    {
     "name": "stderr",
     "output_type": "stream",
     "text": [
      "INFO - 2019-03-27 19:31:42,870 - Maximum Sentence Length 721825.000000 , 90 percentile length 18689.000000 ... \n",
      "INFO - 2019-03-27 19:31:53,803 - Truncated all ...\n",
      "INFO - 2019-03-27 19:31:53,840 - Idxs removed [1249]...\n"
     ]
    },
    {
     "name": "stdout",
     "output_type": "stream",
     "text": [
      "Pos Percentage [0.20937082]\n"
     ]
    },
    {
     "name": "stderr",
     "output_type": "stream",
     "text": [
      "INFO - 2019-03-27 19:31:54,852 - Maximum Sentence Length 588265.000000 , 90 percentile length 19174.000000 ... \n",
      "INFO - 2019-03-27 19:31:56,802 - Truncated all ...\n",
      "INFO - 2019-03-27 19:31:56,813 - Idxs removed []...\n"
     ]
    },
    {
     "name": "stdout",
     "output_type": "stream",
     "text": [
      "Pos Percentage [0.19429882]\n"
     ]
    },
    {
     "name": "stderr",
     "output_type": "stream",
     "text": [
      "INFO - 2019-03-27 19:31:57,914 - Maximum Sentence Length 496156.000000 , 90 percentile length 18936.000000 ... \n",
      "INFO - 2019-03-27 19:32:00,283 - Truncated all ...\n",
      "INFO - 2019-03-27 19:32:00,295 - Idxs removed []...\n",
      "INFO - 2019-03-27 19:32:00,366 - instantiating class <class 'PatientVec.models.Model.Model'> from params {'type': 'seq_classifier_with_attention', 'embedder': {'type': 'token_embedder', 'vocab_size': 32246, 'embed_size': 200, 'embedding_file': './preprocess/Readmission/embedding_matrix.npy'}, 'decoder': {'num_layers': 2, 'hidden_dims': [128, 1], 'activations': ['tanh', 'linear']}, 'predictor': {'type': 'binary'}, 'structured': {'use_structured': False}, 'encoder': {'type': 'average', 'projection': True, 'hidden_size': 256, 'activation': 'relu'}, 'attention': {'similarity': {'type': 'additive', 'hidden_size': 128}}} and extras {}\n",
      "INFO - 2019-03-27 19:32:00,366 - type = seq_classifier_with_attention\n",
      "INFO - 2019-03-27 19:32:00,367 - instantiating class <class 'PatientVec.models.modules.Embedder.Embedder'> from params {'type': 'token_embedder', 'vocab_size': 32246, 'embed_size': 200, 'embedding_file': './preprocess/Readmission/embedding_matrix.npy'} and extras {}\n",
      "INFO - 2019-03-27 19:32:00,367 - embedder.type = token_embedder\n",
      "INFO - 2019-03-27 19:32:00,367 - instantiating class <class 'PatientVec.models.modules.Embedder.TokenEmbedder'> from params {'vocab_size': 32246, 'embed_size': 200, 'embedding_file': './preprocess/Readmission/embedding_matrix.npy'} and extras {}\n",
      "INFO - 2019-03-27 19:32:00,368 - embedder.vocab_size = 32246\n",
      "INFO - 2019-03-27 19:32:00,368 - embedder.embed_size = 200\n",
      "INFO - 2019-03-27 19:32:00,368 - embedder.embedding_file = ./preprocess/Readmission/embedding_matrix.npy\n",
      "INFO - 2019-03-27 19:32:00,384 - instantiating class <class 'PatientVec.models.modules.Encoder.Encoder'> from params {'type': 'average', 'projection': True, 'hidden_size': 256, 'activation': 'relu'} and extras {'input_size': 200}\n",
      "INFO - 2019-03-27 19:32:00,384 - encoder.type = average\n",
      "INFO - 2019-03-27 19:32:00,384 - instantiating class <class 'PatientVec.models.modules.Encoder.AverageEncoder'> from params {'projection': True, 'hidden_size': 256, 'activation': 'relu'} and extras {'input_size': 200}\n",
      "INFO - 2019-03-27 19:32:00,385 - encoder.projection = True\n",
      "INFO - 2019-03-27 19:32:00,385 - encoder.hidden_size = 256\n",
      "INFO - 2019-03-27 19:32:00,385 - encoder.activation = relu\n",
      "INFO - 2019-03-27 19:32:00,386 - instantiating class <class 'PatientVec.models.modules.SelfAttention.SelfAttention'> from params {'similarity': {'type': 'additive', 'hidden_size': 128, 'tensor_1_dim': 256}} and extras {}\n",
      "INFO - 2019-03-27 19:32:00,387 - instantiating class <class 'PatientVec.models.modules.UniSimilarity.UniSimilarity'> from params {'type': 'additive', 'hidden_size': 128, 'tensor_1_dim': 256} and extras {}\n",
      "INFO - 2019-03-27 19:32:00,387 - attention.similarity.type = additive\n",
      "INFO - 2019-03-27 19:32:00,387 - instantiating class <class 'PatientVec.models.modules.UniSimilarity.UniAdditiveSimilarity'> from params {'hidden_size': 128, 'tensor_1_dim': 256} and extras {}\n",
      "INFO - 2019-03-27 19:32:00,387 - attention.similarity.tensor_1_dim = 256\n",
      "INFO - 2019-03-27 19:32:00,388 - attention.similarity.hidden_size = 128\n",
      "INFO - 2019-03-27 19:32:00,388 - attention.similarity.output_size = 1\n",
      "INFO - 2019-03-27 19:32:00,389 - attention.normaliser = softmax\n",
      "INFO - 2019-03-27 19:32:00,390 - decoder.input_dim = 256\n",
      "INFO - 2019-03-27 19:32:00,390 - decoder.num_layers = 2\n",
      "INFO - 2019-03-27 19:32:00,390 - decoder.hidden_dims = [128, 1]\n",
      "INFO - 2019-03-27 19:32:00,391 - decoder.activations = ['tanh', 'linear']\n",
      "INFO - 2019-03-27 19:32:00,391 - decoder.dropout = 0.0\n",
      "INFO - 2019-03-27 19:32:00,393 - instantiating class <class 'PatientVec.models.modules.Predictor.Predictor'> from params {'type': 'binary'} and extras {}\n",
      "INFO - 2019-03-27 19:32:00,394 - predictor.type = binary\n",
      "INFO - 2019-03-27 19:32:00,394 - instantiating class <class 'PatientVec.models.modules.Predictor.Binary_Predictor'> from params {} and extras {}\n",
      "INFO - 2019-03-27 19:32:00,394 - predictor.replicate = False\n",
      "INFO - 2019-03-27 19:32:00,395 - predictor.alpha = 0.5\n",
      "INFO - 2019-03-27 19:32:00,411 - instantiating class <class 'PatientVec.models.Model.Model'> from params {'type': 'seq_classifier_with_attention', 'embedder': {'type': 'token_embedder', 'vocab_size': 32246, 'embed_size': 200, 'embedding_file': './preprocess/Readmission/embedding_matrix.npy'}, 'decoder': {'num_layers': 2, 'hidden_dims': [128, 1], 'activations': ['tanh', 'linear']}, 'predictor': {'type': 'binary'}, 'structured': {'use_structured': False}, 'encoder': {'type': 'lstm', 'hidden_size': 128}, 'attention': {'similarity': {'type': 'additive', 'hidden_size': 128}}} and extras {}\n",
      "INFO - 2019-03-27 19:32:00,411 - type = seq_classifier_with_attention\n",
      "INFO - 2019-03-27 19:32:00,412 - instantiating class <class 'PatientVec.models.modules.Embedder.Embedder'> from params {'type': 'token_embedder', 'vocab_size': 32246, 'embed_size': 200, 'embedding_file': './preprocess/Readmission/embedding_matrix.npy'} and extras {}\n",
      "INFO - 2019-03-27 19:32:00,412 - embedder.type = token_embedder\n",
      "INFO - 2019-03-27 19:32:00,412 - instantiating class <class 'PatientVec.models.modules.Embedder.TokenEmbedder'> from params {'vocab_size': 32246, 'embed_size': 200, 'embedding_file': './preprocess/Readmission/embedding_matrix.npy'} and extras {}\n",
      "INFO - 2019-03-27 19:32:00,413 - embedder.vocab_size = 32246\n",
      "INFO - 2019-03-27 19:32:00,413 - embedder.embed_size = 200\n",
      "INFO - 2019-03-27 19:32:00,413 - embedder.embedding_file = ./preprocess/Readmission/embedding_matrix.npy\n",
      "INFO - 2019-03-27 19:32:00,428 - instantiating class <class 'PatientVec.models.modules.Encoder.Encoder'> from params {'type': 'lstm', 'hidden_size': 128} and extras {'input_size': 200}\n",
      "INFO - 2019-03-27 19:32:00,428 - encoder.type = lstm\n",
      "INFO - 2019-03-27 19:32:00,428 - instantiating class <class 'PatientVec.models.modules.Encoder.wrap_pytorch_rnn.<locals>.BiRNNEncoder'> from params {'hidden_size': 128} and extras {'input_size': 200}\n",
      "INFO - 2019-03-27 19:32:00,429 - encoder.hidden_size = 128\n",
      "INFO - 2019-03-27 19:32:00,431 - instantiating class <class 'PatientVec.models.modules.SelfAttention.SelfAttention'> from params {'similarity': {'type': 'additive', 'hidden_size': 128, 'tensor_1_dim': 256}} and extras {}\n",
      "INFO - 2019-03-27 19:32:00,432 - instantiating class <class 'PatientVec.models.modules.UniSimilarity.UniSimilarity'> from params {'type': 'additive', 'hidden_size': 128, 'tensor_1_dim': 256} and extras {}\n",
      "INFO - 2019-03-27 19:32:00,432 - attention.similarity.type = additive\n",
      "INFO - 2019-03-27 19:32:00,432 - instantiating class <class 'PatientVec.models.modules.UniSimilarity.UniAdditiveSimilarity'> from params {'hidden_size': 128, 'tensor_1_dim': 256} and extras {}\n",
      "INFO - 2019-03-27 19:32:00,432 - attention.similarity.tensor_1_dim = 256\n",
      "INFO - 2019-03-27 19:32:00,433 - attention.similarity.hidden_size = 128\n",
      "INFO - 2019-03-27 19:32:00,433 - attention.similarity.output_size = 1\n",
      "INFO - 2019-03-27 19:32:00,435 - attention.normaliser = softmax\n",
      "INFO - 2019-03-27 19:32:00,435 - decoder.input_dim = 256\n",
      "INFO - 2019-03-27 19:32:00,435 - decoder.num_layers = 2\n",
      "INFO - 2019-03-27 19:32:00,435 - decoder.hidden_dims = [128, 1]\n",
      "INFO - 2019-03-27 19:32:00,436 - decoder.activations = ['tanh', 'linear']\n",
      "INFO - 2019-03-27 19:32:00,436 - decoder.dropout = 0.0\n",
      "INFO - 2019-03-27 19:32:00,437 - instantiating class <class 'PatientVec.models.modules.Predictor.Predictor'> from params {'type': 'binary'} and extras {}\n",
      "INFO - 2019-03-27 19:32:00,438 - predictor.type = binary\n",
      "INFO - 2019-03-27 19:32:00,438 - instantiating class <class 'PatientVec.models.modules.Predictor.Binary_Predictor'> from params {} and extras {}\n",
      "INFO - 2019-03-27 19:32:00,438 - predictor.replicate = False\n",
      "INFO - 2019-03-27 19:32:00,439 - predictor.alpha = 0.5\n",
      "INFO - 2019-03-27 19:32:00,454 - instantiating class <class 'PatientVec.models.Model.Model'> from params {'type': 'seq_classifier_with_attention', 'embedder': {'type': 'token_embedder', 'vocab_size': 32246, 'embed_size': 200, 'embedding_file': './preprocess/Readmission/embedding_matrix.npy'}, 'decoder': {'num_layers': 2, 'hidden_dims': [128, 1], 'activations': ['tanh', 'linear']}, 'predictor': {'type': 'binary'}, 'structured': {'use_structured': False}, 'encoder': {'type': 'cnn', 'hidden_size': 64, 'kernel_sizes': [3, 5, 7, 9], 'activation': 'relu'}, 'attention': {'similarity': {'type': 'additive', 'hidden_size': 128}}} and extras {}\n",
      "INFO - 2019-03-27 19:32:00,454 - type = seq_classifier_with_attention\n",
      "INFO - 2019-03-27 19:32:00,454 - instantiating class <class 'PatientVec.models.modules.Embedder.Embedder'> from params {'type': 'token_embedder', 'vocab_size': 32246, 'embed_size': 200, 'embedding_file': './preprocess/Readmission/embedding_matrix.npy'} and extras {}\n",
      "INFO - 2019-03-27 19:32:00,455 - embedder.type = token_embedder\n",
      "INFO - 2019-03-27 19:32:00,455 - instantiating class <class 'PatientVec.models.modules.Embedder.TokenEmbedder'> from params {'vocab_size': 32246, 'embed_size': 200, 'embedding_file': './preprocess/Readmission/embedding_matrix.npy'} and extras {}\n",
      "INFO - 2019-03-27 19:32:00,455 - embedder.vocab_size = 32246\n",
      "INFO - 2019-03-27 19:32:00,456 - embedder.embed_size = 200\n",
      "INFO - 2019-03-27 19:32:00,456 - embedder.embedding_file = ./preprocess/Readmission/embedding_matrix.npy\n",
      "INFO - 2019-03-27 19:32:00,470 - instantiating class <class 'PatientVec.models.modules.Encoder.Encoder'> from params {'type': 'cnn', 'hidden_size': 64, 'kernel_sizes': [3, 5, 7, 9], 'activation': 'relu'} and extras {'input_size': 200}\n",
      "INFO - 2019-03-27 19:32:00,471 - encoder.type = cnn\n",
      "INFO - 2019-03-27 19:32:00,471 - instantiating class <class 'PatientVec.models.modules.Encoder.CNNEncoder'> from params {'hidden_size': 64, 'kernel_sizes': [3, 5, 7, 9], 'activation': 'relu'} and extras {'input_size': 200}\n",
      "INFO - 2019-03-27 19:32:00,482 - encoder.hidden_size = 64\n",
      "INFO - 2019-03-27 19:32:00,482 - encoder.kernel_sizes = [3, 5, 7, 9]\n",
      "INFO - 2019-03-27 19:32:00,483 - encoder.activation = relu\n",
      "INFO - 2019-03-27 19:32:00,486 - instantiating class <class 'PatientVec.models.modules.SelfAttention.SelfAttention'> from params {'similarity': {'type': 'additive', 'hidden_size': 128, 'tensor_1_dim': 256}} and extras {}\n",
      "INFO - 2019-03-27 19:32:00,486 - instantiating class <class 'PatientVec.models.modules.UniSimilarity.UniSimilarity'> from params {'type': 'additive', 'hidden_size': 128, 'tensor_1_dim': 256} and extras {}\n",
      "INFO - 2019-03-27 19:32:00,486 - attention.similarity.type = additive\n",
      "INFO - 2019-03-27 19:32:00,487 - instantiating class <class 'PatientVec.models.modules.UniSimilarity.UniAdditiveSimilarity'> from params {'hidden_size': 128, 'tensor_1_dim': 256} and extras {}\n",
      "INFO - 2019-03-27 19:32:00,487 - attention.similarity.tensor_1_dim = 256\n",
      "INFO - 2019-03-27 19:32:00,487 - attention.similarity.hidden_size = 128\n",
      "INFO - 2019-03-27 19:32:00,487 - attention.similarity.output_size = 1\n",
      "INFO - 2019-03-27 19:32:00,489 - attention.normaliser = softmax\n",
      "INFO - 2019-03-27 19:32:00,489 - decoder.input_dim = 256\n",
      "INFO - 2019-03-27 19:32:00,490 - decoder.num_layers = 2\n",
      "INFO - 2019-03-27 19:32:00,490 - decoder.hidden_dims = [128, 1]\n",
      "INFO - 2019-03-27 19:32:00,490 - decoder.activations = ['tanh', 'linear']\n",
      "INFO - 2019-03-27 19:32:00,490 - decoder.dropout = 0.0\n",
      "INFO - 2019-03-27 19:32:00,492 - instantiating class <class 'PatientVec.models.modules.Predictor.Predictor'> from params {'type': 'binary'} and extras {}\n",
      "INFO - 2019-03-27 19:32:00,492 - predictor.type = binary\n",
      "INFO - 2019-03-27 19:32:00,493 - instantiating class <class 'PatientVec.models.modules.Predictor.Binary_Predictor'> from params {} and extras {}\n",
      "INFO - 2019-03-27 19:32:00,493 - predictor.replicate = False\n",
      "INFO - 2019-03-27 19:32:00,493 - predictor.alpha = 0.5\n"
     ]
    },
    {
     "name": "stdout",
     "output_type": "stream",
     "text": [
      "{'model': {'type': 'seq_classifier_with_attention', 'embedder': {'type': 'token_embedder', 'vocab_size': 32246, 'embed_size': 200, 'embedding_file': './preprocess/Readmission/embedding_matrix.npy'}, 'decoder': {'num_layers': 2, 'hidden_dims': [128, 1], 'activations': ['tanh', 'linear']}, 'predictor': {'type': 'binary'}, 'structured': {'use_structured': False}, 'encoder': {'type': 'average', 'projection': True, 'hidden_size': 256, 'activation': 'relu'}, 'attention': {'similarity': {'type': 'additive', 'hidden_size': 128}}}, 'training_config': {'type': 'Adam', 'groups': [('.*', {'lr': 0.001, 'weight_decay': 1e-05})], 'common': {'bsize': 16, 'class_weight': True}}, 'exp_config': {'exp_name': 'Readmission/Attention/Average(hs=256)+Attention(additive)(hs=128)', 'basepath': 'outputs/'}}\n",
      "Setting Embedding\n",
      "{'model': {'type': 'seq_classifier_with_attention', 'embedder': {'type': 'token_embedder', 'vocab_size': 32246, 'embed_size': 200, 'embedding_file': './preprocess/Readmission/embedding_matrix.npy'}, 'decoder': {'num_layers': 2, 'hidden_dims': [128, 1], 'activations': ['tanh', 'linear']}, 'predictor': {'type': 'binary'}, 'structured': {'use_structured': False}, 'encoder': {'type': 'lstm', 'hidden_size': 128}, 'attention': {'similarity': {'type': 'additive', 'hidden_size': 128}}}, 'training_config': {'type': 'Adam', 'groups': [('.*', {'lr': 0.001, 'weight_decay': 1e-05})], 'common': {'bsize': 16, 'class_weight': True}}, 'exp_config': {'exp_name': 'Readmission/Attention/LSTM(hs=128)+Attention(additive)(hs=128)', 'basepath': 'outputs/'}}\n",
      "Setting Embedding\n",
      "{'model': {'type': 'seq_classifier_with_attention', 'embedder': {'type': 'token_embedder', 'vocab_size': 32246, 'embed_size': 200, 'embedding_file': './preprocess/Readmission/embedding_matrix.npy'}, 'decoder': {'num_layers': 2, 'hidden_dims': [128, 1], 'activations': ['tanh', 'linear']}, 'predictor': {'type': 'binary'}, 'structured': {'use_structured': False}, 'encoder': {'type': 'cnn', 'hidden_size': 64, 'kernel_sizes': [3, 5, 7, 9], 'activation': 'relu'}, 'attention': {'similarity': {'type': 'additive', 'hidden_size': 128}}}, 'training_config': {'type': 'Adam', 'groups': [('.*', {'lr': 0.001, 'weight_decay': 1e-05})], 'common': {'bsize': 16, 'class_weight': True}}, 'exp_config': {'exp_name': 'Readmission/Attention/CNN(hs=64)(kernels=3,5,7,9)+Attention(additive)(hs=128)', 'basepath': 'outputs/'}}\n",
      "Setting Embedding\n",
      "Pos Percentage [0.19738451]\n"
     ]
    },
    {
     "name": "stderr",
     "output_type": "stream",
     "text": [
      "INFO - 2019-03-27 19:32:04,534 - Maximum Sentence Length 721825.000000 , 90 percentile length 18689.000000 ... \n",
      "INFO - 2019-03-27 19:32:15,323 - Truncated all ...\n",
      "INFO - 2019-03-27 19:32:15,361 - Idxs removed [1249]...\n"
     ]
    },
    {
     "name": "stdout",
     "output_type": "stream",
     "text": [
      "Pos Percentage [0.20937082]\n"
     ]
    },
    {
     "name": "stderr",
     "output_type": "stream",
     "text": [
      "INFO - 2019-03-27 19:32:16,372 - Maximum Sentence Length 588265.000000 , 90 percentile length 19174.000000 ... \n",
      "INFO - 2019-03-27 19:32:18,332 - Truncated all ...\n",
      "INFO - 2019-03-27 19:32:18,342 - Idxs removed []...\n"
     ]
    },
    {
     "name": "stdout",
     "output_type": "stream",
     "text": [
      "Pos Percentage [0.19429882]\n"
     ]
    },
    {
     "name": "stderr",
     "output_type": "stream",
     "text": [
      "INFO - 2019-03-27 19:32:19,439 - Maximum Sentence Length 496156.000000 , 90 percentile length 18936.000000 ... \n",
      "INFO - 2019-03-27 19:32:21,810 - Truncated all ...\n",
      "INFO - 2019-03-27 19:32:21,822 - Idxs removed []...\n",
      "INFO - 2019-03-27 19:32:21,894 - instantiating class <class 'PatientVec.models.Model.Model'> from params {'type': 'seq_classifier', 'embedder': {'type': 'token_embedder', 'vocab_size': 32246, 'embed_size': 200, 'embedding_file': './preprocess/Readmission/embedding_matrix.npy'}, 'decoder': {'num_layers': 2, 'hidden_dims': [128, 1], 'activations': ['tanh', 'linear']}, 'predictor': {'type': 'binary'}, 'structured': {'use_structured': False}, 'encoder': {'type': 'sru', 'hidden_size': 128}} and extras {}\n",
      "INFO - 2019-03-27 19:32:21,894 - type = seq_classifier\n",
      "INFO - 2019-03-27 19:32:21,895 - instantiating class <class 'PatientVec.models.modules.Embedder.Embedder'> from params {'type': 'token_embedder', 'vocab_size': 32246, 'embed_size': 200, 'embedding_file': './preprocess/Readmission/embedding_matrix.npy'} and extras {}\n",
      "INFO - 2019-03-27 19:32:21,895 - embedder.type = token_embedder\n",
      "INFO - 2019-03-27 19:32:21,896 - instantiating class <class 'PatientVec.models.modules.Embedder.TokenEmbedder'> from params {'vocab_size': 32246, 'embed_size': 200, 'embedding_file': './preprocess/Readmission/embedding_matrix.npy'} and extras {}\n",
      "INFO - 2019-03-27 19:32:21,896 - embedder.vocab_size = 32246\n",
      "INFO - 2019-03-27 19:32:21,896 - embedder.embed_size = 200\n",
      "INFO - 2019-03-27 19:32:21,897 - embedder.embedding_file = ./preprocess/Readmission/embedding_matrix.npy\n",
      "INFO - 2019-03-27 19:32:21,912 - instantiating class <class 'PatientVec.models.modules.Encoder.Encoder'> from params {'type': 'sru', 'hidden_size': 128} and extras {'input_size': 200}\n",
      "INFO - 2019-03-27 19:32:21,912 - encoder.type = sru\n",
      "INFO - 2019-03-27 19:32:21,913 - instantiating class <class 'PatientVec.models.modules.Encoder.SRUEncoder'> from params {'hidden_size': 128} and extras {'input_size': 200}\n",
      "INFO - 2019-03-27 19:32:21,913 - encoder.hidden_size = 128\n",
      "INFO - 2019-03-27 19:32:21,917 - decoder.input_dim = 256\n",
      "INFO - 2019-03-27 19:32:21,917 - decoder.num_layers = 2\n",
      "INFO - 2019-03-27 19:32:21,918 - decoder.hidden_dims = [128, 1]\n",
      "INFO - 2019-03-27 19:32:21,918 - decoder.activations = ['tanh', 'linear']\n",
      "INFO - 2019-03-27 19:32:21,918 - decoder.dropout = 0.0\n",
      "INFO - 2019-03-27 19:32:21,920 - instantiating class <class 'PatientVec.models.modules.Predictor.Predictor'> from params {'type': 'binary'} and extras {}\n",
      "INFO - 2019-03-27 19:32:21,920 - predictor.type = binary\n",
      "INFO - 2019-03-27 19:32:21,921 - instantiating class <class 'PatientVec.models.modules.Predictor.Binary_Predictor'> from params {} and extras {}\n",
      "INFO - 2019-03-27 19:32:21,921 - predictor.replicate = False\n",
      "INFO - 2019-03-27 19:32:21,921 - predictor.alpha = 0.5\n",
      "INFO - 2019-03-27 19:32:21,936 - instantiating class <class 'PatientVec.models.Model.Model'> from params {'type': 'seq_classifier_with_attention', 'embedder': {'type': 'token_embedder', 'vocab_size': 32246, 'embed_size': 200, 'embedding_file': './preprocess/Readmission/embedding_matrix.npy'}, 'decoder': {'num_layers': 2, 'hidden_dims': [128, 1], 'activations': ['tanh', 'linear']}, 'predictor': {'type': 'binary'}, 'structured': {'use_structured': False}, 'encoder': {'type': 'sru', 'hidden_size': 128}, 'attention': {'similarity': {'type': 'additive', 'hidden_size': 128}}} and extras {}\n",
      "INFO - 2019-03-27 19:32:21,936 - type = seq_classifier_with_attention\n",
      "INFO - 2019-03-27 19:32:21,937 - instantiating class <class 'PatientVec.models.modules.Embedder.Embedder'> from params {'type': 'token_embedder', 'vocab_size': 32246, 'embed_size': 200, 'embedding_file': './preprocess/Readmission/embedding_matrix.npy'} and extras {}\n",
      "INFO - 2019-03-27 19:32:21,937 - embedder.type = token_embedder\n",
      "INFO - 2019-03-27 19:32:21,937 - instantiating class <class 'PatientVec.models.modules.Embedder.TokenEmbedder'> from params {'vocab_size': 32246, 'embed_size': 200, 'embedding_file': './preprocess/Readmission/embedding_matrix.npy'} and extras {}\n",
      "INFO - 2019-03-27 19:32:21,938 - embedder.vocab_size = 32246\n",
      "INFO - 2019-03-27 19:32:21,938 - embedder.embed_size = 200\n",
      "INFO - 2019-03-27 19:32:21,938 - embedder.embedding_file = ./preprocess/Readmission/embedding_matrix.npy\n",
      "INFO - 2019-03-27 19:32:21,955 - instantiating class <class 'PatientVec.models.modules.Encoder.Encoder'> from params {'type': 'sru', 'hidden_size': 128} and extras {'input_size': 200}\n",
      "INFO - 2019-03-27 19:32:21,955 - encoder.type = sru\n",
      "INFO - 2019-03-27 19:32:21,956 - instantiating class <class 'PatientVec.models.modules.Encoder.SRUEncoder'> from params {'hidden_size': 128} and extras {'input_size': 200}\n",
      "INFO - 2019-03-27 19:32:21,956 - encoder.hidden_size = 128\n",
      "INFO - 2019-03-27 19:32:21,960 - instantiating class <class 'PatientVec.models.modules.SelfAttention.SelfAttention'> from params {'similarity': {'type': 'additive', 'hidden_size': 128, 'tensor_1_dim': 256}} and extras {}\n",
      "INFO - 2019-03-27 19:32:21,960 - instantiating class <class 'PatientVec.models.modules.UniSimilarity.UniSimilarity'> from params {'type': 'additive', 'hidden_size': 128, 'tensor_1_dim': 256} and extras {}\n",
      "INFO - 2019-03-27 19:32:21,960 - attention.similarity.type = additive\n",
      "INFO - 2019-03-27 19:32:21,961 - instantiating class <class 'PatientVec.models.modules.UniSimilarity.UniAdditiveSimilarity'> from params {'hidden_size': 128, 'tensor_1_dim': 256} and extras {}\n",
      "INFO - 2019-03-27 19:32:21,961 - attention.similarity.tensor_1_dim = 256\n",
      "INFO - 2019-03-27 19:32:21,961 - attention.similarity.hidden_size = 128\n",
      "INFO - 2019-03-27 19:32:21,961 - attention.similarity.output_size = 1\n",
      "INFO - 2019-03-27 19:32:21,963 - attention.normaliser = softmax\n",
      "INFO - 2019-03-27 19:32:21,963 - decoder.input_dim = 256\n",
      "INFO - 2019-03-27 19:32:21,964 - decoder.num_layers = 2\n",
      "INFO - 2019-03-27 19:32:21,964 - decoder.hidden_dims = [128, 1]\n",
      "INFO - 2019-03-27 19:32:21,964 - decoder.activations = ['tanh', 'linear']\n",
      "INFO - 2019-03-27 19:32:21,965 - decoder.dropout = 0.0\n",
      "INFO - 2019-03-27 19:32:21,966 - instantiating class <class 'PatientVec.models.modules.Predictor.Predictor'> from params {'type': 'binary'} and extras {}\n",
      "INFO - 2019-03-27 19:32:21,966 - predictor.type = binary\n",
      "INFO - 2019-03-27 19:32:21,967 - instantiating class <class 'PatientVec.models.modules.Predictor.Binary_Predictor'> from params {} and extras {}\n",
      "INFO - 2019-03-27 19:32:21,967 - predictor.replicate = False\n",
      "INFO - 2019-03-27 19:32:21,967 - predictor.alpha = 0.5\n"
     ]
    },
    {
     "name": "stdout",
     "output_type": "stream",
     "text": [
      "{'model': {'type': 'seq_classifier', 'embedder': {'type': 'token_embedder', 'vocab_size': 32246, 'embed_size': 200, 'embedding_file': './preprocess/Readmission/embedding_matrix.npy'}, 'decoder': {'num_layers': 2, 'hidden_dims': [128, 1], 'activations': ['tanh', 'linear']}, 'predictor': {'type': 'binary'}, 'structured': {'use_structured': False}, 'encoder': {'type': 'sru', 'hidden_size': 128}}, 'training_config': {'type': 'Adam', 'groups': [('.*', {'lr': 0.001, 'weight_decay': 1e-05})], 'common': {'bsize': 16, 'class_weight': True}}, 'exp_config': {'exp_name': 'Readmission/Basic/SRU(hs=128)', 'basepath': 'outputs/'}}\n",
      "Setting Embedding\n",
      "{'model': {'type': 'seq_classifier_with_attention', 'embedder': {'type': 'token_embedder', 'vocab_size': 32246, 'embed_size': 200, 'embedding_file': './preprocess/Readmission/embedding_matrix.npy'}, 'decoder': {'num_layers': 2, 'hidden_dims': [128, 1], 'activations': ['tanh', 'linear']}, 'predictor': {'type': 'binary'}, 'structured': {'use_structured': False}, 'encoder': {'type': 'sru', 'hidden_size': 128}, 'attention': {'similarity': {'type': 'additive', 'hidden_size': 128}}}, 'training_config': {'type': 'Adam', 'groups': [('.*', {'lr': 0.001, 'weight_decay': 1e-05})], 'common': {'bsize': 16, 'class_weight': True}}, 'exp_config': {'exp_name': 'Readmission/Attention/SRU(hs=128)+Attention(additive)(hs=128)', 'basepath': 'outputs/'}}\n",
      "Setting Embedding\n",
      "Pos Percentage [0.19738451]\n"
     ]
    },
    {
     "name": "stderr",
     "output_type": "stream",
     "text": [
      "INFO - 2019-03-27 19:32:26,487 - Maximum Sentence Length 721825.000000 , 90 percentile length 18689.000000 ... \n",
      "INFO - 2019-03-27 19:32:37,173 - Truncated all ...\n",
      "INFO - 2019-03-27 19:32:37,221 - Idxs removed [1249]...\n"
     ]
    },
    {
     "name": "stdout",
     "output_type": "stream",
     "text": [
      "Pos Percentage [0.20937082]\n"
     ]
    },
    {
     "name": "stderr",
     "output_type": "stream",
     "text": [
      "INFO - 2019-03-27 19:32:38,368 - Maximum Sentence Length 588265.000000 , 90 percentile length 19174.000000 ... \n",
      "INFO - 2019-03-27 19:32:40,300 - Truncated all ...\n",
      "INFO - 2019-03-27 19:32:40,314 - Idxs removed []...\n"
     ]
    },
    {
     "name": "stdout",
     "output_type": "stream",
     "text": [
      "Pos Percentage [0.19429882]\n"
     ]
    },
    {
     "name": "stderr",
     "output_type": "stream",
     "text": [
      "INFO - 2019-03-27 19:32:41,597 - Maximum Sentence Length 496156.000000 , 90 percentile length 18936.000000 ... \n",
      "INFO - 2019-03-27 19:32:43,921 - Truncated all ...\n",
      "INFO - 2019-03-27 19:32:43,936 - Idxs removed []...\n",
      "INFO - 2019-03-27 19:32:44,007 - instantiating class <class 'PatientVec.models.Model.Model'> from params {'type': 'seq_classifier_with_structured_attention', 'embedder': {'type': 'token_embedder', 'vocab_size': 32246, 'embed_size': 200, 'embedding_file': './preprocess/Readmission/embedding_matrix.npy'}, 'decoder': {'num_layers': 2, 'hidden_dims': [128, 1], 'activations': ['tanh', 'linear']}, 'predictor': {'type': 'binary'}, 'structured': {'use_structured': False}, 'encoder': {'type': 'average', 'projection': True, 'hidden_size': 256, 'activation': 'relu'}, 'attention': {'similarity': {'type': 'additive', 'hidden_size': 128, 'tensor_2_dim': 142}}} and extras {}\n",
      "INFO - 2019-03-27 19:32:44,007 - type = seq_classifier_with_structured_attention\n",
      "INFO - 2019-03-27 19:32:44,008 - instantiating class <class 'PatientVec.models.modules.Embedder.Embedder'> from params {'type': 'token_embedder', 'vocab_size': 32246, 'embed_size': 200, 'embedding_file': './preprocess/Readmission/embedding_matrix.npy'} and extras {}\n",
      "INFO - 2019-03-27 19:32:44,008 - embedder.type = token_embedder\n",
      "INFO - 2019-03-27 19:32:44,009 - instantiating class <class 'PatientVec.models.modules.Embedder.TokenEmbedder'> from params {'vocab_size': 32246, 'embed_size': 200, 'embedding_file': './preprocess/Readmission/embedding_matrix.npy'} and extras {}\n",
      "INFO - 2019-03-27 19:32:44,009 - embedder.vocab_size = 32246\n",
      "INFO - 2019-03-27 19:32:44,010 - embedder.embed_size = 200\n",
      "INFO - 2019-03-27 19:32:44,010 - embedder.embedding_file = ./preprocess/Readmission/embedding_matrix.npy\n",
      "INFO - 2019-03-27 19:32:44,026 - instantiating class <class 'PatientVec.models.modules.Encoder.Encoder'> from params {'type': 'average', 'projection': True, 'hidden_size': 256, 'activation': 'relu'} and extras {'input_size': 200}\n",
      "INFO - 2019-03-27 19:32:44,026 - encoder.type = average\n",
      "INFO - 2019-03-27 19:32:44,027 - instantiating class <class 'PatientVec.models.modules.Encoder.AverageEncoder'> from params {'projection': True, 'hidden_size': 256, 'activation': 'relu'} and extras {'input_size': 200}\n",
      "INFO - 2019-03-27 19:32:44,027 - encoder.projection = True\n",
      "INFO - 2019-03-27 19:32:44,028 - encoder.hidden_size = 256\n",
      "INFO - 2019-03-27 19:32:44,028 - encoder.activation = relu\n",
      "INFO - 2019-03-27 19:32:44,029 - instantiating class <class 'PatientVec.models.modules.Attention.Attention'> from params {'similarity': {'type': 'additive', 'hidden_size': 128, 'tensor_2_dim': 142, 'tensor_1_dim': 256}} and extras {}\n",
      "INFO - 2019-03-27 19:32:44,029 - instantiating class <class 'PatientVec.models.modules.BiSimilarity.BiSimilarity'> from params {'type': 'additive', 'hidden_size': 128, 'tensor_2_dim': 142, 'tensor_1_dim': 256} and extras {}\n",
      "INFO - 2019-03-27 19:32:44,030 - attention.similarity.type = additive\n",
      "INFO - 2019-03-27 19:32:44,030 - instantiating class <class 'PatientVec.models.modules.BiSimilarity.BiAdditiveSimilarity'> from params {'hidden_size': 128, 'tensor_2_dim': 142, 'tensor_1_dim': 256} and extras {}\n",
      "INFO - 2019-03-27 19:32:44,031 - attention.similarity.tensor_1_dim = 256\n",
      "INFO - 2019-03-27 19:32:44,031 - attention.similarity.tensor_2_dim = 142\n",
      "INFO - 2019-03-27 19:32:44,032 - attention.similarity.hidden_size = 128\n",
      "INFO - 2019-03-27 19:32:44,033 - attention.normaliser = softmax\n",
      "INFO - 2019-03-27 19:32:44,033 - decoder.input_dim = 256\n",
      "INFO - 2019-03-27 19:32:44,034 - decoder.num_layers = 2\n",
      "INFO - 2019-03-27 19:32:44,034 - decoder.hidden_dims = [128, 1]\n",
      "INFO - 2019-03-27 19:32:44,035 - decoder.activations = ['tanh', 'linear']\n",
      "INFO - 2019-03-27 19:32:44,035 - decoder.dropout = 0.0\n",
      "INFO - 2019-03-27 19:32:44,036 - instantiating class <class 'PatientVec.models.modules.Predictor.Predictor'> from params {'type': 'binary'} and extras {}\n",
      "INFO - 2019-03-27 19:32:44,036 - predictor.type = binary\n",
      "INFO - 2019-03-27 19:32:44,037 - instantiating class <class 'PatientVec.models.modules.Predictor.Binary_Predictor'> from params {} and extras {}\n",
      "INFO - 2019-03-27 19:32:44,038 - predictor.replicate = False\n",
      "INFO - 2019-03-27 19:32:44,038 - predictor.alpha = 0.5\n",
      "INFO - 2019-03-27 19:32:44,057 - instantiating class <class 'PatientVec.models.Model.Model'> from params {'type': 'seq_classifier_with_structured_attention', 'embedder': {'type': 'token_embedder', 'vocab_size': 32246, 'embed_size': 200, 'embedding_file': 'preprocess/Readmission//embedding_matrix.npy'}, 'decoder': {'num_layers': 2, 'hidden_dims': [128, 1], 'activations': ['tanh', 'linear']}, 'predictor': {'type': 'binary'}, 'structured': {'use_structured': False}, 'encoder': {'type': 'average', 'projection': True, 'hidden_size': 256, 'activation': 'relu'}, 'attention': {'similarity': {'type': 'additive', 'hidden_size': 128, 'tensor_2_dim': 142}}} and extras {}\n",
      "INFO - 2019-03-27 19:32:44,058 - type = seq_classifier_with_structured_attention\n",
      "INFO - 2019-03-27 19:32:44,058 - instantiating class <class 'PatientVec.models.modules.Embedder.Embedder'> from params {'type': 'token_embedder', 'vocab_size': 32246, 'embed_size': 200, 'embedding_file': 'preprocess/Readmission//embedding_matrix.npy'} and extras {}\n",
      "INFO - 2019-03-27 19:32:44,059 - embedder.type = token_embedder\n",
      "INFO - 2019-03-27 19:32:44,059 - instantiating class <class 'PatientVec.models.modules.Embedder.TokenEmbedder'> from params {'vocab_size': 32246, 'embed_size': 200, 'embedding_file': 'preprocess/Readmission//embedding_matrix.npy'} and extras {}\n",
      "INFO - 2019-03-27 19:32:44,059 - embedder.vocab_size = 32246\n",
      "INFO - 2019-03-27 19:32:44,060 - embedder.embed_size = 200\n",
      "INFO - 2019-03-27 19:32:44,060 - embedder.embedding_file = preprocess/Readmission//embedding_matrix.npy\n",
      "INFO - 2019-03-27 19:32:44,075 - instantiating class <class 'PatientVec.models.modules.Encoder.Encoder'> from params {'type': 'average', 'projection': True, 'hidden_size': 256, 'activation': 'relu'} and extras {'input_size': 200}\n",
      "INFO - 2019-03-27 19:32:44,076 - encoder.type = average\n",
      "INFO - 2019-03-27 19:32:44,076 - instantiating class <class 'PatientVec.models.modules.Encoder.AverageEncoder'> from params {'projection': True, 'hidden_size': 256, 'activation': 'relu'} and extras {'input_size': 200}\n",
      "INFO - 2019-03-27 19:32:44,077 - encoder.projection = True\n",
      "INFO - 2019-03-27 19:32:44,077 - encoder.hidden_size = 256\n",
      "INFO - 2019-03-27 19:32:44,077 - encoder.activation = relu\n",
      "INFO - 2019-03-27 19:32:44,078 - instantiating class <class 'PatientVec.models.modules.Attention.Attention'> from params {'similarity': {'type': 'additive', 'hidden_size': 128, 'tensor_2_dim': 142, 'tensor_1_dim': 256}} and extras {}\n",
      "INFO - 2019-03-27 19:32:44,078 - instantiating class <class 'PatientVec.models.modules.BiSimilarity.BiSimilarity'> from params {'type': 'additive', 'hidden_size': 128, 'tensor_2_dim': 142, 'tensor_1_dim': 256} and extras {}\n",
      "INFO - 2019-03-27 19:32:44,079 - attention.similarity.type = additive\n",
      "INFO - 2019-03-27 19:32:44,079 - instantiating class <class 'PatientVec.models.modules.BiSimilarity.BiAdditiveSimilarity'> from params {'hidden_size': 128, 'tensor_2_dim': 142, 'tensor_1_dim': 256} and extras {}\n",
      "INFO - 2019-03-27 19:32:44,080 - attention.similarity.tensor_1_dim = 256\n",
      "INFO - 2019-03-27 19:32:44,080 - attention.similarity.tensor_2_dim = 142\n",
      "INFO - 2019-03-27 19:32:44,080 - attention.similarity.hidden_size = 128\n",
      "INFO - 2019-03-27 19:32:44,082 - attention.normaliser = softmax\n",
      "INFO - 2019-03-27 19:32:44,082 - decoder.input_dim = 256\n",
      "INFO - 2019-03-27 19:32:44,082 - decoder.num_layers = 2\n",
      "INFO - 2019-03-27 19:32:44,083 - decoder.hidden_dims = [128, 1]\n",
      "INFO - 2019-03-27 19:32:44,083 - decoder.activations = ['tanh', 'linear']\n",
      "INFO - 2019-03-27 19:32:44,083 - decoder.dropout = 0.0\n",
      "INFO - 2019-03-27 19:32:44,084 - instantiating class <class 'PatientVec.models.modules.Predictor.Predictor'> from params {'type': 'binary'} and extras {}\n",
      "INFO - 2019-03-27 19:32:44,085 - predictor.type = binary\n",
      "INFO - 2019-03-27 19:32:44,085 - instantiating class <class 'PatientVec.models.modules.Predictor.Binary_Predictor'> from params {} and extras {}\n",
      "INFO - 2019-03-27 19:32:44,085 - predictor.replicate = False\n",
      "INFO - 2019-03-27 19:32:44,086 - predictor.alpha = 0.5\n"
     ]
    },
    {
     "name": "stdout",
     "output_type": "stream",
     "text": [
      "{'model': {'type': 'seq_classifier_with_structured_attention', 'embedder': {'type': 'token_embedder', 'vocab_size': 32246, 'embed_size': 200, 'embedding_file': './preprocess/Readmission/embedding_matrix.npy'}, 'decoder': {'num_layers': 2, 'hidden_dims': [128, 1], 'activations': ['tanh', 'linear']}, 'predictor': {'type': 'binary'}, 'structured': {'use_structured': False}, 'encoder': {'type': 'average', 'projection': True, 'hidden_size': 256, 'activation': 'relu'}, 'attention': {'similarity': {'type': 'additive', 'hidden_size': 128, 'tensor_2_dim': 142}}}, 'training_config': {'type': 'Adam', 'groups': [('.*', {'lr': 0.001, 'weight_decay': 1e-05})], 'common': {'bsize': 32, 'class_weight': True}}, 'exp_config': {'exp_name': 'Readmission/Structured Attention/Average(hs=256)+Attention(additive)(all)(hs=128)', 'basepath': 'outputs/'}}\n",
      "Setting Embedding\n",
      "Setting Embedding\n"
     ]
    },
    {
     "data": {
      "application/vnd.jupyter.widget-view+json": {
       "model_id": "fb910d8c3af64bdb885444fb4d1e493f",
       "version_major": 2,
       "version_minor": 0
      },
      "text/plain": [
       "HBox(children=(IntProgress(value=0, max=234), HTML(value='')))"
      ]
     },
     "metadata": {},
     "output_type": "display_data"
    },
    {
     "name": "stdout",
     "output_type": "stream",
     "text": [
      "\n",
      "{'accuracy': 0.8009370816599732, 'roc_auc': 0.7537561502758909, 'pr_auc': 0.4640933365349285}\n"
     ]
    },
    {
     "data": {
      "text/html": [
       "<div>\n",
       "<style scoped>\n",
       "    .dataframe tbody tr th:only-of-type {\n",
       "        vertical-align: middle;\n",
       "    }\n",
       "\n",
       "    .dataframe tbody tr th {\n",
       "        vertical-align: top;\n",
       "    }\n",
       "\n",
       "    .dataframe thead th {\n",
       "        text-align: right;\n",
       "    }\n",
       "</style>\n",
       "<table border=\"1\" class=\"dataframe\">\n",
       "  <thead>\n",
       "    <tr style=\"text-align: right;\">\n",
       "      <th></th>\n",
       "      <th>0</th>\n",
       "      <th>1</th>\n",
       "      <th>micro avg</th>\n",
       "      <th>macro avg</th>\n",
       "      <th>weighted avg</th>\n",
       "    </tr>\n",
       "  </thead>\n",
       "  <tbody>\n",
       "    <tr>\n",
       "      <th>f1-score</th>\n",
       "      <td>0.882</td>\n",
       "      <td>0.368</td>\n",
       "      <td>0.801</td>\n",
       "      <td>0.625</td>\n",
       "      <td>0.774</td>\n",
       "    </tr>\n",
       "    <tr>\n",
       "      <th>precision</th>\n",
       "      <td>0.831</td>\n",
       "      <td>0.549</td>\n",
       "      <td>0.801</td>\n",
       "      <td>0.690</td>\n",
       "      <td>0.772</td>\n",
       "    </tr>\n",
       "    <tr>\n",
       "      <th>recall</th>\n",
       "      <td>0.940</td>\n",
       "      <td>0.277</td>\n",
       "      <td>0.801</td>\n",
       "      <td>0.608</td>\n",
       "      <td>0.801</td>\n",
       "    </tr>\n",
       "    <tr>\n",
       "      <th>support</th>\n",
       "      <td>5906.000</td>\n",
       "      <td>1564.000</td>\n",
       "      <td>7470.000</td>\n",
       "      <td>7470.000</td>\n",
       "      <td>7470.000</td>\n",
       "    </tr>\n",
       "  </tbody>\n",
       "</table>\n",
       "</div>"
      ],
      "text/plain": [
       "                  0         1  micro avg  macro avg  weighted avg\n",
       "f1-score      0.882     0.368      0.801      0.625         0.774\n",
       "precision     0.831     0.549      0.801      0.690         0.772\n",
       "recall        0.940     0.277      0.801      0.608         0.801\n",
       "support    5906.000  1564.000   7470.000   7470.000      7470.000"
      ]
     },
     "metadata": {},
     "output_type": "display_data"
    },
    {
     "data": {
      "application/vnd.jupyter.widget-view+json": {
       "model_id": "a107d325e5064ea68f2f9363584157c2",
       "version_major": 2,
       "version_minor": 0
      },
      "text/plain": [
       "HBox(children=(IntProgress(value=0, max=287), HTML(value='')))"
      ]
     },
     "metadata": {},
     "output_type": "display_data"
    },
    {
     "name": "stdout",
     "output_type": "stream",
     "text": [
      "\n",
      "{'accuracy': 0.8142201834862385, 'roc_auc': 0.7457454588014661, 'pr_auc': 0.4443644472078886}\n"
     ]
    },
    {
     "data": {
      "text/html": [
       "<div>\n",
       "<style scoped>\n",
       "    .dataframe tbody tr th:only-of-type {\n",
       "        vertical-align: middle;\n",
       "    }\n",
       "\n",
       "    .dataframe tbody tr th {\n",
       "        vertical-align: top;\n",
       "    }\n",
       "\n",
       "    .dataframe thead th {\n",
       "        text-align: right;\n",
       "    }\n",
       "</style>\n",
       "<table border=\"1\" class=\"dataframe\">\n",
       "  <thead>\n",
       "    <tr style=\"text-align: right;\">\n",
       "      <th></th>\n",
       "      <th>0</th>\n",
       "      <th>1</th>\n",
       "      <th>micro avg</th>\n",
       "      <th>macro avg</th>\n",
       "      <th>weighted avg</th>\n",
       "    </tr>\n",
       "  </thead>\n",
       "  <tbody>\n",
       "    <tr>\n",
       "      <th>f1-score</th>\n",
       "      <td>0.891</td>\n",
       "      <td>0.366</td>\n",
       "      <td>0.814</td>\n",
       "      <td>0.629</td>\n",
       "      <td>0.789</td>\n",
       "    </tr>\n",
       "    <tr>\n",
       "      <th>precision</th>\n",
       "      <td>0.844</td>\n",
       "      <td>0.543</td>\n",
       "      <td>0.814</td>\n",
       "      <td>0.694</td>\n",
       "      <td>0.785</td>\n",
       "    </tr>\n",
       "    <tr>\n",
       "      <th>recall</th>\n",
       "      <td>0.944</td>\n",
       "      <td>0.276</td>\n",
       "      <td>0.814</td>\n",
       "      <td>0.610</td>\n",
       "      <td>0.814</td>\n",
       "    </tr>\n",
       "    <tr>\n",
       "      <th>support</th>\n",
       "      <td>7377.000</td>\n",
       "      <td>1779.000</td>\n",
       "      <td>9156.000</td>\n",
       "      <td>9156.000</td>\n",
       "      <td>9156.000</td>\n",
       "    </tr>\n",
       "  </tbody>\n",
       "</table>\n",
       "</div>"
      ],
      "text/plain": [
       "                  0         1  micro avg  macro avg  weighted avg\n",
       "f1-score      0.891     0.366      0.814      0.629         0.789\n",
       "precision     0.844     0.543      0.814      0.694         0.785\n",
       "recall        0.944     0.276      0.814      0.610         0.814\n",
       "support    7377.000  1779.000   9156.000   9156.000      9156.000"
      ]
     },
     "metadata": {},
     "output_type": "display_data"
    },
    {
     "name": "stderr",
     "output_type": "stream",
     "text": [
      "INFO - 2019-03-27 19:33:47,812 - instantiating class <class 'PatientVec.models.Model.Model'> from params {'type': 'seq_classifier_with_structured_attention', 'embedder': {'type': 'token_embedder', 'vocab_size': 32246, 'embed_size': 200, 'embedding_file': './preprocess/Readmission/embedding_matrix.npy'}, 'decoder': {'num_layers': 2, 'hidden_dims': [128, 1], 'activations': ['tanh', 'linear']}, 'predictor': {'type': 'binary'}, 'structured': {'use_structured': False}, 'encoder': {'type': 'lstm', 'hidden_size': 128}, 'attention': {'similarity': {'type': 'additive', 'hidden_size': 128, 'tensor_2_dim': 142}}} and extras {}\n",
      "INFO - 2019-03-27 19:33:47,813 - type = seq_classifier_with_structured_attention\n",
      "INFO - 2019-03-27 19:33:47,813 - instantiating class <class 'PatientVec.models.modules.Embedder.Embedder'> from params {'type': 'token_embedder', 'vocab_size': 32246, 'embed_size': 200, 'embedding_file': './preprocess/Readmission/embedding_matrix.npy'} and extras {}\n",
      "INFO - 2019-03-27 19:33:47,813 - embedder.type = token_embedder\n",
      "INFO - 2019-03-27 19:33:47,814 - instantiating class <class 'PatientVec.models.modules.Embedder.TokenEmbedder'> from params {'vocab_size': 32246, 'embed_size': 200, 'embedding_file': './preprocess/Readmission/embedding_matrix.npy'} and extras {}\n",
      "INFO - 2019-03-27 19:33:47,814 - embedder.vocab_size = 32246\n",
      "INFO - 2019-03-27 19:33:47,814 - embedder.embed_size = 200\n",
      "INFO - 2019-03-27 19:33:47,816 - embedder.embedding_file = ./preprocess/Readmission/embedding_matrix.npy\n",
      "INFO - 2019-03-27 19:33:47,832 - instantiating class <class 'PatientVec.models.modules.Encoder.Encoder'> from params {'type': 'lstm', 'hidden_size': 128} and extras {'input_size': 200}\n",
      "INFO - 2019-03-27 19:33:47,832 - encoder.type = lstm\n",
      "INFO - 2019-03-27 19:33:47,833 - instantiating class <class 'PatientVec.models.modules.Encoder.wrap_pytorch_rnn.<locals>.BiRNNEncoder'> from params {'hidden_size': 128} and extras {'input_size': 200}\n",
      "INFO - 2019-03-27 19:33:47,833 - encoder.hidden_size = 128\n",
      "INFO - 2019-03-27 19:33:47,836 - instantiating class <class 'PatientVec.models.modules.Attention.Attention'> from params {'similarity': {'type': 'additive', 'hidden_size': 128, 'tensor_2_dim': 142, 'tensor_1_dim': 256}} and extras {}\n",
      "INFO - 2019-03-27 19:33:47,836 - instantiating class <class 'PatientVec.models.modules.BiSimilarity.BiSimilarity'> from params {'type': 'additive', 'hidden_size': 128, 'tensor_2_dim': 142, 'tensor_1_dim': 256} and extras {}\n",
      "INFO - 2019-03-27 19:33:47,836 - attention.similarity.type = additive\n",
      "INFO - 2019-03-27 19:33:47,837 - instantiating class <class 'PatientVec.models.modules.BiSimilarity.BiAdditiveSimilarity'> from params {'hidden_size': 128, 'tensor_2_dim': 142, 'tensor_1_dim': 256} and extras {}\n",
      "INFO - 2019-03-27 19:33:47,837 - attention.similarity.tensor_1_dim = 256\n",
      "INFO - 2019-03-27 19:33:47,837 - attention.similarity.tensor_2_dim = 142\n",
      "INFO - 2019-03-27 19:33:47,838 - attention.similarity.hidden_size = 128\n",
      "INFO - 2019-03-27 19:33:47,839 - attention.normaliser = softmax\n",
      "INFO - 2019-03-27 19:33:47,840 - decoder.input_dim = 256\n",
      "INFO - 2019-03-27 19:33:47,840 - decoder.num_layers = 2\n",
      "INFO - 2019-03-27 19:33:47,840 - decoder.hidden_dims = [128, 1]\n",
      "INFO - 2019-03-27 19:33:47,840 - decoder.activations = ['tanh', 'linear']\n",
      "INFO - 2019-03-27 19:33:47,841 - decoder.dropout = 0.0\n",
      "INFO - 2019-03-27 19:33:47,842 - instantiating class <class 'PatientVec.models.modules.Predictor.Predictor'> from params {'type': 'binary'} and extras {}\n",
      "INFO - 2019-03-27 19:33:47,842 - predictor.type = binary\n",
      "INFO - 2019-03-27 19:33:47,842 - instantiating class <class 'PatientVec.models.modules.Predictor.Binary_Predictor'> from params {} and extras {}\n",
      "INFO - 2019-03-27 19:33:47,843 - predictor.replicate = False\n",
      "INFO - 2019-03-27 19:33:47,843 - predictor.alpha = 0.5\n",
      "INFO - 2019-03-27 19:33:47,867 - instantiating class <class 'PatientVec.models.Model.Model'> from params {'type': 'seq_classifier_with_structured_attention', 'embedder': {'type': 'token_embedder', 'vocab_size': 32246, 'embed_size': 200, 'embedding_file': 'preprocess/Readmission//embedding_matrix.npy'}, 'decoder': {'num_layers': 2, 'hidden_dims': [128, 1], 'activations': ['tanh', 'linear']}, 'predictor': {'type': 'binary'}, 'structured': {'use_structured': False}, 'encoder': {'type': 'lstm', 'hidden_size': 128}, 'attention': {'similarity': {'type': 'additive', 'hidden_size': 128, 'tensor_2_dim': 142}}} and extras {}\n",
      "INFO - 2019-03-27 19:33:47,868 - type = seq_classifier_with_structured_attention\n",
      "INFO - 2019-03-27 19:33:47,868 - instantiating class <class 'PatientVec.models.modules.Embedder.Embedder'> from params {'type': 'token_embedder', 'vocab_size': 32246, 'embed_size': 200, 'embedding_file': 'preprocess/Readmission//embedding_matrix.npy'} and extras {}\n",
      "INFO - 2019-03-27 19:33:47,868 - embedder.type = token_embedder\n",
      "INFO - 2019-03-27 19:33:47,869 - instantiating class <class 'PatientVec.models.modules.Embedder.TokenEmbedder'> from params {'vocab_size': 32246, 'embed_size': 200, 'embedding_file': 'preprocess/Readmission//embedding_matrix.npy'} and extras {}\n",
      "INFO - 2019-03-27 19:33:47,869 - embedder.vocab_size = 32246\n",
      "INFO - 2019-03-27 19:33:47,869 - embedder.embed_size = 200\n",
      "INFO - 2019-03-27 19:33:47,869 - embedder.embedding_file = preprocess/Readmission//embedding_matrix.npy\n",
      "INFO - 2019-03-27 19:33:47,885 - instantiating class <class 'PatientVec.models.modules.Encoder.Encoder'> from params {'type': 'lstm', 'hidden_size': 128} and extras {'input_size': 200}\n",
      "INFO - 2019-03-27 19:33:47,886 - encoder.type = lstm\n",
      "INFO - 2019-03-27 19:33:47,886 - instantiating class <class 'PatientVec.models.modules.Encoder.wrap_pytorch_rnn.<locals>.BiRNNEncoder'> from params {'hidden_size': 128} and extras {'input_size': 200}\n",
      "INFO - 2019-03-27 19:33:47,886 - encoder.hidden_size = 128\n",
      "INFO - 2019-03-27 19:33:47,888 - instantiating class <class 'PatientVec.models.modules.Attention.Attention'> from params {'similarity': {'type': 'additive', 'hidden_size': 128, 'tensor_2_dim': 142, 'tensor_1_dim': 256}} and extras {}\n",
      "INFO - 2019-03-27 19:33:47,888 - instantiating class <class 'PatientVec.models.modules.BiSimilarity.BiSimilarity'> from params {'type': 'additive', 'hidden_size': 128, 'tensor_2_dim': 142, 'tensor_1_dim': 256} and extras {}\n",
      "INFO - 2019-03-27 19:33:47,888 - attention.similarity.type = additive\n",
      "INFO - 2019-03-27 19:33:47,889 - instantiating class <class 'PatientVec.models.modules.BiSimilarity.BiAdditiveSimilarity'> from params {'hidden_size': 128, 'tensor_2_dim': 142, 'tensor_1_dim': 256} and extras {}\n",
      "INFO - 2019-03-27 19:33:47,889 - attention.similarity.tensor_1_dim = 256\n",
      "INFO - 2019-03-27 19:33:47,889 - attention.similarity.tensor_2_dim = 142\n",
      "INFO - 2019-03-27 19:33:47,889 - attention.similarity.hidden_size = 128\n",
      "INFO - 2019-03-27 19:33:47,891 - attention.normaliser = softmax\n",
      "INFO - 2019-03-27 19:33:47,891 - decoder.input_dim = 256\n",
      "INFO - 2019-03-27 19:33:47,891 - decoder.num_layers = 2\n",
      "INFO - 2019-03-27 19:33:47,892 - decoder.hidden_dims = [128, 1]\n",
      "INFO - 2019-03-27 19:33:47,892 - decoder.activations = ['tanh', 'linear']\n",
      "INFO - 2019-03-27 19:33:47,892 - decoder.dropout = 0.0\n",
      "INFO - 2019-03-27 19:33:47,894 - instantiating class <class 'PatientVec.models.modules.Predictor.Predictor'> from params {'type': 'binary'} and extras {}\n",
      "INFO - 2019-03-27 19:33:47,896 - predictor.type = binary\n",
      "INFO - 2019-03-27 19:33:47,896 - instantiating class <class 'PatientVec.models.modules.Predictor.Binary_Predictor'> from params {} and extras {}\n",
      "INFO - 2019-03-27 19:33:47,896 - predictor.replicate = False\n",
      "INFO - 2019-03-27 19:33:47,896 - predictor.alpha = 0.5\n"
     ]
    },
    {
     "name": "stdout",
     "output_type": "stream",
     "text": [
      "============================================================================================================================================================================================================================================================================================================\n",
      "{'model': {'type': 'seq_classifier_with_structured_attention', 'embedder': {'type': 'token_embedder', 'vocab_size': 32246, 'embed_size': 200, 'embedding_file': './preprocess/Readmission/embedding_matrix.npy'}, 'decoder': {'num_layers': 2, 'hidden_dims': [128, 1], 'activations': ['tanh', 'linear']}, 'predictor': {'type': 'binary'}, 'structured': {'use_structured': False}, 'encoder': {'type': 'lstm', 'hidden_size': 128}, 'attention': {'similarity': {'type': 'additive', 'hidden_size': 128, 'tensor_2_dim': 142}}}, 'training_config': {'type': 'Adam', 'groups': [('.*', {'lr': 0.001, 'weight_decay': 1e-05})], 'common': {'bsize': 32, 'class_weight': True}}, 'exp_config': {'exp_name': 'Readmission/Structured Attention/LSTM(hs=128)+Attention(additive)(all)(hs=128)', 'basepath': 'outputs/'}}\n",
      "Setting Embedding\n",
      "Setting Embedding\n"
     ]
    },
    {
     "data": {
      "application/vnd.jupyter.widget-view+json": {
       "model_id": "ef3a7686359a4701bf2506a399983f80",
       "version_major": 2,
       "version_minor": 0
      },
      "text/plain": [
       "HBox(children=(IntProgress(value=0, max=234), HTML(value='')))"
      ]
     },
     "metadata": {},
     "output_type": "display_data"
    },
    {
     "name": "stdout",
     "output_type": "stream",
     "text": [
      "\n",
      "{'accuracy': 0.8097724230254351, 'roc_auc': 0.7544171344239634, 'pr_auc': 0.4801698120490819}\n"
     ]
    },
    {
     "data": {
      "text/html": [
       "<div>\n",
       "<style scoped>\n",
       "    .dataframe tbody tr th:only-of-type {\n",
       "        vertical-align: middle;\n",
       "    }\n",
       "\n",
       "    .dataframe tbody tr th {\n",
       "        vertical-align: top;\n",
       "    }\n",
       "\n",
       "    .dataframe thead th {\n",
       "        text-align: right;\n",
       "    }\n",
       "</style>\n",
       "<table border=\"1\" class=\"dataframe\">\n",
       "  <thead>\n",
       "    <tr style=\"text-align: right;\">\n",
       "      <th></th>\n",
       "      <th>0</th>\n",
       "      <th>1</th>\n",
       "      <th>micro avg</th>\n",
       "      <th>macro avg</th>\n",
       "      <th>weighted avg</th>\n",
       "    </tr>\n",
       "  </thead>\n",
       "  <tbody>\n",
       "    <tr>\n",
       "      <th>f1-score</th>\n",
       "      <td>0.890</td>\n",
       "      <td>0.284</td>\n",
       "      <td>0.81</td>\n",
       "      <td>0.587</td>\n",
       "      <td>0.763</td>\n",
       "    </tr>\n",
       "    <tr>\n",
       "      <th>precision</th>\n",
       "      <td>0.818</td>\n",
       "      <td>0.670</td>\n",
       "      <td>0.81</td>\n",
       "      <td>0.744</td>\n",
       "      <td>0.787</td>\n",
       "    </tr>\n",
       "    <tr>\n",
       "      <th>recall</th>\n",
       "      <td>0.976</td>\n",
       "      <td>0.180</td>\n",
       "      <td>0.81</td>\n",
       "      <td>0.578</td>\n",
       "      <td>0.810</td>\n",
       "    </tr>\n",
       "    <tr>\n",
       "      <th>support</th>\n",
       "      <td>5906.000</td>\n",
       "      <td>1564.000</td>\n",
       "      <td>7470.00</td>\n",
       "      <td>7470.000</td>\n",
       "      <td>7470.000</td>\n",
       "    </tr>\n",
       "  </tbody>\n",
       "</table>\n",
       "</div>"
      ],
      "text/plain": [
       "                  0         1  micro avg  macro avg  weighted avg\n",
       "f1-score      0.890     0.284       0.81      0.587         0.763\n",
       "precision     0.818     0.670       0.81      0.744         0.787\n",
       "recall        0.976     0.180       0.81      0.578         0.810\n",
       "support    5906.000  1564.000    7470.00   7470.000      7470.000"
      ]
     },
     "metadata": {},
     "output_type": "display_data"
    },
    {
     "data": {
      "application/vnd.jupyter.widget-view+json": {
       "model_id": "c780d88b3e4b43ba8d01d990e98c1dc4",
       "version_major": 2,
       "version_minor": 0
      },
      "text/plain": [
       "HBox(children=(IntProgress(value=0, max=287), HTML(value='')))"
      ]
     },
     "metadata": {},
     "output_type": "display_data"
    }
   ],
   "source": [
    "for dataset in ['readmission'] : #'mortality_1yr', 'mortality_30day', 'diagnosis'] :\n",
    "    %run \"Discovery Experiments\"/run_models.py --dataset {dataset} --exp_types vanilla attention basic_sru structured structured_sru \\\n",
    "        --data_dir='.' --output_dir='outputs/' --display --do_test --structured\n",
    "    %run \"Discovery Experiments\"/run_models.py --dataset {dataset} --exp_types vanilla attention basic_sru structured structured_sru \\\n",
    "        --data_dir='.' --output_dir='outputs/' --display --do_test\n",
    "    %run \"Discovery Experiments\"/run_models.py --dataset {dataset} --exp_types hierarchical \\\n",
    "        --data_dir='.' --output_dir='outputs/' --display --do_test --structured\n",
    "    %run \"Discovery Experiments\"/run_models.py --dataset {dataset} --exp_types hierarchical \\\n",
    "        --data_dir='.' --output_dir='outputs/' --display --do_test"
   ]
  },
  {
   "cell_type": "code",
   "execution_count": 3,
   "metadata": {},
   "outputs": [
    {
     "name": "stderr",
     "output_type": "stream",
     "text": [
      "INFO - 2019-03-27 19:18:09,676 - Reading Structured data ...\n",
      "INFO - 2019-03-27 19:18:09,817 - Reading Notes ...\n",
      "INFO - 2019-03-27 19:18:11,588 - Stratifying ...\n"
     ]
    },
    {
     "name": "stdout",
     "output_type": "stream",
     "text": [
      "Pos Percentage [0.10839746]\n"
     ]
    },
    {
     "name": "stderr",
     "output_type": "stream",
     "text": [
      "INFO - 2019-03-27 19:18:12,380 - Maximum Sentence Length 585530.000000 , 90 percentile length 22037.000000 ... \n",
      "INFO - 2019-03-27 19:18:13,630 - Truncated all ...\n",
      "INFO - 2019-03-27 19:18:13,634 - Idxs removed []...\n",
      "INFO - 2019-03-27 19:18:13,804 - Maximum Sentence Length 65362.000000 , 90 percentile length 18471.000000 ... \n"
     ]
    },
    {
     "name": "stdout",
     "output_type": "stream",
     "text": [
      "Pos Percentage [0.08990536]\n"
     ]
    },
    {
     "name": "stderr",
     "output_type": "stream",
     "text": [
      "INFO - 2019-03-27 19:18:14,080 - Truncated all ...\n",
      "INFO - 2019-03-27 19:18:14,082 - Idxs removed []...\n",
      "INFO - 2019-03-27 19:18:14,232 - Maximum Sentence Length 109694.000000 , 90 percentile length 19819.000000 ... \n"
     ]
    },
    {
     "name": "stdout",
     "output_type": "stream",
     "text": [
      "Pos Percentage [0.07606973]\n"
     ]
    },
    {
     "name": "stderr",
     "output_type": "stream",
     "text": [
      "INFO - 2019-03-27 19:18:15,977 - Truncated all ...\n",
      "INFO - 2019-03-27 19:18:15,978 - Idxs removed []...\n",
      "INFO - 2019-03-27 19:18:15,993 - instantiating class <class 'PatientVec.models.Model.Model'> from params {'type': 'seq_classifier', 'embedder': {'type': 'token_embedder', 'vocab_size': 19054, 'embed_size': 200, 'embedding_file': './preprocess/HipSurgery/1_yrs/embedding_matrix.npy'}, 'decoder': {'num_layers': 2, 'hidden_dims': [128, 1], 'activations': ['tanh', 'linear']}, 'predictor': {'type': 'binary'}, 'structured': {'use_structured': False}, 'encoder': {'type': 'average', 'projection': True, 'hidden_size': 256, 'activation': 'relu'}} and extras {}\n",
      "INFO - 2019-03-27 19:18:15,993 - type = seq_classifier\n",
      "INFO - 2019-03-27 19:18:15,994 - instantiating class <class 'PatientVec.models.modules.Embedder.Embedder'> from params {'type': 'token_embedder', 'vocab_size': 19054, 'embed_size': 200, 'embedding_file': './preprocess/HipSurgery/1_yrs/embedding_matrix.npy'} and extras {}\n",
      "INFO - 2019-03-27 19:18:15,994 - embedder.type = token_embedder\n",
      "INFO - 2019-03-27 19:18:15,995 - instantiating class <class 'PatientVec.models.modules.Embedder.TokenEmbedder'> from params {'vocab_size': 19054, 'embed_size': 200, 'embedding_file': './preprocess/HipSurgery/1_yrs/embedding_matrix.npy'} and extras {}\n",
      "INFO - 2019-03-27 19:18:15,995 - embedder.vocab_size = 19054\n",
      "INFO - 2019-03-27 19:18:15,995 - embedder.embed_size = 200\n",
      "INFO - 2019-03-27 19:18:15,996 - embedder.embedding_file = ./preprocess/HipSurgery/1_yrs/embedding_matrix.npy\n",
      "INFO - 2019-03-27 19:18:16,006 - instantiating class <class 'PatientVec.models.modules.Encoder.Encoder'> from params {'type': 'average', 'projection': True, 'hidden_size': 256, 'activation': 'relu'} and extras {'input_size': 200}\n",
      "INFO - 2019-03-27 19:18:16,007 - encoder.type = average\n",
      "INFO - 2019-03-27 19:18:16,007 - instantiating class <class 'PatientVec.models.modules.Encoder.AverageEncoder'> from params {'projection': True, 'hidden_size': 256, 'activation': 'relu'} and extras {'input_size': 200}\n",
      "INFO - 2019-03-27 19:18:16,008 - encoder.projection = True\n",
      "INFO - 2019-03-27 19:18:16,008 - encoder.hidden_size = 256\n",
      "INFO - 2019-03-27 19:18:16,008 - encoder.activation = relu\n",
      "INFO - 2019-03-27 19:18:16,010 - decoder.input_dim = 256\n",
      "INFO - 2019-03-27 19:18:16,010 - decoder.num_layers = 2\n",
      "INFO - 2019-03-27 19:18:16,010 - decoder.hidden_dims = [128, 1]\n",
      "INFO - 2019-03-27 19:18:16,010 - decoder.activations = ['tanh', 'linear']\n",
      "INFO - 2019-03-27 19:18:16,011 - decoder.dropout = 0.0\n",
      "INFO - 2019-03-27 19:18:16,012 - instantiating class <class 'PatientVec.models.modules.Predictor.Predictor'> from params {'type': 'binary'} and extras {}\n",
      "INFO - 2019-03-27 19:18:16,012 - predictor.type = binary\n",
      "INFO - 2019-03-27 19:18:16,013 - instantiating class <class 'PatientVec.models.modules.Predictor.Binary_Predictor'> from params {} and extras {}\n",
      "INFO - 2019-03-27 19:18:16,013 - predictor.replicate = False\n",
      "INFO - 2019-03-27 19:18:16,013 - predictor.alpha = 0.5\n",
      "INFO - 2019-03-27 19:18:16,032 - instantiating class <class 'PatientVec.models.Model.Model'> from params {'type': 'seq_classifier', 'embedder': {'type': 'token_embedder', 'vocab_size': 19054, 'embed_size': 200, 'embedding_file': './preprocess/HipSurgery/1_yrs/embedding_matrix.npy'}, 'decoder': {'num_layers': 2, 'hidden_dims': [128, 1], 'activations': ['tanh', 'linear']}, 'predictor': {'type': 'binary'}, 'structured': {'use_structured': False}, 'encoder': {'type': 'lstm', 'hidden_size': 128}} and extras {}\n",
      "INFO - 2019-03-27 19:18:16,032 - type = seq_classifier\n",
      "INFO - 2019-03-27 19:18:16,033 - instantiating class <class 'PatientVec.models.modules.Embedder.Embedder'> from params {'type': 'token_embedder', 'vocab_size': 19054, 'embed_size': 200, 'embedding_file': './preprocess/HipSurgery/1_yrs/embedding_matrix.npy'} and extras {}\n",
      "INFO - 2019-03-27 19:18:16,033 - embedder.type = token_embedder\n",
      "INFO - 2019-03-27 19:18:16,033 - instantiating class <class 'PatientVec.models.modules.Embedder.TokenEmbedder'> from params {'vocab_size': 19054, 'embed_size': 200, 'embedding_file': './preprocess/HipSurgery/1_yrs/embedding_matrix.npy'} and extras {}\n",
      "INFO - 2019-03-27 19:18:16,034 - embedder.vocab_size = 19054\n",
      "INFO - 2019-03-27 19:18:16,034 - embedder.embed_size = 200\n",
      "INFO - 2019-03-27 19:18:16,035 - embedder.embedding_file = ./preprocess/HipSurgery/1_yrs/embedding_matrix.npy\n",
      "INFO - 2019-03-27 19:18:16,044 - instantiating class <class 'PatientVec.models.modules.Encoder.Encoder'> from params {'type': 'lstm', 'hidden_size': 128} and extras {'input_size': 200}\n",
      "INFO - 2019-03-27 19:18:16,044 - encoder.type = lstm\n",
      "INFO - 2019-03-27 19:18:16,044 - instantiating class <class 'PatientVec.models.modules.Encoder.wrap_pytorch_rnn.<locals>.BiRNNEncoder'> from params {'hidden_size': 128} and extras {'input_size': 200}\n",
      "INFO - 2019-03-27 19:18:16,045 - encoder.hidden_size = 128\n",
      "INFO - 2019-03-27 19:18:16,047 - decoder.input_dim = 256\n",
      "INFO - 2019-03-27 19:18:16,047 - decoder.num_layers = 2\n",
      "INFO - 2019-03-27 19:18:16,048 - decoder.hidden_dims = [128, 1]\n",
      "INFO - 2019-03-27 19:18:16,048 - decoder.activations = ['tanh', 'linear']\n",
      "INFO - 2019-03-27 19:18:16,048 - decoder.dropout = 0.0\n",
      "INFO - 2019-03-27 19:18:16,049 - instantiating class <class 'PatientVec.models.modules.Predictor.Predictor'> from params {'type': 'binary'} and extras {}\n",
      "INFO - 2019-03-27 19:18:16,050 - predictor.type = binary\n",
      "INFO - 2019-03-27 19:18:16,050 - instantiating class <class 'PatientVec.models.modules.Predictor.Binary_Predictor'> from params {} and extras {}\n",
      "INFO - 2019-03-27 19:18:16,050 - predictor.replicate = False\n",
      "INFO - 2019-03-27 19:18:16,050 - predictor.alpha = 0.5\n",
      "INFO - 2019-03-27 19:18:16,063 - instantiating class <class 'PatientVec.models.Model.Model'> from params {'type': 'seq_classifier', 'embedder': {'type': 'token_embedder', 'vocab_size': 19054, 'embed_size': 200, 'embedding_file': './preprocess/HipSurgery/1_yrs/embedding_matrix.npy'}, 'decoder': {'num_layers': 2, 'hidden_dims': [128, 1], 'activations': ['tanh', 'linear']}, 'predictor': {'type': 'binary'}, 'structured': {'use_structured': False}, 'encoder': {'type': 'cnn', 'hidden_size': 64, 'kernel_sizes': [3, 5, 7, 9], 'activation': 'relu'}} and extras {}\n",
      "INFO - 2019-03-27 19:18:16,063 - type = seq_classifier\n",
      "INFO - 2019-03-27 19:18:16,064 - instantiating class <class 'PatientVec.models.modules.Embedder.Embedder'> from params {'type': 'token_embedder', 'vocab_size': 19054, 'embed_size': 200, 'embedding_file': './preprocess/HipSurgery/1_yrs/embedding_matrix.npy'} and extras {}\n",
      "INFO - 2019-03-27 19:18:16,064 - embedder.type = token_embedder\n",
      "INFO - 2019-03-27 19:18:16,064 - instantiating class <class 'PatientVec.models.modules.Embedder.TokenEmbedder'> from params {'vocab_size': 19054, 'embed_size': 200, 'embedding_file': './preprocess/HipSurgery/1_yrs/embedding_matrix.npy'} and extras {}\n",
      "INFO - 2019-03-27 19:18:16,065 - embedder.vocab_size = 19054\n",
      "INFO - 2019-03-27 19:18:16,065 - embedder.embed_size = 200\n",
      "INFO - 2019-03-27 19:18:16,065 - embedder.embedding_file = ./preprocess/HipSurgery/1_yrs/embedding_matrix.npy\n",
      "INFO - 2019-03-27 19:18:16,075 - instantiating class <class 'PatientVec.models.modules.Encoder.Encoder'> from params {'type': 'cnn', 'hidden_size': 64, 'kernel_sizes': [3, 5, 7, 9], 'activation': 'relu'} and extras {'input_size': 200}\n",
      "INFO - 2019-03-27 19:18:16,075 - encoder.type = cnn\n",
      "INFO - 2019-03-27 19:18:16,075 - instantiating class <class 'PatientVec.models.modules.Encoder.CNNEncoder'> from params {'hidden_size': 64, 'kernel_sizes': [3, 5, 7, 9], 'activation': 'relu'} and extras {'input_size': 200}\n",
      "INFO - 2019-03-27 19:18:16,076 - encoder.hidden_size = 64\n",
      "INFO - 2019-03-27 19:18:16,076 - encoder.kernel_sizes = [3, 5, 7, 9]\n",
      "INFO - 2019-03-27 19:18:16,076 - encoder.activation = relu\n",
      "INFO - 2019-03-27 19:18:16,079 - decoder.input_dim = 256\n",
      "INFO - 2019-03-27 19:18:16,079 - decoder.num_layers = 2\n",
      "INFO - 2019-03-27 19:18:16,079 - decoder.hidden_dims = [128, 1]\n",
      "INFO - 2019-03-27 19:18:16,080 - decoder.activations = ['tanh', 'linear']\n",
      "INFO - 2019-03-27 19:18:16,080 - decoder.dropout = 0.0\n",
      "INFO - 2019-03-27 19:18:16,081 - instantiating class <class 'PatientVec.models.modules.Predictor.Predictor'> from params {'type': 'binary'} and extras {}\n",
      "INFO - 2019-03-27 19:18:16,082 - predictor.type = binary\n",
      "INFO - 2019-03-27 19:18:16,082 - instantiating class <class 'PatientVec.models.modules.Predictor.Binary_Predictor'> from params {} and extras {}\n",
      "INFO - 2019-03-27 19:18:16,082 - predictor.replicate = False\n",
      "INFO - 2019-03-27 19:18:16,082 - predictor.alpha = 0.5\n"
     ]
    },
    {
     "name": "stdout",
     "output_type": "stream",
     "text": [
      "{'model': {'type': 'seq_classifier', 'embedder': {'type': 'token_embedder', 'vocab_size': 19054, 'embed_size': 200, 'embedding_file': './preprocess/HipSurgery/1_yrs/embedding_matrix.npy'}, 'decoder': {'num_layers': 2, 'hidden_dims': [128, 1], 'activations': ['tanh', 'linear']}, 'predictor': {'type': 'binary'}, 'structured': {'use_structured': False}, 'encoder': {'type': 'average', 'projection': True, 'hidden_size': 256, 'activation': 'relu'}}, 'training_config': {'type': 'Adam', 'groups': [('.*', {'lr': 0.001, 'weight_decay': 1e-05})], 'common': {'bsize': 16, 'class_weight': True}}, 'exp_config': {'exp_name': 'HipSurgery_1/Basic/Average(hs=256)', 'basepath': 'outputs/'}}\n",
      "Setting Embedding\n",
      "{'model': {'type': 'seq_classifier', 'embedder': {'type': 'token_embedder', 'vocab_size': 19054, 'embed_size': 200, 'embedding_file': './preprocess/HipSurgery/1_yrs/embedding_matrix.npy'}, 'decoder': {'num_layers': 2, 'hidden_dims': [128, 1], 'activations': ['tanh', 'linear']}, 'predictor': {'type': 'binary'}, 'structured': {'use_structured': False}, 'encoder': {'type': 'lstm', 'hidden_size': 128}}, 'training_config': {'type': 'Adam', 'groups': [('.*', {'lr': 0.001, 'weight_decay': 1e-05})], 'common': {'bsize': 16, 'class_weight': True}}, 'exp_config': {'exp_name': 'HipSurgery_1/Basic/LSTM(hs=128)', 'basepath': 'outputs/'}}\n",
      "Setting Embedding\n",
      "{'model': {'type': 'seq_classifier', 'embedder': {'type': 'token_embedder', 'vocab_size': 19054, 'embed_size': 200, 'embedding_file': './preprocess/HipSurgery/1_yrs/embedding_matrix.npy'}, 'decoder': {'num_layers': 2, 'hidden_dims': [128, 1], 'activations': ['tanh', 'linear']}, 'predictor': {'type': 'binary'}, 'structured': {'use_structured': False}, 'encoder': {'type': 'cnn', 'hidden_size': 64, 'kernel_sizes': [3, 5, 7, 9], 'activation': 'relu'}}, 'training_config': {'type': 'Adam', 'groups': [('.*', {'lr': 0.001, 'weight_decay': 1e-05})], 'common': {'bsize': 16, 'class_weight': True}}, 'exp_config': {'exp_name': 'HipSurgery_1/Basic/CNN(hs=64)(kernels=3,5,7,9)', 'basepath': 'outputs/'}}\n",
      "Setting Embedding\n",
      "Pos Percentage [0.10839746]\n"
     ]
    },
    {
     "name": "stderr",
     "output_type": "stream",
     "text": [
      "INFO - 2019-03-27 19:18:16,931 - Maximum Sentence Length 585530.000000 , 90 percentile length 22037.000000 ... \n",
      "INFO - 2019-03-27 19:18:18,185 - Truncated all ...\n",
      "INFO - 2019-03-27 19:18:18,189 - Idxs removed []...\n",
      "INFO - 2019-03-27 19:18:18,358 - Maximum Sentence Length 65362.000000 , 90 percentile length 18471.000000 ... \n"
     ]
    },
    {
     "name": "stdout",
     "output_type": "stream",
     "text": [
      "Pos Percentage [0.08990536]\n"
     ]
    },
    {
     "name": "stderr",
     "output_type": "stream",
     "text": [
      "INFO - 2019-03-27 19:18:18,631 - Truncated all ...\n",
      "INFO - 2019-03-27 19:18:18,632 - Idxs removed []...\n",
      "INFO - 2019-03-27 19:18:18,783 - Maximum Sentence Length 109694.000000 , 90 percentile length 19819.000000 ... \n"
     ]
    },
    {
     "name": "stdout",
     "output_type": "stream",
     "text": [
      "Pos Percentage [0.07606973]\n"
     ]
    },
    {
     "name": "stderr",
     "output_type": "stream",
     "text": [
      "INFO - 2019-03-27 19:18:19,072 - Truncated all ...\n",
      "INFO - 2019-03-27 19:18:19,073 - Idxs removed []...\n",
      "INFO - 2019-03-27 19:18:19,089 - instantiating class <class 'PatientVec.models.Model.Model'> from params {'type': 'seq_classifier_with_attention', 'embedder': {'type': 'token_embedder', 'vocab_size': 19054, 'embed_size': 200, 'embedding_file': './preprocess/HipSurgery/1_yrs/embedding_matrix.npy'}, 'decoder': {'num_layers': 2, 'hidden_dims': [128, 1], 'activations': ['tanh', 'linear']}, 'predictor': {'type': 'binary'}, 'structured': {'use_structured': False}, 'encoder': {'type': 'average', 'projection': True, 'hidden_size': 256, 'activation': 'relu'}, 'attention': {'similarity': {'type': 'additive', 'hidden_size': 128}}} and extras {}\n",
      "INFO - 2019-03-27 19:18:19,089 - type = seq_classifier_with_attention\n",
      "INFO - 2019-03-27 19:18:19,090 - instantiating class <class 'PatientVec.models.modules.Embedder.Embedder'> from params {'type': 'token_embedder', 'vocab_size': 19054, 'embed_size': 200, 'embedding_file': './preprocess/HipSurgery/1_yrs/embedding_matrix.npy'} and extras {}\n",
      "INFO - 2019-03-27 19:18:19,090 - embedder.type = token_embedder\n",
      "INFO - 2019-03-27 19:18:19,091 - instantiating class <class 'PatientVec.models.modules.Embedder.TokenEmbedder'> from params {'vocab_size': 19054, 'embed_size': 200, 'embedding_file': './preprocess/HipSurgery/1_yrs/embedding_matrix.npy'} and extras {}\n",
      "INFO - 2019-03-27 19:18:19,091 - embedder.vocab_size = 19054\n",
      "INFO - 2019-03-27 19:18:19,092 - embedder.embed_size = 200\n",
      "INFO - 2019-03-27 19:18:19,092 - embedder.embedding_file = ./preprocess/HipSurgery/1_yrs/embedding_matrix.npy\n",
      "INFO - 2019-03-27 19:18:19,102 - instantiating class <class 'PatientVec.models.modules.Encoder.Encoder'> from params {'type': 'average', 'projection': True, 'hidden_size': 256, 'activation': 'relu'} and extras {'input_size': 200}\n",
      "INFO - 2019-03-27 19:18:19,102 - encoder.type = average\n",
      "INFO - 2019-03-27 19:18:19,103 - instantiating class <class 'PatientVec.models.modules.Encoder.AverageEncoder'> from params {'projection': True, 'hidden_size': 256, 'activation': 'relu'} and extras {'input_size': 200}\n",
      "INFO - 2019-03-27 19:18:19,103 - encoder.projection = True\n",
      "INFO - 2019-03-27 19:18:19,103 - encoder.hidden_size = 256\n",
      "INFO - 2019-03-27 19:18:19,103 - encoder.activation = relu\n",
      "INFO - 2019-03-27 19:18:19,105 - instantiating class <class 'PatientVec.models.modules.SelfAttention.SelfAttention'> from params {'similarity': {'type': 'additive', 'hidden_size': 128, 'tensor_1_dim': 256}} and extras {}\n",
      "INFO - 2019-03-27 19:18:19,105 - instantiating class <class 'PatientVec.models.modules.UniSimilarity.UniSimilarity'> from params {'type': 'additive', 'hidden_size': 128, 'tensor_1_dim': 256} and extras {}\n",
      "INFO - 2019-03-27 19:18:19,105 - attention.similarity.type = additive\n",
      "INFO - 2019-03-27 19:18:19,105 - instantiating class <class 'PatientVec.models.modules.UniSimilarity.UniAdditiveSimilarity'> from params {'hidden_size': 128, 'tensor_1_dim': 256} and extras {}\n",
      "INFO - 2019-03-27 19:18:19,106 - attention.similarity.tensor_1_dim = 256\n",
      "INFO - 2019-03-27 19:18:19,106 - attention.similarity.hidden_size = 128\n",
      "INFO - 2019-03-27 19:18:19,106 - attention.similarity.output_size = 1\n",
      "INFO - 2019-03-27 19:18:19,108 - attention.normaliser = softmax\n",
      "INFO - 2019-03-27 19:18:19,108 - decoder.input_dim = 256\n",
      "INFO - 2019-03-27 19:18:19,108 - decoder.num_layers = 2\n",
      "INFO - 2019-03-27 19:18:19,108 - decoder.hidden_dims = [128, 1]\n",
      "INFO - 2019-03-27 19:18:19,108 - decoder.activations = ['tanh', 'linear']\n",
      "INFO - 2019-03-27 19:18:19,109 - decoder.dropout = 0.0\n",
      "INFO - 2019-03-27 19:18:19,109 - instantiating class <class 'PatientVec.models.modules.Predictor.Predictor'> from params {'type': 'binary'} and extras {}\n",
      "INFO - 2019-03-27 19:18:19,110 - predictor.type = binary\n",
      "INFO - 2019-03-27 19:18:19,111 - instantiating class <class 'PatientVec.models.modules.Predictor.Binary_Predictor'> from params {} and extras {}\n",
      "INFO - 2019-03-27 19:18:19,111 - predictor.replicate = False\n",
      "INFO - 2019-03-27 19:18:19,111 - predictor.alpha = 0.5\n",
      "INFO - 2019-03-27 19:18:19,122 - instantiating class <class 'PatientVec.models.Model.Model'> from params {'type': 'seq_classifier_with_attention', 'embedder': {'type': 'token_embedder', 'vocab_size': 19054, 'embed_size': 200, 'embedding_file': './preprocess/HipSurgery/1_yrs/embedding_matrix.npy'}, 'decoder': {'num_layers': 2, 'hidden_dims': [128, 1], 'activations': ['tanh', 'linear']}, 'predictor': {'type': 'binary'}, 'structured': {'use_structured': False}, 'encoder': {'type': 'lstm', 'hidden_size': 128}, 'attention': {'similarity': {'type': 'additive', 'hidden_size': 128}}} and extras {}\n",
      "INFO - 2019-03-27 19:18:19,122 - type = seq_classifier_with_attention\n",
      "INFO - 2019-03-27 19:18:19,123 - instantiating class <class 'PatientVec.models.modules.Embedder.Embedder'> from params {'type': 'token_embedder', 'vocab_size': 19054, 'embed_size': 200, 'embedding_file': './preprocess/HipSurgery/1_yrs/embedding_matrix.npy'} and extras {}\n",
      "INFO - 2019-03-27 19:18:19,123 - embedder.type = token_embedder\n",
      "INFO - 2019-03-27 19:18:19,123 - instantiating class <class 'PatientVec.models.modules.Embedder.TokenEmbedder'> from params {'vocab_size': 19054, 'embed_size': 200, 'embedding_file': './preprocess/HipSurgery/1_yrs/embedding_matrix.npy'} and extras {}\n",
      "INFO - 2019-03-27 19:18:19,123 - embedder.vocab_size = 19054\n",
      "INFO - 2019-03-27 19:18:19,124 - embedder.embed_size = 200\n",
      "INFO - 2019-03-27 19:18:19,126 - embedder.embedding_file = ./preprocess/HipSurgery/1_yrs/embedding_matrix.npy\n",
      "INFO - 2019-03-27 19:18:19,136 - instantiating class <class 'PatientVec.models.modules.Encoder.Encoder'> from params {'type': 'lstm', 'hidden_size': 128} and extras {'input_size': 200}\n",
      "INFO - 2019-03-27 19:18:19,136 - encoder.type = lstm\n",
      "INFO - 2019-03-27 19:18:19,136 - instantiating class <class 'PatientVec.models.modules.Encoder.wrap_pytorch_rnn.<locals>.BiRNNEncoder'> from params {'hidden_size': 128} and extras {'input_size': 200}\n",
      "INFO - 2019-03-27 19:18:19,137 - encoder.hidden_size = 128\n",
      "INFO - 2019-03-27 19:18:19,139 - instantiating class <class 'PatientVec.models.modules.SelfAttention.SelfAttention'> from params {'similarity': {'type': 'additive', 'hidden_size': 128, 'tensor_1_dim': 256}} and extras {}\n",
      "INFO - 2019-03-27 19:18:19,139 - instantiating class <class 'PatientVec.models.modules.UniSimilarity.UniSimilarity'> from params {'type': 'additive', 'hidden_size': 128, 'tensor_1_dim': 256} and extras {}\n",
      "INFO - 2019-03-27 19:18:19,140 - attention.similarity.type = additive\n",
      "INFO - 2019-03-27 19:18:19,140 - instantiating class <class 'PatientVec.models.modules.UniSimilarity.UniAdditiveSimilarity'> from params {'hidden_size': 128, 'tensor_1_dim': 256} and extras {}\n",
      "INFO - 2019-03-27 19:18:19,140 - attention.similarity.tensor_1_dim = 256\n",
      "INFO - 2019-03-27 19:18:19,140 - attention.similarity.hidden_size = 128\n",
      "INFO - 2019-03-27 19:18:19,141 - attention.similarity.output_size = 1\n",
      "INFO - 2019-03-27 19:18:19,142 - attention.normaliser = softmax\n",
      "INFO - 2019-03-27 19:18:19,142 - decoder.input_dim = 256\n",
      "INFO - 2019-03-27 19:18:19,143 - decoder.num_layers = 2\n",
      "INFO - 2019-03-27 19:18:19,143 - decoder.hidden_dims = [128, 1]\n",
      "INFO - 2019-03-27 19:18:19,143 - decoder.activations = ['tanh', 'linear']\n",
      "INFO - 2019-03-27 19:18:19,143 - decoder.dropout = 0.0\n",
      "INFO - 2019-03-27 19:18:19,145 - instantiating class <class 'PatientVec.models.modules.Predictor.Predictor'> from params {'type': 'binary'} and extras {}\n",
      "INFO - 2019-03-27 19:18:19,145 - predictor.type = binary\n",
      "INFO - 2019-03-27 19:18:19,145 - instantiating class <class 'PatientVec.models.modules.Predictor.Binary_Predictor'> from params {} and extras {}\n",
      "INFO - 2019-03-27 19:18:19,146 - predictor.replicate = False\n",
      "INFO - 2019-03-27 19:18:19,146 - predictor.alpha = 0.5\n",
      "INFO - 2019-03-27 19:18:19,159 - instantiating class <class 'PatientVec.models.Model.Model'> from params {'type': 'seq_classifier_with_attention', 'embedder': {'type': 'token_embedder', 'vocab_size': 19054, 'embed_size': 200, 'embedding_file': './preprocess/HipSurgery/1_yrs/embedding_matrix.npy'}, 'decoder': {'num_layers': 2, 'hidden_dims': [128, 1], 'activations': ['tanh', 'linear']}, 'predictor': {'type': 'binary'}, 'structured': {'use_structured': False}, 'encoder': {'type': 'cnn', 'hidden_size': 64, 'kernel_sizes': [3, 5, 7, 9], 'activation': 'relu'}, 'attention': {'similarity': {'type': 'additive', 'hidden_size': 128}}} and extras {}\n",
      "INFO - 2019-03-27 19:18:19,159 - type = seq_classifier_with_attention\n",
      "INFO - 2019-03-27 19:18:19,160 - instantiating class <class 'PatientVec.models.modules.Embedder.Embedder'> from params {'type': 'token_embedder', 'vocab_size': 19054, 'embed_size': 200, 'embedding_file': './preprocess/HipSurgery/1_yrs/embedding_matrix.npy'} and extras {}\n",
      "INFO - 2019-03-27 19:18:19,160 - embedder.type = token_embedder\n",
      "INFO - 2019-03-27 19:18:19,160 - instantiating class <class 'PatientVec.models.modules.Embedder.TokenEmbedder'> from params {'vocab_size': 19054, 'embed_size': 200, 'embedding_file': './preprocess/HipSurgery/1_yrs/embedding_matrix.npy'} and extras {}\n",
      "INFO - 2019-03-27 19:18:19,160 - embedder.vocab_size = 19054\n",
      "INFO - 2019-03-27 19:18:19,161 - embedder.embed_size = 200\n",
      "INFO - 2019-03-27 19:18:19,161 - embedder.embedding_file = ./preprocess/HipSurgery/1_yrs/embedding_matrix.npy\n",
      "INFO - 2019-03-27 19:18:19,170 - instantiating class <class 'PatientVec.models.modules.Encoder.Encoder'> from params {'type': 'cnn', 'hidden_size': 64, 'kernel_sizes': [3, 5, 7, 9], 'activation': 'relu'} and extras {'input_size': 200}\n",
      "INFO - 2019-03-27 19:18:19,171 - encoder.type = cnn\n",
      "INFO - 2019-03-27 19:18:19,171 - instantiating class <class 'PatientVec.models.modules.Encoder.CNNEncoder'> from params {'hidden_size': 64, 'kernel_sizes': [3, 5, 7, 9], 'activation': 'relu'} and extras {'input_size': 200}\n",
      "INFO - 2019-03-27 19:18:19,171 - encoder.hidden_size = 64\n",
      "INFO - 2019-03-27 19:18:19,171 - encoder.kernel_sizes = [3, 5, 7, 9]\n",
      "INFO - 2019-03-27 19:18:19,172 - encoder.activation = relu\n",
      "INFO - 2019-03-27 19:18:19,174 - instantiating class <class 'PatientVec.models.modules.SelfAttention.SelfAttention'> from params {'similarity': {'type': 'additive', 'hidden_size': 128, 'tensor_1_dim': 256}} and extras {}\n",
      "INFO - 2019-03-27 19:18:19,175 - instantiating class <class 'PatientVec.models.modules.UniSimilarity.UniSimilarity'> from params {'type': 'additive', 'hidden_size': 128, 'tensor_1_dim': 256} and extras {}\n",
      "INFO - 2019-03-27 19:18:19,175 - attention.similarity.type = additive\n",
      "INFO - 2019-03-27 19:18:19,175 - instantiating class <class 'PatientVec.models.modules.UniSimilarity.UniAdditiveSimilarity'> from params {'hidden_size': 128, 'tensor_1_dim': 256} and extras {}\n",
      "INFO - 2019-03-27 19:18:19,175 - attention.similarity.tensor_1_dim = 256\n",
      "INFO - 2019-03-27 19:18:19,176 - attention.similarity.hidden_size = 128\n",
      "INFO - 2019-03-27 19:18:19,176 - attention.similarity.output_size = 1\n",
      "INFO - 2019-03-27 19:18:19,177 - attention.normaliser = softmax\n",
      "INFO - 2019-03-27 19:18:19,178 - decoder.input_dim = 256\n",
      "INFO - 2019-03-27 19:18:19,178 - decoder.num_layers = 2\n",
      "INFO - 2019-03-27 19:18:19,178 - decoder.hidden_dims = [128, 1]\n",
      "INFO - 2019-03-27 19:18:19,178 - decoder.activations = ['tanh', 'linear']\n",
      "INFO - 2019-03-27 19:18:19,178 - decoder.dropout = 0.0\n",
      "INFO - 2019-03-27 19:18:19,180 - instantiating class <class 'PatientVec.models.modules.Predictor.Predictor'> from params {'type': 'binary'} and extras {}\n",
      "INFO - 2019-03-27 19:18:19,180 - predictor.type = binary\n",
      "INFO - 2019-03-27 19:18:19,180 - instantiating class <class 'PatientVec.models.modules.Predictor.Binary_Predictor'> from params {} and extras {}\n",
      "INFO - 2019-03-27 19:18:19,181 - predictor.replicate = False\n",
      "INFO - 2019-03-27 19:18:19,181 - predictor.alpha = 0.5\n"
     ]
    },
    {
     "name": "stdout",
     "output_type": "stream",
     "text": [
      "{'model': {'type': 'seq_classifier_with_attention', 'embedder': {'type': 'token_embedder', 'vocab_size': 19054, 'embed_size': 200, 'embedding_file': './preprocess/HipSurgery/1_yrs/embedding_matrix.npy'}, 'decoder': {'num_layers': 2, 'hidden_dims': [128, 1], 'activations': ['tanh', 'linear']}, 'predictor': {'type': 'binary'}, 'structured': {'use_structured': False}, 'encoder': {'type': 'average', 'projection': True, 'hidden_size': 256, 'activation': 'relu'}, 'attention': {'similarity': {'type': 'additive', 'hidden_size': 128}}}, 'training_config': {'type': 'Adam', 'groups': [('.*', {'lr': 0.001, 'weight_decay': 1e-05})], 'common': {'bsize': 16, 'class_weight': True}}, 'exp_config': {'exp_name': 'HipSurgery_1/Attention/Average(hs=256)+Attention(additive)(hs=128)', 'basepath': 'outputs/'}}\n",
      "Setting Embedding\n",
      "{'model': {'type': 'seq_classifier_with_attention', 'embedder': {'type': 'token_embedder', 'vocab_size': 19054, 'embed_size': 200, 'embedding_file': './preprocess/HipSurgery/1_yrs/embedding_matrix.npy'}, 'decoder': {'num_layers': 2, 'hidden_dims': [128, 1], 'activations': ['tanh', 'linear']}, 'predictor': {'type': 'binary'}, 'structured': {'use_structured': False}, 'encoder': {'type': 'lstm', 'hidden_size': 128}, 'attention': {'similarity': {'type': 'additive', 'hidden_size': 128}}}, 'training_config': {'type': 'Adam', 'groups': [('.*', {'lr': 0.001, 'weight_decay': 1e-05})], 'common': {'bsize': 16, 'class_weight': True}}, 'exp_config': {'exp_name': 'HipSurgery_1/Attention/LSTM(hs=128)+Attention(additive)(hs=128)', 'basepath': 'outputs/'}}\n",
      "Setting Embedding\n",
      "{'model': {'type': 'seq_classifier_with_attention', 'embedder': {'type': 'token_embedder', 'vocab_size': 19054, 'embed_size': 200, 'embedding_file': './preprocess/HipSurgery/1_yrs/embedding_matrix.npy'}, 'decoder': {'num_layers': 2, 'hidden_dims': [128, 1], 'activations': ['tanh', 'linear']}, 'predictor': {'type': 'binary'}, 'structured': {'use_structured': False}, 'encoder': {'type': 'cnn', 'hidden_size': 64, 'kernel_sizes': [3, 5, 7, 9], 'activation': 'relu'}, 'attention': {'similarity': {'type': 'additive', 'hidden_size': 128}}}, 'training_config': {'type': 'Adam', 'groups': [('.*', {'lr': 0.001, 'weight_decay': 1e-05})], 'common': {'bsize': 16, 'class_weight': True}}, 'exp_config': {'exp_name': 'HipSurgery_1/Attention/CNN(hs=64)(kernels=3,5,7,9)+Attention(additive)(hs=128)', 'basepath': 'outputs/'}}\n",
      "Setting Embedding\n",
      "Pos Percentage [0.10839746]\n"
     ]
    },
    {
     "name": "stderr",
     "output_type": "stream",
     "text": [
      "INFO - 2019-03-27 19:18:20,071 - Maximum Sentence Length 585530.000000 , 90 percentile length 22037.000000 ... \n",
      "INFO - 2019-03-27 19:18:21,331 - Truncated all ...\n",
      "INFO - 2019-03-27 19:18:21,335 - Idxs removed []...\n",
      "INFO - 2019-03-27 19:18:21,507 - Maximum Sentence Length 65362.000000 , 90 percentile length 18471.000000 ... \n"
     ]
    },
    {
     "name": "stdout",
     "output_type": "stream",
     "text": [
      "Pos Percentage [0.08990536]\n"
     ]
    },
    {
     "name": "stderr",
     "output_type": "stream",
     "text": [
      "INFO - 2019-03-27 19:18:21,776 - Truncated all ...\n",
      "INFO - 2019-03-27 19:18:21,777 - Idxs removed []...\n",
      "INFO - 2019-03-27 19:18:21,930 - Maximum Sentence Length 109694.000000 , 90 percentile length 19819.000000 ... \n"
     ]
    },
    {
     "name": "stdout",
     "output_type": "stream",
     "text": [
      "Pos Percentage [0.07606973]\n"
     ]
    },
    {
     "name": "stderr",
     "output_type": "stream",
     "text": [
      "INFO - 2019-03-27 19:18:22,221 - Truncated all ...\n",
      "INFO - 2019-03-27 19:18:22,222 - Idxs removed []...\n",
      "INFO - 2019-03-27 19:18:22,238 - instantiating class <class 'PatientVec.models.Model.Model'> from params {'type': 'seq_classifier', 'embedder': {'type': 'token_embedder', 'vocab_size': 19054, 'embed_size': 200, 'embedding_file': './preprocess/HipSurgery/1_yrs/embedding_matrix.npy'}, 'decoder': {'num_layers': 2, 'hidden_dims': [128, 1], 'activations': ['tanh', 'linear']}, 'predictor': {'type': 'binary'}, 'structured': {'use_structured': False}, 'encoder': {'type': 'sru', 'hidden_size': 128}} and extras {}\n",
      "INFO - 2019-03-27 19:18:22,238 - type = seq_classifier\n",
      "INFO - 2019-03-27 19:18:22,239 - instantiating class <class 'PatientVec.models.modules.Embedder.Embedder'> from params {'type': 'token_embedder', 'vocab_size': 19054, 'embed_size': 200, 'embedding_file': './preprocess/HipSurgery/1_yrs/embedding_matrix.npy'} and extras {}\n",
      "INFO - 2019-03-27 19:18:22,239 - embedder.type = token_embedder\n",
      "INFO - 2019-03-27 19:18:22,239 - instantiating class <class 'PatientVec.models.modules.Embedder.TokenEmbedder'> from params {'vocab_size': 19054, 'embed_size': 200, 'embedding_file': './preprocess/HipSurgery/1_yrs/embedding_matrix.npy'} and extras {}\n",
      "INFO - 2019-03-27 19:18:22,240 - embedder.vocab_size = 19054\n",
      "INFO - 2019-03-27 19:18:22,240 - embedder.embed_size = 200\n",
      "INFO - 2019-03-27 19:18:22,240 - embedder.embedding_file = ./preprocess/HipSurgery/1_yrs/embedding_matrix.npy\n",
      "INFO - 2019-03-27 19:18:22,250 - instantiating class <class 'PatientVec.models.modules.Encoder.Encoder'> from params {'type': 'sru', 'hidden_size': 128} and extras {'input_size': 200}\n",
      "INFO - 2019-03-27 19:18:22,251 - encoder.type = sru\n",
      "INFO - 2019-03-27 19:18:22,251 - instantiating class <class 'PatientVec.models.modules.Encoder.SRUEncoder'> from params {'hidden_size': 128} and extras {'input_size': 200}\n",
      "INFO - 2019-03-27 19:18:22,251 - encoder.hidden_size = 128\n",
      "INFO - 2019-03-27 19:18:22,255 - decoder.input_dim = 256\n",
      "INFO - 2019-03-27 19:18:22,255 - decoder.num_layers = 2\n",
      "INFO - 2019-03-27 19:18:22,255 - decoder.hidden_dims = [128, 1]\n",
      "INFO - 2019-03-27 19:18:22,255 - decoder.activations = ['tanh', 'linear']\n",
      "INFO - 2019-03-27 19:18:22,256 - decoder.dropout = 0.0\n",
      "INFO - 2019-03-27 19:18:22,257 - instantiating class <class 'PatientVec.models.modules.Predictor.Predictor'> from params {'type': 'binary'} and extras {}\n",
      "INFO - 2019-03-27 19:18:22,257 - predictor.type = binary\n",
      "INFO - 2019-03-27 19:18:22,258 - instantiating class <class 'PatientVec.models.modules.Predictor.Binary_Predictor'> from params {} and extras {}\n",
      "INFO - 2019-03-27 19:18:22,258 - predictor.replicate = False\n",
      "INFO - 2019-03-27 19:18:22,258 - predictor.alpha = 0.5\n",
      "INFO - 2019-03-27 19:18:22,270 - instantiating class <class 'PatientVec.models.Model.Model'> from params {'type': 'seq_classifier_with_attention', 'embedder': {'type': 'token_embedder', 'vocab_size': 19054, 'embed_size': 200, 'embedding_file': './preprocess/HipSurgery/1_yrs/embedding_matrix.npy'}, 'decoder': {'num_layers': 2, 'hidden_dims': [128, 1], 'activations': ['tanh', 'linear']}, 'predictor': {'type': 'binary'}, 'structured': {'use_structured': False}, 'encoder': {'type': 'sru', 'hidden_size': 128}, 'attention': {'similarity': {'type': 'additive', 'hidden_size': 128}}} and extras {}\n",
      "INFO - 2019-03-27 19:18:22,271 - type = seq_classifier_with_attention\n",
      "INFO - 2019-03-27 19:18:22,271 - instantiating class <class 'PatientVec.models.modules.Embedder.Embedder'> from params {'type': 'token_embedder', 'vocab_size': 19054, 'embed_size': 200, 'embedding_file': './preprocess/HipSurgery/1_yrs/embedding_matrix.npy'} and extras {}\n",
      "INFO - 2019-03-27 19:18:22,271 - embedder.type = token_embedder\n",
      "INFO - 2019-03-27 19:18:22,272 - instantiating class <class 'PatientVec.models.modules.Embedder.TokenEmbedder'> from params {'vocab_size': 19054, 'embed_size': 200, 'embedding_file': './preprocess/HipSurgery/1_yrs/embedding_matrix.npy'} and extras {}\n",
      "INFO - 2019-03-27 19:18:22,272 - embedder.vocab_size = 19054\n",
      "INFO - 2019-03-27 19:18:22,272 - embedder.embed_size = 200\n",
      "INFO - 2019-03-27 19:18:22,272 - embedder.embedding_file = ./preprocess/HipSurgery/1_yrs/embedding_matrix.npy\n",
      "INFO - 2019-03-27 19:18:22,282 - instantiating class <class 'PatientVec.models.modules.Encoder.Encoder'> from params {'type': 'sru', 'hidden_size': 128} and extras {'input_size': 200}\n",
      "INFO - 2019-03-27 19:18:22,283 - encoder.type = sru\n",
      "INFO - 2019-03-27 19:18:22,283 - instantiating class <class 'PatientVec.models.modules.Encoder.SRUEncoder'> from params {'hidden_size': 128} and extras {'input_size': 200}\n",
      "INFO - 2019-03-27 19:18:22,284 - encoder.hidden_size = 128\n",
      "INFO - 2019-03-27 19:18:22,290 - instantiating class <class 'PatientVec.models.modules.SelfAttention.SelfAttention'> from params {'similarity': {'type': 'additive', 'hidden_size': 128, 'tensor_1_dim': 256}} and extras {}\n",
      "INFO - 2019-03-27 19:18:22,290 - instantiating class <class 'PatientVec.models.modules.UniSimilarity.UniSimilarity'> from params {'type': 'additive', 'hidden_size': 128, 'tensor_1_dim': 256} and extras {}\n",
      "INFO - 2019-03-27 19:18:22,290 - attention.similarity.type = additive\n",
      "INFO - 2019-03-27 19:18:22,291 - instantiating class <class 'PatientVec.models.modules.UniSimilarity.UniAdditiveSimilarity'> from params {'hidden_size': 128, 'tensor_1_dim': 256} and extras {}\n",
      "INFO - 2019-03-27 19:18:22,291 - attention.similarity.tensor_1_dim = 256\n",
      "INFO - 2019-03-27 19:18:22,291 - attention.similarity.hidden_size = 128\n",
      "INFO - 2019-03-27 19:18:22,292 - attention.similarity.output_size = 1\n",
      "INFO - 2019-03-27 19:18:22,293 - attention.normaliser = softmax\n",
      "INFO - 2019-03-27 19:18:22,294 - decoder.input_dim = 256\n",
      "INFO - 2019-03-27 19:18:22,294 - decoder.num_layers = 2\n",
      "INFO - 2019-03-27 19:18:22,294 - decoder.hidden_dims = [128, 1]\n",
      "INFO - 2019-03-27 19:18:22,294 - decoder.activations = ['tanh', 'linear']\n",
      "INFO - 2019-03-27 19:18:22,295 - decoder.dropout = 0.0\n",
      "INFO - 2019-03-27 19:18:22,296 - instantiating class <class 'PatientVec.models.modules.Predictor.Predictor'> from params {'type': 'binary'} and extras {}\n",
      "INFO - 2019-03-27 19:18:22,296 - predictor.type = binary\n",
      "INFO - 2019-03-27 19:18:22,296 - instantiating class <class 'PatientVec.models.modules.Predictor.Binary_Predictor'> from params {} and extras {}\n",
      "INFO - 2019-03-27 19:18:22,297 - predictor.replicate = False\n",
      "INFO - 2019-03-27 19:18:22,297 - predictor.alpha = 0.5\n"
     ]
    },
    {
     "name": "stdout",
     "output_type": "stream",
     "text": [
      "{'model': {'type': 'seq_classifier', 'embedder': {'type': 'token_embedder', 'vocab_size': 19054, 'embed_size': 200, 'embedding_file': './preprocess/HipSurgery/1_yrs/embedding_matrix.npy'}, 'decoder': {'num_layers': 2, 'hidden_dims': [128, 1], 'activations': ['tanh', 'linear']}, 'predictor': {'type': 'binary'}, 'structured': {'use_structured': False}, 'encoder': {'type': 'sru', 'hidden_size': 128}}, 'training_config': {'type': 'Adam', 'groups': [('.*', {'lr': 0.001, 'weight_decay': 1e-05})], 'common': {'bsize': 16, 'class_weight': True}}, 'exp_config': {'exp_name': 'HipSurgery_1/Basic/SRU(hs=128)', 'basepath': 'outputs/'}}\n",
      "Setting Embedding\n",
      "{'model': {'type': 'seq_classifier_with_attention', 'embedder': {'type': 'token_embedder', 'vocab_size': 19054, 'embed_size': 200, 'embedding_file': './preprocess/HipSurgery/1_yrs/embedding_matrix.npy'}, 'decoder': {'num_layers': 2, 'hidden_dims': [128, 1], 'activations': ['tanh', 'linear']}, 'predictor': {'type': 'binary'}, 'structured': {'use_structured': False}, 'encoder': {'type': 'sru', 'hidden_size': 128}, 'attention': {'similarity': {'type': 'additive', 'hidden_size': 128}}}, 'training_config': {'type': 'Adam', 'groups': [('.*', {'lr': 0.001, 'weight_decay': 1e-05})], 'common': {'bsize': 16, 'class_weight': True}}, 'exp_config': {'exp_name': 'HipSurgery_1/Attention/SRU(hs=128)+Attention(additive)(hs=128)', 'basepath': 'outputs/'}}\n",
      "Setting Embedding\n"
     ]
    },
    {
     "name": "stderr",
     "output_type": "stream",
     "text": [
      "INFO - 2019-03-27 19:18:23,091 - Reading Structured data ...\n",
      "INFO - 2019-03-27 19:18:23,223 - Reading Notes ...\n",
      "INFO - 2019-03-27 19:18:24,189 - Stratifying ...\n"
     ]
    },
    {
     "name": "stdout",
     "output_type": "stream",
     "text": [
      "Pos Percentage [0.10839746]\n"
     ]
    },
    {
     "name": "stderr",
     "output_type": "stream",
     "text": [
      "INFO - 2019-03-27 19:18:25,213 - Maximum Sentence Length 585530.000000 , 90 percentile length 22037.000000 ... \n",
      "INFO - 2019-03-27 19:18:26,885 - Truncated all ...\n",
      "INFO - 2019-03-27 19:18:26,889 - Idxs removed []...\n",
      "INFO - 2019-03-27 19:18:27,122 - Maximum Sentence Length 65362.000000 , 90 percentile length 18471.000000 ... \n"
     ]
    },
    {
     "name": "stdout",
     "output_type": "stream",
     "text": [
      "Pos Percentage [0.08990536]\n"
     ]
    },
    {
     "name": "stderr",
     "output_type": "stream",
     "text": [
      "INFO - 2019-03-27 19:18:27,435 - Truncated all ...\n",
      "INFO - 2019-03-27 19:18:27,437 - Idxs removed []...\n",
      "INFO - 2019-03-27 19:18:27,641 - Maximum Sentence Length 109694.000000 , 90 percentile length 19819.000000 ... \n"
     ]
    },
    {
     "name": "stdout",
     "output_type": "stream",
     "text": [
      "Pos Percentage [0.07606973]\n"
     ]
    },
    {
     "name": "stderr",
     "output_type": "stream",
     "text": [
      "INFO - 2019-03-27 19:18:28,013 - Truncated all ...\n",
      "INFO - 2019-03-27 19:18:28,014 - Idxs removed []...\n",
      "INFO - 2019-03-27 19:18:28,037 - instantiating class <class 'PatientVec.models.Model.Model'> from params {'type': 'hierarchical_classifier_with_attention', 'embedder': {'type': 'token_embedder', 'vocab_size': 19054, 'embed_size': 200, 'embedding_file': './preprocess/HipSurgery/1_yrs/embedding_matrix.npy'}, 'decoder': {'num_layers': 2, 'hidden_dims': [128, 1], 'activations': ['tanh', 'linear']}, 'predictor': {'type': 'binary'}, 'structured': {'use_structured': False}, 'word_encoder': {'type': 'lstm', 'hidden_size': 128}, 'word_attention': {'similarity': {'type': 'additive', 'hidden_size': 128}}, 'sentence_encoder': {'type': 'lstm', 'hidden_size': 128}, 'sentence_attention': {'similarity': {'type': 'additive', 'hidden_size': 128}}} and extras {}\n",
      "INFO - 2019-03-27 19:18:28,037 - type = hierarchical_classifier_with_attention\n",
      "INFO - 2019-03-27 19:18:28,038 - instantiating class <class 'PatientVec.models.modules.Embedder.Embedder'> from params {'type': 'token_embedder', 'vocab_size': 19054, 'embed_size': 200, 'embedding_file': './preprocess/HipSurgery/1_yrs/embedding_matrix.npy'} and extras {}\n",
      "INFO - 2019-03-27 19:18:28,038 - embedder.type = token_embedder\n",
      "INFO - 2019-03-27 19:18:28,039 - instantiating class <class 'PatientVec.models.modules.Embedder.TokenEmbedder'> from params {'vocab_size': 19054, 'embed_size': 200, 'embedding_file': './preprocess/HipSurgery/1_yrs/embedding_matrix.npy'} and extras {}\n",
      "INFO - 2019-03-27 19:18:28,039 - embedder.vocab_size = 19054\n",
      "INFO - 2019-03-27 19:18:28,039 - embedder.embed_size = 200\n",
      "INFO - 2019-03-27 19:18:28,040 - embedder.embedding_file = ./preprocess/HipSurgery/1_yrs/embedding_matrix.npy\n",
      "INFO - 2019-03-27 19:18:28,050 - instantiating class <class 'PatientVec.models.modules.Encoder.Encoder'> from params {'type': 'lstm', 'hidden_size': 128} and extras {'input_size': 200}\n",
      "INFO - 2019-03-27 19:18:28,050 - word_encoder.type = lstm\n",
      "INFO - 2019-03-27 19:18:28,050 - instantiating class <class 'PatientVec.models.modules.Encoder.wrap_pytorch_rnn.<locals>.BiRNNEncoder'> from params {'hidden_size': 128} and extras {'input_size': 200}\n",
      "INFO - 2019-03-27 19:18:28,051 - word_encoder.hidden_size = 128\n",
      "INFO - 2019-03-27 19:18:28,053 - instantiating class <class 'PatientVec.models.modules.SelfAttention.SelfAttention'> from params {'similarity': {'type': 'additive', 'hidden_size': 128, 'tensor_1_dim': 256}} and extras {}\n",
      "INFO - 2019-03-27 19:18:28,054 - instantiating class <class 'PatientVec.models.modules.UniSimilarity.UniSimilarity'> from params {'type': 'additive', 'hidden_size': 128, 'tensor_1_dim': 256} and extras {}\n",
      "INFO - 2019-03-27 19:18:28,054 - word_attention.similarity.type = additive\n",
      "INFO - 2019-03-27 19:18:28,054 - instantiating class <class 'PatientVec.models.modules.UniSimilarity.UniAdditiveSimilarity'> from params {'hidden_size': 128, 'tensor_1_dim': 256} and extras {}\n",
      "INFO - 2019-03-27 19:18:28,055 - word_attention.similarity.tensor_1_dim = 256\n",
      "INFO - 2019-03-27 19:18:28,055 - word_attention.similarity.hidden_size = 128\n",
      "INFO - 2019-03-27 19:18:28,055 - word_attention.similarity.output_size = 1\n",
      "INFO - 2019-03-27 19:18:28,057 - word_attention.normaliser = softmax\n",
      "INFO - 2019-03-27 19:18:28,057 - instantiating class <class 'PatientVec.models.modules.Encoder.Encoder'> from params {'type': 'lstm', 'hidden_size': 128} and extras {'input_size': 256}\n",
      "INFO - 2019-03-27 19:18:28,057 - sentence_encoder.type = lstm\n",
      "INFO - 2019-03-27 19:18:28,058 - instantiating class <class 'PatientVec.models.modules.Encoder.wrap_pytorch_rnn.<locals>.BiRNNEncoder'> from params {'hidden_size': 128} and extras {'input_size': 256}\n",
      "INFO - 2019-03-27 19:18:28,058 - sentence_encoder.hidden_size = 128\n",
      "INFO - 2019-03-27 19:18:28,060 - instantiating class <class 'PatientVec.models.modules.SelfAttention.SelfAttention'> from params {'similarity': {'type': 'additive', 'hidden_size': 128, 'tensor_1_dim': 256}} and extras {}\n",
      "INFO - 2019-03-27 19:18:28,061 - instantiating class <class 'PatientVec.models.modules.UniSimilarity.UniSimilarity'> from params {'type': 'additive', 'hidden_size': 128, 'tensor_1_dim': 256} and extras {}\n",
      "INFO - 2019-03-27 19:18:28,061 - sentence_attention.similarity.type = additive\n",
      "INFO - 2019-03-27 19:18:28,061 - instantiating class <class 'PatientVec.models.modules.UniSimilarity.UniAdditiveSimilarity'> from params {'hidden_size': 128, 'tensor_1_dim': 256} and extras {}\n",
      "INFO - 2019-03-27 19:18:28,062 - sentence_attention.similarity.tensor_1_dim = 256\n",
      "INFO - 2019-03-27 19:18:28,062 - sentence_attention.similarity.hidden_size = 128\n",
      "INFO - 2019-03-27 19:18:28,062 - sentence_attention.similarity.output_size = 1\n",
      "INFO - 2019-03-27 19:18:28,064 - sentence_attention.normaliser = softmax\n",
      "INFO - 2019-03-27 19:18:28,064 - decoder.input_dim = 256\n",
      "INFO - 2019-03-27 19:18:28,064 - decoder.num_layers = 2\n",
      "INFO - 2019-03-27 19:18:28,065 - decoder.hidden_dims = [128, 1]\n",
      "INFO - 2019-03-27 19:18:28,065 - decoder.activations = ['tanh', 'linear']\n",
      "INFO - 2019-03-27 19:18:28,065 - decoder.dropout = 0.0\n",
      "INFO - 2019-03-27 19:18:28,067 - instantiating class <class 'PatientVec.models.modules.Predictor.Predictor'> from params {'type': 'binary'} and extras {}\n",
      "INFO - 2019-03-27 19:18:28,067 - predictor.type = binary\n",
      "INFO - 2019-03-27 19:18:28,069 - instantiating class <class 'PatientVec.models.modules.Predictor.Binary_Predictor'> from params {} and extras {}\n",
      "INFO - 2019-03-27 19:18:28,070 - predictor.replicate = False\n",
      "INFO - 2019-03-27 19:18:28,070 - predictor.alpha = 0.5\n"
     ]
    },
    {
     "name": "stdout",
     "output_type": "stream",
     "text": [
      "{'model': {'type': 'hierarchical_classifier_with_attention', 'embedder': {'type': 'token_embedder', 'vocab_size': 19054, 'embed_size': 200, 'embedding_file': './preprocess/HipSurgery/1_yrs/embedding_matrix.npy'}, 'decoder': {'num_layers': 2, 'hidden_dims': [128, 1], 'activations': ['tanh', 'linear']}, 'predictor': {'type': 'binary'}, 'structured': {'use_structured': False}, 'word_encoder': {'type': 'lstm', 'hidden_size': 128}, 'word_attention': {'similarity': {'type': 'additive', 'hidden_size': 128}}, 'sentence_encoder': {'type': 'lstm', 'hidden_size': 128}, 'sentence_attention': {'similarity': {'type': 'additive', 'hidden_size': 128}}}, 'training_config': {'type': 'Adam', 'groups': [('.*', {'lr': 0.001, 'weight_decay': 1e-05})], 'common': {'bsize': 16, 'class_weight': True}}, 'exp_config': {'exp_name': 'HipSurgery_1/Hierarchical Attention/LSTM(hs=128)+Attention(additive)(hs=128)+LSTM(hs=128)+Attention(additive)(hs=128)', 'basepath': 'outputs/'}}\n",
      "Setting Embedding\n"
     ]
    },
    {
     "name": "stderr",
     "output_type": "stream",
     "text": [
      "INFO - 2019-03-27 19:18:28,614 - Reading Structured data ...\n",
      "INFO - 2019-03-27 19:18:28,785 - Reading Notes ...\n",
      "INFO - 2019-03-27 19:18:30,699 - Stratifying ...\n"
     ]
    },
    {
     "name": "stdout",
     "output_type": "stream",
     "text": [
      "Pos Percentage [0.10104053]\n"
     ]
    },
    {
     "name": "stderr",
     "output_type": "stream",
     "text": [
      "INFO - 2019-03-27 19:18:31,731 - Maximum Sentence Length 169921.000000 , 90 percentile length 19951.000000 ... \n",
      "INFO - 2019-03-27 19:18:33,404 - Truncated all ...\n",
      "INFO - 2019-03-27 19:18:33,408 - Idxs removed []...\n",
      "INFO - 2019-03-27 19:18:33,693 - Maximum Sentence Length 55858.000000 , 90 percentile length 19968.000000 ... \n"
     ]
    },
    {
     "name": "stdout",
     "output_type": "stream",
     "text": [
      "Pos Percentage [0.10237203]\n"
     ]
    },
    {
     "name": "stderr",
     "output_type": "stream",
     "text": [
      "INFO - 2019-03-27 19:18:34,078 - Truncated all ...\n",
      "INFO - 2019-03-27 19:18:34,080 - Idxs removed []...\n",
      "INFO - 2019-03-27 19:18:34,306 - Maximum Sentence Length 109699.000000 , 90 percentile length 16324.000000 ... \n"
     ]
    },
    {
     "name": "stdout",
     "output_type": "stream",
     "text": [
      "Pos Percentage [0.09433962]\n"
     ]
    },
    {
     "name": "stderr",
     "output_type": "stream",
     "text": [
      "INFO - 2019-03-27 19:18:34,612 - Truncated all ...\n",
      "INFO - 2019-03-27 19:18:34,613 - Idxs removed []...\n",
      "INFO - 2019-03-27 19:18:34,635 - instantiating class <class 'PatientVec.models.Model.Model'> from params {'type': 'seq_classifier', 'embedder': {'type': 'token_embedder', 'vocab_size': 18542, 'embed_size': 200, 'embedding_file': './preprocess/KneeSurgery/1_yrs/embedding_matrix.npy'}, 'decoder': {'num_layers': 2, 'hidden_dims': [128, 1], 'activations': ['tanh', 'linear']}, 'predictor': {'type': 'binary'}, 'structured': {'use_structured': False}, 'encoder': {'type': 'average', 'projection': True, 'hidden_size': 256, 'activation': 'relu'}} and extras {}\n",
      "INFO - 2019-03-27 19:18:34,636 - type = seq_classifier\n",
      "INFO - 2019-03-27 19:18:34,636 - instantiating class <class 'PatientVec.models.modules.Embedder.Embedder'> from params {'type': 'token_embedder', 'vocab_size': 18542, 'embed_size': 200, 'embedding_file': './preprocess/KneeSurgery/1_yrs/embedding_matrix.npy'} and extras {}\n",
      "INFO - 2019-03-27 19:18:34,636 - embedder.type = token_embedder\n",
      "INFO - 2019-03-27 19:18:34,637 - instantiating class <class 'PatientVec.models.modules.Embedder.TokenEmbedder'> from params {'vocab_size': 18542, 'embed_size': 200, 'embedding_file': './preprocess/KneeSurgery/1_yrs/embedding_matrix.npy'} and extras {}\n",
      "INFO - 2019-03-27 19:18:34,637 - embedder.vocab_size = 18542\n",
      "INFO - 2019-03-27 19:18:34,638 - embedder.embed_size = 200\n",
      "INFO - 2019-03-27 19:18:34,638 - embedder.embedding_file = ./preprocess/KneeSurgery/1_yrs/embedding_matrix.npy\n",
      "INFO - 2019-03-27 19:18:34,649 - instantiating class <class 'PatientVec.models.modules.Encoder.Encoder'> from params {'type': 'average', 'projection': True, 'hidden_size': 256, 'activation': 'relu'} and extras {'input_size': 200}\n",
      "INFO - 2019-03-27 19:18:34,649 - encoder.type = average\n",
      "INFO - 2019-03-27 19:18:34,650 - instantiating class <class 'PatientVec.models.modules.Encoder.AverageEncoder'> from params {'projection': True, 'hidden_size': 256, 'activation': 'relu'} and extras {'input_size': 200}\n",
      "INFO - 2019-03-27 19:18:34,650 - encoder.projection = True\n",
      "INFO - 2019-03-27 19:18:34,650 - encoder.hidden_size = 256\n",
      "INFO - 2019-03-27 19:18:34,650 - encoder.activation = relu\n",
      "INFO - 2019-03-27 19:18:34,652 - decoder.input_dim = 256\n",
      "INFO - 2019-03-27 19:18:34,652 - decoder.num_layers = 2\n",
      "INFO - 2019-03-27 19:18:34,652 - decoder.hidden_dims = [128, 1]\n",
      "INFO - 2019-03-27 19:18:34,652 - decoder.activations = ['tanh', 'linear']\n",
      "INFO - 2019-03-27 19:18:34,653 - decoder.dropout = 0.0\n",
      "INFO - 2019-03-27 19:18:34,654 - instantiating class <class 'PatientVec.models.modules.Predictor.Predictor'> from params {'type': 'binary'} and extras {}\n",
      "INFO - 2019-03-27 19:18:34,654 - predictor.type = binary\n",
      "INFO - 2019-03-27 19:18:34,654 - instantiating class <class 'PatientVec.models.modules.Predictor.Binary_Predictor'> from params {} and extras {}\n",
      "INFO - 2019-03-27 19:18:34,655 - predictor.replicate = False\n",
      "INFO - 2019-03-27 19:18:34,655 - predictor.alpha = 0.5\n",
      "INFO - 2019-03-27 19:18:34,667 - instantiating class <class 'PatientVec.models.Model.Model'> from params {'type': 'seq_classifier', 'embedder': {'type': 'token_embedder', 'vocab_size': 18542, 'embed_size': 200, 'embedding_file': './preprocess/KneeSurgery/1_yrs/embedding_matrix.npy'}, 'decoder': {'num_layers': 2, 'hidden_dims': [128, 1], 'activations': ['tanh', 'linear']}, 'predictor': {'type': 'binary'}, 'structured': {'use_structured': False}, 'encoder': {'type': 'lstm', 'hidden_size': 128}} and extras {}\n",
      "INFO - 2019-03-27 19:18:34,668 - type = seq_classifier\n",
      "INFO - 2019-03-27 19:18:34,668 - instantiating class <class 'PatientVec.models.modules.Embedder.Embedder'> from params {'type': 'token_embedder', 'vocab_size': 18542, 'embed_size': 200, 'embedding_file': './preprocess/KneeSurgery/1_yrs/embedding_matrix.npy'} and extras {}\n",
      "INFO - 2019-03-27 19:18:34,668 - embedder.type = token_embedder\n",
      "INFO - 2019-03-27 19:18:34,668 - instantiating class <class 'PatientVec.models.modules.Embedder.TokenEmbedder'> from params {'vocab_size': 18542, 'embed_size': 200, 'embedding_file': './preprocess/KneeSurgery/1_yrs/embedding_matrix.npy'} and extras {}\n",
      "INFO - 2019-03-27 19:18:34,669 - embedder.vocab_size = 18542\n",
      "INFO - 2019-03-27 19:18:34,670 - embedder.embed_size = 200\n",
      "INFO - 2019-03-27 19:18:34,670 - embedder.embedding_file = ./preprocess/KneeSurgery/1_yrs/embedding_matrix.npy\n",
      "INFO - 2019-03-27 19:18:34,680 - instantiating class <class 'PatientVec.models.modules.Encoder.Encoder'> from params {'type': 'lstm', 'hidden_size': 128} and extras {'input_size': 200}\n",
      "INFO - 2019-03-27 19:18:34,680 - encoder.type = lstm\n",
      "INFO - 2019-03-27 19:18:34,680 - instantiating class <class 'PatientVec.models.modules.Encoder.wrap_pytorch_rnn.<locals>.BiRNNEncoder'> from params {'hidden_size': 128} and extras {'input_size': 200}\n",
      "INFO - 2019-03-27 19:18:34,681 - encoder.hidden_size = 128\n",
      "INFO - 2019-03-27 19:18:34,683 - decoder.input_dim = 256\n",
      "INFO - 2019-03-27 19:18:34,683 - decoder.num_layers = 2\n",
      "INFO - 2019-03-27 19:18:34,684 - decoder.hidden_dims = [128, 1]\n",
      "INFO - 2019-03-27 19:18:34,684 - decoder.activations = ['tanh', 'linear']\n",
      "INFO - 2019-03-27 19:18:34,684 - decoder.dropout = 0.0\n",
      "INFO - 2019-03-27 19:18:34,704 - instantiating class <class 'PatientVec.models.modules.Predictor.Predictor'> from params {'type': 'binary'} and extras {}\n",
      "INFO - 2019-03-27 19:18:34,705 - predictor.type = binary\n",
      "INFO - 2019-03-27 19:18:34,705 - instantiating class <class 'PatientVec.models.modules.Predictor.Binary_Predictor'> from params {} and extras {}\n",
      "INFO - 2019-03-27 19:18:34,705 - predictor.replicate = False\n",
      "INFO - 2019-03-27 19:18:34,705 - predictor.alpha = 0.5\n",
      "INFO - 2019-03-27 19:18:34,717 - instantiating class <class 'PatientVec.models.Model.Model'> from params {'type': 'seq_classifier', 'embedder': {'type': 'token_embedder', 'vocab_size': 18542, 'embed_size': 200, 'embedding_file': './preprocess/KneeSurgery/1_yrs/embedding_matrix.npy'}, 'decoder': {'num_layers': 2, 'hidden_dims': [128, 1], 'activations': ['tanh', 'linear']}, 'predictor': {'type': 'binary'}, 'structured': {'use_structured': False}, 'encoder': {'type': 'cnn', 'hidden_size': 64, 'kernel_sizes': [3, 5, 7, 9], 'activation': 'relu'}} and extras {}\n",
      "INFO - 2019-03-27 19:18:34,717 - type = seq_classifier\n",
      "INFO - 2019-03-27 19:18:34,718 - instantiating class <class 'PatientVec.models.modules.Embedder.Embedder'> from params {'type': 'token_embedder', 'vocab_size': 18542, 'embed_size': 200, 'embedding_file': './preprocess/KneeSurgery/1_yrs/embedding_matrix.npy'} and extras {}\n",
      "INFO - 2019-03-27 19:18:34,718 - embedder.type = token_embedder\n",
      "INFO - 2019-03-27 19:18:34,718 - instantiating class <class 'PatientVec.models.modules.Embedder.TokenEmbedder'> from params {'vocab_size': 18542, 'embed_size': 200, 'embedding_file': './preprocess/KneeSurgery/1_yrs/embedding_matrix.npy'} and extras {}\n",
      "INFO - 2019-03-27 19:18:34,719 - embedder.vocab_size = 18542\n",
      "INFO - 2019-03-27 19:18:34,719 - embedder.embed_size = 200\n",
      "INFO - 2019-03-27 19:18:34,719 - embedder.embedding_file = ./preprocess/KneeSurgery/1_yrs/embedding_matrix.npy\n",
      "INFO - 2019-03-27 19:18:34,729 - instantiating class <class 'PatientVec.models.modules.Encoder.Encoder'> from params {'type': 'cnn', 'hidden_size': 64, 'kernel_sizes': [3, 5, 7, 9], 'activation': 'relu'} and extras {'input_size': 200}\n",
      "INFO - 2019-03-27 19:18:34,730 - encoder.type = cnn\n",
      "INFO - 2019-03-27 19:18:34,730 - instantiating class <class 'PatientVec.models.modules.Encoder.CNNEncoder'> from params {'hidden_size': 64, 'kernel_sizes': [3, 5, 7, 9], 'activation': 'relu'} and extras {'input_size': 200}\n",
      "INFO - 2019-03-27 19:18:34,730 - encoder.hidden_size = 64\n",
      "INFO - 2019-03-27 19:18:34,730 - encoder.kernel_sizes = [3, 5, 7, 9]\n",
      "INFO - 2019-03-27 19:18:34,731 - encoder.activation = relu\n",
      "INFO - 2019-03-27 19:18:34,734 - decoder.input_dim = 256\n",
      "INFO - 2019-03-27 19:18:34,734 - decoder.num_layers = 2\n",
      "INFO - 2019-03-27 19:18:34,734 - decoder.hidden_dims = [128, 1]\n",
      "INFO - 2019-03-27 19:18:34,734 - decoder.activations = ['tanh', 'linear']\n",
      "INFO - 2019-03-27 19:18:34,734 - decoder.dropout = 0.0\n",
      "INFO - 2019-03-27 19:18:34,736 - instantiating class <class 'PatientVec.models.modules.Predictor.Predictor'> from params {'type': 'binary'} and extras {}\n",
      "INFO - 2019-03-27 19:18:34,736 - predictor.type = binary\n",
      "INFO - 2019-03-27 19:18:34,736 - instantiating class <class 'PatientVec.models.modules.Predictor.Binary_Predictor'> from params {} and extras {}\n",
      "INFO - 2019-03-27 19:18:34,736 - predictor.replicate = False\n",
      "INFO - 2019-03-27 19:18:34,737 - predictor.alpha = 0.5\n"
     ]
    },
    {
     "name": "stdout",
     "output_type": "stream",
     "text": [
      "{'model': {'type': 'seq_classifier', 'embedder': {'type': 'token_embedder', 'vocab_size': 18542, 'embed_size': 200, 'embedding_file': './preprocess/KneeSurgery/1_yrs/embedding_matrix.npy'}, 'decoder': {'num_layers': 2, 'hidden_dims': [128, 1], 'activations': ['tanh', 'linear']}, 'predictor': {'type': 'binary'}, 'structured': {'use_structured': False}, 'encoder': {'type': 'average', 'projection': True, 'hidden_size': 256, 'activation': 'relu'}}, 'training_config': {'type': 'Adam', 'groups': [('.*', {'lr': 0.001, 'weight_decay': 1e-05})], 'common': {'bsize': 16, 'class_weight': True}}, 'exp_config': {'exp_name': 'KneeSurgery_1/Basic/Average(hs=256)', 'basepath': 'outputs/'}}\n",
      "Setting Embedding\n",
      "{'model': {'type': 'seq_classifier', 'embedder': {'type': 'token_embedder', 'vocab_size': 18542, 'embed_size': 200, 'embedding_file': './preprocess/KneeSurgery/1_yrs/embedding_matrix.npy'}, 'decoder': {'num_layers': 2, 'hidden_dims': [128, 1], 'activations': ['tanh', 'linear']}, 'predictor': {'type': 'binary'}, 'structured': {'use_structured': False}, 'encoder': {'type': 'lstm', 'hidden_size': 128}}, 'training_config': {'type': 'Adam', 'groups': [('.*', {'lr': 0.001, 'weight_decay': 1e-05})], 'common': {'bsize': 16, 'class_weight': True}}, 'exp_config': {'exp_name': 'KneeSurgery_1/Basic/LSTM(hs=128)', 'basepath': 'outputs/'}}\n",
      "Setting Embedding\n",
      "{'model': {'type': 'seq_classifier', 'embedder': {'type': 'token_embedder', 'vocab_size': 18542, 'embed_size': 200, 'embedding_file': './preprocess/KneeSurgery/1_yrs/embedding_matrix.npy'}, 'decoder': {'num_layers': 2, 'hidden_dims': [128, 1], 'activations': ['tanh', 'linear']}, 'predictor': {'type': 'binary'}, 'structured': {'use_structured': False}, 'encoder': {'type': 'cnn', 'hidden_size': 64, 'kernel_sizes': [3, 5, 7, 9], 'activation': 'relu'}}, 'training_config': {'type': 'Adam', 'groups': [('.*', {'lr': 0.001, 'weight_decay': 1e-05})], 'common': {'bsize': 16, 'class_weight': True}}, 'exp_config': {'exp_name': 'KneeSurgery_1/Basic/CNN(hs=64)(kernels=3,5,7,9)', 'basepath': 'outputs/'}}\n",
      "Setting Embedding\n",
      "Pos Percentage [0.10104053]\n"
     ]
    },
    {
     "name": "stderr",
     "output_type": "stream",
     "text": [
      "INFO - 2019-03-27 19:18:35,844 - Maximum Sentence Length 169921.000000 , 90 percentile length 19951.000000 ... \n",
      "INFO - 2019-03-27 19:18:38,003 - Truncated all ...\n",
      "INFO - 2019-03-27 19:18:38,007 - Idxs removed []...\n",
      "INFO - 2019-03-27 19:18:38,293 - Maximum Sentence Length 55858.000000 , 90 percentile length 19968.000000 ... \n"
     ]
    },
    {
     "name": "stdout",
     "output_type": "stream",
     "text": [
      "Pos Percentage [0.10237203]\n"
     ]
    },
    {
     "name": "stderr",
     "output_type": "stream",
     "text": [
      "INFO - 2019-03-27 19:18:38,639 - Truncated all ...\n",
      "INFO - 2019-03-27 19:18:38,641 - Idxs removed []...\n",
      "INFO - 2019-03-27 19:18:38,889 - Maximum Sentence Length 109699.000000 , 90 percentile length 16324.000000 ... \n"
     ]
    },
    {
     "name": "stdout",
     "output_type": "stream",
     "text": [
      "Pos Percentage [0.09433962]\n"
     ]
    },
    {
     "name": "stderr",
     "output_type": "stream",
     "text": [
      "INFO - 2019-03-27 19:18:39,196 - Truncated all ...\n",
      "INFO - 2019-03-27 19:18:39,197 - Idxs removed []...\n",
      "INFO - 2019-03-27 19:18:39,218 - instantiating class <class 'PatientVec.models.Model.Model'> from params {'type': 'seq_classifier_with_attention', 'embedder': {'type': 'token_embedder', 'vocab_size': 18542, 'embed_size': 200, 'embedding_file': './preprocess/KneeSurgery/1_yrs/embedding_matrix.npy'}, 'decoder': {'num_layers': 2, 'hidden_dims': [128, 1], 'activations': ['tanh', 'linear']}, 'predictor': {'type': 'binary'}, 'structured': {'use_structured': False}, 'encoder': {'type': 'average', 'projection': True, 'hidden_size': 256, 'activation': 'relu'}, 'attention': {'similarity': {'type': 'additive', 'hidden_size': 128}}} and extras {}\n",
      "INFO - 2019-03-27 19:18:39,219 - type = seq_classifier_with_attention\n",
      "INFO - 2019-03-27 19:18:39,219 - instantiating class <class 'PatientVec.models.modules.Embedder.Embedder'> from params {'type': 'token_embedder', 'vocab_size': 18542, 'embed_size': 200, 'embedding_file': './preprocess/KneeSurgery/1_yrs/embedding_matrix.npy'} and extras {}\n",
      "INFO - 2019-03-27 19:18:39,219 - embedder.type = token_embedder\n",
      "INFO - 2019-03-27 19:18:39,220 - instantiating class <class 'PatientVec.models.modules.Embedder.TokenEmbedder'> from params {'vocab_size': 18542, 'embed_size': 200, 'embedding_file': './preprocess/KneeSurgery/1_yrs/embedding_matrix.npy'} and extras {}\n",
      "INFO - 2019-03-27 19:18:39,220 - embedder.vocab_size = 18542\n",
      "INFO - 2019-03-27 19:18:39,221 - embedder.embed_size = 200\n",
      "INFO - 2019-03-27 19:18:39,221 - embedder.embedding_file = ./preprocess/KneeSurgery/1_yrs/embedding_matrix.npy\n",
      "INFO - 2019-03-27 19:18:39,231 - instantiating class <class 'PatientVec.models.modules.Encoder.Encoder'> from params {'type': 'average', 'projection': True, 'hidden_size': 256, 'activation': 'relu'} and extras {'input_size': 200}\n",
      "INFO - 2019-03-27 19:18:39,232 - encoder.type = average\n",
      "INFO - 2019-03-27 19:18:39,232 - instantiating class <class 'PatientVec.models.modules.Encoder.AverageEncoder'> from params {'projection': True, 'hidden_size': 256, 'activation': 'relu'} and extras {'input_size': 200}\n",
      "INFO - 2019-03-27 19:18:39,232 - encoder.projection = True\n",
      "INFO - 2019-03-27 19:18:39,233 - encoder.hidden_size = 256\n",
      "INFO - 2019-03-27 19:18:39,233 - encoder.activation = relu\n",
      "INFO - 2019-03-27 19:18:39,235 - instantiating class <class 'PatientVec.models.modules.SelfAttention.SelfAttention'> from params {'similarity': {'type': 'additive', 'hidden_size': 128, 'tensor_1_dim': 256}} and extras {}\n",
      "INFO - 2019-03-27 19:18:39,235 - instantiating class <class 'PatientVec.models.modules.UniSimilarity.UniSimilarity'> from params {'type': 'additive', 'hidden_size': 128, 'tensor_1_dim': 256} and extras {}\n",
      "INFO - 2019-03-27 19:18:39,235 - attention.similarity.type = additive\n",
      "INFO - 2019-03-27 19:18:39,235 - instantiating class <class 'PatientVec.models.modules.UniSimilarity.UniAdditiveSimilarity'> from params {'hidden_size': 128, 'tensor_1_dim': 256} and extras {}\n",
      "INFO - 2019-03-27 19:18:39,236 - attention.similarity.tensor_1_dim = 256\n",
      "INFO - 2019-03-27 19:18:39,236 - attention.similarity.hidden_size = 128\n",
      "INFO - 2019-03-27 19:18:39,236 - attention.similarity.output_size = 1\n",
      "INFO - 2019-03-27 19:18:39,238 - attention.normaliser = softmax\n",
      "INFO - 2019-03-27 19:18:39,238 - decoder.input_dim = 256\n",
      "INFO - 2019-03-27 19:18:39,238 - decoder.num_layers = 2\n",
      "INFO - 2019-03-27 19:18:39,239 - decoder.hidden_dims = [128, 1]\n",
      "INFO - 2019-03-27 19:18:39,239 - decoder.activations = ['tanh', 'linear']\n",
      "INFO - 2019-03-27 19:18:39,239 - decoder.dropout = 0.0\n",
      "INFO - 2019-03-27 19:18:39,240 - instantiating class <class 'PatientVec.models.modules.Predictor.Predictor'> from params {'type': 'binary'} and extras {}\n",
      "INFO - 2019-03-27 19:18:39,241 - predictor.type = binary\n",
      "INFO - 2019-03-27 19:18:39,241 - instantiating class <class 'PatientVec.models.modules.Predictor.Binary_Predictor'> from params {} and extras {}\n",
      "INFO - 2019-03-27 19:18:39,241 - predictor.replicate = False\n",
      "INFO - 2019-03-27 19:18:39,242 - predictor.alpha = 0.5\n",
      "INFO - 2019-03-27 19:18:39,254 - instantiating class <class 'PatientVec.models.Model.Model'> from params {'type': 'seq_classifier_with_attention', 'embedder': {'type': 'token_embedder', 'vocab_size': 18542, 'embed_size': 200, 'embedding_file': './preprocess/KneeSurgery/1_yrs/embedding_matrix.npy'}, 'decoder': {'num_layers': 2, 'hidden_dims': [128, 1], 'activations': ['tanh', 'linear']}, 'predictor': {'type': 'binary'}, 'structured': {'use_structured': False}, 'encoder': {'type': 'lstm', 'hidden_size': 128}, 'attention': {'similarity': {'type': 'additive', 'hidden_size': 128}}} and extras {}\n",
      "INFO - 2019-03-27 19:18:39,254 - type = seq_classifier_with_attention\n",
      "INFO - 2019-03-27 19:18:39,254 - instantiating class <class 'PatientVec.models.modules.Embedder.Embedder'> from params {'type': 'token_embedder', 'vocab_size': 18542, 'embed_size': 200, 'embedding_file': './preprocess/KneeSurgery/1_yrs/embedding_matrix.npy'} and extras {}\n",
      "INFO - 2019-03-27 19:18:39,255 - embedder.type = token_embedder\n",
      "INFO - 2019-03-27 19:18:39,255 - instantiating class <class 'PatientVec.models.modules.Embedder.TokenEmbedder'> from params {'vocab_size': 18542, 'embed_size': 200, 'embedding_file': './preprocess/KneeSurgery/1_yrs/embedding_matrix.npy'} and extras {}\n",
      "INFO - 2019-03-27 19:18:39,255 - embedder.vocab_size = 18542\n",
      "INFO - 2019-03-27 19:18:39,256 - embedder.embed_size = 200\n",
      "INFO - 2019-03-27 19:18:39,256 - embedder.embedding_file = ./preprocess/KneeSurgery/1_yrs/embedding_matrix.npy\n",
      "INFO - 2019-03-27 19:18:39,266 - instantiating class <class 'PatientVec.models.modules.Encoder.Encoder'> from params {'type': 'lstm', 'hidden_size': 128} and extras {'input_size': 200}\n",
      "INFO - 2019-03-27 19:18:39,266 - encoder.type = lstm\n",
      "INFO - 2019-03-27 19:18:39,266 - instantiating class <class 'PatientVec.models.modules.Encoder.wrap_pytorch_rnn.<locals>.BiRNNEncoder'> from params {'hidden_size': 128} and extras {'input_size': 200}\n",
      "INFO - 2019-03-27 19:18:39,267 - encoder.hidden_size = 128\n",
      "INFO - 2019-03-27 19:18:39,269 - instantiating class <class 'PatientVec.models.modules.SelfAttention.SelfAttention'> from params {'similarity': {'type': 'additive', 'hidden_size': 128, 'tensor_1_dim': 256}} and extras {}\n",
      "INFO - 2019-03-27 19:18:39,269 - instantiating class <class 'PatientVec.models.modules.UniSimilarity.UniSimilarity'> from params {'type': 'additive', 'hidden_size': 128, 'tensor_1_dim': 256} and extras {}\n",
      "INFO - 2019-03-27 19:18:39,270 - attention.similarity.type = additive\n",
      "INFO - 2019-03-27 19:18:39,270 - instantiating class <class 'PatientVec.models.modules.UniSimilarity.UniAdditiveSimilarity'> from params {'hidden_size': 128, 'tensor_1_dim': 256} and extras {}\n",
      "INFO - 2019-03-27 19:18:39,270 - attention.similarity.tensor_1_dim = 256\n",
      "INFO - 2019-03-27 19:18:39,270 - attention.similarity.hidden_size = 128\n",
      "INFO - 2019-03-27 19:18:39,271 - attention.similarity.output_size = 1\n",
      "INFO - 2019-03-27 19:18:39,272 - attention.normaliser = softmax\n",
      "INFO - 2019-03-27 19:18:39,272 - decoder.input_dim = 256\n",
      "INFO - 2019-03-27 19:18:39,273 - decoder.num_layers = 2\n",
      "INFO - 2019-03-27 19:18:39,273 - decoder.hidden_dims = [128, 1]\n",
      "INFO - 2019-03-27 19:18:39,273 - decoder.activations = ['tanh', 'linear']\n",
      "INFO - 2019-03-27 19:18:39,273 - decoder.dropout = 0.0\n",
      "INFO - 2019-03-27 19:18:39,275 - instantiating class <class 'PatientVec.models.modules.Predictor.Predictor'> from params {'type': 'binary'} and extras {}\n",
      "INFO - 2019-03-27 19:18:39,275 - predictor.type = binary\n",
      "INFO - 2019-03-27 19:18:39,275 - instantiating class <class 'PatientVec.models.modules.Predictor.Binary_Predictor'> from params {} and extras {}\n",
      "INFO - 2019-03-27 19:18:39,276 - predictor.replicate = False\n",
      "INFO - 2019-03-27 19:18:39,276 - predictor.alpha = 0.5\n",
      "INFO - 2019-03-27 19:18:39,288 - instantiating class <class 'PatientVec.models.Model.Model'> from params {'type': 'seq_classifier_with_attention', 'embedder': {'type': 'token_embedder', 'vocab_size': 18542, 'embed_size': 200, 'embedding_file': './preprocess/KneeSurgery/1_yrs/embedding_matrix.npy'}, 'decoder': {'num_layers': 2, 'hidden_dims': [128, 1], 'activations': ['tanh', 'linear']}, 'predictor': {'type': 'binary'}, 'structured': {'use_structured': False}, 'encoder': {'type': 'cnn', 'hidden_size': 64, 'kernel_sizes': [3, 5, 7, 9], 'activation': 'relu'}, 'attention': {'similarity': {'type': 'additive', 'hidden_size': 128}}} and extras {}\n",
      "INFO - 2019-03-27 19:18:39,288 - type = seq_classifier_with_attention\n",
      "INFO - 2019-03-27 19:18:39,289 - instantiating class <class 'PatientVec.models.modules.Embedder.Embedder'> from params {'type': 'token_embedder', 'vocab_size': 18542, 'embed_size': 200, 'embedding_file': './preprocess/KneeSurgery/1_yrs/embedding_matrix.npy'} and extras {}\n",
      "INFO - 2019-03-27 19:18:39,289 - embedder.type = token_embedder\n",
      "INFO - 2019-03-27 19:18:39,289 - instantiating class <class 'PatientVec.models.modules.Embedder.TokenEmbedder'> from params {'vocab_size': 18542, 'embed_size': 200, 'embedding_file': './preprocess/KneeSurgery/1_yrs/embedding_matrix.npy'} and extras {}\n",
      "INFO - 2019-03-27 19:18:39,289 - embedder.vocab_size = 18542\n",
      "INFO - 2019-03-27 19:18:39,290 - embedder.embed_size = 200\n",
      "INFO - 2019-03-27 19:18:39,290 - embedder.embedding_file = ./preprocess/KneeSurgery/1_yrs/embedding_matrix.npy\n",
      "INFO - 2019-03-27 19:18:39,300 - instantiating class <class 'PatientVec.models.modules.Encoder.Encoder'> from params {'type': 'cnn', 'hidden_size': 64, 'kernel_sizes': [3, 5, 7, 9], 'activation': 'relu'} and extras {'input_size': 200}\n",
      "INFO - 2019-03-27 19:18:39,300 - encoder.type = cnn\n",
      "INFO - 2019-03-27 19:18:39,300 - instantiating class <class 'PatientVec.models.modules.Encoder.CNNEncoder'> from params {'hidden_size': 64, 'kernel_sizes': [3, 5, 7, 9], 'activation': 'relu'} and extras {'input_size': 200}\n",
      "INFO - 2019-03-27 19:18:39,301 - encoder.hidden_size = 64\n",
      "INFO - 2019-03-27 19:18:39,301 - encoder.kernel_sizes = [3, 5, 7, 9]\n",
      "INFO - 2019-03-27 19:18:39,301 - encoder.activation = relu\n",
      "INFO - 2019-03-27 19:18:39,304 - instantiating class <class 'PatientVec.models.modules.SelfAttention.SelfAttention'> from params {'similarity': {'type': 'additive', 'hidden_size': 128, 'tensor_1_dim': 256}} and extras {}\n",
      "INFO - 2019-03-27 19:18:39,305 - instantiating class <class 'PatientVec.models.modules.UniSimilarity.UniSimilarity'> from params {'type': 'additive', 'hidden_size': 128, 'tensor_1_dim': 256} and extras {}\n",
      "INFO - 2019-03-27 19:18:39,305 - attention.similarity.type = additive\n",
      "INFO - 2019-03-27 19:18:39,305 - instantiating class <class 'PatientVec.models.modules.UniSimilarity.UniAdditiveSimilarity'> from params {'hidden_size': 128, 'tensor_1_dim': 256} and extras {}\n",
      "INFO - 2019-03-27 19:18:39,305 - attention.similarity.tensor_1_dim = 256\n",
      "INFO - 2019-03-27 19:18:39,306 - attention.similarity.hidden_size = 128\n",
      "INFO - 2019-03-27 19:18:39,306 - attention.similarity.output_size = 1\n",
      "INFO - 2019-03-27 19:18:39,307 - attention.normaliser = softmax\n",
      "INFO - 2019-03-27 19:18:39,307 - decoder.input_dim = 256\n",
      "INFO - 2019-03-27 19:18:39,308 - decoder.num_layers = 2\n",
      "INFO - 2019-03-27 19:18:39,308 - decoder.hidden_dims = [128, 1]\n",
      "INFO - 2019-03-27 19:18:39,308 - decoder.activations = ['tanh', 'linear']\n",
      "INFO - 2019-03-27 19:18:39,308 - decoder.dropout = 0.0\n",
      "INFO - 2019-03-27 19:18:39,310 - instantiating class <class 'PatientVec.models.modules.Predictor.Predictor'> from params {'type': 'binary'} and extras {}\n",
      "INFO - 2019-03-27 19:18:39,310 - predictor.type = binary\n",
      "INFO - 2019-03-27 19:18:39,310 - instantiating class <class 'PatientVec.models.modules.Predictor.Binary_Predictor'> from params {} and extras {}\n",
      "INFO - 2019-03-27 19:18:39,310 - predictor.replicate = False\n",
      "INFO - 2019-03-27 19:18:39,311 - predictor.alpha = 0.5\n"
     ]
    },
    {
     "name": "stdout",
     "output_type": "stream",
     "text": [
      "{'model': {'type': 'seq_classifier_with_attention', 'embedder': {'type': 'token_embedder', 'vocab_size': 18542, 'embed_size': 200, 'embedding_file': './preprocess/KneeSurgery/1_yrs/embedding_matrix.npy'}, 'decoder': {'num_layers': 2, 'hidden_dims': [128, 1], 'activations': ['tanh', 'linear']}, 'predictor': {'type': 'binary'}, 'structured': {'use_structured': False}, 'encoder': {'type': 'average', 'projection': True, 'hidden_size': 256, 'activation': 'relu'}, 'attention': {'similarity': {'type': 'additive', 'hidden_size': 128}}}, 'training_config': {'type': 'Adam', 'groups': [('.*', {'lr': 0.001, 'weight_decay': 1e-05})], 'common': {'bsize': 16, 'class_weight': True}}, 'exp_config': {'exp_name': 'KneeSurgery_1/Attention/Average(hs=256)+Attention(additive)(hs=128)', 'basepath': 'outputs/'}}\n",
      "Setting Embedding\n",
      "{'model': {'type': 'seq_classifier_with_attention', 'embedder': {'type': 'token_embedder', 'vocab_size': 18542, 'embed_size': 200, 'embedding_file': './preprocess/KneeSurgery/1_yrs/embedding_matrix.npy'}, 'decoder': {'num_layers': 2, 'hidden_dims': [128, 1], 'activations': ['tanh', 'linear']}, 'predictor': {'type': 'binary'}, 'structured': {'use_structured': False}, 'encoder': {'type': 'lstm', 'hidden_size': 128}, 'attention': {'similarity': {'type': 'additive', 'hidden_size': 128}}}, 'training_config': {'type': 'Adam', 'groups': [('.*', {'lr': 0.001, 'weight_decay': 1e-05})], 'common': {'bsize': 16, 'class_weight': True}}, 'exp_config': {'exp_name': 'KneeSurgery_1/Attention/LSTM(hs=128)+Attention(additive)(hs=128)', 'basepath': 'outputs/'}}\n",
      "Setting Embedding\n",
      "{'model': {'type': 'seq_classifier_with_attention', 'embedder': {'type': 'token_embedder', 'vocab_size': 18542, 'embed_size': 200, 'embedding_file': './preprocess/KneeSurgery/1_yrs/embedding_matrix.npy'}, 'decoder': {'num_layers': 2, 'hidden_dims': [128, 1], 'activations': ['tanh', 'linear']}, 'predictor': {'type': 'binary'}, 'structured': {'use_structured': False}, 'encoder': {'type': 'cnn', 'hidden_size': 64, 'kernel_sizes': [3, 5, 7, 9], 'activation': 'relu'}, 'attention': {'similarity': {'type': 'additive', 'hidden_size': 128}}}, 'training_config': {'type': 'Adam', 'groups': [('.*', {'lr': 0.001, 'weight_decay': 1e-05})], 'common': {'bsize': 16, 'class_weight': True}}, 'exp_config': {'exp_name': 'KneeSurgery_1/Attention/CNN(hs=64)(kernels=3,5,7,9)+Attention(additive)(hs=128)', 'basepath': 'outputs/'}}\n",
      "Setting Embedding\n",
      "Pos Percentage [0.10104053]\n"
     ]
    },
    {
     "name": "stderr",
     "output_type": "stream",
     "text": [
      "INFO - 2019-03-27 19:18:40,424 - Maximum Sentence Length 169921.000000 , 90 percentile length 19951.000000 ... \n",
      "INFO - 2019-03-27 19:18:42,076 - Truncated all ...\n",
      "INFO - 2019-03-27 19:18:42,080 - Idxs removed []...\n",
      "INFO - 2019-03-27 19:18:42,367 - Maximum Sentence Length 55858.000000 , 90 percentile length 19968.000000 ... \n"
     ]
    },
    {
     "name": "stdout",
     "output_type": "stream",
     "text": [
      "Pos Percentage [0.10237203]\n"
     ]
    },
    {
     "name": "stderr",
     "output_type": "stream",
     "text": [
      "INFO - 2019-03-27 19:18:42,715 - Truncated all ...\n",
      "INFO - 2019-03-27 19:18:42,716 - Idxs removed []...\n",
      "INFO - 2019-03-27 19:18:42,963 - Maximum Sentence Length 109699.000000 , 90 percentile length 16324.000000 ... \n"
     ]
    },
    {
     "name": "stdout",
     "output_type": "stream",
     "text": [
      "Pos Percentage [0.09433962]\n"
     ]
    },
    {
     "name": "stderr",
     "output_type": "stream",
     "text": [
      "INFO - 2019-03-27 19:18:43,271 - Truncated all ...\n",
      "INFO - 2019-03-27 19:18:43,272 - Idxs removed []...\n",
      "INFO - 2019-03-27 19:18:43,294 - instantiating class <class 'PatientVec.models.Model.Model'> from params {'type': 'seq_classifier', 'embedder': {'type': 'token_embedder', 'vocab_size': 18542, 'embed_size': 200, 'embedding_file': './preprocess/KneeSurgery/1_yrs/embedding_matrix.npy'}, 'decoder': {'num_layers': 2, 'hidden_dims': [128, 1], 'activations': ['tanh', 'linear']}, 'predictor': {'type': 'binary'}, 'structured': {'use_structured': False}, 'encoder': {'type': 'sru', 'hidden_size': 128}} and extras {}\n",
      "INFO - 2019-03-27 19:18:43,295 - type = seq_classifier\n",
      "INFO - 2019-03-27 19:18:43,295 - instantiating class <class 'PatientVec.models.modules.Embedder.Embedder'> from params {'type': 'token_embedder', 'vocab_size': 18542, 'embed_size': 200, 'embedding_file': './preprocess/KneeSurgery/1_yrs/embedding_matrix.npy'} and extras {}\n",
      "INFO - 2019-03-27 19:18:43,295 - embedder.type = token_embedder\n",
      "INFO - 2019-03-27 19:18:43,296 - instantiating class <class 'PatientVec.models.modules.Embedder.TokenEmbedder'> from params {'vocab_size': 18542, 'embed_size': 200, 'embedding_file': './preprocess/KneeSurgery/1_yrs/embedding_matrix.npy'} and extras {}\n",
      "INFO - 2019-03-27 19:18:43,296 - embedder.vocab_size = 18542\n",
      "INFO - 2019-03-27 19:18:43,297 - embedder.embed_size = 200\n",
      "INFO - 2019-03-27 19:18:43,297 - embedder.embedding_file = ./preprocess/KneeSurgery/1_yrs/embedding_matrix.npy\n",
      "INFO - 2019-03-27 19:18:43,307 - instantiating class <class 'PatientVec.models.modules.Encoder.Encoder'> from params {'type': 'sru', 'hidden_size': 128} and extras {'input_size': 200}\n",
      "INFO - 2019-03-27 19:18:43,308 - encoder.type = sru\n",
      "INFO - 2019-03-27 19:18:43,308 - instantiating class <class 'PatientVec.models.modules.Encoder.SRUEncoder'> from params {'hidden_size': 128} and extras {'input_size': 200}\n",
      "INFO - 2019-03-27 19:18:43,308 - encoder.hidden_size = 128\n",
      "INFO - 2019-03-27 19:18:43,311 - decoder.input_dim = 256\n",
      "INFO - 2019-03-27 19:18:43,311 - decoder.num_layers = 2\n",
      "INFO - 2019-03-27 19:18:43,312 - decoder.hidden_dims = [128, 1]\n",
      "INFO - 2019-03-27 19:18:43,312 - decoder.activations = ['tanh', 'linear']\n",
      "INFO - 2019-03-27 19:18:43,312 - decoder.dropout = 0.0\n",
      "INFO - 2019-03-27 19:18:43,313 - instantiating class <class 'PatientVec.models.modules.Predictor.Predictor'> from params {'type': 'binary'} and extras {}\n",
      "INFO - 2019-03-27 19:18:43,314 - predictor.type = binary\n",
      "INFO - 2019-03-27 19:18:43,314 - instantiating class <class 'PatientVec.models.modules.Predictor.Binary_Predictor'> from params {} and extras {}\n",
      "INFO - 2019-03-27 19:18:43,314 - predictor.replicate = False\n",
      "INFO - 2019-03-27 19:18:43,314 - predictor.alpha = 0.5\n",
      "INFO - 2019-03-27 19:18:43,325 - instantiating class <class 'PatientVec.models.Model.Model'> from params {'type': 'seq_classifier_with_attention', 'embedder': {'type': 'token_embedder', 'vocab_size': 18542, 'embed_size': 200, 'embedding_file': './preprocess/KneeSurgery/1_yrs/embedding_matrix.npy'}, 'decoder': {'num_layers': 2, 'hidden_dims': [128, 1], 'activations': ['tanh', 'linear']}, 'predictor': {'type': 'binary'}, 'structured': {'use_structured': False}, 'encoder': {'type': 'sru', 'hidden_size': 128}, 'attention': {'similarity': {'type': 'additive', 'hidden_size': 128}}} and extras {}\n",
      "INFO - 2019-03-27 19:18:43,325 - type = seq_classifier_with_attention\n",
      "INFO - 2019-03-27 19:18:43,325 - instantiating class <class 'PatientVec.models.modules.Embedder.Embedder'> from params {'type': 'token_embedder', 'vocab_size': 18542, 'embed_size': 200, 'embedding_file': './preprocess/KneeSurgery/1_yrs/embedding_matrix.npy'} and extras {}\n",
      "INFO - 2019-03-27 19:18:43,326 - embedder.type = token_embedder\n",
      "INFO - 2019-03-27 19:18:43,326 - instantiating class <class 'PatientVec.models.modules.Embedder.TokenEmbedder'> from params {'vocab_size': 18542, 'embed_size': 200, 'embedding_file': './preprocess/KneeSurgery/1_yrs/embedding_matrix.npy'} and extras {}\n",
      "INFO - 2019-03-27 19:18:43,326 - embedder.vocab_size = 18542\n",
      "INFO - 2019-03-27 19:18:43,327 - embedder.embed_size = 200\n",
      "INFO - 2019-03-27 19:18:43,327 - embedder.embedding_file = ./preprocess/KneeSurgery/1_yrs/embedding_matrix.npy\n",
      "INFO - 2019-03-27 19:18:43,336 - instantiating class <class 'PatientVec.models.modules.Encoder.Encoder'> from params {'type': 'sru', 'hidden_size': 128} and extras {'input_size': 200}\n",
      "INFO - 2019-03-27 19:18:43,337 - encoder.type = sru\n",
      "INFO - 2019-03-27 19:18:43,337 - instantiating class <class 'PatientVec.models.modules.Encoder.SRUEncoder'> from params {'hidden_size': 128} and extras {'input_size': 200}\n",
      "INFO - 2019-03-27 19:18:43,337 - encoder.hidden_size = 128\n",
      "INFO - 2019-03-27 19:18:43,340 - instantiating class <class 'PatientVec.models.modules.SelfAttention.SelfAttention'> from params {'similarity': {'type': 'additive', 'hidden_size': 128, 'tensor_1_dim': 256}} and extras {}\n",
      "INFO - 2019-03-27 19:18:43,341 - instantiating class <class 'PatientVec.models.modules.UniSimilarity.UniSimilarity'> from params {'type': 'additive', 'hidden_size': 128, 'tensor_1_dim': 256} and extras {}\n",
      "INFO - 2019-03-27 19:18:43,341 - attention.similarity.type = additive\n",
      "INFO - 2019-03-27 19:18:43,341 - instantiating class <class 'PatientVec.models.modules.UniSimilarity.UniAdditiveSimilarity'> from params {'hidden_size': 128, 'tensor_1_dim': 256} and extras {}\n",
      "INFO - 2019-03-27 19:18:43,342 - attention.similarity.tensor_1_dim = 256\n",
      "INFO - 2019-03-27 19:18:43,342 - attention.similarity.hidden_size = 128\n",
      "INFO - 2019-03-27 19:18:43,342 - attention.similarity.output_size = 1\n",
      "INFO - 2019-03-27 19:18:43,343 - attention.normaliser = softmax\n",
      "INFO - 2019-03-27 19:18:43,343 - decoder.input_dim = 256\n",
      "INFO - 2019-03-27 19:18:43,344 - decoder.num_layers = 2\n",
      "INFO - 2019-03-27 19:18:43,344 - decoder.hidden_dims = [128, 1]\n",
      "INFO - 2019-03-27 19:18:43,344 - decoder.activations = ['tanh', 'linear']\n",
      "INFO - 2019-03-27 19:18:43,345 - decoder.dropout = 0.0\n",
      "INFO - 2019-03-27 19:18:43,346 - instantiating class <class 'PatientVec.models.modules.Predictor.Predictor'> from params {'type': 'binary'} and extras {}\n",
      "INFO - 2019-03-27 19:18:43,346 - predictor.type = binary\n",
      "INFO - 2019-03-27 19:18:43,346 - instantiating class <class 'PatientVec.models.modules.Predictor.Binary_Predictor'> from params {} and extras {}\n",
      "INFO - 2019-03-27 19:18:43,347 - predictor.replicate = False\n",
      "INFO - 2019-03-27 19:18:43,347 - predictor.alpha = 0.5\n"
     ]
    },
    {
     "name": "stdout",
     "output_type": "stream",
     "text": [
      "{'model': {'type': 'seq_classifier', 'embedder': {'type': 'token_embedder', 'vocab_size': 18542, 'embed_size': 200, 'embedding_file': './preprocess/KneeSurgery/1_yrs/embedding_matrix.npy'}, 'decoder': {'num_layers': 2, 'hidden_dims': [128, 1], 'activations': ['tanh', 'linear']}, 'predictor': {'type': 'binary'}, 'structured': {'use_structured': False}, 'encoder': {'type': 'sru', 'hidden_size': 128}}, 'training_config': {'type': 'Adam', 'groups': [('.*', {'lr': 0.001, 'weight_decay': 1e-05})], 'common': {'bsize': 16, 'class_weight': True}}, 'exp_config': {'exp_name': 'KneeSurgery_1/Basic/SRU(hs=128)', 'basepath': 'outputs/'}}\n",
      "Setting Embedding\n",
      "{'model': {'type': 'seq_classifier_with_attention', 'embedder': {'type': 'token_embedder', 'vocab_size': 18542, 'embed_size': 200, 'embedding_file': './preprocess/KneeSurgery/1_yrs/embedding_matrix.npy'}, 'decoder': {'num_layers': 2, 'hidden_dims': [128, 1], 'activations': ['tanh', 'linear']}, 'predictor': {'type': 'binary'}, 'structured': {'use_structured': False}, 'encoder': {'type': 'sru', 'hidden_size': 128}, 'attention': {'similarity': {'type': 'additive', 'hidden_size': 128}}}, 'training_config': {'type': 'Adam', 'groups': [('.*', {'lr': 0.001, 'weight_decay': 1e-05})], 'common': {'bsize': 16, 'class_weight': True}}, 'exp_config': {'exp_name': 'KneeSurgery_1/Attention/SRU(hs=128)+Attention(additive)(hs=128)', 'basepath': 'outputs/'}}\n",
      "Setting Embedding\n"
     ]
    },
    {
     "name": "stderr",
     "output_type": "stream",
     "text": [
      "INFO - 2019-03-27 19:18:43,567 - Reading Structured data ...\n",
      "INFO - 2019-03-27 19:18:43,728 - Reading Notes ...\n",
      "INFO - 2019-03-27 19:18:45,016 - Stratifying ...\n"
     ]
    },
    {
     "name": "stdout",
     "output_type": "stream",
     "text": [
      "Pos Percentage [0.10104053]\n"
     ]
    },
    {
     "name": "stderr",
     "output_type": "stream",
     "text": [
      "INFO - 2019-03-27 19:18:46,036 - Maximum Sentence Length 169921.000000 , 90 percentile length 19951.000000 ... \n",
      "INFO - 2019-03-27 19:18:47,686 - Truncated all ...\n",
      "INFO - 2019-03-27 19:18:47,691 - Idxs removed []...\n",
      "INFO - 2019-03-27 19:18:47,974 - Maximum Sentence Length 55858.000000 , 90 percentile length 19968.000000 ... \n"
     ]
    },
    {
     "name": "stdout",
     "output_type": "stream",
     "text": [
      "Pos Percentage [0.10237203]\n"
     ]
    },
    {
     "name": "stderr",
     "output_type": "stream",
     "text": [
      "INFO - 2019-03-27 19:18:48,357 - Truncated all ...\n",
      "INFO - 2019-03-27 19:18:48,358 - Idxs removed []...\n",
      "INFO - 2019-03-27 19:18:48,583 - Maximum Sentence Length 109699.000000 , 90 percentile length 16324.000000 ... \n"
     ]
    },
    {
     "name": "stdout",
     "output_type": "stream",
     "text": [
      "Pos Percentage [0.09433962]\n"
     ]
    },
    {
     "name": "stderr",
     "output_type": "stream",
     "text": [
      "INFO - 2019-03-27 19:18:48,925 - Truncated all ...\n",
      "INFO - 2019-03-27 19:18:48,926 - Idxs removed []...\n",
      "INFO - 2019-03-27 19:18:48,948 - instantiating class <class 'PatientVec.models.Model.Model'> from params {'type': 'hierarchical_classifier_with_attention', 'embedder': {'type': 'token_embedder', 'vocab_size': 18542, 'embed_size': 200, 'embedding_file': './preprocess/KneeSurgery/1_yrs/embedding_matrix.npy'}, 'decoder': {'num_layers': 2, 'hidden_dims': [128, 1], 'activations': ['tanh', 'linear']}, 'predictor': {'type': 'binary'}, 'structured': {'use_structured': False}, 'word_encoder': {'type': 'lstm', 'hidden_size': 128}, 'word_attention': {'similarity': {'type': 'additive', 'hidden_size': 128}}, 'sentence_encoder': {'type': 'lstm', 'hidden_size': 128}, 'sentence_attention': {'similarity': {'type': 'additive', 'hidden_size': 128}}} and extras {}\n",
      "INFO - 2019-03-27 19:18:48,948 - type = hierarchical_classifier_with_attention\n",
      "INFO - 2019-03-27 19:18:48,949 - instantiating class <class 'PatientVec.models.modules.Embedder.Embedder'> from params {'type': 'token_embedder', 'vocab_size': 18542, 'embed_size': 200, 'embedding_file': './preprocess/KneeSurgery/1_yrs/embedding_matrix.npy'} and extras {}\n",
      "INFO - 2019-03-27 19:18:48,949 - embedder.type = token_embedder\n",
      "INFO - 2019-03-27 19:18:48,949 - instantiating class <class 'PatientVec.models.modules.Embedder.TokenEmbedder'> from params {'vocab_size': 18542, 'embed_size': 200, 'embedding_file': './preprocess/KneeSurgery/1_yrs/embedding_matrix.npy'} and extras {}\n",
      "INFO - 2019-03-27 19:18:48,950 - embedder.vocab_size = 18542\n",
      "INFO - 2019-03-27 19:18:48,950 - embedder.embed_size = 200\n",
      "INFO - 2019-03-27 19:18:48,951 - embedder.embedding_file = ./preprocess/KneeSurgery/1_yrs/embedding_matrix.npy\n",
      "INFO - 2019-03-27 19:18:48,961 - instantiating class <class 'PatientVec.models.modules.Encoder.Encoder'> from params {'type': 'lstm', 'hidden_size': 128} and extras {'input_size': 200}\n",
      "INFO - 2019-03-27 19:18:48,961 - word_encoder.type = lstm\n",
      "INFO - 2019-03-27 19:18:48,962 - instantiating class <class 'PatientVec.models.modules.Encoder.wrap_pytorch_rnn.<locals>.BiRNNEncoder'> from params {'hidden_size': 128} and extras {'input_size': 200}\n",
      "INFO - 2019-03-27 19:18:48,962 - word_encoder.hidden_size = 128\n",
      "INFO - 2019-03-27 19:18:48,965 - instantiating class <class 'PatientVec.models.modules.SelfAttention.SelfAttention'> from params {'similarity': {'type': 'additive', 'hidden_size': 128, 'tensor_1_dim': 256}} and extras {}\n",
      "INFO - 2019-03-27 19:18:48,965 - instantiating class <class 'PatientVec.models.modules.UniSimilarity.UniSimilarity'> from params {'type': 'additive', 'hidden_size': 128, 'tensor_1_dim': 256} and extras {}\n",
      "INFO - 2019-03-27 19:18:48,965 - word_attention.similarity.type = additive\n",
      "INFO - 2019-03-27 19:18:48,966 - instantiating class <class 'PatientVec.models.modules.UniSimilarity.UniAdditiveSimilarity'> from params {'hidden_size': 128, 'tensor_1_dim': 256} and extras {}\n",
      "INFO - 2019-03-27 19:18:48,966 - word_attention.similarity.tensor_1_dim = 256\n",
      "INFO - 2019-03-27 19:18:48,966 - word_attention.similarity.hidden_size = 128\n",
      "INFO - 2019-03-27 19:18:48,966 - word_attention.similarity.output_size = 1\n",
      "INFO - 2019-03-27 19:18:48,968 - word_attention.normaliser = softmax\n",
      "INFO - 2019-03-27 19:18:48,968 - instantiating class <class 'PatientVec.models.modules.Encoder.Encoder'> from params {'type': 'lstm', 'hidden_size': 128} and extras {'input_size': 256}\n",
      "INFO - 2019-03-27 19:18:48,968 - sentence_encoder.type = lstm\n",
      "INFO - 2019-03-27 19:18:48,969 - instantiating class <class 'PatientVec.models.modules.Encoder.wrap_pytorch_rnn.<locals>.BiRNNEncoder'> from params {'hidden_size': 128} and extras {'input_size': 256}\n",
      "INFO - 2019-03-27 19:18:48,970 - sentence_encoder.hidden_size = 128\n",
      "INFO - 2019-03-27 19:18:48,972 - instantiating class <class 'PatientVec.models.modules.SelfAttention.SelfAttention'> from params {'similarity': {'type': 'additive', 'hidden_size': 128, 'tensor_1_dim': 256}} and extras {}\n",
      "INFO - 2019-03-27 19:18:48,973 - instantiating class <class 'PatientVec.models.modules.UniSimilarity.UniSimilarity'> from params {'type': 'additive', 'hidden_size': 128, 'tensor_1_dim': 256} and extras {}\n",
      "INFO - 2019-03-27 19:18:48,973 - sentence_attention.similarity.type = additive\n",
      "INFO - 2019-03-27 19:18:48,973 - instantiating class <class 'PatientVec.models.modules.UniSimilarity.UniAdditiveSimilarity'> from params {'hidden_size': 128, 'tensor_1_dim': 256} and extras {}\n",
      "INFO - 2019-03-27 19:18:48,973 - sentence_attention.similarity.tensor_1_dim = 256\n",
      "INFO - 2019-03-27 19:18:48,974 - sentence_attention.similarity.hidden_size = 128\n",
      "INFO - 2019-03-27 19:18:48,974 - sentence_attention.similarity.output_size = 1\n",
      "INFO - 2019-03-27 19:18:48,976 - sentence_attention.normaliser = softmax\n",
      "INFO - 2019-03-27 19:18:48,976 - decoder.input_dim = 256\n",
      "INFO - 2019-03-27 19:18:48,976 - decoder.num_layers = 2\n",
      "INFO - 2019-03-27 19:18:48,976 - decoder.hidden_dims = [128, 1]\n",
      "INFO - 2019-03-27 19:18:48,977 - decoder.activations = ['tanh', 'linear']\n",
      "INFO - 2019-03-27 19:18:48,977 - decoder.dropout = 0.0\n",
      "INFO - 2019-03-27 19:18:48,979 - instantiating class <class 'PatientVec.models.modules.Predictor.Predictor'> from params {'type': 'binary'} and extras {}\n",
      "INFO - 2019-03-27 19:18:48,979 - predictor.type = binary\n",
      "INFO - 2019-03-27 19:18:48,979 - instantiating class <class 'PatientVec.models.modules.Predictor.Binary_Predictor'> from params {} and extras {}\n",
      "INFO - 2019-03-27 19:18:48,980 - predictor.replicate = False\n",
      "INFO - 2019-03-27 19:18:48,980 - predictor.alpha = 0.5\n"
     ]
    },
    {
     "name": "stdout",
     "output_type": "stream",
     "text": [
      "{'model': {'type': 'hierarchical_classifier_with_attention', 'embedder': {'type': 'token_embedder', 'vocab_size': 18542, 'embed_size': 200, 'embedding_file': './preprocess/KneeSurgery/1_yrs/embedding_matrix.npy'}, 'decoder': {'num_layers': 2, 'hidden_dims': [128, 1], 'activations': ['tanh', 'linear']}, 'predictor': {'type': 'binary'}, 'structured': {'use_structured': False}, 'word_encoder': {'type': 'lstm', 'hidden_size': 128}, 'word_attention': {'similarity': {'type': 'additive', 'hidden_size': 128}}, 'sentence_encoder': {'type': 'lstm', 'hidden_size': 128}, 'sentence_attention': {'similarity': {'type': 'additive', 'hidden_size': 128}}}, 'training_config': {'type': 'Adam', 'groups': [('.*', {'lr': 0.001, 'weight_decay': 1e-05})], 'common': {'bsize': 16, 'class_weight': True}}, 'exp_config': {'exp_name': 'KneeSurgery_1/Hierarchical Attention/LSTM(hs=128)+Attention(additive)(hs=128)+LSTM(hs=128)+Attention(additive)(hs=128)', 'basepath': 'outputs/'}}\n",
      "Setting Embedding\n"
     ]
    }
   ],
   "source": [
    "for dataset in ['hip_1yr', 'knee_1yr'] :\n",
    "    %run \"Discovery Experiments\"/run_models.py --dataset {dataset} --exp_types vanilla attention basic_sru \\\n",
    "        --data_dir='.' --output_dir='outputs/' --display --do_test\n",
    "    %run \"Discovery Experiments\"/run_models.py --dataset {dataset} --exp_types hierarchical \\\n",
    "        --data_dir='.' --output_dir='outputs/' --display --do_test"
   ]
  },
  {
   "cell_type": "code",
   "execution_count": null,
   "metadata": {},
   "outputs": [],
   "source": []
  }
 ],
 "metadata": {
  "kernelspec": {
   "display_name": "Python 3",
   "language": "python",
   "name": "python3"
  },
  "language_info": {
   "codemirror_mode": {
    "name": "ipython",
    "version": 3
   },
   "file_extension": ".py",
   "mimetype": "text/x-python",
   "name": "python",
   "nbconvert_exporter": "python",
   "pygments_lexer": "ipython3",
   "version": "3.6.7"
  }
 },
 "nbformat": 4,
 "nbformat_minor": 2
}
