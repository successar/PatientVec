{
 "cells": [
  {
   "cell_type": "code",
   "execution_count": null,
   "metadata": {},
   "outputs": [
    {
     "name": "stdout",
     "output_type": "stream",
     "text": [
      "Better speed can be achieved with apex installed from https://www.github.com/nvidia/apex.\n"
     ]
    },
    {
     "name": "stderr",
     "output_type": "stream",
     "text": [
      "INFO - 2019-03-27 17:52:53,961 - Reading Structured data ...\n",
      "INFO - 2019-03-27 17:52:54,103 - Reading Notes ...\n",
      "INFO - 2019-03-27 17:53:03,107 - Stratifying ...\n"
     ]
    },
    {
     "name": "stdout",
     "output_type": "stream",
     "text": [
      "Pos Percentage [0.25239128]\n"
     ]
    },
    {
     "name": "stderr",
     "output_type": "stream",
     "text": [
      "INFO - 2019-03-27 17:53:06,703 - Maximum Sentence Length 721825.000000 , 90 percentile length 18596.000000 ... \n",
      "INFO - 2019-03-27 17:53:14,784 - Truncated all ...\n",
      "INFO - 2019-03-27 17:53:14,825 - Idxs removed []...\n"
     ]
    },
    {
     "name": "stdout",
     "output_type": "stream",
     "text": [
      "Pos Percentage [0.25692909]\n"
     ]
    },
    {
     "name": "stderr",
     "output_type": "stream",
     "text": [
      "INFO - 2019-03-27 17:53:15,657 - Maximum Sentence Length 420764.000000 , 90 percentile length 17662.000000 ... \n",
      "INFO - 2019-03-27 17:53:17,189 - Truncated all ...\n",
      "INFO - 2019-03-27 17:53:17,200 - Idxs removed []...\n"
     ]
    },
    {
     "name": "stdout",
     "output_type": "stream",
     "text": [
      "Pos Percentage [0.25656373]\n"
     ]
    },
    {
     "name": "stderr",
     "output_type": "stream",
     "text": [
      "INFO - 2019-03-27 17:53:18,133 - Maximum Sentence Length 707041.000000 , 90 percentile length 17669.000000 ... \n",
      "INFO - 2019-03-27 17:53:21,923 - Truncated all ...\n",
      "INFO - 2019-03-27 17:53:21,936 - Idxs removed []...\n",
      "INFO - 2019-03-27 17:53:21,996 - instantiating class <class 'PatientVec.models.Model.Model'> from params {'type': 'seq_classifier', 'embedder': {'type': 'token_embedder', 'vocab_size': 29286, 'embed_size': 200, 'embedding_file': './preprocess/Mortality/embedding_matrix.npy'}, 'decoder': {'num_layers': 2, 'hidden_dims': [128, 1], 'activations': ['tanh', 'linear']}, 'predictor': {'type': 'binary'}, 'structured': {'use_structured': True, 'structured_dim': 50}, 'encoder': {'type': 'average', 'projection': True, 'hidden_size': 256, 'activation': 'relu'}} and extras {}\n",
      "INFO - 2019-03-27 17:53:21,996 - type = seq_classifier\n",
      "INFO - 2019-03-27 17:53:21,997 - instantiating class <class 'PatientVec.models.modules.Embedder.Embedder'> from params {'type': 'token_embedder', 'vocab_size': 29286, 'embed_size': 200, 'embedding_file': './preprocess/Mortality/embedding_matrix.npy'} and extras {}\n",
      "INFO - 2019-03-27 17:53:21,997 - embedder.type = token_embedder\n",
      "INFO - 2019-03-27 17:53:21,997 - instantiating class <class 'PatientVec.models.modules.Embedder.TokenEmbedder'> from params {'vocab_size': 29286, 'embed_size': 200, 'embedding_file': './preprocess/Mortality/embedding_matrix.npy'} and extras {}\n",
      "INFO - 2019-03-27 17:53:22,063 - embedder.vocab_size = 29286\n",
      "INFO - 2019-03-27 17:53:22,064 - embedder.embed_size = 200\n",
      "INFO - 2019-03-27 17:53:22,064 - embedder.embedding_file = ./preprocess/Mortality/embedding_matrix.npy\n",
      "INFO - 2019-03-27 17:53:22,079 - instantiating class <class 'PatientVec.models.modules.Encoder.Encoder'> from params {'type': 'average', 'projection': True, 'hidden_size': 256, 'activation': 'relu'} and extras {'input_size': 200}\n",
      "INFO - 2019-03-27 17:53:22,080 - encoder.type = average\n",
      "INFO - 2019-03-27 17:53:22,080 - instantiating class <class 'PatientVec.models.modules.Encoder.AverageEncoder'> from params {'projection': True, 'hidden_size': 256, 'activation': 'relu'} and extras {'input_size': 200}\n",
      "INFO - 2019-03-27 17:53:22,081 - encoder.projection = True\n",
      "INFO - 2019-03-27 17:53:22,081 - encoder.hidden_size = 256\n",
      "INFO - 2019-03-27 17:53:22,082 - encoder.activation = relu\n",
      "INFO - 2019-03-27 17:53:22,083 - decoder.input_dim = 306\n",
      "INFO - 2019-03-27 17:53:22,083 - decoder.num_layers = 2\n",
      "INFO - 2019-03-27 17:53:22,083 - decoder.hidden_dims = [128, 1]\n",
      "INFO - 2019-03-27 17:53:22,084 - decoder.activations = ['tanh', 'linear']\n",
      "INFO - 2019-03-27 17:53:22,084 - decoder.dropout = 0.0\n",
      "INFO - 2019-03-27 17:53:22,085 - instantiating class <class 'PatientVec.models.modules.Predictor.Predictor'> from params {'type': 'binary'} and extras {}\n",
      "INFO - 2019-03-27 17:53:22,085 - predictor.type = binary\n",
      "INFO - 2019-03-27 17:53:22,086 - instantiating class <class 'PatientVec.models.modules.Predictor.Binary_Predictor'> from params {} and extras {}\n",
      "INFO - 2019-03-27 17:53:22,086 - predictor.replicate = False\n",
      "INFO - 2019-03-27 17:53:22,086 - predictor.alpha = 0.5\n"
     ]
    },
    {
     "name": "stdout",
     "output_type": "stream",
     "text": [
      "{'model': {'type': 'seq_classifier', 'embedder': {'type': 'token_embedder', 'vocab_size': 29286, 'embed_size': 200, 'embedding_file': './preprocess/Mortality/embedding_matrix.npy'}, 'decoder': {'num_layers': 2, 'hidden_dims': [128, 1], 'activations': ['tanh', 'linear']}, 'predictor': {'type': 'binary'}, 'structured': {'use_structured': True, 'structured_dim': 50}, 'encoder': {'type': 'average', 'projection': True, 'hidden_size': 256, 'activation': 'relu'}}, 'training_config': {'type': 'Adam', 'groups': [('.*', {'lr': 0.001, 'weight_decay': 1e-05})], 'common': {'bsize': 16, 'class_weight': True}}, 'exp_config': {'exp_name': 'Mortality_1yr/Basic/Average(hs=256)+Structured', 'basepath': 'outputs/'}}\n",
      "Setting Embedding\n"
     ]
    },
    {
     "name": "stderr",
     "output_type": "stream",
     "text": [
      "INFO - 2019-03-27 17:53:23,840 - instantiating class <class 'PatientVec.models.Model.Model'> from params {'type': 'seq_classifier', 'embedder': {'type': 'token_embedder', 'vocab_size': 29286, 'embed_size': 200, 'embedding_file': './preprocess/Mortality/embedding_matrix.npy'}, 'decoder': {'num_layers': 2, 'hidden_dims': [128, 1], 'activations': ['tanh', 'linear']}, 'predictor': {'type': 'binary'}, 'structured': {'use_structured': True, 'structured_dim': 50}, 'encoder': {'type': 'lstm', 'hidden_size': 128}} and extras {}\n",
      "INFO - 2019-03-27 17:53:23,841 - type = seq_classifier\n",
      "INFO - 2019-03-27 17:53:23,841 - instantiating class <class 'PatientVec.models.modules.Embedder.Embedder'> from params {'type': 'token_embedder', 'vocab_size': 29286, 'embed_size': 200, 'embedding_file': './preprocess/Mortality/embedding_matrix.npy'} and extras {}\n",
      "INFO - 2019-03-27 17:53:23,842 - embedder.type = token_embedder\n",
      "INFO - 2019-03-27 17:53:23,842 - instantiating class <class 'PatientVec.models.modules.Embedder.TokenEmbedder'> from params {'vocab_size': 29286, 'embed_size': 200, 'embedding_file': './preprocess/Mortality/embedding_matrix.npy'} and extras {}\n",
      "INFO - 2019-03-27 17:53:23,843 - embedder.vocab_size = 29286\n",
      "INFO - 2019-03-27 17:53:23,843 - embedder.embed_size = 200\n",
      "INFO - 2019-03-27 17:53:23,843 - embedder.embedding_file = ./preprocess/Mortality/embedding_matrix.npy\n",
      "INFO - 2019-03-27 17:53:23,858 - instantiating class <class 'PatientVec.models.modules.Encoder.Encoder'> from params {'type': 'lstm', 'hidden_size': 128} and extras {'input_size': 200}\n",
      "INFO - 2019-03-27 17:53:23,858 - encoder.type = lstm\n",
      "INFO - 2019-03-27 17:53:23,858 - instantiating class <class 'PatientVec.models.modules.Encoder.wrap_pytorch_rnn.<locals>.BiRNNEncoder'> from params {'hidden_size': 128} and extras {'input_size': 200}\n",
      "INFO - 2019-03-27 17:53:23,859 - encoder.hidden_size = 128\n",
      "INFO - 2019-03-27 17:53:23,861 - decoder.input_dim = 306\n",
      "INFO - 2019-03-27 17:53:23,861 - decoder.num_layers = 2\n",
      "INFO - 2019-03-27 17:53:23,861 - decoder.hidden_dims = [128, 1]\n",
      "INFO - 2019-03-27 17:53:23,862 - decoder.activations = ['tanh', 'linear']\n",
      "INFO - 2019-03-27 17:53:23,862 - decoder.dropout = 0.0\n",
      "INFO - 2019-03-27 17:53:23,863 - instantiating class <class 'PatientVec.models.modules.Predictor.Predictor'> from params {'type': 'binary'} and extras {}\n",
      "INFO - 2019-03-27 17:53:23,864 - predictor.type = binary\n",
      "INFO - 2019-03-27 17:53:23,864 - instantiating class <class 'PatientVec.models.modules.Predictor.Binary_Predictor'> from params {} and extras {}\n",
      "INFO - 2019-03-27 17:53:23,864 - predictor.replicate = False\n",
      "INFO - 2019-03-27 17:53:23,864 - predictor.alpha = 0.5\n"
     ]
    },
    {
     "name": "stdout",
     "output_type": "stream",
     "text": [
      "{'model': {'type': 'seq_classifier', 'embedder': {'type': 'token_embedder', 'vocab_size': 29286, 'embed_size': 200, 'embedding_file': './preprocess/Mortality/embedding_matrix.npy'}, 'decoder': {'num_layers': 2, 'hidden_dims': [128, 1], 'activations': ['tanh', 'linear']}, 'predictor': {'type': 'binary'}, 'structured': {'use_structured': True, 'structured_dim': 50}, 'encoder': {'type': 'lstm', 'hidden_size': 128}}, 'training_config': {'type': 'Adam', 'groups': [('.*', {'lr': 0.001, 'weight_decay': 1e-05})], 'common': {'bsize': 16, 'class_weight': True}}, 'exp_config': {'exp_name': 'Mortality_1yr/Basic/LSTM(hs=128)+Structured', 'basepath': 'outputs/'}}\n",
      "Setting Embedding\n"
     ]
    },
    {
     "name": "stderr",
     "output_type": "stream",
     "text": [
      "INFO - 2019-03-27 17:53:24,832 - instantiating class <class 'PatientVec.models.Model.Model'> from params {'type': 'seq_classifier', 'embedder': {'type': 'token_embedder', 'vocab_size': 29286, 'embed_size': 200, 'embedding_file': './preprocess/Mortality/embedding_matrix.npy'}, 'decoder': {'num_layers': 2, 'hidden_dims': [128, 1], 'activations': ['tanh', 'linear']}, 'predictor': {'type': 'binary'}, 'structured': {'use_structured': True, 'structured_dim': 50}, 'encoder': {'type': 'cnn', 'hidden_size': 64, 'kernel_sizes': [3, 5, 7, 9], 'activation': 'relu'}} and extras {}\n",
      "INFO - 2019-03-27 17:53:24,833 - type = seq_classifier\n",
      "INFO - 2019-03-27 17:53:24,834 - instantiating class <class 'PatientVec.models.modules.Embedder.Embedder'> from params {'type': 'token_embedder', 'vocab_size': 29286, 'embed_size': 200, 'embedding_file': './preprocess/Mortality/embedding_matrix.npy'} and extras {}\n",
      "INFO - 2019-03-27 17:53:24,835 - embedder.type = token_embedder\n",
      "INFO - 2019-03-27 17:53:24,837 - instantiating class <class 'PatientVec.models.modules.Embedder.TokenEmbedder'> from params {'vocab_size': 29286, 'embed_size': 200, 'embedding_file': './preprocess/Mortality/embedding_matrix.npy'} and extras {}\n",
      "INFO - 2019-03-27 17:53:24,838 - embedder.vocab_size = 29286\n",
      "INFO - 2019-03-27 17:53:24,839 - embedder.embed_size = 200\n",
      "INFO - 2019-03-27 17:53:24,839 - embedder.embedding_file = ./preprocess/Mortality/embedding_matrix.npy\n",
      "INFO - 2019-03-27 17:53:24,866 - instantiating class <class 'PatientVec.models.modules.Encoder.Encoder'> from params {'type': 'cnn', 'hidden_size': 64, 'kernel_sizes': [3, 5, 7, 9], 'activation': 'relu'} and extras {'input_size': 200}\n",
      "INFO - 2019-03-27 17:53:24,866 - encoder.type = cnn\n",
      "INFO - 2019-03-27 17:53:24,867 - instantiating class <class 'PatientVec.models.modules.Encoder.CNNEncoder'> from params {'hidden_size': 64, 'kernel_sizes': [3, 5, 7, 9], 'activation': 'relu'} and extras {'input_size': 200}\n",
      "INFO - 2019-03-27 17:53:24,867 - encoder.hidden_size = 64\n",
      "INFO - 2019-03-27 17:53:24,867 - encoder.kernel_sizes = [3, 5, 7, 9]\n",
      "INFO - 2019-03-27 17:53:24,868 - encoder.activation = relu\n",
      "INFO - 2019-03-27 17:53:24,872 - decoder.input_dim = 306\n",
      "INFO - 2019-03-27 17:53:24,872 - decoder.num_layers = 2\n",
      "INFO - 2019-03-27 17:53:24,872 - decoder.hidden_dims = [128, 1]\n",
      "INFO - 2019-03-27 17:53:24,872 - decoder.activations = ['tanh', 'linear']\n",
      "INFO - 2019-03-27 17:53:24,873 - decoder.dropout = 0.0\n",
      "INFO - 2019-03-27 17:53:24,874 - instantiating class <class 'PatientVec.models.modules.Predictor.Predictor'> from params {'type': 'binary'} and extras {}\n",
      "INFO - 2019-03-27 17:53:24,874 - predictor.type = binary\n",
      "INFO - 2019-03-27 17:53:24,875 - instantiating class <class 'PatientVec.models.modules.Predictor.Binary_Predictor'> from params {} and extras {}\n",
      "INFO - 2019-03-27 17:53:24,875 - predictor.replicate = False\n",
      "INFO - 2019-03-27 17:53:24,875 - predictor.alpha = 0.5\n"
     ]
    },
    {
     "name": "stdout",
     "output_type": "stream",
     "text": [
      "{'model': {'type': 'seq_classifier', 'embedder': {'type': 'token_embedder', 'vocab_size': 29286, 'embed_size': 200, 'embedding_file': './preprocess/Mortality/embedding_matrix.npy'}, 'decoder': {'num_layers': 2, 'hidden_dims': [128, 1], 'activations': ['tanh', 'linear']}, 'predictor': {'type': 'binary'}, 'structured': {'use_structured': True, 'structured_dim': 50}, 'encoder': {'type': 'cnn', 'hidden_size': 64, 'kernel_sizes': [3, 5, 7, 9], 'activation': 'relu'}}, 'training_config': {'type': 'Adam', 'groups': [('.*', {'lr': 0.001, 'weight_decay': 1e-05})], 'common': {'bsize': 16, 'class_weight': True}}, 'exp_config': {'exp_name': 'Mortality_1yr/Basic/CNN(hs=64)(kernels=3,5,7,9)+Structured', 'basepath': 'outputs/'}}\n",
      "Setting Embedding\n",
      "Pos Percentage [0.25239128]\n"
     ]
    },
    {
     "name": "stderr",
     "output_type": "stream",
     "text": [
      "INFO - 2019-03-27 17:53:29,825 - Maximum Sentence Length 721825.000000 , 90 percentile length 18596.000000 ... \n",
      "INFO - 2019-03-27 17:53:39,468 - Truncated all ...\n",
      "INFO - 2019-03-27 17:53:39,508 - Idxs removed []...\n"
     ]
    },
    {
     "name": "stdout",
     "output_type": "stream",
     "text": [
      "Pos Percentage [0.25692909]\n"
     ]
    },
    {
     "name": "stderr",
     "output_type": "stream",
     "text": [
      "INFO - 2019-03-27 17:53:40,486 - Maximum Sentence Length 420764.000000 , 90 percentile length 17662.000000 ... \n",
      "INFO - 2019-03-27 17:53:42,179 - Truncated all ...\n",
      "INFO - 2019-03-27 17:53:42,190 - Idxs removed []...\n"
     ]
    },
    {
     "name": "stdout",
     "output_type": "stream",
     "text": [
      "Pos Percentage [0.25656373]\n"
     ]
    },
    {
     "name": "stderr",
     "output_type": "stream",
     "text": [
      "INFO - 2019-03-27 17:53:43,298 - Maximum Sentence Length 707041.000000 , 90 percentile length 17669.000000 ... \n",
      "INFO - 2019-03-27 17:53:45,131 - Truncated all ...\n",
      "INFO - 2019-03-27 17:53:45,143 - Idxs removed []...\n",
      "INFO - 2019-03-27 17:53:45,202 - instantiating class <class 'PatientVec.models.Model.Model'> from params {'type': 'seq_classifier_with_attention', 'embedder': {'type': 'token_embedder', 'vocab_size': 29286, 'embed_size': 200, 'embedding_file': './preprocess/Mortality/embedding_matrix.npy'}, 'decoder': {'num_layers': 2, 'hidden_dims': [128, 1], 'activations': ['tanh', 'linear']}, 'predictor': {'type': 'binary'}, 'structured': {'use_structured': True, 'structured_dim': 50}, 'encoder': {'type': 'average', 'projection': True, 'hidden_size': 256, 'activation': 'relu'}, 'attention': {'similarity': {'type': 'additive', 'hidden_size': 128}}} and extras {}\n",
      "INFO - 2019-03-27 17:53:45,203 - type = seq_classifier_with_attention\n",
      "INFO - 2019-03-27 17:53:45,203 - instantiating class <class 'PatientVec.models.modules.Embedder.Embedder'> from params {'type': 'token_embedder', 'vocab_size': 29286, 'embed_size': 200, 'embedding_file': './preprocess/Mortality/embedding_matrix.npy'} and extras {}\n",
      "INFO - 2019-03-27 17:53:45,204 - embedder.type = token_embedder\n",
      "INFO - 2019-03-27 17:53:45,204 - instantiating class <class 'PatientVec.models.modules.Embedder.TokenEmbedder'> from params {'vocab_size': 29286, 'embed_size': 200, 'embedding_file': './preprocess/Mortality/embedding_matrix.npy'} and extras {}\n",
      "INFO - 2019-03-27 17:53:45,205 - embedder.vocab_size = 29286\n",
      "INFO - 2019-03-27 17:53:45,205 - embedder.embed_size = 200\n",
      "INFO - 2019-03-27 17:53:45,205 - embedder.embedding_file = ./preprocess/Mortality/embedding_matrix.npy\n",
      "INFO - 2019-03-27 17:53:45,220 - instantiating class <class 'PatientVec.models.modules.Encoder.Encoder'> from params {'type': 'average', 'projection': True, 'hidden_size': 256, 'activation': 'relu'} and extras {'input_size': 200}\n",
      "INFO - 2019-03-27 17:53:45,220 - encoder.type = average\n",
      "INFO - 2019-03-27 17:53:45,220 - instantiating class <class 'PatientVec.models.modules.Encoder.AverageEncoder'> from params {'projection': True, 'hidden_size': 256, 'activation': 'relu'} and extras {'input_size': 200}\n",
      "INFO - 2019-03-27 17:53:45,221 - encoder.projection = True\n",
      "INFO - 2019-03-27 17:53:45,221 - encoder.hidden_size = 256\n",
      "INFO - 2019-03-27 17:53:45,221 - encoder.activation = relu\n",
      "INFO - 2019-03-27 17:53:45,223 - instantiating class <class 'PatientVec.models.modules.SelfAttention.SelfAttention'> from params {'similarity': {'type': 'additive', 'hidden_size': 128, 'tensor_1_dim': 256}} and extras {}\n",
      "INFO - 2019-03-27 17:53:45,223 - instantiating class <class 'PatientVec.models.modules.UniSimilarity.UniSimilarity'> from params {'type': 'additive', 'hidden_size': 128, 'tensor_1_dim': 256} and extras {}\n",
      "INFO - 2019-03-27 17:53:45,223 - attention.similarity.type = additive\n",
      "INFO - 2019-03-27 17:53:45,224 - instantiating class <class 'PatientVec.models.modules.UniSimilarity.UniAdditiveSimilarity'> from params {'hidden_size': 128, 'tensor_1_dim': 256} and extras {}\n",
      "INFO - 2019-03-27 17:53:45,224 - attention.similarity.tensor_1_dim = 256\n",
      "INFO - 2019-03-27 17:53:45,224 - attention.similarity.hidden_size = 128\n",
      "INFO - 2019-03-27 17:53:45,224 - attention.similarity.output_size = 1\n",
      "INFO - 2019-03-27 17:53:45,226 - attention.normaliser = softmax\n",
      "INFO - 2019-03-27 17:53:45,226 - decoder.input_dim = 306\n",
      "INFO - 2019-03-27 17:53:45,227 - decoder.num_layers = 2\n",
      "INFO - 2019-03-27 17:53:45,227 - decoder.hidden_dims = [128, 1]\n",
      "INFO - 2019-03-27 17:53:45,227 - decoder.activations = ['tanh', 'linear']\n",
      "INFO - 2019-03-27 17:53:45,227 - decoder.dropout = 0.0\n",
      "INFO - 2019-03-27 17:53:45,228 - instantiating class <class 'PatientVec.models.modules.Predictor.Predictor'> from params {'type': 'binary'} and extras {}\n",
      "INFO - 2019-03-27 17:53:45,229 - predictor.type = binary\n",
      "INFO - 2019-03-27 17:53:45,229 - instantiating class <class 'PatientVec.models.modules.Predictor.Binary_Predictor'> from params {} and extras {}\n",
      "INFO - 2019-03-27 17:53:45,229 - predictor.replicate = False\n",
      "INFO - 2019-03-27 17:53:45,231 - predictor.alpha = 0.5\n",
      "INFO - 2019-03-27 17:53:45,249 - instantiating class <class 'PatientVec.models.Model.Model'> from params {'type': 'seq_classifier_with_attention', 'embedder': {'type': 'token_embedder', 'vocab_size': 29286, 'embed_size': 200, 'embedding_file': './preprocess/Mortality/embedding_matrix.npy'}, 'decoder': {'num_layers': 2, 'hidden_dims': [128, 1], 'activations': ['tanh', 'linear']}, 'predictor': {'type': 'binary'}, 'structured': {'use_structured': True, 'structured_dim': 50}, 'encoder': {'type': 'lstm', 'hidden_size': 128}, 'attention': {'similarity': {'type': 'additive', 'hidden_size': 128}}} and extras {}\n",
      "INFO - 2019-03-27 17:53:45,251 - type = seq_classifier_with_attention\n",
      "INFO - 2019-03-27 17:53:45,253 - instantiating class <class 'PatientVec.models.modules.Embedder.Embedder'> from params {'type': 'token_embedder', 'vocab_size': 29286, 'embed_size': 200, 'embedding_file': './preprocess/Mortality/embedding_matrix.npy'} and extras {}\n",
      "INFO - 2019-03-27 17:53:45,255 - embedder.type = token_embedder\n",
      "INFO - 2019-03-27 17:53:45,257 - instantiating class <class 'PatientVec.models.modules.Embedder.TokenEmbedder'> from params {'vocab_size': 29286, 'embed_size': 200, 'embedding_file': './preprocess/Mortality/embedding_matrix.npy'} and extras {}\n",
      "INFO - 2019-03-27 17:53:45,259 - embedder.vocab_size = 29286\n",
      "INFO - 2019-03-27 17:53:45,261 - embedder.embed_size = 200\n",
      "INFO - 2019-03-27 17:53:45,262 - embedder.embedding_file = ./preprocess/Mortality/embedding_matrix.npy\n",
      "INFO - 2019-03-27 17:53:45,302 - instantiating class <class 'PatientVec.models.modules.Encoder.Encoder'> from params {'type': 'lstm', 'hidden_size': 128} and extras {'input_size': 200}\n",
      "INFO - 2019-03-27 17:53:45,302 - encoder.type = lstm\n",
      "INFO - 2019-03-27 17:53:45,303 - instantiating class <class 'PatientVec.models.modules.Encoder.wrap_pytorch_rnn.<locals>.BiRNNEncoder'> from params {'hidden_size': 128} and extras {'input_size': 200}\n",
      "INFO - 2019-03-27 17:53:45,303 - encoder.hidden_size = 128\n",
      "INFO - 2019-03-27 17:53:45,307 - instantiating class <class 'PatientVec.models.modules.SelfAttention.SelfAttention'> from params {'similarity': {'type': 'additive', 'hidden_size': 128, 'tensor_1_dim': 256}} and extras {}\n",
      "INFO - 2019-03-27 17:53:45,308 - instantiating class <class 'PatientVec.models.modules.UniSimilarity.UniSimilarity'> from params {'type': 'additive', 'hidden_size': 128, 'tensor_1_dim': 256} and extras {}\n",
      "INFO - 2019-03-27 17:53:45,308 - attention.similarity.type = additive\n",
      "INFO - 2019-03-27 17:53:45,308 - instantiating class <class 'PatientVec.models.modules.UniSimilarity.UniAdditiveSimilarity'> from params {'hidden_size': 128, 'tensor_1_dim': 256} and extras {}\n",
      "INFO - 2019-03-27 17:53:45,309 - attention.similarity.tensor_1_dim = 256\n",
      "INFO - 2019-03-27 17:53:45,309 - attention.similarity.hidden_size = 128\n",
      "INFO - 2019-03-27 17:53:45,309 - attention.similarity.output_size = 1\n",
      "INFO - 2019-03-27 17:53:45,311 - attention.normaliser = softmax\n",
      "INFO - 2019-03-27 17:53:45,311 - decoder.input_dim = 306\n",
      "INFO - 2019-03-27 17:53:45,311 - decoder.num_layers = 2\n",
      "INFO - 2019-03-27 17:53:45,312 - decoder.hidden_dims = [128, 1]\n",
      "INFO - 2019-03-27 17:53:45,312 - decoder.activations = ['tanh', 'linear']\n",
      "INFO - 2019-03-27 17:53:45,312 - decoder.dropout = 0.0\n",
      "INFO - 2019-03-27 17:53:45,314 - instantiating class <class 'PatientVec.models.modules.Predictor.Predictor'> from params {'type': 'binary'} and extras {}\n",
      "INFO - 2019-03-27 17:53:45,314 - predictor.type = binary\n",
      "INFO - 2019-03-27 17:53:45,314 - instantiating class <class 'PatientVec.models.modules.Predictor.Binary_Predictor'> from params {} and extras {}\n",
      "INFO - 2019-03-27 17:53:45,315 - predictor.replicate = False\n",
      "INFO - 2019-03-27 17:53:45,315 - predictor.alpha = 0.5\n",
      "INFO - 2019-03-27 17:53:45,327 - instantiating class <class 'PatientVec.models.Model.Model'> from params {'type': 'seq_classifier_with_attention', 'embedder': {'type': 'token_embedder', 'vocab_size': 29286, 'embed_size': 200, 'embedding_file': './preprocess/Mortality/embedding_matrix.npy'}, 'decoder': {'num_layers': 2, 'hidden_dims': [128, 1], 'activations': ['tanh', 'linear']}, 'predictor': {'type': 'binary'}, 'structured': {'use_structured': True, 'structured_dim': 50}, 'encoder': {'type': 'cnn', 'hidden_size': 64, 'kernel_sizes': [3, 5, 7, 9], 'activation': 'relu'}, 'attention': {'similarity': {'type': 'additive', 'hidden_size': 128}}} and extras {}\n",
      "INFO - 2019-03-27 17:53:45,327 - type = seq_classifier_with_attention\n",
      "INFO - 2019-03-27 17:53:45,327 - instantiating class <class 'PatientVec.models.modules.Embedder.Embedder'> from params {'type': 'token_embedder', 'vocab_size': 29286, 'embed_size': 200, 'embedding_file': './preprocess/Mortality/embedding_matrix.npy'} and extras {}\n",
      "INFO - 2019-03-27 17:53:45,327 - embedder.type = token_embedder\n",
      "INFO - 2019-03-27 17:53:45,328 - instantiating class <class 'PatientVec.models.modules.Embedder.TokenEmbedder'> from params {'vocab_size': 29286, 'embed_size': 200, 'embedding_file': './preprocess/Mortality/embedding_matrix.npy'} and extras {}\n",
      "INFO - 2019-03-27 17:53:45,328 - embedder.vocab_size = 29286\n",
      "INFO - 2019-03-27 17:53:45,328 - embedder.embed_size = 200\n",
      "INFO - 2019-03-27 17:53:45,329 - embedder.embedding_file = ./preprocess/Mortality/embedding_matrix.npy\n",
      "INFO - 2019-03-27 17:53:45,343 - instantiating class <class 'PatientVec.models.modules.Encoder.Encoder'> from params {'type': 'cnn', 'hidden_size': 64, 'kernel_sizes': [3, 5, 7, 9], 'activation': 'relu'} and extras {'input_size': 200}\n",
      "INFO - 2019-03-27 17:53:45,343 - encoder.type = cnn\n",
      "INFO - 2019-03-27 17:53:45,343 - instantiating class <class 'PatientVec.models.modules.Encoder.CNNEncoder'> from params {'hidden_size': 64, 'kernel_sizes': [3, 5, 7, 9], 'activation': 'relu'} and extras {'input_size': 200}\n",
      "INFO - 2019-03-27 17:53:45,344 - encoder.hidden_size = 64\n",
      "INFO - 2019-03-27 17:53:45,344 - encoder.kernel_sizes = [3, 5, 7, 9]\n",
      "INFO - 2019-03-27 17:53:45,344 - encoder.activation = relu\n",
      "INFO - 2019-03-27 17:53:45,347 - instantiating class <class 'PatientVec.models.modules.SelfAttention.SelfAttention'> from params {'similarity': {'type': 'additive', 'hidden_size': 128, 'tensor_1_dim': 256}} and extras {}\n",
      "INFO - 2019-03-27 17:53:45,347 - instantiating class <class 'PatientVec.models.modules.UniSimilarity.UniSimilarity'> from params {'type': 'additive', 'hidden_size': 128, 'tensor_1_dim': 256} and extras {}\n",
      "INFO - 2019-03-27 17:53:45,347 - attention.similarity.type = additive\n",
      "INFO - 2019-03-27 17:53:45,348 - instantiating class <class 'PatientVec.models.modules.UniSimilarity.UniAdditiveSimilarity'> from params {'hidden_size': 128, 'tensor_1_dim': 256} and extras {}\n",
      "INFO - 2019-03-27 17:53:45,348 - attention.similarity.tensor_1_dim = 256\n",
      "INFO - 2019-03-27 17:53:45,348 - attention.similarity.hidden_size = 128\n",
      "INFO - 2019-03-27 17:53:45,348 - attention.similarity.output_size = 1\n",
      "INFO - 2019-03-27 17:53:45,350 - attention.normaliser = softmax\n",
      "INFO - 2019-03-27 17:53:45,350 - decoder.input_dim = 306\n",
      "INFO - 2019-03-27 17:53:45,350 - decoder.num_layers = 2\n",
      "INFO - 2019-03-27 17:53:45,350 - decoder.hidden_dims = [128, 1]\n",
      "INFO - 2019-03-27 17:53:45,351 - decoder.activations = ['tanh', 'linear']\n",
      "INFO - 2019-03-27 17:53:45,351 - decoder.dropout = 0.0\n",
      "INFO - 2019-03-27 17:53:45,352 - instantiating class <class 'PatientVec.models.modules.Predictor.Predictor'> from params {'type': 'binary'} and extras {}\n",
      "INFO - 2019-03-27 17:53:45,352 - predictor.type = binary\n",
      "INFO - 2019-03-27 17:53:45,353 - instantiating class <class 'PatientVec.models.modules.Predictor.Binary_Predictor'> from params {} and extras {}\n",
      "INFO - 2019-03-27 17:53:45,353 - predictor.replicate = False\n",
      "INFO - 2019-03-27 17:53:45,353 - predictor.alpha = 0.5\n"
     ]
    },
    {
     "name": "stdout",
     "output_type": "stream",
     "text": [
      "{'model': {'type': 'seq_classifier_with_attention', 'embedder': {'type': 'token_embedder', 'vocab_size': 29286, 'embed_size': 200, 'embedding_file': './preprocess/Mortality/embedding_matrix.npy'}, 'decoder': {'num_layers': 2, 'hidden_dims': [128, 1], 'activations': ['tanh', 'linear']}, 'predictor': {'type': 'binary'}, 'structured': {'use_structured': True, 'structured_dim': 50}, 'encoder': {'type': 'average', 'projection': True, 'hidden_size': 256, 'activation': 'relu'}, 'attention': {'similarity': {'type': 'additive', 'hidden_size': 128}}}, 'training_config': {'type': 'Adam', 'groups': [('.*', {'lr': 0.001, 'weight_decay': 1e-05})], 'common': {'bsize': 16, 'class_weight': True}}, 'exp_config': {'exp_name': 'Mortality_1yr/Attention/Average(hs=256)+Attention(additive)(hs=128)+Structured', 'basepath': 'outputs/'}}\n",
      "Setting Embedding\n",
      "{'model': {'type': 'seq_classifier_with_attention', 'embedder': {'type': 'token_embedder', 'vocab_size': 29286, 'embed_size': 200, 'embedding_file': './preprocess/Mortality/embedding_matrix.npy'}, 'decoder': {'num_layers': 2, 'hidden_dims': [128, 1], 'activations': ['tanh', 'linear']}, 'predictor': {'type': 'binary'}, 'structured': {'use_structured': True, 'structured_dim': 50}, 'encoder': {'type': 'lstm', 'hidden_size': 128}, 'attention': {'similarity': {'type': 'additive', 'hidden_size': 128}}}, 'training_config': {'type': 'Adam', 'groups': [('.*', {'lr': 0.001, 'weight_decay': 1e-05})], 'common': {'bsize': 16, 'class_weight': True}}, 'exp_config': {'exp_name': 'Mortality_1yr/Attention/LSTM(hs=128)+Attention(additive)(hs=128)+Structured', 'basepath': 'outputs/'}}\n",
      "Setting Embedding\n",
      "{'model': {'type': 'seq_classifier_with_attention', 'embedder': {'type': 'token_embedder', 'vocab_size': 29286, 'embed_size': 200, 'embedding_file': './preprocess/Mortality/embedding_matrix.npy'}, 'decoder': {'num_layers': 2, 'hidden_dims': [128, 1], 'activations': ['tanh', 'linear']}, 'predictor': {'type': 'binary'}, 'structured': {'use_structured': True, 'structured_dim': 50}, 'encoder': {'type': 'cnn', 'hidden_size': 64, 'kernel_sizes': [3, 5, 7, 9], 'activation': 'relu'}, 'attention': {'similarity': {'type': 'additive', 'hidden_size': 128}}}, 'training_config': {'type': 'Adam', 'groups': [('.*', {'lr': 0.001, 'weight_decay': 1e-05})], 'common': {'bsize': 16, 'class_weight': True}}, 'exp_config': {'exp_name': 'Mortality_1yr/Attention/CNN(hs=64)(kernels=3,5,7,9)+Attention(additive)(hs=128)+Structured', 'basepath': 'outputs/'}}\n",
      "Setting Embedding\n",
      "Pos Percentage [0.25239128]\n"
     ]
    },
    {
     "name": "stderr",
     "output_type": "stream",
     "text": [
      "INFO - 2019-03-27 17:53:50,223 - Maximum Sentence Length 721825.000000 , 90 percentile length 18596.000000 ... \n",
      "INFO - 2019-03-27 17:54:02,162 - Truncated all ...\n",
      "INFO - 2019-03-27 17:54:02,202 - Idxs removed []...\n"
     ]
    },
    {
     "name": "stdout",
     "output_type": "stream",
     "text": [
      "Pos Percentage [0.25692909]\n"
     ]
    },
    {
     "name": "stderr",
     "output_type": "stream",
     "text": [
      "INFO - 2019-03-27 17:54:03,256 - Maximum Sentence Length 420764.000000 , 90 percentile length 17662.000000 ... \n",
      "INFO - 2019-03-27 17:54:04,847 - Truncated all ...\n",
      "INFO - 2019-03-27 17:54:04,859 - Idxs removed []...\n"
     ]
    },
    {
     "name": "stdout",
     "output_type": "stream",
     "text": [
      "Pos Percentage [0.25656373]\n"
     ]
    },
    {
     "name": "stderr",
     "output_type": "stream",
     "text": [
      "INFO - 2019-03-27 17:54:05,851 - Maximum Sentence Length 707041.000000 , 90 percentile length 17669.000000 ... \n",
      "INFO - 2019-03-27 17:54:07,798 - Truncated all ...\n",
      "INFO - 2019-03-27 17:54:07,811 - Idxs removed []...\n",
      "INFO - 2019-03-27 17:54:07,871 - instantiating class <class 'PatientVec.models.Model.Model'> from params {'type': 'seq_classifier', 'embedder': {'type': 'token_embedder', 'vocab_size': 29286, 'embed_size': 200, 'embedding_file': './preprocess/Mortality/embedding_matrix.npy'}, 'decoder': {'num_layers': 2, 'hidden_dims': [128, 1], 'activations': ['tanh', 'linear']}, 'predictor': {'type': 'binary'}, 'structured': {'use_structured': True, 'structured_dim': 50}, 'encoder': {'type': 'sru', 'hidden_size': 128}} and extras {}\n",
      "INFO - 2019-03-27 17:54:07,871 - type = seq_classifier\n",
      "INFO - 2019-03-27 17:54:07,872 - instantiating class <class 'PatientVec.models.modules.Embedder.Embedder'> from params {'type': 'token_embedder', 'vocab_size': 29286, 'embed_size': 200, 'embedding_file': './preprocess/Mortality/embedding_matrix.npy'} and extras {}\n",
      "INFO - 2019-03-27 17:54:07,872 - embedder.type = token_embedder\n",
      "INFO - 2019-03-27 17:54:07,873 - instantiating class <class 'PatientVec.models.modules.Embedder.TokenEmbedder'> from params {'vocab_size': 29286, 'embed_size': 200, 'embedding_file': './preprocess/Mortality/embedding_matrix.npy'} and extras {}\n",
      "INFO - 2019-03-27 17:54:07,873 - embedder.vocab_size = 29286\n",
      "INFO - 2019-03-27 17:54:07,874 - embedder.embed_size = 200\n",
      "INFO - 2019-03-27 17:54:07,874 - embedder.embedding_file = ./preprocess/Mortality/embedding_matrix.npy\n",
      "INFO - 2019-03-27 17:54:07,889 - instantiating class <class 'PatientVec.models.modules.Encoder.Encoder'> from params {'type': 'sru', 'hidden_size': 128} and extras {'input_size': 200}\n",
      "INFO - 2019-03-27 17:54:07,890 - encoder.type = sru\n",
      "INFO - 2019-03-27 17:54:07,890 - instantiating class <class 'PatientVec.models.modules.Encoder.SRUEncoder'> from params {'hidden_size': 128} and extras {'input_size': 200}\n",
      "INFO - 2019-03-27 17:54:07,891 - encoder.hidden_size = 128\n",
      "INFO - 2019-03-27 17:54:07,894 - decoder.input_dim = 306\n",
      "INFO - 2019-03-27 17:54:07,895 - decoder.num_layers = 2\n",
      "INFO - 2019-03-27 17:54:07,895 - decoder.hidden_dims = [128, 1]\n",
      "INFO - 2019-03-27 17:54:07,895 - decoder.activations = ['tanh', 'linear']\n",
      "INFO - 2019-03-27 17:54:07,895 - decoder.dropout = 0.0\n",
      "INFO - 2019-03-27 17:54:07,897 - instantiating class <class 'PatientVec.models.modules.Predictor.Predictor'> from params {'type': 'binary'} and extras {}\n",
      "INFO - 2019-03-27 17:54:07,897 - predictor.type = binary\n",
      "INFO - 2019-03-27 17:54:07,897 - instantiating class <class 'PatientVec.models.modules.Predictor.Binary_Predictor'> from params {} and extras {}\n",
      "INFO - 2019-03-27 17:54:07,898 - predictor.replicate = False\n",
      "INFO - 2019-03-27 17:54:07,898 - predictor.alpha = 0.5\n",
      "INFO - 2019-03-27 17:54:07,911 - instantiating class <class 'PatientVec.models.Model.Model'> from params {'type': 'seq_classifier', 'embedder': {'type': 'token_embedder', 'vocab_size': 29286, 'embed_size': 200, 'embedding_file': './preprocess/Mortality/embedding_matrix.npy'}, 'decoder': {'num_layers': 2, 'hidden_dims': [128, 1], 'activations': ['tanh', 'linear']}, 'predictor': {'type': 'binary'}, 'structured': {'use_structured': True, 'structured_dim': 50}, 'encoder': {'type': 'sru', 'hidden_size': 128}} and extras {}\n",
      "INFO - 2019-03-27 17:54:07,911 - type = seq_classifier\n",
      "INFO - 2019-03-27 17:54:07,911 - instantiating class <class 'PatientVec.models.modules.Embedder.Embedder'> from params {'type': 'token_embedder', 'vocab_size': 29286, 'embed_size': 200, 'embedding_file': './preprocess/Mortality/embedding_matrix.npy'} and extras {}\n",
      "INFO - 2019-03-27 17:54:07,912 - embedder.type = token_embedder\n",
      "INFO - 2019-03-27 17:54:07,912 - instantiating class <class 'PatientVec.models.modules.Embedder.TokenEmbedder'> from params {'vocab_size': 29286, 'embed_size': 200, 'embedding_file': './preprocess/Mortality/embedding_matrix.npy'} and extras {}\n",
      "INFO - 2019-03-27 17:54:07,913 - embedder.vocab_size = 29286\n",
      "INFO - 2019-03-27 17:54:07,914 - embedder.embed_size = 200\n",
      "INFO - 2019-03-27 17:54:07,915 - embedder.embedding_file = ./preprocess/Mortality/embedding_matrix.npy\n",
      "INFO - 2019-03-27 17:54:07,929 - instantiating class <class 'PatientVec.models.modules.Encoder.Encoder'> from params {'type': 'sru', 'hidden_size': 128} and extras {'input_size': 200}\n",
      "INFO - 2019-03-27 17:54:07,929 - encoder.type = sru\n",
      "INFO - 2019-03-27 17:54:07,929 - instantiating class <class 'PatientVec.models.modules.Encoder.SRUEncoder'> from params {'hidden_size': 128} and extras {'input_size': 200}\n",
      "INFO - 2019-03-27 17:54:07,930 - encoder.hidden_size = 128\n",
      "INFO - 2019-03-27 17:54:07,932 - decoder.input_dim = 306\n",
      "INFO - 2019-03-27 17:54:07,933 - decoder.num_layers = 2\n",
      "INFO - 2019-03-27 17:54:07,933 - decoder.hidden_dims = [128, 1]\n",
      "INFO - 2019-03-27 17:54:07,933 - decoder.activations = ['tanh', 'linear']\n",
      "INFO - 2019-03-27 17:54:07,933 - decoder.dropout = 0.0\n",
      "INFO - 2019-03-27 17:54:07,934 - instantiating class <class 'PatientVec.models.modules.Predictor.Predictor'> from params {'type': 'binary'} and extras {}\n",
      "INFO - 2019-03-27 17:54:07,935 - predictor.type = binary\n",
      "INFO - 2019-03-27 17:54:07,935 - instantiating class <class 'PatientVec.models.modules.Predictor.Binary_Predictor'> from params {} and extras {}\n",
      "INFO - 2019-03-27 17:54:07,935 - predictor.replicate = False\n",
      "INFO - 2019-03-27 17:54:07,935 - predictor.alpha = 0.5\n"
     ]
    },
    {
     "name": "stdout",
     "output_type": "stream",
     "text": [
      "{'model': {'type': 'seq_classifier', 'embedder': {'type': 'token_embedder', 'vocab_size': 29286, 'embed_size': 200, 'embedding_file': './preprocess/Mortality/embedding_matrix.npy'}, 'decoder': {'num_layers': 2, 'hidden_dims': [128, 1], 'activations': ['tanh', 'linear']}, 'predictor': {'type': 'binary'}, 'structured': {'use_structured': True, 'structured_dim': 50}, 'encoder': {'type': 'sru', 'hidden_size': 128}}, 'training_config': {'type': 'Adam', 'groups': [('.*', {'lr': 0.001, 'weight_decay': 1e-05})], 'common': {'bsize': 16, 'class_weight': True}}, 'exp_config': {'exp_name': 'Mortality_1yr/Basic/SRU(hs=128)+Structured', 'basepath': 'outputs/'}}\n",
      "Setting Embedding\n",
      "Setting Embedding\n"
     ]
    },
    {
     "data": {
      "application/vnd.jupyter.widget-view+json": {
       "model_id": "e367f2d7c99541d68229bdf37301a2be",
       "version_major": 2,
       "version_minor": 0
      },
      "text/plain": [
       "HBox(children=(IntProgress(value=0, max=184), HTML(value='')))"
      ]
     },
     "metadata": {},
     "output_type": "display_data"
    },
    {
     "name": "stdout",
     "output_type": "stream",
     "text": [
      "\n",
      "{'accuracy': 0.7650059513688148, 'roc_auc': 0.8498460564555578, 'pr_auc': 0.6783627685436263}\n"
     ]
    },
    {
     "data": {
      "text/html": [
       "<div>\n",
       "<style scoped>\n",
       "    .dataframe tbody tr th:only-of-type {\n",
       "        vertical-align: middle;\n",
       "    }\n",
       "\n",
       "    .dataframe tbody tr th {\n",
       "        vertical-align: top;\n",
       "    }\n",
       "\n",
       "    .dataframe thead th {\n",
       "        text-align: right;\n",
       "    }\n",
       "</style>\n",
       "<table border=\"1\" class=\"dataframe\">\n",
       "  <thead>\n",
       "    <tr style=\"text-align: right;\">\n",
       "      <th></th>\n",
       "      <th>0</th>\n",
       "      <th>1</th>\n",
       "      <th>micro avg</th>\n",
       "      <th>macro avg</th>\n",
       "      <th>weighted avg</th>\n",
       "    </tr>\n",
       "  </thead>\n",
       "  <tbody>\n",
       "    <tr>\n",
       "      <th>f1-score</th>\n",
       "      <td>0.827</td>\n",
       "      <td>0.634</td>\n",
       "      <td>0.765</td>\n",
       "      <td>0.730</td>\n",
       "      <td>0.777</td>\n",
       "    </tr>\n",
       "    <tr>\n",
       "      <th>precision</th>\n",
       "      <td>0.913</td>\n",
       "      <td>0.529</td>\n",
       "      <td>0.765</td>\n",
       "      <td>0.721</td>\n",
       "      <td>0.814</td>\n",
       "    </tr>\n",
       "    <tr>\n",
       "      <th>recall</th>\n",
       "      <td>0.756</td>\n",
       "      <td>0.792</td>\n",
       "      <td>0.765</td>\n",
       "      <td>0.774</td>\n",
       "      <td>0.765</td>\n",
       "    </tr>\n",
       "    <tr>\n",
       "      <th>support</th>\n",
       "      <td>4370.000</td>\n",
       "      <td>1511.000</td>\n",
       "      <td>5881.000</td>\n",
       "      <td>5881.000</td>\n",
       "      <td>5881.000</td>\n",
       "    </tr>\n",
       "  </tbody>\n",
       "</table>\n",
       "</div>"
      ],
      "text/plain": [
       "                  0         1  micro avg  macro avg  weighted avg\n",
       "f1-score      0.827     0.634      0.765      0.730         0.777\n",
       "precision     0.913     0.529      0.765      0.721         0.814\n",
       "recall        0.756     0.792      0.765      0.774         0.765\n",
       "support    4370.000  1511.000   5881.000   5881.000      5881.000"
      ]
     },
     "metadata": {},
     "output_type": "display_data"
    },
    {
     "data": {
      "application/vnd.jupyter.widget-view+json": {
       "model_id": "e49a7ddd71c84e6d91a2dda9f50f4fef",
       "version_major": 2,
       "version_minor": 0
      },
      "text/plain": [
       "HBox(children=(IntProgress(value=0, max=230), HTML(value='')))"
      ]
     },
     "metadata": {},
     "output_type": "display_data"
    },
    {
     "name": "stdout",
     "output_type": "stream",
     "text": [
      "\n",
      "{'accuracy': 0.7628894028023399, 'roc_auc': 0.852255653687449, 'pr_auc': 0.679092682671449}\n"
     ]
    },
    {
     "data": {
      "text/html": [
       "<div>\n",
       "<style scoped>\n",
       "    .dataframe tbody tr th:only-of-type {\n",
       "        vertical-align: middle;\n",
       "    }\n",
       "\n",
       "    .dataframe tbody tr th {\n",
       "        vertical-align: top;\n",
       "    }\n",
       "\n",
       "    .dataframe thead th {\n",
       "        text-align: right;\n",
       "    }\n",
       "</style>\n",
       "<table border=\"1\" class=\"dataframe\">\n",
       "  <thead>\n",
       "    <tr style=\"text-align: right;\">\n",
       "      <th></th>\n",
       "      <th>0</th>\n",
       "      <th>1</th>\n",
       "      <th>micro avg</th>\n",
       "      <th>macro avg</th>\n",
       "      <th>weighted avg</th>\n",
       "    </tr>\n",
       "  </thead>\n",
       "  <tbody>\n",
       "    <tr>\n",
       "      <th>f1-score</th>\n",
       "      <td>0.825</td>\n",
       "      <td>0.632</td>\n",
       "      <td>0.763</td>\n",
       "      <td>0.728</td>\n",
       "      <td>0.776</td>\n",
       "    </tr>\n",
       "    <tr>\n",
       "      <th>precision</th>\n",
       "      <td>0.913</td>\n",
       "      <td>0.525</td>\n",
       "      <td>0.763</td>\n",
       "      <td>0.719</td>\n",
       "      <td>0.813</td>\n",
       "    </tr>\n",
       "    <tr>\n",
       "      <th>recall</th>\n",
       "      <td>0.753</td>\n",
       "      <td>0.792</td>\n",
       "      <td>0.763</td>\n",
       "      <td>0.772</td>\n",
       "      <td>0.763</td>\n",
       "    </tr>\n",
       "    <tr>\n",
       "      <th>support</th>\n",
       "      <td>5465.000</td>\n",
       "      <td>1886.000</td>\n",
       "      <td>7351.000</td>\n",
       "      <td>7351.000</td>\n",
       "      <td>7351.000</td>\n",
       "    </tr>\n",
       "  </tbody>\n",
       "</table>\n",
       "</div>"
      ],
      "text/plain": [
       "                  0         1  micro avg  macro avg  weighted avg\n",
       "f1-score      0.825     0.632      0.763      0.728         0.776\n",
       "precision     0.913     0.525      0.763      0.719         0.813\n",
       "recall        0.753     0.792      0.763      0.772         0.763\n",
       "support    5465.000  1886.000   7351.000   7351.000      7351.000"
      ]
     },
     "metadata": {},
     "output_type": "display_data"
    },
    {
     "name": "stderr",
     "output_type": "stream",
     "text": [
      "INFO - 2019-03-27 17:55:44,186 - instantiating class <class 'PatientVec.models.Model.Model'> from params {'type': 'seq_classifier_with_attention', 'embedder': {'type': 'token_embedder', 'vocab_size': 29286, 'embed_size': 200, 'embedding_file': './preprocess/Mortality/embedding_matrix.npy'}, 'decoder': {'num_layers': 2, 'hidden_dims': [128, 1], 'activations': ['tanh', 'linear']}, 'predictor': {'type': 'binary'}, 'structured': {'use_structured': True, 'structured_dim': 50}, 'encoder': {'type': 'sru', 'hidden_size': 128}, 'attention': {'similarity': {'type': 'additive', 'hidden_size': 128}}} and extras {}\n",
      "INFO - 2019-03-27 17:55:44,186 - type = seq_classifier_with_attention\n",
      "INFO - 2019-03-27 17:55:44,187 - instantiating class <class 'PatientVec.models.modules.Embedder.Embedder'> from params {'type': 'token_embedder', 'vocab_size': 29286, 'embed_size': 200, 'embedding_file': './preprocess/Mortality/embedding_matrix.npy'} and extras {}\n",
      "INFO - 2019-03-27 17:55:44,187 - embedder.type = token_embedder\n",
      "INFO - 2019-03-27 17:55:44,188 - instantiating class <class 'PatientVec.models.modules.Embedder.TokenEmbedder'> from params {'vocab_size': 29286, 'embed_size': 200, 'embedding_file': './preprocess/Mortality/embedding_matrix.npy'} and extras {}\n",
      "INFO - 2019-03-27 17:55:44,188 - embedder.vocab_size = 29286\n",
      "INFO - 2019-03-27 17:55:44,188 - embedder.embed_size = 200\n",
      "INFO - 2019-03-27 17:55:44,189 - embedder.embedding_file = ./preprocess/Mortality/embedding_matrix.npy\n",
      "INFO - 2019-03-27 17:55:44,203 - instantiating class <class 'PatientVec.models.modules.Encoder.Encoder'> from params {'type': 'sru', 'hidden_size': 128} and extras {'input_size': 200}\n",
      "INFO - 2019-03-27 17:55:44,204 - encoder.type = sru\n",
      "INFO - 2019-03-27 17:55:44,204 - instantiating class <class 'PatientVec.models.modules.Encoder.SRUEncoder'> from params {'hidden_size': 128} and extras {'input_size': 200}\n",
      "INFO - 2019-03-27 17:55:44,204 - encoder.hidden_size = 128\n",
      "INFO - 2019-03-27 17:55:44,207 - instantiating class <class 'PatientVec.models.modules.SelfAttention.SelfAttention'> from params {'similarity': {'type': 'additive', 'hidden_size': 128, 'tensor_1_dim': 256}} and extras {}\n",
      "INFO - 2019-03-27 17:55:44,208 - instantiating class <class 'PatientVec.models.modules.UniSimilarity.UniSimilarity'> from params {'type': 'additive', 'hidden_size': 128, 'tensor_1_dim': 256} and extras {}\n",
      "INFO - 2019-03-27 17:55:44,208 - attention.similarity.type = additive\n",
      "INFO - 2019-03-27 17:55:44,208 - instantiating class <class 'PatientVec.models.modules.UniSimilarity.UniAdditiveSimilarity'> from params {'hidden_size': 128, 'tensor_1_dim': 256} and extras {}\n",
      "INFO - 2019-03-27 17:55:44,209 - attention.similarity.tensor_1_dim = 256\n",
      "INFO - 2019-03-27 17:55:44,209 - attention.similarity.hidden_size = 128\n",
      "INFO - 2019-03-27 17:55:44,209 - attention.similarity.output_size = 1\n",
      "INFO - 2019-03-27 17:55:44,211 - attention.normaliser = softmax\n",
      "INFO - 2019-03-27 17:55:44,211 - decoder.input_dim = 306\n",
      "INFO - 2019-03-27 17:55:44,212 - decoder.num_layers = 2\n",
      "INFO - 2019-03-27 17:55:44,212 - decoder.hidden_dims = [128, 1]\n",
      "INFO - 2019-03-27 17:55:44,212 - decoder.activations = ['tanh', 'linear']\n",
      "INFO - 2019-03-27 17:55:44,212 - decoder.dropout = 0.0\n",
      "INFO - 2019-03-27 17:55:44,214 - instantiating class <class 'PatientVec.models.modules.Predictor.Predictor'> from params {'type': 'binary'} and extras {}\n",
      "INFO - 2019-03-27 17:55:44,214 - predictor.type = binary\n",
      "INFO - 2019-03-27 17:55:44,214 - instantiating class <class 'PatientVec.models.modules.Predictor.Binary_Predictor'> from params {} and extras {}\n",
      "INFO - 2019-03-27 17:55:44,215 - predictor.replicate = False\n",
      "INFO - 2019-03-27 17:55:44,215 - predictor.alpha = 0.5\n",
      "INFO - 2019-03-27 17:55:44,223 - instantiating class <class 'PatientVec.models.Model.Model'> from params {'type': 'seq_classifier_with_attention', 'embedder': {'type': 'token_embedder', 'vocab_size': 29286, 'embed_size': 200, 'embedding_file': './preprocess/Mortality/embedding_matrix.npy'}, 'decoder': {'num_layers': 2, 'hidden_dims': [128, 1], 'activations': ['tanh', 'linear']}, 'predictor': {'type': 'binary'}, 'structured': {'use_structured': True, 'structured_dim': 50}, 'encoder': {'type': 'sru', 'hidden_size': 128}, 'attention': {'similarity': {'type': 'additive', 'hidden_size': 128}}} and extras {}\n",
      "INFO - 2019-03-27 17:55:44,223 - type = seq_classifier_with_attention\n",
      "INFO - 2019-03-27 17:55:44,223 - instantiating class <class 'PatientVec.models.modules.Embedder.Embedder'> from params {'type': 'token_embedder', 'vocab_size': 29286, 'embed_size': 200, 'embedding_file': './preprocess/Mortality/embedding_matrix.npy'} and extras {}\n",
      "INFO - 2019-03-27 17:55:44,224 - embedder.type = token_embedder\n",
      "INFO - 2019-03-27 17:55:44,224 - instantiating class <class 'PatientVec.models.modules.Embedder.TokenEmbedder'> from params {'vocab_size': 29286, 'embed_size': 200, 'embedding_file': './preprocess/Mortality/embedding_matrix.npy'} and extras {}\n",
      "INFO - 2019-03-27 17:55:44,224 - embedder.vocab_size = 29286\n",
      "INFO - 2019-03-27 17:55:44,225 - embedder.embed_size = 200\n",
      "INFO - 2019-03-27 17:55:44,225 - embedder.embedding_file = ./preprocess/Mortality/embedding_matrix.npy\n",
      "INFO - 2019-03-27 17:55:44,239 - instantiating class <class 'PatientVec.models.modules.Encoder.Encoder'> from params {'type': 'sru', 'hidden_size': 128} and extras {'input_size': 200}\n",
      "INFO - 2019-03-27 17:55:44,240 - encoder.type = sru\n",
      "INFO - 2019-03-27 17:55:44,240 - instantiating class <class 'PatientVec.models.modules.Encoder.SRUEncoder'> from params {'hidden_size': 128} and extras {'input_size': 200}\n",
      "INFO - 2019-03-27 17:55:44,240 - encoder.hidden_size = 128\n",
      "INFO - 2019-03-27 17:55:44,243 - instantiating class <class 'PatientVec.models.modules.SelfAttention.SelfAttention'> from params {'similarity': {'type': 'additive', 'hidden_size': 128, 'tensor_1_dim': 256}} and extras {}\n",
      "INFO - 2019-03-27 17:55:44,244 - instantiating class <class 'PatientVec.models.modules.UniSimilarity.UniSimilarity'> from params {'type': 'additive', 'hidden_size': 128, 'tensor_1_dim': 256} and extras {}\n",
      "INFO - 2019-03-27 17:55:44,244 - attention.similarity.type = additive\n",
      "INFO - 2019-03-27 17:55:44,244 - instantiating class <class 'PatientVec.models.modules.UniSimilarity.UniAdditiveSimilarity'> from params {'hidden_size': 128, 'tensor_1_dim': 256} and extras {}\n",
      "INFO - 2019-03-27 17:55:44,245 - attention.similarity.tensor_1_dim = 256\n",
      "INFO - 2019-03-27 17:55:44,245 - attention.similarity.hidden_size = 128\n",
      "INFO - 2019-03-27 17:55:44,245 - attention.similarity.output_size = 1\n",
      "INFO - 2019-03-27 17:55:44,247 - attention.normaliser = softmax\n",
      "INFO - 2019-03-27 17:55:44,247 - decoder.input_dim = 306\n",
      "INFO - 2019-03-27 17:55:44,247 - decoder.num_layers = 2\n",
      "INFO - 2019-03-27 17:55:44,248 - decoder.hidden_dims = [128, 1]\n",
      "INFO - 2019-03-27 17:55:44,248 - decoder.activations = ['tanh', 'linear']\n",
      "INFO - 2019-03-27 17:55:44,248 - decoder.dropout = 0.0\n",
      "INFO - 2019-03-27 17:55:44,250 - instantiating class <class 'PatientVec.models.modules.Predictor.Predictor'> from params {'type': 'binary'} and extras {}\n",
      "INFO - 2019-03-27 17:55:44,250 - predictor.type = binary\n",
      "INFO - 2019-03-27 17:55:44,250 - instantiating class <class 'PatientVec.models.modules.Predictor.Binary_Predictor'> from params {} and extras {}\n",
      "INFO - 2019-03-27 17:55:44,250 - predictor.replicate = False\n",
      "INFO - 2019-03-27 17:55:44,251 - predictor.alpha = 0.5\n"
     ]
    },
    {
     "name": "stdout",
     "output_type": "stream",
     "text": [
      "============================================================================================================================================================================================================================================================================================================\n",
      "{'model': {'type': 'seq_classifier_with_attention', 'embedder': {'type': 'token_embedder', 'vocab_size': 29286, 'embed_size': 200, 'embedding_file': './preprocess/Mortality/embedding_matrix.npy'}, 'decoder': {'num_layers': 2, 'hidden_dims': [128, 1], 'activations': ['tanh', 'linear']}, 'predictor': {'type': 'binary'}, 'structured': {'use_structured': True, 'structured_dim': 50}, 'encoder': {'type': 'sru', 'hidden_size': 128}, 'attention': {'similarity': {'type': 'additive', 'hidden_size': 128}}}, 'training_config': {'type': 'Adam', 'groups': [('.*', {'lr': 0.001, 'weight_decay': 1e-05})], 'common': {'bsize': 16, 'class_weight': True}}, 'exp_config': {'exp_name': 'Mortality_1yr/Attention/SRU(hs=128)+Attention(additive)(hs=128)+Structured', 'basepath': 'outputs/'}}\n",
      "Setting Embedding\n",
      "Setting Embedding\n"
     ]
    },
    {
     "data": {
      "application/vnd.jupyter.widget-view+json": {
       "model_id": "dfd2bceff34b4044a18b24f90399936f",
       "version_major": 2,
       "version_minor": 0
      },
      "text/plain": [
       "HBox(children=(IntProgress(value=0, max=184), HTML(value='')))"
      ]
     },
     "metadata": {},
     "output_type": "display_data"
    },
    {
     "name": "stdout",
     "output_type": "stream",
     "text": [
      "\n",
      "{'accuracy': 0.8374426118007141, 'roc_auc': 0.8998900511428775, 'pr_auc': 0.7821669563844583}\n"
     ]
    },
    {
     "data": {
      "text/html": [
       "<div>\n",
       "<style scoped>\n",
       "    .dataframe tbody tr th:only-of-type {\n",
       "        vertical-align: middle;\n",
       "    }\n",
       "\n",
       "    .dataframe tbody tr th {\n",
       "        vertical-align: top;\n",
       "    }\n",
       "\n",
       "    .dataframe thead th {\n",
       "        text-align: right;\n",
       "    }\n",
       "</style>\n",
       "<table border=\"1\" class=\"dataframe\">\n",
       "  <thead>\n",
       "    <tr style=\"text-align: right;\">\n",
       "      <th></th>\n",
       "      <th>0</th>\n",
       "      <th>1</th>\n",
       "      <th>micro avg</th>\n",
       "      <th>macro avg</th>\n",
       "      <th>weighted avg</th>\n",
       "    </tr>\n",
       "  </thead>\n",
       "  <tbody>\n",
       "    <tr>\n",
       "      <th>f1-score</th>\n",
       "      <td>0.888</td>\n",
       "      <td>0.707</td>\n",
       "      <td>0.837</td>\n",
       "      <td>0.797</td>\n",
       "      <td>0.841</td>\n",
       "    </tr>\n",
       "    <tr>\n",
       "      <th>precision</th>\n",
       "      <td>0.914</td>\n",
       "      <td>0.658</td>\n",
       "      <td>0.837</td>\n",
       "      <td>0.786</td>\n",
       "      <td>0.848</td>\n",
       "    </tr>\n",
       "    <tr>\n",
       "      <th>recall</th>\n",
       "      <td>0.863</td>\n",
       "      <td>0.764</td>\n",
       "      <td>0.837</td>\n",
       "      <td>0.813</td>\n",
       "      <td>0.837</td>\n",
       "    </tr>\n",
       "    <tr>\n",
       "      <th>support</th>\n",
       "      <td>4370.000</td>\n",
       "      <td>1511.000</td>\n",
       "      <td>5881.000</td>\n",
       "      <td>5881.000</td>\n",
       "      <td>5881.000</td>\n",
       "    </tr>\n",
       "  </tbody>\n",
       "</table>\n",
       "</div>"
      ],
      "text/plain": [
       "                  0         1  micro avg  macro avg  weighted avg\n",
       "f1-score      0.888     0.707      0.837      0.797         0.841\n",
       "precision     0.914     0.658      0.837      0.786         0.848\n",
       "recall        0.863     0.764      0.837      0.813         0.837\n",
       "support    4370.000  1511.000   5881.000   5881.000      5881.000"
      ]
     },
     "metadata": {},
     "output_type": "display_data"
    },
    {
     "data": {
      "application/vnd.jupyter.widget-view+json": {
       "model_id": "2a06817271c446bbbe701b3ca65d6641",
       "version_major": 2,
       "version_minor": 0
      },
      "text/plain": [
       "HBox(children=(IntProgress(value=0, max=230), HTML(value='')))"
      ]
     },
     "metadata": {},
     "output_type": "display_data"
    },
    {
     "name": "stdout",
     "output_type": "stream",
     "text": [
      "\n",
      "{'accuracy': 0.8447830227179975, 'roc_auc': 0.9081668362926519, 'pr_auc': 0.7998277428055904}\n"
     ]
    },
    {
     "data": {
      "text/html": [
       "<div>\n",
       "<style scoped>\n",
       "    .dataframe tbody tr th:only-of-type {\n",
       "        vertical-align: middle;\n",
       "    }\n",
       "\n",
       "    .dataframe tbody tr th {\n",
       "        vertical-align: top;\n",
       "    }\n",
       "\n",
       "    .dataframe thead th {\n",
       "        text-align: right;\n",
       "    }\n",
       "</style>\n",
       "<table border=\"1\" class=\"dataframe\">\n",
       "  <thead>\n",
       "    <tr style=\"text-align: right;\">\n",
       "      <th></th>\n",
       "      <th>0</th>\n",
       "      <th>1</th>\n",
       "      <th>micro avg</th>\n",
       "      <th>macro avg</th>\n",
       "      <th>weighted avg</th>\n",
       "    </tr>\n",
       "  </thead>\n",
       "  <tbody>\n",
       "    <tr>\n",
       "      <th>f1-score</th>\n",
       "      <td>0.892</td>\n",
       "      <td>0.723</td>\n",
       "      <td>0.845</td>\n",
       "      <td>0.808</td>\n",
       "      <td>0.849</td>\n",
       "    </tr>\n",
       "    <tr>\n",
       "      <th>precision</th>\n",
       "      <td>0.923</td>\n",
       "      <td>0.667</td>\n",
       "      <td>0.845</td>\n",
       "      <td>0.795</td>\n",
       "      <td>0.857</td>\n",
       "    </tr>\n",
       "    <tr>\n",
       "      <th>recall</th>\n",
       "      <td>0.863</td>\n",
       "      <td>0.791</td>\n",
       "      <td>0.845</td>\n",
       "      <td>0.827</td>\n",
       "      <td>0.845</td>\n",
       "    </tr>\n",
       "    <tr>\n",
       "      <th>support</th>\n",
       "      <td>5465.000</td>\n",
       "      <td>1886.000</td>\n",
       "      <td>7351.000</td>\n",
       "      <td>7351.000</td>\n",
       "      <td>7351.000</td>\n",
       "    </tr>\n",
       "  </tbody>\n",
       "</table>\n",
       "</div>"
      ],
      "text/plain": [
       "                  0         1  micro avg  macro avg  weighted avg\n",
       "f1-score      0.892     0.723      0.845      0.808         0.849\n",
       "precision     0.923     0.667      0.845      0.795         0.857\n",
       "recall        0.863     0.791      0.845      0.827         0.845\n",
       "support    5465.000  1886.000   7351.000   7351.000      7351.000"
      ]
     },
     "metadata": {},
     "output_type": "display_data"
    },
    {
     "name": "stdout",
     "output_type": "stream",
     "text": [
      "============================================================================================================================================================================================================================================================================================================\n",
      "Pos Percentage [0.25239128]\n"
     ]
    },
    {
     "name": "stderr",
     "output_type": "stream",
     "text": [
      "INFO - 2019-03-27 17:57:34,589 - Maximum Sentence Length 721825.000000 , 90 percentile length 18596.000000 ... \n",
      "INFO - 2019-03-27 17:57:43,220 - Truncated all ...\n",
      "INFO - 2019-03-27 17:57:43,272 - Idxs removed []...\n"
     ]
    },
    {
     "name": "stdout",
     "output_type": "stream",
     "text": [
      "Pos Percentage [0.25692909]\n"
     ]
    },
    {
     "name": "stderr",
     "output_type": "stream",
     "text": [
      "INFO - 2019-03-27 17:57:44,287 - Maximum Sentence Length 420764.000000 , 90 percentile length 17662.000000 ... \n",
      "INFO - 2019-03-27 17:57:47,792 - Truncated all ...\n",
      "INFO - 2019-03-27 17:57:47,805 - Idxs removed []...\n"
     ]
    },
    {
     "name": "stdout",
     "output_type": "stream",
     "text": [
      "Pos Percentage [0.25656373]\n"
     ]
    },
    {
     "name": "stderr",
     "output_type": "stream",
     "text": [
      "INFO - 2019-03-27 17:57:48,941 - Maximum Sentence Length 707041.000000 , 90 percentile length 17669.000000 ... \n",
      "INFO - 2019-03-27 17:57:50,778 - Truncated all ...\n",
      "INFO - 2019-03-27 17:57:50,793 - Idxs removed []...\n",
      "INFO - 2019-03-27 17:57:50,853 - instantiating class <class 'PatientVec.models.Model.Model'> from params {'type': 'seq_classifier_with_structured_attention', 'embedder': {'type': 'token_embedder', 'vocab_size': 29286, 'embed_size': 200, 'embedding_file': './preprocess/Mortality/embedding_matrix.npy'}, 'decoder': {'num_layers': 2, 'hidden_dims': [128, 1], 'activations': ['tanh', 'linear']}, 'predictor': {'type': 'binary'}, 'structured': {'use_structured': True, 'structured_dim': 50}, 'encoder': {'type': 'average', 'projection': True, 'hidden_size': 256, 'activation': 'relu'}, 'attention': {'similarity': {'type': 'additive', 'hidden_size': 128, 'tensor_2_dim': 50}}} and extras {}\n",
      "INFO - 2019-03-27 17:57:50,854 - type = seq_classifier_with_structured_attention\n",
      "INFO - 2019-03-27 17:57:50,854 - instantiating class <class 'PatientVec.models.modules.Embedder.Embedder'> from params {'type': 'token_embedder', 'vocab_size': 29286, 'embed_size': 200, 'embedding_file': './preprocess/Mortality/embedding_matrix.npy'} and extras {}\n",
      "INFO - 2019-03-27 17:57:50,855 - embedder.type = token_embedder\n",
      "INFO - 2019-03-27 17:57:50,855 - instantiating class <class 'PatientVec.models.modules.Embedder.TokenEmbedder'> from params {'vocab_size': 29286, 'embed_size': 200, 'embedding_file': './preprocess/Mortality/embedding_matrix.npy'} and extras {}\n",
      "INFO - 2019-03-27 17:57:50,855 - embedder.vocab_size = 29286\n",
      "INFO - 2019-03-27 17:57:50,856 - embedder.embed_size = 200\n",
      "INFO - 2019-03-27 17:57:50,856 - embedder.embedding_file = ./preprocess/Mortality/embedding_matrix.npy\n",
      "INFO - 2019-03-27 17:57:50,872 - instantiating class <class 'PatientVec.models.modules.Encoder.Encoder'> from params {'type': 'average', 'projection': True, 'hidden_size': 256, 'activation': 'relu'} and extras {'input_size': 200}\n",
      "INFO - 2019-03-27 17:57:50,872 - encoder.type = average\n",
      "INFO - 2019-03-27 17:57:50,872 - instantiating class <class 'PatientVec.models.modules.Encoder.AverageEncoder'> from params {'projection': True, 'hidden_size': 256, 'activation': 'relu'} and extras {'input_size': 200}\n",
      "INFO - 2019-03-27 17:57:50,873 - encoder.projection = True\n",
      "INFO - 2019-03-27 17:57:50,873 - encoder.hidden_size = 256\n",
      "INFO - 2019-03-27 17:57:50,874 - encoder.activation = relu\n",
      "INFO - 2019-03-27 17:57:50,875 - instantiating class <class 'PatientVec.models.modules.Attention.Attention'> from params {'similarity': {'type': 'additive', 'hidden_size': 128, 'tensor_2_dim': 50, 'tensor_1_dim': 256}} and extras {}\n",
      "INFO - 2019-03-27 17:57:50,875 - instantiating class <class 'PatientVec.models.modules.BiSimilarity.BiSimilarity'> from params {'type': 'additive', 'hidden_size': 128, 'tensor_2_dim': 50, 'tensor_1_dim': 256} and extras {}\n",
      "INFO - 2019-03-27 17:57:50,875 - attention.similarity.type = additive\n",
      "INFO - 2019-03-27 17:57:50,876 - instantiating class <class 'PatientVec.models.modules.BiSimilarity.BiAdditiveSimilarity'> from params {'hidden_size': 128, 'tensor_2_dim': 50, 'tensor_1_dim': 256} and extras {}\n",
      "INFO - 2019-03-27 17:57:50,876 - attention.similarity.tensor_1_dim = 256\n",
      "INFO - 2019-03-27 17:57:50,876 - attention.similarity.tensor_2_dim = 50\n",
      "INFO - 2019-03-27 17:57:50,876 - attention.similarity.hidden_size = 128\n",
      "INFO - 2019-03-27 17:57:50,878 - attention.normaliser = softmax\n",
      "INFO - 2019-03-27 17:57:50,878 - decoder.input_dim = 306\n",
      "INFO - 2019-03-27 17:57:50,878 - decoder.num_layers = 2\n",
      "INFO - 2019-03-27 17:57:50,879 - decoder.hidden_dims = [128, 1]\n",
      "INFO - 2019-03-27 17:57:50,879 - decoder.activations = ['tanh', 'linear']\n",
      "INFO - 2019-03-27 17:57:50,879 - decoder.dropout = 0.0\n",
      "INFO - 2019-03-27 17:57:50,880 - instantiating class <class 'PatientVec.models.modules.Predictor.Predictor'> from params {'type': 'binary'} and extras {}\n",
      "INFO - 2019-03-27 17:57:50,881 - predictor.type = binary\n",
      "INFO - 2019-03-27 17:57:50,881 - instantiating class <class 'PatientVec.models.modules.Predictor.Binary_Predictor'> from params {} and extras {}\n",
      "INFO - 2019-03-27 17:57:50,882 - predictor.replicate = False\n",
      "INFO - 2019-03-27 17:57:50,882 - predictor.alpha = 0.5\n",
      "INFO - 2019-03-27 17:57:50,891 - instantiating class <class 'PatientVec.models.Model.Model'> from params {'type': 'seq_classifier_with_structured_attention', 'embedder': {'type': 'token_embedder', 'vocab_size': 29286, 'embed_size': 200, 'embedding_file': '/scratch/jain.sar/PatientVec/preprocess/Mortality/embedding_matrix.npy'}, 'decoder': {'num_layers': 2, 'hidden_dims': [128, 1], 'activations': ['tanh', 'linear']}, 'predictor': {'type': 'binary'}, 'structured': {'use_structured': True, 'structured_dim': 50}, 'encoder': {'type': 'average', 'projection': True, 'hidden_size': 256, 'activation': 'relu'}, 'attention': {'similarity': {'type': 'additive', 'hidden_size': 128, 'tensor_2_dim': 50}}} and extras {}\n",
      "INFO - 2019-03-27 17:57:50,891 - type = seq_classifier_with_structured_attention\n",
      "INFO - 2019-03-27 17:57:50,892 - instantiating class <class 'PatientVec.models.modules.Embedder.Embedder'> from params {'type': 'token_embedder', 'vocab_size': 29286, 'embed_size': 200, 'embedding_file': '/scratch/jain.sar/PatientVec/preprocess/Mortality/embedding_matrix.npy'} and extras {}\n",
      "INFO - 2019-03-27 17:57:50,892 - embedder.type = token_embedder\n",
      "INFO - 2019-03-27 17:57:50,892 - instantiating class <class 'PatientVec.models.modules.Embedder.TokenEmbedder'> from params {'vocab_size': 29286, 'embed_size': 200, 'embedding_file': '/scratch/jain.sar/PatientVec/preprocess/Mortality/embedding_matrix.npy'} and extras {}\n",
      "INFO - 2019-03-27 17:57:50,893 - embedder.vocab_size = 29286\n",
      "INFO - 2019-03-27 17:57:50,893 - embedder.embed_size = 200\n",
      "INFO - 2019-03-27 17:57:50,893 - embedder.embedding_file = /scratch/jain.sar/PatientVec/preprocess/Mortality/embedding_matrix.npy\n",
      "INFO - 2019-03-27 17:57:50,924 - instantiating class <class 'PatientVec.models.modules.Encoder.Encoder'> from params {'type': 'average', 'projection': True, 'hidden_size': 256, 'activation': 'relu'} and extras {'input_size': 200}\n",
      "INFO - 2019-03-27 17:57:50,924 - encoder.type = average\n",
      "INFO - 2019-03-27 17:57:50,925 - instantiating class <class 'PatientVec.models.modules.Encoder.AverageEncoder'> from params {'projection': True, 'hidden_size': 256, 'activation': 'relu'} and extras {'input_size': 200}\n",
      "INFO - 2019-03-27 17:57:50,925 - encoder.projection = True\n",
      "INFO - 2019-03-27 17:57:50,925 - encoder.hidden_size = 256\n",
      "INFO - 2019-03-27 17:57:50,926 - encoder.activation = relu\n",
      "INFO - 2019-03-27 17:57:50,926 - instantiating class <class 'PatientVec.models.modules.Attention.Attention'> from params {'similarity': {'type': 'additive', 'hidden_size': 128, 'tensor_2_dim': 50, 'tensor_1_dim': 256}} and extras {}\n",
      "INFO - 2019-03-27 17:57:50,927 - instantiating class <class 'PatientVec.models.modules.BiSimilarity.BiSimilarity'> from params {'type': 'additive', 'hidden_size': 128, 'tensor_2_dim': 50, 'tensor_1_dim': 256} and extras {}\n",
      "INFO - 2019-03-27 17:57:50,927 - attention.similarity.type = additive\n",
      "INFO - 2019-03-27 17:57:50,927 - instantiating class <class 'PatientVec.models.modules.BiSimilarity.BiAdditiveSimilarity'> from params {'hidden_size': 128, 'tensor_2_dim': 50, 'tensor_1_dim': 256} and extras {}\n",
      "INFO - 2019-03-27 17:57:50,928 - attention.similarity.tensor_1_dim = 256\n",
      "INFO - 2019-03-27 17:57:50,928 - attention.similarity.tensor_2_dim = 50\n",
      "INFO - 2019-03-27 17:57:50,928 - attention.similarity.hidden_size = 128\n",
      "INFO - 2019-03-27 17:57:50,929 - attention.normaliser = softmax\n",
      "INFO - 2019-03-27 17:57:50,930 - decoder.input_dim = 306\n",
      "INFO - 2019-03-27 17:57:50,930 - decoder.num_layers = 2\n",
      "INFO - 2019-03-27 17:57:50,931 - decoder.hidden_dims = [128, 1]\n",
      "INFO - 2019-03-27 17:57:50,931 - decoder.activations = ['tanh', 'linear']\n",
      "INFO - 2019-03-27 17:57:50,931 - decoder.dropout = 0.0\n",
      "INFO - 2019-03-27 17:57:50,932 - instantiating class <class 'PatientVec.models.modules.Predictor.Predictor'> from params {'type': 'binary'} and extras {}\n",
      "INFO - 2019-03-27 17:57:50,933 - predictor.type = binary\n",
      "INFO - 2019-03-27 17:57:50,933 - instantiating class <class 'PatientVec.models.modules.Predictor.Binary_Predictor'> from params {} and extras {}\n",
      "INFO - 2019-03-27 17:57:50,933 - predictor.replicate = False\n",
      "INFO - 2019-03-27 17:57:50,934 - predictor.alpha = 0.5\n"
     ]
    },
    {
     "name": "stdout",
     "output_type": "stream",
     "text": [
      "{'model': {'type': 'seq_classifier_with_structured_attention', 'embedder': {'type': 'token_embedder', 'vocab_size': 29286, 'embed_size': 200, 'embedding_file': './preprocess/Mortality/embedding_matrix.npy'}, 'decoder': {'num_layers': 2, 'hidden_dims': [128, 1], 'activations': ['tanh', 'linear']}, 'predictor': {'type': 'binary'}, 'structured': {'use_structured': True, 'structured_dim': 50}, 'encoder': {'type': 'average', 'projection': True, 'hidden_size': 256, 'activation': 'relu'}, 'attention': {'similarity': {'type': 'additive', 'hidden_size': 128, 'tensor_2_dim': 50}}}, 'training_config': {'type': 'Adam', 'groups': [('.*', {'lr': 0.001, 'weight_decay': 1e-05})], 'common': {'bsize': 32, 'class_weight': True}}, 'exp_config': {'exp_name': 'Mortality_1yr/Structured Attention/Average(hs=256)+Attention(additive)(all)(hs=128)+Structured', 'basepath': 'outputs/'}}\n",
      "Setting Embedding\n",
      "Error, Embedding file given but doesn't exists ... /scratch/jain.sar/PatientVec/preprocess/Mortality/embedding_matrix.npy\n"
     ]
    },
    {
     "data": {
      "application/vnd.jupyter.widget-view+json": {
       "model_id": "4886a54b38af4bebb3ac7ed762b29e44",
       "version_major": 2,
       "version_minor": 0
      },
      "text/plain": [
       "HBox(children=(IntProgress(value=0, max=184), HTML(value='')))"
      ]
     },
     "metadata": {},
     "output_type": "display_data"
    },
    {
     "name": "stdout",
     "output_type": "stream",
     "text": [
      "\n",
      "{'accuracy': 0.7796293147423907, 'roc_auc': 0.8969453602642408, 'pr_auc': 0.778289704754976}\n"
     ]
    },
    {
     "data": {
      "text/html": [
       "<div>\n",
       "<style scoped>\n",
       "    .dataframe tbody tr th:only-of-type {\n",
       "        vertical-align: middle;\n",
       "    }\n",
       "\n",
       "    .dataframe tbody tr th {\n",
       "        vertical-align: top;\n",
       "    }\n",
       "\n",
       "    .dataframe thead th {\n",
       "        text-align: right;\n",
       "    }\n",
       "</style>\n",
       "<table border=\"1\" class=\"dataframe\">\n",
       "  <thead>\n",
       "    <tr style=\"text-align: right;\">\n",
       "      <th></th>\n",
       "      <th>0</th>\n",
       "      <th>1</th>\n",
       "      <th>micro avg</th>\n",
       "      <th>macro avg</th>\n",
       "      <th>weighted avg</th>\n",
       "    </tr>\n",
       "  </thead>\n",
       "  <tbody>\n",
       "    <tr>\n",
       "      <th>f1-score</th>\n",
       "      <td>0.834</td>\n",
       "      <td>0.672</td>\n",
       "      <td>0.78</td>\n",
       "      <td>0.753</td>\n",
       "      <td>0.792</td>\n",
       "    </tr>\n",
       "    <tr>\n",
       "      <th>precision</th>\n",
       "      <td>0.946</td>\n",
       "      <td>0.544</td>\n",
       "      <td>0.78</td>\n",
       "      <td>0.745</td>\n",
       "      <td>0.843</td>\n",
       "    </tr>\n",
       "    <tr>\n",
       "      <th>recall</th>\n",
       "      <td>0.746</td>\n",
       "      <td>0.878</td>\n",
       "      <td>0.78</td>\n",
       "      <td>0.812</td>\n",
       "      <td>0.780</td>\n",
       "    </tr>\n",
       "    <tr>\n",
       "      <th>support</th>\n",
       "      <td>4370.000</td>\n",
       "      <td>1511.000</td>\n",
       "      <td>5881.00</td>\n",
       "      <td>5881.000</td>\n",
       "      <td>5881.000</td>\n",
       "    </tr>\n",
       "  </tbody>\n",
       "</table>\n",
       "</div>"
      ],
      "text/plain": [
       "                  0         1  micro avg  macro avg  weighted avg\n",
       "f1-score      0.834     0.672       0.78      0.753         0.792\n",
       "precision     0.946     0.544       0.78      0.745         0.843\n",
       "recall        0.746     0.878       0.78      0.812         0.780\n",
       "support    4370.000  1511.000    5881.00   5881.000      5881.000"
      ]
     },
     "metadata": {},
     "output_type": "display_data"
    },
    {
     "data": {
      "application/vnd.jupyter.widget-view+json": {
       "model_id": "7461a62444d94f2f9ff071aaa69f38c9",
       "version_major": 2,
       "version_minor": 0
      },
      "text/plain": [
       "HBox(children=(IntProgress(value=0, max=230), HTML(value='')))"
      ]
     },
     "metadata": {},
     "output_type": "display_data"
    },
    {
     "name": "stdout",
     "output_type": "stream",
     "text": [
      "\n",
      "{'accuracy': 0.7739083117943137, 'roc_auc': 0.9021867683969811, 'pr_auc': 0.7936510199958908}\n"
     ]
    },
    {
     "data": {
      "text/html": [
       "<div>\n",
       "<style scoped>\n",
       "    .dataframe tbody tr th:only-of-type {\n",
       "        vertical-align: middle;\n",
       "    }\n",
       "\n",
       "    .dataframe tbody tr th {\n",
       "        vertical-align: top;\n",
       "    }\n",
       "\n",
       "    .dataframe thead th {\n",
       "        text-align: right;\n",
       "    }\n",
       "</style>\n",
       "<table border=\"1\" class=\"dataframe\">\n",
       "  <thead>\n",
       "    <tr style=\"text-align: right;\">\n",
       "      <th></th>\n",
       "      <th>0</th>\n",
       "      <th>1</th>\n",
       "      <th>micro avg</th>\n",
       "      <th>macro avg</th>\n",
       "      <th>weighted avg</th>\n",
       "    </tr>\n",
       "  </thead>\n",
       "  <tbody>\n",
       "    <tr>\n",
       "      <th>f1-score</th>\n",
       "      <td>0.829</td>\n",
       "      <td>0.666</td>\n",
       "      <td>0.774</td>\n",
       "      <td>0.748</td>\n",
       "      <td>0.787</td>\n",
       "    </tr>\n",
       "    <tr>\n",
       "      <th>precision</th>\n",
       "      <td>0.946</td>\n",
       "      <td>0.536</td>\n",
       "      <td>0.774</td>\n",
       "      <td>0.741</td>\n",
       "      <td>0.841</td>\n",
       "    </tr>\n",
       "    <tr>\n",
       "      <th>recall</th>\n",
       "      <td>0.738</td>\n",
       "      <td>0.879</td>\n",
       "      <td>0.774</td>\n",
       "      <td>0.808</td>\n",
       "      <td>0.774</td>\n",
       "    </tr>\n",
       "    <tr>\n",
       "      <th>support</th>\n",
       "      <td>5465.000</td>\n",
       "      <td>1886.000</td>\n",
       "      <td>7351.000</td>\n",
       "      <td>7351.000</td>\n",
       "      <td>7351.000</td>\n",
       "    </tr>\n",
       "  </tbody>\n",
       "</table>\n",
       "</div>"
      ],
      "text/plain": [
       "                  0         1  micro avg  macro avg  weighted avg\n",
       "f1-score      0.829     0.666      0.774      0.748         0.787\n",
       "precision     0.946     0.536      0.774      0.741         0.841\n",
       "recall        0.738     0.879      0.774      0.808         0.774\n",
       "support    5465.000  1886.000   7351.000   7351.000      7351.000"
      ]
     },
     "metadata": {},
     "output_type": "display_data"
    },
    {
     "name": "stderr",
     "output_type": "stream",
     "text": [
      "INFO - 2019-03-27 17:58:38,294 - instantiating class <class 'PatientVec.models.Model.Model'> from params {'type': 'seq_classifier_with_structured_attention', 'embedder': {'type': 'token_embedder', 'vocab_size': 29286, 'embed_size': 200, 'embedding_file': './preprocess/Mortality/embedding_matrix.npy'}, 'decoder': {'num_layers': 2, 'hidden_dims': [128, 1], 'activations': ['tanh', 'linear']}, 'predictor': {'type': 'binary'}, 'structured': {'use_structured': True, 'structured_dim': 50}, 'encoder': {'type': 'lstm', 'hidden_size': 128}, 'attention': {'similarity': {'type': 'additive', 'hidden_size': 128, 'tensor_2_dim': 50}}} and extras {}\n",
      "INFO - 2019-03-27 17:58:38,294 - type = seq_classifier_with_structured_attention\n",
      "INFO - 2019-03-27 17:58:38,295 - instantiating class <class 'PatientVec.models.modules.Embedder.Embedder'> from params {'type': 'token_embedder', 'vocab_size': 29286, 'embed_size': 200, 'embedding_file': './preprocess/Mortality/embedding_matrix.npy'} and extras {}\n",
      "INFO - 2019-03-27 17:58:38,295 - embedder.type = token_embedder\n",
      "INFO - 2019-03-27 17:58:38,296 - instantiating class <class 'PatientVec.models.modules.Embedder.TokenEmbedder'> from params {'vocab_size': 29286, 'embed_size': 200, 'embedding_file': './preprocess/Mortality/embedding_matrix.npy'} and extras {}\n",
      "INFO - 2019-03-27 17:58:38,296 - embedder.vocab_size = 29286\n",
      "INFO - 2019-03-27 17:58:38,296 - embedder.embed_size = 200\n",
      "INFO - 2019-03-27 17:58:38,296 - embedder.embedding_file = ./preprocess/Mortality/embedding_matrix.npy\n",
      "INFO - 2019-03-27 17:58:38,311 - instantiating class <class 'PatientVec.models.modules.Encoder.Encoder'> from params {'type': 'lstm', 'hidden_size': 128} and extras {'input_size': 200}\n",
      "INFO - 2019-03-27 17:58:38,311 - encoder.type = lstm\n",
      "INFO - 2019-03-27 17:58:38,311 - instantiating class <class 'PatientVec.models.modules.Encoder.wrap_pytorch_rnn.<locals>.BiRNNEncoder'> from params {'hidden_size': 128} and extras {'input_size': 200}\n",
      "INFO - 2019-03-27 17:58:38,312 - encoder.hidden_size = 128\n",
      "INFO - 2019-03-27 17:58:38,314 - instantiating class <class 'PatientVec.models.modules.Attention.Attention'> from params {'similarity': {'type': 'additive', 'hidden_size': 128, 'tensor_2_dim': 50, 'tensor_1_dim': 256}} and extras {}\n",
      "INFO - 2019-03-27 17:58:38,315 - instantiating class <class 'PatientVec.models.modules.BiSimilarity.BiSimilarity'> from params {'type': 'additive', 'hidden_size': 128, 'tensor_2_dim': 50, 'tensor_1_dim': 256} and extras {}\n",
      "INFO - 2019-03-27 17:58:38,315 - attention.similarity.type = additive\n",
      "INFO - 2019-03-27 17:58:38,315 - instantiating class <class 'PatientVec.models.modules.BiSimilarity.BiAdditiveSimilarity'> from params {'hidden_size': 128, 'tensor_2_dim': 50, 'tensor_1_dim': 256} and extras {}\n",
      "INFO - 2019-03-27 17:58:38,316 - attention.similarity.tensor_1_dim = 256\n",
      "INFO - 2019-03-27 17:58:38,316 - attention.similarity.tensor_2_dim = 50\n",
      "INFO - 2019-03-27 17:58:38,316 - attention.similarity.hidden_size = 128\n",
      "INFO - 2019-03-27 17:58:38,318 - attention.normaliser = softmax\n",
      "INFO - 2019-03-27 17:58:38,318 - decoder.input_dim = 306\n",
      "INFO - 2019-03-27 17:58:38,318 - decoder.num_layers = 2\n",
      "INFO - 2019-03-27 17:58:38,319 - decoder.hidden_dims = [128, 1]\n",
      "INFO - 2019-03-27 17:58:38,319 - decoder.activations = ['tanh', 'linear']\n",
      "INFO - 2019-03-27 17:58:38,319 - decoder.dropout = 0.0\n",
      "INFO - 2019-03-27 17:58:38,320 - instantiating class <class 'PatientVec.models.modules.Predictor.Predictor'> from params {'type': 'binary'} and extras {}\n",
      "INFO - 2019-03-27 17:58:38,321 - predictor.type = binary\n",
      "INFO - 2019-03-27 17:58:38,321 - instantiating class <class 'PatientVec.models.modules.Predictor.Binary_Predictor'> from params {} and extras {}\n",
      "INFO - 2019-03-27 17:58:38,321 - predictor.replicate = False\n",
      "INFO - 2019-03-27 17:58:38,321 - predictor.alpha = 0.5\n",
      "INFO - 2019-03-27 17:58:38,330 - instantiating class <class 'PatientVec.models.Model.Model'> from params {'type': 'seq_classifier_with_structured_attention', 'embedder': {'type': 'token_embedder', 'vocab_size': 29286, 'embed_size': 200, 'embedding_file': '/scratch/jain.sar/PatientVec/preprocess/Mortality/embedding_matrix.npy'}, 'decoder': {'num_layers': 2, 'hidden_dims': [128, 1], 'activations': ['tanh', 'linear']}, 'predictor': {'type': 'binary'}, 'structured': {'use_structured': True, 'structured_dim': 50}, 'encoder': {'type': 'lstm', 'hidden_size': 128}, 'attention': {'similarity': {'type': 'additive', 'hidden_size': 128, 'tensor_2_dim': 50}}} and extras {}\n",
      "INFO - 2019-03-27 17:58:38,330 - type = seq_classifier_with_structured_attention\n",
      "INFO - 2019-03-27 17:58:38,330 - instantiating class <class 'PatientVec.models.modules.Embedder.Embedder'> from params {'type': 'token_embedder', 'vocab_size': 29286, 'embed_size': 200, 'embedding_file': '/scratch/jain.sar/PatientVec/preprocess/Mortality/embedding_matrix.npy'} and extras {}\n",
      "INFO - 2019-03-27 17:58:38,331 - embedder.type = token_embedder\n",
      "INFO - 2019-03-27 17:58:38,331 - instantiating class <class 'PatientVec.models.modules.Embedder.TokenEmbedder'> from params {'vocab_size': 29286, 'embed_size': 200, 'embedding_file': '/scratch/jain.sar/PatientVec/preprocess/Mortality/embedding_matrix.npy'} and extras {}\n",
      "INFO - 2019-03-27 17:58:38,331 - embedder.vocab_size = 29286\n",
      "INFO - 2019-03-27 17:58:38,332 - embedder.embed_size = 200\n",
      "INFO - 2019-03-27 17:58:38,332 - embedder.embedding_file = /scratch/jain.sar/PatientVec/preprocess/Mortality/embedding_matrix.npy\n",
      "INFO - 2019-03-27 17:58:38,360 - instantiating class <class 'PatientVec.models.modules.Encoder.Encoder'> from params {'type': 'lstm', 'hidden_size': 128} and extras {'input_size': 200}\n",
      "INFO - 2019-03-27 17:58:38,361 - encoder.type = lstm\n",
      "INFO - 2019-03-27 17:58:38,361 - instantiating class <class 'PatientVec.models.modules.Encoder.wrap_pytorch_rnn.<locals>.BiRNNEncoder'> from params {'hidden_size': 128} and extras {'input_size': 200}\n",
      "INFO - 2019-03-27 17:58:38,361 - encoder.hidden_size = 128\n",
      "INFO - 2019-03-27 17:58:38,363 - instantiating class <class 'PatientVec.models.modules.Attention.Attention'> from params {'similarity': {'type': 'additive', 'hidden_size': 128, 'tensor_2_dim': 50, 'tensor_1_dim': 256}} and extras {}\n",
      "INFO - 2019-03-27 17:58:38,364 - instantiating class <class 'PatientVec.models.modules.BiSimilarity.BiSimilarity'> from params {'type': 'additive', 'hidden_size': 128, 'tensor_2_dim': 50, 'tensor_1_dim': 256} and extras {}\n",
      "INFO - 2019-03-27 17:58:38,364 - attention.similarity.type = additive\n",
      "INFO - 2019-03-27 17:58:38,364 - instantiating class <class 'PatientVec.models.modules.BiSimilarity.BiAdditiveSimilarity'> from params {'hidden_size': 128, 'tensor_2_dim': 50, 'tensor_1_dim': 256} and extras {}\n",
      "INFO - 2019-03-27 17:58:38,365 - attention.similarity.tensor_1_dim = 256\n",
      "INFO - 2019-03-27 17:58:38,365 - attention.similarity.tensor_2_dim = 50\n",
      "INFO - 2019-03-27 17:58:38,365 - attention.similarity.hidden_size = 128\n",
      "INFO - 2019-03-27 17:58:38,366 - attention.normaliser = softmax\n",
      "INFO - 2019-03-27 17:58:38,367 - decoder.input_dim = 306\n",
      "INFO - 2019-03-27 17:58:38,367 - decoder.num_layers = 2\n",
      "INFO - 2019-03-27 17:58:38,367 - decoder.hidden_dims = [128, 1]\n",
      "INFO - 2019-03-27 17:58:38,367 - decoder.activations = ['tanh', 'linear']\n",
      "INFO - 2019-03-27 17:58:38,368 - decoder.dropout = 0.0\n",
      "INFO - 2019-03-27 17:58:38,369 - instantiating class <class 'PatientVec.models.modules.Predictor.Predictor'> from params {'type': 'binary'} and extras {}\n",
      "INFO - 2019-03-27 17:58:38,369 - predictor.type = binary\n",
      "INFO - 2019-03-27 17:58:38,369 - instantiating class <class 'PatientVec.models.modules.Predictor.Binary_Predictor'> from params {} and extras {}\n",
      "INFO - 2019-03-27 17:58:38,370 - predictor.replicate = False\n",
      "INFO - 2019-03-27 17:58:38,370 - predictor.alpha = 0.5\n"
     ]
    },
    {
     "name": "stdout",
     "output_type": "stream",
     "text": [
      "============================================================================================================================================================================================================================================================================================================\n",
      "{'model': {'type': 'seq_classifier_with_structured_attention', 'embedder': {'type': 'token_embedder', 'vocab_size': 29286, 'embed_size': 200, 'embedding_file': './preprocess/Mortality/embedding_matrix.npy'}, 'decoder': {'num_layers': 2, 'hidden_dims': [128, 1], 'activations': ['tanh', 'linear']}, 'predictor': {'type': 'binary'}, 'structured': {'use_structured': True, 'structured_dim': 50}, 'encoder': {'type': 'lstm', 'hidden_size': 128}, 'attention': {'similarity': {'type': 'additive', 'hidden_size': 128, 'tensor_2_dim': 50}}}, 'training_config': {'type': 'Adam', 'groups': [('.*', {'lr': 0.001, 'weight_decay': 1e-05})], 'common': {'bsize': 32, 'class_weight': True}}, 'exp_config': {'exp_name': 'Mortality_1yr/Structured Attention/LSTM(hs=128)+Attention(additive)(all)(hs=128)+Structured', 'basepath': 'outputs/'}}\n",
      "Setting Embedding\n",
      "Error, Embedding file given but doesn't exists ... /scratch/jain.sar/PatientVec/preprocess/Mortality/embedding_matrix.npy\n"
     ]
    },
    {
     "data": {
      "application/vnd.jupyter.widget-view+json": {
       "model_id": "52eb8842f0c843b19b8a7b00da55d275",
       "version_major": 2,
       "version_minor": 0
      },
      "text/plain": [
       "HBox(children=(IntProgress(value=0, max=184), HTML(value='')))"
      ]
     },
     "metadata": {},
     "output_type": "display_data"
    },
    {
     "name": "stdout",
     "output_type": "stream",
     "text": [
      "\n",
      "{'accuracy': 0.8326815167488523, 'roc_auc': 0.9004891664029004, 'pr_auc': 0.7858406412943651}\n"
     ]
    },
    {
     "data": {
      "text/html": [
       "<div>\n",
       "<style scoped>\n",
       "    .dataframe tbody tr th:only-of-type {\n",
       "        vertical-align: middle;\n",
       "    }\n",
       "\n",
       "    .dataframe tbody tr th {\n",
       "        vertical-align: top;\n",
       "    }\n",
       "\n",
       "    .dataframe thead th {\n",
       "        text-align: right;\n",
       "    }\n",
       "</style>\n",
       "<table border=\"1\" class=\"dataframe\">\n",
       "  <thead>\n",
       "    <tr style=\"text-align: right;\">\n",
       "      <th></th>\n",
       "      <th>0</th>\n",
       "      <th>1</th>\n",
       "      <th>micro avg</th>\n",
       "      <th>macro avg</th>\n",
       "      <th>weighted avg</th>\n",
       "    </tr>\n",
       "  </thead>\n",
       "  <tbody>\n",
       "    <tr>\n",
       "      <th>f1-score</th>\n",
       "      <td>0.883</td>\n",
       "      <td>0.706</td>\n",
       "      <td>0.833</td>\n",
       "      <td>0.795</td>\n",
       "      <td>0.838</td>\n",
       "    </tr>\n",
       "    <tr>\n",
       "      <th>precision</th>\n",
       "      <td>0.919</td>\n",
       "      <td>0.643</td>\n",
       "      <td>0.833</td>\n",
       "      <td>0.781</td>\n",
       "      <td>0.848</td>\n",
       "    </tr>\n",
       "    <tr>\n",
       "      <th>recall</th>\n",
       "      <td>0.850</td>\n",
       "      <td>0.783</td>\n",
       "      <td>0.833</td>\n",
       "      <td>0.816</td>\n",
       "      <td>0.833</td>\n",
       "    </tr>\n",
       "    <tr>\n",
       "      <th>support</th>\n",
       "      <td>4370.000</td>\n",
       "      <td>1511.000</td>\n",
       "      <td>5881.000</td>\n",
       "      <td>5881.000</td>\n",
       "      <td>5881.000</td>\n",
       "    </tr>\n",
       "  </tbody>\n",
       "</table>\n",
       "</div>"
      ],
      "text/plain": [
       "                  0         1  micro avg  macro avg  weighted avg\n",
       "f1-score      0.883     0.706      0.833      0.795         0.838\n",
       "precision     0.919     0.643      0.833      0.781         0.848\n",
       "recall        0.850     0.783      0.833      0.816         0.833\n",
       "support    4370.000  1511.000   5881.000   5881.000      5881.000"
      ]
     },
     "metadata": {},
     "output_type": "display_data"
    },
    {
     "data": {
      "application/vnd.jupyter.widget-view+json": {
       "model_id": "48eddd1c5fa746109708b4a4e895bfec",
       "version_major": 2,
       "version_minor": 0
      },
      "text/plain": [
       "HBox(children=(IntProgress(value=0, max=230), HTML(value='')))"
      ]
     },
     "metadata": {},
     "output_type": "display_data"
    },
    {
     "name": "stdout",
     "output_type": "stream",
     "text": [
      "\n",
      "{'accuracy': 0.8319956468507687, 'roc_auc': 0.9060502629768731, 'pr_auc': 0.7971639923880209}\n"
     ]
    },
    {
     "data": {
      "text/html": [
       "<div>\n",
       "<style scoped>\n",
       "    .dataframe tbody tr th:only-of-type {\n",
       "        vertical-align: middle;\n",
       "    }\n",
       "\n",
       "    .dataframe tbody tr th {\n",
       "        vertical-align: top;\n",
       "    }\n",
       "\n",
       "    .dataframe thead th {\n",
       "        text-align: right;\n",
       "    }\n",
       "</style>\n",
       "<table border=\"1\" class=\"dataframe\">\n",
       "  <thead>\n",
       "    <tr style=\"text-align: right;\">\n",
       "      <th></th>\n",
       "      <th>0</th>\n",
       "      <th>1</th>\n",
       "      <th>micro avg</th>\n",
       "      <th>macro avg</th>\n",
       "      <th>weighted avg</th>\n",
       "    </tr>\n",
       "  </thead>\n",
       "  <tbody>\n",
       "    <tr>\n",
       "      <th>f1-score</th>\n",
       "      <td>0.882</td>\n",
       "      <td>0.711</td>\n",
       "      <td>0.832</td>\n",
       "      <td>0.796</td>\n",
       "      <td>0.838</td>\n",
       "    </tr>\n",
       "    <tr>\n",
       "      <th>precision</th>\n",
       "      <td>0.926</td>\n",
       "      <td>0.636</td>\n",
       "      <td>0.832</td>\n",
       "      <td>0.781</td>\n",
       "      <td>0.852</td>\n",
       "    </tr>\n",
       "    <tr>\n",
       "      <th>recall</th>\n",
       "      <td>0.841</td>\n",
       "      <td>0.805</td>\n",
       "      <td>0.832</td>\n",
       "      <td>0.823</td>\n",
       "      <td>0.832</td>\n",
       "    </tr>\n",
       "    <tr>\n",
       "      <th>support</th>\n",
       "      <td>5465.000</td>\n",
       "      <td>1886.000</td>\n",
       "      <td>7351.000</td>\n",
       "      <td>7351.000</td>\n",
       "      <td>7351.000</td>\n",
       "    </tr>\n",
       "  </tbody>\n",
       "</table>\n",
       "</div>"
      ],
      "text/plain": [
       "                  0         1  micro avg  macro avg  weighted avg\n",
       "f1-score      0.882     0.711      0.832      0.796         0.838\n",
       "precision     0.926     0.636      0.832      0.781         0.852\n",
       "recall        0.841     0.805      0.832      0.823         0.832\n",
       "support    5465.000  1886.000   7351.000   7351.000      7351.000"
      ]
     },
     "metadata": {},
     "output_type": "display_data"
    },
    {
     "name": "stderr",
     "output_type": "stream",
     "text": [
      "INFO - 2019-03-27 18:01:21,092 - instantiating class <class 'PatientVec.models.Model.Model'> from params {'type': 'seq_classifier_with_structured_attention', 'embedder': {'type': 'token_embedder', 'vocab_size': 29286, 'embed_size': 200, 'embedding_file': './preprocess/Mortality/embedding_matrix.npy'}, 'decoder': {'num_layers': 2, 'hidden_dims': [128, 1], 'activations': ['tanh', 'linear']}, 'predictor': {'type': 'binary'}, 'structured': {'use_structured': True, 'structured_dim': 50}, 'encoder': {'type': 'cnn', 'hidden_size': 64, 'kernel_sizes': [3, 5, 7, 9], 'activation': 'relu'}, 'attention': {'similarity': {'type': 'additive', 'hidden_size': 128, 'tensor_2_dim': 50}}} and extras {}\n",
      "INFO - 2019-03-27 18:01:21,093 - type = seq_classifier_with_structured_attention\n",
      "INFO - 2019-03-27 18:01:21,093 - instantiating class <class 'PatientVec.models.modules.Embedder.Embedder'> from params {'type': 'token_embedder', 'vocab_size': 29286, 'embed_size': 200, 'embedding_file': './preprocess/Mortality/embedding_matrix.npy'} and extras {}\n",
      "INFO - 2019-03-27 18:01:21,094 - embedder.type = token_embedder\n",
      "INFO - 2019-03-27 18:01:21,094 - instantiating class <class 'PatientVec.models.modules.Embedder.TokenEmbedder'> from params {'vocab_size': 29286, 'embed_size': 200, 'embedding_file': './preprocess/Mortality/embedding_matrix.npy'} and extras {}\n",
      "INFO - 2019-03-27 18:01:21,095 - embedder.vocab_size = 29286\n",
      "INFO - 2019-03-27 18:01:21,095 - embedder.embed_size = 200\n",
      "INFO - 2019-03-27 18:01:21,096 - embedder.embedding_file = ./preprocess/Mortality/embedding_matrix.npy\n",
      "INFO - 2019-03-27 18:01:21,111 - instantiating class <class 'PatientVec.models.modules.Encoder.Encoder'> from params {'type': 'cnn', 'hidden_size': 64, 'kernel_sizes': [3, 5, 7, 9], 'activation': 'relu'} and extras {'input_size': 200}\n",
      "INFO - 2019-03-27 18:01:21,111 - encoder.type = cnn\n",
      "INFO - 2019-03-27 18:01:21,112 - instantiating class <class 'PatientVec.models.modules.Encoder.CNNEncoder'> from params {'hidden_size': 64, 'kernel_sizes': [3, 5, 7, 9], 'activation': 'relu'} and extras {'input_size': 200}\n",
      "INFO - 2019-03-27 18:01:21,112 - encoder.hidden_size = 64\n",
      "INFO - 2019-03-27 18:01:21,113 - encoder.kernel_sizes = [3, 5, 7, 9]\n",
      "INFO - 2019-03-27 18:01:21,113 - encoder.activation = relu\n",
      "INFO - 2019-03-27 18:01:21,117 - instantiating class <class 'PatientVec.models.modules.Attention.Attention'> from params {'similarity': {'type': 'additive', 'hidden_size': 128, 'tensor_2_dim': 50, 'tensor_1_dim': 256}} and extras {}\n",
      "INFO - 2019-03-27 18:01:21,118 - instantiating class <class 'PatientVec.models.modules.BiSimilarity.BiSimilarity'> from params {'type': 'additive', 'hidden_size': 128, 'tensor_2_dim': 50, 'tensor_1_dim': 256} and extras {}\n",
      "INFO - 2019-03-27 18:01:21,118 - attention.similarity.type = additive\n",
      "INFO - 2019-03-27 18:01:21,119 - instantiating class <class 'PatientVec.models.modules.BiSimilarity.BiAdditiveSimilarity'> from params {'hidden_size': 128, 'tensor_2_dim': 50, 'tensor_1_dim': 256} and extras {}\n",
      "INFO - 2019-03-27 18:01:21,119 - attention.similarity.tensor_1_dim = 256\n",
      "INFO - 2019-03-27 18:01:21,119 - attention.similarity.tensor_2_dim = 50\n",
      "INFO - 2019-03-27 18:01:21,120 - attention.similarity.hidden_size = 128\n",
      "INFO - 2019-03-27 18:01:21,121 - attention.normaliser = softmax\n",
      "INFO - 2019-03-27 18:01:21,122 - decoder.input_dim = 306\n",
      "INFO - 2019-03-27 18:01:21,122 - decoder.num_layers = 2\n",
      "INFO - 2019-03-27 18:01:21,122 - decoder.hidden_dims = [128, 1]\n",
      "INFO - 2019-03-27 18:01:21,123 - decoder.activations = ['tanh', 'linear']\n",
      "INFO - 2019-03-27 18:01:21,123 - decoder.dropout = 0.0\n",
      "INFO - 2019-03-27 18:01:21,125 - instantiating class <class 'PatientVec.models.modules.Predictor.Predictor'> from params {'type': 'binary'} and extras {}\n",
      "INFO - 2019-03-27 18:01:21,125 - predictor.type = binary\n",
      "INFO - 2019-03-27 18:01:21,125 - instantiating class <class 'PatientVec.models.modules.Predictor.Binary_Predictor'> from params {} and extras {}\n",
      "INFO - 2019-03-27 18:01:21,126 - predictor.replicate = False\n",
      "INFO - 2019-03-27 18:01:21,126 - predictor.alpha = 0.5\n",
      "INFO - 2019-03-27 18:01:21,136 - instantiating class <class 'PatientVec.models.Model.Model'> from params {'type': 'seq_classifier_with_structured_attention', 'embedder': {'type': 'token_embedder', 'vocab_size': 29286, 'embed_size': 200, 'embedding_file': '/scratch/jain.sar/PatientVec/preprocess/Mortality/embedding_matrix.npy'}, 'decoder': {'num_layers': 2, 'hidden_dims': [128, 1], 'activations': ['tanh', 'linear']}, 'predictor': {'type': 'binary'}, 'structured': {'use_structured': True, 'structured_dim': 50}, 'encoder': {'type': 'cnn', 'hidden_size': 64, 'kernel_sizes': [3, 5, 7, 9], 'activation': 'relu'}, 'attention': {'similarity': {'type': 'additive', 'hidden_size': 128, 'tensor_2_dim': 50}}} and extras {}\n",
      "INFO - 2019-03-27 18:01:21,136 - type = seq_classifier_with_structured_attention\n",
      "INFO - 2019-03-27 18:01:21,137 - instantiating class <class 'PatientVec.models.modules.Embedder.Embedder'> from params {'type': 'token_embedder', 'vocab_size': 29286, 'embed_size': 200, 'embedding_file': '/scratch/jain.sar/PatientVec/preprocess/Mortality/embedding_matrix.npy'} and extras {}\n",
      "INFO - 2019-03-27 18:01:21,137 - embedder.type = token_embedder\n",
      "INFO - 2019-03-27 18:01:21,138 - instantiating class <class 'PatientVec.models.modules.Embedder.TokenEmbedder'> from params {'vocab_size': 29286, 'embed_size': 200, 'embedding_file': '/scratch/jain.sar/PatientVec/preprocess/Mortality/embedding_matrix.npy'} and extras {}\n",
      "INFO - 2019-03-27 18:01:21,138 - embedder.vocab_size = 29286\n",
      "INFO - 2019-03-27 18:01:21,138 - embedder.embed_size = 200\n",
      "INFO - 2019-03-27 18:01:21,139 - embedder.embedding_file = /scratch/jain.sar/PatientVec/preprocess/Mortality/embedding_matrix.npy\n",
      "INFO - 2019-03-27 18:01:21,169 - instantiating class <class 'PatientVec.models.modules.Encoder.Encoder'> from params {'type': 'cnn', 'hidden_size': 64, 'kernel_sizes': [3, 5, 7, 9], 'activation': 'relu'} and extras {'input_size': 200}\n",
      "INFO - 2019-03-27 18:01:21,169 - encoder.type = cnn\n",
      "INFO - 2019-03-27 18:01:21,169 - instantiating class <class 'PatientVec.models.modules.Encoder.CNNEncoder'> from params {'hidden_size': 64, 'kernel_sizes': [3, 5, 7, 9], 'activation': 'relu'} and extras {'input_size': 200}\n",
      "INFO - 2019-03-27 18:01:21,170 - encoder.hidden_size = 64\n",
      "INFO - 2019-03-27 18:01:21,170 - encoder.kernel_sizes = [3, 5, 7, 9]\n",
      "INFO - 2019-03-27 18:01:21,170 - encoder.activation = relu\n",
      "INFO - 2019-03-27 18:01:21,174 - instantiating class <class 'PatientVec.models.modules.Attention.Attention'> from params {'similarity': {'type': 'additive', 'hidden_size': 128, 'tensor_2_dim': 50, 'tensor_1_dim': 256}} and extras {}\n",
      "INFO - 2019-03-27 18:01:21,175 - instantiating class <class 'PatientVec.models.modules.BiSimilarity.BiSimilarity'> from params {'type': 'additive', 'hidden_size': 128, 'tensor_2_dim': 50, 'tensor_1_dim': 256} and extras {}\n",
      "INFO - 2019-03-27 18:01:21,175 - attention.similarity.type = additive\n",
      "INFO - 2019-03-27 18:01:21,175 - instantiating class <class 'PatientVec.models.modules.BiSimilarity.BiAdditiveSimilarity'> from params {'hidden_size': 128, 'tensor_2_dim': 50, 'tensor_1_dim': 256} and extras {}\n",
      "INFO - 2019-03-27 18:01:21,176 - attention.similarity.tensor_1_dim = 256\n",
      "INFO - 2019-03-27 18:01:21,176 - attention.similarity.tensor_2_dim = 50\n",
      "INFO - 2019-03-27 18:01:21,176 - attention.similarity.hidden_size = 128\n",
      "INFO - 2019-03-27 18:01:21,178 - attention.normaliser = softmax\n",
      "INFO - 2019-03-27 18:01:21,179 - decoder.input_dim = 306\n",
      "INFO - 2019-03-27 18:01:21,179 - decoder.num_layers = 2\n",
      "INFO - 2019-03-27 18:01:21,179 - decoder.hidden_dims = [128, 1]\n",
      "INFO - 2019-03-27 18:01:21,179 - decoder.activations = ['tanh', 'linear']\n",
      "INFO - 2019-03-27 18:01:21,180 - decoder.dropout = 0.0\n",
      "INFO - 2019-03-27 18:01:21,181 - instantiating class <class 'PatientVec.models.modules.Predictor.Predictor'> from params {'type': 'binary'} and extras {}\n",
      "INFO - 2019-03-27 18:01:21,182 - predictor.type = binary\n",
      "INFO - 2019-03-27 18:01:21,182 - instantiating class <class 'PatientVec.models.modules.Predictor.Binary_Predictor'> from params {} and extras {}\n",
      "INFO - 2019-03-27 18:01:21,182 - predictor.replicate = False\n",
      "INFO - 2019-03-27 18:01:21,183 - predictor.alpha = 0.5\n"
     ]
    },
    {
     "name": "stdout",
     "output_type": "stream",
     "text": [
      "============================================================================================================================================================================================================================================================================================================\n",
      "{'model': {'type': 'seq_classifier_with_structured_attention', 'embedder': {'type': 'token_embedder', 'vocab_size': 29286, 'embed_size': 200, 'embedding_file': './preprocess/Mortality/embedding_matrix.npy'}, 'decoder': {'num_layers': 2, 'hidden_dims': [128, 1], 'activations': ['tanh', 'linear']}, 'predictor': {'type': 'binary'}, 'structured': {'use_structured': True, 'structured_dim': 50}, 'encoder': {'type': 'cnn', 'hidden_size': 64, 'kernel_sizes': [3, 5, 7, 9], 'activation': 'relu'}, 'attention': {'similarity': {'type': 'additive', 'hidden_size': 128, 'tensor_2_dim': 50}}}, 'training_config': {'type': 'Adam', 'groups': [('.*', {'lr': 0.001, 'weight_decay': 1e-05})], 'common': {'bsize': 32, 'class_weight': True}}, 'exp_config': {'exp_name': 'Mortality_1yr/Structured Attention/CNN(hs=64)(kernels=3,5,7,9)+Attention(additive)(all)(hs=128)+Structured', 'basepath': 'outputs/'}}\n",
      "Setting Embedding\n",
      "Error, Embedding file given but doesn't exists ... /scratch/jain.sar/PatientVec/preprocess/Mortality/embedding_matrix.npy\n"
     ]
    },
    {
     "data": {
      "application/vnd.jupyter.widget-view+json": {
       "model_id": "210200bff3d9401183064251c0b54809",
       "version_major": 2,
       "version_minor": 0
      },
      "text/plain": [
       "HBox(children=(IntProgress(value=0, max=184), HTML(value='')))"
      ]
     },
     "metadata": {},
     "output_type": "display_data"
    },
    {
     "name": "stdout",
     "output_type": "stream",
     "text": [
      "\n",
      "{'accuracy': 0.8253698350620643, 'roc_auc': 0.9000442975767332, 'pr_auc': 0.7865958283516334}\n"
     ]
    },
    {
     "data": {
      "text/html": [
       "<div>\n",
       "<style scoped>\n",
       "    .dataframe tbody tr th:only-of-type {\n",
       "        vertical-align: middle;\n",
       "    }\n",
       "\n",
       "    .dataframe tbody tr th {\n",
       "        vertical-align: top;\n",
       "    }\n",
       "\n",
       "    .dataframe thead th {\n",
       "        text-align: right;\n",
       "    }\n",
       "</style>\n",
       "<table border=\"1\" class=\"dataframe\">\n",
       "  <thead>\n",
       "    <tr style=\"text-align: right;\">\n",
       "      <th></th>\n",
       "      <th>0</th>\n",
       "      <th>1</th>\n",
       "      <th>micro avg</th>\n",
       "      <th>macro avg</th>\n",
       "      <th>weighted avg</th>\n",
       "    </tr>\n",
       "  </thead>\n",
       "  <tbody>\n",
       "    <tr>\n",
       "      <th>f1-score</th>\n",
       "      <td>0.877</td>\n",
       "      <td>0.702</td>\n",
       "      <td>0.825</td>\n",
       "      <td>0.789</td>\n",
       "      <td>0.832</td>\n",
       "    </tr>\n",
       "    <tr>\n",
       "      <th>precision</th>\n",
       "      <td>0.923</td>\n",
       "      <td>0.625</td>\n",
       "      <td>0.825</td>\n",
       "      <td>0.774</td>\n",
       "      <td>0.847</td>\n",
       "    </tr>\n",
       "    <tr>\n",
       "      <th>recall</th>\n",
       "      <td>0.834</td>\n",
       "      <td>0.800</td>\n",
       "      <td>0.825</td>\n",
       "      <td>0.817</td>\n",
       "      <td>0.825</td>\n",
       "    </tr>\n",
       "    <tr>\n",
       "      <th>support</th>\n",
       "      <td>4370.000</td>\n",
       "      <td>1511.000</td>\n",
       "      <td>5881.000</td>\n",
       "      <td>5881.000</td>\n",
       "      <td>5881.000</td>\n",
       "    </tr>\n",
       "  </tbody>\n",
       "</table>\n",
       "</div>"
      ],
      "text/plain": [
       "                  0         1  micro avg  macro avg  weighted avg\n",
       "f1-score      0.877     0.702      0.825      0.789         0.832\n",
       "precision     0.923     0.625      0.825      0.774         0.847\n",
       "recall        0.834     0.800      0.825      0.817         0.825\n",
       "support    4370.000  1511.000   5881.000   5881.000      5881.000"
      ]
     },
     "metadata": {},
     "output_type": "display_data"
    },
    {
     "data": {
      "application/vnd.jupyter.widget-view+json": {
       "model_id": "9b8ee11fa7334329b9eab91ab11d3f39",
       "version_major": 2,
       "version_minor": 0
      },
      "text/plain": [
       "HBox(children=(IntProgress(value=0, max=230), HTML(value='')))"
      ]
     },
     "metadata": {},
     "output_type": "display_data"
    },
    {
     "name": "stdout",
     "output_type": "stream",
     "text": [
      "\n",
      "{'accuracy': 0.8294109644946266, 'roc_auc': 0.9077444045254726, 'pr_auc': 0.8003417580681017}\n"
     ]
    },
    {
     "data": {
      "text/html": [
       "<div>\n",
       "<style scoped>\n",
       "    .dataframe tbody tr th:only-of-type {\n",
       "        vertical-align: middle;\n",
       "    }\n",
       "\n",
       "    .dataframe tbody tr th {\n",
       "        vertical-align: top;\n",
       "    }\n",
       "\n",
       "    .dataframe thead th {\n",
       "        text-align: right;\n",
       "    }\n",
       "</style>\n",
       "<table border=\"1\" class=\"dataframe\">\n",
       "  <thead>\n",
       "    <tr style=\"text-align: right;\">\n",
       "      <th></th>\n",
       "      <th>0</th>\n",
       "      <th>1</th>\n",
       "      <th>micro avg</th>\n",
       "      <th>macro avg</th>\n",
       "      <th>weighted avg</th>\n",
       "    </tr>\n",
       "  </thead>\n",
       "  <tbody>\n",
       "    <tr>\n",
       "      <th>f1-score</th>\n",
       "      <td>0.878</td>\n",
       "      <td>0.714</td>\n",
       "      <td>0.829</td>\n",
       "      <td>0.796</td>\n",
       "      <td>0.836</td>\n",
       "    </tr>\n",
       "    <tr>\n",
       "      <th>precision</th>\n",
       "      <td>0.934</td>\n",
       "      <td>0.626</td>\n",
       "      <td>0.829</td>\n",
       "      <td>0.780</td>\n",
       "      <td>0.855</td>\n",
       "    </tr>\n",
       "    <tr>\n",
       "      <th>recall</th>\n",
       "      <td>0.829</td>\n",
       "      <td>0.831</td>\n",
       "      <td>0.829</td>\n",
       "      <td>0.830</td>\n",
       "      <td>0.829</td>\n",
       "    </tr>\n",
       "    <tr>\n",
       "      <th>support</th>\n",
       "      <td>5465.000</td>\n",
       "      <td>1886.000</td>\n",
       "      <td>7351.000</td>\n",
       "      <td>7351.000</td>\n",
       "      <td>7351.000</td>\n",
       "    </tr>\n",
       "  </tbody>\n",
       "</table>\n",
       "</div>"
      ],
      "text/plain": [
       "                  0         1  micro avg  macro avg  weighted avg\n",
       "f1-score      0.878     0.714      0.829      0.796         0.836\n",
       "precision     0.934     0.626      0.829      0.780         0.855\n",
       "recall        0.829     0.831      0.829      0.830         0.829\n",
       "support    5465.000  1886.000   7351.000   7351.000      7351.000"
      ]
     },
     "metadata": {},
     "output_type": "display_data"
    },
    {
     "name": "stdout",
     "output_type": "stream",
     "text": [
      "============================================================================================================================================================================================================================================================================================================\n",
      "Pos Percentage [0.25239128]\n"
     ]
    },
    {
     "name": "stderr",
     "output_type": "stream",
     "text": [
      "INFO - 2019-03-27 18:03:05,447 - Maximum Sentence Length 721825.000000 , 90 percentile length 18596.000000 ... \n",
      "INFO - 2019-03-27 18:03:14,173 - Truncated all ...\n",
      "INFO - 2019-03-27 18:03:14,224 - Idxs removed []...\n"
     ]
    },
    {
     "name": "stdout",
     "output_type": "stream",
     "text": [
      "Pos Percentage [0.25692909]\n"
     ]
    },
    {
     "name": "stderr",
     "output_type": "stream",
     "text": [
      "INFO - 2019-03-27 18:03:15,214 - Maximum Sentence Length 420764.000000 , 90 percentile length 17662.000000 ... \n",
      "INFO - 2019-03-27 18:03:18,754 - Truncated all ...\n",
      "INFO - 2019-03-27 18:03:18,767 - Idxs removed []...\n"
     ]
    },
    {
     "name": "stdout",
     "output_type": "stream",
     "text": [
      "Pos Percentage [0.25656373]\n"
     ]
    },
    {
     "name": "stderr",
     "output_type": "stream",
     "text": [
      "INFO - 2019-03-27 18:03:19,858 - Maximum Sentence Length 707041.000000 , 90 percentile length 17669.000000 ... \n",
      "INFO - 2019-03-27 18:03:21,775 - Truncated all ...\n",
      "INFO - 2019-03-27 18:03:21,789 - Idxs removed []...\n",
      "INFO - 2019-03-27 18:03:21,850 - instantiating class <class 'PatientVec.models.Model.Model'> from params {'type': 'seq_classifier_with_structured_attention', 'embedder': {'type': 'token_embedder', 'vocab_size': 29286, 'embed_size': 200, 'embedding_file': './preprocess/Mortality/embedding_matrix.npy'}, 'decoder': {'num_layers': 2, 'hidden_dims': [128, 1], 'activations': ['tanh', 'linear']}, 'predictor': {'type': 'binary'}, 'structured': {'use_structured': True, 'structured_dim': 50}, 'encoder': {'type': 'sru', 'hidden_size': 128}, 'attention': {'similarity': {'type': 'additive', 'hidden_size': 128, 'tensor_2_dim': 50}}} and extras {}\n",
      "INFO - 2019-03-27 18:03:21,850 - type = seq_classifier_with_structured_attention\n",
      "INFO - 2019-03-27 18:03:21,851 - instantiating class <class 'PatientVec.models.modules.Embedder.Embedder'> from params {'type': 'token_embedder', 'vocab_size': 29286, 'embed_size': 200, 'embedding_file': './preprocess/Mortality/embedding_matrix.npy'} and extras {}\n",
      "INFO - 2019-03-27 18:03:21,851 - embedder.type = token_embedder\n",
      "INFO - 2019-03-27 18:03:21,852 - instantiating class <class 'PatientVec.models.modules.Embedder.TokenEmbedder'> from params {'vocab_size': 29286, 'embed_size': 200, 'embedding_file': './preprocess/Mortality/embedding_matrix.npy'} and extras {}\n",
      "INFO - 2019-03-27 18:03:21,852 - embedder.vocab_size = 29286\n",
      "INFO - 2019-03-27 18:03:21,853 - embedder.embed_size = 200\n",
      "INFO - 2019-03-27 18:03:21,853 - embedder.embedding_file = ./preprocess/Mortality/embedding_matrix.npy\n",
      "INFO - 2019-03-27 18:03:21,869 - instantiating class <class 'PatientVec.models.modules.Encoder.Encoder'> from params {'type': 'sru', 'hidden_size': 128} and extras {'input_size': 200}\n",
      "INFO - 2019-03-27 18:03:21,869 - encoder.type = sru\n",
      "INFO - 2019-03-27 18:03:21,869 - instantiating class <class 'PatientVec.models.modules.Encoder.SRUEncoder'> from params {'hidden_size': 128} and extras {'input_size': 200}\n",
      "INFO - 2019-03-27 18:03:21,870 - encoder.hidden_size = 128\n",
      "INFO - 2019-03-27 18:03:21,873 - instantiating class <class 'PatientVec.models.modules.Attention.Attention'> from params {'similarity': {'type': 'additive', 'hidden_size': 128, 'tensor_2_dim': 50, 'tensor_1_dim': 256}} and extras {}\n",
      "INFO - 2019-03-27 18:03:21,873 - instantiating class <class 'PatientVec.models.modules.BiSimilarity.BiSimilarity'> from params {'type': 'additive', 'hidden_size': 128, 'tensor_2_dim': 50, 'tensor_1_dim': 256} and extras {}\n",
      "INFO - 2019-03-27 18:03:21,873 - attention.similarity.type = additive\n",
      "INFO - 2019-03-27 18:03:21,874 - instantiating class <class 'PatientVec.models.modules.BiSimilarity.BiAdditiveSimilarity'> from params {'hidden_size': 128, 'tensor_2_dim': 50, 'tensor_1_dim': 256} and extras {}\n",
      "INFO - 2019-03-27 18:03:21,874 - attention.similarity.tensor_1_dim = 256\n",
      "INFO - 2019-03-27 18:03:21,874 - attention.similarity.tensor_2_dim = 50\n",
      "INFO - 2019-03-27 18:03:21,874 - attention.similarity.hidden_size = 128\n",
      "INFO - 2019-03-27 18:03:21,876 - attention.normaliser = softmax\n",
      "INFO - 2019-03-27 18:03:21,876 - decoder.input_dim = 306\n",
      "INFO - 2019-03-27 18:03:21,876 - decoder.num_layers = 2\n",
      "INFO - 2019-03-27 18:03:21,877 - decoder.hidden_dims = [128, 1]\n",
      "INFO - 2019-03-27 18:03:21,877 - decoder.activations = ['tanh', 'linear']\n",
      "INFO - 2019-03-27 18:03:21,877 - decoder.dropout = 0.0\n",
      "INFO - 2019-03-27 18:03:21,879 - instantiating class <class 'PatientVec.models.modules.Predictor.Predictor'> from params {'type': 'binary'} and extras {}\n",
      "INFO - 2019-03-27 18:03:21,879 - predictor.type = binary\n",
      "INFO - 2019-03-27 18:03:21,880 - instantiating class <class 'PatientVec.models.modules.Predictor.Binary_Predictor'> from params {} and extras {}\n",
      "INFO - 2019-03-27 18:03:21,880 - predictor.replicate = False\n",
      "INFO - 2019-03-27 18:03:21,881 - predictor.alpha = 0.5\n",
      "INFO - 2019-03-27 18:03:21,889 - instantiating class <class 'PatientVec.models.Model.Model'> from params {'type': 'seq_classifier_with_structured_attention', 'embedder': {'type': 'token_embedder', 'vocab_size': 29286, 'embed_size': 200, 'embedding_file': './preprocess/Mortality/embedding_matrix.npy'}, 'decoder': {'num_layers': 2, 'hidden_dims': [128, 1], 'activations': ['tanh', 'linear']}, 'predictor': {'type': 'binary'}, 'structured': {'use_structured': True, 'structured_dim': 50}, 'encoder': {'type': 'sru', 'hidden_size': 128}, 'attention': {'similarity': {'type': 'additive', 'hidden_size': 128, 'tensor_2_dim': 50}}} and extras {}\n",
      "INFO - 2019-03-27 18:03:21,890 - type = seq_classifier_with_structured_attention\n",
      "INFO - 2019-03-27 18:03:21,890 - instantiating class <class 'PatientVec.models.modules.Embedder.Embedder'> from params {'type': 'token_embedder', 'vocab_size': 29286, 'embed_size': 200, 'embedding_file': './preprocess/Mortality/embedding_matrix.npy'} and extras {}\n",
      "INFO - 2019-03-27 18:03:21,890 - embedder.type = token_embedder\n",
      "INFO - 2019-03-27 18:03:21,891 - instantiating class <class 'PatientVec.models.modules.Embedder.TokenEmbedder'> from params {'vocab_size': 29286, 'embed_size': 200, 'embedding_file': './preprocess/Mortality/embedding_matrix.npy'} and extras {}\n",
      "INFO - 2019-03-27 18:03:21,891 - embedder.vocab_size = 29286\n",
      "INFO - 2019-03-27 18:03:21,891 - embedder.embed_size = 200\n",
      "INFO - 2019-03-27 18:03:21,891 - embedder.embedding_file = ./preprocess/Mortality/embedding_matrix.npy\n",
      "INFO - 2019-03-27 18:03:21,905 - instantiating class <class 'PatientVec.models.modules.Encoder.Encoder'> from params {'type': 'sru', 'hidden_size': 128} and extras {'input_size': 200}\n",
      "INFO - 2019-03-27 18:03:21,906 - encoder.type = sru\n",
      "INFO - 2019-03-27 18:03:21,906 - instantiating class <class 'PatientVec.models.modules.Encoder.SRUEncoder'> from params {'hidden_size': 128} and extras {'input_size': 200}\n",
      "INFO - 2019-03-27 18:03:21,906 - encoder.hidden_size = 128\n",
      "INFO - 2019-03-27 18:03:21,909 - instantiating class <class 'PatientVec.models.modules.Attention.Attention'> from params {'similarity': {'type': 'additive', 'hidden_size': 128, 'tensor_2_dim': 50, 'tensor_1_dim': 256}} and extras {}\n",
      "INFO - 2019-03-27 18:03:21,909 - instantiating class <class 'PatientVec.models.modules.BiSimilarity.BiSimilarity'> from params {'type': 'additive', 'hidden_size': 128, 'tensor_2_dim': 50, 'tensor_1_dim': 256} and extras {}\n",
      "INFO - 2019-03-27 18:03:21,909 - attention.similarity.type = additive\n",
      "INFO - 2019-03-27 18:03:21,910 - instantiating class <class 'PatientVec.models.modules.BiSimilarity.BiAdditiveSimilarity'> from params {'hidden_size': 128, 'tensor_2_dim': 50, 'tensor_1_dim': 256} and extras {}\n",
      "INFO - 2019-03-27 18:03:21,910 - attention.similarity.tensor_1_dim = 256\n",
      "INFO - 2019-03-27 18:03:21,910 - attention.similarity.tensor_2_dim = 50\n",
      "INFO - 2019-03-27 18:03:21,910 - attention.similarity.hidden_size = 128\n",
      "INFO - 2019-03-27 18:03:21,912 - attention.normaliser = softmax\n",
      "INFO - 2019-03-27 18:03:21,912 - decoder.input_dim = 306\n",
      "INFO - 2019-03-27 18:03:21,912 - decoder.num_layers = 2\n",
      "INFO - 2019-03-27 18:03:21,913 - decoder.hidden_dims = [128, 1]\n",
      "INFO - 2019-03-27 18:03:21,913 - decoder.activations = ['tanh', 'linear']\n",
      "INFO - 2019-03-27 18:03:21,913 - decoder.dropout = 0.0\n",
      "INFO - 2019-03-27 18:03:21,914 - instantiating class <class 'PatientVec.models.modules.Predictor.Predictor'> from params {'type': 'binary'} and extras {}\n",
      "INFO - 2019-03-27 18:03:21,915 - predictor.type = binary\n",
      "INFO - 2019-03-27 18:03:21,915 - instantiating class <class 'PatientVec.models.modules.Predictor.Binary_Predictor'> from params {} and extras {}\n",
      "INFO - 2019-03-27 18:03:21,915 - predictor.replicate = False\n",
      "INFO - 2019-03-27 18:03:21,915 - predictor.alpha = 0.5\n"
     ]
    },
    {
     "name": "stdout",
     "output_type": "stream",
     "text": [
      "{'model': {'type': 'seq_classifier_with_structured_attention', 'embedder': {'type': 'token_embedder', 'vocab_size': 29286, 'embed_size': 200, 'embedding_file': './preprocess/Mortality/embedding_matrix.npy'}, 'decoder': {'num_layers': 2, 'hidden_dims': [128, 1], 'activations': ['tanh', 'linear']}, 'predictor': {'type': 'binary'}, 'structured': {'use_structured': True, 'structured_dim': 50}, 'encoder': {'type': 'sru', 'hidden_size': 128}, 'attention': {'similarity': {'type': 'additive', 'hidden_size': 128, 'tensor_2_dim': 50}}}, 'training_config': {'type': 'Adam', 'groups': [('.*', {'lr': 0.001, 'weight_decay': 1e-05})], 'common': {'bsize': 32, 'class_weight': True}}, 'exp_config': {'exp_name': 'Mortality_1yr/Structured Attention/SRU(hs=128)+Attention(additive)(all)(hs=128)+Structured', 'basepath': 'outputs/'}}\n",
      "Setting Embedding\n",
      "Setting Embedding\n"
     ]
    },
    {
     "data": {
      "application/vnd.jupyter.widget-view+json": {
       "model_id": "68e80f8d84fb480296ee9d0e1f269d7e",
       "version_major": 2,
       "version_minor": 0
      },
      "text/plain": [
       "HBox(children=(IntProgress(value=0, max=184), HTML(value='')))"
      ]
     },
     "metadata": {},
     "output_type": "display_data"
    },
    {
     "name": "stdout",
     "output_type": "stream",
     "text": [
      "\n",
      "{'accuracy': 0.8059853766366264, 'roc_auc': 0.8995464231031929, 'pr_auc': 0.7813442147853643}\n"
     ]
    },
    {
     "data": {
      "text/html": [
       "<div>\n",
       "<style scoped>\n",
       "    .dataframe tbody tr th:only-of-type {\n",
       "        vertical-align: middle;\n",
       "    }\n",
       "\n",
       "    .dataframe tbody tr th {\n",
       "        vertical-align: top;\n",
       "    }\n",
       "\n",
       "    .dataframe thead th {\n",
       "        text-align: right;\n",
       "    }\n",
       "</style>\n",
       "<table border=\"1\" class=\"dataframe\">\n",
       "  <thead>\n",
       "    <tr style=\"text-align: right;\">\n",
       "      <th></th>\n",
       "      <th>0</th>\n",
       "      <th>1</th>\n",
       "      <th>micro avg</th>\n",
       "      <th>macro avg</th>\n",
       "      <th>weighted avg</th>\n",
       "    </tr>\n",
       "  </thead>\n",
       "  <tbody>\n",
       "    <tr>\n",
       "      <th>f1-score</th>\n",
       "      <td>0.859</td>\n",
       "      <td>0.690</td>\n",
       "      <td>0.806</td>\n",
       "      <td>0.774</td>\n",
       "      <td>0.815</td>\n",
       "    </tr>\n",
       "    <tr>\n",
       "      <th>precision</th>\n",
       "      <td>0.934</td>\n",
       "      <td>0.585</td>\n",
       "      <td>0.806</td>\n",
       "      <td>0.760</td>\n",
       "      <td>0.845</td>\n",
       "    </tr>\n",
       "    <tr>\n",
       "      <th>recall</th>\n",
       "      <td>0.795</td>\n",
       "      <td>0.839</td>\n",
       "      <td>0.806</td>\n",
       "      <td>0.817</td>\n",
       "      <td>0.806</td>\n",
       "    </tr>\n",
       "    <tr>\n",
       "      <th>support</th>\n",
       "      <td>4370.000</td>\n",
       "      <td>1511.000</td>\n",
       "      <td>5881.000</td>\n",
       "      <td>5881.000</td>\n",
       "      <td>5881.000</td>\n",
       "    </tr>\n",
       "  </tbody>\n",
       "</table>\n",
       "</div>"
      ],
      "text/plain": [
       "                  0         1  micro avg  macro avg  weighted avg\n",
       "f1-score      0.859     0.690      0.806      0.774         0.815\n",
       "precision     0.934     0.585      0.806      0.760         0.845\n",
       "recall        0.795     0.839      0.806      0.817         0.806\n",
       "support    4370.000  1511.000   5881.000   5881.000      5881.000"
      ]
     },
     "metadata": {},
     "output_type": "display_data"
    },
    {
     "data": {
      "application/vnd.jupyter.widget-view+json": {
       "model_id": "c34de1ba9a3c41af8552e9dcf1597ec8",
       "version_major": 2,
       "version_minor": 0
      },
      "text/plain": [
       "HBox(children=(IntProgress(value=0, max=230), HTML(value='')))"
      ]
     },
     "metadata": {},
     "output_type": "display_data"
    },
    {
     "name": "stdout",
     "output_type": "stream",
     "text": [
      "\n",
      "{'accuracy': 0.8046524282410557, 'roc_auc': 0.9052293637618742, 'pr_auc': 0.7992959765040524}\n"
     ]
    },
    {
     "data": {
      "text/html": [
       "<div>\n",
       "<style scoped>\n",
       "    .dataframe tbody tr th:only-of-type {\n",
       "        vertical-align: middle;\n",
       "    }\n",
       "\n",
       "    .dataframe tbody tr th {\n",
       "        vertical-align: top;\n",
       "    }\n",
       "\n",
       "    .dataframe thead th {\n",
       "        text-align: right;\n",
       "    }\n",
       "</style>\n",
       "<table border=\"1\" class=\"dataframe\">\n",
       "  <thead>\n",
       "    <tr style=\"text-align: right;\">\n",
       "      <th></th>\n",
       "      <th>0</th>\n",
       "      <th>1</th>\n",
       "      <th>micro avg</th>\n",
       "      <th>macro avg</th>\n",
       "      <th>weighted avg</th>\n",
       "    </tr>\n",
       "  </thead>\n",
       "  <tbody>\n",
       "    <tr>\n",
       "      <th>f1-score</th>\n",
       "      <td>0.857</td>\n",
       "      <td>0.693</td>\n",
       "      <td>0.805</td>\n",
       "      <td>0.775</td>\n",
       "      <td>0.815</td>\n",
       "    </tr>\n",
       "    <tr>\n",
       "      <th>precision</th>\n",
       "      <td>0.941</td>\n",
       "      <td>0.581</td>\n",
       "      <td>0.805</td>\n",
       "      <td>0.761</td>\n",
       "      <td>0.849</td>\n",
       "    </tr>\n",
       "    <tr>\n",
       "      <th>recall</th>\n",
       "      <td>0.786</td>\n",
       "      <td>0.857</td>\n",
       "      <td>0.805</td>\n",
       "      <td>0.822</td>\n",
       "      <td>0.805</td>\n",
       "    </tr>\n",
       "    <tr>\n",
       "      <th>support</th>\n",
       "      <td>5465.000</td>\n",
       "      <td>1886.000</td>\n",
       "      <td>7351.000</td>\n",
       "      <td>7351.000</td>\n",
       "      <td>7351.000</td>\n",
       "    </tr>\n",
       "  </tbody>\n",
       "</table>\n",
       "</div>"
      ],
      "text/plain": [
       "                  0         1  micro avg  macro avg  weighted avg\n",
       "f1-score      0.857     0.693      0.805      0.775         0.815\n",
       "precision     0.941     0.581      0.805      0.761         0.849\n",
       "recall        0.786     0.857      0.805      0.822         0.805\n",
       "support    5465.000  1886.000   7351.000   7351.000      7351.000"
      ]
     },
     "metadata": {},
     "output_type": "display_data"
    },
    {
     "name": "stdout",
     "output_type": "stream",
     "text": [
      "============================================================================================================================================================================================================================================================================================================\n"
     ]
    },
    {
     "name": "stderr",
     "output_type": "stream",
     "text": [
      "INFO - 2019-03-27 18:05:13,734 - Reading Structured data ...\n",
      "INFO - 2019-03-27 18:05:13,790 - Reading Notes ...\n",
      "INFO - 2019-03-27 18:05:22,477 - Stratifying ...\n"
     ]
    },
    {
     "name": "stdout",
     "output_type": "stream",
     "text": [
      "Pos Percentage [0.25239128]\n"
     ]
    },
    {
     "name": "stderr",
     "output_type": "stream",
     "text": [
      "INFO - 2019-03-27 18:05:25,858 - Maximum Sentence Length 721825.000000 , 90 percentile length 18596.000000 ... \n",
      "INFO - 2019-03-27 18:05:35,087 - Truncated all ...\n",
      "INFO - 2019-03-27 18:05:35,120 - Idxs removed []...\n"
     ]
    },
    {
     "name": "stdout",
     "output_type": "stream",
     "text": [
      "Pos Percentage [0.25692909]\n"
     ]
    },
    {
     "name": "stderr",
     "output_type": "stream",
     "text": [
      "INFO - 2019-03-27 18:05:36,028 - Maximum Sentence Length 420764.000000 , 90 percentile length 17662.000000 ... \n",
      "INFO - 2019-03-27 18:05:37,433 - Truncated all ...\n",
      "INFO - 2019-03-27 18:05:37,442 - Idxs removed []...\n"
     ]
    },
    {
     "name": "stdout",
     "output_type": "stream",
     "text": [
      "Pos Percentage [0.25656373]\n"
     ]
    },
    {
     "name": "stderr",
     "output_type": "stream",
     "text": [
      "INFO - 2019-03-27 18:05:38,301 - Maximum Sentence Length 707041.000000 , 90 percentile length 17669.000000 ... \n",
      "INFO - 2019-03-27 18:05:43,288 - Truncated all ...\n",
      "INFO - 2019-03-27 18:05:43,298 - Idxs removed []...\n",
      "INFO - 2019-03-27 18:05:43,356 - instantiating class <class 'PatientVec.models.Model.Model'> from params {'type': 'seq_classifier', 'embedder': {'type': 'token_embedder', 'vocab_size': 29286, 'embed_size': 200, 'embedding_file': './preprocess/Mortality/embedding_matrix.npy'}, 'decoder': {'num_layers': 2, 'hidden_dims': [128, 1], 'activations': ['tanh', 'linear']}, 'predictor': {'type': 'binary'}, 'structured': {'use_structured': False}, 'encoder': {'type': 'average', 'projection': True, 'hidden_size': 256, 'activation': 'relu'}} and extras {}\n",
      "INFO - 2019-03-27 18:05:43,357 - type = seq_classifier\n",
      "INFO - 2019-03-27 18:05:43,357 - instantiating class <class 'PatientVec.models.modules.Embedder.Embedder'> from params {'type': 'token_embedder', 'vocab_size': 29286, 'embed_size': 200, 'embedding_file': './preprocess/Mortality/embedding_matrix.npy'} and extras {}\n",
      "INFO - 2019-03-27 18:05:43,358 - embedder.type = token_embedder\n",
      "INFO - 2019-03-27 18:05:43,358 - instantiating class <class 'PatientVec.models.modules.Embedder.TokenEmbedder'> from params {'vocab_size': 29286, 'embed_size': 200, 'embedding_file': './preprocess/Mortality/embedding_matrix.npy'} and extras {}\n",
      "INFO - 2019-03-27 18:05:43,359 - embedder.vocab_size = 29286\n",
      "INFO - 2019-03-27 18:05:43,359 - embedder.embed_size = 200\n",
      "INFO - 2019-03-27 18:05:43,360 - embedder.embedding_file = ./preprocess/Mortality/embedding_matrix.npy\n",
      "INFO - 2019-03-27 18:05:43,374 - instantiating class <class 'PatientVec.models.modules.Encoder.Encoder'> from params {'type': 'average', 'projection': True, 'hidden_size': 256, 'activation': 'relu'} and extras {'input_size': 200}\n",
      "INFO - 2019-03-27 18:05:43,375 - encoder.type = average\n",
      "INFO - 2019-03-27 18:05:43,375 - instantiating class <class 'PatientVec.models.modules.Encoder.AverageEncoder'> from params {'projection': True, 'hidden_size': 256, 'activation': 'relu'} and extras {'input_size': 200}\n",
      "INFO - 2019-03-27 18:05:43,375 - encoder.projection = True\n",
      "INFO - 2019-03-27 18:05:43,376 - encoder.hidden_size = 256\n",
      "INFO - 2019-03-27 18:05:43,376 - encoder.activation = relu\n",
      "INFO - 2019-03-27 18:05:43,377 - decoder.input_dim = 256\n",
      "INFO - 2019-03-27 18:05:43,378 - decoder.num_layers = 2\n",
      "INFO - 2019-03-27 18:05:43,378 - decoder.hidden_dims = [128, 1]\n",
      "INFO - 2019-03-27 18:05:43,378 - decoder.activations = ['tanh', 'linear']\n",
      "INFO - 2019-03-27 18:05:43,378 - decoder.dropout = 0.0\n",
      "INFO - 2019-03-27 18:05:43,380 - instantiating class <class 'PatientVec.models.modules.Predictor.Predictor'> from params {'type': 'binary'} and extras {}\n",
      "INFO - 2019-03-27 18:05:43,380 - predictor.type = binary\n",
      "INFO - 2019-03-27 18:05:43,380 - instantiating class <class 'PatientVec.models.modules.Predictor.Binary_Predictor'> from params {} and extras {}\n",
      "INFO - 2019-03-27 18:05:43,380 - predictor.replicate = False\n",
      "INFO - 2019-03-27 18:05:43,381 - predictor.alpha = 0.5\n",
      "INFO - 2019-03-27 18:05:43,402 - instantiating class <class 'PatientVec.models.Model.Model'> from params {'type': 'seq_classifier', 'embedder': {'type': 'token_embedder', 'vocab_size': 29286, 'embed_size': 200, 'embedding_file': './preprocess/Mortality/embedding_matrix.npy'}, 'decoder': {'num_layers': 2, 'hidden_dims': [128, 1], 'activations': ['tanh', 'linear']}, 'predictor': {'type': 'binary'}, 'structured': {'use_structured': False}, 'encoder': {'type': 'lstm', 'hidden_size': 128}} and extras {}\n",
      "INFO - 2019-03-27 18:05:43,402 - type = seq_classifier\n",
      "INFO - 2019-03-27 18:05:43,403 - instantiating class <class 'PatientVec.models.modules.Embedder.Embedder'> from params {'type': 'token_embedder', 'vocab_size': 29286, 'embed_size': 200, 'embedding_file': './preprocess/Mortality/embedding_matrix.npy'} and extras {}\n",
      "INFO - 2019-03-27 18:05:43,404 - embedder.type = token_embedder\n",
      "INFO - 2019-03-27 18:05:43,404 - instantiating class <class 'PatientVec.models.modules.Embedder.TokenEmbedder'> from params {'vocab_size': 29286, 'embed_size': 200, 'embedding_file': './preprocess/Mortality/embedding_matrix.npy'} and extras {}\n",
      "INFO - 2019-03-27 18:05:43,404 - embedder.vocab_size = 29286\n",
      "INFO - 2019-03-27 18:05:43,405 - embedder.embed_size = 200\n",
      "INFO - 2019-03-27 18:05:43,405 - embedder.embedding_file = ./preprocess/Mortality/embedding_matrix.npy\n",
      "INFO - 2019-03-27 18:05:43,419 - instantiating class <class 'PatientVec.models.modules.Encoder.Encoder'> from params {'type': 'lstm', 'hidden_size': 128} and extras {'input_size': 200}\n",
      "INFO - 2019-03-27 18:05:43,420 - encoder.type = lstm\n",
      "INFO - 2019-03-27 18:05:43,420 - instantiating class <class 'PatientVec.models.modules.Encoder.wrap_pytorch_rnn.<locals>.BiRNNEncoder'> from params {'hidden_size': 128} and extras {'input_size': 200}\n",
      "INFO - 2019-03-27 18:05:43,420 - encoder.hidden_size = 128\n",
      "INFO - 2019-03-27 18:05:43,423 - decoder.input_dim = 256\n",
      "INFO - 2019-03-27 18:05:43,423 - decoder.num_layers = 2\n",
      "INFO - 2019-03-27 18:05:43,423 - decoder.hidden_dims = [128, 1]\n",
      "INFO - 2019-03-27 18:05:43,423 - decoder.activations = ['tanh', 'linear']\n",
      "INFO - 2019-03-27 18:05:43,424 - decoder.dropout = 0.0\n",
      "INFO - 2019-03-27 18:05:43,425 - instantiating class <class 'PatientVec.models.modules.Predictor.Predictor'> from params {'type': 'binary'} and extras {}\n",
      "INFO - 2019-03-27 18:05:43,425 - predictor.type = binary\n",
      "INFO - 2019-03-27 18:05:43,425 - instantiating class <class 'PatientVec.models.modules.Predictor.Binary_Predictor'> from params {} and extras {}\n",
      "INFO - 2019-03-27 18:05:43,425 - predictor.replicate = False\n",
      "INFO - 2019-03-27 18:05:43,426 - predictor.alpha = 0.5\n",
      "INFO - 2019-03-27 18:05:43,440 - instantiating class <class 'PatientVec.models.Model.Model'> from params {'type': 'seq_classifier', 'embedder': {'type': 'token_embedder', 'vocab_size': 29286, 'embed_size': 200, 'embedding_file': './preprocess/Mortality/embedding_matrix.npy'}, 'decoder': {'num_layers': 2, 'hidden_dims': [128, 1], 'activations': ['tanh', 'linear']}, 'predictor': {'type': 'binary'}, 'structured': {'use_structured': False}, 'encoder': {'type': 'cnn', 'hidden_size': 64, 'kernel_sizes': [3, 5, 7, 9], 'activation': 'relu'}} and extras {}\n",
      "INFO - 2019-03-27 18:05:43,440 - type = seq_classifier\n",
      "INFO - 2019-03-27 18:05:43,441 - instantiating class <class 'PatientVec.models.modules.Embedder.Embedder'> from params {'type': 'token_embedder', 'vocab_size': 29286, 'embed_size': 200, 'embedding_file': './preprocess/Mortality/embedding_matrix.npy'} and extras {}\n",
      "INFO - 2019-03-27 18:05:43,441 - embedder.type = token_embedder\n",
      "INFO - 2019-03-27 18:05:43,441 - instantiating class <class 'PatientVec.models.modules.Embedder.TokenEmbedder'> from params {'vocab_size': 29286, 'embed_size': 200, 'embedding_file': './preprocess/Mortality/embedding_matrix.npy'} and extras {}\n",
      "INFO - 2019-03-27 18:05:43,441 - embedder.vocab_size = 29286\n",
      "INFO - 2019-03-27 18:05:43,442 - embedder.embed_size = 200\n",
      "INFO - 2019-03-27 18:05:43,442 - embedder.embedding_file = ./preprocess/Mortality/embedding_matrix.npy\n",
      "INFO - 2019-03-27 18:05:43,456 - instantiating class <class 'PatientVec.models.modules.Encoder.Encoder'> from params {'type': 'cnn', 'hidden_size': 64, 'kernel_sizes': [3, 5, 7, 9], 'activation': 'relu'} and extras {'input_size': 200}\n",
      "INFO - 2019-03-27 18:05:43,456 - encoder.type = cnn\n",
      "INFO - 2019-03-27 18:05:43,456 - instantiating class <class 'PatientVec.models.modules.Encoder.CNNEncoder'> from params {'hidden_size': 64, 'kernel_sizes': [3, 5, 7, 9], 'activation': 'relu'} and extras {'input_size': 200}\n",
      "INFO - 2019-03-27 18:05:43,457 - encoder.hidden_size = 64\n",
      "INFO - 2019-03-27 18:05:43,457 - encoder.kernel_sizes = [3, 5, 7, 9]\n",
      "INFO - 2019-03-27 18:05:43,457 - encoder.activation = relu\n",
      "INFO - 2019-03-27 18:05:43,460 - decoder.input_dim = 256\n",
      "INFO - 2019-03-27 18:05:43,460 - decoder.num_layers = 2\n",
      "INFO - 2019-03-27 18:05:43,460 - decoder.hidden_dims = [128, 1]\n",
      "INFO - 2019-03-27 18:05:43,461 - decoder.activations = ['tanh', 'linear']\n",
      "INFO - 2019-03-27 18:05:43,461 - decoder.dropout = 0.0\n",
      "INFO - 2019-03-27 18:05:43,462 - instantiating class <class 'PatientVec.models.modules.Predictor.Predictor'> from params {'type': 'binary'} and extras {}\n",
      "INFO - 2019-03-27 18:05:43,462 - predictor.type = binary\n",
      "INFO - 2019-03-27 18:05:43,463 - instantiating class <class 'PatientVec.models.modules.Predictor.Binary_Predictor'> from params {} and extras {}\n",
      "INFO - 2019-03-27 18:05:43,463 - predictor.replicate = False\n",
      "INFO - 2019-03-27 18:05:43,463 - predictor.alpha = 0.5\n"
     ]
    },
    {
     "name": "stdout",
     "output_type": "stream",
     "text": [
      "{'model': {'type': 'seq_classifier', 'embedder': {'type': 'token_embedder', 'vocab_size': 29286, 'embed_size': 200, 'embedding_file': './preprocess/Mortality/embedding_matrix.npy'}, 'decoder': {'num_layers': 2, 'hidden_dims': [128, 1], 'activations': ['tanh', 'linear']}, 'predictor': {'type': 'binary'}, 'structured': {'use_structured': False}, 'encoder': {'type': 'average', 'projection': True, 'hidden_size': 256, 'activation': 'relu'}}, 'training_config': {'type': 'Adam', 'groups': [('.*', {'lr': 0.001, 'weight_decay': 1e-05})], 'common': {'bsize': 16, 'class_weight': True}}, 'exp_config': {'exp_name': 'Mortality_1yr/Basic/Average(hs=256)', 'basepath': 'outputs/'}}\n",
      "Setting Embedding\n",
      "{'model': {'type': 'seq_classifier', 'embedder': {'type': 'token_embedder', 'vocab_size': 29286, 'embed_size': 200, 'embedding_file': './preprocess/Mortality/embedding_matrix.npy'}, 'decoder': {'num_layers': 2, 'hidden_dims': [128, 1], 'activations': ['tanh', 'linear']}, 'predictor': {'type': 'binary'}, 'structured': {'use_structured': False}, 'encoder': {'type': 'lstm', 'hidden_size': 128}}, 'training_config': {'type': 'Adam', 'groups': [('.*', {'lr': 0.001, 'weight_decay': 1e-05})], 'common': {'bsize': 16, 'class_weight': True}}, 'exp_config': {'exp_name': 'Mortality_1yr/Basic/LSTM(hs=128)', 'basepath': 'outputs/'}}\n",
      "Setting Embedding\n",
      "{'model': {'type': 'seq_classifier', 'embedder': {'type': 'token_embedder', 'vocab_size': 29286, 'embed_size': 200, 'embedding_file': './preprocess/Mortality/embedding_matrix.npy'}, 'decoder': {'num_layers': 2, 'hidden_dims': [128, 1], 'activations': ['tanh', 'linear']}, 'predictor': {'type': 'binary'}, 'structured': {'use_structured': False}, 'encoder': {'type': 'cnn', 'hidden_size': 64, 'kernel_sizes': [3, 5, 7, 9], 'activation': 'relu'}}, 'training_config': {'type': 'Adam', 'groups': [('.*', {'lr': 0.001, 'weight_decay': 1e-05})], 'common': {'bsize': 16, 'class_weight': True}}, 'exp_config': {'exp_name': 'Mortality_1yr/Basic/CNN(hs=64)(kernels=3,5,7,9)', 'basepath': 'outputs/'}}\n",
      "Setting Embedding\n",
      "Pos Percentage [0.25239128]\n"
     ]
    },
    {
     "name": "stderr",
     "output_type": "stream",
     "text": [
      "INFO - 2019-03-27 18:05:46,858 - Maximum Sentence Length 721825.000000 , 90 percentile length 18596.000000 ... \n",
      "INFO - 2019-03-27 18:05:52,752 - Truncated all ...\n",
      "INFO - 2019-03-27 18:05:52,783 - Idxs removed []...\n"
     ]
    },
    {
     "name": "stdout",
     "output_type": "stream",
     "text": [
      "Pos Percentage [0.25692909]\n"
     ]
    },
    {
     "name": "stderr",
     "output_type": "stream",
     "text": [
      "INFO - 2019-03-27 18:05:53,586 - Maximum Sentence Length 420764.000000 , 90 percentile length 17662.000000 ... \n",
      "INFO - 2019-03-27 18:05:55,117 - Truncated all ...\n",
      "INFO - 2019-03-27 18:05:55,126 - Idxs removed []...\n"
     ]
    },
    {
     "name": "stdout",
     "output_type": "stream",
     "text": [
      "Pos Percentage [0.25656373]\n"
     ]
    },
    {
     "name": "stderr",
     "output_type": "stream",
     "text": [
      "INFO - 2019-03-27 18:05:56,031 - Maximum Sentence Length 707041.000000 , 90 percentile length 17669.000000 ... \n",
      "INFO - 2019-03-27 18:06:00,957 - Truncated all ...\n",
      "INFO - 2019-03-27 18:06:00,967 - Idxs removed []...\n",
      "INFO - 2019-03-27 18:06:01,024 - instantiating class <class 'PatientVec.models.Model.Model'> from params {'type': 'seq_classifier_with_attention', 'embedder': {'type': 'token_embedder', 'vocab_size': 29286, 'embed_size': 200, 'embedding_file': './preprocess/Mortality/embedding_matrix.npy'}, 'decoder': {'num_layers': 2, 'hidden_dims': [128, 1], 'activations': ['tanh', 'linear']}, 'predictor': {'type': 'binary'}, 'structured': {'use_structured': False}, 'encoder': {'type': 'average', 'projection': True, 'hidden_size': 256, 'activation': 'relu'}, 'attention': {'similarity': {'type': 'additive', 'hidden_size': 128}}} and extras {}\n",
      "INFO - 2019-03-27 18:06:01,024 - type = seq_classifier_with_attention\n",
      "INFO - 2019-03-27 18:06:01,025 - instantiating class <class 'PatientVec.models.modules.Embedder.Embedder'> from params {'type': 'token_embedder', 'vocab_size': 29286, 'embed_size': 200, 'embedding_file': './preprocess/Mortality/embedding_matrix.npy'} and extras {}\n",
      "INFO - 2019-03-27 18:06:01,025 - embedder.type = token_embedder\n",
      "INFO - 2019-03-27 18:06:01,026 - instantiating class <class 'PatientVec.models.modules.Embedder.TokenEmbedder'> from params {'vocab_size': 29286, 'embed_size': 200, 'embedding_file': './preprocess/Mortality/embedding_matrix.npy'} and extras {}\n",
      "INFO - 2019-03-27 18:06:01,026 - embedder.vocab_size = 29286\n",
      "INFO - 2019-03-27 18:06:01,026 - embedder.embed_size = 200\n",
      "INFO - 2019-03-27 18:06:01,027 - embedder.embedding_file = ./preprocess/Mortality/embedding_matrix.npy\n",
      "INFO - 2019-03-27 18:06:01,040 - instantiating class <class 'PatientVec.models.modules.Encoder.Encoder'> from params {'type': 'average', 'projection': True, 'hidden_size': 256, 'activation': 'relu'} and extras {'input_size': 200}\n",
      "INFO - 2019-03-27 18:06:01,040 - encoder.type = average\n",
      "INFO - 2019-03-27 18:06:01,041 - instantiating class <class 'PatientVec.models.modules.Encoder.AverageEncoder'> from params {'projection': True, 'hidden_size': 256, 'activation': 'relu'} and extras {'input_size': 200}\n",
      "INFO - 2019-03-27 18:06:01,041 - encoder.projection = True\n",
      "INFO - 2019-03-27 18:06:01,041 - encoder.hidden_size = 256\n",
      "INFO - 2019-03-27 18:06:01,042 - encoder.activation = relu\n",
      "INFO - 2019-03-27 18:06:01,043 - instantiating class <class 'PatientVec.models.modules.SelfAttention.SelfAttention'> from params {'similarity': {'type': 'additive', 'hidden_size': 128, 'tensor_1_dim': 256}} and extras {}\n",
      "INFO - 2019-03-27 18:06:01,043 - instantiating class <class 'PatientVec.models.modules.UniSimilarity.UniSimilarity'> from params {'type': 'additive', 'hidden_size': 128, 'tensor_1_dim': 256} and extras {}\n",
      "INFO - 2019-03-27 18:06:01,044 - attention.similarity.type = additive\n",
      "INFO - 2019-03-27 18:06:01,044 - instantiating class <class 'PatientVec.models.modules.UniSimilarity.UniAdditiveSimilarity'> from params {'hidden_size': 128, 'tensor_1_dim': 256} and extras {}\n",
      "INFO - 2019-03-27 18:06:01,044 - attention.similarity.tensor_1_dim = 256\n",
      "INFO - 2019-03-27 18:06:01,045 - attention.similarity.hidden_size = 128\n",
      "INFO - 2019-03-27 18:06:01,045 - attention.similarity.output_size = 1\n",
      "INFO - 2019-03-27 18:06:01,046 - attention.normaliser = softmax\n",
      "INFO - 2019-03-27 18:06:01,046 - decoder.input_dim = 256\n",
      "INFO - 2019-03-27 18:06:01,047 - decoder.num_layers = 2\n",
      "INFO - 2019-03-27 18:06:01,047 - decoder.hidden_dims = [128, 1]\n",
      "INFO - 2019-03-27 18:06:01,047 - decoder.activations = ['tanh', 'linear']\n",
      "INFO - 2019-03-27 18:06:01,047 - decoder.dropout = 0.0\n",
      "INFO - 2019-03-27 18:06:01,049 - instantiating class <class 'PatientVec.models.modules.Predictor.Predictor'> from params {'type': 'binary'} and extras {}\n",
      "INFO - 2019-03-27 18:06:01,049 - predictor.type = binary\n",
      "INFO - 2019-03-27 18:06:01,049 - instantiating class <class 'PatientVec.models.modules.Predictor.Binary_Predictor'> from params {} and extras {}\n",
      "INFO - 2019-03-27 18:06:01,050 - predictor.replicate = False\n",
      "INFO - 2019-03-27 18:06:01,050 - predictor.alpha = 0.5\n",
      "INFO - 2019-03-27 18:06:01,066 - instantiating class <class 'PatientVec.models.Model.Model'> from params {'type': 'seq_classifier_with_attention', 'embedder': {'type': 'token_embedder', 'vocab_size': 29286, 'embed_size': 200, 'embedding_file': './preprocess/Mortality/embedding_matrix.npy'}, 'decoder': {'num_layers': 2, 'hidden_dims': [128, 1], 'activations': ['tanh', 'linear']}, 'predictor': {'type': 'binary'}, 'structured': {'use_structured': False}, 'encoder': {'type': 'lstm', 'hidden_size': 128}, 'attention': {'similarity': {'type': 'additive', 'hidden_size': 128}}} and extras {}\n",
      "INFO - 2019-03-27 18:06:01,066 - type = seq_classifier_with_attention\n",
      "INFO - 2019-03-27 18:06:01,067 - instantiating class <class 'PatientVec.models.modules.Embedder.Embedder'> from params {'type': 'token_embedder', 'vocab_size': 29286, 'embed_size': 200, 'embedding_file': './preprocess/Mortality/embedding_matrix.npy'} and extras {}\n",
      "INFO - 2019-03-27 18:06:01,067 - embedder.type = token_embedder\n",
      "INFO - 2019-03-27 18:06:01,067 - instantiating class <class 'PatientVec.models.modules.Embedder.TokenEmbedder'> from params {'vocab_size': 29286, 'embed_size': 200, 'embedding_file': './preprocess/Mortality/embedding_matrix.npy'} and extras {}\n",
      "INFO - 2019-03-27 18:06:01,067 - embedder.vocab_size = 29286\n",
      "INFO - 2019-03-27 18:06:01,068 - embedder.embed_size = 200\n",
      "INFO - 2019-03-27 18:06:01,068 - embedder.embedding_file = ./preprocess/Mortality/embedding_matrix.npy\n",
      "INFO - 2019-03-27 18:06:01,082 - instantiating class <class 'PatientVec.models.modules.Encoder.Encoder'> from params {'type': 'lstm', 'hidden_size': 128} and extras {'input_size': 200}\n",
      "INFO - 2019-03-27 18:06:01,082 - encoder.type = lstm\n",
      "INFO - 2019-03-27 18:06:01,082 - instantiating class <class 'PatientVec.models.modules.Encoder.wrap_pytorch_rnn.<locals>.BiRNNEncoder'> from params {'hidden_size': 128} and extras {'input_size': 200}\n",
      "INFO - 2019-03-27 18:06:01,082 - encoder.hidden_size = 128\n",
      "INFO - 2019-03-27 18:06:01,085 - instantiating class <class 'PatientVec.models.modules.SelfAttention.SelfAttention'> from params {'similarity': {'type': 'additive', 'hidden_size': 128, 'tensor_1_dim': 256}} and extras {}\n",
      "INFO - 2019-03-27 18:06:01,085 - instantiating class <class 'PatientVec.models.modules.UniSimilarity.UniSimilarity'> from params {'type': 'additive', 'hidden_size': 128, 'tensor_1_dim': 256} and extras {}\n",
      "INFO - 2019-03-27 18:06:01,085 - attention.similarity.type = additive\n",
      "INFO - 2019-03-27 18:06:01,086 - instantiating class <class 'PatientVec.models.modules.UniSimilarity.UniAdditiveSimilarity'> from params {'hidden_size': 128, 'tensor_1_dim': 256} and extras {}\n",
      "INFO - 2019-03-27 18:06:01,086 - attention.similarity.tensor_1_dim = 256\n",
      "INFO - 2019-03-27 18:06:01,086 - attention.similarity.hidden_size = 128\n",
      "INFO - 2019-03-27 18:06:01,087 - attention.similarity.output_size = 1\n",
      "INFO - 2019-03-27 18:06:01,088 - attention.normaliser = softmax\n",
      "INFO - 2019-03-27 18:06:01,088 - decoder.input_dim = 256\n",
      "INFO - 2019-03-27 18:06:01,088 - decoder.num_layers = 2\n",
      "INFO - 2019-03-27 18:06:01,089 - decoder.hidden_dims = [128, 1]\n",
      "INFO - 2019-03-27 18:06:01,089 - decoder.activations = ['tanh', 'linear']\n",
      "INFO - 2019-03-27 18:06:01,089 - decoder.dropout = 0.0\n",
      "INFO - 2019-03-27 18:06:01,090 - instantiating class <class 'PatientVec.models.modules.Predictor.Predictor'> from params {'type': 'binary'} and extras {}\n",
      "INFO - 2019-03-27 18:06:01,091 - predictor.type = binary\n",
      "INFO - 2019-03-27 18:06:01,091 - instantiating class <class 'PatientVec.models.modules.Predictor.Binary_Predictor'> from params {} and extras {}\n",
      "INFO - 2019-03-27 18:06:01,091 - predictor.replicate = False\n",
      "INFO - 2019-03-27 18:06:01,092 - predictor.alpha = 0.5\n",
      "INFO - 2019-03-27 18:06:01,119 - instantiating class <class 'PatientVec.models.Model.Model'> from params {'type': 'seq_classifier_with_attention', 'embedder': {'type': 'token_embedder', 'vocab_size': 29286, 'embed_size': 200, 'embedding_file': './preprocess/Mortality/embedding_matrix.npy'}, 'decoder': {'num_layers': 2, 'hidden_dims': [128, 1], 'activations': ['tanh', 'linear']}, 'predictor': {'type': 'binary'}, 'structured': {'use_structured': False}, 'encoder': {'type': 'cnn', 'hidden_size': 64, 'kernel_sizes': [3, 5, 7, 9], 'activation': 'relu'}, 'attention': {'similarity': {'type': 'additive', 'hidden_size': 128}}} and extras {}\n",
      "INFO - 2019-03-27 18:06:01,120 - type = seq_classifier_with_attention\n",
      "INFO - 2019-03-27 18:06:01,120 - instantiating class <class 'PatientVec.models.modules.Embedder.Embedder'> from params {'type': 'token_embedder', 'vocab_size': 29286, 'embed_size': 200, 'embedding_file': './preprocess/Mortality/embedding_matrix.npy'} and extras {}\n",
      "INFO - 2019-03-27 18:06:01,120 - embedder.type = token_embedder\n",
      "INFO - 2019-03-27 18:06:01,121 - instantiating class <class 'PatientVec.models.modules.Embedder.TokenEmbedder'> from params {'vocab_size': 29286, 'embed_size': 200, 'embedding_file': './preprocess/Mortality/embedding_matrix.npy'} and extras {}\n",
      "INFO - 2019-03-27 18:06:01,121 - embedder.vocab_size = 29286\n",
      "INFO - 2019-03-27 18:06:01,121 - embedder.embed_size = 200\n",
      "INFO - 2019-03-27 18:06:01,122 - embedder.embedding_file = ./preprocess/Mortality/embedding_matrix.npy\n",
      "INFO - 2019-03-27 18:06:01,136 - instantiating class <class 'PatientVec.models.modules.Encoder.Encoder'> from params {'type': 'cnn', 'hidden_size': 64, 'kernel_sizes': [3, 5, 7, 9], 'activation': 'relu'} and extras {'input_size': 200}\n",
      "INFO - 2019-03-27 18:06:01,136 - encoder.type = cnn\n",
      "INFO - 2019-03-27 18:06:01,136 - instantiating class <class 'PatientVec.models.modules.Encoder.CNNEncoder'> from params {'hidden_size': 64, 'kernel_sizes': [3, 5, 7, 9], 'activation': 'relu'} and extras {'input_size': 200}\n",
      "INFO - 2019-03-27 18:06:01,137 - encoder.hidden_size = 64\n",
      "INFO - 2019-03-27 18:06:01,137 - encoder.kernel_sizes = [3, 5, 7, 9]\n",
      "INFO - 2019-03-27 18:06:01,137 - encoder.activation = relu\n",
      "INFO - 2019-03-27 18:06:01,140 - instantiating class <class 'PatientVec.models.modules.SelfAttention.SelfAttention'> from params {'similarity': {'type': 'additive', 'hidden_size': 128, 'tensor_1_dim': 256}} and extras {}\n",
      "INFO - 2019-03-27 18:06:01,140 - instantiating class <class 'PatientVec.models.modules.UniSimilarity.UniSimilarity'> from params {'type': 'additive', 'hidden_size': 128, 'tensor_1_dim': 256} and extras {}\n",
      "INFO - 2019-03-27 18:06:01,141 - attention.similarity.type = additive\n",
      "INFO - 2019-03-27 18:06:01,141 - instantiating class <class 'PatientVec.models.modules.UniSimilarity.UniAdditiveSimilarity'> from params {'hidden_size': 128, 'tensor_1_dim': 256} and extras {}\n",
      "INFO - 2019-03-27 18:06:01,141 - attention.similarity.tensor_1_dim = 256\n",
      "INFO - 2019-03-27 18:06:01,141 - attention.similarity.hidden_size = 128\n",
      "INFO - 2019-03-27 18:06:01,142 - attention.similarity.output_size = 1\n",
      "INFO - 2019-03-27 18:06:01,143 - attention.normaliser = softmax\n",
      "INFO - 2019-03-27 18:06:01,143 - decoder.input_dim = 256\n",
      "INFO - 2019-03-27 18:06:01,143 - decoder.num_layers = 2\n",
      "INFO - 2019-03-27 18:06:01,143 - decoder.hidden_dims = [128, 1]\n",
      "INFO - 2019-03-27 18:06:01,144 - decoder.activations = ['tanh', 'linear']\n",
      "INFO - 2019-03-27 18:06:01,144 - decoder.dropout = 0.0\n",
      "INFO - 2019-03-27 18:06:01,145 - instantiating class <class 'PatientVec.models.modules.Predictor.Predictor'> from params {'type': 'binary'} and extras {}\n",
      "INFO - 2019-03-27 18:06:01,146 - predictor.type = binary\n",
      "INFO - 2019-03-27 18:06:01,146 - instantiating class <class 'PatientVec.models.modules.Predictor.Binary_Predictor'> from params {} and extras {}\n",
      "INFO - 2019-03-27 18:06:01,146 - predictor.replicate = False\n",
      "INFO - 2019-03-27 18:06:01,147 - predictor.alpha = 0.5\n"
     ]
    },
    {
     "name": "stdout",
     "output_type": "stream",
     "text": [
      "{'model': {'type': 'seq_classifier_with_attention', 'embedder': {'type': 'token_embedder', 'vocab_size': 29286, 'embed_size': 200, 'embedding_file': './preprocess/Mortality/embedding_matrix.npy'}, 'decoder': {'num_layers': 2, 'hidden_dims': [128, 1], 'activations': ['tanh', 'linear']}, 'predictor': {'type': 'binary'}, 'structured': {'use_structured': False}, 'encoder': {'type': 'average', 'projection': True, 'hidden_size': 256, 'activation': 'relu'}, 'attention': {'similarity': {'type': 'additive', 'hidden_size': 128}}}, 'training_config': {'type': 'Adam', 'groups': [('.*', {'lr': 0.001, 'weight_decay': 1e-05})], 'common': {'bsize': 16, 'class_weight': True}}, 'exp_config': {'exp_name': 'Mortality_1yr/Attention/Average(hs=256)+Attention(additive)(hs=128)', 'basepath': 'outputs/'}}\n",
      "Setting Embedding\n",
      "{'model': {'type': 'seq_classifier_with_attention', 'embedder': {'type': 'token_embedder', 'vocab_size': 29286, 'embed_size': 200, 'embedding_file': './preprocess/Mortality/embedding_matrix.npy'}, 'decoder': {'num_layers': 2, 'hidden_dims': [128, 1], 'activations': ['tanh', 'linear']}, 'predictor': {'type': 'binary'}, 'structured': {'use_structured': False}, 'encoder': {'type': 'lstm', 'hidden_size': 128}, 'attention': {'similarity': {'type': 'additive', 'hidden_size': 128}}}, 'training_config': {'type': 'Adam', 'groups': [('.*', {'lr': 0.001, 'weight_decay': 1e-05})], 'common': {'bsize': 16, 'class_weight': True}}, 'exp_config': {'exp_name': 'Mortality_1yr/Attention/LSTM(hs=128)+Attention(additive)(hs=128)', 'basepath': 'outputs/'}}\n",
      "Setting Embedding\n",
      "{'model': {'type': 'seq_classifier_with_attention', 'embedder': {'type': 'token_embedder', 'vocab_size': 29286, 'embed_size': 200, 'embedding_file': './preprocess/Mortality/embedding_matrix.npy'}, 'decoder': {'num_layers': 2, 'hidden_dims': [128, 1], 'activations': ['tanh', 'linear']}, 'predictor': {'type': 'binary'}, 'structured': {'use_structured': False}, 'encoder': {'type': 'cnn', 'hidden_size': 64, 'kernel_sizes': [3, 5, 7, 9], 'activation': 'relu'}, 'attention': {'similarity': {'type': 'additive', 'hidden_size': 128}}}, 'training_config': {'type': 'Adam', 'groups': [('.*', {'lr': 0.001, 'weight_decay': 1e-05})], 'common': {'bsize': 16, 'class_weight': True}}, 'exp_config': {'exp_name': 'Mortality_1yr/Attention/CNN(hs=64)(kernels=3,5,7,9)+Attention(additive)(hs=128)', 'basepath': 'outputs/'}}\n",
      "Setting Embedding\n",
      "Pos Percentage [0.25239128]\n"
     ]
    },
    {
     "name": "stderr",
     "output_type": "stream",
     "text": [
      "INFO - 2019-03-27 18:06:04,335 - Maximum Sentence Length 721825.000000 , 90 percentile length 18596.000000 ... \n",
      "INFO - 2019-03-27 18:06:10,485 - Truncated all ...\n",
      "INFO - 2019-03-27 18:06:10,517 - Idxs removed []...\n"
     ]
    },
    {
     "name": "stdout",
     "output_type": "stream",
     "text": [
      "Pos Percentage [0.25692909]\n"
     ]
    },
    {
     "name": "stderr",
     "output_type": "stream",
     "text": [
      "INFO - 2019-03-27 18:06:11,359 - Maximum Sentence Length 420764.000000 , 90 percentile length 17662.000000 ... \n",
      "INFO - 2019-03-27 18:06:12,846 - Truncated all ...\n",
      "INFO - 2019-03-27 18:06:12,855 - Idxs removed []...\n"
     ]
    },
    {
     "name": "stdout",
     "output_type": "stream",
     "text": [
      "Pos Percentage [0.25656373]\n"
     ]
    },
    {
     "name": "stderr",
     "output_type": "stream",
     "text": [
      "INFO - 2019-03-27 18:06:13,847 - Maximum Sentence Length 707041.000000 , 90 percentile length 17669.000000 ... \n",
      "INFO - 2019-03-27 18:06:18,705 - Truncated all ...\n",
      "INFO - 2019-03-27 18:06:18,715 - Idxs removed []...\n",
      "INFO - 2019-03-27 18:06:18,773 - instantiating class <class 'PatientVec.models.Model.Model'> from params {'type': 'seq_classifier', 'embedder': {'type': 'token_embedder', 'vocab_size': 29286, 'embed_size': 200, 'embedding_file': './preprocess/Mortality/embedding_matrix.npy'}, 'decoder': {'num_layers': 2, 'hidden_dims': [128, 1], 'activations': ['tanh', 'linear']}, 'predictor': {'type': 'binary'}, 'structured': {'use_structured': False}, 'encoder': {'type': 'sru', 'hidden_size': 128}} and extras {}\n",
      "INFO - 2019-03-27 18:06:18,774 - type = seq_classifier\n",
      "INFO - 2019-03-27 18:06:18,774 - instantiating class <class 'PatientVec.models.modules.Embedder.Embedder'> from params {'type': 'token_embedder', 'vocab_size': 29286, 'embed_size': 200, 'embedding_file': './preprocess/Mortality/embedding_matrix.npy'} and extras {}\n",
      "INFO - 2019-03-27 18:06:18,775 - embedder.type = token_embedder\n",
      "INFO - 2019-03-27 18:06:18,775 - instantiating class <class 'PatientVec.models.modules.Embedder.TokenEmbedder'> from params {'vocab_size': 29286, 'embed_size': 200, 'embedding_file': './preprocess/Mortality/embedding_matrix.npy'} and extras {}\n",
      "INFO - 2019-03-27 18:06:18,776 - embedder.vocab_size = 29286\n",
      "INFO - 2019-03-27 18:06:18,776 - embedder.embed_size = 200\n",
      "INFO - 2019-03-27 18:06:18,776 - embedder.embedding_file = ./preprocess/Mortality/embedding_matrix.npy\n",
      "INFO - 2019-03-27 18:06:18,791 - instantiating class <class 'PatientVec.models.modules.Encoder.Encoder'> from params {'type': 'sru', 'hidden_size': 128} and extras {'input_size': 200}\n",
      "INFO - 2019-03-27 18:06:18,792 - encoder.type = sru\n",
      "INFO - 2019-03-27 18:06:18,792 - instantiating class <class 'PatientVec.models.modules.Encoder.SRUEncoder'> from params {'hidden_size': 128} and extras {'input_size': 200}\n",
      "INFO - 2019-03-27 18:06:18,793 - encoder.hidden_size = 128\n",
      "INFO - 2019-03-27 18:06:18,796 - decoder.input_dim = 256\n",
      "INFO - 2019-03-27 18:06:18,797 - decoder.num_layers = 2\n",
      "INFO - 2019-03-27 18:06:18,797 - decoder.hidden_dims = [128, 1]\n",
      "INFO - 2019-03-27 18:06:18,797 - decoder.activations = ['tanh', 'linear']\n",
      "INFO - 2019-03-27 18:06:18,798 - decoder.dropout = 0.0\n",
      "INFO - 2019-03-27 18:06:18,799 - instantiating class <class 'PatientVec.models.modules.Predictor.Predictor'> from params {'type': 'binary'} and extras {}\n",
      "INFO - 2019-03-27 18:06:18,800 - predictor.type = binary\n",
      "INFO - 2019-03-27 18:06:18,800 - instantiating class <class 'PatientVec.models.modules.Predictor.Binary_Predictor'> from params {} and extras {}\n",
      "INFO - 2019-03-27 18:06:18,800 - predictor.replicate = False\n",
      "INFO - 2019-03-27 18:06:18,801 - predictor.alpha = 0.5\n",
      "INFO - 2019-03-27 18:06:18,811 - instantiating class <class 'PatientVec.models.Model.Model'> from params {'type': 'seq_classifier', 'embedder': {'type': 'token_embedder', 'vocab_size': 29286, 'embed_size': 200, 'embedding_file': './preprocess/Mortality/embedding_matrix.npy'}, 'decoder': {'num_layers': 2, 'hidden_dims': [128, 1], 'activations': ['tanh', 'linear']}, 'predictor': {'type': 'binary'}, 'structured': {'use_structured': False}, 'encoder': {'type': 'sru', 'hidden_size': 128}} and extras {}\n",
      "INFO - 2019-03-27 18:06:18,811 - type = seq_classifier\n",
      "INFO - 2019-03-27 18:06:18,811 - instantiating class <class 'PatientVec.models.modules.Embedder.Embedder'> from params {'type': 'token_embedder', 'vocab_size': 29286, 'embed_size': 200, 'embedding_file': './preprocess/Mortality/embedding_matrix.npy'} and extras {}\n",
      "INFO - 2019-03-27 18:06:18,812 - embedder.type = token_embedder\n",
      "INFO - 2019-03-27 18:06:18,813 - instantiating class <class 'PatientVec.models.modules.Embedder.TokenEmbedder'> from params {'vocab_size': 29286, 'embed_size': 200, 'embedding_file': './preprocess/Mortality/embedding_matrix.npy'} and extras {}\n",
      "INFO - 2019-03-27 18:06:18,814 - embedder.vocab_size = 29286\n",
      "INFO - 2019-03-27 18:06:18,814 - embedder.embed_size = 200\n",
      "INFO - 2019-03-27 18:06:18,815 - embedder.embedding_file = ./preprocess/Mortality/embedding_matrix.npy\n",
      "INFO - 2019-03-27 18:06:18,830 - instantiating class <class 'PatientVec.models.modules.Encoder.Encoder'> from params {'type': 'sru', 'hidden_size': 128} and extras {'input_size': 200}\n",
      "INFO - 2019-03-27 18:06:18,831 - encoder.type = sru\n",
      "INFO - 2019-03-27 18:06:18,831 - instantiating class <class 'PatientVec.models.modules.Encoder.SRUEncoder'> from params {'hidden_size': 128} and extras {'input_size': 200}\n",
      "INFO - 2019-03-27 18:06:18,831 - encoder.hidden_size = 128\n",
      "INFO - 2019-03-27 18:06:18,835 - decoder.input_dim = 256\n",
      "INFO - 2019-03-27 18:06:18,835 - decoder.num_layers = 2\n",
      "INFO - 2019-03-27 18:06:18,835 - decoder.hidden_dims = [128, 1]\n",
      "INFO - 2019-03-27 18:06:18,836 - decoder.activations = ['tanh', 'linear']\n",
      "INFO - 2019-03-27 18:06:18,836 - decoder.dropout = 0.0\n",
      "INFO - 2019-03-27 18:06:18,838 - instantiating class <class 'PatientVec.models.modules.Predictor.Predictor'> from params {'type': 'binary'} and extras {}\n",
      "INFO - 2019-03-27 18:06:18,838 - predictor.type = binary\n",
      "INFO - 2019-03-27 18:06:18,838 - instantiating class <class 'PatientVec.models.modules.Predictor.Binary_Predictor'> from params {} and extras {}\n",
      "INFO - 2019-03-27 18:06:18,839 - predictor.replicate = False\n",
      "INFO - 2019-03-27 18:06:18,839 - predictor.alpha = 0.5\n"
     ]
    },
    {
     "name": "stdout",
     "output_type": "stream",
     "text": [
      "{'model': {'type': 'seq_classifier', 'embedder': {'type': 'token_embedder', 'vocab_size': 29286, 'embed_size': 200, 'embedding_file': './preprocess/Mortality/embedding_matrix.npy'}, 'decoder': {'num_layers': 2, 'hidden_dims': [128, 1], 'activations': ['tanh', 'linear']}, 'predictor': {'type': 'binary'}, 'structured': {'use_structured': False}, 'encoder': {'type': 'sru', 'hidden_size': 128}}, 'training_config': {'type': 'Adam', 'groups': [('.*', {'lr': 0.001, 'weight_decay': 1e-05})], 'common': {'bsize': 16, 'class_weight': True}}, 'exp_config': {'exp_name': 'Mortality_1yr/Basic/SRU(hs=128)', 'basepath': 'outputs/'}}\n",
      "Setting Embedding\n",
      "Setting Embedding\n"
     ]
    },
    {
     "data": {
      "application/vnd.jupyter.widget-view+json": {
       "model_id": "6ea1270b52474a439d470b7eb02802b3",
       "version_major": 2,
       "version_minor": 0
      },
      "text/plain": [
       "HBox(children=(IntProgress(value=0, max=184), HTML(value='')))"
      ]
     },
     "metadata": {},
     "output_type": "display_data"
    }
   ],
   "source": [
    "for dataset in ['mortality_1yr', 'mortality_30day', 'diagnosis'] :\n",
    "    %run \"Discovery Experiments\"/run_models.py --dataset {dataset} --exp_types vanilla attention basic_sru structured structured_sru \\\n",
    "        --data_dir='.' --output_dir='outputs/' --display --do_test --structured\n",
    "    %run \"Discovery Experiments\"/run_models.py --dataset {dataset} --exp_types vanilla attention basic_sru structured structured_sru \\\n",
    "        --data_dir='.' --output_dir='outputs/' --display --do_test\n",
    "    %run \"Discovery Experiments\"/run_models.py --dataset {dataset} --exp_types hierarchical \\\n",
    "        --data_dir='.' --output_dir='outputs/' --display --do_test --structured\n",
    "    %run \"Discovery Experiments\"/run_models.py --dataset {dataset} --exp_types hierarchical \\\n",
    "        --data_dir='.' --output_dir='outputs/' --display --do_test"
   ]
  },
  {
   "cell_type": "code",
   "execution_count": null,
   "metadata": {},
   "outputs": [],
   "source": [
    "for dataset in ['hip_1yr', 'knee_1yr'] :\n",
    "    %run \"Discovery Experiments\"/run_models.py --dataset {dataset} --exp_types vanilla attention basic_sru \\\n",
    "        --data_dir='../../SurgeryData/PatientVec' --output_dir='outputs/' --display --do_test\n",
    "    %run \"Discovery Experiments\"/run_models.py --dataset {dataset} --exp_types hierarchical \\\n",
    "        --data_dir='../../SurgeryData/PatientVec' --output_dir='outputs/' --display --do_test"
   ]
  },
  {
   "cell_type": "code",
   "execution_count": null,
   "metadata": {},
   "outputs": [],
   "source": []
  }
 ],
 "metadata": {
  "kernelspec": {
   "display_name": "Python 3",
   "language": "python",
   "name": "python3"
  },
  "language_info": {
   "codemirror_mode": {
    "name": "ipython",
    "version": 3
   },
   "file_extension": ".py",
   "mimetype": "text/x-python",
   "name": "python",
   "nbconvert_exporter": "python",
   "pygments_lexer": "ipython3",
   "version": "3.6.7"
  }
 },
 "nbformat": 4,
 "nbformat_minor": 2
}
