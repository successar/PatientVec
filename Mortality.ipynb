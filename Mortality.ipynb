{
 "cells": [
  {
   "cell_type": "code",
   "execution_count": 1,
   "metadata": {},
   "outputs": [],
   "source": [
    "%load_ext autoreload\n",
    "%autoreload 2"
   ]
  },
  {
   "cell_type": "code",
   "execution_count": 2,
   "metadata": {},
   "outputs": [],
   "source": [
    "from dataset import Dataset, get_basic_model_config\n",
    "import numpy as np"
   ]
  },
  {
   "cell_type": "code",
   "execution_count": 3,
   "metadata": {},
   "outputs": [
    {
     "name": "stderr",
     "output_type": "stream",
     "text": [
      "/home/jainsarthak/anaconda3/lib/python3.7/site-packages/sklearn/model_selection/_split.py:2179: FutureWarning: From version 0.21, test_size will always complement train_size unless both are specified.\n",
      "  FutureWarning)\n"
     ]
    }
   ],
   "source": [
    "data = Dataset(name='mortality', dirname='preprocess/MIMIC-Mortality/', labelfield='hospmort1yr')"
   ]
  },
  {
   "cell_type": "code",
   "execution_count": 14,
   "metadata": {},
   "outputs": [],
   "source": [
    "from models.rnnmodel import Model as RNNModel\n",
    "from models.rnnmodel_probing import Model as RNNProbingModel"
   ]
  },
  {
   "cell_type": "code",
   "execution_count": 5,
   "metadata": {},
   "outputs": [],
   "source": [
    "from trainer import ClassificationTrainer, ClassificationEvaluator"
   ]
  },
  {
   "cell_type": "markdown",
   "metadata": {},
   "source": [
    "Mortality Normal\n",
    "================"
   ]
  },
  {
   "cell_type": "code",
   "execution_count": 16,
   "metadata": {},
   "outputs": [
    {
     "name": "stdout",
     "output_type": "stream",
     "text": [
      "Pos Percentage 0.23886764103264582\n",
      "Pos Percentage 0.2388569866010391\n"
     ]
    }
   ],
   "source": [
    "train_data = data.get_data('train')\n",
    "test_data = data.get_data('test')"
   ]
  },
  {
   "cell_type": "code",
   "execution_count": null,
   "metadata": {},
   "outputs": [
    {
     "name": "stdout",
     "output_type": "stream",
     "text": [
      "Setting Embedding\n"
     ]
    },
    {
     "data": {
      "application/vnd.jupyter.widget-view+json": {
       "model_id": "99072480ce174b78ac693b8cbf42780d",
       "version_major": 2,
       "version_minor": 0
      },
      "text/plain": [
       "HBox(children=(IntProgress(value=0, max=30), HTML(value='')))"
      ]
     },
     "metadata": {},
     "output_type": "display_data"
    },
    {
     "data": {
      "application/vnd.jupyter.widget-view+json": {
       "model_id": "e5997dbd88aa4cd4bf2f9d1f8f785411",
       "version_major": 2,
       "version_minor": 0
      },
      "text/plain": [
       "HBox(children=(IntProgress(value=0, max=916), HTML(value='')))"
      ]
     },
     "metadata": {},
     "output_type": "display_data"
    }
   ],
   "source": [
    "mortality_config = get_basic_model_config(data, 'mortality.test.MLP')\n",
    "trainer = ClassificationTrainer(RNNModel, mortality_config)\n",
    "trainer.train(train_data, test_data)"
   ]
  },
  {
   "cell_type": "code",
   "execution_count": null,
   "metadata": {},
   "outputs": [],
   "source": [
    "evaluator = ClassificationEvaluator(RNNModel, 'outputs/lstm_mortality/SunDec2322:44:562018_MLP/')\n",
    "pred = evaluator.evaluate(test_data)"
   ]
  },
  {
   "cell_type": "markdown",
   "metadata": {},
   "source": [
    "Gender Normal\n",
    "============="
   ]
  },
  {
   "cell_type": "code",
   "execution_count": null,
   "metadata": {},
   "outputs": [],
   "source": [
    "gender_train_data = data.get_data_for_probing('gender', 'train')\n",
    "gender_test_data = data.get_data_for_probing('gender', 'test')"
   ]
  },
  {
   "cell_type": "code",
   "execution_count": null,
   "metadata": {},
   "outputs": [],
   "source": [
    "gender_config = data.get_basic_model_config('gender')\n",
    "gender_config['training']['lr'] = 0.0001\n",
    "trainer = ClassificationTrainer(RNNModel, gender_config, model_name='MLP')\n",
    "trainer.train(gender_train_data, gender_test_data, average='micro')"
   ]
  },
  {
   "cell_type": "code",
   "execution_count": null,
   "metadata": {},
   "outputs": [],
   "source": [
    "gender_classifier = ClassificationEvaluator(RNNModel, dirname='outputs/lstm_main_gender/WedDec2601:05:392018_MLP/')\n",
    "gender_pred = gender_classifier.evaluate(gender_test_data)"
   ]
  },
  {
   "cell_type": "markdown",
   "metadata": {},
   "source": [
    "Gender Prober\n",
    "============="
   ]
  },
  {
   "cell_type": "code",
   "execution_count": null,
   "metadata": {},
   "outputs": [],
   "source": [
    "gender_config = data.get_basic_model_config('gender', prober=True)\n",
    "trainer = ClassificationTrainer(RNNProbingModel, gender_config, model_name='MLP', exp_name='mortality')\n",
    "trainer.model.load_encoder_values('outputs/lstm_mortality/TueDec2521:27:122018_MLP/')\n",
    "trainer.train(gender_train_data, gender_test_data, average='micro')"
   ]
  },
  {
   "cell_type": "code",
   "execution_count": null,
   "metadata": {},
   "outputs": [],
   "source": [
    "gender_probe_classifier = ClassificationEvaluator(RNNProbingModel, dirname='outputs/lstm_probing_gender/mortality/MonDec2417:23:092018_MLP/')\n",
    "pred = gender_probe_classifier.evaluate(gender_test_data)"
   ]
  },
  {
   "cell_type": "code",
   "execution_count": null,
   "metadata": {},
   "outputs": [],
   "source": [
    "eval_params = dict(evaluator.model.encoder.named_parameters())\n",
    "gender_params = dict(gender_probe_classifier.model.prober.named_parameters())\n",
    "for n, v in gender_params.items() :\n",
    "    if n in eval_params :\n",
    "        print(n, (v != eval_params[n]).sum())\n",
    "    else :\n",
    "        print(n, 'not in evaluator')"
   ]
  },
  {
   "cell_type": "markdown",
   "metadata": {},
   "source": [
    "Gender Prober Random\n",
    "===================="
   ]
  },
  {
   "cell_type": "code",
   "execution_count": null,
   "metadata": {},
   "outputs": [],
   "source": [
    "gender_config = data.get_basic_model_config('gender.test.MLP.random_init', prober=True)\n",
    "trainer = ClassificationTrainer(RNNProbingModel, gender_config)\n",
    "trainer.train(gender_train_data, gender_test_data, average='micro')"
   ]
  },
  {
   "cell_type": "code",
   "execution_count": null,
   "metadata": {},
   "outputs": [],
   "source": [
    "random_classifier = ClassificationEvaluator(RNNProbingModel, dirname='outputs/lstm_probing_gender/random/MonDec2419:07:092018_MLP/')\n",
    "pred = random_classifier.evaluate(gender_test_data)"
   ]
  },
  {
   "cell_type": "code",
   "execution_count": null,
   "metadata": {},
   "outputs": [],
   "source": [
    "eval_params = dict(evaluator.model.encoder.named_parameters())\n",
    "gender_params = dict(random_classifier.model.prober.named_parameters())\n",
    "for n, v in gender_params.items() :\n",
    "    if n in eval_params :\n",
    "        print(n, (v != eval_params[n]).sum())\n",
    "    else :\n",
    "        print(n, 'not in evaluator')"
   ]
  },
  {
   "cell_type": "markdown",
   "metadata": {},
   "source": [
    "Gender Majority\n",
    "==============="
   ]
  },
  {
   "cell_type": "code",
   "execution_count": null,
   "metadata": {},
   "outputs": [],
   "source": [
    "from sklearn.metrics import classification_report\n",
    "gy = gender_test_data.y\n",
    "from pandas.io.json.normalize import nested_to_record    \n",
    "\n",
    "flat = nested_to_record(classification_report(gy, [1]*len(gy), output_dict=True), sep='/')\n",
    "flat.update({'acc' : 1.0})\n",
    "# print(accuracy_score(gy, [1]*len(gy)))\n",
    "# print(roc_auc_score(gy, [sum(gy)/len(gy)]*len(gy)))\n",
    "# print(roc_auc_score(gy, [1]*len(gy)))"
   ]
  },
  {
   "cell_type": "code",
   "execution_count": null,
   "metadata": {},
   "outputs": [],
   "source": [
    "str(flat)"
   ]
  },
  {
   "cell_type": "code",
   "execution_count": null,
   "metadata": {},
   "outputs": [],
   "source": []
  }
 ],
 "metadata": {
  "kernelspec": {
   "display_name": "Python 3",
   "language": "python",
   "name": "python3"
  },
  "language_info": {
   "codemirror_mode": {
    "name": "ipython",
    "version": 3
   },
   "file_extension": ".py",
   "mimetype": "text/x-python",
   "name": "python",
   "nbconvert_exporter": "python",
   "pygments_lexer": "ipython3",
   "version": "3.7.1"
  }
 },
 "nbformat": 4,
 "nbformat_minor": 2
}
