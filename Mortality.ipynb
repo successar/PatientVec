{
 "cells": [
  {
   "cell_type": "code",
   "execution_count": null,
   "metadata": {},
   "outputs": [],
   "source": [
    "%load_ext autoreload\n",
    "%autoreload 2"
   ]
  },
  {
   "cell_type": "code",
   "execution_count": null,
   "metadata": {},
   "outputs": [],
   "source": [
    "import numpy as np\n",
    "from PatientVec.common import *\n",
    "from PatientVec.Experiments.hyperparam_exps import *"
   ]
  },
  {
   "cell_type": "code",
   "execution_count": null,
   "metadata": {},
   "outputs": [],
   "source": [
    "import argparse\n",
    "parser = argparse.ArgumentParser(description='Run Diagnosis experiments')\n",
    "parser.add_argument(\"--data_dir\", type=str, required=True)\n",
    "parser.add_argument('--display', dest='display', action='store_true')\n",
    "parser.add_argument(\"--output_dir\", type=str)\n",
    "parser.add_argument(\"--mock\", dest='mock', action='store_true')\n",
    "\n",
    "args = parser.parse_args(['--data_dir=.', '--output_dir=outputs/', '--display'])"
   ]
  },
  {
   "cell_type": "code",
   "execution_count": null,
   "metadata": {},
   "outputs": [],
   "source": [
    "from dataloaders import mortality_dataset, readmission_dataset, diagnosis_dataset\n",
    "# data = readmission_dataset(args)\n",
    "# data = diagnosis_dataset(args)"
   ]
  },
  {
   "cell_type": "markdown",
   "metadata": {},
   "source": [
    "Saving Models\n",
    "=============="
   ]
  },
  {
   "cell_type": "code",
   "execution_count": null,
   "metadata": {},
   "outputs": [],
   "source": [
    "from common import generate_latex_tables\n",
    "keys_to_use = ['roc_auc', 'pr_auc']\n",
    "generate_latex_tables(data, keys_to_use)"
   ]
  },
  {
   "cell_type": "code",
   "execution_count": null,
   "metadata": {},
   "outputs": [],
   "source": [
    "keys = ['roc_auc', 'pr_auc']\n",
    "yr_df = defaultdict(list)\n",
    "for yr in [1] :\n",
    "    for model in ['baselines', 'Basic', 'Attention', 'Structured Attention'] :\n",
    "        name = os.path.join('outputs/Readmission/', model)\n",
    "        if os.path.exists(name) :\n",
    "            dirs = os.listdir(name)\n",
    "            dfs = {}\n",
    "            for d in sorted(dirs) :\n",
    "                dirname = os.path.join(name, d)\n",
    "                model_name = get_latest_model(dirname)\n",
    "                if model_name is not None :\n",
    "                    df = json.load(open(os.path.join(model_name, 'evaluate.json')))\n",
    "                    dfs[d] = {k:v for k, v in df.items() if k in keys}\n",
    "\n",
    "            dfs = pd.DataFrame(dfs).transpose()\n",
    "            yr_df[yr] += [dfs]\n",
    "        \n",
    "    yr_df[yr] = pd.concat(yr_df[yr], axis=0)\n",
    "yr_df = pd.concat(yr_df.values(), axis=1, keys=yr_df.keys()).round(3)\n",
    "yr_df.columns = yr_df.columns.swaplevel(0, 1)\n",
    "yr_df.sort_index(axis=1, level=0, inplace=True)\n",
    "display(HTML(yr_df.to_html()))"
   ]
  },
  {
   "cell_type": "code",
   "execution_count": null,
   "metadata": {},
   "outputs": [],
   "source": []
  }
 ],
 "metadata": {
  "kernelspec": {
   "display_name": "Python 3",
   "language": "python",
   "name": "python3"
  },
  "language_info": {
   "codemirror_mode": {
    "name": "ipython",
    "version": 3
   },
   "file_extension": ".py",
   "mimetype": "text/x-python",
   "name": "python",
   "nbconvert_exporter": "python",
   "pygments_lexer": "ipython3",
   "version": "3.7.2"
  }
 },
 "nbformat": 4,
 "nbformat_minor": 2
}
