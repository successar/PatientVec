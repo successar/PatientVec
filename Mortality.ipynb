{
 "cells": [
  {
   "cell_type": "code",
   "execution_count": 6,
   "metadata": {},
   "outputs": [
    {
     "name": "stdout",
     "output_type": "stream",
     "text": [
      "The autoreload extension is already loaded. To reload it, use:\n",
      "  %reload_ext autoreload\n"
     ]
    }
   ],
   "source": [
    "%load_ext autoreload\n",
    "%autoreload 2"
   ]
  },
  {
   "cell_type": "code",
   "execution_count": 7,
   "metadata": {},
   "outputs": [],
   "source": [
    "import numpy as np\n",
    "from common import *\n",
    "from PatientVec.Experiments.hyperparam_exps import *"
   ]
  },
  {
   "cell_type": "code",
   "execution_count": 8,
   "metadata": {},
   "outputs": [],
   "source": [
    "import argparse\n",
    "parser = argparse.ArgumentParser(description='Run Diagnosis experiments')\n",
    "parser.add_argument(\"--data_dir\", type=str, required=True)\n",
    "parser.add_argument('--display', dest='display', action='store_true')\n",
    "parser.add_argument(\"--output_dir\", type=str)\n",
    "parser.add_argument(\"--mock\", dest='mock', action='store_true')\n",
    "\n",
    "args = parser.parse_args(['--data_dir=.', '--output_dir=outputs/', '--display'])"
   ]
  },
  {
   "cell_type": "code",
   "execution_count": 20,
   "metadata": {},
   "outputs": [
    {
     "name": "stderr",
     "output_type": "stream",
     "text": [
      "INFO - 2019-03-20 15:28:18,509 - Reading Structured data ...\n",
      "INFO - 2019-03-20 15:28:18,928 - Reading Notes ...\n",
      "INFO - 2019-03-20 15:28:37,133 - Stratifying ...\n"
     ]
    }
   ],
   "source": [
    "from dataloaders import mortality_dataset, readmission_dataset, diagnosis_dataset\n",
    "data = diagnosis_dataset(args) #, _type='30day')"
   ]
  },
  {
   "cell_type": "code",
   "execution_count": 21,
   "metadata": {},
   "outputs": [
    {
     "name": "stdout",
     "output_type": "stream",
     "text": [
      "Pos Percentage [0.21358209 0.07716941 0.10244004 0.31971179 0.13028647 0.13014724\n",
      " 0.20870897 0.07160013 0.26850917 0.31939852 0.09485189 0.19033033\n",
      " 0.28253681 0.41581677 0.26697762 0.07180897 0.13039089 0.0897003\n",
      " 0.04953183 0.04076021 0.08917818 0.14152947 0.18249852 0.14615893\n",
      " 0.07797   ]\n"
     ]
    },
    {
     "name": "stderr",
     "output_type": "stream",
     "text": [
      "INFO - 2019-03-20 15:28:52,919 - Maximum Sentence Length 721825.000000 , 90 percentile length 16714.000000 ... \n",
      "INFO - 2019-03-20 15:29:13,779 - Truncated all ...\n"
     ]
    },
    {
     "name": "stdout",
     "output_type": "stream",
     "text": [
      "Pos Percentage [0.20548768 0.06969758 0.10194272 0.31744442 0.12237132 0.13458842\n",
      " 0.2032846  0.06649309 0.25776087 0.31484078 0.0929301  0.19587422\n",
      " 0.29541358 0.42339275 0.25475666 0.06789505 0.12096936 0.08531945\n",
      " 0.0530743  0.03745243 0.0817144  0.1327859  0.17684759 0.13198478\n",
      " 0.07790907]\n"
     ]
    },
    {
     "name": "stderr",
     "output_type": "stream",
     "text": [
      "INFO - 2019-03-20 15:29:16,224 - Maximum Sentence Length 407062.000000 , 90 percentile length 16420.000000 ... \n",
      "INFO - 2019-03-20 15:29:19,148 - Truncated all ...\n"
     ]
    }
   ],
   "source": [
    "train_data, dev_data = get_basic_data(data, structured=True, truncate=90)"
   ]
  },
  {
   "cell_type": "code",
   "execution_count": null,
   "metadata": {},
   "outputs": [
    {
     "data": {
      "application/vnd.jupyter.widget-view+json": {
       "model_id": "37c159062b994dd282c3a39c31b715b5",
       "version_major": 2,
       "version_minor": 0
      },
      "text/plain": [
       "HBox(children=(IntProgress(value=0, max=28729), HTML(value='')))"
      ]
     },
     "metadata": {},
     "output_type": "display_data"
    },
    {
     "name": "stdout",
     "output_type": "stream",
     "text": [
      "\n",
      "Normalising using l2\n",
      "Using Norm from linalg\n",
      "Multiplying by constant ,  1.0\n"
     ]
    },
    {
     "data": {
      "application/vnd.jupyter.widget-view+json": {
       "model_id": "1616ec09d3b7443ba5938dfddaf3c08a",
       "version_major": 2,
       "version_minor": 0
      },
      "text/plain": [
       "HBox(children=(IntProgress(value=0, max=28729), HTML(value='')))"
      ]
     },
     "metadata": {},
     "output_type": "display_data"
    },
    {
     "name": "stdout",
     "output_type": "stream",
     "text": [
      "\n",
      "Clipping ...\n",
      "Normalising using l2\n",
      "Using Norm from linalg\n",
      "Multiplying by constant ,  1.0\n"
     ]
    }
   ],
   "source": [
    "config = {'vocab' : data.vocab, 'stop_words' : True, 'exp_name' : data.name, \n",
    "          'type' : data.metrics_type, 'norm' : 'l2', 'constant_mul' : 1.0, 'has_structured' : True}\n",
    "lr = LR(config)\n",
    "lr.train(train_data)\n",
    "metrics = lr.evaluate(dev_data, save_results=True)"
   ]
  },
  {
   "cell_type": "markdown",
   "metadata": {},
   "source": [
    "Saving Models\n",
    "=============="
   ]
  },
  {
   "cell_type": "code",
   "execution_count": null,
   "metadata": {},
   "outputs": [],
   "source": [
    "from common import generate_latex_tables\n",
    "keys_to_use = ['roc_auc', 'pr_auc']\n",
    "generate_latex_tables(data, keys_to_use)"
   ]
  },
  {
   "cell_type": "code",
   "execution_count": null,
   "metadata": {},
   "outputs": [],
   "source": [
    "dirname = 'outputs/Readmission/Basic/'\n",
    "exps = os.listdir(dirname)\n",
    "for e in sorted(exps) :\n",
    "    if 'Structured' in e :\n",
    "        print(e)\n",
    "        print_results_from_model(get_latest_model(os.path.join(dirname, e)))"
   ]
  },
  {
   "cell_type": "code",
   "execution_count": null,
   "metadata": {},
   "outputs": [],
   "source": [
    "dirname = 'outputs/Diagnosis/Basic/'\n",
    "exps = os.listdir(dirname)\n",
    "for e in sorted(exps) :\n",
    "    if 'Structured' in e :\n",
    "        print(e)\n",
    "        print_results_from_model(get_latest_model(os.path.join(dirname, e)))"
   ]
  },
  {
   "cell_type": "code",
   "execution_count": 5,
   "metadata": {},
   "outputs": [
    {
     "data": {
      "text/html": [
       "<table border=\"1\" class=\"dataframe\">\n",
       "  <thead>\n",
       "    <tr>\n",
       "      <th></th>\n",
       "      <th>pr_auc</th>\n",
       "      <th>roc_auc</th>\n",
       "    </tr>\n",
       "    <tr>\n",
       "      <th></th>\n",
       "      <th>1</th>\n",
       "      <th>1</th>\n",
       "    </tr>\n",
       "  </thead>\n",
       "  <tbody>\n",
       "    <tr>\n",
       "      <th>LR+BOW+norm=l1+clip=False</th>\n",
       "      <td>0.592</td>\n",
       "      <td>0.862</td>\n",
       "    </tr>\n",
       "    <tr>\n",
       "      <th>LR+BOW+norm=l2+clip=False</th>\n",
       "      <td>0.784</td>\n",
       "      <td>0.929</td>\n",
       "    </tr>\n",
       "    <tr>\n",
       "      <th>LR+BOW+norm=l2+clip=False+Structured</th>\n",
       "      <td>0.801</td>\n",
       "      <td>0.939</td>\n",
       "    </tr>\n",
       "    <tr>\n",
       "      <th>LR+BOW+norm=l3+clip=False</th>\n",
       "      <td>0.794</td>\n",
       "      <td>0.923</td>\n",
       "    </tr>\n",
       "    <tr>\n",
       "      <th>Average(hs=256)</th>\n",
       "      <td>0.743</td>\n",
       "      <td>0.907</td>\n",
       "    </tr>\n",
       "    <tr>\n",
       "      <th>Average(hs=256)+Structured</th>\n",
       "      <td>0.651</td>\n",
       "      <td>0.897</td>\n",
       "    </tr>\n",
       "    <tr>\n",
       "      <th>CNN(hs=64)(kernels=3,5,7,9)</th>\n",
       "      <td>0.789</td>\n",
       "      <td>0.928</td>\n",
       "    </tr>\n",
       "    <tr>\n",
       "      <th>CNN(hs=64)(kernels=3,5,7,9)+Structured</th>\n",
       "      <td>0.782</td>\n",
       "      <td>0.927</td>\n",
       "    </tr>\n",
       "    <tr>\n",
       "      <th>LSTM(hs=128)</th>\n",
       "      <td>0.802</td>\n",
       "      <td>0.923</td>\n",
       "    </tr>\n",
       "    <tr>\n",
       "      <th>LSTM(hs=128)+Structured</th>\n",
       "      <td>0.726</td>\n",
       "      <td>0.906</td>\n",
       "    </tr>\n",
       "    <tr>\n",
       "      <th>Average(hs=256)+Attention(additive)(hs=128)</th>\n",
       "      <td>0.782</td>\n",
       "      <td>0.926</td>\n",
       "    </tr>\n",
       "    <tr>\n",
       "      <th>Average(hs=256)+Attention(additive)(hs=128)+Structured</th>\n",
       "      <td>0.789</td>\n",
       "      <td>0.933</td>\n",
       "    </tr>\n",
       "    <tr>\n",
       "      <th>CNN(hs=64)(kernels=3,5,7,9)+Attention(additive)(hs=128)</th>\n",
       "      <td>0.786</td>\n",
       "      <td>0.932</td>\n",
       "    </tr>\n",
       "    <tr>\n",
       "      <th>CNN(hs=64)(kernels=3,5,7,9)+Attention(additive)(hs=128)+Structured</th>\n",
       "      <td>0.797</td>\n",
       "      <td>0.936</td>\n",
       "    </tr>\n",
       "    <tr>\n",
       "      <th>LSTM(hs=128)+Attention(additive)(hs=128)</th>\n",
       "      <td>0.794</td>\n",
       "      <td>0.931</td>\n",
       "    </tr>\n",
       "    <tr>\n",
       "      <th>LSTM(hs=128)+Attention(additive)(hs=128)+Structured</th>\n",
       "      <td>0.808</td>\n",
       "      <td>0.938</td>\n",
       "    </tr>\n",
       "    <tr>\n",
       "      <th>SRU(hs=128)+Attention(additive)(hs=128)</th>\n",
       "      <td>0.800</td>\n",
       "      <td>0.933</td>\n",
       "    </tr>\n",
       "    <tr>\n",
       "      <th>SRU(hs=128)+Attention(additive)(hs=128)+Structured</th>\n",
       "      <td>0.801</td>\n",
       "      <td>0.939</td>\n",
       "    </tr>\n",
       "    <tr>\n",
       "      <th>Average(hs=256)+Attention(additive)(all)(hs=128)</th>\n",
       "      <td>0.795</td>\n",
       "      <td>0.936</td>\n",
       "    </tr>\n",
       "    <tr>\n",
       "      <th>Average(hs=256)+Attention(additive)(all)(hs=128)+Structured</th>\n",
       "      <td>0.792</td>\n",
       "      <td>0.937</td>\n",
       "    </tr>\n",
       "    <tr>\n",
       "      <th>CNN(hs=64)(kernels=3,5,7,9)+Attention(additive)(all)(hs=128)</th>\n",
       "      <td>0.796</td>\n",
       "      <td>0.936</td>\n",
       "    </tr>\n",
       "    <tr>\n",
       "      <th>CNN(hs=64)(kernels=3,5,7,9)+Attention(additive)(all)(hs=128)+Structured</th>\n",
       "      <td>0.794</td>\n",
       "      <td>0.937</td>\n",
       "    </tr>\n",
       "    <tr>\n",
       "      <th>LSTM(hs=128)+Attention(additive)(all)(hs=128)</th>\n",
       "      <td>0.804</td>\n",
       "      <td>0.939</td>\n",
       "    </tr>\n",
       "    <tr>\n",
       "      <th>LSTM(hs=128)+Attention(additive)(all)(hs=128)+Structured</th>\n",
       "      <td>0.801</td>\n",
       "      <td>0.939</td>\n",
       "    </tr>\n",
       "  </tbody>\n",
       "</table>"
      ],
      "text/plain": [
       "<IPython.core.display.HTML object>"
      ]
     },
     "metadata": {},
     "output_type": "display_data"
    }
   ],
   "source": [
    "keys = ['roc_auc', 'pr_auc']\n",
    "yr_df = defaultdict(list)\n",
    "for yr in [1] :\n",
    "    for model in ['baselines', 'Basic', 'Attention', 'Structured Attention'] :\n",
    "        name = os.path.join('outputs/Mortality_30day/', model)\n",
    "        dirs = os.listdir(name)\n",
    "        dfs = {}\n",
    "        for d in sorted(dirs) :\n",
    "            dirname = os.path.join(name, d)\n",
    "            model_name = get_latest_model(dirname)\n",
    "            if model_name is not None :\n",
    "                df = json.load(open(os.path.join(model_name, 'evaluate.json')))\n",
    "                dfs[d] = {k:v for k, v in df.items() if k in keys}\n",
    "        \n",
    "        dfs = pd.DataFrame(dfs).transpose()\n",
    "        yr_df[yr] += [dfs]\n",
    "        \n",
    "    yr_df[yr] = pd.concat(yr_df[yr], axis=0)\n",
    "yr_df = pd.concat(yr_df.values(), axis=1, keys=yr_df.keys()).round(3)\n",
    "yr_df.columns = yr_df.columns.swaplevel(0, 1)\n",
    "yr_df.sort_index(axis=1, level=0, inplace=True)\n",
    "display(HTML(yr_df.to_html()))"
   ]
  },
  {
   "cell_type": "code",
   "execution_count": null,
   "metadata": {},
   "outputs": [],
   "source": []
  }
 ],
 "metadata": {
  "kernelspec": {
   "display_name": "Python 3",
   "language": "python",
   "name": "python3"
  },
  "language_info": {
   "codemirror_mode": {
    "name": "ipython",
    "version": 3
   },
   "file_extension": ".py",
   "mimetype": "text/x-python",
   "name": "python",
   "nbconvert_exporter": "python",
   "pygments_lexer": "ipython3",
   "version": "3.7.2"
  }
 },
 "nbformat": 4,
 "nbformat_minor": 2
}
