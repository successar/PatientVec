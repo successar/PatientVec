{
 "cells": [
  {
   "cell_type": "code",
   "execution_count": 3,
   "metadata": {},
   "outputs": [],
   "source": [
    "%load_ext autoreload\n",
    "%autoreload 2"
   ]
  },
  {
   "cell_type": "code",
   "execution_count": 4,
   "metadata": {},
   "outputs": [],
   "source": [
    "import numpy as np\n",
    "from common import *\n",
    "from PatientVec.Experiments.hyperparam_exps import *"
   ]
  },
  {
   "cell_type": "code",
   "execution_count": 5,
   "metadata": {},
   "outputs": [],
   "source": [
    "import argparse\n",
    "parser = argparse.ArgumentParser(description='Run Diagnosis experiments')\n",
    "parser.add_argument(\"--data_dir\", type=str, required=True)\n",
    "parser.add_argument('--display', dest='display', action='store_true')\n",
    "parser.add_argument(\"--output_dir\", type=str)\n",
    "parser.add_argument(\"--mock\", dest='mock', action='store_true')\n",
    "\n",
    "args = parser.parse_args(['--data_dir=.', '--output_dir=outputs/', '--display'])"
   ]
  },
  {
   "cell_type": "code",
   "execution_count": 6,
   "metadata": {},
   "outputs": [
    {
     "name": "stderr",
     "output_type": "stream",
     "text": [
      "INFO - 2019-03-19 13:56:49,101 - Reading Structured data ...\n",
      "INFO - 2019-03-19 13:56:49,191 - Reading Notes ...\n",
      "INFO - 2019-03-19 13:57:06,035 - Stratifying ...\n"
     ]
    }
   ],
   "source": [
    "from dataloaders import mortality_dataset\n",
    "data = mortality_dataset(args, _type='30day')"
   ]
  },
  {
   "cell_type": "code",
   "execution_count": 7,
   "metadata": {},
   "outputs": [
    {
     "name": "stdout",
     "output_type": "stream",
     "text": [
      "Pos Percentage [0.15129873]\n"
     ]
    },
    {
     "name": "stderr",
     "output_type": "stream",
     "text": [
      "INFO - 2019-03-19 13:57:13,242 - Maximum Sentence Length 721825.000000 , 90 percentile length 18596.000000 ... \n",
      "INFO - 2019-03-19 13:57:28,195 - Truncated all ...\n"
     ]
    },
    {
     "name": "stdout",
     "output_type": "stream",
     "text": [
      "Pos Percentage [0.14555348]\n"
     ]
    },
    {
     "name": "stderr",
     "output_type": "stream",
     "text": [
      "INFO - 2019-03-19 13:57:30,176 - Maximum Sentence Length 420764.000000 , 90 percentile length 17662.000000 ... \n",
      "INFO - 2019-03-19 13:57:32,888 - Truncated all ...\n"
     ]
    }
   ],
   "source": [
    "train_data, dev_data = get_basic_data(data, structured=True, truncate=90)"
   ]
  },
  {
   "cell_type": "code",
   "execution_count": 10,
   "metadata": {},
   "outputs": [
    {
     "data": {
      "application/vnd.jupyter.widget-view+json": {
       "model_id": "2736e88e504746029555386a6be974cd",
       "version_major": 2,
       "version_minor": 0
      },
      "text/plain": [
       "HBox(children=(IntProgress(value=0, max=23523), HTML(value='')))"
      ]
     },
     "metadata": {},
     "output_type": "display_data"
    },
    {
     "name": "stdout",
     "output_type": "stream",
     "text": [
      "\n",
      "Normalising using l2\n",
      "Using Norm from linalg\n",
      "Multiplying by constant ,  1.0\n",
      "Fit BOW Classifier ...\n",
      "Fit BOW Structured Classifier ...\n"
     ]
    },
    {
     "data": {
      "application/vnd.jupyter.widget-view+json": {
       "model_id": "08ddefbf32e94d32adedf36e66eec043",
       "version_major": 2,
       "version_minor": 0
      },
      "text/plain": [
       "HBox(children=(IntProgress(value=0, max=5881), HTML(value='')))"
      ]
     },
     "metadata": {},
     "output_type": "display_data"
    },
    {
     "name": "stdout",
     "output_type": "stream",
     "text": [
      "\n",
      "Normalising using l2\n",
      "Using Norm from linalg\n",
      "Multiplying by constant ,  1.0\n",
      "BOW\n",
      "{'accuracy': 0.8750212548886244, 'roc_auc': 0.9290389175617242, 'pr_auc': 0.7844204587167638}\n"
     ]
    },
    {
     "data": {
      "text/html": [
       "<div>\n",
       "<style scoped>\n",
       "    .dataframe tbody tr th:only-of-type {\n",
       "        vertical-align: middle;\n",
       "    }\n",
       "\n",
       "    .dataframe tbody tr th {\n",
       "        vertical-align: top;\n",
       "    }\n",
       "\n",
       "    .dataframe thead th {\n",
       "        text-align: right;\n",
       "    }\n",
       "</style>\n",
       "<table border=\"1\" class=\"dataframe\">\n",
       "  <thead>\n",
       "    <tr style=\"text-align: right;\">\n",
       "      <th></th>\n",
       "      <th>0</th>\n",
       "      <th>1</th>\n",
       "      <th>micro avg</th>\n",
       "      <th>macro avg</th>\n",
       "      <th>weighted avg</th>\n",
       "    </tr>\n",
       "  </thead>\n",
       "  <tbody>\n",
       "    <tr>\n",
       "      <th>f1-score</th>\n",
       "      <td>0.924</td>\n",
       "      <td>0.656</td>\n",
       "      <td>0.875</td>\n",
       "      <td>0.790</td>\n",
       "      <td>0.885</td>\n",
       "    </tr>\n",
       "    <tr>\n",
       "      <th>precision</th>\n",
       "      <td>0.967</td>\n",
       "      <td>0.547</td>\n",
       "      <td>0.875</td>\n",
       "      <td>0.757</td>\n",
       "      <td>0.905</td>\n",
       "    </tr>\n",
       "    <tr>\n",
       "      <th>recall</th>\n",
       "      <td>0.884</td>\n",
       "      <td>0.820</td>\n",
       "      <td>0.875</td>\n",
       "      <td>0.852</td>\n",
       "      <td>0.875</td>\n",
       "    </tr>\n",
       "    <tr>\n",
       "      <th>support</th>\n",
       "      <td>5025.000</td>\n",
       "      <td>856.000</td>\n",
       "      <td>5881.000</td>\n",
       "      <td>5881.000</td>\n",
       "      <td>5881.000</td>\n",
       "    </tr>\n",
       "  </tbody>\n",
       "</table>\n",
       "</div>"
      ],
      "text/plain": [
       "                  0        1  micro avg  macro avg  weighted avg\n",
       "f1-score      0.924    0.656      0.875      0.790         0.885\n",
       "precision     0.967    0.547      0.875      0.757         0.905\n",
       "recall        0.884    0.820      0.875      0.852         0.875\n",
       "support    5025.000  856.000   5881.000   5881.000      5881.000"
      ]
     },
     "metadata": {},
     "output_type": "display_data"
    },
    {
     "name": "stdout",
     "output_type": "stream",
     "text": [
      "BOW+Structured\n",
      "{'accuracy': 0.8787621152865159, 'roc_auc': 0.9389143069698238, 'pr_auc': 0.8008571942720953}\n"
     ]
    },
    {
     "data": {
      "text/html": [
       "<div>\n",
       "<style scoped>\n",
       "    .dataframe tbody tr th:only-of-type {\n",
       "        vertical-align: middle;\n",
       "    }\n",
       "\n",
       "    .dataframe tbody tr th {\n",
       "        vertical-align: top;\n",
       "    }\n",
       "\n",
       "    .dataframe thead th {\n",
       "        text-align: right;\n",
       "    }\n",
       "</style>\n",
       "<table border=\"1\" class=\"dataframe\">\n",
       "  <thead>\n",
       "    <tr style=\"text-align: right;\">\n",
       "      <th></th>\n",
       "      <th>0</th>\n",
       "      <th>1</th>\n",
       "      <th>micro avg</th>\n",
       "      <th>macro avg</th>\n",
       "      <th>weighted avg</th>\n",
       "    </tr>\n",
       "  </thead>\n",
       "  <tbody>\n",
       "    <tr>\n",
       "      <th>f1-score</th>\n",
       "      <td>0.926</td>\n",
       "      <td>0.669</td>\n",
       "      <td>0.879</td>\n",
       "      <td>0.797</td>\n",
       "      <td>0.888</td>\n",
       "    </tr>\n",
       "    <tr>\n",
       "      <th>precision</th>\n",
       "      <td>0.970</td>\n",
       "      <td>0.555</td>\n",
       "      <td>0.879</td>\n",
       "      <td>0.763</td>\n",
       "      <td>0.910</td>\n",
       "    </tr>\n",
       "    <tr>\n",
       "      <th>recall</th>\n",
       "      <td>0.885</td>\n",
       "      <td>0.840</td>\n",
       "      <td>0.879</td>\n",
       "      <td>0.863</td>\n",
       "      <td>0.879</td>\n",
       "    </tr>\n",
       "    <tr>\n",
       "      <th>support</th>\n",
       "      <td>5025.000</td>\n",
       "      <td>856.000</td>\n",
       "      <td>5881.000</td>\n",
       "      <td>5881.000</td>\n",
       "      <td>5881.000</td>\n",
       "    </tr>\n",
       "  </tbody>\n",
       "</table>\n",
       "</div>"
      ],
      "text/plain": [
       "                  0        1  micro avg  macro avg  weighted avg\n",
       "f1-score      0.926    0.669      0.879      0.797         0.888\n",
       "precision     0.970    0.555      0.879      0.763         0.910\n",
       "recall        0.885    0.840      0.879      0.863         0.879\n",
       "support    5025.000  856.000   5881.000   5881.000      5881.000"
      ]
     },
     "metadata": {},
     "output_type": "display_data"
    }
   ],
   "source": [
    "config = {'vocab' : data.vocab, 'stop_words' : True, 'exp_name' : data.name, \n",
    "          'type' : data.metrics_type, 'norm' : 'l2', 'constant_mul' : 1.0}\n",
    "lr = LR(config)\n",
    "lr.train(train_data)\n",
    "metrics = lr.evaluate(dev_data, save_results=True)"
   ]
  },
  {
   "cell_type": "markdown",
   "metadata": {},
   "source": [
    "Saving Models\n",
    "=============="
   ]
  },
  {
   "cell_type": "code",
   "execution_count": null,
   "metadata": {},
   "outputs": [],
   "source": [
    "from common import generate_latex_tables\n",
    "keys_to_use = ['roc_auc', 'pr_auc']\n",
    "generate_latex_tables(data, keys_to_use)"
   ]
  },
  {
   "cell_type": "code",
   "execution_count": null,
   "metadata": {},
   "outputs": [],
   "source": [
    "dirname = 'outputs/Readmission/Basic/'\n",
    "exps = os.listdir(dirname)\n",
    "for e in sorted(exps) :\n",
    "    if 'Structured' in e :\n",
    "        print(e)\n",
    "        print_results_from_model(get_latest_model(os.path.join(dirname, e)))"
   ]
  },
  {
   "cell_type": "code",
   "execution_count": null,
   "metadata": {},
   "outputs": [],
   "source": [
    "dirname = 'outputs/Diagnosis/Basic/'\n",
    "exps = os.listdir(dirname)\n",
    "for e in sorted(exps) :\n",
    "    if 'Structured' in e :\n",
    "        print(e)\n",
    "        print_results_from_model(get_latest_model(os.path.join(dirname, e)))"
   ]
  },
  {
   "cell_type": "code",
   "execution_count": 5,
   "metadata": {},
   "outputs": [
    {
     "data": {
      "text/html": [
       "<table border=\"1\" class=\"dataframe\">\n",
       "  <thead>\n",
       "    <tr>\n",
       "      <th></th>\n",
       "      <th>pr_auc</th>\n",
       "      <th>roc_auc</th>\n",
       "    </tr>\n",
       "    <tr>\n",
       "      <th></th>\n",
       "      <th>1</th>\n",
       "      <th>1</th>\n",
       "    </tr>\n",
       "  </thead>\n",
       "  <tbody>\n",
       "    <tr>\n",
       "      <th>LR+BOW+norm=l1+clip=False</th>\n",
       "      <td>0.592</td>\n",
       "      <td>0.862</td>\n",
       "    </tr>\n",
       "    <tr>\n",
       "      <th>LR+BOW+norm=l2+clip=False</th>\n",
       "      <td>0.808</td>\n",
       "      <td>0.931</td>\n",
       "    </tr>\n",
       "    <tr>\n",
       "      <th>LR+BOW+norm=l3+clip=False</th>\n",
       "      <td>0.794</td>\n",
       "      <td>0.923</td>\n",
       "    </tr>\n",
       "    <tr>\n",
       "      <th>Average(hs=256)</th>\n",
       "      <td>0.743</td>\n",
       "      <td>0.907</td>\n",
       "    </tr>\n",
       "    <tr>\n",
       "      <th>Average(hs=256)+Structured</th>\n",
       "      <td>0.622</td>\n",
       "      <td>0.886</td>\n",
       "    </tr>\n",
       "    <tr>\n",
       "      <th>CNN(hs=64)(kernels=3,5,7,9)</th>\n",
       "      <td>0.789</td>\n",
       "      <td>0.928</td>\n",
       "    </tr>\n",
       "    <tr>\n",
       "      <th>CNN(hs=64)(kernels=3,5,7,9)+Structured</th>\n",
       "      <td>0.775</td>\n",
       "      <td>0.928</td>\n",
       "    </tr>\n",
       "    <tr>\n",
       "      <th>LSTM(hs=128)</th>\n",
       "      <td>0.802</td>\n",
       "      <td>0.923</td>\n",
       "    </tr>\n",
       "    <tr>\n",
       "      <th>LSTM(hs=128)+Structured</th>\n",
       "      <td>0.789</td>\n",
       "      <td>0.926</td>\n",
       "    </tr>\n",
       "    <tr>\n",
       "      <th>Average(hs=256)+Attention(additive)(hs=128)</th>\n",
       "      <td>0.782</td>\n",
       "      <td>0.926</td>\n",
       "    </tr>\n",
       "    <tr>\n",
       "      <th>Average(hs=256)+Attention(additive)(hs=128)+Structured</th>\n",
       "      <td>0.780</td>\n",
       "      <td>0.933</td>\n",
       "    </tr>\n",
       "    <tr>\n",
       "      <th>CNN(hs=64)(kernels=3,5,7,9)+Attention(additive)(hs=128)</th>\n",
       "      <td>0.786</td>\n",
       "      <td>0.932</td>\n",
       "    </tr>\n",
       "    <tr>\n",
       "      <th>CNN(hs=64)(kernels=3,5,7,9)+Attention(additive)(hs=128)+Structured</th>\n",
       "      <td>0.781</td>\n",
       "      <td>0.932</td>\n",
       "    </tr>\n",
       "    <tr>\n",
       "      <th>LSTM(hs=128)+Attention(additive)(hs=128)</th>\n",
       "      <td>0.794</td>\n",
       "      <td>0.931</td>\n",
       "    </tr>\n",
       "    <tr>\n",
       "      <th>LSTM(hs=128)+Attention(additive)(hs=128)+Structured</th>\n",
       "      <td>0.781</td>\n",
       "      <td>0.934</td>\n",
       "    </tr>\n",
       "    <tr>\n",
       "      <th>SRU(hs=128)+Attention(additive)(hs=128)</th>\n",
       "      <td>0.800</td>\n",
       "      <td>0.933</td>\n",
       "    </tr>\n",
       "    <tr>\n",
       "      <th>SRU(hs=128)+Attention(additive)(hs=128)+Structured</th>\n",
       "      <td>0.801</td>\n",
       "      <td>0.939</td>\n",
       "    </tr>\n",
       "    <tr>\n",
       "      <th>Average(hs=256)+Attention(additive)(all)(hs=128)+Structured</th>\n",
       "      <td>0.792</td>\n",
       "      <td>0.937</td>\n",
       "    </tr>\n",
       "    <tr>\n",
       "      <th>CNN(hs=64)(kernels=3,5,7,9)+Attention(additive)(all)(hs=128)+Structured</th>\n",
       "      <td>0.800</td>\n",
       "      <td>0.940</td>\n",
       "    </tr>\n",
       "    <tr>\n",
       "      <th>LSTM(hs=128)+Attention(additive)(all)(hs=128)+Structured</th>\n",
       "      <td>0.793</td>\n",
       "      <td>0.938</td>\n",
       "    </tr>\n",
       "  </tbody>\n",
       "</table>"
      ],
      "text/plain": [
       "<IPython.core.display.HTML object>"
      ]
     },
     "metadata": {},
     "output_type": "display_data"
    }
   ],
   "source": [
    "keys = ['roc_auc', 'pr_auc']\n",
    "yr_df = defaultdict(list)\n",
    "for yr in [1] :\n",
    "    for model in ['baselines', 'Basic', 'Attention', 'Structured Attention'] :\n",
    "        name = os.path.join('outputs/Mortality_30day/', model)\n",
    "        dirs = os.listdir(name)\n",
    "        dfs = {}\n",
    "        for d in sorted(dirs) :\n",
    "            dirname = os.path.join(name, d)\n",
    "            model_name = get_latest_model(dirname)\n",
    "            if model_name is not None :\n",
    "                df = json.load(open(os.path.join(model_name, 'evaluate.json')))\n",
    "                dfs[d] = {k:v for k, v in df.items() if k in keys}\n",
    "        \n",
    "        dfs = pd.DataFrame(dfs).transpose()\n",
    "        yr_df[yr] += [dfs]\n",
    "        \n",
    "    yr_df[yr] = pd.concat(yr_df[yr], axis=0)\n",
    "yr_df = pd.concat(yr_df.values(), axis=1, keys=yr_df.keys()).round(3)\n",
    "yr_df.columns = yr_df.columns.swaplevel(0, 1)\n",
    "yr_df.sort_index(axis=1, level=0, inplace=True)\n",
    "display(HTML(yr_df.to_html()))"
   ]
  },
  {
   "cell_type": "code",
   "execution_count": null,
   "metadata": {},
   "outputs": [],
   "source": []
  }
 ],
 "metadata": {
  "kernelspec": {
   "display_name": "Python 3",
   "language": "python",
   "name": "python3"
  },
  "language_info": {
   "codemirror_mode": {
    "name": "ipython",
    "version": 3
   },
   "file_extension": ".py",
   "mimetype": "text/x-python",
   "name": "python",
   "nbconvert_exporter": "python",
   "pygments_lexer": "ipython3",
   "version": "3.7.2"
  }
 },
 "nbformat": 4,
 "nbformat_minor": 2
}
