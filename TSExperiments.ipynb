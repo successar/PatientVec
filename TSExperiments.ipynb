{
 "cells": [
  {
   "cell_type": "code",
   "execution_count": null,
   "metadata": {},
   "outputs": [],
   "source": [
    "%run \"Discovery Experiments\"/n_times.py --data_dir='.' --output_dir='outputs' --display --n=500\n",
    "%run \"Discovery Experiments\"/n_times.py --data_dir='.' --output_dir='outputs' --display --n=1000\n",
    "%run \"Discovery Experiments\"/n_times.py --data_dir='.' --output_dir='outputs' --display --n=3000\n",
    "%run \"Discovery Experiments\"/n_times.py --data_dir='.' --output_dir='outputs' --display --n=5000\n",
    "%run \"Discovery Experiments\"/n_times.py --data_dir='.' --output_dir='outputs' --display --n=7000\n",
    "%run \"Discovery Experiments\"/n_times.py --data_dir='.' --output_dir='outputs' --display --n=9000"
   ]
  },
  {
   "cell_type": "code",
   "execution_count": null,
   "metadata": {},
   "outputs": [],
   "source": [
    "%run \"Discovery Experiments\"/n_times_pretrained.py --data_dir='.' --output_dir='outputs' --display --n=500\n",
    "%run \"Discovery Experiments\"/n_times_pretrained.py --data_dir='.' --output_dir='outputs' --display --n=1000\n",
    "%run \"Discovery Experiments\"/n_times_pretrained.py --data_dir='.' --output_dir='outputs' --display --n=3000\n",
    "%run \"Discovery Experiments\"/n_times_pretrained.py --data_dir='.' --output_dir='outputs' --display --n=5000\n",
    "%run \"Discovery Experiments\"/n_times_pretrained.py --data_dir='.' --output_dir='outputs' --display --n=7000\n",
    "%run \"Discovery Experiments\"/n_times_pretrained.py --data_dir='.' --output_dir='outputs' --display --n=9000"
   ]
  },
  {
   "cell_type": "code",
   "execution_count": null,
   "metadata": {},
   "outputs": [],
   "source": [
    "%run \"Discovery Experiments\"/n_times_LR.py --data_dir='.' --output_dir='outputs' --display --n=500\n",
    "%run \"Discovery Experiments\"/n_times_LR.py --data_dir='.' --output_dir='outputs' --display --n=1000\n",
    "%run \"Discovery Experiments\"/n_times_LR.py --data_dir='.' --output_dir='outputs' --display --n=3000\n",
    "%run \"Discovery Experiments\"/n_times_LR.py --data_dir='.' --output_dir='outputs' --display --n=5000\n",
    "%run \"Discovery Experiments\"/n_times_LR.py --data_dir='.' --output_dir='outputs' --display --n=7000\n",
    "%run \"Discovery Experiments\"/n_times_LR.py --data_dir='.' --output_dir='outputs' --display --n=9000"
   ]
  },
  {
   "cell_type": "code",
   "execution_count": null,
   "metadata": {},
   "outputs": [],
   "source": [
    "%run \"Discovery Experiments\"/run_models.py --dataset \"mortality_1yr\" --exp_types hierarchical \\\n",
    "    --data_dir='.' --output_dir='outputs' --display --structured"
   ]
  },
  {
   "cell_type": "code",
   "execution_count": null,
   "metadata": {},
   "outputs": [],
   "source": [
    "%run \"Discovery Experiments\"/run_models.py --dataset \"mortality_30day\" --exp_types hierarchical \\\n",
    "    --data_dir='.' --output_dir='outputs' --display --structured"
   ]
  },
  {
   "cell_type": "code",
   "execution_count": null,
   "metadata": {},
   "outputs": [],
   "source": [
    "%run \"Discovery Experiments\"/run_models.py --dataset \"mortality_1yr\" --exp_types hierarchical \\\n",
    "    --data_dir='.' --output_dir='outputs' --display"
   ]
  },
  {
   "cell_type": "code",
   "execution_count": null,
   "metadata": {},
   "outputs": [],
   "source": [
    "%run \"Discovery Experiments\"/run_models.py --dataset \"mortality_30day\" --exp_types hierarchical \\\n",
    "    --data_dir='.' --output_dir='outputs' --display"
   ]
  },
  {
   "cell_type": "code",
   "execution_count": null,
   "metadata": {},
   "outputs": [
    {
     "name": "stdout",
     "output_type": "stream",
     "text": [
      "Better speed can be achieved with apex installed from https://www.github.com/nvidia/apex.\n"
     ]
    },
    {
     "name": "stderr",
     "output_type": "stream",
     "text": [
      "INFO - 2019-03-26 20:01:49,238 - Reading Structured data ...\n",
      "INFO - 2019-03-26 20:01:49,385 - Reading Notes ...\n"
     ]
    }
   ],
   "source": [
    "%run \"Discovery Experiments\"/penalty_LR.py --dataset \"hip_1yr\" --data_dir='.' --output_dir='outputs' --display --penalty 10.0 --type tfidf\n",
    "%run \"Discovery Experiments\"/penalty_LR.py --dataset \"hip_1yr\" --data_dir='.' --output_dir='outputs' --display --penalty 100.0 --type tfidf\n",
    "%run \"Discovery Experiments\"/penalty_LR.py --dataset \"hip_1yr\" --data_dir='.' --output_dir='outputs' --display --penalty 0.1 --type tfidf\n",
    "%run \"Discovery Experiments\"/penalty_LR.py --dataset \"hip_1yr\" --data_dir='.' --output_dir='outputs' --display --penalty 0.01 --type tfidf\n",
    "%run \"Discovery Experiments\"/penalty_LR.py --dataset \"hip_1yr\" --data_dir='.' --output_dir='outputs' --display --penalty 0.001 --type tfidf"
   ]
  },
  {
   "cell_type": "code",
   "execution_count": null,
   "metadata": {},
   "outputs": [],
   "source": [
    "%run \"Discovery Experiments\"/penalty_LR.py --dataset \"knee_1yr\" --data_dir='.' --output_dir='outputs' --display --penalty 10.0 --type tfidf\n",
    "%run \"Discovery Experiments\"/penalty_LR.py --dataset \"knee_1yr\" --data_dir='.' --output_dir='outputs' --display --penalty 100.0 --type tfidf\n",
    "%run \"Discovery Experiments\"/penalty_LR.py --dataset \"knee_1yr\" --data_dir='.' --output_dir='outputs' --display --penalty 0.1 --type tfidf\n",
    "%run \"Discovery Experiments\"/penalty_LR.py --dataset \"knee_1yr\" --data_dir='.' --output_dir='outputs' --display --penalty 0.01 --type tfidf\n",
    "%run \"Discovery Experiments\"/penalty_LR.py --dataset \"knee_1yr\" --data_dir='.' --output_dir='outputs' --display --penalty 0.001 --type tfidf"
   ]
  },
  {
   "cell_type": "code",
   "execution_count": null,
   "metadata": {},
   "outputs": [],
   "source": [
    "%run \"Discovery Experiments\"/penalty_LR.py --dataset \"readmission\" --data_dir='.' --output_dir='outputs' --display --penalty 10.0 --type tfidf\n",
    "%run \"Discovery Experiments\"/penalty_LR.py --dataset \"readmission\" --data_dir='.' --output_dir='outputs' --display --penalty 100.0 --type tfidf\n",
    "%run \"Discovery Experiments\"/penalty_LR.py --dataset \"readmission\" --data_dir='.' --output_dir='outputs' --display --penalty 0.1 --type tfidf\n",
    "%run \"Discovery Experiments\"/penalty_LR.py --dataset \"readmission\" --data_dir='.' --output_dir='outputs' --display --penalty 0.01 --type tfidf\n",
    "%run \"Discovery Experiments\"/penalty_LR.py --dataset \"readmission\" --data_dir='.' --output_dir='outputs' --display --penalty 0.001 --type tfidf"
   ]
  },
  {
   "cell_type": "code",
   "execution_count": null,
   "metadata": {},
   "outputs": [],
   "source": [
    "%run \"Discovery Experiments\"/penalty_LR.py --dataset \"mortality_1yr\" --data_dir='.' --output_dir='outputs' --display --penalty 10.0 --type tfidf\n",
    "%run \"Discovery Experiments\"/penalty_LR.py --dataset \"mortality_1yr\" --data_dir='.' --output_dir='outputs' --display --penalty 100.0 --type tfidf\n",
    "%run \"Discovery Experiments\"/penalty_LR.py --dataset \"mortality_1yr\" --data_dir='.' --output_dir='outputs' --display --penalty 0.1 --type tfidf\n",
    "%run \"Discovery Experiments\"/penalty_LR.py --dataset \"mortality_1yr\" --data_dir='.' --output_dir='outputs' --display --penalty 0.01 --type tfidf\n",
    "%run \"Discovery Experiments\"/penalty_LR.py --dataset \"mortality_1yr\" --data_dir='.' --output_dir='outputs' --display --penalty 0.001 --type tfidf"
   ]
  },
  {
   "cell_type": "code",
   "execution_count": null,
   "metadata": {},
   "outputs": [],
   "source": [
    "%run \"Discovery Experiments\"/penalty_LR.py --dataset \"mortality_30day\" --data_dir='.' --output_dir='outputs' --display --penalty 10.0 --type tfidf\n",
    "%run \"Discovery Experiments\"/penalty_LR.py --dataset \"mortality_30day\" --data_dir='.' --output_dir='outputs' --display --penalty 100.0 --type tfidf\n",
    "%run \"Discovery Experiments\"/penalty_LR.py --dataset \"mortality_30day\" --data_dir='.' --output_dir='outputs' --display --penalty 0.1 --type tfidf\n",
    "%run \"Discovery Experiments\"/penalty_LR.py --dataset \"mortality_30day\" --data_dir='.' --output_dir='outputs' --display --penalty 0.01 --type tfidf\n",
    "%run \"Discovery Experiments\"/penalty_LR.py --dataset \"mortality_30day\" --data_dir='.' --output_dir='outputs' --display --penalty 0.001 --type tfidf"
   ]
  },
  {
   "cell_type": "code",
   "execution_count": null,
   "metadata": {},
   "outputs": [],
   "source": []
  }
 ],
 "metadata": {
  "kernelspec": {
   "display_name": "Python 3",
   "language": "python",
   "name": "python3"
  },
  "language_info": {
   "codemirror_mode": {
    "name": "ipython",
    "version": 3
   },
   "file_extension": ".py",
   "mimetype": "text/x-python",
   "name": "python",
   "nbconvert_exporter": "python",
   "pygments_lexer": "ipython3",
   "version": "3.7.1"
  }
 },
 "nbformat": 4,
 "nbformat_minor": 2
}
