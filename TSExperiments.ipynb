{
 "cells": [
  {
   "cell_type": "code",
   "execution_count": null,
   "metadata": {},
   "outputs": [],
   "source": [
    "%run \"Discovery Experiments\"/n_times.py --data_dir='.' --output_dir='outputs' --display --n=500\n",
    "%run \"Discovery Experiments\"/n_times.py --data_dir='.' --output_dir='outputs' --display --n=1000\n",
    "%run \"Discovery Experiments\"/n_times.py --data_dir='.' --output_dir='outputs' --display --n=3000\n",
    "%run \"Discovery Experiments\"/n_times.py --data_dir='.' --output_dir='outputs' --display --n=5000\n",
    "%run \"Discovery Experiments\"/n_times.py --data_dir='.' --output_dir='outputs' --display --n=7000\n",
    "%run \"Discovery Experiments\"/n_times.py --data_dir='.' --output_dir='outputs' --display --n=9000"
   ]
  },
  {
   "cell_type": "code",
   "execution_count": null,
   "metadata": {},
   "outputs": [
    {
     "name": "stdout",
     "output_type": "stream",
     "text": [
      "Better speed can be achieved with apex installed from https://www.github.com/nvidia/apex.\n"
     ]
    },
    {
     "name": "stderr",
     "output_type": "stream",
     "text": [
      "INFO - 2019-03-23 14:59:21,312 - Reading Structured data ...\n",
      "INFO - 2019-03-23 14:59:21,492 - Reading Notes ...\n",
      "INFO - 2019-03-23 14:59:32,116 - Stratifying ...\n"
     ]
    },
    {
     "name": "stdout",
     "output_type": "stream",
     "text": [
      "Pos Percentage [0.19738451]\n"
     ]
    },
    {
     "name": "stderr",
     "output_type": "stream",
     "text": [
      "INFO - 2019-03-23 14:59:36,913 - Maximum Sentence Length 721825.000000 , 90 percentile length 18689.000000 ... \n",
      "INFO - 2019-03-23 14:59:48,929 - Truncated all ...\n",
      "INFO - 2019-03-23 14:59:48,974 - Idxs removed [1249]...\n"
     ]
    },
    {
     "name": "stdout",
     "output_type": "stream",
     "text": [
      "Pos Percentage [0.20937082]\n"
     ]
    },
    {
     "name": "stderr",
     "output_type": "stream",
     "text": [
      "INFO - 2019-03-23 14:59:50,162 - Maximum Sentence Length 588265.000000 , 90 percentile length 19174.000000 ... \n",
      "INFO - 2019-03-23 14:59:52,089 - Truncated all ...\n",
      "INFO - 2019-03-23 14:59:52,101 - Idxs removed []...\n",
      "INFO - 2019-03-23 14:59:52,343 - instantiating class <class 'PatientVec.models.Model.Model'> from params {'type': 'seq_classifier', 'embedder': {'type': 'token_embedder', 'vocab_size': 32246, 'embed_size': 200, 'embedding_file': './preprocess/Readmission/embedding_matrix.npy'}, 'decoder': {'num_layers': 2, 'hidden_dims': [128, 1], 'activations': ['tanh', 'linear']}, 'predictor': {'type': 'binary'}, 'structured': {'use_structured': True, 'structured_dim': 142}, 'encoder': {'type': 'lstm', 'hidden_size': 128}} and extras {}\n",
      "INFO - 2019-03-23 14:59:52,344 - type = seq_classifier\n",
      "INFO - 2019-03-23 14:59:52,344 - instantiating class <class 'PatientVec.models.modules.Embedder.Embedder'> from params {'type': 'token_embedder', 'vocab_size': 32246, 'embed_size': 200, 'embedding_file': './preprocess/Readmission/embedding_matrix.npy'} and extras {}\n",
      "INFO - 2019-03-23 14:59:52,344 - embedder.type = token_embedder\n",
      "INFO - 2019-03-23 14:59:52,345 - instantiating class <class 'PatientVec.models.modules.Embedder.TokenEmbedder'> from params {'vocab_size': 32246, 'embed_size': 200, 'embedding_file': './preprocess/Readmission/embedding_matrix.npy'} and extras {}\n",
      "INFO - 2019-03-23 14:59:52,402 - embedder.vocab_size = 32246\n",
      "INFO - 2019-03-23 14:59:52,402 - embedder.embed_size = 200\n",
      "INFO - 2019-03-23 14:59:52,402 - embedder.embedding_file = ./preprocess/Readmission/embedding_matrix.npy\n",
      "INFO - 2019-03-23 14:59:52,417 - instantiating class <class 'PatientVec.models.modules.Encoder.Encoder'> from params {'type': 'lstm', 'hidden_size': 128} and extras {'input_size': 200}\n",
      "INFO - 2019-03-23 14:59:52,418 - encoder.type = lstm\n",
      "INFO - 2019-03-23 14:59:52,418 - instantiating class <class 'PatientVec.models.modules.Encoder.wrap_pytorch_rnn.<locals>.BiRNNEncoder'> from params {'hidden_size': 128} and extras {'input_size': 200}\n",
      "INFO - 2019-03-23 14:59:52,419 - encoder.hidden_size = 128\n",
      "INFO - 2019-03-23 14:59:52,421 - decoder.input_dim = 398\n",
      "INFO - 2019-03-23 14:59:52,421 - decoder.num_layers = 2\n",
      "INFO - 2019-03-23 14:59:52,422 - decoder.hidden_dims = [128, 1]\n",
      "INFO - 2019-03-23 14:59:52,422 - decoder.activations = ['tanh', 'linear']\n",
      "INFO - 2019-03-23 14:59:52,422 - decoder.dropout = 0.0\n",
      "INFO - 2019-03-23 14:59:52,423 - instantiating class <class 'PatientVec.models.modules.Predictor.Predictor'> from params {'type': 'binary'} and extras {}\n",
      "INFO - 2019-03-23 14:59:52,424 - predictor.type = binary\n",
      "INFO - 2019-03-23 14:59:52,424 - instantiating class <class 'PatientVec.models.modules.Predictor.Binary_Predictor'> from params {} and extras {}\n",
      "INFO - 2019-03-23 14:59:52,424 - predictor.replicate = False\n",
      "INFO - 2019-03-23 14:59:52,424 - predictor.alpha = 0.5\n"
     ]
    },
    {
     "name": "stdout",
     "output_type": "stream",
     "text": [
      "Sampling  500\n",
      "{'model': {'type': 'seq_classifier', 'embedder': {'type': 'token_embedder', 'vocab_size': 32246, 'embed_size': 200, 'embedding_file': './preprocess/Readmission/embedding_matrix.npy'}, 'decoder': {'num_layers': 2, 'hidden_dims': [128, 1], 'activations': ['tanh', 'linear']}, 'predictor': {'type': 'binary'}, 'structured': {'use_structured': True, 'structured_dim': 142}, 'encoder': {'type': 'lstm', 'hidden_size': 128}}, 'training_config': {'type': 'Adam', 'groups': [('.*', {'lr': 0.001, 'weight_decay': 1e-05})], 'common': {'bsize': 32, 'class_weight': True}}, 'exp_config': {'exp_name': 'Readmission/Basic/LSTM(hs=128)+Structured+Pretrained', 'basepath': 'outputs/ts_experiments/n=500'}}\n",
      "Setting Embedding\n"
     ]
    },
    {
     "data": {
      "application/vnd.jupyter.widget-view+json": {
       "model_id": "e24f136da69a452d97541891103a461b",
       "version_major": 2,
       "version_minor": 0
      },
      "text/plain": [
       "HBox(children=(IntProgress(value=0, max=8), HTML(value='')))"
      ]
     },
     "metadata": {},
     "output_type": "display_data"
    },
    {
     "data": {
      "application/vnd.jupyter.widget-view+json": {
       "model_id": "662556a078b240c3b2e1ebf7dbdc7d49",
       "version_major": 2,
       "version_minor": 0
      },
      "text/plain": [
       "HBox(children=(IntProgress(value=0, max=16), HTML(value='')))"
      ]
     },
     "metadata": {},
     "output_type": "display_data"
    },
    {
     "data": {
      "application/vnd.jupyter.widget-view+json": {
       "model_id": "b152d6d6c4784949b3af402a00032467",
       "version_major": 2,
       "version_minor": 0
      },
      "text/plain": [
       "HBox(children=(IntProgress(value=0, max=234), HTML(value='')))"
      ]
     },
     "metadata": {},
     "output_type": "display_data"
    },
    {
     "name": "stdout",
     "output_type": "stream",
     "text": [
      "{'accuracy': 0.5918340026773762, 'roc_auc': 0.6547923001707051, 'pr_auc': 0.3277840649285091}\n"
     ]
    },
    {
     "data": {
      "text/html": [
       "<div>\n",
       "<style scoped>\n",
       "    .dataframe tbody tr th:only-of-type {\n",
       "        vertical-align: middle;\n",
       "    }\n",
       "\n",
       "    .dataframe tbody tr th {\n",
       "        vertical-align: top;\n",
       "    }\n",
       "\n",
       "    .dataframe thead th {\n",
       "        text-align: right;\n",
       "    }\n",
       "</style>\n",
       "<table border=\"1\" class=\"dataframe\">\n",
       "  <thead>\n",
       "    <tr style=\"text-align: right;\">\n",
       "      <th></th>\n",
       "      <th>0</th>\n",
       "      <th>1</th>\n",
       "      <th>micro avg</th>\n",
       "      <th>macro avg</th>\n",
       "      <th>weighted avg</th>\n",
       "    </tr>\n",
       "  </thead>\n",
       "  <tbody>\n",
       "    <tr>\n",
       "      <th>f1-score</th>\n",
       "      <td>0.691</td>\n",
       "      <td>0.399</td>\n",
       "      <td>0.592</td>\n",
       "      <td>0.545</td>\n",
       "      <td>0.630</td>\n",
       "    </tr>\n",
       "    <tr>\n",
       "      <th>precision</th>\n",
       "      <td>0.861</td>\n",
       "      <td>0.289</td>\n",
       "      <td>0.592</td>\n",
       "      <td>0.575</td>\n",
       "      <td>0.741</td>\n",
       "    </tr>\n",
       "    <tr>\n",
       "      <th>recall</th>\n",
       "      <td>0.577</td>\n",
       "      <td>0.648</td>\n",
       "      <td>0.592</td>\n",
       "      <td>0.613</td>\n",
       "      <td>0.592</td>\n",
       "    </tr>\n",
       "    <tr>\n",
       "      <th>support</th>\n",
       "      <td>5906.000</td>\n",
       "      <td>1564.000</td>\n",
       "      <td>7470.000</td>\n",
       "      <td>7470.000</td>\n",
       "      <td>7470.000</td>\n",
       "    </tr>\n",
       "  </tbody>\n",
       "</table>\n",
       "</div>"
      ],
      "text/plain": [
       "                  0         1  micro avg  macro avg  weighted avg\n",
       "f1-score      0.691     0.399      0.592      0.545         0.630\n",
       "precision     0.861     0.289      0.592      0.575         0.741\n",
       "recall        0.577     0.648      0.592      0.613         0.592\n",
       "support    5906.000  1564.000   7470.000   7470.000      7470.000"
      ]
     },
     "metadata": {},
     "output_type": "display_data"
    },
    {
     "name": "stdout",
     "output_type": "stream",
     "text": [
      "Model Saved on  roc_auc 0.6547923001707051\n"
     ]
    },
    {
     "data": {
      "application/vnd.jupyter.widget-view+json": {
       "model_id": "d55bed6a62794d209d0b71aafa09bf4d",
       "version_major": 2,
       "version_minor": 0
      },
      "text/plain": [
       "HBox(children=(IntProgress(value=0, max=16), HTML(value='')))"
      ]
     },
     "metadata": {},
     "output_type": "display_data"
    },
    {
     "data": {
      "application/vnd.jupyter.widget-view+json": {
       "model_id": "fc4d68c79273454c9595783eab93c7b2",
       "version_major": 2,
       "version_minor": 0
      },
      "text/plain": [
       "HBox(children=(IntProgress(value=0, max=234), HTML(value='')))"
      ]
     },
     "metadata": {},
     "output_type": "display_data"
    },
    {
     "name": "stdout",
     "output_type": "stream",
     "text": [
      "{'accuracy': 0.5959839357429719, 'roc_auc': 0.6558115722621151, 'pr_auc': 0.3311910473399845}\n"
     ]
    },
    {
     "data": {
      "text/html": [
       "<div>\n",
       "<style scoped>\n",
       "    .dataframe tbody tr th:only-of-type {\n",
       "        vertical-align: middle;\n",
       "    }\n",
       "\n",
       "    .dataframe tbody tr th {\n",
       "        vertical-align: top;\n",
       "    }\n",
       "\n",
       "    .dataframe thead th {\n",
       "        text-align: right;\n",
       "    }\n",
       "</style>\n",
       "<table border=\"1\" class=\"dataframe\">\n",
       "  <thead>\n",
       "    <tr style=\"text-align: right;\">\n",
       "      <th></th>\n",
       "      <th>0</th>\n",
       "      <th>1</th>\n",
       "      <th>micro avg</th>\n",
       "      <th>macro avg</th>\n",
       "      <th>weighted avg</th>\n",
       "    </tr>\n",
       "  </thead>\n",
       "  <tbody>\n",
       "    <tr>\n",
       "      <th>f1-score</th>\n",
       "      <td>0.694</td>\n",
       "      <td>0.407</td>\n",
       "      <td>0.596</td>\n",
       "      <td>0.55</td>\n",
       "      <td>0.634</td>\n",
       "    </tr>\n",
       "    <tr>\n",
       "      <th>precision</th>\n",
       "      <td>0.866</td>\n",
       "      <td>0.294</td>\n",
       "      <td>0.596</td>\n",
       "      <td>0.58</td>\n",
       "      <td>0.746</td>\n",
       "    </tr>\n",
       "    <tr>\n",
       "      <th>recall</th>\n",
       "      <td>0.578</td>\n",
       "      <td>0.662</td>\n",
       "      <td>0.596</td>\n",
       "      <td>0.62</td>\n",
       "      <td>0.596</td>\n",
       "    </tr>\n",
       "    <tr>\n",
       "      <th>support</th>\n",
       "      <td>5906.000</td>\n",
       "      <td>1564.000</td>\n",
       "      <td>7470.000</td>\n",
       "      <td>7470.00</td>\n",
       "      <td>7470.000</td>\n",
       "    </tr>\n",
       "  </tbody>\n",
       "</table>\n",
       "</div>"
      ],
      "text/plain": [
       "                  0         1  micro avg  macro avg  weighted avg\n",
       "f1-score      0.694     0.407      0.596       0.55         0.634\n",
       "precision     0.866     0.294      0.596       0.58         0.746\n",
       "recall        0.578     0.662      0.596       0.62         0.596\n",
       "support    5906.000  1564.000   7470.000    7470.00      7470.000"
      ]
     },
     "metadata": {},
     "output_type": "display_data"
    },
    {
     "name": "stdout",
     "output_type": "stream",
     "text": [
      "Model Saved on  roc_auc 0.6558115722621151\n"
     ]
    },
    {
     "data": {
      "application/vnd.jupyter.widget-view+json": {
       "model_id": "f78a715890d84d38b695a0ad308a7941",
       "version_major": 2,
       "version_minor": 0
      },
      "text/plain": [
       "HBox(children=(IntProgress(value=0, max=16), HTML(value='')))"
      ]
     },
     "metadata": {},
     "output_type": "display_data"
    },
    {
     "data": {
      "application/vnd.jupyter.widget-view+json": {
       "model_id": "43c49c26ff234ad0b4b80cb3632b414a",
       "version_major": 2,
       "version_minor": 0
      },
      "text/plain": [
       "HBox(children=(IntProgress(value=0, max=234), HTML(value='')))"
      ]
     },
     "metadata": {},
     "output_type": "display_data"
    },
    {
     "name": "stdout",
     "output_type": "stream",
     "text": [
      "{'accuracy': 0.7164658634538152, 'roc_auc': 0.653494473953836, 'pr_auc': 0.3378048594022911}\n"
     ]
    },
    {
     "data": {
      "text/html": [
       "<div>\n",
       "<style scoped>\n",
       "    .dataframe tbody tr th:only-of-type {\n",
       "        vertical-align: middle;\n",
       "    }\n",
       "\n",
       "    .dataframe tbody tr th {\n",
       "        vertical-align: top;\n",
       "    }\n",
       "\n",
       "    .dataframe thead th {\n",
       "        text-align: right;\n",
       "    }\n",
       "</style>\n",
       "<table border=\"1\" class=\"dataframe\">\n",
       "  <thead>\n",
       "    <tr style=\"text-align: right;\">\n",
       "      <th></th>\n",
       "      <th>0</th>\n",
       "      <th>1</th>\n",
       "      <th>micro avg</th>\n",
       "      <th>macro avg</th>\n",
       "      <th>weighted avg</th>\n",
       "    </tr>\n",
       "  </thead>\n",
       "  <tbody>\n",
       "    <tr>\n",
       "      <th>f1-score</th>\n",
       "      <td>0.817</td>\n",
       "      <td>0.375</td>\n",
       "      <td>0.716</td>\n",
       "      <td>0.596</td>\n",
       "      <td>0.724</td>\n",
       "    </tr>\n",
       "    <tr>\n",
       "      <th>precision</th>\n",
       "      <td>0.836</td>\n",
       "      <td>0.348</td>\n",
       "      <td>0.716</td>\n",
       "      <td>0.592</td>\n",
       "      <td>0.734</td>\n",
       "    </tr>\n",
       "    <tr>\n",
       "      <th>recall</th>\n",
       "      <td>0.799</td>\n",
       "      <td>0.407</td>\n",
       "      <td>0.716</td>\n",
       "      <td>0.603</td>\n",
       "      <td>0.716</td>\n",
       "    </tr>\n",
       "    <tr>\n",
       "      <th>support</th>\n",
       "      <td>5906.000</td>\n",
       "      <td>1564.000</td>\n",
       "      <td>7470.000</td>\n",
       "      <td>7470.000</td>\n",
       "      <td>7470.000</td>\n",
       "    </tr>\n",
       "  </tbody>\n",
       "</table>\n",
       "</div>"
      ],
      "text/plain": [
       "                  0         1  micro avg  macro avg  weighted avg\n",
       "f1-score      0.817     0.375      0.716      0.596         0.724\n",
       "precision     0.836     0.348      0.716      0.592         0.734\n",
       "recall        0.799     0.407      0.716      0.603         0.716\n",
       "support    5906.000  1564.000   7470.000   7470.000      7470.000"
      ]
     },
     "metadata": {},
     "output_type": "display_data"
    },
    {
     "name": "stdout",
     "output_type": "stream",
     "text": [
      "Model not saved on  roc_auc 0.653494473953836\n"
     ]
    },
    {
     "data": {
      "application/vnd.jupyter.widget-view+json": {
       "model_id": "f12071e6b9f544578a873e96bc5f120f",
       "version_major": 2,
       "version_minor": 0
      },
      "text/plain": [
       "HBox(children=(IntProgress(value=0, max=16), HTML(value='')))"
      ]
     },
     "metadata": {},
     "output_type": "display_data"
    },
    {
     "data": {
      "application/vnd.jupyter.widget-view+json": {
       "model_id": "90672b0c24ee44469c0cc02a60b5a3d4",
       "version_major": 2,
       "version_minor": 0
      },
      "text/plain": [
       "HBox(children=(IntProgress(value=0, max=234), HTML(value='')))"
      ]
     },
     "metadata": {},
     "output_type": "display_data"
    },
    {
     "name": "stdout",
     "output_type": "stream",
     "text": [
      "{'accuracy': 0.5995983935742972, 'roc_auc': 0.657080601200565, 'pr_auc': 0.33468249566185765}\n"
     ]
    },
    {
     "data": {
      "text/html": [
       "<div>\n",
       "<style scoped>\n",
       "    .dataframe tbody tr th:only-of-type {\n",
       "        vertical-align: middle;\n",
       "    }\n",
       "\n",
       "    .dataframe tbody tr th {\n",
       "        vertical-align: top;\n",
       "    }\n",
       "\n",
       "    .dataframe thead th {\n",
       "        text-align: right;\n",
       "    }\n",
       "</style>\n",
       "<table border=\"1\" class=\"dataframe\">\n",
       "  <thead>\n",
       "    <tr style=\"text-align: right;\">\n",
       "      <th></th>\n",
       "      <th>0</th>\n",
       "      <th>1</th>\n",
       "      <th>micro avg</th>\n",
       "      <th>macro avg</th>\n",
       "      <th>weighted avg</th>\n",
       "    </tr>\n",
       "  </thead>\n",
       "  <tbody>\n",
       "    <tr>\n",
       "      <th>f1-score</th>\n",
       "      <td>0.701</td>\n",
       "      <td>0.395</td>\n",
       "      <td>0.6</td>\n",
       "      <td>0.548</td>\n",
       "      <td>0.637</td>\n",
       "    </tr>\n",
       "    <tr>\n",
       "      <th>precision</th>\n",
       "      <td>0.856</td>\n",
       "      <td>0.289</td>\n",
       "      <td>0.6</td>\n",
       "      <td>0.573</td>\n",
       "      <td>0.737</td>\n",
       "    </tr>\n",
       "    <tr>\n",
       "      <th>recall</th>\n",
       "      <td>0.593</td>\n",
       "      <td>0.624</td>\n",
       "      <td>0.6</td>\n",
       "      <td>0.609</td>\n",
       "      <td>0.600</td>\n",
       "    </tr>\n",
       "    <tr>\n",
       "      <th>support</th>\n",
       "      <td>5906.000</td>\n",
       "      <td>1564.000</td>\n",
       "      <td>7470.0</td>\n",
       "      <td>7470.000</td>\n",
       "      <td>7470.000</td>\n",
       "    </tr>\n",
       "  </tbody>\n",
       "</table>\n",
       "</div>"
      ],
      "text/plain": [
       "                  0         1  micro avg  macro avg  weighted avg\n",
       "f1-score      0.701     0.395        0.6      0.548         0.637\n",
       "precision     0.856     0.289        0.6      0.573         0.737\n",
       "recall        0.593     0.624        0.6      0.609         0.600\n",
       "support    5906.000  1564.000     7470.0   7470.000      7470.000"
      ]
     },
     "metadata": {},
     "output_type": "display_data"
    },
    {
     "name": "stdout",
     "output_type": "stream",
     "text": [
      "Model Saved on  roc_auc 0.657080601200565\n"
     ]
    },
    {
     "data": {
      "application/vnd.jupyter.widget-view+json": {
       "model_id": "d2871a1eacd54ff5b2bfd7f2099e99c3",
       "version_major": 2,
       "version_minor": 0
      },
      "text/plain": [
       "HBox(children=(IntProgress(value=0, max=16), HTML(value='')))"
      ]
     },
     "metadata": {},
     "output_type": "display_data"
    },
    {
     "data": {
      "application/vnd.jupyter.widget-view+json": {
       "model_id": "a87051fbb94146a8998257cb1fc7d725",
       "version_major": 2,
       "version_minor": 0
      },
      "text/plain": [
       "HBox(children=(IntProgress(value=0, max=234), HTML(value='')))"
      ]
     },
     "metadata": {},
     "output_type": "display_data"
    },
    {
     "name": "stdout",
     "output_type": "stream",
     "text": [
      "{'accuracy': 0.6629183400267737, 'roc_auc': 0.6457969397803438, 'pr_auc': 0.31539470954143295}\n"
     ]
    },
    {
     "data": {
      "text/html": [
       "<div>\n",
       "<style scoped>\n",
       "    .dataframe tbody tr th:only-of-type {\n",
       "        vertical-align: middle;\n",
       "    }\n",
       "\n",
       "    .dataframe tbody tr th {\n",
       "        vertical-align: top;\n",
       "    }\n",
       "\n",
       "    .dataframe thead th {\n",
       "        text-align: right;\n",
       "    }\n",
       "</style>\n",
       "<table border=\"1\" class=\"dataframe\">\n",
       "  <thead>\n",
       "    <tr style=\"text-align: right;\">\n",
       "      <th></th>\n",
       "      <th>0</th>\n",
       "      <th>1</th>\n",
       "      <th>micro avg</th>\n",
       "      <th>macro avg</th>\n",
       "      <th>weighted avg</th>\n",
       "    </tr>\n",
       "  </thead>\n",
       "  <tbody>\n",
       "    <tr>\n",
       "      <th>f1-score</th>\n",
       "      <td>0.769</td>\n",
       "      <td>0.375</td>\n",
       "      <td>0.663</td>\n",
       "      <td>0.572</td>\n",
       "      <td>0.687</td>\n",
       "    </tr>\n",
       "    <tr>\n",
       "      <th>precision</th>\n",
       "      <td>0.838</td>\n",
       "      <td>0.306</td>\n",
       "      <td>0.663</td>\n",
       "      <td>0.572</td>\n",
       "      <td>0.727</td>\n",
       "    </tr>\n",
       "    <tr>\n",
       "      <th>recall</th>\n",
       "      <td>0.711</td>\n",
       "      <td>0.482</td>\n",
       "      <td>0.663</td>\n",
       "      <td>0.596</td>\n",
       "      <td>0.663</td>\n",
       "    </tr>\n",
       "    <tr>\n",
       "      <th>support</th>\n",
       "      <td>5906.000</td>\n",
       "      <td>1564.000</td>\n",
       "      <td>7470.000</td>\n",
       "      <td>7470.000</td>\n",
       "      <td>7470.000</td>\n",
       "    </tr>\n",
       "  </tbody>\n",
       "</table>\n",
       "</div>"
      ],
      "text/plain": [
       "                  0         1  micro avg  macro avg  weighted avg\n",
       "f1-score      0.769     0.375      0.663      0.572         0.687\n",
       "precision     0.838     0.306      0.663      0.572         0.727\n",
       "recall        0.711     0.482      0.663      0.596         0.663\n",
       "support    5906.000  1564.000   7470.000   7470.000      7470.000"
      ]
     },
     "metadata": {},
     "output_type": "display_data"
    },
    {
     "name": "stdout",
     "output_type": "stream",
     "text": [
      "Model not saved on  roc_auc 0.6457969397803438\n"
     ]
    },
    {
     "data": {
      "application/vnd.jupyter.widget-view+json": {
       "model_id": "ace509db7de94ce49107941c59ab8690",
       "version_major": 2,
       "version_minor": 0
      },
      "text/plain": [
       "HBox(children=(IntProgress(value=0, max=16), HTML(value='')))"
      ]
     },
     "metadata": {},
     "output_type": "display_data"
    },
    {
     "data": {
      "application/vnd.jupyter.widget-view+json": {
       "model_id": "6fba1eab988a492da6aa3bf4b7ee1223",
       "version_major": 2,
       "version_minor": 0
      },
      "text/plain": [
       "HBox(children=(IntProgress(value=0, max=234), HTML(value='')))"
      ]
     },
     "metadata": {},
     "output_type": "display_data"
    },
    {
     "name": "stdout",
     "output_type": "stream",
     "text": [
      "{'accuracy': 0.6514056224899598, 'roc_auc': 0.6333865036466447, 'pr_auc': 0.3034318139714666}\n"
     ]
    },
    {
     "data": {
      "text/html": [
       "<div>\n",
       "<style scoped>\n",
       "    .dataframe tbody tr th:only-of-type {\n",
       "        vertical-align: middle;\n",
       "    }\n",
       "\n",
       "    .dataframe tbody tr th {\n",
       "        vertical-align: top;\n",
       "    }\n",
       "\n",
       "    .dataframe thead th {\n",
       "        text-align: right;\n",
       "    }\n",
       "</style>\n",
       "<table border=\"1\" class=\"dataframe\">\n",
       "  <thead>\n",
       "    <tr style=\"text-align: right;\">\n",
       "      <th></th>\n",
       "      <th>0</th>\n",
       "      <th>1</th>\n",
       "      <th>micro avg</th>\n",
       "      <th>macro avg</th>\n",
       "      <th>weighted avg</th>\n",
       "    </tr>\n",
       "  </thead>\n",
       "  <tbody>\n",
       "    <tr>\n",
       "      <th>f1-score</th>\n",
       "      <td>0.759</td>\n",
       "      <td>0.373</td>\n",
       "      <td>0.651</td>\n",
       "      <td>0.566</td>\n",
       "      <td>0.678</td>\n",
       "    </tr>\n",
       "    <tr>\n",
       "      <th>precision</th>\n",
       "      <td>0.838</td>\n",
       "      <td>0.299</td>\n",
       "      <td>0.651</td>\n",
       "      <td>0.569</td>\n",
       "      <td>0.725</td>\n",
       "    </tr>\n",
       "    <tr>\n",
       "      <th>recall</th>\n",
       "      <td>0.693</td>\n",
       "      <td>0.496</td>\n",
       "      <td>0.651</td>\n",
       "      <td>0.594</td>\n",
       "      <td>0.651</td>\n",
       "    </tr>\n",
       "    <tr>\n",
       "      <th>support</th>\n",
       "      <td>5906.000</td>\n",
       "      <td>1564.000</td>\n",
       "      <td>7470.000</td>\n",
       "      <td>7470.000</td>\n",
       "      <td>7470.000</td>\n",
       "    </tr>\n",
       "  </tbody>\n",
       "</table>\n",
       "</div>"
      ],
      "text/plain": [
       "                  0         1  micro avg  macro avg  weighted avg\n",
       "f1-score      0.759     0.373      0.651      0.566         0.678\n",
       "precision     0.838     0.299      0.651      0.569         0.725\n",
       "recall        0.693     0.496      0.651      0.594         0.651\n",
       "support    5906.000  1564.000   7470.000   7470.000      7470.000"
      ]
     },
     "metadata": {},
     "output_type": "display_data"
    },
    {
     "name": "stdout",
     "output_type": "stream",
     "text": [
      "Model not saved on  roc_auc 0.6333865036466447\n"
     ]
    },
    {
     "data": {
      "application/vnd.jupyter.widget-view+json": {
       "model_id": "ff0388764b6c42769527ee2bff4125b9",
       "version_major": 2,
       "version_minor": 0
      },
      "text/plain": [
       "HBox(children=(IntProgress(value=0, max=16), HTML(value='')))"
      ]
     },
     "metadata": {},
     "output_type": "display_data"
    },
    {
     "data": {
      "application/vnd.jupyter.widget-view+json": {
       "model_id": "1340a9f944164774a9e2355b5bfc5a2a",
       "version_major": 2,
       "version_minor": 0
      },
      "text/plain": [
       "HBox(children=(IntProgress(value=0, max=234), HTML(value='')))"
      ]
     },
     "metadata": {},
     "output_type": "display_data"
    }
   ],
   "source": [
    "%run \"Discovery Experiments\"/n_times_pretrained.py --data_dir='.' --output_dir='outputs' --display --n=500"
   ]
  },
  {
   "cell_type": "code",
   "execution_count": null,
   "metadata": {},
   "outputs": [],
   "source": [
    "%run \"Discovery Experiments\"/n_times_pretrained.py --data_dir='.' --output_dir='outputs' --display --n=1000\n",
    "%run \"Discovery Experiments\"/n_times_pretrained.py --data_dir='.' --output_dir='outputs' --display --n=3000\n",
    "%run \"Discovery Experiments\"/n_times_pretrained.py --data_dir='.' --output_dir='outputs' --display --n=5000\n",
    "%run \"Discovery Experiments\"/n_times_pretrained.py --data_dir='.' --output_dir='outputs' --display --n=7000\n",
    "%run \"Discovery Experiments\"/n_times_pretrained.py --data_dir='.' --output_dir='outputs' --display --n=9000"
   ]
  },
  {
   "cell_type": "code",
   "execution_count": null,
   "metadata": {},
   "outputs": [],
   "source": []
  }
 ],
 "metadata": {
  "kernelspec": {
   "display_name": "Python 3",
   "language": "python",
   "name": "python3"
  },
  "language_info": {
   "codemirror_mode": {
    "name": "ipython",
    "version": 3
   },
   "file_extension": ".py",
   "mimetype": "text/x-python",
   "name": "python",
   "nbconvert_exporter": "python",
   "pygments_lexer": "ipython3",
   "version": "3.7.1"
  }
 },
 "nbformat": 4,
 "nbformat_minor": 2
}
