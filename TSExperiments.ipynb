{
 "cells": [
  {
   "cell_type": "code",
   "execution_count": 2,
   "metadata": {},
   "outputs": [
    {
     "name": "stderr",
     "output_type": "stream",
     "text": [
      "INFO - 2019-03-27 19:08:22,191 - Reading Structured data ...\n",
      "INFO - 2019-03-27 19:08:22,339 - Reading Notes ...\n",
      "INFO - 2019-03-27 19:08:23,148 - Stratifying ...\n"
     ]
    },
    {
     "name": "stdout",
     "output_type": "stream",
     "text": [
      "Pos Percentage [0.10839746]\n"
     ]
    },
    {
     "name": "stderr",
     "output_type": "stream",
     "text": [
      "INFO - 2019-03-27 19:08:23,677 - Maximum Sentence Length 585530.000000 , 90 percentile length 22037.000000 ... \n",
      "INFO - 2019-03-27 19:08:25,085 - Truncated all ...\n",
      "INFO - 2019-03-27 19:08:25,095 - Idxs removed []...\n",
      "INFO - 2019-03-27 19:08:25,242 - Maximum Sentence Length 65362.000000 , 90 percentile length 18471.000000 ... \n"
     ]
    },
    {
     "name": "stdout",
     "output_type": "stream",
     "text": [
      "Pos Percentage [0.08990536]\n"
     ]
    },
    {
     "name": "stderr",
     "output_type": "stream",
     "text": [
      "INFO - 2019-03-27 19:08:25,433 - Truncated all ...\n",
      "INFO - 2019-03-27 19:08:25,434 - Idxs removed []...\n",
      "INFO - 2019-03-27 19:08:25,536 - Maximum Sentence Length 109694.000000 , 90 percentile length 19819.000000 ... \n"
     ]
    },
    {
     "name": "stdout",
     "output_type": "stream",
     "text": [
      "Pos Percentage [0.07606973]\n"
     ]
    },
    {
     "name": "stderr",
     "output_type": "stream",
     "text": [
      "INFO - 2019-03-27 19:08:25,694 - Truncated all ...\n",
      "INFO - 2019-03-27 19:08:25,697 - Idxs removed []...\n",
      "INFO - 2019-03-27 19:08:25,784 - instantiating class <class 'PatientVec.models.Model.Model'> from params {'type': 'seq_classifier', 'embedder': {'type': 'token_embedder', 'vocab_size': 19054, 'embed_size': 200, 'embedding_file': './preprocess/HipSurgery/1_yrs/embedding_matrix.npy'}, 'decoder': {'num_layers': 2, 'hidden_dims': [128, 1], 'activations': ['tanh', 'linear']}, 'predictor': {'type': 'binary'}, 'structured': {'use_structured': False}, 'encoder': {'type': 'average', 'projection': True, 'hidden_size': 256, 'activation': 'relu'}} and extras {}\n",
      "INFO - 2019-03-27 19:08:25,784 - type = seq_classifier\n",
      "INFO - 2019-03-27 19:08:25,785 - instantiating class <class 'PatientVec.models.modules.Embedder.Embedder'> from params {'type': 'token_embedder', 'vocab_size': 19054, 'embed_size': 200, 'embedding_file': './preprocess/HipSurgery/1_yrs/embedding_matrix.npy'} and extras {}\n",
      "INFO - 2019-03-27 19:08:25,786 - embedder.type = token_embedder\n",
      "INFO - 2019-03-27 19:08:25,787 - instantiating class <class 'PatientVec.models.modules.Embedder.TokenEmbedder'> from params {'vocab_size': 19054, 'embed_size': 200, 'embedding_file': './preprocess/HipSurgery/1_yrs/embedding_matrix.npy'} and extras {}\n",
      "INFO - 2019-03-27 19:08:25,854 - embedder.vocab_size = 19054\n",
      "INFO - 2019-03-27 19:08:25,854 - embedder.embed_size = 200\n",
      "INFO - 2019-03-27 19:08:25,855 - embedder.embedding_file = ./preprocess/HipSurgery/1_yrs/embedding_matrix.npy\n",
      "INFO - 2019-03-27 19:08:25,876 - instantiating class <class 'PatientVec.models.modules.Encoder.Encoder'> from params {'type': 'average', 'projection': True, 'hidden_size': 256, 'activation': 'relu'} and extras {'input_size': 200}\n",
      "INFO - 2019-03-27 19:08:25,877 - encoder.type = average\n",
      "INFO - 2019-03-27 19:08:25,877 - instantiating class <class 'PatientVec.models.modules.Encoder.AverageEncoder'> from params {'projection': True, 'hidden_size': 256, 'activation': 'relu'} and extras {'input_size': 200}\n",
      "INFO - 2019-03-27 19:08:25,878 - encoder.projection = True\n",
      "INFO - 2019-03-27 19:08:25,879 - encoder.hidden_size = 256\n",
      "INFO - 2019-03-27 19:08:25,879 - encoder.activation = relu\n",
      "INFO - 2019-03-27 19:08:25,881 - decoder.input_dim = 256\n",
      "INFO - 2019-03-27 19:08:25,882 - decoder.num_layers = 2\n",
      "INFO - 2019-03-27 19:08:25,882 - decoder.hidden_dims = [128, 1]\n",
      "INFO - 2019-03-27 19:08:25,883 - decoder.activations = ['tanh', 'linear']\n",
      "INFO - 2019-03-27 19:08:25,884 - decoder.dropout = 0.0\n",
      "INFO - 2019-03-27 19:08:25,886 - instantiating class <class 'PatientVec.models.modules.Predictor.Predictor'> from params {'type': 'binary'} and extras {}\n",
      "INFO - 2019-03-27 19:08:25,887 - predictor.type = binary\n",
      "INFO - 2019-03-27 19:08:25,887 - instantiating class <class 'PatientVec.models.modules.Predictor.Binary_Predictor'> from params {} and extras {}\n",
      "INFO - 2019-03-27 19:08:25,888 - predictor.replicate = False\n",
      "INFO - 2019-03-27 19:08:25,888 - predictor.alpha = 0.5\n"
     ]
    },
    {
     "name": "stdout",
     "output_type": "stream",
     "text": [
      "{'model': {'type': 'seq_classifier', 'embedder': {'type': 'token_embedder', 'vocab_size': 19054, 'embed_size': 200, 'embedding_file': './preprocess/HipSurgery/1_yrs/embedding_matrix.npy'}, 'decoder': {'num_layers': 2, 'hidden_dims': [128, 1], 'activations': ['tanh', 'linear']}, 'predictor': {'type': 'binary'}, 'structured': {'use_structured': False}, 'encoder': {'type': 'average', 'projection': True, 'hidden_size': 256, 'activation': 'relu'}}, 'training_config': {'type': 'Adam', 'groups': [('.*', {'lr': 0.001, 'weight_decay': 1e-05})], 'common': {'bsize': 32, 'class_weight': True}}, 'exp_config': {'exp_name': 'HipSurgery_1/Basic/Average(hs=256)', 'basepath': 'outputs/ts_experiments/n=700'}}\n",
      "Setting Embedding\n"
     ]
    },
    {
     "data": {
      "application/vnd.jupyter.widget-view+json": {
       "model_id": "fe506209187b42c68617b6bfe71e7468",
       "version_major": 2,
       "version_minor": 0
      },
      "text/plain": [
       "HBox(children=(IntProgress(value=0, max=8), HTML(value='')))"
      ]
     },
     "metadata": {},
     "output_type": "display_data"
    },
    {
     "data": {
      "application/vnd.jupyter.widget-view+json": {
       "model_id": "e1a797d136c149cc8006f51c5df026f4",
       "version_major": 2,
       "version_minor": 0
      },
      "text/plain": [
       "HBox(children=(IntProgress(value=0, max=22), HTML(value='')))"
      ]
     },
     "metadata": {},
     "output_type": "display_data"
    },
    {
     "data": {
      "application/vnd.jupyter.widget-view+json": {
       "model_id": "f380221f7c744cc99f0402e11c69c32e",
       "version_major": 2,
       "version_minor": 0
      },
      "text/plain": [
       "HBox(children=(IntProgress(value=0, max=20), HTML(value='')))"
      ]
     },
     "metadata": {},
     "output_type": "display_data"
    },
    {
     "name": "stdout",
     "output_type": "stream",
     "text": [
      "{'accuracy': 0.9085173501577287, 'roc_auc': 0.6953540697497644, 'pr_auc': 0.1834964428520757}\n"
     ]
    },
    {
     "data": {
      "text/html": [
       "<div>\n",
       "<style scoped>\n",
       "    .dataframe tbody tr th:only-of-type {\n",
       "        vertical-align: middle;\n",
       "    }\n",
       "\n",
       "    .dataframe tbody tr th {\n",
       "        vertical-align: top;\n",
       "    }\n",
       "\n",
       "    .dataframe thead th {\n",
       "        text-align: right;\n",
       "    }\n",
       "</style>\n",
       "<table border=\"1\" class=\"dataframe\">\n",
       "  <thead>\n",
       "    <tr style=\"text-align: right;\">\n",
       "      <th></th>\n",
       "      <th>0.0</th>\n",
       "      <th>1.0</th>\n",
       "      <th>micro avg</th>\n",
       "      <th>macro avg</th>\n",
       "      <th>weighted avg</th>\n",
       "    </tr>\n",
       "  </thead>\n",
       "  <tbody>\n",
       "    <tr>\n",
       "      <th>f1-score</th>\n",
       "      <td>0.952</td>\n",
       "      <td>0.033</td>\n",
       "      <td>0.909</td>\n",
       "      <td>0.493</td>\n",
       "      <td>0.869</td>\n",
       "    </tr>\n",
       "    <tr>\n",
       "      <th>precision</th>\n",
       "      <td>0.911</td>\n",
       "      <td>0.333</td>\n",
       "      <td>0.909</td>\n",
       "      <td>0.622</td>\n",
       "      <td>0.859</td>\n",
       "    </tr>\n",
       "    <tr>\n",
       "      <th>recall</th>\n",
       "      <td>0.997</td>\n",
       "      <td>0.018</td>\n",
       "      <td>0.909</td>\n",
       "      <td>0.507</td>\n",
       "      <td>0.909</td>\n",
       "    </tr>\n",
       "    <tr>\n",
       "      <th>support</th>\n",
       "      <td>577.000</td>\n",
       "      <td>57.000</td>\n",
       "      <td>634.000</td>\n",
       "      <td>634.000</td>\n",
       "      <td>634.000</td>\n",
       "    </tr>\n",
       "  </tbody>\n",
       "</table>\n",
       "</div>"
      ],
      "text/plain": [
       "               0.0     1.0  micro avg  macro avg  weighted avg\n",
       "f1-score     0.952   0.033      0.909      0.493         0.869\n",
       "precision    0.911   0.333      0.909      0.622         0.859\n",
       "recall       0.997   0.018      0.909      0.507         0.909\n",
       "support    577.000  57.000    634.000    634.000       634.000"
      ]
     },
     "metadata": {},
     "output_type": "display_data"
    },
    {
     "name": "stdout",
     "output_type": "stream",
     "text": [
      "Model Saved on  roc_auc 0.6953540697497644\n"
     ]
    },
    {
     "data": {
      "application/vnd.jupyter.widget-view+json": {
       "model_id": "b3e82bc728584879b55ed84f2c9d8e24",
       "version_major": 2,
       "version_minor": 0
      },
      "text/plain": [
       "HBox(children=(IntProgress(value=0, max=22), HTML(value='')))"
      ]
     },
     "metadata": {},
     "output_type": "display_data"
    },
    {
     "data": {
      "application/vnd.jupyter.widget-view+json": {
       "model_id": "df890b82aa564abf9156180faf6027f1",
       "version_major": 2,
       "version_minor": 0
      },
      "text/plain": [
       "HBox(children=(IntProgress(value=0, max=20), HTML(value='')))"
      ]
     },
     "metadata": {},
     "output_type": "display_data"
    },
    {
     "name": "stdout",
     "output_type": "stream",
     "text": [
      "{'accuracy': 0.9069400630914827, 'roc_auc': 0.6867949770439965, 'pr_auc': 0.15420686587654062}\n"
     ]
    },
    {
     "data": {
      "text/html": [
       "<div>\n",
       "<style scoped>\n",
       "    .dataframe tbody tr th:only-of-type {\n",
       "        vertical-align: middle;\n",
       "    }\n",
       "\n",
       "    .dataframe tbody tr th {\n",
       "        vertical-align: top;\n",
       "    }\n",
       "\n",
       "    .dataframe thead th {\n",
       "        text-align: right;\n",
       "    }\n",
       "</style>\n",
       "<table border=\"1\" class=\"dataframe\">\n",
       "  <thead>\n",
       "    <tr style=\"text-align: right;\">\n",
       "      <th></th>\n",
       "      <th>0.0</th>\n",
       "      <th>1.0</th>\n",
       "      <th>micro avg</th>\n",
       "      <th>macro avg</th>\n",
       "      <th>weighted avg</th>\n",
       "    </tr>\n",
       "  </thead>\n",
       "  <tbody>\n",
       "    <tr>\n",
       "      <th>f1-score</th>\n",
       "      <td>0.951</td>\n",
       "      <td>0.0</td>\n",
       "      <td>0.907</td>\n",
       "      <td>0.476</td>\n",
       "      <td>0.866</td>\n",
       "    </tr>\n",
       "    <tr>\n",
       "      <th>precision</th>\n",
       "      <td>0.910</td>\n",
       "      <td>0.0</td>\n",
       "      <td>0.907</td>\n",
       "      <td>0.455</td>\n",
       "      <td>0.828</td>\n",
       "    </tr>\n",
       "    <tr>\n",
       "      <th>recall</th>\n",
       "      <td>0.997</td>\n",
       "      <td>0.0</td>\n",
       "      <td>0.907</td>\n",
       "      <td>0.498</td>\n",
       "      <td>0.907</td>\n",
       "    </tr>\n",
       "    <tr>\n",
       "      <th>support</th>\n",
       "      <td>577.000</td>\n",
       "      <td>57.0</td>\n",
       "      <td>634.000</td>\n",
       "      <td>634.000</td>\n",
       "      <td>634.000</td>\n",
       "    </tr>\n",
       "  </tbody>\n",
       "</table>\n",
       "</div>"
      ],
      "text/plain": [
       "               0.0   1.0  micro avg  macro avg  weighted avg\n",
       "f1-score     0.951   0.0      0.907      0.476         0.866\n",
       "precision    0.910   0.0      0.907      0.455         0.828\n",
       "recall       0.997   0.0      0.907      0.498         0.907\n",
       "support    577.000  57.0    634.000    634.000       634.000"
      ]
     },
     "metadata": {},
     "output_type": "display_data"
    },
    {
     "name": "stdout",
     "output_type": "stream",
     "text": [
      "Model not saved on  roc_auc 0.6867949770439965\n"
     ]
    },
    {
     "data": {
      "application/vnd.jupyter.widget-view+json": {
       "model_id": "fb2abc243b4440c7872ee6125a33af26",
       "version_major": 2,
       "version_minor": 0
      },
      "text/plain": [
       "HBox(children=(IntProgress(value=0, max=22), HTML(value='')))"
      ]
     },
     "metadata": {},
     "output_type": "display_data"
    },
    {
     "data": {
      "application/vnd.jupyter.widget-view+json": {
       "model_id": "e802fc26f2994123b8a7c9327c1ab9f1",
       "version_major": 2,
       "version_minor": 0
      },
      "text/plain": [
       "HBox(children=(IntProgress(value=0, max=20), HTML(value='')))"
      ]
     },
     "metadata": {},
     "output_type": "display_data"
    },
    {
     "name": "stdout",
     "output_type": "stream",
     "text": [
      "{'accuracy': 0.7634069400630915, 'roc_auc': 0.685426738423181, 'pr_auc': 0.17321235172916566}\n"
     ]
    },
    {
     "data": {
      "text/html": [
       "<div>\n",
       "<style scoped>\n",
       "    .dataframe tbody tr th:only-of-type {\n",
       "        vertical-align: middle;\n",
       "    }\n",
       "\n",
       "    .dataframe tbody tr th {\n",
       "        vertical-align: top;\n",
       "    }\n",
       "\n",
       "    .dataframe thead th {\n",
       "        text-align: right;\n",
       "    }\n",
       "</style>\n",
       "<table border=\"1\" class=\"dataframe\">\n",
       "  <thead>\n",
       "    <tr style=\"text-align: right;\">\n",
       "      <th></th>\n",
       "      <th>0.0</th>\n",
       "      <th>1.0</th>\n",
       "      <th>micro avg</th>\n",
       "      <th>macro avg</th>\n",
       "      <th>weighted avg</th>\n",
       "    </tr>\n",
       "  </thead>\n",
       "  <tbody>\n",
       "    <tr>\n",
       "      <th>f1-score</th>\n",
       "      <td>0.860</td>\n",
       "      <td>0.227</td>\n",
       "      <td>0.763</td>\n",
       "      <td>0.544</td>\n",
       "      <td>0.803</td>\n",
       "    </tr>\n",
       "    <tr>\n",
       "      <th>precision</th>\n",
       "      <td>0.930</td>\n",
       "      <td>0.161</td>\n",
       "      <td>0.763</td>\n",
       "      <td>0.545</td>\n",
       "      <td>0.860</td>\n",
       "    </tr>\n",
       "    <tr>\n",
       "      <th>recall</th>\n",
       "      <td>0.801</td>\n",
       "      <td>0.386</td>\n",
       "      <td>0.763</td>\n",
       "      <td>0.593</td>\n",
       "      <td>0.763</td>\n",
       "    </tr>\n",
       "    <tr>\n",
       "      <th>support</th>\n",
       "      <td>577.000</td>\n",
       "      <td>57.000</td>\n",
       "      <td>634.000</td>\n",
       "      <td>634.000</td>\n",
       "      <td>634.000</td>\n",
       "    </tr>\n",
       "  </tbody>\n",
       "</table>\n",
       "</div>"
      ],
      "text/plain": [
       "               0.0     1.0  micro avg  macro avg  weighted avg\n",
       "f1-score     0.860   0.227      0.763      0.544         0.803\n",
       "precision    0.930   0.161      0.763      0.545         0.860\n",
       "recall       0.801   0.386      0.763      0.593         0.763\n",
       "support    577.000  57.000    634.000    634.000       634.000"
      ]
     },
     "metadata": {},
     "output_type": "display_data"
    },
    {
     "name": "stdout",
     "output_type": "stream",
     "text": [
      "Model not saved on  roc_auc 0.685426738423181\n"
     ]
    },
    {
     "data": {
      "application/vnd.jupyter.widget-view+json": {
       "model_id": "f7055a9d8d8644f7b806552f89887c60",
       "version_major": 2,
       "version_minor": 0
      },
      "text/plain": [
       "HBox(children=(IntProgress(value=0, max=22), HTML(value='')))"
      ]
     },
     "metadata": {},
     "output_type": "display_data"
    },
    {
     "data": {
      "application/vnd.jupyter.widget-view+json": {
       "model_id": "1fdea9957bcb4df4b80292f176550870",
       "version_major": 2,
       "version_minor": 0
      },
      "text/plain": [
       "HBox(children=(IntProgress(value=0, max=20), HTML(value='')))"
      ]
     },
     "metadata": {},
     "output_type": "display_data"
    },
    {
     "name": "stdout",
     "output_type": "stream",
     "text": [
      "{'accuracy': 0.9100946372239748, 'roc_auc': 0.709340508984767, 'pr_auc': 0.23662092031762127}\n"
     ]
    },
    {
     "name": "stderr",
     "output_type": "stream",
     "text": [
      "/home/sarthak/anaconda3/lib/python3.7/site-packages/sklearn/metrics/classification.py:1143: UndefinedMetricWarning: Precision and F-score are ill-defined and being set to 0.0 in labels with no predicted samples.\n",
      "  'precision', 'predicted', average, warn_for)\n"
     ]
    },
    {
     "data": {
      "text/html": [
       "<div>\n",
       "<style scoped>\n",
       "    .dataframe tbody tr th:only-of-type {\n",
       "        vertical-align: middle;\n",
       "    }\n",
       "\n",
       "    .dataframe tbody tr th {\n",
       "        vertical-align: top;\n",
       "    }\n",
       "\n",
       "    .dataframe thead th {\n",
       "        text-align: right;\n",
       "    }\n",
       "</style>\n",
       "<table border=\"1\" class=\"dataframe\">\n",
       "  <thead>\n",
       "    <tr style=\"text-align: right;\">\n",
       "      <th></th>\n",
       "      <th>0.0</th>\n",
       "      <th>1.0</th>\n",
       "      <th>micro avg</th>\n",
       "      <th>macro avg</th>\n",
       "      <th>weighted avg</th>\n",
       "    </tr>\n",
       "  </thead>\n",
       "  <tbody>\n",
       "    <tr>\n",
       "      <th>f1-score</th>\n",
       "      <td>0.953</td>\n",
       "      <td>0.0</td>\n",
       "      <td>0.91</td>\n",
       "      <td>0.476</td>\n",
       "      <td>0.867</td>\n",
       "    </tr>\n",
       "    <tr>\n",
       "      <th>precision</th>\n",
       "      <td>0.910</td>\n",
       "      <td>0.0</td>\n",
       "      <td>0.91</td>\n",
       "      <td>0.455</td>\n",
       "      <td>0.828</td>\n",
       "    </tr>\n",
       "    <tr>\n",
       "      <th>recall</th>\n",
       "      <td>1.000</td>\n",
       "      <td>0.0</td>\n",
       "      <td>0.91</td>\n",
       "      <td>0.500</td>\n",
       "      <td>0.910</td>\n",
       "    </tr>\n",
       "    <tr>\n",
       "      <th>support</th>\n",
       "      <td>577.000</td>\n",
       "      <td>57.0</td>\n",
       "      <td>634.00</td>\n",
       "      <td>634.000</td>\n",
       "      <td>634.000</td>\n",
       "    </tr>\n",
       "  </tbody>\n",
       "</table>\n",
       "</div>"
      ],
      "text/plain": [
       "               0.0   1.0  micro avg  macro avg  weighted avg\n",
       "f1-score     0.953   0.0       0.91      0.476         0.867\n",
       "precision    0.910   0.0       0.91      0.455         0.828\n",
       "recall       1.000   0.0       0.91      0.500         0.910\n",
       "support    577.000  57.0     634.00    634.000       634.000"
      ]
     },
     "metadata": {},
     "output_type": "display_data"
    },
    {
     "name": "stdout",
     "output_type": "stream",
     "text": [
      "Model Saved on  roc_auc 0.709340508984767\n"
     ]
    },
    {
     "data": {
      "application/vnd.jupyter.widget-view+json": {
       "model_id": "b53407c52cc5477aa4de93475fe5a609",
       "version_major": 2,
       "version_minor": 0
      },
      "text/plain": [
       "HBox(children=(IntProgress(value=0, max=22), HTML(value='')))"
      ]
     },
     "metadata": {},
     "output_type": "display_data"
    },
    {
     "data": {
      "application/vnd.jupyter.widget-view+json": {
       "model_id": "9044eb713b1348ca89e5d3dcef62c238",
       "version_major": 2,
       "version_minor": 0
      },
      "text/plain": [
       "HBox(children=(IntProgress(value=0, max=20), HTML(value='')))"
      ]
     },
     "metadata": {},
     "output_type": "display_data"
    },
    {
     "name": "stdout",
     "output_type": "stream",
     "text": [
      "{'accuracy': 0.7807570977917981, 'roc_auc': 0.7184012891848338, 'pr_auc': 0.25237581759939476}\n"
     ]
    },
    {
     "data": {
      "text/html": [
       "<div>\n",
       "<style scoped>\n",
       "    .dataframe tbody tr th:only-of-type {\n",
       "        vertical-align: middle;\n",
       "    }\n",
       "\n",
       "    .dataframe tbody tr th {\n",
       "        vertical-align: top;\n",
       "    }\n",
       "\n",
       "    .dataframe thead th {\n",
       "        text-align: right;\n",
       "    }\n",
       "</style>\n",
       "<table border=\"1\" class=\"dataframe\">\n",
       "  <thead>\n",
       "    <tr style=\"text-align: right;\">\n",
       "      <th></th>\n",
       "      <th>0.0</th>\n",
       "      <th>1.0</th>\n",
       "      <th>micro avg</th>\n",
       "      <th>macro avg</th>\n",
       "      <th>weighted avg</th>\n",
       "    </tr>\n",
       "  </thead>\n",
       "  <tbody>\n",
       "    <tr>\n",
       "      <th>f1-score</th>\n",
       "      <td>0.871</td>\n",
       "      <td>0.280</td>\n",
       "      <td>0.781</td>\n",
       "      <td>0.575</td>\n",
       "      <td>0.818</td>\n",
       "    </tr>\n",
       "    <tr>\n",
       "      <th>precision</th>\n",
       "      <td>0.940</td>\n",
       "      <td>0.199</td>\n",
       "      <td>0.781</td>\n",
       "      <td>0.569</td>\n",
       "      <td>0.873</td>\n",
       "    </tr>\n",
       "    <tr>\n",
       "      <th>recall</th>\n",
       "      <td>0.811</td>\n",
       "      <td>0.474</td>\n",
       "      <td>0.781</td>\n",
       "      <td>0.642</td>\n",
       "      <td>0.781</td>\n",
       "    </tr>\n",
       "    <tr>\n",
       "      <th>support</th>\n",
       "      <td>577.000</td>\n",
       "      <td>57.000</td>\n",
       "      <td>634.000</td>\n",
       "      <td>634.000</td>\n",
       "      <td>634.000</td>\n",
       "    </tr>\n",
       "  </tbody>\n",
       "</table>\n",
       "</div>"
      ],
      "text/plain": [
       "               0.0     1.0  micro avg  macro avg  weighted avg\n",
       "f1-score     0.871   0.280      0.781      0.575         0.818\n",
       "precision    0.940   0.199      0.781      0.569         0.873\n",
       "recall       0.811   0.474      0.781      0.642         0.781\n",
       "support    577.000  57.000    634.000    634.000       634.000"
      ]
     },
     "metadata": {},
     "output_type": "display_data"
    },
    {
     "name": "stdout",
     "output_type": "stream",
     "text": [
      "Model Saved on  roc_auc 0.7184012891848338\n"
     ]
    },
    {
     "data": {
      "application/vnd.jupyter.widget-view+json": {
       "model_id": "2f933db9ead34269bfd011904f7a48bf",
       "version_major": 2,
       "version_minor": 0
      },
      "text/plain": [
       "HBox(children=(IntProgress(value=0, max=22), HTML(value='')))"
      ]
     },
     "metadata": {},
     "output_type": "display_data"
    },
    {
     "data": {
      "application/vnd.jupyter.widget-view+json": {
       "model_id": "3ae42baac805459d9d24f254892a9f27",
       "version_major": 2,
       "version_minor": 0
      },
      "text/plain": [
       "HBox(children=(IntProgress(value=0, max=20), HTML(value='')))"
      ]
     },
     "metadata": {},
     "output_type": "display_data"
    },
    {
     "name": "stdout",
     "output_type": "stream",
     "text": [
      "{'accuracy': 0.9100946372239748, 'roc_auc': 0.6932256985618291, 'pr_auc': 0.27498032349077}\n"
     ]
    },
    {
     "data": {
      "text/html": [
       "<div>\n",
       "<style scoped>\n",
       "    .dataframe tbody tr th:only-of-type {\n",
       "        vertical-align: middle;\n",
       "    }\n",
       "\n",
       "    .dataframe tbody tr th {\n",
       "        vertical-align: top;\n",
       "    }\n",
       "\n",
       "    .dataframe thead th {\n",
       "        text-align: right;\n",
       "    }\n",
       "</style>\n",
       "<table border=\"1\" class=\"dataframe\">\n",
       "  <thead>\n",
       "    <tr style=\"text-align: right;\">\n",
       "      <th></th>\n",
       "      <th>0.0</th>\n",
       "      <th>1.0</th>\n",
       "      <th>micro avg</th>\n",
       "      <th>macro avg</th>\n",
       "      <th>weighted avg</th>\n",
       "    </tr>\n",
       "  </thead>\n",
       "  <tbody>\n",
       "    <tr>\n",
       "      <th>f1-score</th>\n",
       "      <td>0.953</td>\n",
       "      <td>0.0</td>\n",
       "      <td>0.91</td>\n",
       "      <td>0.476</td>\n",
       "      <td>0.867</td>\n",
       "    </tr>\n",
       "    <tr>\n",
       "      <th>precision</th>\n",
       "      <td>0.910</td>\n",
       "      <td>0.0</td>\n",
       "      <td>0.91</td>\n",
       "      <td>0.455</td>\n",
       "      <td>0.828</td>\n",
       "    </tr>\n",
       "    <tr>\n",
       "      <th>recall</th>\n",
       "      <td>1.000</td>\n",
       "      <td>0.0</td>\n",
       "      <td>0.91</td>\n",
       "      <td>0.500</td>\n",
       "      <td>0.910</td>\n",
       "    </tr>\n",
       "    <tr>\n",
       "      <th>support</th>\n",
       "      <td>577.000</td>\n",
       "      <td>57.0</td>\n",
       "      <td>634.00</td>\n",
       "      <td>634.000</td>\n",
       "      <td>634.000</td>\n",
       "    </tr>\n",
       "  </tbody>\n",
       "</table>\n",
       "</div>"
      ],
      "text/plain": [
       "               0.0   1.0  micro avg  macro avg  weighted avg\n",
       "f1-score     0.953   0.0       0.91      0.476         0.867\n",
       "precision    0.910   0.0       0.91      0.455         0.828\n",
       "recall       1.000   0.0       0.91      0.500         0.910\n",
       "support    577.000  57.0     634.00    634.000       634.000"
      ]
     },
     "metadata": {},
     "output_type": "display_data"
    },
    {
     "name": "stdout",
     "output_type": "stream",
     "text": [
      "Model not saved on  roc_auc 0.6932256985618291\n"
     ]
    },
    {
     "data": {
      "application/vnd.jupyter.widget-view+json": {
       "model_id": "03d5d039eb7340e98bc4fd5583b4f5f2",
       "version_major": 2,
       "version_minor": 0
      },
      "text/plain": [
       "HBox(children=(IntProgress(value=0, max=22), HTML(value='')))"
      ]
     },
     "metadata": {},
     "output_type": "display_data"
    },
    {
     "data": {
      "application/vnd.jupyter.widget-view+json": {
       "model_id": "01a118abe55c443dadff47eb20e002e7",
       "version_major": 2,
       "version_minor": 0
      },
      "text/plain": [
       "HBox(children=(IntProgress(value=0, max=20), HTML(value='')))"
      ]
     },
     "metadata": {},
     "output_type": "display_data"
    },
    {
     "name": "stdout",
     "output_type": "stream",
     "text": [
      "{'accuracy': 0.7066246056782335, 'roc_auc': 0.7442153911642191, 'pr_auc': 0.2947920760600955}\n"
     ]
    },
    {
     "data": {
      "text/html": [
       "<div>\n",
       "<style scoped>\n",
       "    .dataframe tbody tr th:only-of-type {\n",
       "        vertical-align: middle;\n",
       "    }\n",
       "\n",
       "    .dataframe tbody tr th {\n",
       "        vertical-align: top;\n",
       "    }\n",
       "\n",
       "    .dataframe thead th {\n",
       "        text-align: right;\n",
       "    }\n",
       "</style>\n",
       "<table border=\"1\" class=\"dataframe\">\n",
       "  <thead>\n",
       "    <tr style=\"text-align: right;\">\n",
       "      <th></th>\n",
       "      <th>0.0</th>\n",
       "      <th>1.0</th>\n",
       "      <th>micro avg</th>\n",
       "      <th>macro avg</th>\n",
       "      <th>weighted avg</th>\n",
       "    </tr>\n",
       "  </thead>\n",
       "  <tbody>\n",
       "    <tr>\n",
       "      <th>f1-score</th>\n",
       "      <td>0.814</td>\n",
       "      <td>0.311</td>\n",
       "      <td>0.707</td>\n",
       "      <td>0.562</td>\n",
       "      <td>0.768</td>\n",
       "    </tr>\n",
       "    <tr>\n",
       "      <th>precision</th>\n",
       "      <td>0.964</td>\n",
       "      <td>0.197</td>\n",
       "      <td>0.707</td>\n",
       "      <td>0.581</td>\n",
       "      <td>0.895</td>\n",
       "    </tr>\n",
       "    <tr>\n",
       "      <th>recall</th>\n",
       "      <td>0.704</td>\n",
       "      <td>0.737</td>\n",
       "      <td>0.707</td>\n",
       "      <td>0.720</td>\n",
       "      <td>0.707</td>\n",
       "    </tr>\n",
       "    <tr>\n",
       "      <th>support</th>\n",
       "      <td>577.000</td>\n",
       "      <td>57.000</td>\n",
       "      <td>634.000</td>\n",
       "      <td>634.000</td>\n",
       "      <td>634.000</td>\n",
       "    </tr>\n",
       "  </tbody>\n",
       "</table>\n",
       "</div>"
      ],
      "text/plain": [
       "               0.0     1.0  micro avg  macro avg  weighted avg\n",
       "f1-score     0.814   0.311      0.707      0.562         0.768\n",
       "precision    0.964   0.197      0.707      0.581         0.895\n",
       "recall       0.704   0.737      0.707      0.720         0.707\n",
       "support    577.000  57.000    634.000    634.000       634.000"
      ]
     },
     "metadata": {},
     "output_type": "display_data"
    },
    {
     "name": "stdout",
     "output_type": "stream",
     "text": [
      "Model Saved on  roc_auc 0.7442153911642191\n"
     ]
    },
    {
     "data": {
      "application/vnd.jupyter.widget-view+json": {
       "model_id": "6b91b54bc9684a17a3afae8917626df7",
       "version_major": 2,
       "version_minor": 0
      },
      "text/plain": [
       "HBox(children=(IntProgress(value=0, max=22), HTML(value='')))"
      ]
     },
     "metadata": {},
     "output_type": "display_data"
    },
    {
     "data": {
      "application/vnd.jupyter.widget-view+json": {
       "model_id": "73488d131cb24d049d42b12d8365c89f",
       "version_major": 2,
       "version_minor": 0
      },
      "text/plain": [
       "HBox(children=(IntProgress(value=0, max=20), HTML(value='')))"
      ]
     },
     "metadata": {},
     "output_type": "display_data"
    },
    {
     "name": "stdout",
     "output_type": "stream",
     "text": [
      "{'accuracy': 0.7586750788643533, 'roc_auc': 0.7639788379093314, 'pr_auc': 0.31357996818689843}\n"
     ]
    },
    {
     "data": {
      "text/html": [
       "<div>\n",
       "<style scoped>\n",
       "    .dataframe tbody tr th:only-of-type {\n",
       "        vertical-align: middle;\n",
       "    }\n",
       "\n",
       "    .dataframe tbody tr th {\n",
       "        vertical-align: top;\n",
       "    }\n",
       "\n",
       "    .dataframe thead th {\n",
       "        text-align: right;\n",
       "    }\n",
       "</style>\n",
       "<table border=\"1\" class=\"dataframe\">\n",
       "  <thead>\n",
       "    <tr style=\"text-align: right;\">\n",
       "      <th></th>\n",
       "      <th>0.0</th>\n",
       "      <th>1.0</th>\n",
       "      <th>micro avg</th>\n",
       "      <th>macro avg</th>\n",
       "      <th>weighted avg</th>\n",
       "    </tr>\n",
       "  </thead>\n",
       "  <tbody>\n",
       "    <tr>\n",
       "      <th>f1-score</th>\n",
       "      <td>0.853</td>\n",
       "      <td>0.332</td>\n",
       "      <td>0.759</td>\n",
       "      <td>0.592</td>\n",
       "      <td>0.806</td>\n",
       "    </tr>\n",
       "    <tr>\n",
       "      <th>precision</th>\n",
       "      <td>0.959</td>\n",
       "      <td>0.221</td>\n",
       "      <td>0.759</td>\n",
       "      <td>0.590</td>\n",
       "      <td>0.893</td>\n",
       "    </tr>\n",
       "    <tr>\n",
       "      <th>recall</th>\n",
       "      <td>0.768</td>\n",
       "      <td>0.667</td>\n",
       "      <td>0.759</td>\n",
       "      <td>0.717</td>\n",
       "      <td>0.759</td>\n",
       "    </tr>\n",
       "    <tr>\n",
       "      <th>support</th>\n",
       "      <td>577.000</td>\n",
       "      <td>57.000</td>\n",
       "      <td>634.000</td>\n",
       "      <td>634.000</td>\n",
       "      <td>634.000</td>\n",
       "    </tr>\n",
       "  </tbody>\n",
       "</table>\n",
       "</div>"
      ],
      "text/plain": [
       "               0.0     1.0  micro avg  macro avg  weighted avg\n",
       "f1-score     0.853   0.332      0.759      0.592         0.806\n",
       "precision    0.959   0.221      0.759      0.590         0.893\n",
       "recall       0.768   0.667      0.759      0.717         0.759\n",
       "support    577.000  57.000    634.000    634.000       634.000"
      ]
     },
     "metadata": {},
     "output_type": "display_data"
    },
    {
     "name": "stderr",
     "output_type": "stream",
     "text": [
      "INFO - 2019-03-27 19:09:06,897 - instantiating class <class 'PatientVec.models.Model.Model'> from params {'type': 'seq_classifier', 'embedder': {'type': 'token_embedder', 'vocab_size': 19054, 'embed_size': 200, 'embedding_file': './preprocess/HipSurgery/1_yrs/embedding_matrix.npy'}, 'decoder': {'num_layers': 2, 'hidden_dims': [128, 1], 'activations': ['tanh', 'linear']}, 'predictor': {'type': 'binary'}, 'structured': {'use_structured': False}, 'encoder': {'type': 'average', 'projection': True, 'hidden_size': 256, 'activation': 'relu'}} and extras {}\n",
      "INFO - 2019-03-27 19:09:06,898 - type = seq_classifier\n",
      "INFO - 2019-03-27 19:09:06,899 - instantiating class <class 'PatientVec.models.modules.Embedder.Embedder'> from params {'type': 'token_embedder', 'vocab_size': 19054, 'embed_size': 200, 'embedding_file': './preprocess/HipSurgery/1_yrs/embedding_matrix.npy'} and extras {}\n",
      "INFO - 2019-03-27 19:09:06,899 - embedder.type = token_embedder\n",
      "INFO - 2019-03-27 19:09:06,900 - instantiating class <class 'PatientVec.models.modules.Embedder.TokenEmbedder'> from params {'vocab_size': 19054, 'embed_size': 200, 'embedding_file': './preprocess/HipSurgery/1_yrs/embedding_matrix.npy'} and extras {}\n",
      "INFO - 2019-03-27 19:09:06,900 - embedder.vocab_size = 19054\n",
      "INFO - 2019-03-27 19:09:06,901 - embedder.embed_size = 200\n",
      "INFO - 2019-03-27 19:09:06,901 - embedder.embedding_file = ./preprocess/HipSurgery/1_yrs/embedding_matrix.npy\n"
     ]
    },
    {
     "name": "stdout",
     "output_type": "stream",
     "text": [
      "Model Saved on  roc_auc 0.7639788379093314\n",
      "\n"
     ]
    },
    {
     "name": "stderr",
     "output_type": "stream",
     "text": [
      "INFO - 2019-03-27 19:09:06,925 - instantiating class <class 'PatientVec.models.modules.Encoder.Encoder'> from params {'type': 'average', 'projection': True, 'hidden_size': 256, 'activation': 'relu'} and extras {'input_size': 200}\n",
      "INFO - 2019-03-27 19:09:06,925 - encoder.type = average\n",
      "INFO - 2019-03-27 19:09:06,926 - instantiating class <class 'PatientVec.models.modules.Encoder.AverageEncoder'> from params {'projection': True, 'hidden_size': 256, 'activation': 'relu'} and extras {'input_size': 200}\n"
     ]
    },
    {
     "name": "stdout",
     "output_type": "stream",
     "text": [
      "Setting Embedding\n"
     ]
    },
    {
     "name": "stderr",
     "output_type": "stream",
     "text": [
      "INFO - 2019-03-27 19:09:06,926 - encoder.projection = True\n",
      "INFO - 2019-03-27 19:09:06,927 - encoder.hidden_size = 256\n",
      "INFO - 2019-03-27 19:09:06,927 - encoder.activation = relu\n",
      "INFO - 2019-03-27 19:09:06,930 - decoder.input_dim = 256\n",
      "INFO - 2019-03-27 19:09:06,931 - decoder.num_layers = 2\n",
      "INFO - 2019-03-27 19:09:06,931 - decoder.hidden_dims = [128, 1]\n",
      "INFO - 2019-03-27 19:09:06,932 - decoder.activations = ['tanh', 'linear']\n",
      "INFO - 2019-03-27 19:09:06,932 - decoder.dropout = 0.0\n",
      "INFO - 2019-03-27 19:09:06,935 - instantiating class <class 'PatientVec.models.modules.Predictor.Predictor'> from params {'type': 'binary'} and extras {}\n",
      "INFO - 2019-03-27 19:09:06,935 - predictor.type = binary\n",
      "INFO - 2019-03-27 19:09:06,935 - instantiating class <class 'PatientVec.models.modules.Predictor.Binary_Predictor'> from params {} and extras {}\n",
      "INFO - 2019-03-27 19:09:06,936 - predictor.replicate = False\n",
      "INFO - 2019-03-27 19:09:06,936 - predictor.alpha = 0.5\n"
     ]
    },
    {
     "data": {
      "application/vnd.jupyter.widget-view+json": {
       "model_id": "c3e39df9f28044f8a32131dc89d02083",
       "version_major": 2,
       "version_minor": 0
      },
      "text/plain": [
       "HBox(children=(IntProgress(value=0, max=20), HTML(value='')))"
      ]
     },
     "metadata": {},
     "output_type": "display_data"
    },
    {
     "name": "stdout",
     "output_type": "stream",
     "text": [
      "\n",
      "{'accuracy': 0.7586750788643533, 'roc_auc': 0.7639788379093314, 'pr_auc': 0.31357996818689843}\n"
     ]
    },
    {
     "data": {
      "text/html": [
       "<div>\n",
       "<style scoped>\n",
       "    .dataframe tbody tr th:only-of-type {\n",
       "        vertical-align: middle;\n",
       "    }\n",
       "\n",
       "    .dataframe tbody tr th {\n",
       "        vertical-align: top;\n",
       "    }\n",
       "\n",
       "    .dataframe thead th {\n",
       "        text-align: right;\n",
       "    }\n",
       "</style>\n",
       "<table border=\"1\" class=\"dataframe\">\n",
       "  <thead>\n",
       "    <tr style=\"text-align: right;\">\n",
       "      <th></th>\n",
       "      <th>0.0</th>\n",
       "      <th>1.0</th>\n",
       "      <th>micro avg</th>\n",
       "      <th>macro avg</th>\n",
       "      <th>weighted avg</th>\n",
       "    </tr>\n",
       "  </thead>\n",
       "  <tbody>\n",
       "    <tr>\n",
       "      <th>f1-score</th>\n",
       "      <td>0.853</td>\n",
       "      <td>0.332</td>\n",
       "      <td>0.759</td>\n",
       "      <td>0.592</td>\n",
       "      <td>0.806</td>\n",
       "    </tr>\n",
       "    <tr>\n",
       "      <th>precision</th>\n",
       "      <td>0.959</td>\n",
       "      <td>0.221</td>\n",
       "      <td>0.759</td>\n",
       "      <td>0.590</td>\n",
       "      <td>0.893</td>\n",
       "    </tr>\n",
       "    <tr>\n",
       "      <th>recall</th>\n",
       "      <td>0.768</td>\n",
       "      <td>0.667</td>\n",
       "      <td>0.759</td>\n",
       "      <td>0.717</td>\n",
       "      <td>0.759</td>\n",
       "    </tr>\n",
       "    <tr>\n",
       "      <th>support</th>\n",
       "      <td>577.000</td>\n",
       "      <td>57.000</td>\n",
       "      <td>634.000</td>\n",
       "      <td>634.000</td>\n",
       "      <td>634.000</td>\n",
       "    </tr>\n",
       "  </tbody>\n",
       "</table>\n",
       "</div>"
      ],
      "text/plain": [
       "               0.0     1.0  micro avg  macro avg  weighted avg\n",
       "f1-score     0.853   0.332      0.759      0.592         0.806\n",
       "precision    0.959   0.221      0.759      0.590         0.893\n",
       "recall       0.768   0.667      0.759      0.717         0.759\n",
       "support    577.000  57.000    634.000    634.000       634.000"
      ]
     },
     "metadata": {},
     "output_type": "display_data"
    },
    {
     "data": {
      "application/vnd.jupyter.widget-view+json": {
       "model_id": "90cd12b0825d4f42b2c95ae1157d16fa",
       "version_major": 2,
       "version_minor": 0
      },
      "text/plain": [
       "HBox(children=(IntProgress(value=0, max=20), HTML(value='')))"
      ]
     },
     "metadata": {},
     "output_type": "display_data"
    },
    {
     "name": "stdout",
     "output_type": "stream",
     "text": [
      "\n",
      "{'accuracy': 0.7131537242472267, 'roc_auc': 0.6931282161234992, 'pr_auc': 0.13406182459217797}\n"
     ]
    },
    {
     "data": {
      "text/html": [
       "<div>\n",
       "<style scoped>\n",
       "    .dataframe tbody tr th:only-of-type {\n",
       "        vertical-align: middle;\n",
       "    }\n",
       "\n",
       "    .dataframe tbody tr th {\n",
       "        vertical-align: top;\n",
       "    }\n",
       "\n",
       "    .dataframe thead th {\n",
       "        text-align: right;\n",
       "    }\n",
       "</style>\n",
       "<table border=\"1\" class=\"dataframe\">\n",
       "  <thead>\n",
       "    <tr style=\"text-align: right;\">\n",
       "      <th></th>\n",
       "      <th>0.0</th>\n",
       "      <th>1.0</th>\n",
       "      <th>micro avg</th>\n",
       "      <th>macro avg</th>\n",
       "      <th>weighted avg</th>\n",
       "    </tr>\n",
       "  </thead>\n",
       "  <tbody>\n",
       "    <tr>\n",
       "      <th>f1-score</th>\n",
       "      <td>0.825</td>\n",
       "      <td>0.210</td>\n",
       "      <td>0.713</td>\n",
       "      <td>0.517</td>\n",
       "      <td>0.778</td>\n",
       "    </tr>\n",
       "    <tr>\n",
       "      <th>precision</th>\n",
       "      <td>0.947</td>\n",
       "      <td>0.133</td>\n",
       "      <td>0.713</td>\n",
       "      <td>0.540</td>\n",
       "      <td>0.885</td>\n",
       "    </tr>\n",
       "    <tr>\n",
       "      <th>recall</th>\n",
       "      <td>0.731</td>\n",
       "      <td>0.500</td>\n",
       "      <td>0.713</td>\n",
       "      <td>0.615</td>\n",
       "      <td>0.713</td>\n",
       "    </tr>\n",
       "    <tr>\n",
       "      <th>support</th>\n",
       "      <td>583.000</td>\n",
       "      <td>48.000</td>\n",
       "      <td>631.000</td>\n",
       "      <td>631.000</td>\n",
       "      <td>631.000</td>\n",
       "    </tr>\n",
       "  </tbody>\n",
       "</table>\n",
       "</div>"
      ],
      "text/plain": [
       "               0.0     1.0  micro avg  macro avg  weighted avg\n",
       "f1-score     0.825   0.210      0.713      0.517         0.778\n",
       "precision    0.947   0.133      0.713      0.540         0.885\n",
       "recall       0.731   0.500      0.713      0.615         0.713\n",
       "support    583.000  48.000    631.000    631.000       631.000"
      ]
     },
     "metadata": {},
     "output_type": "display_data"
    },
    {
     "name": "stderr",
     "output_type": "stream",
     "text": [
      "INFO - 2019-03-27 19:09:10,775 - instantiating class <class 'PatientVec.models.Model.Model'> from params {'type': 'seq_classifier', 'embedder': {'type': 'token_embedder', 'vocab_size': 19054, 'embed_size': 200, 'embedding_file': './preprocess/HipSurgery/1_yrs/embedding_matrix.npy'}, 'decoder': {'num_layers': 2, 'hidden_dims': [128, 1], 'activations': ['tanh', 'linear']}, 'predictor': {'type': 'binary'}, 'structured': {'use_structured': False}, 'encoder': {'type': 'lstm', 'hidden_size': 128}} and extras {}\n",
      "INFO - 2019-03-27 19:09:10,776 - type = seq_classifier\n",
      "INFO - 2019-03-27 19:09:10,777 - instantiating class <class 'PatientVec.models.modules.Embedder.Embedder'> from params {'type': 'token_embedder', 'vocab_size': 19054, 'embed_size': 200, 'embedding_file': './preprocess/HipSurgery/1_yrs/embedding_matrix.npy'} and extras {}\n",
      "INFO - 2019-03-27 19:09:10,777 - embedder.type = token_embedder\n",
      "INFO - 2019-03-27 19:09:10,778 - instantiating class <class 'PatientVec.models.modules.Embedder.TokenEmbedder'> from params {'vocab_size': 19054, 'embed_size': 200, 'embedding_file': './preprocess/HipSurgery/1_yrs/embedding_matrix.npy'} and extras {}\n",
      "INFO - 2019-03-27 19:09:10,778 - embedder.vocab_size = 19054\n",
      "INFO - 2019-03-27 19:09:10,779 - embedder.embed_size = 200\n",
      "INFO - 2019-03-27 19:09:10,779 - embedder.embedding_file = ./preprocess/HipSurgery/1_yrs/embedding_matrix.npy\n",
      "INFO - 2019-03-27 19:09:10,801 - instantiating class <class 'PatientVec.models.modules.Encoder.Encoder'> from params {'type': 'lstm', 'hidden_size': 128} and extras {'input_size': 200}\n",
      "INFO - 2019-03-27 19:09:10,801 - encoder.type = lstm\n",
      "INFO - 2019-03-27 19:09:10,802 - instantiating class <class 'PatientVec.models.modules.Encoder.wrap_pytorch_rnn.<locals>.BiRNNEncoder'> from params {'hidden_size': 128} and extras {'input_size': 200}\n",
      "INFO - 2019-03-27 19:09:10,802 - encoder.hidden_size = 128\n",
      "INFO - 2019-03-27 19:09:10,805 - decoder.input_dim = 256\n",
      "INFO - 2019-03-27 19:09:10,806 - decoder.num_layers = 2\n",
      "INFO - 2019-03-27 19:09:10,806 - decoder.hidden_dims = [128, 1]\n",
      "INFO - 2019-03-27 19:09:10,807 - decoder.activations = ['tanh', 'linear']\n",
      "INFO - 2019-03-27 19:09:10,807 - decoder.dropout = 0.0\n",
      "INFO - 2019-03-27 19:09:10,809 - instantiating class <class 'PatientVec.models.modules.Predictor.Predictor'> from params {'type': 'binary'} and extras {}\n",
      "INFO - 2019-03-27 19:09:10,809 - predictor.type = binary\n",
      "INFO - 2019-03-27 19:09:10,810 - instantiating class <class 'PatientVec.models.modules.Predictor.Binary_Predictor'> from params {} and extras {}\n",
      "INFO - 2019-03-27 19:09:10,810 - predictor.replicate = False\n",
      "INFO - 2019-03-27 19:09:10,811 - predictor.alpha = 0.5\n"
     ]
    },
    {
     "name": "stdout",
     "output_type": "stream",
     "text": [
      "============================================================================================================================================================================================================================================================================================================\n",
      "{'model': {'type': 'seq_classifier', 'embedder': {'type': 'token_embedder', 'vocab_size': 19054, 'embed_size': 200, 'embedding_file': './preprocess/HipSurgery/1_yrs/embedding_matrix.npy'}, 'decoder': {'num_layers': 2, 'hidden_dims': [128, 1], 'activations': ['tanh', 'linear']}, 'predictor': {'type': 'binary'}, 'structured': {'use_structured': False}, 'encoder': {'type': 'lstm', 'hidden_size': 128}}, 'training_config': {'type': 'Adam', 'groups': [('.*', {'lr': 0.001, 'weight_decay': 1e-05})], 'common': {'bsize': 32, 'class_weight': True}}, 'exp_config': {'exp_name': 'HipSurgery_1/Basic/LSTM(hs=128)', 'basepath': 'outputs/ts_experiments/n=700'}}\n",
      "Setting Embedding\n"
     ]
    },
    {
     "data": {
      "application/vnd.jupyter.widget-view+json": {
       "model_id": "9392a4d6188c4a86acc2e998fa419e2a",
       "version_major": 2,
       "version_minor": 0
      },
      "text/plain": [
       "HBox(children=(IntProgress(value=0, max=8), HTML(value='')))"
      ]
     },
     "metadata": {},
     "output_type": "display_data"
    },
    {
     "data": {
      "application/vnd.jupyter.widget-view+json": {
       "model_id": "21f366974eeb4b418f058dce9e5c3840",
       "version_major": 2,
       "version_minor": 0
      },
      "text/plain": [
       "HBox(children=(IntProgress(value=0, max=22), HTML(value='')))"
      ]
     },
     "metadata": {},
     "output_type": "display_data"
    },
    {
     "data": {
      "application/vnd.jupyter.widget-view+json": {
       "model_id": "a44c419525074a7fb4547584e2695253",
       "version_major": 2,
       "version_minor": 0
      },
      "text/plain": [
       "HBox(children=(IntProgress(value=0, max=20), HTML(value='')))"
      ]
     },
     "metadata": {},
     "output_type": "display_data"
    },
    {
     "name": "stdout",
     "output_type": "stream",
     "text": [
      "{'accuracy': 0.7129337539432177, 'roc_auc': 0.6705129374562924, 'pr_auc': 0.1766461217997175}\n"
     ]
    },
    {
     "data": {
      "text/html": [
       "<div>\n",
       "<style scoped>\n",
       "    .dataframe tbody tr th:only-of-type {\n",
       "        vertical-align: middle;\n",
       "    }\n",
       "\n",
       "    .dataframe tbody tr th {\n",
       "        vertical-align: top;\n",
       "    }\n",
       "\n",
       "    .dataframe thead th {\n",
       "        text-align: right;\n",
       "    }\n",
       "</style>\n",
       "<table border=\"1\" class=\"dataframe\">\n",
       "  <thead>\n",
       "    <tr style=\"text-align: right;\">\n",
       "      <th></th>\n",
       "      <th>0.0</th>\n",
       "      <th>1.0</th>\n",
       "      <th>micro avg</th>\n",
       "      <th>macro avg</th>\n",
       "      <th>weighted avg</th>\n",
       "    </tr>\n",
       "  </thead>\n",
       "  <tbody>\n",
       "    <tr>\n",
       "      <th>f1-score</th>\n",
       "      <td>0.822</td>\n",
       "      <td>0.260</td>\n",
       "      <td>0.713</td>\n",
       "      <td>0.541</td>\n",
       "      <td>0.771</td>\n",
       "    </tr>\n",
       "    <tr>\n",
       "      <th>precision</th>\n",
       "      <td>0.944</td>\n",
       "      <td>0.169</td>\n",
       "      <td>0.713</td>\n",
       "      <td>0.557</td>\n",
       "      <td>0.874</td>\n",
       "    </tr>\n",
       "    <tr>\n",
       "      <th>recall</th>\n",
       "      <td>0.728</td>\n",
       "      <td>0.561</td>\n",
       "      <td>0.713</td>\n",
       "      <td>0.645</td>\n",
       "      <td>0.713</td>\n",
       "    </tr>\n",
       "    <tr>\n",
       "      <th>support</th>\n",
       "      <td>577.000</td>\n",
       "      <td>57.000</td>\n",
       "      <td>634.000</td>\n",
       "      <td>634.000</td>\n",
       "      <td>634.000</td>\n",
       "    </tr>\n",
       "  </tbody>\n",
       "</table>\n",
       "</div>"
      ],
      "text/plain": [
       "               0.0     1.0  micro avg  macro avg  weighted avg\n",
       "f1-score     0.822   0.260      0.713      0.541         0.771\n",
       "precision    0.944   0.169      0.713      0.557         0.874\n",
       "recall       0.728   0.561      0.713      0.645         0.713\n",
       "support    577.000  57.000    634.000    634.000       634.000"
      ]
     },
     "metadata": {},
     "output_type": "display_data"
    },
    {
     "name": "stdout",
     "output_type": "stream",
     "text": [
      "Model Saved on  roc_auc 0.6705129374562924\n"
     ]
    },
    {
     "data": {
      "application/vnd.jupyter.widget-view+json": {
       "model_id": "97d2951975a2448dac92ebbad71ea792",
       "version_major": 2,
       "version_minor": 0
      },
      "text/plain": [
       "HBox(children=(IntProgress(value=0, max=22), HTML(value='')))"
      ]
     },
     "metadata": {},
     "output_type": "display_data"
    },
    {
     "data": {
      "application/vnd.jupyter.widget-view+json": {
       "model_id": "f567fe10ccb24ec8a710f57e5399ae39",
       "version_major": 2,
       "version_minor": 0
      },
      "text/plain": [
       "HBox(children=(IntProgress(value=0, max=20), HTML(value='')))"
      ]
     },
     "metadata": {},
     "output_type": "display_data"
    },
    {
     "name": "stdout",
     "output_type": "stream",
     "text": [
      "{'accuracy': 0.831230283911672, 'roc_auc': 0.7167442001885128, 'pr_auc': 0.17705671728785188}\n"
     ]
    },
    {
     "data": {
      "text/html": [
       "<div>\n",
       "<style scoped>\n",
       "    .dataframe tbody tr th:only-of-type {\n",
       "        vertical-align: middle;\n",
       "    }\n",
       "\n",
       "    .dataframe tbody tr th {\n",
       "        vertical-align: top;\n",
       "    }\n",
       "\n",
       "    .dataframe thead th {\n",
       "        text-align: right;\n",
       "    }\n",
       "</style>\n",
       "<table border=\"1\" class=\"dataframe\">\n",
       "  <thead>\n",
       "    <tr style=\"text-align: right;\">\n",
       "      <th></th>\n",
       "      <th>0.0</th>\n",
       "      <th>1.0</th>\n",
       "      <th>micro avg</th>\n",
       "      <th>macro avg</th>\n",
       "      <th>weighted avg</th>\n",
       "    </tr>\n",
       "  </thead>\n",
       "  <tbody>\n",
       "    <tr>\n",
       "      <th>f1-score</th>\n",
       "      <td>0.905</td>\n",
       "      <td>0.241</td>\n",
       "      <td>0.831</td>\n",
       "      <td>0.573</td>\n",
       "      <td>0.845</td>\n",
       "    </tr>\n",
       "    <tr>\n",
       "      <th>precision</th>\n",
       "      <td>0.927</td>\n",
       "      <td>0.202</td>\n",
       "      <td>0.831</td>\n",
       "      <td>0.565</td>\n",
       "      <td>0.862</td>\n",
       "    </tr>\n",
       "    <tr>\n",
       "      <th>recall</th>\n",
       "      <td>0.884</td>\n",
       "      <td>0.298</td>\n",
       "      <td>0.831</td>\n",
       "      <td>0.591</td>\n",
       "      <td>0.831</td>\n",
       "    </tr>\n",
       "    <tr>\n",
       "      <th>support</th>\n",
       "      <td>577.000</td>\n",
       "      <td>57.000</td>\n",
       "      <td>634.000</td>\n",
       "      <td>634.000</td>\n",
       "      <td>634.000</td>\n",
       "    </tr>\n",
       "  </tbody>\n",
       "</table>\n",
       "</div>"
      ],
      "text/plain": [
       "               0.0     1.0  micro avg  macro avg  weighted avg\n",
       "f1-score     0.905   0.241      0.831      0.573         0.845\n",
       "precision    0.927   0.202      0.831      0.565         0.862\n",
       "recall       0.884   0.298      0.831      0.591         0.831\n",
       "support    577.000  57.000    634.000    634.000       634.000"
      ]
     },
     "metadata": {},
     "output_type": "display_data"
    },
    {
     "name": "stdout",
     "output_type": "stream",
     "text": [
      "Model Saved on  roc_auc 0.7167442001885128\n"
     ]
    },
    {
     "data": {
      "application/vnd.jupyter.widget-view+json": {
       "model_id": "d2c9124a7ba24fb5878e7a8b3621c1b5",
       "version_major": 2,
       "version_minor": 0
      },
      "text/plain": [
       "HBox(children=(IntProgress(value=0, max=22), HTML(value='')))"
      ]
     },
     "metadata": {},
     "output_type": "display_data"
    },
    {
     "data": {
      "application/vnd.jupyter.widget-view+json": {
       "model_id": "d849792026654e2fb77afd2b35e35695",
       "version_major": 2,
       "version_minor": 0
      },
      "text/plain": [
       "HBox(children=(IntProgress(value=0, max=20), HTML(value='')))"
      ]
     },
     "metadata": {},
     "output_type": "display_data"
    },
    {
     "name": "stdout",
     "output_type": "stream",
     "text": [
      "{'accuracy': 0.8690851735015773, 'roc_auc': 0.7067104503025327, 'pr_auc': 0.18416718931527223}\n"
     ]
    },
    {
     "data": {
      "text/html": [
       "<div>\n",
       "<style scoped>\n",
       "    .dataframe tbody tr th:only-of-type {\n",
       "        vertical-align: middle;\n",
       "    }\n",
       "\n",
       "    .dataframe tbody tr th {\n",
       "        vertical-align: top;\n",
       "    }\n",
       "\n",
       "    .dataframe thead th {\n",
       "        text-align: right;\n",
       "    }\n",
       "</style>\n",
       "<table border=\"1\" class=\"dataframe\">\n",
       "  <thead>\n",
       "    <tr style=\"text-align: right;\">\n",
       "      <th></th>\n",
       "      <th>0.0</th>\n",
       "      <th>1.0</th>\n",
       "      <th>micro avg</th>\n",
       "      <th>macro avg</th>\n",
       "      <th>weighted avg</th>\n",
       "    </tr>\n",
       "  </thead>\n",
       "  <tbody>\n",
       "    <tr>\n",
       "      <th>f1-score</th>\n",
       "      <td>0.928</td>\n",
       "      <td>0.252</td>\n",
       "      <td>0.869</td>\n",
       "      <td>0.590</td>\n",
       "      <td>0.867</td>\n",
       "    </tr>\n",
       "    <tr>\n",
       "      <th>precision</th>\n",
       "      <td>0.926</td>\n",
       "      <td>0.259</td>\n",
       "      <td>0.869</td>\n",
       "      <td>0.593</td>\n",
       "      <td>0.866</td>\n",
       "    </tr>\n",
       "    <tr>\n",
       "      <th>recall</th>\n",
       "      <td>0.931</td>\n",
       "      <td>0.246</td>\n",
       "      <td>0.869</td>\n",
       "      <td>0.588</td>\n",
       "      <td>0.869</td>\n",
       "    </tr>\n",
       "    <tr>\n",
       "      <th>support</th>\n",
       "      <td>577.000</td>\n",
       "      <td>57.000</td>\n",
       "      <td>634.000</td>\n",
       "      <td>634.000</td>\n",
       "      <td>634.000</td>\n",
       "    </tr>\n",
       "  </tbody>\n",
       "</table>\n",
       "</div>"
      ],
      "text/plain": [
       "               0.0     1.0  micro avg  macro avg  weighted avg\n",
       "f1-score     0.928   0.252      0.869      0.590         0.867\n",
       "precision    0.926   0.259      0.869      0.593         0.866\n",
       "recall       0.931   0.246      0.869      0.588         0.869\n",
       "support    577.000  57.000    634.000    634.000       634.000"
      ]
     },
     "metadata": {},
     "output_type": "display_data"
    },
    {
     "name": "stdout",
     "output_type": "stream",
     "text": [
      "Model not saved on  roc_auc 0.7067104503025327\n"
     ]
    },
    {
     "data": {
      "application/vnd.jupyter.widget-view+json": {
       "model_id": "62499560ba07423ab5d7d51bf8b75db1",
       "version_major": 2,
       "version_minor": 0
      },
      "text/plain": [
       "HBox(children=(IntProgress(value=0, max=22), HTML(value='')))"
      ]
     },
     "metadata": {},
     "output_type": "display_data"
    },
    {
     "data": {
      "application/vnd.jupyter.widget-view+json": {
       "model_id": "3ad7b7266ab04b6ca9441e54d5d694bd",
       "version_major": 2,
       "version_minor": 0
      },
      "text/plain": [
       "HBox(children=(IntProgress(value=0, max=20), HTML(value='')))"
      ]
     },
     "metadata": {},
     "output_type": "display_data"
    },
    {
     "name": "stdout",
     "output_type": "stream",
     "text": [
      "{'accuracy': 0.7113564668769716, 'roc_auc': 0.6959013651980905, 'pr_auc': 0.17173350729534254}\n"
     ]
    },
    {
     "data": {
      "text/html": [
       "<div>\n",
       "<style scoped>\n",
       "    .dataframe tbody tr th:only-of-type {\n",
       "        vertical-align: middle;\n",
       "    }\n",
       "\n",
       "    .dataframe tbody tr th {\n",
       "        vertical-align: top;\n",
       "    }\n",
       "\n",
       "    .dataframe thead th {\n",
       "        text-align: right;\n",
       "    }\n",
       "</style>\n",
       "<table border=\"1\" class=\"dataframe\">\n",
       "  <thead>\n",
       "    <tr style=\"text-align: right;\">\n",
       "      <th></th>\n",
       "      <th>0.0</th>\n",
       "      <th>1.0</th>\n",
       "      <th>micro avg</th>\n",
       "      <th>macro avg</th>\n",
       "      <th>weighted avg</th>\n",
       "    </tr>\n",
       "  </thead>\n",
       "  <tbody>\n",
       "    <tr>\n",
       "      <th>f1-score</th>\n",
       "      <td>0.821</td>\n",
       "      <td>0.259</td>\n",
       "      <td>0.711</td>\n",
       "      <td>0.540</td>\n",
       "      <td>0.770</td>\n",
       "    </tr>\n",
       "    <tr>\n",
       "      <th>precision</th>\n",
       "      <td>0.944</td>\n",
       "      <td>0.168</td>\n",
       "      <td>0.711</td>\n",
       "      <td>0.556</td>\n",
       "      <td>0.874</td>\n",
       "    </tr>\n",
       "    <tr>\n",
       "      <th>recall</th>\n",
       "      <td>0.726</td>\n",
       "      <td>0.561</td>\n",
       "      <td>0.711</td>\n",
       "      <td>0.644</td>\n",
       "      <td>0.711</td>\n",
       "    </tr>\n",
       "    <tr>\n",
       "      <th>support</th>\n",
       "      <td>577.000</td>\n",
       "      <td>57.000</td>\n",
       "      <td>634.000</td>\n",
       "      <td>634.000</td>\n",
       "      <td>634.000</td>\n",
       "    </tr>\n",
       "  </tbody>\n",
       "</table>\n",
       "</div>"
      ],
      "text/plain": [
       "               0.0     1.0  micro avg  macro avg  weighted avg\n",
       "f1-score     0.821   0.259      0.711      0.540         0.770\n",
       "precision    0.944   0.168      0.711      0.556         0.874\n",
       "recall       0.726   0.561      0.711      0.644         0.711\n",
       "support    577.000  57.000    634.000    634.000       634.000"
      ]
     },
     "metadata": {},
     "output_type": "display_data"
    },
    {
     "name": "stdout",
     "output_type": "stream",
     "text": [
      "Model not saved on  roc_auc 0.6959013651980905\n"
     ]
    },
    {
     "data": {
      "application/vnd.jupyter.widget-view+json": {
       "model_id": "63b1d1e1ec244189bac9805909a834ad",
       "version_major": 2,
       "version_minor": 0
      },
      "text/plain": [
       "HBox(children=(IntProgress(value=0, max=22), HTML(value='')))"
      ]
     },
     "metadata": {},
     "output_type": "display_data"
    },
    {
     "data": {
      "application/vnd.jupyter.widget-view+json": {
       "model_id": "840c39540c924c61a43c276531cb21cd",
       "version_major": 2,
       "version_minor": 0
      },
      "text/plain": [
       "HBox(children=(IntProgress(value=0, max=20), HTML(value='')))"
      ]
     },
     "metadata": {},
     "output_type": "display_data"
    },
    {
     "name": "stdout",
     "output_type": "stream",
     "text": [
      "{'accuracy': 0.7097791798107256, 'roc_auc': 0.6889081455805892, 'pr_auc': 0.16726880989670653}\n"
     ]
    },
    {
     "data": {
      "text/html": [
       "<div>\n",
       "<style scoped>\n",
       "    .dataframe tbody tr th:only-of-type {\n",
       "        vertical-align: middle;\n",
       "    }\n",
       "\n",
       "    .dataframe tbody tr th {\n",
       "        vertical-align: top;\n",
       "    }\n",
       "\n",
       "    .dataframe thead th {\n",
       "        text-align: right;\n",
       "    }\n",
       "</style>\n",
       "<table border=\"1\" class=\"dataframe\">\n",
       "  <thead>\n",
       "    <tr style=\"text-align: right;\">\n",
       "      <th></th>\n",
       "      <th>0.0</th>\n",
       "      <th>1.0</th>\n",
       "      <th>micro avg</th>\n",
       "      <th>macro avg</th>\n",
       "      <th>weighted avg</th>\n",
       "    </tr>\n",
       "  </thead>\n",
       "  <tbody>\n",
       "    <tr>\n",
       "      <th>f1-score</th>\n",
       "      <td>0.819</td>\n",
       "      <td>0.264</td>\n",
       "      <td>0.71</td>\n",
       "      <td>0.542</td>\n",
       "      <td>0.769</td>\n",
       "    </tr>\n",
       "    <tr>\n",
       "      <th>precision</th>\n",
       "      <td>0.946</td>\n",
       "      <td>0.171</td>\n",
       "      <td>0.71</td>\n",
       "      <td>0.558</td>\n",
       "      <td>0.876</td>\n",
       "    </tr>\n",
       "    <tr>\n",
       "      <th>recall</th>\n",
       "      <td>0.723</td>\n",
       "      <td>0.579</td>\n",
       "      <td>0.71</td>\n",
       "      <td>0.651</td>\n",
       "      <td>0.710</td>\n",
       "    </tr>\n",
       "    <tr>\n",
       "      <th>support</th>\n",
       "      <td>577.000</td>\n",
       "      <td>57.000</td>\n",
       "      <td>634.00</td>\n",
       "      <td>634.000</td>\n",
       "      <td>634.000</td>\n",
       "    </tr>\n",
       "  </tbody>\n",
       "</table>\n",
       "</div>"
      ],
      "text/plain": [
       "               0.0     1.0  micro avg  macro avg  weighted avg\n",
       "f1-score     0.819   0.264       0.71      0.542         0.769\n",
       "precision    0.946   0.171       0.71      0.558         0.876\n",
       "recall       0.723   0.579       0.71      0.651         0.710\n",
       "support    577.000  57.000     634.00    634.000       634.000"
      ]
     },
     "metadata": {},
     "output_type": "display_data"
    },
    {
     "name": "stderr",
     "output_type": "stream",
     "text": [
      "INFO - 2019-03-27 19:11:10,680 - instantiating class <class 'PatientVec.models.Model.Model'> from params {'type': 'seq_classifier', 'embedder': {'type': 'token_embedder', 'vocab_size': 19054, 'embed_size': 200, 'embedding_file': './preprocess/HipSurgery/1_yrs/embedding_matrix.npy'}, 'decoder': {'num_layers': 2, 'hidden_dims': [128, 1], 'activations': ['tanh', 'linear']}, 'predictor': {'type': 'binary'}, 'structured': {'use_structured': False}, 'encoder': {'type': 'lstm', 'hidden_size': 128}} and extras {}\n",
      "INFO - 2019-03-27 19:11:10,681 - type = seq_classifier\n",
      "INFO - 2019-03-27 19:11:10,681 - instantiating class <class 'PatientVec.models.modules.Embedder.Embedder'> from params {'type': 'token_embedder', 'vocab_size': 19054, 'embed_size': 200, 'embedding_file': './preprocess/HipSurgery/1_yrs/embedding_matrix.npy'} and extras {}\n",
      "INFO - 2019-03-27 19:11:10,682 - embedder.type = token_embedder\n",
      "INFO - 2019-03-27 19:11:10,683 - instantiating class <class 'PatientVec.models.modules.Embedder.TokenEmbedder'> from params {'vocab_size': 19054, 'embed_size': 200, 'embedding_file': './preprocess/HipSurgery/1_yrs/embedding_matrix.npy'} and extras {}\n",
      "INFO - 2019-03-27 19:11:10,683 - embedder.vocab_size = 19054\n",
      "INFO - 2019-03-27 19:11:10,684 - embedder.embed_size = 200\n",
      "INFO - 2019-03-27 19:11:10,684 - embedder.embedding_file = ./preprocess/HipSurgery/1_yrs/embedding_matrix.npy\n",
      "INFO - 2019-03-27 19:11:10,710 - instantiating class <class 'PatientVec.models.modules.Encoder.Encoder'> from params {'type': 'lstm', 'hidden_size': 128} and extras {'input_size': 200}\n",
      "INFO - 2019-03-27 19:11:10,711 - encoder.type = lstm\n",
      "INFO - 2019-03-27 19:11:10,711 - instantiating class <class 'PatientVec.models.modules.Encoder.wrap_pytorch_rnn.<locals>.BiRNNEncoder'> from params {'hidden_size': 128} and extras {'input_size': 200}\n",
      "INFO - 2019-03-27 19:11:10,712 - encoder.hidden_size = 128\n",
      "INFO - 2019-03-27 19:11:10,715 - decoder.input_dim = 256\n",
      "INFO - 2019-03-27 19:11:10,716 - decoder.num_layers = 2\n",
      "INFO - 2019-03-27 19:11:10,716 - decoder.hidden_dims = [128, 1]\n",
      "INFO - 2019-03-27 19:11:10,717 - decoder.activations = ['tanh', 'linear']\n",
      "INFO - 2019-03-27 19:11:10,717 - decoder.dropout = 0.0\n",
      "INFO - 2019-03-27 19:11:10,718 - instantiating class <class 'PatientVec.models.modules.Predictor.Predictor'> from params {'type': 'binary'} and extras {}\n",
      "INFO - 2019-03-27 19:11:10,719 - predictor.type = binary\n",
      "INFO - 2019-03-27 19:11:10,720 - instantiating class <class 'PatientVec.models.modules.Predictor.Binary_Predictor'> from params {} and extras {}\n",
      "INFO - 2019-03-27 19:11:10,720 - predictor.replicate = False\n",
      "INFO - 2019-03-27 19:11:10,721 - predictor.alpha = 0.5\n"
     ]
    },
    {
     "name": "stdout",
     "output_type": "stream",
     "text": [
      "Model not saved on  roc_auc 0.6889081455805892\n",
      "0.7167442001885128 deque([0.7067104503025327, 0.6959013651980905, 0.6889081455805892], maxlen=3)\n",
      "\n",
      "Setting Embedding\n"
     ]
    },
    {
     "data": {
      "application/vnd.jupyter.widget-view+json": {
       "model_id": "e53c8823797e4432ba2c4af034cf2bd2",
       "version_major": 2,
       "version_minor": 0
      },
      "text/plain": [
       "HBox(children=(IntProgress(value=0, max=20), HTML(value='')))"
      ]
     },
     "metadata": {},
     "output_type": "display_data"
    },
    {
     "name": "stdout",
     "output_type": "stream",
     "text": [
      "\n",
      "{'accuracy': 0.831230283911672, 'roc_auc': 0.7167442001885128, 'pr_auc': 0.17705671728785188}\n"
     ]
    },
    {
     "data": {
      "text/html": [
       "<div>\n",
       "<style scoped>\n",
       "    .dataframe tbody tr th:only-of-type {\n",
       "        vertical-align: middle;\n",
       "    }\n",
       "\n",
       "    .dataframe tbody tr th {\n",
       "        vertical-align: top;\n",
       "    }\n",
       "\n",
       "    .dataframe thead th {\n",
       "        text-align: right;\n",
       "    }\n",
       "</style>\n",
       "<table border=\"1\" class=\"dataframe\">\n",
       "  <thead>\n",
       "    <tr style=\"text-align: right;\">\n",
       "      <th></th>\n",
       "      <th>0.0</th>\n",
       "      <th>1.0</th>\n",
       "      <th>micro avg</th>\n",
       "      <th>macro avg</th>\n",
       "      <th>weighted avg</th>\n",
       "    </tr>\n",
       "  </thead>\n",
       "  <tbody>\n",
       "    <tr>\n",
       "      <th>f1-score</th>\n",
       "      <td>0.905</td>\n",
       "      <td>0.241</td>\n",
       "      <td>0.831</td>\n",
       "      <td>0.573</td>\n",
       "      <td>0.845</td>\n",
       "    </tr>\n",
       "    <tr>\n",
       "      <th>precision</th>\n",
       "      <td>0.927</td>\n",
       "      <td>0.202</td>\n",
       "      <td>0.831</td>\n",
       "      <td>0.565</td>\n",
       "      <td>0.862</td>\n",
       "    </tr>\n",
       "    <tr>\n",
       "      <th>recall</th>\n",
       "      <td>0.884</td>\n",
       "      <td>0.298</td>\n",
       "      <td>0.831</td>\n",
       "      <td>0.591</td>\n",
       "      <td>0.831</td>\n",
       "    </tr>\n",
       "    <tr>\n",
       "      <th>support</th>\n",
       "      <td>577.000</td>\n",
       "      <td>57.000</td>\n",
       "      <td>634.000</td>\n",
       "      <td>634.000</td>\n",
       "      <td>634.000</td>\n",
       "    </tr>\n",
       "  </tbody>\n",
       "</table>\n",
       "</div>"
      ],
      "text/plain": [
       "               0.0     1.0  micro avg  macro avg  weighted avg\n",
       "f1-score     0.905   0.241      0.831      0.573         0.845\n",
       "precision    0.927   0.202      0.831      0.565         0.862\n",
       "recall       0.884   0.298      0.831      0.591         0.831\n",
       "support    577.000  57.000    634.000    634.000       634.000"
      ]
     },
     "metadata": {},
     "output_type": "display_data"
    },
    {
     "data": {
      "application/vnd.jupyter.widget-view+json": {
       "model_id": "fd96bc0bf09e4dc99921afeaa1135632",
       "version_major": 2,
       "version_minor": 0
      },
      "text/plain": [
       "HBox(children=(IntProgress(value=0, max=20), HTML(value='')))"
      ]
     },
     "metadata": {},
     "output_type": "display_data"
    },
    {
     "name": "stdout",
     "output_type": "stream",
     "text": [
      "\n",
      "{'accuracy': 0.7923930269413629, 'roc_auc': 0.47609348198970836, 'pr_auc': 0.07218515308382265}\n"
     ]
    },
    {
     "data": {
      "text/html": [
       "<div>\n",
       "<style scoped>\n",
       "    .dataframe tbody tr th:only-of-type {\n",
       "        vertical-align: middle;\n",
       "    }\n",
       "\n",
       "    .dataframe tbody tr th {\n",
       "        vertical-align: top;\n",
       "    }\n",
       "\n",
       "    .dataframe thead th {\n",
       "        text-align: right;\n",
       "    }\n",
       "</style>\n",
       "<table border=\"1\" class=\"dataframe\">\n",
       "  <thead>\n",
       "    <tr style=\"text-align: right;\">\n",
       "      <th></th>\n",
       "      <th>0.0</th>\n",
       "      <th>1.0</th>\n",
       "      <th>micro avg</th>\n",
       "      <th>macro avg</th>\n",
       "      <th>weighted avg</th>\n",
       "    </tr>\n",
       "  </thead>\n",
       "  <tbody>\n",
       "    <tr>\n",
       "      <th>f1-score</th>\n",
       "      <td>0.883</td>\n",
       "      <td>0.071</td>\n",
       "      <td>0.792</td>\n",
       "      <td>0.477</td>\n",
       "      <td>0.821</td>\n",
       "    </tr>\n",
       "    <tr>\n",
       "      <th>precision</th>\n",
       "      <td>0.920</td>\n",
       "      <td>0.054</td>\n",
       "      <td>0.792</td>\n",
       "      <td>0.487</td>\n",
       "      <td>0.854</td>\n",
       "    </tr>\n",
       "    <tr>\n",
       "      <th>recall</th>\n",
       "      <td>0.849</td>\n",
       "      <td>0.104</td>\n",
       "      <td>0.792</td>\n",
       "      <td>0.477</td>\n",
       "      <td>0.792</td>\n",
       "    </tr>\n",
       "    <tr>\n",
       "      <th>support</th>\n",
       "      <td>583.000</td>\n",
       "      <td>48.000</td>\n",
       "      <td>631.000</td>\n",
       "      <td>631.000</td>\n",
       "      <td>631.000</td>\n",
       "    </tr>\n",
       "  </tbody>\n",
       "</table>\n",
       "</div>"
      ],
      "text/plain": [
       "               0.0     1.0  micro avg  macro avg  weighted avg\n",
       "f1-score     0.883   0.071      0.792      0.477         0.821\n",
       "precision    0.920   0.054      0.792      0.487         0.854\n",
       "recall       0.849   0.104      0.792      0.477         0.792\n",
       "support    583.000  48.000    631.000    631.000       631.000"
      ]
     },
     "metadata": {},
     "output_type": "display_data"
    },
    {
     "name": "stderr",
     "output_type": "stream",
     "text": [
      "INFO - 2019-03-27 19:11:33,291 - instantiating class <class 'PatientVec.models.Model.Model'> from params {'type': 'seq_classifier_with_attention', 'embedder': {'type': 'token_embedder', 'vocab_size': 19054, 'embed_size': 200, 'embedding_file': './preprocess/HipSurgery/1_yrs/embedding_matrix.npy'}, 'decoder': {'num_layers': 2, 'hidden_dims': [128, 1], 'activations': ['tanh', 'linear']}, 'predictor': {'type': 'binary'}, 'structured': {'use_structured': False}, 'encoder': {'type': 'lstm', 'hidden_size': 128}, 'attention': {'similarity': {'type': 'additive', 'hidden_size': 128}}} and extras {}\n",
      "INFO - 2019-03-27 19:11:33,292 - type = seq_classifier_with_attention\n",
      "INFO - 2019-03-27 19:11:33,293 - instantiating class <class 'PatientVec.models.modules.Embedder.Embedder'> from params {'type': 'token_embedder', 'vocab_size': 19054, 'embed_size': 200, 'embedding_file': './preprocess/HipSurgery/1_yrs/embedding_matrix.npy'} and extras {}\n",
      "INFO - 2019-03-27 19:11:33,293 - embedder.type = token_embedder\n",
      "INFO - 2019-03-27 19:11:33,294 - instantiating class <class 'PatientVec.models.modules.Embedder.TokenEmbedder'> from params {'vocab_size': 19054, 'embed_size': 200, 'embedding_file': './preprocess/HipSurgery/1_yrs/embedding_matrix.npy'} and extras {}\n",
      "INFO - 2019-03-27 19:11:33,295 - embedder.vocab_size = 19054\n",
      "INFO - 2019-03-27 19:11:33,295 - embedder.embed_size = 200\n",
      "INFO - 2019-03-27 19:11:33,296 - embedder.embedding_file = ./preprocess/HipSurgery/1_yrs/embedding_matrix.npy\n",
      "INFO - 2019-03-27 19:11:33,319 - instantiating class <class 'PatientVec.models.modules.Encoder.Encoder'> from params {'type': 'lstm', 'hidden_size': 128} and extras {'input_size': 200}\n",
      "INFO - 2019-03-27 19:11:33,320 - encoder.type = lstm\n",
      "INFO - 2019-03-27 19:11:33,320 - instantiating class <class 'PatientVec.models.modules.Encoder.wrap_pytorch_rnn.<locals>.BiRNNEncoder'> from params {'hidden_size': 128} and extras {'input_size': 200}\n",
      "INFO - 2019-03-27 19:11:33,321 - encoder.hidden_size = 128\n",
      "INFO - 2019-03-27 19:11:33,324 - instantiating class <class 'PatientVec.models.modules.SelfAttention.SelfAttention'> from params {'similarity': {'type': 'additive', 'hidden_size': 128, 'tensor_1_dim': 256}} and extras {}\n",
      "INFO - 2019-03-27 19:11:33,325 - instantiating class <class 'PatientVec.models.modules.UniSimilarity.UniSimilarity'> from params {'type': 'additive', 'hidden_size': 128, 'tensor_1_dim': 256} and extras {}\n",
      "INFO - 2019-03-27 19:11:33,325 - attention.similarity.type = additive\n",
      "INFO - 2019-03-27 19:11:33,326 - instantiating class <class 'PatientVec.models.modules.UniSimilarity.UniAdditiveSimilarity'> from params {'hidden_size': 128, 'tensor_1_dim': 256} and extras {}\n",
      "INFO - 2019-03-27 19:11:33,326 - attention.similarity.tensor_1_dim = 256\n",
      "INFO - 2019-03-27 19:11:33,327 - attention.similarity.hidden_size = 128\n",
      "INFO - 2019-03-27 19:11:33,327 - attention.similarity.output_size = 1\n",
      "INFO - 2019-03-27 19:11:33,330 - attention.normaliser = softmax\n",
      "INFO - 2019-03-27 19:11:33,331 - decoder.input_dim = 256\n",
      "INFO - 2019-03-27 19:11:33,331 - decoder.num_layers = 2\n",
      "INFO - 2019-03-27 19:11:33,332 - decoder.hidden_dims = [128, 1]\n",
      "INFO - 2019-03-27 19:11:33,332 - decoder.activations = ['tanh', 'linear']\n",
      "INFO - 2019-03-27 19:11:33,333 - decoder.dropout = 0.0\n",
      "INFO - 2019-03-27 19:11:33,335 - instantiating class <class 'PatientVec.models.modules.Predictor.Predictor'> from params {'type': 'binary'} and extras {}\n",
      "INFO - 2019-03-27 19:11:33,335 - predictor.type = binary\n",
      "INFO - 2019-03-27 19:11:33,336 - instantiating class <class 'PatientVec.models.modules.Predictor.Binary_Predictor'> from params {} and extras {}\n",
      "INFO - 2019-03-27 19:11:33,336 - predictor.replicate = False\n",
      "INFO - 2019-03-27 19:11:33,337 - predictor.alpha = 0.5\n"
     ]
    },
    {
     "name": "stdout",
     "output_type": "stream",
     "text": [
      "============================================================================================================================================================================================================================================================================================================\n",
      "{'model': {'type': 'seq_classifier_with_attention', 'embedder': {'type': 'token_embedder', 'vocab_size': 19054, 'embed_size': 200, 'embedding_file': './preprocess/HipSurgery/1_yrs/embedding_matrix.npy'}, 'decoder': {'num_layers': 2, 'hidden_dims': [128, 1], 'activations': ['tanh', 'linear']}, 'predictor': {'type': 'binary'}, 'structured': {'use_structured': False}, 'encoder': {'type': 'lstm', 'hidden_size': 128}, 'attention': {'similarity': {'type': 'additive', 'hidden_size': 128}}}, 'training_config': {'type': 'Adam', 'groups': [('.*', {'lr': 0.001, 'weight_decay': 1e-05})], 'common': {'bsize': 32, 'class_weight': True}}, 'exp_config': {'exp_name': 'HipSurgery_1/Attention/LSTM(hs=128)+Attention(additive)(hs=128)', 'basepath': 'outputs/ts_experiments/n=700'}}\n",
      "Setting Embedding\n"
     ]
    },
    {
     "data": {
      "application/vnd.jupyter.widget-view+json": {
       "model_id": "12e4ac9600b44087bf78e57de2d37ae2",
       "version_major": 2,
       "version_minor": 0
      },
      "text/plain": [
       "HBox(children=(IntProgress(value=0, max=8), HTML(value='')))"
      ]
     },
     "metadata": {},
     "output_type": "display_data"
    },
    {
     "data": {
      "application/vnd.jupyter.widget-view+json": {
       "model_id": "3c52609bd84149c49a6f5f1d29471479",
       "version_major": 2,
       "version_minor": 0
      },
      "text/plain": [
       "HBox(children=(IntProgress(value=0, max=22), HTML(value='')))"
      ]
     },
     "metadata": {},
     "output_type": "display_data"
    },
    {
     "data": {
      "application/vnd.jupyter.widget-view+json": {
       "model_id": "0eb944693b904fae80180ce4d9b87ec7",
       "version_major": 2,
       "version_minor": 0
      },
      "text/plain": [
       "HBox(children=(IntProgress(value=0, max=20), HTML(value='')))"
      ]
     },
     "metadata": {},
     "output_type": "display_data"
    },
    {
     "name": "stdout",
     "output_type": "stream",
     "text": [
      "{'accuracy': 0.9100946372239748, 'roc_auc': 0.4633920155675149, 'pr_auc': 0.08880209910011005}\n"
     ]
    },
    {
     "data": {
      "text/html": [
       "<div>\n",
       "<style scoped>\n",
       "    .dataframe tbody tr th:only-of-type {\n",
       "        vertical-align: middle;\n",
       "    }\n",
       "\n",
       "    .dataframe tbody tr th {\n",
       "        vertical-align: top;\n",
       "    }\n",
       "\n",
       "    .dataframe thead th {\n",
       "        text-align: right;\n",
       "    }\n",
       "</style>\n",
       "<table border=\"1\" class=\"dataframe\">\n",
       "  <thead>\n",
       "    <tr style=\"text-align: right;\">\n",
       "      <th></th>\n",
       "      <th>0.0</th>\n",
       "      <th>1.0</th>\n",
       "      <th>micro avg</th>\n",
       "      <th>macro avg</th>\n",
       "      <th>weighted avg</th>\n",
       "    </tr>\n",
       "  </thead>\n",
       "  <tbody>\n",
       "    <tr>\n",
       "      <th>f1-score</th>\n",
       "      <td>0.953</td>\n",
       "      <td>0.0</td>\n",
       "      <td>0.91</td>\n",
       "      <td>0.476</td>\n",
       "      <td>0.867</td>\n",
       "    </tr>\n",
       "    <tr>\n",
       "      <th>precision</th>\n",
       "      <td>0.910</td>\n",
       "      <td>0.0</td>\n",
       "      <td>0.91</td>\n",
       "      <td>0.455</td>\n",
       "      <td>0.828</td>\n",
       "    </tr>\n",
       "    <tr>\n",
       "      <th>recall</th>\n",
       "      <td>1.000</td>\n",
       "      <td>0.0</td>\n",
       "      <td>0.91</td>\n",
       "      <td>0.500</td>\n",
       "      <td>0.910</td>\n",
       "    </tr>\n",
       "    <tr>\n",
       "      <th>support</th>\n",
       "      <td>577.000</td>\n",
       "      <td>57.0</td>\n",
       "      <td>634.00</td>\n",
       "      <td>634.000</td>\n",
       "      <td>634.000</td>\n",
       "    </tr>\n",
       "  </tbody>\n",
       "</table>\n",
       "</div>"
      ],
      "text/plain": [
       "               0.0   1.0  micro avg  macro avg  weighted avg\n",
       "f1-score     0.953   0.0       0.91      0.476         0.867\n",
       "precision    0.910   0.0       0.91      0.455         0.828\n",
       "recall       1.000   0.0       0.91      0.500         0.910\n",
       "support    577.000  57.0     634.00    634.000       634.000"
      ]
     },
     "metadata": {},
     "output_type": "display_data"
    },
    {
     "name": "stdout",
     "output_type": "stream",
     "text": [
      "Model Saved on  roc_auc 0.4633920155675149\n"
     ]
    },
    {
     "data": {
      "application/vnd.jupyter.widget-view+json": {
       "model_id": "c83387f3ddad43ecb46cfe1f96cff797",
       "version_major": 2,
       "version_minor": 0
      },
      "text/plain": [
       "HBox(children=(IntProgress(value=0, max=22), HTML(value='')))"
      ]
     },
     "metadata": {},
     "output_type": "display_data"
    },
    {
     "data": {
      "application/vnd.jupyter.widget-view+json": {
       "model_id": "d50921d9f29744b09d91b2de8d22ac3e",
       "version_major": 2,
       "version_minor": 0
      },
      "text/plain": [
       "HBox(children=(IntProgress(value=0, max=20), HTML(value='')))"
      ]
     },
     "metadata": {},
     "output_type": "display_data"
    },
    {
     "name": "stdout",
     "output_type": "stream",
     "text": [
      "{'accuracy': 0.9100946372239748, 'roc_auc': 0.6624099242907963, 'pr_auc': 0.141160509642244}\n"
     ]
    },
    {
     "data": {
      "text/html": [
       "<div>\n",
       "<style scoped>\n",
       "    .dataframe tbody tr th:only-of-type {\n",
       "        vertical-align: middle;\n",
       "    }\n",
       "\n",
       "    .dataframe tbody tr th {\n",
       "        vertical-align: top;\n",
       "    }\n",
       "\n",
       "    .dataframe thead th {\n",
       "        text-align: right;\n",
       "    }\n",
       "</style>\n",
       "<table border=\"1\" class=\"dataframe\">\n",
       "  <thead>\n",
       "    <tr style=\"text-align: right;\">\n",
       "      <th></th>\n",
       "      <th>0.0</th>\n",
       "      <th>1.0</th>\n",
       "      <th>micro avg</th>\n",
       "      <th>macro avg</th>\n",
       "      <th>weighted avg</th>\n",
       "    </tr>\n",
       "  </thead>\n",
       "  <tbody>\n",
       "    <tr>\n",
       "      <th>f1-score</th>\n",
       "      <td>0.953</td>\n",
       "      <td>0.0</td>\n",
       "      <td>0.91</td>\n",
       "      <td>0.476</td>\n",
       "      <td>0.867</td>\n",
       "    </tr>\n",
       "    <tr>\n",
       "      <th>precision</th>\n",
       "      <td>0.910</td>\n",
       "      <td>0.0</td>\n",
       "      <td>0.91</td>\n",
       "      <td>0.455</td>\n",
       "      <td>0.828</td>\n",
       "    </tr>\n",
       "    <tr>\n",
       "      <th>recall</th>\n",
       "      <td>1.000</td>\n",
       "      <td>0.0</td>\n",
       "      <td>0.91</td>\n",
       "      <td>0.500</td>\n",
       "      <td>0.910</td>\n",
       "    </tr>\n",
       "    <tr>\n",
       "      <th>support</th>\n",
       "      <td>577.000</td>\n",
       "      <td>57.0</td>\n",
       "      <td>634.00</td>\n",
       "      <td>634.000</td>\n",
       "      <td>634.000</td>\n",
       "    </tr>\n",
       "  </tbody>\n",
       "</table>\n",
       "</div>"
      ],
      "text/plain": [
       "               0.0   1.0  micro avg  macro avg  weighted avg\n",
       "f1-score     0.953   0.0       0.91      0.476         0.867\n",
       "precision    0.910   0.0       0.91      0.455         0.828\n",
       "recall       1.000   0.0       0.91      0.500         0.910\n",
       "support    577.000  57.0     634.00    634.000       634.000"
      ]
     },
     "metadata": {},
     "output_type": "display_data"
    },
    {
     "name": "stdout",
     "output_type": "stream",
     "text": [
      "Model Saved on  roc_auc 0.6624099242907963\n"
     ]
    },
    {
     "data": {
      "application/vnd.jupyter.widget-view+json": {
       "model_id": "9c3e6ae6edac4a08a511b10f04d8b250",
       "version_major": 2,
       "version_minor": 0
      },
      "text/plain": [
       "HBox(children=(IntProgress(value=0, max=22), HTML(value='')))"
      ]
     },
     "metadata": {},
     "output_type": "display_data"
    },
    {
     "data": {
      "application/vnd.jupyter.widget-view+json": {
       "model_id": "35f26a3e08274f41abfcad04812c90d6",
       "version_major": 2,
       "version_minor": 0
      },
      "text/plain": [
       "HBox(children=(IntProgress(value=0, max=20), HTML(value='')))"
      ]
     },
     "metadata": {},
     "output_type": "display_data"
    },
    {
     "name": "stdout",
     "output_type": "stream",
     "text": [
      "{'accuracy': 0.8738170347003155, 'roc_auc': 0.6465839642433641, 'pr_auc': 0.13330256646075667}\n"
     ]
    },
    {
     "data": {
      "text/html": [
       "<div>\n",
       "<style scoped>\n",
       "    .dataframe tbody tr th:only-of-type {\n",
       "        vertical-align: middle;\n",
       "    }\n",
       "\n",
       "    .dataframe tbody tr th {\n",
       "        vertical-align: top;\n",
       "    }\n",
       "\n",
       "    .dataframe thead th {\n",
       "        text-align: right;\n",
       "    }\n",
       "</style>\n",
       "<table border=\"1\" class=\"dataframe\">\n",
       "  <thead>\n",
       "    <tr style=\"text-align: right;\">\n",
       "      <th></th>\n",
       "      <th>0.0</th>\n",
       "      <th>1.0</th>\n",
       "      <th>micro avg</th>\n",
       "      <th>macro avg</th>\n",
       "      <th>weighted avg</th>\n",
       "    </tr>\n",
       "  </thead>\n",
       "  <tbody>\n",
       "    <tr>\n",
       "      <th>f1-score</th>\n",
       "      <td>0.932</td>\n",
       "      <td>0.070</td>\n",
       "      <td>0.874</td>\n",
       "      <td>0.501</td>\n",
       "      <td>0.855</td>\n",
       "    </tr>\n",
       "    <tr>\n",
       "      <th>precision</th>\n",
       "      <td>0.911</td>\n",
       "      <td>0.103</td>\n",
       "      <td>0.874</td>\n",
       "      <td>0.507</td>\n",
       "      <td>0.838</td>\n",
       "    </tr>\n",
       "    <tr>\n",
       "      <th>recall</th>\n",
       "      <td>0.955</td>\n",
       "      <td>0.053</td>\n",
       "      <td>0.874</td>\n",
       "      <td>0.504</td>\n",
       "      <td>0.874</td>\n",
       "    </tr>\n",
       "    <tr>\n",
       "      <th>support</th>\n",
       "      <td>577.000</td>\n",
       "      <td>57.000</td>\n",
       "      <td>634.000</td>\n",
       "      <td>634.000</td>\n",
       "      <td>634.000</td>\n",
       "    </tr>\n",
       "  </tbody>\n",
       "</table>\n",
       "</div>"
      ],
      "text/plain": [
       "               0.0     1.0  micro avg  macro avg  weighted avg\n",
       "f1-score     0.932   0.070      0.874      0.501         0.855\n",
       "precision    0.911   0.103      0.874      0.507         0.838\n",
       "recall       0.955   0.053      0.874      0.504         0.874\n",
       "support    577.000  57.000    634.000    634.000       634.000"
      ]
     },
     "metadata": {},
     "output_type": "display_data"
    },
    {
     "name": "stdout",
     "output_type": "stream",
     "text": [
      "Model not saved on  roc_auc 0.6465839642433641\n"
     ]
    },
    {
     "data": {
      "application/vnd.jupyter.widget-view+json": {
       "model_id": "b704788a71614d308b8441b3b1f15d46",
       "version_major": 2,
       "version_minor": 0
      },
      "text/plain": [
       "HBox(children=(IntProgress(value=0, max=22), HTML(value='')))"
      ]
     },
     "metadata": {},
     "output_type": "display_data"
    },
    {
     "data": {
      "application/vnd.jupyter.widget-view+json": {
       "model_id": "bf97bdae90724c149441f447f6fad380",
       "version_major": 2,
       "version_minor": 0
      },
      "text/plain": [
       "HBox(children=(IntProgress(value=0, max=20), HTML(value='')))"
      ]
     },
     "metadata": {},
     "output_type": "display_data"
    },
    {
     "name": "stdout",
     "output_type": "stream",
     "text": [
      "{'accuracy': 0.8753943217665615, 'roc_auc': 0.6723372556173797, 'pr_auc': 0.14827340983395834}\n"
     ]
    },
    {
     "data": {
      "text/html": [
       "<div>\n",
       "<style scoped>\n",
       "    .dataframe tbody tr th:only-of-type {\n",
       "        vertical-align: middle;\n",
       "    }\n",
       "\n",
       "    .dataframe tbody tr th {\n",
       "        vertical-align: top;\n",
       "    }\n",
       "\n",
       "    .dataframe thead th {\n",
       "        text-align: right;\n",
       "    }\n",
       "</style>\n",
       "<table border=\"1\" class=\"dataframe\">\n",
       "  <thead>\n",
       "    <tr style=\"text-align: right;\">\n",
       "      <th></th>\n",
       "      <th>0.0</th>\n",
       "      <th>1.0</th>\n",
       "      <th>micro avg</th>\n",
       "      <th>macro avg</th>\n",
       "      <th>weighted avg</th>\n",
       "    </tr>\n",
       "  </thead>\n",
       "  <tbody>\n",
       "    <tr>\n",
       "      <th>f1-score</th>\n",
       "      <td>0.933</td>\n",
       "      <td>0.092</td>\n",
       "      <td>0.875</td>\n",
       "      <td>0.513</td>\n",
       "      <td>0.857</td>\n",
       "    </tr>\n",
       "    <tr>\n",
       "      <th>precision</th>\n",
       "      <td>0.912</td>\n",
       "      <td>0.133</td>\n",
       "      <td>0.875</td>\n",
       "      <td>0.523</td>\n",
       "      <td>0.842</td>\n",
       "    </tr>\n",
       "    <tr>\n",
       "      <th>recall</th>\n",
       "      <td>0.955</td>\n",
       "      <td>0.070</td>\n",
       "      <td>0.875</td>\n",
       "      <td>0.513</td>\n",
       "      <td>0.875</td>\n",
       "    </tr>\n",
       "    <tr>\n",
       "      <th>support</th>\n",
       "      <td>577.000</td>\n",
       "      <td>57.000</td>\n",
       "      <td>634.000</td>\n",
       "      <td>634.000</td>\n",
       "      <td>634.000</td>\n",
       "    </tr>\n",
       "  </tbody>\n",
       "</table>\n",
       "</div>"
      ],
      "text/plain": [
       "               0.0     1.0  micro avg  macro avg  weighted avg\n",
       "f1-score     0.933   0.092      0.875      0.513         0.857\n",
       "precision    0.912   0.133      0.875      0.523         0.842\n",
       "recall       0.955   0.070      0.875      0.513         0.875\n",
       "support    577.000  57.000    634.000    634.000       634.000"
      ]
     },
     "metadata": {},
     "output_type": "display_data"
    },
    {
     "name": "stdout",
     "output_type": "stream",
     "text": [
      "Model Saved on  roc_auc 0.6723372556173797\n"
     ]
    },
    {
     "data": {
      "application/vnd.jupyter.widget-view+json": {
       "model_id": "542505a1c9c342f89333d957b8e118fb",
       "version_major": 2,
       "version_minor": 0
      },
      "text/plain": [
       "HBox(children=(IntProgress(value=0, max=22), HTML(value='')))"
      ]
     },
     "metadata": {},
     "output_type": "display_data"
    },
    {
     "data": {
      "application/vnd.jupyter.widget-view+json": {
       "model_id": "dde5668af43445688dc503b75b852a90",
       "version_major": 2,
       "version_minor": 0
      },
      "text/plain": [
       "HBox(children=(IntProgress(value=0, max=20), HTML(value='')))"
      ]
     },
     "metadata": {},
     "output_type": "display_data"
    },
    {
     "name": "stdout",
     "output_type": "stream",
     "text": [
      "{'accuracy': 0.16876971608832808, 'roc_auc': 0.6719115813797928, 'pr_auc': 0.16600460375722884}\n"
     ]
    },
    {
     "data": {
      "text/html": [
       "<div>\n",
       "<style scoped>\n",
       "    .dataframe tbody tr th:only-of-type {\n",
       "        vertical-align: middle;\n",
       "    }\n",
       "\n",
       "    .dataframe tbody tr th {\n",
       "        vertical-align: top;\n",
       "    }\n",
       "\n",
       "    .dataframe thead th {\n",
       "        text-align: right;\n",
       "    }\n",
       "</style>\n",
       "<table border=\"1\" class=\"dataframe\">\n",
       "  <thead>\n",
       "    <tr style=\"text-align: right;\">\n",
       "      <th></th>\n",
       "      <th>0.0</th>\n",
       "      <th>1.0</th>\n",
       "      <th>micro avg</th>\n",
       "      <th>macro avg</th>\n",
       "      <th>weighted avg</th>\n",
       "    </tr>\n",
       "  </thead>\n",
       "  <tbody>\n",
       "    <tr>\n",
       "      <th>f1-score</th>\n",
       "      <td>0.159</td>\n",
       "      <td>0.178</td>\n",
       "      <td>0.169</td>\n",
       "      <td>0.169</td>\n",
       "      <td>0.161</td>\n",
       "    </tr>\n",
       "    <tr>\n",
       "      <th>precision</th>\n",
       "      <td>1.000</td>\n",
       "      <td>0.098</td>\n",
       "      <td>0.169</td>\n",
       "      <td>0.549</td>\n",
       "      <td>0.919</td>\n",
       "    </tr>\n",
       "    <tr>\n",
       "      <th>recall</th>\n",
       "      <td>0.087</td>\n",
       "      <td>1.000</td>\n",
       "      <td>0.169</td>\n",
       "      <td>0.543</td>\n",
       "      <td>0.169</td>\n",
       "    </tr>\n",
       "    <tr>\n",
       "      <th>support</th>\n",
       "      <td>577.000</td>\n",
       "      <td>57.000</td>\n",
       "      <td>634.000</td>\n",
       "      <td>634.000</td>\n",
       "      <td>634.000</td>\n",
       "    </tr>\n",
       "  </tbody>\n",
       "</table>\n",
       "</div>"
      ],
      "text/plain": [
       "               0.0     1.0  micro avg  macro avg  weighted avg\n",
       "f1-score     0.159   0.178      0.169      0.169         0.161\n",
       "precision    1.000   0.098      0.169      0.549         0.919\n",
       "recall       0.087   1.000      0.169      0.543         0.169\n",
       "support    577.000  57.000    634.000    634.000       634.000"
      ]
     },
     "metadata": {},
     "output_type": "display_data"
    },
    {
     "name": "stdout",
     "output_type": "stream",
     "text": [
      "Model not saved on  roc_auc 0.6719115813797928\n"
     ]
    },
    {
     "data": {
      "application/vnd.jupyter.widget-view+json": {
       "model_id": "c651bdb6d7664364be31282d349218c9",
       "version_major": 2,
       "version_minor": 0
      },
      "text/plain": [
       "HBox(children=(IntProgress(value=0, max=22), HTML(value='')))"
      ]
     },
     "metadata": {},
     "output_type": "display_data"
    },
    {
     "data": {
      "application/vnd.jupyter.widget-view+json": {
       "model_id": "9176debfcee64beba30f5ed02b7e7dd6",
       "version_major": 2,
       "version_minor": 0
      },
      "text/plain": [
       "HBox(children=(IntProgress(value=0, max=20), HTML(value='')))"
      ]
     },
     "metadata": {},
     "output_type": "display_data"
    },
    {
     "name": "stdout",
     "output_type": "stream",
     "text": [
      "{'accuracy': 0.6608832807570978, 'roc_auc': 0.696418255343732, 'pr_auc': 0.1867780432488166}\n"
     ]
    },
    {
     "data": {
      "text/html": [
       "<div>\n",
       "<style scoped>\n",
       "    .dataframe tbody tr th:only-of-type {\n",
       "        vertical-align: middle;\n",
       "    }\n",
       "\n",
       "    .dataframe tbody tr th {\n",
       "        vertical-align: top;\n",
       "    }\n",
       "\n",
       "    .dataframe thead th {\n",
       "        text-align: right;\n",
       "    }\n",
       "</style>\n",
       "<table border=\"1\" class=\"dataframe\">\n",
       "  <thead>\n",
       "    <tr style=\"text-align: right;\">\n",
       "      <th></th>\n",
       "      <th>0.0</th>\n",
       "      <th>1.0</th>\n",
       "      <th>micro avg</th>\n",
       "      <th>macro avg</th>\n",
       "      <th>weighted avg</th>\n",
       "    </tr>\n",
       "  </thead>\n",
       "  <tbody>\n",
       "    <tr>\n",
       "      <th>f1-score</th>\n",
       "      <td>0.779</td>\n",
       "      <td>0.271</td>\n",
       "      <td>0.661</td>\n",
       "      <td>0.525</td>\n",
       "      <td>0.733</td>\n",
       "    </tr>\n",
       "    <tr>\n",
       "      <th>precision</th>\n",
       "      <td>0.957</td>\n",
       "      <td>0.168</td>\n",
       "      <td>0.661</td>\n",
       "      <td>0.563</td>\n",
       "      <td>0.886</td>\n",
       "    </tr>\n",
       "    <tr>\n",
       "      <th>recall</th>\n",
       "      <td>0.657</td>\n",
       "      <td>0.702</td>\n",
       "      <td>0.661</td>\n",
       "      <td>0.679</td>\n",
       "      <td>0.661</td>\n",
       "    </tr>\n",
       "    <tr>\n",
       "      <th>support</th>\n",
       "      <td>577.000</td>\n",
       "      <td>57.000</td>\n",
       "      <td>634.000</td>\n",
       "      <td>634.000</td>\n",
       "      <td>634.000</td>\n",
       "    </tr>\n",
       "  </tbody>\n",
       "</table>\n",
       "</div>"
      ],
      "text/plain": [
       "               0.0     1.0  micro avg  macro avg  weighted avg\n",
       "f1-score     0.779   0.271      0.661      0.525         0.733\n",
       "precision    0.957   0.168      0.661      0.563         0.886\n",
       "recall       0.657   0.702      0.661      0.679         0.661\n",
       "support    577.000  57.000    634.000    634.000       634.000"
      ]
     },
     "metadata": {},
     "output_type": "display_data"
    },
    {
     "name": "stdout",
     "output_type": "stream",
     "text": [
      "Model Saved on  roc_auc 0.696418255343732\n"
     ]
    },
    {
     "data": {
      "application/vnd.jupyter.widget-view+json": {
       "model_id": "f7cc08a6b6dc4bfea08cf0330c0bd772",
       "version_major": 2,
       "version_minor": 0
      },
      "text/plain": [
       "HBox(children=(IntProgress(value=0, max=22), HTML(value='')))"
      ]
     },
     "metadata": {},
     "output_type": "display_data"
    },
    {
     "data": {
      "application/vnd.jupyter.widget-view+json": {
       "model_id": "a3eae19e0c1e4f51af6fd8f1e195df63",
       "version_major": 2,
       "version_minor": 0
      },
      "text/plain": [
       "HBox(children=(IntProgress(value=0, max=20), HTML(value='')))"
      ]
     },
     "metadata": {},
     "output_type": "display_data"
    },
    {
     "name": "stdout",
     "output_type": "stream",
     "text": [
      "{'accuracy': 0.3864353312302839, 'roc_auc': 0.7457660616011432, 'pr_auc': 0.2315428770447696}\n"
     ]
    },
    {
     "data": {
      "text/html": [
       "<div>\n",
       "<style scoped>\n",
       "    .dataframe tbody tr th:only-of-type {\n",
       "        vertical-align: middle;\n",
       "    }\n",
       "\n",
       "    .dataframe tbody tr th {\n",
       "        vertical-align: top;\n",
       "    }\n",
       "\n",
       "    .dataframe thead th {\n",
       "        text-align: right;\n",
       "    }\n",
       "</style>\n",
       "<table border=\"1\" class=\"dataframe\">\n",
       "  <thead>\n",
       "    <tr style=\"text-align: right;\">\n",
       "      <th></th>\n",
       "      <th>0.0</th>\n",
       "      <th>1.0</th>\n",
       "      <th>micro avg</th>\n",
       "      <th>macro avg</th>\n",
       "      <th>weighted avg</th>\n",
       "    </tr>\n",
       "  </thead>\n",
       "  <tbody>\n",
       "    <tr>\n",
       "      <th>f1-score</th>\n",
       "      <td>0.497</td>\n",
       "      <td>0.214</td>\n",
       "      <td>0.386</td>\n",
       "      <td>0.355</td>\n",
       "      <td>0.471</td>\n",
       "    </tr>\n",
       "    <tr>\n",
       "      <th>precision</th>\n",
       "      <td>0.980</td>\n",
       "      <td>0.121</td>\n",
       "      <td>0.386</td>\n",
       "      <td>0.550</td>\n",
       "      <td>0.902</td>\n",
       "    </tr>\n",
       "    <tr>\n",
       "      <th>recall</th>\n",
       "      <td>0.333</td>\n",
       "      <td>0.930</td>\n",
       "      <td>0.386</td>\n",
       "      <td>0.631</td>\n",
       "      <td>0.386</td>\n",
       "    </tr>\n",
       "    <tr>\n",
       "      <th>support</th>\n",
       "      <td>577.000</td>\n",
       "      <td>57.000</td>\n",
       "      <td>634.000</td>\n",
       "      <td>634.000</td>\n",
       "      <td>634.000</td>\n",
       "    </tr>\n",
       "  </tbody>\n",
       "</table>\n",
       "</div>"
      ],
      "text/plain": [
       "               0.0     1.0  micro avg  macro avg  weighted avg\n",
       "f1-score     0.497   0.214      0.386      0.355         0.471\n",
       "precision    0.980   0.121      0.386      0.550         0.902\n",
       "recall       0.333   0.930      0.386      0.631         0.386\n",
       "support    577.000  57.000    634.000    634.000       634.000"
      ]
     },
     "metadata": {},
     "output_type": "display_data"
    },
    {
     "name": "stdout",
     "output_type": "stream",
     "text": [
      "Model Saved on  roc_auc 0.7457660616011432\n"
     ]
    },
    {
     "data": {
      "application/vnd.jupyter.widget-view+json": {
       "model_id": "f170633ec8c54a98ae4c57e6fb1cc9b4",
       "version_major": 2,
       "version_minor": 0
      },
      "text/plain": [
       "HBox(children=(IntProgress(value=0, max=22), HTML(value='')))"
      ]
     },
     "metadata": {},
     "output_type": "display_data"
    },
    {
     "data": {
      "application/vnd.jupyter.widget-view+json": {
       "model_id": "ebb86183d71548428f004a25bc8b3407",
       "version_major": 2,
       "version_minor": 0
      },
      "text/plain": [
       "HBox(children=(IntProgress(value=0, max=20), HTML(value='')))"
      ]
     },
     "metadata": {},
     "output_type": "display_data"
    },
    {
     "name": "stdout",
     "output_type": "stream",
     "text": [
      "{'accuracy': 0.48264984227129337, 'roc_auc': 0.7795463528839429, 'pr_auc': 0.2882501598607135}\n"
     ]
    },
    {
     "data": {
      "text/html": [
       "<div>\n",
       "<style scoped>\n",
       "    .dataframe tbody tr th:only-of-type {\n",
       "        vertical-align: middle;\n",
       "    }\n",
       "\n",
       "    .dataframe tbody tr th {\n",
       "        vertical-align: top;\n",
       "    }\n",
       "\n",
       "    .dataframe thead th {\n",
       "        text-align: right;\n",
       "    }\n",
       "</style>\n",
       "<table border=\"1\" class=\"dataframe\">\n",
       "  <thead>\n",
       "    <tr style=\"text-align: right;\">\n",
       "      <th></th>\n",
       "      <th>0.0</th>\n",
       "      <th>1.0</th>\n",
       "      <th>micro avg</th>\n",
       "      <th>macro avg</th>\n",
       "      <th>weighted avg</th>\n",
       "    </tr>\n",
       "  </thead>\n",
       "  <tbody>\n",
       "    <tr>\n",
       "      <th>f1-score</th>\n",
       "      <td>0.608</td>\n",
       "      <td>0.241</td>\n",
       "      <td>0.483</td>\n",
       "      <td>0.424</td>\n",
       "      <td>0.575</td>\n",
       "    </tr>\n",
       "    <tr>\n",
       "      <th>precision</th>\n",
       "      <td>0.981</td>\n",
       "      <td>0.139</td>\n",
       "      <td>0.483</td>\n",
       "      <td>0.560</td>\n",
       "      <td>0.905</td>\n",
       "    </tr>\n",
       "    <tr>\n",
       "      <th>recall</th>\n",
       "      <td>0.440</td>\n",
       "      <td>0.912</td>\n",
       "      <td>0.483</td>\n",
       "      <td>0.676</td>\n",
       "      <td>0.483</td>\n",
       "    </tr>\n",
       "    <tr>\n",
       "      <th>support</th>\n",
       "      <td>577.000</td>\n",
       "      <td>57.000</td>\n",
       "      <td>634.000</td>\n",
       "      <td>634.000</td>\n",
       "      <td>634.000</td>\n",
       "    </tr>\n",
       "  </tbody>\n",
       "</table>\n",
       "</div>"
      ],
      "text/plain": [
       "               0.0     1.0  micro avg  macro avg  weighted avg\n",
       "f1-score     0.608   0.241      0.483      0.424         0.575\n",
       "precision    0.981   0.139      0.483      0.560         0.905\n",
       "recall       0.440   0.912      0.483      0.676         0.483\n",
       "support    577.000  57.000    634.000    634.000       634.000"
      ]
     },
     "metadata": {},
     "output_type": "display_data"
    },
    {
     "name": "stdout",
     "output_type": "stream",
     "text": [
      "Model Saved on  roc_auc 0.7795463528839429\n"
     ]
    },
    {
     "name": "stderr",
     "output_type": "stream",
     "text": [
      "INFO - 2019-03-27 19:15:00,215 - instantiating class <class 'PatientVec.models.Model.Model'> from params {'type': 'seq_classifier_with_attention', 'embedder': {'type': 'token_embedder', 'vocab_size': 19054, 'embed_size': 200, 'embedding_file': './preprocess/HipSurgery/1_yrs/embedding_matrix.npy'}, 'decoder': {'num_layers': 2, 'hidden_dims': [128, 1], 'activations': ['tanh', 'linear']}, 'predictor': {'type': 'binary'}, 'structured': {'use_structured': False}, 'encoder': {'type': 'lstm', 'hidden_size': 128}, 'attention': {'similarity': {'type': 'additive', 'hidden_size': 128}}} and extras {}\n",
      "INFO - 2019-03-27 19:15:00,216 - type = seq_classifier_with_attention\n",
      "INFO - 2019-03-27 19:15:00,216 - instantiating class <class 'PatientVec.models.modules.Embedder.Embedder'> from params {'type': 'token_embedder', 'vocab_size': 19054, 'embed_size': 200, 'embedding_file': './preprocess/HipSurgery/1_yrs/embedding_matrix.npy'} and extras {}\n",
      "INFO - 2019-03-27 19:15:00,217 - embedder.type = token_embedder\n",
      "INFO - 2019-03-27 19:15:00,217 - instantiating class <class 'PatientVec.models.modules.Embedder.TokenEmbedder'> from params {'vocab_size': 19054, 'embed_size': 200, 'embedding_file': './preprocess/HipSurgery/1_yrs/embedding_matrix.npy'} and extras {}\n",
      "INFO - 2019-03-27 19:15:00,218 - embedder.vocab_size = 19054\n",
      "INFO - 2019-03-27 19:15:00,219 - embedder.embed_size = 200\n",
      "INFO - 2019-03-27 19:15:00,219 - embedder.embedding_file = ./preprocess/HipSurgery/1_yrs/embedding_matrix.npy\n"
     ]
    },
    {
     "name": "stdout",
     "output_type": "stream",
     "text": [
      "\n"
     ]
    },
    {
     "name": "stderr",
     "output_type": "stream",
     "text": [
      "INFO - 2019-03-27 19:15:00,246 - instantiating class <class 'PatientVec.models.modules.Encoder.Encoder'> from params {'type': 'lstm', 'hidden_size': 128} and extras {'input_size': 200}\n",
      "INFO - 2019-03-27 19:15:00,247 - encoder.type = lstm\n",
      "INFO - 2019-03-27 19:15:00,247 - instantiating class <class 'PatientVec.models.modules.Encoder.wrap_pytorch_rnn.<locals>.BiRNNEncoder'> from params {'hidden_size': 128} and extras {'input_size': 200}\n",
      "INFO - 2019-03-27 19:15:00,248 - encoder.hidden_size = 128\n",
      "INFO - 2019-03-27 19:15:00,251 - instantiating class <class 'PatientVec.models.modules.SelfAttention.SelfAttention'> from params {'similarity': {'type': 'additive', 'hidden_size': 128, 'tensor_1_dim': 256}} and extras {}\n",
      "INFO - 2019-03-27 19:15:00,252 - instantiating class <class 'PatientVec.models.modules.UniSimilarity.UniSimilarity'> from params {'type': 'additive', 'hidden_size': 128, 'tensor_1_dim': 256} and extras {}\n",
      "INFO - 2019-03-27 19:15:00,252 - attention.similarity.type = additive\n",
      "INFO - 2019-03-27 19:15:00,253 - instantiating class <class 'PatientVec.models.modules.UniSimilarity.UniAdditiveSimilarity'> from params {'hidden_size': 128, 'tensor_1_dim': 256} and extras {}\n",
      "INFO - 2019-03-27 19:15:00,253 - attention.similarity.tensor_1_dim = 256\n",
      "INFO - 2019-03-27 19:15:00,254 - attention.similarity.hidden_size = 128\n",
      "INFO - 2019-03-27 19:15:00,255 - attention.similarity.output_size = 1\n",
      "INFO - 2019-03-27 19:15:00,257 - attention.normaliser = softmax\n",
      "INFO - 2019-03-27 19:15:00,257 - decoder.input_dim = 256\n",
      "INFO - 2019-03-27 19:15:00,258 - decoder.num_layers = 2\n",
      "INFO - 2019-03-27 19:15:00,258 - decoder.hidden_dims = [128, 1]\n",
      "INFO - 2019-03-27 19:15:00,258 - decoder.activations = ['tanh', 'linear']\n",
      "INFO - 2019-03-27 19:15:00,259 - decoder.dropout = 0.0\n",
      "INFO - 2019-03-27 19:15:00,260 - instantiating class <class 'PatientVec.models.modules.Predictor.Predictor'> from params {'type': 'binary'} and extras {}\n",
      "INFO - 2019-03-27 19:15:00,261 - predictor.type = binary\n",
      "INFO - 2019-03-27 19:15:00,261 - instantiating class <class 'PatientVec.models.modules.Predictor.Binary_Predictor'> from params {} and extras {}\n",
      "INFO - 2019-03-27 19:15:00,262 - predictor.replicate = False\n",
      "INFO - 2019-03-27 19:15:00,262 - predictor.alpha = 0.5\n"
     ]
    },
    {
     "name": "stdout",
     "output_type": "stream",
     "text": [
      "Setting Embedding\n"
     ]
    },
    {
     "data": {
      "application/vnd.jupyter.widget-view+json": {
       "model_id": "8416bf2561444ba09ae8f72fe94c2916",
       "version_major": 2,
       "version_minor": 0
      },
      "text/plain": [
       "HBox(children=(IntProgress(value=0, max=20), HTML(value='')))"
      ]
     },
     "metadata": {},
     "output_type": "display_data"
    },
    {
     "name": "stdout",
     "output_type": "stream",
     "text": [
      "\n",
      "{'accuracy': 0.48264984227129337, 'roc_auc': 0.7795463528839429, 'pr_auc': 0.2882501598607135}\n"
     ]
    },
    {
     "data": {
      "text/html": [
       "<div>\n",
       "<style scoped>\n",
       "    .dataframe tbody tr th:only-of-type {\n",
       "        vertical-align: middle;\n",
       "    }\n",
       "\n",
       "    .dataframe tbody tr th {\n",
       "        vertical-align: top;\n",
       "    }\n",
       "\n",
       "    .dataframe thead th {\n",
       "        text-align: right;\n",
       "    }\n",
       "</style>\n",
       "<table border=\"1\" class=\"dataframe\">\n",
       "  <thead>\n",
       "    <tr style=\"text-align: right;\">\n",
       "      <th></th>\n",
       "      <th>0.0</th>\n",
       "      <th>1.0</th>\n",
       "      <th>micro avg</th>\n",
       "      <th>macro avg</th>\n",
       "      <th>weighted avg</th>\n",
       "    </tr>\n",
       "  </thead>\n",
       "  <tbody>\n",
       "    <tr>\n",
       "      <th>f1-score</th>\n",
       "      <td>0.608</td>\n",
       "      <td>0.241</td>\n",
       "      <td>0.483</td>\n",
       "      <td>0.424</td>\n",
       "      <td>0.575</td>\n",
       "    </tr>\n",
       "    <tr>\n",
       "      <th>precision</th>\n",
       "      <td>0.981</td>\n",
       "      <td>0.139</td>\n",
       "      <td>0.483</td>\n",
       "      <td>0.560</td>\n",
       "      <td>0.905</td>\n",
       "    </tr>\n",
       "    <tr>\n",
       "      <th>recall</th>\n",
       "      <td>0.440</td>\n",
       "      <td>0.912</td>\n",
       "      <td>0.483</td>\n",
       "      <td>0.676</td>\n",
       "      <td>0.483</td>\n",
       "    </tr>\n",
       "    <tr>\n",
       "      <th>support</th>\n",
       "      <td>577.000</td>\n",
       "      <td>57.000</td>\n",
       "      <td>634.000</td>\n",
       "      <td>634.000</td>\n",
       "      <td>634.000</td>\n",
       "    </tr>\n",
       "  </tbody>\n",
       "</table>\n",
       "</div>"
      ],
      "text/plain": [
       "               0.0     1.0  micro avg  macro avg  weighted avg\n",
       "f1-score     0.608   0.241      0.483      0.424         0.575\n",
       "precision    0.981   0.139      0.483      0.560         0.905\n",
       "recall       0.440   0.912      0.483      0.676         0.483\n",
       "support    577.000  57.000    634.000    634.000       634.000"
      ]
     },
     "metadata": {},
     "output_type": "display_data"
    },
    {
     "data": {
      "application/vnd.jupyter.widget-view+json": {
       "model_id": "227161b39dcb4f6da609b9f4226ebdf9",
       "version_major": 2,
       "version_minor": 0
      },
      "text/plain": [
       "HBox(children=(IntProgress(value=0, max=20), HTML(value='')))"
      ]
     },
     "metadata": {},
     "output_type": "display_data"
    },
    {
     "name": "stdout",
     "output_type": "stream",
     "text": [
      "\n",
      "{'accuracy': 0.4595879556259905, 'roc_auc': 0.7035984848484849, 'pr_auc': 0.1513685662574145}\n"
     ]
    },
    {
     "data": {
      "text/html": [
       "<div>\n",
       "<style scoped>\n",
       "    .dataframe tbody tr th:only-of-type {\n",
       "        vertical-align: middle;\n",
       "    }\n",
       "\n",
       "    .dataframe tbody tr th {\n",
       "        vertical-align: top;\n",
       "    }\n",
       "\n",
       "    .dataframe thead th {\n",
       "        text-align: right;\n",
       "    }\n",
       "</style>\n",
       "<table border=\"1\" class=\"dataframe\">\n",
       "  <thead>\n",
       "    <tr style=\"text-align: right;\">\n",
       "      <th></th>\n",
       "      <th>0.0</th>\n",
       "      <th>1.0</th>\n",
       "      <th>micro avg</th>\n",
       "      <th>macro avg</th>\n",
       "      <th>weighted avg</th>\n",
       "    </tr>\n",
       "  </thead>\n",
       "  <tbody>\n",
       "    <tr>\n",
       "      <th>f1-score</th>\n",
       "      <td>0.595</td>\n",
       "      <td>0.186</td>\n",
       "      <td>0.46</td>\n",
       "      <td>0.391</td>\n",
       "      <td>0.564</td>\n",
       "    </tr>\n",
       "    <tr>\n",
       "      <th>precision</th>\n",
       "      <td>0.965</td>\n",
       "      <td>0.105</td>\n",
       "      <td>0.46</td>\n",
       "      <td>0.535</td>\n",
       "      <td>0.900</td>\n",
       "    </tr>\n",
       "    <tr>\n",
       "      <th>recall</th>\n",
       "      <td>0.431</td>\n",
       "      <td>0.812</td>\n",
       "      <td>0.46</td>\n",
       "      <td>0.622</td>\n",
       "      <td>0.460</td>\n",
       "    </tr>\n",
       "    <tr>\n",
       "      <th>support</th>\n",
       "      <td>583.000</td>\n",
       "      <td>48.000</td>\n",
       "      <td>631.00</td>\n",
       "      <td>631.000</td>\n",
       "      <td>631.000</td>\n",
       "    </tr>\n",
       "  </tbody>\n",
       "</table>\n",
       "</div>"
      ],
      "text/plain": [
       "               0.0     1.0  micro avg  macro avg  weighted avg\n",
       "f1-score     0.595   0.186       0.46      0.391         0.564\n",
       "precision    0.965   0.105       0.46      0.535         0.900\n",
       "recall       0.431   0.812       0.46      0.622         0.460\n",
       "support    583.000  48.000     631.00    631.000       631.000"
      ]
     },
     "metadata": {},
     "output_type": "display_data"
    },
    {
     "name": "stdout",
     "output_type": "stream",
     "text": [
      "============================================================================================================================================================================================================================================================================================================\n"
     ]
    },
    {
     "name": "stderr",
     "output_type": "stream",
     "text": [
      "INFO - 2019-03-27 19:15:24,323 - Reading Structured data ...\n",
      "INFO - 2019-03-27 19:15:24,472 - Reading Notes ...\n",
      "INFO - 2019-03-27 19:15:25,745 - Stratifying ...\n"
     ]
    },
    {
     "name": "stdout",
     "output_type": "stream",
     "text": [
      "Pos Percentage [0.10839746]\n"
     ]
    },
    {
     "name": "stderr",
     "output_type": "stream",
     "text": [
      "INFO - 2019-03-27 19:15:26,337 - Maximum Sentence Length 585530.000000 , 90 percentile length 22037.000000 ... \n",
      "INFO - 2019-03-27 19:15:27,175 - Truncated all ...\n",
      "INFO - 2019-03-27 19:15:27,180 - Idxs removed []...\n",
      "INFO - 2019-03-27 19:15:27,326 - Maximum Sentence Length 65362.000000 , 90 percentile length 18471.000000 ... \n"
     ]
    },
    {
     "name": "stdout",
     "output_type": "stream",
     "text": [
      "Pos Percentage [0.08990536]\n"
     ]
    },
    {
     "name": "stderr",
     "output_type": "stream",
     "text": [
      "INFO - 2019-03-27 19:15:27,520 - Truncated all ...\n",
      "INFO - 2019-03-27 19:15:27,522 - Idxs removed []...\n",
      "INFO - 2019-03-27 19:15:27,628 - Maximum Sentence Length 109694.000000 , 90 percentile length 19819.000000 ... \n"
     ]
    },
    {
     "name": "stdout",
     "output_type": "stream",
     "text": [
      "Pos Percentage [0.07606973]\n"
     ]
    },
    {
     "name": "stderr",
     "output_type": "stream",
     "text": [
      "INFO - 2019-03-27 19:15:27,792 - Truncated all ...\n",
      "INFO - 2019-03-27 19:15:27,794 - Idxs removed []...\n",
      "INFO - 2019-03-27 19:15:27,873 - instantiating class <class 'PatientVec.models.Model.Model'> from params {'type': 'seq_classifier', 'embedder': {'type': 'token_embedder', 'vocab_size': 19054, 'embed_size': 200, 'embedding_file': './preprocess/HipSurgery/1_yrs/embedding_matrix.npy'}, 'decoder': {'num_layers': 2, 'hidden_dims': [128, 1], 'activations': ['tanh', 'linear']}, 'predictor': {'type': 'binary'}, 'structured': {'use_structured': False}, 'encoder': {'type': 'average', 'projection': True, 'hidden_size': 256, 'activation': 'relu'}} and extras {}\n",
      "INFO - 2019-03-27 19:15:27,874 - type = seq_classifier\n",
      "INFO - 2019-03-27 19:15:27,875 - instantiating class <class 'PatientVec.models.modules.Embedder.Embedder'> from params {'type': 'token_embedder', 'vocab_size': 19054, 'embed_size': 200, 'embedding_file': './preprocess/HipSurgery/1_yrs/embedding_matrix.npy'} and extras {}\n",
      "INFO - 2019-03-27 19:15:27,875 - embedder.type = token_embedder\n",
      "INFO - 2019-03-27 19:15:27,876 - instantiating class <class 'PatientVec.models.modules.Embedder.TokenEmbedder'> from params {'vocab_size': 19054, 'embed_size': 200, 'embedding_file': './preprocess/HipSurgery/1_yrs/embedding_matrix.npy'} and extras {}\n",
      "INFO - 2019-03-27 19:15:27,877 - embedder.vocab_size = 19054\n",
      "INFO - 2019-03-27 19:15:27,877 - embedder.embed_size = 200\n",
      "INFO - 2019-03-27 19:15:27,878 - embedder.embedding_file = ./preprocess/HipSurgery/1_yrs/embedding_matrix.npy\n",
      "INFO - 2019-03-27 19:15:27,898 - instantiating class <class 'PatientVec.models.modules.Encoder.Encoder'> from params {'type': 'average', 'projection': True, 'hidden_size': 256, 'activation': 'relu'} and extras {'input_size': 200}\n",
      "INFO - 2019-03-27 19:15:27,899 - encoder.type = average\n",
      "INFO - 2019-03-27 19:15:27,899 - instantiating class <class 'PatientVec.models.modules.Encoder.AverageEncoder'> from params {'projection': True, 'hidden_size': 256, 'activation': 'relu'} and extras {'input_size': 200}\n",
      "INFO - 2019-03-27 19:15:27,900 - encoder.projection = True\n",
      "INFO - 2019-03-27 19:15:27,900 - encoder.hidden_size = 256\n",
      "INFO - 2019-03-27 19:15:27,901 - encoder.activation = relu\n",
      "INFO - 2019-03-27 19:15:27,902 - decoder.input_dim = 256\n",
      "INFO - 2019-03-27 19:15:27,903 - decoder.num_layers = 2\n",
      "INFO - 2019-03-27 19:15:27,903 - decoder.hidden_dims = [128, 1]\n",
      "INFO - 2019-03-27 19:15:27,904 - decoder.activations = ['tanh', 'linear']\n",
      "INFO - 2019-03-27 19:15:27,904 - decoder.dropout = 0.0\n",
      "INFO - 2019-03-27 19:15:27,906 - instantiating class <class 'PatientVec.models.modules.Predictor.Predictor'> from params {'type': 'binary'} and extras {}\n",
      "INFO - 2019-03-27 19:15:27,906 - predictor.type = binary\n",
      "INFO - 2019-03-27 19:15:27,907 - instantiating class <class 'PatientVec.models.modules.Predictor.Binary_Predictor'> from params {} and extras {}\n",
      "INFO - 2019-03-27 19:15:27,907 - predictor.replicate = False\n",
      "INFO - 2019-03-27 19:15:27,908 - predictor.alpha = 0.5\n"
     ]
    },
    {
     "name": "stdout",
     "output_type": "stream",
     "text": [
      "{'model': {'type': 'seq_classifier', 'embedder': {'type': 'token_embedder', 'vocab_size': 19054, 'embed_size': 200, 'embedding_file': './preprocess/HipSurgery/1_yrs/embedding_matrix.npy'}, 'decoder': {'num_layers': 2, 'hidden_dims': [128, 1], 'activations': ['tanh', 'linear']}, 'predictor': {'type': 'binary'}, 'structured': {'use_structured': False}, 'encoder': {'type': 'average', 'projection': True, 'hidden_size': 256, 'activation': 'relu'}}, 'training_config': {'type': 'Adam', 'groups': [('.*', {'lr': 0.001, 'weight_decay': 1e-05})], 'common': {'bsize': 32, 'class_weight': True}}, 'exp_config': {'exp_name': 'HipSurgery_1/Basic/Average(hs=256)', 'basepath': 'outputs/ts_experiments/n=900'}}\n",
      "Setting Embedding\n"
     ]
    },
    {
     "data": {
      "application/vnd.jupyter.widget-view+json": {
       "model_id": "8bb1f3fa5ef246a288e1d213f96ee96c",
       "version_major": 2,
       "version_minor": 0
      },
      "text/plain": [
       "HBox(children=(IntProgress(value=0, max=8), HTML(value='')))"
      ]
     },
     "metadata": {},
     "output_type": "display_data"
    },
    {
     "data": {
      "application/vnd.jupyter.widget-view+json": {
       "model_id": "1392e7b58a814f9db0280010a82a8654",
       "version_major": 2,
       "version_minor": 0
      },
      "text/plain": [
       "HBox(children=(IntProgress(value=0, max=29), HTML(value='')))"
      ]
     },
     "metadata": {},
     "output_type": "display_data"
    },
    {
     "data": {
      "application/vnd.jupyter.widget-view+json": {
       "model_id": "a4f7d66473be4975b01fb8fa68903020",
       "version_major": 2,
       "version_minor": 0
      },
      "text/plain": [
       "HBox(children=(IntProgress(value=0, max=20), HTML(value='')))"
      ]
     },
     "metadata": {},
     "output_type": "display_data"
    },
    {
     "name": "stdout",
     "output_type": "stream",
     "text": [
      "{'accuracy': 0.3548895899053628, 'roc_auc': 0.6832831645839034, 'pr_auc': 0.1934698596123096}\n"
     ]
    },
    {
     "data": {
      "text/html": [
       "<div>\n",
       "<style scoped>\n",
       "    .dataframe tbody tr th:only-of-type {\n",
       "        vertical-align: middle;\n",
       "    }\n",
       "\n",
       "    .dataframe tbody tr th {\n",
       "        vertical-align: top;\n",
       "    }\n",
       "\n",
       "    .dataframe thead th {\n",
       "        text-align: right;\n",
       "    }\n",
       "</style>\n",
       "<table border=\"1\" class=\"dataframe\">\n",
       "  <thead>\n",
       "    <tr style=\"text-align: right;\">\n",
       "      <th></th>\n",
       "      <th>0.0</th>\n",
       "      <th>1.0</th>\n",
       "      <th>micro avg</th>\n",
       "      <th>macro avg</th>\n",
       "      <th>weighted avg</th>\n",
       "    </tr>\n",
       "  </thead>\n",
       "  <tbody>\n",
       "    <tr>\n",
       "      <th>f1-score</th>\n",
       "      <td>0.463</td>\n",
       "      <td>0.193</td>\n",
       "      <td>0.355</td>\n",
       "      <td>0.328</td>\n",
       "      <td>0.438</td>\n",
       "    </tr>\n",
       "    <tr>\n",
       "      <th>precision</th>\n",
       "      <td>0.957</td>\n",
       "      <td>0.109</td>\n",
       "      <td>0.355</td>\n",
       "      <td>0.533</td>\n",
       "      <td>0.880</td>\n",
       "    </tr>\n",
       "    <tr>\n",
       "      <th>recall</th>\n",
       "      <td>0.305</td>\n",
       "      <td>0.860</td>\n",
       "      <td>0.355</td>\n",
       "      <td>0.582</td>\n",
       "      <td>0.355</td>\n",
       "    </tr>\n",
       "    <tr>\n",
       "      <th>support</th>\n",
       "      <td>577.000</td>\n",
       "      <td>57.000</td>\n",
       "      <td>634.000</td>\n",
       "      <td>634.000</td>\n",
       "      <td>634.000</td>\n",
       "    </tr>\n",
       "  </tbody>\n",
       "</table>\n",
       "</div>"
      ],
      "text/plain": [
       "               0.0     1.0  micro avg  macro avg  weighted avg\n",
       "f1-score     0.463   0.193      0.355      0.328         0.438\n",
       "precision    0.957   0.109      0.355      0.533         0.880\n",
       "recall       0.305   0.860      0.355      0.582         0.355\n",
       "support    577.000  57.000    634.000    634.000       634.000"
      ]
     },
     "metadata": {},
     "output_type": "display_data"
    },
    {
     "name": "stdout",
     "output_type": "stream",
     "text": [
      "Model Saved on  roc_auc 0.6832831645839034\n"
     ]
    },
    {
     "data": {
      "application/vnd.jupyter.widget-view+json": {
       "model_id": "7b9c33f642f04026ba8fbbb0c303832d",
       "version_major": 2,
       "version_minor": 0
      },
      "text/plain": [
       "HBox(children=(IntProgress(value=0, max=29), HTML(value='')))"
      ]
     },
     "metadata": {},
     "output_type": "display_data"
    },
    {
     "data": {
      "application/vnd.jupyter.widget-view+json": {
       "model_id": "c79b9cedb5294815a8a8d42a7a928ab6",
       "version_major": 2,
       "version_minor": 0
      },
      "text/plain": [
       "HBox(children=(IntProgress(value=0, max=20), HTML(value='')))"
      ]
     },
     "metadata": {},
     "output_type": "display_data"
    },
    {
     "name": "stdout",
     "output_type": "stream",
     "text": [
      "{'accuracy': 0.5757097791798107, 'roc_auc': 0.6872358539329259, 'pr_auc': 0.20465820526012524}\n"
     ]
    },
    {
     "data": {
      "text/html": [
       "<div>\n",
       "<style scoped>\n",
       "    .dataframe tbody tr th:only-of-type {\n",
       "        vertical-align: middle;\n",
       "    }\n",
       "\n",
       "    .dataframe tbody tr th {\n",
       "        vertical-align: top;\n",
       "    }\n",
       "\n",
       "    .dataframe thead th {\n",
       "        text-align: right;\n",
       "    }\n",
       "</style>\n",
       "<table border=\"1\" class=\"dataframe\">\n",
       "  <thead>\n",
       "    <tr style=\"text-align: right;\">\n",
       "      <th></th>\n",
       "      <th>0.0</th>\n",
       "      <th>1.0</th>\n",
       "      <th>micro avg</th>\n",
       "      <th>macro avg</th>\n",
       "      <th>weighted avg</th>\n",
       "    </tr>\n",
       "  </thead>\n",
       "  <tbody>\n",
       "    <tr>\n",
       "      <th>f1-score</th>\n",
       "      <td>0.707</td>\n",
       "      <td>0.229</td>\n",
       "      <td>0.576</td>\n",
       "      <td>0.468</td>\n",
       "      <td>0.664</td>\n",
       "    </tr>\n",
       "    <tr>\n",
       "      <th>precision</th>\n",
       "      <td>0.950</td>\n",
       "      <td>0.137</td>\n",
       "      <td>0.576</td>\n",
       "      <td>0.544</td>\n",
       "      <td>0.877</td>\n",
       "    </tr>\n",
       "    <tr>\n",
       "      <th>recall</th>\n",
       "      <td>0.563</td>\n",
       "      <td>0.702</td>\n",
       "      <td>0.576</td>\n",
       "      <td>0.633</td>\n",
       "      <td>0.576</td>\n",
       "    </tr>\n",
       "    <tr>\n",
       "      <th>support</th>\n",
       "      <td>577.000</td>\n",
       "      <td>57.000</td>\n",
       "      <td>634.000</td>\n",
       "      <td>634.000</td>\n",
       "      <td>634.000</td>\n",
       "    </tr>\n",
       "  </tbody>\n",
       "</table>\n",
       "</div>"
      ],
      "text/plain": [
       "               0.0     1.0  micro avg  macro avg  weighted avg\n",
       "f1-score     0.707   0.229      0.576      0.468         0.664\n",
       "precision    0.950   0.137      0.576      0.544         0.877\n",
       "recall       0.563   0.702      0.576      0.633         0.576\n",
       "support    577.000  57.000    634.000    634.000       634.000"
      ]
     },
     "metadata": {},
     "output_type": "display_data"
    },
    {
     "name": "stdout",
     "output_type": "stream",
     "text": [
      "Model Saved on  roc_auc 0.6872358539329259\n"
     ]
    },
    {
     "data": {
      "application/vnd.jupyter.widget-view+json": {
       "model_id": "21e015ba399b4a42937aedffd648b171",
       "version_major": 2,
       "version_minor": 0
      },
      "text/plain": [
       "HBox(children=(IntProgress(value=0, max=29), HTML(value='')))"
      ]
     },
     "metadata": {},
     "output_type": "display_data"
    },
    {
     "data": {
      "application/vnd.jupyter.widget-view+json": {
       "model_id": "c57bf8997b494e2bba237154feec20b3",
       "version_major": 2,
       "version_minor": 0
      },
      "text/plain": [
       "HBox(children=(IntProgress(value=0, max=20), HTML(value='')))"
      ]
     },
     "metadata": {},
     "output_type": "display_data"
    },
    {
     "name": "stdout",
     "output_type": "stream",
     "text": [
      "{'accuracy': 0.08990536277602523, 'roc_auc': 0.6817020888442944, 'pr_auc': 0.20364542059569207}\n"
     ]
    },
    {
     "data": {
      "text/html": [
       "<div>\n",
       "<style scoped>\n",
       "    .dataframe tbody tr th:only-of-type {\n",
       "        vertical-align: middle;\n",
       "    }\n",
       "\n",
       "    .dataframe tbody tr th {\n",
       "        vertical-align: top;\n",
       "    }\n",
       "\n",
       "    .dataframe thead th {\n",
       "        text-align: right;\n",
       "    }\n",
       "</style>\n",
       "<table border=\"1\" class=\"dataframe\">\n",
       "  <thead>\n",
       "    <tr style=\"text-align: right;\">\n",
       "      <th></th>\n",
       "      <th>0.0</th>\n",
       "      <th>1.0</th>\n",
       "      <th>micro avg</th>\n",
       "      <th>macro avg</th>\n",
       "      <th>weighted avg</th>\n",
       "    </tr>\n",
       "  </thead>\n",
       "  <tbody>\n",
       "    <tr>\n",
       "      <th>f1-score</th>\n",
       "      <td>0.0</td>\n",
       "      <td>0.165</td>\n",
       "      <td>0.09</td>\n",
       "      <td>0.082</td>\n",
       "      <td>0.015</td>\n",
       "    </tr>\n",
       "    <tr>\n",
       "      <th>precision</th>\n",
       "      <td>0.0</td>\n",
       "      <td>0.090</td>\n",
       "      <td>0.09</td>\n",
       "      <td>0.045</td>\n",
       "      <td>0.008</td>\n",
       "    </tr>\n",
       "    <tr>\n",
       "      <th>recall</th>\n",
       "      <td>0.0</td>\n",
       "      <td>1.000</td>\n",
       "      <td>0.09</td>\n",
       "      <td>0.500</td>\n",
       "      <td>0.090</td>\n",
       "    </tr>\n",
       "    <tr>\n",
       "      <th>support</th>\n",
       "      <td>577.0</td>\n",
       "      <td>57.000</td>\n",
       "      <td>634.00</td>\n",
       "      <td>634.000</td>\n",
       "      <td>634.000</td>\n",
       "    </tr>\n",
       "  </tbody>\n",
       "</table>\n",
       "</div>"
      ],
      "text/plain": [
       "             0.0     1.0  micro avg  macro avg  weighted avg\n",
       "f1-score     0.0   0.165       0.09      0.082         0.015\n",
       "precision    0.0   0.090       0.09      0.045         0.008\n",
       "recall       0.0   1.000       0.09      0.500         0.090\n",
       "support    577.0  57.000     634.00    634.000       634.000"
      ]
     },
     "metadata": {},
     "output_type": "display_data"
    },
    {
     "name": "stdout",
     "output_type": "stream",
     "text": [
      "Model not saved on  roc_auc 0.6817020888442944\n"
     ]
    },
    {
     "data": {
      "application/vnd.jupyter.widget-view+json": {
       "model_id": "bb2597c0cfc24a8d931c9a485f2efdda",
       "version_major": 2,
       "version_minor": 0
      },
      "text/plain": [
       "HBox(children=(IntProgress(value=0, max=29), HTML(value='')))"
      ]
     },
     "metadata": {},
     "output_type": "display_data"
    },
    {
     "data": {
      "application/vnd.jupyter.widget-view+json": {
       "model_id": "7a34b3cfc3764288ac20fe71032f2227",
       "version_major": 2,
       "version_minor": 0
      },
      "text/plain": [
       "HBox(children=(IntProgress(value=0, max=20), HTML(value='')))"
      ]
     },
     "metadata": {},
     "output_type": "display_data"
    },
    {
     "name": "stdout",
     "output_type": "stream",
     "text": [
      "{'accuracy': 0.2586750788643533, 'roc_auc': 0.6928304296269269, 'pr_auc': 0.22467439800137326}\n"
     ]
    },
    {
     "data": {
      "text/html": [
       "<div>\n",
       "<style scoped>\n",
       "    .dataframe tbody tr th:only-of-type {\n",
       "        vertical-align: middle;\n",
       "    }\n",
       "\n",
       "    .dataframe tbody tr th {\n",
       "        vertical-align: top;\n",
       "    }\n",
       "\n",
       "    .dataframe thead th {\n",
       "        text-align: right;\n",
       "    }\n",
       "</style>\n",
       "<table border=\"1\" class=\"dataframe\">\n",
       "  <thead>\n",
       "    <tr style=\"text-align: right;\">\n",
       "      <th></th>\n",
       "      <th>0.0</th>\n",
       "      <th>1.0</th>\n",
       "      <th>micro avg</th>\n",
       "      <th>macro avg</th>\n",
       "      <th>weighted avg</th>\n",
       "    </tr>\n",
       "  </thead>\n",
       "  <tbody>\n",
       "    <tr>\n",
       "      <th>f1-score</th>\n",
       "      <td>0.317</td>\n",
       "      <td>0.190</td>\n",
       "      <td>0.259</td>\n",
       "      <td>0.253</td>\n",
       "      <td>0.305</td>\n",
       "    </tr>\n",
       "    <tr>\n",
       "      <th>precision</th>\n",
       "      <td>0.982</td>\n",
       "      <td>0.105</td>\n",
       "      <td>0.259</td>\n",
       "      <td>0.544</td>\n",
       "      <td>0.903</td>\n",
       "    </tr>\n",
       "    <tr>\n",
       "      <th>recall</th>\n",
       "      <td>0.189</td>\n",
       "      <td>0.965</td>\n",
       "      <td>0.259</td>\n",
       "      <td>0.577</td>\n",
       "      <td>0.259</td>\n",
       "    </tr>\n",
       "    <tr>\n",
       "      <th>support</th>\n",
       "      <td>577.000</td>\n",
       "      <td>57.000</td>\n",
       "      <td>634.000</td>\n",
       "      <td>634.000</td>\n",
       "      <td>634.000</td>\n",
       "    </tr>\n",
       "  </tbody>\n",
       "</table>\n",
       "</div>"
      ],
      "text/plain": [
       "               0.0     1.0  micro avg  macro avg  weighted avg\n",
       "f1-score     0.317   0.190      0.259      0.253         0.305\n",
       "precision    0.982   0.105      0.259      0.544         0.903\n",
       "recall       0.189   0.965      0.259      0.577         0.259\n",
       "support    577.000  57.000    634.000    634.000       634.000"
      ]
     },
     "metadata": {},
     "output_type": "display_data"
    },
    {
     "name": "stdout",
     "output_type": "stream",
     "text": [
      "Model Saved on  roc_auc 0.6928304296269269\n"
     ]
    },
    {
     "data": {
      "application/vnd.jupyter.widget-view+json": {
       "model_id": "929f503723c540de874b7741689a0946",
       "version_major": 2,
       "version_minor": 0
      },
      "text/plain": [
       "HBox(children=(IntProgress(value=0, max=29), HTML(value='')))"
      ]
     },
     "metadata": {},
     "output_type": "display_data"
    },
    {
     "data": {
      "application/vnd.jupyter.widget-view+json": {
       "model_id": "6d6b4ed55119463b8465e521739a9bed",
       "version_major": 2,
       "version_minor": 0
      },
      "text/plain": [
       "HBox(children=(IntProgress(value=0, max=20), HTML(value='')))"
      ]
     },
     "metadata": {},
     "output_type": "display_data"
    },
    {
     "name": "stdout",
     "output_type": "stream",
     "text": [
      "{'accuracy': 0.694006309148265, 'roc_auc': 0.7127154975827784, 'pr_auc': 0.25815584776636447}\n"
     ]
    },
    {
     "data": {
      "text/html": [
       "<div>\n",
       "<style scoped>\n",
       "    .dataframe tbody tr th:only-of-type {\n",
       "        vertical-align: middle;\n",
       "    }\n",
       "\n",
       "    .dataframe tbody tr th {\n",
       "        vertical-align: top;\n",
       "    }\n",
       "\n",
       "    .dataframe thead th {\n",
       "        text-align: right;\n",
       "    }\n",
       "</style>\n",
       "<table border=\"1\" class=\"dataframe\">\n",
       "  <thead>\n",
       "    <tr style=\"text-align: right;\">\n",
       "      <th></th>\n",
       "      <th>0.0</th>\n",
       "      <th>1.0</th>\n",
       "      <th>micro avg</th>\n",
       "      <th>macro avg</th>\n",
       "      <th>weighted avg</th>\n",
       "    </tr>\n",
       "  </thead>\n",
       "  <tbody>\n",
       "    <tr>\n",
       "      <th>f1-score</th>\n",
       "      <td>0.807</td>\n",
       "      <td>0.265</td>\n",
       "      <td>0.694</td>\n",
       "      <td>0.536</td>\n",
       "      <td>0.758</td>\n",
       "    </tr>\n",
       "    <tr>\n",
       "      <th>precision</th>\n",
       "      <td>0.948</td>\n",
       "      <td>0.169</td>\n",
       "      <td>0.694</td>\n",
       "      <td>0.559</td>\n",
       "      <td>0.878</td>\n",
       "    </tr>\n",
       "    <tr>\n",
       "      <th>recall</th>\n",
       "      <td>0.702</td>\n",
       "      <td>0.614</td>\n",
       "      <td>0.694</td>\n",
       "      <td>0.658</td>\n",
       "      <td>0.694</td>\n",
       "    </tr>\n",
       "    <tr>\n",
       "      <th>support</th>\n",
       "      <td>577.000</td>\n",
       "      <td>57.000</td>\n",
       "      <td>634.000</td>\n",
       "      <td>634.000</td>\n",
       "      <td>634.000</td>\n",
       "    </tr>\n",
       "  </tbody>\n",
       "</table>\n",
       "</div>"
      ],
      "text/plain": [
       "               0.0     1.0  micro avg  macro avg  weighted avg\n",
       "f1-score     0.807   0.265      0.694      0.536         0.758\n",
       "precision    0.948   0.169      0.694      0.559         0.878\n",
       "recall       0.702   0.614      0.694      0.658         0.694\n",
       "support    577.000  57.000    634.000    634.000       634.000"
      ]
     },
     "metadata": {},
     "output_type": "display_data"
    },
    {
     "name": "stdout",
     "output_type": "stream",
     "text": [
      "Model Saved on  roc_auc 0.7127154975827784\n"
     ]
    },
    {
     "data": {
      "application/vnd.jupyter.widget-view+json": {
       "model_id": "2f8f599012f7406185ebaae2ff896836",
       "version_major": 2,
       "version_minor": 0
      },
      "text/plain": [
       "HBox(children=(IntProgress(value=0, max=29), HTML(value='')))"
      ]
     },
     "metadata": {},
     "output_type": "display_data"
    },
    {
     "data": {
      "application/vnd.jupyter.widget-view+json": {
       "model_id": "d9f51a7c22584b6aba26ee692f6ecc69",
       "version_major": 2,
       "version_minor": 0
      },
      "text/plain": [
       "HBox(children=(IntProgress(value=0, max=20), HTML(value='')))"
      ]
     },
     "metadata": {},
     "output_type": "display_data"
    },
    {
     "name": "stdout",
     "output_type": "stream",
     "text": [
      "{'accuracy': 0.7602523659305994, 'roc_auc': 0.7332998875003801, 'pr_auc': 0.2872415519598723}\n"
     ]
    },
    {
     "data": {
      "text/html": [
       "<div>\n",
       "<style scoped>\n",
       "    .dataframe tbody tr th:only-of-type {\n",
       "        vertical-align: middle;\n",
       "    }\n",
       "\n",
       "    .dataframe tbody tr th {\n",
       "        vertical-align: top;\n",
       "    }\n",
       "\n",
       "    .dataframe thead th {\n",
       "        text-align: right;\n",
       "    }\n",
       "</style>\n",
       "<table border=\"1\" class=\"dataframe\">\n",
       "  <thead>\n",
       "    <tr style=\"text-align: right;\">\n",
       "      <th></th>\n",
       "      <th>0.0</th>\n",
       "      <th>1.0</th>\n",
       "      <th>micro avg</th>\n",
       "      <th>macro avg</th>\n",
       "      <th>weighted avg</th>\n",
       "    </tr>\n",
       "  </thead>\n",
       "  <tbody>\n",
       "    <tr>\n",
       "      <th>f1-score</th>\n",
       "      <td>0.856</td>\n",
       "      <td>0.296</td>\n",
       "      <td>0.76</td>\n",
       "      <td>0.576</td>\n",
       "      <td>0.805</td>\n",
       "    </tr>\n",
       "    <tr>\n",
       "      <th>precision</th>\n",
       "      <td>0.947</td>\n",
       "      <td>0.201</td>\n",
       "      <td>0.76</td>\n",
       "      <td>0.574</td>\n",
       "      <td>0.880</td>\n",
       "    </tr>\n",
       "    <tr>\n",
       "      <th>recall</th>\n",
       "      <td>0.780</td>\n",
       "      <td>0.561</td>\n",
       "      <td>0.76</td>\n",
       "      <td>0.671</td>\n",
       "      <td>0.760</td>\n",
       "    </tr>\n",
       "    <tr>\n",
       "      <th>support</th>\n",
       "      <td>577.000</td>\n",
       "      <td>57.000</td>\n",
       "      <td>634.00</td>\n",
       "      <td>634.000</td>\n",
       "      <td>634.000</td>\n",
       "    </tr>\n",
       "  </tbody>\n",
       "</table>\n",
       "</div>"
      ],
      "text/plain": [
       "               0.0     1.0  micro avg  macro avg  weighted avg\n",
       "f1-score     0.856   0.296       0.76      0.576         0.805\n",
       "precision    0.947   0.201       0.76      0.574         0.880\n",
       "recall       0.780   0.561       0.76      0.671         0.760\n",
       "support    577.000  57.000     634.00    634.000       634.000"
      ]
     },
     "metadata": {},
     "output_type": "display_data"
    },
    {
     "name": "stdout",
     "output_type": "stream",
     "text": [
      "Model Saved on  roc_auc 0.7332998875003801\n"
     ]
    },
    {
     "data": {
      "application/vnd.jupyter.widget-view+json": {
       "model_id": "dcbacd629ea842a381792e99b112774b",
       "version_major": 2,
       "version_minor": 0
      },
      "text/plain": [
       "HBox(children=(IntProgress(value=0, max=29), HTML(value='')))"
      ]
     },
     "metadata": {},
     "output_type": "display_data"
    },
    {
     "data": {
      "application/vnd.jupyter.widget-view+json": {
       "model_id": "11d19507b97843a092096cd7e21fbf31",
       "version_major": 2,
       "version_minor": 0
      },
      "text/plain": [
       "HBox(children=(IntProgress(value=0, max=20), HTML(value='')))"
      ]
     },
     "metadata": {},
     "output_type": "display_data"
    },
    {
     "name": "stdout",
     "output_type": "stream",
     "text": [
      "{'accuracy': 0.43690851735015773, 'roc_auc': 0.7429383684514579, 'pr_auc': 0.29855777607710454}\n"
     ]
    },
    {
     "data": {
      "text/html": [
       "<div>\n",
       "<style scoped>\n",
       "    .dataframe tbody tr th:only-of-type {\n",
       "        vertical-align: middle;\n",
       "    }\n",
       "\n",
       "    .dataframe tbody tr th {\n",
       "        vertical-align: top;\n",
       "    }\n",
       "\n",
       "    .dataframe thead th {\n",
       "        text-align: right;\n",
       "    }\n",
       "</style>\n",
       "<table border=\"1\" class=\"dataframe\">\n",
       "  <thead>\n",
       "    <tr style=\"text-align: right;\">\n",
       "      <th></th>\n",
       "      <th>0.0</th>\n",
       "      <th>1.0</th>\n",
       "      <th>micro avg</th>\n",
       "      <th>macro avg</th>\n",
       "      <th>weighted avg</th>\n",
       "    </tr>\n",
       "  </thead>\n",
       "  <tbody>\n",
       "    <tr>\n",
       "      <th>f1-score</th>\n",
       "      <td>0.559</td>\n",
       "      <td>0.222</td>\n",
       "      <td>0.437</td>\n",
       "      <td>0.390</td>\n",
       "      <td>0.528</td>\n",
       "    </tr>\n",
       "    <tr>\n",
       "      <th>precision</th>\n",
       "      <td>0.974</td>\n",
       "      <td>0.127</td>\n",
       "      <td>0.437</td>\n",
       "      <td>0.551</td>\n",
       "      <td>0.898</td>\n",
       "    </tr>\n",
       "    <tr>\n",
       "      <th>recall</th>\n",
       "      <td>0.392</td>\n",
       "      <td>0.895</td>\n",
       "      <td>0.437</td>\n",
       "      <td>0.643</td>\n",
       "      <td>0.437</td>\n",
       "    </tr>\n",
       "    <tr>\n",
       "      <th>support</th>\n",
       "      <td>577.000</td>\n",
       "      <td>57.000</td>\n",
       "      <td>634.000</td>\n",
       "      <td>634.000</td>\n",
       "      <td>634.000</td>\n",
       "    </tr>\n",
       "  </tbody>\n",
       "</table>\n",
       "</div>"
      ],
      "text/plain": [
       "               0.0     1.0  micro avg  macro avg  weighted avg\n",
       "f1-score     0.559   0.222      0.437      0.390         0.528\n",
       "precision    0.974   0.127      0.437      0.551         0.898\n",
       "recall       0.392   0.895      0.437      0.643         0.437\n",
       "support    577.000  57.000    634.000    634.000       634.000"
      ]
     },
     "metadata": {},
     "output_type": "display_data"
    },
    {
     "name": "stdout",
     "output_type": "stream",
     "text": [
      "Model Saved on  roc_auc 0.7429383684514579\n"
     ]
    },
    {
     "data": {
      "application/vnd.jupyter.widget-view+json": {
       "model_id": "23e1ea64c7d04d028f5b5d13b7749ea4",
       "version_major": 2,
       "version_minor": 0
      },
      "text/plain": [
       "HBox(children=(IntProgress(value=0, max=29), HTML(value='')))"
      ]
     },
     "metadata": {},
     "output_type": "display_data"
    },
    {
     "data": {
      "application/vnd.jupyter.widget-view+json": {
       "model_id": "5c1ea287296a4d79971bb1550ea544ab",
       "version_major": 2,
       "version_minor": 0
      },
      "text/plain": [
       "HBox(children=(IntProgress(value=0, max=20), HTML(value='')))"
      ]
     },
     "metadata": {},
     "output_type": "display_data"
    },
    {
     "name": "stdout",
     "output_type": "stream",
     "text": [
      "{'accuracy': 0.8675078864353313, 'roc_auc': 0.7695734136033324, 'pr_auc': 0.3155925306500775}\n"
     ]
    },
    {
     "data": {
      "text/html": [
       "<div>\n",
       "<style scoped>\n",
       "    .dataframe tbody tr th:only-of-type {\n",
       "        vertical-align: middle;\n",
       "    }\n",
       "\n",
       "    .dataframe tbody tr th {\n",
       "        vertical-align: top;\n",
       "    }\n",
       "\n",
       "    .dataframe thead th {\n",
       "        text-align: right;\n",
       "    }\n",
       "</style>\n",
       "<table border=\"1\" class=\"dataframe\">\n",
       "  <thead>\n",
       "    <tr style=\"text-align: right;\">\n",
       "      <th></th>\n",
       "      <th>0.0</th>\n",
       "      <th>1.0</th>\n",
       "      <th>micro avg</th>\n",
       "      <th>macro avg</th>\n",
       "      <th>weighted avg</th>\n",
       "    </tr>\n",
       "  </thead>\n",
       "  <tbody>\n",
       "    <tr>\n",
       "      <th>f1-score</th>\n",
       "      <td>0.927</td>\n",
       "      <td>0.288</td>\n",
       "      <td>0.868</td>\n",
       "      <td>0.608</td>\n",
       "      <td>0.870</td>\n",
       "    </tr>\n",
       "    <tr>\n",
       "      <th>precision</th>\n",
       "      <td>0.930</td>\n",
       "      <td>0.279</td>\n",
       "      <td>0.868</td>\n",
       "      <td>0.604</td>\n",
       "      <td>0.872</td>\n",
       "    </tr>\n",
       "    <tr>\n",
       "      <th>recall</th>\n",
       "      <td>0.924</td>\n",
       "      <td>0.298</td>\n",
       "      <td>0.868</td>\n",
       "      <td>0.611</td>\n",
       "      <td>0.868</td>\n",
       "    </tr>\n",
       "    <tr>\n",
       "      <th>support</th>\n",
       "      <td>577.000</td>\n",
       "      <td>57.000</td>\n",
       "      <td>634.000</td>\n",
       "      <td>634.000</td>\n",
       "      <td>634.000</td>\n",
       "    </tr>\n",
       "  </tbody>\n",
       "</table>\n",
       "</div>"
      ],
      "text/plain": [
       "               0.0     1.0  micro avg  macro avg  weighted avg\n",
       "f1-score     0.927   0.288      0.868      0.608         0.870\n",
       "precision    0.930   0.279      0.868      0.604         0.872\n",
       "recall       0.924   0.298      0.868      0.611         0.868\n",
       "support    577.000  57.000    634.000    634.000       634.000"
      ]
     },
     "metadata": {},
     "output_type": "display_data"
    },
    {
     "name": "stderr",
     "output_type": "stream",
     "text": [
      "INFO - 2019-03-27 19:16:00,363 - instantiating class <class 'PatientVec.models.Model.Model'> from params {'type': 'seq_classifier', 'embedder': {'type': 'token_embedder', 'vocab_size': 19054, 'embed_size': 200, 'embedding_file': './preprocess/HipSurgery/1_yrs/embedding_matrix.npy'}, 'decoder': {'num_layers': 2, 'hidden_dims': [128, 1], 'activations': ['tanh', 'linear']}, 'predictor': {'type': 'binary'}, 'structured': {'use_structured': False}, 'encoder': {'type': 'average', 'projection': True, 'hidden_size': 256, 'activation': 'relu'}} and extras {}\n",
      "INFO - 2019-03-27 19:16:00,364 - type = seq_classifier\n",
      "INFO - 2019-03-27 19:16:00,365 - instantiating class <class 'PatientVec.models.modules.Embedder.Embedder'> from params {'type': 'token_embedder', 'vocab_size': 19054, 'embed_size': 200, 'embedding_file': './preprocess/HipSurgery/1_yrs/embedding_matrix.npy'} and extras {}\n",
      "INFO - 2019-03-27 19:16:00,365 - embedder.type = token_embedder\n",
      "INFO - 2019-03-27 19:16:00,366 - instantiating class <class 'PatientVec.models.modules.Embedder.TokenEmbedder'> from params {'vocab_size': 19054, 'embed_size': 200, 'embedding_file': './preprocess/HipSurgery/1_yrs/embedding_matrix.npy'} and extras {}\n",
      "INFO - 2019-03-27 19:16:00,367 - embedder.vocab_size = 19054\n",
      "INFO - 2019-03-27 19:16:00,367 - embedder.embed_size = 200\n",
      "INFO - 2019-03-27 19:16:00,368 - embedder.embedding_file = ./preprocess/HipSurgery/1_yrs/embedding_matrix.npy\n"
     ]
    },
    {
     "name": "stdout",
     "output_type": "stream",
     "text": [
      "Model Saved on  roc_auc 0.7695734136033324\n",
      "\n",
      "Setting Embedding\n"
     ]
    },
    {
     "name": "stderr",
     "output_type": "stream",
     "text": [
      "INFO - 2019-03-27 19:16:00,391 - instantiating class <class 'PatientVec.models.modules.Encoder.Encoder'> from params {'type': 'average', 'projection': True, 'hidden_size': 256, 'activation': 'relu'} and extras {'input_size': 200}\n",
      "INFO - 2019-03-27 19:16:00,392 - encoder.type = average\n",
      "INFO - 2019-03-27 19:16:00,392 - instantiating class <class 'PatientVec.models.modules.Encoder.AverageEncoder'> from params {'projection': True, 'hidden_size': 256, 'activation': 'relu'} and extras {'input_size': 200}\n",
      "INFO - 2019-03-27 19:16:00,393 - encoder.projection = True\n",
      "INFO - 2019-03-27 19:16:00,393 - encoder.hidden_size = 256\n",
      "INFO - 2019-03-27 19:16:00,394 - encoder.activation = relu\n",
      "INFO - 2019-03-27 19:16:00,395 - decoder.input_dim = 256\n",
      "INFO - 2019-03-27 19:16:00,396 - decoder.num_layers = 2\n",
      "INFO - 2019-03-27 19:16:00,397 - decoder.hidden_dims = [128, 1]\n",
      "INFO - 2019-03-27 19:16:00,397 - decoder.activations = ['tanh', 'linear']\n",
      "INFO - 2019-03-27 19:16:00,398 - decoder.dropout = 0.0\n",
      "INFO - 2019-03-27 19:16:00,400 - instantiating class <class 'PatientVec.models.modules.Predictor.Predictor'> from params {'type': 'binary'} and extras {}\n",
      "INFO - 2019-03-27 19:16:00,401 - predictor.type = binary\n",
      "INFO - 2019-03-27 19:16:00,401 - instantiating class <class 'PatientVec.models.modules.Predictor.Binary_Predictor'> from params {} and extras {}\n",
      "INFO - 2019-03-27 19:16:00,402 - predictor.replicate = False\n",
      "INFO - 2019-03-27 19:16:00,402 - predictor.alpha = 0.5\n"
     ]
    },
    {
     "data": {
      "application/vnd.jupyter.widget-view+json": {
       "model_id": "3935e5560335471aab39d8d7bbba0577",
       "version_major": 2,
       "version_minor": 0
      },
      "text/plain": [
       "HBox(children=(IntProgress(value=0, max=20), HTML(value='')))"
      ]
     },
     "metadata": {},
     "output_type": "display_data"
    },
    {
     "name": "stdout",
     "output_type": "stream",
     "text": [
      "\n",
      "{'accuracy': 0.8675078864353313, 'roc_auc': 0.7695734136033324, 'pr_auc': 0.3155925306500775}\n"
     ]
    },
    {
     "data": {
      "text/html": [
       "<div>\n",
       "<style scoped>\n",
       "    .dataframe tbody tr th:only-of-type {\n",
       "        vertical-align: middle;\n",
       "    }\n",
       "\n",
       "    .dataframe tbody tr th {\n",
       "        vertical-align: top;\n",
       "    }\n",
       "\n",
       "    .dataframe thead th {\n",
       "        text-align: right;\n",
       "    }\n",
       "</style>\n",
       "<table border=\"1\" class=\"dataframe\">\n",
       "  <thead>\n",
       "    <tr style=\"text-align: right;\">\n",
       "      <th></th>\n",
       "      <th>0.0</th>\n",
       "      <th>1.0</th>\n",
       "      <th>micro avg</th>\n",
       "      <th>macro avg</th>\n",
       "      <th>weighted avg</th>\n",
       "    </tr>\n",
       "  </thead>\n",
       "  <tbody>\n",
       "    <tr>\n",
       "      <th>f1-score</th>\n",
       "      <td>0.927</td>\n",
       "      <td>0.288</td>\n",
       "      <td>0.868</td>\n",
       "      <td>0.608</td>\n",
       "      <td>0.870</td>\n",
       "    </tr>\n",
       "    <tr>\n",
       "      <th>precision</th>\n",
       "      <td>0.930</td>\n",
       "      <td>0.279</td>\n",
       "      <td>0.868</td>\n",
       "      <td>0.604</td>\n",
       "      <td>0.872</td>\n",
       "    </tr>\n",
       "    <tr>\n",
       "      <th>recall</th>\n",
       "      <td>0.924</td>\n",
       "      <td>0.298</td>\n",
       "      <td>0.868</td>\n",
       "      <td>0.611</td>\n",
       "      <td>0.868</td>\n",
       "    </tr>\n",
       "    <tr>\n",
       "      <th>support</th>\n",
       "      <td>577.000</td>\n",
       "      <td>57.000</td>\n",
       "      <td>634.000</td>\n",
       "      <td>634.000</td>\n",
       "      <td>634.000</td>\n",
       "    </tr>\n",
       "  </tbody>\n",
       "</table>\n",
       "</div>"
      ],
      "text/plain": [
       "               0.0     1.0  micro avg  macro avg  weighted avg\n",
       "f1-score     0.927   0.288      0.868      0.608         0.870\n",
       "precision    0.930   0.279      0.868      0.604         0.872\n",
       "recall       0.924   0.298      0.868      0.611         0.868\n",
       "support    577.000  57.000    634.000    634.000       634.000"
      ]
     },
     "metadata": {},
     "output_type": "display_data"
    },
    {
     "data": {
      "application/vnd.jupyter.widget-view+json": {
       "model_id": "2f1eeb21ad1a4f56a13588f5555d148a",
       "version_major": 2,
       "version_minor": 0
      },
      "text/plain": [
       "HBox(children=(IntProgress(value=0, max=20), HTML(value='')))"
      ]
     },
     "metadata": {},
     "output_type": "display_data"
    },
    {
     "name": "stdout",
     "output_type": "stream",
     "text": [
      "\n",
      "{'accuracy': 0.8446909667194928, 'roc_auc': 0.6782983133218982, 'pr_auc': 0.13323172658581264}\n"
     ]
    },
    {
     "data": {
      "text/html": [
       "<div>\n",
       "<style scoped>\n",
       "    .dataframe tbody tr th:only-of-type {\n",
       "        vertical-align: middle;\n",
       "    }\n",
       "\n",
       "    .dataframe tbody tr th {\n",
       "        vertical-align: top;\n",
       "    }\n",
       "\n",
       "    .dataframe thead th {\n",
       "        text-align: right;\n",
       "    }\n",
       "</style>\n",
       "<table border=\"1\" class=\"dataframe\">\n",
       "  <thead>\n",
       "    <tr style=\"text-align: right;\">\n",
       "      <th></th>\n",
       "      <th>0.0</th>\n",
       "      <th>1.0</th>\n",
       "      <th>micro avg</th>\n",
       "      <th>macro avg</th>\n",
       "      <th>weighted avg</th>\n",
       "    </tr>\n",
       "  </thead>\n",
       "  <tbody>\n",
       "    <tr>\n",
       "      <th>f1-score</th>\n",
       "      <td>0.915</td>\n",
       "      <td>0.093</td>\n",
       "      <td>0.845</td>\n",
       "      <td>0.504</td>\n",
       "      <td>0.853</td>\n",
       "    </tr>\n",
       "    <tr>\n",
       "      <th>precision</th>\n",
       "      <td>0.925</td>\n",
       "      <td>0.083</td>\n",
       "      <td>0.845</td>\n",
       "      <td>0.504</td>\n",
       "      <td>0.861</td>\n",
       "    </tr>\n",
       "    <tr>\n",
       "      <th>recall</th>\n",
       "      <td>0.906</td>\n",
       "      <td>0.104</td>\n",
       "      <td>0.845</td>\n",
       "      <td>0.505</td>\n",
       "      <td>0.845</td>\n",
       "    </tr>\n",
       "    <tr>\n",
       "      <th>support</th>\n",
       "      <td>583.000</td>\n",
       "      <td>48.000</td>\n",
       "      <td>631.000</td>\n",
       "      <td>631.000</td>\n",
       "      <td>631.000</td>\n",
       "    </tr>\n",
       "  </tbody>\n",
       "</table>\n",
       "</div>"
      ],
      "text/plain": [
       "               0.0     1.0  micro avg  macro avg  weighted avg\n",
       "f1-score     0.915   0.093      0.845      0.504         0.853\n",
       "precision    0.925   0.083      0.845      0.504         0.861\n",
       "recall       0.906   0.104      0.845      0.505         0.845\n",
       "support    583.000  48.000    631.000    631.000       631.000"
      ]
     },
     "metadata": {},
     "output_type": "display_data"
    },
    {
     "name": "stderr",
     "output_type": "stream",
     "text": [
      "INFO - 2019-03-27 19:16:04,236 - instantiating class <class 'PatientVec.models.Model.Model'> from params {'type': 'seq_classifier', 'embedder': {'type': 'token_embedder', 'vocab_size': 19054, 'embed_size': 200, 'embedding_file': './preprocess/HipSurgery/1_yrs/embedding_matrix.npy'}, 'decoder': {'num_layers': 2, 'hidden_dims': [128, 1], 'activations': ['tanh', 'linear']}, 'predictor': {'type': 'binary'}, 'structured': {'use_structured': False}, 'encoder': {'type': 'lstm', 'hidden_size': 128}} and extras {}\n",
      "INFO - 2019-03-27 19:16:04,236 - type = seq_classifier\n",
      "INFO - 2019-03-27 19:16:04,237 - instantiating class <class 'PatientVec.models.modules.Embedder.Embedder'> from params {'type': 'token_embedder', 'vocab_size': 19054, 'embed_size': 200, 'embedding_file': './preprocess/HipSurgery/1_yrs/embedding_matrix.npy'} and extras {}\n",
      "INFO - 2019-03-27 19:16:04,238 - embedder.type = token_embedder\n",
      "INFO - 2019-03-27 19:16:04,238 - instantiating class <class 'PatientVec.models.modules.Embedder.TokenEmbedder'> from params {'vocab_size': 19054, 'embed_size': 200, 'embedding_file': './preprocess/HipSurgery/1_yrs/embedding_matrix.npy'} and extras {}\n",
      "INFO - 2019-03-27 19:16:04,239 - embedder.vocab_size = 19054\n",
      "INFO - 2019-03-27 19:16:04,239 - embedder.embed_size = 200\n",
      "INFO - 2019-03-27 19:16:04,240 - embedder.embedding_file = ./preprocess/HipSurgery/1_yrs/embedding_matrix.npy\n",
      "INFO - 2019-03-27 19:16:04,261 - instantiating class <class 'PatientVec.models.modules.Encoder.Encoder'> from params {'type': 'lstm', 'hidden_size': 128} and extras {'input_size': 200}\n",
      "INFO - 2019-03-27 19:16:04,262 - encoder.type = lstm\n",
      "INFO - 2019-03-27 19:16:04,263 - instantiating class <class 'PatientVec.models.modules.Encoder.wrap_pytorch_rnn.<locals>.BiRNNEncoder'> from params {'hidden_size': 128} and extras {'input_size': 200}\n",
      "INFO - 2019-03-27 19:16:04,263 - encoder.hidden_size = 128\n",
      "INFO - 2019-03-27 19:16:04,268 - decoder.input_dim = 256\n",
      "INFO - 2019-03-27 19:16:04,268 - decoder.num_layers = 2\n",
      "INFO - 2019-03-27 19:16:04,268 - decoder.hidden_dims = [128, 1]\n",
      "INFO - 2019-03-27 19:16:04,269 - decoder.activations = ['tanh', 'linear']\n",
      "INFO - 2019-03-27 19:16:04,269 - decoder.dropout = 0.0\n",
      "INFO - 2019-03-27 19:16:04,271 - instantiating class <class 'PatientVec.models.modules.Predictor.Predictor'> from params {'type': 'binary'} and extras {}\n",
      "INFO - 2019-03-27 19:16:04,271 - predictor.type = binary\n",
      "INFO - 2019-03-27 19:16:04,272 - instantiating class <class 'PatientVec.models.modules.Predictor.Binary_Predictor'> from params {} and extras {}\n",
      "INFO - 2019-03-27 19:16:04,272 - predictor.replicate = False\n",
      "INFO - 2019-03-27 19:16:04,273 - predictor.alpha = 0.5\n"
     ]
    },
    {
     "name": "stdout",
     "output_type": "stream",
     "text": [
      "============================================================================================================================================================================================================================================================================================================\n",
      "{'model': {'type': 'seq_classifier', 'embedder': {'type': 'token_embedder', 'vocab_size': 19054, 'embed_size': 200, 'embedding_file': './preprocess/HipSurgery/1_yrs/embedding_matrix.npy'}, 'decoder': {'num_layers': 2, 'hidden_dims': [128, 1], 'activations': ['tanh', 'linear']}, 'predictor': {'type': 'binary'}, 'structured': {'use_structured': False}, 'encoder': {'type': 'lstm', 'hidden_size': 128}}, 'training_config': {'type': 'Adam', 'groups': [('.*', {'lr': 0.001, 'weight_decay': 1e-05})], 'common': {'bsize': 32, 'class_weight': True}}, 'exp_config': {'exp_name': 'HipSurgery_1/Basic/LSTM(hs=128)', 'basepath': 'outputs/ts_experiments/n=900'}}\n",
      "Setting Embedding\n"
     ]
    },
    {
     "data": {
      "application/vnd.jupyter.widget-view+json": {
       "model_id": "80073bcd18e24c1ca6d7b9b9973ae8d7",
       "version_major": 2,
       "version_minor": 0
      },
      "text/plain": [
       "HBox(children=(IntProgress(value=0, max=8), HTML(value='')))"
      ]
     },
     "metadata": {},
     "output_type": "display_data"
    },
    {
     "data": {
      "application/vnd.jupyter.widget-view+json": {
       "model_id": "093f02339fab46188d5d46a07b37b7f6",
       "version_major": 2,
       "version_minor": 0
      },
      "text/plain": [
       "HBox(children=(IntProgress(value=0, max=29), HTML(value='')))"
      ]
     },
     "metadata": {},
     "output_type": "display_data"
    },
    {
     "data": {
      "application/vnd.jupyter.widget-view+json": {
       "model_id": "0c078d781aa541e59a71b11b1947e9aa",
       "version_major": 2,
       "version_minor": 0
      },
      "text/plain": [
       "HBox(children=(IntProgress(value=0, max=20), HTML(value='')))"
      ]
     },
     "metadata": {},
     "output_type": "display_data"
    },
    {
     "name": "stdout",
     "output_type": "stream",
     "text": [
      "{'accuracy': 0.7996845425867508, 'roc_auc': 0.7050533613062118, 'pr_auc': 0.1686556344597644}\n"
     ]
    },
    {
     "data": {
      "text/html": [
       "<div>\n",
       "<style scoped>\n",
       "    .dataframe tbody tr th:only-of-type {\n",
       "        vertical-align: middle;\n",
       "    }\n",
       "\n",
       "    .dataframe tbody tr th {\n",
       "        vertical-align: top;\n",
       "    }\n",
       "\n",
       "    .dataframe thead th {\n",
       "        text-align: right;\n",
       "    }\n",
       "</style>\n",
       "<table border=\"1\" class=\"dataframe\">\n",
       "  <thead>\n",
       "    <tr style=\"text-align: right;\">\n",
       "      <th></th>\n",
       "      <th>0.0</th>\n",
       "      <th>1.0</th>\n",
       "      <th>micro avg</th>\n",
       "      <th>macro avg</th>\n",
       "      <th>weighted avg</th>\n",
       "    </tr>\n",
       "  </thead>\n",
       "  <tbody>\n",
       "    <tr>\n",
       "      <th>f1-score</th>\n",
       "      <td>0.885</td>\n",
       "      <td>0.221</td>\n",
       "      <td>0.8</td>\n",
       "      <td>0.553</td>\n",
       "      <td>0.825</td>\n",
       "    </tr>\n",
       "    <tr>\n",
       "      <th>precision</th>\n",
       "      <td>0.926</td>\n",
       "      <td>0.170</td>\n",
       "      <td>0.8</td>\n",
       "      <td>0.548</td>\n",
       "      <td>0.858</td>\n",
       "    </tr>\n",
       "    <tr>\n",
       "      <th>recall</th>\n",
       "      <td>0.847</td>\n",
       "      <td>0.316</td>\n",
       "      <td>0.8</td>\n",
       "      <td>0.582</td>\n",
       "      <td>0.800</td>\n",
       "    </tr>\n",
       "    <tr>\n",
       "      <th>support</th>\n",
       "      <td>577.000</td>\n",
       "      <td>57.000</td>\n",
       "      <td>634.0</td>\n",
       "      <td>634.000</td>\n",
       "      <td>634.000</td>\n",
       "    </tr>\n",
       "  </tbody>\n",
       "</table>\n",
       "</div>"
      ],
      "text/plain": [
       "               0.0     1.0  micro avg  macro avg  weighted avg\n",
       "f1-score     0.885   0.221        0.8      0.553         0.825\n",
       "precision    0.926   0.170        0.8      0.548         0.858\n",
       "recall       0.847   0.316        0.8      0.582         0.800\n",
       "support    577.000  57.000      634.0    634.000       634.000"
      ]
     },
     "metadata": {},
     "output_type": "display_data"
    },
    {
     "name": "stdout",
     "output_type": "stream",
     "text": [
      "Model Saved on  roc_auc 0.7050533613062118\n"
     ]
    },
    {
     "data": {
      "application/vnd.jupyter.widget-view+json": {
       "model_id": "cd58337b8507486d84fc70ba9f0e2026",
       "version_major": 2,
       "version_minor": 0
      },
      "text/plain": [
       "HBox(children=(IntProgress(value=0, max=29), HTML(value='')))"
      ]
     },
     "metadata": {},
     "output_type": "display_data"
    },
    {
     "data": {
      "application/vnd.jupyter.widget-view+json": {
       "model_id": "99bea9c0fa4f4abebd25cca5a77a73e6",
       "version_major": 2,
       "version_minor": 0
      },
      "text/plain": [
       "HBox(children=(IntProgress(value=0, max=20), HTML(value='')))"
      ]
     },
     "metadata": {},
     "output_type": "display_data"
    },
    {
     "name": "stdout",
     "output_type": "stream",
     "text": [
      "{'accuracy': 0.5977917981072555, 'roc_auc': 0.6663474109884765, 'pr_auc': 0.15383966976892055}\n"
     ]
    },
    {
     "data": {
      "text/html": [
       "<div>\n",
       "<style scoped>\n",
       "    .dataframe tbody tr th:only-of-type {\n",
       "        vertical-align: middle;\n",
       "    }\n",
       "\n",
       "    .dataframe tbody tr th {\n",
       "        vertical-align: top;\n",
       "    }\n",
       "\n",
       "    .dataframe thead th {\n",
       "        text-align: right;\n",
       "    }\n",
       "</style>\n",
       "<table border=\"1\" class=\"dataframe\">\n",
       "  <thead>\n",
       "    <tr style=\"text-align: right;\">\n",
       "      <th></th>\n",
       "      <th>0.0</th>\n",
       "      <th>1.0</th>\n",
       "      <th>micro avg</th>\n",
       "      <th>macro avg</th>\n",
       "      <th>weighted avg</th>\n",
       "    </tr>\n",
       "  </thead>\n",
       "  <tbody>\n",
       "    <tr>\n",
       "      <th>f1-score</th>\n",
       "      <td>0.730</td>\n",
       "      <td>0.211</td>\n",
       "      <td>0.598</td>\n",
       "      <td>0.470</td>\n",
       "      <td>0.683</td>\n",
       "    </tr>\n",
       "    <tr>\n",
       "      <th>precision</th>\n",
       "      <td>0.938</td>\n",
       "      <td>0.128</td>\n",
       "      <td>0.598</td>\n",
       "      <td>0.533</td>\n",
       "      <td>0.865</td>\n",
       "    </tr>\n",
       "    <tr>\n",
       "      <th>recall</th>\n",
       "      <td>0.598</td>\n",
       "      <td>0.596</td>\n",
       "      <td>0.598</td>\n",
       "      <td>0.597</td>\n",
       "      <td>0.598</td>\n",
       "    </tr>\n",
       "    <tr>\n",
       "      <th>support</th>\n",
       "      <td>577.000</td>\n",
       "      <td>57.000</td>\n",
       "      <td>634.000</td>\n",
       "      <td>634.000</td>\n",
       "      <td>634.000</td>\n",
       "    </tr>\n",
       "  </tbody>\n",
       "</table>\n",
       "</div>"
      ],
      "text/plain": [
       "               0.0     1.0  micro avg  macro avg  weighted avg\n",
       "f1-score     0.730   0.211      0.598      0.470         0.683\n",
       "precision    0.938   0.128      0.598      0.533         0.865\n",
       "recall       0.598   0.596      0.598      0.597         0.598\n",
       "support    577.000  57.000    634.000    634.000       634.000"
      ]
     },
     "metadata": {},
     "output_type": "display_data"
    },
    {
     "name": "stdout",
     "output_type": "stream",
     "text": [
      "Model not saved on  roc_auc 0.6663474109884765\n"
     ]
    },
    {
     "data": {
      "application/vnd.jupyter.widget-view+json": {
       "model_id": "0d7e2ec6bbf6459ba773dfe0142b69a6",
       "version_major": 2,
       "version_minor": 0
      },
      "text/plain": [
       "HBox(children=(IntProgress(value=0, max=29), HTML(value='')))"
      ]
     },
     "metadata": {},
     "output_type": "display_data"
    },
    {
     "data": {
      "application/vnd.jupyter.widget-view+json": {
       "model_id": "18c72359c47e4e4b9eec53e5728cdc2c",
       "version_major": 2,
       "version_minor": 0
      },
      "text/plain": [
       "HBox(children=(IntProgress(value=0, max=20), HTML(value='')))"
      ]
     },
     "metadata": {},
     "output_type": "display_data"
    },
    {
     "name": "stdout",
     "output_type": "stream",
     "text": [
      "{'accuracy': 0.637223974763407, 'roc_auc': 0.6626835720149594, 'pr_auc': 0.1529703642141583}\n"
     ]
    },
    {
     "data": {
      "text/html": [
       "<div>\n",
       "<style scoped>\n",
       "    .dataframe tbody tr th:only-of-type {\n",
       "        vertical-align: middle;\n",
       "    }\n",
       "\n",
       "    .dataframe tbody tr th {\n",
       "        vertical-align: top;\n",
       "    }\n",
       "\n",
       "    .dataframe thead th {\n",
       "        text-align: right;\n",
       "    }\n",
       "</style>\n",
       "<table border=\"1\" class=\"dataframe\">\n",
       "  <thead>\n",
       "    <tr style=\"text-align: right;\">\n",
       "      <th></th>\n",
       "      <th>0.0</th>\n",
       "      <th>1.0</th>\n",
       "      <th>micro avg</th>\n",
       "      <th>macro avg</th>\n",
       "      <th>weighted avg</th>\n",
       "    </tr>\n",
       "  </thead>\n",
       "  <tbody>\n",
       "    <tr>\n",
       "      <th>f1-score</th>\n",
       "      <td>0.761</td>\n",
       "      <td>0.243</td>\n",
       "      <td>0.637</td>\n",
       "      <td>0.502</td>\n",
       "      <td>0.715</td>\n",
       "    </tr>\n",
       "    <tr>\n",
       "      <th>precision</th>\n",
       "      <td>0.948</td>\n",
       "      <td>0.150</td>\n",
       "      <td>0.637</td>\n",
       "      <td>0.549</td>\n",
       "      <td>0.877</td>\n",
       "    </tr>\n",
       "    <tr>\n",
       "      <th>recall</th>\n",
       "      <td>0.636</td>\n",
       "      <td>0.649</td>\n",
       "      <td>0.637</td>\n",
       "      <td>0.643</td>\n",
       "      <td>0.637</td>\n",
       "    </tr>\n",
       "    <tr>\n",
       "      <th>support</th>\n",
       "      <td>577.000</td>\n",
       "      <td>57.000</td>\n",
       "      <td>634.000</td>\n",
       "      <td>634.000</td>\n",
       "      <td>634.000</td>\n",
       "    </tr>\n",
       "  </tbody>\n",
       "</table>\n",
       "</div>"
      ],
      "text/plain": [
       "               0.0     1.0  micro avg  macro avg  weighted avg\n",
       "f1-score     0.761   0.243      0.637      0.502         0.715\n",
       "precision    0.948   0.150      0.637      0.549         0.877\n",
       "recall       0.636   0.649      0.637      0.643         0.637\n",
       "support    577.000  57.000    634.000    634.000       634.000"
      ]
     },
     "metadata": {},
     "output_type": "display_data"
    },
    {
     "name": "stdout",
     "output_type": "stream",
     "text": [
      "Model not saved on  roc_auc 0.6626835720149594\n"
     ]
    },
    {
     "data": {
      "application/vnd.jupyter.widget-view+json": {
       "model_id": "d341fbb1f8fe4ca5b785402833f540cd",
       "version_major": 2,
       "version_minor": 0
      },
      "text/plain": [
       "HBox(children=(IntProgress(value=0, max=29), HTML(value='')))"
      ]
     },
     "metadata": {},
     "output_type": "display_data"
    },
    {
     "data": {
      "application/vnd.jupyter.widget-view+json": {
       "model_id": "c4c1409dd2b2434da00b249ed5449b79",
       "version_major": 2,
       "version_minor": 0
      },
      "text/plain": [
       "HBox(children=(IntProgress(value=0, max=20), HTML(value='')))"
      ]
     },
     "metadata": {},
     "output_type": "display_data"
    },
    {
     "name": "stdout",
     "output_type": "stream",
     "text": [
      "{'accuracy': 0.750788643533123, 'roc_auc': 0.6760162972422391, 'pr_auc': 0.18129952587452558}\n"
     ]
    },
    {
     "data": {
      "text/html": [
       "<div>\n",
       "<style scoped>\n",
       "    .dataframe tbody tr th:only-of-type {\n",
       "        vertical-align: middle;\n",
       "    }\n",
       "\n",
       "    .dataframe tbody tr th {\n",
       "        vertical-align: top;\n",
       "    }\n",
       "\n",
       "    .dataframe thead th {\n",
       "        text-align: right;\n",
       "    }\n",
       "</style>\n",
       "<table border=\"1\" class=\"dataframe\">\n",
       "  <thead>\n",
       "    <tr style=\"text-align: right;\">\n",
       "      <th></th>\n",
       "      <th>0.0</th>\n",
       "      <th>1.0</th>\n",
       "      <th>micro avg</th>\n",
       "      <th>macro avg</th>\n",
       "      <th>weighted avg</th>\n",
       "    </tr>\n",
       "  </thead>\n",
       "  <tbody>\n",
       "    <tr>\n",
       "      <th>f1-score</th>\n",
       "      <td>0.850</td>\n",
       "      <td>0.262</td>\n",
       "      <td>0.751</td>\n",
       "      <td>0.556</td>\n",
       "      <td>0.797</td>\n",
       "    </tr>\n",
       "    <tr>\n",
       "      <th>precision</th>\n",
       "      <td>0.939</td>\n",
       "      <td>0.178</td>\n",
       "      <td>0.751</td>\n",
       "      <td>0.559</td>\n",
       "      <td>0.871</td>\n",
       "    </tr>\n",
       "    <tr>\n",
       "      <th>recall</th>\n",
       "      <td>0.776</td>\n",
       "      <td>0.491</td>\n",
       "      <td>0.751</td>\n",
       "      <td>0.634</td>\n",
       "      <td>0.751</td>\n",
       "    </tr>\n",
       "    <tr>\n",
       "      <th>support</th>\n",
       "      <td>577.000</td>\n",
       "      <td>57.000</td>\n",
       "      <td>634.000</td>\n",
       "      <td>634.000</td>\n",
       "      <td>634.000</td>\n",
       "    </tr>\n",
       "  </tbody>\n",
       "</table>\n",
       "</div>"
      ],
      "text/plain": [
       "               0.0     1.0  micro avg  macro avg  weighted avg\n",
       "f1-score     0.850   0.262      0.751      0.556         0.797\n",
       "precision    0.939   0.178      0.751      0.559         0.871\n",
       "recall       0.776   0.491      0.751      0.634         0.751\n",
       "support    577.000  57.000    634.000    634.000       634.000"
      ]
     },
     "metadata": {},
     "output_type": "display_data"
    },
    {
     "name": "stderr",
     "output_type": "stream",
     "text": [
      "INFO - 2019-03-27 19:18:02,130 - instantiating class <class 'PatientVec.models.Model.Model'> from params {'type': 'seq_classifier', 'embedder': {'type': 'token_embedder', 'vocab_size': 19054, 'embed_size': 200, 'embedding_file': './preprocess/HipSurgery/1_yrs/embedding_matrix.npy'}, 'decoder': {'num_layers': 2, 'hidden_dims': [128, 1], 'activations': ['tanh', 'linear']}, 'predictor': {'type': 'binary'}, 'structured': {'use_structured': False}, 'encoder': {'type': 'lstm', 'hidden_size': 128}} and extras {}\n",
      "INFO - 2019-03-27 19:18:02,131 - type = seq_classifier\n",
      "INFO - 2019-03-27 19:18:02,132 - instantiating class <class 'PatientVec.models.modules.Embedder.Embedder'> from params {'type': 'token_embedder', 'vocab_size': 19054, 'embed_size': 200, 'embedding_file': './preprocess/HipSurgery/1_yrs/embedding_matrix.npy'} and extras {}\n",
      "INFO - 2019-03-27 19:18:02,133 - embedder.type = token_embedder\n",
      "INFO - 2019-03-27 19:18:02,134 - instantiating class <class 'PatientVec.models.modules.Embedder.TokenEmbedder'> from params {'vocab_size': 19054, 'embed_size': 200, 'embedding_file': './preprocess/HipSurgery/1_yrs/embedding_matrix.npy'} and extras {}\n",
      "INFO - 2019-03-27 19:18:02,134 - embedder.vocab_size = 19054\n",
      "INFO - 2019-03-27 19:18:02,135 - embedder.embed_size = 200\n",
      "INFO - 2019-03-27 19:18:02,136 - embedder.embedding_file = ./preprocess/HipSurgery/1_yrs/embedding_matrix.npy\n",
      "INFO - 2019-03-27 19:18:02,155 - instantiating class <class 'PatientVec.models.modules.Encoder.Encoder'> from params {'type': 'lstm', 'hidden_size': 128} and extras {'input_size': 200}\n",
      "INFO - 2019-03-27 19:18:02,155 - encoder.type = lstm\n",
      "INFO - 2019-03-27 19:18:02,156 - instantiating class <class 'PatientVec.models.modules.Encoder.wrap_pytorch_rnn.<locals>.BiRNNEncoder'> from params {'hidden_size': 128} and extras {'input_size': 200}\n",
      "INFO - 2019-03-27 19:18:02,157 - encoder.hidden_size = 128\n",
      "INFO - 2019-03-27 19:18:02,160 - decoder.input_dim = 256\n",
      "INFO - 2019-03-27 19:18:02,161 - decoder.num_layers = 2\n",
      "INFO - 2019-03-27 19:18:02,161 - decoder.hidden_dims = [128, 1]\n",
      "INFO - 2019-03-27 19:18:02,162 - decoder.activations = ['tanh', 'linear']\n",
      "INFO - 2019-03-27 19:18:02,162 - decoder.dropout = 0.0\n",
      "INFO - 2019-03-27 19:18:02,164 - instantiating class <class 'PatientVec.models.modules.Predictor.Predictor'> from params {'type': 'binary'} and extras {}\n",
      "INFO - 2019-03-27 19:18:02,165 - predictor.type = binary\n",
      "INFO - 2019-03-27 19:18:02,165 - instantiating class <class 'PatientVec.models.modules.Predictor.Binary_Predictor'> from params {} and extras {}\n",
      "INFO - 2019-03-27 19:18:02,166 - predictor.replicate = False\n",
      "INFO - 2019-03-27 19:18:02,166 - predictor.alpha = 0.5\n"
     ]
    },
    {
     "name": "stdout",
     "output_type": "stream",
     "text": [
      "Model not saved on  roc_auc 0.6760162972422391\n",
      "0.7050533613062118 deque([0.6663474109884765, 0.6626835720149594, 0.6760162972422391], maxlen=3)\n",
      "\n",
      "Setting Embedding\n"
     ]
    },
    {
     "data": {
      "application/vnd.jupyter.widget-view+json": {
       "model_id": "435a60494ce047e088c513e362b51ced",
       "version_major": 2,
       "version_minor": 0
      },
      "text/plain": [
       "HBox(children=(IntProgress(value=0, max=20), HTML(value='')))"
      ]
     },
     "metadata": {},
     "output_type": "display_data"
    },
    {
     "name": "stdout",
     "output_type": "stream",
     "text": [
      "\n",
      "{'accuracy': 0.7996845425867508, 'roc_auc': 0.7050533613062118, 'pr_auc': 0.1686556344597644}\n"
     ]
    },
    {
     "data": {
      "text/html": [
       "<div>\n",
       "<style scoped>\n",
       "    .dataframe tbody tr th:only-of-type {\n",
       "        vertical-align: middle;\n",
       "    }\n",
       "\n",
       "    .dataframe tbody tr th {\n",
       "        vertical-align: top;\n",
       "    }\n",
       "\n",
       "    .dataframe thead th {\n",
       "        text-align: right;\n",
       "    }\n",
       "</style>\n",
       "<table border=\"1\" class=\"dataframe\">\n",
       "  <thead>\n",
       "    <tr style=\"text-align: right;\">\n",
       "      <th></th>\n",
       "      <th>0.0</th>\n",
       "      <th>1.0</th>\n",
       "      <th>micro avg</th>\n",
       "      <th>macro avg</th>\n",
       "      <th>weighted avg</th>\n",
       "    </tr>\n",
       "  </thead>\n",
       "  <tbody>\n",
       "    <tr>\n",
       "      <th>f1-score</th>\n",
       "      <td>0.885</td>\n",
       "      <td>0.221</td>\n",
       "      <td>0.8</td>\n",
       "      <td>0.553</td>\n",
       "      <td>0.825</td>\n",
       "    </tr>\n",
       "    <tr>\n",
       "      <th>precision</th>\n",
       "      <td>0.926</td>\n",
       "      <td>0.170</td>\n",
       "      <td>0.8</td>\n",
       "      <td>0.548</td>\n",
       "      <td>0.858</td>\n",
       "    </tr>\n",
       "    <tr>\n",
       "      <th>recall</th>\n",
       "      <td>0.847</td>\n",
       "      <td>0.316</td>\n",
       "      <td>0.8</td>\n",
       "      <td>0.582</td>\n",
       "      <td>0.800</td>\n",
       "    </tr>\n",
       "    <tr>\n",
       "      <th>support</th>\n",
       "      <td>577.000</td>\n",
       "      <td>57.000</td>\n",
       "      <td>634.0</td>\n",
       "      <td>634.000</td>\n",
       "      <td>634.000</td>\n",
       "    </tr>\n",
       "  </tbody>\n",
       "</table>\n",
       "</div>"
      ],
      "text/plain": [
       "               0.0     1.0  micro avg  macro avg  weighted avg\n",
       "f1-score     0.885   0.221        0.8      0.553         0.825\n",
       "precision    0.926   0.170        0.8      0.548         0.858\n",
       "recall       0.847   0.316        0.8      0.582         0.800\n",
       "support    577.000  57.000      634.0    634.000       634.000"
      ]
     },
     "metadata": {},
     "output_type": "display_data"
    },
    {
     "data": {
      "application/vnd.jupyter.widget-view+json": {
       "model_id": "f99cb4eb93d748e290ffdd73750b3e80",
       "version_major": 2,
       "version_minor": 0
      },
      "text/plain": [
       "HBox(children=(IntProgress(value=0, max=20), HTML(value='')))"
      ]
     },
     "metadata": {},
     "output_type": "display_data"
    },
    {
     "name": "stdout",
     "output_type": "stream",
     "text": [
      "\n",
      "{'accuracy': 0.7987321711568938, 'roc_auc': 0.4856167810177244, 'pr_auc': 0.07495650223050436}\n"
     ]
    },
    {
     "data": {
      "text/html": [
       "<div>\n",
       "<style scoped>\n",
       "    .dataframe tbody tr th:only-of-type {\n",
       "        vertical-align: middle;\n",
       "    }\n",
       "\n",
       "    .dataframe tbody tr th {\n",
       "        vertical-align: top;\n",
       "    }\n",
       "\n",
       "    .dataframe thead th {\n",
       "        text-align: right;\n",
       "    }\n",
       "</style>\n",
       "<table border=\"1\" class=\"dataframe\">\n",
       "  <thead>\n",
       "    <tr style=\"text-align: right;\">\n",
       "      <th></th>\n",
       "      <th>0.0</th>\n",
       "      <th>1.0</th>\n",
       "      <th>micro avg</th>\n",
       "      <th>macro avg</th>\n",
       "      <th>weighted avg</th>\n",
       "    </tr>\n",
       "  </thead>\n",
       "  <tbody>\n",
       "    <tr>\n",
       "      <th>f1-score</th>\n",
       "      <td>0.887</td>\n",
       "      <td>0.059</td>\n",
       "      <td>0.799</td>\n",
       "      <td>0.473</td>\n",
       "      <td>0.824</td>\n",
       "    </tr>\n",
       "    <tr>\n",
       "      <th>precision</th>\n",
       "      <td>0.919</td>\n",
       "      <td>0.046</td>\n",
       "      <td>0.799</td>\n",
       "      <td>0.483</td>\n",
       "      <td>0.853</td>\n",
       "    </tr>\n",
       "    <tr>\n",
       "      <th>recall</th>\n",
       "      <td>0.858</td>\n",
       "      <td>0.083</td>\n",
       "      <td>0.799</td>\n",
       "      <td>0.470</td>\n",
       "      <td>0.799</td>\n",
       "    </tr>\n",
       "    <tr>\n",
       "      <th>support</th>\n",
       "      <td>583.000</td>\n",
       "      <td>48.000</td>\n",
       "      <td>631.000</td>\n",
       "      <td>631.000</td>\n",
       "      <td>631.000</td>\n",
       "    </tr>\n",
       "  </tbody>\n",
       "</table>\n",
       "</div>"
      ],
      "text/plain": [
       "               0.0     1.0  micro avg  macro avg  weighted avg\n",
       "f1-score     0.887   0.059      0.799      0.473         0.824\n",
       "precision    0.919   0.046      0.799      0.483         0.853\n",
       "recall       0.858   0.083      0.799      0.470         0.799\n",
       "support    583.000  48.000    631.000    631.000       631.000"
      ]
     },
     "metadata": {},
     "output_type": "display_data"
    },
    {
     "name": "stderr",
     "output_type": "stream",
     "text": [
      "INFO - 2019-03-27 19:18:26,563 - instantiating class <class 'PatientVec.models.Model.Model'> from params {'type': 'seq_classifier_with_attention', 'embedder': {'type': 'token_embedder', 'vocab_size': 19054, 'embed_size': 200, 'embedding_file': './preprocess/HipSurgery/1_yrs/embedding_matrix.npy'}, 'decoder': {'num_layers': 2, 'hidden_dims': [128, 1], 'activations': ['tanh', 'linear']}, 'predictor': {'type': 'binary'}, 'structured': {'use_structured': False}, 'encoder': {'type': 'lstm', 'hidden_size': 128}, 'attention': {'similarity': {'type': 'additive', 'hidden_size': 128}}} and extras {}\n",
      "INFO - 2019-03-27 19:18:26,564 - type = seq_classifier_with_attention\n",
      "INFO - 2019-03-27 19:18:26,565 - instantiating class <class 'PatientVec.models.modules.Embedder.Embedder'> from params {'type': 'token_embedder', 'vocab_size': 19054, 'embed_size': 200, 'embedding_file': './preprocess/HipSurgery/1_yrs/embedding_matrix.npy'} and extras {}\n",
      "INFO - 2019-03-27 19:18:26,566 - embedder.type = token_embedder\n",
      "INFO - 2019-03-27 19:18:26,567 - instantiating class <class 'PatientVec.models.modules.Embedder.TokenEmbedder'> from params {'vocab_size': 19054, 'embed_size': 200, 'embedding_file': './preprocess/HipSurgery/1_yrs/embedding_matrix.npy'} and extras {}\n",
      "INFO - 2019-03-27 19:18:26,567 - embedder.vocab_size = 19054\n",
      "INFO - 2019-03-27 19:18:26,568 - embedder.embed_size = 200\n",
      "INFO - 2019-03-27 19:18:26,569 - embedder.embedding_file = ./preprocess/HipSurgery/1_yrs/embedding_matrix.npy\n",
      "INFO - 2019-03-27 19:18:26,597 - instantiating class <class 'PatientVec.models.modules.Encoder.Encoder'> from params {'type': 'lstm', 'hidden_size': 128} and extras {'input_size': 200}\n",
      "INFO - 2019-03-27 19:18:26,597 - encoder.type = lstm\n",
      "INFO - 2019-03-27 19:18:26,598 - instantiating class <class 'PatientVec.models.modules.Encoder.wrap_pytorch_rnn.<locals>.BiRNNEncoder'> from params {'hidden_size': 128} and extras {'input_size': 200}\n",
      "INFO - 2019-03-27 19:18:26,598 - encoder.hidden_size = 128\n",
      "INFO - 2019-03-27 19:18:26,602 - instantiating class <class 'PatientVec.models.modules.SelfAttention.SelfAttention'> from params {'similarity': {'type': 'additive', 'hidden_size': 128, 'tensor_1_dim': 256}} and extras {}\n",
      "INFO - 2019-03-27 19:18:26,602 - instantiating class <class 'PatientVec.models.modules.UniSimilarity.UniSimilarity'> from params {'type': 'additive', 'hidden_size': 128, 'tensor_1_dim': 256} and extras {}\n",
      "INFO - 2019-03-27 19:18:26,603 - attention.similarity.type = additive\n",
      "INFO - 2019-03-27 19:18:26,604 - instantiating class <class 'PatientVec.models.modules.UniSimilarity.UniAdditiveSimilarity'> from params {'hidden_size': 128, 'tensor_1_dim': 256} and extras {}\n",
      "INFO - 2019-03-27 19:18:26,604 - attention.similarity.tensor_1_dim = 256\n",
      "INFO - 2019-03-27 19:18:26,605 - attention.similarity.hidden_size = 128\n",
      "INFO - 2019-03-27 19:18:26,605 - attention.similarity.output_size = 1\n",
      "INFO - 2019-03-27 19:18:26,607 - attention.normaliser = softmax\n",
      "INFO - 2019-03-27 19:18:26,608 - decoder.input_dim = 256\n",
      "INFO - 2019-03-27 19:18:26,608 - decoder.num_layers = 2\n",
      "INFO - 2019-03-27 19:18:26,609 - decoder.hidden_dims = [128, 1]\n",
      "INFO - 2019-03-27 19:18:26,609 - decoder.activations = ['tanh', 'linear']\n",
      "INFO - 2019-03-27 19:18:26,610 - decoder.dropout = 0.0\n",
      "INFO - 2019-03-27 19:18:26,612 - instantiating class <class 'PatientVec.models.modules.Predictor.Predictor'> from params {'type': 'binary'} and extras {}\n",
      "INFO - 2019-03-27 19:18:26,613 - predictor.type = binary\n",
      "INFO - 2019-03-27 19:18:26,614 - instantiating class <class 'PatientVec.models.modules.Predictor.Binary_Predictor'> from params {} and extras {}\n",
      "INFO - 2019-03-27 19:18:26,614 - predictor.replicate = False\n",
      "INFO - 2019-03-27 19:18:26,614 - predictor.alpha = 0.5\n"
     ]
    },
    {
     "name": "stdout",
     "output_type": "stream",
     "text": [
      "============================================================================================================================================================================================================================================================================================================\n",
      "{'model': {'type': 'seq_classifier_with_attention', 'embedder': {'type': 'token_embedder', 'vocab_size': 19054, 'embed_size': 200, 'embedding_file': './preprocess/HipSurgery/1_yrs/embedding_matrix.npy'}, 'decoder': {'num_layers': 2, 'hidden_dims': [128, 1], 'activations': ['tanh', 'linear']}, 'predictor': {'type': 'binary'}, 'structured': {'use_structured': False}, 'encoder': {'type': 'lstm', 'hidden_size': 128}, 'attention': {'similarity': {'type': 'additive', 'hidden_size': 128}}}, 'training_config': {'type': 'Adam', 'groups': [('.*', {'lr': 0.001, 'weight_decay': 1e-05})], 'common': {'bsize': 32, 'class_weight': True}}, 'exp_config': {'exp_name': 'HipSurgery_1/Attention/LSTM(hs=128)+Attention(additive)(hs=128)', 'basepath': 'outputs/ts_experiments/n=900'}}\n",
      "Setting Embedding\n"
     ]
    },
    {
     "data": {
      "application/vnd.jupyter.widget-view+json": {
       "model_id": "340e427cfdd34c6b94ee575e4d0ebe25",
       "version_major": 2,
       "version_minor": 0
      },
      "text/plain": [
       "HBox(children=(IntProgress(value=0, max=8), HTML(value='')))"
      ]
     },
     "metadata": {},
     "output_type": "display_data"
    },
    {
     "data": {
      "application/vnd.jupyter.widget-view+json": {
       "model_id": "99e82cfe535b4af28d553236445b0583",
       "version_major": 2,
       "version_minor": 0
      },
      "text/plain": [
       "HBox(children=(IntProgress(value=0, max=29), HTML(value='')))"
      ]
     },
     "metadata": {},
     "output_type": "display_data"
    },
    {
     "data": {
      "application/vnd.jupyter.widget-view+json": {
       "model_id": "faf0ecbcb70b425a807ec1ce259a4a11",
       "version_major": 2,
       "version_minor": 0
      },
      "text/plain": [
       "HBox(children=(IntProgress(value=0, max=20), HTML(value='')))"
      ]
     },
     "metadata": {},
     "output_type": "display_data"
    },
    {
     "name": "stdout",
     "output_type": "stream",
     "text": [
      "{'accuracy': 0.12460567823343849, 'roc_auc': 0.6780230472194351, 'pr_auc': 0.17845724494748721}\n"
     ]
    },
    {
     "data": {
      "text/html": [
       "<div>\n",
       "<style scoped>\n",
       "    .dataframe tbody tr th:only-of-type {\n",
       "        vertical-align: middle;\n",
       "    }\n",
       "\n",
       "    .dataframe tbody tr th {\n",
       "        vertical-align: top;\n",
       "    }\n",
       "\n",
       "    .dataframe thead th {\n",
       "        text-align: right;\n",
       "    }\n",
       "</style>\n",
       "<table border=\"1\" class=\"dataframe\">\n",
       "  <thead>\n",
       "    <tr style=\"text-align: right;\">\n",
       "      <th></th>\n",
       "      <th>0.0</th>\n",
       "      <th>1.0</th>\n",
       "      <th>micro avg</th>\n",
       "      <th>macro avg</th>\n",
       "      <th>weighted avg</th>\n",
       "    </tr>\n",
       "  </thead>\n",
       "  <tbody>\n",
       "    <tr>\n",
       "      <th>f1-score</th>\n",
       "      <td>0.077</td>\n",
       "      <td>0.168</td>\n",
       "      <td>0.125</td>\n",
       "      <td>0.122</td>\n",
       "      <td>0.085</td>\n",
       "    </tr>\n",
       "    <tr>\n",
       "      <th>precision</th>\n",
       "      <td>0.958</td>\n",
       "      <td>0.092</td>\n",
       "      <td>0.125</td>\n",
       "      <td>0.525</td>\n",
       "      <td>0.880</td>\n",
       "    </tr>\n",
       "    <tr>\n",
       "      <th>recall</th>\n",
       "      <td>0.040</td>\n",
       "      <td>0.982</td>\n",
       "      <td>0.125</td>\n",
       "      <td>0.511</td>\n",
       "      <td>0.125</td>\n",
       "    </tr>\n",
       "    <tr>\n",
       "      <th>support</th>\n",
       "      <td>577.000</td>\n",
       "      <td>57.000</td>\n",
       "      <td>634.000</td>\n",
       "      <td>634.000</td>\n",
       "      <td>634.000</td>\n",
       "    </tr>\n",
       "  </tbody>\n",
       "</table>\n",
       "</div>"
      ],
      "text/plain": [
       "               0.0     1.0  micro avg  macro avg  weighted avg\n",
       "f1-score     0.077   0.168      0.125      0.122         0.085\n",
       "precision    0.958   0.092      0.125      0.525         0.880\n",
       "recall       0.040   0.982      0.125      0.511         0.125\n",
       "support    577.000  57.000    634.000    634.000       634.000"
      ]
     },
     "metadata": {},
     "output_type": "display_data"
    },
    {
     "name": "stdout",
     "output_type": "stream",
     "text": [
      "Model Saved on  roc_auc 0.6780230472194351\n"
     ]
    },
    {
     "data": {
      "application/vnd.jupyter.widget-view+json": {
       "model_id": "8533f9744b654637bcf611a117bf6542",
       "version_major": 2,
       "version_minor": 0
      },
      "text/plain": [
       "HBox(children=(IntProgress(value=0, max=29), HTML(value='')))"
      ]
     },
     "metadata": {},
     "output_type": "display_data"
    },
    {
     "data": {
      "application/vnd.jupyter.widget-view+json": {
       "model_id": "78e4bd2b9ad24f1e949a1826c3108fcf",
       "version_major": 2,
       "version_minor": 0
      },
      "text/plain": [
       "HBox(children=(IntProgress(value=0, max=20), HTML(value='')))"
      ]
     },
     "metadata": {},
     "output_type": "display_data"
    },
    {
     "name": "stdout",
     "output_type": "stream",
     "text": [
      "{'accuracy': 0.27602523659305994, 'roc_auc': 0.6715771230502598, 'pr_auc': 0.1725352719444521}\n"
     ]
    },
    {
     "data": {
      "text/html": [
       "<div>\n",
       "<style scoped>\n",
       "    .dataframe tbody tr th:only-of-type {\n",
       "        vertical-align: middle;\n",
       "    }\n",
       "\n",
       "    .dataframe tbody tr th {\n",
       "        vertical-align: top;\n",
       "    }\n",
       "\n",
       "    .dataframe thead th {\n",
       "        text-align: right;\n",
       "    }\n",
       "</style>\n",
       "<table border=\"1\" class=\"dataframe\">\n",
       "  <thead>\n",
       "    <tr style=\"text-align: right;\">\n",
       "      <th></th>\n",
       "      <th>0.0</th>\n",
       "      <th>1.0</th>\n",
       "      <th>micro avg</th>\n",
       "      <th>macro avg</th>\n",
       "      <th>weighted avg</th>\n",
       "    </tr>\n",
       "  </thead>\n",
       "  <tbody>\n",
       "    <tr>\n",
       "      <th>f1-score</th>\n",
       "      <td>0.353</td>\n",
       "      <td>0.179</td>\n",
       "      <td>0.276</td>\n",
       "      <td>0.266</td>\n",
       "      <td>0.337</td>\n",
       "    </tr>\n",
       "    <tr>\n",
       "      <th>precision</th>\n",
       "      <td>0.947</td>\n",
       "      <td>0.100</td>\n",
       "      <td>0.276</td>\n",
       "      <td>0.523</td>\n",
       "      <td>0.871</td>\n",
       "    </tr>\n",
       "    <tr>\n",
       "      <th>recall</th>\n",
       "      <td>0.217</td>\n",
       "      <td>0.877</td>\n",
       "      <td>0.276</td>\n",
       "      <td>0.547</td>\n",
       "      <td>0.276</td>\n",
       "    </tr>\n",
       "    <tr>\n",
       "      <th>support</th>\n",
       "      <td>577.000</td>\n",
       "      <td>57.000</td>\n",
       "      <td>634.000</td>\n",
       "      <td>634.000</td>\n",
       "      <td>634.000</td>\n",
       "    </tr>\n",
       "  </tbody>\n",
       "</table>\n",
       "</div>"
      ],
      "text/plain": [
       "               0.0     1.0  micro avg  macro avg  weighted avg\n",
       "f1-score     0.353   0.179      0.276      0.266         0.337\n",
       "precision    0.947   0.100      0.276      0.523         0.871\n",
       "recall       0.217   0.877      0.276      0.547         0.276\n",
       "support    577.000  57.000    634.000    634.000       634.000"
      ]
     },
     "metadata": {},
     "output_type": "display_data"
    },
    {
     "name": "stdout",
     "output_type": "stream",
     "text": [
      "Model not saved on  roc_auc 0.6715771230502598\n"
     ]
    },
    {
     "data": {
      "application/vnd.jupyter.widget-view+json": {
       "model_id": "5052cc7f8ce74db99d23462bbc42787a",
       "version_major": 2,
       "version_minor": 0
      },
      "text/plain": [
       "HBox(children=(IntProgress(value=0, max=29), HTML(value='')))"
      ]
     },
     "metadata": {},
     "output_type": "display_data"
    },
    {
     "data": {
      "application/vnd.jupyter.widget-view+json": {
       "model_id": "b1679d748ee04f0e9f3926c0fc1572ca",
       "version_major": 2,
       "version_minor": 0
      },
      "text/plain": [
       "HBox(children=(IntProgress(value=0, max=20), HTML(value='')))"
      ]
     },
     "metadata": {},
     "output_type": "display_data"
    },
    {
     "name": "stdout",
     "output_type": "stream",
     "text": [
      "{'accuracy': 0.08990536277602523, 'roc_auc': 0.6918726625923561, 'pr_auc': 0.19608802037984507}\n"
     ]
    },
    {
     "data": {
      "text/html": [
       "<div>\n",
       "<style scoped>\n",
       "    .dataframe tbody tr th:only-of-type {\n",
       "        vertical-align: middle;\n",
       "    }\n",
       "\n",
       "    .dataframe tbody tr th {\n",
       "        vertical-align: top;\n",
       "    }\n",
       "\n",
       "    .dataframe thead th {\n",
       "        text-align: right;\n",
       "    }\n",
       "</style>\n",
       "<table border=\"1\" class=\"dataframe\">\n",
       "  <thead>\n",
       "    <tr style=\"text-align: right;\">\n",
       "      <th></th>\n",
       "      <th>0.0</th>\n",
       "      <th>1.0</th>\n",
       "      <th>micro avg</th>\n",
       "      <th>macro avg</th>\n",
       "      <th>weighted avg</th>\n",
       "    </tr>\n",
       "  </thead>\n",
       "  <tbody>\n",
       "    <tr>\n",
       "      <th>f1-score</th>\n",
       "      <td>0.0</td>\n",
       "      <td>0.165</td>\n",
       "      <td>0.09</td>\n",
       "      <td>0.082</td>\n",
       "      <td>0.015</td>\n",
       "    </tr>\n",
       "    <tr>\n",
       "      <th>precision</th>\n",
       "      <td>0.0</td>\n",
       "      <td>0.090</td>\n",
       "      <td>0.09</td>\n",
       "      <td>0.045</td>\n",
       "      <td>0.008</td>\n",
       "    </tr>\n",
       "    <tr>\n",
       "      <th>recall</th>\n",
       "      <td>0.0</td>\n",
       "      <td>1.000</td>\n",
       "      <td>0.09</td>\n",
       "      <td>0.500</td>\n",
       "      <td>0.090</td>\n",
       "    </tr>\n",
       "    <tr>\n",
       "      <th>support</th>\n",
       "      <td>577.0</td>\n",
       "      <td>57.000</td>\n",
       "      <td>634.00</td>\n",
       "      <td>634.000</td>\n",
       "      <td>634.000</td>\n",
       "    </tr>\n",
       "  </tbody>\n",
       "</table>\n",
       "</div>"
      ],
      "text/plain": [
       "             0.0     1.0  micro avg  macro avg  weighted avg\n",
       "f1-score     0.0   0.165       0.09      0.082         0.015\n",
       "precision    0.0   0.090       0.09      0.045         0.008\n",
       "recall       0.0   1.000       0.09      0.500         0.090\n",
       "support    577.0  57.000     634.00    634.000       634.000"
      ]
     },
     "metadata": {},
     "output_type": "display_data"
    },
    {
     "name": "stdout",
     "output_type": "stream",
     "text": [
      "Model Saved on  roc_auc 0.6918726625923561\n"
     ]
    },
    {
     "data": {
      "application/vnd.jupyter.widget-view+json": {
       "model_id": "7ba688dba81a4ded8e9723f4042ad631",
       "version_major": 2,
       "version_minor": 0
      },
      "text/plain": [
       "HBox(children=(IntProgress(value=0, max=29), HTML(value='')))"
      ]
     },
     "metadata": {},
     "output_type": "display_data"
    },
    {
     "data": {
      "application/vnd.jupyter.widget-view+json": {
       "model_id": "4ce7e0e3c1f443cfa708f4c39e77424b",
       "version_major": 2,
       "version_minor": 0
      },
      "text/plain": [
       "HBox(children=(IntProgress(value=0, max=20), HTML(value='')))"
      ]
     },
     "metadata": {},
     "output_type": "display_data"
    },
    {
     "name": "stdout",
     "output_type": "stream",
     "text": [
      "{'accuracy': 0.21608832807570977, 'roc_auc': 0.7467086259843716, 'pr_auc': 0.28004581100434406}\n"
     ]
    },
    {
     "data": {
      "text/html": [
       "<div>\n",
       "<style scoped>\n",
       "    .dataframe tbody tr th:only-of-type {\n",
       "        vertical-align: middle;\n",
       "    }\n",
       "\n",
       "    .dataframe tbody tr th {\n",
       "        vertical-align: top;\n",
       "    }\n",
       "\n",
       "    .dataframe thead th {\n",
       "        text-align: right;\n",
       "    }\n",
       "</style>\n",
       "<table border=\"1\" class=\"dataframe\">\n",
       "  <thead>\n",
       "    <tr style=\"text-align: right;\">\n",
       "      <th></th>\n",
       "      <th>0.0</th>\n",
       "      <th>1.0</th>\n",
       "      <th>micro avg</th>\n",
       "      <th>macro avg</th>\n",
       "      <th>weighted avg</th>\n",
       "    </tr>\n",
       "  </thead>\n",
       "  <tbody>\n",
       "    <tr>\n",
       "      <th>f1-score</th>\n",
       "      <td>0.246</td>\n",
       "      <td>0.184</td>\n",
       "      <td>0.216</td>\n",
       "      <td>0.215</td>\n",
       "      <td>0.240</td>\n",
       "    </tr>\n",
       "    <tr>\n",
       "      <th>precision</th>\n",
       "      <td>0.988</td>\n",
       "      <td>0.101</td>\n",
       "      <td>0.216</td>\n",
       "      <td>0.545</td>\n",
       "      <td>0.908</td>\n",
       "    </tr>\n",
       "    <tr>\n",
       "      <th>recall</th>\n",
       "      <td>0.140</td>\n",
       "      <td>0.982</td>\n",
       "      <td>0.216</td>\n",
       "      <td>0.561</td>\n",
       "      <td>0.216</td>\n",
       "    </tr>\n",
       "    <tr>\n",
       "      <th>support</th>\n",
       "      <td>577.000</td>\n",
       "      <td>57.000</td>\n",
       "      <td>634.000</td>\n",
       "      <td>634.000</td>\n",
       "      <td>634.000</td>\n",
       "    </tr>\n",
       "  </tbody>\n",
       "</table>\n",
       "</div>"
      ],
      "text/plain": [
       "               0.0     1.0  micro avg  macro avg  weighted avg\n",
       "f1-score     0.246   0.184      0.216      0.215         0.240\n",
       "precision    0.988   0.101      0.216      0.545         0.908\n",
       "recall       0.140   0.982      0.216      0.561         0.216\n",
       "support    577.000  57.000    634.000    634.000       634.000"
      ]
     },
     "metadata": {},
     "output_type": "display_data"
    },
    {
     "name": "stdout",
     "output_type": "stream",
     "text": [
      "Model Saved on  roc_auc 0.7467086259843716\n"
     ]
    },
    {
     "data": {
      "application/vnd.jupyter.widget-view+json": {
       "model_id": "6cf08715bc1348e58f54880a1c5f474f",
       "version_major": 2,
       "version_minor": 0
      },
      "text/plain": [
       "HBox(children=(IntProgress(value=0, max=29), HTML(value='')))"
      ]
     },
     "metadata": {},
     "output_type": "display_data"
    },
    {
     "data": {
      "application/vnd.jupyter.widget-view+json": {
       "model_id": "a72ab9c8a281478aa6096e2948fa93ea",
       "version_major": 2,
       "version_minor": 0
      },
      "text/plain": [
       "HBox(children=(IntProgress(value=0, max=20), HTML(value='')))"
      ]
     },
     "metadata": {},
     "output_type": "display_data"
    },
    {
     "name": "stdout",
     "output_type": "stream",
     "text": [
      "{'accuracy': 0.27129337539432175, 'roc_auc': 0.7361579859527501, 'pr_auc': 0.21745878778942915}\n"
     ]
    },
    {
     "data": {
      "text/html": [
       "<div>\n",
       "<style scoped>\n",
       "    .dataframe tbody tr th:only-of-type {\n",
       "        vertical-align: middle;\n",
       "    }\n",
       "\n",
       "    .dataframe tbody tr th {\n",
       "        vertical-align: top;\n",
       "    }\n",
       "\n",
       "    .dataframe thead th {\n",
       "        text-align: right;\n",
       "    }\n",
       "</style>\n",
       "<table border=\"1\" class=\"dataframe\">\n",
       "  <thead>\n",
       "    <tr style=\"text-align: right;\">\n",
       "      <th></th>\n",
       "      <th>0.0</th>\n",
       "      <th>1.0</th>\n",
       "      <th>micro avg</th>\n",
       "      <th>macro avg</th>\n",
       "      <th>weighted avg</th>\n",
       "    </tr>\n",
       "  </thead>\n",
       "  <tbody>\n",
       "    <tr>\n",
       "      <th>f1-score</th>\n",
       "      <td>0.332</td>\n",
       "      <td>0.198</td>\n",
       "      <td>0.271</td>\n",
       "      <td>0.265</td>\n",
       "      <td>0.320</td>\n",
       "    </tr>\n",
       "    <tr>\n",
       "      <th>precision</th>\n",
       "      <td>1.000</td>\n",
       "      <td>0.110</td>\n",
       "      <td>0.271</td>\n",
       "      <td>0.555</td>\n",
       "      <td>0.920</td>\n",
       "    </tr>\n",
       "    <tr>\n",
       "      <th>recall</th>\n",
       "      <td>0.199</td>\n",
       "      <td>1.000</td>\n",
       "      <td>0.271</td>\n",
       "      <td>0.600</td>\n",
       "      <td>0.271</td>\n",
       "    </tr>\n",
       "    <tr>\n",
       "      <th>support</th>\n",
       "      <td>577.000</td>\n",
       "      <td>57.000</td>\n",
       "      <td>634.000</td>\n",
       "      <td>634.000</td>\n",
       "      <td>634.000</td>\n",
       "    </tr>\n",
       "  </tbody>\n",
       "</table>\n",
       "</div>"
      ],
      "text/plain": [
       "               0.0     1.0  micro avg  macro avg  weighted avg\n",
       "f1-score     0.332   0.198      0.271      0.265         0.320\n",
       "precision    1.000   0.110      0.271      0.555         0.920\n",
       "recall       0.199   1.000      0.271      0.600         0.271\n",
       "support    577.000  57.000    634.000    634.000       634.000"
      ]
     },
     "metadata": {},
     "output_type": "display_data"
    },
    {
     "name": "stdout",
     "output_type": "stream",
     "text": [
      "Model not saved on  roc_auc 0.7361579859527501\n"
     ]
    },
    {
     "data": {
      "application/vnd.jupyter.widget-view+json": {
       "model_id": "84fb09ce564e4f60919ff0907925fc97",
       "version_major": 2,
       "version_minor": 0
      },
      "text/plain": [
       "HBox(children=(IntProgress(value=0, max=29), HTML(value='')))"
      ]
     },
     "metadata": {},
     "output_type": "display_data"
    },
    {
     "data": {
      "application/vnd.jupyter.widget-view+json": {
       "model_id": "0c78f3e5255648c5b2160cebdb697a84",
       "version_major": 2,
       "version_minor": 0
      },
      "text/plain": [
       "HBox(children=(IntProgress(value=0, max=20), HTML(value='')))"
      ]
     },
     "metadata": {},
     "output_type": "display_data"
    },
    {
     "name": "stdout",
     "output_type": "stream",
     "text": [
      "{'accuracy': 0.7239747634069401, 'roc_auc': 0.7385295995621637, 'pr_auc': 0.20729259196228947}\n"
     ]
    },
    {
     "data": {
      "text/html": [
       "<div>\n",
       "<style scoped>\n",
       "    .dataframe tbody tr th:only-of-type {\n",
       "        vertical-align: middle;\n",
       "    }\n",
       "\n",
       "    .dataframe tbody tr th {\n",
       "        vertical-align: top;\n",
       "    }\n",
       "\n",
       "    .dataframe thead th {\n",
       "        text-align: right;\n",
       "    }\n",
       "</style>\n",
       "<table border=\"1\" class=\"dataframe\">\n",
       "  <thead>\n",
       "    <tr style=\"text-align: right;\">\n",
       "      <th></th>\n",
       "      <th>0.0</th>\n",
       "      <th>1.0</th>\n",
       "      <th>micro avg</th>\n",
       "      <th>macro avg</th>\n",
       "      <th>weighted avg</th>\n",
       "    </tr>\n",
       "  </thead>\n",
       "  <tbody>\n",
       "    <tr>\n",
       "      <th>f1-score</th>\n",
       "      <td>0.829</td>\n",
       "      <td>0.291</td>\n",
       "      <td>0.724</td>\n",
       "      <td>0.560</td>\n",
       "      <td>0.780</td>\n",
       "    </tr>\n",
       "    <tr>\n",
       "      <th>precision</th>\n",
       "      <td>0.953</td>\n",
       "      <td>0.189</td>\n",
       "      <td>0.724</td>\n",
       "      <td>0.571</td>\n",
       "      <td>0.884</td>\n",
       "    </tr>\n",
       "    <tr>\n",
       "      <th>recall</th>\n",
       "      <td>0.733</td>\n",
       "      <td>0.632</td>\n",
       "      <td>0.724</td>\n",
       "      <td>0.682</td>\n",
       "      <td>0.724</td>\n",
       "    </tr>\n",
       "    <tr>\n",
       "      <th>support</th>\n",
       "      <td>577.000</td>\n",
       "      <td>57.000</td>\n",
       "      <td>634.000</td>\n",
       "      <td>634.000</td>\n",
       "      <td>634.000</td>\n",
       "    </tr>\n",
       "  </tbody>\n",
       "</table>\n",
       "</div>"
      ],
      "text/plain": [
       "               0.0     1.0  micro avg  macro avg  weighted avg\n",
       "f1-score     0.829   0.291      0.724      0.560         0.780\n",
       "precision    0.953   0.189      0.724      0.571         0.884\n",
       "recall       0.733   0.632      0.724      0.682         0.724\n",
       "support    577.000  57.000    634.000    634.000       634.000"
      ]
     },
     "metadata": {},
     "output_type": "display_data"
    },
    {
     "name": "stdout",
     "output_type": "stream",
     "text": [
      "Model not saved on  roc_auc 0.7385295995621637\n"
     ]
    },
    {
     "data": {
      "application/vnd.jupyter.widget-view+json": {
       "model_id": "5454bb200a274f928d6b415fc90f8efc",
       "version_major": 2,
       "version_minor": 0
      },
      "text/plain": [
       "HBox(children=(IntProgress(value=0, max=29), HTML(value='')))"
      ]
     },
     "metadata": {},
     "output_type": "display_data"
    },
    {
     "data": {
      "application/vnd.jupyter.widget-view+json": {
       "model_id": "eb97c8e9912d425daf646a1f09e261a9",
       "version_major": 2,
       "version_minor": 0
      },
      "text/plain": [
       "HBox(children=(IntProgress(value=0, max=20), HTML(value='')))"
      ]
     },
     "metadata": {},
     "output_type": "display_data"
    },
    {
     "name": "stdout",
     "output_type": "stream",
     "text": [
      "{'accuracy': 0.8958990536277602, 'roc_auc': 0.7823740460336284, 'pr_auc': 0.2702336878217277}\n"
     ]
    },
    {
     "data": {
      "text/html": [
       "<div>\n",
       "<style scoped>\n",
       "    .dataframe tbody tr th:only-of-type {\n",
       "        vertical-align: middle;\n",
       "    }\n",
       "\n",
       "    .dataframe tbody tr th {\n",
       "        vertical-align: top;\n",
       "    }\n",
       "\n",
       "    .dataframe thead th {\n",
       "        text-align: right;\n",
       "    }\n",
       "</style>\n",
       "<table border=\"1\" class=\"dataframe\">\n",
       "  <thead>\n",
       "    <tr style=\"text-align: right;\">\n",
       "      <th></th>\n",
       "      <th>0.0</th>\n",
       "      <th>1.0</th>\n",
       "      <th>micro avg</th>\n",
       "      <th>macro avg</th>\n",
       "      <th>weighted avg</th>\n",
       "    </tr>\n",
       "  </thead>\n",
       "  <tbody>\n",
       "    <tr>\n",
       "      <th>f1-score</th>\n",
       "      <td>0.944</td>\n",
       "      <td>0.312</td>\n",
       "      <td>0.896</td>\n",
       "      <td>0.628</td>\n",
       "      <td>0.887</td>\n",
       "    </tr>\n",
       "    <tr>\n",
       "      <th>precision</th>\n",
       "      <td>0.929</td>\n",
       "      <td>0.385</td>\n",
       "      <td>0.896</td>\n",
       "      <td>0.657</td>\n",
       "      <td>0.880</td>\n",
       "    </tr>\n",
       "    <tr>\n",
       "      <th>recall</th>\n",
       "      <td>0.958</td>\n",
       "      <td>0.263</td>\n",
       "      <td>0.896</td>\n",
       "      <td>0.611</td>\n",
       "      <td>0.896</td>\n",
       "    </tr>\n",
       "    <tr>\n",
       "      <th>support</th>\n",
       "      <td>577.000</td>\n",
       "      <td>57.000</td>\n",
       "      <td>634.000</td>\n",
       "      <td>634.000</td>\n",
       "      <td>634.000</td>\n",
       "    </tr>\n",
       "  </tbody>\n",
       "</table>\n",
       "</div>"
      ],
      "text/plain": [
       "               0.0     1.0  micro avg  macro avg  weighted avg\n",
       "f1-score     0.944   0.312      0.896      0.628         0.887\n",
       "precision    0.929   0.385      0.896      0.657         0.880\n",
       "recall       0.958   0.263      0.896      0.611         0.896\n",
       "support    577.000  57.000    634.000    634.000       634.000"
      ]
     },
     "metadata": {},
     "output_type": "display_data"
    },
    {
     "name": "stdout",
     "output_type": "stream",
     "text": [
      "Model Saved on  roc_auc 0.7823740460336284\n"
     ]
    },
    {
     "data": {
      "application/vnd.jupyter.widget-view+json": {
       "model_id": "1af9919017b84a87942ee756e0106110",
       "version_major": 2,
       "version_minor": 0
      },
      "text/plain": [
       "HBox(children=(IntProgress(value=0, max=29), HTML(value='')))"
      ]
     },
     "metadata": {},
     "output_type": "display_data"
    },
    {
     "data": {
      "application/vnd.jupyter.widget-view+json": {
       "model_id": "39f45248c92842fa8b34c70c44967d48",
       "version_major": 2,
       "version_minor": 0
      },
      "text/plain": [
       "HBox(children=(IntProgress(value=0, max=20), HTML(value='')))"
      ]
     },
     "metadata": {},
     "output_type": "display_data"
    },
    {
     "name": "stdout",
     "output_type": "stream",
     "text": [
      "{'accuracy': 0.7460567823343849, 'roc_auc': 0.7863571406853356, 'pr_auc': 0.2813673310083966}\n"
     ]
    },
    {
     "data": {
      "text/html": [
       "<div>\n",
       "<style scoped>\n",
       "    .dataframe tbody tr th:only-of-type {\n",
       "        vertical-align: middle;\n",
       "    }\n",
       "\n",
       "    .dataframe tbody tr th {\n",
       "        vertical-align: top;\n",
       "    }\n",
       "\n",
       "    .dataframe thead th {\n",
       "        text-align: right;\n",
       "    }\n",
       "</style>\n",
       "<table border=\"1\" class=\"dataframe\">\n",
       "  <thead>\n",
       "    <tr style=\"text-align: right;\">\n",
       "      <th></th>\n",
       "      <th>0.0</th>\n",
       "      <th>1.0</th>\n",
       "      <th>micro avg</th>\n",
       "      <th>macro avg</th>\n",
       "      <th>weighted avg</th>\n",
       "    </tr>\n",
       "  </thead>\n",
       "  <tbody>\n",
       "    <tr>\n",
       "      <th>f1-score</th>\n",
       "      <td>0.844</td>\n",
       "      <td>0.309</td>\n",
       "      <td>0.746</td>\n",
       "      <td>0.577</td>\n",
       "      <td>0.796</td>\n",
       "    </tr>\n",
       "    <tr>\n",
       "      <th>precision</th>\n",
       "      <td>0.954</td>\n",
       "      <td>0.205</td>\n",
       "      <td>0.746</td>\n",
       "      <td>0.579</td>\n",
       "      <td>0.887</td>\n",
       "    </tr>\n",
       "    <tr>\n",
       "      <th>recall</th>\n",
       "      <td>0.757</td>\n",
       "      <td>0.632</td>\n",
       "      <td>0.746</td>\n",
       "      <td>0.694</td>\n",
       "      <td>0.746</td>\n",
       "    </tr>\n",
       "    <tr>\n",
       "      <th>support</th>\n",
       "      <td>577.000</td>\n",
       "      <td>57.000</td>\n",
       "      <td>634.000</td>\n",
       "      <td>634.000</td>\n",
       "      <td>634.000</td>\n",
       "    </tr>\n",
       "  </tbody>\n",
       "</table>\n",
       "</div>"
      ],
      "text/plain": [
       "               0.0     1.0  micro avg  macro avg  weighted avg\n",
       "f1-score     0.844   0.309      0.746      0.577         0.796\n",
       "precision    0.954   0.205      0.746      0.579         0.887\n",
       "recall       0.757   0.632      0.746      0.694         0.746\n",
       "support    577.000  57.000    634.000    634.000       634.000"
      ]
     },
     "metadata": {},
     "output_type": "display_data"
    },
    {
     "name": "stdout",
     "output_type": "stream",
     "text": [
      "Model Saved on  roc_auc 0.7863571406853356\n"
     ]
    },
    {
     "name": "stderr",
     "output_type": "stream",
     "text": [
      "INFO - 2019-03-27 19:22:37,900 - instantiating class <class 'PatientVec.models.Model.Model'> from params {'type': 'seq_classifier_with_attention', 'embedder': {'type': 'token_embedder', 'vocab_size': 19054, 'embed_size': 200, 'embedding_file': './preprocess/HipSurgery/1_yrs/embedding_matrix.npy'}, 'decoder': {'num_layers': 2, 'hidden_dims': [128, 1], 'activations': ['tanh', 'linear']}, 'predictor': {'type': 'binary'}, 'structured': {'use_structured': False}, 'encoder': {'type': 'lstm', 'hidden_size': 128}, 'attention': {'similarity': {'type': 'additive', 'hidden_size': 128}}} and extras {}\n",
      "INFO - 2019-03-27 19:22:37,901 - type = seq_classifier_with_attention\n",
      "INFO - 2019-03-27 19:22:37,902 - instantiating class <class 'PatientVec.models.modules.Embedder.Embedder'> from params {'type': 'token_embedder', 'vocab_size': 19054, 'embed_size': 200, 'embedding_file': './preprocess/HipSurgery/1_yrs/embedding_matrix.npy'} and extras {}\n",
      "INFO - 2019-03-27 19:22:37,902 - embedder.type = token_embedder\n",
      "INFO - 2019-03-27 19:22:37,903 - instantiating class <class 'PatientVec.models.modules.Embedder.TokenEmbedder'> from params {'vocab_size': 19054, 'embed_size': 200, 'embedding_file': './preprocess/HipSurgery/1_yrs/embedding_matrix.npy'} and extras {}\n",
      "INFO - 2019-03-27 19:22:37,903 - embedder.vocab_size = 19054\n",
      "INFO - 2019-03-27 19:22:37,904 - embedder.embed_size = 200\n",
      "INFO - 2019-03-27 19:22:37,904 - embedder.embedding_file = ./preprocess/HipSurgery/1_yrs/embedding_matrix.npy\n"
     ]
    },
    {
     "name": "stdout",
     "output_type": "stream",
     "text": [
      "\n"
     ]
    },
    {
     "name": "stderr",
     "output_type": "stream",
     "text": [
      "INFO - 2019-03-27 19:22:37,927 - instantiating class <class 'PatientVec.models.modules.Encoder.Encoder'> from params {'type': 'lstm', 'hidden_size': 128} and extras {'input_size': 200}\n",
      "INFO - 2019-03-27 19:22:37,928 - encoder.type = lstm\n",
      "INFO - 2019-03-27 19:22:37,928 - instantiating class <class 'PatientVec.models.modules.Encoder.wrap_pytorch_rnn.<locals>.BiRNNEncoder'> from params {'hidden_size': 128} and extras {'input_size': 200}\n",
      "INFO - 2019-03-27 19:22:37,929 - encoder.hidden_size = 128\n",
      "INFO - 2019-03-27 19:22:37,931 - instantiating class <class 'PatientVec.models.modules.SelfAttention.SelfAttention'> from params {'similarity': {'type': 'additive', 'hidden_size': 128, 'tensor_1_dim': 256}} and extras {}\n",
      "INFO - 2019-03-27 19:22:37,932 - instantiating class <class 'PatientVec.models.modules.UniSimilarity.UniSimilarity'> from params {'type': 'additive', 'hidden_size': 128, 'tensor_1_dim': 256} and extras {}\n",
      "INFO - 2019-03-27 19:22:37,932 - attention.similarity.type = additive\n",
      "INFO - 2019-03-27 19:22:37,933 - instantiating class <class 'PatientVec.models.modules.UniSimilarity.UniAdditiveSimilarity'> from params {'hidden_size': 128, 'tensor_1_dim': 256} and extras {}\n",
      "INFO - 2019-03-27 19:22:37,934 - attention.similarity.tensor_1_dim = 256\n",
      "INFO - 2019-03-27 19:22:37,934 - attention.similarity.hidden_size = 128\n",
      "INFO - 2019-03-27 19:22:37,935 - attention.similarity.output_size = 1\n",
      "INFO - 2019-03-27 19:22:37,937 - attention.normaliser = softmax\n",
      "INFO - 2019-03-27 19:22:37,938 - decoder.input_dim = 256\n",
      "INFO - 2019-03-27 19:22:37,938 - decoder.num_layers = 2\n",
      "INFO - 2019-03-27 19:22:37,939 - decoder.hidden_dims = [128, 1]\n",
      "INFO - 2019-03-27 19:22:37,939 - decoder.activations = ['tanh', 'linear']\n",
      "INFO - 2019-03-27 19:22:37,939 - decoder.dropout = 0.0\n",
      "INFO - 2019-03-27 19:22:37,941 - instantiating class <class 'PatientVec.models.modules.Predictor.Predictor'> from params {'type': 'binary'} and extras {}\n",
      "INFO - 2019-03-27 19:22:37,941 - predictor.type = binary\n",
      "INFO - 2019-03-27 19:22:37,941 - instantiating class <class 'PatientVec.models.modules.Predictor.Binary_Predictor'> from params {} and extras {}\n",
      "INFO - 2019-03-27 19:22:37,942 - predictor.replicate = False\n",
      "INFO - 2019-03-27 19:22:37,942 - predictor.alpha = 0.5\n"
     ]
    },
    {
     "name": "stdout",
     "output_type": "stream",
     "text": [
      "Setting Embedding\n"
     ]
    },
    {
     "data": {
      "application/vnd.jupyter.widget-view+json": {
       "model_id": "be5bfc0245f149b99e560f50cfdff6f3",
       "version_major": 2,
       "version_minor": 0
      },
      "text/plain": [
       "HBox(children=(IntProgress(value=0, max=20), HTML(value='')))"
      ]
     },
     "metadata": {},
     "output_type": "display_data"
    },
    {
     "name": "stdout",
     "output_type": "stream",
     "text": [
      "\n",
      "{'accuracy': 0.7460567823343849, 'roc_auc': 0.7863571406853356, 'pr_auc': 0.2813673310083966}\n"
     ]
    },
    {
     "data": {
      "text/html": [
       "<div>\n",
       "<style scoped>\n",
       "    .dataframe tbody tr th:only-of-type {\n",
       "        vertical-align: middle;\n",
       "    }\n",
       "\n",
       "    .dataframe tbody tr th {\n",
       "        vertical-align: top;\n",
       "    }\n",
       "\n",
       "    .dataframe thead th {\n",
       "        text-align: right;\n",
       "    }\n",
       "</style>\n",
       "<table border=\"1\" class=\"dataframe\">\n",
       "  <thead>\n",
       "    <tr style=\"text-align: right;\">\n",
       "      <th></th>\n",
       "      <th>0.0</th>\n",
       "      <th>1.0</th>\n",
       "      <th>micro avg</th>\n",
       "      <th>macro avg</th>\n",
       "      <th>weighted avg</th>\n",
       "    </tr>\n",
       "  </thead>\n",
       "  <tbody>\n",
       "    <tr>\n",
       "      <th>f1-score</th>\n",
       "      <td>0.844</td>\n",
       "      <td>0.309</td>\n",
       "      <td>0.746</td>\n",
       "      <td>0.577</td>\n",
       "      <td>0.796</td>\n",
       "    </tr>\n",
       "    <tr>\n",
       "      <th>precision</th>\n",
       "      <td>0.954</td>\n",
       "      <td>0.205</td>\n",
       "      <td>0.746</td>\n",
       "      <td>0.579</td>\n",
       "      <td>0.887</td>\n",
       "    </tr>\n",
       "    <tr>\n",
       "      <th>recall</th>\n",
       "      <td>0.757</td>\n",
       "      <td>0.632</td>\n",
       "      <td>0.746</td>\n",
       "      <td>0.694</td>\n",
       "      <td>0.746</td>\n",
       "    </tr>\n",
       "    <tr>\n",
       "      <th>support</th>\n",
       "      <td>577.000</td>\n",
       "      <td>57.000</td>\n",
       "      <td>634.000</td>\n",
       "      <td>634.000</td>\n",
       "      <td>634.000</td>\n",
       "    </tr>\n",
       "  </tbody>\n",
       "</table>\n",
       "</div>"
      ],
      "text/plain": [
       "               0.0     1.0  micro avg  macro avg  weighted avg\n",
       "f1-score     0.844   0.309      0.746      0.577         0.796\n",
       "precision    0.954   0.205      0.746      0.579         0.887\n",
       "recall       0.757   0.632      0.746      0.694         0.746\n",
       "support    577.000  57.000    634.000    634.000       634.000"
      ]
     },
     "metadata": {},
     "output_type": "display_data"
    },
    {
     "data": {
      "application/vnd.jupyter.widget-view+json": {
       "model_id": "69280bf47d4e4a4eab30986cf1dd6223",
       "version_major": 2,
       "version_minor": 0
      },
      "text/plain": [
       "HBox(children=(IntProgress(value=0, max=20), HTML(value='')))"
      ]
     },
     "metadata": {},
     "output_type": "display_data"
    },
    {
     "name": "stdout",
     "output_type": "stream",
     "text": [
      "\n",
      "{'accuracy': 0.7527733755942948, 'roc_auc': 0.7594518296169239, 'pr_auc': 0.22790546148269197}\n"
     ]
    },
    {
     "data": {
      "text/html": [
       "<div>\n",
       "<style scoped>\n",
       "    .dataframe tbody tr th:only-of-type {\n",
       "        vertical-align: middle;\n",
       "    }\n",
       "\n",
       "    .dataframe tbody tr th {\n",
       "        vertical-align: top;\n",
       "    }\n",
       "\n",
       "    .dataframe thead th {\n",
       "        text-align: right;\n",
       "    }\n",
       "</style>\n",
       "<table border=\"1\" class=\"dataframe\">\n",
       "  <thead>\n",
       "    <tr style=\"text-align: right;\">\n",
       "      <th></th>\n",
       "      <th>0.0</th>\n",
       "      <th>1.0</th>\n",
       "      <th>micro avg</th>\n",
       "      <th>macro avg</th>\n",
       "      <th>weighted avg</th>\n",
       "    </tr>\n",
       "  </thead>\n",
       "  <tbody>\n",
       "    <tr>\n",
       "      <th>f1-score</th>\n",
       "      <td>0.851</td>\n",
       "      <td>0.264</td>\n",
       "      <td>0.753</td>\n",
       "      <td>0.558</td>\n",
       "      <td>0.807</td>\n",
       "    </tr>\n",
       "    <tr>\n",
       "      <th>precision</th>\n",
       "      <td>0.957</td>\n",
       "      <td>0.171</td>\n",
       "      <td>0.753</td>\n",
       "      <td>0.564</td>\n",
       "      <td>0.897</td>\n",
       "    </tr>\n",
       "    <tr>\n",
       "      <th>recall</th>\n",
       "      <td>0.767</td>\n",
       "      <td>0.583</td>\n",
       "      <td>0.753</td>\n",
       "      <td>0.675</td>\n",
       "      <td>0.753</td>\n",
       "    </tr>\n",
       "    <tr>\n",
       "      <th>support</th>\n",
       "      <td>583.000</td>\n",
       "      <td>48.000</td>\n",
       "      <td>631.000</td>\n",
       "      <td>631.000</td>\n",
       "      <td>631.000</td>\n",
       "    </tr>\n",
       "  </tbody>\n",
       "</table>\n",
       "</div>"
      ],
      "text/plain": [
       "               0.0     1.0  micro avg  macro avg  weighted avg\n",
       "f1-score     0.851   0.264      0.753      0.558         0.807\n",
       "precision    0.957   0.171      0.753      0.564         0.897\n",
       "recall       0.767   0.583      0.753      0.675         0.753\n",
       "support    583.000  48.000    631.000    631.000       631.000"
      ]
     },
     "metadata": {},
     "output_type": "display_data"
    },
    {
     "name": "stdout",
     "output_type": "stream",
     "text": [
      "============================================================================================================================================================================================================================================================================================================\n"
     ]
    },
    {
     "name": "stderr",
     "output_type": "stream",
     "text": [
      "INFO - 2019-03-27 19:23:01,823 - Reading Structured data ...\n",
      "INFO - 2019-03-27 19:23:01,973 - Reading Notes ...\n",
      "INFO - 2019-03-27 19:23:03,160 - Stratifying ...\n"
     ]
    },
    {
     "name": "stdout",
     "output_type": "stream",
     "text": [
      "Pos Percentage [0.10839746]\n"
     ]
    },
    {
     "name": "stderr",
     "output_type": "stream",
     "text": [
      "INFO - 2019-03-27 19:23:03,695 - Maximum Sentence Length 585530.000000 , 90 percentile length 22037.000000 ... \n",
      "INFO - 2019-03-27 19:23:04,554 - Truncated all ...\n",
      "INFO - 2019-03-27 19:23:04,559 - Idxs removed []...\n",
      "INFO - 2019-03-27 19:23:04,708 - Maximum Sentence Length 65362.000000 , 90 percentile length 18471.000000 ... \n"
     ]
    },
    {
     "name": "stdout",
     "output_type": "stream",
     "text": [
      "Pos Percentage [0.08990536]\n"
     ]
    },
    {
     "name": "stderr",
     "output_type": "stream",
     "text": [
      "INFO - 2019-03-27 19:23:04,898 - Truncated all ...\n",
      "INFO - 2019-03-27 19:23:04,899 - Idxs removed []...\n",
      "INFO - 2019-03-27 19:23:05,001 - Maximum Sentence Length 109694.000000 , 90 percentile length 19819.000000 ... \n"
     ]
    },
    {
     "name": "stdout",
     "output_type": "stream",
     "text": [
      "Pos Percentage [0.07606973]\n"
     ]
    },
    {
     "name": "stderr",
     "output_type": "stream",
     "text": [
      "INFO - 2019-03-27 19:23:05,211 - Truncated all ...\n",
      "INFO - 2019-03-27 19:23:05,212 - Idxs removed []...\n",
      "INFO - 2019-03-27 19:23:05,281 - instantiating class <class 'PatientVec.models.Model.Model'> from params {'type': 'seq_classifier', 'embedder': {'type': 'token_embedder', 'vocab_size': 19054, 'embed_size': 200, 'embedding_file': './preprocess/HipSurgery/1_yrs/embedding_matrix.npy'}, 'decoder': {'num_layers': 2, 'hidden_dims': [128, 1], 'activations': ['tanh', 'linear']}, 'predictor': {'type': 'binary'}, 'structured': {'use_structured': False}, 'encoder': {'type': 'average', 'projection': True, 'hidden_size': 256, 'activation': 'relu'}} and extras {}\n",
      "INFO - 2019-03-27 19:23:05,282 - type = seq_classifier\n",
      "INFO - 2019-03-27 19:23:05,283 - instantiating class <class 'PatientVec.models.modules.Embedder.Embedder'> from params {'type': 'token_embedder', 'vocab_size': 19054, 'embed_size': 200, 'embedding_file': './preprocess/HipSurgery/1_yrs/embedding_matrix.npy'} and extras {}\n",
      "INFO - 2019-03-27 19:23:05,283 - embedder.type = token_embedder\n",
      "INFO - 2019-03-27 19:23:05,284 - instantiating class <class 'PatientVec.models.modules.Embedder.TokenEmbedder'> from params {'vocab_size': 19054, 'embed_size': 200, 'embedding_file': './preprocess/HipSurgery/1_yrs/embedding_matrix.npy'} and extras {}\n",
      "INFO - 2019-03-27 19:23:05,285 - embedder.vocab_size = 19054\n",
      "INFO - 2019-03-27 19:23:05,285 - embedder.embed_size = 200\n",
      "INFO - 2019-03-27 19:23:05,286 - embedder.embedding_file = ./preprocess/HipSurgery/1_yrs/embedding_matrix.npy\n",
      "INFO - 2019-03-27 19:23:05,310 - instantiating class <class 'PatientVec.models.modules.Encoder.Encoder'> from params {'type': 'average', 'projection': True, 'hidden_size': 256, 'activation': 'relu'} and extras {'input_size': 200}\n",
      "INFO - 2019-03-27 19:23:05,311 - encoder.type = average\n",
      "INFO - 2019-03-27 19:23:05,311 - instantiating class <class 'PatientVec.models.modules.Encoder.AverageEncoder'> from params {'projection': True, 'hidden_size': 256, 'activation': 'relu'} and extras {'input_size': 200}\n",
      "INFO - 2019-03-27 19:23:05,312 - encoder.projection = True\n",
      "INFO - 2019-03-27 19:23:05,313 - encoder.hidden_size = 256\n",
      "INFO - 2019-03-27 19:23:05,313 - encoder.activation = relu\n",
      "INFO - 2019-03-27 19:23:05,315 - decoder.input_dim = 256\n",
      "INFO - 2019-03-27 19:23:05,315 - decoder.num_layers = 2\n",
      "INFO - 2019-03-27 19:23:05,316 - decoder.hidden_dims = [128, 1]\n",
      "INFO - 2019-03-27 19:23:05,317 - decoder.activations = ['tanh', 'linear']\n",
      "INFO - 2019-03-27 19:23:05,317 - decoder.dropout = 0.0\n",
      "INFO - 2019-03-27 19:23:05,318 - instantiating class <class 'PatientVec.models.modules.Predictor.Predictor'> from params {'type': 'binary'} and extras {}\n",
      "INFO - 2019-03-27 19:23:05,319 - predictor.type = binary\n",
      "INFO - 2019-03-27 19:23:05,319 - instantiating class <class 'PatientVec.models.modules.Predictor.Binary_Predictor'> from params {} and extras {}\n",
      "INFO - 2019-03-27 19:23:05,320 - predictor.replicate = False\n",
      "INFO - 2019-03-27 19:23:05,320 - predictor.alpha = 0.5\n"
     ]
    },
    {
     "name": "stdout",
     "output_type": "stream",
     "text": [
      "{'model': {'type': 'seq_classifier', 'embedder': {'type': 'token_embedder', 'vocab_size': 19054, 'embed_size': 200, 'embedding_file': './preprocess/HipSurgery/1_yrs/embedding_matrix.npy'}, 'decoder': {'num_layers': 2, 'hidden_dims': [128, 1], 'activations': ['tanh', 'linear']}, 'predictor': {'type': 'binary'}, 'structured': {'use_structured': False}, 'encoder': {'type': 'average', 'projection': True, 'hidden_size': 256, 'activation': 'relu'}}, 'training_config': {'type': 'Adam', 'groups': [('.*', {'lr': 0.001, 'weight_decay': 1e-05})], 'common': {'bsize': 32, 'class_weight': True}}, 'exp_config': {'exp_name': 'HipSurgery_1/Basic/Average(hs=256)', 'basepath': 'outputs/ts_experiments/n=1500'}}\n",
      "Setting Embedding\n"
     ]
    },
    {
     "data": {
      "application/vnd.jupyter.widget-view+json": {
       "model_id": "2cac5e192d4743f28559e4cf8f69f909",
       "version_major": 2,
       "version_minor": 0
      },
      "text/plain": [
       "HBox(children=(IntProgress(value=0, max=8), HTML(value='')))"
      ]
     },
     "metadata": {},
     "output_type": "display_data"
    },
    {
     "data": {
      "application/vnd.jupyter.widget-view+json": {
       "model_id": "dfdc7f88a7b84364af240baeca2550db",
       "version_major": 2,
       "version_minor": 0
      },
      "text/plain": [
       "HBox(children=(IntProgress(value=0, max=47), HTML(value='')))"
      ]
     },
     "metadata": {},
     "output_type": "display_data"
    },
    {
     "data": {
      "application/vnd.jupyter.widget-view+json": {
       "model_id": "2a09022196b040c0bc0aa868eaf5d147",
       "version_major": 2,
       "version_minor": 0
      },
      "text/plain": [
       "HBox(children=(IntProgress(value=0, max=20), HTML(value='')))"
      ]
     },
     "metadata": {},
     "output_type": "display_data"
    },
    {
     "name": "stdout",
     "output_type": "stream",
     "text": [
      "{'accuracy': 0.08990536277602523, 'roc_auc': 0.6886344978564262, 'pr_auc': 0.19786411779653537}\n"
     ]
    },
    {
     "data": {
      "text/html": [
       "<div>\n",
       "<style scoped>\n",
       "    .dataframe tbody tr th:only-of-type {\n",
       "        vertical-align: middle;\n",
       "    }\n",
       "\n",
       "    .dataframe tbody tr th {\n",
       "        vertical-align: top;\n",
       "    }\n",
       "\n",
       "    .dataframe thead th {\n",
       "        text-align: right;\n",
       "    }\n",
       "</style>\n",
       "<table border=\"1\" class=\"dataframe\">\n",
       "  <thead>\n",
       "    <tr style=\"text-align: right;\">\n",
       "      <th></th>\n",
       "      <th>0.0</th>\n",
       "      <th>1.0</th>\n",
       "      <th>micro avg</th>\n",
       "      <th>macro avg</th>\n",
       "      <th>weighted avg</th>\n",
       "    </tr>\n",
       "  </thead>\n",
       "  <tbody>\n",
       "    <tr>\n",
       "      <th>f1-score</th>\n",
       "      <td>0.0</td>\n",
       "      <td>0.165</td>\n",
       "      <td>0.09</td>\n",
       "      <td>0.082</td>\n",
       "      <td>0.015</td>\n",
       "    </tr>\n",
       "    <tr>\n",
       "      <th>precision</th>\n",
       "      <td>0.0</td>\n",
       "      <td>0.090</td>\n",
       "      <td>0.09</td>\n",
       "      <td>0.045</td>\n",
       "      <td>0.008</td>\n",
       "    </tr>\n",
       "    <tr>\n",
       "      <th>recall</th>\n",
       "      <td>0.0</td>\n",
       "      <td>1.000</td>\n",
       "      <td>0.09</td>\n",
       "      <td>0.500</td>\n",
       "      <td>0.090</td>\n",
       "    </tr>\n",
       "    <tr>\n",
       "      <th>support</th>\n",
       "      <td>577.0</td>\n",
       "      <td>57.000</td>\n",
       "      <td>634.00</td>\n",
       "      <td>634.000</td>\n",
       "      <td>634.000</td>\n",
       "    </tr>\n",
       "  </tbody>\n",
       "</table>\n",
       "</div>"
      ],
      "text/plain": [
       "             0.0     1.0  micro avg  macro avg  weighted avg\n",
       "f1-score     0.0   0.165       0.09      0.082         0.015\n",
       "precision    0.0   0.090       0.09      0.045         0.008\n",
       "recall       0.0   1.000       0.09      0.500         0.090\n",
       "support    577.0  57.000     634.00    634.000       634.000"
      ]
     },
     "metadata": {},
     "output_type": "display_data"
    },
    {
     "name": "stdout",
     "output_type": "stream",
     "text": [
      "Model Saved on  roc_auc 0.6886344978564262\n"
     ]
    },
    {
     "data": {
      "application/vnd.jupyter.widget-view+json": {
       "model_id": "8b77ec58140a462d98b4d28e4ecb75f7",
       "version_major": 2,
       "version_minor": 0
      },
      "text/plain": [
       "HBox(children=(IntProgress(value=0, max=47), HTML(value='')))"
      ]
     },
     "metadata": {},
     "output_type": "display_data"
    },
    {
     "data": {
      "application/vnd.jupyter.widget-view+json": {
       "model_id": "6ce121d10f8a4793893e29d66cd5c219",
       "version_major": 2,
       "version_minor": 0
      },
      "text/plain": [
       "HBox(children=(IntProgress(value=0, max=20), HTML(value='')))"
      ]
     },
     "metadata": {},
     "output_type": "display_data"
    },
    {
     "name": "stdout",
     "output_type": "stream",
     "text": [
      "{'accuracy': 0.7145110410094637, 'roc_auc': 0.7163945392076378, 'pr_auc': 0.21639168366683154}\n"
     ]
    },
    {
     "data": {
      "text/html": [
       "<div>\n",
       "<style scoped>\n",
       "    .dataframe tbody tr th:only-of-type {\n",
       "        vertical-align: middle;\n",
       "    }\n",
       "\n",
       "    .dataframe tbody tr th {\n",
       "        vertical-align: top;\n",
       "    }\n",
       "\n",
       "    .dataframe thead th {\n",
       "        text-align: right;\n",
       "    }\n",
       "</style>\n",
       "<table border=\"1\" class=\"dataframe\">\n",
       "  <thead>\n",
       "    <tr style=\"text-align: right;\">\n",
       "      <th></th>\n",
       "      <th>0.0</th>\n",
       "      <th>1.0</th>\n",
       "      <th>micro avg</th>\n",
       "      <th>macro avg</th>\n",
       "      <th>weighted avg</th>\n",
       "    </tr>\n",
       "  </thead>\n",
       "  <tbody>\n",
       "    <tr>\n",
       "      <th>f1-score</th>\n",
       "      <td>0.821</td>\n",
       "      <td>0.290</td>\n",
       "      <td>0.715</td>\n",
       "      <td>0.556</td>\n",
       "      <td>0.774</td>\n",
       "    </tr>\n",
       "    <tr>\n",
       "      <th>precision</th>\n",
       "      <td>0.954</td>\n",
       "      <td>0.187</td>\n",
       "      <td>0.715</td>\n",
       "      <td>0.570</td>\n",
       "      <td>0.885</td>\n",
       "    </tr>\n",
       "    <tr>\n",
       "      <th>recall</th>\n",
       "      <td>0.721</td>\n",
       "      <td>0.649</td>\n",
       "      <td>0.715</td>\n",
       "      <td>0.685</td>\n",
       "      <td>0.715</td>\n",
       "    </tr>\n",
       "    <tr>\n",
       "      <th>support</th>\n",
       "      <td>577.000</td>\n",
       "      <td>57.000</td>\n",
       "      <td>634.000</td>\n",
       "      <td>634.000</td>\n",
       "      <td>634.000</td>\n",
       "    </tr>\n",
       "  </tbody>\n",
       "</table>\n",
       "</div>"
      ],
      "text/plain": [
       "               0.0     1.0  micro avg  macro avg  weighted avg\n",
       "f1-score     0.821   0.290      0.715      0.556         0.774\n",
       "precision    0.954   0.187      0.715      0.570         0.885\n",
       "recall       0.721   0.649      0.715      0.685         0.715\n",
       "support    577.000  57.000    634.000    634.000       634.000"
      ]
     },
     "metadata": {},
     "output_type": "display_data"
    },
    {
     "name": "stdout",
     "output_type": "stream",
     "text": [
      "Model Saved on  roc_auc 0.7163945392076378\n"
     ]
    },
    {
     "data": {
      "application/vnd.jupyter.widget-view+json": {
       "model_id": "d56447a6f24b4676b63e893ee87c5318",
       "version_major": 2,
       "version_minor": 0
      },
      "text/plain": [
       "HBox(children=(IntProgress(value=0, max=47), HTML(value='')))"
      ]
     },
     "metadata": {},
     "output_type": "display_data"
    },
    {
     "data": {
      "application/vnd.jupyter.widget-view+json": {
       "model_id": "5205ef6f5cf144638eabc7873257b53b",
       "version_major": 2,
       "version_minor": 0
      },
      "text/plain": [
       "HBox(children=(IntProgress(value=0, max=20), HTML(value='')))"
      ]
     },
     "metadata": {},
     "output_type": "display_data"
    },
    {
     "name": "stdout",
     "output_type": "stream",
     "text": [
      "{'accuracy': 0.777602523659306, 'roc_auc': 0.7309282738909666, 'pr_auc': 0.26638079055344616}\n"
     ]
    },
    {
     "data": {
      "text/html": [
       "<div>\n",
       "<style scoped>\n",
       "    .dataframe tbody tr th:only-of-type {\n",
       "        vertical-align: middle;\n",
       "    }\n",
       "\n",
       "    .dataframe tbody tr th {\n",
       "        vertical-align: top;\n",
       "    }\n",
       "\n",
       "    .dataframe thead th {\n",
       "        text-align: right;\n",
       "    }\n",
       "</style>\n",
       "<table border=\"1\" class=\"dataframe\">\n",
       "  <thead>\n",
       "    <tr style=\"text-align: right;\">\n",
       "      <th></th>\n",
       "      <th>0.0</th>\n",
       "      <th>1.0</th>\n",
       "      <th>micro avg</th>\n",
       "      <th>macro avg</th>\n",
       "      <th>weighted avg</th>\n",
       "    </tr>\n",
       "  </thead>\n",
       "  <tbody>\n",
       "    <tr>\n",
       "      <th>f1-score</th>\n",
       "      <td>0.868</td>\n",
       "      <td>0.305</td>\n",
       "      <td>0.778</td>\n",
       "      <td>0.587</td>\n",
       "      <td>0.817</td>\n",
       "    </tr>\n",
       "    <tr>\n",
       "      <th>precision</th>\n",
       "      <td>0.947</td>\n",
       "      <td>0.212</td>\n",
       "      <td>0.778</td>\n",
       "      <td>0.580</td>\n",
       "      <td>0.881</td>\n",
       "    </tr>\n",
       "    <tr>\n",
       "      <th>recall</th>\n",
       "      <td>0.801</td>\n",
       "      <td>0.544</td>\n",
       "      <td>0.778</td>\n",
       "      <td>0.672</td>\n",
       "      <td>0.778</td>\n",
       "    </tr>\n",
       "    <tr>\n",
       "      <th>support</th>\n",
       "      <td>577.000</td>\n",
       "      <td>57.000</td>\n",
       "      <td>634.000</td>\n",
       "      <td>634.000</td>\n",
       "      <td>634.000</td>\n",
       "    </tr>\n",
       "  </tbody>\n",
       "</table>\n",
       "</div>"
      ],
      "text/plain": [
       "               0.0     1.0  micro avg  macro avg  weighted avg\n",
       "f1-score     0.868   0.305      0.778      0.587         0.817\n",
       "precision    0.947   0.212      0.778      0.580         0.881\n",
       "recall       0.801   0.544      0.778      0.672         0.778\n",
       "support    577.000  57.000    634.000    634.000       634.000"
      ]
     },
     "metadata": {},
     "output_type": "display_data"
    },
    {
     "name": "stdout",
     "output_type": "stream",
     "text": [
      "Model Saved on  roc_auc 0.7309282738909666\n"
     ]
    },
    {
     "data": {
      "application/vnd.jupyter.widget-view+json": {
       "model_id": "b117dc0a6ff941e5b58f514a37192cb5",
       "version_major": 2,
       "version_minor": 0
      },
      "text/plain": [
       "HBox(children=(IntProgress(value=0, max=47), HTML(value='')))"
      ]
     },
     "metadata": {},
     "output_type": "display_data"
    },
    {
     "data": {
      "application/vnd.jupyter.widget-view+json": {
       "model_id": "38a5545ac3404032a9548b57f2a77b52",
       "version_major": 2,
       "version_minor": 0
      },
      "text/plain": [
       "HBox(children=(IntProgress(value=0, max=20), HTML(value='')))"
      ]
     },
     "metadata": {},
     "output_type": "display_data"
    },
    {
     "name": "stdout",
     "output_type": "stream",
     "text": [
      "{'accuracy': 0.6577287066246057, 'roc_auc': 0.7500228039770136, 'pr_auc': 0.2960867406735352}\n"
     ]
    },
    {
     "data": {
      "text/html": [
       "<div>\n",
       "<style scoped>\n",
       "    .dataframe tbody tr th:only-of-type {\n",
       "        vertical-align: middle;\n",
       "    }\n",
       "\n",
       "    .dataframe tbody tr th {\n",
       "        vertical-align: top;\n",
       "    }\n",
       "\n",
       "    .dataframe thead th {\n",
       "        text-align: right;\n",
       "    }\n",
       "</style>\n",
       "<table border=\"1\" class=\"dataframe\">\n",
       "  <thead>\n",
       "    <tr style=\"text-align: right;\">\n",
       "      <th></th>\n",
       "      <th>0.0</th>\n",
       "      <th>1.0</th>\n",
       "      <th>micro avg</th>\n",
       "      <th>macro avg</th>\n",
       "      <th>weighted avg</th>\n",
       "    </tr>\n",
       "  </thead>\n",
       "  <tbody>\n",
       "    <tr>\n",
       "      <th>f1-score</th>\n",
       "      <td>0.776</td>\n",
       "      <td>0.274</td>\n",
       "      <td>0.658</td>\n",
       "      <td>0.525</td>\n",
       "      <td>0.731</td>\n",
       "    </tr>\n",
       "    <tr>\n",
       "      <th>precision</th>\n",
       "      <td>0.959</td>\n",
       "      <td>0.169</td>\n",
       "      <td>0.658</td>\n",
       "      <td>0.564</td>\n",
       "      <td>0.888</td>\n",
       "    </tr>\n",
       "    <tr>\n",
       "      <th>recall</th>\n",
       "      <td>0.652</td>\n",
       "      <td>0.719</td>\n",
       "      <td>0.658</td>\n",
       "      <td>0.685</td>\n",
       "      <td>0.658</td>\n",
       "    </tr>\n",
       "    <tr>\n",
       "      <th>support</th>\n",
       "      <td>577.000</td>\n",
       "      <td>57.000</td>\n",
       "      <td>634.000</td>\n",
       "      <td>634.000</td>\n",
       "      <td>634.000</td>\n",
       "    </tr>\n",
       "  </tbody>\n",
       "</table>\n",
       "</div>"
      ],
      "text/plain": [
       "               0.0     1.0  micro avg  macro avg  weighted avg\n",
       "f1-score     0.776   0.274      0.658      0.525         0.731\n",
       "precision    0.959   0.169      0.658      0.564         0.888\n",
       "recall       0.652   0.719      0.658      0.685         0.658\n",
       "support    577.000  57.000    634.000    634.000       634.000"
      ]
     },
     "metadata": {},
     "output_type": "display_data"
    },
    {
     "name": "stdout",
     "output_type": "stream",
     "text": [
      "Model Saved on  roc_auc 0.7500228039770136\n"
     ]
    },
    {
     "data": {
      "application/vnd.jupyter.widget-view+json": {
       "model_id": "94dfe1cb969b4b0caecd151de990279d",
       "version_major": 2,
       "version_minor": 0
      },
      "text/plain": [
       "HBox(children=(IntProgress(value=0, max=47), HTML(value='')))"
      ]
     },
     "metadata": {},
     "output_type": "display_data"
    },
    {
     "data": {
      "application/vnd.jupyter.widget-view+json": {
       "model_id": "26cb9662e70f4bb69df6e9213e55c79c",
       "version_major": 2,
       "version_minor": 0
      },
      "text/plain": [
       "HBox(children=(IntProgress(value=0, max=20), HTML(value='')))"
      ]
     },
     "metadata": {},
     "output_type": "display_data"
    },
    {
     "name": "stdout",
     "output_type": "stream",
     "text": [
      "{'accuracy': 0.7523659305993691, 'roc_auc': 0.7726443491744961, 'pr_auc': 0.3246915415228067}\n"
     ]
    },
    {
     "data": {
      "text/html": [
       "<div>\n",
       "<style scoped>\n",
       "    .dataframe tbody tr th:only-of-type {\n",
       "        vertical-align: middle;\n",
       "    }\n",
       "\n",
       "    .dataframe tbody tr th {\n",
       "        vertical-align: top;\n",
       "    }\n",
       "\n",
       "    .dataframe thead th {\n",
       "        text-align: right;\n",
       "    }\n",
       "</style>\n",
       "<table border=\"1\" class=\"dataframe\">\n",
       "  <thead>\n",
       "    <tr style=\"text-align: right;\">\n",
       "      <th></th>\n",
       "      <th>0.0</th>\n",
       "      <th>1.0</th>\n",
       "      <th>micro avg</th>\n",
       "      <th>macro avg</th>\n",
       "      <th>weighted avg</th>\n",
       "    </tr>\n",
       "  </thead>\n",
       "  <tbody>\n",
       "    <tr>\n",
       "      <th>f1-score</th>\n",
       "      <td>0.847</td>\n",
       "      <td>0.343</td>\n",
       "      <td>0.752</td>\n",
       "      <td>0.595</td>\n",
       "      <td>0.802</td>\n",
       "    </tr>\n",
       "    <tr>\n",
       "      <th>precision</th>\n",
       "      <td>0.965</td>\n",
       "      <td>0.225</td>\n",
       "      <td>0.752</td>\n",
       "      <td>0.595</td>\n",
       "      <td>0.898</td>\n",
       "    </tr>\n",
       "    <tr>\n",
       "      <th>recall</th>\n",
       "      <td>0.756</td>\n",
       "      <td>0.719</td>\n",
       "      <td>0.752</td>\n",
       "      <td>0.737</td>\n",
       "      <td>0.752</td>\n",
       "    </tr>\n",
       "    <tr>\n",
       "      <th>support</th>\n",
       "      <td>577.000</td>\n",
       "      <td>57.000</td>\n",
       "      <td>634.000</td>\n",
       "      <td>634.000</td>\n",
       "      <td>634.000</td>\n",
       "    </tr>\n",
       "  </tbody>\n",
       "</table>\n",
       "</div>"
      ],
      "text/plain": [
       "               0.0     1.0  micro avg  macro avg  weighted avg\n",
       "f1-score     0.847   0.343      0.752      0.595         0.802\n",
       "precision    0.965   0.225      0.752      0.595         0.898\n",
       "recall       0.756   0.719      0.752      0.737         0.752\n",
       "support    577.000  57.000    634.000    634.000       634.000"
      ]
     },
     "metadata": {},
     "output_type": "display_data"
    },
    {
     "name": "stdout",
     "output_type": "stream",
     "text": [
      "Model Saved on  roc_auc 0.7726443491744961\n"
     ]
    },
    {
     "data": {
      "application/vnd.jupyter.widget-view+json": {
       "model_id": "1cba64e3c58044aaa85c5f60a18e8741",
       "version_major": 2,
       "version_minor": 0
      },
      "text/plain": [
       "HBox(children=(IntProgress(value=0, max=47), HTML(value='')))"
      ]
     },
     "metadata": {},
     "output_type": "display_data"
    },
    {
     "data": {
      "application/vnd.jupyter.widget-view+json": {
       "model_id": "111ccd3033994eeb942c3bca68f89ba0",
       "version_major": 2,
       "version_minor": 0
      },
      "text/plain": [
       "HBox(children=(IntProgress(value=0, max=20), HTML(value='')))"
      ]
     },
     "metadata": {},
     "output_type": "display_data"
    },
    {
     "name": "stdout",
     "output_type": "stream",
     "text": [
      "{'accuracy': 0.8217665615141956, 'roc_auc': 0.7944145458968044, 'pr_auc': 0.3477373052380539}\n"
     ]
    },
    {
     "data": {
      "text/html": [
       "<div>\n",
       "<style scoped>\n",
       "    .dataframe tbody tr th:only-of-type {\n",
       "        vertical-align: middle;\n",
       "    }\n",
       "\n",
       "    .dataframe tbody tr th {\n",
       "        vertical-align: top;\n",
       "    }\n",
       "\n",
       "    .dataframe thead th {\n",
       "        text-align: right;\n",
       "    }\n",
       "</style>\n",
       "<table border=\"1\" class=\"dataframe\">\n",
       "  <thead>\n",
       "    <tr style=\"text-align: right;\">\n",
       "      <th></th>\n",
       "      <th>0.0</th>\n",
       "      <th>1.0</th>\n",
       "      <th>micro avg</th>\n",
       "      <th>macro avg</th>\n",
       "      <th>weighted avg</th>\n",
       "    </tr>\n",
       "  </thead>\n",
       "  <tbody>\n",
       "    <tr>\n",
       "      <th>f1-score</th>\n",
       "      <td>0.896</td>\n",
       "      <td>0.376</td>\n",
       "      <td>0.822</td>\n",
       "      <td>0.636</td>\n",
       "      <td>0.849</td>\n",
       "    </tr>\n",
       "    <tr>\n",
       "      <th>precision</th>\n",
       "      <td>0.955</td>\n",
       "      <td>0.274</td>\n",
       "      <td>0.822</td>\n",
       "      <td>0.615</td>\n",
       "      <td>0.894</td>\n",
       "    </tr>\n",
       "    <tr>\n",
       "      <th>recall</th>\n",
       "      <td>0.844</td>\n",
       "      <td>0.596</td>\n",
       "      <td>0.822</td>\n",
       "      <td>0.720</td>\n",
       "      <td>0.822</td>\n",
       "    </tr>\n",
       "    <tr>\n",
       "      <th>support</th>\n",
       "      <td>577.000</td>\n",
       "      <td>57.000</td>\n",
       "      <td>634.000</td>\n",
       "      <td>634.000</td>\n",
       "      <td>634.000</td>\n",
       "    </tr>\n",
       "  </tbody>\n",
       "</table>\n",
       "</div>"
      ],
      "text/plain": [
       "               0.0     1.0  micro avg  macro avg  weighted avg\n",
       "f1-score     0.896   0.376      0.822      0.636         0.849\n",
       "precision    0.955   0.274      0.822      0.615         0.894\n",
       "recall       0.844   0.596      0.822      0.720         0.822\n",
       "support    577.000  57.000    634.000    634.000       634.000"
      ]
     },
     "metadata": {},
     "output_type": "display_data"
    },
    {
     "name": "stdout",
     "output_type": "stream",
     "text": [
      "Model Saved on  roc_auc 0.7944145458968044\n"
     ]
    },
    {
     "data": {
      "application/vnd.jupyter.widget-view+json": {
       "model_id": "63721ab5c2884bed8bc5ddd5a91cb0f9",
       "version_major": 2,
       "version_minor": 0
      },
      "text/plain": [
       "HBox(children=(IntProgress(value=0, max=47), HTML(value='')))"
      ]
     },
     "metadata": {},
     "output_type": "display_data"
    },
    {
     "data": {
      "application/vnd.jupyter.widget-view+json": {
       "model_id": "02ee0551aaff4ccd9484527d98578d6a",
       "version_major": 2,
       "version_minor": 0
      },
      "text/plain": [
       "HBox(children=(IntProgress(value=0, max=20), HTML(value='')))"
      ]
     },
     "metadata": {},
     "output_type": "display_data"
    },
    {
     "name": "stdout",
     "output_type": "stream",
     "text": [
      "{'accuracy': 0.8990536277602523, 'roc_auc': 0.7903706406397275, 'pr_auc': 0.3524563527840388}\n"
     ]
    },
    {
     "data": {
      "text/html": [
       "<div>\n",
       "<style scoped>\n",
       "    .dataframe tbody tr th:only-of-type {\n",
       "        vertical-align: middle;\n",
       "    }\n",
       "\n",
       "    .dataframe tbody tr th {\n",
       "        vertical-align: top;\n",
       "    }\n",
       "\n",
       "    .dataframe thead th {\n",
       "        text-align: right;\n",
       "    }\n",
       "</style>\n",
       "<table border=\"1\" class=\"dataframe\">\n",
       "  <thead>\n",
       "    <tr style=\"text-align: right;\">\n",
       "      <th></th>\n",
       "      <th>0.0</th>\n",
       "      <th>1.0</th>\n",
       "      <th>micro avg</th>\n",
       "      <th>macro avg</th>\n",
       "      <th>weighted avg</th>\n",
       "    </tr>\n",
       "  </thead>\n",
       "  <tbody>\n",
       "    <tr>\n",
       "      <th>f1-score</th>\n",
       "      <td>0.945</td>\n",
       "      <td>0.396</td>\n",
       "      <td>0.899</td>\n",
       "      <td>0.671</td>\n",
       "      <td>0.896</td>\n",
       "    </tr>\n",
       "    <tr>\n",
       "      <th>precision</th>\n",
       "      <td>0.938</td>\n",
       "      <td>0.429</td>\n",
       "      <td>0.899</td>\n",
       "      <td>0.684</td>\n",
       "      <td>0.893</td>\n",
       "    </tr>\n",
       "    <tr>\n",
       "      <th>recall</th>\n",
       "      <td>0.951</td>\n",
       "      <td>0.368</td>\n",
       "      <td>0.899</td>\n",
       "      <td>0.660</td>\n",
       "      <td>0.899</td>\n",
       "    </tr>\n",
       "    <tr>\n",
       "      <th>support</th>\n",
       "      <td>577.000</td>\n",
       "      <td>57.000</td>\n",
       "      <td>634.000</td>\n",
       "      <td>634.000</td>\n",
       "      <td>634.000</td>\n",
       "    </tr>\n",
       "  </tbody>\n",
       "</table>\n",
       "</div>"
      ],
      "text/plain": [
       "               0.0     1.0  micro avg  macro avg  weighted avg\n",
       "f1-score     0.945   0.396      0.899      0.671         0.896\n",
       "precision    0.938   0.429      0.899      0.684         0.893\n",
       "recall       0.951   0.368      0.899      0.660         0.899\n",
       "support    577.000  57.000    634.000    634.000       634.000"
      ]
     },
     "metadata": {},
     "output_type": "display_data"
    },
    {
     "name": "stdout",
     "output_type": "stream",
     "text": [
      "Model not saved on  roc_auc 0.7903706406397275\n"
     ]
    },
    {
     "data": {
      "application/vnd.jupyter.widget-view+json": {
       "model_id": "ae68a6522f114185bd8a6cd5502ca053",
       "version_major": 2,
       "version_minor": 0
      },
      "text/plain": [
       "HBox(children=(IntProgress(value=0, max=47), HTML(value='')))"
      ]
     },
     "metadata": {},
     "output_type": "display_data"
    },
    {
     "data": {
      "application/vnd.jupyter.widget-view+json": {
       "model_id": "58f7ee64cd0147158546ca2422fb3be7",
       "version_major": 2,
       "version_minor": 0
      },
      "text/plain": [
       "HBox(children=(IntProgress(value=0, max=20), HTML(value='')))"
      ]
     },
     "metadata": {},
     "output_type": "display_data"
    },
    {
     "name": "stdout",
     "output_type": "stream",
     "text": [
      "{'accuracy': 0.8533123028391167, 'roc_auc': 0.8067286934841436, 'pr_auc': 0.3558965390502986}\n"
     ]
    },
    {
     "data": {
      "text/html": [
       "<div>\n",
       "<style scoped>\n",
       "    .dataframe tbody tr th:only-of-type {\n",
       "        vertical-align: middle;\n",
       "    }\n",
       "\n",
       "    .dataframe tbody tr th {\n",
       "        vertical-align: top;\n",
       "    }\n",
       "\n",
       "    .dataframe thead th {\n",
       "        text-align: right;\n",
       "    }\n",
       "</style>\n",
       "<table border=\"1\" class=\"dataframe\">\n",
       "  <thead>\n",
       "    <tr style=\"text-align: right;\">\n",
       "      <th></th>\n",
       "      <th>0.0</th>\n",
       "      <th>1.0</th>\n",
       "      <th>micro avg</th>\n",
       "      <th>macro avg</th>\n",
       "      <th>weighted avg</th>\n",
       "    </tr>\n",
       "  </thead>\n",
       "  <tbody>\n",
       "    <tr>\n",
       "      <th>f1-score</th>\n",
       "      <td>0.916</td>\n",
       "      <td>0.422</td>\n",
       "      <td>0.853</td>\n",
       "      <td>0.669</td>\n",
       "      <td>0.872</td>\n",
       "    </tr>\n",
       "    <tr>\n",
       "      <th>precision</th>\n",
       "      <td>0.957</td>\n",
       "      <td>0.327</td>\n",
       "      <td>0.853</td>\n",
       "      <td>0.642</td>\n",
       "      <td>0.900</td>\n",
       "    </tr>\n",
       "    <tr>\n",
       "      <th>recall</th>\n",
       "      <td>0.879</td>\n",
       "      <td>0.596</td>\n",
       "      <td>0.853</td>\n",
       "      <td>0.738</td>\n",
       "      <td>0.853</td>\n",
       "    </tr>\n",
       "    <tr>\n",
       "      <th>support</th>\n",
       "      <td>577.000</td>\n",
       "      <td>57.000</td>\n",
       "      <td>634.000</td>\n",
       "      <td>634.000</td>\n",
       "      <td>634.000</td>\n",
       "    </tr>\n",
       "  </tbody>\n",
       "</table>\n",
       "</div>"
      ],
      "text/plain": [
       "               0.0     1.0  micro avg  macro avg  weighted avg\n",
       "f1-score     0.916   0.422      0.853      0.669         0.872\n",
       "precision    0.957   0.327      0.853      0.642         0.900\n",
       "recall       0.879   0.596      0.853      0.738         0.853\n",
       "support    577.000  57.000    634.000    634.000       634.000"
      ]
     },
     "metadata": {},
     "output_type": "display_data"
    },
    {
     "name": "stderr",
     "output_type": "stream",
     "text": [
      "INFO - 2019-03-27 19:23:51,745 - instantiating class <class 'PatientVec.models.Model.Model'> from params {'type': 'seq_classifier', 'embedder': {'type': 'token_embedder', 'vocab_size': 19054, 'embed_size': 200, 'embedding_file': './preprocess/HipSurgery/1_yrs/embedding_matrix.npy'}, 'decoder': {'num_layers': 2, 'hidden_dims': [128, 1], 'activations': ['tanh', 'linear']}, 'predictor': {'type': 'binary'}, 'structured': {'use_structured': False}, 'encoder': {'type': 'average', 'projection': True, 'hidden_size': 256, 'activation': 'relu'}} and extras {}\n",
      "INFO - 2019-03-27 19:23:51,746 - type = seq_classifier\n",
      "INFO - 2019-03-27 19:23:51,746 - instantiating class <class 'PatientVec.models.modules.Embedder.Embedder'> from params {'type': 'token_embedder', 'vocab_size': 19054, 'embed_size': 200, 'embedding_file': './preprocess/HipSurgery/1_yrs/embedding_matrix.npy'} and extras {}\n",
      "INFO - 2019-03-27 19:23:51,747 - embedder.type = token_embedder\n",
      "INFO - 2019-03-27 19:23:51,748 - instantiating class <class 'PatientVec.models.modules.Embedder.TokenEmbedder'> from params {'vocab_size': 19054, 'embed_size': 200, 'embedding_file': './preprocess/HipSurgery/1_yrs/embedding_matrix.npy'} and extras {}\n",
      "INFO - 2019-03-27 19:23:51,748 - embedder.vocab_size = 19054\n",
      "INFO - 2019-03-27 19:23:51,749 - embedder.embed_size = 200\n",
      "INFO - 2019-03-27 19:23:51,749 - embedder.embedding_file = ./preprocess/HipSurgery/1_yrs/embedding_matrix.npy\n"
     ]
    },
    {
     "name": "stdout",
     "output_type": "stream",
     "text": [
      "Model Saved on  roc_auc 0.8067286934841436\n",
      "\n"
     ]
    },
    {
     "name": "stderr",
     "output_type": "stream",
     "text": [
      "INFO - 2019-03-27 19:23:51,771 - instantiating class <class 'PatientVec.models.modules.Encoder.Encoder'> from params {'type': 'average', 'projection': True, 'hidden_size': 256, 'activation': 'relu'} and extras {'input_size': 200}\n"
     ]
    },
    {
     "name": "stdout",
     "output_type": "stream",
     "text": [
      "Setting Embedding\n"
     ]
    },
    {
     "name": "stderr",
     "output_type": "stream",
     "text": [
      "INFO - 2019-03-27 19:23:51,771 - encoder.type = average\n",
      "INFO - 2019-03-27 19:23:51,772 - instantiating class <class 'PatientVec.models.modules.Encoder.AverageEncoder'> from params {'projection': True, 'hidden_size': 256, 'activation': 'relu'} and extras {'input_size': 200}\n",
      "INFO - 2019-03-27 19:23:51,773 - encoder.projection = True\n",
      "INFO - 2019-03-27 19:23:51,773 - encoder.hidden_size = 256\n",
      "INFO - 2019-03-27 19:23:51,774 - encoder.activation = relu\n",
      "INFO - 2019-03-27 19:23:51,775 - decoder.input_dim = 256\n",
      "INFO - 2019-03-27 19:23:51,775 - decoder.num_layers = 2\n",
      "INFO - 2019-03-27 19:23:51,776 - decoder.hidden_dims = [128, 1]\n",
      "INFO - 2019-03-27 19:23:51,776 - decoder.activations = ['tanh', 'linear']\n",
      "INFO - 2019-03-27 19:23:51,777 - decoder.dropout = 0.0\n",
      "INFO - 2019-03-27 19:23:51,778 - instantiating class <class 'PatientVec.models.modules.Predictor.Predictor'> from params {'type': 'binary'} and extras {}\n",
      "INFO - 2019-03-27 19:23:51,779 - predictor.type = binary\n",
      "INFO - 2019-03-27 19:23:51,780 - instantiating class <class 'PatientVec.models.modules.Predictor.Binary_Predictor'> from params {} and extras {}\n",
      "INFO - 2019-03-27 19:23:51,781 - predictor.replicate = False\n",
      "INFO - 2019-03-27 19:23:51,781 - predictor.alpha = 0.5\n"
     ]
    },
    {
     "data": {
      "application/vnd.jupyter.widget-view+json": {
       "model_id": "cd119bc7986a4390b94ef76238d56246",
       "version_major": 2,
       "version_minor": 0
      },
      "text/plain": [
       "HBox(children=(IntProgress(value=0, max=20), HTML(value='')))"
      ]
     },
     "metadata": {},
     "output_type": "display_data"
    },
    {
     "name": "stdout",
     "output_type": "stream",
     "text": [
      "\n",
      "{'accuracy': 0.8533123028391167, 'roc_auc': 0.8067286934841436, 'pr_auc': 0.3558965390502986}\n"
     ]
    },
    {
     "data": {
      "text/html": [
       "<div>\n",
       "<style scoped>\n",
       "    .dataframe tbody tr th:only-of-type {\n",
       "        vertical-align: middle;\n",
       "    }\n",
       "\n",
       "    .dataframe tbody tr th {\n",
       "        vertical-align: top;\n",
       "    }\n",
       "\n",
       "    .dataframe thead th {\n",
       "        text-align: right;\n",
       "    }\n",
       "</style>\n",
       "<table border=\"1\" class=\"dataframe\">\n",
       "  <thead>\n",
       "    <tr style=\"text-align: right;\">\n",
       "      <th></th>\n",
       "      <th>0.0</th>\n",
       "      <th>1.0</th>\n",
       "      <th>micro avg</th>\n",
       "      <th>macro avg</th>\n",
       "      <th>weighted avg</th>\n",
       "    </tr>\n",
       "  </thead>\n",
       "  <tbody>\n",
       "    <tr>\n",
       "      <th>f1-score</th>\n",
       "      <td>0.916</td>\n",
       "      <td>0.422</td>\n",
       "      <td>0.853</td>\n",
       "      <td>0.669</td>\n",
       "      <td>0.872</td>\n",
       "    </tr>\n",
       "    <tr>\n",
       "      <th>precision</th>\n",
       "      <td>0.957</td>\n",
       "      <td>0.327</td>\n",
       "      <td>0.853</td>\n",
       "      <td>0.642</td>\n",
       "      <td>0.900</td>\n",
       "    </tr>\n",
       "    <tr>\n",
       "      <th>recall</th>\n",
       "      <td>0.879</td>\n",
       "      <td>0.596</td>\n",
       "      <td>0.853</td>\n",
       "      <td>0.738</td>\n",
       "      <td>0.853</td>\n",
       "    </tr>\n",
       "    <tr>\n",
       "      <th>support</th>\n",
       "      <td>577.000</td>\n",
       "      <td>57.000</td>\n",
       "      <td>634.000</td>\n",
       "      <td>634.000</td>\n",
       "      <td>634.000</td>\n",
       "    </tr>\n",
       "  </tbody>\n",
       "</table>\n",
       "</div>"
      ],
      "text/plain": [
       "               0.0     1.0  micro avg  macro avg  weighted avg\n",
       "f1-score     0.916   0.422      0.853      0.669         0.872\n",
       "precision    0.957   0.327      0.853      0.642         0.900\n",
       "recall       0.879   0.596      0.853      0.738         0.853\n",
       "support    577.000  57.000    634.000    634.000       634.000"
      ]
     },
     "metadata": {},
     "output_type": "display_data"
    },
    {
     "data": {
      "application/vnd.jupyter.widget-view+json": {
       "model_id": "b3965b387fd44c59a71478649f10c665",
       "version_major": 2,
       "version_minor": 0
      },
      "text/plain": [
       "HBox(children=(IntProgress(value=0, max=20), HTML(value='')))"
      ]
     },
     "metadata": {},
     "output_type": "display_data"
    },
    {
     "name": "stdout",
     "output_type": "stream",
     "text": [
      "\n",
      "{'accuracy': 0.8589540412044374, 'roc_auc': 0.7739243853630646, 'pr_auc': 0.21296532092654546}\n"
     ]
    },
    {
     "data": {
      "text/html": [
       "<div>\n",
       "<style scoped>\n",
       "    .dataframe tbody tr th:only-of-type {\n",
       "        vertical-align: middle;\n",
       "    }\n",
       "\n",
       "    .dataframe tbody tr th {\n",
       "        vertical-align: top;\n",
       "    }\n",
       "\n",
       "    .dataframe thead th {\n",
       "        text-align: right;\n",
       "    }\n",
       "</style>\n",
       "<table border=\"1\" class=\"dataframe\">\n",
       "  <thead>\n",
       "    <tr style=\"text-align: right;\">\n",
       "      <th></th>\n",
       "      <th>0.0</th>\n",
       "      <th>1.0</th>\n",
       "      <th>micro avg</th>\n",
       "      <th>macro avg</th>\n",
       "      <th>weighted avg</th>\n",
       "    </tr>\n",
       "  </thead>\n",
       "  <tbody>\n",
       "    <tr>\n",
       "      <th>f1-score</th>\n",
       "      <td>0.921</td>\n",
       "      <td>0.369</td>\n",
       "      <td>0.859</td>\n",
       "      <td>0.645</td>\n",
       "      <td>0.879</td>\n",
       "    </tr>\n",
       "    <tr>\n",
       "      <th>precision</th>\n",
       "      <td>0.959</td>\n",
       "      <td>0.280</td>\n",
       "      <td>0.859</td>\n",
       "      <td>0.619</td>\n",
       "      <td>0.907</td>\n",
       "    </tr>\n",
       "    <tr>\n",
       "      <th>recall</th>\n",
       "      <td>0.885</td>\n",
       "      <td>0.542</td>\n",
       "      <td>0.859</td>\n",
       "      <td>0.713</td>\n",
       "      <td>0.859</td>\n",
       "    </tr>\n",
       "    <tr>\n",
       "      <th>support</th>\n",
       "      <td>583.000</td>\n",
       "      <td>48.000</td>\n",
       "      <td>631.000</td>\n",
       "      <td>631.000</td>\n",
       "      <td>631.000</td>\n",
       "    </tr>\n",
       "  </tbody>\n",
       "</table>\n",
       "</div>"
      ],
      "text/plain": [
       "               0.0     1.0  micro avg  macro avg  weighted avg\n",
       "f1-score     0.921   0.369      0.859      0.645         0.879\n",
       "precision    0.959   0.280      0.859      0.619         0.907\n",
       "recall       0.885   0.542      0.859      0.713         0.859\n",
       "support    583.000  48.000    631.000    631.000       631.000"
      ]
     },
     "metadata": {},
     "output_type": "display_data"
    },
    {
     "name": "stderr",
     "output_type": "stream",
     "text": [
      "INFO - 2019-03-27 19:23:55,739 - instantiating class <class 'PatientVec.models.Model.Model'> from params {'type': 'seq_classifier', 'embedder': {'type': 'token_embedder', 'vocab_size': 19054, 'embed_size': 200, 'embedding_file': './preprocess/HipSurgery/1_yrs/embedding_matrix.npy'}, 'decoder': {'num_layers': 2, 'hidden_dims': [128, 1], 'activations': ['tanh', 'linear']}, 'predictor': {'type': 'binary'}, 'structured': {'use_structured': False}, 'encoder': {'type': 'lstm', 'hidden_size': 128}} and extras {}\n",
      "INFO - 2019-03-27 19:23:55,740 - type = seq_classifier\n",
      "INFO - 2019-03-27 19:23:55,741 - instantiating class <class 'PatientVec.models.modules.Embedder.Embedder'> from params {'type': 'token_embedder', 'vocab_size': 19054, 'embed_size': 200, 'embedding_file': './preprocess/HipSurgery/1_yrs/embedding_matrix.npy'} and extras {}\n",
      "INFO - 2019-03-27 19:23:55,741 - embedder.type = token_embedder\n",
      "INFO - 2019-03-27 19:23:55,742 - instantiating class <class 'PatientVec.models.modules.Embedder.TokenEmbedder'> from params {'vocab_size': 19054, 'embed_size': 200, 'embedding_file': './preprocess/HipSurgery/1_yrs/embedding_matrix.npy'} and extras {}\n",
      "INFO - 2019-03-27 19:23:55,743 - embedder.vocab_size = 19054\n",
      "INFO - 2019-03-27 19:23:55,743 - embedder.embed_size = 200\n",
      "INFO - 2019-03-27 19:23:55,744 - embedder.embedding_file = ./preprocess/HipSurgery/1_yrs/embedding_matrix.npy\n",
      "INFO - 2019-03-27 19:23:55,769 - instantiating class <class 'PatientVec.models.modules.Encoder.Encoder'> from params {'type': 'lstm', 'hidden_size': 128} and extras {'input_size': 200}\n",
      "INFO - 2019-03-27 19:23:55,770 - encoder.type = lstm\n",
      "INFO - 2019-03-27 19:23:55,771 - instantiating class <class 'PatientVec.models.modules.Encoder.wrap_pytorch_rnn.<locals>.BiRNNEncoder'> from params {'hidden_size': 128} and extras {'input_size': 200}\n",
      "INFO - 2019-03-27 19:23:55,771 - encoder.hidden_size = 128\n",
      "INFO - 2019-03-27 19:23:55,774 - decoder.input_dim = 256\n",
      "INFO - 2019-03-27 19:23:55,775 - decoder.num_layers = 2\n",
      "INFO - 2019-03-27 19:23:55,776 - decoder.hidden_dims = [128, 1]\n",
      "INFO - 2019-03-27 19:23:55,776 - decoder.activations = ['tanh', 'linear']\n",
      "INFO - 2019-03-27 19:23:55,777 - decoder.dropout = 0.0\n",
      "INFO - 2019-03-27 19:23:55,779 - instantiating class <class 'PatientVec.models.modules.Predictor.Predictor'> from params {'type': 'binary'} and extras {}\n",
      "INFO - 2019-03-27 19:23:55,780 - predictor.type = binary\n",
      "INFO - 2019-03-27 19:23:55,780 - instantiating class <class 'PatientVec.models.modules.Predictor.Binary_Predictor'> from params {} and extras {}\n",
      "INFO - 2019-03-27 19:23:55,781 - predictor.replicate = False\n",
      "INFO - 2019-03-27 19:23:55,781 - predictor.alpha = 0.5\n"
     ]
    },
    {
     "name": "stdout",
     "output_type": "stream",
     "text": [
      "============================================================================================================================================================================================================================================================================================================\n",
      "{'model': {'type': 'seq_classifier', 'embedder': {'type': 'token_embedder', 'vocab_size': 19054, 'embed_size': 200, 'embedding_file': './preprocess/HipSurgery/1_yrs/embedding_matrix.npy'}, 'decoder': {'num_layers': 2, 'hidden_dims': [128, 1], 'activations': ['tanh', 'linear']}, 'predictor': {'type': 'binary'}, 'structured': {'use_structured': False}, 'encoder': {'type': 'lstm', 'hidden_size': 128}}, 'training_config': {'type': 'Adam', 'groups': [('.*', {'lr': 0.001, 'weight_decay': 1e-05})], 'common': {'bsize': 32, 'class_weight': True}}, 'exp_config': {'exp_name': 'HipSurgery_1/Basic/LSTM(hs=128)', 'basepath': 'outputs/ts_experiments/n=1500'}}\n",
      "Setting Embedding\n"
     ]
    },
    {
     "data": {
      "application/vnd.jupyter.widget-view+json": {
       "model_id": "0df26782bcda48cdaa283e073bfc2681",
       "version_major": 2,
       "version_minor": 0
      },
      "text/plain": [
       "HBox(children=(IntProgress(value=0, max=8), HTML(value='')))"
      ]
     },
     "metadata": {},
     "output_type": "display_data"
    },
    {
     "data": {
      "application/vnd.jupyter.widget-view+json": {
       "model_id": "ada3abbee7a245dd9d8d7bf8b14cde9d",
       "version_major": 2,
       "version_minor": 0
      },
      "text/plain": [
       "HBox(children=(IntProgress(value=0, max=47), HTML(value='')))"
      ]
     },
     "metadata": {},
     "output_type": "display_data"
    },
    {
     "data": {
      "application/vnd.jupyter.widget-view+json": {
       "model_id": "afbfc47bfb6d40c0a70cfd32d6f9e4f3",
       "version_major": 2,
       "version_minor": 0
      },
      "text/plain": [
       "HBox(children=(IntProgress(value=0, max=20), HTML(value='')))"
      ]
     },
     "metadata": {},
     "output_type": "display_data"
    },
    {
     "name": "stdout",
     "output_type": "stream",
     "text": [
      "{'accuracy': 0.8470031545741324, 'roc_auc': 0.6942594788531119, 'pr_auc': 0.1903823060149953}\n"
     ]
    },
    {
     "data": {
      "text/html": [
       "<div>\n",
       "<style scoped>\n",
       "    .dataframe tbody tr th:only-of-type {\n",
       "        vertical-align: middle;\n",
       "    }\n",
       "\n",
       "    .dataframe tbody tr th {\n",
       "        vertical-align: top;\n",
       "    }\n",
       "\n",
       "    .dataframe thead th {\n",
       "        text-align: right;\n",
       "    }\n",
       "</style>\n",
       "<table border=\"1\" class=\"dataframe\">\n",
       "  <thead>\n",
       "    <tr style=\"text-align: right;\">\n",
       "      <th></th>\n",
       "      <th>0.0</th>\n",
       "      <th>1.0</th>\n",
       "      <th>micro avg</th>\n",
       "      <th>macro avg</th>\n",
       "      <th>weighted avg</th>\n",
       "    </tr>\n",
       "  </thead>\n",
       "  <tbody>\n",
       "    <tr>\n",
       "      <th>f1-score</th>\n",
       "      <td>0.915</td>\n",
       "      <td>0.248</td>\n",
       "      <td>0.847</td>\n",
       "      <td>0.581</td>\n",
       "      <td>0.855</td>\n",
       "    </tr>\n",
       "    <tr>\n",
       "      <th>precision</th>\n",
       "      <td>0.927</td>\n",
       "      <td>0.222</td>\n",
       "      <td>0.847</td>\n",
       "      <td>0.575</td>\n",
       "      <td>0.864</td>\n",
       "    </tr>\n",
       "    <tr>\n",
       "      <th>recall</th>\n",
       "      <td>0.903</td>\n",
       "      <td>0.281</td>\n",
       "      <td>0.847</td>\n",
       "      <td>0.592</td>\n",
       "      <td>0.847</td>\n",
       "    </tr>\n",
       "    <tr>\n",
       "      <th>support</th>\n",
       "      <td>577.000</td>\n",
       "      <td>57.000</td>\n",
       "      <td>634.000</td>\n",
       "      <td>634.000</td>\n",
       "      <td>634.000</td>\n",
       "    </tr>\n",
       "  </tbody>\n",
       "</table>\n",
       "</div>"
      ],
      "text/plain": [
       "               0.0     1.0  micro avg  macro avg  weighted avg\n",
       "f1-score     0.915   0.248      0.847      0.581         0.855\n",
       "precision    0.927   0.222      0.847      0.575         0.864\n",
       "recall       0.903   0.281      0.847      0.592         0.847\n",
       "support    577.000  57.000    634.000    634.000       634.000"
      ]
     },
     "metadata": {},
     "output_type": "display_data"
    },
    {
     "name": "stdout",
     "output_type": "stream",
     "text": [
      "Model Saved on  roc_auc 0.6942594788531119\n"
     ]
    },
    {
     "data": {
      "application/vnd.jupyter.widget-view+json": {
       "model_id": "7bce364d87e94ff0b589d3807cbafdfe",
       "version_major": 2,
       "version_minor": 0
      },
      "text/plain": [
       "HBox(children=(IntProgress(value=0, max=47), HTML(value='')))"
      ]
     },
     "metadata": {},
     "output_type": "display_data"
    },
    {
     "data": {
      "application/vnd.jupyter.widget-view+json": {
       "model_id": "f4e6a5124a52459981de2391c9b01313",
       "version_major": 2,
       "version_minor": 0
      },
      "text/plain": [
       "HBox(children=(IntProgress(value=0, max=20), HTML(value='')))"
      ]
     },
     "metadata": {},
     "output_type": "display_data"
    },
    {
     "name": "stdout",
     "output_type": "stream",
     "text": [
      "{'accuracy': 0.807570977917981, 'roc_auc': 0.7277053118063791, 'pr_auc': 0.21407021365513454}\n"
     ]
    },
    {
     "data": {
      "text/html": [
       "<div>\n",
       "<style scoped>\n",
       "    .dataframe tbody tr th:only-of-type {\n",
       "        vertical-align: middle;\n",
       "    }\n",
       "\n",
       "    .dataframe tbody tr th {\n",
       "        vertical-align: top;\n",
       "    }\n",
       "\n",
       "    .dataframe thead th {\n",
       "        text-align: right;\n",
       "    }\n",
       "</style>\n",
       "<table border=\"1\" class=\"dataframe\">\n",
       "  <thead>\n",
       "    <tr style=\"text-align: right;\">\n",
       "      <th></th>\n",
       "      <th>0.0</th>\n",
       "      <th>1.0</th>\n",
       "      <th>micro avg</th>\n",
       "      <th>macro avg</th>\n",
       "      <th>weighted avg</th>\n",
       "    </tr>\n",
       "  </thead>\n",
       "  <tbody>\n",
       "    <tr>\n",
       "      <th>f1-score</th>\n",
       "      <td>0.889</td>\n",
       "      <td>0.265</td>\n",
       "      <td>0.808</td>\n",
       "      <td>0.577</td>\n",
       "      <td>0.833</td>\n",
       "    </tr>\n",
       "    <tr>\n",
       "      <th>precision</th>\n",
       "      <td>0.933</td>\n",
       "      <td>0.202</td>\n",
       "      <td>0.808</td>\n",
       "      <td>0.568</td>\n",
       "      <td>0.868</td>\n",
       "    </tr>\n",
       "    <tr>\n",
       "      <th>recall</th>\n",
       "      <td>0.849</td>\n",
       "      <td>0.386</td>\n",
       "      <td>0.808</td>\n",
       "      <td>0.618</td>\n",
       "      <td>0.808</td>\n",
       "    </tr>\n",
       "    <tr>\n",
       "      <th>support</th>\n",
       "      <td>577.000</td>\n",
       "      <td>57.000</td>\n",
       "      <td>634.000</td>\n",
       "      <td>634.000</td>\n",
       "      <td>634.000</td>\n",
       "    </tr>\n",
       "  </tbody>\n",
       "</table>\n",
       "</div>"
      ],
      "text/plain": [
       "               0.0     1.0  micro avg  macro avg  weighted avg\n",
       "f1-score     0.889   0.265      0.808      0.577         0.833\n",
       "precision    0.933   0.202      0.808      0.568         0.868\n",
       "recall       0.849   0.386      0.808      0.618         0.808\n",
       "support    577.000  57.000    634.000    634.000       634.000"
      ]
     },
     "metadata": {},
     "output_type": "display_data"
    },
    {
     "name": "stdout",
     "output_type": "stream",
     "text": [
      "Model Saved on  roc_auc 0.7277053118063791\n"
     ]
    },
    {
     "data": {
      "application/vnd.jupyter.widget-view+json": {
       "model_id": "7e88193e5c974ce6a93181d546ddca87",
       "version_major": 2,
       "version_minor": 0
      },
      "text/plain": [
       "HBox(children=(IntProgress(value=0, max=47), HTML(value='')))"
      ]
     },
     "metadata": {},
     "output_type": "display_data"
    },
    {
     "data": {
      "application/vnd.jupyter.widget-view+json": {
       "model_id": "9563ad8dd6804f9d8c9fbc00580cdb45",
       "version_major": 2,
       "version_minor": 0
      },
      "text/plain": [
       "HBox(children=(IntProgress(value=0, max=20), HTML(value='')))"
      ]
     },
     "metadata": {},
     "output_type": "display_data"
    },
    {
     "name": "stdout",
     "output_type": "stream",
     "text": [
      "{'accuracy': 0.6072555205047319, 'roc_auc': 0.6889841588373012, 'pr_auc': 0.1560773967345322}\n"
     ]
    },
    {
     "data": {
      "text/html": [
       "<div>\n",
       "<style scoped>\n",
       "    .dataframe tbody tr th:only-of-type {\n",
       "        vertical-align: middle;\n",
       "    }\n",
       "\n",
       "    .dataframe tbody tr th {\n",
       "        vertical-align: top;\n",
       "    }\n",
       "\n",
       "    .dataframe thead th {\n",
       "        text-align: right;\n",
       "    }\n",
       "</style>\n",
       "<table border=\"1\" class=\"dataframe\">\n",
       "  <thead>\n",
       "    <tr style=\"text-align: right;\">\n",
       "      <th></th>\n",
       "      <th>0.0</th>\n",
       "      <th>1.0</th>\n",
       "      <th>micro avg</th>\n",
       "      <th>macro avg</th>\n",
       "      <th>weighted avg</th>\n",
       "    </tr>\n",
       "  </thead>\n",
       "  <tbody>\n",
       "    <tr>\n",
       "      <th>f1-score</th>\n",
       "      <td>0.736</td>\n",
       "      <td>0.234</td>\n",
       "      <td>0.607</td>\n",
       "      <td>0.485</td>\n",
       "      <td>0.691</td>\n",
       "    </tr>\n",
       "    <tr>\n",
       "      <th>precision</th>\n",
       "      <td>0.948</td>\n",
       "      <td>0.142</td>\n",
       "      <td>0.607</td>\n",
       "      <td>0.545</td>\n",
       "      <td>0.876</td>\n",
       "    </tr>\n",
       "    <tr>\n",
       "      <th>recall</th>\n",
       "      <td>0.601</td>\n",
       "      <td>0.667</td>\n",
       "      <td>0.607</td>\n",
       "      <td>0.634</td>\n",
       "      <td>0.607</td>\n",
       "    </tr>\n",
       "    <tr>\n",
       "      <th>support</th>\n",
       "      <td>577.000</td>\n",
       "      <td>57.000</td>\n",
       "      <td>634.000</td>\n",
       "      <td>634.000</td>\n",
       "      <td>634.000</td>\n",
       "    </tr>\n",
       "  </tbody>\n",
       "</table>\n",
       "</div>"
      ],
      "text/plain": [
       "               0.0     1.0  micro avg  macro avg  weighted avg\n",
       "f1-score     0.736   0.234      0.607      0.485         0.691\n",
       "precision    0.948   0.142      0.607      0.545         0.876\n",
       "recall       0.601   0.667      0.607      0.634         0.607\n",
       "support    577.000  57.000    634.000    634.000       634.000"
      ]
     },
     "metadata": {},
     "output_type": "display_data"
    },
    {
     "name": "stdout",
     "output_type": "stream",
     "text": [
      "Model not saved on  roc_auc 0.6889841588373012\n"
     ]
    },
    {
     "data": {
      "application/vnd.jupyter.widget-view+json": {
       "model_id": "d524597b4ec84c09b2ccb3acebf85427",
       "version_major": 2,
       "version_minor": 0
      },
      "text/plain": [
       "HBox(children=(IntProgress(value=0, max=47), HTML(value='')))"
      ]
     },
     "metadata": {},
     "output_type": "display_data"
    },
    {
     "data": {
      "application/vnd.jupyter.widget-view+json": {
       "model_id": "ef30f20a047c44a794ee80431d149e8f",
       "version_major": 2,
       "version_minor": 0
      },
      "text/plain": [
       "HBox(children=(IntProgress(value=0, max=20), HTML(value='')))"
      ]
     },
     "metadata": {},
     "output_type": "display_data"
    },
    {
     "name": "stdout",
     "output_type": "stream",
     "text": [
      "{'accuracy': 0.5694006309148265, 'roc_auc': 0.6524977956155553, 'pr_auc': 0.1474296935739576}\n"
     ]
    },
    {
     "data": {
      "text/html": [
       "<div>\n",
       "<style scoped>\n",
       "    .dataframe tbody tr th:only-of-type {\n",
       "        vertical-align: middle;\n",
       "    }\n",
       "\n",
       "    .dataframe tbody tr th {\n",
       "        vertical-align: top;\n",
       "    }\n",
       "\n",
       "    .dataframe thead th {\n",
       "        text-align: right;\n",
       "    }\n",
       "</style>\n",
       "<table border=\"1\" class=\"dataframe\">\n",
       "  <thead>\n",
       "    <tr style=\"text-align: right;\">\n",
       "      <th></th>\n",
       "      <th>0.0</th>\n",
       "      <th>1.0</th>\n",
       "      <th>micro avg</th>\n",
       "      <th>macro avg</th>\n",
       "      <th>weighted avg</th>\n",
       "    </tr>\n",
       "  </thead>\n",
       "  <tbody>\n",
       "    <tr>\n",
       "      <th>f1-score</th>\n",
       "      <td>0.704</td>\n",
       "      <td>0.209</td>\n",
       "      <td>0.569</td>\n",
       "      <td>0.456</td>\n",
       "      <td>0.660</td>\n",
       "    </tr>\n",
       "    <tr>\n",
       "      <th>precision</th>\n",
       "      <td>0.939</td>\n",
       "      <td>0.125</td>\n",
       "      <td>0.569</td>\n",
       "      <td>0.532</td>\n",
       "      <td>0.866</td>\n",
       "    </tr>\n",
       "    <tr>\n",
       "      <th>recall</th>\n",
       "      <td>0.563</td>\n",
       "      <td>0.632</td>\n",
       "      <td>0.569</td>\n",
       "      <td>0.597</td>\n",
       "      <td>0.569</td>\n",
       "    </tr>\n",
       "    <tr>\n",
       "      <th>support</th>\n",
       "      <td>577.000</td>\n",
       "      <td>57.000</td>\n",
       "      <td>634.000</td>\n",
       "      <td>634.000</td>\n",
       "      <td>634.000</td>\n",
       "    </tr>\n",
       "  </tbody>\n",
       "</table>\n",
       "</div>"
      ],
      "text/plain": [
       "               0.0     1.0  micro avg  macro avg  weighted avg\n",
       "f1-score     0.704   0.209      0.569      0.456         0.660\n",
       "precision    0.939   0.125      0.569      0.532         0.866\n",
       "recall       0.563   0.632      0.569      0.597         0.569\n",
       "support    577.000  57.000    634.000    634.000       634.000"
      ]
     },
     "metadata": {},
     "output_type": "display_data"
    },
    {
     "name": "stdout",
     "output_type": "stream",
     "text": [
      "Model not saved on  roc_auc 0.6524977956155553\n"
     ]
    },
    {
     "data": {
      "application/vnd.jupyter.widget-view+json": {
       "model_id": "d97207e2f1b340c5b855d652ec1de265",
       "version_major": 2,
       "version_minor": 0
      },
      "text/plain": [
       "HBox(children=(IntProgress(value=0, max=47), HTML(value='')))"
      ]
     },
     "metadata": {},
     "output_type": "display_data"
    },
    {
     "data": {
      "application/vnd.jupyter.widget-view+json": {
       "model_id": "64bc015ce37942a48c7224dd5174e6de",
       "version_major": 2,
       "version_minor": 0
      },
      "text/plain": [
       "HBox(children=(IntProgress(value=0, max=20), HTML(value='')))"
      ]
     },
     "metadata": {},
     "output_type": "display_data"
    },
    {
     "name": "stdout",
     "output_type": "stream",
     "text": [
      "{'accuracy': 0.6167192429022083, 'roc_auc': 0.623247894432789, 'pr_auc': 0.12586944845304782}\n"
     ]
    },
    {
     "data": {
      "text/html": [
       "<div>\n",
       "<style scoped>\n",
       "    .dataframe tbody tr th:only-of-type {\n",
       "        vertical-align: middle;\n",
       "    }\n",
       "\n",
       "    .dataframe tbody tr th {\n",
       "        vertical-align: top;\n",
       "    }\n",
       "\n",
       "    .dataframe thead th {\n",
       "        text-align: right;\n",
       "    }\n",
       "</style>\n",
       "<table border=\"1\" class=\"dataframe\">\n",
       "  <thead>\n",
       "    <tr style=\"text-align: right;\">\n",
       "      <th></th>\n",
       "      <th>0.0</th>\n",
       "      <th>1.0</th>\n",
       "      <th>micro avg</th>\n",
       "      <th>macro avg</th>\n",
       "      <th>weighted avg</th>\n",
       "    </tr>\n",
       "  </thead>\n",
       "  <tbody>\n",
       "    <tr>\n",
       "      <th>f1-score</th>\n",
       "      <td>0.748</td>\n",
       "      <td>0.203</td>\n",
       "      <td>0.617</td>\n",
       "      <td>0.475</td>\n",
       "      <td>0.699</td>\n",
       "    </tr>\n",
       "    <tr>\n",
       "      <th>precision</th>\n",
       "      <td>0.933</td>\n",
       "      <td>0.125</td>\n",
       "      <td>0.617</td>\n",
       "      <td>0.529</td>\n",
       "      <td>0.860</td>\n",
       "    </tr>\n",
       "    <tr>\n",
       "      <th>recall</th>\n",
       "      <td>0.624</td>\n",
       "      <td>0.544</td>\n",
       "      <td>0.617</td>\n",
       "      <td>0.584</td>\n",
       "      <td>0.617</td>\n",
       "    </tr>\n",
       "    <tr>\n",
       "      <th>support</th>\n",
       "      <td>577.000</td>\n",
       "      <td>57.000</td>\n",
       "      <td>634.000</td>\n",
       "      <td>634.000</td>\n",
       "      <td>634.000</td>\n",
       "    </tr>\n",
       "  </tbody>\n",
       "</table>\n",
       "</div>"
      ],
      "text/plain": [
       "               0.0     1.0  micro avg  macro avg  weighted avg\n",
       "f1-score     0.748   0.203      0.617      0.475         0.699\n",
       "precision    0.933   0.125      0.617      0.529         0.860\n",
       "recall       0.624   0.544      0.617      0.584         0.617\n",
       "support    577.000  57.000    634.000    634.000       634.000"
      ]
     },
     "metadata": {},
     "output_type": "display_data"
    },
    {
     "name": "stderr",
     "output_type": "stream",
     "text": [
      "INFO - 2019-03-27 19:27:24,224 - instantiating class <class 'PatientVec.models.Model.Model'> from params {'type': 'seq_classifier', 'embedder': {'type': 'token_embedder', 'vocab_size': 19054, 'embed_size': 200, 'embedding_file': './preprocess/HipSurgery/1_yrs/embedding_matrix.npy'}, 'decoder': {'num_layers': 2, 'hidden_dims': [128, 1], 'activations': ['tanh', 'linear']}, 'predictor': {'type': 'binary'}, 'structured': {'use_structured': False}, 'encoder': {'type': 'lstm', 'hidden_size': 128}} and extras {}\n",
      "INFO - 2019-03-27 19:27:24,224 - type = seq_classifier\n",
      "INFO - 2019-03-27 19:27:24,225 - instantiating class <class 'PatientVec.models.modules.Embedder.Embedder'> from params {'type': 'token_embedder', 'vocab_size': 19054, 'embed_size': 200, 'embedding_file': './preprocess/HipSurgery/1_yrs/embedding_matrix.npy'} and extras {}\n",
      "INFO - 2019-03-27 19:27:24,226 - embedder.type = token_embedder\n",
      "INFO - 2019-03-27 19:27:24,226 - instantiating class <class 'PatientVec.models.modules.Embedder.TokenEmbedder'> from params {'vocab_size': 19054, 'embed_size': 200, 'embedding_file': './preprocess/HipSurgery/1_yrs/embedding_matrix.npy'} and extras {}\n",
      "INFO - 2019-03-27 19:27:24,227 - embedder.vocab_size = 19054\n",
      "INFO - 2019-03-27 19:27:24,228 - embedder.embed_size = 200\n",
      "INFO - 2019-03-27 19:27:24,228 - embedder.embedding_file = ./preprocess/HipSurgery/1_yrs/embedding_matrix.npy\n",
      "INFO - 2019-03-27 19:27:24,251 - instantiating class <class 'PatientVec.models.modules.Encoder.Encoder'> from params {'type': 'lstm', 'hidden_size': 128} and extras {'input_size': 200}\n",
      "INFO - 2019-03-27 19:27:24,252 - encoder.type = lstm\n",
      "INFO - 2019-03-27 19:27:24,253 - instantiating class <class 'PatientVec.models.modules.Encoder.wrap_pytorch_rnn.<locals>.BiRNNEncoder'> from params {'hidden_size': 128} and extras {'input_size': 200}\n",
      "INFO - 2019-03-27 19:27:24,253 - encoder.hidden_size = 128\n",
      "INFO - 2019-03-27 19:27:24,257 - decoder.input_dim = 256\n",
      "INFO - 2019-03-27 19:27:24,257 - decoder.num_layers = 2\n",
      "INFO - 2019-03-27 19:27:24,258 - decoder.hidden_dims = [128, 1]\n",
      "INFO - 2019-03-27 19:27:24,258 - decoder.activations = ['tanh', 'linear']\n",
      "INFO - 2019-03-27 19:27:24,259 - decoder.dropout = 0.0\n",
      "INFO - 2019-03-27 19:27:24,260 - instantiating class <class 'PatientVec.models.modules.Predictor.Predictor'> from params {'type': 'binary'} and extras {}\n",
      "INFO - 2019-03-27 19:27:24,261 - predictor.type = binary\n",
      "INFO - 2019-03-27 19:27:24,262 - instantiating class <class 'PatientVec.models.modules.Predictor.Binary_Predictor'> from params {} and extras {}\n",
      "INFO - 2019-03-27 19:27:24,262 - predictor.replicate = False\n",
      "INFO - 2019-03-27 19:27:24,263 - predictor.alpha = 0.5\n"
     ]
    },
    {
     "name": "stdout",
     "output_type": "stream",
     "text": [
      "Model not saved on  roc_auc 0.623247894432789\n",
      "0.7277053118063791 deque([0.6889841588373012, 0.6524977956155553, 0.623247894432789], maxlen=3)\n",
      "\n",
      "Setting Embedding\n"
     ]
    },
    {
     "data": {
      "application/vnd.jupyter.widget-view+json": {
       "model_id": "591ffa2692244060a4e366da87e8de59",
       "version_major": 2,
       "version_minor": 0
      },
      "text/plain": [
       "HBox(children=(IntProgress(value=0, max=20), HTML(value='')))"
      ]
     },
     "metadata": {},
     "output_type": "display_data"
    },
    {
     "name": "stdout",
     "output_type": "stream",
     "text": [
      "\n",
      "{'accuracy': 0.807570977917981, 'roc_auc': 0.7277053118063791, 'pr_auc': 0.21407021365513454}\n"
     ]
    },
    {
     "data": {
      "text/html": [
       "<div>\n",
       "<style scoped>\n",
       "    .dataframe tbody tr th:only-of-type {\n",
       "        vertical-align: middle;\n",
       "    }\n",
       "\n",
       "    .dataframe tbody tr th {\n",
       "        vertical-align: top;\n",
       "    }\n",
       "\n",
       "    .dataframe thead th {\n",
       "        text-align: right;\n",
       "    }\n",
       "</style>\n",
       "<table border=\"1\" class=\"dataframe\">\n",
       "  <thead>\n",
       "    <tr style=\"text-align: right;\">\n",
       "      <th></th>\n",
       "      <th>0.0</th>\n",
       "      <th>1.0</th>\n",
       "      <th>micro avg</th>\n",
       "      <th>macro avg</th>\n",
       "      <th>weighted avg</th>\n",
       "    </tr>\n",
       "  </thead>\n",
       "  <tbody>\n",
       "    <tr>\n",
       "      <th>f1-score</th>\n",
       "      <td>0.889</td>\n",
       "      <td>0.265</td>\n",
       "      <td>0.808</td>\n",
       "      <td>0.577</td>\n",
       "      <td>0.833</td>\n",
       "    </tr>\n",
       "    <tr>\n",
       "      <th>precision</th>\n",
       "      <td>0.933</td>\n",
       "      <td>0.202</td>\n",
       "      <td>0.808</td>\n",
       "      <td>0.568</td>\n",
       "      <td>0.868</td>\n",
       "    </tr>\n",
       "    <tr>\n",
       "      <th>recall</th>\n",
       "      <td>0.849</td>\n",
       "      <td>0.386</td>\n",
       "      <td>0.808</td>\n",
       "      <td>0.618</td>\n",
       "      <td>0.808</td>\n",
       "    </tr>\n",
       "    <tr>\n",
       "      <th>support</th>\n",
       "      <td>577.000</td>\n",
       "      <td>57.000</td>\n",
       "      <td>634.000</td>\n",
       "      <td>634.000</td>\n",
       "      <td>634.000</td>\n",
       "    </tr>\n",
       "  </tbody>\n",
       "</table>\n",
       "</div>"
      ],
      "text/plain": [
       "               0.0     1.0  micro avg  macro avg  weighted avg\n",
       "f1-score     0.889   0.265      0.808      0.577         0.833\n",
       "precision    0.933   0.202      0.808      0.568         0.868\n",
       "recall       0.849   0.386      0.808      0.618         0.808\n",
       "support    577.000  57.000    634.000    634.000       634.000"
      ]
     },
     "metadata": {},
     "output_type": "display_data"
    },
    {
     "data": {
      "application/vnd.jupyter.widget-view+json": {
       "model_id": "45219b7de4f94f13befc6c221a47f2ea",
       "version_major": 2,
       "version_minor": 0
      },
      "text/plain": [
       "HBox(children=(IntProgress(value=0, max=20), HTML(value='')))"
      ]
     },
     "metadata": {},
     "output_type": "display_data"
    },
    {
     "name": "stdout",
     "output_type": "stream",
     "text": [
      "\n",
      "{'accuracy': 0.7797147385103012, 'roc_auc': 0.5196898227558604, 'pr_auc': 0.08361340991243592}\n"
     ]
    },
    {
     "data": {
      "text/html": [
       "<div>\n",
       "<style scoped>\n",
       "    .dataframe tbody tr th:only-of-type {\n",
       "        vertical-align: middle;\n",
       "    }\n",
       "\n",
       "    .dataframe tbody tr th {\n",
       "        vertical-align: top;\n",
       "    }\n",
       "\n",
       "    .dataframe thead th {\n",
       "        text-align: right;\n",
       "    }\n",
       "</style>\n",
       "<table border=\"1\" class=\"dataframe\">\n",
       "  <thead>\n",
       "    <tr style=\"text-align: right;\">\n",
       "      <th></th>\n",
       "      <th>0.0</th>\n",
       "      <th>1.0</th>\n",
       "      <th>micro avg</th>\n",
       "      <th>macro avg</th>\n",
       "      <th>weighted avg</th>\n",
       "    </tr>\n",
       "  </thead>\n",
       "  <tbody>\n",
       "    <tr>\n",
       "      <th>f1-score</th>\n",
       "      <td>0.874</td>\n",
       "      <td>0.115</td>\n",
       "      <td>0.78</td>\n",
       "      <td>0.494</td>\n",
       "      <td>0.816</td>\n",
       "    </tr>\n",
       "    <tr>\n",
       "      <th>precision</th>\n",
       "      <td>0.925</td>\n",
       "      <td>0.083</td>\n",
       "      <td>0.78</td>\n",
       "      <td>0.504</td>\n",
       "      <td>0.861</td>\n",
       "    </tr>\n",
       "    <tr>\n",
       "      <th>recall</th>\n",
       "      <td>0.828</td>\n",
       "      <td>0.188</td>\n",
       "      <td>0.78</td>\n",
       "      <td>0.508</td>\n",
       "      <td>0.780</td>\n",
       "    </tr>\n",
       "    <tr>\n",
       "      <th>support</th>\n",
       "      <td>583.000</td>\n",
       "      <td>48.000</td>\n",
       "      <td>631.00</td>\n",
       "      <td>631.000</td>\n",
       "      <td>631.000</td>\n",
       "    </tr>\n",
       "  </tbody>\n",
       "</table>\n",
       "</div>"
      ],
      "text/plain": [
       "               0.0     1.0  micro avg  macro avg  weighted avg\n",
       "f1-score     0.874   0.115       0.78      0.494         0.816\n",
       "precision    0.925   0.083       0.78      0.504         0.861\n",
       "recall       0.828   0.188       0.78      0.508         0.780\n",
       "support    583.000  48.000     631.00    631.000       631.000"
      ]
     },
     "metadata": {},
     "output_type": "display_data"
    },
    {
     "name": "stderr",
     "output_type": "stream",
     "text": [
      "INFO - 2019-03-27 19:27:48,857 - instantiating class <class 'PatientVec.models.Model.Model'> from params {'type': 'seq_classifier_with_attention', 'embedder': {'type': 'token_embedder', 'vocab_size': 19054, 'embed_size': 200, 'embedding_file': './preprocess/HipSurgery/1_yrs/embedding_matrix.npy'}, 'decoder': {'num_layers': 2, 'hidden_dims': [128, 1], 'activations': ['tanh', 'linear']}, 'predictor': {'type': 'binary'}, 'structured': {'use_structured': False}, 'encoder': {'type': 'lstm', 'hidden_size': 128}, 'attention': {'similarity': {'type': 'additive', 'hidden_size': 128}}} and extras {}\n",
      "INFO - 2019-03-27 19:27:48,858 - type = seq_classifier_with_attention\n",
      "INFO - 2019-03-27 19:27:48,859 - instantiating class <class 'PatientVec.models.modules.Embedder.Embedder'> from params {'type': 'token_embedder', 'vocab_size': 19054, 'embed_size': 200, 'embedding_file': './preprocess/HipSurgery/1_yrs/embedding_matrix.npy'} and extras {}\n",
      "INFO - 2019-03-27 19:27:48,859 - embedder.type = token_embedder\n",
      "INFO - 2019-03-27 19:27:48,860 - instantiating class <class 'PatientVec.models.modules.Embedder.TokenEmbedder'> from params {'vocab_size': 19054, 'embed_size': 200, 'embedding_file': './preprocess/HipSurgery/1_yrs/embedding_matrix.npy'} and extras {}\n",
      "INFO - 2019-03-27 19:27:48,861 - embedder.vocab_size = 19054\n",
      "INFO - 2019-03-27 19:27:48,861 - embedder.embed_size = 200\n",
      "INFO - 2019-03-27 19:27:48,862 - embedder.embedding_file = ./preprocess/HipSurgery/1_yrs/embedding_matrix.npy\n",
      "INFO - 2019-03-27 19:27:48,883 - instantiating class <class 'PatientVec.models.modules.Encoder.Encoder'> from params {'type': 'lstm', 'hidden_size': 128} and extras {'input_size': 200}\n",
      "INFO - 2019-03-27 19:27:48,883 - encoder.type = lstm\n",
      "INFO - 2019-03-27 19:27:48,884 - instantiating class <class 'PatientVec.models.modules.Encoder.wrap_pytorch_rnn.<locals>.BiRNNEncoder'> from params {'hidden_size': 128} and extras {'input_size': 200}\n",
      "INFO - 2019-03-27 19:27:48,885 - encoder.hidden_size = 128\n",
      "INFO - 2019-03-27 19:27:48,889 - instantiating class <class 'PatientVec.models.modules.SelfAttention.SelfAttention'> from params {'similarity': {'type': 'additive', 'hidden_size': 128, 'tensor_1_dim': 256}} and extras {}\n",
      "INFO - 2019-03-27 19:27:48,889 - instantiating class <class 'PatientVec.models.modules.UniSimilarity.UniSimilarity'> from params {'type': 'additive', 'hidden_size': 128, 'tensor_1_dim': 256} and extras {}\n",
      "INFO - 2019-03-27 19:27:48,890 - attention.similarity.type = additive\n",
      "INFO - 2019-03-27 19:27:48,890 - instantiating class <class 'PatientVec.models.modules.UniSimilarity.UniAdditiveSimilarity'> from params {'hidden_size': 128, 'tensor_1_dim': 256} and extras {}\n",
      "INFO - 2019-03-27 19:27:48,891 - attention.similarity.tensor_1_dim = 256\n",
      "INFO - 2019-03-27 19:27:48,891 - attention.similarity.hidden_size = 128\n",
      "INFO - 2019-03-27 19:27:48,892 - attention.similarity.output_size = 1\n",
      "INFO - 2019-03-27 19:27:48,894 - attention.normaliser = softmax\n",
      "INFO - 2019-03-27 19:27:48,895 - decoder.input_dim = 256\n",
      "INFO - 2019-03-27 19:27:48,895 - decoder.num_layers = 2\n",
      "INFO - 2019-03-27 19:27:48,896 - decoder.hidden_dims = [128, 1]\n",
      "INFO - 2019-03-27 19:27:48,896 - decoder.activations = ['tanh', 'linear']\n",
      "INFO - 2019-03-27 19:27:48,897 - decoder.dropout = 0.0\n",
      "INFO - 2019-03-27 19:27:48,899 - instantiating class <class 'PatientVec.models.modules.Predictor.Predictor'> from params {'type': 'binary'} and extras {}\n",
      "INFO - 2019-03-27 19:27:48,900 - predictor.type = binary\n",
      "INFO - 2019-03-27 19:27:48,900 - instantiating class <class 'PatientVec.models.modules.Predictor.Binary_Predictor'> from params {} and extras {}\n",
      "INFO - 2019-03-27 19:27:48,901 - predictor.replicate = False\n",
      "INFO - 2019-03-27 19:27:48,901 - predictor.alpha = 0.5\n"
     ]
    },
    {
     "name": "stdout",
     "output_type": "stream",
     "text": [
      "============================================================================================================================================================================================================================================================================================================\n",
      "{'model': {'type': 'seq_classifier_with_attention', 'embedder': {'type': 'token_embedder', 'vocab_size': 19054, 'embed_size': 200, 'embedding_file': './preprocess/HipSurgery/1_yrs/embedding_matrix.npy'}, 'decoder': {'num_layers': 2, 'hidden_dims': [128, 1], 'activations': ['tanh', 'linear']}, 'predictor': {'type': 'binary'}, 'structured': {'use_structured': False}, 'encoder': {'type': 'lstm', 'hidden_size': 128}, 'attention': {'similarity': {'type': 'additive', 'hidden_size': 128}}}, 'training_config': {'type': 'Adam', 'groups': [('.*', {'lr': 0.001, 'weight_decay': 1e-05})], 'common': {'bsize': 32, 'class_weight': True}}, 'exp_config': {'exp_name': 'HipSurgery_1/Attention/LSTM(hs=128)+Attention(additive)(hs=128)', 'basepath': 'outputs/ts_experiments/n=1500'}}\n",
      "Setting Embedding\n"
     ]
    },
    {
     "data": {
      "application/vnd.jupyter.widget-view+json": {
       "model_id": "b05091a717d64ea59ab71c7b7765b38c",
       "version_major": 2,
       "version_minor": 0
      },
      "text/plain": [
       "HBox(children=(IntProgress(value=0, max=8), HTML(value='')))"
      ]
     },
     "metadata": {},
     "output_type": "display_data"
    },
    {
     "data": {
      "application/vnd.jupyter.widget-view+json": {
       "model_id": "5542bea15ccd4a74bafa68f04713a110",
       "version_major": 2,
       "version_minor": 0
      },
      "text/plain": [
       "HBox(children=(IntProgress(value=0, max=47), HTML(value='')))"
      ]
     },
     "metadata": {},
     "output_type": "display_data"
    },
    {
     "data": {
      "application/vnd.jupyter.widget-view+json": {
       "model_id": "dc503d04649140399541aa70cdfa30b1",
       "version_major": 2,
       "version_minor": 0
      },
      "text/plain": [
       "HBox(children=(IntProgress(value=0, max=20), HTML(value='')))"
      ]
     },
     "metadata": {},
     "output_type": "display_data"
    },
    {
     "name": "stdout",
     "output_type": "stream",
     "text": [
      "{'accuracy': 0.9100946372239748, 'roc_auc': 0.674009547265043, 'pr_auc': 0.17256645782156685}\n"
     ]
    },
    {
     "data": {
      "text/html": [
       "<div>\n",
       "<style scoped>\n",
       "    .dataframe tbody tr th:only-of-type {\n",
       "        vertical-align: middle;\n",
       "    }\n",
       "\n",
       "    .dataframe tbody tr th {\n",
       "        vertical-align: top;\n",
       "    }\n",
       "\n",
       "    .dataframe thead th {\n",
       "        text-align: right;\n",
       "    }\n",
       "</style>\n",
       "<table border=\"1\" class=\"dataframe\">\n",
       "  <thead>\n",
       "    <tr style=\"text-align: right;\">\n",
       "      <th></th>\n",
       "      <th>0.0</th>\n",
       "      <th>1.0</th>\n",
       "      <th>micro avg</th>\n",
       "      <th>macro avg</th>\n",
       "      <th>weighted avg</th>\n",
       "    </tr>\n",
       "  </thead>\n",
       "  <tbody>\n",
       "    <tr>\n",
       "      <th>f1-score</th>\n",
       "      <td>0.953</td>\n",
       "      <td>0.0</td>\n",
       "      <td>0.91</td>\n",
       "      <td>0.476</td>\n",
       "      <td>0.867</td>\n",
       "    </tr>\n",
       "    <tr>\n",
       "      <th>precision</th>\n",
       "      <td>0.910</td>\n",
       "      <td>0.0</td>\n",
       "      <td>0.91</td>\n",
       "      <td>0.455</td>\n",
       "      <td>0.828</td>\n",
       "    </tr>\n",
       "    <tr>\n",
       "      <th>recall</th>\n",
       "      <td>1.000</td>\n",
       "      <td>0.0</td>\n",
       "      <td>0.91</td>\n",
       "      <td>0.500</td>\n",
       "      <td>0.910</td>\n",
       "    </tr>\n",
       "    <tr>\n",
       "      <th>support</th>\n",
       "      <td>577.000</td>\n",
       "      <td>57.0</td>\n",
       "      <td>634.00</td>\n",
       "      <td>634.000</td>\n",
       "      <td>634.000</td>\n",
       "    </tr>\n",
       "  </tbody>\n",
       "</table>\n",
       "</div>"
      ],
      "text/plain": [
       "               0.0   1.0  micro avg  macro avg  weighted avg\n",
       "f1-score     0.953   0.0       0.91      0.476         0.867\n",
       "precision    0.910   0.0       0.91      0.455         0.828\n",
       "recall       1.000   0.0       0.91      0.500         0.910\n",
       "support    577.000  57.0     634.00    634.000       634.000"
      ]
     },
     "metadata": {},
     "output_type": "display_data"
    },
    {
     "name": "stdout",
     "output_type": "stream",
     "text": [
      "Model Saved on  roc_auc 0.674009547265043\n"
     ]
    },
    {
     "data": {
      "application/vnd.jupyter.widget-view+json": {
       "model_id": "8ec5ad1a490b42a1a3a4aa855a7a1bbe",
       "version_major": 2,
       "version_minor": 0
      },
      "text/plain": [
       "HBox(children=(IntProgress(value=0, max=47), HTML(value='')))"
      ]
     },
     "metadata": {},
     "output_type": "display_data"
    },
    {
     "data": {
      "application/vnd.jupyter.widget-view+json": {
       "model_id": "d22e6d7f653d4ead816e21fea0a6c434",
       "version_major": 2,
       "version_minor": 0
      },
      "text/plain": [
       "HBox(children=(IntProgress(value=0, max=20), HTML(value='')))"
      ]
     },
     "metadata": {},
     "output_type": "display_data"
    },
    {
     "name": "stdout",
     "output_type": "stream",
     "text": [
      "{'accuracy': 0.9085173501577287, 'roc_auc': 0.7070905165860926, 'pr_auc': 0.20999538061372122}\n"
     ]
    },
    {
     "data": {
      "text/html": [
       "<div>\n",
       "<style scoped>\n",
       "    .dataframe tbody tr th:only-of-type {\n",
       "        vertical-align: middle;\n",
       "    }\n",
       "\n",
       "    .dataframe tbody tr th {\n",
       "        vertical-align: top;\n",
       "    }\n",
       "\n",
       "    .dataframe thead th {\n",
       "        text-align: right;\n",
       "    }\n",
       "</style>\n",
       "<table border=\"1\" class=\"dataframe\">\n",
       "  <thead>\n",
       "    <tr style=\"text-align: right;\">\n",
       "      <th></th>\n",
       "      <th>0.0</th>\n",
       "      <th>1.0</th>\n",
       "      <th>micro avg</th>\n",
       "      <th>macro avg</th>\n",
       "      <th>weighted avg</th>\n",
       "    </tr>\n",
       "  </thead>\n",
       "  <tbody>\n",
       "    <tr>\n",
       "      <th>f1-score</th>\n",
       "      <td>0.952</td>\n",
       "      <td>0.033</td>\n",
       "      <td>0.909</td>\n",
       "      <td>0.493</td>\n",
       "      <td>0.869</td>\n",
       "    </tr>\n",
       "    <tr>\n",
       "      <th>precision</th>\n",
       "      <td>0.911</td>\n",
       "      <td>0.333</td>\n",
       "      <td>0.909</td>\n",
       "      <td>0.622</td>\n",
       "      <td>0.859</td>\n",
       "    </tr>\n",
       "    <tr>\n",
       "      <th>recall</th>\n",
       "      <td>0.997</td>\n",
       "      <td>0.018</td>\n",
       "      <td>0.909</td>\n",
       "      <td>0.507</td>\n",
       "      <td>0.909</td>\n",
       "    </tr>\n",
       "    <tr>\n",
       "      <th>support</th>\n",
       "      <td>577.000</td>\n",
       "      <td>57.000</td>\n",
       "      <td>634.000</td>\n",
       "      <td>634.000</td>\n",
       "      <td>634.000</td>\n",
       "    </tr>\n",
       "  </tbody>\n",
       "</table>\n",
       "</div>"
      ],
      "text/plain": [
       "               0.0     1.0  micro avg  macro avg  weighted avg\n",
       "f1-score     0.952   0.033      0.909      0.493         0.869\n",
       "precision    0.911   0.333      0.909      0.622         0.859\n",
       "recall       0.997   0.018      0.909      0.507         0.909\n",
       "support    577.000  57.000    634.000    634.000       634.000"
      ]
     },
     "metadata": {},
     "output_type": "display_data"
    },
    {
     "name": "stdout",
     "output_type": "stream",
     "text": [
      "Model Saved on  roc_auc 0.7070905165860926\n"
     ]
    },
    {
     "data": {
      "application/vnd.jupyter.widget-view+json": {
       "model_id": "d637ae41dcd04cbc953232c5ad246811",
       "version_major": 2,
       "version_minor": 0
      },
      "text/plain": [
       "HBox(children=(IntProgress(value=0, max=47), HTML(value='')))"
      ]
     },
     "metadata": {},
     "output_type": "display_data"
    },
    {
     "data": {
      "application/vnd.jupyter.widget-view+json": {
       "model_id": "4c4a18fadc4c47f09a889290fdc20c9b",
       "version_major": 2,
       "version_minor": 0
      },
      "text/plain": [
       "HBox(children=(IntProgress(value=0, max=20), HTML(value='')))"
      ]
     },
     "metadata": {},
     "output_type": "display_data"
    },
    {
     "name": "stdout",
     "output_type": "stream",
     "text": [
      "{'accuracy': 0.9116719242902208, 'roc_auc': 0.654641369454833, 'pr_auc': 0.21376403074375966}\n"
     ]
    },
    {
     "data": {
      "text/html": [
       "<div>\n",
       "<style scoped>\n",
       "    .dataframe tbody tr th:only-of-type {\n",
       "        vertical-align: middle;\n",
       "    }\n",
       "\n",
       "    .dataframe tbody tr th {\n",
       "        vertical-align: top;\n",
       "    }\n",
       "\n",
       "    .dataframe thead th {\n",
       "        text-align: right;\n",
       "    }\n",
       "</style>\n",
       "<table border=\"1\" class=\"dataframe\">\n",
       "  <thead>\n",
       "    <tr style=\"text-align: right;\">\n",
       "      <th></th>\n",
       "      <th>0.0</th>\n",
       "      <th>1.0</th>\n",
       "      <th>micro avg</th>\n",
       "      <th>macro avg</th>\n",
       "      <th>weighted avg</th>\n",
       "    </tr>\n",
       "  </thead>\n",
       "  <tbody>\n",
       "    <tr>\n",
       "      <th>f1-score</th>\n",
       "      <td>0.954</td>\n",
       "      <td>0.034</td>\n",
       "      <td>0.912</td>\n",
       "      <td>0.494</td>\n",
       "      <td>0.871</td>\n",
       "    </tr>\n",
       "    <tr>\n",
       "      <th>precision</th>\n",
       "      <td>0.912</td>\n",
       "      <td>1.000</td>\n",
       "      <td>0.912</td>\n",
       "      <td>0.956</td>\n",
       "      <td>0.919</td>\n",
       "    </tr>\n",
       "    <tr>\n",
       "      <th>recall</th>\n",
       "      <td>1.000</td>\n",
       "      <td>0.018</td>\n",
       "      <td>0.912</td>\n",
       "      <td>0.509</td>\n",
       "      <td>0.912</td>\n",
       "    </tr>\n",
       "    <tr>\n",
       "      <th>support</th>\n",
       "      <td>577.000</td>\n",
       "      <td>57.000</td>\n",
       "      <td>634.000</td>\n",
       "      <td>634.000</td>\n",
       "      <td>634.000</td>\n",
       "    </tr>\n",
       "  </tbody>\n",
       "</table>\n",
       "</div>"
      ],
      "text/plain": [
       "               0.0     1.0  micro avg  macro avg  weighted avg\n",
       "f1-score     0.954   0.034      0.912      0.494         0.871\n",
       "precision    0.912   1.000      0.912      0.956         0.919\n",
       "recall       1.000   0.018      0.912      0.509         0.912\n",
       "support    577.000  57.000    634.000    634.000       634.000"
      ]
     },
     "metadata": {},
     "output_type": "display_data"
    },
    {
     "name": "stdout",
     "output_type": "stream",
     "text": [
      "Model not saved on  roc_auc 0.654641369454833\n"
     ]
    },
    {
     "data": {
      "application/vnd.jupyter.widget-view+json": {
       "model_id": "17579ffaa77a494e84eab556981df897",
       "version_major": 2,
       "version_minor": 0
      },
      "text/plain": [
       "HBox(children=(IntProgress(value=0, max=47), HTML(value='')))"
      ]
     },
     "metadata": {},
     "output_type": "display_data"
    },
    {
     "data": {
      "application/vnd.jupyter.widget-view+json": {
       "model_id": "02bc66afc4fd4e568bad9b2fc5139262",
       "version_major": 2,
       "version_minor": 0
      },
      "text/plain": [
       "HBox(children=(IntProgress(value=0, max=20), HTML(value='')))"
      ]
     },
     "metadata": {},
     "output_type": "display_data"
    },
    {
     "name": "stdout",
     "output_type": "stream",
     "text": [
      "{'accuracy': 0.5126182965299685, 'roc_auc': 0.700735808324972, 'pr_auc': 0.2474687205784995}\n"
     ]
    },
    {
     "data": {
      "text/html": [
       "<div>\n",
       "<style scoped>\n",
       "    .dataframe tbody tr th:only-of-type {\n",
       "        vertical-align: middle;\n",
       "    }\n",
       "\n",
       "    .dataframe tbody tr th {\n",
       "        vertical-align: top;\n",
       "    }\n",
       "\n",
       "    .dataframe thead th {\n",
       "        text-align: right;\n",
       "    }\n",
       "</style>\n",
       "<table border=\"1\" class=\"dataframe\">\n",
       "  <thead>\n",
       "    <tr style=\"text-align: right;\">\n",
       "      <th></th>\n",
       "      <th>0.0</th>\n",
       "      <th>1.0</th>\n",
       "      <th>micro avg</th>\n",
       "      <th>macro avg</th>\n",
       "      <th>weighted avg</th>\n",
       "    </tr>\n",
       "  </thead>\n",
       "  <tbody>\n",
       "    <tr>\n",
       "      <th>f1-score</th>\n",
       "      <td>0.643</td>\n",
       "      <td>0.233</td>\n",
       "      <td>0.513</td>\n",
       "      <td>0.438</td>\n",
       "      <td>0.606</td>\n",
       "    </tr>\n",
       "    <tr>\n",
       "      <th>precision</th>\n",
       "      <td>0.965</td>\n",
       "      <td>0.136</td>\n",
       "      <td>0.513</td>\n",
       "      <td>0.551</td>\n",
       "      <td>0.891</td>\n",
       "    </tr>\n",
       "    <tr>\n",
       "      <th>recall</th>\n",
       "      <td>0.482</td>\n",
       "      <td>0.825</td>\n",
       "      <td>0.513</td>\n",
       "      <td>0.653</td>\n",
       "      <td>0.513</td>\n",
       "    </tr>\n",
       "    <tr>\n",
       "      <th>support</th>\n",
       "      <td>577.000</td>\n",
       "      <td>57.000</td>\n",
       "      <td>634.000</td>\n",
       "      <td>634.000</td>\n",
       "      <td>634.000</td>\n",
       "    </tr>\n",
       "  </tbody>\n",
       "</table>\n",
       "</div>"
      ],
      "text/plain": [
       "               0.0     1.0  micro avg  macro avg  weighted avg\n",
       "f1-score     0.643   0.233      0.513      0.438         0.606\n",
       "precision    0.965   0.136      0.513      0.551         0.891\n",
       "recall       0.482   0.825      0.513      0.653         0.513\n",
       "support    577.000  57.000    634.000    634.000       634.000"
      ]
     },
     "metadata": {},
     "output_type": "display_data"
    },
    {
     "name": "stdout",
     "output_type": "stream",
     "text": [
      "Model not saved on  roc_auc 0.700735808324972\n"
     ]
    },
    {
     "data": {
      "application/vnd.jupyter.widget-view+json": {
       "model_id": "4678108054934caabfb4a09c1eed94ac",
       "version_major": 2,
       "version_minor": 0
      },
      "text/plain": [
       "HBox(children=(IntProgress(value=0, max=47), HTML(value='')))"
      ]
     },
     "metadata": {},
     "output_type": "display_data"
    },
    {
     "data": {
      "application/vnd.jupyter.widget-view+json": {
       "model_id": "1b893e6a1be64134952246844cb12cf7",
       "version_major": 2,
       "version_minor": 0
      },
      "text/plain": [
       "HBox(children=(IntProgress(value=0, max=20), HTML(value='')))"
      ]
     },
     "metadata": {},
     "output_type": "display_data"
    },
    {
     "name": "stdout",
     "output_type": "stream",
     "text": [
      "{'accuracy': 0.8958990536277602, 'roc_auc': 0.7222019520204324, 'pr_auc': 0.2598168431865338}\n"
     ]
    },
    {
     "data": {
      "text/html": [
       "<div>\n",
       "<style scoped>\n",
       "    .dataframe tbody tr th:only-of-type {\n",
       "        vertical-align: middle;\n",
       "    }\n",
       "\n",
       "    .dataframe tbody tr th {\n",
       "        vertical-align: top;\n",
       "    }\n",
       "\n",
       "    .dataframe thead th {\n",
       "        text-align: right;\n",
       "    }\n",
       "</style>\n",
       "<table border=\"1\" class=\"dataframe\">\n",
       "  <thead>\n",
       "    <tr style=\"text-align: right;\">\n",
       "      <th></th>\n",
       "      <th>0.0</th>\n",
       "      <th>1.0</th>\n",
       "      <th>micro avg</th>\n",
       "      <th>macro avg</th>\n",
       "      <th>weighted avg</th>\n",
       "    </tr>\n",
       "  </thead>\n",
       "  <tbody>\n",
       "    <tr>\n",
       "      <th>f1-score</th>\n",
       "      <td>0.944</td>\n",
       "      <td>0.267</td>\n",
       "      <td>0.896</td>\n",
       "      <td>0.605</td>\n",
       "      <td>0.883</td>\n",
       "    </tr>\n",
       "    <tr>\n",
       "      <th>precision</th>\n",
       "      <td>0.925</td>\n",
       "      <td>0.364</td>\n",
       "      <td>0.896</td>\n",
       "      <td>0.644</td>\n",
       "      <td>0.875</td>\n",
       "    </tr>\n",
       "    <tr>\n",
       "      <th>recall</th>\n",
       "      <td>0.964</td>\n",
       "      <td>0.211</td>\n",
       "      <td>0.896</td>\n",
       "      <td>0.587</td>\n",
       "      <td>0.896</td>\n",
       "    </tr>\n",
       "    <tr>\n",
       "      <th>support</th>\n",
       "      <td>577.000</td>\n",
       "      <td>57.000</td>\n",
       "      <td>634.000</td>\n",
       "      <td>634.000</td>\n",
       "      <td>634.000</td>\n",
       "    </tr>\n",
       "  </tbody>\n",
       "</table>\n",
       "</div>"
      ],
      "text/plain": [
       "               0.0     1.0  micro avg  macro avg  weighted avg\n",
       "f1-score     0.944   0.267      0.896      0.605         0.883\n",
       "precision    0.925   0.364      0.896      0.644         0.875\n",
       "recall       0.964   0.211      0.896      0.587         0.896\n",
       "support    577.000  57.000    634.000    634.000       634.000"
      ]
     },
     "metadata": {},
     "output_type": "display_data"
    },
    {
     "name": "stdout",
     "output_type": "stream",
     "text": [
      "Model Saved on  roc_auc 0.7222019520204324\n"
     ]
    },
    {
     "data": {
      "application/vnd.jupyter.widget-view+json": {
       "model_id": "2505cfa0ba1a4b259b561072d974ff13",
       "version_major": 2,
       "version_minor": 0
      },
      "text/plain": [
       "HBox(children=(IntProgress(value=0, max=47), HTML(value='')))"
      ]
     },
     "metadata": {},
     "output_type": "display_data"
    },
    {
     "data": {
      "application/vnd.jupyter.widget-view+json": {
       "model_id": "92eb2674192445c68ab22176c542348d",
       "version_major": 2,
       "version_minor": 0
      },
      "text/plain": [
       "HBox(children=(IntProgress(value=0, max=20), HTML(value='')))"
      ]
     },
     "metadata": {},
     "output_type": "display_data"
    },
    {
     "name": "stdout",
     "output_type": "stream",
     "text": [
      "{'accuracy': 0.8138801261829653, 'roc_auc': 0.7486849706588828, 'pr_auc': 0.2487622654016472}\n"
     ]
    },
    {
     "data": {
      "text/html": [
       "<div>\n",
       "<style scoped>\n",
       "    .dataframe tbody tr th:only-of-type {\n",
       "        vertical-align: middle;\n",
       "    }\n",
       "\n",
       "    .dataframe tbody tr th {\n",
       "        vertical-align: top;\n",
       "    }\n",
       "\n",
       "    .dataframe thead th {\n",
       "        text-align: right;\n",
       "    }\n",
       "</style>\n",
       "<table border=\"1\" class=\"dataframe\">\n",
       "  <thead>\n",
       "    <tr style=\"text-align: right;\">\n",
       "      <th></th>\n",
       "      <th>0.0</th>\n",
       "      <th>1.0</th>\n",
       "      <th>micro avg</th>\n",
       "      <th>macro avg</th>\n",
       "      <th>weighted avg</th>\n",
       "    </tr>\n",
       "  </thead>\n",
       "  <tbody>\n",
       "    <tr>\n",
       "      <th>f1-score</th>\n",
       "      <td>0.893</td>\n",
       "      <td>0.280</td>\n",
       "      <td>0.814</td>\n",
       "      <td>0.587</td>\n",
       "      <td>0.838</td>\n",
       "    </tr>\n",
       "    <tr>\n",
       "      <th>precision</th>\n",
       "      <td>0.935</td>\n",
       "      <td>0.215</td>\n",
       "      <td>0.814</td>\n",
       "      <td>0.575</td>\n",
       "      <td>0.871</td>\n",
       "    </tr>\n",
       "    <tr>\n",
       "      <th>recall</th>\n",
       "      <td>0.854</td>\n",
       "      <td>0.404</td>\n",
       "      <td>0.814</td>\n",
       "      <td>0.629</td>\n",
       "      <td>0.814</td>\n",
       "    </tr>\n",
       "    <tr>\n",
       "      <th>support</th>\n",
       "      <td>577.000</td>\n",
       "      <td>57.000</td>\n",
       "      <td>634.000</td>\n",
       "      <td>634.000</td>\n",
       "      <td>634.000</td>\n",
       "    </tr>\n",
       "  </tbody>\n",
       "</table>\n",
       "</div>"
      ],
      "text/plain": [
       "               0.0     1.0  micro avg  macro avg  weighted avg\n",
       "f1-score     0.893   0.280      0.814      0.587         0.838\n",
       "precision    0.935   0.215      0.814      0.575         0.871\n",
       "recall       0.854   0.404      0.814      0.629         0.814\n",
       "support    577.000  57.000    634.000    634.000       634.000"
      ]
     },
     "metadata": {},
     "output_type": "display_data"
    },
    {
     "name": "stdout",
     "output_type": "stream",
     "text": [
      "Model Saved on  roc_auc 0.7486849706588828\n"
     ]
    },
    {
     "data": {
      "application/vnd.jupyter.widget-view+json": {
       "model_id": "d66535f3250f49b9a4d3e4c348553e93",
       "version_major": 2,
       "version_minor": 0
      },
      "text/plain": [
       "HBox(children=(IntProgress(value=0, max=47), HTML(value='')))"
      ]
     },
     "metadata": {},
     "output_type": "display_data"
    },
    {
     "data": {
      "application/vnd.jupyter.widget-view+json": {
       "model_id": "67e039aaad1a41d090f51fedd0855e67",
       "version_major": 2,
       "version_minor": 0
      },
      "text/plain": [
       "HBox(children=(IntProgress(value=0, max=20), HTML(value='')))"
      ]
     },
     "metadata": {},
     "output_type": "display_data"
    },
    {
     "name": "stdout",
     "output_type": "stream",
     "text": [
      "{'accuracy': 0.556782334384858, 'roc_auc': 0.7964212958740005, 'pr_auc': 0.2823264520611003}\n"
     ]
    },
    {
     "data": {
      "text/html": [
       "<div>\n",
       "<style scoped>\n",
       "    .dataframe tbody tr th:only-of-type {\n",
       "        vertical-align: middle;\n",
       "    }\n",
       "\n",
       "    .dataframe tbody tr th {\n",
       "        vertical-align: top;\n",
       "    }\n",
       "\n",
       "    .dataframe thead th {\n",
       "        text-align: right;\n",
       "    }\n",
       "</style>\n",
       "<table border=\"1\" class=\"dataframe\">\n",
       "  <thead>\n",
       "    <tr style=\"text-align: right;\">\n",
       "      <th></th>\n",
       "      <th>0.0</th>\n",
       "      <th>1.0</th>\n",
       "      <th>micro avg</th>\n",
       "      <th>macro avg</th>\n",
       "      <th>weighted avg</th>\n",
       "    </tr>\n",
       "  </thead>\n",
       "  <tbody>\n",
       "    <tr>\n",
       "      <th>f1-score</th>\n",
       "      <td>0.682</td>\n",
       "      <td>0.266</td>\n",
       "      <td>0.557</td>\n",
       "      <td>0.474</td>\n",
       "      <td>0.645</td>\n",
       "    </tr>\n",
       "    <tr>\n",
       "      <th>precision</th>\n",
       "      <td>0.981</td>\n",
       "      <td>0.156</td>\n",
       "      <td>0.557</td>\n",
       "      <td>0.568</td>\n",
       "      <td>0.906</td>\n",
       "    </tr>\n",
       "    <tr>\n",
       "      <th>recall</th>\n",
       "      <td>0.523</td>\n",
       "      <td>0.895</td>\n",
       "      <td>0.557</td>\n",
       "      <td>0.709</td>\n",
       "      <td>0.557</td>\n",
       "    </tr>\n",
       "    <tr>\n",
       "      <th>support</th>\n",
       "      <td>577.000</td>\n",
       "      <td>57.000</td>\n",
       "      <td>634.000</td>\n",
       "      <td>634.000</td>\n",
       "      <td>634.000</td>\n",
       "    </tr>\n",
       "  </tbody>\n",
       "</table>\n",
       "</div>"
      ],
      "text/plain": [
       "               0.0     1.0  micro avg  macro avg  weighted avg\n",
       "f1-score     0.682   0.266      0.557      0.474         0.645\n",
       "precision    0.981   0.156      0.557      0.568         0.906\n",
       "recall       0.523   0.895      0.557      0.709         0.557\n",
       "support    577.000  57.000    634.000    634.000       634.000"
      ]
     },
     "metadata": {},
     "output_type": "display_data"
    },
    {
     "name": "stdout",
     "output_type": "stream",
     "text": [
      "Model Saved on  roc_auc 0.7964212958740005\n"
     ]
    },
    {
     "data": {
      "application/vnd.jupyter.widget-view+json": {
       "model_id": "b306c3647f21431ca347403c79878fba",
       "version_major": 2,
       "version_minor": 0
      },
      "text/plain": [
       "HBox(children=(IntProgress(value=0, max=47), HTML(value='')))"
      ]
     },
     "metadata": {},
     "output_type": "display_data"
    },
    {
     "data": {
      "application/vnd.jupyter.widget-view+json": {
       "model_id": "b8cf1d0250f744e9844942eb46fd2dd8",
       "version_major": 2,
       "version_minor": 0
      },
      "text/plain": [
       "HBox(children=(IntProgress(value=0, max=20), HTML(value='')))"
      ]
     },
     "metadata": {},
     "output_type": "display_data"
    },
    {
     "name": "stdout",
     "output_type": "stream",
     "text": [
      "{'accuracy': 0.8927444794952681, 'roc_auc': 0.800343579920338, 'pr_auc': 0.3246717324364159}\n"
     ]
    },
    {
     "data": {
      "text/html": [
       "<div>\n",
       "<style scoped>\n",
       "    .dataframe tbody tr th:only-of-type {\n",
       "        vertical-align: middle;\n",
       "    }\n",
       "\n",
       "    .dataframe tbody tr th {\n",
       "        vertical-align: top;\n",
       "    }\n",
       "\n",
       "    .dataframe thead th {\n",
       "        text-align: right;\n",
       "    }\n",
       "</style>\n",
       "<table border=\"1\" class=\"dataframe\">\n",
       "  <thead>\n",
       "    <tr style=\"text-align: right;\">\n",
       "      <th></th>\n",
       "      <th>0.0</th>\n",
       "      <th>1.0</th>\n",
       "      <th>micro avg</th>\n",
       "      <th>macro avg</th>\n",
       "      <th>weighted avg</th>\n",
       "    </tr>\n",
       "  </thead>\n",
       "  <tbody>\n",
       "    <tr>\n",
       "      <th>f1-score</th>\n",
       "      <td>0.941</td>\n",
       "      <td>0.358</td>\n",
       "      <td>0.893</td>\n",
       "      <td>0.650</td>\n",
       "      <td>0.889</td>\n",
       "    </tr>\n",
       "    <tr>\n",
       "      <th>precision</th>\n",
       "      <td>0.935</td>\n",
       "      <td>0.388</td>\n",
       "      <td>0.893</td>\n",
       "      <td>0.661</td>\n",
       "      <td>0.886</td>\n",
       "    </tr>\n",
       "    <tr>\n",
       "      <th>recall</th>\n",
       "      <td>0.948</td>\n",
       "      <td>0.333</td>\n",
       "      <td>0.893</td>\n",
       "      <td>0.641</td>\n",
       "      <td>0.893</td>\n",
       "    </tr>\n",
       "    <tr>\n",
       "      <th>support</th>\n",
       "      <td>577.000</td>\n",
       "      <td>57.000</td>\n",
       "      <td>634.000</td>\n",
       "      <td>634.000</td>\n",
       "      <td>634.000</td>\n",
       "    </tr>\n",
       "  </tbody>\n",
       "</table>\n",
       "</div>"
      ],
      "text/plain": [
       "               0.0     1.0  micro avg  macro avg  weighted avg\n",
       "f1-score     0.941   0.358      0.893      0.650         0.889\n",
       "precision    0.935   0.388      0.893      0.661         0.886\n",
       "recall       0.948   0.333      0.893      0.641         0.893\n",
       "support    577.000  57.000    634.000    634.000       634.000"
      ]
     },
     "metadata": {},
     "output_type": "display_data"
    },
    {
     "name": "stdout",
     "output_type": "stream",
     "text": [
      "Model Saved on  roc_auc 0.800343579920338\n"
     ]
    },
    {
     "name": "stderr",
     "output_type": "stream",
     "text": [
      "INFO - 2019-03-27 19:33:39,174 - instantiating class <class 'PatientVec.models.Model.Model'> from params {'type': 'seq_classifier_with_attention', 'embedder': {'type': 'token_embedder', 'vocab_size': 19054, 'embed_size': 200, 'embedding_file': './preprocess/HipSurgery/1_yrs/embedding_matrix.npy'}, 'decoder': {'num_layers': 2, 'hidden_dims': [128, 1], 'activations': ['tanh', 'linear']}, 'predictor': {'type': 'binary'}, 'structured': {'use_structured': False}, 'encoder': {'type': 'lstm', 'hidden_size': 128}, 'attention': {'similarity': {'type': 'additive', 'hidden_size': 128}}} and extras {}\n",
      "INFO - 2019-03-27 19:33:39,175 - type = seq_classifier_with_attention\n",
      "INFO - 2019-03-27 19:33:39,176 - instantiating class <class 'PatientVec.models.modules.Embedder.Embedder'> from params {'type': 'token_embedder', 'vocab_size': 19054, 'embed_size': 200, 'embedding_file': './preprocess/HipSurgery/1_yrs/embedding_matrix.npy'} and extras {}\n",
      "INFO - 2019-03-27 19:33:39,176 - embedder.type = token_embedder\n",
      "INFO - 2019-03-27 19:33:39,176 - instantiating class <class 'PatientVec.models.modules.Embedder.TokenEmbedder'> from params {'vocab_size': 19054, 'embed_size': 200, 'embedding_file': './preprocess/HipSurgery/1_yrs/embedding_matrix.npy'} and extras {}\n",
      "INFO - 2019-03-27 19:33:39,177 - embedder.vocab_size = 19054\n",
      "INFO - 2019-03-27 19:33:39,177 - embedder.embed_size = 200\n",
      "INFO - 2019-03-27 19:33:39,178 - embedder.embedding_file = ./preprocess/HipSurgery/1_yrs/embedding_matrix.npy\n"
     ]
    },
    {
     "name": "stdout",
     "output_type": "stream",
     "text": [
      "\n"
     ]
    },
    {
     "name": "stderr",
     "output_type": "stream",
     "text": [
      "INFO - 2019-03-27 19:33:39,198 - instantiating class <class 'PatientVec.models.modules.Encoder.Encoder'> from params {'type': 'lstm', 'hidden_size': 128} and extras {'input_size': 200}\n",
      "INFO - 2019-03-27 19:33:39,198 - encoder.type = lstm\n",
      "INFO - 2019-03-27 19:33:39,199 - instantiating class <class 'PatientVec.models.modules.Encoder.wrap_pytorch_rnn.<locals>.BiRNNEncoder'> from params {'hidden_size': 128} and extras {'input_size': 200}\n",
      "INFO - 2019-03-27 19:33:39,199 - encoder.hidden_size = 128\n",
      "INFO - 2019-03-27 19:33:39,202 - instantiating class <class 'PatientVec.models.modules.SelfAttention.SelfAttention'> from params {'similarity': {'type': 'additive', 'hidden_size': 128, 'tensor_1_dim': 256}} and extras {}\n",
      "INFO - 2019-03-27 19:33:39,203 - instantiating class <class 'PatientVec.models.modules.UniSimilarity.UniSimilarity'> from params {'type': 'additive', 'hidden_size': 128, 'tensor_1_dim': 256} and extras {}\n",
      "INFO - 2019-03-27 19:33:39,203 - attention.similarity.type = additive\n",
      "INFO - 2019-03-27 19:33:39,204 - instantiating class <class 'PatientVec.models.modules.UniSimilarity.UniAdditiveSimilarity'> from params {'hidden_size': 128, 'tensor_1_dim': 256} and extras {}\n",
      "INFO - 2019-03-27 19:33:39,204 - attention.similarity.tensor_1_dim = 256\n",
      "INFO - 2019-03-27 19:33:39,204 - attention.similarity.hidden_size = 128\n",
      "INFO - 2019-03-27 19:33:39,205 - attention.similarity.output_size = 1\n",
      "INFO - 2019-03-27 19:33:39,206 - attention.normaliser = softmax\n",
      "INFO - 2019-03-27 19:33:39,206 - decoder.input_dim = 256\n",
      "INFO - 2019-03-27 19:33:39,206 - decoder.num_layers = 2\n",
      "INFO - 2019-03-27 19:33:39,207 - decoder.hidden_dims = [128, 1]\n",
      "INFO - 2019-03-27 19:33:39,207 - decoder.activations = ['tanh', 'linear']\n",
      "INFO - 2019-03-27 19:33:39,207 - decoder.dropout = 0.0\n",
      "INFO - 2019-03-27 19:33:39,209 - instantiating class <class 'PatientVec.models.modules.Predictor.Predictor'> from params {'type': 'binary'} and extras {}\n",
      "INFO - 2019-03-27 19:33:39,209 - predictor.type = binary\n",
      "INFO - 2019-03-27 19:33:39,209 - instantiating class <class 'PatientVec.models.modules.Predictor.Binary_Predictor'> from params {} and extras {}\n",
      "INFO - 2019-03-27 19:33:39,210 - predictor.replicate = False\n",
      "INFO - 2019-03-27 19:33:39,210 - predictor.alpha = 0.5\n"
     ]
    },
    {
     "name": "stdout",
     "output_type": "stream",
     "text": [
      "Setting Embedding\n"
     ]
    },
    {
     "data": {
      "application/vnd.jupyter.widget-view+json": {
       "model_id": "73837279285b4ae2b99e158327935f46",
       "version_major": 2,
       "version_minor": 0
      },
      "text/plain": [
       "HBox(children=(IntProgress(value=0, max=20), HTML(value='')))"
      ]
     },
     "metadata": {},
     "output_type": "display_data"
    },
    {
     "name": "stdout",
     "output_type": "stream",
     "text": [
      "\n",
      "{'accuracy': 0.8927444794952681, 'roc_auc': 0.800343579920338, 'pr_auc': 0.3246717324364159}\n"
     ]
    },
    {
     "data": {
      "text/html": [
       "<div>\n",
       "<style scoped>\n",
       "    .dataframe tbody tr th:only-of-type {\n",
       "        vertical-align: middle;\n",
       "    }\n",
       "\n",
       "    .dataframe tbody tr th {\n",
       "        vertical-align: top;\n",
       "    }\n",
       "\n",
       "    .dataframe thead th {\n",
       "        text-align: right;\n",
       "    }\n",
       "</style>\n",
       "<table border=\"1\" class=\"dataframe\">\n",
       "  <thead>\n",
       "    <tr style=\"text-align: right;\">\n",
       "      <th></th>\n",
       "      <th>0.0</th>\n",
       "      <th>1.0</th>\n",
       "      <th>micro avg</th>\n",
       "      <th>macro avg</th>\n",
       "      <th>weighted avg</th>\n",
       "    </tr>\n",
       "  </thead>\n",
       "  <tbody>\n",
       "    <tr>\n",
       "      <th>f1-score</th>\n",
       "      <td>0.941</td>\n",
       "      <td>0.358</td>\n",
       "      <td>0.893</td>\n",
       "      <td>0.650</td>\n",
       "      <td>0.889</td>\n",
       "    </tr>\n",
       "    <tr>\n",
       "      <th>precision</th>\n",
       "      <td>0.935</td>\n",
       "      <td>0.388</td>\n",
       "      <td>0.893</td>\n",
       "      <td>0.661</td>\n",
       "      <td>0.886</td>\n",
       "    </tr>\n",
       "    <tr>\n",
       "      <th>recall</th>\n",
       "      <td>0.948</td>\n",
       "      <td>0.333</td>\n",
       "      <td>0.893</td>\n",
       "      <td>0.641</td>\n",
       "      <td>0.893</td>\n",
       "    </tr>\n",
       "    <tr>\n",
       "      <th>support</th>\n",
       "      <td>577.000</td>\n",
       "      <td>57.000</td>\n",
       "      <td>634.000</td>\n",
       "      <td>634.000</td>\n",
       "      <td>634.000</td>\n",
       "    </tr>\n",
       "  </tbody>\n",
       "</table>\n",
       "</div>"
      ],
      "text/plain": [
       "               0.0     1.0  micro avg  macro avg  weighted avg\n",
       "f1-score     0.941   0.358      0.893      0.650         0.889\n",
       "precision    0.935   0.388      0.893      0.661         0.886\n",
       "recall       0.948   0.333      0.893      0.641         0.893\n",
       "support    577.000  57.000    634.000    634.000       634.000"
      ]
     },
     "metadata": {},
     "output_type": "display_data"
    },
    {
     "data": {
      "application/vnd.jupyter.widget-view+json": {
       "model_id": "d8bc7f09831342cfb9e992fee9a1d1d8",
       "version_major": 2,
       "version_minor": 0
      },
      "text/plain": [
       "HBox(children=(IntProgress(value=0, max=20), HTML(value='')))"
      ]
     },
     "metadata": {},
     "output_type": "display_data"
    },
    {
     "name": "stdout",
     "output_type": "stream",
     "text": [
      "\n",
      "{'accuracy': 0.8890649762282092, 'roc_auc': 0.808301172098342, 'pr_auc': 0.24109803962763837}\n"
     ]
    },
    {
     "data": {
      "text/html": [
       "<div>\n",
       "<style scoped>\n",
       "    .dataframe tbody tr th:only-of-type {\n",
       "        vertical-align: middle;\n",
       "    }\n",
       "\n",
       "    .dataframe tbody tr th {\n",
       "        vertical-align: top;\n",
       "    }\n",
       "\n",
       "    .dataframe thead th {\n",
       "        text-align: right;\n",
       "    }\n",
       "</style>\n",
       "<table border=\"1\" class=\"dataframe\">\n",
       "  <thead>\n",
       "    <tr style=\"text-align: right;\">\n",
       "      <th></th>\n",
       "      <th>0.0</th>\n",
       "      <th>1.0</th>\n",
       "      <th>micro avg</th>\n",
       "      <th>macro avg</th>\n",
       "      <th>weighted avg</th>\n",
       "    </tr>\n",
       "  </thead>\n",
       "  <tbody>\n",
       "    <tr>\n",
       "      <th>f1-score</th>\n",
       "      <td>0.940</td>\n",
       "      <td>0.300</td>\n",
       "      <td>0.889</td>\n",
       "      <td>0.620</td>\n",
       "      <td>0.891</td>\n",
       "    </tr>\n",
       "    <tr>\n",
       "      <th>precision</th>\n",
       "      <td>0.943</td>\n",
       "      <td>0.288</td>\n",
       "      <td>0.889</td>\n",
       "      <td>0.616</td>\n",
       "      <td>0.893</td>\n",
       "    </tr>\n",
       "    <tr>\n",
       "      <th>recall</th>\n",
       "      <td>0.937</td>\n",
       "      <td>0.312</td>\n",
       "      <td>0.889</td>\n",
       "      <td>0.625</td>\n",
       "      <td>0.889</td>\n",
       "    </tr>\n",
       "    <tr>\n",
       "      <th>support</th>\n",
       "      <td>583.000</td>\n",
       "      <td>48.000</td>\n",
       "      <td>631.000</td>\n",
       "      <td>631.000</td>\n",
       "      <td>631.000</td>\n",
       "    </tr>\n",
       "  </tbody>\n",
       "</table>\n",
       "</div>"
      ],
      "text/plain": [
       "               0.0     1.0  micro avg  macro avg  weighted avg\n",
       "f1-score     0.940   0.300      0.889      0.620         0.891\n",
       "precision    0.943   0.288      0.889      0.616         0.893\n",
       "recall       0.937   0.312      0.889      0.625         0.889\n",
       "support    583.000  48.000    631.000    631.000       631.000"
      ]
     },
     "metadata": {},
     "output_type": "display_data"
    },
    {
     "name": "stdout",
     "output_type": "stream",
     "text": [
      "============================================================================================================================================================================================================================================================================================================\n"
     ]
    },
    {
     "name": "stderr",
     "output_type": "stream",
     "text": [
      "INFO - 2019-03-27 19:34:03,974 - Reading Structured data ...\n",
      "INFO - 2019-03-27 19:34:04,124 - Reading Notes ...\n",
      "INFO - 2019-03-27 19:34:05,164 - Stratifying ...\n"
     ]
    },
    {
     "name": "stdout",
     "output_type": "stream",
     "text": [
      "Pos Percentage [0.10839746]\n"
     ]
    },
    {
     "name": "stderr",
     "output_type": "stream",
     "text": [
      "INFO - 2019-03-27 19:34:05,786 - Maximum Sentence Length 585530.000000 , 90 percentile length 22037.000000 ... \n",
      "INFO - 2019-03-27 19:34:06,585 - Truncated all ...\n",
      "INFO - 2019-03-27 19:34:06,590 - Idxs removed []...\n",
      "INFO - 2019-03-27 19:34:06,735 - Maximum Sentence Length 65362.000000 , 90 percentile length 18471.000000 ... \n"
     ]
    },
    {
     "name": "stdout",
     "output_type": "stream",
     "text": [
      "Pos Percentage [0.08990536]\n"
     ]
    },
    {
     "name": "stderr",
     "output_type": "stream",
     "text": [
      "INFO - 2019-03-27 19:34:06,926 - Truncated all ...\n",
      "INFO - 2019-03-27 19:34:06,928 - Idxs removed []...\n",
      "INFO - 2019-03-27 19:34:07,030 - Maximum Sentence Length 109694.000000 , 90 percentile length 19819.000000 ... \n"
     ]
    },
    {
     "name": "stdout",
     "output_type": "stream",
     "text": [
      "Pos Percentage [0.07606973]\n"
     ]
    },
    {
     "name": "stderr",
     "output_type": "stream",
     "text": [
      "INFO - 2019-03-27 19:34:07,716 - Truncated all ...\n",
      "INFO - 2019-03-27 19:34:07,718 - Idxs removed []...\n",
      "INFO - 2019-03-27 19:34:07,777 - instantiating class <class 'PatientVec.models.Model.Model'> from params {'type': 'seq_classifier', 'embedder': {'type': 'token_embedder', 'vocab_size': 19054, 'embed_size': 200, 'embedding_file': './preprocess/HipSurgery/1_yrs/embedding_matrix.npy'}, 'decoder': {'num_layers': 2, 'hidden_dims': [128, 1], 'activations': ['tanh', 'linear']}, 'predictor': {'type': 'binary'}, 'structured': {'use_structured': False}, 'encoder': {'type': 'average', 'projection': True, 'hidden_size': 256, 'activation': 'relu'}} and extras {}\n",
      "INFO - 2019-03-27 19:34:07,778 - type = seq_classifier\n",
      "INFO - 2019-03-27 19:34:07,778 - instantiating class <class 'PatientVec.models.modules.Embedder.Embedder'> from params {'type': 'token_embedder', 'vocab_size': 19054, 'embed_size': 200, 'embedding_file': './preprocess/HipSurgery/1_yrs/embedding_matrix.npy'} and extras {}\n",
      "INFO - 2019-03-27 19:34:07,779 - embedder.type = token_embedder\n",
      "INFO - 2019-03-27 19:34:07,780 - instantiating class <class 'PatientVec.models.modules.Embedder.TokenEmbedder'> from params {'vocab_size': 19054, 'embed_size': 200, 'embedding_file': './preprocess/HipSurgery/1_yrs/embedding_matrix.npy'} and extras {}\n",
      "INFO - 2019-03-27 19:34:07,780 - embedder.vocab_size = 19054\n",
      "INFO - 2019-03-27 19:34:07,781 - embedder.embed_size = 200\n",
      "INFO - 2019-03-27 19:34:07,781 - embedder.embedding_file = ./preprocess/HipSurgery/1_yrs/embedding_matrix.npy\n",
      "INFO - 2019-03-27 19:34:07,798 - instantiating class <class 'PatientVec.models.modules.Encoder.Encoder'> from params {'type': 'average', 'projection': True, 'hidden_size': 256, 'activation': 'relu'} and extras {'input_size': 200}\n",
      "INFO - 2019-03-27 19:34:07,799 - encoder.type = average\n",
      "INFO - 2019-03-27 19:34:07,800 - instantiating class <class 'PatientVec.models.modules.Encoder.AverageEncoder'> from params {'projection': True, 'hidden_size': 256, 'activation': 'relu'} and extras {'input_size': 200}\n",
      "INFO - 2019-03-27 19:34:07,800 - encoder.projection = True\n",
      "INFO - 2019-03-27 19:34:07,801 - encoder.hidden_size = 256\n",
      "INFO - 2019-03-27 19:34:07,801 - encoder.activation = relu\n",
      "INFO - 2019-03-27 19:34:07,803 - decoder.input_dim = 256\n",
      "INFO - 2019-03-27 19:34:07,804 - decoder.num_layers = 2\n",
      "INFO - 2019-03-27 19:34:07,804 - decoder.hidden_dims = [128, 1]\n",
      "INFO - 2019-03-27 19:34:07,805 - decoder.activations = ['tanh', 'linear']\n",
      "INFO - 2019-03-27 19:34:07,805 - decoder.dropout = 0.0\n",
      "INFO - 2019-03-27 19:34:07,809 - instantiating class <class 'PatientVec.models.modules.Predictor.Predictor'> from params {'type': 'binary'} and extras {}\n",
      "INFO - 2019-03-27 19:34:07,810 - predictor.type = binary\n",
      "INFO - 2019-03-27 19:34:07,811 - instantiating class <class 'PatientVec.models.modules.Predictor.Binary_Predictor'> from params {} and extras {}\n",
      "INFO - 2019-03-27 19:34:07,811 - predictor.replicate = False\n",
      "INFO - 2019-03-27 19:34:07,811 - predictor.alpha = 0.5\n"
     ]
    },
    {
     "name": "stdout",
     "output_type": "stream",
     "text": [
      "{'model': {'type': 'seq_classifier', 'embedder': {'type': 'token_embedder', 'vocab_size': 19054, 'embed_size': 200, 'embedding_file': './preprocess/HipSurgery/1_yrs/embedding_matrix.npy'}, 'decoder': {'num_layers': 2, 'hidden_dims': [128, 1], 'activations': ['tanh', 'linear']}, 'predictor': {'type': 'binary'}, 'structured': {'use_structured': False}, 'encoder': {'type': 'average', 'projection': True, 'hidden_size': 256, 'activation': 'relu'}}, 'training_config': {'type': 'Adam', 'groups': [('.*', {'lr': 0.001, 'weight_decay': 1e-05})], 'common': {'bsize': 32, 'class_weight': True}}, 'exp_config': {'exp_name': 'HipSurgery_1/Basic/Average(hs=256)', 'basepath': 'outputs/ts_experiments/n=2000'}}\n",
      "Setting Embedding\n"
     ]
    },
    {
     "data": {
      "application/vnd.jupyter.widget-view+json": {
       "model_id": "ab421c8d2ea8461bb7277704ea8a7f5d",
       "version_major": 2,
       "version_minor": 0
      },
      "text/plain": [
       "HBox(children=(IntProgress(value=0, max=8), HTML(value='')))"
      ]
     },
     "metadata": {},
     "output_type": "display_data"
    },
    {
     "data": {
      "application/vnd.jupyter.widget-view+json": {
       "model_id": "50beadec20bc452880708a815e4d0378",
       "version_major": 2,
       "version_minor": 0
      },
      "text/plain": [
       "HBox(children=(IntProgress(value=0, max=63), HTML(value='')))"
      ]
     },
     "metadata": {},
     "output_type": "display_data"
    },
    {
     "data": {
      "application/vnd.jupyter.widget-view+json": {
       "model_id": "570904edf8cf4679b3fb1d98c8f4da6c",
       "version_major": 2,
       "version_minor": 0
      },
      "text/plain": [
       "HBox(children=(IntProgress(value=0, max=20), HTML(value='')))"
      ]
     },
     "metadata": {},
     "output_type": "display_data"
    },
    {
     "name": "stdout",
     "output_type": "stream",
     "text": [
      "{'accuracy': 0.9100946372239748, 'roc_auc': 0.5545775183191949, 'pr_auc': 0.14753417366995486}\n"
     ]
    },
    {
     "data": {
      "text/html": [
       "<div>\n",
       "<style scoped>\n",
       "    .dataframe tbody tr th:only-of-type {\n",
       "        vertical-align: middle;\n",
       "    }\n",
       "\n",
       "    .dataframe tbody tr th {\n",
       "        vertical-align: top;\n",
       "    }\n",
       "\n",
       "    .dataframe thead th {\n",
       "        text-align: right;\n",
       "    }\n",
       "</style>\n",
       "<table border=\"1\" class=\"dataframe\">\n",
       "  <thead>\n",
       "    <tr style=\"text-align: right;\">\n",
       "      <th></th>\n",
       "      <th>0.0</th>\n",
       "      <th>1.0</th>\n",
       "      <th>micro avg</th>\n",
       "      <th>macro avg</th>\n",
       "      <th>weighted avg</th>\n",
       "    </tr>\n",
       "  </thead>\n",
       "  <tbody>\n",
       "    <tr>\n",
       "      <th>f1-score</th>\n",
       "      <td>0.953</td>\n",
       "      <td>0.0</td>\n",
       "      <td>0.91</td>\n",
       "      <td>0.476</td>\n",
       "      <td>0.867</td>\n",
       "    </tr>\n",
       "    <tr>\n",
       "      <th>precision</th>\n",
       "      <td>0.910</td>\n",
       "      <td>0.0</td>\n",
       "      <td>0.91</td>\n",
       "      <td>0.455</td>\n",
       "      <td>0.828</td>\n",
       "    </tr>\n",
       "    <tr>\n",
       "      <th>recall</th>\n",
       "      <td>1.000</td>\n",
       "      <td>0.0</td>\n",
       "      <td>0.91</td>\n",
       "      <td>0.500</td>\n",
       "      <td>0.910</td>\n",
       "    </tr>\n",
       "    <tr>\n",
       "      <th>support</th>\n",
       "      <td>577.000</td>\n",
       "      <td>57.0</td>\n",
       "      <td>634.00</td>\n",
       "      <td>634.000</td>\n",
       "      <td>634.000</td>\n",
       "    </tr>\n",
       "  </tbody>\n",
       "</table>\n",
       "</div>"
      ],
      "text/plain": [
       "               0.0   1.0  micro avg  macro avg  weighted avg\n",
       "f1-score     0.953   0.0       0.91      0.476         0.867\n",
       "precision    0.910   0.0       0.91      0.455         0.828\n",
       "recall       1.000   0.0       0.91      0.500         0.910\n",
       "support    577.000  57.0     634.00    634.000       634.000"
      ]
     },
     "metadata": {},
     "output_type": "display_data"
    },
    {
     "name": "stdout",
     "output_type": "stream",
     "text": [
      "Model Saved on  roc_auc 0.5545775183191949\n"
     ]
    },
    {
     "data": {
      "application/vnd.jupyter.widget-view+json": {
       "model_id": "1fc68ffa37494e8faed1884bfe046d43",
       "version_major": 2,
       "version_minor": 0
      },
      "text/plain": [
       "HBox(children=(IntProgress(value=0, max=63), HTML(value='')))"
      ]
     },
     "metadata": {},
     "output_type": "display_data"
    },
    {
     "data": {
      "application/vnd.jupyter.widget-view+json": {
       "model_id": "40dd68c1377342a3b9f542cec9187c76",
       "version_major": 2,
       "version_minor": 0
      },
      "text/plain": [
       "HBox(children=(IntProgress(value=0, max=20), HTML(value='')))"
      ]
     },
     "metadata": {},
     "output_type": "display_data"
    },
    {
     "name": "stdout",
     "output_type": "stream",
     "text": [
      "{'accuracy': 0.4353312302839117, 'roc_auc': 0.7218218857368724, 'pr_auc': 0.2372028430482201}\n"
     ]
    },
    {
     "data": {
      "text/html": [
       "<div>\n",
       "<style scoped>\n",
       "    .dataframe tbody tr th:only-of-type {\n",
       "        vertical-align: middle;\n",
       "    }\n",
       "\n",
       "    .dataframe tbody tr th {\n",
       "        vertical-align: top;\n",
       "    }\n",
       "\n",
       "    .dataframe thead th {\n",
       "        text-align: right;\n",
       "    }\n",
       "</style>\n",
       "<table border=\"1\" class=\"dataframe\">\n",
       "  <thead>\n",
       "    <tr style=\"text-align: right;\">\n",
       "      <th></th>\n",
       "      <th>0.0</th>\n",
       "      <th>1.0</th>\n",
       "      <th>micro avg</th>\n",
       "      <th>macro avg</th>\n",
       "      <th>weighted avg</th>\n",
       "    </tr>\n",
       "  </thead>\n",
       "  <tbody>\n",
       "    <tr>\n",
       "      <th>f1-score</th>\n",
       "      <td>0.559</td>\n",
       "      <td>0.215</td>\n",
       "      <td>0.435</td>\n",
       "      <td>0.387</td>\n",
       "      <td>0.528</td>\n",
       "    </tr>\n",
       "    <tr>\n",
       "      <th>precision</th>\n",
       "      <td>0.966</td>\n",
       "      <td>0.123</td>\n",
       "      <td>0.435</td>\n",
       "      <td>0.544</td>\n",
       "      <td>0.890</td>\n",
       "    </tr>\n",
       "    <tr>\n",
       "      <th>recall</th>\n",
       "      <td>0.393</td>\n",
       "      <td>0.860</td>\n",
       "      <td>0.435</td>\n",
       "      <td>0.627</td>\n",
       "      <td>0.435</td>\n",
       "    </tr>\n",
       "    <tr>\n",
       "      <th>support</th>\n",
       "      <td>577.000</td>\n",
       "      <td>57.000</td>\n",
       "      <td>634.000</td>\n",
       "      <td>634.000</td>\n",
       "      <td>634.000</td>\n",
       "    </tr>\n",
       "  </tbody>\n",
       "</table>\n",
       "</div>"
      ],
      "text/plain": [
       "               0.0     1.0  micro avg  macro avg  weighted avg\n",
       "f1-score     0.559   0.215      0.435      0.387         0.528\n",
       "precision    0.966   0.123      0.435      0.544         0.890\n",
       "recall       0.393   0.860      0.435      0.627         0.435\n",
       "support    577.000  57.000    634.000    634.000       634.000"
      ]
     },
     "metadata": {},
     "output_type": "display_data"
    },
    {
     "name": "stdout",
     "output_type": "stream",
     "text": [
      "Model Saved on  roc_auc 0.7218218857368724\n"
     ]
    },
    {
     "data": {
      "application/vnd.jupyter.widget-view+json": {
       "model_id": "543e956fc10b4e47b2ffbc02d87d0daa",
       "version_major": 2,
       "version_minor": 0
      },
      "text/plain": [
       "HBox(children=(IntProgress(value=0, max=63), HTML(value='')))"
      ]
     },
     "metadata": {},
     "output_type": "display_data"
    },
    {
     "data": {
      "application/vnd.jupyter.widget-view+json": {
       "model_id": "737bf2433a564cb79f25d1dbca4e5ad8",
       "version_major": 2,
       "version_minor": 0
      },
      "text/plain": [
       "HBox(children=(IntProgress(value=0, max=20), HTML(value='')))"
      ]
     },
     "metadata": {},
     "output_type": "display_data"
    },
    {
     "name": "stdout",
     "output_type": "stream",
     "text": [
      "{'accuracy': 0.6656151419558359, 'roc_auc': 0.7591748000851348, 'pr_auc': 0.278602151413511}\n"
     ]
    },
    {
     "data": {
      "text/html": [
       "<div>\n",
       "<style scoped>\n",
       "    .dataframe tbody tr th:only-of-type {\n",
       "        vertical-align: middle;\n",
       "    }\n",
       "\n",
       "    .dataframe tbody tr th {\n",
       "        vertical-align: top;\n",
       "    }\n",
       "\n",
       "    .dataframe thead th {\n",
       "        text-align: right;\n",
       "    }\n",
       "</style>\n",
       "<table border=\"1\" class=\"dataframe\">\n",
       "  <thead>\n",
       "    <tr style=\"text-align: right;\">\n",
       "      <th></th>\n",
       "      <th>0.0</th>\n",
       "      <th>1.0</th>\n",
       "      <th>micro avg</th>\n",
       "      <th>macro avg</th>\n",
       "      <th>weighted avg</th>\n",
       "    </tr>\n",
       "  </thead>\n",
       "  <tbody>\n",
       "    <tr>\n",
       "      <th>f1-score</th>\n",
       "      <td>0.782</td>\n",
       "      <td>0.279</td>\n",
       "      <td>0.666</td>\n",
       "      <td>0.531</td>\n",
       "      <td>0.737</td>\n",
       "    </tr>\n",
       "    <tr>\n",
       "      <th>precision</th>\n",
       "      <td>0.960</td>\n",
       "      <td>0.173</td>\n",
       "      <td>0.666</td>\n",
       "      <td>0.566</td>\n",
       "      <td>0.889</td>\n",
       "    </tr>\n",
       "    <tr>\n",
       "      <th>recall</th>\n",
       "      <td>0.660</td>\n",
       "      <td>0.719</td>\n",
       "      <td>0.666</td>\n",
       "      <td>0.690</td>\n",
       "      <td>0.666</td>\n",
       "    </tr>\n",
       "    <tr>\n",
       "      <th>support</th>\n",
       "      <td>577.000</td>\n",
       "      <td>57.000</td>\n",
       "      <td>634.000</td>\n",
       "      <td>634.000</td>\n",
       "      <td>634.000</td>\n",
       "    </tr>\n",
       "  </tbody>\n",
       "</table>\n",
       "</div>"
      ],
      "text/plain": [
       "               0.0     1.0  micro avg  macro avg  weighted avg\n",
       "f1-score     0.782   0.279      0.666      0.531         0.737\n",
       "precision    0.960   0.173      0.666      0.566         0.889\n",
       "recall       0.660   0.719      0.666      0.690         0.666\n",
       "support    577.000  57.000    634.000    634.000       634.000"
      ]
     },
     "metadata": {},
     "output_type": "display_data"
    },
    {
     "name": "stdout",
     "output_type": "stream",
     "text": [
      "Model Saved on  roc_auc 0.7591748000851348\n"
     ]
    },
    {
     "data": {
      "application/vnd.jupyter.widget-view+json": {
       "model_id": "9ec5eca5c6d4473a8fb603ce361b8e56",
       "version_major": 2,
       "version_minor": 0
      },
      "text/plain": [
       "HBox(children=(IntProgress(value=0, max=63), HTML(value='')))"
      ]
     },
     "metadata": {},
     "output_type": "display_data"
    },
    {
     "data": {
      "application/vnd.jupyter.widget-view+json": {
       "model_id": "6e64b72dbff2415591ee2865b14276c6",
       "version_major": 2,
       "version_minor": 0
      },
      "text/plain": [
       "HBox(children=(IntProgress(value=0, max=20), HTML(value='')))"
      ]
     },
     "metadata": {},
     "output_type": "display_data"
    },
    {
     "name": "stdout",
     "output_type": "stream",
     "text": [
      "{'accuracy': 0.8738170347003155, 'roc_auc': 0.7760801483778771, 'pr_auc': 0.3242862346289613}\n"
     ]
    },
    {
     "data": {
      "text/html": [
       "<div>\n",
       "<style scoped>\n",
       "    .dataframe tbody tr th:only-of-type {\n",
       "        vertical-align: middle;\n",
       "    }\n",
       "\n",
       "    .dataframe tbody tr th {\n",
       "        vertical-align: top;\n",
       "    }\n",
       "\n",
       "    .dataframe thead th {\n",
       "        text-align: right;\n",
       "    }\n",
       "</style>\n",
       "<table border=\"1\" class=\"dataframe\">\n",
       "  <thead>\n",
       "    <tr style=\"text-align: right;\">\n",
       "      <th></th>\n",
       "      <th>0.0</th>\n",
       "      <th>1.0</th>\n",
       "      <th>micro avg</th>\n",
       "      <th>macro avg</th>\n",
       "      <th>weighted avg</th>\n",
       "    </tr>\n",
       "  </thead>\n",
       "  <tbody>\n",
       "    <tr>\n",
       "      <th>f1-score</th>\n",
       "      <td>0.930</td>\n",
       "      <td>0.375</td>\n",
       "      <td>0.874</td>\n",
       "      <td>0.652</td>\n",
       "      <td>0.880</td>\n",
       "    </tr>\n",
       "    <tr>\n",
       "      <th>precision</th>\n",
       "      <td>0.941</td>\n",
       "      <td>0.338</td>\n",
       "      <td>0.874</td>\n",
       "      <td>0.640</td>\n",
       "      <td>0.887</td>\n",
       "    </tr>\n",
       "    <tr>\n",
       "      <th>recall</th>\n",
       "      <td>0.919</td>\n",
       "      <td>0.421</td>\n",
       "      <td>0.874</td>\n",
       "      <td>0.670</td>\n",
       "      <td>0.874</td>\n",
       "    </tr>\n",
       "    <tr>\n",
       "      <th>support</th>\n",
       "      <td>577.000</td>\n",
       "      <td>57.000</td>\n",
       "      <td>634.000</td>\n",
       "      <td>634.000</td>\n",
       "      <td>634.000</td>\n",
       "    </tr>\n",
       "  </tbody>\n",
       "</table>\n",
       "</div>"
      ],
      "text/plain": [
       "               0.0     1.0  micro avg  macro avg  weighted avg\n",
       "f1-score     0.930   0.375      0.874      0.652         0.880\n",
       "precision    0.941   0.338      0.874      0.640         0.887\n",
       "recall       0.919   0.421      0.874      0.670         0.874\n",
       "support    577.000  57.000    634.000    634.000       634.000"
      ]
     },
     "metadata": {},
     "output_type": "display_data"
    },
    {
     "name": "stdout",
     "output_type": "stream",
     "text": [
      "Model Saved on  roc_auc 0.7760801483778771\n"
     ]
    },
    {
     "data": {
      "application/vnd.jupyter.widget-view+json": {
       "model_id": "a27a0de2da20465094b273e484aecad4",
       "version_major": 2,
       "version_minor": 0
      },
      "text/plain": [
       "HBox(children=(IntProgress(value=0, max=63), HTML(value='')))"
      ]
     },
     "metadata": {},
     "output_type": "display_data"
    },
    {
     "data": {
      "application/vnd.jupyter.widget-view+json": {
       "model_id": "5be54d33ea024c33864d32d38da2a508",
       "version_major": 2,
       "version_minor": 0
      },
      "text/plain": [
       "HBox(children=(IntProgress(value=0, max=20), HTML(value='')))"
      ]
     },
     "metadata": {},
     "output_type": "display_data"
    },
    {
     "name": "stdout",
     "output_type": "stream",
     "text": [
      "{'accuracy': 0.8422712933753943, 'roc_auc': 0.7933807656055216, 'pr_auc': 0.3390486211437899}\n"
     ]
    },
    {
     "data": {
      "text/html": [
       "<div>\n",
       "<style scoped>\n",
       "    .dataframe tbody tr th:only-of-type {\n",
       "        vertical-align: middle;\n",
       "    }\n",
       "\n",
       "    .dataframe tbody tr th {\n",
       "        vertical-align: top;\n",
       "    }\n",
       "\n",
       "    .dataframe thead th {\n",
       "        text-align: right;\n",
       "    }\n",
       "</style>\n",
       "<table border=\"1\" class=\"dataframe\">\n",
       "  <thead>\n",
       "    <tr style=\"text-align: right;\">\n",
       "      <th></th>\n",
       "      <th>0.0</th>\n",
       "      <th>1.0</th>\n",
       "      <th>micro avg</th>\n",
       "      <th>macro avg</th>\n",
       "      <th>weighted avg</th>\n",
       "    </tr>\n",
       "  </thead>\n",
       "  <tbody>\n",
       "    <tr>\n",
       "      <th>f1-score</th>\n",
       "      <td>0.909</td>\n",
       "      <td>0.412</td>\n",
       "      <td>0.842</td>\n",
       "      <td>0.660</td>\n",
       "      <td>0.864</td>\n",
       "    </tr>\n",
       "    <tr>\n",
       "      <th>precision</th>\n",
       "      <td>0.958</td>\n",
       "      <td>0.310</td>\n",
       "      <td>0.842</td>\n",
       "      <td>0.634</td>\n",
       "      <td>0.900</td>\n",
       "    </tr>\n",
       "    <tr>\n",
       "      <th>recall</th>\n",
       "      <td>0.865</td>\n",
       "      <td>0.614</td>\n",
       "      <td>0.842</td>\n",
       "      <td>0.739</td>\n",
       "      <td>0.842</td>\n",
       "    </tr>\n",
       "    <tr>\n",
       "      <th>support</th>\n",
       "      <td>577.000</td>\n",
       "      <td>57.000</td>\n",
       "      <td>634.000</td>\n",
       "      <td>634.000</td>\n",
       "      <td>634.000</td>\n",
       "    </tr>\n",
       "  </tbody>\n",
       "</table>\n",
       "</div>"
      ],
      "text/plain": [
       "               0.0     1.0  micro avg  macro avg  weighted avg\n",
       "f1-score     0.909   0.412      0.842      0.660         0.864\n",
       "precision    0.958   0.310      0.842      0.634         0.900\n",
       "recall       0.865   0.614      0.842      0.739         0.842\n",
       "support    577.000  57.000    634.000    634.000       634.000"
      ]
     },
     "metadata": {},
     "output_type": "display_data"
    },
    {
     "name": "stdout",
     "output_type": "stream",
     "text": [
      "Model Saved on  roc_auc 0.7933807656055216\n"
     ]
    },
    {
     "data": {
      "application/vnd.jupyter.widget-view+json": {
       "model_id": "b76dd56b5fa14280b35b06b88b61438a",
       "version_major": 2,
       "version_minor": 0
      },
      "text/plain": [
       "HBox(children=(IntProgress(value=0, max=63), HTML(value='')))"
      ]
     },
     "metadata": {},
     "output_type": "display_data"
    },
    {
     "data": {
      "application/vnd.jupyter.widget-view+json": {
       "model_id": "96e4c40df3844431bbad0193e036fc39",
       "version_major": 2,
       "version_minor": 0
      },
      "text/plain": [
       "HBox(children=(IntProgress(value=0, max=20), HTML(value='')))"
      ]
     },
     "metadata": {},
     "output_type": "display_data"
    },
    {
     "name": "stdout",
     "output_type": "stream",
     "text": [
      "{'accuracy': 0.807570977917981, 'roc_auc': 0.8005564170391316, 'pr_auc': 0.3543995572226013}\n"
     ]
    },
    {
     "data": {
      "text/html": [
       "<div>\n",
       "<style scoped>\n",
       "    .dataframe tbody tr th:only-of-type {\n",
       "        vertical-align: middle;\n",
       "    }\n",
       "\n",
       "    .dataframe tbody tr th {\n",
       "        vertical-align: top;\n",
       "    }\n",
       "\n",
       "    .dataframe thead th {\n",
       "        text-align: right;\n",
       "    }\n",
       "</style>\n",
       "<table border=\"1\" class=\"dataframe\">\n",
       "  <thead>\n",
       "    <tr style=\"text-align: right;\">\n",
       "      <th></th>\n",
       "      <th>0.0</th>\n",
       "      <th>1.0</th>\n",
       "      <th>micro avg</th>\n",
       "      <th>macro avg</th>\n",
       "      <th>weighted avg</th>\n",
       "    </tr>\n",
       "  </thead>\n",
       "  <tbody>\n",
       "    <tr>\n",
       "      <th>f1-score</th>\n",
       "      <td>0.886</td>\n",
       "      <td>0.390</td>\n",
       "      <td>0.808</td>\n",
       "      <td>0.638</td>\n",
       "      <td>0.841</td>\n",
       "    </tr>\n",
       "    <tr>\n",
       "      <th>precision</th>\n",
       "      <td>0.963</td>\n",
       "      <td>0.273</td>\n",
       "      <td>0.808</td>\n",
       "      <td>0.618</td>\n",
       "      <td>0.901</td>\n",
       "    </tr>\n",
       "    <tr>\n",
       "      <th>recall</th>\n",
       "      <td>0.820</td>\n",
       "      <td>0.684</td>\n",
       "      <td>0.808</td>\n",
       "      <td>0.752</td>\n",
       "      <td>0.808</td>\n",
       "    </tr>\n",
       "    <tr>\n",
       "      <th>support</th>\n",
       "      <td>577.000</td>\n",
       "      <td>57.000</td>\n",
       "      <td>634.000</td>\n",
       "      <td>634.000</td>\n",
       "      <td>634.000</td>\n",
       "    </tr>\n",
       "  </tbody>\n",
       "</table>\n",
       "</div>"
      ],
      "text/plain": [
       "               0.0     1.0  micro avg  macro avg  weighted avg\n",
       "f1-score     0.886   0.390      0.808      0.638         0.841\n",
       "precision    0.963   0.273      0.808      0.618         0.901\n",
       "recall       0.820   0.684      0.808      0.752         0.808\n",
       "support    577.000  57.000    634.000    634.000       634.000"
      ]
     },
     "metadata": {},
     "output_type": "display_data"
    },
    {
     "name": "stdout",
     "output_type": "stream",
     "text": [
      "Model Saved on  roc_auc 0.8005564170391316\n"
     ]
    },
    {
     "data": {
      "application/vnd.jupyter.widget-view+json": {
       "model_id": "9f623800fdb4428d871a7f6588fcc6b3",
       "version_major": 2,
       "version_minor": 0
      },
      "text/plain": [
       "HBox(children=(IntProgress(value=0, max=63), HTML(value='')))"
      ]
     },
     "metadata": {},
     "output_type": "display_data"
    },
    {
     "data": {
      "application/vnd.jupyter.widget-view+json": {
       "model_id": "9dd35c7526434ebcb229a017c15d9cf7",
       "version_major": 2,
       "version_minor": 0
      },
      "text/plain": [
       "HBox(children=(IntProgress(value=0, max=20), HTML(value='')))"
      ]
     },
     "metadata": {},
     "output_type": "display_data"
    },
    {
     "name": "stdout",
     "output_type": "stream",
     "text": [
      "{'accuracy': 0.889589905362776, 'roc_auc': 0.802228708686795, 'pr_auc': 0.35909968259195313}\n"
     ]
    },
    {
     "data": {
      "text/html": [
       "<div>\n",
       "<style scoped>\n",
       "    .dataframe tbody tr th:only-of-type {\n",
       "        vertical-align: middle;\n",
       "    }\n",
       "\n",
       "    .dataframe tbody tr th {\n",
       "        vertical-align: top;\n",
       "    }\n",
       "\n",
       "    .dataframe thead th {\n",
       "        text-align: right;\n",
       "    }\n",
       "</style>\n",
       "<table border=\"1\" class=\"dataframe\">\n",
       "  <thead>\n",
       "    <tr style=\"text-align: right;\">\n",
       "      <th></th>\n",
       "      <th>0.0</th>\n",
       "      <th>1.0</th>\n",
       "      <th>micro avg</th>\n",
       "      <th>macro avg</th>\n",
       "      <th>weighted avg</th>\n",
       "    </tr>\n",
       "  </thead>\n",
       "  <tbody>\n",
       "    <tr>\n",
       "      <th>f1-score</th>\n",
       "      <td>0.939</td>\n",
       "      <td>0.397</td>\n",
       "      <td>0.89</td>\n",
       "      <td>0.668</td>\n",
       "      <td>0.890</td>\n",
       "    </tr>\n",
       "    <tr>\n",
       "      <th>precision</th>\n",
       "      <td>0.941</td>\n",
       "      <td>0.390</td>\n",
       "      <td>0.89</td>\n",
       "      <td>0.665</td>\n",
       "      <td>0.891</td>\n",
       "    </tr>\n",
       "    <tr>\n",
       "      <th>recall</th>\n",
       "      <td>0.938</td>\n",
       "      <td>0.404</td>\n",
       "      <td>0.89</td>\n",
       "      <td>0.671</td>\n",
       "      <td>0.890</td>\n",
       "    </tr>\n",
       "    <tr>\n",
       "      <th>support</th>\n",
       "      <td>577.000</td>\n",
       "      <td>57.000</td>\n",
       "      <td>634.00</td>\n",
       "      <td>634.000</td>\n",
       "      <td>634.000</td>\n",
       "    </tr>\n",
       "  </tbody>\n",
       "</table>\n",
       "</div>"
      ],
      "text/plain": [
       "               0.0     1.0  micro avg  macro avg  weighted avg\n",
       "f1-score     0.939   0.397       0.89      0.668         0.890\n",
       "precision    0.941   0.390       0.89      0.665         0.891\n",
       "recall       0.938   0.404       0.89      0.671         0.890\n",
       "support    577.000  57.000     634.00    634.000       634.000"
      ]
     },
     "metadata": {},
     "output_type": "display_data"
    },
    {
     "name": "stdout",
     "output_type": "stream",
     "text": [
      "Model Saved on  roc_auc 0.802228708686795\n"
     ]
    },
    {
     "data": {
      "application/vnd.jupyter.widget-view+json": {
       "model_id": "a15ccd6a6de241219e872f1e329b7d0e",
       "version_major": 2,
       "version_minor": 0
      },
      "text/plain": [
       "HBox(children=(IntProgress(value=0, max=63), HTML(value='')))"
      ]
     },
     "metadata": {},
     "output_type": "display_data"
    },
    {
     "data": {
      "application/vnd.jupyter.widget-view+json": {
       "model_id": "43d5204a98a745f589356ffe96cf0ea2",
       "version_major": 2,
       "version_minor": 0
      },
      "text/plain": [
       "HBox(children=(IntProgress(value=0, max=20), HTML(value='')))"
      ]
     },
     "metadata": {},
     "output_type": "display_data"
    },
    {
     "name": "stdout",
     "output_type": "stream",
     "text": [
      "{'accuracy': 0.8801261829652997, 'roc_auc': 0.8057253184955456, 'pr_auc': 0.3659459164333224}\n"
     ]
    },
    {
     "data": {
      "text/html": [
       "<div>\n",
       "<style scoped>\n",
       "    .dataframe tbody tr th:only-of-type {\n",
       "        vertical-align: middle;\n",
       "    }\n",
       "\n",
       "    .dataframe tbody tr th {\n",
       "        vertical-align: top;\n",
       "    }\n",
       "\n",
       "    .dataframe thead th {\n",
       "        text-align: right;\n",
       "    }\n",
       "</style>\n",
       "<table border=\"1\" class=\"dataframe\">\n",
       "  <thead>\n",
       "    <tr style=\"text-align: right;\">\n",
       "      <th></th>\n",
       "      <th>0.0</th>\n",
       "      <th>1.0</th>\n",
       "      <th>micro avg</th>\n",
       "      <th>macro avg</th>\n",
       "      <th>weighted avg</th>\n",
       "    </tr>\n",
       "  </thead>\n",
       "  <tbody>\n",
       "    <tr>\n",
       "      <th>f1-score</th>\n",
       "      <td>0.933</td>\n",
       "      <td>0.406</td>\n",
       "      <td>0.88</td>\n",
       "      <td>0.670</td>\n",
       "      <td>0.886</td>\n",
       "    </tr>\n",
       "    <tr>\n",
       "      <th>precision</th>\n",
       "      <td>0.945</td>\n",
       "      <td>0.366</td>\n",
       "      <td>0.88</td>\n",
       "      <td>0.656</td>\n",
       "      <td>0.893</td>\n",
       "    </tr>\n",
       "    <tr>\n",
       "      <th>recall</th>\n",
       "      <td>0.922</td>\n",
       "      <td>0.456</td>\n",
       "      <td>0.88</td>\n",
       "      <td>0.689</td>\n",
       "      <td>0.880</td>\n",
       "    </tr>\n",
       "    <tr>\n",
       "      <th>support</th>\n",
       "      <td>577.000</td>\n",
       "      <td>57.000</td>\n",
       "      <td>634.00</td>\n",
       "      <td>634.000</td>\n",
       "      <td>634.000</td>\n",
       "    </tr>\n",
       "  </tbody>\n",
       "</table>\n",
       "</div>"
      ],
      "text/plain": [
       "               0.0     1.0  micro avg  macro avg  weighted avg\n",
       "f1-score     0.933   0.406       0.88      0.670         0.886\n",
       "precision    0.945   0.366       0.88      0.656         0.893\n",
       "recall       0.922   0.456       0.88      0.689         0.880\n",
       "support    577.000  57.000     634.00    634.000       634.000"
      ]
     },
     "metadata": {},
     "output_type": "display_data"
    },
    {
     "name": "stderr",
     "output_type": "stream",
     "text": [
      "INFO - 2019-03-27 19:35:04,523 - instantiating class <class 'PatientVec.models.Model.Model'> from params {'type': 'seq_classifier', 'embedder': {'type': 'token_embedder', 'vocab_size': 19054, 'embed_size': 200, 'embedding_file': './preprocess/HipSurgery/1_yrs/embedding_matrix.npy'}, 'decoder': {'num_layers': 2, 'hidden_dims': [128, 1], 'activations': ['tanh', 'linear']}, 'predictor': {'type': 'binary'}, 'structured': {'use_structured': False}, 'encoder': {'type': 'average', 'projection': True, 'hidden_size': 256, 'activation': 'relu'}} and extras {}\n",
      "INFO - 2019-03-27 19:35:04,523 - type = seq_classifier\n",
      "INFO - 2019-03-27 19:35:04,524 - instantiating class <class 'PatientVec.models.modules.Embedder.Embedder'> from params {'type': 'token_embedder', 'vocab_size': 19054, 'embed_size': 200, 'embedding_file': './preprocess/HipSurgery/1_yrs/embedding_matrix.npy'} and extras {}\n",
      "INFO - 2019-03-27 19:35:04,525 - embedder.type = token_embedder\n",
      "INFO - 2019-03-27 19:35:04,526 - instantiating class <class 'PatientVec.models.modules.Embedder.TokenEmbedder'> from params {'vocab_size': 19054, 'embed_size': 200, 'embedding_file': './preprocess/HipSurgery/1_yrs/embedding_matrix.npy'} and extras {}\n",
      "INFO - 2019-03-27 19:35:04,526 - embedder.vocab_size = 19054\n",
      "INFO - 2019-03-27 19:35:04,527 - embedder.embed_size = 200\n",
      "INFO - 2019-03-27 19:35:04,527 - embedder.embedding_file = ./preprocess/HipSurgery/1_yrs/embedding_matrix.npy\n"
     ]
    },
    {
     "name": "stdout",
     "output_type": "stream",
     "text": [
      "Model Saved on  roc_auc 0.8057253184955456\n",
      "\n"
     ]
    },
    {
     "name": "stderr",
     "output_type": "stream",
     "text": [
      "INFO - 2019-03-27 19:35:04,551 - instantiating class <class 'PatientVec.models.modules.Encoder.Encoder'> from params {'type': 'average', 'projection': True, 'hidden_size': 256, 'activation': 'relu'} and extras {'input_size': 200}\n"
     ]
    },
    {
     "name": "stdout",
     "output_type": "stream",
     "text": [
      "Setting Embedding\n"
     ]
    },
    {
     "name": "stderr",
     "output_type": "stream",
     "text": [
      "INFO - 2019-03-27 19:35:04,552 - encoder.type = average\n",
      "INFO - 2019-03-27 19:35:04,552 - instantiating class <class 'PatientVec.models.modules.Encoder.AverageEncoder'> from params {'projection': True, 'hidden_size': 256, 'activation': 'relu'} and extras {'input_size': 200}\n",
      "INFO - 2019-03-27 19:35:04,553 - encoder.projection = True\n",
      "INFO - 2019-03-27 19:35:04,553 - encoder.hidden_size = 256\n",
      "INFO - 2019-03-27 19:35:04,554 - encoder.activation = relu\n",
      "INFO - 2019-03-27 19:35:04,555 - decoder.input_dim = 256\n",
      "INFO - 2019-03-27 19:35:04,556 - decoder.num_layers = 2\n",
      "INFO - 2019-03-27 19:35:04,556 - decoder.hidden_dims = [128, 1]\n",
      "INFO - 2019-03-27 19:35:04,557 - decoder.activations = ['tanh', 'linear']\n",
      "INFO - 2019-03-27 19:35:04,557 - decoder.dropout = 0.0\n",
      "INFO - 2019-03-27 19:35:04,559 - instantiating class <class 'PatientVec.models.modules.Predictor.Predictor'> from params {'type': 'binary'} and extras {}\n",
      "INFO - 2019-03-27 19:35:04,560 - predictor.type = binary\n",
      "INFO - 2019-03-27 19:35:04,560 - instantiating class <class 'PatientVec.models.modules.Predictor.Binary_Predictor'> from params {} and extras {}\n",
      "INFO - 2019-03-27 19:35:04,561 - predictor.replicate = False\n",
      "INFO - 2019-03-27 19:35:04,561 - predictor.alpha = 0.5\n"
     ]
    },
    {
     "data": {
      "application/vnd.jupyter.widget-view+json": {
       "model_id": "26df9fe74f6a41cc85ed8991fb2b6d41",
       "version_major": 2,
       "version_minor": 0
      },
      "text/plain": [
       "HBox(children=(IntProgress(value=0, max=20), HTML(value='')))"
      ]
     },
     "metadata": {},
     "output_type": "display_data"
    },
    {
     "name": "stdout",
     "output_type": "stream",
     "text": [
      "\n",
      "{'accuracy': 0.8801261829652997, 'roc_auc': 0.8057253184955456, 'pr_auc': 0.3659459164333224}\n"
     ]
    },
    {
     "data": {
      "text/html": [
       "<div>\n",
       "<style scoped>\n",
       "    .dataframe tbody tr th:only-of-type {\n",
       "        vertical-align: middle;\n",
       "    }\n",
       "\n",
       "    .dataframe tbody tr th {\n",
       "        vertical-align: top;\n",
       "    }\n",
       "\n",
       "    .dataframe thead th {\n",
       "        text-align: right;\n",
       "    }\n",
       "</style>\n",
       "<table border=\"1\" class=\"dataframe\">\n",
       "  <thead>\n",
       "    <tr style=\"text-align: right;\">\n",
       "      <th></th>\n",
       "      <th>0.0</th>\n",
       "      <th>1.0</th>\n",
       "      <th>micro avg</th>\n",
       "      <th>macro avg</th>\n",
       "      <th>weighted avg</th>\n",
       "    </tr>\n",
       "  </thead>\n",
       "  <tbody>\n",
       "    <tr>\n",
       "      <th>f1-score</th>\n",
       "      <td>0.933</td>\n",
       "      <td>0.406</td>\n",
       "      <td>0.88</td>\n",
       "      <td>0.670</td>\n",
       "      <td>0.886</td>\n",
       "    </tr>\n",
       "    <tr>\n",
       "      <th>precision</th>\n",
       "      <td>0.945</td>\n",
       "      <td>0.366</td>\n",
       "      <td>0.88</td>\n",
       "      <td>0.656</td>\n",
       "      <td>0.893</td>\n",
       "    </tr>\n",
       "    <tr>\n",
       "      <th>recall</th>\n",
       "      <td>0.922</td>\n",
       "      <td>0.456</td>\n",
       "      <td>0.88</td>\n",
       "      <td>0.689</td>\n",
       "      <td>0.880</td>\n",
       "    </tr>\n",
       "    <tr>\n",
       "      <th>support</th>\n",
       "      <td>577.000</td>\n",
       "      <td>57.000</td>\n",
       "      <td>634.00</td>\n",
       "      <td>634.000</td>\n",
       "      <td>634.000</td>\n",
       "    </tr>\n",
       "  </tbody>\n",
       "</table>\n",
       "</div>"
      ],
      "text/plain": [
       "               0.0     1.0  micro avg  macro avg  weighted avg\n",
       "f1-score     0.933   0.406       0.88      0.670         0.886\n",
       "precision    0.945   0.366       0.88      0.656         0.893\n",
       "recall       0.922   0.456       0.88      0.689         0.880\n",
       "support    577.000  57.000     634.00    634.000       634.000"
      ]
     },
     "metadata": {},
     "output_type": "display_data"
    },
    {
     "data": {
      "application/vnd.jupyter.widget-view+json": {
       "model_id": "d00da559dd7945d88f70ca80a0457895",
       "version_major": 2,
       "version_minor": 0
      },
      "text/plain": [
       "HBox(children=(IntProgress(value=0, max=20), HTML(value='')))"
      ]
     },
     "metadata": {},
     "output_type": "display_data"
    },
    {
     "name": "stdout",
     "output_type": "stream",
     "text": [
      "\n",
      "{'accuracy': 0.8748019017432647, 'roc_auc': 0.7966516580903372, 'pr_auc': 0.2428456531623617}\n"
     ]
    },
    {
     "data": {
      "text/html": [
       "<div>\n",
       "<style scoped>\n",
       "    .dataframe tbody tr th:only-of-type {\n",
       "        vertical-align: middle;\n",
       "    }\n",
       "\n",
       "    .dataframe tbody tr th {\n",
       "        vertical-align: top;\n",
       "    }\n",
       "\n",
       "    .dataframe thead th {\n",
       "        text-align: right;\n",
       "    }\n",
       "</style>\n",
       "<table border=\"1\" class=\"dataframe\">\n",
       "  <thead>\n",
       "    <tr style=\"text-align: right;\">\n",
       "      <th></th>\n",
       "      <th>0.0</th>\n",
       "      <th>1.0</th>\n",
       "      <th>micro avg</th>\n",
       "      <th>macro avg</th>\n",
       "      <th>weighted avg</th>\n",
       "    </tr>\n",
       "  </thead>\n",
       "  <tbody>\n",
       "    <tr>\n",
       "      <th>f1-score</th>\n",
       "      <td>0.931</td>\n",
       "      <td>0.275</td>\n",
       "      <td>0.875</td>\n",
       "      <td>0.603</td>\n",
       "      <td>0.882</td>\n",
       "    </tr>\n",
       "    <tr>\n",
       "      <th>precision</th>\n",
       "      <td>0.942</td>\n",
       "      <td>0.246</td>\n",
       "      <td>0.875</td>\n",
       "      <td>0.594</td>\n",
       "      <td>0.889</td>\n",
       "    </tr>\n",
       "    <tr>\n",
       "      <th>recall</th>\n",
       "      <td>0.921</td>\n",
       "      <td>0.312</td>\n",
       "      <td>0.875</td>\n",
       "      <td>0.617</td>\n",
       "      <td>0.875</td>\n",
       "    </tr>\n",
       "    <tr>\n",
       "      <th>support</th>\n",
       "      <td>583.000</td>\n",
       "      <td>48.000</td>\n",
       "      <td>631.000</td>\n",
       "      <td>631.000</td>\n",
       "      <td>631.000</td>\n",
       "    </tr>\n",
       "  </tbody>\n",
       "</table>\n",
       "</div>"
      ],
      "text/plain": [
       "               0.0     1.0  micro avg  macro avg  weighted avg\n",
       "f1-score     0.931   0.275      0.875      0.603         0.882\n",
       "precision    0.942   0.246      0.875      0.594         0.889\n",
       "recall       0.921   0.312      0.875      0.617         0.875\n",
       "support    583.000  48.000    631.000    631.000       631.000"
      ]
     },
     "metadata": {},
     "output_type": "display_data"
    },
    {
     "name": "stderr",
     "output_type": "stream",
     "text": [
      "INFO - 2019-03-27 19:35:08,524 - instantiating class <class 'PatientVec.models.Model.Model'> from params {'type': 'seq_classifier', 'embedder': {'type': 'token_embedder', 'vocab_size': 19054, 'embed_size': 200, 'embedding_file': './preprocess/HipSurgery/1_yrs/embedding_matrix.npy'}, 'decoder': {'num_layers': 2, 'hidden_dims': [128, 1], 'activations': ['tanh', 'linear']}, 'predictor': {'type': 'binary'}, 'structured': {'use_structured': False}, 'encoder': {'type': 'lstm', 'hidden_size': 128}} and extras {}\n",
      "INFO - 2019-03-27 19:35:08,525 - type = seq_classifier\n",
      "INFO - 2019-03-27 19:35:08,526 - instantiating class <class 'PatientVec.models.modules.Embedder.Embedder'> from params {'type': 'token_embedder', 'vocab_size': 19054, 'embed_size': 200, 'embedding_file': './preprocess/HipSurgery/1_yrs/embedding_matrix.npy'} and extras {}\n",
      "INFO - 2019-03-27 19:35:08,526 - embedder.type = token_embedder\n",
      "INFO - 2019-03-27 19:35:08,527 - instantiating class <class 'PatientVec.models.modules.Embedder.TokenEmbedder'> from params {'vocab_size': 19054, 'embed_size': 200, 'embedding_file': './preprocess/HipSurgery/1_yrs/embedding_matrix.npy'} and extras {}\n",
      "INFO - 2019-03-27 19:35:08,528 - embedder.vocab_size = 19054\n",
      "INFO - 2019-03-27 19:35:08,529 - embedder.embed_size = 200\n",
      "INFO - 2019-03-27 19:35:08,529 - embedder.embedding_file = ./preprocess/HipSurgery/1_yrs/embedding_matrix.npy\n",
      "INFO - 2019-03-27 19:35:08,551 - instantiating class <class 'PatientVec.models.modules.Encoder.Encoder'> from params {'type': 'lstm', 'hidden_size': 128} and extras {'input_size': 200}\n",
      "INFO - 2019-03-27 19:35:08,552 - encoder.type = lstm\n",
      "INFO - 2019-03-27 19:35:08,552 - instantiating class <class 'PatientVec.models.modules.Encoder.wrap_pytorch_rnn.<locals>.BiRNNEncoder'> from params {'hidden_size': 128} and extras {'input_size': 200}\n",
      "INFO - 2019-03-27 19:35:08,553 - encoder.hidden_size = 128\n",
      "INFO - 2019-03-27 19:35:08,556 - decoder.input_dim = 256\n",
      "INFO - 2019-03-27 19:35:08,557 - decoder.num_layers = 2\n",
      "INFO - 2019-03-27 19:35:08,557 - decoder.hidden_dims = [128, 1]\n",
      "INFO - 2019-03-27 19:35:08,558 - decoder.activations = ['tanh', 'linear']\n",
      "INFO - 2019-03-27 19:35:08,558 - decoder.dropout = 0.0\n",
      "INFO - 2019-03-27 19:35:08,559 - instantiating class <class 'PatientVec.models.modules.Predictor.Predictor'> from params {'type': 'binary'} and extras {}\n",
      "INFO - 2019-03-27 19:35:08,560 - predictor.type = binary\n",
      "INFO - 2019-03-27 19:35:08,561 - instantiating class <class 'PatientVec.models.modules.Predictor.Binary_Predictor'> from params {} and extras {}\n",
      "INFO - 2019-03-27 19:35:08,561 - predictor.replicate = False\n",
      "INFO - 2019-03-27 19:35:08,562 - predictor.alpha = 0.5\n"
     ]
    },
    {
     "name": "stdout",
     "output_type": "stream",
     "text": [
      "============================================================================================================================================================================================================================================================================================================\n",
      "{'model': {'type': 'seq_classifier', 'embedder': {'type': 'token_embedder', 'vocab_size': 19054, 'embed_size': 200, 'embedding_file': './preprocess/HipSurgery/1_yrs/embedding_matrix.npy'}, 'decoder': {'num_layers': 2, 'hidden_dims': [128, 1], 'activations': ['tanh', 'linear']}, 'predictor': {'type': 'binary'}, 'structured': {'use_structured': False}, 'encoder': {'type': 'lstm', 'hidden_size': 128}}, 'training_config': {'type': 'Adam', 'groups': [('.*', {'lr': 0.001, 'weight_decay': 1e-05})], 'common': {'bsize': 32, 'class_weight': True}}, 'exp_config': {'exp_name': 'HipSurgery_1/Basic/LSTM(hs=128)', 'basepath': 'outputs/ts_experiments/n=2000'}}\n",
      "Setting Embedding\n"
     ]
    },
    {
     "data": {
      "application/vnd.jupyter.widget-view+json": {
       "model_id": "22c803e79b63480abb89d11f66e152e2",
       "version_major": 2,
       "version_minor": 0
      },
      "text/plain": [
       "HBox(children=(IntProgress(value=0, max=8), HTML(value='')))"
      ]
     },
     "metadata": {},
     "output_type": "display_data"
    },
    {
     "data": {
      "application/vnd.jupyter.widget-view+json": {
       "model_id": "68afe499447b4685bf562ced1ffd0db5",
       "version_major": 2,
       "version_minor": 0
      },
      "text/plain": [
       "HBox(children=(IntProgress(value=0, max=63), HTML(value='')))"
      ]
     },
     "metadata": {},
     "output_type": "display_data"
    },
    {
     "data": {
      "application/vnd.jupyter.widget-view+json": {
       "model_id": "0c45656dc1b240fd93c58eb2f41d937f",
       "version_major": 2,
       "version_minor": 0
      },
      "text/plain": [
       "HBox(children=(IntProgress(value=0, max=20), HTML(value='')))"
      ]
     },
     "metadata": {},
     "output_type": "display_data"
    },
    {
     "name": "stdout",
     "output_type": "stream",
     "text": [
      "{'accuracy': 0.7113564668769716, 'roc_auc': 0.7063607893216577, 'pr_auc': 0.17303529495535674}\n"
     ]
    },
    {
     "data": {
      "text/html": [
       "<div>\n",
       "<style scoped>\n",
       "    .dataframe tbody tr th:only-of-type {\n",
       "        vertical-align: middle;\n",
       "    }\n",
       "\n",
       "    .dataframe tbody tr th {\n",
       "        vertical-align: top;\n",
       "    }\n",
       "\n",
       "    .dataframe thead th {\n",
       "        text-align: right;\n",
       "    }\n",
       "</style>\n",
       "<table border=\"1\" class=\"dataframe\">\n",
       "  <thead>\n",
       "    <tr style=\"text-align: right;\">\n",
       "      <th></th>\n",
       "      <th>0.0</th>\n",
       "      <th>1.0</th>\n",
       "      <th>micro avg</th>\n",
       "      <th>macro avg</th>\n",
       "      <th>weighted avg</th>\n",
       "    </tr>\n",
       "  </thead>\n",
       "  <tbody>\n",
       "    <tr>\n",
       "      <th>f1-score</th>\n",
       "      <td>0.821</td>\n",
       "      <td>0.259</td>\n",
       "      <td>0.711</td>\n",
       "      <td>0.540</td>\n",
       "      <td>0.770</td>\n",
       "    </tr>\n",
       "    <tr>\n",
       "      <th>precision</th>\n",
       "      <td>0.944</td>\n",
       "      <td>0.168</td>\n",
       "      <td>0.711</td>\n",
       "      <td>0.556</td>\n",
       "      <td>0.874</td>\n",
       "    </tr>\n",
       "    <tr>\n",
       "      <th>recall</th>\n",
       "      <td>0.726</td>\n",
       "      <td>0.561</td>\n",
       "      <td>0.711</td>\n",
       "      <td>0.644</td>\n",
       "      <td>0.711</td>\n",
       "    </tr>\n",
       "    <tr>\n",
       "      <th>support</th>\n",
       "      <td>577.000</td>\n",
       "      <td>57.000</td>\n",
       "      <td>634.000</td>\n",
       "      <td>634.000</td>\n",
       "      <td>634.000</td>\n",
       "    </tr>\n",
       "  </tbody>\n",
       "</table>\n",
       "</div>"
      ],
      "text/plain": [
       "               0.0     1.0  micro avg  macro avg  weighted avg\n",
       "f1-score     0.821   0.259      0.711      0.540         0.770\n",
       "precision    0.944   0.168      0.711      0.556         0.874\n",
       "recall       0.726   0.561      0.711      0.644         0.711\n",
       "support    577.000  57.000    634.000    634.000       634.000"
      ]
     },
     "metadata": {},
     "output_type": "display_data"
    },
    {
     "name": "stdout",
     "output_type": "stream",
     "text": [
      "Model Saved on  roc_auc 0.7063607893216577\n"
     ]
    },
    {
     "data": {
      "application/vnd.jupyter.widget-view+json": {
       "model_id": "4c63d5141e34467492279b589286c572",
       "version_major": 2,
       "version_minor": 0
      },
      "text/plain": [
       "HBox(children=(IntProgress(value=0, max=63), HTML(value='')))"
      ]
     },
     "metadata": {},
     "output_type": "display_data"
    },
    {
     "data": {
      "application/vnd.jupyter.widget-view+json": {
       "model_id": "2a2c66b310e84dc0aa5d21863b226805",
       "version_major": 2,
       "version_minor": 0
      },
      "text/plain": [
       "HBox(children=(IntProgress(value=0, max=20), HTML(value='')))"
      ]
     },
     "metadata": {},
     "output_type": "display_data"
    },
    {
     "name": "stdout",
     "output_type": "stream",
     "text": [
      "{'accuracy': 0.7255520504731862, 'roc_auc': 0.7152999483109854, 'pr_auc': 0.20245951511588328}\n"
     ]
    },
    {
     "data": {
      "text/html": [
       "<div>\n",
       "<style scoped>\n",
       "    .dataframe tbody tr th:only-of-type {\n",
       "        vertical-align: middle;\n",
       "    }\n",
       "\n",
       "    .dataframe tbody tr th {\n",
       "        vertical-align: top;\n",
       "    }\n",
       "\n",
       "    .dataframe thead th {\n",
       "        text-align: right;\n",
       "    }\n",
       "</style>\n",
       "<table border=\"1\" class=\"dataframe\">\n",
       "  <thead>\n",
       "    <tr style=\"text-align: right;\">\n",
       "      <th></th>\n",
       "      <th>0.0</th>\n",
       "      <th>1.0</th>\n",
       "      <th>micro avg</th>\n",
       "      <th>macro avg</th>\n",
       "      <th>weighted avg</th>\n",
       "    </tr>\n",
       "  </thead>\n",
       "  <tbody>\n",
       "    <tr>\n",
       "      <th>f1-score</th>\n",
       "      <td>0.831</td>\n",
       "      <td>0.269</td>\n",
       "      <td>0.726</td>\n",
       "      <td>0.550</td>\n",
       "      <td>0.781</td>\n",
       "    </tr>\n",
       "    <tr>\n",
       "      <th>precision</th>\n",
       "      <td>0.945</td>\n",
       "      <td>0.177</td>\n",
       "      <td>0.726</td>\n",
       "      <td>0.561</td>\n",
       "      <td>0.876</td>\n",
       "    </tr>\n",
       "    <tr>\n",
       "      <th>recall</th>\n",
       "      <td>0.742</td>\n",
       "      <td>0.561</td>\n",
       "      <td>0.726</td>\n",
       "      <td>0.652</td>\n",
       "      <td>0.726</td>\n",
       "    </tr>\n",
       "    <tr>\n",
       "      <th>support</th>\n",
       "      <td>577.000</td>\n",
       "      <td>57.000</td>\n",
       "      <td>634.000</td>\n",
       "      <td>634.000</td>\n",
       "      <td>634.000</td>\n",
       "    </tr>\n",
       "  </tbody>\n",
       "</table>\n",
       "</div>"
      ],
      "text/plain": [
       "               0.0     1.0  micro avg  macro avg  weighted avg\n",
       "f1-score     0.831   0.269      0.726      0.550         0.781\n",
       "precision    0.945   0.177      0.726      0.561         0.876\n",
       "recall       0.742   0.561      0.726      0.652         0.726\n",
       "support    577.000  57.000    634.000    634.000       634.000"
      ]
     },
     "metadata": {},
     "output_type": "display_data"
    },
    {
     "name": "stdout",
     "output_type": "stream",
     "text": [
      "Model Saved on  roc_auc 0.7152999483109854\n"
     ]
    },
    {
     "data": {
      "application/vnd.jupyter.widget-view+json": {
       "model_id": "0a5e7a13165f4749adef616df8327a32",
       "version_major": 2,
       "version_minor": 0
      },
      "text/plain": [
       "HBox(children=(IntProgress(value=0, max=63), HTML(value='')))"
      ]
     },
     "metadata": {},
     "output_type": "display_data"
    },
    {
     "data": {
      "application/vnd.jupyter.widget-view+json": {
       "model_id": "7629aea8524a400d8b1bab92b9c15dda",
       "version_major": 2,
       "version_minor": 0
      },
      "text/plain": [
       "HBox(children=(IntProgress(value=0, max=20), HTML(value='')))"
      ]
     },
     "metadata": {},
     "output_type": "display_data"
    },
    {
     "name": "stdout",
     "output_type": "stream",
     "text": [
      "{'accuracy': 0.7350157728706624, 'roc_auc': 0.6946547477880142, 'pr_auc': 0.19641769538607862}\n"
     ]
    },
    {
     "data": {
      "text/html": [
       "<div>\n",
       "<style scoped>\n",
       "    .dataframe tbody tr th:only-of-type {\n",
       "        vertical-align: middle;\n",
       "    }\n",
       "\n",
       "    .dataframe tbody tr th {\n",
       "        vertical-align: top;\n",
       "    }\n",
       "\n",
       "    .dataframe thead th {\n",
       "        text-align: right;\n",
       "    }\n",
       "</style>\n",
       "<table border=\"1\" class=\"dataframe\">\n",
       "  <thead>\n",
       "    <tr style=\"text-align: right;\">\n",
       "      <th></th>\n",
       "      <th>0.0</th>\n",
       "      <th>1.0</th>\n",
       "      <th>micro avg</th>\n",
       "      <th>macro avg</th>\n",
       "      <th>weighted avg</th>\n",
       "    </tr>\n",
       "  </thead>\n",
       "  <tbody>\n",
       "    <tr>\n",
       "      <th>f1-score</th>\n",
       "      <td>0.840</td>\n",
       "      <td>0.236</td>\n",
       "      <td>0.735</td>\n",
       "      <td>0.538</td>\n",
       "      <td>0.785</td>\n",
       "    </tr>\n",
       "    <tr>\n",
       "      <th>precision</th>\n",
       "      <td>0.934</td>\n",
       "      <td>0.160</td>\n",
       "      <td>0.735</td>\n",
       "      <td>0.547</td>\n",
       "      <td>0.865</td>\n",
       "    </tr>\n",
       "    <tr>\n",
       "      <th>recall</th>\n",
       "      <td>0.763</td>\n",
       "      <td>0.456</td>\n",
       "      <td>0.735</td>\n",
       "      <td>0.609</td>\n",
       "      <td>0.735</td>\n",
       "    </tr>\n",
       "    <tr>\n",
       "      <th>support</th>\n",
       "      <td>577.000</td>\n",
       "      <td>57.000</td>\n",
       "      <td>634.000</td>\n",
       "      <td>634.000</td>\n",
       "      <td>634.000</td>\n",
       "    </tr>\n",
       "  </tbody>\n",
       "</table>\n",
       "</div>"
      ],
      "text/plain": [
       "               0.0     1.0  micro avg  macro avg  weighted avg\n",
       "f1-score     0.840   0.236      0.735      0.538         0.785\n",
       "precision    0.934   0.160      0.735      0.547         0.865\n",
       "recall       0.763   0.456      0.735      0.609         0.735\n",
       "support    577.000  57.000    634.000    634.000       634.000"
      ]
     },
     "metadata": {},
     "output_type": "display_data"
    },
    {
     "name": "stdout",
     "output_type": "stream",
     "text": [
      "Model not saved on  roc_auc 0.6946547477880142\n"
     ]
    },
    {
     "data": {
      "application/vnd.jupyter.widget-view+json": {
       "model_id": "965874e2ffa04a7396d98dc7cb1d409e",
       "version_major": 2,
       "version_minor": 0
      },
      "text/plain": [
       "HBox(children=(IntProgress(value=0, max=63), HTML(value='')))"
      ]
     },
     "metadata": {},
     "output_type": "display_data"
    },
    {
     "data": {
      "application/vnd.jupyter.widget-view+json": {
       "model_id": "9604805a9a144a63906cbad329416a3f",
       "version_major": 2,
       "version_minor": 0
      },
      "text/plain": [
       "HBox(children=(IntProgress(value=0, max=20), HTML(value='')))"
      ]
     },
     "metadata": {},
     "output_type": "display_data"
    },
    {
     "name": "stdout",
     "output_type": "stream",
     "text": [
      "{'accuracy': 0.6261829652996845, 'roc_auc': 0.6677764602146614, 'pr_auc': 0.17914439182641295}\n"
     ]
    },
    {
     "data": {
      "text/html": [
       "<div>\n",
       "<style scoped>\n",
       "    .dataframe tbody tr th:only-of-type {\n",
       "        vertical-align: middle;\n",
       "    }\n",
       "\n",
       "    .dataframe tbody tr th {\n",
       "        vertical-align: top;\n",
       "    }\n",
       "\n",
       "    .dataframe thead th {\n",
       "        text-align: right;\n",
       "    }\n",
       "</style>\n",
       "<table border=\"1\" class=\"dataframe\">\n",
       "  <thead>\n",
       "    <tr style=\"text-align: right;\">\n",
       "      <th></th>\n",
       "      <th>0.0</th>\n",
       "      <th>1.0</th>\n",
       "      <th>micro avg</th>\n",
       "      <th>macro avg</th>\n",
       "      <th>weighted avg</th>\n",
       "    </tr>\n",
       "  </thead>\n",
       "  <tbody>\n",
       "    <tr>\n",
       "      <th>f1-score</th>\n",
       "      <td>0.752</td>\n",
       "      <td>0.238</td>\n",
       "      <td>0.626</td>\n",
       "      <td>0.495</td>\n",
       "      <td>0.706</td>\n",
       "    </tr>\n",
       "    <tr>\n",
       "      <th>precision</th>\n",
       "      <td>0.947</td>\n",
       "      <td>0.146</td>\n",
       "      <td>0.626</td>\n",
       "      <td>0.547</td>\n",
       "      <td>0.875</td>\n",
       "    </tr>\n",
       "    <tr>\n",
       "      <th>recall</th>\n",
       "      <td>0.624</td>\n",
       "      <td>0.649</td>\n",
       "      <td>0.626</td>\n",
       "      <td>0.637</td>\n",
       "      <td>0.626</td>\n",
       "    </tr>\n",
       "    <tr>\n",
       "      <th>support</th>\n",
       "      <td>577.000</td>\n",
       "      <td>57.000</td>\n",
       "      <td>634.000</td>\n",
       "      <td>634.000</td>\n",
       "      <td>634.000</td>\n",
       "    </tr>\n",
       "  </tbody>\n",
       "</table>\n",
       "</div>"
      ],
      "text/plain": [
       "               0.0     1.0  micro avg  macro avg  weighted avg\n",
       "f1-score     0.752   0.238      0.626      0.495         0.706\n",
       "precision    0.947   0.146      0.626      0.547         0.875\n",
       "recall       0.624   0.649      0.626      0.637         0.626\n",
       "support    577.000  57.000    634.000    634.000       634.000"
      ]
     },
     "metadata": {},
     "output_type": "display_data"
    },
    {
     "name": "stdout",
     "output_type": "stream",
     "text": [
      "Model not saved on  roc_auc 0.6677764602146614\n"
     ]
    },
    {
     "data": {
      "application/vnd.jupyter.widget-view+json": {
       "model_id": "3729c879710d4740aceb691f005460ea",
       "version_major": 2,
       "version_minor": 0
      },
      "text/plain": [
       "HBox(children=(IntProgress(value=0, max=63), HTML(value='')))"
      ]
     },
     "metadata": {},
     "output_type": "display_data"
    },
    {
     "data": {
      "application/vnd.jupyter.widget-view+json": {
       "model_id": "dffc8bf4b7474055b898d9b9963e7245",
       "version_major": 2,
       "version_minor": 0
      },
      "text/plain": [
       "HBox(children=(IntProgress(value=0, max=20), HTML(value='')))"
      ]
     },
     "metadata": {},
     "output_type": "display_data"
    },
    {
     "name": "stdout",
     "output_type": "stream",
     "text": [
      "{'accuracy': 0.6829652996845426, 'roc_auc': 0.5870503815865487, 'pr_auc': 0.18095432383257062}\n"
     ]
    },
    {
     "data": {
      "text/html": [
       "<div>\n",
       "<style scoped>\n",
       "    .dataframe tbody tr th:only-of-type {\n",
       "        vertical-align: middle;\n",
       "    }\n",
       "\n",
       "    .dataframe tbody tr th {\n",
       "        vertical-align: top;\n",
       "    }\n",
       "\n",
       "    .dataframe thead th {\n",
       "        text-align: right;\n",
       "    }\n",
       "</style>\n",
       "<table border=\"1\" class=\"dataframe\">\n",
       "  <thead>\n",
       "    <tr style=\"text-align: right;\">\n",
       "      <th></th>\n",
       "      <th>0.0</th>\n",
       "      <th>1.0</th>\n",
       "      <th>micro avg</th>\n",
       "      <th>macro avg</th>\n",
       "      <th>weighted avg</th>\n",
       "    </tr>\n",
       "  </thead>\n",
       "  <tbody>\n",
       "    <tr>\n",
       "      <th>f1-score</th>\n",
       "      <td>0.801</td>\n",
       "      <td>0.224</td>\n",
       "      <td>0.683</td>\n",
       "      <td>0.512</td>\n",
       "      <td>0.749</td>\n",
       "    </tr>\n",
       "    <tr>\n",
       "      <th>precision</th>\n",
       "      <td>0.935</td>\n",
       "      <td>0.144</td>\n",
       "      <td>0.683</td>\n",
       "      <td>0.539</td>\n",
       "      <td>0.864</td>\n",
       "    </tr>\n",
       "    <tr>\n",
       "      <th>recall</th>\n",
       "      <td>0.700</td>\n",
       "      <td>0.509</td>\n",
       "      <td>0.683</td>\n",
       "      <td>0.604</td>\n",
       "      <td>0.683</td>\n",
       "    </tr>\n",
       "    <tr>\n",
       "      <th>support</th>\n",
       "      <td>577.000</td>\n",
       "      <td>57.000</td>\n",
       "      <td>634.000</td>\n",
       "      <td>634.000</td>\n",
       "      <td>634.000</td>\n",
       "    </tr>\n",
       "  </tbody>\n",
       "</table>\n",
       "</div>"
      ],
      "text/plain": [
       "               0.0     1.0  micro avg  macro avg  weighted avg\n",
       "f1-score     0.801   0.224      0.683      0.512         0.749\n",
       "precision    0.935   0.144      0.683      0.539         0.864\n",
       "recall       0.700   0.509      0.683      0.604         0.683\n",
       "support    577.000  57.000    634.000    634.000       634.000"
      ]
     },
     "metadata": {},
     "output_type": "display_data"
    },
    {
     "name": "stderr",
     "output_type": "stream",
     "text": [
      "INFO - 2019-03-27 19:39:22,373 - instantiating class <class 'PatientVec.models.Model.Model'> from params {'type': 'seq_classifier', 'embedder': {'type': 'token_embedder', 'vocab_size': 19054, 'embed_size': 200, 'embedding_file': './preprocess/HipSurgery/1_yrs/embedding_matrix.npy'}, 'decoder': {'num_layers': 2, 'hidden_dims': [128, 1], 'activations': ['tanh', 'linear']}, 'predictor': {'type': 'binary'}, 'structured': {'use_structured': False}, 'encoder': {'type': 'lstm', 'hidden_size': 128}} and extras {}\n",
      "INFO - 2019-03-27 19:39:22,374 - type = seq_classifier\n",
      "INFO - 2019-03-27 19:39:22,375 - instantiating class <class 'PatientVec.models.modules.Embedder.Embedder'> from params {'type': 'token_embedder', 'vocab_size': 19054, 'embed_size': 200, 'embedding_file': './preprocess/HipSurgery/1_yrs/embedding_matrix.npy'} and extras {}\n",
      "INFO - 2019-03-27 19:39:22,376 - embedder.type = token_embedder\n",
      "INFO - 2019-03-27 19:39:22,376 - instantiating class <class 'PatientVec.models.modules.Embedder.TokenEmbedder'> from params {'vocab_size': 19054, 'embed_size': 200, 'embedding_file': './preprocess/HipSurgery/1_yrs/embedding_matrix.npy'} and extras {}\n",
      "INFO - 2019-03-27 19:39:22,377 - embedder.vocab_size = 19054\n",
      "INFO - 2019-03-27 19:39:22,377 - embedder.embed_size = 200\n",
      "INFO - 2019-03-27 19:39:22,378 - embedder.embedding_file = ./preprocess/HipSurgery/1_yrs/embedding_matrix.npy\n",
      "INFO - 2019-03-27 19:39:22,401 - instantiating class <class 'PatientVec.models.modules.Encoder.Encoder'> from params {'type': 'lstm', 'hidden_size': 128} and extras {'input_size': 200}\n",
      "INFO - 2019-03-27 19:39:22,402 - encoder.type = lstm\n",
      "INFO - 2019-03-27 19:39:22,403 - instantiating class <class 'PatientVec.models.modules.Encoder.wrap_pytorch_rnn.<locals>.BiRNNEncoder'> from params {'hidden_size': 128} and extras {'input_size': 200}\n",
      "INFO - 2019-03-27 19:39:22,403 - encoder.hidden_size = 128\n",
      "INFO - 2019-03-27 19:39:22,406 - decoder.input_dim = 256\n",
      "INFO - 2019-03-27 19:39:22,407 - decoder.num_layers = 2\n",
      "INFO - 2019-03-27 19:39:22,407 - decoder.hidden_dims = [128, 1]\n",
      "INFO - 2019-03-27 19:39:22,408 - decoder.activations = ['tanh', 'linear']\n",
      "INFO - 2019-03-27 19:39:22,408 - decoder.dropout = 0.0\n",
      "INFO - 2019-03-27 19:39:22,411 - instantiating class <class 'PatientVec.models.modules.Predictor.Predictor'> from params {'type': 'binary'} and extras {}\n",
      "INFO - 2019-03-27 19:39:22,411 - predictor.type = binary\n",
      "INFO - 2019-03-27 19:39:22,412 - instantiating class <class 'PatientVec.models.modules.Predictor.Binary_Predictor'> from params {} and extras {}\n",
      "INFO - 2019-03-27 19:39:22,413 - predictor.replicate = False\n",
      "INFO - 2019-03-27 19:39:22,413 - predictor.alpha = 0.5\n"
     ]
    },
    {
     "name": "stdout",
     "output_type": "stream",
     "text": [
      "Model not saved on  roc_auc 0.5870503815865487\n",
      "0.7152999483109854 deque([0.6946547477880142, 0.6677764602146614, 0.5870503815865487], maxlen=3)\n",
      "\n",
      "Setting Embedding\n"
     ]
    },
    {
     "data": {
      "application/vnd.jupyter.widget-view+json": {
       "model_id": "eea6cdcb89de484a9fcd476852a5edee",
       "version_major": 2,
       "version_minor": 0
      },
      "text/plain": [
       "HBox(children=(IntProgress(value=0, max=20), HTML(value='')))"
      ]
     },
     "metadata": {},
     "output_type": "display_data"
    },
    {
     "name": "stdout",
     "output_type": "stream",
     "text": [
      "\n",
      "{'accuracy': 0.7255520504731862, 'roc_auc': 0.7152999483109854, 'pr_auc': 0.20245951511588328}\n"
     ]
    },
    {
     "data": {
      "text/html": [
       "<div>\n",
       "<style scoped>\n",
       "    .dataframe tbody tr th:only-of-type {\n",
       "        vertical-align: middle;\n",
       "    }\n",
       "\n",
       "    .dataframe tbody tr th {\n",
       "        vertical-align: top;\n",
       "    }\n",
       "\n",
       "    .dataframe thead th {\n",
       "        text-align: right;\n",
       "    }\n",
       "</style>\n",
       "<table border=\"1\" class=\"dataframe\">\n",
       "  <thead>\n",
       "    <tr style=\"text-align: right;\">\n",
       "      <th></th>\n",
       "      <th>0.0</th>\n",
       "      <th>1.0</th>\n",
       "      <th>micro avg</th>\n",
       "      <th>macro avg</th>\n",
       "      <th>weighted avg</th>\n",
       "    </tr>\n",
       "  </thead>\n",
       "  <tbody>\n",
       "    <tr>\n",
       "      <th>f1-score</th>\n",
       "      <td>0.831</td>\n",
       "      <td>0.269</td>\n",
       "      <td>0.726</td>\n",
       "      <td>0.550</td>\n",
       "      <td>0.781</td>\n",
       "    </tr>\n",
       "    <tr>\n",
       "      <th>precision</th>\n",
       "      <td>0.945</td>\n",
       "      <td>0.177</td>\n",
       "      <td>0.726</td>\n",
       "      <td>0.561</td>\n",
       "      <td>0.876</td>\n",
       "    </tr>\n",
       "    <tr>\n",
       "      <th>recall</th>\n",
       "      <td>0.742</td>\n",
       "      <td>0.561</td>\n",
       "      <td>0.726</td>\n",
       "      <td>0.652</td>\n",
       "      <td>0.726</td>\n",
       "    </tr>\n",
       "    <tr>\n",
       "      <th>support</th>\n",
       "      <td>577.000</td>\n",
       "      <td>57.000</td>\n",
       "      <td>634.000</td>\n",
       "      <td>634.000</td>\n",
       "      <td>634.000</td>\n",
       "    </tr>\n",
       "  </tbody>\n",
       "</table>\n",
       "</div>"
      ],
      "text/plain": [
       "               0.0     1.0  micro avg  macro avg  weighted avg\n",
       "f1-score     0.831   0.269      0.726      0.550         0.781\n",
       "precision    0.945   0.177      0.726      0.561         0.876\n",
       "recall       0.742   0.561      0.726      0.652         0.726\n",
       "support    577.000  57.000    634.000    634.000       634.000"
      ]
     },
     "metadata": {},
     "output_type": "display_data"
    },
    {
     "data": {
      "application/vnd.jupyter.widget-view+json": {
       "model_id": "2e74d3559c5a4244b029e641a1d43a43",
       "version_major": 2,
       "version_minor": 0
      },
      "text/plain": [
       "HBox(children=(IntProgress(value=0, max=20), HTML(value='')))"
      ]
     },
     "metadata": {},
     "output_type": "display_data"
    },
    {
     "name": "stdout",
     "output_type": "stream",
     "text": [
      "\n",
      "{'accuracy': 0.6719492868462758, 'roc_auc': 0.5074328187535736, 'pr_auc': 0.08458988738388531}\n"
     ]
    },
    {
     "data": {
      "text/html": [
       "<div>\n",
       "<style scoped>\n",
       "    .dataframe tbody tr th:only-of-type {\n",
       "        vertical-align: middle;\n",
       "    }\n",
       "\n",
       "    .dataframe tbody tr th {\n",
       "        vertical-align: top;\n",
       "    }\n",
       "\n",
       "    .dataframe thead th {\n",
       "        text-align: right;\n",
       "    }\n",
       "</style>\n",
       "<table border=\"1\" class=\"dataframe\">\n",
       "  <thead>\n",
       "    <tr style=\"text-align: right;\">\n",
       "      <th></th>\n",
       "      <th>0.0</th>\n",
       "      <th>1.0</th>\n",
       "      <th>micro avg</th>\n",
       "      <th>macro avg</th>\n",
       "      <th>weighted avg</th>\n",
       "    </tr>\n",
       "  </thead>\n",
       "  <tbody>\n",
       "    <tr>\n",
       "      <th>f1-score</th>\n",
       "      <td>0.799</td>\n",
       "      <td>0.104</td>\n",
       "      <td>0.672</td>\n",
       "      <td>0.452</td>\n",
       "      <td>0.746</td>\n",
       "    </tr>\n",
       "    <tr>\n",
       "      <th>precision</th>\n",
       "      <td>0.920</td>\n",
       "      <td>0.066</td>\n",
       "      <td>0.672</td>\n",
       "      <td>0.493</td>\n",
       "      <td>0.855</td>\n",
       "    </tr>\n",
       "    <tr>\n",
       "      <th>recall</th>\n",
       "      <td>0.707</td>\n",
       "      <td>0.250</td>\n",
       "      <td>0.672</td>\n",
       "      <td>0.478</td>\n",
       "      <td>0.672</td>\n",
       "    </tr>\n",
       "    <tr>\n",
       "      <th>support</th>\n",
       "      <td>583.000</td>\n",
       "      <td>48.000</td>\n",
       "      <td>631.000</td>\n",
       "      <td>631.000</td>\n",
       "      <td>631.000</td>\n",
       "    </tr>\n",
       "  </tbody>\n",
       "</table>\n",
       "</div>"
      ],
      "text/plain": [
       "               0.0     1.0  micro avg  macro avg  weighted avg\n",
       "f1-score     0.799   0.104      0.672      0.452         0.746\n",
       "precision    0.920   0.066      0.672      0.493         0.855\n",
       "recall       0.707   0.250      0.672      0.478         0.672\n",
       "support    583.000  48.000    631.000    631.000       631.000"
      ]
     },
     "metadata": {},
     "output_type": "display_data"
    },
    {
     "name": "stderr",
     "output_type": "stream",
     "text": [
      "INFO - 2019-03-27 19:39:47,164 - instantiating class <class 'PatientVec.models.Model.Model'> from params {'type': 'seq_classifier_with_attention', 'embedder': {'type': 'token_embedder', 'vocab_size': 19054, 'embed_size': 200, 'embedding_file': './preprocess/HipSurgery/1_yrs/embedding_matrix.npy'}, 'decoder': {'num_layers': 2, 'hidden_dims': [128, 1], 'activations': ['tanh', 'linear']}, 'predictor': {'type': 'binary'}, 'structured': {'use_structured': False}, 'encoder': {'type': 'lstm', 'hidden_size': 128}, 'attention': {'similarity': {'type': 'additive', 'hidden_size': 128}}} and extras {}\n",
      "INFO - 2019-03-27 19:39:47,165 - type = seq_classifier_with_attention\n",
      "INFO - 2019-03-27 19:39:47,165 - instantiating class <class 'PatientVec.models.modules.Embedder.Embedder'> from params {'type': 'token_embedder', 'vocab_size': 19054, 'embed_size': 200, 'embedding_file': './preprocess/HipSurgery/1_yrs/embedding_matrix.npy'} and extras {}\n",
      "INFO - 2019-03-27 19:39:47,166 - embedder.type = token_embedder\n",
      "INFO - 2019-03-27 19:39:47,167 - instantiating class <class 'PatientVec.models.modules.Embedder.TokenEmbedder'> from params {'vocab_size': 19054, 'embed_size': 200, 'embedding_file': './preprocess/HipSurgery/1_yrs/embedding_matrix.npy'} and extras {}\n",
      "INFO - 2019-03-27 19:39:47,167 - embedder.vocab_size = 19054\n",
      "INFO - 2019-03-27 19:39:47,168 - embedder.embed_size = 200\n",
      "INFO - 2019-03-27 19:39:47,168 - embedder.embedding_file = ./preprocess/HipSurgery/1_yrs/embedding_matrix.npy\n",
      "INFO - 2019-03-27 19:39:47,189 - instantiating class <class 'PatientVec.models.modules.Encoder.Encoder'> from params {'type': 'lstm', 'hidden_size': 128} and extras {'input_size': 200}\n",
      "INFO - 2019-03-27 19:39:47,190 - encoder.type = lstm\n",
      "INFO - 2019-03-27 19:39:47,190 - instantiating class <class 'PatientVec.models.modules.Encoder.wrap_pytorch_rnn.<locals>.BiRNNEncoder'> from params {'hidden_size': 128} and extras {'input_size': 200}\n",
      "INFO - 2019-03-27 19:39:47,191 - encoder.hidden_size = 128\n",
      "INFO - 2019-03-27 19:39:47,195 - instantiating class <class 'PatientVec.models.modules.SelfAttention.SelfAttention'> from params {'similarity': {'type': 'additive', 'hidden_size': 128, 'tensor_1_dim': 256}} and extras {}\n",
      "INFO - 2019-03-27 19:39:47,195 - instantiating class <class 'PatientVec.models.modules.UniSimilarity.UniSimilarity'> from params {'type': 'additive', 'hidden_size': 128, 'tensor_1_dim': 256} and extras {}\n",
      "INFO - 2019-03-27 19:39:47,195 - attention.similarity.type = additive\n",
      "INFO - 2019-03-27 19:39:47,196 - instantiating class <class 'PatientVec.models.modules.UniSimilarity.UniAdditiveSimilarity'> from params {'hidden_size': 128, 'tensor_1_dim': 256} and extras {}\n",
      "INFO - 2019-03-27 19:39:47,197 - attention.similarity.tensor_1_dim = 256\n",
      "INFO - 2019-03-27 19:39:47,197 - attention.similarity.hidden_size = 128\n",
      "INFO - 2019-03-27 19:39:47,198 - attention.similarity.output_size = 1\n",
      "INFO - 2019-03-27 19:39:47,199 - attention.normaliser = softmax\n",
      "INFO - 2019-03-27 19:39:47,200 - decoder.input_dim = 256\n",
      "INFO - 2019-03-27 19:39:47,200 - decoder.num_layers = 2\n",
      "INFO - 2019-03-27 19:39:47,201 - decoder.hidden_dims = [128, 1]\n",
      "INFO - 2019-03-27 19:39:47,201 - decoder.activations = ['tanh', 'linear']\n",
      "INFO - 2019-03-27 19:39:47,202 - decoder.dropout = 0.0\n",
      "INFO - 2019-03-27 19:39:47,204 - instantiating class <class 'PatientVec.models.modules.Predictor.Predictor'> from params {'type': 'binary'} and extras {}\n",
      "INFO - 2019-03-27 19:39:47,204 - predictor.type = binary\n",
      "INFO - 2019-03-27 19:39:47,205 - instantiating class <class 'PatientVec.models.modules.Predictor.Binary_Predictor'> from params {} and extras {}\n",
      "INFO - 2019-03-27 19:39:47,205 - predictor.replicate = False\n",
      "INFO - 2019-03-27 19:39:47,206 - predictor.alpha = 0.5\n"
     ]
    },
    {
     "name": "stdout",
     "output_type": "stream",
     "text": [
      "============================================================================================================================================================================================================================================================================================================\n",
      "{'model': {'type': 'seq_classifier_with_attention', 'embedder': {'type': 'token_embedder', 'vocab_size': 19054, 'embed_size': 200, 'embedding_file': './preprocess/HipSurgery/1_yrs/embedding_matrix.npy'}, 'decoder': {'num_layers': 2, 'hidden_dims': [128, 1], 'activations': ['tanh', 'linear']}, 'predictor': {'type': 'binary'}, 'structured': {'use_structured': False}, 'encoder': {'type': 'lstm', 'hidden_size': 128}, 'attention': {'similarity': {'type': 'additive', 'hidden_size': 128}}}, 'training_config': {'type': 'Adam', 'groups': [('.*', {'lr': 0.001, 'weight_decay': 1e-05})], 'common': {'bsize': 32, 'class_weight': True}}, 'exp_config': {'exp_name': 'HipSurgery_1/Attention/LSTM(hs=128)+Attention(additive)(hs=128)', 'basepath': 'outputs/ts_experiments/n=2000'}}\n",
      "Setting Embedding\n"
     ]
    },
    {
     "data": {
      "application/vnd.jupyter.widget-view+json": {
       "model_id": "8ccd296695254880995e5908ef8865d7",
       "version_major": 2,
       "version_minor": 0
      },
      "text/plain": [
       "HBox(children=(IntProgress(value=0, max=8), HTML(value='')))"
      ]
     },
     "metadata": {},
     "output_type": "display_data"
    },
    {
     "data": {
      "application/vnd.jupyter.widget-view+json": {
       "model_id": "e566217095d7469582a025d75c666d41",
       "version_major": 2,
       "version_minor": 0
      },
      "text/plain": [
       "HBox(children=(IntProgress(value=0, max=63), HTML(value='')))"
      ]
     },
     "metadata": {},
     "output_type": "display_data"
    },
    {
     "data": {
      "application/vnd.jupyter.widget-view+json": {
       "model_id": "0e169cc5700e46bca3a2dadaf5be5aa7",
       "version_major": 2,
       "version_minor": 0
      },
      "text/plain": [
       "HBox(children=(IntProgress(value=0, max=20), HTML(value='')))"
      ]
     },
     "metadata": {},
     "output_type": "display_data"
    },
    {
     "name": "stdout",
     "output_type": "stream",
     "text": [
      "{'accuracy': 0.15772870662460567, 'roc_auc': 0.5453951169083888, 'pr_auc': 0.10474221026611033}\n"
     ]
    },
    {
     "data": {
      "text/html": [
       "<div>\n",
       "<style scoped>\n",
       "    .dataframe tbody tr th:only-of-type {\n",
       "        vertical-align: middle;\n",
       "    }\n",
       "\n",
       "    .dataframe tbody tr th {\n",
       "        vertical-align: top;\n",
       "    }\n",
       "\n",
       "    .dataframe thead th {\n",
       "        text-align: right;\n",
       "    }\n",
       "</style>\n",
       "<table border=\"1\" class=\"dataframe\">\n",
       "  <thead>\n",
       "    <tr style=\"text-align: right;\">\n",
       "      <th></th>\n",
       "      <th>0.0</th>\n",
       "      <th>1.0</th>\n",
       "      <th>micro avg</th>\n",
       "      <th>macro avg</th>\n",
       "      <th>weighted avg</th>\n",
       "    </tr>\n",
       "  </thead>\n",
       "  <tbody>\n",
       "    <tr>\n",
       "      <th>f1-score</th>\n",
       "      <td>0.155</td>\n",
       "      <td>0.160</td>\n",
       "      <td>0.158</td>\n",
       "      <td>0.158</td>\n",
       "      <td>0.156</td>\n",
       "    </tr>\n",
       "    <tr>\n",
       "      <th>precision</th>\n",
       "      <td>0.891</td>\n",
       "      <td>0.088</td>\n",
       "      <td>0.158</td>\n",
       "      <td>0.489</td>\n",
       "      <td>0.819</td>\n",
       "    </tr>\n",
       "    <tr>\n",
       "      <th>recall</th>\n",
       "      <td>0.085</td>\n",
       "      <td>0.895</td>\n",
       "      <td>0.158</td>\n",
       "      <td>0.490</td>\n",
       "      <td>0.158</td>\n",
       "    </tr>\n",
       "    <tr>\n",
       "      <th>support</th>\n",
       "      <td>577.000</td>\n",
       "      <td>57.000</td>\n",
       "      <td>634.000</td>\n",
       "      <td>634.000</td>\n",
       "      <td>634.000</td>\n",
       "    </tr>\n",
       "  </tbody>\n",
       "</table>\n",
       "</div>"
      ],
      "text/plain": [
       "               0.0     1.0  micro avg  macro avg  weighted avg\n",
       "f1-score     0.155   0.160      0.158      0.158         0.156\n",
       "precision    0.891   0.088      0.158      0.489         0.819\n",
       "recall       0.085   0.895      0.158      0.490         0.158\n",
       "support    577.000  57.000    634.000    634.000       634.000"
      ]
     },
     "metadata": {},
     "output_type": "display_data"
    },
    {
     "name": "stdout",
     "output_type": "stream",
     "text": [
      "Model Saved on  roc_auc 0.5453951169083888\n"
     ]
    },
    {
     "data": {
      "application/vnd.jupyter.widget-view+json": {
       "model_id": "6408b1267ad245dd9954e39cf086d878",
       "version_major": 2,
       "version_minor": 0
      },
      "text/plain": [
       "HBox(children=(IntProgress(value=0, max=63), HTML(value='')))"
      ]
     },
     "metadata": {},
     "output_type": "display_data"
    },
    {
     "data": {
      "application/vnd.jupyter.widget-view+json": {
       "model_id": "a23a647fad104d16a743ff236553b1e2",
       "version_major": 2,
       "version_minor": 0
      },
      "text/plain": [
       "HBox(children=(IntProgress(value=0, max=20), HTML(value='')))"
      ]
     },
     "metadata": {},
     "output_type": "display_data"
    },
    {
     "name": "stdout",
     "output_type": "stream",
     "text": [
      "{'accuracy': 0.19558359621451105, 'roc_auc': 0.7031074219343854, 'pr_auc': 0.19588104116773186}\n"
     ]
    },
    {
     "data": {
      "text/html": [
       "<div>\n",
       "<style scoped>\n",
       "    .dataframe tbody tr th:only-of-type {\n",
       "        vertical-align: middle;\n",
       "    }\n",
       "\n",
       "    .dataframe tbody tr th {\n",
       "        vertical-align: top;\n",
       "    }\n",
       "\n",
       "    .dataframe thead th {\n",
       "        text-align: right;\n",
       "    }\n",
       "</style>\n",
       "<table border=\"1\" class=\"dataframe\">\n",
       "  <thead>\n",
       "    <tr style=\"text-align: right;\">\n",
       "      <th></th>\n",
       "      <th>0.0</th>\n",
       "      <th>1.0</th>\n",
       "      <th>micro avg</th>\n",
       "      <th>macro avg</th>\n",
       "      <th>weighted avg</th>\n",
       "    </tr>\n",
       "  </thead>\n",
       "  <tbody>\n",
       "    <tr>\n",
       "      <th>f1-score</th>\n",
       "      <td>0.213</td>\n",
       "      <td>0.177</td>\n",
       "      <td>0.196</td>\n",
       "      <td>0.195</td>\n",
       "      <td>0.210</td>\n",
       "    </tr>\n",
       "    <tr>\n",
       "      <th>precision</th>\n",
       "      <td>0.972</td>\n",
       "      <td>0.098</td>\n",
       "      <td>0.196</td>\n",
       "      <td>0.535</td>\n",
       "      <td>0.893</td>\n",
       "    </tr>\n",
       "    <tr>\n",
       "      <th>recall</th>\n",
       "      <td>0.120</td>\n",
       "      <td>0.965</td>\n",
       "      <td>0.196</td>\n",
       "      <td>0.542</td>\n",
       "      <td>0.196</td>\n",
       "    </tr>\n",
       "    <tr>\n",
       "      <th>support</th>\n",
       "      <td>577.000</td>\n",
       "      <td>57.000</td>\n",
       "      <td>634.000</td>\n",
       "      <td>634.000</td>\n",
       "      <td>634.000</td>\n",
       "    </tr>\n",
       "  </tbody>\n",
       "</table>\n",
       "</div>"
      ],
      "text/plain": [
       "               0.0     1.0  micro avg  macro avg  weighted avg\n",
       "f1-score     0.213   0.177      0.196      0.195         0.210\n",
       "precision    0.972   0.098      0.196      0.535         0.893\n",
       "recall       0.120   0.965      0.196      0.542         0.196\n",
       "support    577.000  57.000    634.000    634.000       634.000"
      ]
     },
     "metadata": {},
     "output_type": "display_data"
    },
    {
     "name": "stdout",
     "output_type": "stream",
     "text": [
      "Model Saved on  roc_auc 0.7031074219343854\n"
     ]
    },
    {
     "data": {
      "application/vnd.jupyter.widget-view+json": {
       "model_id": "30c782acd56d4923a570b7b3e4de98f7",
       "version_major": 2,
       "version_minor": 0
      },
      "text/plain": [
       "HBox(children=(IntProgress(value=0, max=63), HTML(value='')))"
      ]
     },
     "metadata": {},
     "output_type": "display_data"
    },
    {
     "data": {
      "application/vnd.jupyter.widget-view+json": {
       "model_id": "02d68a671b834ed2b07a2003ea81a4ea",
       "version_major": 2,
       "version_minor": 0
      },
      "text/plain": [
       "HBox(children=(IntProgress(value=0, max=20), HTML(value='')))"
      ]
     },
     "metadata": {},
     "output_type": "display_data"
    },
    {
     "name": "stdout",
     "output_type": "stream",
     "text": [
      "{'accuracy': 0.5126182965299685, 'roc_auc': 0.7469518684058499, 'pr_auc': 0.20640533123813115}\n"
     ]
    },
    {
     "data": {
      "text/html": [
       "<div>\n",
       "<style scoped>\n",
       "    .dataframe tbody tr th:only-of-type {\n",
       "        vertical-align: middle;\n",
       "    }\n",
       "\n",
       "    .dataframe tbody tr th {\n",
       "        vertical-align: top;\n",
       "    }\n",
       "\n",
       "    .dataframe thead th {\n",
       "        text-align: right;\n",
       "    }\n",
       "</style>\n",
       "<table border=\"1\" class=\"dataframe\">\n",
       "  <thead>\n",
       "    <tr style=\"text-align: right;\">\n",
       "      <th></th>\n",
       "      <th>0.0</th>\n",
       "      <th>1.0</th>\n",
       "      <th>micro avg</th>\n",
       "      <th>macro avg</th>\n",
       "      <th>weighted avg</th>\n",
       "    </tr>\n",
       "  </thead>\n",
       "  <tbody>\n",
       "    <tr>\n",
       "      <th>f1-score</th>\n",
       "      <td>0.640</td>\n",
       "      <td>0.244</td>\n",
       "      <td>0.513</td>\n",
       "      <td>0.442</td>\n",
       "      <td>0.605</td>\n",
       "    </tr>\n",
       "    <tr>\n",
       "      <th>precision</th>\n",
       "      <td>0.975</td>\n",
       "      <td>0.142</td>\n",
       "      <td>0.513</td>\n",
       "      <td>0.559</td>\n",
       "      <td>0.900</td>\n",
       "    </tr>\n",
       "    <tr>\n",
       "      <th>recall</th>\n",
       "      <td>0.477</td>\n",
       "      <td>0.877</td>\n",
       "      <td>0.513</td>\n",
       "      <td>0.677</td>\n",
       "      <td>0.513</td>\n",
       "    </tr>\n",
       "    <tr>\n",
       "      <th>support</th>\n",
       "      <td>577.000</td>\n",
       "      <td>57.000</td>\n",
       "      <td>634.000</td>\n",
       "      <td>634.000</td>\n",
       "      <td>634.000</td>\n",
       "    </tr>\n",
       "  </tbody>\n",
       "</table>\n",
       "</div>"
      ],
      "text/plain": [
       "               0.0     1.0  micro avg  macro avg  weighted avg\n",
       "f1-score     0.640   0.244      0.513      0.442         0.605\n",
       "precision    0.975   0.142      0.513      0.559         0.900\n",
       "recall       0.477   0.877      0.513      0.677         0.513\n",
       "support    577.000  57.000    634.000    634.000       634.000"
      ]
     },
     "metadata": {},
     "output_type": "display_data"
    },
    {
     "name": "stdout",
     "output_type": "stream",
     "text": [
      "Model Saved on  roc_auc 0.7469518684058499\n"
     ]
    },
    {
     "data": {
      "application/vnd.jupyter.widget-view+json": {
       "model_id": "87e23715627942378450c268449a7b60",
       "version_major": 2,
       "version_minor": 0
      },
      "text/plain": [
       "HBox(children=(IntProgress(value=0, max=63), HTML(value='')))"
      ]
     },
     "metadata": {},
     "output_type": "display_data"
    },
    {
     "data": {
      "application/vnd.jupyter.widget-view+json": {
       "model_id": "19dec3110640433686be9219a1c85e25",
       "version_major": 2,
       "version_minor": 0
      },
      "text/plain": [
       "HBox(children=(IntProgress(value=0, max=20), HTML(value='')))"
      ]
     },
     "metadata": {},
     "output_type": "display_data"
    },
    {
     "name": "stdout",
     "output_type": "stream",
     "text": [
      "{'accuracy': 0.7949526813880127, 'roc_auc': 0.8066070722734044, 'pr_auc': 0.27162363768834996}\n"
     ]
    },
    {
     "data": {
      "text/html": [
       "<div>\n",
       "<style scoped>\n",
       "    .dataframe tbody tr th:only-of-type {\n",
       "        vertical-align: middle;\n",
       "    }\n",
       "\n",
       "    .dataframe tbody tr th {\n",
       "        vertical-align: top;\n",
       "    }\n",
       "\n",
       "    .dataframe thead th {\n",
       "        text-align: right;\n",
       "    }\n",
       "</style>\n",
       "<table border=\"1\" class=\"dataframe\">\n",
       "  <thead>\n",
       "    <tr style=\"text-align: right;\">\n",
       "      <th></th>\n",
       "      <th>0.0</th>\n",
       "      <th>1.0</th>\n",
       "      <th>micro avg</th>\n",
       "      <th>macro avg</th>\n",
       "      <th>weighted avg</th>\n",
       "    </tr>\n",
       "  </thead>\n",
       "  <tbody>\n",
       "    <tr>\n",
       "      <th>f1-score</th>\n",
       "      <td>0.878</td>\n",
       "      <td>0.356</td>\n",
       "      <td>0.795</td>\n",
       "      <td>0.617</td>\n",
       "      <td>0.831</td>\n",
       "    </tr>\n",
       "    <tr>\n",
       "      <th>precision</th>\n",
       "      <td>0.957</td>\n",
       "      <td>0.248</td>\n",
       "      <td>0.795</td>\n",
       "      <td>0.603</td>\n",
       "      <td>0.893</td>\n",
       "    </tr>\n",
       "    <tr>\n",
       "      <th>recall</th>\n",
       "      <td>0.811</td>\n",
       "      <td>0.632</td>\n",
       "      <td>0.795</td>\n",
       "      <td>0.721</td>\n",
       "      <td>0.795</td>\n",
       "    </tr>\n",
       "    <tr>\n",
       "      <th>support</th>\n",
       "      <td>577.000</td>\n",
       "      <td>57.000</td>\n",
       "      <td>634.000</td>\n",
       "      <td>634.000</td>\n",
       "      <td>634.000</td>\n",
       "    </tr>\n",
       "  </tbody>\n",
       "</table>\n",
       "</div>"
      ],
      "text/plain": [
       "               0.0     1.0  micro avg  macro avg  weighted avg\n",
       "f1-score     0.878   0.356      0.795      0.617         0.831\n",
       "precision    0.957   0.248      0.795      0.603         0.893\n",
       "recall       0.811   0.632      0.795      0.721         0.795\n",
       "support    577.000  57.000    634.000    634.000       634.000"
      ]
     },
     "metadata": {},
     "output_type": "display_data"
    },
    {
     "name": "stdout",
     "output_type": "stream",
     "text": [
      "Model Saved on  roc_auc 0.8066070722734044\n"
     ]
    },
    {
     "data": {
      "application/vnd.jupyter.widget-view+json": {
       "model_id": "6174fccac06140ed922e3d8e61e91661",
       "version_major": 2,
       "version_minor": 0
      },
      "text/plain": [
       "HBox(children=(IntProgress(value=0, max=63), HTML(value='')))"
      ]
     },
     "metadata": {},
     "output_type": "display_data"
    },
    {
     "data": {
      "application/vnd.jupyter.widget-view+json": {
       "model_id": "1a30085de591424697aacca592933ba5",
       "version_major": 2,
       "version_minor": 0
      },
      "text/plain": [
       "HBox(children=(IntProgress(value=0, max=20), HTML(value='')))"
      ]
     },
     "metadata": {},
     "output_type": "display_data"
    },
    {
     "name": "stdout",
     "output_type": "stream",
     "text": [
      "{'accuracy': 0.8201892744479495, 'roc_auc': 0.8190732463741676, 'pr_auc': 0.30869128898503206}\n"
     ]
    },
    {
     "data": {
      "text/html": [
       "<div>\n",
       "<style scoped>\n",
       "    .dataframe tbody tr th:only-of-type {\n",
       "        vertical-align: middle;\n",
       "    }\n",
       "\n",
       "    .dataframe tbody tr th {\n",
       "        vertical-align: top;\n",
       "    }\n",
       "\n",
       "    .dataframe thead th {\n",
       "        text-align: right;\n",
       "    }\n",
       "</style>\n",
       "<table border=\"1\" class=\"dataframe\">\n",
       "  <thead>\n",
       "    <tr style=\"text-align: right;\">\n",
       "      <th></th>\n",
       "      <th>0.0</th>\n",
       "      <th>1.0</th>\n",
       "      <th>micro avg</th>\n",
       "      <th>macro avg</th>\n",
       "      <th>weighted avg</th>\n",
       "    </tr>\n",
       "  </thead>\n",
       "  <tbody>\n",
       "    <tr>\n",
       "      <th>f1-score</th>\n",
       "      <td>0.895</td>\n",
       "      <td>0.380</td>\n",
       "      <td>0.82</td>\n",
       "      <td>0.638</td>\n",
       "      <td>0.849</td>\n",
       "    </tr>\n",
       "    <tr>\n",
       "      <th>precision</th>\n",
       "      <td>0.957</td>\n",
       "      <td>0.276</td>\n",
       "      <td>0.82</td>\n",
       "      <td>0.616</td>\n",
       "      <td>0.895</td>\n",
       "    </tr>\n",
       "    <tr>\n",
       "      <th>recall</th>\n",
       "      <td>0.841</td>\n",
       "      <td>0.614</td>\n",
       "      <td>0.82</td>\n",
       "      <td>0.727</td>\n",
       "      <td>0.820</td>\n",
       "    </tr>\n",
       "    <tr>\n",
       "      <th>support</th>\n",
       "      <td>577.000</td>\n",
       "      <td>57.000</td>\n",
       "      <td>634.00</td>\n",
       "      <td>634.000</td>\n",
       "      <td>634.000</td>\n",
       "    </tr>\n",
       "  </tbody>\n",
       "</table>\n",
       "</div>"
      ],
      "text/plain": [
       "               0.0     1.0  micro avg  macro avg  weighted avg\n",
       "f1-score     0.895   0.380       0.82      0.638         0.849\n",
       "precision    0.957   0.276       0.82      0.616         0.895\n",
       "recall       0.841   0.614       0.82      0.727         0.820\n",
       "support    577.000  57.000     634.00    634.000       634.000"
      ]
     },
     "metadata": {},
     "output_type": "display_data"
    },
    {
     "name": "stdout",
     "output_type": "stream",
     "text": [
      "Model Saved on  roc_auc 0.8190732463741676\n"
     ]
    },
    {
     "data": {
      "application/vnd.jupyter.widget-view+json": {
       "model_id": "d9aa3ce9892342389ed68961fdd8c5b0",
       "version_major": 2,
       "version_minor": 0
      },
      "text/plain": [
       "HBox(children=(IntProgress(value=0, max=63), HTML(value='')))"
      ]
     },
     "metadata": {},
     "output_type": "display_data"
    },
    {
     "data": {
      "application/vnd.jupyter.widget-view+json": {
       "model_id": "05ff727a258a4bd18e29cd81ee303713",
       "version_major": 2,
       "version_minor": 0
      },
      "text/plain": [
       "HBox(children=(IntProgress(value=0, max=20), HTML(value='')))"
      ]
     },
     "metadata": {},
     "output_type": "display_data"
    },
    {
     "name": "stdout",
     "output_type": "stream",
     "text": [
      "{'accuracy': 0.7082018927444795, 'roc_auc': 0.8231779622366141, 'pr_auc': 0.337135755430594}\n"
     ]
    },
    {
     "data": {
      "text/html": [
       "<div>\n",
       "<style scoped>\n",
       "    .dataframe tbody tr th:only-of-type {\n",
       "        vertical-align: middle;\n",
       "    }\n",
       "\n",
       "    .dataframe tbody tr th {\n",
       "        vertical-align: top;\n",
       "    }\n",
       "\n",
       "    .dataframe thead th {\n",
       "        text-align: right;\n",
       "    }\n",
       "</style>\n",
       "<table border=\"1\" class=\"dataframe\">\n",
       "  <thead>\n",
       "    <tr style=\"text-align: right;\">\n",
       "      <th></th>\n",
       "      <th>0.0</th>\n",
       "      <th>1.0</th>\n",
       "      <th>micro avg</th>\n",
       "      <th>macro avg</th>\n",
       "      <th>weighted avg</th>\n",
       "    </tr>\n",
       "  </thead>\n",
       "  <tbody>\n",
       "    <tr>\n",
       "      <th>f1-score</th>\n",
       "      <td>0.812</td>\n",
       "      <td>0.346</td>\n",
       "      <td>0.708</td>\n",
       "      <td>0.579</td>\n",
       "      <td>0.770</td>\n",
       "    </tr>\n",
       "    <tr>\n",
       "      <th>precision</th>\n",
       "      <td>0.980</td>\n",
       "      <td>0.217</td>\n",
       "      <td>0.708</td>\n",
       "      <td>0.599</td>\n",
       "      <td>0.912</td>\n",
       "    </tr>\n",
       "    <tr>\n",
       "      <th>recall</th>\n",
       "      <td>0.693</td>\n",
       "      <td>0.860</td>\n",
       "      <td>0.708</td>\n",
       "      <td>0.776</td>\n",
       "      <td>0.708</td>\n",
       "    </tr>\n",
       "    <tr>\n",
       "      <th>support</th>\n",
       "      <td>577.000</td>\n",
       "      <td>57.000</td>\n",
       "      <td>634.000</td>\n",
       "      <td>634.000</td>\n",
       "      <td>634.000</td>\n",
       "    </tr>\n",
       "  </tbody>\n",
       "</table>\n",
       "</div>"
      ],
      "text/plain": [
       "               0.0     1.0  micro avg  macro avg  weighted avg\n",
       "f1-score     0.812   0.346      0.708      0.579         0.770\n",
       "precision    0.980   0.217      0.708      0.599         0.912\n",
       "recall       0.693   0.860      0.708      0.776         0.708\n",
       "support    577.000  57.000    634.000    634.000       634.000"
      ]
     },
     "metadata": {},
     "output_type": "display_data"
    },
    {
     "name": "stdout",
     "output_type": "stream",
     "text": [
      "Model Saved on  roc_auc 0.8231779622366141\n"
     ]
    },
    {
     "data": {
      "application/vnd.jupyter.widget-view+json": {
       "model_id": "1b4f9ad74baf4a82ad23c0e3ad58d405",
       "version_major": 2,
       "version_minor": 0
      },
      "text/plain": [
       "HBox(children=(IntProgress(value=0, max=63), HTML(value='')))"
      ]
     },
     "metadata": {},
     "output_type": "display_data"
    },
    {
     "data": {
      "application/vnd.jupyter.widget-view+json": {
       "model_id": "f7449a6c39b94503b17f81fc21e4803f",
       "version_major": 2,
       "version_minor": 0
      },
      "text/plain": [
       "HBox(children=(IntProgress(value=0, max=20), HTML(value='')))"
      ]
     },
     "metadata": {},
     "output_type": "display_data"
    },
    {
     "name": "stdout",
     "output_type": "stream",
     "text": [
      "{'accuracy': 0.8454258675078864, 'roc_auc': 0.8323299583447352, 'pr_auc': 0.3438501074197435}\n"
     ]
    },
    {
     "data": {
      "text/html": [
       "<div>\n",
       "<style scoped>\n",
       "    .dataframe tbody tr th:only-of-type {\n",
       "        vertical-align: middle;\n",
       "    }\n",
       "\n",
       "    .dataframe tbody tr th {\n",
       "        vertical-align: top;\n",
       "    }\n",
       "\n",
       "    .dataframe thead th {\n",
       "        text-align: right;\n",
       "    }\n",
       "</style>\n",
       "<table border=\"1\" class=\"dataframe\">\n",
       "  <thead>\n",
       "    <tr style=\"text-align: right;\">\n",
       "      <th></th>\n",
       "      <th>0.0</th>\n",
       "      <th>1.0</th>\n",
       "      <th>micro avg</th>\n",
       "      <th>macro avg</th>\n",
       "      <th>weighted avg</th>\n",
       "    </tr>\n",
       "  </thead>\n",
       "  <tbody>\n",
       "    <tr>\n",
       "      <th>f1-score</th>\n",
       "      <td>0.911</td>\n",
       "      <td>0.395</td>\n",
       "      <td>0.845</td>\n",
       "      <td>0.653</td>\n",
       "      <td>0.865</td>\n",
       "    </tr>\n",
       "    <tr>\n",
       "      <th>precision</th>\n",
       "      <td>0.953</td>\n",
       "      <td>0.305</td>\n",
       "      <td>0.845</td>\n",
       "      <td>0.629</td>\n",
       "      <td>0.894</td>\n",
       "    </tr>\n",
       "    <tr>\n",
       "      <th>recall</th>\n",
       "      <td>0.873</td>\n",
       "      <td>0.561</td>\n",
       "      <td>0.845</td>\n",
       "      <td>0.717</td>\n",
       "      <td>0.845</td>\n",
       "    </tr>\n",
       "    <tr>\n",
       "      <th>support</th>\n",
       "      <td>577.000</td>\n",
       "      <td>57.000</td>\n",
       "      <td>634.000</td>\n",
       "      <td>634.000</td>\n",
       "      <td>634.000</td>\n",
       "    </tr>\n",
       "  </tbody>\n",
       "</table>\n",
       "</div>"
      ],
      "text/plain": [
       "               0.0     1.0  micro avg  macro avg  weighted avg\n",
       "f1-score     0.911   0.395      0.845      0.653         0.865\n",
       "precision    0.953   0.305      0.845      0.629         0.894\n",
       "recall       0.873   0.561      0.845      0.717         0.845\n",
       "support    577.000  57.000    634.000    634.000       634.000"
      ]
     },
     "metadata": {},
     "output_type": "display_data"
    },
    {
     "name": "stdout",
     "output_type": "stream",
     "text": [
      "Model Saved on  roc_auc 0.8323299583447352\n"
     ]
    },
    {
     "data": {
      "application/vnd.jupyter.widget-view+json": {
       "model_id": "bb6fe9dd380944d4baf15c932ee042d8",
       "version_major": 2,
       "version_minor": 0
      },
      "text/plain": [
       "HBox(children=(IntProgress(value=0, max=63), HTML(value='')))"
      ]
     },
     "metadata": {},
     "output_type": "display_data"
    },
    {
     "data": {
      "application/vnd.jupyter.widget-view+json": {
       "model_id": "6aceacb9d00b45eb8e09986b17f02ba4",
       "version_major": 2,
       "version_minor": 0
      },
      "text/plain": [
       "HBox(children=(IntProgress(value=0, max=20), HTML(value='')))"
      ]
     },
     "metadata": {},
     "output_type": "display_data"
    },
    {
     "name": "stdout",
     "output_type": "stream",
     "text": [
      "{'accuracy': 0.8769716088328076, 'roc_auc': 0.8120800267566664, 'pr_auc': 0.33505829989198116}\n"
     ]
    },
    {
     "data": {
      "text/html": [
       "<div>\n",
       "<style scoped>\n",
       "    .dataframe tbody tr th:only-of-type {\n",
       "        vertical-align: middle;\n",
       "    }\n",
       "\n",
       "    .dataframe tbody tr th {\n",
       "        vertical-align: top;\n",
       "    }\n",
       "\n",
       "    .dataframe thead th {\n",
       "        text-align: right;\n",
       "    }\n",
       "</style>\n",
       "<table border=\"1\" class=\"dataframe\">\n",
       "  <thead>\n",
       "    <tr style=\"text-align: right;\">\n",
       "      <th></th>\n",
       "      <th>0.0</th>\n",
       "      <th>1.0</th>\n",
       "      <th>micro avg</th>\n",
       "      <th>macro avg</th>\n",
       "      <th>weighted avg</th>\n",
       "    </tr>\n",
       "  </thead>\n",
       "  <tbody>\n",
       "    <tr>\n",
       "      <th>f1-score</th>\n",
       "      <td>0.932</td>\n",
       "      <td>0.391</td>\n",
       "      <td>0.877</td>\n",
       "      <td>0.661</td>\n",
       "      <td>0.883</td>\n",
       "    </tr>\n",
       "    <tr>\n",
       "      <th>precision</th>\n",
       "      <td>0.943</td>\n",
       "      <td>0.352</td>\n",
       "      <td>0.877</td>\n",
       "      <td>0.648</td>\n",
       "      <td>0.890</td>\n",
       "    </tr>\n",
       "    <tr>\n",
       "      <th>recall</th>\n",
       "      <td>0.920</td>\n",
       "      <td>0.439</td>\n",
       "      <td>0.877</td>\n",
       "      <td>0.679</td>\n",
       "      <td>0.877</td>\n",
       "    </tr>\n",
       "    <tr>\n",
       "      <th>support</th>\n",
       "      <td>577.000</td>\n",
       "      <td>57.000</td>\n",
       "      <td>634.000</td>\n",
       "      <td>634.000</td>\n",
       "      <td>634.000</td>\n",
       "    </tr>\n",
       "  </tbody>\n",
       "</table>\n",
       "</div>"
      ],
      "text/plain": [
       "               0.0     1.0  micro avg  macro avg  weighted avg\n",
       "f1-score     0.932   0.391      0.877      0.661         0.883\n",
       "precision    0.943   0.352      0.877      0.648         0.890\n",
       "recall       0.920   0.439      0.877      0.679         0.877\n",
       "support    577.000  57.000    634.000    634.000       634.000"
      ]
     },
     "metadata": {},
     "output_type": "display_data"
    },
    {
     "name": "stderr",
     "output_type": "stream",
     "text": [
      "INFO - 2019-03-27 19:47:08,325 - instantiating class <class 'PatientVec.models.Model.Model'> from params {'type': 'seq_classifier_with_attention', 'embedder': {'type': 'token_embedder', 'vocab_size': 19054, 'embed_size': 200, 'embedding_file': './preprocess/HipSurgery/1_yrs/embedding_matrix.npy'}, 'decoder': {'num_layers': 2, 'hidden_dims': [128, 1], 'activations': ['tanh', 'linear']}, 'predictor': {'type': 'binary'}, 'structured': {'use_structured': False}, 'encoder': {'type': 'lstm', 'hidden_size': 128}, 'attention': {'similarity': {'type': 'additive', 'hidden_size': 128}}} and extras {}\n",
      "INFO - 2019-03-27 19:47:08,326 - type = seq_classifier_with_attention\n",
      "INFO - 2019-03-27 19:47:08,327 - instantiating class <class 'PatientVec.models.modules.Embedder.Embedder'> from params {'type': 'token_embedder', 'vocab_size': 19054, 'embed_size': 200, 'embedding_file': './preprocess/HipSurgery/1_yrs/embedding_matrix.npy'} and extras {}\n",
      "INFO - 2019-03-27 19:47:08,328 - embedder.type = token_embedder\n",
      "INFO - 2019-03-27 19:47:08,328 - instantiating class <class 'PatientVec.models.modules.Embedder.TokenEmbedder'> from params {'vocab_size': 19054, 'embed_size': 200, 'embedding_file': './preprocess/HipSurgery/1_yrs/embedding_matrix.npy'} and extras {}\n",
      "INFO - 2019-03-27 19:47:08,329 - embedder.vocab_size = 19054\n",
      "INFO - 2019-03-27 19:47:08,329 - embedder.embed_size = 200\n",
      "INFO - 2019-03-27 19:47:08,330 - embedder.embedding_file = ./preprocess/HipSurgery/1_yrs/embedding_matrix.npy\n",
      "INFO - 2019-03-27 19:47:08,353 - instantiating class <class 'PatientVec.models.modules.Encoder.Encoder'> from params {'type': 'lstm', 'hidden_size': 128} and extras {'input_size': 200}\n",
      "INFO - 2019-03-27 19:47:08,354 - encoder.type = lstm\n",
      "INFO - 2019-03-27 19:47:08,354 - instantiating class <class 'PatientVec.models.modules.Encoder.wrap_pytorch_rnn.<locals>.BiRNNEncoder'> from params {'hidden_size': 128} and extras {'input_size': 200}\n",
      "INFO - 2019-03-27 19:47:08,355 - encoder.hidden_size = 128\n",
      "INFO - 2019-03-27 19:47:08,358 - instantiating class <class 'PatientVec.models.modules.SelfAttention.SelfAttention'> from params {'similarity': {'type': 'additive', 'hidden_size': 128, 'tensor_1_dim': 256}} and extras {}\n",
      "INFO - 2019-03-27 19:47:08,359 - instantiating class <class 'PatientVec.models.modules.UniSimilarity.UniSimilarity'> from params {'type': 'additive', 'hidden_size': 128, 'tensor_1_dim': 256} and extras {}\n",
      "INFO - 2019-03-27 19:47:08,360 - attention.similarity.type = additive\n",
      "INFO - 2019-03-27 19:47:08,360 - instantiating class <class 'PatientVec.models.modules.UniSimilarity.UniAdditiveSimilarity'> from params {'hidden_size': 128, 'tensor_1_dim': 256} and extras {}\n",
      "INFO - 2019-03-27 19:47:08,361 - attention.similarity.tensor_1_dim = 256\n",
      "INFO - 2019-03-27 19:47:08,361 - attention.similarity.hidden_size = 128\n",
      "INFO - 2019-03-27 19:47:08,362 - attention.similarity.output_size = 1\n",
      "INFO - 2019-03-27 19:47:08,364 - attention.normaliser = softmax\n",
      "INFO - 2019-03-27 19:47:08,365 - decoder.input_dim = 256\n",
      "INFO - 2019-03-27 19:47:08,366 - decoder.num_layers = 2\n",
      "INFO - 2019-03-27 19:47:08,366 - decoder.hidden_dims = [128, 1]\n",
      "INFO - 2019-03-27 19:47:08,367 - decoder.activations = ['tanh', 'linear']\n",
      "INFO - 2019-03-27 19:47:08,367 - decoder.dropout = 0.0\n",
      "INFO - 2019-03-27 19:47:08,369 - instantiating class <class 'PatientVec.models.modules.Predictor.Predictor'> from params {'type': 'binary'} and extras {}\n",
      "INFO - 2019-03-27 19:47:08,370 - predictor.type = binary\n",
      "INFO - 2019-03-27 19:47:08,370 - instantiating class <class 'PatientVec.models.modules.Predictor.Binary_Predictor'> from params {} and extras {}\n",
      "INFO - 2019-03-27 19:47:08,371 - predictor.replicate = False\n",
      "INFO - 2019-03-27 19:47:08,371 - predictor.alpha = 0.5\n"
     ]
    },
    {
     "name": "stdout",
     "output_type": "stream",
     "text": [
      "Model not saved on  roc_auc 0.8120800267566664\n",
      "\n",
      "Setting Embedding\n"
     ]
    },
    {
     "data": {
      "application/vnd.jupyter.widget-view+json": {
       "model_id": "448bc14562c845ebafffcb93f3a38262",
       "version_major": 2,
       "version_minor": 0
      },
      "text/plain": [
       "HBox(children=(IntProgress(value=0, max=20), HTML(value='')))"
      ]
     },
     "metadata": {},
     "output_type": "display_data"
    },
    {
     "name": "stdout",
     "output_type": "stream",
     "text": [
      "\n",
      "{'accuracy': 0.8454258675078864, 'roc_auc': 0.8323299583447352, 'pr_auc': 0.3438501074197435}\n"
     ]
    },
    {
     "data": {
      "text/html": [
       "<div>\n",
       "<style scoped>\n",
       "    .dataframe tbody tr th:only-of-type {\n",
       "        vertical-align: middle;\n",
       "    }\n",
       "\n",
       "    .dataframe tbody tr th {\n",
       "        vertical-align: top;\n",
       "    }\n",
       "\n",
       "    .dataframe thead th {\n",
       "        text-align: right;\n",
       "    }\n",
       "</style>\n",
       "<table border=\"1\" class=\"dataframe\">\n",
       "  <thead>\n",
       "    <tr style=\"text-align: right;\">\n",
       "      <th></th>\n",
       "      <th>0.0</th>\n",
       "      <th>1.0</th>\n",
       "      <th>micro avg</th>\n",
       "      <th>macro avg</th>\n",
       "      <th>weighted avg</th>\n",
       "    </tr>\n",
       "  </thead>\n",
       "  <tbody>\n",
       "    <tr>\n",
       "      <th>f1-score</th>\n",
       "      <td>0.911</td>\n",
       "      <td>0.395</td>\n",
       "      <td>0.845</td>\n",
       "      <td>0.653</td>\n",
       "      <td>0.865</td>\n",
       "    </tr>\n",
       "    <tr>\n",
       "      <th>precision</th>\n",
       "      <td>0.953</td>\n",
       "      <td>0.305</td>\n",
       "      <td>0.845</td>\n",
       "      <td>0.629</td>\n",
       "      <td>0.894</td>\n",
       "    </tr>\n",
       "    <tr>\n",
       "      <th>recall</th>\n",
       "      <td>0.873</td>\n",
       "      <td>0.561</td>\n",
       "      <td>0.845</td>\n",
       "      <td>0.717</td>\n",
       "      <td>0.845</td>\n",
       "    </tr>\n",
       "    <tr>\n",
       "      <th>support</th>\n",
       "      <td>577.000</td>\n",
       "      <td>57.000</td>\n",
       "      <td>634.000</td>\n",
       "      <td>634.000</td>\n",
       "      <td>634.000</td>\n",
       "    </tr>\n",
       "  </tbody>\n",
       "</table>\n",
       "</div>"
      ],
      "text/plain": [
       "               0.0     1.0  micro avg  macro avg  weighted avg\n",
       "f1-score     0.911   0.395      0.845      0.653         0.865\n",
       "precision    0.953   0.305      0.845      0.629         0.894\n",
       "recall       0.873   0.561      0.845      0.717         0.845\n",
       "support    577.000  57.000    634.000    634.000       634.000"
      ]
     },
     "metadata": {},
     "output_type": "display_data"
    },
    {
     "data": {
      "application/vnd.jupyter.widget-view+json": {
       "model_id": "5f2634f544b84f089b812b12cbcc7b21",
       "version_major": 2,
       "version_minor": 0
      },
      "text/plain": [
       "HBox(children=(IntProgress(value=0, max=20), HTML(value='')))"
      ]
     },
     "metadata": {},
     "output_type": "display_data"
    },
    {
     "name": "stdout",
     "output_type": "stream",
     "text": [
      "\n",
      "{'accuracy': 0.8526148969889065, 'roc_auc': 0.8425350200114351, 'pr_auc': 0.3408476660267749}\n"
     ]
    },
    {
     "data": {
      "text/html": [
       "<div>\n",
       "<style scoped>\n",
       "    .dataframe tbody tr th:only-of-type {\n",
       "        vertical-align: middle;\n",
       "    }\n",
       "\n",
       "    .dataframe tbody tr th {\n",
       "        vertical-align: top;\n",
       "    }\n",
       "\n",
       "    .dataframe thead th {\n",
       "        text-align: right;\n",
       "    }\n",
       "</style>\n",
       "<table border=\"1\" class=\"dataframe\">\n",
       "  <thead>\n",
       "    <tr style=\"text-align: right;\">\n",
       "      <th></th>\n",
       "      <th>0.0</th>\n",
       "      <th>1.0</th>\n",
       "      <th>micro avg</th>\n",
       "      <th>macro avg</th>\n",
       "      <th>weighted avg</th>\n",
       "    </tr>\n",
       "  </thead>\n",
       "  <tbody>\n",
       "    <tr>\n",
       "      <th>f1-score</th>\n",
       "      <td>0.916</td>\n",
       "      <td>0.408</td>\n",
       "      <td>0.853</td>\n",
       "      <td>0.662</td>\n",
       "      <td>0.877</td>\n",
       "    </tr>\n",
       "    <tr>\n",
       "      <th>precision</th>\n",
       "      <td>0.969</td>\n",
       "      <td>0.294</td>\n",
       "      <td>0.853</td>\n",
       "      <td>0.631</td>\n",
       "      <td>0.918</td>\n",
       "    </tr>\n",
       "    <tr>\n",
       "      <th>recall</th>\n",
       "      <td>0.868</td>\n",
       "      <td>0.667</td>\n",
       "      <td>0.853</td>\n",
       "      <td>0.767</td>\n",
       "      <td>0.853</td>\n",
       "    </tr>\n",
       "    <tr>\n",
       "      <th>support</th>\n",
       "      <td>583.000</td>\n",
       "      <td>48.000</td>\n",
       "      <td>631.000</td>\n",
       "      <td>631.000</td>\n",
       "      <td>631.000</td>\n",
       "    </tr>\n",
       "  </tbody>\n",
       "</table>\n",
       "</div>"
      ],
      "text/plain": [
       "               0.0     1.0  micro avg  macro avg  weighted avg\n",
       "f1-score     0.916   0.408      0.853      0.662         0.877\n",
       "precision    0.969   0.294      0.853      0.631         0.918\n",
       "recall       0.868   0.667      0.853      0.767         0.853\n",
       "support    583.000  48.000    631.000    631.000       631.000"
      ]
     },
     "metadata": {},
     "output_type": "display_data"
    },
    {
     "name": "stdout",
     "output_type": "stream",
     "text": [
      "============================================================================================================================================================================================================================================================================================================\n"
     ]
    },
    {
     "name": "stderr",
     "output_type": "stream",
     "text": [
      "INFO - 2019-03-27 19:47:32,966 - Reading Structured data ...\n",
      "INFO - 2019-03-27 19:47:33,118 - Reading Notes ...\n",
      "INFO - 2019-03-27 19:47:34,026 - Stratifying ...\n"
     ]
    },
    {
     "name": "stdout",
     "output_type": "stream",
     "text": [
      "Pos Percentage [0.10839746]\n"
     ]
    },
    {
     "name": "stderr",
     "output_type": "stream",
     "text": [
      "INFO - 2019-03-27 19:47:34,580 - Maximum Sentence Length 585530.000000 , 90 percentile length 22037.000000 ... \n",
      "INFO - 2019-03-27 19:47:36,055 - Truncated all ...\n",
      "INFO - 2019-03-27 19:47:36,066 - Idxs removed []...\n",
      "INFO - 2019-03-27 19:47:36,216 - Maximum Sentence Length 65362.000000 , 90 percentile length 18471.000000 ... \n"
     ]
    },
    {
     "name": "stdout",
     "output_type": "stream",
     "text": [
      "Pos Percentage [0.08990536]\n"
     ]
    },
    {
     "name": "stderr",
     "output_type": "stream",
     "text": [
      "INFO - 2019-03-27 19:47:36,407 - Truncated all ...\n",
      "INFO - 2019-03-27 19:47:36,409 - Idxs removed []...\n",
      "INFO - 2019-03-27 19:47:36,512 - Maximum Sentence Length 109694.000000 , 90 percentile length 19819.000000 ... \n"
     ]
    },
    {
     "name": "stdout",
     "output_type": "stream",
     "text": [
      "Pos Percentage [0.07606973]\n"
     ]
    },
    {
     "name": "stderr",
     "output_type": "stream",
     "text": [
      "INFO - 2019-03-27 19:47:36,721 - Truncated all ...\n",
      "INFO - 2019-03-27 19:47:36,722 - Idxs removed []...\n",
      "INFO - 2019-03-27 19:47:36,773 - instantiating class <class 'PatientVec.models.Model.Model'> from params {'type': 'seq_classifier', 'embedder': {'type': 'token_embedder', 'vocab_size': 19054, 'embed_size': 200, 'embedding_file': './preprocess/HipSurgery/1_yrs/embedding_matrix.npy'}, 'decoder': {'num_layers': 2, 'hidden_dims': [128, 1], 'activations': ['tanh', 'linear']}, 'predictor': {'type': 'binary'}, 'structured': {'use_structured': False}, 'encoder': {'type': 'average', 'projection': True, 'hidden_size': 256, 'activation': 'relu'}} and extras {}\n",
      "INFO - 2019-03-27 19:47:36,774 - type = seq_classifier\n",
      "INFO - 2019-03-27 19:47:36,774 - instantiating class <class 'PatientVec.models.modules.Embedder.Embedder'> from params {'type': 'token_embedder', 'vocab_size': 19054, 'embed_size': 200, 'embedding_file': './preprocess/HipSurgery/1_yrs/embedding_matrix.npy'} and extras {}\n",
      "INFO - 2019-03-27 19:47:36,775 - embedder.type = token_embedder\n",
      "INFO - 2019-03-27 19:47:36,776 - instantiating class <class 'PatientVec.models.modules.Embedder.TokenEmbedder'> from params {'vocab_size': 19054, 'embed_size': 200, 'embedding_file': './preprocess/HipSurgery/1_yrs/embedding_matrix.npy'} and extras {}\n",
      "INFO - 2019-03-27 19:47:36,776 - embedder.vocab_size = 19054\n",
      "INFO - 2019-03-27 19:47:36,777 - embedder.embed_size = 200\n",
      "INFO - 2019-03-27 19:47:36,778 - embedder.embedding_file = ./preprocess/HipSurgery/1_yrs/embedding_matrix.npy\n",
      "INFO - 2019-03-27 19:47:36,796 - instantiating class <class 'PatientVec.models.modules.Encoder.Encoder'> from params {'type': 'average', 'projection': True, 'hidden_size': 256, 'activation': 'relu'} and extras {'input_size': 200}\n",
      "INFO - 2019-03-27 19:47:36,797 - encoder.type = average\n",
      "INFO - 2019-03-27 19:47:36,797 - instantiating class <class 'PatientVec.models.modules.Encoder.AverageEncoder'> from params {'projection': True, 'hidden_size': 256, 'activation': 'relu'} and extras {'input_size': 200}\n",
      "INFO - 2019-03-27 19:47:36,798 - encoder.projection = True\n",
      "INFO - 2019-03-27 19:47:36,798 - encoder.hidden_size = 256\n",
      "INFO - 2019-03-27 19:47:36,799 - encoder.activation = relu\n",
      "INFO - 2019-03-27 19:47:36,800 - decoder.input_dim = 256\n",
      "INFO - 2019-03-27 19:47:36,801 - decoder.num_layers = 2\n",
      "INFO - 2019-03-27 19:47:36,802 - decoder.hidden_dims = [128, 1]\n",
      "INFO - 2019-03-27 19:47:36,802 - decoder.activations = ['tanh', 'linear']\n",
      "INFO - 2019-03-27 19:47:36,803 - decoder.dropout = 0.0\n",
      "INFO - 2019-03-27 19:47:36,804 - instantiating class <class 'PatientVec.models.modules.Predictor.Predictor'> from params {'type': 'binary'} and extras {}\n",
      "INFO - 2019-03-27 19:47:36,805 - predictor.type = binary\n",
      "INFO - 2019-03-27 19:47:36,805 - instantiating class <class 'PatientVec.models.modules.Predictor.Binary_Predictor'> from params {} and extras {}\n",
      "INFO - 2019-03-27 19:47:36,806 - predictor.replicate = False\n",
      "INFO - 2019-03-27 19:47:36,806 - predictor.alpha = 0.5\n"
     ]
    },
    {
     "name": "stdout",
     "output_type": "stream",
     "text": [
      "{'model': {'type': 'seq_classifier', 'embedder': {'type': 'token_embedder', 'vocab_size': 19054, 'embed_size': 200, 'embedding_file': './preprocess/HipSurgery/1_yrs/embedding_matrix.npy'}, 'decoder': {'num_layers': 2, 'hidden_dims': [128, 1], 'activations': ['tanh', 'linear']}, 'predictor': {'type': 'binary'}, 'structured': {'use_structured': False}, 'encoder': {'type': 'average', 'projection': True, 'hidden_size': 256, 'activation': 'relu'}}, 'training_config': {'type': 'Adam', 'groups': [('.*', {'lr': 0.001, 'weight_decay': 1e-05})], 'common': {'bsize': 32, 'class_weight': True}}, 'exp_config': {'exp_name': 'HipSurgery_1/Basic/Average(hs=256)', 'basepath': 'outputs/ts_experiments/n=2500'}}\n",
      "Setting Embedding\n"
     ]
    },
    {
     "data": {
      "application/vnd.jupyter.widget-view+json": {
       "model_id": "11477a703d824d949d9692fb984dd6f6",
       "version_major": 2,
       "version_minor": 0
      },
      "text/plain": [
       "HBox(children=(IntProgress(value=0, max=8), HTML(value='')))"
      ]
     },
     "metadata": {},
     "output_type": "display_data"
    },
    {
     "data": {
      "application/vnd.jupyter.widget-view+json": {
       "model_id": "5737223df03a4b21a967aeee2b4d4077",
       "version_major": 2,
       "version_minor": 0
      },
      "text/plain": [
       "HBox(children=(IntProgress(value=0, max=79), HTML(value='')))"
      ]
     },
     "metadata": {},
     "output_type": "display_data"
    },
    {
     "data": {
      "application/vnd.jupyter.widget-view+json": {
       "model_id": "dbc0522866af4da2a352fbb5b3d09a94",
       "version_major": 2,
       "version_minor": 0
      },
      "text/plain": [
       "HBox(children=(IntProgress(value=0, max=20), HTML(value='')))"
      ]
     },
     "metadata": {},
     "output_type": "display_data"
    },
    {
     "name": "stdout",
     "output_type": "stream",
     "text": [
      "{'accuracy': 0.9100946372239748, 'roc_auc': 0.5605065523427286, 'pr_auc': 0.13949353278177043}\n"
     ]
    },
    {
     "data": {
      "text/html": [
       "<div>\n",
       "<style scoped>\n",
       "    .dataframe tbody tr th:only-of-type {\n",
       "        vertical-align: middle;\n",
       "    }\n",
       "\n",
       "    .dataframe tbody tr th {\n",
       "        vertical-align: top;\n",
       "    }\n",
       "\n",
       "    .dataframe thead th {\n",
       "        text-align: right;\n",
       "    }\n",
       "</style>\n",
       "<table border=\"1\" class=\"dataframe\">\n",
       "  <thead>\n",
       "    <tr style=\"text-align: right;\">\n",
       "      <th></th>\n",
       "      <th>0.0</th>\n",
       "      <th>1.0</th>\n",
       "      <th>micro avg</th>\n",
       "      <th>macro avg</th>\n",
       "      <th>weighted avg</th>\n",
       "    </tr>\n",
       "  </thead>\n",
       "  <tbody>\n",
       "    <tr>\n",
       "      <th>f1-score</th>\n",
       "      <td>0.953</td>\n",
       "      <td>0.0</td>\n",
       "      <td>0.91</td>\n",
       "      <td>0.476</td>\n",
       "      <td>0.867</td>\n",
       "    </tr>\n",
       "    <tr>\n",
       "      <th>precision</th>\n",
       "      <td>0.910</td>\n",
       "      <td>0.0</td>\n",
       "      <td>0.91</td>\n",
       "      <td>0.455</td>\n",
       "      <td>0.828</td>\n",
       "    </tr>\n",
       "    <tr>\n",
       "      <th>recall</th>\n",
       "      <td>1.000</td>\n",
       "      <td>0.0</td>\n",
       "      <td>0.91</td>\n",
       "      <td>0.500</td>\n",
       "      <td>0.910</td>\n",
       "    </tr>\n",
       "    <tr>\n",
       "      <th>support</th>\n",
       "      <td>577.000</td>\n",
       "      <td>57.0</td>\n",
       "      <td>634.00</td>\n",
       "      <td>634.000</td>\n",
       "      <td>634.000</td>\n",
       "    </tr>\n",
       "  </tbody>\n",
       "</table>\n",
       "</div>"
      ],
      "text/plain": [
       "               0.0   1.0  micro avg  macro avg  weighted avg\n",
       "f1-score     0.953   0.0       0.91      0.476         0.867\n",
       "precision    0.910   0.0       0.91      0.455         0.828\n",
       "recall       1.000   0.0       0.91      0.500         0.910\n",
       "support    577.000  57.0     634.00    634.000       634.000"
      ]
     },
     "metadata": {},
     "output_type": "display_data"
    },
    {
     "name": "stdout",
     "output_type": "stream",
     "text": [
      "Model Saved on  roc_auc 0.5605065523427286\n"
     ]
    },
    {
     "data": {
      "application/vnd.jupyter.widget-view+json": {
       "model_id": "3f24c865c2d24a769a6ab628ec350ae7",
       "version_major": 2,
       "version_minor": 0
      },
      "text/plain": [
       "HBox(children=(IntProgress(value=0, max=79), HTML(value='')))"
      ]
     },
     "metadata": {},
     "output_type": "display_data"
    },
    {
     "data": {
      "application/vnd.jupyter.widget-view+json": {
       "model_id": "dd7bd33d10354750b2c31e791b2cfc75",
       "version_major": 2,
       "version_minor": 0
      },
      "text/plain": [
       "HBox(children=(IntProgress(value=0, max=20), HTML(value='')))"
      ]
     },
     "metadata": {},
     "output_type": "display_data"
    },
    {
     "name": "stdout",
     "output_type": "stream",
     "text": [
      "{'accuracy': 0.21451104100946372, 'roc_auc': 0.7052966037276901, 'pr_auc': 0.21940499949783668}\n"
     ]
    },
    {
     "data": {
      "text/html": [
       "<div>\n",
       "<style scoped>\n",
       "    .dataframe tbody tr th:only-of-type {\n",
       "        vertical-align: middle;\n",
       "    }\n",
       "\n",
       "    .dataframe tbody tr th {\n",
       "        vertical-align: top;\n",
       "    }\n",
       "\n",
       "    .dataframe thead th {\n",
       "        text-align: right;\n",
       "    }\n",
       "</style>\n",
       "<table border=\"1\" class=\"dataframe\">\n",
       "  <thead>\n",
       "    <tr style=\"text-align: right;\">\n",
       "      <th></th>\n",
       "      <th>0.0</th>\n",
       "      <th>1.0</th>\n",
       "      <th>micro avg</th>\n",
       "      <th>macro avg</th>\n",
       "      <th>weighted avg</th>\n",
       "    </tr>\n",
       "  </thead>\n",
       "  <tbody>\n",
       "    <tr>\n",
       "      <th>f1-score</th>\n",
       "      <td>0.243</td>\n",
       "      <td>0.184</td>\n",
       "      <td>0.215</td>\n",
       "      <td>0.213</td>\n",
       "      <td>0.238</td>\n",
       "    </tr>\n",
       "    <tr>\n",
       "      <th>precision</th>\n",
       "      <td>0.988</td>\n",
       "      <td>0.101</td>\n",
       "      <td>0.215</td>\n",
       "      <td>0.544</td>\n",
       "      <td>0.908</td>\n",
       "    </tr>\n",
       "    <tr>\n",
       "      <th>recall</th>\n",
       "      <td>0.139</td>\n",
       "      <td>0.982</td>\n",
       "      <td>0.215</td>\n",
       "      <td>0.561</td>\n",
       "      <td>0.215</td>\n",
       "    </tr>\n",
       "    <tr>\n",
       "      <th>support</th>\n",
       "      <td>577.000</td>\n",
       "      <td>57.000</td>\n",
       "      <td>634.000</td>\n",
       "      <td>634.000</td>\n",
       "      <td>634.000</td>\n",
       "    </tr>\n",
       "  </tbody>\n",
       "</table>\n",
       "</div>"
      ],
      "text/plain": [
       "               0.0     1.0  micro avg  macro avg  weighted avg\n",
       "f1-score     0.243   0.184      0.215      0.213         0.238\n",
       "precision    0.988   0.101      0.215      0.544         0.908\n",
       "recall       0.139   0.982      0.215      0.561         0.215\n",
       "support    577.000  57.000    634.000    634.000       634.000"
      ]
     },
     "metadata": {},
     "output_type": "display_data"
    },
    {
     "name": "stdout",
     "output_type": "stream",
     "text": [
      "Model Saved on  roc_auc 0.7052966037276901\n"
     ]
    },
    {
     "data": {
      "application/vnd.jupyter.widget-view+json": {
       "model_id": "9d4b1899be774fda98a168b406c354b0",
       "version_major": 2,
       "version_minor": 0
      },
      "text/plain": [
       "HBox(children=(IntProgress(value=0, max=79), HTML(value='')))"
      ]
     },
     "metadata": {},
     "output_type": "display_data"
    },
    {
     "data": {
      "application/vnd.jupyter.widget-view+json": {
       "model_id": "16b6b28ec5e24003b13f26a1640f69ff",
       "version_major": 2,
       "version_minor": 0
      },
      "text/plain": [
       "HBox(children=(IntProgress(value=0, max=20), HTML(value='')))"
      ]
     },
     "metadata": {},
     "output_type": "display_data"
    },
    {
     "name": "stdout",
     "output_type": "stream",
     "text": [
      "{'accuracy': 0.8454258675078864, 'roc_auc': 0.7656511295569947, 'pr_auc': 0.3094290118108025}\n"
     ]
    },
    {
     "data": {
      "text/html": [
       "<div>\n",
       "<style scoped>\n",
       "    .dataframe tbody tr th:only-of-type {\n",
       "        vertical-align: middle;\n",
       "    }\n",
       "\n",
       "    .dataframe tbody tr th {\n",
       "        vertical-align: top;\n",
       "    }\n",
       "\n",
       "    .dataframe thead th {\n",
       "        text-align: right;\n",
       "    }\n",
       "</style>\n",
       "<table border=\"1\" class=\"dataframe\">\n",
       "  <thead>\n",
       "    <tr style=\"text-align: right;\">\n",
       "      <th></th>\n",
       "      <th>0.0</th>\n",
       "      <th>1.0</th>\n",
       "      <th>micro avg</th>\n",
       "      <th>macro avg</th>\n",
       "      <th>weighted avg</th>\n",
       "    </tr>\n",
       "  </thead>\n",
       "  <tbody>\n",
       "    <tr>\n",
       "      <th>f1-score</th>\n",
       "      <td>0.913</td>\n",
       "      <td>0.329</td>\n",
       "      <td>0.845</td>\n",
       "      <td>0.621</td>\n",
       "      <td>0.860</td>\n",
       "    </tr>\n",
       "    <tr>\n",
       "      <th>precision</th>\n",
       "      <td>0.939</td>\n",
       "      <td>0.270</td>\n",
       "      <td>0.845</td>\n",
       "      <td>0.605</td>\n",
       "      <td>0.879</td>\n",
       "    </tr>\n",
       "    <tr>\n",
       "      <th>recall</th>\n",
       "      <td>0.887</td>\n",
       "      <td>0.421</td>\n",
       "      <td>0.845</td>\n",
       "      <td>0.654</td>\n",
       "      <td>0.845</td>\n",
       "    </tr>\n",
       "    <tr>\n",
       "      <th>support</th>\n",
       "      <td>577.000</td>\n",
       "      <td>57.000</td>\n",
       "      <td>634.000</td>\n",
       "      <td>634.000</td>\n",
       "      <td>634.000</td>\n",
       "    </tr>\n",
       "  </tbody>\n",
       "</table>\n",
       "</div>"
      ],
      "text/plain": [
       "               0.0     1.0  micro avg  macro avg  weighted avg\n",
       "f1-score     0.913   0.329      0.845      0.621         0.860\n",
       "precision    0.939   0.270      0.845      0.605         0.879\n",
       "recall       0.887   0.421      0.845      0.654         0.845\n",
       "support    577.000  57.000    634.000    634.000       634.000"
      ]
     },
     "metadata": {},
     "output_type": "display_data"
    },
    {
     "name": "stdout",
     "output_type": "stream",
     "text": [
      "Model Saved on  roc_auc 0.7656511295569947\n"
     ]
    },
    {
     "data": {
      "application/vnd.jupyter.widget-view+json": {
       "model_id": "24b77a91eaf24b6aa4114a5fe616cfc8",
       "version_major": 2,
       "version_minor": 0
      },
      "text/plain": [
       "HBox(children=(IntProgress(value=0, max=79), HTML(value='')))"
      ]
     },
     "metadata": {},
     "output_type": "display_data"
    },
    {
     "data": {
      "application/vnd.jupyter.widget-view+json": {
       "model_id": "d34284577faa489e92ad3d94b1c82e43",
       "version_major": 2,
       "version_minor": 0
      },
      "text/plain": [
       "HBox(children=(IntProgress(value=0, max=20), HTML(value='')))"
      ]
     },
     "metadata": {},
     "output_type": "display_data"
    },
    {
     "name": "stdout",
     "output_type": "stream",
     "text": [
      "{'accuracy': 0.8564668769716088, 'roc_auc': 0.789002402018912, 'pr_auc': 0.34161214387435784}\n"
     ]
    },
    {
     "data": {
      "text/html": [
       "<div>\n",
       "<style scoped>\n",
       "    .dataframe tbody tr th:only-of-type {\n",
       "        vertical-align: middle;\n",
       "    }\n",
       "\n",
       "    .dataframe tbody tr th {\n",
       "        vertical-align: top;\n",
       "    }\n",
       "\n",
       "    .dataframe thead th {\n",
       "        text-align: right;\n",
       "    }\n",
       "</style>\n",
       "<table border=\"1\" class=\"dataframe\">\n",
       "  <thead>\n",
       "    <tr style=\"text-align: right;\">\n",
       "      <th></th>\n",
       "      <th>0.0</th>\n",
       "      <th>1.0</th>\n",
       "      <th>micro avg</th>\n",
       "      <th>macro avg</th>\n",
       "      <th>weighted avg</th>\n",
       "    </tr>\n",
       "  </thead>\n",
       "  <tbody>\n",
       "    <tr>\n",
       "      <th>f1-score</th>\n",
       "      <td>0.919</td>\n",
       "      <td>0.381</td>\n",
       "      <td>0.856</td>\n",
       "      <td>0.650</td>\n",
       "      <td>0.870</td>\n",
       "    </tr>\n",
       "    <tr>\n",
       "      <th>precision</th>\n",
       "      <td>0.947</td>\n",
       "      <td>0.311</td>\n",
       "      <td>0.856</td>\n",
       "      <td>0.629</td>\n",
       "      <td>0.890</td>\n",
       "    </tr>\n",
       "    <tr>\n",
       "      <th>recall</th>\n",
       "      <td>0.893</td>\n",
       "      <td>0.491</td>\n",
       "      <td>0.856</td>\n",
       "      <td>0.692</td>\n",
       "      <td>0.856</td>\n",
       "    </tr>\n",
       "    <tr>\n",
       "      <th>support</th>\n",
       "      <td>577.000</td>\n",
       "      <td>57.000</td>\n",
       "      <td>634.000</td>\n",
       "      <td>634.000</td>\n",
       "      <td>634.000</td>\n",
       "    </tr>\n",
       "  </tbody>\n",
       "</table>\n",
       "</div>"
      ],
      "text/plain": [
       "               0.0     1.0  micro avg  macro avg  weighted avg\n",
       "f1-score     0.919   0.381      0.856      0.650         0.870\n",
       "precision    0.947   0.311      0.856      0.629         0.890\n",
       "recall       0.893   0.491      0.856      0.692         0.856\n",
       "support    577.000  57.000    634.000    634.000       634.000"
      ]
     },
     "metadata": {},
     "output_type": "display_data"
    },
    {
     "name": "stdout",
     "output_type": "stream",
     "text": [
      "Model Saved on  roc_auc 0.789002402018912\n"
     ]
    },
    {
     "data": {
      "application/vnd.jupyter.widget-view+json": {
       "model_id": "bb83744cc30141bfb17baab3d2e407ac",
       "version_major": 2,
       "version_minor": 0
      },
      "text/plain": [
       "HBox(children=(IntProgress(value=0, max=79), HTML(value='')))"
      ]
     },
     "metadata": {},
     "output_type": "display_data"
    },
    {
     "data": {
      "application/vnd.jupyter.widget-view+json": {
       "model_id": "2dcf721c66484293acd85b9aaf6c655f",
       "version_major": 2,
       "version_minor": 0
      },
      "text/plain": [
       "HBox(children=(IntProgress(value=0, max=20), HTML(value='')))"
      ]
     },
     "metadata": {},
     "output_type": "display_data"
    },
    {
     "name": "stdout",
     "output_type": "stream",
     "text": [
      "{'accuracy': 0.9069400630914827, 'roc_auc': 0.7953875155827177, 'pr_auc': 0.34782430525854624}\n"
     ]
    },
    {
     "data": {
      "text/html": [
       "<div>\n",
       "<style scoped>\n",
       "    .dataframe tbody tr th:only-of-type {\n",
       "        vertical-align: middle;\n",
       "    }\n",
       "\n",
       "    .dataframe tbody tr th {\n",
       "        vertical-align: top;\n",
       "    }\n",
       "\n",
       "    .dataframe thead th {\n",
       "        text-align: right;\n",
       "    }\n",
       "</style>\n",
       "<table border=\"1\" class=\"dataframe\">\n",
       "  <thead>\n",
       "    <tr style=\"text-align: right;\">\n",
       "      <th></th>\n",
       "      <th>0.0</th>\n",
       "      <th>1.0</th>\n",
       "      <th>micro avg</th>\n",
       "      <th>macro avg</th>\n",
       "      <th>weighted avg</th>\n",
       "    </tr>\n",
       "  </thead>\n",
       "  <tbody>\n",
       "    <tr>\n",
       "      <th>f1-score</th>\n",
       "      <td>0.950</td>\n",
       "      <td>0.404</td>\n",
       "      <td>0.907</td>\n",
       "      <td>0.677</td>\n",
       "      <td>0.900</td>\n",
       "    </tr>\n",
       "    <tr>\n",
       "      <th>precision</th>\n",
       "      <td>0.938</td>\n",
       "      <td>0.476</td>\n",
       "      <td>0.907</td>\n",
       "      <td>0.707</td>\n",
       "      <td>0.896</td>\n",
       "    </tr>\n",
       "    <tr>\n",
       "      <th>recall</th>\n",
       "      <td>0.962</td>\n",
       "      <td>0.351</td>\n",
       "      <td>0.907</td>\n",
       "      <td>0.656</td>\n",
       "      <td>0.907</td>\n",
       "    </tr>\n",
       "    <tr>\n",
       "      <th>support</th>\n",
       "      <td>577.000</td>\n",
       "      <td>57.000</td>\n",
       "      <td>634.000</td>\n",
       "      <td>634.000</td>\n",
       "      <td>634.000</td>\n",
       "    </tr>\n",
       "  </tbody>\n",
       "</table>\n",
       "</div>"
      ],
      "text/plain": [
       "               0.0     1.0  micro avg  macro avg  weighted avg\n",
       "f1-score     0.950   0.404      0.907      0.677         0.900\n",
       "precision    0.938   0.476      0.907      0.707         0.896\n",
       "recall       0.962   0.351      0.907      0.656         0.907\n",
       "support    577.000  57.000    634.000    634.000       634.000"
      ]
     },
     "metadata": {},
     "output_type": "display_data"
    },
    {
     "name": "stdout",
     "output_type": "stream",
     "text": [
      "Model Saved on  roc_auc 0.7953875155827177\n"
     ]
    },
    {
     "data": {
      "application/vnd.jupyter.widget-view+json": {
       "model_id": "c9c4327a47fd4934a72c3025604adf8b",
       "version_major": 2,
       "version_minor": 0
      },
      "text/plain": [
       "HBox(children=(IntProgress(value=0, max=79), HTML(value='')))"
      ]
     },
     "metadata": {},
     "output_type": "display_data"
    },
    {
     "data": {
      "application/vnd.jupyter.widget-view+json": {
       "model_id": "8de679464df441d2b9bdff46014a75ff",
       "version_major": 2,
       "version_minor": 0
      },
      "text/plain": [
       "HBox(children=(IntProgress(value=0, max=20), HTML(value='')))"
      ]
     },
     "metadata": {},
     "output_type": "display_data"
    },
    {
     "name": "stdout",
     "output_type": "stream",
     "text": [
      "{'accuracy': 0.8580441640378549, 'roc_auc': 0.808826659369394, 'pr_auc': 0.3583137824891506}\n"
     ]
    },
    {
     "data": {
      "text/html": [
       "<div>\n",
       "<style scoped>\n",
       "    .dataframe tbody tr th:only-of-type {\n",
       "        vertical-align: middle;\n",
       "    }\n",
       "\n",
       "    .dataframe tbody tr th {\n",
       "        vertical-align: top;\n",
       "    }\n",
       "\n",
       "    .dataframe thead th {\n",
       "        text-align: right;\n",
       "    }\n",
       "</style>\n",
       "<table border=\"1\" class=\"dataframe\">\n",
       "  <thead>\n",
       "    <tr style=\"text-align: right;\">\n",
       "      <th></th>\n",
       "      <th>0.0</th>\n",
       "      <th>1.0</th>\n",
       "      <th>micro avg</th>\n",
       "      <th>macro avg</th>\n",
       "      <th>weighted avg</th>\n",
       "    </tr>\n",
       "  </thead>\n",
       "  <tbody>\n",
       "    <tr>\n",
       "      <th>f1-score</th>\n",
       "      <td>0.919</td>\n",
       "      <td>0.444</td>\n",
       "      <td>0.858</td>\n",
       "      <td>0.682</td>\n",
       "      <td>0.876</td>\n",
       "    </tr>\n",
       "    <tr>\n",
       "      <th>precision</th>\n",
       "      <td>0.960</td>\n",
       "      <td>0.343</td>\n",
       "      <td>0.858</td>\n",
       "      <td>0.652</td>\n",
       "      <td>0.905</td>\n",
       "    </tr>\n",
       "    <tr>\n",
       "      <th>recall</th>\n",
       "      <td>0.880</td>\n",
       "      <td>0.632</td>\n",
       "      <td>0.858</td>\n",
       "      <td>0.756</td>\n",
       "      <td>0.858</td>\n",
       "    </tr>\n",
       "    <tr>\n",
       "      <th>support</th>\n",
       "      <td>577.000</td>\n",
       "      <td>57.000</td>\n",
       "      <td>634.000</td>\n",
       "      <td>634.000</td>\n",
       "      <td>634.000</td>\n",
       "    </tr>\n",
       "  </tbody>\n",
       "</table>\n",
       "</div>"
      ],
      "text/plain": [
       "               0.0     1.0  micro avg  macro avg  weighted avg\n",
       "f1-score     0.919   0.444      0.858      0.682         0.876\n",
       "precision    0.960   0.343      0.858      0.652         0.905\n",
       "recall       0.880   0.632      0.858      0.756         0.858\n",
       "support    577.000  57.000    634.000    634.000       634.000"
      ]
     },
     "metadata": {},
     "output_type": "display_data"
    },
    {
     "name": "stdout",
     "output_type": "stream",
     "text": [
      "Model Saved on  roc_auc 0.808826659369394\n"
     ]
    },
    {
     "data": {
      "application/vnd.jupyter.widget-view+json": {
       "model_id": "23c606809e0e4182bb6c27e556735f3e",
       "version_major": 2,
       "version_minor": 0
      },
      "text/plain": [
       "HBox(children=(IntProgress(value=0, max=79), HTML(value='')))"
      ]
     },
     "metadata": {},
     "output_type": "display_data"
    },
    {
     "data": {
      "application/vnd.jupyter.widget-view+json": {
       "model_id": "874a05010b264be483bbb24675027967",
       "version_major": 2,
       "version_minor": 0
      },
      "text/plain": [
       "HBox(children=(IntProgress(value=0, max=20), HTML(value='')))"
      ]
     },
     "metadata": {},
     "output_type": "display_data"
    },
    {
     "name": "stdout",
     "output_type": "stream",
     "text": [
      "{'accuracy': 0.9022082018927445, 'roc_auc': 0.8030800571619691, 'pr_auc': 0.36437841653991365}\n"
     ]
    },
    {
     "data": {
      "text/html": [
       "<div>\n",
       "<style scoped>\n",
       "    .dataframe tbody tr th:only-of-type {\n",
       "        vertical-align: middle;\n",
       "    }\n",
       "\n",
       "    .dataframe tbody tr th {\n",
       "        vertical-align: top;\n",
       "    }\n",
       "\n",
       "    .dataframe thead th {\n",
       "        text-align: right;\n",
       "    }\n",
       "</style>\n",
       "<table border=\"1\" class=\"dataframe\">\n",
       "  <thead>\n",
       "    <tr style=\"text-align: right;\">\n",
       "      <th></th>\n",
       "      <th>0.0</th>\n",
       "      <th>1.0</th>\n",
       "      <th>micro avg</th>\n",
       "      <th>macro avg</th>\n",
       "      <th>weighted avg</th>\n",
       "    </tr>\n",
       "  </thead>\n",
       "  <tbody>\n",
       "    <tr>\n",
       "      <th>f1-score</th>\n",
       "      <td>0.947</td>\n",
       "      <td>0.367</td>\n",
       "      <td>0.902</td>\n",
       "      <td>0.657</td>\n",
       "      <td>0.895</td>\n",
       "    </tr>\n",
       "    <tr>\n",
       "      <th>precision</th>\n",
       "      <td>0.934</td>\n",
       "      <td>0.439</td>\n",
       "      <td>0.902</td>\n",
       "      <td>0.687</td>\n",
       "      <td>0.890</td>\n",
       "    </tr>\n",
       "    <tr>\n",
       "      <th>recall</th>\n",
       "      <td>0.960</td>\n",
       "      <td>0.316</td>\n",
       "      <td>0.902</td>\n",
       "      <td>0.638</td>\n",
       "      <td>0.902</td>\n",
       "    </tr>\n",
       "    <tr>\n",
       "      <th>support</th>\n",
       "      <td>577.000</td>\n",
       "      <td>57.000</td>\n",
       "      <td>634.000</td>\n",
       "      <td>634.000</td>\n",
       "      <td>634.000</td>\n",
       "    </tr>\n",
       "  </tbody>\n",
       "</table>\n",
       "</div>"
      ],
      "text/plain": [
       "               0.0     1.0  micro avg  macro avg  weighted avg\n",
       "f1-score     0.947   0.367      0.902      0.657         0.895\n",
       "precision    0.934   0.439      0.902      0.687         0.890\n",
       "recall       0.960   0.316      0.902      0.638         0.902\n",
       "support    577.000  57.000    634.000    634.000       634.000"
      ]
     },
     "metadata": {},
     "output_type": "display_data"
    },
    {
     "name": "stdout",
     "output_type": "stream",
     "text": [
      "Model not saved on  roc_auc 0.8030800571619691\n"
     ]
    },
    {
     "data": {
      "application/vnd.jupyter.widget-view+json": {
       "model_id": "833eb6905e41432589a21469882c2aee",
       "version_major": 2,
       "version_minor": 0
      },
      "text/plain": [
       "HBox(children=(IntProgress(value=0, max=79), HTML(value='')))"
      ]
     },
     "metadata": {},
     "output_type": "display_data"
    },
    {
     "data": {
      "application/vnd.jupyter.widget-view+json": {
       "model_id": "e9da5490e9154644aec94de30e77779b",
       "version_major": 2,
       "version_minor": 0
      },
      "text/plain": [
       "HBox(children=(IntProgress(value=0, max=20), HTML(value='')))"
      ]
     },
     "metadata": {},
     "output_type": "display_data"
    },
    {
     "name": "stdout",
     "output_type": "stream",
     "text": [
      "{'accuracy': 0.8974763406940063, 'roc_auc': 0.8101644926875247, 'pr_auc': 0.3754263708341872}\n"
     ]
    },
    {
     "data": {
      "text/html": [
       "<div>\n",
       "<style scoped>\n",
       "    .dataframe tbody tr th:only-of-type {\n",
       "        vertical-align: middle;\n",
       "    }\n",
       "\n",
       "    .dataframe tbody tr th {\n",
       "        vertical-align: top;\n",
       "    }\n",
       "\n",
       "    .dataframe thead th {\n",
       "        text-align: right;\n",
       "    }\n",
       "</style>\n",
       "<table border=\"1\" class=\"dataframe\">\n",
       "  <thead>\n",
       "    <tr style=\"text-align: right;\">\n",
       "      <th></th>\n",
       "      <th>0.0</th>\n",
       "      <th>1.0</th>\n",
       "      <th>micro avg</th>\n",
       "      <th>macro avg</th>\n",
       "      <th>weighted avg</th>\n",
       "    </tr>\n",
       "  </thead>\n",
       "  <tbody>\n",
       "    <tr>\n",
       "      <th>f1-score</th>\n",
       "      <td>0.944</td>\n",
       "      <td>0.381</td>\n",
       "      <td>0.897</td>\n",
       "      <td>0.663</td>\n",
       "      <td>0.893</td>\n",
       "    </tr>\n",
       "    <tr>\n",
       "      <th>precision</th>\n",
       "      <td>0.937</td>\n",
       "      <td>0.417</td>\n",
       "      <td>0.897</td>\n",
       "      <td>0.677</td>\n",
       "      <td>0.890</td>\n",
       "    </tr>\n",
       "    <tr>\n",
       "      <th>recall</th>\n",
       "      <td>0.951</td>\n",
       "      <td>0.351</td>\n",
       "      <td>0.897</td>\n",
       "      <td>0.651</td>\n",
       "      <td>0.897</td>\n",
       "    </tr>\n",
       "    <tr>\n",
       "      <th>support</th>\n",
       "      <td>577.000</td>\n",
       "      <td>57.000</td>\n",
       "      <td>634.000</td>\n",
       "      <td>634.000</td>\n",
       "      <td>634.000</td>\n",
       "    </tr>\n",
       "  </tbody>\n",
       "</table>\n",
       "</div>"
      ],
      "text/plain": [
       "               0.0     1.0  micro avg  macro avg  weighted avg\n",
       "f1-score     0.944   0.381      0.897      0.663         0.893\n",
       "precision    0.937   0.417      0.897      0.677         0.890\n",
       "recall       0.951   0.351      0.897      0.651         0.897\n",
       "support    577.000  57.000    634.000    634.000       634.000"
      ]
     },
     "metadata": {},
     "output_type": "display_data"
    },
    {
     "name": "stderr",
     "output_type": "stream",
     "text": [
      "INFO - 2019-03-27 19:48:42,017 - instantiating class <class 'PatientVec.models.Model.Model'> from params {'type': 'seq_classifier', 'embedder': {'type': 'token_embedder', 'vocab_size': 19054, 'embed_size': 200, 'embedding_file': './preprocess/HipSurgery/1_yrs/embedding_matrix.npy'}, 'decoder': {'num_layers': 2, 'hidden_dims': [128, 1], 'activations': ['tanh', 'linear']}, 'predictor': {'type': 'binary'}, 'structured': {'use_structured': False}, 'encoder': {'type': 'average', 'projection': True, 'hidden_size': 256, 'activation': 'relu'}} and extras {}\n",
      "INFO - 2019-03-27 19:48:42,018 - type = seq_classifier\n",
      "INFO - 2019-03-27 19:48:42,019 - instantiating class <class 'PatientVec.models.modules.Embedder.Embedder'> from params {'type': 'token_embedder', 'vocab_size': 19054, 'embed_size': 200, 'embedding_file': './preprocess/HipSurgery/1_yrs/embedding_matrix.npy'} and extras {}\n",
      "INFO - 2019-03-27 19:48:42,019 - embedder.type = token_embedder\n",
      "INFO - 2019-03-27 19:48:42,020 - instantiating class <class 'PatientVec.models.modules.Embedder.TokenEmbedder'> from params {'vocab_size': 19054, 'embed_size': 200, 'embedding_file': './preprocess/HipSurgery/1_yrs/embedding_matrix.npy'} and extras {}\n",
      "INFO - 2019-03-27 19:48:42,020 - embedder.vocab_size = 19054\n",
      "INFO - 2019-03-27 19:48:42,021 - embedder.embed_size = 200\n",
      "INFO - 2019-03-27 19:48:42,022 - embedder.embedding_file = ./preprocess/HipSurgery/1_yrs/embedding_matrix.npy\n"
     ]
    },
    {
     "name": "stdout",
     "output_type": "stream",
     "text": [
      "Model Saved on  roc_auc 0.8101644926875247\n",
      "\n"
     ]
    },
    {
     "name": "stderr",
     "output_type": "stream",
     "text": [
      "INFO - 2019-03-27 19:48:42,041 - instantiating class <class 'PatientVec.models.modules.Encoder.Encoder'> from params {'type': 'average', 'projection': True, 'hidden_size': 256, 'activation': 'relu'} and extras {'input_size': 200}\n",
      "INFO - 2019-03-27 19:48:42,041 - encoder.type = average\n",
      "INFO - 2019-03-27 19:48:42,042 - instantiating class <class 'PatientVec.models.modules.Encoder.AverageEncoder'> from params {'projection': True, 'hidden_size': 256, 'activation': 'relu'} and extras {'input_size': 200}\n",
      "INFO - 2019-03-27 19:48:42,043 - encoder.projection = True\n",
      "INFO - 2019-03-27 19:48:42,043 - encoder.hidden_size = 256\n",
      "INFO - 2019-03-27 19:48:42,044 - encoder.activation = relu\n",
      "INFO - 2019-03-27 19:48:42,045 - decoder.input_dim = 256\n",
      "INFO - 2019-03-27 19:48:42,045 - decoder.num_layers = 2\n",
      "INFO - 2019-03-27 19:48:42,046 - decoder.hidden_dims = [128, 1]\n",
      "INFO - 2019-03-27 19:48:42,046 - decoder.activations = ['tanh', 'linear']\n"
     ]
    },
    {
     "name": "stdout",
     "output_type": "stream",
     "text": [
      "Setting Embedding\n"
     ]
    },
    {
     "name": "stderr",
     "output_type": "stream",
     "text": [
      "INFO - 2019-03-27 19:48:42,047 - decoder.dropout = 0.0\n",
      "INFO - 2019-03-27 19:48:42,048 - instantiating class <class 'PatientVec.models.modules.Predictor.Predictor'> from params {'type': 'binary'} and extras {}\n",
      "INFO - 2019-03-27 19:48:42,048 - predictor.type = binary\n",
      "INFO - 2019-03-27 19:48:42,049 - instantiating class <class 'PatientVec.models.modules.Predictor.Binary_Predictor'> from params {} and extras {}\n",
      "INFO - 2019-03-27 19:48:42,050 - predictor.replicate = False\n",
      "INFO - 2019-03-27 19:48:42,050 - predictor.alpha = 0.5\n"
     ]
    },
    {
     "data": {
      "application/vnd.jupyter.widget-view+json": {
       "model_id": "03eaff14adc04b74881df9b61cfd80be",
       "version_major": 2,
       "version_minor": 0
      },
      "text/plain": [
       "HBox(children=(IntProgress(value=0, max=20), HTML(value='')))"
      ]
     },
     "metadata": {},
     "output_type": "display_data"
    },
    {
     "name": "stdout",
     "output_type": "stream",
     "text": [
      "\n",
      "{'accuracy': 0.8974763406940063, 'roc_auc': 0.8101644926875247, 'pr_auc': 0.3754263708341872}\n"
     ]
    },
    {
     "data": {
      "text/html": [
       "<div>\n",
       "<style scoped>\n",
       "    .dataframe tbody tr th:only-of-type {\n",
       "        vertical-align: middle;\n",
       "    }\n",
       "\n",
       "    .dataframe tbody tr th {\n",
       "        vertical-align: top;\n",
       "    }\n",
       "\n",
       "    .dataframe thead th {\n",
       "        text-align: right;\n",
       "    }\n",
       "</style>\n",
       "<table border=\"1\" class=\"dataframe\">\n",
       "  <thead>\n",
       "    <tr style=\"text-align: right;\">\n",
       "      <th></th>\n",
       "      <th>0.0</th>\n",
       "      <th>1.0</th>\n",
       "      <th>micro avg</th>\n",
       "      <th>macro avg</th>\n",
       "      <th>weighted avg</th>\n",
       "    </tr>\n",
       "  </thead>\n",
       "  <tbody>\n",
       "    <tr>\n",
       "      <th>f1-score</th>\n",
       "      <td>0.944</td>\n",
       "      <td>0.381</td>\n",
       "      <td>0.897</td>\n",
       "      <td>0.663</td>\n",
       "      <td>0.893</td>\n",
       "    </tr>\n",
       "    <tr>\n",
       "      <th>precision</th>\n",
       "      <td>0.937</td>\n",
       "      <td>0.417</td>\n",
       "      <td>0.897</td>\n",
       "      <td>0.677</td>\n",
       "      <td>0.890</td>\n",
       "    </tr>\n",
       "    <tr>\n",
       "      <th>recall</th>\n",
       "      <td>0.951</td>\n",
       "      <td>0.351</td>\n",
       "      <td>0.897</td>\n",
       "      <td>0.651</td>\n",
       "      <td>0.897</td>\n",
       "    </tr>\n",
       "    <tr>\n",
       "      <th>support</th>\n",
       "      <td>577.000</td>\n",
       "      <td>57.000</td>\n",
       "      <td>634.000</td>\n",
       "      <td>634.000</td>\n",
       "      <td>634.000</td>\n",
       "    </tr>\n",
       "  </tbody>\n",
       "</table>\n",
       "</div>"
      ],
      "text/plain": [
       "               0.0     1.0  micro avg  macro avg  weighted avg\n",
       "f1-score     0.944   0.381      0.897      0.663         0.893\n",
       "precision    0.937   0.417      0.897      0.677         0.890\n",
       "recall       0.951   0.351      0.897      0.651         0.897\n",
       "support    577.000  57.000    634.000    634.000       634.000"
      ]
     },
     "metadata": {},
     "output_type": "display_data"
    },
    {
     "data": {
      "application/vnd.jupyter.widget-view+json": {
       "model_id": "57b05cda8e9748718dc4f4164b426d0d",
       "version_major": 2,
       "version_minor": 0
      },
      "text/plain": [
       "HBox(children=(IntProgress(value=0, max=20), HTML(value='')))"
      ]
     },
     "metadata": {},
     "output_type": "display_data"
    },
    {
     "name": "stdout",
     "output_type": "stream",
     "text": [
      "\n",
      "{'accuracy': 0.8795562599049128, 'roc_auc': 0.7944718410520298, 'pr_auc': 0.2239421212052034}\n"
     ]
    },
    {
     "data": {
      "text/html": [
       "<div>\n",
       "<style scoped>\n",
       "    .dataframe tbody tr th:only-of-type {\n",
       "        vertical-align: middle;\n",
       "    }\n",
       "\n",
       "    .dataframe tbody tr th {\n",
       "        vertical-align: top;\n",
       "    }\n",
       "\n",
       "    .dataframe thead th {\n",
       "        text-align: right;\n",
       "    }\n",
       "</style>\n",
       "<table border=\"1\" class=\"dataframe\">\n",
       "  <thead>\n",
       "    <tr style=\"text-align: right;\">\n",
       "      <th></th>\n",
       "      <th>0.0</th>\n",
       "      <th>1.0</th>\n",
       "      <th>micro avg</th>\n",
       "      <th>macro avg</th>\n",
       "      <th>weighted avg</th>\n",
       "    </tr>\n",
       "  </thead>\n",
       "  <tbody>\n",
       "    <tr>\n",
       "      <th>f1-score</th>\n",
       "      <td>0.934</td>\n",
       "      <td>0.255</td>\n",
       "      <td>0.88</td>\n",
       "      <td>0.595</td>\n",
       "      <td>0.883</td>\n",
       "    </tr>\n",
       "    <tr>\n",
       "      <th>precision</th>\n",
       "      <td>0.939</td>\n",
       "      <td>0.241</td>\n",
       "      <td>0.88</td>\n",
       "      <td>0.590</td>\n",
       "      <td>0.886</td>\n",
       "    </tr>\n",
       "    <tr>\n",
       "      <th>recall</th>\n",
       "      <td>0.930</td>\n",
       "      <td>0.271</td>\n",
       "      <td>0.88</td>\n",
       "      <td>0.600</td>\n",
       "      <td>0.880</td>\n",
       "    </tr>\n",
       "    <tr>\n",
       "      <th>support</th>\n",
       "      <td>583.000</td>\n",
       "      <td>48.000</td>\n",
       "      <td>631.00</td>\n",
       "      <td>631.000</td>\n",
       "      <td>631.000</td>\n",
       "    </tr>\n",
       "  </tbody>\n",
       "</table>\n",
       "</div>"
      ],
      "text/plain": [
       "               0.0     1.0  micro avg  macro avg  weighted avg\n",
       "f1-score     0.934   0.255       0.88      0.595         0.883\n",
       "precision    0.939   0.241       0.88      0.590         0.886\n",
       "recall       0.930   0.271       0.88      0.600         0.880\n",
       "support    583.000  48.000     631.00    631.000       631.000"
      ]
     },
     "metadata": {},
     "output_type": "display_data"
    },
    {
     "name": "stderr",
     "output_type": "stream",
     "text": [
      "INFO - 2019-03-27 19:48:45,932 - instantiating class <class 'PatientVec.models.Model.Model'> from params {'type': 'seq_classifier', 'embedder': {'type': 'token_embedder', 'vocab_size': 19054, 'embed_size': 200, 'embedding_file': './preprocess/HipSurgery/1_yrs/embedding_matrix.npy'}, 'decoder': {'num_layers': 2, 'hidden_dims': [128, 1], 'activations': ['tanh', 'linear']}, 'predictor': {'type': 'binary'}, 'structured': {'use_structured': False}, 'encoder': {'type': 'lstm', 'hidden_size': 128}} and extras {}\n",
      "INFO - 2019-03-27 19:48:45,933 - type = seq_classifier\n",
      "INFO - 2019-03-27 19:48:45,934 - instantiating class <class 'PatientVec.models.modules.Embedder.Embedder'> from params {'type': 'token_embedder', 'vocab_size': 19054, 'embed_size': 200, 'embedding_file': './preprocess/HipSurgery/1_yrs/embedding_matrix.npy'} and extras {}\n",
      "INFO - 2019-03-27 19:48:45,935 - embedder.type = token_embedder\n",
      "INFO - 2019-03-27 19:48:45,935 - instantiating class <class 'PatientVec.models.modules.Embedder.TokenEmbedder'> from params {'vocab_size': 19054, 'embed_size': 200, 'embedding_file': './preprocess/HipSurgery/1_yrs/embedding_matrix.npy'} and extras {}\n",
      "INFO - 2019-03-27 19:48:45,936 - embedder.vocab_size = 19054\n",
      "INFO - 2019-03-27 19:48:45,936 - embedder.embed_size = 200\n",
      "INFO - 2019-03-27 19:48:45,937 - embedder.embedding_file = ./preprocess/HipSurgery/1_yrs/embedding_matrix.npy\n",
      "INFO - 2019-03-27 19:48:45,958 - instantiating class <class 'PatientVec.models.modules.Encoder.Encoder'> from params {'type': 'lstm', 'hidden_size': 128} and extras {'input_size': 200}\n",
      "INFO - 2019-03-27 19:48:45,958 - encoder.type = lstm\n",
      "INFO - 2019-03-27 19:48:45,959 - instantiating class <class 'PatientVec.models.modules.Encoder.wrap_pytorch_rnn.<locals>.BiRNNEncoder'> from params {'hidden_size': 128} and extras {'input_size': 200}\n",
      "INFO - 2019-03-27 19:48:45,960 - encoder.hidden_size = 128\n",
      "INFO - 2019-03-27 19:48:45,962 - decoder.input_dim = 256\n",
      "INFO - 2019-03-27 19:48:45,963 - decoder.num_layers = 2\n",
      "INFO - 2019-03-27 19:48:45,963 - decoder.hidden_dims = [128, 1]\n",
      "INFO - 2019-03-27 19:48:45,964 - decoder.activations = ['tanh', 'linear']\n",
      "INFO - 2019-03-27 19:48:45,964 - decoder.dropout = 0.0\n",
      "INFO - 2019-03-27 19:48:45,965 - instantiating class <class 'PatientVec.models.modules.Predictor.Predictor'> from params {'type': 'binary'} and extras {}\n",
      "INFO - 2019-03-27 19:48:45,966 - predictor.type = binary\n",
      "INFO - 2019-03-27 19:48:45,967 - instantiating class <class 'PatientVec.models.modules.Predictor.Binary_Predictor'> from params {} and extras {}\n",
      "INFO - 2019-03-27 19:48:45,967 - predictor.replicate = False\n",
      "INFO - 2019-03-27 19:48:45,968 - predictor.alpha = 0.5\n"
     ]
    },
    {
     "name": "stdout",
     "output_type": "stream",
     "text": [
      "============================================================================================================================================================================================================================================================================================================\n",
      "{'model': {'type': 'seq_classifier', 'embedder': {'type': 'token_embedder', 'vocab_size': 19054, 'embed_size': 200, 'embedding_file': './preprocess/HipSurgery/1_yrs/embedding_matrix.npy'}, 'decoder': {'num_layers': 2, 'hidden_dims': [128, 1], 'activations': ['tanh', 'linear']}, 'predictor': {'type': 'binary'}, 'structured': {'use_structured': False}, 'encoder': {'type': 'lstm', 'hidden_size': 128}}, 'training_config': {'type': 'Adam', 'groups': [('.*', {'lr': 0.001, 'weight_decay': 1e-05})], 'common': {'bsize': 32, 'class_weight': True}}, 'exp_config': {'exp_name': 'HipSurgery_1/Basic/LSTM(hs=128)', 'basepath': 'outputs/ts_experiments/n=2500'}}\n",
      "Setting Embedding\n"
     ]
    },
    {
     "data": {
      "application/vnd.jupyter.widget-view+json": {
       "model_id": "e700d2097b6f49399debde7215386175",
       "version_major": 2,
       "version_minor": 0
      },
      "text/plain": [
       "HBox(children=(IntProgress(value=0, max=8), HTML(value='')))"
      ]
     },
     "metadata": {},
     "output_type": "display_data"
    },
    {
     "data": {
      "application/vnd.jupyter.widget-view+json": {
       "model_id": "43f40f53bf3d48da89f67290f16681ef",
       "version_major": 2,
       "version_minor": 0
      },
      "text/plain": [
       "HBox(children=(IntProgress(value=0, max=79), HTML(value='')))"
      ]
     },
     "metadata": {},
     "output_type": "display_data"
    },
    {
     "data": {
      "application/vnd.jupyter.widget-view+json": {
       "model_id": "c82db12a21ed4a9f9547ca57d68f9d6d",
       "version_major": 2,
       "version_minor": 0
      },
      "text/plain": [
       "HBox(children=(IntProgress(value=0, max=20), HTML(value='')))"
      ]
     },
     "metadata": {},
     "output_type": "display_data"
    },
    {
     "name": "stdout",
     "output_type": "stream",
     "text": [
      "{'accuracy': 0.6813880126182965, 'roc_auc': 0.7114840828240445, 'pr_auc': 0.18160434781471443}\n"
     ]
    },
    {
     "data": {
      "text/html": [
       "<div>\n",
       "<style scoped>\n",
       "    .dataframe tbody tr th:only-of-type {\n",
       "        vertical-align: middle;\n",
       "    }\n",
       "\n",
       "    .dataframe tbody tr th {\n",
       "        vertical-align: top;\n",
       "    }\n",
       "\n",
       "    .dataframe thead th {\n",
       "        text-align: right;\n",
       "    }\n",
       "</style>\n",
       "<table border=\"1\" class=\"dataframe\">\n",
       "  <thead>\n",
       "    <tr style=\"text-align: right;\">\n",
       "      <th></th>\n",
       "      <th>0.0</th>\n",
       "      <th>1.0</th>\n",
       "      <th>micro avg</th>\n",
       "      <th>macro avg</th>\n",
       "      <th>weighted avg</th>\n",
       "    </tr>\n",
       "  </thead>\n",
       "  <tbody>\n",
       "    <tr>\n",
       "      <th>f1-score</th>\n",
       "      <td>0.796</td>\n",
       "      <td>0.279</td>\n",
       "      <td>0.681</td>\n",
       "      <td>0.537</td>\n",
       "      <td>0.749</td>\n",
       "    </tr>\n",
       "    <tr>\n",
       "      <th>precision</th>\n",
       "      <td>0.956</td>\n",
       "      <td>0.175</td>\n",
       "      <td>0.681</td>\n",
       "      <td>0.566</td>\n",
       "      <td>0.886</td>\n",
       "    </tr>\n",
       "    <tr>\n",
       "      <th>recall</th>\n",
       "      <td>0.681</td>\n",
       "      <td>0.684</td>\n",
       "      <td>0.681</td>\n",
       "      <td>0.683</td>\n",
       "      <td>0.681</td>\n",
       "    </tr>\n",
       "    <tr>\n",
       "      <th>support</th>\n",
       "      <td>577.000</td>\n",
       "      <td>57.000</td>\n",
       "      <td>634.000</td>\n",
       "      <td>634.000</td>\n",
       "      <td>634.000</td>\n",
       "    </tr>\n",
       "  </tbody>\n",
       "</table>\n",
       "</div>"
      ],
      "text/plain": [
       "               0.0     1.0  micro avg  macro avg  weighted avg\n",
       "f1-score     0.796   0.279      0.681      0.537         0.749\n",
       "precision    0.956   0.175      0.681      0.566         0.886\n",
       "recall       0.681   0.684      0.681      0.683         0.681\n",
       "support    577.000  57.000    634.000    634.000       634.000"
      ]
     },
     "metadata": {},
     "output_type": "display_data"
    },
    {
     "name": "stdout",
     "output_type": "stream",
     "text": [
      "Model Saved on  roc_auc 0.7114840828240445\n"
     ]
    },
    {
     "data": {
      "application/vnd.jupyter.widget-view+json": {
       "model_id": "7dd9d0019a494933a0510b793257f403",
       "version_major": 2,
       "version_minor": 0
      },
      "text/plain": [
       "HBox(children=(IntProgress(value=0, max=79), HTML(value='')))"
      ]
     },
     "metadata": {},
     "output_type": "display_data"
    },
    {
     "data": {
      "application/vnd.jupyter.widget-view+json": {
       "model_id": "0aa13f2502fd4826a1a6e08533a4ac7a",
       "version_major": 2,
       "version_minor": 0
      },
      "text/plain": [
       "HBox(children=(IntProgress(value=0, max=20), HTML(value='')))"
      ]
     },
     "metadata": {},
     "output_type": "display_data"
    },
    {
     "name": "stdout",
     "output_type": "stream",
     "text": [
      "{'accuracy': 0.526813880126183, 'roc_auc': 0.7301985466265317, 'pr_auc': 0.20943854227018105}\n"
     ]
    },
    {
     "data": {
      "text/html": [
       "<div>\n",
       "<style scoped>\n",
       "    .dataframe tbody tr th:only-of-type {\n",
       "        vertical-align: middle;\n",
       "    }\n",
       "\n",
       "    .dataframe tbody tr th {\n",
       "        vertical-align: top;\n",
       "    }\n",
       "\n",
       "    .dataframe thead th {\n",
       "        text-align: right;\n",
       "    }\n",
       "</style>\n",
       "<table border=\"1\" class=\"dataframe\">\n",
       "  <thead>\n",
       "    <tr style=\"text-align: right;\">\n",
       "      <th></th>\n",
       "      <th>0.0</th>\n",
       "      <th>1.0</th>\n",
       "      <th>micro avg</th>\n",
       "      <th>macro avg</th>\n",
       "      <th>weighted avg</th>\n",
       "    </tr>\n",
       "  </thead>\n",
       "  <tbody>\n",
       "    <tr>\n",
       "      <th>f1-score</th>\n",
       "      <td>0.656</td>\n",
       "      <td>0.242</td>\n",
       "      <td>0.527</td>\n",
       "      <td>0.449</td>\n",
       "      <td>0.619</td>\n",
       "    </tr>\n",
       "    <tr>\n",
       "      <th>precision</th>\n",
       "      <td>0.969</td>\n",
       "      <td>0.142</td>\n",
       "      <td>0.527</td>\n",
       "      <td>0.556</td>\n",
       "      <td>0.895</td>\n",
       "    </tr>\n",
       "    <tr>\n",
       "      <th>recall</th>\n",
       "      <td>0.496</td>\n",
       "      <td>0.842</td>\n",
       "      <td>0.527</td>\n",
       "      <td>0.669</td>\n",
       "      <td>0.527</td>\n",
       "    </tr>\n",
       "    <tr>\n",
       "      <th>support</th>\n",
       "      <td>577.000</td>\n",
       "      <td>57.000</td>\n",
       "      <td>634.000</td>\n",
       "      <td>634.000</td>\n",
       "      <td>634.000</td>\n",
       "    </tr>\n",
       "  </tbody>\n",
       "</table>\n",
       "</div>"
      ],
      "text/plain": [
       "               0.0     1.0  micro avg  macro avg  weighted avg\n",
       "f1-score     0.656   0.242      0.527      0.449         0.619\n",
       "precision    0.969   0.142      0.527      0.556         0.895\n",
       "recall       0.496   0.842      0.527      0.669         0.527\n",
       "support    577.000  57.000    634.000    634.000       634.000"
      ]
     },
     "metadata": {},
     "output_type": "display_data"
    },
    {
     "name": "stdout",
     "output_type": "stream",
     "text": [
      "Model Saved on  roc_auc 0.7301985466265317\n"
     ]
    },
    {
     "data": {
      "application/vnd.jupyter.widget-view+json": {
       "model_id": "1e3780e44ca74eb2a3a0aac8cd5b51bf",
       "version_major": 2,
       "version_minor": 0
      },
      "text/plain": [
       "HBox(children=(IntProgress(value=0, max=79), HTML(value='')))"
      ]
     },
     "metadata": {},
     "output_type": "display_data"
    },
    {
     "data": {
      "application/vnd.jupyter.widget-view+json": {
       "model_id": "f14d52900e694d6a84a537fb17892edb",
       "version_major": 2,
       "version_minor": 0
      },
      "text/plain": [
       "HBox(children=(IntProgress(value=0, max=20), HTML(value='')))"
      ]
     },
     "metadata": {},
     "output_type": "display_data"
    },
    {
     "name": "stdout",
     "output_type": "stream",
     "text": [
      "{'accuracy': 0.6167192429022083, 'roc_auc': 0.6886649031591109, 'pr_auc': 0.1805105041182648}\n"
     ]
    },
    {
     "data": {
      "text/html": [
       "<div>\n",
       "<style scoped>\n",
       "    .dataframe tbody tr th:only-of-type {\n",
       "        vertical-align: middle;\n",
       "    }\n",
       "\n",
       "    .dataframe tbody tr th {\n",
       "        vertical-align: top;\n",
       "    }\n",
       "\n",
       "    .dataframe thead th {\n",
       "        text-align: right;\n",
       "    }\n",
       "</style>\n",
       "<table border=\"1\" class=\"dataframe\">\n",
       "  <thead>\n",
       "    <tr style=\"text-align: right;\">\n",
       "      <th></th>\n",
       "      <th>0.0</th>\n",
       "      <th>1.0</th>\n",
       "      <th>micro avg</th>\n",
       "      <th>macro avg</th>\n",
       "      <th>weighted avg</th>\n",
       "    </tr>\n",
       "  </thead>\n",
       "  <tbody>\n",
       "    <tr>\n",
       "      <th>f1-score</th>\n",
       "      <td>0.744</td>\n",
       "      <td>0.238</td>\n",
       "      <td>0.617</td>\n",
       "      <td>0.491</td>\n",
       "      <td>0.698</td>\n",
       "    </tr>\n",
       "    <tr>\n",
       "      <th>precision</th>\n",
       "      <td>0.949</td>\n",
       "      <td>0.145</td>\n",
       "      <td>0.617</td>\n",
       "      <td>0.547</td>\n",
       "      <td>0.877</td>\n",
       "    </tr>\n",
       "    <tr>\n",
       "      <th>recall</th>\n",
       "      <td>0.612</td>\n",
       "      <td>0.667</td>\n",
       "      <td>0.617</td>\n",
       "      <td>0.639</td>\n",
       "      <td>0.617</td>\n",
       "    </tr>\n",
       "    <tr>\n",
       "      <th>support</th>\n",
       "      <td>577.000</td>\n",
       "      <td>57.000</td>\n",
       "      <td>634.000</td>\n",
       "      <td>634.000</td>\n",
       "      <td>634.000</td>\n",
       "    </tr>\n",
       "  </tbody>\n",
       "</table>\n",
       "</div>"
      ],
      "text/plain": [
       "               0.0     1.0  micro avg  macro avg  weighted avg\n",
       "f1-score     0.744   0.238      0.617      0.491         0.698\n",
       "precision    0.949   0.145      0.617      0.547         0.877\n",
       "recall       0.612   0.667      0.617      0.639         0.617\n",
       "support    577.000  57.000    634.000    634.000       634.000"
      ]
     },
     "metadata": {},
     "output_type": "display_data"
    },
    {
     "name": "stdout",
     "output_type": "stream",
     "text": [
      "Model not saved on  roc_auc 0.6886649031591109\n"
     ]
    },
    {
     "data": {
      "application/vnd.jupyter.widget-view+json": {
       "model_id": "4ad6740e8bc8407283d9118a7ff539b8",
       "version_major": 2,
       "version_minor": 0
      },
      "text/plain": [
       "HBox(children=(IntProgress(value=0, max=79), HTML(value='')))"
      ]
     },
     "metadata": {},
     "output_type": "display_data"
    },
    {
     "data": {
      "application/vnd.jupyter.widget-view+json": {
       "model_id": "57bca39924a44f859c220011832fe85e",
       "version_major": 2,
       "version_minor": 0
      },
      "text/plain": [
       "HBox(children=(IntProgress(value=0, max=20), HTML(value='')))"
      ]
     },
     "metadata": {},
     "output_type": "display_data"
    },
    {
     "name": "stdout",
     "output_type": "stream",
     "text": [
      "{'accuracy': 0.7208201892744479, 'roc_auc': 0.6903219921554319, 'pr_auc': 0.22280639816740333}\n"
     ]
    },
    {
     "data": {
      "text/html": [
       "<div>\n",
       "<style scoped>\n",
       "    .dataframe tbody tr th:only-of-type {\n",
       "        vertical-align: middle;\n",
       "    }\n",
       "\n",
       "    .dataframe tbody tr th {\n",
       "        vertical-align: top;\n",
       "    }\n",
       "\n",
       "    .dataframe thead th {\n",
       "        text-align: right;\n",
       "    }\n",
       "</style>\n",
       "<table border=\"1\" class=\"dataframe\">\n",
       "  <thead>\n",
       "    <tr style=\"text-align: right;\">\n",
       "      <th></th>\n",
       "      <th>0.0</th>\n",
       "      <th>1.0</th>\n",
       "      <th>micro avg</th>\n",
       "      <th>macro avg</th>\n",
       "      <th>weighted avg</th>\n",
       "    </tr>\n",
       "  </thead>\n",
       "  <tbody>\n",
       "    <tr>\n",
       "      <th>f1-score</th>\n",
       "      <td>0.827</td>\n",
       "      <td>0.272</td>\n",
       "      <td>0.721</td>\n",
       "      <td>0.549</td>\n",
       "      <td>0.777</td>\n",
       "    </tr>\n",
       "    <tr>\n",
       "      <th>precision</th>\n",
       "      <td>0.946</td>\n",
       "      <td>0.177</td>\n",
       "      <td>0.721</td>\n",
       "      <td>0.562</td>\n",
       "      <td>0.877</td>\n",
       "    </tr>\n",
       "    <tr>\n",
       "      <th>recall</th>\n",
       "      <td>0.735</td>\n",
       "      <td>0.579</td>\n",
       "      <td>0.721</td>\n",
       "      <td>0.657</td>\n",
       "      <td>0.721</td>\n",
       "    </tr>\n",
       "    <tr>\n",
       "      <th>support</th>\n",
       "      <td>577.000</td>\n",
       "      <td>57.000</td>\n",
       "      <td>634.000</td>\n",
       "      <td>634.000</td>\n",
       "      <td>634.000</td>\n",
       "    </tr>\n",
       "  </tbody>\n",
       "</table>\n",
       "</div>"
      ],
      "text/plain": [
       "               0.0     1.0  micro avg  macro avg  weighted avg\n",
       "f1-score     0.827   0.272      0.721      0.549         0.777\n",
       "precision    0.946   0.177      0.721      0.562         0.877\n",
       "recall       0.735   0.579      0.721      0.657         0.721\n",
       "support    577.000  57.000    634.000    634.000       634.000"
      ]
     },
     "metadata": {},
     "output_type": "display_data"
    },
    {
     "name": "stdout",
     "output_type": "stream",
     "text": [
      "Model not saved on  roc_auc 0.6903219921554319\n"
     ]
    },
    {
     "data": {
      "application/vnd.jupyter.widget-view+json": {
       "model_id": "62a4ee998cc94dc187b82281b729ad19",
       "version_major": 2,
       "version_minor": 0
      },
      "text/plain": [
       "HBox(children=(IntProgress(value=0, max=79), HTML(value='')))"
      ]
     },
     "metadata": {},
     "output_type": "display_data"
    },
    {
     "data": {
      "application/vnd.jupyter.widget-view+json": {
       "model_id": "36581a07f1064ebca722f119de03519e",
       "version_major": 2,
       "version_minor": 0
      },
      "text/plain": [
       "HBox(children=(IntProgress(value=0, max=20), HTML(value='')))"
      ]
     },
     "metadata": {},
     "output_type": "display_data"
    },
    {
     "name": "stdout",
     "output_type": "stream",
     "text": [
      "{'accuracy': 0.7429022082018928, 'roc_auc': 0.6081820669524765, 'pr_auc': 0.14839791786028844}\n"
     ]
    },
    {
     "data": {
      "text/html": [
       "<div>\n",
       "<style scoped>\n",
       "    .dataframe tbody tr th:only-of-type {\n",
       "        vertical-align: middle;\n",
       "    }\n",
       "\n",
       "    .dataframe tbody tr th {\n",
       "        vertical-align: top;\n",
       "    }\n",
       "\n",
       "    .dataframe thead th {\n",
       "        text-align: right;\n",
       "    }\n",
       "</style>\n",
       "<table border=\"1\" class=\"dataframe\">\n",
       "  <thead>\n",
       "    <tr style=\"text-align: right;\">\n",
       "      <th></th>\n",
       "      <th>0.0</th>\n",
       "      <th>1.0</th>\n",
       "      <th>micro avg</th>\n",
       "      <th>macro avg</th>\n",
       "      <th>weighted avg</th>\n",
       "    </tr>\n",
       "  </thead>\n",
       "  <tbody>\n",
       "    <tr>\n",
       "      <th>f1-score</th>\n",
       "      <td>0.847</td>\n",
       "      <td>0.205</td>\n",
       "      <td>0.743</td>\n",
       "      <td>0.526</td>\n",
       "      <td>0.789</td>\n",
       "    </tr>\n",
       "    <tr>\n",
       "      <th>precision</th>\n",
       "      <td>0.926</td>\n",
       "      <td>0.142</td>\n",
       "      <td>0.743</td>\n",
       "      <td>0.534</td>\n",
       "      <td>0.855</td>\n",
       "    </tr>\n",
       "    <tr>\n",
       "      <th>recall</th>\n",
       "      <td>0.780</td>\n",
       "      <td>0.368</td>\n",
       "      <td>0.743</td>\n",
       "      <td>0.574</td>\n",
       "      <td>0.743</td>\n",
       "    </tr>\n",
       "    <tr>\n",
       "      <th>support</th>\n",
       "      <td>577.000</td>\n",
       "      <td>57.000</td>\n",
       "      <td>634.000</td>\n",
       "      <td>634.000</td>\n",
       "      <td>634.000</td>\n",
       "    </tr>\n",
       "  </tbody>\n",
       "</table>\n",
       "</div>"
      ],
      "text/plain": [
       "               0.0     1.0  micro avg  macro avg  weighted avg\n",
       "f1-score     0.847   0.205      0.743      0.526         0.789\n",
       "precision    0.926   0.142      0.743      0.534         0.855\n",
       "recall       0.780   0.368      0.743      0.574         0.743\n",
       "support    577.000  57.000    634.000    634.000       634.000"
      ]
     },
     "metadata": {},
     "output_type": "display_data"
    },
    {
     "name": "stderr",
     "output_type": "stream",
     "text": [
      "INFO - 2019-03-27 19:53:48,267 - instantiating class <class 'PatientVec.models.Model.Model'> from params {'type': 'seq_classifier', 'embedder': {'type': 'token_embedder', 'vocab_size': 19054, 'embed_size': 200, 'embedding_file': './preprocess/HipSurgery/1_yrs/embedding_matrix.npy'}, 'decoder': {'num_layers': 2, 'hidden_dims': [128, 1], 'activations': ['tanh', 'linear']}, 'predictor': {'type': 'binary'}, 'structured': {'use_structured': False}, 'encoder': {'type': 'lstm', 'hidden_size': 128}} and extras {}\n",
      "INFO - 2019-03-27 19:53:48,268 - type = seq_classifier\n",
      "INFO - 2019-03-27 19:53:48,268 - instantiating class <class 'PatientVec.models.modules.Embedder.Embedder'> from params {'type': 'token_embedder', 'vocab_size': 19054, 'embed_size': 200, 'embedding_file': './preprocess/HipSurgery/1_yrs/embedding_matrix.npy'} and extras {}\n",
      "INFO - 2019-03-27 19:53:48,269 - embedder.type = token_embedder\n",
      "INFO - 2019-03-27 19:53:48,269 - instantiating class <class 'PatientVec.models.modules.Embedder.TokenEmbedder'> from params {'vocab_size': 19054, 'embed_size': 200, 'embedding_file': './preprocess/HipSurgery/1_yrs/embedding_matrix.npy'} and extras {}\n",
      "INFO - 2019-03-27 19:53:48,270 - embedder.vocab_size = 19054\n",
      "INFO - 2019-03-27 19:53:48,270 - embedder.embed_size = 200\n",
      "INFO - 2019-03-27 19:53:48,271 - embedder.embedding_file = ./preprocess/HipSurgery/1_yrs/embedding_matrix.npy\n",
      "INFO - 2019-03-27 19:53:48,294 - instantiating class <class 'PatientVec.models.modules.Encoder.Encoder'> from params {'type': 'lstm', 'hidden_size': 128} and extras {'input_size': 200}\n",
      "INFO - 2019-03-27 19:53:48,294 - encoder.type = lstm\n",
      "INFO - 2019-03-27 19:53:48,295 - instantiating class <class 'PatientVec.models.modules.Encoder.wrap_pytorch_rnn.<locals>.BiRNNEncoder'> from params {'hidden_size': 128} and extras {'input_size': 200}\n",
      "INFO - 2019-03-27 19:53:48,295 - encoder.hidden_size = 128\n",
      "INFO - 2019-03-27 19:53:48,298 - decoder.input_dim = 256\n",
      "INFO - 2019-03-27 19:53:48,298 - decoder.num_layers = 2\n",
      "INFO - 2019-03-27 19:53:48,299 - decoder.hidden_dims = [128, 1]\n",
      "INFO - 2019-03-27 19:53:48,299 - decoder.activations = ['tanh', 'linear']\n",
      "INFO - 2019-03-27 19:53:48,299 - decoder.dropout = 0.0\n",
      "INFO - 2019-03-27 19:53:48,300 - instantiating class <class 'PatientVec.models.modules.Predictor.Predictor'> from params {'type': 'binary'} and extras {}\n",
      "INFO - 2019-03-27 19:53:48,300 - predictor.type = binary\n",
      "INFO - 2019-03-27 19:53:48,301 - instantiating class <class 'PatientVec.models.modules.Predictor.Binary_Predictor'> from params {} and extras {}\n",
      "INFO - 2019-03-27 19:53:48,301 - predictor.replicate = False\n",
      "INFO - 2019-03-27 19:53:48,302 - predictor.alpha = 0.5\n"
     ]
    },
    {
     "name": "stdout",
     "output_type": "stream",
     "text": [
      "Model not saved on  roc_auc 0.6081820669524765\n",
      "0.7301985466265317 deque([0.6886649031591109, 0.6903219921554319, 0.6081820669524765], maxlen=3)\n",
      "\n",
      "Setting Embedding\n"
     ]
    },
    {
     "data": {
      "application/vnd.jupyter.widget-view+json": {
       "model_id": "65c484693da3404c9ea1874f6fd15e1a",
       "version_major": 2,
       "version_minor": 0
      },
      "text/plain": [
       "HBox(children=(IntProgress(value=0, max=20), HTML(value='')))"
      ]
     },
     "metadata": {},
     "output_type": "display_data"
    },
    {
     "name": "stdout",
     "output_type": "stream",
     "text": [
      "\n",
      "{'accuracy': 0.526813880126183, 'roc_auc': 0.7301985466265317, 'pr_auc': 0.20943854227018105}\n"
     ]
    },
    {
     "data": {
      "text/html": [
       "<div>\n",
       "<style scoped>\n",
       "    .dataframe tbody tr th:only-of-type {\n",
       "        vertical-align: middle;\n",
       "    }\n",
       "\n",
       "    .dataframe tbody tr th {\n",
       "        vertical-align: top;\n",
       "    }\n",
       "\n",
       "    .dataframe thead th {\n",
       "        text-align: right;\n",
       "    }\n",
       "</style>\n",
       "<table border=\"1\" class=\"dataframe\">\n",
       "  <thead>\n",
       "    <tr style=\"text-align: right;\">\n",
       "      <th></th>\n",
       "      <th>0.0</th>\n",
       "      <th>1.0</th>\n",
       "      <th>micro avg</th>\n",
       "      <th>macro avg</th>\n",
       "      <th>weighted avg</th>\n",
       "    </tr>\n",
       "  </thead>\n",
       "  <tbody>\n",
       "    <tr>\n",
       "      <th>f1-score</th>\n",
       "      <td>0.656</td>\n",
       "      <td>0.242</td>\n",
       "      <td>0.527</td>\n",
       "      <td>0.449</td>\n",
       "      <td>0.619</td>\n",
       "    </tr>\n",
       "    <tr>\n",
       "      <th>precision</th>\n",
       "      <td>0.969</td>\n",
       "      <td>0.142</td>\n",
       "      <td>0.527</td>\n",
       "      <td>0.556</td>\n",
       "      <td>0.895</td>\n",
       "    </tr>\n",
       "    <tr>\n",
       "      <th>recall</th>\n",
       "      <td>0.496</td>\n",
       "      <td>0.842</td>\n",
       "      <td>0.527</td>\n",
       "      <td>0.669</td>\n",
       "      <td>0.527</td>\n",
       "    </tr>\n",
       "    <tr>\n",
       "      <th>support</th>\n",
       "      <td>577.000</td>\n",
       "      <td>57.000</td>\n",
       "      <td>634.000</td>\n",
       "      <td>634.000</td>\n",
       "      <td>634.000</td>\n",
       "    </tr>\n",
       "  </tbody>\n",
       "</table>\n",
       "</div>"
      ],
      "text/plain": [
       "               0.0     1.0  micro avg  macro avg  weighted avg\n",
       "f1-score     0.656   0.242      0.527      0.449         0.619\n",
       "precision    0.969   0.142      0.527      0.556         0.895\n",
       "recall       0.496   0.842      0.527      0.669         0.527\n",
       "support    577.000  57.000    634.000    634.000       634.000"
      ]
     },
     "metadata": {},
     "output_type": "display_data"
    },
    {
     "data": {
      "application/vnd.jupyter.widget-view+json": {
       "model_id": "2a4eb7118aeb4a7d9ebf59bd831d4632",
       "version_major": 2,
       "version_minor": 0
      },
      "text/plain": [
       "HBox(children=(IntProgress(value=0, max=20), HTML(value='')))"
      ]
     },
     "metadata": {},
     "output_type": "display_data"
    },
    {
     "name": "stdout",
     "output_type": "stream",
     "text": [
      "\n",
      "{'accuracy': 0.5023771790808241, 'roc_auc': 0.5400407375643225, 'pr_auc': 0.09166165601009732}\n"
     ]
    },
    {
     "data": {
      "text/html": [
       "<div>\n",
       "<style scoped>\n",
       "    .dataframe tbody tr th:only-of-type {\n",
       "        vertical-align: middle;\n",
       "    }\n",
       "\n",
       "    .dataframe tbody tr th {\n",
       "        vertical-align: top;\n",
       "    }\n",
       "\n",
       "    .dataframe thead th {\n",
       "        text-align: right;\n",
       "    }\n",
       "</style>\n",
       "<table border=\"1\" class=\"dataframe\">\n",
       "  <thead>\n",
       "    <tr style=\"text-align: right;\">\n",
       "      <th></th>\n",
       "      <th>0.0</th>\n",
       "      <th>1.0</th>\n",
       "      <th>micro avg</th>\n",
       "      <th>macro avg</th>\n",
       "      <th>weighted avg</th>\n",
       "    </tr>\n",
       "  </thead>\n",
       "  <tbody>\n",
       "    <tr>\n",
       "      <th>f1-score</th>\n",
       "      <td>0.647</td>\n",
       "      <td>0.156</td>\n",
       "      <td>0.502</td>\n",
       "      <td>0.402</td>\n",
       "      <td>0.610</td>\n",
       "    </tr>\n",
       "    <tr>\n",
       "      <th>precision</th>\n",
       "      <td>0.938</td>\n",
       "      <td>0.090</td>\n",
       "      <td>0.502</td>\n",
       "      <td>0.514</td>\n",
       "      <td>0.874</td>\n",
       "    </tr>\n",
       "    <tr>\n",
       "      <th>recall</th>\n",
       "      <td>0.494</td>\n",
       "      <td>0.604</td>\n",
       "      <td>0.502</td>\n",
       "      <td>0.549</td>\n",
       "      <td>0.502</td>\n",
       "    </tr>\n",
       "    <tr>\n",
       "      <th>support</th>\n",
       "      <td>583.000</td>\n",
       "      <td>48.000</td>\n",
       "      <td>631.000</td>\n",
       "      <td>631.000</td>\n",
       "      <td>631.000</td>\n",
       "    </tr>\n",
       "  </tbody>\n",
       "</table>\n",
       "</div>"
      ],
      "text/plain": [
       "               0.0     1.0  micro avg  macro avg  weighted avg\n",
       "f1-score     0.647   0.156      0.502      0.402         0.610\n",
       "precision    0.938   0.090      0.502      0.514         0.874\n",
       "recall       0.494   0.604      0.502      0.549         0.502\n",
       "support    583.000  48.000    631.000    631.000       631.000"
      ]
     },
     "metadata": {},
     "output_type": "display_data"
    },
    {
     "name": "stderr",
     "output_type": "stream",
     "text": [
      "INFO - 2019-03-27 19:54:12,147 - instantiating class <class 'PatientVec.models.Model.Model'> from params {'type': 'seq_classifier_with_attention', 'embedder': {'type': 'token_embedder', 'vocab_size': 19054, 'embed_size': 200, 'embedding_file': './preprocess/HipSurgery/1_yrs/embedding_matrix.npy'}, 'decoder': {'num_layers': 2, 'hidden_dims': [128, 1], 'activations': ['tanh', 'linear']}, 'predictor': {'type': 'binary'}, 'structured': {'use_structured': False}, 'encoder': {'type': 'lstm', 'hidden_size': 128}, 'attention': {'similarity': {'type': 'additive', 'hidden_size': 128}}} and extras {}\n",
      "INFO - 2019-03-27 19:54:12,148 - type = seq_classifier_with_attention\n",
      "INFO - 2019-03-27 19:54:12,148 - instantiating class <class 'PatientVec.models.modules.Embedder.Embedder'> from params {'type': 'token_embedder', 'vocab_size': 19054, 'embed_size': 200, 'embedding_file': './preprocess/HipSurgery/1_yrs/embedding_matrix.npy'} and extras {}\n",
      "INFO - 2019-03-27 19:54:12,149 - embedder.type = token_embedder\n",
      "INFO - 2019-03-27 19:54:12,149 - instantiating class <class 'PatientVec.models.modules.Embedder.TokenEmbedder'> from params {'vocab_size': 19054, 'embed_size': 200, 'embedding_file': './preprocess/HipSurgery/1_yrs/embedding_matrix.npy'} and extras {}\n",
      "INFO - 2019-03-27 19:54:12,150 - embedder.vocab_size = 19054\n",
      "INFO - 2019-03-27 19:54:12,150 - embedder.embed_size = 200\n",
      "INFO - 2019-03-27 19:54:12,151 - embedder.embedding_file = ./preprocess/HipSurgery/1_yrs/embedding_matrix.npy\n",
      "INFO - 2019-03-27 19:54:12,175 - instantiating class <class 'PatientVec.models.modules.Encoder.Encoder'> from params {'type': 'lstm', 'hidden_size': 128} and extras {'input_size': 200}\n",
      "INFO - 2019-03-27 19:54:12,175 - encoder.type = lstm\n",
      "INFO - 2019-03-27 19:54:12,176 - instantiating class <class 'PatientVec.models.modules.Encoder.wrap_pytorch_rnn.<locals>.BiRNNEncoder'> from params {'hidden_size': 128} and extras {'input_size': 200}\n",
      "INFO - 2019-03-27 19:54:12,176 - encoder.hidden_size = 128\n",
      "INFO - 2019-03-27 19:54:12,179 - instantiating class <class 'PatientVec.models.modules.SelfAttention.SelfAttention'> from params {'similarity': {'type': 'additive', 'hidden_size': 128, 'tensor_1_dim': 256}} and extras {}\n",
      "INFO - 2019-03-27 19:54:12,180 - instantiating class <class 'PatientVec.models.modules.UniSimilarity.UniSimilarity'> from params {'type': 'additive', 'hidden_size': 128, 'tensor_1_dim': 256} and extras {}\n",
      "INFO - 2019-03-27 19:54:12,180 - attention.similarity.type = additive\n",
      "INFO - 2019-03-27 19:54:12,180 - instantiating class <class 'PatientVec.models.modules.UniSimilarity.UniAdditiveSimilarity'> from params {'hidden_size': 128, 'tensor_1_dim': 256} and extras {}\n",
      "INFO - 2019-03-27 19:54:12,181 - attention.similarity.tensor_1_dim = 256\n",
      "INFO - 2019-03-27 19:54:12,181 - attention.similarity.hidden_size = 128\n",
      "INFO - 2019-03-27 19:54:12,181 - attention.similarity.output_size = 1\n",
      "INFO - 2019-03-27 19:54:12,182 - attention.normaliser = softmax\n",
      "INFO - 2019-03-27 19:54:12,183 - decoder.input_dim = 256\n",
      "INFO - 2019-03-27 19:54:12,183 - decoder.num_layers = 2\n",
      "INFO - 2019-03-27 19:54:12,184 - decoder.hidden_dims = [128, 1]\n",
      "INFO - 2019-03-27 19:54:12,184 - decoder.activations = ['tanh', 'linear']\n",
      "INFO - 2019-03-27 19:54:12,184 - decoder.dropout = 0.0\n",
      "INFO - 2019-03-27 19:54:12,185 - instantiating class <class 'PatientVec.models.modules.Predictor.Predictor'> from params {'type': 'binary'} and extras {}\n",
      "INFO - 2019-03-27 19:54:12,186 - predictor.type = binary\n",
      "INFO - 2019-03-27 19:54:12,186 - instantiating class <class 'PatientVec.models.modules.Predictor.Binary_Predictor'> from params {} and extras {}\n",
      "INFO - 2019-03-27 19:54:12,186 - predictor.replicate = False\n",
      "INFO - 2019-03-27 19:54:12,187 - predictor.alpha = 0.5\n"
     ]
    },
    {
     "name": "stdout",
     "output_type": "stream",
     "text": [
      "============================================================================================================================================================================================================================================================================================================\n",
      "{'model': {'type': 'seq_classifier_with_attention', 'embedder': {'type': 'token_embedder', 'vocab_size': 19054, 'embed_size': 200, 'embedding_file': './preprocess/HipSurgery/1_yrs/embedding_matrix.npy'}, 'decoder': {'num_layers': 2, 'hidden_dims': [128, 1], 'activations': ['tanh', 'linear']}, 'predictor': {'type': 'binary'}, 'structured': {'use_structured': False}, 'encoder': {'type': 'lstm', 'hidden_size': 128}, 'attention': {'similarity': {'type': 'additive', 'hidden_size': 128}}}, 'training_config': {'type': 'Adam', 'groups': [('.*', {'lr': 0.001, 'weight_decay': 1e-05})], 'common': {'bsize': 32, 'class_weight': True}}, 'exp_config': {'exp_name': 'HipSurgery_1/Attention/LSTM(hs=128)+Attention(additive)(hs=128)', 'basepath': 'outputs/ts_experiments/n=2500'}}\n",
      "Setting Embedding\n"
     ]
    },
    {
     "data": {
      "application/vnd.jupyter.widget-view+json": {
       "model_id": "b0ffa35d947345d391ad2cc5b7fc8e46",
       "version_major": 2,
       "version_minor": 0
      },
      "text/plain": [
       "HBox(children=(IntProgress(value=0, max=8), HTML(value='')))"
      ]
     },
     "metadata": {},
     "output_type": "display_data"
    },
    {
     "data": {
      "application/vnd.jupyter.widget-view+json": {
       "model_id": "ce8704318f264ff29aadbc8db098c532",
       "version_major": 2,
       "version_minor": 0
      },
      "text/plain": [
       "HBox(children=(IntProgress(value=0, max=79), HTML(value='')))"
      ]
     },
     "metadata": {},
     "output_type": "display_data"
    },
    {
     "data": {
      "application/vnd.jupyter.widget-view+json": {
       "model_id": "acd47a4050e04357b6c978a8e2ea047a",
       "version_major": 2,
       "version_minor": 0
      },
      "text/plain": [
       "HBox(children=(IntProgress(value=0, max=20), HTML(value='')))"
      ]
     },
     "metadata": {},
     "output_type": "display_data"
    },
    {
     "name": "stdout",
     "output_type": "stream",
     "text": [
      "{'accuracy': 0.9085173501577287, 'roc_auc': 0.6779926419167503, 'pr_auc': 0.17090651136231047}\n"
     ]
    },
    {
     "data": {
      "text/html": [
       "<div>\n",
       "<style scoped>\n",
       "    .dataframe tbody tr th:only-of-type {\n",
       "        vertical-align: middle;\n",
       "    }\n",
       "\n",
       "    .dataframe tbody tr th {\n",
       "        vertical-align: top;\n",
       "    }\n",
       "\n",
       "    .dataframe thead th {\n",
       "        text-align: right;\n",
       "    }\n",
       "</style>\n",
       "<table border=\"1\" class=\"dataframe\">\n",
       "  <thead>\n",
       "    <tr style=\"text-align: right;\">\n",
       "      <th></th>\n",
       "      <th>0.0</th>\n",
       "      <th>1.0</th>\n",
       "      <th>micro avg</th>\n",
       "      <th>macro avg</th>\n",
       "      <th>weighted avg</th>\n",
       "    </tr>\n",
       "  </thead>\n",
       "  <tbody>\n",
       "    <tr>\n",
       "      <th>f1-score</th>\n",
       "      <td>0.952</td>\n",
       "      <td>0.033</td>\n",
       "      <td>0.909</td>\n",
       "      <td>0.493</td>\n",
       "      <td>0.869</td>\n",
       "    </tr>\n",
       "    <tr>\n",
       "      <th>precision</th>\n",
       "      <td>0.911</td>\n",
       "      <td>0.333</td>\n",
       "      <td>0.909</td>\n",
       "      <td>0.622</td>\n",
       "      <td>0.859</td>\n",
       "    </tr>\n",
       "    <tr>\n",
       "      <th>recall</th>\n",
       "      <td>0.997</td>\n",
       "      <td>0.018</td>\n",
       "      <td>0.909</td>\n",
       "      <td>0.507</td>\n",
       "      <td>0.909</td>\n",
       "    </tr>\n",
       "    <tr>\n",
       "      <th>support</th>\n",
       "      <td>577.000</td>\n",
       "      <td>57.000</td>\n",
       "      <td>634.000</td>\n",
       "      <td>634.000</td>\n",
       "      <td>634.000</td>\n",
       "    </tr>\n",
       "  </tbody>\n",
       "</table>\n",
       "</div>"
      ],
      "text/plain": [
       "               0.0     1.0  micro avg  macro avg  weighted avg\n",
       "f1-score     0.952   0.033      0.909      0.493         0.869\n",
       "precision    0.911   0.333      0.909      0.622         0.859\n",
       "recall       0.997   0.018      0.909      0.507         0.909\n",
       "support    577.000  57.000    634.000    634.000       634.000"
      ]
     },
     "metadata": {},
     "output_type": "display_data"
    },
    {
     "name": "stdout",
     "output_type": "stream",
     "text": [
      "Model Saved on  roc_auc 0.6779926419167503\n"
     ]
    },
    {
     "data": {
      "application/vnd.jupyter.widget-view+json": {
       "model_id": "59bfb1bfd69b411192740ab80f855094",
       "version_major": 2,
       "version_minor": 0
      },
      "text/plain": [
       "HBox(children=(IntProgress(value=0, max=79), HTML(value='')))"
      ]
     },
     "metadata": {},
     "output_type": "display_data"
    },
    {
     "data": {
      "application/vnd.jupyter.widget-view+json": {
       "model_id": "5314ee217cdb43e3aadd1445ede3dedc",
       "version_major": 2,
       "version_minor": 0
      },
      "text/plain": [
       "HBox(children=(IntProgress(value=0, max=20), HTML(value='')))"
      ]
     },
     "metadata": {},
     "output_type": "display_data"
    },
    {
     "name": "stdout",
     "output_type": "stream",
     "text": [
      "{'accuracy': 0.832807570977918, 'roc_auc': 0.6593845966736599, 'pr_auc': 0.21692277562072743}\n"
     ]
    },
    {
     "data": {
      "text/html": [
       "<div>\n",
       "<style scoped>\n",
       "    .dataframe tbody tr th:only-of-type {\n",
       "        vertical-align: middle;\n",
       "    }\n",
       "\n",
       "    .dataframe tbody tr th {\n",
       "        vertical-align: top;\n",
       "    }\n",
       "\n",
       "    .dataframe thead th {\n",
       "        text-align: right;\n",
       "    }\n",
       "</style>\n",
       "<table border=\"1\" class=\"dataframe\">\n",
       "  <thead>\n",
       "    <tr style=\"text-align: right;\">\n",
       "      <th></th>\n",
       "      <th>0.0</th>\n",
       "      <th>1.0</th>\n",
       "      <th>micro avg</th>\n",
       "      <th>macro avg</th>\n",
       "      <th>weighted avg</th>\n",
       "    </tr>\n",
       "  </thead>\n",
       "  <tbody>\n",
       "    <tr>\n",
       "      <th>f1-score</th>\n",
       "      <td>0.906</td>\n",
       "      <td>0.221</td>\n",
       "      <td>0.833</td>\n",
       "      <td>0.563</td>\n",
       "      <td>0.845</td>\n",
       "    </tr>\n",
       "    <tr>\n",
       "      <th>precision</th>\n",
       "      <td>0.924</td>\n",
       "      <td>0.190</td>\n",
       "      <td>0.833</td>\n",
       "      <td>0.557</td>\n",
       "      <td>0.858</td>\n",
       "    </tr>\n",
       "    <tr>\n",
       "      <th>recall</th>\n",
       "      <td>0.889</td>\n",
       "      <td>0.263</td>\n",
       "      <td>0.833</td>\n",
       "      <td>0.576</td>\n",
       "      <td>0.833</td>\n",
       "    </tr>\n",
       "    <tr>\n",
       "      <th>support</th>\n",
       "      <td>577.000</td>\n",
       "      <td>57.000</td>\n",
       "      <td>634.000</td>\n",
       "      <td>634.000</td>\n",
       "      <td>634.000</td>\n",
       "    </tr>\n",
       "  </tbody>\n",
       "</table>\n",
       "</div>"
      ],
      "text/plain": [
       "               0.0     1.0  micro avg  macro avg  weighted avg\n",
       "f1-score     0.906   0.221      0.833      0.563         0.845\n",
       "precision    0.924   0.190      0.833      0.557         0.858\n",
       "recall       0.889   0.263      0.833      0.576         0.833\n",
       "support    577.000  57.000    634.000    634.000       634.000"
      ]
     },
     "metadata": {},
     "output_type": "display_data"
    },
    {
     "name": "stdout",
     "output_type": "stream",
     "text": [
      "Model not saved on  roc_auc 0.6593845966736599\n"
     ]
    },
    {
     "data": {
      "application/vnd.jupyter.widget-view+json": {
       "model_id": "4eb6c17023e048e791b256b1b9cd3d71",
       "version_major": 2,
       "version_minor": 0
      },
      "text/plain": [
       "HBox(children=(IntProgress(value=0, max=79), HTML(value='')))"
      ]
     },
     "metadata": {},
     "output_type": "display_data"
    },
    {
     "data": {
      "application/vnd.jupyter.widget-view+json": {
       "model_id": "a315146868734fa7b7412c6bfb26b748",
       "version_major": 2,
       "version_minor": 0
      },
      "text/plain": [
       "HBox(children=(IntProgress(value=0, max=20), HTML(value='')))"
      ]
     },
     "metadata": {},
     "output_type": "display_data"
    },
    {
     "name": "stdout",
     "output_type": "stream",
     "text": [
      "{'accuracy': 0.6340694006309149, 'roc_auc': 0.7528809024293837, 'pr_auc': 0.2382240193794231}\n"
     ]
    },
    {
     "data": {
      "text/html": [
       "<div>\n",
       "<style scoped>\n",
       "    .dataframe tbody tr th:only-of-type {\n",
       "        vertical-align: middle;\n",
       "    }\n",
       "\n",
       "    .dataframe tbody tr th {\n",
       "        vertical-align: top;\n",
       "    }\n",
       "\n",
       "    .dataframe thead th {\n",
       "        text-align: right;\n",
       "    }\n",
       "</style>\n",
       "<table border=\"1\" class=\"dataframe\">\n",
       "  <thead>\n",
       "    <tr style=\"text-align: right;\">\n",
       "      <th></th>\n",
       "      <th>0.0</th>\n",
       "      <th>1.0</th>\n",
       "      <th>micro avg</th>\n",
       "      <th>macro avg</th>\n",
       "      <th>weighted avg</th>\n",
       "    </tr>\n",
       "  </thead>\n",
       "  <tbody>\n",
       "    <tr>\n",
       "      <th>f1-score</th>\n",
       "      <td>0.755</td>\n",
       "      <td>0.275</td>\n",
       "      <td>0.634</td>\n",
       "      <td>0.515</td>\n",
       "      <td>0.712</td>\n",
       "    </tr>\n",
       "    <tr>\n",
       "      <th>precision</th>\n",
       "      <td>0.965</td>\n",
       "      <td>0.167</td>\n",
       "      <td>0.634</td>\n",
       "      <td>0.566</td>\n",
       "      <td>0.893</td>\n",
       "    </tr>\n",
       "    <tr>\n",
       "      <th>recall</th>\n",
       "      <td>0.620</td>\n",
       "      <td>0.772</td>\n",
       "      <td>0.634</td>\n",
       "      <td>0.696</td>\n",
       "      <td>0.634</td>\n",
       "    </tr>\n",
       "    <tr>\n",
       "      <th>support</th>\n",
       "      <td>577.000</td>\n",
       "      <td>57.000</td>\n",
       "      <td>634.000</td>\n",
       "      <td>634.000</td>\n",
       "      <td>634.000</td>\n",
       "    </tr>\n",
       "  </tbody>\n",
       "</table>\n",
       "</div>"
      ],
      "text/plain": [
       "               0.0     1.0  micro avg  macro avg  weighted avg\n",
       "f1-score     0.755   0.275      0.634      0.515         0.712\n",
       "precision    0.965   0.167      0.634      0.566         0.893\n",
       "recall       0.620   0.772      0.634      0.696         0.634\n",
       "support    577.000  57.000    634.000    634.000       634.000"
      ]
     },
     "metadata": {},
     "output_type": "display_data"
    },
    {
     "name": "stdout",
     "output_type": "stream",
     "text": [
      "Model Saved on  roc_auc 0.7528809024293837\n"
     ]
    },
    {
     "data": {
      "application/vnd.jupyter.widget-view+json": {
       "model_id": "85c75ddaa6e54c13998a8c630620ad5d",
       "version_major": 2,
       "version_minor": 0
      },
      "text/plain": [
       "HBox(children=(IntProgress(value=0, max=79), HTML(value='')))"
      ]
     },
     "metadata": {},
     "output_type": "display_data"
    },
    {
     "data": {
      "application/vnd.jupyter.widget-view+json": {
       "model_id": "b3006b65c5e4494db9263ce7689aaf40",
       "version_major": 2,
       "version_minor": 0
      },
      "text/plain": [
       "HBox(children=(IntProgress(value=0, max=20), HTML(value='')))"
      ]
     },
     "metadata": {},
     "output_type": "display_data"
    },
    {
     "name": "stdout",
     "output_type": "stream",
     "text": [
      "{'accuracy': 0.6514195583596214, 'roc_auc': 0.7994010155371096, 'pr_auc': 0.2598854181999297}\n"
     ]
    },
    {
     "data": {
      "text/html": [
       "<div>\n",
       "<style scoped>\n",
       "    .dataframe tbody tr th:only-of-type {\n",
       "        vertical-align: middle;\n",
       "    }\n",
       "\n",
       "    .dataframe tbody tr th {\n",
       "        vertical-align: top;\n",
       "    }\n",
       "\n",
       "    .dataframe thead th {\n",
       "        text-align: right;\n",
       "    }\n",
       "</style>\n",
       "<table border=\"1\" class=\"dataframe\">\n",
       "  <thead>\n",
       "    <tr style=\"text-align: right;\">\n",
       "      <th></th>\n",
       "      <th>0.0</th>\n",
       "      <th>1.0</th>\n",
       "      <th>micro avg</th>\n",
       "      <th>macro avg</th>\n",
       "      <th>weighted avg</th>\n",
       "    </tr>\n",
       "  </thead>\n",
       "  <tbody>\n",
       "    <tr>\n",
       "      <th>f1-score</th>\n",
       "      <td>0.768</td>\n",
       "      <td>0.303</td>\n",
       "      <td>0.651</td>\n",
       "      <td>0.535</td>\n",
       "      <td>0.726</td>\n",
       "    </tr>\n",
       "    <tr>\n",
       "      <th>precision</th>\n",
       "      <td>0.976</td>\n",
       "      <td>0.185</td>\n",
       "      <td>0.651</td>\n",
       "      <td>0.580</td>\n",
       "      <td>0.905</td>\n",
       "    </tr>\n",
       "    <tr>\n",
       "      <th>recall</th>\n",
       "      <td>0.633</td>\n",
       "      <td>0.842</td>\n",
       "      <td>0.651</td>\n",
       "      <td>0.737</td>\n",
       "      <td>0.651</td>\n",
       "    </tr>\n",
       "    <tr>\n",
       "      <th>support</th>\n",
       "      <td>577.000</td>\n",
       "      <td>57.000</td>\n",
       "      <td>634.000</td>\n",
       "      <td>634.000</td>\n",
       "      <td>634.000</td>\n",
       "    </tr>\n",
       "  </tbody>\n",
       "</table>\n",
       "</div>"
      ],
      "text/plain": [
       "               0.0     1.0  micro avg  macro avg  weighted avg\n",
       "f1-score     0.768   0.303      0.651      0.535         0.726\n",
       "precision    0.976   0.185      0.651      0.580         0.905\n",
       "recall       0.633   0.842      0.651      0.737         0.651\n",
       "support    577.000  57.000    634.000    634.000       634.000"
      ]
     },
     "metadata": {},
     "output_type": "display_data"
    },
    {
     "name": "stdout",
     "output_type": "stream",
     "text": [
      "Model Saved on  roc_auc 0.7994010155371096\n"
     ]
    },
    {
     "data": {
      "application/vnd.jupyter.widget-view+json": {
       "model_id": "f2a443b16d2d4d29ad1b099ae72d0327",
       "version_major": 2,
       "version_minor": 0
      },
      "text/plain": [
       "HBox(children=(IntProgress(value=0, max=79), HTML(value='')))"
      ]
     },
     "metadata": {},
     "output_type": "display_data"
    },
    {
     "data": {
      "application/vnd.jupyter.widget-view+json": {
       "model_id": "6a5bfdd62b084d07a99c31f3c502993c",
       "version_major": 2,
       "version_minor": 0
      },
      "text/plain": [
       "HBox(children=(IntProgress(value=0, max=20), HTML(value='')))"
      ]
     },
     "metadata": {},
     "output_type": "display_data"
    },
    {
     "name": "stdout",
     "output_type": "stream",
     "text": [
      "{'accuracy': 0.7634069400630915, 'roc_auc': 0.814147587339232, 'pr_auc': 0.3083857136010336}\n"
     ]
    },
    {
     "data": {
      "text/html": [
       "<div>\n",
       "<style scoped>\n",
       "    .dataframe tbody tr th:only-of-type {\n",
       "        vertical-align: middle;\n",
       "    }\n",
       "\n",
       "    .dataframe tbody tr th {\n",
       "        vertical-align: top;\n",
       "    }\n",
       "\n",
       "    .dataframe thead th {\n",
       "        text-align: right;\n",
       "    }\n",
       "</style>\n",
       "<table border=\"1\" class=\"dataframe\">\n",
       "  <thead>\n",
       "    <tr style=\"text-align: right;\">\n",
       "      <th></th>\n",
       "      <th>0.0</th>\n",
       "      <th>1.0</th>\n",
       "      <th>micro avg</th>\n",
       "      <th>macro avg</th>\n",
       "      <th>weighted avg</th>\n",
       "    </tr>\n",
       "  </thead>\n",
       "  <tbody>\n",
       "    <tr>\n",
       "      <th>f1-score</th>\n",
       "      <td>0.855</td>\n",
       "      <td>0.353</td>\n",
       "      <td>0.763</td>\n",
       "      <td>0.604</td>\n",
       "      <td>0.810</td>\n",
       "    </tr>\n",
       "    <tr>\n",
       "      <th>precision</th>\n",
       "      <td>0.965</td>\n",
       "      <td>0.234</td>\n",
       "      <td>0.763</td>\n",
       "      <td>0.600</td>\n",
       "      <td>0.899</td>\n",
       "    </tr>\n",
       "    <tr>\n",
       "      <th>recall</th>\n",
       "      <td>0.768</td>\n",
       "      <td>0.719</td>\n",
       "      <td>0.763</td>\n",
       "      <td>0.744</td>\n",
       "      <td>0.763</td>\n",
       "    </tr>\n",
       "    <tr>\n",
       "      <th>support</th>\n",
       "      <td>577.000</td>\n",
       "      <td>57.000</td>\n",
       "      <td>634.000</td>\n",
       "      <td>634.000</td>\n",
       "      <td>634.000</td>\n",
       "    </tr>\n",
       "  </tbody>\n",
       "</table>\n",
       "</div>"
      ],
      "text/plain": [
       "               0.0     1.0  micro avg  macro avg  weighted avg\n",
       "f1-score     0.855   0.353      0.763      0.604         0.810\n",
       "precision    0.965   0.234      0.763      0.600         0.899\n",
       "recall       0.768   0.719      0.763      0.744         0.763\n",
       "support    577.000  57.000    634.000    634.000       634.000"
      ]
     },
     "metadata": {},
     "output_type": "display_data"
    },
    {
     "name": "stdout",
     "output_type": "stream",
     "text": [
      "Model Saved on  roc_auc 0.814147587339232\n"
     ]
    },
    {
     "data": {
      "application/vnd.jupyter.widget-view+json": {
       "model_id": "66ba8c412b3948b5a69dcab137ac73db",
       "version_major": 2,
       "version_minor": 0
      },
      "text/plain": [
       "HBox(children=(IntProgress(value=0, max=79), HTML(value='')))"
      ]
     },
     "metadata": {},
     "output_type": "display_data"
    },
    {
     "data": {
      "application/vnd.jupyter.widget-view+json": {
       "model_id": "e655713b050041c68edfd297efd02837",
       "version_major": 2,
       "version_minor": 0
      },
      "text/plain": [
       "HBox(children=(IntProgress(value=0, max=20), HTML(value='')))"
      ]
     },
     "metadata": {},
     "output_type": "display_data"
    },
    {
     "name": "stdout",
     "output_type": "stream",
     "text": [
      "{'accuracy': 0.8296529968454258, 'roc_auc': 0.8061205874304478, 'pr_auc': 0.3065160272153794}\n"
     ]
    },
    {
     "data": {
      "text/html": [
       "<div>\n",
       "<style scoped>\n",
       "    .dataframe tbody tr th:only-of-type {\n",
       "        vertical-align: middle;\n",
       "    }\n",
       "\n",
       "    .dataframe tbody tr th {\n",
       "        vertical-align: top;\n",
       "    }\n",
       "\n",
       "    .dataframe thead th {\n",
       "        text-align: right;\n",
       "    }\n",
       "</style>\n",
       "<table border=\"1\" class=\"dataframe\">\n",
       "  <thead>\n",
       "    <tr style=\"text-align: right;\">\n",
       "      <th></th>\n",
       "      <th>0.0</th>\n",
       "      <th>1.0</th>\n",
       "      <th>micro avg</th>\n",
       "      <th>macro avg</th>\n",
       "      <th>weighted avg</th>\n",
       "    </tr>\n",
       "  </thead>\n",
       "  <tbody>\n",
       "    <tr>\n",
       "      <th>f1-score</th>\n",
       "      <td>0.903</td>\n",
       "      <td>0.316</td>\n",
       "      <td>0.83</td>\n",
       "      <td>0.610</td>\n",
       "      <td>0.850</td>\n",
       "    </tr>\n",
       "    <tr>\n",
       "      <th>precision</th>\n",
       "      <td>0.940</td>\n",
       "      <td>0.248</td>\n",
       "      <td>0.83</td>\n",
       "      <td>0.594</td>\n",
       "      <td>0.878</td>\n",
       "    </tr>\n",
       "    <tr>\n",
       "      <th>recall</th>\n",
       "      <td>0.868</td>\n",
       "      <td>0.439</td>\n",
       "      <td>0.83</td>\n",
       "      <td>0.653</td>\n",
       "      <td>0.830</td>\n",
       "    </tr>\n",
       "    <tr>\n",
       "      <th>support</th>\n",
       "      <td>577.000</td>\n",
       "      <td>57.000</td>\n",
       "      <td>634.00</td>\n",
       "      <td>634.000</td>\n",
       "      <td>634.000</td>\n",
       "    </tr>\n",
       "  </tbody>\n",
       "</table>\n",
       "</div>"
      ],
      "text/plain": [
       "               0.0     1.0  micro avg  macro avg  weighted avg\n",
       "f1-score     0.903   0.316       0.83      0.610         0.850\n",
       "precision    0.940   0.248       0.83      0.594         0.878\n",
       "recall       0.868   0.439       0.83      0.653         0.830\n",
       "support    577.000  57.000     634.00    634.000       634.000"
      ]
     },
     "metadata": {},
     "output_type": "display_data"
    },
    {
     "name": "stdout",
     "output_type": "stream",
     "text": [
      "Model not saved on  roc_auc 0.8061205874304478\n"
     ]
    },
    {
     "data": {
      "application/vnd.jupyter.widget-view+json": {
       "model_id": "16a990e1b9bb451aa0ccdb1cfdd72ce5",
       "version_major": 2,
       "version_minor": 0
      },
      "text/plain": [
       "HBox(children=(IntProgress(value=0, max=79), HTML(value='')))"
      ]
     },
     "metadata": {},
     "output_type": "display_data"
    },
    {
     "data": {
      "application/vnd.jupyter.widget-view+json": {
       "model_id": "3bfeddf8cc0e402d95198aefbccad14c",
       "version_major": 2,
       "version_minor": 0
      },
      "text/plain": [
       "HBox(children=(IntProgress(value=0, max=20), HTML(value='')))"
      ]
     },
     "metadata": {},
     "output_type": "display_data"
    },
    {
     "name": "stdout",
     "output_type": "stream",
     "text": [
      "{'accuracy': 0.8485804416403786, 'roc_auc': 0.81083340934659, 'pr_auc': 0.33364629560958053}\n"
     ]
    },
    {
     "data": {
      "text/html": [
       "<div>\n",
       "<style scoped>\n",
       "    .dataframe tbody tr th:only-of-type {\n",
       "        vertical-align: middle;\n",
       "    }\n",
       "\n",
       "    .dataframe tbody tr th {\n",
       "        vertical-align: top;\n",
       "    }\n",
       "\n",
       "    .dataframe thead th {\n",
       "        text-align: right;\n",
       "    }\n",
       "</style>\n",
       "<table border=\"1\" class=\"dataframe\">\n",
       "  <thead>\n",
       "    <tr style=\"text-align: right;\">\n",
       "      <th></th>\n",
       "      <th>0.0</th>\n",
       "      <th>1.0</th>\n",
       "      <th>micro avg</th>\n",
       "      <th>macro avg</th>\n",
       "      <th>weighted avg</th>\n",
       "    </tr>\n",
       "  </thead>\n",
       "  <tbody>\n",
       "    <tr>\n",
       "      <th>f1-score</th>\n",
       "      <td>0.914</td>\n",
       "      <td>0.360</td>\n",
       "      <td>0.849</td>\n",
       "      <td>0.637</td>\n",
       "      <td>0.864</td>\n",
       "    </tr>\n",
       "    <tr>\n",
       "      <th>precision</th>\n",
       "      <td>0.945</td>\n",
       "      <td>0.290</td>\n",
       "      <td>0.849</td>\n",
       "      <td>0.617</td>\n",
       "      <td>0.886</td>\n",
       "    </tr>\n",
       "    <tr>\n",
       "      <th>recall</th>\n",
       "      <td>0.886</td>\n",
       "      <td>0.474</td>\n",
       "      <td>0.849</td>\n",
       "      <td>0.680</td>\n",
       "      <td>0.849</td>\n",
       "    </tr>\n",
       "    <tr>\n",
       "      <th>support</th>\n",
       "      <td>577.000</td>\n",
       "      <td>57.000</td>\n",
       "      <td>634.000</td>\n",
       "      <td>634.000</td>\n",
       "      <td>634.000</td>\n",
       "    </tr>\n",
       "  </tbody>\n",
       "</table>\n",
       "</div>"
      ],
      "text/plain": [
       "               0.0     1.0  micro avg  macro avg  weighted avg\n",
       "f1-score     0.914   0.360      0.849      0.637         0.864\n",
       "precision    0.945   0.290      0.849      0.617         0.886\n",
       "recall       0.886   0.474      0.849      0.680         0.849\n",
       "support    577.000  57.000    634.000    634.000       634.000"
      ]
     },
     "metadata": {},
     "output_type": "display_data"
    },
    {
     "name": "stdout",
     "output_type": "stream",
     "text": [
      "Model not saved on  roc_auc 0.81083340934659\n"
     ]
    },
    {
     "data": {
      "application/vnd.jupyter.widget-view+json": {
       "model_id": "e1ce3fc0ae31469fbd6dce257fedb32a",
       "version_major": 2,
       "version_minor": 0
      },
      "text/plain": [
       "HBox(children=(IntProgress(value=0, max=79), HTML(value='')))"
      ]
     },
     "metadata": {},
     "output_type": "display_data"
    },
    {
     "data": {
      "application/vnd.jupyter.widget-view+json": {
       "model_id": "c52cbcebae8a48d1b789d0605fbc77f8",
       "version_major": 2,
       "version_minor": 0
      },
      "text/plain": [
       "HBox(children=(IntProgress(value=0, max=20), HTML(value='')))"
      ]
     },
     "metadata": {},
     "output_type": "display_data"
    },
    {
     "name": "stdout",
     "output_type": "stream",
     "text": [
      "{'accuracy': 0.8123028391167192, 'roc_auc': 0.7789078415275623, 'pr_auc': 0.34663254558956685}\n"
     ]
    },
    {
     "data": {
      "text/html": [
       "<div>\n",
       "<style scoped>\n",
       "    .dataframe tbody tr th:only-of-type {\n",
       "        vertical-align: middle;\n",
       "    }\n",
       "\n",
       "    .dataframe tbody tr th {\n",
       "        vertical-align: top;\n",
       "    }\n",
       "\n",
       "    .dataframe thead th {\n",
       "        text-align: right;\n",
       "    }\n",
       "</style>\n",
       "<table border=\"1\" class=\"dataframe\">\n",
       "  <thead>\n",
       "    <tr style=\"text-align: right;\">\n",
       "      <th></th>\n",
       "      <th>0.0</th>\n",
       "      <th>1.0</th>\n",
       "      <th>micro avg</th>\n",
       "      <th>macro avg</th>\n",
       "      <th>weighted avg</th>\n",
       "    </tr>\n",
       "  </thead>\n",
       "  <tbody>\n",
       "    <tr>\n",
       "      <th>f1-score</th>\n",
       "      <td>0.890</td>\n",
       "      <td>0.364</td>\n",
       "      <td>0.812</td>\n",
       "      <td>0.627</td>\n",
       "      <td>0.843</td>\n",
       "    </tr>\n",
       "    <tr>\n",
       "      <th>precision</th>\n",
       "      <td>0.954</td>\n",
       "      <td>0.262</td>\n",
       "      <td>0.812</td>\n",
       "      <td>0.608</td>\n",
       "      <td>0.892</td>\n",
       "    </tr>\n",
       "    <tr>\n",
       "      <th>recall</th>\n",
       "      <td>0.834</td>\n",
       "      <td>0.596</td>\n",
       "      <td>0.812</td>\n",
       "      <td>0.715</td>\n",
       "      <td>0.812</td>\n",
       "    </tr>\n",
       "    <tr>\n",
       "      <th>support</th>\n",
       "      <td>577.000</td>\n",
       "      <td>57.000</td>\n",
       "      <td>634.000</td>\n",
       "      <td>634.000</td>\n",
       "      <td>634.000</td>\n",
       "    </tr>\n",
       "  </tbody>\n",
       "</table>\n",
       "</div>"
      ],
      "text/plain": [
       "               0.0     1.0  micro avg  macro avg  weighted avg\n",
       "f1-score     0.890   0.364      0.812      0.627         0.843\n",
       "precision    0.954   0.262      0.812      0.608         0.892\n",
       "recall       0.834   0.596      0.812      0.715         0.812\n",
       "support    577.000  57.000    634.000    634.000       634.000"
      ]
     },
     "metadata": {},
     "output_type": "display_data"
    },
    {
     "name": "stderr",
     "output_type": "stream",
     "text": [
      "INFO - 2019-03-27 20:02:58,498 - instantiating class <class 'PatientVec.models.Model.Model'> from params {'type': 'seq_classifier_with_attention', 'embedder': {'type': 'token_embedder', 'vocab_size': 19054, 'embed_size': 200, 'embedding_file': './preprocess/HipSurgery/1_yrs/embedding_matrix.npy'}, 'decoder': {'num_layers': 2, 'hidden_dims': [128, 1], 'activations': ['tanh', 'linear']}, 'predictor': {'type': 'binary'}, 'structured': {'use_structured': False}, 'encoder': {'type': 'lstm', 'hidden_size': 128}, 'attention': {'similarity': {'type': 'additive', 'hidden_size': 128}}} and extras {}\n",
      "INFO - 2019-03-27 20:02:58,499 - type = seq_classifier_with_attention\n",
      "INFO - 2019-03-27 20:02:58,500 - instantiating class <class 'PatientVec.models.modules.Embedder.Embedder'> from params {'type': 'token_embedder', 'vocab_size': 19054, 'embed_size': 200, 'embedding_file': './preprocess/HipSurgery/1_yrs/embedding_matrix.npy'} and extras {}\n",
      "INFO - 2019-03-27 20:02:58,501 - embedder.type = token_embedder\n",
      "INFO - 2019-03-27 20:02:58,501 - instantiating class <class 'PatientVec.models.modules.Embedder.TokenEmbedder'> from params {'vocab_size': 19054, 'embed_size': 200, 'embedding_file': './preprocess/HipSurgery/1_yrs/embedding_matrix.npy'} and extras {}\n",
      "INFO - 2019-03-27 20:02:58,502 - embedder.vocab_size = 19054\n",
      "INFO - 2019-03-27 20:02:58,502 - embedder.embed_size = 200\n",
      "INFO - 2019-03-27 20:02:58,503 - embedder.embedding_file = ./preprocess/HipSurgery/1_yrs/embedding_matrix.npy\n",
      "INFO - 2019-03-27 20:02:58,528 - instantiating class <class 'PatientVec.models.modules.Encoder.Encoder'> from params {'type': 'lstm', 'hidden_size': 128} and extras {'input_size': 200}\n",
      "INFO - 2019-03-27 20:02:58,529 - encoder.type = lstm\n",
      "INFO - 2019-03-27 20:02:58,529 - instantiating class <class 'PatientVec.models.modules.Encoder.wrap_pytorch_rnn.<locals>.BiRNNEncoder'> from params {'hidden_size': 128} and extras {'input_size': 200}\n",
      "INFO - 2019-03-27 20:02:58,530 - encoder.hidden_size = 128\n",
      "INFO - 2019-03-27 20:02:58,534 - instantiating class <class 'PatientVec.models.modules.SelfAttention.SelfAttention'> from params {'similarity': {'type': 'additive', 'hidden_size': 128, 'tensor_1_dim': 256}} and extras {}\n",
      "INFO - 2019-03-27 20:02:58,534 - instantiating class <class 'PatientVec.models.modules.UniSimilarity.UniSimilarity'> from params {'type': 'additive', 'hidden_size': 128, 'tensor_1_dim': 256} and extras {}\n",
      "INFO - 2019-03-27 20:02:58,535 - attention.similarity.type = additive\n",
      "INFO - 2019-03-27 20:02:58,535 - instantiating class <class 'PatientVec.models.modules.UniSimilarity.UniAdditiveSimilarity'> from params {'hidden_size': 128, 'tensor_1_dim': 256} and extras {}\n",
      "INFO - 2019-03-27 20:02:58,536 - attention.similarity.tensor_1_dim = 256\n",
      "INFO - 2019-03-27 20:02:58,537 - attention.similarity.hidden_size = 128\n",
      "INFO - 2019-03-27 20:02:58,537 - attention.similarity.output_size = 1\n",
      "INFO - 2019-03-27 20:02:58,539 - attention.normaliser = softmax\n",
      "INFO - 2019-03-27 20:02:58,540 - decoder.input_dim = 256\n",
      "INFO - 2019-03-27 20:02:58,540 - decoder.num_layers = 2\n",
      "INFO - 2019-03-27 20:02:58,541 - decoder.hidden_dims = [128, 1]\n",
      "INFO - 2019-03-27 20:02:58,541 - decoder.activations = ['tanh', 'linear']\n",
      "INFO - 2019-03-27 20:02:58,542 - decoder.dropout = 0.0\n",
      "INFO - 2019-03-27 20:02:58,543 - instantiating class <class 'PatientVec.models.modules.Predictor.Predictor'> from params {'type': 'binary'} and extras {}\n",
      "INFO - 2019-03-27 20:02:58,544 - predictor.type = binary\n",
      "INFO - 2019-03-27 20:02:58,545 - instantiating class <class 'PatientVec.models.modules.Predictor.Binary_Predictor'> from params {} and extras {}\n",
      "INFO - 2019-03-27 20:02:58,545 - predictor.replicate = False\n",
      "INFO - 2019-03-27 20:02:58,546 - predictor.alpha = 0.5\n"
     ]
    },
    {
     "name": "stdout",
     "output_type": "stream",
     "text": [
      "Model not saved on  roc_auc 0.7789078415275623\n",
      "0.814147587339232 deque([0.8061205874304478, 0.81083340934659, 0.7789078415275623], maxlen=3)\n",
      "\n",
      "Setting Embedding\n"
     ]
    },
    {
     "data": {
      "application/vnd.jupyter.widget-view+json": {
       "model_id": "e8ced3980bea496ca2e2d346f10abe8f",
       "version_major": 2,
       "version_minor": 0
      },
      "text/plain": [
       "HBox(children=(IntProgress(value=0, max=20), HTML(value='')))"
      ]
     },
     "metadata": {},
     "output_type": "display_data"
    },
    {
     "name": "stdout",
     "output_type": "stream",
     "text": [
      "\n",
      "{'accuracy': 0.7634069400630915, 'roc_auc': 0.814147587339232, 'pr_auc': 0.3083857136010336}\n"
     ]
    },
    {
     "data": {
      "text/html": [
       "<div>\n",
       "<style scoped>\n",
       "    .dataframe tbody tr th:only-of-type {\n",
       "        vertical-align: middle;\n",
       "    }\n",
       "\n",
       "    .dataframe tbody tr th {\n",
       "        vertical-align: top;\n",
       "    }\n",
       "\n",
       "    .dataframe thead th {\n",
       "        text-align: right;\n",
       "    }\n",
       "</style>\n",
       "<table border=\"1\" class=\"dataframe\">\n",
       "  <thead>\n",
       "    <tr style=\"text-align: right;\">\n",
       "      <th></th>\n",
       "      <th>0.0</th>\n",
       "      <th>1.0</th>\n",
       "      <th>micro avg</th>\n",
       "      <th>macro avg</th>\n",
       "      <th>weighted avg</th>\n",
       "    </tr>\n",
       "  </thead>\n",
       "  <tbody>\n",
       "    <tr>\n",
       "      <th>f1-score</th>\n",
       "      <td>0.855</td>\n",
       "      <td>0.353</td>\n",
       "      <td>0.763</td>\n",
       "      <td>0.604</td>\n",
       "      <td>0.810</td>\n",
       "    </tr>\n",
       "    <tr>\n",
       "      <th>precision</th>\n",
       "      <td>0.965</td>\n",
       "      <td>0.234</td>\n",
       "      <td>0.763</td>\n",
       "      <td>0.600</td>\n",
       "      <td>0.899</td>\n",
       "    </tr>\n",
       "    <tr>\n",
       "      <th>recall</th>\n",
       "      <td>0.768</td>\n",
       "      <td>0.719</td>\n",
       "      <td>0.763</td>\n",
       "      <td>0.744</td>\n",
       "      <td>0.763</td>\n",
       "    </tr>\n",
       "    <tr>\n",
       "      <th>support</th>\n",
       "      <td>577.000</td>\n",
       "      <td>57.000</td>\n",
       "      <td>634.000</td>\n",
       "      <td>634.000</td>\n",
       "      <td>634.000</td>\n",
       "    </tr>\n",
       "  </tbody>\n",
       "</table>\n",
       "</div>"
      ],
      "text/plain": [
       "               0.0     1.0  micro avg  macro avg  weighted avg\n",
       "f1-score     0.855   0.353      0.763      0.604         0.810\n",
       "precision    0.965   0.234      0.763      0.600         0.899\n",
       "recall       0.768   0.719      0.763      0.744         0.763\n",
       "support    577.000  57.000    634.000    634.000       634.000"
      ]
     },
     "metadata": {},
     "output_type": "display_data"
    },
    {
     "data": {
      "application/vnd.jupyter.widget-view+json": {
       "model_id": "8a8951d3079f405c949dcac1cbd0ab1c",
       "version_major": 2,
       "version_minor": 0
      },
      "text/plain": [
       "HBox(children=(IntProgress(value=0, max=20), HTML(value='')))"
      ]
     },
     "metadata": {},
     "output_type": "display_data"
    },
    {
     "name": "stdout",
     "output_type": "stream",
     "text": [
      "\n",
      "{'accuracy': 0.7844690966719493, 'roc_auc': 0.8320290165809033, 'pr_auc': 0.27462493699914575}\n"
     ]
    },
    {
     "data": {
      "text/html": [
       "<div>\n",
       "<style scoped>\n",
       "    .dataframe tbody tr th:only-of-type {\n",
       "        vertical-align: middle;\n",
       "    }\n",
       "\n",
       "    .dataframe tbody tr th {\n",
       "        vertical-align: top;\n",
       "    }\n",
       "\n",
       "    .dataframe thead th {\n",
       "        text-align: right;\n",
       "    }\n",
       "</style>\n",
       "<table border=\"1\" class=\"dataframe\">\n",
       "  <thead>\n",
       "    <tr style=\"text-align: right;\">\n",
       "      <th></th>\n",
       "      <th>0.0</th>\n",
       "      <th>1.0</th>\n",
       "      <th>micro avg</th>\n",
       "      <th>macro avg</th>\n",
       "      <th>weighted avg</th>\n",
       "    </tr>\n",
       "  </thead>\n",
       "  <tbody>\n",
       "    <tr>\n",
       "      <th>f1-score</th>\n",
       "      <td>0.870</td>\n",
       "      <td>0.358</td>\n",
       "      <td>0.784</td>\n",
       "      <td>0.614</td>\n",
       "      <td>0.832</td>\n",
       "    </tr>\n",
       "    <tr>\n",
       "      <th>precision</th>\n",
       "      <td>0.979</td>\n",
       "      <td>0.232</td>\n",
       "      <td>0.784</td>\n",
       "      <td>0.605</td>\n",
       "      <td>0.922</td>\n",
       "    </tr>\n",
       "    <tr>\n",
       "      <th>recall</th>\n",
       "      <td>0.784</td>\n",
       "      <td>0.792</td>\n",
       "      <td>0.784</td>\n",
       "      <td>0.788</td>\n",
       "      <td>0.784</td>\n",
       "    </tr>\n",
       "    <tr>\n",
       "      <th>support</th>\n",
       "      <td>583.000</td>\n",
       "      <td>48.000</td>\n",
       "      <td>631.000</td>\n",
       "      <td>631.000</td>\n",
       "      <td>631.000</td>\n",
       "    </tr>\n",
       "  </tbody>\n",
       "</table>\n",
       "</div>"
      ],
      "text/plain": [
       "               0.0     1.0  micro avg  macro avg  weighted avg\n",
       "f1-score     0.870   0.358      0.784      0.614         0.832\n",
       "precision    0.979   0.232      0.784      0.605         0.922\n",
       "recall       0.784   0.792      0.784      0.788         0.784\n",
       "support    583.000  48.000    631.000    631.000       631.000"
      ]
     },
     "metadata": {},
     "output_type": "display_data"
    },
    {
     "name": "stdout",
     "output_type": "stream",
     "text": [
      "============================================================================================================================================================================================================================================================================================================\n"
     ]
    }
   ],
   "source": [
    "%run \"Discovery Experiments\"/n_times.py --dataset \"hip_1yr\" --data_dir='.' --output_dir='outputs' --display --n=500\n",
    "%run \"Discovery Experiments\"/n_times.py --dataset \"hip_1yr\" --data_dir='.' --output_dir='outputs' --display --n=1000\n",
    "%run \"Discovery Experiments\"/n_times.py --dataset \"hip_1yr\" --data_dir='.' --output_dir='outputs' --display --n=700\n",
    "%run \"Discovery Experiments\"/n_times.py --dataset \"hip_1yr\" --data_dir='.' --output_dir='outputs' --display --n=900\n",
    "%run \"Discovery Experiments\"/n_times.py --dataset \"hip_1yr\" --data_dir='.' --output_dir='outputs' --display --n=1500\n",
    "%run \"Discovery Experiments\"/n_times.py --dataset \"hip_1yr\" --data_dir='.' --output_dir='outputs' --display --n=2000\n",
    "%run \"Discovery Experiments\"/n_times.py --dataset \"hip_1yr\" --data_dir='.' --output_dir='outputs' --display --n=2500"
   ]
  },
  {
   "cell_type": "code",
   "execution_count": null,
   "metadata": {},
   "outputs": [],
   "source": [
    "%run \"Discovery Experiments\"/n_times_pretrained.py --data_dir='.' --output_dir='outputs' --display --n=500\n",
    "%run \"Discovery Experiments\"/n_times_pretrained.py --data_dir='.' --output_dir='outputs' --display --n=1000\n",
    "%run \"Discovery Experiments\"/n_times_pretrained.py --data_dir='.' --output_dir='outputs' --display --n=3000\n",
    "%run \"Discovery Experiments\"/n_times_pretrained.py --data_dir='.' --output_dir='outputs' --display --n=5000\n",
    "%run \"Discovery Experiments\"/n_times_pretrained.py --data_dir='.' --output_dir='outputs' --display --n=7000\n",
    "%run \"Discovery Experiments\"/n_times_pretrained.py --data_dir='.' --output_dir='outputs' --display --n=9000"
   ]
  },
  {
   "cell_type": "code",
   "execution_count": 3,
   "metadata": {},
   "outputs": [
    {
     "name": "stderr",
     "output_type": "stream",
     "text": [
      "INFO - 2019-03-27 20:03:23,402 - Reading Structured data ...\n",
      "INFO - 2019-03-27 20:03:23,552 - Reading Notes ...\n",
      "INFO - 2019-03-27 20:03:24,461 - Stratifying ...\n"
     ]
    },
    {
     "name": "stdout",
     "output_type": "stream",
     "text": [
      "Pos Percentage [0.10839746]\n"
     ]
    },
    {
     "name": "stderr",
     "output_type": "stream",
     "text": [
      "INFO - 2019-03-27 20:03:25,021 - Maximum Sentence Length 585530.000000 , 90 percentile length 22037.000000 ... \n",
      "INFO - 2019-03-27 20:03:26,443 - Truncated all ...\n",
      "INFO - 2019-03-27 20:03:26,455 - Idxs removed []...\n",
      "INFO - 2019-03-27 20:03:26,603 - Maximum Sentence Length 65362.000000 , 90 percentile length 18471.000000 ... \n"
     ]
    },
    {
     "name": "stdout",
     "output_type": "stream",
     "text": [
      "Pos Percentage [0.08990536]\n"
     ]
    },
    {
     "name": "stderr",
     "output_type": "stream",
     "text": [
      "INFO - 2019-03-27 20:03:26,751 - Truncated all ...\n",
      "INFO - 2019-03-27 20:03:26,752 - Idxs removed []...\n",
      "INFO - 2019-03-27 20:03:26,856 - Maximum Sentence Length 109694.000000 , 90 percentile length 19819.000000 ... \n"
     ]
    },
    {
     "name": "stdout",
     "output_type": "stream",
     "text": [
      "Pos Percentage [0.07606973]\n"
     ]
    },
    {
     "name": "stderr",
     "output_type": "stream",
     "text": [
      "INFO - 2019-03-27 20:03:27,059 - Truncated all ...\n",
      "INFO - 2019-03-27 20:03:27,061 - Idxs removed []...\n"
     ]
    },
    {
     "name": "stdout",
     "output_type": "stream",
     "text": [
      "Not running LDA, Yay !\n"
     ]
    },
    {
     "data": {
      "application/vnd.jupyter.widget-view+json": {
       "model_id": "d3412a173ba945e18856e99e8da5e594",
       "version_major": 2,
       "version_minor": 0
      },
      "text/plain": [
       "HBox(children=(IntProgress(value=0, max=500), HTML(value='')))"
      ]
     },
     "metadata": {},
     "output_type": "display_data"
    },
    {
     "name": "stdout",
     "output_type": "stream",
     "text": [
      "\n",
      "Normalising using l2\n",
      "Using Norm from linalg\n",
      "Multiplying by constant ,  1.0\n",
      "Fitting ...  BOW\n"
     ]
    },
    {
     "data": {
      "application/vnd.jupyter.widget-view+json": {
       "model_id": "f65b3c34f319464281debc579bb4d87f",
       "version_major": 2,
       "version_minor": 0
      },
      "text/plain": [
       "HBox(children=(IntProgress(value=0, max=634), HTML(value='')))"
      ]
     },
     "metadata": {},
     "output_type": "display_data"
    },
    {
     "name": "stdout",
     "output_type": "stream",
     "text": [
      "\n",
      "Normalising using l2\n",
      "Using Norm from linalg\n",
      "Multiplying by constant ,  1.0\n",
      "BOW\n",
      "{'accuracy': 0.6577287066246057, 'roc_auc': 0.6981057496427376, 'pr_auc': 0.2005253898543995}\n"
     ]
    },
    {
     "data": {
      "text/html": [
       "<div>\n",
       "<style scoped>\n",
       "    .dataframe tbody tr th:only-of-type {\n",
       "        vertical-align: middle;\n",
       "    }\n",
       "\n",
       "    .dataframe tbody tr th {\n",
       "        vertical-align: top;\n",
       "    }\n",
       "\n",
       "    .dataframe thead th {\n",
       "        text-align: right;\n",
       "    }\n",
       "</style>\n",
       "<table border=\"1\" class=\"dataframe\">\n",
       "  <thead>\n",
       "    <tr style=\"text-align: right;\">\n",
       "      <th></th>\n",
       "      <th>0.0</th>\n",
       "      <th>1.0</th>\n",
       "      <th>micro avg</th>\n",
       "      <th>macro avg</th>\n",
       "      <th>weighted avg</th>\n",
       "    </tr>\n",
       "  </thead>\n",
       "  <tbody>\n",
       "    <tr>\n",
       "      <th>f1-score</th>\n",
       "      <td>0.779</td>\n",
       "      <td>0.239</td>\n",
       "      <td>0.658</td>\n",
       "      <td>0.509</td>\n",
       "      <td>0.731</td>\n",
       "    </tr>\n",
       "    <tr>\n",
       "      <th>precision</th>\n",
       "      <td>0.943</td>\n",
       "      <td>0.149</td>\n",
       "      <td>0.658</td>\n",
       "      <td>0.546</td>\n",
       "      <td>0.872</td>\n",
       "    </tr>\n",
       "    <tr>\n",
       "      <th>recall</th>\n",
       "      <td>0.664</td>\n",
       "      <td>0.596</td>\n",
       "      <td>0.658</td>\n",
       "      <td>0.630</td>\n",
       "      <td>0.658</td>\n",
       "    </tr>\n",
       "    <tr>\n",
       "      <th>support</th>\n",
       "      <td>577.000</td>\n",
       "      <td>57.000</td>\n",
       "      <td>634.000</td>\n",
       "      <td>634.000</td>\n",
       "      <td>634.000</td>\n",
       "    </tr>\n",
       "  </tbody>\n",
       "</table>\n",
       "</div>"
      ],
      "text/plain": [
       "               0.0     1.0  micro avg  macro avg  weighted avg\n",
       "f1-score     0.779   0.239      0.658      0.509         0.731\n",
       "precision    0.943   0.149      0.658      0.546         0.872\n",
       "recall       0.664   0.596      0.658      0.630         0.658\n",
       "support    577.000  57.000    634.000    634.000       634.000"
      ]
     },
     "metadata": {},
     "output_type": "display_data"
    },
    {
     "data": {
      "application/vnd.jupyter.widget-view+json": {
       "model_id": "1bd2054d1ccd488cabc1bf98dec0e7f8",
       "version_major": 2,
       "version_minor": 0
      },
      "text/plain": [
       "HBox(children=(IntProgress(value=0, max=631), HTML(value='')))"
      ]
     },
     "metadata": {},
     "output_type": "display_data"
    },
    {
     "name": "stdout",
     "output_type": "stream",
     "text": [
      "\n",
      "Normalising using l2\n",
      "Using Norm from linalg\n",
      "Multiplying by constant ,  1.0\n",
      "BOW\n",
      "{'accuracy': 0.652931854199683, 'roc_auc': 0.7147655803316181, 'pr_auc': 0.20554100899236316}\n"
     ]
    },
    {
     "data": {
      "text/html": [
       "<div>\n",
       "<style scoped>\n",
       "    .dataframe tbody tr th:only-of-type {\n",
       "        vertical-align: middle;\n",
       "    }\n",
       "\n",
       "    .dataframe tbody tr th {\n",
       "        vertical-align: top;\n",
       "    }\n",
       "\n",
       "    .dataframe thead th {\n",
       "        text-align: right;\n",
       "    }\n",
       "</style>\n",
       "<table border=\"1\" class=\"dataframe\">\n",
       "  <thead>\n",
       "    <tr style=\"text-align: right;\">\n",
       "      <th></th>\n",
       "      <th>0.0</th>\n",
       "      <th>1.0</th>\n",
       "      <th>micro avg</th>\n",
       "      <th>macro avg</th>\n",
       "      <th>weighted avg</th>\n",
       "    </tr>\n",
       "  </thead>\n",
       "  <tbody>\n",
       "    <tr>\n",
       "      <th>f1-score</th>\n",
       "      <td>0.778</td>\n",
       "      <td>0.209</td>\n",
       "      <td>0.653</td>\n",
       "      <td>0.494</td>\n",
       "      <td>0.734</td>\n",
       "    </tr>\n",
       "    <tr>\n",
       "      <th>precision</th>\n",
       "      <td>0.953</td>\n",
       "      <td>0.127</td>\n",
       "      <td>0.653</td>\n",
       "      <td>0.540</td>\n",
       "      <td>0.890</td>\n",
       "    </tr>\n",
       "    <tr>\n",
       "      <th>recall</th>\n",
       "      <td>0.657</td>\n",
       "      <td>0.604</td>\n",
       "      <td>0.653</td>\n",
       "      <td>0.631</td>\n",
       "      <td>0.653</td>\n",
       "    </tr>\n",
       "    <tr>\n",
       "      <th>support</th>\n",
       "      <td>583.000</td>\n",
       "      <td>48.000</td>\n",
       "      <td>631.000</td>\n",
       "      <td>631.000</td>\n",
       "      <td>631.000</td>\n",
       "    </tr>\n",
       "  </tbody>\n",
       "</table>\n",
       "</div>"
      ],
      "text/plain": [
       "               0.0     1.0  micro avg  macro avg  weighted avg\n",
       "f1-score     0.778   0.209      0.653      0.494         0.734\n",
       "precision    0.953   0.127      0.653      0.540         0.890\n",
       "recall       0.657   0.604      0.653      0.631         0.653\n",
       "support    583.000  48.000    631.000    631.000       631.000"
      ]
     },
     "metadata": {},
     "output_type": "display_data"
    },
    {
     "name": "stderr",
     "output_type": "stream",
     "text": [
      "INFO - 2019-03-27 20:03:30,755 - Reading Structured data ...\n",
      "INFO - 2019-03-27 20:03:30,911 - Reading Notes ...\n",
      "INFO - 2019-03-27 20:03:32,441 - Stratifying ...\n"
     ]
    },
    {
     "name": "stdout",
     "output_type": "stream",
     "text": [
      "Pos Percentage [0.10839746]\n"
     ]
    },
    {
     "name": "stderr",
     "output_type": "stream",
     "text": [
      "INFO - 2019-03-27 20:03:33,001 - Maximum Sentence Length 585530.000000 , 90 percentile length 22037.000000 ... \n",
      "INFO - 2019-03-27 20:03:33,890 - Truncated all ...\n",
      "INFO - 2019-03-27 20:03:33,895 - Idxs removed []...\n",
      "INFO - 2019-03-27 20:03:34,034 - Maximum Sentence Length 65362.000000 , 90 percentile length 18471.000000 ... \n"
     ]
    },
    {
     "name": "stdout",
     "output_type": "stream",
     "text": [
      "Pos Percentage [0.08990536]\n"
     ]
    },
    {
     "name": "stderr",
     "output_type": "stream",
     "text": [
      "INFO - 2019-03-27 20:03:34,215 - Truncated all ...\n",
      "INFO - 2019-03-27 20:03:34,217 - Idxs removed []...\n",
      "INFO - 2019-03-27 20:03:34,312 - Maximum Sentence Length 109694.000000 , 90 percentile length 19819.000000 ... \n"
     ]
    },
    {
     "name": "stdout",
     "output_type": "stream",
     "text": [
      "Pos Percentage [0.07606973]\n"
     ]
    },
    {
     "name": "stderr",
     "output_type": "stream",
     "text": [
      "INFO - 2019-03-27 20:03:34,513 - Truncated all ...\n",
      "INFO - 2019-03-27 20:03:34,515 - Idxs removed []...\n"
     ]
    },
    {
     "name": "stdout",
     "output_type": "stream",
     "text": [
      "Not running LDA, Yay !\n"
     ]
    },
    {
     "data": {
      "application/vnd.jupyter.widget-view+json": {
       "model_id": "4eb1a15eb6ef45c5b525bd3d4e10574e",
       "version_major": 2,
       "version_minor": 0
      },
      "text/plain": [
       "HBox(children=(IntProgress(value=0, max=1000), HTML(value='')))"
      ]
     },
     "metadata": {},
     "output_type": "display_data"
    },
    {
     "name": "stdout",
     "output_type": "stream",
     "text": [
      "\n",
      "Normalising using l2\n",
      "Using Norm from linalg\n",
      "Multiplying by constant ,  1.0\n",
      "Fitting ...  BOW\n"
     ]
    },
    {
     "data": {
      "application/vnd.jupyter.widget-view+json": {
       "model_id": "aa7016612d164ccd9c312399ce54e5e3",
       "version_major": 2,
       "version_minor": 0
      },
      "text/plain": [
       "HBox(children=(IntProgress(value=0, max=634), HTML(value='')))"
      ]
     },
     "metadata": {},
     "output_type": "display_data"
    },
    {
     "name": "stdout",
     "output_type": "stream",
     "text": [
      "\n",
      "Normalising using l2\n",
      "Using Norm from linalg\n",
      "Multiplying by constant ,  1.0\n",
      "BOW\n",
      "{'accuracy': 0.7933753943217665, 'roc_auc': 0.7799112165161605, 'pr_auc': 0.32414599707411706}\n"
     ]
    },
    {
     "data": {
      "text/html": [
       "<div>\n",
       "<style scoped>\n",
       "    .dataframe tbody tr th:only-of-type {\n",
       "        vertical-align: middle;\n",
       "    }\n",
       "\n",
       "    .dataframe tbody tr th {\n",
       "        vertical-align: top;\n",
       "    }\n",
       "\n",
       "    .dataframe thead th {\n",
       "        text-align: right;\n",
       "    }\n",
       "</style>\n",
       "<table border=\"1\" class=\"dataframe\">\n",
       "  <thead>\n",
       "    <tr style=\"text-align: right;\">\n",
       "      <th></th>\n",
       "      <th>0.0</th>\n",
       "      <th>1.0</th>\n",
       "      <th>micro avg</th>\n",
       "      <th>macro avg</th>\n",
       "      <th>weighted avg</th>\n",
       "    </tr>\n",
       "  </thead>\n",
       "  <tbody>\n",
       "    <tr>\n",
       "      <th>f1-score</th>\n",
       "      <td>0.877</td>\n",
       "      <td>0.348</td>\n",
       "      <td>0.793</td>\n",
       "      <td>0.613</td>\n",
       "      <td>0.830</td>\n",
       "    </tr>\n",
       "    <tr>\n",
       "      <th>precision</th>\n",
       "      <td>0.955</td>\n",
       "      <td>0.243</td>\n",
       "      <td>0.793</td>\n",
       "      <td>0.599</td>\n",
       "      <td>0.891</td>\n",
       "    </tr>\n",
       "    <tr>\n",
       "      <th>recall</th>\n",
       "      <td>0.811</td>\n",
       "      <td>0.614</td>\n",
       "      <td>0.793</td>\n",
       "      <td>0.713</td>\n",
       "      <td>0.793</td>\n",
       "    </tr>\n",
       "    <tr>\n",
       "      <th>support</th>\n",
       "      <td>577.000</td>\n",
       "      <td>57.000</td>\n",
       "      <td>634.000</td>\n",
       "      <td>634.000</td>\n",
       "      <td>634.000</td>\n",
       "    </tr>\n",
       "  </tbody>\n",
       "</table>\n",
       "</div>"
      ],
      "text/plain": [
       "               0.0     1.0  micro avg  macro avg  weighted avg\n",
       "f1-score     0.877   0.348      0.793      0.613         0.830\n",
       "precision    0.955   0.243      0.793      0.599         0.891\n",
       "recall       0.811   0.614      0.793      0.713         0.793\n",
       "support    577.000  57.000    634.000    634.000       634.000"
      ]
     },
     "metadata": {},
     "output_type": "display_data"
    },
    {
     "data": {
      "application/vnd.jupyter.widget-view+json": {
       "model_id": "a1994c81b61e4937928692d39442205f",
       "version_major": 2,
       "version_minor": 0
      },
      "text/plain": [
       "HBox(children=(IntProgress(value=0, max=631), HTML(value='')))"
      ]
     },
     "metadata": {},
     "output_type": "display_data"
    },
    {
     "name": "stdout",
     "output_type": "stream",
     "text": [
      "\n",
      "Normalising using l2\n",
      "Using Norm from linalg\n",
      "Multiplying by constant ,  1.0\n",
      "BOW\n",
      "{'accuracy': 0.7654516640253566, 'roc_auc': 0.7481596626643797, 'pr_auc': 0.18685348685776387}\n"
     ]
    },
    {
     "data": {
      "text/html": [
       "<div>\n",
       "<style scoped>\n",
       "    .dataframe tbody tr th:only-of-type {\n",
       "        vertical-align: middle;\n",
       "    }\n",
       "\n",
       "    .dataframe tbody tr th {\n",
       "        vertical-align: top;\n",
       "    }\n",
       "\n",
       "    .dataframe thead th {\n",
       "        text-align: right;\n",
       "    }\n",
       "</style>\n",
       "<table border=\"1\" class=\"dataframe\">\n",
       "  <thead>\n",
       "    <tr style=\"text-align: right;\">\n",
       "      <th></th>\n",
       "      <th>0.0</th>\n",
       "      <th>1.0</th>\n",
       "      <th>micro avg</th>\n",
       "      <th>macro avg</th>\n",
       "      <th>weighted avg</th>\n",
       "    </tr>\n",
       "  </thead>\n",
       "  <tbody>\n",
       "    <tr>\n",
       "      <th>f1-score</th>\n",
       "      <td>0.860</td>\n",
       "      <td>0.282</td>\n",
       "      <td>0.765</td>\n",
       "      <td>0.571</td>\n",
       "      <td>0.816</td>\n",
       "    </tr>\n",
       "    <tr>\n",
       "      <th>precision</th>\n",
       "      <td>0.960</td>\n",
       "      <td>0.184</td>\n",
       "      <td>0.765</td>\n",
       "      <td>0.572</td>\n",
       "      <td>0.901</td>\n",
       "    </tr>\n",
       "    <tr>\n",
       "      <th>recall</th>\n",
       "      <td>0.779</td>\n",
       "      <td>0.604</td>\n",
       "      <td>0.765</td>\n",
       "      <td>0.691</td>\n",
       "      <td>0.765</td>\n",
       "    </tr>\n",
       "    <tr>\n",
       "      <th>support</th>\n",
       "      <td>583.000</td>\n",
       "      <td>48.000</td>\n",
       "      <td>631.000</td>\n",
       "      <td>631.000</td>\n",
       "      <td>631.000</td>\n",
       "    </tr>\n",
       "  </tbody>\n",
       "</table>\n",
       "</div>"
      ],
      "text/plain": [
       "               0.0     1.0  micro avg  macro avg  weighted avg\n",
       "f1-score     0.860   0.282      0.765      0.571         0.816\n",
       "precision    0.960   0.184      0.765      0.572         0.901\n",
       "recall       0.779   0.604      0.765      0.691         0.765\n",
       "support    583.000  48.000    631.000    631.000       631.000"
      ]
     },
     "metadata": {},
     "output_type": "display_data"
    },
    {
     "name": "stderr",
     "output_type": "stream",
     "text": [
      "INFO - 2019-03-27 20:03:38,170 - Reading Structured data ...\n",
      "INFO - 2019-03-27 20:03:38,322 - Reading Notes ...\n",
      "INFO - 2019-03-27 20:03:39,297 - Stratifying ...\n"
     ]
    },
    {
     "name": "stdout",
     "output_type": "stream",
     "text": [
      "Pos Percentage [0.10839746]\n"
     ]
    },
    {
     "name": "stderr",
     "output_type": "stream",
     "text": [
      "INFO - 2019-03-27 20:03:39,875 - Maximum Sentence Length 585530.000000 , 90 percentile length 22037.000000 ... \n",
      "INFO - 2019-03-27 20:03:41,589 - Truncated all ...\n",
      "INFO - 2019-03-27 20:03:41,602 - Idxs removed []...\n",
      "INFO - 2019-03-27 20:03:41,756 - Maximum Sentence Length 65362.000000 , 90 percentile length 18471.000000 ... \n"
     ]
    },
    {
     "name": "stdout",
     "output_type": "stream",
     "text": [
      "Pos Percentage [0.08990536]\n"
     ]
    },
    {
     "name": "stderr",
     "output_type": "stream",
     "text": [
      "INFO - 2019-03-27 20:03:41,940 - Truncated all ...\n",
      "INFO - 2019-03-27 20:03:41,942 - Idxs removed []...\n",
      "INFO - 2019-03-27 20:03:42,058 - Maximum Sentence Length 109694.000000 , 90 percentile length 19819.000000 ... \n"
     ]
    },
    {
     "name": "stdout",
     "output_type": "stream",
     "text": [
      "Pos Percentage [0.07606973]\n"
     ]
    },
    {
     "name": "stderr",
     "output_type": "stream",
     "text": [
      "INFO - 2019-03-27 20:03:42,269 - Truncated all ...\n",
      "INFO - 2019-03-27 20:03:42,271 - Idxs removed []...\n"
     ]
    },
    {
     "name": "stdout",
     "output_type": "stream",
     "text": [
      "Not running LDA, Yay !\n"
     ]
    },
    {
     "data": {
      "application/vnd.jupyter.widget-view+json": {
       "model_id": "95865ed098c1411c828f027d3dfbeec8",
       "version_major": 2,
       "version_minor": 0
      },
      "text/plain": [
       "HBox(children=(IntProgress(value=0, max=700), HTML(value='')))"
      ]
     },
     "metadata": {},
     "output_type": "display_data"
    },
    {
     "name": "stdout",
     "output_type": "stream",
     "text": [
      "\n",
      "Normalising using l2\n",
      "Using Norm from linalg\n",
      "Multiplying by constant ,  1.0\n",
      "Fitting ...  BOW\n"
     ]
    },
    {
     "data": {
      "application/vnd.jupyter.widget-view+json": {
       "model_id": "4967af3835f940309d8eca43e83d21cc",
       "version_major": 2,
       "version_minor": 0
      },
      "text/plain": [
       "HBox(children=(IntProgress(value=0, max=634), HTML(value='')))"
      ]
     },
     "metadata": {},
     "output_type": "display_data"
    },
    {
     "name": "stdout",
     "output_type": "stream",
     "text": [
      "\n",
      "Normalising using l2\n",
      "Using Norm from linalg\n",
      "Multiplying by constant ,  1.0\n",
      "BOW\n",
      "{'accuracy': 0.7949526813880127, 'roc_auc': 0.7564839307975311, 'pr_auc': 0.28091757784090776}\n"
     ]
    },
    {
     "data": {
      "text/html": [
       "<div>\n",
       "<style scoped>\n",
       "    .dataframe tbody tr th:only-of-type {\n",
       "        vertical-align: middle;\n",
       "    }\n",
       "\n",
       "    .dataframe tbody tr th {\n",
       "        vertical-align: top;\n",
       "    }\n",
       "\n",
       "    .dataframe thead th {\n",
       "        text-align: right;\n",
       "    }\n",
       "</style>\n",
       "<table border=\"1\" class=\"dataframe\">\n",
       "  <thead>\n",
       "    <tr style=\"text-align: right;\">\n",
       "      <th></th>\n",
       "      <th>0.0</th>\n",
       "      <th>1.0</th>\n",
       "      <th>micro avg</th>\n",
       "      <th>macro avg</th>\n",
       "      <th>weighted avg</th>\n",
       "    </tr>\n",
       "  </thead>\n",
       "  <tbody>\n",
       "    <tr>\n",
       "      <th>f1-score</th>\n",
       "      <td>0.878</td>\n",
       "      <td>0.356</td>\n",
       "      <td>0.795</td>\n",
       "      <td>0.617</td>\n",
       "      <td>0.831</td>\n",
       "    </tr>\n",
       "    <tr>\n",
       "      <th>precision</th>\n",
       "      <td>0.957</td>\n",
       "      <td>0.248</td>\n",
       "      <td>0.795</td>\n",
       "      <td>0.603</td>\n",
       "      <td>0.893</td>\n",
       "    </tr>\n",
       "    <tr>\n",
       "      <th>recall</th>\n",
       "      <td>0.811</td>\n",
       "      <td>0.632</td>\n",
       "      <td>0.795</td>\n",
       "      <td>0.721</td>\n",
       "      <td>0.795</td>\n",
       "    </tr>\n",
       "    <tr>\n",
       "      <th>support</th>\n",
       "      <td>577.000</td>\n",
       "      <td>57.000</td>\n",
       "      <td>634.000</td>\n",
       "      <td>634.000</td>\n",
       "      <td>634.000</td>\n",
       "    </tr>\n",
       "  </tbody>\n",
       "</table>\n",
       "</div>"
      ],
      "text/plain": [
       "               0.0     1.0  micro avg  macro avg  weighted avg\n",
       "f1-score     0.878   0.356      0.795      0.617         0.831\n",
       "precision    0.957   0.248      0.795      0.603         0.893\n",
       "recall       0.811   0.632      0.795      0.721         0.795\n",
       "support    577.000  57.000    634.000    634.000       634.000"
      ]
     },
     "metadata": {},
     "output_type": "display_data"
    },
    {
     "data": {
      "application/vnd.jupyter.widget-view+json": {
       "model_id": "764581b3bb2643c8ac70be8691d65474",
       "version_major": 2,
       "version_minor": 0
      },
      "text/plain": [
       "HBox(children=(IntProgress(value=0, max=631), HTML(value='')))"
      ]
     },
     "metadata": {},
     "output_type": "display_data"
    },
    {
     "name": "stdout",
     "output_type": "stream",
     "text": [
      "\n",
      "Normalising using l2\n",
      "Using Norm from linalg\n",
      "Multiplying by constant ,  1.0\n",
      "BOW\n",
      "{'accuracy': 0.751188589540412, 'roc_auc': 0.7018832189822755, 'pr_auc': 0.17945380764569108}\n"
     ]
    },
    {
     "data": {
      "text/html": [
       "<div>\n",
       "<style scoped>\n",
       "    .dataframe tbody tr th:only-of-type {\n",
       "        vertical-align: middle;\n",
       "    }\n",
       "\n",
       "    .dataframe tbody tr th {\n",
       "        vertical-align: top;\n",
       "    }\n",
       "\n",
       "    .dataframe thead th {\n",
       "        text-align: right;\n",
       "    }\n",
       "</style>\n",
       "<table border=\"1\" class=\"dataframe\">\n",
       "  <thead>\n",
       "    <tr style=\"text-align: right;\">\n",
       "      <th></th>\n",
       "      <th>0.0</th>\n",
       "      <th>1.0</th>\n",
       "      <th>micro avg</th>\n",
       "      <th>macro avg</th>\n",
       "      <th>weighted avg</th>\n",
       "    </tr>\n",
       "  </thead>\n",
       "  <tbody>\n",
       "    <tr>\n",
       "      <th>f1-score</th>\n",
       "      <td>0.851</td>\n",
       "      <td>0.234</td>\n",
       "      <td>0.751</td>\n",
       "      <td>0.543</td>\n",
       "      <td>0.805</td>\n",
       "    </tr>\n",
       "    <tr>\n",
       "      <th>precision</th>\n",
       "      <td>0.949</td>\n",
       "      <td>0.153</td>\n",
       "      <td>0.751</td>\n",
       "      <td>0.551</td>\n",
       "      <td>0.889</td>\n",
       "    </tr>\n",
       "    <tr>\n",
       "      <th>recall</th>\n",
       "      <td>0.772</td>\n",
       "      <td>0.500</td>\n",
       "      <td>0.751</td>\n",
       "      <td>0.636</td>\n",
       "      <td>0.751</td>\n",
       "    </tr>\n",
       "    <tr>\n",
       "      <th>support</th>\n",
       "      <td>583.000</td>\n",
       "      <td>48.000</td>\n",
       "      <td>631.000</td>\n",
       "      <td>631.000</td>\n",
       "      <td>631.000</td>\n",
       "    </tr>\n",
       "  </tbody>\n",
       "</table>\n",
       "</div>"
      ],
      "text/plain": [
       "               0.0     1.0  micro avg  macro avg  weighted avg\n",
       "f1-score     0.851   0.234      0.751      0.543         0.805\n",
       "precision    0.949   0.153      0.751      0.551         0.889\n",
       "recall       0.772   0.500      0.751      0.636         0.751\n",
       "support    583.000  48.000    631.000    631.000       631.000"
      ]
     },
     "metadata": {},
     "output_type": "display_data"
    },
    {
     "name": "stderr",
     "output_type": "stream",
     "text": [
      "INFO - 2019-03-27 20:03:45,499 - Reading Structured data ...\n",
      "INFO - 2019-03-27 20:03:45,649 - Reading Notes ...\n",
      "INFO - 2019-03-27 20:03:46,505 - Stratifying ...\n"
     ]
    },
    {
     "name": "stdout",
     "output_type": "stream",
     "text": [
      "Pos Percentage [0.10839746]\n"
     ]
    },
    {
     "name": "stderr",
     "output_type": "stream",
     "text": [
      "INFO - 2019-03-27 20:03:47,152 - Maximum Sentence Length 585530.000000 , 90 percentile length 22037.000000 ... \n",
      "INFO - 2019-03-27 20:03:47,927 - Truncated all ...\n",
      "INFO - 2019-03-27 20:03:47,933 - Idxs removed []...\n",
      "INFO - 2019-03-27 20:03:48,079 - Maximum Sentence Length 65362.000000 , 90 percentile length 18471.000000 ... \n"
     ]
    },
    {
     "name": "stdout",
     "output_type": "stream",
     "text": [
      "Pos Percentage [0.08990536]\n"
     ]
    },
    {
     "name": "stderr",
     "output_type": "stream",
     "text": [
      "INFO - 2019-03-27 20:03:48,227 - Truncated all ...\n",
      "INFO - 2019-03-27 20:03:48,229 - Idxs removed []...\n",
      "INFO - 2019-03-27 20:03:48,331 - Maximum Sentence Length 109694.000000 , 90 percentile length 19819.000000 ... \n"
     ]
    },
    {
     "name": "stdout",
     "output_type": "stream",
     "text": [
      "Pos Percentage [0.07606973]\n"
     ]
    },
    {
     "name": "stderr",
     "output_type": "stream",
     "text": [
      "INFO - 2019-03-27 20:03:49,324 - Truncated all ...\n",
      "INFO - 2019-03-27 20:03:49,326 - Idxs removed []...\n"
     ]
    },
    {
     "name": "stdout",
     "output_type": "stream",
     "text": [
      "Not running LDA, Yay !\n"
     ]
    },
    {
     "data": {
      "application/vnd.jupyter.widget-view+json": {
       "model_id": "94b9d6b874de4183be41900304e2060f",
       "version_major": 2,
       "version_minor": 0
      },
      "text/plain": [
       "HBox(children=(IntProgress(value=0, max=900), HTML(value='')))"
      ]
     },
     "metadata": {},
     "output_type": "display_data"
    },
    {
     "name": "stdout",
     "output_type": "stream",
     "text": [
      "\n",
      "Normalising using l2\n",
      "Using Norm from linalg\n",
      "Multiplying by constant ,  1.0\n",
      "Fitting ...  BOW\n"
     ]
    },
    {
     "data": {
      "application/vnd.jupyter.widget-view+json": {
       "model_id": "04906bcdf96748c1bd5008e0ffa4dd2b",
       "version_major": 2,
       "version_minor": 0
      },
      "text/plain": [
       "HBox(children=(IntProgress(value=0, max=634), HTML(value='')))"
      ]
     },
     "metadata": {},
     "output_type": "display_data"
    },
    {
     "name": "stdout",
     "output_type": "stream",
     "text": [
      "\n",
      "Normalising using l2\n",
      "Using Norm from linalg\n",
      "Multiplying by constant ,  1.0\n",
      "BOW\n",
      "{'accuracy': 0.7933753943217665, 'roc_auc': 0.7672778132506309, 'pr_auc': 0.2896991130155733}\n"
     ]
    },
    {
     "data": {
      "text/html": [
       "<div>\n",
       "<style scoped>\n",
       "    .dataframe tbody tr th:only-of-type {\n",
       "        vertical-align: middle;\n",
       "    }\n",
       "\n",
       "    .dataframe tbody tr th {\n",
       "        vertical-align: top;\n",
       "    }\n",
       "\n",
       "    .dataframe thead th {\n",
       "        text-align: right;\n",
       "    }\n",
       "</style>\n",
       "<table border=\"1\" class=\"dataframe\">\n",
       "  <thead>\n",
       "    <tr style=\"text-align: right;\">\n",
       "      <th></th>\n",
       "      <th>0.0</th>\n",
       "      <th>1.0</th>\n",
       "      <th>micro avg</th>\n",
       "      <th>macro avg</th>\n",
       "      <th>weighted avg</th>\n",
       "    </tr>\n",
       "  </thead>\n",
       "  <tbody>\n",
       "    <tr>\n",
       "      <th>f1-score</th>\n",
       "      <td>0.877</td>\n",
       "      <td>0.355</td>\n",
       "      <td>0.793</td>\n",
       "      <td>0.616</td>\n",
       "      <td>0.830</td>\n",
       "    </tr>\n",
       "    <tr>\n",
       "      <th>precision</th>\n",
       "      <td>0.957</td>\n",
       "      <td>0.247</td>\n",
       "      <td>0.793</td>\n",
       "      <td>0.602</td>\n",
       "      <td>0.893</td>\n",
       "    </tr>\n",
       "    <tr>\n",
       "      <th>recall</th>\n",
       "      <td>0.809</td>\n",
       "      <td>0.632</td>\n",
       "      <td>0.793</td>\n",
       "      <td>0.720</td>\n",
       "      <td>0.793</td>\n",
       "    </tr>\n",
       "    <tr>\n",
       "      <th>support</th>\n",
       "      <td>577.000</td>\n",
       "      <td>57.000</td>\n",
       "      <td>634.000</td>\n",
       "      <td>634.000</td>\n",
       "      <td>634.000</td>\n",
       "    </tr>\n",
       "  </tbody>\n",
       "</table>\n",
       "</div>"
      ],
      "text/plain": [
       "               0.0     1.0  micro avg  macro avg  weighted avg\n",
       "f1-score     0.877   0.355      0.793      0.616         0.830\n",
       "precision    0.957   0.247      0.793      0.602         0.893\n",
       "recall       0.809   0.632      0.793      0.720         0.793\n",
       "support    577.000  57.000    634.000    634.000       634.000"
      ]
     },
     "metadata": {},
     "output_type": "display_data"
    },
    {
     "data": {
      "application/vnd.jupyter.widget-view+json": {
       "model_id": "385d572b5d194c99a6b297665ea1baa3",
       "version_major": 2,
       "version_minor": 0
      },
      "text/plain": [
       "HBox(children=(IntProgress(value=0, max=631), HTML(value='')))"
      ]
     },
     "metadata": {},
     "output_type": "display_data"
    },
    {
     "name": "stdout",
     "output_type": "stream",
     "text": [
      "\n",
      "Normalising using l2\n",
      "Using Norm from linalg\n",
      "Multiplying by constant ,  1.0\n",
      "BOW\n",
      "{'accuracy': 0.7543581616481775, 'roc_auc': 0.7300421669525443, 'pr_auc': 0.17968151902767326}\n"
     ]
    },
    {
     "data": {
      "text/html": [
       "<div>\n",
       "<style scoped>\n",
       "    .dataframe tbody tr th:only-of-type {\n",
       "        vertical-align: middle;\n",
       "    }\n",
       "\n",
       "    .dataframe tbody tr th {\n",
       "        vertical-align: top;\n",
       "    }\n",
       "\n",
       "    .dataframe thead th {\n",
       "        text-align: right;\n",
       "    }\n",
       "</style>\n",
       "<table border=\"1\" class=\"dataframe\">\n",
       "  <thead>\n",
       "    <tr style=\"text-align: right;\">\n",
       "      <th></th>\n",
       "      <th>0.0</th>\n",
       "      <th>1.0</th>\n",
       "      <th>micro avg</th>\n",
       "      <th>macro avg</th>\n",
       "      <th>weighted avg</th>\n",
       "    </tr>\n",
       "  </thead>\n",
       "  <tbody>\n",
       "    <tr>\n",
       "      <th>f1-score</th>\n",
       "      <td>0.854</td>\n",
       "      <td>0.236</td>\n",
       "      <td>0.754</td>\n",
       "      <td>0.545</td>\n",
       "      <td>0.807</td>\n",
       "    </tr>\n",
       "    <tr>\n",
       "      <th>precision</th>\n",
       "      <td>0.950</td>\n",
       "      <td>0.155</td>\n",
       "      <td>0.754</td>\n",
       "      <td>0.552</td>\n",
       "      <td>0.889</td>\n",
       "    </tr>\n",
       "    <tr>\n",
       "      <th>recall</th>\n",
       "      <td>0.775</td>\n",
       "      <td>0.500</td>\n",
       "      <td>0.754</td>\n",
       "      <td>0.638</td>\n",
       "      <td>0.754</td>\n",
       "    </tr>\n",
       "    <tr>\n",
       "      <th>support</th>\n",
       "      <td>583.000</td>\n",
       "      <td>48.000</td>\n",
       "      <td>631.000</td>\n",
       "      <td>631.000</td>\n",
       "      <td>631.000</td>\n",
       "    </tr>\n",
       "  </tbody>\n",
       "</table>\n",
       "</div>"
      ],
      "text/plain": [
       "               0.0     1.0  micro avg  macro avg  weighted avg\n",
       "f1-score     0.854   0.236      0.754      0.545         0.807\n",
       "precision    0.950   0.155      0.754      0.552         0.889\n",
       "recall       0.775   0.500      0.754      0.638         0.754\n",
       "support    583.000  48.000    631.000    631.000       631.000"
      ]
     },
     "metadata": {},
     "output_type": "display_data"
    },
    {
     "name": "stderr",
     "output_type": "stream",
     "text": [
      "INFO - 2019-03-27 20:03:52,935 - Reading Structured data ...\n",
      "INFO - 2019-03-27 20:03:53,086 - Reading Notes ...\n",
      "INFO - 2019-03-27 20:03:54,070 - Stratifying ...\n"
     ]
    },
    {
     "name": "stdout",
     "output_type": "stream",
     "text": [
      "Pos Percentage [0.10839746]\n"
     ]
    },
    {
     "name": "stderr",
     "output_type": "stream",
     "text": [
      "INFO - 2019-03-27 20:03:54,727 - Maximum Sentence Length 585530.000000 , 90 percentile length 22037.000000 ... \n",
      "INFO - 2019-03-27 20:03:55,593 - Truncated all ...\n",
      "INFO - 2019-03-27 20:03:55,598 - Idxs removed []...\n",
      "INFO - 2019-03-27 20:03:55,756 - Maximum Sentence Length 65362.000000 , 90 percentile length 18471.000000 ... \n"
     ]
    },
    {
     "name": "stdout",
     "output_type": "stream",
     "text": [
      "Pos Percentage [0.08990536]\n"
     ]
    },
    {
     "name": "stderr",
     "output_type": "stream",
     "text": [
      "INFO - 2019-03-27 20:03:55,962 - Truncated all ...\n",
      "INFO - 2019-03-27 20:03:55,963 - Idxs removed []...\n",
      "INFO - 2019-03-27 20:03:56,078 - Maximum Sentence Length 109694.000000 , 90 percentile length 19819.000000 ... \n"
     ]
    },
    {
     "name": "stdout",
     "output_type": "stream",
     "text": [
      "Pos Percentage [0.07606973]\n"
     ]
    },
    {
     "name": "stderr",
     "output_type": "stream",
     "text": [
      "INFO - 2019-03-27 20:03:56,251 - Truncated all ...\n",
      "INFO - 2019-03-27 20:03:56,253 - Idxs removed []...\n"
     ]
    },
    {
     "name": "stdout",
     "output_type": "stream",
     "text": [
      "Not running LDA, Yay !\n"
     ]
    },
    {
     "data": {
      "application/vnd.jupyter.widget-view+json": {
       "model_id": "dfaf72ed2bd44ed1af73de8a721e13ce",
       "version_major": 2,
       "version_minor": 0
      },
      "text/plain": [
       "HBox(children=(IntProgress(value=0, max=1500), HTML(value='')))"
      ]
     },
     "metadata": {},
     "output_type": "display_data"
    },
    {
     "name": "stdout",
     "output_type": "stream",
     "text": [
      "\n",
      "Normalising using l2\n",
      "Using Norm from linalg\n",
      "Multiplying by constant ,  1.0\n",
      "Fitting ...  BOW\n"
     ]
    },
    {
     "data": {
      "application/vnd.jupyter.widget-view+json": {
       "model_id": "552cf9e937a14ad79f395fa43495c7be",
       "version_major": 2,
       "version_minor": 0
      },
      "text/plain": [
       "HBox(children=(IntProgress(value=0, max=634), HTML(value='')))"
      ]
     },
     "metadata": {},
     "output_type": "display_data"
    },
    {
     "name": "stdout",
     "output_type": "stream",
     "text": [
      "\n",
      "Normalising using l2\n",
      "Using Norm from linalg\n",
      "Multiplying by constant ,  1.0\n",
      "BOW\n",
      "{'accuracy': 0.8217665615141956, 'roc_auc': 0.8000395268934902, 'pr_auc': 0.37421469559349063}\n"
     ]
    },
    {
     "data": {
      "text/html": [
       "<div>\n",
       "<style scoped>\n",
       "    .dataframe tbody tr th:only-of-type {\n",
       "        vertical-align: middle;\n",
       "    }\n",
       "\n",
       "    .dataframe tbody tr th {\n",
       "        vertical-align: top;\n",
       "    }\n",
       "\n",
       "    .dataframe thead th {\n",
       "        text-align: right;\n",
       "    }\n",
       "</style>\n",
       "<table border=\"1\" class=\"dataframe\">\n",
       "  <thead>\n",
       "    <tr style=\"text-align: right;\">\n",
       "      <th></th>\n",
       "      <th>0.0</th>\n",
       "      <th>1.0</th>\n",
       "      <th>micro avg</th>\n",
       "      <th>macro avg</th>\n",
       "      <th>weighted avg</th>\n",
       "    </tr>\n",
       "  </thead>\n",
       "  <tbody>\n",
       "    <tr>\n",
       "      <th>f1-score</th>\n",
       "      <td>0.896</td>\n",
       "      <td>0.383</td>\n",
       "      <td>0.822</td>\n",
       "      <td>0.639</td>\n",
       "      <td>0.850</td>\n",
       "    </tr>\n",
       "    <tr>\n",
       "      <th>precision</th>\n",
       "      <td>0.957</td>\n",
       "      <td>0.278</td>\n",
       "      <td>0.822</td>\n",
       "      <td>0.617</td>\n",
       "      <td>0.896</td>\n",
       "    </tr>\n",
       "    <tr>\n",
       "      <th>recall</th>\n",
       "      <td>0.842</td>\n",
       "      <td>0.614</td>\n",
       "      <td>0.822</td>\n",
       "      <td>0.728</td>\n",
       "      <td>0.822</td>\n",
       "    </tr>\n",
       "    <tr>\n",
       "      <th>support</th>\n",
       "      <td>577.000</td>\n",
       "      <td>57.000</td>\n",
       "      <td>634.000</td>\n",
       "      <td>634.000</td>\n",
       "      <td>634.000</td>\n",
       "    </tr>\n",
       "  </tbody>\n",
       "</table>\n",
       "</div>"
      ],
      "text/plain": [
       "               0.0     1.0  micro avg  macro avg  weighted avg\n",
       "f1-score     0.896   0.383      0.822      0.639         0.850\n",
       "precision    0.957   0.278      0.822      0.617         0.896\n",
       "recall       0.842   0.614      0.822      0.728         0.822\n",
       "support    577.000  57.000    634.000    634.000       634.000"
      ]
     },
     "metadata": {},
     "output_type": "display_data"
    },
    {
     "data": {
      "application/vnd.jupyter.widget-view+json": {
       "model_id": "8a1fed5321714d00925fbb112df827f2",
       "version_major": 2,
       "version_minor": 0
      },
      "text/plain": [
       "HBox(children=(IntProgress(value=0, max=631), HTML(value='')))"
      ]
     },
     "metadata": {},
     "output_type": "display_data"
    },
    {
     "name": "stdout",
     "output_type": "stream",
     "text": [
      "\n",
      "Normalising using l2\n",
      "Using Norm from linalg\n",
      "Multiplying by constant ,  1.0\n",
      "BOW\n",
      "{'accuracy': 0.8193343898573693, 'roc_auc': 0.7845018582046884, 'pr_auc': 0.25618808307899765}\n"
     ]
    },
    {
     "data": {
      "text/html": [
       "<div>\n",
       "<style scoped>\n",
       "    .dataframe tbody tr th:only-of-type {\n",
       "        vertical-align: middle;\n",
       "    }\n",
       "\n",
       "    .dataframe tbody tr th {\n",
       "        vertical-align: top;\n",
       "    }\n",
       "\n",
       "    .dataframe thead th {\n",
       "        text-align: right;\n",
       "    }\n",
       "</style>\n",
       "<table border=\"1\" class=\"dataframe\">\n",
       "  <thead>\n",
       "    <tr style=\"text-align: right;\">\n",
       "      <th></th>\n",
       "      <th>0.0</th>\n",
       "      <th>1.0</th>\n",
       "      <th>micro avg</th>\n",
       "      <th>macro avg</th>\n",
       "      <th>weighted avg</th>\n",
       "    </tr>\n",
       "  </thead>\n",
       "  <tbody>\n",
       "    <tr>\n",
       "      <th>f1-score</th>\n",
       "      <td>0.896</td>\n",
       "      <td>0.329</td>\n",
       "      <td>0.819</td>\n",
       "      <td>0.613</td>\n",
       "      <td>0.853</td>\n",
       "    </tr>\n",
       "    <tr>\n",
       "      <th>precision</th>\n",
       "      <td>0.961</td>\n",
       "      <td>0.230</td>\n",
       "      <td>0.819</td>\n",
       "      <td>0.595</td>\n",
       "      <td>0.905</td>\n",
       "    </tr>\n",
       "    <tr>\n",
       "      <th>recall</th>\n",
       "      <td>0.839</td>\n",
       "      <td>0.583</td>\n",
       "      <td>0.819</td>\n",
       "      <td>0.711</td>\n",
       "      <td>0.819</td>\n",
       "    </tr>\n",
       "    <tr>\n",
       "      <th>support</th>\n",
       "      <td>583.000</td>\n",
       "      <td>48.000</td>\n",
       "      <td>631.000</td>\n",
       "      <td>631.000</td>\n",
       "      <td>631.000</td>\n",
       "    </tr>\n",
       "  </tbody>\n",
       "</table>\n",
       "</div>"
      ],
      "text/plain": [
       "               0.0     1.0  micro avg  macro avg  weighted avg\n",
       "f1-score     0.896   0.329      0.819      0.613         0.853\n",
       "precision    0.961   0.230      0.819      0.595         0.905\n",
       "recall       0.839   0.583      0.819      0.711         0.819\n",
       "support    583.000  48.000    631.000    631.000       631.000"
      ]
     },
     "metadata": {},
     "output_type": "display_data"
    },
    {
     "name": "stderr",
     "output_type": "stream",
     "text": [
      "INFO - 2019-03-27 20:04:00,793 - Reading Structured data ...\n",
      "INFO - 2019-03-27 20:04:00,948 - Reading Notes ...\n",
      "INFO - 2019-03-27 20:04:02,452 - Stratifying ...\n"
     ]
    },
    {
     "name": "stdout",
     "output_type": "stream",
     "text": [
      "Pos Percentage [0.10839746]\n"
     ]
    },
    {
     "name": "stderr",
     "output_type": "stream",
     "text": [
      "INFO - 2019-03-27 20:04:03,026 - Maximum Sentence Length 585530.000000 , 90 percentile length 22037.000000 ... \n",
      "INFO - 2019-03-27 20:04:03,905 - Truncated all ...\n",
      "INFO - 2019-03-27 20:04:03,911 - Idxs removed []...\n",
      "INFO - 2019-03-27 20:04:04,061 - Maximum Sentence Length 65362.000000 , 90 percentile length 18471.000000 ... \n"
     ]
    },
    {
     "name": "stdout",
     "output_type": "stream",
     "text": [
      "Pos Percentage [0.08990536]\n"
     ]
    },
    {
     "name": "stderr",
     "output_type": "stream",
     "text": [
      "INFO - 2019-03-27 20:04:04,253 - Truncated all ...\n",
      "INFO - 2019-03-27 20:04:04,255 - Idxs removed []...\n",
      "INFO - 2019-03-27 20:04:04,360 - Maximum Sentence Length 109694.000000 , 90 percentile length 19819.000000 ... \n"
     ]
    },
    {
     "name": "stdout",
     "output_type": "stream",
     "text": [
      "Pos Percentage [0.07606973]\n"
     ]
    },
    {
     "name": "stderr",
     "output_type": "stream",
     "text": [
      "INFO - 2019-03-27 20:04:04,569 - Truncated all ...\n",
      "INFO - 2019-03-27 20:04:04,570 - Idxs removed []...\n"
     ]
    },
    {
     "name": "stdout",
     "output_type": "stream",
     "text": [
      "Not running LDA, Yay !\n"
     ]
    },
    {
     "data": {
      "application/vnd.jupyter.widget-view+json": {
       "model_id": "0dc747c6a9a14b0bbc3fea1e43fc3f93",
       "version_major": 2,
       "version_minor": 0
      },
      "text/plain": [
       "HBox(children=(IntProgress(value=0, max=2000), HTML(value='')))"
      ]
     },
     "metadata": {},
     "output_type": "display_data"
    },
    {
     "name": "stdout",
     "output_type": "stream",
     "text": [
      "\n",
      "Normalising using l2\n",
      "Using Norm from linalg\n",
      "Multiplying by constant ,  1.0\n",
      "Fitting ...  BOW\n"
     ]
    },
    {
     "data": {
      "application/vnd.jupyter.widget-view+json": {
       "model_id": "c8919bf488204c9b9db0f69570fc6be1",
       "version_major": 2,
       "version_minor": 0
      },
      "text/plain": [
       "HBox(children=(IntProgress(value=0, max=634), HTML(value='')))"
      ]
     },
     "metadata": {},
     "output_type": "display_data"
    },
    {
     "name": "stdout",
     "output_type": "stream",
     "text": [
      "\n",
      "Normalising using l2\n",
      "Using Norm from linalg\n",
      "Multiplying by constant ,  1.0\n",
      "BOW\n",
      "{'accuracy': 0.8438485804416404, 'roc_auc': 0.7954483261880871, 'pr_auc': 0.37372784062780035}\n"
     ]
    },
    {
     "data": {
      "text/html": [
       "<div>\n",
       "<style scoped>\n",
       "    .dataframe tbody tr th:only-of-type {\n",
       "        vertical-align: middle;\n",
       "    }\n",
       "\n",
       "    .dataframe tbody tr th {\n",
       "        vertical-align: top;\n",
       "    }\n",
       "\n",
       "    .dataframe thead th {\n",
       "        text-align: right;\n",
       "    }\n",
       "</style>\n",
       "<table border=\"1\" class=\"dataframe\">\n",
       "  <thead>\n",
       "    <tr style=\"text-align: right;\">\n",
       "      <th></th>\n",
       "      <th>0.0</th>\n",
       "      <th>1.0</th>\n",
       "      <th>micro avg</th>\n",
       "      <th>macro avg</th>\n",
       "      <th>weighted avg</th>\n",
       "    </tr>\n",
       "  </thead>\n",
       "  <tbody>\n",
       "    <tr>\n",
       "      <th>f1-score</th>\n",
       "      <td>0.910</td>\n",
       "      <td>0.400</td>\n",
       "      <td>0.844</td>\n",
       "      <td>0.655</td>\n",
       "      <td>0.864</td>\n",
       "    </tr>\n",
       "    <tr>\n",
       "      <th>precision</th>\n",
       "      <td>0.954</td>\n",
       "      <td>0.306</td>\n",
       "      <td>0.844</td>\n",
       "      <td>0.630</td>\n",
       "      <td>0.896</td>\n",
       "    </tr>\n",
       "    <tr>\n",
       "      <th>recall</th>\n",
       "      <td>0.870</td>\n",
       "      <td>0.579</td>\n",
       "      <td>0.844</td>\n",
       "      <td>0.724</td>\n",
       "      <td>0.844</td>\n",
       "    </tr>\n",
       "    <tr>\n",
       "      <th>support</th>\n",
       "      <td>577.000</td>\n",
       "      <td>57.000</td>\n",
       "      <td>634.000</td>\n",
       "      <td>634.000</td>\n",
       "      <td>634.000</td>\n",
       "    </tr>\n",
       "  </tbody>\n",
       "</table>\n",
       "</div>"
      ],
      "text/plain": [
       "               0.0     1.0  micro avg  macro avg  weighted avg\n",
       "f1-score     0.910   0.400      0.844      0.655         0.864\n",
       "precision    0.954   0.306      0.844      0.630         0.896\n",
       "recall       0.870   0.579      0.844      0.724         0.844\n",
       "support    577.000  57.000    634.000    634.000       634.000"
      ]
     },
     "metadata": {},
     "output_type": "display_data"
    },
    {
     "data": {
      "application/vnd.jupyter.widget-view+json": {
       "model_id": "379f91f82fba4a519d7218ceaffd448b",
       "version_major": 2,
       "version_minor": 0
      },
      "text/plain": [
       "HBox(children=(IntProgress(value=0, max=631), HTML(value='')))"
      ]
     },
     "metadata": {},
     "output_type": "display_data"
    },
    {
     "name": "stdout",
     "output_type": "stream",
     "text": [
      "\n",
      "Normalising using l2\n",
      "Using Norm from linalg\n",
      "Multiplying by constant ,  1.0\n",
      "BOW\n",
      "{'accuracy': 0.8129952456418383, 'roc_auc': 0.783965837621498, 'pr_auc': 0.2716247176555859}\n"
     ]
    },
    {
     "data": {
      "text/html": [
       "<div>\n",
       "<style scoped>\n",
       "    .dataframe tbody tr th:only-of-type {\n",
       "        vertical-align: middle;\n",
       "    }\n",
       "\n",
       "    .dataframe tbody tr th {\n",
       "        vertical-align: top;\n",
       "    }\n",
       "\n",
       "    .dataframe thead th {\n",
       "        text-align: right;\n",
       "    }\n",
       "</style>\n",
       "<table border=\"1\" class=\"dataframe\">\n",
       "  <thead>\n",
       "    <tr style=\"text-align: right;\">\n",
       "      <th></th>\n",
       "      <th>0.0</th>\n",
       "      <th>1.0</th>\n",
       "      <th>micro avg</th>\n",
       "      <th>macro avg</th>\n",
       "      <th>weighted avg</th>\n",
       "    </tr>\n",
       "  </thead>\n",
       "  <tbody>\n",
       "    <tr>\n",
       "      <th>f1-score</th>\n",
       "      <td>0.892</td>\n",
       "      <td>0.322</td>\n",
       "      <td>0.813</td>\n",
       "      <td>0.607</td>\n",
       "      <td>0.848</td>\n",
       "    </tr>\n",
       "    <tr>\n",
       "      <th>precision</th>\n",
       "      <td>0.960</td>\n",
       "      <td>0.222</td>\n",
       "      <td>0.813</td>\n",
       "      <td>0.591</td>\n",
       "      <td>0.904</td>\n",
       "    </tr>\n",
       "    <tr>\n",
       "      <th>recall</th>\n",
       "      <td>0.832</td>\n",
       "      <td>0.583</td>\n",
       "      <td>0.813</td>\n",
       "      <td>0.708</td>\n",
       "      <td>0.813</td>\n",
       "    </tr>\n",
       "    <tr>\n",
       "      <th>support</th>\n",
       "      <td>583.000</td>\n",
       "      <td>48.000</td>\n",
       "      <td>631.000</td>\n",
       "      <td>631.000</td>\n",
       "      <td>631.000</td>\n",
       "    </tr>\n",
       "  </tbody>\n",
       "</table>\n",
       "</div>"
      ],
      "text/plain": [
       "               0.0     1.0  micro avg  macro avg  weighted avg\n",
       "f1-score     0.892   0.322      0.813      0.607         0.848\n",
       "precision    0.960   0.222      0.813      0.591         0.904\n",
       "recall       0.832   0.583      0.813      0.708         0.813\n",
       "support    583.000  48.000    631.000    631.000       631.000"
      ]
     },
     "metadata": {},
     "output_type": "display_data"
    },
    {
     "name": "stderr",
     "output_type": "stream",
     "text": [
      "INFO - 2019-03-27 20:04:09,717 - Reading Structured data ...\n",
      "INFO - 2019-03-27 20:04:09,867 - Reading Notes ...\n",
      "INFO - 2019-03-27 20:04:11,578 - Stratifying ...\n"
     ]
    },
    {
     "name": "stdout",
     "output_type": "stream",
     "text": [
      "Pos Percentage [0.10839746]\n"
     ]
    },
    {
     "name": "stderr",
     "output_type": "stream",
     "text": [
      "INFO - 2019-03-27 20:04:12,248 - Maximum Sentence Length 585530.000000 , 90 percentile length 22037.000000 ... \n",
      "INFO - 2019-03-27 20:04:13,191 - Truncated all ...\n",
      "INFO - 2019-03-27 20:04:13,196 - Idxs removed []...\n",
      "INFO - 2019-03-27 20:04:13,353 - Maximum Sentence Length 65362.000000 , 90 percentile length 18471.000000 ... \n"
     ]
    },
    {
     "name": "stdout",
     "output_type": "stream",
     "text": [
      "Pos Percentage [0.08990536]\n"
     ]
    },
    {
     "name": "stderr",
     "output_type": "stream",
     "text": [
      "INFO - 2019-03-27 20:04:13,524 - Truncated all ...\n",
      "INFO - 2019-03-27 20:04:13,526 - Idxs removed []...\n",
      "INFO - 2019-03-27 20:04:13,636 - Maximum Sentence Length 109694.000000 , 90 percentile length 19819.000000 ... \n"
     ]
    },
    {
     "name": "stdout",
     "output_type": "stream",
     "text": [
      "Pos Percentage [0.07606973]\n"
     ]
    },
    {
     "name": "stderr",
     "output_type": "stream",
     "text": [
      "INFO - 2019-03-27 20:04:13,853 - Truncated all ...\n",
      "INFO - 2019-03-27 20:04:13,855 - Idxs removed []...\n"
     ]
    },
    {
     "name": "stdout",
     "output_type": "stream",
     "text": [
      "Not running LDA, Yay !\n"
     ]
    },
    {
     "data": {
      "application/vnd.jupyter.widget-view+json": {
       "model_id": "9fec25dbbe9a4f6888d72e2d37f24f9b",
       "version_major": 2,
       "version_minor": 0
      },
      "text/plain": [
       "HBox(children=(IntProgress(value=0, max=2500), HTML(value='')))"
      ]
     },
     "metadata": {},
     "output_type": "display_data"
    },
    {
     "name": "stdout",
     "output_type": "stream",
     "text": [
      "\n",
      "Normalising using l2\n",
      "Using Norm from linalg\n",
      "Multiplying by constant ,  1.0\n",
      "Fitting ...  BOW\n"
     ]
    },
    {
     "data": {
      "application/vnd.jupyter.widget-view+json": {
       "model_id": "7c44e4f120cb43f3a6ff34fb55cebf2a",
       "version_major": 2,
       "version_minor": 0
      },
      "text/plain": [
       "HBox(children=(IntProgress(value=0, max=634), HTML(value='')))"
      ]
     },
     "metadata": {},
     "output_type": "display_data"
    },
    {
     "name": "stdout",
     "output_type": "stream",
     "text": [
      "\n",
      "Normalising using l2\n",
      "Using Norm from linalg\n",
      "Multiplying by constant ,  1.0\n",
      "BOW\n",
      "{'accuracy': 0.8643533123028391, 'roc_auc': 0.7889111861108578, 'pr_auc': 0.37122736405455714}\n"
     ]
    },
    {
     "data": {
      "text/html": [
       "<div>\n",
       "<style scoped>\n",
       "    .dataframe tbody tr th:only-of-type {\n",
       "        vertical-align: middle;\n",
       "    }\n",
       "\n",
       "    .dataframe tbody tr th {\n",
       "        vertical-align: top;\n",
       "    }\n",
       "\n",
       "    .dataframe thead th {\n",
       "        text-align: right;\n",
       "    }\n",
       "</style>\n",
       "<table border=\"1\" class=\"dataframe\">\n",
       "  <thead>\n",
       "    <tr style=\"text-align: right;\">\n",
       "      <th></th>\n",
       "      <th>0.0</th>\n",
       "      <th>1.0</th>\n",
       "      <th>micro avg</th>\n",
       "      <th>macro avg</th>\n",
       "      <th>weighted avg</th>\n",
       "    </tr>\n",
       "  </thead>\n",
       "  <tbody>\n",
       "    <tr>\n",
       "      <th>f1-score</th>\n",
       "      <td>0.923</td>\n",
       "      <td>0.449</td>\n",
       "      <td>0.864</td>\n",
       "      <td>0.686</td>\n",
       "      <td>0.880</td>\n",
       "    </tr>\n",
       "    <tr>\n",
       "      <th>precision</th>\n",
       "      <td>0.959</td>\n",
       "      <td>0.354</td>\n",
       "      <td>0.864</td>\n",
       "      <td>0.656</td>\n",
       "      <td>0.904</td>\n",
       "    </tr>\n",
       "    <tr>\n",
       "      <th>recall</th>\n",
       "      <td>0.889</td>\n",
       "      <td>0.614</td>\n",
       "      <td>0.864</td>\n",
       "      <td>0.752</td>\n",
       "      <td>0.864</td>\n",
       "    </tr>\n",
       "    <tr>\n",
       "      <th>support</th>\n",
       "      <td>577.000</td>\n",
       "      <td>57.000</td>\n",
       "      <td>634.000</td>\n",
       "      <td>634.000</td>\n",
       "      <td>634.000</td>\n",
       "    </tr>\n",
       "  </tbody>\n",
       "</table>\n",
       "</div>"
      ],
      "text/plain": [
       "               0.0     1.0  micro avg  macro avg  weighted avg\n",
       "f1-score     0.923   0.449      0.864      0.686         0.880\n",
       "precision    0.959   0.354      0.864      0.656         0.904\n",
       "recall       0.889   0.614      0.864      0.752         0.864\n",
       "support    577.000  57.000    634.000    634.000       634.000"
      ]
     },
     "metadata": {},
     "output_type": "display_data"
    },
    {
     "data": {
      "application/vnd.jupyter.widget-view+json": {
       "model_id": "714821eb13494b3c86ee7679b92af26a",
       "version_major": 2,
       "version_minor": 0
      },
      "text/plain": [
       "HBox(children=(IntProgress(value=0, max=631), HTML(value='')))"
      ]
     },
     "metadata": {},
     "output_type": "display_data"
    },
    {
     "name": "stdout",
     "output_type": "stream",
     "text": [
      "\n",
      "Normalising using l2\n",
      "Using Norm from linalg\n",
      "Multiplying by constant ,  1.0\n",
      "BOW\n",
      "{'accuracy': 0.8304278922345484, 'roc_auc': 0.8074435391652374, 'pr_auc': 0.2898408945129096}\n"
     ]
    },
    {
     "data": {
      "text/html": [
       "<div>\n",
       "<style scoped>\n",
       "    .dataframe tbody tr th:only-of-type {\n",
       "        vertical-align: middle;\n",
       "    }\n",
       "\n",
       "    .dataframe tbody tr th {\n",
       "        vertical-align: top;\n",
       "    }\n",
       "\n",
       "    .dataframe thead th {\n",
       "        text-align: right;\n",
       "    }\n",
       "</style>\n",
       "<table border=\"1\" class=\"dataframe\">\n",
       "  <thead>\n",
       "    <tr style=\"text-align: right;\">\n",
       "      <th></th>\n",
       "      <th>0.0</th>\n",
       "      <th>1.0</th>\n",
       "      <th>micro avg</th>\n",
       "      <th>macro avg</th>\n",
       "      <th>weighted avg</th>\n",
       "    </tr>\n",
       "  </thead>\n",
       "  <tbody>\n",
       "    <tr>\n",
       "      <th>f1-score</th>\n",
       "      <td>0.902</td>\n",
       "      <td>0.352</td>\n",
       "      <td>0.83</td>\n",
       "      <td>0.627</td>\n",
       "      <td>0.861</td>\n",
       "    </tr>\n",
       "    <tr>\n",
       "      <th>precision</th>\n",
       "      <td>0.963</td>\n",
       "      <td>0.248</td>\n",
       "      <td>0.83</td>\n",
       "      <td>0.605</td>\n",
       "      <td>0.909</td>\n",
       "    </tr>\n",
       "    <tr>\n",
       "      <th>recall</th>\n",
       "      <td>0.849</td>\n",
       "      <td>0.604</td>\n",
       "      <td>0.83</td>\n",
       "      <td>0.727</td>\n",
       "      <td>0.830</td>\n",
       "    </tr>\n",
       "    <tr>\n",
       "      <th>support</th>\n",
       "      <td>583.000</td>\n",
       "      <td>48.000</td>\n",
       "      <td>631.00</td>\n",
       "      <td>631.000</td>\n",
       "      <td>631.000</td>\n",
       "    </tr>\n",
       "  </tbody>\n",
       "</table>\n",
       "</div>"
      ],
      "text/plain": [
       "               0.0     1.0  micro avg  macro avg  weighted avg\n",
       "f1-score     0.902   0.352       0.83      0.627         0.861\n",
       "precision    0.963   0.248       0.83      0.605         0.909\n",
       "recall       0.849   0.604       0.83      0.727         0.830\n",
       "support    583.000  48.000     631.00    631.000       631.000"
      ]
     },
     "metadata": {},
     "output_type": "display_data"
    }
   ],
   "source": [
    "%run \"Discovery Experiments\"/n_times_LR.py --dataset \"hip_1yr\" --data_dir='.' --output_dir='outputs' --display --n=500\n",
    "%run \"Discovery Experiments\"/n_times_LR.py --dataset \"hip_1yr\" --data_dir='.' --output_dir='outputs' --display --n=1000\n",
    "%run \"Discovery Experiments\"/n_times_LR.py --dataset \"hip_1yr\" --data_dir='.' --output_dir='outputs' --display --n=700\n",
    "%run \"Discovery Experiments\"/n_times_LR.py --dataset \"hip_1yr\" --data_dir='.' --output_dir='outputs' --display --n=900\n",
    "%run \"Discovery Experiments\"/n_times_LR.py --dataset \"hip_1yr\" --data_dir='.' --output_dir='outputs' --display --n=1500\n",
    "%run \"Discovery Experiments\"/n_times_LR.py --dataset \"hip_1yr\" --data_dir='.' --output_dir='outputs' --display --n=2000\n",
    "%run \"Discovery Experiments\"/n_times_LR.py --dataset \"hip_1yr\" --data_dir='.' --output_dir='outputs' --display --n=2500"
   ]
  },
  {
   "cell_type": "code",
   "execution_count": null,
   "metadata": {},
   "outputs": [],
   "source": [
    "%run \"Discovery Experiments\"/run_models.py --dataset \"mortality_1yr\" --exp_types hierarchical \\\n",
    "    --data_dir='.' --output_dir='outputs' --display --structured"
   ]
  },
  {
   "cell_type": "code",
   "execution_count": null,
   "metadata": {},
   "outputs": [],
   "source": [
    "%run \"Discovery Experiments\"/run_models.py --dataset \"mortality_30day\" --exp_types hierarchical \\\n",
    "    --data_dir='.' --output_dir='outputs' --display --structured"
   ]
  },
  {
   "cell_type": "code",
   "execution_count": null,
   "metadata": {},
   "outputs": [],
   "source": [
    "%run \"Discovery Experiments\"/run_models.py --dataset \"mortality_1yr\" --exp_types hierarchical \\\n",
    "    --data_dir='.' --output_dir='outputs' --display"
   ]
  },
  {
   "cell_type": "code",
   "execution_count": null,
   "metadata": {},
   "outputs": [],
   "source": [
    "%run \"Discovery Experiments\"/run_models.py --dataset \"mortality_30day\" --exp_types hierarchical \\\n",
    "    --data_dir='.' --output_dir='outputs' --display"
   ]
  },
  {
   "cell_type": "code",
   "execution_count": null,
   "metadata": {},
   "outputs": [],
   "source": [
    "%run \"Discovery Experiments\"/penalty_LR.py --dataset \"hip_1yr\" --data_dir='.' --output_dir='outputs' --display --penalty 10.0 \n",
    "%run \"Discovery Experiments\"/penalty_LR.py --dataset \"hip_1yr\" --data_dir='.' --output_dir='outputs' --display --penalty 100.0 \n",
    "%run \"Discovery Experiments\"/penalty_LR.py --dataset \"hip_1yr\" --data_dir='.' --output_dir='outputs' --display --penalty 0.1 \n",
    "%run \"Discovery Experiments\"/penalty_LR.py --dataset \"hip_1yr\" --data_dir='.' --output_dir='outputs' --display --penalty 0.01 \n",
    "%run \"Discovery Experiments\"/penalty_LR.py --dataset \"hip_1yr\" --data_dir='.' --output_dir='outputs' --display --penalty 0.001"
   ]
  },
  {
   "cell_type": "code",
   "execution_count": null,
   "metadata": {},
   "outputs": [],
   "source": [
    "%run \"Discovery Experiments\"/penalty_LR.py --dataset \"knee_1yr\" --data_dir='.' --output_dir='outputs' --display --penalty 10.0 \n",
    "%run \"Discovery Experiments\"/penalty_LR.py --dataset \"knee_1yr\" --data_dir='.' --output_dir='outputs' --display --penalty 100.0 \n",
    "%run \"Discovery Experiments\"/penalty_LR.py --dataset \"knee_1yr\" --data_dir='.' --output_dir='outputs' --display --penalty 0.1 \n",
    "%run \"Discovery Experiments\"/penalty_LR.py --dataset \"knee_1yr\" --data_dir='.' --output_dir='outputs' --display --penalty 0.01 \n",
    "%run \"Discovery Experiments\"/penalty_LR.py --dataset \"knee_1yr\" --data_dir='.' --output_dir='outputs' --display --penalty 0.001 "
   ]
  },
  {
   "cell_type": "code",
   "execution_count": null,
   "metadata": {},
   "outputs": [],
   "source": [
    "%run \"Discovery Experiments\"/penalty_LR.py --dataset \"readmission\" --data_dir='.' --output_dir='outputs' --display --penalty 10.0\n",
    "%run \"Discovery Experiments\"/penalty_LR.py --dataset \"readmission\" --data_dir='.' --output_dir='outputs' --display --penalty 100.0\n",
    "%run \"Discovery Experiments\"/penalty_LR.py --dataset \"readmission\" --data_dir='.' --output_dir='outputs' --display --penalty 1.0\n",
    "%run \"Discovery Experiments\"/penalty_LR.py --dataset \"readmission\" --data_dir='.' --output_dir='outputs' --display --penalty 0.1\n",
    "%run \"Discovery Experiments\"/penalty_LR.py --dataset \"readmission\" --data_dir='.' --output_dir='outputs' --display --penalty 0.01\n",
    "%run \"Discovery Experiments\"/penalty_LR.py --dataset \"readmission\" --data_dir='.' --output_dir='outputs' --display --penalty 0.001"
   ]
  },
  {
   "cell_type": "code",
   "execution_count": null,
   "metadata": {},
   "outputs": [],
   "source": [
    "%run \"Discovery Experiments\"/penalty_LR.py --dataset \"mortality_1yr\" --data_dir='.' --output_dir='outputs' --display --penalty 10.0 \n",
    "%run \"Discovery Experiments\"/penalty_LR.py --dataset \"mortality_1yr\" --data_dir='.' --output_dir='outputs' --display --penalty 100.0\n",
    "%run \"Discovery Experiments\"/penalty_LR.py --dataset \"mortality_1yr\" --data_dir='.' --output_dir='outputs' --display --penalty 1.0\n",
    "%run \"Discovery Experiments\"/penalty_LR.py --dataset \"mortality_1yr\" --data_dir='.' --output_dir='outputs' --display --penalty 0.1\n",
    "%run \"Discovery Experiments\"/penalty_LR.py --dataset \"mortality_1yr\" --data_dir='.' --output_dir='outputs' --display --penalty 0.01\n",
    "%run \"Discovery Experiments\"/penalty_LR.py --dataset \"mortality_1yr\" --data_dir='.' --output_dir='outputs' --display --penalty 0.001"
   ]
  },
  {
   "cell_type": "code",
   "execution_count": null,
   "metadata": {},
   "outputs": [],
   "source": [
    "%run \"Discovery Experiments\"/penalty_LR.py --dataset \"mortality_30day\" --data_dir='.' --output_dir='outputs' --display --penalty 10.0\n",
    "%run \"Discovery Experiments\"/penalty_LR.py --dataset \"mortality_30day\" --data_dir='.' --output_dir='outputs' --display --penalty 100.0\n",
    "%run \"Discovery Experiments\"/penalty_LR.py --dataset \"mortality_30day\" --data_dir='.' --output_dir='outputs' --display --penalty 1.0\n",
    "%run \"Discovery Experiments\"/penalty_LR.py --dataset \"mortality_30day\" --data_dir='.' --output_dir='outputs' --display --penalty 0.1\n",
    "%run \"Discovery Experiments\"/penalty_LR.py --dataset \"mortality_30day\" --data_dir='.' --output_dir='outputs' --display --penalty 0.01\n",
    "%run \"Discovery Experiments\"/penalty_LR.py --dataset \"mortality_30day\" --data_dir='.' --output_dir='outputs' --display --penalty 0.001"
   ]
  },
  {
   "cell_type": "code",
   "execution_count": null,
   "metadata": {},
   "outputs": [],
   "source": []
  }
 ],
 "metadata": {
  "kernelspec": {
   "display_name": "Python 3",
   "language": "python",
   "name": "python3"
  },
  "language_info": {
   "codemirror_mode": {
    "name": "ipython",
    "version": 3
   },
   "file_extension": ".py",
   "mimetype": "text/x-python",
   "name": "python",
   "nbconvert_exporter": "python",
   "pygments_lexer": "ipython3",
   "version": "3.7.1"
  }
 },
 "nbformat": 4,
 "nbformat_minor": 2
}
