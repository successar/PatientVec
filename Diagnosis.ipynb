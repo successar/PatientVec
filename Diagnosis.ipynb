{
 "cells": [
  {
   "cell_type": "code",
   "execution_count": 1,
   "metadata": {},
   "outputs": [],
   "source": [
    "%load_ext autoreload\n",
    "%autoreload 2"
   ]
  },
  {
   "cell_type": "code",
   "execution_count": 2,
   "metadata": {},
   "outputs": [],
   "source": [
    "from dataset import Dataset\n",
    "import numpy as np"
   ]
  },
  {
   "cell_type": "code",
   "execution_count": 3,
   "metadata": {},
   "outputs": [],
   "source": [
    "from common import *"
   ]
  },
  {
   "cell_type": "code",
   "execution_count": 4,
   "metadata": {},
   "outputs": [
    {
     "name": "stderr",
     "output_type": "stream",
     "text": [
      "INFO - 2019-02-12 12:36:27,458 - Reading Structured data ...\n",
      "INFO - 2019-02-12 12:36:27,555 - Reading Notes ...\n",
      "INFO - 2019-02-12 12:36:37,450 - Stratifying ...\n"
     ]
    }
   ],
   "source": [
    "data = Dataset(name='Diagnosis', dirname='preprocess/Diagnosis/')"
   ]
  },
  {
   "cell_type": "code",
   "execution_count": 5,
   "metadata": {},
   "outputs": [],
   "source": [
    "labellist = [x for x in data.dataframe.columns if x.startswith('y_')]\n",
    "data.generate_labels(labellist, len(labellist), 'multilabel')"
   ]
  },
  {
   "cell_type": "code",
   "execution_count": null,
   "metadata": {},
   "outputs": [],
   "source": [
    "data.generate_encoded_field('gender_y', 'onehot')\n",
    "data.generate_encoded_field('age_y', 'onehot')\n",
    "data.generate_encoded_field('ethnicity_y', 'onehot')"
   ]
  },
  {
   "cell_type": "code",
   "execution_count": null,
   "metadata": {},
   "outputs": [],
   "source": [
    "features = [x for x in data.dataframe.columns if x.startswith('feature')]\n",
    "for f in features :\n",
    "    data.generate_encoded_field(f, 'trivial')\n",
    "    \n",
    "data.set_structured_params(regexs=[r'^feature', 'gender_y', 'age_y', 'ethnicity_y'])"
   ]
  },
  {
   "cell_type": "code",
   "execution_count": null,
   "metadata": {},
   "outputs": [],
   "source": [
    "from trainer import Trainer, Evaluator"
   ]
  },
  {
   "cell_type": "code",
   "execution_count": null,
   "metadata": {},
   "outputs": [],
   "source": [
    "from models.Vanilla import ClassificationTrainer as BasicCT\n",
    "from models.Hierarchical import ClassificationTrainer as HierCT"
   ]
  },
  {
   "cell_type": "code",
   "execution_count": null,
   "metadata": {},
   "outputs": [],
   "source": [
    "from Experiments.experiments import experiments, hierarchical_experiments, structured_experiments"
   ]
  },
  {
   "cell_type": "markdown",
   "metadata": {},
   "source": [
    "Basic Experiments\n",
    "================="
   ]
  },
  {
   "cell_type": "code",
   "execution_count": null,
   "metadata": {},
   "outputs": [],
   "source": [
    "train_data = data.get_data('train', structured=True)\n",
    "dev_data = data.get_data('dev', structured=True)\n",
    "test_data = data.get_data('test', structured=True)"
   ]
  },
  {
   "cell_type": "code",
   "execution_count": null,
   "metadata": {},
   "outputs": [],
   "source": [
    "train_data = data.filter_data_length(train_data, truncate=90)\n",
    "dev_data = data.filter_data_length(dev_data, truncate=90)"
   ]
  },
  {
   "cell_type": "code",
   "execution_count": null,
   "metadata": {},
   "outputs": [],
   "source": [
    "for e in experiments :\n",
    "    config = e(data, structured=True)\n",
    "    print(config)\n",
    "    trainer = Trainer(BasicCT, config, _type='multilabel')\n",
    "    trainer.train(train_data, dev_data, save_on_metric='macro_roc_auc')\n",
    "\n",
    "    evaluator = Evaluator(BasicCT, trainer.model.dirname, _type='multilabel')\n",
    "    _ = evaluator.evaluate(dev_data, save_results=True)\n",
    "    print('='*300)"
   ]
  },
  {
   "cell_type": "code",
   "execution_count": null,
   "metadata": {},
   "outputs": [],
   "source": [
    "for e in hierarchical_experiments :\n",
    "    config = e(data, structured=False)\n",
    "    print(config)\n",
    "    trainer = Trainer(HierCT, config)\n",
    "    trainer.train(train_data, dev_data)\n",
    "\n",
    "    evaluator = Evaluator(HierCT, trainer.model.dirname)\n",
    "    _ = evaluator.evaluate(dev_data, save_results=True)\n",
    "    print('='*30)"
   ]
  },
  {
   "cell_type": "code",
   "execution_count": null,
   "metadata": {},
   "outputs": [
    {
     "name": "stdout",
     "output_type": "stream",
     "text": [
      "Pos Percentage [0.21358209 0.07716941 0.10244004 0.31971179 0.13028647 0.13014724\n",
      " 0.20870897 0.07160013 0.26850917 0.31939852 0.09485189 0.19033033\n",
      " 0.28253681 0.41581677 0.26697762 0.07180897 0.13039089 0.0897003\n",
      " 0.04953183 0.04076021 0.08917818 0.14152947 0.18249852 0.14615893\n",
      " 0.07797   ]\n",
      "Pos Percentage [0.20548768 0.06969758 0.10194272 0.31744442 0.12237132 0.13458842\n",
      " 0.2032846  0.06649309 0.25776087 0.31484078 0.0929301  0.19587422\n",
      " 0.29541358 0.42339275 0.25475666 0.06789505 0.12096936 0.08531945\n",
      " 0.0530743  0.03745243 0.0817144  0.1327859  0.17684759 0.13198478\n",
      " 0.07790907]\n"
     ]
    },
    {
     "name": "stderr",
     "output_type": "stream",
     "text": [
      "INFO - 2019-02-12 12:36:43,823 - Maximum Sentence Length 721825.000000 , 90 percentile length 16714.400000 ... \n",
      "INFO - 2019-02-12 12:36:43,830 - Pos Percentage of remaining data ... \n",
      "INFO - 2019-02-12 12:36:43,850 - [0.19322401 0.07650062 0.10272277 0.3112237  0.12059097 0.12650835\n",
      " 0.20064975 0.07023515 0.25978496 0.32545637 0.09316986 0.18722927\n",
      " 0.28480817 0.42090811 0.24957457 0.06973236 0.1237237  0.08249536\n",
      " 0.04641089 0.03774752 0.08048422 0.12349165 0.15741027 0.12925433\n",
      " 0.06845606]\n",
      "INFO - 2019-02-12 12:36:44,645 - Maximum Sentence Length 407062.000000 , 90 percentile length 16420.400000 ... \n",
      "INFO - 2019-02-12 12:36:44,647 - Pos Percentage of remaining data ... \n",
      "INFO - 2019-02-12 12:36:44,650 - [0.18517694 0.06877365 0.10549744 0.30847986 0.11395504 0.12819942\n",
      " 0.19719564 0.06543512 0.24905408 0.32383708 0.09014022 0.19519252\n",
      " 0.30202537 0.42777654 0.23213888 0.06209659 0.1135099  0.07834409\n",
      " 0.04941019 0.03360783 0.07589584 0.11551302 0.1502337  0.11662586\n",
      " 0.06855108]\n",
      "INFO - 2019-02-12 12:36:44,700 - instantiating class <class 'models.Model.Model'> from params {'type': 'seq_classifier_with_structured_attention', 'embedder': {'type': 'token_embedder', 'vocab_size': 28172, 'embed_size': 200, 'embedding_file': 'preprocess/Diagnosis/embedding_matrix.npy'}, 'decoder': {'num_layers': 2, 'hidden_dims': [128, 25], 'activations': ['tanh', 'linear']}, 'predictor': {'type': 'multilabel'}, 'structured': {'use_structured': True, 'structured_dim': 142}, 'encoder': {'type': 'average', 'projection': True, 'hidden_size': 256, 'activation': 'relu'}, 'attention': {'similarity': {'type': 'additive', 'hidden_size': 128, 'tensor_2_dim': 142}}} and extras {}\n",
      "INFO - 2019-02-12 12:36:44,700 - type = seq_classifier_with_structured_attention\n",
      "INFO - 2019-02-12 12:36:44,701 - instantiating class <class 'models.modules.Embedder.Embedder'> from params {'type': 'token_embedder', 'vocab_size': 28172, 'embed_size': 200, 'embedding_file': 'preprocess/Diagnosis/embedding_matrix.npy'} and extras {}\n",
      "INFO - 2019-02-12 12:36:44,702 - embedder.type = token_embedder\n",
      "INFO - 2019-02-12 12:36:44,703 - instantiating class <class 'models.modules.Embedder.TokenEmbedder'> from params {'vocab_size': 28172, 'embed_size': 200, 'embedding_file': 'preprocess/Diagnosis/embedding_matrix.npy'} and extras {}\n",
      "INFO - 2019-02-12 12:36:44,704 - embedder.vocab_size = 28172\n",
      "INFO - 2019-02-12 12:36:44,705 - embedder.embed_size = 200\n",
      "INFO - 2019-02-12 12:36:44,706 - embedder.embedding_file = preprocess/Diagnosis/embedding_matrix.npy\n",
      "INFO - 2019-02-12 12:36:44,722 - instantiating class <class 'models.modules.Encoder.Encoder'> from params {'type': 'average', 'projection': True, 'hidden_size': 256, 'activation': 'relu'} and extras {'input_size': 200}\n",
      "INFO - 2019-02-12 12:36:44,722 - encoder.type = average\n",
      "INFO - 2019-02-12 12:36:44,723 - instantiating class <class 'models.modules.Encoder.AverageEncoder'> from params {'projection': True, 'hidden_size': 256, 'activation': 'relu'} and extras {'input_size': 200}\n",
      "INFO - 2019-02-12 12:36:44,723 - encoder.projection = True\n",
      "INFO - 2019-02-12 12:36:44,724 - encoder.hidden_size = 256\n",
      "INFO - 2019-02-12 12:36:44,724 - encoder.activation = relu\n",
      "INFO - 2019-02-12 12:36:44,725 - instantiating class <class 'models.modules.Attention.Attention'> from params {'similarity': {'type': 'additive', 'hidden_size': 128, 'tensor_2_dim': 142, 'tensor_1_dim': 256}} and extras {}\n",
      "INFO - 2019-02-12 12:36:44,725 - instantiating class <class 'models.modules.BiSimilarity.BiSimilarity'> from params {'type': 'additive', 'hidden_size': 128, 'tensor_2_dim': 142, 'tensor_1_dim': 256} and extras {}\n",
      "INFO - 2019-02-12 12:36:44,726 - attention.similarity.type = additive\n",
      "INFO - 2019-02-12 12:36:44,726 - instantiating class <class 'models.modules.BiSimilarity.BiAdditiveSimilarity'> from params {'hidden_size': 128, 'tensor_2_dim': 142, 'tensor_1_dim': 256} and extras {}\n",
      "INFO - 2019-02-12 12:36:44,726 - attention.similarity.tensor_1_dim = 256\n",
      "INFO - 2019-02-12 12:36:44,727 - attention.similarity.tensor_2_dim = 142\n",
      "INFO - 2019-02-12 12:36:44,727 - attention.similarity.hidden_size = 128\n",
      "INFO - 2019-02-12 12:36:44,728 - decoder.input_dim = 398\n",
      "INFO - 2019-02-12 12:36:44,729 - decoder.num_layers = 2\n",
      "INFO - 2019-02-12 12:36:44,729 - decoder.hidden_dims = [128, 25]\n",
      "INFO - 2019-02-12 12:36:44,729 - decoder.activations = ['tanh', 'linear']\n",
      "INFO - 2019-02-12 12:36:44,730 - decoder.dropout = 0.0\n",
      "INFO - 2019-02-12 12:36:44,731 - instantiating class <class 'models.modules.Predictor.Predictor'> from params {'type': 'multilabel'} and extras {}\n",
      "INFO - 2019-02-12 12:36:44,731 - predictor.type = multilabel\n",
      "INFO - 2019-02-12 12:36:44,731 - instantiating class <class 'models.modules.Predictor.Multilabel_predictor'> from params {} and extras {}\n"
     ]
    },
    {
     "name": "stdout",
     "output_type": "stream",
     "text": [
      "{'model': {'type': 'seq_classifier_with_structured_attention', 'embedder': {'type': 'token_embedder', 'vocab_size': 28172, 'embed_size': 200, 'embedding_file': 'preprocess/Diagnosis/embedding_matrix.npy'}, 'decoder': {'num_layers': 2, 'hidden_dims': [128, 25], 'activations': ['tanh', 'linear']}, 'predictor': {'type': 'multilabel'}, 'structured': {'use_structured': True, 'structured_dim': 142}, 'encoder': {'type': 'average', 'projection': True, 'hidden_size': 256, 'activation': 'relu'}, 'attention': {'similarity': {'type': 'additive', 'hidden_size': 128, 'tensor_2_dim': 142}}}, 'training_config': {'type': 'Adam', 'groups': [('.*', {'lr': 0.001, 'weight_decay': 1e-05})], 'common': {'bsize': 32, 'class_weight': True}}, 'exp_config': {'exp_name': 'Diagnosis/Structured Attention/Average(hs=256)+Attention(additive)(all)(hs=128)+Structured'}}\n",
      "Setting Embedding\n"
     ]
    },
    {
     "data": {
      "application/vnd.jupyter.widget-view+json": {
       "model_id": "6e112e5d41884fa1a04c94abdd4c94b5",
       "version_major": 2,
       "version_minor": 0
      },
      "text/plain": [
       "HBox(children=(IntProgress(value=0, max=20), HTML(value='')))"
      ]
     },
     "metadata": {},
     "output_type": "display_data"
    },
    {
     "data": {
      "application/vnd.jupyter.widget-view+json": {
       "model_id": "ce5ae74550264e1bb08b9992b5b385cd",
       "version_major": 2,
       "version_minor": 0
      },
      "text/plain": [
       "HBox(children=(IntProgress(value=0, max=808), HTML(value='')))"
      ]
     },
     "metadata": {},
     "output_type": "display_data"
    },
    {
     "data": {
      "application/vnd.jupyter.widget-view+json": {
       "model_id": "5837b4a05ede4eb7a53a46823d2cdfba",
       "version_major": 2,
       "version_minor": 0
      },
      "text/plain": [
       "HBox(children=(IntProgress(value=0, max=141), HTML(value='')))"
      ]
     },
     "metadata": {},
     "output_type": "display_data"
    },
    {
     "name": "stdout",
     "output_type": "stream",
     "text": [
      "{'macro_roc_auc': 0.8304698503581013, 'macro_pr_auc': 0.49911071178985866}\n"
     ]
    },
    {
     "data": {
      "text/html": [
       "<div>\n",
       "<style scoped>\n",
       "    .dataframe tbody tr th:only-of-type {\n",
       "        vertical-align: middle;\n",
       "    }\n",
       "\n",
       "    .dataframe tbody tr th {\n",
       "        vertical-align: top;\n",
       "    }\n",
       "\n",
       "    .dataframe thead th {\n",
       "        text-align: right;\n",
       "    }\n",
       "</style>\n",
       "<table border=\"1\" class=\"dataframe\">\n",
       "  <thead>\n",
       "    <tr style=\"text-align: right;\">\n",
       "      <th></th>\n",
       "      <th>label_0</th>\n",
       "      <th>label_1</th>\n",
       "      <th>label_2</th>\n",
       "      <th>label_3</th>\n",
       "      <th>label_4</th>\n",
       "      <th>label_5</th>\n",
       "      <th>label_6</th>\n",
       "      <th>label_7</th>\n",
       "      <th>label_8</th>\n",
       "      <th>label_9</th>\n",
       "      <th>label_10</th>\n",
       "      <th>label_11</th>\n",
       "      <th>label_12</th>\n",
       "      <th>label_13</th>\n",
       "      <th>label_14</th>\n",
       "      <th>label_15</th>\n",
       "      <th>label_16</th>\n",
       "      <th>label_17</th>\n",
       "      <th>label_18</th>\n",
       "      <th>label_19</th>\n",
       "      <th>label_20</th>\n",
       "      <th>label_21</th>\n",
       "      <th>label_22</th>\n",
       "      <th>label_23</th>\n",
       "      <th>label_24</th>\n",
       "    </tr>\n",
       "  </thead>\n",
       "  <tbody>\n",
       "    <tr>\n",
       "      <th>1/f1-score</th>\n",
       "      <td>0.509</td>\n",
       "      <td>0.546</td>\n",
       "      <td>0.453</td>\n",
       "      <td>0.588</td>\n",
       "      <td>0.459</td>\n",
       "      <td>0.406</td>\n",
       "      <td>0.436</td>\n",
       "      <td>0.369</td>\n",
       "      <td>0.602</td>\n",
       "      <td>0.729</td>\n",
       "      <td>0.451</td>\n",
       "      <td>0.493</td>\n",
       "      <td>0.559</td>\n",
       "      <td>0.642</td>\n",
       "      <td>0.507</td>\n",
       "      <td>0.321</td>\n",
       "      <td>0.472</td>\n",
       "      <td>0.375</td>\n",
       "      <td>0.173</td>\n",
       "      <td>0.200</td>\n",
       "      <td>0.228</td>\n",
       "      <td>0.433</td>\n",
       "      <td>0.570</td>\n",
       "      <td>0.495</td>\n",
       "      <td>0.423</td>\n",
       "    </tr>\n",
       "    <tr>\n",
       "      <th>1/precision</th>\n",
       "      <td>0.392</td>\n",
       "      <td>0.396</td>\n",
       "      <td>0.311</td>\n",
       "      <td>0.526</td>\n",
       "      <td>0.327</td>\n",
       "      <td>0.282</td>\n",
       "      <td>0.321</td>\n",
       "      <td>0.242</td>\n",
       "      <td>0.487</td>\n",
       "      <td>0.662</td>\n",
       "      <td>0.301</td>\n",
       "      <td>0.365</td>\n",
       "      <td>0.472</td>\n",
       "      <td>0.588</td>\n",
       "      <td>0.396</td>\n",
       "      <td>0.204</td>\n",
       "      <td>0.334</td>\n",
       "      <td>0.247</td>\n",
       "      <td>0.100</td>\n",
       "      <td>0.117</td>\n",
       "      <td>0.138</td>\n",
       "      <td>0.304</td>\n",
       "      <td>0.462</td>\n",
       "      <td>0.351</td>\n",
       "      <td>0.287</td>\n",
       "    </tr>\n",
       "    <tr>\n",
       "      <th>1/recall</th>\n",
       "      <td>0.725</td>\n",
       "      <td>0.877</td>\n",
       "      <td>0.838</td>\n",
       "      <td>0.667</td>\n",
       "      <td>0.771</td>\n",
       "      <td>0.722</td>\n",
       "      <td>0.678</td>\n",
       "      <td>0.772</td>\n",
       "      <td>0.789</td>\n",
       "      <td>0.811</td>\n",
       "      <td>0.901</td>\n",
       "      <td>0.759</td>\n",
       "      <td>0.685</td>\n",
       "      <td>0.707</td>\n",
       "      <td>0.704</td>\n",
       "      <td>0.746</td>\n",
       "      <td>0.804</td>\n",
       "      <td>0.784</td>\n",
       "      <td>0.626</td>\n",
       "      <td>0.695</td>\n",
       "      <td>0.666</td>\n",
       "      <td>0.751</td>\n",
       "      <td>0.744</td>\n",
       "      <td>0.838</td>\n",
       "      <td>0.808</td>\n",
       "    </tr>\n",
       "    <tr>\n",
       "      <th>1/support</th>\n",
       "      <td>832.000</td>\n",
       "      <td>309.000</td>\n",
       "      <td>474.000</td>\n",
       "      <td>1386.000</td>\n",
       "      <td>512.000</td>\n",
       "      <td>576.000</td>\n",
       "      <td>886.000</td>\n",
       "      <td>294.000</td>\n",
       "      <td>1119.000</td>\n",
       "      <td>1455.000</td>\n",
       "      <td>405.000</td>\n",
       "      <td>877.000</td>\n",
       "      <td>1357.000</td>\n",
       "      <td>1922.000</td>\n",
       "      <td>1043.000</td>\n",
       "      <td>279.000</td>\n",
       "      <td>510.000</td>\n",
       "      <td>352.000</td>\n",
       "      <td>222.000</td>\n",
       "      <td>151.000</td>\n",
       "      <td>341.000</td>\n",
       "      <td>519.000</td>\n",
       "      <td>675.000</td>\n",
       "      <td>524.000</td>\n",
       "      <td>308.000</td>\n",
       "    </tr>\n",
       "  </tbody>\n",
       "</table>\n",
       "</div>"
      ],
      "text/plain": [
       "             label_0  label_1  label_2   label_3  label_4  label_5  label_6  \\\n",
       "1/f1-score     0.509    0.546    0.453     0.588    0.459    0.406    0.436   \n",
       "1/precision    0.392    0.396    0.311     0.526    0.327    0.282    0.321   \n",
       "1/recall       0.725    0.877    0.838     0.667    0.771    0.722    0.678   \n",
       "1/support    832.000  309.000  474.000  1386.000  512.000  576.000  886.000   \n",
       "\n",
       "             label_7   label_8   label_9  label_10  label_11  label_12  \\\n",
       "1/f1-score     0.369     0.602     0.729     0.451     0.493     0.559   \n",
       "1/precision    0.242     0.487     0.662     0.301     0.365     0.472   \n",
       "1/recall       0.772     0.789     0.811     0.901     0.759     0.685   \n",
       "1/support    294.000  1119.000  1455.000   405.000   877.000  1357.000   \n",
       "\n",
       "             label_13  label_14  label_15  label_16  label_17  label_18  \\\n",
       "1/f1-score      0.642     0.507     0.321     0.472     0.375     0.173   \n",
       "1/precision     0.588     0.396     0.204     0.334     0.247     0.100   \n",
       "1/recall        0.707     0.704     0.746     0.804     0.784     0.626   \n",
       "1/support    1922.000  1043.000   279.000   510.000   352.000   222.000   \n",
       "\n",
       "             label_19  label_20  label_21  label_22  label_23  label_24  \n",
       "1/f1-score      0.200     0.228     0.433     0.570     0.495     0.423  \n",
       "1/precision     0.117     0.138     0.304     0.462     0.351     0.287  \n",
       "1/recall        0.695     0.666     0.751     0.744     0.838     0.808  \n",
       "1/support     151.000   341.000   519.000   675.000   524.000   308.000  "
      ]
     },
     "metadata": {},
     "output_type": "display_data"
    },
    {
     "name": "stdout",
     "output_type": "stream",
     "text": [
      "Model not saved on  macro_roc_auc 0.8304698503581013\n"
     ]
    },
    {
     "data": {
      "application/vnd.jupyter.widget-view+json": {
       "model_id": "6097e0a1823240ee8ee02d55d98486f8",
       "version_major": 2,
       "version_minor": 0
      },
      "text/plain": [
       "HBox(children=(IntProgress(value=0, max=808), HTML(value='')))"
      ]
     },
     "metadata": {},
     "output_type": "display_data"
    },
    {
     "data": {
      "application/vnd.jupyter.widget-view+json": {
       "model_id": "b0e8f3724544425da01e1621b46d2b17",
       "version_major": 2,
       "version_minor": 0
      },
      "text/plain": [
       "HBox(children=(IntProgress(value=0, max=141), HTML(value='')))"
      ]
     },
     "metadata": {},
     "output_type": "display_data"
    },
    {
     "name": "stdout",
     "output_type": "stream",
     "text": [
      "{'macro_roc_auc': 0.8423368189900142, 'macro_pr_auc': 0.5266592731971445}\n"
     ]
    },
    {
     "data": {
      "text/html": [
       "<div>\n",
       "<style scoped>\n",
       "    .dataframe tbody tr th:only-of-type {\n",
       "        vertical-align: middle;\n",
       "    }\n",
       "\n",
       "    .dataframe tbody tr th {\n",
       "        vertical-align: top;\n",
       "    }\n",
       "\n",
       "    .dataframe thead th {\n",
       "        text-align: right;\n",
       "    }\n",
       "</style>\n",
       "<table border=\"1\" class=\"dataframe\">\n",
       "  <thead>\n",
       "    <tr style=\"text-align: right;\">\n",
       "      <th></th>\n",
       "      <th>label_0</th>\n",
       "      <th>label_1</th>\n",
       "      <th>label_2</th>\n",
       "      <th>label_3</th>\n",
       "      <th>label_4</th>\n",
       "      <th>label_5</th>\n",
       "      <th>label_6</th>\n",
       "      <th>label_7</th>\n",
       "      <th>label_8</th>\n",
       "      <th>label_9</th>\n",
       "      <th>label_10</th>\n",
       "      <th>label_11</th>\n",
       "      <th>label_12</th>\n",
       "      <th>label_13</th>\n",
       "      <th>label_14</th>\n",
       "      <th>label_15</th>\n",
       "      <th>label_16</th>\n",
       "      <th>label_17</th>\n",
       "      <th>label_18</th>\n",
       "      <th>label_19</th>\n",
       "      <th>label_20</th>\n",
       "      <th>label_21</th>\n",
       "      <th>label_22</th>\n",
       "      <th>label_23</th>\n",
       "      <th>label_24</th>\n",
       "    </tr>\n",
       "  </thead>\n",
       "  <tbody>\n",
       "    <tr>\n",
       "      <th>1/f1-score</th>\n",
       "      <td>0.526</td>\n",
       "      <td>0.528</td>\n",
       "      <td>0.462</td>\n",
       "      <td>0.606</td>\n",
       "      <td>0.464</td>\n",
       "      <td>0.361</td>\n",
       "      <td>0.473</td>\n",
       "      <td>0.388</td>\n",
       "      <td>0.596</td>\n",
       "      <td>0.735</td>\n",
       "      <td>0.483</td>\n",
       "      <td>0.485</td>\n",
       "      <td>0.565</td>\n",
       "      <td>0.674</td>\n",
       "      <td>0.501</td>\n",
       "      <td>0.311</td>\n",
       "      <td>0.466</td>\n",
       "      <td>0.433</td>\n",
       "      <td>0.176</td>\n",
       "      <td>0.218</td>\n",
       "      <td>0.229</td>\n",
       "      <td>0.418</td>\n",
       "      <td>0.568</td>\n",
       "      <td>0.532</td>\n",
       "      <td>0.449</td>\n",
       "    </tr>\n",
       "    <tr>\n",
       "      <th>1/precision</th>\n",
       "      <td>0.395</td>\n",
       "      <td>0.372</td>\n",
       "      <td>0.318</td>\n",
       "      <td>0.494</td>\n",
       "      <td>0.323</td>\n",
       "      <td>0.229</td>\n",
       "      <td>0.366</td>\n",
       "      <td>0.259</td>\n",
       "      <td>0.476</td>\n",
       "      <td>0.654</td>\n",
       "      <td>0.333</td>\n",
       "      <td>0.343</td>\n",
       "      <td>0.461</td>\n",
       "      <td>0.568</td>\n",
       "      <td>0.408</td>\n",
       "      <td>0.189</td>\n",
       "      <td>0.323</td>\n",
       "      <td>0.307</td>\n",
       "      <td>0.101</td>\n",
       "      <td>0.128</td>\n",
       "      <td>0.137</td>\n",
       "      <td>0.278</td>\n",
       "      <td>0.429</td>\n",
       "      <td>0.389</td>\n",
       "      <td>0.311</td>\n",
       "    </tr>\n",
       "    <tr>\n",
       "      <th>1/recall</th>\n",
       "      <td>0.785</td>\n",
       "      <td>0.909</td>\n",
       "      <td>0.842</td>\n",
       "      <td>0.785</td>\n",
       "      <td>0.822</td>\n",
       "      <td>0.852</td>\n",
       "      <td>0.670</td>\n",
       "      <td>0.772</td>\n",
       "      <td>0.797</td>\n",
       "      <td>0.840</td>\n",
       "      <td>0.877</td>\n",
       "      <td>0.827</td>\n",
       "      <td>0.730</td>\n",
       "      <td>0.829</td>\n",
       "      <td>0.646</td>\n",
       "      <td>0.864</td>\n",
       "      <td>0.835</td>\n",
       "      <td>0.736</td>\n",
       "      <td>0.676</td>\n",
       "      <td>0.748</td>\n",
       "      <td>0.683</td>\n",
       "      <td>0.838</td>\n",
       "      <td>0.840</td>\n",
       "      <td>0.845</td>\n",
       "      <td>0.808</td>\n",
       "    </tr>\n",
       "    <tr>\n",
       "      <th>1/support</th>\n",
       "      <td>832.000</td>\n",
       "      <td>309.000</td>\n",
       "      <td>474.000</td>\n",
       "      <td>1386.000</td>\n",
       "      <td>512.000</td>\n",
       "      <td>576.000</td>\n",
       "      <td>886.000</td>\n",
       "      <td>294.000</td>\n",
       "      <td>1119.000</td>\n",
       "      <td>1455.000</td>\n",
       "      <td>405.000</td>\n",
       "      <td>877.000</td>\n",
       "      <td>1357.000</td>\n",
       "      <td>1922.000</td>\n",
       "      <td>1043.000</td>\n",
       "      <td>279.000</td>\n",
       "      <td>510.000</td>\n",
       "      <td>352.000</td>\n",
       "      <td>222.000</td>\n",
       "      <td>151.000</td>\n",
       "      <td>341.000</td>\n",
       "      <td>519.000</td>\n",
       "      <td>675.000</td>\n",
       "      <td>524.000</td>\n",
       "      <td>308.000</td>\n",
       "    </tr>\n",
       "  </tbody>\n",
       "</table>\n",
       "</div>"
      ],
      "text/plain": [
       "             label_0  label_1  label_2   label_3  label_4  label_5  label_6  \\\n",
       "1/f1-score     0.526    0.528    0.462     0.606    0.464    0.361    0.473   \n",
       "1/precision    0.395    0.372    0.318     0.494    0.323    0.229    0.366   \n",
       "1/recall       0.785    0.909    0.842     0.785    0.822    0.852    0.670   \n",
       "1/support    832.000  309.000  474.000  1386.000  512.000  576.000  886.000   \n",
       "\n",
       "             label_7   label_8   label_9  label_10  label_11  label_12  \\\n",
       "1/f1-score     0.388     0.596     0.735     0.483     0.485     0.565   \n",
       "1/precision    0.259     0.476     0.654     0.333     0.343     0.461   \n",
       "1/recall       0.772     0.797     0.840     0.877     0.827     0.730   \n",
       "1/support    294.000  1119.000  1455.000   405.000   877.000  1357.000   \n",
       "\n",
       "             label_13  label_14  label_15  label_16  label_17  label_18  \\\n",
       "1/f1-score      0.674     0.501     0.311     0.466     0.433     0.176   \n",
       "1/precision     0.568     0.408     0.189     0.323     0.307     0.101   \n",
       "1/recall        0.829     0.646     0.864     0.835     0.736     0.676   \n",
       "1/support    1922.000  1043.000   279.000   510.000   352.000   222.000   \n",
       "\n",
       "             label_19  label_20  label_21  label_22  label_23  label_24  \n",
       "1/f1-score      0.218     0.229     0.418     0.568     0.532     0.449  \n",
       "1/precision     0.128     0.137     0.278     0.429     0.389     0.311  \n",
       "1/recall        0.748     0.683     0.838     0.840     0.845     0.808  \n",
       "1/support     151.000   341.000   519.000   675.000   524.000   308.000  "
      ]
     },
     "metadata": {},
     "output_type": "display_data"
    },
    {
     "name": "stdout",
     "output_type": "stream",
     "text": [
      "Model Saved on  macro_roc_auc 0.8423368189900142\n"
     ]
    },
    {
     "data": {
      "application/vnd.jupyter.widget-view+json": {
       "model_id": "174f709b15a744458545dc07a5085dfa",
       "version_major": 2,
       "version_minor": 0
      },
      "text/plain": [
       "HBox(children=(IntProgress(value=0, max=808), HTML(value='')))"
      ]
     },
     "metadata": {},
     "output_type": "display_data"
    },
    {
     "data": {
      "application/vnd.jupyter.widget-view+json": {
       "model_id": "79e12b384bed41d7874504af24dd2d8d",
       "version_major": 2,
       "version_minor": 0
      },
      "text/plain": [
       "HBox(children=(IntProgress(value=0, max=141), HTML(value='')))"
      ]
     },
     "metadata": {},
     "output_type": "display_data"
    },
    {
     "name": "stdout",
     "output_type": "stream",
     "text": [
      "{'macro_roc_auc': 0.8460961811673168, 'macro_pr_auc': 0.5363069322831943}\n"
     ]
    },
    {
     "data": {
      "text/html": [
       "<div>\n",
       "<style scoped>\n",
       "    .dataframe tbody tr th:only-of-type {\n",
       "        vertical-align: middle;\n",
       "    }\n",
       "\n",
       "    .dataframe tbody tr th {\n",
       "        vertical-align: top;\n",
       "    }\n",
       "\n",
       "    .dataframe thead th {\n",
       "        text-align: right;\n",
       "    }\n",
       "</style>\n",
       "<table border=\"1\" class=\"dataframe\">\n",
       "  <thead>\n",
       "    <tr style=\"text-align: right;\">\n",
       "      <th></th>\n",
       "      <th>label_0</th>\n",
       "      <th>label_1</th>\n",
       "      <th>label_2</th>\n",
       "      <th>label_3</th>\n",
       "      <th>label_4</th>\n",
       "      <th>label_5</th>\n",
       "      <th>label_6</th>\n",
       "      <th>label_7</th>\n",
       "      <th>label_8</th>\n",
       "      <th>label_9</th>\n",
       "      <th>label_10</th>\n",
       "      <th>label_11</th>\n",
       "      <th>label_12</th>\n",
       "      <th>label_13</th>\n",
       "      <th>label_14</th>\n",
       "      <th>label_15</th>\n",
       "      <th>label_16</th>\n",
       "      <th>label_17</th>\n",
       "      <th>label_18</th>\n",
       "      <th>label_19</th>\n",
       "      <th>label_20</th>\n",
       "      <th>label_21</th>\n",
       "      <th>label_22</th>\n",
       "      <th>label_23</th>\n",
       "      <th>label_24</th>\n",
       "    </tr>\n",
       "  </thead>\n",
       "  <tbody>\n",
       "    <tr>\n",
       "      <th>1/f1-score</th>\n",
       "      <td>0.547</td>\n",
       "      <td>0.586</td>\n",
       "      <td>0.526</td>\n",
       "      <td>0.614</td>\n",
       "      <td>0.453</td>\n",
       "      <td>0.399</td>\n",
       "      <td>0.466</td>\n",
       "      <td>0.406</td>\n",
       "      <td>0.612</td>\n",
       "      <td>0.753</td>\n",
       "      <td>0.497</td>\n",
       "      <td>0.503</td>\n",
       "      <td>0.565</td>\n",
       "      <td>0.644</td>\n",
       "      <td>0.507</td>\n",
       "      <td>0.326</td>\n",
       "      <td>0.434</td>\n",
       "      <td>0.462</td>\n",
       "      <td>0.177</td>\n",
       "      <td>0.229</td>\n",
       "      <td>0.246</td>\n",
       "      <td>0.433</td>\n",
       "      <td>0.541</td>\n",
       "      <td>0.524</td>\n",
       "      <td>0.427</td>\n",
       "    </tr>\n",
       "    <tr>\n",
       "      <th>1/precision</th>\n",
       "      <td>0.428</td>\n",
       "      <td>0.437</td>\n",
       "      <td>0.391</td>\n",
       "      <td>0.524</td>\n",
       "      <td>0.313</td>\n",
       "      <td>0.275</td>\n",
       "      <td>0.355</td>\n",
       "      <td>0.277</td>\n",
       "      <td>0.534</td>\n",
       "      <td>0.736</td>\n",
       "      <td>0.348</td>\n",
       "      <td>0.375</td>\n",
       "      <td>0.477</td>\n",
       "      <td>0.609</td>\n",
       "      <td>0.381</td>\n",
       "      <td>0.202</td>\n",
       "      <td>0.292</td>\n",
       "      <td>0.330</td>\n",
       "      <td>0.103</td>\n",
       "      <td>0.134</td>\n",
       "      <td>0.153</td>\n",
       "      <td>0.293</td>\n",
       "      <td>0.388</td>\n",
       "      <td>0.376</td>\n",
       "      <td>0.288</td>\n",
       "    </tr>\n",
       "    <tr>\n",
       "      <th>1/recall</th>\n",
       "      <td>0.760</td>\n",
       "      <td>0.890</td>\n",
       "      <td>0.806</td>\n",
       "      <td>0.742</td>\n",
       "      <td>0.824</td>\n",
       "      <td>0.722</td>\n",
       "      <td>0.679</td>\n",
       "      <td>0.762</td>\n",
       "      <td>0.716</td>\n",
       "      <td>0.770</td>\n",
       "      <td>0.869</td>\n",
       "      <td>0.762</td>\n",
       "      <td>0.693</td>\n",
       "      <td>0.682</td>\n",
       "      <td>0.756</td>\n",
       "      <td>0.832</td>\n",
       "      <td>0.845</td>\n",
       "      <td>0.767</td>\n",
       "      <td>0.644</td>\n",
       "      <td>0.815</td>\n",
       "      <td>0.630</td>\n",
       "      <td>0.832</td>\n",
       "      <td>0.896</td>\n",
       "      <td>0.865</td>\n",
       "      <td>0.825</td>\n",
       "    </tr>\n",
       "    <tr>\n",
       "      <th>1/support</th>\n",
       "      <td>832.000</td>\n",
       "      <td>309.000</td>\n",
       "      <td>474.000</td>\n",
       "      <td>1386.000</td>\n",
       "      <td>512.000</td>\n",
       "      <td>576.000</td>\n",
       "      <td>886.000</td>\n",
       "      <td>294.000</td>\n",
       "      <td>1119.000</td>\n",
       "      <td>1455.000</td>\n",
       "      <td>405.000</td>\n",
       "      <td>877.000</td>\n",
       "      <td>1357.000</td>\n",
       "      <td>1922.000</td>\n",
       "      <td>1043.000</td>\n",
       "      <td>279.000</td>\n",
       "      <td>510.000</td>\n",
       "      <td>352.000</td>\n",
       "      <td>222.000</td>\n",
       "      <td>151.000</td>\n",
       "      <td>341.000</td>\n",
       "      <td>519.000</td>\n",
       "      <td>675.000</td>\n",
       "      <td>524.000</td>\n",
       "      <td>308.000</td>\n",
       "    </tr>\n",
       "  </tbody>\n",
       "</table>\n",
       "</div>"
      ],
      "text/plain": [
       "             label_0  label_1  label_2   label_3  label_4  label_5  label_6  \\\n",
       "1/f1-score     0.547    0.586    0.526     0.614    0.453    0.399    0.466   \n",
       "1/precision    0.428    0.437    0.391     0.524    0.313    0.275    0.355   \n",
       "1/recall       0.760    0.890    0.806     0.742    0.824    0.722    0.679   \n",
       "1/support    832.000  309.000  474.000  1386.000  512.000  576.000  886.000   \n",
       "\n",
       "             label_7   label_8   label_9  label_10  label_11  label_12  \\\n",
       "1/f1-score     0.406     0.612     0.753     0.497     0.503     0.565   \n",
       "1/precision    0.277     0.534     0.736     0.348     0.375     0.477   \n",
       "1/recall       0.762     0.716     0.770     0.869     0.762     0.693   \n",
       "1/support    294.000  1119.000  1455.000   405.000   877.000  1357.000   \n",
       "\n",
       "             label_13  label_14  label_15  label_16  label_17  label_18  \\\n",
       "1/f1-score      0.644     0.507     0.326     0.434     0.462     0.177   \n",
       "1/precision     0.609     0.381     0.202     0.292     0.330     0.103   \n",
       "1/recall        0.682     0.756     0.832     0.845     0.767     0.644   \n",
       "1/support    1922.000  1043.000   279.000   510.000   352.000   222.000   \n",
       "\n",
       "             label_19  label_20  label_21  label_22  label_23  label_24  \n",
       "1/f1-score      0.229     0.246     0.433     0.541     0.524     0.427  \n",
       "1/precision     0.134     0.153     0.293     0.388     0.376     0.288  \n",
       "1/recall        0.815     0.630     0.832     0.896     0.865     0.825  \n",
       "1/support     151.000   341.000   519.000   675.000   524.000   308.000  "
      ]
     },
     "metadata": {},
     "output_type": "display_data"
    },
    {
     "name": "stdout",
     "output_type": "stream",
     "text": [
      "Model Saved on  macro_roc_auc 0.8460961811673168\n"
     ]
    },
    {
     "data": {
      "application/vnd.jupyter.widget-view+json": {
       "model_id": "b782d76a33044809b4462db7c4ee8dc8",
       "version_major": 2,
       "version_minor": 0
      },
      "text/plain": [
       "HBox(children=(IntProgress(value=0, max=808), HTML(value='')))"
      ]
     },
     "metadata": {},
     "output_type": "display_data"
    },
    {
     "data": {
      "application/vnd.jupyter.widget-view+json": {
       "model_id": "7b979fc39f1b4725aa9c35f7e6b5ef04",
       "version_major": 2,
       "version_minor": 0
      },
      "text/plain": [
       "HBox(children=(IntProgress(value=0, max=141), HTML(value='')))"
      ]
     },
     "metadata": {},
     "output_type": "display_data"
    }
   ],
   "source": [
    "train_data = data.get_data('train', structured=True, encodings=data.structured_columns)\n",
    "dev_data = data.get_data('dev', structured=True, encodings=data.structured_columns)\n",
    "train_data = data.filter_data_length(train_data, truncate=90)\n",
    "dev_data = data.filter_data_length(dev_data, truncate=90)\n",
    "\n",
    "for e in structured_experiments :\n",
    "    for use_structured in [True, False] :\n",
    "        config = e(data, structured=use_structured, encodings=data.structured_columns)\n",
    "        print(config)\n",
    "\n",
    "        trainer = Trainer(BasicCT, config, _type='multilabel')\n",
    "        trainer.train(train_data, dev_data, save_on_metric='macro_roc_auc')\n",
    "\n",
    "        evaluator = Evaluator(BasicCT, trainer.model.dirname, _type='multilabel')\n",
    "        _ = evaluator.evaluate(dev_data, save_results=True)\n",
    "        print('='*30)"
   ]
  },
  {
   "cell_type": "code",
   "execution_count": null,
   "metadata": {},
   "outputs": [],
   "source": [
    "from PatientVec.models.baselines.LR import LR, LDA"
   ]
  },
  {
   "cell_type": "code",
   "execution_count": null,
   "metadata": {},
   "outputs": [],
   "source": [
    "lr = LR({'vocab' : data.vocab, 'stop_words' : True, 'exp_name' : data.name, 'type' : 'multilabel'})\n",
    "lr.train(train_data)\n",
    "lr.evaluate(dev_data, save_results=True)\n",
    "# lr.get_features(n=20)"
   ]
  },
  {
   "cell_type": "code",
   "execution_count": null,
   "metadata": {},
   "outputs": [],
   "source": [
    "lda = LDA({'vocab' : data.vocab, 'stop_words' : True, 'exp_name' : data.name, 'type' : 'multilabel'})\n",
    "lda.train(train_data)\n",
    "lda.evaluate(dev_data, save_results=True)\n",
    "# print(lda.get_topics(n=10))\n",
    "# topics = lda.get_topics(n=10)\n",
    "# print([topics[i] for i in np.argsort(lda.lda_classifier.coef_[0])])"
   ]
  },
  {
   "cell_type": "code",
   "execution_count": null,
   "metadata": {},
   "outputs": [],
   "source": [
    "[topics[i] for i in np.argsort(lda.lda_classifier.coef_[0])]"
   ]
  },
  {
   "cell_type": "code",
   "execution_count": null,
   "metadata": {},
   "outputs": [],
   "source": [
    "preds = outputs['predictions'][:, 0]"
   ]
  },
  {
   "cell_type": "code",
   "execution_count": null,
   "metadata": {},
   "outputs": [],
   "source": [
    "from common import collapse_and_print_word_attn, print_sent_attn"
   ]
  },
  {
   "cell_type": "code",
   "execution_count": null,
   "metadata": {},
   "outputs": [],
   "source": [
    "n = 50\n",
    "collapse_and_print_word_attn(data.vocab, dev_data.X[n], outputs['word_attentions'][n])\n",
    "print_sent_attn(data.vocab, dev_data.X[n], outputs['sentence_attentions'][n])"
   ]
  },
  {
   "cell_type": "code",
   "execution_count": null,
   "metadata": {},
   "outputs": [],
   "source": [
    "outputs['sentence_attentions'][0]"
   ]
  },
  {
   "cell_type": "code",
   "execution_count": null,
   "metadata": {},
   "outputs": [],
   "source": [
    "from scipy.stats import spearmanr, kendalltau"
   ]
  },
  {
   "cell_type": "code",
   "execution_count": null,
   "metadata": {},
   "outputs": [],
   "source": [
    "corrs = [kendalltau(range(len(outputs['sentence_attentions'][i])), outputs['sentence_attentions'][i]) \n",
    "         for i in range(len(outputs['sentence_attentions']))]"
   ]
  },
  {
   "cell_type": "code",
   "execution_count": null,
   "metadata": {},
   "outputs": [],
   "source": [
    "rho, leng = zip(*[(x[0], y) for x, y in zip(corrs, [len(z) for z in outputs['sentence_attentions']]) if x[0] == x[0]])"
   ]
  },
  {
   "cell_type": "code",
   "execution_count": null,
   "metadata": {},
   "outputs": [],
   "source": [
    "plt.hist(rho, bins=30)"
   ]
  },
  {
   "cell_type": "code",
   "execution_count": null,
   "metadata": {},
   "outputs": [],
   "source": [
    "pval, leng1 = zip(*[(x[1], y) for x, y in zip(corrs, [len(z) for z in outputs['sentence_attentions']]) if x[1] == x[1]])"
   ]
  },
  {
   "cell_type": "markdown",
   "metadata": {},
   "source": [
    "Saving Models\n",
    "=============="
   ]
  },
  {
   "cell_type": "code",
   "execution_count": null,
   "metadata": {},
   "outputs": [],
   "source": [
    "import os\n",
    "for e in experiments :\n",
    "    config = e(data, structured=False)\n",
    "    filename = config['exp_config']['exp_name']\n",
    "    filename = os.path.join('outputs/classification/', filename)\n",
    "    push_latest_model(filename, config['exp_config']['exp_name'])\n",
    "    \n",
    "    config = e(data, structured=True)\n",
    "    filename = config['exp_config']['exp_name']\n",
    "    filename = os.path.join('outputs/classification/', filename)\n",
    "    push_latest_model(filename, config['exp_config']['exp_name'])\n",
    "    \n",
    "# for e in hierarchical_experiments :\n",
    "#     config = e(data, structured=False)\n",
    "#     filename = config['exp_config']['exp_name']\n",
    "#     filename = os.path.join('outputs/hierarchical_classification/', filename)\n",
    "#     push_latest_model(filename, config['exp_config']['exp_name'])\n",
    "    \n",
    "#     config = e(data, structured=True)\n",
    "#     filename = config['exp_config']['exp_name']\n",
    "#     filename = os.path.join('outputs/hierarchical_classification/', filename)\n",
    "#     push_latest_model(filename, config['exp_config']['exp_name'])\n",
    "    \n",
    "# for e in structured_experiments :\n",
    "#     config = e(data, structured=True, encodings=['gender_y', 'ethnicity_y', 'age_y'])\n",
    "#     filename = config['exp_config']['exp_name']\n",
    "#     filename = os.path.join('outputs/classification/', filename)\n",
    "#     push_latest_model(filename, config['exp_config']['exp_name'])\n",
    "    \n",
    "#     config = e(data, structured=False, encodings=['gender_y', 'ethnicity_y', 'age_y'])\n",
    "#     filename = config['exp_config']['exp_name']\n",
    "#     filename = os.path.join('outputs/classification/', filename)\n",
    "#     push_latest_model(filename, config['exp_config']['exp_name'])\n",
    "    \n",
    "#     config = e(data, structured=True, encodings=data.structured_columns)\n",
    "#     filename = config['exp_config']['exp_name']\n",
    "#     filename = os.path.join('outputs/classification/', filename)\n",
    "#     push_latest_model(filename, config['exp_config']['exp_name'])\n",
    "    \n",
    "#     config = e(data, structured=False, encodings=data.structured_columns)\n",
    "#     filename = config['exp_config']['exp_name']\n",
    "#     filename = os.path.join('outputs/classification/', filename)\n",
    "#     push_latest_model(filename, config['exp_config']['exp_name'])\n",
    "    \n",
    "    \n",
    "for e in os.listdir('outputs/baselines/Diagnosis/baselines/') :\n",
    "    filename = os.path.join('outputs/baselines/Diagnosis/baselines/', e)\n",
    "    push_latest_model(filename, os.path.join('Diagnosis/baselines/', e))"
   ]
  },
  {
   "cell_type": "code",
   "execution_count": null,
   "metadata": {},
   "outputs": [],
   "source": [
    "dataset = 'Diagnosis'\n",
    "dataset_path = os.path.join('latex_evals', dataset)\n",
    "output_path = os.path.join('Text-encoding-EHR/results/', dataset)\n",
    "os.makedirs(output_path, exist_ok=True)"
   ]
  },
  {
   "cell_type": "code",
   "execution_count": null,
   "metadata": {},
   "outputs": [],
   "source": [
    "dirs = os.listdir(dataset_path)\n",
    "keys_to_use = ['macro_roc_auc', 'macro_pr_auc']\n",
    "for d in dirs :\n",
    "    subpath = os.path.join(dataset_path, d)\n",
    "    output_file = os.path.join(output_path, d + '.csv')\n",
    "    dfs = []\n",
    "    for f in sorted(os.listdir(subpath)) :\n",
    "        if os.path.isfile(os.path.join(subpath, f)) :\n",
    "            d = json.load(open(os.path.join(subpath, f)))\n",
    "            results = {k:d['results'][k] for k in keys_to_use}\n",
    "            results['Method'] = f[:-14].replace('+', ' +').replace('_', ':')\n",
    "            dfs.append(pd.DataFrame([results]))\n",
    "        else :\n",
    "            logging.error(\"%s not a file\", f)\n",
    "    \n",
    "    dfs = pd.concat(dfs)\n",
    "    dfs.to_csv(output_file, columns=['Method'] + keys_to_use, index=False)"
   ]
  },
  {
   "cell_type": "code",
   "execution_count": null,
   "metadata": {},
   "outputs": [],
   "source": []
  }
 ],
 "metadata": {
  "kernelspec": {
   "display_name": "Python 3",
   "language": "python",
   "name": "python3"
  },
  "language_info": {
   "codemirror_mode": {
    "name": "ipython",
    "version": 3
   },
   "file_extension": ".py",
   "mimetype": "text/x-python",
   "name": "python",
   "nbconvert_exporter": "python",
   "pygments_lexer": "ipython3",
   "version": "3.7.2"
  }
 },
 "nbformat": 4,
 "nbformat_minor": 2
}
