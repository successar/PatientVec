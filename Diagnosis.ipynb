{
 "cells": [
  {
   "cell_type": "code",
   "execution_count": 12,
   "metadata": {},
   "outputs": [
    {
     "name": "stdout",
     "output_type": "stream",
     "text": [
      "The autoreload extension is already loaded. To reload it, use:\n",
      "  %reload_ext autoreload\n"
     ]
    }
   ],
   "source": [
    "%load_ext autoreload\n",
    "%autoreload 2"
   ]
  },
  {
   "cell_type": "code",
   "execution_count": 13,
   "metadata": {},
   "outputs": [],
   "source": [
    "from dataloaders import diagnosis_dataset\n",
    "import numpy as np\n",
    "from common import *"
   ]
  },
  {
   "cell_type": "code",
   "execution_count": 14,
   "metadata": {},
   "outputs": [],
   "source": [
    "import argparse\n",
    "parser = argparse.ArgumentParser(description='Run Diagnosis experiments')\n",
    "parser.add_argument(\"--data_dir\", type=str, required=True)\n",
    "parser.add_argument('--display', dest='display', action='store_true')\n",
    "parser.add_argument(\"--output_dir\", type=str)\n",
    "parser.add_argument(\"--mock\", dest='mock', action='store_true')\n",
    "\n",
    "args = parser.parse_args(['--data_dir=.', '--output_dir=outputs/'])"
   ]
  },
  {
   "cell_type": "code",
   "execution_count": 15,
   "metadata": {},
   "outputs": [
    {
     "name": "stderr",
     "output_type": "stream",
     "text": [
      "INFO - 2019-02-25 15:58:18,622 - Reading Structured data ...\n",
      "INFO - 2019-02-25 15:58:19,102 - Reading Notes ...\n",
      "INFO - 2019-02-25 15:58:34,756 - Stratifying ...\n"
     ]
    }
   ],
   "source": [
    "data = diagnosis_dataset(args)"
   ]
  },
  {
   "cell_type": "code",
   "execution_count": 16,
   "metadata": {},
   "outputs": [
    {
     "name": "stdout",
     "output_type": "stream",
     "text": [
      "Better speed can be achieved with apex installed from https://www.github.com/nvidia/apex.\n"
     ]
    }
   ],
   "source": [
    "from PatientVec.models.baselines.LR import LR, LDA\n",
    "from PatientVec.Experiments.training_exps import get_basic_data"
   ]
  },
  {
   "cell_type": "code",
   "execution_count": 18,
   "metadata": {},
   "outputs": [
    {
     "name": "stdout",
     "output_type": "stream",
     "text": [
      "Pos Percentage [0.21358209 0.07716941 0.10244004 0.31971179 0.13028647 0.13014724\n",
      " 0.20870897 0.07160013 0.26850917 0.31939852 0.09485189 0.19033033\n",
      " 0.28253681 0.41581677 0.26697762 0.07180897 0.13039089 0.0897003\n",
      " 0.04953183 0.04076021 0.08917818 0.14152947 0.18249852 0.14615893\n",
      " 0.07797   ]\n"
     ]
    },
    {
     "name": "stderr",
     "output_type": "stream",
     "text": [
      "INFO - 2019-02-25 15:59:29,785 - Maximum Sentence Length 721825.000000 , 90 percentile length 16714.000000 ... \n",
      "INFO - 2019-02-25 15:59:49,130 - Truncated all ...\n"
     ]
    },
    {
     "name": "stdout",
     "output_type": "stream",
     "text": [
      "Pos Percentage [0.20548768 0.06969758 0.10194272 0.31744442 0.12237132 0.13458842\n",
      " 0.2032846  0.06649309 0.25776087 0.31484078 0.0929301  0.19587422\n",
      " 0.29541358 0.42339275 0.25475666 0.06789505 0.12096936 0.08531945\n",
      " 0.0530743  0.03745243 0.0817144  0.1327859  0.17684759 0.13198478\n",
      " 0.07790907]\n"
     ]
    },
    {
     "name": "stderr",
     "output_type": "stream",
     "text": [
      "INFO - 2019-02-25 15:59:50,656 - Maximum Sentence Length 407062.000000 , 90 percentile length 16420.000000 ... \n",
      "INFO - 2019-02-25 15:59:52,534 - Truncated all ...\n"
     ]
    }
   ],
   "source": [
    "train_data, dev_data = get_basic_data(data, truncate=90)"
   ]
  },
  {
   "cell_type": "code",
   "execution_count": null,
   "metadata": {},
   "outputs": [
    {
     "data": {
      "application/vnd.jupyter.widget-view+json": {
       "model_id": "c6de4319b0234402878ebdc091475d18",
       "version_major": 2,
       "version_minor": 0
      },
      "text/plain": [
       "HBox(children=(IntProgress(value=0, max=28729), HTML(value='')))"
      ]
     },
     "metadata": {},
     "output_type": "display_data"
    },
    {
     "name": "stdout",
     "output_type": "stream",
     "text": [
      "\n"
     ]
    },
    {
     "data": {
      "application/vnd.jupyter.widget-view+json": {
       "model_id": "52e4f71e1e8f4712ba054f652c00d702",
       "version_major": 2,
       "version_minor": 0
      },
      "text/plain": [
       "HBox(children=(IntProgress(value=0, max=28729), HTML(value='')))"
      ]
     },
     "metadata": {},
     "output_type": "display_data"
    },
    {
     "name": "stdout",
     "output_type": "stream",
     "text": [
      "\n"
     ]
    },
    {
     "data": {
      "application/vnd.jupyter.widget-view+json": {
       "model_id": "3b6e1404163d4e7b8d8b93d27fec5cfd",
       "version_major": 2,
       "version_minor": 0
      },
      "text/plain": [
       "HBox(children=(IntProgress(value=0, max=28729), HTML(value='')))"
      ]
     },
     "metadata": {},
     "output_type": "display_data"
    }
   ],
   "source": [
    "lr = LR({'vocab' : data.vocab, 'stop_words' : True, 'exp_name' : data.name, 'type' : 'multilabel', 'norm' : 'l2'})\n",
    "lr.train(train_data)\n",
    "lr.evaluate(dev_data, save_results=True)"
   ]
  },
  {
   "cell_type": "code",
   "execution_count": null,
   "metadata": {},
   "outputs": [],
   "source": [
    "for i in range(25) :\n",
    "    print(data.y_header[i], ':')\n",
    "    print(\" \".join(lr.get_features(lr.bow_classifier, estimator=i, n=20)))\n",
    "    print('-'*10)\n",
    "    print(\" \".join(lr.get_features(lr.tf_idf_classifier, estimator=i, n=20)))\n",
    "    print('-'*10)\n",
    "    print(\" \".join(lr.get_features(lr.bow_with_structured_classifier, estimator=i, n=20)))\n",
    "    print('-'*10)\n",
    "    print(\" \".join(lr.get_features(lr.tf_idf_with_structured_classifier, estimator=i, n=20)))\n",
    "    print('-'*10)\n",
    "\n",
    "    print('='*25)"
   ]
  },
  {
   "cell_type": "markdown",
   "metadata": {},
   "source": [
    "Saving Models\n",
    "=============="
   ]
  },
  {
   "cell_type": "code",
   "execution_count": null,
   "metadata": {},
   "outputs": [],
   "source": [
    "from common import generate_latex_tables\n",
    "keys_to_use = ['macro_roc_auc', 'macro_pr_auc']\n",
    "generate_latex_tables(data, keys_to_use)"
   ]
  },
  {
   "cell_type": "code",
   "execution_count": null,
   "metadata": {},
   "outputs": [],
   "source": []
  }
 ],
 "metadata": {
  "kernelspec": {
   "display_name": "Python 3",
   "language": "python",
   "name": "python3"
  },
  "language_info": {
   "codemirror_mode": {
    "name": "ipython",
    "version": 3
   },
   "file_extension": ".py",
   "mimetype": "text/x-python",
   "name": "python",
   "nbconvert_exporter": "python",
   "pygments_lexer": "ipython3",
   "version": "3.7.2"
  }
 },
 "nbformat": 4,
 "nbformat_minor": 2
}
